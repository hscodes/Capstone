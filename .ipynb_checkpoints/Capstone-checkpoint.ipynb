{
 "cells": [
  {
   "cell_type": "markdown",
   "metadata": {},
   "source": [
    "# Fake News through Stance Detection"
   ]
  },
  {
   "cell_type": "markdown",
   "metadata": {},
   "source": [
    "## Problem"
   ]
  },
  {
   "cell_type": "markdown",
   "metadata": {},
   "source": [
    "Detecting whether an article is Fake News using Stance Detection. Stance detection takes a headline and body text of an article and classifies the stance of the body text relative to headline. "
   ]
  },
  {
   "cell_type": "markdown",
   "metadata": {},
   "source": [
    "### Imports"
   ]
  },
  {
   "cell_type": "code",
   "execution_count": 2,
   "metadata": {},
   "outputs": [
    {
     "name": "stderr",
     "output_type": "stream",
     "text": [
      "/anaconda3/envs/dsi/lib/python3.6/site-packages/sklearn/cross_validation.py:41: DeprecationWarning: This module was deprecated in version 0.18 in favor of the model_selection module into which all the refactored classes and functions are moved. Also note that the interface of the new CV iterators are different from that of this module. This module will be removed in 0.20.\n",
      "  \"This module will be removed in 0.20.\", DeprecationWarning)\n"
     ]
    }
   ],
   "source": [
    "#Loading libraries\n",
    "import pandas as pd \n",
    "\n",
    "import os\n",
    "import re\n",
    "import nltk\n",
    "from sklearn import feature_extraction\n",
    "from tqdm import tqdm\n",
    "\n",
    "\n",
    "import numpy as np\n",
    "import matplotlib.pyplot as plt\n",
    "%matplotlib inline\n",
    "\n",
    "from sklearn.feature_extraction.text import CountVectorizer, HashingVectorizer, TfidfVectorizer\n",
    "from sklearn.linear_model import LogisticRegression\n",
    "\n",
    "# NLTK\n",
    "from nltk.tokenize import RegexpTokenizer\n",
    "from nltk.stem import PorterStemmer\n",
    "from nltk.corpus import stopwords\n",
    "import re\n",
    "\n",
    "# Visualization\n",
    "import matplotlib.pyplot as plt\n",
    "import matplotlib.patches as mpatches\n",
    "import matplotlib\n",
    "%matplotlib inline\n",
    "import seaborn as sns\n",
    "from nltk.stem import WordNetLemmatizer\n",
    "\n",
    "from gensim.models.word2vec import Word2Vec\n",
    "from collections import Counter, defaultdict\n",
    "from sklearn.feature_extraction.text import CountVectorizer\n",
    "from sklearn.feature_extraction.text import TfidfVectorizer\n",
    "from sklearn.ensemble import BaggingClassifier, RandomForestClassifier, ExtraTreesClassifier\n",
    "from sklearn.naive_bayes import BernoulliNB, MultinomialNB\n",
    "from sklearn.pipeline import Pipeline\n",
    "from sklearn.svm import SVC\n",
    "from sklearn.metrics import accuracy_score\n",
    "from sklearn.model_selection import cross_val_score\n",
    "from sklearn.cross_validation import StratifiedShuffleSplit"
   ]
  },
  {
   "cell_type": "code",
   "execution_count": 82,
   "metadata": {},
   "outputs": [],
   "source": [
    "bodies = pd.read_csv('./train_bodies.csv')\n",
    "stances = pd.read_csv('./train_stances.csv')\n"
   ]
  },
  {
   "cell_type": "markdown",
   "metadata": {},
   "source": [
    "## EDA"
   ]
  },
  {
   "cell_type": "code",
   "execution_count": 83,
   "metadata": {
    "scrolled": false
   },
   "outputs": [
    {
     "data": {
      "text/html": [
       "<div>\n",
       "<style scoped>\n",
       "    .dataframe tbody tr th:only-of-type {\n",
       "        vertical-align: middle;\n",
       "    }\n",
       "\n",
       "    .dataframe tbody tr th {\n",
       "        vertical-align: top;\n",
       "    }\n",
       "\n",
       "    .dataframe thead th {\n",
       "        text-align: right;\n",
       "    }\n",
       "</style>\n",
       "<table border=\"1\" class=\"dataframe\">\n",
       "  <thead>\n",
       "    <tr style=\"text-align: right;\">\n",
       "      <th></th>\n",
       "      <th>Body ID</th>\n",
       "      <th>articleBody</th>\n",
       "    </tr>\n",
       "  </thead>\n",
       "  <tbody>\n",
       "    <tr>\n",
       "      <th>0</th>\n",
       "      <td>0</td>\n",
       "      <td>A small meteorite crashed into a wooded area i...</td>\n",
       "    </tr>\n",
       "    <tr>\n",
       "      <th>1</th>\n",
       "      <td>4</td>\n",
       "      <td>Last week we hinted at what was to come as Ebo...</td>\n",
       "    </tr>\n",
       "    <tr>\n",
       "      <th>2</th>\n",
       "      <td>5</td>\n",
       "      <td>(NEWSER) – Wonder how long a Quarter Pounder w...</td>\n",
       "    </tr>\n",
       "    <tr>\n",
       "      <th>3</th>\n",
       "      <td>6</td>\n",
       "      <td>Posting photos of a gun-toting child online, I...</td>\n",
       "    </tr>\n",
       "    <tr>\n",
       "      <th>4</th>\n",
       "      <td>7</td>\n",
       "      <td>At least 25 suspected Boko Haram insurgents we...</td>\n",
       "    </tr>\n",
       "  </tbody>\n",
       "</table>\n",
       "</div>"
      ],
      "text/plain": [
       "   Body ID                                        articleBody\n",
       "0        0  A small meteorite crashed into a wooded area i...\n",
       "1        4  Last week we hinted at what was to come as Ebo...\n",
       "2        5  (NEWSER) – Wonder how long a Quarter Pounder w...\n",
       "3        6  Posting photos of a gun-toting child online, I...\n",
       "4        7  At least 25 suspected Boko Haram insurgents we..."
      ]
     },
     "execution_count": 83,
     "metadata": {},
     "output_type": "execute_result"
    }
   ],
   "source": [
    "bodies.head()"
   ]
  },
  {
   "cell_type": "code",
   "execution_count": 84,
   "metadata": {
    "scrolled": true
   },
   "outputs": [
    {
     "data": {
      "text/html": [
       "<div>\n",
       "<style scoped>\n",
       "    .dataframe tbody tr th:only-of-type {\n",
       "        vertical-align: middle;\n",
       "    }\n",
       "\n",
       "    .dataframe tbody tr th {\n",
       "        vertical-align: top;\n",
       "    }\n",
       "\n",
       "    .dataframe thead th {\n",
       "        text-align: right;\n",
       "    }\n",
       "</style>\n",
       "<table border=\"1\" class=\"dataframe\">\n",
       "  <thead>\n",
       "    <tr style=\"text-align: right;\">\n",
       "      <th></th>\n",
       "      <th>Headline</th>\n",
       "      <th>Body ID</th>\n",
       "      <th>Stance</th>\n",
       "    </tr>\n",
       "  </thead>\n",
       "  <tbody>\n",
       "    <tr>\n",
       "      <th>0</th>\n",
       "      <td>Police find mass graves with at least '15 bodi...</td>\n",
       "      <td>712</td>\n",
       "      <td>unrelated</td>\n",
       "    </tr>\n",
       "    <tr>\n",
       "      <th>1</th>\n",
       "      <td>Hundreds of Palestinians flee floods in Gaza a...</td>\n",
       "      <td>158</td>\n",
       "      <td>agree</td>\n",
       "    </tr>\n",
       "    <tr>\n",
       "      <th>2</th>\n",
       "      <td>Christian Bale passes on role of Steve Jobs, a...</td>\n",
       "      <td>137</td>\n",
       "      <td>unrelated</td>\n",
       "    </tr>\n",
       "    <tr>\n",
       "      <th>3</th>\n",
       "      <td>HBO and Apple in Talks for $15/Month Apple TV ...</td>\n",
       "      <td>1034</td>\n",
       "      <td>unrelated</td>\n",
       "    </tr>\n",
       "    <tr>\n",
       "      <th>4</th>\n",
       "      <td>Spider burrowed through tourist's stomach and ...</td>\n",
       "      <td>1923</td>\n",
       "      <td>disagree</td>\n",
       "    </tr>\n",
       "  </tbody>\n",
       "</table>\n",
       "</div>"
      ],
      "text/plain": [
       "                                            Headline  Body ID     Stance\n",
       "0  Police find mass graves with at least '15 bodi...      712  unrelated\n",
       "1  Hundreds of Palestinians flee floods in Gaza a...      158      agree\n",
       "2  Christian Bale passes on role of Steve Jobs, a...      137  unrelated\n",
       "3  HBO and Apple in Talks for $15/Month Apple TV ...     1034  unrelated\n",
       "4  Spider burrowed through tourist's stomach and ...     1923   disagree"
      ]
     },
     "execution_count": 84,
     "metadata": {},
     "output_type": "execute_result"
    }
   ],
   "source": [
    "stances.head()"
   ]
  },
  {
   "cell_type": "code",
   "execution_count": 85,
   "metadata": {},
   "outputs": [
    {
     "data": {
      "text/plain": [
       "array(['unrelated', 'agree', 'disagree', 'discuss'], dtype=object)"
      ]
     },
     "execution_count": 85,
     "metadata": {},
     "output_type": "execute_result"
    }
   ],
   "source": [
    "stances['Stance'].unique()"
   ]
  },
  {
   "cell_type": "markdown",
   "metadata": {},
   "source": [
    "4 Classes within the stances: unrelated, agree, disagree, and discuss. "
   ]
  },
  {
   "cell_type": "code",
   "execution_count": 86,
   "metadata": {
    "scrolled": false
   },
   "outputs": [
    {
     "data": {
      "text/plain": [
       "Body ID        0\n",
       "articleBody    0\n",
       "dtype: int64"
      ]
     },
     "execution_count": 86,
     "metadata": {},
     "output_type": "execute_result"
    }
   ],
   "source": [
    "bodies.isnull().sum()"
   ]
  },
  {
   "cell_type": "code",
   "execution_count": 87,
   "metadata": {
    "scrolled": false
   },
   "outputs": [
    {
     "data": {
      "text/plain": [
       "Headline    0\n",
       "Body ID     0\n",
       "Stance      0\n",
       "dtype: int64"
      ]
     },
     "execution_count": 87,
     "metadata": {},
     "output_type": "execute_result"
    }
   ],
   "source": [
    "stances.isnull().sum()"
   ]
  },
  {
   "cell_type": "markdown",
   "metadata": {},
   "source": [
    "Checking for nulls within the datasets. "
   ]
  },
  {
   "cell_type": "code",
   "execution_count": 88,
   "metadata": {},
   "outputs": [
    {
     "name": "stdout",
     "output_type": "stream",
     "text": [
      "<class 'pandas.core.frame.DataFrame'>\n",
      "RangeIndex: 1683 entries, 0 to 1682\n",
      "Data columns (total 2 columns):\n",
      "Body ID        1683 non-null int64\n",
      "articleBody    1683 non-null object\n",
      "dtypes: int64(1), object(1)\n",
      "memory usage: 26.4+ KB\n"
     ]
    }
   ],
   "source": [
    "bodies.info()"
   ]
  },
  {
   "cell_type": "code",
   "execution_count": 89,
   "metadata": {
    "scrolled": true
   },
   "outputs": [
    {
     "name": "stdout",
     "output_type": "stream",
     "text": [
      "<class 'pandas.core.frame.DataFrame'>\n",
      "RangeIndex: 49972 entries, 0 to 49971\n",
      "Data columns (total 3 columns):\n",
      "Headline    49972 non-null object\n",
      "Body ID     49972 non-null int64\n",
      "Stance      49972 non-null object\n",
      "dtypes: int64(1), object(2)\n",
      "memory usage: 1.1+ MB\n"
     ]
    }
   ],
   "source": [
    "stances.info()"
   ]
  },
  {
   "cell_type": "markdown",
   "metadata": {},
   "source": [
    "Checking for types of data. "
   ]
  },
  {
   "cell_type": "code",
   "execution_count": 90,
   "metadata": {
    "scrolled": false
   },
   "outputs": [
    {
     "name": "stdout",
     "output_type": "stream",
     "text": [
      "Total stances: 49972\n",
      "Total article bodies: 1683\n"
     ]
    }
   ],
   "source": [
    "print(\"Total stances: \" + str(len(stances.Stance)))\n",
    "print(\"Total article bodies: \" + str(len(bodies.articleBody)))"
   ]
  },
  {
   "cell_type": "code",
   "execution_count": 91,
   "metadata": {},
   "outputs": [
    {
     "data": {
      "text/html": [
       "<div>\n",
       "<style scoped>\n",
       "    .dataframe tbody tr th:only-of-type {\n",
       "        vertical-align: middle;\n",
       "    }\n",
       "\n",
       "    .dataframe tbody tr th {\n",
       "        vertical-align: top;\n",
       "    }\n",
       "\n",
       "    .dataframe thead th {\n",
       "        text-align: right;\n",
       "    }\n",
       "</style>\n",
       "<table border=\"1\" class=\"dataframe\">\n",
       "  <thead>\n",
       "    <tr style=\"text-align: right;\">\n",
       "      <th></th>\n",
       "      <th>Headline</th>\n",
       "      <th>Body ID</th>\n",
       "      <th>Stance</th>\n",
       "    </tr>\n",
       "  </thead>\n",
       "  <tbody>\n",
       "    <tr>\n",
       "      <th>0</th>\n",
       "      <td>Police find mass graves with at least '15 bodi...</td>\n",
       "      <td>712</td>\n",
       "      <td>unrelated</td>\n",
       "    </tr>\n",
       "    <tr>\n",
       "      <th>1787</th>\n",
       "      <td>Seth Rogen to Play Apple’s Steve Wozniak</td>\n",
       "      <td>712</td>\n",
       "      <td>discuss</td>\n",
       "    </tr>\n",
       "    <tr>\n",
       "      <th>3974</th>\n",
       "      <td>Mexico police find mass grave near site 43 stu...</td>\n",
       "      <td>712</td>\n",
       "      <td>unrelated</td>\n",
       "    </tr>\n",
       "    <tr>\n",
       "      <th>4936</th>\n",
       "      <td>Mexico Says Missing Students Not Found In Firs...</td>\n",
       "      <td>712</td>\n",
       "      <td>unrelated</td>\n",
       "    </tr>\n",
       "    <tr>\n",
       "      <th>5210</th>\n",
       "      <td>New iOS 8 bug can delete all of your iCloud do...</td>\n",
       "      <td>712</td>\n",
       "      <td>unrelated</td>\n",
       "    </tr>\n",
       "    <tr>\n",
       "      <th>5863</th>\n",
       "      <td>Return of the Mac: Seth Rogen in talks to star...</td>\n",
       "      <td>712</td>\n",
       "      <td>discuss</td>\n",
       "    </tr>\n",
       "    <tr>\n",
       "      <th>6199</th>\n",
       "      <td>Seth Rogen Is Woz</td>\n",
       "      <td>712</td>\n",
       "      <td>discuss</td>\n",
       "    </tr>\n",
       "    <tr>\n",
       "      <th>6756</th>\n",
       "      <td>Mexico finds 4 more graves at site of suspecte...</td>\n",
       "      <td>712</td>\n",
       "      <td>unrelated</td>\n",
       "    </tr>\n",
       "    <tr>\n",
       "      <th>7526</th>\n",
       "      <td>Are missing students in mass graves found near...</td>\n",
       "      <td>712</td>\n",
       "      <td>unrelated</td>\n",
       "    </tr>\n",
       "    <tr>\n",
       "      <th>9003</th>\n",
       "      <td>Mexico prosecutor: Students not in 1st mass gr...</td>\n",
       "      <td>712</td>\n",
       "      <td>unrelated</td>\n",
       "    </tr>\n",
       "    <tr>\n",
       "      <th>10036</th>\n",
       "      <td>Lady on FB: I'm 41, Intersex, and Fucked Micha...</td>\n",
       "      <td>712</td>\n",
       "      <td>unrelated</td>\n",
       "    </tr>\n",
       "    <tr>\n",
       "      <th>10780</th>\n",
       "      <td>Catholic Priest Claims God Is Female After Cli...</td>\n",
       "      <td>712</td>\n",
       "      <td>unrelated</td>\n",
       "    </tr>\n",
       "    <tr>\n",
       "      <th>11687</th>\n",
       "      <td>Isis claims US hostage Kayla Mueller killed in...</td>\n",
       "      <td>712</td>\n",
       "      <td>unrelated</td>\n",
       "    </tr>\n",
       "    <tr>\n",
       "      <th>11864</th>\n",
       "      <td>Gold Apple Watch Edition price? Speculators sa...</td>\n",
       "      <td>712</td>\n",
       "      <td>unrelated</td>\n",
       "    </tr>\n",
       "    <tr>\n",
       "      <th>15746</th>\n",
       "      <td>Mexican students not among bodies found in mas...</td>\n",
       "      <td>712</td>\n",
       "      <td>unrelated</td>\n",
       "    </tr>\n",
       "    <tr>\n",
       "      <th>21620</th>\n",
       "      <td>Steve Jobs Biopic Eyes Seth Rogen to Play Appl...</td>\n",
       "      <td>712</td>\n",
       "      <td>discuss</td>\n",
       "    </tr>\n",
       "    <tr>\n",
       "      <th>21712</th>\n",
       "      <td>Missing Mexico students not among 28 bodies fo...</td>\n",
       "      <td>712</td>\n",
       "      <td>unrelated</td>\n",
       "    </tr>\n",
       "    <tr>\n",
       "      <th>21928</th>\n",
       "      <td>Taylor Lianne Chandler: Everything you need to...</td>\n",
       "      <td>712</td>\n",
       "      <td>unrelated</td>\n",
       "    </tr>\n",
       "    <tr>\n",
       "      <th>22100</th>\n",
       "      <td>Mexican cartel leader kills self; bodies in gr...</td>\n",
       "      <td>712</td>\n",
       "      <td>unrelated</td>\n",
       "    </tr>\n",
       "    <tr>\n",
       "      <th>25006</th>\n",
       "      <td>Bodies In Mexico Mass Grave Apparently Not Tho...</td>\n",
       "      <td>712</td>\n",
       "      <td>unrelated</td>\n",
       "    </tr>\n",
       "    <tr>\n",
       "      <th>25492</th>\n",
       "      <td>Seth Rogen Eyed to Play Apple's Steve Wozniak ...</td>\n",
       "      <td>712</td>\n",
       "      <td>discuss</td>\n",
       "    </tr>\n",
       "    <tr>\n",
       "      <th>25616</th>\n",
       "      <td>Mexican investigators fear mass grave might ho...</td>\n",
       "      <td>712</td>\n",
       "      <td>unrelated</td>\n",
       "    </tr>\n",
       "    <tr>\n",
       "      <th>26260</th>\n",
       "      <td>6 hidden mass graves may hold missing Mexican ...</td>\n",
       "      <td>712</td>\n",
       "      <td>unrelated</td>\n",
       "    </tr>\n",
       "    <tr>\n",
       "      <th>26398</th>\n",
       "      <td>Mass grave found after 40 students disappear i...</td>\n",
       "      <td>712</td>\n",
       "      <td>unrelated</td>\n",
       "    </tr>\n",
       "    <tr>\n",
       "      <th>27200</th>\n",
       "      <td>Mexico Student Massacre Update: More Graves Di...</td>\n",
       "      <td>712</td>\n",
       "      <td>unrelated</td>\n",
       "    </tr>\n",
       "    <tr>\n",
       "      <th>29988</th>\n",
       "      <td>Seth Rogen To Play Steve Wozniak In Steve Jobs...</td>\n",
       "      <td>712</td>\n",
       "      <td>discuss</td>\n",
       "    </tr>\n",
       "    <tr>\n",
       "      <th>33683</th>\n",
       "      <td>Taylor Lianne Chandler: Michael Phelps' Cougar...</td>\n",
       "      <td>712</td>\n",
       "      <td>unrelated</td>\n",
       "    </tr>\n",
       "    <tr>\n",
       "      <th>37095</th>\n",
       "      <td>Newly Discovered Mass Grave Linked to Missing ...</td>\n",
       "      <td>712</td>\n",
       "      <td>unrelated</td>\n",
       "    </tr>\n",
       "    <tr>\n",
       "      <th>38326</th>\n",
       "      <td>Michael Phelps' self-proclaimed 'girlfriend', ...</td>\n",
       "      <td>712</td>\n",
       "      <td>unrelated</td>\n",
       "    </tr>\n",
       "    <tr>\n",
       "      <th>41035</th>\n",
       "      <td>Missing Mexican students 'not found in mass gr...</td>\n",
       "      <td>712</td>\n",
       "      <td>unrelated</td>\n",
       "    </tr>\n",
       "    <tr>\n",
       "      <th>42776</th>\n",
       "      <td>Mexico checks if 43 missing students in mass g...</td>\n",
       "      <td>712</td>\n",
       "      <td>unrelated</td>\n",
       "    </tr>\n",
       "    <tr>\n",
       "      <th>43897</th>\n",
       "      <td>Rumor: Seth Rogen to Appear as Woz in Sony's S...</td>\n",
       "      <td>712</td>\n",
       "      <td>discuss</td>\n",
       "    </tr>\n",
       "    <tr>\n",
       "      <th>44978</th>\n",
       "      <td>This Powerful Cartoon About The Charlie Hebdo ...</td>\n",
       "      <td>712</td>\n",
       "      <td>unrelated</td>\n",
       "    </tr>\n",
       "    <tr>\n",
       "      <th>45222</th>\n",
       "      <td>Mexico Says Students Not Among Dead in Mass Grave</td>\n",
       "      <td>712</td>\n",
       "      <td>unrelated</td>\n",
       "    </tr>\n",
       "    <tr>\n",
       "      <th>45579</th>\n",
       "      <td>Mexico hit by student massacre: At least 17 an...</td>\n",
       "      <td>712</td>\n",
       "      <td>unrelated</td>\n",
       "    </tr>\n",
       "    <tr>\n",
       "      <th>46530</th>\n",
       "      <td>Seth Rogen to Star as Steve Wozniak in Sony's ...</td>\n",
       "      <td>712</td>\n",
       "      <td>discuss</td>\n",
       "    </tr>\n",
       "    <tr>\n",
       "      <th>47712</th>\n",
       "      <td>Michael Phelps’ alleged girlfriend says she wa...</td>\n",
       "      <td>712</td>\n",
       "      <td>unrelated</td>\n",
       "    </tr>\n",
       "    <tr>\n",
       "      <th>47850</th>\n",
       "      <td>Mass Graves Found In Mexico, Near Place Where ...</td>\n",
       "      <td>712</td>\n",
       "      <td>unrelated</td>\n",
       "    </tr>\n",
       "    <tr>\n",
       "      <th>48228</th>\n",
       "      <td>A Mass Grave Points to a Student Massacre in M...</td>\n",
       "      <td>712</td>\n",
       "      <td>unrelated</td>\n",
       "    </tr>\n",
       "  </tbody>\n",
       "</table>\n",
       "</div>"
      ],
      "text/plain": [
       "                                                Headline  Body ID     Stance\n",
       "0      Police find mass graves with at least '15 bodi...      712  unrelated\n",
       "1787            Seth Rogen to Play Apple’s Steve Wozniak      712    discuss\n",
       "3974   Mexico police find mass grave near site 43 stu...      712  unrelated\n",
       "4936   Mexico Says Missing Students Not Found In Firs...      712  unrelated\n",
       "5210   New iOS 8 bug can delete all of your iCloud do...      712  unrelated\n",
       "5863   Return of the Mac: Seth Rogen in talks to star...      712    discuss\n",
       "6199                                   Seth Rogen Is Woz      712    discuss\n",
       "6756   Mexico finds 4 more graves at site of suspecte...      712  unrelated\n",
       "7526   Are missing students in mass graves found near...      712  unrelated\n",
       "9003   Mexico prosecutor: Students not in 1st mass gr...      712  unrelated\n",
       "10036  Lady on FB: I'm 41, Intersex, and Fucked Micha...      712  unrelated\n",
       "10780  Catholic Priest Claims God Is Female After Cli...      712  unrelated\n",
       "11687  Isis claims US hostage Kayla Mueller killed in...      712  unrelated\n",
       "11864  Gold Apple Watch Edition price? Speculators sa...      712  unrelated\n",
       "15746  Mexican students not among bodies found in mas...      712  unrelated\n",
       "21620  Steve Jobs Biopic Eyes Seth Rogen to Play Appl...      712    discuss\n",
       "21712  Missing Mexico students not among 28 bodies fo...      712  unrelated\n",
       "21928  Taylor Lianne Chandler: Everything you need to...      712  unrelated\n",
       "22100  Mexican cartel leader kills self; bodies in gr...      712  unrelated\n",
       "25006  Bodies In Mexico Mass Grave Apparently Not Tho...      712  unrelated\n",
       "25492  Seth Rogen Eyed to Play Apple's Steve Wozniak ...      712    discuss\n",
       "25616  Mexican investigators fear mass grave might ho...      712  unrelated\n",
       "26260  6 hidden mass graves may hold missing Mexican ...      712  unrelated\n",
       "26398  Mass grave found after 40 students disappear i...      712  unrelated\n",
       "27200  Mexico Student Massacre Update: More Graves Di...      712  unrelated\n",
       "29988  Seth Rogen To Play Steve Wozniak In Steve Jobs...      712    discuss\n",
       "33683  Taylor Lianne Chandler: Michael Phelps' Cougar...      712  unrelated\n",
       "37095  Newly Discovered Mass Grave Linked to Missing ...      712  unrelated\n",
       "38326  Michael Phelps' self-proclaimed 'girlfriend', ...      712  unrelated\n",
       "41035  Missing Mexican students 'not found in mass gr...      712  unrelated\n",
       "42776  Mexico checks if 43 missing students in mass g...      712  unrelated\n",
       "43897  Rumor: Seth Rogen to Appear as Woz in Sony's S...      712    discuss\n",
       "44978  This Powerful Cartoon About The Charlie Hebdo ...      712  unrelated\n",
       "45222  Mexico Says Students Not Among Dead in Mass Grave      712  unrelated\n",
       "45579  Mexico hit by student massacre: At least 17 an...      712  unrelated\n",
       "46530  Seth Rogen to Star as Steve Wozniak in Sony's ...      712    discuss\n",
       "47712  Michael Phelps’ alleged girlfriend says she wa...      712  unrelated\n",
       "47850  Mass Graves Found In Mexico, Near Place Where ...      712  unrelated\n",
       "48228  A Mass Grave Points to a Student Massacre in M...      712  unrelated"
      ]
     },
     "execution_count": 91,
     "metadata": {},
     "output_type": "execute_result"
    }
   ],
   "source": [
    "stances[stances['Body ID'] == 712]"
   ]
  },
  {
   "cell_type": "markdown",
   "metadata": {},
   "source": [
    "There are many more stances than there are article bodies. This means that there are many articles that are being used with different headlines. "
   ]
  },
  {
   "cell_type": "code",
   "execution_count": 92,
   "metadata": {
    "scrolled": true
   },
   "outputs": [
    {
     "data": {
      "text/html": [
       "<div>\n",
       "<style scoped>\n",
       "    .dataframe tbody tr th:only-of-type {\n",
       "        vertical-align: middle;\n",
       "    }\n",
       "\n",
       "    .dataframe tbody tr th {\n",
       "        vertical-align: top;\n",
       "    }\n",
       "\n",
       "    .dataframe thead th {\n",
       "        text-align: right;\n",
       "    }\n",
       "</style>\n",
       "<table border=\"1\" class=\"dataframe\">\n",
       "  <thead>\n",
       "    <tr style=\"text-align: right;\">\n",
       "      <th></th>\n",
       "      <th>Headline</th>\n",
       "      <th>Body ID</th>\n",
       "      <th>Stance</th>\n",
       "      <th>articleBody</th>\n",
       "    </tr>\n",
       "  </thead>\n",
       "  <tbody>\n",
       "    <tr>\n",
       "      <th>0</th>\n",
       "      <td>Police find mass graves with at least '15 bodi...</td>\n",
       "      <td>712</td>\n",
       "      <td>unrelated</td>\n",
       "      <td>Danny Boyle is directing the untitled film\\n\\n...</td>\n",
       "    </tr>\n",
       "    <tr>\n",
       "      <th>1</th>\n",
       "      <td>Seth Rogen to Play Apple’s Steve Wozniak</td>\n",
       "      <td>712</td>\n",
       "      <td>discuss</td>\n",
       "      <td>Danny Boyle is directing the untitled film\\n\\n...</td>\n",
       "    </tr>\n",
       "    <tr>\n",
       "      <th>2</th>\n",
       "      <td>Mexico police find mass grave near site 43 stu...</td>\n",
       "      <td>712</td>\n",
       "      <td>unrelated</td>\n",
       "      <td>Danny Boyle is directing the untitled film\\n\\n...</td>\n",
       "    </tr>\n",
       "    <tr>\n",
       "      <th>3</th>\n",
       "      <td>Mexico Says Missing Students Not Found In Firs...</td>\n",
       "      <td>712</td>\n",
       "      <td>unrelated</td>\n",
       "      <td>Danny Boyle is directing the untitled film\\n\\n...</td>\n",
       "    </tr>\n",
       "    <tr>\n",
       "      <th>4</th>\n",
       "      <td>New iOS 8 bug can delete all of your iCloud do...</td>\n",
       "      <td>712</td>\n",
       "      <td>unrelated</td>\n",
       "      <td>Danny Boyle is directing the untitled film\\n\\n...</td>\n",
       "    </tr>\n",
       "  </tbody>\n",
       "</table>\n",
       "</div>"
      ],
      "text/plain": [
       "                                            Headline  Body ID     Stance  \\\n",
       "0  Police find mass graves with at least '15 bodi...      712  unrelated   \n",
       "1           Seth Rogen to Play Apple’s Steve Wozniak      712    discuss   \n",
       "2  Mexico police find mass grave near site 43 stu...      712  unrelated   \n",
       "3  Mexico Says Missing Students Not Found In Firs...      712  unrelated   \n",
       "4  New iOS 8 bug can delete all of your iCloud do...      712  unrelated   \n",
       "\n",
       "                                         articleBody  \n",
       "0  Danny Boyle is directing the untitled film\\n\\n...  \n",
       "1  Danny Boyle is directing the untitled film\\n\\n...  \n",
       "2  Danny Boyle is directing the untitled film\\n\\n...  \n",
       "3  Danny Boyle is directing the untitled film\\n\\n...  \n",
       "4  Danny Boyle is directing the untitled film\\n\\n...  "
      ]
     },
     "execution_count": 92,
     "metadata": {},
     "output_type": "execute_result"
    }
   ],
   "source": [
    "df_all = stances.merge(bodies, on = 'Body ID')\n",
    "df_all.head()"
   ]
  },
  {
   "cell_type": "markdown",
   "metadata": {},
   "source": [
    "Merging together the datasets on the Body ID. "
   ]
  },
  {
   "cell_type": "code",
   "execution_count": 93,
   "metadata": {
    "scrolled": true
   },
   "outputs": [
    {
     "data": {
      "text/plain": [
       "(49972, 4)"
      ]
     },
     "execution_count": 93,
     "metadata": {},
     "output_type": "execute_result"
    }
   ],
   "source": [
    "df_all.shape"
   ]
  },
  {
   "cell_type": "markdown",
   "metadata": {},
   "source": [
    "## Baseline"
   ]
  },
  {
   "cell_type": "code",
   "execution_count": 94,
   "metadata": {
    "scrolled": true
   },
   "outputs": [
    {
     "data": {
      "text/plain": [
       "unrelated    0.731310\n",
       "discuss      0.178280\n",
       "agree        0.073601\n",
       "disagree     0.016809\n",
       "Name: Stance, dtype: float64"
      ]
     },
     "execution_count": 94,
     "metadata": {},
     "output_type": "execute_result"
    }
   ],
   "source": [
    "stances['Stance'].value_counts(normalize=True)"
   ]
  },
  {
   "cell_type": "markdown",
   "metadata": {},
   "source": [
    "Our baseline class is 0.731710. This is going to be the score we aim to do better than. "
   ]
  },
  {
   "cell_type": "code",
   "execution_count": 95,
   "metadata": {},
   "outputs": [
    {
     "name": "stderr",
     "output_type": "stream",
     "text": [
      "/anaconda3/envs/dsi/lib/python3.6/site-packages/seaborn/categorical.py:342: DeprecationWarning: pandas.core.common.is_categorical_dtype is deprecated. import from the public API: pandas.api.types.is_categorical_dtype instead\n",
      "  elif is_categorical(y):\n",
      "/anaconda3/envs/dsi/lib/python3.6/site-packages/seaborn/categorical.py:1428: FutureWarning: remove_na is deprecated and is a private function. Do not use.\n",
      "  stat_data = remove_na(group_data)\n"
     ]
    },
    {
     "data": {
      "image/png": "[encoded data removed]",
      "text/plain": [
       "<Figure size 432x288 with 1 Axes>"
      ]
     },
     "metadata": {},
     "output_type": "display_data"
    }
   ],
   "source": [
    "class_balance = stances['Stance'].value_counts()\n",
    "sns.barplot(['Unrelated','Discuss', 'Agree', 'Disagree'], class_balance)\n",
    "plt.ylabel('Articles')\n",
    "plt.title('Stances');"
   ]
  },
  {
   "cell_type": "markdown",
   "metadata": {},
   "source": [
    "# Natural Language Processing"
   ]
  },
  {
   "cell_type": "markdown",
   "metadata": {},
   "source": [
    "## Count Vectorizer\n",
    "\n",
    "Count vectorizer converts by text into a matrix of token counts. I recieve a sparse matrix from this which makes it easier to create a model. "
   ]
  },
  {
   "cell_type": "code",
   "execution_count": 96,
   "metadata": {},
   "outputs": [
    {
     "data": {
      "text/plain": [
       "0.7320899703834147"
      ]
     },
     "execution_count": 96,
     "metadata": {},
     "output_type": "execute_result"
    }
   ],
   "source": [
    "#body\n",
    "X_train = df_all[['articleBody']]\n",
    "y_train = stances['Stance']\n",
    "X_test = df_all[['articleBody']]\n",
    "y_test = stances['Stance']\n",
    "\n",
    "cvec_body = CountVectorizer(stop_words = 'english')\n",
    "\n",
    "train_body_cvec = cvec_body.fit_transform(X_train['articleBody'])\n",
    "test_body_cvec = cvec_body.transform(X_test['articleBody'])\n",
    "\n",
    "lr = LogisticRegression()\n",
    "lr.fit(train_body_cvec, y_train)\n",
    "lr.score(test_body_cvec, y_test)"
   ]
  },
  {
   "cell_type": "code",
   "execution_count": 97,
   "metadata": {},
   "outputs": [
    {
     "data": {
      "text/plain": [
       "0.7313495557512207"
      ]
     },
     "execution_count": 97,
     "metadata": {},
     "output_type": "execute_result"
    }
   ],
   "source": [
    "#headline\n",
    "X_train = df_all[['Headline']]\n",
    "y_train = stances['Stance']\n",
    "X_test = df_all[['Headline']]\n",
    "y_test = stances['Stance']\n",
    "\n",
    "cvec_headline= CountVectorizer(stop_words = 'english')\n",
    "\n",
    "train_headline_cvec = cvec_headline.fit_transform(X_train['Headline'])\n",
    "test_headline_cvec = cvec_headline.transform(X_test['Headline'])\n",
    "\n",
    "lr = LogisticRegression()\n",
    "lr.fit(train_headline_cvec, y_train)\n",
    "lr.score(test_headline_cvec, y_test)"
   ]
  },
  {
   "cell_type": "code",
   "execution_count": 98,
   "metadata": {},
   "outputs": [
    {
     "data": {
      "text/plain": [
       "0.7319498919394861"
      ]
     },
     "execution_count": 98,
     "metadata": {},
     "output_type": "execute_result"
    }
   ],
   "source": [
    "X_train = df_all[['articleBody']]\n",
    "y_train = stances['Stance']\n",
    "X_test = df_all[['articleBody']]\n",
    "y_test = stances['Stance']\n",
    "\n",
    "cvec_body = CountVectorizer(stop_words = 'english')\n",
    "\n",
    "train_body_cvec = cvec_body.fit_transform(X_train['articleBody'])\n",
    "test_body_cvec = cvec_body.transform(X_test['articleBody'])\n",
    "\n",
    "rf = RandomForestClassifier()\n",
    "rf.fit(train_body_cvec, y_train)\n",
    "rf.score(test_body_cvec, y_test)"
   ]
  },
  {
   "cell_type": "code",
   "execution_count": 99,
   "metadata": {},
   "outputs": [
    {
     "data": {
      "text/plain": [
       "0.7312094773072921"
      ]
     },
     "execution_count": 99,
     "metadata": {},
     "output_type": "execute_result"
    }
   ],
   "source": [
    "#headline\n",
    "X_train = df_all[['Headline']]\n",
    "y_train = stances['Stance']\n",
    "X_test = df_all[['Headline']]\n",
    "y_test = stances['Stance']\n",
    "\n",
    "cvec_headline= CountVectorizer(stop_words = 'english')\n",
    "\n",
    "train_headline_cvec = cvec_headline.fit_transform(X_train['Headline'])\n",
    "test_headline_cvec = cvec_headline.transform(X_test['Headline'])\n",
    "\n",
    "rf = RandomForestClassifier()\n",
    "rf.fit(train_headline_cvec, y_train)\n",
    "rf.score(test_headline_cvec, y_test)"
   ]
  },
  {
   "cell_type": "markdown",
   "metadata": {},
   "source": [
    "After using CountVectorizer on the article Body and stances we find that our scores improves a little using Logistic Regression. \n",
    "Our baseline is 0.731710 while CountVectorizer brought us to 0.73201. When using CountVectorizer on the Headlines, our score is performing worse than baseline at 0.731349. "
   ]
  },
  {
   "cell_type": "markdown",
   "metadata": {},
   "source": [
    "# Hashing Vectorizer\n",
    "\n",
    "The hashing vectorizer coverts the text and returns a matrix of token occurences. "
   ]
  },
  {
   "cell_type": "code",
   "execution_count": 100,
   "metadata": {},
   "outputs": [
    {
     "data": {
      "text/plain": [
       "0.7313095333386697"
      ]
     },
     "execution_count": 100,
     "metadata": {},
     "output_type": "execute_result"
    }
   ],
   "source": [
    "#body\n",
    "X_train = df_all[['articleBody']]\n",
    "y_train = stances['Stance']\n",
    "X_test = df_all[['articleBody']]\n",
    "y_test = stances['Stance']\n",
    "\n",
    "hvec_body = HashingVectorizer(stop_words = 'english')\n",
    "\n",
    "train_body_hvec = hvec_body.fit_transform(X_train['articleBody'])\n",
    "test_body_hvec = hvec_body.transform(X_test['articleBody'])\n",
    "\n",
    "lr = LogisticRegression()\n",
    "lr.fit(train_body_hvec, y_train)\n",
    "lr.score(test_body_hvec, y_test)"
   ]
  },
  {
   "cell_type": "code",
   "execution_count": 101,
   "metadata": {},
   "outputs": [
    {
     "data": {
      "text/plain": [
       "0.7313095333386697"
      ]
     },
     "execution_count": 101,
     "metadata": {},
     "output_type": "execute_result"
    }
   ],
   "source": [
    "#headline\n",
    "X_train = df_all[['Headline']]\n",
    "y_train = stances['Stance']\n",
    "X_test = df_all[['Headline']]\n",
    "y_test = stances['Stance']\n",
    "\n",
    "hvec_headline = HashingVectorizer(stop_words = 'english')\n",
    "\n",
    "train_headline_hvec = hvec_headline.fit_transform(X_train['Headline'])\n",
    "test_headline_hvec = hvec_headline.transform(X_test['Headline'])\n",
    "\n",
    "lr = LogisticRegression()\n",
    "lr.fit(train_headline_hvec, y_train)\n",
    "lr.score(test_headline_hvec, y_test)"
   ]
  },
  {
   "cell_type": "markdown",
   "metadata": {},
   "source": [
    "After using HashingVectorizer on the article Body and stances we find that our score does not improve using Logistic Regression. \n",
    "Our baseline is 0.731710 while HashingVectorizer brought us to 0.73131. When using HashingVectorizer on the Headlines, our score is performing worse than baseline at 0.73131. "
   ]
  },
  {
   "cell_type": "markdown",
   "metadata": {},
   "source": [
    "# TF IDF \n",
    "\n",
    "TF IDF returns my text as a matrix of TF IDF features. TF IDF is a statistic that is intended to reflect how important a word is to a document in a collection of texts. Since this one is more statistically related it is projected to give the best score."
   ]
  },
  {
   "cell_type": "code",
   "execution_count": 102,
   "metadata": {},
   "outputs": [
    {
     "data": {
      "text/plain": [
       "0.7313095333386697"
      ]
     },
     "execution_count": 102,
     "metadata": {},
     "output_type": "execute_result"
    }
   ],
   "source": [
    "#body\n",
    "X_train = df_all[['articleBody']]\n",
    "y_train = stances['Stance']\n",
    "X_test = df_all[['articleBody']]\n",
    "y_test = stances['Stance']\n",
    "\n",
    "tvec_body = TfidfVectorizer(stop_words = 'english')\n",
    "\n",
    "train_body_tvec = tvec_body.fit_transform(X_train['articleBody'])\n",
    "test_body_tvec = tvec_body.transform(X_test['articleBody'])\n",
    "\n",
    "lr = LogisticRegression()\n",
    "lr.fit(train_body_tvec, y_train)\n",
    "lr.score(test_body_tvec, y_test)"
   ]
  },
  {
   "cell_type": "code",
   "execution_count": 103,
   "metadata": {},
   "outputs": [
    {
     "data": {
      "text/plain": [
       "0.7313095333386697"
      ]
     },
     "execution_count": 103,
     "metadata": {},
     "output_type": "execute_result"
    }
   ],
   "source": [
    "#headline\n",
    "X_train = df_all[['Headline']]\n",
    "y_train = stances['Stance']\n",
    "X_test = df_all[['Headline']]\n",
    "y_test = stances['Stance']\n",
    "\n",
    "tvec_headline = TfidfVectorizer(stop_words = 'english')\n",
    "\n",
    "train_headline_tvec = tvec_headline.fit_transform(X_train['Headline'])\n",
    "test_headline_tvec = tvec_headline.transform(X_test['Headline'])\n",
    "\n",
    "lr = LogisticRegression()\n",
    "lr.fit(train_headline_tvec, y_train)\n",
    "lr.score(test_headline_tvec, y_test)"
   ]
  },
  {
   "cell_type": "code",
   "execution_count": 104,
   "metadata": {},
   "outputs": [
    {
     "data": {
      "text/plain": [
       "0.7317697910830064"
      ]
     },
     "execution_count": 104,
     "metadata": {},
     "output_type": "execute_result"
    }
   ],
   "source": [
    "#body\n",
    "X_train = df_all[['articleBody']]\n",
    "y_train = stances['Stance']\n",
    "X_test = df_all[['articleBody']]\n",
    "y_test = stances['Stance']\n",
    "\n",
    "tvec_body = TfidfVectorizer(stop_words = 'english')\n",
    "\n",
    "train_body_tvec = tvec_body.fit_transform(X_train['articleBody'])\n",
    "test_body_tvec = tvec_body.transform(X_test['articleBody'])\n",
    "\n",
    "rf = RandomForestClassifier()\n",
    "rf.fit(train_body_cvec, y_train)\n",
    "rf.score(test_body_cvec, y_test)"
   ]
  },
  {
   "cell_type": "code",
   "execution_count": 105,
   "metadata": {},
   "outputs": [
    {
     "data": {
      "text/plain": [
       "0.7312895221323942"
      ]
     },
     "execution_count": 105,
     "metadata": {},
     "output_type": "execute_result"
    }
   ],
   "source": [
    "#headline\n",
    "X_train = df_all[['Headline']]\n",
    "y_train = stances['Stance']\n",
    "X_test = df_all[['Headline']]\n",
    "y_test = stances['Stance']\n",
    "\n",
    "tvec_headline = TfidfVectorizer(stop_words = 'english')\n",
    "\n",
    "train_headline_tvec = tvec_headline.fit_transform(X_train['Headline'])\n",
    "test_headline_tvec = tvec_headline.transform(X_test['Headline'])\n",
    "\n",
    "rf = RandomForestClassifier()\n",
    "rf.fit(train_headline_cvec, y_train)\n",
    "rf.score(test_headline_cvec, y_test)"
   ]
  },
  {
   "cell_type": "markdown",
   "metadata": {},
   "source": [
    "After using TF IDF(term frequency-inverse document frequency) on the article Body and stances we find that our score does not improve using Logistic Regression. \n",
    "Our baseline is 0.73171 while TF IDF brought us to 0.731309. When using TF IDF on the Headlines, our score is performing at 0.731309.  \n",
    "    "
   ]
  },
  {
   "cell_type": "markdown",
   "metadata": {},
   "source": [
    "## Preprocessing for latent Dirichlet allocation\n",
    "\n",
    "Since none of the word processing vectorizers proved to be fruitful in helping improve above baseline, I will be now applying some processing on the text and fit new models. LDA is a statistical model that helps to show why some groups of data are similar. "
   ]
  },
  {
   "cell_type": "code",
   "execution_count": 106,
   "metadata": {},
   "outputs": [],
   "source": [
    "def text_process(text):\n",
    "    '''\n",
    "    Takes in a string of text, then performs the following:\n",
    "        1. Tokenizes and removes punctuation\n",
    "        2. Removes stopwords\n",
    "        3. Stems\n",
    "        4. Returns a list of the cleaned text\n",
    "    '''\n",
    "    if pd.isnull(text):\n",
    "        return []\n",
    "    # tokenizing and removing punctuation\n",
    "    tokenizer = RegexpTokenizer(r'\\w+')\n",
    "    text_processed=tokenizer.tokenize(text)\n",
    "    \n",
    "    # removing any stopwords\n",
    "    text_processed = [word.lower() for word in text_processed if word.lower() not in stopwords.words('english')]\n",
    "    \n",
    "    # stemming\n",
    "    #porter_stemmer = PorterStemmer()\n",
    "    wordnet_lemmatizer = WordNetLemmatizer()\n",
    "    \n",
    "    text_processed = [wordnet_lemmatizer.lemmatize(word) for word in text_processed]\n",
    "    \n",
    "    try:\n",
    "        text_processed.remove('b')\n",
    "    except: \n",
    "        pass\n",
    "\n",
    "    return text_processed ## <-- we're keeping our words distinct"
   ]
  },
  {
   "cell_type": "code",
   "execution_count": 107,
   "metadata": {},
   "outputs": [],
   "source": [
    "df_all['articleBody'] = df_all['articleBody'].apply(text_process)"
   ]
  },
  {
   "cell_type": "code",
   "execution_count": 108,
   "metadata": {
    "scrolled": true
   },
   "outputs": [
    {
     "data": {
      "text/plain": [
       "0    [danny, boyle, directing, untitled, film, seth...\n",
       "1    [danny, boyle, directing, untitled, film, seth...\n",
       "2    [danny, boyle, directing, untitled, film, seth...\n",
       "3    [danny, boyle, directing, untitled, film, seth...\n",
       "4    [danny, boyle, directing, untitled, film, seth...\n",
       "Name: articleBody, dtype: object"
      ]
     },
     "execution_count": 108,
     "metadata": {},
     "output_type": "execute_result"
    }
   ],
   "source": [
    "df_all['articleBody'].head()"
   ]
  },
  {
   "cell_type": "code",
   "execution_count": 109,
   "metadata": {},
   "outputs": [],
   "source": [
    "df_all['Headline'] = df_all['Headline'].apply(text_process)"
   ]
  },
  {
   "cell_type": "code",
   "execution_count": 110,
   "metadata": {
    "scrolled": false
   },
   "outputs": [
    {
     "data": {
      "text/plain": [
       "0    [police, find, mass, graf, least, 15, body, ne...\n",
       "1           [seth, rogen, play, apple, steve, wozniak]\n",
       "2    [mexico, police, find, mass, grave, near, site...\n",
       "3    [mexico, say, missing, student, found, first, ...\n",
       "4          [new, io, 8, bug, delete, icloud, document]\n",
       "Name: Headline, dtype: object"
      ]
     },
     "execution_count": 110,
     "metadata": {},
     "output_type": "execute_result"
    }
   ],
   "source": [
    "df_all['Headline'].head()"
   ]
  },
  {
   "cell_type": "markdown",
   "metadata": {},
   "source": [
    "## Fit LDA Model"
   ]
  },
  {
   "cell_type": "code",
   "execution_count": 111,
   "metadata": {},
   "outputs": [],
   "source": [
    "from gensim import corpora, models\n",
    "import pyLDAvis.gensim\n",
    "\n",
    "pyLDAvis.enable_notebook()\n",
    "\n",
    "np.random.seed(42)"
   ]
  },
  {
   "cell_type": "markdown",
   "metadata": {},
   "source": [
    "## latent Dirichlet allocation on Article Body\n",
    "\n",
    "Visualizing the similarities between topics in the article bodies. "
   ]
  },
  {
   "cell_type": "code",
   "execution_count": 112,
   "metadata": {},
   "outputs": [],
   "source": [
    "dictionary = corpora.Dictionary(df_all['articleBody'])\n",
    "\n",
    "corpus = [dictionary.doc2bow(text) for text in df_all['articleBody']]\n",
    "\n",
    "ldamodel = models.ldamodel.LdaModel(corpus,                     # pass in our corpus\n",
    "                                    id2word = dictionary,       # matches each word to its \"number\" or \"spot\" in the dictionary\n",
    "                                    num_topics = 20,             # number of topics T to find\n",
    "                                    passes = 5,                 # number of passes through corpus; similar to number of epochs\n",
    "                                    minimum_probability = 0.01) # only include topics above this probability threshold"
   ]
  },
  {
   "cell_type": "code",
   "execution_count": 113,
   "metadata": {
    "scrolled": true
   },
   "outputs": [
    {
     "data": {
      "text/html": [
       "\n",
       "<link rel=\"stylesheet\" type=\"text/css\" href=\"https://cdn.rawgit.com/bmabey/pyLDAvis/files/ldavis.v1.0.0.css\">\n",
       "\n",
       "\n",
       "<div id=\"ldavis_el30197138893669202074619241\"></div>\n",
       "<script type=\"text/javascript\">\n",
       "\n",
       "var ldavis_el30197138893669202074619241_data = {\"mdsDat\": {\"Freq\": [8.472816467285156, 7.594952583312988, 7.311740398406982, 6.79096794128418, 6.466294765472412, 5.406436920166016, 5.100552558898926, 4.986358165740967, 4.938576698303223, 4.882230281829834, 4.623831748962402, 4.126441955566406, 4.123420238494873, 4.007891654968262, 3.879507541656494, 3.818953514099121, 3.808389186859131, 3.5919785499572754, 3.399812698364258, 2.6688449382781982], \"cluster\": [1, 1, 1, 1, 1, 1, 1, 1, 1, 1, 1, 1, 1, 1, 1, 1, 1, 1, 1, 1], \"topics\": [1, 2, 3, 4, 5, 6, 7, 8, 9, 10, 11, 12, 13, 14, 15, 16, 17, 18, 19, 20], \"x\": [0.22687814384166624, -0.11229233923483224, -0.08354266436248456, -0.10850510140419767, 0.17405731807508334, -0.18708459806631325, 0.11205270395721745, 0.21852944125830456, -0.11755824778620425, 0.059652987362423936, 0.11173450825524646, -0.14379698900126356, 0.024207435083816415, -0.1059148162137895, -0.10331569757865644, -0.013768392411971038, -0.1297760871837558, -0.10250095748890561, 0.10992795474672123, 0.17101539815189254], \"y\": [-0.019106913766872676, -0.0004210012757303431, -0.02156227771979798, 0.08076417600444007, -0.042059265213192434, -0.06006258620828402, 0.049263663476265616, -0.0840377172089242, 0.017818385573707404, -0.1009392022825099, -0.08045339737289708, -0.01610043984271088, 0.29469370374696846, 0.023173748769099813, -0.1418817056440614, 0.04242630361048656, -0.0441825699782243, -0.0325539266407325, 0.2616074537687653, -0.1263864317957955]}, \"tinfo\": {\"Category\": [\"Default\", \"Default\", \"Default\", \"Default\", \"Default\", \"Default\", \"Default\", \"Default\", \"Default\", \"Default\", \"Default\", \"Default\", \"Default\", \"Default\", \"Default\", \"Default\", \"Default\", \"Default\", \"Default\", \"Default\", \"Default\", \"Default\", \"Default\", \"Default\", \"Default\", \"Default\", \"Default\", \"Default\", \"Default\", \"Default\", \"Topic1\", \"Topic1\", \"Topic1\", \"Topic1\", \"Topic1\", \"Topic1\", \"Topic1\", \"Topic1\", \"Topic1\", \"Topic1\", \"Topic1\", \"Topic1\", \"Topic1\", \"Topic1\", \"Topic1\", \"Topic1\", \"Topic1\", \"Topic1\", \"Topic1\", \"Topic1\", \"Topic1\", \"Topic1\", \"Topic1\", \"Topic1\", \"Topic1\", \"Topic1\", \"Topic1\", \"Topic1\", \"Topic1\", \"Topic1\", \"Topic1\", \"Topic1\", \"Topic1\", \"Topic1\", \"Topic1\", \"Topic1\", \"Topic1\", \"Topic1\", \"Topic1\", \"Topic1\", \"Topic1\", \"Topic1\", \"Topic1\", \"Topic1\", \"Topic1\", \"Topic1\", \"Topic1\", \"Topic1\", \"Topic1\", \"Topic1\", \"Topic1\", \"Topic1\", \"Topic1\", \"Topic1\", \"Topic1\", \"Topic1\", \"Topic1\", \"Topic1\", \"Topic1\", \"Topic1\", \"Topic1\", \"Topic1\", \"Topic1\", \"Topic1\", \"Topic1\", \"Topic1\", \"Topic1\", \"Topic1\", \"Topic1\", \"Topic2\", \"Topic2\", \"Topic2\", \"Topic2\", \"Topic2\", \"Topic2\", \"Topic2\", \"Topic2\", \"Topic2\", \"Topic2\", \"Topic2\", \"Topic2\", \"Topic2\", \"Topic2\", \"Topic2\", \"Topic2\", \"Topic2\", \"Topic2\", \"Topic2\", \"Topic2\", \"Topic2\", \"Topic2\", \"Topic2\", \"Topic2\", \"Topic2\", \"Topic2\", \"Topic2\", \"Topic2\", \"Topic2\", \"Topic2\", \"Topic2\", \"Topic2\", \"Topic2\", \"Topic2\", \"Topic2\", \"Topic2\", \"Topic2\", \"Topic2\", \"Topic2\", \"Topic2\", \"Topic2\", \"Topic2\", \"Topic2\", \"Topic2\", \"Topic2\", \"Topic2\", \"Topic2\", \"Topic2\", \"Topic2\", \"Topic2\", \"Topic2\", \"Topic2\", \"Topic2\", \"Topic2\", \"Topic2\", \"Topic2\", \"Topic2\", \"Topic2\", \"Topic2\", \"Topic2\", \"Topic2\", \"Topic2\", \"Topic2\", \"Topic2\", \"Topic2\", \"Topic2\", \"Topic2\", \"Topic2\", \"Topic2\", \"Topic2\", \"Topic2\", \"Topic2\", \"Topic3\", \"Topic3\", \"Topic3\", \"Topic3\", \"Topic3\", \"Topic3\", \"Topic3\", \"Topic3\", \"Topic3\", \"Topic3\", \"Topic3\", \"Topic3\", \"Topic3\", \"Topic3\", \"Topic3\", \"Topic3\", \"Topic3\", \"Topic3\", \"Topic3\", \"Topic3\", \"Topic3\", \"Topic3\", \"Topic3\", \"Topic3\", \"Topic3\", \"Topic3\", \"Topic3\", \"Topic3\", \"Topic3\", \"Topic3\", \"Topic3\", \"Topic3\", \"Topic3\", \"Topic3\", \"Topic3\", \"Topic3\", \"Topic3\", \"Topic3\", \"Topic3\", \"Topic3\", \"Topic3\", \"Topic3\", \"Topic3\", \"Topic3\", \"Topic3\", \"Topic3\", \"Topic3\", \"Topic3\", \"Topic3\", \"Topic3\", \"Topic3\", \"Topic3\", \"Topic3\", \"Topic3\", \"Topic3\", \"Topic3\", \"Topic3\", \"Topic3\", \"Topic3\", \"Topic3\", \"Topic3\", \"Topic3\", \"Topic3\", \"Topic3\", \"Topic3\", \"Topic3\", \"Topic3\", \"Topic3\", \"Topic3\", \"Topic3\", \"Topic3\", \"Topic3\", \"Topic3\", \"Topic3\", \"Topic3\", \"Topic3\", \"Topic3\", \"Topic3\", \"Topic4\", \"Topic4\", \"Topic4\", \"Topic4\", \"Topic4\", \"Topic4\", \"Topic4\", \"Topic4\", \"Topic4\", \"Topic4\", \"Topic4\", \"Topic4\", \"Topic4\", \"Topic4\", \"Topic4\", \"Topic4\", \"Topic4\", \"Topic4\", \"Topic4\", \"Topic4\", \"Topic4\", \"Topic4\", \"Topic4\", \"Topic4\", \"Topic4\", \"Topic4\", \"Topic4\", \"Topic4\", \"Topic4\", \"Topic4\", \"Topic4\", \"Topic4\", \"Topic4\", \"Topic4\", \"Topic4\", \"Topic4\", \"Topic4\", \"Topic4\", \"Topic4\", \"Topic4\", \"Topic4\", \"Topic4\", \"Topic4\", \"Topic4\", \"Topic4\", \"Topic4\", \"Topic4\", \"Topic4\", \"Topic4\", \"Topic4\", \"Topic4\", \"Topic4\", \"Topic4\", \"Topic4\", \"Topic4\", \"Topic4\", \"Topic4\", \"Topic4\", \"Topic4\", \"Topic4\", \"Topic4\", \"Topic4\", \"Topic4\", \"Topic4\", \"Topic4\", \"Topic4\", \"Topic4\", \"Topic4\", \"Topic4\", \"Topic4\", \"Topic4\", \"Topic4\", \"Topic4\", \"Topic4\", \"Topic4\", \"Topic4\", \"Topic4\", \"Topic4\", \"Topic4\", \"Topic4\", \"Topic4\", \"Topic4\", \"Topic4\", \"Topic4\", \"Topic4\", \"Topic5\", \"Topic5\", \"Topic5\", \"Topic5\", \"Topic5\", \"Topic5\", \"Topic5\", \"Topic5\", \"Topic5\", \"Topic5\", \"Topic5\", \"Topic5\", \"Topic5\", \"Topic5\", \"Topic5\", \"Topic5\", \"Topic5\", \"Topic5\", \"Topic5\", \"Topic5\", \"Topic5\", \"Topic5\", \"Topic5\", \"Topic5\", \"Topic5\", \"Topic5\", \"Topic5\", \"Topic5\", \"Topic5\", \"Topic5\", \"Topic5\", \"Topic5\", \"Topic5\", \"Topic5\", \"Topic5\", \"Topic5\", \"Topic5\", \"Topic5\", \"Topic5\", \"Topic5\", \"Topic5\", \"Topic5\", \"Topic5\", \"Topic5\", \"Topic5\", \"Topic5\", \"Topic5\", \"Topic5\", \"Topic5\", \"Topic5\", \"Topic5\", \"Topic5\", \"Topic5\", \"Topic5\", \"Topic5\", \"Topic5\", \"Topic5\", \"Topic5\", \"Topic5\", \"Topic5\", \"Topic5\", \"Topic5\", \"Topic5\", \"Topic5\", \"Topic5\", \"Topic5\", \"Topic5\", \"Topic5\", \"Topic5\", \"Topic5\", \"Topic6\", \"Topic6\", \"Topic6\", \"Topic6\", \"Topic6\", \"Topic6\", \"Topic6\", \"Topic6\", \"Topic6\", \"Topic6\", \"Topic6\", \"Topic6\", \"Topic6\", \"Topic6\", \"Topic6\", \"Topic6\", \"Topic6\", \"Topic6\", \"Topic6\", \"Topic6\", \"Topic6\", \"Topic6\", \"Topic6\", \"Topic6\", \"Topic6\", \"Topic6\", \"Topic6\", \"Topic6\", \"Topic6\", \"Topic6\", \"Topic6\", \"Topic6\", \"Topic6\", \"Topic6\", \"Topic6\", \"Topic6\", \"Topic6\", \"Topic6\", \"Topic6\", \"Topic6\", \"Topic6\", \"Topic6\", \"Topic6\", \"Topic6\", \"Topic6\", \"Topic6\", \"Topic6\", \"Topic6\", \"Topic6\", \"Topic6\", \"Topic6\", \"Topic6\", \"Topic6\", \"Topic6\", \"Topic6\", \"Topic6\", \"Topic6\", \"Topic6\", \"Topic6\", \"Topic6\", \"Topic6\", \"Topic6\", \"Topic6\", \"Topic7\", \"Topic7\", \"Topic7\", \"Topic7\", \"Topic7\", \"Topic7\", \"Topic7\", \"Topic7\", \"Topic7\", \"Topic7\", \"Topic7\", \"Topic7\", \"Topic7\", \"Topic7\", \"Topic7\", \"Topic7\", \"Topic7\", \"Topic7\", \"Topic7\", \"Topic7\", \"Topic7\", \"Topic7\", \"Topic7\", \"Topic7\", \"Topic7\", \"Topic7\", \"Topic7\", \"Topic7\", \"Topic7\", \"Topic7\", \"Topic7\", \"Topic7\", \"Topic7\", \"Topic7\", \"Topic7\", \"Topic7\", \"Topic7\", \"Topic7\", \"Topic7\", \"Topic7\", \"Topic7\", \"Topic7\", \"Topic7\", \"Topic7\", \"Topic7\", \"Topic7\", \"Topic7\", \"Topic7\", \"Topic7\", \"Topic7\", \"Topic7\", \"Topic7\", \"Topic7\", \"Topic7\", \"Topic7\", \"Topic7\", \"Topic7\", \"Topic7\", \"Topic7\", \"Topic7\", \"Topic7\", \"Topic7\", \"Topic7\", \"Topic7\", \"Topic7\", \"Topic7\", \"Topic7\", \"Topic8\", \"Topic8\", \"Topic8\", \"Topic8\", \"Topic8\", \"Topic8\", \"Topic8\", \"Topic8\", \"Topic8\", \"Topic8\", \"Topic8\", \"Topic8\", \"Topic8\", \"Topic8\", \"Topic8\", \"Topic8\", \"Topic8\", \"Topic8\", \"Topic8\", \"Topic8\", \"Topic8\", \"Topic8\", \"Topic8\", \"Topic8\", \"Topic8\", \"Topic8\", \"Topic8\", \"Topic8\", \"Topic8\", \"Topic8\", \"Topic8\", \"Topic8\", \"Topic8\", \"Topic8\", \"Topic8\", \"Topic8\", \"Topic8\", \"Topic8\", \"Topic8\", \"Topic8\", \"Topic8\", \"Topic8\", \"Topic8\", \"Topic8\", \"Topic8\", \"Topic8\", \"Topic8\", \"Topic8\", \"Topic8\", \"Topic8\", \"Topic8\", \"Topic8\", \"Topic8\", \"Topic8\", \"Topic8\", \"Topic8\", \"Topic8\", \"Topic8\", \"Topic8\", \"Topic8\", \"Topic8\", \"Topic8\", \"Topic8\", \"Topic8\", \"Topic9\", \"Topic9\", \"Topic9\", \"Topic9\", \"Topic9\", \"Topic9\", \"Topic9\", \"Topic9\", \"Topic9\", \"Topic9\", \"Topic9\", \"Topic9\", \"Topic9\", \"Topic9\", \"Topic9\", \"Topic9\", \"Topic9\", \"Topic9\", \"Topic9\", \"Topic9\", \"Topic9\", \"Topic9\", \"Topic9\", \"Topic9\", \"Topic9\", \"Topic9\", \"Topic9\", \"Topic9\", \"Topic9\", \"Topic9\", \"Topic9\", \"Topic9\", \"Topic9\", \"Topic9\", \"Topic9\", \"Topic9\", \"Topic9\", \"Topic9\", \"Topic9\", \"Topic9\", \"Topic9\", \"Topic9\", \"Topic9\", \"Topic9\", \"Topic9\", \"Topic9\", \"Topic9\", \"Topic9\", \"Topic9\", \"Topic9\", \"Topic9\", \"Topic9\", \"Topic9\", \"Topic9\", \"Topic9\", \"Topic9\", \"Topic9\", \"Topic9\", \"Topic9\", \"Topic9\", \"Topic9\", \"Topic9\", \"Topic9\", \"Topic9\", \"Topic9\", \"Topic9\", \"Topic9\", \"Topic9\", \"Topic9\", \"Topic9\", \"Topic9\", \"Topic9\", \"Topic9\", \"Topic9\", \"Topic10\", \"Topic10\", \"Topic10\", \"Topic10\", \"Topic10\", \"Topic10\", \"Topic10\", \"Topic10\", \"Topic10\", \"Topic10\", \"Topic10\", \"Topic10\", \"Topic10\", \"Topic10\", \"Topic10\", \"Topic10\", \"Topic10\", \"Topic10\", \"Topic10\", \"Topic10\", \"Topic10\", \"Topic10\", \"Topic10\", \"Topic10\", \"Topic10\", \"Topic10\", \"Topic10\", \"Topic10\", \"Topic10\", \"Topic10\", \"Topic10\", \"Topic10\", \"Topic10\", \"Topic10\", \"Topic10\", \"Topic10\", \"Topic10\", \"Topic10\", \"Topic10\", \"Topic10\", \"Topic10\", \"Topic10\", \"Topic10\", \"Topic10\", \"Topic10\", \"Topic10\", \"Topic10\", \"Topic10\", \"Topic10\", \"Topic10\", \"Topic10\", \"Topic10\", \"Topic10\", \"Topic10\", \"Topic10\", \"Topic10\", \"Topic10\", \"Topic10\", \"Topic10\", \"Topic10\", \"Topic11\", \"Topic11\", \"Topic11\", \"Topic11\", \"Topic11\", \"Topic11\", \"Topic11\", \"Topic11\", \"Topic11\", \"Topic11\", \"Topic11\", \"Topic11\", \"Topic11\", \"Topic11\", \"Topic11\", \"Topic11\", \"Topic11\", \"Topic11\", \"Topic11\", \"Topic11\", \"Topic11\", \"Topic11\", \"Topic11\", \"Topic11\", \"Topic11\", \"Topic11\", \"Topic11\", \"Topic11\", \"Topic11\", \"Topic11\", \"Topic11\", \"Topic11\", \"Topic11\", \"Topic11\", \"Topic11\", \"Topic11\", \"Topic11\", \"Topic11\", \"Topic11\", \"Topic11\", \"Topic11\", \"Topic11\", \"Topic11\", \"Topic11\", \"Topic11\", \"Topic11\", \"Topic11\", \"Topic11\", \"Topic11\", \"Topic11\", \"Topic11\", \"Topic11\", \"Topic11\", \"Topic11\", \"Topic11\", \"Topic11\", \"Topic11\", \"Topic11\", \"Topic11\", \"Topic11\", \"Topic12\", \"Topic12\", \"Topic12\", \"Topic12\", \"Topic12\", \"Topic12\", \"Topic12\", \"Topic12\", \"Topic12\", \"Topic12\", \"Topic12\", \"Topic12\", \"Topic12\", \"Topic12\", \"Topic12\", \"Topic12\", \"Topic12\", \"Topic12\", \"Topic12\", \"Topic12\", \"Topic12\", \"Topic12\", \"Topic12\", \"Topic12\", \"Topic12\", \"Topic12\", \"Topic12\", \"Topic12\", \"Topic12\", \"Topic12\", \"Topic12\", \"Topic12\", \"Topic12\", \"Topic12\", \"Topic12\", \"Topic12\", \"Topic12\", \"Topic12\", \"Topic12\", \"Topic12\", \"Topic12\", \"Topic12\", \"Topic12\", \"Topic12\", \"Topic12\", \"Topic12\", \"Topic12\", \"Topic12\", \"Topic12\", \"Topic12\", \"Topic12\", \"Topic12\", \"Topic12\", \"Topic12\", \"Topic12\", \"Topic12\", \"Topic12\", \"Topic12\", \"Topic12\", \"Topic12\", \"Topic12\", \"Topic12\", \"Topic12\", \"Topic12\", \"Topic13\", \"Topic13\", \"Topic13\", \"Topic13\", \"Topic13\", \"Topic13\", \"Topic13\", \"Topic13\", \"Topic13\", \"Topic13\", \"Topic13\", \"Topic13\", \"Topic13\", \"Topic13\", \"Topic13\", \"Topic13\", \"Topic13\", \"Topic13\", \"Topic13\", \"Topic13\", \"Topic13\", \"Topic13\", \"Topic13\", \"Topic13\", \"Topic13\", \"Topic13\", \"Topic13\", \"Topic13\", \"Topic13\", \"Topic13\", \"Topic13\", \"Topic13\", \"Topic13\", \"Topic13\", \"Topic13\", \"Topic13\", \"Topic13\", \"Topic13\", \"Topic13\", \"Topic13\", \"Topic13\", \"Topic13\", \"Topic13\", \"Topic13\", \"Topic13\", \"Topic13\", \"Topic13\", \"Topic13\", \"Topic13\", \"Topic13\", \"Topic13\", \"Topic13\", \"Topic13\", \"Topic13\", \"Topic13\", \"Topic13\", \"Topic13\", \"Topic13\", \"Topic13\", \"Topic13\", \"Topic13\", \"Topic13\", \"Topic13\", \"Topic13\", \"Topic14\", \"Topic14\", \"Topic14\", \"Topic14\", \"Topic14\", \"Topic14\", \"Topic14\", \"Topic14\", \"Topic14\", \"Topic14\", \"Topic14\", \"Topic14\", \"Topic14\", \"Topic14\", \"Topic14\", \"Topic14\", \"Topic14\", \"Topic14\", \"Topic14\", \"Topic14\", \"Topic14\", \"Topic14\", \"Topic14\", \"Topic14\", \"Topic14\", \"Topic14\", \"Topic14\", \"Topic14\", \"Topic14\", \"Topic14\", \"Topic14\", \"Topic14\", \"Topic14\", \"Topic14\", \"Topic14\", \"Topic14\", \"Topic14\", \"Topic14\", \"Topic14\", \"Topic14\", \"Topic14\", \"Topic14\", \"Topic14\", \"Topic14\", \"Topic14\", \"Topic14\", \"Topic14\", \"Topic14\", \"Topic14\", \"Topic14\", \"Topic14\", \"Topic14\", \"Topic14\", \"Topic14\", \"Topic14\", \"Topic14\", \"Topic14\", \"Topic14\", \"Topic14\", \"Topic14\", \"Topic14\", \"Topic15\", \"Topic15\", \"Topic15\", \"Topic15\", \"Topic15\", \"Topic15\", \"Topic15\", \"Topic15\", \"Topic15\", \"Topic15\", \"Topic15\", \"Topic15\", \"Topic15\", \"Topic15\", \"Topic15\", \"Topic15\", \"Topic15\", \"Topic15\", \"Topic15\", \"Topic15\", \"Topic15\", \"Topic15\", \"Topic15\", \"Topic15\", \"Topic15\", \"Topic15\", \"Topic15\", \"Topic15\", \"Topic15\", \"Topic15\", \"Topic15\", \"Topic15\", \"Topic15\", \"Topic15\", \"Topic15\", \"Topic15\", \"Topic15\", \"Topic15\", \"Topic15\", \"Topic15\", \"Topic15\", \"Topic15\", \"Topic15\", \"Topic15\", \"Topic15\", \"Topic15\", \"Topic15\", \"Topic15\", \"Topic15\", \"Topic15\", \"Topic15\", \"Topic15\", \"Topic15\", \"Topic15\", \"Topic15\", \"Topic15\", \"Topic15\", \"Topic15\", \"Topic16\", \"Topic16\", \"Topic16\", \"Topic16\", \"Topic16\", \"Topic16\", \"Topic16\", \"Topic16\", \"Topic16\", \"Topic16\", \"Topic16\", \"Topic16\", \"Topic16\", \"Topic16\", \"Topic16\", \"Topic16\", \"Topic16\", \"Topic16\", \"Topic16\", \"Topic16\", \"Topic16\", \"Topic16\", \"Topic16\", \"Topic16\", \"Topic16\", \"Topic16\", \"Topic16\", \"Topic16\", \"Topic16\", \"Topic16\", \"Topic16\", \"Topic16\", \"Topic16\", \"Topic16\", \"Topic16\", \"Topic16\", \"Topic16\", \"Topic16\", \"Topic16\", \"Topic16\", \"Topic16\", \"Topic16\", \"Topic16\", \"Topic16\", \"Topic16\", \"Topic16\", \"Topic16\", \"Topic16\", \"Topic16\", \"Topic16\", \"Topic16\", \"Topic16\", \"Topic16\", \"Topic16\", \"Topic16\", \"Topic16\", \"Topic16\", \"Topic17\", \"Topic17\", \"Topic17\", \"Topic17\", \"Topic17\", \"Topic17\", \"Topic17\", \"Topic17\", \"Topic17\", \"Topic17\", \"Topic17\", \"Topic17\", \"Topic17\", \"Topic17\", \"Topic17\", \"Topic17\", \"Topic17\", \"Topic17\", \"Topic17\", \"Topic17\", \"Topic17\", \"Topic17\", \"Topic17\", \"Topic17\", \"Topic17\", \"Topic17\", \"Topic17\", \"Topic17\", \"Topic17\", \"Topic17\", \"Topic17\", \"Topic17\", \"Topic17\", \"Topic17\", \"Topic17\", \"Topic17\", \"Topic17\", \"Topic17\", \"Topic17\", \"Topic17\", \"Topic17\", \"Topic17\", \"Topic17\", \"Topic17\", \"Topic17\", \"Topic17\", \"Topic17\", \"Topic17\", \"Topic17\", \"Topic17\", \"Topic17\", \"Topic17\", \"Topic17\", \"Topic17\", \"Topic17\", \"Topic17\", \"Topic17\", \"Topic17\", \"Topic17\", \"Topic18\", \"Topic18\", \"Topic18\", \"Topic18\", \"Topic18\", \"Topic18\", \"Topic18\", \"Topic18\", \"Topic18\", \"Topic18\", \"Topic18\", \"Topic18\", \"Topic18\", \"Topic18\", \"Topic18\", \"Topic18\", \"Topic18\", \"Topic18\", \"Topic18\", \"Topic18\", \"Topic18\", \"Topic18\", \"Topic18\", \"Topic18\", \"Topic18\", \"Topic18\", \"Topic18\", \"Topic18\", \"Topic18\", \"Topic18\", \"Topic18\", \"Topic18\", \"Topic18\", \"Topic18\", \"Topic18\", \"Topic18\", \"Topic18\", \"Topic18\", \"Topic18\", \"Topic18\", \"Topic18\", \"Topic18\", \"Topic18\", \"Topic18\", \"Topic18\", \"Topic18\", \"Topic18\", \"Topic18\", \"Topic18\", \"Topic18\", \"Topic18\", \"Topic18\", \"Topic18\", \"Topic18\", \"Topic18\", \"Topic18\", \"Topic18\", \"Topic18\", \"Topic18\", \"Topic18\", \"Topic18\", \"Topic18\", \"Topic18\", \"Topic18\", \"Topic18\", \"Topic18\", \"Topic19\", \"Topic19\", \"Topic19\", \"Topic19\", \"Topic19\", \"Topic19\", \"Topic19\", \"Topic19\", \"Topic19\", \"Topic19\", \"Topic19\", \"Topic19\", \"Topic19\", \"Topic19\", \"Topic19\", \"Topic19\", \"Topic19\", \"Topic19\", \"Topic19\", \"Topic19\", \"Topic19\", \"Topic19\", \"Topic19\", \"Topic19\", \"Topic19\", \"Topic19\", \"Topic19\", \"Topic19\", \"Topic19\", \"Topic19\", \"Topic19\", \"Topic19\", \"Topic19\", \"Topic19\", \"Topic19\", \"Topic19\", \"Topic19\", \"Topic19\", \"Topic19\", \"Topic19\", \"Topic19\", \"Topic19\", \"Topic19\", \"Topic19\", \"Topic19\", \"Topic19\", \"Topic19\", \"Topic19\", \"Topic19\", \"Topic19\", \"Topic19\", \"Topic19\", \"Topic19\", \"Topic19\", \"Topic19\", \"Topic20\", \"Topic20\", \"Topic20\", \"Topic20\", \"Topic20\", \"Topic20\", \"Topic20\", \"Topic20\", \"Topic20\", \"Topic20\", \"Topic20\", \"Topic20\", \"Topic20\", \"Topic20\", \"Topic20\", \"Topic20\", \"Topic20\", \"Topic20\", \"Topic20\", \"Topic20\", \"Topic20\", \"Topic20\", \"Topic20\", \"Topic20\", \"Topic20\", \"Topic20\", \"Topic20\", \"Topic20\", \"Topic20\", \"Topic20\", \"Topic20\", \"Topic20\", \"Topic20\", \"Topic20\", \"Topic20\", \"Topic20\", \"Topic20\", \"Topic20\", \"Topic20\", \"Topic20\", \"Topic20\", \"Topic20\", \"Topic20\", \"Topic20\", \"Topic20\", \"Topic20\", \"Topic20\", \"Topic20\", \"Topic20\", \"Topic20\", \"Topic20\", \"Topic20\", \"Topic20\", \"Topic20\", \"Topic20\", \"Topic20\", \"Topic20\", \"Topic20\", \"Topic20\"], \"Freq\": [44045.0, 30442.0, 22236.0, 28784.0, 46117.0, 34001.0, 20626.0, 24473.0, 16882.0, 17942.0, 13910.0, 130182.0, 26540.0, 41793.0, 17448.0, 10801.0, 47036.0, 12495.0, 22614.0, 20635.0, 29728.0, 19261.0, 16631.0, 33140.0, 13616.0, 10156.0, 10093.0, 10183.0, 11492.0, 10498.0, 5753.19140625, 3812.46142578125, 3797.1767578125, 3067.36669921875, 2763.406494140625, 2666.32568359375, 2438.08544921875, 2369.732666015625, 2198.1201171875, 1759.7938232421875, 1740.48583984375, 1555.6156005859375, 1491.2093505859375, 1451.705322265625, 1366.12890625, 1316.1488037109375, 1199.5264892578125, 1180.690185546875, 1160.9302978515625, 1155.3363037109375, 1094.42626953125, 1047.4560546875, 1041.6534423828125, 1026.8900146484375, 1001.5891723632812, 905.7820434570312, 1129.44873046875, 851.2568969726562, 843.7830810546875, 826.8295288085938, 3462.288818359375, 3154.499755859375, 1352.442138671875, 16697.4453125, 2018.89892578125, 3065.21923828125, 1635.203369140625, 5444.79443359375, 8681.6318359375, 3175.923583984375, 3064.367431640625, 3066.047607421875, 7941.82177734375, 1921.1552734375, 17839.244140625, 4807.150390625, 6858.71044921875, 19519.638671875, 2700.25341796875, 5382.9091796875, 6719.08984375, 11861.455078125, 10731.298828125, 10106.134765625, 5456.71826171875, 13332.2109375, 22820.607421875, 8114.357421875, 6617.97119140625, 6282.80224609375, 4776.32373046875, 5960.23828125, 5521.451171875, 5613.82275390625, 4443.82080078125, 4238.7705078125, 3680.442138671875, 4174.4921875, 3820.775146484375, 2813.72705078125, 2650.508056640625, 2533.452392578125, 2342.71875, 2151.01318359375, 1996.228271484375, 1950.24462890625, 1818.3851318359375, 3071.96875, 1716.0213623046875, 1600.8450927734375, 1690.248046875, 1485.114501953125, 1417.7464599609375, 1623.5931396484375, 1224.438720703125, 1218.4287109375, 1125.1060791015625, 1083.2808837890625, 1036.8370361328125, 943.3627319335938, 924.5739135742188, 909.6239013671875, 893.7582397460938, 904.5999755859375, 843.937744140625, 837.2523803710938, 827.4625854492188, 803.1495361328125, 783.0317993164062, 1792.298583984375, 1678.4072265625, 1490.9862060546875, 1585.7222900390625, 1783.99365234375, 1243.84521484375, 2337.22265625, 2481.92578125, 2339.565185546875, 1459.06494140625, 5101.9052734375, 1778.6790771484375, 15506.732421875, 1711.45654296875, 2705.243896484375, 2053.894775390625, 4308.51025390625, 5118.7568359375, 4946.1142578125, 8655.6611328125, 2166.72216796875, 2528.73291015625, 5786.73828125, 2444.3427734375, 5786.82568359375, 4091.463134765625, 2304.01806640625, 4260.8896484375, 2259.599365234375, 7017.560546875, 3901.40234375, 2422.510986328125, 3017.321533203125, 3101.348388671875, 3025.408935546875, 2565.575439453125, 3403.644775390625, 2971.258544921875, 2770.8515625, 2513.09912109375, 2797.047607421875, 2717.248046875, 2151.544677734375, 2060.44970703125, 1890.6905517578125, 1652.527587890625, 1646.2686767578125, 1589.657958984375, 1478.32958984375, 1313.2705078125, 1295.318603515625, 1203.135498046875, 1172.2110595703125, 1161.533935546875, 1110.1529541015625, 1136.220703125, 1078.0389404296875, 1074.780029296875, 1056.993408203125, 911.2269897460938, 973.5498046875, 903.9857177734375, 885.8817138671875, 820.75830078125, 792.9203491210938, 741.52978515625, 722.2783813476562, 716.2587280273438, 618.40185546875, 609.8130493164062, 606.9799194335938, 570.127685546875, 2566.4072265625, 988.6150512695312, 1081.7694091796875, 793.85986328125, 2640.305908203125, 2258.068603515625, 2806.257080078125, 1046.89990234375, 1267.35498046875, 1620.680908203125, 3674.618408203125, 3598.950927734375, 11262.28125, 4627.849609375, 1608.8033447265625, 6372.35302734375, 4302.9072265625, 3764.430419921875, 5017.2021484375, 1835.3126220703125, 1665.1182861328125, 2830.40576171875, 1730.955322265625, 2191.75830078125, 10676.1416015625, 4101.7353515625, 2565.183349609375, 4077.41015625, 4110.82421875, 6264.1318359375, 5197.923828125, 9594.169921875, 5990.880859375, 3563.921142578125, 6014.966796875, 3917.102783203125, 4180.1474609375, 6867.208984375, 3299.349853515625, 3836.900634765625, 2918.030517578125, 3051.044921875, 3080.91259765625, 3093.66748046875, 3692.134033203125, 3072.723388671875, 3055.478271484375, 3022.5029296875, 3332.8291015625, 2406.445068359375, 2289.419921875, 2017.8909912109375, 1162.7490234375, 1648.1072998046875, 889.7626953125, 855.4445190429688, 825.23095703125, 795.9627685546875, 1532.3111572265625, 716.6564331054688, 667.90869140625, 649.6265258789062, 1264.331787109375, 615.2579956054688, 611.425537109375, 593.5147705078125, 575.6132202148438, 556.1996459960938, 544.7816772460938, 768.3267822265625, 477.7603759765625, 492.3651428222656, 419.6999206542969, 412.4026794433594, 382.26116943359375, 376.81158447265625, 376.2242736816406, 359.7710266113281, 7394.0771484375, 970.2822875976562, 614.92822265625, 396.7644958496094, 970.3011474609375, 908.9835205078125, 926.227783203125, 701.7042236328125, 941.97412109375, 3183.207275390625, 5806.60400390625, 1896.3037109375, 2166.48095703125, 1204.511962890625, 1535.545166015625, 1409.9755859375, 4347.2265625, 1120.0421142578125, 2676.875244140625, 1279.8548583984375, 4334.10791015625, 3542.78369140625, 1380.1748046875, 2622.393310546875, 2214.24658203125, 2169.08837890625, 2786.59716796875, 2297.067626953125, 1886.8531494140625, 11214.3525390625, 7992.37646484375, 7977.60009765625, 3226.82080078125, 2216.395263671875, 2703.760498046875, 5041.49853515625, 4302.45654296875, 3921.558349609375, 5737.7939453125, 3783.762451171875, 3869.604248046875, 4401.32666015625, 2813.61328125, 3907.715576171875, 2621.43896484375, 2520.0986328125, 3702.6083984375, 2876.100341796875, 3181.486572265625, 3243.611572265625, 3022.48779296875, 3153.965087890625, 2972.244873046875, 2736.598876953125, 2743.2880859375, 16882.0, 5372.58154296875, 4203.02197265625, 3030.3427734375, 2271.232421875, 1729.1004638671875, 1701.286865234375, 1325.1781005859375, 1258.9656982421875, 1184.335693359375, 986.0569458007812, 902.4827880859375, 893.8751220703125, 866.0289916992188, 810.7103271484375, 803.2349853515625, 797.8501586914062, 787.6370239257812, 735.887451171875, 727.9813842773438, 725.6533813476562, 691.0001831054688, 643.8037719726562, 616.12255859375, 555.0086669921875, 538.4154052734375, 534.0457763671875, 518.1267700195312, 516.6878051757812, 506.8739929199219, 4043.24462890625, 3199.78515625, 2878.241455078125, 1642.868896484375, 2070.31005859375, 11049.0283203125, 2333.578125, 7526.87548828125, 4317.29052734375, 4070.02490234375, 11195.1728515625, 1580.654541015625, 2774.770751953125, 1558.3963623046875, 1502.5850830078125, 2507.46240234375, 13274.75, 2684.439208984375, 1673.315185546875, 2465.906494140625, 21265.15625, 8500.7177734375, 11067.494140625, 3947.88232421875, 3837.239990234375, 10368.8857421875, 14271.646484375, 5664.33984375, 7162.388671875, 11053.744140625, 4997.62646484375, 5093.33837890625, 6527.09716796875, 4817.9541015625, 3737.848876953125, 5557.31982421875, 6653.44140625, 4717.44970703125, 4284.64892578125, 3578.65087890625, 7999.8115234375, 2958.2451171875, 2381.168212890625, 2273.845947265625, 1930.90869140625, 1919.5247802734375, 1842.376708984375, 1766.36669921875, 1704.7493896484375, 1550.0166015625, 1517.6220703125, 1476.650146484375, 1475.46044921875, 1389.608154296875, 1327.1029052734375, 1269.4747314453125, 1249.5950927734375, 1195.0198974609375, 1107.516357421875, 1245.412841796875, 1096.08935546875, 1066.0264892578125, 1055.7440185546875, 1050.569091796875, 1030.3956298828125, 1053.7421875, 978.4100952148438, 955.198486328125, 936.2312622070312, 901.4772338867188, 7749.2939453125, 42624.32421875, 4406.67529296875, 28210.447265625, 1724.8563232421875, 4638.5849609375, 4182.0341796875, 2335.5556640625, 4139.26416015625, 3068.935302734375, 3522.02490234375, 2057.75146484375, 1619.4747314453125, 2708.823486328125, 6112.32470703125, 2773.1640625, 2716.02734375, 4965.11083984375, 3243.302734375, 3650.37744140625, 2404.41650390625, 2643.780517578125, 4658.015625, 4447.7646484375, 2479.851318359375, 2229.87939453125, 2500.986083984375, 2733.369140625, 3262.042724609375, 2947.84326171875, 2746.808837890625, 2654.87451171875, 2454.825927734375, 7339.82080078125, 3194.820068359375, 2848.26318359375, 2584.4951171875, 2557.456298828125, 1995.27978515625, 1902.3331298828125, 1696.6641845703125, 1604.52490234375, 1525.8043212890625, 1245.944580078125, 1173.9266357421875, 1093.8309326171875, 1040.575927734375, 1006.23779296875, 984.146484375, 828.0154418945312, 818.9312133789062, 812.4495849609375, 806.2939453125, 755.0472412109375, 742.2366943359375, 738.198974609375, 708.6909790039062, 688.7687377929688, 651.4342651367188, 648.2545166015625, 602.442138671875, 778.4530029296875, 581.5540161132812, 5399.1435546875, 648.2234497070312, 831.4588012695312, 2566.12646484375, 1326.912109375, 6706.1318359375, 2586.134765625, 1576.732421875, 1327.3333740234375, 6784.71728515625, 2711.5859375, 1808.731689453125, 7413.26611328125, 1527.3060302734375, 5931.01611328125, 3823.36328125, 1961.377197265625, 6487.15576171875, 1815.7056884765625, 3949.245361328125, 1893.5284423828125, 3595.859619140625, 2597.98974609375, 9062.791015625, 2282.35400390625, 3156.214599609375, 2222.021240234375, 2925.93017578125, 2741.456787109375, 2343.822998046875, 2537.324462890625, 2318.37939453125, 2670.99462890625, 2144.51416015625, 2375.059326171875, 2286.22314453125, 2245.05322265625, 9235.2509765625, 5053.5693359375, 4397.27783203125, 3239.917236328125, 2828.393798828125, 2824.30126953125, 2792.205810546875, 2270.297119140625, 2014.9727783203125, 1730.9010009765625, 1534.4793701171875, 1233.963134765625, 4900.7861328125, 1072.2630615234375, 966.7215576171875, 891.8135986328125, 874.0662841796875, 747.2275390625, 737.3741455078125, 729.138427734375, 683.4966430664062, 614.2021484375, 591.9638061523438, 620.7817993164062, 582.6181030273438, 574.8517456054688, 560.9267578125, 553.141357421875, 548.3778076171875, 544.672119140625, 696.8504028320312, 1109.7554931640625, 1451.293212890625, 1491.731689453125, 15688.267578125, 1180.5416259765625, 1472.0924072265625, 2492.622802734375, 3450.445068359375, 3387.6640625, 5813.0986328125, 3889.961181640625, 2240.504638671875, 2199.89501953125, 2247.547607421875, 3821.728515625, 3138.061279296875, 3747.196044921875, 3648.06689453125, 4716.71923828125, 7660.4140625, 4967.05615234375, 5220.15625, 12082.4658203125, 5484.56591796875, 5492.328125, 5013.52734375, 4663.2734375, 3065.383056640625, 4265.091796875, 3642.22900390625, 4179.69384765625, 3361.400146484375, 3031.465576171875, 5318.51611328125, 4340.53759765625, 3205.84521484375, 2714.35009765625, 2169.356201171875, 2096.37109375, 1529.1409912109375, 1476.94140625, 1299.9053955078125, 1230.7283935546875, 1180.8065185546875, 1052.8046875, 1024.4107666015625, 997.7769775390625, 829.506591796875, 721.7057495117188, 701.9247436523438, 763.6145629882812, 652.5675048828125, 630.0863647460938, 618.0843505859375, 609.3722534179688, 597.69873046875, 693.5770874023438, 553.7329711914062, 536.64501953125, 537.2486572265625, 533.2232055664062, 553.29736328125, 509.8744201660156, 2656.684326171875, 960.4188842773438, 1029.4476318359375, 1394.1871337890625, 723.5205078125, 8732.927734375, 1184.2056884765625, 1349.353271484375, 1294.8411865234375, 936.4231567382812, 1677.447021484375, 2498.183837890625, 1141.1563720703125, 3621.675537109375, 1437.5277099609375, 2196.32177734375, 4236.59619140625, 9995.7587890625, 2528.807861328125, 3805.23876953125, 1595.2166748046875, 2135.952880859375, 3260.51806640625, 2717.335205078125, 5410.23046875, 6655.7919921875, 3671.000244140625, 2859.70263671875, 4611.3125, 2345.889404296875, 2464.518310546875, 2979.899169921875, 2449.36669921875, 3630.00732421875, 3331.72119140625, 7270.818359375, 3050.065673828125, 3237.31884765625, 3176.369384765625, 3984.874755859375, 3510.87744140625, 3190.71337890625, 2779.164794921875, 2544.703857421875, 22235.97265625, 12494.705078125, 10182.1640625, 8855.3291015625, 3379.531005859375, 3047.044677734375, 2870.13623046875, 2857.65234375, 2408.703125, 1857.2021484375, 1519.3587646484375, 1295.22265625, 1266.9583740234375, 1251.0352783203125, 1248.4346923828125, 1235.47314453125, 1229.7059326171875, 1224.671142578125, 1215.0130615234375, 961.1189575195312, 934.6463623046875, 899.1552124023438, 798.1205444335938, 776.2356567382812, 773.6703491210938, 744.5343017578125, 731.0068359375, 721.8765869140625, 718.1566772460938, 681.75830078125, 10223.2099609375, 1093.0814208984375, 16889.84375, 2071.317626953125, 913.794189453125, 2228.68115234375, 883.3430786132812, 1351.9100341796875, 3418.73828125, 2219.5537109375, 2541.38720703125, 2122.510498046875, 3947.793212890625, 2349.646728515625, 2308.47998046875, 3878.09033203125, 5050.26416015625, 3412.54833984375, 5573.626953125, 1847.54736328125, 7822.3515625, 2141.024169921875, 3144.0595703125, 3462.906005859375, 3058.140869140625, 2596.34130859375, 2579.7333984375, 2457.98193359375, 2343.2724609375, 2306.960205078125, 10155.7724609375, 10092.4140625, 5922.59130859375, 5321.3212890625, 3429.068359375, 3217.56298828125, 3069.984130859375, 2475.1162109375, 2131.61474609375, 1833.864013671875, 1748.5643310546875, 1701.1195068359375, 1701.1055908203125, 1516.359375, 1502.9781494140625, 1366.5096435546875, 1343.3253173828125, 1266.20654296875, 1217.2750244140625, 1203.7802734375, 1198.2811279296875, 1136.2017822265625, 1068.984619140625, 934.2740478515625, 881.9190673828125, 838.1764526367188, 830.5677490234375, 809.2808837890625, 800.0206909179688, 781.5880126953125, 3309.056640625, 825.3233642578125, 2277.05517578125, 2936.79736328125, 1729.00634765625, 10957.7626953125, 1795.7880859375, 3628.58544921875, 3662.428955078125, 2940.93017578125, 2228.33447265625, 1664.068603515625, 8548.6455078125, 4382.876953125, 4363.720703125, 3024.54443359375, 2875.048095703125, 6595.11181640625, 2310.216552734375, 9714.41015625, 3602.84033203125, 2375.315673828125, 2588.641357421875, 3438.483642578125, 2785.74169921875, 3062.379150390625, 2958.34716796875, 2891.044677734375, 2589.585205078125, 2701.574462890625, 6395.982421875, 2633.401611328125, 7403.5966796875, 2309.22607421875, 1721.5692138671875, 1553.1397705078125, 1514.9820556640625, 1323.46142578125, 1176.1597900390625, 1158.84716796875, 1163.3677978515625, 935.9417724609375, 924.887939453125, 895.9010620117188, 841.87109375, 816.8914794921875, 3624.32666015625, 796.9283447265625, 796.1340942382812, 760.6724853515625, 723.9679565429688, 668.9678344726562, 655.26416015625, 645.9132690429688, 645.364990234375, 644.6031494140625, 628.5691528320312, 612.92578125, 592.36376953125, 581.7406616210938, 1776.563232421875, 1343.2894287109375, 742.6497802734375, 989.67041015625, 5828.60498046875, 4653.095703125, 871.3621215820312, 918.4615478515625, 1415.4691162109375, 1484.6492919921875, 5539.92138671875, 2280.664794921875, 1375.5396728515625, 2866.916259765625, 3585.583984375, 3071.21875, 2500.64306640625, 2688.608642578125, 1446.9205322265625, 2528.089111328125, 3111.751953125, 4190.859375, 5588.0869140625, 1788.2432861328125, 2222.219970703125, 2832.057861328125, 2559.88134765625, 1866.8580322265625, 2651.69970703125, 2118.52685546875, 1867.26806640625, 2205.280029296875, 1822.2847900390625, 1884.10888671875, 13909.3173828125, 7531.35693359375, 5778.38232421875, 4980.0810546875, 4056.916748046875, 3824.2822265625, 2434.20556640625, 2111.89892578125, 1677.87060546875, 1648.677734375, 1647.535400390625, 1589.535400390625, 1382.7806396484375, 1260.921875, 1186.106201171875, 1119.10107421875, 1013.099853515625, 1075.3485107421875, 933.0469360351562, 921.4559326171875, 859.8023681640625, 1320.73681640625, 744.104736328125, 729.0938110351562, 697.4916381835938, 659.689697265625, 633.6802368164062, 625.4147338867188, 595.4248657226562, 585.1624755859375, 1702.6260986328125, 7014.33544921875, 938.1804809570312, 863.1143188476562, 985.8995361328125, 804.3236694335938, 859.4464111328125, 5298.65478515625, 9911.6787109375, 5246.7685546875, 12395.9931640625, 6488.955078125, 2736.148193359375, 1843.6917724609375, 11139.095703125, 2831.952392578125, 1938.5673828125, 1674.5865478515625, 2711.781982421875, 4303.001953125, 3983.1630859375, 2142.85400390625, 12458.3779296875, 5256.14111328125, 3638.761962890625, 3166.60546875, 2950.837890625, 4267.97802734375, 2494.01708984375, 2330.34033203125, 2120.11181640625, 2290.882568359375, 2233.374267578125, 2157.71728515625, 5094.73828125, 2640.7216796875, 2195.8486328125, 1955.202392578125, 1528.2908935546875, 1477.515625, 1418.07177734375, 1336.2799072265625, 1206.501708984375, 1084.3165283203125, 1017.3541870117188, 1017.0186157226562, 1015.4725952148438, 1008.6675415039062, 1014.5784301757812, 998.11083984375, 990.835205078125, 971.4280395507812, 950.4669189453125, 924.6051635742188, 885.521728515625, 870.222412109375, 865.5006713867188, 855.0828857421875, 838.0744018554688, 801.0391235351562, 761.3131713867188, 714.9552612304688, 689.4349975585938, 670.2312622070312, 1526.6094970703125, 3468.671875, 1250.8216552734375, 1171.565185546875, 1646.2059326171875, 1317.89453125, 2132.30126953125, 2305.14794921875, 2162.14306640625, 1918.076416015625, 2375.416259765625, 2295.577880859375, 1914.157470703125, 1492.0963134765625, 1995.3697509765625, 1484.746826171875, 2687.607666015625, 1994.7275390625, 1267.338134765625, 1702.2098388671875, 4432.26953125, 1741.9437255859375, 4634.115234375, 1879.5709228515625, 2198.134033203125, 2074.1357421875, 2224.68017578125, 2238.01953125, 2224.058349609375, 1656.04736328125, 1626.86669921875, 2912.42138671875, 2656.541748046875, 2493.5244140625, 2387.311767578125, 1870.686767578125, 1833.0931396484375, 1820.174560546875, 1732.4429931640625, 1601.9005126953125, 1498.6490478515625, 2173.914794921875, 1279.0635986328125, 1278.742919921875, 1236.508056640625, 1144.6304931640625, 1117.35888671875, 1098.2784423828125, 1074.6480712890625, 1019.810791015625, 1005.1299438476562, 1002.0589599609375, 1052.37890625, 951.8082885742188, 902.1127319335938, 860.6838989257812, 755.6390380859375, 747.5331420898438, 735.4144287109375, 731.4603881835938, 714.0260009765625, 5706.20361328125, 1203.8868408203125, 4827.43310546875, 6594.96826171875, 5813.34423828125, 5116.89599609375, 2867.906005859375, 3274.583251953125, 2245.089599609375, 4349.6240234375, 3461.471435546875, 3932.5, 2693.2763671875, 1589.0853271484375, 4540.38525390625, 1433.8143310546875, 2689.2265625, 3450.89208984375, 1743.55810546875, 1995.0098876953125, 2682.0, 3209.19970703125, 2189.398681640625, 2231.98388671875, 2363.10986328125, 1970.3211669921875, 2191.4521484375, 1958.800048828125, 4944.4794921875, 3714.21826171875, 3520.276123046875, 3192.19384765625, 2698.68212890625, 2361.268798828125, 2017.3175048828125, 1953.833984375, 1896.5565185546875, 1648.992919921875, 1579.7415771484375, 1502.6019287109375, 1493.696044921875, 1375.4337158203125, 1307.7039794921875, 1294.2738037109375, 1234.2286376953125, 1721.001953125, 1148.0899658203125, 1027.058349609375, 1005.5262451171875, 919.6668090820312, 914.2589721679688, 894.139404296875, 852.4503173828125, 767.9600830078125, 752.9406127929688, 746.0068359375, 742.1314086914062, 733.0119018554688, 1661.3121337890625, 1898.2034912109375, 1356.3060302734375, 1968.7650146484375, 3507.311279296875, 1704.722900390625, 2426.677734375, 1045.6761474609375, 2981.429443359375, 1263.5137939453125, 1552.27001953125, 2546.663818359375, 12330.185546875, 2432.104736328125, 2667.500244140625, 3469.103271484375, 2117.369384765625, 2251.97998046875, 3017.858642578125, 2269.022216796875, 1885.2755126953125, 2164.0693359375, 2524.52587890625, 1971.6688232421875, 2167.351806640625, 1964.5716552734375, 1942.3902587890625, 6342.54052734375, 3594.673828125, 3048.0888671875, 2532.850341796875, 2240.987060546875, 1988.3372802734375, 1839.041748046875, 1742.876220703125, 1722.2537841796875, 1702.2730712890625, 1516.6693115234375, 1400.3046875, 1373.766357421875, 1359.4581298828125, 1331.0345458984375, 1231.6304931640625, 1140.3199462890625, 1091.9854736328125, 1059.853515625, 971.4344482421875, 919.5418701171875, 898.9906616210938, 834.101806640625, 782.5948486328125, 772.2041015625, 745.4580688476562, 1349.8597412109375, 717.0680541992188, 729.4677734375, 711.887939453125, 2782.54052734375, 5773.41455078125, 9369.6123046875, 3333.71337890625, 7034.103515625, 1088.765869140625, 4712.314453125, 5112.9453125, 3994.731201171875, 1973.447265625, 3289.435302734375, 2511.150390625, 2228.93115234375, 1801.1513671875, 2677.3388671875, 3398.78076171875, 7153.47509765625, 2100.512451171875, 1978.78857421875, 2916.75830078125, 2545.6748046875, 2193.85595703125, 2268.866455078125, 2798.47607421875, 3148.912109375, 2064.55322265625, 2242.437744140625, 2113.328125, 2105.217529296875, 5855.46875, 3011.955078125, 2703.690185546875, 2601.44677734375, 2321.553466796875, 1977.6650390625, 1663.2601318359375, 1642.7767333984375, 1520.865478515625, 1288.051513671875, 1267.9573974609375, 1198.48583984375, 1118.818115234375, 1094.727294921875, 1065.5557861328125, 772.660400390625, 692.9801635742188, 651.8374633789062, 641.9937133789062, 612.0961303710938, 603.580078125, 595.2933959960938, 593.320556640625, 591.5597534179688, 587.8292846679688, 577.2203979492188, 563.6936645507812, 553.395263671875, 549.0911865234375, 545.72607421875, 548.8720703125, 598.4681396484375, 860.4553833007812, 869.1509399414062, 4234.96630859375, 1239.646728515625, 1097.265869140625, 3274.373779296875, 895.4767456054688, 2353.93603515625, 2922.938232421875, 1104.4991455078125, 1256.7158203125, 5759.55322265625, 6008.720703125, 4232.13916015625, 1681.30517578125, 3167.412353515625, 2914.51806640625, 1625.630615234375, 2599.130859375, 2405.03564453125, 4742.40380859375, 1651.836669921875, 2605.476806640625, 1467.040283203125, 2633.3232421875, 2924.639404296875, 2278.44189453125, 1793.7664794921875, 1711.8111572265625, 2468.212890625, 1948.1793212890625, 1832.0599365234375, 1714.986572265625, 1680.0467529296875, 5883.80078125, 5544.55859375, 4801.380859375, 4092.850341796875, 4056.160888671875, 3701.8798828125, 2409.69775390625, 2245.771484375, 1825.6688232421875, 1819.1900634765625, 1645.3546142578125, 1589.438232421875, 1496.341796875, 1348.297119140625, 1298.1339111328125, 1202.005859375, 1171.3211669921875, 1146.8887939453125, 1092.0689697265625, 1036.4921875, 996.6685180664062, 940.5089111328125, 905.0489501953125, 864.0845336914062, 862.978759765625, 789.7686767578125, 767.2013549804688, 713.9237670898438, 688.8213500976562, 627.7005615234375, 3550.473388671875, 6956.3671875, 2408.294677734375, 2806.082275390625, 3832.94921875, 3196.802490234375, 2349.702392578125, 6046.8798828125, 4544.4326171875, 3014.23828125, 2217.3701171875, 2215.770263671875, 3674.25, 5323.5390625, 3780.903076171875, 4825.63916015625, 3701.017822265625, 2926.078125, 4355.89990234375, 3186.37353515625, 3167.873291015625, 4093.06103515625, 5303.10986328125, 2501.082275390625, 2992.7900390625, 10800.291015625, 4023.424072265625, 2624.0859375, 2139.261962890625, 1823.78515625, 1705.621337890625, 1685.7105712890625, 1457.83740234375, 1168.7227783203125, 981.4544067382812, 954.4898071289062, 812.751953125, 812.117919921875, 791.4542846679688, 776.8275756835938, 620.3555297851562, 616.4047241210938, 589.6724853515625, 574.4669189453125, 574.0042114257812, 563.76025390625, 560.847412109375, 551.8370971679688, 536.9722900390625, 527.7181396484375, 511.9448547363281, 507.9125671386719, 507.5291442871094, 501.8929748535156, 478.5290832519531, 594.3421020507812, 4736.5908203125, 1919.254638671875, 697.7093505859375, 3522.0283203125, 5902.35546875, 4152.38623046875, 851.3833618164062, 1866.884033203125, 3524.307373046875, 822.7606811523438, 3225.87890625, 3583.48583984375, 2737.91943359375, 4557.30712890625, 3309.994140625, 4636.8974609375, 3771.90478515625, 1381.1181640625, 2571.436279296875, 2120.492431640625, 1532.9610595703125, 2352.52587890625, 2092.693115234375, 1680.1937255859375, 2546.245361328125, 1775.764404296875, 1573.679443359375, 1559.4713134765625], \"Term\": [\"apple\", \"watch\", \"kim\", \"al\", \"video\", \"isi\", \"north\", \"police\", \"foley\", \"shot\", \"brown\", \"said\", \"islamic\", \"state\", \"border\", \"ebola\", \"u\", \"jong\", \"syria\", \"american\", \"man\", \"iraq\", \"girl\", \"group\", \"officer\", \"haram\", \"boko\", \"korea\", \"job\", \"un\", \"hunter\", \"godane\", \"jordanian\", \"mueller\", \"drone\", \"abdullah\", \"homeland\", \"dhs\", \"coalition\", \"raqqa\", \"somali\", \"republican\", \"missile\", \"susteren\", \"observatory\", \"congressman\", \"beirut\", \"chlorine\", \"arizona\", \"kirby\", \"abdi\", \"sunni\", \"kayla\", \"trained\", \"mogadishu\", \"greta\", \"rank\", \"ansar\", \"plotting\", \"explosive\", \"pilot\", \"jordan\", \"insurgent\", \"border\", \"airstrike\", \"pentagon\", \"apprehended\", \"weapon\", \"terrorist\", \"patrol\", \"plane\", \"southern\", \"fighter\", \"civilian\", \"isi\", \"strike\", \"military\", \"u\", \"region\", \"intelligence\", \"force\", \"group\", \"al\", \"islamic\", \"syrian\", \"state\", \"said\", \"militant\", \"killed\", \"attack\", \"air\", \"syria\", \"american\", \"official\", \"city\", \"security\", \"used\", \"could\", \"iraq\", \"wood\", \"rogen\", \"sony\", \"bank\", \"island\", \"culkin\", \"retail\", \"wozniak\", \"percent\", \"needed\", \"macaulay\", \"completely\", \"tiger\", \"hank\", \"seeking\", \"seth\", \"hole\", \"abandoned\", \"pregnancy\", \"dark\", \"factory\", \"guilty\", \"knocked\", \"2005\", \"chamber\", \"trading\", \"warner\", \"jessica\", \"vladi\", \"noting\", \"mid\", \"various\", \"alone\", \"stated\", \"join\", \"book\", \"eye\", \"band\", \"injury\", \"career\", \"work\", \"2010\", \"year\", \"batman\", \"wanted\", \"great\", \"home\", \"still\", \"found\", \"time\", \"research\", \"become\", \"first\", \"scene\", \"also\", \"even\", \"age\", \"day\", \"common\", \"said\", \"last\", \"although\", \"well\", \"made\", \"since\", \"thursday\", \"new\", \"month\", \"back\", \"put\", \"report\", \"one\", \"nelson\", \"spice\", \"pumpkin\", \"hurt\", \"condom\", \"panel\", \"durex\", \"f\", \"follower\", \"pressure\", \"credit\", \"entering\", \"actively\", \"ben\", \"sharing\", \"abrams\", \"text\", \"rahim\", \"theory\", \"esquire\", \"conspiracy\", \"purpose\", \"dera\", \"pour\", \"singh\", \"flavored\", \"ram\", \"reveals\", \"zero\", \"plot\", \"speculation\", \"400\", \"au\", \"arrival\", \"pic\", \"domestic\", \"r\", \"numerous\", \"et\", \"oct\", \"king\", \"false\", \"twitter\", \"internet\", \"officially\", \"com\", \"texas\", \"secret\", \"rumor\", \"espn\", \"headline\", \"update\", \"future\", \"content\", \"news\", \"6\", \"january\", \"social\", \"article\", \"claim\", \"post\", \"report\", \"medium\", \"fact\", \"story\", \"today\", \"2014\", \"people\", \"image\", \"death\", \"true\", \"2015\", \"night\", \"information\", \"one\", \"user\", \"called\", \"photo\", \"tape\", \"nasa\", \"pm\", \"gift\", \"suggestion\", \"streaming\", \"explanation\", \"noise\", \"encounter\", \"messaging\", \"affair\", \"bright\", \"mortgage\", \"bogus\", \"thus\", \"calm\", \"rehab\", \"texting\", \"scenario\", \"advancing\", \"imagine\", \"effectively\", \"capacity\", \"huffington\", \"nowhere\", \"confirming\", \"confirms\", \"w\", \"brush\", \"aiming\", \"cnn\", \"updated\", \"darkness\", \"negative\", \"drawn\", \"tom\", \"purported\", \"certificate\", \"convinced\", \"impact\", \"event\", \"type\", \"paid\", \"complete\", \"light\", \"mention\", \"car\", \"evening\", \"paul\", \"joe\", \"hour\", \"working\", \"planning\", \"previously\", \"sound\", \"space\", \"looking\", \"november\", \"teen\", \"video\", \"say\", \"time\", \"12\", \"evidence\", \"account\", \"day\", \"made\", \"back\", \"also\", \"may\", \"claim\", \"news\", \"six\", \"could\", \"message\", \"appears\", \"u\", \"show\", \"like\", \"would\", \"last\", \"one\", \"first\", \"saying\", \"know\", \"foley\", \"somers\", \"sotloff\", \"steven\", \"wright\", \"executioner\", \"photojournalist\", \"freelance\", \"yemeni\", \"globalpost\", \"kneeling\", \"captor\", \"aqap\", \"aggression\", \"diane\", \"deepest\", \"sana\", \"zone\", \"gruesome\", \"appalled\", \"jumpsuit\", \"mourn\", \"beside\", \"bloodshed\", \"ansi\", \"announcing\", \"irbil\", \"hampshire\", \"hammond\", \"criminality\", \"haines\", \"yemen\", \"execution\", \"cameron\", \"luke\", \"journalist\", \"barack\", \"james\", \"beheading\", \"murder\", \"obama\", \"france\", \"captive\", \"cage\", \"innocent\", \"kill\", \"american\", \"killer\", \"accent\", \"masked\", \"video\", \"family\", \"syria\", \"2012\", \"david\", \"islamic\", \"u\", \"british\", \"iraq\", \"state\", \"president\", \"released\", \"militant\", \"statement\", \"hostage\", \"isi\", \"said\", \"group\", \"man\", \"life\", \"iphone\", \"apps\", \"steel\", \"cable\", \"pricing\", \"battery\", \"macbook\", \"smartwatch\", \"range\", \"stainless\", \"samsung\", \"variant\", \"wearable\", \"consumer\", \"chip\", \"developer\", \"munster\", \"karat\", \"priced\", \"seam\", \"aluminum\", \"9to5mac\", \"sapphire\", \"strap\", \"350\", \"mm\", \"arcuri\", \"349\", \"999\", \"igen\", \"gold\", \"apple\", \"edition\", \"watch\", \"option\", \"device\", \"price\", \"sport\", \"model\", \"cost\", \"launch\", \"per\", \"expensive\", \"feature\", \"000\", \"version\", \"app\", \"company\", \"2015\", \"user\", \"product\", \"5\", \"new\", \"would\", \"store\", \"4\", \"end\", \"case\", \"also\", \"could\", \"report\", \"according\", \"much\", \"emwazi\", \"mexico\", \"bary\", \"abdel\", \"terrorism\", \"teacher\", \"mi5\", \"qureshi\", \"bin\", \"kuwait\", \"sarajevo\", \"bosnia\", \"majed\", \"westminster\", \"graf\", \"iguala\", \"tanzania\", \"flown\", \"guerrero\", \"underage\", \"babici\", \"educational\", \"grave\", \"goto\", \"egyptian\", \"reproductive\", \"metropolitan\", \"nenad\", \"bus\", \"kenji\", \"jihadi\", \"vandalism\", \"german\", \"l\", \"alan\", \"london\", \"mass\", \"accused\", \"mexican\", \"john\", \"identity\", \"britain\", \"mr\", \"prison\", \"british\", \"hostage\", \"mohammed\", \"police\", \"sex\", \"believed\", \"crime\", \"known\", \"school\", \"said\", \"west\", \"name\", \"five\", \"security\", \"found\", \"child\", \"girl\", \"later\", \"official\", \"washington\", \"year\", \"one\", \"group\", \"baghdadi\", \"rosenberg\", \"lebanese\", \"bakr\", \"israeli\", \"dulaimi\", \"israel\", \"lebanon\", \"rescue\", \"dna\", \"nusra\", \"detainee\", \"abu\", \"proclaimed\", \"saja\", \"recovered\", \"gaza\", \"ypg\", \"unverified\", \"crossed\", \"caliph\", \"warren\", \"hamid\", \"guantanamo\", \"mtv\", \"zeid\", \"graham\", \"useful\", \"affiliate\", \"abou\", \"qatar\", \"supporter\", \"gill\", \"recruit\", \"al\", \"active\", \"command\", \"capture\", \"wife\", \"student\", \"leader\", \"captured\", \"prisoner\", \"fight\", \"ministry\", \"son\", \"kurdish\", \"iraqi\", \"child\", \"woman\", \"state\", \"iraq\", \"syria\", \"said\", \"islamic\", \"isi\", \"group\", \"official\", \"syrian\", \"report\", \"reported\", \"year\", \"told\", \"source\", \"spider\", \"hair\", \"skin\", \"mcdonald\", \"burger\", \"girlfriend\", \"dylan\", \"bali\", \"lego\", \"fever\", \"trail\", \"tropical\", \"fast\", \"burrowed\", \"insect\", \"nice\", \"ok\", \"handle\", \"cc\", \"mouth\", \"abdomen\", \"rob\", \"bite\", \"behaviour\", \"violated\", \"jacket\", \"soil\", \"spends\", \"portion\", \"mite\", \"j\", \"noticed\", \"cool\", \"stomach\", \"dating\", \"thomas\", \"suit\", \"australian\", \"science\", \"dr\", \"contacted\", \"feel\", \"unusual\", \"university\", \"whatever\", \"kind\", \"something\", \"man\", \"started\", \"never\", \"chinese\", \"sure\", \"thing\", \"lot\", \"like\", \"told\", \"way\", \"thought\", \"day\", \"really\", \"food\", \"think\", \"doctor\", \"old\", \"get\", \"said\", \"going\", \"friend\", \"back\", \"year\", \"would\", \"one\", \"say\", \"people\", \"kim\", \"jong\", \"korea\", \"korean\", \"pyongyang\", \"il\", \"yo\", \"ankle\", \"india\", \"supreme\", \"dictator\", \"ill\", \"overweight\", \"gout\", \"estate\", \"bureau\", \"seoul\", \"assembly\", \"madden\", \"fractured\", \"kumar\", \"hwang\", \"independence\", \"whisky\", \"nkis\", \"suresh\", \"sung\", \"nikolaev\", \"bishop\", \"recovering\", \"un\", \"elite\", \"north\", \"weight\", \"maintained\", \"absence\", \"raped\", \"pain\", \"party\", \"nun\", \"scotland\", \"restaurant\", \"south\", \"sister\", \"condition\", \"public\", \"leader\", \"health\", \"official\", \"leadership\", \"said\", \"medical\", \"source\", \"state\", \"people\", \"since\", \"government\", \"reported\", \"would\", \"report\", \"haram\", \"boko\", \"nigerian\", \"nigeria\", \"castro\", \"ceasefire\", \"shekau\", \"commercial\", \"chibok\", \"olsen\", \"chad\", \"jetliner\", \"fidel\", \"agreement\", \"cease\", \"plant\", \"airliner\", \"ahmadu\", \"abubakar\", \"truce\", \"benghazi\", \"2001\", \"hassan\", \"suspended\", \"havana\", \"dan\", \"presidential\", \"goodluck\", \"bringbackourgirls\", \"airbus\", \"libyan\", \"suspension\", \"tripoli\", \"schoolgirl\", \"cuba\", \"girl\", \"jonathan\", \"aircraft\", \"libya\", \"islamist\", \"tour\", \"agreed\", \"government\", \"11\", \"release\", \"kidnapped\", \"announced\", \"group\", \"200\", \"said\", \"attack\", \"deal\", \"friday\", \"leader\", \"president\", \"month\", \"official\", \"report\", \"since\", \"would\", \"lin\", \"paler\", \"comcast\", \"conal\", \"buy\", \"rourke\", \"liquor\", \"kadalim\", \"fatwa\", \"cook\", \"snowman\", \"michelle\", \"purchase\", \"taibbi\", \"ebay\", \"donation\", \"homeless\", \"55\", \"employer\", \"prankster\", \"fruit\", \"respect\", \"vocativ\", \"experiment\", \"secretly\", \"beggar\", \"controller\", \"anywhere\", \"auction\", \"mom\", \"josh\", \"prank\", \"bos\", \"leaked\", \"customer\", \"money\", \"fee\", \"pulling\", \"complaint\", \"partner\", \"million\", \"employee\", \"dollar\", \"saudi\", \"store\", \"youtube\", \"islam\", \"100\", \"park\", \"phone\", \"street\", \"company\", \"video\", \"sell\", \"6\", \"service\", \"get\", \"issue\", \"people\", \"000\", \"building\", \"would\", \"call\", \"say\", \"brown\", \"wilson\", \"pause\", \"ferguson\", \"attorney\", \"blumenthal\", \"gunshot\", \"tor\", \"louis\", \"darren\", \"autopsy\", \"chat\", \"lopa\", \"missouri\", \"lemon\", \"sniper\", \"volley\", \"theft\", \"demonstrator\", \"client\", \"browser\", \"mayor\", \"dorian\", \"deepdotweb\", \"exit\", \"tribunal\", \"transpired\", \"relevance\", \"exchanged\", \"florissant\", \"glide\", \"audio\", \"commissioner\", \"brooklyn\", \"blasio\", \"constantine\", \"bratton\", \"recording\", \"officer\", \"fired\", \"shot\", \"shooting\", \"marijuana\", \"unarmed\", \"police\", \"johnson\", \"st\", \"gunfire\", \"fbi\", \"michael\", \"heard\", \"court\", \"said\", \"man\", \"friend\", \"case\", \"monday\", \"time\", \"six\", \"9\", \"arrest\", \"least\", \"told\", \"tuesday\", \"smith\", \"fish\", \"catfish\", \"afghanistan\", \"dinner\", \"marine\", \"palace\", \"twin\", \"mushroom\", \"ferrari\", \"vega\", \"helicopter\", \"land\", \"po\", \"remark\", \"bay\", \"wels\", \"meter\", \"specie\", \"shore\", \"lucky\", \"45\", \"river\", \"diagnosed\", \"joy\", \"helmet\", \"mgm\", \"shane\", \"130\", \"yeti\", \"mall\", \"patient\", \"billion\", \"grenade\", \"taliban\", \"garden\", \"christmas\", \"bill\", \"300\", \"19\", \"14\", \"weekend\", \"church\", \"riquelme\", \"la\", \"creature\", \"close\", \"footage\", \"meal\", \"water\", \"one\", \"result\", \"said\", \"big\", \"000\", \"show\", \"new\", \"year\", \"video\", \"caught\", \"medium\", \"owner\", \"catholic\", \"priest\", \"neal\", \"male\", \"v\", \"pet\", \"ilic\", \"superman\", \"holy\", \"heaven\", \"\\u00e0\", \"une\", \"scar\", \"sad\", \"medic\", \"author\", \"wonderful\", \"vatican\", \"gender\", \"est\", \"roman\", \"oliver\", \"goldfish\", \"cesar\", \"razor\", \"cruel\", \"perfectly\", \"macedonian\", \"micheal\", \"animal\", \"cleric\", \"boy\", \"de\", \"god\", \"dog\", \"pope\", \"penis\", \"francis\", \"le\", \"mother\", \"father\", \"heart\", \"rushed\", \"hospital\", \"belonging\", \"died\", \"old\", \"female\", \"doctor\", \"woman\", \"would\", \"son\", \"life\", \"story\", \"operation\", \"year\", \"man\", \"meteorite\", \"asteroid\", \"kai\", \"crater\", \"managua\", \"nicaraguan\", \"nikolai\", \"sky\", \"nicaragua\", \"sgt\", \"spca\", \"magnet\", \"attract\", \"oberholtzer\", \"suitcase\", \"rc\", \"fireball\", \"object\", \"classmate\", \"developing\", \"kryaglyachenko\", \"chicken\", \"kfc\", \"tan\", \"superpower\", \"planet\", \"spoon\", \"cooke\", \"extensive\", \"magneto\", \"wide\", \"millan\", \"wave\", \"truck\", \"earth\", \"scientist\", \"glass\", \"welfare\", \"station\", \"blast\", \"scottish\", \"airport\", \"said\", \"foot\", \"near\", \"people\", \"capital\", \"local\", \"would\", \"left\", \"sunday\", \"found\", \"one\", \"want\", \"could\", \"reported\", \"told\", \"bale\", \"sorkin\", \"rat\", \"vogue\", \"anna\", \"wintour\", \"aaron\", \"biopic\", \"boyle\", \"delight\", \"danny\", \"biography\", \"walter\", \"capsule\", \"isaacson\", \"directed\", \"hip\", \"hop\", \"sugarhill\", \"oscar\", \"infestation\", \"tower\", \"dicaprio\", \"ashton\", \"rodent\", \"kutcher\", \"board\", \"gee\", \"folk\", \"leonardo\", \"amazon\", \"steve\", \"job\", \"google\", \"office\", \"winning\", \"actor\", \"film\", \"movie\", \"founder\", \"play\", \"rapper\", \"project\", \"variety\", \"christian\", \"role\", \"new\", \"song\", \"magazine\", \"york\", \"co\", \"box\", \"big\", \"one\", \"said\", \"talk\", \"according\", \"part\", \"source\", \"hbo\", \"chandler\", \"detroit\", \"phelps\", \"batmobile\", \"snow\", \"cctv\", \"williams\", \"seidel\", \"jess\", \"disney\", \"teletubbies\", \"snyder\", \"putin\", \"macklemorejoinedisis\", \"macklemore\", \"netflix\", \"holt\", \"carlisle\", \"bird\", \"anchor\", \"cctvnews\", \"swimmer\", \"sneeze\", \"lianne\", \"ikwiz\", \"satire\", \"sneezed\", \"sneezing\", \"cn\", \"foxnewspress\", \"genitalia\", \"brian\", \"pa\", \"hoax\", \"satirical\", \"subscription\", \"fake\", \"edward\", \"english\", \"star\", \"episode\", \"supported\", \"name\", \"story\", \"site\", \"tweet\", \"article\", \"website\", \"nbc\", \"facebook\", \"tv\", \"news\", \"game\", \"woman\", \"viral\", \"police\", \"one\", \"service\", \"student\", \"picture\", \"said\", \"first\", \"like\", \"war\", \"film\", \"canadian\", \"vickers\", \"ottawa\", \"memorial\", \"bibeau\", \"zehaf\", \"gonzalez\", \"sergeant\", \"harper\", \"campus\", \"fence\", \"robot\", \"cirillo\", \"rcmp\", \"stephen\", \"caucus\", \"rifle\", \"alarm\", \"nathan\", \"entrance\", \"intruder\", \"sensor\", \"quebec\", \"shooter\", \"blue\", \"montreal\", \"lockdown\", \"library\", \"ceremonial\", \"pierson\", \"guard\", \"parliament\", \"mp\", \"kevin\", \"gunman\", \"hill\", \"canada\", \"house\", \"soldier\", \"arm\", \"room\", \"door\", \"building\", \"shot\", \"war\", \"security\", \"shooting\", \"incident\", \"service\", \"inside\", \"wednesday\", \"police\", \"said\", \"national\", \"man\", \"ebola\", \"virus\", \"symptom\", \"mashable\", \"icloud\", \"scorpion\", \"setting\", \"kansa\", \"reset\", \"deleted\", \"infection\", \"contracted\", \"cdc\", \"feig\", \"outbreak\", \"epidemic\", \"quarantined\", \"tunisia\", \"vomiting\", \"incinerated\", \"infected\", \"christy\", \"louise\", \"medicine\", \"bug\", \"purdon\", \"hamele\", \"sabah\", \"diarrhea\", \"malaria\", \"frisco\", \"banksy\", \"artist\", \"biological\", \"disease\", \"mosul\", \"health\", \"deadly\", \"africa\", \"hospital\", \"dallas\", \"case\", \"city\", \"iraqi\", \"isi\", \"iraq\", \"report\", \"official\", \"document\", \"reported\", \"country\", \"organization\", \"militant\", \"medium\", \"area\", \"said\", \"source\", \"world\", \"told\"], \"Total\": [44045.0, 30442.0, 22236.0, 28784.0, 46117.0, 34001.0, 20626.0, 24473.0, 16882.0, 17942.0, 13910.0, 130182.0, 26540.0, 41793.0, 17448.0, 10801.0, 47036.0, 12495.0, 22614.0, 20635.0, 29728.0, 19261.0, 16631.0, 33140.0, 13616.0, 10156.0, 10093.0, 10183.0, 11492.0, 10498.0, 5754.140625, 3813.409912109375, 3798.125244140625, 3068.315185546875, 2764.35498046875, 2667.274169921875, 2439.033935546875, 2370.68115234375, 2199.068603515625, 1760.74267578125, 1741.43505859375, 1556.564453125, 1492.158203125, 1452.6541748046875, 1367.0777587890625, 1317.09765625, 1200.475341796875, 1181.6390380859375, 1161.8792724609375, 1156.28515625, 1095.3751220703125, 1048.4049072265625, 1042.602294921875, 1027.8388671875, 1002.5380859375, 906.73095703125, 1130.682373046875, 852.205810546875, 844.7319946289062, 827.7784423828125, 3471.638671875, 3161.00048828125, 1359.9146728515625, 17448.232421875, 2054.527587890625, 3380.0048828125, 1723.8450927734375, 6895.7119140625, 11890.572265625, 3755.820068359375, 3660.18310546875, 3675.543701171875, 11753.689453125, 2127.66943359375, 34001.8125, 6889.93701171875, 11623.712890625, 47036.36328125, 3495.146484375, 9659.638671875, 13906.015625, 33140.14453125, 28784.345703125, 26540.73828125, 10220.501953125, 41793.3046875, 130182.0390625, 21493.009765625, 16109.9033203125, 15911.2041015625, 9760.0302734375, 22614.630859375, 20635.5, 30180.775390625, 16386.361328125, 16541.8828125, 9908.5341796875, 26659.005859375, 19261.0078125, 2814.6787109375, 2651.458984375, 2534.4033203125, 2343.669677734375, 2151.964111328125, 1997.1805419921875, 1951.196044921875, 1819.3365478515625, 3073.62451171875, 1717.009521484375, 1601.7965087890625, 1691.28369140625, 1486.06591796875, 1418.6978759765625, 1624.712646484375, 1225.39013671875, 1219.380126953125, 1126.05810546875, 1084.2322998046875, 1037.794677734375, 944.3211669921875, 925.5253295898438, 910.5823364257812, 894.7097778320312, 905.5809936523438, 844.88916015625, 838.2037963867188, 828.4140014648438, 804.1009521484375, 783.9832153320312, 1815.86279296875, 1709.27294921875, 1533.2525634765625, 1645.035888671875, 1890.34375, 1296.2916259765625, 2725.967041015625, 2927.657958984375, 2749.508056640625, 1607.2147216796875, 8499.3330078125, 2129.173095703125, 43887.42578125, 2020.481689453125, 3876.2158203125, 2719.3740234375, 8710.7900390625, 12525.0458984375, 12955.2470703125, 35828.0859375, 3090.34033203125, 4324.4794921875, 24645.474609375, 4346.2685546875, 37042.6015625, 16184.5615234375, 3847.48828125, 20992.259765625, 3740.1923828125, 130182.0390625, 22929.8359375, 4708.1181640625, 11366.2373046875, 15897.162109375, 15650.396484375, 6923.6728515625, 28814.07421875, 16636.50390625, 14271.9296875, 7279.28662109375, 41320.796875, 42070.61328125, 2152.49462890625, 2061.399658203125, 1891.640869140625, 1653.4779052734375, 1647.218994140625, 1590.6082763671875, 1479.2799072265625, 1314.2220458984375, 1296.2689208984375, 1204.08642578125, 1173.161376953125, 1162.4842529296875, 1111.103271484375, 1137.2100830078125, 1078.9892578125, 1075.7303466796875, 1057.9437255859375, 912.17724609375, 974.5732421875, 904.9359741210938, 886.8319702148438, 821.717529296875, 793.87060546875, 742.4800415039062, 723.2286376953125, 717.208984375, 619.3521118164062, 610.7633056640625, 607.9302368164062, 571.0779418945312, 2572.599365234375, 991.1123657226562, 1086.5494384765625, 795.333251953125, 2705.20361328125, 2321.799560546875, 2940.146240234375, 1059.6759033203125, 1298.5660400390625, 1690.549072265625, 4069.9658203125, 3986.037353515625, 14052.091796875, 5586.65771484375, 1713.386962890625, 8193.427734375, 5455.490234375, 4752.5771484375, 6945.888671875, 2060.65771484375, 1892.2281494140625, 3847.62109375, 2055.892822265625, 2916.0615234375, 30888.234375, 7722.95361328125, 3812.368408203125, 8461.3681640625, 8849.4736328125, 18269.48046875, 13646.2333984375, 41320.796875, 19338.236328125, 7419.98876953125, 20749.59765625, 9038.9384765625, 10536.6767578125, 33503.2578125, 7405.24609375, 11934.5966796875, 5535.69677734375, 6817.52783203125, 7067.4228515625, 8865.03515625, 42070.61328125, 9344.49609375, 9082.1298828125, 12599.9560546875, 3333.77978515625, 2407.395751953125, 2290.4287109375, 2018.8421630859375, 1163.7509765625, 1649.6390380859375, 890.7138061523438, 856.3989868164062, 826.1820068359375, 796.9140014648438, 1534.274169921875, 717.6074829101562, 668.8597412109375, 650.5775756835938, 1266.2667236328125, 616.2090454101562, 612.3765869140625, 594.4658203125, 576.5643310546875, 557.1570434570312, 545.7327880859375, 769.7536010742188, 478.7739562988281, 493.4457092285156, 420.6513366699219, 413.3537902832031, 383.2122802734375, 377.7626953125, 377.17547607421875, 360.72222900390625, 7426.9072265625, 979.030517578125, 617.6978759765625, 397.8707275390625, 984.2435302734375, 923.36083984375, 941.8036499023438, 710.0711059570312, 966.3658447265625, 3592.8974609375, 7450.42822265625, 2154.037353515625, 2529.807861328125, 1344.3052978515625, 1787.2685546875, 1619.28857421875, 6238.64306640625, 1246.751220703125, 3599.07421875, 1498.7518310546875, 7417.90478515625, 5760.66455078125, 1685.894775390625, 4165.6435546875, 3291.49951171875, 3199.007080078125, 4657.791015625, 3630.302734375, 2709.38525390625, 46117.3203125, 30223.595703125, 35828.0859375, 7466.74609375, 3910.10888671875, 6086.607421875, 20992.259765625, 15897.162109375, 14271.9296875, 37042.6015625, 16188.4453125, 18269.48046875, 30888.234375, 8183.9619140625, 26659.005859375, 6643.53076171875, 5808.5654296875, 47036.36328125, 12082.732421875, 21560.80078125, 36286.47265625, 22929.8359375, 42070.61328125, 24645.474609375, 9518.009765625, 11553.9345703125, 16882.939453125, 5373.52197265625, 4203.96240234375, 3031.28271484375, 2272.172119140625, 1730.0406494140625, 1702.22705078125, 1326.1182861328125, 1259.9073486328125, 1185.27587890625, 986.9970092773438, 903.4232177734375, 894.829345703125, 866.9690551757812, 811.650390625, 804.175048828125, 798.790283203125, 788.5770874023438, 736.8275146484375, 728.9214477539062, 726.5934448242188, 691.9402465820312, 644.7438354492188, 617.0626220703125, 555.9487915039062, 539.35546875, 534.98583984375, 519.0668334960938, 517.6278686523438, 507.8141174316406, 4057.744384765625, 3219.396484375, 2897.589111328125, 1649.154052734375, 2100.129638671875, 11692.74609375, 2396.19091796875, 8006.3603515625, 4572.3623046875, 4308.10205078125, 12800.076171875, 1639.577392578125, 2979.822998046875, 1618.3759765625, 1562.13330078125, 2863.00927734375, 20635.5, 3227.102294921875, 1872.33544921875, 3079.337646484375, 46117.3203125, 15660.5380859375, 22614.630859375, 6171.8662109375, 5928.60791015625, 26540.73828125, 47036.36328125, 11881.1689453125, 19261.0078125, 41793.3046875, 10823.6103515625, 11767.1201171875, 21493.009765625, 13990.185546875, 7773.1279296875, 34001.8125, 130182.0390625, 33140.14453125, 29728.263671875, 14424.865234375, 8000.767578125, 2959.200927734375, 2382.1240234375, 2274.8017578125, 1931.86474609375, 1920.4808349609375, 1843.332763671875, 1767.32275390625, 1705.7054443359375, 1550.97265625, 1518.578125, 1477.606201171875, 1476.41650390625, 1390.564208984375, 1328.0589599609375, 1270.4307861328125, 1250.5511474609375, 1195.9759521484375, 1108.472412109375, 1246.493896484375, 1097.04541015625, 1066.9825439453125, 1056.7000732421875, 1051.525146484375, 1031.3516845703125, 1054.735107421875, 979.3660278320312, 956.1544189453125, 937.1871948242188, 902.4331665039062, 7763.13232421875, 44045.5859375, 4462.6923828125, 30442.755859375, 1754.1793212890625, 5059.8935546875, 4781.736328125, 2533.942626953125, 4848.07080078125, 3674.91259765625, 4891.30615234375, 2480.177734375, 1822.6185302734375, 3875.310546875, 13021.130859375, 4221.517578125, 4296.68408203125, 12341.18359375, 6817.52783203125, 9344.49609375, 4070.038818359375, 5371.88623046875, 28814.07421875, 36286.47265625, 6370.5390625, 4432.99462890625, 7721.6279296875, 12429.4853515625, 37042.6015625, 26659.005859375, 41320.796875, 26879.25390625, 8500.5478515625, 7340.77734375, 3195.776123046875, 2849.21923828125, 2585.451171875, 2558.41259765625, 1996.236083984375, 1903.2894287109375, 1697.6204833984375, 1605.481201171875, 1526.7606201171875, 1246.90087890625, 1174.8829345703125, 1094.7872314453125, 1041.5322265625, 1007.1940307617188, 985.1027221679688, 828.9716796875, 819.887451171875, 813.4058227539062, 807.2501831054688, 756.0034790039062, 743.1929321289062, 739.1552124023438, 709.647216796875, 689.72509765625, 652.3905639648438, 649.2107543945312, 603.3983764648438, 779.7164306640625, 582.51025390625, 5477.79345703125, 649.4691162109375, 836.6460571289062, 2645.127685546875, 1355.377685546875, 7535.7529296875, 2828.59423828125, 1736.17578125, 1447.9847412109375, 11003.37890625, 3807.01953125, 2314.91845703125, 15218.599609375, 1896.777099609375, 11881.1689453125, 7773.1279296875, 2942.2783203125, 24473.36328125, 2775.859619140625, 11263.720703125, 3083.7001953125, 12046.5625, 6524.755859375, 130182.0390625, 5598.0458984375, 15984.33203125, 5731.29296875, 16541.8828125, 12955.2470703125, 10200.2451171875, 16631.134765625, 10593.134765625, 30180.775390625, 7511.1962890625, 43887.42578125, 42070.61328125, 33140.14453125, 9236.201171875, 5054.51904296875, 4398.2275390625, 3240.8662109375, 2829.3427734375, 2825.250244140625, 2793.15478515625, 2271.24609375, 2015.931396484375, 1731.9029541015625, 1535.4287109375, 1234.9124755859375, 4904.98876953125, 1073.21240234375, 967.6708374023438, 892.7628784179688, 875.015625, 748.1768188476562, 738.323974609375, 730.127197265625, 684.4459228515625, 615.1514282226562, 592.9130859375, 621.7865600585938, 583.5679321289062, 575.8010864257812, 561.876220703125, 554.0908813476562, 549.3271484375, 545.6213989257812, 698.6514892578125, 1127.8380126953125, 1694.142822265625, 1765.6497802734375, 28784.345703125, 1379.8504638671875, 1832.76123046875, 3616.898193359375, 5590.2275390625, 7124.751953125, 15923.7060546875, 9005.0517578125, 3917.164794921875, 3886.847412109375, 4029.433349609375, 9654.3076171875, 7210.478515625, 10679.412109375, 10200.2451171875, 16504.943359375, 41793.3046875, 19261.0078125, 22614.630859375, 130182.0390625, 26540.73828125, 34001.8125, 33140.14453125, 30180.775390625, 10220.501953125, 41320.796875, 22300.958984375, 43887.42578125, 34086.02734375, 20733.39453125, 5319.46533203125, 4341.48681640625, 3206.794189453125, 2715.299072265625, 2170.30517578125, 2097.33642578125, 1530.090087890625, 1477.8905029296875, 1300.85498046875, 1231.6778564453125, 1181.755615234375, 1053.7537841796875, 1025.363037109375, 998.7261352539062, 830.4557495117188, 722.6549072265625, 702.8739013671875, 764.7144165039062, 653.5166625976562, 631.0355224609375, 619.0335083007812, 610.3214111328125, 598.6478881835938, 694.7233276367188, 554.68212890625, 537.59423828125, 538.2001342773438, 534.1724853515625, 554.3245239257812, 510.8236083984375, 2716.0986328125, 968.7056274414062, 1040.1531982421875, 1440.8045654296875, 732.8915405273438, 9900.3271484375, 1224.895751953125, 1412.409423828125, 1361.4871826171875, 967.6782836914062, 1884.4609375, 3043.140625, 1276.365234375, 5698.19140625, 1754.989990234375, 3159.302490234375, 8285.3984375, 29728.263671875, 4316.12548828125, 8200.294921875, 2195.98046875, 3789.66943359375, 8197.4873046875, 5966.77734375, 21560.80078125, 34086.02734375, 11608.8037109375, 7150.82666015625, 20992.259765625, 4954.15234375, 5641.748046875, 8801.462890625, 5700.7392578125, 16071.84375, 13477.123046875, 130182.0390625, 10920.177734375, 13215.669921875, 14271.9296875, 43887.42578125, 36286.47265625, 42070.61328125, 30223.595703125, 33503.2578125, 22236.919921875, 12495.6533203125, 10183.1123046875, 8856.27734375, 3380.478271484375, 3047.991943359375, 2871.08349609375, 2858.599609375, 2409.650390625, 1858.149658203125, 1520.3062744140625, 1296.170166015625, 1267.9058837890625, 1251.9827880859375, 1249.3822021484375, 1236.420654296875, 1230.6534423828125, 1225.61865234375, 1215.9605712890625, 962.0663452148438, 935.59375, 900.1026000976562, 799.068115234375, 777.1830444335938, 774.6177368164062, 745.481689453125, 731.9542236328125, 722.823974609375, 719.1040649414062, 682.7056884765625, 10498.1103515625, 1099.6646728515625, 20626.357421875, 2239.3896484375, 932.6870727539062, 2592.4384765625, 900.9334716796875, 1472.9869384765625, 4627.97021484375, 2743.389404296875, 3475.064697265625, 2802.78564453125, 7042.52734375, 3696.215087890625, 3665.779296875, 9708.537109375, 15923.7060546875, 9488.97265625, 30180.775390625, 2900.836669921875, 130182.0390625, 4917.189453125, 20733.39453125, 41793.3046875, 33503.2578125, 15650.396484375, 23999.759765625, 22300.958984375, 36286.47265625, 41320.796875, 10156.7109375, 10093.3525390625, 5923.52783203125, 5322.34423828125, 3430.0048828125, 3218.49951171875, 3070.920654296875, 2476.052734375, 2132.55126953125, 1834.8179931640625, 1749.5010986328125, 1702.0562744140625, 1702.0423583984375, 1517.296142578125, 1503.9149169921875, 1367.4464111328125, 1344.2620849609375, 1267.143310546875, 1218.2117919921875, 1204.717041015625, 1199.2178955078125, 1137.1385498046875, 1069.92138671875, 935.2107543945312, 882.8557739257812, 839.1134643554688, 831.5044555664062, 810.2175903320312, 800.9573974609375, 782.5247802734375, 3355.992431640625, 827.3091430664062, 2401.70166015625, 3226.945068359375, 1912.9798583984375, 16631.134765625, 2072.981689453125, 5023.5205078125, 5094.8818359375, 4388.953125, 3033.700439453125, 1963.2349853515625, 23999.759765625, 9263.7822265625, 11477.4619140625, 6262.3759765625, 5855.19873046875, 33140.14453125, 3824.492919921875, 130182.0390625, 15911.2041015625, 4724.31005859375, 6257.2109375, 15923.7060546875, 10823.6103515625, 16636.50390625, 30180.775390625, 41320.796875, 15650.396484375, 36286.47265625, 6396.939453125, 2634.3583984375, 7406.40283203125, 2310.182861328125, 1722.5450439453125, 1554.096923828125, 1515.939453125, 1324.4183349609375, 1177.118408203125, 1159.8040771484375, 1164.340576171875, 936.8986206054688, 925.8447875976562, 896.8582763671875, 842.8279418945312, 817.8483276367188, 3628.643310546875, 797.8851928710938, 797.0909423828125, 761.6297607421875, 724.9248046875, 669.9246826171875, 656.2210083007812, 646.8704223632812, 646.3218383789062, 645.5599975585938, 629.5260009765625, 613.8826293945312, 593.3206176757812, 582.697509765625, 1780.5950927734375, 1347.015380859375, 743.9906616210938, 1009.1647338867188, 6463.04248046875, 5273.65185546875, 887.7111206054688, 955.8058471679688, 1612.5811767578125, 1723.3319091796875, 9143.701171875, 3029.968017578125, 1616.2906494140625, 4339.576171875, 6370.5390625, 5705.857421875, 4462.2470703125, 5036.39111328125, 1937.7017822265625, 4861.70458984375, 7005.36767578125, 12341.18359375, 46117.3203125, 3237.09521484375, 7722.95361328125, 16175.287109375, 13477.123046875, 5422.0859375, 33503.2578125, 13021.130859375, 9029.9326171875, 36286.47265625, 7490.90966796875, 30223.595703125, 13910.537109375, 7532.30078125, 5779.328125, 4981.02490234375, 4057.86083984375, 3825.226318359375, 2435.150146484375, 2112.843017578125, 1678.814697265625, 1649.621826171875, 1648.4794921875, 1590.4794921875, 1383.724853515625, 1261.8660888671875, 1187.0626220703125, 1120.045166015625, 1014.0438232421875, 1076.3546142578125, 933.9909057617188, 922.39990234375, 860.746337890625, 1322.2716064453125, 745.0487060546875, 730.0478515625, 698.44384765625, 660.665283203125, 634.6242065429688, 626.3587036132812, 596.3690185546875, 586.1064453125, 1711.72705078125, 7162.7099609375, 940.5848388671875, 864.7509765625, 989.1613159179688, 805.7072143554688, 861.6925659179688, 5871.0263671875, 13616.2470703125, 6693.73828125, 17942.478515625, 10190.87109375, 3550.6572265625, 2205.375732421875, 24473.36328125, 4107.10107421875, 2592.149169921875, 2104.717529296875, 4372.65625, 9115.1640625, 8743.8359375, 3448.905517578125, 130182.0390625, 29728.263671875, 13215.669921875, 12429.4853515625, 10066.3779296875, 35828.0859375, 8183.9619140625, 6818.39892578125, 4304.0078125, 10590.8095703125, 34086.02734375, 10275.93359375, 5095.68701171875, 2641.670654296875, 2196.797607421875, 1956.1514892578125, 1529.239990234375, 1478.4647216796875, 1419.02099609375, 1337.22900390625, 1207.4508056640625, 1085.265625, 1018.30322265625, 1017.9676513671875, 1016.421630859375, 1009.6165771484375, 1015.5348510742188, 999.0598754882812, 991.7842407226562, 972.3770751953125, 951.4159545898438, 925.55419921875, 886.4707641601562, 871.1714477539062, 866.44970703125, 856.0346069335938, 839.0234375, 801.9881591796875, 762.26220703125, 715.904296875, 690.384033203125, 671.1808471679688, 1533.3060302734375, 3607.5908203125, 1281.2623291015625, 1197.0538330078125, 1741.081298828125, 1394.8427734375, 2413.81494140625, 2820.470947265625, 2703.07177734375, 2513.16357421875, 3369.909912109375, 3567.325927734375, 2838.154296875, 1916.0833740234375, 3128.4052734375, 1941.7957763671875, 5608.12841796875, 3760.142578125, 1622.2950439453125, 3148.708984375, 42070.61328125, 3812.69091796875, 130182.0390625, 5932.9150390625, 13021.130859375, 12082.732421875, 28814.07421875, 43887.42578125, 46117.3203125, 6258.9794921875, 19338.236328125, 2913.36962890625, 2657.489990234375, 2494.473388671875, 2388.267822265625, 1871.6351318359375, 1834.04150390625, 1821.1229248046875, 1733.391357421875, 1602.848876953125, 1499.6153564453125, 2175.431396484375, 1280.011962890625, 1279.6912841796875, 1237.4564208984375, 1145.578857421875, 1118.3079833984375, 1099.2275390625, 1075.596435546875, 1020.7591552734375, 1006.0787353515625, 1003.00732421875, 1053.3907470703125, 952.7567138671875, 903.0610961914062, 861.6373291015625, 756.5914306640625, 748.4815063476562, 736.36279296875, 732.4087524414062, 714.9757080078125, 5799.04296875, 1205.9366455078125, 5050.755859375, 7103.3935546875, 6283.8759765625, 5793.3154296875, 3210.339599609375, 3779.43896484375, 2486.56884765625, 6105.3486328125, 5082.25048828125, 6664.09228515625, 3959.0029296875, 1982.9232177734375, 11174.9052734375, 1766.552001953125, 6640.7197265625, 16071.84375, 3502.9609375, 5700.7392578125, 16504.943359375, 36286.47265625, 9654.3076171875, 14424.865234375, 20749.59765625, 7185.83349609375, 43887.42578125, 29728.263671875, 4945.427734375, 3715.167236328125, 3521.242919921875, 3193.142822265625, 2699.631103515625, 2362.2177734375, 2018.266357421875, 1954.7828369140625, 1897.50537109375, 1649.9417724609375, 1580.6905517578125, 1503.55078125, 1494.6448974609375, 1376.382568359375, 1308.65283203125, 1295.22265625, 1235.177490234375, 1722.3914794921875, 1149.038818359375, 1028.0072021484375, 1006.47509765625, 920.6156616210938, 915.2078247070312, 895.0882568359375, 853.399169921875, 768.908935546875, 753.8894653320312, 746.9556884765625, 743.0809326171875, 733.9607543945312, 1665.3885498046875, 1907.996826171875, 1399.3006591796875, 2082.586181640625, 3902.524169921875, 1827.661865234375, 2767.38330078125, 1081.23291015625, 4304.544921875, 1393.6021728515625, 2149.0029296875, 5681.92041015625, 130182.0390625, 5545.35302734375, 11378.587890625, 33503.2578125, 6805.3232421875, 9273.1474609375, 36286.47265625, 11834.015625, 5699.42919921875, 12955.2470703125, 42070.61328125, 7985.109375, 26659.005859375, 22300.958984375, 34086.02734375, 6343.490234375, 3595.623779296875, 3049.038818359375, 2533.80029296875, 2241.93701171875, 1989.287353515625, 1839.9918212890625, 1743.8262939453125, 1723.203857421875, 1703.22314453125, 1517.619384765625, 1401.2547607421875, 1374.7164306640625, 1360.408203125, 1331.984619140625, 1232.58056640625, 1141.27001953125, 1092.935546875, 1060.8035888671875, 972.3844604492188, 920.4918823242188, 899.940673828125, 835.0518188476562, 783.5448608398438, 773.1541137695312, 746.4080810546875, 1351.59228515625, 718.01806640625, 730.4384765625, 712.8379516601562, 2795.6171875, 6106.2744140625, 11492.724609375, 3921.234130859375, 9322.552734375, 1137.466796875, 6101.66650390625, 6793.8955078125, 5256.099609375, 2336.067138671875, 4660.08447265625, 3435.92529296875, 2957.205322265625, 2204.88037109375, 3970.766845703125, 5793.61767578125, 28814.07421875, 3025.6064453125, 2853.9892578125, 7399.89599609375, 5446.6796875, 4032.25146484375, 5932.9150390625, 42070.61328125, 130182.0390625, 5865.89013671875, 26879.25390625, 12561.7578125, 20733.39453125, 5856.5390625, 3012.907958984375, 2704.643310546875, 2602.399658203125, 2322.50634765625, 1978.6181640625, 1664.2132568359375, 1643.7298583984375, 1521.818603515625, 1289.004638671875, 1268.9107666015625, 1199.43896484375, 1119.771240234375, 1095.680419921875, 1066.5089111328125, 773.613525390625, 693.9341430664062, 652.7905883789062, 642.9468383789062, 613.0492553710938, 604.533203125, 596.2465209960938, 594.273681640625, 592.5128784179688, 588.7824096679688, 578.1735229492188, 564.6467895507812, 554.348388671875, 550.0443115234375, 546.67919921875, 549.8602294921875, 600.7677001953125, 879.8892822265625, 891.366455078125, 4890.68896484375, 1372.15673828125, 1241.2969970703125, 5286.97705078125, 1014.0606079101562, 3639.015869140625, 4906.80224609375, 1345.8004150390625, 1651.8798828125, 15984.33203125, 20749.59765625, 12220.5859375, 2931.711181640625, 8849.4736328125, 8524.8974609375, 2881.910888671875, 7531.01611328125, 6510.91064453125, 30888.234375, 3545.056396484375, 16504.943359375, 2750.27587890625, 24473.36328125, 42070.61328125, 16175.287109375, 7124.751953125, 5668.16943359375, 130182.0390625, 24645.474609375, 21560.80078125, 10218.27734375, 6793.8955078125, 5884.7529296875, 5545.5107421875, 4802.3330078125, 4093.802734375, 4057.11328125, 3702.832275390625, 2410.650390625, 2246.723876953125, 1826.621337890625, 1820.155517578125, 1646.30712890625, 1590.3907470703125, 1497.2943115234375, 1349.2496337890625, 1299.08642578125, 1202.9583740234375, 1172.2791748046875, 1147.84130859375, 1093.021484375, 1037.4449462890625, 997.62109375, 941.46142578125, 906.00146484375, 865.0370483398438, 863.9312744140625, 790.72119140625, 768.1538696289062, 714.8762817382812, 689.7738647460938, 628.653076171875, 3566.741455078125, 7371.6806640625, 2504.1484375, 3066.6572265625, 4420.68701171875, 3723.212158203125, 2850.198486328125, 13120.083984375, 8825.7626953125, 4977.3798828125, 3377.494873046875, 3386.670654296875, 9029.9326171875, 17942.478515625, 10218.27734375, 16541.8828125, 10190.87109375, 6511.9248046875, 16175.287109375, 7956.71435546875, 9041.5986328125, 24473.36328125, 130182.0390625, 7932.0185546875, 29728.263671875, 10801.2412109375, 4024.37451171875, 2625.036376953125, 2140.21240234375, 1824.735595703125, 1706.57177734375, 1686.70068359375, 1458.787841796875, 1169.6732177734375, 982.4049072265625, 955.4402465820312, 813.702392578125, 813.068359375, 792.4047241210938, 777.7780151367188, 621.3059692382812, 617.3551635742188, 590.6229248046875, 575.4173583984375, 574.9546508789062, 564.710693359375, 561.7978515625, 552.7875366210938, 537.9227294921875, 528.6685791015625, 512.895263671875, 508.86297607421875, 508.47955322265625, 502.8433837890625, 479.4794921875, 595.9168701171875, 4924.3408203125, 1969.00537109375, 701.5875244140625, 3687.611328125, 7561.7509765625, 9488.97265625, 1066.487548828125, 3700.454833984375, 11174.9052734375, 1054.10205078125, 12429.4853515625, 16386.361328125, 10679.412109375, 34001.8125, 19261.0078125, 41320.796875, 30180.775390625, 3467.060302734375, 22300.958984375, 13757.287109375, 5593.69189453125, 21493.009765625, 19338.236328125, 9741.2470703125, 130182.0390625, 20733.39453125, 13412.466796875, 34086.02734375], \"loglift\": [30.0, 29.0, 28.0, 27.0, 26.0, 25.0, 24.0, 23.0, 22.0, 21.0, 20.0, 19.0, 18.0, 17.0, 16.0, 15.0, 14.0, 13.0, 12.0, 11.0, 10.0, 9.0, 8.0, 7.0, 6.0, 5.0, 4.0, 3.0, 2.0, 1.0, 2.468100070953369, 2.468100070953369, 2.468100070953369, 2.4679999351501465, 2.4679999351501465, 2.4679999351501465, 2.467900037765503, 2.467900037765503, 2.467900037765503, 2.4677999019622803, 2.4677999019622803, 2.4677000045776367, 2.4677000045776367, 2.4677000045776367, 2.467600107192993, 2.467600107192993, 2.4674999713897705, 2.4674999713897705, 2.4674999713897705, 2.4674999713897705, 2.467400074005127, 2.467400074005127, 2.467400074005127, 2.467400074005127, 2.467400074005127, 2.4672999382019043, 2.4672000408172607, 2.4672000408172607, 2.4672000408172607, 2.4672000408172607, 2.46560001373291, 2.466200113296509, 2.4628000259399414, 2.424299955368042, 2.4507999420166016, 2.370500087738037, 2.4154999256134033, 2.232100009918213, 2.1538000106811523, 2.300600051879883, 2.290600061416626, 2.2869999408721924, 2.0762999057769775, 2.3661999702453613, 1.8233000040054321, 2.108299970626831, 1.9407999515533447, 1.5887999534606934, 2.2102999687194824, 1.8835999965667725, 1.7409000396728516, 1.4408999681472778, 1.481600046157837, 1.5027999877929688, 1.8408000469207764, 1.3257999420166016, 0.7269999980926514, 1.4941999912261963, 1.5786999464035034, 1.5391000509262085, 1.7537000179290771, 1.1347999572753906, 1.149899959564209, 0.786300003528595, 1.1634000539779663, 1.1066999435424805, 1.4779000282287598, 0.6141999959945679, 0.8507000207901001, 2.5773000717163086, 2.5773000717163086, 2.5773000717163086, 2.5773000717163086, 2.577199935913086, 2.577199935913086, 2.577199935913086, 2.577199935913086, 2.5771000385284424, 2.5771000385284424, 2.5771000385284424, 2.5771000385284424, 2.5769999027252197, 2.5769999027252197, 2.5769999027252197, 2.576900005340576, 2.576900005340576, 2.5768001079559326, 2.5768001079559326, 2.5768001079559326, 2.57669997215271, 2.57669997215271, 2.5766000747680664, 2.5766000747680664, 2.5766000747680664, 2.5766000747680664, 2.5766000747680664, 2.5764999389648438, 2.5764999389648438, 2.5764999389648438, 2.5645999908447266, 2.559499979019165, 2.5497000217437744, 2.5409998893737793, 2.5197999477386475, 2.536400079727173, 2.423799991607666, 2.4124999046325684, 2.4161999225616455, 2.4809999465942383, 2.0673000812530518, 2.3977999687194824, 1.5372999906539917, 2.4117000102996826, 2.2179999351501465, 2.296999931335449, 1.8737000226974487, 1.6828999519348145, 1.614799976348877, 1.1571999788284302, 2.222599983215332, 2.041100025177002, 1.1287000179290771, 2.0020999908447266, 0.7211999893188477, 1.2024999856948853, 2.0648999214172363, 0.9829999804496765, 2.073699951171875, -0.34279999136924744, 0.8065999746322632, 1.9132000207901, 1.2513999938964844, 0.9434000253677368, 0.9341999888420105, 1.5849000215530396, 0.4417000114917755, 0.8550999760627747, 0.9384999871253967, 1.51419997215271, -0.11509999632835388, -0.16200000047683716, 2.6152000427246094, 2.6152000427246094, 2.6152000427246094, 2.6150999069213867, 2.6150999069213867, 2.6150999069213867, 2.615000009536743, 2.615000009536743, 2.615000009536743, 2.6149001121520996, 2.6149001121520996, 2.6149001121520996, 2.614799976348877, 2.614799976348877, 2.614799976348877, 2.614799976348877, 2.614799976348877, 2.6145999431610107, 2.6145999431610107, 2.6145999431610107, 2.6145999431610107, 2.614500045776367, 2.614500045776367, 2.6143999099731445, 2.6143999099731445, 2.6143999099731445, 2.6142001152038574, 2.6140999794006348, 2.6140999794006348, 2.614000082015991, 2.613300085067749, 2.6131999492645264, 2.611299991607666, 2.613800048828125, 2.591399908065796, 2.587899923324585, 2.5690999031066895, 2.603600025177002, 2.591399908065796, 2.573499917984009, 2.5134999752044678, 2.5134999752044678, 2.394399881362915, 2.4274001121520996, 2.5527000427246094, 2.364300012588501, 2.3784000873565674, 2.3826000690460205, 2.2904000282287598, 2.4999001026153564, 2.487799882888794, 2.3087000846862793, 2.443700075149536, 2.330199956893921, 1.5533000230789185, 1.9829000234603882, 2.2195000648498535, 1.885599970817566, 1.8489999771118164, 1.545300006866455, 1.6505000591278076, 1.155500054359436, 1.4437999725341797, 1.8824000358581543, 1.3774000406265259, 1.7795000076293945, 1.6912000179290771, 1.0307999849319458, 1.8071999549865723, 1.4809000492095947, 1.9753999710083008, 1.8116999864578247, 1.7854000329971313, 1.5628999471664429, 0.18250000476837158, 1.503499984741211, 1.5262999534606934, 1.188099980354309, 2.689300060272217, 2.689199924468994, 2.6891000270843506, 2.6891000270843506, 2.688699960708618, 2.6886000633239746, 2.688499927520752, 2.688499927520752, 2.6884000301361084, 2.6884000301361084, 2.6882998943328857, 2.6882998943328857, 2.688199996948242, 2.6881000995635986, 2.687999963760376, 2.687999963760376, 2.687999963760376, 2.687999963760376, 2.6879000663757324, 2.6879000663757324, 2.6877999305725098, 2.687700033187866, 2.6875, 2.6874001026153564, 2.687299966812134, 2.687299966812134, 2.6870999336242676, 2.6870999336242676, 2.6870999336242676, 2.6868999004364014, 2.6851000785827637, 2.6805999279022217, 2.6851000785827637, 2.686800003051758, 2.675299882888794, 2.6738998889923096, 2.6728999614715576, 2.6777000427246094, 2.6640000343322754, 2.56850004196167, 2.4402999877929688, 2.5620999336242676, 2.5344998836517334, 2.5797998905181885, 2.5378000736236572, 2.5511999130249023, 2.328399896621704, 2.58240008354187, 2.3935999870300293, 2.5316998958587646, 2.1521999835968018, 2.203399896621704, 2.489500045776367, 2.226799964904785, 2.293100118637085, 2.3010001182556152, 2.1758999824523926, 2.2318999767303467, 2.3278000354766846, 1.2755999565124512, 1.3594000339508057, 1.1875, 1.850600004196167, 2.1219000816345215, 1.878100037574768, 1.263100028038025, 1.382599949836731, 1.3977999687194824, 0.8245999813079834, 1.2359999418258667, 1.1375000476837158, 0.741100013256073, 1.621899962425232, 0.7694000005722046, 1.7596999406814575, 1.8545000553131104, 0.1476999968290329, 1.2541999816894531, 0.7760000228881836, 0.27480000257492065, 0.6632000207901001, 0.09889999777078629, 0.5742999911308289, 1.4430999755859375, 1.2517000436782837, 2.7385001182556152, 2.7383999824523926, 2.738300085067749, 2.738300085067749, 2.7381999492645264, 2.73799991607666, 2.73799991607666, 2.7379000186920166, 2.737799882888794, 2.737799882888794, 2.737600088119507, 2.737499952316284, 2.737499952316284, 2.737499952316284, 2.7374000549316406, 2.7374000549316406, 2.7374000549316406, 2.7374000549316406, 2.737299919128418, 2.737299919128418, 2.737299919128418, 2.7372000217437744, 2.7370998859405518, 2.736999988555908, 2.7369000911712646, 2.736799955368042, 2.736799955368042, 2.736799955368042, 2.7367000579833984, 2.7367000579833984, 2.734999895095825, 2.7325000762939453, 2.7318999767303467, 2.7346999645233154, 2.724299907684326, 2.6819000244140625, 2.712100028991699, 2.676800012588501, 2.6812000274658203, 2.6816999912261963, 2.604599952697754, 2.7019999027252197, 2.66729998588562, 2.7007999420166016, 2.699700117111206, 2.6059999465942383, 2.2973999977111816, 2.554500102996826, 2.626199960708618, 2.516400098800659, 1.964400053024292, 2.1275999546051025, 2.0239999294281006, 2.2916998863220215, 2.303499937057495, 1.798699975013733, 1.5458999872207642, 1.9977999925613403, 1.7493000030517578, 1.4085999727249146, 1.9658000469207764, 1.9012000560760498, 1.5468000173568726, 1.6726000308990479, 2.0064001083374023, 0.927299976348877, -0.23520000278949738, 0.7890999913215637, 0.8015000224113464, 1.344599962234497, 2.9175000190734863, 2.91729998588562, 2.9172000885009766, 2.9172000885009766, 2.917099952697754, 2.917099952697754, 2.917099952697754, 2.9170000553131104, 2.9170000553131104, 2.9170000553131104, 2.9170000553131104, 2.9168999195098877, 2.9168999195098877, 2.9168999195098877, 2.9168999195098877, 2.916800022125244, 2.916800022125244, 2.916800022125244, 2.9166998863220215, 2.9166998863220215, 2.9166998863220215, 2.9166998863220215, 2.9166998863220215, 2.9166998863220215, 2.9166998863220215, 2.916599988937378, 2.916599988937378, 2.916599988937378, 2.916599988937378, 2.9165000915527344, 2.915800094604492, 2.8847999572753906, 2.904900074005127, 2.841399908065796, 2.900700092315674, 2.8306000232696533, 2.783600091934204, 2.8361001014709473, 2.759500026702881, 2.7374000549316406, 2.589200019836426, 2.7309000492095947, 2.7994000911712646, 2.559499979019165, 2.16129994392395, 2.4974000453948975, 2.458899974822998, 2.0071001052856445, 2.1747000217437744, 1.9775999784469604, 2.391200065612793, 2.2086000442504883, 1.0952999591827393, 0.8184999823570251, 1.9740999937057495, 2.2304999828338623, 1.7901999950408936, 1.402999997138977, 0.4878999888896942, 0.715499997138977, 0.20669999718666077, 0.6025999784469604, 1.6755000352859497, 2.9756999015808105, 2.9755001068115234, 2.9755001068115234, 2.9755001068115234, 2.975399971008301, 2.9753000736236572, 2.9753000736236572, 2.9753000736236572, 2.9751999378204346, 2.9751999378204346, 2.975100040435791, 2.9749999046325684, 2.974900007247925, 2.974900007247925, 2.974900007247925, 2.974900007247925, 2.9746999740600586, 2.9746999740600586, 2.974600076675415, 2.974600076675415, 2.974600076675415, 2.9744999408721924, 2.9744999408721924, 2.9744999408721924, 2.974400043487549, 2.974400043487549, 2.974299907684326, 2.9742000102996826, 2.9742000102996826, 2.9742000102996826, 2.961400032043457, 2.973900079727173, 2.969599962234497, 2.945499897003174, 2.9546000957489014, 2.8592000007629395, 2.886199951171875, 2.879499912261963, 2.8887999057769775, 2.492300033569336, 2.6364998817443848, 2.729099988937378, 2.2565999031066895, 2.759200096130371, 2.281100034713745, 2.2662999629974365, 2.5703001022338867, 1.6481000185012817, 2.551300048828125, 1.9278000593185425, 2.488100051879883, 1.766800045967102, 2.055000066757202, 0.3111000061035156, 2.0785999298095703, 1.353600025177002, 2.0283000469207764, 1.243499994277954, 1.4227999448776245, 1.5052000284194946, 1.0957000255584717, 1.4565000534057617, 0.5511000156402588, 1.7223000526428223, 0.05920000001788139, 0.06340000033378601, 0.28380000591278076, 2.9983999729156494, 2.998300075531006, 2.998199939727783, 2.998199939727783, 2.9981000423431396, 2.9981000423431396, 2.9981000423431396, 2.997999906539917, 2.997999906539917, 2.9979000091552734, 2.99780011177063, 2.9976999759674072, 2.9976000785827637, 2.9976000785827637, 2.997499942779541, 2.9974000453948975, 2.9974000453948975, 2.9972000122070312, 2.9972000122070312, 2.9971001148223877, 2.9971001148223877, 2.9969000816345215, 2.9969000816345215, 2.996799945831299, 2.996799945831299, 2.996799945831299, 2.996799945831299, 2.9967000484466553, 2.9967000484466553, 2.9967000484466553, 2.9958999156951904, 2.982300043106079, 2.8436999320983887, 2.829900026321411, 2.3914999961853027, 2.8424999713897705, 2.7792999744415283, 2.626199960708618, 2.515899896621704, 2.255000114440918, 1.9908000230789185, 2.15910005569458, 2.4398000240325928, 2.42930006980896, 2.4147000312805176, 2.0717999935150146, 2.1665000915527344, 1.951200008392334, 1.9701999425888062, 1.74590003490448, 1.301800012588501, 1.6432000398635864, 1.5324000120162964, 0.6212999820709229, 1.4217000007629395, 1.1754000186920166, 1.1098999977111816, 1.13100004196167, 1.7941999435424805, 0.7275999784469604, 1.186400055885315, 0.6470999717712402, 0.6819000244140625, 1.0757999420166016, 3.0078999996185303, 3.0078999996185303, 3.0078001022338867, 3.007699966430664, 3.007699966430664, 3.0076000690460205, 3.007499933242798, 3.007499933242798, 3.0074000358581543, 3.0072999000549316, 3.0072999000549316, 3.007200002670288, 3.007200002670288, 3.0071001052856445, 3.0069000720977783, 3.0067999362945557, 3.006700038909912, 3.006700038909912, 3.0065999031066895, 3.0065999031066895, 3.0065999031066895, 3.006500005722046, 3.006500005722046, 3.0064001083374023, 3.0064001083374023, 3.0062999725341797, 3.0062999725341797, 3.0062999725341797, 3.006200075149536, 3.006200075149536, 2.9860000610351562, 2.999500036239624, 2.9976999759674072, 2.9751999378204346, 2.9951999187469482, 2.8826000690460205, 2.974299907684326, 2.962399959564209, 2.957900047302246, 2.9753000736236572, 2.891700029373169, 2.810800075531006, 2.8961000442504883, 2.5548999309539795, 2.8085999488830566, 2.6445000171661377, 2.337399959564209, 1.9182000160217285, 2.4735000133514404, 2.240299940109253, 2.688499927520752, 2.4347000122070312, 2.086199998855591, 2.2214999198913574, 1.625499963760376, 1.3746999502182007, 1.8567999601364136, 2.091599941253662, 1.4924999475479126, 2.260499954223633, 2.1798999309539795, 1.9250999689102173, 2.163300037384033, 1.520300030708313, 1.6105999946594238, 0.12300000339746475, 1.7325999736785889, 1.6014000177383423, 1.5054999589920044, 0.609000027179718, 0.6725000143051147, 0.42899999022483826, 0.6215999722480774, 0.43050000071525574, 3.0195000171661377, 3.0195000171661377, 3.0195000171661377, 3.0195000171661377, 3.0192999839782715, 3.0192999839782715, 3.019200086593628, 3.019200086593628, 3.019200086593628, 3.0190999507904053, 3.018899917602539, 3.0188000202178955, 3.0188000202178955, 3.0188000202178955, 3.0188000202178955, 3.0188000202178955, 3.0188000202178955, 3.0188000202178955, 3.0188000202178955, 3.0185999870300293, 3.0185999870300293, 3.0185000896453857, 3.018399953842163, 3.0183000564575195, 3.0183000564575195, 3.0183000564575195, 3.0183000564575195, 3.0183000564575195, 3.018199920654297, 3.018199920654297, 2.993000030517578, 3.0136001110076904, 2.819700002670288, 2.941499948501587, 2.9990999698638916, 2.8684000968933105, 2.999799966812134, 2.933799982070923, 2.7167000770568848, 2.8076999187469482, 2.706700086593628, 2.7416000366210938, 2.4407999515533447, 2.566499948501587, 2.5571000576019287, 2.101900100708008, 1.8711999654769897, 1.996899962425232, 1.330399990081787, 2.5683999061584473, 0.20759999752044678, 2.1881000995635986, 1.1332999467849731, 0.5289000272750854, 0.6256999969482422, 1.2231999635696411, 0.7892000079154968, 0.814300000667572, 0.27970001101493835, 0.13410000503063202, 3.073899984359741, 3.073899984359741, 3.0738000869750977, 3.0738000869750977, 3.073699951171875, 3.073699951171875, 3.0736000537872314, 3.0736000537872314, 3.073499917984009, 3.0734000205993652, 3.0734000205993652, 3.0734000205993652, 3.0734000205993652, 3.0732998847961426, 3.0732998847961426, 3.0732998847961426, 3.073199987411499, 3.073199987411499, 3.073199987411499, 3.073199987411499, 3.073199987411499, 3.0731000900268555, 3.0731000900268555, 3.0729000568389893, 3.0729000568389893, 3.0727999210357666, 3.0727999210357666, 3.0727999210357666, 3.0727999210357666, 3.072700023651123, 3.0599000453948975, 3.071500062942505, 3.020699977874756, 2.9797000885009766, 2.9728000164031982, 2.6566998958587646, 2.9303998947143555, 2.748699903488159, 2.743799924850464, 2.6735999584198, 2.765399932861328, 2.908600091934204, 2.0416998863220215, 2.325500011444092, 2.1068999767303467, 2.346100091934204, 2.3626999855041504, 1.4594999551773071, 2.5699000358581543, 0.47859999537467957, 1.5886000394821167, 2.386399984359741, 2.1912999153137207, 1.541200041770935, 1.7166999578475952, 1.381500005722046, 0.7513999938964844, 0.4142000079154968, 1.274899959564209, 0.4763000011444092, 3.1875998973846436, 3.1874001026153564, 3.1874001026153564, 3.187299966812134, 3.1872000694274902, 3.1870999336242676, 3.1870999336242676, 3.187000036239624, 3.1868999004364014, 3.1868999004364014, 3.1868999004364014, 3.1867001056671143, 3.1867001056671143, 3.1867001056671143, 3.1865999698638916, 3.1865999698638916, 3.1865999698638916, 3.1865999698638916, 3.1865999698638916, 3.186500072479248, 3.1863999366760254, 3.186300039291382, 3.186300039291382, 3.186300039291382, 3.186300039291382, 3.186300039291382, 3.186199903488159, 3.186199903488159, 3.1861000061035156, 3.1861000061035156, 3.185499906539917, 3.184999942779541, 3.186000108718872, 3.1682000160217285, 3.084399938583374, 3.0625998973846436, 3.1691999435424805, 3.147900104522705, 3.0573999881744385, 3.0387001037597656, 2.6867001056671143, 2.903700113296509, 3.0264999866485596, 2.773200035095215, 2.61299991607666, 2.5683000087738037, 2.608599901199341, 2.5601000785827637, 2.895699977874756, 2.533799886703491, 2.376300096511841, 2.1077001094818115, 1.0772000551223755, 2.5943000316619873, 1.9421000480651855, 1.4452999830245972, 1.5267000198364258, 2.121500015258789, 0.6513000130653381, 1.371899962425232, 1.6117000579833984, 0.3871999979019165, 1.7741999626159668, 0.41260001063346863, 3.1884000301361084, 3.1884000301361084, 3.1882998943328857, 3.1882998943328857, 3.1882998943328857, 3.188199996948242, 3.1881000995635986, 3.187999963760376, 3.1879000663757324, 3.1879000663757324, 3.1879000663757324, 3.1879000663757324, 3.1877999305725098, 3.187700033187866, 3.187700033187866, 3.1875998973846436, 3.1875998973846436, 3.1875998973846436, 3.1875, 3.1875, 3.1874001026153564, 3.187299966812134, 3.1872000694274902, 3.1872000694274902, 3.1870999336242676, 3.187000036239624, 3.187000036239624, 3.187000036239624, 3.1868999004364014, 3.1868999004364014, 3.183199882507324, 3.16759991645813, 3.1858999729156494, 3.1865999698638916, 3.1851999759674072, 3.186800003051758, 3.1858999729156494, 3.085900068283081, 2.8708999156951904, 2.9449000358581543, 2.818700075149536, 2.7370998859405518, 2.9279000759124756, 3.009399890899658, 2.401400089263916, 2.816699981689453, 2.897900104522705, 2.95989990234375, 2.710700035095215, 2.4379000663757324, 2.4021999835968018, 2.712599992752075, 0.8418999910354614, 1.4558000564575195, 1.8986999988555908, 1.8210999965667725, 1.961400032043457, 1.0608999729156494, 2.000200033187866, 2.1149001121520996, 2.4804000854492188, 1.6574000120162964, 0.46309998631477356, 1.6276999711990356, 3.2167000770568848, 3.2165000438690186, 3.2165000438690186, 3.216399908065796, 3.2163000106811523, 3.2163000106811523, 3.216200113296509, 3.216200113296509, 3.216099977493286, 3.2160000801086426, 3.2160000801086426, 3.2160000801086426, 3.2160000801086426, 3.2160000801086426, 3.2160000801086426, 3.2160000801086426, 3.21589994430542, 3.21589994430542, 3.21589994430542, 3.21589994430542, 3.2158000469207764, 3.2158000469207764, 3.2158000469207764, 3.2158000469207764, 3.2158000469207764, 3.2156999111175537, 3.2156999111175537, 3.21560001373291, 3.2155001163482666, 3.2155001163482666, 3.2125000953674316, 3.1775999069213867, 3.1928999423980713, 3.1953999996185303, 3.160900115966797, 3.1602001190185547, 3.092900037765503, 3.0151000022888184, 2.9935998916625977, 2.946700096130371, 2.8671998977661133, 2.776099920272827, 2.822999954223633, 2.9667999744415283, 2.767199993133545, 2.948499917984009, 2.481300115585327, 2.5829999446868896, 2.9700000286102295, 2.601799964904785, 0.9664999842643738, 2.4335999488830566, -0.11860000342130661, 2.0673999786376953, 1.4378999471664429, 1.454699993133545, 0.6557000279426575, 0.24089999496936798, 0.1850000023841858, 1.8873000144958496, 0.7415000200271606, 3.2490999698638916, 3.2490999698638916, 3.2490999698638916, 3.2490999698638916, 3.249000072479248, 3.2488999366760254, 3.2488999366760254, 3.2488999366760254, 3.2488999366760254, 3.248800039291382, 3.248800039291382, 3.248699903488159, 3.248699903488159, 3.248699903488159, 3.2486000061035156, 3.2486000061035156, 3.2486000061035156, 3.2486000061035156, 3.248500108718872, 3.248500108718872, 3.248500108718872, 3.248500108718872, 3.248500108718872, 3.2483999729156494, 3.2483999729156494, 3.248199939727783, 3.248199939727783, 3.248199939727783, 3.248199939727783, 3.2481000423431396, 3.233299970626831, 3.24780011177063, 3.204200029373169, 3.1751999855041504, 3.171600103378296, 3.1252999305725098, 3.136699914932251, 3.106100082397461, 3.1473000049591064, 2.910399913787842, 2.8654000759124756, 2.7219998836517334, 2.8642001152038574, 3.0280001163482666, 2.34879994392395, 3.040800094604492, 2.3454999923706055, 1.7109999656677246, 2.551800012588501, 2.19950008392334, 1.4323999881744385, 0.8240000009536743, 1.7656999826431274, 1.3833999633789062, 1.0769000053405762, 1.9555000066757202, 0.2524000108242035, 0.529699981212616, 3.265000104904175, 3.264899969100952, 3.264899969100952, 3.264899969100952, 3.2648000717163086, 3.2648000717163086, 3.264699935913086, 3.264699935913086, 3.264699935913086, 3.2646000385284424, 3.2646000385284424, 3.2646000385284424, 3.2646000385284424, 3.2644999027252197, 3.2644999027252197, 3.2644999027252197, 3.264400005340576, 3.264400005340576, 3.264400005340576, 3.2643001079559326, 3.2643001079559326, 3.26419997215271, 3.26419997215271, 3.2641000747680664, 3.2641000747680664, 3.2639999389648438, 3.2639000415802, 3.2639000415802, 3.2639000415802, 3.2639000415802, 3.262700080871582, 3.259999990463257, 3.2339999675750732, 3.2090001106262207, 3.158400058746338, 3.1956000328063965, 3.1338000297546387, 3.231800079345703, 2.897900104522705, 3.1672000885009766, 2.9398999214172363, 2.4626998901367188, 0.90829998254776, 2.440999984741211, 1.8145999908447266, 0.9973999857902527, 2.0977001190185547, 1.8499000072479248, 0.7782999873161316, 1.6136000156402588, 2.158900022506714, 1.4757000207901, 0.45190000534057617, 1.8665000200271606, 0.7555999755859375, 0.8357999920845032, 0.4002000093460083, 3.2678000926971436, 3.267699956893921, 3.267699956893921, 3.2676000595092773, 3.2674999237060547, 3.2674999237060547, 3.267400026321411, 3.267400026321411, 3.267400026321411, 3.267400026321411, 3.2672998905181885, 3.2672998905181885, 3.2672998905181885, 3.2672998905181885, 3.2672998905181885, 3.267199993133545, 3.2671000957489014, 3.2671000957489014, 3.2671000957489014, 3.2669999599456787, 3.266900062561035, 3.266900062561035, 3.2667999267578125, 3.2667999267578125, 3.266700029373169, 3.266700029373169, 3.266700029373169, 3.2665998935699463, 3.2665998935699463, 3.2665998935699463, 3.2632999420166016, 3.211899995803833, 3.063699960708618, 3.105600118637085, 2.986299991607666, 3.2242000102996826, 3.0095999240875244, 2.9837000370025635, 2.9935998916625977, 3.099299907684326, 2.919600009918213, 2.954400062561035, 2.9851999282836914, 3.065700054168701, 2.873800039291382, 2.734600067138672, 1.8746999502182007, 2.9030001163482666, 2.901700019836426, 2.3369998931884766, 2.5074000358581543, 2.6593000888824463, 2.3066999912261963, 0.557699978351593, -0.453900009393692, 2.2237000465393066, 0.7842000126838684, 1.4855999946594238, 0.9805999994277954, 3.3262999057769775, 3.326200008392334, 3.3261001110076904, 3.3261001110076904, 3.3261001110076904, 3.3259999752044678, 3.325900077819824, 3.325900077819824, 3.3257999420166016, 3.325700044631958, 3.325700044631958, 3.325700044631958, 3.3255999088287354, 3.3255999088287354, 3.3255999088287354, 3.325200080871582, 3.3250999450683594, 3.325000047683716, 3.325000047683716, 3.324899911880493, 3.324899911880493, 3.324899911880493, 3.324899911880493, 3.324899911880493, 3.3248000144958496, 3.3248000144958496, 3.3248000144958496, 3.324700117111206, 3.324700117111206, 3.324700117111206, 3.324700117111206, 3.3225998878479004, 3.3041000366210938, 3.3011999130249023, 3.182499885559082, 3.224900007247925, 3.2030999660491943, 2.8473000526428223, 3.2021000385284424, 2.8907999992370605, 2.8083999156951904, 3.1289000511169434, 3.053100109100342, 2.3057000637054443, 2.0871999263763428, 2.2660999298095703, 2.7704999446868896, 2.2990000247955322, 2.253200054168701, 2.7539000511169434, 2.2625999450683594, 2.3306000232696533, 1.4526000022888184, 2.5627999305725098, 1.4803999662399292, 2.697999954223633, 1.097100019454956, 0.6603000164031982, 1.3665000200271606, 1.9471999406814575, 2.129199981689453, -0.6389999985694885, 0.7888000011444092, 0.8610000014305115, 1.541700005531311, 1.9292999505996704, 3.3812999725341797, 3.3812999725341797, 3.3812999725341797, 3.381200075149536, 3.381200075149536, 3.381200075149536, 3.3810999393463135, 3.38100004196167, 3.3808999061584473, 3.3808999061584473, 3.3808999061584473, 3.3808999061584473, 3.3808000087738037, 3.38070011138916, 3.38070011138916, 3.38070011138916, 3.3805999755859375, 3.3805999755859375, 3.3805999755859375, 3.380500078201294, 3.380500078201294, 3.3803999423980713, 3.3803999423980713, 3.3803000450134277, 3.3803000450134277, 3.380199909210205, 3.380199909210205, 3.3801000118255615, 3.3801000118255615, 3.3798999786376953, 3.3768999576568604, 3.323499917984009, 3.342400074005127, 3.2927000522613525, 3.238800048828125, 3.2290000915527344, 3.1882998943328857, 2.606800079345703, 2.7177000045776367, 2.8798999786376953, 2.960599899291992, 2.957200050354004, 2.482300043106079, 2.1663999557495117, 2.387200117111206, 2.1494998931884766, 2.3685998916625977, 2.5815000534057617, 2.069499969482422, 2.4663000106811523, 2.33270001411438, 1.5931999683380127, 0.18080000579357147, 2.227299928665161, 1.0856000185012817, 3.6233999729156494, 3.623300075531006, 3.623199939727783, 3.6231000423431396, 3.622999906539917, 3.622999906539917, 3.6229000091552734, 3.6229000091552734, 3.6226999759674072, 3.6226000785827637, 3.622499942779541, 3.6224000453948975, 3.6224000453948975, 3.622299909591675, 3.622299909591675, 3.621999979019165, 3.621999979019165, 3.6219000816345215, 3.6219000816345215, 3.6219000816345215, 3.621799945831299, 3.621799945831299, 3.621799945831299, 3.621799945831299, 3.6217000484466553, 3.6217000484466553, 3.6217000484466553, 3.6217000484466553, 3.6215999126434326, 3.621500015258789, 3.6208999156951904, 3.584700107574463, 3.597899913787842, 3.618000030517578, 3.5776000022888184, 3.3757998943328857, 2.797100067138672, 3.3982999324798584, 2.939300060272217, 2.4695000648498535, 3.375699996948242, 2.2746999263763428, 2.1033999919891357, 2.262399911880493, 1.613800048828125, 1.8624000549316406, 1.4362000226974487, 1.5439000129699707, 2.7030999660491943, 1.4634000062942505, 1.753600001335144, 2.3290998935699463, 1.4112999439239502, 1.399899959564209, 1.8660999536514282, -0.3107999861240387, 1.1660000085830688, 1.4808000326156616, 0.5389999747276306], \"logprob\": [30.0, 29.0, 28.0, 27.0, 26.0, 25.0, 24.0, 23.0, 22.0, 21.0, 20.0, 19.0, 18.0, 17.0, 16.0, 15.0, 14.0, 13.0, 12.0, 11.0, 10.0, 9.0, 8.0, 7.0, 6.0, 5.0, 4.0, 3.0, 2.0, 1.0, -5.071300029754639, -5.482800006866455, -5.486800193786621, -5.700200080871582, -5.804599761962891, -5.8403000831604, -5.929800033569336, -5.9583001136779785, -6.033400058746338, -6.255799770355225, -6.266900062561035, -6.379199981689453, -6.42140007019043, -6.448299884796143, -6.509099960327148, -6.546299934387207, -6.639100074768066, -6.654900074005127, -6.671800136566162, -6.676599979400635, -6.730800151824951, -6.774700164794922, -6.780200004577637, -6.79449987411499, -6.819399833679199, -6.920000076293945, -6.6992998123168945, -6.982100009918213, -6.990900039672852, -7.011199951171875, -5.579100131988525, -5.6722002029418945, -6.519100189208984, -4.005799770355225, -6.118500232696533, -5.700900077819824, -6.3292999267578125, -5.126399993896484, -4.659800052642822, -5.66540002822876, -5.701200008392334, -5.7006001472473145, -4.748899936676025, -6.168099880218506, -3.9395999908447266, -5.250899791717529, -4.895500183105469, -3.849600076675415, -5.827700138092041, -5.137800216674805, -4.916100025177002, -4.347700119018555, -4.44789981842041, -4.507900238037109, -5.124199867248535, -4.230899810791016, -3.6933999061584473, -4.727399826049805, -4.93120002746582, -4.9832000732421875, -5.257400035858154, -5.035900115966797, -5.112400054931641, -5.095799922943115, -5.329500198364258, -5.376800060272217, -5.51800012588501, -5.392000198364258, -5.480599880218506, -5.67710018157959, -5.7368998527526855, -5.782100200653076, -5.860300064086914, -5.945700168609619, -6.020400047302246, -6.043700218200684, -6.113699913024902, -5.589300155639648, -6.171599864959717, -6.241099834442139, -6.186800003051758, -6.316199779510498, -6.362599849700928, -6.2270002365112305, -6.509200096130371, -6.514100074768066, -6.593800067901611, -6.631700038909912, -6.67549991607666, -6.769999980926514, -6.79010009765625, -6.806399822235107, -6.823999881744385, -6.8119001388549805, -6.88129997253418, -6.8892998695373535, -6.901000022888184, -6.9309000968933105, -6.956200122833252, -6.128200054168701, -6.19379997253418, -6.31220006942749, -6.2505998611450195, -6.132800102233887, -6.493500232696533, -5.86269998550415, -5.802599906921387, -5.861700057983398, -6.333899974822998, -5.081999778747559, -6.135799884796143, -3.970400094985962, -6.174300193786621, -5.7164998054504395, -5.9918999671936035, -5.251100063323975, -5.078700065612793, -5.113100051879883, -4.553400039672852, -5.938399791717529, -5.783899784088135, -4.956099987030029, -5.81790018081665, -4.956099987030029, -5.302800178527832, -5.876999855041504, -5.262199878692627, -5.896500110626221, -4.763199806213379, -5.350299835205078, -5.826900005340576, -5.6072998046875, -5.579800128936768, -5.604599952697754, -5.769499778747559, -5.486800193786621, -5.622700214385986, -5.692500114440918, -5.79010009765625, -5.68310022354126, -5.711999893188477, -5.90749979019165, -5.950699806213379, -6.0366997718811035, -6.171299934387207, -6.175099849700928, -6.210100173950195, -6.282700061798096, -6.401100158691406, -6.414899826049805, -6.488699913024902, -6.514800071716309, -6.523900032043457, -6.569200038909912, -6.545899868011475, -6.598499774932861, -6.601500034332275, -6.618199825286865, -6.766600131988525, -6.700500011444092, -6.774600028991699, -6.7947998046875, -6.871200084686279, -6.905700206756592, -6.972700119018555, -6.999000072479248, -7.007400035858154, -7.154300212860107, -7.168300151824951, -7.172900199890137, -7.235599994659424, -5.731100082397461, -6.685100078582764, -6.595099925994873, -6.9045000076293945, -5.7027997970581055, -5.859099864959717, -5.6417999267578125, -6.627799987792969, -6.436699867248535, -6.190800189971924, -5.372200012207031, -5.39300012588501, -4.252200126647949, -5.141600131988525, -6.198200225830078, -4.821700096130371, -5.214399814605713, -5.348100185394287, -5.060800075531006, -6.066400051116943, -6.16379976272583, -5.633200168609619, -6.125, -5.888999938964844, -4.305600166320801, -5.262199878692627, -5.731599807739258, -5.268199920654297, -5.260000228881836, -4.838799953460693, -5.025400161743164, -4.412499904632568, -4.883399963378906, -5.4028000831604, -4.87939977645874, -5.308300018310547, -5.243299961090088, -4.7469000816345215, -5.479899883270264, -5.328999996185303, -5.602700233459473, -5.558199882507324, -5.548399925231934, -5.544300079345703, -5.367499828338623, -5.55109977722168, -5.556700229644775, -5.567599773406982, -5.395899772644043, -5.72160005569458, -5.771500110626221, -5.89769983291626, -6.448999881744385, -6.100100040435791, -6.716599941253662, -6.755899906158447, -6.791900157928467, -6.828000068664551, -6.172999858856201, -6.9328999519348145, -7.003399848937988, -7.031099796295166, -6.365200042724609, -7.0854997634887695, -7.091700077056885, -7.121500015258789, -7.152100086212158, -7.186399936676025, -7.207099914550781, -6.86329984664917, -7.338399887084961, -7.308300018310547, -7.4679999351501465, -7.485499858856201, -7.561399936676025, -7.575799942016602, -7.577300071716309, -7.622099876403809, -4.599100112915039, -6.629899978637695, -7.085999965667725, -7.524199962615967, -6.629899978637695, -6.695199966430664, -6.676400184631348, -6.953999996185303, -6.6595001220703125, -5.44189977645874, -4.840799808502197, -5.95989990234375, -5.826700210571289, -6.413700103759766, -6.170899868011475, -6.256199836730957, -5.130199909210205, -6.486400127410889, -5.615099906921387, -6.353000164031982, -5.133299827575684, -5.33489990234375, -6.277599811553955, -5.635700225830078, -5.804900169372559, -5.825500011444092, -5.574900150299072, -5.768099784851074, -5.964900016784668, -4.182600021362305, -4.521299839019775, -4.523099899291992, -5.428299903869629, -5.803899765014648, -5.605100154876709, -4.982100009918213, -5.140600204467773, -5.23330020904541, -4.852700233459473, -5.269000053405762, -5.246600151062012, -5.1178998947143555, -5.565299987792969, -5.236800193786621, -5.636000156402588, -5.67549991607666, -5.2906999588012695, -5.543300151824951, -5.442399978637695, -5.423099994659424, -5.49370002746582, -5.451099872589111, -5.510499954223633, -5.593100070953369, -5.59060001373291, -3.7244999408721924, -4.869500160217285, -5.114999771118164, -5.4421000480651855, -5.730500221252441, -6.003200054168701, -6.019400119781494, -6.269199848175049, -6.320499897003174, -6.3815999031066895, -6.564799785614014, -6.65339994430542, -6.663000106811523, -6.6946001052856445, -6.7606000900268555, -6.769899845123291, -6.776599884033203, -6.7895002365112305, -6.857500076293945, -6.868299961090088, -6.871500015258789, -6.920400142669678, -6.991099834442139, -7.035099983215332, -7.139500141143799, -7.169899940490723, -7.178100109100342, -7.2083001136779785, -7.211100101470947, -7.230299949645996, -5.15369987487793, -5.387700080871582, -5.493599891662598, -6.054299831390381, -5.8231000900268555, -4.148399829864502, -5.703400135040283, -4.532299995422363, -5.088099956512451, -5.14709997177124, -4.135300159454346, -6.092899799346924, -5.530200004577637, -6.107100009918213, -6.143599987030029, -5.631499767303467, -3.964900016784668, -5.563300132751465, -6.035999774932861, -5.648200035095215, -3.4937000274658203, -4.410600185394287, -4.1468000411987305, -5.177599906921387, -5.205999851226807, -4.211999893188477, -3.8924999237060547, -4.8165998458862305, -4.581900119781494, -4.1479997634887695, -4.941800117492676, -4.922800064086914, -4.674799919128418, -4.978400230407715, -5.2322998046875, -4.835700035095215, -4.655600070953369, -4.999499797821045, -5.095699787139893, -5.2758002281188965, -4.292300224304199, -5.287199974060059, -5.504199981689453, -5.550300121307373, -5.713799953460693, -5.719699859619141, -5.760700225830078, -5.802800178527832, -5.8383002281188965, -5.933499813079834, -5.954599857330322, -5.98199987411499, -5.982800006866455, -6.042699813842773, -6.088799953460693, -6.133200168609619, -6.148900032043457, -6.193600177764893, -6.269599914550781, -6.152299880981445, -6.28000020980835, -6.307799816131592, -6.317500114440918, -6.322400093078613, -6.341800212860107, -6.319399833679199, -6.393599987030029, -6.417600154876709, -6.437699794769287, -6.475500106811523, -4.32420015335083, -2.61929988861084, -4.888599872589111, -3.032099962234497, -5.826600074768066, -4.837399959564209, -4.940999984741211, -5.523499965667725, -4.951200008392334, -5.250400066375732, -5.11269998550415, -5.650199890136719, -5.889699935913086, -5.37529993057251, -4.561500072479248, -5.351799964904785, -5.372600078582764, -4.7692999839782715, -5.195199966430664, -5.076900005340576, -5.494500160217285, -5.399600028991699, -4.833199977874756, -4.87939977645874, -5.463600158691406, -5.569799900054932, -5.455100059509277, -5.366199970245361, -5.1894001960754395, -5.2906999588012695, -5.361299991607666, -5.395400047302246, -5.473700046539307, -4.320199966430664, -5.1519999504089355, -5.2667999267578125, -5.363999843597412, -5.374499797821045, -5.622700214385986, -5.670400142669678, -5.784900188446045, -5.840700149536133, -5.890999794006348, -6.093599796295166, -6.153200149536133, -6.223800182342529, -6.27370023727417, -6.307300090789795, -6.329500198364258, -6.502200126647949, -6.513299942016602, -6.521200180053711, -6.528800010681152, -6.5945000648498535, -6.611599922180176, -6.617099761962891, -6.657899856567383, -6.686399936676025, -6.742099761962891, -6.747000217437744, -6.820300102233887, -6.564000129699707, -6.855599880218506, -4.627299785614014, -6.747000217437744, -6.4980998039245605, -5.371099948883057, -6.030700206756592, -4.4105000495910645, -5.363399982452393, -5.8582000732421875, -6.030399799346924, -4.398900032043457, -5.315999984741211, -5.720900058746338, -4.310299873352051, -5.889999866485596, -4.533299922943115, -4.972400188446045, -5.639900207519531, -4.443699836730957, -5.7170000076293945, -4.940000057220459, -5.675099849700928, -5.033699989318848, -5.358799934387207, -4.109300136566162, -5.48829984664917, -5.164100170135498, -5.515100002288818, -5.2399001121521, -5.304999828338623, -5.461699962615967, -5.382400035858154, -5.472700119018555, -5.331099987030029, -5.550600051879883, -5.448500156402588, -5.486599922180176, -5.504799842834473, -4.06790018081665, -4.67080020904541, -4.809899806976318, -5.115300178527832, -5.251200199127197, -5.252600193023682, -5.263999938964844, -5.4710001945495605, -5.5903000831604, -5.742199897766113, -5.86269998550415, -6.080599784851074, -4.701499938964844, -6.221099853515625, -6.324699878692627, -6.405399799346924, -6.42549991607666, -6.582300186157227, -6.5954999923706055, -6.606800079345703, -6.67140007019043, -6.778299808502197, -6.815199851989746, -6.7677001953125, -6.831099987030029, -6.8445000648498535, -6.86899995803833, -6.882999897003174, -6.89169979095459, -6.898499965667725, -6.652100086212158, -6.186699867248535, -5.918399810791016, -5.890900135040283, -3.5380001068115234, -6.124899864196777, -5.904200077056885, -5.377500057220459, -5.0524001121521, -5.070700168609619, -4.530799865722656, -4.932499885559082, -5.4842000007629395, -5.502500057220459, -5.480999946594238, -4.950200080871582, -5.147299766540527, -4.969900131225586, -4.996699810028076, -4.739799976348877, -4.254799842834473, -4.6880998611450195, -4.638400077819824, -3.799099922180176, -4.588900089263916, -4.587500095367432, -4.678699970245361, -4.751200199127197, -5.1707000732421875, -4.840400218963623, -4.998300075531006, -4.860599994659424, -5.078499794006348, -5.18179988861084, -4.610099792480469, -4.813300132751465, -5.116300106048584, -5.282700061798096, -5.506800174713135, -5.540999889373779, -5.856500148773193, -5.891300201416016, -6.019000053405762, -6.073599815368652, -6.115099906921387, -6.229800224304199, -6.2571001052856445, -6.2835001945495605, -6.468200206756592, -6.607399940490723, -6.635200023651123, -6.550899982452393, -6.708099842071533, -6.743199825286865, -6.762400150299072, -6.776599884033203, -6.795899868011475, -6.64709997177124, -6.872300148010254, -6.90369987487793, -6.902500152587891, -6.910099983215332, -6.8730998039245605, -6.954800128936768, -5.304200172424316, -6.321599960327148, -6.252200126647949, -5.94890022277832, -6.604899883270264, -4.114200115203857, -6.112199783325195, -5.981599807739258, -6.022900104522705, -6.34689998626709, -5.763999938964844, -5.365699768066406, -6.149199962615967, -4.99429988861084, -5.918300151824951, -5.494500160217285, -4.837500095367432, -3.979099988937378, -5.353499889373779, -4.944900035858154, -5.814199924468994, -5.522299766540527, -5.099400043487549, -5.281599998474121, -4.5929999351501465, -4.385799884796143, -4.980800151824951, -5.230500221252441, -4.752699851989746, -5.428599834442139, -5.379300117492676, -5.1894001960754395, -5.38539981842041, -4.992000102996826, -5.0777997970581055, -4.297399997711182, -5.166100025177002, -5.106500148773193, -5.125500202178955, -4.89870023727417, -5.025400161743164, -5.120999813079834, -5.259099960327148, -5.3471999168396, -3.168100118637085, -3.744499921798706, -3.9491000175476074, -4.088799953460693, -5.052000045776367, -5.155600070953369, -5.215400218963623, -5.219799995422363, -5.390699863433838, -5.650700092315674, -5.851500034332275, -6.011099815368652, -6.033199787139893, -6.04580020904541, -6.047900199890137, -6.058300018310547, -6.063000202178955, -6.0671000480651855, -6.074999809265137, -6.3094000816345215, -6.337399959564209, -6.376100063323975, -6.495299816131592, -6.523099899291992, -6.526400089263916, -6.564799785614014, -6.583099842071533, -6.595699787139893, -6.600800037384033, -6.652900218963623, -3.9451000690460205, -6.180799961090088, -3.4430999755859375, -5.541600227355957, -6.359899997711182, -5.468400001525879, -6.393799781799316, -5.968299865722656, -5.040500164031982, -5.472499847412109, -5.337100028991699, -5.517199993133545, -4.896599769592285, -5.415500164031982, -5.433199882507324, -4.914400100708008, -4.650300025939941, -5.042300224304199, -4.551700115203857, -5.655900001525879, -4.212800025939941, -5.508500099182129, -5.124300003051758, -5.027699947357178, -5.1519999504089355, -5.315700054168701, -5.3221001625061035, -5.3703999519348145, -5.4182000160217285, -5.433800220489502, -3.89739990234375, -3.903599977493286, -4.436600208282471, -4.543700218200684, -4.983099937438965, -5.046800136566162, -5.093699932098389, -5.309100151062012, -5.458499908447266, -5.609000205993652, -5.656599998474121, -5.684100151062012, -5.684100151062012, -5.799099922180176, -5.8078999519348145, -5.90310001373291, -5.920199871063232, -5.979400157928467, -6.018799781799316, -6.029900074005127, -6.0345001220703125, -6.087699890136719, -6.14870023727417, -6.283400058746338, -6.341100215911865, -6.391900062561035, -6.401000022888184, -6.427000045776367, -6.438499927520752, -6.4618000984191895, -5.018700122833252, -6.407400131225586, -5.392499923706055, -5.1381001472473145, -5.667900085449219, -3.8213999271392822, -5.630000114440918, -4.926599979400635, -4.917300224304199, -5.13670015335083, -5.414100170135498, -5.706099987030029, -4.0696001052856445, -4.73769998550415, -4.742099761962891, -5.10860013961792, -5.159299850463867, -4.329100131988525, -5.3780999183654785, -3.941800117492676, -4.933700084686279, -5.350299835205078, -5.2642998695373535, -4.980400085449219, -5.190899848937988, -5.096199989318848, -5.130799770355225, -5.153800010681152, -5.263899803161621, -5.22160005569458, -4.2459001541137695, -5.133299827575684, -4.099599838256836, -5.264699935913086, -5.5584001541137695, -5.661300182342529, -5.686200141906738, -5.821300029754639, -5.939300060272217, -5.95419979095459, -5.950300216674805, -6.167799949645996, -6.179699897766113, -6.21150016784668, -6.27370023727417, -6.303800106048584, -4.813899993896484, -6.32859992980957, -6.329599857330322, -6.375100135803223, -6.424600124359131, -6.503600120544434, -6.5243000984191895, -6.538700103759766, -6.5395002365112305, -6.5406999588012695, -6.565899848937988, -6.591100215911865, -6.625199794769287, -6.6433000564575195, -5.526899814605713, -5.80649995803833, -6.399099826812744, -6.111999988555908, -4.338799953460693, -4.5640997886657715, -6.239299774169922, -6.186600208282471, -5.7540998458862305, -5.706399917602539, -4.389599800109863, -5.277100086212158, -5.782700061798096, -5.048399925231934, -4.824699878692627, -4.979499816894531, -5.184999942779541, -5.112599849700928, -5.7322001457214355, -5.174099922180176, -4.966400146484375, -4.668700218200684, -4.38100004196167, -5.520400047302246, -5.303100109100342, -5.0605998039245605, -5.161600112915039, -5.47730016708374, -5.126399993896484, -5.350900173187256, -5.477099895477295, -5.310699939727783, -5.501500129699707, -5.468100070953369, -3.4683001041412354, -4.0817999839782715, -4.346700191497803, -4.4953999519348145, -4.700399875640869, -4.759500026702881, -5.21120023727417, -5.353300094604492, -5.5833001136779785, -5.600900173187256, -5.601600170135498, -5.637400150299072, -5.776800155639648, -5.86899995803833, -5.930200099945068, -5.98829984664917, -6.087800025939941, -6.028200149536133, -6.170199871063232, -6.182700157165527, -6.2519001960754395, -5.822700023651123, -6.396399974822998, -6.416800022125244, -6.461100101470947, -6.5167999267578125, -6.55709981918335, -6.570199966430664, -6.61929988861084, -6.63670015335083, -5.568699836730957, -4.152900218963623, -6.164700031280518, -6.2480998039245605, -6.115099906921387, -6.318600177764893, -6.252299785614014, -4.4334001541137695, -3.8071000576019287, -4.44320011138916, -3.5834999084472656, -4.230800151824951, -5.094299793243408, -5.489099979400635, -3.6903998851776123, -5.059899806976318, -5.438899993896484, -5.585299968719482, -5.103300094604492, -4.641499996185303, -4.718800067901611, -5.338699817657471, -3.5785000324249268, -4.441500186920166, -4.809199810028076, -4.948200225830078, -5.018799781799316, -4.649700164794922, -5.186999797821045, -5.254799842834473, -5.349400043487549, -5.271900177001953, -5.297299861907959, -5.3317999839782715, -4.444200038909912, -5.101399898529053, -5.285900115966797, -5.401899814605713, -5.6483001708984375, -5.68209981918335, -5.723100185394287, -5.782599925994873, -5.884699821472168, -5.991499900817871, -6.055200099945068, -6.055600166320801, -6.05709981918335, -6.063799858093262, -6.058000087738037, -6.0742998123168945, -6.081600189208984, -6.101399898529053, -6.123199939727783, -6.1508002281188965, -6.193999767303467, -6.211400032043457, -6.216899871826172, -6.229000091552734, -6.249100208282471, -6.294300079345703, -6.345200061798096, -6.4079999923706055, -6.444300174713135, -6.472599983215332, -5.649400234222412, -4.828700065612793, -5.848599910736084, -5.914100170135498, -5.573999881744385, -5.79640007019043, -5.315199851989746, -5.237299919128418, -5.301300048828125, -5.42110013961792, -5.207300186157227, -5.241499900817871, -5.4232001304626465, -5.672299861907959, -5.3815999031066895, -5.677199840545654, -5.083799839019775, -5.381899833679199, -5.8354997634887695, -5.540500164031982, -4.583499908447266, -5.517399787902832, -4.539000034332275, -5.441400051116943, -5.284800052642822, -5.342899799346924, -5.272799968719482, -5.2667999267578125, -5.273099899291992, -5.567999839782715, -5.5858001708984375, -4.970900058746338, -5.062900066375732, -5.126200199127197, -5.1697001457214355, -5.413599967956543, -5.433899879455566, -5.440999984741211, -5.490300178527832, -5.568699836730957, -5.635300159454346, -5.263400077819824, -5.793799877166748, -5.794000148773193, -5.827600002288818, -5.904799938201904, -5.928899765014648, -5.946100234985352, -5.967899799346924, -6.020299911499023, -6.034800052642822, -6.037799835205078, -5.988800048828125, -6.089300155639648, -6.142899990081787, -6.189899921417236, -6.320099830627441, -6.330900192260742, -6.3471999168396, -6.35260009765625, -6.376699924468994, -4.298299789428711, -5.854300022125244, -4.46560001373291, -4.153600215911865, -4.279699802398682, -4.407299995422363, -4.986299991607666, -4.853700160980225, -5.231100082397461, -4.569799900054932, -4.7982001304626465, -4.670599937438965, -5.049099922180176, -5.576700210571289, -4.526899814605713, -5.679500102996826, -5.050600051879883, -4.801199913024902, -5.484000205993652, -5.3491997718811035, -5.053299903869629, -4.873899936676025, -5.25629997253418, -5.236999988555908, -5.179900169372559, -5.361700057983398, -5.255300045013428, -5.367599964141846, -4.425899982452393, -4.711999893188477, -4.765600204467773, -4.863399982452393, -5.031400203704834, -5.164999961853027, -5.322400093078613, -5.354400157928467, -5.384099960327148, -5.52400016784668, -5.56689977645874, -5.617000102996826, -5.622900009155273, -5.705399990081787, -5.755899906158447, -5.766200065612793, -5.813700199127197, -5.481200218200684, -5.886099815368652, -5.997499942779541, -6.018599987030029, -6.107900142669678, -6.113800048828125, -6.136000156402588, -6.183800220489502, -6.2881999015808105, -6.3078999519348145, -6.317200183868408, -6.322400093078613, -6.334700107574463, -5.516499996185303, -5.383200168609619, -5.719399929046631, -5.346700191497803, -4.7692999839782715, -5.490699768066406, -5.137599945068359, -5.979499816894531, -4.931700229644775, -5.790299892425537, -5.584400177001953, -5.089399814605713, -3.5120999813079834, -5.13539981842041, -5.043000221252441, -4.780300140380859, -5.27400016784668, -5.212299823760986, -4.919600009918213, -5.204800128936768, -5.390100002288818, -5.252200126647949, -5.098100185394287, -5.345300197601318, -5.2505998611450195, -5.348899841308594, -5.360199928283691, -4.174099922180176, -4.7418999671936035, -4.906899929046631, -5.0920000076293945, -5.2144999504089355, -5.334099769592285, -5.412099838256836, -5.465799808502197, -5.477700233459473, -5.4893999099731445, -5.604899883270264, -5.684700012207031, -5.703800201416016, -5.714300155639648, -5.735400199890137, -5.813000202178955, -5.890100002288818, -5.9334001541137695, -5.963200092315674, -6.0503997802734375, -6.105299949645996, -6.127900123596191, -6.2027997970581055, -6.266499996185303, -6.279900074005127, -6.315100193023682, -5.721399784088135, -6.354000091552734, -6.3368000984191895, -6.361199855804443, -4.998000144958496, -4.268099784851074, -3.783900022506714, -4.817299842834473, -4.0706000328063965, -5.936299800872803, -4.471199989318848, -4.389599800109863, -4.63640022277832, -5.341599941253662, -4.830699920654297, -5.100599765777588, -5.219900131225586, -5.433000087738037, -5.036600112915039, -4.797999858856201, -4.053800106048584, -5.279200077056885, -5.338900089263916, -4.950900077819824, -5.086999893188477, -5.2357001304626465, -5.202099800109863, -4.992300033569336, -4.874300003051758, -5.296500205993652, -5.213799953460693, -5.273099899291992, -5.2769999504089355, -4.195499897003174, -4.860300064086914, -4.968299865722656, -5.006800174713135, -5.12060022354126, -5.281000137329102, -5.454100131988525, -5.4664998054504395, -5.543600082397461, -5.709700107574463, -5.725500106811523, -5.781799793243408, -5.850599765777588, -5.872399806976318, -5.899400234222412, -6.220799922943115, -6.329599857330322, -6.3907999992370605, -6.406099796295166, -6.453700065612793, -6.467800140380859, -6.481599807739258, -6.484899997711182, -6.4878997802734375, -6.494200229644775, -6.512400150299072, -6.536099910736084, -6.554599761962891, -6.562399864196777, -6.56850004196167, -6.56279993057251, -6.47629976272583, -6.1132001876831055, -6.103099822998047, -4.519499778747559, -5.7480998039245605, -5.870100021362305, -4.776800155639648, -6.073299884796143, -5.106800079345703, -4.8902997970581055, -5.863500118255615, -5.734399795532227, -4.211999893188477, -4.1697001457214355, -4.520199775695801, -5.443299770355225, -4.809999942779541, -4.893199920654297, -5.4770002365112305, -5.007699966430664, -5.085299968719482, -4.406300067901611, -5.460999965667725, -5.005300045013428, -5.579599857330322, -4.99459981918335, -4.889699935913086, -5.139400005340576, -5.378600120544434, -5.425300121307373, -5.0594000816345215, -5.296000003814697, -5.357399940490723, -5.423500061035156, -5.4440999031066895, -4.135700225830078, -4.195099830627441, -4.339000225067139, -4.498700141906738, -4.507699966430664, -4.599100112915039, -5.02839994430542, -5.098800182342529, -5.3059000968933105, -5.309500217437744, -5.409900188446045, -5.444499969482422, -5.504899978637695, -5.609099864959717, -5.646999835968018, -5.723899841308594, -5.749800205230713, -5.7708001136779785, -5.819799900054932, -5.872099876403809, -5.911200046539307, -5.969200134277344, -6.007699966430664, -6.053999900817871, -6.055300235748291, -6.143899917602539, -6.172900199890137, -6.244900226593018, -6.280700206756592, -6.373600006103516, -4.6407999992370605, -3.9681999683380127, -5.0289998054504395, -4.876100063323975, -4.564300060272217, -4.745699882507324, -5.053599834442139, -4.108399868011475, -4.394000053405762, -4.804500102996826, -5.111599922180176, -5.112299919128418, -4.606500148773193, -4.235799789428711, -4.577899932861328, -4.334000110626221, -4.599299907684326, -4.834199905395508, -4.436399936676025, -4.749000072479248, -4.754799842834473, -4.498600006103516, -4.23960018157959, -4.991199970245361, -4.811699867248535, -3.2862000465393066, -4.27370023727417, -4.701099872589111, -4.905399799346924, -5.064899921417236, -5.131899833679199, -5.143599987030029, -5.288899898529053, -5.509900093078613, -5.684500217437744, -5.712399959564209, -5.8730998039245605, -5.873899936676025, -5.899700164794922, -5.918399810791016, -6.1433000564575195, -6.149700164794922, -6.193999767303467, -6.220099925994873, -6.220900058746338, -6.238900184631348, -6.244100093841553, -6.260300159454346, -6.287600040435791, -6.304999828338623, -6.335400104522705, -6.343299865722656, -6.343999862670898, -6.355199813842773, -6.402900218963623, -6.186100006103516, -4.110499858856201, -5.013899803161621, -6.0258002281188965, -4.406799793243408, -3.890500068664551, -4.242099761962891, -5.826700210571289, -5.041500091552734, -4.406099796295166, -5.860899925231934, -4.49459981918335, -4.389500141143799, -4.658599853515625, -4.149099826812744, -4.468900203704834, -4.131800174713135, -4.338200092315674, -5.342899799346924, -4.721399784088135, -4.9141998291015625, -5.23859977722168, -4.810299873352051, -4.9274001121521, -5.146900177001953, -4.731200218200684, -5.091599941253662, -5.212399959564209, -5.221499919891357]}, \"token.table\": {\"Topic\": [1, 2, 3, 6, 7, 9, 11, 12, 13, 14, 16, 18, 20, 2, 3, 6, 7, 10, 11, 12, 13, 1, 2, 3, 4, 6, 7, 8, 9, 11, 13, 16, 4, 6, 13, 14, 16, 20, 14, 11, 14, 17, 14, 18, 1, 4, 6, 9, 11, 14, 11, 2, 2, 8, 10, 1, 2, 4, 5, 7, 10, 17, 2, 3, 4, 5, 6, 7, 9, 11, 12, 16, 17, 19, 20, 3, 6, 7, 9, 11, 12, 15, 17, 11, 14, 16, 19, 6, 6, 3, 4, 6, 8, 11, 17, 18, 3, 14, 14, 1, 2, 3, 4, 6, 11, 12, 14, 16, 17, 19, 20, 12, 2, 3, 4, 9, 12, 1, 2, 4, 6, 9, 10, 11, 13, 14, 15, 19, 6, 6, 17, 2, 7, 1, 9, 1, 8, 3, 2, 10, 1, 8, 11, 5, 7, 1, 2, 3, 4, 5, 6, 7, 8, 9, 10, 11, 12, 13, 14, 15, 16, 17, 18, 19, 20, 1, 3, 4, 13, 16, 20, 3, 7, 10, 13, 5, 8, 12, 3, 2, 17, 4, 4, 15, 8, 14, 1, 7, 11, 20, 2, 3, 4, 7, 9, 10, 17, 18, 5, 9, 11, 16, 11, 11, 4, 1, 3, 4, 5, 6, 9, 11, 13, 16, 18, 11, 8, 11, 16, 11, 1, 11, 16, 20, 1, 8, 1, 5, 7, 8, 20, 5, 7, 19, 1, 2, 12, 1, 2, 3, 4, 5, 6, 7, 8, 9, 10, 11, 12, 13, 14, 15, 16, 17, 18, 19, 20, 1, 2, 4, 6, 8, 11, 12, 13, 14, 15, 16, 19, 20, 6, 2, 17, 1, 3, 4, 5, 8, 9, 10, 13, 16, 18, 14, 15, 10, 17, 1, 2, 3, 5, 6, 7, 11, 12, 17, 18, 5, 1, 5, 12, 4, 6, 13, 5, 1, 2, 3, 4, 5, 6, 8, 12, 13, 14, 16, 18, 19, 20, 6, 17, 1, 3, 6, 5, 6, 1, 2, 4, 5, 7, 8, 9, 11, 12, 14, 16, 19, 20, 1, 1, 2, 3, 7, 13, 14, 19, 4, 7, 8, 10, 13, 3, 8, 1, 3, 4, 5, 7, 8, 9, 15, 18, 6, 20, 17, 10, 16, 1, 5, 7, 8, 10, 11, 15, 19, 20, 13, 16, 2, 3, 6, 12, 4, 13, 9, 15, 15, 13, 7, 1, 2, 3, 4, 5, 6, 8, 9, 11, 12, 13, 14, 15, 16, 17, 18, 20, 8, 8, 17, 9, 2, 11, 2, 18, 20, 5, 8, 7, 2, 17, 18, 6, 14, 1, 2, 3, 4, 5, 6, 7, 9, 10, 11, 12, 15, 16, 19, 12, 9, 5, 7, 1, 1, 2, 3, 5, 7, 8, 9, 10, 14, 16, 19, 20, 1, 5, 7, 15, 3, 11, 5, 19, 2, 4, 6, 9, 12, 14, 15, 16, 17, 18, 10, 13, 14, 15, 3, 14, 7, 17, 15, 20, 17, 18, 10, 9, 10, 13, 1, 16, 5, 19, 13, 9, 17, 4, 11, 2, 14, 15, 1, 8, 12, 7, 2, 3, 14, 17, 2, 4, 12, 15, 17, 10, 13, 9, 18, 4, 11, 1, 5, 7, 5, 7, 8, 15, 16, 10, 13, 13, 13, 4, 20, 1, 2, 12, 13, 17, 19, 10, 9, 9, 7, 12, 6, 5, 9, 8, 3, 4, 5, 6, 9, 12, 13, 14, 16, 18, 19, 1, 2, 3, 4, 5, 7, 8, 9, 10, 11, 12, 13, 14, 15, 16, 17, 18, 19, 4, 5, 7, 19, 2, 19, 19, 4, 1, 2, 5, 7, 8, 10, 14, 16, 17, 1, 5, 8, 5, 4, 8, 13, 1, 4, 5, 8, 13, 1, 4, 12, 19, 2, 5, 8, 11, 18, 2, 3, 4, 6, 7, 9, 10, 13, 15, 16, 20, 11, 14, 15, 19, 1, 3, 4, 7, 9, 10, 13, 14, 18, 9, 18, 18, 20, 11, 11, 19, 4, 5, 15, 11, 2, 18, 13, 11, 16, 1, 2, 7, 8, 9, 10, 12, 14, 15, 18, 6, 9, 11, 15, 6, 1, 5, 8, 11, 15, 17, 4, 14, 20, 4, 8, 11, 13, 14, 19, 1, 2, 3, 7, 8, 10, 12, 13, 14, 16, 17, 19, 20, 1, 5, 11, 1, 2, 3, 4, 5, 6, 8, 9, 11, 13, 15, 18, 20, 16, 8, 15, 13, 1, 3, 7, 8, 11, 12, 14, 18, 4, 11, 1, 2, 3, 4, 5, 8, 9, 12, 13, 15, 16, 17, 1, 2, 3, 4, 6, 9, 12, 13, 16, 17, 18, 19, 20, 12, 13, 8, 10, 11, 7, 13, 2, 3, 4, 14, 1, 3, 4, 6, 9, 11, 12, 13, 14, 17, 7, 12, 14, 3, 4, 20, 2, 12, 7, 8, 10, 15, 3, 4, 4, 1, 3, 13, 6, 9, 19, 2, 3, 20, 12, 4, 15, 12, 16, 9, 19, 6, 15, 1, 2, 3, 4, 5, 6, 8, 9, 10, 11, 12, 13, 14, 15, 16, 17, 18, 19, 20, 1, 2, 3, 5, 7, 8, 10, 11, 12, 16, 19, 20, 7, 10, 13, 19, 16, 9, 14, 17, 3, 7, 10, 13, 15, 5, 8, 15, 8, 11, 2, 6, 9, 12, 13, 3, 20, 11, 17, 2, 4, 5, 13, 4, 9, 4, 5, 7, 9, 11, 14, 17, 18, 1, 2, 3, 4, 5, 6, 7, 8, 9, 10, 11, 12, 13, 14, 15, 16, 19, 7, 10, 13, 14, 15, 7, 11, 19, 20, 6, 8, 10, 11, 12, 14, 17, 18, 1, 2, 3, 4, 5, 7, 8, 10, 13, 15, 13, 5, 20, 17, 13, 3, 8, 18, 6, 16, 1, 6, 12, 1, 14, 5, 20, 17, 10, 1, 2, 3, 5, 7, 8, 10, 11, 13, 15, 17, 14, 17, 7, 20, 18, 8, 9, 10, 15, 20, 2, 4, 9, 10, 20, 2, 10, 14, 15, 16, 1, 12, 3, 8, 12, 2, 3, 14, 17, 19, 13, 9, 16, 3, 4, 1, 8, 3, 9, 4, 16, 12, 20, 6, 12, 7, 13, 18, 4, 10, 7, 10, 14, 12, 16, 17, 19, 12, 7, 4, 3, 4, 5, 6, 7, 10, 11, 12, 13, 14, 17, 5, 9, 18, 3, 19, 20, 3, 17, 18, 3, 11, 3, 15, 10, 2, 3, 4, 10, 1, 2, 3, 4, 6, 8, 9, 10, 11, 12, 13, 14, 15, 16, 17, 18, 20, 4, 10, 16, 19, 1, 4, 11, 16, 19, 1, 3, 4, 8, 13, 16, 13, 5, 7, 5, 13, 6, 15, 12, 4, 1, 16, 1, 2, 7, 14, 3, 2, 3, 4, 5, 8, 9, 14, 18, 20, 1, 2, 3, 4, 6, 8, 11, 12, 13, 14, 15, 16, 18, 20, 2, 3, 4, 8, 12, 18, 20, 3, 11, 2, 3, 4, 5, 7, 8, 9, 10, 12, 13, 14, 15, 16, 18, 19, 9, 2, 3, 5, 7, 8, 10, 14, 15, 18, 12, 4, 7, 13, 2, 3, 4, 5, 6, 12, 15, 7, 9, 20, 4, 8, 15, 19, 13, 14, 9, 11, 1, 2, 5, 7, 8, 9, 12, 14, 15, 16, 1, 5, 7, 8, 17, 20, 17, 18, 16, 4, 13, 19, 1, 2, 3, 4, 5, 6, 7, 8, 9, 10, 11, 12, 13, 16, 17, 18, 19, 20, 14, 2, 3, 4, 5, 7, 8, 9, 11, 12, 13, 14, 15, 16, 19, 20, 3, 13, 7, 5, 17, 3, 1, 3, 4, 9, 10, 12, 14, 16, 18, 20, 4, 16, 17, 19, 1, 5, 14, 1, 4, 5, 7, 8, 13, 16, 18, 19, 2, 3, 4, 6, 7, 8, 9, 11, 13, 15, 16, 18, 20, 5, 6, 10, 12, 14, 17, 18, 10, 1, 5, 16, 14, 15, 5, 1, 2, 3, 10, 11, 12, 15, 17, 18, 2, 3, 4, 5, 7, 8, 9, 12, 13, 18, 20, 12, 3, 10, 16, 2, 4, 6, 11, 17, 18, 2, 14, 8, 17, 15, 4, 18, 5, 7, 1, 2, 3, 4, 5, 6, 7, 9, 11, 12, 13, 14, 16, 17, 18, 4, 2, 8, 3, 7, 9, 10, 11, 12, 15, 18, 9, 15, 16, 17, 4, 13, 5, 3, 8, 12, 14, 15, 16, 1, 1, 2, 3, 4, 6, 7, 9, 11, 12, 13, 14, 15, 17, 18, 6, 12, 15, 19, 11, 4, 6, 17, 18, 7, 10, 1, 2, 5, 7, 8, 10, 11, 13, 16, 19, 20, 7, 8, 7, 1, 2, 8, 9, 10, 18, 11, 14, 1, 1, 2, 4, 5, 7, 8, 9, 11, 13, 14, 15, 16, 17, 20, 5, 8, 16, 19, 7, 2, 13, 19, 1, 19, 13, 5, 7, 9, 20, 8, 5, 5, 9, 2, 11, 19, 11, 11, 18, 3, 4, 17, 2, 3, 6, 7, 10, 16, 20, 1, 2, 3, 4, 5, 7, 9, 10, 11, 13, 16, 19, 3, 4, 6, 10, 14, 15, 14, 15, 14, 14, 2, 19, 17, 3, 4, 15, 18, 2, 18, 15, 1, 2, 5, 7, 8, 9, 11, 12, 14, 16, 18, 1, 9, 12, 17, 9, 10, 13, 15, 16, 20, 5, 7, 8, 1, 2, 3, 4, 5, 6, 7, 8, 9, 10, 12, 14, 15, 16, 1, 2, 3, 4, 5, 9, 11, 12, 16, 17, 19, 4, 1, 3, 10, 20, 2, 4, 7, 8, 18, 6, 7, 18, 10, 15, 10, 1, 3, 4, 5, 6, 8, 9, 12, 15, 18, 19, 20, 4, 1, 4, 13, 3, 4, 7, 9, 10, 13, 15, 16, 18, 19, 20, 10, 10, 20, 20, 17, 1, 2, 3, 4, 5, 6, 7, 8, 10, 11, 12, 13, 16, 18, 19, 20, 2, 3, 13, 19, 1, 5, 9, 1, 3, 4, 8, 9, 12, 13, 17, 19, 1, 14, 1, 5, 7, 8, 19, 20, 2, 3, 4, 9, 19, 6, 1, 5, 8, 20, 1, 5, 8, 20, 5, 17, 1, 5, 7, 8, 20, 5, 7, 8, 11, 12, 16, 19, 1, 5, 7, 8, 19, 20, 1, 5, 8, 11, 2, 8, 8, 2, 3, 6, 10, 11, 12, 13, 14, 15, 17, 18, 20, 5, 9, 9, 2, 5, 7, 14, 3, 6, 8, 10, 12, 14, 15, 16, 20, 18, 2, 11, 7, 8, 2, 3, 5, 7, 9, 12, 16, 17, 1, 4, 7, 1, 3, 5, 6, 7, 8, 11, 12, 15, 4, 13, 2, 14, 11, 13, 10, 1, 12, 1, 9, 12, 1, 3, 5, 12, 16, 14, 5, 12, 16, 20, 6, 1, 7, 2, 19, 16, 5, 8, 11, 1, 4, 5, 7, 8, 12, 20, 1, 2, 5, 7, 8, 11, 13, 16, 19, 20, 1, 3, 5, 10, 1, 3, 9, 11, 14, 16, 3, 14, 17, 1, 5, 2, 1, 2, 3, 4, 5, 6, 7, 9, 11, 12, 15, 16, 17, 1, 2, 3, 5, 7, 8, 9, 10, 12, 14, 15, 16, 17, 18, 19, 20, 10, 10, 16, 10, 1, 5, 8, 20, 17, 7, 3, 7, 17, 2, 3, 14, 17, 14, 1, 2, 3, 4, 5, 6, 7, 8, 9, 10, 11, 12, 13, 14, 15, 16, 17, 18, 20, 1, 2, 3, 4, 5, 7, 8, 9, 11, 13, 14, 15, 16, 17, 18, 19, 20, 1, 5, 6, 11, 17, 19, 5, 6, 9, 10, 12, 15, 17, 1, 2, 3, 5, 8, 9, 10, 11, 14, 18, 8, 10, 11, 6, 12, 1, 2, 3, 4, 7, 11, 13, 14, 16, 18, 19, 8, 8, 1, 2, 3, 4, 5, 6, 7, 8, 9, 10, 11, 12, 13, 14, 16, 17, 18, 19, 9, 13, 17, 18, 19, 5, 11, 1, 5, 11, 2, 3, 4, 5, 6, 7, 8, 9, 12, 13, 14, 15, 16, 17, 4, 9, 16, 1, 2, 3, 4, 5, 6, 7, 9, 10, 12, 13, 14, 15, 16, 17, 18, 20, 12, 12, 1, 2, 7, 8, 9, 10, 14, 15, 16, 18, 20, 19, 3, 5, 7, 11, 20, 1, 4, 8, 9, 12, 16, 19, 20, 13, 2, 6, 9, 10, 12, 14, 16, 17, 18, 19, 13, 20, 14, 5, 18, 2, 6, 15, 18, 18, 10, 1, 2, 3, 4, 5, 6, 7, 8, 9, 10, 11, 12, 13, 14, 15, 16, 17, 18, 3, 5, 10, 14, 17, 16, 16, 10, 11, 7, 20, 15, 13, 14, 2, 3, 4, 5, 7, 8, 9, 10, 12, 13, 14, 15, 18, 19, 16, 10, 13, 14, 20, 1, 5, 7, 7, 11, 1, 2, 3, 4, 5, 6, 7, 8, 9, 10, 11, 12, 13, 14, 16, 17, 18, 19, 20, 7, 13, 9, 14, 16, 15, 1, 9, 10, 13, 19, 20, 1, 2, 3, 4, 5, 6, 8, 9, 10, 11, 12, 14, 15, 16, 18, 19, 20, 19, 2, 4, 14, 3, 4, 5, 6, 8, 9, 10, 11, 12, 16, 19, 4, 16, 14, 7, 7, 15, 7, 14, 7, 2, 4, 10, 13, 18, 19, 15, 12, 2, 4, 1, 5, 7, 8, 11, 20, 1, 5, 8, 10, 11, 15, 16, 1, 2, 6, 8, 11, 12, 13, 14, 16, 2, 8, 11, 20, 1, 13, 9, 6, 6, 12, 17, 1, 7, 8, 12, 17, 12, 1, 3, 4, 5, 6, 7, 8, 9, 11, 13, 20, 2, 7, 8, 9, 11, 12, 14, 1, 2, 3, 4, 5, 6, 7, 8, 9, 10, 11, 12, 13, 14, 17, 18, 19, 19, 4, 5, 8, 20, 5, 8, 9, 10, 15, 18, 5, 9, 17, 18, 15, 19, 5, 7, 8, 9, 12, 13, 14, 16, 19, 8, 1, 2, 3, 4, 5, 6, 9, 10, 12, 13, 14, 15, 17, 1, 6, 3, 5, 13, 14, 2, 4, 5, 7, 8, 9, 10, 11, 12, 15, 17, 18, 4, 19, 1, 3, 5, 7, 8, 10, 11, 13, 14, 16, 18, 19, 20, 4, 8, 18, 15, 1, 2, 4, 5, 7, 8, 13, 15, 16, 19, 2, 4, 3, 7, 18, 2, 3, 4, 5, 6, 8, 9, 11, 12, 15, 16, 17, 18, 1, 2, 3, 4, 5, 6, 8, 9, 10, 11, 12, 13, 14, 15, 16, 17, 18, 20, 1, 2, 3, 4, 5, 7, 8, 9, 10, 11, 14, 15, 16, 17, 18, 19, 20, 16, 16, 9, 11, 11, 1, 3, 4, 11, 13, 14, 16, 10, 16, 10, 4, 1, 3, 8, 10, 11, 18, 20, 2, 9, 2, 3, 4, 8, 4, 2, 3, 17, 8, 10, 8, 1, 3, 5, 18, 16, 16, 1, 1, 3, 14, 15, 2, 3, 5, 7, 10, 11, 13, 16, 17, 19, 1, 7, 13, 19, 1, 2, 3, 4, 5, 7, 8, 10, 11, 13, 16, 17, 18, 19, 20, 3, 8, 9, 1, 2, 3, 4, 5, 7, 8, 9, 10, 11, 12, 13, 14, 15, 16, 17, 18, 19, 15, 11, 1, 2, 3, 4, 5, 6, 7, 8, 9, 10, 11, 12, 13, 14, 15, 16, 17, 18, 19, 20, 1, 5, 8, 9, 10, 11, 15, 20, 6, 11, 1, 3, 4, 5, 7, 8, 11, 20, 17, 19, 20, 10, 15, 3, 18, 3, 4, 13, 3, 9, 10, 14, 12, 3, 7, 12, 10, 11, 19, 1, 2, 4, 5, 7, 8, 9, 10, 11, 12, 14, 15, 16, 17, 18, 19, 1, 12, 1, 2, 6, 10, 11, 16, 19, 20, 5, 10, 14, 1, 4, 19, 4, 7, 11, 15, 17, 19, 13, 10, 15, 1, 8, 1, 2, 3, 4, 5, 6, 7, 8, 9, 10, 11, 12, 13, 14, 15, 16, 17, 18, 19, 20, 2, 3, 6, 14, 2, 13, 15, 15, 18, 1, 4, 6, 8, 9, 12, 16, 18, 19, 1, 3, 4, 5, 7, 8, 9, 10, 12, 13, 14, 15, 16, 17, 18, 19, 20, 5, 3, 16, 1, 2, 3, 4, 5, 7, 8, 9, 10, 12, 15, 16, 17, 18, 19, 1, 8, 1, 2, 11, 16, 1, 2, 4, 14, 11, 2, 7, 11, 17, 18, 3, 1, 4, 14, 2, 7, 13, 18, 19, 14, 15, 9, 3, 4, 5, 6, 7, 8, 9, 13, 15, 17, 18, 19, 20, 3, 4, 12, 12, 2, 1, 5, 7, 8, 10, 11, 12, 14, 18, 19, 20, 11, 3, 3, 4, 1, 2, 5, 6, 11, 6, 6, 15, 5, 7, 1, 5, 7, 8, 11, 8, 2, 3, 4, 6, 9, 12, 17, 2, 3, 6, 13, 17, 1, 2, 3, 4, 5, 7, 8, 10, 11, 12, 14, 15, 16, 18, 20, 4, 12, 3, 12, 20, 1, 4, 12, 3, 2, 3, 4, 6, 7, 10, 13, 14, 15, 16, 17, 18, 19, 18, 10, 8, 16, 20, 19, 7, 3, 6, 3, 3, 6, 1, 10, 15, 7, 17, 1, 17, 15, 16, 19, 1, 2, 4, 6, 8, 9, 11, 12, 14, 15, 16, 18, 4, 13, 8, 10, 8, 20, 1, 2, 3, 8, 14, 4, 3, 4, 5, 6, 7, 8, 11, 12, 16, 17, 18, 19, 1, 2, 3, 4, 5, 8, 9, 11, 13, 14, 16, 17, 18, 19, 13, 14, 1, 2, 3, 4, 5, 6, 7, 8, 9, 10, 11, 12, 13, 14, 15, 16, 17, 18, 19, 20, 1, 2, 3, 4, 5, 6, 7, 8, 9, 10, 11, 12, 13, 14, 15, 16, 17, 18, 19, 20, 7, 1, 8, 2, 3, 6, 13, 14, 20, 12, 9, 10, 16, 2, 3, 10, 14, 2, 3, 19, 4, 14, 14, 9, 19, 17, 2, 2, 7, 10, 17, 18, 15, 4, 10, 18, 19, 8, 12, 3, 6, 8, 10, 18, 20, 3, 10, 15, 20, 15, 1, 2, 3, 4, 5, 6, 7, 8, 9, 10, 11, 12, 13, 14, 15, 16, 17, 18, 19, 20, 8, 6, 5, 6, 7, 18, 4, 18, 20, 1, 5, 12, 1, 2, 3, 4, 5, 6, 7, 8, 9, 10, 11, 12, 13, 14, 15, 16, 17, 18, 19, 20, 1, 2, 3, 4, 5, 6, 7, 8, 9, 10, 11, 12, 14, 15, 16, 18, 19, 15, 4, 1, 2, 4, 12, 13, 2, 7, 10, 11, 12, 16, 7, 11, 9, 15, 16, 9, 16, 20, 9, 10, 16, 10, 16, 6, 2, 3, 12, 1, 5, 7, 8, 10, 11, 12, 19, 2, 18, 6, 12, 16, 19, 10, 19, 1, 2, 3, 4, 6, 7, 8, 9, 11, 12, 13, 16, 17, 18, 19, 2, 20, 3, 7, 9, 10, 12, 15, 18, 16, 14, 3, 11, 19, 13, 19, 14, 4, 13, 14, 19, 1, 2, 3, 4, 5, 8, 9, 10, 11, 12, 14, 17, 18, 19, 1, 2, 3, 4, 5, 6, 7, 8, 9, 10, 11, 12, 14, 15, 17, 18, 20, 3, 2, 5, 8, 10, 15, 1, 3, 4, 5, 6, 7, 8, 10, 12, 13, 16, 17, 18, 20, 1, 2, 4, 6, 7, 8, 9, 11, 12, 13, 9, 16, 6, 14, 18, 18, 18, 13, 18, 12, 18, 1, 2, 3, 4, 5, 7, 8, 11, 12, 15, 17, 18, 20, 9, 1, 8, 11, 19, 1, 5, 1, 2, 3, 4, 9, 10, 12, 14, 16, 17, 3, 5, 7, 8, 9, 11, 12, 14, 15, 16, 19, 3, 7, 17, 2, 17, 5, 2, 3, 4, 9, 13, 17, 18, 1, 2, 3, 4, 6, 7, 8, 10, 11, 13, 17, 18, 19, 20, 1, 7, 8, 9, 10, 11, 14, 19, 1, 2, 3, 7, 8, 19, 3, 4, 17, 16, 14, 3, 11, 9, 3, 9, 16, 6, 17, 13, 14, 15, 6, 2, 10, 12, 15, 16, 17, 18, 1, 3, 4, 7, 9, 10, 12, 15, 16, 1, 2, 3, 5, 6, 7, 8, 10, 11, 12, 16, 17, 20, 2, 3, 1, 2, 3, 4, 5, 8, 11, 12, 13, 14, 15, 16, 18, 20, 2, 8, 10, 11, 13, 15, 16, 17, 18, 19, 20, 6, 19, 8, 17, 5, 1, 2, 3, 4, 5, 6, 7, 8, 9, 10, 11, 12, 14, 15, 16, 18, 19, 9, 10, 6, 12, 13, 2, 3, 4, 5, 8, 9, 11, 12, 15, 16, 17, 18, 20, 6, 2, 4, 2, 3, 4, 6, 7, 9, 12, 13, 16, 18, 19, 20, 1, 5, 8, 13, 16, 20, 2, 8, 18, 6, 17, 18, 17, 4, 9, 18, 16, 1, 2, 7, 8, 9, 10, 16, 10, 1, 15, 16, 10, 18, 1, 8, 12, 10, 1, 3, 6, 7, 9, 12, 10, 11, 2, 11, 1, 18, 20, 1, 5, 7, 8, 20, 1, 5, 8, 12, 1, 14, 2, 3, 4, 6, 7, 9, 10, 11, 12, 15, 17, 18, 16, 7, 4, 7, 4, 7, 13, 17, 18, 18, 7, 1, 5, 7, 8, 11, 19, 20, 3, 20, 3, 4, 13, 3, 2, 3, 4, 6, 9, 12, 14, 15, 16, 18, 1, 2, 3, 4, 5, 6, 8, 9, 10, 11, 12, 14, 15, 16, 17, 18, 9, 12, 13, 2, 3, 4, 5, 6, 7, 8, 9, 10, 12, 14, 15, 16, 18, 20, 1, 2, 3, 4, 5, 7, 8, 9, 10, 11, 14, 19, 4, 17, 2, 1, 2, 3, 4, 5, 6, 7, 8, 9, 10, 11, 12, 13, 14, 15, 16, 17, 18, 19, 20, 1, 2, 3, 4, 5, 6, 7, 8, 9, 11, 15, 17, 19, 1, 2, 3, 4, 6, 7, 8, 9, 10, 11, 12, 13, 14, 15, 16, 17, 18, 19, 20, 4, 18, 13, 2, 10, 11, 17, 2, 9, 1, 13, 13, 5, 11, 9, 11, 1, 9, 16, 2, 3, 4, 5, 8, 9, 11, 14, 18, 19, 20, 1, 2, 3, 4, 5, 6, 7, 8, 10, 12, 13, 14, 16, 19, 20, 20, 1, 2, 3, 4, 10, 12, 14, 16, 17, 18, 19, 12, 14, 18, 19, 20, 14, 1, 3, 4, 5, 11, 14, 15, 16, 18, 19, 20, 4, 14, 1, 2, 3, 4, 5, 7, 8, 9, 10, 11, 12, 13, 14, 15, 16, 17, 18, 19, 20, 10, 20, 4, 13, 7, 15, 5, 9, 14, 16, 18, 2, 9, 10, 8, 3, 5, 6, 9, 4, 9, 18, 1, 2, 3, 4, 5, 6, 7, 9, 11, 12, 14, 15, 16, 18, 19, 20, 8, 3, 4, 6, 13, 18, 20, 15, 7, 6, 6, 17, 1, 2, 6, 15, 15, 14, 4, 5, 6, 9, 11, 12, 13, 15, 17, 18, 19, 1, 4, 5, 7, 9, 11, 12, 13, 14, 17, 18, 19, 9, 9, 12, 18, 20, 20, 2, 12, 17, 13, 20, 4, 17, 1, 2, 3, 4, 5, 6, 9, 10, 12, 16, 17, 18, 2, 7, 9, 11, 12, 13, 16, 1, 3, 5, 8, 10, 11, 18, 19, 2, 8, 1, 3, 4, 5, 7, 10, 19, 20, 4, 5, 6, 7, 9, 10, 11, 12, 16, 18, 2, 3, 5, 6, 8, 14, 20, 1, 16, 1, 2, 3, 4, 5, 6, 7, 9, 10, 11, 12, 14, 15, 16, 17, 18, 1, 13, 14, 19, 20, 6, 2, 3, 4, 5, 6, 8, 15, 18, 20, 1, 3, 4, 8, 9, 12, 13, 14, 18, 19, 20, 14, 18, 2, 10, 15, 16, 18, 1, 2, 3, 4, 5, 6, 7, 8, 9, 10, 11, 12, 13, 14, 15, 17, 18, 20, 14, 1, 2, 3, 7, 9, 11, 16, 17, 18, 20, 7, 9, 16, 18, 10, 10, 16, 2, 8, 10, 15, 16, 18, 13, 17, 18, 17, 2, 3, 4, 7, 8, 9, 10, 11, 12, 13, 14, 15, 16, 18, 15, 2, 1, 2, 3, 4, 5, 6, 7, 9, 12, 16, 17, 19, 20, 1, 2, 4, 6, 7, 8, 10, 17, 19, 1, 2, 3, 4, 5, 6, 7, 9, 10, 11, 12, 14, 15, 16, 17, 18, 20, 1, 2, 3, 4, 5, 6, 7, 8, 9, 10, 11, 12, 13, 14, 15, 16, 17, 18, 19, 20, 2, 5, 1, 2, 3, 4, 5, 6, 7, 8, 9, 10, 11, 12, 13, 14, 15, 16, 17, 18, 19, 5, 8, 5, 14, 10, 1, 2, 3, 4, 5, 7, 10, 11, 13, 14, 17, 20, 1, 4, 5, 12, 14, 18, 8, 19, 8, 3, 5, 15], \"Freq\": [0.01758679747581482, 0.0003839912242256105, 0.0002303947403561324, 0.469390869140625, 0.01182692963629961, 0.007295833434909582, 0.07065438479185104, 0.1627354770898819, 0.0003071929677389562, 0.16880254447460175, 0.04031907767057419, 0.025036228820681572, 0.02542021870613098, 0.08498148620128632, 0.17115430533885956, 0.1501074880361557, 0.026407798752188683, 0.011317627504467964, 0.022039590403437614, 0.5339140295982361, 0.00019855487335007638, 0.06001868098974228, 0.00021589454263448715, 0.13817250728607178, 0.012521883472800255, 0.09520949423313141, 0.013817250728607178, 0.0031304708682000637, 0.04404248669743538, 0.4731328785419464, 0.11086184531450272, 0.04879216477274895, 0.4321829080581665, 0.11263272911310196, 0.06160648912191391, 0.18321233987808228, 0.12803435325622559, 0.08209734410047531, 0.9979952573776245, 0.1638025939464569, 0.7047666311264038, 0.13086403906345367, 0.7631815075874329, 0.2363554835319519, 0.038436468690633774, 0.04131266474723816, 0.22695818543434143, 0.000522945134434849, 0.6040016412734985, 0.08863919973373413, 0.998998761177063, 0.9992067217826843, 0.8355356454849243, 0.012680979445576668, 0.15123242139816284, 0.024141807109117508, 0.02235952578485012, 0.023655729368329048, 0.6396768689155579, 0.21225346624851227, 0.06691654771566391, 0.011017736978828907, 0.0039860764518380165, 0.39670953154563904, 0.19038261473178864, 0.000474532920634374, 9.490658703725785e-05, 0.0658651664853096, 0.0024675712920725346, 0.01186332292854786, 9.490658703725785e-05, 0.15896852314472198, 0.011768416501581669, 0.05808283016085625, 0.09917738288640976, 0.44752293825149536, 0.47568562626838684, 0.007920759730041027, 0.004253741353750229, 0.01892181485891342, 0.021562067791819572, 0.021855428814888, 0.0020535301882773638, 0.0458737351000309, 0.7998307943344116, 0.10136615484952927, 0.052532825618982315, 0.9987926483154297, 0.9986894130706787, 0.2503950595855713, 0.14775565266609192, 0.5030459761619568, 0.04624413326382637, 0.00428604194894433, 0.03248368576169014, 0.015565099194645882, 0.9978687167167664, 0.002017934573814273, 0.9986553192138672, 0.009866180829703808, 0.00018615435692481697, 0.09828949719667435, 0.06943557411432266, 0.4921921193599701, 0.06124478206038475, 0.017684662714600563, 0.11448492854833603, 0.02978469617664814, 0.002792315324768424, 0.07874329388141632, 0.025503145530819893, 0.9988905787467957, 0.04506048187613487, 0.5311439633369446, 0.12430477142333984, 0.01165357232093811, 0.28771376609802246, 0.00014666200149804354, 0.007333099842071533, 0.14856860041618347, 0.19858033955097198, 0.01583949476480484, 0.05367828905582428, 0.1523818075656891, 0.3417224586009979, 0.0527983196079731, 0.004253197927027941, 0.02463921532034874, 0.9987332224845886, 0.9990791082382202, 0.9994609355926514, 0.999060332775116, 0.9994387030601501, 0.9987446069717407, 0.9983304738998413, 0.9995222687721252, 0.9988611340522766, 0.9993210434913635, 0.14002260565757751, 0.8598082661628723, 0.0006116221775300801, 0.9991868138313293, 0.9990052580833435, 0.8935364484786987, 0.10575027763843536, 0.09512912482023239, 0.0703144520521164, 0.02965112030506134, 0.07340233772993088, 0.045834604650735855, 0.09877506643533707, 0.0820707306265831, 0.04397443309426308, 0.03262739256024361, 0.05733045935630798, 0.04181663691997528, 0.02630281262099743, 0.07730869203805923, 0.023996202275156975, 0.02083391137421131, 0.016778739169239998, 0.08341005444526672, 0.01082619372755289, 0.04687630012631416, 0.02276849001646042, 0.07590435445308685, 0.30000293254852295, 0.4442540407180786, 0.08066891133785248, 0.0026287222281098366, 0.09644124656915665, 0.0005759785417467356, 0.9083181619644165, 0.012095549143850803, 0.07890906184911728, 0.07537048310041428, 0.8558898568153381, 0.06812332570552826, 0.9990070462226868, 0.22747883200645447, 0.7722480297088623, 0.9979233145713806, 0.9985177516937256, 0.0006517739966511726, 0.9975840449333191, 0.9994113445281982, 0.16889815032482147, 0.09350202232599258, 0.2329443395137787, 0.5045325756072998, 0.5988322496414185, 0.07771303504705429, 0.014035130850970745, 0.03950629383325577, 0.03430809825658798, 0.011436032131314278, 0.1549062579870224, 0.06913601607084274, 0.9988822340965271, 0.14364047348499298, 0.8475806713104248, 0.008149813860654831, 0.9991457462310791, 0.9990977048873901, 0.9979978203773499, 0.48934274911880493, 0.00983603484928608, 0.05184410139918327, 0.15532737970352173, 0.1852453202009201, 0.025614675134420395, 0.0327867828309536, 0.0048155589029192924, 0.03709004819393158, 0.007991778664290905, 0.9993293881416321, 0.18453194200992584, 0.7224017381668091, 0.09296269714832306, 0.999061107635498, 0.5005350112915039, 0.01302376575767994, 0.448263943195343, 0.03801531717181206, 0.982707679271698, 0.01703554578125477, 0.3728068172931671, 0.05134735256433487, 0.007365114521235228, 0.5450184941291809, 0.023450246080756187, 0.020658448338508606, 0.9790629148483276, 0.999267041683197, 0.006522082723677158, 0.9724425077438354, 0.02021845616400242, 0.07572362571954727, 0.1562255322933197, 0.04945657029747963, 0.15490272641181946, 0.053667936474084854, 0.08806076645851135, 0.04764784127473831, 0.040790870785713196, 0.04586610943078995, 0.024809272959828377, 0.05898613855242729, 0.03145027533173561, 0.0022676594089716673, 0.019545063376426697, 0.00769384391605854, 0.017034441232681274, 0.051724229007959366, 0.032476119697093964, 0.012202166952192783, 0.029452575370669365, 0.023576298728585243, 0.5146430134773254, 0.0911192074418068, 0.05692295357584953, 0.07115369290113449, 0.035895444452762604, 0.008071165531873703, 0.0012743945699185133, 0.04481620714068413, 0.05331217125058174, 0.04970138520002365, 0.022939100861549377, 0.02654988504946232, 0.999047040939331, 0.004292433150112629, 0.9954867959022522, 0.26754865050315857, 0.02549005299806595, 0.0407550111413002, 0.6433088779449463, 0.0014538053655996919, 0.00523369899019599, 0.005185239017009735, 0.004652176983654499, 0.0063482834957540035, 0.9991179704666138, 0.01586468704044819, 0.983955442905426, 0.9997902512550354, 0.999582052230835, 0.005977593827992678, 0.05448149889707565, 0.04782075062394142, 0.090347059071064, 0.1958942860364914, 0.031595852226018906, 0.4910166263580322, 0.008880996145308018, 0.07241427898406982, 0.0015370955225080252, 0.9974868893623352, 0.998585045337677, 0.998293399810791, 0.998562216758728, 0.3095410168170929, 0.632115364074707, 0.05818440392613411, 0.9987359046936035, 0.02754552848637104, 0.0006886381888762116, 0.1380719542503357, 0.4338420629501343, 0.2468767911195755, 0.007230700924992561, 0.017215954139828682, 0.008435817435383797, 0.03219383582472801, 0.0005164786707609892, 0.07712747901678085, 0.005681265145540237, 0.003959669731557369, 0.000860797765199095, 0.9677246809005737, 0.03223932534456253, 0.94846111536026, 0.05104866996407509, 0.9995941519737244, 0.9990732073783875, 0.9986051917076111, 0.34564363956451416, 0.12462469935417175, 0.03038625232875347, 0.0006159375770948827, 0.012626719661056995, 0.08017454296350479, 0.0027717191260308027, 0.00010265626042382792, 0.0005132813239470124, 0.06744516640901566, 0.10368282347917557, 0.05913000553846359, 0.17246252298355103, 0.9992432594299316, 0.13199715316295624, 0.01104999054223299, 0.07493902742862701, 0.06830903142690659, 0.10427172482013702, 0.003616360481828451, 0.6055395007133484, 0.07574335485696793, 0.13289938867092133, 0.23094753921031952, 0.06761140376329422, 0.4925641715526581, 0.9983236789703369, 0.001257334602996707, 0.003164029913023114, 0.46454739570617676, 0.007910074666142464, 0.011300107464194298, 0.056161534041166306, 0.008362079039216042, 0.0014690139796584845, 0.0891578420996666, 0.35787439346313477, 0.02488566003739834, 0.9746037125587463, 0.9993045926094055, 0.9994952082633972, 0.9996858239173889, 0.39487898349761963, 0.053672872483730316, 0.008547436445951462, 0.015649350360035896, 0.06655687093734741, 0.22644421458244324, 0.0580722875893116, 0.13977572321891785, 0.03645230084657669, 0.9997878670692444, 0.999568521976471, 0.0009203446679748595, 0.9958129525184631, 0.0027610340621322393, 0.9977741837501526, 0.020522959530353546, 0.9792383313179016, 0.9551054835319519, 0.043896619230508804, 0.9988832473754883, 0.9997091293334961, 0.9986726641654968, 0.06095882132649422, 0.19415734708309174, 0.014994468539953232, 0.2748051583766937, 0.03720590099692345, 0.053811922669410706, 0.0011911493493244052, 0.22253473103046417, 0.03265150636434555, 0.0007006761152297258, 0.010440073907375336, 0.0485568530857563, 0.00014013522013556212, 0.005815611686557531, 0.0024523662868887186, 0.03944806382060051, 7.006761006778106e-05, 0.9998699426651001, 0.9997327327728271, 0.9999226927757263, 0.9993974566459656, 0.8477766513824463, 0.1519986242055893, 0.9997142553329468, 0.03797462582588196, 0.9619561433792114, 0.9740459322929382, 0.02587439864873886, 0.9995720982551575, 0.8468277454376221, 0.15243889391422272, 0.9997819662094116, 0.9997496008872986, 0.9989391565322876, 0.00901842676103115, 0.5848102569580078, 0.08255328983068466, 0.03792363777756691, 0.00023124170547816902, 0.00023124170547816902, 0.102671317756176, 0.001156208454631269, 0.01549319364130497, 0.05179814249277115, 0.08671563863754272, 0.0069372509606182575, 0.011099602095782757, 0.009480909444391727, 0.999132513999939, 0.9989588260650635, 0.9441509246826172, 0.05555115267634392, 0.9996040463447571, 0.03471321985125542, 0.05415617302060127, 0.10298550873994827, 0.08025766909122467, 0.3505946397781372, 0.15199241042137146, 0.02343808114528656, 0.12065284699201584, 0.0011541479034349322, 0.0187327079474926, 0.03497955948114395, 0.026279060170054436, 0.048116330057382584, 0.006792893633246422, 0.13302750885486603, 0.8117508292198181, 0.9989359378814697, 0.9989843964576721, 0.9988462924957275, 0.9997255802154541, 0.039440982043743134, 0.003708126489073038, 0.004213780164718628, 0.06118408963084221, 0.0025282681453973055, 0.31687626242637634, 0.03033921681344509, 0.09523143619298935, 0.3824426829814911, 0.06388090550899506, 0.0007091014413163066, 0.17550259828567505, 0.8172394037246704, 0.006381913088262081, 0.023414408788084984, 0.9763808250427246, 0.9997002482414246, 0.9991045594215393, 0.004276016727089882, 0.994886577129364, 0.9995261430740356, 0.9982884526252747, 0.9984646439552307, 0.9989177584648132, 0.0020219148136675358, 0.9968040585517883, 0.0925658717751503, 0.9070020318031311, 0.9982779622077942, 0.9989220499992371, 0.9996793866157532, 0.0007398680900223553, 0.9988219141960144, 0.9991121888160706, 0.9998660087585449, 0.9596605896949768, 0.007714313454926014, 0.032400116324424744, 0.9569450616836548, 0.04298429563641548, 0.9986684322357178, 0.9992485046386719, 0.0054560089483857155, 0.23857639729976654, 0.21154434978961945, 0.5441128611564636, 0.01821509562432766, 0.02534274198114872, 0.0005939705297350883, 0.955698549747467, 0.9993013739585876, 0.001160506741143763, 0.9968752861022949, 0.021593626588582993, 0.9773957133293152, 0.9991534352302551, 0.9988046884536743, 0.20087100565433502, 0.01727922633290291, 0.781453013420105, 0.47672078013420105, 0.49919331073760986, 0.0044608404859900475, 0.0005050008185207844, 0.019021697342395782, 0.0011564022861421108, 0.9979751706123352, 0.9998894929885864, 0.9991329312324524, 0.9968834519386292, 0.9987353682518005, 0.10631308704614639, 0.015282506123185158, 0.2067568004131317, 0.07840590178966522, 0.1862693876028061, 0.4068690240383148, 0.9988510012626648, 0.9993986487388611, 0.9992729425430298, 0.9977986216545105, 0.9996835589408875, 0.9996475577354431, 0.962693452835083, 0.03645629808306694, 0.9978874325752258, 0.20144416391849518, 0.017087377607822418, 0.150315523147583, 0.003737863851711154, 0.11707523465156555, 0.24322813749313354, 0.04111650213599205, 0.04458737373352051, 0.09998785704374313, 0.041383493691682816, 0.03978155180811882, 0.017727119848132133, 0.19918234646320343, 0.33637484908103943, 0.03501381352543831, 0.01277233473956585, 0.020810097455978394, 0.020589884370565414, 0.029178177937865257, 0.051749974489212036, 0.006826592609286308, 0.0441526398062706, 0.014534035697579384, 0.0685962438583374, 0.09744410216808319, 0.008478187955915928, 0.000440425326814875, 0.035784557461738586, 0.00011010633170371875, 0.9980379343032837, 0.9962683320045471, 0.00303185754455626, 0.9993651509284973, 0.17542637884616852, 0.8245039582252502, 0.9998720288276672, 0.9983834624290466, 0.1531154364347458, 0.030564308166503906, 0.07699854671955109, 0.26773157715797424, 0.030270421877503395, 0.06538999080657959, 0.06480221450328827, 0.3110800087451935, 0.9989648461341858, 0.0013423615600913763, 0.9312633872032166, 0.0671180784702301, 0.9984246492385864, 0.171141117811203, 0.6892646551132202, 0.1393459141254425, 0.33214688301086426, 0.09328097105026245, 0.03797868266701698, 0.4319797456264496, 0.10449690371751785, 0.13063737750053406, 0.6967861652374268, 0.005610194522887468, 0.16686320304870605, 0.9077816009521484, 0.05164213478565216, 0.039198245853185654, 0.0012443887535482645, 0.9985273480415344, 0.020033009350299835, 0.008528108708560467, 0.0030572465620934963, 0.2198803871870041, 0.1046704649925232, 0.05824859067797661, 0.007079939357936382, 0.2547973692417145, 0.006919031497091055, 0.05728314444422722, 0.25954413414001465, 0.999707043170929, 0.9996369481086731, 0.9998156428337097, 0.9992033243179321, 0.32960644364356995, 0.16152793169021606, 0.11056115478277206, 0.00015977045404724777, 0.027001207694411278, 0.0370667465031147, 0.04058169573545456, 0.2645798623561859, 0.02923799306154251, 0.9992094039916992, 0.9992709755897522, 0.9979093670845032, 0.9986860156059265, 0.9993916153907776, 0.9998447895050049, 0.9988780617713928, 0.988633394241333, 0.009858167730271816, 0.9992603063583374, 0.9997135996818542, 0.9993584156036377, 0.9996986389160156, 0.9996985197067261, 0.9997414946556091, 0.9993312358856201, 0.0005882211844436824, 0.036273639649152756, 0.22979840636253357, 0.35763847827911377, 0.054410457611083984, 0.07019439339637756, 0.10029170662164688, 0.012450681068003178, 0.1265655905008316, 0.011568349786102772, 0.12249653786420822, 0.7263270616531372, 0.08105719089508057, 0.06967274844646454, 0.9992026090621948, 0.9994592070579529, 0.018636198714375496, 0.006044172681868076, 0.20701290667057037, 0.09393651783466339, 0.6741771101951599, 0.11641323566436768, 0.8832491636276245, 0.9985798001289368, 0.12790001928806305, 0.00035234165261499584, 0.06095510721206665, 0.13635621964931488, 0.6743819117546082, 0.9991355538368225, 0.27120113372802734, 0.06773926317691803, 0.000793342711403966, 0.10264633595943451, 0.009214980527758598, 0.045098479837179184, 0.008787795901298523, 0.05602220073342323, 0.00018307908612769097, 0.10783357918262482, 0.11106798052787781, 0.0006712899776175618, 0.218657448887825, 0.9028658270835876, 0.026789875701069832, 0.07002967596054077, 0.035359516739845276, 0.0813925713300705, 0.3428668975830078, 0.21182867884635925, 0.01116616278886795, 0.07148534059524536, 0.04991931840777397, 0.08500515669584274, 0.1041080504655838, 0.00010947218834189698, 5.473609417094849e-05, 0.0046525681391358376, 0.0020252354443073273, 0.9990959167480469, 0.0008292309357784688, 0.9983940720558167, 0.998482346534729, 0.0032096270006150007, 0.22931000590324402, 0.0506407804787159, 0.13640914857387543, 0.08701655268669128, 0.014086696319282055, 0.4793042838573456, 0.9987576007843018, 0.9955691695213318, 0.004308657720685005, 0.04369634762406349, 0.027906909584999084, 0.29963207244873047, 0.04443074017763138, 0.015789436176419258, 0.0005507942987605929, 0.0001835980947362259, 0.03635242208838463, 0.02809050865471363, 0.0326804593205452, 0.003121167654171586, 0.46744075417518616, 0.9995140433311462, 0.13120271265506744, 0.7776964902877808, 0.017819160595536232, 0.0019527847180142999, 0.0025630297604948282, 0.03270914405584335, 0.0006102452171035111, 0.014889983460307121, 0.006224500946700573, 0.00024409808975178748, 0.012082855217158794, 0.0018307355931028724, 0.9996755719184875, 0.0002700366312637925, 0.8031597137451172, 0.1964249312877655, 0.9995748400688171, 0.0021263365633785725, 0.9972518682479858, 0.604246973991394, 0.15427014231681824, 0.024062933400273323, 0.21710112690925598, 0.007292655296623707, 0.12737838923931122, 0.004294563550502062, 0.4023115038871765, 0.029008563607931137, 0.00024308852152898908, 0.33959466218948364, 8.102950232569128e-05, 0.0529932975769043, 0.03686842322349548, 0.10294055193662643, 0.8774752020835876, 0.019223839044570923, 0.06099804863333702, 0.8963737487792969, 0.04240108281373978, 0.9992409944534302, 0.9994879961013794, 0.1653127372264862, 0.2026854157447815, 0.6296069025993347, 0.0019095530733466148, 0.9992599487304688, 0.9967248439788818, 0.9968365430831909, 0.9991666078567505, 0.9990618824958801, 0.9978811144828796, 0.9995942711830139, 0.8899096846580505, 0.10931508243083954, 0.2479371577501297, 0.7516987919807434, 0.9991368055343628, 0.9991644620895386, 0.974786102771759, 0.02380051091313362, 0.9993067383766174, 0.9987205266952515, 0.9892773628234863, 0.009613968431949615, 0.8351219296455383, 0.1646297723054886, 0.1565699726343155, 0.08222362399101257, 0.017930151894688606, 0.14659211039543152, 0.0055891056545078754, 0.11058177053928375, 0.04467533528804779, 0.06249295175075531, 0.03372218832373619, 0.012903707101941109, 0.037998415529727936, 0.04970178008079529, 0.03229677677154541, 0.034472402185201645, 0.08128584921360016, 0.02333170361816883, 0.015829548239707947, 0.0027007758617401123, 0.04902658611536026, 0.24692368507385254, 0.012284399010241032, 0.03598093241453171, 0.1271326243877411, 0.11477553844451904, 0.03452715650200844, 0.16013331711292267, 0.03263724967837334, 0.013520107604563236, 0.042450230568647385, 0.02522299624979496, 0.15410014986991882, 0.30676397681236267, 0.003769311821088195, 0.6213565468788147, 0.0678476095199585, 0.9996420741081238, 0.19157524406909943, 0.7647560238838196, 0.04325892776250839, 0.9990100264549255, 0.6141971945762634, 0.17479000985622406, 0.16700716316699982, 0.04410286247730255, 0.9983968138694763, 0.9984561800956726, 0.9993566870689392, 0.09566227346658707, 0.9038255214691162, 0.9994089007377625, 0.09639422595500946, 0.0010830812389031053, 0.9018971920013428, 0.00046417766134254634, 0.21819519996643066, 0.780759334564209, 0.9986730217933655, 0.9995918869972229, 0.9992342591285706, 0.9956323504447937, 0.0032378288451582193, 0.9996230602264404, 0.010915666818618774, 0.9878678917884827, 0.05296352878212929, 0.6472008228302002, 0.027493806555867195, 0.0005060209659859538, 0.0040481677278876305, 0.03491544723510742, 0.16867366433143616, 0.0639273151755333, 0.013147703371942043, 0.20297957956790924, 0.014195708557963371, 0.24013613164424896, 0.07312218844890594, 0.03534636273980141, 0.03791873902082443, 0.03691836819052696, 0.21965238451957703, 0.00019054641597904265, 0.02734341099858284, 0.016244081780314445, 0.00019054641597904265, 0.010527689941227436, 0.02029319480061531, 0.0028105597011744976, 0.04887515679001808, 0.021539000794291496, 0.004364111460745335, 0.006053444463759661, 0.03941778093576431, 0.9284294843673706, 0.07782556861639023, 0.0431322418153286, 0.07970088720321655, 0.7979465126991272, 0.012488596141338348, 0.01968541368842125, 0.01756870374083519, 0.5027189254760742, 0.06159629672765732, 0.022013796493411064, 0.36343932151794434, 0.000211671125725843, 0.14721904695034027, 0.11320030689239502, 0.3215022683143616, 0.011646811850368977, 0.15316814184188843, 0.0005027400911785662, 0.10591057687997818, 0.0016758001875132322, 0.06460209935903549, 0.08052220195531845, 0.9985646605491638, 0.9985387921333313, 0.998569905757904, 0.9992818832397461, 0.998939037322998, 0.9989033341407776, 0.9992610812187195, 0.9997621178627014, 0.998873770236969, 0.9990202188491821, 0.03241175040602684, 0.9168177247047424, 0.05059394985437393, 0.9997127056121826, 0.9987913966178894, 0.9991986751556396, 0.9983227849006653, 0.9987404346466064, 0.9991407990455627, 0.015058608725667, 0.04351937770843506, 0.37420642375946045, 0.021383224055171013, 0.0126492315903306, 0.010691612027585506, 0.0682154968380928, 0.00316230789758265, 0.024394946172833443, 0.40492600202560425, 0.02153380960226059, 0.9991891384124756, 0.9995290040969849, 0.04474441334605217, 0.955089807510376, 0.9992822408676147, 0.9994786381721497, 0.42959341406822205, 0.0719204992055893, 0.34995460510253906, 0.14822639524936676, 0.007499148603528738, 0.35476741194725037, 0.00403800280764699, 0.23478102684020996, 0.39832016825675964, 0.010701989755034447, 0.08716943114995956, 0.0006904509500600398, 0.8832593560218811, 0.018124336376786232, 0.1484881490468979, 0.8513320088386536, 0.9725214838981628, 0.0271341260522604, 0.9989627599716187, 0.011811009608209133, 0.27519652247428894, 0.04399600997567177, 0.014468487352132797, 0.6543299555778503, 0.9985924363136292, 0.9672636389732361, 0.031002039089798927, 0.013208113610744476, 0.9855284690856934, 0.9995098114013672, 0.9995574951171875, 0.9991347789764404, 0.9992875456809998, 0.10096029937267303, 0.8986491560935974, 0.9990176558494568, 0.999885082244873, 0.9875204563140869, 0.012324398383498192, 0.9983948469161987, 0.11636385321617126, 0.8825902342796326, 0.9977218508720398, 0.0012991169933229685, 0.9989486932754517, 0.9939393401145935, 0.0054562087170779705, 0.7528132200241089, 0.03234357386827469, 0.21386364102363586, 0.0009901095181703568, 0.9986313581466675, 0.9998940825462341, 0.9985693097114563, 0.0429961159825325, 0.16214197874069214, 0.2362196147441864, 0.3238954246044159, 0.00025901274057105184, 0.007381862960755825, 0.054392676800489426, 0.0005180254811421037, 0.04493870958685875, 0.12445562332868576, 0.002719633746892214, 0.3470718562602997, 0.005770790856331587, 0.646878182888031, 0.9995834231376648, 0.9986072182655334, 0.9978980422019958, 0.17164506018161774, 0.006687470246106386, 0.8203296661376953, 0.8904923796653748, 0.10870315879583359, 0.9989656805992126, 0.9989957213401794, 0.998893678188324, 0.0046204812824726105, 0.9756916165351868, 0.013861443847417831, 0.0046204812824726105, 0.000988596468232572, 0.2527717649936676, 0.16107943654060364, 0.13760027289390564, 0.07074643671512604, 0.009577028453350067, 0.01872154511511326, 0.004201534669846296, 0.02564172074198723, 0.017176862806081772, 0.01390213705599308, 0.00636408943682909, 0.10318475216627121, 0.07816090434789658, 0.08044703304767609, 0.002471491228789091, 0.016867926344275475, 0.898334801197052, 0.06496885418891907, 0.01283335406333208, 0.02326045371592045, 0.014764252118766308, 0.7794182896614075, 0.018388204276561737, 0.18267406523227692, 0.00483193714171648, 0.06981902569532394, 0.06649430841207504, 0.5667361617088318, 0.11431906372308731, 0.10281043499708176, 0.07928168028593063, 0.9977043867111206, 0.9932395219802856, 0.006212060805410147, 0.9993984699249268, 0.9979327917098999, 0.8882824182510376, 0.11082955449819565, 0.9986544251441956, 0.9991986155509949, 0.9990596175193787, 0.9985453486442566, 0.0007336845737881958, 0.85731041431427, 0.08253951370716095, 0.05906160920858383, 0.9990701079368591, 0.011419441550970078, 0.012880068272352219, 0.2597258985042572, 0.013543989509344101, 0.18085208535194397, 0.12893345952033997, 0.0014606262557208538, 0.3451061546802521, 0.04594333469867706, 0.006469012703746557, 0.0017520241672173142, 0.4803241789340973, 0.16940726339817047, 0.029784411191940308, 0.00013477109314408153, 0.00013477109314408153, 0.0060646990314126015, 0.003773590549826622, 0.002560650696977973, 0.1853102594614029, 0.03531002625823021, 0.04582217335700989, 0.03328846022486687, 0.998600959777832, 0.2574249804019928, 0.0017022959655150771, 0.08095363527536392, 0.010592063888907433, 0.6192574501037598, 0.029695607721805573, 0.9029017090797424, 0.09683802723884583, 0.0810316950082779, 0.012962517328560352, 0.014239612966775894, 0.5428293943405151, 0.03690805658698082, 0.0012770952889695764, 0.001851788256317377, 0.05306331068277359, 0.02905391901731491, 0.09073762595653534, 0.04093090444803238, 0.006066202651709318, 0.03320447728037834, 0.032374367117881775, 0.023498553782701492, 0.9986706972122192, 0.00015005795285105705, 0.0004501738294493407, 0.04966918006539345, 0.06422480195760727, 0.039015065878629684, 0.24099306762218475, 0.010504055768251419, 0.5900278687477112, 0.004951912444084883, 0.9990499019622803, 0.1591709852218628, 0.22046096622943878, 0.6202179789543152, 0.07276836037635803, 0.08670272678136826, 0.09057338535785675, 0.0505765937268734, 0.6990407705307007, 0.9811750650405884, 0.01689738966524601, 0.17876268923282623, 0.8208624720573425, 0.9982272386550903, 0.0068513466976583, 0.49529528617858887, 0.4978645443916321, 0.999206006526947, 0.9997942447662354, 0.9988338351249695, 0.9994496703147888, 0.9993875622749329, 0.1667160838842392, 0.00025727791944518685, 0.1507648527622223, 0.04656730219721794, 0.5660114288330078, 0.028815126046538353, 0.0010291116777807474, 0.010805672034621239, 0.0030873350333422422, 0.02572779171168804, 0.6757027506828308, 0.05606750026345253, 0.01812196895480156, 0.12200424075126648, 0.01718609221279621, 0.1107737272977829, 0.7525873780250549, 0.2472808063030243, 0.9990466833114624, 0.010009354911744595, 0.7838669419288635, 0.20601342618465424, 0.004098115488886833, 0.23480984568595886, 0.09324227273464203, 0.12059009075164795, 0.039074111729860306, 0.0568055622279644, 0.00495019881054759, 0.05907778441905975, 0.06788264214992523, 0.05664325878024101, 0.016960516571998596, 0.07185903191566467, 0.038343753665685654, 0.01769087463617325, 0.013471032492816448, 0.07904087752103806, 0.01769087463617325, 0.007749901618808508, 0.9997461438179016, 0.009247477166354656, 0.1081780344247818, 0.0029661718290299177, 0.02547418139874935, 0.38769611716270447, 0.11498278379440308, 0.01989080011844635, 0.10050088167190552, 0.00017448069411329925, 0.05443797633051872, 0.02006527967751026, 0.024252817034721375, 0.009770919568836689, 0.0010468842228874564, 0.121613048017025, 0.9983143210411072, 0.9981122016906738, 0.9989175796508789, 0.9999443292617798, 0.9980306625366211, 0.9990211129188538, 0.023928754031658173, 0.0058492510579526424, 0.008153500966727734, 0.4369213283061981, 0.0012407501926645637, 0.28289103507995605, 0.0069127511233091354, 0.22652553021907806, 0.0003545000508893281, 0.007267251145094633, 0.0257873572409153, 0.4385654032230377, 0.21044647693634033, 0.3249567747116089, 0.046008892357349396, 0.42338821291923523, 0.5305649638175964, 0.4831721782684326, 0.0005752905854023993, 0.15748579800128937, 0.0004314679536037147, 0.17035792768001556, 0.052207622677087784, 0.02761394903063774, 0.056306567043066025, 0.05177615210413933, 0.381775826215744, 0.0477798692882061, 0.0008490768377669156, 0.0027016079984605312, 0.2115745097398758, 0.0028559856582432985, 0.11439380794763565, 0.020840976387262344, 0.036741871386766434, 0.005480404943227768, 0.16703656315803528, 0.00038594400393776596, 0.007564502768218517, 0.08261749148368835, 0.047515757381916046, 0.011557887308299541, 0.0021403494756668806, 0.011129816994071007, 0.8445819020271301, 0.9984355568885803, 0.9988915920257568, 0.016467658802866936, 0.9642728567123413, 0.01890731044113636, 0.09692070633172989, 0.9028505086898804, 0.9991567134857178, 0.2836727201938629, 0.14063774049282074, 0.013424511067569256, 0.008949674665927887, 0.413762629032135, 0.0001598156086402014, 0.06504495441913605, 0.017419902607798576, 0.05657472833991051, 0.005145406816154718, 7.566774729639292e-05, 0.05856683850288391, 0.1980224996805191, 0.13461293280124664, 0.02489469014108181, 0.2449365109205246, 0.04048224538564682, 0.27535495162010193, 0.017857588827610016, 0.9967833161354065, 0.9987242817878723, 0.8419699668884277, 0.015565013512969017, 0.1420307457447052, 0.42397069931030273, 0.0008462488767690957, 0.033567871898412704, 0.0662894919514656, 0.009026654995977879, 0.46600106358528137, 0.05448642745614052, 0.944909393787384, 0.9988393187522888, 0.998582124710083, 0.9989277720451355, 0.0016645368887111545, 0.9953930377960205, 0.004780994262546301, 0.9932515621185303, 0.005787585396319628, 0.05038167163729668, 0.09096896648406982, 0.057430654764175415, 0.0008903977577574551, 0.039251700043678284, 0.03850970417261124, 0.2472337782382965, 0.013207566924393177, 0.18995152413845062, 0.03821290284395218, 0.010387973859906197, 0.0989825502038002, 0.055501461029052734, 0.06336663663387299, 0.999582827091217, 0.14284509420394897, 0.8564803004264832, 0.012987688183784485, 0.15254521369934082, 0.015032047405838966, 0.12115830183029175, 0.6588847041130066, 0.000481025519547984, 0.027238069102168083, 0.011664868332445621, 0.9993628263473511, 0.0950356274843216, 0.8770017623901367, 0.02746276557445526, 0.004673642106354237, 0.9949015974998474, 0.9989235401153564, 0.019573906436562538, 0.013208407908678055, 0.02832646667957306, 0.009866521693766117, 0.9250659942626953, 0.0038192986976355314, 0.9996302723884583, 0.16657237708568573, 0.04413847625255585, 0.10274557769298553, 0.14322111010551453, 0.030127715319395065, 0.061720605939626694, 0.2792994976043701, 0.014010760933160782, 0.10320344567298889, 0.0003662944072857499, 0.0010073096491396427, 0.0004578680091071874, 0.010622537694871426, 0.04258172586560249, 0.99817955493927, 0.0016745817847549915, 0.9988250136375427, 0.9997302293777466, 0.9984971880912781, 0.0005100435228087008, 0.1270008385181427, 0.8502424955368042, 0.02193186990916729, 0.9990879893302917, 0.9992150068283081, 0.1459597945213318, 0.0015833491925150156, 0.12933462858200073, 0.015208485536277294, 0.07995913177728653, 0.1075010746717453, 0.35621190071105957, 0.008000080473721027, 0.06316729635000229, 0.030208636075258255, 0.0629172995686531, 0.9988145232200623, 0.9984405636787415, 0.9984371066093445, 0.03272812068462372, 0.7553209066390991, 0.007722365669906139, 0.05037924274802208, 0.03640543669462204, 0.1173064112663269, 0.02088460884988308, 0.9790704250335693, 0.9991938471794128, 0.3579042851924896, 0.00030174883431755006, 9.05246488400735e-05, 0.1423349231481552, 0.06774261593818665, 0.15129686892032623, 6.0349768318701535e-05, 0.19900335371494293, 0.002655389718711376, 0.041611164808273315, 0.01397097110748291, 0.006306550465524197, 0.01092330738902092, 0.005763402674347162, 0.9988769292831421, 0.9987350106239319, 0.004205519333481789, 0.9953062534332275, 0.9982717037200928, 0.999432384967804, 0.7958312630653381, 0.20382782816886902, 0.13278478384017944, 0.8670598268508911, 0.9995276927947998, 0.9963663816452026, 0.003450192743912339, 0.9998878836631775, 0.9983041286468506, 0.9984599947929382, 0.9987870454788208, 0.997944712638855, 0.9990657567977905, 0.9995080828666687, 0.9999300241470337, 0.9996598362922668, 0.9991388320922852, 0.9990306496620178, 0.9997372031211853, 0.8799150586128235, 0.020610623061656952, 0.09882529079914093, 0.0789337307214737, 0.006533900275826454, 0.0049531180411577225, 0.08715379983186722, 0.3596806526184082, 0.02508174628019333, 0.4375605285167694, 0.0006861977162770927, 0.05329468846321106, 0.08280118554830551, 0.11585304141044617, 0.0005718314205296338, 0.024588750675320625, 0.07902710139751434, 0.03533918038010597, 0.04311608895659447, 0.455520898103714, 0.0983550027012825, 0.010750430636107922, 0.13690315186977386, 0.10053036361932755, 0.007072487846016884, 0.05885320156812668, 0.016165686771273613, 0.6802217960357666, 0.00045967893674969673, 0.9993420243263245, 0.9990494251251221, 0.9987678527832031, 0.14127585291862488, 0.8586671352386475, 0.9988871812820435, 0.009201157838106155, 0.10203061252832413, 0.02290065959095955, 0.8659311532974243, 0.9988681674003601, 0.9987888932228088, 0.9995896816253662, 0.025715233758091927, 0.49467384815216064, 0.0047068060375750065, 0.13339777290821075, 0.004821606446057558, 0.04649405926465988, 0.04018005356192589, 0.007117609493434429, 0.004362405743449926, 0.17265942692756653, 0.06578048318624496, 0.9995760917663574, 0.0008267552475444973, 0.9987203478813171, 0.9991440176963806, 0.0696202740073204, 0.19839094579219818, 0.009396052919328213, 0.4062674343585968, 0.0008948621689341962, 0.31534942984580994, 0.4808875024318695, 0.49182260036468506, 0.027144799008965492, 0.06066403165459633, 0.051362212747335434, 0.003639841917902231, 0.5842620134353638, 0.0028309880290180445, 0.0018873254302889109, 0.00013480895722750574, 0.001617707428522408, 0.0014828984858468175, 0.01590745709836483, 0.008358155377209187, 0.00013480895722750574, 0.20019130408763885, 0.0675392895936966, 0.11219440400600433, 0.010289568454027176, 0.14778868854045868, 0.020884012803435326, 0.07431355118751526, 0.07324647903442383, 0.0005335331661626697, 0.000304876099107787, 0.05541123077273369, 0.04405459761619568, 0.46089643239974976, 0.9970701932907104, 0.999801754951477, 0.9997109770774841, 0.9987750053405762, 0.999596893787384, 0.012345615774393082, 0.10217966884374619, 0.7123683094978333, 0.06094006076455116, 0.11216123402118683, 0.9984118938446045, 0.9988806247711182, 0.9979702830314636, 0.9996745586395264, 0.9991973042488098, 0.9990972280502319, 0.11356813460588455, 0.44549497961997986, 0.17838704586029053, 0.013503939844667912, 0.0055366153828799725, 0.0009452758240513504, 0.003105906303972006, 0.06022757291793823, 0.0729212760925293, 0.06819489598274231, 0.003105906303972006, 0.03470512479543686, 0.9986572265625, 0.09017791599035263, 0.8859145045280457, 0.0236577857285738, 0.011517331935465336, 0.0010749510256573558, 0.018888425081968307, 0.0675683468580246, 0.014588620513677597, 0.19164840877056122, 0.038698237389326096, 0.11978024989366531, 0.0867639034986496, 0.44932952523231506, 0.9983395934104919, 0.9986633062362671, 0.999730110168457, 0.9987415075302124, 0.9984925985336304, 0.9994656443595886, 0.15668296813964844, 0.0427522286772728, 0.3490116000175476, 0.016920406371355057, 0.08460203558206558, 0.07050169259309769, 0.028200678527355194, 0.09227261692285538, 0.00011280271428404376, 0.0324871800839901, 0.001466435263864696, 0.02177092246711254, 0.071855328977108, 0.02774946764111519, 0.002030448755249381, 0.001466435263864696, 0.8510613441467285, 0.03273312747478485, 0.11165633797645569, 0.0043644169345498085, 0.03776886314153671, 0.9621458053588867, 0.999451220035553, 0.07075785100460052, 0.0016338402638211846, 0.09162073582410812, 0.07377417385578156, 0.23502163589000702, 0.004273120779544115, 0.08005817234516144, 0.04222848638892174, 0.4004165232181549, 0.9941800236701965, 0.0051473816856741905, 0.5572672486305237, 0.11294418573379517, 0.11284065991640091, 0.20880697667598724, 0.003519800491631031, 0.004555035848170519, 0.012887848541140556, 0.8284022808074951, 0.13013146817684174, 0.02846066653728485, 0.999377429485321, 0.9999040365219116, 0.19838006794452667, 0.371839314699173, 0.25787851214408875, 0.17184978723526, 0.31181490421295166, 0.08090332895517349, 0.3508619964122772, 0.25638115406036377, 0.998157262802124, 0.9992607831954956, 0.5246484875679016, 0.16343246400356293, 0.016322659328579903, 0.1615207940340042, 0.13402226567268372, 0.01434254925698042, 0.09210605919361115, 0.0714886486530304, 0.1597849726676941, 0.5604799389839172, 0.00022410233214031905, 0.10129425674676895, 0.38077312707901, 0.3906824290752411, 0.000113033784145955, 0.20666342973709106, 0.0013187275035306811, 0.020421436056494713, 0.15493443608283997, 0.0214174073189497, 0.15333953499794006, 0.670091450214386, 0.9995520114898682, 0.9995865821838379, 0.9995254278182983, 0.00516406400129199, 0.25045710802078247, 0.055513691157102585, 0.02268499694764614, 0.08428490161895752, 0.34433242678642273, 0.06104661524295807, 0.02268499694764614, 0.001106585143133998, 0.04721430316567421, 0.028402352705597878, 0.0769076719880104, 0.021722333505749702, 0.9782413244247437, 0.9988946318626404, 0.04608835652470589, 0.9401275515556335, 0.00012490070366766304, 0.013614175841212273, 0.6728101372718811, 0.003672257997095585, 0.01862359419465065, 0.001311520696617663, 0.0721336379647255, 0.12564368546009064, 0.09888865798711777, 0.0028853456024080515, 0.0039345622062683105, 0.999220609664917, 0.9982931017875671, 0.9993793964385986, 0.9856158494949341, 0.014239310286939144, 0.02923588640987873, 8.701156912138686e-05, 0.0001740231382427737, 0.0385461263358593, 0.0021752892062067986, 0.10371778905391693, 0.010789434425532818, 0.8152983784675598, 0.14411991834640503, 0.8540440201759338, 0.0013344436883926392, 0.04562234878540039, 0.054801348596811295, 0.12132636457681656, 0.016540374606847763, 0.6166287660598755, 0.0003635247121565044, 0.042805034667253494, 0.00045440587564371526, 0.10133250802755356, 0.3101944625377655, 0.6895374655723572, 0.9437437057495117, 0.05554545298218727, 0.8663848638534546, 0.13314154744148254, 0.999947726726532, 0.9977853298187256, 0.0018981331959366798, 0.9997037649154663, 0.0016848299419507384, 0.9979809522628784, 0.029163381084799767, 0.0005986617761664093, 0.9449448585510254, 0.012315327301621437, 0.012913989834487438, 0.9987801909446716, 0.9991832375526428, 0.9989290833473206, 0.9996470212936401, 0.9994599223136902, 0.9991839528083801, 0.9994223117828369, 0.9991240501403809, 0.08478286862373352, 0.9150028228759766, 0.9986802935600281, 0.3647178113460541, 0.15217866003513336, 0.48304349184036255, 0.0024449799675494432, 0.06217234581708908, 0.8756520748138428, 0.019559839740395546, 0.03213402256369591, 0.001746414229273796, 0.0062870909459888935, 0.4108031988143921, 0.00012414723460096866, 0.05276257544755936, 0.07225368916988373, 0.16226044297218323, 0.05834920331835747, 0.12005037814378738, 0.023215534165501595, 0.08752380311489105, 0.012538870796561241, 0.002169128740206361, 0.16578340530395508, 0.8317058682441711, 0.9999586343765259, 0.07564961165189743, 0.07438350468873978, 0.695090115070343, 0.05729112774133682, 0.01171144563704729, 0.08546189963817596, 0.9029560089111328, 0.04201509431004524, 0.054791614413261414, 0.9988885521888733, 0.9989898800849915, 0.9993605017662048, 0.19794122874736786, 0.00986676849424839, 0.09191673994064331, 0.23740831017494202, 0.0013848096132278442, 0.02501312457025051, 0.042323242872953415, 0.21438583731651306, 0.020252840593457222, 0.1046396791934967, 8.655060082674026e-05, 0.02994650788605213, 0.024753471836447716, 0.0877428725361824, 0.06914835423231125, 0.09720615297555923, 0.0980362668633461, 0.2985084056854248, 0.027559729292988777, 0.015606111846864223, 0.04017743468284607, 0.0029884043615311384, 0.09670808911323547, 0.011787595227360725, 8.301123307319358e-05, 0.08251316845417023, 0.020337751135230064, 0.023160133510828018, 0.028306830674409866, 0.9998907446861267, 0.9998557567596436, 0.9995279312133789, 0.9993653893470764, 0.4734776020050049, 0.025934478268027306, 0.4351999759674072, 0.06518291682004929, 0.9981135129928589, 0.9995018243789673, 0.0018902679439634085, 0.9700855016708374, 0.027597911655902863, 0.0015982583863660693, 0.3455434739589691, 0.6377050876617432, 0.014703976921737194, 0.9986013174057007, 0.15944291651248932, 0.17012768983840942, 0.052987731993198395, 0.13179334998130798, 0.07854395359754562, 0.020192032679915428, 0.09254318475723267, 0.02088981308043003, 0.07701756060123444, 0.043611302971839905, 0.021936485543847084, 0.04378574714064598, 0.003968628589063883, 0.054208848625421524, 0.008853094652295113, 0.0024858443066477776, 0.01652868278324604, 0.00013083391240797937, 0.0009594486327841878, 0.017369739711284637, 0.09779918938875198, 0.005664045922458172, 0.10535125434398651, 0.09845999628305435, 0.2188209742307663, 0.0477667860686779, 0.22127538919448853, 0.052203621715307236, 0.018030544742941856, 0.02520500309765339, 0.0348338820040226, 0.00018880152492783964, 0.0034928282257169485, 0.011139290407299995, 0.03162425383925438, 0.010761686600744724, 0.052133314311504364, 0.021466659381985664, 0.7200530767440796, 0.002862221095710993, 0.19544881582260132, 0.007973330095410347, 0.01506875455379486, 0.2055574655532837, 0.018344569951295853, 0.006387841422110796, 0.00032758162706159055, 0.7124900221824646, 0.04193044826388359, 0.06512302905321121, 0.006782340817153454, 0.005714749917387962, 0.012497090734541416, 0.3650532066822052, 0.00012559890456032008, 0.3171372413635254, 0.21590451896190643, 0.0021351813338696957, 0.009545516222715378, 0.2988792955875397, 0.6370576024055481, 0.06411943584680557, 0.018827451393008232, 0.981009304523468, 0.3032818138599396, 0.08309090882539749, 0.07327107340097427, 0.2433241754770279, 0.05476446449756622, 0.0005665289354510605, 0.21631963551044464, 0.00018884298333432525, 0.0092533053830266, 0.0005665289354510605, 0.015485123731195927, 0.9997209310531616, 0.9994513392448425, 0.11517645418643951, 0.03675844520330429, 0.021801559254527092, 0.0027885716408491135, 0.018083464354276657, 0.010393766686320305, 0.1687508374452591, 0.020534027367830276, 0.15066736936569214, 0.1035151556134224, 0.014534372836351395, 0.03768796846270561, 0.02247757650911808, 0.009295239113271236, 0.1917354166507721, 0.04918026179075241, 0.008027706295251846, 0.018590478226542473, 0.9993427395820618, 0.9991048574447632, 0.9988244771957397, 0.9986711144447327, 0.9987742304801941, 0.2810663878917694, 0.7187605500221252, 0.0005959488917142153, 0.013110876083374023, 0.9859974384307861, 0.11050362884998322, 6.932473479537293e-05, 0.17580753564834595, 0.2481132298707962, 0.048042044043540955, 0.09740125387907028, 0.015043468214571476, 0.05469721928238869, 0.04443715512752533, 0.010676009580492973, 0.026828672736883163, 0.154732808470726, 6.932473479537293e-05, 0.013518324121832848, 0.8594119548797607, 0.0022380519658327103, 0.13819971680641174, 4.638046812033281e-05, 0.06256724894046783, 0.04447886720299721, 0.1475362628698349, 0.039562538266181946, 0.07374494522809982, 0.034043263643980026, 0.25091832876205444, 0.032188042998313904, 0.03529553487896919, 0.045128192752599716, 0.000695706985425204, 0.06544283777475357, 0.052409928292036057, 0.029683498665690422, 0.08496901392936707, 0.0012058921856805682, 0.9998531341552734, 0.9993802905082703, 0.09942686557769775, 0.0010783824836835265, 0.13199402391910553, 0.07354568690061569, 0.20305941998958588, 0.10503445565700531, 0.04723315313458443, 0.009166250936686993, 0.24285173416137695, 0.02512631192803383, 0.061359964311122894, 0.9984978437423706, 0.0015924088656902313, 0.07311810553073883, 0.8898911476135254, 0.031184673309326172, 0.004113723058253527, 0.05624983832240105, 0.598352313041687, 0.05796739086508751, 0.02640736848115921, 0.18442218005657196, 0.04057717323303223, 0.017175523564219475, 0.018893076106905937, 0.9994761347770691, 0.14949443936347961, 0.05580902099609375, 0.4553546905517578, 0.0787694901227951, 0.00033518931013531983, 0.0011731626000255346, 0.14161749184131622, 0.012569598853588104, 0.10390868782997131, 0.00100556795950979, 0.9995146989822388, 0.9985753297805786, 0.9994689226150513, 0.9856534600257874, 0.01380867138504982, 0.9995027184486389, 0.9992769956588745, 0.9980765581130981, 0.9992069602012634, 0.9995228052139282, 0.9992100596427917, 0.006919473875313997, 0.19506625831127167, 0.16336248815059662, 0.2706143260002136, 0.0005661387694999576, 0.017172876745462418, 0.024532681331038475, 0.031137632206082344, 0.04044746980071068, 0.0006290430901572108, 0.050071831792593, 0.00509524904191494, 0.011826010420918465, 0.03673611581325531, 0.047115325927734375, 0.015726076439023018, 0.03535222262144089, 0.04755565896630287, 0.016468176618218422, 0.03328673914074898, 0.09810829162597656, 0.15837480127811432, 0.6934153437614441, 0.9996336698532104, 0.9986910223960876, 0.9799642562866211, 0.01929907687008381, 0.9992809295654297, 0.9989999532699585, 0.9996606707572937, 0.003913113381713629, 0.995887279510498, 3.363802170497365e-05, 0.0003027422062586993, 0.04568043351173401, 0.14413893222808838, 0.07026983052492142, 0.016146250069141388, 0.33624568581581116, 0.03158610314130783, 0.00723217474296689, 0.17680144309997559, 0.00016819010488688946, 0.0658968836069107, 0.00481023732572794, 0.10067860037088394, 0.9997662305831909, 0.22925333678722382, 0.7705615758895874, 0.9996856451034546, 0.9994335174560547, 0.04026839882135391, 0.8008215427398682, 0.1588003784418106, 0.9142350554466248, 0.08555486798286438, 0.08784043043851852, 0.09080550819635391, 0.021496813744306564, 0.2337469607591629, 6.177245086291805e-05, 0.08580193668603897, 0.022917579859495163, 0.0658494383096695, 0.06226663291454315, 0.11674994230270386, 0.04707061126828194, 0.03527207300066948, 0.0025944430381059647, 0.0028415329288691282, 0.008215736597776413, 0.04157286137342453, 0.045402754098176956, 0.004324072040617466, 0.025264933705329895, 0.0007562742684967816, 0.9990383386611938, 0.9995215535163879, 0.780992329120636, 0.2182093858718872, 0.9988303780555725, 0.08460117131471634, 0.418735146522522, 0.43541133403778076, 0.05958688631653786, 0.0016269456828013062, 0.998284637928009, 0.02585551142692566, 0.006050189957022667, 0.30980074405670166, 0.010704182088375092, 0.05548593029379845, 5.1711023843381554e-05, 0.14292927086353302, 0.00020684409537352622, 0.043178703635931015, 0.03278478980064392, 0.04245474934577942, 0.08413383364677429, 0.04716045409440994, 0.03361216560006142, 0.046901900321245193, 0.010549048893153667, 0.10823117196559906, 0.999803900718689, 0.12412858754396439, 0.87075275182724, 0.004940441343933344, 0.00391358183696866, 0.3945191204547882, 0.3409331738948822, 0.01881529577076435, 0.07435805350542068, 0.0036125369369983673, 0.07435805350542068, 0.010687088593840599, 0.04771559312939644, 0.01881529577076435, 0.012192311696708202, 0.9988530874252319, 0.999711275100708, 0.9985837936401367, 0.9981350302696228, 0.9164461493492126, 0.08287379890680313, 0.9997571706771851, 0.9983441233634949, 0.9993225336074829, 0.014371655881404877, 0.10191807895898819, 0.058693401515483856, 0.47207048535346985, 0.16840070486068726, 0.1845276653766632, 0.9986353516578674, 0.9990408420562744, 0.9868587255477905, 0.012666155584156513, 0.37751808762550354, 0.3036801218986511, 0.029311856254935265, 0.07872326672077179, 0.10124222189188004, 0.1094774529337883, 0.590086817741394, 0.13300397992134094, 0.02305631712079048, 0.07045941054821014, 0.18333213031291962, 0.004716989118605852, 0.9947605729103088, 0.06157243996858597, 0.06682195514440536, 0.09810031950473785, 0.009077287279069424, 0.07032163441181183, 0.6058815717697144, 0.004921420477330685, 0.04418342188000679, 0.03904327005147934, 0.08487545698881149, 0.5578948259353638, 0.12880222499370575, 0.2283199429512024, 0.9992238283157349, 0.9993136525154114, 0.9983876943588257, 0.9993030428886414, 0.8537416458129883, 0.0012376056984066963, 0.1447998583316803, 0.9994632601737976, 0.6664903163909912, 0.03806573897600174, 0.2871924042701721, 0.008156944066286087, 0.9988029599189758, 0.21527107059955597, 0.2265959084033966, 0.0386434942483902, 0.009636037983000278, 0.062485236674547195, 0.00019868119852617383, 0.0702337995171547, 0.06109446659684181, 0.020464163273572922, 0.2931540906429291, 0.002185493241995573, 0.027874423190951347, 0.03071875125169754, 0.02351311780512333, 0.015548997558653355, 0.002085841028019786, 0.8823108077049255, 0.017824459820985794, 0.09869862347841263, 0.17858318984508514, 0.07621793448925018, 0.0030655479058623314, 0.04381930083036423, 0.08727795630693436, 0.026027103886008263, 0.0940101370215416, 0.037207335233688354, 0.06335465610027313, 0.18405309319496155, 0.006551857106387615, 0.013043605722486973, 0.029393194243311882, 0.0008415229385718703, 0.05716345086693764, 0.0006010878132656217, 0.999087929725647, 0.9987146258354187, 0.11346578598022461, 0.10579559952020645, 0.7805070281028748, 0.16114908456802368, 0.09700427204370499, 0.05312607064843178, 0.00019676322699524462, 0.6809975504875183, 0.007083476055413485, 0.9986411333084106, 0.9983590245246887, 0.7600693106651306, 0.23972147703170776, 0.03793704882264137, 0.9616043567657471, 0.12629282474517822, 0.48710131645202637, 0.12419013679027557, 0.10651440173387527, 0.020106974989175797, 0.050858817994594574, 0.0832533910870552, 0.001248472253791988, 0.00039425439899787307, 0.9990267753601074, 0.00023527895973529667, 0.11916878819465637, 0.2429255247116089, 0.10516969114542007, 0.0011763947550207376, 0.28880491852760315, 0.08117123693227768, 0.01235214527696371, 0.01246978435665369, 0.0018822316778823733, 0.07893608510494232, 0.0003529184323269874, 0.05529055371880531, 0.9995713829994202, 0.9995592832565308, 0.045727793127298355, 0.944731593132019, 0.009284831583499908, 0.999626636505127, 0.0005630513769574463, 0.11123392730951309, 0.03215648978948593, 0.19744335114955902, 0.023960962891578674, 0.043730322271585464, 0.09765813499689102, 0.015702877193689346, 0.024836821481585503, 0.0798281729221344, 0.012449691072106361, 0.36035287380218506, 0.9994202256202698, 0.9990654587745667, 0.04715067148208618, 0.08686313778162003, 0.15431128442287445, 0.16603592038154602, 0.03756925091147423, 0.011472489684820175, 0.020171409472823143, 0.00012607131793629378, 0.004538567271083593, 0.040468890219926834, 0.042359963059425354, 0.31530436873435974, 0.07349957525730133, 0.02533041499555111, 0.41014453768730164, 0.564208984375, 0.9994691610336304, 0.2620711922645569, 0.0035153746139258146, 0.07663516700267792, 0.011249198578298092, 0.0006151905981823802, 0.15353399515151978, 0.06881345808506012, 0.035593170672655106, 0.2344754934310913, 0.15353399515151978, 0.9994120597839355, 0.9978115558624268, 0.9997702240943909, 0.997682511806488, 0.9986538290977478, 0.09048455208539963, 0.06182704493403435, 0.14243389666080475, 0.027559984475374222, 0.006463182158768177, 0.014511672779917717, 0.464007705450058, 0.03938882797956467, 0.04365696758031845, 0.01060937438160181, 0.0014633620157837868, 0.00024389366444665939, 0.09719162434339523, 0.048309724777936935, 0.11813671141862869, 0.020545514300465584, 0.08003033697605133, 0.0677446722984314, 0.16165710985660553, 0.003262294689193368, 0.00010411578841740265, 0.02870125137269497, 0.00954394694417715, 0.02877066284418106, 0.06371886283159256, 0.07721921056509018, 0.03810637816786766, 0.0055181365460157394, 0.24824674427509308, 0.00013882105122320354, 0.0002082315768348053, 0.04794706031680107, 0.000809369666967541, 0.34563320875167847, 0.14248143136501312, 0.0496305488049984, 0.020363740622997284, 0.06209484115242958, 0.03512664511799812, 0.010295182466506958, 0.037781376391649246, 0.008514569140970707, 0.02952580526471138, 0.0038202248979359865, 0.0014244905905798078, 0.15352123975753784, 0.030108552426099777, 0.020881736651062965, 0.9997336864471436, 0.9994844794273376, 0.999093770980835, 0.9997474551200867, 0.9999108910560608, 0.07782185822725296, 0.43594393134117126, 0.2520013451576233, 0.007923680357635021, 0.04938150942325592, 0.01202701497823, 0.16498234868049622, 0.9988600611686707, 0.9993725419044495, 0.99920254945755, 0.9983664155006409, 0.0003878532734233886, 4.8481659177923575e-05, 0.03645820543169975, 0.8188552260398865, 0.10326593369245529, 0.0200229249894619, 0.020944075658917427, 0.0072261374443769455, 0.9910131096839905, 0.998745858669281, 0.08070952445268631, 0.6327295899391174, 0.2864774763584137, 0.9984515905380249, 0.0009436847758479416, 0.9880379438400269, 0.010380532592535019, 0.19064009189605713, 0.8092179894447327, 0.9990695118904114, 0.09460881352424622, 7.812453259248286e-05, 0.8746041655540466, 0.03054669313132763, 0.9989954829216003, 0.9991921186447144, 0.9992116093635559, 0.03489990532398224, 0.9588600397109985, 0.004732190165668726, 0.0011830475414171815, 0.004827003926038742, 0.0011799343628808856, 0.019200749695301056, 0.04548110440373421, 0.03100009262561798, 0.002681668847799301, 0.021775152534246445, 0.06200018525123596, 0.7545143961906433, 0.05717318132519722, 0.04817773774266243, 0.08196090906858444, 0.7279539108276367, 0.1418893188238144, 0.18601244688034058, 0.0028494959697127342, 0.014280613511800766, 0.04426658898591995, 0.035817503929138184, 0.08850004523992538, 0.15450233221054077, 0.18468710780143738, 0.09800940752029419, 0.0035121694672852755, 0.017196377739310265, 0.011364850215613842, 0.00019880205218214542, 0.03382948040962219, 0.12498021870851517, 0.9390756487846375, 0.0606984905898571, 0.9987566471099854, 0.0033599131274968386, 0.015057388693094254, 0.005475413985550404, 0.02575933374464512, 0.052576418966054916, 0.06638939678668976, 0.08175788819789886, 0.2258608341217041, 0.08586444705724716, 0.009270871989428997, 0.0003111030673608184, 0.045669931918382645, 0.023021627217531204, 0.2147233486175537, 0.02600821666419506, 0.049278728663921356, 0.06265615671873093, 0.006844267714768648, 0.9992057681083679, 0.9995541572570801, 0.06239509582519531, 0.06458189338445663, 0.08775721490383148, 0.07496919482946396, 0.03691412881016731, 0.04461546614766121, 0.054337214678525925, 0.044211383908987045, 0.07584866881370544, 0.04021809622645378, 0.024791652336716652, 0.027881694957613945, 0.003993286285549402, 0.1053466945886612, 0.002709729829803109, 0.060018140822649, 0.06650722771883011, 0.06952596455812454, 0.0530061200261116, 0.00035654340172186494, 0.31548184156417847, 0.1992809921503067, 0.11522671580314636, 0.001113301608711481, 0.08335845917463303, 0.007932273671030998, 0.2741505205631256, 0.003200742183253169, 0.9833658337593079, 0.01596187986433506, 0.3144613802433014, 0.11119668930768967, 0.001966500887647271, 0.19218076765537262, 0.0008938640239648521, 0.08169917017221451, 0.02359800972044468, 0.2740586996078491, 0.9985762238502502, 0.999722421169281, 0.9989997148513794, 0.9992855191230774, 0.9995298981666565, 0.023559333756566048, 0.9749076962471008, 0.052177876234054565, 0.8561915159225464, 0.09131128340959549, 0.012220067903399467, 0.0692470520734787, 0.9178628325462341, 0.9992805123329163, 0.9994843602180481, 0.9996175765991211, 0.252876877784729, 0.7467609643936157, 0.02726650983095169, 0.02889436110854149, 0.9436111450195312, 0.14798884093761444, 0.12601739168167114, 0.03017093613743782, 0.0005572468508034945, 0.03932570666074753, 0.08716932684183121, 0.08931870758533478, 0.0651978850364685, 0.0780145600438118, 0.0585109181702137, 0.06440181285142899, 0.022051053121685982, 0.009393589571118355, 0.16820894181728363, 0.00023882008099462837, 0.013373924419283867, 0.13810455799102783, 0.8617028594017029, 0.026793602854013443, 0.18993207812309265, 0.031115151941776276, 0.7387688159942627, 0.0030250842683017254, 0.0010803872719407082, 0.008210943080484867, 0.0006482323515228927, 0.0374210961163044, 0.0008315799059346318, 0.9615835547447205, 0.8456209301948547, 0.003461294574663043, 0.1506994515657425, 0.7438023686408997, 0.009446874260902405, 0.0058348337188363075, 0.03750964626669884, 0.1825469434261322, 0.020560843870043755, 0.9997701644897461, 0.133353129029274, 0.86653071641922, 0.9068034291267395, 0.09289927035570145, 0.10151251405477524, 0.0027758495416492224, 0.20496514439582825, 0.015670116990804672, 0.06972455978393555, 0.021221816539764404, 0.04139895737171173, 0.0032534149941056967, 0.07596275955438614, 0.09127470850944519, 0.03489213064312935, 0.07915648072957993, 0.0011939137475565076, 0.04390617832541466, 0.005790481809526682, 0.10354217141866684, 0.01653570495545864, 0.04387633129954338, 0.04286150261759758, 0.0004775655106641352, 0.041126083582639694, 0.12660382688045502, 0.8297792673110962, 0.0020159846171736717, 0.9994714856147766, 0.00032534878118894994, 0.9981492757797241, 0.9993833899497986, 0.9994621872901917, 0.020774606615304947, 0.1304069310426712, 0.15303274989128113, 0.003496716031804681, 0.0016455133445560932, 0.5199822187423706, 0.13760605454444885, 0.031059065833687782, 0.0020568917971104383, 0.024761991575360298, 0.2399214655160904, 0.0861114114522934, 0.03571441024541855, 0.02896835468709469, 0.15071481466293335, 0.06468276679515839, 0.006349228322505951, 0.07055579870939255, 0.00015873070515226573, 0.049444615840911865, 0.0061904978938400745, 0.07000024616718292, 0.033492181450128555, 0.12380995601415634, 0.008253997191786766, 0.0008730189292691648, 0.9992791414260864, 0.975896954536438, 0.023658107966184616, 0.1977710872888565, 0.004057747311890125, 0.10991203039884567, 0.0028227807488292456, 0.025405026972293854, 0.0232879426330328, 0.07727362215518951, 0.027874961495399475, 0.031050588935613632, 0.08891759812831879, 0.011996818706393242, 0.06333614140748978, 0.03422621637582779, 0.3020375370979309, 0.9989611506462097, 0.9972236156463623, 0.002304387278854847, 0.8371165990829468, 0.044806502759456635, 0.11775366961956024, 0.9988178610801697, 0.06761987507343292, 0.04389360547065735, 0.8185564279556274, 0.06939934939146042, 0.9996735453605652, 0.20514649152755737, 0.04592191427946091, 0.0015021186554804444, 0.7057812213897705, 0.04141555726528168, 0.9981124401092529, 0.9991334676742554, 0.9993762373924255, 0.9993892908096313, 0.004903289955109358, 0.26506370306015015, 0.4551478922367096, 0.10758635401725769, 0.16724304854869843, 0.10653078556060791, 0.8933634161949158, 0.9976105690002441, 0.3809109628200531, 0.11930032074451447, 0.11197228729724884, 0.007840991951525211, 0.16011744737625122, 0.028212914243340492, 0.011211885139346123, 0.0033708936534821987, 7.328029460040852e-05, 0.005862423684448004, 0.1206926479935646, 0.031217405572533607, 0.019199436530470848, 0.9993534684181213, 0.0022271459456533194, 0.9970190525054932, 0.9991731643676758, 0.9988634586334229, 0.15623252093791962, 0.4617682993412018, 0.0010162967955693603, 0.005358655471354723, 0.01912485621869564, 0.257400244474411, 0.023097652941942215, 0.005728218238800764, 0.0002771718427538872, 0.06143975630402565, 0.008499936200678349, 0.9993933439254761, 0.9990977048873901, 0.3701708912849426, 0.6294345259666443, 0.06420262157917023, 0.04245319962501526, 0.017357710748910904, 0.8745777010917664, 0.0012547742808237672, 0.999573826789856, 0.9995523691177368, 0.9998102188110352, 0.19454051554203033, 0.8050497770309448, 0.00025528669357299805, 0.35867777466773987, 0.002808153396472335, 0.5720974802970886, 0.0661192536354065, 0.998870313167572, 0.011547801084816456, 0.051842257380485535, 0.006879541091620922, 0.5906577706336975, 0.004668259993195534, 0.0017198852729052305, 0.33242926001548767, 0.21337713301181793, 0.00033815711503848433, 0.006424984894692898, 0.02569993957877159, 0.7537521719932556, 0.011639241129159927, 0.17376458644866943, 0.22073356807231903, 0.019570404663681984, 0.006180127616971731, 0.00803416594862938, 0.007931163534522057, 0.39944225549697876, 0.022145457565784454, 0.0329606831073761, 0.012669261544942856, 0.03337268903851509, 0.00010300213034497574, 0.024823512881994247, 0.026574550196528435, 0.03766455128788948, 0.9604461193084717, 0.9996612071990967, 0.9990875720977783, 0.9982544779777527, 0.014865093864500523, 0.9832198023796082, 0.0010617924854159355, 0.9991267919540405, 0.34522613883018494, 0.15537236630916595, 0.13751347362995148, 0.00013737610424868762, 0.0038465308025479317, 0.013325481675565243, 0.0913551077246666, 0.05069177970290184, 0.019095277413725853, 0.015660874545574188, 0.04794425889849663, 0.11017563194036484, 0.009753703139722347, 0.9993789792060852, 0.9998584985733032, 0.9976361989974976, 0.001431328826583922, 0.9978048801422119, 0.9988946318626404, 0.9996345043182373, 0.9543743133544922, 0.04523584619164467, 0.9987094402313232, 0.9978169202804565, 0.9995864033699036, 0.9985120892524719, 0.9800945520401001, 0.018869318068027496, 0.26892319321632385, 0.7308074831962585, 0.9995781779289246, 0.9996592998504639, 0.9992182850837708, 0.9990560412406921, 0.9990738034248352, 0.019579535350203514, 0.13281787931919098, 0.12938641011714935, 0.0006055526318959892, 0.03108503483235836, 0.47354215383529663, 0.0018166579538956285, 0.04501274600625038, 0.04400349035859108, 0.00020185088214930147, 0.06640893965959549, 0.055508989840745926, 0.09725727140903473, 0.9025679230690002, 0.9991455078125, 0.9989663362503052, 0.8450146913528442, 0.1546172946691513, 0.7724997997283936, 0.01344721857458353, 0.002002777298912406, 0.09928052872419357, 0.11244163662195206, 0.9977520704269409, 0.0018296728376299143, 0.02152043767273426, 0.17904655635356903, 0.13138793408870697, 0.0002613818214740604, 0.18967607617378235, 0.38022342324256897, 0.005401891190558672, 0.0007841454935260117, 8.712727867532521e-05, 0.07780465483665466, 0.011936437338590622, 0.016996512189507484, 0.014447035267949104, 0.01971595361828804, 0.1052933931350708, 0.43281617760658264, 0.08141329139471054, 0.001954598817974329, 0.14226080477237701, 0.09764496237039566, 0.006033761892467737, 0.0001699651184026152, 0.02286030910909176, 0.009178116917610168, 0.04920490086078644, 0.9978308081626892, 0.9994733333587646, 0.0552506297826767, 0.06768988817930222, 0.2321833223104477, 0.03952005133032799, 0.017715049907565117, 0.06647983938455582, 0.0398588627576828, 0.10321678966283798, 0.0035091289319097996, 0.05583145096898079, 0.06996476650238037, 0.00021780800307169557, 0.02901686541736126, 0.00019360710575710982, 0.002226481679826975, 0.006727846805006266, 0.0335182324051857, 0.04058488830924034, 0.024055683985352516, 0.11221951991319656, 0.018295178189873695, 0.022286036983132362, 0.03780106455087662, 0.05192601680755615, 0.01825033687055111, 0.020537232980132103, 0.09797784686088562, 0.16331136226654053, 0.011299962177872658, 0.11021947860717773, 0.04663476720452309, 0.0009416635148227215, 0.01493209321051836, 0.035514168441295624, 0.007488467264920473, 0.08811280131340027, 0.04197128862142563, 0.04067089781165123, 0.056410130113363266, 0.11528652161359787, 0.997868537902832, 0.9996373653411865, 0.999538004398346, 0.7012172937393188, 0.14432066679000854, 0.08995772898197174, 0.00744254607707262, 0.056628067046403885, 0.9994244575500488, 0.9986197352409363, 0.23904788494110107, 0.7574607133865356, 0.0035678790882229805, 0.3210330903530121, 0.14268137514591217, 0.07894686609506607, 0.4568951427936554, 0.9993870258331299, 0.9987502694129944, 0.9989088177680969, 0.22076283395290375, 0.7786717414855957, 0.9994809627532959, 0.9978349208831787, 0.9991255402565002, 0.9985072612762451, 0.9998269081115723, 0.25769737362861633, 0.08440322428941727, 0.05160851404070854, 0.5866800546646118, 0.01950422115623951, 0.9986797571182251, 0.25285011529922485, 0.013619561679661274, 0.07698012888431549, 0.656403660774231, 0.999897301197052, 0.9992941617965698, 0.7222977876663208, 0.15865500271320343, 0.00014397005725186318, 0.023755060508847237, 0.09444435685873032, 0.0007198503008112311, 0.0035301416646689177, 0.19466209411621094, 0.8013421893119812, 0.999056875705719, 0.999494731426239, 0.1753006875514984, 0.05390912666916847, 0.003802367951720953, 0.0077276406809687614, 0.05110536143183708, 0.012367297895252705, 0.06961789727210999, 0.09280849993228912, 0.055852558463811874, 0.06008509173989296, 0.07461858540773392, 0.008027221076190472, 0.09569676220417023, 0.03559630736708641, 0.005323315039277077, 0.09471352398395538, 0.02418920397758484, 0.018958067521452904, 0.04073526710271835, 0.019557230174541473, 0.9993067383766174, 0.9996193051338196, 0.9990106225013733, 0.9993374943733215, 0.9992775321006775, 0.9988545179367065, 0.0007287797052413225, 0.9036868214607239, 0.09547014534473419, 0.09194446355104446, 0.24725916981697083, 0.6606636047363281, 0.06180601567029953, 0.0552879273891449, 0.0028454589191824198, 0.26442915201187134, 0.08906947821378708, 0.03166400268673897, 0.02848767675459385, 0.0178668349981308, 0.0919480249285698, 0.040762852877378464, 0.036229971796274185, 0.06233540177345276, 0.06971374154090881, 0.01823078840970993, 0.03454254940152168, 0.01111714169383049, 0.03232573717832565, 0.030340533703565598, 0.020811554044485092, 0.00019852038531098515, 0.0019962156657129526, 0.13301099836826324, 0.26244983077049255, 0.2875601053237915, 0.11262858659029007, 0.008615246042609215, 0.03456604853272438, 0.02206343598663807, 0.004727879073470831, 0.015129213221371174, 0.0844714418053627, 0.00010506398393772542, 0.0008405118715018034, 0.0158646609634161, 0.0026265995111316442, 0.006303838919848204, 0.007039286661893129, 0.9996311664581299, 0.9990212321281433, 0.03704326972365379, 0.5623214244842529, 0.12125343829393387, 0.064192995429039, 0.21489697694778442, 0.21548698842525482, 0.39817580580711365, 0.061151713132858276, 0.19770854711532593, 0.04613199457526207, 0.08138235658407211, 0.08955838531255722, 0.9101487398147583, 0.9511657953262329, 0.027176164090633392, 0.02056574635207653, 0.06675195693969727, 0.9328858852386475, 0.9996649622917175, 0.04575454443693161, 0.731209397315979, 0.2227296680212021, 0.277337908744812, 0.7221953868865967, 0.9988015294075012, 0.20767679810523987, 0.7919913530349731, 0.9979548454284668, 0.25625860691070557, 0.07302675396203995, 0.17688433825969696, 0.15633045136928558, 0.0015113152330741286, 0.03143535926938057, 0.012755501084029675, 0.29174429178237915, 0.9995613694190979, 0.9994620680809021, 0.43588462471961975, 0.5523470640182495, 0.011430000886321068, 0.999509871006012, 0.9994690418243408, 0.999677836894989, 6.182270590215921e-05, 0.02095789648592472, 0.053229350596666336, 0.07115793228149414, 0.04061751812696457, 0.11208456009626389, 0.038515545427799225, 0.0019165038829669356, 6.182270590215921e-05, 0.17508189380168915, 0.062008172273635864, 0.008655178360641003, 0.00562586635351181, 0.14083212614059448, 0.26929971575737, 0.99886554479599, 0.9995845556259155, 0.09330443292856216, 0.6542117595672607, 0.022335423156619072, 0.09474542737007141, 0.003962736576795578, 0.04539134353399277, 0.08609945327043533, 0.9994292259216309, 0.9987368583679199, 0.9990831613540649, 0.9997001886367798, 0.9988011717796326, 0.636746346950531, 0.3631681799888611, 0.9994012117385864, 0.0002229346428066492, 0.690874457359314, 0.012205671519041061, 0.2967260181903839, 0.10908128321170807, 0.08176958560943604, 0.06480322033166885, 0.23802563548088074, 0.17860198020935059, 0.00637273071333766, 0.0033932721707969904, 0.00016552547458559275, 8.276273729279637e-05, 0.04659542068839073, 0.17164991796016693, 0.00041381368646398187, 0.07721763104200363, 0.021849362179636955, 0.05111691728234291, 0.19328583776950836, 0.003961560782045126, 0.010542863979935646, 0.17590609192848206, 0.030414564535021782, 0.000319480721373111, 0.06881614774465561, 0.00798701774328947, 0.1658743917942047, 0.1654910147190094, 0.008114810101687908, 0.016804685816168785, 0.01035117544233799, 0.013545982539653778, 0.03469560667872429, 0.04274652153253555, 0.9983011484146118, 0.08116410672664642, 0.024349233135581017, 0.24646833539009094, 0.6357855200767517, 0.012174616567790508, 0.004009627737104893, 0.20637308061122894, 0.09803130477666855, 0.0648086741566658, 0.016774972900748253, 0.06300843507051468, 0.03526835888624191, 0.01276534516364336, 0.052534304559230804, 0.0007364622433669865, 0.08583876490592957, 0.0003273165493737906, 0.3463008999824524, 0.013092662207782269, 0.04704323038458824, 0.05449683219194412, 0.3438432514667511, 0.025904323905706406, 0.053030550479888916, 0.09347550570964813, 0.002077233511954546, 0.07025936990976334, 0.005131988786160946, 0.30474236607551575, 0.9997523427009583, 0.9995995163917542, 0.9992515444755554, 0.9998651742935181, 0.9991344213485718, 0.9975675940513611, 0.9981014132499695, 0.9990668296813965, 0.9996875524520874, 0.9988486170768738, 0.9993112683296204, 0.060746677219867706, 0.0010636578081175685, 0.4818369746208191, 0.02741873450577259, 0.05188286304473877, 0.003309157444164157, 0.08367440849542618, 0.047510046511888504, 0.12716619670391083, 0.008154709823429585, 0.058619361370801926, 0.048337336629629135, 0.0003545525833033025, 0.9977700710296631, 0.2734041213989258, 0.20870716869831085, 0.0027193117421120405, 0.5148563385009766, 0.9991759061813354, 0.9999028444290161, 0.031018422916531563, 0.16124752163887024, 0.004707076121121645, 0.109107606112957, 0.5113815665245056, 0.00024138850858435035, 0.011224566027522087, 0.04369132220745087, 0.12709105014801025, 0.00024138850858435035, 0.000310742121655494, 0.022787755355238914, 0.016987236216664314, 0.3958854675292969, 0.00010358070721849799, 0.022787755355238914, 0.1379694938659668, 0.1095883846282959, 0.22673816978931427, 0.040707215666770935, 0.02610233798623085, 0.07271269708871841, 0.23268061876296997, 0.694406270980835, 0.9994462728500366, 0.9998264908790588, 0.9997710585594177, 0.0003038129070773721, 0.029469851404428482, 0.6726417541503906, 0.0012152516283094883, 0.2916603684425354, 0.0009114386630244553, 0.0036457546520978212, 0.04856899008154869, 0.03241147845983505, 0.09366531670093536, 0.10794180631637573, 0.09824729710817337, 0.017652681097388268, 0.14618927240371704, 0.1516394168138504, 0.03762046620249748, 0.00221864297054708, 0.10152703523635864, 0.06617344170808792, 0.010466206818819046, 0.08565890789031982, 0.20660196244716644, 0.030244823545217514, 0.03336870297789574, 0.04671618342399597, 0.5605942010879517, 0.047994133085012436, 0.0492720827460289, 0.025133023038506508, 0.8341622948646545, 0.004897234495729208, 0.015507909469306469, 0.06311991065740585, 0.04380304366350174, 0.038089603185653687, 0.005314148962497711, 0.6780228614807129, 0.3163481652736664, 0.9995631575584412, 0.9985117316246033, 0.9974347352981567, 0.0019435595022514462, 0.9978050589561462, 0.9993210434913635, 0.9999125003814697, 0.9988201856613159, 0.9218835234642029, 0.07774446159601212, 0.7480279207229614, 0.15469788014888763, 0.09683084487915039, 0.9993728995323181, 0.03953694924712181, 0.03036600910127163, 0.0008151948568411171, 0.08111188560724258, 0.00020379871421027929, 0.25209900736808777, 0.595703661441803, 0.025717509910464287, 0.13530653715133667, 0.009730949997901917, 0.18836338818073273, 0.5859422087669373, 0.0002316892787348479, 0.05352022498846054, 0.0004633785574696958, 0.0009267571149393916, 0.31899845600128174, 0.021032076328992844, 0.01610305719077587, 0.26449212431907654, 0.0013399275485426188, 0.05242466554045677, 0.18328294157981873, 0.08286016434431076, 0.02651142328977585, 0.0009331637993454933, 0.005359710194170475, 0.0008374546887353063, 0.02581753209233284, 0.9641126990318298, 0.03525758907198906, 0.16125589609146118, 0.08941982686519623, 0.11307927221059799, 0.060399483889341354, 0.3443842828273773, 0.05403788387775421, 0.020871775224804878, 0.008077090606093407, 0.05739738047122955, 0.017297839745879173, 0.030735831707715988, 0.013152076862752438, 0.000929222849663347, 0.029020344838500023, 0.08270328491926193, 0.0204435084015131, 0.029271386563777924, 0.07410772144794464, 0.0048785642720758915, 0.0034846889320760965, 0.6925238370895386, 0.004181626718491316, 0.06574446707963943, 0.022302009165287018, 0.00023231259547173977, 0.999528169631958, 0.9991636872291565, 0.05437030643224716, 0.9454209804534912, 0.9995768666267395, 0.06594786047935486, 0.408701092004776, 0.0444708950817585, 0.15441061556339264, 0.000718560244422406, 0.08167634904384613, 0.009181602858006954, 0.005349281709641218, 0.004630721639841795, 0.036167532205581665, 0.026746409013867378, 0.005668641999363899, 0.00526944175362587, 0.009021922945976257, 0.0880635529756546, 0.044710416346788406, 0.009341282770037651, 0.9675149917602539, 0.031926605850458145, 0.38929203152656555, 0.5629037022590637, 0.04771966487169266, 0.011180940084159374, 0.28988513350486755, 0.1020260751247406, 0.009204997681081295, 4.819370587938465e-05, 0.09768863767385483, 4.819370587938465e-05, 0.04607318341732025, 0.11388172954320908, 0.03378378599882126, 0.0057350508868694305, 0.28959599137306213, 0.0008192929672077298, 0.999500572681427, 0.0006061932072043419, 0.999006450176239, 0.11534012854099274, 0.0004282430454622954, 0.026836564764380455, 0.03996935114264488, 0.1807185709476471, 0.0002854953636415303, 0.4442307949066162, 0.06851888447999954, 0.0002854953636415303, 0.02755030244588852, 0.059954024851322174, 0.035972416400909424, 0.6976841688156128, 0.2689429521560669, 0.00014513920177705586, 0.022496577352285385, 0.010450023226439953, 0.00014513920177705586, 0.2725708782672882, 0.4755253195762634, 0.25179824233055115, 0.09667307883501053, 0.018529007211327553, 0.8837530612945557, 0.9992424845695496, 0.9993547201156616, 0.9666128754615784, 0.03265583887696266, 0.9995011687278748, 0.2079155594110489, 0.012281931936740875, 0.1582614630460739, 0.1868608146905899, 0.09000901132822037, 0.013685581274330616, 0.33073487877845764, 0.9986963272094727, 0.9986599683761597, 0.9994704127311707, 0.9983604550361633, 0.23851613700389862, 0.7609512209892273, 0.010639825835824013, 0.9841839075088501, 0.004433260764926672, 0.9993813037872314, 0.029290154576301575, 0.11082760989665985, 0.04142841696739197, 0.15120051801204681, 0.5636375546455383, 0.103439100086689, 0.99935382604599, 0.9987053871154785, 0.0012087379582226276, 0.997208833694458, 0.9995496869087219, 0.9978567361831665, 0.9996051788330078, 0.2635461986064911, 0.48937344551086426, 0.012292927131056786, 0.23082402348518372, 0.0038912862073630095, 0.533926784992218, 0.16613665223121643, 0.29988741874694824, 0.9990430474281311, 0.053989436477422714, 0.9453895092010498, 0.005796221550554037, 0.07518040388822556, 0.08745475858449936, 0.007160038687288761, 0.03955068811774254, 0.00017047711298801005, 0.003920973744243383, 0.37198105454444885, 0.006819084286689758, 0.0006819084519520402, 0.3520352244377136, 0.04960883781313896, 0.9987841844558716, 0.9988278746604919, 0.9997661113739014, 0.9993807673454285, 0.696467936038971, 0.015501671470701694, 0.20373626053333282, 0.033217865973711014, 0.050934065133333206, 0.9988002777099609, 0.9994478821754456, 0.730158269405365, 0.09873368591070175, 0.021193260326981544, 0.03069658763706684, 0.030107885599136353, 0.04171371832489967, 0.04743253439664841, 0.78874671459198, 0.21116343140602112, 0.9991079568862915, 0.9992163777351379, 0.9987415075302124, 0.9994118213653564, 0.022689878940582275, 0.11698706448078156, 0.07673083245754242, 0.002561760600656271, 0.3978048264980316, 0.18359284102916718, 0.01158891711384058, 0.009759088046848774, 0.11735302954912186, 0.060872312635183334, 0.019087735563516617, 0.0781688243150711, 0.035221416503190994, 0.22359919548034668, 0.015338359400629997, 0.0453333742916584, 0.014429419301450253, 0.33858007192611694, 0.0026132019702345133, 0.04567422717809677, 0.12066175788640976, 0.017383472993969917, 0.019769441336393356, 0.006248961202800274, 0.006930666044354439, 0.010907277464866638, 0.8820920586585999, 0.10161280632019043, 0.016161082312464714, 0.0011187518248334527, 0.00041953191976062953, 0.020696908235549927, 0.13439005613327026, 0.012306269258260727, 0.03160473704338074, 0.01664143241941929, 0.3999537527561188, 0.0012585957301780581, 0.012446113862097263, 0.12418144941329956, 0.03496099263429642, 0.10040797293186188, 0.10712048411369324, 0.002377347555011511, 0.07914873957633972, 0.3706125319004059, 0.0014443200780078769, 0.15916407108306885, 0.0001444320078007877, 0.004332960583269596, 0.22415848076343536, 0.025708898901939392, 0.03307493031024933, 0.0960472896695137, 0.004044096451252699, 0.002166480291634798, 0.9982098937034607, 0.0007897230098024011, 0.999282717704773, 0.00524728000164032, 0.24159817397594452, 0.06299526989459991, 0.22267447412014008, 0.05294729024171829, 0.04976542666554451, 0.027129555121064186, 0.041782863438129425, 0.021798541769385338, 0.0543428398668766, 8.373318996746093e-05, 0.00011164425814058632, 0.11912441998720169, 0.03561451658606529, 0.001004798337817192, 0.0064195445738732815, 0.04373663663864136, 0.007201054599136114, 2.791106453514658e-05, 0.006475366652011871, 0.05155472457408905, 0.12479341775178909, 0.43334734439849854, 0.20168296992778778, 0.06029469147324562, 0.011505776084959507, 0.06129038333892822, 0.006416682619601488, 0.02732621692121029, 0.00022126492694951594, 0.0005531623028218746, 0.0018807518063113093, 0.01913941651582718, 0.10802080482244492, 0.007334383670240641, 0.03074573539197445, 0.05626939237117767, 0.0006747632869519293, 0.057325541973114014, 0.09860344976186752, 0.1952706277370453, 0.05031387135386467, 0.06771103292703629, 0.03491166606545448, 0.06551071256399155, 0.03156718611717224, 0.008654573000967503, 0.05697349086403847, 0.04189400002360344, 0.00044006301322951913, 0.041952673345804214, 0.045737214386463165, 0.984447181224823, 0.014079002663493156, 0.9996010065078735, 0.12624846398830414, 0.13910403847694397, 0.7344166040420532, 0.998954713344574, 0.9989476203918457, 0.9993606209754944, 0.9991838335990906, 0.9990164041519165, 0.9989930391311646, 0.051630061119794846, 0.9480777978897095, 0.9992846846580505, 0.999404788017273, 0.02160774916410446, 0.032651711255311966, 0.9454590678215027, 0.0021677487529814243, 0.5271242260932922, 0.04498078674077988, 0.013187138363718987, 0.09935515373945236, 0.07587120682001114, 0.0007225829176604748, 0.0007225829176604748, 0.22689104080200195, 0.009212932549417019, 0.0001806457294151187, 0.2591491937637329, 0.050409045070409775, 0.010607308708131313, 0.05060367286205292, 0.24357883632183075, 0.024815263226628304, 0.008952957578003407, 0.07532162219285965, 0.00934221688657999, 0.00038925904664210975, 0.2100052535533905, 0.00982879102230072, 0.014402584172785282, 0.027637392282485962, 0.005060367286205292, 0.9989452958106995, 0.005068415310233831, 0.07034346461296082, 0.00015358834934886545, 0.0058363573625683784, 0.1353113353252411, 0.22254951298236847, 0.13377544283866882, 0.04669085890054703, 0.0033789435401558876, 0.3693799674510956, 0.007218652404844761, 0.2101161926984787, 0.20158874988555908, 0.5733852386474609, 0.006139758974313736, 0.008527442812919617, 0.9990809559822083, 0.026686418801546097, 0.8014464974403381, 0.05764266476035118, 0.06824606657028198, 7.11637840140611e-05, 7.11637840140611e-05, 0.001992585835978389, 0.0013521118089556694, 0.00021349135204218328, 0.03031577169895172, 0.01195551548153162, 0.8802075982093811, 0.11931083351373672, 0.4149980843067169, 0.00017008116992656142, 0.05659450963139534, 0.07872632145881653, 0.30342480540275574, 0.010141090489923954, 0.040160417556762695, 0.003550444496795535, 0.0009992269333451986, 0.0019984538666903973, 0.01824120618402958, 4.2520292481640354e-05, 0.019644375890493393, 0.0009354464709758759, 0.019856978207826614, 0.014286818914115429, 0.00873792078346014, 0.007356010843068361, 0.00014882102550473064, 0.9737942814826965, 0.026099935173988342, 0.16369092464447021, 0.8361387252807617, 0.998451292514801, 0.9994598031044006, 0.2900920510292053, 0.6356402635574341, 0.016671957448124886, 0.04282060265541077, 0.014741519466042519, 0.10028477758169174, 0.8939447402954102, 0.004700848832726479, 0.9982067942619324, 0.7355194091796875, 0.1296905279159546, 0.06445541232824326, 0.06991332769393921, 0.9907760620117188, 0.005107093136757612, 0.002042837208136916, 0.3713970184326172, 0.007771078962832689, 0.04158031940460205, 0.03310277685523033, 0.00010092309821629897, 0.08356432616710663, 0.016652312129735947, 0.09426217526197433, 0.08083940297365189, 0.008982156403362751, 0.09759263694286346, 0.054700322449207306, 0.00020184619643259794, 0.06953601539134979, 0.034313853830099106, 0.005348924547433853, 0.9980311989784241, 0.3288566768169403, 0.21306659281253815, 0.39060425758361816, 0.03082028217613697, 0.01787148229777813, 0.018620586022734642, 0.9994321465492249, 0.9977379441261292, 0.999589741230011, 0.18277636170387268, 0.8168243765830994, 0.010530793108046055, 0.9817039370536804, 0.006435484625399113, 0.0005850440938957036, 0.9992563128471375, 0.9987202286720276, 0.14355027675628662, 0.0016581714153289795, 0.6568728089332581, 0.0004737632698379457, 0.03458471968770027, 0.010422792285680771, 0.0040269880555570126, 0.02913644164800644, 0.007580212317407131, 0.11157125234603882, 0.999907910823822, 0.03564821183681488, 0.24316243827342987, 0.4611065685749054, 0.010690126568078995, 0.004683706443756819, 0.028600968420505524, 0.12116922438144684, 0.016848333179950714, 0.048224832862615585, 0.0033826769795268774, 0.026367533951997757, 0.0001301029697060585, 0.9987702369689941, 0.12144236266613007, 0.31051430106163025, 0.5334010124206543, 0.034178391098976135, 0.999658465385437, 0.9986308217048645, 0.9981393218040466, 0.9996841549873352, 0.998970627784729, 0.997536838054657, 0.9979810118675232, 0.9994788765907288, 0.026048485189676285, 0.05597919598221779, 0.09192109853029251, 0.07200903445482254, 0.00738875288516283, 0.015904603525996208, 0.18121229112148285, 0.012147611007094383, 0.12410600483417511, 0.24695967137813568, 0.0449586845934391, 0.12135087698698044, 0.6978455781936646, 0.09674383699893951, 0.09545391798019409, 0.06269000470638275, 0.04127737134695053, 0.005159671418368816, 0.0002579835709184408, 0.14170685410499573, 0.00968852173537016, 0.2279249131679535, 0.05323793739080429, 0.014875305816531181, 0.014581713825464249, 0.1678365021944046, 0.3700232207775116, 0.998563826084137, 0.9981282353401184, 0.23484940826892853, 0.2731921672821045, 0.030221551656723022, 0.1276760697364807, 0.28557369112968445, 0.009985093958675861, 0.013579728081822395, 0.025029301643371582, 0.029497986659407616, 6.569707329617813e-05, 0.9266572594642639, 0.012745232321321964, 9.8545613582246e-05, 0.011825473047792912, 0.011398442089557648, 0.00722667807713151, 3.2848536648089066e-05, 0.000394182454328984, 0.21564394235610962, 0.020325791090726852, 0.0333469994366169, 0.14736197888851166, 0.020643381401896477, 0.540539026260376, 0.021913742646574974, 0.030014993622899055, 0.9690554738044739, 0.1000964492559433, 0.04651642218232155, 0.20467224717140198, 0.003101094625890255, 0.02877126820385456, 0.0766659528017044, 0.05762867629528046, 0.316225528717041, 0.04410445690155029, 0.0005168491043150425, 0.06296945363283157, 0.0013782642781734467, 0.029718823730945587, 0.0025842455215752125, 0.02024325728416443, 0.0047377836890518665, 0.7896211743354797, 0.1899731308221817, 0.00014501766418106854, 0.0018852296052500606, 0.018417242914438248, 0.9990406036376953, 0.00035191039205528796, 0.2906779944896698, 0.06287465989589691, 0.045865654945373535, 0.05747869610786438, 0.12809538841247559, 0.022756872698664665, 0.3419395983219147, 0.04985397309064865, 0.25327378511428833, 0.02355778031051159, 0.11358610540628433, 0.06857194751501083, 0.0017695985734462738, 0.0007741993758827448, 0.0006635994650423527, 0.02377898059785366, 0.02488498017191887, 0.3503805100917816, 0.13869228959083557, 0.6436193585395813, 0.3562892973423004, 0.07457388937473297, 0.9248055815696716, 0.0009248700807802379, 0.967414140701294, 0.03144558519124985, 0.022786784917116165, 0.26543524861335754, 0.06554500013589859, 0.08560440689325333, 0.024370422586798668, 0.06827237457036972, 0.05296387895941734, 0.016628194600343704, 0.14982970058918, 0.004838892258703709, 0.01689213328063488, 0.03835922107100487, 0.00105575833003968, 0.027185777202248573, 0.010029704309999943, 0.02322668395936489, 0.07733429968357086, 0.04962064325809479, 0.9992092847824097, 0.05341149494051933, 0.05394739657640457, 0.00035726753412745893, 0.4076422452926636, 0.07609798014163971, 0.019828347489237785, 0.0016077038599178195, 0.15916268527507782, 0.00035726753412745893, 0.2274007797241211, 0.9994890093803406, 0.8193778991699219, 0.034758031368255615, 0.1452999711036682, 0.9984777569770813, 0.0018013814697042108, 0.99736487865448, 0.0597471222281456, 0.6171483993530273, 0.2223523110151291, 0.08747407793998718, 0.013058502227067947, 0.9995559453964233, 0.9998273253440857, 0.9573906064033508, 0.0421990342438221, 0.9993528723716736, 0.005089384503662586, 0.09185127168893814, 0.0258710365742445, 0.004786444827914238, 0.28579315543174744, 0.0007876427844166756, 0.10372649878263474, 0.055074408650398254, 0.021024003624916077, 0.02187223546206951, 0.0018782251281663775, 0.16249677538871765, 0.061860255897045135, 0.15783150494098663, 0.9994454979896545, 0.9997588396072388, 0.009177191182971, 0.6002823710441589, 0.020354539155960083, 0.01823672465980053, 0.018472038209438324, 0.018119068816304207, 0.031531885266304016, 0.00011765629460569471, 0.003294376190751791, 0.08800690621137619, 0.12918660044670105, 0.014707036316394806, 0.04847439378499985, 0.08124062418937683, 0.02100452035665512, 0.6150332093238831, 0.03020484931766987, 0.18192344903945923, 0.022740431129932404, 0.0079851895570755, 0.0060756877064704895, 0.033676669001579285, 0.03355087339878082, 0.09580639004707336, 0.010736280120909214, 0.012227430008351803, 0.22337427735328674, 0.005815485026687384, 0.01520972978323698, 0.027660831809043884, 0.031239593401551247, 0.017670128494501114, 0.012003757990896702, 0.06352298706769943, 0.12652407586574554, 0.0032059724908322096, 0.13308513164520264, 0.07090418040752411, 0.11735350638628006, 0.036735452711582184, 0.021605847403407097, 0.08262032270431519, 0.08939970284700394, 0.03477879986166954, 0.12258011847734451, 0.007743932772427797, 0.03731418028473854, 0.09675782173871994, 0.06456951797008514, 0.07446300983428955, 0.060766447335481644, 0.011739912442862988, 0.0034999267663806677, 0.08843515813350677, 0.08317148685455322, 0.03144422546029091, 0.04310145974159241, 0.0022046782542020082, 0.007054970599710941, 0.9992653727531433, 0.999484121799469, 0.027114827185869217, 0.35333582758903503, 0.003941903356462717, 0.015357473865151405, 0.05457143858075142, 0.020096872001886368, 0.05411572754383087, 0.09524368494749069, 0.09080049395561218, 0.04390779137611389, 0.037983544170856476, 0.02889210171997547, 0.012828275561332703, 0.05099410563707352, 0.04992318153381348, 0.0008886372088454664, 0.019299376755952835, 0.03677590936422348, 0.0038963323459029198, 0.9939751029014587, 0.005901727359741926, 0.9992798566818237, 0.9982406497001648, 0.999622642993927, 0.0016216443618759513, 0.22135446965694427, 0.0032432887237519026, 0.05135207250714302, 0.030405832454562187, 0.00635144067928195, 0.004459522198885679, 0.012027195654809475, 0.10297442227602005, 0.1712186187505722, 0.39419472217559814, 0.0006756851798854768, 0.018226884305477142, 0.18226884305477142, 0.18629978597164154, 0.5382188558578491, 0.07273227721452713, 0.0021031019277870655, 0.9984270930290222, 0.999775230884552, 0.9986087679862976, 0.9984698295593262, 0.9992681741714478, 0.9992094039916992], \"Term\": [\"000\", \"000\", \"000\", \"000\", \"000\", \"000\", \"000\", \"000\", \"000\", \"000\", \"000\", \"000\", \"000\", \"100\", \"100\", \"100\", \"100\", \"100\", \"100\", \"100\", \"100\", \"11\", \"11\", \"11\", \"11\", \"11\", \"11\", \"11\", \"11\", \"11\", \"11\", \"11\", \"12\", \"12\", \"12\", \"12\", \"12\", \"12\", \"130\", \"14\", \"14\", \"14\", \"19\", \"19\", \"200\", \"200\", \"200\", \"200\", \"200\", \"200\", \"2001\", \"2005\", \"2010\", \"2010\", \"2010\", \"2012\", \"2012\", \"2012\", \"2012\", \"2012\", \"2012\", \"2012\", \"2014\", \"2014\", \"2014\", \"2014\", \"2014\", \"2014\", \"2014\", \"2014\", \"2014\", \"2014\", \"2014\", \"2014\", \"2014\", \"2015\", \"2015\", \"2015\", \"2015\", \"2015\", \"2015\", \"2015\", \"2015\", \"300\", \"300\", \"300\", \"300\", \"349\", \"350\", \"4\", \"4\", \"4\", \"4\", \"4\", \"4\", \"4\", \"400\", \"400\", \"45\", \"5\", \"5\", \"5\", \"5\", \"5\", \"5\", \"5\", \"5\", \"5\", \"5\", \"5\", \"5\", \"55\", \"6\", \"6\", \"6\", \"6\", \"6\", \"9\", \"9\", \"9\", \"9\", \"9\", \"9\", \"9\", \"9\", \"9\", \"9\", \"9\", \"999\", \"9to5mac\", \"aaron\", \"abandoned\", \"abdel\", \"abdi\", \"abdomen\", \"abdullah\", \"abou\", \"abrams\", \"absence\", \"absence\", \"abu\", \"abu\", \"abubakar\", \"accent\", \"accent\", \"according\", \"according\", \"according\", \"according\", \"according\", \"according\", \"according\", \"according\", \"according\", \"according\", \"according\", \"according\", \"according\", \"according\", \"according\", \"according\", \"according\", \"according\", \"according\", \"according\", \"account\", \"account\", \"account\", \"account\", \"account\", \"account\", \"accused\", \"accused\", \"accused\", \"accused\", \"active\", \"active\", \"active\", \"actively\", \"actor\", \"actor\", \"advancing\", \"affair\", \"affair\", \"affiliate\", \"afghanistan\", \"africa\", \"africa\", \"africa\", \"africa\", \"age\", \"age\", \"age\", \"age\", \"age\", \"age\", \"age\", \"age\", \"aggression\", \"agreed\", \"agreed\", \"agreed\", \"agreement\", \"ahmadu\", \"aiming\", \"air\", \"air\", \"air\", \"air\", \"air\", \"air\", \"air\", \"air\", \"air\", \"air\", \"airbus\", \"aircraft\", \"aircraft\", \"aircraft\", \"airliner\", \"airport\", \"airport\", \"airport\", \"airport\", \"airstrike\", \"airstrike\", \"al\", \"al\", \"al\", \"al\", \"al\", \"alan\", \"alan\", \"alarm\", \"alone\", \"alone\", \"alone\", \"also\", \"also\", \"also\", \"also\", \"also\", \"also\", \"also\", \"also\", \"also\", \"also\", \"also\", \"also\", \"also\", \"also\", \"also\", \"also\", \"also\", \"also\", \"also\", \"also\", \"although\", \"although\", \"although\", \"although\", \"although\", \"although\", \"although\", \"although\", \"although\", \"although\", \"although\", \"although\", \"although\", \"aluminum\", \"amazon\", \"amazon\", \"american\", \"american\", \"american\", \"american\", \"american\", \"american\", \"american\", \"american\", \"american\", \"anchor\", \"animal\", \"animal\", \"ankle\", \"anna\", \"announced\", \"announced\", \"announced\", \"announced\", \"announced\", \"announced\", \"announced\", \"announced\", \"announced\", \"announced\", \"announcing\", \"ansar\", \"ansi\", \"anywhere\", \"app\", \"app\", \"app\", \"appalled\", \"appears\", \"appears\", \"appears\", \"appears\", \"appears\", \"appears\", \"appears\", \"appears\", \"appears\", \"appears\", \"appears\", \"appears\", \"appears\", \"appears\", \"apple\", \"apple\", \"apprehended\", \"apprehended\", \"apps\", \"aqap\", \"arcuri\", \"area\", \"area\", \"area\", \"area\", \"area\", \"area\", \"area\", \"area\", \"area\", \"area\", \"area\", \"area\", \"area\", \"arizona\", \"arm\", \"arm\", \"arm\", \"arm\", \"arm\", \"arm\", \"arm\", \"arrest\", \"arrest\", \"arrest\", \"arrest\", \"arrest\", \"arrival\", \"arrival\", \"article\", \"article\", \"article\", \"article\", \"article\", \"article\", \"article\", \"article\", \"article\", \"artist\", \"artist\", \"ashton\", \"assembly\", \"asteroid\", \"attack\", \"attack\", \"attack\", \"attack\", \"attack\", \"attack\", \"attack\", \"attack\", \"attack\", \"attorney\", \"attract\", \"au\", \"au\", \"au\", \"auction\", \"audio\", \"audio\", \"australian\", \"australian\", \"author\", \"autopsy\", \"babici\", \"back\", \"back\", \"back\", \"back\", \"back\", \"back\", \"back\", \"back\", \"back\", \"back\", \"back\", \"back\", \"back\", \"back\", \"back\", \"back\", \"back\", \"baghdadi\", \"bakr\", \"bale\", \"bali\", \"band\", \"band\", \"bank\", \"banksy\", \"banksy\", \"barack\", \"barack\", \"bary\", \"batman\", \"batman\", \"batmobile\", \"battery\", \"bay\", \"become\", \"become\", \"become\", \"become\", \"become\", \"become\", \"become\", \"become\", \"become\", \"become\", \"become\", \"become\", \"become\", \"become\", \"beggar\", \"behaviour\", \"beheading\", \"beheading\", \"beirut\", \"believed\", \"believed\", \"believed\", \"believed\", \"believed\", \"believed\", \"believed\", \"believed\", \"believed\", \"believed\", \"believed\", \"believed\", \"belonging\", \"belonging\", \"belonging\", \"belonging\", \"ben\", \"benghazi\", \"beside\", \"bibeau\", \"big\", \"big\", \"big\", \"big\", \"big\", \"big\", \"big\", \"big\", \"big\", \"big\", \"bill\", \"bill\", \"bill\", \"bill\", \"billion\", \"billion\", \"bin\", \"biography\", \"biological\", \"biological\", \"biopic\", \"bird\", \"bishop\", \"bite\", \"blasio\", \"blasio\", \"blast\", \"blast\", \"bloodshed\", \"blue\", \"blumenthal\", \"board\", \"board\", \"bogus\", \"boko\", \"book\", \"book\", \"book\", \"border\", \"border\", \"bos\", \"bosnia\", \"box\", \"box\", \"box\", \"box\", \"boy\", \"boy\", \"boy\", \"boy\", \"boyle\", \"bratton\", \"bratton\", \"brian\", \"brian\", \"bright\", \"bringbackourgirls\", \"britain\", \"britain\", \"britain\", \"british\", \"british\", \"british\", \"british\", \"british\", \"brooklyn\", \"brooklyn\", \"brown\", \"browser\", \"brush\", \"bug\", \"building\", \"building\", \"building\", \"building\", \"building\", \"building\", \"bureau\", \"burger\", \"burrowed\", \"bus\", \"buy\", \"cable\", \"cage\", \"cage\", \"caliph\", \"call\", \"call\", \"call\", \"call\", \"call\", \"call\", \"call\", \"call\", \"call\", \"call\", \"call\", \"called\", \"called\", \"called\", \"called\", \"called\", \"called\", \"called\", \"called\", \"called\", \"called\", \"called\", \"called\", \"called\", \"called\", \"called\", \"called\", \"called\", \"called\", \"calm\", \"cameron\", \"cameron\", \"campus\", \"canada\", \"canada\", \"canadian\", \"capacity\", \"capital\", \"capital\", \"capital\", \"capital\", \"capital\", \"capital\", \"capital\", \"capital\", \"capsule\", \"captive\", \"captive\", \"captive\", \"captor\", \"capture\", \"capture\", \"capture\", \"captured\", \"captured\", \"captured\", \"captured\", \"captured\", \"car\", \"car\", \"car\", \"car\", \"career\", \"career\", \"career\", \"career\", \"carlisle\", \"case\", \"case\", \"case\", \"case\", \"case\", \"case\", \"case\", \"case\", \"case\", \"case\", \"case\", \"castro\", \"catfish\", \"catholic\", \"caucus\", \"caught\", \"caught\", \"caught\", \"caught\", \"caught\", \"caught\", \"caught\", \"caught\", \"caught\", \"cc\", \"cctv\", \"cctvnews\", \"cdc\", \"cease\", \"ceasefire\", \"ceremonial\", \"certificate\", \"certificate\", \"cesar\", \"chad\", \"chamber\", \"chandler\", \"chat\", \"chibok\", \"chicken\", \"child\", \"child\", \"child\", \"child\", \"child\", \"child\", \"child\", \"child\", \"child\", \"child\", \"chinese\", \"chinese\", \"chinese\", \"chinese\", \"chip\", \"chlorine\", \"christian\", \"christian\", \"christian\", \"christian\", \"christian\", \"christmas\", \"christmas\", \"christy\", \"church\", \"church\", \"church\", \"church\", \"church\", \"cirillo\", \"city\", \"city\", \"city\", \"city\", \"city\", \"city\", \"city\", \"city\", \"city\", \"city\", \"city\", \"city\", \"city\", \"civilian\", \"civilian\", \"civilian\", \"claim\", \"claim\", \"claim\", \"claim\", \"claim\", \"claim\", \"claim\", \"claim\", \"claim\", \"claim\", \"claim\", \"claim\", \"claim\", \"classmate\", \"cleric\", \"cleric\", \"client\", \"close\", \"close\", \"close\", \"close\", \"close\", \"close\", \"close\", \"cn\", \"cnn\", \"cnn\", \"co\", \"co\", \"co\", \"co\", \"co\", \"co\", \"co\", \"co\", \"co\", \"co\", \"co\", \"co\", \"coalition\", \"com\", \"com\", \"com\", \"com\", \"com\", \"com\", \"com\", \"com\", \"com\", \"com\", \"com\", \"com\", \"comcast\", \"comcast\", \"command\", \"command\", \"commercial\", \"commissioner\", \"commissioner\", \"common\", \"common\", \"common\", \"common\", \"company\", \"company\", \"company\", \"company\", \"company\", \"company\", \"company\", \"company\", \"company\", \"company\", \"complaint\", \"complaint\", \"complaint\", \"complete\", \"complete\", \"complete\", \"completely\", \"conal\", \"condition\", \"condition\", \"condition\", \"condition\", \"condom\", \"confirming\", \"confirms\", \"congressman\", \"conspiracy\", \"constantine\", \"consumer\", \"contacted\", \"contacted\", \"content\", \"content\", \"contracted\", \"controller\", \"convinced\", \"convinced\", \"cook\", \"cooke\", \"cool\", \"cool\", \"cost\", \"cost\", \"could\", \"could\", \"could\", \"could\", \"could\", \"could\", \"could\", \"could\", \"could\", \"could\", \"could\", \"could\", \"could\", \"could\", \"could\", \"could\", \"could\", \"could\", \"could\", \"country\", \"country\", \"country\", \"country\", \"country\", \"country\", \"country\", \"country\", \"country\", \"country\", \"country\", \"country\", \"court\", \"court\", \"court\", \"court\", \"crater\", \"creature\", \"creature\", \"creature\", \"credit\", \"crime\", \"crime\", \"crime\", \"crime\", \"criminality\", \"crossed\", \"cruel\", \"cuba\", \"cuba\", \"culkin\", \"customer\", \"customer\", \"customer\", \"customer\", \"dallas\", \"dallas\", \"dan\", \"danny\", \"dark\", \"darkness\", \"darkness\", \"darren\", \"dating\", \"dating\", \"david\", \"david\", \"david\", \"david\", \"david\", \"david\", \"david\", \"david\", \"day\", \"day\", \"day\", \"day\", \"day\", \"day\", \"day\", \"day\", \"day\", \"day\", \"day\", \"day\", \"day\", \"day\", \"day\", \"day\", \"day\", \"de\", \"de\", \"de\", \"de\", \"de\", \"deadly\", \"deadly\", \"deadly\", \"deadly\", \"deal\", \"deal\", \"deal\", \"deal\", \"deal\", \"deal\", \"deal\", \"deal\", \"death\", \"death\", \"death\", \"death\", \"death\", \"death\", \"death\", \"death\", \"death\", \"death\", \"deepdotweb\", \"deepest\", \"deleted\", \"delight\", \"demonstrator\", \"dera\", \"detainee\", \"detroit\", \"developer\", \"developing\", \"device\", \"device\", \"device\", \"dhs\", \"diagnosed\", \"diane\", \"diarrhea\", \"dicaprio\", \"dictator\", \"died\", \"died\", \"died\", \"died\", \"died\", \"died\", \"died\", \"died\", \"died\", \"died\", \"died\", \"dinner\", \"directed\", \"disease\", \"disease\", \"disney\", \"dna\", \"doctor\", \"doctor\", \"doctor\", \"doctor\", \"document\", \"document\", \"document\", \"document\", \"document\", \"dog\", \"dog\", \"dog\", \"dog\", \"dog\", \"dollar\", \"dollar\", \"domestic\", \"domestic\", \"donation\", \"door\", \"door\", \"door\", \"door\", \"door\", \"dorian\", \"dr\", \"dr\", \"drawn\", \"drawn\", \"drone\", \"dulaimi\", \"durex\", \"dylan\", \"earth\", \"earth\", \"ebay\", \"ebola\", \"edition\", \"edition\", \"educational\", \"edward\", \"edward\", \"effectively\", \"effectively\", \"egyptian\", \"elite\", \"elite\", \"employee\", \"employee\", \"employee\", \"employee\", \"employer\", \"emwazi\", \"encounter\", \"end\", \"end\", \"end\", \"end\", \"end\", \"end\", \"end\", \"end\", \"end\", \"end\", \"end\", \"english\", \"english\", \"english\", \"entering\", \"entrance\", \"epidemic\", \"episode\", \"episode\", \"episode\", \"espn\", \"espn\", \"esquire\", \"est\", \"estate\", \"et\", \"et\", \"et\", \"et\", \"even\", \"even\", \"even\", \"even\", \"even\", \"even\", \"even\", \"even\", \"even\", \"even\", \"even\", \"even\", \"even\", \"even\", \"even\", \"even\", \"even\", \"evening\", \"evening\", \"evening\", \"evening\", \"event\", \"event\", \"event\", \"event\", \"event\", \"evidence\", \"evidence\", \"evidence\", \"evidence\", \"evidence\", \"evidence\", \"exchanged\", \"execution\", \"execution\", \"executioner\", \"exit\", \"expensive\", \"expensive\", \"experiment\", \"explanation\", \"explosive\", \"extensive\", \"eye\", \"eye\", \"eye\", \"eye\", \"f\", \"facebook\", \"facebook\", \"facebook\", \"facebook\", \"facebook\", \"facebook\", \"facebook\", \"facebook\", \"facebook\", \"fact\", \"fact\", \"fact\", \"fact\", \"fact\", \"fact\", \"fact\", \"fact\", \"fact\", \"fact\", \"fact\", \"fact\", \"fact\", \"fact\", \"factory\", \"fake\", \"fake\", \"fake\", \"fake\", \"fake\", \"fake\", \"false\", \"false\", \"family\", \"family\", \"family\", \"family\", \"family\", \"family\", \"family\", \"family\", \"family\", \"family\", \"family\", \"family\", \"family\", \"family\", \"family\", \"fast\", \"father\", \"father\", \"father\", \"father\", \"father\", \"father\", \"father\", \"father\", \"father\", \"fatwa\", \"fbi\", \"fbi\", \"fbi\", \"feature\", \"feature\", \"feature\", \"feature\", \"feature\", \"fee\", \"fee\", \"feel\", \"feel\", \"feig\", \"female\", \"female\", \"female\", \"fence\", \"ferguson\", \"ferrari\", \"fever\", \"fidel\", \"fight\", \"fight\", \"fight\", \"fight\", \"fight\", \"fight\", \"fight\", \"fight\", \"fight\", \"fight\", \"fighter\", \"fighter\", \"fighter\", \"fighter\", \"fighter\", \"fighter\", \"film\", \"film\", \"fireball\", \"fired\", \"fired\", \"fired\", \"first\", \"first\", \"first\", \"first\", \"first\", \"first\", \"first\", \"first\", \"first\", \"first\", \"first\", \"first\", \"first\", \"first\", \"first\", \"first\", \"first\", \"first\", \"fish\", \"five\", \"five\", \"five\", \"five\", \"five\", \"five\", \"five\", \"five\", \"five\", \"five\", \"five\", \"five\", \"five\", \"five\", \"five\", \"flavored\", \"florissant\", \"flown\", \"foley\", \"folk\", \"follower\", \"food\", \"food\", \"food\", \"food\", \"food\", \"food\", \"food\", \"food\", \"food\", \"food\", \"foot\", \"foot\", \"foot\", \"foot\", \"footage\", \"footage\", \"footage\", \"force\", \"force\", \"force\", \"force\", \"force\", \"force\", \"force\", \"force\", \"force\", \"found\", \"found\", \"found\", \"found\", \"found\", \"found\", \"found\", \"found\", \"found\", \"found\", \"found\", \"found\", \"found\", \"founder\", \"founder\", \"founder\", \"founder\", \"founder\", \"founder\", \"foxnewspress\", \"fractured\", \"france\", \"france\", \"france\", \"francis\", \"francis\", \"freelance\", \"friday\", \"friday\", \"friday\", \"friday\", \"friday\", \"friday\", \"friday\", \"friday\", \"friday\", \"friend\", \"friend\", \"friend\", \"friend\", \"friend\", \"friend\", \"friend\", \"friend\", \"friend\", \"friend\", \"frisco\", \"fruit\", \"future\", \"future\", \"future\", \"game\", \"game\", \"game\", \"game\", \"game\", \"game\", \"garden\", \"garden\", \"gaza\", \"gee\", \"gender\", \"genitalia\", \"genitalia\", \"german\", \"german\", \"get\", \"get\", \"get\", \"get\", \"get\", \"get\", \"get\", \"get\", \"get\", \"get\", \"get\", \"get\", \"get\", \"get\", \"get\", \"gift\", \"gill\", \"gill\", \"girl\", \"girl\", \"girl\", \"girl\", \"girl\", \"girl\", \"girl\", \"girl\", \"girlfriend\", \"glass\", \"glass\", \"glass\", \"glide\", \"glide\", \"globalpost\", \"god\", \"god\", \"god\", \"god\", \"god\", \"god\", \"godane\", \"going\", \"going\", \"going\", \"going\", \"going\", \"going\", \"going\", \"going\", \"going\", \"going\", \"going\", \"going\", \"going\", \"going\", \"gold\", \"gold\", \"goldfish\", \"gonzalez\", \"goodluck\", \"google\", \"google\", \"google\", \"google\", \"goto\", \"gout\", \"government\", \"government\", \"government\", \"government\", \"government\", \"government\", \"government\", \"government\", \"government\", \"government\", \"government\", \"graf\", \"graham\", \"grave\", \"great\", \"great\", \"great\", \"great\", \"great\", \"great\", \"grenade\", \"grenade\", \"greta\", \"group\", \"group\", \"group\", \"group\", \"group\", \"group\", \"group\", \"group\", \"group\", \"group\", \"group\", \"group\", \"group\", \"group\", \"gruesome\", \"guantanamo\", \"guard\", \"guard\", \"guerrero\", \"guilty\", \"gunfire\", \"gunfire\", \"gunman\", \"gunman\", \"gunshot\", \"haines\", \"haines\", \"hair\", \"hamele\", \"hamid\", \"hammond\", \"hampshire\", \"handle\", \"hank\", \"haram\", \"harper\", \"hassan\", \"havana\", \"hbo\", \"headline\", \"headline\", \"headline\", \"health\", \"health\", \"health\", \"health\", \"health\", \"health\", \"health\", \"heard\", \"heard\", \"heard\", \"heard\", \"heard\", \"heard\", \"heard\", \"heard\", \"heard\", \"heard\", \"heard\", \"heard\", \"heart\", \"heart\", \"heart\", \"heart\", \"heart\", \"heart\", \"heaven\", \"heaven\", \"helicopter\", \"helmet\", \"hill\", \"hill\", \"hip\", \"hoax\", \"hoax\", \"hoax\", \"hoax\", \"hole\", \"holt\", \"holy\", \"home\", \"home\", \"home\", \"home\", \"home\", \"home\", \"home\", \"home\", \"home\", \"home\", \"home\", \"homeland\", \"homeless\", \"homeless\", \"hop\", \"hospital\", \"hospital\", \"hospital\", \"hospital\", \"hospital\", \"hospital\", \"hostage\", \"hostage\", \"hostage\", \"hour\", \"hour\", \"hour\", \"hour\", \"hour\", \"hour\", \"hour\", \"hour\", \"hour\", \"hour\", \"hour\", \"hour\", \"hour\", \"hour\", \"house\", \"house\", \"house\", \"house\", \"house\", \"house\", \"house\", \"house\", \"house\", \"house\", \"house\", \"huffington\", \"hunter\", \"hurt\", \"hwang\", \"icloud\", \"identity\", \"identity\", \"identity\", \"identity\", \"identity\", \"igen\", \"iguala\", \"ikwiz\", \"il\", \"ilic\", \"ill\", \"image\", \"image\", \"image\", \"image\", \"image\", \"image\", \"image\", \"image\", \"image\", \"image\", \"image\", \"image\", \"imagine\", \"impact\", \"impact\", \"impact\", \"incident\", \"incident\", \"incident\", \"incident\", \"incident\", \"incident\", \"incident\", \"incident\", \"incident\", \"incident\", \"incinerated\", \"independence\", \"india\", \"infected\", \"infection\", \"infestation\", \"information\", \"information\", \"information\", \"information\", \"information\", \"information\", \"information\", \"information\", \"information\", \"information\", \"information\", \"information\", \"information\", \"information\", \"information\", \"information\", \"injury\", \"injury\", \"injury\", \"injury\", \"innocent\", \"innocent\", \"insect\", \"inside\", \"inside\", \"inside\", \"inside\", \"inside\", \"inside\", \"inside\", \"inside\", \"inside\", \"insurgent\", \"insurgent\", \"intelligence\", \"intelligence\", \"intelligence\", \"intelligence\", \"intelligence\", \"intelligence\", \"internet\", \"internet\", \"internet\", \"internet\", \"intruder\", \"iphone\", \"iraq\", \"iraq\", \"iraq\", \"iraq\", \"iraqi\", \"iraqi\", \"iraqi\", \"iraqi\", \"irbil\", \"isaacson\", \"isi\", \"isi\", \"isi\", \"isi\", \"isi\", \"islam\", \"islam\", \"islam\", \"islam\", \"islam\", \"islam\", \"islam\", \"islamic\", \"islamic\", \"islamic\", \"islamic\", \"islamic\", \"islamic\", \"islamist\", \"islamist\", \"islamist\", \"islamist\", \"island\", \"israel\", \"israeli\", \"issue\", \"issue\", \"issue\", \"issue\", \"issue\", \"issue\", \"issue\", \"issue\", \"issue\", \"issue\", \"issue\", \"issue\", \"j\", \"j\", \"jacket\", \"james\", \"james\", \"james\", \"james\", \"january\", \"january\", \"january\", \"january\", \"january\", \"january\", \"january\", \"january\", \"january\", \"jess\", \"jessica\", \"jetliner\", \"jihadi\", \"jihadi\", \"job\", \"job\", \"job\", \"job\", \"job\", \"job\", \"job\", \"job\", \"joe\", \"joe\", \"joe\", \"john\", \"john\", \"john\", \"john\", \"john\", \"john\", \"john\", \"john\", \"john\", \"johnson\", \"johnson\", \"join\", \"join\", \"jonathan\", \"jonathan\", \"jong\", \"jordan\", \"jordan\", \"jordanian\", \"josh\", \"josh\", \"journalist\", \"journalist\", \"journalist\", \"journalist\", \"journalist\", \"joy\", \"jumpsuit\", \"kadalim\", \"kai\", \"kansa\", \"karat\", \"kayla\", \"kenji\", \"kevin\", \"kevin\", \"kfc\", \"kidnapped\", \"kidnapped\", \"kidnapped\", \"kill\", \"kill\", \"kill\", \"kill\", \"kill\", \"kill\", \"kill\", \"killed\", \"killed\", \"killed\", \"killed\", \"killed\", \"killed\", \"killed\", \"killed\", \"killed\", \"killed\", \"killer\", \"killer\", \"killer\", \"kim\", \"kind\", \"kind\", \"kind\", \"kind\", \"kind\", \"kind\", \"king\", \"king\", \"king\", \"kirby\", \"kneeling\", \"knocked\", \"know\", \"know\", \"know\", \"know\", \"know\", \"know\", \"know\", \"know\", \"know\", \"know\", \"know\", \"know\", \"know\", \"known\", \"known\", \"known\", \"known\", \"known\", \"known\", \"known\", \"known\", \"known\", \"known\", \"known\", \"known\", \"known\", \"known\", \"known\", \"known\", \"korea\", \"korean\", \"kryaglyachenko\", \"kumar\", \"kurdish\", \"kurdish\", \"kurdish\", \"kurdish\", \"kutcher\", \"kuwait\", \"l\", \"l\", \"l\", \"la\", \"la\", \"la\", \"la\", \"land\", \"last\", \"last\", \"last\", \"last\", \"last\", \"last\", \"last\", \"last\", \"last\", \"last\", \"last\", \"last\", \"last\", \"last\", \"last\", \"last\", \"last\", \"last\", \"last\", \"later\", \"later\", \"later\", \"later\", \"later\", \"later\", \"later\", \"later\", \"later\", \"later\", \"later\", \"later\", \"later\", \"later\", \"later\", \"later\", \"later\", \"launch\", \"launch\", \"launch\", \"launch\", \"launch\", \"launch\", \"le\", \"le\", \"le\", \"le\", \"le\", \"le\", \"le\", \"leader\", \"leader\", \"leader\", \"leader\", \"leader\", \"leader\", \"leader\", \"leader\", \"leader\", \"leader\", \"leadership\", \"leadership\", \"leadership\", \"leaked\", \"leaked\", \"least\", \"least\", \"least\", \"least\", \"least\", \"least\", \"least\", \"least\", \"least\", \"least\", \"least\", \"lebanese\", \"lebanon\", \"left\", \"left\", \"left\", \"left\", \"left\", \"left\", \"left\", \"left\", \"left\", \"left\", \"left\", \"left\", \"left\", \"left\", \"left\", \"left\", \"left\", \"left\", \"lego\", \"lemon\", \"leonardo\", \"lianne\", \"library\", \"libya\", \"libya\", \"libyan\", \"libyan\", \"libyan\", \"life\", \"life\", \"life\", \"life\", \"life\", \"life\", \"life\", \"life\", \"life\", \"life\", \"life\", \"life\", \"life\", \"life\", \"light\", \"light\", \"light\", \"like\", \"like\", \"like\", \"like\", \"like\", \"like\", \"like\", \"like\", \"like\", \"like\", \"like\", \"like\", \"like\", \"like\", \"like\", \"like\", \"like\", \"lin\", \"liquor\", \"local\", \"local\", \"local\", \"local\", \"local\", \"local\", \"local\", \"local\", \"local\", \"local\", \"local\", \"lockdown\", \"london\", \"london\", \"london\", \"london\", \"london\", \"looking\", \"looking\", \"looking\", \"looking\", \"looking\", \"looking\", \"looking\", \"looking\", \"lopa\", \"lot\", \"lot\", \"lot\", \"lot\", \"lot\", \"lot\", \"lot\", \"lot\", \"lot\", \"lot\", \"louis\", \"louise\", \"lucky\", \"luke\", \"luke\", \"macaulay\", \"macbook\", \"macedonian\", \"macklemore\", \"macklemorejoinedisis\", \"madden\", \"made\", \"made\", \"made\", \"made\", \"made\", \"made\", \"made\", \"made\", \"made\", \"made\", \"made\", \"made\", \"made\", \"made\", \"made\", \"made\", \"made\", \"made\", \"magazine\", \"magazine\", \"magazine\", \"magazine\", \"magazine\", \"magnet\", \"magneto\", \"maintained\", \"maintained\", \"majed\", \"malaria\", \"male\", \"mall\", \"mall\", \"man\", \"man\", \"man\", \"man\", \"man\", \"man\", \"man\", \"man\", \"man\", \"man\", \"man\", \"man\", \"man\", \"man\", \"managua\", \"marijuana\", \"marijuana\", \"marine\", \"mashable\", \"masked\", \"masked\", \"masked\", \"mass\", \"mass\", \"may\", \"may\", \"may\", \"may\", \"may\", \"may\", \"may\", \"may\", \"may\", \"may\", \"may\", \"may\", \"may\", \"may\", \"may\", \"may\", \"may\", \"may\", \"may\", \"mayor\", \"mayor\", \"mcdonald\", \"meal\", \"meal\", \"medic\", \"medical\", \"medical\", \"medical\", \"medical\", \"medical\", \"medicine\", \"medium\", \"medium\", \"medium\", \"medium\", \"medium\", \"medium\", \"medium\", \"medium\", \"medium\", \"medium\", \"medium\", \"medium\", \"medium\", \"medium\", \"medium\", \"medium\", \"medium\", \"memorial\", \"mention\", \"mention\", \"mention\", \"message\", \"message\", \"message\", \"message\", \"message\", \"message\", \"message\", \"message\", \"message\", \"message\", \"message\", \"messaging\", \"meteorite\", \"meter\", \"metropolitan\", \"mexican\", \"mexican\", \"mexico\", \"mgm\", \"mi5\", \"michael\", \"michael\", \"michael\", \"michael\", \"michael\", \"michael\", \"micheal\", \"michelle\", \"mid\", \"mid\", \"militant\", \"militant\", \"militant\", \"militant\", \"militant\", \"militant\", \"military\", \"military\", \"military\", \"military\", \"military\", \"millan\", \"millan\", \"million\", \"million\", \"million\", \"million\", \"million\", \"million\", \"million\", \"million\", \"million\", \"ministry\", \"ministry\", \"ministry\", \"ministry\", \"missile\", \"missouri\", \"mite\", \"mm\", \"model\", \"model\", \"model\", \"mogadishu\", \"mohammed\", \"mohammed\", \"mohammed\", \"mohammed\", \"mom\", \"monday\", \"monday\", \"monday\", \"monday\", \"monday\", \"monday\", \"monday\", \"monday\", \"monday\", \"monday\", \"monday\", \"money\", \"money\", \"money\", \"money\", \"money\", \"money\", \"money\", \"month\", \"month\", \"month\", \"month\", \"month\", \"month\", \"month\", \"month\", \"month\", \"month\", \"month\", \"month\", \"month\", \"month\", \"month\", \"month\", \"month\", \"montreal\", \"mortgage\", \"mosul\", \"mosul\", \"mosul\", \"mother\", \"mother\", \"mother\", \"mother\", \"mother\", \"mother\", \"mourn\", \"mouth\", \"movie\", \"movie\", \"mp\", \"mp\", \"mr\", \"mr\", \"mr\", \"mr\", \"mr\", \"mr\", \"mr\", \"mr\", \"mr\", \"mtv\", \"much\", \"much\", \"much\", \"much\", \"much\", \"much\", \"much\", \"much\", \"much\", \"much\", \"much\", \"much\", \"much\", \"mueller\", \"munster\", \"murder\", \"murder\", \"murder\", \"mushroom\", \"name\", \"name\", \"name\", \"name\", \"name\", \"name\", \"name\", \"name\", \"name\", \"name\", \"name\", \"name\", \"nasa\", \"nathan\", \"national\", \"national\", \"national\", \"national\", \"national\", \"national\", \"national\", \"national\", \"national\", \"national\", \"national\", \"national\", \"national\", \"nbc\", \"nbc\", \"nbc\", \"neal\", \"near\", \"near\", \"near\", \"near\", \"near\", \"near\", \"near\", \"near\", \"near\", \"near\", \"needed\", \"negative\", \"nelson\", \"nenad\", \"netflix\", \"never\", \"never\", \"never\", \"never\", \"never\", \"never\", \"never\", \"never\", \"never\", \"never\", \"never\", \"never\", \"never\", \"new\", \"new\", \"new\", \"new\", \"new\", \"new\", \"new\", \"new\", \"new\", \"new\", \"new\", \"new\", \"new\", \"new\", \"new\", \"new\", \"new\", \"new\", \"news\", \"news\", \"news\", \"news\", \"news\", \"news\", \"news\", \"news\", \"news\", \"news\", \"news\", \"news\", \"news\", \"news\", \"news\", \"news\", \"news\", \"nicaragua\", \"nicaraguan\", \"nice\", \"nigeria\", \"nigerian\", \"night\", \"night\", \"night\", \"night\", \"night\", \"night\", \"night\", \"nikolaev\", \"nikolai\", \"nkis\", \"noise\", \"north\", \"north\", \"north\", \"north\", \"north\", \"north\", \"north\", \"noticed\", \"noticed\", \"noting\", \"november\", \"november\", \"november\", \"nowhere\", \"numerous\", \"numerous\", \"numerous\", \"nun\", \"nun\", \"nusra\", \"obama\", \"obama\", \"obama\", \"obama\", \"oberholtzer\", \"object\", \"observatory\", \"oct\", \"oct\", \"oct\", \"oct\", \"office\", \"office\", \"office\", \"office\", \"office\", \"office\", \"office\", \"office\", \"office\", \"office\", \"officer\", \"officer\", \"officer\", \"officer\", \"official\", \"official\", \"official\", \"official\", \"official\", \"official\", \"official\", \"official\", \"official\", \"official\", \"official\", \"official\", \"official\", \"official\", \"official\", \"officially\", \"officially\", \"ok\", \"old\", \"old\", \"old\", \"old\", \"old\", \"old\", \"old\", \"old\", \"old\", \"old\", \"old\", \"old\", \"old\", \"old\", \"old\", \"old\", \"old\", \"old\", \"oliver\", \"olsen\", \"one\", \"one\", \"one\", \"one\", \"one\", \"one\", \"one\", \"one\", \"one\", \"one\", \"one\", \"one\", \"one\", \"one\", \"one\", \"one\", \"one\", \"one\", \"one\", \"one\", \"operation\", \"operation\", \"operation\", \"operation\", \"operation\", \"operation\", \"operation\", \"operation\", \"option\", \"option\", \"organization\", \"organization\", \"organization\", \"organization\", \"organization\", \"organization\", \"organization\", \"organization\", \"oscar\", \"ottawa\", \"outbreak\", \"overweight\", \"owner\", \"pa\", \"pa\", \"paid\", \"paid\", \"paid\", \"pain\", \"pain\", \"pain\", \"palace\", \"paler\", \"panel\", \"park\", \"park\", \"parliament\", \"parliament\", \"parliament\", \"part\", \"part\", \"part\", \"part\", \"part\", \"part\", \"part\", \"part\", \"part\", \"part\", \"part\", \"part\", \"part\", \"part\", \"part\", \"part\", \"partner\", \"partner\", \"party\", \"party\", \"party\", \"party\", \"party\", \"party\", \"party\", \"party\", \"patient\", \"patient\", \"patient\", \"patrol\", \"patrol\", \"patrol\", \"paul\", \"paul\", \"paul\", \"paul\", \"paul\", \"paul\", \"pause\", \"penis\", \"penis\", \"pentagon\", \"pentagon\", \"people\", \"people\", \"people\", \"people\", \"people\", \"people\", \"people\", \"people\", \"people\", \"people\", \"people\", \"people\", \"people\", \"people\", \"people\", \"people\", \"people\", \"people\", \"people\", \"people\", \"per\", \"per\", \"per\", \"per\", \"percent\", \"percent\", \"perfectly\", \"pet\", \"phelps\", \"phone\", \"phone\", \"phone\", \"phone\", \"phone\", \"phone\", \"phone\", \"phone\", \"phone\", \"photo\", \"photo\", \"photo\", \"photo\", \"photo\", \"photo\", \"photo\", \"photo\", \"photo\", \"photo\", \"photo\", \"photo\", \"photo\", \"photo\", \"photo\", \"photo\", \"photo\", \"photojournalist\", \"pic\", \"pic\", \"picture\", \"picture\", \"picture\", \"picture\", \"picture\", \"picture\", \"picture\", \"picture\", \"picture\", \"picture\", \"picture\", \"picture\", \"picture\", \"picture\", \"pierson\", \"pilot\", \"pilot\", \"plane\", \"plane\", \"plane\", \"planet\", \"planning\", \"planning\", \"planning\", \"planning\", \"plant\", \"play\", \"play\", \"play\", \"play\", \"play\", \"plot\", \"plotting\", \"pm\", \"po\", \"police\", \"police\", \"police\", \"police\", \"police\", \"pope\", \"pope\", \"portion\", \"post\", \"post\", \"post\", \"post\", \"post\", \"post\", \"post\", \"post\", \"post\", \"post\", \"post\", \"post\", \"post\", \"pour\", \"prank\", \"prank\", \"prankster\", \"pregnancy\", \"president\", \"president\", \"president\", \"president\", \"president\", \"president\", \"president\", \"president\", \"president\", \"president\", \"president\", \"presidential\", \"pressure\", \"previously\", \"previously\", \"price\", \"price\", \"price\", \"price\", \"price\", \"priced\", \"pricing\", \"priest\", \"prison\", \"prison\", \"prisoner\", \"prisoner\", \"prisoner\", \"prisoner\", \"prisoner\", \"proclaimed\", \"product\", \"product\", \"product\", \"product\", \"product\", \"product\", \"product\", \"project\", \"project\", \"project\", \"project\", \"project\", \"public\", \"public\", \"public\", \"public\", \"public\", \"public\", \"public\", \"public\", \"public\", \"public\", \"public\", \"public\", \"public\", \"public\", \"public\", \"pulling\", \"pulling\", \"pumpkin\", \"purchase\", \"purdon\", \"purported\", \"purported\", \"purported\", \"purpose\", \"put\", \"put\", \"put\", \"put\", \"put\", \"put\", \"put\", \"put\", \"put\", \"put\", \"put\", \"put\", \"put\", \"putin\", \"pyongyang\", \"qatar\", \"qatar\", \"quarantined\", \"quebec\", \"qureshi\", \"r\", \"r\", \"rahim\", \"ram\", \"range\", \"rank\", \"raped\", \"raped\", \"rapper\", \"rapper\", \"raqqa\", \"rat\", \"razor\", \"rc\", \"rcmp\", \"really\", \"really\", \"really\", \"really\", \"really\", \"really\", \"really\", \"really\", \"really\", \"really\", \"really\", \"really\", \"recording\", \"recording\", \"recovered\", \"recovering\", \"recruit\", \"recruit\", \"region\", \"region\", \"region\", \"region\", \"region\", \"rehab\", \"release\", \"release\", \"release\", \"release\", \"release\", \"release\", \"release\", \"release\", \"release\", \"release\", \"release\", \"release\", \"released\", \"released\", \"released\", \"released\", \"released\", \"released\", \"released\", \"released\", \"released\", \"released\", \"released\", \"released\", \"released\", \"released\", \"relevance\", \"remark\", \"report\", \"report\", \"report\", \"report\", \"report\", \"report\", \"report\", \"report\", \"report\", \"report\", \"report\", \"report\", \"report\", \"report\", \"report\", \"report\", \"report\", \"report\", \"report\", \"report\", \"reported\", \"reported\", \"reported\", \"reported\", \"reported\", \"reported\", \"reported\", \"reported\", \"reported\", \"reported\", \"reported\", \"reported\", \"reported\", \"reported\", \"reported\", \"reported\", \"reported\", \"reported\", \"reported\", \"reported\", \"reproductive\", \"republican\", \"rescue\", \"research\", \"research\", \"research\", \"research\", \"research\", \"reset\", \"respect\", \"restaurant\", \"restaurant\", \"restaurant\", \"result\", \"result\", \"result\", \"result\", \"retail\", \"reveals\", \"rifle\", \"riquelme\", \"riquelme\", \"river\", \"rob\", \"robot\", \"rodent\", \"rogen\", \"role\", \"role\", \"role\", \"role\", \"role\", \"roman\", \"room\", \"room\", \"room\", \"room\", \"rosenberg\", \"rourke\", \"rumor\", \"rumor\", \"rumor\", \"rumor\", \"rumor\", \"rumor\", \"rushed\", \"rushed\", \"rushed\", \"sabah\", \"sad\", \"said\", \"said\", \"said\", \"said\", \"said\", \"said\", \"said\", \"said\", \"said\", \"said\", \"said\", \"said\", \"said\", \"said\", \"said\", \"said\", \"said\", \"said\", \"said\", \"said\", \"saja\", \"samsung\", \"sana\", \"sapphire\", \"sarajevo\", \"satire\", \"satirical\", \"satirical\", \"satirical\", \"saudi\", \"saudi\", \"saudi\", \"say\", \"say\", \"say\", \"say\", \"say\", \"say\", \"say\", \"say\", \"say\", \"say\", \"say\", \"say\", \"say\", \"say\", \"say\", \"say\", \"say\", \"say\", \"say\", \"say\", \"saying\", \"saying\", \"saying\", \"saying\", \"saying\", \"saying\", \"saying\", \"saying\", \"saying\", \"saying\", \"saying\", \"saying\", \"saying\", \"saying\", \"saying\", \"saying\", \"saying\", \"scar\", \"scenario\", \"scene\", \"scene\", \"scene\", \"scene\", \"scene\", \"school\", \"school\", \"school\", \"school\", \"school\", \"school\", \"schoolgirl\", \"schoolgirl\", \"science\", \"science\", \"science\", \"scientist\", \"scientist\", \"scorpion\", \"scotland\", \"scotland\", \"scotland\", \"scottish\", \"scottish\", \"seam\", \"secret\", \"secret\", \"secretly\", \"security\", \"security\", \"security\", \"security\", \"security\", \"security\", \"security\", \"security\", \"seeking\", \"seidel\", \"sell\", \"sell\", \"sell\", \"sensor\", \"seoul\", \"sergeant\", \"service\", \"service\", \"service\", \"service\", \"service\", \"service\", \"service\", \"service\", \"service\", \"service\", \"service\", \"service\", \"service\", \"service\", \"service\", \"seth\", \"setting\", \"sex\", \"sex\", \"sex\", \"sex\", \"sex\", \"sex\", \"sex\", \"sgt\", \"shane\", \"sharing\", \"shekau\", \"shooter\", \"shooting\", \"shooting\", \"shore\", \"shot\", \"shot\", \"shot\", \"shot\", \"show\", \"show\", \"show\", \"show\", \"show\", \"show\", \"show\", \"show\", \"show\", \"show\", \"show\", \"show\", \"show\", \"show\", \"since\", \"since\", \"since\", \"since\", \"since\", \"since\", \"since\", \"since\", \"since\", \"since\", \"since\", \"since\", \"since\", \"since\", \"since\", \"since\", \"since\", \"singh\", \"sister\", \"sister\", \"sister\", \"sister\", \"sister\", \"site\", \"site\", \"site\", \"site\", \"site\", \"site\", \"site\", \"site\", \"site\", \"site\", \"site\", \"site\", \"site\", \"site\", \"six\", \"six\", \"six\", \"six\", \"six\", \"six\", \"six\", \"six\", \"six\", \"six\", \"skin\", \"sky\", \"smartwatch\", \"smith\", \"sneeze\", \"sneezed\", \"sneezing\", \"sniper\", \"snow\", \"snowman\", \"snyder\", \"social\", \"social\", \"social\", \"social\", \"social\", \"social\", \"social\", \"social\", \"social\", \"social\", \"social\", \"social\", \"social\", \"soil\", \"soldier\", \"soldier\", \"soldier\", \"soldier\", \"somali\", \"somers\", \"something\", \"something\", \"something\", \"something\", \"something\", \"something\", \"something\", \"something\", \"something\", \"something\", \"son\", \"son\", \"son\", \"son\", \"son\", \"son\", \"son\", \"son\", \"son\", \"son\", \"son\", \"song\", \"song\", \"song\", \"sony\", \"sorkin\", \"sotloff\", \"sound\", \"sound\", \"sound\", \"sound\", \"sound\", \"sound\", \"sound\", \"source\", \"source\", \"source\", \"source\", \"source\", \"source\", \"source\", \"source\", \"source\", \"source\", \"source\", \"source\", \"source\", \"source\", \"south\", \"south\", \"south\", \"south\", \"south\", \"south\", \"south\", \"south\", \"southern\", \"southern\", \"southern\", \"southern\", \"southern\", \"southern\", \"space\", \"space\", \"space\", \"spca\", \"specie\", \"speculation\", \"speculation\", \"spends\", \"spice\", \"spider\", \"spoon\", \"sport\", \"sport\", \"st\", \"st\", \"st\", \"stainless\", \"star\", \"star\", \"star\", \"star\", \"star\", \"star\", \"star\", \"started\", \"started\", \"started\", \"started\", \"started\", \"started\", \"started\", \"started\", \"started\", \"state\", \"state\", \"state\", \"state\", \"state\", \"state\", \"state\", \"state\", \"state\", \"state\", \"state\", \"state\", \"state\", \"stated\", \"stated\", \"statement\", \"statement\", \"statement\", \"statement\", \"statement\", \"statement\", \"statement\", \"statement\", \"statement\", \"statement\", \"statement\", \"statement\", \"statement\", \"statement\", \"station\", \"station\", \"station\", \"station\", \"station\", \"station\", \"station\", \"station\", \"station\", \"station\", \"station\", \"steel\", \"stephen\", \"steve\", \"steve\", \"steven\", \"still\", \"still\", \"still\", \"still\", \"still\", \"still\", \"still\", \"still\", \"still\", \"still\", \"still\", \"still\", \"still\", \"still\", \"still\", \"still\", \"still\", \"stomach\", \"stomach\", \"store\", \"store\", \"store\", \"story\", \"story\", \"story\", \"story\", \"story\", \"story\", \"story\", \"story\", \"story\", \"story\", \"story\", \"story\", \"story\", \"strap\", \"streaming\", \"streaming\", \"street\", \"street\", \"street\", \"street\", \"street\", \"street\", \"street\", \"street\", \"street\", \"street\", \"street\", \"street\", \"strike\", \"strike\", \"strike\", \"strike\", \"strike\", \"strike\", \"student\", \"student\", \"student\", \"subscription\", \"subscription\", \"subscription\", \"sugarhill\", \"suggestion\", \"suit\", \"suit\", \"suitcase\", \"sunday\", \"sunday\", \"sunday\", \"sunday\", \"sunday\", \"sunday\", \"sunday\", \"sung\", \"sunni\", \"superman\", \"superpower\", \"supported\", \"supported\", \"supporter\", \"supporter\", \"supporter\", \"supreme\", \"sure\", \"sure\", \"sure\", \"sure\", \"sure\", \"sure\", \"suresh\", \"suspended\", \"suspension\", \"suspension\", \"susteren\", \"swimmer\", \"symptom\", \"syria\", \"syria\", \"syria\", \"syria\", \"syria\", \"syrian\", \"syrian\", \"syrian\", \"taibbi\", \"taliban\", \"taliban\", \"talk\", \"talk\", \"talk\", \"talk\", \"talk\", \"talk\", \"talk\", \"talk\", \"talk\", \"talk\", \"talk\", \"talk\", \"tan\", \"tanzania\", \"tape\", \"teacher\", \"teen\", \"teen\", \"teen\", \"teen\", \"teen\", \"teletubbies\", \"terrorism\", \"terrorist\", \"terrorist\", \"terrorist\", \"terrorist\", \"terrorist\", \"terrorist\", \"terrorist\", \"texas\", \"texas\", \"text\", \"texting\", \"theft\", \"theory\", \"thing\", \"thing\", \"thing\", \"thing\", \"thing\", \"thing\", \"thing\", \"thing\", \"thing\", \"thing\", \"think\", \"think\", \"think\", \"think\", \"think\", \"think\", \"think\", \"think\", \"think\", \"think\", \"think\", \"think\", \"think\", \"think\", \"think\", \"think\", \"thomas\", \"thomas\", \"thomas\", \"thought\", \"thought\", \"thought\", \"thought\", \"thought\", \"thought\", \"thought\", \"thought\", \"thought\", \"thought\", \"thought\", \"thought\", \"thought\", \"thought\", \"thought\", \"thursday\", \"thursday\", \"thursday\", \"thursday\", \"thursday\", \"thursday\", \"thursday\", \"thursday\", \"thursday\", \"thursday\", \"thursday\", \"thursday\", \"thus\", \"thus\", \"tiger\", \"time\", \"time\", \"time\", \"time\", \"time\", \"time\", \"time\", \"time\", \"time\", \"time\", \"time\", \"time\", \"time\", \"time\", \"time\", \"time\", \"time\", \"time\", \"time\", \"time\", \"today\", \"today\", \"today\", \"today\", \"today\", \"today\", \"today\", \"today\", \"today\", \"today\", \"today\", \"today\", \"today\", \"told\", \"told\", \"told\", \"told\", \"told\", \"told\", \"told\", \"told\", \"told\", \"told\", \"told\", \"told\", \"told\", \"told\", \"told\", \"told\", \"told\", \"told\", \"told\", \"tom\", \"tom\", \"tor\", \"tour\", \"tour\", \"tour\", \"tower\", \"trading\", \"trail\", \"trained\", \"transpired\", \"tribunal\", \"tripoli\", \"tripoli\", \"tropical\", \"truce\", \"truck\", \"truck\", \"truck\", \"true\", \"true\", \"true\", \"true\", \"true\", \"true\", \"true\", \"true\", \"true\", \"true\", \"true\", \"tuesday\", \"tuesday\", \"tuesday\", \"tuesday\", \"tuesday\", \"tuesday\", \"tuesday\", \"tuesday\", \"tuesday\", \"tuesday\", \"tuesday\", \"tuesday\", \"tuesday\", \"tuesday\", \"tuesday\", \"tunisia\", \"tv\", \"tv\", \"tv\", \"tv\", \"tv\", \"tv\", \"tv\", \"tv\", \"tv\", \"tv\", \"tv\", \"tweet\", \"tweet\", \"tweet\", \"tweet\", \"tweet\", \"twin\", \"twitter\", \"twitter\", \"twitter\", \"twitter\", \"twitter\", \"twitter\", \"twitter\", \"twitter\", \"twitter\", \"twitter\", \"twitter\", \"type\", \"type\", \"u\", \"u\", \"u\", \"u\", \"u\", \"u\", \"u\", \"u\", \"u\", \"u\", \"u\", \"u\", \"u\", \"u\", \"u\", \"u\", \"u\", \"u\", \"u\", \"un\", \"un\", \"unarmed\", \"unarmed\", \"underage\", \"une\", \"university\", \"university\", \"university\", \"university\", \"university\", \"unusual\", \"unusual\", \"unusual\", \"unverified\", \"update\", \"update\", \"update\", \"update\", \"updated\", \"updated\", \"updated\", \"used\", \"used\", \"used\", \"used\", \"used\", \"used\", \"used\", \"used\", \"used\", \"used\", \"used\", \"used\", \"used\", \"used\", \"used\", \"used\", \"useful\", \"user\", \"user\", \"user\", \"user\", \"user\", \"user\", \"v\", \"vandalism\", \"variant\", \"variety\", \"variety\", \"various\", \"various\", \"various\", \"various\", \"vatican\", \"vega\", \"version\", \"version\", \"version\", \"version\", \"version\", \"version\", \"version\", \"version\", \"version\", \"version\", \"vickers\", \"video\", \"video\", \"video\", \"video\", \"video\", \"video\", \"video\", \"video\", \"video\", \"video\", \"video\", \"video\", \"violated\", \"viral\", \"viral\", \"viral\", \"viral\", \"virus\", \"vladi\", \"vocativ\", \"vogue\", \"volley\", \"vomiting\", \"w\", \"walter\", \"want\", \"want\", \"want\", \"want\", \"want\", \"want\", \"want\", \"want\", \"want\", \"want\", \"want\", \"want\", \"wanted\", \"wanted\", \"wanted\", \"wanted\", \"wanted\", \"wanted\", \"wanted\", \"war\", \"war\", \"war\", \"war\", \"war\", \"war\", \"war\", \"war\", \"warner\", \"warren\", \"washington\", \"washington\", \"washington\", \"washington\", \"washington\", \"washington\", \"washington\", \"washington\", \"watch\", \"watch\", \"watch\", \"watch\", \"watch\", \"watch\", \"watch\", \"watch\", \"watch\", \"watch\", \"water\", \"water\", \"water\", \"water\", \"water\", \"water\", \"water\", \"wave\", \"wave\", \"way\", \"way\", \"way\", \"way\", \"way\", \"way\", \"way\", \"way\", \"way\", \"way\", \"way\", \"way\", \"way\", \"way\", \"way\", \"way\", \"weapon\", \"weapon\", \"weapon\", \"weapon\", \"weapon\", \"wearable\", \"website\", \"website\", \"website\", \"website\", \"website\", \"website\", \"website\", \"website\", \"website\", \"wednesday\", \"wednesday\", \"wednesday\", \"wednesday\", \"wednesday\", \"wednesday\", \"wednesday\", \"wednesday\", \"wednesday\", \"wednesday\", \"wednesday\", \"weekend\", \"weekend\", \"weight\", \"weight\", \"welfare\", \"welfare\", \"welfare\", \"well\", \"well\", \"well\", \"well\", \"well\", \"well\", \"well\", \"well\", \"well\", \"well\", \"well\", \"well\", \"well\", \"well\", \"well\", \"well\", \"well\", \"well\", \"wels\", \"west\", \"west\", \"west\", \"west\", \"west\", \"west\", \"west\", \"west\", \"west\", \"west\", \"westminster\", \"whatever\", \"whatever\", \"whatever\", \"whisky\", \"wide\", \"wide\", \"wife\", \"wife\", \"wife\", \"wife\", \"wife\", \"williams\", \"wilson\", \"winning\", \"winning\", \"wintour\", \"woman\", \"woman\", \"woman\", \"woman\", \"woman\", \"woman\", \"woman\", \"woman\", \"woman\", \"woman\", \"woman\", \"woman\", \"woman\", \"woman\", \"wonderful\", \"wood\", \"work\", \"work\", \"work\", \"work\", \"work\", \"work\", \"work\", \"work\", \"work\", \"work\", \"work\", \"work\", \"work\", \"working\", \"working\", \"working\", \"working\", \"working\", \"working\", \"working\", \"working\", \"working\", \"world\", \"world\", \"world\", \"world\", \"world\", \"world\", \"world\", \"world\", \"world\", \"world\", \"world\", \"world\", \"world\", \"world\", \"world\", \"world\", \"world\", \"would\", \"would\", \"would\", \"would\", \"would\", \"would\", \"would\", \"would\", \"would\", \"would\", \"would\", \"would\", \"would\", \"would\", \"would\", \"would\", \"would\", \"would\", \"would\", \"would\", \"wozniak\", \"wright\", \"year\", \"year\", \"year\", \"year\", \"year\", \"year\", \"year\", \"year\", \"year\", \"year\", \"year\", \"year\", \"year\", \"year\", \"year\", \"year\", \"year\", \"year\", \"year\", \"yemen\", \"yemen\", \"yemeni\", \"yeti\", \"yo\", \"york\", \"york\", \"york\", \"york\", \"york\", \"york\", \"york\", \"york\", \"york\", \"york\", \"york\", \"york\", \"youtube\", \"youtube\", \"youtube\", \"youtube\", \"youtube\", \"youtube\", \"ypg\", \"zehaf\", \"zeid\", \"zero\", \"zone\", \"\\u00e0\"]}, \"R\": 30, \"lambda.step\": 0.01, \"plot.opts\": {\"xlab\": \"PC1\", \"ylab\": \"PC2\"}, \"topic.order\": [18, 10, 3, 14, 9, 8, 15, 4, 13, 7, 1, 20, 2, 19, 6, 5, 17, 11, 12, 16]};\n",
       "\n",
       "function LDAvis_load_lib(url, callback){\n",
       "  var s = document.createElement('script');\n",
       "  s.src = url;\n",
       "  s.async = true;\n",
       "  s.onreadystatechange = s.onload = callback;\n",
       "  s.onerror = function(){console.warn(\"failed to load library \" + url);};\n",
       "  document.getElementsByTagName(\"head\")[0].appendChild(s);\n",
       "}\n",
       "\n",
       "if(typeof(LDAvis) !== \"undefined\"){\n",
       "   // already loaded: just create the visualization\n",
       "   !function(LDAvis){\n",
       "       new LDAvis(\"#\" + \"ldavis_el30197138893669202074619241\", ldavis_el30197138893669202074619241_data);\n",
       "   }(LDAvis);\n",
       "}else if(typeof define === \"function\" && define.amd){\n",
       "   // require.js is available: use it to load d3/LDAvis\n",
       "   require.config({paths: {d3: \"https://cdnjs.cloudflare.com/ajax/libs/d3/3.5.5/d3.min\"}});\n",
       "   require([\"d3\"], function(d3){\n",
       "      window.d3 = d3;\n",
       "      LDAvis_load_lib(\"https://cdn.rawgit.com/bmabey/pyLDAvis/files/ldavis.v1.0.0.js\", function(){\n",
       "        new LDAvis(\"#\" + \"ldavis_el30197138893669202074619241\", ldavis_el30197138893669202074619241_data);\n",
       "      });\n",
       "    });\n",
       "}else{\n",
       "    // require.js not available: dynamically load d3 & LDAvis\n",
       "    LDAvis_load_lib(\"https://cdnjs.cloudflare.com/ajax/libs/d3/3.5.5/d3.min.js\", function(){\n",
       "         LDAvis_load_lib(\"https://cdn.rawgit.com/bmabey/pyLDAvis/files/ldavis.v1.0.0.js\", function(){\n",
       "                 new LDAvis(\"#\" + \"ldavis_el30197138893669202074619241\", ldavis_el30197138893669202074619241_data);\n",
       "            })\n",
       "         });\n",
       "}\n",
       "</script>"
      ],
      "text/plain": [
       "PreparedData(topic_coordinates=           Freq  cluster  topics         x         y\n",
       "topic                                               \n",
       "17     8.472816        1       1  0.226878 -0.019107\n",
       "9      7.594953        1       2 -0.112292 -0.000421\n",
       "2      7.311740        1       3 -0.083543 -0.021562\n",
       "13     6.790968        1       4 -0.108505  0.080764\n",
       "8      6.466295        1       5  0.174057 -0.042059\n",
       "7      5.406437        1       6 -0.187085 -0.060063\n",
       "14     5.100553        1       7  0.112053  0.049264\n",
       "3      4.986358        1       8  0.218529 -0.084038\n",
       "12     4.938577        1       9 -0.117558  0.017818\n",
       "6      4.882230        1      10  0.059653 -0.100939\n",
       "0      4.623832        1      11  0.111735 -0.080453\n",
       "19     4.126442        1      12 -0.143797 -0.016100\n",
       "1      4.123420        1      13  0.024207  0.294694\n",
       "18     4.007892        1      14 -0.105915  0.023174\n",
       "5      3.879508        1      15 -0.103316 -0.141882\n",
       "4      3.818954        1      16 -0.013768  0.042426\n",
       "16     3.808389        1      17 -0.129776 -0.044183\n",
       "10     3.591979        1      18 -0.102501 -0.032554\n",
       "11     3.399813        1      19  0.109928  0.261607\n",
       "15     2.668845        1      20  0.171015 -0.126386, topic_info=     Category           Freq          Term          Total  loglift  logprob\n",
       "term                                                                       \n",
       "6     Default   44045.000000         apple   44045.000000  30.0000  30.0000\n",
       "1574  Default   30442.000000         watch   30442.000000  29.0000  29.0000\n",
       "2527  Default   22236.000000           kim   22236.000000  28.0000  28.0000\n",
       "97    Default   28784.000000            al   28784.000000  27.0000  27.0000\n",
       "1218  Default   46117.000000         video   46117.000000  26.0000  26.0000\n",
       "818   Default   34001.000000           isi   34001.000000  25.0000  25.0000\n",
       "861   Default   20626.000000         north   20626.000000  24.0000  24.0000\n",
       "353   Default   24473.000000        police   24473.000000  23.0000  23.0000\n",
       "1180  Default   16882.000000         foley   16882.000000  22.0000  22.0000\n",
       "363   Default   17942.000000          shot   17942.000000  21.0000  21.0000\n",
       "3992  Default   13910.000000         brown   13910.000000  20.0000  20.0000\n",
       "210   Default  130182.000000          said  130182.000000  19.0000  19.0000\n",
       "343   Default   26540.000000       islamic   26540.000000  18.0000  18.0000\n",
       "914   Default   41793.000000         state   41793.000000  17.0000  17.0000\n",
       "107   Default   17448.000000        border   17448.000000  16.0000  16.0000\n",
       "2895  Default   10801.000000         ebola   10801.000000  15.0000  15.0000\n",
       "944   Default   47036.000000             u   47036.000000  14.0000  14.0000\n",
       "2644  Default   12495.000000          jong   12495.000000  13.0000  13.0000\n",
       "1215  Default   22614.000000         syria   22614.000000  12.0000  12.0000\n",
       "563   Default   20635.000000      american   20635.000000  11.0000  11.0000\n",
       "296   Default   29728.000000           man   29728.000000  10.0000  10.0000\n",
       "816   Default   19261.000000          iraq   19261.000000   9.0000   9.0000\n",
       "279   Default   16631.000000          girl   16631.000000   8.0000   8.0000\n",
       "803   Default   33140.000000         group   33140.000000   7.0000   7.0000\n",
       "1621  Default   13616.000000       officer   13616.000000   6.0000   6.0000\n",
       "1785  Default   10156.000000         haram   10156.000000   5.0000   5.0000\n",
       "1737  Default   10093.000000          boko   10093.000000   4.0000   4.0000\n",
       "2649  Default   10183.000000         korea   10183.000000   3.0000   3.0000\n",
       "43    Default   11492.000000           job   11492.000000   2.0000   2.0000\n",
       "240   Default   10498.000000            un   10498.000000   1.0000   1.0000\n",
       "...       ...            ...           ...            ...      ...      ...\n",
       "8168  Topic20     478.529083       malaria     479.479492   3.6215  -6.4029\n",
       "3573  Topic20     594.342102        frisco     595.916870   3.6209  -6.1861\n",
       "1075  Topic20    4736.590820        banksy    4924.340820   3.5847  -4.1105\n",
       "2227  Topic20    1919.254639        artist    1969.005371   3.5979  -5.0139\n",
       "2904  Topic20     697.709351    biological     701.587524   3.6180  -6.0258\n",
       "3563  Topic20    3522.028320       disease    3687.611328   3.5776  -4.4068\n",
       "853   Topic20    5902.355469         mosul    7561.750977   3.3758  -3.8905\n",
       "1275  Topic20    4152.386230        health    9488.972656   2.7971  -4.2421\n",
       "1258  Topic20     851.383362        deadly    1066.487549   3.3983  -5.8267\n",
       "1724  Topic20    1866.884033        africa    3700.454834   2.9393  -5.0415\n",
       "282   Topic20    3524.307373      hospital   11174.905273   2.4695  -4.4061\n",
       "3559  Topic20     822.760681        dallas    1054.102051   3.3757  -5.8609\n",
       "400   Topic20    3225.878906          case   12429.485352   2.2747  -4.4946\n",
       "746   Topic20    3583.485840          city   16386.361328   2.1034  -4.3895\n",
       "817   Topic20    2737.919434         iraqi   10679.412109   2.2624  -4.6586\n",
       "818   Topic20    4557.307129           isi   34001.812500   1.6138  -4.1491\n",
       "816   Topic20    3309.994141          iraq   19261.007812   1.8624  -4.4689\n",
       "356   Topic20    4636.897461        report   41320.796875   1.4362  -4.1318\n",
       "58    Topic20    3771.904785      official   30180.775391   1.5439  -4.3382\n",
       "775   Topic20    1381.118164      document    3467.060303   2.7031  -5.3429\n",
       "889   Topic20    2571.436279      reported   22300.958984   1.4634  -4.7214\n",
       "758   Topic20    2120.492432       country   13757.287109   1.7536  -4.9142\n",
       "1814  Topic20    1532.961060  organization    5593.691895   2.3291  -5.2386\n",
       "847   Topic20    2352.525879      militant   21493.009766   1.4113  -4.8103\n",
       "346   Topic20    2092.693115        medium   19338.236328   1.3999  -4.9274\n",
       "101   Topic20    1680.193726          area    9741.247070   1.8661  -5.1469\n",
       "210   Topic20    2546.245361          said  130182.039062  -0.3108  -4.7312\n",
       "76    Topic20    1775.764404        source   20733.394531   1.1660  -5.0916\n",
       "694   Topic20    1573.679443         world   13412.466797   1.4808  -5.2124\n",
       "322   Topic20    1559.471313          told   34086.027344   0.5390  -5.2215\n",
       "\n",
       "[1335 rows x 6 columns], token_table=       Topic      Freq     Term\n",
       "term                           \n",
       "90         1  0.017587      000\n",
       "90         2  0.000384      000\n",
       "90         3  0.000230      000\n",
       "90         6  0.469391      000\n",
       "90         7  0.011827      000\n",
       "90         9  0.007296      000\n",
       "90        11  0.070654      000\n",
       "90        12  0.162735      000\n",
       "90        13  0.000307      000\n",
       "90        14  0.168803      000\n",
       "90        16  0.040319      000\n",
       "90        18  0.025036      000\n",
       "90        20  0.025420      000\n",
       "91         2  0.084981      100\n",
       "91         3  0.171154      100\n",
       "91         6  0.150107      100\n",
       "91         7  0.026408      100\n",
       "91        10  0.011318      100\n",
       "91        11  0.022040      100\n",
       "91        12  0.533914      100\n",
       "91        13  0.000199      100\n",
       "1993       1  0.060019       11\n",
       "1993       2  0.000216       11\n",
       "1993       3  0.138173       11\n",
       "1993       4  0.012522       11\n",
       "1993       6  0.095209       11\n",
       "1993       7  0.013817       11\n",
       "1993       8  0.003130       11\n",
       "1993       9  0.044042       11\n",
       "1993      11  0.473133       11\n",
       "...      ...       ...      ...\n",
       "88        19  0.003896     year\n",
       "9054       5  0.993975    yemen\n",
       "9054       8  0.005902    yemen\n",
       "9760       5  0.999280   yemeni\n",
       "10642     14  0.998241     yeti\n",
       "2678      10  0.999623       yo\n",
       "960        1  0.001622     york\n",
       "960        2  0.221354     york\n",
       "960        3  0.003243     york\n",
       "960        4  0.051352     york\n",
       "960        5  0.030406     york\n",
       "960        7  0.006351     york\n",
       "960       10  0.004460     york\n",
       "960       11  0.012027     york\n",
       "960       13  0.102974     york\n",
       "960       14  0.171219     york\n",
       "960       17  0.394195     york\n",
       "960       20  0.000676     york\n",
       "1337       1  0.018227  youtube\n",
       "1337       4  0.182269  youtube\n",
       "1337       5  0.186300  youtube\n",
       "1337      12  0.538219  youtube\n",
       "1337      14  0.072732  youtube\n",
       "1337      18  0.002103  youtube\n",
       "4599       8  0.998427      ypg\n",
       "5006      19  0.999775    zehaf\n",
       "17153      8  0.998609     zeid\n",
       "2064       3  0.998470     zero\n",
       "4835       5  0.999268     zone\n",
       "15670     15  0.999209        à\n",
       "\n",
       "[4040 rows x 3 columns], R=30, lambda_step=0.01, plot_opts={'xlab': 'PC1', 'ylab': 'PC2'}, topic_order=[18, 10, 3, 14, 9, 8, 15, 4, 13, 7, 1, 20, 2, 19, 6, 5, 17, 11, 12, 16])"
      ]
     },
     "execution_count": 113,
     "metadata": {},
     "output_type": "execute_result"
    }
   ],
   "source": [
    "pyLDAvis.gensim.prepare(ldamodel, corpus, dictionary)"
   ]
  },
  {
   "cell_type": "markdown",
   "metadata": {},
   "source": [
    "## latent Dirichlet allocation on Headline\n",
    "\n",
    "Visualizing the similarities between topics in the Headlines. "
   ]
  },
  {
   "cell_type": "code",
   "execution_count": 114,
   "metadata": {},
   "outputs": [],
   "source": [
    "dictionary = corpora.Dictionary(list(df_all['Headline']))\n",
    "\n",
    "corpus = [dictionary.doc2bow(text) for text in df_all['Headline']]\n",
    "\n",
    "ldamodel = models.ldamodel.LdaModel(corpus,                     # pass in our corpus\n",
    "                                    id2word = dictionary,       # matches each word to its \"number\" or \"spot\" in the dictionary\n",
    "                                    num_topics = 20,             # number of topics T to find\n",
    "                                    passes = 5,                 # number of passes through corpus; similar to number of epochs\n",
    "                                    minimum_probability = 0.01) # only include topics above this probability threshold"
   ]
  },
  {
   "cell_type": "code",
   "execution_count": 115,
   "metadata": {
    "scrolled": true
   },
   "outputs": [
    {
     "data": {
      "text/html": [
       "\n",
       "<link rel=\"stylesheet\" type=\"text/css\" href=\"https://cdn.rawgit.com/bmabey/pyLDAvis/files/ldavis.v1.0.0.css\">\n",
       "\n",
       "\n",
       "<div id=\"ldavis_el3019748212403522762718893\"></div>\n",
       "<script type=\"text/javascript\">\n",
       "\n",
       "var ldavis_el3019748212403522762718893_data = {\"mdsDat\": {\"Freq\": [7.175739288330078, 6.986012935638428, 6.434521198272705, 6.159083366394043, 5.968647480010986, 5.822700500488281, 5.576652526855469, 5.277154445648193, 4.846415996551514, 4.759068965911865, 4.680370330810547, 4.676739692687988, 4.4246392250061035, 4.332467079162598, 4.28141975402832, 4.159107208251953, 3.9892666339874268, 3.813821792602539, 3.670226812362671, 2.9659414291381836], \"cluster\": [1, 1, 1, 1, 1, 1, 1, 1, 1, 1, 1, 1, 1, 1, 1, 1, 1, 1, 1, 1], \"topics\": [1, 2, 3, 4, 5, 6, 7, 8, 9, 10, 11, 12, 13, 14, 15, 16, 17, 18, 19, 20], \"x\": [0.1605645436706877, -0.05530077616540467, -0.047171173981781944, 0.03337483510333699, 0.17235885897544365, 0.031228510281752928, 0.031246142855455482, 0.1909325608505671, -0.2621795808964831, 0.15068359640028703, -0.26563630415752004, -0.08066174110768595, 0.22081027580966245, -0.11229698931302902, -0.0793506581379174, -0.0788808246643595, 0.03814453718353541, 0.042447031854176046, -0.1520542401158837, 0.06174139555516295], \"y\": [-0.23676559996180416, 0.09298702398176091, 0.08003288021048158, -0.11865426314337162, 0.1333937306180808, 0.18413000684785508, -0.03935737986067704, 0.0638090394649069, 0.06800163125888015, 0.09640062231898841, 0.023131864834290392, 0.04970328137008726, -0.04485532625367671, -0.026703008500738527, -0.04112768586306496, -0.18655492564035395, -0.16517746485865803, 0.22068603451715352, -0.09338975393974659, -0.05969070740039406]}, \"tinfo\": {\"Category\": [\"Default\", \"Default\", \"Default\", \"Default\", \"Default\", \"Default\", \"Default\", \"Default\", \"Default\", \"Default\", \"Default\", \"Default\", \"Default\", \"Default\", \"Default\", \"Default\", \"Default\", \"Default\", \"Default\", \"Default\", \"Default\", \"Default\", \"Default\", \"Default\", \"Default\", \"Default\", \"Default\", \"Default\", \"Default\", \"Default\", \"Topic1\", \"Topic1\", \"Topic1\", \"Topic1\", \"Topic1\", \"Topic1\", \"Topic1\", \"Topic1\", \"Topic1\", \"Topic1\", \"Topic1\", \"Topic1\", \"Topic1\", \"Topic1\", \"Topic1\", \"Topic1\", \"Topic1\", \"Topic1\", \"Topic1\", \"Topic1\", \"Topic1\", \"Topic1\", \"Topic1\", \"Topic1\", \"Topic1\", \"Topic1\", \"Topic1\", \"Topic1\", \"Topic1\", \"Topic1\", \"Topic1\", \"Topic1\", \"Topic1\", \"Topic1\", \"Topic1\", \"Topic1\", \"Topic1\", \"Topic1\", \"Topic1\", \"Topic1\", \"Topic1\", \"Topic1\", \"Topic1\", \"Topic1\", \"Topic1\", \"Topic1\", \"Topic1\", \"Topic1\", \"Topic1\", \"Topic1\", \"Topic1\", \"Topic1\", \"Topic1\", \"Topic1\", \"Topic2\", \"Topic2\", \"Topic2\", \"Topic2\", \"Topic2\", \"Topic2\", \"Topic2\", \"Topic2\", \"Topic2\", \"Topic2\", \"Topic2\", \"Topic2\", \"Topic2\", \"Topic2\", \"Topic2\", \"Topic2\", \"Topic2\", \"Topic2\", \"Topic2\", \"Topic2\", \"Topic2\", \"Topic2\", \"Topic2\", \"Topic2\", \"Topic2\", \"Topic2\", \"Topic2\", \"Topic2\", \"Topic2\", \"Topic2\", \"Topic2\", \"Topic2\", \"Topic2\", \"Topic2\", \"Topic2\", \"Topic2\", \"Topic2\", \"Topic2\", \"Topic2\", \"Topic2\", \"Topic2\", \"Topic2\", \"Topic2\", \"Topic2\", \"Topic2\", \"Topic2\", \"Topic2\", \"Topic2\", \"Topic2\", \"Topic2\", \"Topic2\", \"Topic2\", \"Topic2\", \"Topic3\", \"Topic3\", \"Topic3\", \"Topic3\", \"Topic3\", \"Topic3\", \"Topic3\", \"Topic3\", \"Topic3\", \"Topic3\", \"Topic3\", \"Topic3\", \"Topic3\", \"Topic3\", \"Topic3\", \"Topic3\", \"Topic3\", \"Topic3\", \"Topic3\", \"Topic3\", \"Topic3\", \"Topic3\", \"Topic3\", \"Topic3\", \"Topic3\", \"Topic3\", \"Topic3\", \"Topic3\", \"Topic3\", \"Topic3\", \"Topic3\", \"Topic3\", \"Topic3\", \"Topic3\", \"Topic3\", \"Topic3\", \"Topic3\", \"Topic3\", \"Topic3\", \"Topic3\", \"Topic3\", \"Topic3\", \"Topic3\", \"Topic3\", \"Topic3\", \"Topic3\", \"Topic3\", \"Topic3\", \"Topic4\", \"Topic4\", \"Topic4\", \"Topic4\", \"Topic4\", \"Topic4\", \"Topic4\", \"Topic4\", \"Topic4\", \"Topic4\", \"Topic4\", \"Topic4\", \"Topic4\", \"Topic4\", \"Topic4\", \"Topic4\", \"Topic4\", \"Topic4\", \"Topic4\", \"Topic4\", \"Topic4\", \"Topic4\", \"Topic4\", \"Topic4\", \"Topic4\", \"Topic4\", \"Topic4\", \"Topic4\", \"Topic4\", \"Topic4\", \"Topic4\", \"Topic4\", \"Topic4\", \"Topic4\", \"Topic4\", \"Topic4\", \"Topic4\", \"Topic4\", \"Topic4\", \"Topic4\", \"Topic4\", \"Topic4\", \"Topic4\", \"Topic4\", \"Topic4\", \"Topic4\", \"Topic4\", \"Topic4\", \"Topic5\", \"Topic5\", \"Topic5\", \"Topic5\", \"Topic5\", \"Topic5\", \"Topic5\", \"Topic5\", \"Topic5\", \"Topic5\", \"Topic5\", \"Topic5\", \"Topic5\", \"Topic5\", \"Topic5\", \"Topic5\", \"Topic5\", \"Topic5\", \"Topic5\", \"Topic5\", \"Topic5\", \"Topic5\", \"Topic5\", \"Topic5\", \"Topic5\", \"Topic5\", \"Topic5\", \"Topic5\", \"Topic5\", \"Topic5\", \"Topic5\", \"Topic5\", \"Topic5\", \"Topic5\", \"Topic5\", \"Topic5\", \"Topic5\", \"Topic5\", \"Topic5\", \"Topic5\", \"Topic5\", \"Topic5\", \"Topic5\", \"Topic5\", \"Topic5\", \"Topic5\", \"Topic5\", \"Topic5\", \"Topic5\", \"Topic5\", \"Topic5\", \"Topic5\", \"Topic5\", \"Topic5\", \"Topic5\", \"Topic5\", \"Topic5\", \"Topic6\", \"Topic6\", \"Topic6\", \"Topic6\", \"Topic6\", \"Topic6\", \"Topic6\", \"Topic6\", \"Topic6\", \"Topic6\", \"Topic6\", \"Topic6\", \"Topic6\", \"Topic6\", \"Topic6\", \"Topic6\", \"Topic6\", \"Topic6\", \"Topic6\", \"Topic6\", \"Topic6\", \"Topic6\", \"Topic6\", \"Topic6\", \"Topic6\", \"Topic6\", \"Topic6\", \"Topic6\", \"Topic6\", \"Topic6\", \"Topic6\", \"Topic6\", \"Topic6\", \"Topic6\", \"Topic6\", \"Topic6\", \"Topic6\", \"Topic6\", \"Topic6\", \"Topic6\", \"Topic6\", \"Topic6\", \"Topic6\", \"Topic6\", \"Topic6\", \"Topic6\", \"Topic6\", \"Topic7\", \"Topic7\", \"Topic7\", \"Topic7\", \"Topic7\", \"Topic7\", \"Topic7\", \"Topic7\", \"Topic7\", \"Topic7\", \"Topic7\", \"Topic7\", \"Topic7\", \"Topic7\", \"Topic7\", \"Topic7\", \"Topic7\", \"Topic7\", \"Topic7\", \"Topic7\", \"Topic7\", \"Topic7\", \"Topic7\", \"Topic7\", \"Topic7\", \"Topic7\", \"Topic7\", \"Topic7\", \"Topic7\", \"Topic7\", \"Topic7\", \"Topic7\", \"Topic7\", \"Topic7\", \"Topic7\", \"Topic7\", \"Topic7\", \"Topic7\", \"Topic7\", \"Topic7\", \"Topic7\", \"Topic7\", \"Topic7\", \"Topic7\", \"Topic7\", \"Topic7\", \"Topic7\", \"Topic7\", \"Topic7\", \"Topic7\", \"Topic7\", \"Topic7\", \"Topic8\", \"Topic8\", \"Topic8\", \"Topic8\", \"Topic8\", \"Topic8\", \"Topic8\", \"Topic8\", \"Topic8\", \"Topic8\", \"Topic8\", \"Topic8\", \"Topic8\", \"Topic8\", \"Topic8\", \"Topic8\", \"Topic8\", \"Topic8\", \"Topic8\", \"Topic8\", \"Topic8\", \"Topic8\", \"Topic8\", \"Topic8\", \"Topic8\", \"Topic8\", \"Topic8\", \"Topic8\", \"Topic8\", \"Topic8\", \"Topic8\", \"Topic8\", \"Topic8\", \"Topic8\", \"Topic8\", \"Topic8\", \"Topic8\", \"Topic8\", \"Topic8\", \"Topic8\", \"Topic8\", \"Topic8\", \"Topic8\", \"Topic8\", \"Topic8\", \"Topic8\", \"Topic8\", \"Topic8\", \"Topic8\", \"Topic8\", \"Topic8\", \"Topic9\", \"Topic9\", \"Topic9\", \"Topic9\", \"Topic9\", \"Topic9\", \"Topic9\", \"Topic9\", \"Topic9\", \"Topic9\", \"Topic9\", \"Topic9\", \"Topic9\", \"Topic9\", \"Topic9\", \"Topic9\", \"Topic9\", \"Topic9\", \"Topic9\", \"Topic9\", \"Topic9\", \"Topic9\", \"Topic9\", \"Topic9\", \"Topic9\", \"Topic9\", \"Topic9\", \"Topic9\", \"Topic9\", \"Topic9\", \"Topic9\", \"Topic9\", \"Topic9\", \"Topic9\", \"Topic9\", \"Topic9\", \"Topic9\", \"Topic9\", \"Topic9\", \"Topic9\", \"Topic9\", \"Topic9\", \"Topic9\", \"Topic9\", \"Topic9\", \"Topic9\", \"Topic9\", \"Topic9\", \"Topic9\", \"Topic9\", \"Topic9\", \"Topic10\", \"Topic10\", \"Topic10\", \"Topic10\", \"Topic10\", \"Topic10\", \"Topic10\", \"Topic10\", \"Topic10\", \"Topic10\", \"Topic10\", \"Topic10\", \"Topic10\", \"Topic10\", \"Topic10\", \"Topic10\", \"Topic10\", \"Topic10\", \"Topic10\", \"Topic10\", \"Topic10\", \"Topic10\", \"Topic10\", \"Topic10\", \"Topic10\", \"Topic10\", \"Topic10\", \"Topic10\", \"Topic10\", \"Topic10\", \"Topic10\", \"Topic10\", \"Topic10\", \"Topic10\", \"Topic10\", \"Topic10\", \"Topic10\", \"Topic10\", \"Topic10\", \"Topic10\", \"Topic10\", \"Topic10\", \"Topic10\", \"Topic10\", \"Topic10\", \"Topic10\", \"Topic10\", \"Topic10\", \"Topic10\", \"Topic11\", \"Topic11\", \"Topic11\", \"Topic11\", \"Topic11\", \"Topic11\", \"Topic11\", \"Topic11\", \"Topic11\", \"Topic11\", \"Topic11\", \"Topic11\", \"Topic11\", \"Topic11\", \"Topic11\", \"Topic11\", \"Topic11\", \"Topic11\", \"Topic11\", \"Topic11\", \"Topic11\", \"Topic11\", \"Topic11\", \"Topic11\", \"Topic11\", \"Topic11\", \"Topic11\", \"Topic11\", \"Topic11\", \"Topic11\", \"Topic11\", \"Topic11\", \"Topic11\", \"Topic11\", \"Topic11\", \"Topic11\", \"Topic11\", \"Topic11\", \"Topic11\", \"Topic11\", \"Topic11\", \"Topic11\", \"Topic11\", \"Topic11\", \"Topic11\", \"Topic11\", \"Topic11\", \"Topic11\", \"Topic11\", \"Topic11\", \"Topic11\", \"Topic11\", \"Topic11\", \"Topic12\", \"Topic12\", \"Topic12\", \"Topic12\", \"Topic12\", \"Topic12\", \"Topic12\", \"Topic12\", \"Topic12\", \"Topic12\", \"Topic12\", \"Topic12\", \"Topic12\", \"Topic12\", \"Topic12\", \"Topic12\", \"Topic12\", \"Topic12\", \"Topic12\", \"Topic12\", \"Topic12\", \"Topic12\", \"Topic12\", \"Topic12\", \"Topic12\", \"Topic12\", \"Topic12\", \"Topic12\", \"Topic12\", \"Topic12\", \"Topic12\", \"Topic12\", \"Topic12\", \"Topic12\", \"Topic12\", \"Topic12\", \"Topic12\", \"Topic12\", \"Topic12\", \"Topic12\", \"Topic12\", \"Topic12\", \"Topic12\", \"Topic12\", \"Topic12\", \"Topic12\", \"Topic12\", \"Topic13\", \"Topic13\", \"Topic13\", \"Topic13\", \"Topic13\", \"Topic13\", \"Topic13\", \"Topic13\", \"Topic13\", \"Topic13\", \"Topic13\", \"Topic13\", \"Topic13\", \"Topic13\", \"Topic13\", \"Topic13\", \"Topic13\", \"Topic13\", \"Topic13\", \"Topic13\", \"Topic13\", \"Topic13\", \"Topic13\", \"Topic13\", \"Topic13\", \"Topic13\", \"Topic13\", \"Topic13\", \"Topic13\", \"Topic13\", \"Topic13\", \"Topic13\", \"Topic13\", \"Topic13\", \"Topic13\", \"Topic13\", \"Topic13\", \"Topic13\", \"Topic13\", \"Topic13\", \"Topic13\", \"Topic13\", \"Topic13\", \"Topic13\", \"Topic13\", \"Topic13\", \"Topic13\", \"Topic13\", \"Topic13\", \"Topic13\", \"Topic13\", \"Topic13\", \"Topic13\", \"Topic13\", \"Topic13\", \"Topic13\", \"Topic13\", \"Topic14\", \"Topic14\", \"Topic14\", \"Topic14\", \"Topic14\", \"Topic14\", \"Topic14\", \"Topic14\", \"Topic14\", \"Topic14\", \"Topic14\", \"Topic14\", \"Topic14\", \"Topic14\", \"Topic14\", \"Topic14\", \"Topic14\", \"Topic14\", \"Topic14\", \"Topic14\", \"Topic14\", \"Topic14\", \"Topic14\", \"Topic14\", \"Topic14\", \"Topic14\", \"Topic14\", \"Topic14\", \"Topic14\", \"Topic14\", \"Topic14\", \"Topic14\", \"Topic14\", \"Topic14\", \"Topic14\", \"Topic14\", \"Topic14\", \"Topic14\", \"Topic14\", \"Topic14\", \"Topic14\", \"Topic14\", \"Topic14\", \"Topic14\", \"Topic14\", \"Topic14\", \"Topic15\", \"Topic15\", \"Topic15\", \"Topic15\", \"Topic15\", \"Topic15\", \"Topic15\", \"Topic15\", \"Topic15\", \"Topic15\", \"Topic15\", \"Topic15\", \"Topic15\", \"Topic15\", \"Topic15\", \"Topic15\", \"Topic15\", \"Topic15\", \"Topic15\", \"Topic15\", \"Topic15\", \"Topic15\", \"Topic15\", \"Topic15\", \"Topic15\", \"Topic15\", \"Topic15\", \"Topic15\", \"Topic15\", \"Topic15\", \"Topic15\", \"Topic15\", \"Topic15\", \"Topic15\", \"Topic15\", \"Topic15\", \"Topic15\", \"Topic15\", \"Topic15\", \"Topic15\", \"Topic15\", \"Topic15\", \"Topic15\", \"Topic15\", \"Topic15\", \"Topic15\", \"Topic15\", \"Topic15\", \"Topic15\", \"Topic15\", \"Topic15\", \"Topic16\", \"Topic16\", \"Topic16\", \"Topic16\", \"Topic16\", \"Topic16\", \"Topic16\", \"Topic16\", \"Topic16\", \"Topic16\", \"Topic16\", \"Topic16\", \"Topic16\", \"Topic16\", \"Topic16\", \"Topic16\", \"Topic16\", \"Topic16\", \"Topic16\", \"Topic16\", \"Topic16\", \"Topic16\", \"Topic16\", \"Topic16\", \"Topic16\", \"Topic16\", \"Topic16\", \"Topic16\", \"Topic16\", \"Topic16\", \"Topic16\", \"Topic16\", \"Topic16\", \"Topic16\", \"Topic16\", \"Topic16\", \"Topic16\", \"Topic16\", \"Topic16\", \"Topic16\", \"Topic16\", \"Topic16\", \"Topic16\", \"Topic16\", \"Topic16\", \"Topic16\", \"Topic16\", \"Topic16\", \"Topic16\", \"Topic16\", \"Topic16\", \"Topic16\", \"Topic16\", \"Topic16\", \"Topic17\", \"Topic17\", \"Topic17\", \"Topic17\", \"Topic17\", \"Topic17\", \"Topic17\", \"Topic17\", \"Topic17\", \"Topic17\", \"Topic17\", \"Topic17\", \"Topic17\", \"Topic17\", \"Topic17\", \"Topic17\", \"Topic17\", \"Topic17\", \"Topic17\", \"Topic17\", \"Topic17\", \"Topic17\", \"Topic17\", \"Topic17\", \"Topic17\", \"Topic17\", \"Topic17\", \"Topic17\", \"Topic17\", \"Topic17\", \"Topic17\", \"Topic17\", \"Topic17\", \"Topic17\", \"Topic17\", \"Topic17\", \"Topic17\", \"Topic17\", \"Topic17\", \"Topic17\", \"Topic17\", \"Topic17\", \"Topic17\", \"Topic17\", \"Topic17\", \"Topic17\", \"Topic17\", \"Topic17\", \"Topic17\", \"Topic17\", \"Topic17\", \"Topic17\", \"Topic17\", \"Topic17\", \"Topic18\", \"Topic18\", \"Topic18\", \"Topic18\", \"Topic18\", \"Topic18\", \"Topic18\", \"Topic18\", \"Topic18\", \"Topic18\", \"Topic18\", \"Topic18\", \"Topic18\", \"Topic18\", \"Topic18\", \"Topic18\", \"Topic18\", \"Topic18\", \"Topic18\", \"Topic18\", \"Topic18\", \"Topic18\", \"Topic18\", \"Topic18\", \"Topic18\", \"Topic18\", \"Topic18\", \"Topic18\", \"Topic18\", \"Topic18\", \"Topic18\", \"Topic18\", \"Topic18\", \"Topic18\", \"Topic18\", \"Topic18\", \"Topic18\", \"Topic18\", \"Topic18\", \"Topic18\", \"Topic18\", \"Topic18\", \"Topic18\", \"Topic18\", \"Topic18\", \"Topic18\", \"Topic18\", \"Topic18\", \"Topic18\", \"Topic18\", \"Topic18\", \"Topic19\", \"Topic19\", \"Topic19\", \"Topic19\", \"Topic19\", \"Topic19\", \"Topic19\", \"Topic19\", \"Topic19\", \"Topic19\", \"Topic19\", \"Topic19\", \"Topic19\", \"Topic19\", \"Topic19\", \"Topic19\", \"Topic19\", \"Topic19\", \"Topic19\", \"Topic19\", \"Topic19\", \"Topic19\", \"Topic19\", \"Topic19\", \"Topic19\", \"Topic19\", \"Topic19\", \"Topic19\", \"Topic19\", \"Topic19\", \"Topic19\", \"Topic19\", \"Topic19\", \"Topic19\", \"Topic19\", \"Topic19\", \"Topic19\", \"Topic19\", \"Topic19\", \"Topic19\", \"Topic19\", \"Topic19\", \"Topic19\", \"Topic19\", \"Topic19\", \"Topic19\", \"Topic19\", \"Topic19\", \"Topic19\", \"Topic20\", \"Topic20\", \"Topic20\", \"Topic20\", \"Topic20\", \"Topic20\", \"Topic20\", \"Topic20\", \"Topic20\", \"Topic20\", \"Topic20\", \"Topic20\", \"Topic20\", \"Topic20\", \"Topic20\", \"Topic20\", \"Topic20\", \"Topic20\", \"Topic20\", \"Topic20\", \"Topic20\", \"Topic20\", \"Topic20\", \"Topic20\", \"Topic20\", \"Topic20\", \"Topic20\", \"Topic20\", \"Topic20\", \"Topic20\", \"Topic20\", \"Topic20\", \"Topic20\", \"Topic20\", \"Topic20\", \"Topic20\", \"Topic20\", \"Topic20\", \"Topic20\", \"Topic20\", \"Topic20\", \"Topic20\", \"Topic20\", \"Topic20\", \"Topic20\", \"Topic20\", \"Topic20\", \"Topic20\", \"Topic20\", \"Topic20\", \"Topic20\"], \"Freq\": [2875.0, 6749.0, 2292.0, 2870.0, 2829.0, 2661.0, 2099.0, 3714.0, 1731.0, 2402.0, 1844.0, 1844.0, 1624.0, 1779.0, 2009.0, 2329.0, 1652.0, 2153.0, 1580.0, 2210.0, 2631.0, 1920.0, 1490.0, 1155.0, 1155.0, 1193.0, 1056.0, 1605.0, 1395.0, 1026.0, 792.9713745117188, 1008.8053588867188, 286.52001953125, 217.56784057617188, 200.76548767089844, 200.47760009765625, 189.16534423828125, 171.58436584472656, 146.2349853515625, 142.91322326660156, 138.36648559570312, 136.2649688720703, 134.23101806640625, 125.88581085205078, 125.88581085205078, 125.88581085205078, 114.79756927490234, 110.89839172363281, 110.0985336303711, 99.2598648071289, 95.46320343017578, 95.11837768554688, 93.42453002929688, 92.37467193603516, 86.84658813476562, 85.04025268554688, 82.85579681396484, 81.83161163330078, 80.08869934082031, 77.21263122558594, 2589.18359375, 2416.935302734375, 306.2274169921875, 1751.97509765625, 1538.7447509765625, 1848.53173828125, 701.5928955078125, 500.1890869140625, 1861.4208984375, 239.89161682128906, 235.07431030273438, 184.26425170898438, 317.0762023925781, 211.70260620117188, 949.8392333984375, 321.8274230957031, 429.44671630859375, 501.3822326660156, 404.4494934082031, 246.5094451904297, 517.0792846679688, 298.75238037109375, 354.1619873046875, 188.54188537597656, 1651.1007080078125, 1579.293701171875, 686.667724609375, 680.396728515625, 658.4141235351562, 565.4410400390625, 339.2346496582031, 286.87109375, 203.36129760742188, 200.3887176513672, 191.4350128173828, 185.453857421875, 155.8335723876953, 152.25865173339844, 148.58383178710938, 134.68919372558594, 126.85491180419922, 122.48489379882812, 113.46375274658203, 107.71548461914062, 107.71548461914062, 105.59003448486328, 101.14977264404297, 92.08847045898438, 91.10282135009766, 88.15576171875, 85.14734649658203, 84.75788879394531, 81.22472381591797, 73.8790283203125, 449.9371032714844, 1064.04052734375, 1064.04052734375, 1150.9078369140625, 307.55364990234375, 1564.3128662109375, 172.86390686035156, 325.0306091308594, 638.1716918945312, 305.3308410644531, 277.1401672363281, 336.00091552734375, 557.951416015625, 386.30023193359375, 332.8222961425781, 413.50335693359375, 214.6189422607422, 317.298095703125, 372.5081481933594, 337.8851623535156, 324.38916015625, 296.8066101074219, 226.3693084716797, 2291.783447265625, 2098.62744140625, 1778.6336669921875, 817.5681762695312, 697.2354736328125, 634.865966796875, 460.09381103515625, 444.9341125488281, 394.6261291503906, 320.06903076171875, 287.5259094238281, 222.32431030273438, 208.85903930664062, 208.2335968017578, 208.11700439453125, 198.383056640625, 173.55221557617188, 164.65650939941406, 145.34432983398438, 132.9766082763672, 121.9271469116211, 115.25865936279297, 108.17556762695312, 105.56157684326172, 104.63536834716797, 104.63536834716797, 102.94020080566406, 102.52909088134766, 101.3094482421875, 99.98590087890625, 1074.1884765625, 1008.834228515625, 560.831298828125, 346.7602844238281, 333.85357666015625, 380.5188293457031, 299.3264465332031, 274.08087158203125, 353.45037841796875, 402.3600158691406, 291.12542724609375, 458.4812927246094, 314.75335693359375, 402.3421325683594, 306.2497863769531, 243.3955841064453, 253.1682891845703, 219.359619140625, 1843.8619384765625, 1843.8619384765625, 943.6149291992188, 913.1637573242188, 467.1455383300781, 466.3001403808594, 459.7906188964844, 420.4530944824219, 397.2080993652344, 380.26226806640625, 278.08404541015625, 184.253662109375, 181.6205596923828, 168.60708618164062, 168.2286834716797, 150.7308807373047, 145.2216033935547, 138.81008911132812, 136.77261352539062, 134.0946044921875, 131.14178466796875, 126.2186279296875, 119.86428833007812, 119.86428833007812, 116.507568359375, 108.77120971679688, 107.80758666992188, 106.25613403320312, 91.90581512451172, 91.81704711914062, 91.81704711914062, 706.1594848632812, 476.27813720703125, 1010.8931274414062, 773.3672485351562, 593.3247680664062, 505.9541015625, 198.88937377929688, 577.1339721679688, 219.07205200195312, 698.0236206054688, 222.43203735351562, 204.7866668701172, 178.19351196289062, 203.93072509765625, 374.165283203125, 229.38949584960938, 217.48440551757812, 306.1789245605469, 283.8673095703125, 253.1417694091797, 235.52474975585938, 211.91554260253906, 209.80677795410156, 197.15481567382812, 194.8558349609375, 188.12783813476562, 183.14706420898438, 180.10848999023438, 170.6259002685547, 164.983642578125, 164.3626708984375, 147.96774291992188, 141.60862731933594, 135.64718627929688, 125.77364349365234, 120.97907257080078, 111.86507415771484, 111.86507415771484, 109.02552795410156, 105.14429473876953, 104.99957275390625, 101.25247955322266, 99.46287536621094, 91.147705078125, 84.29561614990234, 83.81745147705078, 82.78430938720703, 82.78430938720703, 765.3392944335938, 448.64874267578125, 298.650146484375, 1132.0592041015625, 458.6161193847656, 556.377197265625, 260.2894287109375, 864.32568359375, 306.5673828125, 317.90362548828125, 1592.832763671875, 398.6478271484375, 364.4627685546875, 774.8847045898438, 382.21392822265625, 272.2852478027344, 324.5173034667969, 243.8015594482422, 443.17718505859375, 256.4811706542969, 224.88124084472656, 325.8380126953125, 303.3191223144531, 256.7423400878906, 219.9964599609375, 212.38973999023438, 568.5481567382812, 486.1279296875, 486.1279296875, 486.1279296875, 429.5337219238281, 393.63427734375, 393.63427734375, 355.81280517578125, 355.81280517578125, 318.8733825683594, 300.841796875, 302.87957763671875, 294.28924560546875, 290.3218688964844, 284.08856201171875, 256.9191589355469, 217.21580505371094, 216.06613159179688, 216.06613159179688, 200.41822814941406, 200.24700927734375, 188.91465759277344, 158.22311401367188, 153.15899658203125, 150.92684936523438, 126.04505157470703, 109.71041870117188, 107.26303100585938, 87.78167724609375, 87.75048828125, 915.2490844726562, 322.1092529296875, 299.0884094238281, 268.18646240234375, 656.91943359375, 839.5744018554688, 398.13116455078125, 600.7550048828125, 284.8723449707031, 279.171875, 544.400146484375, 351.431396484375, 267.7654113769531, 349.38787841796875, 307.333984375, 323.49835205078125, 314.9254455566406, 598.6488647460938, 318.9383239746094, 318.9383239746094, 317.8992919921875, 309.22210693359375, 307.4088134765625, 239.51817321777344, 228.35594177246094, 218.1934051513672, 218.1934051513672, 207.95620727539062, 207.95620727539062, 194.9642791748047, 194.4105224609375, 187.90318298339844, 180.71029663085938, 174.4014434814453, 162.78379821777344, 151.31655883789062, 128.36842346191406, 115.73986053466797, 108.19972229003906, 107.77255249023438, 107.47880554199219, 106.67752075195312, 105.75057220458984, 105.75057220458984, 102.09505462646484, 100.62684631347656, 98.82669830322266, 396.1276550292969, 274.370361328125, 609.2509155273438, 392.1324768066406, 403.603759765625, 425.68572998046875, 212.80250549316406, 519.716552734375, 673.7548217773438, 469.3477478027344, 897.97216796875, 440.4787902832031, 343.06854248046875, 393.2862243652344, 596.9196166992188, 266.65594482421875, 339.4443359375, 363.47613525390625, 386.0295715332031, 267.529296875, 218.8625946044922, 233.06716918945312, 1055.5882568359375, 827.5565795898438, 449.6419372558594, 449.6419372558594, 438.30853271484375, 288.75103759765625, 283.4960021972656, 232.88848876953125, 193.2826690673828, 177.80776977539062, 154.15676879882812, 152.81349182128906, 152.81349182128906, 141.92494201660156, 135.56979370117188, 134.9605712890625, 126.734619140625, 116.42315673828125, 114.14420318603516, 106.04203796386719, 105.26478576660156, 95.87252044677734, 91.623779296875, 86.56512451171875, 80.57349395751953, 78.01448822021484, 78.01448822021484, 76.71623229980469, 75.30599975585938, 69.5839614868164, 717.4110107421875, 1660.2418212890625, 505.9130554199219, 376.15496826171875, 407.6925354003906, 180.80978393554688, 232.99801635742188, 216.8099365234375, 213.18162536621094, 710.3081665039062, 1014.3538208007812, 341.5658874511719, 1033.453369140625, 331.53607177734375, 407.8365173339844, 160.0806121826172, 206.63442993164062, 178.87266540527344, 189.30506896972656, 160.85269165039062, 161.8395233154297, 846.3751831054688, 626.6708374023438, 331.8798522949219, 331.8798522949219, 304.8821716308594, 266.8281555175781, 204.69244384765625, 193.69461059570312, 191.52342224121094, 147.91893005371094, 147.22666931152344, 127.5644760131836, 117.18013000488281, 111.10230255126953, 109.80033874511719, 109.34564971923828, 109.34564971923828, 104.89358520507812, 99.52901458740234, 97.15245056152344, 84.89815521240234, 84.54859924316406, 83.27597045898438, 78.05583190917969, 76.0182876586914, 71.61373138427734, 70.29408264160156, 68.5398941040039, 65.48381042480469, 64.98600769042969, 537.7723999023438, 314.507568359375, 278.3561706542969, 422.6524353027344, 535.1767578125, 1217.9954833984375, 533.1629638671875, 227.955078125, 164.0264434814453, 1071.1229248046875, 435.6199645996094, 200.94651794433594, 221.33148193359375, 343.9214782714844, 311.3294982910156, 265.4136962890625, 163.01678466796875, 171.65904235839844, 276.7439880371094, 167.4345703125, 163.01678466796875, 390.2874450683594, 370.35400390625, 368.8913879394531, 326.9884338378906, 298.58660888671875, 268.29571533203125, 253.68002319335938, 236.1293487548828, 214.3413848876953, 206.45375061035156, 191.9362030029297, 165.2914581298828, 164.8216094970703, 164.42239379882812, 161.76596069335938, 156.69017028808594, 124.01959991455078, 120.44791412353516, 117.39673614501953, 113.98764038085938, 113.9322509765625, 108.71429443359375, 105.03239440917969, 103.34988403320312, 96.65254211425781, 93.12049102783203, 90.0306167602539, 89.34693908691406, 87.59744262695312, 86.61554718017578, 704.0633544921875, 459.49346923828125, 290.14697265625, 412.269775390625, 326.20416259765625, 260.3685607910156, 285.1601867675781, 1018.0570678710938, 239.45494079589844, 191.6727752685547, 464.6156005859375, 211.0524139404297, 384.0523986816406, 379.5755920410156, 230.9688262939453, 296.4295349121094, 191.50454711914062, 195.97720336914062, 203.25653076171875, 432.7109680175781, 432.7109680175781, 304.6593017578125, 260.3944396972656, 204.97879028320312, 198.92056274414062, 177.90904235839844, 177.2298126220703, 171.7510528564453, 164.60365295410156, 164.60365295410156, 173.3182373046875, 128.0956573486328, 123.85042572021484, 120.47380065917969, 117.81891632080078, 117.81891632080078, 107.928955078125, 102.33304595947266, 100.6404037475586, 98.04922485351562, 90.73233032226562, 88.46014404296875, 81.9959487915039, 80.24586486816406, 76.70358276367188, 70.43482208251953, 67.4234390258789, 66.77316284179688, 64.036376953125, 503.5452880859375, 295.4426574707031, 150.4385223388672, 171.7510528564453, 1528.6138916015625, 407.4113464355469, 174.7572479248047, 303.79052734375, 207.51278686523438, 810.954345703125, 159.06431579589844, 356.2159423828125, 365.87310791015625, 721.7706909179688, 205.97439575195312, 197.02520751953125, 212.1443634033203, 268.5570068359375, 180.27554321289062, 171.7510528564453, 207.06968688964844, 168.3732147216797, 169.3049774169922, 1730.8009033203125, 1623.2431640625, 1154.6414794921875, 1154.6414794921875, 626.5968627929688, 450.08203125, 228.18185424804688, 215.7598419189453, 206.1644744873047, 191.53732299804688, 183.5159912109375, 179.50155639648438, 170.6384735107422, 165.91644287109375, 144.67591857910156, 144.6143341064453, 122.36624145507812, 110.92081451416016, 94.07424926757812, 91.14327239990234, 90.57933807373047, 89.889892578125, 89.889892578125, 88.63433074951172, 88.28520202636719, 84.98230743408203, 77.54332733154297, 73.72137451171875, 72.30696105957031, 69.5712661743164, 430.8501281738281, 1014.58056640625, 266.43646240234375, 172.70372009277344, 294.79449462890625, 139.01499938964844, 237.46937561035156, 155.7997283935547, 107.5513687133789, 198.87632751464844, 101.30420684814453, 121.08987426757812, 155.01890563964844, 131.08090209960938, 150.76559448242188, 140.88894653320312, 122.64036560058594, 338.9222106933594, 271.9188232421875, 240.4253387451172, 221.80999755859375, 213.73373413085938, 207.50643920898438, 205.4313201904297, 151.06336975097656, 125.07832336425781, 124.07154846191406, 118.73094177246094, 112.68936157226562, 94.74716186523438, 90.44085693359375, 87.20761108398438, 84.81168365478516, 84.61884307861328, 83.59935760498047, 83.59935760498047, 83.59935760498047, 82.00641632080078, 78.26399993896484, 77.5740966796875, 77.34748840332031, 75.2757797241211, 69.94750213623047, 69.5258560180664, 66.40924072265625, 65.56092834472656, 60.17399215698242, 363.0451965332031, 210.71206665039062, 401.4209289550781, 171.58023071289062, 213.99563598632812, 941.3863525390625, 507.2895812988281, 213.19036865234375, 1259.893798828125, 941.0796508789062, 114.1310806274414, 1147.114501953125, 113.33576965332031, 150.9290313720703, 285.2314758300781, 144.34619140625, 373.46923828125, 259.5444030761719, 200.9445037841797, 289.980712890625, 171.30877685546875, 312.51959228515625, 190.36456298828125, 276.9924011230469, 225.53399658203125, 184.2677459716797, 189.7294158935547, 651.4899291992188, 553.9141235351562, 500.680908203125, 500.680908203125, 500.680908203125, 460.678955078125, 460.678955078125, 460.678955078125, 460.678955078125, 398.0078125, 386.8506164550781, 341.5984802246094, 334.4701843261719, 303.28790283203125, 220.3920135498047, 188.69346618652344, 163.14405822753906, 137.74075317382812, 128.8736114501953, 127.53465270996094, 115.54632568359375, 112.9316177368164, 109.09608459472656, 99.7719497680664, 129.85206604003906, 82.6644058227539, 81.83187866210938, 81.78193664550781, 80.56623077392578, 79.98342895507812, 135.0167999267578, 323.39031982421875, 335.0874938964844, 196.92039489746094, 287.2945251464844, 255.95005798339844, 280.3448791503906, 342.4599304199219, 212.4182586669922, 341.2052001953125, 305.7637023925781, 245.20204162597656, 145.31040954589844, 214.1247100830078, 282.5998229980469, 228.4296112060547, 326.61322021484375, 250.91751098632812, 232.74664306640625, 232.5533905029297, 231.06463623046875, 225.2747039794922, 185.89706420898438, 179.05638122558594, 132.50343322753906, 130.8939208984375, 126.35706329345703, 103.39414978027344, 103.39414978027344, 101.7267074584961, 101.71696472167969, 100.54124450683594, 100.00885772705078, 97.1893081665039, 94.2557601928711, 92.68370819091797, 89.91175079345703, 88.11539459228516, 86.93572998046875, 84.93710327148438, 83.08865356445312, 82.51339721679688, 75.10469818115234, 74.54338836669922, 74.26961517333984, 73.0993881225586, 506.4663391113281, 200.09217834472656, 344.4867858886719, 122.9384536743164, 176.68789672851562, 377.3638000488281, 400.4284362792969, 269.867431640625, 132.55191040039062, 164.64559936523438, 160.77182006835938, 147.69989013671875, 190.7539825439453, 309.933349609375, 147.5650177001953, 262.9145202636719, 155.4728240966797, 128.4899444580078, 163.35580444335938, 166.4114532470703, 140.09523010253906, 695.18017578125, 347.61627197265625, 347.61627197265625, 187.49124145507812, 179.94992065429688, 161.97174072265625, 157.87435913085938, 133.17852783203125, 118.64476013183594, 113.21734619140625, 102.97664642333984, 102.4239273071289, 99.48245239257812, 92.24824523925781, 91.88758850097656, 91.23670959472656, 90.25236511230469, 87.70631408691406, 82.1730728149414, 76.5385971069336, 75.80426025390625, 73.40235137939453, 70.99992370605469, 69.1792984008789, 67.6252212524414, 64.35980987548828, 64.00345611572266, 61.5368766784668, 60.7390251159668, 60.731719970703125, 598.3079833984375, 194.31549072265625, 413.1933898925781, 586.21484375, 131.91014099121094, 168.23887634277344, 476.7493896484375, 255.57933044433594, 146.06655883789062, 799.0504760742188, 301.433837890625, 298.6053161621094, 141.8856658935547, 149.00767517089844, 552.4031372070312, 228.6248779296875, 137.59405517578125, 249.75746154785156, 173.23475646972656, 223.0003204345703, 225.91761779785156, 274.54119873046875, 145.40194702148438, 146.2053985595703, 630.893310546875, 396.31744384765625, 282.6764831542969, 250.52748107910156, 227.49783325195312, 207.47486877441406, 200.19569396972656, 196.07884216308594, 155.85008239746094, 138.1423797607422, 136.86105346679688, 136.1996307373047, 123.7684097290039, 123.53350830078125, 110.28260803222656, 109.9300537109375, 109.88102722167969, 105.02615356445312, 103.15562438964844, 92.95369720458984, 84.8818359375, 78.58147430419922, 75.34622955322266, 73.66532135009766, 69.37552642822266, 66.37843322753906, 65.22529602050781, 64.65970611572266, 62.158836364746094, 56.269691467285156, 901.0518188476562, 160.32681274414062, 273.15130615234375, 138.07369995117188, 489.9087219238281, 94.76725006103516, 418.6458435058594, 704.4646606445312, 136.67698669433594, 126.55887603759766, 230.55149841308594, 242.97462463378906, 218.95526123046875, 180.2813720703125, 234.65335083007812, 370.607421875, 237.13771057128906, 149.6065216064453, 155.27255249023438, 192.12159729003906, 212.11300659179688, 243.83990478515625, 158.1583251953125, 160.18435668945312, 321.41668701171875, 311.6407470703125, 302.4753723144531, 228.4951629638672, 208.04635620117188, 201.68038940429688, 198.10601806640625, 166.0745086669922, 162.1941680908203, 161.6334228515625, 157.17724609375, 155.33055114746094, 151.07565307617188, 150.44766235351562, 150.44766235351562, 134.47048950195312, 127.68383026123047, 125.2414321899414, 109.75328063964844, 97.0431900024414, 96.5065689086914, 92.78742980957031, 92.69319152832031, 82.010498046875, 82.010498046875, 82.010498046875, 77.71261596679688, 73.59893035888672, 72.2203598022461, 66.3231201171875, 299.34686279296875, 225.35487365722656, 266.5873718261719, 136.9689483642578, 207.6003875732422, 156.45387268066406, 129.6615447998047, 220.44227600097656, 145.97128295898438, 263.3128967285156, 373.2945556640625, 182.556640625, 192.1038055419922, 279.3829345703125, 179.91940307617188, 215.60714721679688, 176.57334899902344, 161.7637481689453, 190.3621826171875, 181.40426635742188, 158.56483459472656, 604.9957275390625, 268.3905334472656, 257.3336486816406, 256.77801513671875, 195.37344360351562, 175.07806396484375, 173.37722778320312, 171.3765411376953, 165.05538940429688, 161.031494140625, 153.91111755371094, 140.91627502441406, 136.43408203125, 136.43408203125, 130.09080505371094, 124.63265228271484, 118.85478210449219, 115.09505462646484, 115.09505462646484, 112.56200408935547, 100.20457458496094, 98.07353210449219, 90.35712432861328, 90.09857940673828, 88.495361328125, 87.91832733154297, 87.91832733154297, 83.16305541992188, 72.7302474975586, 71.68152618408203, 193.82896423339844, 244.65818786621094, 549.2398681640625, 301.60015869140625, 202.27069091796875, 206.68724060058594, 221.29635620117188, 217.42343139648438, 245.74684143066406, 156.04342651367188, 144.8472900390625, 181.5599365234375, 138.84262084960938, 148.99217224121094, 155.2443084716797, 172.34132385253906, 177.1759490966797, 151.9095916748047, 141.91258239746094, 701.5958862304688, 583.24365234375, 430.39276123046875, 228.51751708984375, 213.67893981933594, 193.9705810546875, 181.28968811035156, 146.2278594970703, 119.61017608642578, 115.92383575439453, 104.27598571777344, 103.57655334472656, 102.10897064208984, 101.77071380615234, 95.75634002685547, 89.17670440673828, 87.34278106689453, 81.00245666503906, 73.14439392089844, 71.14923858642578, 60.349090576171875, 54.13584518432617, 53.068870544433594, 53.068870544433594, 52.95062255859375, 47.33061218261719, 46.50128173828125, 46.50128173828125, 44.828033447265625, 41.45256042480469, 166.68807983398438, 183.569580078125, 307.2090148925781, 657.3780517578125, 217.60708618164062, 257.1194152832031, 241.18182373046875, 478.5100402832031, 92.45682525634766, 286.7922668457031, 125.26254272460938, 111.78886413574219, 152.96383666992188, 317.9726257324219, 285.5487060546875, 157.4228515625, 163.84437561035156, 141.13851928710938, 117.41712951660156, 106.75044250488281, 104.63139343261719], \"Term\": [\"state\", \"isi\", \"kim\", \"islamic\", \"apple\", \"foley\", \"jong\", \"u\", \"steve\", \"james\", \"haram\", \"boko\", \"job\", \"un\", \"leader\", \"watch\", \"brown\", \"journalist\", \"audio\", \"michael\", \"video\", \"american\", \"girl\", \"christian\", \"bale\", \"play\", \"al\", \"militant\", \"shooting\", \"student\", \"beheads\", \"wright\", \"n\", \"college\", \"fly\", \"executed\", \"age\", \"fabricated\", \"rajasthan\", \"translate\", \"developer\", \"evil\", \"499\", \"dam\", \"gaza\", \"israel\", \"game\", \"bogus\", \"sharing\", \"flood\", \"awesome\", \"52\", \"theory\", \"monitoring\", \"britain\", \"999\", \"resignation\", \"2012\", \"dupe\", \"hollywood\", \"state\", \"islamic\", \"training\", \"journalist\", \"american\", \"james\", \"beheaded\", \"photojournalist\", \"foley\", \"pilot\", \"jet\", \"apparently\", \"isil\", \"message\", \"isi\", \"iraq\", \"missing\", \"video\", \"reportedly\", \"breaking\", \"u\", \"kidnapped\", \"claim\", \"fighter\", \"brown\", \"audio\", \"recording\", \"mohammed\", \"emwazi\", \"named\", \"vice\", \"capture\", \"vega\", \"tip\", \"paid\", \"ceo\", \"identity\", \"shane\", \"pizza\", \"graffiti\", \"instead\", \"six\", \"redwood\", \"pounder\", \"quarter\", \"suggests\", \"ferguson\", \"park\", \"mourn\", \"explosion\", \"comment\", \"giggling\", \"account\", \"kidnap\", \"cnn\", \"john\", \"jihadi\", \"shooting\", \"dinner\", \"michael\", \"revealed\", \"west\", \"alleged\", \"killer\", \"app\", \"300\", \"shot\", \"identified\", \"london\", \"000\", \"google\", \"medium\", \"new\", \"man\", \"isi\", \"report\", \"reportedly\", \"kim\", \"jong\", \"un\", \"nicaragua\", \"ankle\", \"korea\", \"korean\", \"crater\", \"managua\", \"yo\", \"memorial\", \"heaven\", \"charge\", \"dictator\", \"fractured\", \"stop\", \"impact\", \"hill\", \"meteor\", \"francis\", \"foot\", \"cheese\", \"fat\", \"cause\", \"snake\", \"wine\", \"ill\", \"including\", \"railway\", \"mysterious\", \"meteorite\", \"north\", \"sister\", \"surgery\", \"leaf\", \"capital\", \"gunman\", \"small\", \"parliament\", \"soldier\", \"strike\", \"shot\", \"war\", \"say\", \"leader\", \"shooting\", \"report\", \"ottawa\", \"haram\", \"boko\", \"ceasefire\", \"nigeria\", \"truck\", \"truce\", \"taliban\", \"plumber\", \"schoolgirl\", \"nigerian\", \"released\", \"free\", \"helmet\", \"survives\", \"scottish\", \"hope\", \"powerful\", \"question\", \"headshot\", \"ever\", \"hebdo\", \"breached\", \"constipated\", \"goldfish\", \"line\", \"saved\", \"agreed\", \"massive\", \"prisoner\", \"struck\", \"talking\", \"denies\", \"deal\", \"girl\", \"kidnapped\", \"release\", \"texas\", \"cease\", \"attack\", \"reported\", \"say\", \"marine\", \"despite\", \"syrian\", \"fire\", \"claim\", \"official\", \"syria\", \"david\", \"snowman\", \"sex\", \"issue\", \"cleric\", \"island\", \"paul\", \"across\", \"selling\", \"getting\", \"capsule\", \"fatwa\", \"bugatti\", \"mortgage\", \"rep\", \"veyron\", \"ten\", \"tear\", \"bin\", \"kayla\", \"mueller\", \"castrate\", \"bed\", \"investigates\", \"threat\", \"unearthed\", \"crisis\", \"earth\", \"1795\", \"paint\", \"vandal\", \"penis\", \"contracted\", \"haines\", \"fighter\", \"iraqi\", \"border\", \"chop\", \"ebola\", \"least\", \"girlfriend\", \"isi\", \"caught\", \"hostage\", \"claim\", \"medium\", \"saudi\", \"texas\", \"cut\", \"report\", \"god\", \"priest\", \"man\", \"u\", \"militant\", \"female\", \"10\", \"skin\", \"pumpkin\", \"spice\", \"condom\", \"burrowed\", \"zehaf\", \"bibeau\", \"culkin\", \"macaulay\", \"scar\", \"tropical\", \"rapist\", \"yemen\", \"angry\", \"burrow\", \"facebook\", \"meat\", \"luke\", \"somers\", \"cleaver\", \"appendix\", \"durex\", \"thing\", \"shooter\", \"hero\", \"tb\", \"butcher\", \"untrue\", \"ministry\", \"nearly\", \"spider\", \"rescue\", \"attempt\", \"actor\", \"death\", \"dead\", \"ottawa\", \"hoax\", \"mob\", \"4\", \"man\", \"killed\", \"case\", \"michael\", \"rumor\", \"say\", \"report\", \"homeless\", \"rosenberg\", \"gill\", \"scotland\", \"2015\", \"spends\", \"io\", \"mushroom\", \"icloud\", \"8\", \"buckingham\", \"palace\", \"magic\", \"kobani\", \"safe\", \"food\", \"document\", \"bug\", \"surprise\", \"us\", \"fighting\", \"quarantined\", \"secretly\", \"gift\", \"eyewitness\", \"gravity\", \"decrease\", \"purport\", \"summer\", \"ypg\", \"israeli\", \"libyan\", \"11\", \"restaurant\", \"9\", \"100\", \"week\", \"captured\", \"woman\", \"canadian\", \"video\", \"show\", \"fear\", \"beheading\", \"man\", \"viral\", \"missing\", \"report\", \"isi\", \"new\", \"see\", \"say\", \"al\", \"wife\", \"bakr\", \"abu\", \"drone\", \"7\", \"detained\", \"predator\", \"come\", \"massacre\", \"cross\", \"domestic\", \"espn\", \"town\", \"panel\", \"shoot\", \"somali\", \"debunked\", \"entering\", \"droppings\", \"shabab\", \"tonight\", \"fault\", \"looking\", \"hearing\", \"conde\", \"nast\", \"circling\", \"patrolling\", \"threatens\", \"baghdadi\", \"leader\", \"lebanon\", \"airstrike\", \"terrorist\", \"violence\", \"somalia\", \"congressman\", \"hit\", \"killed\", \"u\", \"mexico\", \"isi\", \"border\", \"say\", \"problem\", \"syria\", \"son\", \"woman\", \"iraq\", \"reportedly\", \"rat\", \"vogue\", \"wintour\", \"anna\", \"stainless\", \"infestation\", \"feature\", \"trade\", \"cost\", \"much\", \"teenager\", \"planning\", \"lynch\", \"cuba\", \"spent\", \"tom\", \"brokaw\", \"nightly\", \"due\", \"pricing\", \"sneeze\", \"catching\", \"variant\", \"taking\", \"reserve\", \"sign\", \"ebay\", \"16\", \"samsung\", \"la\", \"gold\", \"detroit\", \"edition\", \"office\", \"batmobile\", \"watch\", \"stolen\", \"want\", \"rape\", \"apple\", \"000\", \"v\", \"world\", \"new\", \"reportedly\", \"rumor\", \"superman\", \"allegedly\", \"man\", \"10\", \"batman\", \"iphone\", \"500\", \"comcast\", \"airdrop\", \"phelps\", \"hairgate\", \"hand\", \"hair\", \"chlorine\", \"darkness\", \"user\", \"thought\", \"airdropped\", \"gas\", \"december\", \"priced\", \"pause\", \"chemical\", \"intersex\", \"total\", \"detail\", \"past\", \"feb\", \"device\", \"attorney\", \"someone\", \"debut\", \"41\", \"toy\", \"self\", \"weapon\", \"6\", \"kurd\", \"steel\", \"got\", \"customer\", \"reveals\", \"isi\", \"fired\", \"born\", \"u\", \"girlfriend\", \"claim\", \"say\", \"soldier\", \"michael\", \"iraqi\", \"day\", \"militant\", \"rogen\", \"seth\", \"wozniak\", \"founder\", \"co\", \"king\", \"center\", \"hbo\", \"dawn\", \"snyder\", \"zack\", \"streaming\", \"woz\", \"apps\", \"platinum\", \"jose\", \"canseco\", \"skipped\", \"employee\", \"shower\", \"smartwatch\", \"march\", \"working\", \"raised\", \"forget\", \"personally\", \"abdullah\", \"lied\", \"monster\", \"storage\", \"service\", \"work\", \"probably\", \"justice\", \"apple\", \"launch\", \"model\", \"set\", \"secret\", \"watch\", \"month\", \"could\", \"stolen\", \"report\", \"batman\", \"tv\", \"life\", \"batmobile\", \"v\", \"superman\", \"rumor\", \"star\", \"000\", \"steve\", \"job\", \"christian\", \"bale\", \"biopic\", \"tiger\", \"nelson\", \"upcoming\", \"testicle\", \"drug\", \"exclusive\", \"judd\", \"pga\", \"twin\", \"control\", \"sony\", \"naked\", \"husband\", \"price\", \"suspension\", \"pull\", \"boyle\", \"danny\", \"agent\", \"suspended\", \"castrated\", \"hospitalized\", \"quits\", \"anyway\", \"closer\", \"wood\", \"play\", \"movie\", \"meet\", \"died\", \"400\", \"talk\", \"pay\", \"sale\", \"god\", \"kid\", \"test\", \"woman\", \"son\", \"claim\", \"report\", \"cut\", \"putin\", \"bird\", \"behead\", \"paradise\", \"ex\", \"vladimir\", \"holding\", \"eye\", \"main\", \"creature\", \"shabaab\", \"pound\", \"motorcade\", \"scare\", \"steal\", \"horrific\", \"poop\", \"ahmed\", \"abdi\", \"godane\", \"warning\", \"search\", \"investigating\", \"banned\", \"accidental\", \"italian\", \"ended\", \"280\", \"huge\", \"animal\", \"chief\", \"tell\", \"go\", \"execution\", \"confirmed\", \"militant\", \"news\", \"pope\", \"u\", \"video\", \"graphic\", \"isi\", \"eating\", \"catfish\", \"show\", \"daughter\", \"ebola\", \"official\", \"open\", \"killed\", \"allegedly\", \"journalist\", \"strike\", \"american\", \"death\", \"fake\", \"dog\", \"big\", \"house\", \"white\", \"fence\", \"jumper\", \"sugarhill\", \"hank\", \"gang\", \"bank\", \"macbook\", \"57\", \"nun\", \"birth\", \"inch\", \"pain\", \"airstrikes\", \"ticket\", \"detainee\", \"farther\", \"red\", \"soon\", \"known\", \"retina\", \"far\", \"bowe\", \"intelligence\", \"deadly\", \"thinner\", \"western\", \"outbreak\", \"swapped\", \"12\", \"arrest\", \"york\", \"stomach\", \"give\", \"dy\", \"air\", \"suspect\", \"baby\", \"rapper\", \"made\", \"building\", \"may\", \"report\", \"apple\", \"teletubbies\", \"suitcase\", \"19\", \"station\", \"abandoned\", \"sun\", \"belonging\", \"lego\", \"jess\", \"website\", \"surfaced\", \"cesar\", \"millan\", \"injured\", \"ad\", \"whisperer\", \"gender\", \"weatherman\", \"1970s\", \"fisherman\", \"rumored\", \"freak\", \"contains\", \"voicemail\", \"important\", \"com\", \"wear\", \"pooped\", \"urinating\", \"supported\", \"banksy\", \"look\", \"parent\", \"catch\", \"still\", \"dog\", \"baby\", \"arrested\", \"absence\", \"christmas\", \"amazon\", \"tape\", \"old\", \"year\", \"letter\", \"caught\", \"first\", \"people\", \"found\", \"hoax\", \"news\", \"abdel\", \"bary\", \"majed\", \"michelle\", \"kansa\", \"went\", \"help\", \"awakens\", \"eat\", \"abrams\", \"investigation\", \"peeing\", \"chest\", \"blurred\", \"low\", \"j\", \"proposal\", \"place\", \"elaborate\", \"check\", \"sick\", \"television\", \"l\", \"fight\", \"jj\", \"refuse\", \"english\", \"marriage\", \"early\", \"meeting\", \"british\", \"plan\", \"obama\", \"rapper\", \"face\", \"killing\", \"beheading\", \"star\", \"aid\", \"foley\", \"city\", \"london\", \"date\", \"force\", \"james\", \"saudi\", \"spotted\", \"war\", \"born\", \"identified\", \"release\", \"report\", \"executioner\", \"tv\", \"mass\", \"grave\", \"graf\", \"really\", \"flying\", \"held\", \"russian\", \"indian\", \"opening\", \"43\", \"linked\", \"hold\", \"qaeda\", \"president\", \"seen\", \"university\", \"sacked\", \"later\", \"supply\", \"solved\", \"took\", \"totally\", \"statement\", \"ago\", \"jordanian\", \"newly\", \"pretty\", \"25\", \"28\", \"civil\", \"student\", \"love\", \"body\", \"told\", \"found\", \"per\", \"mexico\", \"missing\", \"tour\", \"inside\", \"police\", \"mexican\", \"find\", \"child\", \"group\", \"syria\", \"terror\", \"40\", \"among\", \"confirms\", \"year\", \"say\", \"airport\", \"militant\", \"rose\", \"like\", \"sergeant\", \"patient\", \"murder\", \"axl\", \"symptom\", \"magneto\", \"web\", \"idea\", \"cast\", \"youngest\", \"sneezing\", \"vickers\", \"kevin\", \"become\", \"father\", \"cub\", \"contact\", \"turned\", \"rise\", \"gave\", \"file\", \"tireless\", \"brave\", \"remembered\", \"land\", \"hour\", \"shopper\", \"superpower\", \"arm\", \"use\", \"doubt\", \"battle\", \"shock\", \"family\", \"electric\", \"make\", \"boston\", \"boy\", \"ebola\", \"hospital\", \"time\", \"man\", \"parliament\", \"dead\", \"god\", \"internet\", \"claim\", \"report\", \"isi\", \"million\", \"microsoft\", \"72\", \"high\", \"break\", \"robot\", \"valley\", \"possession\", \"sell\", \"campus\", \"silicon\", \"colorado\", \"plant\", \"robert\", \"car\", \"market\", \"try\", \"zeppelin\", \"led\", \"using\", \"mum\", \"need\", \"law\", \"pot\", \"nypd\", \"eggnog\", \"chugging\", \"800\", \"painted\", \"tribunal\", \"stock\", \"guard\", \"get\", \"marijuana\", \"teen\", \"store\", \"security\", \"take\", \"made\", \"head\", \"kfc\", \"school\", \"sniper\", \"marine\", \"photo\", \"new\", \"watch\", \"shot\", \"son\", \"pregnant\", \"trip\", \"seven\", \"married\", \"londoner\", \"rare\", \"start\", \"13\", \"forced\", \"bosnia\", \"extra\", \"alan\", \"net\", \"gunshot\", \"flown\", \"bosnian\", \"mask\", \"urgent\", \"deny\", \"herzegovina\", \"identifies\", \"agrees\", \"pack\", \"brat\", \"cawthorne\", \"briton\", \"timing\", \"verifies\", \"underage\", \"ignored\", \"style\", \"behind\", \"fall\", \"school\", \"young\", \"five\", \"female\", \"girl\", \"outraged\", \"day\", \"never\", \"14\", \"said\", \"islamic\", \"state\", \"parent\", \"claim\", \"dead\", \"killer\", \"god\", \"priest\"], \"Total\": [2875.0, 6749.0, 2292.0, 2870.0, 2829.0, 2661.0, 2099.0, 3714.0, 1731.0, 2402.0, 1844.0, 1844.0, 1624.0, 1779.0, 2009.0, 2329.0, 1652.0, 2153.0, 1580.0, 2210.0, 2631.0, 1920.0, 1490.0, 1155.0, 1155.0, 1193.0, 1056.0, 1605.0, 1395.0, 1026.0, 793.902099609375, 1010.4150390625, 287.4505920410156, 218.49844360351562, 201.6960906982422, 201.408203125, 190.095947265625, 172.5149688720703, 147.16558837890625, 143.8438262939453, 139.29708862304688, 137.19557189941406, 135.16162109375, 126.81642150878906, 126.81642150878906, 126.81642150878906, 115.72817993164062, 111.8290023803711, 111.02914428710938, 100.19047546386719, 96.39381408691406, 96.04898834228516, 94.35514068603516, 93.30528259277344, 87.7771987915039, 85.97086334228516, 83.78640747070312, 82.76222229003906, 81.0193099975586, 78.14324188232422, 2875.609375, 2870.520263671875, 330.3868408203125, 2153.193115234375, 1920.0804443359375, 2402.4296875, 853.6677856445312, 607.0961303710938, 2661.753173828125, 311.61798095703125, 317.5810852050781, 236.04147338867188, 619.0021362304688, 339.1402587890625, 6749.85205078125, 806.2402954101562, 1606.477294921875, 2631.412353515625, 1637.714111328125, 552.4520263671875, 3714.219970703125, 1212.0977783203125, 2966.220947265625, 1588.3785400390625, 1652.0457763671875, 1580.23876953125, 687.613037109375, 681.342041015625, 659.3594360351562, 566.3863525390625, 340.1798095703125, 287.8162536621094, 204.30650329589844, 201.33392333984375, 192.38021850585938, 186.39906311035156, 156.77877807617188, 153.203857421875, 149.52903747558594, 135.6343994140625, 127.80010986328125, 123.43009185791016, 114.40895080566406, 108.66068267822266, 108.66068267822266, 106.53523254394531, 102.094970703125, 93.0336685180664, 92.04801940917969, 89.10095977783203, 86.09254455566406, 85.70308685302734, 82.169921875, 74.82422637939453, 458.756103515625, 1192.396484375, 1192.396484375, 1395.20068359375, 353.4510498046875, 2210.976806640625, 192.45449829101562, 403.119873046875, 969.0252685546875, 423.63970947265625, 391.7771301269531, 512.6505126953125, 1308.9925537109375, 750.4120483398438, 632.3202514648438, 1027.247314453125, 303.62164306640625, 950.8851928710938, 1658.681396484375, 2625.597900390625, 6749.85205078125, 3599.400634765625, 1637.714111328125, 2292.73486328125, 2099.578857421875, 1779.5848388671875, 818.5194702148438, 698.186767578125, 635.8172607421875, 461.0450134277344, 445.88531494140625, 395.57733154296875, 321.0202331542969, 288.47711181640625, 223.27554321289062, 209.81027221679688, 209.18482971191406, 209.0682373046875, 199.33428955078125, 174.50344848632812, 165.6077423095703, 146.29556274414062, 133.92784118652344, 122.87837982177734, 116.20989227294922, 109.12680053710938, 106.51280975341797, 105.58660125732422, 105.58660125732422, 103.89143371582031, 103.4803237915039, 102.26068115234375, 100.9371337890625, 1147.5677490234375, 1097.6116943359375, 611.4970703125, 368.9075622558594, 364.82366943359375, 456.8219909667969, 373.7267761230469, 362.08544921875, 534.2696533203125, 769.7496948242188, 544.2711791992188, 1308.9925537109375, 742.3490600585938, 3260.857666015625, 2009.9476318359375, 1395.20068359375, 3599.400634765625, 618.389892578125, 1844.8004150390625, 1844.8004150390625, 944.5537719726562, 914.102294921875, 468.0839538574219, 467.2385559082031, 460.7290344238281, 421.3915100097656, 398.1465148925781, 381.20068359375, 279.0224609375, 185.19210815429688, 182.5590057373047, 169.5455322265625, 169.16712951660156, 151.66932678222656, 146.16004943847656, 139.74853515625, 137.7110595703125, 135.03305053710938, 132.08023071289062, 127.15707397460938, 120.802734375, 120.802734375, 117.44601440429688, 109.70965576171875, 108.74603271484375, 107.194580078125, 92.8442611694336, 92.7554931640625, 92.7554931640625, 761.644775390625, 517.0108642578125, 1490.288330078125, 1212.0977783203125, 916.0155639648438, 831.3645629882812, 239.48703002929688, 1064.5889892578125, 317.8460998535156, 3260.857666015625, 372.31585693359375, 316.8162841796875, 250.8083038330078, 407.5969543457031, 2966.220947265625, 936.4392700195312, 971.6738891601562, 307.1326904296875, 284.8210754394531, 254.14657592773438, 236.47854614257812, 212.8693389892578, 210.7605743408203, 198.10861206054688, 195.80963134765625, 189.08163452148438, 184.10086059570312, 181.06228637695312, 171.57969665527344, 165.93743896484375, 165.31646728515625, 148.92153930664062, 142.5624237060547, 136.60098266601562, 126.72743225097656, 121.932861328125, 112.81886291503906, 112.81886291503906, 109.97931671142578, 106.09808349609375, 105.95336151123047, 102.20626831054688, 100.41666412353516, 92.10149383544922, 85.24940490722656, 84.771240234375, 83.73809814453125, 83.73809814453125, 875.636962890625, 524.4300537109375, 338.9913635253906, 1588.3785400390625, 651.0285034179688, 960.8814086914062, 362.775634765625, 1960.649169921875, 481.3385009765625, 556.0473022460938, 6749.85205078125, 901.7048950195312, 790.4421997070312, 2966.220947265625, 950.8851928710938, 501.8114013671875, 831.3645629882812, 479.73773193359375, 3599.400634765625, 739.48388671875, 446.271484375, 2625.597900390625, 3714.219970703125, 1605.0439453125, 462.0786437988281, 431.9068908691406, 569.4951782226562, 487.0748596191406, 487.0748596191406, 487.0748596191406, 430.48065185546875, 394.5812072753906, 394.5812072753906, 356.7597351074219, 356.7597351074219, 319.8203125, 301.7887268066406, 303.8353271484375, 295.2361755371094, 291.28277587890625, 285.0354919433594, 257.8660888671875, 218.1627960205078, 217.01312255859375, 217.01312255859375, 201.36521911621094, 201.19400024414062, 189.8616485595703, 159.17010498046875, 154.10598754882812, 151.87384033203125, 126.99201965332031, 110.65738677978516, 108.20999908447266, 88.72864532470703, 88.69745635986328, 972.0379028320312, 350.74725341796875, 326.3807067871094, 326.3098449707031, 1094.3740234375, 1573.4093017578125, 618.389892578125, 1334.5660400390625, 437.2358703613281, 442.142822265625, 2625.597900390625, 1624.477294921875, 523.2652587890625, 2210.976806640625, 1193.232421875, 3260.857666015625, 3599.400634765625, 599.6015625, 319.890869140625, 319.890869140625, 318.8518371582031, 310.1746520996094, 308.3613586425781, 240.47079467773438, 229.30856323242188, 219.14602661132812, 219.14602661132812, 208.90882873535156, 208.90882873535156, 195.91690063476562, 195.36444091796875, 188.85580444335938, 181.6629180908203, 175.35406494140625, 163.73641967773438, 152.26918029785156, 129.321044921875, 116.69245910644531, 109.1523208618164, 108.72515106201172, 108.43359375, 107.63011932373047, 106.70317077636719, 106.70317077636719, 103.04765319824219, 101.5794448852539, 99.779296875, 452.5108642578125, 306.4917297363281, 748.1315307617188, 466.6712341308594, 483.746826171875, 571.6604614257812, 256.82818603515625, 855.108154296875, 1254.2071533203125, 789.2884521484375, 2631.412353515625, 922.2764892578125, 665.6096801757812, 870.9356079101562, 2625.597900390625, 524.200439453125, 1606.477294921875, 3599.400634765625, 6749.85205078125, 1658.681396484375, 344.40869140625, 3260.857666015625, 1056.5394287109375, 828.5076904296875, 450.5929260253906, 450.5929260253906, 439.259521484375, 289.7020263671875, 284.4469909667969, 233.83953857421875, 194.2337188720703, 178.75881958007812, 155.10781860351562, 153.76454162597656, 153.76454162597656, 142.87599182128906, 136.52084350585938, 135.91162109375, 127.68565368652344, 117.37419128417969, 115.0952377319336, 106.99307250976562, 106.2158203125, 96.82355499267578, 92.57481384277344, 87.51615905761719, 81.52452850341797, 78.96552276611328, 78.96552276611328, 77.66726684570312, 76.25703430175781, 70.53499603271484, 803.121826171875, 2009.9476318359375, 586.1170043945312, 473.06524658203125, 523.002685546875, 223.4951171875, 314.291015625, 293.0177001953125, 291.4278564453125, 1624.477294921875, 3714.219970703125, 761.1106567382812, 6749.85205078125, 960.8814086914062, 3260.857666015625, 233.93853759765625, 971.6738891601562, 539.0654296875, 1254.2071533203125, 806.2402954101562, 1637.714111328125, 847.3312377929688, 627.6268920898438, 332.8358154296875, 332.8358154296875, 305.838134765625, 267.78411865234375, 205.64845275878906, 194.65061950683594, 192.47943115234375, 148.87493896484375, 148.18267822265625, 128.52049255371094, 118.1361312866211, 112.05830383300781, 110.75634002685547, 110.30165100097656, 110.30165100097656, 105.8495864868164, 100.48501586914062, 98.10845184326172, 85.85415649414062, 85.50460052490234, 84.23197174072266, 79.01183319091797, 76.97428894042969, 72.56973266601562, 71.25008392333984, 69.49589538574219, 66.43981170654297, 65.94200897216797, 584.6058349609375, 360.5787048339844, 320.0289306640625, 555.8663330078125, 804.6458129882812, 2329.483642578125, 939.6416625976562, 314.3699645996094, 210.80580139160156, 2829.03759765625, 1027.247314453125, 382.1340637207031, 559.79541015625, 1658.681396484375, 1637.714111328125, 1193.232421875, 335.6798400878906, 404.15740966796875, 2625.597900390625, 431.9068908691406, 369.9031677246094, 391.24053955078125, 371.3070983886719, 369.844482421875, 327.9415283203125, 299.5397033691406, 269.2488098144531, 254.6331787109375, 237.08248901367188, 215.29452514648438, 207.40689086914062, 192.88934326171875, 166.24459838867188, 165.77474975585938, 165.3755340576172, 162.71910095214844, 157.643310546875, 124.97272491455078, 121.40184020996094, 118.34986114501953, 114.94076538085938, 114.8853759765625, 109.66741943359375, 105.98551940917969, 104.30300903320312, 97.60566711425781, 94.07361602783203, 90.9837417602539, 90.30006408691406, 88.55056762695312, 87.56867218017578, 750.498291015625, 522.537841796875, 325.1366882324219, 484.95306396484375, 409.0035095214844, 326.8887939453125, 394.3865051269531, 6749.85205078125, 481.24725341796875, 365.8081970214844, 3714.219970703125, 556.0473022460938, 2966.220947265625, 3260.857666015625, 769.7496948242188, 2210.976806640625, 651.0285034179688, 808.172119140625, 1605.0439453125, 433.6661071777344, 433.6661071777344, 305.61444091796875, 261.3495788574219, 205.9339599609375, 199.875732421875, 178.8642120361328, 178.1849822998047, 172.7062225341797, 165.55882263183594, 165.55882263183594, 174.3977813720703, 129.0508270263672, 124.80557250976562, 121.42894744873047, 118.77406311035156, 118.77406311035156, 108.88410186767578, 103.28819274902344, 101.59555053710938, 99.0043716430664, 91.6874771118164, 89.41529083251953, 82.95109558105469, 81.20101165771484, 77.65872955322266, 71.38996887207031, 68.37858581542969, 67.72830963134766, 64.99152374267578, 550.9482421875, 324.79388427734375, 164.1888885498047, 194.04824829101562, 2829.03759765625, 588.7367553710938, 212.34622192382812, 445.9427795410156, 291.6074523925781, 2329.483642578125, 216.08786010742188, 839.1943359375, 939.6416625976562, 3599.400634765625, 369.9031677246094, 358.6026306152344, 445.2673645019531, 804.6458129882812, 382.1340637207031, 335.6798400878906, 1193.232421875, 441.7486267089844, 1027.247314453125, 1731.7745361328125, 1624.1973876953125, 1155.5943603515625, 1155.5943603515625, 627.6190185546875, 451.0347900390625, 229.13462829589844, 216.72116088867188, 207.11724853515625, 192.49009704589844, 184.46876525878906, 180.45433044433594, 171.59124755859375, 166.8692169189453, 145.62869262695312, 145.57110595703125, 123.31900787353516, 111.87358093261719, 95.02701568603516, 92.09603881835938, 91.5321044921875, 90.84265899658203, 90.84265899658203, 89.58709716796875, 89.23796844482422, 85.93507385253906, 78.49609375, 74.67414093017578, 73.25972747802734, 70.52403259277344, 476.7657165527344, 1193.490478515625, 299.931884765625, 193.3056640625, 390.3208923339844, 166.46302795410156, 384.82073974609375, 231.99205017089844, 132.5560302734375, 739.48388671875, 125.20918273925781, 313.3616638183594, 1254.2071533203125, 539.0654296875, 2966.220947265625, 3599.400634765625, 479.73773193359375, 339.8646240234375, 272.8612365722656, 241.36776733398438, 222.75242614746094, 214.67616271972656, 208.44886779785156, 206.37374877929688, 152.00579833984375, 126.02073669433594, 125.01396179199219, 119.67335510253906, 113.63177490234375, 95.6895751953125, 91.38327026367188, 88.1500244140625, 85.75409698486328, 85.5612564086914, 84.5417709350586, 84.5417709350586, 84.5417709350586, 82.9488296508789, 79.20641326904297, 78.51651000976562, 78.28990173339844, 76.21819305419922, 70.8899154663086, 70.46826934814453, 67.35165405273438, 66.50334167480469, 61.116397857666016, 371.69293212890625, 241.95420837402344, 517.2828979492188, 202.4799346923828, 262.9180603027344, 1605.0439453125, 792.3028564453125, 298.9842529296875, 3714.219970703125, 2631.412353515625, 134.83544921875, 6749.85205078125, 150.5023193359375, 264.2546081542969, 922.2764892578125, 252.65304565429688, 1960.649169921875, 936.4392700195312, 568.7034301757812, 1624.477294921875, 404.15740966796875, 2153.193115234375, 544.2711791992188, 1920.0804443359375, 1094.3740234375, 556.2461547851562, 653.1818237304688, 652.4481811523438, 554.8723754882812, 501.63916015625, 501.63916015625, 501.63916015625, 461.63720703125, 461.63720703125, 461.63720703125, 461.63720703125, 398.9664611816406, 387.8088684082031, 342.5567321777344, 335.4284362792969, 304.24615478515625, 221.3502655029297, 189.65171813964844, 164.10231018066406, 138.69900512695312, 129.8318634033203, 128.49290466308594, 116.50456237792969, 113.88985443115234, 110.0543212890625, 100.73018646240234, 131.2015380859375, 83.62264251708984, 82.79011535644531, 82.74017333984375, 81.52446746826172, 80.94166564941406, 137.1834259033203, 354.7847900390625, 390.6871032714844, 224.91737365722656, 380.7493896484375, 382.44732666015625, 458.66748046875, 647.4552001953125, 314.7039794921875, 742.5490112304688, 892.88427734375, 662.9076538085938, 180.07534790039062, 973.43701171875, 3599.400634765625, 2829.03759765625, 327.5695495605469, 251.87380981445312, 233.70294189453125, 233.5096893310547, 232.02093505859375, 226.2310028076172, 186.85336303710938, 180.01268005371094, 133.45973205566406, 131.8502197265625, 127.31336212158203, 104.35044860839844, 104.35044860839844, 102.6830062866211, 102.67326354980469, 101.49754333496094, 100.96515655517578, 98.1456069946289, 95.2120590209961, 93.64000701904297, 90.86804962158203, 89.07169342041016, 87.89202880859375, 85.89340209960938, 84.04495239257812, 83.46969604492188, 76.06099700927734, 75.49968719482422, 75.22591400146484, 74.0556869506836, 609.154296875, 239.1646728515625, 535.1783447265625, 142.97364807128906, 228.10516357421875, 653.1818237304688, 742.5490112304688, 428.7942810058594, 161.68218994140625, 238.20477294921875, 230.0941162109375, 201.0717010498047, 335.90997314453125, 911.7916259765625, 231.30860900878906, 901.7048950195312, 403.4900207519531, 277.85498046875, 829.7161254882812, 1334.5660400390625, 792.3028564453125, 696.1267700195312, 348.56292724609375, 348.56292724609375, 188.43789672851562, 180.89657592773438, 162.91839599609375, 158.82101440429688, 134.12518310546875, 119.59141540527344, 114.16400146484375, 103.92330169677734, 103.3705825805664, 100.43424987792969, 93.19490051269531, 92.83424377441406, 92.18336486816406, 91.19902038574219, 88.65296936035156, 83.1197280883789, 77.4852523803711, 76.75091552734375, 74.34900665283203, 71.94657897949219, 70.1259536743164, 68.5718765258789, 65.30646514892578, 64.95011138916016, 62.483524322509766, 61.685672760009766, 61.678367614746094, 715.1867065429688, 213.44898986816406, 556.2363891601562, 892.88427734375, 157.78501892089844, 215.47775268554688, 870.9356079101562, 441.7486267089844, 202.22732543945312, 2661.753173828125, 632.1141967773438, 632.3202514648438, 204.9310302734375, 223.63140869140625, 2402.4296875, 501.8114013671875, 200.55360412597656, 742.3490600585938, 365.8081970214844, 750.4120483398438, 916.0155639648438, 3599.400634765625, 301.0845642089844, 358.6026306152344, 631.8403930664062, 397.2645568847656, 283.62359619140625, 251.47462463378906, 228.44497680664062, 208.42201232910156, 201.14283752441406, 197.02606201171875, 156.79722595214844, 139.0895233154297, 137.80819702148438, 137.1467742919922, 124.71554565429688, 124.48064422607422, 111.22974395751953, 110.87718963623047, 110.82816314697266, 105.9732894897461, 104.1027603149414, 93.90083312988281, 85.82897186279297, 79.52861022949219, 76.29336547851562, 74.61245727539062, 70.32266235351562, 67.32556915283203, 66.17243194580078, 65.60684967041016, 63.10596466064453, 57.216819763183594, 1026.9742431640625, 184.39425659179688, 359.8537902832031, 163.91192626953125, 829.7161254882812, 105.24005889892578, 761.1106567382812, 1606.477294921875, 177.82757568359375, 159.44778442382812, 391.6719055175781, 436.6905822753906, 372.4811706542969, 276.9940185546875, 432.1763610839844, 971.6738891601562, 521.4139404296875, 222.3802032470703, 254.0180206298828, 499.5175476074219, 911.7916259765625, 3260.857666015625, 516.8885498046875, 1605.0439453125, 322.36444091796875, 312.5885009765625, 303.4231262207031, 229.44293212890625, 208.99412536621094, 202.62815856933594, 199.0537872314453, 167.02227783203125, 163.14193725585938, 162.58119201660156, 158.12501525878906, 156.2783203125, 152.02342224121094, 151.39544677734375, 151.39544677734375, 135.4182586669922, 128.63160705566406, 126.189208984375, 110.70105743408203, 97.99273681640625, 97.4543685913086, 93.7352066040039, 93.6409683227539, 82.9582748413086, 82.9582748413086, 82.9582748413086, 78.66039276123047, 74.54670715332031, 73.16813659667969, 67.2708969116211, 362.4630432128906, 266.6127624511719, 325.7669372558594, 162.09352111816406, 282.47613525390625, 200.32843017578125, 160.62823486328125, 348.239990234375, 212.63101196289062, 662.19580078125, 1960.649169921875, 401.3577880859375, 513.3450317382812, 2625.597900390625, 534.2696533203125, 1573.4093017578125, 739.48388671875, 453.1876220703125, 2966.220947265625, 3599.400634765625, 6749.85205078125, 605.947998046875, 269.3428649902344, 258.2859802246094, 257.7303466796875, 196.32577514648438, 176.0303955078125, 174.32955932617188, 172.32887268066406, 166.00772094726562, 161.98382568359375, 154.8634490966797, 141.8686065673828, 137.38641357421875, 137.38641357421875, 131.0431365966797, 125.5849838256836, 119.80711364746094, 116.0473861694336, 116.0473861694336, 113.51433563232422, 101.15690612792969, 99.02586364746094, 91.30945587158203, 91.05091094970703, 89.44769287109375, 88.87065887451172, 88.87065887451172, 84.11538696289062, 73.68257904052734, 72.63385772705078, 217.772705078125, 286.0813903808594, 774.460693359375, 401.5077209472656, 287.6191711425781, 303.1826477050781, 447.776611328125, 486.89019775390625, 662.9076538085938, 336.14306640625, 282.6346740722656, 839.8369140625, 264.5926208496094, 372.31585693359375, 472.3518981933594, 1658.681396484375, 2329.483642578125, 1308.9925537109375, 539.0654296875, 702.5415649414062, 584.1893310546875, 431.33843994140625, 229.4632110595703, 214.6246337890625, 194.91627502441406, 182.23538208007812, 147.17355346679688, 120.55586242675781, 116.86952209472656, 105.22167205810547, 104.5222396850586, 103.05465698242188, 102.71640014648438, 96.7020263671875, 90.12239074707031, 88.28846740722656, 81.9481430053711, 74.09008026123047, 72.09492492675781, 61.29478073120117, 55.08153533935547, 54.01456069946289, 54.01456069946289, 53.89631271362305, 48.276302337646484, 47.44697189331055, 47.44697189331055, 45.77372360229492, 42.398250579833984, 175.0064239501953, 197.4105682373047, 346.320068359375, 839.8369140625, 257.2271423339844, 404.92529296875, 462.0786437988281, 1490.288330078125, 129.43775939941406, 808.172119140625, 214.62889099121094, 193.68856811523438, 452.0343322753906, 2870.520263671875, 2875.609375, 535.1783447265625, 2966.220947265625, 1573.4093017578125, 423.63970947265625, 739.48388671875, 446.271484375], \"loglift\": [30.0, 29.0, 28.0, 27.0, 26.0, 25.0, 24.0, 23.0, 22.0, 21.0, 20.0, 19.0, 18.0, 17.0, 16.0, 15.0, 14.0, 13.0, 12.0, 11.0, 10.0, 9.0, 8.0, 7.0, 6.0, 5.0, 4.0, 3.0, 2.0, 1.0, 2.6333000659942627, 2.6328999996185303, 2.631200075149536, 2.630199909210205, 2.6298000812530518, 2.6298000812530518, 2.6296000480651855, 2.6291000843048096, 2.6280999183654785, 2.628000020980835, 2.6277999877929688, 2.627700090408325, 2.6275999546051025, 2.6270999908447266, 2.6270999908447266, 2.6270999908447266, 2.6263999938964844, 2.6261000633239746, 2.625999927520752, 2.6250998973846436, 2.624799966812134, 2.6247000694274902, 2.6245999336242676, 2.6243999004364014, 2.623800039291382, 2.6236000061035156, 2.623300075531006, 2.623199939727783, 2.6229000091552734, 2.622499942779541, 2.5295000076293945, 2.4625000953674316, 2.558500051498413, 2.428299903869629, 2.413100004196167, 2.3724000453948975, 2.4382998943328857, 2.4407999515533447, 2.2767999172210693, 2.3729000091552734, 2.3336000442504883, 2.3868000507354736, 1.965499997138977, 2.1631999015808105, 0.6735000014305115, 1.7160999774932861, 1.3151999711990356, 0.9765999913215637, 1.2359000444412231, 1.8274999856948853, 0.6626999974250793, 1.2339999675750732, 0.5091999769210815, 0.5033000111579895, 2.6607000827789307, 2.6607000827789307, 2.659899950027466, 2.659899950027466, 2.6598000526428223, 2.659600019454956, 2.6584999561309814, 2.6579999923706055, 2.656599998474121, 2.656599998474121, 2.6563000679016113, 2.6561999320983887, 2.6552000045776367, 2.655100107192993, 2.654900074005127, 2.6542999744415283, 2.6538000106811523, 2.653599977493286, 2.6530001163482666, 2.6524999141693115, 2.6524999141693115, 2.6522998809814453, 2.6519999504089355, 2.6510000228881836, 2.650899887084961, 2.650599956512451, 2.6501998901367188, 2.6501998901367188, 2.6496999263763428, 2.6484999656677246, 2.6417999267578125, 2.5473999977111816, 2.5473999977111816, 2.4688000679016113, 2.522200107574463, 2.3152999877929688, 2.5539000034332275, 2.4458999633789062, 2.2435998916625977, 2.3338000774383545, 2.3150999546051025, 2.238800048828125, 1.808500051498413, 1.9973000288009644, 2.0195000171661377, 1.7512999773025513, 2.314300060272217, 1.5636999607086182, 1.1677000522613525, 0.6108999848365784, -0.374099999666214, 0.16580000519752502, 0.6823999881744385, 2.7430999279022217, 2.743000030517578, 2.743000030517578, 2.742300033569336, 2.7421000003814697, 2.742000102996826, 2.7414000034332275, 2.7414000034332275, 2.7411000728607178, 2.740499973297119, 2.7402000427246094, 2.7392001152038574, 2.7388999462127686, 2.7388999462127686, 2.7388999462127686, 2.7386999130249023, 2.73799991607666, 2.7376999855041504, 2.736999988555908, 2.7363998889923096, 2.7356998920440674, 2.735300064086914, 2.7346999645233154, 2.734499931335449, 2.7344000339508057, 2.7344000339508057, 2.734299898147583, 2.734299898147583, 2.734100103378296, 2.7339999675750732, 2.6774001121520996, 2.6591999530792236, 2.6570000648498535, 2.6816000938415527, 2.6547999382019043, 2.560699939727783, 2.5215001106262207, 2.4649999141693115, 2.3303000926971436, 2.0947999954223633, 2.117799997329712, 1.6943999528884888, 1.8854999542236328, 0.6510000228881836, 0.8619999885559082, 0.9973999857902527, 0.08900000154972076, 1.7071000337600708, 2.7867000102996826, 2.7867000102996826, 2.7862000465393066, 2.7862000465393066, 2.7852001190185547, 2.7852001190185547, 2.7852001190185547, 2.7850000858306885, 2.784899950027466, 2.7848000526428223, 2.783900022506714, 2.7822000980377197, 2.782099962234497, 2.7816998958587646, 2.7816998958587646, 2.7809998989105225, 2.7808001041412354, 2.7804999351501465, 2.780400037765503, 2.7802999019622803, 2.780100107192993, 2.7797999382019043, 2.779400110244751, 2.779400110244751, 2.7792000770568848, 2.778700113296509, 2.778599977493286, 2.77839994430542, 2.777100086212158, 2.777100086212158, 2.777100086212158, 2.7116000652313232, 2.705199956893921, 2.3991000652313232, 2.337899923324585, 2.3529999256134033, 2.290600061416626, 2.6015000343322754, 2.174999952316284, 2.41510009765625, 1.2457000017166138, 2.2720999717712402, 2.3508999347686768, 2.4453999996185303, 2.0947000980377197, 0.7168999910354614, 1.3805999755859375, 1.2903000116348267, 2.815500020980835, 2.8152999877929688, 2.81469988822937, 2.8145999908447266, 2.814199924468994, 2.8141000270843506, 2.813800096511841, 2.813800096511841, 2.8136000633239746, 2.813499927520752, 2.8134000301361084, 2.8131000995635986, 2.8129000663757324, 2.8129000663757324, 2.8122000694274902, 2.8118999004364014, 2.8115999698638916, 2.8111000061035156, 2.810800075531006, 2.8101999759674072, 2.8101999759674072, 2.8099000453948975, 2.8096001148223877, 2.8096001148223877, 2.809299945831299, 2.8090999126434326, 2.808199882507324, 2.8073999881744385, 2.807300090789795, 2.8071999549865723, 2.8071999549865723, 2.684000015258789, 2.662600040435791, 2.6919000148773193, 2.4800000190734863, 2.4683001041412354, 2.272200107574463, 2.4867000579833984, 1.9996000528335571, 2.367500066757202, 2.259500026702881, 1.3746000528335571, 2.0023999214172363, 2.0445001125335693, 1.4763000011444092, 1.9071999788284302, 2.2072999477386475, 1.8779000043869019, 2.1417999267578125, 0.7240999937057495, 1.7597999572753906, 2.1333000659942627, 0.7319999933242798, 0.31349998712539673, 0.98580002784729, 2.0764999389648438, 2.1089000701904297, 2.8417000770568848, 2.8415000438690186, 2.8415000438690186, 2.8415000438690186, 2.841200113296509, 2.8410000801086426, 2.8410000801086426, 2.8406999111175537, 2.8406999111175537, 2.840399980545044, 2.8403000831604004, 2.8403000831604004, 2.8401999473571777, 2.840100049972534, 2.840100049972534, 2.8396999835968018, 2.839099884033203, 2.8389999866485596, 2.8389999866485596, 2.83870005607605, 2.83870005607605, 2.838399887084961, 2.837399959564209, 2.8371999263763428, 2.8371999263763428, 2.835900068283081, 2.8348000049591064, 2.8345999717712402, 2.83270001411438, 2.83270001411438, 2.7832000255584717, 2.75819993019104, 2.7560999393463135, 2.647200107574463, 2.3329999446868896, 2.2153000831604004, 2.40310001373291, 2.0452001094818115, 2.4149999618530273, 2.3835999965667725, 1.2699999809265137, 1.3125, 2.1733999252319336, 0.9983999729156494, 1.486899971961975, 0.5328999757766724, 0.40720000863075256, 2.884999990463257, 2.8835999965667725, 2.8835999965667725, 2.8835999965667725, 2.883500099182129, 2.883500099182129, 2.8826000690460205, 2.8824000358581543, 2.882200002670288, 2.882200002670288, 2.881999969482422, 2.881999969482422, 2.881700038909912, 2.881700038909912, 2.881500005722046, 2.8812999725341797, 2.8810999393463135, 2.88070011138916, 2.8803000450134277, 2.879199981689453, 2.8784000873565674, 2.8777999877929688, 2.8777999877929688, 2.877700090408325, 2.877700090408325, 2.8775999546051025, 2.8775999546051025, 2.8773000240325928, 2.87719988822937, 2.877000093460083, 2.753499984741211, 2.775899887084961, 2.6812000274658203, 2.712599992752075, 2.7054998874664307, 2.5917000770568848, 2.698499917984009, 2.3886001110076904, 2.265199899673462, 2.36680006980896, 1.811400055885315, 2.147599935531616, 2.22379994392395, 2.091599941253662, 1.4053000211715698, 2.210700035095215, 1.3321000337600708, 0.5938000082969666, 0.025200000032782555, 1.062000036239624, 2.433199882507324, 0.24819999933242798, 2.9409000873565674, 2.9405999183654785, 2.93969988822937, 2.93969988822937, 2.9395999908447266, 2.938499927520752, 2.9384000301361084, 2.937700033187866, 2.9368999004364014, 2.9363999366760254, 2.9356000423431396, 2.9356000423431396, 2.9356000423431396, 2.9351000785827637, 2.934799909591675, 2.934799909591675, 2.934299945831299, 2.9335999488830566, 2.933500051498413, 2.9328999519348145, 2.932800054550171, 2.9319000244140625, 2.93149995803833, 2.9309000968933105, 2.930000066757202, 2.9296998977661133, 2.9296998977661133, 2.929500102996826, 2.9291999340057373, 2.9282000064849854, 2.828900098800659, 2.7506000995635986, 2.794600009918213, 2.712599992752075, 2.692699909210205, 2.72979998588562, 2.6424999237060547, 2.6405999660491943, 2.6291000843048096, 2.114500045776367, 1.6439000368118286, 2.140500068664551, 1.0651999711990356, 1.8776999711990356, 0.8629000186920166, 2.5624001026153564, 1.3937000036239624, 1.8386000394821167, 1.0508999824523926, 1.3299000263214111, 0.6273000240325928, 3.0257999897003174, 3.025399923324585, 3.0241000652313232, 3.0241000652313232, 3.0237998962402344, 3.023400068283081, 3.0223000049591064, 3.0220000743865967, 3.0220000743865967, 3.0204999446868896, 3.0204999446868896, 3.0195000171661377, 3.0188000202178955, 3.018399953842163, 3.0183000564575195, 3.018199920654297, 3.018199920654297, 3.017899990081787, 3.017400026321411, 3.0171000957489014, 3.015700101852417, 3.015700101852417, 3.015500068664551, 3.0148000717163086, 3.014400005340576, 3.013700008392334, 3.013400077819824, 3.0130999088287354, 3.012399911880493, 3.0123000144958496, 2.9433999061584473, 2.890199899673462, 2.887399911880493, 2.753000020980835, 2.6191000938415527, 2.378499984741211, 2.4602999687194824, 2.7054998874664307, 2.7760000228881836, 2.0557000637054443, 2.169100046157837, 2.384200096130371, 2.0989999771118164, 1.4536000490188599, 1.3667000532150269, 1.523800015449524, 2.3046000003814697, 2.170599937438965, 0.7770000100135803, 2.0792999267578125, 2.2074999809265137, 3.0427000522613525, 3.0425000190734863, 3.0425000190734863, 3.0422000885009766, 3.0418999195098877, 3.041599988937378, 3.0413999557495117, 3.041100025177002, 3.0406999588012695, 3.0404999256134033, 3.0401999950408936, 3.039400100708008, 3.039400100708008, 3.039299964904785, 3.0392000675201416, 3.039099931716919, 3.0374999046325684, 3.0371999740600586, 3.0369999408721924, 3.036799907684326, 3.036799907684326, 3.036400079727173, 3.036099910736084, 3.035900115966797, 3.0353000164031982, 3.034899950027466, 3.034600019454956, 3.0344998836517334, 3.0343000888824463, 3.0341999530792236, 2.9811999797821045, 2.9165000915527344, 2.931299924850464, 2.882699966430664, 2.8189001083374023, 2.8176000118255615, 2.7207999229431152, 1.153499960899353, 2.347100019454956, 2.3987998962402344, 0.9664000272750854, 2.0764000415802, 1.0009000301361084, 0.8944000005722046, 1.8413000106811523, 1.0356999635696411, 1.8214999437332153, 1.6282999515533447, 0.9786999821662903, 3.0596001148223877, 3.0596001148223877, 3.0587000846862793, 3.0580999851226807, 3.0571000576019287, 3.056999921798706, 3.0564000606536865, 3.0564000606536865, 3.0562000274658203, 3.055999994277954, 3.055999994277954, 3.0555999279022217, 3.0543999671936035, 3.0541000366210938, 3.0539000034332275, 3.0536999702453613, 3.0536999702453613, 3.052999973297119, 3.052500009536743, 3.052299976348877, 3.0520999431610107, 3.051300048828125, 3.051100015640259, 3.0501999855041504, 3.049999952316284, 3.0494000911712646, 3.04830002784729, 3.0476999282836914, 3.047600030899048, 3.046999931335449, 2.9718000888824463, 2.967099905014038, 2.974299907684326, 2.93969988822937, 2.446199893951416, 2.6935999393463135, 2.867000102996826, 2.6779000759124756, 2.72160005569458, 2.0065999031066895, 2.7553999423980713, 2.204900026321411, 2.1185998916625977, 1.4550000429153442, 2.476300001144409, 2.462899923324585, 2.3203999996185303, 1.9644999504089355, 2.310499906539917, 2.391700029373169, 1.3104000091552734, 2.0971999168395996, 1.2589000463485718, 3.062000036239624, 3.062000036239624, 3.0617001056671143, 3.0617001056671143, 3.0608999729156494, 3.060499906539917, 3.0583999156951904, 3.0580999851226807, 3.058000087738037, 3.0576000213623047, 3.0573999881744385, 3.057300090789795, 3.056999921798706, 3.05679988861084, 3.055999994277954, 3.055999994277954, 3.054800033569336, 3.053999900817871, 3.052500009536743, 3.0522000789642334, 3.0520999431610107, 3.052000045776367, 3.052000045776367, 3.0518999099731445, 3.051800012588501, 3.0513999462127686, 3.0504000186920166, 3.0497000217437744, 3.049499988555908, 3.0490000247955322, 2.9612998962402344, 2.9001998901367188, 2.9440999031066895, 2.949899911880493, 2.781899929046631, 2.8824000358581543, 2.5797998905181885, 2.664400100708008, 2.8534998893737793, 1.7493000030517578, 2.8506999015808105, 2.1117000579833984, 0.9718999862670898, 1.6484999656677246, 0.08330000191926956, -0.17800000309944153, 1.6986000537872314, 3.1152000427246094, 3.114500045776367, 3.1140999794006348, 3.1136999130249023, 3.113600015640259, 3.1133999824523926, 3.1133999824523926, 3.111799955368042, 3.1105000972747803, 3.1103999614715576, 3.110100030899048, 3.1096999645233154, 3.108099937438965, 3.107599973678589, 3.1071999073028564, 3.1068999767303467, 3.1068999767303467, 3.106800079345703, 3.106800079345703, 3.106800079345703, 3.106600046157837, 3.1059999465942383, 3.1059000492095947, 3.1059000492095947, 3.1054999828338623, 3.104599952697754, 3.1045000553131104, 3.1038999557495117, 3.1036999225616455, 3.102400064468384, 3.094399929046631, 2.9797000885009766, 2.8643999099731445, 2.952399969100952, 2.912100076675415, 2.584399938583374, 2.672100067138672, 2.7797999382019043, 2.036799907684326, 2.0896999835968018, 2.9512999057769775, 1.3457000255584717, 2.834399938583374, 2.5578999519348145, 1.9443999528884888, 2.558199882507324, 1.4598000049591064, 1.8348000049591064, 2.077699899673462, 1.3948999643325806, 2.2595999240875244, 1.1878999471664429, 2.067500114440918, 1.1818000078201294, 1.5384999513626099, 2.013200044631958, 1.881700038909912, 3.1375999450683594, 3.1373000144958496, 3.1370999813079834, 3.1370999813079834, 3.1370999813079834, 3.13700008392334, 3.13700008392334, 3.13700008392334, 3.13700008392334, 3.1366000175476074, 3.1366000175476074, 3.136199951171875, 3.136199951171875, 3.1359000205993652, 3.134700059890747, 3.134000062942505, 3.13319993019104, 3.1321001052856445, 3.1315999031066895, 3.131500005722046, 3.1308000087738037, 3.1305999755859375, 3.1303000450134277, 3.129499912261963, 3.128700017929077, 3.127500057220459, 3.1273999214172363, 3.1273999214172363, 3.12719988822937, 3.1270999908447266, 3.1231000423431396, 3.0464000701904297, 2.9855000972747803, 3.0060999393463135, 2.8573999404907227, 2.7374000549316406, 2.646699905395508, 2.5020999908447266, 2.746000051498413, 2.3613998889923096, 2.0673999786376953, 2.1445000171661377, 2.924499988555908, 1.6247999668121338, 0.5945000052452087, 0.6226000189781189, 3.1480000019073486, 3.1470999717712402, 3.1468000411987305, 3.1468000411987305, 3.1468000411987305, 3.1466000080108643, 3.1458001136779785, 3.1456000804901123, 3.143699884414673, 3.1435999870300293, 3.1433000564575195, 3.141700029373169, 3.141700029373169, 3.1414999961853027, 3.1414999961853027, 3.141400098800659, 3.141400098800659, 3.1410999298095703, 3.1407999992370605, 3.1405999660491943, 3.1403000354766846, 3.1401000022888184, 3.139899969100952, 3.139699935913086, 3.139400005340576, 3.139400005340576, 3.138200044631958, 3.1380999088287354, 3.1380999088287354, 3.1379001140594482, 2.9663000106811523, 2.9725000858306885, 2.7102999687194824, 2.9999001026153564, 2.8954999446868896, 2.6022000312805176, 2.5332999229431152, 2.6877999305725098, 2.952199935913086, 2.781599998474121, 2.7923998832702637, 2.842400074005127, 2.5850000381469727, 2.0717999935150146, 2.7014000415802, 1.9184000492095947, 2.197200059890747, 2.3796000480651855, 1.5256999731063843, 1.069000005722046, 1.4183000326156616, 3.178499937057495, 3.1772000789642334, 3.1772000789642334, 3.174799919128418, 3.1745998859405518, 3.1740000247955322, 3.1738998889923096, 3.172800064086914, 3.1719000339508057, 3.1714999675750732, 3.1707000732421875, 3.1707000732421875, 3.170300006866455, 3.1696999073028564, 3.169600009918213, 3.1695001125335693, 3.1693999767303467, 3.169100046157837, 3.1684000492095947, 3.16759991645813, 3.1675000190734863, 3.167099952697754, 3.166599988937378, 3.166300058364868, 3.1659998893737793, 3.165299892425537, 3.1651999950408936, 3.164599895477295, 3.164400100708008, 3.164400100708008, 3.0013999938964844, 3.0859999656677246, 2.8826000690460205, 2.7590999603271484, 3.0007998943328857, 2.9323999881744385, 2.5773000717163086, 2.632699966430664, 2.8545000553131104, 1.9766000509262085, 2.4393999576568604, 2.4296000003814697, 2.8122000694274902, 2.773900032043457, 1.7099000215530396, 2.393699884414673, 2.803100109100342, 2.0905001163482666, 2.4323999881744385, 1.9664000272750854, 1.7799999713897705, 0.6064000129699707, 2.4519999027252197, 2.2827000617980957, 3.220099925994873, 3.2191998958587646, 3.2181999683380127, 3.2177999019622803, 3.217400074005127, 3.2170000076293945, 3.2167999744415283, 3.2167000770568848, 3.2155001163482666, 3.2146999835968018, 3.2146999835968018, 3.214600086212158, 3.213900089263916, 3.213900089263916, 3.2130000591278076, 3.2130000591278076, 3.2130000591278076, 3.212599992752075, 3.212399959564209, 3.211400032043457, 3.2105000019073486, 3.2095999717712402, 3.2091000080108643, 3.2088000774383545, 3.2079999446868896, 3.20740008354187, 3.2070999145507812, 3.2070000171661377, 3.206399917602539, 3.204900026321411, 3.0908000469207764, 3.081700086593628, 2.9458999633789062, 3.049999952316284, 2.694700002670288, 3.1166999340057373, 2.623800039291382, 2.397200107574463, 2.958400011062622, 2.990600109100342, 2.6916000843048096, 2.6352999210357666, 2.690200090408325, 2.792099952697754, 2.61080002784729, 2.257699966430664, 2.4337000846862793, 2.825200080871582, 2.729300022125244, 2.2660000324249268, 1.7632999420166016, 0.6283000111579895, 2.0373001098632812, 0.9169999957084656, 3.2636001110076904, 3.2634999752044678, 3.263400077819824, 3.262399911880493, 3.26200008392334, 3.261899948120117, 3.2618000507354736, 3.2607998847961426, 3.260699987411499, 3.260699987411499, 3.260499954223633, 3.260499954223633, 3.2602999210357666, 3.2602999210357666, 3.2602999210357666, 3.259500026702881, 3.2590999603271484, 3.259000062942505, 3.2578999996185303, 3.2567999362945557, 3.2567999362945557, 3.2564001083374023, 3.2564001083374023, 3.255000114440918, 3.255000114440918, 3.255000114440918, 3.2544000148773193, 3.253700017929077, 3.253499984741211, 3.2523000240325928, 3.075200080871582, 3.098400115966797, 3.0660998821258545, 3.098099946975708, 2.9586000442504883, 3.0192999839782715, 3.0524001121520996, 2.809299945831299, 2.890399932861328, 2.3443000316619873, 1.6079000234603882, 2.4786999225616455, 2.283600091934204, 1.0261000394821167, 2.178100109100342, 1.2790000438690186, 1.8343000411987305, 2.2363998889923096, 0.5203999876976013, 0.27869999408721924, -0.4846000075340271, 3.303299903869629, 3.3013999462127686, 3.3011999130249023, 3.3011999130249023, 3.300100088119507, 3.299499988555908, 3.2994000911712646, 3.2994000911712646, 3.2992000579833984, 3.2990000247955322, 3.2987000942230225, 3.2981998920440674, 3.2980000972747803, 3.2980000972747803, 3.297600030899048, 3.297300100326538, 3.2969000339508057, 3.2967000007629395, 3.2967000007629395, 3.2964999675750732, 3.2955000400543213, 3.295300006866455, 3.2943999767303467, 3.2943999767303467, 3.2941999435424805, 3.294100046157837, 3.294100046157837, 3.2934999465942383, 3.2918999195098877, 3.2916998863220215, 3.1884000301361084, 3.1484999656677246, 2.9612998962402344, 3.0188000202178955, 2.952899932861328, 2.921799898147583, 2.600100040435791, 2.498699903488159, 2.3125998973846436, 2.5374999046325684, 2.636399984359741, 1.773300051689148, 2.660099983215332, 2.3891000747680664, 2.192199945449829, 1.0405999422073364, 0.7286999821662903, 1.1512000560760498, 1.9702999591827393, 3.5165998935699463, 3.516400098800659, 3.5157999992370605, 3.5137999057769775, 3.5136001110076904, 3.5130999088287354, 3.5127999782562256, 3.5114998817443848, 3.5100998878479004, 3.5099000930786133, 3.5088999271392822, 3.5088999271392822, 3.5088000297546387, 3.508699893951416, 3.5081000328063965, 3.5074000358581543, 3.507200002670288, 3.5064001083374023, 3.5051000118255615, 3.5048000812530518, 3.5023999214172363, 3.500699996948242, 3.5002999305725098, 3.5002999305725098, 3.5002999305725098, 3.498199939727783, 3.49780011177063, 3.49780011177063, 3.4971001148223877, 3.4953999519348145, 3.4693000316619873, 3.4453001022338867, 3.398099899291992, 3.2730000019073486, 3.3506999015808105, 3.063800096511841, 2.867799997329712, 2.3819000720977783, 3.18149995803833, 2.4820001125335693, 2.9795000553131104, 2.9683001041412354, 2.4344000816345215, 1.3177000284194946, 1.208400011062622, 2.294300079345703, 0.6218000054359436, 1.1066999435424805, 2.234800100326538, 1.5824999809265137, 2.067500114440918], \"logprob\": [30.0, 29.0, 28.0, 27.0, 26.0, 25.0, 24.0, 23.0, 22.0, 21.0, 20.0, 19.0, 18.0, 17.0, 16.0, 15.0, 14.0, 13.0, 12.0, 11.0, 10.0, 9.0, 8.0, 7.0, 6.0, 5.0, 4.0, 3.0, 2.0, 1.0, -3.657399892807007, -3.4166998863220215, -4.6753997802734375, -4.950699806213379, -5.031099796295166, -5.03249979019165, -5.09060001373291, -5.188199996948242, -5.3480000495910645, -5.370999813079834, -5.403299808502197, -5.418600082397461, -5.433700084686279, -5.497900009155273, -5.497900009155273, -5.497900009155273, -5.590099811553955, -5.624599933624268, -5.631899833679199, -5.735499858856201, -5.774499893188477, -5.77810001373291, -5.79610013961792, -5.807400226593018, -5.869100093841553, -5.890100002288818, -5.916100025177002, -5.928599834442139, -5.950099945068359, -5.986700057983398, -2.474100112915039, -2.5429999828338623, -4.60890007019043, -2.8647000789642334, -2.994499921798706, -2.8111000061035156, -3.779900074005127, -4.118199825286865, -2.8041000366210938, -4.853000164031982, -4.873300075531006, -5.1168999671936035, -4.574100017547607, -4.978099822998047, -3.476900100708008, -4.559199810028076, -4.270699977874756, -4.115900039672852, -4.330699920654297, -4.825799942016602, -4.085000038146973, -4.633600234985352, -4.463500022888184, -5.093900203704834, -2.897200107574463, -2.941699981689453, -3.774600028991699, -3.783799886703491, -3.8166000843048096, -3.9688000679016113, -4.479700088500977, -4.64739990234375, -4.991499900817871, -5.006199836730957, -5.0518999099731445, -5.083600044250488, -5.257599830627441, -5.280900001525879, -5.305300235748291, -5.403500080108643, -5.463399887084961, -5.4984002113342285, -5.574999809265137, -5.6269001960754395, -5.6269001960754395, -5.646900177001953, -5.689799785614014, -5.783699989318848, -5.794400215148926, -5.827300071716309, -5.862100124359131, -5.866600036621094, -5.909200191497803, -6.004000186920166, -4.197299957275391, -3.3366000652313232, -3.3366000652313232, -3.2581000328063965, -4.5777997970581055, -2.951200008392334, -5.153900146484375, -4.522500038146973, -3.8478000164031982, -4.585000038146973, -4.6819000244140625, -4.489299774169922, -3.9821999073028564, -4.349800109863281, -4.498799800872803, -4.281799793243408, -4.937600135803223, -4.546599864959717, -4.386199951171875, -4.483699798583984, -4.524499893188477, -4.613399982452393, -4.884300231933594, -2.4870998859405518, -2.575200080871582, -2.740600109100342, -3.517899990081787, -3.6770999431610107, -3.7708001136779785, -4.092800140380859, -4.126299858093262, -4.246300220489502, -4.455699920654297, -4.562900066375732, -4.820099830627441, -4.882500171661377, -4.885499954223633, -4.886099815368652, -4.934000015258789, -5.067699909210205, -5.120299816131592, -5.245100021362305, -5.334000110626221, -5.42080020904541, -5.4770002365112305, -5.54040002822876, -5.564899921417236, -5.573699951171875, -5.573699951171875, -5.590099811553955, -5.594099998474121, -5.605999946594238, -5.619200229644775, -3.2448999881744385, -3.3076999187469482, -3.8947999477386475, -4.3755998611450195, -4.41349983215332, -4.282700061798096, -4.52269983291626, -4.610799789428711, -4.356500148773193, -4.226900100708008, -4.55049991607666, -4.09630012512207, -4.472400188446045, -4.226900100708008, -4.499800205230713, -4.729499816894531, -4.690199851989746, -4.833499908447266, -2.660799980163574, -2.660799980163574, -3.330699920654297, -3.3635001182556152, -4.03380012512207, -4.035600185394287, -4.049699783325195, -4.139100074768066, -4.196000099182129, -4.23960018157959, -4.552499771118164, -4.964099884033203, -4.978499889373779, -5.0528998374938965, -5.055099964141846, -5.164999961853027, -5.202199935913086, -5.247300148010254, -5.2621002197265625, -5.281899929046631, -5.304200172424316, -5.342400074005127, -5.394100189208984, -5.394100189208984, -5.422500133514404, -5.491199970245361, -5.500100135803223, -5.514599800109863, -5.6596999168396, -5.660699844360352, -5.660699844360352, -3.6205999851226807, -4.014500141143799, -3.261899948120117, -3.5297000408172607, -3.7946999073028564, -3.9539999961853027, -4.887700080871582, -3.8224000930786133, -4.791100025177002, -3.632200002670288, -4.7758002281188965, -4.858500003814697, -4.997600078582764, -4.86269998550415, -4.255799770355225, -4.744999885559082, -4.798299789428711, -4.424900054931641, -4.500500202178955, -4.615099906921387, -4.68720006942749, -4.792900085449219, -4.8028998374938965, -4.865099906921387, -4.876800060272217, -4.911900043487549, -4.938799858093262, -4.95550012588501, -5.0096001625061035, -5.0432000160217285, -5.046999931335449, -5.152100086212158, -5.196000099182129, -5.238999843597412, -5.314599990844727, -5.353400230407715, -5.43179988861084, -5.43179988861084, -5.457499980926514, -5.49370002746582, -5.495100021362305, -5.531400203704834, -5.549300193786621, -5.636600017547607, -5.714700222015381, -5.720399856567383, -5.732800006866455, -5.732800006866455, -3.508699893951416, -4.042799949645996, -4.44980001449585, -3.117300033569336, -4.0208001136779785, -3.8276000022888184, -4.587299823760986, -3.3870999813079834, -4.423600196838379, -4.38730001449585, -2.7757999897003174, -4.160999774932861, -4.2505998611450195, -3.496299982070923, -4.203100204467773, -4.542200088500977, -4.366700172424316, -4.652699947357178, -4.055099964141846, -4.6020002365112305, -4.733500003814697, -4.362599849700928, -4.434299945831299, -4.60099983215332, -4.75540018081665, -4.790599822998047, -3.7811999320983887, -3.9377999305725098, -3.9377999305725098, -3.9377999305725098, -4.061600208282471, -4.148900032043457, -4.148900032043457, -4.249899864196777, -4.249899864196777, -4.359499931335449, -4.417699813842773, -4.410999774932861, -4.439700126647949, -4.4532999992370605, -4.474999904632568, -4.575500011444092, -4.7434000968933105, -4.748700141906738, -4.748700141906738, -4.82390022277832, -4.824699878692627, -4.882999897003174, -5.060299873352051, -5.092800140380859, -5.107500076293945, -5.287700176239014, -5.426400184631348, -5.448999881744385, -5.649400234222412, -5.649799823760986, -3.3050999641418457, -4.349400043487549, -4.423600196838379, -4.532599925994873, -3.636699914932251, -3.391400098800659, -4.137499809265137, -3.726099967956543, -4.472300052642822, -4.492499828338623, -3.8245999813079834, -4.26230001449585, -4.534200191497803, -4.268099784851074, -4.396399974822998, -4.345099925994873, -4.372000217437744, -3.6863999366760254, -4.316100120544434, -4.316100120544434, -4.319399833679199, -4.347099781036377, -4.35290002822876, -4.602499961853027, -4.650199890136719, -4.695700168609619, -4.695700168609619, -4.743800163269043, -4.743800163269043, -4.808300018310547, -4.811100006103516, -4.845200061798096, -4.884200096130371, -4.9197998046875, -4.988699913024902, -5.061699867248535, -5.226200103759766, -5.329800128936768, -5.39709997177124, -5.401100158691406, -5.403800010681152, -5.411300182342529, -5.420000076293945, -5.420000076293945, -5.4552001953125, -5.469699859619141, -5.48769998550415, -4.099400043487549, -4.466599941253662, -3.6689000129699707, -4.109499931335449, -4.080699920654297, -4.027400016784668, -4.720799922943115, -3.8278000354766846, -3.56820011138916, -3.929800033569336, -3.2809998989105225, -3.993299961090088, -4.243199825286865, -4.106599807739258, -3.689300060272217, -4.495200157165527, -4.253799915313721, -4.185400009155273, -4.125199794769287, -4.4918999671936035, -4.692699909210205, -4.629799842834473, -3.0641000270843506, -3.3073999881744385, -3.9175000190734863, -3.9175000190734863, -3.943000078201294, -4.360300064086914, -4.378699779510498, -4.575399875640869, -4.7617998123168945, -4.845200061798096, -4.9878997802734375, -4.996699810028076, -4.996699810028076, -5.0706000328063965, -5.116399765014648, -5.1209001541137695, -5.183800220489502, -5.268700122833252, -5.28849983215332, -5.362100124359131, -5.3694000244140625, -5.462900161743164, -5.508200168609619, -5.565000057220459, -5.63670015335083, -5.669000148773193, -5.669000148773193, -5.685800075531006, -5.704400062561035, -5.783400058746338, -3.4502999782562256, -2.6112000942230225, -3.799499988555908, -4.095900058746338, -4.015399932861328, -4.828499794006348, -4.574900150299072, -4.646900177001953, -4.66379976272583, -3.460200071334839, -3.1038999557495117, -4.192399978637695, -3.0852999687194824, -4.2221999168396, -4.014999866485596, -4.950200080871582, -4.695000171661377, -4.839200019836426, -4.782599925994873, -4.945400238037109, -4.939300060272217, -3.1998000144958496, -3.5002999305725098, -4.136000156402588, -4.136000156402588, -4.220799922943115, -4.3541998863220215, -4.61929988861084, -4.674499988555908, -4.685800075531006, -4.9440999031066895, -4.948800086975098, -5.092100143432617, -5.17710018157959, -5.230299949645996, -5.242099761962891, -5.246300220489502, -5.246300220489502, -5.287799835205078, -5.3403000831604, -5.364500045776367, -5.499300003051758, -5.503399848937988, -5.518599987030029, -5.5833001136779785, -5.609799861907959, -5.66949987411499, -5.6880998611450195, -5.713399887084961, -5.758999824523926, -5.766600131988525, -3.6533000469207764, -4.189799785614014, -4.3119001388549805, -3.894200086593628, -3.6582000255584717, -2.8357999324798584, -3.661900043487549, -4.511600017547607, -4.840700149536133, -2.9642999172210693, -3.864000082015991, -4.637700080871582, -4.541100025177002, -4.100399971008301, -4.199900150299072, -4.359499931335449, -4.84689998626709, -4.795300006866455, -4.317699909210205, -4.820199966430664, -4.84689998626709, -3.955699920654297, -4.0081000328063965, -4.0121002197265625, -4.132699966430664, -4.223499774932861, -4.33050012588501, -4.386499881744385, -4.458199977874756, -4.554999828338623, -4.59250020980835, -4.66540002822876, -4.814899921417236, -4.817699909210205, -4.820099830627441, -4.836400032043457, -4.868299961090088, -5.102099895477295, -5.131400108337402, -5.1570000648498535, -5.186500072479248, -5.186999797821045, -5.23390007019043, -5.2683000564575195, -5.2845001220703125, -5.351500034332275, -5.388700008392334, -5.422399997711182, -5.430099964141846, -5.44980001449585, -5.461100101470947, -3.3657000064849854, -3.7925000190734863, -4.252200126647949, -3.900899887084961, -4.1350998878479, -4.360499858856201, -4.269499778747559, -2.9969000816345215, -4.444200038909912, -4.666800022125244, -3.781399965286255, -4.570499897003174, -3.9718000888824463, -3.9835000038146973, -4.480299949645996, -4.230800151824951, -4.667699813842773, -4.644599914550781, -4.608099937438965, -3.8357999324798584, -3.8357999324798584, -4.186699867248535, -4.343699932098389, -4.583000183105469, -4.61299991607666, -4.724599838256836, -4.728499889373779, -4.759900093078613, -4.8024001121521, -4.8024001121521, -4.750800132751465, -5.053100109100342, -5.0868000984191895, -5.114500045776367, -5.1367998123168945, -5.1367998123168945, -5.224400043487549, -5.277699947357178, -5.294400215148926, -5.320400238037109, -5.3979997634887695, -5.423399925231934, -5.499199867248535, -5.5208001136779785, -5.565999984741211, -5.651199817657471, -5.694900035858154, -5.704599857330322, -5.746500015258789, -3.6842000484466553, -4.217400074005127, -4.892399787902832, -4.759900093078613, -2.5738000869750977, -3.8961000442504883, -4.742499828338623, -4.189599990844727, -4.570700168609619, -3.20770001411438, -4.836599826812744, -4.030399799346924, -4.003600120544434, -3.324199914932251, -4.578199863433838, -4.622600078582764, -4.548600196838379, -4.31279993057251, -4.711400032043457, -4.759900093078613, -4.572800159454346, -4.779699802398682, -4.774199962615967, -2.4488000869750977, -2.5129001140594482, -2.853600025177002, -2.853600025177002, -3.4647998809814453, -3.7957000732421875, -4.474999904632568, -4.531000137329102, -4.576499938964844, -4.650000095367432, -4.692800045013428, -4.714900016784668, -4.765600204467773, -4.793600082397461, -4.930600166320801, -4.931099891662598, -5.098100185394287, -5.196300029754639, -5.361000061035156, -5.3927001953125, -5.398900032043457, -5.406499862670898, -5.406499862670898, -5.420599937438965, -5.424600124359131, -5.462699890136719, -5.554299831390381, -5.604800224304199, -5.624199867248535, -5.662799835205078, -3.839400053024292, -2.9828999042510986, -4.320000171661377, -4.753600120544434, -4.218800067901611, -4.9704999923706055, -4.435100078582764, -4.856599807739258, -5.227200031280518, -4.612400054931641, -5.2870001792907715, -5.10860013961792, -4.861599922180176, -5.029300212860107, -4.889400005340576, -4.957200050354004, -5.095900058746338, -4.023900032043457, -4.244200229644775, -4.367300033569336, -4.44789981842041, -4.485000133514404, -4.514599800109863, -4.524600028991699, -4.831999778747559, -5.0208001136779785, -5.028900146484375, -5.07289981842041, -5.125100135803223, -5.298500061035156, -5.34499979019165, -5.381400108337402, -5.409299850463867, -5.411600112915039, -5.423699855804443, -5.423699855804443, -5.423699855804443, -5.44290018081665, -5.48960018157959, -5.498499870300293, -5.501399993896484, -5.528600215911865, -5.6020002365112305, -5.607999801635742, -5.653900146484375, -5.6666998863220215, -5.752500057220459, -3.955199956893921, -4.499199867248535, -3.8547000885009766, -4.704699993133545, -4.483799934387207, -3.0023999214172363, -3.6205999851226807, -4.487500190734863, -2.710900068283081, -3.002700090408325, -5.112400054931641, -2.8046998977661133, -5.1194000244140625, -4.832900047302246, -4.196400165557861, -4.877500057220459, -3.9268999099731445, -4.290800094604492, -4.5467000007629395, -4.179900169372559, -4.706200122833252, -4.105000019073486, -4.600800037384033, -4.2256999015808105, -4.43120002746582, -4.633299827575684, -4.604100227355957, -3.349400043487549, -3.511699914932251, -3.6126999855041504, -3.6126999855041504, -3.6126999855041504, -3.696000099182129, -3.696000099182129, -3.696000099182129, -3.696000099182129, -3.8422000408172607, -3.8705999851226807, -3.994999885559082, -4.01609992980957, -4.113999843597412, -4.433300018310547, -4.588500022888184, -4.734000205993652, -4.903299808502197, -4.969799995422363, -4.980299949645996, -5.078999996185303, -5.101900100708008, -5.13640022277832, -5.225800037384033, -4.962299823760986, -5.413899898529053, -5.423999786376953, -5.424600124359131, -5.439599990844727, -5.446800231933594, -4.923299789428711, -4.049799919128418, -4.0142998695373535, -4.545899868011475, -4.1682000160217285, -4.283699989318848, -4.192599773406982, -3.992500066757202, -4.470099925994873, -3.9962000846862793, -4.105899810791016, -4.326600074768066, -4.849800109863281, -4.462100028991699, -4.184599876403809, -4.39739990234375, -4.0279998779296875, -4.2916998863220215, -4.3668999671936035, -4.367700099945068, -4.374100208282471, -4.399499893188477, -4.591599941253662, -4.6290998458862305, -4.930200099945068, -4.942399978637695, -4.977700233459473, -5.178299903869629, -5.178299903869629, -5.194499969482422, -5.1946001052856445, -5.206200122833252, -5.211599826812744, -5.240200042724609, -5.2708001136779785, -5.287600040435791, -5.317999839782715, -5.338200092315674, -5.351600170135498, -5.374899864196777, -5.396900177001953, -5.403900146484375, -5.497900009155273, -5.50540018081665, -5.509099960327148, -5.525000095367432, -3.589400053024292, -4.51800012588501, -3.9748001098632812, -5.005099773406982, -4.642399787902832, -3.8835999965667725, -3.8243000507354736, -4.218900203704834, -4.929800033569336, -4.7129998207092285, -4.736800193786621, -4.821599960327148, -4.565800189971924, -4.08050012588501, -4.822500228881836, -4.244999885559082, -4.770299911499023, -4.960999965667725, -4.720900058746338, -4.702300071716309, -4.874499797821045, -3.2437000274658203, -3.9367001056671143, -3.9367001056671143, -4.554100036621094, -4.595099925994873, -4.700399875640869, -4.72599983215332, -4.896100044250488, -5.01170015335083, -5.058499813079834, -5.153299808502197, -5.158699989318848, -5.18779993057251, -5.263299942016602, -5.267300128936768, -5.274400234222412, -5.285200119018555, -5.313799858093262, -5.379000186920166, -5.449999809265137, -5.459700107574463, -5.4918999671936035, -5.525100231170654, -5.55109977722168, -5.573800086975098, -5.623300075531006, -5.628900051116943, -5.6682000160217285, -5.68120002746582, -5.681399822235107, -3.393699884414673, -4.5183000564575195, -3.7639000415802, -3.414099931716919, -4.905700206756592, -4.662399768829346, -3.620800018310547, -4.24429988861084, -4.803800106048584, -3.1043999195098877, -4.0792999267578125, -4.088699817657471, -4.832799911499023, -4.78380012512207, -3.473599910736084, -4.3557000160217285, -4.863500118255615, -4.267300128936768, -4.633200168609619, -4.38070011138916, -4.367700099945068, -4.172699928283691, -4.808300018310547, -4.802800178527832, -3.2990000247955322, -3.7639000415802, -4.101799964904785, -4.222599983215332, -4.318999767303467, -4.411099910736084, -4.446800231933594, -4.467599868774414, -4.697199821472168, -4.817800045013428, -4.827199935913086, -4.831999778747559, -4.927700042724609, -4.929599761962891, -5.043099880218506, -5.046299934387207, -5.0467000007629395, -5.091899871826172, -5.109899997711182, -5.214000225067139, -5.304900169372559, -5.381999969482422, -5.423999786376953, -5.446599960327148, -5.5065999031066895, -5.55079984664917, -5.568299770355225, -5.577000141143799, -5.616399765014648, -5.716000080108643, -2.9426000118255615, -4.668900012969971, -4.136099815368652, -4.818299770355225, -3.5518999099731445, -5.194699764251709, -3.7091000080108643, -3.188699960708618, -4.828499794006348, -4.905399799346924, -4.305699825286865, -4.253200054168701, -4.3572998046875, -4.551599979400635, -4.288000106811523, -3.8310000896453857, -4.277500152587891, -4.738100051879883, -4.701000213623047, -4.48799991607666, -4.388999938964844, -4.249599933624268, -4.682499885559082, -4.6697998046875, -3.9284000396728516, -3.9593000411987305, -3.9892001152038574, -4.269599914550781, -4.363399982452393, -4.394499778747559, -4.412399768829346, -4.588699817657471, -4.612400054931641, -4.615799903869629, -4.643799781799316, -4.655600070953369, -4.6834001541137695, -4.6875, -4.6875, -4.799799919128418, -4.851600170135498, -4.8709001541137695, -5.002900123596191, -5.125999927520752, -5.131499767303467, -5.17080020904541, -5.171899795532227, -5.294300079345703, -5.294300079345703, -5.294300079345703, -5.348100185394287, -5.402500152587891, -5.42140007019043, -5.5065999031066895, -3.9995999336242676, -4.2835001945495605, -4.115499973297119, -4.781400203704834, -4.365499973297119, -4.648399829864502, -4.83620023727417, -4.305500030517578, -4.717700004577637, -4.127799987792969, -3.7788000106811523, -4.494100093841553, -4.4430999755859375, -4.068600177764893, -4.508699893951416, -4.327700138092041, -4.527400016784668, -4.614999771118164, -4.452199935913086, -4.500400066375732, -4.635000228881836, -3.2576000690460205, -4.070300102233887, -4.112400054931641, -4.11460018157959, -4.387899875640869, -4.497499942779541, -4.507299900054932, -4.518899917602539, -4.55649995803833, -4.581200122833252, -4.626399993896484, -4.714600086212158, -4.7469000816345215, -4.7469000816345215, -4.79449987411499, -4.837399959564209, -4.884900093078613, -4.916999816894531, -4.916999816894531, -4.939300060272217, -5.055600166320801, -5.077099800109863, -5.158999919891357, -5.161900043487549, -5.179800033569336, -5.186399936676025, -5.186399936676025, -5.242000102996826, -5.375999927520752, -5.390500068664551, -4.3958001136779785, -4.162899971008301, -3.3541998863220215, -3.953700065612793, -4.3531999588012695, -4.331600189208984, -4.263299942016602, -4.280900001525879, -4.1585001945495605, -4.612599849700928, -4.687099933624268, -4.46120023727417, -4.729400157928467, -4.658899784088135, -4.617800235748291, -4.513299942016602, -4.485599994659424, -4.639500141143799, -4.707600116729736, -2.896399974822998, -3.0810999870300293, -3.384999990463257, -4.018099784851074, -4.08519983291626, -4.182000160217285, -4.249599933624268, -4.464600086212158, -4.665500164031982, -4.696800231933594, -4.802700042724609, -4.8094000816345215, -4.823699951171875, -4.827000141143799, -4.887899875640869, -4.959099769592285, -4.979899883270264, -5.055200099945068, -5.157299995422363, -5.184899806976318, -5.349599838256836, -5.458199977874756, -5.478099822998047, -5.478099822998047, -5.480400085449219, -5.592599868774414, -5.610199928283691, -5.610199928283691, -5.646900177001953, -5.725200176239014, -4.333600044250488, -4.237100124359131, -3.7221999168395996, -2.9614999294281006, -4.066999912261963, -3.9001998901367188, -3.964200019836426, -3.2790000438690186, -4.922999858856201, -3.7909998893737793, -4.61929988861084, -4.733099937438965, -4.41949987411499, -3.6877999305725098, -3.795300006866455, -4.3907999992370605, -4.350800037384033, -4.5, -4.684000015258789, -4.779200077056885, -4.799300193786621]}, \"token.table\": {\"Topic\": [2, 9, 10, 11, 5, 9, 18, 7, 10, 11, 2, 7, 8, 14, 19, 20, 10, 20, 9, 5, 15, 15, 1, 7, 17, 17, 13, 2, 4, 10, 16, 1, 6, 7, 3, 17, 2, 12, 10, 17, 1, 10, 1, 14, 2, 10, 17, 8, 19, 7, 19, 6, 7, 11, 1, 15, 16, 13, 11, 16, 2, 15, 8, 13, 2, 5, 6, 15, 15, 1, 12, 17, 4, 20, 13, 16, 17, 2, 9, 10, 13, 14, 15, 10, 10, 3, 4, 6, 12, 15, 16, 17, 5, 8, 14, 8, 20, 2, 4, 5, 6, 9, 11, 13, 15, 19, 1, 13, 17, 10, 13, 17, 6, 13, 3, 9, 12, 2, 7, 1, 17, 6, 9, 11, 14, 11, 10, 13, 18, 10, 14, 20, 8, 9, 15, 17, 19, 1, 4, 10, 15, 17, 20, 3, 6, 10, 2, 16, 1, 18, 14, 15, 8, 18, 8, 12, 14, 4, 15, 13, 16, 9, 11, 9, 11, 14, 18, 18, 5, 13, 1, 13, 7, 16, 1, 10, 20, 15, 6, 14, 5, 12, 13, 14, 16, 6, 17, 1, 4, 5, 8, 10, 10, 16, 20, 20, 15, 18, 14, 10, 13, 14, 15, 18, 12, 20, 18, 4, 19, 1, 3, 10, 13, 16, 1, 5, 16, 20, 9, 2, 7, 7, 5, 3, 14, 6, 6, 6, 19, 3, 6, 7, 11, 3, 8, 5, 2, 2, 7, 10, 13, 17, 19, 6, 12, 13, 17, 20, 18, 5, 12, 9, 15, 9, 4, 6, 13, 3, 5, 6, 8, 15, 3, 20, 1, 4, 4, 11, 2, 15, 3, 16, 3, 10, 16, 13, 14, 11, 17, 18, 10, 5, 9, 12, 7, 15, 19, 19, 8, 2, 4, 14, 16, 17, 1, 2, 4, 5, 6, 7, 8, 10, 11, 12, 13, 15, 18, 20, 6, 5, 12, 2, 20, 11, 1, 19, 15, 10, 8, 2, 8, 6, 10, 13, 7, 10, 12, 14, 17, 5, 8, 4, 18, 15, 5, 13, 12, 9, 1, 4, 9, 11, 12, 19, 3, 13, 5, 8, 18, 9, 6, 3, 10, 5, 8, 9, 12, 1, 12, 10, 10, 16, 13, 17, 19, 5, 11, 6, 10, 11, 18, 20, 3, 5, 6, 8, 17, 18, 20, 14, 2, 4, 2, 6, 13, 18, 8, 10, 10, 7, 4, 5, 14, 20, 4, 8, 11, 10, 8, 14, 9, 11, 1, 10, 3, 11, 12, 20, 2, 15, 7, 3, 13, 15, 8, 4, 18, 8, 8, 12, 9, 1, 6, 5, 6, 14, 16, 5, 16, 7, 13, 9, 5, 6, 10, 13, 14, 16, 18, 9, 11, 19, 16, 1, 18, 11, 2, 13, 16, 8, 8, 4, 1, 13, 12, 1, 13, 19, 2, 16, 2, 20, 13, 7, 1, 16, 19, 6, 5, 6, 10, 13, 19, 7, 20, 6, 18, 14, 14, 3, 18, 5, 8, 1, 7, 14, 17, 18, 9, 10, 5, 20, 14, 2, 16, 1, 5, 13, 17, 20, 7, 18, 6, 12, 14, 17, 4, 5, 11, 3, 9, 10, 11, 10, 15, 18, 19, 15, 13, 17, 20, 1, 20, 1, 17, 1, 16, 7, 3, 13, 16, 20, 11, 7, 15, 17, 11, 3, 3, 15, 4, 1, 14, 10, 18, 1, 15, 7, 12, 15, 16, 19, 5, 7, 2, 7, 4, 20, 5, 10, 19, 7, 14, 4, 9, 13, 5, 12, 18, 20, 13, 9, 11, 4, 1, 2, 5, 10, 18, 17, 2, 5, 13, 17, 7, 1, 7, 14, 17, 12, 15, 19, 3, 15, 17, 20, 5, 11, 10, 10, 10, 14, 4, 11, 17, 18, 19, 4, 8, 3, 4, 17, 4, 16, 6, 20, 19, 3, 3, 8, 20, 2, 5, 6, 7, 10, 15, 16, 18, 20, 17, 13, 1, 7, 4, 13, 10, 12, 13, 14, 18, 12, 5, 6, 17, 20, 18, 14, 13, 12, 7, 18, 2, 6, 16, 20, 2, 20, 3, 3, 15, 14, 3, 17, 9, 15, 1, 17, 2, 14, 6, 9, 12, 14, 18, 10, 5, 13, 16, 7, 10, 1, 6, 8, 10, 14, 5, 10, 1, 2, 5, 7, 8, 10, 13, 14, 17, 18, 1, 8, 13, 1, 5, 20, 5, 1, 7, 20, 5, 13, 16, 1, 13, 16, 15, 1, 7, 2, 17, 20, 16, 12, 2, 17, 20, 3, 17, 11, 1, 13, 16, 12, 14, 11, 16, 16, 5, 18, 7, 19, 9, 12, 2, 1, 4, 7, 3, 4, 6, 8, 13, 18, 2, 20, 9, 16, 3, 11, 14, 7, 3, 3, 7, 10, 16, 9, 18, 17, 1, 11, 14, 19, 3, 8, 20, 1, 3, 2, 5, 8, 8, 13, 19, 15, 1, 15, 7, 16, 11, 3, 5, 11, 19, 18, 4, 17, 2, 16, 20, 15, 17, 8, 16, 17, 16, 6, 9, 6, 14, 3, 14, 16, 17, 19, 7, 18, 13, 16, 5, 9, 10, 18, 2, 5, 6, 7, 9, 10, 11, 15, 16, 18, 3, 11, 14, 19, 4, 19, 19, 16, 20, 20, 17, 8, 4, 2, 3, 4, 7, 9, 11, 14, 15, 16, 17, 6, 2, 5, 10, 11, 15, 20, 12, 20, 16, 3, 1, 15, 3, 3, 18, 5, 17, 8, 17, 2, 6, 10, 16, 19, 5, 10, 13, 14, 17, 15, 19, 6, 1, 7, 11, 13, 16, 17, 5, 6, 9, 11, 14, 2, 1, 11, 2, 11, 5, 13, 2, 12, 19, 9, 5, 19, 18, 7, 3, 1, 12, 2, 8, 6, 19, 12, 20, 9, 15, 20, 2, 7, 9, 10, 11, 12, 13, 14, 16, 19, 17, 9, 13, 15, 16, 3, 4, 4, 9, 3, 4, 7, 14, 19, 5, 6, 13, 16, 2, 9, 4, 5, 6, 8, 12, 13, 14, 17, 15, 16, 18, 1, 7, 13, 15, 19, 17, 3, 6, 14, 12, 20, 20, 2, 14, 5, 19, 7, 8, 13, 2, 15, 19, 20, 2, 3, 18, 10, 18, 8, 5, 10, 2, 12, 16, 5, 9, 9, 12, 15, 10, 17, 11, 12, 10, 1, 8, 15, 17, 19, 1, 17, 1, 13, 2, 16, 10, 16, 9, 19, 11, 2, 12, 16, 4, 8, 9, 17, 13, 15, 3, 13, 19, 19, 13, 2, 4, 8, 20, 17, 17, 12, 10, 9, 5, 12, 18, 20, 4, 9, 11, 3, 8, 13, 16, 12, 6, 7, 13, 17, 7, 2, 4, 12, 3, 11, 1, 5, 9, 6, 14, 16, 20, 9, 17, 2, 14, 2, 16, 4, 7, 16, 4, 18, 5, 2, 3, 4, 5, 6, 7, 8, 10, 11, 12, 14, 15, 16, 18, 1, 2, 4, 1, 2, 3, 5, 7, 8, 9, 11, 14, 15, 16, 6, 12, 9, 1, 7, 19, 14, 2, 17, 9, 10, 15, 18, 19, 19, 11, 18, 7, 3, 6, 9, 10, 11, 12, 19, 15, 17, 17, 7, 6, 14, 16, 17, 19, 20, 9, 12, 19, 9, 5, 16, 4, 1, 2, 3, 4, 5, 6, 7, 8, 9, 10, 12, 16, 17, 18, 6, 13, 19, 20, 4, 7, 4, 13, 1, 9, 11, 7, 8, 13, 16, 19, 2, 5, 7, 8, 17, 10, 19, 5, 18, 11, 20, 3, 11, 15, 11, 20, 5, 13, 8, 2, 1, 7, 12, 18, 8, 6, 2, 3, 18, 2, 3, 11, 18, 19, 2, 4, 7, 13, 17, 11, 16, 9, 19, 3, 6, 2, 6, 11, 3, 5, 11, 3, 9, 18, 4, 19, 5, 11, 3, 4, 6, 10, 18, 17, 8, 8, 13, 10, 6, 2, 8, 12, 19, 12, 14, 7, 9, 6, 6, 18, 4, 16, 9, 6, 11, 16, 20, 1, 20, 17, 15, 13, 1, 10, 12, 7, 15, 9, 19, 9, 11, 18, 14, 18, 3, 11, 7, 15, 19, 11, 3, 8, 13, 4, 17, 19, 8, 20, 14, 2, 15, 7, 15, 9, 11, 18, 17, 15, 15, 2, 3, 7, 4, 6, 14, 12, 12, 4, 14, 18, 4, 5, 8, 16, 17, 18, 4, 17, 1, 11, 19, 9, 4, 11, 12, 15, 4, 3, 15, 6, 5, 19, 20, 9, 15, 16, 10, 13, 5, 4, 7, 11, 13, 17, 8, 11, 13, 18, 12, 13, 17, 12, 4, 5, 1, 6, 14, 10, 5, 8, 14, 12, 2, 5, 9, 18, 20, 2, 18, 8, 17, 9, 8, 17, 10, 17, 3, 17, 8, 10, 9, 1, 11, 1, 19, 20, 6, 4, 4, 19, 18, 11, 15, 16, 12, 1, 4, 5, 6, 8, 10, 13, 3, 20, 5, 17, 6, 12, 20, 15, 7, 11, 18, 10, 19, 9, 11, 19, 5, 9, 2, 20, 5, 2, 18, 1, 4, 7, 10, 13, 15, 20, 8, 20, 5, 6, 7, 13, 9, 15, 2, 9, 16, 3, 4, 9, 16, 13, 9, 10, 11, 12, 15, 17, 19, 10, 18, 15, 15, 18, 15, 6, 7, 16, 1, 2, 14, 15, 14, 8, 3, 9, 5, 7, 8, 9, 12, 18, 12, 15, 11, 17, 11, 2, 9, 11, 13, 15, 18, 19, 11, 11, 1, 13, 2, 10, 11, 15, 16, 17, 18, 6, 3, 2, 14, 13, 20, 18, 7, 11, 6, 19], \"Freq\": [0.4030188322067261, 0.4244352877140045, 0.007787803187966347, 0.164517343044281, 0.49084654450416565, 0.3866574168205261, 0.1180810034275055, 0.745197594165802, 0.07871805876493454, 0.17492900788784027, 0.1296563446521759, 0.8140279650688171, 0.05480319634079933, 0.9104110598564148, 0.08455830067396164, 0.9920260310173035, 0.4181971251964569, 0.5782478451728821, 0.9928643703460693, 0.9909021258354187, 0.9969921708106995, 0.9872698783874512, 0.9907901883125305, 0.9962129592895508, 0.9907501935958862, 0.9824745059013367, 0.9799314141273499, 0.655417263507843, 0.09753233194351196, 0.23212695121765137, 0.013654526323080063, 0.16284330189228058, 0.631017804145813, 0.20355413854122162, 0.32376983761787415, 0.6745204925537109, 0.16219818592071533, 0.8350202441215515, 0.985602855682373, 0.9921667575836182, 0.9914056658744812, 0.9964797496795654, 0.9890786409378052, 0.9979142546653748, 0.07272200286388397, 0.8784052729606628, 0.04784342646598816, 0.9975767135620117, 0.9950211048126221, 0.9947704672813416, 0.9867398142814636, 0.10749424248933792, 0.8351476192474365, 0.057881515473127365, 0.9887070655822754, 0.9955998063087463, 0.9983813762664795, 0.9935916662216187, 0.9805299043655396, 0.9898041486740112, 0.1731792539358139, 0.8226014375686646, 0.9986841082572937, 0.984017014503479, 0.9857621788978577, 0.9958652257919312, 0.8213052749633789, 0.17468060553073883, 0.9934426546096802, 0.9942347407341003, 0.9934466481208801, 0.9917914867401123, 0.9931396842002869, 0.9803648591041565, 0.9935916662216187, 0.7219598293304443, 0.2719711661338806, 0.060235828161239624, 0.021623117849230766, 0.08958148956298828, 0.17144043743610382, 0.528221845626831, 0.128194198012352, 0.997128963470459, 0.9953265190124512, 0.13929501175880432, 0.06190889701247215, 0.1373603641986847, 0.11414452642202377, 0.19733460247516632, 0.04449702054262161, 0.3056751787662506, 0.20293183624744415, 0.7948163747787476, 0.9965636134147644, 0.999489426612854, 0.9950035810470581, 0.6583935618400574, 0.08771701157093048, 0.053662169724702835, 0.19916921854019165, 0.42557674646377563, 0.14845700562000275, 0.423102468252182, 0.6997136473655701, 0.2955312430858612, 0.8015289306640625, 0.14426478743553162, 0.054164398461580276, 0.21258334815502167, 0.1732160598039627, 0.6101929545402527, 0.9955961108207703, 0.9817332625389099, 0.9983001947402954, 0.997488796710968, 0.9828046560287476, 0.7070346474647522, 0.2909817695617676, 0.779524028301239, 0.2160637229681015, 0.9940654039382935, 0.3785739839076996, 0.5404664874076843, 0.08059278130531311, 0.9935453534126282, 0.11035607755184174, 0.06345474720001221, 0.8249117136001587, 0.09470494091510773, 0.8574636578559875, 0.04607267677783966, 0.13293087482452393, 0.08162422478199005, 0.6296725869178772, 0.06996361911296844, 0.08395634591579437, 0.08360034227371216, 0.5419932007789612, 0.1747153103351593, 0.05072380229830742, 0.08172167837619781, 0.06669240444898605, 0.07966157048940659, 0.9161080718040466, 0.9937947392463684, 0.9992160797119141, 0.9916109442710876, 0.9855403900146484, 0.9968999624252319, 0.4592289328575134, 0.5386849641799927, 0.8927661776542664, 0.10583699494600296, 0.9986841082572937, 0.9994856715202332, 0.9986196756362915, 0.16744525730609894, 0.830659806728363, 0.9835240244865417, 0.9983850121498108, 0.4406558573246002, 0.5569025278091431, 0.6648887991905212, 0.33430859446525574, 0.14806267619132996, 0.8451910614967346, 0.9895268082618713, 0.989650309085846, 0.9943332672119141, 0.8223339319229126, 0.17688380181789398, 0.45123887062072754, 0.5476868748664856, 0.998863697052002, 0.06585260480642319, 0.9320676326751709, 0.99543297290802, 0.9985270500183105, 0.9977803826332092, 0.99234938621521, 0.9990137219429016, 0.996843695640564, 0.9957414865493774, 0.9871785044670105, 0.23898595571517944, 0.7586414217948914, 0.9925868511199951, 0.9995661377906799, 0.5786353945732117, 0.3455161154270172, 0.07493120431900024, 0.5248652100563049, 0.47292542457580566, 0.9925599098205566, 0.987545907497406, 0.31039687991142273, 0.6866354942321777, 0.9908420443534851, 0.16611401736736298, 0.19631655514240265, 0.15554311871528625, 0.08305700868368149, 0.3971635103225708, 0.9907239675521851, 0.9812169075012207, 0.9884487390518188, 0.990900456905365, 0.9932470917701721, 0.44709765911102295, 0.21359319984912872, 0.1321381777524948, 0.09050559252500534, 0.11765727400779724, 0.9911457896232605, 0.16219541430473328, 0.836145281791687, 0.9735625386238098, 0.9881991744041443, 0.9993669986724854, 0.9956496357917786, 0.9955024123191833, 0.9943506717681885, 0.1888098567724228, 0.805218517780304, 0.9963671565055847, 0.9988834261894226, 0.9940592646598816, 0.9939264059066772, 0.1811758428812027, 0.2229856550693512, 0.5942060947418213, 0.9934828877449036, 0.8340228796005249, 0.16417773067951202, 0.9941330552101135, 0.9971639513969421, 0.14851921796798706, 0.6081101894378662, 0.17892473936080933, 0.035083282738924026, 0.029236067086458206, 0.9920397400856018, 0.5121685266494751, 0.0535101443529129, 0.12230890244245529, 0.25035104155540466, 0.059243373572826385, 0.9928852915763855, 0.9910954236984253, 0.9891188144683838, 0.13289162516593933, 0.8602983951568604, 0.9940985441207886, 0.24975912272930145, 0.17785876989364624, 0.5714185833930969, 0.02883426658809185, 0.44249510765075684, 0.0798487439751625, 0.15747946500778198, 0.29166969656944275, 0.9951854348182678, 0.9833697080612183, 0.1670236587524414, 0.830942690372467, 0.9994137287139893, 0.9951683282852173, 0.9924942851066589, 0.9870585203170776, 0.9961380958557129, 0.9937374591827393, 0.989588737487793, 0.9884529113769531, 0.9857195019721985, 0.9766126275062561, 0.021523142233490944, 0.11552596092224121, 0.6498335003852844, 0.23105192184448242, 0.9939872026443481, 0.7166964411735535, 0.2811655104160309, 0.9994856715202332, 0.23509185016155243, 0.6926813125610352, 0.07136716693639755, 0.9902030825614929, 0.99140864610672, 0.14554332196712494, 0.19458509981632233, 0.18192915618419647, 0.4761797785758972, 0.9787331819534302, 0.11934377253055573, 0.06472882628440857, 0.12608635425567627, 0.26127520203590393, 0.022587662562727928, 0.011125266551971436, 0.011462396010756493, 0.12945765256881714, 0.024273309856653214, 0.05090652406215668, 0.026296084746718407, 0.0330386720597744, 0.06405457109212875, 0.05528920516371727, 0.9932202100753784, 0.9959160685539246, 0.9925694465637207, 0.9809134006500244, 0.017438460141420364, 0.9954647421836853, 0.9977187514305115, 0.9938774108886719, 0.9943728446960449, 0.9977166652679443, 0.9936482906341553, 0.9873096346855164, 0.9877728819847107, 0.9977932572364807, 0.18256638944149017, 0.8139417767524719, 0.19819124042987823, 0.12011589854955673, 0.18617965281009674, 0.11010624468326569, 0.384370893239975, 0.2559572458267212, 0.7405695915222168, 0.9933549761772156, 0.9936671257019043, 0.9898508787155151, 0.8561675548553467, 0.1430124044418335, 0.9956828951835632, 0.9975091814994812, 0.12750324606895447, 0.19661715626716614, 0.11082057654857635, 0.4242163896560669, 0.03336533531546593, 0.10605409741401672, 0.9980144500732422, 0.991889238357544, 0.9880404472351074, 0.9928577542304993, 0.9905759692192078, 0.9905557632446289, 0.9978704452514648, 0.20190352201461792, 0.7953775525093079, 0.508611261844635, 0.07295653223991394, 0.16050437092781067, 0.2563900947570801, 0.9935621619224548, 0.9907239675521851, 0.9932167530059814, 0.3025408089160919, 0.6929160356521606, 0.569951593875885, 0.22956383228302002, 0.19789984822273254, 0.9963120222091675, 0.9959108233451843, 0.3056279718875885, 0.24252259731292725, 0.04083288460969925, 0.0544438473880291, 0.3551223576068878, 0.03686262667179108, 0.10105444490909576, 0.5338725447654724, 0.06864075362682343, 0.03241368755698204, 0.13728150725364685, 0.08961431682109833, 0.9904564023017883, 0.07736781239509583, 0.9206770062446594, 0.06761856377124786, 0.6003431677818298, 0.2065107524394989, 0.12518571317195892, 0.9882922172546387, 0.9891877174377441, 0.9955807328224182, 0.993410050868988, 0.9269412755966187, 0.06564740091562271, 0.005251792259514332, 0.985287070274353, 0.6470627188682556, 0.13572534918785095, 0.21463543176651, 0.9922934174537659, 0.9949129819869995, 0.9949602484703064, 0.873595654964447, 0.12479938566684723, 0.9906883239746094, 0.9875074625015259, 0.994335949420929, 0.1511576771736145, 0.7557883858680725, 0.09223180264234543, 0.8714078068733215, 0.12731607258319855, 0.9922780990600586, 0.13013221323490143, 0.29088377952575684, 0.5771746635437012, 0.9950278401374817, 0.17804139852523804, 0.8196043372154236, 0.9971325993537903, 0.9907183647155762, 0.9974539279937744, 0.9951732754707336, 0.9874189496040344, 0.9954617023468018, 0.1918601244688034, 0.19404035806655884, 0.6104640364646912, 0.9888843894004822, 0.9853441119194031, 0.9950547218322754, 0.2391989678144455, 0.7508189678192139, 0.9824549555778503, 0.440670371055603, 0.09639664739370346, 0.03876267001032829, 0.19024311006069183, 0.041312847286462784, 0.002040140563622117, 0.19024311006069183, 0.8686714768409729, 0.12811341881752014, 0.9902030825614929, 0.986528754234314, 0.18676666915416718, 0.8093222379684448, 0.9875281453132629, 0.9979382753372192, 0.9933549165725708, 0.9853716492652893, 0.9904840588569641, 0.9950278401374817, 0.9923496246337891, 0.9912856221199036, 0.996850311756134, 0.997458815574646, 0.9930081963539124, 0.849466860294342, 0.1481628268957138, 0.5148055553436279, 0.4815922677516937, 0.9876436591148376, 0.9883895516395569, 0.9933831691741943, 0.9941455125808716, 0.9970149397850037, 0.8365813493728638, 0.15844343602657318, 0.9966413378715515, 0.17618098855018616, 0.2876424491405487, 0.14921452105045319, 0.330788791179657, 0.05213519185781479, 0.10972508788108826, 0.8864632248878479, 0.21464751660823822, 0.7787212133407593, 0.9927510619163513, 0.9935927391052246, 0.9896743893623352, 0.9950897693634033, 0.9966214299201965, 0.9937908053398132, 0.2298644483089447, 0.5153170228004456, 0.03155002370476723, 0.051080986857414246, 0.17127154767513275, 0.9968467950820923, 0.9907013773918152, 0.47610944509506226, 0.5215562582015991, 0.9987258315086365, 0.9892749786376953, 0.9839438199996948, 0.11898926645517349, 0.712676465511322, 0.06925301253795624, 0.045329246670007706, 0.05351369082927704, 0.9940659403800964, 0.9931550621986389, 0.25504645705223083, 0.1073879823088646, 0.0483245886862278, 0.5879491567611694, 0.5004944205284119, 0.1054963693022728, 0.39254462718963623, 0.17039057612419128, 0.24935206770896912, 0.49662619829177856, 0.0810394212603569, 0.37423479557037354, 0.3841482996940613, 0.11152692139148712, 0.12639717757701874, 0.9931652545928955, 0.2889421880245209, 0.07408773899078369, 0.6346849799156189, 0.9881178736686707, 0.9927403330802917, 0.9965488314628601, 0.9936747550964355, 0.6991632580757141, 0.3001781105995178, 0.9963508248329163, 0.9928516149520874, 0.3309016525745392, 0.666274905204773, 0.9953891634941101, 0.9852094054222107, 0.21212074160575867, 0.19645273685455322, 0.5905634164810181, 0.9948360919952393, 0.9948905110359192, 0.9930720925331116, 0.9879682064056396, 0.9935628771781921, 0.9937078356742859, 0.9986196756362915, 0.9916823506355286, 0.9921565651893616, 0.9935621619224548, 0.9904407262802124, 0.0761820450425148, 0.06972593814134598, 0.07359960675239563, 0.06972593814134598, 0.7088803648948669, 0.9940203428268433, 0.9867790341377258, 0.9917962551116943, 0.9972150921821594, 0.678392231464386, 0.3214143216609955, 0.5718938112258911, 0.37946411967277527, 0.046758610755205154, 0.3294571340084076, 0.6693732142448425, 0.13145612180233002, 0.09085937589406967, 0.7752044200897217, 0.34618738293647766, 0.26910659670829773, 0.239356130361557, 0.14469550549983978, 0.9935916662216187, 0.9202781915664673, 0.07868549227714539, 0.9933549761772156, 0.2898344099521637, 0.7081181406974792, 0.09046377241611481, 0.797059178352356, 0.11002350598573685, 0.9978013038635254, 0.9953227043151855, 0.14832894504070282, 0.8454750180244446, 0.9968168139457703, 0.993410050868988, 0.2660950720310211, 0.11569350957870483, 0.07172997295856476, 0.5437595248222351, 0.10486526042222977, 0.034955088049173355, 0.856399655342102, 0.8000497221946716, 0.1632208377122879, 0.034784771502017975, 0.9930254817008972, 0.882028341293335, 0.11504717916250229, 0.9954341053962708, 0.995361864566803, 0.9975133538246155, 0.9986196756362915, 0.9995661377906799, 0.9933497309684753, 0.2558434307575226, 0.27964282035827637, 0.46408811211586, 0.9948365688323975, 0.9935659766197205, 0.9942871332168579, 0.9918214082717896, 0.9931772351264954, 0.9969379305839539, 0.9948305487632751, 0.9942463040351868, 0.9848127365112305, 0.9971662163734436, 0.996330201625824, 0.15098075568675995, 0.7308841347694397, 0.11666695028543472, 0.03446813300251961, 0.04870497062802315, 0.4503336548805237, 0.07867725938558578, 0.05320081487298012, 0.12438499927520752, 0.029972290620207787, 0.1161426231265068, 0.06444042176008224, 0.9916383624076843, 0.9933434128761292, 0.9853699207305908, 0.9989967346191406, 0.9955869317054749, 0.9912062883377075, 0.1470010131597519, 0.0996617004275322, 0.0996617004275322, 0.1993234008550644, 0.4559522867202759, 0.9936800003051758, 0.4605017304420471, 0.326399564743042, 0.10120917111635208, 0.11006497591733932, 0.9926662445068359, 0.9984278082847595, 0.9924313426017761, 0.9921913743019104, 0.9947704672813416, 0.996425211429596, 0.5143840909004211, 0.18656416237354279, 0.29717007279396057, 0.9788761734962463, 0.9950326085090637, 0.9670210480690002, 0.9914195537567139, 0.9971149563789368, 0.9875667691230774, 0.9959041476249695, 0.9953582882881165, 0.9947922229766846, 0.9970718026161194, 0.9933484196662903, 0.20069265365600586, 0.7964990139007568, 0.9937393665313721, 0.9925541281700134, 0.32216235995292664, 0.15887460112571716, 0.09709002822637558, 0.06399115920066833, 0.3574678301811218, 0.9885942935943604, 0.991002082824707, 0.9934216141700745, 0.9911155700683594, 0.9980421662330627, 0.9968292117118835, 0.39938464760780334, 0.20217297971248627, 0.19969232380390167, 0.15628094971179962, 0.04217104986310005, 0.7050382494926453, 0.2949179708957672, 0.14074382185935974, 0.04800105094909668, 0.23600517213344574, 0.057186439633369446, 0.15304039418697357, 0.1508181244134903, 0.1699296534061432, 0.005926055833697319, 0.014815139584243298, 0.023556072264909744, 0.5121145248413086, 0.23263247311115265, 0.2536340057849884, 0.8420076370239258, 0.04668143391609192, 0.11078131198883057, 0.9963912963867188, 0.9935621619224548, 0.8751171231269836, 0.12154404073953629, 0.9979763627052307, 0.9874464869499207, 0.9871629476547241, 0.7696375250816345, 0.0004162452823948115, 0.22976739704608917, 0.9965552687644958, 0.739968478679657, 0.2582017779350281, 0.8923206329345703, 0.02515941672027111, 0.08218742907047272, 0.9916601777076721, 0.999262809753418, 0.8923206329345703, 0.02515941672027111, 0.08218742907047272, 0.999724268913269, 0.9811915159225464, 0.9934828877449036, 0.8136752843856812, 0.14536550641059875, 0.04086953401565552, 0.9974822998046875, 0.9987258315086365, 0.8863775134086609, 0.10822051018476486, 0.9950436949729919, 0.9927417635917664, 0.9907827973365784, 0.48472467064857483, 0.5130297541618347, 0.18369260430335999, 0.8066501021385193, 0.9889845252037048, 0.24667976796627045, 0.6377373337745667, 0.11467722058296204, 0.03385704383254051, 0.05540243536233902, 0.21606950461864471, 0.43706366419792175, 0.17851896584033966, 0.07817899435758591, 0.7199513912200928, 0.2761780619621277, 0.21347911655902863, 0.7796628475189209, 0.9996795058250427, 0.9956186413764954, 0.9921867251396179, 0.9930159449577332, 0.9987146258354187, 0.9977333545684814, 0.1045714020729065, 0.8919325470924377, 0.9868432879447937, 0.9857146143913269, 0.9916045069694519, 0.9908156991004944, 0.14777402579784393, 0.6913106441497803, 0.15966388583183289, 0.985659122467041, 0.1522427797317505, 0.8258921504020691, 0.021393591538071632, 0.08223150670528412, 0.9155107736587524, 0.2139866203069687, 0.6378048062324524, 0.14750534296035767, 0.863308846950531, 0.13478536903858185, 0.990974485874176, 0.9943743944168091, 0.35882797837257385, 0.6398378610610962, 0.8939882516860962, 0.10114465653896332, 0.9798389077186584, 0.24255089461803436, 0.19089654088020325, 0.47611844539642334, 0.08758782595396042, 0.9981173276901245, 0.9962024092674255, 0.994135320186615, 0.5266318917274475, 0.472861647605896, 0.9970896244049072, 0.8362439274787903, 0.15888634324073792, 0.9941021203994751, 0.12473273277282715, 0.8677060008049011, 0.9910136461257935, 0.9953315258026123, 0.9903828501701355, 0.9978704452514648, 0.9975776076316833, 0.13123999536037445, 0.3695839047431946, 0.033187124878168106, 0.09352735430002213, 0.37109240889549255, 0.9953199625015259, 0.9938793778419495, 0.9919002652168274, 0.9983850121498108, 0.12347806245088577, 0.18378131091594696, 0.0574316568672657, 0.6317482590675354, 0.1287325769662857, 0.12416219711303711, 0.20719090104103088, 0.227376788854599, 0.10549978166818619, 0.03961002454161644, 0.012187699787318707, 0.031230982393026352, 0.017519818618893623, 0.10626151412725449, 0.9985405206680298, 0.992501974105835, 0.24657060205936432, 0.7521648406982422, 0.5962679386138916, 0.400197833776474, 0.995341956615448, 0.9922615885734558, 0.9979813098907471, 0.9854061603546143, 0.9986699223518372, 0.9957550764083862, 0.9888559579849243, 0.12841098010540009, 0.13149283826351166, 0.07293743640184402, 0.1448475867509842, 0.03081863559782505, 0.09348319470882416, 0.21983960270881653, 0.07088286429643631, 0.04109151288866997, 0.06574641913175583, 0.994670033454895, 0.3333735764026642, 0.4017309248447418, 0.04837597534060478, 0.012619820423424244, 0.09359699487686157, 0.10937177389860153, 0.8949556946754456, 0.1034630835056305, 0.9890015125274658, 0.9983460903167725, 0.6251100897789001, 0.3744763433933258, 0.9911442399024963, 0.9358924627304077, 0.06274139136075974, 0.44196051359176636, 0.556458055973053, 0.44934332370758057, 0.5505113005638123, 0.7073796391487122, 0.1578487902879715, 0.1338774859905243, 0.9923694133758545, 0.9950143098831177, 0.16012023389339447, 0.12647628784179688, 0.5862767696380615, 0.026790544390678406, 0.09968574345111847, 0.9870585203170776, 0.9984354972839355, 0.9917879104614258, 0.26704391837120056, 0.21102072298526764, 0.028634080663323402, 0.0037348801270127296, 0.05042088031768799, 0.4382259249687195, 0.11206765472888947, 0.6518220901489258, 0.23328369855880737, 0.8241258263587952, 0.1742437332868576, 0.9980303049087524, 0.9860106110572815, 0.9892466068267822, 0.2591538429260254, 0.7358118295669556, 0.9920367002487183, 0.992793619632721, 0.9886144399642944, 0.8868680596351624, 0.11002498120069504, 0.9941229820251465, 0.9927417635917664, 0.9885632395744324, 0.9952433109283447, 0.9942934513092041, 0.9907156825065613, 0.998432457447052, 0.9893041253089905, 0.9975522756576538, 0.9877728819847107, 0.9921366572380066, 0.989640474319458, 0.9950482249259949, 0.9897660613059998, 0.17704978585243225, 0.23296025395393372, 0.5824006199836731, 0.22487741708755493, 0.161574125289917, 0.20739366114139557, 0.024115541949868202, 0.03677619993686676, 0.021101098507642746, 0.05064263567328453, 0.09706505388021469, 0.07234662771224976, 0.10369683057069778, 0.9803110361099243, 0.12242793291807175, 0.6399068236351013, 0.17670010030269623, 0.05932075157761574, 0.9993653297424316, 0.9987941384315491, 0.9968502521514893, 0.9919736385345459, 0.9192686080932617, 0.04008703678846359, 0.04008703678846359, 0.9983747601509094, 0.9838151931762695, 0.08988983929157257, 0.07730526477098465, 0.08809204399585724, 0.7424900531768799, 0.23746715486049652, 0.7609742879867554, 0.24454335868358612, 0.04378287121653557, 0.1324164867401123, 0.10999111831188202, 0.02776474691927433, 0.277647465467453, 0.11426261812448502, 0.048054371029138565, 0.5686047077178955, 0.22922807931900024, 0.2024351954460144, 0.09143605828285217, 0.3745361566543579, 0.35343554615974426, 0.10022798925638199, 0.07912735641002655, 0.9949155449867249, 0.35414549708366394, 0.6436069011688232, 0.9883661270141602, 0.27812594175338745, 0.7107663154602051, 0.9812169075012207, 0.9928255677223206, 0.9938998818397522, 0.9911856055259705, 0.9907362461090088, 0.9956496357917786, 0.9961848855018616, 0.9966221451759338, 0.026159504428505898, 0.642776370048523, 0.03550218418240547, 0.2933601438999176, 0.9888893365859985, 0.6607150435447693, 0.3369085192680359, 0.9939141273498535, 0.9937111735343933, 0.9835157990455627, 0.9944040179252625, 0.9922165274620056, 0.3232869505882263, 0.6724368333816528, 0.9867410659790039, 0.8736497163772583, 0.12448081374168396, 0.39229097962379456, 0.14395998418331146, 0.46067196130752563, 0.0950208529829979, 0.9026980996131897, 0.9915176630020142, 0.9965543150901794, 0.9981982111930847, 0.3154428005218506, 0.12914100289344788, 0.10373622179031372, 0.12067274749279022, 0.32814517617225647, 0.8235927820205688, 0.17460167407989502, 0.7701737880706787, 0.22784307599067688, 0.9964619874954224, 0.9926345348358154, 0.0843292847275734, 0.9088822603225708, 0.9959501028060913, 0.9899086356163025, 0.9882322549819946, 0.12316814064979553, 0.8504466414451599, 0.025974232703447342, 0.9966978430747986, 0.21701838076114655, 0.19148680567741394, 0.5897793173789978, 0.9934402704238892, 0.9933816194534302, 0.284295916557312, 0.7124121189117432, 0.9922887682914734, 0.988457977771759, 0.9944401383399963, 0.9939197897911072, 0.9920631647109985, 0.9964097738265991, 0.9992291331291199, 0.9961388111114502, 0.9822821617126465, 0.9891923666000366, 0.9959192276000977, 0.9887017607688904, 0.5041773915290833, 0.12324336916208267, 0.13668809831142426, 0.2352827936410904, 0.9909067153930664, 0.07917709648609161, 0.913581907749176, 0.16243582963943481, 0.6839403510093689, 0.1496119499206543, 0.9868527054786682, 0.9941866993904114, 0.9977932572364807, 0.9898332953453064, 0.9974559545516968, 0.9942625761032104, 0.9894430041313171, 0.9939197897911072, 0.9946436882019043, 0.9909722208976746, 0.9876719117164612, 0.9885342717170715, 0.9920797348022461, 0.21821030974388123, 0.7779672145843506, 0.9972507357597351, 0.34270957112312317, 0.6563000679016113, 0.9952991604804993, 0.9984288811683655, 0.9981126189231873, 0.9991084337234497, 0.9961639642715454, 0.987684965133667, 0.9799948334693909, 0.6473689079284668, 0.1048017144203186, 0.24672070145606995, 0.9963355660438538, 0.9884487390518188, 0.9938119053840637, 0.0825137346982956, 0.0702894777059555, 0.010557313449680805, 0.12307604402303696, 0.08751457184553146, 0.10085012018680573, 0.013891201466321945, 0.04195142909884453, 0.20058895647525787, 0.0391731895506382, 0.07862420380115509, 0.024170691147446632, 0.07640160620212555, 0.050286151468753815, 0.20135530829429626, 0.10697001218795776, 0.6890127062797546, 0.24668529629707336, 0.13799722492694855, 0.028087930753827095, 0.03724703937768936, 0.0885380432009697, 0.0989183634519577, 0.18989883363246918, 0.05617586150765419, 0.02442428655922413, 0.051291003823280334, 0.03968946635723114, 0.9180399775505066, 0.07982956618070602, 0.9873426556587219, 0.990614116191864, 0.8399918079376221, 0.15856987237930298, 0.9904199838638306, 0.8989138007164001, 0.09872463345527649, 0.06592517346143723, 0.7226413488388062, 0.20791786909103394, 0.9953376054763794, 0.9899086356163025, 0.994146466255188, 0.9984639883041382, 0.9957674145698547, 0.9972150921821594, 0.0653686597943306, 0.2572843134403229, 0.22208581864833832, 0.0921865701675415, 0.17347835004329681, 0.08129178732633591, 0.10727164149284363, 0.9904471635818481, 0.9943183064460754, 0.9925274848937988, 0.9954684972763062, 0.10176218301057816, 0.13715772330760956, 0.19909992814064026, 0.08185219019651413, 0.1415821611881256, 0.33846986293792725, 0.045263879001140594, 0.8147497773170471, 0.1357916295528412, 0.978329062461853, 0.5420362949371338, 0.4563467502593994, 0.9935315251350403, 0.04140014946460724, 0.016560060903429985, 0.12328045070171356, 0.21405410766601562, 0.051213521510362625, 0.09905369579792023, 0.07145359367132187, 0.12512046098709106, 0.011040040291845798, 0.11653375625610352, 0.03220011666417122, 0.007360026706010103, 0.07482694089412689, 0.015640057623386383, 0.9974350929260254, 0.9848629832267761, 0.2167087346315384, 0.782294750213623, 0.9971203804016113, 0.9973284006118774, 0.9931007027626038, 0.9847687482833862, 0.10973656177520752, 0.17489264905452728, 0.7132876515388489, 0.9933304190635681, 0.07146420329809189, 0.33052194118499756, 0.10049653798341751, 0.4935496747493744, 0.10743050277233124, 0.21195748448371887, 0.635872483253479, 0.043552909046411514, 0.9889441132545471, 0.9935060143470764, 0.9939296841621399, 0.9942795634269714, 0.9953097701072693, 0.9147864580154419, 0.08530747145414352, 0.15024349093437195, 0.6817018389701843, 0.1659405678510666, 0.9984639883041382, 0.9968969821929932, 0.9954885244369507, 0.9943733811378479, 0.9885532855987549, 0.9921421408653259, 0.990730881690979, 0.15930549800395966, 0.1026635393500328, 0.7363454103469849, 0.9932925701141357, 0.9928231835365295, 0.8249709010124207, 0.17416849732398987, 0.9840348958969116, 0.42628201842308044, 0.3498874008655548, 0.07028305530548096, 0.036669421941041946, 0.11611983180046082, 0.11059590429067612, 0.0531294047832489, 0.477080374956131, 0.30901795625686646, 0.04879231005907059, 0.9941380023956299, 0.9902161955833435, 0.9921491742134094, 0.9944244623184204, 0.9174205660820007, 0.0817665383219719, 0.9884137511253357, 0.9991304874420166, 0.9918803572654724, 0.7567274570465088, 0.24027477204799652, 0.9898552894592285, 0.9944443702697754, 0.9900510907173157, 0.9932680130004883, 0.47242435812950134, 0.5253359079360962, 0.9971172213554382, 0.9966246485710144, 0.5222476720809937, 0.04417020082473755, 0.05066582188010216, 0.3000975549221039, 0.08054566383361816, 0.9904065728187561, 0.9946301579475403, 0.7413511276245117, 0.25454115867614746, 0.988587498664856, 0.9953315258026123, 0.15953536331653595, 0.3320561647415161, 0.2430131733417511, 0.26341885328292847, 0.996076762676239, 0.9956691861152649, 0.9955852031707764, 0.9931711554527283, 0.9977932572364807, 0.9413213133811951, 0.05761092156171799, 0.3091442883014679, 0.6880953311920166, 0.9972595572471619, 0.038483425974845886, 0.38030678033828735, 0.5795150995254517, 0.9932209253311157, 0.9003309011459351, 0.09945718199014664, 0.9830474853515625, 0.9978172779083252, 0.9869537949562073, 0.14846797287464142, 0.8495667576789856, 0.9995527267456055, 0.22358109056949615, 0.7759578824043274, 0.10561470687389374, 0.8908370733261108, 0.5672374963760376, 0.3895101845264435, 0.042569421231746674, 0.7537766695022583, 0.2442551553249359, 0.9933062791824341, 0.9847437739372253, 0.13853035867214203, 0.17811045050621033, 0.682756781578064, 0.9919850826263428, 0.5346599221229553, 0.11391380429267883, 0.34909069538116455, 0.9918550252914429, 0.8773345351219177, 0.12171678245067596, 0.039998531341552734, 0.954250693321228, 0.9986196756362915, 0.9949759840965271, 0.9965307712554932, 0.9942956566810608, 0.9945586323738098, 0.48558172583580017, 0.5123929977416992, 0.981107771396637, 0.9894070029258728, 0.9857447147369385, 0.9896840453147888, 0.05692483112215996, 0.9406150579452515, 0.9916648864746094, 0.9967823624610901, 0.32093653082847595, 0.6736489534378052, 0.9861273169517517, 0.9880989789962769, 0.00728951022028923, 0.984083890914917, 0.9947060346603394, 0.2233259528875351, 0.11526501178741455, 0.21303443610668182, 0.06277826428413391, 0.3818153440952301, 0.003087455639615655, 0.7097053527832031, 0.2870718240737915, 0.3779086172580719, 0.17457735538482666, 0.4456857144832611, 0.9871938824653625, 0.9984176754951477, 0.24946680665016174, 0.6158711910247803, 0.12993063032627106, 0.9918550252914429, 0.2586142122745514, 0.736055850982666, 0.9921883344650269, 0.9942598938941956, 0.7023175954818726, 0.29205286502838135, 0.9920187592506409, 0.9982612729072571, 0.9818557500839233, 0.12399040162563324, 0.8720658421516418, 0.9956004619598389, 0.2454863339662552, 0.13808606564998627, 0.040275104343891144, 0.11890744417905807, 0.45453330874443054, 0.7801107168197632, 0.06883329898118973, 0.04971293732523918, 0.10133790969848633, 0.3861353099346161, 0.3861353099346161, 0.2233840525150299, 0.9946057200431824, 0.6086379289627075, 0.39092355966567993, 0.9856378436088562, 0.992648720741272, 0.9910542368888855, 0.9925134778022766, 0.9881976842880249, 0.992415189743042, 0.9932827949523926, 0.9977057576179504, 0.28051307797431946, 0.19090473651885986, 0.1519445925951004, 0.3740174472332001, 0.9905795454978943, 0.9933745861053467, 0.9884487390518188, 0.15252093970775604, 0.8419155478477478, 0.9881991744041443, 0.9914942979812622, 0.9903416037559509, 0.9918152093887329, 0.9933531880378723, 0.22493699193000793, 0.7704092264175415, 0.993868887424469, 0.9937824606895447, 0.9966574907302856, 0.9261870384216309, 0.06961536407470703, 0.994133710861206, 0.9912732243537903, 0.9979641437530518, 0.9973865151405334, 0.997349202632904, 0.9976842999458313, 0.9932632446289062, 0.9898692965507507, 0.549354612827301, 0.041829030960798264, 0.40713587403297424, 0.9947910308837891, 0.1391947716474533, 0.00861553754657507, 0.08157836645841599, 0.032846733927726746, 0.27300482988357544, 0.1251945197582245, 0.3392367660999298, 0.9996713399887085, 0.9830967783927917, 0.985892117023468, 0.9920886158943176, 0.9888180494308472, 0.9966723918914795, 0.9884299635887146, 0.9837035536766052, 0.9897847771644592, 0.15003032982349396, 0.8439205884933472, 0.9953893423080444, 0.9954689741134644, 0.5259934067726135, 0.4710388779640198, 0.9923732876777649, 0.9911856055259705, 0.9853740334510803, 0.9936051964759827, 0.9905795454978943, 0.9960548877716064, 0.9965317845344543, 0.9907827973365784, 0.19039204716682434, 0.04142262414097786, 0.3412615954875946, 0.022421419620513916, 0.35760262608528137, 0.028501804918050766, 0.0182411540299654, 0.8098610639572144, 0.18792356550693512, 0.08966036140918732, 0.4006101191043854, 0.509347140789032, 0.9978466033935547, 0.999001145362854, 0.9895986914634705, 0.17813406884670258, 0.7252601385116577, 0.09224800020456314, 0.42432868480682373, 0.16569024324417114, 0.07274205982685089, 0.3367688059806824, 0.9885612726211548, 0.5228626728057861, 0.015454068779945374, 0.34814581274986267, 0.009444152936339378, 0.013736950233578682, 0.013736950233578682, 0.07598250359296799, 0.9380434155464172, 0.0612926110625267, 0.9860507249832153, 0.9883275032043457, 0.993000328540802, 0.9935516119003296, 0.16742710769176483, 0.8293482065200806, 0.9943628311157227, 0.19101017713546753, 0.8062118291854858, 0.9935667514801025, 0.9950979948043823, 0.9987258315086365, 0.9993872046470642, 0.9944443702697754, 0.997488796710968, 0.09089407324790955, 0.5373913049697876, 0.15069280564785004, 0.031095340847969055, 0.12358404695987701, 0.06537994742393494, 0.9040079712867737, 0.09438598155975342, 0.9082683324813843, 0.0862085223197937, 0.9841716885566711, 0.14648208022117615, 0.39478710293769836, 0.06966830790042877, 0.1411229819059372, 0.10360927879810333, 0.08038651198148727, 0.06073647364974022, 0.9918572902679443, 0.9979894757270813, 0.9985995292663574, 0.000989692285656929, 0.07238496094942093, 0.0021934835240244865, 0.1359959840774536, 0.33998996019363403, 0.0910295695066452, 0.23250927031040192, 0.126125305891037, 0.9958129525184631, 0.9968218803405762, 0.12004408240318298, 0.8758772015571594, 0.15161697566509247, 0.8474999666213989, 0.991820216178894, 0.9921897649765015, 0.9966246485710144, 0.9985270500183105, 0.990974485874176], \"Term\": [\"000\", \"000\", \"000\", \"000\", \"10\", \"10\", \"10\", \"100\", \"100\", \"100\", \"11\", \"11\", \"11\", \"12\", \"12\", \"13\", \"14\", \"14\", \"16\", \"1795\", \"19\", \"1970s\", \"2012\", \"2015\", \"25\", \"28\", \"280\", \"300\", \"300\", \"300\", \"300\", \"4\", \"4\", \"4\", \"40\", \"40\", \"400\", \"400\", \"41\", \"43\", \"499\", \"500\", \"52\", \"57\", \"6\", \"6\", \"6\", \"7\", \"72\", \"8\", \"800\", \"9\", \"9\", \"9\", \"999\", \"abandoned\", \"abdel\", \"abdi\", \"abdullah\", \"abrams\", \"absence\", \"absence\", \"abu\", \"accidental\", \"account\", \"across\", \"actor\", \"actor\", \"ad\", \"age\", \"agent\", \"ago\", \"agreed\", \"agrees\", \"ahmed\", \"aid\", \"aid\", \"air\", \"air\", \"air\", \"air\", \"air\", \"air\", \"airdrop\", \"airdropped\", \"airport\", \"airport\", \"airport\", \"airport\", \"airport\", \"airport\", \"airport\", \"airstrike\", \"airstrike\", \"airstrikes\", \"al\", \"alan\", \"alleged\", \"alleged\", \"alleged\", \"alleged\", \"allegedly\", \"allegedly\", \"allegedly\", \"amazon\", \"amazon\", \"american\", \"american\", \"american\", \"among\", \"among\", \"among\", \"angry\", \"animal\", \"ankle\", \"anna\", \"anyway\", \"app\", \"app\", \"apparently\", \"apparently\", \"appendix\", \"apple\", \"apple\", \"apple\", \"apps\", \"arm\", \"arm\", \"arm\", \"arrest\", \"arrest\", \"arrest\", \"arrested\", \"arrested\", \"arrested\", \"arrested\", \"arrested\", \"attack\", \"attack\", \"attack\", \"attack\", \"attack\", \"attack\", \"attempt\", \"attempt\", \"attorney\", \"audio\", \"awakens\", \"awesome\", \"axl\", \"baby\", \"baby\", \"baghdadi\", \"baghdadi\", \"bakr\", \"bale\", \"bank\", \"banksy\", \"banksy\", \"banned\", \"bary\", \"batman\", \"batman\", \"batmobile\", \"batmobile\", \"battle\", \"battle\", \"become\", \"bed\", \"behead\", \"beheaded\", \"beheaded\", \"beheading\", \"beheading\", \"beheads\", \"behind\", \"behind\", \"belonging\", \"bibeau\", \"big\", \"bin\", \"biopic\", \"bird\", \"birth\", \"blurred\", \"body\", \"body\", \"bogus\", \"boko\", \"border\", \"border\", \"border\", \"born\", \"born\", \"bosnia\", \"bosnian\", \"boston\", \"boston\", \"bowe\", \"boy\", \"boy\", \"boy\", \"boy\", \"boy\", \"boyle\", \"brat\", \"brave\", \"breached\", \"break\", \"breaking\", \"breaking\", \"breaking\", \"breaking\", \"breaking\", \"britain\", \"british\", \"british\", \"briton\", \"brokaw\", \"brown\", \"buckingham\", \"bug\", \"bugatti\", \"building\", \"building\", \"burrow\", \"burrowed\", \"butcher\", \"campus\", \"canadian\", \"canadian\", \"canadian\", \"canseco\", \"capital\", \"capital\", \"capsule\", \"capture\", \"captured\", \"captured\", \"captured\", \"captured\", \"captured\", \"car\", \"case\", \"case\", \"case\", \"case\", \"case\", \"cast\", \"castrate\", \"castrated\", \"catch\", \"catch\", \"catching\", \"catfish\", \"catfish\", \"catfish\", \"caught\", \"caught\", \"caught\", \"caught\", \"caught\", \"cause\", \"cawthorne\", \"cease\", \"cease\", \"ceasefire\", \"center\", \"ceo\", \"cesar\", \"charge\", \"check\", \"cheese\", \"chemical\", \"chest\", \"chief\", \"chief\", \"child\", \"child\", \"child\", \"chlorine\", \"chop\", \"chop\", \"christian\", \"christmas\", \"christmas\", \"christmas\", \"chugging\", \"circling\", \"city\", \"city\", \"city\", \"city\", \"civil\", \"claim\", \"claim\", \"claim\", \"claim\", \"claim\", \"claim\", \"claim\", \"claim\", \"claim\", \"claim\", \"claim\", \"claim\", \"claim\", \"claim\", \"cleaver\", \"cleric\", \"closer\", \"cnn\", \"cnn\", \"co\", \"college\", \"colorado\", \"com\", \"comcast\", \"come\", \"comment\", \"conde\", \"condom\", \"confirmed\", \"confirmed\", \"confirms\", \"confirms\", \"confirms\", \"confirms\", \"confirms\", \"congressman\", \"congressman\", \"constipated\", \"contact\", \"contains\", \"contracted\", \"contracted\", \"control\", \"cost\", \"could\", \"could\", \"could\", \"could\", \"could\", \"could\", \"crater\", \"creature\", \"crisis\", \"cross\", \"cub\", \"cuba\", \"culkin\", \"customer\", \"customer\", \"cut\", \"cut\", \"cut\", \"cut\", \"dam\", \"danny\", \"darkness\", \"date\", \"date\", \"daughter\", \"daughter\", \"daughter\", \"david\", \"dawn\", \"day\", \"day\", \"day\", \"day\", \"day\", \"dead\", \"dead\", \"dead\", \"dead\", \"dead\", \"dead\", \"dead\", \"deadly\", \"deal\", \"deal\", \"death\", \"death\", \"death\", \"death\", \"debunked\", \"debut\", \"december\", \"decrease\", \"denies\", \"denies\", \"denies\", \"deny\", \"despite\", \"despite\", \"despite\", \"detail\", \"detained\", \"detainee\", \"detroit\", \"detroit\", \"developer\", \"device\", \"dictator\", \"died\", \"died\", \"died\", \"dinner\", \"dinner\", \"document\", \"dog\", \"dog\", \"dog\", \"domestic\", \"doubt\", \"doubt\", \"drone\", \"droppings\", \"drug\", \"due\", \"dupe\", \"durex\", \"dy\", \"dy\", \"dy\", \"early\", \"earth\", \"eat\", \"eating\", \"eating\", \"ebay\", \"ebola\", \"ebola\", \"ebola\", \"ebola\", \"ebola\", \"ebola\", \"ebola\", \"edition\", \"edition\", \"eggnog\", \"elaborate\", \"electric\", \"electric\", \"employee\", \"emwazi\", \"ended\", \"english\", \"entering\", \"espn\", \"ever\", \"evil\", \"ex\", \"exclusive\", \"executed\", \"execution\", \"execution\", \"executioner\", \"executioner\", \"explosion\", \"extra\", \"eye\", \"eyewitness\", \"fabricated\", \"face\", \"face\", \"facebook\", \"fake\", \"fake\", \"fake\", \"fake\", \"fake\", \"fall\", \"fall\", \"family\", \"family\", \"far\", \"farther\", \"fat\", \"father\", \"fatwa\", \"fault\", \"fear\", \"fear\", \"fear\", \"fear\", \"fear\", \"feature\", \"feb\", \"female\", \"female\", \"fence\", \"ferguson\", \"fight\", \"fighter\", \"fighter\", \"fighter\", \"fighter\", \"fighter\", \"fighting\", \"file\", \"find\", \"find\", \"find\", \"find\", \"fire\", \"fire\", \"fire\", \"fired\", \"fired\", \"fired\", \"fired\", \"first\", \"first\", \"first\", \"first\", \"fisherman\", \"five\", \"five\", \"five\", \"flood\", \"flown\", \"fly\", \"flying\", \"foley\", \"foley\", \"food\", \"foot\", \"force\", \"force\", \"forced\", \"forget\", \"found\", \"found\", \"found\", \"founder\", \"fractured\", \"francis\", \"freak\", \"free\", \"game\", \"gang\", \"gas\", \"gave\", \"gaza\", \"gender\", \"get\", \"get\", \"get\", \"get\", \"get\", \"getting\", \"gift\", \"giggling\", \"gill\", \"girl\", \"girl\", \"girlfriend\", \"girlfriend\", \"girlfriend\", \"give\", \"give\", \"go\", \"go\", \"go\", \"god\", \"god\", \"god\", \"god\", \"godane\", \"gold\", \"gold\", \"goldfish\", \"google\", \"google\", \"got\", \"got\", \"got\", \"graf\", \"graffiti\", \"graphic\", \"graphic\", \"grave\", \"gravity\", \"group\", \"group\", \"group\", \"group\", \"guard\", \"guard\", \"guard\", \"gunman\", \"gunman\", \"gunman\", \"gunshot\", \"haines\", \"haines\", \"hair\", \"hairgate\", \"hand\", \"hank\", \"haram\", \"hbo\", \"head\", \"head\", \"head\", \"headshot\", \"hearing\", \"heaven\", \"hebdo\", \"held\", \"helmet\", \"help\", \"hero\", \"herzegovina\", \"high\", \"hill\", \"hit\", \"hit\", \"hit\", \"hoax\", \"hoax\", \"hoax\", \"hoax\", \"hoax\", \"hoax\", \"hoax\", \"hoax\", \"hoax\", \"hold\", \"holding\", \"hollywood\", \"homeless\", \"hope\", \"horrific\", \"hospital\", \"hospital\", \"hospital\", \"hospital\", \"hospital\", \"hospitalized\", \"hostage\", \"hostage\", \"hostage\", \"hostage\", \"hour\", \"house\", \"huge\", \"husband\", \"icloud\", \"idea\", \"identified\", \"identified\", \"identified\", \"identifies\", \"identity\", \"ignored\", \"ill\", \"impact\", \"important\", \"inch\", \"including\", \"indian\", \"infestation\", \"injured\", \"inside\", \"inside\", \"instead\", \"intelligence\", \"internet\", \"internet\", \"internet\", \"internet\", \"internet\", \"intersex\", \"investigates\", \"investigating\", \"investigation\", \"io\", \"iphone\", \"iraq\", \"iraq\", \"iraq\", \"iraq\", \"iraq\", \"iraqi\", \"iraqi\", \"isi\", \"isi\", \"isi\", \"isi\", \"isi\", \"isi\", \"isi\", \"isi\", \"isi\", \"isi\", \"isil\", \"isil\", \"isil\", \"islamic\", \"islamic\", \"islamic\", \"island\", \"israel\", \"israeli\", \"israeli\", \"issue\", \"italian\", \"j\", \"james\", \"james\", \"james\", \"jess\", \"jet\", \"jet\", \"jihadi\", \"jihadi\", \"jihadi\", \"jj\", \"job\", \"john\", \"john\", \"john\", \"jong\", \"jordanian\", \"jose\", \"journalist\", \"journalist\", \"journalist\", \"judd\", \"jumper\", \"justice\", \"justice\", \"kansa\", \"kayla\", \"kevin\", \"kfc\", \"kfc\", \"kid\", \"kid\", \"kidnap\", \"kidnapped\", \"kidnapped\", \"kidnapped\", \"killed\", \"killed\", \"killed\", \"killed\", \"killed\", \"killed\", \"killer\", \"killer\", \"killing\", \"killing\", \"kim\", \"king\", \"known\", \"kobani\", \"korea\", \"korean\", \"kurd\", \"kurd\", \"l\", \"la\", \"land\", \"later\", \"launch\", \"launch\", \"launch\", \"law\", \"leader\", \"leader\", \"leader\", \"leaf\", \"leaf\", \"least\", \"least\", \"least\", \"lebanon\", \"lebanon\", \"led\", \"lego\", \"letter\", \"letter\", \"libyan\", \"libyan\", \"lied\", \"life\", \"life\", \"life\", \"life\", \"like\", \"line\", \"linked\", \"london\", \"london\", \"londoner\", \"look\", \"look\", \"looking\", \"love\", \"love\", \"low\", \"luke\", \"lynch\", \"macaulay\", \"macbook\", \"made\", \"made\", \"made\", \"made\", \"made\", \"magic\", \"magneto\", \"main\", \"majed\", \"make\", \"make\", \"make\", \"make\", \"man\", \"man\", \"man\", \"man\", \"man\", \"man\", \"man\", \"man\", \"man\", \"man\", \"managua\", \"march\", \"marijuana\", \"marijuana\", \"marine\", \"marine\", \"market\", \"marriage\", \"married\", \"mask\", \"mass\", \"massacre\", \"massive\", \"may\", \"may\", \"may\", \"may\", \"may\", \"may\", \"may\", \"may\", \"may\", \"may\", \"meat\", \"medium\", \"medium\", \"medium\", \"medium\", \"medium\", \"medium\", \"meet\", \"meet\", \"meeting\", \"memorial\", \"message\", \"message\", \"meteor\", \"meteorite\", \"meteorite\", \"mexican\", \"mexican\", \"mexico\", \"mexico\", \"michael\", \"michael\", \"michael\", \"michelle\", \"microsoft\", \"militant\", \"militant\", \"militant\", \"militant\", \"militant\", \"millan\", \"million\", \"ministry\", \"missing\", \"missing\", \"missing\", \"missing\", \"missing\", \"missing\", \"mob\", \"mob\", \"mob\", \"model\", \"model\", \"mohammed\", \"monitoring\", \"monster\", \"month\", \"month\", \"mortgage\", \"motorcade\", \"mourn\", \"movie\", \"movie\", \"much\", \"mueller\", \"mum\", \"murder\", \"mushroom\", \"mysterious\", \"n\", \"naked\", \"named\", \"nast\", \"nearly\", \"need\", \"nelson\", \"net\", \"never\", \"never\", \"never\", \"new\", \"new\", \"new\", \"new\", \"new\", \"new\", \"new\", \"new\", \"new\", \"new\", \"newly\", \"news\", \"news\", \"news\", \"news\", \"nicaragua\", \"nigeria\", \"nigerian\", \"nightly\", \"north\", \"north\", \"north\", \"nun\", \"nypd\", \"obama\", \"obama\", \"obama\", \"obama\", \"office\", \"office\", \"official\", \"official\", \"official\", \"official\", \"official\", \"official\", \"official\", \"official\", \"old\", \"old\", \"old\", \"open\", \"open\", \"open\", \"open\", \"open\", \"opening\", \"ottawa\", \"ottawa\", \"outbreak\", \"outraged\", \"outraged\", \"pack\", \"paid\", \"pain\", \"paint\", \"painted\", \"palace\", \"panel\", \"paradise\", \"parent\", \"parent\", \"parent\", \"parent\", \"park\", \"parliament\", \"parliament\", \"past\", \"patient\", \"patrolling\", \"paul\", \"pause\", \"pay\", \"pay\", \"peeing\", \"penis\", \"penis\", \"people\", \"people\", \"people\", \"per\", \"per\", \"personally\", \"pga\", \"phelps\", \"photo\", \"photo\", \"photo\", \"photo\", \"photo\", \"photojournalist\", \"photojournalist\", \"pilot\", \"pilot\", \"pizza\", \"place\", \"plan\", \"plan\", \"planning\", \"plant\", \"platinum\", \"play\", \"play\", \"play\", \"plumber\", \"police\", \"police\", \"police\", \"poop\", \"pooped\", \"pope\", \"pope\", \"possession\", \"pot\", \"pound\", \"pounder\", \"powerful\", \"predator\", \"pregnant\", \"president\", \"pretty\", \"price\", \"priced\", \"pricing\", \"priest\", \"priest\", \"priest\", \"priest\", \"prisoner\", \"probably\", \"probably\", \"problem\", \"problem\", \"problem\", \"proposal\", \"pull\", \"pumpkin\", \"purport\", \"putin\", \"qaeda\", \"quarantined\", \"quarter\", \"question\", \"quits\", \"railway\", \"raised\", \"rajasthan\", \"rape\", \"rape\", \"rapist\", \"rapper\", \"rapper\", \"rare\", \"rat\", \"really\", \"recording\", \"red\", \"redwood\", \"refuse\", \"release\", \"release\", \"release\", \"released\", \"remembered\", \"rep\", \"report\", \"report\", \"report\", \"report\", \"report\", \"report\", \"report\", \"report\", \"report\", \"report\", \"report\", \"report\", \"report\", \"report\", \"reported\", \"reported\", \"reported\", \"reportedly\", \"reportedly\", \"reportedly\", \"reportedly\", \"reportedly\", \"reportedly\", \"reportedly\", \"reportedly\", \"reportedly\", \"reportedly\", \"reportedly\", \"rescue\", \"rescue\", \"reserve\", \"resignation\", \"restaurant\", \"restaurant\", \"retina\", \"revealed\", \"revealed\", \"reveals\", \"reveals\", \"reveals\", \"rise\", \"robert\", \"robot\", \"rogen\", \"rose\", \"rosenberg\", \"rumor\", \"rumor\", \"rumor\", \"rumor\", \"rumor\", \"rumor\", \"rumor\", \"rumored\", \"russian\", \"sacked\", \"safe\", \"said\", \"said\", \"said\", \"said\", \"said\", \"said\", \"sale\", \"sale\", \"sale\", \"samsung\", \"saudi\", \"saudi\", \"saved\", \"say\", \"say\", \"say\", \"say\", \"say\", \"say\", \"say\", \"say\", \"say\", \"say\", \"say\", \"say\", \"say\", \"say\", \"scar\", \"scare\", \"school\", \"school\", \"schoolgirl\", \"scotland\", \"scottish\", \"search\", \"secret\", \"secret\", \"secret\", \"secretly\", \"security\", \"security\", \"security\", \"security\", \"see\", \"see\", \"see\", \"see\", \"seen\", \"self\", \"sell\", \"selling\", \"sergeant\", \"service\", \"service\", \"set\", \"set\", \"set\", \"seth\", \"seven\", \"sex\", \"shabaab\", \"shabab\", \"shane\", \"sharing\", \"shock\", \"shock\", \"shock\", \"shoot\", \"shooter\", \"shooting\", \"shooting\", \"shopper\", \"shot\", \"shot\", \"shot\", \"shot\", \"shot\", \"show\", \"show\", \"show\", \"show\", \"show\", \"shower\", \"sick\", \"sign\", \"silicon\", \"sister\", \"sister\", \"six\", \"skin\", \"skipped\", \"small\", \"small\", \"smartwatch\", \"snake\", \"sneeze\", \"sneezing\", \"sniper\", \"sniper\", \"snowman\", \"snyder\", \"soldier\", \"soldier\", \"soldier\", \"soldier\", \"soldier\", \"solved\", \"somali\", \"somalia\", \"somalia\", \"someone\", \"somers\", \"son\", \"son\", \"son\", \"son\", \"sony\", \"soon\", \"spends\", \"spent\", \"spice\", \"spider\", \"spider\", \"spotted\", \"spotted\", \"stainless\", \"star\", \"star\", \"star\", \"start\", \"state\", \"state\", \"statement\", \"station\", \"steal\", \"steel\", \"steel\", \"steve\", \"still\", \"still\", \"stock\", \"stock\", \"stolen\", \"stolen\", \"stolen\", \"stomach\", \"stomach\", \"stop\", \"storage\", \"store\", \"store\", \"store\", \"streaming\", \"strike\", \"strike\", \"strike\", \"struck\", \"student\", \"student\", \"style\", \"style\", \"sugarhill\", \"suggests\", \"suitcase\", \"summer\", \"sun\", \"superman\", \"superman\", \"superpower\", \"supply\", \"supported\", \"surfaced\", \"surgery\", \"surgery\", \"surprise\", \"survives\", \"suspect\", \"suspect\", \"suspended\", \"suspension\", \"swapped\", \"swapped\", \"symptom\", \"syria\", \"syria\", \"syria\", \"syria\", \"syria\", \"syria\", \"syrian\", \"syrian\", \"take\", \"take\", \"take\", \"taking\", \"taliban\", \"talk\", \"talk\", \"talk\", \"talking\", \"tape\", \"tape\", \"tb\", \"tear\", \"teen\", \"teen\", \"teenager\", \"teletubbies\", \"television\", \"tell\", \"tell\", \"ten\", \"terror\", \"terror\", \"terror\", \"terror\", \"terror\", \"terrorist\", \"terrorist\", \"terrorist\", \"terrorist\", \"test\", \"test\", \"test\", \"testicle\", \"texas\", \"texas\", \"theory\", \"thing\", \"thinner\", \"thought\", \"threat\", \"threatens\", \"ticket\", \"tiger\", \"time\", \"time\", \"time\", \"time\", \"timing\", \"tip\", \"tireless\", \"told\", \"told\", \"tom\", \"tonight\", \"took\", \"total\", \"totally\", \"tour\", \"tour\", \"town\", \"toy\", \"trade\", \"training\", \"training\", \"translate\", \"tribunal\", \"trip\", \"tropical\", \"truce\", \"truck\", \"try\", \"turned\", \"tv\", \"tv\", \"tv\", \"twin\", \"u\", \"u\", \"u\", \"u\", \"u\", \"u\", \"u\", \"un\", \"underage\", \"unearthed\", \"university\", \"untrue\", \"upcoming\", \"urgent\", \"urinating\", \"us\", \"use\", \"use\", \"user\", \"using\", \"v\", \"v\", \"valley\", \"vandal\", \"variant\", \"vega\", \"verifies\", \"veyron\", \"vice\", \"vickers\", \"video\", \"video\", \"video\", \"video\", \"video\", \"video\", \"video\", \"violence\", \"violence\", \"viral\", \"viral\", \"viral\", \"vladimir\", \"vogue\", \"voicemail\", \"want\", \"want\", \"want\", \"war\", \"war\", \"war\", \"war\", \"warning\", \"watch\", \"watch\", \"watch\", \"watch\", \"watch\", \"watch\", \"watch\", \"weapon\", \"weapon\", \"wear\", \"weatherman\", \"web\", \"website\", \"week\", \"week\", \"went\", \"west\", \"west\", \"western\", \"whisperer\", \"white\", \"wife\", \"wine\", \"wintour\", \"woman\", \"woman\", \"woman\", \"woman\", \"woman\", \"woman\", \"wood\", \"wood\", \"work\", \"work\", \"working\", \"world\", \"world\", \"world\", \"world\", \"world\", \"world\", \"world\", \"woz\", \"wozniak\", \"wright\", \"wright\", \"year\", \"year\", \"year\", \"year\", \"year\", \"year\", \"year\", \"yemen\", \"yo\", \"york\", \"york\", \"young\", \"young\", \"youngest\", \"ypg\", \"zack\", \"zehaf\", \"zeppelin\"]}, \"R\": 30, \"lambda.step\": 0.01, \"plot.opts\": {\"xlab\": \"PC1\", \"ylab\": \"PC2\"}, \"topic.order\": [8, 16, 10, 7, 6, 20, 14, 13, 17, 12, 11, 1, 15, 3, 5, 9, 4, 19, 2, 18]};\n",
       "\n",
       "function LDAvis_load_lib(url, callback){\n",
       "  var s = document.createElement('script');\n",
       "  s.src = url;\n",
       "  s.async = true;\n",
       "  s.onreadystatechange = s.onload = callback;\n",
       "  s.onerror = function(){console.warn(\"failed to load library \" + url);};\n",
       "  document.getElementsByTagName(\"head\")[0].appendChild(s);\n",
       "}\n",
       "\n",
       "if(typeof(LDAvis) !== \"undefined\"){\n",
       "   // already loaded: just create the visualization\n",
       "   !function(LDAvis){\n",
       "       new LDAvis(\"#\" + \"ldavis_el3019748212403522762718893\", ldavis_el3019748212403522762718893_data);\n",
       "   }(LDAvis);\n",
       "}else if(typeof define === \"function\" && define.amd){\n",
       "   // require.js is available: use it to load d3/LDAvis\n",
       "   require.config({paths: {d3: \"https://cdnjs.cloudflare.com/ajax/libs/d3/3.5.5/d3.min\"}});\n",
       "   require([\"d3\"], function(d3){\n",
       "      window.d3 = d3;\n",
       "      LDAvis_load_lib(\"https://cdn.rawgit.com/bmabey/pyLDAvis/files/ldavis.v1.0.0.js\", function(){\n",
       "        new LDAvis(\"#\" + \"ldavis_el3019748212403522762718893\", ldavis_el3019748212403522762718893_data);\n",
       "      });\n",
       "    });\n",
       "}else{\n",
       "    // require.js not available: dynamically load d3 & LDAvis\n",
       "    LDAvis_load_lib(\"https://cdnjs.cloudflare.com/ajax/libs/d3/3.5.5/d3.min.js\", function(){\n",
       "         LDAvis_load_lib(\"https://cdn.rawgit.com/bmabey/pyLDAvis/files/ldavis.v1.0.0.js\", function(){\n",
       "                 new LDAvis(\"#\" + \"ldavis_el3019748212403522762718893\", ldavis_el3019748212403522762718893_data);\n",
       "            })\n",
       "         });\n",
       "}\n",
       "</script>"
      ],
      "text/plain": [
       "PreparedData(topic_coordinates=           Freq  cluster  topics         x         y\n",
       "topic                                               \n",
       "7      7.175739        1       1  0.160565 -0.236766\n",
       "15     6.986013        1       2 -0.055301  0.092987\n",
       "9      6.434521        1       3 -0.047171  0.080033\n",
       "6      6.159083        1       4  0.033375 -0.118654\n",
       "5      5.968647        1       5  0.172359  0.133394\n",
       "19     5.822701        1       6  0.031229  0.184130\n",
       "13     5.576653        1       7  0.031246 -0.039357\n",
       "12     5.277154        1       8  0.190933  0.063809\n",
       "16     4.846416        1       9 -0.262180  0.068002\n",
       "11     4.759069        1      10  0.150684  0.096401\n",
       "10     4.680370        1      11 -0.265636  0.023132\n",
       "0      4.676740        1      12 -0.080662  0.049703\n",
       "14     4.424639        1      13  0.220810 -0.044855\n",
       "2      4.332467        1      14 -0.112297 -0.026703\n",
       "4      4.281420        1      15 -0.079351 -0.041128\n",
       "8      4.159107        1      16 -0.078881 -0.186555\n",
       "3      3.989267        1      17  0.038145 -0.165177\n",
       "18     3.813822        1      18  0.042447  0.220686\n",
       "1      3.670227        1      19 -0.152054 -0.093390\n",
       "17     2.965941        1      20  0.061741 -0.059691, topic_info=     Category         Freq        Term        Total  loglift  logprob\n",
       "term                                                                 \n",
       "221   Default  2875.000000       state  2875.000000  30.0000  30.0000\n",
       "69    Default  6749.000000         isi  6749.000000  29.0000  29.0000\n",
       "436   Default  2292.000000         kim  2292.000000  28.0000  28.0000\n",
       "217   Default  2870.000000     islamic  2870.000000  27.0000  27.0000\n",
       "14    Default  2829.000000       apple  2829.000000  26.0000  26.0000\n",
       "430   Default  2661.000000       foley  2661.000000  25.0000  25.0000\n",
       "435   Default  2099.000000        jong  2099.000000  24.0000  24.0000\n",
       "73    Default  3714.000000           u  3714.000000  23.0000  23.0000\n",
       "18    Default  1731.000000       steve  1731.000000  22.0000  22.0000\n",
       "431   Default  2402.000000       james  2402.000000  21.0000  21.0000\n",
       "468   Default  1844.000000       haram  1844.000000  20.0000  20.0000\n",
       "465   Default  1844.000000        boko  1844.000000  19.0000  19.0000\n",
       "37    Default  1624.000000         job  1624.000000  18.0000  18.0000\n",
       "437   Default  1779.000000          un  1779.000000  17.0000  17.0000\n",
       "94    Default  2009.000000      leader  2009.000000  16.0000  16.0000\n",
       "80    Default  2329.000000       watch  2329.000000  15.0000  15.0000\n",
       "505   Default  1652.000000       brown  1652.000000  14.0000  14.0000\n",
       "432   Default  2153.000000  journalist  2153.000000  13.0000  13.0000\n",
       "504   Default  1580.000000       audio  1580.000000  12.0000  12.0000\n",
       "56    Default  2210.000000     michael  2210.000000  11.0000  11.0000\n",
       "452   Default  2631.000000       video  2631.000000  10.0000  10.0000\n",
       "428   Default  1920.000000    american  1920.000000   9.0000   9.0000\n",
       "467   Default  1490.000000        girl  1490.000000   8.0000   8.0000\n",
       "98    Default  1155.000000   christian  1155.000000   7.0000   7.0000\n",
       "97    Default  1155.000000        bale  1155.000000   6.0000   6.0000\n",
       "15    Default  1193.000000        play  1193.000000   5.0000   5.0000\n",
       "486   Default  1056.000000          al  1056.000000   4.0000   4.0000\n",
       "180   Default  1605.000000    militant  1605.000000   3.0000   3.0000\n",
       "506   Default  1395.000000    shooting  1395.000000   2.0000   2.0000\n",
       "12    Default  1026.000000     student  1026.000000   1.0000   1.0000\n",
       "...       ...          ...         ...          ...      ...      ...\n",
       "1235  Topic20    54.135845      agrees    55.081535   3.5007  -5.4582\n",
       "1519  Topic20    53.068871        pack    54.014561   3.5003  -5.4781\n",
       "1515  Topic20    53.068871        brat    54.014561   3.5003  -5.4781\n",
       "1041  Topic20    52.950623   cawthorne    53.896313   3.5003  -5.4804\n",
       "1105  Topic20    47.330612      briton    48.276302   3.4982  -5.5926\n",
       "1987  Topic20    46.501282      timing    47.446972   3.4978  -5.6102\n",
       "1988  Topic20    46.501282    verifies    47.446972   3.4978  -5.6102\n",
       "2316  Topic20    44.828033    underage    45.773724   3.4971  -5.6469\n",
       "1266  Topic20    41.452560     ignored    42.398251   3.4954  -5.7252\n",
       "1704  Topic20   166.688080       style   175.006424   3.4693  -4.3336\n",
       "883   Topic20   183.569580      behind   197.410568   3.4453  -4.2371\n",
       "1501  Topic20   307.209015        fall   346.320068   3.3981  -3.7222\n",
       "199   Topic20   657.378052      school   839.836914   3.2730  -2.9615\n",
       "182   Topic20   217.607086       young   257.227142   3.3507  -4.0670\n",
       "746   Topic20   257.119415        five   404.925293   3.0638  -3.9002\n",
       "63    Topic20   241.181824      female   462.078644   2.8678  -3.9642\n",
       "467   Topic20   478.510040        girl  1490.288330   2.3819  -3.2790\n",
       "576   Topic20    92.456825    outraged   129.437759   3.1815  -4.9230\n",
       "560   Topic20   286.792267         day   808.172119   2.4820  -3.7910\n",
       "656   Topic20   125.262543       never   214.628891   2.9795  -4.6193\n",
       "1891  Topic20   111.788864          14   193.688568   2.9683  -4.7331\n",
       "501   Topic20   152.963837        said   452.034332   2.4344  -4.4195\n",
       "217   Topic20   317.972626     islamic  2870.520264   1.3177  -3.6878\n",
       "221   Topic20   285.548706       state  2875.609375   1.2084  -3.7953\n",
       "1169  Topic20   157.422852      parent   535.178345   2.2943  -4.3908\n",
       "59    Topic20   163.844376       claim  2966.220947   0.6218  -4.3508\n",
       "61    Topic20   141.138519        dead  1573.409302   1.1067  -4.5000\n",
       "795   Topic20   117.417130      killer   423.639709   2.2348  -4.6840\n",
       "64    Topic20   106.750443         god   739.483887   1.5825  -4.7792\n",
       "65    Topic20   104.631393      priest   446.271484   2.0675  -4.7993\n",
       "\n",
       "[1053 rows x 6 columns], token_table=      Topic      Freq      Term\n",
       "term                           \n",
       "74        2  0.403019       000\n",
       "74        9  0.424435       000\n",
       "74       10  0.007788       000\n",
       "74       11  0.164517       000\n",
       "75        5  0.490847        10\n",
       "75        9  0.386657        10\n",
       "75       18  0.118081        10\n",
       "239       7  0.745198       100\n",
       "239      10  0.078718       100\n",
       "239      11  0.174929       100\n",
       "618       2  0.129656        11\n",
       "618       7  0.814028        11\n",
       "618       8  0.054803        11\n",
       "453      14  0.910411        12\n",
       "453      19  0.084558        12\n",
       "2163     20  0.992026        13\n",
       "1891     10  0.418197        14\n",
       "1891     20  0.578248        14\n",
       "943       9  0.992864        16\n",
       "1791      5  0.990902      1795\n",
       "1436     15  0.996992        19\n",
       "1540     15  0.987270     1970s\n",
       "666       1  0.990790      2012\n",
       "723       7  0.996213      2015\n",
       "2552     17  0.990750        25\n",
       "84       17  0.982475        28\n",
       "2127     13  0.979931       280\n",
       "207       2  0.655417       300\n",
       "207       4  0.097532       300\n",
       "207      10  0.232127       300\n",
       "...     ...       ...       ...\n",
       "1799     11  0.984172   working\n",
       "279       2  0.146482     world\n",
       "279       9  0.394787     world\n",
       "279      11  0.069668     world\n",
       "279      13  0.141123     world\n",
       "279      15  0.103609     world\n",
       "279      18  0.080387     world\n",
       "279      19  0.060736     world\n",
       "43       11  0.991857       woz\n",
       "19       11  0.997989   wozniak\n",
       "433       1  0.998600    wright\n",
       "433      13  0.000990    wright\n",
       "280       2  0.072385      year\n",
       "280      10  0.002193      year\n",
       "280      11  0.135996      year\n",
       "280      15  0.339990      year\n",
       "280      16  0.091030      year\n",
       "280      17  0.232509      year\n",
       "280      18  0.126125      year\n",
       "674       6  0.995813     yemen\n",
       "1129      3  0.996822        yo\n",
       "1288      2  0.120044      york\n",
       "1288     14  0.875877      york\n",
       "182      13  0.151617     young\n",
       "182      20  0.847500     young\n",
       "1713     18  0.991820  youngest\n",
       "2172      7  0.992190       ypg\n",
       "295      11  0.996625      zack\n",
       "613       6  0.998527     zehaf\n",
       "171      19  0.990974  zeppelin\n",
       "\n",
       "[1533 rows x 3 columns], R=30, lambda_step=0.01, plot_opts={'xlab': 'PC1', 'ylab': 'PC2'}, topic_order=[8, 16, 10, 7, 6, 20, 14, 13, 17, 12, 11, 1, 15, 3, 5, 9, 4, 19, 2, 18])"
      ]
     },
     "execution_count": 115,
     "metadata": {},
     "output_type": "execute_result"
    }
   ],
   "source": [
    "pyLDAvis.gensim.prepare(ldamodel, corpus, dictionary)"
   ]
  },
  {
   "cell_type": "markdown",
   "metadata": {},
   "source": [
    "## preprocessing for Latent Semantic Analysis"
   ]
  },
  {
   "cell_type": "markdown",
   "metadata": {},
   "source": [
    " More processing before applying vectorizers. Latent semantic analysis is another technique used to analyze the relationships between the documents and the terms in them."
   ]
  },
  {
   "cell_type": "code",
   "execution_count": 116,
   "metadata": {},
   "outputs": [],
   "source": [
    "import re"
   ]
  },
  {
   "cell_type": "code",
   "execution_count": 117,
   "metadata": {},
   "outputs": [],
   "source": [
    "def cleaner(text):\n",
    "    text = re.sub('&#39;','',text).lower()\n",
    "    text = re.sub('<br />','',text)\n",
    "    text = re.sub('<.*>.*</.*>','', text)\n",
    "    text = re.sub('\\\\ufeff', '', text)\n",
    "    text = re.sub('[\\d]','',text)\n",
    "    text = re.sub('[^a-z ]','',text)\n",
    "    \n",
    "    return text"
   ]
  },
  {
   "cell_type": "code",
   "execution_count": 118,
   "metadata": {},
   "outputs": [],
   "source": [
    "df_all['articleBody'] = df_all['articleBody'].map(str)\n",
    "df_all['articleBody'] = df_all['articleBody'].apply(cleaner)"
   ]
  },
  {
   "cell_type": "code",
   "execution_count": 119,
   "metadata": {
    "scrolled": true
   },
   "outputs": [
    {
     "data": {
      "text/plain": [
       "'danny boyle directing untitled film seth rogen eyed play apple co founder steve wozniak sony steve job biopic danny boyle directing untitled film based walter isaacson book adapted aaron sorkin one anticipated biopics recent year negotiation yet begun even clear rogen official offer producer scott rudin guymon casady mark gordon set sight talent talk course may naught christian bale actor play job still midst closing deal source say dealmaking process sensitive stage insider say boyle flying los angeles meet actress play one female lead assistant job insider say jessica chastain one actress meeting list wozniak known woz co founded apple job ronald wayne first met job worked atari later responsible creating early apple computer'"
      ]
     },
     "execution_count": 119,
     "metadata": {},
     "output_type": "execute_result"
    }
   ],
   "source": [
    "df_all['articleBody'].iloc[1]"
   ]
  },
  {
   "cell_type": "code",
   "execution_count": 120,
   "metadata": {},
   "outputs": [],
   "source": [
    "df_all['Headline'] = df_all['Headline'].map(str)\n",
    "df_all['Headline'] = df_all['Headline'].apply(cleaner)"
   ]
  },
  {
   "cell_type": "markdown",
   "metadata": {},
   "source": [
    "### Saving work to CSV "
   ]
  },
  {
   "cell_type": "code",
   "execution_count": 121,
   "metadata": {},
   "outputs": [],
   "source": [
    "df_all.to_csv('./preprocessed.csv')"
   ]
  },
  {
   "cell_type": "code",
   "execution_count": 3,
   "metadata": {},
   "outputs": [],
   "source": [
    "df_all = pd.read_csv('../preprocessed.csv')"
   ]
  },
  {
   "cell_type": "markdown",
   "metadata": {},
   "source": [
    "### tfidf vectorizer\n",
    "\n",
    "Using TF IDF vectorizer to turn into sparse matrices after preprocessing then convert the matrices into dataframes.  "
   ]
  },
  {
   "cell_type": "code",
   "execution_count": 4,
   "metadata": {},
   "outputs": [
    {
     "data": {
      "text/plain": [
       "<49972x18408 sparse matrix of type '<class 'numpy.float64'>'\n",
       "\twith 6480420 stored elements in Compressed Sparse Row format>"
      ]
     },
     "execution_count": 4,
     "metadata": {},
     "output_type": "execute_result"
    }
   ],
   "source": [
    "tfidf_vector = TfidfVectorizer(min_df = 5, stop_words='english')\n",
    "\n",
    "articleBody_matrix_sparse = tfidf_vector.fit_transform(df_all['articleBody'])\n",
    "articleBody_matrix_sparse"
   ]
  },
  {
   "cell_type": "code",
   "execution_count": 5,
   "metadata": {},
   "outputs": [],
   "source": [
    "articleBody_df_tfdf = pd.DataFrame(articleBody_matrix_sparse.toarray(),\n",
    "                                 index = df_all.index,\n",
    "                                 columns = tfidf_vector.get_feature_names())"
   ]
  },
  {
   "cell_type": "code",
   "execution_count": 6,
   "metadata": {
    "scrolled": false
   },
   "outputs": [
    {
     "data": {
      "text/html": [
       "<div>\n",
       "<style scoped>\n",
       "    .dataframe tbody tr th:only-of-type {\n",
       "        vertical-align: middle;\n",
       "    }\n",
       "\n",
       "    .dataframe tbody tr th {\n",
       "        vertical-align: top;\n",
       "    }\n",
       "\n",
       "    .dataframe thead th {\n",
       "        text-align: right;\n",
       "    }\n",
       "</style>\n",
       "<table border=\"1\" class=\"dataframe\">\n",
       "  <thead>\n",
       "    <tr style=\"text-align: right;\">\n",
       "      <th></th>\n",
       "      <th>aafia</th>\n",
       "      <th>aamaq</th>\n",
       "      <th>aamir</th>\n",
       "      <th>aan</th>\n",
       "      <th>aapl</th>\n",
       "      <th>aaron</th>\n",
       "      <th>aback</th>\n",
       "      <th>abadam</th>\n",
       "      <th>abadi</th>\n",
       "      <th>abagnale</th>\n",
       "      <th>...</th>\n",
       "      <th>zobl</th>\n",
       "      <th>zone</th>\n",
       "      <th>zoning</th>\n",
       "      <th>zoology</th>\n",
       "      <th>zor</th>\n",
       "      <th>zubayr</th>\n",
       "      <th>zubeyr</th>\n",
       "      <th>zuckerberg</th>\n",
       "      <th>zulu</th>\n",
       "      <th>zxycaeuwb</th>\n",
       "    </tr>\n",
       "  </thead>\n",
       "  <tbody>\n",
       "    <tr>\n",
       "      <th>0</th>\n",
       "      <td>0.0</td>\n",
       "      <td>0.0</td>\n",
       "      <td>0.0</td>\n",
       "      <td>0.0</td>\n",
       "      <td>0.0</td>\n",
       "      <td>0.07737</td>\n",
       "      <td>0.0</td>\n",
       "      <td>0.0</td>\n",
       "      <td>0.0</td>\n",
       "      <td>0.0</td>\n",
       "      <td>...</td>\n",
       "      <td>0.0</td>\n",
       "      <td>0.0</td>\n",
       "      <td>0.0</td>\n",
       "      <td>0.0</td>\n",
       "      <td>0.0</td>\n",
       "      <td>0.0</td>\n",
       "      <td>0.0</td>\n",
       "      <td>0.0</td>\n",
       "      <td>0.0</td>\n",
       "      <td>0.0</td>\n",
       "    </tr>\n",
       "    <tr>\n",
       "      <th>1</th>\n",
       "      <td>0.0</td>\n",
       "      <td>0.0</td>\n",
       "      <td>0.0</td>\n",
       "      <td>0.0</td>\n",
       "      <td>0.0</td>\n",
       "      <td>0.07737</td>\n",
       "      <td>0.0</td>\n",
       "      <td>0.0</td>\n",
       "      <td>0.0</td>\n",
       "      <td>0.0</td>\n",
       "      <td>...</td>\n",
       "      <td>0.0</td>\n",
       "      <td>0.0</td>\n",
       "      <td>0.0</td>\n",
       "      <td>0.0</td>\n",
       "      <td>0.0</td>\n",
       "      <td>0.0</td>\n",
       "      <td>0.0</td>\n",
       "      <td>0.0</td>\n",
       "      <td>0.0</td>\n",
       "      <td>0.0</td>\n",
       "    </tr>\n",
       "    <tr>\n",
       "      <th>2</th>\n",
       "      <td>0.0</td>\n",
       "      <td>0.0</td>\n",
       "      <td>0.0</td>\n",
       "      <td>0.0</td>\n",
       "      <td>0.0</td>\n",
       "      <td>0.07737</td>\n",
       "      <td>0.0</td>\n",
       "      <td>0.0</td>\n",
       "      <td>0.0</td>\n",
       "      <td>0.0</td>\n",
       "      <td>...</td>\n",
       "      <td>0.0</td>\n",
       "      <td>0.0</td>\n",
       "      <td>0.0</td>\n",
       "      <td>0.0</td>\n",
       "      <td>0.0</td>\n",
       "      <td>0.0</td>\n",
       "      <td>0.0</td>\n",
       "      <td>0.0</td>\n",
       "      <td>0.0</td>\n",
       "      <td>0.0</td>\n",
       "    </tr>\n",
       "    <tr>\n",
       "      <th>3</th>\n",
       "      <td>0.0</td>\n",
       "      <td>0.0</td>\n",
       "      <td>0.0</td>\n",
       "      <td>0.0</td>\n",
       "      <td>0.0</td>\n",
       "      <td>0.07737</td>\n",
       "      <td>0.0</td>\n",
       "      <td>0.0</td>\n",
       "      <td>0.0</td>\n",
       "      <td>0.0</td>\n",
       "      <td>...</td>\n",
       "      <td>0.0</td>\n",
       "      <td>0.0</td>\n",
       "      <td>0.0</td>\n",
       "      <td>0.0</td>\n",
       "      <td>0.0</td>\n",
       "      <td>0.0</td>\n",
       "      <td>0.0</td>\n",
       "      <td>0.0</td>\n",
       "      <td>0.0</td>\n",
       "      <td>0.0</td>\n",
       "    </tr>\n",
       "    <tr>\n",
       "      <th>4</th>\n",
       "      <td>0.0</td>\n",
       "      <td>0.0</td>\n",
       "      <td>0.0</td>\n",
       "      <td>0.0</td>\n",
       "      <td>0.0</td>\n",
       "      <td>0.07737</td>\n",
       "      <td>0.0</td>\n",
       "      <td>0.0</td>\n",
       "      <td>0.0</td>\n",
       "      <td>0.0</td>\n",
       "      <td>...</td>\n",
       "      <td>0.0</td>\n",
       "      <td>0.0</td>\n",
       "      <td>0.0</td>\n",
       "      <td>0.0</td>\n",
       "      <td>0.0</td>\n",
       "      <td>0.0</td>\n",
       "      <td>0.0</td>\n",
       "      <td>0.0</td>\n",
       "      <td>0.0</td>\n",
       "      <td>0.0</td>\n",
       "    </tr>\n",
       "  </tbody>\n",
       "</table>\n",
       "<p>5 rows × 18408 columns</p>\n",
       "</div>"
      ],
      "text/plain": [
       "   aafia  aamaq  aamir  aan  aapl    aaron  aback  abadam  abadi  abagnale  \\\n",
       "0    0.0    0.0    0.0  0.0   0.0  0.07737    0.0     0.0    0.0       0.0   \n",
       "1    0.0    0.0    0.0  0.0   0.0  0.07737    0.0     0.0    0.0       0.0   \n",
       "2    0.0    0.0    0.0  0.0   0.0  0.07737    0.0     0.0    0.0       0.0   \n",
       "3    0.0    0.0    0.0  0.0   0.0  0.07737    0.0     0.0    0.0       0.0   \n",
       "4    0.0    0.0    0.0  0.0   0.0  0.07737    0.0     0.0    0.0       0.0   \n",
       "\n",
       "     ...      zobl  zone  zoning  zoology  zor  zubayr  zubeyr  zuckerberg  \\\n",
       "0    ...       0.0   0.0     0.0      0.0  0.0     0.0     0.0         0.0   \n",
       "1    ...       0.0   0.0     0.0      0.0  0.0     0.0     0.0         0.0   \n",
       "2    ...       0.0   0.0     0.0      0.0  0.0     0.0     0.0         0.0   \n",
       "3    ...       0.0   0.0     0.0      0.0  0.0     0.0     0.0         0.0   \n",
       "4    ...       0.0   0.0     0.0      0.0  0.0     0.0     0.0         0.0   \n",
       "\n",
       "   zulu  zxycaeuwb  \n",
       "0   0.0        0.0  \n",
       "1   0.0        0.0  \n",
       "2   0.0        0.0  \n",
       "3   0.0        0.0  \n",
       "4   0.0        0.0  \n",
       "\n",
       "[5 rows x 18408 columns]"
      ]
     },
     "execution_count": 6,
     "metadata": {},
     "output_type": "execute_result"
    }
   ],
   "source": [
    "articleBody_df_tfdf.head()"
   ]
  },
  {
   "cell_type": "code",
   "execution_count": 7,
   "metadata": {},
   "outputs": [
    {
     "data": {
      "text/plain": [
       "<49972x2736 sparse matrix of type '<class 'numpy.float64'>'\n",
       "\twith 388147 stored elements in Compressed Sparse Row format>"
      ]
     },
     "execution_count": 7,
     "metadata": {},
     "output_type": "execute_result"
    }
   ],
   "source": [
    "headline_matrix_sparse = tfidf_vector.fit_transform(df_all['Headline'])\n",
    "headline_matrix_sparse"
   ]
  },
  {
   "cell_type": "code",
   "execution_count": 8,
   "metadata": {},
   "outputs": [],
   "source": [
    "headline_df_tfdf = pd.DataFrame(headline_matrix_sparse.toarray(),\n",
    "                                 index = df_all.index,\n",
    "                                 columns = tfidf_vector.get_feature_names())"
   ]
  },
  {
   "cell_type": "code",
   "execution_count": 9,
   "metadata": {},
   "outputs": [
    {
     "data": {
      "text/html": [
       "<div>\n",
       "<style scoped>\n",
       "    .dataframe tbody tr th:only-of-type {\n",
       "        vertical-align: middle;\n",
       "    }\n",
       "\n",
       "    .dataframe tbody tr th {\n",
       "        vertical-align: top;\n",
       "    }\n",
       "\n",
       "    .dataframe thead th {\n",
       "        text-align: right;\n",
       "    }\n",
       "</style>\n",
       "<table border=\"1\" class=\"dataframe\">\n",
       "  <thead>\n",
       "    <tr style=\"text-align: right;\">\n",
       "      <th></th>\n",
       "      <th>aaron</th>\n",
       "      <th>abandoned</th>\n",
       "      <th>abdel</th>\n",
       "      <th>abdi</th>\n",
       "      <th>abducted</th>\n",
       "      <th>abducting</th>\n",
       "      <th>abdul</th>\n",
       "      <th>abdullah</th>\n",
       "      <th>abort</th>\n",
       "      <th>aborted</th>\n",
       "      <th>...</th>\n",
       "      <th>younger</th>\n",
       "      <th>youngest</th>\n",
       "      <th>youtube</th>\n",
       "      <th>ypg</th>\n",
       "      <th>yum</th>\n",
       "      <th>zack</th>\n",
       "      <th>zehaf</th>\n",
       "      <th>zeppelin</th>\n",
       "      <th>zero</th>\n",
       "      <th>zhejiang</th>\n",
       "    </tr>\n",
       "  </thead>\n",
       "  <tbody>\n",
       "    <tr>\n",
       "      <th>0</th>\n",
       "      <td>0.0</td>\n",
       "      <td>0.0</td>\n",
       "      <td>0.0</td>\n",
       "      <td>0.0</td>\n",
       "      <td>0.0</td>\n",
       "      <td>0.0</td>\n",
       "      <td>0.0</td>\n",
       "      <td>0.0</td>\n",
       "      <td>0.0</td>\n",
       "      <td>0.0</td>\n",
       "      <td>...</td>\n",
       "      <td>0.0</td>\n",
       "      <td>0.0</td>\n",
       "      <td>0.0</td>\n",
       "      <td>0.0</td>\n",
       "      <td>0.0</td>\n",
       "      <td>0.0</td>\n",
       "      <td>0.0</td>\n",
       "      <td>0.0</td>\n",
       "      <td>0.0</td>\n",
       "      <td>0.0</td>\n",
       "    </tr>\n",
       "    <tr>\n",
       "      <th>1</th>\n",
       "      <td>0.0</td>\n",
       "      <td>0.0</td>\n",
       "      <td>0.0</td>\n",
       "      <td>0.0</td>\n",
       "      <td>0.0</td>\n",
       "      <td>0.0</td>\n",
       "      <td>0.0</td>\n",
       "      <td>0.0</td>\n",
       "      <td>0.0</td>\n",
       "      <td>0.0</td>\n",
       "      <td>...</td>\n",
       "      <td>0.0</td>\n",
       "      <td>0.0</td>\n",
       "      <td>0.0</td>\n",
       "      <td>0.0</td>\n",
       "      <td>0.0</td>\n",
       "      <td>0.0</td>\n",
       "      <td>0.0</td>\n",
       "      <td>0.0</td>\n",
       "      <td>0.0</td>\n",
       "      <td>0.0</td>\n",
       "    </tr>\n",
       "    <tr>\n",
       "      <th>2</th>\n",
       "      <td>0.0</td>\n",
       "      <td>0.0</td>\n",
       "      <td>0.0</td>\n",
       "      <td>0.0</td>\n",
       "      <td>0.0</td>\n",
       "      <td>0.0</td>\n",
       "      <td>0.0</td>\n",
       "      <td>0.0</td>\n",
       "      <td>0.0</td>\n",
       "      <td>0.0</td>\n",
       "      <td>...</td>\n",
       "      <td>0.0</td>\n",
       "      <td>0.0</td>\n",
       "      <td>0.0</td>\n",
       "      <td>0.0</td>\n",
       "      <td>0.0</td>\n",
       "      <td>0.0</td>\n",
       "      <td>0.0</td>\n",
       "      <td>0.0</td>\n",
       "      <td>0.0</td>\n",
       "      <td>0.0</td>\n",
       "    </tr>\n",
       "    <tr>\n",
       "      <th>3</th>\n",
       "      <td>0.0</td>\n",
       "      <td>0.0</td>\n",
       "      <td>0.0</td>\n",
       "      <td>0.0</td>\n",
       "      <td>0.0</td>\n",
       "      <td>0.0</td>\n",
       "      <td>0.0</td>\n",
       "      <td>0.0</td>\n",
       "      <td>0.0</td>\n",
       "      <td>0.0</td>\n",
       "      <td>...</td>\n",
       "      <td>0.0</td>\n",
       "      <td>0.0</td>\n",
       "      <td>0.0</td>\n",
       "      <td>0.0</td>\n",
       "      <td>0.0</td>\n",
       "      <td>0.0</td>\n",
       "      <td>0.0</td>\n",
       "      <td>0.0</td>\n",
       "      <td>0.0</td>\n",
       "      <td>0.0</td>\n",
       "    </tr>\n",
       "    <tr>\n",
       "      <th>4</th>\n",
       "      <td>0.0</td>\n",
       "      <td>0.0</td>\n",
       "      <td>0.0</td>\n",
       "      <td>0.0</td>\n",
       "      <td>0.0</td>\n",
       "      <td>0.0</td>\n",
       "      <td>0.0</td>\n",
       "      <td>0.0</td>\n",
       "      <td>0.0</td>\n",
       "      <td>0.0</td>\n",
       "      <td>...</td>\n",
       "      <td>0.0</td>\n",
       "      <td>0.0</td>\n",
       "      <td>0.0</td>\n",
       "      <td>0.0</td>\n",
       "      <td>0.0</td>\n",
       "      <td>0.0</td>\n",
       "      <td>0.0</td>\n",
       "      <td>0.0</td>\n",
       "      <td>0.0</td>\n",
       "      <td>0.0</td>\n",
       "    </tr>\n",
       "  </tbody>\n",
       "</table>\n",
       "<p>5 rows × 2736 columns</p>\n",
       "</div>"
      ],
      "text/plain": [
       "   aaron  abandoned  abdel  abdi  abducted  abducting  abdul  abdullah  abort  \\\n",
       "0    0.0        0.0    0.0   0.0       0.0        0.0    0.0       0.0    0.0   \n",
       "1    0.0        0.0    0.0   0.0       0.0        0.0    0.0       0.0    0.0   \n",
       "2    0.0        0.0    0.0   0.0       0.0        0.0    0.0       0.0    0.0   \n",
       "3    0.0        0.0    0.0   0.0       0.0        0.0    0.0       0.0    0.0   \n",
       "4    0.0        0.0    0.0   0.0       0.0        0.0    0.0       0.0    0.0   \n",
       "\n",
       "   aborted    ...     younger  youngest  youtube  ypg  yum  zack  zehaf  \\\n",
       "0      0.0    ...         0.0       0.0      0.0  0.0  0.0   0.0    0.0   \n",
       "1      0.0    ...         0.0       0.0      0.0  0.0  0.0   0.0    0.0   \n",
       "2      0.0    ...         0.0       0.0      0.0  0.0  0.0   0.0    0.0   \n",
       "3      0.0    ...         0.0       0.0      0.0  0.0  0.0   0.0    0.0   \n",
       "4      0.0    ...         0.0       0.0      0.0  0.0  0.0   0.0    0.0   \n",
       "\n",
       "   zeppelin  zero  zhejiang  \n",
       "0       0.0   0.0       0.0  \n",
       "1       0.0   0.0       0.0  \n",
       "2       0.0   0.0       0.0  \n",
       "3       0.0   0.0       0.0  \n",
       "4       0.0   0.0       0.0  \n",
       "\n",
       "[5 rows x 2736 columns]"
      ]
     },
     "execution_count": 9,
     "metadata": {},
     "output_type": "execute_result"
    }
   ],
   "source": [
    "headline_df_tfdf.head()"
   ]
  },
  {
   "cell_type": "markdown",
   "metadata": {},
   "source": [
    "## Truncated SVD\n",
    "\n",
    "We now need to  perform linear dimensionality reduction using singular value decomposition on the TF IDF matrices. We need the matrices in this form to calculate cosine similarity. "
   ]
  },
  {
   "cell_type": "code",
   "execution_count": 10,
   "metadata": {},
   "outputs": [],
   "source": [
    "from sklearn.decomposition import TruncatedSVD"
   ]
  },
  {
   "cell_type": "code",
   "execution_count": 11,
   "metadata": {},
   "outputs": [],
   "source": [
    "n_components = 100\n",
    "SVD = TruncatedSVD(n_components)\n",
    "component_names = [\"component_\"+str(i) for i in range(n_components)]"
   ]
  },
  {
   "cell_type": "code",
   "execution_count": 12,
   "metadata": {
    "scrolled": true
   },
   "outputs": [
    {
     "data": {
      "text/plain": [
       "array([[ 9.53384548e-02,  2.09176824e-01, -2.62342899e-02, ...,\n",
       "         1.10110321e-02,  1.30100108e-02, -4.45993520e-02],\n",
       "       [ 9.53384548e-02,  2.09176824e-01, -2.62342899e-02, ...,\n",
       "         1.10110321e-02,  1.30100108e-02, -4.45993520e-02],\n",
       "       [ 9.53384548e-02,  2.09176824e-01, -2.62342899e-02, ...,\n",
       "         1.10110321e-02,  1.30100108e-02, -4.45993520e-02],\n",
       "       ...,\n",
       "       [ 1.09267408e-01, -4.05873229e-03, -1.23741153e-02, ...,\n",
       "         3.97693604e-03,  5.25099650e-03, -7.05808337e-03],\n",
       "       [ 1.74336459e-01,  5.12436977e-01, -7.44168997e-02, ...,\n",
       "         5.75898129e-04,  1.89215437e-02, -2.31509329e-02],\n",
       "       [ 1.62923050e-01,  6.62414841e-01, -1.28809676e-01, ...,\n",
       "        -2.64583004e-02, -7.99663605e-03, -1.60135485e-02]])"
      ]
     },
     "execution_count": 12,
     "metadata": {},
     "output_type": "execute_result"
    }
   ],
   "source": [
    "articleBody_svd_matrix = SVD.fit_transform(articleBody_df_tfdf)\n",
    "articleBody_svd_matrix"
   ]
  },
  {
   "cell_type": "code",
   "execution_count": 13,
   "metadata": {},
   "outputs": [
    {
     "data": {
      "text/plain": [
       "array([[ 0.01147522,  0.00935591,  0.00474677, ..., -0.01444387,\n",
       "         0.03611353, -0.01262063],\n",
       "       [ 0.00723129,  0.05075119, -0.00227487, ..., -0.01323627,\n",
       "         0.01240188,  0.0079495 ],\n",
       "       [ 0.01427187,  0.00729087,  0.00614585, ..., -0.01197421,\n",
       "         0.02090887, -0.01764184],\n",
       "       ...,\n",
       "       [ 0.0123354 ,  0.00230604,  0.00525852, ...,  0.0097313 ,\n",
       "         0.028124  , -0.04791566],\n",
       "       [ 0.01735223,  0.0150072 ,  0.00583556, ..., -0.03013608,\n",
       "        -0.03675897,  0.01092468],\n",
       "       [ 0.00979533,  0.01030182,  0.00912545, ..., -0.02566621,\n",
       "        -0.02304934, -0.03279976]])"
      ]
     },
     "execution_count": 13,
     "metadata": {},
     "output_type": "execute_result"
    }
   ],
   "source": [
    "headline_svd_matrix = SVD.fit_transform(headline_df_tfdf)\n",
    "headline_svd_matrix"
   ]
  },
  {
   "cell_type": "code",
   "execution_count": 14,
   "metadata": {},
   "outputs": [
    {
     "data": {
      "text/plain": [
       "(49972, 100)"
      ]
     },
     "execution_count": 14,
     "metadata": {},
     "output_type": "execute_result"
    }
   ],
   "source": [
    "articleBody_svd_matrix.shape"
   ]
  },
  {
   "cell_type": "markdown",
   "metadata": {},
   "source": [
    "## Cosine Similarity\n",
    "\n",
    "Calculate distances between headline and articles to use as our X. "
   ]
  },
  {
   "cell_type": "code",
   "execution_count": 15,
   "metadata": {},
   "outputs": [],
   "source": [
    "import scipy.spatial as sp"
   ]
  },
  {
   "cell_type": "code",
   "execution_count": 16,
   "metadata": {},
   "outputs": [],
   "source": [
    "distances = []\n",
    "for i, body in enumerate(articleBody_svd_matrix): \n",
    "    distances.append(sp.distance.cdist([body], [headline_svd_matrix[i]], 'cosine')[0][0])"
   ]
  },
  {
   "cell_type": "code",
   "execution_count": 17,
   "metadata": {},
   "outputs": [],
   "source": [
    "df_all['distances'] = pd.Series(distances)"
   ]
  },
  {
   "cell_type": "code",
   "execution_count": 18,
   "metadata": {},
   "outputs": [
    {
     "data": {
      "text/plain": [
       "(49972, 6)"
      ]
     },
     "execution_count": 18,
     "metadata": {},
     "output_type": "execute_result"
    }
   ],
   "source": [
    "df_all.shape"
   ]
  },
  {
   "cell_type": "markdown",
   "metadata": {},
   "source": [
    "### Eliminating Nulls from all Data"
   ]
  },
  {
   "cell_type": "code",
   "execution_count": 19,
   "metadata": {},
   "outputs": [
    {
     "data": {
      "text/plain": [
       "(49972, 6)"
      ]
     },
     "execution_count": 19,
     "metadata": {},
     "output_type": "execute_result"
    }
   ],
   "source": [
    "df_all.shape"
   ]
  },
  {
   "cell_type": "code",
   "execution_count": 20,
   "metadata": {},
   "outputs": [],
   "source": [
    "df_all = df_all.dropna(axis=0)"
   ]
  },
  {
   "cell_type": "code",
   "execution_count": 21,
   "metadata": {},
   "outputs": [
    {
     "data": {
      "text/plain": [
       "(49970, 6)"
      ]
     },
     "execution_count": 21,
     "metadata": {},
     "output_type": "execute_result"
    }
   ],
   "source": [
    "df_all.shape"
   ]
  },
  {
   "cell_type": "code",
   "execution_count": 22,
   "metadata": {
    "scrolled": true
   },
   "outputs": [
    {
     "data": {
      "text/html": [
       "<div>\n",
       "<style scoped>\n",
       "    .dataframe tbody tr th:only-of-type {\n",
       "        vertical-align: middle;\n",
       "    }\n",
       "\n",
       "    .dataframe tbody tr th {\n",
       "        vertical-align: top;\n",
       "    }\n",
       "\n",
       "    .dataframe thead th {\n",
       "        text-align: right;\n",
       "    }\n",
       "</style>\n",
       "<table border=\"1\" class=\"dataframe\">\n",
       "  <thead>\n",
       "    <tr style=\"text-align: right;\">\n",
       "      <th></th>\n",
       "      <th>Unnamed: 0</th>\n",
       "      <th>Headline</th>\n",
       "      <th>Body ID</th>\n",
       "      <th>Stance</th>\n",
       "      <th>articleBody</th>\n",
       "      <th>distances</th>\n",
       "    </tr>\n",
       "  </thead>\n",
       "  <tbody>\n",
       "    <tr>\n",
       "      <th>0</th>\n",
       "      <td>0</td>\n",
       "      <td>police find mass graf least  body near mexico ...</td>\n",
       "      <td>712</td>\n",
       "      <td>unrelated</td>\n",
       "      <td>danny boyle directing untitled film seth rogen...</td>\n",
       "      <td>0.842675</td>\n",
       "    </tr>\n",
       "    <tr>\n",
       "      <th>1</th>\n",
       "      <td>1</td>\n",
       "      <td>seth rogen play apple steve wozniak</td>\n",
       "      <td>712</td>\n",
       "      <td>discuss</td>\n",
       "      <td>danny boyle directing untitled film seth rogen...</td>\n",
       "      <td>0.960168</td>\n",
       "    </tr>\n",
       "    <tr>\n",
       "      <th>2</th>\n",
       "      <td>2</td>\n",
       "      <td>mexico police find mass grave near site  stude...</td>\n",
       "      <td>712</td>\n",
       "      <td>unrelated</td>\n",
       "      <td>danny boyle directing untitled film seth rogen...</td>\n",
       "      <td>0.834126</td>\n",
       "    </tr>\n",
       "    <tr>\n",
       "      <th>3</th>\n",
       "      <td>3</td>\n",
       "      <td>mexico say missing student found first mass graf</td>\n",
       "      <td>712</td>\n",
       "      <td>unrelated</td>\n",
       "      <td>danny boyle directing untitled film seth rogen...</td>\n",
       "      <td>0.770951</td>\n",
       "    </tr>\n",
       "    <tr>\n",
       "      <th>4</th>\n",
       "      <td>4</td>\n",
       "      <td>new io  bug delete icloud document</td>\n",
       "      <td>712</td>\n",
       "      <td>unrelated</td>\n",
       "      <td>danny boyle directing untitled film seth rogen...</td>\n",
       "      <td>0.971431</td>\n",
       "    </tr>\n",
       "  </tbody>\n",
       "</table>\n",
       "</div>"
      ],
      "text/plain": [
       "   Unnamed: 0                                           Headline  Body ID  \\\n",
       "0           0  police find mass graf least  body near mexico ...      712   \n",
       "1           1                seth rogen play apple steve wozniak      712   \n",
       "2           2  mexico police find mass grave near site  stude...      712   \n",
       "3           3   mexico say missing student found first mass graf      712   \n",
       "4           4                 new io  bug delete icloud document      712   \n",
       "\n",
       "      Stance                                        articleBody  distances  \n",
       "0  unrelated  danny boyle directing untitled film seth rogen...   0.842675  \n",
       "1    discuss  danny boyle directing untitled film seth rogen...   0.960168  \n",
       "2  unrelated  danny boyle directing untitled film seth rogen...   0.834126  \n",
       "3  unrelated  danny boyle directing untitled film seth rogen...   0.770951  \n",
       "4  unrelated  danny boyle directing untitled film seth rogen...   0.971431  "
      ]
     },
     "execution_count": 22,
     "metadata": {},
     "output_type": "execute_result"
    }
   ],
   "source": [
    "df_all.head()"
   ]
  },
  {
   "cell_type": "markdown",
   "metadata": {},
   "source": [
    "### Adding labels to stances"
   ]
  },
  {
   "cell_type": "code",
   "execution_count": 23,
   "metadata": {},
   "outputs": [],
   "source": [
    "from sklearn import preprocessing"
   ]
  },
  {
   "cell_type": "code",
   "execution_count": 24,
   "metadata": {},
   "outputs": [
    {
     "name": "stdout",
     "output_type": "stream",
     "text": [
      "Classes: ['agree', 'disagree', 'discuss', 'unrelated']\n"
     ]
    }
   ],
   "source": [
    "le = preprocessing.LabelEncoder()\n",
    "le.fit(df_all['Stance'])\n",
    "print(\"Classes:\", list(le.classes_))\n",
    "stance_label = le.transform(df_all['Stance']) \n"
   ]
  },
  {
   "cell_type": "code",
   "execution_count": 25,
   "metadata": {
    "scrolled": true
   },
   "outputs": [
    {
     "data": {
      "text/plain": [
       "array([3, 2, 3, ..., 0, 2, 2])"
      ]
     },
     "execution_count": 25,
     "metadata": {},
     "output_type": "execute_result"
    }
   ],
   "source": [
    "stance_label"
   ]
  },
  {
   "cell_type": "markdown",
   "metadata": {},
   "source": [
    "Creating dummies for the four stances. "
   ]
  },
  {
   "cell_type": "code",
   "execution_count": 26,
   "metadata": {},
   "outputs": [],
   "source": [
    "df_all['stance_dummy'] = pd.Series(stance_label)"
   ]
  },
  {
   "cell_type": "code",
   "execution_count": 27,
   "metadata": {},
   "outputs": [
    {
     "data": {
      "text/html": [
       "<div>\n",
       "<style scoped>\n",
       "    .dataframe tbody tr th:only-of-type {\n",
       "        vertical-align: middle;\n",
       "    }\n",
       "\n",
       "    .dataframe tbody tr th {\n",
       "        vertical-align: top;\n",
       "    }\n",
       "\n",
       "    .dataframe thead th {\n",
       "        text-align: right;\n",
       "    }\n",
       "</style>\n",
       "<table border=\"1\" class=\"dataframe\">\n",
       "  <thead>\n",
       "    <tr style=\"text-align: right;\">\n",
       "      <th></th>\n",
       "      <th>Unnamed: 0</th>\n",
       "      <th>Headline</th>\n",
       "      <th>Body ID</th>\n",
       "      <th>Stance</th>\n",
       "      <th>articleBody</th>\n",
       "      <th>distances</th>\n",
       "      <th>stance_dummy</th>\n",
       "    </tr>\n",
       "  </thead>\n",
       "  <tbody>\n",
       "    <tr>\n",
       "      <th>0</th>\n",
       "      <td>0</td>\n",
       "      <td>police find mass graf least  body near mexico ...</td>\n",
       "      <td>712</td>\n",
       "      <td>unrelated</td>\n",
       "      <td>danny boyle directing untitled film seth rogen...</td>\n",
       "      <td>0.842675</td>\n",
       "      <td>3.0</td>\n",
       "    </tr>\n",
       "    <tr>\n",
       "      <th>1</th>\n",
       "      <td>1</td>\n",
       "      <td>seth rogen play apple steve wozniak</td>\n",
       "      <td>712</td>\n",
       "      <td>discuss</td>\n",
       "      <td>danny boyle directing untitled film seth rogen...</td>\n",
       "      <td>0.960168</td>\n",
       "      <td>2.0</td>\n",
       "    </tr>\n",
       "    <tr>\n",
       "      <th>2</th>\n",
       "      <td>2</td>\n",
       "      <td>mexico police find mass grave near site  stude...</td>\n",
       "      <td>712</td>\n",
       "      <td>unrelated</td>\n",
       "      <td>danny boyle directing untitled film seth rogen...</td>\n",
       "      <td>0.834126</td>\n",
       "      <td>3.0</td>\n",
       "    </tr>\n",
       "    <tr>\n",
       "      <th>3</th>\n",
       "      <td>3</td>\n",
       "      <td>mexico say missing student found first mass graf</td>\n",
       "      <td>712</td>\n",
       "      <td>unrelated</td>\n",
       "      <td>danny boyle directing untitled film seth rogen...</td>\n",
       "      <td>0.770951</td>\n",
       "      <td>3.0</td>\n",
       "    </tr>\n",
       "    <tr>\n",
       "      <th>4</th>\n",
       "      <td>4</td>\n",
       "      <td>new io  bug delete icloud document</td>\n",
       "      <td>712</td>\n",
       "      <td>unrelated</td>\n",
       "      <td>danny boyle directing untitled film seth rogen...</td>\n",
       "      <td>0.971431</td>\n",
       "      <td>3.0</td>\n",
       "    </tr>\n",
       "  </tbody>\n",
       "</table>\n",
       "</div>"
      ],
      "text/plain": [
       "   Unnamed: 0                                           Headline  Body ID  \\\n",
       "0           0  police find mass graf least  body near mexico ...      712   \n",
       "1           1                seth rogen play apple steve wozniak      712   \n",
       "2           2  mexico police find mass grave near site  stude...      712   \n",
       "3           3   mexico say missing student found first mass graf      712   \n",
       "4           4                 new io  bug delete icloud document      712   \n",
       "\n",
       "      Stance                                        articleBody  distances  \\\n",
       "0  unrelated  danny boyle directing untitled film seth rogen...   0.842675   \n",
       "1    discuss  danny boyle directing untitled film seth rogen...   0.960168   \n",
       "2  unrelated  danny boyle directing untitled film seth rogen...   0.834126   \n",
       "3  unrelated  danny boyle directing untitled film seth rogen...   0.770951   \n",
       "4  unrelated  danny boyle directing untitled film seth rogen...   0.971431   \n",
       "\n",
       "   stance_dummy  \n",
       "0           3.0  \n",
       "1           2.0  \n",
       "2           3.0  \n",
       "3           3.0  \n",
       "4           3.0  "
      ]
     },
     "execution_count": 27,
     "metadata": {},
     "output_type": "execute_result"
    }
   ],
   "source": [
    "df_all.head()"
   ]
  },
  {
   "cell_type": "code",
   "execution_count": 28,
   "metadata": {},
   "outputs": [
    {
     "data": {
      "text/html": [
       "<div>\n",
       "<style scoped>\n",
       "    .dataframe tbody tr th:only-of-type {\n",
       "        vertical-align: middle;\n",
       "    }\n",
       "\n",
       "    .dataframe tbody tr th {\n",
       "        vertical-align: top;\n",
       "    }\n",
       "\n",
       "    .dataframe thead th {\n",
       "        text-align: right;\n",
       "    }\n",
       "</style>\n",
       "<table border=\"1\" class=\"dataframe\">\n",
       "  <thead>\n",
       "    <tr style=\"text-align: right;\">\n",
       "      <th></th>\n",
       "      <th>agree</th>\n",
       "      <th>disagree</th>\n",
       "      <th>discuss</th>\n",
       "      <th>unrelated</th>\n",
       "    </tr>\n",
       "  </thead>\n",
       "  <tbody>\n",
       "    <tr>\n",
       "      <th>0</th>\n",
       "      <td>0</td>\n",
       "      <td>0</td>\n",
       "      <td>0</td>\n",
       "      <td>1</td>\n",
       "    </tr>\n",
       "    <tr>\n",
       "      <th>1</th>\n",
       "      <td>0</td>\n",
       "      <td>0</td>\n",
       "      <td>1</td>\n",
       "      <td>0</td>\n",
       "    </tr>\n",
       "    <tr>\n",
       "      <th>2</th>\n",
       "      <td>0</td>\n",
       "      <td>0</td>\n",
       "      <td>0</td>\n",
       "      <td>1</td>\n",
       "    </tr>\n",
       "    <tr>\n",
       "      <th>3</th>\n",
       "      <td>0</td>\n",
       "      <td>0</td>\n",
       "      <td>0</td>\n",
       "      <td>1</td>\n",
       "    </tr>\n",
       "    <tr>\n",
       "      <th>4</th>\n",
       "      <td>0</td>\n",
       "      <td>0</td>\n",
       "      <td>0</td>\n",
       "      <td>1</td>\n",
       "    </tr>\n",
       "  </tbody>\n",
       "</table>\n",
       "</div>"
      ],
      "text/plain": [
       "   agree  disagree  discuss  unrelated\n",
       "0      0         0        0          1\n",
       "1      0         0        1          0\n",
       "2      0         0        0          1\n",
       "3      0         0        0          1\n",
       "4      0         0        0          1"
      ]
     },
     "execution_count": 28,
     "metadata": {},
     "output_type": "execute_result"
    }
   ],
   "source": [
    "stance_dummy = pd.get_dummies(df_all['Stance'], drop_first=False)\n",
    "stance_dummy.head()"
   ]
  },
  {
   "cell_type": "markdown",
   "metadata": {},
   "source": [
    "Join both distances and stance dummy in one data frame for easy access and drop nulls if any. "
   ]
  },
  {
   "cell_type": "code",
   "execution_count": 29,
   "metadata": {
    "scrolled": true
   },
   "outputs": [
    {
     "data": {
      "text/html": [
       "<div>\n",
       "<style scoped>\n",
       "    .dataframe tbody tr th:only-of-type {\n",
       "        vertical-align: middle;\n",
       "    }\n",
       "\n",
       "    .dataframe tbody tr th {\n",
       "        vertical-align: top;\n",
       "    }\n",
       "\n",
       "    .dataframe thead th {\n",
       "        text-align: right;\n",
       "    }\n",
       "</style>\n",
       "<table border=\"1\" class=\"dataframe\">\n",
       "  <thead>\n",
       "    <tr style=\"text-align: right;\">\n",
       "      <th></th>\n",
       "      <th>distances</th>\n",
       "      <th>stance_dummy</th>\n",
       "    </tr>\n",
       "  </thead>\n",
       "  <tbody>\n",
       "    <tr>\n",
       "      <th>0</th>\n",
       "      <td>0.842675</td>\n",
       "      <td>3.0</td>\n",
       "    </tr>\n",
       "    <tr>\n",
       "      <th>1</th>\n",
       "      <td>0.960168</td>\n",
       "      <td>2.0</td>\n",
       "    </tr>\n",
       "    <tr>\n",
       "      <th>2</th>\n",
       "      <td>0.834126</td>\n",
       "      <td>3.0</td>\n",
       "    </tr>\n",
       "    <tr>\n",
       "      <th>3</th>\n",
       "      <td>0.770951</td>\n",
       "      <td>3.0</td>\n",
       "    </tr>\n",
       "    <tr>\n",
       "      <th>4</th>\n",
       "      <td>0.971431</td>\n",
       "      <td>3.0</td>\n",
       "    </tr>\n",
       "  </tbody>\n",
       "</table>\n",
       "</div>"
      ],
      "text/plain": [
       "   distances  stance_dummy\n",
       "0   0.842675           3.0\n",
       "1   0.960168           2.0\n",
       "2   0.834126           3.0\n",
       "3   0.770951           3.0\n",
       "4   0.971431           3.0"
      ]
     },
     "execution_count": 29,
     "metadata": {},
     "output_type": "execute_result"
    }
   ],
   "source": [
    "df_fix = pd.DataFrame([df_all['distances'], df_all['stance_dummy']]).T\n",
    "df_fix = df_fix.dropna(axis=0)\n",
    "df_fix.head()"
   ]
  },
  {
   "cell_type": "code",
   "execution_count": 30,
   "metadata": {},
   "outputs": [
    {
     "data": {
      "text/plain": [
       "(49968, 2)"
      ]
     },
     "execution_count": 30,
     "metadata": {},
     "output_type": "execute_result"
    }
   ],
   "source": [
    "df_fix.shape"
   ]
  },
  {
   "cell_type": "markdown",
   "metadata": {},
   "source": [
    "## Model with Distance"
   ]
  },
  {
   "cell_type": "code",
   "execution_count": 31,
   "metadata": {},
   "outputs": [],
   "source": [
    "from sklearn.model_selection import train_test_split"
   ]
  },
  {
   "cell_type": "code",
   "execution_count": 32,
   "metadata": {},
   "outputs": [
    {
     "name": "stderr",
     "output_type": "stream",
     "text": [
      "/anaconda3/envs/dsi/lib/python3.6/site-packages/ipykernel/__main__.py:1: FutureWarning: reshape is deprecated and will raise in a subsequent release. Please use .values.reshape(...) instead\n",
      "  if __name__ == '__main__':\n"
     ]
    }
   ],
   "source": [
    "X = df_fix['distances'].reshape(df_fix['distances'].shape[0], 1)\n",
    "y = df_fix['stance_dummy']\n",
    "\n",
    "X_train, X_test, y_train, y_test = train_test_split(X, y)"
   ]
  },
  {
   "cell_type": "code",
   "execution_count": 33,
   "metadata": {},
   "outputs": [
    {
     "data": {
      "text/plain": [
       "((37476, 1), (12492, 1), (37476,), (12492,))"
      ]
     },
     "execution_count": 33,
     "metadata": {},
     "output_type": "execute_result"
    }
   ],
   "source": [
    "X_train.shape, X_test.shape, y_train.shape, y_test.shape"
   ]
  },
  {
   "cell_type": "code",
   "execution_count": 34,
   "metadata": {
    "scrolled": true
   },
   "outputs": [
    {
     "data": {
      "text/plain": [
       "0.7327889849503683"
      ]
     },
     "execution_count": 34,
     "metadata": {},
     "output_type": "execute_result"
    }
   ],
   "source": [
    "lr = LogisticRegression()\n",
    "lr.fit(X_train, y_train)\n",
    "lr.score(X_train, y_train)"
   ]
  },
  {
   "cell_type": "code",
   "execution_count": 35,
   "metadata": {},
   "outputs": [
    {
     "data": {
      "text/plain": [
       "0.7268651937239834"
      ]
     },
     "execution_count": 35,
     "metadata": {},
     "output_type": "execute_result"
    }
   ],
   "source": [
    "lr.score(X_test, y_test)"
   ]
  },
  {
   "cell_type": "code",
   "execution_count": 36,
   "metadata": {},
   "outputs": [
    {
     "data": {
      "text/plain": [
       "0.9568790692710001"
      ]
     },
     "execution_count": 36,
     "metadata": {},
     "output_type": "execute_result"
    }
   ],
   "source": [
    "from sklearn.ensemble import RandomForestClassifier\n",
    "rf = RandomForestClassifier()\n",
    "rf.fit(X_train, y_train)\n",
    "rf.score(X_train, y_train)"
   ]
  },
  {
   "cell_type": "code",
   "execution_count": 37,
   "metadata": {},
   "outputs": [
    {
     "data": {
      "text/plain": [
       "0.590137688120397"
      ]
     },
     "execution_count": 37,
     "metadata": {},
     "output_type": "execute_result"
    }
   ],
   "source": [
    "rf.score(X_test, y_test)"
   ]
  },
  {
   "cell_type": "markdown",
   "metadata": {},
   "source": [
    "After calculating cosine similarity between the headline and article body matrices the logistic regression model performed at 0.73156 compared to our baseline of 0.73171. Random forest scored very well but I found it was very overfit after scoring on the test. \n",
    "    "
   ]
  },
  {
   "cell_type": "markdown",
   "metadata": {},
   "source": [
    "## Reciever Operating Characteristic (ROC) Curve"
   ]
  },
  {
   "cell_type": "code",
   "execution_count": 38,
   "metadata": {},
   "outputs": [],
   "source": [
    "from sklearn.metrics import roc_auc_score"
   ]
  },
  {
   "cell_type": "code",
   "execution_count": 39,
   "metadata": {},
   "outputs": [
    {
     "data": {
      "image/png": "[encoded data removed]",
      "text/plain": [
       "<Figure size 504x504 with 1 Axes>"
      ]
     },
     "metadata": {},
     "output_type": "display_data"
    }
   ],
   "source": [
    "y_probas = lr.predict_proba(X_train)\n",
    "y_true = y_train\n",
    "\n",
    "import scikitplot as skplt\n",
    "import matplotlib.pyplot as plt\n",
    "\n",
    "skplt.metrics.plot_roc(y_true, y_probas, figsize=(7,7))\n",
    "plt.show()"
   ]
  },
  {
   "cell_type": "code",
   "execution_count": 40,
   "metadata": {},
   "outputs": [
    {
     "data": {
      "text/plain": [
       "(array([3., 2., 0., 1.]), (37476,))"
      ]
     },
     "execution_count": 40,
     "metadata": {},
     "output_type": "execute_result"
    }
   ],
   "source": [
    "y_true.unique(), y_true.shape"
   ]
  },
  {
   "cell_type": "code",
   "execution_count": 41,
   "metadata": {},
   "outputs": [
    {
     "data": {
      "text/plain": [
       "(array([0.01298055, 0.01310734, 0.01314797, ..., 0.80659908, 0.80673247,\n",
       "        0.80725818]), (37476, 4))"
      ]
     },
     "execution_count": 41,
     "metadata": {},
     "output_type": "execute_result"
    }
   ],
   "source": [
    "np.unique(y_probas), y_probas.shape"
   ]
  },
  {
   "cell_type": "code",
   "execution_count": 42,
   "metadata": {
    "scrolled": true
   },
   "outputs": [
    {
     "data": {
      "text/plain": [
       "array([[0.07282561, 0.01651834, 0.18045328, 0.73020278],\n",
       "       [0.07219075, 0.01647347, 0.1837884 , 0.72754738],\n",
       "       [0.07558134, 0.01670568, 0.16659378, 0.74111921],\n",
       "       ...,\n",
       "       [0.05094606, 0.01454553, 0.32955468, 0.60495373],\n",
       "       [0.07885106, 0.01691305, 0.15140533, 0.75283056],\n",
       "       [0.07151417, 0.01642493, 0.18740252, 0.72465839]])"
      ]
     },
     "execution_count": 42,
     "metadata": {},
     "output_type": "execute_result"
    }
   ],
   "source": [
    "y_probas"
   ]
  },
  {
   "cell_type": "markdown",
   "metadata": {},
   "source": [
    "The curve plots the diagnostic ability for the classifier system. The ROC curve plots the sensitivity against the false positive rate at various thresholds. A macro average will give us a score for each class then take the average. A mirco average will aggregate the contributoins of each class to give the average metric. The micro average shows us there is still a possibility for us to reach this number!"
   ]
  },
  {
   "cell_type": "markdown",
   "metadata": {},
   "source": [
    "## Over Sampling \n",
    "\n",
    "Trying to adjust the class distribution. "
   ]
  },
  {
   "cell_type": "code",
   "execution_count": 43,
   "metadata": {},
   "outputs": [],
   "source": [
    "from imblearn.over_sampling import RandomOverSampler"
   ]
  },
  {
   "cell_type": "code",
   "execution_count": 44,
   "metadata": {},
   "outputs": [
    {
     "name": "stdout",
     "output_type": "stream",
     "text": [
      "[(0.0, 36542), (1.0, 36542), (2.0, 36542), (3.0, 36542)]\n"
     ]
    }
   ],
   "source": [
    "ros = RandomOverSampler(random_state=0)\n",
    "X_resampled, y_resampled = ros.fit_sample(X, y)\n",
    "from collections import Counter\n",
    "print(sorted(Counter(y_resampled).items()))"
   ]
  },
  {
   "cell_type": "code",
   "execution_count": 45,
   "metadata": {
    "scrolled": true
   },
   "outputs": [
    {
     "data": {
      "text/plain": [
       "0.273165125061573"
      ]
     },
     "execution_count": 45,
     "metadata": {},
     "output_type": "execute_result"
    }
   ],
   "source": [
    "lr = LogisticRegression()\n",
    "lr.fit(X_resampled, y_resampled)\n",
    "lr.score(X_resampled, y_resampled)"
   ]
  },
  {
   "cell_type": "markdown",
   "metadata": {},
   "source": [
    "# Model with count vectorized body, count vectorized head, and distances"
   ]
  },
  {
   "cell_type": "markdown",
   "metadata": {},
   "source": [
    "I count vectorize both headline and body. "
   ]
  },
  {
   "cell_type": "code",
   "execution_count": 46,
   "metadata": {
    "scrolled": true
   },
   "outputs": [
    {
     "data": {
      "text/plain": [
       "<49970x19665 sparse matrix of type '<class 'numpy.int64'>'\n",
       "\twith 6483114 stored elements in Compressed Sparse Row format>"
      ]
     },
     "execution_count": 46,
     "metadata": {},
     "output_type": "execute_result"
    }
   ],
   "source": [
    "cvec_vector = CountVectorizer(stop_words='english')\n",
    "cvec_articleBody_matrix_sparse = cvec_vector.fit_transform(df_all['articleBody'])\n",
    "cvec_articleBody_matrix_sparse"
   ]
  },
  {
   "cell_type": "code",
   "execution_count": 47,
   "metadata": {},
   "outputs": [],
   "source": [
    "cvec_body_array = cvec_articleBody_matrix_sparse.toarray()"
   ]
  },
  {
   "cell_type": "code",
   "execution_count": 48,
   "metadata": {},
   "outputs": [],
   "source": [
    "df_cvec = pd.DataFrame(cvec_body_array)"
   ]
  },
  {
   "cell_type": "code",
   "execution_count": 49,
   "metadata": {},
   "outputs": [
    {
     "data": {
      "text/html": [
       "<div>\n",
       "<style scoped>\n",
       "    .dataframe tbody tr th:only-of-type {\n",
       "        vertical-align: middle;\n",
       "    }\n",
       "\n",
       "    .dataframe tbody tr th {\n",
       "        vertical-align: top;\n",
       "    }\n",
       "\n",
       "    .dataframe thead th {\n",
       "        text-align: right;\n",
       "    }\n",
       "</style>\n",
       "<table border=\"1\" class=\"dataframe\">\n",
       "  <thead>\n",
       "    <tr style=\"text-align: right;\">\n",
       "      <th></th>\n",
       "      <th>0</th>\n",
       "      <th>1</th>\n",
       "      <th>2</th>\n",
       "      <th>3</th>\n",
       "      <th>4</th>\n",
       "      <th>5</th>\n",
       "      <th>6</th>\n",
       "      <th>7</th>\n",
       "      <th>8</th>\n",
       "      <th>9</th>\n",
       "      <th>...</th>\n",
       "      <th>19655</th>\n",
       "      <th>19656</th>\n",
       "      <th>19657</th>\n",
       "      <th>19658</th>\n",
       "      <th>19659</th>\n",
       "      <th>19660</th>\n",
       "      <th>19661</th>\n",
       "      <th>19662</th>\n",
       "      <th>19663</th>\n",
       "      <th>19664</th>\n",
       "    </tr>\n",
       "  </thead>\n",
       "  <tbody>\n",
       "    <tr>\n",
       "      <th>0</th>\n",
       "      <td>0</td>\n",
       "      <td>0</td>\n",
       "      <td>0</td>\n",
       "      <td>0</td>\n",
       "      <td>0</td>\n",
       "      <td>1</td>\n",
       "      <td>0</td>\n",
       "      <td>0</td>\n",
       "      <td>0</td>\n",
       "      <td>0</td>\n",
       "      <td>...</td>\n",
       "      <td>0</td>\n",
       "      <td>0</td>\n",
       "      <td>0</td>\n",
       "      <td>0</td>\n",
       "      <td>0</td>\n",
       "      <td>0</td>\n",
       "      <td>0</td>\n",
       "      <td>0</td>\n",
       "      <td>0</td>\n",
       "      <td>0</td>\n",
       "    </tr>\n",
       "    <tr>\n",
       "      <th>1</th>\n",
       "      <td>0</td>\n",
       "      <td>0</td>\n",
       "      <td>0</td>\n",
       "      <td>0</td>\n",
       "      <td>0</td>\n",
       "      <td>1</td>\n",
       "      <td>0</td>\n",
       "      <td>0</td>\n",
       "      <td>0</td>\n",
       "      <td>0</td>\n",
       "      <td>...</td>\n",
       "      <td>0</td>\n",
       "      <td>0</td>\n",
       "      <td>0</td>\n",
       "      <td>0</td>\n",
       "      <td>0</td>\n",
       "      <td>0</td>\n",
       "      <td>0</td>\n",
       "      <td>0</td>\n",
       "      <td>0</td>\n",
       "      <td>0</td>\n",
       "    </tr>\n",
       "    <tr>\n",
       "      <th>2</th>\n",
       "      <td>0</td>\n",
       "      <td>0</td>\n",
       "      <td>0</td>\n",
       "      <td>0</td>\n",
       "      <td>0</td>\n",
       "      <td>1</td>\n",
       "      <td>0</td>\n",
       "      <td>0</td>\n",
       "      <td>0</td>\n",
       "      <td>0</td>\n",
       "      <td>...</td>\n",
       "      <td>0</td>\n",
       "      <td>0</td>\n",
       "      <td>0</td>\n",
       "      <td>0</td>\n",
       "      <td>0</td>\n",
       "      <td>0</td>\n",
       "      <td>0</td>\n",
       "      <td>0</td>\n",
       "      <td>0</td>\n",
       "      <td>0</td>\n",
       "    </tr>\n",
       "    <tr>\n",
       "      <th>3</th>\n",
       "      <td>0</td>\n",
       "      <td>0</td>\n",
       "      <td>0</td>\n",
       "      <td>0</td>\n",
       "      <td>0</td>\n",
       "      <td>1</td>\n",
       "      <td>0</td>\n",
       "      <td>0</td>\n",
       "      <td>0</td>\n",
       "      <td>0</td>\n",
       "      <td>...</td>\n",
       "      <td>0</td>\n",
       "      <td>0</td>\n",
       "      <td>0</td>\n",
       "      <td>0</td>\n",
       "      <td>0</td>\n",
       "      <td>0</td>\n",
       "      <td>0</td>\n",
       "      <td>0</td>\n",
       "      <td>0</td>\n",
       "      <td>0</td>\n",
       "    </tr>\n",
       "    <tr>\n",
       "      <th>4</th>\n",
       "      <td>0</td>\n",
       "      <td>0</td>\n",
       "      <td>0</td>\n",
       "      <td>0</td>\n",
       "      <td>0</td>\n",
       "      <td>1</td>\n",
       "      <td>0</td>\n",
       "      <td>0</td>\n",
       "      <td>0</td>\n",
       "      <td>0</td>\n",
       "      <td>...</td>\n",
       "      <td>0</td>\n",
       "      <td>0</td>\n",
       "      <td>0</td>\n",
       "      <td>0</td>\n",
       "      <td>0</td>\n",
       "      <td>0</td>\n",
       "      <td>0</td>\n",
       "      <td>0</td>\n",
       "      <td>0</td>\n",
       "      <td>0</td>\n",
       "    </tr>\n",
       "  </tbody>\n",
       "</table>\n",
       "<p>5 rows × 19665 columns</p>\n",
       "</div>"
      ],
      "text/plain": [
       "   0      1      2      3      4      5      6      7      8      9      \\\n",
       "0      0      0      0      0      0      1      0      0      0      0   \n",
       "1      0      0      0      0      0      1      0      0      0      0   \n",
       "2      0      0      0      0      0      1      0      0      0      0   \n",
       "3      0      0      0      0      0      1      0      0      0      0   \n",
       "4      0      0      0      0      0      1      0      0      0      0   \n",
       "\n",
       "   ...    19655  19656  19657  19658  19659  19660  19661  19662  19663  19664  \n",
       "0  ...        0      0      0      0      0      0      0      0      0      0  \n",
       "1  ...        0      0      0      0      0      0      0      0      0      0  \n",
       "2  ...        0      0      0      0      0      0      0      0      0      0  \n",
       "3  ...        0      0      0      0      0      0      0      0      0      0  \n",
       "4  ...        0      0      0      0      0      0      0      0      0      0  \n",
       "\n",
       "[5 rows x 19665 columns]"
      ]
     },
     "execution_count": 49,
     "metadata": {},
     "output_type": "execute_result"
    }
   ],
   "source": [
    "df_cvec.head()"
   ]
  },
  {
   "cell_type": "code",
   "execution_count": 50,
   "metadata": {
    "scrolled": true
   },
   "outputs": [
    {
     "data": {
      "text/plain": [
       "<49970x2800 sparse matrix of type '<class 'numpy.int64'>'\n",
       "\twith 388345 stored elements in Compressed Sparse Row format>"
      ]
     },
     "execution_count": 50,
     "metadata": {},
     "output_type": "execute_result"
    }
   ],
   "source": [
    "cvec_vector = CountVectorizer(stop_words='english')\n",
    "cvec_headline_matrix_sparse = cvec_vector.fit_transform(df_all['Headline'])\n",
    "cvec_headline_matrix_sparse"
   ]
  },
  {
   "cell_type": "code",
   "execution_count": 51,
   "metadata": {},
   "outputs": [
    {
     "data": {
      "text/plain": [
       "<bound method CountVectorizer.get_feature_names of CountVectorizer(analyzer='word', binary=False, decode_error='strict',\n",
       "        dtype=<class 'numpy.int64'>, encoding='utf-8', input='content',\n",
       "        lowercase=True, max_df=1.0, max_features=None, min_df=1,\n",
       "        ngram_range=(1, 1), preprocessor=None, stop_words='english',\n",
       "        strip_accents=None, token_pattern='(?u)\\\\b\\\\w\\\\w+\\\\b',\n",
       "        tokenizer=None, vocabulary=None)>"
      ]
     },
     "execution_count": 51,
     "metadata": {},
     "output_type": "execute_result"
    }
   ],
   "source": [
    "cvec_vector.get_feature_names"
   ]
  },
  {
   "cell_type": "code",
   "execution_count": 52,
   "metadata": {},
   "outputs": [],
   "source": [
    "cvec_headline_df = pd.DataFrame(cvec_headline_matrix_sparse.todense(),\n",
    "                       columns = cvec_vector.get_feature_names())"
   ]
  },
  {
   "cell_type": "code",
   "execution_count": 53,
   "metadata": {},
   "outputs": [
    {
     "data": {
      "text/plain": [
       "(49970, 2800)"
      ]
     },
     "execution_count": 53,
     "metadata": {},
     "output_type": "execute_result"
    }
   ],
   "source": [
    "cvec_headline_df.shape"
   ]
  },
  {
   "cell_type": "code",
   "execution_count": 54,
   "metadata": {},
   "outputs": [
    {
     "data": {
      "text/plain": [
       "<49970x19665 sparse matrix of type '<class 'numpy.int64'>'\n",
       "\twith 6483114 stored elements in Compressed Sparse Row format>"
      ]
     },
     "execution_count": 54,
     "metadata": {},
     "output_type": "execute_result"
    }
   ],
   "source": [
    "cvec_vector = CountVectorizer(stop_words='english')\n",
    "\n",
    "cvec_articlebody_matrix_sparse = cvec_vector.fit_transform(df_all['articleBody'])\n",
    "\n",
    "cvec_articlebody_matrix_sparse"
   ]
  },
  {
   "cell_type": "code",
   "execution_count": 55,
   "metadata": {},
   "outputs": [],
   "source": [
    "cvec_articlebody_df = pd.DataFrame(cvec_articlebody_matrix_sparse.todense(),\n",
    "                       columns = cvec_vector.get_feature_names())"
   ]
  },
  {
   "cell_type": "code",
   "execution_count": 56,
   "metadata": {},
   "outputs": [
    {
     "data": {
      "text/plain": [
       "(49968, 2)"
      ]
     },
     "execution_count": 56,
     "metadata": {},
     "output_type": "execute_result"
    }
   ],
   "source": [
    "df_fix.shape"
   ]
  },
  {
   "cell_type": "markdown",
   "metadata": {},
   "source": [
    "Combine both vectorized headline, body, and distances into a dataframe."
   ]
  },
  {
   "cell_type": "code",
   "execution_count": 57,
   "metadata": {},
   "outputs": [],
   "source": [
    "df_headline_fix = pd.concat([df_fix, cvec_headline_df, cvec_articlebody_df], axis=1)"
   ]
  },
  {
   "cell_type": "code",
   "execution_count": 58,
   "metadata": {},
   "outputs": [],
   "source": [
    "df_headline_fix.fillna(value=0, inplace=True)"
   ]
  },
  {
   "cell_type": "code",
   "execution_count": 59,
   "metadata": {},
   "outputs": [],
   "source": [
    "features = [col for col in df_headline_fix.columns if col != 'stance_dummy']"
   ]
  },
  {
   "cell_type": "markdown",
   "metadata": {},
   "source": [
    "Run both logistic regression and random forest classifier."
   ]
  },
  {
   "cell_type": "code",
   "execution_count": 60,
   "metadata": {},
   "outputs": [],
   "source": [
    "# Set x, y, and train, test split\n",
    "X = df_headline_fix[features]\n",
    "y = df_headline_fix['stance_dummy']\n",
    "\n",
    "X_train, X_test, y_train, y_test = train_test_split(X, y)"
   ]
  },
  {
   "cell_type": "code",
   "execution_count": null,
   "metadata": {},
   "outputs": [],
   "source": [
    "lr = LogisticRegression()\n",
    "lr.fit(X_train, y_train)\n",
    "lr.score(X_train, y_train)"
   ]
  },
  {
   "cell_type": "code",
   "execution_count": null,
   "metadata": {},
   "outputs": [],
   "source": [
    "lr.score(X_test, y_test)"
   ]
  },
  {
   "cell_type": "code",
   "execution_count": null,
   "metadata": {},
   "outputs": [],
   "source": [
    "from sklearn.ensemble import RandomForestClassifier\n",
    "rf = RandomForestClassifier()\n",
    "rf.fit(X_train, y_train)\n",
    "rf.score(X_train, y_train)"
   ]
  },
  {
   "cell_type": "code",
   "execution_count": null,
   "metadata": {},
   "outputs": [],
   "source": [
    "rf.score(X_test, y_test)"
   ]
  },
  {
   "cell_type": "markdown",
   "metadata": {},
   "source": [
    "I combine the count vectorized headline and article body with the cosine similarity distances as the X and use stance dummy as the Y. I was hoping this would yeild a better result but logistic regression gave us a score of 0.73084 compared to the baseline of 0.73171. Random forest classifier results in a score of 0.95722 later to find it has overfit the model. "
   ]
  },
  {
   "cell_type": "markdown",
   "metadata": {},
   "source": [
    "## GloVe\n",
    "\n",
    "Using word embeddings on both the headline and article bodies. This pretrained model is called the Global Vectors for Word Representation or GloVE. It is pretrained on 6 billion words and can use its 400,000 word vocabulary for vectors of 50, 100, 200, or 300."
   ]
  },
  {
   "cell_type": "markdown",
   "metadata": {},
   "source": [
    "I use a keras preprocessor to turn words in to integer sequence which creates an index of all the words, selects the top most used words to track, then turns corpus into list of word sequences represented by integer index."
   ]
  },
  {
   "cell_type": "code",
   "execution_count": null,
   "metadata": {
    "scrolled": true
   },
   "outputs": [],
   "source": [
    "from keras.preprocessing.text import Tokenizer\n",
    "from keras.preprocessing.sequence import pad_sequences\n",
    "import numpy as np\n",
    "\n",
    "max_sequence_length = 100   # max number of words to consider in a review (i.e. the first 50...)\n",
    "max_num_words = 4000       # maximum number of words to include in the vocabulary (i.e. top 10000 only)\n",
    "\n",
    "# Instantiate the Tokenizer\n",
    "tokenizer = Tokenizer(num_words=max_num_words)\n",
    "\n",
    "# Fit the tokenizer, i.e. learn the vocab and id the most frequently occuring words\n",
    "tokenizer.fit_on_texts(df_all['Headline'].values)\n",
    "\n",
    "# Turn our texts to sequences of word indices\n",
    "sequences = tokenizer.texts_to_sequences(df_all['Headline'].values)\n",
    "\n",
    "# Save the look-up dictionary for words to indices (will need this later)\n",
    "word_index = tokenizer.word_index\n",
    "\n",
    "# Pad out our sequences by prepending zeros to all of our text sequences\n",
    "padded_sequences_headline = pad_sequences(sequences, maxlen=max_sequence_length)\n",
    "\n",
    "print(f'Found {len(word_index)} unique tokens/words')\n",
    "print(f'The maximum word index is {padded_sequences_headline.max()}')"
   ]
  },
  {
   "cell_type": "code",
   "execution_count": null,
   "metadata": {
    "scrolled": true
   },
   "outputs": [],
   "source": [
    "padded_sequences_headline.shape"
   ]
  },
  {
   "cell_type": "markdown",
   "metadata": {},
   "source": [
    "49970 words and 100 encoded as word index. "
   ]
  },
  {
   "cell_type": "code",
   "execution_count": null,
   "metadata": {
    "scrolled": true
   },
   "outputs": [],
   "source": [
    "padded_sequences_headline[0,:]"
   ]
  },
  {
   "cell_type": "code",
   "execution_count": null,
   "metadata": {},
   "outputs": [],
   "source": [
    "max_sequence_length = 200   # max number of words to consider in a review (i.e. the first 50...)\n",
    "max_num_words = 25000     # maximum number of words to include in the vocabulary (i.e. top 10000 only)\n",
    "\n",
    "# Instantiate the Tokenizer\n",
    "tokenizer = Tokenizer(num_words=max_num_words)\n",
    "\n",
    "# Fit the tokenizer, i.e. learn the vocab and id the most frequently occuring words\n",
    "tokenizer.fit_on_texts(df_all['articleBody'].values)\n",
    "\n",
    "# Turn our texts to sequences of word indices\n",
    "sequences = tokenizer.texts_to_sequences(df_all['articleBody'].values)\n",
    "\n",
    "# Save the look-up dictionary for words to indices (will need this later)\n",
    "word_index = tokenizer.word_index\n",
    "\n",
    "# Pad out our sequences by prepending zeros to all of our text sequences\n",
    "padded_sequences_articleBody = pad_sequences(sequences, maxlen=max_sequence_length)\n",
    "\n",
    "print(f'Found {len(word_index)} unique tokens/words')\n",
    "print(f'The maximum word index is {padded_sequences_articleBody.max()}')"
   ]
  },
  {
   "cell_type": "code",
   "execution_count": null,
   "metadata": {},
   "outputs": [],
   "source": [
    "padded_sequences_articleBody.shape"
   ]
  },
  {
   "cell_type": "markdown",
   "metadata": {},
   "source": [
    "49970 words with 200 words encoded as an index. "
   ]
  },
  {
   "cell_type": "code",
   "execution_count": null,
   "metadata": {
    "scrolled": true
   },
   "outputs": [],
   "source": [
    "padded_sequences_articleBody[0,:]"
   ]
  },
  {
   "cell_type": "markdown",
   "metadata": {},
   "source": [
    "Combining the padded sequences of both headline and article body together before running model. "
   ]
  },
  {
   "cell_type": "code",
   "execution_count": null,
   "metadata": {},
   "outputs": [],
   "source": [
    "padded_sequences = np.concatenate((padded_sequences_headline, padded_sequences_articleBody), axis=1)\n",
    "padded_sequences.shape"
   ]
  },
  {
   "cell_type": "code",
   "execution_count": null,
   "metadata": {},
   "outputs": [],
   "source": [
    "df_all['stance_dummy'].shape"
   ]
  },
  {
   "cell_type": "code",
   "execution_count": null,
   "metadata": {},
   "outputs": [],
   "source": [
    "# Train, test split, baby...\n",
    "from sklearn.model_selection import train_test_split\n",
    "\n",
    "X_train, X_test, y_train, y_test = train_test_split(padded_sequences, stance_dummy, test_size=0.33, random_state=42)\n",
    "\n",
    "X_train.shape, y_train.shape"
   ]
  },
  {
   "cell_type": "code",
   "execution_count": null,
   "metadata": {},
   "outputs": [],
   "source": [
    "#reading in GloVe\n",
    "import numpy as np\n",
    "\n",
    "glove_dir = '../glove.6B (1)/'\n",
    "\n",
    "embeddings_index = {}\n",
    "\n",
    "with open(os.path.join(glove_dir, 'glove.6B.100d.txt')) as f:\n",
    "    for line in f:\n",
    "        values = line.split()\n",
    "        word = values[0]\n",
    "        coefs = np.asarray(values[1:], dtype='float32')\n",
    "        embeddings_index[word] = coefs\n",
    "        \n",
    "print(f'Found {len(embeddings_index)} word vectors')"
   ]
  },
  {
   "cell_type": "markdown",
   "metadata": {},
   "source": [
    "Create matrix for word vectors for words in tokenized vocabulary. "
   ]
  },
  {
   "cell_type": "code",
   "execution_count": null,
   "metadata": {},
   "outputs": [],
   "source": [
    "embedding_dim = 100\n",
    "\n",
    "embedding_matrix = np.zeros((max_num_words, embedding_dim))\n",
    "for word, index in word_index.items():\n",
    "    if index < max_num_words:\n",
    "        # Using \"get\" with the dict is a safe way to avoid missing key errors\n",
    "        embedding_vector = embeddings_index.get(word) \n",
    "        if embedding_vector is not None:\n",
    "            embedding_matrix[index] = embedding_vector"
   ]
  },
  {
   "cell_type": "code",
   "execution_count": null,
   "metadata": {},
   "outputs": [],
   "source": [
    "from keras.models import Sequential\n",
    "from keras.layers import Embedding, LSTM, Dense\n",
    "\n",
    "model = Sequential()\n",
    "model.add(Embedding(max_num_words, embedding_dim, input_length=300))\n",
    "model.add(LSTM(20))\n",
    "model.add(Dense(4, activation='softmax'))"
   ]
  },
  {
   "cell_type": "markdown",
   "metadata": {},
   "source": [
    "Use pretrained GloVe weights in matrix(embedding matrix)."
   ]
  },
  {
   "cell_type": "code",
   "execution_count": null,
   "metadata": {},
   "outputs": [],
   "source": [
    "model.layers[0].set_weights([embedding_matrix])"
   ]
  },
  {
   "cell_type": "markdown",
   "metadata": {},
   "source": [
    "Embedding layer is input for LSTM. "
   ]
  },
  {
   "cell_type": "code",
   "execution_count": null,
   "metadata": {
    "scrolled": true
   },
   "outputs": [],
   "source": [
    "model.compile(optimizer='adam', loss='binary_crossentropy', metrics=['acc'])\n",
    "model.summary()"
   ]
  },
  {
   "cell_type": "markdown",
   "metadata": {},
   "source": [
    "Train neural net"
   ]
  },
  {
   "cell_type": "code",
   "execution_count": null,
   "metadata": {},
   "outputs": [],
   "source": [
    "history = model.fit(X_train, y_train, epochs=10, batch_size=300, validation_data=(X_test, y_test))"
   ]
  },
  {
   "cell_type": "code",
   "execution_count": null,
   "metadata": {
    "scrolled": true
   },
   "outputs": [],
   "source": [
    "# What's baseline?\n",
    "np.unique(y_train, return_counts=True)[1]/len(y_train)"
   ]
  },
  {
   "cell_type": "markdown",
   "metadata": {},
   "source": [
    "For prediction, passing neural net a sequence of word indices with sequence length equal to max sequence length. "
   ]
  },
  {
   "cell_type": "code",
   "execution_count": null,
   "metadata": {},
   "outputs": [],
   "source": [
    "X_test[0:1,:].shape"
   ]
  },
  {
   "cell_type": "code",
   "execution_count": null,
   "metadata": {},
   "outputs": [],
   "source": [
    "model.predict(X_test[0:1,:])"
   ]
  },
  {
   "cell_type": "markdown",
   "metadata": {},
   "source": [
    "## XG BOOST"
   ]
  },
  {
   "cell_type": "code",
   "execution_count": null,
   "metadata": {},
   "outputs": [],
   "source": [
    "df_fix['stance_dummy'].shape"
   ]
  },
  {
   "cell_type": "code",
   "execution_count": null,
   "metadata": {},
   "outputs": [],
   "source": [
    "X = padded_sequences\n",
    "y = df_fix['stance_dummy'] #need to create binary for classes #predict the prob of each class and highest use as predictions\n",
    "\n",
    "X_train, X_test, y_train, y_test = train_test_split(X, y)"
   ]
  },
  {
   "cell_type": "code",
   "execution_count": null,
   "metadata": {},
   "outputs": [],
   "source": [
    "my_imputer = Imputer()\n",
    "train_X = my_imputer.fit_transform(X_train)\n",
    "test_X = my_imputer.transform(X_test)"
   ]
  },
  {
   "cell_type": "code",
   "execution_count": null,
   "metadata": {},
   "outputs": [],
   "source": [
    "from xgboost import XGBRegressor\n",
    "\n",
    "my_model = XGBRegressor()\n",
    "# Add silent=True to avoid printing out updates with each cycle\n",
    "my_model.fit(X_train, y_train, verbose=False)"
   ]
  },
  {
   "cell_type": "code",
   "execution_count": null,
   "metadata": {},
   "outputs": [],
   "source": [
    "predictions = my_model.predict(X_test)"
   ]
  },
  {
   "cell_type": "code",
   "execution_count": null,
   "metadata": {},
   "outputs": [],
   "source": [
    "my_model = XGBRegressor(n_estimators=1000)\n",
    "my_model.fit(X_train, y_train, early_stopping_rounds=5, \n",
    "             eval_set=[(X_test, y_test)], verbose=False)"
   ]
  },
  {
   "cell_type": "markdown",
   "metadata": {},
   "source": [
    "# Executive Summary \n",
    "\n",
    "My goal is to classify my data(headlines and articles) by stance detection. Stance detection classifies the stance of the body text relative to the claim made in the headline into four categories: agree, disagree, discuss, and unrelated. Stance detection is currently used to verify what other news organizations are saying about a topic and is the first step in automating detection of fake news. The version of stance detection I will be using is building on the work of William Ferreira and Andreas Vlachos. I recieved my data from the data provided by the FakeNewsChallenge.org. The data is taken from the Emergent Dataset created by Craig Silverman, an expert in \"Fake News\". Emergent is a \"real time rumor tracker\" focusing on how rumors are reported in the media. \n",
    "\n",
    "My model begins with the baseline class at 73%. Through implementation of count vectorizer, TF-IDF, and using Logistic Regression and Random Trees to classify my metrics never surpassed 73%. While it seemed that no form of vectorization was helping increase the score, the ROC model showed the micro average at 88% giving me hope that a higher score could be reached in some way. That is when I learned about word2vec and using LSTMs for a neural network. After some failures with word2vec, I implemented the GloVe model which is far superior to word2vec because it has been pretrained on many more words than just my dataset. Using word embeddings, I was able to train a neural network that scored 90% accuracy. \n",
    "\n",
    "My findings were that word embeddings and neural networks were necessary to create a model above baseline to predict stance. Dummying the stance label also helped tighten the results.  \n",
    "\n",
    "\n",
    "\n",
    "What is your goal?\n",
    "Where did you get your data?\n",
    "What are your metrics?\n",
    "What were your findings?\n",
    "What risks/limitations/assumptions affect these findings?"
   ]
  }
 ],
 "metadata": {
  "kernelspec": {
   "display_name": "Python [conda env:dsi]",
   "language": "python",
   "name": "conda-env-dsi-py"
  },
  "language_info": {
   "codemirror_mode": {
    "name": "ipython",
    "version": 3
   },
   "file_extension": ".py",
   "mimetype": "text/x-python",
   "name": "python",
   "nbconvert_exporter": "python",
   "pygments_lexer": "ipython3",
   "version": "3.6.5"
  }
 },
 "nbformat": 4,
 "nbformat_minor": 2
}
