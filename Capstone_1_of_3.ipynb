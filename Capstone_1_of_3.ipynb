{
 "cells": [
  {
   "cell_type": "markdown",
   "metadata": {},
   "source": [
    "# Fake News through Stance Detection"
   ]
  },
  {
   "cell_type": "markdown",
   "metadata": {},
   "source": [
    "## Problem"
   ]
  },
  {
   "cell_type": "markdown",
   "metadata": {},
   "source": [
    "Using classification models to learn how to predict whether an article is Fake News using Stance Detection. Stance detection takes a headline and body text of an article and classifies the stance of the body text relative to headline. "
   ]
  },
  {
   "cell_type": "markdown",
   "metadata": {},
   "source": [
    "### Imports"
   ]
  },
  {
   "cell_type": "code",
   "execution_count": 52,
   "metadata": {},
   "outputs": [],
   "source": [
    "#Loading libraries\n",
    "import pandas as pd \n",
    "\n",
    "import os\n",
    "import re\n",
    "import nltk\n",
    "from sklearn import feature_extraction\n",
    "from tqdm import tqdm\n",
    "\n",
    "\n",
    "import numpy as np\n",
    "import matplotlib.pyplot as plt\n",
    "%matplotlib inline\n",
    "\n",
    "from sklearn.feature_extraction.text import CountVectorizer, HashingVectorizer, TfidfVectorizer\n",
    "from sklearn.linear_model import LogisticRegression\n",
    "\n",
    "# NLTK\n",
    "from nltk.tokenize import RegexpTokenizer\n",
    "from nltk.stem import PorterStemmer\n",
    "from nltk.corpus import stopwords\n",
    "import re\n",
    "\n",
    "# Visualization\n",
    "import matplotlib.pyplot as plt\n",
    "import matplotlib.patches as mpatches\n",
    "import matplotlib\n",
    "%matplotlib inline\n",
    "import seaborn as sns\n",
    "from nltk.stem import WordNetLemmatizer\n",
    "\n",
    "from gensim.models.word2vec import Word2Vec\n",
    "from collections import Counter, defaultdict\n",
    "from sklearn.feature_extraction.text import CountVectorizer\n",
    "from sklearn.feature_extraction.text import TfidfVectorizer\n",
    "from sklearn.ensemble import BaggingClassifier, RandomForestClassifier, ExtraTreesClassifier\n",
    "from sklearn.naive_bayes import BernoulliNB, MultinomialNB\n",
    "from sklearn.pipeline import Pipeline\n",
    "from sklearn.svm import SVC\n",
    "from sklearn.metrics import accuracy_score\n",
    "from sklearn.model_selection import cross_val_score\n",
    "from sklearn.cross_validation import StratifiedShuffleSplit"
   ]
  },
  {
   "cell_type": "code",
   "execution_count": 51,
   "metadata": {},
   "outputs": [],
   "source": [
    "bodies = pd.read_csv('./train_bodies.csv')\n",
    "stances = pd.read_csv('./train_stances.csv')\n"
   ]
  },
  {
   "cell_type": "markdown",
   "metadata": {},
   "source": [
    "## EDA"
   ]
  },
  {
   "cell_type": "code",
   "execution_count": 53,
   "metadata": {
    "scrolled": false
   },
   "outputs": [
    {
     "data": {
      "text/html": [
       "<div>\n",
       "<style scoped>\n",
       "    .dataframe tbody tr th:only-of-type {\n",
       "        vertical-align: middle;\n",
       "    }\n",
       "\n",
       "    .dataframe tbody tr th {\n",
       "        vertical-align: top;\n",
       "    }\n",
       "\n",
       "    .dataframe thead th {\n",
       "        text-align: right;\n",
       "    }\n",
       "</style>\n",
       "<table border=\"1\" class=\"dataframe\">\n",
       "  <thead>\n",
       "    <tr style=\"text-align: right;\">\n",
       "      <th></th>\n",
       "      <th>Body ID</th>\n",
       "      <th>articleBody</th>\n",
       "    </tr>\n",
       "  </thead>\n",
       "  <tbody>\n",
       "    <tr>\n",
       "      <th>0</th>\n",
       "      <td>0</td>\n",
       "      <td>A small meteorite crashed into a wooded area i...</td>\n",
       "    </tr>\n",
       "    <tr>\n",
       "      <th>1</th>\n",
       "      <td>4</td>\n",
       "      <td>Last week we hinted at what was to come as Ebo...</td>\n",
       "    </tr>\n",
       "    <tr>\n",
       "      <th>2</th>\n",
       "      <td>5</td>\n",
       "      <td>(NEWSER) – Wonder how long a Quarter Pounder w...</td>\n",
       "    </tr>\n",
       "    <tr>\n",
       "      <th>3</th>\n",
       "      <td>6</td>\n",
       "      <td>Posting photos of a gun-toting child online, I...</td>\n",
       "    </tr>\n",
       "    <tr>\n",
       "      <th>4</th>\n",
       "      <td>7</td>\n",
       "      <td>At least 25 suspected Boko Haram insurgents we...</td>\n",
       "    </tr>\n",
       "  </tbody>\n",
       "</table>\n",
       "</div>"
      ],
      "text/plain": [
       "   Body ID                                        articleBody\n",
       "0        0  A small meteorite crashed into a wooded area i...\n",
       "1        4  Last week we hinted at what was to come as Ebo...\n",
       "2        5  (NEWSER) – Wonder how long a Quarter Pounder w...\n",
       "3        6  Posting photos of a gun-toting child online, I...\n",
       "4        7  At least 25 suspected Boko Haram insurgents we..."
      ]
     },
     "execution_count": 53,
     "metadata": {},
     "output_type": "execute_result"
    }
   ],
   "source": [
    "bodies.head()"
   ]
  },
  {
   "cell_type": "code",
   "execution_count": 54,
   "metadata": {
    "scrolled": true
   },
   "outputs": [
    {
     "data": {
      "text/html": [
       "<div>\n",
       "<style scoped>\n",
       "    .dataframe tbody tr th:only-of-type {\n",
       "        vertical-align: middle;\n",
       "    }\n",
       "\n",
       "    .dataframe tbody tr th {\n",
       "        vertical-align: top;\n",
       "    }\n",
       "\n",
       "    .dataframe thead th {\n",
       "        text-align: right;\n",
       "    }\n",
       "</style>\n",
       "<table border=\"1\" class=\"dataframe\">\n",
       "  <thead>\n",
       "    <tr style=\"text-align: right;\">\n",
       "      <th></th>\n",
       "      <th>Headline</th>\n",
       "      <th>Body ID</th>\n",
       "      <th>Stance</th>\n",
       "    </tr>\n",
       "  </thead>\n",
       "  <tbody>\n",
       "    <tr>\n",
       "      <th>0</th>\n",
       "      <td>Police find mass graves with at least '15 bodi...</td>\n",
       "      <td>712</td>\n",
       "      <td>unrelated</td>\n",
       "    </tr>\n",
       "    <tr>\n",
       "      <th>1</th>\n",
       "      <td>Hundreds of Palestinians flee floods in Gaza a...</td>\n",
       "      <td>158</td>\n",
       "      <td>agree</td>\n",
       "    </tr>\n",
       "    <tr>\n",
       "      <th>2</th>\n",
       "      <td>Christian Bale passes on role of Steve Jobs, a...</td>\n",
       "      <td>137</td>\n",
       "      <td>unrelated</td>\n",
       "    </tr>\n",
       "    <tr>\n",
       "      <th>3</th>\n",
       "      <td>HBO and Apple in Talks for $15/Month Apple TV ...</td>\n",
       "      <td>1034</td>\n",
       "      <td>unrelated</td>\n",
       "    </tr>\n",
       "    <tr>\n",
       "      <th>4</th>\n",
       "      <td>Spider burrowed through tourist's stomach and ...</td>\n",
       "      <td>1923</td>\n",
       "      <td>disagree</td>\n",
       "    </tr>\n",
       "  </tbody>\n",
       "</table>\n",
       "</div>"
      ],
      "text/plain": [
       "                                            Headline  Body ID     Stance\n",
       "0  Police find mass graves with at least '15 bodi...      712  unrelated\n",
       "1  Hundreds of Palestinians flee floods in Gaza a...      158      agree\n",
       "2  Christian Bale passes on role of Steve Jobs, a...      137  unrelated\n",
       "3  HBO and Apple in Talks for $15/Month Apple TV ...     1034  unrelated\n",
       "4  Spider burrowed through tourist's stomach and ...     1923   disagree"
      ]
     },
     "execution_count": 54,
     "metadata": {},
     "output_type": "execute_result"
    }
   ],
   "source": [
    "stances.head()"
   ]
  },
  {
   "cell_type": "code",
   "execution_count": 55,
   "metadata": {},
   "outputs": [
    {
     "data": {
      "text/plain": [
       "array(['unrelated', 'agree', 'disagree', 'discuss'], dtype=object)"
      ]
     },
     "execution_count": 55,
     "metadata": {},
     "output_type": "execute_result"
    }
   ],
   "source": [
    "stances['Stance'].unique()"
   ]
  },
  {
   "cell_type": "markdown",
   "metadata": {},
   "source": [
    "4 Classes within the stances: unrelated, agree, disagree, and discuss. "
   ]
  },
  {
   "cell_type": "code",
   "execution_count": 56,
   "metadata": {
    "scrolled": false
   },
   "outputs": [
    {
     "data": {
      "text/plain": [
       "Body ID        0\n",
       "articleBody    0\n",
       "dtype: int64"
      ]
     },
     "execution_count": 56,
     "metadata": {},
     "output_type": "execute_result"
    }
   ],
   "source": [
    "bodies.isnull().sum()"
   ]
  },
  {
   "cell_type": "code",
   "execution_count": 57,
   "metadata": {
    "scrolled": false
   },
   "outputs": [
    {
     "data": {
      "text/plain": [
       "Headline    0\n",
       "Body ID     0\n",
       "Stance      0\n",
       "dtype: int64"
      ]
     },
     "execution_count": 57,
     "metadata": {},
     "output_type": "execute_result"
    }
   ],
   "source": [
    "stances.isnull().sum()"
   ]
  },
  {
   "cell_type": "markdown",
   "metadata": {},
   "source": [
    "Checking for nulls within the datasets. "
   ]
  },
  {
   "cell_type": "code",
   "execution_count": 58,
   "metadata": {},
   "outputs": [
    {
     "name": "stdout",
     "output_type": "stream",
     "text": [
      "<class 'pandas.core.frame.DataFrame'>\n",
      "RangeIndex: 1683 entries, 0 to 1682\n",
      "Data columns (total 2 columns):\n",
      "Body ID        1683 non-null int64\n",
      "articleBody    1683 non-null object\n",
      "dtypes: int64(1), object(1)\n",
      "memory usage: 26.4+ KB\n"
     ]
    }
   ],
   "source": [
    "bodies.info()"
   ]
  },
  {
   "cell_type": "code",
   "execution_count": 59,
   "metadata": {
    "scrolled": true
   },
   "outputs": [
    {
     "name": "stdout",
     "output_type": "stream",
     "text": [
      "<class 'pandas.core.frame.DataFrame'>\n",
      "RangeIndex: 49972 entries, 0 to 49971\n",
      "Data columns (total 3 columns):\n",
      "Headline    49972 non-null object\n",
      "Body ID     49972 non-null int64\n",
      "Stance      49972 non-null object\n",
      "dtypes: int64(1), object(2)\n",
      "memory usage: 1.1+ MB\n"
     ]
    }
   ],
   "source": [
    "stances.info()"
   ]
  },
  {
   "cell_type": "markdown",
   "metadata": {},
   "source": [
    "Checking for types of data. "
   ]
  },
  {
   "cell_type": "code",
   "execution_count": 60,
   "metadata": {
    "scrolled": false
   },
   "outputs": [
    {
     "name": "stdout",
     "output_type": "stream",
     "text": [
      "Total stances: 49972\n",
      "Total article bodies: 1683\n"
     ]
    }
   ],
   "source": [
    "print(\"Total stances: \" + str(len(stances.Stance)))\n",
    "print(\"Total article bodies: \" + str(len(bodies.articleBody)))"
   ]
  },
  {
   "cell_type": "code",
   "execution_count": 61,
   "metadata": {
    "scrolled": true
   },
   "outputs": [
    {
     "data": {
      "text/html": [
       "<div>\n",
       "<style scoped>\n",
       "    .dataframe tbody tr th:only-of-type {\n",
       "        vertical-align: middle;\n",
       "    }\n",
       "\n",
       "    .dataframe tbody tr th {\n",
       "        vertical-align: top;\n",
       "    }\n",
       "\n",
       "    .dataframe thead th {\n",
       "        text-align: right;\n",
       "    }\n",
       "</style>\n",
       "<table border=\"1\" class=\"dataframe\">\n",
       "  <thead>\n",
       "    <tr style=\"text-align: right;\">\n",
       "      <th></th>\n",
       "      <th>Headline</th>\n",
       "      <th>Body ID</th>\n",
       "      <th>Stance</th>\n",
       "    </tr>\n",
       "  </thead>\n",
       "  <tbody>\n",
       "    <tr>\n",
       "      <th>0</th>\n",
       "      <td>Police find mass graves with at least '15 bodi...</td>\n",
       "      <td>712</td>\n",
       "      <td>unrelated</td>\n",
       "    </tr>\n",
       "    <tr>\n",
       "      <th>1787</th>\n",
       "      <td>Seth Rogen to Play Apple’s Steve Wozniak</td>\n",
       "      <td>712</td>\n",
       "      <td>discuss</td>\n",
       "    </tr>\n",
       "    <tr>\n",
       "      <th>3974</th>\n",
       "      <td>Mexico police find mass grave near site 43 stu...</td>\n",
       "      <td>712</td>\n",
       "      <td>unrelated</td>\n",
       "    </tr>\n",
       "    <tr>\n",
       "      <th>4936</th>\n",
       "      <td>Mexico Says Missing Students Not Found In Firs...</td>\n",
       "      <td>712</td>\n",
       "      <td>unrelated</td>\n",
       "    </tr>\n",
       "    <tr>\n",
       "      <th>5210</th>\n",
       "      <td>New iOS 8 bug can delete all of your iCloud do...</td>\n",
       "      <td>712</td>\n",
       "      <td>unrelated</td>\n",
       "    </tr>\n",
       "    <tr>\n",
       "      <th>5863</th>\n",
       "      <td>Return of the Mac: Seth Rogen in talks to star...</td>\n",
       "      <td>712</td>\n",
       "      <td>discuss</td>\n",
       "    </tr>\n",
       "    <tr>\n",
       "      <th>6199</th>\n",
       "      <td>Seth Rogen Is Woz</td>\n",
       "      <td>712</td>\n",
       "      <td>discuss</td>\n",
       "    </tr>\n",
       "    <tr>\n",
       "      <th>6756</th>\n",
       "      <td>Mexico finds 4 more graves at site of suspecte...</td>\n",
       "      <td>712</td>\n",
       "      <td>unrelated</td>\n",
       "    </tr>\n",
       "    <tr>\n",
       "      <th>7526</th>\n",
       "      <td>Are missing students in mass graves found near...</td>\n",
       "      <td>712</td>\n",
       "      <td>unrelated</td>\n",
       "    </tr>\n",
       "    <tr>\n",
       "      <th>9003</th>\n",
       "      <td>Mexico prosecutor: Students not in 1st mass gr...</td>\n",
       "      <td>712</td>\n",
       "      <td>unrelated</td>\n",
       "    </tr>\n",
       "    <tr>\n",
       "      <th>10036</th>\n",
       "      <td>Lady on FB: I'm 41, Intersex, and Fucked Micha...</td>\n",
       "      <td>712</td>\n",
       "      <td>unrelated</td>\n",
       "    </tr>\n",
       "    <tr>\n",
       "      <th>10780</th>\n",
       "      <td>Catholic Priest Claims God Is Female After Cli...</td>\n",
       "      <td>712</td>\n",
       "      <td>unrelated</td>\n",
       "    </tr>\n",
       "    <tr>\n",
       "      <th>11687</th>\n",
       "      <td>Isis claims US hostage Kayla Mueller killed in...</td>\n",
       "      <td>712</td>\n",
       "      <td>unrelated</td>\n",
       "    </tr>\n",
       "    <tr>\n",
       "      <th>11864</th>\n",
       "      <td>Gold Apple Watch Edition price? Speculators sa...</td>\n",
       "      <td>712</td>\n",
       "      <td>unrelated</td>\n",
       "    </tr>\n",
       "    <tr>\n",
       "      <th>15746</th>\n",
       "      <td>Mexican students not among bodies found in mas...</td>\n",
       "      <td>712</td>\n",
       "      <td>unrelated</td>\n",
       "    </tr>\n",
       "    <tr>\n",
       "      <th>21620</th>\n",
       "      <td>Steve Jobs Biopic Eyes Seth Rogen to Play Appl...</td>\n",
       "      <td>712</td>\n",
       "      <td>discuss</td>\n",
       "    </tr>\n",
       "    <tr>\n",
       "      <th>21712</th>\n",
       "      <td>Missing Mexico students not among 28 bodies fo...</td>\n",
       "      <td>712</td>\n",
       "      <td>unrelated</td>\n",
       "    </tr>\n",
       "    <tr>\n",
       "      <th>21928</th>\n",
       "      <td>Taylor Lianne Chandler: Everything you need to...</td>\n",
       "      <td>712</td>\n",
       "      <td>unrelated</td>\n",
       "    </tr>\n",
       "    <tr>\n",
       "      <th>22100</th>\n",
       "      <td>Mexican cartel leader kills self; bodies in gr...</td>\n",
       "      <td>712</td>\n",
       "      <td>unrelated</td>\n",
       "    </tr>\n",
       "    <tr>\n",
       "      <th>25006</th>\n",
       "      <td>Bodies In Mexico Mass Grave Apparently Not Tho...</td>\n",
       "      <td>712</td>\n",
       "      <td>unrelated</td>\n",
       "    </tr>\n",
       "    <tr>\n",
       "      <th>25492</th>\n",
       "      <td>Seth Rogen Eyed to Play Apple's Steve Wozniak ...</td>\n",
       "      <td>712</td>\n",
       "      <td>discuss</td>\n",
       "    </tr>\n",
       "    <tr>\n",
       "      <th>25616</th>\n",
       "      <td>Mexican investigators fear mass grave might ho...</td>\n",
       "      <td>712</td>\n",
       "      <td>unrelated</td>\n",
       "    </tr>\n",
       "    <tr>\n",
       "      <th>26260</th>\n",
       "      <td>6 hidden mass graves may hold missing Mexican ...</td>\n",
       "      <td>712</td>\n",
       "      <td>unrelated</td>\n",
       "    </tr>\n",
       "    <tr>\n",
       "      <th>26398</th>\n",
       "      <td>Mass grave found after 40 students disappear i...</td>\n",
       "      <td>712</td>\n",
       "      <td>unrelated</td>\n",
       "    </tr>\n",
       "    <tr>\n",
       "      <th>27200</th>\n",
       "      <td>Mexico Student Massacre Update: More Graves Di...</td>\n",
       "      <td>712</td>\n",
       "      <td>unrelated</td>\n",
       "    </tr>\n",
       "    <tr>\n",
       "      <th>29988</th>\n",
       "      <td>Seth Rogen To Play Steve Wozniak In Steve Jobs...</td>\n",
       "      <td>712</td>\n",
       "      <td>discuss</td>\n",
       "    </tr>\n",
       "    <tr>\n",
       "      <th>33683</th>\n",
       "      <td>Taylor Lianne Chandler: Michael Phelps' Cougar...</td>\n",
       "      <td>712</td>\n",
       "      <td>unrelated</td>\n",
       "    </tr>\n",
       "    <tr>\n",
       "      <th>37095</th>\n",
       "      <td>Newly Discovered Mass Grave Linked to Missing ...</td>\n",
       "      <td>712</td>\n",
       "      <td>unrelated</td>\n",
       "    </tr>\n",
       "    <tr>\n",
       "      <th>38326</th>\n",
       "      <td>Michael Phelps' self-proclaimed 'girlfriend', ...</td>\n",
       "      <td>712</td>\n",
       "      <td>unrelated</td>\n",
       "    </tr>\n",
       "    <tr>\n",
       "      <th>41035</th>\n",
       "      <td>Missing Mexican students 'not found in mass gr...</td>\n",
       "      <td>712</td>\n",
       "      <td>unrelated</td>\n",
       "    </tr>\n",
       "    <tr>\n",
       "      <th>42776</th>\n",
       "      <td>Mexico checks if 43 missing students in mass g...</td>\n",
       "      <td>712</td>\n",
       "      <td>unrelated</td>\n",
       "    </tr>\n",
       "    <tr>\n",
       "      <th>43897</th>\n",
       "      <td>Rumor: Seth Rogen to Appear as Woz in Sony's S...</td>\n",
       "      <td>712</td>\n",
       "      <td>discuss</td>\n",
       "    </tr>\n",
       "    <tr>\n",
       "      <th>44978</th>\n",
       "      <td>This Powerful Cartoon About The Charlie Hebdo ...</td>\n",
       "      <td>712</td>\n",
       "      <td>unrelated</td>\n",
       "    </tr>\n",
       "    <tr>\n",
       "      <th>45222</th>\n",
       "      <td>Mexico Says Students Not Among Dead in Mass Grave</td>\n",
       "      <td>712</td>\n",
       "      <td>unrelated</td>\n",
       "    </tr>\n",
       "    <tr>\n",
       "      <th>45579</th>\n",
       "      <td>Mexico hit by student massacre: At least 17 an...</td>\n",
       "      <td>712</td>\n",
       "      <td>unrelated</td>\n",
       "    </tr>\n",
       "    <tr>\n",
       "      <th>46530</th>\n",
       "      <td>Seth Rogen to Star as Steve Wozniak in Sony's ...</td>\n",
       "      <td>712</td>\n",
       "      <td>discuss</td>\n",
       "    </tr>\n",
       "    <tr>\n",
       "      <th>47712</th>\n",
       "      <td>Michael Phelps’ alleged girlfriend says she wa...</td>\n",
       "      <td>712</td>\n",
       "      <td>unrelated</td>\n",
       "    </tr>\n",
       "    <tr>\n",
       "      <th>47850</th>\n",
       "      <td>Mass Graves Found In Mexico, Near Place Where ...</td>\n",
       "      <td>712</td>\n",
       "      <td>unrelated</td>\n",
       "    </tr>\n",
       "    <tr>\n",
       "      <th>48228</th>\n",
       "      <td>A Mass Grave Points to a Student Massacre in M...</td>\n",
       "      <td>712</td>\n",
       "      <td>unrelated</td>\n",
       "    </tr>\n",
       "  </tbody>\n",
       "</table>\n",
       "</div>"
      ],
      "text/plain": [
       "                                                Headline  Body ID     Stance\n",
       "0      Police find mass graves with at least '15 bodi...      712  unrelated\n",
       "1787            Seth Rogen to Play Apple’s Steve Wozniak      712    discuss\n",
       "3974   Mexico police find mass grave near site 43 stu...      712  unrelated\n",
       "4936   Mexico Says Missing Students Not Found In Firs...      712  unrelated\n",
       "5210   New iOS 8 bug can delete all of your iCloud do...      712  unrelated\n",
       "5863   Return of the Mac: Seth Rogen in talks to star...      712    discuss\n",
       "6199                                   Seth Rogen Is Woz      712    discuss\n",
       "6756   Mexico finds 4 more graves at site of suspecte...      712  unrelated\n",
       "7526   Are missing students in mass graves found near...      712  unrelated\n",
       "9003   Mexico prosecutor: Students not in 1st mass gr...      712  unrelated\n",
       "10036  Lady on FB: I'm 41, Intersex, and Fucked Micha...      712  unrelated\n",
       "10780  Catholic Priest Claims God Is Female After Cli...      712  unrelated\n",
       "11687  Isis claims US hostage Kayla Mueller killed in...      712  unrelated\n",
       "11864  Gold Apple Watch Edition price? Speculators sa...      712  unrelated\n",
       "15746  Mexican students not among bodies found in mas...      712  unrelated\n",
       "21620  Steve Jobs Biopic Eyes Seth Rogen to Play Appl...      712    discuss\n",
       "21712  Missing Mexico students not among 28 bodies fo...      712  unrelated\n",
       "21928  Taylor Lianne Chandler: Everything you need to...      712  unrelated\n",
       "22100  Mexican cartel leader kills self; bodies in gr...      712  unrelated\n",
       "25006  Bodies In Mexico Mass Grave Apparently Not Tho...      712  unrelated\n",
       "25492  Seth Rogen Eyed to Play Apple's Steve Wozniak ...      712    discuss\n",
       "25616  Mexican investigators fear mass grave might ho...      712  unrelated\n",
       "26260  6 hidden mass graves may hold missing Mexican ...      712  unrelated\n",
       "26398  Mass grave found after 40 students disappear i...      712  unrelated\n",
       "27200  Mexico Student Massacre Update: More Graves Di...      712  unrelated\n",
       "29988  Seth Rogen To Play Steve Wozniak In Steve Jobs...      712    discuss\n",
       "33683  Taylor Lianne Chandler: Michael Phelps' Cougar...      712  unrelated\n",
       "37095  Newly Discovered Mass Grave Linked to Missing ...      712  unrelated\n",
       "38326  Michael Phelps' self-proclaimed 'girlfriend', ...      712  unrelated\n",
       "41035  Missing Mexican students 'not found in mass gr...      712  unrelated\n",
       "42776  Mexico checks if 43 missing students in mass g...      712  unrelated\n",
       "43897  Rumor: Seth Rogen to Appear as Woz in Sony's S...      712    discuss\n",
       "44978  This Powerful Cartoon About The Charlie Hebdo ...      712  unrelated\n",
       "45222  Mexico Says Students Not Among Dead in Mass Grave      712  unrelated\n",
       "45579  Mexico hit by student massacre: At least 17 an...      712  unrelated\n",
       "46530  Seth Rogen to Star as Steve Wozniak in Sony's ...      712    discuss\n",
       "47712  Michael Phelps’ alleged girlfriend says she wa...      712  unrelated\n",
       "47850  Mass Graves Found In Mexico, Near Place Where ...      712  unrelated\n",
       "48228  A Mass Grave Points to a Student Massacre in M...      712  unrelated"
      ]
     },
     "execution_count": 61,
     "metadata": {},
     "output_type": "execute_result"
    }
   ],
   "source": [
    "stances[stances['Body ID'] == 712]"
   ]
  },
  {
   "cell_type": "code",
   "execution_count": 62,
   "metadata": {
    "scrolled": true
   },
   "outputs": [
    {
     "data": {
      "text/plain": [
       "Index(['Headline', 'Body ID', 'Stance'], dtype='object')"
      ]
     },
     "execution_count": 62,
     "metadata": {},
     "output_type": "execute_result"
    }
   ],
   "source": [
    "stances.columns"
   ]
  },
  {
   "cell_type": "code",
   "execution_count": 63,
   "metadata": {
    "scrolled": true
   },
   "outputs": [
    {
     "data": {
      "text/html": [
       "<div>\n",
       "<style scoped>\n",
       "    .dataframe tbody tr th:only-of-type {\n",
       "        vertical-align: middle;\n",
       "    }\n",
       "\n",
       "    .dataframe tbody tr th {\n",
       "        vertical-align: top;\n",
       "    }\n",
       "\n",
       "    .dataframe thead th {\n",
       "        text-align: right;\n",
       "    }\n",
       "</style>\n",
       "<table border=\"1\" class=\"dataframe\">\n",
       "  <thead>\n",
       "    <tr style=\"text-align: right;\">\n",
       "      <th></th>\n",
       "      <th>Headline</th>\n",
       "      <th>Body ID</th>\n",
       "      <th>Stance</th>\n",
       "    </tr>\n",
       "  </thead>\n",
       "  <tbody>\n",
       "    <tr>\n",
       "      <th>0</th>\n",
       "      <td>Police find mass graves with at least '15 bodi...</td>\n",
       "      <td>712</td>\n",
       "      <td>unrelated</td>\n",
       "    </tr>\n",
       "    <tr>\n",
       "      <th>1</th>\n",
       "      <td>Hundreds of Palestinians flee floods in Gaza a...</td>\n",
       "      <td>158</td>\n",
       "      <td>agree</td>\n",
       "    </tr>\n",
       "    <tr>\n",
       "      <th>2</th>\n",
       "      <td>Christian Bale passes on role of Steve Jobs, a...</td>\n",
       "      <td>137</td>\n",
       "      <td>unrelated</td>\n",
       "    </tr>\n",
       "    <tr>\n",
       "      <th>3</th>\n",
       "      <td>HBO and Apple in Talks for $15/Month Apple TV ...</td>\n",
       "      <td>1034</td>\n",
       "      <td>unrelated</td>\n",
       "    </tr>\n",
       "    <tr>\n",
       "      <th>4</th>\n",
       "      <td>Spider burrowed through tourist's stomach and ...</td>\n",
       "      <td>1923</td>\n",
       "      <td>disagree</td>\n",
       "    </tr>\n",
       "  </tbody>\n",
       "</table>\n",
       "</div>"
      ],
      "text/plain": [
       "                                            Headline  Body ID     Stance\n",
       "0  Police find mass graves with at least '15 bodi...      712  unrelated\n",
       "1  Hundreds of Palestinians flee floods in Gaza a...      158      agree\n",
       "2  Christian Bale passes on role of Steve Jobs, a...      137  unrelated\n",
       "3  HBO and Apple in Talks for $15/Month Apple TV ...     1034  unrelated\n",
       "4  Spider burrowed through tourist's stomach and ...     1923   disagree"
      ]
     },
     "execution_count": 63,
     "metadata": {},
     "output_type": "execute_result"
    }
   ],
   "source": [
    "stances.head()"
   ]
  },
  {
   "cell_type": "markdown",
   "metadata": {},
   "source": [
    "There are many more stances than there are article bodies. This means that there are many articles that are being used with different headlines. "
   ]
  },
  {
   "cell_type": "code",
   "execution_count": 64,
   "metadata": {
    "scrolled": true
   },
   "outputs": [
    {
     "data": {
      "text/html": [
       "<div>\n",
       "<style scoped>\n",
       "    .dataframe tbody tr th:only-of-type {\n",
       "        vertical-align: middle;\n",
       "    }\n",
       "\n",
       "    .dataframe tbody tr th {\n",
       "        vertical-align: top;\n",
       "    }\n",
       "\n",
       "    .dataframe thead th {\n",
       "        text-align: right;\n",
       "    }\n",
       "</style>\n",
       "<table border=\"1\" class=\"dataframe\">\n",
       "  <thead>\n",
       "    <tr style=\"text-align: right;\">\n",
       "      <th></th>\n",
       "      <th>Headline</th>\n",
       "      <th>Body ID</th>\n",
       "      <th>Stance</th>\n",
       "      <th>articleBody</th>\n",
       "    </tr>\n",
       "  </thead>\n",
       "  <tbody>\n",
       "    <tr>\n",
       "      <th>0</th>\n",
       "      <td>Police find mass graves with at least '15 bodi...</td>\n",
       "      <td>712</td>\n",
       "      <td>unrelated</td>\n",
       "      <td>Danny Boyle is directing the untitled film\\n\\n...</td>\n",
       "    </tr>\n",
       "    <tr>\n",
       "      <th>1</th>\n",
       "      <td>Seth Rogen to Play Apple’s Steve Wozniak</td>\n",
       "      <td>712</td>\n",
       "      <td>discuss</td>\n",
       "      <td>Danny Boyle is directing the untitled film\\n\\n...</td>\n",
       "    </tr>\n",
       "    <tr>\n",
       "      <th>2</th>\n",
       "      <td>Mexico police find mass grave near site 43 stu...</td>\n",
       "      <td>712</td>\n",
       "      <td>unrelated</td>\n",
       "      <td>Danny Boyle is directing the untitled film\\n\\n...</td>\n",
       "    </tr>\n",
       "    <tr>\n",
       "      <th>3</th>\n",
       "      <td>Mexico Says Missing Students Not Found In Firs...</td>\n",
       "      <td>712</td>\n",
       "      <td>unrelated</td>\n",
       "      <td>Danny Boyle is directing the untitled film\\n\\n...</td>\n",
       "    </tr>\n",
       "    <tr>\n",
       "      <th>4</th>\n",
       "      <td>New iOS 8 bug can delete all of your iCloud do...</td>\n",
       "      <td>712</td>\n",
       "      <td>unrelated</td>\n",
       "      <td>Danny Boyle is directing the untitled film\\n\\n...</td>\n",
       "    </tr>\n",
       "    <tr>\n",
       "      <th>5</th>\n",
       "      <td>Return of the Mac: Seth Rogen in talks to star...</td>\n",
       "      <td>712</td>\n",
       "      <td>discuss</td>\n",
       "      <td>Danny Boyle is directing the untitled film\\n\\n...</td>\n",
       "    </tr>\n",
       "    <tr>\n",
       "      <th>6</th>\n",
       "      <td>Seth Rogen Is Woz</td>\n",
       "      <td>712</td>\n",
       "      <td>discuss</td>\n",
       "      <td>Danny Boyle is directing the untitled film\\n\\n...</td>\n",
       "    </tr>\n",
       "    <tr>\n",
       "      <th>7</th>\n",
       "      <td>Mexico finds 4 more graves at site of suspecte...</td>\n",
       "      <td>712</td>\n",
       "      <td>unrelated</td>\n",
       "      <td>Danny Boyle is directing the untitled film\\n\\n...</td>\n",
       "    </tr>\n",
       "    <tr>\n",
       "      <th>8</th>\n",
       "      <td>Are missing students in mass graves found near...</td>\n",
       "      <td>712</td>\n",
       "      <td>unrelated</td>\n",
       "      <td>Danny Boyle is directing the untitled film\\n\\n...</td>\n",
       "    </tr>\n",
       "    <tr>\n",
       "      <th>9</th>\n",
       "      <td>Mexico prosecutor: Students not in 1st mass gr...</td>\n",
       "      <td>712</td>\n",
       "      <td>unrelated</td>\n",
       "      <td>Danny Boyle is directing the untitled film\\n\\n...</td>\n",
       "    </tr>\n",
       "    <tr>\n",
       "      <th>10</th>\n",
       "      <td>Lady on FB: I'm 41, Intersex, and Fucked Micha...</td>\n",
       "      <td>712</td>\n",
       "      <td>unrelated</td>\n",
       "      <td>Danny Boyle is directing the untitled film\\n\\n...</td>\n",
       "    </tr>\n",
       "    <tr>\n",
       "      <th>11</th>\n",
       "      <td>Catholic Priest Claims God Is Female After Cli...</td>\n",
       "      <td>712</td>\n",
       "      <td>unrelated</td>\n",
       "      <td>Danny Boyle is directing the untitled film\\n\\n...</td>\n",
       "    </tr>\n",
       "    <tr>\n",
       "      <th>12</th>\n",
       "      <td>Isis claims US hostage Kayla Mueller killed in...</td>\n",
       "      <td>712</td>\n",
       "      <td>unrelated</td>\n",
       "      <td>Danny Boyle is directing the untitled film\\n\\n...</td>\n",
       "    </tr>\n",
       "    <tr>\n",
       "      <th>13</th>\n",
       "      <td>Gold Apple Watch Edition price? Speculators sa...</td>\n",
       "      <td>712</td>\n",
       "      <td>unrelated</td>\n",
       "      <td>Danny Boyle is directing the untitled film\\n\\n...</td>\n",
       "    </tr>\n",
       "    <tr>\n",
       "      <th>14</th>\n",
       "      <td>Mexican students not among bodies found in mas...</td>\n",
       "      <td>712</td>\n",
       "      <td>unrelated</td>\n",
       "      <td>Danny Boyle is directing the untitled film\\n\\n...</td>\n",
       "    </tr>\n",
       "    <tr>\n",
       "      <th>15</th>\n",
       "      <td>Steve Jobs Biopic Eyes Seth Rogen to Play Appl...</td>\n",
       "      <td>712</td>\n",
       "      <td>discuss</td>\n",
       "      <td>Danny Boyle is directing the untitled film\\n\\n...</td>\n",
       "    </tr>\n",
       "    <tr>\n",
       "      <th>16</th>\n",
       "      <td>Missing Mexico students not among 28 bodies fo...</td>\n",
       "      <td>712</td>\n",
       "      <td>unrelated</td>\n",
       "      <td>Danny Boyle is directing the untitled film\\n\\n...</td>\n",
       "    </tr>\n",
       "    <tr>\n",
       "      <th>17</th>\n",
       "      <td>Taylor Lianne Chandler: Everything you need to...</td>\n",
       "      <td>712</td>\n",
       "      <td>unrelated</td>\n",
       "      <td>Danny Boyle is directing the untitled film\\n\\n...</td>\n",
       "    </tr>\n",
       "    <tr>\n",
       "      <th>18</th>\n",
       "      <td>Mexican cartel leader kills self; bodies in gr...</td>\n",
       "      <td>712</td>\n",
       "      <td>unrelated</td>\n",
       "      <td>Danny Boyle is directing the untitled film\\n\\n...</td>\n",
       "    </tr>\n",
       "    <tr>\n",
       "      <th>19</th>\n",
       "      <td>Bodies In Mexico Mass Grave Apparently Not Tho...</td>\n",
       "      <td>712</td>\n",
       "      <td>unrelated</td>\n",
       "      <td>Danny Boyle is directing the untitled film\\n\\n...</td>\n",
       "    </tr>\n",
       "    <tr>\n",
       "      <th>20</th>\n",
       "      <td>Seth Rogen Eyed to Play Apple's Steve Wozniak ...</td>\n",
       "      <td>712</td>\n",
       "      <td>discuss</td>\n",
       "      <td>Danny Boyle is directing the untitled film\\n\\n...</td>\n",
       "    </tr>\n",
       "    <tr>\n",
       "      <th>21</th>\n",
       "      <td>Mexican investigators fear mass grave might ho...</td>\n",
       "      <td>712</td>\n",
       "      <td>unrelated</td>\n",
       "      <td>Danny Boyle is directing the untitled film\\n\\n...</td>\n",
       "    </tr>\n",
       "    <tr>\n",
       "      <th>22</th>\n",
       "      <td>6 hidden mass graves may hold missing Mexican ...</td>\n",
       "      <td>712</td>\n",
       "      <td>unrelated</td>\n",
       "      <td>Danny Boyle is directing the untitled film\\n\\n...</td>\n",
       "    </tr>\n",
       "    <tr>\n",
       "      <th>23</th>\n",
       "      <td>Mass grave found after 40 students disappear i...</td>\n",
       "      <td>712</td>\n",
       "      <td>unrelated</td>\n",
       "      <td>Danny Boyle is directing the untitled film\\n\\n...</td>\n",
       "    </tr>\n",
       "    <tr>\n",
       "      <th>24</th>\n",
       "      <td>Mexico Student Massacre Update: More Graves Di...</td>\n",
       "      <td>712</td>\n",
       "      <td>unrelated</td>\n",
       "      <td>Danny Boyle is directing the untitled film\\n\\n...</td>\n",
       "    </tr>\n",
       "    <tr>\n",
       "      <th>25</th>\n",
       "      <td>Seth Rogen To Play Steve Wozniak In Steve Jobs...</td>\n",
       "      <td>712</td>\n",
       "      <td>discuss</td>\n",
       "      <td>Danny Boyle is directing the untitled film\\n\\n...</td>\n",
       "    </tr>\n",
       "    <tr>\n",
       "      <th>26</th>\n",
       "      <td>Taylor Lianne Chandler: Michael Phelps' Cougar...</td>\n",
       "      <td>712</td>\n",
       "      <td>unrelated</td>\n",
       "      <td>Danny Boyle is directing the untitled film\\n\\n...</td>\n",
       "    </tr>\n",
       "    <tr>\n",
       "      <th>27</th>\n",
       "      <td>Newly Discovered Mass Grave Linked to Missing ...</td>\n",
       "      <td>712</td>\n",
       "      <td>unrelated</td>\n",
       "      <td>Danny Boyle is directing the untitled film\\n\\n...</td>\n",
       "    </tr>\n",
       "    <tr>\n",
       "      <th>28</th>\n",
       "      <td>Michael Phelps' self-proclaimed 'girlfriend', ...</td>\n",
       "      <td>712</td>\n",
       "      <td>unrelated</td>\n",
       "      <td>Danny Boyle is directing the untitled film\\n\\n...</td>\n",
       "    </tr>\n",
       "    <tr>\n",
       "      <th>29</th>\n",
       "      <td>Missing Mexican students 'not found in mass gr...</td>\n",
       "      <td>712</td>\n",
       "      <td>unrelated</td>\n",
       "      <td>Danny Boyle is directing the untitled film\\n\\n...</td>\n",
       "    </tr>\n",
       "    <tr>\n",
       "      <th>...</th>\n",
       "      <td>...</td>\n",
       "      <td>...</td>\n",
       "      <td>...</td>\n",
       "      <td>...</td>\n",
       "    </tr>\n",
       "    <tr>\n",
       "      <th>49942</th>\n",
       "      <td>Gene Munster Predicts $499 Steel Apple Watch, ...</td>\n",
       "      <td>877</td>\n",
       "      <td>discuss</td>\n",
       "      <td>Piper Jaffray’s Gene Munster has issued a new ...</td>\n",
       "    </tr>\n",
       "    <tr>\n",
       "      <th>49943</th>\n",
       "      <td>This Is Why Rumors That ISIS Is Crossing The B...</td>\n",
       "      <td>76</td>\n",
       "      <td>discuss</td>\n",
       "      <td>Border Patrol agents detain immigrants who cro...</td>\n",
       "    </tr>\n",
       "    <tr>\n",
       "      <th>49944</th>\n",
       "      <td>You may be able to make appointments at the Ap...</td>\n",
       "      <td>307</td>\n",
       "      <td>discuss</td>\n",
       "      <td>Apple is reportedly planning to market and sel...</td>\n",
       "    </tr>\n",
       "    <tr>\n",
       "      <th>49945</th>\n",
       "      <td>Meteorite makes big crater in Nicaragua, gover...</td>\n",
       "      <td>9</td>\n",
       "      <td>agree</td>\n",
       "      <td>(CNN) -- A meteorite crashed down in Managua, ...</td>\n",
       "    </tr>\n",
       "    <tr>\n",
       "      <th>49946</th>\n",
       "      <td>Small Meteorite Strikes in Nicaragua's Capital...</td>\n",
       "      <td>9</td>\n",
       "      <td>agree</td>\n",
       "      <td>(CNN) -- A meteorite crashed down in Managua, ...</td>\n",
       "    </tr>\n",
       "    <tr>\n",
       "      <th>49947</th>\n",
       "      <td>Ann Arbor pizza delivery driver surprised with...</td>\n",
       "      <td>355</td>\n",
       "      <td>agree</td>\n",
       "      <td>It's not every night that a pizza delivery dri...</td>\n",
       "    </tr>\n",
       "    <tr>\n",
       "      <th>49948</th>\n",
       "      <td>Is Apple about to launch a totally redesigned,...</td>\n",
       "      <td>302</td>\n",
       "      <td>discuss</td>\n",
       "      <td>Every year, Apple does some counterprogramming...</td>\n",
       "    </tr>\n",
       "    <tr>\n",
       "      <th>49949</th>\n",
       "      <td>Sources: Guns N' Roses Frontman Axl Rose Found...</td>\n",
       "      <td>1085</td>\n",
       "      <td>discuss</td>\n",
       "      <td>Axl Rose is NOT dead. He’s the victim of a new...</td>\n",
       "    </tr>\n",
       "    <tr>\n",
       "      <th>49950</th>\n",
       "      <td>“Axl Rose dead 2014” : Guns N' Roses frontman ...</td>\n",
       "      <td>1085</td>\n",
       "      <td>agree</td>\n",
       "      <td>Axl Rose is NOT dead. He’s the victim of a new...</td>\n",
       "    </tr>\n",
       "    <tr>\n",
       "      <th>49951</th>\n",
       "      <td>Axl Rose NOT Dead: Fake MSNBC Death Hoax Goes ...</td>\n",
       "      <td>1085</td>\n",
       "      <td>agree</td>\n",
       "      <td>Axl Rose is NOT dead. He’s the victim of a new...</td>\n",
       "    </tr>\n",
       "    <tr>\n",
       "      <th>49952</th>\n",
       "      <td>US probing claims ISIS fighters seized airdrop...</td>\n",
       "      <td>219</td>\n",
       "      <td>discuss</td>\n",
       "      <td>Syrian activists claim militants from the Isla...</td>\n",
       "    </tr>\n",
       "    <tr>\n",
       "      <th>49953</th>\n",
       "      <td>ISIS fighters seize weapons airdrop meant for ...</td>\n",
       "      <td>219</td>\n",
       "      <td>discuss</td>\n",
       "      <td>Syrian activists claim militants from the Isla...</td>\n",
       "    </tr>\n",
       "    <tr>\n",
       "      <th>49954</th>\n",
       "      <td>Former U.S. soldier says IS used chemical weap...</td>\n",
       "      <td>352</td>\n",
       "      <td>discuss</td>\n",
       "      <td>A former American soldier from Wisconsin who h...</td>\n",
       "    </tr>\n",
       "    <tr>\n",
       "      <th>49955</th>\n",
       "      <td>Heartbroken girl spends week in KFC after gett...</td>\n",
       "      <td>159</td>\n",
       "      <td>discuss</td>\n",
       "      <td>A Chinese woman spent an entire week inside a ...</td>\n",
       "    </tr>\n",
       "    <tr>\n",
       "      <th>49956</th>\n",
       "      <td>Comfort eating? Chinese woman, 26, spends an e...</td>\n",
       "      <td>159</td>\n",
       "      <td>discuss</td>\n",
       "      <td>A Chinese woman spent an entire week inside a ...</td>\n",
       "    </tr>\n",
       "    <tr>\n",
       "      <th>49957</th>\n",
       "      <td>Chinese 'mistress' is stripped naked and beate...</td>\n",
       "      <td>907</td>\n",
       "      <td>agree</td>\n",
       "      <td>She was violently stripped naked and beaten se...</td>\n",
       "    </tr>\n",
       "    <tr>\n",
       "      <th>49958</th>\n",
       "      <td>Rodney Constantine, Newfoundland Suspect, Keep...</td>\n",
       "      <td>828</td>\n",
       "      <td>agree</td>\n",
       "      <td>A man wanted by police turned himself in to th...</td>\n",
       "    </tr>\n",
       "    <tr>\n",
       "      <th>49959</th>\n",
       "      <td>A Wanted Man Responded To A Police Facebook Po...</td>\n",
       "      <td>828</td>\n",
       "      <td>agree</td>\n",
       "      <td>A man wanted by police turned himself in to th...</td>\n",
       "    </tr>\n",
       "    <tr>\n",
       "      <th>49960</th>\n",
       "      <td>Predator drones being flown over Isil's Syrian...</td>\n",
       "      <td>146</td>\n",
       "      <td>agree</td>\n",
       "      <td>US drones are being flown over Isil's Syrian \"...</td>\n",
       "    </tr>\n",
       "    <tr>\n",
       "      <th>49961</th>\n",
       "      <td>BMO forecasts 19M Apple Watch sales in 2015, w...</td>\n",
       "      <td>854</td>\n",
       "      <td>discuss</td>\n",
       "      <td>Momentum for the Apple Watch will likely take ...</td>\n",
       "    </tr>\n",
       "    <tr>\n",
       "      <th>49962</th>\n",
       "      <td>Chinese parents try to SELL their son to pay f...</td>\n",
       "      <td>797</td>\n",
       "      <td>agree</td>\n",
       "      <td>A Chinese couple who can't afford live-saving ...</td>\n",
       "    </tr>\n",
       "    <tr>\n",
       "      <th>49963</th>\n",
       "      <td>Prisoner Released in Bergdahl Exchange Tried t...</td>\n",
       "      <td>74</td>\n",
       "      <td>discuss</td>\n",
       "      <td>At least one of five Taliban militants release...</td>\n",
       "    </tr>\n",
       "    <tr>\n",
       "      <th>49964</th>\n",
       "      <td>Kim Jong-un necks litres of rare SNAKE wine be...</td>\n",
       "      <td>135</td>\n",
       "      <td>agree</td>\n",
       "      <td>TYRANT Kim Jong-un is trying to boost his love...</td>\n",
       "    </tr>\n",
       "    <tr>\n",
       "      <th>49965</th>\n",
       "      <td>NASA: Planetary Alignment On Jan 4, 2015 Will ...</td>\n",
       "      <td>175</td>\n",
       "      <td>discuss</td>\n",
       "      <td>via Daily Buzz Live\\n\\nStrange natural occurre...</td>\n",
       "    </tr>\n",
       "    <tr>\n",
       "      <th>49966</th>\n",
       "      <td>“Willie Nelson dead 2015” : Guitarist killed b...</td>\n",
       "      <td>553</td>\n",
       "      <td>agree</td>\n",
       "      <td>News of guitarist Willie Nelson’s death spread...</td>\n",
       "    </tr>\n",
       "    <tr>\n",
       "      <th>49967</th>\n",
       "      <td>Amazon Is Opening a Brick-and-Mortar Store in ...</td>\n",
       "      <td>464</td>\n",
       "      <td>agree</td>\n",
       "      <td>Amazon, the cyber store that sells everything,...</td>\n",
       "    </tr>\n",
       "    <tr>\n",
       "      <th>49968</th>\n",
       "      <td>Elon University has not banned the term ‘fresh...</td>\n",
       "      <td>362</td>\n",
       "      <td>agree</td>\n",
       "      <td>ELON, N.C. – A recent rumor claims that Elon U...</td>\n",
       "    </tr>\n",
       "    <tr>\n",
       "      <th>49969</th>\n",
       "      <td>Fake BBC News website set up to carry Charlie ...</td>\n",
       "      <td>915</td>\n",
       "      <td>agree</td>\n",
       "      <td>A realistic-looking fake BBC News website has ...</td>\n",
       "    </tr>\n",
       "    <tr>\n",
       "      <th>49970</th>\n",
       "      <td>Apple was forced to nix key health features fr...</td>\n",
       "      <td>407</td>\n",
       "      <td>discuss</td>\n",
       "      <td>The health-focused smartwatch that Apple initi...</td>\n",
       "    </tr>\n",
       "    <tr>\n",
       "      <th>49971</th>\n",
       "      <td>If you want an Apple Watch, you’ll probably be...</td>\n",
       "      <td>1066</td>\n",
       "      <td>discuss</td>\n",
       "      <td>We still don’t know the exact date the Apple W...</td>\n",
       "    </tr>\n",
       "  </tbody>\n",
       "</table>\n",
       "<p>49972 rows × 4 columns</p>\n",
       "</div>"
      ],
      "text/plain": [
       "                                                Headline  Body ID     Stance  \\\n",
       "0      Police find mass graves with at least '15 bodi...      712  unrelated   \n",
       "1               Seth Rogen to Play Apple’s Steve Wozniak      712    discuss   \n",
       "2      Mexico police find mass grave near site 43 stu...      712  unrelated   \n",
       "3      Mexico Says Missing Students Not Found In Firs...      712  unrelated   \n",
       "4      New iOS 8 bug can delete all of your iCloud do...      712  unrelated   \n",
       "5      Return of the Mac: Seth Rogen in talks to star...      712    discuss   \n",
       "6                                      Seth Rogen Is Woz      712    discuss   \n",
       "7      Mexico finds 4 more graves at site of suspecte...      712  unrelated   \n",
       "8      Are missing students in mass graves found near...      712  unrelated   \n",
       "9      Mexico prosecutor: Students not in 1st mass gr...      712  unrelated   \n",
       "10     Lady on FB: I'm 41, Intersex, and Fucked Micha...      712  unrelated   \n",
       "11     Catholic Priest Claims God Is Female After Cli...      712  unrelated   \n",
       "12     Isis claims US hostage Kayla Mueller killed in...      712  unrelated   \n",
       "13     Gold Apple Watch Edition price? Speculators sa...      712  unrelated   \n",
       "14     Mexican students not among bodies found in mas...      712  unrelated   \n",
       "15     Steve Jobs Biopic Eyes Seth Rogen to Play Appl...      712    discuss   \n",
       "16     Missing Mexico students not among 28 bodies fo...      712  unrelated   \n",
       "17     Taylor Lianne Chandler: Everything you need to...      712  unrelated   \n",
       "18     Mexican cartel leader kills self; bodies in gr...      712  unrelated   \n",
       "19     Bodies In Mexico Mass Grave Apparently Not Tho...      712  unrelated   \n",
       "20     Seth Rogen Eyed to Play Apple's Steve Wozniak ...      712    discuss   \n",
       "21     Mexican investigators fear mass grave might ho...      712  unrelated   \n",
       "22     6 hidden mass graves may hold missing Mexican ...      712  unrelated   \n",
       "23     Mass grave found after 40 students disappear i...      712  unrelated   \n",
       "24     Mexico Student Massacre Update: More Graves Di...      712  unrelated   \n",
       "25     Seth Rogen To Play Steve Wozniak In Steve Jobs...      712    discuss   \n",
       "26     Taylor Lianne Chandler: Michael Phelps' Cougar...      712  unrelated   \n",
       "27     Newly Discovered Mass Grave Linked to Missing ...      712  unrelated   \n",
       "28     Michael Phelps' self-proclaimed 'girlfriend', ...      712  unrelated   \n",
       "29     Missing Mexican students 'not found in mass gr...      712  unrelated   \n",
       "...                                                  ...      ...        ...   \n",
       "49942  Gene Munster Predicts $499 Steel Apple Watch, ...      877    discuss   \n",
       "49943  This Is Why Rumors That ISIS Is Crossing The B...       76    discuss   \n",
       "49944  You may be able to make appointments at the Ap...      307    discuss   \n",
       "49945  Meteorite makes big crater in Nicaragua, gover...        9      agree   \n",
       "49946  Small Meteorite Strikes in Nicaragua's Capital...        9      agree   \n",
       "49947  Ann Arbor pizza delivery driver surprised with...      355      agree   \n",
       "49948  Is Apple about to launch a totally redesigned,...      302    discuss   \n",
       "49949  Sources: Guns N' Roses Frontman Axl Rose Found...     1085    discuss   \n",
       "49950  “Axl Rose dead 2014” : Guns N' Roses frontman ...     1085      agree   \n",
       "49951  Axl Rose NOT Dead: Fake MSNBC Death Hoax Goes ...     1085      agree   \n",
       "49952  US probing claims ISIS fighters seized airdrop...      219    discuss   \n",
       "49953  ISIS fighters seize weapons airdrop meant for ...      219    discuss   \n",
       "49954  Former U.S. soldier says IS used chemical weap...      352    discuss   \n",
       "49955  Heartbroken girl spends week in KFC after gett...      159    discuss   \n",
       "49956  Comfort eating? Chinese woman, 26, spends an e...      159    discuss   \n",
       "49957  Chinese 'mistress' is stripped naked and beate...      907      agree   \n",
       "49958  Rodney Constantine, Newfoundland Suspect, Keep...      828      agree   \n",
       "49959  A Wanted Man Responded To A Police Facebook Po...      828      agree   \n",
       "49960  Predator drones being flown over Isil's Syrian...      146      agree   \n",
       "49961  BMO forecasts 19M Apple Watch sales in 2015, w...      854    discuss   \n",
       "49962  Chinese parents try to SELL their son to pay f...      797      agree   \n",
       "49963  Prisoner Released in Bergdahl Exchange Tried t...       74    discuss   \n",
       "49964  Kim Jong-un necks litres of rare SNAKE wine be...      135      agree   \n",
       "49965  NASA: Planetary Alignment On Jan 4, 2015 Will ...      175    discuss   \n",
       "49966  “Willie Nelson dead 2015” : Guitarist killed b...      553      agree   \n",
       "49967  Amazon Is Opening a Brick-and-Mortar Store in ...      464      agree   \n",
       "49968  Elon University has not banned the term ‘fresh...      362      agree   \n",
       "49969  Fake BBC News website set up to carry Charlie ...      915      agree   \n",
       "49970  Apple was forced to nix key health features fr...      407    discuss   \n",
       "49971  If you want an Apple Watch, you’ll probably be...     1066    discuss   \n",
       "\n",
       "                                             articleBody  \n",
       "0      Danny Boyle is directing the untitled film\\n\\n...  \n",
       "1      Danny Boyle is directing the untitled film\\n\\n...  \n",
       "2      Danny Boyle is directing the untitled film\\n\\n...  \n",
       "3      Danny Boyle is directing the untitled film\\n\\n...  \n",
       "4      Danny Boyle is directing the untitled film\\n\\n...  \n",
       "5      Danny Boyle is directing the untitled film\\n\\n...  \n",
       "6      Danny Boyle is directing the untitled film\\n\\n...  \n",
       "7      Danny Boyle is directing the untitled film\\n\\n...  \n",
       "8      Danny Boyle is directing the untitled film\\n\\n...  \n",
       "9      Danny Boyle is directing the untitled film\\n\\n...  \n",
       "10     Danny Boyle is directing the untitled film\\n\\n...  \n",
       "11     Danny Boyle is directing the untitled film\\n\\n...  \n",
       "12     Danny Boyle is directing the untitled film\\n\\n...  \n",
       "13     Danny Boyle is directing the untitled film\\n\\n...  \n",
       "14     Danny Boyle is directing the untitled film\\n\\n...  \n",
       "15     Danny Boyle is directing the untitled film\\n\\n...  \n",
       "16     Danny Boyle is directing the untitled film\\n\\n...  \n",
       "17     Danny Boyle is directing the untitled film\\n\\n...  \n",
       "18     Danny Boyle is directing the untitled film\\n\\n...  \n",
       "19     Danny Boyle is directing the untitled film\\n\\n...  \n",
       "20     Danny Boyle is directing the untitled film\\n\\n...  \n",
       "21     Danny Boyle is directing the untitled film\\n\\n...  \n",
       "22     Danny Boyle is directing the untitled film\\n\\n...  \n",
       "23     Danny Boyle is directing the untitled film\\n\\n...  \n",
       "24     Danny Boyle is directing the untitled film\\n\\n...  \n",
       "25     Danny Boyle is directing the untitled film\\n\\n...  \n",
       "26     Danny Boyle is directing the untitled film\\n\\n...  \n",
       "27     Danny Boyle is directing the untitled film\\n\\n...  \n",
       "28     Danny Boyle is directing the untitled film\\n\\n...  \n",
       "29     Danny Boyle is directing the untitled film\\n\\n...  \n",
       "...                                                  ...  \n",
       "49942  Piper Jaffray’s Gene Munster has issued a new ...  \n",
       "49943  Border Patrol agents detain immigrants who cro...  \n",
       "49944  Apple is reportedly planning to market and sel...  \n",
       "49945  (CNN) -- A meteorite crashed down in Managua, ...  \n",
       "49946  (CNN) -- A meteorite crashed down in Managua, ...  \n",
       "49947  It's not every night that a pizza delivery dri...  \n",
       "49948  Every year, Apple does some counterprogramming...  \n",
       "49949  Axl Rose is NOT dead. He’s the victim of a new...  \n",
       "49950  Axl Rose is NOT dead. He’s the victim of a new...  \n",
       "49951  Axl Rose is NOT dead. He’s the victim of a new...  \n",
       "49952  Syrian activists claim militants from the Isla...  \n",
       "49953  Syrian activists claim militants from the Isla...  \n",
       "49954  A former American soldier from Wisconsin who h...  \n",
       "49955  A Chinese woman spent an entire week inside a ...  \n",
       "49956  A Chinese woman spent an entire week inside a ...  \n",
       "49957  She was violently stripped naked and beaten se...  \n",
       "49958  A man wanted by police turned himself in to th...  \n",
       "49959  A man wanted by police turned himself in to th...  \n",
       "49960  US drones are being flown over Isil's Syrian \"...  \n",
       "49961  Momentum for the Apple Watch will likely take ...  \n",
       "49962  A Chinese couple who can't afford live-saving ...  \n",
       "49963  At least one of five Taliban militants release...  \n",
       "49964  TYRANT Kim Jong-un is trying to boost his love...  \n",
       "49965  via Daily Buzz Live\\n\\nStrange natural occurre...  \n",
       "49966  News of guitarist Willie Nelson’s death spread...  \n",
       "49967  Amazon, the cyber store that sells everything,...  \n",
       "49968  ELON, N.C. – A recent rumor claims that Elon U...  \n",
       "49969  A realistic-looking fake BBC News website has ...  \n",
       "49970  The health-focused smartwatch that Apple initi...  \n",
       "49971  We still don’t know the exact date the Apple W...  \n",
       "\n",
       "[49972 rows x 4 columns]"
      ]
     },
     "execution_count": 64,
     "metadata": {},
     "output_type": "execute_result"
    }
   ],
   "source": [
    "df_all = stances.merge(bodies, on = 'Body ID')\n",
    "df_all"
   ]
  },
  {
   "cell_type": "markdown",
   "metadata": {},
   "source": [
    "Merging together the datasets on the Body ID. "
   ]
  },
  {
   "cell_type": "code",
   "execution_count": 65,
   "metadata": {
    "scrolled": true
   },
   "outputs": [
    {
     "data": {
      "text/plain": [
       "(49972, 4)"
      ]
     },
     "execution_count": 65,
     "metadata": {},
     "output_type": "execute_result"
    }
   ],
   "source": [
    "df_all.shape"
   ]
  },
  {
   "cell_type": "markdown",
   "metadata": {},
   "source": [
    "## Baseline"
   ]
  },
  {
   "cell_type": "code",
   "execution_count": 66,
   "metadata": {
    "scrolled": true
   },
   "outputs": [
    {
     "data": {
      "text/plain": [
       "unrelated    0.731310\n",
       "discuss      0.178280\n",
       "agree        0.073601\n",
       "disagree     0.016809\n",
       "Name: Stance, dtype: float64"
      ]
     },
     "execution_count": 66,
     "metadata": {},
     "output_type": "execute_result"
    }
   ],
   "source": [
    "stances['Stance'].value_counts(normalize=True)"
   ]
  },
  {
   "cell_type": "markdown",
   "metadata": {},
   "source": [
    "Our baseline class is 0.731710. This is going to be the score we aim to do better than. "
   ]
  },
  {
   "cell_type": "code",
   "execution_count": 67,
   "metadata": {},
   "outputs": [
    {
     "name": "stderr",
     "output_type": "stream",
     "text": [
      "/anaconda3/envs/dsi/lib/python3.6/site-packages/seaborn/categorical.py:1428: FutureWarning: remove_na is deprecated and is a private function. Do not use.\n",
      "  stat_data = remove_na(group_data)\n"
     ]
    },
    {
     "data": {
      "image/png": "[encoded data removed]",
      "text/plain": [
       "<Figure size 432x288 with 1 Axes>"
      ]
     },
     "metadata": {},
     "output_type": "display_data"
    }
   ],
   "source": [
    "class_balance = stances['Stance'].value_counts(normalize=True)\n",
    "sns.barplot(['Unrelated','Discuss', 'Agree', 'Disagree'], class_balance)\n",
    "plt.ylabel('Articles')\n",
    "plt.title('Stances');"
   ]
  },
  {
   "cell_type": "markdown",
   "metadata": {},
   "source": [
    "# Natural Language Processing"
   ]
  },
  {
   "cell_type": "markdown",
   "metadata": {},
   "source": [
    "## Count Vectorizer\n",
    "\n",
    "Count vectorizer converts by text into a matrix of token counts. I recieve a sparse matrix from this which makes it easier to create a model. "
   ]
  },
  {
   "cell_type": "code",
   "execution_count": 71,
   "metadata": {},
   "outputs": [
    {
     "data": {
      "text/plain": [
       "0.7320899703834147"
      ]
     },
     "execution_count": 71,
     "metadata": {},
     "output_type": "execute_result"
    }
   ],
   "source": [
    "#body\n",
    "X_train = df_all[['articleBody']]\n",
    "y_train = stances['Stance']\n",
    "X_test = df_all[['articleBody']]\n",
    "y_test = stances['Stance']\n",
    "\n",
    "cvec_body = CountVectorizer(stop_words = 'english')\n",
    "\n",
    "train_body_cvec = cvec_body.fit_transform(X_train['articleBody'])\n",
    "test_body_cvec = cvec_body.transform(X_test['articleBody'])\n",
    "\n",
    "lr = LogisticRegression()\n",
    "lr.fit(train_body_cvec, y_train)\n",
    "lr.score(test_body_cvec, y_test)"
   ]
  },
  {
   "cell_type": "code",
   "execution_count": 46,
   "metadata": {},
   "outputs": [
    {
     "data": {
      "text/plain": [
       "0.7313495557512207"
      ]
     },
     "execution_count": 46,
     "metadata": {},
     "output_type": "execute_result"
    }
   ],
   "source": [
    "#headline\n",
    "X_train = df_all[['Headline']]\n",
    "y_train = stances['Stance']\n",
    "X_test = df_all[['Headline']]\n",
    "y_test = stances['Stance']\n",
    "\n",
    "cvec_headline= CountVectorizer(stop_words = 'english')\n",
    "\n",
    "train_headline_cvec = cvec_headline.fit_transform(X_train['Headline'])\n",
    "test_headline_cvec = cvec_headline.transform(X_test['Headline'])\n",
    "\n",
    "lr = LogisticRegression()\n",
    "lr.fit(train_headline_cvec, y_train)\n",
    "lr.score(test_headline_cvec, y_test)"
   ]
  },
  {
   "cell_type": "code",
   "execution_count": 73,
   "metadata": {},
   "outputs": [],
   "source": [
    "#combo = df_all[['Headline', 'articleBody']].copy(deep=True)"
   ]
  },
  {
   "cell_type": "code",
   "execution_count": 74,
   "metadata": {
    "scrolled": true
   },
   "outputs": [
    {
     "ename": "ValueError",
     "evalue": "Must pass DataFrame with boolean values only",
     "output_type": "error",
     "traceback": [
      "\u001b[0;31m---------------------------------------------------------------------------\u001b[0m",
      "\u001b[0;31mValueError\u001b[0m                                Traceback (most recent call last)",
      "\u001b[0;32m<ipython-input-74-673af1471527>\u001b[0m in \u001b[0;36m<module>\u001b[0;34m()\u001b[0m\n\u001b[1;32m      7\u001b[0m \u001b[0mcvec_headline\u001b[0m\u001b[0;34m=\u001b[0m \u001b[0mCountVectorizer\u001b[0m\u001b[0;34m(\u001b[0m\u001b[0mstop_words\u001b[0m \u001b[0;34m=\u001b[0m \u001b[0;34m'english'\u001b[0m\u001b[0;34m)\u001b[0m\u001b[0;34m\u001b[0m\u001b[0m\n\u001b[1;32m      8\u001b[0m \u001b[0;34m\u001b[0m\u001b[0m\n\u001b[0;32m----> 9\u001b[0;31m \u001b[0mtrain_headline_cvec\u001b[0m \u001b[0;34m=\u001b[0m \u001b[0mcvec_headline\u001b[0m\u001b[0;34m.\u001b[0m\u001b[0mfit_transform\u001b[0m\u001b[0;34m(\u001b[0m\u001b[0mX_train\u001b[0m\u001b[0;34m[\u001b[0m\u001b[0mcombo\u001b[0m\u001b[0;34m]\u001b[0m\u001b[0;34m)\u001b[0m\u001b[0;34m\u001b[0m\u001b[0m\n\u001b[0m\u001b[1;32m     10\u001b[0m \u001b[0mtest_headline_cvec\u001b[0m \u001b[0;34m=\u001b[0m \u001b[0mcvec_headline\u001b[0m\u001b[0;34m.\u001b[0m\u001b[0mtransform\u001b[0m\u001b[0;34m(\u001b[0m\u001b[0mX_test\u001b[0m\u001b[0;34m[\u001b[0m\u001b[0mcombo\u001b[0m\u001b[0;34m]\u001b[0m\u001b[0;34m)\u001b[0m\u001b[0;34m\u001b[0m\u001b[0m\n\u001b[1;32m     11\u001b[0m \u001b[0;34m\u001b[0m\u001b[0m\n",
      "\u001b[0;32m/anaconda3/envs/dsi/lib/python3.6/site-packages/pandas/core/frame.py\u001b[0m in \u001b[0;36m__getitem__\u001b[0;34m(self, key)\u001b[0m\n\u001b[1;32m   2133\u001b[0m             \u001b[0;32mreturn\u001b[0m \u001b[0mself\u001b[0m\u001b[0;34m.\u001b[0m\u001b[0m_getitem_array\u001b[0m\u001b[0;34m(\u001b[0m\u001b[0mkey\u001b[0m\u001b[0;34m)\u001b[0m\u001b[0;34m\u001b[0m\u001b[0m\n\u001b[1;32m   2134\u001b[0m         \u001b[0;32melif\u001b[0m \u001b[0misinstance\u001b[0m\u001b[0;34m(\u001b[0m\u001b[0mkey\u001b[0m\u001b[0;34m,\u001b[0m \u001b[0mDataFrame\u001b[0m\u001b[0;34m)\u001b[0m\u001b[0;34m:\u001b[0m\u001b[0;34m\u001b[0m\u001b[0m\n\u001b[0;32m-> 2135\u001b[0;31m             \u001b[0;32mreturn\u001b[0m \u001b[0mself\u001b[0m\u001b[0;34m.\u001b[0m\u001b[0m_getitem_frame\u001b[0m\u001b[0;34m(\u001b[0m\u001b[0mkey\u001b[0m\u001b[0;34m)\u001b[0m\u001b[0;34m\u001b[0m\u001b[0m\n\u001b[0m\u001b[1;32m   2136\u001b[0m         \u001b[0;32melif\u001b[0m \u001b[0mis_mi_columns\u001b[0m\u001b[0;34m:\u001b[0m\u001b[0;34m\u001b[0m\u001b[0m\n\u001b[1;32m   2137\u001b[0m             \u001b[0;32mreturn\u001b[0m \u001b[0mself\u001b[0m\u001b[0;34m.\u001b[0m\u001b[0m_getitem_multilevel\u001b[0m\u001b[0;34m(\u001b[0m\u001b[0mkey\u001b[0m\u001b[0;34m)\u001b[0m\u001b[0;34m\u001b[0m\u001b[0m\n",
      "\u001b[0;32m/anaconda3/envs/dsi/lib/python3.6/site-packages/pandas/core/frame.py\u001b[0m in \u001b[0;36m_getitem_frame\u001b[0;34m(self, key)\u001b[0m\n\u001b[1;32m   2216\u001b[0m     \u001b[0;32mdef\u001b[0m \u001b[0m_getitem_frame\u001b[0m\u001b[0;34m(\u001b[0m\u001b[0mself\u001b[0m\u001b[0;34m,\u001b[0m \u001b[0mkey\u001b[0m\u001b[0;34m)\u001b[0m\u001b[0;34m:\u001b[0m\u001b[0;34m\u001b[0m\u001b[0m\n\u001b[1;32m   2217\u001b[0m         \u001b[0;32mif\u001b[0m \u001b[0mkey\u001b[0m\u001b[0;34m.\u001b[0m\u001b[0mvalues\u001b[0m\u001b[0;34m.\u001b[0m\u001b[0msize\u001b[0m \u001b[0;32mand\u001b[0m \u001b[0;32mnot\u001b[0m \u001b[0mis_bool_dtype\u001b[0m\u001b[0;34m(\u001b[0m\u001b[0mkey\u001b[0m\u001b[0;34m.\u001b[0m\u001b[0mvalues\u001b[0m\u001b[0;34m)\u001b[0m\u001b[0;34m:\u001b[0m\u001b[0;34m\u001b[0m\u001b[0m\n\u001b[0;32m-> 2218\u001b[0;31m             \u001b[0;32mraise\u001b[0m \u001b[0mValueError\u001b[0m\u001b[0;34m(\u001b[0m\u001b[0;34m'Must pass DataFrame with boolean values only'\u001b[0m\u001b[0;34m)\u001b[0m\u001b[0;34m\u001b[0m\u001b[0m\n\u001b[0m\u001b[1;32m   2219\u001b[0m         \u001b[0;32mreturn\u001b[0m \u001b[0mself\u001b[0m\u001b[0;34m.\u001b[0m\u001b[0mwhere\u001b[0m\u001b[0;34m(\u001b[0m\u001b[0mkey\u001b[0m\u001b[0;34m)\u001b[0m\u001b[0;34m\u001b[0m\u001b[0m\n\u001b[1;32m   2220\u001b[0m \u001b[0;34m\u001b[0m\u001b[0m\n",
      "\u001b[0;31mValueError\u001b[0m: Must pass DataFrame with boolean values only"
     ]
    }
   ],
   "source": [
    "#headline\n",
    "#X_train = combo\n",
    "#y_train = stances['Stance']\n",
    "#X_test = combo\n",
    "#y_test = stances['Stance']\n",
    "#\n",
    "#cvec_headline= CountVectorizer(stop_words = 'english')\n",
    "#\n",
    "#train_headline_cvec = cvec_headline.fit_transform(X_train[combo])\n",
    "#test_headline_cvec = cvec_headline.transform(X_test[combo])\n",
    "#\n",
    "#lr = LogisticRegression()\n",
    "#lr.fit(train_headline_cvec, y_train)\n",
    "#lr.score(test_headline_cvec, y_test)"
   ]
  },
  {
   "cell_type": "code",
   "execution_count": 75,
   "metadata": {},
   "outputs": [
    {
     "data": {
      "text/plain": [
       "0.7319298807332106"
      ]
     },
     "execution_count": 75,
     "metadata": {},
     "output_type": "execute_result"
    }
   ],
   "source": [
    "X_train = df_all[['articleBody']]\n",
    "y_train = stances['Stance']\n",
    "X_test = df_all[['articleBody']]\n",
    "y_test = stances['Stance']\n",
    "\n",
    "cvec_body = CountVectorizer(stop_words = 'english')\n",
    "\n",
    "train_body_cvec = cvec_body.fit_transform(X_train['articleBody'])\n",
    "test_body_cvec = cvec_body.transform(X_test['articleBody'])\n",
    "\n",
    "rf = RandomForestClassifier()\n",
    "rf.fit(train_body_cvec, y_train)\n",
    "rf.score(test_body_cvec, y_test)"
   ]
  },
  {
   "cell_type": "code",
   "execution_count": 76,
   "metadata": {},
   "outputs": [
    {
     "data": {
      "text/plain": [
       "0.7313495557512207"
      ]
     },
     "execution_count": 76,
     "metadata": {},
     "output_type": "execute_result"
    }
   ],
   "source": [
    "#headline\n",
    "X_train = df_all[['Headline']]\n",
    "y_train = stances['Stance']\n",
    "X_test = df_all[['Headline']]\n",
    "y_test = stances['Stance']\n",
    "\n",
    "cvec_headline= CountVectorizer(stop_words = 'english')\n",
    "\n",
    "train_headline_cvec = cvec_headline.fit_transform(X_train['Headline'])\n",
    "test_headline_cvec = cvec_headline.transform(X_test['Headline'])\n",
    "\n",
    "rf = RandomForestClassifier()\n",
    "rf.fit(train_headline_cvec, y_train)\n",
    "rf.score(test_headline_cvec, y_test)"
   ]
  },
  {
   "cell_type": "markdown",
   "metadata": {},
   "source": [
    "After using CountVectorizer on the article Body and stances we find that our scores improves a little using Logistic Regression. \n",
    "Our baseline is 0.731710 while CountVectorizer brought us to 0.73201. When using CountVectorizer on the Headlines, our score is performing worse than baseline at 0.731349. "
   ]
  },
  {
   "cell_type": "markdown",
   "metadata": {},
   "source": [
    "# Hashing Vectorizer\n",
    "\n",
    "The hashing vectorizer coverts the text and returns a matrix of token occurences. "
   ]
  },
  {
   "cell_type": "code",
   "execution_count": 77,
   "metadata": {},
   "outputs": [
    {
     "data": {
      "text/plain": [
       "0.7313095333386697"
      ]
     },
     "execution_count": 77,
     "metadata": {},
     "output_type": "execute_result"
    }
   ],
   "source": [
    "#body\n",
    "X_train = df_all[['articleBody']]\n",
    "y_train = stances['Stance']\n",
    "X_test = df_all[['articleBody']]\n",
    "y_test = stances['Stance']\n",
    "\n",
    "hvec_body = HashingVectorizer(stop_words = 'english')\n",
    "\n",
    "train_body_hvec = hvec_body.fit_transform(X_train['articleBody'])\n",
    "test_body_hvec = hvec_body.transform(X_test['articleBody'])\n",
    "\n",
    "lr = LogisticRegression()\n",
    "lr.fit(train_body_hvec, y_train)\n",
    "lr.score(test_body_hvec, y_test)"
   ]
  },
  {
   "cell_type": "code",
   "execution_count": 78,
   "metadata": {},
   "outputs": [
    {
     "data": {
      "text/plain": [
       "0.7313095333386697"
      ]
     },
     "execution_count": 78,
     "metadata": {},
     "output_type": "execute_result"
    }
   ],
   "source": [
    "#headline\n",
    "X_train = df_all[['Headline']]\n",
    "y_train = stances['Stance']\n",
    "X_test = df_all[['Headline']]\n",
    "y_test = stances['Stance']\n",
    "\n",
    "hvec_headline = HashingVectorizer(stop_words = 'english')\n",
    "\n",
    "train_headline_hvec = hvec_headline.fit_transform(X_train['Headline'])\n",
    "test_headline_hvec = hvec_headline.transform(X_test['Headline'])\n",
    "\n",
    "lr = LogisticRegression()\n",
    "lr.fit(train_headline_hvec, y_train)\n",
    "lr.score(test_headline_hvec, y_test)"
   ]
  },
  {
   "cell_type": "code",
   "execution_count": 80,
   "metadata": {},
   "outputs": [
    {
     "data": {
      "text/plain": [
       "0.7318698471143841"
      ]
     },
     "execution_count": 80,
     "metadata": {},
     "output_type": "execute_result"
    }
   ],
   "source": [
    "X_train = df_all[['articleBody']]\n",
    "y_train = stances['Stance']\n",
    "X_test = df_all[['articleBody']]\n",
    "y_test = stances['Stance']\n",
    "\n",
    "hvec_body = HashingVectorizer(stop_words = 'english')\n",
    "\n",
    "train_body_hvec = hvec_body.fit_transform(X_train['articleBody'])\n",
    "test_body_hvec = hvec_body.transform(X_test['articleBody'])\n",
    "\n",
    "rf = RandomForestClassifier()\n",
    "rf.fit(train_body_hvec, y_train)\n",
    "rf.score(test_body_hvec, y_test)"
   ]
  },
  {
   "cell_type": "code",
   "execution_count": 81,
   "metadata": {},
   "outputs": [
    {
     "data": {
      "text/plain": [
       "0.7312294885135676"
      ]
     },
     "execution_count": 81,
     "metadata": {},
     "output_type": "execute_result"
    }
   ],
   "source": [
    "X_train = df_all[['Headline']]\n",
    "y_train = stances['Stance']\n",
    "X_test = df_all[['Headline']]\n",
    "y_test = stances['Stance']\n",
    "\n",
    "hvec_headline = HashingVectorizer(stop_words = 'english')\n",
    "\n",
    "train_headline_hvec = hvec_headline.fit_transform(X_train['Headline'])\n",
    "test_headline_hvec = hvec_headline.transform(X_test['Headline'])\n",
    "\n",
    "rf = RandomForestClassifier()\n",
    "rf.fit(train_headline_hvec, y_train)\n",
    "rf.score(test_headline_hvec, y_test)"
   ]
  },
  {
   "cell_type": "markdown",
   "metadata": {},
   "source": [
    "After using HashingVectorizer on the article Body and stances we find that our score does not improve using Logistic Regression. \n",
    "Our baseline is 0.731710 while HashingVectorizer brought us to 0.73131. When using HashingVectorizer on the Headlines, our score is performing worse than baseline at 0.73131. "
   ]
  },
  {
   "cell_type": "markdown",
   "metadata": {},
   "source": [
    "# TF IDF \n",
    "\n",
    "TF IDF returns my text as a matrix of TF IDF features. TF IDF is a statistic that is intended to reflect how important a word is to a document in a collection of texts. Since this one is more statistically related it is projected to give the best score."
   ]
  },
  {
   "cell_type": "code",
   "execution_count": 82,
   "metadata": {},
   "outputs": [
    {
     "data": {
      "text/plain": [
       "0.7313095333386697"
      ]
     },
     "execution_count": 82,
     "metadata": {},
     "output_type": "execute_result"
    }
   ],
   "source": [
    "#body\n",
    "X_train = df_all[['articleBody']]\n",
    "y_train = stances['Stance']\n",
    "X_test = df_all[['articleBody']]\n",
    "y_test = stances['Stance']\n",
    "\n",
    "tvec_body = TfidfVectorizer(stop_words = 'english')\n",
    "\n",
    "train_body_tvec = tvec_body.fit_transform(X_train['articleBody'])\n",
    "test_body_tvec = tvec_body.transform(X_test['articleBody'])\n",
    "\n",
    "lr = LogisticRegression()\n",
    "lr.fit(train_body_tvec, y_train)\n",
    "lr.score(test_body_tvec, y_test)"
   ]
  },
  {
   "cell_type": "code",
   "execution_count": 83,
   "metadata": {},
   "outputs": [
    {
     "data": {
      "text/plain": [
       "0.7313095333386697"
      ]
     },
     "execution_count": 83,
     "metadata": {},
     "output_type": "execute_result"
    }
   ],
   "source": [
    "#headline\n",
    "X_train = df_all[['Headline']]\n",
    "y_train = stances['Stance']\n",
    "X_test = df_all[['Headline']]\n",
    "y_test = stances['Stance']\n",
    "\n",
    "tvec_headline = TfidfVectorizer(stop_words = 'english')\n",
    "\n",
    "train_headline_tvec = tvec_headline.fit_transform(X_train['Headline'])\n",
    "test_headline_tvec = tvec_headline.transform(X_test['Headline'])\n",
    "\n",
    "lr = LogisticRegression()\n",
    "lr.fit(train_headline_tvec, y_train)\n",
    "lr.score(test_headline_tvec, y_test)"
   ]
  },
  {
   "cell_type": "code",
   "execution_count": 84,
   "metadata": {},
   "outputs": [
    {
     "data": {
      "text/plain": [
       "0.7320499479708636"
      ]
     },
     "execution_count": 84,
     "metadata": {},
     "output_type": "execute_result"
    }
   ],
   "source": [
    "#body\n",
    "X_train = df_all[['articleBody']]\n",
    "y_train = stances['Stance']\n",
    "X_test = df_all[['articleBody']]\n",
    "y_test = stances['Stance']\n",
    "\n",
    "tvec_body = TfidfVectorizer(stop_words = 'english')\n",
    "\n",
    "train_body_tvec = tvec_body.fit_transform(X_train['articleBody'])\n",
    "test_body_tvec = tvec_body.transform(X_test['articleBody'])\n",
    "\n",
    "rf = RandomForestClassifier()\n",
    "rf.fit(train_body_cvec, y_train)\n",
    "rf.score(test_body_cvec, y_test)"
   ]
  },
  {
   "cell_type": "code",
   "execution_count": 85,
   "metadata": {},
   "outputs": [
    {
     "data": {
      "text/plain": [
       "0.7313095333386697"
      ]
     },
     "execution_count": 85,
     "metadata": {},
     "output_type": "execute_result"
    }
   ],
   "source": [
    "#headline\n",
    "X_train = df_all[['Headline']]\n",
    "y_train = stances['Stance']\n",
    "X_test = df_all[['Headline']]\n",
    "y_test = stances['Stance']\n",
    "\n",
    "tvec_headline = TfidfVectorizer(stop_words = 'english')\n",
    "\n",
    "train_headline_tvec = tvec_headline.fit_transform(X_train['Headline'])\n",
    "test_headline_tvec = tvec_headline.transform(X_test['Headline'])\n",
    "\n",
    "rf = RandomForestClassifier()\n",
    "rf.fit(train_headline_cvec, y_train)\n",
    "rf.score(test_headline_cvec, y_test)"
   ]
  },
  {
   "cell_type": "markdown",
   "metadata": {},
   "source": [
    "After using TF IDF(term frequency-inverse document frequency) on the article Body and stances we find that our score does not improve using Logistic Regression. \n",
    "Our baseline is 0.73171 while TF IDF brought us to 0.731309. When using TF IDF on the Headlines, our score is performing at 0.731309.  \n",
    "    "
   ]
  },
  {
   "cell_type": "markdown",
   "metadata": {},
   "source": [
    "## Preprocessing for latent Dirichlet allocation\n",
    "\n",
    "Since none of the word processing vectorizers proved to be fruitful in helping improve above baseline, I will be now applying some processing on the text and fit new models. LDA is a statistical model that helps to show why some groups of data are similar. "
   ]
  },
  {
   "cell_type": "code",
   "execution_count": 86,
   "metadata": {},
   "outputs": [],
   "source": [
    "def text_process(text):\n",
    "    '''\n",
    "    Takes in a string of text, then performs the following:\n",
    "        1. Tokenizes and removes punctuation\n",
    "        2. Removes stopwords\n",
    "        3. Stems\n",
    "        4. Returns a list of the cleaned text\n",
    "    '''\n",
    "    if pd.isnull(text):\n",
    "        return []\n",
    "    # tokenizing and removing punctuation\n",
    "    tokenizer = RegexpTokenizer(r'\\w+')\n",
    "    text_processed=tokenizer.tokenize(text)\n",
    "    \n",
    "    # removing any stopwords\n",
    "    text_processed = [word.lower() for word in text_processed if word.lower() not in stopwords.words('english')]\n",
    "    \n",
    "    # stemming\n",
    "    #porter_stemmer = PorterStemmer()\n",
    "    wordnet_lemmatizer = WordNetLemmatizer()\n",
    "    \n",
    "    text_processed = [wordnet_lemmatizer.lemmatize(word) for word in text_processed]\n",
    "    \n",
    "    try:\n",
    "        text_processed.remove('b')\n",
    "    except: \n",
    "        pass\n",
    "\n",
    "    return text_processed ## <-- we're keeping our words distinct"
   ]
  },
  {
   "cell_type": "code",
   "execution_count": 87,
   "metadata": {},
   "outputs": [],
   "source": [
    "df_all['articleBody'] = df_all['articleBody'].apply(text_process)"
   ]
  },
  {
   "cell_type": "code",
   "execution_count": 88,
   "metadata": {
    "scrolled": true
   },
   "outputs": [
    {
     "data": {
      "text/plain": [
       "0    [danny, boyle, directing, untitled, film, seth...\n",
       "1    [danny, boyle, directing, untitled, film, seth...\n",
       "2    [danny, boyle, directing, untitled, film, seth...\n",
       "3    [danny, boyle, directing, untitled, film, seth...\n",
       "4    [danny, boyle, directing, untitled, film, seth...\n",
       "Name: articleBody, dtype: object"
      ]
     },
     "execution_count": 88,
     "metadata": {},
     "output_type": "execute_result"
    }
   ],
   "source": [
    "df_all['articleBody'].head()"
   ]
  },
  {
   "cell_type": "code",
   "execution_count": 89,
   "metadata": {},
   "outputs": [],
   "source": [
    "df_all['Headline'] = df_all['Headline'].apply(text_process)"
   ]
  },
  {
   "cell_type": "code",
   "execution_count": 90,
   "metadata": {
    "scrolled": false
   },
   "outputs": [
    {
     "data": {
      "text/plain": [
       "0    [police, find, mass, graf, least, 15, body, ne...\n",
       "1           [seth, rogen, play, apple, steve, wozniak]\n",
       "2    [mexico, police, find, mass, grave, near, site...\n",
       "3    [mexico, say, missing, student, found, first, ...\n",
       "4          [new, io, 8, bug, delete, icloud, document]\n",
       "Name: Headline, dtype: object"
      ]
     },
     "execution_count": 90,
     "metadata": {},
     "output_type": "execute_result"
    }
   ],
   "source": [
    "df_all['Headline'].head()"
   ]
  },
  {
   "cell_type": "markdown",
   "metadata": {},
   "source": [
    "## Fit LDA Model"
   ]
  },
  {
   "cell_type": "code",
   "execution_count": 91,
   "metadata": {},
   "outputs": [],
   "source": [
    "from gensim import corpora, models\n",
    "import pyLDAvis.gensim\n",
    "\n",
    "pyLDAvis.enable_notebook()\n",
    "\n",
    "np.random.seed(42)"
   ]
  },
  {
   "cell_type": "markdown",
   "metadata": {},
   "source": [
    "## latent Dirichlet allocation on Article Body\n",
    "\n",
    "Visualizing the similarities between topics in the article bodies. "
   ]
  },
  {
   "cell_type": "code",
   "execution_count": 92,
   "metadata": {},
   "outputs": [],
   "source": [
    "dictionary = corpora.Dictionary(df_all['articleBody'])\n",
    "\n",
    "corpus = [dictionary.doc2bow(text) for text in df_all['articleBody']]\n",
    "\n",
    "ldamodel = models.ldamodel.LdaModel(corpus,                     # pass in our corpus\n",
    "                                    id2word = dictionary,       # matches each word to its \"number\" or \"spot\" in the dictionary\n",
    "                                    num_topics = 20,             # number of topics T to find\n",
    "                                    passes = 5,                 # number of passes through corpus; similar to number of epochs\n",
    "                                    minimum_probability = 0.01) # only include topics above this probability threshold"
   ]
  },
  {
   "cell_type": "code",
   "execution_count": 93,
   "metadata": {
    "scrolled": true
   },
   "outputs": [
    {
     "data": {
      "text/html": [
       "\n",
       "<link rel=\"stylesheet\" type=\"text/css\" href=\"https://cdn.rawgit.com/bmabey/pyLDAvis/files/ldavis.v1.0.0.css\">\n",
       "\n",
       "\n",
       "<div id=\"ldavis_el5494067600732801624441023\"></div>\n",
       "<script type=\"text/javascript\">\n",
       "\n",
       "var ldavis_el5494067600732801624441023_data = {\"mdsDat\": {\"Freq\": [8.472907066345215, 7.595188140869141, 7.311213970184326, 6.791385173797607, 6.466240406036377, 5.4064621925354, 5.100644588470459, 4.986445426940918, 4.938640594482422, 4.882612705230713, 4.623846530914307, 4.12652063369751, 4.123119354248047, 4.007402420043945, 3.8795530796051025, 3.8189754486083984, 3.8083693981170654, 3.5918588638305664, 3.399775981903076, 2.668844223022461], \"cluster\": [1, 1, 1, 1, 1, 1, 1, 1, 1, 1, 1, 1, 1, 1, 1, 1, 1, 1, 1, 1], \"topics\": [1, 2, 3, 4, 5, 6, 7, 8, 9, 10, 11, 12, 13, 14, 15, 16, 17, 18, 19, 20], \"x\": [0.22688046634248024, -0.11228678126176596, -0.08354421141361722, -0.10850821279144053, 0.1740621715372297, -0.18708395273564932, 0.1120489936263109, 0.218528729465961, -0.11755917865020538, 0.05964226219976956, 0.11172661350690803, -0.14378818683155287, 0.024215156243280578, -0.10591165312621038, -0.10332071992276068, -0.013768381677108088, -0.12977884308990117, -0.10250019352678322, 0.10993386786631211, 0.1710120542387414], \"y\": [-0.019120016447443686, -0.0004340197441301563, -0.02156957446578399, 0.08075288644494255, -0.04205712494677558, -0.060082822980273204, 0.049269762150771494, -0.08404422791670697, 0.017840471978928983, -0.10090992436624177, -0.08045886793771102, -0.01608492343592293, 0.2946914962410217, 0.023170704069722194, -0.1418642485067157, 0.0424344605506407, -0.044201690584451454, -0.03252823946195131, 0.2616076594250755, -0.12641176006699564]}, \"tinfo\": {\"Category\": [\"Default\", \"Default\", \"Default\", \"Default\", \"Default\", \"Default\", \"Default\", \"Default\", \"Default\", \"Default\", \"Default\", \"Default\", \"Default\", \"Default\", \"Default\", \"Default\", \"Default\", \"Default\", \"Default\", \"Default\", \"Default\", \"Default\", \"Default\", \"Default\", \"Default\", \"Default\", \"Default\", \"Default\", \"Default\", \"Default\", \"Topic1\", \"Topic1\", \"Topic1\", \"Topic1\", \"Topic1\", \"Topic1\", \"Topic1\", \"Topic1\", \"Topic1\", \"Topic1\", \"Topic1\", \"Topic1\", \"Topic1\", \"Topic1\", \"Topic1\", \"Topic1\", \"Topic1\", \"Topic1\", \"Topic1\", \"Topic1\", \"Topic1\", \"Topic1\", \"Topic1\", \"Topic1\", \"Topic1\", \"Topic1\", \"Topic1\", \"Topic1\", \"Topic1\", \"Topic1\", \"Topic1\", \"Topic1\", \"Topic1\", \"Topic1\", \"Topic1\", \"Topic1\", \"Topic1\", \"Topic1\", \"Topic1\", \"Topic1\", \"Topic1\", \"Topic1\", \"Topic1\", \"Topic1\", \"Topic1\", \"Topic1\", \"Topic1\", \"Topic1\", \"Topic1\", \"Topic1\", \"Topic1\", \"Topic1\", \"Topic1\", \"Topic1\", \"Topic1\", \"Topic1\", \"Topic1\", \"Topic1\", \"Topic1\", \"Topic1\", \"Topic1\", \"Topic1\", \"Topic1\", \"Topic1\", \"Topic1\", \"Topic1\", \"Topic1\", \"Topic1\", \"Topic1\", \"Topic2\", \"Topic2\", \"Topic2\", \"Topic2\", \"Topic2\", \"Topic2\", \"Topic2\", \"Topic2\", \"Topic2\", \"Topic2\", \"Topic2\", \"Topic2\", \"Topic2\", \"Topic2\", \"Topic2\", \"Topic2\", \"Topic2\", \"Topic2\", \"Topic2\", \"Topic2\", \"Topic2\", \"Topic2\", \"Topic2\", \"Topic2\", \"Topic2\", \"Topic2\", \"Topic2\", \"Topic2\", \"Topic2\", \"Topic2\", \"Topic2\", \"Topic2\", \"Topic2\", \"Topic2\", \"Topic2\", \"Topic2\", \"Topic2\", \"Topic2\", \"Topic2\", \"Topic2\", \"Topic2\", \"Topic2\", \"Topic2\", \"Topic2\", \"Topic2\", \"Topic2\", \"Topic2\", \"Topic2\", \"Topic2\", \"Topic2\", \"Topic2\", \"Topic2\", \"Topic2\", \"Topic2\", \"Topic2\", \"Topic2\", \"Topic2\", \"Topic2\", \"Topic2\", \"Topic2\", \"Topic2\", \"Topic2\", \"Topic2\", \"Topic2\", \"Topic2\", \"Topic2\", \"Topic2\", \"Topic2\", \"Topic2\", \"Topic2\", \"Topic2\", \"Topic2\", \"Topic3\", \"Topic3\", \"Topic3\", \"Topic3\", \"Topic3\", \"Topic3\", \"Topic3\", \"Topic3\", \"Topic3\", \"Topic3\", \"Topic3\", \"Topic3\", \"Topic3\", \"Topic3\", \"Topic3\", \"Topic3\", \"Topic3\", \"Topic3\", \"Topic3\", \"Topic3\", \"Topic3\", \"Topic3\", \"Topic3\", \"Topic3\", \"Topic3\", \"Topic3\", \"Topic3\", \"Topic3\", \"Topic3\", \"Topic3\", \"Topic3\", \"Topic3\", \"Topic3\", \"Topic3\", \"Topic3\", \"Topic3\", \"Topic3\", \"Topic3\", \"Topic3\", \"Topic3\", \"Topic3\", \"Topic3\", \"Topic3\", \"Topic3\", \"Topic3\", \"Topic3\", \"Topic3\", \"Topic3\", \"Topic3\", \"Topic3\", \"Topic3\", \"Topic3\", \"Topic3\", \"Topic3\", \"Topic3\", \"Topic3\", \"Topic3\", \"Topic3\", \"Topic3\", \"Topic3\", \"Topic3\", \"Topic3\", \"Topic3\", \"Topic3\", \"Topic3\", \"Topic3\", \"Topic3\", \"Topic3\", \"Topic3\", \"Topic3\", \"Topic3\", \"Topic3\", \"Topic3\", \"Topic3\", \"Topic3\", \"Topic3\", \"Topic3\", \"Topic3\", \"Topic4\", \"Topic4\", \"Topic4\", \"Topic4\", \"Topic4\", \"Topic4\", \"Topic4\", \"Topic4\", \"Topic4\", \"Topic4\", \"Topic4\", \"Topic4\", \"Topic4\", \"Topic4\", \"Topic4\", \"Topic4\", \"Topic4\", \"Topic4\", \"Topic4\", \"Topic4\", \"Topic4\", \"Topic4\", \"Topic4\", \"Topic4\", \"Topic4\", \"Topic4\", \"Topic4\", \"Topic4\", \"Topic4\", \"Topic4\", \"Topic4\", \"Topic4\", \"Topic4\", \"Topic4\", \"Topic4\", \"Topic4\", \"Topic4\", \"Topic4\", \"Topic4\", \"Topic4\", \"Topic4\", \"Topic4\", \"Topic4\", \"Topic4\", \"Topic4\", \"Topic4\", \"Topic4\", \"Topic4\", \"Topic4\", \"Topic4\", \"Topic4\", \"Topic4\", \"Topic4\", \"Topic4\", \"Topic4\", \"Topic4\", \"Topic4\", \"Topic4\", \"Topic4\", \"Topic4\", \"Topic4\", \"Topic4\", \"Topic4\", \"Topic4\", \"Topic4\", \"Topic4\", \"Topic4\", \"Topic4\", \"Topic4\", \"Topic4\", \"Topic4\", \"Topic4\", \"Topic4\", \"Topic4\", \"Topic4\", \"Topic4\", \"Topic4\", \"Topic4\", \"Topic4\", \"Topic4\", \"Topic4\", \"Topic4\", \"Topic4\", \"Topic4\", \"Topic4\", \"Topic5\", \"Topic5\", \"Topic5\", \"Topic5\", \"Topic5\", \"Topic5\", \"Topic5\", \"Topic5\", \"Topic5\", \"Topic5\", \"Topic5\", \"Topic5\", \"Topic5\", \"Topic5\", \"Topic5\", \"Topic5\", \"Topic5\", \"Topic5\", \"Topic5\", \"Topic5\", \"Topic5\", \"Topic5\", \"Topic5\", \"Topic5\", \"Topic5\", \"Topic5\", \"Topic5\", \"Topic5\", \"Topic5\", \"Topic5\", \"Topic5\", \"Topic5\", \"Topic5\", \"Topic5\", \"Topic5\", \"Topic5\", \"Topic5\", \"Topic5\", \"Topic5\", \"Topic5\", \"Topic5\", \"Topic5\", \"Topic5\", \"Topic5\", \"Topic5\", \"Topic5\", \"Topic5\", \"Topic5\", \"Topic5\", \"Topic5\", \"Topic5\", \"Topic5\", \"Topic5\", \"Topic5\", \"Topic5\", \"Topic5\", \"Topic5\", \"Topic5\", \"Topic5\", \"Topic5\", \"Topic5\", \"Topic5\", \"Topic5\", \"Topic5\", \"Topic5\", \"Topic5\", \"Topic5\", \"Topic5\", \"Topic5\", \"Topic5\", \"Topic6\", \"Topic6\", \"Topic6\", \"Topic6\", \"Topic6\", \"Topic6\", \"Topic6\", \"Topic6\", \"Topic6\", \"Topic6\", \"Topic6\", \"Topic6\", \"Topic6\", \"Topic6\", \"Topic6\", \"Topic6\", \"Topic6\", \"Topic6\", \"Topic6\", \"Topic6\", \"Topic6\", \"Topic6\", \"Topic6\", \"Topic6\", \"Topic6\", \"Topic6\", \"Topic6\", \"Topic6\", \"Topic6\", \"Topic6\", \"Topic6\", \"Topic6\", \"Topic6\", \"Topic6\", \"Topic6\", \"Topic6\", \"Topic6\", \"Topic6\", \"Topic6\", \"Topic6\", \"Topic6\", \"Topic6\", \"Topic6\", \"Topic6\", \"Topic6\", \"Topic6\", \"Topic6\", \"Topic6\", \"Topic6\", \"Topic6\", \"Topic6\", \"Topic6\", \"Topic6\", \"Topic6\", \"Topic6\", \"Topic6\", \"Topic6\", \"Topic6\", \"Topic6\", \"Topic6\", \"Topic6\", \"Topic6\", \"Topic6\", \"Topic7\", \"Topic7\", \"Topic7\", \"Topic7\", \"Topic7\", \"Topic7\", \"Topic7\", \"Topic7\", \"Topic7\", \"Topic7\", \"Topic7\", \"Topic7\", \"Topic7\", \"Topic7\", \"Topic7\", \"Topic7\", \"Topic7\", \"Topic7\", \"Topic7\", \"Topic7\", \"Topic7\", \"Topic7\", \"Topic7\", \"Topic7\", \"Topic7\", \"Topic7\", \"Topic7\", \"Topic7\", \"Topic7\", \"Topic7\", \"Topic7\", \"Topic7\", \"Topic7\", \"Topic7\", \"Topic7\", \"Topic7\", \"Topic7\", \"Topic7\", \"Topic7\", \"Topic7\", \"Topic7\", \"Topic7\", \"Topic7\", \"Topic7\", \"Topic7\", \"Topic7\", \"Topic7\", \"Topic7\", \"Topic7\", \"Topic7\", \"Topic7\", \"Topic7\", \"Topic7\", \"Topic7\", \"Topic7\", \"Topic7\", \"Topic7\", \"Topic7\", \"Topic7\", \"Topic7\", \"Topic7\", \"Topic7\", \"Topic7\", \"Topic7\", \"Topic7\", \"Topic7\", \"Topic7\", \"Topic8\", \"Topic8\", \"Topic8\", \"Topic8\", \"Topic8\", \"Topic8\", \"Topic8\", \"Topic8\", \"Topic8\", \"Topic8\", \"Topic8\", \"Topic8\", \"Topic8\", \"Topic8\", \"Topic8\", \"Topic8\", \"Topic8\", \"Topic8\", \"Topic8\", \"Topic8\", \"Topic8\", \"Topic8\", \"Topic8\", \"Topic8\", \"Topic8\", \"Topic8\", \"Topic8\", \"Topic8\", \"Topic8\", \"Topic8\", \"Topic8\", \"Topic8\", \"Topic8\", \"Topic8\", \"Topic8\", \"Topic8\", \"Topic8\", \"Topic8\", \"Topic8\", \"Topic8\", \"Topic8\", \"Topic8\", \"Topic8\", \"Topic8\", \"Topic8\", \"Topic8\", \"Topic8\", \"Topic8\", \"Topic8\", \"Topic8\", \"Topic8\", \"Topic8\", \"Topic8\", \"Topic8\", \"Topic8\", \"Topic8\", \"Topic8\", \"Topic8\", \"Topic8\", \"Topic8\", \"Topic8\", \"Topic8\", \"Topic8\", \"Topic8\", \"Topic9\", \"Topic9\", \"Topic9\", \"Topic9\", \"Topic9\", \"Topic9\", \"Topic9\", \"Topic9\", \"Topic9\", \"Topic9\", \"Topic9\", \"Topic9\", \"Topic9\", \"Topic9\", \"Topic9\", \"Topic9\", \"Topic9\", \"Topic9\", \"Topic9\", \"Topic9\", \"Topic9\", \"Topic9\", \"Topic9\", \"Topic9\", \"Topic9\", \"Topic9\", \"Topic9\", \"Topic9\", \"Topic9\", \"Topic9\", \"Topic9\", \"Topic9\", \"Topic9\", \"Topic9\", \"Topic9\", \"Topic9\", \"Topic9\", \"Topic9\", \"Topic9\", \"Topic9\", \"Topic9\", \"Topic9\", \"Topic9\", \"Topic9\", \"Topic9\", \"Topic9\", \"Topic9\", \"Topic9\", \"Topic9\", \"Topic9\", \"Topic9\", \"Topic9\", \"Topic9\", \"Topic9\", \"Topic9\", \"Topic9\", \"Topic9\", \"Topic9\", \"Topic9\", \"Topic9\", \"Topic9\", \"Topic9\", \"Topic9\", \"Topic9\", \"Topic9\", \"Topic9\", \"Topic9\", \"Topic9\", \"Topic9\", \"Topic9\", \"Topic9\", \"Topic9\", \"Topic9\", \"Topic9\", \"Topic10\", \"Topic10\", \"Topic10\", \"Topic10\", \"Topic10\", \"Topic10\", \"Topic10\", \"Topic10\", \"Topic10\", \"Topic10\", \"Topic10\", \"Topic10\", \"Topic10\", \"Topic10\", \"Topic10\", \"Topic10\", \"Topic10\", \"Topic10\", \"Topic10\", \"Topic10\", \"Topic10\", \"Topic10\", \"Topic10\", \"Topic10\", \"Topic10\", \"Topic10\", \"Topic10\", \"Topic10\", \"Topic10\", \"Topic10\", \"Topic10\", \"Topic10\", \"Topic10\", \"Topic10\", \"Topic10\", \"Topic10\", \"Topic10\", \"Topic10\", \"Topic10\", \"Topic10\", \"Topic10\", \"Topic10\", \"Topic10\", \"Topic10\", \"Topic10\", \"Topic10\", \"Topic10\", \"Topic10\", \"Topic10\", \"Topic10\", \"Topic10\", \"Topic10\", \"Topic10\", \"Topic10\", \"Topic10\", \"Topic10\", \"Topic10\", \"Topic10\", \"Topic10\", \"Topic10\", \"Topic11\", \"Topic11\", \"Topic11\", \"Topic11\", \"Topic11\", \"Topic11\", \"Topic11\", \"Topic11\", \"Topic11\", \"Topic11\", \"Topic11\", \"Topic11\", \"Topic11\", \"Topic11\", \"Topic11\", \"Topic11\", \"Topic11\", \"Topic11\", \"Topic11\", \"Topic11\", \"Topic11\", \"Topic11\", \"Topic11\", \"Topic11\", \"Topic11\", \"Topic11\", \"Topic11\", \"Topic11\", \"Topic11\", \"Topic11\", \"Topic11\", \"Topic11\", \"Topic11\", \"Topic11\", \"Topic11\", \"Topic11\", \"Topic11\", \"Topic11\", \"Topic11\", \"Topic11\", \"Topic11\", \"Topic11\", \"Topic11\", \"Topic11\", \"Topic11\", \"Topic11\", \"Topic11\", \"Topic11\", \"Topic11\", \"Topic11\", \"Topic11\", \"Topic11\", \"Topic11\", \"Topic11\", \"Topic11\", \"Topic11\", \"Topic11\", \"Topic11\", \"Topic11\", \"Topic11\", \"Topic12\", \"Topic12\", \"Topic12\", \"Topic12\", \"Topic12\", \"Topic12\", \"Topic12\", \"Topic12\", \"Topic12\", \"Topic12\", \"Topic12\", \"Topic12\", \"Topic12\", \"Topic12\", \"Topic12\", \"Topic12\", \"Topic12\", \"Topic12\", \"Topic12\", \"Topic12\", \"Topic12\", \"Topic12\", \"Topic12\", \"Topic12\", \"Topic12\", \"Topic12\", \"Topic12\", \"Topic12\", \"Topic12\", \"Topic12\", \"Topic12\", \"Topic12\", \"Topic12\", \"Topic12\", \"Topic12\", \"Topic12\", \"Topic12\", \"Topic12\", \"Topic12\", \"Topic12\", \"Topic12\", \"Topic12\", \"Topic12\", \"Topic12\", \"Topic12\", \"Topic12\", \"Topic12\", \"Topic12\", \"Topic12\", \"Topic12\", \"Topic12\", \"Topic12\", \"Topic12\", \"Topic12\", \"Topic12\", \"Topic12\", \"Topic12\", \"Topic12\", \"Topic12\", \"Topic12\", \"Topic12\", \"Topic12\", \"Topic12\", \"Topic12\", \"Topic13\", \"Topic13\", \"Topic13\", \"Topic13\", \"Topic13\", \"Topic13\", \"Topic13\", \"Topic13\", \"Topic13\", \"Topic13\", \"Topic13\", \"Topic13\", \"Topic13\", \"Topic13\", \"Topic13\", \"Topic13\", \"Topic13\", \"Topic13\", \"Topic13\", \"Topic13\", \"Topic13\", \"Topic13\", \"Topic13\", \"Topic13\", \"Topic13\", \"Topic13\", \"Topic13\", \"Topic13\", \"Topic13\", \"Topic13\", \"Topic13\", \"Topic13\", \"Topic13\", \"Topic13\", \"Topic13\", \"Topic13\", \"Topic13\", \"Topic13\", \"Topic13\", \"Topic13\", \"Topic13\", \"Topic13\", \"Topic13\", \"Topic13\", \"Topic13\", \"Topic13\", \"Topic13\", \"Topic13\", \"Topic13\", \"Topic13\", \"Topic13\", \"Topic13\", \"Topic13\", \"Topic13\", \"Topic13\", \"Topic13\", \"Topic13\", \"Topic13\", \"Topic13\", \"Topic13\", \"Topic13\", \"Topic13\", \"Topic13\", \"Topic13\", \"Topic14\", \"Topic14\", \"Topic14\", \"Topic14\", \"Topic14\", \"Topic14\", \"Topic14\", \"Topic14\", \"Topic14\", \"Topic14\", \"Topic14\", \"Topic14\", \"Topic14\", \"Topic14\", \"Topic14\", \"Topic14\", \"Topic14\", \"Topic14\", \"Topic14\", \"Topic14\", \"Topic14\", \"Topic14\", \"Topic14\", \"Topic14\", \"Topic14\", \"Topic14\", \"Topic14\", \"Topic14\", \"Topic14\", \"Topic14\", \"Topic14\", \"Topic14\", \"Topic14\", \"Topic14\", \"Topic14\", \"Topic14\", \"Topic14\", \"Topic14\", \"Topic14\", \"Topic14\", \"Topic14\", \"Topic14\", \"Topic14\", \"Topic14\", \"Topic14\", \"Topic14\", \"Topic14\", \"Topic14\", \"Topic14\", \"Topic14\", \"Topic14\", \"Topic14\", \"Topic14\", \"Topic14\", \"Topic14\", \"Topic14\", \"Topic14\", \"Topic14\", \"Topic14\", \"Topic14\", \"Topic14\", \"Topic15\", \"Topic15\", \"Topic15\", \"Topic15\", \"Topic15\", \"Topic15\", \"Topic15\", \"Topic15\", \"Topic15\", \"Topic15\", \"Topic15\", \"Topic15\", \"Topic15\", \"Topic15\", \"Topic15\", \"Topic15\", \"Topic15\", \"Topic15\", \"Topic15\", \"Topic15\", \"Topic15\", \"Topic15\", \"Topic15\", \"Topic15\", \"Topic15\", \"Topic15\", \"Topic15\", \"Topic15\", \"Topic15\", \"Topic15\", \"Topic15\", \"Topic15\", \"Topic15\", \"Topic15\", \"Topic15\", \"Topic15\", \"Topic15\", \"Topic15\", \"Topic15\", \"Topic15\", \"Topic15\", \"Topic15\", \"Topic15\", \"Topic15\", \"Topic15\", \"Topic15\", \"Topic15\", \"Topic15\", \"Topic15\", \"Topic15\", \"Topic15\", \"Topic15\", \"Topic15\", \"Topic15\", \"Topic15\", \"Topic15\", \"Topic15\", \"Topic15\", \"Topic16\", \"Topic16\", \"Topic16\", \"Topic16\", \"Topic16\", \"Topic16\", \"Topic16\", \"Topic16\", \"Topic16\", \"Topic16\", \"Topic16\", \"Topic16\", \"Topic16\", \"Topic16\", \"Topic16\", \"Topic16\", \"Topic16\", \"Topic16\", \"Topic16\", \"Topic16\", \"Topic16\", \"Topic16\", \"Topic16\", \"Topic16\", \"Topic16\", \"Topic16\", \"Topic16\", \"Topic16\", \"Topic16\", \"Topic16\", \"Topic16\", \"Topic16\", \"Topic16\", \"Topic16\", \"Topic16\", \"Topic16\", \"Topic16\", \"Topic16\", \"Topic16\", \"Topic16\", \"Topic16\", \"Topic16\", \"Topic16\", \"Topic16\", \"Topic16\", \"Topic16\", \"Topic16\", \"Topic16\", \"Topic16\", \"Topic16\", \"Topic16\", \"Topic16\", \"Topic16\", \"Topic16\", \"Topic16\", \"Topic16\", \"Topic16\", \"Topic17\", \"Topic17\", \"Topic17\", \"Topic17\", \"Topic17\", \"Topic17\", \"Topic17\", \"Topic17\", \"Topic17\", \"Topic17\", \"Topic17\", \"Topic17\", \"Topic17\", \"Topic17\", \"Topic17\", \"Topic17\", \"Topic17\", \"Topic17\", \"Topic17\", \"Topic17\", \"Topic17\", \"Topic17\", \"Topic17\", \"Topic17\", \"Topic17\", \"Topic17\", \"Topic17\", \"Topic17\", \"Topic17\", \"Topic17\", \"Topic17\", \"Topic17\", \"Topic17\", \"Topic17\", \"Topic17\", \"Topic17\", \"Topic17\", \"Topic17\", \"Topic17\", \"Topic17\", \"Topic17\", \"Topic17\", \"Topic17\", \"Topic17\", \"Topic17\", \"Topic17\", \"Topic17\", \"Topic17\", \"Topic17\", \"Topic17\", \"Topic17\", \"Topic17\", \"Topic17\", \"Topic17\", \"Topic17\", \"Topic17\", \"Topic17\", \"Topic17\", \"Topic17\", \"Topic18\", \"Topic18\", \"Topic18\", \"Topic18\", \"Topic18\", \"Topic18\", \"Topic18\", \"Topic18\", \"Topic18\", \"Topic18\", \"Topic18\", \"Topic18\", \"Topic18\", \"Topic18\", \"Topic18\", \"Topic18\", \"Topic18\", \"Topic18\", \"Topic18\", \"Topic18\", \"Topic18\", \"Topic18\", \"Topic18\", \"Topic18\", \"Topic18\", \"Topic18\", \"Topic18\", \"Topic18\", \"Topic18\", \"Topic18\", \"Topic18\", \"Topic18\", \"Topic18\", \"Topic18\", \"Topic18\", \"Topic18\", \"Topic18\", \"Topic18\", \"Topic18\", \"Topic18\", \"Topic18\", \"Topic18\", \"Topic18\", \"Topic18\", \"Topic18\", \"Topic18\", \"Topic18\", \"Topic18\", \"Topic18\", \"Topic18\", \"Topic18\", \"Topic18\", \"Topic18\", \"Topic18\", \"Topic18\", \"Topic18\", \"Topic18\", \"Topic18\", \"Topic18\", \"Topic18\", \"Topic18\", \"Topic18\", \"Topic18\", \"Topic18\", \"Topic18\", \"Topic18\", \"Topic19\", \"Topic19\", \"Topic19\", \"Topic19\", \"Topic19\", \"Topic19\", \"Topic19\", \"Topic19\", \"Topic19\", \"Topic19\", \"Topic19\", \"Topic19\", \"Topic19\", \"Topic19\", \"Topic19\", \"Topic19\", \"Topic19\", \"Topic19\", \"Topic19\", \"Topic19\", \"Topic19\", \"Topic19\", \"Topic19\", \"Topic19\", \"Topic19\", \"Topic19\", \"Topic19\", \"Topic19\", \"Topic19\", \"Topic19\", \"Topic19\", \"Topic19\", \"Topic19\", \"Topic19\", \"Topic19\", \"Topic19\", \"Topic19\", \"Topic19\", \"Topic19\", \"Topic19\", \"Topic19\", \"Topic19\", \"Topic19\", \"Topic19\", \"Topic19\", \"Topic19\", \"Topic19\", \"Topic19\", \"Topic19\", \"Topic19\", \"Topic19\", \"Topic19\", \"Topic19\", \"Topic19\", \"Topic19\", \"Topic20\", \"Topic20\", \"Topic20\", \"Topic20\", \"Topic20\", \"Topic20\", \"Topic20\", \"Topic20\", \"Topic20\", \"Topic20\", \"Topic20\", \"Topic20\", \"Topic20\", \"Topic20\", \"Topic20\", \"Topic20\", \"Topic20\", \"Topic20\", \"Topic20\", \"Topic20\", \"Topic20\", \"Topic20\", \"Topic20\", \"Topic20\", \"Topic20\", \"Topic20\", \"Topic20\", \"Topic20\", \"Topic20\", \"Topic20\", \"Topic20\", \"Topic20\", \"Topic20\", \"Topic20\", \"Topic20\", \"Topic20\", \"Topic20\", \"Topic20\", \"Topic20\", \"Topic20\", \"Topic20\", \"Topic20\", \"Topic20\", \"Topic20\", \"Topic20\", \"Topic20\", \"Topic20\", \"Topic20\", \"Topic20\", \"Topic20\", \"Topic20\", \"Topic20\", \"Topic20\", \"Topic20\", \"Topic20\", \"Topic20\", \"Topic20\", \"Topic20\", \"Topic20\"], \"Freq\": [44046.0, 30443.0, 22237.0, 28784.0, 46117.0, 34001.0, 20626.0, 24472.0, 16882.0, 17941.0, 13909.0, 130181.0, 26540.0, 41793.0, 17448.0, 10801.0, 47036.0, 12495.0, 22614.0, 20635.0, 29728.0, 19261.0, 16631.0, 33140.0, 13615.0, 10156.0, 10093.0, 10183.0, 11492.0, 10498.0, 5753.171875, 3812.444580078125, 3797.16015625, 3067.353271484375, 2763.39599609375, 2666.3134765625, 2438.07421875, 2369.722412109375, 2198.109375, 1759.785400390625, 1740.4774169921875, 1555.60791015625, 1491.2030029296875, 1451.6981201171875, 1366.1226806640625, 1316.1419677734375, 1199.520751953125, 1180.6846923828125, 1160.9254150390625, 1155.3314208984375, 1094.42138671875, 1047.451416015625, 1041.6494140625, 1026.8861083984375, 1001.5847778320312, 905.7776489257812, 1129.4444580078125, 851.2530517578125, 843.7794799804688, 826.8257446289062, 3462.27392578125, 3154.474609375, 1352.43359375, 16697.3515625, 2018.88330078125, 3065.208984375, 1635.1612548828125, 5444.75146484375, 8681.62890625, 3175.911865234375, 3064.35546875, 3066.049072265625, 7941.76904296875, 1921.2322998046875, 17839.115234375, 4807.09521484375, 6857.0703125, 19519.8828125, 2700.288330078125, 5382.8701171875, 6719.0927734375, 11861.63671875, 10731.162109375, 10105.99609375, 5456.654296875, 13332.4384765625, 22820.984375, 8114.853515625, 6618.0869140625, 6282.88134765625, 4776.30859375, 5960.14794921875, 5521.51318359375, 5613.89501953125, 4443.90966796875, 4238.78271484375, 3680.4111328125, 4174.51123046875, 3820.690185546875, 2813.707763671875, 2650.48779296875, 2533.4326171875, 2342.702392578125, 2151.000244140625, 1996.214111328125, 1950.2320556640625, 1818.3720703125, 3071.94775390625, 1716.0098876953125, 1600.8338623046875, 1690.2359619140625, 1485.104248046875, 1417.73681640625, 1623.582275390625, 1224.4293212890625, 1218.4197998046875, 1125.0985107421875, 1083.2728271484375, 1036.829833984375, 943.3566284179688, 924.5674438476562, 909.6180419921875, 893.7525024414062, 904.5930786132812, 843.9318237304688, 837.2467651367188, 827.456787109375, 803.1441040039062, 783.0263671875, 1792.267578125, 1678.3870849609375, 1490.9698486328125, 1585.605224609375, 1783.9599609375, 1243.814453125, 2337.184326171875, 2481.83837890625, 2339.484130859375, 1459.0419921875, 5102.0, 1778.570068359375, 15507.755859375, 1711.393310546875, 2705.2314453125, 2053.878173828125, 4309.4404296875, 5118.43505859375, 4945.98828125, 8656.0234375, 2166.77978515625, 2528.80712890625, 5786.70068359375, 2444.480712890625, 2286.3857421875, 5786.91845703125, 4091.1064453125, 4260.71923828125, 2304.0810546875, 7017.6640625, 3902.098388671875, 2422.717529296875, 3017.14892578125, 3101.407470703125, 3025.7841796875, 3403.73779296875, 2566.53125, 2971.10888671875, 2770.5341796875, 2513.08349609375, 2796.910888671875, 2716.818359375, 2151.538818359375, 2060.443115234375, 1890.6849365234375, 1652.5233154296875, 1646.2637939453125, 1589.6533203125, 1478.3248291015625, 1313.2666015625, 1295.3155517578125, 1203.132080078125, 1172.2081298828125, 1161.5303955078125, 1110.1492919921875, 1136.2176513671875, 1078.03662109375, 1074.7767333984375, 1056.9903564453125, 911.2240600585938, 903.9830322265625, 973.5465698242188, 885.8792114257812, 820.7559814453125, 792.91748046875, 741.52783203125, 722.2761840820312, 716.2567749023438, 618.4003295898438, 609.8114013671875, 606.9783325195312, 570.1259765625, 2566.400146484375, 988.6117553710938, 1081.77197265625, 793.85791015625, 2640.29833984375, 2258.058837890625, 2806.2431640625, 1046.8984375, 1267.331298828125, 1620.615234375, 3674.52099609375, 3598.944091796875, 11262.15625, 4626.93408203125, 1608.8013916015625, 6372.35546875, 4302.96240234375, 3764.49658203125, 5016.98486328125, 1835.287841796875, 1665.0596923828125, 2830.408203125, 1730.959716796875, 2190.806396484375, 10675.513671875, 4101.8427734375, 2565.235107421875, 4076.9599609375, 4110.57666015625, 6263.76318359375, 5197.28515625, 9593.599609375, 5990.77685546875, 3563.716796875, 6014.4775390625, 3916.363525390625, 4179.515625, 6866.48974609375, 3299.171142578125, 3837.086181640625, 2917.90478515625, 3050.26904296875, 3081.0078125, 3093.6318359375, 3691.63330078125, 3072.17822265625, 3055.251220703125, 3022.325927734375, 3332.87451171875, 2406.4814453125, 2289.456787109375, 2017.9202880859375, 1162.766357421875, 1648.1405029296875, 889.7761840820312, 855.4569091796875, 825.2437744140625, 795.9740600585938, 1532.3338623046875, 716.6674194335938, 667.9186401367188, 649.63623046875, 1264.3546142578125, 615.2680053710938, 611.4344482421875, 593.5234375, 575.6219482421875, 556.2079467773438, 544.7897338867188, 768.337646484375, 477.76788330078125, 492.3726501464844, 419.7061767578125, 412.4087219238281, 382.26690673828125, 376.8172302246094, 376.2298889160156, 359.7763977050781, 7394.18798828125, 970.2372436523438, 614.9373779296875, 396.7705993652344, 970.3148803710938, 908.9986572265625, 926.2353515625, 701.6978149414062, 941.9878540039062, 3183.336181640625, 5806.91845703125, 1896.3697509765625, 2166.560302734375, 1204.55615234375, 1535.57275390625, 1410.030029296875, 4346.35595703125, 1120.076904296875, 2677.371337890625, 1279.9091796875, 4334.3017578125, 3543.09033203125, 1380.9278564453125, 2622.427734375, 2214.078125, 2169.26513671875, 2786.749267578125, 2297.177978515625, 1886.9432373046875, 11212.630859375, 7992.16455078125, 7977.12939453125, 3226.4697265625, 2216.403076171875, 2705.796630859375, 5041.42626953125, 4302.47607421875, 3921.57666015625, 5738.8056640625, 3783.9697265625, 3870.218994140625, 4401.9365234375, 2813.242431640625, 3907.408203125, 2621.263671875, 2521.474609375, 3703.039794921875, 2876.502197265625, 3181.039306640625, 3244.882568359375, 3022.7939453125, 3154.338623046875, 2972.60888671875, 2736.688720703125, 2743.481201171875, 16882.0234375, 5372.58740234375, 4203.0244140625, 3030.344482421875, 2271.234619140625, 1729.1025390625, 1701.2894287109375, 1325.1787109375, 1258.9671630859375, 1184.3365478515625, 986.0577392578125, 902.4835205078125, 893.8759765625, 866.0300903320312, 810.7113647460938, 803.2359008789062, 797.8512573242188, 787.6376953125, 735.8882446289062, 727.9820556640625, 725.6541137695312, 691.0004272460938, 643.8043212890625, 616.123046875, 555.0093383789062, 538.4158325195312, 534.0460815429688, 518.1271362304688, 516.688232421875, 506.8743896484375, 4043.248291015625, 3199.791015625, 2878.243896484375, 1642.8704833984375, 2070.31103515625, 11049.0537109375, 2333.585693359375, 7526.84521484375, 4317.2939453125, 4070.01708984375, 11195.193359375, 1580.63623046875, 2774.7509765625, 1558.38720703125, 1502.537353515625, 2507.460205078125, 13274.7060546875, 2684.521484375, 1673.3096923828125, 2465.908203125, 21264.05859375, 8500.626953125, 11067.283203125, 3947.818115234375, 3837.259033203125, 10368.7470703125, 14271.3017578125, 5664.32568359375, 7162.35693359375, 11053.517578125, 4997.689453125, 5093.29931640625, 6526.7529296875, 4817.97900390625, 3737.6533203125, 5557.30712890625, 6653.060546875, 4717.1552734375, 4284.72705078125, 3578.732666015625, 7999.9072265625, 2958.281005859375, 2381.19482421875, 2273.87109375, 1930.9326171875, 1919.5474853515625, 1842.3990478515625, 1766.386962890625, 1704.76953125, 1550.0350341796875, 1517.640380859375, 1476.667236328125, 1475.4766845703125, 1389.623779296875, 1327.1185302734375, 1269.489990234375, 1249.6099853515625, 1195.0335693359375, 1107.5294189453125, 1245.4281005859375, 1096.10205078125, 1066.0391845703125, 1055.756103515625, 1050.581298828125, 1030.407470703125, 1053.7545166015625, 978.4215698242188, 955.2096557617188, 936.2422485351562, 901.4879150390625, 7749.3671875, 42624.8359375, 4406.72705078125, 28210.630859375, 1724.873291015625, 4638.6328125, 4182.0869140625, 2335.584716796875, 4139.3203125, 3068.972900390625, 3522.073974609375, 2057.774169921875, 1619.479736328125, 2708.888427734375, 6112.142578125, 2773.169189453125, 2715.94677734375, 4965.0732421875, 3243.24609375, 3650.42236328125, 2404.44921875, 2643.786865234375, 4658.0458984375, 4447.7041015625, 2479.888916015625, 2229.925537109375, 2500.881103515625, 2733.400146484375, 3262.073974609375, 2947.876953125, 2746.888916015625, 2654.954345703125, 2454.76611328125, 7339.87939453125, 3194.843505859375, 2848.287353515625, 2584.516357421875, 2557.476318359375, 1995.29638671875, 1902.3485107421875, 1696.677490234375, 1604.53662109375, 1525.816162109375, 1245.9541015625, 1173.9359130859375, 1093.839599609375, 1040.583740234375, 1006.2460327148438, 984.1538696289062, 828.0221557617188, 818.93701171875, 812.4560546875, 806.3001708984375, 755.05322265625, 742.24267578125, 738.205078125, 708.696533203125, 688.774169921875, 651.4395751953125, 648.2598876953125, 602.447021484375, 778.4594116210938, 581.5587158203125, 5399.1875, 648.2286987304688, 831.4701538085938, 2566.1103515625, 1326.9202880859375, 6706.1923828125, 2586.09814453125, 1576.7369384765625, 1327.353515625, 6784.7705078125, 2711.608642578125, 1808.748291015625, 7413.57373046875, 1527.3472900390625, 5931.0693359375, 3823.55224609375, 1961.41357421875, 6487.43017578125, 1815.7265625, 3949.29248046875, 1893.5028076171875, 3595.880126953125, 2598.11767578125, 9062.8271484375, 2282.364013671875, 3156.27783203125, 2222.321533203125, 2925.967529296875, 2741.53857421875, 2343.8017578125, 2537.32275390625, 2318.437744140625, 2671.019775390625, 2144.5185546875, 2375.04833984375, 2286.363037109375, 2245.102783203125, 9235.384765625, 5053.6376953125, 4397.333984375, 3239.961181640625, 2828.432373046875, 2824.34423828125, 2792.24267578125, 2270.32763671875, 2015.000732421875, 1730.9251708984375, 1534.49951171875, 1233.9798583984375, 4900.85302734375, 1072.278564453125, 966.7352905273438, 891.8258666992188, 874.0783081054688, 747.2376098632812, 737.38427734375, 729.1484375, 683.5062255859375, 614.210693359375, 591.9717407226562, 620.790283203125, 582.626220703125, 574.8593139648438, 560.9345092773438, 553.14892578125, 548.3851928710938, 544.6793823242188, 696.8600463867188, 1109.7716064453125, 1451.2894287109375, 1491.780517578125, 15688.5927734375, 1180.5364990234375, 1472.093505859375, 2492.7021484375, 3450.52880859375, 3387.712646484375, 5813.02490234375, 3890.049072265625, 2240.558349609375, 2199.91748046875, 2247.60791015625, 3821.79248046875, 3138.14697265625, 3747.3330078125, 3648.158203125, 4716.7705078125, 7660.6484375, 4967.21044921875, 5220.40283203125, 12082.6025390625, 5484.84326171875, 5492.46875, 5013.6689453125, 4663.37646484375, 3065.49560546875, 4265.26953125, 3642.284912109375, 4179.63134765625, 3361.432861328125, 3031.620849609375, 5318.486328125, 4340.51220703125, 3205.826171875, 2714.334716796875, 2169.3447265625, 2096.35986328125, 1529.132568359375, 1476.933349609375, 1299.89794921875, 1230.720703125, 1180.79931640625, 1052.7989501953125, 1024.4051513671875, 997.7714233398438, 829.5022583007812, 721.7022094726562, 701.9205932617188, 763.6103515625, 652.5636596679688, 630.08251953125, 618.0809326171875, 609.3690795898438, 597.6956176757812, 693.56103515625, 553.729736328125, 536.6419677734375, 537.2457275390625, 533.2201538085938, 553.294677734375, 509.871337890625, 2656.66552734375, 960.4130249023438, 1029.439453125, 1394.22021484375, 723.5115356445312, 8733.333984375, 1184.2069091796875, 1349.328857421875, 1294.828857421875, 936.4166870117188, 1677.43896484375, 2498.1396484375, 1141.1434326171875, 3621.694580078125, 1437.511962890625, 2196.33935546875, 4236.6064453125, 9995.732421875, 2528.878662109375, 3805.27197265625, 1595.2230224609375, 2135.965576171875, 3260.49609375, 2717.386962890625, 5410.34375, 6656.01708984375, 3671.08251953125, 2860.050537109375, 4611.38134765625, 2345.881103515625, 2464.7041015625, 2980.016357421875, 2449.400634765625, 3630.034912109375, 3331.794189453125, 7270.80126953125, 3050.16455078125, 3237.375244140625, 3176.296142578125, 3984.751220703125, 3510.709228515625, 3190.7978515625, 2779.37646484375, 2544.685791015625, 22236.587890625, 12495.0478515625, 10182.447265625, 8855.5810546875, 3379.623779296875, 3047.1298828125, 2870.2158203125, 2857.73388671875, 2408.77099609375, 1857.25390625, 1519.400390625, 1295.2587890625, 1266.99365234375, 1251.0701904296875, 1248.4693603515625, 1235.5072021484375, 1229.7398681640625, 1224.7047119140625, 1215.046630859375, 961.1439819335938, 934.6722412109375, 899.180419921875, 798.142578125, 776.2571411132812, 773.691650390625, 744.554931640625, 731.027099609375, 721.8966064453125, 718.1763916015625, 681.77685546875, 10223.4833984375, 1093.1165771484375, 16890.23046875, 2071.37158203125, 913.8191528320312, 2228.7294921875, 883.3593139648438, 1351.9569091796875, 3418.811767578125, 2219.60693359375, 2541.47119140625, 2122.628662109375, 3947.85888671875, 2349.678466796875, 2308.64501953125, 3878.3515625, 5050.38525390625, 3412.62109375, 5573.67626953125, 1847.5794677734375, 7822.8720703125, 2141.168701171875, 3144.41650390625, 3462.951171875, 3058.8623046875, 2596.39697265625, 2579.759033203125, 2458.0283203125, 2343.769287109375, 2307.22607421875, 10155.763671875, 10092.4072265625, 5922.58935546875, 5321.3134765625, 3429.065185546875, 3217.5595703125, 3069.980712890625, 2475.1142578125, 2131.6142578125, 1833.8619384765625, 1748.5616455078125, 1701.1181640625, 1701.1046142578125, 1516.3587646484375, 1502.977294921875, 1366.509033203125, 1343.324462890625, 1266.2056884765625, 1217.2745361328125, 1203.7791748046875, 1198.2802734375, 1136.200927734375, 1068.9842529296875, 934.2733764648438, 881.9183959960938, 838.1758422851562, 830.5677490234375, 809.2799682617188, 800.0203857421875, 781.5874633789062, 3309.05322265625, 825.3237915039062, 2277.065673828125, 2936.801513671875, 1728.98486328125, 10957.7587890625, 1795.7845458984375, 3628.57861328125, 3662.419921875, 2940.885986328125, 2228.3818359375, 1664.0550537109375, 8548.63671875, 4382.966796875, 4363.80224609375, 3024.614013671875, 2875.056884765625, 6595.01513671875, 2310.342529296875, 9714.2763671875, 3602.765869140625, 2375.301513671875, 2588.572265625, 3438.536376953125, 2785.690185546875, 3062.36669921875, 2958.287841796875, 2890.921630859375, 2589.38916015625, 2701.50146484375, 6396.00439453125, 2633.41015625, 7403.62255859375, 2309.233154296875, 1721.57470703125, 1553.1434326171875, 1514.987060546875, 1323.466064453125, 1176.1632080078125, 1158.850830078125, 1163.3717041015625, 935.9450073242188, 924.890869140625, 895.9036865234375, 841.8739624023438, 816.8941040039062, 3624.337158203125, 796.93115234375, 796.1365966796875, 760.6747436523438, 723.9702758789062, 668.9698486328125, 655.266357421875, 645.9153442382812, 645.3670654296875, 644.6050415039062, 628.5713500976562, 612.9275512695312, 592.36572265625, 581.742919921875, 1776.5677490234375, 1343.2901611328125, 742.64990234375, 989.6707763671875, 5828.52490234375, 4653.1328125, 871.3646240234375, 918.4710083007812, 1415.472900390625, 1484.6558837890625, 5539.96484375, 2280.782958984375, 1375.55078125, 2866.933837890625, 3585.58740234375, 3071.20849609375, 2500.652587890625, 2688.783447265625, 1446.9232177734375, 2527.7958984375, 3111.75341796875, 4191.03955078125, 5588.64697265625, 1788.2445068359375, 2221.754150390625, 2832.29052734375, 2560.01416015625, 1866.7969970703125, 2651.683349609375, 2118.641357421875, 1867.271728515625, 2205.2431640625, 1822.195068359375, 1884.02294921875, 13908.513671875, 7530.91552734375, 5778.0537109375, 4979.78759765625, 4056.68212890625, 3824.061767578125, 2434.064453125, 2111.776611328125, 1677.7705078125, 1648.5823974609375, 1647.43896484375, 1589.4420166015625, 1382.701171875, 1260.8470458984375, 1186.03759765625, 1119.0364990234375, 1013.0408325195312, 1075.2864990234375, 932.9945068359375, 921.4027709960938, 859.7527465820312, 1320.6573486328125, 744.0615234375, 729.0516967773438, 697.4512329101562, 659.6515502929688, 633.64306640625, 625.3783569335938, 595.3905029296875, 585.1288452148438, 1702.551025390625, 7013.99267578125, 938.1180419921875, 863.054443359375, 985.815673828125, 804.2765502929688, 859.3804321289062, 5298.50439453125, 9911.55859375, 5246.69677734375, 12395.8427734375, 6490.115234375, 2729.087890625, 1843.614501953125, 11138.505859375, 2831.849365234375, 1938.4515380859375, 1674.54345703125, 2711.718017578125, 4302.85791015625, 3983.37353515625, 2142.49560546875, 12457.8935546875, 5256.5498046875, 3638.69775390625, 3166.273681640625, 2950.603759765625, 4267.6826171875, 2494.201416015625, 2330.350830078125, 2118.28759765625, 2290.978759765625, 2233.31787109375, 2157.4375, 5094.67724609375, 2640.690673828125, 2195.822265625, 1955.179443359375, 1528.2738037109375, 1477.497314453125, 1418.0546875, 1336.2640380859375, 1206.4873046875, 1084.30322265625, 1017.341064453125, 1017.0065307617188, 1015.4603881835938, 1008.6555786132812, 1014.566650390625, 998.09912109375, 990.8231201171875, 971.4155883789062, 950.4556274414062, 924.5938720703125, 885.5112915039062, 870.2120971679688, 865.4898681640625, 855.0726928710938, 838.0643920898438, 801.0293579101562, 761.3037719726562, 714.9467163085938, 689.426513671875, 670.2225341796875, 1526.5777587890625, 3468.64501953125, 1250.8231201171875, 1171.5565185546875, 1646.1817626953125, 1317.899658203125, 2132.301513671875, 2305.6083984375, 2162.067626953125, 1918.0147705078125, 2375.287841796875, 2295.536376953125, 1913.7740478515625, 1492.050537109375, 1995.3497314453125, 1484.74560546875, 2687.278564453125, 1994.6170654296875, 1267.33203125, 1702.31396484375, 4432.533203125, 1741.7816162109375, 4633.7509765625, 1879.6634521484375, 2197.525634765625, 2073.649658203125, 2224.22216796875, 2237.31298828125, 2222.224609375, 1656.105224609375, 1626.8321533203125, 2912.453125, 2656.57080078125, 2493.552001953125, 2387.33642578125, 1870.70751953125, 1833.1131591796875, 1820.1947021484375, 1732.4617919921875, 1601.918212890625, 1498.6656494140625, 2173.937744140625, 1279.0780029296875, 1278.756103515625, 1236.52197265625, 1144.6429443359375, 1117.3712158203125, 1098.2904052734375, 1074.659912109375, 1019.8223266601562, 1005.1411743164062, 1002.0696411132812, 1052.390380859375, 951.8186645507812, 902.122314453125, 860.693359375, 755.6473388671875, 747.5411987304688, 735.4223022460938, 731.4685668945312, 714.0343627929688, 5706.26220703125, 1203.900146484375, 4827.4150390625, 6595.13525390625, 5813.3662109375, 5116.9697265625, 2867.95703125, 3274.63623046875, 2245.12939453125, 4350.05126953125, 3461.47216796875, 3932.617431640625, 2693.28125, 1589.0877685546875, 4540.43310546875, 1433.804443359375, 2688.9765625, 3450.936767578125, 1743.5845947265625, 1995.032470703125, 2682.0615234375, 3209.180908203125, 2189.568603515625, 2232.108154296875, 2363.0869140625, 1970.3330078125, 2191.43896484375, 1958.9083251953125, 4944.541015625, 3714.261962890625, 3520.317626953125, 3192.23291015625, 2698.713134765625, 2361.296142578125, 2017.341064453125, 1953.857666015625, 1896.5792236328125, 1649.012939453125, 1579.760498046875, 1502.62158203125, 1493.7139892578125, 1375.450439453125, 1307.720703125, 1294.289306640625, 1234.244140625, 1721.0257568359375, 1148.1041259765625, 1027.0716552734375, 1005.5383911132812, 919.6778564453125, 914.2698364257812, 894.1505126953125, 852.4609985351562, 767.9692993164062, 752.9500122070312, 746.0157470703125, 742.1405639648438, 733.0206298828125, 1661.3277587890625, 1898.221435546875, 1356.3212890625, 1968.7884521484375, 3507.384033203125, 1704.744140625, 2426.707275390625, 1045.6912841796875, 2981.46142578125, 1263.5008544921875, 1552.29248046875, 2546.686767578125, 12330.2978515625, 2432.105712890625, 2667.54931640625, 3468.984375, 2117.205810546875, 2251.92236328125, 3017.75, 2269.05322265625, 1885.29443359375, 2164.09716796875, 2524.50830078125, 1971.632568359375, 2167.434814453125, 1964.5340576171875, 1942.345947265625, 6342.50537109375, 3594.654052734375, 3048.072265625, 2532.837158203125, 2240.974365234375, 1988.325927734375, 1839.031982421875, 1742.8673095703125, 1722.243408203125, 1702.26318359375, 1516.6605224609375, 1400.296630859375, 1373.7593994140625, 1359.449951171875, 1331.027099609375, 1231.623779296875, 1140.3135986328125, 1091.9793701171875, 1059.8477783203125, 971.4287109375, 919.5368041992188, 898.9860229492188, 834.0969848632812, 782.5908203125, 772.199951171875, 745.4542236328125, 1349.8515625, 717.0640869140625, 729.4637451171875, 711.8839721679688, 2782.532470703125, 5773.3935546875, 9369.513671875, 3333.639892578125, 7033.99560546875, 1088.7525634765625, 4712.40234375, 5112.95849609375, 3994.714599609375, 1973.4345703125, 3289.51611328125, 2511.138916015625, 2229.005615234375, 1801.1409912109375, 2677.3232421875, 3398.5166015625, 7153.60546875, 2100.483154296875, 1978.7479248046875, 2917.069580078125, 2545.6962890625, 2193.87890625, 2268.862548828125, 2798.451171875, 3148.882568359375, 2064.51171875, 2242.40869140625, 2113.3173828125, 2105.296875, 5855.34033203125, 3011.8916015625, 2703.634033203125, 2601.39208984375, 2321.5029296875, 1977.621826171875, 1663.2249755859375, 1642.741455078125, 1520.83251953125, 1288.0240478515625, 1267.9300537109375, 1198.4599609375, 1118.7938232421875, 1094.7041015625, 1065.5333251953125, 772.6441040039062, 692.965087890625, 651.823486328125, 641.9796752929688, 612.0830078125, 603.5670776367188, 595.28076171875, 593.3081665039062, 591.5469360351562, 587.8167724609375, 577.2079467773438, 563.6820068359375, 553.3836059570312, 549.0792846679688, 545.7142333984375, 548.8603515625, 598.4520874023438, 860.4432373046875, 869.0347290039062, 4234.8076171875, 1239.611572265625, 1097.243896484375, 3274.149169921875, 895.4691162109375, 2353.8828125, 2922.882568359375, 1104.4814453125, 1256.6705322265625, 5759.271484375, 6008.3271484375, 4231.908203125, 1681.3096923828125, 3167.25244140625, 2914.447021484375, 1625.6129150390625, 2598.95849609375, 2404.99267578125, 4742.12939453125, 1651.8248291015625, 2605.504150390625, 1466.8994140625, 2633.218994140625, 2924.530517578125, 2278.10888671875, 1793.7353515625, 1711.720458984375, 2468.2294921875, 1948.2535400390625, 1832.0301513671875, 1714.9486083984375, 1679.97265625, 5883.8056640625, 5544.56787109375, 4801.390625, 4092.85888671875, 4056.166015625, 3701.888671875, 2409.700927734375, 2245.774169921875, 1825.6728515625, 1819.19287109375, 1645.35693359375, 1589.440673828125, 1496.344970703125, 1348.2991943359375, 1298.1357421875, 1202.0079345703125, 1171.3231201171875, 1146.8912353515625, 1092.0709228515625, 1036.493896484375, 996.6705322265625, 940.5105590820312, 905.05029296875, 864.085693359375, 862.9800415039062, 789.7698974609375, 767.2026977539062, 713.9244384765625, 688.8218383789062, 627.7020263671875, 3550.480224609375, 6956.38134765625, 2408.30126953125, 2805.98046875, 3832.94482421875, 3196.7939453125, 2349.6787109375, 6046.90478515625, 4544.4482421875, 3014.2275390625, 2217.373046875, 2215.78515625, 3674.257080078125, 5323.3603515625, 3780.931640625, 4825.69580078125, 3699.724609375, 2925.867919921875, 4356.08837890625, 3186.066162109375, 3167.958740234375, 4092.853515625, 5302.99951171875, 2501.098388671875, 2992.77587890625, 10800.1953125, 4023.387939453125, 2624.059814453125, 2139.2421875, 1823.7684326171875, 1705.60546875, 1685.6934814453125, 1457.822265625, 1168.71142578125, 981.4451904296875, 954.4807739257812, 812.744384765625, 812.1102294921875, 791.4470825195312, 776.8203125, 620.3499145507812, 616.3988647460938, 589.6669921875, 574.4613037109375, 573.9987182617188, 563.7550048828125, 560.842041015625, 551.832275390625, 536.96728515625, 527.7130737304688, 511.940185546875, 507.9078369140625, 507.524169921875, 501.88824462890625, 478.52471923828125, 594.3367309570312, 4736.7373046875, 1919.16015625, 697.702392578125, 3521.995361328125, 5902.30517578125, 4152.3603515625, 851.376220703125, 1866.8685302734375, 3524.289306640625, 822.7564697265625, 3225.8876953125, 3583.42236328125, 2737.90576171875, 4557.310546875, 3309.976806640625, 4637.125, 3771.85400390625, 1381.099853515625, 2571.399658203125, 2120.49755859375, 1532.947265625, 2352.4599609375, 2092.6708984375, 1680.1976318359375, 2546.216552734375, 1775.7947998046875, 1573.663818359375, 1559.4603271484375], \"Term\": [\"apple\", \"watch\", \"kim\", \"al\", \"video\", \"isi\", \"north\", \"police\", \"foley\", \"shot\", \"brown\", \"said\", \"islamic\", \"state\", \"border\", \"ebola\", \"u\", \"jong\", \"syria\", \"american\", \"man\", \"iraq\", \"girl\", \"group\", \"officer\", \"haram\", \"boko\", \"korea\", \"job\", \"un\", \"hunter\", \"godane\", \"jordanian\", \"mueller\", \"drone\", \"abdullah\", \"homeland\", \"dhs\", \"coalition\", \"raqqa\", \"somali\", \"republican\", \"missile\", \"susteren\", \"observatory\", \"congressman\", \"beirut\", \"chlorine\", \"arizona\", \"kirby\", \"abdi\", \"sunni\", \"kayla\", \"trained\", \"mogadishu\", \"greta\", \"rank\", \"ansar\", \"plotting\", \"explosive\", \"pilot\", \"jordan\", \"insurgent\", \"border\", \"airstrike\", \"pentagon\", \"apprehended\", \"weapon\", \"terrorist\", \"patrol\", \"plane\", \"southern\", \"fighter\", \"civilian\", \"isi\", \"strike\", \"military\", \"u\", \"region\", \"intelligence\", \"force\", \"group\", \"al\", \"islamic\", \"syrian\", \"state\", \"said\", \"militant\", \"killed\", \"attack\", \"air\", \"syria\", \"american\", \"official\", \"city\", \"security\", \"used\", \"could\", \"iraq\", \"wood\", \"rogen\", \"sony\", \"bank\", \"island\", \"culkin\", \"retail\", \"wozniak\", \"percent\", \"needed\", \"macaulay\", \"completely\", \"tiger\", \"hank\", \"seeking\", \"seth\", \"hole\", \"abandoned\", \"pregnancy\", \"dark\", \"factory\", \"guilty\", \"knocked\", \"2005\", \"chamber\", \"trading\", \"warner\", \"jessica\", \"vladi\", \"noting\", \"mid\", \"various\", \"alone\", \"stated\", \"join\", \"book\", \"eye\", \"band\", \"injury\", \"career\", \"work\", \"2010\", \"year\", \"batman\", \"wanted\", \"great\", \"home\", \"still\", \"found\", \"time\", \"research\", \"become\", \"first\", \"scene\", \"common\", \"also\", \"even\", \"day\", \"age\", \"said\", \"last\", \"although\", \"well\", \"made\", \"since\", \"new\", \"thursday\", \"month\", \"back\", \"put\", \"report\", \"one\", \"nelson\", \"spice\", \"pumpkin\", \"hurt\", \"condom\", \"panel\", \"durex\", \"f\", \"follower\", \"pressure\", \"credit\", \"entering\", \"actively\", \"ben\", \"sharing\", \"abrams\", \"text\", \"rahim\", \"esquire\", \"theory\", \"conspiracy\", \"purpose\", \"dera\", \"pour\", \"singh\", \"flavored\", \"ram\", \"reveals\", \"zero\", \"plot\", \"speculation\", \"400\", \"au\", \"arrival\", \"pic\", \"domestic\", \"r\", \"numerous\", \"et\", \"oct\", \"king\", \"false\", \"twitter\", \"internet\", \"officially\", \"com\", \"texas\", \"secret\", \"rumor\", \"espn\", \"headline\", \"update\", \"future\", \"content\", \"news\", \"6\", \"january\", \"social\", \"article\", \"claim\", \"post\", \"report\", \"medium\", \"fact\", \"story\", \"today\", \"2014\", \"people\", \"image\", \"death\", \"true\", \"2015\", \"night\", \"information\", \"one\", \"user\", \"called\", \"photo\", \"tape\", \"nasa\", \"pm\", \"gift\", \"suggestion\", \"streaming\", \"explanation\", \"noise\", \"encounter\", \"messaging\", \"affair\", \"bright\", \"mortgage\", \"bogus\", \"thus\", \"calm\", \"rehab\", \"texting\", \"scenario\", \"advancing\", \"imagine\", \"effectively\", \"capacity\", \"huffington\", \"nowhere\", \"confirming\", \"confirms\", \"w\", \"brush\", \"aiming\", \"cnn\", \"updated\", \"darkness\", \"negative\", \"drawn\", \"tom\", \"purported\", \"certificate\", \"convinced\", \"impact\", \"event\", \"type\", \"paid\", \"complete\", \"light\", \"mention\", \"car\", \"evening\", \"paul\", \"joe\", \"hour\", \"working\", \"planning\", \"previously\", \"sound\", \"space\", \"looking\", \"november\", \"teen\", \"video\", \"say\", \"time\", \"12\", \"evidence\", \"account\", \"day\", \"made\", \"back\", \"also\", \"may\", \"claim\", \"news\", \"six\", \"could\", \"message\", \"appears\", \"u\", \"show\", \"like\", \"would\", \"last\", \"one\", \"first\", \"saying\", \"know\", \"foley\", \"somers\", \"sotloff\", \"steven\", \"wright\", \"executioner\", \"photojournalist\", \"freelance\", \"yemeni\", \"globalpost\", \"kneeling\", \"captor\", \"aqap\", \"aggression\", \"diane\", \"deepest\", \"sana\", \"zone\", \"gruesome\", \"appalled\", \"jumpsuit\", \"mourn\", \"beside\", \"bloodshed\", \"ansi\", \"announcing\", \"irbil\", \"hampshire\", \"hammond\", \"criminality\", \"haines\", \"yemen\", \"execution\", \"cameron\", \"luke\", \"journalist\", \"barack\", \"james\", \"beheading\", \"murder\", \"obama\", \"france\", \"captive\", \"cage\", \"innocent\", \"kill\", \"american\", \"killer\", \"accent\", \"masked\", \"video\", \"family\", \"syria\", \"2012\", \"david\", \"islamic\", \"u\", \"british\", \"iraq\", \"state\", \"president\", \"released\", \"militant\", \"statement\", \"hostage\", \"isi\", \"said\", \"group\", \"man\", \"life\", \"iphone\", \"apps\", \"steel\", \"cable\", \"pricing\", \"battery\", \"macbook\", \"smartwatch\", \"range\", \"stainless\", \"samsung\", \"variant\", \"wearable\", \"consumer\", \"chip\", \"developer\", \"munster\", \"karat\", \"priced\", \"seam\", \"aluminum\", \"9to5mac\", \"sapphire\", \"strap\", \"350\", \"mm\", \"arcuri\", \"349\", \"999\", \"igen\", \"gold\", \"apple\", \"edition\", \"watch\", \"option\", \"device\", \"price\", \"sport\", \"model\", \"cost\", \"launch\", \"per\", \"expensive\", \"feature\", \"000\", \"version\", \"app\", \"company\", \"2015\", \"user\", \"product\", \"5\", \"new\", \"would\", \"store\", \"4\", \"end\", \"case\", \"also\", \"could\", \"report\", \"according\", \"much\", \"emwazi\", \"mexico\", \"bary\", \"abdel\", \"terrorism\", \"teacher\", \"mi5\", \"qureshi\", \"bin\", \"kuwait\", \"sarajevo\", \"bosnia\", \"majed\", \"westminster\", \"graf\", \"iguala\", \"tanzania\", \"flown\", \"guerrero\", \"underage\", \"babici\", \"educational\", \"grave\", \"goto\", \"egyptian\", \"reproductive\", \"metropolitan\", \"nenad\", \"bus\", \"kenji\", \"jihadi\", \"vandalism\", \"german\", \"l\", \"alan\", \"london\", \"mass\", \"accused\", \"mexican\", \"john\", \"identity\", \"britain\", \"mr\", \"prison\", \"british\", \"hostage\", \"mohammed\", \"police\", \"sex\", \"believed\", \"crime\", \"known\", \"school\", \"said\", \"west\", \"name\", \"five\", \"security\", \"found\", \"child\", \"girl\", \"later\", \"official\", \"washington\", \"year\", \"one\", \"group\", \"baghdadi\", \"rosenberg\", \"lebanese\", \"bakr\", \"israeli\", \"dulaimi\", \"israel\", \"lebanon\", \"rescue\", \"dna\", \"nusra\", \"detainee\", \"abu\", \"proclaimed\", \"saja\", \"recovered\", \"gaza\", \"ypg\", \"unverified\", \"crossed\", \"caliph\", \"warren\", \"hamid\", \"guantanamo\", \"mtv\", \"zeid\", \"graham\", \"useful\", \"affiliate\", \"abou\", \"qatar\", \"supporter\", \"gill\", \"recruit\", \"al\", \"active\", \"command\", \"capture\", \"wife\", \"student\", \"leader\", \"captured\", \"prisoner\", \"fight\", \"ministry\", \"son\", \"kurdish\", \"iraqi\", \"child\", \"woman\", \"state\", \"iraq\", \"syria\", \"said\", \"islamic\", \"isi\", \"group\", \"official\", \"syrian\", \"report\", \"reported\", \"year\", \"told\", \"source\", \"spider\", \"hair\", \"skin\", \"mcdonald\", \"burger\", \"girlfriend\", \"dylan\", \"bali\", \"lego\", \"fever\", \"trail\", \"tropical\", \"fast\", \"burrowed\", \"insect\", \"nice\", \"ok\", \"handle\", \"cc\", \"mouth\", \"abdomen\", \"rob\", \"bite\", \"behaviour\", \"violated\", \"jacket\", \"soil\", \"spends\", \"portion\", \"mite\", \"j\", \"noticed\", \"cool\", \"stomach\", \"dating\", \"thomas\", \"suit\", \"australian\", \"science\", \"dr\", \"contacted\", \"feel\", \"unusual\", \"university\", \"whatever\", \"kind\", \"something\", \"man\", \"started\", \"never\", \"chinese\", \"sure\", \"thing\", \"lot\", \"like\", \"told\", \"way\", \"thought\", \"day\", \"really\", \"food\", \"think\", \"doctor\", \"old\", \"get\", \"said\", \"going\", \"friend\", \"back\", \"year\", \"would\", \"one\", \"say\", \"people\", \"kim\", \"jong\", \"korea\", \"korean\", \"pyongyang\", \"il\", \"yo\", \"ankle\", \"india\", \"supreme\", \"dictator\", \"ill\", \"overweight\", \"gout\", \"estate\", \"bureau\", \"seoul\", \"assembly\", \"madden\", \"fractured\", \"kumar\", \"hwang\", \"independence\", \"whisky\", \"nkis\", \"suresh\", \"sung\", \"nikolaev\", \"bishop\", \"recovering\", \"un\", \"elite\", \"north\", \"weight\", \"maintained\", \"absence\", \"raped\", \"pain\", \"party\", \"nun\", \"scotland\", \"restaurant\", \"south\", \"sister\", \"condition\", \"public\", \"leader\", \"health\", \"official\", \"leadership\", \"said\", \"medical\", \"source\", \"state\", \"people\", \"since\", \"government\", \"reported\", \"would\", \"report\", \"haram\", \"boko\", \"nigerian\", \"nigeria\", \"castro\", \"ceasefire\", \"shekau\", \"commercial\", \"chibok\", \"olsen\", \"chad\", \"jetliner\", \"fidel\", \"agreement\", \"cease\", \"plant\", \"airliner\", \"ahmadu\", \"abubakar\", \"truce\", \"benghazi\", \"2001\", \"hassan\", \"suspended\", \"havana\", \"dan\", \"presidential\", \"goodluck\", \"bringbackourgirls\", \"airbus\", \"libyan\", \"suspension\", \"tripoli\", \"schoolgirl\", \"cuba\", \"girl\", \"jonathan\", \"aircraft\", \"libya\", \"islamist\", \"tour\", \"agreed\", \"government\", \"11\", \"release\", \"kidnapped\", \"announced\", \"group\", \"200\", \"said\", \"attack\", \"deal\", \"friday\", \"leader\", \"president\", \"month\", \"official\", \"report\", \"since\", \"would\", \"lin\", \"paler\", \"comcast\", \"conal\", \"buy\", \"rourke\", \"liquor\", \"kadalim\", \"fatwa\", \"cook\", \"snowman\", \"michelle\", \"purchase\", \"taibbi\", \"ebay\", \"donation\", \"homeless\", \"55\", \"employer\", \"prankster\", \"fruit\", \"respect\", \"vocativ\", \"experiment\", \"secretly\", \"beggar\", \"controller\", \"anywhere\", \"auction\", \"mom\", \"josh\", \"prank\", \"bos\", \"leaked\", \"customer\", \"money\", \"fee\", \"pulling\", \"complaint\", \"partner\", \"million\", \"employee\", \"dollar\", \"saudi\", \"store\", \"youtube\", \"islam\", \"100\", \"park\", \"phone\", \"street\", \"company\", \"video\", \"sell\", \"6\", \"service\", \"get\", \"issue\", \"people\", \"000\", \"building\", \"would\", \"call\", \"say\", \"brown\", \"wilson\", \"pause\", \"ferguson\", \"attorney\", \"blumenthal\", \"gunshot\", \"tor\", \"louis\", \"darren\", \"autopsy\", \"chat\", \"lopa\", \"missouri\", \"lemon\", \"sniper\", \"volley\", \"theft\", \"demonstrator\", \"client\", \"browser\", \"mayor\", \"dorian\", \"deepdotweb\", \"exit\", \"tribunal\", \"transpired\", \"relevance\", \"exchanged\", \"florissant\", \"glide\", \"audio\", \"commissioner\", \"brooklyn\", \"blasio\", \"constantine\", \"bratton\", \"recording\", \"officer\", \"fired\", \"shot\", \"shooting\", \"marijuana\", \"unarmed\", \"police\", \"johnson\", \"st\", \"gunfire\", \"fbi\", \"michael\", \"heard\", \"court\", \"said\", \"man\", \"friend\", \"case\", \"monday\", \"time\", \"six\", \"9\", \"arrest\", \"least\", \"told\", \"tuesday\", \"smith\", \"fish\", \"catfish\", \"afghanistan\", \"dinner\", \"marine\", \"palace\", \"twin\", \"mushroom\", \"ferrari\", \"vega\", \"helicopter\", \"land\", \"po\", \"remark\", \"bay\", \"wels\", \"meter\", \"specie\", \"shore\", \"lucky\", \"45\", \"river\", \"diagnosed\", \"joy\", \"helmet\", \"mgm\", \"shane\", \"130\", \"yeti\", \"mall\", \"patient\", \"billion\", \"grenade\", \"taliban\", \"garden\", \"christmas\", \"bill\", \"300\", \"19\", \"14\", \"weekend\", \"church\", \"riquelme\", \"la\", \"creature\", \"close\", \"footage\", \"meal\", \"water\", \"one\", \"result\", \"said\", \"big\", \"000\", \"show\", \"new\", \"year\", \"video\", \"caught\", \"medium\", \"owner\", \"catholic\", \"priest\", \"neal\", \"male\", \"v\", \"pet\", \"ilic\", \"superman\", \"holy\", \"heaven\", \"\\u00e0\", \"une\", \"scar\", \"sad\", \"medic\", \"author\", \"wonderful\", \"vatican\", \"gender\", \"est\", \"roman\", \"oliver\", \"goldfish\", \"cesar\", \"razor\", \"cruel\", \"perfectly\", \"macedonian\", \"micheal\", \"animal\", \"cleric\", \"boy\", \"de\", \"god\", \"dog\", \"pope\", \"penis\", \"francis\", \"le\", \"mother\", \"father\", \"heart\", \"rushed\", \"hospital\", \"belonging\", \"died\", \"old\", \"female\", \"doctor\", \"woman\", \"would\", \"son\", \"life\", \"story\", \"operation\", \"year\", \"man\", \"meteorite\", \"asteroid\", \"kai\", \"crater\", \"managua\", \"nicaraguan\", \"nikolai\", \"sky\", \"nicaragua\", \"sgt\", \"spca\", \"magnet\", \"attract\", \"oberholtzer\", \"suitcase\", \"rc\", \"fireball\", \"object\", \"classmate\", \"developing\", \"kryaglyachenko\", \"chicken\", \"kfc\", \"tan\", \"superpower\", \"planet\", \"spoon\", \"cooke\", \"extensive\", \"magneto\", \"wide\", \"millan\", \"wave\", \"truck\", \"earth\", \"scientist\", \"glass\", \"welfare\", \"station\", \"blast\", \"scottish\", \"airport\", \"said\", \"foot\", \"near\", \"people\", \"capital\", \"local\", \"would\", \"left\", \"sunday\", \"found\", \"one\", \"want\", \"could\", \"reported\", \"told\", \"bale\", \"sorkin\", \"rat\", \"vogue\", \"anna\", \"wintour\", \"aaron\", \"biopic\", \"boyle\", \"delight\", \"danny\", \"biography\", \"walter\", \"capsule\", \"isaacson\", \"directed\", \"hip\", \"hop\", \"sugarhill\", \"oscar\", \"infestation\", \"tower\", \"dicaprio\", \"ashton\", \"rodent\", \"kutcher\", \"board\", \"gee\", \"folk\", \"leonardo\", \"amazon\", \"steve\", \"job\", \"google\", \"office\", \"winning\", \"actor\", \"film\", \"movie\", \"founder\", \"play\", \"rapper\", \"project\", \"variety\", \"christian\", \"role\", \"new\", \"song\", \"magazine\", \"york\", \"co\", \"box\", \"big\", \"one\", \"said\", \"talk\", \"according\", \"part\", \"source\", \"hbo\", \"chandler\", \"detroit\", \"phelps\", \"batmobile\", \"snow\", \"cctv\", \"williams\", \"seidel\", \"jess\", \"disney\", \"teletubbies\", \"snyder\", \"putin\", \"macklemorejoinedisis\", \"macklemore\", \"netflix\", \"holt\", \"carlisle\", \"bird\", \"anchor\", \"cctvnews\", \"swimmer\", \"sneeze\", \"lianne\", \"ikwiz\", \"satire\", \"sneezed\", \"sneezing\", \"cn\", \"foxnewspress\", \"genitalia\", \"brian\", \"pa\", \"hoax\", \"satirical\", \"subscription\", \"fake\", \"edward\", \"english\", \"star\", \"episode\", \"supported\", \"name\", \"story\", \"site\", \"tweet\", \"article\", \"website\", \"nbc\", \"facebook\", \"tv\", \"news\", \"game\", \"woman\", \"viral\", \"police\", \"one\", \"service\", \"student\", \"picture\", \"said\", \"first\", \"like\", \"war\", \"film\", \"canadian\", \"vickers\", \"ottawa\", \"memorial\", \"bibeau\", \"zehaf\", \"gonzalez\", \"sergeant\", \"harper\", \"campus\", \"fence\", \"robot\", \"cirillo\", \"rcmp\", \"stephen\", \"caucus\", \"rifle\", \"alarm\", \"nathan\", \"entrance\", \"intruder\", \"sensor\", \"quebec\", \"shooter\", \"blue\", \"montreal\", \"lockdown\", \"library\", \"ceremonial\", \"pierson\", \"guard\", \"parliament\", \"mp\", \"kevin\", \"gunman\", \"hill\", \"canada\", \"house\", \"soldier\", \"arm\", \"room\", \"door\", \"building\", \"shot\", \"war\", \"security\", \"shooting\", \"incident\", \"service\", \"inside\", \"wednesday\", \"police\", \"said\", \"national\", \"man\", \"ebola\", \"virus\", \"symptom\", \"mashable\", \"icloud\", \"scorpion\", \"setting\", \"kansa\", \"reset\", \"deleted\", \"infection\", \"contracted\", \"cdc\", \"feig\", \"outbreak\", \"epidemic\", \"quarantined\", \"tunisia\", \"vomiting\", \"incinerated\", \"infected\", \"christy\", \"louise\", \"medicine\", \"bug\", \"purdon\", \"hamele\", \"sabah\", \"diarrhea\", \"malaria\", \"frisco\", \"banksy\", \"artist\", \"biological\", \"disease\", \"mosul\", \"health\", \"deadly\", \"africa\", \"hospital\", \"dallas\", \"case\", \"city\", \"iraqi\", \"isi\", \"iraq\", \"report\", \"official\", \"document\", \"reported\", \"country\", \"organization\", \"militant\", \"medium\", \"area\", \"said\", \"source\", \"world\", \"told\"], \"Total\": [44046.0, 30443.0, 22237.0, 28784.0, 46117.0, 34001.0, 20626.0, 24472.0, 16882.0, 17941.0, 13909.0, 130181.0, 26540.0, 41793.0, 17448.0, 10801.0, 47036.0, 12495.0, 22614.0, 20635.0, 29728.0, 19261.0, 16631.0, 33140.0, 13615.0, 10156.0, 10093.0, 10183.0, 11492.0, 10498.0, 5754.12109375, 3813.39306640625, 3798.108642578125, 3068.3017578125, 2764.344482421875, 2667.261962890625, 2439.022705078125, 2370.6708984375, 2199.057861328125, 1760.7342529296875, 1741.4266357421875, 1556.5567626953125, 1492.15185546875, 1452.64697265625, 1367.071533203125, 1317.0908203125, 1200.4696044921875, 1181.633544921875, 1161.8743896484375, 1156.2802734375, 1095.3702392578125, 1048.4002685546875, 1042.5982666015625, 1027.8349609375, 1002.53369140625, 906.7265625, 1130.6771240234375, 852.2019653320312, 844.7283935546875, 827.774658203125, 3471.622802734375, 3160.98291015625, 1359.90869140625, 17448.169921875, 2054.51953125, 3379.995361328125, 1723.8365478515625, 6895.615234375, 11890.5263671875, 3755.806884765625, 3660.16748046875, 3675.534912109375, 11753.6708984375, 2127.640380859375, 34001.7734375, 6889.9111328125, 11623.98046875, 47036.28125, 3495.13427734375, 9659.6513671875, 13905.9716796875, 33140.10546875, 28784.509765625, 26540.74609375, 10220.5146484375, 41793.4140625, 130181.578125, 21492.875, 16109.806640625, 15911.1982421875, 9760.048828125, 22614.642578125, 20635.501953125, 30180.951171875, 16386.232421875, 16541.921875, 9908.525390625, 26659.08203125, 19261.02734375, 2814.659423828125, 2651.438720703125, 2534.383544921875, 2343.6533203125, 2151.951171875, 1997.1663818359375, 1951.1834716796875, 1819.323486328125, 3073.603515625, 1716.9981689453125, 1601.7852783203125, 1691.271728515625, 1486.0556640625, 1418.688232421875, 1624.70166015625, 1225.3807373046875, 1219.3712158203125, 1126.050537109375, 1084.2242431640625, 1037.7874755859375, 944.3150634765625, 925.5188598632812, 910.5762939453125, 894.7040405273438, 905.5740356445312, 844.8832397460938, 838.1981811523438, 828.408203125, 804.0955200195312, 783.977783203125, 1815.8509521484375, 1709.260986328125, 1533.2420654296875, 1645.0269775390625, 1890.3310546875, 1296.2843017578125, 2725.955078125, 2927.6611328125, 2749.47802734375, 1607.2059326171875, 8499.2958984375, 2129.177734375, 43887.26953125, 2020.4703369140625, 3876.212158203125, 2719.3544921875, 8710.671875, 12525.068359375, 12955.2158203125, 35827.9765625, 3090.315673828125, 4324.46044921875, 24645.439453125, 4346.21337890625, 3738.900390625, 37042.64453125, 16184.595703125, 20992.34765625, 3847.4619140625, 130181.578125, 22929.791015625, 4708.11328125, 11366.2041015625, 15897.2060546875, 15650.361328125, 28813.880859375, 6923.646484375, 16636.501953125, 14271.9541015625, 7279.23388671875, 41320.70703125, 42070.61328125, 2152.48876953125, 2061.39306640625, 1891.63525390625, 1653.4736328125, 1647.214111328125, 1590.6036376953125, 1479.275146484375, 1314.2181396484375, 1296.265869140625, 1204.0830078125, 1173.158447265625, 1162.480712890625, 1111.099609375, 1137.2069091796875, 1078.9869384765625, 1075.72705078125, 1057.940673828125, 912.17431640625, 904.9332885742188, 974.5701293945312, 886.8294677734375, 821.7152099609375, 793.8677368164062, 742.4780883789062, 723.2264404296875, 717.20703125, 619.3505859375, 610.7616577148438, 607.9286499023438, 571.0762329101562, 2572.590576171875, 991.1093139648438, 1086.546630859375, 795.3309936523438, 2705.195068359375, 2321.794189453125, 2940.1376953125, 1059.673095703125, 1298.56201171875, 1690.5440673828125, 4069.953369140625, 3986.02783203125, 14052.0712890625, 5586.64013671875, 1713.3828125, 8193.40625, 5455.466796875, 4752.56103515625, 6945.85546875, 2060.657470703125, 1892.2220458984375, 3847.616455078125, 2055.892578125, 2916.02783203125, 30888.177734375, 7723.02880859375, 3812.361083984375, 8461.380859375, 8849.4033203125, 18269.505859375, 13646.2080078125, 41320.70703125, 19338.23046875, 7420.01806640625, 20749.505859375, 9038.94140625, 10536.6962890625, 33503.32421875, 7405.24072265625, 11934.560546875, 5535.6689453125, 6817.548828125, 7067.453125, 8865.0185546875, 42070.61328125, 9344.5302734375, 9082.111328125, 12599.9677734375, 3333.8251953125, 2407.43212890625, 2290.465576171875, 2018.8714599609375, 1163.7684326171875, 1649.6639404296875, 890.727294921875, 856.411376953125, 826.19482421875, 796.92529296875, 1534.2967529296875, 717.6184692382812, 668.8696899414062, 650.5872802734375, 1266.285888671875, 616.2190551757812, 612.385498046875, 594.4744873046875, 576.5730590820312, 557.1653442382812, 545.7408447265625, 769.7650756835938, 478.7814025878906, 493.4530944824219, 420.6575927734375, 413.3598327636719, 383.218017578125, 377.7683410644531, 377.18109130859375, 360.72760009765625, 7427.0107421875, 979.044189453125, 617.7070922851562, 397.8766174316406, 984.258056640625, 923.3741455078125, 941.8178100585938, 710.0853881835938, 966.3801879882812, 3592.929443359375, 7450.50048828125, 2154.060302734375, 2529.827880859375, 1344.322265625, 1787.29443359375, 1619.3079833984375, 6238.744140625, 1246.7694091796875, 3599.086181640625, 1498.7684326171875, 7418.03662109375, 5760.74365234375, 1685.9461669921875, 4165.67822265625, 3291.506103515625, 3199.030029296875, 4657.84033203125, 3630.34912109375, 2709.388671875, 46117.76171875, 30223.74609375, 35827.9765625, 7466.8330078125, 3910.13916015625, 6086.58056640625, 20992.34765625, 15897.2060546875, 14271.9541015625, 37042.64453125, 16188.541015625, 18269.505859375, 30888.177734375, 8183.93115234375, 26659.08203125, 6643.6220703125, 5808.91162109375, 47036.28125, 12082.7060546875, 21560.8359375, 36286.5546875, 22929.791015625, 42070.61328125, 24645.439453125, 9518.021484375, 11553.9560546875, 16882.962890625, 5373.52783203125, 4203.96484375, 3031.284423828125, 2272.17431640625, 1730.042724609375, 1702.2296142578125, 1326.118896484375, 1259.9088134765625, 1185.2767333984375, 986.997802734375, 903.4239501953125, 894.8302001953125, 866.9701538085938, 811.6514282226562, 804.1759643554688, 798.7913818359375, 788.5777587890625, 736.8283081054688, 728.922119140625, 726.5941772460938, 691.9404907226562, 644.744384765625, 617.0631103515625, 555.949462890625, 539.3558959960938, 534.9861450195312, 519.0671997070312, 517.6282958984375, 507.81451416015625, 4057.74658203125, 3219.400390625, 2897.5908203125, 1649.1551513671875, 2100.130126953125, 11692.7607421875, 2396.19384765625, 8006.35205078125, 4572.36767578125, 4308.10205078125, 12800.07421875, 1639.57666015625, 2979.8251953125, 1618.3753662109375, 1562.127197265625, 2863.01171875, 20635.501953125, 3227.118408203125, 1872.3365478515625, 3079.34228515625, 46117.76171875, 15660.443359375, 22614.642578125, 6171.8740234375, 5928.60302734375, 26540.74609375, 47036.28125, 11881.2197265625, 19261.02734375, 41793.4140625, 10823.6181640625, 11767.1279296875, 21492.875, 13990.1337890625, 7773.10791015625, 34001.7734375, 130181.578125, 33140.10546875, 29728.08984375, 14424.9453125, 8000.86328125, 2959.23681640625, 2382.150634765625, 2274.826904296875, 1931.888671875, 1920.5035400390625, 1843.3551025390625, 1767.343017578125, 1705.7255859375, 1550.9910888671875, 1518.596435546875, 1477.623291015625, 1476.4327392578125, 1390.579833984375, 1328.0745849609375, 1270.446044921875, 1250.5660400390625, 1195.9896240234375, 1108.4854736328125, 1246.5081787109375, 1097.05810546875, 1066.9952392578125, 1056.712158203125, 1051.537353515625, 1031.363525390625, 1054.7474365234375, 979.3775024414062, 956.1655883789062, 937.1981811523438, 902.44384765625, 7763.2236328125, 44046.09765625, 4462.74365234375, 30443.115234375, 1754.1998291015625, 5059.94775390625, 4781.78173828125, 2533.969482421875, 4848.115234375, 3674.955810546875, 4891.34423828125, 2480.19921875, 1822.6422119140625, 3875.33935546875, 13021.337890625, 4221.556640625, 4296.74072265625, 12341.2236328125, 6817.548828125, 9344.5302734375, 4070.058349609375, 5371.9208984375, 28813.880859375, 36286.5546875, 6370.5625, 4433.02587890625, 7721.6318359375, 12429.3125, 37042.64453125, 26659.08203125, 41320.70703125, 26879.21875, 8500.59765625, 7340.8359375, 3195.799560546875, 2849.243408203125, 2585.472412109375, 2558.4326171875, 1996.252685546875, 1903.3048095703125, 1697.6337890625, 1605.492919921875, 1526.7724609375, 1246.910400390625, 1174.8922119140625, 1094.7958984375, 1041.5400390625, 1007.2022705078125, 985.110107421875, 828.9783935546875, 819.8932495117188, 813.4122924804688, 807.2564086914062, 756.0094604492188, 743.1989135742188, 739.1613159179688, 709.6527709960938, 689.7305297851562, 652.3958740234375, 649.2161254882812, 603.4032592773438, 779.7225952148438, 582.5149536132812, 5477.8359375, 649.4742431640625, 836.650390625, 2645.15087890625, 1355.38818359375, 7535.7978515625, 2828.640869140625, 1736.182861328125, 1447.9952392578125, 11003.4384765625, 3807.040283203125, 2314.930908203125, 15218.544921875, 1896.7784423828125, 11881.2197265625, 7773.10791015625, 2942.29541015625, 24472.712890625, 2775.8759765625, 11263.791015625, 3083.695068359375, 12046.5673828125, 6524.77197265625, 130181.578125, 5598.0458984375, 15984.32421875, 5731.224609375, 16541.921875, 12955.2158203125, 10200.349609375, 16631.2109375, 10593.1484375, 30180.951171875, 7511.205078125, 43887.26953125, 42070.61328125, 33140.10546875, 9236.3349609375, 5054.58740234375, 4398.28369140625, 3240.91015625, 2829.38134765625, 2825.293212890625, 2793.191650390625, 2271.276611328125, 2015.9593505859375, 1731.927001953125, 1535.4488525390625, 1234.92919921875, 4905.05615234375, 1073.2279052734375, 967.6845703125, 892.775146484375, 875.0276489257812, 748.1869506835938, 738.3341064453125, 730.13720703125, 684.4555053710938, 615.1599731445312, 592.9210205078125, 621.7951049804688, 583.5760498046875, 575.8086547851562, 561.8839721679688, 554.0984497070312, 549.3345336914062, 545.6287231445312, 698.6611328125, 1127.8531494140625, 1694.1595458984375, 1765.6689453125, 28784.509765625, 1379.8621826171875, 1832.792724609375, 3616.926025390625, 5590.3125, 7124.74609375, 15923.9228515625, 9005.076171875, 3917.191162109375, 3886.87451171875, 4029.4521484375, 9654.3408203125, 7210.49609375, 10679.4228515625, 10200.349609375, 16505.01171875, 41793.4140625, 19261.02734375, 22614.642578125, 130181.578125, 26540.74609375, 34001.7734375, 33140.10546875, 30180.951171875, 10220.5146484375, 41320.70703125, 22301.017578125, 43887.26953125, 34085.97265625, 20733.4765625, 5319.435546875, 4341.46142578125, 3206.775146484375, 2715.28369140625, 2170.293701171875, 2097.3251953125, 1530.0816650390625, 1477.8824462890625, 1300.8475341796875, 1231.670166015625, 1181.7484130859375, 1053.748046875, 1025.357421875, 998.7205810546875, 830.451416015625, 722.6513671875, 702.8697509765625, 764.7100830078125, 653.5128173828125, 631.0316772460938, 619.0300903320312, 610.3182373046875, 598.644775390625, 694.7183837890625, 554.6788940429688, 537.5911865234375, 538.1972045898438, 534.16943359375, 554.3216552734375, 510.8205261230469, 2716.08251953125, 968.6998291015625, 1040.1474609375, 1440.7960205078125, 732.8872680664062, 9900.3515625, 1224.88916015625, 1412.402099609375, 1361.4830322265625, 967.67333984375, 1884.4515380859375, 3043.126220703125, 1276.3577880859375, 5698.17138671875, 1754.9774169921875, 3159.2880859375, 8285.3876953125, 29728.08984375, 4316.123046875, 8200.28125, 2195.978271484375, 3789.65478515625, 8197.4931640625, 5966.77734375, 21560.8359375, 34085.97265625, 11608.8046875, 7150.564453125, 20992.34765625, 4954.14306640625, 5641.7666015625, 8801.4833984375, 5700.74951171875, 16071.869140625, 13477.064453125, 130181.578125, 10920.1708984375, 13215.48828125, 14271.9541015625, 43887.26953125, 36286.5546875, 42070.61328125, 30223.74609375, 33503.32421875, 22237.53515625, 12495.99609375, 10183.3955078125, 8856.529296875, 3380.571044921875, 3048.0771484375, 2871.1630859375, 2858.68115234375, 2409.71826171875, 1858.201416015625, 1520.347900390625, 1296.206298828125, 1267.941162109375, 1252.0177001953125, 1249.4168701171875, 1236.4547119140625, 1230.6873779296875, 1225.6522216796875, 1215.994140625, 962.0913696289062, 935.61962890625, 900.1278076171875, 799.0901489257812, 777.2045288085938, 774.6390380859375, 745.5023193359375, 731.9744873046875, 722.843994140625, 719.123779296875, 682.7242431640625, 10498.396484375, 1099.6949462890625, 20626.806640625, 2239.4453125, 932.712646484375, 2592.497314453125, 900.9578247070312, 1473.0245361328125, 4628.05810546875, 2743.457763671875, 3475.1435546875, 2802.842529296875, 7042.626953125, 3696.281982421875, 3665.87890625, 9708.6357421875, 15923.9228515625, 9489.01953125, 30180.951171875, 2900.902587890625, 130181.578125, 4917.21337890625, 20733.4765625, 41793.4140625, 33503.32421875, 15650.361328125, 23999.810546875, 22301.017578125, 36286.5546875, 41320.70703125, 10156.7021484375, 10093.345703125, 5923.52587890625, 5322.33642578125, 3430.001708984375, 3218.49609375, 3070.917236328125, 2476.05078125, 2132.55078125, 1834.81591796875, 1749.4984130859375, 1702.054931640625, 1702.0413818359375, 1517.2955322265625, 1503.9140625, 1367.44580078125, 1344.26123046875, 1267.1424560546875, 1218.2113037109375, 1204.7159423828125, 1199.217041015625, 1137.1376953125, 1069.9210205078125, 935.2100830078125, 882.8551025390625, 839.1128540039062, 831.5044555664062, 810.2166748046875, 800.9570922851562, 782.5242309570312, 3355.989990234375, 827.3088989257812, 2401.701416015625, 3226.947509765625, 1912.977294921875, 16631.2109375, 2072.963623046875, 5023.53466796875, 5094.87939453125, 4388.94482421875, 3033.7177734375, 1963.22998046875, 23999.810546875, 9263.78515625, 11477.5068359375, 6262.3896484375, 5855.2021484375, 33140.10546875, 3824.535400390625, 130181.578125, 15911.1982421875, 4724.29736328125, 6257.1787109375, 15923.9228515625, 10823.6181640625, 16636.501953125, 30180.951171875, 41320.70703125, 15650.361328125, 36286.5546875, 6396.96142578125, 2634.366943359375, 7406.42626953125, 2310.18994140625, 1722.55029296875, 1554.1005859375, 1515.9444580078125, 1324.4229736328125, 1177.121826171875, 1159.8077392578125, 1164.344482421875, 936.90185546875, 925.8477172851562, 896.8609008789062, 842.830810546875, 817.8509521484375, 3628.656494140625, 797.8880004882812, 797.0934448242188, 761.6320190429688, 724.9271240234375, 669.9266967773438, 656.2232055664062, 646.8724975585938, 646.3239135742188, 645.5618896484375, 629.5281982421875, 613.8843994140625, 593.3225708007812, 582.6997680664062, 1780.6007080078125, 1347.0203857421875, 743.9935913085938, 1009.1683349609375, 6463.0693359375, 5273.67138671875, 887.7138671875, 955.808349609375, 1612.586181640625, 1723.335205078125, 9143.7236328125, 3029.952880859375, 1616.2933349609375, 4339.58251953125, 6370.5625, 5705.88818359375, 4462.26611328125, 5036.3955078125, 1937.7105712890625, 4861.74658203125, 7005.365234375, 12341.2236328125, 46117.76171875, 3237.117431640625, 7723.02880859375, 16175.162109375, 13477.064453125, 5422.0810546875, 33503.32421875, 13021.337890625, 9029.8955078125, 36286.5546875, 7490.8955078125, 30223.74609375, 13909.732421875, 7531.859375, 5778.99951171875, 4980.7314453125, 4057.626220703125, 3825.005859375, 2435.009033203125, 2112.720703125, 1678.714599609375, 1649.5264892578125, 1648.383056640625, 1590.3861083984375, 1383.6453857421875, 1261.791259765625, 1186.9940185546875, 1119.9805908203125, 1013.9848022460938, 1076.292724609375, 933.9384765625, 922.3467407226562, 860.6967163085938, 1322.194580078125, 745.0054931640625, 730.0057983398438, 698.403564453125, 660.627197265625, 634.5870361328125, 626.3223266601562, 596.3346557617188, 586.0728149414062, 1711.6319580078125, 7162.31689453125, 940.52880859375, 864.700439453125, 989.1028442382812, 805.6605834960938, 861.6420288085938, 5870.74560546875, 13615.7744140625, 6693.46923828125, 17941.830078125, 10190.73828125, 3550.096435546875, 2205.2783203125, 24472.712890625, 4106.96484375, 2592.033935546875, 2104.629638671875, 4372.5302734375, 9114.9287109375, 8743.685546875, 3448.74267578125, 130181.578125, 29728.08984375, 13215.48828125, 12429.3125, 10066.2119140625, 35827.9765625, 8183.93115234375, 6818.318359375, 4303.7080078125, 10590.7373046875, 34085.97265625, 10275.7919921875, 5095.6259765625, 2641.6396484375, 2196.771240234375, 1956.1285400390625, 1529.222900390625, 1478.4464111328125, 1419.00390625, 1337.213134765625, 1207.4364013671875, 1085.2523193359375, 1018.2901000976562, 1017.95556640625, 1016.409423828125, 1009.6046142578125, 1015.5230712890625, 999.0481567382812, 991.7721557617188, 972.3646240234375, 951.4046630859375, 925.5429077148438, 886.4603271484375, 871.1611328125, 866.4389038085938, 856.0244140625, 839.013427734375, 801.9783935546875, 762.2528076171875, 715.895751953125, 690.3755493164062, 671.172119140625, 1533.2889404296875, 3607.544189453125, 1281.247802734375, 1197.038330078125, 1741.06103515625, 1394.8271484375, 2413.7939453125, 2820.362060546875, 2703.056640625, 2513.124267578125, 3369.899169921875, 3567.268798828125, 2838.135009765625, 1916.0704345703125, 3128.378662109375, 1941.775146484375, 5608.091796875, 3760.13720703125, 1622.2840576171875, 3148.69677734375, 42070.61328125, 3812.67236328125, 130181.578125, 5932.884765625, 13021.337890625, 12082.7060546875, 28813.880859375, 43887.26953125, 46117.76171875, 6258.923828125, 19338.23046875, 2913.4013671875, 2657.51904296875, 2494.5009765625, 2388.29248046875, 1871.6558837890625, 1834.0615234375, 1821.14306640625, 1733.41015625, 1602.8665771484375, 1499.6319580078125, 2175.454345703125, 1280.0263671875, 1279.7044677734375, 1237.4703369140625, 1145.59130859375, 1118.3203125, 1099.239501953125, 1075.6082763671875, 1020.7706909179688, 1006.0899658203125, 1003.0180053710938, 1053.4022216796875, 952.76708984375, 903.0706787109375, 861.6467895507812, 756.5997314453125, 748.4895629882812, 736.3706665039062, 732.4169311523438, 714.9840698242188, 5799.1044921875, 1205.94970703125, 5050.8046875, 7103.4423828125, 6283.93408203125, 5793.3837890625, 3210.367431640625, 3779.488525390625, 2486.590576171875, 6105.50244140625, 5082.29736328125, 6664.189453125, 3959.041015625, 1982.951416015625, 11174.9736328125, 1766.56494140625, 6640.68359375, 16071.869140625, 3503.004150390625, 5700.74951171875, 16505.01171875, 36286.5546875, 9654.3408203125, 14424.9453125, 20749.505859375, 7185.87060546875, 43887.26953125, 29728.08984375, 4945.4892578125, 3715.2109375, 3521.284423828125, 3193.181884765625, 2699.662109375, 2362.2451171875, 2018.2899169921875, 1954.8065185546875, 1897.528076171875, 1649.9617919921875, 1580.70947265625, 1503.5704345703125, 1494.662841796875, 1376.3992919921875, 1308.6695556640625, 1295.2381591796875, 1235.1929931640625, 1722.4130859375, 1149.052978515625, 1028.0205078125, 1006.4872436523438, 920.626708984375, 915.2186889648438, 895.099365234375, 853.4098510742188, 768.9181518554688, 753.8988647460938, 746.964599609375, 743.090087890625, 733.969482421875, 1665.4083251953125, 1908.0205078125, 1399.3170166015625, 2082.609619140625, 3902.574462890625, 1827.68212890625, 2767.415771484375, 1081.2449951171875, 4304.57763671875, 1393.617919921875, 2149.038330078125, 5681.93310546875, 130181.578125, 5545.3759765625, 11378.625, 33503.32421875, 6805.3798828125, 9273.177734375, 36286.5546875, 11834.0625, 5699.4677734375, 12955.2158203125, 42070.61328125, 7985.10986328125, 26659.08203125, 22301.017578125, 34085.97265625, 6343.455078125, 3595.60400390625, 3049.022216796875, 2533.787109375, 2241.92431640625, 1989.2760009765625, 1839.9820556640625, 1743.8173828125, 1723.1934814453125, 1703.2132568359375, 1517.610595703125, 1401.2467041015625, 1374.70947265625, 1360.4000244140625, 1331.9771728515625, 1232.5738525390625, 1141.263671875, 1092.929443359375, 1060.7978515625, 972.3787231445312, 920.48681640625, 899.93603515625, 835.0469970703125, 783.5408325195312, 773.1499633789062, 746.4042358398438, 1351.584716796875, 718.0140991210938, 730.4345092773438, 712.833984375, 2795.601318359375, 6106.2470703125, 11492.6845703125, 3921.2138671875, 9322.505859375, 1137.4591064453125, 6101.6328125, 6793.83447265625, 5256.0517578125, 2336.056396484375, 4660.06103515625, 3435.9189453125, 2957.179443359375, 2204.875244140625, 3970.754638671875, 5793.595703125, 28813.880859375, 3025.600830078125, 2853.9794921875, 7399.7431640625, 5446.68212890625, 4032.22802734375, 5932.884765625, 42070.61328125, 130181.578125, 5865.8759765625, 26879.21875, 12561.763671875, 20733.4765625, 5856.41064453125, 3012.844482421875, 2704.587158203125, 2602.344970703125, 2322.455810546875, 1978.574951171875, 1664.1781005859375, 1643.694580078125, 1521.78564453125, 1288.9771728515625, 1268.8834228515625, 1199.4130859375, 1119.7469482421875, 1095.6572265625, 1066.4864501953125, 773.5972290039062, 693.9190673828125, 652.776611328125, 642.9328002929688, 613.0361328125, 604.5202026367188, 596.23388671875, 594.2612915039062, 592.5000610351562, 588.7698974609375, 578.1610717773438, 564.6351318359375, 554.3367309570312, 550.0324096679688, 546.6673583984375, 549.8485717773438, 600.7550659179688, 879.870361328125, 891.3536987304688, 4890.607421875, 1372.1298828125, 1241.2755126953125, 5286.91357421875, 1014.0328369140625, 3638.96630859375, 4906.7392578125, 1345.7760009765625, 1651.8663330078125, 15984.32421875, 20749.505859375, 12220.5302734375, 2931.668212890625, 8849.4033203125, 8524.8486328125, 2881.89453125, 7530.994140625, 6510.892578125, 30888.177734375, 3545.010009765625, 16505.01171875, 2750.22802734375, 24472.712890625, 42070.61328125, 16175.162109375, 7124.74609375, 5668.1416015625, 130181.578125, 24645.439453125, 21560.8359375, 10218.2431640625, 6793.83447265625, 5884.7578125, 5545.52001953125, 4802.3427734375, 4093.811279296875, 4057.118408203125, 3702.841064453125, 2410.653564453125, 2246.7265625, 1826.6253662109375, 1820.158203125, 1646.3094482421875, 1590.3931884765625, 1497.2974853515625, 1349.251708984375, 1299.0882568359375, 1202.96044921875, 1172.2811279296875, 1147.84375, 1093.0234375, 1037.4466552734375, 997.6231079101562, 941.4630737304688, 906.0028076171875, 865.0382080078125, 863.9325561523438, 790.722412109375, 768.1552124023438, 714.876953125, 689.7743530273438, 628.654541015625, 3566.74658203125, 7371.6962890625, 2504.1513671875, 3066.662353515625, 4420.68896484375, 3723.2138671875, 2850.20068359375, 13120.083984375, 8825.78515625, 4977.35498046875, 3377.508056640625, 3386.66845703125, 9029.8955078125, 17941.830078125, 10218.2431640625, 16541.921875, 10190.73828125, 6511.86962890625, 16175.162109375, 7956.71875, 9041.587890625, 24472.712890625, 130181.578125, 7932.0263671875, 29728.08984375, 10801.1455078125, 4024.33837890625, 2625.01025390625, 2140.192626953125, 1824.7188720703125, 1706.555908203125, 1686.68359375, 1458.772705078125, 1169.661865234375, 982.3956909179688, 955.4312133789062, 813.69482421875, 813.0606689453125, 792.3975219726562, 777.770751953125, 621.3003540039062, 617.3493041992188, 590.617431640625, 575.4117431640625, 574.9491577148438, 564.7054443359375, 561.79248046875, 552.78271484375, 537.917724609375, 528.6635131835938, 512.890625, 508.8582458496094, 508.4745788574219, 502.8386535644531, 479.4751281738281, 595.911865234375, 4924.30078125, 1968.9791259765625, 701.580810546875, 3687.57763671875, 7561.7060546875, 9489.01953125, 1066.4888916015625, 3700.4306640625, 11174.9736328125, 1054.09326171875, 12429.3125, 16386.232421875, 10679.4228515625, 34001.7734375, 19261.02734375, 41320.70703125, 30180.951171875, 3467.086181640625, 22301.017578125, 13757.373046875, 5593.6708984375, 21492.875, 19338.23046875, 9741.2275390625, 130181.578125, 20733.4765625, 13412.4365234375, 34085.97265625], \"loglift\": [30.0, 29.0, 28.0, 27.0, 26.0, 25.0, 24.0, 23.0, 22.0, 21.0, 20.0, 19.0, 18.0, 17.0, 16.0, 15.0, 14.0, 13.0, 12.0, 11.0, 10.0, 9.0, 8.0, 7.0, 6.0, 5.0, 4.0, 3.0, 2.0, 1.0, 2.468100070953369, 2.4679999351501465, 2.4679999351501465, 2.4679999351501465, 2.4679999351501465, 2.467900037765503, 2.467900037765503, 2.467900037765503, 2.467900037765503, 2.4677999019622803, 2.4677999019622803, 2.4677000045776367, 2.4677000045776367, 2.467600107192993, 2.467600107192993, 2.467600107192993, 2.4674999713897705, 2.4674999713897705, 2.4674999713897705, 2.4674999713897705, 2.467400074005127, 2.467400074005127, 2.467400074005127, 2.467400074005127, 2.4672999382019043, 2.4672000408172607, 2.4672000408172607, 2.4672000408172607, 2.4672000408172607, 2.467099905014038, 2.46560001373291, 2.466200113296509, 2.4628000259399414, 2.424299955368042, 2.4507999420166016, 2.370500087738037, 2.4154999256134033, 2.232100009918213, 2.1538000106811523, 2.300600051879883, 2.290600061416626, 2.2869999408721924, 2.0762999057769775, 2.3661999702453613, 1.8233000040054321, 2.108299970626831, 1.940500020980835, 1.5887999534606934, 2.2102999687194824, 1.8835999965667725, 1.7409000396728516, 1.4408999681472778, 1.481600046157837, 1.5026999711990356, 1.8407000303268433, 1.3257999420166016, 0.7269999980926514, 1.4943000078201294, 1.5786999464035034, 1.5391000509262085, 1.7537000179290771, 1.1347999572753906, 1.149899959564209, 0.786300003528595, 1.1634000539779663, 1.1066999435424805, 1.4779000282287598, 0.6141999959945679, 0.850600004196167, 2.5773000717163086, 2.5773000717163086, 2.5773000717163086, 2.577199935913086, 2.577199935913086, 2.577199935913086, 2.577199935913086, 2.5771000385284424, 2.5771000385284424, 2.5771000385284424, 2.5771000385284424, 2.5769999027252197, 2.5769999027252197, 2.5769999027252197, 2.5769999027252197, 2.576900005340576, 2.576900005340576, 2.5768001079559326, 2.5768001079559326, 2.57669997215271, 2.5766000747680664, 2.5766000747680664, 2.5766000747680664, 2.5766000747680664, 2.5766000747680664, 2.5764999389648438, 2.5764999389648438, 2.5764999389648438, 2.5764999389648438, 2.5764000415802, 2.5645999908447266, 2.5594000816345215, 2.5497000217437744, 2.5408999919891357, 2.519700050354004, 2.53629994392395, 2.423799991607666, 2.4124999046325684, 2.4161999225616455, 2.4809000492095947, 2.0673000812530518, 2.397700071334839, 1.5374000072479248, 2.411600112915039, 2.2179999351501465, 2.296999931335449, 1.873900055885315, 1.682800054550171, 1.6146999597549438, 1.1571999788284302, 2.222599983215332, 2.041100025177002, 1.128600001335144, 2.00219988822937, 2.0857999324798584, 0.7211999893188477, 1.2023999691009521, 0.9829000234603882, 2.0648999214172363, -0.34279999136924744, 0.8066999912261963, 1.9133000373840332, 1.2512999773025513, 0.9434000253677368, 0.9343000054359436, 0.4417000114917755, 1.5852999687194824, 0.8550000190734863, 0.9383999705314636, 1.5140999555587769, -0.1151999980211258, -0.16220000386238098, 2.615299940109253, 2.615299940109253, 2.615299940109253, 2.6152000427246094, 2.6152000427246094, 2.6152000427246094, 2.6150999069213867, 2.615000009536743, 2.615000009536743, 2.615000009536743, 2.615000009536743, 2.6149001121520996, 2.6149001121520996, 2.6149001121520996, 2.6149001121520996, 2.6149001121520996, 2.6149001121520996, 2.6147000789642334, 2.6147000789642334, 2.6147000789642334, 2.6147000789642334, 2.6145999431610107, 2.6145999431610107, 2.614500045776367, 2.6143999099731445, 2.6143999099731445, 2.6142001152038574, 2.6142001152038574, 2.6142001152038574, 2.6140999794006348, 2.6133999824523926, 2.6131999492645264, 2.6113998889923096, 2.6138999462127686, 2.5915000438690186, 2.587899923324585, 2.569200038909912, 2.603600025177002, 2.591399908065796, 2.573499917984009, 2.5136001110076904, 2.5136001110076904, 2.394399881362915, 2.427299976348877, 2.552799940109253, 2.3643999099731445, 2.3784000873565674, 2.382699966430664, 2.2904000282287598, 2.4999001026153564, 2.4879000186920166, 2.3087000846862793, 2.443700075149536, 2.3297998905181885, 1.5533000230789185, 1.9830000400543213, 2.219599962234497, 1.885599970817566, 1.8489999771118164, 1.545300006866455, 1.6504000425338745, 1.155500054359436, 1.4438999891281128, 1.8824000358581543, 1.3774000406265259, 1.7793999910354614, 1.691100001335144, 1.0307999849319458, 1.8071999549865723, 1.4809999465942383, 1.9753999710083008, 1.8114999532699585, 1.7855000495910645, 1.562999963760376, 0.18250000476837158, 1.5033999681472778, 1.5262999534606934, 1.188099980354309, 2.689199924468994, 2.6891000270843506, 2.6891000270843506, 2.688999891281128, 2.688699960708618, 2.6886000633239746, 2.6884000301361084, 2.6884000301361084, 2.6884000301361084, 2.6882998943328857, 2.688199996948242, 2.688199996948242, 2.6881000995635986, 2.6881000995635986, 2.687999963760376, 2.687999963760376, 2.687999963760376, 2.6879000663757324, 2.6879000663757324, 2.6877999305725098, 2.6877999305725098, 2.687700033187866, 2.6874001026153564, 2.687299966812134, 2.687299966812134, 2.6872000694274902, 2.687000036239624, 2.687000036239624, 2.687000036239624, 2.6868999004364014, 2.6851000785827637, 2.680500030517578, 2.684999942779541, 2.6867001056671143, 2.6751999855041504, 2.673799991607666, 2.672800064086914, 2.6775999069213867, 2.6640000343322754, 2.56850004196167, 2.4402999877929688, 2.5620999336242676, 2.5344998836517334, 2.579699993133545, 2.5376999378204346, 2.551100015640259, 2.3280999660491943, 2.58240008354187, 2.393699884414673, 2.5316998958587646, 2.1521999835968018, 2.203399896621704, 2.4899001121520996, 2.2267000675201416, 2.2929999828338623, 2.301100015640259, 2.175800085067749, 2.2318999767303467, 2.3278000354766846, 1.2754000425338745, 1.3593000173568726, 1.187399983406067, 1.8503999710083008, 2.121799945831299, 1.8788000345230103, 1.2630000114440918, 1.382599949836731, 1.3976999521255493, 0.8246999979019165, 1.2359999418258667, 1.1375999450683594, 0.7411999702453613, 1.6217000484466553, 0.7692999839782715, 1.7595000267028809, 1.8550000190734863, 0.1477999985218048, 1.2542999982833862, 0.7757999897003174, 0.2750999927520752, 0.6632999777793884, 0.09889999777078629, 0.574400007724762, 1.4430999755859375, 1.2517000436782837, 2.7385001182556152, 2.7383999824523926, 2.7383999824523926, 2.738300085067749, 2.7381999492645264, 2.73799991607666, 2.73799991607666, 2.7379000186920166, 2.737799882888794, 2.737799882888794, 2.737600088119507, 2.737499952316284, 2.737499952316284, 2.737499952316284, 2.7374000549316406, 2.7374000549316406, 2.7374000549316406, 2.7374000549316406, 2.737299919128418, 2.737299919128418, 2.737299919128418, 2.7372000217437744, 2.7370998859405518, 2.7370998859405518, 2.7369000911712646, 2.736799955368042, 2.736799955368042, 2.736799955368042, 2.736799955368042, 2.7367000579833984, 2.734999895095825, 2.7325000762939453, 2.7318999767303467, 2.734800100326538, 2.724299907684326, 2.681999921798706, 2.712100028991699, 2.676800012588501, 2.6812000274658203, 2.6816999912261963, 2.604599952697754, 2.7019999027252197, 2.66729998588562, 2.7007999420166016, 2.699700117111206, 2.6059999465942383, 2.2973999977111816, 2.554500102996826, 2.626199960708618, 2.516400098800659, 1.964400053024292, 2.1275999546051025, 2.0239999294281006, 2.2916998863220215, 2.303499937057495, 1.798699975013733, 1.5458999872207642, 1.9977999925613403, 1.7493000030517578, 1.4085999727249146, 1.9658000469207764, 1.9012000560760498, 1.5468000173568726, 1.6726000308990479, 2.0064001083374023, 0.927299976348877, -0.2353000044822693, 0.7889999747276306, 0.8015000224113464, 1.344599962234497, 2.9175000190734863, 2.91729998588562, 2.9172000885009766, 2.9172000885009766, 2.917099952697754, 2.917099952697754, 2.917099952697754, 2.9170000553131104, 2.9170000553131104, 2.9170000553131104, 2.9168999195098877, 2.9168999195098877, 2.9168999195098877, 2.9168999195098877, 2.9168999195098877, 2.916800022125244, 2.916800022125244, 2.916800022125244, 2.9166998863220215, 2.9166998863220215, 2.9166998863220215, 2.9166998863220215, 2.9166998863220215, 2.9166998863220215, 2.916599988937378, 2.916599988937378, 2.916599988937378, 2.916599988937378, 2.916599988937378, 2.9165000915527344, 2.915800094604492, 2.8847999572753906, 2.904900074005127, 2.841399908065796, 2.900700092315674, 2.8306000232696533, 2.783600091934204, 2.8361001014709473, 2.759500026702881, 2.7374000549316406, 2.589200019836426, 2.7309000492095947, 2.7994000911712646, 2.559499979019165, 2.16129994392395, 2.4974000453948975, 2.458899974822998, 2.0071001052856445, 2.1745998859405518, 1.9775999784469604, 2.391200065612793, 2.2086000442504883, 1.0952999591827393, 0.8184999823570251, 1.9740999937057495, 2.2304999828338623, 1.7901999950408936, 1.4031000137329102, 0.4878999888896942, 0.715499997138977, 0.20669999718666077, 0.6025999784469604, 1.6755000352859497, 2.9756999015808105, 2.9755001068115234, 2.9755001068115234, 2.975399971008301, 2.975399971008301, 2.9753000736236572, 2.9753000736236572, 2.9751999378204346, 2.9751999378204346, 2.9751999378204346, 2.9749999046325684, 2.9749999046325684, 2.974900007247925, 2.974900007247925, 2.974900007247925, 2.9748001098632812, 2.974600076675415, 2.974600076675415, 2.974600076675415, 2.974600076675415, 2.9744999408721924, 2.9744999408721924, 2.9744999408721924, 2.9744999408721924, 2.974400043487549, 2.974299907684326, 2.974299907684326, 2.9742000102996826, 2.9742000102996826, 2.9742000102996826, 2.9612998962402344, 2.973900079727173, 2.969599962234497, 2.945499897003174, 2.9546000957489014, 2.8592000007629395, 2.886199951171875, 2.879499912261963, 2.8887999057769775, 2.492300033569336, 2.6364998817443848, 2.729099988937378, 2.2565999031066895, 2.759200096130371, 2.2809998989105225, 2.2662999629974365, 2.5703001022338867, 1.6481000185012817, 2.551300048828125, 1.9277000427246094, 2.488100051879883, 1.766800045967102, 2.055000066757202, 0.3111000061035156, 2.0785999298095703, 1.353600025177002, 2.02839994430542, 1.243499994277954, 1.4227999448776245, 1.5052000284194946, 1.0956000089645386, 1.4565000534057617, 0.5511000156402588, 1.7223000526428223, 0.05920000001788139, 0.06340000033378601, 0.28380000591278076, 2.998300075531006, 2.998300075531006, 2.998199939727783, 2.998199939727783, 2.9981000423431396, 2.9981000423431396, 2.9981000423431396, 2.997999906539917, 2.997999906539917, 2.9979000091552734, 2.99780011177063, 2.9976999759674072, 2.9976000785827637, 2.9976000785827637, 2.997499942779541, 2.9974000453948975, 2.9974000453948975, 2.9972000122070312, 2.9972000122070312, 2.9971001148223877, 2.9971001148223877, 2.9969000816345215, 2.996799945831299, 2.996799945831299, 2.996799945831299, 2.996799945831299, 2.996799945831299, 2.9967000484466553, 2.9967000484466553, 2.9967000484466553, 2.9958999156951904, 2.982300043106079, 2.8436999320983887, 2.829900026321411, 2.3914999961853027, 2.842400074005127, 2.7792999744415283, 2.626199960708618, 2.515899896621704, 2.255000114440918, 1.9907000064849854, 2.15910005569458, 2.4398000240325928, 2.42930006980896, 2.4147000312805176, 2.0717999935150146, 2.1665000915527344, 1.951200008392334, 1.9701999425888062, 1.74590003490448, 1.301800012588501, 1.6432000398635864, 1.5324000120162964, 0.6212999820709229, 1.4218000173568726, 1.1754000186920166, 1.1098999977111816, 1.13100004196167, 1.7942999601364136, 0.7275999784469604, 1.186400055885315, 0.6470000147819519, 0.6819000244140625, 1.0757999420166016, 3.0078999996185303, 3.0078999996185303, 3.0078001022338867, 3.007699966430664, 3.0076000690460205, 3.0076000690460205, 3.007499933242798, 3.0074000358581543, 3.0074000358581543, 3.0072999000549316, 3.0072999000549316, 3.007200002670288, 3.007200002670288, 3.0071001052856445, 3.0069000720977783, 3.0067999362945557, 3.006700038909912, 3.0065999031066895, 3.0065999031066895, 3.0065999031066895, 3.006500005722046, 3.006500005722046, 3.006500005722046, 3.0064001083374023, 3.0064001083374023, 3.0062999725341797, 3.0062999725341797, 3.0062999725341797, 3.006200075149536, 3.006200075149536, 2.9860000610351562, 2.999500036239624, 2.9976999759674072, 2.9751999378204346, 2.9951999187469482, 2.882699966430664, 2.974299907684326, 2.962399959564209, 2.957900047302246, 2.9751999378204346, 2.891700029373169, 2.810699939727783, 2.8961000442504883, 2.5548999309539795, 2.808500051498413, 2.6445000171661377, 2.3373000621795654, 1.9180999994277954, 2.4735000133514404, 2.240299940109253, 2.688499927520752, 2.4347000122070312, 2.0861001014709473, 2.2214999198913574, 1.625499963760376, 1.3746999502182007, 1.8567999601364136, 2.0917000770568848, 1.492400050163269, 2.260499954223633, 2.180000066757202, 1.9250999689102173, 2.163300037384033, 1.520300030708313, 1.6105999946594238, 0.12300000339746475, 1.732699990272522, 1.6015000343322754, 1.5054999589920044, 0.6089000105857849, 0.6725000143051147, 0.42899999022483826, 0.6216999888420105, 0.430400013923645, 3.019399881362915, 3.019399881362915, 3.019399881362915, 3.019399881362915, 3.019200086593628, 3.019200086593628, 3.019200086593628, 3.019200086593628, 3.0190999507904053, 3.0190000534057617, 3.018899917602539, 3.0188000202178955, 3.018699884414673, 3.018699884414673, 3.018699884414673, 3.018699884414673, 3.018699884414673, 3.018699884414673, 3.018699884414673, 3.0185000896453857, 3.0185000896453857, 3.018399953842163, 3.0183000564575195, 3.0183000564575195, 3.0183000564575195, 3.018199920654297, 3.018199920654297, 3.018199920654297, 3.018199920654297, 3.0181000232696533, 2.993000030517578, 3.0134999752044678, 2.8196001052856445, 2.941499948501587, 2.999000072479248, 2.868299961090088, 2.999799966812134, 2.9337000846862793, 2.716599941253662, 2.8076000213623047, 2.7065999507904053, 2.741499900817871, 2.440700054168701, 2.5664000511169434, 2.5571000576019287, 2.101900100708008, 1.8710999488830566, 1.9967999458312988, 1.330299973487854, 2.5683000087738037, 0.20759999752044678, 2.1881000995635986, 1.1333999633789062, 0.5289000272750854, 0.6258999705314636, 1.223099946975708, 0.7890999913215637, 0.8141999840736389, 0.2797999978065491, 0.13420000672340393, 3.073899984359741, 3.073899984359741, 3.0738000869750977, 3.0738000869750977, 3.073699951171875, 3.073699951171875, 3.0736000537872314, 3.0736000537872314, 3.073499917984009, 3.0734000205993652, 3.0734000205993652, 3.0734000205993652, 3.0734000205993652, 3.0732998847961426, 3.0732998847961426, 3.0732998847961426, 3.073199987411499, 3.073199987411499, 3.073199987411499, 3.073199987411499, 3.073199987411499, 3.0731000900268555, 3.0731000900268555, 3.0729000568389893, 3.0729000568389893, 3.0727999210357666, 3.0727999210357666, 3.0727999210357666, 3.0727999210357666, 3.072700023651123, 3.0599000453948975, 3.071500062942505, 3.020699977874756, 2.9797000885009766, 2.9728000164031982, 2.6566998958587646, 2.9303998947143555, 2.748699903488159, 2.743799924850464, 2.6735999584198, 2.765399932861328, 2.908600091934204, 2.0416998863220215, 2.3255999088287354, 2.1068999767303467, 2.3461999893188477, 2.3626999855041504, 1.4594999551773071, 2.5699000358581543, 0.47859999537467957, 1.5886000394821167, 2.3863000869750977, 2.1912999153137207, 1.541200041770935, 1.7166999578475952, 1.381500005722046, 0.7512999773025513, 0.4142000079154968, 1.274899959564209, 0.4763000011444092, 3.1875998973846436, 3.1874001026153564, 3.1874001026153564, 3.187299966812134, 3.1872000694274902, 3.1870999336242676, 3.1870999336242676, 3.187000036239624, 3.1868999004364014, 3.1868999004364014, 3.1868999004364014, 3.1867001056671143, 3.1867001056671143, 3.1867001056671143, 3.1865999698638916, 3.1865999698638916, 3.186500072479248, 3.186500072479248, 3.186500072479248, 3.186500072479248, 3.1863999366760254, 3.186300039291382, 3.186300039291382, 3.186300039291382, 3.186300039291382, 3.186300039291382, 3.186199903488159, 3.186199903488159, 3.1861000061035156, 3.1861000061035156, 3.185499906539917, 3.184999942779541, 3.1858999729156494, 3.1682000160217285, 3.084399938583374, 3.0625, 3.169100046157837, 3.147900104522705, 3.0573999881744385, 3.0387001037597656, 2.6867001056671143, 2.903700113296509, 3.0264999866485596, 2.773200035095215, 2.61299991607666, 2.5683000087738037, 2.608599901199341, 2.5601000785827637, 2.895699977874756, 2.5336999893188477, 2.376199960708618, 2.1077001094818115, 1.077299952507019, 2.5943000316619873, 1.9417999982833862, 1.4452999830245972, 1.5268000364303589, 2.121500015258789, 0.6513000130653381, 1.371899962425232, 1.6117000579833984, 0.3871000111103058, 1.7740999460220337, 0.4124999940395355, 3.188499927520752, 3.1884000301361084, 3.1884000301361084, 3.1884000301361084, 3.1882998943328857, 3.1882998943328857, 3.188199996948242, 3.1881000995635986, 3.187999963760376, 3.187999963760376, 3.187999963760376, 3.187999963760376, 3.1879000663757324, 3.1877999305725098, 3.1877999305725098, 3.187700033187866, 3.1875998973846436, 3.1875998973846436, 3.1875, 3.1875, 3.1875, 3.1874001026153564, 3.187299966812134, 3.187299966812134, 3.1872000694274902, 3.1870999336242676, 3.1870999336242676, 3.1870999336242676, 3.187000036239624, 3.1868999004364014, 3.183199882507324, 3.16759991645813, 3.186000108718872, 3.1867001056671143, 3.1851999759674072, 3.186800003051758, 3.1858999729156494, 3.0859999656677246, 2.871000051498413, 2.944999933242798, 2.8187999725341797, 2.7374000549316406, 2.925600051879883, 3.009399890899658, 2.401400089263916, 2.816800117492676, 2.8980000019073486, 2.9600000381469727, 2.7107999324798584, 2.4379000663757324, 2.402400016784668, 2.7125000953674316, 0.8420000076293945, 1.455899953842163, 1.898800015449524, 1.8210999965667725, 1.961400032043457, 1.0608999729156494, 2.0004000663757324, 2.115000009536743, 2.4797000885009766, 1.6576000452041626, 0.46320000290870667, 1.6276999711990356, 3.2167999744415283, 3.2167000770568848, 3.216599941253662, 3.2165000438690186, 3.216399908065796, 3.216399908065796, 3.216399908065796, 3.2163000106811523, 3.216200113296509, 3.216200113296509, 3.216099977493286, 3.216099977493286, 3.216099977493286, 3.216099977493286, 3.216099977493286, 3.216099977493286, 3.216099977493286, 3.216099977493286, 3.2160000801086426, 3.2160000801086426, 3.2160000801086426, 3.21589994430542, 3.21589994430542, 3.21589994430542, 3.21589994430542, 3.2158000469207764, 3.2158000469207764, 3.2156999111175537, 3.2156999111175537, 3.21560001373291, 3.212599992752075, 3.177799940109253, 3.193000078201294, 3.195499897003174, 3.1610000133514404, 3.1603000164031982, 3.0929999351501465, 3.015500068664551, 2.9937000274658203, 2.9467999935150146, 2.867300033569336, 2.77620005607605, 2.822999954223633, 2.966900110244751, 2.7672998905181885, 2.948699951171875, 2.481300115585327, 2.5829999446868896, 2.970099925994873, 2.6019999980926514, 0.9666000008583069, 2.4335999488830566, -0.1185000017285347, 2.0676000118255615, 1.4378000497817993, 1.4545999765396118, 0.6556000113487244, 0.24070000648498535, 0.1843000054359436, 1.8875000476837158, 0.741599977016449, 3.2490999698638916, 3.2490999698638916, 3.2490999698638916, 3.249000072479248, 3.2488999366760254, 3.2488999366760254, 3.2488999366760254, 3.2488999366760254, 3.2488999366760254, 3.248800039291382, 3.248800039291382, 3.248699903488159, 3.248699903488159, 3.248699903488159, 3.2486000061035156, 3.2486000061035156, 3.2486000061035156, 3.2486000061035156, 3.248500108718872, 3.248500108718872, 3.248500108718872, 3.248500108718872, 3.248500108718872, 3.2483999729156494, 3.248300075531006, 3.248199939727783, 3.248199939727783, 3.248199939727783, 3.248199939727783, 3.2481000423431396, 3.233299970626831, 3.2476999759674072, 3.204200029373169, 3.1751999855041504, 3.171600103378296, 3.1252999305725098, 3.136699914932251, 3.106100082397461, 3.1473000049591064, 2.910399913787842, 2.8654000759124756, 2.7219998836517334, 2.8642001152038574, 3.0280001163482666, 2.34879994392395, 3.0406999588012695, 2.345400094985962, 1.7109999656677246, 2.551800012588501, 2.19950008392334, 1.4323999881744385, 0.8240000009536743, 1.7656999826431274, 1.3833999633789062, 1.0769000053405762, 1.9555000066757202, 0.2524000108242035, 0.529699981212616, 3.265000104904175, 3.264899969100952, 3.264899969100952, 3.264899969100952, 3.2648000717163086, 3.2648000717163086, 3.264699935913086, 3.264699935913086, 3.264699935913086, 3.2646000385284424, 3.2646000385284424, 3.2646000385284424, 3.2646000385284424, 3.2644999027252197, 3.2644999027252197, 3.2644999027252197, 3.264400005340576, 3.264400005340576, 3.264400005340576, 3.2643001079559326, 3.26419997215271, 3.26419997215271, 3.26419997215271, 3.2641000747680664, 3.2641000747680664, 3.2639999389648438, 3.2639000415802, 3.2639000415802, 3.2639000415802, 3.2639000415802, 3.262700080871582, 3.259999990463257, 3.2339999675750732, 3.2090001106262207, 3.158400058746338, 3.1956000328063965, 3.1338000297546387, 3.231800079345703, 2.897900104522705, 3.1672000885009766, 2.9398999214172363, 2.4626998901367188, 0.90829998254776, 2.440999984741211, 1.8145999908447266, 0.9973999857902527, 2.097599983215332, 1.8497999906539917, 0.7782999873161316, 1.6136000156402588, 2.158900022506714, 1.4757000207901, 0.45190000534057617, 1.8665000200271606, 0.7555999755859375, 0.8357999920845032, 0.4002000093460083, 3.2678000926971436, 3.267699956893921, 3.267699956893921, 3.2676000595092773, 3.2674999237060547, 3.2674999237060547, 3.2674999237060547, 3.267400026321411, 3.267400026321411, 3.267400026321411, 3.2672998905181885, 3.2672998905181885, 3.2672998905181885, 3.2672998905181885, 3.2672998905181885, 3.267199993133545, 3.2671000957489014, 3.2671000957489014, 3.2671000957489014, 3.2669999599456787, 3.266900062561035, 3.266900062561035, 3.2667999267578125, 3.2667999267578125, 3.266700029373169, 3.266700029373169, 3.266700029373169, 3.2665998935699463, 3.2665998935699463, 3.2665998935699463, 3.2632999420166016, 3.211899995803833, 3.063699960708618, 3.105600118637085, 2.986299991607666, 3.2242000102996826, 3.0095999240875244, 2.9837000370025635, 2.9935998916625977, 3.099299907684326, 2.9196999073028564, 2.954400062561035, 2.985300064086914, 3.065700054168701, 2.873800039291382, 2.734600067138672, 1.8746999502182007, 2.9030001163482666, 2.901700019836426, 2.337100028991699, 2.5074000358581543, 2.6593000888824463, 2.3066999912261963, 0.557699978351593, -0.453900009393692, 2.2237000465393066, 0.7842000126838684, 1.4855999946594238, 0.9807000160217285, 3.3262999057769775, 3.326200008392334, 3.3261001110076904, 3.3261001110076904, 3.3261001110076904, 3.3259999752044678, 3.325900077819824, 3.325900077819824, 3.325900077819824, 3.3257999420166016, 3.325700044631958, 3.325700044631958, 3.3255999088287354, 3.3255999088287354, 3.3255999088287354, 3.3252999782562256, 3.3250999450683594, 3.325000047683716, 3.325000047683716, 3.324899911880493, 3.324899911880493, 3.324899911880493, 3.324899911880493, 3.324899911880493, 3.324899911880493, 3.324899911880493, 3.3248000144958496, 3.3248000144958496, 3.3248000144958496, 3.3248000144958496, 3.324700117111206, 3.322700023651123, 3.3041999340057373, 3.301100015640259, 3.182499885559082, 3.224900007247925, 3.203200101852417, 2.8473000526428223, 3.202199935913086, 2.890899896621704, 2.808500051498413, 3.1289000511169434, 3.053100109100342, 2.3057000637054443, 2.087100028991699, 2.2660000324249268, 2.7704999446868896, 2.2990000247955322, 2.253200054168701, 2.7539000511169434, 2.2625999450683594, 2.3306000232696533, 1.4526000022888184, 2.5627999305725098, 1.4804999828338623, 2.697999954223633, 1.097100019454956, 0.6603000164031982, 1.3664000034332275, 1.9471999406814575, 2.1291000843048096, -0.6388999819755554, 0.7888000011444092, 0.8610000014305115, 1.541700005531311, 1.9292999505996704, 3.3812999725341797, 3.3812999725341797, 3.3812999725341797, 3.381200075149536, 3.381200075149536, 3.381200075149536, 3.3810999393463135, 3.38100004196167, 3.3808999061584473, 3.3808999061584473, 3.3808999061584473, 3.3808999061584473, 3.3808000087738037, 3.3808000087738037, 3.38070011138916, 3.38070011138916, 3.3805999755859375, 3.3805999755859375, 3.3805999755859375, 3.380500078201294, 3.380500078201294, 3.3803999423980713, 3.3803999423980713, 3.3803999423980713, 3.3803999423980713, 3.3803000450134277, 3.380199909210205, 3.3801000118255615, 3.3801000118255615, 3.3798999786376953, 3.3768999576568604, 3.323499917984009, 3.342400074005127, 3.29259991645813, 3.238800048828125, 3.2290000915527344, 3.1884000301361084, 2.6068999767303467, 2.7177000045776367, 2.8798999786376953, 2.960599899291992, 2.957200050354004, 2.482300043106079, 2.1663999557495117, 2.3873000144958496, 2.1494998931884766, 2.3682000637054443, 2.581399917602539, 2.0696001052856445, 2.466200113296509, 2.33270001411438, 1.5930999517440796, 0.18080000579357147, 2.227299928665161, 1.0856000185012817, 3.6233999729156494, 3.623300075531006, 3.623199939727783, 3.6231000423431396, 3.622999906539917, 3.622999906539917, 3.6229000091552734, 3.6229000091552734, 3.6226999759674072, 3.6226000785827637, 3.622499942779541, 3.6224000453948975, 3.6224000453948975, 3.622299909591675, 3.622299909591675, 3.621999979019165, 3.621999979019165, 3.6219000816345215, 3.6219000816345215, 3.6219000816345215, 3.621799945831299, 3.621799945831299, 3.621799945831299, 3.621799945831299, 3.6217000484466553, 3.6217000484466553, 3.6217000484466553, 3.6217000484466553, 3.6215999126434326, 3.621500015258789, 3.6208999156951904, 3.584700107574463, 3.597899913787842, 3.618000030517578, 3.5776000022888184, 3.3757998943328857, 2.797100067138672, 3.3982999324798584, 2.939300060272217, 2.4695000648498535, 3.375699996948242, 2.2746999263763428, 2.1033999919891357, 2.262399911880493, 1.613800048828125, 1.8624000549316406, 1.4363000392913818, 1.5439000129699707, 2.7030999660491943, 1.4632999897003174, 1.753600001335144, 2.3290998935699463, 1.4112999439239502, 1.399899959564209, 1.8660999536514282, -0.3107999861240387, 1.1660000085830688, 1.4807000160217285, 0.5389999747276306], \"logprob\": [30.0, 29.0, 28.0, 27.0, 26.0, 25.0, 24.0, 23.0, 22.0, 21.0, 20.0, 19.0, 18.0, 17.0, 16.0, 15.0, 14.0, 13.0, 12.0, 11.0, 10.0, 9.0, 8.0, 7.0, 6.0, 5.0, 4.0, 3.0, 2.0, 1.0, -5.071300029754639, -5.482800006866455, -5.486800193786621, -5.700200080871582, -5.804599761962891, -5.840400218963623, -5.929800033569336, -5.9583001136779785, -6.033400058746338, -6.255899906158447, -6.266900062561035, -6.379199981689453, -6.421500205993652, -6.448299884796143, -6.509099960327148, -6.546299934387207, -6.639100074768066, -6.65500020980835, -6.671800136566162, -6.676700115203857, -6.730800151824951, -6.774700164794922, -6.780200004577637, -6.79449987411499, -6.819499969482422, -6.920000076293945, -6.6992998123168945, -6.982100009918213, -6.990900039672852, -7.011199951171875, -5.579100131988525, -5.6722002029418945, -6.519100189208984, -4.005799770355225, -6.118500232696533, -5.700900077819824, -6.3292999267578125, -5.126399993896484, -4.659800052642822, -5.665500164031982, -5.701200008392334, -5.700699806213379, -4.748899936676025, -6.168099880218506, -3.93969988822937, -5.250999927520752, -4.8958001136779785, -3.849600076675415, -5.827700138092041, -5.137800216674805, -4.916100025177002, -4.347700119018555, -4.44789981842041, -4.507900238037109, -5.124199867248535, -4.230800151824951, -3.6933999061584473, -4.727399826049805, -4.93120002746582, -4.9832000732421875, -5.257400035858154, -5.035999774932861, -5.112400054931641, -5.095799922943115, -5.329500198364258, -5.376800060272217, -5.51800012588501, -5.392099857330322, -5.480599880218506, -5.677199840545654, -5.7368998527526855, -5.782100200653076, -5.860400199890137, -5.945799827575684, -6.020400047302246, -6.043700218200684, -6.113699913024902, -5.589399814605713, -6.1717000007629395, -6.241199970245361, -6.186800003051758, -6.316199779510498, -6.362599849700928, -6.227099895477295, -6.509200096130371, -6.514100074768066, -6.593800067901611, -6.631700038909912, -6.67549991607666, -6.769999980926514, -6.79010009765625, -6.806399822235107, -6.823999881744385, -6.811999797821045, -6.881400108337402, -6.8892998695373535, -6.901100158691406, -6.9309000968933105, -6.956299781799316, -6.128200054168701, -6.193900108337402, -6.312300205230713, -6.250699996948242, -6.132900238037109, -6.493500232696533, -5.86269998550415, -5.802700042724609, -5.861800193786621, -6.333899974822998, -5.082099914550781, -6.135900020599365, -3.9702999591827393, -6.1743998527526855, -5.7164998054504395, -5.992000102996826, -5.250899791717529, -5.078800201416016, -5.113100051879883, -4.553400039672852, -5.938399791717529, -5.783899784088135, -4.956099987030029, -5.81790018081665, -5.884699821472168, -4.956099987030029, -5.3028998374938965, -5.26230001449585, -5.876999855041504, -4.763299942016602, -5.350200176239014, -5.8267998695373535, -5.607399940490723, -5.579800128936768, -5.604499816894531, -5.486800193786621, -5.769100189208984, -5.622799873352051, -5.692599773406982, -5.790200233459473, -5.683199882507324, -5.712200164794922, -5.907400131225586, -5.950699806213379, -6.036600112915039, -6.171299934387207, -6.175099849700928, -6.210100173950195, -6.282700061798096, -6.401100158691406, -6.41480016708374, -6.488699913024902, -6.514699935913086, -6.523799896240234, -6.5690999031066895, -6.545899868011475, -6.598400115966797, -6.601500034332275, -6.618199825286865, -6.766499996185303, -6.774499893188477, -6.700399875640869, -6.7947998046875, -6.871099948883057, -6.905600070953369, -6.972599983215332, -6.998899936676025, -7.007299900054932, -7.154200077056885, -7.1682000160217285, -7.172800064086914, -7.235499858856201, -5.731100082397461, -6.684999942779541, -6.59499979019165, -6.904399871826172, -5.702700138092041, -5.859099864959717, -5.64169979095459, -6.627799987792969, -6.436699867248535, -6.190800189971924, -5.372200012207031, -5.392899990081787, -4.252099990844727, -5.14169979095459, -6.1981000900268555, -4.821599960327148, -5.214300155639648, -5.3480000495910645, -5.060800075531006, -6.066400051116943, -6.163700103759766, -5.633200168609619, -6.124899864196777, -5.8892998695373535, -4.305600166320801, -5.2621002197265625, -5.731500148773193, -5.268199920654297, -5.260000228881836, -4.838799953460693, -5.025400161743164, -4.412499904632568, -4.883399963378906, -5.4028000831604, -4.87939977645874, -5.3084001541137695, -5.2434000968933105, -4.7469000816345215, -5.479899883270264, -5.32889986038208, -5.602700233459473, -5.5584001541137695, -5.548299789428711, -5.5441999435424805, -5.367499828338623, -5.551199913024902, -5.556700229644775, -5.567599773406982, -5.395999908447266, -5.721700191497803, -5.771500110626221, -5.897799968719482, -6.448999881744385, -6.100200176239014, -6.716599941253662, -6.755899906158447, -6.791900157928467, -6.828000068664551, -6.172999858856201, -6.933000087738037, -7.003399848937988, -7.031199932098389, -6.365300178527832, -7.0854997634887695, -7.091800212860107, -7.121500015258789, -7.152100086212158, -7.186399936676025, -7.207200050354004, -6.863399982452393, -7.338500022888184, -7.308300018310547, -7.4679999351501465, -7.485599994659424, -7.561500072479248, -7.575799942016602, -7.577400207519531, -7.622099876403809, -4.599100112915039, -6.630000114440918, -7.086100101470947, -7.524199962615967, -6.630000114440918, -6.695199966430664, -6.676499843597412, -6.954100131988525, -6.659599781036377, -5.44189977645874, -4.840799808502197, -5.95989990234375, -5.826700210571289, -6.413700103759766, -6.170899868011475, -6.256199836730957, -5.130499839782715, -6.486400127410889, -5.614999771118164, -6.353000164031982, -5.133299827575684, -5.334799766540527, -6.277100086212158, -5.635700225830078, -5.804999828338623, -5.825399875640869, -5.574999809265137, -5.768099784851074, -5.964900016784668, -4.182799816131592, -4.521399974822998, -4.523200035095215, -5.428400039672852, -5.803899765014648, -5.604400157928467, -4.982100009918213, -5.140600204467773, -5.23330020904541, -4.85260009765625, -5.269100189208984, -5.246500015258789, -5.117800235748291, -5.565499782562256, -5.236999988555908, -5.636199951171875, -5.675000190734863, -5.2906999588012695, -5.543300151824951, -5.442599773406982, -5.422699928283691, -5.493599891662598, -5.451000213623047, -5.51039981842041, -5.593100070953369, -5.59060001373291, -3.7244999408721924, -4.869500160217285, -5.114999771118164, -5.4421000480651855, -5.730400085449219, -6.003200054168701, -6.019400119781494, -6.269199848175049, -6.320499897003174, -6.3815999031066895, -6.564799785614014, -6.65339994430542, -6.663000106811523, -6.6946001052856445, -6.7606000900268555, -6.769899845123291, -6.776599884033203, -6.7895002365112305, -6.857399940490723, -6.868199825286865, -6.871500015258789, -6.920400142669678, -6.991099834442139, -7.035099983215332, -7.139500141143799, -7.169899940490723, -7.177999973297119, -7.2083001136779785, -7.211100101470947, -7.230299949645996, -5.15369987487793, -5.387700080871582, -5.493599891662598, -6.054299831390381, -5.8231000900268555, -4.148399829864502, -5.703400135040283, -4.532299995422363, -5.088099956512451, -5.14709997177124, -4.135300159454346, -6.092899799346924, -5.530200004577637, -6.107100009918213, -6.143599987030029, -5.631499767303467, -3.964900016784668, -5.563300132751465, -6.035999774932861, -5.648200035095215, -3.493799924850464, -4.410600185394287, -4.1468000411987305, -5.177599906921387, -5.205999851226807, -4.211999893188477, -3.8924999237060547, -4.8165998458862305, -4.581900119781494, -4.1479997634887695, -4.941800117492676, -4.922800064086914, -4.674900054931641, -4.978400230407715, -5.2322998046875, -4.835700035095215, -4.655700206756592, -4.999599933624268, -5.095699787139893, -5.2758002281188965, -4.292300224304199, -5.287199974060059, -5.504199981689453, -5.550300121307373, -5.713799953460693, -5.719699859619141, -5.760700225830078, -5.802800178527832, -5.8383002281188965, -5.933499813079834, -5.954599857330322, -5.98199987411499, -5.982800006866455, -6.042699813842773, -6.088799953460693, -6.133200168609619, -6.148900032043457, -6.193600177764893, -6.269599914550781, -6.152299880981445, -6.28000020980835, -6.307799816131592, -6.317500114440918, -6.322400093078613, -6.341800212860107, -6.319399833679199, -6.393599987030029, -6.417600154876709, -6.437600135803223, -6.475500106811523, -4.32420015335083, -2.61929988861084, -4.888599872589111, -3.032099962234497, -5.826600074768066, -4.837299823760986, -4.940999984741211, -5.523499965667725, -4.951200008392334, -5.250400066375732, -5.11269998550415, -5.650100231170654, -5.889699935913086, -5.375199794769287, -4.561500072479248, -5.351799964904785, -5.372600078582764, -4.7692999839782715, -5.195199966430664, -5.076900005340576, -5.4944000244140625, -5.399600028991699, -4.833199977874756, -4.87939977645874, -5.463600158691406, -5.569799900054932, -5.455100059509277, -5.366199970245361, -5.1894001960754395, -5.2906999588012695, -5.361299991607666, -5.395299911499023, -5.473700046539307, -4.320199966430664, -5.1519999504089355, -5.2667999267578125, -5.363999843597412, -5.374499797821045, -5.622700214385986, -5.670499801635742, -5.784900188446045, -5.840700149536133, -5.890999794006348, -6.093599796295166, -6.153200149536133, -6.223800182342529, -6.273799896240234, -6.307300090789795, -6.329500198364258, -6.502299785614014, -6.513299942016602, -6.521200180053711, -6.528800010681152, -6.5945000648498535, -6.611599922180176, -6.617099761962891, -6.657899856567383, -6.686399936676025, -6.742099761962891, -6.747000217437744, -6.820300102233887, -6.564000129699707, -6.855599880218506, -4.627299785614014, -6.747099876403809, -6.4980998039245605, -5.371099948883057, -6.030700206756592, -4.4105000495910645, -5.363399982452393, -5.8582000732421875, -6.030399799346924, -4.398900032043457, -5.315999984741211, -5.720900058746338, -4.310200214385986, -5.889999866485596, -4.533299922943115, -4.972400188446045, -5.639900207519531, -4.443699836730957, -5.717100143432617, -4.940000057220459, -5.675099849700928, -5.03380012512207, -5.358799934387207, -4.109399795532227, -5.48829984664917, -5.164100170135498, -5.514999866485596, -5.2399001121521, -5.304999828338623, -5.4618000984191895, -5.382400035858154, -5.472599983215332, -5.331099987030029, -5.550600051879883, -5.448500156402588, -5.486599922180176, -5.504799842834473, -4.06790018081665, -4.67080020904541, -4.809899806976318, -5.115300178527832, -5.251200199127197, -5.252600193023682, -5.264100074768066, -5.4710001945495605, -5.5903000831604, -5.742199897766113, -5.86269998550415, -6.080699920654297, -4.701499938964844, -6.221099853515625, -6.324699878692627, -6.405399799346924, -6.42549991607666, -6.582300186157227, -6.5954999923706055, -6.606800079345703, -6.67140007019043, -6.778299808502197, -6.815199851989746, -6.7677001953125, -6.831099987030029, -6.8445000648498535, -6.86899995803833, -6.882999897003174, -6.89169979095459, -6.898499965667725, -6.652100086212158, -6.186699867248535, -5.918399810791016, -5.890900135040283, -3.5380001068115234, -6.124899864196777, -5.904200077056885, -5.377500057220459, -5.0524001121521, -5.070700168609619, -4.530799865722656, -4.932499885559082, -5.4842000007629395, -5.502500057220459, -5.480999946594238, -4.950200080871582, -5.147299766540527, -4.969900131225586, -4.996699810028076, -4.739799976348877, -4.254799842834473, -4.688000202178955, -4.638299942016602, -3.799099922180176, -4.588900089263916, -4.587500095367432, -4.678699970245361, -4.751200199127197, -5.1707000732421875, -4.840400218963623, -4.998300075531006, -4.8607001304626465, -5.078499794006348, -5.18179988861084, -4.610099792480469, -4.813300132751465, -5.116300106048584, -5.282700061798096, -5.506800174713135, -5.541100025177002, -5.856599807739258, -5.891300201416016, -6.019000053405762, -6.073699951171875, -6.115099906921387, -6.229800224304199, -6.257199764251709, -6.2835001945495605, -6.468200206756592, -6.607399940490723, -6.635200023651123, -6.551000118255615, -6.708099842071533, -6.743199825286865, -6.762400150299072, -6.776599884033203, -6.795899868011475, -6.647200107574463, -6.872300148010254, -6.90369987487793, -6.902599811553955, -6.910099983215332, -6.8730998039245605, -6.954899787902832, -5.304200172424316, -6.321700096130371, -6.252200126647949, -5.94890022277832, -6.604899883270264, -4.114099979400635, -6.112199783325195, -5.9816999435424805, -6.022900104522705, -6.3470001220703125, -5.763999938964844, -5.365699768066406, -6.149199962615967, -4.99429988861084, -5.918399810791016, -5.494500160217285, -4.837500095367432, -3.979099988937378, -5.353499889373779, -4.944900035858154, -5.814300060272217, -5.522299766540527, -5.099400043487549, -5.281599998474121, -4.5929999351501465, -4.385700225830078, -4.980800151824951, -5.230400085449219, -4.752699851989746, -5.428599834442139, -5.379199981689453, -5.189300060272217, -5.38539981842041, -4.992000102996826, -5.0777997970581055, -4.297399997711182, -5.166100025177002, -5.106500148773193, -5.125500202178955, -4.898799896240234, -5.025400161743164, -5.120999813079834, -5.258999824523926, -5.347300052642822, -3.168100118637085, -3.744499921798706, -3.949199914932251, -4.088799953460693, -5.05210018157959, -5.155700206756592, -5.2154998779296875, -5.219799995422363, -5.390699863433838, -5.6508002281188965, -5.851500034332275, -6.011099815368652, -6.033199787139893, -6.045899868011475, -6.047900199890137, -6.0584001541137695, -6.0630998611450195, -6.067200183868408, -6.075099945068359, -6.309500217437744, -6.337399959564209, -6.376100063323975, -6.495299816131592, -6.523099899291992, -6.526400089263916, -6.564799785614014, -6.583199977874756, -6.595699787139893, -6.600900173187256, -6.652900218963623, -3.945199966430664, -6.180799961090088, -3.4430999755859375, -5.541600227355957, -6.360000133514404, -5.468400001525879, -6.393899917602539, -5.968299865722656, -5.040599822998047, -5.472499847412109, -5.337100028991699, -5.517199993133545, -4.896699905395508, -5.415599822998047, -5.433199882507324, -4.914400100708008, -4.650400161743164, -5.042399883270264, -4.551799774169922, -5.656000137329102, -4.212800025939941, -5.508500099182129, -5.124199867248535, -5.027699947357178, -5.151800155639648, -5.315700054168701, -5.322199821472168, -5.370500087738037, -5.418099880218506, -5.433800220489502, -3.89739990234375, -3.903599977493286, -4.436600208282471, -4.543700218200684, -4.983099937438965, -5.046800136566162, -5.093699932098389, -5.309100151062012, -5.458499908447266, -5.609000205993652, -5.656599998474121, -5.684100151062012, -5.684100151062012, -5.799099922180176, -5.808000087738037, -5.90310001373291, -5.920300006866455, -5.979400157928467, -6.018799781799316, -6.029900074005127, -6.0345001220703125, -6.087699890136719, -6.14870023727417, -6.283400058746338, -6.341100215911865, -6.391900062561035, -6.401000022888184, -6.427000045776367, -6.438499927520752, -6.4618000984191895, -5.018700122833252, -6.407400131225586, -5.392499923706055, -5.1381001472473145, -5.667900085449219, -3.8213999271392822, -5.630000114440918, -4.926599979400635, -4.917300224304199, -5.13670015335083, -5.414100170135498, -5.706099987030029, -4.0696001052856445, -4.73769998550415, -4.742099761962891, -5.10860013961792, -5.159299850463867, -4.329100131988525, -5.377999782562256, -3.941800117492676, -4.933700084686279, -5.350299835205078, -5.2642998695373535, -4.980400085449219, -5.190899848937988, -5.096199989318848, -5.130799770355225, -5.153800010681152, -5.263999938964844, -5.22160005569458, -4.2459001541137695, -5.133299827575684, -4.099599838256836, -5.264699935913086, -5.5584001541137695, -5.661300182342529, -5.686200141906738, -5.821400165557861, -5.9394001960754395, -5.95419979095459, -5.950300216674805, -6.167799949645996, -6.179699897766113, -6.21150016784668, -6.27370023727417, -6.303899765014648, -4.813899993896484, -6.32859992980957, -6.329599857330322, -6.375199794769287, -6.424600124359131, -6.503600120544434, -6.5243000984191895, -6.538700103759766, -6.5395002365112305, -6.5406999588012695, -6.565899848937988, -6.591100215911865, -6.625199794769287, -6.6433000564575195, -5.526899814605713, -5.80649995803833, -6.399099826812744, -6.111999988555908, -4.338799953460693, -4.5640997886657715, -6.239299774169922, -6.186699867248535, -5.7540998458862305, -5.706399917602539, -4.389599800109863, -5.277100086212158, -5.782800197601318, -5.048399925231934, -4.824699878692627, -4.979499816894531, -5.185100078582764, -5.112500190734863, -5.7322001457214355, -5.174300193786621, -4.966400146484375, -4.668700218200684, -4.380899906158447, -5.520400047302246, -5.303299903869629, -5.060500144958496, -5.161600112915039, -5.477399826049805, -5.126399993896484, -5.350800037384033, -5.477099895477295, -5.310800075531006, -5.5015997886657715, -5.468200206756592, -3.4683001041412354, -4.0817999839782715, -4.346700191497803, -4.4953999519348145, -4.700399875640869, -4.759500026702881, -5.21120023727417, -5.353300094604492, -5.5833001136779785, -5.600900173187256, -5.601600170135498, -5.637400150299072, -5.776700019836426, -5.86899995803833, -5.930200099945068, -5.98829984664917, -6.087800025939941, -6.028200149536133, -6.170100212097168, -6.182600021362305, -6.2519001960754395, -5.822700023651123, -6.396399974822998, -6.416800022125244, -6.461100101470947, -6.5167999267578125, -6.55709981918335, -6.570199966430664, -6.61929988861084, -6.63670015335083, -5.568699836730957, -4.152900218963623, -6.164700031280518, -6.2480998039245605, -6.115099906921387, -6.318600177764893, -6.252299785614014, -4.4334001541137695, -3.8071000576019287, -4.44320011138916, -3.583400011062622, -4.230500221252441, -5.096799850463867, -5.489099979400635, -3.6903998851776123, -5.059899806976318, -5.438899993896484, -5.58519983291626, -5.1031999588012695, -4.641499996185303, -4.718699932098389, -5.338799953460693, -3.578399896621704, -4.441299915313721, -4.809199810028076, -4.948200225830078, -5.018799781799316, -4.649700164794922, -5.186800003051758, -5.254799842834473, -5.350200176239014, -5.2718000411987305, -5.297299861907959, -5.331900119781494, -4.4440999031066895, -5.10129976272583, -5.285799980163574, -5.401800155639648, -5.648200035095215, -5.682000160217285, -5.7230000495910645, -5.782400131225586, -5.8846001625061035, -5.991399765014648, -6.055099964141846, -6.055500030517578, -6.057000160217285, -6.063700199127197, -6.0578999519348145, -6.07420015335083, -6.081500053405762, -6.10129976272583, -6.1230998039245605, -6.150700092315674, -6.193900108337402, -6.211299896240234, -6.216800212860107, -6.228899955749512, -6.249000072479248, -6.2941999435424805, -6.34499979019165, -6.407899856567383, -6.444200038909912, -6.472499847412109, -5.6493000984191895, -4.82859992980957, -5.848499774932861, -5.914000034332275, -5.57390022277832, -5.796299934387207, -5.315100193023682, -5.236999988555908, -5.301300048828125, -5.421000003814697, -5.207200050354004, -5.241399765014648, -5.4232001304626465, -5.6722002029418945, -5.381499767303467, -5.67710018157959, -5.083799839019775, -5.381899833679199, -5.835400104522705, -5.540299892425537, -4.5833001136779785, -5.517399787902832, -4.539000034332275, -5.441199779510498, -5.284999847412109, -5.3429999351501465, -5.272900104522705, -5.267000198364258, -5.273799896240234, -5.567800045013428, -5.585700035095215, -4.970900058746338, -5.062900066375732, -5.126200199127197, -5.1697001457214355, -5.413599967956543, -5.433899879455566, -5.440999984741211, -5.4903998374938965, -5.568699836730957, -5.635300159454346, -5.263400077819824, -5.793799877166748, -5.794000148773193, -5.827600002288818, -5.904799938201904, -5.928899765014648, -5.946100234985352, -5.967899799346924, -6.020299911499023, -6.034800052642822, -6.037799835205078, -5.988800048828125, -6.089300155639648, -6.142899990081787, -6.189899921417236, -6.320099830627441, -6.330900192260742, -6.3471999168396, -6.35260009765625, -6.376699924468994, -4.298299789428711, -5.854300022125244, -4.46560001373291, -4.153600215911865, -4.279699802398682, -4.407299995422363, -4.986299991607666, -4.853700160980225, -5.231100082397461, -4.569699764251709, -4.7982001304626465, -4.670599937438965, -5.049099922180176, -5.576700210571289, -4.526899814605713, -5.679599761962891, -5.0507001876831055, -4.801199913024902, -5.484000205993652, -5.3491997718811035, -5.053299903869629, -4.873899936676025, -5.256199836730957, -5.2368998527526855, -5.179900169372559, -5.361700057983398, -5.255300045013428, -5.367499828338623, -4.425899982452393, -4.711999893188477, -4.765600204467773, -4.863399982452393, -5.031400203704834, -5.164899826049805, -5.322400093078613, -5.354400157928467, -5.384099960327148, -5.52400016784668, -5.56689977645874, -5.6168999671936035, -5.622900009155273, -5.705399990081787, -5.755899906158447, -5.766200065612793, -5.813700199127197, -5.481200218200684, -5.886000156402588, -5.997399806976318, -6.018599987030029, -6.107900142669678, -6.113800048828125, -6.136000156402588, -6.183800220489502, -6.2881999015808105, -6.3078999519348145, -6.317200183868408, -6.322400093078613, -6.334700107574463, -5.516499996185303, -5.383200168609619, -5.719399929046631, -5.346700191497803, -4.7692999839782715, -5.490699768066406, -5.137599945068359, -5.979499816894531, -4.931700229644775, -5.790299892425537, -5.584400177001953, -5.089399814605713, -3.5120999813079834, -5.13539981842041, -5.043000221252441, -4.780300140380859, -5.274099826812744, -5.212399959564209, -4.919600009918213, -5.204800128936768, -5.390100002288818, -5.252200126647949, -5.098100185394287, -5.345300197601318, -5.2505998611450195, -5.348899841308594, -5.360300064086914, -4.174099922180176, -4.7418999671936035, -4.906899929046631, -5.0920000076293945, -5.2144999504089355, -5.334099769592285, -5.412099838256836, -5.465799808502197, -5.477700233459473, -5.4893999099731445, -5.604899883270264, -5.684700012207031, -5.703800201416016, -5.714300155639648, -5.735400199890137, -5.813000202178955, -5.890100002288818, -5.9334001541137695, -5.963200092315674, -6.0503997802734375, -6.105299949645996, -6.127900123596191, -6.2027997970581055, -6.266499996185303, -6.279900074005127, -6.315100193023682, -5.721399784088135, -6.354000091552734, -6.3368000984191895, -6.361199855804443, -4.998000144958496, -4.268099784851074, -3.783900022506714, -4.817299842834473, -4.0706000328063965, -5.936299800872803, -4.471199989318848, -4.389599800109863, -4.63640022277832, -5.341599941253662, -4.830599784851074, -5.100599765777588, -5.219799995422363, -5.433000087738037, -5.036600112915039, -4.797999858856201, -4.053800106048584, -5.279200077056885, -5.338900089263916, -4.950799942016602, -5.086999893188477, -5.2357001304626465, -5.202099800109863, -4.992300033569336, -4.874300003051758, -5.296500205993652, -5.213799953460693, -5.273099899291992, -5.276899814605713, -4.195499897003174, -4.860300064086914, -4.968200206756592, -5.006800174713135, -5.12060022354126, -5.280900001525879, -5.454100131988525, -5.4664998054504395, -5.543600082397461, -5.709700107574463, -5.725500106811523, -5.781799793243408, -5.850599765777588, -5.872399806976318, -5.899400234222412, -6.220799922943115, -6.329599857330322, -6.3907999992370605, -6.406000137329102, -6.453700065612793, -6.467700004577637, -6.481599807739258, -6.484899997711182, -6.4878997802734375, -6.494200229644775, -6.512400150299072, -6.536099910736084, -6.554500102996826, -6.562399864196777, -6.56850004196167, -6.56279993057251, -6.47629976272583, -6.1132001876831055, -6.1031999588012695, -4.519499778747559, -5.748000144958496, -5.869999885559082, -4.776800155639648, -6.073299884796143, -5.106800079345703, -4.8902997970581055, -5.863500118255615, -5.734399795532227, -4.211999893188477, -4.1697001457214355, -4.520199775695801, -5.443299770355225, -4.809999942779541, -4.893199920654297, -5.4770002365112305, -5.007699966430664, -5.085299968719482, -4.406400203704834, -5.460999965667725, -5.005199909210205, -5.579699993133545, -4.99459981918335, -4.889699935913086, -5.139500141143799, -5.378499984741211, -5.425300121307373, -5.059299945831299, -5.295899868011475, -5.357399940490723, -5.423500061035156, -5.4440999031066895, -4.135700225830078, -4.195099830627441, -4.339000225067139, -4.498600006103516, -4.507599830627441, -4.598999977111816, -5.02839994430542, -5.098800182342529, -5.3059000968933105, -5.309500217437744, -5.409900188446045, -5.444499969482422, -5.504899978637695, -5.609000205993652, -5.646999835968018, -5.723899841308594, -5.74970006942749, -5.7708001136779785, -5.819799900054932, -5.872000217437744, -5.911200046539307, -5.969200134277344, -6.007599830627441, -6.053999900817871, -6.055200099945068, -6.143899917602539, -6.172900199890137, -6.244900226593018, -6.280700206756592, -6.373600006103516, -4.6407999992370605, -3.9681999683380127, -5.0289998054504395, -4.876100063323975, -4.564199924468994, -4.745699882507324, -5.053599834442139, -4.10830020904541, -4.394000053405762, -4.804500102996826, -5.111599922180176, -5.112299919128418, -4.606500148773193, -4.235799789428711, -4.577899932861328, -4.333899974822998, -4.599599838256836, -4.8343000411987305, -4.436299800872803, -4.749100208282471, -4.754799842834473, -4.498600006103516, -4.23960018157959, -4.991199970245361, -4.811699867248535, -3.28629994392395, -4.27370023727417, -4.701099872589111, -4.905399799346924, -5.064899921417236, -5.131899833679199, -5.143599987030029, -5.288899898529053, -5.509900093078613, -5.684500217437744, -5.712399959564209, -5.873199939727783, -5.873899936676025, -5.899700164794922, -5.918399810791016, -6.1433000564575195, -6.149700164794922, -6.193999767303467, -6.220099925994873, -6.220900058746338, -6.238999843597412, -6.244100093841553, -6.260300159454346, -6.287600040435791, -6.304999828338623, -6.335400104522705, -6.343299865722656, -6.343999862670898, -6.355199813842773, -6.402900218963623, -6.186100006103516, -4.110499858856201, -5.013899803161621, -6.0258002281188965, -4.406799793243408, -3.890500068664551, -4.242099761962891, -5.826700210571289, -5.041600227355957, -4.406099796295166, -5.860899925231934, -4.49459981918335, -4.389500141143799, -4.658599853515625, -4.149099826812744, -4.468900203704834, -4.131700038909912, -4.3383002281188965, -5.342899799346924, -4.721399784088135, -4.9141998291015625, -5.23859977722168, -4.810400009155273, -4.9274001121521, -5.146900177001953, -4.731200218200684, -5.091599941253662, -5.212399959564209, -5.221499919891357]}, \"token.table\": {\"Topic\": [1, 2, 3, 6, 7, 9, 11, 12, 13, 14, 16, 18, 20, 2, 3, 6, 7, 10, 11, 12, 13, 1, 2, 3, 4, 6, 7, 8, 9, 11, 13, 16, 4, 6, 13, 14, 16, 20, 14, 11, 14, 17, 14, 18, 1, 4, 6, 9, 11, 14, 11, 2, 2, 8, 10, 1, 2, 4, 5, 7, 10, 17, 2, 3, 4, 5, 6, 7, 9, 11, 12, 16, 17, 19, 20, 3, 6, 7, 9, 11, 12, 15, 17, 11, 14, 16, 19, 6, 6, 3, 4, 6, 8, 11, 17, 18, 3, 14, 14, 1, 2, 3, 4, 6, 11, 12, 14, 16, 17, 19, 20, 12, 2, 3, 4, 9, 12, 1, 2, 4, 6, 9, 10, 11, 13, 14, 15, 19, 6, 6, 17, 2, 7, 1, 9, 1, 8, 3, 2, 10, 1, 8, 11, 5, 7, 1, 2, 3, 4, 5, 6, 7, 8, 9, 10, 11, 12, 13, 14, 15, 16, 17, 18, 19, 20, 1, 3, 4, 13, 16, 20, 3, 7, 10, 13, 5, 8, 12, 3, 2, 17, 4, 4, 15, 8, 14, 1, 7, 11, 20, 2, 3, 4, 7, 9, 10, 17, 18, 5, 9, 11, 16, 11, 11, 4, 1, 3, 4, 5, 6, 9, 11, 13, 16, 18, 11, 8, 11, 16, 11, 1, 11, 16, 20, 1, 8, 1, 5, 7, 8, 20, 5, 7, 19, 1, 2, 12, 1, 2, 3, 4, 5, 6, 7, 8, 9, 10, 11, 12, 13, 14, 15, 16, 17, 18, 19, 20, 1, 2, 4, 6, 8, 11, 12, 13, 14, 15, 16, 19, 20, 6, 2, 17, 1, 3, 4, 5, 8, 9, 10, 13, 16, 18, 14, 15, 10, 17, 1, 2, 3, 5, 6, 7, 11, 12, 17, 18, 5, 1, 5, 12, 4, 6, 13, 5, 1, 2, 3, 4, 5, 6, 8, 12, 13, 14, 16, 18, 19, 20, 6, 17, 1, 3, 6, 5, 6, 1, 2, 4, 5, 7, 8, 9, 11, 12, 14, 16, 19, 20, 1, 1, 2, 3, 7, 13, 14, 19, 4, 7, 8, 10, 13, 3, 8, 1, 3, 4, 5, 7, 8, 9, 15, 18, 6, 20, 17, 10, 16, 1, 5, 7, 8, 10, 11, 15, 19, 20, 13, 16, 2, 3, 6, 12, 4, 13, 9, 15, 15, 13, 7, 1, 2, 3, 4, 5, 6, 8, 9, 11, 12, 13, 14, 15, 16, 17, 18, 20, 8, 8, 17, 9, 2, 11, 2, 18, 20, 5, 8, 7, 2, 17, 18, 6, 14, 1, 2, 3, 4, 5, 6, 7, 9, 10, 11, 12, 15, 16, 19, 12, 9, 5, 7, 1, 1, 2, 3, 5, 7, 8, 9, 10, 14, 16, 19, 20, 1, 5, 7, 15, 3, 11, 5, 19, 2, 4, 6, 9, 12, 14, 15, 16, 17, 18, 10, 13, 14, 15, 3, 14, 7, 17, 15, 20, 17, 18, 10, 9, 10, 13, 1, 16, 5, 19, 13, 9, 17, 4, 11, 2, 14, 15, 1, 8, 12, 7, 2, 3, 14, 17, 2, 4, 12, 15, 17, 10, 13, 9, 18, 4, 11, 1, 5, 7, 5, 7, 8, 15, 16, 10, 13, 13, 13, 4, 20, 1, 2, 12, 13, 17, 19, 10, 9, 9, 7, 12, 6, 5, 9, 8, 3, 4, 5, 6, 9, 12, 13, 14, 16, 18, 19, 1, 2, 3, 4, 5, 7, 8, 9, 10, 11, 12, 13, 14, 15, 16, 17, 18, 19, 4, 5, 7, 19, 2, 19, 19, 4, 1, 2, 5, 7, 8, 10, 14, 16, 17, 1, 5, 8, 5, 4, 8, 13, 1, 4, 5, 8, 13, 1, 4, 12, 19, 2, 5, 8, 11, 18, 2, 3, 4, 6, 7, 9, 10, 13, 15, 16, 20, 11, 14, 15, 19, 1, 3, 4, 7, 9, 10, 13, 14, 18, 9, 18, 18, 20, 11, 11, 19, 4, 5, 15, 11, 2, 18, 13, 11, 16, 1, 2, 7, 8, 9, 10, 12, 14, 15, 18, 6, 9, 11, 15, 6, 1, 5, 8, 11, 15, 17, 4, 14, 20, 4, 8, 11, 13, 14, 19, 1, 2, 3, 7, 8, 10, 12, 13, 14, 16, 17, 19, 20, 1, 5, 11, 1, 2, 3, 4, 5, 6, 8, 9, 11, 13, 15, 18, 20, 16, 8, 15, 13, 1, 3, 7, 8, 11, 12, 14, 18, 4, 11, 1, 2, 3, 4, 5, 8, 9, 12, 13, 15, 16, 17, 1, 2, 3, 4, 6, 9, 12, 13, 16, 17, 18, 19, 20, 12, 13, 8, 10, 11, 7, 13, 2, 3, 4, 14, 1, 3, 4, 6, 9, 11, 12, 13, 14, 17, 7, 12, 14, 3, 4, 20, 2, 12, 7, 8, 10, 15, 3, 4, 4, 1, 3, 13, 6, 9, 19, 2, 3, 20, 12, 4, 15, 12, 16, 9, 19, 6, 15, 1, 2, 3, 4, 5, 6, 8, 9, 10, 11, 12, 13, 14, 15, 16, 17, 18, 19, 20, 1, 2, 3, 5, 7, 8, 10, 11, 12, 16, 19, 20, 7, 10, 13, 19, 16, 9, 14, 17, 3, 7, 10, 13, 15, 5, 8, 15, 8, 11, 2, 6, 9, 12, 13, 3, 20, 11, 17, 2, 4, 5, 13, 4, 9, 4, 5, 7, 9, 11, 14, 17, 18, 1, 2, 3, 4, 5, 6, 7, 8, 9, 10, 11, 12, 13, 14, 15, 16, 19, 7, 10, 13, 14, 15, 7, 11, 19, 20, 6, 8, 10, 11, 12, 14, 17, 18, 1, 2, 3, 4, 5, 7, 8, 10, 13, 15, 13, 5, 20, 17, 13, 3, 8, 18, 6, 16, 1, 6, 12, 1, 14, 5, 20, 17, 10, 1, 2, 3, 5, 7, 8, 10, 11, 13, 15, 17, 14, 17, 7, 20, 18, 8, 9, 10, 15, 20, 2, 4, 9, 10, 20, 2, 10, 14, 15, 16, 1, 12, 3, 8, 12, 2, 3, 14, 17, 19, 13, 9, 16, 3, 4, 1, 8, 3, 9, 4, 16, 12, 20, 6, 12, 7, 13, 18, 4, 10, 7, 10, 14, 12, 16, 17, 19, 12, 7, 4, 3, 4, 5, 6, 7, 10, 11, 12, 13, 14, 17, 5, 9, 18, 3, 19, 20, 3, 17, 18, 3, 11, 3, 15, 10, 2, 3, 4, 10, 1, 2, 3, 4, 6, 8, 9, 10, 11, 12, 13, 14, 15, 16, 17, 18, 20, 4, 10, 16, 19, 1, 4, 11, 16, 19, 1, 3, 4, 8, 13, 16, 13, 5, 7, 5, 13, 6, 15, 12, 4, 1, 16, 1, 2, 7, 14, 3, 2, 3, 4, 5, 8, 9, 14, 18, 20, 1, 2, 3, 4, 6, 8, 11, 12, 13, 14, 15, 16, 18, 20, 2, 3, 4, 8, 12, 18, 20, 3, 11, 2, 3, 4, 5, 7, 8, 9, 10, 12, 13, 14, 15, 16, 18, 19, 9, 2, 3, 5, 7, 8, 10, 14, 15, 18, 12, 4, 7, 13, 2, 3, 4, 5, 6, 12, 15, 7, 9, 20, 4, 8, 15, 19, 13, 14, 9, 11, 1, 2, 5, 7, 8, 9, 12, 14, 15, 16, 1, 5, 7, 8, 17, 20, 17, 18, 16, 4, 13, 19, 1, 2, 3, 4, 5, 6, 7, 8, 9, 10, 11, 12, 13, 16, 17, 18, 19, 20, 14, 2, 3, 4, 5, 7, 8, 9, 11, 12, 13, 14, 15, 16, 19, 20, 3, 13, 7, 5, 17, 3, 1, 3, 4, 9, 10, 12, 14, 16, 18, 20, 4, 16, 17, 19, 1, 5, 14, 1, 4, 5, 7, 8, 13, 16, 18, 19, 2, 3, 4, 6, 7, 8, 9, 11, 13, 15, 16, 18, 20, 5, 6, 10, 12, 14, 17, 18, 10, 1, 5, 16, 14, 15, 5, 1, 2, 3, 10, 11, 12, 15, 17, 18, 2, 3, 4, 5, 7, 8, 9, 12, 13, 18, 20, 12, 3, 10, 16, 2, 4, 6, 11, 17, 18, 2, 14, 8, 17, 15, 4, 18, 5, 7, 1, 2, 3, 4, 5, 6, 7, 9, 11, 12, 13, 14, 16, 17, 18, 4, 2, 8, 3, 7, 9, 10, 11, 12, 15, 18, 9, 15, 16, 17, 4, 13, 5, 3, 8, 12, 14, 15, 16, 1, 1, 2, 3, 4, 6, 7, 9, 11, 12, 13, 14, 15, 17, 18, 6, 12, 15, 19, 11, 4, 6, 17, 18, 7, 10, 1, 2, 5, 7, 8, 10, 11, 13, 16, 19, 20, 7, 8, 7, 1, 2, 8, 9, 10, 18, 11, 14, 1, 1, 2, 4, 5, 7, 8, 9, 11, 13, 14, 15, 16, 17, 20, 5, 8, 16, 19, 7, 2, 13, 19, 1, 19, 13, 5, 7, 9, 20, 8, 5, 5, 9, 2, 11, 19, 11, 11, 18, 3, 4, 17, 2, 3, 6, 7, 10, 16, 20, 1, 2, 3, 4, 5, 7, 9, 10, 11, 13, 16, 19, 3, 4, 6, 10, 14, 15, 14, 15, 14, 14, 2, 19, 17, 3, 4, 15, 18, 2, 18, 15, 1, 2, 5, 7, 8, 9, 11, 12, 14, 16, 18, 1, 9, 12, 17, 9, 10, 13, 15, 16, 20, 5, 7, 8, 1, 2, 3, 4, 5, 6, 7, 8, 9, 10, 12, 14, 15, 16, 1, 2, 3, 4, 5, 9, 11, 12, 16, 17, 19, 4, 1, 3, 10, 20, 2, 4, 7, 8, 18, 6, 7, 18, 10, 15, 10, 1, 3, 4, 5, 6, 8, 9, 12, 15, 18, 19, 20, 4, 1, 4, 13, 3, 4, 7, 9, 10, 13, 15, 16, 18, 19, 20, 10, 10, 20, 20, 17, 1, 2, 3, 4, 5, 6, 7, 8, 10, 11, 12, 13, 16, 18, 19, 20, 2, 3, 13, 19, 1, 5, 9, 1, 3, 4, 8, 9, 12, 13, 17, 19, 1, 14, 1, 5, 7, 8, 19, 20, 2, 3, 4, 9, 19, 6, 1, 5, 8, 20, 1, 5, 8, 20, 5, 17, 1, 5, 7, 8, 20, 5, 7, 8, 11, 12, 16, 19, 1, 5, 7, 8, 19, 20, 1, 5, 8, 11, 2, 8, 8, 2, 3, 6, 10, 11, 12, 13, 14, 15, 17, 18, 20, 5, 9, 9, 2, 5, 7, 14, 3, 6, 8, 10, 12, 14, 15, 16, 20, 18, 2, 11, 7, 8, 2, 3, 5, 7, 9, 12, 16, 17, 1, 4, 7, 1, 3, 5, 6, 7, 8, 11, 12, 15, 4, 13, 2, 14, 11, 13, 10, 1, 12, 1, 9, 12, 1, 3, 5, 12, 16, 14, 5, 12, 16, 20, 6, 1, 7, 2, 19, 16, 5, 8, 11, 1, 4, 5, 7, 8, 12, 20, 1, 2, 5, 7, 8, 11, 13, 16, 19, 20, 1, 3, 5, 10, 1, 3, 9, 11, 14, 16, 3, 14, 17, 1, 5, 2, 1, 2, 3, 4, 5, 6, 7, 9, 11, 12, 15, 16, 17, 1, 2, 3, 5, 7, 8, 9, 10, 12, 14, 15, 16, 17, 18, 19, 20, 10, 10, 16, 10, 1, 5, 8, 20, 17, 7, 3, 7, 17, 2, 3, 14, 17, 14, 1, 2, 3, 4, 5, 6, 7, 8, 9, 10, 11, 12, 13, 14, 15, 16, 17, 18, 20, 1, 2, 3, 4, 5, 7, 8, 9, 11, 13, 14, 15, 16, 17, 18, 19, 20, 1, 5, 6, 11, 17, 19, 5, 6, 9, 10, 12, 15, 17, 1, 2, 3, 5, 8, 9, 10, 11, 14, 18, 8, 10, 11, 6, 12, 1, 2, 3, 4, 7, 11, 13, 14, 16, 18, 19, 8, 8, 1, 2, 3, 4, 5, 6, 7, 8, 9, 10, 11, 12, 13, 14, 16, 17, 18, 19, 9, 13, 17, 18, 19, 5, 11, 1, 5, 11, 2, 3, 4, 5, 6, 7, 8, 9, 12, 13, 14, 15, 16, 17, 4, 9, 16, 1, 2, 3, 4, 5, 6, 7, 9, 10, 12, 13, 14, 15, 16, 17, 18, 20, 12, 12, 1, 2, 7, 8, 9, 10, 14, 15, 16, 18, 20, 19, 3, 5, 7, 11, 20, 1, 4, 8, 9, 12, 16, 19, 20, 13, 2, 6, 9, 10, 12, 14, 16, 17, 18, 19, 13, 20, 14, 5, 18, 2, 6, 15, 18, 18, 10, 1, 2, 3, 4, 5, 6, 7, 8, 9, 10, 11, 12, 13, 14, 15, 16, 17, 18, 3, 5, 10, 14, 17, 16, 16, 10, 11, 7, 20, 15, 13, 14, 2, 3, 4, 5, 7, 8, 9, 10, 12, 13, 14, 15, 18, 19, 16, 10, 13, 14, 20, 1, 5, 7, 7, 11, 1, 2, 3, 4, 5, 6, 7, 8, 9, 10, 11, 12, 13, 14, 16, 17, 18, 19, 20, 7, 13, 9, 14, 16, 15, 1, 9, 10, 13, 19, 20, 1, 2, 3, 4, 5, 6, 8, 9, 10, 11, 12, 14, 15, 16, 18, 19, 20, 19, 2, 4, 14, 3, 4, 5, 6, 8, 9, 10, 11, 12, 16, 19, 4, 16, 14, 7, 7, 15, 7, 14, 7, 2, 4, 10, 13, 18, 19, 15, 12, 2, 4, 1, 5, 7, 8, 11, 20, 1, 5, 8, 10, 11, 15, 16, 1, 2, 6, 8, 11, 12, 13, 14, 16, 2, 8, 11, 20, 1, 13, 9, 6, 6, 12, 17, 1, 7, 8, 12, 17, 12, 1, 3, 4, 5, 6, 7, 8, 9, 11, 13, 20, 2, 7, 8, 9, 11, 12, 14, 1, 2, 3, 4, 5, 6, 7, 8, 9, 10, 11, 12, 13, 14, 17, 18, 19, 19, 4, 5, 8, 20, 5, 8, 9, 10, 15, 18, 5, 9, 17, 18, 15, 19, 5, 7, 8, 9, 12, 13, 14, 16, 19, 8, 1, 2, 3, 4, 5, 6, 9, 10, 12, 13, 14, 15, 17, 1, 6, 3, 5, 13, 14, 2, 4, 5, 7, 8, 9, 10, 11, 12, 15, 17, 18, 4, 19, 1, 3, 5, 7, 8, 10, 11, 13, 14, 16, 18, 19, 20, 4, 8, 18, 15, 1, 2, 4, 5, 7, 8, 13, 15, 16, 19, 2, 4, 3, 7, 18, 2, 3, 4, 5, 6, 8, 9, 11, 12, 15, 16, 17, 18, 1, 2, 3, 4, 5, 6, 8, 9, 10, 11, 12, 13, 14, 15, 16, 17, 18, 20, 1, 2, 3, 4, 5, 7, 8, 9, 10, 11, 14, 15, 16, 17, 18, 19, 20, 16, 16, 9, 11, 11, 1, 3, 4, 11, 13, 14, 16, 10, 16, 10, 4, 1, 3, 8, 10, 11, 18, 20, 2, 9, 2, 3, 4, 8, 4, 2, 3, 17, 8, 10, 8, 1, 3, 5, 18, 16, 16, 1, 1, 3, 14, 15, 2, 3, 5, 7, 10, 11, 13, 16, 17, 19, 1, 7, 13, 19, 1, 2, 3, 4, 5, 7, 8, 10, 11, 13, 16, 17, 18, 19, 20, 3, 8, 9, 1, 2, 3, 4, 5, 7, 8, 9, 10, 11, 12, 13, 14, 15, 16, 17, 18, 19, 15, 11, 1, 2, 3, 4, 5, 6, 7, 8, 9, 10, 11, 12, 13, 14, 15, 16, 17, 18, 19, 20, 1, 5, 8, 9, 10, 11, 15, 20, 6, 11, 1, 3, 4, 5, 7, 8, 11, 20, 17, 19, 20, 10, 15, 3, 18, 3, 4, 13, 3, 9, 10, 14, 12, 3, 7, 12, 10, 11, 19, 1, 2, 4, 5, 7, 8, 9, 10, 11, 12, 14, 15, 16, 17, 18, 19, 1, 12, 1, 2, 6, 10, 11, 16, 19, 20, 5, 10, 14, 1, 4, 19, 4, 7, 11, 15, 17, 19, 13, 10, 15, 1, 8, 1, 2, 3, 4, 5, 6, 7, 8, 9, 10, 11, 12, 13, 14, 15, 16, 17, 18, 19, 20, 2, 3, 6, 14, 2, 13, 15, 15, 18, 1, 4, 6, 8, 9, 12, 16, 18, 19, 1, 3, 4, 5, 7, 8, 9, 10, 12, 13, 14, 15, 16, 17, 18, 19, 20, 5, 3, 16, 1, 2, 3, 4, 5, 7, 8, 9, 10, 12, 15, 16, 17, 18, 19, 1, 8, 1, 2, 11, 16, 1, 2, 4, 14, 11, 2, 7, 11, 17, 18, 3, 1, 4, 14, 2, 7, 13, 18, 19, 14, 15, 9, 3, 4, 5, 6, 7, 8, 9, 13, 15, 17, 18, 19, 20, 3, 4, 12, 12, 2, 1, 5, 7, 8, 10, 11, 12, 14, 18, 19, 20, 11, 3, 3, 4, 1, 2, 5, 6, 11, 6, 6, 15, 5, 7, 1, 5, 7, 8, 11, 8, 2, 3, 4, 6, 9, 12, 17, 2, 3, 6, 13, 17, 1, 2, 3, 4, 5, 7, 8, 10, 11, 12, 14, 15, 16, 18, 20, 4, 12, 3, 12, 20, 1, 4, 12, 3, 2, 3, 4, 6, 7, 10, 13, 14, 15, 16, 17, 18, 19, 18, 10, 8, 16, 20, 19, 7, 3, 6, 3, 3, 6, 1, 10, 15, 7, 17, 1, 17, 15, 16, 19, 1, 2, 4, 6, 8, 9, 11, 12, 14, 15, 16, 18, 4, 13, 8, 10, 8, 20, 1, 2, 3, 8, 14, 4, 3, 4, 5, 6, 7, 8, 11, 12, 16, 17, 18, 19, 1, 2, 3, 4, 5, 8, 9, 11, 13, 14, 16, 17, 18, 19, 13, 14, 1, 2, 3, 4, 5, 6, 7, 8, 9, 10, 11, 12, 13, 14, 15, 16, 17, 18, 19, 20, 1, 2, 3, 4, 5, 6, 7, 8, 9, 10, 11, 12, 13, 14, 15, 16, 17, 18, 19, 20, 7, 1, 8, 2, 3, 6, 13, 14, 20, 12, 9, 10, 16, 2, 3, 10, 14, 2, 3, 19, 4, 14, 14, 9, 19, 17, 2, 2, 7, 10, 17, 18, 15, 4, 10, 18, 19, 8, 12, 3, 6, 8, 10, 18, 20, 3, 10, 15, 20, 15, 1, 2, 3, 4, 5, 6, 7, 8, 9, 10, 11, 12, 13, 14, 15, 16, 17, 18, 19, 20, 8, 6, 5, 6, 7, 18, 4, 18, 20, 1, 5, 12, 1, 2, 3, 4, 5, 6, 7, 8, 9, 10, 11, 12, 13, 14, 15, 16, 17, 18, 19, 20, 1, 2, 3, 4, 5, 6, 7, 8, 9, 10, 11, 12, 14, 15, 16, 18, 19, 15, 4, 1, 2, 4, 12, 13, 2, 7, 10, 11, 12, 16, 7, 11, 9, 15, 16, 9, 16, 20, 9, 10, 16, 10, 16, 6, 2, 3, 12, 1, 5, 7, 8, 10, 11, 12, 19, 2, 18, 6, 12, 16, 19, 10, 19, 1, 2, 3, 4, 6, 7, 8, 9, 11, 12, 13, 16, 17, 18, 19, 2, 20, 3, 7, 9, 10, 12, 15, 18, 16, 14, 3, 11, 19, 13, 19, 14, 4, 13, 14, 19, 1, 2, 3, 4, 5, 8, 9, 10, 11, 12, 14, 17, 18, 19, 1, 2, 3, 4, 5, 6, 7, 8, 9, 10, 11, 12, 14, 15, 17, 18, 20, 3, 2, 5, 8, 10, 15, 1, 3, 4, 5, 6, 7, 8, 10, 12, 13, 16, 17, 18, 20, 1, 2, 4, 6, 7, 8, 9, 11, 12, 13, 9, 16, 6, 14, 18, 18, 18, 13, 18, 12, 18, 1, 2, 3, 4, 5, 7, 8, 11, 12, 15, 17, 18, 20, 9, 1, 8, 11, 19, 1, 5, 1, 2, 3, 4, 9, 10, 12, 14, 16, 17, 3, 5, 7, 8, 9, 11, 12, 14, 15, 16, 19, 3, 7, 17, 2, 17, 5, 2, 3, 4, 9, 13, 17, 18, 1, 2, 3, 4, 6, 7, 8, 10, 11, 13, 17, 18, 19, 20, 1, 7, 8, 9, 10, 11, 14, 19, 1, 2, 3, 7, 8, 19, 3, 4, 17, 16, 14, 3, 11, 9, 3, 9, 16, 6, 17, 13, 14, 15, 6, 2, 10, 12, 15, 16, 17, 18, 1, 3, 4, 7, 9, 10, 12, 15, 16, 1, 2, 3, 5, 6, 7, 8, 10, 11, 12, 16, 17, 20, 2, 3, 1, 2, 3, 4, 5, 8, 11, 12, 13, 14, 15, 16, 18, 20, 2, 8, 10, 11, 13, 15, 16, 17, 18, 19, 20, 6, 19, 8, 17, 5, 1, 2, 3, 4, 5, 6, 7, 8, 9, 10, 11, 12, 14, 15, 16, 18, 19, 9, 10, 6, 12, 13, 2, 3, 4, 5, 8, 9, 11, 12, 15, 16, 17, 18, 20, 6, 2, 4, 2, 3, 4, 6, 7, 9, 12, 13, 16, 18, 19, 20, 1, 5, 8, 13, 16, 20, 2, 8, 18, 6, 17, 18, 17, 4, 9, 18, 16, 1, 2, 7, 8, 9, 10, 16, 10, 1, 15, 16, 10, 18, 1, 8, 12, 10, 1, 3, 6, 7, 9, 12, 10, 11, 2, 11, 1, 18, 20, 1, 5, 7, 8, 20, 1, 5, 8, 12, 1, 14, 2, 3, 4, 6, 7, 9, 10, 11, 12, 15, 17, 18, 16, 7, 4, 7, 4, 7, 13, 17, 18, 18, 7, 1, 5, 7, 8, 11, 19, 20, 3, 20, 3, 4, 13, 3, 2, 3, 4, 6, 9, 12, 14, 15, 16, 18, 1, 2, 3, 4, 5, 6, 8, 9, 10, 11, 12, 14, 15, 16, 17, 18, 9, 12, 13, 2, 3, 4, 5, 6, 7, 8, 9, 10, 12, 14, 15, 16, 18, 20, 1, 2, 3, 4, 5, 7, 8, 9, 10, 11, 14, 19, 4, 17, 2, 1, 2, 3, 4, 5, 6, 7, 8, 9, 10, 11, 12, 13, 14, 15, 16, 17, 18, 19, 20, 1, 2, 3, 4, 5, 6, 7, 8, 9, 11, 15, 17, 19, 1, 2, 3, 4, 6, 7, 8, 9, 10, 11, 12, 13, 14, 15, 16, 17, 18, 19, 20, 4, 18, 13, 2, 10, 11, 17, 2, 9, 1, 13, 13, 5, 11, 9, 11, 1, 9, 16, 2, 3, 4, 5, 8, 9, 11, 14, 18, 19, 20, 1, 2, 3, 4, 5, 6, 7, 8, 10, 12, 13, 14, 16, 19, 20, 20, 1, 2, 3, 4, 10, 12, 14, 16, 17, 18, 19, 12, 14, 18, 19, 20, 14, 1, 3, 4, 5, 11, 14, 15, 16, 18, 19, 20, 4, 14, 1, 2, 3, 4, 5, 7, 8, 9, 10, 11, 12, 13, 14, 15, 16, 17, 18, 19, 20, 10, 20, 4, 13, 7, 15, 5, 9, 14, 16, 18, 2, 9, 10, 8, 3, 5, 6, 9, 4, 9, 18, 1, 2, 3, 4, 5, 6, 7, 9, 11, 12, 14, 15, 16, 18, 19, 20, 8, 3, 4, 6, 13, 18, 20, 15, 7, 6, 6, 17, 1, 2, 6, 15, 15, 14, 4, 5, 6, 9, 11, 12, 13, 15, 17, 18, 19, 1, 4, 5, 7, 9, 11, 12, 13, 14, 17, 18, 19, 9, 9, 12, 18, 20, 20, 2, 12, 17, 13, 20, 4, 17, 1, 2, 3, 4, 5, 6, 9, 10, 12, 16, 17, 18, 2, 7, 9, 11, 12, 13, 16, 1, 3, 5, 8, 10, 11, 18, 19, 2, 8, 1, 3, 4, 5, 7, 10, 19, 20, 4, 5, 6, 7, 9, 10, 11, 12, 16, 18, 2, 3, 5, 6, 8, 14, 20, 1, 16, 1, 2, 3, 4, 5, 6, 7, 9, 10, 11, 12, 14, 15, 16, 17, 18, 1, 13, 14, 19, 20, 6, 2, 3, 4, 5, 6, 8, 15, 18, 20, 1, 3, 4, 8, 9, 12, 13, 14, 18, 19, 20, 14, 18, 2, 10, 15, 16, 18, 1, 2, 3, 4, 5, 6, 7, 8, 9, 10, 11, 12, 13, 14, 15, 17, 18, 20, 14, 1, 2, 3, 7, 9, 11, 16, 17, 18, 20, 7, 9, 16, 18, 10, 10, 16, 2, 8, 10, 15, 16, 18, 13, 17, 18, 17, 2, 3, 4, 7, 8, 9, 10, 11, 12, 13, 14, 15, 16, 18, 15, 2, 1, 2, 3, 4, 5, 6, 7, 9, 12, 16, 17, 19, 20, 1, 2, 4, 6, 7, 8, 10, 17, 19, 1, 2, 3, 4, 5, 6, 7, 9, 10, 11, 12, 14, 15, 16, 17, 18, 20, 1, 2, 3, 4, 5, 6, 7, 8, 9, 10, 11, 12, 13, 14, 15, 16, 17, 18, 19, 20, 2, 5, 1, 2, 3, 4, 5, 6, 7, 8, 9, 10, 11, 12, 13, 14, 15, 16, 17, 18, 19, 5, 8, 5, 14, 10, 1, 2, 3, 4, 5, 7, 10, 11, 13, 14, 17, 20, 1, 4, 5, 12, 14, 18, 8, 19, 8, 3, 5, 15], \"Freq\": [0.017586518079042435, 0.0003839851124212146, 0.00023039107327349484, 0.4693834185600281, 0.011826741509139538, 0.0072957174852490425, 0.070730060338974, 0.16273289918899536, 0.00030718810739926994, 0.16879986226558685, 0.04031843692064285, 0.025035830214619637, 0.0254198145121336, 0.08498141169548035, 0.17115415632724762, 0.15010735392570496, 0.026407774537801743, 0.011317618191242218, 0.022039571776986122, 0.5339136123657227, 0.00019855469872709364, 0.06001866236329079, 0.000215894469874911, 0.1381724625825882, 0.012521879747509956, 0.09520946443080902, 0.013817246071994305, 0.003130469936877489, 0.044042471796274185, 0.4731327295303345, 0.11086180806159973, 0.04879214987158775, 0.4320439398288727, 0.1126314178109169, 0.06173969432711601, 0.18321020901203156, 0.1280328631401062, 0.08209638297557831, 0.9980075359344482, 0.16409987211227417, 0.7047688364982605, 0.1308644562959671, 0.7631934285163879, 0.23635917901992798, 0.03843604028224945, 0.04131220653653145, 0.22695566713809967, 0.0005229393136687577, 0.6039949059486389, 0.08863821625709534, 0.9989995360374451, 0.9992130994796753, 0.8355337977409363, 0.01268095150589943, 0.15123209357261658, 0.02414177544414997, 0.022359497845172882, 0.02365569956600666, 0.639676034450531, 0.21225319802761078, 0.06691646575927734, 0.011017723008990288, 0.00398606900125742, 0.39670878648757935, 0.1904771625995636, 0.00037962562055327, 9.49064051383175e-05, 0.06586504727602005, 0.0024675666354596615, 0.011863300576806068, 9.49064051383175e-05, 0.1589682400226593, 0.011768395081162453, 0.05808272212743759, 0.09917719662189484, 0.4473748803138733, 0.47568416595458984, 0.007920735515654087, 0.004253728315234184, 0.018921757116913795, 0.02170868217945099, 0.021855361759662628, 0.002053523901849985, 0.04587399214506149, 0.7998352646827698, 0.10136672854423523, 0.052533119916915894, 0.9987809658050537, 0.9986779093742371, 0.2503933012485504, 0.14775460958480835, 0.5030423998832703, 0.046243809163570404, 0.004286011680960655, 0.032483454793691635, 0.015564989298582077, 0.9978717565536499, 0.0020179408602416515, 0.9986671209335327, 0.00986611656844616, 0.000186153149115853, 0.09828886389732361, 0.06943512707948685, 0.4921889305114746, 0.06124438717961311, 0.01768454909324646, 0.11448419094085693, 0.02978450432419777, 0.002792297163978219, 0.07874277979135513, 0.02550298161804676, 0.9988870620727539, 0.045060042291879654, 0.5311387777328491, 0.12443304806947708, 0.011653458699584007, 0.287710964679718, 0.0001466637331759557, 0.0073331864550709724, 0.14857035875320435, 0.1985826939344406, 0.015839682891964912, 0.05367892608046532, 0.15238361060619354, 0.34172648191452026, 0.05279894173145294, 0.00425324821844697, 0.02463950589299202, 0.9987215399742126, 0.9990672469139099, 0.9994662404060364, 0.9990670680999756, 0.9998173117637634, 0.9987490773200989, 0.9983359575271606, 0.999526858329773, 0.9988477230072021, 0.9993241429328918, 0.14001943171024323, 0.859788715839386, 0.0006116137956269085, 0.9991730451583862, 0.9990056753158569, 0.8935359120368958, 0.10575021803379059, 0.09512925148010254, 0.07031454145908356, 0.029613956809043884, 0.07340243458747864, 0.04583466425538063, 0.09877519309520721, 0.08207083493471146, 0.04397449269890785, 0.03262743726372719, 0.05736773833632469, 0.04181669279932976, 0.026302848011255264, 0.07730879634618759, 0.0240334365516901, 0.02083393931388855, 0.01677876152098179, 0.08341015875339508, 0.01082620769739151, 0.04687636345624924, 0.022768519818782806, 0.07590468972921371, 0.2996756434440613, 0.44458460807800293, 0.08066926896572113, 0.0026287338696420193, 0.09644167125225067, 0.000575976213440299, 0.9083144664764404, 0.012095499783754349, 0.07890874147415161, 0.07536984235048294, 0.8558825850486755, 0.0681227445602417, 0.9990103244781494, 0.22748009860515594, 0.7722523212432861, 0.9979084134101868, 0.9985030293464661, 0.0006517643923871219, 0.9975706338882446, 0.999423086643219, 0.16889925301074982, 0.09350263327360153, 0.23294585943222046, 0.5045358538627625, 0.598836362361908, 0.07771357148885727, 0.01403522677719593, 0.03950656205415726, 0.034308332949876785, 0.011436110362410545, 0.15490731596946716, 0.06913648545742035, 0.9988809823989868, 0.14364083111286163, 0.8475828170776367, 0.008149834349751472, 0.9991461634635925, 0.9990984201431274, 0.9979829788208008, 0.4893418252468109, 0.009836016222834587, 0.05184400454163551, 0.15532709658145905, 0.18524497747421265, 0.025614626705646515, 0.032786719501018524, 0.004815549589693546, 0.03708997741341591, 0.007991762831807137, 0.9993301033973694, 0.18453142046928406, 0.7223997116088867, 0.09296242892742157, 0.9990617632865906, 0.5005338788032532, 0.013023736886680126, 0.44826292991638184, 0.03801523149013519, 0.9827114939689636, 0.01703561283648014, 0.3728046715259552, 0.05134706199169159, 0.00736507261171937, 0.5450500845909119, 0.023450111970305443, 0.020658288151025772, 0.9790552854537964, 0.9992649555206299, 0.00652212742716074, 0.9724491834640503, 0.02021859399974346, 0.07572353631258011, 0.15622535347938538, 0.0494295172393322, 0.15492954850196838, 0.05366787314414978, 0.08806066960096359, 0.04767478257417679, 0.040790822356939316, 0.045839060097932816, 0.02480924315750599, 0.05898606777191162, 0.031450238078832626, 0.0022676566150039434, 0.019545041024684906, 0.0076938350684940815, 0.017034420743584633, 0.05172416940331459, 0.03247608244419098, 0.012202152982354164, 0.02945253998041153, 0.023576322942972183, 0.5146435499191284, 0.09111930429935455, 0.05692301318049431, 0.07115376740694046, 0.03589548170566559, 0.008071173913776875, 0.0012743958504870534, 0.04481625556945801, 0.05331222712993622, 0.04970143735408783, 0.022939125075936317, 0.026549912989139557, 0.9990354776382446, 0.004292457364499569, 0.9954924583435059, 0.2675970792770386, 0.0254900511354208, 0.0407550074160099, 0.6433088183403015, 0.00145380524918437, 0.005233698524534702, 0.005185238551348448, 0.004652176517993212, 0.006348282564431429, 0.9991394877433777, 0.01586451753973961, 0.9839450120925903, 0.999761700630188, 0.9995877146720886, 0.0059775905683636665, 0.05448146536946297, 0.04782072454690933, 0.09034700691699982, 0.19589418172836304, 0.03159583359956741, 0.49101635813713074, 0.008880991488695145, 0.07241423428058624, 0.0015370947076007724, 0.9974860548973083, 0.9985895752906799, 0.9982921481132507, 0.9985593557357788, 0.3095369338989258, 0.6321070194244385, 0.058183636516332626, 0.9987349510192871, 0.027716035023331642, 0.0006885971524752676, 0.13703083992004395, 0.4339883625507355, 0.24720637500286102, 0.007230270188301802, 0.017214929684996605, 0.008435315452516079, 0.032191917300224304, 0.000516447878908366, 0.07712288200855255, 0.005680926609784365, 0.003959433641284704, 0.0008607464260421693, 0.9677361249923706, 0.032238952815532684, 0.9484657645225525, 0.051048923283815384, 0.999582052230835, 0.999072253704071, 0.9985935091972351, 0.3456443250179291, 0.12452229112386703, 0.030386313796043396, 0.0006159387994557619, 0.012626745738089085, 0.08017469942569733, 0.0027717247139662504, 0.00010265646415064111, 0.000513282313477248, 0.0674453005194664, 0.10368303209543228, 0.05913012474775314, 0.17246286571025848, 0.9992474317550659, 0.13199782371520996, 0.011050045490264893, 0.07493939995765686, 0.06830937415361404, 0.10427224636077881, 0.003616378642618656, 0.6055424809455872, 0.07574862986803055, 0.1329086422920227, 0.23096361756324768, 0.06784846633672714, 0.492133766412735, 0.9983264803886414, 0.0012573380954563618, 0.003164055058732629, 0.46455109119415283, 0.007910137996077538, 0.011300196871161461, 0.05616197735071182, 0.008362146094441414, 0.0014690256211906672, 0.0891585499048233, 0.3578772246837616, 0.02488599345088005, 0.9746167063713074, 0.999309778213501, 0.9994678497314453, 0.9996740818023682, 0.39487913250923157, 0.05367289111018181, 0.008547439239919186, 0.015649355947971344, 0.0665569007396698, 0.2264442890882492, 0.05807230621576309, 0.13977576792240143, 0.036452315747737885, 0.9998456835746765, 0.9995565414428711, 0.0009203470544889569, 0.9958155155181885, 0.0027610412798821926, 0.9977709054946899, 0.02052408456802368, 0.9792920351028442, 0.9551104307174683, 0.04389684647321701, 0.9988723993301392, 0.9991609454154968, 0.9986647367477417, 0.06095871701836586, 0.19415701925754547, 0.014994442462921143, 0.2748046815395355, 0.03720583766698837, 0.05381183326244354, 0.0011911473702639341, 0.22253434360027313, 0.032651450484991074, 0.0007006748928688467, 0.010510123334825039, 0.048556771129369736, 0.00014013497275300324, 0.005815601442009211, 0.002452362095937133, 0.03944799676537514, 7.006748637650162e-05, 0.9998554587364197, 0.9997191429138184, 0.9999282360076904, 0.9994028806686401, 0.8477756977081299, 0.15199846029281616, 0.9997212290763855, 0.03797493502497673, 0.9619640111923218, 0.9740447402000427, 0.025874366983771324, 0.9995635747909546, 0.8468325138092041, 0.15243975818157196, 0.9998037219047546, 0.9997377991676331, 0.9989508390426636, 0.009018465876579285, 0.5848128199577332, 0.08232241123914719, 0.03792380541563034, 0.000231242724112235, 0.000231242724112235, 0.10267176479101181, 0.0011562135769054294, 0.015493262559175491, 0.051798369735479355, 0.08671601861715317, 0.00693728169426322, 0.011099650524556637, 0.009480951353907585, 0.999129593372345, 0.9989659190177917, 0.9441497921943665, 0.055551089346408844, 0.9996088147163391, 0.034713003784418106, 0.05415583401918411, 0.10298486799001694, 0.08025716990232468, 0.3505924344062805, 0.15199145674705505, 0.02343793399631977, 0.12065209448337555, 0.001154140685684979, 0.018732592463493347, 0.03497934341430664, 0.026278896257281303, 0.04811597988009453, 0.00679284380748868, 0.13302652537822723, 0.8117448687553406, 0.9989386796951294, 0.9989851117134094, 0.9988454580307007, 0.9997243285179138, 0.03944118320941925, 0.0037081455811858177, 0.004213801585137844, 0.06118440255522728, 0.0025282809510827065, 0.31687790155410767, 0.030339373275637627, 0.09523192048072815, 0.3824446499347687, 0.06388123333454132, 0.0007091287989169359, 0.17515482008457184, 0.8176255226135254, 0.006382159423083067, 0.023414675146341324, 0.9763919115066528, 0.999692976474762, 0.9991102814674377, 0.004276057705283165, 0.9948960542678833, 0.9995312690734863, 0.998309850692749, 0.9984372854232788, 0.9989229440689087, 0.002022034488618374, 0.9968629479408264, 0.09256482869386673, 0.9069917798042297, 0.9982771277427673, 0.9989205598831177, 0.999737024307251, 0.0007398722227662802, 0.9988275170326233, 0.9990972876548767, 0.9998666644096375, 0.9596660137176514, 0.007714357227087021, 0.03240029886364937, 0.9569485187530518, 0.04298445209860802, 0.9986644983291626, 0.9992405772209167, 0.005456040613353252, 0.23857778310775757, 0.21154557168483734, 0.5441160798072815, 0.018214918673038483, 0.02534249611198902, 0.0005939647671766579, 0.9556893110275269, 0.99930739402771, 0.00116057472769171, 0.9969336986541748, 0.02159409038722515, 0.9774166941642761, 0.9991381764411926, 0.998805046081543, 0.20086993277072906, 0.017279133200645447, 0.7814487814903259, 0.4767187237739563, 0.49919116497039795, 0.004460821393877268, 0.0005049986648373306, 0.019021615386009216, 0.0011564698070287704, 0.9980334639549255, 0.9999473690986633, 0.9991905093193054, 0.9968686103820801, 0.9987449049949646, 0.10631351917982101, 0.015282568521797657, 0.20675764977931976, 0.07840622216463089, 0.18627014756202698, 0.4068707227706909, 0.9996322393417358, 0.9994038939476013, 0.9992784857749939, 0.9977907538414001, 0.9996805191040039, 0.9996364712715149, 0.9626938700675964, 0.036456312984228134, 0.9993345141410828, 0.20144453644752502, 0.017220905050635338, 0.1503158062696457, 0.0037378708366304636, 0.11707545816898346, 0.24322859942913055, 0.04111658036708832, 0.04458745941519737, 0.09998804330825806, 0.04138357192277908, 0.03978162631392479, 0.01772715523838997, 0.19918276369571686, 0.33637553453445435, 0.03501388430595398, 0.012772360816597939, 0.020810138434171677, 0.020589925348758698, 0.029178237542510033, 0.05175008252263069, 0.0068266065791249275, 0.04415272921323776, 0.014534065499901772, 0.06859638541936874, 0.09744430333375931, 0.008478204719722271, 0.00044042622903361917, 0.035784631967544556, 0.00011010655725840479, 0.9980217218399048, 0.9962676763534546, 0.0030318554490804672, 0.9993636608123779, 0.17542624473571777, 0.8245033621788025, 0.9998712539672852, 0.9983679056167603, 0.15311415493488312, 0.03056405484676361, 0.07699790596961975, 0.26758241653442383, 0.0302701685577631, 0.06538943946361542, 0.0648016706109047, 0.31107741594314575, 0.9989708662033081, 0.0013423606287688017, 0.9312626719474792, 0.06711803376674652, 0.9984238147735596, 0.17113980650901794, 0.6892593502998352, 0.1396213173866272, 0.3321459889411926, 0.09328071773052216, 0.037978578358888626, 0.43197858333587646, 0.10449662059545517, 0.13079555332660675, 0.6966145634651184, 0.005610103253275156, 0.16686050593852997, 0.9077866077423096, 0.051642417907714844, 0.039198461920022964, 0.0012443956220522523, 0.9985491633415222, 0.02003328874707222, 0.008528226986527443, 0.0030572889372706413, 0.21988344192504883, 0.1046719178557396, 0.058249399065971375, 0.007080037612468004, 0.25472044944763184, 0.006919127888977528, 0.05728394165635109, 0.25954774022102356, 0.9997079372406006, 0.999648928642273, 0.999804675579071, 0.9992015957832336, 0.32960939407348633, 0.16152936220169067, 0.11056213825941086, 0.00015977188013494015, 0.02700144611299038, 0.037067074328660965, 0.04058205708861351, 0.26458221673965454, 0.029238253831863403, 0.999215304851532, 0.9992920756340027, 0.9979305267333984, 0.998695433139801, 0.9993922114372253, 0.9998458623886108, 0.9988774061203003, 0.988613486289978, 0.009857969358563423, 0.9992493391036987, 0.9997150897979736, 0.9993661046028137, 0.9997196793556213, 0.9991284608840942, 0.9997417330741882, 0.9993192553520203, 0.0005882151308469474, 0.03627326712012291, 0.22979605197906494, 0.3576348125934601, 0.054409898817539215, 0.07019367069005966, 0.1002906784415245, 0.012450553476810455, 0.12656429409980774, 0.011568230576813221, 0.12249665707349777, 0.7263277769088745, 0.08105726540088654, 0.06967282295227051, 0.9991908669471741, 0.9994638562202454, 0.018636256456375122, 0.006044191308319569, 0.2070135474205017, 0.09393680095672607, 0.6741791367530823, 0.11641424149274826, 0.8832568526268005, 0.9985893964767456, 0.12825323641300201, 0.00035234406823292375, 0.06095552071928978, 0.13600480556488037, 0.6743865013122559, 0.9991334676742554, 0.27120327949523926, 0.06767876446247101, 0.0007933489396236837, 0.10264714807271957, 0.009215053170919418, 0.045220889151096344, 0.008787864819169044, 0.055900584906339645, 0.00018308052676729858, 0.10783442854881287, 0.11106885224580765, 0.0006712952745147049, 0.2186591774225235, 0.9028781652450562, 0.02679024077951908, 0.06956062465906143, 0.035359468311071396, 0.08139245957136154, 0.3428664207458496, 0.21182839572429657, 0.011166147887706757, 0.071485236287117, 0.0499192476272583, 0.08500503748655319, 0.10410790890455246, 0.00010947203554678708, 5.473601777339354e-05, 0.004652561619877815, 0.0020252326503396034, 0.9990836381912231, 0.0008292219717986882, 0.9983832836151123, 0.9985398650169373, 0.0032096479553729296, 0.2293115109205246, 0.05064111202955246, 0.13641004264354706, 0.08701711893081665, 0.014086787588894367, 0.4791291058063507, 0.9987792372703552, 0.9955553412437439, 0.0043085976503789425, 0.0436963252723217, 0.02790689840912819, 0.2996319532394409, 0.04424712061882019, 0.015973027795553207, 0.0005507940077222884, 0.00018359800742473453, 0.036352407187223434, 0.028090495616197586, 0.032680444419384, 0.003121166257187724, 0.46744054555892944, 0.9995189309120178, 0.1312030702829361, 0.7776985168457031, 0.017819207161664963, 0.0019527897238731384, 0.002563036512583494, 0.03270922973752022, 0.0006102467887103558, 0.01489002164453268, 0.006224517244845629, 0.0002440987154841423, 0.012082886882126331, 0.0018307403661310673, 0.9996724128723145, 0.0002700357581488788, 0.8031459450721741, 0.1964215636253357, 0.9995756149291992, 0.00212646322324872, 0.9973112940788269, 0.6114097237586975, 0.15378853678703308, 0.02407124824821949, 0.2104896903038025, 0.007292632013559341, 0.1273779720067978, 0.00429455004632473, 0.40231019258499146, 0.029008468613028526, 0.00024308772117365152, 0.3395935595035553, 8.102924039121717e-05, 0.052912093698978424, 0.03686830401420593, 0.10294023156166077, 0.877472460269928, 0.019223779439926147, 0.06099727749824524, 0.8963624238967896, 0.0424005463719368, 0.9992480874061584, 0.9994848966598511, 0.16530823707580566, 0.20295269787311554, 0.6298626065254211, 0.00190950115211308, 0.9992629289627075, 0.9967103004455566, 0.9968215823173523, 0.999171793460846, 0.9990646839141846, 0.997938871383667, 0.9995830059051514, 0.8899140954017639, 0.10931562632322311, 0.24828295409679413, 0.7513645887374878, 0.9991461038589478, 0.9991609454154968, 0.9747716188430786, 0.023800157010555267, 0.9993035793304443, 0.9987086653709412, 0.9892827868461609, 0.009614021517336369, 0.8351120948791504, 0.1646278351545334, 0.15660704672336578, 0.08222338557243347, 0.017930099740624428, 0.14655418694019318, 0.005589089822024107, 0.11058145016431808, 0.044675204902887344, 0.062492772936820984, 0.03372209146618843, 0.012903669849038124, 0.03799830749630928, 0.04970163479447365, 0.03229668736457825, 0.034472305327653885, 0.08128561824560165, 0.02333163656294346, 0.015829501673579216, 0.0027007681783288717, 0.04902644455432892, 0.24692213535308838, 0.012284321710467339, 0.0359807051718235, 0.12713183462619781, 0.11477481573820114, 0.03452694043517113, 0.16013231873512268, 0.03263704478740692, 0.013520022854208946, 0.042449966073036194, 0.025222837924957275, 0.15409918129444122, 0.3067784607410431, 0.0037694897036999464, 0.6210958957672119, 0.06785081326961517, 0.9996298551559448, 0.19157728552818298, 0.764764130115509, 0.0432593859732151, 0.9990125298500061, 0.6141982078552246, 0.17479030787944794, 0.1666831523180008, 0.04410293325781822, 0.9983960390090942, 0.9984424710273743, 0.9993459582328796, 0.09566240012645721, 0.9038267135620117, 0.9994159936904907, 0.09639383107423782, 0.001083076698705554, 0.9018934369087219, 0.0004641757404897362, 0.2181970179080963, 0.7807658314704895, 0.9986737966537476, 0.9995976686477661, 0.9992411732673645, 0.9956175088882446, 0.003237780649214983, 0.9996808171272278, 0.010915731079876423, 0.9878736138343811, 0.05296357348561287, 0.6472013592720032, 0.027493828907608986, 0.0005060213734395802, 0.004048170987516642, 0.03491547703742981, 0.1686737984418869, 0.06392736732959747, 0.013147648423910141, 0.2029787302017212, 0.014195648953318596, 0.24013511836528778, 0.07312188297510147, 0.03534621372818947, 0.0379185788333416, 0.036918215453624725, 0.2196514755487442, 0.00019054563017562032, 0.027343297377228737, 0.016244014725089073, 0.00019054563017562032, 0.01052764616906643, 0.020293109118938446, 0.002810548059642315, 0.048874951899051666, 0.021538853645324707, 0.00436408119276166, 0.00605340301990509, 0.0395582839846611, 0.9284231066703796, 0.07782547175884247, 0.04313218966126442, 0.0797007828950882, 0.797945499420166, 0.012488629668951035, 0.019685467705130577, 0.01756875030696392, 0.5027202367782593, 0.06159646064043045, 0.02201385609805584, 0.36344027519226074, 0.00021167169325053692, 0.14713570475578308, 0.11320064961910248, 0.32150325179100037, 0.011646847240626812, 0.15316860377788544, 0.00050274160457775, 0.10591089725494385, 0.0016758053097873926, 0.06460229307413101, 0.08052244782447815, 0.9986221790313721, 0.9985376596450806, 0.9985793232917786, 0.9992876648902893, 0.9989951252937317, 0.9989069700241089, 0.9992475509643555, 0.999782919883728, 0.9988617897033691, 0.9990072846412659, 0.032411400228738785, 0.9168078899383545, 0.050593405961990356, 0.9997169971466064, 0.9988033175468445, 0.9991974234580994, 0.998332142829895, 0.9987461566925049, 0.9991134405136108, 0.015058690682053566, 0.043369028717279434, 0.3742084503173828, 0.021383341401815414, 0.012649300508201122, 0.010691670700907707, 0.06821586936712265, 0.0031623251270502806, 0.024395078420639038, 0.40492817759513855, 0.02153392694890499, 0.9992002844810486, 0.9995344281196594, 0.0447448194026947, 0.9550985097885132, 0.9993037581443787, 0.999464750289917, 0.42959263920783997, 0.07192036509513855, 0.3499539792537689, 0.14822612702846527, 0.007499092724174261, 0.35476475954055786, 0.004037973005324602, 0.23477928340435028, 0.3983171880245209, 0.010701863095164299, 0.08716840296983719, 0.0006904428009875119, 0.8832489252090454, 0.01812412217259407, 0.1484878957271576, 0.8513306379318237, 0.9725237488746643, 0.027134187519550323, 0.9989595413208008, 0.01181101705878973, 0.27519670128822327, 0.043996039777994156, 0.014468496665358543, 0.6543303728103638, 0.9986503720283508, 0.9672685861587524, 0.031002197414636612, 0.013207918033003807, 0.9855139255523682, 0.9995136260986328, 0.9995422959327698, 0.9991379976272583, 0.9992930889129639, 0.10095899552106857, 0.8986375331878662, 0.9990142583847046, 0.9998939633369446, 0.9875091314315796, 0.01232425682246685, 0.998386800289154, 0.11636704206466675, 0.8826144337654114, 0.9977070093154907, 0.0012990976683795452, 0.9989408254623413, 0.9939119815826416, 0.00545605830848217, 0.7528169751167297, 0.03234373778104782, 0.21386471390724182, 0.0009901144076138735, 0.9986281991004944, 0.9998860955238342, 0.9985538125038147, 0.04299609363079071, 0.1622713953256607, 0.23621949553489685, 0.32389527559280396, 0.00025901259505189955, 0.007381859235465527, 0.05439264699816704, 0.0005180251901037991, 0.04493868723511696, 0.12445555627346039, 0.002719632349908352, 0.3470765948295593, 0.005770869553089142, 0.6468870043754578, 0.9995864629745483, 0.9986055493354797, 0.9979070425033569, 0.17164817452430725, 0.006687591318041086, 0.8203445672988892, 0.8904924988746643, 0.10870317369699478, 0.9989686608314514, 0.9989850521087646, 0.9988659620285034, 0.004620495717972517, 0.9756946563720703, 0.013861486688256264, 0.004620495717972517, 0.0009885943727567792, 0.2527712285518646, 0.16107909381389618, 0.13766176998615265, 0.0707462802529335, 0.009577007964253426, 0.018721505999565125, 0.0042015258222818375, 0.0256416667252779, 0.017176827415823936, 0.013902108184993267, 0.0063640763983130455, 0.1031845360994339, 0.07816074043512344, 0.08044686913490295, 0.002471485873684287, 0.01686789095401764, 0.8983216881752014, 0.06496790796518326, 0.012833166867494583, 0.02326011471450329, 0.014629889279603958, 0.779410719871521, 0.018253806978464127, 0.18267229199409485, 0.004831890109926462, 0.06981848925352097, 0.06649379432201385, 0.5667317509651184, 0.11431818455457687, 0.10280963778495789, 0.07928106933832169, 0.9977619051933289, 0.9932389259338379, 0.006212057080119848, 0.9993972778320312, 0.9979903101921082, 0.8882708549499512, 0.11082811653614044, 0.9986512064933777, 0.9991834759712219, 0.9990641474723816, 0.9985330104827881, 0.000733687833417207, 0.8573142290115356, 0.0825398787856102, 0.059061869978904724, 0.9990730881690979, 0.011419475078582764, 0.012880105525255203, 0.2597266733646393, 0.013544028624892235, 0.18085262179374695, 0.128933846950531, 0.0014606305630877614, 0.34510716795921326, 0.04594346880912781, 0.006468987092375755, 0.0017520172987133265, 0.4803222715854645, 0.1695413589477539, 0.029784293845295906, 0.00013477055472321808, 0.00013477055472321808, 0.006064675282686949, 0.003773575648665428, 0.002560640685260296, 0.1853095144033432, 0.035309888422489166, 0.04582199081778526, 0.03328832983970642, 0.9986073970794678, 0.2574280798435211, 0.0017023164546117187, 0.08095460385084152, 0.010592191480100155, 0.6192649006843567, 0.029695965349674225, 0.9029038548469543, 0.09683825820684433, 0.08109604567289352, 0.01296259555965662, 0.014239698648452759, 0.5428326725959778, 0.03690827637910843, 0.0012771030887961388, 0.0018517994321882725, 0.05306363105773926, 0.02905409410595894, 0.09073816984891891, 0.040931154042482376, 0.0060662394389510155, 0.03320467844605446, 0.032374560832977295, 0.023498695343732834, 0.9986761212348938, 0.00015005575551185757, 0.00045016728108748794, 0.049668457359075546, 0.06422386318445206, 0.03901449590921402, 0.240989550948143, 0.010503903031349182, 0.5901693105697632, 0.004951839800924063, 0.9990469813346863, 0.1591755747795105, 0.22046731412410736, 0.6202358603477478, 0.07276782393455505, 0.08670208603143692, 0.09083075821399689, 0.05057621747255325, 0.6990355849266052, 0.9811720252037048, 0.016897335648536682, 0.17876353859901428, 0.8208664059638977, 0.998236358165741, 0.006851262412965298, 0.4952891767024994, 0.4978583753108978, 0.9992046356201172, 0.9998531341552734, 0.9988460540771484, 0.9994558691978455, 0.9993881583213806, 0.16671492159366608, 0.00025727611500769854, 0.15050652623176575, 0.046566978096961975, 0.5660074949264526, 0.028814924880862236, 0.0010291044600307941, 0.01080559752881527, 0.0030873133800923824, 0.025727612897753716, 0.675703763961792, 0.05606758967041969, 0.018121998757123947, 0.122004434466362, 0.01718612015247345, 0.11077390611171722, 0.7525941133499146, 0.24728302657604218, 0.9990341663360596, 0.010009757243096828, 0.7838984131813049, 0.20602171123027802, 0.004098121076822281, 0.23481017351150513, 0.09324239939451218, 0.12063083797693253, 0.03907416760921478, 0.05680564045906067, 0.0049502057954669, 0.05911844223737717, 0.06788273900747299, 0.05664334073662758, 0.016960540786385536, 0.07185913622379303, 0.03834380954504013, 0.017690900713205338, 0.013471052050590515, 0.07904098927974701, 0.017690900713205338, 0.007749912329018116, 0.9997578859329224, 0.00924758706241846, 0.10817932337522507, 0.002966207219287753, 0.025474485009908676, 0.38770073652267456, 0.11498415470123291, 0.019891036674380302, 0.10032759606838226, 0.0001744827750371769, 0.05443862825632095, 0.020065519958734512, 0.024253105744719505, 0.009771035984158516, 0.001046896679326892, 0.1216145008802414, 0.9983170628547668, 0.998169481754303, 0.9989105463027954, 0.99994295835495, 0.9980360865592957, 0.9990234375, 0.023928675800561905, 0.0058492315001785755, 0.008153474889695644, 0.4369198679924011, 0.0012407461181282997, 0.28289011120796204, 0.006912728305906057, 0.22652478516101837, 0.00035449888673610985, 0.00726722739636898, 0.025787251070141792, 0.43856358528137207, 0.2104455977678299, 0.32495543360710144, 0.04600895941257477, 0.423388808965683, 0.5305657386779785, 0.4831737279891968, 0.0005752923898398876, 0.15748630464076996, 0.00043146932148374617, 0.17035846412181854, 0.052207786589860916, 0.027614036574959755, 0.05630674585700035, 0.05177631601691246, 0.38177675008773804, 0.04777998477220535, 0.0008490788750350475, 0.0027016145177185535, 0.21165220439434052, 0.002855992643162608, 0.11439408361911774, 0.020841026678681374, 0.0367419570684433, 0.0054804179817438126, 0.1670369654893875, 0.00038594493526034057, 0.007564520929008722, 0.0826178714632988, 0.047515977174043655, 0.011557940393686295, 0.002140359254553914, 0.01112986821681261, 0.8445857763290405, 0.9984567165374756, 0.9988656044006348, 0.016467666253447533, 0.9642732739448547, 0.018907319754362106, 0.09691985696554184, 0.90284264087677, 0.9991562366485596, 0.2836741805076599, 0.14063847064971924, 0.013424580916762352, 0.008949720300734043, 0.41376474499702454, 0.0001598164380993694, 0.06504528969526291, 0.01741999201476574, 0.05657501891255379, 0.005145477596670389, 7.566878775833175e-05, 0.05856764316558838, 0.19802522659301758, 0.13461478054523468, 0.02489503100514412, 0.2449398785829544, 0.04048280417919159, 0.27535873651504517, 0.017857834696769714, 0.9967917203903198, 0.9987210631370544, 0.8419700860977173, 0.015565015375614166, 0.1420307606458664, 0.42397624254226685, 0.0008462599362246692, 0.03356831148266792, 0.06629036366939545, 0.009026773273944855, 0.46600714325904846, 0.054487038403749466, 0.9449199438095093, 0.9988256096839905, 0.9985876083374023, 0.9989166259765625, 0.0016645719297230244, 0.9954140186309814, 0.004780969582498074, 0.9932464361190796, 0.005787610542029142, 0.050381891429424286, 0.09096936881542206, 0.057505104690790176, 0.0008904015994630754, 0.03925187140703201, 0.03850987181067467, 0.24723485112190247, 0.013207623735070229, 0.18995234370231628, 0.03821307048201561, 0.010388018563389778, 0.09898298233747482, 0.055501699447631836, 0.06336691230535507, 0.9995683431625366, 0.14284369349479675, 0.8564718961715698, 0.012987629510462284, 0.1525445133447647, 0.015031978487968445, 0.12115774303674698, 0.658881664276123, 0.0004810233076568693, 0.027237944304943085, 0.011664815247058868, 0.9993681311607361, 0.09503450989723206, 0.8769914507865906, 0.027462443336844444, 0.004673901945352554, 0.994956910610199, 0.9989228248596191, 0.019573725759983063, 0.01320828590542078, 0.028326204046607018, 0.009866430424153805, 0.9250574707984924, 0.0038192635402083397, 0.9996346831321716, 0.1665724813938141, 0.044046930968761444, 0.10265406966209412, 0.1432211995124817, 0.030127733945846558, 0.06172064691781998, 0.27929964661598206, 0.014010769315063953, 0.10320351272821426, 0.00036629464011639357, 0.0010073102312162519, 0.00045786830014549196, 0.010622544214129448, 0.04258175194263458, 0.9981678128242493, 0.0016745621105656028, 0.9988144040107727, 0.9997288584709167, 0.9984983205795288, 0.0005100461421534419, 0.12700149416923523, 0.8502469062805176, 0.021931983530521393, 0.9990801811218262, 0.999187171459198, 0.14595948159694672, 0.0015833458164706826, 0.12933436036109924, 0.015208452939987183, 0.0799589678645134, 0.10750085115432739, 0.3562111556529999, 0.00800006277859211, 0.06316716223955154, 0.030208570882678032, 0.06291716545820236, 0.9988062977790833, 0.9984267950057983, 0.9984288811683655, 0.03272835537791252, 0.7553263306617737, 0.007722421083599329, 0.05037960410118103, 0.03640569746494293, 0.11730725318193436, 0.020884878933429718, 0.9790831208229065, 0.9991986751556396, 0.3579348921775818, 0.00030174918356351554, 9.052475797943771e-05, 0.14233508706092834, 0.06774269044399261, 0.15129704773426056, 6.034983744029887e-05, 0.19900359213352203, 0.0026553929783403873, 0.041611213237047195, 0.013970987871289253, 0.0063065579161047935, 0.010923320427536964, 0.005763409659266472, 0.9988758563995361, 0.9987213015556335, 0.004205513279885054, 0.9953048229217529, 0.9982637166976929, 0.9994393587112427, 0.7958645224571228, 0.2038363367319107, 0.13278473913669586, 0.8670594096183777, 0.9995856285095215, 0.9963658452033997, 0.00345019088126719, 0.9998937249183655, 0.9983133673667908, 0.9984466433525085, 0.998786211013794, 0.9979439973831177, 0.9990714192390442, 0.9995148777961731, 0.9999308586120605, 0.9996576309204102, 0.9991391897201538, 0.9990314245223999, 0.9997591376304626, 0.8799178600311279, 0.020610688254237175, 0.0988256111741066, 0.07893333584070206, 0.006533867679536343, 0.004953093361109495, 0.0871533676981926, 0.35967889428138733, 0.02508162148296833, 0.4375583827495575, 0.0006862094742245972, 0.05329560488462448, 0.08280260860919952, 0.11585503816604614, 0.0005718412576243281, 0.0245891734957695, 0.07902845740318298, 0.03533978760242462, 0.04311683028936386, 0.45552873611450195, 0.09847106039524078, 0.010750615037977695, 0.1369018405675888, 0.10052939504384995, 0.007072419859468937, 0.05885263532400131, 0.016165530309081078, 0.6802152395248413, 0.0004596741055138409, 0.9993314743041992, 0.9990612864494324, 0.9987800121307373, 0.1412757933139801, 0.8586667776107788, 0.9988927245140076, 0.009201310575008392, 0.10203231871128082, 0.02290104143321514, 0.86594557762146, 0.9988754987716675, 0.9988102912902832, 0.999578595161438, 0.025715582072734833, 0.4946805536746979, 0.004706869833171368, 0.1333995908498764, 0.004821671638637781, 0.04649469256401062, 0.04006579518318176, 0.007117705885320902, 0.0043624648824334145, 0.17266176640987396, 0.0657813772559166, 0.9995806813240051, 0.0008267522789537907, 0.9987167716026306, 0.9991495609283447, 0.06961984932422638, 0.19838972389698029, 0.009395995177328587, 0.40626493096351624, 0.0008948566974140704, 0.31534749269485474, 0.4808887243270874, 0.491952508687973, 0.027144869789481163, 0.060662951320409775, 0.05122649297118187, 0.0036397771909832954, 0.5842516422271729, 0.0028309377375990152, 0.0018872917862609029, 0.00013480655616149306, 0.0016176786739379168, 0.0014828721759840846, 0.016041981056332588, 0.008358006365597248, 0.00013480655616149306, 0.20018774271011353, 0.06753809005022049, 0.11219440400600433, 0.010289568454027176, 0.14778868854045868, 0.020884012803435326, 0.07431355118751526, 0.07324647903442383, 0.0005335331661626697, 0.000304876099107787, 0.05541123077273369, 0.04405459761619568, 0.46089643239974976, 0.9970552325248718, 0.9998051524162292, 0.9997135400772095, 0.9987470507621765, 0.9996060132980347, 0.01234554871916771, 0.10217911005020142, 0.7123644351959229, 0.0609397292137146, 0.11216062307357788, 0.998400092124939, 0.9988731145858765, 0.9979918003082275, 0.9996466040611267, 0.9991864562034607, 0.999069333076477, 0.11356821656227112, 0.4454953074455261, 0.17852221429347992, 0.013503950089216232, 0.005536619573831558, 0.0009452765225432813, 0.0031059083994477987, 0.060227617621421814, 0.07292132824659348, 0.06819494813680649, 0.0031059083994477987, 0.03470515087246895, 0.9986425042152405, 0.09017711132764816, 0.8859066367149353, 0.023657575249671936, 0.01151742972433567, 0.0010749601060524583, 0.01888858526945114, 0.06756892055273056, 0.014588744379580021, 0.19165003299713135, 0.03869856521487236, 0.11978127062320709, 0.08691820502281189, 0.4493333101272583, 0.998349130153656, 0.9986357688903809, 0.9997019171714783, 0.9987507462501526, 0.9985020160675049, 0.999471127986908, 0.15668326616287231, 0.042752306908369064, 0.34901225566864014, 0.01703324168920517, 0.08460219204425812, 0.07050182670354843, 0.028200730681419373, 0.0922727882862091, 0.00011280292528681457, 0.03248724341392517, 0.001466437941417098, 0.021770963445305824, 0.07185546308755875, 0.027749519795179367, 0.002030452713370323, 0.001466437941417098, 0.850706934928894, 0.0327334851026535, 0.11165755987167358, 0.004364464897662401, 0.03776901215314865, 0.9621495604515076, 0.9994564056396484, 0.07075781375169754, 0.00163383933249861, 0.09162068367004395, 0.07377412915229797, 0.23502150177955627, 0.0042731184512376785, 0.08018380403518677, 0.04222846403717995, 0.4004163146018982, 0.9941843748092651, 0.005147404503077269, 0.5572664737701416, 0.11294403672218323, 0.11284051090478897, 0.20880670845508575, 0.003519795835018158, 0.004555029794573784, 0.01288788951933384, 0.8282259106636047, 0.13031087815761566, 0.028460755944252014, 0.9993754029273987, 0.9998921155929565, 0.19837985932826996, 0.37183892726898193, 0.25787824392318726, 0.17184960842132568, 0.3118146061897278, 0.08090324699878693, 0.35086166858673096, 0.2563808858394623, 0.9981566667556763, 0.9992663860321045, 0.5246490836143494, 0.16343265771865845, 0.016322677955031395, 0.16152098774909973, 0.13402241468429565, 0.01434248872101307, 0.09210566431283951, 0.07148834317922592, 0.15978428721427917, 0.5604775547981262, 0.0002241013862658292, 0.10129382461309433, 0.38077300786972046, 0.39068230986595154, 0.00011303374776616693, 0.2066633701324463, 0.0013187270378693938, 0.020421430468559265, 0.15493473410606384, 0.021417448297142982, 0.15333981812000275, 0.6700927019119263, 0.9995579719543457, 0.9995733499526978, 0.9995117783546448, 0.005164068657904863, 0.2502728998661041, 0.055513739585876465, 0.022685017436742783, 0.08446941524744034, 0.3443327248096466, 0.061046671122312546, 0.022685017436742783, 0.0011065861908718944, 0.04721434414386749, 0.028402378782629967, 0.07690773904323578, 0.021722462028265, 0.9782471656799316, 0.998900294303894, 0.04608840495347977, 0.94012850522995, 0.0001249008346349001, 0.013614189811050892, 0.6728113889694214, 0.0036722649820148945, 0.018361324444413185, 0.0013115231413394213, 0.07213377952575684, 0.12564392387866974, 0.09888885170221329, 0.0028853509575128555, 0.0039345696568489075, 0.9992418885231018, 0.9983001351356506, 0.9993802309036255, 0.9856082201004028, 0.014239199459552765, 0.02923598885536194, 8.701187471160665e-05, 0.0001740237494232133, 0.03854626044631004, 0.002175296889618039, 0.10371815413236618, 0.010789471678435802, 0.815301239490509, 0.1441183239221573, 0.8540345430374146, 0.0013344289036467671, 0.04562210291624069, 0.05480105057358742, 0.12132570892572403, 0.01654028333723545, 0.6166254281997681, 0.00036352273309603333, 0.04280479997396469, 0.00045440340181812644, 0.10133196413516998, 0.31020474433898926, 0.6895602941513062, 0.9437500238418579, 0.05554582551121712, 0.8663924336433411, 0.13314270973205566, 0.9999203085899353, 0.9977909326553345, 0.001898143789730966, 0.9997081160545349, 0.0016848247032612562, 0.9979777932167053, 0.029163343831896782, 0.0005986610194668174, 0.9449436664581299, 0.012315312400460243, 0.012913973070681095, 0.9987921118736267, 0.9991822242736816, 0.9989255666732788, 0.9996352195739746, 0.9994702935218811, 0.999172568321228, 0.9994261860847473, 0.9991160035133362, 0.08478272706270218, 0.9150012731552124, 0.9986684322357178, 0.3647170066833496, 0.1521783322095871, 0.483042448759079, 0.0024449778720736504, 0.062172289937734604, 0.8756512999534607, 0.019559822976589203, 0.03213399276137352, 0.0017464127158746123, 0.006287085823714733, 0.41080567240715027, 0.0001241479767486453, 0.052762892097234726, 0.07225412875413895, 0.16226141154766083, 0.05834955349564552, 0.12005110085010529, 0.023215672001242638, 0.08752432465553284, 0.012538946233689785, 0.002169117797166109, 0.16578257083892822, 0.8320116400718689, 0.9999759197235107, 0.07564995437860489, 0.07438384741544724, 0.6950933337211609, 0.057291388511657715, 0.011711499653756618, 0.0854622945189476, 0.9029587507247925, 0.04201522469520569, 0.054791782051324844, 0.9988927841186523, 0.9989890456199646, 0.9993671178817749, 0.197940856218338, 0.009866750799119473, 0.09191656857728958, 0.2374078631401062, 0.001384807052090764, 0.02501307800412178, 0.04232316464185715, 0.2144719958305359, 0.020252803340554237, 0.10463948547840118, 8.655044075567275e-05, 0.029946452006697655, 0.024753427132964134, 0.08774283528327942, 0.06914833188056946, 0.09720611572265625, 0.09803622215986252, 0.29850825667381287, 0.027559718117117882, 0.015606105327606201, 0.040177419781684875, 0.00298840319737792, 0.09670804440975189, 0.011787590570747852, 8.301119669340551e-05, 0.08259614557027817, 0.020337743684649467, 0.023160124197602272, 0.02830681949853897, 0.9998629689216614, 0.9999402165412903, 0.9995158910751343, 0.9993377327919006, 0.47347643971443176, 0.025934414938092232, 0.43519890308380127, 0.06518275290727615, 0.9981186389923096, 0.9994940757751465, 0.0018902512965723872, 0.9700769782066345, 0.027597669512033463, 0.001598272006958723, 0.3455463945865631, 0.6377105116844177, 0.014704102650284767, 0.9986133575439453, 0.1594432294368744, 0.17017163336277008, 0.05298783630132675, 0.13183721899986267, 0.07854411005973816, 0.020192071795463562, 0.09254336357116699, 0.020889854058623314, 0.07701770961284637, 0.04361138865351677, 0.021936528384685516, 0.043785832822322845, 0.00396863603964448, 0.054165344685316086, 0.008853111416101456, 0.0024858491960912943, 0.016528716310858727, 0.00013083415979053825, 0.000959450495429337, 0.01746411807835102, 0.09779906272888184, 0.005664038471877575, 0.10535111278295517, 0.0984598696231842, 0.2188206911087036, 0.04776672273874283, 0.22127510607242584, 0.05220355466008186, 0.018030522391200066, 0.025204971432685852, 0.03483383730053902, 0.00018880127754528075, 0.003492823801934719, 0.011139275506138802, 0.031624212861061096, 0.010761672630906105, 0.05213290825486183, 0.021466491743922234, 0.7200474739074707, 0.0028621989767998457, 0.19544729590415955, 0.007973268628120422, 0.015068374574184418, 0.20538850128650665, 0.018344108015298843, 0.006387680768966675, 0.00032757336157374084, 0.7124720811843872, 0.04192939028143883, 0.06512214243412018, 0.00678224815055728, 0.005714672151952982, 0.012496920302510262, 0.36504822969436646, 0.00012559718743432313, 0.3171329200267792, 0.21596437692642212, 0.002135152230039239, 0.009545386768877506, 0.2988725006580353, 0.6370431184768677, 0.06411797553300858, 0.01882738433778286, 0.9810057878494263, 0.3032839000225067, 0.08309147506952286, 0.07336599379777908, 0.2433258295059204, 0.05476483702659607, 0.0005665327771566808, 0.21632111072540283, 0.00018884426390286535, 0.009253368712961674, 0.0005665327771566808, 0.015390807762742043, 0.9997081160545349, 0.9994379281997681, 0.1151759997010231, 0.03675829991698265, 0.021801473572850227, 0.002788560464978218, 0.018083393573760986, 0.010393725708127022, 0.16875016689300537, 0.02053394541144371, 0.15066677331924438, 0.10351474583148956, 0.014534316025674343, 0.037687819451093674, 0.022477488964796066, 0.009295201860368252, 0.1917346715927124, 0.04918006807565689, 0.00802767463028431, 0.018590403720736504, 0.9993484616279602, 0.9991625547409058, 0.9988300204277039, 0.9986923336982727, 0.9987732768058777, 0.28106650710105896, 0.7187609076499939, 0.0005959493573755026, 0.01311088539659977, 0.9859981536865234, 0.11057234555482864, 6.9324356445577e-05, 0.17573723196983337, 0.24811185896396637, 0.048041775822639465, 0.0974007174372673, 0.01504338439553976, 0.05469691380858421, 0.04443690925836563, 0.010675949975848198, 0.026828523725271225, 0.15473195910453796, 6.9324356445577e-05, 0.013518248684704304, 0.8593995571136475, 0.0022380196023732424, 0.13819770514965057, 4.638039172277786e-05, 0.06256714463233948, 0.04447879642248154, 0.1475360244512558, 0.03956247493624687, 0.07374481856822968, 0.03404320776462555, 0.250917911529541, 0.032187990844249725, 0.035295478999614716, 0.045128121972084045, 0.0006957058794796467, 0.06544273346662521, 0.05240984261035919, 0.029683450236916542, 0.08496887981891632, 0.0012058902066200972, 0.9998496770858765, 0.9993770122528076, 0.09942654520273209, 0.0010783789912238717, 0.1319935917854309, 0.07354544848203659, 0.20295092463493347, 0.10503411293029785, 0.04723300039768219, 0.009166221134364605, 0.24285094439983368, 0.025126229971647263, 0.06135976314544678, 0.9984961152076721, 0.0015923994360491633, 0.07311767339706421, 0.8898858428001404, 0.031184488907456398, 0.004113698378205299, 0.05624924600124359, 0.5983459949493408, 0.05796677991747856, 0.026407087221741676, 0.18442022800445557, 0.0405767448246479, 0.01717534102499485, 0.01889287680387497, 0.9995335340499878, 0.14949443936347961, 0.05580902099609375, 0.4553546905517578, 0.0787694901227951, 0.00033518931013531983, 0.0011731626000255346, 0.14161749184131622, 0.012569598853588104, 0.10390868782997131, 0.00100556795950979, 0.9995743036270142, 0.9985840320587158, 0.9994807243347168, 0.9856532216072083, 0.013808668591082096, 0.9995097517967224, 0.9992648959159851, 0.9980654120445251, 0.9992280006408691, 0.9995439052581787, 0.9991824626922607, 0.006919454783201218, 0.1950657218694687, 0.1633620411157608, 0.27061358094215393, 0.0005661371978931129, 0.017172828316688538, 0.024532612413167953, 0.03113754652440548, 0.040447358042001724, 0.0006290413439273834, 0.05007169023156166, 0.005095235072076321, 0.011825977824628353, 0.036673109978437424, 0.04711519554257393, 0.015726033598184586, 0.03535212576389313, 0.04755552485585213, 0.0164682324975729, 0.03328685462474823, 0.09810862690210342, 0.1583753526210785, 0.6934177279472351, 0.9996206164360046, 0.9986791014671326, 0.9799373745918274, 0.019298547878861427, 0.9992730021476746, 0.9990090727806091, 0.9996495842933655, 0.003913156688213348, 0.995898425579071, 3.3638218155829236e-05, 0.00030274398159235716, 0.04564706236124039, 0.14413976669311523, 0.07027024030685425, 0.016146345064044, 0.33624765276908875, 0.031586289405822754, 0.007232217118144035, 0.17683611810207367, 0.000168191094417125, 0.06589727103710175, 0.004810265265405178, 0.1006791889667511, 0.9997547268867493, 0.23097963631153107, 0.768711507320404, 0.9990216493606567, 0.9994427561759949, 0.04026833921670914, 0.8008203506469727, 0.1588001400232315, 0.9142199754714966, 0.08555345237255096, 0.08783990889787674, 0.09080497175455093, 0.02143491432070732, 0.23374558985233307, 6.177208706503734e-05, 0.08580143004655838, 0.02291744574904442, 0.06584904342889786, 0.062266264110803604, 0.11674924939870834, 0.04707033187150955, 0.035271864384412766, 0.0025944276712834835, 0.002841516165062785, 0.008215688169002533, 0.04157261550426483, 0.04540248587727547, 0.004324046429246664, 0.025264784693717957, 0.0007563183316960931, 0.9990965127944946, 0.9995272159576416, 0.780997633934021, 0.2182108610868454, 0.9988193511962891, 0.08460076153278351, 0.4187330901622772, 0.43540921807289124, 0.05958659574389458, 0.001626937766559422, 0.998293936252594, 0.025855518877506256, 0.006050191819667816, 0.3098008334636688, 0.010704184882342815, 0.05548594519495964, 5.171103839529678e-05, 0.1429293155670166, 0.00020684415358118713, 0.04317871853709221, 0.03278479725122452, 0.04245476424694061, 0.08413386344909668, 0.047160468995571136, 0.03361217677593231, 0.04690191149711609, 0.010549051687121391, 0.10823120921850204, 0.9998018145561218, 0.12350954860448837, 0.8707423210144043, 0.004940382204949856, 0.003913527820259333, 0.39451372623443604, 0.34092849493026733, 0.018815036863088608, 0.0743570327758789, 0.003763007465749979, 0.07450754940509796, 0.01068694144487381, 0.04771493747830391, 0.018815036863088608, 0.012192144058644772, 0.9988389015197754, 0.9999010562896729, 0.9985966086387634, 0.9981268048286438, 0.9164394736289978, 0.08287320286035538, 0.9997497797012329, 0.9983564615249634, 0.9993144273757935, 0.014372026547789574, 0.1019207090139389, 0.05869491770863533, 0.4720826745033264, 0.16840504109859467, 0.18453243374824524, 0.9986236691474915, 0.9990373849868774, 0.9868651628494263, 0.01266623754054308, 0.37756699323654175, 0.30368202924728394, 0.02931203879415989, 0.07872376590967178, 0.10124285519123077, 0.10943161696195602, 0.5899012088775635, 0.13317297399044037, 0.02305578626692295, 0.07045779377222061, 0.18341393768787384, 0.004716930445283651, 0.9947482347488403, 0.06157229095697403, 0.06671242415904999, 0.09810008108615875, 0.009077264927327633, 0.0703214630484581, 0.605880081653595, 0.004921408370137215, 0.044183313846588135, 0.03904317319393158, 0.08487506210803986, 0.5578922033309937, 0.128801628947258, 0.22831888496875763, 0.9992280602455139, 0.9993728995323181, 0.998393714427948, 0.9992913603782654, 0.8537338376045227, 0.0012375942897051573, 0.14479853212833405, 0.999467670917511, 0.6664864420890808, 0.03806551918387413, 0.2871907353401184, 0.008156896568834782, 0.9987990856170654, 0.2152746319770813, 0.22650030255317688, 0.038644131273031235, 0.009636197239160538, 0.06248626485466957, 0.0001986844727071002, 0.07023496180772781, 0.061095476150512695, 0.020464500412344933, 0.29315894842147827, 0.0021855290979146957, 0.02787431888282299, 0.030718637630343437, 0.023513032123446465, 0.015548939816653728, 0.0020858333446085453, 0.8823075294494629, 0.01782439462840557, 0.09869863092899323, 0.17858321964740753, 0.07621794193983078, 0.0030655483715236187, 0.043819308280944824, 0.08727796375751495, 0.026027105748653412, 0.09401014447212219, 0.03720734268426895, 0.06335466355085373, 0.18405310809612274, 0.00655185803771019, 0.013043607585132122, 0.02939319796860218, 0.0008415230549871922, 0.057163458317518234, 0.0006010878714732826, 0.9990863800048828, 0.9986997842788696, 0.11346645653247833, 0.10579623281955719, 0.7805116772651672, 0.1611475944519043, 0.09700337797403336, 0.05312558263540268, 0.00019676140800584108, 0.6809912323951721, 0.0070834108628332615, 0.998640775680542, 0.9983651041984558, 0.7600762248039246, 0.23972366750240326, 0.03793700411915779, 0.9616032242774963, 0.12629328668117523, 0.4871687889099121, 0.12419058382511139, 0.10651478171348572, 0.020107047632336617, 0.0508590005338192, 0.08325368911027908, 0.0012484767939895391, 0.00039425582508556545, 0.9990128874778748, 0.00023527757730334997, 0.11916809529066086, 0.24280646443367004, 0.10516907274723053, 0.0011763878865167499, 0.28880321979522705, 0.08117076009511948, 0.01235207263380289, 0.01246971171349287, 0.0018822206184267998, 0.07905326783657074, 0.00035291636595502496, 0.055407870560884476, 0.9995757341384888, 0.9995473623275757, 0.045727793127298355, 0.944731593132019, 0.009284831583499908, 0.998810350894928, 0.0005630516679957509, 0.11123397946357727, 0.032156504690647125, 0.19744344055652618, 0.02396097593009472, 0.043730344623327255, 0.0976581797003746, 0.015702884644269943, 0.024836832657456398, 0.07982821017503738, 0.012449697591364384, 0.3602904975414276, 0.9994051456451416, 0.9990636706352234, 0.0471506230533123, 0.08686304837465286, 0.1543111354112625, 0.1660357564687729, 0.03756921365857124, 0.01147247850894928, 0.02017139084637165, 0.00012607118696905673, 0.00453856261447072, 0.04046885296702385, 0.04235991835594177, 0.3153040409088135, 0.07349950075149536, 0.0253305584192276, 0.4101468622684479, 0.5642122030258179, 0.9994588494300842, 0.26207032799720764, 0.0035153632052242756, 0.07663492113351822, 0.011249162256717682, 0.0006151885609142482, 0.15353348851203918, 0.06881323456764221, 0.035593051463365555, 0.23447473347187042, 0.15353348851203918, 0.9994186758995056, 0.9977967739105225, 0.9997729063034058, 0.9976744055747986, 0.998675525188446, 0.09048470109701157, 0.061827149242162704, 0.14243413507938385, 0.027560031041502953, 0.006463192868977785, 0.014511696994304657, 0.46400848031044006, 0.03938889130949974, 0.04365703836083412, 0.010609392076730728, 0.0014633644605055451, 0.00024389407190028578, 0.09719178825616837, 0.0483100488781929, 0.11813750863075256, 0.020545653998851776, 0.08006557822227478, 0.06774512678384781, 0.16165819764137268, 0.0032623165752738714, 0.00010411648690933362, 0.02873614989221096, 0.0095440112054348, 0.02877085469663143, 0.06364987790584564, 0.0771850198507309, 0.038106635212898254, 0.005518173798918724, 0.24828311800956726, 0.00013882198254577816, 0.00020823297381866723, 0.047947145998477936, 0.0008093711803667247, 0.345633864402771, 0.14251407980918884, 0.04963063821196556, 0.02036377787590027, 0.06209495663642883, 0.0351267084479332, 0.01029520109295845, 0.03778144717216492, 0.008514584973454475, 0.029525859281420708, 0.003820231882855296, 0.0014244932681322098, 0.15352152287960052, 0.030108606442809105, 0.0208817757666111, 0.9997217059135437, 0.9994729161262512, 0.9990986585617065, 0.9997488856315613, 0.9999112486839294, 0.0778215304017067, 0.43594205379486084, 0.25200024247169495, 0.007923646830022335, 0.04938129708170891, 0.012026963755488396, 0.1649816334247589, 0.9988324046134949, 0.9993608593940735, 0.9991750717163086, 0.9983519911766052, 0.0003878448042087257, 4.848060052609071e-05, 0.03645741194486618, 0.8188373446464539, 0.10326368361711502, 0.02002248913049698, 0.020943619310855865, 0.007226180750876665, 0.991019070148468, 0.998752772808075, 0.08070848882198334, 0.6327215433120728, 0.28647381067276, 0.9984367489814758, 0.0009436872787773609, 0.988040566444397, 0.010380559600889683, 0.1906353384256363, 0.8091977834701538, 0.9990563988685608, 0.09460882842540741, 7.812454714439809e-05, 0.8746042847633362, 0.030546698719263077, 0.9989833831787109, 0.9991796016693115, 0.9992161989212036, 0.0349000059068203, 0.9588629007339478, 0.004732204135507345, 0.0011830510338768363, 0.004827028140425682, 0.0011799403000622988, 0.019200846552848816, 0.04548133537173271, 0.03110751509666443, 0.002681682351976633, 0.0217752605676651, 0.06200049817562103, 0.7545181512832642, 0.0571734681725502, 0.04817941039800644, 0.08196375519037247, 0.7279791831970215, 0.14189423620700836, 0.18601137399673462, 0.002849479438737035, 0.014280530624091625, 0.04426633194088936, 0.03581729531288147, 0.0884995311498642, 0.15450142323970795, 0.18468603491783142, 0.09800884127616882, 0.003512148978188634, 0.017196277156472206, 0.011364784091711044, 0.00019880088802892715, 0.03382928669452667, 0.12497949600219727, 0.9390779137611389, 0.06069863587617874, 0.9987625479698181, 0.003359908005222678, 0.015057365410029888, 0.005475405603647232, 0.025759294629096985, 0.05257633700966835, 0.0663892924785614, 0.08175776153802872, 0.22586047649383545, 0.08586431294679642, 0.009270857088267803, 0.0003111025725957006, 0.045669857412576675, 0.02302159182727337, 0.21472300589084625, 0.026008175686001778, 0.04927865043282509, 0.06265605986118317, 0.00684425700455904, 0.999194860458374, 0.9995552897453308, 0.06239509582519531, 0.06458189338445663, 0.08775721490383148, 0.07496919482946396, 0.03691412881016731, 0.04461546614766121, 0.054337214678525925, 0.044211383908987045, 0.07584866881370544, 0.04021809622645378, 0.024791652336716652, 0.027881694957613945, 0.003993286285549402, 0.10537046194076538, 0.002709729829803109, 0.060018140822649, 0.06650722771883011, 0.06952596455812454, 0.0530061200261116, 0.00035654340172186494, 0.31548020243644714, 0.19927996397018433, 0.11522611975669861, 0.0011132959043607116, 0.0833580270409584, 0.007932232692837715, 0.2741491198539734, 0.0032007256522774696, 0.9833543300628662, 0.015961693599820137, 0.3144625425338745, 0.1111971065402031, 0.001966508338227868, 0.19218148291110992, 0.0008938674000091851, 0.08169947564601898, 0.023598099127411842, 0.2740597426891327, 0.998582124710083, 0.9997203946113586, 0.9990090131759644, 0.9992577433586121, 0.9995189905166626, 0.02355967089533806, 0.9749216437339783, 0.052177462726831436, 0.8565800189971924, 0.09131056070327759, 0.012219755910336971, 0.06924527883529663, 0.9178394079208374, 0.9992925524711609, 0.9994810819625854, 0.9996204972267151, 0.25287574529647827, 0.7467575669288635, 0.027266452088952065, 0.028894299641251564, 0.9436091184616089, 0.14798876643180847, 0.12593773007392883, 0.030170923098921776, 0.0005572466179728508, 0.039325688034296036, 0.08716928958892822, 0.0893186703324318, 0.06519784778356552, 0.07801452279090881, 0.05851089209318161, 0.0644017830491066, 0.022051043808460236, 0.009393585845828056, 0.16820886731147766, 0.00023881996457930654, 0.013373917900025845, 0.13810430467128754, 0.8617011904716492, 0.026793094351887703, 0.18992847204208374, 0.03111456148326397, 0.7387547492980957, 0.003025026759132743, 0.0010803667828440666, 0.008210787549614906, 0.0006482200114987791, 0.0374215804040432, 0.0008315906161442399, 0.9615960121154785, 0.8456239104270935, 0.0034613069146871567, 0.15069997310638428, 0.7437999248504639, 0.009446842595934868, 0.005834814626723528, 0.03750951960682869, 0.18226848542690277, 0.020560774952173233, 0.9998270273208618, 0.1333513706922531, 0.8665193915367126, 0.9068059921264648, 0.09289953857660294, 0.10151231288909912, 0.0027758439537137747, 0.20493489503860474, 0.015670087188482285, 0.0697244256734848, 0.02122177556157112, 0.041398875415325165, 0.0032534084748476744, 0.0759626105427742, 0.09130436927080154, 0.03489205986261368, 0.07915632426738739, 0.001193911419250071, 0.04390609264373779, 0.005790470167994499, 0.10354196280241013, 0.016535673290491104, 0.04387624189257622, 0.042861416935920715, 0.00047756455023773015, 0.04112572968006134, 0.12660273909568787, 0.8297720551490784, 0.0020159671548753977, 0.999478280544281, 0.00032535099308006465, 0.9981386065483093, 0.9993723630905151, 0.9994831681251526, 0.02077442780137062, 0.13040581345558167, 0.15303142368793488, 0.003496685763821006, 0.0016454991418868303, 0.5199777483940125, 0.13760486245155334, 0.031058797612786293, 0.002056873869150877, 0.024761967360973358, 0.23984187841415405, 0.08619069308042526, 0.03571437671780586, 0.0289683286100626, 0.1507146656513214, 0.06468270719051361, 0.006349222734570503, 0.07055573910474777, 0.00015873055963311344, 0.049444571137428284, 0.0061904918402433395, 0.06992081552743912, 0.03349214792251587, 0.12380983680486679, 0.008253989741206169, 0.000873018114361912, 0.999277651309967, 0.9759000539779663, 0.023658182471990585, 0.1977720558643341, 0.0040577673353254795, 0.10991256684064865, 0.0029992193449288607, 0.025405151769518852, 0.023288056254386902, 0.07727400213479996, 0.02787509746849537, 0.03105074167251587, 0.08891803026199341, 0.011996877379715443, 0.06333645433187485, 0.03422638401389122, 0.3020390272140503, 0.9989588260650635, 0.9972281455993652, 0.0023043977562338114, 0.8371201753616333, 0.044806692749261856, 0.11775417625904083, 0.9988059401512146, 0.06761781871318817, 0.043299127370119095, 0.8191246390342712, 0.06939723342657089, 0.9996739625930786, 0.20514753460884094, 0.04592214524745941, 0.0015021262224763632, 0.7059993147850037, 0.04141576588153839, 0.9981154203414917, 0.9991376996040344, 0.9993601441383362, 0.9994011521339417, 0.004903420340269804, 0.26507073640823364, 0.455159991979599, 0.10758921504020691, 0.16724750399589539, 0.10652986168861389, 0.893355667591095, 0.9976157546043396, 0.38083839416503906, 0.11930054426193237, 0.11197249591350555, 0.00784100592136383, 0.1601177453994751, 0.02821296639740467, 0.011211905628442764, 0.0033708997070789337, 7.32804328436032e-05, 0.005862434394657612, 0.12069287151098251, 0.031217463314533234, 0.019199471920728683, 0.9993560910224915, 0.0022271377965807915, 0.9970153570175171, 0.999170184135437, 0.998870849609375, 0.15623241662979126, 0.46176794171333313, 0.0010162959806621075, 0.0053586517460644245, 0.019124843180179596, 0.2574000656604767, 0.023097636178135872, 0.005728214047849178, 0.000277171639027074, 0.06143971532583237, 0.0084999306127429, 0.9993933439254761, 0.9991005659103394, 0.3701678216457367, 0.6294293403625488, 0.06420201063156128, 0.042452793568372726, 0.01735754683613777, 0.8745694160461426, 0.0012547624064609408, 0.9995620250701904, 0.9995399713516235, 0.9997991919517517, 0.1945403814315796, 0.8050492405891418, 0.0002552849764470011, 0.35867536067962646, 0.002808134537190199, 0.5720936059951782, 0.06611880660057068, 0.9988558888435364, 0.011547746136784554, 0.05184200778603554, 0.006879508029669523, 0.5906549096107483, 0.004668237641453743, 0.0017198770074173808, 0.3324276804924011, 0.21337899565696716, 0.00033816005452536047, 0.006425041239708662, 0.025700164958834648, 0.7537587881088257, 0.011639122851192951, 0.17376282811164856, 0.22062832117080688, 0.019570205360651016, 0.006180065218359232, 0.008034084923565388, 0.00793108344078064, 0.39943820238113403, 0.022145232185721397, 0.03296034783124924, 0.012669133022427559, 0.03337235003709793, 0.0001030010826070793, 0.0248232614248991, 0.026574280112981796, 0.03766445443034172, 0.9604436159133911, 0.9996641874313354, 0.9990844130516052, 0.9982635378837585, 0.014864870347082615, 0.9832050204277039, 0.0010617765365168452, 0.999129593372345, 0.3452286422252655, 0.1553734987974167, 0.13751447200775146, 0.00013737709377892315, 0.00384655874222517, 0.013325578533113003, 0.09135577082633972, 0.05055477097630501, 0.019095415249466896, 0.01566098816692829, 0.047944605350494385, 0.11017642915248871, 0.009753773920238018, 0.9994001388549805, 0.9998310804367065, 0.9976224303245544, 0.0014313090359792113, 0.9978143572807312, 0.998893141746521, 0.999626636505127, 0.9543770551681519, 0.045235976576805115, 0.9987125992774963, 0.9978193640708923, 0.999574601650238, 0.9985166788101196, 0.9800680875778198, 0.018868807703256607, 0.26892369985580444, 0.7308088541030884, 0.9995830059051514, 0.9996647238731384, 0.9992073178291321, 0.9990440607070923, 0.9990723133087158, 0.0195795726031065, 0.13281813263893127, 0.12938664853572845, 0.0006055537960492074, 0.031085092574357986, 0.47354304790496826, 0.0018166613299399614, 0.045012831687927246, 0.044003572314977646, 0.0002018512604990974, 0.06640906631946564, 0.05550909414887428, 0.09726192057132721, 0.9026110768318176, 0.9991317391395569, 0.9989392161369324, 0.8450055122375488, 0.1546156257390976, 0.7725024819374084, 0.013447266072034836, 0.0020027842838317156, 0.09928087890148163, 0.1124420315027237, 0.9977375268936157, 0.001829665619879961, 0.021520353853702545, 0.17904585599899292, 0.13138741254806519, 0.00026138080283999443, 0.18976247310638428, 0.3802219331264496, 0.005401870235800743, 0.0007841424085199833, 8.712693670531735e-05, 0.07771722972393036, 0.011936389841139317, 0.01699650101363659, 0.014447025954723358, 0.019715940579771996, 0.10520833730697632, 0.43281587958335876, 0.08141323924064636, 0.0019545976538211107, 0.14226071536540985, 0.0977298766374588, 0.006033757701516151, 0.00016996500198729336, 0.022860294207930565, 0.009178110398352146, 0.04920487105846405, 0.9978887438774109, 0.9994848966598511, 0.05525074899196625, 0.06769002974033356, 0.23218382894992828, 0.03954433649778366, 0.01771508902311325, 0.06647998839616776, 0.039858948439359665, 0.10321701318025589, 0.0035091363824903965, 0.05583157017827034, 0.0699649229645729, 0.00021780846873298287, 0.029016928747296333, 0.00019360752776265144, 0.0022264865692704916, 0.0067278617061674595, 0.03351830318570137, 0.040584977716207504, 0.024055736139416695, 0.11221976578235626, 0.018295129761099815, 0.022285979241132736, 0.03780096396803856, 0.051970724016427994, 0.01825028844177723, 0.020537178963422775, 0.09797759354114532, 0.1633109301328659, 0.01129993237555027, 0.11021918803453445, 0.04663464426994324, 0.0009416610701009631, 0.014932054094970226, 0.03551407530903816, 0.007488447707146406, 0.08811257034540176, 0.04197118058800697, 0.040670789778232574, 0.05640998110175133, 0.1152862161397934, 0.9978603720664978, 0.9996423125267029, 0.9995241165161133, 0.701222836971283, 0.14432182908058167, 0.08995844423770905, 0.0074426052160561085, 0.056952111423015594, 0.9994341135025024, 0.9986166954040527, 0.23904304206371307, 0.7574453353881836, 0.003567806677892804, 0.32103466987609863, 0.14268207550048828, 0.07894725352525711, 0.4568973779678345, 0.9993934631347656, 0.9987529516220093, 0.9989071488380432, 0.22076432406902313, 0.7786769866943359, 0.9983392953872681, 0.9978401064872742, 0.9991239905357361, 0.9985126256942749, 0.9994573593139648, 0.25769832730293274, 0.08440354466438293, 0.05160871148109436, 0.5866823196411133, 0.01950429566204548, 0.9986688494682312, 0.25284913182258606, 0.013619508594274521, 0.07697983086109161, 0.6564010977745056, 0.999883770942688, 0.9992918372154236, 0.7223012447357178, 0.15865576267242432, 0.00014397074119187891, 0.02375517413020134, 0.09444481134414673, 0.000719853735063225, 0.003530091606080532, 0.19465933740139008, 0.8013308048248291, 0.9990666508674622, 0.9994838237762451, 0.17530129849910736, 0.053909316658973694, 0.0038023812230676413, 0.007719986140727997, 0.05110554024577141, 0.012367341667413712, 0.06961814314126968, 0.09281650930643082, 0.05585275590419769, 0.0600929893553257, 0.0746188536286354, 0.00802724901586771, 0.09569710493087769, 0.03559643402695656, 0.005323333665728569, 0.09471385926008224, 0.024189289659261703, 0.018958136439323425, 0.040735408663749695, 0.019557299092411995, 0.9992925524711609, 0.999607264995575, 0.9990092515945435, 0.9993260502815247, 0.9992699027061462, 0.9988751411437988, 0.0007287939661182463, 0.9037045240402222, 0.09547200798988342, 0.09194432944059372, 0.24725881218910217, 0.6606626510620117, 0.06180570647120476, 0.05528765171766281, 0.002845444716513157, 0.2644278407096863, 0.08906903862953186, 0.031630758196115494, 0.02848753333091736, 0.017866745591163635, 0.09194757044315338, 0.04076265171170235, 0.03622978925704956, 0.062335092574357986, 0.06971339881420135, 0.01819761097431183, 0.034542374312877655, 0.011117086745798588, 0.03229248896241188, 0.03034038282930851, 0.020811449736356735, 0.00019851939578074962, 0.0019962131045758724, 0.1330108344554901, 0.26234444975852966, 0.28755977749824524, 0.11262845247983932, 0.008615235798060894, 0.0345660075545311, 0.02206340804696083, 0.004727873485535383, 0.015129194594919682, 0.08447133749723434, 0.00010506385297048837, 0.000840510823763907, 0.015864642336964607, 0.002626596251502633, 0.006303831003606319, 0.007039278279989958, 0.9996199011802673, 0.9990060925483704, 0.0370437391102314, 0.562328577041626, 0.12125497311353683, 0.06419380754232407, 0.2148997038602829, 0.21533319354057312, 0.39817482233047485, 0.06115156412124634, 0.19770805537700653, 0.04613187909126282, 0.081382155418396, 0.08955831825733185, 0.9101480841636658, 0.9511686563491821, 0.027176247909665108, 0.020565809682011604, 0.06675121188163757, 0.9328755736351013, 0.9996742606163025, 0.04575350508093834, 0.7311928272247314, 0.22272461652755737, 0.2773333489894867, 0.7221834659576416, 0.9987900853157043, 0.20767749845981598, 0.791994035243988, 0.9979516267776489, 0.2562580108642578, 0.07302658259868622, 0.17688392102718353, 0.15633007884025574, 0.0015113117406144738, 0.0314352847635746, 0.012755470350384712, 0.29174360632896423, 0.9995681047439575, 0.9994837641716003, 0.4358816146850586, 0.5523432493209839, 0.011429921723902225, 0.9995081424713135, 0.9994414448738098, 0.9996765851974487, 6.182318611536175e-05, 0.020958058536052704, 0.05322976037859917, 0.07115848362445831, 0.04061783105134964, 0.11208543181419373, 0.03845401853322983, 0.0018546954961493611, 6.182318611536175e-05, 0.1750832498073578, 0.062008652836084366, 0.008655245415866375, 0.00562590966001153, 0.14083321392536163, 0.26930177211761475, 0.998873233795166, 0.9995946884155273, 0.09330388158559799, 0.6542078852653503, 0.022335290908813477, 0.09474486857652664, 0.003962713293731213, 0.04539107531309128, 0.08609894663095474, 0.9994170665740967, 0.998748779296875, 0.9990853071212769, 0.9997013211250305, 0.9987998008728027, 0.6368528008460999, 0.36307477951049805, 0.9994134306907654, 0.00022294270456768572, 0.6908994317054749, 0.012150377035140991, 0.2966809868812561, 0.10908152163028717, 0.08176976442337036, 0.0648033618927002, 0.23810891807079315, 0.17860238254070282, 0.006372744683176279, 0.0033932796213775873, 0.00016552583838347346, 8.276291919173673e-05, 0.04659552127122879, 0.17165029048919678, 0.000413814588682726, 0.07721780240535736, 0.021849410608410835, 0.051117029041051865, 0.1933501660823822, 0.003961570095270872, 0.010542887263000011, 0.1759064793586731, 0.030350737273693085, 0.00031948144896887243, 0.06881630420684814, 0.007987036369740963, 0.16587476432323456, 0.16542749106884003, 0.0081148287281394, 0.01680472306907177, 0.010351198725402355, 0.01354601327329874, 0.03469568490982056, 0.04274661839008331, 0.9983041882514954, 0.08116263896226883, 0.02434879168868065, 0.24646387994289398, 0.6357740163803101, 0.012174395844340324, 0.004009645897895098, 0.20637401938438416, 0.09811358153820038, 0.06480897217988968, 0.01677504926919937, 0.06300872564315796, 0.03526851907372475, 0.012765403836965561, 0.052534546703100204, 0.0007364655612036586, 0.0858391523361206, 0.0003273180336691439, 0.34630247950553894, 0.013092721812427044, 0.04704340547323227, 0.05449703708291054, 0.3437223434448242, 0.025904420763254166, 0.053030747920274734, 0.09347586333751678, 0.00207724142819643, 0.07025963068008423, 0.0051320078782737255, 0.30474352836608887, 0.9997583031654358, 0.9995874166488647, 0.9992401003837585, 0.9998771548271179, 0.9991559982299805, 0.997588574886322, 0.9981229901313782, 0.9991244673728943, 0.99970942735672, 0.9988452792167664, 0.9993329048156738, 0.06074658781290054, 0.001063656178303063, 0.4818362593650818, 0.02741869166493416, 0.0518827848136425, 0.00330915255472064, 0.08367428928613663, 0.04750997573137283, 0.1271660029888153, 0.008154697716236115, 0.05861927196383476, 0.048337262123823166, 0.0003545520594343543, 0.9977755546569824, 0.27340343594551086, 0.20881995558738708, 0.002719304757192731, 0.5148550271987915, 0.999180793762207, 0.9999017715454102, 0.031018463894724846, 0.16112704575061798, 0.00470708217471838, 0.10910774767398834, 0.5113822221755981, 0.00024138882872648537, 0.011224579997360706, 0.043691378086805344, 0.1270912140607834, 0.00024138882872648537, 0.0003107410448137671, 0.022787677124142647, 0.01698717661201954, 0.39588409662246704, 0.0001035803506965749, 0.022787677124142647, 0.1379690319299698, 0.10958801209926605, 0.22684097290039062, 0.040810659527778625, 0.026102248579263687, 0.07271283119916916, 0.2326810508966446, 0.6940770149230957, 0.9994540810585022, 0.999832034111023, 0.99977046251297, 0.0003038122958969325, 0.029469791799783707, 0.6726403832435608, 0.00121524918358773, 0.29165980219841003, 0.000911436858586967, 0.003645747434347868, 0.04856879636645317, 0.03236312046647072, 0.09361671656370163, 0.1079896092414856, 0.09824690967798233, 0.017652610316872597, 0.14623692631721497, 0.15163882076740265, 0.037620317190885544, 0.0021704030223190784, 0.10152663290500641, 0.06617317348718643, 0.010466165840625763, 0.08565857261419296, 0.20659904181957245, 0.03024439699947834, 0.03336822986602783, 0.046715524047613144, 0.5605862736701965, 0.047993455082178116, 0.04927138611674309, 0.025132667273283005, 0.8341643214225769, 0.004897246137261391, 0.015507946722209454, 0.06312006711959839, 0.043803147971630096, 0.03808969259262085, 0.005314110778272152, 0.6780180335044861, 0.3163459002971649, 0.9995511770248413, 0.9985235929489136, 0.9974381327629089, 0.0019435661379247904, 0.9978107213973999, 0.9993242025375366, 0.999730110168457, 0.9988077282905579, 0.9218737483024597, 0.07774363458156586, 0.7476754188537598, 0.1547047644853592, 0.09683515131473541, 0.999360978603363, 0.0395374596118927, 0.03036639839410782, 0.0008152053342200816, 0.08111292868852615, 0.0002038013335550204, 0.252102255821228, 0.5957112908363342, 0.02571752481162548, 0.13530661165714264, 0.009730955585837364, 0.18836349248886108, 0.5859425067901611, 0.00023168940970208496, 0.05352025479078293, 0.0004633788194041699, 0.0009267576388083398, 0.3189976215362549, 0.021032022312283516, 0.016103016212582588, 0.2644914388656616, 0.001339924056082964, 0.05242452770471573, 0.18330639600753784, 0.08285994827747345, 0.026511354371905327, 0.000933161354623735, 0.005359696224331856, 0.0008374525350518525, 0.025793537497520447, 0.9641179442405701, 0.035865671932697296, 0.16125649213790894, 0.08942016214132309, 0.11307968944311142, 0.06039970740675926, 0.34438556432724, 0.05403808131814003, 0.020871851593255997, 0.008077120408415794, 0.057397592812776566, 0.017297904938459396, 0.03073594532907009, 0.013152126222848892, 0.0009292262839153409, 0.02902045100927353, 0.0827026516199112, 0.020443353801965714, 0.029271164909005165, 0.07410715520381927, 0.004878527484834194, 0.00348466238938272, 0.6925185918807983, 0.004181595053523779, 0.06574396789073944, 0.022301839664578438, 0.00023231083468999714, 0.9995169639587402, 0.9991623163223267, 0.05437054857611656, 0.9454252123832703, 0.9995762705802917, 0.06594774127006531, 0.40862053632736206, 0.044390976428985596, 0.1544901728630066, 0.0007185589638538659, 0.08167620003223419, 0.009181587025523186, 0.005349272396415472, 0.004630713257938623, 0.03616746887564659, 0.026746360585093498, 0.0056686317548155785, 0.005269432440400124, 0.009021907113492489, 0.08806338906288147, 0.04471033439040184, 0.009341266006231308, 0.9675207138061523, 0.03192679584026337, 0.38929057121276855, 0.5629016160964966, 0.04771948978304863, 0.011180989444255829, 0.2898382246494293, 0.10207471996545792, 0.009205038659274578, 4.819392052013427e-05, 0.09768906980752945, 4.819392052013427e-05, 0.04607338458299637, 0.11388222873210907, 0.033783938735723495, 0.0057350764982402325, 0.2895490527153015, 0.0008192966342903674, 0.9994890093803406, 0.0006061840686015785, 0.9989913702011108, 0.11534016579389572, 0.0004282431909814477, 0.0268365740776062, 0.039969366043806076, 0.18071863055229187, 0.00028549545095302165, 0.44423094391822815, 0.06851891428232193, 0.00028549545095302165, 0.027550311759114265, 0.059954047203063965, 0.03597242757678032, 0.6976867914199829, 0.2689439654350281, 0.00014513975474983454, 0.0224966611713171, 0.010450062341988087, 0.00014513975474983454, 0.2725711166858673, 0.47552570700645447, 0.25179845094680786, 0.09667474776506424, 0.01852932758629322, 0.8837683200836182, 0.9992478489875793, 0.9993396997451782, 0.9666180610656738, 0.03265601769089699, 0.999488353729248, 0.20791414380073547, 0.01228184811770916, 0.15826039016246796, 0.18703500926494598, 0.09000840783119202, 0.013685488142073154, 0.33073264360427856, 0.9986686706542969, 0.998664379119873, 0.9994593858718872, 0.9983479976654053, 0.23851808905601501, 0.7609574794769287, 0.010639683343470097, 0.98417067527771, 0.004433201160281897, 0.9993534684181213, 0.02929026633501053, 0.11082803457975388, 0.0414285771548748, 0.15120111405849457, 0.5636397004127502, 0.10343950241804123, 0.999326229095459, 0.9987061023712158, 0.0012087383074685931, 0.9972091317176819, 0.9995546340942383, 0.9978775382041931, 0.9996151328086853, 0.26354604959487915, 0.48937320709228516, 0.012292920611798763, 0.23082390427589417, 0.0038912841118872166, 0.5339261293411255, 0.16613644361495972, 0.2998870611190796, 0.9990400671958923, 0.053990066051483154, 0.9454005360603333, 0.005796235520392656, 0.07501010596752167, 0.08745496720075607, 0.0071600559167563915, 0.0395507849752903, 0.00017047752044163644, 0.0039209830574691296, 0.3719819486141205, 0.006819101050496101, 0.0006819100817665458, 0.35203608870506287, 0.04960895702242851, 0.9987717866897583, 0.9988197684288025, 0.9997524619102478, 0.9993724822998047, 0.6964671015739441, 0.015501651912927628, 0.20373599231243134, 0.03321782499551773, 0.050933998078107834, 0.9988218545913696, 0.9994400143623352, 0.7301611304283142, 0.0987340658903122, 0.02119334228336811, 0.030696706846356392, 0.030108002945780754, 0.041713882237672806, 0.04743272066116333, 0.7887501120567322, 0.21116432547569275, 0.9991108179092407, 0.9992018342018127, 0.9987989068031311, 0.9994149804115295, 0.02268986403942108, 0.11698698252439499, 0.07685276120901108, 0.0025617587380111217, 0.3976825475692749, 0.18359270691871643, 0.011588908731937408, 0.009759080596268177, 0.11735294759273529, 0.06087226793169975, 0.019087690860033035, 0.07816863805055618, 0.03522133454680443, 0.2235986739397049, 0.015338323079049587, 0.045333266258239746, 0.014429385773837566, 0.33857929706573486, 0.0026131959166377783, 0.045674119144678116, 0.12066148221492767, 0.017383433878421783, 0.019769394770264626, 0.006248946767300367, 0.006930649746209383, 0.010907252319157124, 0.8820899128913879, 0.10161255300045013, 0.01616104133427143, 0.0011187928030267358, 0.0004195472865831107, 0.020697666332125664, 0.13439498841762543, 0.012306720949709415, 0.03188559412956238, 0.016642043367028236, 0.3999684154987335, 0.0012586419470608234, 0.012446570210158825, 0.12362660467624664, 0.03496227413415909, 0.10069134831428528, 0.10726425796747208, 0.0023774346336722374, 0.0791490450501442, 0.37075838446617126, 0.0014443256659433246, 0.15902024507522583, 0.00014443256077356637, 0.004332976881414652, 0.22401490807533264, 0.025708995759487152, 0.033075056970119476, 0.09604765474796295, 0.00404411181807518, 0.002166488440707326, 0.9981948137283325, 0.0007897110772319138, 0.9992896318435669, 0.005247295834124088, 0.24159890413284302, 0.06296755373477936, 0.22264723479747772, 0.052947450429201126, 0.04976557940244675, 0.027129637077450752, 0.04178299009799957, 0.02179860696196556, 0.05434300750494003, 8.373344462597743e-05, 0.00011164460011059418, 0.11912478506565094, 0.03561462461948395, 0.0010048013646155596, 0.006419564131647348, 0.0437367707490921, 0.007201076485216618, 2.7911150027648546e-05, 0.006475386675447226, 0.051554709672927856, 0.12490400671958923, 0.43323656916618347, 0.201682910323143, 0.06040530279278755, 0.011505772359669209, 0.06129036471247673, 0.006416680756956339, 0.027326209470629692, 0.0002212648541899398, 0.0005531621281988919, 0.0018807512242347002, 0.01902877725660801, 0.10802097618579865, 0.007334395311772823, 0.03074578568339348, 0.056269481778144836, 0.0006747643928974867, 0.057325635105371475, 0.09860361367464066, 0.19527094066143036, 0.050313953310251236, 0.06771113723516464, 0.03491172194480896, 0.0655108168721199, 0.03156723827123642, 0.008654586970806122, 0.05697358399629593, 0.04189406707882881, 0.0004400637117214501, 0.04195274040102959, 0.045737288892269135, 0.9844329953193665, 0.01407879963517189, 0.9996588826179504, 0.12624773383140564, 0.1391032487154007, 0.734412431716919, 0.9989598989486694, 0.9989545941352844, 0.9993667006492615, 0.9991876482963562, 0.9990749359130859, 0.9990506172180176, 0.051630064845085144, 0.9480778574943542, 0.9992901086807251, 0.9994057416915894, 0.021607505157589912, 0.03265134245157242, 0.9454484581947327, 0.002167759696021676, 0.5271269083023071, 0.04498101398348808, 0.013187204487621784, 0.09935565292835236, 0.07587158679962158, 0.0007225865847431123, 0.0007225865847431123, 0.22689218819141388, 0.00921297911554575, 0.00018064664618577808, 0.25915277004241943, 0.05040973797440529, 0.010607454925775528, 0.05060437321662903, 0.24358220398426056, 0.024815605953335762, 0.00895308144390583, 0.07532265782356262, 0.009342345409095287, 0.0003892644017469138, 0.2099108248949051, 0.00982892606407404, 0.014402782544493675, 0.027637772262096405, 0.005060437135398388, 0.9989545941352844, 0.005068429280072451, 0.07034365832805634, 0.00015358877135440707, 0.005836373195052147, 0.13531170785427094, 0.2225501388311386, 0.13392941653728485, 0.046690985560417175, 0.0033789530862122774, 0.36938101053237915, 0.007218672428280115, 0.21011927723884583, 0.20159170031547546, 0.5733936429023743, 0.006139848846942186, 0.008527567610144615, 0.9990928173065186, 0.02668645791709423, 0.8014476895332336, 0.057713910937309265, 0.06824616342782974, 7.116388587746769e-05, 7.116388587746769e-05, 0.0019925888627767563, 0.0013521137880161405, 0.00021349165763240308, 0.030315814539790154, 0.011955533176660538, 0.8801981806755066, 0.11930956691503525, 0.4149987995624542, 0.0001700814755167812, 0.0565946102142334, 0.07872646301984787, 0.3034040927886963, 0.010141108185052872, 0.040160488337278366, 0.0035504507832229137, 0.000999228679575026, 0.001998457359150052, 0.018241237848997116, 4.25203688791953e-05, 0.01964440941810608, 0.0009354481007903814, 0.0198570117354393, 0.014286844059824944, 0.008737935684621334, 0.007356023881584406, 0.00014882128743920475, 0.9737677574157715, 0.026099223643541336, 0.16369815170764923, 0.8361756205558777, 0.998443603515625, 0.9994494915008545, 0.2900930643081665, 0.6356425285339355, 0.01667201519012451, 0.042820755392313004, 0.014741571620106697, 0.1002853587269783, 0.8939499855041504, 0.00470087630674243, 0.998193085193634, 0.7355203032493591, 0.12969067692756653, 0.06445548683404922, 0.06991341710090637, 0.9907622337341309, 0.005107021890580654, 0.0020428088027983904, 0.37139734625816345, 0.007771085482090712, 0.04158035293221474, 0.03310280665755272, 0.00010092319280374795, 0.0835644006729126, 0.01665232703089714, 0.0942622572183609, 0.08083947747945786, 0.008982163853943348, 0.09759272634983063, 0.054700370877981186, 0.0002018463856074959, 0.06953607499599457, 0.034313883632421494, 0.005348929204046726, 0.9980176091194153, 0.3287484645843506, 0.21317283809185028, 0.39060282707214355, 0.030820168554782867, 0.017871417105197906, 0.01862051896750927, 0.999421238899231, 0.9977300763130188, 0.9995781779289246, 0.1827767789363861, 0.8168262839317322, 0.01053086668252945, 0.9817107915878296, 0.0064355297945439816, 0.0005850481684319675, 0.9992449879646301, 0.9987330436706543, 0.14354895055294037, 0.0016581561649218202, 0.656866729259491, 0.0004737589042633772, 0.034584399312734604, 0.01042269542813301, 0.004026950802654028, 0.0291361715644598, 0.007580142468214035, 0.11157021671533585, 0.9999062418937683, 0.03566955402493477, 0.24313843250274658, 0.46108049154281616, 0.010690024122595787, 0.004683661740273237, 0.028644060716032982, 0.12118975073099136, 0.016869856044650078, 0.04818100109696388, 0.0033826446160674095, 0.02636728063225746, 0.00013010171824134886, 0.9987760782241821, 0.12144447863101959, 0.3105196952819824, 0.5334103107452393, 0.03417898342013359, 0.9996674060821533, 0.9986375570297241, 0.9981359839439392, 0.9996893405914307, 0.9990288019180298, 0.9975465536117554, 0.9979661107063293, 0.9994838833808899, 0.026048483327031136, 0.05597919225692749, 0.09179585427045822, 0.07200902700424194, 0.007388752419501543, 0.015904603525996208, 0.18121229112148285, 0.012147610075771809, 0.12410599738359451, 0.2469596564769745, 0.044958680868148804, 0.12135086953639984, 0.6978462338447571, 0.09674393385648727, 0.09545401483774185, 0.06294804811477661, 0.041277408599853516, 0.0051596760749816895, 0.00025798380374908447, 0.14170733094215393, 0.00968855433166027, 0.22792567312717438, 0.05323811620473862, 0.014875355176627636, 0.014581763185560703, 0.16783706843852997, 0.3700244724750519, 0.9985705018043518, 0.9981143474578857, 0.23484914004802704, 0.2731918394565582, 0.030221516266465187, 0.12767592072486877, 0.2855733633041382, 0.009985081851482391, 0.013579711318016052, 0.025029271841049194, 0.02949763834476471, 6.569630204467103e-05, 0.9266791343688965, 0.012745082378387451, 9.854444942902774e-05, 0.01182533334940672, 0.011398307979106903, 0.0072265928611159325, 3.2848151022335514e-05, 0.00039417779771611094, 0.21564477682113647, 0.02032586932182312, 0.033347129821777344, 0.14736256003379822, 0.020643461495637894, 0.5405411124229431, 0.02191382832825184, 0.03001464158296585, 0.9690441489219666, 0.1000964418053627, 0.04651641845703125, 0.20467223227024078, 0.0031010943930596113, 0.028771264478564262, 0.07666594535112381, 0.05762867256999016, 0.31622549891471863, 0.044104453176259995, 0.0005168491043150425, 0.06296944618225098, 0.0013782641617581248, 0.029718821868300438, 0.002584245288744569, 0.02024325542151928, 0.004737783223390579, 0.7896322011947632, 0.18983078002929688, 0.00014501968689728528, 0.0018852560315281153, 0.01841750182211399, 0.9990295767784119, 0.00035191240021958947, 0.2906796336174011, 0.06287501752376556, 0.04586591571569443, 0.05747902765870094, 0.12809611856937408, 0.02275700308382511, 0.3418242633342743, 0.049854256212711334, 0.2532740831375122, 0.023557808250188828, 0.11358623951673508, 0.0685720294713974, 0.0017696006689220667, 0.0007742003072053194, 0.0006636002799496055, 0.0237790085375309, 0.024885009974241257, 0.35038092732429504, 0.1386924535036087, 0.6436296701431274, 0.35629498958587646, 0.07457203418016434, 0.9247825741767883, 0.0009248597780242562, 0.9674032926559448, 0.031445231288671494, 0.022786851972341537, 0.2654360234737396, 0.06554518640041351, 0.0856926366686821, 0.02437049336731434, 0.06827257573604584, 0.05296403169631958, 0.016628243029117584, 0.1498301476240158, 0.004838906694203615, 0.01689218357205391, 0.03835933282971382, 0.0010557614732533693, 0.02718585729598999, 0.01002973411232233, 0.023226751014590263, 0.07733452320098877, 0.04962078854441643, 0.9992214441299438, 0.05341149494051933, 0.05394739657640457, 0.00035726753412745893, 0.4076422452926636, 0.07609798014163971, 0.019828347489237785, 0.0016077038599178195, 0.15916268527507782, 0.00035726753412745893, 0.2274007797241211, 0.9994814991950989, 0.8193837404251099, 0.03475828096270561, 0.14530101418495178, 0.9984501600265503, 0.0018013600492849946, 0.9973530173301697, 0.059746213257312775, 0.6173179149627686, 0.22234892845153809, 0.08747275173664093, 0.013058303855359554, 0.9995774030685425, 0.9998859167098999, 0.9573970437049866, 0.04219932109117508, 0.9993585348129272, 0.00508936308324337, 0.0918508917093277, 0.025870930403470993, 0.004786424804478884, 0.2857919931411743, 0.0007876395247876644, 0.10372606664896011, 0.05507418140769005, 0.021023917943239212, 0.021932732313871384, 0.001878217444755137, 0.16249610483646393, 0.06185999885201454, 0.1578914374113083, 0.9994344711303711, 0.9997656941413879, 0.00917723122984171, 0.600284993648529, 0.020354626700282097, 0.01835446245968342, 0.01847211830317974, 0.018119147047400475, 0.03153202310204506, 0.0001176568039227277, 0.0032943906262516975, 0.08800729364156723, 0.12918716669082642, 0.014707100577652454, 0.04847460240125656, 0.08123951405286789, 0.02100423350930214, 0.615024745464325, 0.03020443394780159, 0.18192096054553986, 0.022740120068192482, 0.00798508059233427, 0.006075604353100061, 0.033676207065582275, 0.03355095162987709, 0.09580660611391068, 0.010736304335296154, 0.012227457948029041, 0.22337476909160614, 0.005815498065203428, 0.015209764242172241, 0.027660895138978958, 0.031239662319421768, 0.017670167610049248, 0.012003784999251366, 0.06352313607931137, 0.12652435898780823, 0.003205979708582163, 0.1330854445695877, 0.07090434432029724, 0.11735376715660095, 0.03673537075519562, 0.021605798974633217, 0.08262013643980026, 0.08942706137895584, 0.03477872163057327, 0.12257983535528183, 0.00774391507729888, 0.037314094603061676, 0.09675759822130203, 0.06459692865610123, 0.07446284592151642, 0.0607663094997406, 0.011739885434508324, 0.0034999188501387835, 0.08843495696783066, 0.0831713005900383, 0.03144415467977524, 0.04310136288404465, 0.0022046733647584915, 0.007054954767227173, 0.9992725253105164, 0.9994831681251526, 0.027114924043416977, 0.3533598780632019, 0.003941917791962624, 0.015357528813183308, 0.05457163229584694, 0.020096944645047188, 0.05411592125892639, 0.09524402022361755, 0.09080082178115845, 0.04390794783830643, 0.03798367828130722, 0.02889220602810383, 0.012828321196138859, 0.05097150057554245, 0.0499233603477478, 0.0008886404102668166, 0.019299445673823357, 0.036776039749383926, 0.0038735605776309967, 0.9939739108085632, 0.005901719909161329, 0.9992786645889282, 0.9982536435127258, 0.9995949268341064, 0.0016216778894886374, 0.2213590294122696, 0.003243355778977275, 0.05135313421487808, 0.030406460165977478, 0.006351571995764971, 0.004459614399820566, 0.012027444317936897, 0.10297654569149017, 0.17122216522693634, 0.39420285820961, 0.0006756991497240961, 0.018226785585284233, 0.18226785957813263, 0.18629877269268036, 0.5382159352302551, 0.0727318823337555, 0.0021030905190855265, 0.9984135627746582, 0.999772846698761, 0.9985955953598022, 0.9984724521636963, 0.9992673397064209, 0.9991981387138367], \"Term\": [\"000\", \"000\", \"000\", \"000\", \"000\", \"000\", \"000\", \"000\", \"000\", \"000\", \"000\", \"000\", \"000\", \"100\", \"100\", \"100\", \"100\", \"100\", \"100\", \"100\", \"100\", \"11\", \"11\", \"11\", \"11\", \"11\", \"11\", \"11\", \"11\", \"11\", \"11\", \"11\", \"12\", \"12\", \"12\", \"12\", \"12\", \"12\", \"130\", \"14\", \"14\", \"14\", \"19\", \"19\", \"200\", \"200\", \"200\", \"200\", \"200\", \"200\", \"2001\", \"2005\", \"2010\", \"2010\", \"2010\", \"2012\", \"2012\", \"2012\", \"2012\", \"2012\", \"2012\", \"2012\", \"2014\", \"2014\", \"2014\", \"2014\", \"2014\", \"2014\", \"2014\", \"2014\", \"2014\", \"2014\", \"2014\", \"2014\", \"2014\", \"2015\", \"2015\", \"2015\", \"2015\", \"2015\", \"2015\", \"2015\", \"2015\", \"300\", \"300\", \"300\", \"300\", \"349\", \"350\", \"4\", \"4\", \"4\", \"4\", \"4\", \"4\", \"4\", \"400\", \"400\", \"45\", \"5\", \"5\", \"5\", \"5\", \"5\", \"5\", \"5\", \"5\", \"5\", \"5\", \"5\", \"5\", \"55\", \"6\", \"6\", \"6\", \"6\", \"6\", \"9\", \"9\", \"9\", \"9\", \"9\", \"9\", \"9\", \"9\", \"9\", \"9\", \"9\", \"999\", \"9to5mac\", \"aaron\", \"abandoned\", \"abdel\", \"abdi\", \"abdomen\", \"abdullah\", \"abou\", \"abrams\", \"absence\", \"absence\", \"abu\", \"abu\", \"abubakar\", \"accent\", \"accent\", \"according\", \"according\", \"according\", \"according\", \"according\", \"according\", \"according\", \"according\", \"according\", \"according\", \"according\", \"according\", \"according\", \"according\", \"according\", \"according\", \"according\", \"according\", \"according\", \"according\", \"account\", \"account\", \"account\", \"account\", \"account\", \"account\", \"accused\", \"accused\", \"accused\", \"accused\", \"active\", \"active\", \"active\", \"actively\", \"actor\", \"actor\", \"advancing\", \"affair\", \"affair\", \"affiliate\", \"afghanistan\", \"africa\", \"africa\", \"africa\", \"africa\", \"age\", \"age\", \"age\", \"age\", \"age\", \"age\", \"age\", \"age\", \"aggression\", \"agreed\", \"agreed\", \"agreed\", \"agreement\", \"ahmadu\", \"aiming\", \"air\", \"air\", \"air\", \"air\", \"air\", \"air\", \"air\", \"air\", \"air\", \"air\", \"airbus\", \"aircraft\", \"aircraft\", \"aircraft\", \"airliner\", \"airport\", \"airport\", \"airport\", \"airport\", \"airstrike\", \"airstrike\", \"al\", \"al\", \"al\", \"al\", \"al\", \"alan\", \"alan\", \"alarm\", \"alone\", \"alone\", \"alone\", \"also\", \"also\", \"also\", \"also\", \"also\", \"also\", \"also\", \"also\", \"also\", \"also\", \"also\", \"also\", \"also\", \"also\", \"also\", \"also\", \"also\", \"also\", \"also\", \"also\", \"although\", \"although\", \"although\", \"although\", \"although\", \"although\", \"although\", \"although\", \"although\", \"although\", \"although\", \"although\", \"although\", \"aluminum\", \"amazon\", \"amazon\", \"american\", \"american\", \"american\", \"american\", \"american\", \"american\", \"american\", \"american\", \"american\", \"anchor\", \"animal\", \"animal\", \"ankle\", \"anna\", \"announced\", \"announced\", \"announced\", \"announced\", \"announced\", \"announced\", \"announced\", \"announced\", \"announced\", \"announced\", \"announcing\", \"ansar\", \"ansi\", \"anywhere\", \"app\", \"app\", \"app\", \"appalled\", \"appears\", \"appears\", \"appears\", \"appears\", \"appears\", \"appears\", \"appears\", \"appears\", \"appears\", \"appears\", \"appears\", \"appears\", \"appears\", \"appears\", \"apple\", \"apple\", \"apprehended\", \"apprehended\", \"apps\", \"aqap\", \"arcuri\", \"area\", \"area\", \"area\", \"area\", \"area\", \"area\", \"area\", \"area\", \"area\", \"area\", \"area\", \"area\", \"area\", \"arizona\", \"arm\", \"arm\", \"arm\", \"arm\", \"arm\", \"arm\", \"arm\", \"arrest\", \"arrest\", \"arrest\", \"arrest\", \"arrest\", \"arrival\", \"arrival\", \"article\", \"article\", \"article\", \"article\", \"article\", \"article\", \"article\", \"article\", \"article\", \"artist\", \"artist\", \"ashton\", \"assembly\", \"asteroid\", \"attack\", \"attack\", \"attack\", \"attack\", \"attack\", \"attack\", \"attack\", \"attack\", \"attack\", \"attorney\", \"attract\", \"au\", \"au\", \"au\", \"auction\", \"audio\", \"audio\", \"australian\", \"australian\", \"author\", \"autopsy\", \"babici\", \"back\", \"back\", \"back\", \"back\", \"back\", \"back\", \"back\", \"back\", \"back\", \"back\", \"back\", \"back\", \"back\", \"back\", \"back\", \"back\", \"back\", \"baghdadi\", \"bakr\", \"bale\", \"bali\", \"band\", \"band\", \"bank\", \"banksy\", \"banksy\", \"barack\", \"barack\", \"bary\", \"batman\", \"batman\", \"batmobile\", \"battery\", \"bay\", \"become\", \"become\", \"become\", \"become\", \"become\", \"become\", \"become\", \"become\", \"become\", \"become\", \"become\", \"become\", \"become\", \"become\", \"beggar\", \"behaviour\", \"beheading\", \"beheading\", \"beirut\", \"believed\", \"believed\", \"believed\", \"believed\", \"believed\", \"believed\", \"believed\", \"believed\", \"believed\", \"believed\", \"believed\", \"believed\", \"belonging\", \"belonging\", \"belonging\", \"belonging\", \"ben\", \"benghazi\", \"beside\", \"bibeau\", \"big\", \"big\", \"big\", \"big\", \"big\", \"big\", \"big\", \"big\", \"big\", \"big\", \"bill\", \"bill\", \"bill\", \"bill\", \"billion\", \"billion\", \"bin\", \"biography\", \"biological\", \"biological\", \"biopic\", \"bird\", \"bishop\", \"bite\", \"blasio\", \"blasio\", \"blast\", \"blast\", \"bloodshed\", \"blue\", \"blumenthal\", \"board\", \"board\", \"bogus\", \"boko\", \"book\", \"book\", \"book\", \"border\", \"border\", \"bos\", \"bosnia\", \"box\", \"box\", \"box\", \"box\", \"boy\", \"boy\", \"boy\", \"boy\", \"boyle\", \"bratton\", \"bratton\", \"brian\", \"brian\", \"bright\", \"bringbackourgirls\", \"britain\", \"britain\", \"britain\", \"british\", \"british\", \"british\", \"british\", \"british\", \"brooklyn\", \"brooklyn\", \"brown\", \"browser\", \"brush\", \"bug\", \"building\", \"building\", \"building\", \"building\", \"building\", \"building\", \"bureau\", \"burger\", \"burrowed\", \"bus\", \"buy\", \"cable\", \"cage\", \"cage\", \"caliph\", \"call\", \"call\", \"call\", \"call\", \"call\", \"call\", \"call\", \"call\", \"call\", \"call\", \"call\", \"called\", \"called\", \"called\", \"called\", \"called\", \"called\", \"called\", \"called\", \"called\", \"called\", \"called\", \"called\", \"called\", \"called\", \"called\", \"called\", \"called\", \"called\", \"calm\", \"cameron\", \"cameron\", \"campus\", \"canada\", \"canada\", \"canadian\", \"capacity\", \"capital\", \"capital\", \"capital\", \"capital\", \"capital\", \"capital\", \"capital\", \"capital\", \"capsule\", \"captive\", \"captive\", \"captive\", \"captor\", \"capture\", \"capture\", \"capture\", \"captured\", \"captured\", \"captured\", \"captured\", \"captured\", \"car\", \"car\", \"car\", \"car\", \"career\", \"career\", \"career\", \"career\", \"carlisle\", \"case\", \"case\", \"case\", \"case\", \"case\", \"case\", \"case\", \"case\", \"case\", \"case\", \"case\", \"castro\", \"catfish\", \"catholic\", \"caucus\", \"caught\", \"caught\", \"caught\", \"caught\", \"caught\", \"caught\", \"caught\", \"caught\", \"caught\", \"cc\", \"cctv\", \"cctvnews\", \"cdc\", \"cease\", \"ceasefire\", \"ceremonial\", \"certificate\", \"certificate\", \"cesar\", \"chad\", \"chamber\", \"chandler\", \"chat\", \"chibok\", \"chicken\", \"child\", \"child\", \"child\", \"child\", \"child\", \"child\", \"child\", \"child\", \"child\", \"child\", \"chinese\", \"chinese\", \"chinese\", \"chinese\", \"chip\", \"chlorine\", \"christian\", \"christian\", \"christian\", \"christian\", \"christian\", \"christmas\", \"christmas\", \"christy\", \"church\", \"church\", \"church\", \"church\", \"church\", \"cirillo\", \"city\", \"city\", \"city\", \"city\", \"city\", \"city\", \"city\", \"city\", \"city\", \"city\", \"city\", \"city\", \"city\", \"civilian\", \"civilian\", \"civilian\", \"claim\", \"claim\", \"claim\", \"claim\", \"claim\", \"claim\", \"claim\", \"claim\", \"claim\", \"claim\", \"claim\", \"claim\", \"claim\", \"classmate\", \"cleric\", \"cleric\", \"client\", \"close\", \"close\", \"close\", \"close\", \"close\", \"close\", \"close\", \"cn\", \"cnn\", \"cnn\", \"co\", \"co\", \"co\", \"co\", \"co\", \"co\", \"co\", \"co\", \"co\", \"co\", \"co\", \"co\", \"coalition\", \"com\", \"com\", \"com\", \"com\", \"com\", \"com\", \"com\", \"com\", \"com\", \"com\", \"com\", \"com\", \"comcast\", \"comcast\", \"command\", \"command\", \"commercial\", \"commissioner\", \"commissioner\", \"common\", \"common\", \"common\", \"common\", \"company\", \"company\", \"company\", \"company\", \"company\", \"company\", \"company\", \"company\", \"company\", \"company\", \"complaint\", \"complaint\", \"complaint\", \"complete\", \"complete\", \"complete\", \"completely\", \"conal\", \"condition\", \"condition\", \"condition\", \"condition\", \"condom\", \"confirming\", \"confirms\", \"congressman\", \"conspiracy\", \"constantine\", \"consumer\", \"contacted\", \"contacted\", \"content\", \"content\", \"contracted\", \"controller\", \"convinced\", \"convinced\", \"cook\", \"cooke\", \"cool\", \"cool\", \"cost\", \"cost\", \"could\", \"could\", \"could\", \"could\", \"could\", \"could\", \"could\", \"could\", \"could\", \"could\", \"could\", \"could\", \"could\", \"could\", \"could\", \"could\", \"could\", \"could\", \"could\", \"country\", \"country\", \"country\", \"country\", \"country\", \"country\", \"country\", \"country\", \"country\", \"country\", \"country\", \"country\", \"court\", \"court\", \"court\", \"court\", \"crater\", \"creature\", \"creature\", \"creature\", \"credit\", \"crime\", \"crime\", \"crime\", \"crime\", \"criminality\", \"crossed\", \"cruel\", \"cuba\", \"cuba\", \"culkin\", \"customer\", \"customer\", \"customer\", \"customer\", \"dallas\", \"dallas\", \"dan\", \"danny\", \"dark\", \"darkness\", \"darkness\", \"darren\", \"dating\", \"dating\", \"david\", \"david\", \"david\", \"david\", \"david\", \"david\", \"david\", \"david\", \"day\", \"day\", \"day\", \"day\", \"day\", \"day\", \"day\", \"day\", \"day\", \"day\", \"day\", \"day\", \"day\", \"day\", \"day\", \"day\", \"day\", \"de\", \"de\", \"de\", \"de\", \"de\", \"deadly\", \"deadly\", \"deadly\", \"deadly\", \"deal\", \"deal\", \"deal\", \"deal\", \"deal\", \"deal\", \"deal\", \"deal\", \"death\", \"death\", \"death\", \"death\", \"death\", \"death\", \"death\", \"death\", \"death\", \"death\", \"deepdotweb\", \"deepest\", \"deleted\", \"delight\", \"demonstrator\", \"dera\", \"detainee\", \"detroit\", \"developer\", \"developing\", \"device\", \"device\", \"device\", \"dhs\", \"diagnosed\", \"diane\", \"diarrhea\", \"dicaprio\", \"dictator\", \"died\", \"died\", \"died\", \"died\", \"died\", \"died\", \"died\", \"died\", \"died\", \"died\", \"died\", \"dinner\", \"directed\", \"disease\", \"disease\", \"disney\", \"dna\", \"doctor\", \"doctor\", \"doctor\", \"doctor\", \"document\", \"document\", \"document\", \"document\", \"document\", \"dog\", \"dog\", \"dog\", \"dog\", \"dog\", \"dollar\", \"dollar\", \"domestic\", \"domestic\", \"donation\", \"door\", \"door\", \"door\", \"door\", \"door\", \"dorian\", \"dr\", \"dr\", \"drawn\", \"drawn\", \"drone\", \"dulaimi\", \"durex\", \"dylan\", \"earth\", \"earth\", \"ebay\", \"ebola\", \"edition\", \"edition\", \"educational\", \"edward\", \"edward\", \"effectively\", \"effectively\", \"egyptian\", \"elite\", \"elite\", \"employee\", \"employee\", \"employee\", \"employee\", \"employer\", \"emwazi\", \"encounter\", \"end\", \"end\", \"end\", \"end\", \"end\", \"end\", \"end\", \"end\", \"end\", \"end\", \"end\", \"english\", \"english\", \"english\", \"entering\", \"entrance\", \"epidemic\", \"episode\", \"episode\", \"episode\", \"espn\", \"espn\", \"esquire\", \"est\", \"estate\", \"et\", \"et\", \"et\", \"et\", \"even\", \"even\", \"even\", \"even\", \"even\", \"even\", \"even\", \"even\", \"even\", \"even\", \"even\", \"even\", \"even\", \"even\", \"even\", \"even\", \"even\", \"evening\", \"evening\", \"evening\", \"evening\", \"event\", \"event\", \"event\", \"event\", \"event\", \"evidence\", \"evidence\", \"evidence\", \"evidence\", \"evidence\", \"evidence\", \"exchanged\", \"execution\", \"execution\", \"executioner\", \"exit\", \"expensive\", \"expensive\", \"experiment\", \"explanation\", \"explosive\", \"extensive\", \"eye\", \"eye\", \"eye\", \"eye\", \"f\", \"facebook\", \"facebook\", \"facebook\", \"facebook\", \"facebook\", \"facebook\", \"facebook\", \"facebook\", \"facebook\", \"fact\", \"fact\", \"fact\", \"fact\", \"fact\", \"fact\", \"fact\", \"fact\", \"fact\", \"fact\", \"fact\", \"fact\", \"fact\", \"fact\", \"factory\", \"fake\", \"fake\", \"fake\", \"fake\", \"fake\", \"fake\", \"false\", \"false\", \"family\", \"family\", \"family\", \"family\", \"family\", \"family\", \"family\", \"family\", \"family\", \"family\", \"family\", \"family\", \"family\", \"family\", \"family\", \"fast\", \"father\", \"father\", \"father\", \"father\", \"father\", \"father\", \"father\", \"father\", \"father\", \"fatwa\", \"fbi\", \"fbi\", \"fbi\", \"feature\", \"feature\", \"feature\", \"feature\", \"feature\", \"fee\", \"fee\", \"feel\", \"feel\", \"feig\", \"female\", \"female\", \"female\", \"fence\", \"ferguson\", \"ferrari\", \"fever\", \"fidel\", \"fight\", \"fight\", \"fight\", \"fight\", \"fight\", \"fight\", \"fight\", \"fight\", \"fight\", \"fight\", \"fighter\", \"fighter\", \"fighter\", \"fighter\", \"fighter\", \"fighter\", \"film\", \"film\", \"fireball\", \"fired\", \"fired\", \"fired\", \"first\", \"first\", \"first\", \"first\", \"first\", \"first\", \"first\", \"first\", \"first\", \"first\", \"first\", \"first\", \"first\", \"first\", \"first\", \"first\", \"first\", \"first\", \"fish\", \"five\", \"five\", \"five\", \"five\", \"five\", \"five\", \"five\", \"five\", \"five\", \"five\", \"five\", \"five\", \"five\", \"five\", \"five\", \"flavored\", \"florissant\", \"flown\", \"foley\", \"folk\", \"follower\", \"food\", \"food\", \"food\", \"food\", \"food\", \"food\", \"food\", \"food\", \"food\", \"food\", \"foot\", \"foot\", \"foot\", \"foot\", \"footage\", \"footage\", \"footage\", \"force\", \"force\", \"force\", \"force\", \"force\", \"force\", \"force\", \"force\", \"force\", \"found\", \"found\", \"found\", \"found\", \"found\", \"found\", \"found\", \"found\", \"found\", \"found\", \"found\", \"found\", \"found\", \"founder\", \"founder\", \"founder\", \"founder\", \"founder\", \"founder\", \"foxnewspress\", \"fractured\", \"france\", \"france\", \"france\", \"francis\", \"francis\", \"freelance\", \"friday\", \"friday\", \"friday\", \"friday\", \"friday\", \"friday\", \"friday\", \"friday\", \"friday\", \"friend\", \"friend\", \"friend\", \"friend\", \"friend\", \"friend\", \"friend\", \"friend\", \"friend\", \"friend\", \"frisco\", \"fruit\", \"future\", \"future\", \"future\", \"game\", \"game\", \"game\", \"game\", \"game\", \"game\", \"garden\", \"garden\", \"gaza\", \"gee\", \"gender\", \"genitalia\", \"genitalia\", \"german\", \"german\", \"get\", \"get\", \"get\", \"get\", \"get\", \"get\", \"get\", \"get\", \"get\", \"get\", \"get\", \"get\", \"get\", \"get\", \"get\", \"gift\", \"gill\", \"gill\", \"girl\", \"girl\", \"girl\", \"girl\", \"girl\", \"girl\", \"girl\", \"girl\", \"girlfriend\", \"glass\", \"glass\", \"glass\", \"glide\", \"glide\", \"globalpost\", \"god\", \"god\", \"god\", \"god\", \"god\", \"god\", \"godane\", \"going\", \"going\", \"going\", \"going\", \"going\", \"going\", \"going\", \"going\", \"going\", \"going\", \"going\", \"going\", \"going\", \"going\", \"gold\", \"gold\", \"goldfish\", \"gonzalez\", \"goodluck\", \"google\", \"google\", \"google\", \"google\", \"goto\", \"gout\", \"government\", \"government\", \"government\", \"government\", \"government\", \"government\", \"government\", \"government\", \"government\", \"government\", \"government\", \"graf\", \"graham\", \"grave\", \"great\", \"great\", \"great\", \"great\", \"great\", \"great\", \"grenade\", \"grenade\", \"greta\", \"group\", \"group\", \"group\", \"group\", \"group\", \"group\", \"group\", \"group\", \"group\", \"group\", \"group\", \"group\", \"group\", \"group\", \"gruesome\", \"guantanamo\", \"guard\", \"guard\", \"guerrero\", \"guilty\", \"gunfire\", \"gunfire\", \"gunman\", \"gunman\", \"gunshot\", \"haines\", \"haines\", \"hair\", \"hamele\", \"hamid\", \"hammond\", \"hampshire\", \"handle\", \"hank\", \"haram\", \"harper\", \"hassan\", \"havana\", \"hbo\", \"headline\", \"headline\", \"headline\", \"health\", \"health\", \"health\", \"health\", \"health\", \"health\", \"health\", \"heard\", \"heard\", \"heard\", \"heard\", \"heard\", \"heard\", \"heard\", \"heard\", \"heard\", \"heard\", \"heard\", \"heard\", \"heart\", \"heart\", \"heart\", \"heart\", \"heart\", \"heart\", \"heaven\", \"heaven\", \"helicopter\", \"helmet\", \"hill\", \"hill\", \"hip\", \"hoax\", \"hoax\", \"hoax\", \"hoax\", \"hole\", \"holt\", \"holy\", \"home\", \"home\", \"home\", \"home\", \"home\", \"home\", \"home\", \"home\", \"home\", \"home\", \"home\", \"homeland\", \"homeless\", \"homeless\", \"hop\", \"hospital\", \"hospital\", \"hospital\", \"hospital\", \"hospital\", \"hospital\", \"hostage\", \"hostage\", \"hostage\", \"hour\", \"hour\", \"hour\", \"hour\", \"hour\", \"hour\", \"hour\", \"hour\", \"hour\", \"hour\", \"hour\", \"hour\", \"hour\", \"hour\", \"house\", \"house\", \"house\", \"house\", \"house\", \"house\", \"house\", \"house\", \"house\", \"house\", \"house\", \"huffington\", \"hunter\", \"hurt\", \"hwang\", \"icloud\", \"identity\", \"identity\", \"identity\", \"identity\", \"identity\", \"igen\", \"iguala\", \"ikwiz\", \"il\", \"ilic\", \"ill\", \"image\", \"image\", \"image\", \"image\", \"image\", \"image\", \"image\", \"image\", \"image\", \"image\", \"image\", \"image\", \"imagine\", \"impact\", \"impact\", \"impact\", \"incident\", \"incident\", \"incident\", \"incident\", \"incident\", \"incident\", \"incident\", \"incident\", \"incident\", \"incident\", \"incinerated\", \"independence\", \"india\", \"infected\", \"infection\", \"infestation\", \"information\", \"information\", \"information\", \"information\", \"information\", \"information\", \"information\", \"information\", \"information\", \"information\", \"information\", \"information\", \"information\", \"information\", \"information\", \"information\", \"injury\", \"injury\", \"injury\", \"injury\", \"innocent\", \"innocent\", \"insect\", \"inside\", \"inside\", \"inside\", \"inside\", \"inside\", \"inside\", \"inside\", \"inside\", \"inside\", \"insurgent\", \"insurgent\", \"intelligence\", \"intelligence\", \"intelligence\", \"intelligence\", \"intelligence\", \"intelligence\", \"internet\", \"internet\", \"internet\", \"internet\", \"intruder\", \"iphone\", \"iraq\", \"iraq\", \"iraq\", \"iraq\", \"iraqi\", \"iraqi\", \"iraqi\", \"iraqi\", \"irbil\", \"isaacson\", \"isi\", \"isi\", \"isi\", \"isi\", \"isi\", \"islam\", \"islam\", \"islam\", \"islam\", \"islam\", \"islam\", \"islam\", \"islamic\", \"islamic\", \"islamic\", \"islamic\", \"islamic\", \"islamic\", \"islamist\", \"islamist\", \"islamist\", \"islamist\", \"island\", \"israel\", \"israeli\", \"issue\", \"issue\", \"issue\", \"issue\", \"issue\", \"issue\", \"issue\", \"issue\", \"issue\", \"issue\", \"issue\", \"issue\", \"j\", \"j\", \"jacket\", \"james\", \"james\", \"james\", \"james\", \"january\", \"january\", \"january\", \"january\", \"january\", \"january\", \"january\", \"january\", \"january\", \"jess\", \"jessica\", \"jetliner\", \"jihadi\", \"jihadi\", \"job\", \"job\", \"job\", \"job\", \"job\", \"job\", \"job\", \"job\", \"joe\", \"joe\", \"joe\", \"john\", \"john\", \"john\", \"john\", \"john\", \"john\", \"john\", \"john\", \"john\", \"johnson\", \"johnson\", \"join\", \"join\", \"jonathan\", \"jonathan\", \"jong\", \"jordan\", \"jordan\", \"jordanian\", \"josh\", \"josh\", \"journalist\", \"journalist\", \"journalist\", \"journalist\", \"journalist\", \"joy\", \"jumpsuit\", \"kadalim\", \"kai\", \"kansa\", \"karat\", \"kayla\", \"kenji\", \"kevin\", \"kevin\", \"kfc\", \"kidnapped\", \"kidnapped\", \"kidnapped\", \"kill\", \"kill\", \"kill\", \"kill\", \"kill\", \"kill\", \"kill\", \"killed\", \"killed\", \"killed\", \"killed\", \"killed\", \"killed\", \"killed\", \"killed\", \"killed\", \"killed\", \"killer\", \"killer\", \"killer\", \"kim\", \"kind\", \"kind\", \"kind\", \"kind\", \"kind\", \"kind\", \"king\", \"king\", \"king\", \"kirby\", \"kneeling\", \"knocked\", \"know\", \"know\", \"know\", \"know\", \"know\", \"know\", \"know\", \"know\", \"know\", \"know\", \"know\", \"know\", \"know\", \"known\", \"known\", \"known\", \"known\", \"known\", \"known\", \"known\", \"known\", \"known\", \"known\", \"known\", \"known\", \"known\", \"known\", \"known\", \"known\", \"korea\", \"korean\", \"kryaglyachenko\", \"kumar\", \"kurdish\", \"kurdish\", \"kurdish\", \"kurdish\", \"kutcher\", \"kuwait\", \"l\", \"l\", \"l\", \"la\", \"la\", \"la\", \"la\", \"land\", \"last\", \"last\", \"last\", \"last\", \"last\", \"last\", \"last\", \"last\", \"last\", \"last\", \"last\", \"last\", \"last\", \"last\", \"last\", \"last\", \"last\", \"last\", \"last\", \"later\", \"later\", \"later\", \"later\", \"later\", \"later\", \"later\", \"later\", \"later\", \"later\", \"later\", \"later\", \"later\", \"later\", \"later\", \"later\", \"later\", \"launch\", \"launch\", \"launch\", \"launch\", \"launch\", \"launch\", \"le\", \"le\", \"le\", \"le\", \"le\", \"le\", \"le\", \"leader\", \"leader\", \"leader\", \"leader\", \"leader\", \"leader\", \"leader\", \"leader\", \"leader\", \"leader\", \"leadership\", \"leadership\", \"leadership\", \"leaked\", \"leaked\", \"least\", \"least\", \"least\", \"least\", \"least\", \"least\", \"least\", \"least\", \"least\", \"least\", \"least\", \"lebanese\", \"lebanon\", \"left\", \"left\", \"left\", \"left\", \"left\", \"left\", \"left\", \"left\", \"left\", \"left\", \"left\", \"left\", \"left\", \"left\", \"left\", \"left\", \"left\", \"left\", \"lego\", \"lemon\", \"leonardo\", \"lianne\", \"library\", \"libya\", \"libya\", \"libyan\", \"libyan\", \"libyan\", \"life\", \"life\", \"life\", \"life\", \"life\", \"life\", \"life\", \"life\", \"life\", \"life\", \"life\", \"life\", \"life\", \"life\", \"light\", \"light\", \"light\", \"like\", \"like\", \"like\", \"like\", \"like\", \"like\", \"like\", \"like\", \"like\", \"like\", \"like\", \"like\", \"like\", \"like\", \"like\", \"like\", \"like\", \"lin\", \"liquor\", \"local\", \"local\", \"local\", \"local\", \"local\", \"local\", \"local\", \"local\", \"local\", \"local\", \"local\", \"lockdown\", \"london\", \"london\", \"london\", \"london\", \"london\", \"looking\", \"looking\", \"looking\", \"looking\", \"looking\", \"looking\", \"looking\", \"looking\", \"lopa\", \"lot\", \"lot\", \"lot\", \"lot\", \"lot\", \"lot\", \"lot\", \"lot\", \"lot\", \"lot\", \"louis\", \"louise\", \"lucky\", \"luke\", \"luke\", \"macaulay\", \"macbook\", \"macedonian\", \"macklemore\", \"macklemorejoinedisis\", \"madden\", \"made\", \"made\", \"made\", \"made\", \"made\", \"made\", \"made\", \"made\", \"made\", \"made\", \"made\", \"made\", \"made\", \"made\", \"made\", \"made\", \"made\", \"made\", \"magazine\", \"magazine\", \"magazine\", \"magazine\", \"magazine\", \"magnet\", \"magneto\", \"maintained\", \"maintained\", \"majed\", \"malaria\", \"male\", \"mall\", \"mall\", \"man\", \"man\", \"man\", \"man\", \"man\", \"man\", \"man\", \"man\", \"man\", \"man\", \"man\", \"man\", \"man\", \"man\", \"managua\", \"marijuana\", \"marijuana\", \"marine\", \"mashable\", \"masked\", \"masked\", \"masked\", \"mass\", \"mass\", \"may\", \"may\", \"may\", \"may\", \"may\", \"may\", \"may\", \"may\", \"may\", \"may\", \"may\", \"may\", \"may\", \"may\", \"may\", \"may\", \"may\", \"may\", \"may\", \"mayor\", \"mayor\", \"mcdonald\", \"meal\", \"meal\", \"medic\", \"medical\", \"medical\", \"medical\", \"medical\", \"medical\", \"medicine\", \"medium\", \"medium\", \"medium\", \"medium\", \"medium\", \"medium\", \"medium\", \"medium\", \"medium\", \"medium\", \"medium\", \"medium\", \"medium\", \"medium\", \"medium\", \"medium\", \"medium\", \"memorial\", \"mention\", \"mention\", \"mention\", \"message\", \"message\", \"message\", \"message\", \"message\", \"message\", \"message\", \"message\", \"message\", \"message\", \"message\", \"messaging\", \"meteorite\", \"meter\", \"metropolitan\", \"mexican\", \"mexican\", \"mexico\", \"mgm\", \"mi5\", \"michael\", \"michael\", \"michael\", \"michael\", \"michael\", \"michael\", \"micheal\", \"michelle\", \"mid\", \"mid\", \"militant\", \"militant\", \"militant\", \"militant\", \"militant\", \"militant\", \"military\", \"military\", \"military\", \"military\", \"military\", \"millan\", \"millan\", \"million\", \"million\", \"million\", \"million\", \"million\", \"million\", \"million\", \"million\", \"million\", \"ministry\", \"ministry\", \"ministry\", \"ministry\", \"missile\", \"missouri\", \"mite\", \"mm\", \"model\", \"model\", \"model\", \"mogadishu\", \"mohammed\", \"mohammed\", \"mohammed\", \"mohammed\", \"mom\", \"monday\", \"monday\", \"monday\", \"monday\", \"monday\", \"monday\", \"monday\", \"monday\", \"monday\", \"monday\", \"monday\", \"money\", \"money\", \"money\", \"money\", \"money\", \"money\", \"money\", \"month\", \"month\", \"month\", \"month\", \"month\", \"month\", \"month\", \"month\", \"month\", \"month\", \"month\", \"month\", \"month\", \"month\", \"month\", \"month\", \"month\", \"montreal\", \"mortgage\", \"mosul\", \"mosul\", \"mosul\", \"mother\", \"mother\", \"mother\", \"mother\", \"mother\", \"mother\", \"mourn\", \"mouth\", \"movie\", \"movie\", \"mp\", \"mp\", \"mr\", \"mr\", \"mr\", \"mr\", \"mr\", \"mr\", \"mr\", \"mr\", \"mr\", \"mtv\", \"much\", \"much\", \"much\", \"much\", \"much\", \"much\", \"much\", \"much\", \"much\", \"much\", \"much\", \"much\", \"much\", \"mueller\", \"munster\", \"murder\", \"murder\", \"murder\", \"mushroom\", \"name\", \"name\", \"name\", \"name\", \"name\", \"name\", \"name\", \"name\", \"name\", \"name\", \"name\", \"name\", \"nasa\", \"nathan\", \"national\", \"national\", \"national\", \"national\", \"national\", \"national\", \"national\", \"national\", \"national\", \"national\", \"national\", \"national\", \"national\", \"nbc\", \"nbc\", \"nbc\", \"neal\", \"near\", \"near\", \"near\", \"near\", \"near\", \"near\", \"near\", \"near\", \"near\", \"near\", \"needed\", \"negative\", \"nelson\", \"nenad\", \"netflix\", \"never\", \"never\", \"never\", \"never\", \"never\", \"never\", \"never\", \"never\", \"never\", \"never\", \"never\", \"never\", \"never\", \"new\", \"new\", \"new\", \"new\", \"new\", \"new\", \"new\", \"new\", \"new\", \"new\", \"new\", \"new\", \"new\", \"new\", \"new\", \"new\", \"new\", \"new\", \"news\", \"news\", \"news\", \"news\", \"news\", \"news\", \"news\", \"news\", \"news\", \"news\", \"news\", \"news\", \"news\", \"news\", \"news\", \"news\", \"news\", \"nicaragua\", \"nicaraguan\", \"nice\", \"nigeria\", \"nigerian\", \"night\", \"night\", \"night\", \"night\", \"night\", \"night\", \"night\", \"nikolaev\", \"nikolai\", \"nkis\", \"noise\", \"north\", \"north\", \"north\", \"north\", \"north\", \"north\", \"north\", \"noticed\", \"noticed\", \"noting\", \"november\", \"november\", \"november\", \"nowhere\", \"numerous\", \"numerous\", \"numerous\", \"nun\", \"nun\", \"nusra\", \"obama\", \"obama\", \"obama\", \"obama\", \"oberholtzer\", \"object\", \"observatory\", \"oct\", \"oct\", \"oct\", \"oct\", \"office\", \"office\", \"office\", \"office\", \"office\", \"office\", \"office\", \"office\", \"office\", \"office\", \"officer\", \"officer\", \"officer\", \"officer\", \"official\", \"official\", \"official\", \"official\", \"official\", \"official\", \"official\", \"official\", \"official\", \"official\", \"official\", \"official\", \"official\", \"official\", \"official\", \"officially\", \"officially\", \"ok\", \"old\", \"old\", \"old\", \"old\", \"old\", \"old\", \"old\", \"old\", \"old\", \"old\", \"old\", \"old\", \"old\", \"old\", \"old\", \"old\", \"old\", \"old\", \"oliver\", \"olsen\", \"one\", \"one\", \"one\", \"one\", \"one\", \"one\", \"one\", \"one\", \"one\", \"one\", \"one\", \"one\", \"one\", \"one\", \"one\", \"one\", \"one\", \"one\", \"one\", \"one\", \"operation\", \"operation\", \"operation\", \"operation\", \"operation\", \"operation\", \"operation\", \"operation\", \"option\", \"option\", \"organization\", \"organization\", \"organization\", \"organization\", \"organization\", \"organization\", \"organization\", \"organization\", \"oscar\", \"ottawa\", \"outbreak\", \"overweight\", \"owner\", \"pa\", \"pa\", \"paid\", \"paid\", \"paid\", \"pain\", \"pain\", \"pain\", \"palace\", \"paler\", \"panel\", \"park\", \"park\", \"parliament\", \"parliament\", \"parliament\", \"part\", \"part\", \"part\", \"part\", \"part\", \"part\", \"part\", \"part\", \"part\", \"part\", \"part\", \"part\", \"part\", \"part\", \"part\", \"part\", \"partner\", \"partner\", \"party\", \"party\", \"party\", \"party\", \"party\", \"party\", \"party\", \"party\", \"patient\", \"patient\", \"patient\", \"patrol\", \"patrol\", \"patrol\", \"paul\", \"paul\", \"paul\", \"paul\", \"paul\", \"paul\", \"pause\", \"penis\", \"penis\", \"pentagon\", \"pentagon\", \"people\", \"people\", \"people\", \"people\", \"people\", \"people\", \"people\", \"people\", \"people\", \"people\", \"people\", \"people\", \"people\", \"people\", \"people\", \"people\", \"people\", \"people\", \"people\", \"people\", \"per\", \"per\", \"per\", \"per\", \"percent\", \"percent\", \"perfectly\", \"pet\", \"phelps\", \"phone\", \"phone\", \"phone\", \"phone\", \"phone\", \"phone\", \"phone\", \"phone\", \"phone\", \"photo\", \"photo\", \"photo\", \"photo\", \"photo\", \"photo\", \"photo\", \"photo\", \"photo\", \"photo\", \"photo\", \"photo\", \"photo\", \"photo\", \"photo\", \"photo\", \"photo\", \"photojournalist\", \"pic\", \"pic\", \"picture\", \"picture\", \"picture\", \"picture\", \"picture\", \"picture\", \"picture\", \"picture\", \"picture\", \"picture\", \"picture\", \"picture\", \"picture\", \"picture\", \"pierson\", \"pilot\", \"pilot\", \"plane\", \"plane\", \"plane\", \"planet\", \"planning\", \"planning\", \"planning\", \"planning\", \"plant\", \"play\", \"play\", \"play\", \"play\", \"play\", \"plot\", \"plotting\", \"pm\", \"po\", \"police\", \"police\", \"police\", \"police\", \"police\", \"pope\", \"pope\", \"portion\", \"post\", \"post\", \"post\", \"post\", \"post\", \"post\", \"post\", \"post\", \"post\", \"post\", \"post\", \"post\", \"post\", \"pour\", \"prank\", \"prank\", \"prankster\", \"pregnancy\", \"president\", \"president\", \"president\", \"president\", \"president\", \"president\", \"president\", \"president\", \"president\", \"president\", \"president\", \"presidential\", \"pressure\", \"previously\", \"previously\", \"price\", \"price\", \"price\", \"price\", \"price\", \"priced\", \"pricing\", \"priest\", \"prison\", \"prison\", \"prisoner\", \"prisoner\", \"prisoner\", \"prisoner\", \"prisoner\", \"proclaimed\", \"product\", \"product\", \"product\", \"product\", \"product\", \"product\", \"product\", \"project\", \"project\", \"project\", \"project\", \"project\", \"public\", \"public\", \"public\", \"public\", \"public\", \"public\", \"public\", \"public\", \"public\", \"public\", \"public\", \"public\", \"public\", \"public\", \"public\", \"pulling\", \"pulling\", \"pumpkin\", \"purchase\", \"purdon\", \"purported\", \"purported\", \"purported\", \"purpose\", \"put\", \"put\", \"put\", \"put\", \"put\", \"put\", \"put\", \"put\", \"put\", \"put\", \"put\", \"put\", \"put\", \"putin\", \"pyongyang\", \"qatar\", \"qatar\", \"quarantined\", \"quebec\", \"qureshi\", \"r\", \"r\", \"rahim\", \"ram\", \"range\", \"rank\", \"raped\", \"raped\", \"rapper\", \"rapper\", \"raqqa\", \"rat\", \"razor\", \"rc\", \"rcmp\", \"really\", \"really\", \"really\", \"really\", \"really\", \"really\", \"really\", \"really\", \"really\", \"really\", \"really\", \"really\", \"recording\", \"recording\", \"recovered\", \"recovering\", \"recruit\", \"recruit\", \"region\", \"region\", \"region\", \"region\", \"region\", \"rehab\", \"release\", \"release\", \"release\", \"release\", \"release\", \"release\", \"release\", \"release\", \"release\", \"release\", \"release\", \"release\", \"released\", \"released\", \"released\", \"released\", \"released\", \"released\", \"released\", \"released\", \"released\", \"released\", \"released\", \"released\", \"released\", \"released\", \"relevance\", \"remark\", \"report\", \"report\", \"report\", \"report\", \"report\", \"report\", \"report\", \"report\", \"report\", \"report\", \"report\", \"report\", \"report\", \"report\", \"report\", \"report\", \"report\", \"report\", \"report\", \"report\", \"reported\", \"reported\", \"reported\", \"reported\", \"reported\", \"reported\", \"reported\", \"reported\", \"reported\", \"reported\", \"reported\", \"reported\", \"reported\", \"reported\", \"reported\", \"reported\", \"reported\", \"reported\", \"reported\", \"reported\", \"reproductive\", \"republican\", \"rescue\", \"research\", \"research\", \"research\", \"research\", \"research\", \"reset\", \"respect\", \"restaurant\", \"restaurant\", \"restaurant\", \"result\", \"result\", \"result\", \"result\", \"retail\", \"reveals\", \"rifle\", \"riquelme\", \"riquelme\", \"river\", \"rob\", \"robot\", \"rodent\", \"rogen\", \"role\", \"role\", \"role\", \"role\", \"role\", \"roman\", \"room\", \"room\", \"room\", \"room\", \"rosenberg\", \"rourke\", \"rumor\", \"rumor\", \"rumor\", \"rumor\", \"rumor\", \"rumor\", \"rushed\", \"rushed\", \"rushed\", \"sabah\", \"sad\", \"said\", \"said\", \"said\", \"said\", \"said\", \"said\", \"said\", \"said\", \"said\", \"said\", \"said\", \"said\", \"said\", \"said\", \"said\", \"said\", \"said\", \"said\", \"said\", \"said\", \"saja\", \"samsung\", \"sana\", \"sapphire\", \"sarajevo\", \"satire\", \"satirical\", \"satirical\", \"satirical\", \"saudi\", \"saudi\", \"saudi\", \"say\", \"say\", \"say\", \"say\", \"say\", \"say\", \"say\", \"say\", \"say\", \"say\", \"say\", \"say\", \"say\", \"say\", \"say\", \"say\", \"say\", \"say\", \"say\", \"say\", \"saying\", \"saying\", \"saying\", \"saying\", \"saying\", \"saying\", \"saying\", \"saying\", \"saying\", \"saying\", \"saying\", \"saying\", \"saying\", \"saying\", \"saying\", \"saying\", \"saying\", \"scar\", \"scenario\", \"scene\", \"scene\", \"scene\", \"scene\", \"scene\", \"school\", \"school\", \"school\", \"school\", \"school\", \"school\", \"schoolgirl\", \"schoolgirl\", \"science\", \"science\", \"science\", \"scientist\", \"scientist\", \"scorpion\", \"scotland\", \"scotland\", \"scotland\", \"scottish\", \"scottish\", \"seam\", \"secret\", \"secret\", \"secretly\", \"security\", \"security\", \"security\", \"security\", \"security\", \"security\", \"security\", \"security\", \"seeking\", \"seidel\", \"sell\", \"sell\", \"sell\", \"sensor\", \"seoul\", \"sergeant\", \"service\", \"service\", \"service\", \"service\", \"service\", \"service\", \"service\", \"service\", \"service\", \"service\", \"service\", \"service\", \"service\", \"service\", \"service\", \"seth\", \"setting\", \"sex\", \"sex\", \"sex\", \"sex\", \"sex\", \"sex\", \"sex\", \"sgt\", \"shane\", \"sharing\", \"shekau\", \"shooter\", \"shooting\", \"shooting\", \"shore\", \"shot\", \"shot\", \"shot\", \"shot\", \"show\", \"show\", \"show\", \"show\", \"show\", \"show\", \"show\", \"show\", \"show\", \"show\", \"show\", \"show\", \"show\", \"show\", \"since\", \"since\", \"since\", \"since\", \"since\", \"since\", \"since\", \"since\", \"since\", \"since\", \"since\", \"since\", \"since\", \"since\", \"since\", \"since\", \"since\", \"singh\", \"sister\", \"sister\", \"sister\", \"sister\", \"sister\", \"site\", \"site\", \"site\", \"site\", \"site\", \"site\", \"site\", \"site\", \"site\", \"site\", \"site\", \"site\", \"site\", \"site\", \"six\", \"six\", \"six\", \"six\", \"six\", \"six\", \"six\", \"six\", \"six\", \"six\", \"skin\", \"sky\", \"smartwatch\", \"smith\", \"sneeze\", \"sneezed\", \"sneezing\", \"sniper\", \"snow\", \"snowman\", \"snyder\", \"social\", \"social\", \"social\", \"social\", \"social\", \"social\", \"social\", \"social\", \"social\", \"social\", \"social\", \"social\", \"social\", \"soil\", \"soldier\", \"soldier\", \"soldier\", \"soldier\", \"somali\", \"somers\", \"something\", \"something\", \"something\", \"something\", \"something\", \"something\", \"something\", \"something\", \"something\", \"something\", \"son\", \"son\", \"son\", \"son\", \"son\", \"son\", \"son\", \"son\", \"son\", \"son\", \"son\", \"song\", \"song\", \"song\", \"sony\", \"sorkin\", \"sotloff\", \"sound\", \"sound\", \"sound\", \"sound\", \"sound\", \"sound\", \"sound\", \"source\", \"source\", \"source\", \"source\", \"source\", \"source\", \"source\", \"source\", \"source\", \"source\", \"source\", \"source\", \"source\", \"source\", \"south\", \"south\", \"south\", \"south\", \"south\", \"south\", \"south\", \"south\", \"southern\", \"southern\", \"southern\", \"southern\", \"southern\", \"southern\", \"space\", \"space\", \"space\", \"spca\", \"specie\", \"speculation\", \"speculation\", \"spends\", \"spice\", \"spider\", \"spoon\", \"sport\", \"sport\", \"st\", \"st\", \"st\", \"stainless\", \"star\", \"star\", \"star\", \"star\", \"star\", \"star\", \"star\", \"started\", \"started\", \"started\", \"started\", \"started\", \"started\", \"started\", \"started\", \"started\", \"state\", \"state\", \"state\", \"state\", \"state\", \"state\", \"state\", \"state\", \"state\", \"state\", \"state\", \"state\", \"state\", \"stated\", \"stated\", \"statement\", \"statement\", \"statement\", \"statement\", \"statement\", \"statement\", \"statement\", \"statement\", \"statement\", \"statement\", \"statement\", \"statement\", \"statement\", \"statement\", \"station\", \"station\", \"station\", \"station\", \"station\", \"station\", \"station\", \"station\", \"station\", \"station\", \"station\", \"steel\", \"stephen\", \"steve\", \"steve\", \"steven\", \"still\", \"still\", \"still\", \"still\", \"still\", \"still\", \"still\", \"still\", \"still\", \"still\", \"still\", \"still\", \"still\", \"still\", \"still\", \"still\", \"still\", \"stomach\", \"stomach\", \"store\", \"store\", \"store\", \"story\", \"story\", \"story\", \"story\", \"story\", \"story\", \"story\", \"story\", \"story\", \"story\", \"story\", \"story\", \"story\", \"strap\", \"streaming\", \"streaming\", \"street\", \"street\", \"street\", \"street\", \"street\", \"street\", \"street\", \"street\", \"street\", \"street\", \"street\", \"street\", \"strike\", \"strike\", \"strike\", \"strike\", \"strike\", \"strike\", \"student\", \"student\", \"student\", \"subscription\", \"subscription\", \"subscription\", \"sugarhill\", \"suggestion\", \"suit\", \"suit\", \"suitcase\", \"sunday\", \"sunday\", \"sunday\", \"sunday\", \"sunday\", \"sunday\", \"sunday\", \"sung\", \"sunni\", \"superman\", \"superpower\", \"supported\", \"supported\", \"supporter\", \"supporter\", \"supporter\", \"supreme\", \"sure\", \"sure\", \"sure\", \"sure\", \"sure\", \"sure\", \"suresh\", \"suspended\", \"suspension\", \"suspension\", \"susteren\", \"swimmer\", \"symptom\", \"syria\", \"syria\", \"syria\", \"syria\", \"syria\", \"syrian\", \"syrian\", \"syrian\", \"taibbi\", \"taliban\", \"taliban\", \"talk\", \"talk\", \"talk\", \"talk\", \"talk\", \"talk\", \"talk\", \"talk\", \"talk\", \"talk\", \"talk\", \"talk\", \"tan\", \"tanzania\", \"tape\", \"teacher\", \"teen\", \"teen\", \"teen\", \"teen\", \"teen\", \"teletubbies\", \"terrorism\", \"terrorist\", \"terrorist\", \"terrorist\", \"terrorist\", \"terrorist\", \"terrorist\", \"terrorist\", \"texas\", \"texas\", \"text\", \"texting\", \"theft\", \"theory\", \"thing\", \"thing\", \"thing\", \"thing\", \"thing\", \"thing\", \"thing\", \"thing\", \"thing\", \"thing\", \"think\", \"think\", \"think\", \"think\", \"think\", \"think\", \"think\", \"think\", \"think\", \"think\", \"think\", \"think\", \"think\", \"think\", \"think\", \"think\", \"thomas\", \"thomas\", \"thomas\", \"thought\", \"thought\", \"thought\", \"thought\", \"thought\", \"thought\", \"thought\", \"thought\", \"thought\", \"thought\", \"thought\", \"thought\", \"thought\", \"thought\", \"thought\", \"thursday\", \"thursday\", \"thursday\", \"thursday\", \"thursday\", \"thursday\", \"thursday\", \"thursday\", \"thursday\", \"thursday\", \"thursday\", \"thursday\", \"thus\", \"thus\", \"tiger\", \"time\", \"time\", \"time\", \"time\", \"time\", \"time\", \"time\", \"time\", \"time\", \"time\", \"time\", \"time\", \"time\", \"time\", \"time\", \"time\", \"time\", \"time\", \"time\", \"time\", \"today\", \"today\", \"today\", \"today\", \"today\", \"today\", \"today\", \"today\", \"today\", \"today\", \"today\", \"today\", \"today\", \"told\", \"told\", \"told\", \"told\", \"told\", \"told\", \"told\", \"told\", \"told\", \"told\", \"told\", \"told\", \"told\", \"told\", \"told\", \"told\", \"told\", \"told\", \"told\", \"tom\", \"tom\", \"tor\", \"tour\", \"tour\", \"tour\", \"tower\", \"trading\", \"trail\", \"trained\", \"transpired\", \"tribunal\", \"tripoli\", \"tripoli\", \"tropical\", \"truce\", \"truck\", \"truck\", \"truck\", \"true\", \"true\", \"true\", \"true\", \"true\", \"true\", \"true\", \"true\", \"true\", \"true\", \"true\", \"tuesday\", \"tuesday\", \"tuesday\", \"tuesday\", \"tuesday\", \"tuesday\", \"tuesday\", \"tuesday\", \"tuesday\", \"tuesday\", \"tuesday\", \"tuesday\", \"tuesday\", \"tuesday\", \"tuesday\", \"tunisia\", \"tv\", \"tv\", \"tv\", \"tv\", \"tv\", \"tv\", \"tv\", \"tv\", \"tv\", \"tv\", \"tv\", \"tweet\", \"tweet\", \"tweet\", \"tweet\", \"tweet\", \"twin\", \"twitter\", \"twitter\", \"twitter\", \"twitter\", \"twitter\", \"twitter\", \"twitter\", \"twitter\", \"twitter\", \"twitter\", \"twitter\", \"type\", \"type\", \"u\", \"u\", \"u\", \"u\", \"u\", \"u\", \"u\", \"u\", \"u\", \"u\", \"u\", \"u\", \"u\", \"u\", \"u\", \"u\", \"u\", \"u\", \"u\", \"un\", \"un\", \"unarmed\", \"unarmed\", \"underage\", \"une\", \"university\", \"university\", \"university\", \"university\", \"university\", \"unusual\", \"unusual\", \"unusual\", \"unverified\", \"update\", \"update\", \"update\", \"update\", \"updated\", \"updated\", \"updated\", \"used\", \"used\", \"used\", \"used\", \"used\", \"used\", \"used\", \"used\", \"used\", \"used\", \"used\", \"used\", \"used\", \"used\", \"used\", \"used\", \"useful\", \"user\", \"user\", \"user\", \"user\", \"user\", \"user\", \"v\", \"vandalism\", \"variant\", \"variety\", \"variety\", \"various\", \"various\", \"various\", \"various\", \"vatican\", \"vega\", \"version\", \"version\", \"version\", \"version\", \"version\", \"version\", \"version\", \"version\", \"version\", \"version\", \"vickers\", \"video\", \"video\", \"video\", \"video\", \"video\", \"video\", \"video\", \"video\", \"video\", \"video\", \"video\", \"video\", \"violated\", \"viral\", \"viral\", \"viral\", \"viral\", \"virus\", \"vladi\", \"vocativ\", \"vogue\", \"volley\", \"vomiting\", \"w\", \"walter\", \"want\", \"want\", \"want\", \"want\", \"want\", \"want\", \"want\", \"want\", \"want\", \"want\", \"want\", \"want\", \"wanted\", \"wanted\", \"wanted\", \"wanted\", \"wanted\", \"wanted\", \"wanted\", \"war\", \"war\", \"war\", \"war\", \"war\", \"war\", \"war\", \"war\", \"warner\", \"warren\", \"washington\", \"washington\", \"washington\", \"washington\", \"washington\", \"washington\", \"washington\", \"washington\", \"watch\", \"watch\", \"watch\", \"watch\", \"watch\", \"watch\", \"watch\", \"watch\", \"watch\", \"watch\", \"water\", \"water\", \"water\", \"water\", \"water\", \"water\", \"water\", \"wave\", \"wave\", \"way\", \"way\", \"way\", \"way\", \"way\", \"way\", \"way\", \"way\", \"way\", \"way\", \"way\", \"way\", \"way\", \"way\", \"way\", \"way\", \"weapon\", \"weapon\", \"weapon\", \"weapon\", \"weapon\", \"wearable\", \"website\", \"website\", \"website\", \"website\", \"website\", \"website\", \"website\", \"website\", \"website\", \"wednesday\", \"wednesday\", \"wednesday\", \"wednesday\", \"wednesday\", \"wednesday\", \"wednesday\", \"wednesday\", \"wednesday\", \"wednesday\", \"wednesday\", \"weekend\", \"weekend\", \"weight\", \"weight\", \"welfare\", \"welfare\", \"welfare\", \"well\", \"well\", \"well\", \"well\", \"well\", \"well\", \"well\", \"well\", \"well\", \"well\", \"well\", \"well\", \"well\", \"well\", \"well\", \"well\", \"well\", \"well\", \"wels\", \"west\", \"west\", \"west\", \"west\", \"west\", \"west\", \"west\", \"west\", \"west\", \"west\", \"westminster\", \"whatever\", \"whatever\", \"whatever\", \"whisky\", \"wide\", \"wide\", \"wife\", \"wife\", \"wife\", \"wife\", \"wife\", \"williams\", \"wilson\", \"winning\", \"winning\", \"wintour\", \"woman\", \"woman\", \"woman\", \"woman\", \"woman\", \"woman\", \"woman\", \"woman\", \"woman\", \"woman\", \"woman\", \"woman\", \"woman\", \"woman\", \"wonderful\", \"wood\", \"work\", \"work\", \"work\", \"work\", \"work\", \"work\", \"work\", \"work\", \"work\", \"work\", \"work\", \"work\", \"work\", \"working\", \"working\", \"working\", \"working\", \"working\", \"working\", \"working\", \"working\", \"working\", \"world\", \"world\", \"world\", \"world\", \"world\", \"world\", \"world\", \"world\", \"world\", \"world\", \"world\", \"world\", \"world\", \"world\", \"world\", \"world\", \"world\", \"would\", \"would\", \"would\", \"would\", \"would\", \"would\", \"would\", \"would\", \"would\", \"would\", \"would\", \"would\", \"would\", \"would\", \"would\", \"would\", \"would\", \"would\", \"would\", \"would\", \"wozniak\", \"wright\", \"year\", \"year\", \"year\", \"year\", \"year\", \"year\", \"year\", \"year\", \"year\", \"year\", \"year\", \"year\", \"year\", \"year\", \"year\", \"year\", \"year\", \"year\", \"year\", \"yemen\", \"yemen\", \"yemeni\", \"yeti\", \"yo\", \"york\", \"york\", \"york\", \"york\", \"york\", \"york\", \"york\", \"york\", \"york\", \"york\", \"york\", \"york\", \"youtube\", \"youtube\", \"youtube\", \"youtube\", \"youtube\", \"youtube\", \"ypg\", \"zehaf\", \"zeid\", \"zero\", \"zone\", \"\\u00e0\"]}, \"R\": 30, \"lambda.step\": 0.01, \"plot.opts\": {\"xlab\": \"PC1\", \"ylab\": \"PC2\"}, \"topic.order\": [18, 10, 3, 14, 9, 8, 15, 4, 13, 7, 1, 20, 2, 19, 6, 5, 17, 11, 12, 16]};\n",
       "\n",
       "function LDAvis_load_lib(url, callback){\n",
       "  var s = document.createElement('script');\n",
       "  s.src = url;\n",
       "  s.async = true;\n",
       "  s.onreadystatechange = s.onload = callback;\n",
       "  s.onerror = function(){console.warn(\"failed to load library \" + url);};\n",
       "  document.getElementsByTagName(\"head\")[0].appendChild(s);\n",
       "}\n",
       "\n",
       "if(typeof(LDAvis) !== \"undefined\"){\n",
       "   // already loaded: just create the visualization\n",
       "   !function(LDAvis){\n",
       "       new LDAvis(\"#\" + \"ldavis_el5494067600732801624441023\", ldavis_el5494067600732801624441023_data);\n",
       "   }(LDAvis);\n",
       "}else if(typeof define === \"function\" && define.amd){\n",
       "   // require.js is available: use it to load d3/LDAvis\n",
       "   require.config({paths: {d3: \"https://cdnjs.cloudflare.com/ajax/libs/d3/3.5.5/d3.min\"}});\n",
       "   require([\"d3\"], function(d3){\n",
       "      window.d3 = d3;\n",
       "      LDAvis_load_lib(\"https://cdn.rawgit.com/bmabey/pyLDAvis/files/ldavis.v1.0.0.js\", function(){\n",
       "        new LDAvis(\"#\" + \"ldavis_el5494067600732801624441023\", ldavis_el5494067600732801624441023_data);\n",
       "      });\n",
       "    });\n",
       "}else{\n",
       "    // require.js not available: dynamically load d3 & LDAvis\n",
       "    LDAvis_load_lib(\"https://cdnjs.cloudflare.com/ajax/libs/d3/3.5.5/d3.min.js\", function(){\n",
       "         LDAvis_load_lib(\"https://cdn.rawgit.com/bmabey/pyLDAvis/files/ldavis.v1.0.0.js\", function(){\n",
       "                 new LDAvis(\"#\" + \"ldavis_el5494067600732801624441023\", ldavis_el5494067600732801624441023_data);\n",
       "            })\n",
       "         });\n",
       "}\n",
       "</script>"
      ],
      "text/plain": [
       "PreparedData(topic_coordinates=           Freq  cluster  topics         x         y\n",
       "topic                                               \n",
       "17     8.472907        1       1  0.226880 -0.019120\n",
       "9      7.595188        1       2 -0.112287 -0.000434\n",
       "2      7.311214        1       3 -0.083544 -0.021570\n",
       "13     6.791385        1       4 -0.108508  0.080753\n",
       "8      6.466240        1       5  0.174062 -0.042057\n",
       "7      5.406462        1       6 -0.187084 -0.060083\n",
       "14     5.100645        1       7  0.112049  0.049270\n",
       "3      4.986445        1       8  0.218529 -0.084044\n",
       "12     4.938641        1       9 -0.117559  0.017840\n",
       "6      4.882613        1      10  0.059642 -0.100910\n",
       "0      4.623847        1      11  0.111727 -0.080459\n",
       "19     4.126521        1      12 -0.143788 -0.016085\n",
       "1      4.123119        1      13  0.024215  0.294691\n",
       "18     4.007402        1      14 -0.105912  0.023171\n",
       "5      3.879553        1      15 -0.103321 -0.141864\n",
       "4      3.818975        1      16 -0.013768  0.042434\n",
       "16     3.808369        1      17 -0.129779 -0.044202\n",
       "10     3.591859        1      18 -0.102500 -0.032528\n",
       "11     3.399776        1      19  0.109934  0.261608\n",
       "15     2.668844        1      20  0.171012 -0.126412, topic_info=     Category           Freq          Term          Total  loglift  logprob\n",
       "term                                                                       \n",
       "6     Default   44046.000000         apple   44046.000000  30.0000  30.0000\n",
       "1574  Default   30443.000000         watch   30443.000000  29.0000  29.0000\n",
       "2527  Default   22237.000000           kim   22237.000000  28.0000  28.0000\n",
       "97    Default   28784.000000            al   28784.000000  27.0000  27.0000\n",
       "1218  Default   46117.000000         video   46117.000000  26.0000  26.0000\n",
       "818   Default   34001.000000           isi   34001.000000  25.0000  25.0000\n",
       "861   Default   20626.000000         north   20626.000000  24.0000  24.0000\n",
       "353   Default   24472.000000        police   24472.000000  23.0000  23.0000\n",
       "1180  Default   16882.000000         foley   16882.000000  22.0000  22.0000\n",
       "363   Default   17941.000000          shot   17941.000000  21.0000  21.0000\n",
       "3992  Default   13909.000000         brown   13909.000000  20.0000  20.0000\n",
       "210   Default  130181.000000          said  130181.000000  19.0000  19.0000\n",
       "343   Default   26540.000000       islamic   26540.000000  18.0000  18.0000\n",
       "914   Default   41793.000000         state   41793.000000  17.0000  17.0000\n",
       "107   Default   17448.000000        border   17448.000000  16.0000  16.0000\n",
       "2895  Default   10801.000000         ebola   10801.000000  15.0000  15.0000\n",
       "944   Default   47036.000000             u   47036.000000  14.0000  14.0000\n",
       "2644  Default   12495.000000          jong   12495.000000  13.0000  13.0000\n",
       "1215  Default   22614.000000         syria   22614.000000  12.0000  12.0000\n",
       "563   Default   20635.000000      american   20635.000000  11.0000  11.0000\n",
       "296   Default   29728.000000           man   29728.000000  10.0000  10.0000\n",
       "816   Default   19261.000000          iraq   19261.000000   9.0000   9.0000\n",
       "279   Default   16631.000000          girl   16631.000000   8.0000   8.0000\n",
       "803   Default   33140.000000         group   33140.000000   7.0000   7.0000\n",
       "1621  Default   13615.000000       officer   13615.000000   6.0000   6.0000\n",
       "1785  Default   10156.000000         haram   10156.000000   5.0000   5.0000\n",
       "1737  Default   10093.000000          boko   10093.000000   4.0000   4.0000\n",
       "2649  Default   10183.000000         korea   10183.000000   3.0000   3.0000\n",
       "43    Default   11492.000000           job   11492.000000   2.0000   2.0000\n",
       "240   Default   10498.000000            un   10498.000000   1.0000   1.0000\n",
       "...       ...            ...           ...            ...      ...      ...\n",
       "8168  Topic20     478.524719       malaria     479.475128   3.6215  -6.4029\n",
       "3573  Topic20     594.336731        frisco     595.911865   3.6209  -6.1861\n",
       "1075  Topic20    4736.737305        banksy    4924.300781   3.5847  -4.1105\n",
       "2227  Topic20    1919.160156        artist    1968.979126   3.5979  -5.0139\n",
       "2904  Topic20     697.702393    biological     701.580811   3.6180  -6.0258\n",
       "3563  Topic20    3521.995361       disease    3687.577637   3.5776  -4.4068\n",
       "853   Topic20    5902.305176         mosul    7561.706055   3.3758  -3.8905\n",
       "1275  Topic20    4152.360352        health    9489.019531   2.7971  -4.2421\n",
       "1258  Topic20     851.376221        deadly    1066.488892   3.3983  -5.8267\n",
       "1724  Topic20    1866.868530        africa    3700.430664   2.9393  -5.0416\n",
       "282   Topic20    3524.289307      hospital   11174.973633   2.4695  -4.4061\n",
       "3559  Topic20     822.756470        dallas    1054.093262   3.3757  -5.8609\n",
       "400   Topic20    3225.887695          case   12429.312500   2.2747  -4.4946\n",
       "746   Topic20    3583.422363          city   16386.232422   2.1034  -4.3895\n",
       "817   Topic20    2737.905762         iraqi   10679.422852   2.2624  -4.6586\n",
       "818   Topic20    4557.310547           isi   34001.773438   1.6138  -4.1491\n",
       "816   Topic20    3309.976807          iraq   19261.027344   1.8624  -4.4689\n",
       "356   Topic20    4637.125000        report   41320.707031   1.4363  -4.1317\n",
       "58    Topic20    3771.854004      official   30180.951172   1.5439  -4.3383\n",
       "775   Topic20    1381.099854      document    3467.086182   2.7031  -5.3429\n",
       "889   Topic20    2571.399658      reported   22301.017578   1.4633  -4.7214\n",
       "758   Topic20    2120.497559       country   13757.373047   1.7536  -4.9142\n",
       "1814  Topic20    1532.947266  organization    5593.670898   2.3291  -5.2386\n",
       "847   Topic20    2352.459961      militant   21492.875000   1.4113  -4.8104\n",
       "346   Topic20    2092.670898        medium   19338.230469   1.3999  -4.9274\n",
       "101   Topic20    1680.197632          area    9741.227539   1.8661  -5.1469\n",
       "210   Topic20    2546.216553          said  130181.578125  -0.3108  -4.7312\n",
       "76    Topic20    1775.794800        source   20733.476562   1.1660  -5.0916\n",
       "694   Topic20    1573.663818         world   13412.436523   1.4807  -5.2124\n",
       "322   Topic20    1559.460327          told   34085.972656   0.5390  -5.2215\n",
       "\n",
       "[1335 rows x 6 columns], token_table=       Topic      Freq     Term\n",
       "term                           \n",
       "90         1  0.017587      000\n",
       "90         2  0.000384      000\n",
       "90         3  0.000230      000\n",
       "90         6  0.469383      000\n",
       "90         7  0.011827      000\n",
       "90         9  0.007296      000\n",
       "90        11  0.070730      000\n",
       "90        12  0.162733      000\n",
       "90        13  0.000307      000\n",
       "90        14  0.168800      000\n",
       "90        16  0.040318      000\n",
       "90        18  0.025036      000\n",
       "90        20  0.025420      000\n",
       "91         2  0.084981      100\n",
       "91         3  0.171154      100\n",
       "91         6  0.150107      100\n",
       "91         7  0.026408      100\n",
       "91        10  0.011318      100\n",
       "91        11  0.022040      100\n",
       "91        12  0.533914      100\n",
       "91        13  0.000199      100\n",
       "1993       1  0.060019       11\n",
       "1993       2  0.000216       11\n",
       "1993       3  0.138172       11\n",
       "1993       4  0.012522       11\n",
       "1993       6  0.095209       11\n",
       "1993       7  0.013817       11\n",
       "1993       8  0.003130       11\n",
       "1993       9  0.044042       11\n",
       "1993      11  0.473133       11\n",
       "...      ...       ...      ...\n",
       "88        19  0.003874     year\n",
       "9054       5  0.993974    yemen\n",
       "9054       8  0.005902    yemen\n",
       "9760       5  0.999279   yemeni\n",
       "10642     14  0.998254     yeti\n",
       "2678      10  0.999595       yo\n",
       "960        1  0.001622     york\n",
       "960        2  0.221359     york\n",
       "960        3  0.003243     york\n",
       "960        4  0.051353     york\n",
       "960        5  0.030406     york\n",
       "960        7  0.006352     york\n",
       "960       10  0.004460     york\n",
       "960       11  0.012027     york\n",
       "960       13  0.102977     york\n",
       "960       14  0.171222     york\n",
       "960       17  0.394203     york\n",
       "960       20  0.000676     york\n",
       "1337       1  0.018227  youtube\n",
       "1337       4  0.182268  youtube\n",
       "1337       5  0.186299  youtube\n",
       "1337      12  0.538216  youtube\n",
       "1337      14  0.072732  youtube\n",
       "1337      18  0.002103  youtube\n",
       "4599       8  0.998414      ypg\n",
       "5006      19  0.999773    zehaf\n",
       "17153      8  0.998596     zeid\n",
       "2064       3  0.998472     zero\n",
       "4835       5  0.999267     zone\n",
       "15670     15  0.999198        à\n",
       "\n",
       "[4040 rows x 3 columns], R=30, lambda_step=0.01, plot_opts={'xlab': 'PC1', 'ylab': 'PC2'}, topic_order=[18, 10, 3, 14, 9, 8, 15, 4, 13, 7, 1, 20, 2, 19, 6, 5, 17, 11, 12, 16])"
      ]
     },
     "execution_count": 93,
     "metadata": {},
     "output_type": "execute_result"
    }
   ],
   "source": [
    "pyLDAvis.gensim.prepare(ldamodel, corpus, dictionary)"
   ]
  },
  {
   "cell_type": "markdown",
   "metadata": {},
   "source": [
    "## latent Dirichlet allocation on Headline\n",
    "\n",
    "Visualizing the similarities between topics in the Headlines. "
   ]
  },
  {
   "cell_type": "code",
   "execution_count": 94,
   "metadata": {},
   "outputs": [],
   "source": [
    "dictionary = corpora.Dictionary(list(df_all['Headline']))\n",
    "\n",
    "corpus = [dictionary.doc2bow(text) for text in df_all['Headline']]\n",
    "\n",
    "ldamodel = models.ldamodel.LdaModel(corpus,                     # pass in our corpus\n",
    "                                    id2word = dictionary,       # matches each word to its \"number\" or \"spot\" in the dictionary\n",
    "                                    num_topics = 20,             # number of topics T to find\n",
    "                                    passes = 5,                 # number of passes through corpus; similar to number of epochs\n",
    "                                    minimum_probability = 0.01) # only include topics above this probability threshold"
   ]
  },
  {
   "cell_type": "code",
   "execution_count": 95,
   "metadata": {
    "scrolled": true
   },
   "outputs": [
    {
     "data": {
      "text/html": [
       "\n",
       "<link rel=\"stylesheet\" type=\"text/css\" href=\"https://cdn.rawgit.com/bmabey/pyLDAvis/files/ldavis.v1.0.0.css\">\n",
       "\n",
       "\n",
       "<div id=\"ldavis_el5494067600719602315347073\"></div>\n",
       "<script type=\"text/javascript\">\n",
       "\n",
       "var ldavis_el5494067600719602315347073_data = {\"mdsDat\": {\"Freq\": [7.175739288330078, 6.986012935638428, 6.434521198272705, 6.159083366394043, 5.968647480010986, 5.822700500488281, 5.576652526855469, 5.277154445648193, 4.846415996551514, 4.759068965911865, 4.680370330810547, 4.676739692687988, 4.4246392250061035, 4.332467079162598, 4.28141975402832, 4.159107208251953, 3.9892666339874268, 3.813821792602539, 3.670226812362671, 2.9659414291381836], \"cluster\": [1, 1, 1, 1, 1, 1, 1, 1, 1, 1, 1, 1, 1, 1, 1, 1, 1, 1, 1, 1], \"topics\": [1, 2, 3, 4, 5, 6, 7, 8, 9, 10, 11, 12, 13, 14, 15, 16, 17, 18, 19, 20], \"x\": [0.1605645436706877, -0.05530077616540467, -0.047171173981781944, 0.03337483510333699, 0.17235885897544365, 0.031228510281752928, 0.031246142855455482, 0.1909325608505671, -0.2621795808964831, 0.15068359640028703, -0.26563630415752004, -0.08066174110768595, 0.22081027580966245, -0.11229698931302902, -0.0793506581379174, -0.0788808246643595, 0.03814453718353541, 0.042447031854176046, -0.1520542401158837, 0.06174139555516295], \"y\": [-0.23676559996180416, 0.09298702398176091, 0.08003288021048158, -0.11865426314337162, 0.1333937306180808, 0.18413000684785508, -0.03935737986067704, 0.0638090394649069, 0.06800163125888015, 0.09640062231898841, 0.023131864834290392, 0.04970328137008726, -0.04485532625367671, -0.026703008500738527, -0.04112768586306496, -0.18655492564035395, -0.16517746485865803, 0.22068603451715352, -0.09338975393974659, -0.05969070740039406]}, \"tinfo\": {\"Category\": [\"Default\", \"Default\", \"Default\", \"Default\", \"Default\", \"Default\", \"Default\", \"Default\", \"Default\", \"Default\", \"Default\", \"Default\", \"Default\", \"Default\", \"Default\", \"Default\", \"Default\", \"Default\", \"Default\", \"Default\", \"Default\", \"Default\", \"Default\", \"Default\", \"Default\", \"Default\", \"Default\", \"Default\", \"Default\", \"Default\", \"Topic1\", \"Topic1\", \"Topic1\", \"Topic1\", \"Topic1\", \"Topic1\", \"Topic1\", \"Topic1\", \"Topic1\", \"Topic1\", \"Topic1\", \"Topic1\", \"Topic1\", \"Topic1\", \"Topic1\", \"Topic1\", \"Topic1\", \"Topic1\", \"Topic1\", \"Topic1\", \"Topic1\", \"Topic1\", \"Topic1\", \"Topic1\", \"Topic1\", \"Topic1\", \"Topic1\", \"Topic1\", \"Topic1\", \"Topic1\", \"Topic1\", \"Topic1\", \"Topic1\", \"Topic1\", \"Topic1\", \"Topic1\", \"Topic1\", \"Topic1\", \"Topic1\", \"Topic1\", \"Topic1\", \"Topic1\", \"Topic1\", \"Topic1\", \"Topic1\", \"Topic1\", \"Topic1\", \"Topic1\", \"Topic1\", \"Topic1\", \"Topic1\", \"Topic1\", \"Topic1\", \"Topic1\", \"Topic2\", \"Topic2\", \"Topic2\", \"Topic2\", \"Topic2\", \"Topic2\", \"Topic2\", \"Topic2\", \"Topic2\", \"Topic2\", \"Topic2\", \"Topic2\", \"Topic2\", \"Topic2\", \"Topic2\", \"Topic2\", \"Topic2\", \"Topic2\", \"Topic2\", \"Topic2\", \"Topic2\", \"Topic2\", \"Topic2\", \"Topic2\", \"Topic2\", \"Topic2\", \"Topic2\", \"Topic2\", \"Topic2\", \"Topic2\", \"Topic2\", \"Topic2\", \"Topic2\", \"Topic2\", \"Topic2\", \"Topic2\", \"Topic2\", \"Topic2\", \"Topic2\", \"Topic2\", \"Topic2\", \"Topic2\", \"Topic2\", \"Topic2\", \"Topic2\", \"Topic2\", \"Topic2\", \"Topic2\", \"Topic2\", \"Topic2\", \"Topic2\", \"Topic2\", \"Topic2\", \"Topic3\", \"Topic3\", \"Topic3\", \"Topic3\", \"Topic3\", \"Topic3\", \"Topic3\", \"Topic3\", \"Topic3\", \"Topic3\", \"Topic3\", \"Topic3\", \"Topic3\", \"Topic3\", \"Topic3\", \"Topic3\", \"Topic3\", \"Topic3\", \"Topic3\", \"Topic3\", \"Topic3\", \"Topic3\", \"Topic3\", \"Topic3\", \"Topic3\", \"Topic3\", \"Topic3\", \"Topic3\", \"Topic3\", \"Topic3\", \"Topic3\", \"Topic3\", \"Topic3\", \"Topic3\", \"Topic3\", \"Topic3\", \"Topic3\", \"Topic3\", \"Topic3\", \"Topic3\", \"Topic3\", \"Topic3\", \"Topic3\", \"Topic3\", \"Topic3\", \"Topic3\", \"Topic3\", \"Topic3\", \"Topic4\", \"Topic4\", \"Topic4\", \"Topic4\", \"Topic4\", \"Topic4\", \"Topic4\", \"Topic4\", \"Topic4\", \"Topic4\", \"Topic4\", \"Topic4\", \"Topic4\", \"Topic4\", \"Topic4\", \"Topic4\", \"Topic4\", \"Topic4\", \"Topic4\", \"Topic4\", \"Topic4\", \"Topic4\", \"Topic4\", \"Topic4\", \"Topic4\", \"Topic4\", \"Topic4\", \"Topic4\", \"Topic4\", \"Topic4\", \"Topic4\", \"Topic4\", \"Topic4\", \"Topic4\", \"Topic4\", \"Topic4\", \"Topic4\", \"Topic4\", \"Topic4\", \"Topic4\", \"Topic4\", \"Topic4\", \"Topic4\", \"Topic4\", \"Topic4\", \"Topic4\", \"Topic4\", \"Topic4\", \"Topic5\", \"Topic5\", \"Topic5\", \"Topic5\", \"Topic5\", \"Topic5\", \"Topic5\", \"Topic5\", \"Topic5\", \"Topic5\", \"Topic5\", \"Topic5\", \"Topic5\", \"Topic5\", \"Topic5\", \"Topic5\", \"Topic5\", \"Topic5\", \"Topic5\", \"Topic5\", \"Topic5\", \"Topic5\", \"Topic5\", \"Topic5\", \"Topic5\", \"Topic5\", \"Topic5\", \"Topic5\", \"Topic5\", \"Topic5\", \"Topic5\", \"Topic5\", \"Topic5\", \"Topic5\", \"Topic5\", \"Topic5\", \"Topic5\", \"Topic5\", \"Topic5\", \"Topic5\", \"Topic5\", \"Topic5\", \"Topic5\", \"Topic5\", \"Topic5\", \"Topic5\", \"Topic5\", \"Topic5\", \"Topic5\", \"Topic5\", \"Topic5\", \"Topic5\", \"Topic5\", \"Topic5\", \"Topic5\", \"Topic5\", \"Topic5\", \"Topic6\", \"Topic6\", \"Topic6\", \"Topic6\", \"Topic6\", \"Topic6\", \"Topic6\", \"Topic6\", \"Topic6\", \"Topic6\", \"Topic6\", \"Topic6\", \"Topic6\", \"Topic6\", \"Topic6\", \"Topic6\", \"Topic6\", \"Topic6\", \"Topic6\", \"Topic6\", \"Topic6\", \"Topic6\", \"Topic6\", \"Topic6\", \"Topic6\", \"Topic6\", \"Topic6\", \"Topic6\", \"Topic6\", \"Topic6\", \"Topic6\", \"Topic6\", \"Topic6\", \"Topic6\", \"Topic6\", \"Topic6\", \"Topic6\", \"Topic6\", \"Topic6\", \"Topic6\", \"Topic6\", \"Topic6\", \"Topic6\", \"Topic6\", \"Topic6\", \"Topic6\", \"Topic6\", \"Topic7\", \"Topic7\", \"Topic7\", \"Topic7\", \"Topic7\", \"Topic7\", \"Topic7\", \"Topic7\", \"Topic7\", \"Topic7\", \"Topic7\", \"Topic7\", \"Topic7\", \"Topic7\", \"Topic7\", \"Topic7\", \"Topic7\", \"Topic7\", \"Topic7\", \"Topic7\", \"Topic7\", \"Topic7\", \"Topic7\", \"Topic7\", \"Topic7\", \"Topic7\", \"Topic7\", \"Topic7\", \"Topic7\", \"Topic7\", \"Topic7\", \"Topic7\", \"Topic7\", \"Topic7\", \"Topic7\", \"Topic7\", \"Topic7\", \"Topic7\", \"Topic7\", \"Topic7\", \"Topic7\", \"Topic7\", \"Topic7\", \"Topic7\", \"Topic7\", \"Topic7\", \"Topic7\", \"Topic7\", \"Topic7\", \"Topic7\", \"Topic7\", \"Topic7\", \"Topic8\", \"Topic8\", \"Topic8\", \"Topic8\", \"Topic8\", \"Topic8\", \"Topic8\", \"Topic8\", \"Topic8\", \"Topic8\", \"Topic8\", \"Topic8\", \"Topic8\", \"Topic8\", \"Topic8\", \"Topic8\", \"Topic8\", \"Topic8\", \"Topic8\", \"Topic8\", \"Topic8\", \"Topic8\", \"Topic8\", \"Topic8\", \"Topic8\", \"Topic8\", \"Topic8\", \"Topic8\", \"Topic8\", \"Topic8\", \"Topic8\", \"Topic8\", \"Topic8\", \"Topic8\", \"Topic8\", \"Topic8\", \"Topic8\", \"Topic8\", \"Topic8\", \"Topic8\", \"Topic8\", \"Topic8\", \"Topic8\", \"Topic8\", \"Topic8\", \"Topic8\", \"Topic8\", \"Topic8\", \"Topic8\", \"Topic8\", \"Topic8\", \"Topic9\", \"Topic9\", \"Topic9\", \"Topic9\", \"Topic9\", \"Topic9\", \"Topic9\", \"Topic9\", \"Topic9\", \"Topic9\", \"Topic9\", \"Topic9\", \"Topic9\", \"Topic9\", \"Topic9\", \"Topic9\", \"Topic9\", \"Topic9\", \"Topic9\", \"Topic9\", \"Topic9\", \"Topic9\", \"Topic9\", \"Topic9\", \"Topic9\", \"Topic9\", \"Topic9\", \"Topic9\", \"Topic9\", \"Topic9\", \"Topic9\", \"Topic9\", \"Topic9\", \"Topic9\", \"Topic9\", \"Topic9\", \"Topic9\", \"Topic9\", \"Topic9\", \"Topic9\", \"Topic9\", \"Topic9\", \"Topic9\", \"Topic9\", \"Topic9\", \"Topic9\", \"Topic9\", \"Topic9\", \"Topic9\", \"Topic9\", \"Topic9\", \"Topic10\", \"Topic10\", \"Topic10\", \"Topic10\", \"Topic10\", \"Topic10\", \"Topic10\", \"Topic10\", \"Topic10\", \"Topic10\", \"Topic10\", \"Topic10\", \"Topic10\", \"Topic10\", \"Topic10\", \"Topic10\", \"Topic10\", \"Topic10\", \"Topic10\", \"Topic10\", \"Topic10\", \"Topic10\", \"Topic10\", \"Topic10\", \"Topic10\", \"Topic10\", \"Topic10\", \"Topic10\", \"Topic10\", \"Topic10\", \"Topic10\", \"Topic10\", \"Topic10\", \"Topic10\", \"Topic10\", \"Topic10\", \"Topic10\", \"Topic10\", \"Topic10\", \"Topic10\", \"Topic10\", \"Topic10\", \"Topic10\", \"Topic10\", \"Topic10\", \"Topic10\", \"Topic10\", \"Topic10\", \"Topic10\", \"Topic11\", \"Topic11\", \"Topic11\", \"Topic11\", \"Topic11\", \"Topic11\", \"Topic11\", \"Topic11\", \"Topic11\", \"Topic11\", \"Topic11\", \"Topic11\", \"Topic11\", \"Topic11\", \"Topic11\", \"Topic11\", \"Topic11\", \"Topic11\", \"Topic11\", \"Topic11\", \"Topic11\", \"Topic11\", \"Topic11\", \"Topic11\", \"Topic11\", \"Topic11\", \"Topic11\", \"Topic11\", \"Topic11\", \"Topic11\", \"Topic11\", \"Topic11\", \"Topic11\", \"Topic11\", \"Topic11\", \"Topic11\", \"Topic11\", \"Topic11\", \"Topic11\", \"Topic11\", \"Topic11\", \"Topic11\", \"Topic11\", \"Topic11\", \"Topic11\", \"Topic11\", \"Topic11\", \"Topic11\", \"Topic11\", \"Topic11\", \"Topic11\", \"Topic11\", \"Topic11\", \"Topic12\", \"Topic12\", \"Topic12\", \"Topic12\", \"Topic12\", \"Topic12\", \"Topic12\", \"Topic12\", \"Topic12\", \"Topic12\", \"Topic12\", \"Topic12\", \"Topic12\", \"Topic12\", \"Topic12\", \"Topic12\", \"Topic12\", \"Topic12\", \"Topic12\", \"Topic12\", \"Topic12\", \"Topic12\", \"Topic12\", \"Topic12\", \"Topic12\", \"Topic12\", \"Topic12\", \"Topic12\", \"Topic12\", \"Topic12\", \"Topic12\", \"Topic12\", \"Topic12\", \"Topic12\", \"Topic12\", \"Topic12\", \"Topic12\", \"Topic12\", \"Topic12\", \"Topic12\", \"Topic12\", \"Topic12\", \"Topic12\", \"Topic12\", \"Topic12\", \"Topic12\", \"Topic12\", \"Topic13\", \"Topic13\", \"Topic13\", \"Topic13\", \"Topic13\", \"Topic13\", \"Topic13\", \"Topic13\", \"Topic13\", \"Topic13\", \"Topic13\", \"Topic13\", \"Topic13\", \"Topic13\", \"Topic13\", \"Topic13\", \"Topic13\", \"Topic13\", \"Topic13\", \"Topic13\", \"Topic13\", \"Topic13\", \"Topic13\", \"Topic13\", \"Topic13\", \"Topic13\", \"Topic13\", \"Topic13\", \"Topic13\", \"Topic13\", \"Topic13\", \"Topic13\", \"Topic13\", \"Topic13\", \"Topic13\", \"Topic13\", \"Topic13\", \"Topic13\", \"Topic13\", \"Topic13\", \"Topic13\", \"Topic13\", \"Topic13\", \"Topic13\", \"Topic13\", \"Topic13\", \"Topic13\", \"Topic13\", \"Topic13\", \"Topic13\", \"Topic13\", \"Topic13\", \"Topic13\", \"Topic13\", \"Topic13\", \"Topic13\", \"Topic13\", \"Topic14\", \"Topic14\", \"Topic14\", \"Topic14\", \"Topic14\", \"Topic14\", \"Topic14\", \"Topic14\", \"Topic14\", \"Topic14\", \"Topic14\", \"Topic14\", \"Topic14\", \"Topic14\", \"Topic14\", \"Topic14\", \"Topic14\", \"Topic14\", \"Topic14\", \"Topic14\", \"Topic14\", \"Topic14\", \"Topic14\", \"Topic14\", \"Topic14\", \"Topic14\", \"Topic14\", \"Topic14\", \"Topic14\", \"Topic14\", \"Topic14\", \"Topic14\", \"Topic14\", \"Topic14\", \"Topic14\", \"Topic14\", \"Topic14\", \"Topic14\", \"Topic14\", \"Topic14\", \"Topic14\", \"Topic14\", \"Topic14\", \"Topic14\", \"Topic14\", \"Topic14\", \"Topic15\", \"Topic15\", \"Topic15\", \"Topic15\", \"Topic15\", \"Topic15\", \"Topic15\", \"Topic15\", \"Topic15\", \"Topic15\", \"Topic15\", \"Topic15\", \"Topic15\", \"Topic15\", \"Topic15\", \"Topic15\", \"Topic15\", \"Topic15\", \"Topic15\", \"Topic15\", \"Topic15\", \"Topic15\", \"Topic15\", \"Topic15\", \"Topic15\", \"Topic15\", \"Topic15\", \"Topic15\", \"Topic15\", \"Topic15\", \"Topic15\", \"Topic15\", \"Topic15\", \"Topic15\", \"Topic15\", \"Topic15\", \"Topic15\", \"Topic15\", \"Topic15\", \"Topic15\", \"Topic15\", \"Topic15\", \"Topic15\", \"Topic15\", \"Topic15\", \"Topic15\", \"Topic15\", \"Topic15\", \"Topic15\", \"Topic15\", \"Topic15\", \"Topic16\", \"Topic16\", \"Topic16\", \"Topic16\", \"Topic16\", \"Topic16\", \"Topic16\", \"Topic16\", \"Topic16\", \"Topic16\", \"Topic16\", \"Topic16\", \"Topic16\", \"Topic16\", \"Topic16\", \"Topic16\", \"Topic16\", \"Topic16\", \"Topic16\", \"Topic16\", \"Topic16\", \"Topic16\", \"Topic16\", \"Topic16\", \"Topic16\", \"Topic16\", \"Topic16\", \"Topic16\", \"Topic16\", \"Topic16\", \"Topic16\", \"Topic16\", \"Topic16\", \"Topic16\", \"Topic16\", \"Topic16\", \"Topic16\", \"Topic16\", \"Topic16\", \"Topic16\", \"Topic16\", \"Topic16\", \"Topic16\", \"Topic16\", \"Topic16\", \"Topic16\", \"Topic16\", \"Topic16\", \"Topic16\", \"Topic16\", \"Topic16\", \"Topic16\", \"Topic16\", \"Topic16\", \"Topic17\", \"Topic17\", \"Topic17\", \"Topic17\", \"Topic17\", \"Topic17\", \"Topic17\", \"Topic17\", \"Topic17\", \"Topic17\", \"Topic17\", \"Topic17\", \"Topic17\", \"Topic17\", \"Topic17\", \"Topic17\", \"Topic17\", \"Topic17\", \"Topic17\", \"Topic17\", \"Topic17\", \"Topic17\", \"Topic17\", \"Topic17\", \"Topic17\", \"Topic17\", \"Topic17\", \"Topic17\", \"Topic17\", \"Topic17\", \"Topic17\", \"Topic17\", \"Topic17\", \"Topic17\", \"Topic17\", \"Topic17\", \"Topic17\", \"Topic17\", \"Topic17\", \"Topic17\", \"Topic17\", \"Topic17\", \"Topic17\", \"Topic17\", \"Topic17\", \"Topic17\", \"Topic17\", \"Topic17\", \"Topic17\", \"Topic17\", \"Topic17\", \"Topic17\", \"Topic17\", \"Topic17\", \"Topic18\", \"Topic18\", \"Topic18\", \"Topic18\", \"Topic18\", \"Topic18\", \"Topic18\", \"Topic18\", \"Topic18\", \"Topic18\", \"Topic18\", \"Topic18\", \"Topic18\", \"Topic18\", \"Topic18\", \"Topic18\", \"Topic18\", \"Topic18\", \"Topic18\", \"Topic18\", \"Topic18\", \"Topic18\", \"Topic18\", \"Topic18\", \"Topic18\", \"Topic18\", \"Topic18\", \"Topic18\", \"Topic18\", \"Topic18\", \"Topic18\", \"Topic18\", \"Topic18\", \"Topic18\", \"Topic18\", \"Topic18\", \"Topic18\", \"Topic18\", \"Topic18\", \"Topic18\", \"Topic18\", \"Topic18\", \"Topic18\", \"Topic18\", \"Topic18\", \"Topic18\", \"Topic18\", \"Topic18\", \"Topic18\", \"Topic18\", \"Topic18\", \"Topic19\", \"Topic19\", \"Topic19\", \"Topic19\", \"Topic19\", \"Topic19\", \"Topic19\", \"Topic19\", \"Topic19\", \"Topic19\", \"Topic19\", \"Topic19\", \"Topic19\", \"Topic19\", \"Topic19\", \"Topic19\", \"Topic19\", \"Topic19\", \"Topic19\", \"Topic19\", \"Topic19\", \"Topic19\", \"Topic19\", \"Topic19\", \"Topic19\", \"Topic19\", \"Topic19\", \"Topic19\", \"Topic19\", \"Topic19\", \"Topic19\", \"Topic19\", \"Topic19\", \"Topic19\", \"Topic19\", \"Topic19\", \"Topic19\", \"Topic19\", \"Topic19\", \"Topic19\", \"Topic19\", \"Topic19\", \"Topic19\", \"Topic19\", \"Topic19\", \"Topic19\", \"Topic19\", \"Topic19\", \"Topic19\", \"Topic20\", \"Topic20\", \"Topic20\", \"Topic20\", \"Topic20\", \"Topic20\", \"Topic20\", \"Topic20\", \"Topic20\", \"Topic20\", \"Topic20\", \"Topic20\", \"Topic20\", \"Topic20\", \"Topic20\", \"Topic20\", \"Topic20\", \"Topic20\", \"Topic20\", \"Topic20\", \"Topic20\", \"Topic20\", \"Topic20\", \"Topic20\", \"Topic20\", \"Topic20\", \"Topic20\", \"Topic20\", \"Topic20\", \"Topic20\", \"Topic20\", \"Topic20\", \"Topic20\", \"Topic20\", \"Topic20\", \"Topic20\", \"Topic20\", \"Topic20\", \"Topic20\", \"Topic20\", \"Topic20\", \"Topic20\", \"Topic20\", \"Topic20\", \"Topic20\", \"Topic20\", \"Topic20\", \"Topic20\", \"Topic20\", \"Topic20\", \"Topic20\"], \"Freq\": [2875.0, 6749.0, 2292.0, 2870.0, 2829.0, 2661.0, 2099.0, 3714.0, 1731.0, 2402.0, 1844.0, 1844.0, 1624.0, 1779.0, 2009.0, 2329.0, 1652.0, 2153.0, 1580.0, 2210.0, 2631.0, 1920.0, 1490.0, 1155.0, 1155.0, 1193.0, 1056.0, 1605.0, 1395.0, 1026.0, 792.9713745117188, 1008.8053588867188, 286.52001953125, 217.56784057617188, 200.76548767089844, 200.47760009765625, 189.16534423828125, 171.58436584472656, 146.2349853515625, 142.91322326660156, 138.36648559570312, 136.2649688720703, 134.23101806640625, 125.88581085205078, 125.88581085205078, 125.88581085205078, 114.79756927490234, 110.89839172363281, 110.0985336303711, 99.2598648071289, 95.46320343017578, 95.11837768554688, 93.42453002929688, 92.37467193603516, 86.84658813476562, 85.04025268554688, 82.85579681396484, 81.83161163330078, 80.08869934082031, 77.21263122558594, 2589.18359375, 2416.935302734375, 306.2274169921875, 1751.97509765625, 1538.7447509765625, 1848.53173828125, 701.5928955078125, 500.1890869140625, 1861.4208984375, 239.89161682128906, 235.07431030273438, 184.26425170898438, 317.0762023925781, 211.70260620117188, 949.8392333984375, 321.8274230957031, 429.44671630859375, 501.3822326660156, 404.4494934082031, 246.5094451904297, 517.0792846679688, 298.75238037109375, 354.1619873046875, 188.54188537597656, 1651.1007080078125, 1579.293701171875, 686.667724609375, 680.396728515625, 658.4141235351562, 565.4410400390625, 339.2346496582031, 286.87109375, 203.36129760742188, 200.3887176513672, 191.4350128173828, 185.453857421875, 155.8335723876953, 152.25865173339844, 148.58383178710938, 134.68919372558594, 126.85491180419922, 122.48489379882812, 113.46375274658203, 107.71548461914062, 107.71548461914062, 105.59003448486328, 101.14977264404297, 92.08847045898438, 91.10282135009766, 88.15576171875, 85.14734649658203, 84.75788879394531, 81.22472381591797, 73.8790283203125, 449.9371032714844, 1064.04052734375, 1064.04052734375, 1150.9078369140625, 307.55364990234375, 1564.3128662109375, 172.86390686035156, 325.0306091308594, 638.1716918945312, 305.3308410644531, 277.1401672363281, 336.00091552734375, 557.951416015625, 386.30023193359375, 332.8222961425781, 413.50335693359375, 214.6189422607422, 317.298095703125, 372.5081481933594, 337.8851623535156, 324.38916015625, 296.8066101074219, 226.3693084716797, 2291.783447265625, 2098.62744140625, 1778.6336669921875, 817.5681762695312, 697.2354736328125, 634.865966796875, 460.09381103515625, 444.9341125488281, 394.6261291503906, 320.06903076171875, 287.5259094238281, 222.32431030273438, 208.85903930664062, 208.2335968017578, 208.11700439453125, 198.383056640625, 173.55221557617188, 164.65650939941406, 145.34432983398438, 132.9766082763672, 121.9271469116211, 115.25865936279297, 108.17556762695312, 105.56157684326172, 104.63536834716797, 104.63536834716797, 102.94020080566406, 102.52909088134766, 101.3094482421875, 99.98590087890625, 1074.1884765625, 1008.834228515625, 560.831298828125, 346.7602844238281, 333.85357666015625, 380.5188293457031, 299.3264465332031, 274.08087158203125, 353.45037841796875, 402.3600158691406, 291.12542724609375, 458.4812927246094, 314.75335693359375, 402.3421325683594, 306.2497863769531, 243.3955841064453, 253.1682891845703, 219.359619140625, 1843.8619384765625, 1843.8619384765625, 943.6149291992188, 913.1637573242188, 467.1455383300781, 466.3001403808594, 459.7906188964844, 420.4530944824219, 397.2080993652344, 380.26226806640625, 278.08404541015625, 184.253662109375, 181.6205596923828, 168.60708618164062, 168.2286834716797, 150.7308807373047, 145.2216033935547, 138.81008911132812, 136.77261352539062, 134.0946044921875, 131.14178466796875, 126.2186279296875, 119.86428833007812, 119.86428833007812, 116.507568359375, 108.77120971679688, 107.80758666992188, 106.25613403320312, 91.90581512451172, 91.81704711914062, 91.81704711914062, 706.1594848632812, 476.27813720703125, 1010.8931274414062, 773.3672485351562, 593.3247680664062, 505.9541015625, 198.88937377929688, 577.1339721679688, 219.07205200195312, 698.0236206054688, 222.43203735351562, 204.7866668701172, 178.19351196289062, 203.93072509765625, 374.165283203125, 229.38949584960938, 217.48440551757812, 306.1789245605469, 283.8673095703125, 253.1417694091797, 235.52474975585938, 211.91554260253906, 209.80677795410156, 197.15481567382812, 194.8558349609375, 188.12783813476562, 183.14706420898438, 180.10848999023438, 170.6259002685547, 164.983642578125, 164.3626708984375, 147.96774291992188, 141.60862731933594, 135.64718627929688, 125.77364349365234, 120.97907257080078, 111.86507415771484, 111.86507415771484, 109.02552795410156, 105.14429473876953, 104.99957275390625, 101.25247955322266, 99.46287536621094, 91.147705078125, 84.29561614990234, 83.81745147705078, 82.78430938720703, 82.78430938720703, 765.3392944335938, 448.64874267578125, 298.650146484375, 1132.0592041015625, 458.6161193847656, 556.377197265625, 260.2894287109375, 864.32568359375, 306.5673828125, 317.90362548828125, 1592.832763671875, 398.6478271484375, 364.4627685546875, 774.8847045898438, 382.21392822265625, 272.2852478027344, 324.5173034667969, 243.8015594482422, 443.17718505859375, 256.4811706542969, 224.88124084472656, 325.8380126953125, 303.3191223144531, 256.7423400878906, 219.9964599609375, 212.38973999023438, 568.5481567382812, 486.1279296875, 486.1279296875, 486.1279296875, 429.5337219238281, 393.63427734375, 393.63427734375, 355.81280517578125, 355.81280517578125, 318.8733825683594, 300.841796875, 302.87957763671875, 294.28924560546875, 290.3218688964844, 284.08856201171875, 256.9191589355469, 217.21580505371094, 216.06613159179688, 216.06613159179688, 200.41822814941406, 200.24700927734375, 188.91465759277344, 158.22311401367188, 153.15899658203125, 150.92684936523438, 126.04505157470703, 109.71041870117188, 107.26303100585938, 87.78167724609375, 87.75048828125, 915.2490844726562, 322.1092529296875, 299.0884094238281, 268.18646240234375, 656.91943359375, 839.5744018554688, 398.13116455078125, 600.7550048828125, 284.8723449707031, 279.171875, 544.400146484375, 351.431396484375, 267.7654113769531, 349.38787841796875, 307.333984375, 323.49835205078125, 314.9254455566406, 598.6488647460938, 318.9383239746094, 318.9383239746094, 317.8992919921875, 309.22210693359375, 307.4088134765625, 239.51817321777344, 228.35594177246094, 218.1934051513672, 218.1934051513672, 207.95620727539062, 207.95620727539062, 194.9642791748047, 194.4105224609375, 187.90318298339844, 180.71029663085938, 174.4014434814453, 162.78379821777344, 151.31655883789062, 128.36842346191406, 115.73986053466797, 108.19972229003906, 107.77255249023438, 107.47880554199219, 106.67752075195312, 105.75057220458984, 105.75057220458984, 102.09505462646484, 100.62684631347656, 98.82669830322266, 396.1276550292969, 274.370361328125, 609.2509155273438, 392.1324768066406, 403.603759765625, 425.68572998046875, 212.80250549316406, 519.716552734375, 673.7548217773438, 469.3477478027344, 897.97216796875, 440.4787902832031, 343.06854248046875, 393.2862243652344, 596.9196166992188, 266.65594482421875, 339.4443359375, 363.47613525390625, 386.0295715332031, 267.529296875, 218.8625946044922, 233.06716918945312, 1055.5882568359375, 827.5565795898438, 449.6419372558594, 449.6419372558594, 438.30853271484375, 288.75103759765625, 283.4960021972656, 232.88848876953125, 193.2826690673828, 177.80776977539062, 154.15676879882812, 152.81349182128906, 152.81349182128906, 141.92494201660156, 135.56979370117188, 134.9605712890625, 126.734619140625, 116.42315673828125, 114.14420318603516, 106.04203796386719, 105.26478576660156, 95.87252044677734, 91.623779296875, 86.56512451171875, 80.57349395751953, 78.01448822021484, 78.01448822021484, 76.71623229980469, 75.30599975585938, 69.5839614868164, 717.4110107421875, 1660.2418212890625, 505.9130554199219, 376.15496826171875, 407.6925354003906, 180.80978393554688, 232.99801635742188, 216.8099365234375, 213.18162536621094, 710.3081665039062, 1014.3538208007812, 341.5658874511719, 1033.453369140625, 331.53607177734375, 407.8365173339844, 160.0806121826172, 206.63442993164062, 178.87266540527344, 189.30506896972656, 160.85269165039062, 161.8395233154297, 846.3751831054688, 626.6708374023438, 331.8798522949219, 331.8798522949219, 304.8821716308594, 266.8281555175781, 204.69244384765625, 193.69461059570312, 191.52342224121094, 147.91893005371094, 147.22666931152344, 127.5644760131836, 117.18013000488281, 111.10230255126953, 109.80033874511719, 109.34564971923828, 109.34564971923828, 104.89358520507812, 99.52901458740234, 97.15245056152344, 84.89815521240234, 84.54859924316406, 83.27597045898438, 78.05583190917969, 76.0182876586914, 71.61373138427734, 70.29408264160156, 68.5398941040039, 65.48381042480469, 64.98600769042969, 537.7723999023438, 314.507568359375, 278.3561706542969, 422.6524353027344, 535.1767578125, 1217.9954833984375, 533.1629638671875, 227.955078125, 164.0264434814453, 1071.1229248046875, 435.6199645996094, 200.94651794433594, 221.33148193359375, 343.9214782714844, 311.3294982910156, 265.4136962890625, 163.01678466796875, 171.65904235839844, 276.7439880371094, 167.4345703125, 163.01678466796875, 390.2874450683594, 370.35400390625, 368.8913879394531, 326.9884338378906, 298.58660888671875, 268.29571533203125, 253.68002319335938, 236.1293487548828, 214.3413848876953, 206.45375061035156, 191.9362030029297, 165.2914581298828, 164.8216094970703, 164.42239379882812, 161.76596069335938, 156.69017028808594, 124.01959991455078, 120.44791412353516, 117.39673614501953, 113.98764038085938, 113.9322509765625, 108.71429443359375, 105.03239440917969, 103.34988403320312, 96.65254211425781, 93.12049102783203, 90.0306167602539, 89.34693908691406, 87.59744262695312, 86.61554718017578, 704.0633544921875, 459.49346923828125, 290.14697265625, 412.269775390625, 326.20416259765625, 260.3685607910156, 285.1601867675781, 1018.0570678710938, 239.45494079589844, 191.6727752685547, 464.6156005859375, 211.0524139404297, 384.0523986816406, 379.5755920410156, 230.9688262939453, 296.4295349121094, 191.50454711914062, 195.97720336914062, 203.25653076171875, 432.7109680175781, 432.7109680175781, 304.6593017578125, 260.3944396972656, 204.97879028320312, 198.92056274414062, 177.90904235839844, 177.2298126220703, 171.7510528564453, 164.60365295410156, 164.60365295410156, 173.3182373046875, 128.0956573486328, 123.85042572021484, 120.47380065917969, 117.81891632080078, 117.81891632080078, 107.928955078125, 102.33304595947266, 100.6404037475586, 98.04922485351562, 90.73233032226562, 88.46014404296875, 81.9959487915039, 80.24586486816406, 76.70358276367188, 70.43482208251953, 67.4234390258789, 66.77316284179688, 64.036376953125, 503.5452880859375, 295.4426574707031, 150.4385223388672, 171.7510528564453, 1528.6138916015625, 407.4113464355469, 174.7572479248047, 303.79052734375, 207.51278686523438, 810.954345703125, 159.06431579589844, 356.2159423828125, 365.87310791015625, 721.7706909179688, 205.97439575195312, 197.02520751953125, 212.1443634033203, 268.5570068359375, 180.27554321289062, 171.7510528564453, 207.06968688964844, 168.3732147216797, 169.3049774169922, 1730.8009033203125, 1623.2431640625, 1154.6414794921875, 1154.6414794921875, 626.5968627929688, 450.08203125, 228.18185424804688, 215.7598419189453, 206.1644744873047, 191.53732299804688, 183.5159912109375, 179.50155639648438, 170.6384735107422, 165.91644287109375, 144.67591857910156, 144.6143341064453, 122.36624145507812, 110.92081451416016, 94.07424926757812, 91.14327239990234, 90.57933807373047, 89.889892578125, 89.889892578125, 88.63433074951172, 88.28520202636719, 84.98230743408203, 77.54332733154297, 73.72137451171875, 72.30696105957031, 69.5712661743164, 430.8501281738281, 1014.58056640625, 266.43646240234375, 172.70372009277344, 294.79449462890625, 139.01499938964844, 237.46937561035156, 155.7997283935547, 107.5513687133789, 198.87632751464844, 101.30420684814453, 121.08987426757812, 155.01890563964844, 131.08090209960938, 150.76559448242188, 140.88894653320312, 122.64036560058594, 338.9222106933594, 271.9188232421875, 240.4253387451172, 221.80999755859375, 213.73373413085938, 207.50643920898438, 205.4313201904297, 151.06336975097656, 125.07832336425781, 124.07154846191406, 118.73094177246094, 112.68936157226562, 94.74716186523438, 90.44085693359375, 87.20761108398438, 84.81168365478516, 84.61884307861328, 83.59935760498047, 83.59935760498047, 83.59935760498047, 82.00641632080078, 78.26399993896484, 77.5740966796875, 77.34748840332031, 75.2757797241211, 69.94750213623047, 69.5258560180664, 66.40924072265625, 65.56092834472656, 60.17399215698242, 363.0451965332031, 210.71206665039062, 401.4209289550781, 171.58023071289062, 213.99563598632812, 941.3863525390625, 507.2895812988281, 213.19036865234375, 1259.893798828125, 941.0796508789062, 114.1310806274414, 1147.114501953125, 113.33576965332031, 150.9290313720703, 285.2314758300781, 144.34619140625, 373.46923828125, 259.5444030761719, 200.9445037841797, 289.980712890625, 171.30877685546875, 312.51959228515625, 190.36456298828125, 276.9924011230469, 225.53399658203125, 184.2677459716797, 189.7294158935547, 651.4899291992188, 553.9141235351562, 500.680908203125, 500.680908203125, 500.680908203125, 460.678955078125, 460.678955078125, 460.678955078125, 460.678955078125, 398.0078125, 386.8506164550781, 341.5984802246094, 334.4701843261719, 303.28790283203125, 220.3920135498047, 188.69346618652344, 163.14405822753906, 137.74075317382812, 128.8736114501953, 127.53465270996094, 115.54632568359375, 112.9316177368164, 109.09608459472656, 99.7719497680664, 129.85206604003906, 82.6644058227539, 81.83187866210938, 81.78193664550781, 80.56623077392578, 79.98342895507812, 135.0167999267578, 323.39031982421875, 335.0874938964844, 196.92039489746094, 287.2945251464844, 255.95005798339844, 280.3448791503906, 342.4599304199219, 212.4182586669922, 341.2052001953125, 305.7637023925781, 245.20204162597656, 145.31040954589844, 214.1247100830078, 282.5998229980469, 228.4296112060547, 326.61322021484375, 250.91751098632812, 232.74664306640625, 232.5533905029297, 231.06463623046875, 225.2747039794922, 185.89706420898438, 179.05638122558594, 132.50343322753906, 130.8939208984375, 126.35706329345703, 103.39414978027344, 103.39414978027344, 101.7267074584961, 101.71696472167969, 100.54124450683594, 100.00885772705078, 97.1893081665039, 94.2557601928711, 92.68370819091797, 89.91175079345703, 88.11539459228516, 86.93572998046875, 84.93710327148438, 83.08865356445312, 82.51339721679688, 75.10469818115234, 74.54338836669922, 74.26961517333984, 73.0993881225586, 506.4663391113281, 200.09217834472656, 344.4867858886719, 122.9384536743164, 176.68789672851562, 377.3638000488281, 400.4284362792969, 269.867431640625, 132.55191040039062, 164.64559936523438, 160.77182006835938, 147.69989013671875, 190.7539825439453, 309.933349609375, 147.5650177001953, 262.9145202636719, 155.4728240966797, 128.4899444580078, 163.35580444335938, 166.4114532470703, 140.09523010253906, 695.18017578125, 347.61627197265625, 347.61627197265625, 187.49124145507812, 179.94992065429688, 161.97174072265625, 157.87435913085938, 133.17852783203125, 118.64476013183594, 113.21734619140625, 102.97664642333984, 102.4239273071289, 99.48245239257812, 92.24824523925781, 91.88758850097656, 91.23670959472656, 90.25236511230469, 87.70631408691406, 82.1730728149414, 76.5385971069336, 75.80426025390625, 73.40235137939453, 70.99992370605469, 69.1792984008789, 67.6252212524414, 64.35980987548828, 64.00345611572266, 61.5368766784668, 60.7390251159668, 60.731719970703125, 598.3079833984375, 194.31549072265625, 413.1933898925781, 586.21484375, 131.91014099121094, 168.23887634277344, 476.7493896484375, 255.57933044433594, 146.06655883789062, 799.0504760742188, 301.433837890625, 298.6053161621094, 141.8856658935547, 149.00767517089844, 552.4031372070312, 228.6248779296875, 137.59405517578125, 249.75746154785156, 173.23475646972656, 223.0003204345703, 225.91761779785156, 274.54119873046875, 145.40194702148438, 146.2053985595703, 630.893310546875, 396.31744384765625, 282.6764831542969, 250.52748107910156, 227.49783325195312, 207.47486877441406, 200.19569396972656, 196.07884216308594, 155.85008239746094, 138.1423797607422, 136.86105346679688, 136.1996307373047, 123.7684097290039, 123.53350830078125, 110.28260803222656, 109.9300537109375, 109.88102722167969, 105.02615356445312, 103.15562438964844, 92.95369720458984, 84.8818359375, 78.58147430419922, 75.34622955322266, 73.66532135009766, 69.37552642822266, 66.37843322753906, 65.22529602050781, 64.65970611572266, 62.158836364746094, 56.269691467285156, 901.0518188476562, 160.32681274414062, 273.15130615234375, 138.07369995117188, 489.9087219238281, 94.76725006103516, 418.6458435058594, 704.4646606445312, 136.67698669433594, 126.55887603759766, 230.55149841308594, 242.97462463378906, 218.95526123046875, 180.2813720703125, 234.65335083007812, 370.607421875, 237.13771057128906, 149.6065216064453, 155.27255249023438, 192.12159729003906, 212.11300659179688, 243.83990478515625, 158.1583251953125, 160.18435668945312, 321.41668701171875, 311.6407470703125, 302.4753723144531, 228.4951629638672, 208.04635620117188, 201.68038940429688, 198.10601806640625, 166.0745086669922, 162.1941680908203, 161.6334228515625, 157.17724609375, 155.33055114746094, 151.07565307617188, 150.44766235351562, 150.44766235351562, 134.47048950195312, 127.68383026123047, 125.2414321899414, 109.75328063964844, 97.0431900024414, 96.5065689086914, 92.78742980957031, 92.69319152832031, 82.010498046875, 82.010498046875, 82.010498046875, 77.71261596679688, 73.59893035888672, 72.2203598022461, 66.3231201171875, 299.34686279296875, 225.35487365722656, 266.5873718261719, 136.9689483642578, 207.6003875732422, 156.45387268066406, 129.6615447998047, 220.44227600097656, 145.97128295898438, 263.3128967285156, 373.2945556640625, 182.556640625, 192.1038055419922, 279.3829345703125, 179.91940307617188, 215.60714721679688, 176.57334899902344, 161.7637481689453, 190.3621826171875, 181.40426635742188, 158.56483459472656, 604.9957275390625, 268.3905334472656, 257.3336486816406, 256.77801513671875, 195.37344360351562, 175.07806396484375, 173.37722778320312, 171.3765411376953, 165.05538940429688, 161.031494140625, 153.91111755371094, 140.91627502441406, 136.43408203125, 136.43408203125, 130.09080505371094, 124.63265228271484, 118.85478210449219, 115.09505462646484, 115.09505462646484, 112.56200408935547, 100.20457458496094, 98.07353210449219, 90.35712432861328, 90.09857940673828, 88.495361328125, 87.91832733154297, 87.91832733154297, 83.16305541992188, 72.7302474975586, 71.68152618408203, 193.82896423339844, 244.65818786621094, 549.2398681640625, 301.60015869140625, 202.27069091796875, 206.68724060058594, 221.29635620117188, 217.42343139648438, 245.74684143066406, 156.04342651367188, 144.8472900390625, 181.5599365234375, 138.84262084960938, 148.99217224121094, 155.2443084716797, 172.34132385253906, 177.1759490966797, 151.9095916748047, 141.91258239746094, 701.5958862304688, 583.24365234375, 430.39276123046875, 228.51751708984375, 213.67893981933594, 193.9705810546875, 181.28968811035156, 146.2278594970703, 119.61017608642578, 115.92383575439453, 104.27598571777344, 103.57655334472656, 102.10897064208984, 101.77071380615234, 95.75634002685547, 89.17670440673828, 87.34278106689453, 81.00245666503906, 73.14439392089844, 71.14923858642578, 60.349090576171875, 54.13584518432617, 53.068870544433594, 53.068870544433594, 52.95062255859375, 47.33061218261719, 46.50128173828125, 46.50128173828125, 44.828033447265625, 41.45256042480469, 166.68807983398438, 183.569580078125, 307.2090148925781, 657.3780517578125, 217.60708618164062, 257.1194152832031, 241.18182373046875, 478.5100402832031, 92.45682525634766, 286.7922668457031, 125.26254272460938, 111.78886413574219, 152.96383666992188, 317.9726257324219, 285.5487060546875, 157.4228515625, 163.84437561035156, 141.13851928710938, 117.41712951660156, 106.75044250488281, 104.63139343261719], \"Term\": [\"state\", \"isi\", \"kim\", \"islamic\", \"apple\", \"foley\", \"jong\", \"u\", \"steve\", \"james\", \"haram\", \"boko\", \"job\", \"un\", \"leader\", \"watch\", \"brown\", \"journalist\", \"audio\", \"michael\", \"video\", \"american\", \"girl\", \"christian\", \"bale\", \"play\", \"al\", \"militant\", \"shooting\", \"student\", \"beheads\", \"wright\", \"n\", \"college\", \"fly\", \"executed\", \"age\", \"fabricated\", \"rajasthan\", \"translate\", \"developer\", \"evil\", \"499\", \"dam\", \"gaza\", \"israel\", \"game\", \"bogus\", \"sharing\", \"flood\", \"awesome\", \"52\", \"theory\", \"monitoring\", \"britain\", \"999\", \"resignation\", \"2012\", \"dupe\", \"hollywood\", \"state\", \"islamic\", \"training\", \"journalist\", \"american\", \"james\", \"beheaded\", \"photojournalist\", \"foley\", \"pilot\", \"jet\", \"apparently\", \"isil\", \"message\", \"isi\", \"iraq\", \"missing\", \"video\", \"reportedly\", \"breaking\", \"u\", \"kidnapped\", \"claim\", \"fighter\", \"brown\", \"audio\", \"recording\", \"mohammed\", \"emwazi\", \"named\", \"vice\", \"capture\", \"vega\", \"tip\", \"paid\", \"ceo\", \"identity\", \"shane\", \"pizza\", \"graffiti\", \"instead\", \"six\", \"redwood\", \"pounder\", \"quarter\", \"suggests\", \"ferguson\", \"park\", \"mourn\", \"explosion\", \"comment\", \"giggling\", \"account\", \"kidnap\", \"cnn\", \"john\", \"jihadi\", \"shooting\", \"dinner\", \"michael\", \"revealed\", \"west\", \"alleged\", \"killer\", \"app\", \"300\", \"shot\", \"identified\", \"london\", \"000\", \"google\", \"medium\", \"new\", \"man\", \"isi\", \"report\", \"reportedly\", \"kim\", \"jong\", \"un\", \"nicaragua\", \"ankle\", \"korea\", \"korean\", \"crater\", \"managua\", \"yo\", \"memorial\", \"heaven\", \"charge\", \"dictator\", \"fractured\", \"stop\", \"impact\", \"hill\", \"meteor\", \"francis\", \"foot\", \"cheese\", \"fat\", \"cause\", \"snake\", \"wine\", \"ill\", \"including\", \"railway\", \"mysterious\", \"meteorite\", \"north\", \"sister\", \"surgery\", \"leaf\", \"capital\", \"gunman\", \"small\", \"parliament\", \"soldier\", \"strike\", \"shot\", \"war\", \"say\", \"leader\", \"shooting\", \"report\", \"ottawa\", \"haram\", \"boko\", \"ceasefire\", \"nigeria\", \"truck\", \"truce\", \"taliban\", \"plumber\", \"schoolgirl\", \"nigerian\", \"released\", \"free\", \"helmet\", \"survives\", \"scottish\", \"hope\", \"powerful\", \"question\", \"headshot\", \"ever\", \"hebdo\", \"breached\", \"constipated\", \"goldfish\", \"line\", \"saved\", \"agreed\", \"massive\", \"prisoner\", \"struck\", \"talking\", \"denies\", \"deal\", \"girl\", \"kidnapped\", \"release\", \"texas\", \"cease\", \"attack\", \"reported\", \"say\", \"marine\", \"despite\", \"syrian\", \"fire\", \"claim\", \"official\", \"syria\", \"david\", \"snowman\", \"sex\", \"issue\", \"cleric\", \"island\", \"paul\", \"across\", \"selling\", \"getting\", \"capsule\", \"fatwa\", \"bugatti\", \"mortgage\", \"rep\", \"veyron\", \"ten\", \"tear\", \"bin\", \"kayla\", \"mueller\", \"castrate\", \"bed\", \"investigates\", \"threat\", \"unearthed\", \"crisis\", \"earth\", \"1795\", \"paint\", \"vandal\", \"penis\", \"contracted\", \"haines\", \"fighter\", \"iraqi\", \"border\", \"chop\", \"ebola\", \"least\", \"girlfriend\", \"isi\", \"caught\", \"hostage\", \"claim\", \"medium\", \"saudi\", \"texas\", \"cut\", \"report\", \"god\", \"priest\", \"man\", \"u\", \"militant\", \"female\", \"10\", \"skin\", \"pumpkin\", \"spice\", \"condom\", \"burrowed\", \"zehaf\", \"bibeau\", \"culkin\", \"macaulay\", \"scar\", \"tropical\", \"rapist\", \"yemen\", \"angry\", \"burrow\", \"facebook\", \"meat\", \"luke\", \"somers\", \"cleaver\", \"appendix\", \"durex\", \"thing\", \"shooter\", \"hero\", \"tb\", \"butcher\", \"untrue\", \"ministry\", \"nearly\", \"spider\", \"rescue\", \"attempt\", \"actor\", \"death\", \"dead\", \"ottawa\", \"hoax\", \"mob\", \"4\", \"man\", \"killed\", \"case\", \"michael\", \"rumor\", \"say\", \"report\", \"homeless\", \"rosenberg\", \"gill\", \"scotland\", \"2015\", \"spends\", \"io\", \"mushroom\", \"icloud\", \"8\", \"buckingham\", \"palace\", \"magic\", \"kobani\", \"safe\", \"food\", \"document\", \"bug\", \"surprise\", \"us\", \"fighting\", \"quarantined\", \"secretly\", \"gift\", \"eyewitness\", \"gravity\", \"decrease\", \"purport\", \"summer\", \"ypg\", \"israeli\", \"libyan\", \"11\", \"restaurant\", \"9\", \"100\", \"week\", \"captured\", \"woman\", \"canadian\", \"video\", \"show\", \"fear\", \"beheading\", \"man\", \"viral\", \"missing\", \"report\", \"isi\", \"new\", \"see\", \"say\", \"al\", \"wife\", \"bakr\", \"abu\", \"drone\", \"7\", \"detained\", \"predator\", \"come\", \"massacre\", \"cross\", \"domestic\", \"espn\", \"town\", \"panel\", \"shoot\", \"somali\", \"debunked\", \"entering\", \"droppings\", \"shabab\", \"tonight\", \"fault\", \"looking\", \"hearing\", \"conde\", \"nast\", \"circling\", \"patrolling\", \"threatens\", \"baghdadi\", \"leader\", \"lebanon\", \"airstrike\", \"terrorist\", \"violence\", \"somalia\", \"congressman\", \"hit\", \"killed\", \"u\", \"mexico\", \"isi\", \"border\", \"say\", \"problem\", \"syria\", \"son\", \"woman\", \"iraq\", \"reportedly\", \"rat\", \"vogue\", \"wintour\", \"anna\", \"stainless\", \"infestation\", \"feature\", \"trade\", \"cost\", \"much\", \"teenager\", \"planning\", \"lynch\", \"cuba\", \"spent\", \"tom\", \"brokaw\", \"nightly\", \"due\", \"pricing\", \"sneeze\", \"catching\", \"variant\", \"taking\", \"reserve\", \"sign\", \"ebay\", \"16\", \"samsung\", \"la\", \"gold\", \"detroit\", \"edition\", \"office\", \"batmobile\", \"watch\", \"stolen\", \"want\", \"rape\", \"apple\", \"000\", \"v\", \"world\", \"new\", \"reportedly\", \"rumor\", \"superman\", \"allegedly\", \"man\", \"10\", \"batman\", \"iphone\", \"500\", \"comcast\", \"airdrop\", \"phelps\", \"hairgate\", \"hand\", \"hair\", \"chlorine\", \"darkness\", \"user\", \"thought\", \"airdropped\", \"gas\", \"december\", \"priced\", \"pause\", \"chemical\", \"intersex\", \"total\", \"detail\", \"past\", \"feb\", \"device\", \"attorney\", \"someone\", \"debut\", \"41\", \"toy\", \"self\", \"weapon\", \"6\", \"kurd\", \"steel\", \"got\", \"customer\", \"reveals\", \"isi\", \"fired\", \"born\", \"u\", \"girlfriend\", \"claim\", \"say\", \"soldier\", \"michael\", \"iraqi\", \"day\", \"militant\", \"rogen\", \"seth\", \"wozniak\", \"founder\", \"co\", \"king\", \"center\", \"hbo\", \"dawn\", \"snyder\", \"zack\", \"streaming\", \"woz\", \"apps\", \"platinum\", \"jose\", \"canseco\", \"skipped\", \"employee\", \"shower\", \"smartwatch\", \"march\", \"working\", \"raised\", \"forget\", \"personally\", \"abdullah\", \"lied\", \"monster\", \"storage\", \"service\", \"work\", \"probably\", \"justice\", \"apple\", \"launch\", \"model\", \"set\", \"secret\", \"watch\", \"month\", \"could\", \"stolen\", \"report\", \"batman\", \"tv\", \"life\", \"batmobile\", \"v\", \"superman\", \"rumor\", \"star\", \"000\", \"steve\", \"job\", \"christian\", \"bale\", \"biopic\", \"tiger\", \"nelson\", \"upcoming\", \"testicle\", \"drug\", \"exclusive\", \"judd\", \"pga\", \"twin\", \"control\", \"sony\", \"naked\", \"husband\", \"price\", \"suspension\", \"pull\", \"boyle\", \"danny\", \"agent\", \"suspended\", \"castrated\", \"hospitalized\", \"quits\", \"anyway\", \"closer\", \"wood\", \"play\", \"movie\", \"meet\", \"died\", \"400\", \"talk\", \"pay\", \"sale\", \"god\", \"kid\", \"test\", \"woman\", \"son\", \"claim\", \"report\", \"cut\", \"putin\", \"bird\", \"behead\", \"paradise\", \"ex\", \"vladimir\", \"holding\", \"eye\", \"main\", \"creature\", \"shabaab\", \"pound\", \"motorcade\", \"scare\", \"steal\", \"horrific\", \"poop\", \"ahmed\", \"abdi\", \"godane\", \"warning\", \"search\", \"investigating\", \"banned\", \"accidental\", \"italian\", \"ended\", \"280\", \"huge\", \"animal\", \"chief\", \"tell\", \"go\", \"execution\", \"confirmed\", \"militant\", \"news\", \"pope\", \"u\", \"video\", \"graphic\", \"isi\", \"eating\", \"catfish\", \"show\", \"daughter\", \"ebola\", \"official\", \"open\", \"killed\", \"allegedly\", \"journalist\", \"strike\", \"american\", \"death\", \"fake\", \"dog\", \"big\", \"house\", \"white\", \"fence\", \"jumper\", \"sugarhill\", \"hank\", \"gang\", \"bank\", \"macbook\", \"57\", \"nun\", \"birth\", \"inch\", \"pain\", \"airstrikes\", \"ticket\", \"detainee\", \"farther\", \"red\", \"soon\", \"known\", \"retina\", \"far\", \"bowe\", \"intelligence\", \"deadly\", \"thinner\", \"western\", \"outbreak\", \"swapped\", \"12\", \"arrest\", \"york\", \"stomach\", \"give\", \"dy\", \"air\", \"suspect\", \"baby\", \"rapper\", \"made\", \"building\", \"may\", \"report\", \"apple\", \"teletubbies\", \"suitcase\", \"19\", \"station\", \"abandoned\", \"sun\", \"belonging\", \"lego\", \"jess\", \"website\", \"surfaced\", \"cesar\", \"millan\", \"injured\", \"ad\", \"whisperer\", \"gender\", \"weatherman\", \"1970s\", \"fisherman\", \"rumored\", \"freak\", \"contains\", \"voicemail\", \"important\", \"com\", \"wear\", \"pooped\", \"urinating\", \"supported\", \"banksy\", \"look\", \"parent\", \"catch\", \"still\", \"dog\", \"baby\", \"arrested\", \"absence\", \"christmas\", \"amazon\", \"tape\", \"old\", \"year\", \"letter\", \"caught\", \"first\", \"people\", \"found\", \"hoax\", \"news\", \"abdel\", \"bary\", \"majed\", \"michelle\", \"kansa\", \"went\", \"help\", \"awakens\", \"eat\", \"abrams\", \"investigation\", \"peeing\", \"chest\", \"blurred\", \"low\", \"j\", \"proposal\", \"place\", \"elaborate\", \"check\", \"sick\", \"television\", \"l\", \"fight\", \"jj\", \"refuse\", \"english\", \"marriage\", \"early\", \"meeting\", \"british\", \"plan\", \"obama\", \"rapper\", \"face\", \"killing\", \"beheading\", \"star\", \"aid\", \"foley\", \"city\", \"london\", \"date\", \"force\", \"james\", \"saudi\", \"spotted\", \"war\", \"born\", \"identified\", \"release\", \"report\", \"executioner\", \"tv\", \"mass\", \"grave\", \"graf\", \"really\", \"flying\", \"held\", \"russian\", \"indian\", \"opening\", \"43\", \"linked\", \"hold\", \"qaeda\", \"president\", \"seen\", \"university\", \"sacked\", \"later\", \"supply\", \"solved\", \"took\", \"totally\", \"statement\", \"ago\", \"jordanian\", \"newly\", \"pretty\", \"25\", \"28\", \"civil\", \"student\", \"love\", \"body\", \"told\", \"found\", \"per\", \"mexico\", \"missing\", \"tour\", \"inside\", \"police\", \"mexican\", \"find\", \"child\", \"group\", \"syria\", \"terror\", \"40\", \"among\", \"confirms\", \"year\", \"say\", \"airport\", \"militant\", \"rose\", \"like\", \"sergeant\", \"patient\", \"murder\", \"axl\", \"symptom\", \"magneto\", \"web\", \"idea\", \"cast\", \"youngest\", \"sneezing\", \"vickers\", \"kevin\", \"become\", \"father\", \"cub\", \"contact\", \"turned\", \"rise\", \"gave\", \"file\", \"tireless\", \"brave\", \"remembered\", \"land\", \"hour\", \"shopper\", \"superpower\", \"arm\", \"use\", \"doubt\", \"battle\", \"shock\", \"family\", \"electric\", \"make\", \"boston\", \"boy\", \"ebola\", \"hospital\", \"time\", \"man\", \"parliament\", \"dead\", \"god\", \"internet\", \"claim\", \"report\", \"isi\", \"million\", \"microsoft\", \"72\", \"high\", \"break\", \"robot\", \"valley\", \"possession\", \"sell\", \"campus\", \"silicon\", \"colorado\", \"plant\", \"robert\", \"car\", \"market\", \"try\", \"zeppelin\", \"led\", \"using\", \"mum\", \"need\", \"law\", \"pot\", \"nypd\", \"eggnog\", \"chugging\", \"800\", \"painted\", \"tribunal\", \"stock\", \"guard\", \"get\", \"marijuana\", \"teen\", \"store\", \"security\", \"take\", \"made\", \"head\", \"kfc\", \"school\", \"sniper\", \"marine\", \"photo\", \"new\", \"watch\", \"shot\", \"son\", \"pregnant\", \"trip\", \"seven\", \"married\", \"londoner\", \"rare\", \"start\", \"13\", \"forced\", \"bosnia\", \"extra\", \"alan\", \"net\", \"gunshot\", \"flown\", \"bosnian\", \"mask\", \"urgent\", \"deny\", \"herzegovina\", \"identifies\", \"agrees\", \"pack\", \"brat\", \"cawthorne\", \"briton\", \"timing\", \"verifies\", \"underage\", \"ignored\", \"style\", \"behind\", \"fall\", \"school\", \"young\", \"five\", \"female\", \"girl\", \"outraged\", \"day\", \"never\", \"14\", \"said\", \"islamic\", \"state\", \"parent\", \"claim\", \"dead\", \"killer\", \"god\", \"priest\"], \"Total\": [2875.0, 6749.0, 2292.0, 2870.0, 2829.0, 2661.0, 2099.0, 3714.0, 1731.0, 2402.0, 1844.0, 1844.0, 1624.0, 1779.0, 2009.0, 2329.0, 1652.0, 2153.0, 1580.0, 2210.0, 2631.0, 1920.0, 1490.0, 1155.0, 1155.0, 1193.0, 1056.0, 1605.0, 1395.0, 1026.0, 793.902099609375, 1010.4150390625, 287.4505920410156, 218.49844360351562, 201.6960906982422, 201.408203125, 190.095947265625, 172.5149688720703, 147.16558837890625, 143.8438262939453, 139.29708862304688, 137.19557189941406, 135.16162109375, 126.81642150878906, 126.81642150878906, 126.81642150878906, 115.72817993164062, 111.8290023803711, 111.02914428710938, 100.19047546386719, 96.39381408691406, 96.04898834228516, 94.35514068603516, 93.30528259277344, 87.7771987915039, 85.97086334228516, 83.78640747070312, 82.76222229003906, 81.0193099975586, 78.14324188232422, 2875.609375, 2870.520263671875, 330.3868408203125, 2153.193115234375, 1920.0804443359375, 2402.4296875, 853.6677856445312, 607.0961303710938, 2661.753173828125, 311.61798095703125, 317.5810852050781, 236.04147338867188, 619.0021362304688, 339.1402587890625, 6749.85205078125, 806.2402954101562, 1606.477294921875, 2631.412353515625, 1637.714111328125, 552.4520263671875, 3714.219970703125, 1212.0977783203125, 2966.220947265625, 1588.3785400390625, 1652.0457763671875, 1580.23876953125, 687.613037109375, 681.342041015625, 659.3594360351562, 566.3863525390625, 340.1798095703125, 287.8162536621094, 204.30650329589844, 201.33392333984375, 192.38021850585938, 186.39906311035156, 156.77877807617188, 153.203857421875, 149.52903747558594, 135.6343994140625, 127.80010986328125, 123.43009185791016, 114.40895080566406, 108.66068267822266, 108.66068267822266, 106.53523254394531, 102.094970703125, 93.0336685180664, 92.04801940917969, 89.10095977783203, 86.09254455566406, 85.70308685302734, 82.169921875, 74.82422637939453, 458.756103515625, 1192.396484375, 1192.396484375, 1395.20068359375, 353.4510498046875, 2210.976806640625, 192.45449829101562, 403.119873046875, 969.0252685546875, 423.63970947265625, 391.7771301269531, 512.6505126953125, 1308.9925537109375, 750.4120483398438, 632.3202514648438, 1027.247314453125, 303.62164306640625, 950.8851928710938, 1658.681396484375, 2625.597900390625, 6749.85205078125, 3599.400634765625, 1637.714111328125, 2292.73486328125, 2099.578857421875, 1779.5848388671875, 818.5194702148438, 698.186767578125, 635.8172607421875, 461.0450134277344, 445.88531494140625, 395.57733154296875, 321.0202331542969, 288.47711181640625, 223.27554321289062, 209.81027221679688, 209.18482971191406, 209.0682373046875, 199.33428955078125, 174.50344848632812, 165.6077423095703, 146.29556274414062, 133.92784118652344, 122.87837982177734, 116.20989227294922, 109.12680053710938, 106.51280975341797, 105.58660125732422, 105.58660125732422, 103.89143371582031, 103.4803237915039, 102.26068115234375, 100.9371337890625, 1147.5677490234375, 1097.6116943359375, 611.4970703125, 368.9075622558594, 364.82366943359375, 456.8219909667969, 373.7267761230469, 362.08544921875, 534.2696533203125, 769.7496948242188, 544.2711791992188, 1308.9925537109375, 742.3490600585938, 3260.857666015625, 2009.9476318359375, 1395.20068359375, 3599.400634765625, 618.389892578125, 1844.8004150390625, 1844.8004150390625, 944.5537719726562, 914.102294921875, 468.0839538574219, 467.2385559082031, 460.7290344238281, 421.3915100097656, 398.1465148925781, 381.20068359375, 279.0224609375, 185.19210815429688, 182.5590057373047, 169.5455322265625, 169.16712951660156, 151.66932678222656, 146.16004943847656, 139.74853515625, 137.7110595703125, 135.03305053710938, 132.08023071289062, 127.15707397460938, 120.802734375, 120.802734375, 117.44601440429688, 109.70965576171875, 108.74603271484375, 107.194580078125, 92.8442611694336, 92.7554931640625, 92.7554931640625, 761.644775390625, 517.0108642578125, 1490.288330078125, 1212.0977783203125, 916.0155639648438, 831.3645629882812, 239.48703002929688, 1064.5889892578125, 317.8460998535156, 3260.857666015625, 372.31585693359375, 316.8162841796875, 250.8083038330078, 407.5969543457031, 2966.220947265625, 936.4392700195312, 971.6738891601562, 307.1326904296875, 284.8210754394531, 254.14657592773438, 236.47854614257812, 212.8693389892578, 210.7605743408203, 198.10861206054688, 195.80963134765625, 189.08163452148438, 184.10086059570312, 181.06228637695312, 171.57969665527344, 165.93743896484375, 165.31646728515625, 148.92153930664062, 142.5624237060547, 136.60098266601562, 126.72743225097656, 121.932861328125, 112.81886291503906, 112.81886291503906, 109.97931671142578, 106.09808349609375, 105.95336151123047, 102.20626831054688, 100.41666412353516, 92.10149383544922, 85.24940490722656, 84.771240234375, 83.73809814453125, 83.73809814453125, 875.636962890625, 524.4300537109375, 338.9913635253906, 1588.3785400390625, 651.0285034179688, 960.8814086914062, 362.775634765625, 1960.649169921875, 481.3385009765625, 556.0473022460938, 6749.85205078125, 901.7048950195312, 790.4421997070312, 2966.220947265625, 950.8851928710938, 501.8114013671875, 831.3645629882812, 479.73773193359375, 3599.400634765625, 739.48388671875, 446.271484375, 2625.597900390625, 3714.219970703125, 1605.0439453125, 462.0786437988281, 431.9068908691406, 569.4951782226562, 487.0748596191406, 487.0748596191406, 487.0748596191406, 430.48065185546875, 394.5812072753906, 394.5812072753906, 356.7597351074219, 356.7597351074219, 319.8203125, 301.7887268066406, 303.8353271484375, 295.2361755371094, 291.28277587890625, 285.0354919433594, 257.8660888671875, 218.1627960205078, 217.01312255859375, 217.01312255859375, 201.36521911621094, 201.19400024414062, 189.8616485595703, 159.17010498046875, 154.10598754882812, 151.87384033203125, 126.99201965332031, 110.65738677978516, 108.20999908447266, 88.72864532470703, 88.69745635986328, 972.0379028320312, 350.74725341796875, 326.3807067871094, 326.3098449707031, 1094.3740234375, 1573.4093017578125, 618.389892578125, 1334.5660400390625, 437.2358703613281, 442.142822265625, 2625.597900390625, 1624.477294921875, 523.2652587890625, 2210.976806640625, 1193.232421875, 3260.857666015625, 3599.400634765625, 599.6015625, 319.890869140625, 319.890869140625, 318.8518371582031, 310.1746520996094, 308.3613586425781, 240.47079467773438, 229.30856323242188, 219.14602661132812, 219.14602661132812, 208.90882873535156, 208.90882873535156, 195.91690063476562, 195.36444091796875, 188.85580444335938, 181.6629180908203, 175.35406494140625, 163.73641967773438, 152.26918029785156, 129.321044921875, 116.69245910644531, 109.1523208618164, 108.72515106201172, 108.43359375, 107.63011932373047, 106.70317077636719, 106.70317077636719, 103.04765319824219, 101.5794448852539, 99.779296875, 452.5108642578125, 306.4917297363281, 748.1315307617188, 466.6712341308594, 483.746826171875, 571.6604614257812, 256.82818603515625, 855.108154296875, 1254.2071533203125, 789.2884521484375, 2631.412353515625, 922.2764892578125, 665.6096801757812, 870.9356079101562, 2625.597900390625, 524.200439453125, 1606.477294921875, 3599.400634765625, 6749.85205078125, 1658.681396484375, 344.40869140625, 3260.857666015625, 1056.5394287109375, 828.5076904296875, 450.5929260253906, 450.5929260253906, 439.259521484375, 289.7020263671875, 284.4469909667969, 233.83953857421875, 194.2337188720703, 178.75881958007812, 155.10781860351562, 153.76454162597656, 153.76454162597656, 142.87599182128906, 136.52084350585938, 135.91162109375, 127.68565368652344, 117.37419128417969, 115.0952377319336, 106.99307250976562, 106.2158203125, 96.82355499267578, 92.57481384277344, 87.51615905761719, 81.52452850341797, 78.96552276611328, 78.96552276611328, 77.66726684570312, 76.25703430175781, 70.53499603271484, 803.121826171875, 2009.9476318359375, 586.1170043945312, 473.06524658203125, 523.002685546875, 223.4951171875, 314.291015625, 293.0177001953125, 291.4278564453125, 1624.477294921875, 3714.219970703125, 761.1106567382812, 6749.85205078125, 960.8814086914062, 3260.857666015625, 233.93853759765625, 971.6738891601562, 539.0654296875, 1254.2071533203125, 806.2402954101562, 1637.714111328125, 847.3312377929688, 627.6268920898438, 332.8358154296875, 332.8358154296875, 305.838134765625, 267.78411865234375, 205.64845275878906, 194.65061950683594, 192.47943115234375, 148.87493896484375, 148.18267822265625, 128.52049255371094, 118.1361312866211, 112.05830383300781, 110.75634002685547, 110.30165100097656, 110.30165100097656, 105.8495864868164, 100.48501586914062, 98.10845184326172, 85.85415649414062, 85.50460052490234, 84.23197174072266, 79.01183319091797, 76.97428894042969, 72.56973266601562, 71.25008392333984, 69.49589538574219, 66.43981170654297, 65.94200897216797, 584.6058349609375, 360.5787048339844, 320.0289306640625, 555.8663330078125, 804.6458129882812, 2329.483642578125, 939.6416625976562, 314.3699645996094, 210.80580139160156, 2829.03759765625, 1027.247314453125, 382.1340637207031, 559.79541015625, 1658.681396484375, 1637.714111328125, 1193.232421875, 335.6798400878906, 404.15740966796875, 2625.597900390625, 431.9068908691406, 369.9031677246094, 391.24053955078125, 371.3070983886719, 369.844482421875, 327.9415283203125, 299.5397033691406, 269.2488098144531, 254.6331787109375, 237.08248901367188, 215.29452514648438, 207.40689086914062, 192.88934326171875, 166.24459838867188, 165.77474975585938, 165.3755340576172, 162.71910095214844, 157.643310546875, 124.97272491455078, 121.40184020996094, 118.34986114501953, 114.94076538085938, 114.8853759765625, 109.66741943359375, 105.98551940917969, 104.30300903320312, 97.60566711425781, 94.07361602783203, 90.9837417602539, 90.30006408691406, 88.55056762695312, 87.56867218017578, 750.498291015625, 522.537841796875, 325.1366882324219, 484.95306396484375, 409.0035095214844, 326.8887939453125, 394.3865051269531, 6749.85205078125, 481.24725341796875, 365.8081970214844, 3714.219970703125, 556.0473022460938, 2966.220947265625, 3260.857666015625, 769.7496948242188, 2210.976806640625, 651.0285034179688, 808.172119140625, 1605.0439453125, 433.6661071777344, 433.6661071777344, 305.61444091796875, 261.3495788574219, 205.9339599609375, 199.875732421875, 178.8642120361328, 178.1849822998047, 172.7062225341797, 165.55882263183594, 165.55882263183594, 174.3977813720703, 129.0508270263672, 124.80557250976562, 121.42894744873047, 118.77406311035156, 118.77406311035156, 108.88410186767578, 103.28819274902344, 101.59555053710938, 99.0043716430664, 91.6874771118164, 89.41529083251953, 82.95109558105469, 81.20101165771484, 77.65872955322266, 71.38996887207031, 68.37858581542969, 67.72830963134766, 64.99152374267578, 550.9482421875, 324.79388427734375, 164.1888885498047, 194.04824829101562, 2829.03759765625, 588.7367553710938, 212.34622192382812, 445.9427795410156, 291.6074523925781, 2329.483642578125, 216.08786010742188, 839.1943359375, 939.6416625976562, 3599.400634765625, 369.9031677246094, 358.6026306152344, 445.2673645019531, 804.6458129882812, 382.1340637207031, 335.6798400878906, 1193.232421875, 441.7486267089844, 1027.247314453125, 1731.7745361328125, 1624.1973876953125, 1155.5943603515625, 1155.5943603515625, 627.6190185546875, 451.0347900390625, 229.13462829589844, 216.72116088867188, 207.11724853515625, 192.49009704589844, 184.46876525878906, 180.45433044433594, 171.59124755859375, 166.8692169189453, 145.62869262695312, 145.57110595703125, 123.31900787353516, 111.87358093261719, 95.02701568603516, 92.09603881835938, 91.5321044921875, 90.84265899658203, 90.84265899658203, 89.58709716796875, 89.23796844482422, 85.93507385253906, 78.49609375, 74.67414093017578, 73.25972747802734, 70.52403259277344, 476.7657165527344, 1193.490478515625, 299.931884765625, 193.3056640625, 390.3208923339844, 166.46302795410156, 384.82073974609375, 231.99205017089844, 132.5560302734375, 739.48388671875, 125.20918273925781, 313.3616638183594, 1254.2071533203125, 539.0654296875, 2966.220947265625, 3599.400634765625, 479.73773193359375, 339.8646240234375, 272.8612365722656, 241.36776733398438, 222.75242614746094, 214.67616271972656, 208.44886779785156, 206.37374877929688, 152.00579833984375, 126.02073669433594, 125.01396179199219, 119.67335510253906, 113.63177490234375, 95.6895751953125, 91.38327026367188, 88.1500244140625, 85.75409698486328, 85.5612564086914, 84.5417709350586, 84.5417709350586, 84.5417709350586, 82.9488296508789, 79.20641326904297, 78.51651000976562, 78.28990173339844, 76.21819305419922, 70.8899154663086, 70.46826934814453, 67.35165405273438, 66.50334167480469, 61.116397857666016, 371.69293212890625, 241.95420837402344, 517.2828979492188, 202.4799346923828, 262.9180603027344, 1605.0439453125, 792.3028564453125, 298.9842529296875, 3714.219970703125, 2631.412353515625, 134.83544921875, 6749.85205078125, 150.5023193359375, 264.2546081542969, 922.2764892578125, 252.65304565429688, 1960.649169921875, 936.4392700195312, 568.7034301757812, 1624.477294921875, 404.15740966796875, 2153.193115234375, 544.2711791992188, 1920.0804443359375, 1094.3740234375, 556.2461547851562, 653.1818237304688, 652.4481811523438, 554.8723754882812, 501.63916015625, 501.63916015625, 501.63916015625, 461.63720703125, 461.63720703125, 461.63720703125, 461.63720703125, 398.9664611816406, 387.8088684082031, 342.5567321777344, 335.4284362792969, 304.24615478515625, 221.3502655029297, 189.65171813964844, 164.10231018066406, 138.69900512695312, 129.8318634033203, 128.49290466308594, 116.50456237792969, 113.88985443115234, 110.0543212890625, 100.73018646240234, 131.2015380859375, 83.62264251708984, 82.79011535644531, 82.74017333984375, 81.52446746826172, 80.94166564941406, 137.1834259033203, 354.7847900390625, 390.6871032714844, 224.91737365722656, 380.7493896484375, 382.44732666015625, 458.66748046875, 647.4552001953125, 314.7039794921875, 742.5490112304688, 892.88427734375, 662.9076538085938, 180.07534790039062, 973.43701171875, 3599.400634765625, 2829.03759765625, 327.5695495605469, 251.87380981445312, 233.70294189453125, 233.5096893310547, 232.02093505859375, 226.2310028076172, 186.85336303710938, 180.01268005371094, 133.45973205566406, 131.8502197265625, 127.31336212158203, 104.35044860839844, 104.35044860839844, 102.6830062866211, 102.67326354980469, 101.49754333496094, 100.96515655517578, 98.1456069946289, 95.2120590209961, 93.64000701904297, 90.86804962158203, 89.07169342041016, 87.89202880859375, 85.89340209960938, 84.04495239257812, 83.46969604492188, 76.06099700927734, 75.49968719482422, 75.22591400146484, 74.0556869506836, 609.154296875, 239.1646728515625, 535.1783447265625, 142.97364807128906, 228.10516357421875, 653.1818237304688, 742.5490112304688, 428.7942810058594, 161.68218994140625, 238.20477294921875, 230.0941162109375, 201.0717010498047, 335.90997314453125, 911.7916259765625, 231.30860900878906, 901.7048950195312, 403.4900207519531, 277.85498046875, 829.7161254882812, 1334.5660400390625, 792.3028564453125, 696.1267700195312, 348.56292724609375, 348.56292724609375, 188.43789672851562, 180.89657592773438, 162.91839599609375, 158.82101440429688, 134.12518310546875, 119.59141540527344, 114.16400146484375, 103.92330169677734, 103.3705825805664, 100.43424987792969, 93.19490051269531, 92.83424377441406, 92.18336486816406, 91.19902038574219, 88.65296936035156, 83.1197280883789, 77.4852523803711, 76.75091552734375, 74.34900665283203, 71.94657897949219, 70.1259536743164, 68.5718765258789, 65.30646514892578, 64.95011138916016, 62.483524322509766, 61.685672760009766, 61.678367614746094, 715.1867065429688, 213.44898986816406, 556.2363891601562, 892.88427734375, 157.78501892089844, 215.47775268554688, 870.9356079101562, 441.7486267089844, 202.22732543945312, 2661.753173828125, 632.1141967773438, 632.3202514648438, 204.9310302734375, 223.63140869140625, 2402.4296875, 501.8114013671875, 200.55360412597656, 742.3490600585938, 365.8081970214844, 750.4120483398438, 916.0155639648438, 3599.400634765625, 301.0845642089844, 358.6026306152344, 631.8403930664062, 397.2645568847656, 283.62359619140625, 251.47462463378906, 228.44497680664062, 208.42201232910156, 201.14283752441406, 197.02606201171875, 156.79722595214844, 139.0895233154297, 137.80819702148438, 137.1467742919922, 124.71554565429688, 124.48064422607422, 111.22974395751953, 110.87718963623047, 110.82816314697266, 105.9732894897461, 104.1027603149414, 93.90083312988281, 85.82897186279297, 79.52861022949219, 76.29336547851562, 74.61245727539062, 70.32266235351562, 67.32556915283203, 66.17243194580078, 65.60684967041016, 63.10596466064453, 57.216819763183594, 1026.9742431640625, 184.39425659179688, 359.8537902832031, 163.91192626953125, 829.7161254882812, 105.24005889892578, 761.1106567382812, 1606.477294921875, 177.82757568359375, 159.44778442382812, 391.6719055175781, 436.6905822753906, 372.4811706542969, 276.9940185546875, 432.1763610839844, 971.6738891601562, 521.4139404296875, 222.3802032470703, 254.0180206298828, 499.5175476074219, 911.7916259765625, 3260.857666015625, 516.8885498046875, 1605.0439453125, 322.36444091796875, 312.5885009765625, 303.4231262207031, 229.44293212890625, 208.99412536621094, 202.62815856933594, 199.0537872314453, 167.02227783203125, 163.14193725585938, 162.58119201660156, 158.12501525878906, 156.2783203125, 152.02342224121094, 151.39544677734375, 151.39544677734375, 135.4182586669922, 128.63160705566406, 126.189208984375, 110.70105743408203, 97.99273681640625, 97.4543685913086, 93.7352066040039, 93.6409683227539, 82.9582748413086, 82.9582748413086, 82.9582748413086, 78.66039276123047, 74.54670715332031, 73.16813659667969, 67.2708969116211, 362.4630432128906, 266.6127624511719, 325.7669372558594, 162.09352111816406, 282.47613525390625, 200.32843017578125, 160.62823486328125, 348.239990234375, 212.63101196289062, 662.19580078125, 1960.649169921875, 401.3577880859375, 513.3450317382812, 2625.597900390625, 534.2696533203125, 1573.4093017578125, 739.48388671875, 453.1876220703125, 2966.220947265625, 3599.400634765625, 6749.85205078125, 605.947998046875, 269.3428649902344, 258.2859802246094, 257.7303466796875, 196.32577514648438, 176.0303955078125, 174.32955932617188, 172.32887268066406, 166.00772094726562, 161.98382568359375, 154.8634490966797, 141.8686065673828, 137.38641357421875, 137.38641357421875, 131.0431365966797, 125.5849838256836, 119.80711364746094, 116.0473861694336, 116.0473861694336, 113.51433563232422, 101.15690612792969, 99.02586364746094, 91.30945587158203, 91.05091094970703, 89.44769287109375, 88.87065887451172, 88.87065887451172, 84.11538696289062, 73.68257904052734, 72.63385772705078, 217.772705078125, 286.0813903808594, 774.460693359375, 401.5077209472656, 287.6191711425781, 303.1826477050781, 447.776611328125, 486.89019775390625, 662.9076538085938, 336.14306640625, 282.6346740722656, 839.8369140625, 264.5926208496094, 372.31585693359375, 472.3518981933594, 1658.681396484375, 2329.483642578125, 1308.9925537109375, 539.0654296875, 702.5415649414062, 584.1893310546875, 431.33843994140625, 229.4632110595703, 214.6246337890625, 194.91627502441406, 182.23538208007812, 147.17355346679688, 120.55586242675781, 116.86952209472656, 105.22167205810547, 104.5222396850586, 103.05465698242188, 102.71640014648438, 96.7020263671875, 90.12239074707031, 88.28846740722656, 81.9481430053711, 74.09008026123047, 72.09492492675781, 61.29478073120117, 55.08153533935547, 54.01456069946289, 54.01456069946289, 53.89631271362305, 48.276302337646484, 47.44697189331055, 47.44697189331055, 45.77372360229492, 42.398250579833984, 175.0064239501953, 197.4105682373047, 346.320068359375, 839.8369140625, 257.2271423339844, 404.92529296875, 462.0786437988281, 1490.288330078125, 129.43775939941406, 808.172119140625, 214.62889099121094, 193.68856811523438, 452.0343322753906, 2870.520263671875, 2875.609375, 535.1783447265625, 2966.220947265625, 1573.4093017578125, 423.63970947265625, 739.48388671875, 446.271484375], \"loglift\": [30.0, 29.0, 28.0, 27.0, 26.0, 25.0, 24.0, 23.0, 22.0, 21.0, 20.0, 19.0, 18.0, 17.0, 16.0, 15.0, 14.0, 13.0, 12.0, 11.0, 10.0, 9.0, 8.0, 7.0, 6.0, 5.0, 4.0, 3.0, 2.0, 1.0, 2.6333000659942627, 2.6328999996185303, 2.631200075149536, 2.630199909210205, 2.6298000812530518, 2.6298000812530518, 2.6296000480651855, 2.6291000843048096, 2.6280999183654785, 2.628000020980835, 2.6277999877929688, 2.627700090408325, 2.6275999546051025, 2.6270999908447266, 2.6270999908447266, 2.6270999908447266, 2.6263999938964844, 2.6261000633239746, 2.625999927520752, 2.6250998973846436, 2.624799966812134, 2.6247000694274902, 2.6245999336242676, 2.6243999004364014, 2.623800039291382, 2.6236000061035156, 2.623300075531006, 2.623199939727783, 2.6229000091552734, 2.622499942779541, 2.5295000076293945, 2.4625000953674316, 2.558500051498413, 2.428299903869629, 2.413100004196167, 2.3724000453948975, 2.4382998943328857, 2.4407999515533447, 2.2767999172210693, 2.3729000091552734, 2.3336000442504883, 2.3868000507354736, 1.965499997138977, 2.1631999015808105, 0.6735000014305115, 1.7160999774932861, 1.3151999711990356, 0.9765999913215637, 1.2359000444412231, 1.8274999856948853, 0.6626999974250793, 1.2339999675750732, 0.5091999769210815, 0.5033000111579895, 2.6607000827789307, 2.6607000827789307, 2.659899950027466, 2.659899950027466, 2.6598000526428223, 2.659600019454956, 2.6584999561309814, 2.6579999923706055, 2.656599998474121, 2.656599998474121, 2.6563000679016113, 2.6561999320983887, 2.6552000045776367, 2.655100107192993, 2.654900074005127, 2.6542999744415283, 2.6538000106811523, 2.653599977493286, 2.6530001163482666, 2.6524999141693115, 2.6524999141693115, 2.6522998809814453, 2.6519999504089355, 2.6510000228881836, 2.650899887084961, 2.650599956512451, 2.6501998901367188, 2.6501998901367188, 2.6496999263763428, 2.6484999656677246, 2.6417999267578125, 2.5473999977111816, 2.5473999977111816, 2.4688000679016113, 2.522200107574463, 2.3152999877929688, 2.5539000034332275, 2.4458999633789062, 2.2435998916625977, 2.3338000774383545, 2.3150999546051025, 2.238800048828125, 1.808500051498413, 1.9973000288009644, 2.0195000171661377, 1.7512999773025513, 2.314300060272217, 1.5636999607086182, 1.1677000522613525, 0.6108999848365784, -0.374099999666214, 0.16580000519752502, 0.6823999881744385, 2.7430999279022217, 2.743000030517578, 2.743000030517578, 2.742300033569336, 2.7421000003814697, 2.742000102996826, 2.7414000034332275, 2.7414000034332275, 2.7411000728607178, 2.740499973297119, 2.7402000427246094, 2.7392001152038574, 2.7388999462127686, 2.7388999462127686, 2.7388999462127686, 2.7386999130249023, 2.73799991607666, 2.7376999855041504, 2.736999988555908, 2.7363998889923096, 2.7356998920440674, 2.735300064086914, 2.7346999645233154, 2.734499931335449, 2.7344000339508057, 2.7344000339508057, 2.734299898147583, 2.734299898147583, 2.734100103378296, 2.7339999675750732, 2.6774001121520996, 2.6591999530792236, 2.6570000648498535, 2.6816000938415527, 2.6547999382019043, 2.560699939727783, 2.5215001106262207, 2.4649999141693115, 2.3303000926971436, 2.0947999954223633, 2.117799997329712, 1.6943999528884888, 1.8854999542236328, 0.6510000228881836, 0.8619999885559082, 0.9973999857902527, 0.08900000154972076, 1.7071000337600708, 2.7867000102996826, 2.7867000102996826, 2.7862000465393066, 2.7862000465393066, 2.7852001190185547, 2.7852001190185547, 2.7852001190185547, 2.7850000858306885, 2.784899950027466, 2.7848000526428223, 2.783900022506714, 2.7822000980377197, 2.782099962234497, 2.7816998958587646, 2.7816998958587646, 2.7809998989105225, 2.7808001041412354, 2.7804999351501465, 2.780400037765503, 2.7802999019622803, 2.780100107192993, 2.7797999382019043, 2.779400110244751, 2.779400110244751, 2.7792000770568848, 2.778700113296509, 2.778599977493286, 2.77839994430542, 2.777100086212158, 2.777100086212158, 2.777100086212158, 2.7116000652313232, 2.705199956893921, 2.3991000652313232, 2.337899923324585, 2.3529999256134033, 2.290600061416626, 2.6015000343322754, 2.174999952316284, 2.41510009765625, 1.2457000017166138, 2.2720999717712402, 2.3508999347686768, 2.4453999996185303, 2.0947000980377197, 0.7168999910354614, 1.3805999755859375, 1.2903000116348267, 2.815500020980835, 2.8152999877929688, 2.81469988822937, 2.8145999908447266, 2.814199924468994, 2.8141000270843506, 2.813800096511841, 2.813800096511841, 2.8136000633239746, 2.813499927520752, 2.8134000301361084, 2.8131000995635986, 2.8129000663757324, 2.8129000663757324, 2.8122000694274902, 2.8118999004364014, 2.8115999698638916, 2.8111000061035156, 2.810800075531006, 2.8101999759674072, 2.8101999759674072, 2.8099000453948975, 2.8096001148223877, 2.8096001148223877, 2.809299945831299, 2.8090999126434326, 2.808199882507324, 2.8073999881744385, 2.807300090789795, 2.8071999549865723, 2.8071999549865723, 2.684000015258789, 2.662600040435791, 2.6919000148773193, 2.4800000190734863, 2.4683001041412354, 2.272200107574463, 2.4867000579833984, 1.9996000528335571, 2.367500066757202, 2.259500026702881, 1.3746000528335571, 2.0023999214172363, 2.0445001125335693, 1.4763000011444092, 1.9071999788284302, 2.2072999477386475, 1.8779000043869019, 2.1417999267578125, 0.7240999937057495, 1.7597999572753906, 2.1333000659942627, 0.7319999933242798, 0.31349998712539673, 0.98580002784729, 2.0764999389648438, 2.1089000701904297, 2.8417000770568848, 2.8415000438690186, 2.8415000438690186, 2.8415000438690186, 2.841200113296509, 2.8410000801086426, 2.8410000801086426, 2.8406999111175537, 2.8406999111175537, 2.840399980545044, 2.8403000831604004, 2.8403000831604004, 2.8401999473571777, 2.840100049972534, 2.840100049972534, 2.8396999835968018, 2.839099884033203, 2.8389999866485596, 2.8389999866485596, 2.83870005607605, 2.83870005607605, 2.838399887084961, 2.837399959564209, 2.8371999263763428, 2.8371999263763428, 2.835900068283081, 2.8348000049591064, 2.8345999717712402, 2.83270001411438, 2.83270001411438, 2.7832000255584717, 2.75819993019104, 2.7560999393463135, 2.647200107574463, 2.3329999446868896, 2.2153000831604004, 2.40310001373291, 2.0452001094818115, 2.4149999618530273, 2.3835999965667725, 1.2699999809265137, 1.3125, 2.1733999252319336, 0.9983999729156494, 1.486899971961975, 0.5328999757766724, 0.40720000863075256, 2.884999990463257, 2.8835999965667725, 2.8835999965667725, 2.8835999965667725, 2.883500099182129, 2.883500099182129, 2.8826000690460205, 2.8824000358581543, 2.882200002670288, 2.882200002670288, 2.881999969482422, 2.881999969482422, 2.881700038909912, 2.881700038909912, 2.881500005722046, 2.8812999725341797, 2.8810999393463135, 2.88070011138916, 2.8803000450134277, 2.879199981689453, 2.8784000873565674, 2.8777999877929688, 2.8777999877929688, 2.877700090408325, 2.877700090408325, 2.8775999546051025, 2.8775999546051025, 2.8773000240325928, 2.87719988822937, 2.877000093460083, 2.753499984741211, 2.775899887084961, 2.6812000274658203, 2.712599992752075, 2.7054998874664307, 2.5917000770568848, 2.698499917984009, 2.3886001110076904, 2.265199899673462, 2.36680006980896, 1.811400055885315, 2.147599935531616, 2.22379994392395, 2.091599941253662, 1.4053000211715698, 2.210700035095215, 1.3321000337600708, 0.5938000082969666, 0.025200000032782555, 1.062000036239624, 2.433199882507324, 0.24819999933242798, 2.9409000873565674, 2.9405999183654785, 2.93969988822937, 2.93969988822937, 2.9395999908447266, 2.938499927520752, 2.9384000301361084, 2.937700033187866, 2.9368999004364014, 2.9363999366760254, 2.9356000423431396, 2.9356000423431396, 2.9356000423431396, 2.9351000785827637, 2.934799909591675, 2.934799909591675, 2.934299945831299, 2.9335999488830566, 2.933500051498413, 2.9328999519348145, 2.932800054550171, 2.9319000244140625, 2.93149995803833, 2.9309000968933105, 2.930000066757202, 2.9296998977661133, 2.9296998977661133, 2.929500102996826, 2.9291999340057373, 2.9282000064849854, 2.828900098800659, 2.7506000995635986, 2.794600009918213, 2.712599992752075, 2.692699909210205, 2.72979998588562, 2.6424999237060547, 2.6405999660491943, 2.6291000843048096, 2.114500045776367, 1.6439000368118286, 2.140500068664551, 1.0651999711990356, 1.8776999711990356, 0.8629000186920166, 2.5624001026153564, 1.3937000036239624, 1.8386000394821167, 1.0508999824523926, 1.3299000263214111, 0.6273000240325928, 3.0257999897003174, 3.025399923324585, 3.0241000652313232, 3.0241000652313232, 3.0237998962402344, 3.023400068283081, 3.0223000049591064, 3.0220000743865967, 3.0220000743865967, 3.0204999446868896, 3.0204999446868896, 3.0195000171661377, 3.0188000202178955, 3.018399953842163, 3.0183000564575195, 3.018199920654297, 3.018199920654297, 3.017899990081787, 3.017400026321411, 3.0171000957489014, 3.015700101852417, 3.015700101852417, 3.015500068664551, 3.0148000717163086, 3.014400005340576, 3.013700008392334, 3.013400077819824, 3.0130999088287354, 3.012399911880493, 3.0123000144958496, 2.9433999061584473, 2.890199899673462, 2.887399911880493, 2.753000020980835, 2.6191000938415527, 2.378499984741211, 2.4602999687194824, 2.7054998874664307, 2.7760000228881836, 2.0557000637054443, 2.169100046157837, 2.384200096130371, 2.0989999771118164, 1.4536000490188599, 1.3667000532150269, 1.523800015449524, 2.3046000003814697, 2.170599937438965, 0.7770000100135803, 2.0792999267578125, 2.2074999809265137, 3.0427000522613525, 3.0425000190734863, 3.0425000190734863, 3.0422000885009766, 3.0418999195098877, 3.041599988937378, 3.0413999557495117, 3.041100025177002, 3.0406999588012695, 3.0404999256134033, 3.0401999950408936, 3.039400100708008, 3.039400100708008, 3.039299964904785, 3.0392000675201416, 3.039099931716919, 3.0374999046325684, 3.0371999740600586, 3.0369999408721924, 3.036799907684326, 3.036799907684326, 3.036400079727173, 3.036099910736084, 3.035900115966797, 3.0353000164031982, 3.034899950027466, 3.034600019454956, 3.0344998836517334, 3.0343000888824463, 3.0341999530792236, 2.9811999797821045, 2.9165000915527344, 2.931299924850464, 2.882699966430664, 2.8189001083374023, 2.8176000118255615, 2.7207999229431152, 1.153499960899353, 2.347100019454956, 2.3987998962402344, 0.9664000272750854, 2.0764000415802, 1.0009000301361084, 0.8944000005722046, 1.8413000106811523, 1.0356999635696411, 1.8214999437332153, 1.6282999515533447, 0.9786999821662903, 3.0596001148223877, 3.0596001148223877, 3.0587000846862793, 3.0580999851226807, 3.0571000576019287, 3.056999921798706, 3.0564000606536865, 3.0564000606536865, 3.0562000274658203, 3.055999994277954, 3.055999994277954, 3.0555999279022217, 3.0543999671936035, 3.0541000366210938, 3.0539000034332275, 3.0536999702453613, 3.0536999702453613, 3.052999973297119, 3.052500009536743, 3.052299976348877, 3.0520999431610107, 3.051300048828125, 3.051100015640259, 3.0501999855041504, 3.049999952316284, 3.0494000911712646, 3.04830002784729, 3.0476999282836914, 3.047600030899048, 3.046999931335449, 2.9718000888824463, 2.967099905014038, 2.974299907684326, 2.93969988822937, 2.446199893951416, 2.6935999393463135, 2.867000102996826, 2.6779000759124756, 2.72160005569458, 2.0065999031066895, 2.7553999423980713, 2.204900026321411, 2.1185998916625977, 1.4550000429153442, 2.476300001144409, 2.462899923324585, 2.3203999996185303, 1.9644999504089355, 2.310499906539917, 2.391700029373169, 1.3104000091552734, 2.0971999168395996, 1.2589000463485718, 3.062000036239624, 3.062000036239624, 3.0617001056671143, 3.0617001056671143, 3.0608999729156494, 3.060499906539917, 3.0583999156951904, 3.0580999851226807, 3.058000087738037, 3.0576000213623047, 3.0573999881744385, 3.057300090789795, 3.056999921798706, 3.05679988861084, 3.055999994277954, 3.055999994277954, 3.054800033569336, 3.053999900817871, 3.052500009536743, 3.0522000789642334, 3.0520999431610107, 3.052000045776367, 3.052000045776367, 3.0518999099731445, 3.051800012588501, 3.0513999462127686, 3.0504000186920166, 3.0497000217437744, 3.049499988555908, 3.0490000247955322, 2.9612998962402344, 2.9001998901367188, 2.9440999031066895, 2.949899911880493, 2.781899929046631, 2.8824000358581543, 2.5797998905181885, 2.664400100708008, 2.8534998893737793, 1.7493000030517578, 2.8506999015808105, 2.1117000579833984, 0.9718999862670898, 1.6484999656677246, 0.08330000191926956, -0.17800000309944153, 1.6986000537872314, 3.1152000427246094, 3.114500045776367, 3.1140999794006348, 3.1136999130249023, 3.113600015640259, 3.1133999824523926, 3.1133999824523926, 3.111799955368042, 3.1105000972747803, 3.1103999614715576, 3.110100030899048, 3.1096999645233154, 3.108099937438965, 3.107599973678589, 3.1071999073028564, 3.1068999767303467, 3.1068999767303467, 3.106800079345703, 3.106800079345703, 3.106800079345703, 3.106600046157837, 3.1059999465942383, 3.1059000492095947, 3.1059000492095947, 3.1054999828338623, 3.104599952697754, 3.1045000553131104, 3.1038999557495117, 3.1036999225616455, 3.102400064468384, 3.094399929046631, 2.9797000885009766, 2.8643999099731445, 2.952399969100952, 2.912100076675415, 2.584399938583374, 2.672100067138672, 2.7797999382019043, 2.036799907684326, 2.0896999835968018, 2.9512999057769775, 1.3457000255584717, 2.834399938583374, 2.5578999519348145, 1.9443999528884888, 2.558199882507324, 1.4598000049591064, 1.8348000049591064, 2.077699899673462, 1.3948999643325806, 2.2595999240875244, 1.1878999471664429, 2.067500114440918, 1.1818000078201294, 1.5384999513626099, 2.013200044631958, 1.881700038909912, 3.1375999450683594, 3.1373000144958496, 3.1370999813079834, 3.1370999813079834, 3.1370999813079834, 3.13700008392334, 3.13700008392334, 3.13700008392334, 3.13700008392334, 3.1366000175476074, 3.1366000175476074, 3.136199951171875, 3.136199951171875, 3.1359000205993652, 3.134700059890747, 3.134000062942505, 3.13319993019104, 3.1321001052856445, 3.1315999031066895, 3.131500005722046, 3.1308000087738037, 3.1305999755859375, 3.1303000450134277, 3.129499912261963, 3.128700017929077, 3.127500057220459, 3.1273999214172363, 3.1273999214172363, 3.12719988822937, 3.1270999908447266, 3.1231000423431396, 3.0464000701904297, 2.9855000972747803, 3.0060999393463135, 2.8573999404907227, 2.7374000549316406, 2.646699905395508, 2.5020999908447266, 2.746000051498413, 2.3613998889923096, 2.0673999786376953, 2.1445000171661377, 2.924499988555908, 1.6247999668121338, 0.5945000052452087, 0.6226000189781189, 3.1480000019073486, 3.1470999717712402, 3.1468000411987305, 3.1468000411987305, 3.1468000411987305, 3.1466000080108643, 3.1458001136779785, 3.1456000804901123, 3.143699884414673, 3.1435999870300293, 3.1433000564575195, 3.141700029373169, 3.141700029373169, 3.1414999961853027, 3.1414999961853027, 3.141400098800659, 3.141400098800659, 3.1410999298095703, 3.1407999992370605, 3.1405999660491943, 3.1403000354766846, 3.1401000022888184, 3.139899969100952, 3.139699935913086, 3.139400005340576, 3.139400005340576, 3.138200044631958, 3.1380999088287354, 3.1380999088287354, 3.1379001140594482, 2.9663000106811523, 2.9725000858306885, 2.7102999687194824, 2.9999001026153564, 2.8954999446868896, 2.6022000312805176, 2.5332999229431152, 2.6877999305725098, 2.952199935913086, 2.781599998474121, 2.7923998832702637, 2.842400074005127, 2.5850000381469727, 2.0717999935150146, 2.7014000415802, 1.9184000492095947, 2.197200059890747, 2.3796000480651855, 1.5256999731063843, 1.069000005722046, 1.4183000326156616, 3.178499937057495, 3.1772000789642334, 3.1772000789642334, 3.174799919128418, 3.1745998859405518, 3.1740000247955322, 3.1738998889923096, 3.172800064086914, 3.1719000339508057, 3.1714999675750732, 3.1707000732421875, 3.1707000732421875, 3.170300006866455, 3.1696999073028564, 3.169600009918213, 3.1695001125335693, 3.1693999767303467, 3.169100046157837, 3.1684000492095947, 3.16759991645813, 3.1675000190734863, 3.167099952697754, 3.166599988937378, 3.166300058364868, 3.1659998893737793, 3.165299892425537, 3.1651999950408936, 3.164599895477295, 3.164400100708008, 3.164400100708008, 3.0013999938964844, 3.0859999656677246, 2.8826000690460205, 2.7590999603271484, 3.0007998943328857, 2.9323999881744385, 2.5773000717163086, 2.632699966430664, 2.8545000553131104, 1.9766000509262085, 2.4393999576568604, 2.4296000003814697, 2.8122000694274902, 2.773900032043457, 1.7099000215530396, 2.393699884414673, 2.803100109100342, 2.0905001163482666, 2.4323999881744385, 1.9664000272750854, 1.7799999713897705, 0.6064000129699707, 2.4519999027252197, 2.2827000617980957, 3.220099925994873, 3.2191998958587646, 3.2181999683380127, 3.2177999019622803, 3.217400074005127, 3.2170000076293945, 3.2167999744415283, 3.2167000770568848, 3.2155001163482666, 3.2146999835968018, 3.2146999835968018, 3.214600086212158, 3.213900089263916, 3.213900089263916, 3.2130000591278076, 3.2130000591278076, 3.2130000591278076, 3.212599992752075, 3.212399959564209, 3.211400032043457, 3.2105000019073486, 3.2095999717712402, 3.2091000080108643, 3.2088000774383545, 3.2079999446868896, 3.20740008354187, 3.2070999145507812, 3.2070000171661377, 3.206399917602539, 3.204900026321411, 3.0908000469207764, 3.081700086593628, 2.9458999633789062, 3.049999952316284, 2.694700002670288, 3.1166999340057373, 2.623800039291382, 2.397200107574463, 2.958400011062622, 2.990600109100342, 2.6916000843048096, 2.6352999210357666, 2.690200090408325, 2.792099952697754, 2.61080002784729, 2.257699966430664, 2.4337000846862793, 2.825200080871582, 2.729300022125244, 2.2660000324249268, 1.7632999420166016, 0.6283000111579895, 2.0373001098632812, 0.9169999957084656, 3.2636001110076904, 3.2634999752044678, 3.263400077819824, 3.262399911880493, 3.26200008392334, 3.261899948120117, 3.2618000507354736, 3.2607998847961426, 3.260699987411499, 3.260699987411499, 3.260499954223633, 3.260499954223633, 3.2602999210357666, 3.2602999210357666, 3.2602999210357666, 3.259500026702881, 3.2590999603271484, 3.259000062942505, 3.2578999996185303, 3.2567999362945557, 3.2567999362945557, 3.2564001083374023, 3.2564001083374023, 3.255000114440918, 3.255000114440918, 3.255000114440918, 3.2544000148773193, 3.253700017929077, 3.253499984741211, 3.2523000240325928, 3.075200080871582, 3.098400115966797, 3.0660998821258545, 3.098099946975708, 2.9586000442504883, 3.0192999839782715, 3.0524001121520996, 2.809299945831299, 2.890399932861328, 2.3443000316619873, 1.6079000234603882, 2.4786999225616455, 2.283600091934204, 1.0261000394821167, 2.178100109100342, 1.2790000438690186, 1.8343000411987305, 2.2363998889923096, 0.5203999876976013, 0.27869999408721924, -0.4846000075340271, 3.303299903869629, 3.3013999462127686, 3.3011999130249023, 3.3011999130249023, 3.300100088119507, 3.299499988555908, 3.2994000911712646, 3.2994000911712646, 3.2992000579833984, 3.2990000247955322, 3.2987000942230225, 3.2981998920440674, 3.2980000972747803, 3.2980000972747803, 3.297600030899048, 3.297300100326538, 3.2969000339508057, 3.2967000007629395, 3.2967000007629395, 3.2964999675750732, 3.2955000400543213, 3.295300006866455, 3.2943999767303467, 3.2943999767303467, 3.2941999435424805, 3.294100046157837, 3.294100046157837, 3.2934999465942383, 3.2918999195098877, 3.2916998863220215, 3.1884000301361084, 3.1484999656677246, 2.9612998962402344, 3.0188000202178955, 2.952899932861328, 2.921799898147583, 2.600100040435791, 2.498699903488159, 2.3125998973846436, 2.5374999046325684, 2.636399984359741, 1.773300051689148, 2.660099983215332, 2.3891000747680664, 2.192199945449829, 1.0405999422073364, 0.7286999821662903, 1.1512000560760498, 1.9702999591827393, 3.5165998935699463, 3.516400098800659, 3.5157999992370605, 3.5137999057769775, 3.5136001110076904, 3.5130999088287354, 3.5127999782562256, 3.5114998817443848, 3.5100998878479004, 3.5099000930786133, 3.5088999271392822, 3.5088999271392822, 3.5088000297546387, 3.508699893951416, 3.5081000328063965, 3.5074000358581543, 3.507200002670288, 3.5064001083374023, 3.5051000118255615, 3.5048000812530518, 3.5023999214172363, 3.500699996948242, 3.5002999305725098, 3.5002999305725098, 3.5002999305725098, 3.498199939727783, 3.49780011177063, 3.49780011177063, 3.4971001148223877, 3.4953999519348145, 3.4693000316619873, 3.4453001022338867, 3.398099899291992, 3.2730000019073486, 3.3506999015808105, 3.063800096511841, 2.867799997329712, 2.3819000720977783, 3.18149995803833, 2.4820001125335693, 2.9795000553131104, 2.9683001041412354, 2.4344000816345215, 1.3177000284194946, 1.208400011062622, 2.294300079345703, 0.6218000054359436, 1.1066999435424805, 2.234800100326538, 1.5824999809265137, 2.067500114440918], \"logprob\": [30.0, 29.0, 28.0, 27.0, 26.0, 25.0, 24.0, 23.0, 22.0, 21.0, 20.0, 19.0, 18.0, 17.0, 16.0, 15.0, 14.0, 13.0, 12.0, 11.0, 10.0, 9.0, 8.0, 7.0, 6.0, 5.0, 4.0, 3.0, 2.0, 1.0, -3.657399892807007, -3.4166998863220215, -4.6753997802734375, -4.950699806213379, -5.031099796295166, -5.03249979019165, -5.09060001373291, -5.188199996948242, -5.3480000495910645, -5.370999813079834, -5.403299808502197, -5.418600082397461, -5.433700084686279, -5.497900009155273, -5.497900009155273, -5.497900009155273, -5.590099811553955, -5.624599933624268, -5.631899833679199, -5.735499858856201, -5.774499893188477, -5.77810001373291, -5.79610013961792, -5.807400226593018, -5.869100093841553, -5.890100002288818, -5.916100025177002, -5.928599834442139, -5.950099945068359, -5.986700057983398, -2.474100112915039, -2.5429999828338623, -4.60890007019043, -2.8647000789642334, -2.994499921798706, -2.8111000061035156, -3.779900074005127, -4.118199825286865, -2.8041000366210938, -4.853000164031982, -4.873300075531006, -5.1168999671936035, -4.574100017547607, -4.978099822998047, -3.476900100708008, -4.559199810028076, -4.270699977874756, -4.115900039672852, -4.330699920654297, -4.825799942016602, -4.085000038146973, -4.633600234985352, -4.463500022888184, -5.093900203704834, -2.897200107574463, -2.941699981689453, -3.774600028991699, -3.783799886703491, -3.8166000843048096, -3.9688000679016113, -4.479700088500977, -4.64739990234375, -4.991499900817871, -5.006199836730957, -5.0518999099731445, -5.083600044250488, -5.257599830627441, -5.280900001525879, -5.305300235748291, -5.403500080108643, -5.463399887084961, -5.4984002113342285, -5.574999809265137, -5.6269001960754395, -5.6269001960754395, -5.646900177001953, -5.689799785614014, -5.783699989318848, -5.794400215148926, -5.827300071716309, -5.862100124359131, -5.866600036621094, -5.909200191497803, -6.004000186920166, -4.197299957275391, -3.3366000652313232, -3.3366000652313232, -3.2581000328063965, -4.5777997970581055, -2.951200008392334, -5.153900146484375, -4.522500038146973, -3.8478000164031982, -4.585000038146973, -4.6819000244140625, -4.489299774169922, -3.9821999073028564, -4.349800109863281, -4.498799800872803, -4.281799793243408, -4.937600135803223, -4.546599864959717, -4.386199951171875, -4.483699798583984, -4.524499893188477, -4.613399982452393, -4.884300231933594, -2.4870998859405518, -2.575200080871582, -2.740600109100342, -3.517899990081787, -3.6770999431610107, -3.7708001136779785, -4.092800140380859, -4.126299858093262, -4.246300220489502, -4.455699920654297, -4.562900066375732, -4.820099830627441, -4.882500171661377, -4.885499954223633, -4.886099815368652, -4.934000015258789, -5.067699909210205, -5.120299816131592, -5.245100021362305, -5.334000110626221, -5.42080020904541, -5.4770002365112305, -5.54040002822876, -5.564899921417236, -5.573699951171875, -5.573699951171875, -5.590099811553955, -5.594099998474121, -5.605999946594238, -5.619200229644775, -3.2448999881744385, -3.3076999187469482, -3.8947999477386475, -4.3755998611450195, -4.41349983215332, -4.282700061798096, -4.52269983291626, -4.610799789428711, -4.356500148773193, -4.226900100708008, -4.55049991607666, -4.09630012512207, -4.472400188446045, -4.226900100708008, -4.499800205230713, -4.729499816894531, -4.690199851989746, -4.833499908447266, -2.660799980163574, -2.660799980163574, -3.330699920654297, -3.3635001182556152, -4.03380012512207, -4.035600185394287, -4.049699783325195, -4.139100074768066, -4.196000099182129, -4.23960018157959, -4.552499771118164, -4.964099884033203, -4.978499889373779, -5.0528998374938965, -5.055099964141846, -5.164999961853027, -5.202199935913086, -5.247300148010254, -5.2621002197265625, -5.281899929046631, -5.304200172424316, -5.342400074005127, -5.394100189208984, -5.394100189208984, -5.422500133514404, -5.491199970245361, -5.500100135803223, -5.514599800109863, -5.6596999168396, -5.660699844360352, -5.660699844360352, -3.6205999851226807, -4.014500141143799, -3.261899948120117, -3.5297000408172607, -3.7946999073028564, -3.9539999961853027, -4.887700080871582, -3.8224000930786133, -4.791100025177002, -3.632200002670288, -4.7758002281188965, -4.858500003814697, -4.997600078582764, -4.86269998550415, -4.255799770355225, -4.744999885559082, -4.798299789428711, -4.424900054931641, -4.500500202178955, -4.615099906921387, -4.68720006942749, -4.792900085449219, -4.8028998374938965, -4.865099906921387, -4.876800060272217, -4.911900043487549, -4.938799858093262, -4.95550012588501, -5.0096001625061035, -5.0432000160217285, -5.046999931335449, -5.152100086212158, -5.196000099182129, -5.238999843597412, -5.314599990844727, -5.353400230407715, -5.43179988861084, -5.43179988861084, -5.457499980926514, -5.49370002746582, -5.495100021362305, -5.531400203704834, -5.549300193786621, -5.636600017547607, -5.714700222015381, -5.720399856567383, -5.732800006866455, -5.732800006866455, -3.508699893951416, -4.042799949645996, -4.44980001449585, -3.117300033569336, -4.0208001136779785, -3.8276000022888184, -4.587299823760986, -3.3870999813079834, -4.423600196838379, -4.38730001449585, -2.7757999897003174, -4.160999774932861, -4.2505998611450195, -3.496299982070923, -4.203100204467773, -4.542200088500977, -4.366700172424316, -4.652699947357178, -4.055099964141846, -4.6020002365112305, -4.733500003814697, -4.362599849700928, -4.434299945831299, -4.60099983215332, -4.75540018081665, -4.790599822998047, -3.7811999320983887, -3.9377999305725098, -3.9377999305725098, -3.9377999305725098, -4.061600208282471, -4.148900032043457, -4.148900032043457, -4.249899864196777, -4.249899864196777, -4.359499931335449, -4.417699813842773, -4.410999774932861, -4.439700126647949, -4.4532999992370605, -4.474999904632568, -4.575500011444092, -4.7434000968933105, -4.748700141906738, -4.748700141906738, -4.82390022277832, -4.824699878692627, -4.882999897003174, -5.060299873352051, -5.092800140380859, -5.107500076293945, -5.287700176239014, -5.426400184631348, -5.448999881744385, -5.649400234222412, -5.649799823760986, -3.3050999641418457, -4.349400043487549, -4.423600196838379, -4.532599925994873, -3.636699914932251, -3.391400098800659, -4.137499809265137, -3.726099967956543, -4.472300052642822, -4.492499828338623, -3.8245999813079834, -4.26230001449585, -4.534200191497803, -4.268099784851074, -4.396399974822998, -4.345099925994873, -4.372000217437744, -3.6863999366760254, -4.316100120544434, -4.316100120544434, -4.319399833679199, -4.347099781036377, -4.35290002822876, -4.602499961853027, -4.650199890136719, -4.695700168609619, -4.695700168609619, -4.743800163269043, -4.743800163269043, -4.808300018310547, -4.811100006103516, -4.845200061798096, -4.884200096130371, -4.9197998046875, -4.988699913024902, -5.061699867248535, -5.226200103759766, -5.329800128936768, -5.39709997177124, -5.401100158691406, -5.403800010681152, -5.411300182342529, -5.420000076293945, -5.420000076293945, -5.4552001953125, -5.469699859619141, -5.48769998550415, -4.099400043487549, -4.466599941253662, -3.6689000129699707, -4.109499931335449, -4.080699920654297, -4.027400016784668, -4.720799922943115, -3.8278000354766846, -3.56820011138916, -3.929800033569336, -3.2809998989105225, -3.993299961090088, -4.243199825286865, -4.106599807739258, -3.689300060272217, -4.495200157165527, -4.253799915313721, -4.185400009155273, -4.125199794769287, -4.4918999671936035, -4.692699909210205, -4.629799842834473, -3.0641000270843506, -3.3073999881744385, -3.9175000190734863, -3.9175000190734863, -3.943000078201294, -4.360300064086914, -4.378699779510498, -4.575399875640869, -4.7617998123168945, -4.845200061798096, -4.9878997802734375, -4.996699810028076, -4.996699810028076, -5.0706000328063965, -5.116399765014648, -5.1209001541137695, -5.183800220489502, -5.268700122833252, -5.28849983215332, -5.362100124359131, -5.3694000244140625, -5.462900161743164, -5.508200168609619, -5.565000057220459, -5.63670015335083, -5.669000148773193, -5.669000148773193, -5.685800075531006, -5.704400062561035, -5.783400058746338, -3.4502999782562256, -2.6112000942230225, -3.799499988555908, -4.095900058746338, -4.015399932861328, -4.828499794006348, -4.574900150299072, -4.646900177001953, -4.66379976272583, -3.460200071334839, -3.1038999557495117, -4.192399978637695, -3.0852999687194824, -4.2221999168396, -4.014999866485596, -4.950200080871582, -4.695000171661377, -4.839200019836426, -4.782599925994873, -4.945400238037109, -4.939300060272217, -3.1998000144958496, -3.5002999305725098, -4.136000156402588, -4.136000156402588, -4.220799922943115, -4.3541998863220215, -4.61929988861084, -4.674499988555908, -4.685800075531006, -4.9440999031066895, -4.948800086975098, -5.092100143432617, -5.17710018157959, -5.230299949645996, -5.242099761962891, -5.246300220489502, -5.246300220489502, -5.287799835205078, -5.3403000831604, -5.364500045776367, -5.499300003051758, -5.503399848937988, -5.518599987030029, -5.5833001136779785, -5.609799861907959, -5.66949987411499, -5.6880998611450195, -5.713399887084961, -5.758999824523926, -5.766600131988525, -3.6533000469207764, -4.189799785614014, -4.3119001388549805, -3.894200086593628, -3.6582000255584717, -2.8357999324798584, -3.661900043487549, -4.511600017547607, -4.840700149536133, -2.9642999172210693, -3.864000082015991, -4.637700080871582, -4.541100025177002, -4.100399971008301, -4.199900150299072, -4.359499931335449, -4.84689998626709, -4.795300006866455, -4.317699909210205, -4.820199966430664, -4.84689998626709, -3.955699920654297, -4.0081000328063965, -4.0121002197265625, -4.132699966430664, -4.223499774932861, -4.33050012588501, -4.386499881744385, -4.458199977874756, -4.554999828338623, -4.59250020980835, -4.66540002822876, -4.814899921417236, -4.817699909210205, -4.820099830627441, -4.836400032043457, -4.868299961090088, -5.102099895477295, -5.131400108337402, -5.1570000648498535, -5.186500072479248, -5.186999797821045, -5.23390007019043, -5.2683000564575195, -5.2845001220703125, -5.351500034332275, -5.388700008392334, -5.422399997711182, -5.430099964141846, -5.44980001449585, -5.461100101470947, -3.3657000064849854, -3.7925000190734863, -4.252200126647949, -3.900899887084961, -4.1350998878479, -4.360499858856201, -4.269499778747559, -2.9969000816345215, -4.444200038909912, -4.666800022125244, -3.781399965286255, -4.570499897003174, -3.9718000888824463, -3.9835000038146973, -4.480299949645996, -4.230800151824951, -4.667699813842773, -4.644599914550781, -4.608099937438965, -3.8357999324798584, -3.8357999324798584, -4.186699867248535, -4.343699932098389, -4.583000183105469, -4.61299991607666, -4.724599838256836, -4.728499889373779, -4.759900093078613, -4.8024001121521, -4.8024001121521, -4.750800132751465, -5.053100109100342, -5.0868000984191895, -5.114500045776367, -5.1367998123168945, -5.1367998123168945, -5.224400043487549, -5.277699947357178, -5.294400215148926, -5.320400238037109, -5.3979997634887695, -5.423399925231934, -5.499199867248535, -5.5208001136779785, -5.565999984741211, -5.651199817657471, -5.694900035858154, -5.704599857330322, -5.746500015258789, -3.6842000484466553, -4.217400074005127, -4.892399787902832, -4.759900093078613, -2.5738000869750977, -3.8961000442504883, -4.742499828338623, -4.189599990844727, -4.570700168609619, -3.20770001411438, -4.836599826812744, -4.030399799346924, -4.003600120544434, -3.324199914932251, -4.578199863433838, -4.622600078582764, -4.548600196838379, -4.31279993057251, -4.711400032043457, -4.759900093078613, -4.572800159454346, -4.779699802398682, -4.774199962615967, -2.4488000869750977, -2.5129001140594482, -2.853600025177002, -2.853600025177002, -3.4647998809814453, -3.7957000732421875, -4.474999904632568, -4.531000137329102, -4.576499938964844, -4.650000095367432, -4.692800045013428, -4.714900016784668, -4.765600204467773, -4.793600082397461, -4.930600166320801, -4.931099891662598, -5.098100185394287, -5.196300029754639, -5.361000061035156, -5.3927001953125, -5.398900032043457, -5.406499862670898, -5.406499862670898, -5.420599937438965, -5.424600124359131, -5.462699890136719, -5.554299831390381, -5.604800224304199, -5.624199867248535, -5.662799835205078, -3.839400053024292, -2.9828999042510986, -4.320000171661377, -4.753600120544434, -4.218800067901611, -4.9704999923706055, -4.435100078582764, -4.856599807739258, -5.227200031280518, -4.612400054931641, -5.2870001792907715, -5.10860013961792, -4.861599922180176, -5.029300212860107, -4.889400005340576, -4.957200050354004, -5.095900058746338, -4.023900032043457, -4.244200229644775, -4.367300033569336, -4.44789981842041, -4.485000133514404, -4.514599800109863, -4.524600028991699, -4.831999778747559, -5.0208001136779785, -5.028900146484375, -5.07289981842041, -5.125100135803223, -5.298500061035156, -5.34499979019165, -5.381400108337402, -5.409299850463867, -5.411600112915039, -5.423699855804443, -5.423699855804443, -5.423699855804443, -5.44290018081665, -5.48960018157959, -5.498499870300293, -5.501399993896484, -5.528600215911865, -5.6020002365112305, -5.607999801635742, -5.653900146484375, -5.6666998863220215, -5.752500057220459, -3.955199956893921, -4.499199867248535, -3.8547000885009766, -4.704699993133545, -4.483799934387207, -3.0023999214172363, -3.6205999851226807, -4.487500190734863, -2.710900068283081, -3.002700090408325, -5.112400054931641, -2.8046998977661133, -5.1194000244140625, -4.832900047302246, -4.196400165557861, -4.877500057220459, -3.9268999099731445, -4.290800094604492, -4.5467000007629395, -4.179900169372559, -4.706200122833252, -4.105000019073486, -4.600800037384033, -4.2256999015808105, -4.43120002746582, -4.633299827575684, -4.604100227355957, -3.349400043487549, -3.511699914932251, -3.6126999855041504, -3.6126999855041504, -3.6126999855041504, -3.696000099182129, -3.696000099182129, -3.696000099182129, -3.696000099182129, -3.8422000408172607, -3.8705999851226807, -3.994999885559082, -4.01609992980957, -4.113999843597412, -4.433300018310547, -4.588500022888184, -4.734000205993652, -4.903299808502197, -4.969799995422363, -4.980299949645996, -5.078999996185303, -5.101900100708008, -5.13640022277832, -5.225800037384033, -4.962299823760986, -5.413899898529053, -5.423999786376953, -5.424600124359131, -5.439599990844727, -5.446800231933594, -4.923299789428711, -4.049799919128418, -4.0142998695373535, -4.545899868011475, -4.1682000160217285, -4.283699989318848, -4.192599773406982, -3.992500066757202, -4.470099925994873, -3.9962000846862793, -4.105899810791016, -4.326600074768066, -4.849800109863281, -4.462100028991699, -4.184599876403809, -4.39739990234375, -4.0279998779296875, -4.2916998863220215, -4.3668999671936035, -4.367700099945068, -4.374100208282471, -4.399499893188477, -4.591599941253662, -4.6290998458862305, -4.930200099945068, -4.942399978637695, -4.977700233459473, -5.178299903869629, -5.178299903869629, -5.194499969482422, -5.1946001052856445, -5.206200122833252, -5.211599826812744, -5.240200042724609, -5.2708001136779785, -5.287600040435791, -5.317999839782715, -5.338200092315674, -5.351600170135498, -5.374899864196777, -5.396900177001953, -5.403900146484375, -5.497900009155273, -5.50540018081665, -5.509099960327148, -5.525000095367432, -3.589400053024292, -4.51800012588501, -3.9748001098632812, -5.005099773406982, -4.642399787902832, -3.8835999965667725, -3.8243000507354736, -4.218900203704834, -4.929800033569336, -4.7129998207092285, -4.736800193786621, -4.821599960327148, -4.565800189971924, -4.08050012588501, -4.822500228881836, -4.244999885559082, -4.770299911499023, -4.960999965667725, -4.720900058746338, -4.702300071716309, -4.874499797821045, -3.2437000274658203, -3.9367001056671143, -3.9367001056671143, -4.554100036621094, -4.595099925994873, -4.700399875640869, -4.72599983215332, -4.896100044250488, -5.01170015335083, -5.058499813079834, -5.153299808502197, -5.158699989318848, -5.18779993057251, -5.263299942016602, -5.267300128936768, -5.274400234222412, -5.285200119018555, -5.313799858093262, -5.379000186920166, -5.449999809265137, -5.459700107574463, -5.4918999671936035, -5.525100231170654, -5.55109977722168, -5.573800086975098, -5.623300075531006, -5.628900051116943, -5.6682000160217285, -5.68120002746582, -5.681399822235107, -3.393699884414673, -4.5183000564575195, -3.7639000415802, -3.414099931716919, -4.905700206756592, -4.662399768829346, -3.620800018310547, -4.24429988861084, -4.803800106048584, -3.1043999195098877, -4.0792999267578125, -4.088699817657471, -4.832799911499023, -4.78380012512207, -3.473599910736084, -4.3557000160217285, -4.863500118255615, -4.267300128936768, -4.633200168609619, -4.38070011138916, -4.367700099945068, -4.172699928283691, -4.808300018310547, -4.802800178527832, -3.2990000247955322, -3.7639000415802, -4.101799964904785, -4.222599983215332, -4.318999767303467, -4.411099910736084, -4.446800231933594, -4.467599868774414, -4.697199821472168, -4.817800045013428, -4.827199935913086, -4.831999778747559, -4.927700042724609, -4.929599761962891, -5.043099880218506, -5.046299934387207, -5.0467000007629395, -5.091899871826172, -5.109899997711182, -5.214000225067139, -5.304900169372559, -5.381999969482422, -5.423999786376953, -5.446599960327148, -5.5065999031066895, -5.55079984664917, -5.568299770355225, -5.577000141143799, -5.616399765014648, -5.716000080108643, -2.9426000118255615, -4.668900012969971, -4.136099815368652, -4.818299770355225, -3.5518999099731445, -5.194699764251709, -3.7091000080108643, -3.188699960708618, -4.828499794006348, -4.905399799346924, -4.305699825286865, -4.253200054168701, -4.3572998046875, -4.551599979400635, -4.288000106811523, -3.8310000896453857, -4.277500152587891, -4.738100051879883, -4.701000213623047, -4.48799991607666, -4.388999938964844, -4.249599933624268, -4.682499885559082, -4.6697998046875, -3.9284000396728516, -3.9593000411987305, -3.9892001152038574, -4.269599914550781, -4.363399982452393, -4.394499778747559, -4.412399768829346, -4.588699817657471, -4.612400054931641, -4.615799903869629, -4.643799781799316, -4.655600070953369, -4.6834001541137695, -4.6875, -4.6875, -4.799799919128418, -4.851600170135498, -4.8709001541137695, -5.002900123596191, -5.125999927520752, -5.131499767303467, -5.17080020904541, -5.171899795532227, -5.294300079345703, -5.294300079345703, -5.294300079345703, -5.348100185394287, -5.402500152587891, -5.42140007019043, -5.5065999031066895, -3.9995999336242676, -4.2835001945495605, -4.115499973297119, -4.781400203704834, -4.365499973297119, -4.648399829864502, -4.83620023727417, -4.305500030517578, -4.717700004577637, -4.127799987792969, -3.7788000106811523, -4.494100093841553, -4.4430999755859375, -4.068600177764893, -4.508699893951416, -4.327700138092041, -4.527400016784668, -4.614999771118164, -4.452199935913086, -4.500400066375732, -4.635000228881836, -3.2576000690460205, -4.070300102233887, -4.112400054931641, -4.11460018157959, -4.387899875640869, -4.497499942779541, -4.507299900054932, -4.518899917602539, -4.55649995803833, -4.581200122833252, -4.626399993896484, -4.714600086212158, -4.7469000816345215, -4.7469000816345215, -4.79449987411499, -4.837399959564209, -4.884900093078613, -4.916999816894531, -4.916999816894531, -4.939300060272217, -5.055600166320801, -5.077099800109863, -5.158999919891357, -5.161900043487549, -5.179800033569336, -5.186399936676025, -5.186399936676025, -5.242000102996826, -5.375999927520752, -5.390500068664551, -4.3958001136779785, -4.162899971008301, -3.3541998863220215, -3.953700065612793, -4.3531999588012695, -4.331600189208984, -4.263299942016602, -4.280900001525879, -4.1585001945495605, -4.612599849700928, -4.687099933624268, -4.46120023727417, -4.729400157928467, -4.658899784088135, -4.617800235748291, -4.513299942016602, -4.485599994659424, -4.639500141143799, -4.707600116729736, -2.896399974822998, -3.0810999870300293, -3.384999990463257, -4.018099784851074, -4.08519983291626, -4.182000160217285, -4.249599933624268, -4.464600086212158, -4.665500164031982, -4.696800231933594, -4.802700042724609, -4.8094000816345215, -4.823699951171875, -4.827000141143799, -4.887899875640869, -4.959099769592285, -4.979899883270264, -5.055200099945068, -5.157299995422363, -5.184899806976318, -5.349599838256836, -5.458199977874756, -5.478099822998047, -5.478099822998047, -5.480400085449219, -5.592599868774414, -5.610199928283691, -5.610199928283691, -5.646900177001953, -5.725200176239014, -4.333600044250488, -4.237100124359131, -3.7221999168395996, -2.9614999294281006, -4.066999912261963, -3.9001998901367188, -3.964200019836426, -3.2790000438690186, -4.922999858856201, -3.7909998893737793, -4.61929988861084, -4.733099937438965, -4.41949987411499, -3.6877999305725098, -3.795300006866455, -4.3907999992370605, -4.350800037384033, -4.5, -4.684000015258789, -4.779200077056885, -4.799300193786621]}, \"token.table\": {\"Topic\": [2, 9, 10, 11, 5, 9, 18, 7, 10, 11, 2, 7, 8, 14, 19, 20, 10, 20, 9, 5, 15, 15, 1, 7, 17, 17, 13, 2, 4, 10, 16, 1, 6, 7, 3, 17, 2, 12, 10, 17, 1, 10, 1, 14, 2, 10, 17, 8, 19, 7, 19, 6, 7, 11, 1, 15, 16, 13, 11, 16, 2, 15, 8, 13, 2, 5, 6, 15, 15, 1, 12, 17, 4, 20, 13, 16, 17, 2, 9, 10, 13, 14, 15, 10, 10, 3, 4, 6, 12, 15, 16, 17, 5, 8, 14, 8, 20, 2, 4, 5, 6, 9, 11, 13, 15, 19, 1, 13, 17, 10, 13, 17, 6, 13, 3, 9, 12, 2, 7, 1, 17, 6, 9, 11, 14, 11, 10, 13, 18, 10, 14, 20, 8, 9, 15, 17, 19, 1, 4, 10, 15, 17, 20, 3, 6, 10, 2, 16, 1, 18, 14, 15, 8, 18, 8, 12, 14, 4, 15, 13, 16, 9, 11, 9, 11, 14, 18, 18, 5, 13, 1, 13, 7, 16, 1, 10, 20, 15, 6, 14, 5, 12, 13, 14, 16, 6, 17, 1, 4, 5, 8, 10, 10, 16, 20, 20, 15, 18, 14, 10, 13, 14, 15, 18, 12, 20, 18, 4, 19, 1, 3, 10, 13, 16, 1, 5, 16, 20, 9, 2, 7, 7, 5, 3, 14, 6, 6, 6, 19, 3, 6, 7, 11, 3, 8, 5, 2, 2, 7, 10, 13, 17, 19, 6, 12, 13, 17, 20, 18, 5, 12, 9, 15, 9, 4, 6, 13, 3, 5, 6, 8, 15, 3, 20, 1, 4, 4, 11, 2, 15, 3, 16, 3, 10, 16, 13, 14, 11, 17, 18, 10, 5, 9, 12, 7, 15, 19, 19, 8, 2, 4, 14, 16, 17, 1, 2, 4, 5, 6, 7, 8, 10, 11, 12, 13, 15, 18, 20, 6, 5, 12, 2, 20, 11, 1, 19, 15, 10, 8, 2, 8, 6, 10, 13, 7, 10, 12, 14, 17, 5, 8, 4, 18, 15, 5, 13, 12, 9, 1, 4, 9, 11, 12, 19, 3, 13, 5, 8, 18, 9, 6, 3, 10, 5, 8, 9, 12, 1, 12, 10, 10, 16, 13, 17, 19, 5, 11, 6, 10, 11, 18, 20, 3, 5, 6, 8, 17, 18, 20, 14, 2, 4, 2, 6, 13, 18, 8, 10, 10, 7, 4, 5, 14, 20, 4, 8, 11, 10, 8, 14, 9, 11, 1, 10, 3, 11, 12, 20, 2, 15, 7, 3, 13, 15, 8, 4, 18, 8, 8, 12, 9, 1, 6, 5, 6, 14, 16, 5, 16, 7, 13, 9, 5, 6, 10, 13, 14, 16, 18, 9, 11, 19, 16, 1, 18, 11, 2, 13, 16, 8, 8, 4, 1, 13, 12, 1, 13, 19, 2, 16, 2, 20, 13, 7, 1, 16, 19, 6, 5, 6, 10, 13, 19, 7, 20, 6, 18, 14, 14, 3, 18, 5, 8, 1, 7, 14, 17, 18, 9, 10, 5, 20, 14, 2, 16, 1, 5, 13, 17, 20, 7, 18, 6, 12, 14, 17, 4, 5, 11, 3, 9, 10, 11, 10, 15, 18, 19, 15, 13, 17, 20, 1, 20, 1, 17, 1, 16, 7, 3, 13, 16, 20, 11, 7, 15, 17, 11, 3, 3, 15, 4, 1, 14, 10, 18, 1, 15, 7, 12, 15, 16, 19, 5, 7, 2, 7, 4, 20, 5, 10, 19, 7, 14, 4, 9, 13, 5, 12, 18, 20, 13, 9, 11, 4, 1, 2, 5, 10, 18, 17, 2, 5, 13, 17, 7, 1, 7, 14, 17, 12, 15, 19, 3, 15, 17, 20, 5, 11, 10, 10, 10, 14, 4, 11, 17, 18, 19, 4, 8, 3, 4, 17, 4, 16, 6, 20, 19, 3, 3, 8, 20, 2, 5, 6, 7, 10, 15, 16, 18, 20, 17, 13, 1, 7, 4, 13, 10, 12, 13, 14, 18, 12, 5, 6, 17, 20, 18, 14, 13, 12, 7, 18, 2, 6, 16, 20, 2, 20, 3, 3, 15, 14, 3, 17, 9, 15, 1, 17, 2, 14, 6, 9, 12, 14, 18, 10, 5, 13, 16, 7, 10, 1, 6, 8, 10, 14, 5, 10, 1, 2, 5, 7, 8, 10, 13, 14, 17, 18, 1, 8, 13, 1, 5, 20, 5, 1, 7, 20, 5, 13, 16, 1, 13, 16, 15, 1, 7, 2, 17, 20, 16, 12, 2, 17, 20, 3, 17, 11, 1, 13, 16, 12, 14, 11, 16, 16, 5, 18, 7, 19, 9, 12, 2, 1, 4, 7, 3, 4, 6, 8, 13, 18, 2, 20, 9, 16, 3, 11, 14, 7, 3, 3, 7, 10, 16, 9, 18, 17, 1, 11, 14, 19, 3, 8, 20, 1, 3, 2, 5, 8, 8, 13, 19, 15, 1, 15, 7, 16, 11, 3, 5, 11, 19, 18, 4, 17, 2, 16, 20, 15, 17, 8, 16, 17, 16, 6, 9, 6, 14, 3, 14, 16, 17, 19, 7, 18, 13, 16, 5, 9, 10, 18, 2, 5, 6, 7, 9, 10, 11, 15, 16, 18, 3, 11, 14, 19, 4, 19, 19, 16, 20, 20, 17, 8, 4, 2, 3, 4, 7, 9, 11, 14, 15, 16, 17, 6, 2, 5, 10, 11, 15, 20, 12, 20, 16, 3, 1, 15, 3, 3, 18, 5, 17, 8, 17, 2, 6, 10, 16, 19, 5, 10, 13, 14, 17, 15, 19, 6, 1, 7, 11, 13, 16, 17, 5, 6, 9, 11, 14, 2, 1, 11, 2, 11, 5, 13, 2, 12, 19, 9, 5, 19, 18, 7, 3, 1, 12, 2, 8, 6, 19, 12, 20, 9, 15, 20, 2, 7, 9, 10, 11, 12, 13, 14, 16, 19, 17, 9, 13, 15, 16, 3, 4, 4, 9, 3, 4, 7, 14, 19, 5, 6, 13, 16, 2, 9, 4, 5, 6, 8, 12, 13, 14, 17, 15, 16, 18, 1, 7, 13, 15, 19, 17, 3, 6, 14, 12, 20, 20, 2, 14, 5, 19, 7, 8, 13, 2, 15, 19, 20, 2, 3, 18, 10, 18, 8, 5, 10, 2, 12, 16, 5, 9, 9, 12, 15, 10, 17, 11, 12, 10, 1, 8, 15, 17, 19, 1, 17, 1, 13, 2, 16, 10, 16, 9, 19, 11, 2, 12, 16, 4, 8, 9, 17, 13, 15, 3, 13, 19, 19, 13, 2, 4, 8, 20, 17, 17, 12, 10, 9, 5, 12, 18, 20, 4, 9, 11, 3, 8, 13, 16, 12, 6, 7, 13, 17, 7, 2, 4, 12, 3, 11, 1, 5, 9, 6, 14, 16, 20, 9, 17, 2, 14, 2, 16, 4, 7, 16, 4, 18, 5, 2, 3, 4, 5, 6, 7, 8, 10, 11, 12, 14, 15, 16, 18, 1, 2, 4, 1, 2, 3, 5, 7, 8, 9, 11, 14, 15, 16, 6, 12, 9, 1, 7, 19, 14, 2, 17, 9, 10, 15, 18, 19, 19, 11, 18, 7, 3, 6, 9, 10, 11, 12, 19, 15, 17, 17, 7, 6, 14, 16, 17, 19, 20, 9, 12, 19, 9, 5, 16, 4, 1, 2, 3, 4, 5, 6, 7, 8, 9, 10, 12, 16, 17, 18, 6, 13, 19, 20, 4, 7, 4, 13, 1, 9, 11, 7, 8, 13, 16, 19, 2, 5, 7, 8, 17, 10, 19, 5, 18, 11, 20, 3, 11, 15, 11, 20, 5, 13, 8, 2, 1, 7, 12, 18, 8, 6, 2, 3, 18, 2, 3, 11, 18, 19, 2, 4, 7, 13, 17, 11, 16, 9, 19, 3, 6, 2, 6, 11, 3, 5, 11, 3, 9, 18, 4, 19, 5, 11, 3, 4, 6, 10, 18, 17, 8, 8, 13, 10, 6, 2, 8, 12, 19, 12, 14, 7, 9, 6, 6, 18, 4, 16, 9, 6, 11, 16, 20, 1, 20, 17, 15, 13, 1, 10, 12, 7, 15, 9, 19, 9, 11, 18, 14, 18, 3, 11, 7, 15, 19, 11, 3, 8, 13, 4, 17, 19, 8, 20, 14, 2, 15, 7, 15, 9, 11, 18, 17, 15, 15, 2, 3, 7, 4, 6, 14, 12, 12, 4, 14, 18, 4, 5, 8, 16, 17, 18, 4, 17, 1, 11, 19, 9, 4, 11, 12, 15, 4, 3, 15, 6, 5, 19, 20, 9, 15, 16, 10, 13, 5, 4, 7, 11, 13, 17, 8, 11, 13, 18, 12, 13, 17, 12, 4, 5, 1, 6, 14, 10, 5, 8, 14, 12, 2, 5, 9, 18, 20, 2, 18, 8, 17, 9, 8, 17, 10, 17, 3, 17, 8, 10, 9, 1, 11, 1, 19, 20, 6, 4, 4, 19, 18, 11, 15, 16, 12, 1, 4, 5, 6, 8, 10, 13, 3, 20, 5, 17, 6, 12, 20, 15, 7, 11, 18, 10, 19, 9, 11, 19, 5, 9, 2, 20, 5, 2, 18, 1, 4, 7, 10, 13, 15, 20, 8, 20, 5, 6, 7, 13, 9, 15, 2, 9, 16, 3, 4, 9, 16, 13, 9, 10, 11, 12, 15, 17, 19, 10, 18, 15, 15, 18, 15, 6, 7, 16, 1, 2, 14, 15, 14, 8, 3, 9, 5, 7, 8, 9, 12, 18, 12, 15, 11, 17, 11, 2, 9, 11, 13, 15, 18, 19, 11, 11, 1, 13, 2, 10, 11, 15, 16, 17, 18, 6, 3, 2, 14, 13, 20, 18, 7, 11, 6, 19], \"Freq\": [0.4030188322067261, 0.4244352877140045, 0.007787803187966347, 0.164517343044281, 0.49084654450416565, 0.3866574168205261, 0.1180810034275055, 0.745197594165802, 0.07871805876493454, 0.17492900788784027, 0.1296563446521759, 0.8140279650688171, 0.05480319634079933, 0.9104110598564148, 0.08455830067396164, 0.9920260310173035, 0.4181971251964569, 0.5782478451728821, 0.9928643703460693, 0.9909021258354187, 0.9969921708106995, 0.9872698783874512, 0.9907901883125305, 0.9962129592895508, 0.9907501935958862, 0.9824745059013367, 0.9799314141273499, 0.655417263507843, 0.09753233194351196, 0.23212695121765137, 0.013654526323080063, 0.16284330189228058, 0.631017804145813, 0.20355413854122162, 0.32376983761787415, 0.6745204925537109, 0.16219818592071533, 0.8350202441215515, 0.985602855682373, 0.9921667575836182, 0.9914056658744812, 0.9964797496795654, 0.9890786409378052, 0.9979142546653748, 0.07272200286388397, 0.8784052729606628, 0.04784342646598816, 0.9975767135620117, 0.9950211048126221, 0.9947704672813416, 0.9867398142814636, 0.10749424248933792, 0.8351476192474365, 0.057881515473127365, 0.9887070655822754, 0.9955998063087463, 0.9983813762664795, 0.9935916662216187, 0.9805299043655396, 0.9898041486740112, 0.1731792539358139, 0.8226014375686646, 0.9986841082572937, 0.984017014503479, 0.9857621788978577, 0.9958652257919312, 0.8213052749633789, 0.17468060553073883, 0.9934426546096802, 0.9942347407341003, 0.9934466481208801, 0.9917914867401123, 0.9931396842002869, 0.9803648591041565, 0.9935916662216187, 0.7219598293304443, 0.2719711661338806, 0.060235828161239624, 0.021623117849230766, 0.08958148956298828, 0.17144043743610382, 0.528221845626831, 0.128194198012352, 0.997128963470459, 0.9953265190124512, 0.13929501175880432, 0.06190889701247215, 0.1373603641986847, 0.11414452642202377, 0.19733460247516632, 0.04449702054262161, 0.3056751787662506, 0.20293183624744415, 0.7948163747787476, 0.9965636134147644, 0.999489426612854, 0.9950035810470581, 0.6583935618400574, 0.08771701157093048, 0.053662169724702835, 0.19916921854019165, 0.42557674646377563, 0.14845700562000275, 0.423102468252182, 0.6997136473655701, 0.2955312430858612, 0.8015289306640625, 0.14426478743553162, 0.054164398461580276, 0.21258334815502167, 0.1732160598039627, 0.6101929545402527, 0.9955961108207703, 0.9817332625389099, 0.9983001947402954, 0.997488796710968, 0.9828046560287476, 0.7070346474647522, 0.2909817695617676, 0.779524028301239, 0.2160637229681015, 0.9940654039382935, 0.3785739839076996, 0.5404664874076843, 0.08059278130531311, 0.9935453534126282, 0.11035607755184174, 0.06345474720001221, 0.8249117136001587, 0.09470494091510773, 0.8574636578559875, 0.04607267677783966, 0.13293087482452393, 0.08162422478199005, 0.6296725869178772, 0.06996361911296844, 0.08395634591579437, 0.08360034227371216, 0.5419932007789612, 0.1747153103351593, 0.05072380229830742, 0.08172167837619781, 0.06669240444898605, 0.07966157048940659, 0.9161080718040466, 0.9937947392463684, 0.9992160797119141, 0.9916109442710876, 0.9855403900146484, 0.9968999624252319, 0.4592289328575134, 0.5386849641799927, 0.8927661776542664, 0.10583699494600296, 0.9986841082572937, 0.9994856715202332, 0.9986196756362915, 0.16744525730609894, 0.830659806728363, 0.9835240244865417, 0.9983850121498108, 0.4406558573246002, 0.5569025278091431, 0.6648887991905212, 0.33430859446525574, 0.14806267619132996, 0.8451910614967346, 0.9895268082618713, 0.989650309085846, 0.9943332672119141, 0.8223339319229126, 0.17688380181789398, 0.45123887062072754, 0.5476868748664856, 0.998863697052002, 0.06585260480642319, 0.9320676326751709, 0.99543297290802, 0.9985270500183105, 0.9977803826332092, 0.99234938621521, 0.9990137219429016, 0.996843695640564, 0.9957414865493774, 0.9871785044670105, 0.23898595571517944, 0.7586414217948914, 0.9925868511199951, 0.9995661377906799, 0.5786353945732117, 0.3455161154270172, 0.07493120431900024, 0.5248652100563049, 0.47292542457580566, 0.9925599098205566, 0.987545907497406, 0.31039687991142273, 0.6866354942321777, 0.9908420443534851, 0.16611401736736298, 0.19631655514240265, 0.15554311871528625, 0.08305700868368149, 0.3971635103225708, 0.9907239675521851, 0.9812169075012207, 0.9884487390518188, 0.990900456905365, 0.9932470917701721, 0.44709765911102295, 0.21359319984912872, 0.1321381777524948, 0.09050559252500534, 0.11765727400779724, 0.9911457896232605, 0.16219541430473328, 0.836145281791687, 0.9735625386238098, 0.9881991744041443, 0.9993669986724854, 0.9956496357917786, 0.9955024123191833, 0.9943506717681885, 0.1888098567724228, 0.805218517780304, 0.9963671565055847, 0.9988834261894226, 0.9940592646598816, 0.9939264059066772, 0.1811758428812027, 0.2229856550693512, 0.5942060947418213, 0.9934828877449036, 0.8340228796005249, 0.16417773067951202, 0.9941330552101135, 0.9971639513969421, 0.14851921796798706, 0.6081101894378662, 0.17892473936080933, 0.035083282738924026, 0.029236067086458206, 0.9920397400856018, 0.5121685266494751, 0.0535101443529129, 0.12230890244245529, 0.25035104155540466, 0.059243373572826385, 0.9928852915763855, 0.9910954236984253, 0.9891188144683838, 0.13289162516593933, 0.8602983951568604, 0.9940985441207886, 0.24975912272930145, 0.17785876989364624, 0.5714185833930969, 0.02883426658809185, 0.44249510765075684, 0.0798487439751625, 0.15747946500778198, 0.29166969656944275, 0.9951854348182678, 0.9833697080612183, 0.1670236587524414, 0.830942690372467, 0.9994137287139893, 0.9951683282852173, 0.9924942851066589, 0.9870585203170776, 0.9961380958557129, 0.9937374591827393, 0.989588737487793, 0.9884529113769531, 0.9857195019721985, 0.9766126275062561, 0.021523142233490944, 0.11552596092224121, 0.6498335003852844, 0.23105192184448242, 0.9939872026443481, 0.7166964411735535, 0.2811655104160309, 0.9994856715202332, 0.23509185016155243, 0.6926813125610352, 0.07136716693639755, 0.9902030825614929, 0.99140864610672, 0.14554332196712494, 0.19458509981632233, 0.18192915618419647, 0.4761797785758972, 0.9787331819534302, 0.11934377253055573, 0.06472882628440857, 0.12608635425567627, 0.26127520203590393, 0.022587662562727928, 0.011125266551971436, 0.011462396010756493, 0.12945765256881714, 0.024273309856653214, 0.05090652406215668, 0.026296084746718407, 0.0330386720597744, 0.06405457109212875, 0.05528920516371727, 0.9932202100753784, 0.9959160685539246, 0.9925694465637207, 0.9809134006500244, 0.017438460141420364, 0.9954647421836853, 0.9977187514305115, 0.9938774108886719, 0.9943728446960449, 0.9977166652679443, 0.9936482906341553, 0.9873096346855164, 0.9877728819847107, 0.9977932572364807, 0.18256638944149017, 0.8139417767524719, 0.19819124042987823, 0.12011589854955673, 0.18617965281009674, 0.11010624468326569, 0.384370893239975, 0.2559572458267212, 0.7405695915222168, 0.9933549761772156, 0.9936671257019043, 0.9898508787155151, 0.8561675548553467, 0.1430124044418335, 0.9956828951835632, 0.9975091814994812, 0.12750324606895447, 0.19661715626716614, 0.11082057654857635, 0.4242163896560669, 0.03336533531546593, 0.10605409741401672, 0.9980144500732422, 0.991889238357544, 0.9880404472351074, 0.9928577542304993, 0.9905759692192078, 0.9905557632446289, 0.9978704452514648, 0.20190352201461792, 0.7953775525093079, 0.508611261844635, 0.07295653223991394, 0.16050437092781067, 0.2563900947570801, 0.9935621619224548, 0.9907239675521851, 0.9932167530059814, 0.3025408089160919, 0.6929160356521606, 0.569951593875885, 0.22956383228302002, 0.19789984822273254, 0.9963120222091675, 0.9959108233451843, 0.3056279718875885, 0.24252259731292725, 0.04083288460969925, 0.0544438473880291, 0.3551223576068878, 0.03686262667179108, 0.10105444490909576, 0.5338725447654724, 0.06864075362682343, 0.03241368755698204, 0.13728150725364685, 0.08961431682109833, 0.9904564023017883, 0.07736781239509583, 0.9206770062446594, 0.06761856377124786, 0.6003431677818298, 0.2065107524394989, 0.12518571317195892, 0.9882922172546387, 0.9891877174377441, 0.9955807328224182, 0.993410050868988, 0.9269412755966187, 0.06564740091562271, 0.005251792259514332, 0.985287070274353, 0.6470627188682556, 0.13572534918785095, 0.21463543176651, 0.9922934174537659, 0.9949129819869995, 0.9949602484703064, 0.873595654964447, 0.12479938566684723, 0.9906883239746094, 0.9875074625015259, 0.994335949420929, 0.1511576771736145, 0.7557883858680725, 0.09223180264234543, 0.8714078068733215, 0.12731607258319855, 0.9922780990600586, 0.13013221323490143, 0.29088377952575684, 0.5771746635437012, 0.9950278401374817, 0.17804139852523804, 0.8196043372154236, 0.9971325993537903, 0.9907183647155762, 0.9974539279937744, 0.9951732754707336, 0.9874189496040344, 0.9954617023468018, 0.1918601244688034, 0.19404035806655884, 0.6104640364646912, 0.9888843894004822, 0.9853441119194031, 0.9950547218322754, 0.2391989678144455, 0.7508189678192139, 0.9824549555778503, 0.440670371055603, 0.09639664739370346, 0.03876267001032829, 0.19024311006069183, 0.041312847286462784, 0.002040140563622117, 0.19024311006069183, 0.8686714768409729, 0.12811341881752014, 0.9902030825614929, 0.986528754234314, 0.18676666915416718, 0.8093222379684448, 0.9875281453132629, 0.9979382753372192, 0.9933549165725708, 0.9853716492652893, 0.9904840588569641, 0.9950278401374817, 0.9923496246337891, 0.9912856221199036, 0.996850311756134, 0.997458815574646, 0.9930081963539124, 0.849466860294342, 0.1481628268957138, 0.5148055553436279, 0.4815922677516937, 0.9876436591148376, 0.9883895516395569, 0.9933831691741943, 0.9941455125808716, 0.9970149397850037, 0.8365813493728638, 0.15844343602657318, 0.9966413378715515, 0.17618098855018616, 0.2876424491405487, 0.14921452105045319, 0.330788791179657, 0.05213519185781479, 0.10972508788108826, 0.8864632248878479, 0.21464751660823822, 0.7787212133407593, 0.9927510619163513, 0.9935927391052246, 0.9896743893623352, 0.9950897693634033, 0.9966214299201965, 0.9937908053398132, 0.2298644483089447, 0.5153170228004456, 0.03155002370476723, 0.051080986857414246, 0.17127154767513275, 0.9968467950820923, 0.9907013773918152, 0.47610944509506226, 0.5215562582015991, 0.9987258315086365, 0.9892749786376953, 0.9839438199996948, 0.11898926645517349, 0.712676465511322, 0.06925301253795624, 0.045329246670007706, 0.05351369082927704, 0.9940659403800964, 0.9931550621986389, 0.25504645705223083, 0.1073879823088646, 0.0483245886862278, 0.5879491567611694, 0.5004944205284119, 0.1054963693022728, 0.39254462718963623, 0.17039057612419128, 0.24935206770896912, 0.49662619829177856, 0.0810394212603569, 0.37423479557037354, 0.3841482996940613, 0.11152692139148712, 0.12639717757701874, 0.9931652545928955, 0.2889421880245209, 0.07408773899078369, 0.6346849799156189, 0.9881178736686707, 0.9927403330802917, 0.9965488314628601, 0.9936747550964355, 0.6991632580757141, 0.3001781105995178, 0.9963508248329163, 0.9928516149520874, 0.3309016525745392, 0.666274905204773, 0.9953891634941101, 0.9852094054222107, 0.21212074160575867, 0.19645273685455322, 0.5905634164810181, 0.9948360919952393, 0.9948905110359192, 0.9930720925331116, 0.9879682064056396, 0.9935628771781921, 0.9937078356742859, 0.9986196756362915, 0.9916823506355286, 0.9921565651893616, 0.9935621619224548, 0.9904407262802124, 0.0761820450425148, 0.06972593814134598, 0.07359960675239563, 0.06972593814134598, 0.7088803648948669, 0.9940203428268433, 0.9867790341377258, 0.9917962551116943, 0.9972150921821594, 0.678392231464386, 0.3214143216609955, 0.5718938112258911, 0.37946411967277527, 0.046758610755205154, 0.3294571340084076, 0.6693732142448425, 0.13145612180233002, 0.09085937589406967, 0.7752044200897217, 0.34618738293647766, 0.26910659670829773, 0.239356130361557, 0.14469550549983978, 0.9935916662216187, 0.9202781915664673, 0.07868549227714539, 0.9933549761772156, 0.2898344099521637, 0.7081181406974792, 0.09046377241611481, 0.797059178352356, 0.11002350598573685, 0.9978013038635254, 0.9953227043151855, 0.14832894504070282, 0.8454750180244446, 0.9968168139457703, 0.993410050868988, 0.2660950720310211, 0.11569350957870483, 0.07172997295856476, 0.5437595248222351, 0.10486526042222977, 0.034955088049173355, 0.856399655342102, 0.8000497221946716, 0.1632208377122879, 0.034784771502017975, 0.9930254817008972, 0.882028341293335, 0.11504717916250229, 0.9954341053962708, 0.995361864566803, 0.9975133538246155, 0.9986196756362915, 0.9995661377906799, 0.9933497309684753, 0.2558434307575226, 0.27964282035827637, 0.46408811211586, 0.9948365688323975, 0.9935659766197205, 0.9942871332168579, 0.9918214082717896, 0.9931772351264954, 0.9969379305839539, 0.9948305487632751, 0.9942463040351868, 0.9848127365112305, 0.9971662163734436, 0.996330201625824, 0.15098075568675995, 0.7308841347694397, 0.11666695028543472, 0.03446813300251961, 0.04870497062802315, 0.4503336548805237, 0.07867725938558578, 0.05320081487298012, 0.12438499927520752, 0.029972290620207787, 0.1161426231265068, 0.06444042176008224, 0.9916383624076843, 0.9933434128761292, 0.9853699207305908, 0.9989967346191406, 0.9955869317054749, 0.9912062883377075, 0.1470010131597519, 0.0996617004275322, 0.0996617004275322, 0.1993234008550644, 0.4559522867202759, 0.9936800003051758, 0.4605017304420471, 0.326399564743042, 0.10120917111635208, 0.11006497591733932, 0.9926662445068359, 0.9984278082847595, 0.9924313426017761, 0.9921913743019104, 0.9947704672813416, 0.996425211429596, 0.5143840909004211, 0.18656416237354279, 0.29717007279396057, 0.9788761734962463, 0.9950326085090637, 0.9670210480690002, 0.9914195537567139, 0.9971149563789368, 0.9875667691230774, 0.9959041476249695, 0.9953582882881165, 0.9947922229766846, 0.9970718026161194, 0.9933484196662903, 0.20069265365600586, 0.7964990139007568, 0.9937393665313721, 0.9925541281700134, 0.32216235995292664, 0.15887460112571716, 0.09709002822637558, 0.06399115920066833, 0.3574678301811218, 0.9885942935943604, 0.991002082824707, 0.9934216141700745, 0.9911155700683594, 0.9980421662330627, 0.9968292117118835, 0.39938464760780334, 0.20217297971248627, 0.19969232380390167, 0.15628094971179962, 0.04217104986310005, 0.7050382494926453, 0.2949179708957672, 0.14074382185935974, 0.04800105094909668, 0.23600517213344574, 0.057186439633369446, 0.15304039418697357, 0.1508181244134903, 0.1699296534061432, 0.005926055833697319, 0.014815139584243298, 0.023556072264909744, 0.5121145248413086, 0.23263247311115265, 0.2536340057849884, 0.8420076370239258, 0.04668143391609192, 0.11078131198883057, 0.9963912963867188, 0.9935621619224548, 0.8751171231269836, 0.12154404073953629, 0.9979763627052307, 0.9874464869499207, 0.9871629476547241, 0.7696375250816345, 0.0004162452823948115, 0.22976739704608917, 0.9965552687644958, 0.739968478679657, 0.2582017779350281, 0.8923206329345703, 0.02515941672027111, 0.08218742907047272, 0.9916601777076721, 0.999262809753418, 0.8923206329345703, 0.02515941672027111, 0.08218742907047272, 0.999724268913269, 0.9811915159225464, 0.9934828877449036, 0.8136752843856812, 0.14536550641059875, 0.04086953401565552, 0.9974822998046875, 0.9987258315086365, 0.8863775134086609, 0.10822051018476486, 0.9950436949729919, 0.9927417635917664, 0.9907827973365784, 0.48472467064857483, 0.5130297541618347, 0.18369260430335999, 0.8066501021385193, 0.9889845252037048, 0.24667976796627045, 0.6377373337745667, 0.11467722058296204, 0.03385704383254051, 0.05540243536233902, 0.21606950461864471, 0.43706366419792175, 0.17851896584033966, 0.07817899435758591, 0.7199513912200928, 0.2761780619621277, 0.21347911655902863, 0.7796628475189209, 0.9996795058250427, 0.9956186413764954, 0.9921867251396179, 0.9930159449577332, 0.9987146258354187, 0.9977333545684814, 0.1045714020729065, 0.8919325470924377, 0.9868432879447937, 0.9857146143913269, 0.9916045069694519, 0.9908156991004944, 0.14777402579784393, 0.6913106441497803, 0.15966388583183289, 0.985659122467041, 0.1522427797317505, 0.8258921504020691, 0.021393591538071632, 0.08223150670528412, 0.9155107736587524, 0.2139866203069687, 0.6378048062324524, 0.14750534296035767, 0.863308846950531, 0.13478536903858185, 0.990974485874176, 0.9943743944168091, 0.35882797837257385, 0.6398378610610962, 0.8939882516860962, 0.10114465653896332, 0.9798389077186584, 0.24255089461803436, 0.19089654088020325, 0.47611844539642334, 0.08758782595396042, 0.9981173276901245, 0.9962024092674255, 0.994135320186615, 0.5266318917274475, 0.472861647605896, 0.9970896244049072, 0.8362439274787903, 0.15888634324073792, 0.9941021203994751, 0.12473273277282715, 0.8677060008049011, 0.9910136461257935, 0.9953315258026123, 0.9903828501701355, 0.9978704452514648, 0.9975776076316833, 0.13123999536037445, 0.3695839047431946, 0.033187124878168106, 0.09352735430002213, 0.37109240889549255, 0.9953199625015259, 0.9938793778419495, 0.9919002652168274, 0.9983850121498108, 0.12347806245088577, 0.18378131091594696, 0.0574316568672657, 0.6317482590675354, 0.1287325769662857, 0.12416219711303711, 0.20719090104103088, 0.227376788854599, 0.10549978166818619, 0.03961002454161644, 0.012187699787318707, 0.031230982393026352, 0.017519818618893623, 0.10626151412725449, 0.9985405206680298, 0.992501974105835, 0.24657060205936432, 0.7521648406982422, 0.5962679386138916, 0.400197833776474, 0.995341956615448, 0.9922615885734558, 0.9979813098907471, 0.9854061603546143, 0.9986699223518372, 0.9957550764083862, 0.9888559579849243, 0.12841098010540009, 0.13149283826351166, 0.07293743640184402, 0.1448475867509842, 0.03081863559782505, 0.09348319470882416, 0.21983960270881653, 0.07088286429643631, 0.04109151288866997, 0.06574641913175583, 0.994670033454895, 0.3333735764026642, 0.4017309248447418, 0.04837597534060478, 0.012619820423424244, 0.09359699487686157, 0.10937177389860153, 0.8949556946754456, 0.1034630835056305, 0.9890015125274658, 0.9983460903167725, 0.6251100897789001, 0.3744763433933258, 0.9911442399024963, 0.9358924627304077, 0.06274139136075974, 0.44196051359176636, 0.556458055973053, 0.44934332370758057, 0.5505113005638123, 0.7073796391487122, 0.1578487902879715, 0.1338774859905243, 0.9923694133758545, 0.9950143098831177, 0.16012023389339447, 0.12647628784179688, 0.5862767696380615, 0.026790544390678406, 0.09968574345111847, 0.9870585203170776, 0.9984354972839355, 0.9917879104614258, 0.26704391837120056, 0.21102072298526764, 0.028634080663323402, 0.0037348801270127296, 0.05042088031768799, 0.4382259249687195, 0.11206765472888947, 0.6518220901489258, 0.23328369855880737, 0.8241258263587952, 0.1742437332868576, 0.9980303049087524, 0.9860106110572815, 0.9892466068267822, 0.2591538429260254, 0.7358118295669556, 0.9920367002487183, 0.992793619632721, 0.9886144399642944, 0.8868680596351624, 0.11002498120069504, 0.9941229820251465, 0.9927417635917664, 0.9885632395744324, 0.9952433109283447, 0.9942934513092041, 0.9907156825065613, 0.998432457447052, 0.9893041253089905, 0.9975522756576538, 0.9877728819847107, 0.9921366572380066, 0.989640474319458, 0.9950482249259949, 0.9897660613059998, 0.17704978585243225, 0.23296025395393372, 0.5824006199836731, 0.22487741708755493, 0.161574125289917, 0.20739366114139557, 0.024115541949868202, 0.03677619993686676, 0.021101098507642746, 0.05064263567328453, 0.09706505388021469, 0.07234662771224976, 0.10369683057069778, 0.9803110361099243, 0.12242793291807175, 0.6399068236351013, 0.17670010030269623, 0.05932075157761574, 0.9993653297424316, 0.9987941384315491, 0.9968502521514893, 0.9919736385345459, 0.9192686080932617, 0.04008703678846359, 0.04008703678846359, 0.9983747601509094, 0.9838151931762695, 0.08988983929157257, 0.07730526477098465, 0.08809204399585724, 0.7424900531768799, 0.23746715486049652, 0.7609742879867554, 0.24454335868358612, 0.04378287121653557, 0.1324164867401123, 0.10999111831188202, 0.02776474691927433, 0.277647465467453, 0.11426261812448502, 0.048054371029138565, 0.5686047077178955, 0.22922807931900024, 0.2024351954460144, 0.09143605828285217, 0.3745361566543579, 0.35343554615974426, 0.10022798925638199, 0.07912735641002655, 0.9949155449867249, 0.35414549708366394, 0.6436069011688232, 0.9883661270141602, 0.27812594175338745, 0.7107663154602051, 0.9812169075012207, 0.9928255677223206, 0.9938998818397522, 0.9911856055259705, 0.9907362461090088, 0.9956496357917786, 0.9961848855018616, 0.9966221451759338, 0.026159504428505898, 0.642776370048523, 0.03550218418240547, 0.2933601438999176, 0.9888893365859985, 0.6607150435447693, 0.3369085192680359, 0.9939141273498535, 0.9937111735343933, 0.9835157990455627, 0.9944040179252625, 0.9922165274620056, 0.3232869505882263, 0.6724368333816528, 0.9867410659790039, 0.8736497163772583, 0.12448081374168396, 0.39229097962379456, 0.14395998418331146, 0.46067196130752563, 0.0950208529829979, 0.9026980996131897, 0.9915176630020142, 0.9965543150901794, 0.9981982111930847, 0.3154428005218506, 0.12914100289344788, 0.10373622179031372, 0.12067274749279022, 0.32814517617225647, 0.8235927820205688, 0.17460167407989502, 0.7701737880706787, 0.22784307599067688, 0.9964619874954224, 0.9926345348358154, 0.0843292847275734, 0.9088822603225708, 0.9959501028060913, 0.9899086356163025, 0.9882322549819946, 0.12316814064979553, 0.8504466414451599, 0.025974232703447342, 0.9966978430747986, 0.21701838076114655, 0.19148680567741394, 0.5897793173789978, 0.9934402704238892, 0.9933816194534302, 0.284295916557312, 0.7124121189117432, 0.9922887682914734, 0.988457977771759, 0.9944401383399963, 0.9939197897911072, 0.9920631647109985, 0.9964097738265991, 0.9992291331291199, 0.9961388111114502, 0.9822821617126465, 0.9891923666000366, 0.9959192276000977, 0.9887017607688904, 0.5041773915290833, 0.12324336916208267, 0.13668809831142426, 0.2352827936410904, 0.9909067153930664, 0.07917709648609161, 0.913581907749176, 0.16243582963943481, 0.6839403510093689, 0.1496119499206543, 0.9868527054786682, 0.9941866993904114, 0.9977932572364807, 0.9898332953453064, 0.9974559545516968, 0.9942625761032104, 0.9894430041313171, 0.9939197897911072, 0.9946436882019043, 0.9909722208976746, 0.9876719117164612, 0.9885342717170715, 0.9920797348022461, 0.21821030974388123, 0.7779672145843506, 0.9972507357597351, 0.34270957112312317, 0.6563000679016113, 0.9952991604804993, 0.9984288811683655, 0.9981126189231873, 0.9991084337234497, 0.9961639642715454, 0.987684965133667, 0.9799948334693909, 0.6473689079284668, 0.1048017144203186, 0.24672070145606995, 0.9963355660438538, 0.9884487390518188, 0.9938119053840637, 0.0825137346982956, 0.0702894777059555, 0.010557313449680805, 0.12307604402303696, 0.08751457184553146, 0.10085012018680573, 0.013891201466321945, 0.04195142909884453, 0.20058895647525787, 0.0391731895506382, 0.07862420380115509, 0.024170691147446632, 0.07640160620212555, 0.050286151468753815, 0.20135530829429626, 0.10697001218795776, 0.6890127062797546, 0.24668529629707336, 0.13799722492694855, 0.028087930753827095, 0.03724703937768936, 0.0885380432009697, 0.0989183634519577, 0.18989883363246918, 0.05617586150765419, 0.02442428655922413, 0.051291003823280334, 0.03968946635723114, 0.9180399775505066, 0.07982956618070602, 0.9873426556587219, 0.990614116191864, 0.8399918079376221, 0.15856987237930298, 0.9904199838638306, 0.8989138007164001, 0.09872463345527649, 0.06592517346143723, 0.7226413488388062, 0.20791786909103394, 0.9953376054763794, 0.9899086356163025, 0.994146466255188, 0.9984639883041382, 0.9957674145698547, 0.9972150921821594, 0.0653686597943306, 0.2572843134403229, 0.22208581864833832, 0.0921865701675415, 0.17347835004329681, 0.08129178732633591, 0.10727164149284363, 0.9904471635818481, 0.9943183064460754, 0.9925274848937988, 0.9954684972763062, 0.10176218301057816, 0.13715772330760956, 0.19909992814064026, 0.08185219019651413, 0.1415821611881256, 0.33846986293792725, 0.045263879001140594, 0.8147497773170471, 0.1357916295528412, 0.978329062461853, 0.5420362949371338, 0.4563467502593994, 0.9935315251350403, 0.04140014946460724, 0.016560060903429985, 0.12328045070171356, 0.21405410766601562, 0.051213521510362625, 0.09905369579792023, 0.07145359367132187, 0.12512046098709106, 0.011040040291845798, 0.11653375625610352, 0.03220011666417122, 0.007360026706010103, 0.07482694089412689, 0.015640057623386383, 0.9974350929260254, 0.9848629832267761, 0.2167087346315384, 0.782294750213623, 0.9971203804016113, 0.9973284006118774, 0.9931007027626038, 0.9847687482833862, 0.10973656177520752, 0.17489264905452728, 0.7132876515388489, 0.9933304190635681, 0.07146420329809189, 0.33052194118499756, 0.10049653798341751, 0.4935496747493744, 0.10743050277233124, 0.21195748448371887, 0.635872483253479, 0.043552909046411514, 0.9889441132545471, 0.9935060143470764, 0.9939296841621399, 0.9942795634269714, 0.9953097701072693, 0.9147864580154419, 0.08530747145414352, 0.15024349093437195, 0.6817018389701843, 0.1659405678510666, 0.9984639883041382, 0.9968969821929932, 0.9954885244369507, 0.9943733811378479, 0.9885532855987549, 0.9921421408653259, 0.990730881690979, 0.15930549800395966, 0.1026635393500328, 0.7363454103469849, 0.9932925701141357, 0.9928231835365295, 0.8249709010124207, 0.17416849732398987, 0.9840348958969116, 0.42628201842308044, 0.3498874008655548, 0.07028305530548096, 0.036669421941041946, 0.11611983180046082, 0.11059590429067612, 0.0531294047832489, 0.477080374956131, 0.30901795625686646, 0.04879231005907059, 0.9941380023956299, 0.9902161955833435, 0.9921491742134094, 0.9944244623184204, 0.9174205660820007, 0.0817665383219719, 0.9884137511253357, 0.9991304874420166, 0.9918803572654724, 0.7567274570465088, 0.24027477204799652, 0.9898552894592285, 0.9944443702697754, 0.9900510907173157, 0.9932680130004883, 0.47242435812950134, 0.5253359079360962, 0.9971172213554382, 0.9966246485710144, 0.5222476720809937, 0.04417020082473755, 0.05066582188010216, 0.3000975549221039, 0.08054566383361816, 0.9904065728187561, 0.9946301579475403, 0.7413511276245117, 0.25454115867614746, 0.988587498664856, 0.9953315258026123, 0.15953536331653595, 0.3320561647415161, 0.2430131733417511, 0.26341885328292847, 0.996076762676239, 0.9956691861152649, 0.9955852031707764, 0.9931711554527283, 0.9977932572364807, 0.9413213133811951, 0.05761092156171799, 0.3091442883014679, 0.6880953311920166, 0.9972595572471619, 0.038483425974845886, 0.38030678033828735, 0.5795150995254517, 0.9932209253311157, 0.9003309011459351, 0.09945718199014664, 0.9830474853515625, 0.9978172779083252, 0.9869537949562073, 0.14846797287464142, 0.8495667576789856, 0.9995527267456055, 0.22358109056949615, 0.7759578824043274, 0.10561470687389374, 0.8908370733261108, 0.5672374963760376, 0.3895101845264435, 0.042569421231746674, 0.7537766695022583, 0.2442551553249359, 0.9933062791824341, 0.9847437739372253, 0.13853035867214203, 0.17811045050621033, 0.682756781578064, 0.9919850826263428, 0.5346599221229553, 0.11391380429267883, 0.34909069538116455, 0.9918550252914429, 0.8773345351219177, 0.12171678245067596, 0.039998531341552734, 0.954250693321228, 0.9986196756362915, 0.9949759840965271, 0.9965307712554932, 0.9942956566810608, 0.9945586323738098, 0.48558172583580017, 0.5123929977416992, 0.981107771396637, 0.9894070029258728, 0.9857447147369385, 0.9896840453147888, 0.05692483112215996, 0.9406150579452515, 0.9916648864746094, 0.9967823624610901, 0.32093653082847595, 0.6736489534378052, 0.9861273169517517, 0.9880989789962769, 0.00728951022028923, 0.984083890914917, 0.9947060346603394, 0.2233259528875351, 0.11526501178741455, 0.21303443610668182, 0.06277826428413391, 0.3818153440952301, 0.003087455639615655, 0.7097053527832031, 0.2870718240737915, 0.3779086172580719, 0.17457735538482666, 0.4456857144832611, 0.9871938824653625, 0.9984176754951477, 0.24946680665016174, 0.6158711910247803, 0.12993063032627106, 0.9918550252914429, 0.2586142122745514, 0.736055850982666, 0.9921883344650269, 0.9942598938941956, 0.7023175954818726, 0.29205286502838135, 0.9920187592506409, 0.9982612729072571, 0.9818557500839233, 0.12399040162563324, 0.8720658421516418, 0.9956004619598389, 0.2454863339662552, 0.13808606564998627, 0.040275104343891144, 0.11890744417905807, 0.45453330874443054, 0.7801107168197632, 0.06883329898118973, 0.04971293732523918, 0.10133790969848633, 0.3861353099346161, 0.3861353099346161, 0.2233840525150299, 0.9946057200431824, 0.6086379289627075, 0.39092355966567993, 0.9856378436088562, 0.992648720741272, 0.9910542368888855, 0.9925134778022766, 0.9881976842880249, 0.992415189743042, 0.9932827949523926, 0.9977057576179504, 0.28051307797431946, 0.19090473651885986, 0.1519445925951004, 0.3740174472332001, 0.9905795454978943, 0.9933745861053467, 0.9884487390518188, 0.15252093970775604, 0.8419155478477478, 0.9881991744041443, 0.9914942979812622, 0.9903416037559509, 0.9918152093887329, 0.9933531880378723, 0.22493699193000793, 0.7704092264175415, 0.993868887424469, 0.9937824606895447, 0.9966574907302856, 0.9261870384216309, 0.06961536407470703, 0.994133710861206, 0.9912732243537903, 0.9979641437530518, 0.9973865151405334, 0.997349202632904, 0.9976842999458313, 0.9932632446289062, 0.9898692965507507, 0.549354612827301, 0.041829030960798264, 0.40713587403297424, 0.9947910308837891, 0.1391947716474533, 0.00861553754657507, 0.08157836645841599, 0.032846733927726746, 0.27300482988357544, 0.1251945197582245, 0.3392367660999298, 0.9996713399887085, 0.9830967783927917, 0.985892117023468, 0.9920886158943176, 0.9888180494308472, 0.9966723918914795, 0.9884299635887146, 0.9837035536766052, 0.9897847771644592, 0.15003032982349396, 0.8439205884933472, 0.9953893423080444, 0.9954689741134644, 0.5259934067726135, 0.4710388779640198, 0.9923732876777649, 0.9911856055259705, 0.9853740334510803, 0.9936051964759827, 0.9905795454978943, 0.9960548877716064, 0.9965317845344543, 0.9907827973365784, 0.19039204716682434, 0.04142262414097786, 0.3412615954875946, 0.022421419620513916, 0.35760262608528137, 0.028501804918050766, 0.0182411540299654, 0.8098610639572144, 0.18792356550693512, 0.08966036140918732, 0.4006101191043854, 0.509347140789032, 0.9978466033935547, 0.999001145362854, 0.9895986914634705, 0.17813406884670258, 0.7252601385116577, 0.09224800020456314, 0.42432868480682373, 0.16569024324417114, 0.07274205982685089, 0.3367688059806824, 0.9885612726211548, 0.5228626728057861, 0.015454068779945374, 0.34814581274986267, 0.009444152936339378, 0.013736950233578682, 0.013736950233578682, 0.07598250359296799, 0.9380434155464172, 0.0612926110625267, 0.9860507249832153, 0.9883275032043457, 0.993000328540802, 0.9935516119003296, 0.16742710769176483, 0.8293482065200806, 0.9943628311157227, 0.19101017713546753, 0.8062118291854858, 0.9935667514801025, 0.9950979948043823, 0.9987258315086365, 0.9993872046470642, 0.9944443702697754, 0.997488796710968, 0.09089407324790955, 0.5373913049697876, 0.15069280564785004, 0.031095340847969055, 0.12358404695987701, 0.06537994742393494, 0.9040079712867737, 0.09438598155975342, 0.9082683324813843, 0.0862085223197937, 0.9841716885566711, 0.14648208022117615, 0.39478710293769836, 0.06966830790042877, 0.1411229819059372, 0.10360927879810333, 0.08038651198148727, 0.06073647364974022, 0.9918572902679443, 0.9979894757270813, 0.9985995292663574, 0.000989692285656929, 0.07238496094942093, 0.0021934835240244865, 0.1359959840774536, 0.33998996019363403, 0.0910295695066452, 0.23250927031040192, 0.126125305891037, 0.9958129525184631, 0.9968218803405762, 0.12004408240318298, 0.8758772015571594, 0.15161697566509247, 0.8474999666213989, 0.991820216178894, 0.9921897649765015, 0.9966246485710144, 0.9985270500183105, 0.990974485874176], \"Term\": [\"000\", \"000\", \"000\", \"000\", \"10\", \"10\", \"10\", \"100\", \"100\", \"100\", \"11\", \"11\", \"11\", \"12\", \"12\", \"13\", \"14\", \"14\", \"16\", \"1795\", \"19\", \"1970s\", \"2012\", \"2015\", \"25\", \"28\", \"280\", \"300\", \"300\", \"300\", \"300\", \"4\", \"4\", \"4\", \"40\", \"40\", \"400\", \"400\", \"41\", \"43\", \"499\", \"500\", \"52\", \"57\", \"6\", \"6\", \"6\", \"7\", \"72\", \"8\", \"800\", \"9\", \"9\", \"9\", \"999\", \"abandoned\", \"abdel\", \"abdi\", \"abdullah\", \"abrams\", \"absence\", \"absence\", \"abu\", \"accidental\", \"account\", \"across\", \"actor\", \"actor\", \"ad\", \"age\", \"agent\", \"ago\", \"agreed\", \"agrees\", \"ahmed\", \"aid\", \"aid\", \"air\", \"air\", \"air\", \"air\", \"air\", \"air\", \"airdrop\", \"airdropped\", \"airport\", \"airport\", \"airport\", \"airport\", \"airport\", \"airport\", \"airport\", \"airstrike\", \"airstrike\", \"airstrikes\", \"al\", \"alan\", \"alleged\", \"alleged\", \"alleged\", \"alleged\", \"allegedly\", \"allegedly\", \"allegedly\", \"amazon\", \"amazon\", \"american\", \"american\", \"american\", \"among\", \"among\", \"among\", \"angry\", \"animal\", \"ankle\", \"anna\", \"anyway\", \"app\", \"app\", \"apparently\", \"apparently\", \"appendix\", \"apple\", \"apple\", \"apple\", \"apps\", \"arm\", \"arm\", \"arm\", \"arrest\", \"arrest\", \"arrest\", \"arrested\", \"arrested\", \"arrested\", \"arrested\", \"arrested\", \"attack\", \"attack\", \"attack\", \"attack\", \"attack\", \"attack\", \"attempt\", \"attempt\", \"attorney\", \"audio\", \"awakens\", \"awesome\", \"axl\", \"baby\", \"baby\", \"baghdadi\", \"baghdadi\", \"bakr\", \"bale\", \"bank\", \"banksy\", \"banksy\", \"banned\", \"bary\", \"batman\", \"batman\", \"batmobile\", \"batmobile\", \"battle\", \"battle\", \"become\", \"bed\", \"behead\", \"beheaded\", \"beheaded\", \"beheading\", \"beheading\", \"beheads\", \"behind\", \"behind\", \"belonging\", \"bibeau\", \"big\", \"bin\", \"biopic\", \"bird\", \"birth\", \"blurred\", \"body\", \"body\", \"bogus\", \"boko\", \"border\", \"border\", \"border\", \"born\", \"born\", \"bosnia\", \"bosnian\", \"boston\", \"boston\", \"bowe\", \"boy\", \"boy\", \"boy\", \"boy\", \"boy\", \"boyle\", \"brat\", \"brave\", \"breached\", \"break\", \"breaking\", \"breaking\", \"breaking\", \"breaking\", \"breaking\", \"britain\", \"british\", \"british\", \"briton\", \"brokaw\", \"brown\", \"buckingham\", \"bug\", \"bugatti\", \"building\", \"building\", \"burrow\", \"burrowed\", \"butcher\", \"campus\", \"canadian\", \"canadian\", \"canadian\", \"canseco\", \"capital\", \"capital\", \"capsule\", \"capture\", \"captured\", \"captured\", \"captured\", \"captured\", \"captured\", \"car\", \"case\", \"case\", \"case\", \"case\", \"case\", \"cast\", \"castrate\", \"castrated\", \"catch\", \"catch\", \"catching\", \"catfish\", \"catfish\", \"catfish\", \"caught\", \"caught\", \"caught\", \"caught\", \"caught\", \"cause\", \"cawthorne\", \"cease\", \"cease\", \"ceasefire\", \"center\", \"ceo\", \"cesar\", \"charge\", \"check\", \"cheese\", \"chemical\", \"chest\", \"chief\", \"chief\", \"child\", \"child\", \"child\", \"chlorine\", \"chop\", \"chop\", \"christian\", \"christmas\", \"christmas\", \"christmas\", \"chugging\", \"circling\", \"city\", \"city\", \"city\", \"city\", \"civil\", \"claim\", \"claim\", \"claim\", \"claim\", \"claim\", \"claim\", \"claim\", \"claim\", \"claim\", \"claim\", \"claim\", \"claim\", \"claim\", \"claim\", \"cleaver\", \"cleric\", \"closer\", \"cnn\", \"cnn\", \"co\", \"college\", \"colorado\", \"com\", \"comcast\", \"come\", \"comment\", \"conde\", \"condom\", \"confirmed\", \"confirmed\", \"confirms\", \"confirms\", \"confirms\", \"confirms\", \"confirms\", \"congressman\", \"congressman\", \"constipated\", \"contact\", \"contains\", \"contracted\", \"contracted\", \"control\", \"cost\", \"could\", \"could\", \"could\", \"could\", \"could\", \"could\", \"crater\", \"creature\", \"crisis\", \"cross\", \"cub\", \"cuba\", \"culkin\", \"customer\", \"customer\", \"cut\", \"cut\", \"cut\", \"cut\", \"dam\", \"danny\", \"darkness\", \"date\", \"date\", \"daughter\", \"daughter\", \"daughter\", \"david\", \"dawn\", \"day\", \"day\", \"day\", \"day\", \"day\", \"dead\", \"dead\", \"dead\", \"dead\", \"dead\", \"dead\", \"dead\", \"deadly\", \"deal\", \"deal\", \"death\", \"death\", \"death\", \"death\", \"debunked\", \"debut\", \"december\", \"decrease\", \"denies\", \"denies\", \"denies\", \"deny\", \"despite\", \"despite\", \"despite\", \"detail\", \"detained\", \"detainee\", \"detroit\", \"detroit\", \"developer\", \"device\", \"dictator\", \"died\", \"died\", \"died\", \"dinner\", \"dinner\", \"document\", \"dog\", \"dog\", \"dog\", \"domestic\", \"doubt\", \"doubt\", \"drone\", \"droppings\", \"drug\", \"due\", \"dupe\", \"durex\", \"dy\", \"dy\", \"dy\", \"early\", \"earth\", \"eat\", \"eating\", \"eating\", \"ebay\", \"ebola\", \"ebola\", \"ebola\", \"ebola\", \"ebola\", \"ebola\", \"ebola\", \"edition\", \"edition\", \"eggnog\", \"elaborate\", \"electric\", \"electric\", \"employee\", \"emwazi\", \"ended\", \"english\", \"entering\", \"espn\", \"ever\", \"evil\", \"ex\", \"exclusive\", \"executed\", \"execution\", \"execution\", \"executioner\", \"executioner\", \"explosion\", \"extra\", \"eye\", \"eyewitness\", \"fabricated\", \"face\", \"face\", \"facebook\", \"fake\", \"fake\", \"fake\", \"fake\", \"fake\", \"fall\", \"fall\", \"family\", \"family\", \"far\", \"farther\", \"fat\", \"father\", \"fatwa\", \"fault\", \"fear\", \"fear\", \"fear\", \"fear\", \"fear\", \"feature\", \"feb\", \"female\", \"female\", \"fence\", \"ferguson\", \"fight\", \"fighter\", \"fighter\", \"fighter\", \"fighter\", \"fighter\", \"fighting\", \"file\", \"find\", \"find\", \"find\", \"find\", \"fire\", \"fire\", \"fire\", \"fired\", \"fired\", \"fired\", \"fired\", \"first\", \"first\", \"first\", \"first\", \"fisherman\", \"five\", \"five\", \"five\", \"flood\", \"flown\", \"fly\", \"flying\", \"foley\", \"foley\", \"food\", \"foot\", \"force\", \"force\", \"forced\", \"forget\", \"found\", \"found\", \"found\", \"founder\", \"fractured\", \"francis\", \"freak\", \"free\", \"game\", \"gang\", \"gas\", \"gave\", \"gaza\", \"gender\", \"get\", \"get\", \"get\", \"get\", \"get\", \"getting\", \"gift\", \"giggling\", \"gill\", \"girl\", \"girl\", \"girlfriend\", \"girlfriend\", \"girlfriend\", \"give\", \"give\", \"go\", \"go\", \"go\", \"god\", \"god\", \"god\", \"god\", \"godane\", \"gold\", \"gold\", \"goldfish\", \"google\", \"google\", \"got\", \"got\", \"got\", \"graf\", \"graffiti\", \"graphic\", \"graphic\", \"grave\", \"gravity\", \"group\", \"group\", \"group\", \"group\", \"guard\", \"guard\", \"guard\", \"gunman\", \"gunman\", \"gunman\", \"gunshot\", \"haines\", \"haines\", \"hair\", \"hairgate\", \"hand\", \"hank\", \"haram\", \"hbo\", \"head\", \"head\", \"head\", \"headshot\", \"hearing\", \"heaven\", \"hebdo\", \"held\", \"helmet\", \"help\", \"hero\", \"herzegovina\", \"high\", \"hill\", \"hit\", \"hit\", \"hit\", \"hoax\", \"hoax\", \"hoax\", \"hoax\", \"hoax\", \"hoax\", \"hoax\", \"hoax\", \"hoax\", \"hold\", \"holding\", \"hollywood\", \"homeless\", \"hope\", \"horrific\", \"hospital\", \"hospital\", \"hospital\", \"hospital\", \"hospital\", \"hospitalized\", \"hostage\", \"hostage\", \"hostage\", \"hostage\", \"hour\", \"house\", \"huge\", \"husband\", \"icloud\", \"idea\", \"identified\", \"identified\", \"identified\", \"identifies\", \"identity\", \"ignored\", \"ill\", \"impact\", \"important\", \"inch\", \"including\", \"indian\", \"infestation\", \"injured\", \"inside\", \"inside\", \"instead\", \"intelligence\", \"internet\", \"internet\", \"internet\", \"internet\", \"internet\", \"intersex\", \"investigates\", \"investigating\", \"investigation\", \"io\", \"iphone\", \"iraq\", \"iraq\", \"iraq\", \"iraq\", \"iraq\", \"iraqi\", \"iraqi\", \"isi\", \"isi\", \"isi\", \"isi\", \"isi\", \"isi\", \"isi\", \"isi\", \"isi\", \"isi\", \"isil\", \"isil\", \"isil\", \"islamic\", \"islamic\", \"islamic\", \"island\", \"israel\", \"israeli\", \"israeli\", \"issue\", \"italian\", \"j\", \"james\", \"james\", \"james\", \"jess\", \"jet\", \"jet\", \"jihadi\", \"jihadi\", \"jihadi\", \"jj\", \"job\", \"john\", \"john\", \"john\", \"jong\", \"jordanian\", \"jose\", \"journalist\", \"journalist\", \"journalist\", \"judd\", \"jumper\", \"justice\", \"justice\", \"kansa\", \"kayla\", \"kevin\", \"kfc\", \"kfc\", \"kid\", \"kid\", \"kidnap\", \"kidnapped\", \"kidnapped\", \"kidnapped\", \"killed\", \"killed\", \"killed\", \"killed\", \"killed\", \"killed\", \"killer\", \"killer\", \"killing\", \"killing\", \"kim\", \"king\", \"known\", \"kobani\", \"korea\", \"korean\", \"kurd\", \"kurd\", \"l\", \"la\", \"land\", \"later\", \"launch\", \"launch\", \"launch\", \"law\", \"leader\", \"leader\", \"leader\", \"leaf\", \"leaf\", \"least\", \"least\", \"least\", \"lebanon\", \"lebanon\", \"led\", \"lego\", \"letter\", \"letter\", \"libyan\", \"libyan\", \"lied\", \"life\", \"life\", \"life\", \"life\", \"like\", \"line\", \"linked\", \"london\", \"london\", \"londoner\", \"look\", \"look\", \"looking\", \"love\", \"love\", \"low\", \"luke\", \"lynch\", \"macaulay\", \"macbook\", \"made\", \"made\", \"made\", \"made\", \"made\", \"magic\", \"magneto\", \"main\", \"majed\", \"make\", \"make\", \"make\", \"make\", \"man\", \"man\", \"man\", \"man\", \"man\", \"man\", \"man\", \"man\", \"man\", \"man\", \"managua\", \"march\", \"marijuana\", \"marijuana\", \"marine\", \"marine\", \"market\", \"marriage\", \"married\", \"mask\", \"mass\", \"massacre\", \"massive\", \"may\", \"may\", \"may\", \"may\", \"may\", \"may\", \"may\", \"may\", \"may\", \"may\", \"meat\", \"medium\", \"medium\", \"medium\", \"medium\", \"medium\", \"medium\", \"meet\", \"meet\", \"meeting\", \"memorial\", \"message\", \"message\", \"meteor\", \"meteorite\", \"meteorite\", \"mexican\", \"mexican\", \"mexico\", \"mexico\", \"michael\", \"michael\", \"michael\", \"michelle\", \"microsoft\", \"militant\", \"militant\", \"militant\", \"militant\", \"militant\", \"millan\", \"million\", \"ministry\", \"missing\", \"missing\", \"missing\", \"missing\", \"missing\", \"missing\", \"mob\", \"mob\", \"mob\", \"model\", \"model\", \"mohammed\", \"monitoring\", \"monster\", \"month\", \"month\", \"mortgage\", \"motorcade\", \"mourn\", \"movie\", \"movie\", \"much\", \"mueller\", \"mum\", \"murder\", \"mushroom\", \"mysterious\", \"n\", \"naked\", \"named\", \"nast\", \"nearly\", \"need\", \"nelson\", \"net\", \"never\", \"never\", \"never\", \"new\", \"new\", \"new\", \"new\", \"new\", \"new\", \"new\", \"new\", \"new\", \"new\", \"newly\", \"news\", \"news\", \"news\", \"news\", \"nicaragua\", \"nigeria\", \"nigerian\", \"nightly\", \"north\", \"north\", \"north\", \"nun\", \"nypd\", \"obama\", \"obama\", \"obama\", \"obama\", \"office\", \"office\", \"official\", \"official\", \"official\", \"official\", \"official\", \"official\", \"official\", \"official\", \"old\", \"old\", \"old\", \"open\", \"open\", \"open\", \"open\", \"open\", \"opening\", \"ottawa\", \"ottawa\", \"outbreak\", \"outraged\", \"outraged\", \"pack\", \"paid\", \"pain\", \"paint\", \"painted\", \"palace\", \"panel\", \"paradise\", \"parent\", \"parent\", \"parent\", \"parent\", \"park\", \"parliament\", \"parliament\", \"past\", \"patient\", \"patrolling\", \"paul\", \"pause\", \"pay\", \"pay\", \"peeing\", \"penis\", \"penis\", \"people\", \"people\", \"people\", \"per\", \"per\", \"personally\", \"pga\", \"phelps\", \"photo\", \"photo\", \"photo\", \"photo\", \"photo\", \"photojournalist\", \"photojournalist\", \"pilot\", \"pilot\", \"pizza\", \"place\", \"plan\", \"plan\", \"planning\", \"plant\", \"platinum\", \"play\", \"play\", \"play\", \"plumber\", \"police\", \"police\", \"police\", \"poop\", \"pooped\", \"pope\", \"pope\", \"possession\", \"pot\", \"pound\", \"pounder\", \"powerful\", \"predator\", \"pregnant\", \"president\", \"pretty\", \"price\", \"priced\", \"pricing\", \"priest\", \"priest\", \"priest\", \"priest\", \"prisoner\", \"probably\", \"probably\", \"problem\", \"problem\", \"problem\", \"proposal\", \"pull\", \"pumpkin\", \"purport\", \"putin\", \"qaeda\", \"quarantined\", \"quarter\", \"question\", \"quits\", \"railway\", \"raised\", \"rajasthan\", \"rape\", \"rape\", \"rapist\", \"rapper\", \"rapper\", \"rare\", \"rat\", \"really\", \"recording\", \"red\", \"redwood\", \"refuse\", \"release\", \"release\", \"release\", \"released\", \"remembered\", \"rep\", \"report\", \"report\", \"report\", \"report\", \"report\", \"report\", \"report\", \"report\", \"report\", \"report\", \"report\", \"report\", \"report\", \"report\", \"reported\", \"reported\", \"reported\", \"reportedly\", \"reportedly\", \"reportedly\", \"reportedly\", \"reportedly\", \"reportedly\", \"reportedly\", \"reportedly\", \"reportedly\", \"reportedly\", \"reportedly\", \"rescue\", \"rescue\", \"reserve\", \"resignation\", \"restaurant\", \"restaurant\", \"retina\", \"revealed\", \"revealed\", \"reveals\", \"reveals\", \"reveals\", \"rise\", \"robert\", \"robot\", \"rogen\", \"rose\", \"rosenberg\", \"rumor\", \"rumor\", \"rumor\", \"rumor\", \"rumor\", \"rumor\", \"rumor\", \"rumored\", \"russian\", \"sacked\", \"safe\", \"said\", \"said\", \"said\", \"said\", \"said\", \"said\", \"sale\", \"sale\", \"sale\", \"samsung\", \"saudi\", \"saudi\", \"saved\", \"say\", \"say\", \"say\", \"say\", \"say\", \"say\", \"say\", \"say\", \"say\", \"say\", \"say\", \"say\", \"say\", \"say\", \"scar\", \"scare\", \"school\", \"school\", \"schoolgirl\", \"scotland\", \"scottish\", \"search\", \"secret\", \"secret\", \"secret\", \"secretly\", \"security\", \"security\", \"security\", \"security\", \"see\", \"see\", \"see\", \"see\", \"seen\", \"self\", \"sell\", \"selling\", \"sergeant\", \"service\", \"service\", \"set\", \"set\", \"set\", \"seth\", \"seven\", \"sex\", \"shabaab\", \"shabab\", \"shane\", \"sharing\", \"shock\", \"shock\", \"shock\", \"shoot\", \"shooter\", \"shooting\", \"shooting\", \"shopper\", \"shot\", \"shot\", \"shot\", \"shot\", \"shot\", \"show\", \"show\", \"show\", \"show\", \"show\", \"shower\", \"sick\", \"sign\", \"silicon\", \"sister\", \"sister\", \"six\", \"skin\", \"skipped\", \"small\", \"small\", \"smartwatch\", \"snake\", \"sneeze\", \"sneezing\", \"sniper\", \"sniper\", \"snowman\", \"snyder\", \"soldier\", \"soldier\", \"soldier\", \"soldier\", \"soldier\", \"solved\", \"somali\", \"somalia\", \"somalia\", \"someone\", \"somers\", \"son\", \"son\", \"son\", \"son\", \"sony\", \"soon\", \"spends\", \"spent\", \"spice\", \"spider\", \"spider\", \"spotted\", \"spotted\", \"stainless\", \"star\", \"star\", \"star\", \"start\", \"state\", \"state\", \"statement\", \"station\", \"steal\", \"steel\", \"steel\", \"steve\", \"still\", \"still\", \"stock\", \"stock\", \"stolen\", \"stolen\", \"stolen\", \"stomach\", \"stomach\", \"stop\", \"storage\", \"store\", \"store\", \"store\", \"streaming\", \"strike\", \"strike\", \"strike\", \"struck\", \"student\", \"student\", \"style\", \"style\", \"sugarhill\", \"suggests\", \"suitcase\", \"summer\", \"sun\", \"superman\", \"superman\", \"superpower\", \"supply\", \"supported\", \"surfaced\", \"surgery\", \"surgery\", \"surprise\", \"survives\", \"suspect\", \"suspect\", \"suspended\", \"suspension\", \"swapped\", \"swapped\", \"symptom\", \"syria\", \"syria\", \"syria\", \"syria\", \"syria\", \"syria\", \"syrian\", \"syrian\", \"take\", \"take\", \"take\", \"taking\", \"taliban\", \"talk\", \"talk\", \"talk\", \"talking\", \"tape\", \"tape\", \"tb\", \"tear\", \"teen\", \"teen\", \"teenager\", \"teletubbies\", \"television\", \"tell\", \"tell\", \"ten\", \"terror\", \"terror\", \"terror\", \"terror\", \"terror\", \"terrorist\", \"terrorist\", \"terrorist\", \"terrorist\", \"test\", \"test\", \"test\", \"testicle\", \"texas\", \"texas\", \"theory\", \"thing\", \"thinner\", \"thought\", \"threat\", \"threatens\", \"ticket\", \"tiger\", \"time\", \"time\", \"time\", \"time\", \"timing\", \"tip\", \"tireless\", \"told\", \"told\", \"tom\", \"tonight\", \"took\", \"total\", \"totally\", \"tour\", \"tour\", \"town\", \"toy\", \"trade\", \"training\", \"training\", \"translate\", \"tribunal\", \"trip\", \"tropical\", \"truce\", \"truck\", \"try\", \"turned\", \"tv\", \"tv\", \"tv\", \"twin\", \"u\", \"u\", \"u\", \"u\", \"u\", \"u\", \"u\", \"un\", \"underage\", \"unearthed\", \"university\", \"untrue\", \"upcoming\", \"urgent\", \"urinating\", \"us\", \"use\", \"use\", \"user\", \"using\", \"v\", \"v\", \"valley\", \"vandal\", \"variant\", \"vega\", \"verifies\", \"veyron\", \"vice\", \"vickers\", \"video\", \"video\", \"video\", \"video\", \"video\", \"video\", \"video\", \"violence\", \"violence\", \"viral\", \"viral\", \"viral\", \"vladimir\", \"vogue\", \"voicemail\", \"want\", \"want\", \"want\", \"war\", \"war\", \"war\", \"war\", \"warning\", \"watch\", \"watch\", \"watch\", \"watch\", \"watch\", \"watch\", \"watch\", \"weapon\", \"weapon\", \"wear\", \"weatherman\", \"web\", \"website\", \"week\", \"week\", \"went\", \"west\", \"west\", \"western\", \"whisperer\", \"white\", \"wife\", \"wine\", \"wintour\", \"woman\", \"woman\", \"woman\", \"woman\", \"woman\", \"woman\", \"wood\", \"wood\", \"work\", \"work\", \"working\", \"world\", \"world\", \"world\", \"world\", \"world\", \"world\", \"world\", \"woz\", \"wozniak\", \"wright\", \"wright\", \"year\", \"year\", \"year\", \"year\", \"year\", \"year\", \"year\", \"yemen\", \"yo\", \"york\", \"york\", \"young\", \"young\", \"youngest\", \"ypg\", \"zack\", \"zehaf\", \"zeppelin\"]}, \"R\": 30, \"lambda.step\": 0.01, \"plot.opts\": {\"xlab\": \"PC1\", \"ylab\": \"PC2\"}, \"topic.order\": [8, 16, 10, 7, 6, 20, 14, 13, 17, 12, 11, 1, 15, 3, 5, 9, 4, 19, 2, 18]};\n",
       "\n",
       "function LDAvis_load_lib(url, callback){\n",
       "  var s = document.createElement('script');\n",
       "  s.src = url;\n",
       "  s.async = true;\n",
       "  s.onreadystatechange = s.onload = callback;\n",
       "  s.onerror = function(){console.warn(\"failed to load library \" + url);};\n",
       "  document.getElementsByTagName(\"head\")[0].appendChild(s);\n",
       "}\n",
       "\n",
       "if(typeof(LDAvis) !== \"undefined\"){\n",
       "   // already loaded: just create the visualization\n",
       "   !function(LDAvis){\n",
       "       new LDAvis(\"#\" + \"ldavis_el5494067600719602315347073\", ldavis_el5494067600719602315347073_data);\n",
       "   }(LDAvis);\n",
       "}else if(typeof define === \"function\" && define.amd){\n",
       "   // require.js is available: use it to load d3/LDAvis\n",
       "   require.config({paths: {d3: \"https://cdnjs.cloudflare.com/ajax/libs/d3/3.5.5/d3.min\"}});\n",
       "   require([\"d3\"], function(d3){\n",
       "      window.d3 = d3;\n",
       "      LDAvis_load_lib(\"https://cdn.rawgit.com/bmabey/pyLDAvis/files/ldavis.v1.0.0.js\", function(){\n",
       "        new LDAvis(\"#\" + \"ldavis_el5494067600719602315347073\", ldavis_el5494067600719602315347073_data);\n",
       "      });\n",
       "    });\n",
       "}else{\n",
       "    // require.js not available: dynamically load d3 & LDAvis\n",
       "    LDAvis_load_lib(\"https://cdnjs.cloudflare.com/ajax/libs/d3/3.5.5/d3.min.js\", function(){\n",
       "         LDAvis_load_lib(\"https://cdn.rawgit.com/bmabey/pyLDAvis/files/ldavis.v1.0.0.js\", function(){\n",
       "                 new LDAvis(\"#\" + \"ldavis_el5494067600719602315347073\", ldavis_el5494067600719602315347073_data);\n",
       "            })\n",
       "         });\n",
       "}\n",
       "</script>"
      ],
      "text/plain": [
       "PreparedData(topic_coordinates=           Freq  cluster  topics         x         y\n",
       "topic                                               \n",
       "7      7.175739        1       1  0.160565 -0.236766\n",
       "15     6.986013        1       2 -0.055301  0.092987\n",
       "9      6.434521        1       3 -0.047171  0.080033\n",
       "6      6.159083        1       4  0.033375 -0.118654\n",
       "5      5.968647        1       5  0.172359  0.133394\n",
       "19     5.822701        1       6  0.031229  0.184130\n",
       "13     5.576653        1       7  0.031246 -0.039357\n",
       "12     5.277154        1       8  0.190933  0.063809\n",
       "16     4.846416        1       9 -0.262180  0.068002\n",
       "11     4.759069        1      10  0.150684  0.096401\n",
       "10     4.680370        1      11 -0.265636  0.023132\n",
       "0      4.676740        1      12 -0.080662  0.049703\n",
       "14     4.424639        1      13  0.220810 -0.044855\n",
       "2      4.332467        1      14 -0.112297 -0.026703\n",
       "4      4.281420        1      15 -0.079351 -0.041128\n",
       "8      4.159107        1      16 -0.078881 -0.186555\n",
       "3      3.989267        1      17  0.038145 -0.165177\n",
       "18     3.813822        1      18  0.042447  0.220686\n",
       "1      3.670227        1      19 -0.152054 -0.093390\n",
       "17     2.965941        1      20  0.061741 -0.059691, topic_info=     Category         Freq        Term        Total  loglift  logprob\n",
       "term                                                                 \n",
       "221   Default  2875.000000       state  2875.000000  30.0000  30.0000\n",
       "69    Default  6749.000000         isi  6749.000000  29.0000  29.0000\n",
       "436   Default  2292.000000         kim  2292.000000  28.0000  28.0000\n",
       "217   Default  2870.000000     islamic  2870.000000  27.0000  27.0000\n",
       "14    Default  2829.000000       apple  2829.000000  26.0000  26.0000\n",
       "430   Default  2661.000000       foley  2661.000000  25.0000  25.0000\n",
       "435   Default  2099.000000        jong  2099.000000  24.0000  24.0000\n",
       "73    Default  3714.000000           u  3714.000000  23.0000  23.0000\n",
       "18    Default  1731.000000       steve  1731.000000  22.0000  22.0000\n",
       "431   Default  2402.000000       james  2402.000000  21.0000  21.0000\n",
       "468   Default  1844.000000       haram  1844.000000  20.0000  20.0000\n",
       "465   Default  1844.000000        boko  1844.000000  19.0000  19.0000\n",
       "37    Default  1624.000000         job  1624.000000  18.0000  18.0000\n",
       "437   Default  1779.000000          un  1779.000000  17.0000  17.0000\n",
       "94    Default  2009.000000      leader  2009.000000  16.0000  16.0000\n",
       "80    Default  2329.000000       watch  2329.000000  15.0000  15.0000\n",
       "505   Default  1652.000000       brown  1652.000000  14.0000  14.0000\n",
       "432   Default  2153.000000  journalist  2153.000000  13.0000  13.0000\n",
       "504   Default  1580.000000       audio  1580.000000  12.0000  12.0000\n",
       "56    Default  2210.000000     michael  2210.000000  11.0000  11.0000\n",
       "452   Default  2631.000000       video  2631.000000  10.0000  10.0000\n",
       "428   Default  1920.000000    american  1920.000000   9.0000   9.0000\n",
       "467   Default  1490.000000        girl  1490.000000   8.0000   8.0000\n",
       "98    Default  1155.000000   christian  1155.000000   7.0000   7.0000\n",
       "97    Default  1155.000000        bale  1155.000000   6.0000   6.0000\n",
       "15    Default  1193.000000        play  1193.000000   5.0000   5.0000\n",
       "486   Default  1056.000000          al  1056.000000   4.0000   4.0000\n",
       "180   Default  1605.000000    militant  1605.000000   3.0000   3.0000\n",
       "506   Default  1395.000000    shooting  1395.000000   2.0000   2.0000\n",
       "12    Default  1026.000000     student  1026.000000   1.0000   1.0000\n",
       "...       ...          ...         ...          ...      ...      ...\n",
       "1235  Topic20    54.135845      agrees    55.081535   3.5007  -5.4582\n",
       "1519  Topic20    53.068871        pack    54.014561   3.5003  -5.4781\n",
       "1515  Topic20    53.068871        brat    54.014561   3.5003  -5.4781\n",
       "1041  Topic20    52.950623   cawthorne    53.896313   3.5003  -5.4804\n",
       "1105  Topic20    47.330612      briton    48.276302   3.4982  -5.5926\n",
       "1987  Topic20    46.501282      timing    47.446972   3.4978  -5.6102\n",
       "1988  Topic20    46.501282    verifies    47.446972   3.4978  -5.6102\n",
       "2316  Topic20    44.828033    underage    45.773724   3.4971  -5.6469\n",
       "1266  Topic20    41.452560     ignored    42.398251   3.4954  -5.7252\n",
       "1704  Topic20   166.688080       style   175.006424   3.4693  -4.3336\n",
       "883   Topic20   183.569580      behind   197.410568   3.4453  -4.2371\n",
       "1501  Topic20   307.209015        fall   346.320068   3.3981  -3.7222\n",
       "199   Topic20   657.378052      school   839.836914   3.2730  -2.9615\n",
       "182   Topic20   217.607086       young   257.227142   3.3507  -4.0670\n",
       "746   Topic20   257.119415        five   404.925293   3.0638  -3.9002\n",
       "63    Topic20   241.181824      female   462.078644   2.8678  -3.9642\n",
       "467   Topic20   478.510040        girl  1490.288330   2.3819  -3.2790\n",
       "576   Topic20    92.456825    outraged   129.437759   3.1815  -4.9230\n",
       "560   Topic20   286.792267         day   808.172119   2.4820  -3.7910\n",
       "656   Topic20   125.262543       never   214.628891   2.9795  -4.6193\n",
       "1891  Topic20   111.788864          14   193.688568   2.9683  -4.7331\n",
       "501   Topic20   152.963837        said   452.034332   2.4344  -4.4195\n",
       "217   Topic20   317.972626     islamic  2870.520264   1.3177  -3.6878\n",
       "221   Topic20   285.548706       state  2875.609375   1.2084  -3.7953\n",
       "1169  Topic20   157.422852      parent   535.178345   2.2943  -4.3908\n",
       "59    Topic20   163.844376       claim  2966.220947   0.6218  -4.3508\n",
       "61    Topic20   141.138519        dead  1573.409302   1.1067  -4.5000\n",
       "795   Topic20   117.417130      killer   423.639709   2.2348  -4.6840\n",
       "64    Topic20   106.750443         god   739.483887   1.5825  -4.7792\n",
       "65    Topic20   104.631393      priest   446.271484   2.0675  -4.7993\n",
       "\n",
       "[1053 rows x 6 columns], token_table=      Topic      Freq      Term\n",
       "term                           \n",
       "74        2  0.403019       000\n",
       "74        9  0.424435       000\n",
       "74       10  0.007788       000\n",
       "74       11  0.164517       000\n",
       "75        5  0.490847        10\n",
       "75        9  0.386657        10\n",
       "75       18  0.118081        10\n",
       "239       7  0.745198       100\n",
       "239      10  0.078718       100\n",
       "239      11  0.174929       100\n",
       "618       2  0.129656        11\n",
       "618       7  0.814028        11\n",
       "618       8  0.054803        11\n",
       "453      14  0.910411        12\n",
       "453      19  0.084558        12\n",
       "2163     20  0.992026        13\n",
       "1891     10  0.418197        14\n",
       "1891     20  0.578248        14\n",
       "943       9  0.992864        16\n",
       "1791      5  0.990902      1795\n",
       "1436     15  0.996992        19\n",
       "1540     15  0.987270     1970s\n",
       "666       1  0.990790      2012\n",
       "723       7  0.996213      2015\n",
       "2552     17  0.990750        25\n",
       "84       17  0.982475        28\n",
       "2127     13  0.979931       280\n",
       "207       2  0.655417       300\n",
       "207       4  0.097532       300\n",
       "207      10  0.232127       300\n",
       "...     ...       ...       ...\n",
       "1799     11  0.984172   working\n",
       "279       2  0.146482     world\n",
       "279       9  0.394787     world\n",
       "279      11  0.069668     world\n",
       "279      13  0.141123     world\n",
       "279      15  0.103609     world\n",
       "279      18  0.080387     world\n",
       "279      19  0.060736     world\n",
       "43       11  0.991857       woz\n",
       "19       11  0.997989   wozniak\n",
       "433       1  0.998600    wright\n",
       "433      13  0.000990    wright\n",
       "280       2  0.072385      year\n",
       "280      10  0.002193      year\n",
       "280      11  0.135996      year\n",
       "280      15  0.339990      year\n",
       "280      16  0.091030      year\n",
       "280      17  0.232509      year\n",
       "280      18  0.126125      year\n",
       "674       6  0.995813     yemen\n",
       "1129      3  0.996822        yo\n",
       "1288      2  0.120044      york\n",
       "1288     14  0.875877      york\n",
       "182      13  0.151617     young\n",
       "182      20  0.847500     young\n",
       "1713     18  0.991820  youngest\n",
       "2172      7  0.992190       ypg\n",
       "295      11  0.996625      zack\n",
       "613       6  0.998527     zehaf\n",
       "171      19  0.990974  zeppelin\n",
       "\n",
       "[1533 rows x 3 columns], R=30, lambda_step=0.01, plot_opts={'xlab': 'PC1', 'ylab': 'PC2'}, topic_order=[8, 16, 10, 7, 6, 20, 14, 13, 17, 12, 11, 1, 15, 3, 5, 9, 4, 19, 2, 18])"
      ]
     },
     "execution_count": 95,
     "metadata": {},
     "output_type": "execute_result"
    }
   ],
   "source": [
    "pyLDAvis.gensim.prepare(ldamodel, corpus, dictionary)"
   ]
  },
  {
   "cell_type": "markdown",
   "metadata": {},
   "source": [
    "## preprocessing for Latent Semantic Analysis"
   ]
  },
  {
   "cell_type": "markdown",
   "metadata": {},
   "source": [
    " More processing before applying vectorizers. Latent semantic analysis is another technique used to analyze the relationships between the documents and the terms in them."
   ]
  },
  {
   "cell_type": "code",
   "execution_count": 96,
   "metadata": {},
   "outputs": [],
   "source": [
    "import re"
   ]
  },
  {
   "cell_type": "code",
   "execution_count": 97,
   "metadata": {},
   "outputs": [
    {
     "name": "stderr",
     "output_type": "stream",
     "text": [
      "<input>:6: DeprecationWarning: invalid escape sequence \\d\n",
      "<input>:6: DeprecationWarning: invalid escape sequence \\d\n",
      "<input>:6: DeprecationWarning: invalid escape sequence \\d\n",
      "<ipython-input-97-6de38bea8180>:6: DeprecationWarning: invalid escape sequence \\d\n",
      "  text = re.sub('[\\d]','',text)\n"
     ]
    }
   ],
   "source": [
    "def cleaner(text):\n",
    "    text = re.sub('&#39;','',text).lower()\n",
    "    text = re.sub('<br />','',text)\n",
    "    text = re.sub('<.*>.*</.*>','', text)\n",
    "    text = re.sub('\\\\ufeff', '', text)\n",
    "    text = re.sub('[\\d]','',text)\n",
    "    text = re.sub('[^a-z ]','',text)\n",
    "    \n",
    "    return text"
   ]
  },
  {
   "cell_type": "code",
   "execution_count": 98,
   "metadata": {},
   "outputs": [],
   "source": [
    "df_all['articleBody'] = df_all['articleBody'].map(str)\n",
    "df_all['articleBody'] = df_all['articleBody'].apply(cleaner)"
   ]
  },
  {
   "cell_type": "code",
   "execution_count": 99,
   "metadata": {
    "scrolled": true
   },
   "outputs": [
    {
     "data": {
      "text/plain": [
       "'danny boyle directing untitled film seth rogen eyed play apple co founder steve wozniak sony steve job biopic danny boyle directing untitled film based walter isaacson book adapted aaron sorkin one anticipated biopics recent year negotiation yet begun even clear rogen official offer producer scott rudin guymon casady mark gordon set sight talent talk course may naught christian bale actor play job still midst closing deal source say dealmaking process sensitive stage insider say boyle flying los angeles meet actress play one female lead assistant job insider say jessica chastain one actress meeting list wozniak known woz co founded apple job ronald wayne first met job worked atari later responsible creating early apple computer'"
      ]
     },
     "execution_count": 99,
     "metadata": {},
     "output_type": "execute_result"
    }
   ],
   "source": [
    "df_all['articleBody'].iloc[1]"
   ]
  },
  {
   "cell_type": "code",
   "execution_count": 100,
   "metadata": {},
   "outputs": [],
   "source": [
    "df_all['Headline'] = df_all['Headline'].map(str)\n",
    "df_all['Headline'] = df_all['Headline'].apply(cleaner)"
   ]
  },
  {
   "cell_type": "markdown",
   "metadata": {},
   "source": [
    "### Saving work to CSV "
   ]
  },
  {
   "cell_type": "code",
   "execution_count": 101,
   "metadata": {},
   "outputs": [],
   "source": [
    "df_all.to_csv('./preprocessed.csv')"
   ]
  },
  {
   "cell_type": "code",
   "execution_count": 102,
   "metadata": {},
   "outputs": [],
   "source": [
    "df_all = pd.read_csv('../preprocessed.csv')"
   ]
  },
  {
   "cell_type": "markdown",
   "metadata": {},
   "source": [
    "# SEE CAPSTONE NOTEBOOK PART 2\n",
    "\n",
    "Kernel dies past this point so I have added the rest of my work to separate notebooks. "
   ]
  },
  {
   "cell_type": "code",
   "execution_count": null,
   "metadata": {},
   "outputs": [],
   "source": []
  },
  {
   "cell_type": "code",
   "execution_count": null,
   "metadata": {},
   "outputs": [],
   "source": []
  },
  {
   "cell_type": "code",
   "execution_count": null,
   "metadata": {},
   "outputs": [],
   "source": []
  },
  {
   "cell_type": "code",
   "execution_count": null,
   "metadata": {},
   "outputs": [],
   "source": []
  },
  {
   "cell_type": "code",
   "execution_count": null,
   "metadata": {},
   "outputs": [],
   "source": []
  },
  {
   "cell_type": "code",
   "execution_count": null,
   "metadata": {},
   "outputs": [],
   "source": []
  },
  {
   "cell_type": "code",
   "execution_count": null,
   "metadata": {},
   "outputs": [],
   "source": []
  },
  {
   "cell_type": "code",
   "execution_count": null,
   "metadata": {},
   "outputs": [],
   "source": []
  },
  {
   "cell_type": "markdown",
   "metadata": {},
   "source": [
    "### tfidf vectorizer\n",
    "\n",
    "Using TF IDF vectorizer to turn into sparse matrices after preprocessing then convert the matrices into dataframes.  "
   ]
  },
  {
   "cell_type": "code",
   "execution_count": 103,
   "metadata": {},
   "outputs": [
    {
     "data": {
      "text/plain": [
       "<49972x18408 sparse matrix of type '<class 'numpy.float64'>'\n",
       "\twith 6480420 stored elements in Compressed Sparse Row format>"
      ]
     },
     "execution_count": 103,
     "metadata": {},
     "output_type": "execute_result"
    }
   ],
   "source": [
    "tfidf_vector = TfidfVectorizer(min_df = 5, stop_words='english')\n",
    "\n",
    "articleBody_matrix_sparse = tfidf_vector.fit_transform(df_all['articleBody'])\n",
    "articleBody_matrix_sparse"
   ]
  },
  {
   "cell_type": "code",
   "execution_count": 104,
   "metadata": {},
   "outputs": [],
   "source": [
    "articleBody_df_tfdf = pd.DataFrame(articleBody_matrix_sparse.toarray(),\n",
    "                                 index = df_all.index,\n",
    "                                 columns = tfidf_vector.get_feature_names())"
   ]
  },
  {
   "cell_type": "code",
   "execution_count": 105,
   "metadata": {
    "scrolled": false
   },
   "outputs": [
    {
     "data": {
      "text/html": [
       "<div>\n",
       "<style scoped>\n",
       "    .dataframe tbody tr th:only-of-type {\n",
       "        vertical-align: middle;\n",
       "    }\n",
       "\n",
       "    .dataframe tbody tr th {\n",
       "        vertical-align: top;\n",
       "    }\n",
       "\n",
       "    .dataframe thead th {\n",
       "        text-align: right;\n",
       "    }\n",
       "</style>\n",
       "<table border=\"1\" class=\"dataframe\">\n",
       "  <thead>\n",
       "    <tr style=\"text-align: right;\">\n",
       "      <th></th>\n",
       "      <th>aafia</th>\n",
       "      <th>aamaq</th>\n",
       "      <th>aamir</th>\n",
       "      <th>aan</th>\n",
       "      <th>aapl</th>\n",
       "      <th>aaron</th>\n",
       "      <th>aback</th>\n",
       "      <th>abadam</th>\n",
       "      <th>abadi</th>\n",
       "      <th>abagnale</th>\n",
       "      <th>...</th>\n",
       "      <th>zobl</th>\n",
       "      <th>zone</th>\n",
       "      <th>zoning</th>\n",
       "      <th>zoology</th>\n",
       "      <th>zor</th>\n",
       "      <th>zubayr</th>\n",
       "      <th>zubeyr</th>\n",
       "      <th>zuckerberg</th>\n",
       "      <th>zulu</th>\n",
       "      <th>zxycaeuwb</th>\n",
       "    </tr>\n",
       "  </thead>\n",
       "  <tbody>\n",
       "    <tr>\n",
       "      <th>0</th>\n",
       "      <td>0.0</td>\n",
       "      <td>0.0</td>\n",
       "      <td>0.0</td>\n",
       "      <td>0.0</td>\n",
       "      <td>0.0</td>\n",
       "      <td>0.07737</td>\n",
       "      <td>0.0</td>\n",
       "      <td>0.0</td>\n",
       "      <td>0.0</td>\n",
       "      <td>0.0</td>\n",
       "      <td>...</td>\n",
       "      <td>0.0</td>\n",
       "      <td>0.0</td>\n",
       "      <td>0.0</td>\n",
       "      <td>0.0</td>\n",
       "      <td>0.0</td>\n",
       "      <td>0.0</td>\n",
       "      <td>0.0</td>\n",
       "      <td>0.0</td>\n",
       "      <td>0.0</td>\n",
       "      <td>0.0</td>\n",
       "    </tr>\n",
       "    <tr>\n",
       "      <th>1</th>\n",
       "      <td>0.0</td>\n",
       "      <td>0.0</td>\n",
       "      <td>0.0</td>\n",
       "      <td>0.0</td>\n",
       "      <td>0.0</td>\n",
       "      <td>0.07737</td>\n",
       "      <td>0.0</td>\n",
       "      <td>0.0</td>\n",
       "      <td>0.0</td>\n",
       "      <td>0.0</td>\n",
       "      <td>...</td>\n",
       "      <td>0.0</td>\n",
       "      <td>0.0</td>\n",
       "      <td>0.0</td>\n",
       "      <td>0.0</td>\n",
       "      <td>0.0</td>\n",
       "      <td>0.0</td>\n",
       "      <td>0.0</td>\n",
       "      <td>0.0</td>\n",
       "      <td>0.0</td>\n",
       "      <td>0.0</td>\n",
       "    </tr>\n",
       "    <tr>\n",
       "      <th>2</th>\n",
       "      <td>0.0</td>\n",
       "      <td>0.0</td>\n",
       "      <td>0.0</td>\n",
       "      <td>0.0</td>\n",
       "      <td>0.0</td>\n",
       "      <td>0.07737</td>\n",
       "      <td>0.0</td>\n",
       "      <td>0.0</td>\n",
       "      <td>0.0</td>\n",
       "      <td>0.0</td>\n",
       "      <td>...</td>\n",
       "      <td>0.0</td>\n",
       "      <td>0.0</td>\n",
       "      <td>0.0</td>\n",
       "      <td>0.0</td>\n",
       "      <td>0.0</td>\n",
       "      <td>0.0</td>\n",
       "      <td>0.0</td>\n",
       "      <td>0.0</td>\n",
       "      <td>0.0</td>\n",
       "      <td>0.0</td>\n",
       "    </tr>\n",
       "    <tr>\n",
       "      <th>3</th>\n",
       "      <td>0.0</td>\n",
       "      <td>0.0</td>\n",
       "      <td>0.0</td>\n",
       "      <td>0.0</td>\n",
       "      <td>0.0</td>\n",
       "      <td>0.07737</td>\n",
       "      <td>0.0</td>\n",
       "      <td>0.0</td>\n",
       "      <td>0.0</td>\n",
       "      <td>0.0</td>\n",
       "      <td>...</td>\n",
       "      <td>0.0</td>\n",
       "      <td>0.0</td>\n",
       "      <td>0.0</td>\n",
       "      <td>0.0</td>\n",
       "      <td>0.0</td>\n",
       "      <td>0.0</td>\n",
       "      <td>0.0</td>\n",
       "      <td>0.0</td>\n",
       "      <td>0.0</td>\n",
       "      <td>0.0</td>\n",
       "    </tr>\n",
       "    <tr>\n",
       "      <th>4</th>\n",
       "      <td>0.0</td>\n",
       "      <td>0.0</td>\n",
       "      <td>0.0</td>\n",
       "      <td>0.0</td>\n",
       "      <td>0.0</td>\n",
       "      <td>0.07737</td>\n",
       "      <td>0.0</td>\n",
       "      <td>0.0</td>\n",
       "      <td>0.0</td>\n",
       "      <td>0.0</td>\n",
       "      <td>...</td>\n",
       "      <td>0.0</td>\n",
       "      <td>0.0</td>\n",
       "      <td>0.0</td>\n",
       "      <td>0.0</td>\n",
       "      <td>0.0</td>\n",
       "      <td>0.0</td>\n",
       "      <td>0.0</td>\n",
       "      <td>0.0</td>\n",
       "      <td>0.0</td>\n",
       "      <td>0.0</td>\n",
       "    </tr>\n",
       "  </tbody>\n",
       "</table>\n",
       "<p>5 rows × 18408 columns</p>\n",
       "</div>"
      ],
      "text/plain": [
       "   aafia  aamaq  aamir  aan  aapl    aaron  aback  abadam  abadi  abagnale  \\\n",
       "0    0.0    0.0    0.0  0.0   0.0  0.07737    0.0     0.0    0.0       0.0   \n",
       "1    0.0    0.0    0.0  0.0   0.0  0.07737    0.0     0.0    0.0       0.0   \n",
       "2    0.0    0.0    0.0  0.0   0.0  0.07737    0.0     0.0    0.0       0.0   \n",
       "3    0.0    0.0    0.0  0.0   0.0  0.07737    0.0     0.0    0.0       0.0   \n",
       "4    0.0    0.0    0.0  0.0   0.0  0.07737    0.0     0.0    0.0       0.0   \n",
       "\n",
       "     ...      zobl  zone  zoning  zoology  zor  zubayr  zubeyr  zuckerberg  \\\n",
       "0    ...       0.0   0.0     0.0      0.0  0.0     0.0     0.0         0.0   \n",
       "1    ...       0.0   0.0     0.0      0.0  0.0     0.0     0.0         0.0   \n",
       "2    ...       0.0   0.0     0.0      0.0  0.0     0.0     0.0         0.0   \n",
       "3    ...       0.0   0.0     0.0      0.0  0.0     0.0     0.0         0.0   \n",
       "4    ...       0.0   0.0     0.0      0.0  0.0     0.0     0.0         0.0   \n",
       "\n",
       "   zulu  zxycaeuwb  \n",
       "0   0.0        0.0  \n",
       "1   0.0        0.0  \n",
       "2   0.0        0.0  \n",
       "3   0.0        0.0  \n",
       "4   0.0        0.0  \n",
       "\n",
       "[5 rows x 18408 columns]"
      ]
     },
     "execution_count": 105,
     "metadata": {},
     "output_type": "execute_result"
    }
   ],
   "source": [
    "articleBody_df_tfdf.head()"
   ]
  },
  {
   "cell_type": "code",
   "execution_count": 106,
   "metadata": {},
   "outputs": [
    {
     "data": {
      "text/plain": [
       "<49972x2736 sparse matrix of type '<class 'numpy.float64'>'\n",
       "\twith 388147 stored elements in Compressed Sparse Row format>"
      ]
     },
     "execution_count": 106,
     "metadata": {},
     "output_type": "execute_result"
    }
   ],
   "source": [
    "headline_matrix_sparse = tfidf_vector.fit_transform(df_all['Headline'])\n",
    "headline_matrix_sparse"
   ]
  },
  {
   "cell_type": "code",
   "execution_count": 107,
   "metadata": {},
   "outputs": [],
   "source": [
    "headline_df_tfdf = pd.DataFrame(headline_matrix_sparse.toarray(),\n",
    "                                 index = df_all.index,\n",
    "                                 columns = tfidf_vector.get_feature_names())"
   ]
  },
  {
   "cell_type": "code",
   "execution_count": 108,
   "metadata": {},
   "outputs": [
    {
     "data": {
      "text/html": [
       "<div>\n",
       "<style scoped>\n",
       "    .dataframe tbody tr th:only-of-type {\n",
       "        vertical-align: middle;\n",
       "    }\n",
       "\n",
       "    .dataframe tbody tr th {\n",
       "        vertical-align: top;\n",
       "    }\n",
       "\n",
       "    .dataframe thead th {\n",
       "        text-align: right;\n",
       "    }\n",
       "</style>\n",
       "<table border=\"1\" class=\"dataframe\">\n",
       "  <thead>\n",
       "    <tr style=\"text-align: right;\">\n",
       "      <th></th>\n",
       "      <th>aaron</th>\n",
       "      <th>abandoned</th>\n",
       "      <th>abdel</th>\n",
       "      <th>abdi</th>\n",
       "      <th>abducted</th>\n",
       "      <th>abducting</th>\n",
       "      <th>abdul</th>\n",
       "      <th>abdullah</th>\n",
       "      <th>abort</th>\n",
       "      <th>aborted</th>\n",
       "      <th>...</th>\n",
       "      <th>younger</th>\n",
       "      <th>youngest</th>\n",
       "      <th>youtube</th>\n",
       "      <th>ypg</th>\n",
       "      <th>yum</th>\n",
       "      <th>zack</th>\n",
       "      <th>zehaf</th>\n",
       "      <th>zeppelin</th>\n",
       "      <th>zero</th>\n",
       "      <th>zhejiang</th>\n",
       "    </tr>\n",
       "  </thead>\n",
       "  <tbody>\n",
       "    <tr>\n",
       "      <th>0</th>\n",
       "      <td>0.0</td>\n",
       "      <td>0.0</td>\n",
       "      <td>0.0</td>\n",
       "      <td>0.0</td>\n",
       "      <td>0.0</td>\n",
       "      <td>0.0</td>\n",
       "      <td>0.0</td>\n",
       "      <td>0.0</td>\n",
       "      <td>0.0</td>\n",
       "      <td>0.0</td>\n",
       "      <td>...</td>\n",
       "      <td>0.0</td>\n",
       "      <td>0.0</td>\n",
       "      <td>0.0</td>\n",
       "      <td>0.0</td>\n",
       "      <td>0.0</td>\n",
       "      <td>0.0</td>\n",
       "      <td>0.0</td>\n",
       "      <td>0.0</td>\n",
       "      <td>0.0</td>\n",
       "      <td>0.0</td>\n",
       "    </tr>\n",
       "    <tr>\n",
       "      <th>1</th>\n",
       "      <td>0.0</td>\n",
       "      <td>0.0</td>\n",
       "      <td>0.0</td>\n",
       "      <td>0.0</td>\n",
       "      <td>0.0</td>\n",
       "      <td>0.0</td>\n",
       "      <td>0.0</td>\n",
       "      <td>0.0</td>\n",
       "      <td>0.0</td>\n",
       "      <td>0.0</td>\n",
       "      <td>...</td>\n",
       "      <td>0.0</td>\n",
       "      <td>0.0</td>\n",
       "      <td>0.0</td>\n",
       "      <td>0.0</td>\n",
       "      <td>0.0</td>\n",
       "      <td>0.0</td>\n",
       "      <td>0.0</td>\n",
       "      <td>0.0</td>\n",
       "      <td>0.0</td>\n",
       "      <td>0.0</td>\n",
       "    </tr>\n",
       "    <tr>\n",
       "      <th>2</th>\n",
       "      <td>0.0</td>\n",
       "      <td>0.0</td>\n",
       "      <td>0.0</td>\n",
       "      <td>0.0</td>\n",
       "      <td>0.0</td>\n",
       "      <td>0.0</td>\n",
       "      <td>0.0</td>\n",
       "      <td>0.0</td>\n",
       "      <td>0.0</td>\n",
       "      <td>0.0</td>\n",
       "      <td>...</td>\n",
       "      <td>0.0</td>\n",
       "      <td>0.0</td>\n",
       "      <td>0.0</td>\n",
       "      <td>0.0</td>\n",
       "      <td>0.0</td>\n",
       "      <td>0.0</td>\n",
       "      <td>0.0</td>\n",
       "      <td>0.0</td>\n",
       "      <td>0.0</td>\n",
       "      <td>0.0</td>\n",
       "    </tr>\n",
       "    <tr>\n",
       "      <th>3</th>\n",
       "      <td>0.0</td>\n",
       "      <td>0.0</td>\n",
       "      <td>0.0</td>\n",
       "      <td>0.0</td>\n",
       "      <td>0.0</td>\n",
       "      <td>0.0</td>\n",
       "      <td>0.0</td>\n",
       "      <td>0.0</td>\n",
       "      <td>0.0</td>\n",
       "      <td>0.0</td>\n",
       "      <td>...</td>\n",
       "      <td>0.0</td>\n",
       "      <td>0.0</td>\n",
       "      <td>0.0</td>\n",
       "      <td>0.0</td>\n",
       "      <td>0.0</td>\n",
       "      <td>0.0</td>\n",
       "      <td>0.0</td>\n",
       "      <td>0.0</td>\n",
       "      <td>0.0</td>\n",
       "      <td>0.0</td>\n",
       "    </tr>\n",
       "    <tr>\n",
       "      <th>4</th>\n",
       "      <td>0.0</td>\n",
       "      <td>0.0</td>\n",
       "      <td>0.0</td>\n",
       "      <td>0.0</td>\n",
       "      <td>0.0</td>\n",
       "      <td>0.0</td>\n",
       "      <td>0.0</td>\n",
       "      <td>0.0</td>\n",
       "      <td>0.0</td>\n",
       "      <td>0.0</td>\n",
       "      <td>...</td>\n",
       "      <td>0.0</td>\n",
       "      <td>0.0</td>\n",
       "      <td>0.0</td>\n",
       "      <td>0.0</td>\n",
       "      <td>0.0</td>\n",
       "      <td>0.0</td>\n",
       "      <td>0.0</td>\n",
       "      <td>0.0</td>\n",
       "      <td>0.0</td>\n",
       "      <td>0.0</td>\n",
       "    </tr>\n",
       "  </tbody>\n",
       "</table>\n",
       "<p>5 rows × 2736 columns</p>\n",
       "</div>"
      ],
      "text/plain": [
       "   aaron  abandoned  abdel  abdi  abducted  abducting  abdul  abdullah  abort  \\\n",
       "0    0.0        0.0    0.0   0.0       0.0        0.0    0.0       0.0    0.0   \n",
       "1    0.0        0.0    0.0   0.0       0.0        0.0    0.0       0.0    0.0   \n",
       "2    0.0        0.0    0.0   0.0       0.0        0.0    0.0       0.0    0.0   \n",
       "3    0.0        0.0    0.0   0.0       0.0        0.0    0.0       0.0    0.0   \n",
       "4    0.0        0.0    0.0   0.0       0.0        0.0    0.0       0.0    0.0   \n",
       "\n",
       "   aborted    ...     younger  youngest  youtube  ypg  yum  zack  zehaf  \\\n",
       "0      0.0    ...         0.0       0.0      0.0  0.0  0.0   0.0    0.0   \n",
       "1      0.0    ...         0.0       0.0      0.0  0.0  0.0   0.0    0.0   \n",
       "2      0.0    ...         0.0       0.0      0.0  0.0  0.0   0.0    0.0   \n",
       "3      0.0    ...         0.0       0.0      0.0  0.0  0.0   0.0    0.0   \n",
       "4      0.0    ...         0.0       0.0      0.0  0.0  0.0   0.0    0.0   \n",
       "\n",
       "   zeppelin  zero  zhejiang  \n",
       "0       0.0   0.0       0.0  \n",
       "1       0.0   0.0       0.0  \n",
       "2       0.0   0.0       0.0  \n",
       "3       0.0   0.0       0.0  \n",
       "4       0.0   0.0       0.0  \n",
       "\n",
       "[5 rows x 2736 columns]"
      ]
     },
     "execution_count": 108,
     "metadata": {},
     "output_type": "execute_result"
    }
   ],
   "source": [
    "headline_df_tfdf.head()"
   ]
  },
  {
   "cell_type": "markdown",
   "metadata": {},
   "source": [
    "## Truncated SVD\n",
    "\n",
    "We now need to  perform linear dimensionality reduction using singular value decomposition on the TF IDF matrices. We need the matrices in this form to calculate cosine similarity. "
   ]
  },
  {
   "cell_type": "code",
   "execution_count": 109,
   "metadata": {},
   "outputs": [],
   "source": [
    "from sklearn.decomposition import TruncatedSVD"
   ]
  },
  {
   "cell_type": "code",
   "execution_count": 110,
   "metadata": {},
   "outputs": [],
   "source": [
    "n_components = 100\n",
    "SVD = TruncatedSVD(n_components)\n",
    "component_names = [\"component_\"+str(i) for i in range(n_components)]"
   ]
  },
  {
   "cell_type": "code",
   "execution_count": 111,
   "metadata": {
    "scrolled": true
   },
   "outputs": [
    {
     "data": {
      "text/plain": [
       "array([[ 0.09533842,  0.20917657, -0.02623447, ..., -0.01842468,\n",
       "        -0.01329635,  0.00160345],\n",
       "       [ 0.09533842,  0.20917657, -0.02623447, ..., -0.01842468,\n",
       "        -0.01329635,  0.00160345],\n",
       "       [ 0.09533842,  0.20917657, -0.02623447, ..., -0.01842468,\n",
       "        -0.01329635,  0.00160345],\n",
       "       ...,\n",
       "       [ 0.10926743, -0.00405857, -0.01237433, ..., -0.0078137 ,\n",
       "         0.01992944, -0.00284108],\n",
       "       [ 0.17433645,  0.51243759, -0.07441561, ..., -0.03089425,\n",
       "        -0.01542923, -0.01088547],\n",
       "       [ 0.16292306,  0.66241464, -0.1288089 , ..., -0.0098862 ,\n",
       "        -0.01244625, -0.02435808]])"
      ]
     },
     "execution_count": 111,
     "metadata": {},
     "output_type": "execute_result"
    }
   ],
   "source": [
    "articleBody_svd_matrix = SVD.fit_transform(articleBody_df_tfdf)\n",
    "articleBody_svd_matrix"
   ]
  },
  {
   "cell_type": "code",
   "execution_count": 112,
   "metadata": {},
   "outputs": [
    {
     "data": {
      "text/plain": [
       "array([[ 0.01147472,  0.00935667,  0.00474699, ...,  0.05792497,\n",
       "        -0.06416471,  0.0664541 ],\n",
       "       [ 0.00723122,  0.05075079, -0.00227505, ...,  0.01528682,\n",
       "        -0.02149199,  0.00855633],\n",
       "       [ 0.01427154,  0.00729155,  0.00614716, ...,  0.05510026,\n",
       "        -0.05917941,  0.0499812 ],\n",
       "       ...,\n",
       "       [ 0.01233532,  0.00230594,  0.00526008, ..., -0.00503097,\n",
       "        -0.029953  ,  0.02016431],\n",
       "       [ 0.01735207,  0.01500696,  0.00583619, ..., -0.01005641,\n",
       "         0.00682132, -0.00083453],\n",
       "       [ 0.00979547,  0.01030194,  0.00912457, ..., -0.01906919,\n",
       "         0.03719339, -0.0674999 ]])"
      ]
     },
     "execution_count": 112,
     "metadata": {},
     "output_type": "execute_result"
    }
   ],
   "source": [
    "headline_svd_matrix = SVD.fit_transform(headline_df_tfdf)\n",
    "headline_svd_matrix"
   ]
  },
  {
   "cell_type": "code",
   "execution_count": 113,
   "metadata": {},
   "outputs": [
    {
     "data": {
      "text/plain": [
       "(49972, 100)"
      ]
     },
     "execution_count": 113,
     "metadata": {},
     "output_type": "execute_result"
    }
   ],
   "source": [
    "articleBody_svd_matrix.shape"
   ]
  },
  {
   "cell_type": "markdown",
   "metadata": {},
   "source": [
    "## Cosine Similarity\n",
    "\n",
    "Calculate distances between headline and articles to use as our X. "
   ]
  },
  {
   "cell_type": "code",
   "execution_count": 114,
   "metadata": {},
   "outputs": [],
   "source": [
    "import scipy.spatial as sp"
   ]
  },
  {
   "cell_type": "code",
   "execution_count": 115,
   "metadata": {},
   "outputs": [],
   "source": [
    "distances = []\n",
    "for i, body in enumerate(articleBody_svd_matrix): \n",
    "    distances.append(sp.distance.cdist([body], [headline_svd_matrix[i]], 'cosine')[0][0])"
   ]
  },
  {
   "cell_type": "code",
   "execution_count": 116,
   "metadata": {},
   "outputs": [],
   "source": [
    "df_all['distances'] = pd.Series(distances)"
   ]
  },
  {
   "cell_type": "code",
   "execution_count": 117,
   "metadata": {},
   "outputs": [
    {
     "data": {
      "text/plain": [
       "(49972, 6)"
      ]
     },
     "execution_count": 117,
     "metadata": {},
     "output_type": "execute_result"
    }
   ],
   "source": [
    "df_all.shape"
   ]
  },
  {
   "cell_type": "markdown",
   "metadata": {},
   "source": [
    "### Eliminating Nulls from all Data"
   ]
  },
  {
   "cell_type": "code",
   "execution_count": 118,
   "metadata": {},
   "outputs": [
    {
     "data": {
      "text/plain": [
       "(49972, 6)"
      ]
     },
     "execution_count": 118,
     "metadata": {},
     "output_type": "execute_result"
    }
   ],
   "source": [
    "df_all.shape"
   ]
  },
  {
   "cell_type": "code",
   "execution_count": 119,
   "metadata": {},
   "outputs": [],
   "source": [
    "df_all = df_all.dropna(axis=0)"
   ]
  },
  {
   "cell_type": "code",
   "execution_count": 120,
   "metadata": {},
   "outputs": [
    {
     "data": {
      "text/plain": [
       "(49970, 6)"
      ]
     },
     "execution_count": 120,
     "metadata": {},
     "output_type": "execute_result"
    }
   ],
   "source": [
    "df_all.shape"
   ]
  },
  {
   "cell_type": "code",
   "execution_count": 121,
   "metadata": {
    "scrolled": true
   },
   "outputs": [
    {
     "data": {
      "text/html": [
       "<div>\n",
       "<style scoped>\n",
       "    .dataframe tbody tr th:only-of-type {\n",
       "        vertical-align: middle;\n",
       "    }\n",
       "\n",
       "    .dataframe tbody tr th {\n",
       "        vertical-align: top;\n",
       "    }\n",
       "\n",
       "    .dataframe thead th {\n",
       "        text-align: right;\n",
       "    }\n",
       "</style>\n",
       "<table border=\"1\" class=\"dataframe\">\n",
       "  <thead>\n",
       "    <tr style=\"text-align: right;\">\n",
       "      <th></th>\n",
       "      <th>Unnamed: 0</th>\n",
       "      <th>Headline</th>\n",
       "      <th>Body ID</th>\n",
       "      <th>Stance</th>\n",
       "      <th>articleBody</th>\n",
       "      <th>distances</th>\n",
       "    </tr>\n",
       "  </thead>\n",
       "  <tbody>\n",
       "    <tr>\n",
       "      <th>0</th>\n",
       "      <td>0</td>\n",
       "      <td>police find mass graf least  body near mexico ...</td>\n",
       "      <td>712</td>\n",
       "      <td>unrelated</td>\n",
       "      <td>danny boyle directing untitled film seth rogen...</td>\n",
       "      <td>0.852089</td>\n",
       "    </tr>\n",
       "    <tr>\n",
       "      <th>1</th>\n",
       "      <td>1</td>\n",
       "      <td>seth rogen play apple steve wozniak</td>\n",
       "      <td>712</td>\n",
       "      <td>discuss</td>\n",
       "      <td>danny boyle directing untitled film seth rogen...</td>\n",
       "      <td>0.952722</td>\n",
       "    </tr>\n",
       "    <tr>\n",
       "      <th>2</th>\n",
       "      <td>2</td>\n",
       "      <td>mexico police find mass grave near site  stude...</td>\n",
       "      <td>712</td>\n",
       "      <td>unrelated</td>\n",
       "      <td>danny boyle directing untitled film seth rogen...</td>\n",
       "      <td>0.834662</td>\n",
       "    </tr>\n",
       "    <tr>\n",
       "      <th>3</th>\n",
       "      <td>3</td>\n",
       "      <td>mexico say missing student found first mass graf</td>\n",
       "      <td>712</td>\n",
       "      <td>unrelated</td>\n",
       "      <td>danny boyle directing untitled film seth rogen...</td>\n",
       "      <td>0.766238</td>\n",
       "    </tr>\n",
       "    <tr>\n",
       "      <th>4</th>\n",
       "      <td>4</td>\n",
       "      <td>new io  bug delete icloud document</td>\n",
       "      <td>712</td>\n",
       "      <td>unrelated</td>\n",
       "      <td>danny boyle directing untitled film seth rogen...</td>\n",
       "      <td>0.965413</td>\n",
       "    </tr>\n",
       "  </tbody>\n",
       "</table>\n",
       "</div>"
      ],
      "text/plain": [
       "   Unnamed: 0                                           Headline  Body ID  \\\n",
       "0           0  police find mass graf least  body near mexico ...      712   \n",
       "1           1                seth rogen play apple steve wozniak      712   \n",
       "2           2  mexico police find mass grave near site  stude...      712   \n",
       "3           3   mexico say missing student found first mass graf      712   \n",
       "4           4                 new io  bug delete icloud document      712   \n",
       "\n",
       "      Stance                                        articleBody  distances  \n",
       "0  unrelated  danny boyle directing untitled film seth rogen...   0.852089  \n",
       "1    discuss  danny boyle directing untitled film seth rogen...   0.952722  \n",
       "2  unrelated  danny boyle directing untitled film seth rogen...   0.834662  \n",
       "3  unrelated  danny boyle directing untitled film seth rogen...   0.766238  \n",
       "4  unrelated  danny boyle directing untitled film seth rogen...   0.965413  "
      ]
     },
     "execution_count": 121,
     "metadata": {},
     "output_type": "execute_result"
    }
   ],
   "source": [
    "df_all.head()"
   ]
  },
  {
   "cell_type": "markdown",
   "metadata": {},
   "source": [
    "### Adding labels to stances"
   ]
  },
  {
   "cell_type": "code",
   "execution_count": 122,
   "metadata": {},
   "outputs": [],
   "source": [
    "from sklearn import preprocessing"
   ]
  },
  {
   "cell_type": "code",
   "execution_count": 123,
   "metadata": {},
   "outputs": [
    {
     "name": "stdout",
     "output_type": "stream",
     "text": [
      "Classes: ['agree', 'disagree', 'discuss', 'unrelated']\n"
     ]
    }
   ],
   "source": [
    "le = preprocessing.LabelEncoder()\n",
    "le.fit(df_all['Stance'])\n",
    "print(\"Classes:\", list(le.classes_))\n",
    "stance_label = le.transform(df_all['Stance']) \n"
   ]
  },
  {
   "cell_type": "code",
   "execution_count": 124,
   "metadata": {
    "scrolled": true
   },
   "outputs": [
    {
     "data": {
      "text/plain": [
       "array([3, 2, 3, ..., 0, 2, 2])"
      ]
     },
     "execution_count": 124,
     "metadata": {},
     "output_type": "execute_result"
    }
   ],
   "source": [
    "stance_label"
   ]
  },
  {
   "cell_type": "markdown",
   "metadata": {},
   "source": [
    "Creating dummies for the four stances. "
   ]
  },
  {
   "cell_type": "code",
   "execution_count": 125,
   "metadata": {},
   "outputs": [],
   "source": [
    "df_all['stance_dummy'] = pd.Series(stance_label)"
   ]
  },
  {
   "cell_type": "code",
   "execution_count": 126,
   "metadata": {},
   "outputs": [
    {
     "data": {
      "text/html": [
       "<div>\n",
       "<style scoped>\n",
       "    .dataframe tbody tr th:only-of-type {\n",
       "        vertical-align: middle;\n",
       "    }\n",
       "\n",
       "    .dataframe tbody tr th {\n",
       "        vertical-align: top;\n",
       "    }\n",
       "\n",
       "    .dataframe thead th {\n",
       "        text-align: right;\n",
       "    }\n",
       "</style>\n",
       "<table border=\"1\" class=\"dataframe\">\n",
       "  <thead>\n",
       "    <tr style=\"text-align: right;\">\n",
       "      <th></th>\n",
       "      <th>Unnamed: 0</th>\n",
       "      <th>Headline</th>\n",
       "      <th>Body ID</th>\n",
       "      <th>Stance</th>\n",
       "      <th>articleBody</th>\n",
       "      <th>distances</th>\n",
       "      <th>stance_dummy</th>\n",
       "    </tr>\n",
       "  </thead>\n",
       "  <tbody>\n",
       "    <tr>\n",
       "      <th>0</th>\n",
       "      <td>0</td>\n",
       "      <td>police find mass graf least  body near mexico ...</td>\n",
       "      <td>712</td>\n",
       "      <td>unrelated</td>\n",
       "      <td>danny boyle directing untitled film seth rogen...</td>\n",
       "      <td>0.852089</td>\n",
       "      <td>3.0</td>\n",
       "    </tr>\n",
       "    <tr>\n",
       "      <th>1</th>\n",
       "      <td>1</td>\n",
       "      <td>seth rogen play apple steve wozniak</td>\n",
       "      <td>712</td>\n",
       "      <td>discuss</td>\n",
       "      <td>danny boyle directing untitled film seth rogen...</td>\n",
       "      <td>0.952722</td>\n",
       "      <td>2.0</td>\n",
       "    </tr>\n",
       "    <tr>\n",
       "      <th>2</th>\n",
       "      <td>2</td>\n",
       "      <td>mexico police find mass grave near site  stude...</td>\n",
       "      <td>712</td>\n",
       "      <td>unrelated</td>\n",
       "      <td>danny boyle directing untitled film seth rogen...</td>\n",
       "      <td>0.834662</td>\n",
       "      <td>3.0</td>\n",
       "    </tr>\n",
       "    <tr>\n",
       "      <th>3</th>\n",
       "      <td>3</td>\n",
       "      <td>mexico say missing student found first mass graf</td>\n",
       "      <td>712</td>\n",
       "      <td>unrelated</td>\n",
       "      <td>danny boyle directing untitled film seth rogen...</td>\n",
       "      <td>0.766238</td>\n",
       "      <td>3.0</td>\n",
       "    </tr>\n",
       "    <tr>\n",
       "      <th>4</th>\n",
       "      <td>4</td>\n",
       "      <td>new io  bug delete icloud document</td>\n",
       "      <td>712</td>\n",
       "      <td>unrelated</td>\n",
       "      <td>danny boyle directing untitled film seth rogen...</td>\n",
       "      <td>0.965413</td>\n",
       "      <td>3.0</td>\n",
       "    </tr>\n",
       "  </tbody>\n",
       "</table>\n",
       "</div>"
      ],
      "text/plain": [
       "   Unnamed: 0                                           Headline  Body ID  \\\n",
       "0           0  police find mass graf least  body near mexico ...      712   \n",
       "1           1                seth rogen play apple steve wozniak      712   \n",
       "2           2  mexico police find mass grave near site  stude...      712   \n",
       "3           3   mexico say missing student found first mass graf      712   \n",
       "4           4                 new io  bug delete icloud document      712   \n",
       "\n",
       "      Stance                                        articleBody  distances  \\\n",
       "0  unrelated  danny boyle directing untitled film seth rogen...   0.852089   \n",
       "1    discuss  danny boyle directing untitled film seth rogen...   0.952722   \n",
       "2  unrelated  danny boyle directing untitled film seth rogen...   0.834662   \n",
       "3  unrelated  danny boyle directing untitled film seth rogen...   0.766238   \n",
       "4  unrelated  danny boyle directing untitled film seth rogen...   0.965413   \n",
       "\n",
       "   stance_dummy  \n",
       "0           3.0  \n",
       "1           2.0  \n",
       "2           3.0  \n",
       "3           3.0  \n",
       "4           3.0  "
      ]
     },
     "execution_count": 126,
     "metadata": {},
     "output_type": "execute_result"
    }
   ],
   "source": [
    "df_all.head()"
   ]
  },
  {
   "cell_type": "code",
   "execution_count": 127,
   "metadata": {},
   "outputs": [
    {
     "data": {
      "text/html": [
       "<div>\n",
       "<style scoped>\n",
       "    .dataframe tbody tr th:only-of-type {\n",
       "        vertical-align: middle;\n",
       "    }\n",
       "\n",
       "    .dataframe tbody tr th {\n",
       "        vertical-align: top;\n",
       "    }\n",
       "\n",
       "    .dataframe thead th {\n",
       "        text-align: right;\n",
       "    }\n",
       "</style>\n",
       "<table border=\"1\" class=\"dataframe\">\n",
       "  <thead>\n",
       "    <tr style=\"text-align: right;\">\n",
       "      <th></th>\n",
       "      <th>agree</th>\n",
       "      <th>disagree</th>\n",
       "      <th>discuss</th>\n",
       "      <th>unrelated</th>\n",
       "    </tr>\n",
       "  </thead>\n",
       "  <tbody>\n",
       "    <tr>\n",
       "      <th>0</th>\n",
       "      <td>0</td>\n",
       "      <td>0</td>\n",
       "      <td>0</td>\n",
       "      <td>1</td>\n",
       "    </tr>\n",
       "    <tr>\n",
       "      <th>1</th>\n",
       "      <td>0</td>\n",
       "      <td>0</td>\n",
       "      <td>1</td>\n",
       "      <td>0</td>\n",
       "    </tr>\n",
       "    <tr>\n",
       "      <th>2</th>\n",
       "      <td>0</td>\n",
       "      <td>0</td>\n",
       "      <td>0</td>\n",
       "      <td>1</td>\n",
       "    </tr>\n",
       "    <tr>\n",
       "      <th>3</th>\n",
       "      <td>0</td>\n",
       "      <td>0</td>\n",
       "      <td>0</td>\n",
       "      <td>1</td>\n",
       "    </tr>\n",
       "    <tr>\n",
       "      <th>4</th>\n",
       "      <td>0</td>\n",
       "      <td>0</td>\n",
       "      <td>0</td>\n",
       "      <td>1</td>\n",
       "    </tr>\n",
       "  </tbody>\n",
       "</table>\n",
       "</div>"
      ],
      "text/plain": [
       "   agree  disagree  discuss  unrelated\n",
       "0      0         0        0          1\n",
       "1      0         0        1          0\n",
       "2      0         0        0          1\n",
       "3      0         0        0          1\n",
       "4      0         0        0          1"
      ]
     },
     "execution_count": 127,
     "metadata": {},
     "output_type": "execute_result"
    }
   ],
   "source": [
    "stance_dummy = pd.get_dummies(df_all['Stance'], drop_first=False)\n",
    "stance_dummy.head()"
   ]
  },
  {
   "cell_type": "markdown",
   "metadata": {},
   "source": [
    "Join both distances and stance dummy in one data frame for easy access and drop nulls if any. "
   ]
  },
  {
   "cell_type": "code",
   "execution_count": 128,
   "metadata": {
    "scrolled": true
   },
   "outputs": [
    {
     "data": {
      "text/html": [
       "<div>\n",
       "<style scoped>\n",
       "    .dataframe tbody tr th:only-of-type {\n",
       "        vertical-align: middle;\n",
       "    }\n",
       "\n",
       "    .dataframe tbody tr th {\n",
       "        vertical-align: top;\n",
       "    }\n",
       "\n",
       "    .dataframe thead th {\n",
       "        text-align: right;\n",
       "    }\n",
       "</style>\n",
       "<table border=\"1\" class=\"dataframe\">\n",
       "  <thead>\n",
       "    <tr style=\"text-align: right;\">\n",
       "      <th></th>\n",
       "      <th>distances</th>\n",
       "      <th>stance_dummy</th>\n",
       "    </tr>\n",
       "  </thead>\n",
       "  <tbody>\n",
       "    <tr>\n",
       "      <th>0</th>\n",
       "      <td>0.852089</td>\n",
       "      <td>3.0</td>\n",
       "    </tr>\n",
       "    <tr>\n",
       "      <th>1</th>\n",
       "      <td>0.952722</td>\n",
       "      <td>2.0</td>\n",
       "    </tr>\n",
       "    <tr>\n",
       "      <th>2</th>\n",
       "      <td>0.834662</td>\n",
       "      <td>3.0</td>\n",
       "    </tr>\n",
       "    <tr>\n",
       "      <th>3</th>\n",
       "      <td>0.766238</td>\n",
       "      <td>3.0</td>\n",
       "    </tr>\n",
       "    <tr>\n",
       "      <th>4</th>\n",
       "      <td>0.965413</td>\n",
       "      <td>3.0</td>\n",
       "    </tr>\n",
       "  </tbody>\n",
       "</table>\n",
       "</div>"
      ],
      "text/plain": [
       "   distances  stance_dummy\n",
       "0   0.852089           3.0\n",
       "1   0.952722           2.0\n",
       "2   0.834662           3.0\n",
       "3   0.766238           3.0\n",
       "4   0.965413           3.0"
      ]
     },
     "execution_count": 128,
     "metadata": {},
     "output_type": "execute_result"
    }
   ],
   "source": [
    "df_fix = pd.DataFrame([df_all['distances'], df_all['stance_dummy']]).T\n",
    "df_fix = df_fix.dropna(axis=0)\n",
    "df_fix.head()"
   ]
  },
  {
   "cell_type": "code",
   "execution_count": 129,
   "metadata": {},
   "outputs": [
    {
     "data": {
      "text/plain": [
       "(49968, 2)"
      ]
     },
     "execution_count": 129,
     "metadata": {},
     "output_type": "execute_result"
    }
   ],
   "source": [
    "df_fix.shape"
   ]
  },
  {
   "cell_type": "markdown",
   "metadata": {},
   "source": [
    "## Model with Distance"
   ]
  },
  {
   "cell_type": "code",
   "execution_count": 130,
   "metadata": {},
   "outputs": [],
   "source": [
    "from sklearn.model_selection import train_test_split"
   ]
  },
  {
   "cell_type": "code",
   "execution_count": 131,
   "metadata": {},
   "outputs": [
    {
     "name": "stderr",
     "output_type": "stream",
     "text": [
      "/anaconda3/envs/dsi/lib/python3.6/site-packages/ipykernel/__main__.py:1: FutureWarning: reshape is deprecated and will raise in a subsequent release. Please use .values.reshape(...) instead\n",
      "  if __name__ == '__main__':\n"
     ]
    }
   ],
   "source": [
    "X = df_fix['distances'].reshape(df_fix['distances'].shape[0], 1)\n",
    "y = df_fix['stance_dummy']\n",
    "\n",
    "X_train, X_test, y_train, y_test = train_test_split(X, y)"
   ]
  },
  {
   "cell_type": "code",
   "execution_count": 132,
   "metadata": {},
   "outputs": [
    {
     "data": {
      "text/plain": [
       "((37476, 1), (12492, 1), (37476,), (12492,))"
      ]
     },
     "execution_count": 132,
     "metadata": {},
     "output_type": "execute_result"
    }
   ],
   "source": [
    "X_train.shape, X_test.shape, y_train.shape, y_test.shape"
   ]
  },
  {
   "cell_type": "code",
   "execution_count": 133,
   "metadata": {
    "scrolled": true
   },
   "outputs": [
    {
     "data": {
      "text/plain": [
       "0.7323086775536344"
      ]
     },
     "execution_count": 133,
     "metadata": {},
     "output_type": "execute_result"
    }
   ],
   "source": [
    "#add in lasso/ridge\n",
    "lr = LogisticRegression()\n",
    "lr.fit(X_train, y_train)\n",
    "lr.score(X_train, y_train)"
   ]
  },
  {
   "cell_type": "code",
   "execution_count": 134,
   "metadata": {},
   "outputs": [
    {
     "data": {
      "text/plain": [
       "0.7280659622158181"
      ]
     },
     "execution_count": 134,
     "metadata": {},
     "output_type": "execute_result"
    }
   ],
   "source": [
    "lr.score(X_test, y_test)"
   ]
  },
  {
   "cell_type": "code",
   "execution_count": 135,
   "metadata": {},
   "outputs": [
    {
     "data": {
      "text/plain": [
       "0.9554114633365354"
      ]
     },
     "execution_count": 135,
     "metadata": {},
     "output_type": "execute_result"
    }
   ],
   "source": [
    "from sklearn.ensemble import RandomForestClassifier\n",
    "rf = RandomForestClassifier()\n",
    "rf.fit(X_train, y_train)\n",
    "rf.score(X_train, y_train)"
   ]
  },
  {
   "cell_type": "code",
   "execution_count": 136,
   "metadata": {},
   "outputs": [
    {
     "data": {
      "text/plain": [
       "0.6004642971501761"
      ]
     },
     "execution_count": 136,
     "metadata": {},
     "output_type": "execute_result"
    }
   ],
   "source": [
    "rf.score(X_test, y_test)"
   ]
  },
  {
   "cell_type": "markdown",
   "metadata": {},
   "source": [
    "After calculating cosine similarity between the headline and article body matrices the logistic regression model performed at 0.73156 compared to our baseline of 0.73171. Random forest scored very well but I found it was very overfit after scoring on the test. \n",
    "    "
   ]
  },
  {
   "cell_type": "markdown",
   "metadata": {},
   "source": [
    "## Reciever Operating Characteristic (ROC) Curve"
   ]
  },
  {
   "cell_type": "code",
   "execution_count": 137,
   "metadata": {},
   "outputs": [],
   "source": [
    "from sklearn.metrics import roc_auc_score"
   ]
  },
  {
   "cell_type": "code",
   "execution_count": 138,
   "metadata": {},
   "outputs": [
    {
     "data": {
      "image/png": "[encoded data removed]",
      "text/plain": [
       "<Figure size 504x504 with 1 Axes>"
      ]
     },
     "metadata": {},
     "output_type": "display_data"
    }
   ],
   "source": [
    "y_probas = lr.predict_proba(X_train)\n",
    "y_true = y_train\n",
    "\n",
    "import scikitplot as skplt\n",
    "import matplotlib.pyplot as plt\n",
    "\n",
    "skplt.metrics.plot_roc(y_true, y_probas, figsize=(7,7))\n",
    "plt.show()"
   ]
  },
  {
   "cell_type": "code",
   "execution_count": 139,
   "metadata": {},
   "outputs": [
    {
     "data": {
      "text/plain": [
       "(array([3., 2., 0., 1.]), (37476,))"
      ]
     },
     "execution_count": 139,
     "metadata": {},
     "output_type": "execute_result"
    }
   ],
   "source": [
    "y_true.unique(), y_true.shape"
   ]
  },
  {
   "cell_type": "code",
   "execution_count": 140,
   "metadata": {},
   "outputs": [
    {
     "data": {
      "text/plain": [
       "(array([0.01239605, 0.01248264, 0.01250638, ..., 0.83854244, 0.83973123,\n",
       "        0.84167663]), (37476, 4))"
      ]
     },
     "execution_count": 140,
     "metadata": {},
     "output_type": "execute_result"
    }
   ],
   "source": [
    "np.unique(y_probas), y_probas.shape"
   ]
  },
  {
   "cell_type": "code",
   "execution_count": 141,
   "metadata": {
    "scrolled": true
   },
   "outputs": [
    {
     "data": {
      "text/plain": [
       "array([[0.07404778, 0.01641419, 0.21848308, 0.69105494],\n",
       "       [0.07333306, 0.01752318, 0.16576292, 0.74338084],\n",
       "       [0.07360288, 0.01717247, 0.18144904, 0.72777562],\n",
       "       ...,\n",
       "       [0.07419468, 0.01603326, 0.23857131, 0.67120075],\n",
       "       [0.07364581, 0.01711153, 0.18427031, 0.72497235],\n",
       "       [0.07365049, 0.01710479, 0.18458415, 0.72466057]])"
      ]
     },
     "execution_count": 141,
     "metadata": {},
     "output_type": "execute_result"
    }
   ],
   "source": [
    "y_probas"
   ]
  },
  {
   "cell_type": "markdown",
   "metadata": {},
   "source": [
    "The curve plots the diagnostic ability for the classifier system. The ROC curve plots the sensitivity against the false positive rate at various thresholds. A macro average will give us a score for each class then take the average. A mirco average will aggregate the contributoins of each class to give the average metric. The micro average shows us there is still a possibility for us to reach this number!"
   ]
  },
  {
   "cell_type": "markdown",
   "metadata": {},
   "source": [
    "## Over Sampling \n",
    "\n",
    "Trying to adjust the class distribution. "
   ]
  },
  {
   "cell_type": "code",
   "execution_count": 142,
   "metadata": {},
   "outputs": [],
   "source": [
    "from imblearn.over_sampling import RandomOverSampler"
   ]
  },
  {
   "cell_type": "code",
   "execution_count": 143,
   "metadata": {},
   "outputs": [
    {
     "name": "stdout",
     "output_type": "stream",
     "text": [
      "[(0.0, 36542), (1.0, 36542), (2.0, 36542), (3.0, 36542)]\n"
     ]
    }
   ],
   "source": [
    "ros = RandomOverSampler(random_state=0)\n",
    "X_resampled, y_resampled = ros.fit_sample(X, y)\n",
    "from collections import Counter\n",
    "print(sorted(Counter(y_resampled).items()))"
   ]
  },
  {
   "cell_type": "code",
   "execution_count": 144,
   "metadata": {
    "scrolled": true
   },
   "outputs": [
    {
     "data": {
      "text/plain": [
       "0.2672814843194133"
      ]
     },
     "execution_count": 144,
     "metadata": {},
     "output_type": "execute_result"
    }
   ],
   "source": [
    "lr = LogisticRegression()\n",
    "lr.fit(X_resampled, y_resampled)\n",
    "lr.score(X_resampled, y_resampled)"
   ]
  },
  {
   "cell_type": "markdown",
   "metadata": {},
   "source": [
    "# Model with count vectorized body, count vectorized head, and distances"
   ]
  },
  {
   "cell_type": "markdown",
   "metadata": {},
   "source": [
    "I count vectorize both headline and body. "
   ]
  },
  {
   "cell_type": "code",
   "execution_count": 145,
   "metadata": {
    "scrolled": true
   },
   "outputs": [
    {
     "data": {
      "text/plain": [
       "<49970x19665 sparse matrix of type '<class 'numpy.int64'>'\n",
       "\twith 6483114 stored elements in Compressed Sparse Row format>"
      ]
     },
     "execution_count": 145,
     "metadata": {},
     "output_type": "execute_result"
    }
   ],
   "source": [
    "cvec_vector = CountVectorizer(stop_words='english')\n",
    "cvec_articleBody_matrix_sparse = cvec_vector.fit_transform(df_all['articleBody'])\n",
    "cvec_articleBody_matrix_sparse"
   ]
  },
  {
   "cell_type": "code",
   "execution_count": 146,
   "metadata": {},
   "outputs": [],
   "source": [
    "cvec_body_array = cvec_articleBody_matrix_sparse.toarray()"
   ]
  },
  {
   "cell_type": "code",
   "execution_count": 147,
   "metadata": {},
   "outputs": [],
   "source": [
    "df_cvec = pd.DataFrame(cvec_body_array)"
   ]
  },
  {
   "cell_type": "code",
   "execution_count": 148,
   "metadata": {},
   "outputs": [
    {
     "data": {
      "text/html": [
       "<div>\n",
       "<style scoped>\n",
       "    .dataframe tbody tr th:only-of-type {\n",
       "        vertical-align: middle;\n",
       "    }\n",
       "\n",
       "    .dataframe tbody tr th {\n",
       "        vertical-align: top;\n",
       "    }\n",
       "\n",
       "    .dataframe thead th {\n",
       "        text-align: right;\n",
       "    }\n",
       "</style>\n",
       "<table border=\"1\" class=\"dataframe\">\n",
       "  <thead>\n",
       "    <tr style=\"text-align: right;\">\n",
       "      <th></th>\n",
       "      <th>0</th>\n",
       "      <th>1</th>\n",
       "      <th>2</th>\n",
       "      <th>3</th>\n",
       "      <th>4</th>\n",
       "      <th>5</th>\n",
       "      <th>6</th>\n",
       "      <th>7</th>\n",
       "      <th>8</th>\n",
       "      <th>9</th>\n",
       "      <th>...</th>\n",
       "      <th>19655</th>\n",
       "      <th>19656</th>\n",
       "      <th>19657</th>\n",
       "      <th>19658</th>\n",
       "      <th>19659</th>\n",
       "      <th>19660</th>\n",
       "      <th>19661</th>\n",
       "      <th>19662</th>\n",
       "      <th>19663</th>\n",
       "      <th>19664</th>\n",
       "    </tr>\n",
       "  </thead>\n",
       "  <tbody>\n",
       "    <tr>\n",
       "      <th>0</th>\n",
       "      <td>0</td>\n",
       "      <td>0</td>\n",
       "      <td>0</td>\n",
       "      <td>0</td>\n",
       "      <td>0</td>\n",
       "      <td>1</td>\n",
       "      <td>0</td>\n",
       "      <td>0</td>\n",
       "      <td>0</td>\n",
       "      <td>0</td>\n",
       "      <td>...</td>\n",
       "      <td>0</td>\n",
       "      <td>0</td>\n",
       "      <td>0</td>\n",
       "      <td>0</td>\n",
       "      <td>0</td>\n",
       "      <td>0</td>\n",
       "      <td>0</td>\n",
       "      <td>0</td>\n",
       "      <td>0</td>\n",
       "      <td>0</td>\n",
       "    </tr>\n",
       "    <tr>\n",
       "      <th>1</th>\n",
       "      <td>0</td>\n",
       "      <td>0</td>\n",
       "      <td>0</td>\n",
       "      <td>0</td>\n",
       "      <td>0</td>\n",
       "      <td>1</td>\n",
       "      <td>0</td>\n",
       "      <td>0</td>\n",
       "      <td>0</td>\n",
       "      <td>0</td>\n",
       "      <td>...</td>\n",
       "      <td>0</td>\n",
       "      <td>0</td>\n",
       "      <td>0</td>\n",
       "      <td>0</td>\n",
       "      <td>0</td>\n",
       "      <td>0</td>\n",
       "      <td>0</td>\n",
       "      <td>0</td>\n",
       "      <td>0</td>\n",
       "      <td>0</td>\n",
       "    </tr>\n",
       "    <tr>\n",
       "      <th>2</th>\n",
       "      <td>0</td>\n",
       "      <td>0</td>\n",
       "      <td>0</td>\n",
       "      <td>0</td>\n",
       "      <td>0</td>\n",
       "      <td>1</td>\n",
       "      <td>0</td>\n",
       "      <td>0</td>\n",
       "      <td>0</td>\n",
       "      <td>0</td>\n",
       "      <td>...</td>\n",
       "      <td>0</td>\n",
       "      <td>0</td>\n",
       "      <td>0</td>\n",
       "      <td>0</td>\n",
       "      <td>0</td>\n",
       "      <td>0</td>\n",
       "      <td>0</td>\n",
       "      <td>0</td>\n",
       "      <td>0</td>\n",
       "      <td>0</td>\n",
       "    </tr>\n",
       "    <tr>\n",
       "      <th>3</th>\n",
       "      <td>0</td>\n",
       "      <td>0</td>\n",
       "      <td>0</td>\n",
       "      <td>0</td>\n",
       "      <td>0</td>\n",
       "      <td>1</td>\n",
       "      <td>0</td>\n",
       "      <td>0</td>\n",
       "      <td>0</td>\n",
       "      <td>0</td>\n",
       "      <td>...</td>\n",
       "      <td>0</td>\n",
       "      <td>0</td>\n",
       "      <td>0</td>\n",
       "      <td>0</td>\n",
       "      <td>0</td>\n",
       "      <td>0</td>\n",
       "      <td>0</td>\n",
       "      <td>0</td>\n",
       "      <td>0</td>\n",
       "      <td>0</td>\n",
       "    </tr>\n",
       "    <tr>\n",
       "      <th>4</th>\n",
       "      <td>0</td>\n",
       "      <td>0</td>\n",
       "      <td>0</td>\n",
       "      <td>0</td>\n",
       "      <td>0</td>\n",
       "      <td>1</td>\n",
       "      <td>0</td>\n",
       "      <td>0</td>\n",
       "      <td>0</td>\n",
       "      <td>0</td>\n",
       "      <td>...</td>\n",
       "      <td>0</td>\n",
       "      <td>0</td>\n",
       "      <td>0</td>\n",
       "      <td>0</td>\n",
       "      <td>0</td>\n",
       "      <td>0</td>\n",
       "      <td>0</td>\n",
       "      <td>0</td>\n",
       "      <td>0</td>\n",
       "      <td>0</td>\n",
       "    </tr>\n",
       "  </tbody>\n",
       "</table>\n",
       "<p>5 rows × 19665 columns</p>\n",
       "</div>"
      ],
      "text/plain": [
       "   0      1      2      3      4      5      6      7      8      9      \\\n",
       "0      0      0      0      0      0      1      0      0      0      0   \n",
       "1      0      0      0      0      0      1      0      0      0      0   \n",
       "2      0      0      0      0      0      1      0      0      0      0   \n",
       "3      0      0      0      0      0      1      0      0      0      0   \n",
       "4      0      0      0      0      0      1      0      0      0      0   \n",
       "\n",
       "   ...    19655  19656  19657  19658  19659  19660  19661  19662  19663  19664  \n",
       "0  ...        0      0      0      0      0      0      0      0      0      0  \n",
       "1  ...        0      0      0      0      0      0      0      0      0      0  \n",
       "2  ...        0      0      0      0      0      0      0      0      0      0  \n",
       "3  ...        0      0      0      0      0      0      0      0      0      0  \n",
       "4  ...        0      0      0      0      0      0      0      0      0      0  \n",
       "\n",
       "[5 rows x 19665 columns]"
      ]
     },
     "execution_count": 148,
     "metadata": {},
     "output_type": "execute_result"
    }
   ],
   "source": [
    "df_cvec.head()"
   ]
  },
  {
   "cell_type": "code",
   "execution_count": 149,
   "metadata": {
    "scrolled": true
   },
   "outputs": [
    {
     "data": {
      "text/plain": [
       "<49970x2800 sparse matrix of type '<class 'numpy.int64'>'\n",
       "\twith 388345 stored elements in Compressed Sparse Row format>"
      ]
     },
     "execution_count": 149,
     "metadata": {},
     "output_type": "execute_result"
    }
   ],
   "source": [
    "cvec_vector = CountVectorizer(stop_words='english')\n",
    "cvec_headline_matrix_sparse = cvec_vector.fit_transform(df_all['Headline'])\n",
    "cvec_headline_matrix_sparse"
   ]
  },
  {
   "cell_type": "code",
   "execution_count": 150,
   "metadata": {},
   "outputs": [
    {
     "data": {
      "text/plain": [
       "<bound method CountVectorizer.get_feature_names of CountVectorizer(analyzer='word', binary=False, decode_error='strict',\n",
       "        dtype=<class 'numpy.int64'>, encoding='utf-8', input='content',\n",
       "        lowercase=True, max_df=1.0, max_features=None, min_df=1,\n",
       "        ngram_range=(1, 1), preprocessor=None, stop_words='english',\n",
       "        strip_accents=None, token_pattern='(?u)\\\\b\\\\w\\\\w+\\\\b',\n",
       "        tokenizer=None, vocabulary=None)>"
      ]
     },
     "execution_count": 150,
     "metadata": {},
     "output_type": "execute_result"
    }
   ],
   "source": [
    "cvec_vector.get_feature_names"
   ]
  },
  {
   "cell_type": "code",
   "execution_count": 151,
   "metadata": {},
   "outputs": [],
   "source": [
    "cvec_headline_df = pd.DataFrame(cvec_headline_matrix_sparse.todense(),\n",
    "                       columns = cvec_vector.get_feature_names())"
   ]
  },
  {
   "cell_type": "code",
   "execution_count": 152,
   "metadata": {},
   "outputs": [
    {
     "data": {
      "text/plain": [
       "(49970, 2800)"
      ]
     },
     "execution_count": 152,
     "metadata": {},
     "output_type": "execute_result"
    }
   ],
   "source": [
    "cvec_headline_df.shape"
   ]
  },
  {
   "cell_type": "code",
   "execution_count": 153,
   "metadata": {},
   "outputs": [
    {
     "data": {
      "text/plain": [
       "<49970x19665 sparse matrix of type '<class 'numpy.int64'>'\n",
       "\twith 6483114 stored elements in Compressed Sparse Row format>"
      ]
     },
     "execution_count": 153,
     "metadata": {},
     "output_type": "execute_result"
    }
   ],
   "source": [
    "cvec_vector = CountVectorizer(stop_words='english')\n",
    "\n",
    "cvec_articlebody_matrix_sparse = cvec_vector.fit_transform(df_all['articleBody'])\n",
    "\n",
    "cvec_articlebody_matrix_sparse"
   ]
  },
  {
   "cell_type": "code",
   "execution_count": 154,
   "metadata": {},
   "outputs": [],
   "source": [
    "cvec_articlebody_df = pd.DataFrame(cvec_articlebody_matrix_sparse.todense(),\n",
    "                       columns = cvec_vector.get_feature_names())"
   ]
  },
  {
   "cell_type": "code",
   "execution_count": 155,
   "metadata": {},
   "outputs": [
    {
     "data": {
      "text/plain": [
       "(49968, 2)"
      ]
     },
     "execution_count": 155,
     "metadata": {},
     "output_type": "execute_result"
    }
   ],
   "source": [
    "df_fix.shape"
   ]
  },
  {
   "cell_type": "markdown",
   "metadata": {},
   "source": [
    "Combine both vectorized headline, body, and distances into a dataframe."
   ]
  },
  {
   "cell_type": "code",
   "execution_count": 156,
   "metadata": {},
   "outputs": [],
   "source": [
    "df_headline_fix = pd.concat([df_fix, cvec_headline_df, cvec_articlebody_df], axis=1)"
   ]
  },
  {
   "cell_type": "code",
   "execution_count": 157,
   "metadata": {},
   "outputs": [],
   "source": [
    "df_headline_fix.fillna(value=0, inplace=True)"
   ]
  },
  {
   "cell_type": "code",
   "execution_count": 158,
   "metadata": {},
   "outputs": [],
   "source": [
    "features = [col for col in df_headline_fix.columns if col != 'stance_dummy']"
   ]
  },
  {
   "cell_type": "markdown",
   "metadata": {},
   "source": [
    "Run both logistic regression and random forest classifier."
   ]
  },
  {
   "cell_type": "code",
   "execution_count": 159,
   "metadata": {},
   "outputs": [],
   "source": [
    "# Set x, y, and train, test split\n",
    "X = df_headline_fix[features]\n",
    "y = df_headline_fix['stance_dummy']\n",
    "\n",
    "X_train, X_test, y_train, y_test = train_test_split(X, y)\n",
    "#try to split further "
   ]
  },
  {
   "cell_type": "code",
   "execution_count": null,
   "metadata": {},
   "outputs": [],
   "source": [
    "lr = LogisticRegression()\n",
    "lr.fit(X_train, y_train)\n",
    "lr.score(X_train, y_train)"
   ]
  },
  {
   "cell_type": "code",
   "execution_count": null,
   "metadata": {},
   "outputs": [],
   "source": [
    "lr.score(X_test, y_test)"
   ]
  },
  {
   "cell_type": "code",
   "execution_count": null,
   "metadata": {},
   "outputs": [],
   "source": [
    "from sklearn.ensemble import RandomForestClassifier\n",
    "rf = RandomForestClassifier()\n",
    "rf.fit(X_train, y_train)\n",
    "rf.score(X_train, y_train)"
   ]
  },
  {
   "cell_type": "code",
   "execution_count": null,
   "metadata": {},
   "outputs": [],
   "source": [
    "rf.score(X_test, y_test)"
   ]
  },
  {
   "cell_type": "markdown",
   "metadata": {},
   "source": [
    "I combine the count vectorized headline and article body with the cosine similarity distances as the X and use stance dummy as the Y. I was hoping this would yeild a better result but logistic regression gave us a score of 0.73084 compared to the baseline of 0.73171. Random forest classifier results in a score of 0.95722 later to find it has overfit the model. "
   ]
  },
  {
   "cell_type": "markdown",
   "metadata": {},
   "source": [
    "## GloVe\n",
    "\n",
    "Using word embeddings on both the headline and article bodies. This pretrained model is called the Global Vectors for Word Representation or GloVE. It is pretrained on 6 billion words and can use its 400,000 word vocabulary for vectors of 50, 100, 200, or 300."
   ]
  },
  {
   "cell_type": "markdown",
   "metadata": {},
   "source": [
    "I use a keras preprocessor to turn words in to integer sequence which creates an index of all the words, selects the top most used words to track, then turns corpus into list of word sequences represented by integer index."
   ]
  },
  {
   "cell_type": "code",
   "execution_count": null,
   "metadata": {
    "scrolled": true
   },
   "outputs": [],
   "source": [
    "from keras.preprocessing.text import Tokenizer\n",
    "from keras.preprocessing.sequence import pad_sequences\n",
    "import numpy as np\n",
    "\n",
    "max_sequence_length = 100   # max number of words to consider in a review (i.e. the first 50...)\n",
    "max_num_words = 4000       # maximum number of words to include in the vocabulary (i.e. top 10000 only)\n",
    "\n",
    "# Instantiate the Tokenizer\n",
    "tokenizer = Tokenizer(num_words=max_num_words)\n",
    "\n",
    "# Fit the tokenizer, i.e. learn the vocab and id the most frequently occuring words\n",
    "tokenizer.fit_on_texts(df_all['Headline'].values)\n",
    "\n",
    "# Turn our texts to sequences of word indices\n",
    "sequences = tokenizer.texts_to_sequences(df_all['Headline'].values)\n",
    "\n",
    "# Save the look-up dictionary for words to indices (will need this later)\n",
    "word_index = tokenizer.word_index\n",
    "\n",
    "# Pad out our sequences by prepending zeros to all of our text sequences\n",
    "padded_sequences_headline = pad_sequences(sequences, maxlen=max_sequence_length)\n",
    "\n",
    "print(f'Found {len(word_index)} unique tokens/words')\n",
    "print(f'The maximum word index is {padded_sequences_headline.max()}')"
   ]
  },
  {
   "cell_type": "code",
   "execution_count": null,
   "metadata": {
    "scrolled": true
   },
   "outputs": [],
   "source": [
    "padded_sequences_headline.shape"
   ]
  },
  {
   "cell_type": "markdown",
   "metadata": {},
   "source": [
    "49970 words and 100 encoded as word index. "
   ]
  },
  {
   "cell_type": "code",
   "execution_count": null,
   "metadata": {
    "scrolled": true
   },
   "outputs": [],
   "source": [
    "padded_sequences_headline[0,:]"
   ]
  },
  {
   "cell_type": "code",
   "execution_count": null,
   "metadata": {},
   "outputs": [],
   "source": [
    "max_sequence_length = 200   # max number of words to consider in a review (i.e. the first 50...)\n",
    "max_num_words = 25000     # maximum number of words to include in the vocabulary (i.e. top 10000 only)\n",
    "\n",
    "# Instantiate the Tokenizer\n",
    "tokenizer = Tokenizer(num_words=max_num_words)\n",
    "\n",
    "# Fit the tokenizer, i.e. learn the vocab and id the most frequently occuring words\n",
    "tokenizer.fit_on_texts(df_all['articleBody'].values)\n",
    "\n",
    "# Turn our texts to sequences of word indices\n",
    "sequences = tokenizer.texts_to_sequences(df_all['articleBody'].values)\n",
    "\n",
    "# Save the look-up dictionary for words to indices (will need this later)\n",
    "word_index = tokenizer.word_index\n",
    "\n",
    "# Pad out our sequences by prepending zeros to all of our text sequences\n",
    "padded_sequences_articleBody = pad_sequences(sequences, maxlen=max_sequence_length)\n",
    "\n",
    "print(f'Found {len(word_index)} unique tokens/words')\n",
    "print(f'The maximum word index is {padded_sequences_articleBody.max()}')"
   ]
  },
  {
   "cell_type": "code",
   "execution_count": null,
   "metadata": {},
   "outputs": [],
   "source": [
    "padded_sequences_articleBody.shape"
   ]
  },
  {
   "cell_type": "markdown",
   "metadata": {},
   "source": [
    "49970 words with 200 words encoded as an index. "
   ]
  },
  {
   "cell_type": "code",
   "execution_count": null,
   "metadata": {
    "scrolled": true
   },
   "outputs": [],
   "source": [
    "padded_sequences_articleBody[0,:]"
   ]
  },
  {
   "cell_type": "markdown",
   "metadata": {},
   "source": [
    "Combining the padded sequences of both headline and article body together before running model. "
   ]
  },
  {
   "cell_type": "code",
   "execution_count": null,
   "metadata": {},
   "outputs": [],
   "source": [
    "padded_sequences = np.concatenate((padded_sequences_headline, padded_sequences_articleBody), axis=1)\n",
    "padded_sequences.shape"
   ]
  },
  {
   "cell_type": "code",
   "execution_count": null,
   "metadata": {},
   "outputs": [],
   "source": [
    "df_all['stance_dummy'].shape"
   ]
  },
  {
   "cell_type": "code",
   "execution_count": null,
   "metadata": {},
   "outputs": [],
   "source": [
    "# Train, test split, baby...\n",
    "from sklearn.model_selection import train_test_split\n",
    "\n",
    "X_train, X_test, y_train, y_test = train_test_split(padded_sequences, stance_dummy, test_size=0.33, random_state=42)\n",
    "\n",
    "X_train.shape, y_train.shape"
   ]
  },
  {
   "cell_type": "code",
   "execution_count": null,
   "metadata": {},
   "outputs": [],
   "source": [
    "#reading in GloVe\n",
    "import numpy as np\n",
    "\n",
    "glove_dir = '../glove.6B (1)/'\n",
    "\n",
    "embeddings_index = {}\n",
    "\n",
    "with open(os.path.join(glove_dir, 'glove.6B.100d.txt')) as f:\n",
    "    for line in f:\n",
    "        values = line.split()\n",
    "        word = values[0]\n",
    "        coefs = np.asarray(values[1:], dtype='float32')\n",
    "        embeddings_index[word] = coefs\n",
    "        \n",
    "print(f'Found {len(embeddings_index)} word vectors')"
   ]
  },
  {
   "cell_type": "markdown",
   "metadata": {},
   "source": [
    "Create matrix for word vectors for words in tokenized vocabulary. "
   ]
  },
  {
   "cell_type": "code",
   "execution_count": null,
   "metadata": {},
   "outputs": [],
   "source": [
    "embedding_dim = 100\n",
    "\n",
    "embedding_matrix = np.zeros((max_num_words, embedding_dim))\n",
    "for word, index in word_index.items():\n",
    "    if index < max_num_words:\n",
    "        # Using \"get\" with the dict is a safe way to avoid missing key errors\n",
    "        embedding_vector = embeddings_index.get(word) \n",
    "        if embedding_vector is not None:\n",
    "            embedding_matrix[index] = embedding_vector"
   ]
  },
  {
   "cell_type": "code",
   "execution_count": null,
   "metadata": {},
   "outputs": [],
   "source": [
    "from keras.models import Sequential\n",
    "from keras.layers import Embedding, LSTM, Dense\n",
    "\n",
    "model = Sequential()\n",
    "model.add(Embedding(max_num_words, embedding_dim, input_length=300))\n",
    "model.add(LSTM(20))\n",
    "model.add(Dense(4, activation='softmax'))"
   ]
  },
  {
   "cell_type": "markdown",
   "metadata": {},
   "source": [
    "Use pretrained GloVe weights in matrix(embedding matrix)."
   ]
  },
  {
   "cell_type": "code",
   "execution_count": null,
   "metadata": {},
   "outputs": [],
   "source": [
    "model.layers[0].set_weights([embedding_matrix])"
   ]
  },
  {
   "cell_type": "markdown",
   "metadata": {},
   "source": [
    "Embedding layer is input for LSTM. "
   ]
  },
  {
   "cell_type": "code",
   "execution_count": null,
   "metadata": {
    "scrolled": true
   },
   "outputs": [],
   "source": [
    "model.compile(optimizer='adam', loss='binary_crossentropy', metrics=['acc'])\n",
    "model.summary()"
   ]
  },
  {
   "cell_type": "markdown",
   "metadata": {},
   "source": [
    "Train neural net"
   ]
  },
  {
   "cell_type": "code",
   "execution_count": null,
   "metadata": {},
   "outputs": [],
   "source": [
    "history = model.fit(X_train, y_train, epochs=10, batch_size=300, validation_data=(X_test, y_test))"
   ]
  },
  {
   "cell_type": "code",
   "execution_count": null,
   "metadata": {
    "scrolled": true
   },
   "outputs": [],
   "source": [
    "# What's baseline?\n",
    "np.unique(y_train, return_counts=True)[1]/len(y_train)"
   ]
  },
  {
   "cell_type": "markdown",
   "metadata": {},
   "source": [
    "For prediction, passing neural net a sequence of word indices with sequence length equal to max sequence length. "
   ]
  },
  {
   "cell_type": "code",
   "execution_count": null,
   "metadata": {},
   "outputs": [],
   "source": [
    "X_test[0:1,:].shape"
   ]
  },
  {
   "cell_type": "code",
   "execution_count": null,
   "metadata": {},
   "outputs": [],
   "source": [
    "model.predict(X_test[0:1,:])"
   ]
  },
  {
   "cell_type": "markdown",
   "metadata": {},
   "source": [
    "# Executive Summary \n",
    "\n",
    "My goal is to classify my data(headlines and articles) by stance detection. Stance detection classifies the stance of the body text relative to the claim made in the headline into four categories: agree, disagree, discuss, and unrelated. Stance detection is currently used to verify what other news organizations are saying about a topic and is the first step in automating detection of fake news. The version of stance detection I will be using is building on the work of William Ferreira and Andreas Vlachos. I recieved my data from the data provided by the FakeNewsChallenge.org. The data is taken from the Emergent Dataset created by Craig Silverman, an expert in \"Fake News\". Emergent is a \"real time rumor tracker\" focusing on how rumors are reported in the media. \n",
    "\n",
    "My model begins with the baseline class at 73%. Through implementation of count vectorizer, TF-IDF, and using Logistic Regression and Random Trees to classify my metrics never surpassed 73%. While it seemed that no form of vectorization was helping increase the score, the ROC model showed the micro average at 88% giving me hope that a higher score could be reached in some way. That is when I learned about word2vec and using LSTMs for a neural network. After some failures with word2vec, I implemented the GloVe model which is far superior to word2vec because it has been pretrained on many more words than just my dataset. Using word embeddings, I was able to train a neural network that scored 90% accuracy. \n",
    "\n",
    "My findings were that word embeddings and neural networks were necessary to create a model above baseline to predict stance. Dummying the stance label also helped tighten the results. If given more time, I would have run more classification models and tried to train my own neural network with more data. I would have also liked to have predicted more specifically for the desired classes. While my score currently exceeds what is on Kaggle, it is because I was not predicting for the agree and disagree and rather all the stances. I would have also have liked to play with LDA similarities some more to see what could be done with those. \n"
   ]
  },
  {
   "cell_type": "code",
   "execution_count": null,
   "metadata": {},
   "outputs": [],
   "source": []
  }
 ],
 "metadata": {
  "kernelspec": {
   "display_name": "Python [conda env:dsi]",
   "language": "python",
   "name": "conda-env-dsi-py"
  },
  "language_info": {
   "codemirror_mode": {
    "name": "ipython",
    "version": 3
   },
   "file_extension": ".py",
   "mimetype": "text/x-python",
   "name": "python",
   "nbconvert_exporter": "python",
   "pygments_lexer": "ipython3",
   "version": "3.6.5"
  }
 },
 "nbformat": 4,
 "nbformat_minor": 2
}
