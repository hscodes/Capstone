{
 "cells": [
  {
   "cell_type": "markdown",
   "metadata": {},
   "source": [
    "## Problem"
   ]
  },
  {
   "cell_type": "markdown",
   "metadata": {},
   "source": [
    "Detecting whether an article is Fake News using Stance Detection. Stance detection takes a headline and body text of an article and classifies the stance of the body text relative to headline. "
   ]
  },
  {
   "cell_type": "code",
   "execution_count": 1,
   "metadata": {},
   "outputs": [],
   "source": [
    "import pandas as pd \n",
    "\n",
    "import os\n",
    "import re\n",
    "import nltk\n",
    "from sklearn import feature_extraction\n",
    "from tqdm import tqdm\n",
    "\n",
    "\n",
    "import numpy as np\n",
    "import matplotlib.pyplot as plt\n",
    "%matplotlib inline\n",
    "\n",
    "from sklearn.feature_extraction.text import CountVectorizer, HashingVectorizer, TfidfVectorizer\n",
    "from sklearn.linear_model import LogisticRegression\n",
    "\n",
    "# NLTK\n",
    "from nltk.tokenize import RegexpTokenizer\n",
    "from nltk.stem import PorterStemmer\n",
    "from nltk.corpus import stopwords\n",
    "import re\n",
    "\n",
    "# Visualization\n",
    "import matplotlib.pyplot as plt\n",
    "import matplotlib.patches as mpatches\n",
    "import matplotlib\n",
    "%matplotlib inline\n",
    "import seaborn as sns\n",
    "from nltk.stem import WordNetLemmatizer"
   ]
  },
  {
   "cell_type": "code",
   "execution_count": 2,
   "metadata": {},
   "outputs": [],
   "source": [
    "bodies = pd.read_csv('./train_bodies.csv')\n",
    "stances = pd.read_csv('./train_stances.csv')\n"
   ]
  },
  {
   "cell_type": "markdown",
   "metadata": {},
   "source": [
    "# EDA"
   ]
  },
  {
   "cell_type": "code",
   "execution_count": 3,
   "metadata": {
    "scrolled": false
   },
   "outputs": [
    {
     "data": {
      "text/html": [
       "<div>\n",
       "<style scoped>\n",
       "    .dataframe tbody tr th:only-of-type {\n",
       "        vertical-align: middle;\n",
       "    }\n",
       "\n",
       "    .dataframe tbody tr th {\n",
       "        vertical-align: top;\n",
       "    }\n",
       "\n",
       "    .dataframe thead th {\n",
       "        text-align: right;\n",
       "    }\n",
       "</style>\n",
       "<table border=\"1\" class=\"dataframe\">\n",
       "  <thead>\n",
       "    <tr style=\"text-align: right;\">\n",
       "      <th></th>\n",
       "      <th>Body ID</th>\n",
       "      <th>articleBody</th>\n",
       "    </tr>\n",
       "  </thead>\n",
       "  <tbody>\n",
       "    <tr>\n",
       "      <th>0</th>\n",
       "      <td>0</td>\n",
       "      <td>A small meteorite crashed into a wooded area i...</td>\n",
       "    </tr>\n",
       "    <tr>\n",
       "      <th>1</th>\n",
       "      <td>4</td>\n",
       "      <td>Last week we hinted at what was to come as Ebo...</td>\n",
       "    </tr>\n",
       "    <tr>\n",
       "      <th>2</th>\n",
       "      <td>5</td>\n",
       "      <td>(NEWSER) – Wonder how long a Quarter Pounder w...</td>\n",
       "    </tr>\n",
       "    <tr>\n",
       "      <th>3</th>\n",
       "      <td>6</td>\n",
       "      <td>Posting photos of a gun-toting child online, I...</td>\n",
       "    </tr>\n",
       "    <tr>\n",
       "      <th>4</th>\n",
       "      <td>7</td>\n",
       "      <td>At least 25 suspected Boko Haram insurgents we...</td>\n",
       "    </tr>\n",
       "  </tbody>\n",
       "</table>\n",
       "</div>"
      ],
      "text/plain": [
       "   Body ID                                        articleBody\n",
       "0        0  A small meteorite crashed into a wooded area i...\n",
       "1        4  Last week we hinted at what was to come as Ebo...\n",
       "2        5  (NEWSER) – Wonder how long a Quarter Pounder w...\n",
       "3        6  Posting photos of a gun-toting child online, I...\n",
       "4        7  At least 25 suspected Boko Haram insurgents we..."
      ]
     },
     "execution_count": 3,
     "metadata": {},
     "output_type": "execute_result"
    }
   ],
   "source": [
    "bodies.head()"
   ]
  },
  {
   "cell_type": "code",
   "execution_count": 4,
   "metadata": {
    "scrolled": true
   },
   "outputs": [
    {
     "data": {
      "text/html": [
       "<div>\n",
       "<style scoped>\n",
       "    .dataframe tbody tr th:only-of-type {\n",
       "        vertical-align: middle;\n",
       "    }\n",
       "\n",
       "    .dataframe tbody tr th {\n",
       "        vertical-align: top;\n",
       "    }\n",
       "\n",
       "    .dataframe thead th {\n",
       "        text-align: right;\n",
       "    }\n",
       "</style>\n",
       "<table border=\"1\" class=\"dataframe\">\n",
       "  <thead>\n",
       "    <tr style=\"text-align: right;\">\n",
       "      <th></th>\n",
       "      <th>Headline</th>\n",
       "      <th>Body ID</th>\n",
       "      <th>Stance</th>\n",
       "    </tr>\n",
       "  </thead>\n",
       "  <tbody>\n",
       "    <tr>\n",
       "      <th>0</th>\n",
       "      <td>Police find mass graves with at least '15 bodi...</td>\n",
       "      <td>712</td>\n",
       "      <td>unrelated</td>\n",
       "    </tr>\n",
       "    <tr>\n",
       "      <th>1</th>\n",
       "      <td>Hundreds of Palestinians flee floods in Gaza a...</td>\n",
       "      <td>158</td>\n",
       "      <td>agree</td>\n",
       "    </tr>\n",
       "    <tr>\n",
       "      <th>2</th>\n",
       "      <td>Christian Bale passes on role of Steve Jobs, a...</td>\n",
       "      <td>137</td>\n",
       "      <td>unrelated</td>\n",
       "    </tr>\n",
       "    <tr>\n",
       "      <th>3</th>\n",
       "      <td>HBO and Apple in Talks for $15/Month Apple TV ...</td>\n",
       "      <td>1034</td>\n",
       "      <td>unrelated</td>\n",
       "    </tr>\n",
       "    <tr>\n",
       "      <th>4</th>\n",
       "      <td>Spider burrowed through tourist's stomach and ...</td>\n",
       "      <td>1923</td>\n",
       "      <td>disagree</td>\n",
       "    </tr>\n",
       "  </tbody>\n",
       "</table>\n",
       "</div>"
      ],
      "text/plain": [
       "                                            Headline  Body ID     Stance\n",
       "0  Police find mass graves with at least '15 bodi...      712  unrelated\n",
       "1  Hundreds of Palestinians flee floods in Gaza a...      158      agree\n",
       "2  Christian Bale passes on role of Steve Jobs, a...      137  unrelated\n",
       "3  HBO and Apple in Talks for $15/Month Apple TV ...     1034  unrelated\n",
       "4  Spider burrowed through tourist's stomach and ...     1923   disagree"
      ]
     },
     "execution_count": 4,
     "metadata": {},
     "output_type": "execute_result"
    }
   ],
   "source": [
    "stances.head()"
   ]
  },
  {
   "cell_type": "code",
   "execution_count": 5,
   "metadata": {},
   "outputs": [
    {
     "data": {
      "text/html": [
       "<div>\n",
       "<style scoped>\n",
       "    .dataframe tbody tr th:only-of-type {\n",
       "        vertical-align: middle;\n",
       "    }\n",
       "\n",
       "    .dataframe tbody tr th {\n",
       "        vertical-align: top;\n",
       "    }\n",
       "\n",
       "    .dataframe thead th {\n",
       "        text-align: right;\n",
       "    }\n",
       "</style>\n",
       "<table border=\"1\" class=\"dataframe\">\n",
       "  <thead>\n",
       "    <tr style=\"text-align: right;\">\n",
       "      <th></th>\n",
       "      <th>Headline</th>\n",
       "      <th>Body ID</th>\n",
       "      <th>Stance</th>\n",
       "    </tr>\n",
       "  </thead>\n",
       "  <tbody>\n",
       "    <tr>\n",
       "      <th>0</th>\n",
       "      <td>Police find mass graves with at least '15 bodi...</td>\n",
       "      <td>712</td>\n",
       "      <td>unrelated</td>\n",
       "    </tr>\n",
       "    <tr>\n",
       "      <th>1787</th>\n",
       "      <td>Seth Rogen to Play Apple’s Steve Wozniak</td>\n",
       "      <td>712</td>\n",
       "      <td>discuss</td>\n",
       "    </tr>\n",
       "    <tr>\n",
       "      <th>3974</th>\n",
       "      <td>Mexico police find mass grave near site 43 stu...</td>\n",
       "      <td>712</td>\n",
       "      <td>unrelated</td>\n",
       "    </tr>\n",
       "    <tr>\n",
       "      <th>4936</th>\n",
       "      <td>Mexico Says Missing Students Not Found In Firs...</td>\n",
       "      <td>712</td>\n",
       "      <td>unrelated</td>\n",
       "    </tr>\n",
       "    <tr>\n",
       "      <th>5210</th>\n",
       "      <td>New iOS 8 bug can delete all of your iCloud do...</td>\n",
       "      <td>712</td>\n",
       "      <td>unrelated</td>\n",
       "    </tr>\n",
       "    <tr>\n",
       "      <th>5863</th>\n",
       "      <td>Return of the Mac: Seth Rogen in talks to star...</td>\n",
       "      <td>712</td>\n",
       "      <td>discuss</td>\n",
       "    </tr>\n",
       "    <tr>\n",
       "      <th>6199</th>\n",
       "      <td>Seth Rogen Is Woz</td>\n",
       "      <td>712</td>\n",
       "      <td>discuss</td>\n",
       "    </tr>\n",
       "    <tr>\n",
       "      <th>6756</th>\n",
       "      <td>Mexico finds 4 more graves at site of suspecte...</td>\n",
       "      <td>712</td>\n",
       "      <td>unrelated</td>\n",
       "    </tr>\n",
       "    <tr>\n",
       "      <th>7526</th>\n",
       "      <td>Are missing students in mass graves found near...</td>\n",
       "      <td>712</td>\n",
       "      <td>unrelated</td>\n",
       "    </tr>\n",
       "    <tr>\n",
       "      <th>9003</th>\n",
       "      <td>Mexico prosecutor: Students not in 1st mass gr...</td>\n",
       "      <td>712</td>\n",
       "      <td>unrelated</td>\n",
       "    </tr>\n",
       "    <tr>\n",
       "      <th>10036</th>\n",
       "      <td>Lady on FB: I'm 41, Intersex, and Fucked Micha...</td>\n",
       "      <td>712</td>\n",
       "      <td>unrelated</td>\n",
       "    </tr>\n",
       "    <tr>\n",
       "      <th>10780</th>\n",
       "      <td>Catholic Priest Claims God Is Female After Cli...</td>\n",
       "      <td>712</td>\n",
       "      <td>unrelated</td>\n",
       "    </tr>\n",
       "    <tr>\n",
       "      <th>11687</th>\n",
       "      <td>Isis claims US hostage Kayla Mueller killed in...</td>\n",
       "      <td>712</td>\n",
       "      <td>unrelated</td>\n",
       "    </tr>\n",
       "    <tr>\n",
       "      <th>11864</th>\n",
       "      <td>Gold Apple Watch Edition price? Speculators sa...</td>\n",
       "      <td>712</td>\n",
       "      <td>unrelated</td>\n",
       "    </tr>\n",
       "    <tr>\n",
       "      <th>15746</th>\n",
       "      <td>Mexican students not among bodies found in mas...</td>\n",
       "      <td>712</td>\n",
       "      <td>unrelated</td>\n",
       "    </tr>\n",
       "    <tr>\n",
       "      <th>21620</th>\n",
       "      <td>Steve Jobs Biopic Eyes Seth Rogen to Play Appl...</td>\n",
       "      <td>712</td>\n",
       "      <td>discuss</td>\n",
       "    </tr>\n",
       "    <tr>\n",
       "      <th>21712</th>\n",
       "      <td>Missing Mexico students not among 28 bodies fo...</td>\n",
       "      <td>712</td>\n",
       "      <td>unrelated</td>\n",
       "    </tr>\n",
       "    <tr>\n",
       "      <th>21928</th>\n",
       "      <td>Taylor Lianne Chandler: Everything you need to...</td>\n",
       "      <td>712</td>\n",
       "      <td>unrelated</td>\n",
       "    </tr>\n",
       "    <tr>\n",
       "      <th>22100</th>\n",
       "      <td>Mexican cartel leader kills self; bodies in gr...</td>\n",
       "      <td>712</td>\n",
       "      <td>unrelated</td>\n",
       "    </tr>\n",
       "    <tr>\n",
       "      <th>25006</th>\n",
       "      <td>Bodies In Mexico Mass Grave Apparently Not Tho...</td>\n",
       "      <td>712</td>\n",
       "      <td>unrelated</td>\n",
       "    </tr>\n",
       "    <tr>\n",
       "      <th>25492</th>\n",
       "      <td>Seth Rogen Eyed to Play Apple's Steve Wozniak ...</td>\n",
       "      <td>712</td>\n",
       "      <td>discuss</td>\n",
       "    </tr>\n",
       "    <tr>\n",
       "      <th>25616</th>\n",
       "      <td>Mexican investigators fear mass grave might ho...</td>\n",
       "      <td>712</td>\n",
       "      <td>unrelated</td>\n",
       "    </tr>\n",
       "    <tr>\n",
       "      <th>26260</th>\n",
       "      <td>6 hidden mass graves may hold missing Mexican ...</td>\n",
       "      <td>712</td>\n",
       "      <td>unrelated</td>\n",
       "    </tr>\n",
       "    <tr>\n",
       "      <th>26398</th>\n",
       "      <td>Mass grave found after 40 students disappear i...</td>\n",
       "      <td>712</td>\n",
       "      <td>unrelated</td>\n",
       "    </tr>\n",
       "    <tr>\n",
       "      <th>27200</th>\n",
       "      <td>Mexico Student Massacre Update: More Graves Di...</td>\n",
       "      <td>712</td>\n",
       "      <td>unrelated</td>\n",
       "    </tr>\n",
       "    <tr>\n",
       "      <th>29988</th>\n",
       "      <td>Seth Rogen To Play Steve Wozniak In Steve Jobs...</td>\n",
       "      <td>712</td>\n",
       "      <td>discuss</td>\n",
       "    </tr>\n",
       "    <tr>\n",
       "      <th>33683</th>\n",
       "      <td>Taylor Lianne Chandler: Michael Phelps' Cougar...</td>\n",
       "      <td>712</td>\n",
       "      <td>unrelated</td>\n",
       "    </tr>\n",
       "    <tr>\n",
       "      <th>37095</th>\n",
       "      <td>Newly Discovered Mass Grave Linked to Missing ...</td>\n",
       "      <td>712</td>\n",
       "      <td>unrelated</td>\n",
       "    </tr>\n",
       "    <tr>\n",
       "      <th>38326</th>\n",
       "      <td>Michael Phelps' self-proclaimed 'girlfriend', ...</td>\n",
       "      <td>712</td>\n",
       "      <td>unrelated</td>\n",
       "    </tr>\n",
       "    <tr>\n",
       "      <th>41035</th>\n",
       "      <td>Missing Mexican students 'not found in mass gr...</td>\n",
       "      <td>712</td>\n",
       "      <td>unrelated</td>\n",
       "    </tr>\n",
       "    <tr>\n",
       "      <th>42776</th>\n",
       "      <td>Mexico checks if 43 missing students in mass g...</td>\n",
       "      <td>712</td>\n",
       "      <td>unrelated</td>\n",
       "    </tr>\n",
       "    <tr>\n",
       "      <th>43897</th>\n",
       "      <td>Rumor: Seth Rogen to Appear as Woz in Sony's S...</td>\n",
       "      <td>712</td>\n",
       "      <td>discuss</td>\n",
       "    </tr>\n",
       "    <tr>\n",
       "      <th>44978</th>\n",
       "      <td>This Powerful Cartoon About The Charlie Hebdo ...</td>\n",
       "      <td>712</td>\n",
       "      <td>unrelated</td>\n",
       "    </tr>\n",
       "    <tr>\n",
       "      <th>45222</th>\n",
       "      <td>Mexico Says Students Not Among Dead in Mass Grave</td>\n",
       "      <td>712</td>\n",
       "      <td>unrelated</td>\n",
       "    </tr>\n",
       "    <tr>\n",
       "      <th>45579</th>\n",
       "      <td>Mexico hit by student massacre: At least 17 an...</td>\n",
       "      <td>712</td>\n",
       "      <td>unrelated</td>\n",
       "    </tr>\n",
       "    <tr>\n",
       "      <th>46530</th>\n",
       "      <td>Seth Rogen to Star as Steve Wozniak in Sony's ...</td>\n",
       "      <td>712</td>\n",
       "      <td>discuss</td>\n",
       "    </tr>\n",
       "    <tr>\n",
       "      <th>47712</th>\n",
       "      <td>Michael Phelps’ alleged girlfriend says she wa...</td>\n",
       "      <td>712</td>\n",
       "      <td>unrelated</td>\n",
       "    </tr>\n",
       "    <tr>\n",
       "      <th>47850</th>\n",
       "      <td>Mass Graves Found In Mexico, Near Place Where ...</td>\n",
       "      <td>712</td>\n",
       "      <td>unrelated</td>\n",
       "    </tr>\n",
       "    <tr>\n",
       "      <th>48228</th>\n",
       "      <td>A Mass Grave Points to a Student Massacre in M...</td>\n",
       "      <td>712</td>\n",
       "      <td>unrelated</td>\n",
       "    </tr>\n",
       "  </tbody>\n",
       "</table>\n",
       "</div>"
      ],
      "text/plain": [
       "                                                Headline  Body ID     Stance\n",
       "0      Police find mass graves with at least '15 bodi...      712  unrelated\n",
       "1787            Seth Rogen to Play Apple’s Steve Wozniak      712    discuss\n",
       "3974   Mexico police find mass grave near site 43 stu...      712  unrelated\n",
       "4936   Mexico Says Missing Students Not Found In Firs...      712  unrelated\n",
       "5210   New iOS 8 bug can delete all of your iCloud do...      712  unrelated\n",
       "5863   Return of the Mac: Seth Rogen in talks to star...      712    discuss\n",
       "6199                                   Seth Rogen Is Woz      712    discuss\n",
       "6756   Mexico finds 4 more graves at site of suspecte...      712  unrelated\n",
       "7526   Are missing students in mass graves found near...      712  unrelated\n",
       "9003   Mexico prosecutor: Students not in 1st mass gr...      712  unrelated\n",
       "10036  Lady on FB: I'm 41, Intersex, and Fucked Micha...      712  unrelated\n",
       "10780  Catholic Priest Claims God Is Female After Cli...      712  unrelated\n",
       "11687  Isis claims US hostage Kayla Mueller killed in...      712  unrelated\n",
       "11864  Gold Apple Watch Edition price? Speculators sa...      712  unrelated\n",
       "15746  Mexican students not among bodies found in mas...      712  unrelated\n",
       "21620  Steve Jobs Biopic Eyes Seth Rogen to Play Appl...      712    discuss\n",
       "21712  Missing Mexico students not among 28 bodies fo...      712  unrelated\n",
       "21928  Taylor Lianne Chandler: Everything you need to...      712  unrelated\n",
       "22100  Mexican cartel leader kills self; bodies in gr...      712  unrelated\n",
       "25006  Bodies In Mexico Mass Grave Apparently Not Tho...      712  unrelated\n",
       "25492  Seth Rogen Eyed to Play Apple's Steve Wozniak ...      712    discuss\n",
       "25616  Mexican investigators fear mass grave might ho...      712  unrelated\n",
       "26260  6 hidden mass graves may hold missing Mexican ...      712  unrelated\n",
       "26398  Mass grave found after 40 students disappear i...      712  unrelated\n",
       "27200  Mexico Student Massacre Update: More Graves Di...      712  unrelated\n",
       "29988  Seth Rogen To Play Steve Wozniak In Steve Jobs...      712    discuss\n",
       "33683  Taylor Lianne Chandler: Michael Phelps' Cougar...      712  unrelated\n",
       "37095  Newly Discovered Mass Grave Linked to Missing ...      712  unrelated\n",
       "38326  Michael Phelps' self-proclaimed 'girlfriend', ...      712  unrelated\n",
       "41035  Missing Mexican students 'not found in mass gr...      712  unrelated\n",
       "42776  Mexico checks if 43 missing students in mass g...      712  unrelated\n",
       "43897  Rumor: Seth Rogen to Appear as Woz in Sony's S...      712    discuss\n",
       "44978  This Powerful Cartoon About The Charlie Hebdo ...      712  unrelated\n",
       "45222  Mexico Says Students Not Among Dead in Mass Grave      712  unrelated\n",
       "45579  Mexico hit by student massacre: At least 17 an...      712  unrelated\n",
       "46530  Seth Rogen to Star as Steve Wozniak in Sony's ...      712    discuss\n",
       "47712  Michael Phelps’ alleged girlfriend says she wa...      712  unrelated\n",
       "47850  Mass Graves Found In Mexico, Near Place Where ...      712  unrelated\n",
       "48228  A Mass Grave Points to a Student Massacre in M...      712  unrelated"
      ]
     },
     "execution_count": 5,
     "metadata": {},
     "output_type": "execute_result"
    }
   ],
   "source": [
    "stances[stances['Body ID'] == 712]"
   ]
  },
  {
   "cell_type": "code",
   "execution_count": 6,
   "metadata": {
    "scrolled": true
   },
   "outputs": [
    {
     "data": {
      "text/plain": [
       "1921    187\n",
       "1948    175\n",
       "40      172\n",
       "524     171\n",
       "1549    166\n",
       "304     154\n",
       "1385    151\n",
       "125     145\n",
       "2367    143\n",
       "220     141\n",
       "1438    141\n",
       "195     140\n",
       "2296    136\n",
       "35      131\n",
       "1786    131\n",
       "1883    131\n",
       "2520    127\n",
       "1034    127\n",
       "2252    126\n",
       "1574    125\n",
       "2307    125\n",
       "527     125\n",
       "2175    124\n",
       "1627    123\n",
       "2404    123\n",
       "1289    122\n",
       "2115    121\n",
       "2096    120\n",
       "1040    118\n",
       "1893    117\n",
       "       ... \n",
       "907       1\n",
       "370       1\n",
       "210       1\n",
       "146       1\n",
       "114       1\n",
       "1542      1\n",
       "63        1\n",
       "76        1\n",
       "390       1\n",
       "515       1\n",
       "193       1\n",
       "464       1\n",
       "355       1\n",
       "323       1\n",
       "624       1\n",
       "282       1\n",
       "18        1\n",
       "797       1\n",
       "701       1\n",
       "362       1\n",
       "2311      1\n",
       "6         1\n",
       "915       1\n",
       "70        1\n",
       "151       1\n",
       "376       1\n",
       "140       1\n",
       "307       1\n",
       "1066      1\n",
       "59        1\n",
       "Name: Body ID, Length: 1683, dtype: int64"
      ]
     },
     "execution_count": 6,
     "metadata": {},
     "output_type": "execute_result"
    }
   ],
   "source": [
    "stances['Body ID'].value_counts()"
   ]
  },
  {
   "cell_type": "code",
   "execution_count": 7,
   "metadata": {},
   "outputs": [
    {
     "data": {
      "text/plain": [
       "array(['unrelated', 'agree', 'disagree', 'discuss'], dtype=object)"
      ]
     },
     "execution_count": 7,
     "metadata": {},
     "output_type": "execute_result"
    }
   ],
   "source": [
    "stances['Stance'].unique()"
   ]
  },
  {
   "cell_type": "code",
   "execution_count": 8,
   "metadata": {
    "scrolled": true
   },
   "outputs": [
    {
     "name": "stdout",
     "output_type": "stream",
     "text": [
      "Bodies shape: (1683, 2)\n",
      "Stances shape: (49972, 3)\n"
     ]
    }
   ],
   "source": [
    "print('Bodies shape:', bodies.shape)\n",
    "print('Stances shape:', stances.shape)\n"
   ]
  },
  {
   "cell_type": "code",
   "execution_count": 9,
   "metadata": {},
   "outputs": [
    {
     "data": {
      "text/plain": [
       "unrelated    0.731310\n",
       "discuss      0.178280\n",
       "agree        0.073601\n",
       "disagree     0.016809\n",
       "Name: Stance, dtype: float64"
      ]
     },
     "execution_count": 9,
     "metadata": {},
     "output_type": "execute_result"
    }
   ],
   "source": [
    "stances['Stance'].value_counts()/stances.shape[0]"
   ]
  },
  {
   "cell_type": "code",
   "execution_count": 10,
   "metadata": {},
   "outputs": [],
   "source": [
    "#why are stances rows much larger"
   ]
  },
  {
   "cell_type": "code",
   "execution_count": 11,
   "metadata": {
    "scrolled": false
   },
   "outputs": [
    {
     "data": {
      "text/plain": [
       "Body ID        0\n",
       "articleBody    0\n",
       "dtype: int64"
      ]
     },
     "execution_count": 11,
     "metadata": {},
     "output_type": "execute_result"
    }
   ],
   "source": [
    "bodies.isnull().sum()"
   ]
  },
  {
   "cell_type": "code",
   "execution_count": 12,
   "metadata": {
    "scrolled": true
   },
   "outputs": [
    {
     "data": {
      "text/plain": [
       "Headline    0\n",
       "Body ID     0\n",
       "Stance      0\n",
       "dtype: int64"
      ]
     },
     "execution_count": 12,
     "metadata": {},
     "output_type": "execute_result"
    }
   ],
   "source": [
    "stances.isnull().sum()"
   ]
  },
  {
   "cell_type": "code",
   "execution_count": 13,
   "metadata": {},
   "outputs": [
    {
     "name": "stdout",
     "output_type": "stream",
     "text": [
      "<class 'pandas.core.frame.DataFrame'>\n",
      "RangeIndex: 1683 entries, 0 to 1682\n",
      "Data columns (total 2 columns):\n",
      "Body ID        1683 non-null int64\n",
      "articleBody    1683 non-null object\n",
      "dtypes: int64(1), object(1)\n",
      "memory usage: 26.4+ KB\n"
     ]
    }
   ],
   "source": [
    "bodies.info()"
   ]
  },
  {
   "cell_type": "code",
   "execution_count": 14,
   "metadata": {
    "scrolled": true
   },
   "outputs": [
    {
     "name": "stdout",
     "output_type": "stream",
     "text": [
      "<class 'pandas.core.frame.DataFrame'>\n",
      "RangeIndex: 49972 entries, 0 to 49971\n",
      "Data columns (total 3 columns):\n",
      "Headline    49972 non-null object\n",
      "Body ID     49972 non-null int64\n",
      "Stance      49972 non-null object\n",
      "dtypes: int64(1), object(2)\n",
      "memory usage: 1.1+ MB\n"
     ]
    }
   ],
   "source": [
    "stances.info()"
   ]
  },
  {
   "cell_type": "code",
   "execution_count": 177,
   "metadata": {},
   "outputs": [
    {
     "name": "stdout",
     "output_type": "stream",
     "text": [
      "Total stances: 49972\n",
      "Total article bodies: 1683\n"
     ]
    }
   ],
   "source": [
    "print(\"Total stances: \" + str(len(stances.Stance)))\n",
    "print(\"Total article bodies: \" + str(len(bodies.articleBody)))"
   ]
  },
  {
   "cell_type": "code",
   "execution_count": 249,
   "metadata": {
    "scrolled": false
   },
   "outputs": [
    {
     "data": {
      "text/html": [
       "<div>\n",
       "<style scoped>\n",
       "    .dataframe tbody tr th:only-of-type {\n",
       "        vertical-align: middle;\n",
       "    }\n",
       "\n",
       "    .dataframe tbody tr th {\n",
       "        vertical-align: top;\n",
       "    }\n",
       "\n",
       "    .dataframe thead th {\n",
       "        text-align: right;\n",
       "    }\n",
       "</style>\n",
       "<table border=\"1\" class=\"dataframe\">\n",
       "  <thead>\n",
       "    <tr style=\"text-align: right;\">\n",
       "      <th></th>\n",
       "      <th>Headline</th>\n",
       "      <th>Body ID</th>\n",
       "      <th>Stance</th>\n",
       "      <th>articleBody</th>\n",
       "      <th>txt_process</th>\n",
       "    </tr>\n",
       "  </thead>\n",
       "  <tbody>\n",
       "    <tr>\n",
       "      <th>0</th>\n",
       "      <td>Police find mass graves with at least '15 bodi...</td>\n",
       "      <td>712</td>\n",
       "      <td>unrelated</td>\n",
       "      <td>Danny Boyle is directing the untitled film\\n\\n...</td>\n",
       "      <td>[danny, boyle, directing, untitled, film, seth...</td>\n",
       "    </tr>\n",
       "    <tr>\n",
       "      <th>1</th>\n",
       "      <td>Seth Rogen to Play Apple’s Steve Wozniak</td>\n",
       "      <td>712</td>\n",
       "      <td>discuss</td>\n",
       "      <td>Danny Boyle is directing the untitled film\\n\\n...</td>\n",
       "      <td>[danny, boyle, directing, untitled, film, seth...</td>\n",
       "    </tr>\n",
       "    <tr>\n",
       "      <th>2</th>\n",
       "      <td>Mexico police find mass grave near site 43 stu...</td>\n",
       "      <td>712</td>\n",
       "      <td>unrelated</td>\n",
       "      <td>Danny Boyle is directing the untitled film\\n\\n...</td>\n",
       "      <td>[danny, boyle, directing, untitled, film, seth...</td>\n",
       "    </tr>\n",
       "    <tr>\n",
       "      <th>3</th>\n",
       "      <td>Mexico Says Missing Students Not Found In Firs...</td>\n",
       "      <td>712</td>\n",
       "      <td>unrelated</td>\n",
       "      <td>Danny Boyle is directing the untitled film\\n\\n...</td>\n",
       "      <td>[danny, boyle, directing, untitled, film, seth...</td>\n",
       "    </tr>\n",
       "    <tr>\n",
       "      <th>4</th>\n",
       "      <td>New iOS 8 bug can delete all of your iCloud do...</td>\n",
       "      <td>712</td>\n",
       "      <td>unrelated</td>\n",
       "      <td>Danny Boyle is directing the untitled film\\n\\n...</td>\n",
       "      <td>[danny, boyle, directing, untitled, film, seth...</td>\n",
       "    </tr>\n",
       "  </tbody>\n",
       "</table>\n",
       "</div>"
      ],
      "text/plain": [
       "                                            Headline  Body ID     Stance  \\\n",
       "0  Police find mass graves with at least '15 bodi...      712  unrelated   \n",
       "1           Seth Rogen to Play Apple’s Steve Wozniak      712    discuss   \n",
       "2  Mexico police find mass grave near site 43 stu...      712  unrelated   \n",
       "3  Mexico Says Missing Students Not Found In Firs...      712  unrelated   \n",
       "4  New iOS 8 bug can delete all of your iCloud do...      712  unrelated   \n",
       "\n",
       "                                         articleBody  \\\n",
       "0  Danny Boyle is directing the untitled film\\n\\n...   \n",
       "1  Danny Boyle is directing the untitled film\\n\\n...   \n",
       "2  Danny Boyle is directing the untitled film\\n\\n...   \n",
       "3  Danny Boyle is directing the untitled film\\n\\n...   \n",
       "4  Danny Boyle is directing the untitled film\\n\\n...   \n",
       "\n",
       "                                         txt_process  \n",
       "0  [danny, boyle, directing, untitled, film, seth...  \n",
       "1  [danny, boyle, directing, untitled, film, seth...  \n",
       "2  [danny, boyle, directing, untitled, film, seth...  \n",
       "3  [danny, boyle, directing, untitled, film, seth...  \n",
       "4  [danny, boyle, directing, untitled, film, seth...  "
      ]
     },
     "execution_count": 249,
     "metadata": {},
     "output_type": "execute_result"
    }
   ],
   "source": [
    "#merge on bodyID \n",
    "\n",
    "df_all = stances.merge(bodies, on = 'Body ID')\n",
    "#df_all = df_all.drop('Stance', axis =1)\n",
    "df_all.head()"
   ]
  },
  {
   "cell_type": "code",
   "execution_count": 250,
   "metadata": {},
   "outputs": [
    {
     "data": {
      "text/plain": [
       "Headline       0\n",
       "Body ID        0\n",
       "Stance         0\n",
       "articleBody    0\n",
       "txt_process    0\n",
       "dtype: int64"
      ]
     },
     "execution_count": 250,
     "metadata": {},
     "output_type": "execute_result"
    }
   ],
   "source": [
    "df_all.isnull().sum()"
   ]
  },
  {
   "cell_type": "code",
   "execution_count": 251,
   "metadata": {
    "scrolled": true
   },
   "outputs": [
    {
     "data": {
      "text/plain": [
       "(49972, 5)"
      ]
     },
     "execution_count": 251,
     "metadata": {},
     "output_type": "execute_result"
    }
   ],
   "source": [
    "df_all.shape"
   ]
  },
  {
   "cell_type": "markdown",
   "metadata": {},
   "source": [
    "## Baseline"
   ]
  },
  {
   "cell_type": "code",
   "execution_count": 252,
   "metadata": {},
   "outputs": [
    {
     "data": {
      "text/plain": [
       "unrelated    0.731310\n",
       "discuss      0.178280\n",
       "agree        0.073601\n",
       "disagree     0.016809\n",
       "Name: Stance, dtype: float64"
      ]
     },
     "execution_count": 252,
     "metadata": {},
     "output_type": "execute_result"
    }
   ],
   "source": [
    "stances['Stance'].value_counts(normalize=True)"
   ]
  },
  {
   "cell_type": "markdown",
   "metadata": {},
   "source": [
    "# NLP"
   ]
  },
  {
   "cell_type": "markdown",
   "metadata": {},
   "source": [
    "## Count Vectorizer"
   ]
  },
  {
   "cell_type": "code",
   "execution_count": 414,
   "metadata": {},
   "outputs": [
    {
     "ename": "ValueError",
     "evalue": "Found input variables with inconsistent numbers of samples: [49970, 49972]",
     "output_type": "error",
     "traceback": [
      "\u001b[0;31m---------------------------------------------------------------------------\u001b[0m",
      "\u001b[0;31mValueError\u001b[0m                                Traceback (most recent call last)",
      "\u001b[0;32m<ipython-input-414-80b584f2b964>\u001b[0m in \u001b[0;36m<module>\u001b[0;34m()\u001b[0m\n\u001b[1;32m     11\u001b[0m \u001b[0;34m\u001b[0m\u001b[0m\n\u001b[1;32m     12\u001b[0m \u001b[0mlr\u001b[0m \u001b[0;34m=\u001b[0m \u001b[0mLogisticRegression\u001b[0m\u001b[0;34m(\u001b[0m\u001b[0;34m)\u001b[0m\u001b[0;34m\u001b[0m\u001b[0m\n\u001b[0;32m---> 13\u001b[0;31m \u001b[0mlr\u001b[0m\u001b[0;34m.\u001b[0m\u001b[0mfit\u001b[0m\u001b[0;34m(\u001b[0m\u001b[0mtrain_body_cvec\u001b[0m\u001b[0;34m,\u001b[0m \u001b[0my_train\u001b[0m\u001b[0;34m)\u001b[0m\u001b[0;34m\u001b[0m\u001b[0m\n\u001b[0m\u001b[1;32m     14\u001b[0m \u001b[0mlr\u001b[0m\u001b[0;34m.\u001b[0m\u001b[0mscore\u001b[0m\u001b[0;34m(\u001b[0m\u001b[0mtest_body_cvec\u001b[0m\u001b[0;34m,\u001b[0m \u001b[0my_test\u001b[0m\u001b[0;34m)\u001b[0m\u001b[0;34m\u001b[0m\u001b[0m\n",
      "\u001b[0;32m/anaconda3/envs/dsi/lib/python3.6/site-packages/sklearn/linear_model/logistic.py\u001b[0m in \u001b[0;36mfit\u001b[0;34m(self, X, y, sample_weight)\u001b[0m\n\u001b[1;32m   1214\u001b[0m \u001b[0;34m\u001b[0m\u001b[0m\n\u001b[1;32m   1215\u001b[0m         X, y = check_X_y(X, y, accept_sparse='csr', dtype=_dtype,\n\u001b[0;32m-> 1216\u001b[0;31m                          order=\"C\")\n\u001b[0m\u001b[1;32m   1217\u001b[0m         \u001b[0mcheck_classification_targets\u001b[0m\u001b[0;34m(\u001b[0m\u001b[0my\u001b[0m\u001b[0;34m)\u001b[0m\u001b[0;34m\u001b[0m\u001b[0m\n\u001b[1;32m   1218\u001b[0m         \u001b[0mself\u001b[0m\u001b[0;34m.\u001b[0m\u001b[0mclasses_\u001b[0m \u001b[0;34m=\u001b[0m \u001b[0mnp\u001b[0m\u001b[0;34m.\u001b[0m\u001b[0munique\u001b[0m\u001b[0;34m(\u001b[0m\u001b[0my\u001b[0m\u001b[0;34m)\u001b[0m\u001b[0;34m\u001b[0m\u001b[0m\n",
      "\u001b[0;32m/anaconda3/envs/dsi/lib/python3.6/site-packages/sklearn/utils/validation.py\u001b[0m in \u001b[0;36mcheck_X_y\u001b[0;34m(X, y, accept_sparse, dtype, order, copy, force_all_finite, ensure_2d, allow_nd, multi_output, ensure_min_samples, ensure_min_features, y_numeric, warn_on_dtype, estimator)\u001b[0m\n\u001b[1;32m    581\u001b[0m         \u001b[0my\u001b[0m \u001b[0;34m=\u001b[0m \u001b[0my\u001b[0m\u001b[0;34m.\u001b[0m\u001b[0mastype\u001b[0m\u001b[0;34m(\u001b[0m\u001b[0mnp\u001b[0m\u001b[0;34m.\u001b[0m\u001b[0mfloat64\u001b[0m\u001b[0;34m)\u001b[0m\u001b[0;34m\u001b[0m\u001b[0m\n\u001b[1;32m    582\u001b[0m \u001b[0;34m\u001b[0m\u001b[0m\n\u001b[0;32m--> 583\u001b[0;31m     \u001b[0mcheck_consistent_length\u001b[0m\u001b[0;34m(\u001b[0m\u001b[0mX\u001b[0m\u001b[0;34m,\u001b[0m \u001b[0my\u001b[0m\u001b[0;34m)\u001b[0m\u001b[0;34m\u001b[0m\u001b[0m\n\u001b[0m\u001b[1;32m    584\u001b[0m \u001b[0;34m\u001b[0m\u001b[0m\n\u001b[1;32m    585\u001b[0m     \u001b[0;32mreturn\u001b[0m \u001b[0mX\u001b[0m\u001b[0;34m,\u001b[0m \u001b[0my\u001b[0m\u001b[0;34m\u001b[0m\u001b[0m\n",
      "\u001b[0;32m/anaconda3/envs/dsi/lib/python3.6/site-packages/sklearn/utils/validation.py\u001b[0m in \u001b[0;36mcheck_consistent_length\u001b[0;34m(*arrays)\u001b[0m\n\u001b[1;32m    202\u001b[0m     \u001b[0;32mif\u001b[0m \u001b[0mlen\u001b[0m\u001b[0;34m(\u001b[0m\u001b[0muniques\u001b[0m\u001b[0;34m)\u001b[0m \u001b[0;34m>\u001b[0m \u001b[0;36m1\u001b[0m\u001b[0;34m:\u001b[0m\u001b[0;34m\u001b[0m\u001b[0m\n\u001b[1;32m    203\u001b[0m         raise ValueError(\"Found input variables with inconsistent numbers of\"\n\u001b[0;32m--> 204\u001b[0;31m                          \" samples: %r\" % [int(l) for l in lengths])\n\u001b[0m\u001b[1;32m    205\u001b[0m \u001b[0;34m\u001b[0m\u001b[0m\n\u001b[1;32m    206\u001b[0m \u001b[0;34m\u001b[0m\u001b[0m\n",
      "\u001b[0;31mValueError\u001b[0m: Found input variables with inconsistent numbers of samples: [49970, 49972]"
     ]
    }
   ],
   "source": [
    "#body\n",
    "X_train = df_all[['articleBody']]\n",
    "y_train = stances['Stance']\n",
    "X_test = df_all[['articleBody']]\n",
    "y_test = stances['Stance']\n",
    "\n",
    "cvec_body = CountVectorizer(stop_words = 'english')\n",
    "\n",
    "train_body_cvec = cvec_body.fit_transform(X_train['articleBody'])\n",
    "test_body_cvec = cvec_body.transform(X_test['articleBody'])\n",
    "\n",
    "lr = LogisticRegression()\n",
    "lr.fit(train_body_cvec, y_train)\n",
    "lr.score(test_body_cvec, y_test)"
   ]
  },
  {
   "cell_type": "code",
   "execution_count": 413,
   "metadata": {},
   "outputs": [
    {
     "ename": "ValueError",
     "evalue": "Found input variables with inconsistent numbers of samples: [49970, 49972]",
     "output_type": "error",
     "traceback": [
      "\u001b[0;31m---------------------------------------------------------------------------\u001b[0m",
      "\u001b[0;31mValueError\u001b[0m                                Traceback (most recent call last)",
      "\u001b[0;32m<ipython-input-413-3d035d6ff396>\u001b[0m in \u001b[0;36m<module>\u001b[0;34m()\u001b[0m\n\u001b[1;32m     11\u001b[0m \u001b[0;34m\u001b[0m\u001b[0m\n\u001b[1;32m     12\u001b[0m \u001b[0mlr\u001b[0m \u001b[0;34m=\u001b[0m \u001b[0mLogisticRegression\u001b[0m\u001b[0;34m(\u001b[0m\u001b[0;34m)\u001b[0m\u001b[0;34m\u001b[0m\u001b[0m\n\u001b[0;32m---> 13\u001b[0;31m \u001b[0mlr\u001b[0m\u001b[0;34m.\u001b[0m\u001b[0mfit\u001b[0m\u001b[0;34m(\u001b[0m\u001b[0mtrain_headline_cvec\u001b[0m\u001b[0;34m,\u001b[0m \u001b[0my_train\u001b[0m\u001b[0;34m)\u001b[0m\u001b[0;34m\u001b[0m\u001b[0m\n\u001b[0m\u001b[1;32m     14\u001b[0m \u001b[0mlr\u001b[0m\u001b[0;34m.\u001b[0m\u001b[0mscore\u001b[0m\u001b[0;34m(\u001b[0m\u001b[0mtest_headline_cvec\u001b[0m\u001b[0;34m,\u001b[0m \u001b[0my_test\u001b[0m\u001b[0;34m)\u001b[0m\u001b[0;34m\u001b[0m\u001b[0m\n",
      "\u001b[0;32m/anaconda3/envs/dsi/lib/python3.6/site-packages/sklearn/linear_model/logistic.py\u001b[0m in \u001b[0;36mfit\u001b[0;34m(self, X, y, sample_weight)\u001b[0m\n\u001b[1;32m   1214\u001b[0m \u001b[0;34m\u001b[0m\u001b[0m\n\u001b[1;32m   1215\u001b[0m         X, y = check_X_y(X, y, accept_sparse='csr', dtype=_dtype,\n\u001b[0;32m-> 1216\u001b[0;31m                          order=\"C\")\n\u001b[0m\u001b[1;32m   1217\u001b[0m         \u001b[0mcheck_classification_targets\u001b[0m\u001b[0;34m(\u001b[0m\u001b[0my\u001b[0m\u001b[0;34m)\u001b[0m\u001b[0;34m\u001b[0m\u001b[0m\n\u001b[1;32m   1218\u001b[0m         \u001b[0mself\u001b[0m\u001b[0;34m.\u001b[0m\u001b[0mclasses_\u001b[0m \u001b[0;34m=\u001b[0m \u001b[0mnp\u001b[0m\u001b[0;34m.\u001b[0m\u001b[0munique\u001b[0m\u001b[0;34m(\u001b[0m\u001b[0my\u001b[0m\u001b[0;34m)\u001b[0m\u001b[0;34m\u001b[0m\u001b[0m\n",
      "\u001b[0;32m/anaconda3/envs/dsi/lib/python3.6/site-packages/sklearn/utils/validation.py\u001b[0m in \u001b[0;36mcheck_X_y\u001b[0;34m(X, y, accept_sparse, dtype, order, copy, force_all_finite, ensure_2d, allow_nd, multi_output, ensure_min_samples, ensure_min_features, y_numeric, warn_on_dtype, estimator)\u001b[0m\n\u001b[1;32m    581\u001b[0m         \u001b[0my\u001b[0m \u001b[0;34m=\u001b[0m \u001b[0my\u001b[0m\u001b[0;34m.\u001b[0m\u001b[0mastype\u001b[0m\u001b[0;34m(\u001b[0m\u001b[0mnp\u001b[0m\u001b[0;34m.\u001b[0m\u001b[0mfloat64\u001b[0m\u001b[0;34m)\u001b[0m\u001b[0;34m\u001b[0m\u001b[0m\n\u001b[1;32m    582\u001b[0m \u001b[0;34m\u001b[0m\u001b[0m\n\u001b[0;32m--> 583\u001b[0;31m     \u001b[0mcheck_consistent_length\u001b[0m\u001b[0;34m(\u001b[0m\u001b[0mX\u001b[0m\u001b[0;34m,\u001b[0m \u001b[0my\u001b[0m\u001b[0;34m)\u001b[0m\u001b[0;34m\u001b[0m\u001b[0m\n\u001b[0m\u001b[1;32m    584\u001b[0m \u001b[0;34m\u001b[0m\u001b[0m\n\u001b[1;32m    585\u001b[0m     \u001b[0;32mreturn\u001b[0m \u001b[0mX\u001b[0m\u001b[0;34m,\u001b[0m \u001b[0my\u001b[0m\u001b[0;34m\u001b[0m\u001b[0m\n",
      "\u001b[0;32m/anaconda3/envs/dsi/lib/python3.6/site-packages/sklearn/utils/validation.py\u001b[0m in \u001b[0;36mcheck_consistent_length\u001b[0;34m(*arrays)\u001b[0m\n\u001b[1;32m    202\u001b[0m     \u001b[0;32mif\u001b[0m \u001b[0mlen\u001b[0m\u001b[0;34m(\u001b[0m\u001b[0muniques\u001b[0m\u001b[0;34m)\u001b[0m \u001b[0;34m>\u001b[0m \u001b[0;36m1\u001b[0m\u001b[0;34m:\u001b[0m\u001b[0;34m\u001b[0m\u001b[0m\n\u001b[1;32m    203\u001b[0m         raise ValueError(\"Found input variables with inconsistent numbers of\"\n\u001b[0;32m--> 204\u001b[0;31m                          \" samples: %r\" % [int(l) for l in lengths])\n\u001b[0m\u001b[1;32m    205\u001b[0m \u001b[0;34m\u001b[0m\u001b[0m\n\u001b[1;32m    206\u001b[0m \u001b[0;34m\u001b[0m\u001b[0m\n",
      "\u001b[0;31mValueError\u001b[0m: Found input variables with inconsistent numbers of samples: [49970, 49972]"
     ]
    }
   ],
   "source": [
    "#headline\n",
    "X_train = df_all[['Headline']]\n",
    "y_train = stances['Stance']\n",
    "X_test = df_all[['Headline']]\n",
    "y_test = stances['Stance']\n",
    "\n",
    "cvec_headline= CountVectorizer(stop_words = 'english')\n",
    "\n",
    "train_headline_cvec = cvec_headline.fit_transform(X_train['Headline'])\n",
    "test_headline_cvec = cvec_headline.transform(X_test['Headline'])\n",
    "\n",
    "lr = LogisticRegression()\n",
    "lr.fit(train_headline_cvec, y_train)\n",
    "lr.score(test_headline_cvec, y_test)"
   ]
  },
  {
   "cell_type": "code",
   "execution_count": 24,
   "metadata": {},
   "outputs": [],
   "source": [
    "#combine headline and body cvec and that will be x_train\n",
    "#fit model on X_train \n",
    "#if model doesnt do well do truncated svd then cosine similarity between bodies and headline which will become a feature \n"
   ]
  },
  {
   "cell_type": "code",
   "execution_count": 25,
   "metadata": {},
   "outputs": [],
   "source": [
    "#do i still need these \n",
    "#df  = pd.DataFrame(X_test_count.todense(),\n",
    "                   #columns=cvec.get_feature_names(), index = [bodies.articleBody]) \n",
    "#df.head()\n"
   ]
  },
  {
   "cell_type": "code",
   "execution_count": 26,
   "metadata": {
    "scrolled": true
   },
   "outputs": [],
   "source": [
    "#df.sort_index(axis = 0, ascending=False).head()"
   ]
  },
  {
   "cell_type": "code",
   "execution_count": 27,
   "metadata": {
    "scrolled": true
   },
   "outputs": [],
   "source": [
    "#df.sum().sort_values(ascending=False).head(10)"
   ]
  },
  {
   "cell_type": "code",
   "execution_count": 28,
   "metadata": {},
   "outputs": [],
   "source": [
    "#df = df.reindex_axis(df.sum().sort_values(ascending=False).index, axis =1)\n",
    "#df"
   ]
  },
  {
   "cell_type": "markdown",
   "metadata": {},
   "source": [
    "# Hashing Vectorizer"
   ]
  },
  {
   "cell_type": "code",
   "execution_count": 29,
   "metadata": {},
   "outputs": [],
   "source": [
    "#body\n",
    "X_train = df_all[['articleBody']]\n",
    "y_train = stances['Stance']\n",
    "X_test = df_all[['articleBody']]\n",
    "y_test = stances['Stance']"
   ]
  },
  {
   "cell_type": "code",
   "execution_count": 30,
   "metadata": {},
   "outputs": [
    {
     "data": {
      "text/plain": [
       "0.7313095333386697"
      ]
     },
     "execution_count": 30,
     "metadata": {},
     "output_type": "execute_result"
    }
   ],
   "source": [
    "hvec_body = HashingVectorizer(stop_words = 'english')\n",
    "\n",
    "train_body_hvec = hvec_body.fit_transform(X_train['articleBody'])\n",
    "test_body_hvec = hvec_body.transform(X_test['articleBody'])\n",
    "\n",
    "lr = LogisticRegression()\n",
    "lr.fit(train_body_hvec, y_train)\n",
    "lr.score(test_body_hvec, y_test)"
   ]
  },
  {
   "cell_type": "code",
   "execution_count": 31,
   "metadata": {},
   "outputs": [],
   "source": [
    "#headline\n",
    "X_train = df_all[['Headline']]\n",
    "y_train = stances['Stance']\n",
    "X_test = df_all[['Headline']]\n",
    "y_test = stances['Stance']"
   ]
  },
  {
   "cell_type": "code",
   "execution_count": 32,
   "metadata": {},
   "outputs": [
    {
     "data": {
      "text/plain": [
       "0.7313095333386697"
      ]
     },
     "execution_count": 32,
     "metadata": {},
     "output_type": "execute_result"
    }
   ],
   "source": [
    "hvec_headline = HashingVectorizer(stop_words = 'english')\n",
    "\n",
    "train_headline_hvec = hvec_headline.fit_transform(X_train['Headline'])\n",
    "test_headline_hvec = hvec_headline.transform(X_test['Headline'])\n",
    "\n",
    "lr = LogisticRegression()\n",
    "lr.fit(train_headline_hvec, y_train)\n",
    "lr.score(test_headline_hvec, y_test)"
   ]
  },
  {
   "cell_type": "code",
   "execution_count": 33,
   "metadata": {
    "scrolled": true
   },
   "outputs": [],
   "source": [
    "#df_hv = pd.DataFrame(hvec.transform(X_test).todense(), index=[bodies.articleBody])  \n",
    "#df_hv.head()"
   ]
  },
  {
   "cell_type": "code",
   "execution_count": 34,
   "metadata": {},
   "outputs": [],
   "source": [
    "#df_hv.sum().sort_values(ascending=False).head(10)"
   ]
  },
  {
   "cell_type": "code",
   "execution_count": 35,
   "metadata": {},
   "outputs": [],
   "source": [
    "#df_hv = df_hv.reindex_axis(df_hv.sum().sort_values(ascending=False).index, axis =1)\n",
    "#df_hv"
   ]
  },
  {
   "cell_type": "code",
   "execution_count": 36,
   "metadata": {
    "scrolled": true
   },
   "outputs": [],
   "source": [
    "#what can i do with this "
   ]
  },
  {
   "cell_type": "markdown",
   "metadata": {},
   "source": [
    "# TF IDF "
   ]
  },
  {
   "cell_type": "code",
   "execution_count": 37,
   "metadata": {},
   "outputs": [],
   "source": [
    "#body\n",
    "X_train = df_all[['articleBody']]\n",
    "y_train = stances['Stance']\n",
    "X_test = df_all[['articleBody']]\n",
    "y_test = stances['Stance']"
   ]
  },
  {
   "cell_type": "code",
   "execution_count": 38,
   "metadata": {},
   "outputs": [
    {
     "data": {
      "text/plain": [
       "0.7313095333386697"
      ]
     },
     "execution_count": 38,
     "metadata": {},
     "output_type": "execute_result"
    }
   ],
   "source": [
    "tvec_body = TfidfVectorizer(stop_words = 'english')\n",
    "\n",
    "train_body_tvec = tvec_body.fit_transform(X_train['articleBody'])\n",
    "test_body_tvec = tvec_body.transform(X_test['articleBody'])\n",
    "\n",
    "lr = LogisticRegression()\n",
    "lr.fit(train_body_tvec, y_train)\n",
    "lr.score(test_body_tvec, y_test)"
   ]
  },
  {
   "cell_type": "code",
   "execution_count": 39,
   "metadata": {},
   "outputs": [],
   "source": [
    "#headline\n",
    "X_train = df_all[['Headline']]\n",
    "y_train = stances['Stance']\n",
    "X_test = df_all[['Headline']]\n",
    "y_test = stances['Stance']"
   ]
  },
  {
   "cell_type": "code",
   "execution_count": 40,
   "metadata": {},
   "outputs": [
    {
     "data": {
      "text/plain": [
       "0.7313095333386697"
      ]
     },
     "execution_count": 40,
     "metadata": {},
     "output_type": "execute_result"
    }
   ],
   "source": [
    "tvec_headline = TfidfVectorizer(stop_words = 'english')\n",
    "\n",
    "train_headline_tvec = tvec_headline.fit_transform(X_train['Headline'])\n",
    "test_headline_tvec = tvec_headline.transform(X_test['Headline'])\n",
    "\n",
    "lr = LogisticRegression()\n",
    "lr.fit(train_headline_tvec, y_train)\n",
    "lr.score(test_headline_tvec, y_test)"
   ]
  },
  {
   "cell_type": "code",
   "execution_count": 41,
   "metadata": {},
   "outputs": [],
   "source": [
    "#df_tfidf  = pd.DataFrame(tvec.transform(X_test).todense(),\n",
    "                   #columns=tvec.get_feature_names(),\n",
    "                   #index=[bodies.articleBody])\n",
    "#df_tfidf.head()\n",
    "#df.transpose().sort_values('bodies.articleBody', ascending=False).head(10).transpose()"
   ]
  },
  {
   "cell_type": "code",
   "execution_count": 42,
   "metadata": {},
   "outputs": [],
   "source": [
    "#df_tfidf.sort_index(axis = 0, ascending=False).head()"
   ]
  },
  {
   "cell_type": "code",
   "execution_count": 43,
   "metadata": {
    "scrolled": true
   },
   "outputs": [],
   "source": [
    "#df_tfidf.sum().sort_values(ascending=False).head(10)"
   ]
  },
  {
   "cell_type": "code",
   "execution_count": 44,
   "metadata": {},
   "outputs": [],
   "source": [
    "#df_tfidf = df_tfidf.reindex_axis(df_tfidf.sum().sort_values(ascending=False).index, axis =1)\n",
    "#df_tfidf"
   ]
  },
  {
   "cell_type": "markdown",
   "metadata": {},
   "source": [
    "## LDA"
   ]
  },
  {
   "cell_type": "code",
   "execution_count": 45,
   "metadata": {},
   "outputs": [],
   "source": [
    "def text_process(text):\n",
    "    '''\n",
    "    Takes in a string of text, then performs the following:\n",
    "        1. Tokenizes and removes punctuation\n",
    "        2. Removes stopwords\n",
    "        3. Stems\n",
    "        4. Returns a list of the cleaned text\n",
    "    '''\n",
    "    if pd.isnull(text):\n",
    "        return []\n",
    "    # tokenizing and removing punctuation\n",
    "    tokenizer = RegexpTokenizer(r'\\w+')\n",
    "    text_processed=tokenizer.tokenize(text)\n",
    "    \n",
    "    # removing any stopwords\n",
    "    text_processed = [word.lower() for word in text_processed if word.lower() not in stopwords.words('english')]\n",
    "    \n",
    "    # stemming\n",
    "    #porter_stemmer = PorterStemmer()\n",
    "    wordnet_lemmatizer = WordNetLemmatizer()\n",
    "    \n",
    "    text_processed = [wordnet_lemmatizer.lemmatize(word) for word in text_processed]\n",
    "    \n",
    "    try:\n",
    "        text_processed.remove('b')\n",
    "    except: \n",
    "        pass\n",
    "\n",
    "    return text_processed ## <-- we're keeping our words distinct"
   ]
  },
  {
   "cell_type": "code",
   "execution_count": 46,
   "metadata": {},
   "outputs": [],
   "source": [
    "bodies['txt_process'] = bodies['articleBody'].apply(text_process)"
   ]
  },
  {
   "cell_type": "code",
   "execution_count": 47,
   "metadata": {
    "scrolled": true
   },
   "outputs": [
    {
     "data": {
      "text/plain": [
       "0    [small, meteorite, crashed, wooded, area, nica...\n",
       "1    [last, week, hinted, come, ebola, fear, spread...\n",
       "2    [newser, wonder, long, quarter, pounder, chees...\n",
       "3    [posting, photo, gun, toting, child, online, i...\n",
       "4    [least, 25, suspected, boko, haram, insurgent,...\n",
       "Name: txt_process, dtype: object"
      ]
     },
     "execution_count": 47,
     "metadata": {},
     "output_type": "execute_result"
    }
   ],
   "source": [
    "bodies['txt_process'].head()"
   ]
  },
  {
   "cell_type": "code",
   "execution_count": 48,
   "metadata": {},
   "outputs": [],
   "source": [
    "df_all['Headline'] = df_all['Headline'].apply(text_process)"
   ]
  },
  {
   "cell_type": "code",
   "execution_count": 49,
   "metadata": {},
   "outputs": [
    {
     "data": {
      "text/plain": [
       "0    [police, find, mass, graf, least, 15, body, ne...\n",
       "1           [seth, rogen, play, apple, steve, wozniak]\n",
       "2    [mexico, police, find, mass, grave, near, site...\n",
       "3    [mexico, say, missing, student, found, first, ...\n",
       "4          [new, io, 8, bug, delete, icloud, document]\n",
       "Name: Headline, dtype: object"
      ]
     },
     "execution_count": 49,
     "metadata": {},
     "output_type": "execute_result"
    }
   ],
   "source": [
    "df_all['Headline'].head()"
   ]
  },
  {
   "cell_type": "markdown",
   "metadata": {},
   "source": [
    "## Fit LDA Model"
   ]
  },
  {
   "cell_type": "code",
   "execution_count": 50,
   "metadata": {},
   "outputs": [],
   "source": [
    "from gensim import corpora, models\n",
    "import pyLDAvis.gensim\n",
    "\n",
    "pyLDAvis.enable_notebook()\n",
    "\n",
    "np.random.seed(42)"
   ]
  },
  {
   "cell_type": "code",
   "execution_count": 51,
   "metadata": {},
   "outputs": [],
   "source": [
    "dictionary = corpora.Dictionary(bodies['txt_process'])\n",
    "\n",
    "corpus = [dictionary.doc2bow(text) for text in bodies['txt_process']]\n",
    "\n",
    "ldamodel = models.ldamodel.LdaModel(corpus,                     # pass in our corpus\n",
    "                                    id2word = dictionary,       # matches each word to its \"number\" or \"spot\" in the dictionary\n",
    "                                    num_topics = 20,             # number of topics T to find\n",
    "                                    passes = 5,                 # number of passes through corpus; similar to number of epochs\n",
    "                                    minimum_probability = 0.01) # only include topics above this probability threshold"
   ]
  },
  {
   "cell_type": "code",
   "execution_count": 52,
   "metadata": {},
   "outputs": [
    {
     "data": {
      "text/html": [
       "\n",
       "<link rel=\"stylesheet\" type=\"text/css\" href=\"https://cdn.rawgit.com/bmabey/pyLDAvis/files/ldavis.v1.0.0.css\">\n",
       "\n",
       "\n",
       "<div id=\"ldavis_el201311270760333634011632\"></div>\n",
       "<script type=\"text/javascript\">\n",
       "\n",
       "var ldavis_el201311270760333634011632_data = {\"mdsDat\": {\"Freq\": [12.804306030273438, 9.75228500366211, 7.09602689743042, 6.532524585723877, 6.4239888191223145, 6.197752952575684, 5.986520290374756, 5.5661091804504395, 5.490118026733398, 5.464537620544434, 5.0125203132629395, 3.854950428009033, 3.3235743045806885, 3.0108044147491455, 2.5580520629882812, 2.4416074752807617, 2.4020869731903076, 2.311476945877075, 2.274334192276001, 1.4964258670806885], \"cluster\": [1, 1, 1, 1, 1, 1, 1, 1, 1, 1, 1, 1, 1, 1, 1, 1, 1, 1, 1, 1], \"topics\": [1, 2, 3, 4, 5, 6, 7, 8, 9, 10, 11, 12, 13, 14, 15, 16, 17, 18, 19, 20], \"x\": [0.11149120456204392, 0.07937386382178689, -0.22338714526149717, -0.01926160700881766, 0.08042181222087959, 0.03323626182910166, 0.03813510839785412, 0.06552987515768051, -0.012115359405276336, 0.005687206978952948, 0.001149887744908847, 0.024443115535219846, -0.08498898296905853, 0.017842103736710288, -0.026306232193891103, -0.0917680954186696, -0.020619257098025992, 0.053815048653731865, -0.10262981104028795, 0.06995100175665314], \"y\": [-0.08551529902545177, -0.04318619812517519, -0.09577296365620167, 0.029162190434150654, -0.03551790105868704, 0.11148750013379839, -0.031822496016796924, -0.07091896705593098, 0.051339933969092526, 0.061139450669001255, 0.07998521427332791, 0.016851306034355296, -0.0685054440787912, -0.0049234028329084014, 0.05935451931050323, -0.04441910881768379, 0.058582255756101154, -0.05194550241597747, 0.06869154928409038, -0.004066636780816363]}, \"tinfo\": {\"Category\": [\"Default\", \"Default\", \"Default\", \"Default\", \"Default\", \"Default\", \"Default\", \"Default\", \"Default\", \"Default\", \"Default\", \"Default\", \"Default\", \"Default\", \"Default\", \"Default\", \"Default\", \"Default\", \"Default\", \"Default\", \"Default\", \"Default\", \"Default\", \"Default\", \"Default\", \"Default\", \"Default\", \"Default\", \"Default\", \"Default\", \"Topic1\", \"Topic1\", \"Topic1\", \"Topic1\", \"Topic1\", \"Topic1\", \"Topic1\", \"Topic1\", \"Topic1\", \"Topic1\", \"Topic1\", \"Topic1\", \"Topic1\", \"Topic1\", \"Topic1\", \"Topic1\", \"Topic1\", \"Topic1\", \"Topic1\", \"Topic1\", \"Topic1\", \"Topic1\", \"Topic1\", \"Topic1\", \"Topic1\", \"Topic1\", \"Topic1\", \"Topic1\", \"Topic1\", \"Topic1\", \"Topic1\", \"Topic1\", \"Topic1\", \"Topic1\", \"Topic1\", \"Topic1\", \"Topic1\", \"Topic1\", \"Topic1\", \"Topic1\", \"Topic1\", \"Topic1\", \"Topic1\", \"Topic1\", \"Topic1\", \"Topic1\", \"Topic1\", \"Topic1\", \"Topic1\", \"Topic1\", \"Topic1\", \"Topic1\", \"Topic1\", \"Topic1\", \"Topic1\", \"Topic1\", \"Topic1\", \"Topic1\", \"Topic1\", \"Topic1\", \"Topic1\", \"Topic1\", \"Topic1\", \"Topic1\", \"Topic1\", \"Topic1\", \"Topic1\", \"Topic1\", \"Topic1\", \"Topic1\", \"Topic2\", \"Topic2\", \"Topic2\", \"Topic2\", \"Topic2\", \"Topic2\", \"Topic2\", \"Topic2\", \"Topic2\", \"Topic2\", \"Topic2\", \"Topic2\", \"Topic2\", \"Topic2\", \"Topic2\", \"Topic2\", \"Topic2\", \"Topic2\", \"Topic2\", \"Topic2\", \"Topic2\", \"Topic2\", \"Topic2\", \"Topic2\", \"Topic2\", \"Topic2\", \"Topic2\", \"Topic2\", \"Topic2\", \"Topic2\", \"Topic2\", \"Topic2\", \"Topic2\", \"Topic2\", \"Topic2\", \"Topic2\", \"Topic2\", \"Topic2\", \"Topic2\", \"Topic2\", \"Topic2\", \"Topic2\", \"Topic2\", \"Topic2\", \"Topic2\", \"Topic2\", \"Topic2\", \"Topic2\", \"Topic2\", \"Topic2\", \"Topic2\", \"Topic2\", \"Topic2\", \"Topic2\", \"Topic2\", \"Topic2\", \"Topic2\", \"Topic2\", \"Topic2\", \"Topic2\", \"Topic2\", \"Topic2\", \"Topic2\", \"Topic2\", \"Topic2\", \"Topic2\", \"Topic2\", \"Topic2\", \"Topic2\", \"Topic3\", \"Topic3\", \"Topic3\", \"Topic3\", \"Topic3\", \"Topic3\", \"Topic3\", \"Topic3\", \"Topic3\", \"Topic3\", \"Topic3\", \"Topic3\", \"Topic3\", \"Topic3\", \"Topic3\", \"Topic3\", \"Topic3\", \"Topic3\", \"Topic3\", \"Topic3\", \"Topic3\", \"Topic3\", \"Topic3\", \"Topic3\", \"Topic3\", \"Topic3\", \"Topic3\", \"Topic3\", \"Topic3\", \"Topic3\", \"Topic3\", \"Topic3\", \"Topic3\", \"Topic3\", \"Topic3\", \"Topic3\", \"Topic3\", \"Topic3\", \"Topic3\", \"Topic3\", \"Topic3\", \"Topic3\", \"Topic3\", \"Topic3\", \"Topic3\", \"Topic3\", \"Topic3\", \"Topic3\", \"Topic3\", \"Topic3\", \"Topic3\", \"Topic3\", \"Topic3\", \"Topic3\", \"Topic3\", \"Topic3\", \"Topic3\", \"Topic3\", \"Topic3\", \"Topic3\", \"Topic3\", \"Topic3\", \"Topic3\", \"Topic3\", \"Topic3\", \"Topic3\", \"Topic3\", \"Topic3\", \"Topic4\", \"Topic4\", \"Topic4\", \"Topic4\", \"Topic4\", \"Topic4\", \"Topic4\", \"Topic4\", \"Topic4\", \"Topic4\", \"Topic4\", \"Topic4\", \"Topic4\", \"Topic4\", \"Topic4\", \"Topic4\", \"Topic4\", \"Topic4\", \"Topic4\", \"Topic4\", \"Topic4\", \"Topic4\", \"Topic4\", \"Topic4\", \"Topic4\", \"Topic4\", \"Topic4\", \"Topic4\", \"Topic4\", \"Topic4\", \"Topic4\", \"Topic4\", \"Topic4\", \"Topic4\", \"Topic4\", \"Topic4\", \"Topic4\", \"Topic4\", \"Topic4\", \"Topic4\", \"Topic4\", \"Topic4\", \"Topic4\", \"Topic4\", \"Topic4\", \"Topic4\", \"Topic4\", \"Topic4\", \"Topic4\", \"Topic4\", \"Topic4\", \"Topic4\", \"Topic4\", \"Topic4\", \"Topic4\", \"Topic4\", \"Topic4\", \"Topic4\", \"Topic4\", \"Topic4\", \"Topic4\", \"Topic4\", \"Topic4\", \"Topic4\", \"Topic4\", \"Topic4\", \"Topic4\", \"Topic4\", \"Topic4\", \"Topic4\", \"Topic4\", \"Topic4\", \"Topic4\", \"Topic4\", \"Topic4\", \"Topic4\", \"Topic4\", \"Topic4\", \"Topic5\", \"Topic5\", \"Topic5\", \"Topic5\", \"Topic5\", \"Topic5\", \"Topic5\", \"Topic5\", \"Topic5\", \"Topic5\", \"Topic5\", \"Topic5\", \"Topic5\", \"Topic5\", \"Topic5\", \"Topic5\", \"Topic5\", \"Topic5\", \"Topic5\", \"Topic5\", \"Topic5\", \"Topic5\", \"Topic5\", \"Topic5\", \"Topic5\", \"Topic5\", \"Topic5\", \"Topic5\", \"Topic5\", \"Topic5\", \"Topic5\", \"Topic5\", \"Topic5\", \"Topic5\", \"Topic5\", \"Topic5\", \"Topic5\", \"Topic5\", \"Topic5\", \"Topic5\", \"Topic5\", \"Topic5\", \"Topic5\", \"Topic5\", \"Topic5\", \"Topic5\", \"Topic5\", \"Topic5\", \"Topic5\", \"Topic5\", \"Topic5\", \"Topic5\", \"Topic5\", \"Topic5\", \"Topic5\", \"Topic5\", \"Topic5\", \"Topic5\", \"Topic5\", \"Topic5\", \"Topic5\", \"Topic5\", \"Topic5\", \"Topic5\", \"Topic5\", \"Topic5\", \"Topic5\", \"Topic5\", \"Topic5\", \"Topic5\", \"Topic5\", \"Topic5\", \"Topic5\", \"Topic5\", \"Topic5\", \"Topic5\", \"Topic5\", \"Topic5\", \"Topic5\", \"Topic5\", \"Topic5\", \"Topic5\", \"Topic6\", \"Topic6\", \"Topic6\", \"Topic6\", \"Topic6\", \"Topic6\", \"Topic6\", \"Topic6\", \"Topic6\", \"Topic6\", \"Topic6\", \"Topic6\", \"Topic6\", \"Topic6\", \"Topic6\", \"Topic6\", \"Topic6\", \"Topic6\", \"Topic6\", \"Topic6\", \"Topic6\", \"Topic6\", \"Topic6\", \"Topic6\", \"Topic6\", \"Topic6\", \"Topic6\", \"Topic6\", \"Topic6\", \"Topic6\", \"Topic6\", \"Topic6\", \"Topic6\", \"Topic6\", \"Topic6\", \"Topic6\", \"Topic6\", \"Topic6\", \"Topic6\", \"Topic6\", \"Topic6\", \"Topic6\", \"Topic6\", \"Topic6\", \"Topic6\", \"Topic6\", \"Topic6\", \"Topic6\", \"Topic6\", \"Topic6\", \"Topic6\", \"Topic6\", \"Topic6\", \"Topic6\", \"Topic6\", \"Topic6\", \"Topic6\", \"Topic6\", \"Topic6\", \"Topic6\", \"Topic6\", \"Topic6\", \"Topic6\", \"Topic6\", \"Topic6\", \"Topic6\", \"Topic7\", \"Topic7\", \"Topic7\", \"Topic7\", \"Topic7\", \"Topic7\", \"Topic7\", \"Topic7\", \"Topic7\", \"Topic7\", \"Topic7\", \"Topic7\", \"Topic7\", \"Topic7\", \"Topic7\", \"Topic7\", \"Topic7\", \"Topic7\", \"Topic7\", \"Topic7\", \"Topic7\", \"Topic7\", \"Topic7\", \"Topic7\", \"Topic7\", \"Topic7\", \"Topic7\", \"Topic7\", \"Topic7\", \"Topic7\", \"Topic7\", \"Topic7\", \"Topic7\", \"Topic7\", \"Topic7\", \"Topic7\", \"Topic7\", \"Topic7\", \"Topic7\", \"Topic7\", \"Topic7\", \"Topic7\", \"Topic7\", \"Topic7\", \"Topic7\", \"Topic7\", \"Topic7\", \"Topic7\", \"Topic7\", \"Topic7\", \"Topic7\", \"Topic7\", \"Topic7\", \"Topic7\", \"Topic7\", \"Topic7\", \"Topic7\", \"Topic7\", \"Topic7\", \"Topic7\", \"Topic7\", \"Topic7\", \"Topic7\", \"Topic7\", \"Topic7\", \"Topic7\", \"Topic7\", \"Topic7\", \"Topic7\", \"Topic7\", \"Topic7\", \"Topic7\", \"Topic7\", \"Topic7\", \"Topic7\", \"Topic8\", \"Topic8\", \"Topic8\", \"Topic8\", \"Topic8\", \"Topic8\", \"Topic8\", \"Topic8\", \"Topic8\", \"Topic8\", \"Topic8\", \"Topic8\", \"Topic8\", \"Topic8\", \"Topic8\", \"Topic8\", \"Topic8\", \"Topic8\", \"Topic8\", \"Topic8\", \"Topic8\", \"Topic8\", \"Topic8\", \"Topic8\", \"Topic8\", \"Topic8\", \"Topic8\", \"Topic8\", \"Topic8\", \"Topic8\", \"Topic8\", \"Topic8\", \"Topic8\", \"Topic8\", \"Topic8\", \"Topic8\", \"Topic8\", \"Topic8\", \"Topic8\", \"Topic8\", \"Topic8\", \"Topic8\", \"Topic8\", \"Topic8\", \"Topic8\", \"Topic8\", \"Topic8\", \"Topic8\", \"Topic8\", \"Topic8\", \"Topic8\", \"Topic8\", \"Topic8\", \"Topic8\", \"Topic8\", \"Topic8\", \"Topic8\", \"Topic8\", \"Topic8\", \"Topic8\", \"Topic8\", \"Topic8\", \"Topic8\", \"Topic8\", \"Topic8\", \"Topic8\", \"Topic8\", \"Topic8\", \"Topic8\", \"Topic8\", \"Topic8\", \"Topic8\", \"Topic8\", \"Topic8\", \"Topic9\", \"Topic9\", \"Topic9\", \"Topic9\", \"Topic9\", \"Topic9\", \"Topic9\", \"Topic9\", \"Topic9\", \"Topic9\", \"Topic9\", \"Topic9\", \"Topic9\", \"Topic9\", \"Topic9\", \"Topic9\", \"Topic9\", \"Topic9\", \"Topic9\", \"Topic9\", \"Topic9\", \"Topic9\", \"Topic9\", \"Topic9\", \"Topic9\", \"Topic9\", \"Topic9\", \"Topic9\", \"Topic9\", \"Topic9\", \"Topic9\", \"Topic9\", \"Topic9\", \"Topic9\", \"Topic9\", \"Topic9\", \"Topic9\", \"Topic9\", \"Topic9\", \"Topic9\", \"Topic9\", \"Topic9\", \"Topic9\", \"Topic9\", \"Topic9\", \"Topic9\", \"Topic9\", \"Topic9\", \"Topic9\", \"Topic9\", \"Topic9\", \"Topic9\", \"Topic9\", \"Topic9\", \"Topic9\", \"Topic9\", \"Topic9\", \"Topic9\", \"Topic9\", \"Topic9\", \"Topic9\", \"Topic9\", \"Topic9\", \"Topic9\", \"Topic9\", \"Topic9\", \"Topic9\", \"Topic9\", \"Topic9\", \"Topic9\", \"Topic9\", \"Topic9\", \"Topic9\", \"Topic9\", \"Topic9\", \"Topic9\", \"Topic9\", \"Topic9\", \"Topic9\", \"Topic9\", \"Topic9\", \"Topic10\", \"Topic10\", \"Topic10\", \"Topic10\", \"Topic10\", \"Topic10\", \"Topic10\", \"Topic10\", \"Topic10\", \"Topic10\", \"Topic10\", \"Topic10\", \"Topic10\", \"Topic10\", \"Topic10\", \"Topic10\", \"Topic10\", \"Topic10\", \"Topic10\", \"Topic10\", \"Topic10\", \"Topic10\", \"Topic10\", \"Topic10\", \"Topic10\", \"Topic10\", \"Topic10\", \"Topic10\", \"Topic10\", \"Topic10\", \"Topic10\", \"Topic10\", \"Topic10\", \"Topic10\", \"Topic10\", \"Topic10\", \"Topic10\", \"Topic10\", \"Topic10\", \"Topic10\", \"Topic10\", \"Topic10\", \"Topic10\", \"Topic10\", \"Topic10\", \"Topic10\", \"Topic10\", \"Topic10\", \"Topic10\", \"Topic10\", \"Topic10\", \"Topic10\", \"Topic10\", \"Topic10\", \"Topic10\", \"Topic10\", \"Topic10\", \"Topic10\", \"Topic10\", \"Topic10\", \"Topic10\", \"Topic10\", \"Topic10\", \"Topic10\", \"Topic10\", \"Topic10\", \"Topic10\", \"Topic10\", \"Topic10\", \"Topic10\", \"Topic10\", \"Topic10\", \"Topic10\", \"Topic10\", \"Topic10\", \"Topic10\", \"Topic10\", \"Topic11\", \"Topic11\", \"Topic11\", \"Topic11\", \"Topic11\", \"Topic11\", \"Topic11\", \"Topic11\", \"Topic11\", \"Topic11\", \"Topic11\", \"Topic11\", \"Topic11\", \"Topic11\", \"Topic11\", \"Topic11\", \"Topic11\", \"Topic11\", \"Topic11\", \"Topic11\", \"Topic11\", \"Topic11\", \"Topic11\", \"Topic11\", \"Topic11\", \"Topic11\", \"Topic11\", \"Topic11\", \"Topic11\", \"Topic11\", \"Topic11\", \"Topic11\", \"Topic11\", \"Topic11\", \"Topic11\", \"Topic11\", \"Topic11\", \"Topic11\", \"Topic11\", \"Topic11\", \"Topic11\", \"Topic11\", \"Topic11\", \"Topic11\", \"Topic11\", \"Topic11\", \"Topic11\", \"Topic11\", \"Topic11\", \"Topic11\", \"Topic11\", \"Topic11\", \"Topic11\", \"Topic11\", \"Topic11\", \"Topic11\", \"Topic11\", \"Topic11\", \"Topic11\", \"Topic11\", \"Topic11\", \"Topic11\", \"Topic11\", \"Topic11\", \"Topic11\", \"Topic11\", \"Topic11\", \"Topic11\", \"Topic11\", \"Topic11\", \"Topic11\", \"Topic11\", \"Topic11\", \"Topic11\", \"Topic11\", \"Topic11\", \"Topic11\", \"Topic11\", \"Topic11\", \"Topic12\", \"Topic12\", \"Topic12\", \"Topic12\", \"Topic12\", \"Topic12\", \"Topic12\", \"Topic12\", \"Topic12\", \"Topic12\", \"Topic12\", \"Topic12\", \"Topic12\", \"Topic12\", \"Topic12\", \"Topic12\", \"Topic12\", \"Topic12\", \"Topic12\", \"Topic12\", \"Topic12\", \"Topic12\", \"Topic12\", \"Topic12\", \"Topic12\", \"Topic12\", \"Topic12\", \"Topic12\", \"Topic12\", \"Topic12\", \"Topic12\", \"Topic12\", \"Topic12\", \"Topic12\", \"Topic12\", \"Topic12\", \"Topic12\", \"Topic12\", \"Topic12\", \"Topic12\", \"Topic12\", \"Topic12\", \"Topic12\", \"Topic12\", \"Topic12\", \"Topic12\", \"Topic12\", \"Topic12\", \"Topic12\", \"Topic12\", \"Topic12\", \"Topic12\", \"Topic12\", \"Topic12\", \"Topic12\", \"Topic12\", \"Topic12\", \"Topic12\", \"Topic12\", \"Topic12\", \"Topic12\", \"Topic12\", \"Topic12\", \"Topic12\", \"Topic12\", \"Topic12\", \"Topic12\", \"Topic12\", \"Topic12\", \"Topic12\", \"Topic12\", \"Topic12\", \"Topic12\", \"Topic13\", \"Topic13\", \"Topic13\", \"Topic13\", \"Topic13\", \"Topic13\", \"Topic13\", \"Topic13\", \"Topic13\", \"Topic13\", \"Topic13\", \"Topic13\", \"Topic13\", \"Topic13\", \"Topic13\", \"Topic13\", \"Topic13\", \"Topic13\", \"Topic13\", \"Topic13\", \"Topic13\", \"Topic13\", \"Topic13\", \"Topic13\", \"Topic13\", \"Topic13\", \"Topic13\", \"Topic13\", \"Topic13\", \"Topic13\", \"Topic13\", \"Topic13\", \"Topic13\", \"Topic13\", \"Topic13\", \"Topic13\", \"Topic13\", \"Topic13\", \"Topic13\", \"Topic13\", \"Topic13\", \"Topic13\", \"Topic13\", \"Topic13\", \"Topic13\", \"Topic13\", \"Topic13\", \"Topic13\", \"Topic13\", \"Topic13\", \"Topic13\", \"Topic13\", \"Topic13\", \"Topic13\", \"Topic13\", \"Topic13\", \"Topic13\", \"Topic13\", \"Topic13\", \"Topic13\", \"Topic13\", \"Topic14\", \"Topic14\", \"Topic14\", \"Topic14\", \"Topic14\", \"Topic14\", \"Topic14\", \"Topic14\", \"Topic14\", \"Topic14\", \"Topic14\", \"Topic14\", \"Topic14\", \"Topic14\", \"Topic14\", \"Topic14\", \"Topic14\", \"Topic14\", \"Topic14\", \"Topic14\", \"Topic14\", \"Topic14\", \"Topic14\", \"Topic14\", \"Topic14\", \"Topic14\", \"Topic14\", \"Topic14\", \"Topic14\", \"Topic14\", \"Topic14\", \"Topic14\", \"Topic14\", \"Topic14\", \"Topic14\", \"Topic14\", \"Topic14\", \"Topic14\", \"Topic14\", \"Topic14\", \"Topic14\", \"Topic14\", \"Topic14\", \"Topic14\", \"Topic14\", \"Topic14\", \"Topic14\", \"Topic14\", \"Topic14\", \"Topic14\", \"Topic14\", \"Topic14\", \"Topic14\", \"Topic14\", \"Topic14\", \"Topic14\", \"Topic14\", \"Topic14\", \"Topic14\", \"Topic14\", \"Topic14\", \"Topic14\", \"Topic14\", \"Topic14\", \"Topic14\", \"Topic14\", \"Topic14\", \"Topic14\", \"Topic14\", \"Topic14\", \"Topic14\", \"Topic14\", \"Topic14\", \"Topic14\", \"Topic14\", \"Topic14\", \"Topic14\", \"Topic14\", \"Topic14\", \"Topic14\", \"Topic15\", \"Topic15\", \"Topic15\", \"Topic15\", \"Topic15\", \"Topic15\", \"Topic15\", \"Topic15\", \"Topic15\", \"Topic15\", \"Topic15\", \"Topic15\", \"Topic15\", \"Topic15\", \"Topic15\", \"Topic15\", \"Topic15\", \"Topic15\", \"Topic15\", \"Topic15\", \"Topic15\", \"Topic15\", \"Topic15\", \"Topic15\", \"Topic15\", \"Topic15\", \"Topic15\", \"Topic15\", \"Topic15\", \"Topic15\", \"Topic15\", \"Topic15\", \"Topic15\", \"Topic15\", \"Topic15\", \"Topic15\", \"Topic15\", \"Topic15\", \"Topic15\", \"Topic15\", \"Topic15\", \"Topic15\", \"Topic15\", \"Topic15\", \"Topic15\", \"Topic15\", \"Topic15\", \"Topic15\", \"Topic15\", \"Topic15\", \"Topic15\", \"Topic15\", \"Topic15\", \"Topic15\", \"Topic15\", \"Topic15\", \"Topic15\", \"Topic15\", \"Topic15\", \"Topic15\", \"Topic15\", \"Topic15\", \"Topic15\", \"Topic16\", \"Topic16\", \"Topic16\", \"Topic16\", \"Topic16\", \"Topic16\", \"Topic16\", \"Topic16\", \"Topic16\", \"Topic16\", \"Topic16\", \"Topic16\", \"Topic16\", \"Topic16\", \"Topic16\", \"Topic16\", \"Topic16\", \"Topic16\", \"Topic16\", \"Topic16\", \"Topic16\", \"Topic16\", \"Topic16\", \"Topic16\", \"Topic16\", \"Topic16\", \"Topic16\", \"Topic16\", \"Topic16\", \"Topic16\", \"Topic16\", \"Topic16\", \"Topic16\", \"Topic16\", \"Topic16\", \"Topic16\", \"Topic16\", \"Topic16\", \"Topic16\", \"Topic16\", \"Topic16\", \"Topic16\", \"Topic16\", \"Topic16\", \"Topic16\", \"Topic16\", \"Topic16\", \"Topic16\", \"Topic16\", \"Topic16\", \"Topic16\", \"Topic16\", \"Topic16\", \"Topic16\", \"Topic16\", \"Topic16\", \"Topic16\", \"Topic16\", \"Topic16\", \"Topic16\", \"Topic16\", \"Topic16\", \"Topic16\", \"Topic16\", \"Topic16\", \"Topic16\", \"Topic16\", \"Topic16\", \"Topic16\", \"Topic16\", \"Topic17\", \"Topic17\", \"Topic17\", \"Topic17\", \"Topic17\", \"Topic17\", \"Topic17\", \"Topic17\", \"Topic17\", \"Topic17\", \"Topic17\", \"Topic17\", \"Topic17\", \"Topic17\", \"Topic17\", \"Topic17\", \"Topic17\", \"Topic17\", \"Topic17\", \"Topic17\", \"Topic17\", \"Topic17\", \"Topic17\", \"Topic17\", \"Topic17\", \"Topic17\", \"Topic17\", \"Topic17\", \"Topic17\", \"Topic17\", \"Topic17\", \"Topic17\", \"Topic17\", \"Topic17\", \"Topic17\", \"Topic17\", \"Topic17\", \"Topic17\", \"Topic17\", \"Topic17\", \"Topic17\", \"Topic17\", \"Topic17\", \"Topic17\", \"Topic17\", \"Topic17\", \"Topic17\", \"Topic17\", \"Topic17\", \"Topic17\", \"Topic17\", \"Topic17\", \"Topic17\", \"Topic17\", \"Topic17\", \"Topic17\", \"Topic17\", \"Topic17\", \"Topic17\", \"Topic17\", \"Topic17\", \"Topic17\", \"Topic17\", \"Topic17\", \"Topic17\", \"Topic17\", \"Topic18\", \"Topic18\", \"Topic18\", \"Topic18\", \"Topic18\", \"Topic18\", \"Topic18\", \"Topic18\", \"Topic18\", \"Topic18\", \"Topic18\", \"Topic18\", \"Topic18\", \"Topic18\", \"Topic18\", \"Topic18\", \"Topic18\", \"Topic18\", \"Topic18\", \"Topic18\", \"Topic18\", \"Topic18\", \"Topic18\", \"Topic18\", \"Topic18\", \"Topic18\", \"Topic18\", \"Topic18\", \"Topic18\", \"Topic18\", \"Topic18\", \"Topic18\", \"Topic18\", \"Topic18\", \"Topic18\", \"Topic18\", \"Topic18\", \"Topic18\", \"Topic18\", \"Topic18\", \"Topic18\", \"Topic18\", \"Topic18\", \"Topic18\", \"Topic18\", \"Topic18\", \"Topic18\", \"Topic18\", \"Topic18\", \"Topic18\", \"Topic18\", \"Topic18\", \"Topic18\", \"Topic18\", \"Topic18\", \"Topic18\", \"Topic18\", \"Topic18\", \"Topic18\", \"Topic18\", \"Topic18\", \"Topic18\", \"Topic18\", \"Topic18\", \"Topic18\", \"Topic18\", \"Topic18\", \"Topic18\", \"Topic18\", \"Topic19\", \"Topic19\", \"Topic19\", \"Topic19\", \"Topic19\", \"Topic19\", \"Topic19\", \"Topic19\", \"Topic19\", \"Topic19\", \"Topic19\", \"Topic19\", \"Topic19\", \"Topic19\", \"Topic19\", \"Topic19\", \"Topic19\", \"Topic19\", \"Topic19\", \"Topic19\", \"Topic19\", \"Topic19\", \"Topic19\", \"Topic19\", \"Topic19\", \"Topic19\", \"Topic19\", \"Topic19\", \"Topic19\", \"Topic19\", \"Topic19\", \"Topic19\", \"Topic19\", \"Topic19\", \"Topic19\", \"Topic19\", \"Topic19\", \"Topic19\", \"Topic19\", \"Topic19\", \"Topic19\", \"Topic19\", \"Topic19\", \"Topic19\", \"Topic19\", \"Topic19\", \"Topic19\", \"Topic19\", \"Topic19\", \"Topic19\", \"Topic19\", \"Topic19\", \"Topic19\", \"Topic19\", \"Topic19\", \"Topic19\", \"Topic19\", \"Topic19\", \"Topic19\", \"Topic19\", \"Topic19\", \"Topic19\", \"Topic19\", \"Topic19\", \"Topic19\", \"Topic19\", \"Topic19\", \"Topic19\", \"Topic19\", \"Topic20\", \"Topic20\", \"Topic20\", \"Topic20\", \"Topic20\", \"Topic20\", \"Topic20\", \"Topic20\", \"Topic20\", \"Topic20\", \"Topic20\", \"Topic20\", \"Topic20\", \"Topic20\", \"Topic20\", \"Topic20\", \"Topic20\", \"Topic20\", \"Topic20\", \"Topic20\", \"Topic20\", \"Topic20\", \"Topic20\", \"Topic20\", \"Topic20\", \"Topic20\", \"Topic20\", \"Topic20\", \"Topic20\", \"Topic20\", \"Topic20\", \"Topic20\", \"Topic20\", \"Topic20\", \"Topic20\", \"Topic20\", \"Topic20\", \"Topic20\", \"Topic20\", \"Topic20\", \"Topic20\", \"Topic20\", \"Topic20\", \"Topic20\", \"Topic20\", \"Topic20\", \"Topic20\", \"Topic20\", \"Topic20\", \"Topic20\", \"Topic20\", \"Topic20\", \"Topic20\", \"Topic20\", \"Topic20\", \"Topic20\", \"Topic20\", \"Topic20\", \"Topic20\", \"Topic20\", \"Topic20\", \"Topic20\", \"Topic20\", \"Topic20\", \"Topic20\", \"Topic20\", \"Topic20\", \"Topic20\", \"Topic20\", \"Topic20\", \"Topic20\", \"Topic20\", \"Topic20\", \"Topic20\"], \"Freq\": [1791.0, 1222.0, 605.0, 1038.0, 507.0, 446.0, 234.0, 583.0, 232.0, 1298.0, 338.0, 323.0, 154.0, 449.0, 298.0, 272.0, 292.0, 405.0, 273.0, 666.0, 277.0, 1067.0, 846.0, 232.0, 579.0, 1325.0, 812.0, 291.0, 260.0, 287.0, 106.59490203857422, 91.13746643066406, 142.40614318847656, 70.3447036743164, 30.233949661254883, 105.41981506347656, 102.0562744140625, 28.01613998413086, 56.993465423583984, 24.26005744934082, 73.84087371826172, 16.49620246887207, 28.400407791137695, 26.52436637878418, 31.056169509887695, 15.396356582641602, 15.29890251159668, 10.732998847961426, 11.606538772583008, 10.719263076782227, 14.28519344329834, 42.78559112548828, 8.786121368408203, 9.661920547485352, 9.643023490905762, 9.63754653930664, 205.74325561523438, 8.744080543518066, 69.59025573730469, 11.340410232543945, 64.64337921142578, 81.7220687866211, 79.66395568847656, 21.82126808166504, 27.917381286621094, 228.74839782714844, 65.37171173095703, 562.0451049804688, 95.5870132446289, 44.46345901489258, 96.51241302490234, 572.8500366210938, 215.95591735839844, 84.10916137695312, 328.5154724121094, 381.5044250488281, 140.19862365722656, 273.9930419921875, 403.7337951660156, 228.41090393066406, 198.8154754638672, 139.8302764892578, 459.9792785644531, 264.41778564453125, 433.8247985839844, 827.1124877929688, 183.17433166503906, 158.16510009765625, 214.03126525878906, 242.4166259765625, 160.25088500976562, 139.96163940429688, 212.6776123046875, 204.80001831054688, 178.9113311767578, 144.79742431640625, 128.79673767089844, 146.57095336914062, 145.805908203125, 143.20611572265625, 199.96795654296875, 148.41497802734375, 103.24490356445312, 96.59021759033203, 64.47392272949219, 57.103843688964844, 66.17584991455078, 59.75342559814453, 19.85036277770996, 33.40032196044922, 17.123668670654297, 56.77731704711914, 21.60258674621582, 15.204682350158691, 14.284199714660645, 33.89197540283203, 27.51835060119629, 20.380434036254883, 20.294099807739258, 30.832874298095703, 11.424786567687988, 9.64794635772705, 12.289271354675293, 13.14626693725586, 11.356658935546875, 20.901721954345703, 253.78237915039062, 256.9124450683594, 11.271824836730957, 23.474201202392578, 107.23221588134766, 79.1553726196289, 61.851566314697266, 36.0619010925293, 25.062807083129883, 46.933109283447266, 117.44032287597656, 126.31838989257812, 33.18231964111328, 121.30368041992188, 45.4079475402832, 50.46403884887695, 42.58073806762695, 60.18183898925781, 87.50328826904297, 72.86109161376953, 60.197998046875, 157.4908905029297, 221.61093139648438, 137.43389892578125, 565.3444213867188, 127.62164306640625, 102.70550537109375, 98.05207824707031, 167.58140563964844, 181.48013305664062, 100.00758361816406, 176.09616088867188, 121.64732360839844, 151.22898864746094, 152.93960571289062, 130.3018035888672, 135.75096130371094, 113.39967346191406, 126.44075012207031, 119.18716430664062, 114.2445297241211, 109.39848327636719, 105.74636840820312, 49.466270446777344, 37.02897262573242, 39.843963623046875, 36.937286376953125, 29.321577072143555, 33.98584747314453, 34.88172149658203, 83.49445343017578, 64.7807846069336, 21.53084945678711, 30.85546112060547, 17.735336303710938, 16.787322998046875, 16.71650505065918, 18.451589584350586, 18.39131736755371, 23.83875274658203, 15.624046325683594, 13.786844253540039, 16.449460983276367, 62.9401969909668, 17.302749633789062, 13.658463478088379, 266.70697021484375, 67.03298950195312, 28.98906707763672, 10.81006908416748, 12.603644371032715, 11.706799507141113, 36.953956604003906, 93.16698455810547, 1478.709716796875, 1004.1827392578125, 124.30596160888672, 114.29659271240234, 55.86529541015625, 55.44076156616211, 27.40224838256836, 177.7406005859375, 154.0114288330078, 159.97975158691406, 46.97499465942383, 54.15248489379883, 89.24014282226562, 61.632144927978516, 103.04739379882812, 86.22772216796875, 119.82123565673828, 88.7554702758789, 150.8773193359375, 82.98811340332031, 88.17435455322266, 141.1587371826172, 97.46643829345703, 165.837158203125, 78.08177947998047, 81.76591491699219, 140.39657592773438, 132.17608642578125, 110.44527435302734, 114.4629898071289, 124.69784545898438, 97.85466003417969, 116.30436706542969, 99.4131851196289, 93.44860076904297, 88.30186462402344, 88.30351257324219, 31.68064308166504, 33.364871978759766, 26.162918090820312, 21.574766159057617, 18.03800392150879, 13.394556045532227, 12.546229362487793, 8.230165481567383, 23.84147071838379, 40.25653839111328, 9.003352165222168, 8.04366683959961, 21.66871452331543, 5.631824016571045, 6.416956901550293, 13.652599334716797, 5.60224723815918, 20.030879974365234, 129.6046142578125, 22.26946449279785, 13.528940200805664, 10.993854522705078, 5.4696946144104, 5.448444366455078, 9.352352142333984, 11.607120513916016, 5.419829845428467, 13.803726196289062, 10.816765785217285, 39.904930114746094, 147.9239501953125, 19.931644439697266, 27.469703674316406, 11.531244277954102, 16.32634735107422, 51.37076950073242, 44.75118637084961, 39.52616500854492, 36.85182571411133, 19.32382583618164, 25.88096809387207, 69.20811462402344, 59.0894775390625, 46.648624420166016, 48.740482330322266, 35.70958709716797, 62.761138916015625, 72.20842742919922, 67.97293853759766, 35.33415603637695, 29.04241371154785, 84.46595764160156, 83.75247955322266, 182.43829345703125, 79.47310638427734, 50.94063186645508, 63.05415725708008, 51.556888580322266, 233.85780334472656, 102.19425964355469, 55.536163330078125, 104.09172821044922, 117.9992904663086, 110.89216613769531, 100.31494140625, 96.86237335205078, 71.2030029296875, 94.23246002197266, 97.34391784667969, 97.71524047851562, 74.60636901855469, 69.97982025146484, 78.687255859375, 76.46027374267578, 71.14533233642578, 66.03478240966797, 66.41434478759766, 64.17451477050781, 23.424053192138672, 11.160455703735352, 38.64753723144531, 24.934154510498047, 17.312803268432617, 109.65055847167969, 13.871624946594238, 14.671010971069336, 6.523277282714844, 12.084221839904785, 8.080023765563965, 10.441815376281738, 10.47232723236084, 8.04361629486084, 6.412137031555176, 6.370347023010254, 6.306218147277832, 4.717147350311279, 4.709129333496094, 4.702540874481201, 6.258313179016113, 6.27462100982666, 20.287744522094727, 5.425475120544434, 4.664368152618408, 5.402393817901611, 9.987958908081055, 5.399123668670654, 6.1751203536987305, 27.73512840270996, 9.917484283447266, 24.668643951416016, 16.525564193725586, 25.891101837158203, 9.75029182434082, 16.062185287475586, 288.90087890625, 38.72113037109375, 15.38980770111084, 26.60348892211914, 29.12238883972168, 73.44889068603516, 178.53921508789062, 30.243274688720703, 23.718971252441406, 151.30064392089844, 54.28022766113281, 92.60196685791016, 31.393617630004883, 32.2545051574707, 61.51287078857422, 277.9631652832031, 56.0240478515625, 45.266178131103516, 154.3952178955078, 149.41099548339844, 38.23276138305664, 44.1721305847168, 48.98221206665039, 178.77700805664062, 130.10585021972656, 113.12903594970703, 156.57369995117188, 89.4506607055664, 124.14795684814453, 73.88390350341797, 55.66641616821289, 76.54851531982422, 190.2115478515625, 71.59928894042969, 62.131385803222656, 81.73837280273438, 105.9173812866211, 93.85447692871094, 92.25858306884766, 83.63548278808594, 82.30045318603516, 82.64732360839844, 80.46366119384766, 69.82974243164062, 72.3595962524414, 73.5433578491211, 37.28081130981445, 100.559814453125, 111.00995635986328, 32.32316207885742, 69.64212036132812, 43.46937942504883, 23.09333038330078, 18.58157730102539, 39.72695541381836, 15.013880729675293, 40.54656219482422, 162.80564880371094, 41.20903396606445, 14.8073148727417, 11.262943267822266, 15.572525024414062, 33.6214599609375, 101.94567108154297, 12.922022819519043, 136.06723022460938, 60.61204528808594, 15.433382987976074, 10.301750183105469, 10.239350318908691, 11.063820838928223, 8.513827323913574, 8.497236251831055, 9.327371597290039, 7.561384677886963, 8.361288070678711, 36.40028381347656, 62.93147659301758, 189.4477996826172, 81.76795196533203, 41.52156066894531, 123.88009643554688, 35.81868362426758, 84.33621215820312, 21.37868881225586, 89.09249877929688, 24.497577667236328, 142.16612243652344, 36.347103118896484, 56.21944808959961, 65.2388916015625, 83.48392486572266, 51.752811431884766, 138.572021484375, 46.90130615234375, 79.86233520507812, 88.92778015136719, 191.90118408203125, 158.5326385498047, 87.68962097167969, 120.03438568115234, 58.421627044677734, 69.86937713623047, 199.33938598632812, 113.74413299560547, 110.1797866821289, 73.92889404296875, 91.1412582397461, 92.68197631835938, 87.82090759277344, 70.61427307128906, 66.9134292602539, 26.141902923583984, 17.625898361206055, 15.772347450256348, 15.713387489318848, 8.87157154083252, 7.987817764282227, 8.789299964904785, 39.214111328125, 11.858499526977539, 7.899957180023193, 7.876915454864502, 231.1663818359375, 6.2123284339904785, 6.1839423179626465, 6.151636123657227, 5.3739237785339355, 12.300570487976074, 7.66859769821167, 5.334491729736328, 5.314036846160889, 15.143194198608398, 24.30661392211914, 5.287548542022705, 5.274560928344727, 10.49301528930664, 10.531312942504883, 5.250739574432373, 9.67992877960205, 5.988518238067627, 4.47027063369751, 80.2230224609375, 257.6747131347656, 14.852648735046387, 466.05072021484375, 214.01986694335938, 57.1554069519043, 16.271909713745117, 21.065837860107422, 368.5283508300781, 165.10504150390625, 31.636306762695312, 62.98710632324219, 47.13220977783203, 31.04572296142578, 16.113201141357422, 61.66350173950195, 28.12360382080078, 28.966901779174805, 15.786025047302246, 27.12828826904297, 77.89674377441406, 34.58248519897461, 61.79210662841797, 41.17733383178711, 59.417823791503906, 32.458984375, 163.5104217529297, 289.4961242675781, 74.50421905517578, 82.58808135986328, 37.3850212097168, 98.61018371582031, 56.07900619506836, 70.1323471069336, 61.89445114135742, 66.75092315673828, 79.09215545654297, 80.95210266113281, 76.06748962402344, 70.48027801513672, 54.67115020751953, 67.54083251953125, 65.6388168334961, 56.995487213134766, 57.03834915161133, 24.593303680419922, 21.02374267578125, 52.47130584716797, 16.253976821899414, 12.75490665435791, 16.06682777404785, 8.428251266479492, 25.362106323242188, 18.39366340637207, 9.112068176269531, 33.714534759521484, 14.03465747833252, 20.72042465209961, 8.207474708557129, 19.766653060913086, 7.344906330108643, 10.615522384643555, 26.16536521911621, 8.973398208618164, 15.535472869873047, 18.729612350463867, 8.131979942321777, 14.519518852233887, 12.925312995910645, 18.57669448852539, 6.436031341552734, 7.252377033233643, 4.770843982696533, 10.342229843139648, 7.972768783569336, 107.66777801513672, 76.68265533447266, 97.5517578125, 256.9352722167969, 27.874839782714844, 67.01625061035156, 17.078899383544922, 22.8732852935791, 41.18357849121094, 53.0257682800293, 40.62446212768555, 51.30956268310547, 116.1964111328125, 230.829833984375, 63.76016616821289, 46.71125793457031, 39.97765350341797, 31.286972045898438, 46.421138763427734, 121.45042419433594, 47.196903228759766, 72.64434051513672, 104.11354064941406, 192.4525909423828, 61.40811538696289, 90.9182357788086, 107.79816436767578, 282.3631896972656, 113.83769226074219, 119.47799682617188, 76.77395629882812, 78.52716827392578, 83.40753936767578, 85.21414184570312, 95.59229278564453, 97.81040954589844, 101.26171112060547, 72.18846893310547, 60.58309555053711, 81.63764190673828, 79.35919189453125, 67.38706970214844, 66.2484359741211, 62.02825927734375, 12.396828651428223, 11.50070571899414, 23.61207389831543, 8.818089485168457, 19.218509674072266, 27.87321662902832, 8.704889297485352, 11.094783782958984, 17.239572525024414, 7.102301120758057, 7.10280704498291, 7.80405330657959, 7.799288272857666, 7.012441158294678, 7.0257391929626465, 20.93488311767578, 6.184618949890137, 27.81645965576172, 6.945095062255859, 8.423388481140137, 6.127586841583252, 6.114245891571045, 5.353146553039551, 6.880198955535889, 12.204453468322754, 86.69475555419922, 5.298146724700928, 12.83305549621582, 5.243832588195801, 4.485479831695557, 7.437384128570557, 9.598502159118652, 16.160552978515625, 25.440706253051758, 26.083358764648438, 26.645750045776367, 24.913909912109375, 13.949505805969238, 26.104833602905273, 51.485172271728516, 51.72260665893555, 22.209379196166992, 111.064697265625, 50.881187438964844, 29.891094207763672, 12.205205917358398, 46.3476676940918, 28.107309341430664, 42.050445556640625, 27.18616485595703, 43.16545104980469, 30.29274559020996, 68.26972961425781, 151.42408752441406, 243.8282470703125, 28.566707611083984, 46.42441177368164, 51.978729248046875, 60.88153839111328, 76.14105224609375, 90.3809814453125, 38.60967254638672, 56.819557189941406, 83.63392639160156, 68.43365478515625, 43.85295104980469, 47.61155319213867, 68.31594848632812, 55.362369537353516, 58.575843811035156, 59.42830276489258, 59.39003372192383, 50.684722900390625, 56.764076232910156, 51.13055419921875, 53.29264831542969, 53.62199401855469, 53.47636413574219, 53.097389221191406, 48.71343994140625, 48.79998016357422, 53.555362701416016, 21.645904541015625, 27.2569522857666, 13.909465789794922, 12.03577709197998, 8.311933517456055, 13.254716873168945, 42.311275482177734, 7.365015029907227, 6.5049614906311035, 23.42862892150879, 11.245969772338867, 11.954444885253906, 4.7113423347473145, 4.676840782165527, 55.42171096801758, 8.557584762573242, 5.431274890899658, 6.949560642242432, 3.871643304824829, 3.871093511581421, 5.392329216003418, 4.620434761047363, 6.879011631011963, 3.770902156829834, 3.7531135082244873, 3.7478015422821045, 5.981766700744629, 26.953617095947266, 8.252618789672852, 40.44708251953125, 14.191808700561523, 66.54186248779297, 203.92581176757812, 23.19772720336914, 20.98639488220215, 48.894840240478516, 86.50008392333984, 20.85683250427246, 51.75552749633789, 42.984825134277344, 19.99517250061035, 80.0871353149414, 87.32689666748047, 33.85171890258789, 38.64341354370117, 106.5186996459961, 43.75785446166992, 29.24762535095215, 150.00205993652344, 50.6502685546875, 112.6032943725586, 46.97834396362305, 77.70149230957031, 67.19463348388672, 64.49803924560547, 76.1900634765625, 54.66012954711914, 92.88373565673828, 244.0213623046875, 41.626930236816406, 62.69038772583008, 59.6329345703125, 99.93762969970703, 95.27437591552734, 83.27912902832031, 93.49654388427734, 78.4985580444336, 82.58721160888672, 83.55786895751953, 63.569580078125, 80.53211975097656, 69.4932861328125, 64.61104583740234, 59.09754943847656, 58.321372985839844, 58.673770904541016, 66.82388305664062, 16.703975677490234, 133.10894775390625, 40.149757385253906, 22.002981185913086, 11.411310195922852, 15.360352516174316, 8.83923053741455, 14.45108699798584, 29.72857093811035, 8.792403221130371, 7.07741117477417, 8.655521392822266, 8.625553131103516, 8.602965354919434, 15.624954223632812, 6.988406658172607, 6.209968566894531, 13.930288314819336, 14.001604080200195, 7.699184417724609, 5.36892557144165, 6.879833221435547, 6.8842973709106445, 6.8660430908203125, 7.634271144866943, 6.859544277191162, 7.589721202850342, 5.300869941711426, 6.814968585968018, 7.542703628540039, 13.204235076904297, 18.896507263183594, 38.82146072387695, 22.493297576904297, 52.763099670410156, 28.243392944335938, 21.165847778320312, 11.617420196533203, 29.11617660522461, 17.144384384155273, 12.446352005004883, 39.45510482788086, 15.095264434814453, 20.233966827392578, 43.585540771484375, 43.90974807739258, 31.536197662353516, 17.95947265625, 34.099159240722656, 105.97196197509766, 54.927032470703125, 46.05668258666992, 46.20112609863281, 101.21320343017578, 104.41577911376953, 27.58694076538086, 108.19294738769531, 24.1744327545166, 45.20028305053711, 157.87109375, 49.121849060058594, 83.20081329345703, 68.36051177978516, 90.27771759033203, 77.18399047851562, 58.70923614501953, 53.282318115234375, 73.02095794677734, 56.24609375, 51.28453826904297, 62.8874397277832, 48.34184646606445, 60.76754379272461, 52.99722671508789, 49.39447021484375, 44.43198776245117, 47.32599639892578, 43.96417999267578, 21.129453659057617, 23.81720542907715, 14.526389122009277, 10.829059600830078, 12.079763412475586, 7.088249206542969, 7.769812107086182, 9.867151260375977, 9.069954872131348, 14.685623168945312, 5.558857440948486, 6.242123603820801, 7.595766067504883, 12.417855262756348, 5.5111894607543945, 5.512988090515137, 5.446234703063965, 7.510013103485107, 10.793403625488281, 7.940601825714111, 4.615991592407227, 3.9090359210968018, 3.862718105316162, 8.407669067382812, 9.633814811706543, 4.494340419769287, 4.486433982849121, 4.488933563232422, 3.826141834259033, 3.173370122909546, 40.92483901977539, 12.06311321258545, 46.79595184326172, 8.97569465637207, 20.074535369873047, 8.398822784423828, 6.656071186065674, 15.226741790771484, 10.4852876663208, 9.282726287841797, 11.105937957763672, 27.92329978942871, 218.4639434814453, 36.60330581665039, 57.93752670288086, 75.33871459960938, 31.365324020385742, 37.79444885253906, 40.694740295410156, 67.66133117675781, 21.74776840209961, 68.01167297363281, 42.91090774536133, 47.79669189453125, 28.729598999023438, 40.196022033691406, 33.21912384033203, 50.847267150878906, 42.728519439697266, 49.35617446899414, 42.650123596191406, 35.729122161865234, 35.90830993652344, 42.91904830932617, 47.117340087890625, 45.70038604736328, 31.632911682128906, 38.04795837402344, 37.534725189208984, 34.5728874206543, 29.969823837280273, 32.88459396362305, 30.251483917236328, 109.66399383544922, 35.08220291137695, 72.36285400390625, 35.69974899291992, 22.386947631835938, 42.492401123046875, 22.203641891479492, 29.614110946655273, 11.059304237365723, 8.09902286529541, 8.070000648498535, 11.743135452270508, 63.07969665527344, 16.7154483795166, 24.882488250732422, 33.45914077758789, 7.2624406814575195, 18.80259132385254, 29.551565170288086, 7.223548412322998, 7.914453029632568, 7.8986287117004395, 22.32042694091797, 14.970149040222168, 15.691245079040527, 5.631816864013672, 7.74106502532959, 7.0041093826293945, 7.007270812988281, 9.071009635925293, 15.236623764038086, 19.514198303222656, 39.36573028564453, 24.818038940429688, 43.51736068725586, 96.33136749267578, 29.691879272460938, 22.126361846923828, 57.16336441040039, 151.36618041992188, 17.657018661499023, 71.75871276855469, 35.04686737060547, 56.60990905761719, 41.35165023803711, 71.0893783569336, 46.66392517089844, 46.90127944946289, 141.641845703125, 31.1044921875, 47.01536178588867, 36.65169143676758, 100.36259460449219, 67.62870788574219, 60.06843185424805, 48.16391372680664, 45.32805633544922, 43.4033317565918, 44.19508361816406, 36.14171600341797, 38.591190338134766, 16.89151382446289, 5.959085464477539, 11.089336395263672, 5.894123077392578, 8.051840782165527, 14.336565971374512, 5.7120771408081055, 5.646569728851318, 9.044127464294434, 4.2020769119262695, 76.87489318847656, 4.135674953460693, 3.4312584400177, 4.8163886070251465, 4.117581844329834, 3.4186205863952637, 12.122904777526855, 10.174530982971191, 4.035244464874268, 8.81382942199707, 3.341186046600342, 3.98451566696167, 3.9746456146240234, 3.9751811027526855, 24.39790153503418, 4.523778438568115, 2.5899341106414795, 3.2278363704681396, 60.52581787109375, 3.1703054904937744, 7.637594223022461, 17.731517791748047, 47.86680221557617, 25.641748428344727, 9.923981666564941, 37.46744155883789, 10.86148738861084, 8.199783325195312, 10.520373344421387, 42.62482452392578, 10.902216911315918, 10.141112327575684, 17.55535125732422, 15.872262954711914, 16.68971824645996, 17.0311336517334, 34.36190414428711, 78.70439147949219, 53.82052230834961, 23.21928596496582, 60.241058349609375, 20.34866714477539, 30.41478157043457, 23.789838790893555, 56.683406829833984, 25.05196189880371, 75.68294525146484, 26.816640853881836, 20.07789421081543, 28.57899284362793, 40.5491828918457, 51.2864875793457, 27.535619735717773, 41.23664855957031, 29.588289260864258, 25.549087524414062, 62.225059509277344, 43.46521759033203, 34.71807861328125, 36.09617233276367, 34.30970001220703, 39.62466049194336, 36.83457565307617, 35.1002082824707, 36.88422393798828, 35.012779235839844, 35.075408935546875, 34.961997985839844, 33.35020446777344, 31.027284622192383, 57.60003662109375, 91.53517150878906, 88.77665710449219, 40.988319396972656, 61.88487243652344, 17.627302169799805, 17.956024169921875, 13.259267807006836, 14.75277328491211, 23.235267639160156, 13.896456718444824, 14.655898094177246, 10.798434257507324, 20.663009643554688, 12.135258674621582, 9.063496589660645, 12.01723575592041, 21.736421585083008, 8.968222618103027, 20.7784423828125, 17.142988204956055, 6.5880045890808105, 7.2965874671936035, 7.234278202056885, 5.042809009552002, 6.41366720199585, 17.763090133666992, 4.268714427947998, 19.076656341552734, 6.362189769744873, 19.017297744750977, 40.45863342285156, 10.88952922821045, 13.77466106414795, 17.273176193237305, 31.94384002685547, 40.215126037597656, 23.82736587524414, 43.206661224365234, 36.34992599487305, 24.83782958984375, 28.80388069152832, 33.8575439453125, 21.35515785217285, 53.47688674926758, 42.06980514526367, 37.96162033081055, 54.82991409301758, 60.59599685668945, 30.805940628051758, 44.255889892578125, 41.592620849609375, 34.99382781982422, 30.61528968811035, 36.9882698059082, 26.509069442749023, 34.011775970458984, 35.847957611083984, 34.08819580078125, 33.3776741027832, 28.790565490722656, 29.147361755371094, 27.586305618286133, 48.23357391357422, 16.823101043701172, 26.339130401611328, 15.492931365966797, 10.041495323181152, 10.684684753417969, 13.738736152648926, 13.712708473205566, 11.350407600402832, 10.547954559326172, 60.07302474975586, 10.463126182556152, 6.722952365875244, 9.707260131835938, 11.946578979492188, 8.884629249572754, 5.90605354309082, 27.412403106689453, 6.582070350646973, 13.113502502441406, 13.171646118164062, 4.282469272613525, 4.23040246963501, 8.334446907043457, 179.79591369628906, 3.4292232990264893, 8.13856029510498, 4.095527648925781, 4.085230827331543, 3.3945083618164062, 21.78117561340332, 8.8270902633667, 11.214430809020996, 12.886276245117188, 13.04593563079834, 9.064037322998047, 16.616796493530273, 36.2391471862793, 26.41259002685547, 24.672592163085938, 159.2805938720703, 30.758882522583008, 38.719482421875, 90.29771423339844, 17.773107528686523, 30.16986656188965, 37.60450744628906, 19.447551727294922, 83.86661529541016, 16.250579833984375, 22.69687271118164, 15.661921501159668, 22.54156494140625, 23.09398078918457, 30.21160888671875, 46.275699615478516, 21.176025390625, 28.007282257080078, 35.06561279296875, 28.83030128479004, 49.33736801147461, 31.722126007080078, 38.01222610473633, 25.417011260986328, 33.69486618041992, 31.04913330078125, 30.229021072387695, 29.284353256225586, 27.341758728027344, 28.568233489990234, 38.84883117675781, 20.025714874267578, 9.533446311950684, 13.489068984985352, 11.053876876831055, 13.381688117980957, 16.305063247680664, 7.723001480102539, 33.949554443359375, 12.285113334655762, 12.873751640319824, 12.130478858947754, 14.310990333557129, 11.292984962463379, 44.698055267333984, 33.17430877685547, 6.546188831329346, 5.804085731506348, 18.190645217895508, 5.061627388000488, 4.324455261230469, 5.0308732986450195, 13.686466217041016, 8.641775131225586, 3.5468924045562744, 26.988082885742188, 7.0563435554504395, 3.502850294113159, 9.686664581298828, 18.070138931274414, 24.854541778564453, 26.51776885986328, 16.786409378051758, 27.419849395751953, 36.09767532348633, 49.27578353881836, 33.1081428527832, 23.387216567993164, 48.755462646484375, 20.331327438354492, 16.13913345336914, 35.542686462402344, 55.498619079589844, 33.068397521972656, 56.023582458496094, 21.435558319091797, 36.87388610839844, 23.296987533569336, 38.592308044433594, 20.222972869873047, 39.556575775146484, 66.64854431152344, 33.208473205566406, 33.790557861328125, 31.033300399780273, 32.25739288330078, 24.271291732788086, 41.05828094482422, 34.360023498535156, 25.992691040039062, 26.9500675201416, 29.10558319091797, 27.41814613342285, 27.16542625427246, 27.225955963134766, 26.890165328979492, 9.387621879577637, 8.554339408874512, 11.250777244567871, 10.389966011047363, 29.208311080932617, 6.6820597648620605, 10.57577896118164, 5.258529186248779, 5.795902252197266, 9.579848289489746, 9.364678382873535, 2.4395925998687744, 2.4268484115600586, 2.425924062728882, 9.075440406799316, 3.0256760120391846, 4.226032733917236, 3.033148765563965, 3.010788679122925, 4.810802459716797, 2.9993884563446045, 38.64729690551758, 2.3613014221191406, 32.14707946777344, 2.331211805343628, 3.4933249950408936, 3.5084140300750732, 11.548944473266602, 12.761664390563965, 2.323538064956665, 2.8928728103637695, 34.032264709472656, 15.71082592010498, 49.86827850341797, 14.896446228027344, 45.732757568359375, 16.69150161743164, 32.77437973022461, 31.051044464111328, 12.279996871948242, 6.0482683181762695, 4.754570007324219, 16.583877563476562, 10.82431411743164, 30.001766204833984, 40.65327453613281, 22.254432678222656, 18.631752014160156, 41.990264892578125, 52.990203857421875, 90.02184295654297, 23.765518188476562, 61.493900299072266, 27.1281795501709, 51.103572845458984, 29.378936767578125, 64.47979736328125, 17.747224807739258, 40.94758605957031, 33.08939743041992, 29.009153366088867, 23.754487991333008, 25.915433883666992, 29.82555389404297, 31.328968048095703, 28.118465423583984, 26.721981048583984, 25.252521514892578, 23.816396713256836, 20.536401748657227, 92.12556457519531, 11.797019004821777, 13.323652267456055, 9.36266040802002, 10.916421890258789, 28.499300003051758, 17.14463233947754, 41.3804817199707, 14.748885154724121, 12.389466285705566, 7.260400295257568, 47.70744323730469, 4.290719509124756, 6.379096031188965, 4.223980903625488, 6.329965114593506, 4.2033185958862305, 7.648706912994385, 3.460991144180298, 3.455803871154785, 6.928822040557861, 3.442307710647583, 4.818087577819824, 4.114410400390625, 3.3905551433563232, 4.060192108154297, 3.3758609294891357, 6.036159992218018, 4.013765335083008, 7.9591898918151855, 9.034086227416992, 136.56163024902344, 12.063570976257324, 39.45098876953125, 5.266333103179932, 49.6887321472168, 6.361517429351807, 20.89157485961914, 53.90925216674805, 15.622669219970703, 10.731616020202637, 48.595951080322266, 31.43021583557129, 20.14915657043457, 49.146400451660156, 13.529203414916992, 15.524518013000488, 32.422237396240234, 50.105960845947266, 35.34780502319336, 43.66341018676758, 21.820051193237305, 17.010765075683594, 39.31336975097656, 49.978179931640625, 32.41682815551758, 23.79167366027832, 27.435171127319336, 30.754554748535156, 37.488433837890625, 45.09098434448242, 24.420917510986328, 29.414897918701172, 26.35257339477539, 25.00887680053711, 24.48124885559082, 23.62672233581543, 24.720186233520508, 12.05638599395752, 133.2671356201172, 13.264162063598633, 6.949117183685303, 7.464878559112549, 4.403853893280029, 4.257761478424072, 3.4883999824523926, 3.454104423522949, 3.436469316482544, 4.075562953948975, 2.660799741744995, 6.629518985748291, 3.9318385124206543, 2.596391201019287, 2.5839920043945312, 3.835972309112549, 10.07547378540039, 7.572663307189941, 2.4958109855651855, 3.747284173965454, 61.84113311767578, 1.8119550943374634, 2.4191884994506836, 1.8050587177276611, 1.784225583076477, 1.7869360446929932, 1.7795956134796143, 1.780762791633606, 1.7773587703704834, 28.458166122436523, 7.598857402801514, 56.301910400390625, 3.3579788208007812, 2.320591926574707, 17.31008529663086, 4.177188873291016, 13.472346305847168, 21.851654052734375, 9.30085277557373, 34.82664489746094, 44.80384826660156, 6.330071449279785, 20.940704345703125, 16.651697158813477, 8.275397300720215, 17.59265899658203, 28.2237548828125, 18.602619171142578, 34.232051849365234, 27.83299446105957, 17.45570182800293, 12.375911712646484, 17.553178787231445, 16.900619506835938, 26.6273193359375, 18.35468101501465, 27.381935119628906, 25.75325584411621, 15.994362831115723, 14.481627464294434, 14.590245246887207, 41.64836502075195, 21.643707275390625, 23.500980377197266, 22.89153480529785, 22.380332946777344, 24.96273422241211, 23.569665908813477, 24.051372528076172, 23.632612228393555, 19.778329849243164, 18.58774757385254, 18.44550132751465], \"Term\": [\"apple\", \"watch\", \"kim\", \"isi\", \"air\", \"foley\", \"macbook\", \"north\", \"comcast\", \"video\", \"ebola\", \"jong\", \"rosenberg\", \"border\", \"gold\", \"korean\", \"brown\", \"girl\", \"korea\", \"syria\", \"job\", \"new\", \"al\", \"kurdish\", \"iraq\", \"state\", \"islamic\", \"haram\", \"parliament\", \"boko\", \"somers\", \"mueller\", \"hbo\", \"yemen\", \"yemeni\", \"jordanian\", \"lebanese\", \"kayla\", \"lebanon\", \"kasasbeh\", \"dulaimi\", \"aqap\", \"nusra\", \"netflix\", \"saja\", \"moaz\", \"ibrahim\", \"sanaa\", \"sana\", \"shabwa\", \"hamid\", \"luke\", \"eastwood\", \"prescott\", \"tapeworm\", \"microchip\", \"baghdadi\", \"cpwd\", \"kobane\", \"safir\", \"bakr\", \"jordan\", \"coalition\", \"airdropped\", \"cache\", \"syrian\", \"abdullah\", \"al\", \"pilot\", \"streaming\", \"abu\", \"isi\", \"iraqi\", \"qaeda\", \"syria\", \"islamic\", \"strike\", \"iraq\", \"group\", \"killed\", \"fighter\", \"weapon\", \"u\", \"militant\", \"state\", \"said\", \"force\", \"military\", \"official\", \"video\", \"american\", \"leader\", \"report\", \"year\", \"told\", \"government\", \"border\", \"also\", \"time\", \"would\", \"emwazi\", \"meteorite\", \"asteroid\", \"crater\", \"capsule\", \"nicaragua\", \"managua\", \"nicaraguan\", \"hatchfield\", \"rc\", \"humberto\", \"fidel\", \"cooke\", \"rosario\", \"cornerstone\", \"qureshi\", \"westminster\", \"odinga\", \"galvin\", \"ahmadu\", \"santamaria\", \"statehouse\", \"salaam\", \"venezuelan\", \"radicalisation\", \"munajjid\", \"boko\", \"haram\", \"1855\", \"tukur\", \"castro\", \"ceasefire\", \"shekau\", \"qatar\", \"abubakar\", \"chibok\", \"nigerian\", \"nigeria\", \"snowman\", \"jihadi\", \"cuba\", \"cuban\", \"chad\", \"schoolgirl\", \"earth\", \"impact\", \"taliban\", \"girl\", \"government\", \"john\", \"said\", \"british\", \"hostage\", \"london\", \"group\", \"video\", \"release\", \"one\", \"militant\", \"time\", \"state\", \"official\", \"year\", \"reported\", \"report\", \"u\", \"would\", \"told\", \"also\", \"igen\", \"munster\", \"karat\", \"strap\", \"sapphire\", \"fr\", \"variant\", \"smartwatch\", \"stainless\", \"asp\", \"priced\", \"nand\", \"une\", \"valentine\", \"plated\", \"tier\", \"smartwatches\", \"appleinsider\", \"\\u00e0\", \"rolex\", \"pricing\", \"pebble\", \"18k\", \"gold\", \"wearable\", \"expects\", \"elastomer\", \"ahrendts\", \"foskett\", \"349\", \"steel\", \"apple\", \"watch\", \"edition\", \"battery\", \"cook\", \"samsung\", \"gruber\", \"device\", \"model\", \"price\", \"consumer\", \"retail\", \"cost\", \"sport\", \"launch\", \"version\", \"iphone\", \"feature\", \"000\", \"product\", \"start\", \"company\", \"2015\", \"new\", \"5\", \"6\", \"would\", \"also\", \"source\", \"could\", \"report\", \"according\", \"said\", \"year\", \"time\", \"first\", \"one\", \"summons\", \"blasio\", \"nypd\", \"bratton\", \"thompson\", \"crawl\", \"gertz\", \"slimmer\", \"ansar\", \"oberholtzer\", \"frisk\", \"absenteeism\", \"mite\", \"bureaucrat\", \"exporter\", \"plumber\", \"madhya\", \"plumbing\", \"marijuana\", \"autonation\", \"misdemeanor\", \"dealership\", \"prosecutorial\", \"buddle\", \"khou\", \"searing\", \"tissue\", \"scanner\", \"galveston\", \"scar\", \"spider\", \"brooklyn\", \"burrowed\", \"deen\", \"bunbury\", \"truck\", \"libyan\", \"tripoli\", \"bali\", \"benghazi\", \"tropical\", \"skin\", \"pope\", \"possession\", \"francis\", \"commercial\", \"libya\", \"arrest\", \"policy\", \"dylan\", \"mayor\", \"11\", \"thomas\", \"new\", \"york\", \"aircraft\", \"law\", \"mark\", \"said\", \"story\", \"airport\", \"could\", \"report\", \"would\", \"people\", \"news\", \"found\", \"time\", \"year\", \"one\", \"even\", \"city\", \"also\", \"told\", \"police\", \"like\", \"say\", \"last\", \"brokaw\", \"salman\", \"jess\", \"kneeling\", \"chinook\", \"williams\", \"caitlin\", \"hayden\", \"blurring\", \"tsarnaev\", \"binesh\", \"laa\", \"beheads\", \"foleys\", \"soltoff\", \"dzhokhar\", \"taftanaz\", \"hala\", \"nic\", \"gorani\", \"aerial\", \"stripe\", \"blurred\", \"giggly\", \"platter\", \"anji\", \"criminality\", \"letterman\", \"chopper\", \"michelle\", \"thanksgiving\", \"globalpost\", \"appalled\", \"teletubbies\", \"canterbury\", \"joel\", \"foley\", \"wright\", \"jumpsuit\", \"freelance\", \"orange\", \"nbc\", \"obama\", \"brian\", \"anchor\", \"journalist\", \"sotloff\", \"james\", \"jim\", \"helicopter\", \"smith\", \"video\", \"saudi\", \"haines\", \"american\", \"iraq\", \"sun\", \"murder\", \"beheading\", \"state\", \"islamic\", \"syria\", \"u\", \"family\", \"news\", \"president\", \"2012\", \"show\", \"said\", \"statement\", \"next\", \"story\", \"one\", \"people\", \"year\", \"isi\", \"say\", \"time\", \"new\", \"militant\", \"first\", \"report\", \"dejesus\", \"zehaf\", \"bibeau\", \"kadalim\", \"paler\", \"collector\", \"quebec\", \"credido\", \"shooter\", \"archdiocese\", \"liquor\", \"lin\", \"cirillo\", \"motherly\", \"indiegogo\", \"vocativ\", \"harper\", \"homeless\", \"corporal\", \"ottawa\", \"neal\", \"daiane\", \"rhythm\", \"artery\", \"hallway\", \"dedicating\", \"soothing\", \"unblock\", \"almighty\", \"clinically\", \"dc\", \"josh\", \"parliament\", \"memorial\", \"priest\", \"canadian\", \"holy\", \"gunman\", \"micheal\", \"vickers\", \"nathan\", \"thomas\", \"millan\", \"toy\", \"hill\", \"god\", \"kevin\", \"shot\", \"catholic\", \"youtube\", \"shooting\", \"video\", \"man\", \"soldier\", \"police\", \"heart\", \"father\", \"said\", \"say\", \"one\", \"war\", \"people\", \"would\", \"told\", \"year\", \"also\", \"zeppelin\", \"branson\", \"reunion\", \"bonham\", \"voting\", \"catapulted\", \"tendon\", \"madden\", \"limp\", \"abrahamian\", \"69th\", \"korean\", \"springing\", \"limped\", \"chol\", \"promoter\", \"referendum\", \"balloon\", \"jenny\", \"choson\", \"hwang\", \"whisky\", \"drummer\", \"incheon\", \"currency\", \"defector\", \"melvin\", \"sidelined\", \"10th\", \"tailor\", \"pyongyang\", \"jong\", \"ripped\", \"kim\", \"korea\", \"yo\", \"concert\", \"independence\", \"north\", \"un\", \"scorpion\", \"scotland\", \"il\", \"dictator\", \"sung\", \"restaurant\", \"jones\", \"plant\", \"secretive\", \"supreme\", \"south\", \"seidel\", \"party\", \"leadership\", \"power\", \"absence\", \"state\", \"said\", \"public\", \"leader\", \"speculation\", \"official\", \"student\", \"may\", \"since\", \"source\", \"would\", \"one\", \"year\", \"people\", \"country\", \"told\", \"report\", \"government\", \"first\", \"dera\", \"kasper\", \"dhs\", \"greta\", \"cbi\", \"cond\\u00e9\", \"petition\", \"congressman\", \"susteren\", \"beyonc\\u00e9\", \"kansa\", \"chauhan\", \"feig\", \"kctv\", \"outbreak\", \"rudaini\", \"hamele\", \"contracted\", \"decker\", \"christy\", \"ilbo\", \"conveying\", \"snake\", \"gurmeet\", \"chosun\", \"cotton\", \"catron\", \"adygeysk\", \"kardashian\", \"imported\", \"hunter\", \"rat\", \"virus\", \"ebola\", \"southwest\", \"disease\", \"fractured\", \"yeti\", \"anna\", \"vogue\", \"wintour\", \"duncan\", \"mosul\", \"border\", \"patient\", \"symptom\", \"homeland\", \"apprehended\", \"patrol\", \"health\", \"ankle\", \"texas\", \"hospital\", \"isi\", \"coming\", \"case\", \"city\", \"said\", \"source\", \"official\", \"terrorist\", \"fighter\", \"kim\", \"reported\", \"news\", \"told\", \"report\", \"country\", \"office\", \"u\", \"state\", \"claim\", \"also\", \"iraq\", \"meng\", \"xiangyan\", \"elon\", \"chemotherapy\", \"vladi\", \"freshman\", \"sunnyvale\", \"m\\u00e4laren\", \"redwood\", \"leukemia\", \"pedestrian\", \"royster\", \"moffett\", \"anderson\", \"quay\", \"eggnog\", \"sexist\", \"roche\", \"infertility\", \"elin\", \"leased\", \"zaiser\", \"placard\", \"miscarriage\", \"sweden\", \"island\", \"secluded\", \"villa\", \"archipelago\", \"qingdao\", \"viejo\", \"nordegren\", \"lake\", \"canseco\", \"twin\", \"ilic\", \"wonderful\", \"macedonian\", \"vega\", \"google\", \"private\", \"dinner\", \"student\", \"daughter\", \"husband\", \"blade\", \"penis\", \"property\", \"vice\", \"square\", \"wood\", \"la\", \"hospital\", \"year\", \"said\", \"tiger\", \"car\", \"street\", \"child\", \"police\", \"would\", \"smith\", \"found\", \"one\", \"man\", \"school\", \"million\", \"also\", \"city\", \"last\", \"first\", \"could\", \"old\", \"told\", \"story\", \"according\", \"news\", \"people\", \"report\", \"two\", \"time\", \"tor\", \"macklemorejoinedisis\", \"browser\", \"deepdotweb\", \"sutter\", \"pitt\", \"redacted\", \"taibbi\", \"teller\", \"anarchy\", \"omidyar\", \"ginsberg\", \"alignment\", \"opie\", \"jax\", \"blumenthal\", \"brad\", \"punk\", \"farther\", \"crusade\", \"fansided\", \"wwj\", \"finest\", \"cluster\", \"ulbricht\", \"fx\", \"velleius\", \"portico\", \"fence\", \"ferrell\", \"gonzalez\", \"pierre\", \"pause\", \"brown\", \"chat\", \"lopa\", \"detroit\", \"audio\", \"snyder\", \"ferguson\", \"batmobile\", \"autopsy\", \"recording\", \"wilson\", \"gunshot\", \"batman\", \"cnn\", \"stolen\", \"superman\", \"shot\", \"secret\", \"officer\", \"johnson\", \"comcast\", \"customer\", \"white\", \"shooting\", \"fired\", \"service\", \"said\", \"attorney\", \"michael\", \"heard\", \"time\", \"told\", \"first\", \"report\", \"police\", \"man\", \"say\", \"house\", \"one\", \"would\", \"news\", \"post\", \"made\", \"u\", \"burger\", \"dean\", \"banksy\", \"nikolai\", \"magneto\", \"eduard\", \"kryaglyachenko\", \"foxnewspress\", \"spoon\", \"magnet\", \"nitz\", \"foxnewsfacts\", \"tripleplay\", \"liverpool\", \"mattress\", \"pounder\", \"cartoonist\", \"adelaide\", \"casey\", \"shen\", \"faulty\", \"iceland\", \"lamppost\", \"watford\", \"groggy\", \"lyndon\", \"nnhe\", \"chernobyl\", \"metpoliceuk\", \"brook\", \"tenkaev\", \"electric\", \"superpower\", \"chicken\", \"cctv\", \"artist\", \"attract\", \"classmate\", \"hebdo\", \"horner\", \"vandalism\", \"cartoon\", \"macaulay\", \"magnetic\", \"tan\", \"english\", \"culkin\", \"mcdonald\", \"stuck\", \"chinese\", \"name\", \"hoax\", \"wilson\", \"decided\", \"story\", \"police\", \"kfc\", \"year\", \"wing\", \"account\", \"said\", \"student\", \"news\", \"like\", \"one\", \"people\", \"old\", \"twitter\", \"time\", \"even\", \"found\", \"told\", \"2014\", \"also\", \"day\", \"claim\", \"website\", \"report\", \"want\", \"constantine\", \"axl\", \"k5\", \"sneezed\", \"carlisle\", \"rnc\", \"rodney\", \"k5s\", \"sneezing\", \"knightscope\", \"bhakkar\", \"newfoundland\", \"cumbria\", \"chien\", \"morn\", \"cassy\", \"tweed\", \"damboa\", \"sneeze\", \"yen\", \"smack\", \"curnew\", \"forgot\", \"grass\", \"tomato\", \"liaoning\", \"propose\", \"theologian\", \"madrid\", \"casaleargs\", \"robot\", \"firework\", \"rose\", \"ramos\", \"msnbc\", \"smacked\", \"cherry\", \"microsoft\", \"behaviour\", \"lefevre\", \"abdulla\", \"pope\", \"said\", \"hoax\", \"death\", \"police\", \"animal\", \"dead\", \"facebook\", \"man\", \"francis\", \"people\", \"see\", \"story\", \"fake\", \"attack\", \"monday\", \"group\", \"like\", \"time\", \"first\", \"security\", \"woman\", \"news\", \"one\", \"report\", \"mr\", \"would\", \"u\", \"told\", \"go\", \"year\", \"even\", \"bale\", \"boyle\", \"sorkin\", \"biopic\", \"isaacson\", \"rogen\", \"seth\", \"wozniak\", \"kutcher\", \"audition\", \"tumour\", \"ashton\", \"godane\", \"mogadishu\", \"goldfish\", \"aaron\", \"deliberation\", \"dicaprio\", \"danny\", \"withdraw\", \"rudin\", \"chastain\", \"walter\", \"fincher\", \"leonardo\", \"untitled\", \"norfolk\", \"guymon\", \"casady\", \"slumdog\", \"abdi\", \"bethell\", \"sony\", \"somali\", \"shabab\", \"steve\", \"hairgate\", \"biography\", \"hair\", \"job\", \"oscar\", \"film\", \"somalia\", \"actor\", \"christian\", \"iphone\", \"play\", \"role\", \"apple\", \"founder\", \"6\", \"movie\", \"said\", \"year\", \"one\", \"say\", \"also\", \"people\", \"u\", \"part\", \"would\", \"guinness\", \"salvadorean\", \"34th\", \"stambaugh\", \"mi6\", \"britani\", \"eustachio\", \"bartolomeo\", \"marche\", \"congolese\", \"bary\", \"disintegrating\", \"di\", \"jinni\", \"differentiate\", \"preservative\", \"macerata\", \"jinny\", \"67m\", \"nikolaev\", \"bonobo\", \"sarda\", \"unione\", \"lyricist\", \"majed\", \"adriatico\", \"usama\", \"prey\", \"nun\", \"calorie\", \"kindle\", \"convent\", \"abdel\", \"italy\", \"severino\", \"catfish\", \"mortar\", \"warehouse\", \"dino\", \"amazon\", \"brick\", \"egyptian\", \"menu\", \"italian\", \"physical\", \"darkness\", \"birth\", \"foley\", \"store\", \"book\", \"british\", \"dylan\", \"baby\", \"rapper\", \"day\", \"sister\", \"year\", \"gave\", \"pregnant\", \"sunday\", \"american\", \"also\", \"james\", \"last\", \"intelligence\", \"identified\", \"said\", \"video\", \"syria\", \"according\", \"two\", \"one\", \"told\", \"man\", \"time\", \"isi\", \"u\", \"report\", \"news\", \"state\", \"gaza\", \"chandler\", \"phelps\", \"reset\", \"icloud\", \"iwork\", \"tinder\", \"yosemite\", \"fitch\", \"swimmer\", \"blocker\", \"roy\", \"corrective\", \"lianne\", \"baltimore\", \"intimacy\", \"olympic\", \"intersex\", \"matson\", \"rehab\", \"bug\", \"raven\", \"olympian\", \"ovary\", \"syncing\", \"estrogen\", \"duo\", \"shrine\", \"cat\", \"enhancer\", \"genitalia\", \"setting\", \"o\", \"lana\", \"palestinian\", \"io\", \"male\", \"deleted\", \"document\", \"drive\", \"taylor\", \"israel\", \"born\", \"dam\", \"woman\", \"facebook\", \"michael\", \"time\", \"said\", \"never\", \"one\", \"also\", \"claim\", \"user\", \"man\", \"8\", \"like\", \"say\", \"first\", \"would\", \"post\", \"day\", \"made\", \"lego\", \"12in\", \"kumar\", \"suresh\", \"fryd_\", \"dhawan\", \"ganganagar\", \"cleaver\", \"molested\", \"intolerable\", \"retina\", \"deplorable\", \"11in\", \"spaceship\", \"broadwell\", \"aamir\", \"13in\", \"intel\", \"counselling\", \"butcher\", \"doll\", \"egalitarian\", \"matte\", \"1974\", \"macbook\", \"grandma\", \"pinning\", \"redesign\", \"alley\", \"lenovo\", \"laptop\", \"pamphlet\", \"mob\", \"dragged\", \"lynch\", \"sends\", \"raped\", \"spice\", \"condom\", \"durex\", \"air\", \"pumpkin\", \"display\", \"girl\", \"processor\", \"rumour\", \"inch\", \"usb\", \"new\", \"rape\", \"letter\", \"core\", \"pro\", \"penis\", \"hand\", \"one\", \"sex\", \"local\", \"could\", \"2014\", \"said\", \"may\", \"year\", \"12\", \"would\", \"man\", \"people\", \"also\", \"like\", \"time\", \"sugarhill\", \"awakens\", \"brien\", \"1979\", \"complication\", \"mallie\", \"fungi\", \"robinson\", \"delight\", \"agaric\", \"hallucinogenic\", \"tulemaganbetov\", \"buckingham\", \"muscaria\", \"hank\", \"mushroom\", \"fungus\", \"pressler\", \"master\", \"avenger\", \"englewood\", \"ultron\", \"amanita\", \"tmz\", \"rocking\", \"72\", \"toadstool\", \"1957\", \"sportex\", \"titchmarsh\", \"hop\", \"hip\", \"gee\", \"abrams\", \"garden\", \"bank\", \"palace\", \"jackson\", \"rapper\", \"wels\", \"henry\", \"j\", \"islam\", \"catfish\", \"big\", \"rap\", \"gang\", \"queen\", \"star\", \"wonder\", \"york\", \"new\", \"million\", \"war\", \"release\", \"made\", \"figure\", \"said\", \"year\", \"died\", \"world\", \"one\", \"story\", \"also\", \"report\", \"according\", \"arnold\", \"zad\", \"helmand\", \"kevlar\", \"helmet\", \"duluiyah\", \"predator\", \"balad\", \"salter\", \"countdown\", \"kolber\", \"ascertaining\", \"bounce\", \"regroup\", \"suzy\", \"jemele\", \"sideline\", \"pooping\", \"pregame\", \"mcmanus\", \"espnw\", \"marine\", \"violates\", \"putin\", \"hatim\", \"poisoning\", \"jabbouri\", \"vladimir\", \"stan\", \"headshot\", \"treaty\", \"panel\", \"sniper\", \"domestic\", \"esquire\", \"espn\", \"nfl\", \"drone\", \"chlorine\", \"football\", \"ringing\", \"ditka\", \"tonight\", \"bird\", \"chemical\", \"violence\", \"discussion\", \"russian\", \"weapon\", \"show\", \"video\", \"footage\", \"u\", \"kurdish\", \"one\", \"monday\", \"said\", \"gas\", \"state\", \"last\", \"attack\", \"night\", \"force\", \"say\", \"report\", \"islamic\", \"militant\", \"three\", \"woman\", \"riquelme\", \"conal\", \"manipulation\", \"controller\", \"mortgage\", \"rourke\", \"employer\", \"consumerist\", \"pga\", \"accounting\", \"billing\", \"klein\", \"olsen\", \"videoshop\", \"votaw\", \"820\", \"unsourced\", \"entrepreneur\", \"downloads\", \"5cs\", \"rmb\", \"surpass\", \"suva\", \"gregg\", \"billed\", \"5c\", \"yuan\", \"subscribing\", \"steinberg\", \"imediaethics\", \"armstrong\", \"nike\", \"comcast\", \"judd\", \"nelson\", \"merry\", \"tour\", \"infamy\", \"ball\", \"app\", \"suspension\", \"envelope\", \"wood\", \"tiger\", \"ranking\", \"customer\", \"dan\", \"golf\", \"issue\", \"service\", \"call\", \"company\", \"apps\", \"firm\", \"claim\", \"one\", \"photo\", \"phone\", \"store\", \"get\", \"say\", \"said\", \"iphone\", \"time\", \"report\", \"video\", \"would\", \"month\", \"apple\", \"kane\", \"rosenberg\", \"idf\", \"cicurel\", \"haaretz\", \"scottishspca\", \"samoach\", \"sennott\", \"ynet\", \"eran\", \"harig\", \"mutasa\", \"aviv\", \"superintendent\", \"nachshon\", \"immigrated\", \"moshe\", \"jerusalem\", \"brunswick\", \"lortie\", \"alon\", \"israeli\", \"jimmydubyyc\", \"apx\", \"yql\", \"hurdle\", \"fklbh4yx6n\", \"informational\", \"irvine\", \"intrusion\", \"gill\", \"railing\", \"israel\", \"liveleak\", \"walla\", \"ypg\", \"safeguarding\", \"spca\", \"kai\", \"suitcase\", \"vickers\", \"kurdish\", \"tel\", \"kevin\", \"sergeant\", \"tied\", \"kurd\", \"arm\", \"canada\", \"captured\", \"canadian\", \"capture\", \"2006\", \"station\", \"kobani\", \"facebook\", \"dog\", \"security\", \"force\", \"safe\", \"31\", \"common\", \"said\", \"fighter\", \"source\", \"syria\", \"medium\", \"year\", \"isi\", \"report\", \"state\", \"house\", \"post\", \"story\"], \"Total\": [1791.0, 1222.0, 605.0, 1038.0, 507.0, 446.0, 234.0, 583.0, 232.0, 1298.0, 338.0, 323.0, 154.0, 449.0, 298.0, 272.0, 292.0, 405.0, 273.0, 666.0, 277.0, 1067.0, 846.0, 232.0, 579.0, 1325.0, 812.0, 291.0, 260.0, 287.0, 112.27586364746094, 96.0539779663086, 150.6937255859375, 74.74763488769531, 32.32467269897461, 113.07455444335938, 110.01001739501953, 30.259920120239258, 61.55900955200195, 26.22994041442871, 80.71760559082031, 18.117694854736328, 31.215312957763672, 29.179697036743164, 34.26871109008789, 17.10631561279297, 17.067777633666992, 12.05708122253418, 13.049700736999512, 12.055974006652832, 16.094860076904297, 48.21564483642578, 10.036006927490234, 11.04131031036377, 11.035056114196777, 11.041810989379883, 236.0211639404297, 10.033232688903809, 79.9071273803711, 13.033095359802246, 75.1817398071289, 97.53360748291016, 95.44718933105469, 25.76479148864746, 33.589622497558594, 309.4752502441406, 82.7615966796875, 846.4152221679688, 128.47291564941406, 56.218597412109375, 134.3271026611328, 1038.574951171875, 370.1885986328125, 127.06905364990234, 666.669189453125, 812.127685546875, 240.14935302734375, 579.9360961914062, 979.3296508789062, 482.3093566894531, 405.8598937988281, 253.95297241210938, 1311.9212646484375, 624.0158081054688, 1325.2294921875, 4033.012451171875, 446.0135803222656, 354.0533447265625, 891.7860107421875, 1298.715576171875, 566.4105834960938, 416.72418212890625, 1331.184326171875, 1435.142333984375, 1076.840087890625, 681.5791625976562, 449.89971923828125, 1160.2427978515625, 1220.0938720703125, 1228.8646240234375, 210.83001708984375, 157.2817840576172, 109.81040954589844, 102.90190887451172, 69.01251220703125, 61.32625198364258, 71.1785659790039, 64.33142852783203, 21.693262100219727, 36.53933334350586, 18.749828338623047, 62.27829360961914, 23.712759017944336, 16.77195930480957, 15.759868621826172, 37.57420349121094, 30.564804077148438, 22.69960594177246, 22.635482788085938, 34.5239372253418, 12.810068130493164, 10.828073501586914, 13.797240257263184, 14.787897109985352, 12.800370216369629, 23.60776138305664, 287.2433776855469, 291.2269287109375, 12.779328346252441, 26.62622833251953, 122.47625732421875, 90.34135437011719, 70.67924499511719, 41.20222854614258, 28.507457733154297, 54.129676818847656, 138.738525390625, 153.9805908203125, 38.3762092590332, 154.6529998779297, 56.143802642822266, 66.89582824707031, 54.726593017578125, 83.8927993774414, 140.42922973632812, 112.1007308959961, 92.8669662475586, 405.489501953125, 681.5791625976562, 330.8572998046875, 4033.012451171875, 359.3153076171875, 248.21820068359375, 237.43666076660156, 979.3296508789062, 1298.715576171875, 335.26080322265625, 1472.119140625, 624.0158081054688, 1220.0938720703125, 1325.2294921875, 891.7860107421875, 1435.142333984375, 678.4010620117188, 1331.184326171875, 1311.9212646484375, 1228.8646240234375, 1076.840087890625, 1160.2427978515625, 53.067909240722656, 39.78213119506836, 42.904598236083984, 39.78468704223633, 31.619850158691406, 36.714149475097656, 37.733741760253906, 90.49302673339844, 70.3086166381836, 23.429683685302734, 33.65956497192383, 19.353044509887695, 18.371435165405273, 18.3331241607666, 20.364543914794922, 20.337461471557617, 26.402019500732422, 17.30528450012207, 15.286194801330566, 18.31329917907715, 70.11406707763672, 19.302663803100586, 15.254700660705566, 298.06866455078125, 74.94270324707031, 32.498355865478516, 12.176994323730469, 14.214496612548828, 13.203714370727539, 41.682804107666016, 105.69254302978516, 1791.3564453125, 1222.322509765625, 146.84378051757812, 135.17645263671875, 64.95590209960938, 65.18283081054688, 31.510610580444336, 240.00039672851562, 214.22329711914062, 224.1240692138672, 59.243614196777344, 70.69172668457031, 130.55613708496094, 92.62380981445312, 189.59530639648438, 155.26815795898438, 251.76560974121094, 168.76181030273438, 430.017578125, 161.8928985595703, 187.49826049804688, 428.87896728515625, 258.61871337890625, 1067.213623046875, 199.67208862304688, 229.87069702148438, 1228.8646240234375, 1160.2427978515625, 677.95849609375, 884.6229858398438, 1331.184326171875, 845.19384765625, 4033.012451171875, 1435.142333984375, 1220.0938720703125, 834.1123657226562, 1472.119140625, 34.300540924072266, 36.21410369873047, 28.524003982543945, 23.802431106567383, 19.981069564819336, 15.204985618591309, 14.266561508178711, 9.510665893554688, 27.599281311035156, 46.68524169921875, 10.458680152893066, 9.475704193115234, 25.538555145263672, 6.653274059295654, 7.596974849700928, 16.165908813476562, 6.650634765625, 23.79034996032715, 154.60919189453125, 26.667184829711914, 16.20911407470703, 13.319156646728516, 6.649814605712891, 6.641646385192871, 11.400951385498047, 14.195687294006348, 6.640174388885498, 16.97536849975586, 13.307157516479492, 49.16706848144531, 183.86361694335938, 24.671337127685547, 34.856727600097656, 14.281026840209961, 20.776214599609375, 73.84236145019531, 64.638671875, 56.598270416259766, 52.38794708251953, 25.569395065307617, 36.50322723388672, 119.3052749633789, 105.72340393066406, 79.55480194091797, 85.7557601928711, 57.55253219604492, 125.09648895263672, 152.97044372558594, 143.37147521972656, 61.1016960144043, 47.378173828125, 243.8580780029297, 276.045654296875, 1067.213623046875, 262.78240966796875, 121.4937744140625, 181.5213623046875, 136.24325561523438, 4033.012451171875, 670.9561157226562, 190.7510528564453, 884.6229858398438, 1331.184326171875, 1228.8646240234375, 1065.3043212890625, 993.7705688476562, 425.77984619140625, 1220.0938720703125, 1435.142333984375, 1472.119140625, 561.572265625, 553.15283203125, 1160.2427978515625, 1076.840087890625, 724.5567626953125, 698.46533203125, 982.5620727539062, 743.2387084960938, 26.124486923217773, 12.539412498474121, 44.23151779174805, 28.86358642578125, 20.300437927246094, 128.88308715820312, 16.33634376525879, 17.287986755371094, 7.704710006713867, 14.343679428100586, 9.604293823242188, 12.442800521850586, 12.492399215698242, 9.604207038879395, 7.687941551208496, 7.683348178863525, 7.6810760498046875, 5.765848159790039, 5.767730236053467, 5.766021728515625, 7.679397106170654, 7.702792167663574, 25.05777359008789, 6.707799434661865, 5.773416996002197, 6.712841033935547, 12.422372817993164, 6.738933563232422, 7.712019443511963, 34.64500045776367, 12.442484855651855, 31.460533142089844, 21.04726791381836, 34.00865173339844, 12.353165626525879, 20.978519439697266, 446.51495361328125, 53.368141174316406, 20.31108856201172, 36.833370208740234, 41.235050201416016, 119.04401397705078, 344.2174377441406, 46.56977081298828, 35.4968376159668, 326.54022216796875, 100.72869873046875, 200.01416015625, 52.14851760864258, 56.946434020996094, 140.71214294433594, 1298.715576171875, 128.76412963867188, 95.38800811767578, 566.4105834960938, 579.9360961914062, 81.39302062988281, 103.47566223144531, 129.18028259277344, 1325.2294921875, 812.127685546875, 666.669189453125, 1311.9212646484375, 430.2857360839844, 993.7705688476562, 331.6178894042969, 182.0555877685547, 437.8791809082031, 4033.012451171875, 421.07879638671875, 299.555419921875, 670.9561157226562, 1472.119140625, 1065.3043212890625, 1435.142333984375, 1038.574951171875, 982.5620727539062, 1220.0938720703125, 1067.213623046875, 624.0158081054688, 834.1123657226562, 1331.184326171875, 40.29404830932617, 109.12528228759766, 120.89070129394531, 35.371490478515625, 76.6504898071289, 48.037254333496094, 25.536888122558594, 20.608131408691406, 44.15478515625, 16.693416595458984, 45.20970153808594, 181.5818328857422, 46.10397720336914, 16.695133209228516, 12.75019645690918, 17.641138076782227, 38.116851806640625, 115.68347930908203, 14.697213172912598, 154.77606201171875, 69.06781768798828, 17.619672775268555, 11.772944450378418, 11.771865844726562, 12.72075366973877, 9.803110122680664, 9.803293228149414, 10.786012649536133, 8.819445610046387, 9.788104057312012, 45.010223388671875, 80.63532257080078, 260.6076354980469, 107.43995666503906, 54.18034744262695, 178.35931396484375, 46.90999984741211, 123.56796264648438, 26.569704055786133, 140.1558380126953, 31.197261810302734, 276.045654296875, 50.80523681640625, 91.27208709716797, 120.40393829345703, 172.4850616455078, 89.97352600097656, 447.2588806152344, 79.26984405517578, 212.7157745361328, 261.8638610839844, 1298.715576171875, 889.8817749023438, 273.9969482421875, 724.5567626953125, 130.2970428466797, 213.42250061035156, 4033.012451171875, 982.5620727539062, 1472.119140625, 350.15814208984375, 1065.3043212890625, 1228.8646240234375, 1076.840087890625, 1435.142333984375, 1160.2427978515625, 28.608963012695312, 19.381671905517578, 17.54243278503418, 17.53363800048828, 10.140655517578125, 9.216976165771484, 10.143219947814941, 45.314659118652344, 13.846510887145996, 9.228395462036133, 9.227446556091309, 272.5115966796875, 7.37612247467041, 7.379004001617432, 7.379980564117432, 6.460094928741455, 14.787470817565918, 9.235709190368652, 6.459395408630371, 6.459817409515381, 18.484926223754883, 29.68863868713379, 6.462122440338135, 6.459621429443359, 12.89054012298584, 12.943843841552734, 6.460504055023193, 11.914328575134277, 7.383956432342529, 5.534028053283691, 99.36767578125, 323.18951416015625, 18.429859161376953, 605.5262451171875, 273.8813781738281, 74.26383209228516, 20.400596618652344, 26.881711959838867, 583.1110229492188, 259.5446472167969, 44.726619720458984, 99.0713882446289, 73.08883666992188, 45.7330322265625, 21.39002799987793, 109.19831848144531, 43.52663040161133, 45.22651290893555, 21.48131561279297, 44.96177291870117, 199.59136962890625, 64.4205093383789, 147.75743103027344, 87.92948913574219, 189.10665893554688, 70.85841369628906, 1325.2294921875, 4033.012451171875, 341.3017578125, 416.72418212890625, 91.90506744384766, 891.7860107421875, 274.50921630859375, 596.209716796875, 477.1516418457031, 677.95849609375, 1228.8646240234375, 1472.119140625, 1435.142333984375, 1065.3043212890625, 419.332275390625, 1076.840087890625, 1331.184326171875, 681.5791625976562, 834.1123657226562, 27.15270233154297, 23.30208396911621, 58.402748107910156, 18.39331817626953, 14.522497177124023, 18.43940544128418, 9.676413536071777, 29.142061233520508, 21.254159927368164, 10.6720609664917, 39.522216796875, 16.472820281982422, 24.33756446838379, 9.69287395477295, 23.346052169799805, 8.724563598632812, 12.611580848693848, 31.089672088623047, 10.664761543273926, 18.482362747192383, 22.282773971557617, 9.70121955871582, 17.324739456176758, 15.447713851928711, 22.273027420043945, 7.729659557342529, 8.719016075134277, 5.789728164672852, 12.576030731201172, 9.715229988098145, 132.3837127685547, 94.73234558105469, 122.30029296875, 338.30145263671875, 35.691654205322266, 89.97239685058594, 21.35181999206543, 29.309370040893555, 55.93647384643555, 75.14573669433594, 55.9896354675293, 72.89838409423828, 196.26736450195312, 449.89971923828125, 104.93626403808594, 72.65471649169922, 60.1595344543457, 44.41536331176758, 76.15673065185547, 303.08880615234375, 85.73631286621094, 171.38497924804688, 331.56707763671875, 1038.574951171875, 170.41868591308594, 380.6329040527344, 553.15283203125, 4033.012451171875, 677.95849609375, 891.7860107421875, 336.1098937988281, 405.8598937988281, 605.5262451171875, 678.4010620117188, 993.7705688476562, 1076.840087890625, 1331.184326171875, 419.332275390625, 262.98040771484375, 1311.9212646484375, 1325.2294921875, 583.9116821289062, 1160.2427978515625, 579.9360961914062, 13.768170356750488, 12.852643013000488, 26.52029037475586, 10.107837677001953, 22.040021896362305, 32.104736328125, 10.096271514892578, 12.87204360961914, 20.053800582885742, 8.263811111450195, 8.269326210021973, 9.164545059204102, 9.177613258361816, 8.25275707244873, 8.27057933807373, 24.738262176513672, 7.3432745933532715, 33.04579162597656, 8.278347969055176, 10.093842506408691, 7.348001003265381, 7.3342461585998535, 6.4322967529296875, 8.281013488769531, 14.735274314880371, 105.2220458984375, 6.436225891113281, 15.680452346801758, 6.43275785446167, 5.515528678894043, 9.188876152038574, 11.891809463500977, 20.363651275634766, 33.32535171508789, 35.59733963012695, 36.51688003540039, 35.976417541503906, 18.672155380249023, 40.06440734863281, 96.30472564697266, 101.62138366699219, 35.00893783569336, 274.50921630859375, 104.49186706542969, 56.16737365722656, 16.829259872436523, 106.78118896484375, 59.01798629760742, 110.03874969482422, 57.56829833984375, 124.58499908447266, 74.24734497070312, 331.56707763671875, 1435.142333984375, 4033.012451171875, 72.7513427734375, 190.92698669433594, 246.5921173095703, 342.2877197265625, 724.5567626953125, 1228.8646240234375, 140.71214294433594, 425.77984619140625, 1472.119140625, 889.8817749023438, 235.75743103027344, 322.68878173828125, 1160.2427978515625, 553.15283203125, 743.2387084960938, 834.1123657226562, 884.6229858398438, 521.0545043945312, 1076.840087890625, 670.9561157226562, 845.19384765625, 993.7705688476562, 1065.3043212890625, 1331.184326171875, 675.94873046875, 1220.0938720703125, 57.218955993652344, 23.22661018371582, 30.085845947265625, 15.47309684753418, 13.512418746948242, 9.63797664642334, 15.405858039855957, 49.317588806152344, 8.671018600463867, 7.703131675720215, 28.050254821777344, 13.520186424255371, 14.478845596313477, 5.769751071929932, 5.766840934753418, 68.43254852294922, 10.568202018737793, 6.729588985443115, 8.625417709350586, 4.808515548706055, 4.808877944946289, 6.7083964347839355, 5.765180587768555, 8.6765775680542, 4.807765007019043, 4.799587726593018, 4.802046775817871, 7.66616153717041, 34.6184196472168, 10.6294527053833, 52.65754318237305, 18.331138610839844, 88.38457489013672, 292.0132751464844, 31.787067413330078, 28.75778579711914, 70.95426940917969, 136.18980407714844, 29.436695098876953, 80.0984878540039, 65.83873748779297, 28.449596405029297, 137.2771453857422, 152.6091766357422, 52.03200149536133, 62.96745300292969, 226.82435607910156, 81.91597747802734, 48.56245040893555, 447.2588806152344, 108.5914077758789, 334.7188415527344, 102.36978149414062, 232.03030395507812, 199.22805786132812, 187.55508422851562, 261.8638610839844, 158.1871337890625, 444.6910400390625, 4033.012451171875, 95.09603881835938, 239.89541625976562, 261.5675048828125, 1220.0938720703125, 1076.840087890625, 834.1123657226562, 1331.184326171875, 724.5567626953125, 889.8817749023438, 982.5620727539062, 366.11712646484375, 1472.119140625, 1228.8646240234375, 993.7705688476562, 431.5556335449219, 529.0811157226562, 1311.9212646484375, 69.85771942138672, 18.151458740234375, 145.5734100341797, 44.44145965576172, 24.505922317504883, 12.71742057800293, 17.257112503051758, 9.991192817687988, 16.3491153717041, 33.67220687866211, 9.987414360046387, 8.177810668945312, 10.007696151733398, 9.998687744140625, 9.994721412658691, 18.167383193969727, 8.18481159210205, 7.275169849395752, 16.345430374145508, 16.443456649780273, 9.083954811096191, 6.3622612953186035, 8.18050479888916, 8.19085693359375, 8.17978286743164, 9.1040678024292, 8.18737506866455, 9.092219352722168, 6.3659749031066895, 8.199007034301758, 9.084675788879395, 16.28894805908203, 23.704177856445312, 52.14812088012695, 29.246870040893555, 74.15901947021484, 38.5762825012207, 28.298507690429688, 14.596050262451172, 44.19837188720703, 23.95812225341797, 16.511852264404297, 72.72508239746094, 21.8421688079834, 32.219112396240234, 94.39046478271484, 95.36824798583984, 62.3016471862793, 28.2131404876709, 75.16056823730469, 495.3379211425781, 178.6054229736328, 152.6091766357422, 155.4819793701172, 670.9561157226562, 724.5567626953125, 63.52141571044922, 1435.142333984375, 51.423973083496094, 217.1416778564453, 4033.012451171875, 274.50921630859375, 993.7705688476562, 698.46533203125, 1472.119140625, 1065.3043212890625, 521.0545043945312, 433.83685302734375, 1220.0938720703125, 561.572265625, 425.77984619140625, 1076.840087890625, 389.7900390625, 1160.2427978515625, 725.354736328125, 583.9116821289062, 299.24822998046875, 1331.184326171875, 291.1087951660156, 23.01521873474121, 26.375307083129883, 16.531776428222656, 12.389668464660645, 14.102958679199219, 8.284832000732422, 9.119312286376953, 11.605219841003418, 10.773244857788086, 17.45594024658203, 6.646129131317139, 7.478843688964844, 9.125304222106934, 14.988183975219727, 6.652124404907227, 6.662799835205078, 6.656524658203125, 9.213216781616211, 13.4259672164917, 10.034762382507324, 5.838313579559326, 5.023807525634766, 5.025663375854492, 10.958292007446289, 12.583674430847168, 5.871626853942871, 5.871294021606445, 5.886041164398193, 5.042832851409912, 4.203402519226074, 54.55221176147461, 15.987061500549316, 71.83257293701172, 12.819796562194824, 31.739124298095703, 11.913044929504395, 9.23842716217041, 25.299570083618164, 16.346755981445312, 14.97336483001709, 19.816604614257812, 105.72340393066406, 4033.012451171875, 178.6054229736328, 425.25653076171875, 724.5567626953125, 149.81524658203125, 235.5132598876953, 300.8068542480469, 889.8817749023438, 85.7557601928711, 1065.3043212890625, 403.3099060058594, 670.9561157226562, 198.90524291992188, 468.5638427734375, 308.7392883300781, 979.3296508789062, 698.46533203125, 1220.0938720703125, 834.1123657226562, 509.2286682128906, 536.0345458984375, 993.7705688476562, 1472.119140625, 1331.184326171875, 386.76361083984375, 1228.8646240234375, 1311.9212646484375, 1076.840087890625, 328.92816162109375, 1435.142333984375, 561.572265625, 119.99801635742188, 39.22195053100586, 81.04138946533203, 40.10430145263672, 25.648468017578125, 48.78207015991211, 25.666879653930664, 34.36326599121094, 12.835286140441895, 9.405640602111816, 9.407611846923828, 13.701539039611816, 73.89415740966797, 19.625349044799805, 29.226350784301758, 39.46689224243164, 8.571558952331543, 22.260499954223633, 35.0286979675293, 8.570185661315918, 9.433273315429688, 9.426347732543945, 26.647377014160156, 17.975635528564453, 18.846940994262695, 6.870358467102051, 9.479520797729492, 8.594359397888184, 8.598557472229004, 11.169326782226562, 18.772441864013672, 24.223302841186523, 51.17186737060547, 31.909074783325195, 58.43827438354492, 137.51673889160156, 39.588077545166016, 29.66149139404297, 89.04869842529297, 277.39251708984375, 25.059879302978516, 173.6817626953125, 67.2115707397461, 141.19728088378906, 93.75430297851562, 251.76560974121094, 134.27297973632812, 143.98397827148438, 1791.3564453125, 69.22794342041016, 229.87069702148438, 119.6133041381836, 4033.012451171875, 1435.142333984375, 1472.119140625, 982.5620727539062, 1160.2427978515625, 1065.3043212890625, 1311.9212646484375, 377.444580078125, 1228.8646240234375, 18.618446350097656, 7.102475643157959, 13.347441673278809, 7.130817413330078, 9.80990219116211, 17.805545806884766, 7.100448131561279, 7.098557949066162, 11.504753112792969, 5.349902629852295, 98.02874755859375, 5.359382629394531, 4.457117080688477, 6.262512683868408, 5.361798286437988, 4.455933570861816, 15.872223854064941, 13.469386100769043, 5.352715015411377, 11.692695617675781, 4.464143753051758, 5.324894905090332, 5.326074600219727, 5.3786492347717285, 33.44823455810547, 6.223751068115234, 3.5794453620910645, 4.466772079467773, 84.65426635742188, 4.441753387451172, 10.741998672485352, 26.332868576049805, 74.77200317382812, 40.950992584228516, 15.005901336669922, 75.4161605834961, 18.140033721923828, 13.452107429504395, 18.815555572509766, 120.95205688476562, 19.917739868164062, 18.2447452545166, 38.699527740478516, 34.72879409790039, 37.431373596191406, 38.78857421875, 107.61177062988281, 446.51495361328125, 248.73182678222656, 68.2491226196289, 359.3153076171875, 61.1016960144043, 126.27178192138672, 95.76976013183594, 725.354736328125, 119.1294174194336, 1435.142333984375, 140.67266845703125, 79.13883209228516, 187.97164916992188, 566.4105834960938, 1160.2427978515625, 200.01416015625, 743.2387084960938, 274.4812316894531, 164.0537109375, 4033.012451171875, 1298.715576171875, 666.669189453125, 845.19384765625, 675.94873046875, 1472.119140625, 1076.840087890625, 889.8817749023438, 1220.0938720703125, 1038.574951171875, 1311.9212646484375, 1331.184326171875, 993.7705688476562, 1325.2294921875, 61.8223991394043, 100.59390258789062, 97.90025329589844, 45.886077880859375, 69.30575561523438, 19.746891021728516, 20.671039581298828, 15.296772956848145, 17.084978103637695, 26.964813232421875, 16.183618545532227, 17.08953285217285, 12.593697547912598, 24.303943634033203, 14.393244743347168, 10.801891326904297, 14.384446144104004, 26.094953536987305, 10.800726890563965, 25.187541961669922, 20.800752639770508, 8.109528541564941, 9.002462387084961, 9.008151054382324, 6.310134410858154, 8.106462478637695, 22.496564865112305, 5.410754203796387, 24.217363357543945, 8.109020233154297, 24.352386474609375, 57.95180130004883, 14.513589859008789, 19.06456184387207, 24.63707160949707, 55.42795944213867, 76.05475616455078, 39.99806594848633, 112.31731414794922, 88.24940490722656, 52.39578628540039, 104.37327575683594, 152.50802612304688, 54.250030517578125, 536.0345458984375, 300.8068542480469, 239.89541625976562, 1220.0938720703125, 4033.012451171875, 267.0718078613281, 1472.119140625, 1160.2427978515625, 583.9116821289062, 303.427001953125, 889.8817749023438, 154.19085693359375, 698.46533203125, 982.5620727539062, 834.1123657226562, 1228.8646240234375, 431.5556335449219, 725.354736328125, 529.0811157226562, 53.93918228149414, 18.849546432495117, 29.550935745239258, 17.937702178955078, 11.683394432067871, 12.547955513000488, 16.135549545288086, 16.13852310180664, 13.450031280517578, 12.544395446777344, 71.56620788574219, 12.54987621307373, 8.095651626586914, 11.706460952758789, 14.463988304138184, 10.75859546661377, 7.198050022125244, 33.518943786621094, 8.10033130645752, 16.16874122619629, 16.281944274902344, 5.399955749511719, 5.4057536125183105, 10.755488395690918, 234.88856506347656, 4.503042697906494, 10.756779670715332, 5.417329788208008, 5.407360553741455, 4.509706497192383, 29.09630584716797, 11.758377075195312, 15.190564155578613, 18.225130081176758, 18.60560417175293, 12.63670825958252, 25.963241577148438, 68.12310028076172, 47.02192306518555, 44.19977951049805, 507.3532409667969, 61.982276916503906, 98.29815673828125, 405.489501953125, 33.9644775390625, 86.54285430908203, 129.01446533203125, 44.54115295410156, 1067.213623046875, 34.18815612792969, 86.11117553710938, 31.78630256652832, 92.4626235961914, 106.78118896484375, 265.1517028808594, 1472.119140625, 102.79264831542969, 332.7093811035156, 884.6229858398438, 389.7900390625, 4033.012451171875, 596.209716796875, 1435.142333984375, 230.64306640625, 1228.8646240234375, 889.8817749023438, 1065.3043212890625, 1160.2427978515625, 698.46533203125, 1220.0938720703125, 43.927703857421875, 22.864484786987305, 10.970134735107422, 15.53538990020752, 12.79948902130127, 15.538926124572754, 19.181854248046875, 9.149538040161133, 40.31788635253906, 14.62894344329834, 15.525799751281738, 14.638174057006836, 17.340417861938477, 13.724809646606445, 55.09663009643555, 41.07670211791992, 8.226643562316895, 7.317236423492432, 22.938312530517578, 6.404170989990234, 5.492280960083008, 6.401005744934082, 17.414459228515625, 11.005112648010254, 4.576420307159424, 34.90985107421875, 9.139808654785156, 4.575675964355469, 12.709939956665039, 23.761035919189453, 32.945289611816406, 35.7313346862793, 22.915048599243164, 39.713531494140625, 53.97296142578125, 83.81090545654297, 54.53303146362305, 38.53721618652344, 95.76976013183594, 33.38706970214844, 25.549118041992188, 79.05357360839844, 165.22027587890625, 75.4161605834961, 205.7731170654297, 39.600685119628906, 111.15895080566406, 50.13583755493164, 177.40464782714844, 44.6522102355957, 262.78240966796875, 1067.213623046875, 322.68878173828125, 350.15814208984375, 335.26080322265625, 529.0811157226562, 115.35692596435547, 4033.012451171875, 1435.142333984375, 193.69638061523438, 430.4961242675781, 1472.119140625, 670.9561157226562, 1160.2427978515625, 1331.184326171875, 845.19384765625, 10.89748764038086, 10.073075294494629, 13.461509704589844, 12.635066032409668, 36.276607513427734, 8.478771209716797, 13.476448059082031, 6.781920909881592, 7.627108097076416, 12.708015441894531, 12.7418212890625, 3.409884214401245, 3.4118478298187256, 3.4122555255889893, 12.785069465637207, 4.264082431793213, 5.9678778648376465, 4.285127639770508, 4.267144680023193, 6.8259758949279785, 4.2687506675720215, 55.868961334228516, 3.4170427322387695, 47.07106018066406, 3.422161817550659, 5.139713287353516, 5.167457103729248, 17.012523651123047, 18.825700759887695, 3.4314582347869873, 4.2891621589660645, 56.73561477661133, 25.296903610229492, 85.7808837890625, 24.0864315032959, 84.72157287597656, 30.405492782592773, 76.98310852050781, 72.46733093261719, 24.413667678833008, 10.382023811340332, 7.787518501281738, 42.212554931640625, 23.83863639831543, 97.88934326171875, 149.36538696289062, 70.42771911621094, 54.50275421142578, 253.95297241210938, 437.8791809082031, 1298.715576171875, 112.64802551269531, 1311.9212646484375, 232.1686553955078, 1472.119140625, 308.7392883300781, 4033.012451171875, 74.80889129638672, 1325.2294921875, 743.2387084960938, 468.5638427734375, 250.7212677001953, 446.0135803222656, 982.5620727539062, 1331.184326171875, 812.127685546875, 624.0158081054688, 457.2059020996094, 536.0345458984375, 22.3657169342041, 101.21614074707031, 13.427764892578125, 15.245916366577148, 10.744647026062012, 12.535274505615234, 34.11937713623047, 20.726154327392578, 50.327781677246094, 18.07533836364746, 15.221813201904297, 9.001802444458008, 59.464115142822266, 5.396092891693115, 8.091496467590332, 5.39995002746582, 8.093657493591309, 5.391250133514404, 9.922552108764648, 4.4970622062683105, 4.496664047241211, 9.019671440124512, 4.487748146057129, 6.3191633224487305, 5.412030220031738, 4.498993873596191, 5.388952255249023, 4.50554895401001, 8.100260734558105, 5.3985466957092285, 10.903151512145996, 12.668600082397461, 232.03030395507812, 17.994434356689453, 68.32335662841797, 7.264120101928711, 100.31009674072266, 9.091955184936523, 38.41155242919922, 123.05540466308594, 28.013792037963867, 17.458581924438477, 124.58499908447266, 72.7513427734375, 41.178680419921875, 199.22805786132812, 26.836223602294922, 36.600276947021484, 181.6446075439453, 444.6910400390625, 254.2020721435547, 428.87896728515625, 96.63323211669922, 55.15660095214844, 583.9116821289062, 1472.119140625, 410.2719421386719, 154.0225830078125, 248.73182678222656, 434.38250732421875, 982.5620727539062, 4033.012451171875, 251.76560974121094, 1220.0938720703125, 1331.184326171875, 1298.715576171875, 1228.8646240234375, 550.4983520507812, 1791.3564453125, 13.751358985900879, 154.2211151123047, 15.595294952392578, 8.2691650390625, 9.186037063598633, 5.518915176391602, 5.513994216918945, 4.591526031494141, 4.602603435516357, 4.603177070617676, 5.506356239318848, 3.6804046630859375, 9.271119117736816, 5.509937286376953, 3.6868369579315186, 3.6812403202056885, 5.53161096572876, 14.723352432250977, 11.098869323730469, 3.6776978969573975, 5.540988922119141, 93.14749145507812, 2.7612791061401367, 3.7011561393737793, 2.761721611022949, 2.7576045989990234, 2.762336254119873, 2.7608628273010254, 2.7637014389038086, 2.759556293487549, 46.6641845703125, 12.243654251098633, 104.37327575683594, 5.481662750244141, 3.683537006378174, 40.25462341308594, 7.476113319396973, 32.82754135131836, 61.34613800048828, 22.18256950378418, 140.1558380126953, 232.1686553955078, 14.09184455871582, 89.97352600097656, 63.16815185546875, 21.551597595214844, 71.52955627441406, 155.38278198242188, 79.9197769165039, 248.7021484375, 178.35931396484375, 81.87235260009766, 46.31318283081055, 112.07695007324219, 108.18739318847656, 300.8068542480469, 136.21823120117188, 509.2286682128906, 446.0135803222656, 114.04866027832031, 89.13224792480469, 92.05191802978516, 4033.012451171875, 405.8598937988281, 677.95849609375, 666.669189453125, 633.8734741210938, 1435.142333984375, 1038.574951171875, 1331.184326171875, 1325.2294921875, 366.11712646484375, 431.5556335449219, 670.9561157226562], \"loglift\": [30.0, 29.0, 28.0, 27.0, 26.0, 25.0, 24.0, 23.0, 22.0, 21.0, 20.0, 19.0, 18.0, 17.0, 16.0, 15.0, 14.0, 13.0, 12.0, 11.0, 10.0, 9.0, 8.0, 7.0, 6.0, 5.0, 4.0, 3.0, 2.0, 1.0, 2.003499984741211, 2.0027999877929688, 1.9988000392913818, 1.9946999549865723, 1.9884999990463257, 1.9852999448776245, 1.980299949645996, 1.9782999753952026, 1.9782999753952026, 1.9773000478744507, 1.9663000106811523, 1.9615999460220337, 1.9608999490737915, 1.9600000381469727, 1.9570000171661377, 1.9500999450683594, 1.9459999799728394, 1.9391000270843506, 1.9381999969482422, 1.9378999471664429, 1.9361000061035156, 1.9358999729156494, 1.9223999977111816, 1.9219000339508057, 1.9205000400543213, 1.9193999767303467, 1.9180999994277954, 1.9178999662399292, 1.917099952697754, 1.9163000583648682, 1.9043999910354614, 1.878499984741211, 1.8746000528335571, 1.889299988746643, 1.8703999519348145, 1.753100037574768, 1.8194999694824219, 1.6460000276565552, 1.7596999406814575, 1.8207999467849731, 1.7247999906539917, 1.4603999853134155, 1.5164999961853027, 1.642799973487854, 1.3476999998092651, 1.2999000549316406, 1.517199993133545, 1.3056000471115112, 1.1692999601364136, 1.3078999519348145, 1.3417999744415283, 1.4586999416351318, 1.0073000192642212, 1.1966999769210815, 0.9387000203132629, 0.47110000252723694, 1.1655000448226929, 1.2496000528335571, 0.6283000111579895, 0.37689998745918274, 0.7928000092506409, 0.9642999768257141, 0.22130000591278076, 0.10840000212192535, 0.2605000138282776, 0.5062999725341797, 0.8046000003814697, -0.013500000350177288, -0.0689999982714653, -0.094200000166893, 2.2748000621795654, 2.2695999145507812, 2.2660000324249268, 2.264400005340576, 2.2595999240875244, 2.2562999725341797, 2.2548000812530518, 2.2537999153137207, 2.2388999462127686, 2.237799882888794, 2.2369000911712646, 2.2351999282836914, 2.234499931335449, 2.229599952697754, 2.2293999195098877, 2.2244999408721924, 2.2227001190185547, 2.219899892807007, 2.2184998989105225, 2.214600086212158, 2.213200092315674, 2.2123000621795654, 2.211899995803833, 2.2100000381469727, 2.2079999446868896, 2.205899953842163, 2.2037999629974365, 2.2023000717163086, 2.2021000385284424, 2.20169997215271, 2.194700002670288, 2.195499897003174, 2.1942999362945557, 2.1944000720977783, 2.198899984359741, 2.184999942779541, 2.1610000133514404, 2.1296000480651855, 2.1821999549865723, 2.0848000049591064, 2.1154000759124756, 2.045799970626831, 2.07669997215271, 1.9954999685287476, 1.854599952697754, 1.8968000411987305, 1.8940999507904053, 1.3818999528884888, 1.204200029373169, 1.4491000175476074, 0.3628000020980835, 1.2925000190734863, 1.445199966430664, 1.4433000087738037, 0.5623000264167786, 0.3596999943256378, 1.1180000305175781, 0.20419999957084656, 0.6926000118255615, 0.23980000615119934, 0.16840000450611115, 0.4043000042438507, -0.030500000342726707, 0.5388000011444092, -0.026399999856948853, -0.07090000063180923, -0.04780000075697899, 0.04089999943971634, -0.06769999861717224, 2.5754001140594482, 2.573899984359741, 2.5715999603271484, 2.5713999271392822, 2.570199966430664, 2.5683999061584473, 2.566999912261963, 2.5650999546051025, 2.563699960708618, 2.5611000061035156, 2.5587000846862793, 2.558300018310547, 2.555500030517578, 2.553299903869629, 2.546999931335449, 2.5450000762939453, 2.5434999465942383, 2.5434000492095947, 2.5423998832702637, 2.538300037384033, 2.5376999378204346, 2.53629994392395, 2.535099983215332, 2.5344998836517334, 2.53410005569458, 2.531399965286255, 2.526599884033203, 2.525399923324585, 2.5253000259399414, 2.5251998901367188, 2.5195000171661377, 2.4537999629974365, 2.4491000175476074, 2.4790000915527344, 2.4779000282287598, 2.4948999881744385, 2.483799934387207, 2.5058999061584473, 2.3452999591827393, 2.3155999183654785, 2.308500051498413, 2.413599967956543, 2.3791000843048096, 2.265199899673462, 2.238300085067749, 2.035900115966797, 2.057499885559082, 1.9031000137329102, 2.003000020980835, 1.5982999801635742, 1.9773999452590942, 1.8911999464035034, 1.5342999696731567, 1.669800043106079, 0.7838000059127808, 1.7066999673843384, 1.6119999885559082, 0.4763000011444092, 0.4733999967575073, 0.8310999870300293, 0.6007000207901001, 0.2777000069618225, 0.4896000027656555, -0.9003999829292297, -0.02410000003874302, 0.07639999687671661, 0.4000000059604645, -0.1679999977350235, 2.648900032043457, 2.646399974822998, 2.6419999599456787, 2.6301000118255615, 2.6261000633239746, 2.601599931716919, 2.599900007247925, 2.5838000774383545, 2.5820000171661377, 2.580199956893921, 2.5785000324249268, 2.564500093460083, 2.5641000270843506, 2.5617001056671143, 2.5596001148223877, 2.5594000816345215, 2.55679988861084, 2.5564000606536865, 2.552000045776367, 2.5481998920440674, 2.547600030899048, 2.5364999771118164, 2.5329999923706055, 2.5302999019622803, 2.5302999019622803, 2.527100086212158, 2.5253000259399414, 2.5216000080108643, 2.521199941635132, 2.519700050354004, 2.5109000205993652, 2.515000104904175, 2.4902000427246094, 2.5144999027252197, 2.487299919128418, 2.365499973297119, 2.3606998920440674, 2.3694000244140625, 2.3766000270843506, 2.4482998847961426, 2.384500026702881, 2.183799982070923, 2.1466000080108643, 2.1946001052856445, 2.1633999347686768, 2.2511000633239746, 2.038599967956543, 1.9776999950408936, 1.9819999933242798, 2.1807000637054443, 2.239000082015991, 1.6680999994277954, 1.5356999635696411, 0.9620000123977661, 1.5325000286102295, 1.8592000007629395, 1.6710000038146973, 1.756600022315979, -0.11919999867677689, 0.8464999794960022, 1.4944000244140625, 0.5885000228881836, 0.3052000105381012, 0.3231000006198883, 0.36570000648498535, 0.4002000093460083, 0.9399999976158142, 0.16750000417232513, 0.03759999945759773, 0.01600000075995922, 0.7099000215530396, 0.6608999967575073, 0.03750000149011612, 0.08340000361204147, 0.4074999988079071, 0.36970001459121704, 0.0340999998152256, 0.27900001406669617, 2.635999917984009, 2.6285998821258545, 2.6101999282836914, 2.59879994392395, 2.585900068283081, 2.5834999084472656, 2.5815999507904053, 2.5810000896453857, 2.578700065612793, 2.573699951171875, 2.5722999572753906, 2.5697999000549316, 2.568700075149536, 2.5678000450134277, 2.563699960708618, 2.5576999187469482, 2.5478999614715576, 2.5443999767303467, 2.5423998832702637, 2.541300058364868, 2.5404999256134033, 2.54010009765625, 2.5339999198913574, 2.5329999923706055, 2.5318000316619873, 2.5280001163482666, 2.5269999504089355, 2.5234999656677246, 2.522900104522705, 2.522700071334839, 2.5183000564575195, 2.5018999576568604, 2.5032999515533447, 2.472399950027466, 2.508500099182129, 2.478100061416626, 2.3097000122070312, 2.424299955368042, 2.4677000045776367, 2.419800043106079, 2.3973000049591064, 2.262200117111206, 2.08870005607605, 2.313499927520752, 2.3420000076293945, 1.9758000373840332, 2.1268999576568604, 1.975100040435791, 2.237600088119507, 2.1767001152038574, 1.9177000522613525, 1.2035000324249268, 1.9128999710083008, 1.9996999502182007, 1.4452999830245972, 1.3889000415802002, 1.9895000457763672, 1.8939000368118286, 1.7754000425338745, 0.7419000267982483, 0.9138000011444092, 0.9714000225067139, 0.6194000244140625, 1.174399971961975, 0.6650999784469604, 1.2436000108718872, 1.5601999759674072, 1.001099944114685, -0.3089999854564667, 0.9733999967575073, 1.1720999479293823, 0.6399999856948853, 0.11330000311136246, 0.3158999979496002, 0.000699999975040555, 0.22599999606609344, 0.2653000056743622, 0.05299999937415123, 0.16009999811649323, 0.5550000071525574, 0.3003999888896942, -0.15080000460147858, 2.7032999992370605, 2.699199914932251, 2.69569993019104, 2.6909000873565674, 2.6851000785827637, 2.6810998916625977, 2.6803998947143555, 2.677500009536743, 2.675299882888794, 2.6749000549316406, 2.672100067138672, 2.671799898147583, 2.6686999797821045, 2.6610000133514404, 2.6570000648498535, 2.6563000679016113, 2.6554999351501465, 2.654599905014038, 2.6522998809814453, 2.6521999835968018, 2.650399923324585, 2.6484999656677246, 2.6475000381469727, 2.6414999961853027, 2.641400098800659, 2.640000104904175, 2.638000011444092, 2.635699987411499, 2.6270999908447266, 2.6233999729156494, 2.568700075149536, 2.533099889755249, 2.462100028991699, 2.5078999996185303, 2.514899969100952, 2.4165000915527344, 2.511199951171875, 2.3989999294281006, 2.5636000633239746, 2.327899932861328, 2.5392000675201416, 2.1173999309539795, 2.4460999965667725, 2.2964000701904297, 2.1682000160217285, 2.055299997329712, 2.2279000282287598, 1.6092000007629395, 2.256200075149536, 1.801300048828125, 1.7009999752044678, 0.8687999844551086, 1.055899977684021, 1.641700029373169, 0.9832000136375427, 1.9788999557495117, 1.6642999649047852, -0.22630000114440918, 0.6248000264167786, 0.18860000371932983, 1.2257000207901, 0.3224000036716461, 0.19629999995231628, 0.2745000123977661, -0.23080000281333923, -0.07199999690055847, 2.7255001068115234, 2.7207000255584717, 2.7093000411987305, 2.7060999870300293, 2.681999921798706, 2.672499895095825, 2.6723999977111816, 2.671099901199341, 2.6607000827789307, 2.6602001190185547, 2.657399892807007, 2.651099920272827, 2.643899917602539, 2.6389999389648438, 2.6335999965667725, 2.6315999031066895, 2.631500005722046, 2.629699945449829, 2.624300003051758, 2.6203999519348145, 2.616300106048584, 2.615600109100342, 2.6150999069213867, 2.61299991607666, 2.6098999977111816, 2.6094000339508057, 2.608299970626831, 2.6080000400543213, 2.6061999797821045, 2.6022000312805176, 2.601599931716919, 2.589099884033203, 2.599900007247925, 2.5539000034332275, 2.569000005722046, 2.553800106048584, 2.5894999504089355, 2.571899890899658, 2.356800079345703, 2.363300085067749, 2.469399929046631, 2.3626999855041504, 2.3768999576568604, 2.428299903869629, 2.532399892807007, 2.2441999912261963, 2.3789000511169434, 2.3701000213623047, 2.5076000690460205, 2.3104000091552734, 1.8747999668121338, 2.1935999393463135, 1.9438999891281128, 2.056999921798706, 1.6578999757766724, 2.0350000858306885, 0.7232000231742859, 0.18150000274181366, 1.2936999797821045, 1.197100043296814, 1.916200041770935, 0.6136000156402588, 1.2273999452590942, 0.6754999756813049, 0.7732999920845032, 0.4975000023841858, 0.07240000367164612, -0.08489999920129776, -0.1216999962925911, 0.10000000149011612, 0.7782999873161316, 0.04659999907016754, -0.1940000057220459, 0.334199994802475, 0.13300000131130219, 2.7894999980926514, 2.785599946975708, 2.781399965286255, 2.7648000717163086, 2.758699893951416, 2.750699996948242, 2.7504000663757324, 2.749500036239624, 2.7439000606536865, 2.7304000854492188, 2.7295000553131104, 2.728300094604492, 2.72760009765625, 2.722100019454956, 2.7219998836517334, 2.7163000106811523, 2.716200113296509, 2.7160000801086426, 2.7158000469207764, 2.7147998809814453, 2.7147998809814453, 2.7119998931884766, 2.7118000984191895, 2.710200071334839, 2.7070000171661377, 2.7053000926971436, 2.7042999267578125, 2.6949000358581543, 2.6928999423980713, 2.6907999515533447, 2.68179988861084, 2.6770999431610107, 2.662400007247925, 2.6133999824523926, 2.6412999629974365, 2.593899965286255, 2.6651999950408936, 2.640500068664551, 2.5822999477386475, 2.539799928665161, 2.567699909210205, 2.5373001098632812, 2.364300012588501, 2.221100091934204, 2.390199899673462, 2.446700096130371, 2.47979998588562, 2.538100004196167, 2.393399953842163, 1.9739999771118164, 2.2915000915527344, 2.030100107192993, 1.7301000356674194, 1.2027000188827515, 1.867799997329712, 1.4565999507904053, 1.253100037574768, 0.22939999401569366, 1.104200005531311, 0.8784000277519226, 1.4119000434875488, 1.24590003490448, 0.9060999751091003, 0.8138999938964844, 0.5471000075340271, 0.48969998955726624, 0.3124000132083893, 1.12909996509552, 1.4204000234603882, 0.11150000244379044, 0.0731000006198883, 0.729200005531311, 0.025499999523162842, 0.6531000137329102, 2.797300100326538, 2.791100025177002, 2.786099910736084, 2.765700101852417, 2.765199899673462, 2.7609000205993652, 2.7539000511169434, 2.7535998821258545, 2.750999927520752, 2.7507998943328857, 2.750200033187866, 2.741499900817871, 2.739500045776367, 2.7393999099731445, 2.7390999794006348, 2.735300064086914, 2.7304999828338623, 2.7300000190734863, 2.726599931716919, 2.721299886703491, 2.720599889755249, 2.7202999591827393, 2.718600034713745, 2.716900110244751, 2.7137999534606934, 2.7084999084472656, 2.7076001167297363, 2.7018001079559326, 2.6979000568389893, 2.695499897003174, 2.690700054168701, 2.687999963760376, 2.6710000038146973, 2.6322999000549316, 2.591200113296509, 2.587100028991699, 2.5348000526428223, 2.610599994659424, 2.473900079727173, 2.2760000228881836, 2.226900100708008, 2.4470999240875244, 1.9973000288009644, 2.1826000213623047, 2.271399974822998, 2.5810000896453857, 2.0676000118255615, 2.160399913787842, 1.9402999877929688, 2.1519999504089355, 1.8423000574111938, 2.00570011138916, 1.3219000101089478, 0.6532999873161316, 0.09640000015497208, 1.9673999547958374, 1.4881999492645264, 1.3452999591827393, 1.1755000352859497, 0.6492000222206116, 0.2924000024795532, 1.6089999675750732, 0.8881999850273132, 0.03420000150799751, 0.3370000123977661, 1.2202999591827393, 0.9886000156402588, 0.07000000029802322, 0.6004999876022339, 0.36149999499320984, 0.2606000006198883, 0.2011999934911728, 0.5720000267028809, -0.040699999779462814, 0.3278999924659729, 0.13850000500679016, -0.01730000041425228, -0.08959999680519104, -0.31949999928474426, 0.2721000015735626, -0.3167000114917755, 2.8406999111175537, 2.836400032043457, 2.8080999851226807, 2.8004000186920166, 2.7911999225616455, 2.7588999271392822, 2.756500005722046, 2.753700017929077, 2.7435998916625977, 2.737799882888794, 2.726900100708008, 2.7227001190185547, 2.7153000831604004, 2.704200029373169, 2.6974000930786133, 2.696000099182129, 2.6958999633789062, 2.6926000118255615, 2.6909000873565674, 2.690200090408325, 2.690000057220459, 2.688499927520752, 2.685499906539917, 2.6747000217437744, 2.6640000343322754, 2.660900115966797, 2.6589999198913574, 2.658799886703491, 2.656599998474121, 2.6538000106811523, 2.6431000232696533, 2.6510000228881836, 2.622999906539917, 2.547800064086914, 2.591900110244751, 2.591900110244751, 2.5344998836517334, 2.453000068664551, 2.562299966812134, 2.4702000617980957, 2.4804999828338623, 2.5541999340057373, 2.368000030517578, 2.3487000465393066, 2.4769999980926514, 2.418600082397461, 2.1510000228881836, 2.279900074005127, 2.3998000621795654, 1.8143999576568604, 2.144200086593628, 1.8174999952316284, 2.128000020980835, 1.8128999471664429, 1.8200000524520874, 1.8394999504089355, 1.6722999811172485, 1.8442000150680542, 1.34089994430542, 0.10189999639987946, 2.0808000564575195, 1.5649000406265259, 1.4284000396728516, 0.4047999978065491, 0.48190000653266907, 0.6026999950408936, 0.25099998712539673, 0.6844000220298767, 0.529699981212616, 0.4422999918460846, 1.1561000347137451, 0.0010999999940395355, 0.034299999475479126, 0.1738000065088272, 0.9186999797821045, 0.70169997215271, -0.2003999948501587, 2.9488000869750977, 2.910099983215332, 2.903700113296509, 2.891700029373169, 2.885499954223633, 2.8849000930786133, 2.876800060272217, 2.870699882507324, 2.869800090789795, 2.8687000274658203, 2.865799903869629, 2.8487000465393066, 2.848099946975708, 2.8454999923706055, 2.8433001041412354, 2.8424999713897705, 2.835200071334839, 2.83489990234375, 2.8333001136779785, 2.8324999809265137, 2.8278000354766846, 2.823499917984009, 2.8201000690460205, 2.819499969482422, 2.81820011138916, 2.817199945449829, 2.8162999153137207, 2.8125998973846436, 2.8101000785827637, 2.808300018310547, 2.8071999549865723, 2.7832999229431152, 2.7665998935699463, 2.6981000900268555, 2.7307000160217285, 2.6528000831604004, 2.68149995803833, 2.7028000354766846, 2.765000104904175, 2.5757999420166016, 2.658600091934204, 2.710599899291992, 2.381700038909912, 2.623800039291382, 2.5280001163482666, 2.2204999923706055, 2.217600107192993, 2.3124001026153564, 2.541599988937378, 2.202899932861328, 1.451200008392334, 1.8141000270843506, 1.795199990272522, 1.7797000408172607, 1.1017999649047852, 1.0561000108718872, 2.1591999530792236, 0.4081000089645386, 2.2383999824523926, 1.423799991607666, -0.24729999899864197, 1.2726000547409058, 0.5130000114440918, 0.6690999865531921, 0.20170000195503235, 0.3684000074863434, 0.8100000023841858, 0.8962000012397766, 0.17730000615119934, 0.6922000050544739, 0.8766999840736389, 0.15279999375343323, 0.9059000015258789, 0.04390000179409981, 0.376800000667572, 0.5232999920845032, 1.0858999490737915, -0.3434999883174896, 1.1029000282287598, 3.170300006866455, 3.1538000106811523, 3.126499891281128, 3.1212000846862793, 3.1010000705718994, 3.0998001098632812, 3.0957000255584717, 3.093600034713745, 3.083699941635132, 3.0829999446868896, 3.077199935913086, 3.0750999450683594, 3.0724000930786133, 3.067699909210205, 3.067699909210205, 3.0664000511169434, 3.0550999641418457, 3.0513999462127686, 3.037600040435791, 3.021699905395508, 3.020900011062622, 3.0048999786376953, 2.9925999641418457, 2.9909000396728516, 2.9886999130249023, 2.9885001182556152, 2.986799955368042, 2.984800100326538, 2.9797000885009766, 2.9746999740600586, 2.968400001525879, 2.9742000102996826, 2.8273000717163086, 2.8993000984191895, 2.7976999282836914, 2.9063000679016113, 2.927999973297119, 2.7481000423431396, 2.811800003051758, 2.7776999473571777, 2.676800012588501, 1.924399971961975, 0.3402000069618225, 1.670799970626831, 1.2625000476837158, 0.9922000169754028, 1.6921000480651855, 1.426200032234192, 1.2553999423980713, 0.6791999936103821, 1.8838000297546387, 0.5044999718666077, 1.0152000188827515, 0.6140999794006348, 1.3208999633789062, 0.7998999953269958, 1.0263999700546265, 0.2978000044822693, 0.4618000090122223, 0.04820000007748604, 0.2824999988079071, 0.5989000201225281, 0.5526000261306763, 0.1136000007390976, -0.1860000044107437, -0.11590000241994858, 0.7522000074386597, -0.219200000166893, -0.29820001125335693, -0.18289999663829803, 0.8601999878883362, -0.5202000141143799, 0.3346000015735626, 3.3141000270843506, 3.29259991645813, 3.2908999919891357, 3.2878000736236572, 3.2681000232696533, 3.2660999298095703, 3.259200096130371, 3.2553999423980713, 3.255199909210205, 3.2546000480651855, 3.2507998943328857, 3.2499001026153564, 3.2458999156951904, 3.2435998916625977, 3.2432000637054443, 3.239000082015991, 3.2383999824523926, 3.235300064086914, 3.234100103378296, 3.2332000732421875, 3.228600025177002, 3.227299928665161, 3.226900100708008, 3.2211999893188477, 3.220900058746338, 3.2053000926971436, 3.2014999389648438, 3.19950008392334, 3.19950008392334, 3.196000099182129, 3.1953999996185303, 3.187999963760376, 3.1417999267578125, 3.1528000831604004, 3.109299898147583, 3.0481998920440674, 3.116499900817871, 3.1110000610351562, 2.960900068283081, 2.7983999252319336, 3.053999900817871, 2.52020001411438, 2.753000020980835, 2.4902000427246094, 2.585599899291992, 2.1396000385284424, 2.3471999168395996, 2.2825000286102295, 0.8666999936103821, 2.604099988937378, 1.8171000480651855, 2.221299886703491, -0.28940001130104065, 0.3490999937057495, 0.20520000159740448, 0.3885999917984009, 0.16169999539852142, 0.20360000431537628, 0.013500000350177288, 1.0582000017166138, -0.056699998676776886, 3.405600070953369, 3.327399969100952, 3.3176000118255615, 3.3125, 3.305500030517578, 3.28629994392395, 3.285399913787842, 3.2741000652313232, 3.2623000144958496, 3.2614998817443848, 3.2599000930786133, 3.243799924850464, 3.2414000034332275, 3.2404000759124756, 3.2388999462127686, 3.23799991607666, 3.2335000038146973, 3.222399950027466, 3.220400094985962, 3.2202999591827393, 3.213200092315674, 3.2130000591278076, 3.2102999687194824, 3.2005999088287354, 3.1875, 3.1839001178741455, 3.1793999671936035, 3.178100109100342, 3.1675000190734863, 3.1656999588012695, 3.161900043487549, 3.1075000762939453, 3.0569000244140625, 3.0348000526428223, 3.0894999504089355, 2.8034000396728516, 2.9900999069213867, 3.0078999996185303, 2.921600103378296, 2.4600000381469727, 2.9003000259399414, 2.9156999588012695, 2.7125000953674316, 2.7200000286102295, 2.695199966430664, 2.6798999309539795, 2.3613998889923096, 1.767199993133545, 1.9722000360488892, 2.424799919128418, 1.7171000242233276, 2.40339994430542, 2.0794999599456787, 2.110300064086914, 0.9538000226020813, 1.9436999559402466, 0.5605000257492065, 1.8454999923706055, 2.1314001083374023, 1.6193000078201294, 0.8661999702453613, 0.3840000033378601, 1.5200999975204468, 0.611299991607666, 1.2755000591278076, 1.643399953842163, -0.6685000061988831, 0.10580000281333923, 0.5479000210762024, 0.3495999872684479, 0.5223000049591064, -0.1120000034570694, 0.12759999930858612, 0.2700999975204468, 0.004100000020116568, 0.11309999972581863, -0.11879999935626984, -0.13660000264644623, 0.10849999636411667, -0.2515000104904175, 3.5952000617980957, 3.5715999603271484, 3.5680999755859375, 3.552999973297119, 3.5527000427246094, 3.5524001121520996, 3.525099992752075, 3.5230000019073486, 3.519200086593628, 3.5171000957489014, 3.5136001110076904, 3.5123000144958496, 3.5120999813079834, 3.5035998821258545, 3.495300054550171, 3.490499973297119, 3.4860999584198, 3.4832000732421875, 3.4800000190734863, 3.4735000133514404, 3.4725000858306885, 3.4581000804901123, 3.4558000564575195, 3.4465999603271484, 3.441699981689453, 3.4316999912261963, 3.4296998977661133, 3.428800106048584, 3.427299976348877, 3.42330002784729, 3.418600082397461, 3.3066000938415527, 3.3785998821258545, 3.34089994430542, 3.310800075531006, 3.114799976348877, 3.028700113296509, 3.147900104522705, 2.710599899291992, 2.778899908065796, 2.9195001125335693, 2.378499984741211, 2.160900115966797, 2.733599901199341, 1.3609999418258667, 1.698799967765808, 1.8222999572753906, 0.5634999871253967, -0.5321000218391418, 1.506100058555603, 0.1615000069141388, 0.3375000059604645, 0.8513000011444092, 1.3723000288009644, 0.48539999127388, 1.9052000045776367, 0.6437000036239624, 0.35499998927116394, 0.4684999883174896, 0.05999999865889549, 0.9585999846458435, 0.45159998536109924, 0.7121000289916992, 3.6006999015808105, 3.59879994392395, 3.5975000858306885, 3.565999984741211, 3.5611000061035156, 3.551800012588501, 3.5517001152038574, 3.5495998859405518, 3.542799949645996, 3.5392000675201416, 3.5374999046325684, 3.5306999683380127, 3.526700019836426, 3.5251998901367188, 3.5213000774383545, 3.5211000442504883, 3.514699935913086, 3.511399984359741, 3.505000114440918, 3.5030999183654785, 3.500499963760376, 3.4807000160217285, 3.4672999382019043, 3.4574999809265137, 3.445199966430664, 3.4400999546051025, 3.4335999488830566, 3.432800054550171, 3.4321000576019287, 3.4284000396728516, 3.4228999614715576, 3.425800085067749, 3.4089999198913574, 3.3659000396728516, 3.3575000762939453, 3.380199909210205, 3.266200065612793, 3.0813000202178955, 3.135699987411499, 3.129499912261963, 2.553999900817871, 3.0118000507354736, 2.780900001525879, 2.2105000019073486, 3.0648999214172363, 2.6586999893188477, 2.4797000885009766, 2.8838000297546387, 1.1689000129699707, 2.9688000679016113, 2.3791000843048096, 3.004699945449829, 2.301100015640259, 2.181299924850464, 1.5404000282287598, 0.25270000100135803, 2.132699966430664, 1.2376999855041504, 0.4846000075340271, 1.108299970626831, -0.691100001335144, 0.7789000272750854, 0.08139999955892563, 1.507099986076355, 0.11599999666213989, 0.3569999933242798, 0.15029999613761902, 0.03319999948143959, 0.47200000286102295, -0.04190000146627426, 3.6059999465942383, 3.596299886703491, 3.5885000228881836, 3.587599992752075, 3.582200050354004, 3.579400062561035, 3.5662999153137207, 3.559299945831299, 3.5569000244140625, 3.5541999340057373, 3.5415000915527344, 3.5408999919891357, 3.536799907684326, 3.533799886703491, 3.519700050354004, 3.515199899673462, 3.5002999305725098, 3.4972000122070312, 3.4969000816345215, 3.4935998916625977, 3.489799976348877, 3.48799991607666, 3.4879000186920166, 3.4870998859405518, 3.4739999771118164, 3.4714999198913574, 3.470099925994873, 3.461699962615967, 3.457200050354004, 3.4549999237060547, 3.447000026702881, 3.4305999279022217, 3.41759991645813, 3.3584001064300537, 3.3266000747680664, 3.197700023651123, 3.22979998588562, 3.2293999195098877, 3.0536999702453613, 3.232800006866455, 3.2695000171661377, 2.9293999671936035, 2.6379001140594482, 2.904400110244751, 2.427799940109253, 3.115000009536743, 2.6254000663757324, 2.962399959564209, 2.2035000324249268, 2.9367001056671143, 1.8351999521255493, 0.9555000066757202, 1.4549000263214111, 1.3905999660491943, 1.3489999771118164, 0.9314000010490417, 2.170099973678589, -0.8583999872207642, -0.0032999999821186066, 1.7203999757766724, 0.9578999876976013, -0.19470000267028809, 0.5313000082969666, -0.025599999353289604, -0.1607999950647354, 0.2809999883174896, 3.6180999279022217, 3.6038999557495117, 3.587899923324585, 3.5715999603271484, 3.550600051879883, 3.529099941253662, 3.524899959564209, 3.5129001140594482, 3.4927000999450684, 3.4846999645233154, 3.4593000411987305, 3.4323999881744385, 3.4265999794006348, 3.426100015640259, 3.4245998859405518, 3.4242000579833984, 3.4221999645233154, 3.4217000007629395, 3.4184999465942383, 3.4173998832702637, 3.414400100708008, 3.3987998962402344, 3.397700071334839, 3.3859000205993652, 3.3833999633789062, 3.3810999393463135, 3.3801000118255615, 3.3798999786376953, 3.378499984741211, 3.3773999214172363, 3.3733999729156494, 3.256200075149536, 3.2909998893737793, 3.224900007247925, 3.286799907684326, 3.150700092315674, 3.16759991645813, 2.913300037384033, 2.919800043106079, 3.0801000595092773, 3.2269999980926514, 3.273900032043457, 2.8329999446868896, 2.977799892425537, 2.584700107574463, 2.4660000801086426, 2.6152000427246094, 2.6939001083374023, 1.9675999879837036, 1.655400037765503, 1.0981999635696411, 2.2112998962402344, 0.7070000171661377, 1.6203999519348145, 0.4066999852657318, 1.4150999784469604, -0.3686000108718872, 2.3285999298095703, 0.29019999504089355, 0.6554999947547913, 0.9851999878883362, 1.4106999635696411, 0.9218000173568726, 0.27250000834465027, 0.017999999225139618, 0.4041000008583069, 0.616599977016449, 0.8711000084877014, 0.6535000205039978, 3.698199987411499, 3.6893999576568604, 3.6540000438690186, 3.648699998855591, 3.6458001136779785, 3.64520001411438, 3.6034998893737793, 3.5938000679016113, 3.5876998901367188, 3.5801000595092773, 3.5776000022888184, 3.56850004196167, 3.563199996948242, 3.55430006980896, 3.5457000732421875, 3.537899971008301, 3.5376999378204346, 3.534600019454956, 3.523200035095215, 3.5216000080108643, 3.52020001411438, 3.5197999477386475, 3.5183000564575195, 3.5123000144958496, 3.509399890899658, 3.5006000995635986, 3.5004000663757324, 3.494800090789795, 3.4893999099731445, 3.4870998859405518, 3.4688000679016113, 3.4453999996185303, 3.2534000873565674, 3.3835999965667725, 3.234299898147583, 3.461899995803833, 3.0810000896453857, 3.4263999462127686, 3.174499988555908, 2.958199977874756, 3.19950008392334, 3.296799898147583, 2.8420000076293945, 2.944200038909912, 3.068700075149536, 2.3838000297546387, 3.098599910736084, 2.925800085067749, 2.06030011177063, 1.6002000570297241, 1.8106000423431396, 1.4988000392913818, 2.2953999042510986, 2.6071999073028564, 1.0852999687194824, 0.40059998631477356, 1.245300054550171, 1.9156999588012695, 1.5788999795913696, 1.135599970817566, 0.5174000263214111, -0.710099995136261, 1.4503999948501587, 0.05829999968409538, -0.1387999951839447, -0.1664000004529953, -0.13249999284744263, 0.6349999904632568, -0.49959999322891235, 4.070499897003174, 4.056099891662598, 4.040200233459473, 4.028200149536133, 3.9946000576019287, 3.9763998985290527, 3.94350004196167, 3.927299976348877, 3.9149999618530273, 3.9098000526428223, 3.90120005607605, 3.877700090408325, 3.8666999340057373, 3.8645999431610107, 3.8513998985290527, 3.8482000827789307, 3.8359999656677246, 3.8227999210357666, 3.8197999000549316, 3.8143999576568604, 3.8108999729156494, 3.7925000190734863, 3.7808001041412354, 3.776900053024292, 3.7767999172210693, 3.766700029373169, 3.7664999961853027, 3.7629001140594482, 3.7625999450683594, 3.7620999813079834, 3.7074999809265137, 3.725100040435791, 3.5848000049591064, 3.7119998931884766, 3.740000009536743, 3.3582000732421875, 3.619999885559082, 3.311500072479248, 3.169800043106079, 3.332900047302246, 2.8097000122070312, 2.5569000244140625, 3.4017999172210693, 2.74429988861084, 2.868799924850464, 3.2448999881744385, 2.799499988555908, 2.4964001178741455, 2.7444000244140625, 2.2190001010894775, 2.3445000648498535, 2.656599998474121, 2.8824000358581543, 2.348099946975708, 2.345599889755249, 1.7776000499725342, 2.197700023651123, 1.279099941253662, 1.3502999544143677, 2.2376999855041504, 2.3849000930786133, 2.360100030899048, -0.3709000051021576, 1.270799994468689, 0.8399999737739563, 0.8306000232696533, 0.8583999872207642, 0.15049999952316284, 0.4163999855518341, 0.18850000202655792, 0.1754000037908554, 1.2836999893188477, 1.0571999549865723, 0.6082000136375427], \"logprob\": [30.0, 29.0, 28.0, 27.0, 26.0, 25.0, 24.0, 23.0, 22.0, 21.0, 20.0, 19.0, 18.0, 17.0, 16.0, 15.0, 14.0, 13.0, 12.0, 11.0, 10.0, 9.0, 8.0, 7.0, 6.0, 5.0, 4.0, 3.0, 2.0, 1.0, -6.080399990081787, -6.236999988555908, -5.7906999588012695, -6.495999813079834, -7.340400218963623, -6.091400146484375, -6.123899936676025, -7.416600227355957, -6.706399917602539, -7.5605998039245605, -6.447500228881836, -7.946300029754639, -7.4029998779296875, -7.47130012512207, -7.313600063323975, -8.015299797058105, -8.021599769592285, -8.376099586486816, -8.297800064086914, -8.377300262451172, -8.090200424194336, -6.993199825286865, -8.576199531555176, -8.481200218200684, -8.483200073242188, -8.483699798583984, -5.422800064086914, -8.581000328063965, -6.506800174713135, -8.321000099182129, -6.58050012588501, -6.346099853515625, -6.371600151062012, -7.666500091552734, -7.420100212097168, -5.316800117492676, -6.569300174713135, -4.417799949645996, -6.189300060272217, -6.954699993133545, -6.179699897766113, -4.398799896240234, -5.374300003051758, -6.317299842834473, -4.954800128936768, -4.805300235748291, -5.806300163269043, -5.136300086975098, -4.748600006103516, -5.31820011138916, -5.456999778747559, -5.809000015258789, -4.618199825286865, -5.171899795532227, -4.676700115203857, -4.031400203704834, -5.538899898529053, -5.685699939727783, -5.383299827575684, -5.258699893951416, -5.672599792480469, -5.808000087738037, -5.389599800109863, -5.4274001121521, -5.5625, -5.774099826812744, -5.891200065612793, -5.761899948120117, -5.767099857330322, -5.785099983215332, -5.178899765014648, -5.477099895477295, -5.840000152587891, -5.906599998474121, -6.310800075531006, -6.432199954986572, -6.284800052642822, -6.386899948120117, -7.488900184631348, -6.968500137329102, -7.636600017547607, -6.438000202178955, -7.404300212860107, -7.755499839782715, -7.817999839782715, -6.95389986038208, -7.162300109863281, -7.462500095367432, -7.466800212860107, -7.048500061035156, -8.041299819946289, -8.210399627685547, -7.968400001525879, -7.901000022888184, -8.047300338745117, -7.437300205230713, -4.9405999183654785, -4.928400039672852, -8.054800033569336, -7.321199893951416, -5.80210018157959, -6.1057000160217285, -6.352399826049805, -6.891900062561035, -7.25570011138916, -6.628399848937988, -5.71120023727417, -5.638299942016602, -6.975100040435791, -5.678800106048584, -6.661399841308594, -6.555799961090088, -6.7256999015808105, -6.379700183868408, -6.00540018081665, -6.188600063323975, -6.379499912261963, -5.417699813842773, -5.076200008392334, -5.553999900817871, -4.139699935913086, -5.627999782562256, -5.845200061798096, -5.891600131988525, -5.355599880218506, -5.276000022888184, -5.8719000816345215, -5.306099891662598, -5.676000118255615, -5.4583001136779785, -5.4471001625061035, -5.6072998046875, -5.566299915313721, -5.746200084686279, -5.63730001449585, -5.696400165557861, -5.738800048828125, -5.782100200653076, -5.816100120544434, -6.257800102233887, -6.547399997711182, -6.4741997718811035, -6.549900054931641, -6.780799865722656, -6.633200168609619, -6.6072001457214355, -5.734399795532227, -5.988100051879883, -7.089700222015381, -6.729800224304199, -7.283599853515625, -7.338500022888184, -7.342700004577637, -7.24399995803833, -7.247300148010254, -6.987800121307373, -7.410299777984619, -7.535399913787842, -7.358799934387207, -6.017000198364258, -7.308300018310547, -7.5447998046875, -4.572999954223633, -5.953999996185303, -6.792200088500977, -7.77869987487793, -7.625199794769287, -7.698999881744385, -6.549499988555908, -5.62470006942749, -2.8601999282836914, -3.2472000122070312, -5.336400032043457, -5.420300006866455, -6.136199951171875, -6.143799781799316, -6.848499774932861, -4.978799819946289, -5.122099876403809, -5.084099769592285, -6.309500217437744, -6.167300224304199, -5.667799949645996, -6.038000106811523, -5.52400016784668, -5.702099800109863, -5.3730998039245605, -5.673299789428711, -5.1427001953125, -5.7403998374938965, -5.679800033569336, -5.2093000411987305, -5.579599857330322, -5.048099994659424, -5.801400184631348, -5.755300045013428, -5.214700222015381, -5.275000095367432, -5.454599857330322, -5.418900012969971, -5.333199977874756, -5.575699806213379, -5.402900218963623, -5.559899806976318, -5.621699810028076, -5.678400039672852, -5.678400039672852, -6.620699882507324, -6.568900108337402, -6.812099933624268, -7.004899978637695, -7.183899879455566, -7.481599807739258, -7.546999931335449, -7.968599796295166, -6.90500020980835, -6.381100177764893, -7.878799915313721, -7.991499900817871, -7.000500202178955, -8.347999572753906, -8.217499732971191, -7.462500095367432, -8.35319995880127, -7.079100131988525, -5.211900234222412, -6.973199844360352, -7.47160005569458, -7.679100036621094, -8.37720012664795, -8.381099700927734, -7.840799808502197, -7.624800205230713, -8.386300086975098, -7.451499938964844, -7.695300102233887, -6.389900207519531, -5.079699993133545, -7.084099769592285, -6.763299942016602, -7.63129997253418, -7.283599853515625, -6.13730001449585, -6.275300025939941, -6.399400234222412, -6.4695000648498535, -7.115099906921387, -6.82289981842041, -5.839300155639648, -5.997300148010254, -6.233799934387207, -6.189899921417236, -6.500999927520752, -5.937099933624268, -5.796800136566162, -5.8572998046875, -6.511499881744385, -6.707600116729736, -5.639999866485596, -5.648499965667725, -4.869999885559082, -5.701000213623047, -6.145699977874756, -5.932400226593018, -6.133699893951416, -4.621699810028076, -5.44950008392334, -6.0594000816345215, -5.431099891662598, -5.305699825286865, -5.367800235748291, -5.468100070953369, -5.5030999183654785, -5.8109002113342285, -5.530600070953369, -5.4980998039245605, -5.49429988861084, -5.764200210571289, -5.828199863433838, -5.710899829864502, -5.73960018157959, -5.811699867248535, -5.886199951171875, -5.880499839782715, -5.91480016708374, -6.905900001525879, -7.647299766540527, -6.405200004577637, -6.843400001525879, -7.208199977874756, -5.362299919128418, -7.429800033569336, -7.373799800872803, -8.184300422668457, -7.567699909210205, -7.970200061798096, -7.713799953460693, -7.710899829864502, -7.974800109863281, -8.201499938964844, -8.208000183105469, -8.218099594116211, -8.508399963378906, -8.510100364685059, -8.511500358581543, -8.225700378417969, -8.223099708557129, -7.049600124359131, -8.368499755859375, -8.519700050354004, -8.37279987335205, -7.758299827575684, -8.37339973449707, -8.239100456237793, -6.7368998527526855, -7.7652997970581055, -6.854100227355957, -7.254700183868408, -6.805699825286865, -7.782299995422363, -7.283199787139893, -4.393599987030029, -6.403299808502197, -7.325900077819824, -6.778600215911865, -6.6880998611450195, -5.7631001472473145, -4.874800205230713, -6.650400161743164, -6.893400192260742, -5.04040002822876, -6.065499782562256, -5.531300067901611, -6.61299991607666, -6.585999965667725, -5.940400123596191, -4.432199954986572, -6.033899784088135, -6.247099876403809, -5.020100116729736, -5.0528998374938965, -6.415999889373779, -6.271500110626221, -6.1682000160217285, -4.873499870300293, -5.191299915313721, -5.331099987030029, -5.006100177764893, -5.565999984741211, -5.2382001876831055, -5.7571001052856445, -6.040299892425537, -5.721700191497803, -4.811500072479248, -5.788599967956543, -5.9303998947143555, -5.656099796295166, -5.396999835968018, -5.517899990081787, -5.534999847412109, -5.633200168609619, -5.6493000984191895, -5.645100116729736, -5.671800136566162, -5.813600063323975, -5.7779998779296875, -5.7617998123168945, -6.405300140380859, -5.413000106811523, -5.314199924468994, -6.547999858856201, -5.780399799346924, -6.251699924468994, -6.884200096130371, -7.101600170135498, -6.341800212860107, -7.314799785614014, -6.321300029754639, -4.93120002746582, -6.305099964141846, -7.328700065612793, -7.60230016708374, -7.278299808502197, -6.508600234985352, -5.399400234222412, -7.464900016784668, -5.110599994659424, -5.919300079345703, -7.287300109863281, -7.691500186920166, -7.6975998878479, -7.620100021362305, -7.8821001052856445, -7.883999824523926, -7.790800094604492, -8.000699996948242, -7.900199890136719, -6.429200172424316, -5.881700038909912, -4.779699802398682, -5.619900226593018, -6.297599792480469, -5.204500198364258, -6.445300102233887, -5.589000225067139, -6.961400032043457, -5.53410005569458, -6.825200080871582, -5.066800117492676, -6.430699825286865, -5.994500160217285, -5.845699787139893, -5.599100112915039, -6.077300071716309, -5.092400074005127, -6.1757001876831055, -5.643499851226807, -5.535999774932861, -4.7667999267578125, -4.957799911499023, -5.550000190734863, -5.236000061035156, -5.956099987030029, -5.777200222015381, -4.728799819946289, -5.28980016708374, -5.321700096130371, -5.720699787139893, -5.51140022277832, -5.49459981918335, -5.548500061035156, -5.766600131988525, -5.820400238037109, -6.725599765777588, -7.119699954986572, -7.230899810791016, -7.234600067138672, -7.806300163269043, -7.911200046539307, -7.8155999183654785, -6.320099830627441, -7.51609992980957, -7.922299861907959, -7.92519998550415, -4.546000003814697, -8.162599563598633, -8.167200088500977, -8.17240047454834, -8.307600021362305, -7.479499816894531, -7.952000141143799, -8.314900398254395, -8.31879997253418, -7.271599769592285, -6.798399925231934, -8.323800086975098, -8.326199531555176, -7.638400077819824, -7.634799957275391, -8.330699920654297, -7.719099998474121, -8.199299812316895, -8.491700172424316, -5.604300022125244, -4.437399864196777, -7.290900230407715, -3.8447999954223633, -4.623000144958496, -5.943299770355225, -7.199699878692627, -6.941500186920166, -4.079599857330322, -4.882500171661377, -6.534800052642822, -5.846199989318848, -6.136199951171875, -6.553699970245361, -7.209499835968018, -5.867400169372559, -6.652500152587891, -6.623000144958496, -7.230000019073486, -6.688499927520752, -5.633699893951416, -6.445799827575684, -5.865300178527832, -6.271200180053711, -5.9045000076293945, -6.509099960327148, -4.892199993133545, -4.321000099182129, -5.678299903869629, -5.575200080871582, -6.367800235748291, -5.397900104522705, -5.962399959564209, -5.738699913024902, -5.863699913024902, -5.788099765777588, -5.618500232696533, -5.595300197601318, -5.65749979019165, -5.733799934387207, -5.987800121307373, -5.776400089263916, -5.804900169372559, -5.946100234985352, -5.945400238037109, -6.713799953460693, -6.87060022354126, -5.955999851226807, -7.127999782562256, -7.3703999519348145, -7.139500141143799, -7.7846999168396, -6.683000087738037, -7.004300117492676, -7.706699848175049, -6.398399829864502, -7.274799823760986, -6.885200023651123, -7.811299800872803, -6.932300090789795, -7.922299861907959, -7.553999900817871, -6.651899814605713, -7.7220001220703125, -7.1732001304626465, -6.986199855804443, -7.820499897003174, -7.240799903869629, -7.357100009918213, -6.9944000244140625, -8.054400444030762, -7.934999942779541, -8.353799819946289, -7.580100059509277, -7.8403000831604, -5.237299919128418, -5.576600074768066, -5.335899829864502, -4.367499828338623, -6.588600158691406, -5.711400032043457, -7.078499794006348, -6.786300182342529, -6.198299884796143, -5.945499897003174, -6.211900234222412, -5.978400230407715, -5.160999774932861, -4.474599838256836, -5.761199951171875, -6.072299957275391, -6.228000164031982, -6.473100185394287, -6.078499794006348, -5.116799831390381, -6.061999797821045, -5.63070011138916, -5.2708001136779785, -4.656499862670898, -5.798799991607666, -5.406300067901611, -5.236000061035156, -4.273099899291992, -5.18149995803833, -5.133200168609619, -5.575399875640869, -5.5528998374938965, -5.492599964141846, -5.471099853515625, -5.356200218200684, -5.3333001136779785, -5.298600196838379, -5.63700008392334, -5.812300205230713, -5.513999938964844, -5.542300224304199, -5.7058000564575195, -5.722899913787842, -5.788700103759766, -7.3850998878479, -7.460100173950195, -6.740799903869629, -7.7256999015808105, -6.946700096130371, -6.574900150299072, -7.738699913024902, -7.496099948883057, -7.055300235748291, -7.9421000480651855, -7.9421000480651855, -7.847899913787842, -7.848499774932861, -7.954899787902832, -7.953000068664551, -6.861100196838379, -8.080499649047852, -6.576900005340576, -7.9644999504089355, -7.771500110626221, -8.089799880981445, -8.091899871826172, -8.224900245666504, -7.973899841308594, -7.4008002281188965, -5.440199851989746, -8.235199928283691, -7.350500106811523, -8.245499610900879, -8.401700019836426, -7.895999908447266, -7.640900135040283, -7.119999885559082, -6.666200160980225, -6.641300201416016, -6.619900226593018, -6.687099933624268, -7.267099857330322, -6.640399932861328, -5.961299896240234, -5.956699848175049, -6.802000045776367, -5.192399978637695, -5.973100185394287, -6.505000114440918, -7.400700092315674, -6.066400051116943, -6.566500186920166, -6.163700103759766, -6.599800109863281, -6.137499809265137, -6.491600036621094, -5.679100036621094, -4.882500171661377, -4.406099796295166, -6.550300121307373, -6.064700126647949, -5.951700210571289, -5.793600082397461, -5.570000171661377, -5.398499965667725, -6.249100208282471, -5.86269998550415, -5.476099967956543, -5.676700115203857, -6.121699810028076, -6.0395002365112305, -5.678400039672852, -5.888700008392334, -5.832200050354004, -5.817800045013428, -5.818399906158447, -5.976900100708008, -5.863699913024902, -5.968200206756592, -5.926799774169922, -5.920599937438965, -5.923299789428711, -5.9303998947143555, -6.016600131988525, -6.014800071716309, -5.917200088500977, -6.8231000900268555, -6.592599868774414, -7.2652997970581055, -7.409999847412109, -7.780200004577637, -7.313499927520752, -6.1528000831604, -7.901100158691406, -8.025300025939941, -6.743899822235107, -7.47790002822876, -7.416800022125244, -8.347900390625, -8.355299949645996, -5.882900238037109, -7.751100063323975, -8.205699920654297, -7.959199905395508, -8.54419994354248, -8.544300079345703, -8.212900161743164, -8.367400169372559, -7.969399929046631, -8.570599555969238, -8.575300216674805, -8.576700210571289, -8.109199523925781, -6.603799819946289, -7.787399768829346, -6.19789981842041, -7.245200157165527, -5.700099945068359, -4.580100059509277, -6.753799915313721, -6.854000091552734, -6.008200168609619, -5.437699794769287, -6.860199928283691, -5.951399803161621, -6.13700008392334, -6.902400016784668, -5.514800071716309, -5.428199768066406, -6.375899791717529, -6.243500232696533, -5.229599952697754, -6.119200229644775, -6.52209997177124, -4.887199878692627, -5.972899913787842, -5.173999786376953, -6.0482001304626465, -5.545000076293945, -5.690299987792969, -5.731200218200684, -5.564700126647949, -5.896699905395508, -5.366499900817871, -4.400599956512451, -6.169099807739258, -5.759699821472168, -5.809700012207031, -5.293300151824951, -5.341100215911865, -5.4756999015808105, -5.360000133514404, -5.534800052642822, -5.484000205993652, -5.472300052642822, -5.745699882507324, -5.509200096130371, -5.656700134277344, -5.729499816894531, -5.818699836730957, -5.831900119781494, -5.825900077819824, -5.609499931335449, -6.9959001541137695, -4.920400142669678, -6.118899822235107, -6.720399856567383, -7.3769001960754395, -7.079800128936768, -7.632299900054932, -7.1407999992370605, -6.419400215148926, -7.637700080871582, -7.854599952697754, -7.653299808502197, -7.656799793243408, -7.65939998626709, -7.062699794769287, -7.867300033569336, -7.985400199890137, -7.177499771118164, -7.172399997711182, -7.770400047302246, -8.130900382995605, -7.882900238037109, -7.882299900054932, -7.885000228881836, -7.778900146484375, -7.885900020599365, -7.7846999168396, -8.143699645996094, -7.892399787902832, -7.790999889373779, -7.230999946594238, -6.872600078582764, -6.152599811553955, -6.698299884796143, -5.845699787139893, -6.470699787139893, -6.759200096130371, -7.359000205993652, -6.440199851989746, -6.969900131225586, -7.29010009765625, -6.13640022277832, -7.0971999168396, -6.804200172424316, -6.036799907684326, -6.029399871826172, -6.360400199890137, -6.923399925231934, -6.282299995422363, -5.148399829864502, -5.805500030517578, -5.9816999435424805, -5.978499889373779, -5.194300174713135, -5.1631999015808105, -6.494200229644775, -5.127600193023682, -6.626200199127197, -6.000400066375732, -4.749800205230713, -5.917200088500977, -5.3902997970581055, -5.586699962615967, -5.308700084686279, -5.465400218963623, -5.738900184631348, -5.835899829864502, -5.5208001136779785, -5.781799793243408, -5.874199867248535, -5.670199871063232, -5.933199882507324, -5.704500198364258, -5.841300010681152, -5.9116997718811035, -6.017600059509277, -5.954500198364258, -6.028200149536133, -6.498300075531006, -6.378600120544434, -6.873000144958496, -7.1666998863220215, -7.057400226593018, -7.5904998779296875, -7.498700141906738, -7.259799957275391, -7.343999862670898, -6.862100124359131, -7.833600044250488, -7.717599868774414, -7.521399974822998, -7.029799938201904, -7.842199802398682, -7.841899871826172, -7.854000091552734, -7.532700061798096, -7.170000076293945, -7.4770002365112305, -8.019399642944336, -8.185700416564941, -8.197600364685059, -7.4197998046875, -7.283699989318848, -8.046099662780762, -8.047900199890137, -8.047300338745117, -8.207099914550781, -8.394200325012207, -5.837200164794922, -7.058800220489502, -5.703199863433838, -7.354400157928467, -6.549499988555908, -7.420899868011475, -7.65339994430542, -6.825900077819824, -7.198999881744385, -7.320799827575684, -7.141499996185303, -6.2195000648498535, -4.162300109863281, -5.948800086975098, -5.48960018157959, -5.2270002365112305, -6.103300094604492, -5.916800022125244, -5.842899799346924, -5.334400177001953, -6.4695000648498535, -5.3292999267578125, -5.78980016708374, -5.682000160217285, -6.190999984741211, -5.855199813842773, -6.04580020904541, -5.620100021362305, -5.794099807739258, -5.649899959564209, -5.795899868011475, -5.9730000495910645, -5.9679999351501465, -5.789599895477295, -5.696300029754639, -5.726900100708008, -6.094799995422363, -5.910099983215332, -5.923699855804443, -6.005899906158447, -6.148799896240234, -6.056000232696533, -6.139400005340576, -4.703199863433838, -5.8429999351501465, -5.11899995803833, -5.825500011444092, -6.292200088500977, -5.651299953460693, -6.3003997802734375, -6.012400150299072, -6.997399806976318, -7.308899879455566, -7.3125, -6.937399864196777, -5.256199836730957, -6.5843000411987305, -6.186500072479248, -5.8902997970581055, -7.417900085449219, -6.466700077056885, -6.014500141143799, -7.423299789428711, -7.331999778747559, -7.334000110626221, -6.295100212097168, -6.6946001052856445, -6.647500038146973, -7.6722002029418945, -7.354100227355957, -7.454100131988525, -7.453700065612793, -7.1956000328063965, -6.6768999099731445, -6.429500102996826, -5.727799892425537, -6.1890997886657715, -5.627500057220459, -4.832900047302246, -6.009799957275391, -6.303899765014648, -5.354700088500977, -4.380899906158447, -6.5295000076293945, -5.127299785614014, -5.843999862670898, -5.364500045776367, -5.678500175476074, -5.13670015335083, -5.557700157165527, -5.552599906921387, -4.447299957275391, -5.9633002281188965, -5.55019998550415, -5.799200057983398, -4.791900157928467, -5.186600208282471, -5.305200099945068, -5.526000022888184, -5.586699962615967, -5.630099773406982, -5.611999988555908, -5.813199996948242, -5.747600078582764, -6.474999904632568, -7.516900062561035, -6.8958001136779785, -7.527900218963623, -7.21589994430542, -6.638999938964844, -7.559199810028076, -7.570799827575684, -7.099699974060059, -7.866199970245361, -4.95959997177124, -7.882199764251709, -8.068900108337402, -7.729800224304199, -7.886499881744385, -8.072600364685059, -6.806700229644775, -6.981900215148926, -7.906700134277344, -7.125500202178955, -8.095499992370605, -7.919400215148926, -7.921899795532227, -7.9217000007629395, -6.1072998046875, -7.792500019073486, -8.350199699401855, -8.130000114440918, -5.198699951171875, -8.14799976348877, -7.268700122833252, -6.426499843597412, -5.4334001541137695, -6.057600021362305, -7.006899833679199, -5.678299903869629, -6.916600227355957, -7.197700023651123, -6.948500156402588, -5.5493998527526855, -6.912799835205078, -6.985199928283691, -6.436500072479248, -6.537199974060059, -6.486999988555908, -6.466800212860107, -5.764900207519531, -4.936100006103516, -5.316199779510498, -6.156799793243408, -5.203499794006348, -6.28879976272583, -5.886899948120117, -6.132599830627441, -5.2642998695373535, -6.080900192260742, -4.975299835205078, -6.012800216674805, -6.302199840545654, -5.949100017547607, -5.599299907684326, -5.3643999099731445, -5.986299991607666, -5.582499980926514, -5.914400100708008, -6.061200141906738, -5.17110013961792, -5.529900074005127, -5.7546000480651855, -5.71560001373291, -5.76639986038208, -5.622399806976318, -5.695400238037109, -5.743599891662598, -5.693999767303467, -5.746099948883057, -5.74429988861084, -5.747600078582764, -5.7947001457214355, -5.8668999671936035, -5.085299968719482, -4.622099876403809, -4.652699947357178, -5.425600051879883, -5.013599872589111, -6.269400119781494, -6.250899791717529, -6.554200172424316, -6.447400093078613, -5.993199825286865, -6.507199764251709, -6.453999996185303, -6.759399890899658, -6.110499858856201, -6.6427001953125, -6.934599876403809, -6.652500152587891, -6.059899806976318, -6.945199966430664, -6.104899883270264, -6.297299861907959, -7.253600120544434, -7.151400089263916, -7.159999847412109, -7.520899772644043, -7.280399799346924, -6.26170015335083, -7.6875, -6.190400123596191, -7.28849983215332, -6.19350004196167, -5.438600063323975, -6.750999927520752, -6.515999794006348, -6.289700031280518, -5.674900054931641, -5.4446001052856445, -5.9679999351501465, -5.372900009155273, -5.5457000732421875, -5.926499843597412, -5.778299808502197, -5.616700172424316, -6.077600002288818, -5.159599781036377, -5.399499893188477, -5.502299785614014, -5.1346001625061035, -5.034599781036377, -5.711100101470947, -5.348899841308594, -5.410900115966797, -5.583700180053711, -5.717400074005127, -5.528200149536133, -5.861400127410889, -5.612100124359131, -5.559599876403809, -5.609899997711182, -5.63100004196167, -5.778800010681152, -5.766499996185303, -5.821499824523926, -5.21619987487793, -6.269499778747559, -5.821199893951416, -6.351900100708008, -6.7855000495910645, -6.723400115966797, -6.4720001220703125, -6.473899841308594, -6.663000106811523, -6.736299991607666, -4.996699810028076, -6.7444000244140625, -7.186699867248535, -6.819399833679199, -6.611800193786621, -6.907899856567383, -7.316299915313721, -5.781300067901611, -7.207900047302246, -6.518599987030029, -6.514200210571289, -7.637700080871582, -7.650000095367432, -6.97189998626709, -3.900399923324585, -7.859899997711182, -6.99560022354126, -7.682400226593018, -7.684899806976318, -7.870100021362305, -6.011199951171875, -6.914400100708008, -6.675099849700928, -6.536099910736084, -6.523799896240234, -6.887899875640869, -6.281799793243408, -5.502099990844727, -5.818399906158447, -5.886600017547607, -4.021599769592285, -5.666100025177002, -5.4359002113342285, -4.589099884033203, -6.214600086212158, -5.685400009155273, -5.465099811553955, -6.124499797821045, -4.663000106811523, -6.304100036621094, -5.96999979019165, -6.341000080108643, -5.976900100708008, -5.952700138092041, -5.684000015258789, -5.257599830627441, -6.039400100708008, -5.759799957275391, -5.534999847412109, -5.730800151824951, -5.193600177764893, -5.635200023651123, -5.454400062561035, -5.856800079345703, -5.574900150299072, -5.656700134277344, -5.683499813079834, -5.715199947357178, -5.78380012512207, -5.739999771118164, -5.416299819946289, -6.07889986038208, -6.821100234985352, -6.474100112915039, -6.6732001304626465, -6.482100009918213, -6.2845001220703125, -7.031700134277344, -5.55109977722168, -6.567599773406982, -6.5208001136779785, -6.5802001953125, -6.414899826049805, -6.651800155639648, -5.276000022888184, -5.57420015335083, -7.1971001625061035, -7.317399978637695, -6.175000190734863, -7.4542999267578125, -7.611700057983398, -7.460299968719482, -6.459499835968018, -6.919300079345703, -7.809899806976318, -5.7804999351501465, -7.122000217437744, -7.822400093078613, -6.805200099945068, -6.181700229644775, -5.8628997802734375, -5.798099994659424, -6.25540018081665, -5.764699935913086, -5.489699840545654, -5.178500175476074, -5.576200008392334, -5.923799991607666, -5.1890997886657715, -6.063799858093262, -6.2947001457214355, -5.505199909210205, -5.059599876403809, -5.577400207519531, -5.05019998550415, -6.010900020599365, -5.468400001525879, -5.927599906921387, -5.422900199890137, -6.0690999031066895, -5.398200035095215, -4.876500129699707, -5.5731000900268555, -5.555799961090088, -5.640900135040283, -5.602200031280518, -5.886600017547607, -5.361000061035156, -5.539000034332275, -5.8180999755859375, -5.7820000648498535, -5.704999923706055, -5.764699935913086, -5.77400016784668, -5.7718000411987305, -5.784200191497803, -6.798099994659424, -6.89109992980957, -6.617099761962891, -6.696700096130371, -5.663000106811523, -7.1381001472473145, -6.678899765014648, -7.377600193023682, -7.280300140380859, -6.7778000831604, -6.80049991607666, -8.145700454711914, -8.150899887084961, -8.151300430297852, -6.831900119781494, -7.9303998947143555, -7.596199989318848, -7.9278998374938965, -7.935299873352051, -7.466599941253662, -7.9390997886657715, -5.382999897003174, -8.178299903869629, -5.567200183868408, -8.191100120544434, -7.786600112915039, -7.782299995422363, -6.59089994430542, -6.491000175476074, -8.1943998336792, -7.975200176239014, -5.510200023651123, -6.283100128173828, -5.1280999183654785, -6.336400032043457, -5.214700222015381, -6.222599983215332, -5.547800064086914, -5.601900100708008, -6.5295000076293945, -7.23769998550415, -7.478400230407715, -6.229100227355957, -6.655700206756592, -5.636199951171875, -5.332399845123291, -5.934999942779541, -6.112599849700928, -5.300099849700928, -5.067399978637695, -4.537399768829346, -5.86929988861084, -4.918600082397461, -5.7368998527526855, -5.103600025177002, -5.657199859619141, -4.871099948883057, -6.161300182342529, -5.325200080871582, -5.538300037384033, -5.669899940490723, -5.869699954986572, -5.782700061798096, -5.642099857330322, -5.592899799346924, -5.701099872589111, -5.751999855041504, -5.808599948883057, -5.867099761962891, -5.999100208282471, -4.4980998039245605, -6.553400039672852, -6.43179988861084, -6.784599781036377, -6.63100004196167, -5.67140007019043, -6.179599761962891, -5.298500061035156, -6.330100059509277, -6.50439977645874, -7.038899898529053, -5.156199932098389, -7.564799785614014, -7.168300151824951, -7.58050012588501, -7.176000118255615, -7.585400104522705, -6.986800193786621, -7.779699802398682, -7.781199932098389, -7.085599899291992, -7.785200119018555, -7.44890022277832, -7.606800079345703, -7.800300121307373, -7.620100021362305, -7.804599761962891, -7.223499774932861, -7.6315999031066895, -6.947000026702881, -6.820300102233887, -4.104499816894531, -6.531099796295166, -5.346199989318848, -7.360000133514404, -5.115499973297119, -7.171000003814697, -5.981900215148926, -5.033999919891357, -6.272600173950195, -6.648099899291992, -5.137800216674805, -5.573500156402588, -6.018099784851074, -5.126500129699707, -6.416399955749512, -6.278900146484375, -5.542399883270264, -5.1072001457214355, -5.456099987030029, -5.244800090789795, -5.938499927520752, -6.187399864196777, -5.349699974060059, -5.1097002029418945, -5.542600154876709, -5.8520002365112305, -5.709499835968018, -5.595300197601318, -5.397299766540527, -5.212600231170654, -5.825900077819824, -5.639800071716309, -5.74970006942749, -5.80210018157959, -5.823400020599365, -5.85890007019043, -5.813700199127197, -6.113100051879883, -3.7102999687194824, -6.017600059509277, -6.664100170135498, -6.59250020980835, -7.120200157165527, -7.153900146484375, -7.3531999588012695, -7.363100051879883, -7.368199825286865, -7.197700023651123, -7.624100208282471, -6.71120023727417, -7.23360013961792, -7.648600101470947, -7.653299808502197, -7.258299827575684, -6.292600154876709, -6.578100204467773, -7.6880998611450195, -7.281700134277344, -4.478099822998047, -8.008299827575684, -7.719299793243408, -8.012100219726562, -8.023699760437012, -8.022199630737305, -8.026300430297852, -8.02560043334961, -8.027600288391113, -5.254199981689453, -6.574699878692627, -4.572000026702881, -7.391300201416016, -7.760900020599365, -5.751399993896484, -7.172999858856201, -6.001999855041504, -5.518400192260742, -6.372600078582764, -5.052299976348877, -4.8003997802734375, -6.757400035858154, -5.560999870300293, -5.790200233459473, -6.4893999099731445, -5.735199928283691, -5.262499809265137, -5.6793999671936035, -5.069499969482422, -5.276500225067139, -5.743000030517578, -6.086900234222412, -5.737400054931641, -5.775300025939941, -5.320700168609619, -5.692800045013428, -5.292799949645996, -5.354100227355957, -5.830399990081787, -5.929800033569336, -5.922299861907959, -4.8734002113342285, -5.5279998779296875, -5.4456000328063965, -5.47189998626709, -5.494500160217285, -5.385300159454346, -5.442699909210205, -5.422500133514404, -5.440100193023682, -5.618100166320801, -5.680200099945068, -5.687900066375732]}, \"token.table\": {\"Topic\": [1, 2, 3, 4, 5, 6, 7, 8, 9, 10, 11, 12, 13, 14, 15, 16, 17, 18, 19, 7, 1, 2, 3, 4, 5, 6, 7, 8, 9, 10, 11, 12, 14, 16, 17, 18, 19, 20, 16, 1, 2, 3, 4, 5, 6, 7, 8, 9, 10, 11, 12, 13, 14, 15, 16, 17, 18, 19, 20, 16, 16, 2, 3, 17, 13, 16, 17, 1, 2, 3, 4, 6, 7, 9, 10, 11, 12, 17, 18, 19, 20, 1, 2, 3, 4, 5, 6, 7, 8, 9, 10, 11, 12, 13, 14, 15, 16, 18, 19, 20, 1, 2, 3, 4, 5, 6, 7, 8, 9, 10, 11, 12, 13, 14, 15, 16, 17, 18, 19, 20, 1, 2, 3, 4, 5, 6, 7, 8, 9, 10, 11, 12, 13, 14, 15, 16, 17, 18, 19, 20, 1, 2, 3, 4, 5, 6, 7, 8, 9, 10, 11, 12, 13, 14, 15, 18, 19, 20, 3, 10, 19, 4, 14, 1, 2, 3, 4, 5, 6, 7, 8, 9, 10, 11, 12, 13, 14, 15, 16, 17, 18, 19, 20, 19, 19, 1, 2, 3, 4, 5, 6, 7, 8, 9, 10, 11, 12, 13, 14, 15, 16, 17, 18, 19, 20, 14, 7, 2, 7, 10, 11, 17, 1, 2, 3, 4, 5, 6, 7, 8, 9, 10, 11, 12, 13, 14, 15, 16, 17, 18, 20, 19, 16, 1, 7, 13, 1, 2, 4, 8, 11, 12, 14, 17, 1, 12, 13, 1, 12, 14, 18, 1, 2, 3, 5, 11, 14, 18, 7, 1, 3, 10, 14, 17, 1, 2, 4, 7, 8, 9, 10, 16, 19, 4, 1, 2, 5, 7, 8, 9, 11, 12, 13, 14, 15, 17, 18, 2, 16, 1, 2, 3, 4, 5, 6, 7, 8, 9, 10, 11, 12, 13, 14, 15, 16, 17, 18, 19, 20, 1, 2, 3, 4, 5, 6, 7, 8, 9, 10, 11, 12, 13, 14, 15, 16, 17, 18, 19, 20, 3, 6, 19, 1, 2, 4, 5, 6, 7, 9, 10, 11, 12, 13, 14, 16, 18, 19, 11, 14, 8, 5, 4, 17, 2, 5, 3, 1, 2, 3, 4, 5, 6, 7, 8, 9, 10, 11, 12, 13, 14, 15, 16, 17, 18, 19, 20, 1, 4, 5, 7, 8, 9, 10, 11, 12, 13, 16, 18, 19, 1, 18, 1, 2, 4, 5, 6, 7, 8, 9, 10, 11, 12, 13, 14, 15, 18, 19, 1, 2, 3, 4, 5, 6, 7, 8, 9, 10, 11, 12, 13, 14, 15, 16, 17, 18, 19, 20, 4, 10, 16, 6, 20, 1, 2, 3, 4, 5, 6, 7, 8, 9, 10, 11, 12, 13, 14, 15, 16, 17, 18, 19, 20, 4, 17, 1, 3, 4, 7, 13, 14, 17, 1, 2, 3, 4, 5, 6, 7, 8, 9, 10, 11, 12, 13, 14, 15, 16, 17, 18, 19, 20, 10, 2, 5, 7, 8, 10, 15, 9, 1, 2, 3, 4, 5, 6, 8, 9, 10, 12, 13, 14, 15, 17, 18, 20, 5, 1, 4, 7, 8, 10, 13, 18, 1, 7, 8, 10, 11, 17, 1, 4, 1, 2, 3, 4, 6, 7, 9, 10, 11, 13, 15, 16, 19, 5, 9, 14, 1, 2, 3, 4, 5, 6, 7, 8, 9, 10, 11, 12, 13, 14, 15, 16, 17, 18, 19, 20, 3, 1, 5, 8, 10, 11, 1, 3, 9, 11, 12, 13, 15, 19, 20, 1, 6, 9, 1, 2, 3, 4, 5, 6, 7, 9, 10, 11, 12, 13, 14, 16, 18, 20, 1, 19, 18, 1, 2, 4, 5, 6, 7, 8, 9, 10, 11, 12, 13, 14, 15, 16, 6, 1, 2, 3, 4, 5, 9, 11, 14, 16, 18, 13, 3, 1, 2, 6, 10, 12, 1, 2, 3, 4, 5, 6, 7, 8, 9, 10, 11, 12, 13, 14, 15, 16, 17, 18, 19, 20, 1, 2, 4, 6, 7, 8, 9, 10, 11, 12, 13, 4, 6, 8, 10, 11, 18, 1, 2, 8, 9, 10, 11, 12, 19, 13, 1, 4, 7, 11, 1, 2, 10, 11, 12, 17, 6, 20, 10, 17, 9, 12, 4, 5, 6, 7, 9, 10, 12, 13, 14, 15, 16, 17, 1, 2, 5, 7, 8, 9, 11, 12, 14, 15, 18, 1, 2, 5, 8, 9, 12, 14, 18, 18, 1, 2, 3, 7, 9, 11, 13, 14, 16, 19, 4, 11, 14, 1, 2, 3, 4, 9, 16, 18, 19, 7, 15, 2, 3, 4, 5, 6, 7, 9, 10, 11, 12, 14, 17, 19, 20, 1, 3, 4, 5, 7, 11, 16, 20, 14, 1, 2, 4, 5, 8, 11, 14, 2, 3, 10, 13, 14, 16, 18, 2, 3, 9, 10, 14, 18, 1, 3, 4, 8, 11, 12, 13, 15, 16, 18, 19, 2, 4, 6, 12, 1, 2, 4, 5, 7, 8, 10, 11, 12, 14, 18, 5, 4, 10, 12, 14, 6, 8, 13, 8, 12, 1, 4, 6, 9, 11, 12, 1, 2, 3, 4, 5, 6, 7, 8, 9, 10, 11, 12, 13, 14, 15, 16, 17, 18, 19, 20, 19, 6, 13, 19, 5, 1, 4, 6, 7, 13, 1, 7, 13, 1, 3, 4, 5, 7, 11, 12, 17, 18, 2, 5, 6, 7, 9, 10, 11, 13, 14, 15, 16, 17, 19, 1, 9, 4, 8, 15, 17, 1, 2, 9, 10, 11, 12, 2, 5, 10, 16, 5, 1, 2, 3, 4, 5, 7, 8, 9, 10, 12, 13, 14, 16, 17, 18, 20, 7, 14, 1, 2, 3, 4, 6, 8, 9, 10, 11, 12, 13, 14, 19, 1, 2, 3, 4, 5, 6, 7, 8, 9, 10, 11, 12, 13, 14, 15, 16, 17, 18, 20, 1, 2, 4, 5, 6, 7, 8, 9, 10, 11, 12, 13, 14, 15, 17, 19, 20, 18, 7, 13, 7, 10, 7, 4, 1, 3, 4, 5, 7, 10, 12, 13, 15, 2, 4, 10, 11, 13, 14, 16, 17, 11, 14, 17, 1, 2, 3, 4, 5, 6, 7, 8, 9, 10, 11, 12, 13, 14, 15, 17, 18, 20, 3, 16, 5, 10, 11, 4, 9, 1, 2, 3, 4, 5, 6, 7, 8, 9, 10, 11, 12, 17, 3, 10, 6, 11, 20, 4, 14, 17, 4, 1, 15, 4, 11, 14, 4, 5, 9, 11, 4, 11, 14, 11, 16, 1, 18, 5, 14, 1, 2, 3, 4, 5, 6, 7, 8, 9, 10, 11, 12, 13, 14, 15, 16, 17, 18, 19, 20, 14, 1, 2, 3, 6, 7, 9, 12, 14, 20, 1, 4, 5, 6, 7, 9, 10, 11, 12, 13, 14, 15, 17, 18, 19, 20, 5, 9, 5, 12, 2, 7, 12, 13, 1, 2, 3, 5, 6, 7, 8, 10, 11, 12, 14, 15, 20, 1, 2, 4, 5, 6, 7, 8, 9, 10, 11, 12, 13, 14, 15, 17, 18, 20, 1, 2, 3, 4, 5, 6, 7, 8, 9, 10, 11, 12, 13, 14, 15, 17, 18, 19, 1, 12, 5, 11, 11, 13, 12, 1, 2, 3, 4, 5, 6, 7, 8, 9, 10, 11, 12, 13, 14, 15, 16, 17, 18, 19, 20, 11, 19, 12, 2, 5, 9, 10, 11, 15, 1, 4, 13, 15, 18, 7, 8, 11, 14, 17, 1, 4, 5, 6, 8, 12, 13, 14, 8, 8, 1, 4, 6, 11, 14, 19, 2, 3, 4, 5, 12, 13, 20, 2, 3, 5, 9, 12, 13, 16, 19, 2, 6, 8, 10, 15, 17, 19, 13, 2, 3, 6, 10, 11, 12, 19, 5, 8, 1, 2, 3, 4, 6, 7, 11, 12, 14, 15, 17, 18, 9, 11, 12, 15, 2, 3, 5, 10, 16, 1, 2, 4, 5, 11, 12, 17, 4, 12, 1, 2, 4, 5, 6, 7, 8, 9, 10, 11, 12, 13, 14, 15, 16, 17, 18, 19, 1, 2, 3, 4, 6, 7, 8, 9, 11, 12, 14, 19, 1, 5, 9, 1, 3, 6, 7, 11, 18, 7, 5, 7, 1, 7, 8, 1, 2, 3, 4, 5, 6, 7, 8, 9, 11, 12, 13, 16, 1, 5, 8, 20, 1, 6, 9, 12, 1, 2, 3, 4, 5, 6, 7, 8, 9, 10, 11, 12, 13, 14, 15, 16, 17, 18, 19, 20, 1, 2, 3, 4, 5, 6, 7, 8, 9, 10, 11, 12, 13, 14, 15, 16, 17, 18, 19, 20, 2, 7, 9, 11, 17, 16, 6, 2, 10, 1, 2, 3, 4, 5, 6, 7, 8, 9, 10, 11, 12, 13, 17, 1, 5, 7, 9, 12, 16, 18, 6, 14, 18, 1, 2, 3, 4, 6, 9, 10, 13, 14, 15, 19, 1, 2, 3, 4, 5, 6, 7, 8, 9, 10, 11, 12, 13, 14, 15, 16, 17, 18, 19, 20, 1, 2, 3, 4, 9, 10, 12, 18, 19, 20, 1, 2, 4, 5, 6, 7, 9, 10, 11, 12, 13, 14, 15, 17, 18, 20, 1, 2, 3, 4, 5, 6, 7, 8, 9, 10, 11, 12, 13, 14, 15, 16, 17, 18, 19, 20, 17, 4, 6, 10, 13, 19, 4, 7, 8, 4, 5, 16, 8, 14, 8, 10, 12, 1, 3, 9, 12, 13, 15, 16, 5, 6, 19, 5, 8, 19, 9, 13, 14, 15, 8, 1, 2, 3, 5, 11, 13, 14, 2, 1, 2, 3, 6, 9, 16, 19, 2, 6, 15, 1, 3, 4, 6, 8, 9, 12, 13, 14, 15, 16, 18, 19, 20, 8, 1, 2, 3, 4, 5, 6, 7, 8, 9, 10, 11, 12, 13, 14, 15, 16, 17, 18, 19, 20, 16, 9, 18, 1, 2, 3, 4, 5, 6, 7, 8, 9, 10, 11, 12, 13, 14, 15, 16, 17, 18, 19, 20, 1, 1, 2, 6, 10, 12, 19, 4, 6, 5, 18, 10, 2, 5, 9, 10, 2, 7, 8, 9, 10, 2, 4, 9, 11, 12, 14, 17, 12, 12, 7, 16, 1, 3, 4, 6, 7, 9, 10, 11, 12, 13, 14, 15, 16, 17, 19, 6, 14, 1, 5, 7, 11, 14, 15, 18, 3, 12, 2, 3, 4, 5, 9, 19, 7, 13, 18, 20, 5, 8, 9, 12, 14, 15, 1, 2, 4, 5, 7, 8, 9, 10, 11, 14, 1, 2, 3, 4, 5, 6, 7, 8, 9, 10, 11, 12, 13, 14, 15, 16, 17, 18, 19, 20, 4, 5, 6, 8, 10, 14, 1, 2, 3, 4, 5, 6, 7, 8, 9, 10, 11, 12, 13, 14, 15, 18, 19, 4, 11, 1, 2, 3, 4, 5, 6, 7, 8, 9, 10, 11, 12, 13, 14, 15, 16, 17, 18, 19, 1, 2, 3, 4, 5, 6, 7, 8, 9, 10, 11, 12, 13, 14, 15, 16, 17, 18, 19, 20, 8, 6, 1, 4, 10, 7, 10, 6, 14, 1, 2, 5, 9, 10, 11, 12, 15, 16, 18, 13, 2, 4, 9, 17, 16, 5, 8, 3, 10, 12, 14, 18, 19, 1, 3, 4, 5, 6, 7, 8, 9, 10, 11, 12, 13, 14, 15, 16, 18, 19, 20, 16, 1, 2, 8, 15, 14, 7, 13, 19, 1, 4, 5, 7, 8, 10, 1, 2, 4, 5, 6, 7, 8, 9, 10, 11, 12, 13, 15, 16, 17, 18, 19, 14, 5, 6, 9, 10, 16, 14, 17, 1, 2, 3, 4, 5, 6, 8, 9, 10, 11, 12, 13, 18, 20, 1, 2, 4, 5, 7, 8, 9, 10, 12, 13, 17, 14, 1, 2, 3, 4, 5, 8, 9, 10, 11, 12, 13, 16, 18, 19, 4, 9, 18, 1, 2, 4, 6, 7, 8, 9, 10, 11, 12, 14, 15, 18, 19, 1, 3, 4, 5, 6, 7, 8, 9, 10, 11, 12, 13, 19, 20, 2, 10, 16, 1, 2, 3, 4, 5, 7, 9, 12, 15, 18, 10, 19, 1, 2, 4, 16, 1, 2, 3, 4, 5, 6, 7, 8, 9, 10, 11, 12, 13, 15, 16, 17, 18, 19, 1, 2, 5, 9, 11, 12, 13, 17, 18, 7, 1, 2, 5, 9, 11, 18, 1, 2, 5, 8, 9, 15, 11, 15, 17, 4, 5, 16, 4, 9, 11, 14, 5, 1, 2, 3, 4, 6, 9, 10, 12, 14, 15, 18, 19, 1, 1, 2, 3, 4, 5, 7, 8, 9, 11, 12, 13, 15, 16, 17, 18, 1, 2, 3, 4, 5, 7, 8, 9, 10, 12, 13, 15, 17, 18, 19, 20, 11, 16, 9, 11, 2, 4, 10, 11, 14, 3, 11, 13, 9, 9, 12, 6, 10, 11, 19, 1, 2, 4, 8, 9, 10, 11, 14, 16, 17, 17, 1, 2, 3, 4, 5, 6, 7, 8, 10, 11, 12, 14, 16, 18, 19, 20, 15, 19, 3, 9, 16, 19, 20, 1, 4, 9, 11, 12, 18, 19, 20, 18, 4, 9, 18, 15, 14, 1, 2, 3, 4, 5, 6, 7, 8, 9, 10, 11, 12, 13, 14, 15, 16, 17, 18, 19, 20, 3, 4, 1, 2, 3, 4, 5, 6, 7, 8, 9, 10, 11, 12, 13, 14, 15, 16, 17, 18, 19, 20, 1, 2, 3, 4, 5, 6, 7, 8, 9, 10, 11, 12, 13, 14, 16, 17, 18, 19, 1, 2, 3, 4, 5, 6, 7, 8, 9, 10, 11, 12, 13, 14, 15, 16, 17, 18, 19, 20, 10, 10, 1, 2, 3, 4, 5, 6, 7, 8, 9, 10, 11, 12, 14, 15, 16, 17, 18, 19, 11, 1, 2, 3, 4, 5, 6, 7, 8, 9, 10, 11, 12, 13, 14, 15, 16, 17, 18, 19, 1, 5, 8, 6, 9, 10, 20, 1, 2, 6, 10, 11, 12, 2, 10, 2, 9, 10, 1, 2, 3, 4, 5, 6, 7, 8, 9, 10, 11, 12, 13, 14, 15, 16, 17, 18, 19, 20, 1, 2, 3, 4, 5, 6, 7, 8, 9, 10, 11, 12, 13, 14, 15, 16, 17, 18, 19, 20, 1, 2, 3, 4, 5, 6, 7, 8, 9, 10, 11, 13, 14, 15, 16, 17, 19, 13, 10, 1, 2, 4, 5, 6, 7, 8, 9, 10, 11, 12, 13, 14, 18, 19, 9, 10, 12, 1, 3, 5, 6, 7, 8, 9, 11, 12, 14, 17, 18, 19, 1, 2, 3, 4, 5, 6, 7, 8, 9, 10, 11, 12, 13, 14, 15, 16, 17, 18, 19, 20, 15, 20, 1, 2, 3, 4, 5, 7, 8, 9, 10, 11, 12, 13, 14, 16, 17, 18, 19, 20, 5, 1, 2, 4, 5, 6, 7, 8, 9, 11, 12, 14, 18, 19, 1, 4, 9, 11, 15, 18, 1, 2, 3, 4, 5, 6, 7, 8, 9, 10, 11, 12, 13, 14, 15, 16, 17, 18, 19, 20, 12, 3, 1, 2, 3, 4, 5, 6, 7, 8, 9, 10, 11, 12, 13, 14, 15, 16, 17, 18, 19, 20, 1, 2, 3, 4, 5, 7, 9, 10, 12, 13, 14, 16, 17, 18, 11, 11, 3, 9, 1, 2, 7, 8, 1, 3, 4, 5, 8, 10, 12, 14, 1, 5, 14, 18, 20, 5, 9, 12, 4, 16, 4, 17, 17, 10, 4, 7, 2, 17, 1, 2, 4, 5, 7, 9, 11, 12, 14, 16, 17, 16, 2, 3, 4, 5, 6, 7, 11, 13, 14, 17, 1, 6, 7, 9, 11, 12, 13, 18, 1, 2, 3, 4, 5, 6, 7, 8, 9, 10, 11, 12, 13, 14, 17, 19, 8, 11, 12, 15, 4, 5, 9, 17, 6, 15, 16, 17, 19, 4, 1, 2, 3, 4, 5, 6, 7, 8, 9, 10, 11, 12, 13, 14, 15, 16, 17, 18, 19, 20, 5, 1, 6, 12, 13, 15, 18, 20, 2, 10, 1, 2, 3, 4, 5, 6, 7, 8, 9, 10, 11, 12, 13, 14, 15, 16, 17, 18, 19, 20, 5, 14, 1, 2, 3, 4, 5, 6, 7, 8, 9, 10, 11, 12, 13, 14, 15, 16, 17, 18, 19, 20, 1, 2, 3, 4, 5, 6, 8, 9, 10, 11, 12, 13, 14, 15, 17, 19, 1, 2, 11, 12, 13, 16, 1, 3, 4, 5, 6, 7, 8, 9, 10, 11, 12, 13, 15, 16, 17, 18, 19, 6, 8, 13, 1, 4, 5, 9, 10, 19, 6, 7, 9, 10, 11, 12, 16, 20, 1, 2, 3, 4, 6, 7, 9, 11, 12, 13, 14, 15, 17, 18, 19, 5, 1, 2, 3, 4, 5, 6, 7, 8, 9, 10, 11, 12, 13, 14, 15, 16, 17, 18, 20, 16, 1, 12, 19, 8, 11, 1, 2, 3, 4, 5, 6, 7, 8, 9, 10, 11, 12, 13, 14, 15, 16, 17, 18, 19, 20, 3, 4, 14, 1, 2, 5, 6, 7, 9, 10, 11, 12, 13, 18, 19, 20, 1, 2, 6, 9, 10, 11, 12, 8, 17, 13, 20, 1, 2, 5, 11, 18, 1, 4, 6, 7, 8, 9, 12, 13, 16, 17, 18, 19, 4, 7, 8, 13, 17, 19, 5, 4, 14, 17, 6, 8, 1, 1, 2, 3, 4, 5, 6, 7, 8, 9, 10, 11, 12, 13, 14, 15, 16, 17, 18, 19, 2, 4, 5, 8, 12, 17, 1, 2, 3, 4, 5, 7, 8, 9, 10, 12, 13, 16, 17, 18, 20, 20, 6, 9, 12, 2, 18, 5, 14, 1, 4, 6, 14, 16, 20, 18, 1, 2, 3, 4, 5, 7, 8, 9, 10, 11, 12, 13, 14, 15, 16, 17, 18, 19, 20, 1, 2, 3, 4, 5, 6, 7, 8, 9, 10, 11, 12, 13, 14, 15, 16, 17, 18, 19, 1, 2, 3, 4, 5, 6, 7, 8, 9, 10, 11, 12, 13, 14, 15, 20, 5, 9, 11, 1, 4, 5, 8, 9, 10, 18, 19, 18, 5, 8, 9, 18, 19, 2, 4, 10, 14, 17, 1, 2, 4, 6, 7, 9, 11, 13, 17, 18, 20, 2, 4, 5, 14, 17, 1, 2, 3, 4, 5, 6, 9, 10, 11, 12, 14, 16, 18, 19, 1, 3, 5, 6, 7, 8, 10, 16, 18, 1, 2, 8, 10, 12, 13, 17, 4, 5, 6, 7, 9, 10, 15, 2, 4, 14, 17, 4, 5, 11, 1, 2, 4, 5, 6, 7, 8, 9, 11, 12, 13, 14, 15, 16, 17, 18, 1, 2, 4, 5, 6, 7, 8, 9, 10, 11, 12, 13, 14, 15, 16, 18, 20, 1, 2, 3, 4, 5, 6, 7, 8, 9, 10, 11, 12, 13, 14, 15, 16, 17, 18, 19, 20, 2, 1, 2, 4, 8, 10, 12, 15, 18, 20, 1, 4, 5, 6, 7, 8, 9, 16, 17, 19, 7, 10, 1, 11, 1, 2, 15, 18, 1, 2, 4, 5, 6, 7, 8, 9, 10, 11, 12, 13, 14, 18, 19, 20, 3, 9, 1, 3, 7, 8, 9, 10, 14, 1, 7, 8, 1, 6, 8, 9, 19, 20, 1, 2, 4, 5, 6, 7, 8, 9, 10, 12, 13, 18, 19, 1, 8, 2, 3, 4, 6, 7, 8, 9, 11, 12, 13, 14, 16, 18, 7, 1, 4, 5, 7, 10, 6, 2, 19, 9, 20, 1, 4, 5, 16, 1, 2, 3, 4, 5, 6, 7, 8, 9, 10, 11, 12, 13, 14, 15, 16, 17, 18, 20, 6, 15, 17, 19, 15, 16, 20, 1, 3, 11, 13, 15, 16, 18, 19, 1, 3, 4, 6, 7, 8, 9, 11, 12, 13, 14, 15, 16, 17, 18, 19, 1, 2, 3, 4, 5, 6, 7, 8, 9, 10, 11, 12, 13, 14, 15, 16, 17, 18, 20, 1, 2, 3, 4, 5, 6, 7, 8, 9, 10, 11, 12, 13, 14, 17, 18, 20, 20, 13, 1, 2, 3, 4, 5, 6, 7, 8, 9, 10, 11, 12, 13, 14, 15, 16, 17, 18, 19, 20, 1, 2, 4, 5, 6, 7, 8, 9, 10, 11, 12, 13, 14, 17, 18, 19, 20, 1, 2, 3, 4, 5, 6, 7, 8, 9, 10, 11, 12, 13, 14, 15, 16, 17, 18, 19, 20, 1, 2, 4, 7, 8, 9, 11, 14, 15, 1, 2, 6, 11, 12, 14, 15, 17, 18, 20, 1, 2, 6, 12, 15, 17, 20, 1, 2, 3, 4, 5, 6, 7, 8, 9, 10, 11, 12, 13, 14, 15, 16, 17, 18, 19, 20, 2, 4, 5, 10, 13, 14, 17, 4, 12, 13, 14, 17, 15, 1, 2, 3, 4, 6, 7, 8, 9, 10, 12, 13, 14, 16, 17, 18, 2, 4, 5, 10, 11, 17, 18, 1, 2, 3, 4, 5, 7, 8, 9, 10, 11, 12, 13, 14, 16, 17, 18, 20, 10, 18, 7, 1, 15, 20, 2, 5, 9, 12, 18, 1, 2, 4, 5, 6, 7, 8, 9, 10, 11, 12, 13, 14, 18, 20, 5, 6, 7, 9, 10, 14, 16, 19, 20, 20, 14, 2, 11, 14, 1, 2, 3, 4, 5, 6, 7, 8, 9, 10, 11, 12, 13, 14, 16, 17, 18, 19, 2, 5, 18, 19, 1, 2, 3, 4, 5, 6, 7, 8, 9, 10, 11, 12, 13, 14, 16, 17, 18, 19, 20, 1, 2, 3, 5, 6, 8, 9, 10, 11, 12, 15, 18, 19, 4, 6, 7, 10, 13, 14, 19, 1, 2, 4, 7, 8, 9, 10, 13, 14, 15, 16, 17, 18, 19, 1, 2, 3, 6, 7, 12, 15, 1, 3, 12, 1, 4, 5, 6, 7, 9, 10, 12, 13, 19, 1, 2, 3, 4, 5, 6, 7, 8, 9, 10, 11, 12, 13, 14, 15, 16, 17, 18, 20, 2, 10, 12, 19, 1, 5, 14, 4, 12, 12, 6, 7, 1, 20, 20, 1, 5, 8, 13, 18, 3, 4, 8, 17, 1, 8, 1, 8, 3, 4, 6, 9, 11, 12, 18, 20, 18, 2, 4, 5, 11, 15, 17, 4, 1, 2, 3, 4, 5, 6, 7, 8, 9, 10, 11, 12, 13, 14, 15, 16, 17, 18, 19, 20, 1, 2, 4, 7, 8, 9, 10, 11, 12, 13, 14, 15, 16, 17, 18, 19, 4, 7, 14, 19, 5, 14, 4, 12, 1, 7, 15, 18, 20, 1, 3, 6, 7, 8, 11, 12, 15, 18, 20, 4, 9, 18, 1, 3, 4, 7, 8, 9, 10, 12, 13, 14, 16, 18, 19, 1, 3, 4, 7, 8, 9, 10, 13, 14, 16, 17, 18, 19, 11, 4, 16, 1, 12, 14, 15, 18, 20, 1, 2, 3, 5, 6, 7, 8, 11, 12, 13, 14, 15, 17, 18, 20, 13, 2, 3, 6, 7, 8, 9, 10, 11, 12, 13, 14, 15, 16, 17, 19, 5, 12, 1, 2, 9, 11, 4, 10, 15, 16, 3, 4, 11, 16, 1, 2, 3, 4, 5, 6, 7, 8, 9, 10, 11, 12, 13, 14, 15, 16, 17, 18, 19, 20, 1, 2, 3, 4, 5, 6, 7, 8, 9, 10, 11, 12, 13, 14, 15, 16, 19, 1, 2, 3, 4, 5, 6, 7, 8, 9, 10, 11, 12, 13, 14, 15, 16, 17, 18, 1, 2, 3, 4, 5, 6, 7, 8, 9, 10, 11, 12, 13, 14, 15, 16, 17, 18, 20, 1, 2, 4, 5, 7, 8, 9, 10, 12, 13, 16, 17, 18, 9, 1, 2, 5, 9, 11, 14, 15, 1, 2, 9, 12, 13, 2, 10, 16, 16, 7, 13, 1, 2, 4, 5, 7, 8, 9, 10, 11, 12, 13, 14, 15, 16, 18, 19, 5, 9, 10, 15, 17, 12, 1, 4, 5, 7, 8, 10, 12, 14, 18, 19, 4, 5, 6, 10, 12, 18, 1, 2, 3, 4, 5, 6, 7, 8, 9, 10, 11, 12, 13, 14, 15, 16, 17, 18, 19, 20, 7, 7, 1, 4, 5, 6, 7, 9, 12, 17, 5, 6, 7, 15, 20, 11, 1, 2, 3, 4, 5, 6, 7, 8, 9, 10, 11, 12, 13, 14, 15, 16, 17, 18, 19, 20, 1, 2, 3, 4, 5, 7, 8, 9, 10, 11, 13, 14, 16, 17, 20, 1, 2, 10, 11, 12, 20, 1, 2, 14, 17, 4, 12, 16, 18, 11, 14, 2, 4, 11, 12, 14, 1, 2, 3, 4, 5, 8, 9, 11, 12, 16, 1, 9, 13, 14, 15, 10, 7, 10, 1, 2, 3, 4, 5, 6, 7, 8, 9, 10, 11, 12, 13, 14, 15, 16, 17, 18, 19, 20, 4, 12, 6, 11, 3, 4, 6, 11, 12, 11, 2, 11, 14, 1, 2, 4, 5, 6, 7, 8, 9, 10, 11, 12, 15, 16, 17, 18, 20, 17, 20, 1, 2, 3, 4, 5, 6, 7, 8, 9, 10, 11, 12, 13, 14, 15, 16, 17, 18, 19, 20, 1, 2, 6, 10, 19, 19, 13, 14, 1, 4, 5, 6, 8, 9, 11, 12, 15, 17, 1, 4, 5, 7, 8, 9, 10, 11, 18, 1, 2, 3, 4, 5, 6, 7, 8, 9, 10, 11, 12, 13, 14, 16, 17, 18, 19, 4, 5, 7, 17, 15, 16, 11, 1, 2, 3, 4, 5, 6, 7, 8, 9, 10, 11, 12, 13, 14, 15, 16, 17, 18, 19, 20, 1, 4, 6, 7, 9, 10, 11, 12, 1, 4, 9, 11, 12, 14, 9, 18, 1, 2, 3, 4, 5, 6, 7, 8, 9, 10, 11, 12, 13, 14, 15, 16, 17, 18, 19, 20, 7, 1, 3, 4, 5, 6, 7, 9, 10, 11, 12, 17, 18, 9, 1, 4, 5, 7, 12, 14, 15, 6, 19, 1, 2, 6, 8, 10, 12, 19, 11, 14, 1, 2, 3, 4, 5, 6, 7, 8, 9, 10, 11, 12, 13, 14, 15, 16, 17, 18, 19, 3, 5, 6, 17, 2, 5, 9, 12, 1, 1, 3, 4, 12, 13, 1, 2, 3, 4, 5, 6, 7, 8, 9, 10, 11, 12, 13, 14, 15, 16, 17, 18, 19, 20, 1, 2, 3, 4, 5, 7, 8, 9, 10, 11, 12, 13, 14, 15, 16, 17, 18, 19, 20, 2, 6, 9, 12, 14, 1, 2, 3, 4, 5, 6, 7, 8, 9, 10, 11, 12, 13, 14, 15, 16, 17, 18, 19, 20, 9, 4, 6, 4, 13, 14, 1, 7, 12, 16, 1, 3, 4, 6, 7, 8, 9, 10, 11, 12, 13, 14, 15, 16, 18, 19, 9, 12, 13, 16, 1, 2, 3, 4, 5, 6, 7, 8, 9, 10, 11, 12, 13, 14, 15, 16, 17, 18, 19, 20, 1, 2, 3, 4, 5, 6, 7, 8, 9, 10, 11, 12, 13, 14, 15, 16, 17, 18, 19, 20, 12, 1, 2, 4, 7, 13, 14, 17, 19, 20, 1, 2, 3, 5, 7, 8, 11, 12, 13, 14, 17, 18, 6, 1, 2, 3, 5, 6, 7, 8, 9, 10, 11, 12, 13, 14, 16, 17, 19, 1, 2, 3, 4, 5, 6, 7, 8, 9, 10, 11, 12, 13, 14, 15, 16, 17, 18, 19, 20, 2, 4, 5, 11, 12, 1, 2, 3, 12, 2, 6, 3, 1, 2, 4, 5, 6, 7, 8, 9, 11, 12, 13, 14, 16, 17, 18, 19, 20, 4, 17, 4, 7, 14, 16, 17, 20, 9, 20, 1, 2, 3, 4, 5, 6, 7, 8, 9, 10, 11, 12, 13, 14, 15, 16, 17, 18, 19, 20, 3, 1, 6, 7, 9, 10, 20, 1, 2, 4, 5, 6, 7, 10, 11, 12, 14, 15, 18, 2, 3, 5, 6, 8, 2, 5, 9, 10, 12, 19, 1, 16, 1, 2, 3, 4, 5, 6, 7, 8, 9, 10, 11, 12, 13, 14, 15, 16, 17, 18, 19, 20, 1, 2, 3, 4, 5, 6, 7, 8, 9, 10, 11, 12, 13, 14, 15, 16, 17, 18, 19, 20, 12, 1, 2, 3, 4, 5, 6, 7, 8, 9, 10, 11, 12, 13, 14, 15, 16, 17, 18, 19, 20, 1, 2, 3, 4, 5, 6, 7, 8, 9, 10, 11, 12, 13, 14, 15, 16, 17, 18, 19, 20, 1, 4, 7, 9, 18, 5, 1, 2, 6, 10, 1, 2, 10, 2, 3, 4, 5, 6, 8, 9, 10, 12, 13, 16, 17, 18, 20, 2, 3, 4, 5, 8, 9, 10, 12, 13, 16, 17, 1, 2, 3, 4, 5, 6, 7, 8, 9, 10, 11, 12, 13, 14, 15, 16, 17, 18, 19, 20, 4, 19, 1, 4, 14, 6, 11, 18, 11, 11, 9, 18, 6, 13, 1, 2, 3, 4, 5, 6, 7, 8, 9, 10, 11, 12, 13, 14, 15, 16, 17, 18, 19, 20, 1, 2, 5, 9, 13, 14, 15, 17, 1, 4, 3, 15, 16, 1, 2, 3, 4, 5, 6, 7, 8, 9, 10, 11, 12, 13, 14, 15, 16, 17, 18, 20, 1, 4, 6, 7, 9, 2, 10, 1, 2, 3, 4, 5, 6, 7, 8, 9, 10, 11, 12, 13, 14, 17, 18, 19, 1, 2, 3, 4, 5, 6, 7, 8, 9, 10, 11, 12, 13, 14, 16, 17, 18, 19, 20, 1, 2, 3, 4, 5, 6, 7, 8, 9, 10, 11, 12, 13, 14, 15, 16, 17, 18, 19, 20, 1, 2, 3, 4, 5, 6, 7, 8, 9, 10, 11, 12, 13, 14, 15, 16, 17, 18, 19, 20, 1, 4, 8, 9, 11, 19, 20, 15, 15, 1, 7, 10, 1, 2, 3, 4, 5, 6, 7, 8, 9, 10, 11, 12, 13, 14, 15, 16, 17, 18, 19, 20, 10, 1, 5, 6, 7, 14, 15, 16, 18, 19, 8, 11, 12, 13, 16, 17, 1, 6, 9, 10, 11, 12, 20, 1, 2, 8, 15, 2, 4, 5, 7, 8, 10, 11, 14, 17, 4, 5, 6, 7, 9, 1, 15, 20, 2, 16, 17, 3, 4, 9, 13, 16, 18, 1, 2, 3, 4, 5, 6, 7, 8, 9, 10, 11, 12, 13, 16, 18, 19, 20, 1, 2, 3, 4, 5, 6, 7, 8, 9, 10, 11, 12, 13, 14, 15, 16, 17, 18, 19, 20, 1, 2, 3, 4, 5, 6, 7, 8, 9, 10, 11, 12, 13, 14, 15, 16, 17, 18, 1, 4, 5, 6, 7, 8, 9, 11, 13, 18, 1, 2, 4, 6, 7, 8, 9, 10, 12, 14, 15, 1, 2, 7, 8, 9, 10, 11, 12, 18, 3, 9, 1, 5, 6, 8, 9, 12, 15, 16, 19, 1, 2, 3, 4, 5, 6, 7, 8, 9, 10, 11, 12, 13, 14, 15, 16, 17, 18, 19, 20, 8, 1, 4, 5, 9, 11, 19, 20, 2, 6, 10, 11, 15, 17, 19, 1, 2, 3, 4, 5, 6, 7, 8, 9, 10, 11, 12, 13, 14, 15, 16, 17, 18, 19, 20, 1, 2, 3, 4, 5, 6, 7, 8, 9, 10, 11, 12, 13, 14, 15, 16, 17, 18, 19, 20, 1, 2, 3, 4, 7, 8, 10, 11, 14, 15, 16, 19, 1, 10, 19, 1, 3, 5, 7, 8, 9, 10, 12, 17, 20, 13, 16, 10, 9, 1, 3, 5, 7, 9, 11, 17, 18, 3, 5, 1, 2, 3, 4, 5, 6, 7, 9, 10, 11, 12, 13, 14, 15, 16, 17, 18, 19, 4, 1, 4, 11, 18, 1, 2, 3, 4, 5, 6, 7, 8, 9, 10, 11, 12, 13, 14, 15, 16, 17, 18, 19, 20, 1, 2, 3, 4, 5, 6, 7, 8, 9, 10, 11, 12, 13, 14, 16, 17, 19, 18, 1, 3, 4, 5, 8, 10, 12, 14, 17, 9, 10, 1, 4, 6, 7, 8, 9, 11, 12, 17, 18, 1, 2, 3, 4, 5, 6, 7, 8, 9, 10, 11, 12, 13, 14, 15, 16, 17, 18, 19, 20, 11, 17, 1, 2, 3, 4, 5, 7, 8, 9, 10, 11, 12, 13, 14, 15, 16, 17, 18, 19, 1, 12, 18, 18, 1, 2, 7, 8, 9, 10, 11, 13, 14, 15, 16, 17, 1, 14, 1, 2, 3, 4, 5, 6, 7, 8, 9, 10, 11, 12, 13, 14, 15, 16, 17, 18, 19, 20, 17, 14, 1, 2, 3, 4, 5, 7, 8, 9, 10, 11, 12, 13, 14, 15, 16, 18, 19, 3, 1, 3, 9, 13, 14, 19, 4, 5, 6, 12, 14, 17, 1, 2, 3, 5, 6, 7, 8, 9, 10, 11, 12, 13, 14, 15, 17, 19, 1, 3, 4, 5, 6, 7, 8, 11, 12, 14, 16, 17, 18, 19, 20, 3, 8, 16, 1, 2, 3, 4, 5, 6, 7, 8, 9, 10, 11, 12, 13, 14, 15, 16, 19, 7, 2, 6, 8, 9, 10, 11, 12, 14, 15, 17, 18, 12, 4, 1, 2, 3, 4, 5, 6, 7, 8, 9, 10, 11, 12, 13, 14, 15, 16, 17, 18, 19, 20, 4, 5, 12, 16, 10, 3, 7, 18, 19, 1, 4, 7, 8, 10, 13, 1, 2, 4, 5, 7, 8, 9, 10, 11, 12, 13, 14, 18, 2, 10, 13, 9, 9, 6, 1, 2, 4, 6, 7, 8, 9, 10, 11, 12, 14, 17, 20, 1, 2, 2, 1, 20, 2, 12, 1, 2, 7, 8, 9, 13, 17, 19, 2, 4, 5, 10, 14, 17, 1, 2, 4, 5, 9, 11, 12, 16, 17, 12, 14, 15, 16, 2, 4, 5, 8, 10, 11, 12, 14, 17, 4, 7, 8, 10, 11, 12, 13, 14, 17, 19, 15, 2, 1, 2, 4, 5, 8, 9, 10, 11, 12, 17, 18, 19, 10, 16, 9, 12, 5, 7, 18, 6, 14, 15, 17, 1, 2, 3, 4, 5, 6, 7, 8, 9, 10, 11, 12, 13, 14, 15, 16, 17, 18, 19, 20, 1, 2, 3, 4, 5, 6, 7, 8, 9, 10, 11, 12, 13, 14, 15, 16, 17, 18, 19, 20, 1, 2, 3, 4, 5, 6, 7, 8, 9, 10, 11, 12, 13, 14, 15, 16, 17, 18, 19, 20, 1, 2, 15, 18, 2, 4, 5, 6, 7, 9, 10, 11, 12, 13, 15, 16, 17, 1, 3, 4, 5, 9, 12, 13, 14, 19, 3, 4, 8, 11, 16, 7, 6, 4, 11, 18, 20, 7, 9, 19, 19, 19, 12, 17, 3, 4, 11, 12, 14, 2, 9, 11, 17, 12, 1, 3, 7, 13, 1, 2, 3, 4, 5, 6, 7, 8, 9, 10, 11, 12, 13, 14, 16, 17, 19, 20, 3, 2, 2, 3, 4, 5, 7, 9, 10, 11, 12, 15, 17, 20, 1, 4, 6, 12, 13, 15, 17, 18, 20, 19, 15, 9, 8, 13, 1, 2, 3, 4, 5, 7, 8, 10, 11, 12, 16, 17, 18, 1, 2, 3, 4, 7, 8, 9, 10, 11, 14, 15, 18, 1, 2, 3, 4, 5, 6, 8, 9, 10, 11, 12, 14, 15, 16, 18, 20, 5, 6, 20, 1, 1, 2, 3, 4, 5, 6, 7, 8, 9, 10, 11, 12, 13, 14, 15, 16, 17, 18, 19, 20, 1, 2, 9, 2, 5, 4, 18, 14, 20, 3, 8, 13, 1, 1, 2, 3, 14, 1, 2, 4, 5, 12, 13, 15, 1, 2, 3, 4, 5, 6, 7, 8, 9, 10, 11, 12, 13, 14, 15, 16, 17, 18, 19, 20, 4, 9, 12, 4, 6, 9, 11, 14, 1, 2, 3, 4, 5, 6, 7, 8, 9, 10, 11, 12, 13, 14, 15, 16, 17, 18, 19, 20, 2, 3, 5, 9, 10, 12, 16, 20, 1, 7, 9, 11, 15, 1, 2, 4, 5, 7, 10, 11, 13, 14, 20, 20, 4, 14, 9, 1, 2, 3, 4, 5, 6, 7, 8, 9, 10, 11, 12, 13, 14, 17, 18, 19, 20, 3, 6, 7, 1, 2, 3, 4, 5, 6, 7, 8, 9, 10, 11, 12, 13, 14, 15, 16, 17, 18, 19, 20, 1, 2, 3, 4, 5, 6, 7, 8, 9, 10, 11, 12, 13, 14, 15, 16, 17, 18, 19, 20, 5, 7, 15, 1, 12, 16, 20, 1, 4, 6, 9, 11, 12, 13, 20, 1, 2, 3, 4, 5, 6, 7, 8, 9, 10, 11, 12, 13, 14, 15, 16, 17, 18, 19, 20, 7, 13, 1, 2, 4, 6, 8, 10, 12, 13, 15, 18, 13, 14, 17, 1, 2, 4, 5, 6, 7, 9, 10, 11, 12, 14, 15, 16, 17, 9, 2, 12, 13, 1, 2, 4, 12, 16, 1, 2, 11, 6, 9, 1, 2, 3, 4, 5, 6, 7, 8, 9, 10, 11, 12, 13, 14, 15, 17, 18, 19, 20, 1, 2, 3, 4, 5, 6, 7, 8, 9, 10, 11, 12, 13, 14, 15, 16, 17, 18, 19, 20, 1, 2, 3, 4, 5, 6, 7, 8, 9, 10, 11, 12, 13, 14, 15, 16, 17, 18, 19, 20, 15, 18, 7, 1, 2, 3, 4, 5, 6, 7, 8, 9, 10, 11, 12, 13, 14, 15, 16, 17, 18, 19, 20, 1, 2, 4, 5, 7, 8, 9, 10, 11, 13, 14, 15, 16, 17, 19, 1, 2, 3, 4, 6, 8, 9, 11, 12, 13, 14, 15, 16, 18, 4, 13, 12, 2, 6, 12, 3, 9, 13, 3, 1, 4, 5, 8, 9, 10, 11, 12, 13, 14, 16, 8, 13, 1, 12, 12, 12, 1, 8, 9, 10, 17, 18, 2, 4, 6, 12, 2, 3, 10, 14, 16, 18, 1, 2, 3, 4, 5, 6, 7, 8, 9, 10, 11, 12, 13, 14, 15, 16, 17, 18, 19, 20, 5, 1, 2, 11, 12, 13, 1, 2, 8, 9, 12, 13, 16, 18, 1, 2, 11, 14, 1, 2, 3, 7, 13, 16, 19, 6, 1, 3, 7, 11, 13, 14, 16, 19, 1, 2, 4, 5, 7, 12, 14, 18, 20, 1, 2, 3, 4, 5, 6, 7, 8, 9, 10, 11, 12, 13, 14, 15, 16, 17, 18, 19, 20, 1, 2, 3, 4, 5, 6, 7, 8, 9, 10, 11, 12, 13, 14, 15, 16, 17, 18, 1, 2, 8, 11, 12, 10, 16, 1, 20, 1, 2, 3, 4, 5, 7, 8, 9, 10, 13, 14, 15, 16, 17, 18, 4, 5, 12, 16, 1, 2, 3, 4, 7, 9, 11, 12, 13, 14, 16, 17, 18, 11, 1, 3, 4, 7, 8, 9, 10, 11, 12, 15, 17, 18, 19, 14, 17, 7, 1, 3, 4, 5, 8, 9, 11, 12, 13, 16, 3, 9, 19, 14, 2, 9, 18, 1, 2, 3, 4, 5, 6, 7, 8, 9, 10, 11, 12, 13, 14, 15, 16, 17, 18, 19, 1, 2, 3, 4, 5, 6, 7, 8, 9, 10, 11, 12, 13, 15, 16, 17, 18, 19, 1, 2, 3, 4, 5, 6, 7, 8, 9, 10, 11, 12, 13, 14, 15, 16, 17, 18, 19, 20, 2, 1, 2, 3, 4, 5, 6, 7, 8, 9, 10, 11, 12, 13, 14, 15, 16, 17, 18, 19, 20, 1, 2, 4, 5, 6, 7, 8, 9, 10, 11, 12, 14, 17, 18, 19, 20, 1, 3, 4, 7, 8, 9, 10, 13, 19, 19, 1, 2, 3, 5, 7, 8, 9, 11, 12, 13, 14, 16, 18, 1, 2, 3, 4, 5, 7, 9, 10, 11, 12, 14, 18, 19, 1, 2, 3, 4, 5, 6, 7, 9, 10, 11, 12, 13, 14, 15, 16, 17, 19, 1, 2, 3, 4, 5, 6, 7, 8, 9, 10, 11, 12, 13, 14, 15, 16, 17, 18, 19, 20, 3, 1, 2, 3, 6, 10, 16, 19, 1, 2, 3, 4, 5, 6, 7, 8, 9, 10, 11, 12, 13, 14, 15, 16, 17, 18, 19, 1, 2, 3, 4, 5, 7, 8, 9, 10, 11, 12, 13, 14, 16, 17, 18, 19, 20, 5, 2, 5, 9, 11, 15, 18, 19, 1, 2, 4, 5, 6, 7, 8, 9, 10, 11, 12, 15, 17, 18, 19, 20, 19, 2, 4, 5, 17, 1, 20, 4, 1, 2, 4, 5, 6, 7, 9, 10, 12, 13, 14, 15, 17, 18, 20, 1, 2, 4, 5, 6, 7, 8, 9, 10, 11, 12, 13, 14, 15, 17, 18, 19, 20, 7, 8, 10, 9, 20, 2, 3, 4, 10, 14, 17, 18, 4, 11, 1, 6, 7, 8, 9, 10, 16, 4, 16, 4, 19, 1, 4, 9, 11, 15, 19, 8, 12, 10, 19, 4, 9, 18, 9, 10, 11, 15, 17, 1, 5, 6, 8, 18, 15, 1, 2, 3, 4, 5, 6, 7, 8, 9, 10, 11, 12, 13, 14, 15, 16, 17, 18, 20, 1, 2, 3, 4, 5, 6, 7, 8, 9, 10, 11, 12, 13, 14, 15, 16, 17, 18, 20, 5, 1, 7, 10, 11, 7, 1, 2, 7, 8, 9, 10, 12, 13, 16, 18, 2, 5, 6, 7, 11, 12, 1, 1, 2, 8, 10, 12, 15, 17, 20, 1, 6, 17, 20, 5, 6, 9, 12, 10, 7, 11, 1, 2, 3, 4, 5, 6, 7, 8, 9, 10, 11, 12, 13, 14, 15, 16, 17, 18, 19, 1, 2, 3, 4, 5, 6, 7, 8, 9, 10, 11, 12, 13, 15, 17, 18, 5, 14, 12, 1, 2, 4, 5, 6, 7, 8, 9, 10, 11, 12, 14, 15, 19, 4, 1, 2, 3, 4, 5, 6, 7, 8, 9, 10, 11, 12, 13, 14, 15, 16, 17, 18, 19, 20, 1, 8, 9, 10, 11, 14, 20, 3, 1, 2, 4, 9, 11, 18, 19, 1, 2, 3, 4, 5, 6, 7, 8, 9, 10, 11, 12, 13, 14, 15, 16, 17, 18, 19, 20, 15, 4, 4, 14, 17, 5, 17, 4, 17, 1, 2, 3, 4, 5, 6, 7, 8, 9, 10, 11, 12, 13, 14, 15, 16, 17, 18, 19, 20, 7, 8, 12, 1, 2, 3, 4, 5, 6, 8, 9, 10, 11, 12, 18, 3, 4, 10, 1, 4, 5, 6, 7, 8, 9, 10, 11, 17, 19, 20, 1, 2, 5, 6, 10, 12, 14, 16, 17, 18, 20, 18, 11, 1, 4, 10, 12, 18, 4, 11, 14, 1, 2, 4, 6, 7, 9, 11, 16, 18, 5, 12, 2, 5, 10, 17, 13, 12, 9, 11, 14, 16, 17, 1, 2, 3, 4, 5, 6, 7, 8, 9, 10, 11, 12, 13, 14, 15, 16, 17, 18, 19, 20, 1, 2, 3, 4, 5, 6, 7, 8, 9, 10, 11, 12, 13, 14, 15, 16, 17, 18, 19, 20, 1, 2, 3, 4, 5, 6, 7, 8, 9, 10, 11, 12, 13, 14, 15, 16, 17, 18, 19, 20, 10, 17, 1, 2, 3, 4, 5, 7, 8, 9, 10, 12, 13, 14, 15, 16, 17, 18, 6, 3, 14, 19, 13, 14, 3, 4, 8, 11, 16, 1, 2, 3, 4, 5, 6, 7, 8, 9, 10, 11, 12, 13, 14, 15, 16, 17, 18, 19, 3, 6, 9, 11, 3, 9, 9, 11, 12, 14, 15, 16, 17, 19, 10, 2, 1, 2, 3, 4, 5, 6, 8, 9, 10, 11, 12, 13, 14, 15, 16, 17, 18, 19, 1, 2, 3, 4, 5, 7, 8, 9, 10, 11, 12, 14, 15, 16, 17, 18, 19, 1, 6, 9, 11, 12, 20, 1, 2, 3, 4, 5, 6, 7, 8, 9, 10, 11, 12, 13, 14, 15, 16, 17, 18, 19, 20, 19, 7, 9, 2, 5, 9, 18, 1, 2, 3, 4, 5, 6, 7, 8, 9, 11, 12, 13, 14, 15, 16, 18, 19, 20, 1, 2, 4, 5, 8, 13, 15, 18, 9, 7, 18, 19, 6, 7, 4, 7, 8, 10, 13, 14, 17, 19, 7, 20, 2, 13, 1, 2, 3, 4, 5, 6, 7, 8, 9, 10, 11, 12, 13, 14, 15, 16, 17, 18, 19, 20, 1, 2, 3, 4, 5, 6, 7, 8, 9, 10, 11, 12, 13, 14, 15, 16, 17, 18, 19, 20, 1, 3, 12, 14, 1, 2, 3, 4, 5, 6, 7, 8, 9, 10, 11, 12, 13, 14, 15, 16, 17, 18, 19, 20, 11, 1, 2, 3, 4, 5, 6, 7, 8, 9, 10, 11, 12, 14, 15, 17, 18, 19, 20, 3, 9, 13, 1, 2, 3, 4, 5, 6, 7, 8, 9, 10, 11, 12, 13, 14, 15, 16, 17, 18, 19, 20, 11, 14, 17, 2, 7, 7, 8, 1, 2, 3, 4, 5, 6, 7, 8, 9, 10, 11, 12, 13, 14, 15, 16, 17, 18, 19, 20, 1, 4, 5, 6, 7, 9, 10, 11, 12, 13, 15, 1, 2, 4, 6, 8, 9, 10, 11, 12, 15, 1, 2, 4, 6, 7, 8, 10, 11, 13, 4, 7, 8, 10, 17, 13, 1, 2, 3, 4, 5, 6, 7, 8, 9, 10, 11, 12, 13, 14, 15, 16, 17, 18, 19, 20, 2, 3, 4, 6, 7, 9, 10, 11, 13, 14, 15, 16, 17, 1, 4, 5, 6, 8, 9, 18, 1, 2, 4, 5, 8, 9, 11, 12, 14, 15, 17, 18, 19, 20, 1, 2, 3, 4, 5, 6, 7, 8, 9, 10, 11, 12, 13, 14, 15, 16, 17, 18, 19, 20, 1, 2, 3, 4, 5, 6, 7, 8, 9, 10, 11, 12, 13, 14, 15, 16, 17, 18, 19, 20, 1, 3, 7, 13, 1, 5, 14, 17, 18, 20, 10, 9, 1, 2, 3, 4, 5, 6, 7, 8, 9, 10, 11, 12, 13, 14, 15, 16, 17, 18, 19, 20, 1, 2, 1, 4, 12, 8, 18, 20, 1, 2, 4, 7, 8, 9, 10, 11, 16, 1, 2, 3, 4, 5, 6, 7, 8, 9, 10, 11, 12, 13, 14, 15, 16, 17, 18, 19, 15, 1, 2, 3, 4, 5, 6, 7, 8, 9, 11, 12, 13, 14, 16, 17, 18, 19, 1, 9, 15, 20, 20, 19, 18, 9, 1, 4, 6, 9, 11, 12, 7, 9, 3], \"Freq\": [0.055811673402786255, 0.07906653732061386, 0.35114842653274536, 0.03953326866030693, 0.03953326866030693, 0.09534493833780289, 0.018603891134262085, 0.03255680948495865, 0.10464688390493393, 0.011627431958913803, 0.020929377526044846, 0.04650972783565521, 0.006976459175348282, 0.004650972783565521, 0.009301945567131042, 0.030231323093175888, 0.011627431958913803, 0.011627431958913803, 0.027905836701393127, 0.8125724792480469, 0.06561193615198135, 0.11892163008451462, 0.04100745916366577, 0.34446266293525696, 0.00820149201899767, 0.024604475125670433, 0.01640298403799534, 0.00820149201899767, 0.04510820284485817, 0.08201491832733154, 0.049208950251340866, 0.05741044133901596, 0.004100746009498835, 0.036906711757183075, 0.024604475125670433, 0.04100745916366577, 0.02870522066950798, 0.004100746009498835, 0.864661693572998, 0.05636414885520935, 0.18209955096244812, 0.16475674510002136, 0.0390213318169117, 0.0390213318169117, 0.01300711091607809, 0.004335703793913126, 0.01300711091607809, 0.05202844366431236, 0.03468563035130501, 0.13874252140522003, 0.06069985032081604, 0.008671407587826252, 0.008671407587826252, 0.04769274219870567, 0.10839259624481201, 0.008671407587826252, 0.004335703793913126, 0.004335703793913126, 0.01300711091607809, 0.9018784761428833, 0.8335590958595276, 0.8607650995254517, 0.9177498817443848, 0.8741877675056458, 0.09297578781843185, 0.7438063025474548, 0.8367990851402283, 0.12955275177955627, 0.151144877076149, 0.021592123433947563, 0.021592123433947563, 0.12955275177955627, 0.021592123433947563, 0.08636849373579025, 0.021592123433947563, 0.021592123433947563, 0.043184246867895126, 0.043184246867895126, 0.021592123433947563, 0.021592123433947563, 0.25910550355911255, 0.03844979405403137, 0.20323462784290314, 0.027464138343930244, 0.04394262284040451, 0.307598352432251, 0.010985655710101128, 0.06591393053531647, 0.016478482633829117, 0.016478482633829117, 0.021971311420202255, 0.010985655710101128, 0.016478482633829117, 0.027464138343930244, 0.1263350397348404, 0.010985655710101128, 0.021971311420202255, 0.010985655710101128, 0.005492827855050564, 0.005492827855050564, 0.04361322149634361, 0.18471482396125793, 0.04361322149634361, 0.07952999323606491, 0.0359167717397213, 0.08209548145532608, 0.015392902307212353, 0.11801224946975708, 0.01795838586986065, 0.028220320120453835, 0.12314321845769882, 0.0359167717397213, 0.007696451153606176, 0.04361322149634361, 0.007696451153606176, 0.07439902424812317, 0.028220320120453835, 0.007696451153606176, 0.01795838586986065, 0.00513096759095788, 0.06186714023351669, 0.09666740894317627, 0.3750695288181305, 0.03866696357727051, 0.04640035331249237, 0.019333481788635254, 0.0038666962645947933, 0.015466785058379173, 0.027066873386502266, 0.030933570116758347, 0.05800044164061546, 0.027066873386502266, 0.019333481788635254, 0.019333481788635254, 0.027066873386502266, 0.05413374677300453, 0.04640035331249237, 0.0038666962645947933, 0.011600088328123093, 0.015466785058379173, 0.06731570512056351, 0.06731570512056351, 0.011219283565878868, 0.033657852560281754, 0.011219283565878868, 0.011219283565878868, 0.14585068821907043, 0.22438567876815796, 0.10097355395555496, 0.022438567131757736, 0.011219283565878868, 0.033657852560281754, 0.011219283565878868, 0.011219283565878868, 0.011219283565878868, 0.022438567131757736, 0.033657852560281754, 0.15706998109817505, 0.8876562118530273, 0.023990709334611893, 0.023990709334611893, 0.07492072135210037, 0.8241279721260071, 0.055090323090553284, 0.09014780074357986, 0.3906404674053192, 0.015024634078145027, 0.02504105679690838, 0.04507390037178993, 0.005008211359381676, 0.07011495530605316, 0.06009853631258011, 0.020032845437526703, 0.030049268156290054, 0.04507390037178993, 0.020032845437526703, 0.020032845437526703, 0.005008211359381676, 0.04507390037178993, 0.020032845437526703, 0.010016422718763351, 0.015024634078145027, 0.010016422718763351, 0.6668157577514648, 0.6671021580696106, 0.052203260362148285, 0.013050815090537071, 0.35672229528427124, 0.026101630181074142, 0.004350271541625261, 0.008700543083250523, 0.03915244713425636, 0.02175135910511017, 0.03480217233300209, 0.008700543083250523, 0.013050815090537071, 0.026101630181074142, 0.20446276664733887, 0.03915244713425636, 0.013050815090537071, 0.02175135910511017, 0.03480217233300209, 0.004350271541625261, 0.06090380623936653, 0.017401086166501045, 0.7472842931747437, 0.8669787645339966, 0.057290419936180115, 0.028645209968090057, 0.057290419936180115, 0.028645209968090057, 0.7734206318855286, 0.0713401585817337, 0.0518837496638298, 0.15565125644207, 0.0518837496638298, 0.0453982837498188, 0.006485468707978725, 0.01297093741595745, 0.0453982837498188, 0.058369219303131104, 0.006485468707978725, 0.1297093778848648, 0.006485468707978725, 0.006485468707978725, 0.01945640705525875, 0.1751076579093933, 0.0843110978603363, 0.058369219303131104, 0.01297093741595745, 0.006485468707978725, 0.7407475709915161, 0.8365404009819031, 0.025337692350149155, 0.05067538470029831, 0.8361438512802124, 0.01337398961186409, 0.24073182046413422, 0.01337398961186409, 0.01337398961186409, 0.01337398961186409, 0.01337398961186409, 0.6419515013694763, 0.01337398961186409, 0.05326957628130913, 0.05326957628130913, 0.799043595790863, 0.20185092091560364, 0.555090069770813, 0.10092546045780182, 0.05046273022890091, 0.7853884100914001, 0.012082898989319801, 0.012082898989319801, 0.07249739021062851, 0.012082898989319801, 0.048331595957279205, 0.012082898989319801, 0.8668895959854126, 0.025180334225296974, 0.07554100453853607, 0.07554100453853607, 0.07554100453853607, 0.6798690557479858, 0.07056324928998947, 0.028225300833582878, 0.16935180127620697, 0.45160481333732605, 0.0987885519862175, 0.014112650416791439, 0.12701384723186493, 0.014112650416791439, 0.014112650416791439, 0.8442644476890564, 0.7221178412437439, 0.08188965171575546, 0.02233354188501835, 0.007444513961672783, 0.007444513961672783, 0.014889027923345566, 0.007444513961672783, 0.014889027923345566, 0.007444513961672783, 0.08188965171575546, 0.007444513961672783, 0.007444513961672783, 0.014889027923345566, 0.8769634962081909, 0.035078540444374084, 0.14316242933273315, 0.08992020040750504, 0.11594973504543304, 0.060341186821460724, 0.04377694055438042, 0.05087590217590332, 0.05560854449868202, 0.05324222519993782, 0.06270750612020493, 0.060341186821460724, 0.039044298231601715, 0.02602953091263771, 0.03312849625945091, 0.042593780905008316, 0.017747407779097557, 0.02484637126326561, 0.03194533288478851, 0.020113728940486908, 0.013014765456318855, 0.015381086617708206, 0.12434277683496475, 0.06447403132915497, 0.023026440292596817, 0.0552634596824646, 0.0828951895236969, 0.0828951895236969, 0.0276317298412323, 0.01381586492061615, 0.0276317298412323, 0.11973749101161957, 0.20723797380924225, 0.032237015664577484, 0.004605288151651621, 0.0276317298412323, 0.0276317298412323, 0.004605288151651621, 0.004605288151651621, 0.01381586492061615, 0.03684230521321297, 0.018421152606606483, 0.055323999375104904, 0.055323999375104904, 0.8298599720001221, 0.02124686725437641, 0.028329158201813698, 0.08498746901750565, 0.014164579100906849, 0.035411447286605835, 0.02124686725437641, 0.02124686725437641, 0.028329158201813698, 0.13456349074840546, 0.0070822895504534245, 0.40369048714637756, 0.09915205091238022, 0.0070822895504534245, 0.02124686725437641, 0.07082289457321167, 0.8247230052947998, 0.8033740520477295, 0.8635984063148499, 0.7813113331794739, 0.06835763901472092, 0.8202916383743286, 0.8979277014732361, 0.028965409845113754, 0.9145593047142029, 0.23652160167694092, 0.0551883727312088, 0.07292748987674713, 0.06307242810726166, 0.08475357294082642, 0.001971013378351927, 0.025623172521591187, 0.0275941863656044, 0.00591304013505578, 0.021681146696209908, 0.01182608027011156, 0.019710132852196693, 0.007884053513407707, 0.003942026756703854, 0.00591304013505578, 0.3133911192417145, 0.003942026756703854, 0.03744925186038017, 0.001971013378351927, 0.001971013378351927, 0.16461749374866486, 0.41977459192276, 0.09877049177885056, 0.05761612206697464, 0.008230874314904213, 0.016461748629808426, 0.09877049177885056, 0.008230874314904213, 0.04938524588942528, 0.041154373437166214, 0.008230874314904213, 0.016461748629808426, 0.008230874314904213, 0.8538784384727478, 0.07762531191110611, 0.11533357203006744, 0.2359095811843872, 0.29357635974884033, 0.02096973918378353, 0.010484869591891766, 0.09960626810789108, 0.005242434795945883, 0.03145461156964302, 0.06815165281295776, 0.005242434795945883, 0.02096973918378353, 0.005242434795945883, 0.005242434795945883, 0.03145461156964302, 0.04193947836756706, 0.010484869591891766, 0.6639767289161682, 0.06379847228527069, 0.003544359700754285, 0.02835487760603428, 0.04607667773962021, 0.0011814532335847616, 0.009451625868678093, 0.03071778453886509, 0.009451625868678093, 0.0047258129343390465, 0.0059072659350931644, 0.024810517206788063, 0.03662505000829697, 0.015358892269432545, 0.02599197067320347, 0.0023629064671695232, 0.003544359700754285, 0.01417743880301714, 0.0011814532335847616, 0.009451625868678093, 0.06906627863645554, 0.8287953734397888, 0.7397324442863464, 0.9070864915847778, 0.721892774105072, 0.1266976147890091, 0.0913601890206337, 0.1137692928314209, 0.06808919459581375, 0.05516086891293526, 0.057746533304452896, 0.0448182038962841, 0.05688464641571045, 0.05860842391848564, 0.03619932010769844, 0.05257520079612732, 0.025856656953692436, 0.03878498449921608, 0.043956317007541656, 0.03619932010769844, 0.02499476820230484, 0.023270990699529648, 0.01809966005384922, 0.01809966005384922, 0.007756996899843216, 0.1148470938205719, 0.8039296269416809, 0.4712611138820648, 0.03307095542550087, 0.07440964877605438, 0.024803215637803078, 0.008267738856375217, 0.3555127680301666, 0.008267738856375217, 0.2824805974960327, 0.10593022406101227, 0.0035310075618326664, 0.03531007468700409, 0.27188757061958313, 0.008827518671751022, 0.014124030247330666, 0.07238565385341644, 0.007062015123665333, 0.02824806049466133, 0.012358525767922401, 0.033544570207595825, 0.010593022219836712, 0.07238565385341644, 0.005296511109918356, 0.0035310075618326664, 0.007062015123665333, 0.014124030247330666, 0.0035310075618326664, 0.007062015123665333, 0.9087213277816772, 0.02817152440547943, 0.6761165857315063, 0.11268609762191772, 0.02817152440547943, 0.05634304881095886, 0.02817152440547943, 0.8482013940811157, 0.25364574790000916, 0.006674888078123331, 0.006674888078123331, 0.26032063364982605, 0.02002466470003128, 0.013349776156246662, 0.013349776156246662, 0.006674888078123331, 0.03337443992495537, 0.2069215327501297, 0.04004932940006256, 0.006674888078123331, 0.006674888078123331, 0.013349776156246662, 0.026699552312493324, 0.08677354454994202, 0.7448410987854004, 0.034991007298231125, 0.011663669720292091, 0.3615737557411194, 0.5481924414634705, 0.011663669720292091, 0.011663669720292091, 0.011663669720292091, 0.017877422273159027, 0.017877422273159027, 0.7329743504524231, 0.07150968909263611, 0.017877422273159027, 0.08938711136579514, 0.036232829093933105, 0.8695878386497498, 0.04063210263848305, 0.01625284180045128, 0.20316052436828613, 0.00812642090022564, 0.00812642090022564, 0.00812642090022564, 0.00812642090022564, 0.06501136720180511, 0.03250568360090256, 0.09751705080270767, 0.04063210263848305, 0.00812642090022564, 0.43882670998573303, 0.8077057600021362, 0.04751210659742355, 0.04751210659742355, 0.011722959578037262, 0.0022329448256641626, 0.825631320476532, 0.005582361947745085, 0.0011164724128320813, 0.0005582362064160407, 0.0022329448256641626, 0.0039076535031199455, 0.0061405980959534645, 0.0005582362064160407, 0.0027911809738725424, 0.003349417122080922, 0.07926953583955765, 0.008373542688786983, 0.013397668488323689, 0.013397668488323689, 0.0005582362064160407, 0.0039076535031199455, 0.013955905102193356, 0.0011164724128320813, 0.9245730638504028, 0.02251473255455494, 0.02251473255455494, 0.6979566812515259, 0.11257366091012955, 0.09005893021821976, 0.010348406620323658, 0.4139362871646881, 0.010348406620323658, 0.08278725296258926, 0.010348406620323658, 0.15522609651088715, 0.07243885099887848, 0.22766494750976562, 0.5403717160224915, 0.8831145763397217, 0.8985578417778015, 0.7772716283798218, 0.09010007232427597, 0.09010007232427597, 0.012871438637375832, 0.006435719318687916, 0.045050036162137985, 0.32178598642349243, 0.012871438637375832, 0.09010007232427597, 0.038614317774772644, 0.032178595662117004, 0.032178595662117004, 0.012871438637375832, 0.006435719318687916, 0.006435719318687916, 0.012871438637375832, 0.18020014464855194, 0.09171660244464874, 0.7337328195571899, 0.8258784413337708, 0.1765046864748001, 0.01307442132383585, 0.4706791639328003, 0.019611632451415062, 0.03268605098128319, 0.039223264902830124, 0.006537210661917925, 0.019611632451415062, 0.01307442132383585, 0.11766979098320007, 0.019611632451415062, 0.01307442132383585, 0.006537210661917925, 0.04576047509908676, 0.006537210661917925, 0.8494830131530762, 0.013484536670148373, 0.013484536670148373, 0.05393814668059349, 0.026969073340296745, 0.026969073340296745, 0.026969073340296745, 0.7146804332733154, 0.026969073340296745, 0.09439175575971603, 0.5865302085876465, 0.8758140206336975, 0.9389798045158386, 0.009106604382395744, 0.9379802942276001, 0.009106604382395744, 0.009106604382395744, 0.009106604382395744, 0.21555227041244507, 0.07042796909809113, 0.00426836172118783, 0.12591667473316193, 0.032012712210416794, 0.12805084884166718, 0.06615960597991943, 0.025610171258449554, 0.01707344688475132, 0.025610171258449554, 0.03841525688767433, 0.08536723256111145, 0.03414689376950264, 0.006402542814612389, 0.006402542814612389, 0.04054943844676018, 0.002134180860593915, 0.06189124658703804, 0.002134180860593915, 0.014939266256988049, 0.010515685193240643, 0.03154705464839935, 0.26289212703704834, 0.010515685193240643, 0.08412548154592514, 0.010515685193240643, 0.04206274077296257, 0.44165876507759094, 0.0630941092967987, 0.021031370386481285, 0.010515685193240643, 0.05184532701969147, 0.0777679905295372, 0.025922663509845734, 0.025922663509845734, 0.7258346080780029, 0.025922663509845734, 0.05874154716730118, 0.09545501321554184, 0.014685386791825294, 0.014685386791825294, 0.6388143301010132, 0.11748309433460236, 0.02937077358365059, 0.007342693395912647, 0.8505534529685974, 0.03749927133321762, 0.8249839544296265, 0.03749927133321762, 0.03749927133321762, 0.03514988347887993, 0.03514988347887993, 0.7029976844787598, 0.10544965416193008, 0.07029976695775986, 0.7807411551475525, 0.10786184668540955, 0.7550328969955444, 0.04373595118522644, 0.8747190237045288, 0.037914250046014786, 0.9099420309066772, 0.015838852152228355, 0.2850993275642395, 0.007919426076114178, 0.015838852152228355, 0.12671081721782684, 0.015838852152228355, 0.02375827729701996, 0.039597127586603165, 0.23758277297019958, 0.14254966378211975, 0.015838852152228355, 0.04751655459403992, 0.8728030920028687, 0.03813217207789421, 0.021184541285037994, 0.004236908163875341, 0.008473816327750683, 0.012710724957287312, 0.004236908163875341, 0.004236908163875341, 0.004236908163875341, 0.004236908163875341, 0.021184541285037994, 0.8645716309547424, 0.013301102444529533, 0.03990330547094345, 0.013301102444529533, 0.013301102444529533, 0.013301102444529533, 0.013301102444529533, 0.013301102444529533, 0.73725426197052, 0.008333470672369003, 0.008333470672369003, 0.008333470672369003, 0.016666941344738007, 0.008333470672369003, 0.008333470672369003, 0.9166818261146545, 0.008333470672369003, 0.008333470672369003, 0.008333470672369003, 0.7062693238258362, 0.03817671909928322, 0.190883606672287, 0.026033833622932434, 0.0781015008687973, 0.026033833622932434, 0.1562030017375946, 0.0781015008687973, 0.026033833622932434, 0.026033833622932434, 0.5467105507850647, 0.8662031292915344, 0.8337244391441345, 0.02386324293911457, 0.03579486533999443, 0.107384592294693, 0.011931621469557285, 0.011931621469557285, 0.011931621469557285, 0.011931621469557285, 0.011931621469557285, 0.05965810641646385, 0.011931621469557285, 0.05965810641646385, 0.5846494436264038, 0.03579486533999443, 0.011931621469557285, 0.006869386415928602, 0.013738772831857204, 0.006869386415928602, 0.02060815878212452, 0.006869386415928602, 0.9136283993721008, 0.006869386415928602, 0.006869386415928602, 0.8452420830726624, 0.010201089084148407, 0.1326141655445099, 0.010201089084148407, 0.010201089084148407, 0.010201089084148407, 0.03060326725244522, 0.7854838967323303, 0.015881219878792763, 0.04764366149902344, 0.6193675994873047, 0.11116854101419449, 0.1270497590303421, 0.031762439757585526, 0.015881219878792763, 0.015188626945018768, 0.12150901556015015, 0.015188626945018768, 0.653110921382904, 0.10632038861513138, 0.06075450778007507, 0.0073977382853627205, 0.843342125415802, 0.0073977382853627205, 0.0073977382853627205, 0.0073977382853627205, 0.03698869049549103, 0.03698869049549103, 0.0073977382853627205, 0.022193213924765587, 0.0073977382853627205, 0.0073977382853627205, 0.061174217611551285, 0.061174217611551285, 0.12234843522310257, 0.6117421984672546, 0.11611679196357727, 0.28642141819000244, 0.007741119246929884, 0.3793148398399353, 0.007741119246929884, 0.015482238493859768, 0.007741119246929884, 0.015482238493859768, 0.007741119246929884, 0.12385790795087814, 0.015482238493859768, 0.8004867434501648, 0.7430758476257324, 0.11732776463031769, 0.039109256118535995, 0.039109256118535995, 0.12384768575429916, 0.04128256067633629, 0.825651228427887, 0.8433235287666321, 0.9027811288833618, 0.01654386892914772, 0.00827193446457386, 0.918184757232666, 0.00827193446457386, 0.00827193446457386, 0.00827193446457386, 0.019438885152339935, 0.09719442576169968, 0.043737493455410004, 0.058316655457019806, 0.09233470261096954, 0.02429860644042492, 0.014579163864254951, 0.07775554060935974, 0.03887777030467987, 0.014579163864254951, 0.014579163864254951, 0.06803610175848007, 0.03887777030467987, 0.07289581745862961, 0.014579163864254951, 0.009719442576169968, 0.2721444070339203, 0.004859721288084984, 0.019438885152339935, 0.004859721288084984, 0.7390941977500916, 0.06569519639015198, 0.06569519639015198, 0.7883423566818237, 0.8329607844352722, 0.06742749363183975, 0.033713746815919876, 0.033713746815919876, 0.033713746815919876, 0.7417024374008179, 0.024934981018304825, 0.024934981018304825, 0.8976593017578125, 0.04194870963692665, 0.04194870963692665, 0.04194870963692665, 0.12584611773490906, 0.1677948385477066, 0.04194870963692665, 0.04194870963692665, 0.04194870963692665, 0.46143579483032227, 0.009292664006352425, 0.0371706560254097, 0.0371706560254097, 0.046463318169116974, 0.1858532726764679, 0.0371706560254097, 0.009292664006352425, 0.027877992019057274, 0.31595057249069214, 0.21373125910758972, 0.01858532801270485, 0.0371706560254097, 0.009292664006352425, 0.1782609522342682, 0.7130438089370728, 0.911247193813324, 0.027613550424575806, 0.8650723099708557, 0.06179087981581688, 0.014612928964197636, 0.05845171585679054, 0.014612928964197636, 0.8037111163139343, 0.04383878782391548, 0.02922585792839527, 0.039907775819301605, 0.7981554865837097, 0.039907775819301605, 0.039907775819301605, 0.9085351824760437, 0.003481368301436305, 0.8842675685882568, 0.01392547320574522, 0.003481368301436305, 0.01740684174001217, 0.003481368301436305, 0.003481368301436305, 0.003481368301436305, 0.00696273660287261, 0.010444104671478271, 0.00696273660287261, 0.003481368301436305, 0.020888209342956543, 0.003481368301436305, 0.003481368301436305, 0.010444104671478271, 0.9125316739082336, 0.6720213890075684, 0.043956607580184937, 0.02930440567433834, 0.02930440567433834, 0.07326101511716843, 0.08791321516036987, 0.01465220283716917, 0.043956607580184937, 0.02930440567433834, 0.10256542265415192, 0.01465220283716917, 0.14652203023433685, 0.33700066804885864, 0.02930440567433834, 0.28673055768013, 0.040008917450904846, 0.0044454350136220455, 0.0022227175068110228, 0.022227175533771515, 0.0044454350136220455, 0.02889532782137394, 0.5134477615356445, 0.0022227175068110228, 0.006668152753263712, 0.0044454350136220455, 0.01555902324616909, 0.0022227175068110228, 0.0022227175068110228, 0.026672611013054848, 0.0022227175068110228, 0.0022227175068110228, 0.01555902324616909, 0.017781740054488182, 0.12458360940217972, 0.15081173181533813, 0.006557032000273466, 0.01967109553515911, 0.0983554795384407, 0.013114064000546932, 0.013114064000546932, 0.026228128001093864, 0.013114064000546932, 0.0852414146065712, 0.013114064000546932, 0.006557032000273466, 0.11802657693624496, 0.22293908894062042, 0.07212734967470169, 0.006557032000273466, 0.006557032000273466, 0.5861926078796387, 0.025495927780866623, 0.8923574686050415, 0.09462347626686096, 0.8516112565994263, 0.9287124276161194, 0.9242753386497498, 0.042946312576532364, 0.042946312576532364, 0.021473156288266182, 0.6441947221755981, 0.021473156288266182, 0.042946312576532364, 0.042946312576532364, 0.08589262515306473, 0.021473156288266182, 0.1004130020737648, 0.0502065010368824, 0.0502065010368824, 0.1004130020737648, 0.0502065010368824, 0.5522714853286743, 0.0502065010368824, 0.9115658402442932, 0.056162279099226, 0.786271870136261, 0.056162279099226, 0.15585197508335114, 0.3562330901622772, 0.002783071016892791, 0.013915354385972023, 0.1530689001083374, 0.013915354385972023, 0.033396851271390915, 0.011132284067571163, 0.008349212817847729, 0.019481496885418892, 0.03061378002166748, 0.008349212817847729, 0.008349212817847729, 0.16698426008224487, 0.002783071016892791, 0.011132284067571163, 0.002783071016892791, 0.002783071016892791, 0.06913722306489944, 0.8296467065811157, 0.8804000616073608, 0.03827826306223869, 0.8537619113922119, 0.8106573224067688, 0.08106572926044464, 0.044518522918224335, 0.058216530829668045, 0.003424501745030284, 0.006849003490060568, 0.010273505933582783, 0.003424501745030284, 0.003424501745030284, 0.006849003490060568, 0.017122508957982063, 0.6985983848571777, 0.1232820674777031, 0.017122508957982063, 0.003424501745030284, 0.03323822095990181, 0.8974319696426392, 0.0900992676615715, 0.0900992676615715, 0.720794141292572, 0.057668738067150116, 0.057668738067150116, 0.8073623180389404, 0.7528253793716431, 0.04807518422603607, 0.8172781467437744, 0.7701114416122437, 0.04813196510076523, 0.04813196510076523, 0.9018116593360901, 0.014314809814095497, 0.014314809814095497, 0.9590922594070435, 0.7745993733406067, 0.028688866645097733, 0.11475546658039093, 0.061847735196352005, 0.8040205240249634, 0.8335908055305481, 0.08931329846382141, 0.8569849133491516, 0.06121320649981499, 0.07474368810653687, 0.047206539660692215, 0.015735512599349022, 0.15342125296592712, 0.10621470957994461, 0.06294205039739609, 0.035404905676841736, 0.03933878242969513, 0.047206539660692215, 0.04327265918254852, 0.0550742968916893, 0.04327265918254852, 0.03933878242969513, 0.019669391214847565, 0.02753714844584465, 0.011801634915173054, 0.0039338781498372555, 0.031471025198698044, 0.13768573105335236, 0.0039338781498372555, 0.6754089593887329, 0.0625627338886261, 0.01251254789531231, 0.02502509579062462, 0.5380395650863647, 0.02502509579062462, 0.02502509579062462, 0.01251254789531231, 0.02502509579062462, 0.23773840069770813, 0.06727991998195648, 0.005606659688055515, 0.005606659688055515, 0.6952258348464966, 0.005606659688055515, 0.01121331937611103, 0.005606659688055515, 0.005606659688055515, 0.01681997999548912, 0.005606659688055515, 0.005606659688055515, 0.005606659688055515, 0.005606659688055515, 0.005606659688055515, 0.005606659688055515, 0.15698647499084473, 0.18004311621189117, 0.750179648399353, 0.8095090985298157, 0.08095090836286545, 0.9273680448532104, 0.014490125700831413, 0.014490125700831413, 0.014490125700831413, 0.3053533732891083, 0.09771308302879333, 0.012214135378599167, 0.061070676892995834, 0.061070676892995834, 0.012214135378599167, 0.0366424061357975, 0.09771308302879333, 0.012214135378599167, 0.0366424061357975, 0.012214135378599167, 0.012214135378599167, 0.20764030516147614, 0.41817089915275574, 0.02814611792564392, 0.004020873922854662, 0.05629223585128784, 0.008041747845709324, 0.05629223585128784, 0.10454272478818893, 0.012062622234225273, 0.06433398276567459, 0.012062622234225273, 0.020104369148612022, 0.008041747845709324, 0.012062622234225273, 0.008041747845709324, 0.004020873922854662, 0.040208738297224045, 0.13670971989631653, 0.09427687525749207, 0.00523760449141264, 0.00523760449141264, 0.0733264610171318, 0.06808885186910629, 0.16236573457717896, 0.01047520898282528, 0.05237604305148125, 0.24092979729175568, 0.1728409379720688, 0.03142562508583069, 0.02095041796565056, 0.015712812542915344, 0.00523760449141264, 0.00523760449141264, 0.01047520898282528, 0.015712812542915344, 0.00523760449141264, 0.0709071084856987, 0.850885272026062, 0.12112511694431305, 0.7267506718635559, 0.8552426695823669, 0.8140900135040283, 0.7137075066566467, 0.05517126992344856, 0.06305287778377533, 0.17076821625232697, 0.12085135281085968, 0.05517126992344856, 0.015763219445943832, 0.015763219445943832, 0.23907549679279327, 0.06042567640542984, 0.09720651805400848, 0.015763219445943832, 0.007881609722971916, 0.013136016204953194, 0.01839042268693447, 0.007881609722971916, 0.007881609722971916, 0.013136016204953194, 0.010508812963962555, 0.0026272032409906387, 0.010508812963962555, 0.8565084934234619, 0.061179179698228836, 0.9005223512649536, 0.8736386895179749, 0.008164848200976849, 0.016329696401953697, 0.07348363101482391, 0.008164848200976849, 0.008164848200976849, 0.04129268601536751, 0.04129268601536751, 0.04129268601536751, 0.784561038017273, 0.04129268601536751, 0.8679636120796204, 0.013259757310152054, 0.013259757310152054, 0.4906110167503357, 0.43757200241088867, 0.012615137733519077, 0.15138165652751923, 0.025230275467038155, 0.5929114818572998, 0.012615137733519077, 0.17661193013191223, 0.012615137733519077, 0.012615137733519077, 0.8028428554534912, 0.8951628804206848, 0.03419169411063194, 0.03419169411063194, 0.03419169411063194, 0.7522172331809998, 0.03419169411063194, 0.03419169411063194, 0.8744611144065857, 0.022138256579637527, 0.011069128289818764, 0.022138256579637527, 0.022138256579637527, 0.011069128289818764, 0.011069128289818764, 0.7857240438461304, 0.03654530271887779, 0.018272651359438896, 0.018272651359438896, 0.018272651359438896, 0.018272651359438896, 0.018272651359438896, 0.018272651359438896, 0.009940960444509983, 0.009940960444509983, 0.009940960444509983, 0.009940960444509983, 0.9145683646202087, 0.019881920889019966, 0.009940960444509983, 0.8486850261688232, 0.03145933523774147, 0.03145933523774147, 0.06291867047548294, 0.7235646843910217, 0.03145933523774147, 0.03145933523774147, 0.03145933523774147, 0.060706060379743576, 0.8498848080635071, 0.49034959077835083, 0.010215616784989834, 0.010215616784989834, 0.010215616784989834, 0.040862467139959335, 0.051078084856271744, 0.020431233569979668, 0.020431233569979668, 0.010215616784989834, 0.010215616784989834, 0.010215616784989834, 0.30646848678588867, 0.8903981447219849, 0.8798731565475464, 0.7577047348022461, 0.10824353247880936, 0.8682852387428284, 0.01847415417432785, 0.01847415417432785, 0.01847415417432785, 0.0369483083486557, 0.019176146015524864, 0.03835229203104973, 0.05752843990921974, 0.09588073194026947, 0.7478697299957275, 0.019176146015524864, 0.019176146015524864, 0.06671922653913498, 0.8006306886672974, 0.27462276816368103, 0.0642734095454216, 0.061351895332336426, 0.04382278025150299, 0.02045063115656376, 0.029215186834335327, 0.04090126231312752, 0.17821264266967773, 0.08180252462625504, 0.014607593417167664, 0.0321367047727108, 0.005843037739396095, 0.058430373668670654, 0.029215186834335327, 0.04382278025150299, 0.014607593417167664, 0.005843037739396095, 0.0029215188696980476, 0.03991454839706421, 0.09313394129276276, 0.15965819358825684, 0.026609698310494423, 0.026609698310494423, 0.026609698310494423, 0.026609698310494423, 0.06652424484491348, 0.45236486196517944, 0.013304849155247211, 0.013304849155247211, 0.053219396620988846, 0.04926002025604248, 0.8374203443527222, 0.04926002025604248, 0.46917691826820374, 0.013799321837723255, 0.013799321837723255, 0.013799321837723255, 0.013799321837723255, 0.427778959274292, 0.8130102753639221, 0.7780063152313232, 0.7740156650543213, 0.044897355139255524, 0.044897355139255524, 0.8530497550964355, 0.03199853003025055, 0.17065882682800293, 0.010666176676750183, 0.053330887109041214, 0.04266470670700073, 0.08532941341400146, 0.021332353353500366, 0.010666176676750183, 0.010666176676750183, 0.03199853003025055, 0.03199853003025055, 0.4373132586479187, 0.053330887109041214, 0.05410563573241234, 0.05410563573241234, 0.8656901717185974, 0.846518337726593, 0.02169010229408741, 0.8892942070960999, 0.02169010229408741, 0.02169010229408741, 0.21151478588581085, 0.04881110414862633, 0.0018078186549246311, 0.12654730677604675, 0.016270367428660393, 0.028925098478794098, 0.05965801328420639, 0.1952444165945053, 0.09943002462387085, 0.03434855490922928, 0.06146583333611488, 0.027117280289530754, 0.005423455964773893, 0.01265473011881113, 0.01265473011881113, 0.01265473011881113, 0.01988600566983223, 0.01988600566983223, 0.0018078186549246311, 0.0036156373098492622, 0.10618044435977936, 0.06165315955877304, 0.09590491652488708, 0.08562938868999481, 0.04623986780643463, 0.07535386085510254, 0.025688815861940384, 0.11474338173866272, 0.018838465213775635, 0.025688815861940384, 0.0839167982339859, 0.02397622913122177, 0.013700702227652073, 0.0068503511138260365, 0.05994057282805443, 0.02226364053785801, 0.018838465213775635, 0.01541328988969326, 0.06679092347621918, 0.027401404455304146, 0.035337552428245544, 0.035337552428245544, 0.035337552428245544, 0.7420886158943176, 0.07067510485649109, 0.8674895167350769, 0.8173186779022217, 0.11525281518697739, 0.8067697286605835, 0.09258265048265457, 0.16312181949615479, 0.004408697597682476, 0.026452185586094856, 0.03526958078145981, 0.022043488919734955, 0.030860884115099907, 0.026452185586094856, 0.022043488919734955, 0.47173064947128296, 0.06613046675920486, 0.013226092793047428, 0.013226092793047428, 0.008817395195364952, 0.8381598591804504, 0.010476998053491116, 0.010476998053491116, 0.010476998053491116, 0.010476998053491116, 0.03143099322915077, 0.03143099322915077, 0.8951385617256165, 0.02081717737019062, 0.02081717737019062, 0.004309781827032566, 0.004309781827032566, 0.004309781827032566, 0.012929345481097698, 0.021548910066485405, 0.004309781827032566, 0.3361629843711853, 0.008619563654065132, 0.004309781827032566, 0.004309781827032566, 0.5904400944709778, 0.06454691290855408, 0.0586790107190609, 0.08215061575174332, 0.01760370284318924, 0.01760370284318924, 0.01173580251634121, 0.13496172428131104, 0.35794195532798767, 0.03520740568637848, 0.02933950535953045, 0.02347160503268242, 0.04107530787587166, 0.02347160503268242, 0.01173580251634121, 0.01173580251634121, 0.01173580251634121, 0.02933950535953045, 0.01173580251634121, 0.005867901258170605, 0.01760370284318924, 0.034750860184431076, 0.017375430092215538, 0.017375430092215538, 0.6255154609680176, 0.034750860184431076, 0.12162800878286362, 0.05212629213929176, 0.017375430092215538, 0.05212629213929176, 0.017375430092215538, 0.0543171726167202, 0.03259030357003212, 0.08690747618675232, 0.01086343452334404, 0.31503960490226746, 0.03259030357003212, 0.0543171726167202, 0.01086343452334404, 0.09777091443538666, 0.04345373809337616, 0.02172686904668808, 0.02172686904668808, 0.01086343452334404, 0.02172686904668808, 0.02172686904668808, 0.1629515141248703, 0.034974902868270874, 0.01632162183523178, 0.32876408100128174, 0.07694478332996368, 0.04196988418698311, 0.01398996077477932, 0.00699498038738966, 0.00699498038738966, 0.09093474596738815, 0.051296524703502655, 0.034974902868270874, 0.0396382212638855, 0.05595984309911728, 0.048964861780405045, 0.004663320258259773, 0.034974902868270874, 0.004663320258259773, 0.00699498038738966, 0.10259304940700531, 0.0023316601291298866, 0.8594093322753906, 0.009879847057163715, 0.03951938822865486, 0.009879847057163715, 0.009879847057163715, 0.9089459180831909, 0.04901817440986633, 0.7842907905578613, 0.04901817440986633, 0.06380002945661545, 0.3402668237686157, 0.5529335737228394, 0.8677069544792175, 0.7476771473884583, 0.8578665852546692, 0.03431466221809387, 0.9124397039413452, 0.03375891223549843, 0.793334424495697, 0.05063837021589279, 0.016879456117749214, 0.016879456117749214, 0.016879456117749214, 0.016879456117749214, 0.04824821650981903, 0.04824821650981903, 0.8202196955680847, 0.09649506956338882, 0.8362905979156494, 0.8526873588562012, 0.03797535225749016, 0.1898767650127411, 0.6835563778877258, 0.03797535225749016, 0.8246386051177979, 0.015395060181617737, 0.030790120363235474, 0.8621233701705933, 0.030790120363235474, 0.015395060181617737, 0.015395060181617737, 0.015395060181617737, 0.9277705550193787, 0.03146009147167206, 0.06292018294334412, 0.18876054883003235, 0.06292018294334412, 0.03146009147167206, 0.5033614635467529, 0.06292018294334412, 0.8883323073387146, 0.8845214247703552, 0.8734527826309204, 0.053616780787706375, 0.6816990971565247, 0.02297862060368061, 0.02297862060368061, 0.007659540511667728, 0.015319081023335457, 0.007659540511667728, 0.053616780787706375, 0.015319081023335457, 0.007659540511667728, 0.030638162046670914, 0.015319081023335457, 0.04595724120736122, 0.015319081023335457, 0.7762308120727539, 0.14921611547470093, 0.07912975549697876, 0.1288684606552124, 0.11756420880556107, 0.047477852553129196, 0.03617360070347786, 0.04182572662830353, 0.06104295328259468, 0.06669507920742035, 0.06330380588769913, 0.038434453308582306, 0.031651902943849564, 0.016956375911831856, 0.011304250918328762, 0.023738926276564598, 0.03956487774848938, 0.016956375911831856, 0.013565100729465485, 0.007912975735962391, 0.006782550364732742, 0.8641622066497803, 0.07869049161672592, 0.7869049310684204, 0.183625265955925, 0.1764710396528244, 0.007154230959713459, 0.038155898451805115, 0.07392705231904984, 0.033386413007974625, 0.1311608999967575, 0.1717015504837036, 0.023847436532378197, 0.023847436532378197, 0.014308461919426918, 0.0429253876209259, 0.007154230959713459, 0.014308461919426918, 0.007154230959713459, 0.02623218111693859, 0.004769487306475639, 0.009538974612951279, 0.0023847436532378197, 0.0023847436532378197, 0.8970189690589905, 0.009717992506921291, 0.9426453113555908, 0.009717992506921291, 0.009717992506921291, 0.009717992506921291, 0.009717992506921291, 0.8549827337265015, 0.9219661951065063, 0.8049991726875305, 0.08049991726875305, 0.8318575620651245, 0.8015131950378418, 0.07124561816453934, 0.017811404541134834, 0.05343421548604965, 0.7474307417869568, 0.029897229745984077, 0.11958891898393631, 0.014948614872992039, 0.04484584555029869, 0.010485670529305935, 0.2831130921840668, 0.010485670529305935, 0.46136948466300964, 0.1992277354001999, 0.010485670529305935, 0.010485670529305935, 0.8766831159591675, 0.7962088584899902, 0.775762677192688, 0.07757626473903656, 0.025096867233514786, 0.13552308082580566, 0.03513561189174652, 0.015058119781315327, 0.02007749304175377, 0.04015498608350754, 0.33629801869392395, 0.015058119781315327, 0.010038746520876884, 0.045174360275268555, 0.05521310493350029, 0.005019373260438442, 0.005019373260438442, 0.005019373260438442, 0.24594929814338684, 0.8513211607933044, 0.056754741817712784, 0.2027648687362671, 0.2580643594264984, 0.018433168530464172, 0.018433168530464172, 0.018433168530464172, 0.3870965540409088, 0.036866337060928345, 0.10853972285985947, 0.8683177828788757, 0.11178920418024063, 0.037263065576553345, 0.07452613115310669, 0.14905226230621338, 0.07452613115310669, 0.5216829180717468, 0.028548020869493484, 0.8564406037330627, 0.028548020869493484, 0.028548020869493484, 0.05156157538294792, 0.02578078769147396, 0.02578078769147396, 0.15468472242355347, 0.4382734000682831, 0.2578078806400299, 0.28710368275642395, 0.05742073804140091, 0.009570122696459293, 0.03828049078583717, 0.03828049078583717, 0.019140245392918587, 0.48807626962661743, 0.009570122696459293, 0.009570122696459293, 0.028710369020700455, 0.1020190492272377, 0.060659974813461304, 0.10477632284164429, 0.08547542244195938, 0.07031042873859406, 0.07168906182050705, 0.039980437606573105, 0.02481544390320778, 0.05514543130993843, 0.060659974813461304, 0.07306769490242004, 0.039980437606573105, 0.0206795372068882, 0.07858224213123322, 0.039980437606573105, 0.011029086075723171, 0.0206795372068882, 0.017922265455126762, 0.013786357827484608, 0.006893178913742304, 0.022217174991965294, 0.022217174991965294, 0.7998182773590088, 0.022217174991965294, 0.04443434998393059, 0.022217174991965294, 0.063690684735775, 0.07218277454376221, 0.016984181478619576, 0.1358734518289566, 0.050952546298503876, 0.2675008475780487, 0.004246045369654894, 0.008492090739309788, 0.050952546298503876, 0.021230226382613182, 0.08916695415973663, 0.16134972870349884, 0.008492090739309788, 0.012738136574625969, 0.004246045369654894, 0.004246045369654894, 0.016984181478619576, 0.8258781433105469, 0.9365638494491577, 0.2704249918460846, 0.13873977959156036, 0.00235152174718678, 0.03762434795498848, 0.06584261357784271, 0.05643652379512787, 0.01881217397749424, 0.01881217397749424, 0.05408500134944916, 0.05173347890377045, 0.05408500134944916, 0.13638825714588165, 0.02116369642317295, 0.00940608698874712, 0.007054565474390984, 0.00470304349437356, 0.014109130948781967, 0.01881217397749424, 0.01881217397749424, 0.025726454332470894, 0.04502129554748535, 0.012863227166235447, 0.03215806931257248, 0.0707477480173111, 0.06431613862514496, 0.038589682430028915, 0.012863227166235447, 0.09647420048713684, 0.012863227166235447, 0.29585421085357666, 0.04502129554748535, 0.10933742672204971, 0.019294841215014458, 0.03215806931257248, 0.019294841215014458, 0.012863227166235447, 0.0064316135831177235, 0.038589682430028915, 0.0064316135831177235, 0.843900740146637, 0.9180759787559509, 0.07002297788858414, 0.8402757048606873, 0.9047962427139282, 0.849824845790863, 0.07725680619478226, 0.9182497262954712, 0.024817561730742455, 0.10000483691692352, 0.02500120922923088, 0.02500120922923088, 0.07500362396240234, 0.02500120922923088, 0.02500120922923088, 0.02500120922923088, 0.6000289916992188, 0.02500120922923088, 0.02500120922923088, 0.8166542649269104, 0.024802887812256813, 0.049605775624513626, 0.024802887812256813, 0.8432981967926025, 0.7968205809593201, 0.036828745156526566, 0.9207186698913574, 0.12684226036071777, 0.6905856728553772, 0.028187168762087822, 0.07046792656183243, 0.028187168762087822, 0.014093584381043911, 0.024999959394335747, 0.7416654229164124, 0.008333319798111916, 0.008333319798111916, 0.008333319798111916, 0.037499938160181046, 0.020833298563957214, 0.012499979697167873, 0.004166659899055958, 0.008333319798111916, 0.008333319798111916, 0.05416657775640488, 0.008333319798111916, 0.024999959394335747, 0.012499979697167873, 0.004166659899055958, 0.008333319798111916, 0.012499979697167873, 0.8766368627548218, 0.017122481018304825, 0.017122481018304825, 0.8903690576553345, 0.017122481018304825, 0.6730808019638062, 0.04492262005805969, 0.8535298109054565, 0.04492262005805969, 0.043732065707445145, 0.08746413141489029, 0.021866032853722572, 0.6778470277786255, 0.021866032853722572, 0.10933016240596771, 0.09809166193008423, 0.12906797230243683, 0.06711535155773163, 0.0464644730091095, 0.16004429757595062, 0.06711535155773163, 0.0464644730091095, 0.05162719264626503, 0.0309763140976429, 0.041301753371953964, 0.0464644730091095, 0.025813596323132515, 0.0051627191714942455, 0.01548815704882145, 0.13423070311546326, 0.01548815704882145, 0.020650876685976982, 0.7460183501243591, 0.0856924057006836, 0.05712826922535896, 0.6284109354019165, 0.02856413461267948, 0.14282067120075226, 0.5846226811408997, 0.3720325827598572, 0.01419895514845848, 0.156188502907753, 0.04259686544537544, 0.0709947720170021, 0.01419895514845848, 0.01419895514845848, 0.01419895514845848, 0.11359164118766785, 0.08519373089075089, 0.01419895514845848, 0.01419895514845848, 0.08519373089075089, 0.312377005815506, 0.01419895514845848, 0.03334356099367142, 0.011114520020782948, 0.011114520020782948, 0.06668712198734283, 0.011114520020782948, 0.7446728348731995, 0.05557259917259216, 0.011114520020782948, 0.011114520020782948, 0.011114520020782948, 0.022229040041565895, 0.7463546395301819, 0.03051939234137535, 0.01017313078045845, 0.33571332693099976, 0.0610387846827507, 0.01017313078045845, 0.0203462615609169, 0.01017313078045845, 0.01017313078045845, 0.05086565390229225, 0.0203462615609169, 0.01017313078045845, 0.39675208926200867, 0.01017313078045845, 0.0203462615609169, 0.12841060757637024, 0.12841060757637024, 0.6420530676841736, 0.08903346955776215, 0.08903346955776215, 0.008903346955776215, 0.05342008173465729, 0.13355019688606262, 0.026710040867328644, 0.01780669391155243, 0.10684016346931458, 0.026710040867328644, 0.026710040867328644, 0.008903346955776215, 0.38284391164779663, 0.008903346955776215, 0.026710040867328644, 0.22023484110832214, 0.007341161370277405, 0.09543509781360626, 0.007341161370277405, 0.11011742055416107, 0.11011742055416107, 0.007341161370277405, 0.036705806851387024, 0.04404696822166443, 0.007341161370277405, 0.1394820660352707, 0.022023484110832214, 0.04404696822166443, 0.1321409046649933, 0.061417724937200546, 0.061417724937200546, 0.7984304428100586, 0.023315217345952988, 0.046630434691905975, 0.011657608672976494, 0.06994565576314926, 0.023315217345952988, 0.011657608672976494, 0.1632065325975418, 0.03497282788157463, 0.011657608672976494, 0.582880437374115, 0.10078052431344986, 0.8062441945075989, 0.10973858833312988, 0.05486929416656494, 0.05486929416656494, 0.7133008241653442, 0.11331520974636078, 0.011331520974636078, 0.011331520974636078, 0.011331520974636078, 0.011331520974636078, 0.04532608389854431, 0.1019836887717247, 0.033994562923908234, 0.09065216779708862, 0.011331520974636078, 0.033994562923908234, 0.011331520974636078, 0.022663041949272156, 0.4079347550868988, 0.011331520974636078, 0.033994562923908234, 0.033994562923908234, 0.011331520974636078, 0.2727871239185333, 0.012989862821996212, 0.012989862821996212, 0.012989862821996212, 0.025979725643992424, 0.05195945128798485, 0.12989862263202667, 0.012989862821996212, 0.4286654591560364, 0.7737395763397217, 0.9167764782905579, 0.012388871051371098, 0.012388871051371098, 0.024777742102742195, 0.012388871051371098, 0.8255913257598877, 0.06858862936496735, 0.013717724941670895, 0.1371772587299347, 0.6996039748191833, 0.013717724941670895, 0.02743544988334179, 0.04445122927427292, 0.8001221418380737, 0.08890245854854584, 0.090498186647892, 0.29411911964416504, 0.5656136870384216, 0.5728155374526978, 0.016366157680749893, 0.032732315361499786, 0.32732316851615906, 0.780909538269043, 0.014242049306631088, 0.6266501545906067, 0.007121024653315544, 0.07833126932382584, 0.007121024653315544, 0.007121024653315544, 0.08545229583978653, 0.05696819722652435, 0.07121024280786514, 0.028484098613262177, 0.007121024653315544, 0.007121024653315544, 0.8967710137367249, 0.023647548630833626, 0.020691605284810066, 0.0029559435788542032, 0.014779717661440372, 0.13301746547222137, 0.0029559435788542032, 0.7596774697303772, 0.008867830969393253, 0.0029559435788542032, 0.0029559435788542032, 0.0059118871577084064, 0.008867830969393253, 0.0029559435788542032, 0.0059118871577084064, 0.0059118871577084064, 0.006809958256781101, 0.006809958256781101, 0.8444347977638245, 0.013619916513562202, 0.013619916513562202, 0.03404979035258293, 0.013619916513562202, 0.013619916513562202, 0.006809958256781101, 0.006809958256781101, 0.006809958256781101, 0.006809958256781101, 0.006809958256781101, 0.006809958256781101, 0.006809958256781101, 0.013619916513562202, 0.8649552464485168, 0.740746796131134, 0.8488874435424805, 0.08084642142057419, 0.0548103004693985, 0.1644309014081955, 0.109620600938797, 0.0548103004693985, 0.5481030344963074, 0.9033427834510803, 0.7980871200561523, 0.06139132007956505, 0.7925624251365662, 0.9049674868583679, 0.03770697861909866, 0.029308859258890152, 0.029308859258890152, 0.058617718517780304, 0.8206480145454407, 0.004743157420307398, 0.9486315250396729, 0.004743157420307398, 0.009486314840614796, 0.004743157420307398, 0.004743157420307398, 0.004743157420307398, 0.004743157420307398, 0.004743157420307398, 0.004743157420307398, 0.728294849395752, 0.07416003197431564, 0.07416003197431564, 0.021188581362366676, 0.021188581362366676, 0.15891435742378235, 0.04237716272473335, 0.010594290681183338, 0.010594290681183338, 0.010594290681183338, 0.4661487936973572, 0.021188581362366676, 0.03178287297487259, 0.010594290681183338, 0.010594290681183338, 0.021188581362366676, 0.010594290681183338, 0.7399167418479919, 0.7419429421424866, 0.171835258603096, 0.11455684155225754, 0.05727842077612877, 0.6300626397132874, 0.6517238020896912, 0.011803369037806988, 0.05901684612035751, 0.24787075817584991, 0.023606738075613976, 0.011803369037806988, 0.5429549813270569, 0.07082021236419678, 0.011803369037806988, 0.7027817368507385, 0.04151714965701103, 0.2491029053926468, 0.6227572560310364, 0.7401502132415771, 0.8450170755386353, 0.03739500790834427, 0.08369359374046326, 0.10684288293123245, 0.133553609251976, 0.032052863389253616, 0.067667156457901, 0.056982871145009995, 0.06054430082440376, 0.05164072662591934, 0.04095643758773804, 0.09972002357244492, 0.053421441465616226, 0.03027215041220188, 0.02136857621371746, 0.0338335782289505, 0.016026431694626808, 0.019587861374020576, 0.007122858893126249, 0.035614293068647385, 0.01068428810685873, 0.892352819442749, 0.7897880673408508, 0.03656831383705139, 0.013297569006681442, 0.009973176755011082, 0.06648784875869751, 0.13297569751739502, 0.07978541404008865, 0.006648784503340721, 0.0033243922516703606, 0.0232707466930151, 0.019946353510022163, 0.12300251424312592, 0.13630008697509766, 0.016621962189674377, 0.016621962189674377, 0.1396244764328003, 0.009973176755011082, 0.056514669209718704, 0.0033243922516703606, 0.016621962189674377, 0.08975858986377716, 0.060330234467983246, 0.020110078155994415, 0.015082558616995811, 0.08546783030033112, 0.1508255898952484, 0.05027519538998604, 0.005027519538998604, 0.005027519538998604, 0.04022015631198883, 0.05027519538998604, 0.20110078155994415, 0.14579807221889496, 0.015082558616995811, 0.05027519538998604, 0.020110078155994415, 0.010055039077997208, 0.020110078155994415, 0.045247677713632584, 0.1580345183610916, 0.12317396700382233, 0.0069721112959086895, 0.034860555082559586, 0.20683929324150085, 0.04880477860569954, 0.0511288158595562, 0.04415670409798622, 0.07204514741897583, 0.030212482437491417, 0.055776890367269516, 0.018592296168208122, 0.0023240370210260153, 0.04648074135184288, 0.0511288158595562, 0.0046480740420520306, 0.013944222591817379, 0.009296148084104061, 0.0069721112959086895, 0.01162018533796072, 0.8317948579788208, 0.8115549087524414, 0.1639939546585083, 0.06091203913092613, 0.004685541614890099, 0.014056624844670296, 0.046855416148900986, 0.3279879093170166, 0.19679275155067444, 0.018742166459560394, 0.018742166459560394, 0.023427708074450493, 0.004685541614890099, 0.014056624844670296, 0.046855416148900986, 0.018742166459560394, 0.004685541614890099, 0.009371083229780197, 0.004685541614890099, 0.009371083229780197, 0.8806737065315247, 0.053329601883888245, 0.011851022019982338, 0.5273705124855042, 0.04147857800126076, 0.01777653396129608, 0.03555306792259216, 0.005925511009991169, 0.011851022019982338, 0.053329601883888245, 0.04147857800126076, 0.011851022019982338, 0.005925511009991169, 0.06518062204122543, 0.011851022019982338, 0.04147857800126076, 0.023702044039964676, 0.005925511009991169, 0.023702044039964676, 0.023702044039964676, 0.04108874499797821, 0.04108874499797821, 0.8628636598587036, 0.05777271091938019, 0.08665906637907028, 0.7799316048622131, 0.028886355459690094, 0.03745388984680176, 0.04993852227926254, 0.012484630569815636, 0.6492007970809937, 0.19975408911705017, 0.02496926113963127, 0.09407822042703629, 0.7526257634162903, 0.9152466654777527, 0.016056958585977554, 0.03211391717195511, 0.4903169870376587, 0.061597611755132675, 0.007391713559627533, 0.014783427119255066, 0.036958567798137665, 0.0024639044422656298, 0.019711235538125038, 0.19464844465255737, 0.0024639044422656298, 0.007391713559627533, 0.0049278088845312595, 0.017247330397367477, 0.014783427119255066, 0.02463904395699501, 0.0049278088845312595, 0.0024639044422656298, 0.0049278088845312595, 0.03203075751662254, 0.0024639044422656298, 0.05420589819550514, 0.05201248079538345, 0.05201248079538345, 0.07801872491836548, 0.008668746799230576, 0.04334373399615288, 0.19071243703365326, 0.14736869931221008, 0.01733749359846115, 0.01733749359846115, 0.05201248079538345, 0.01733749359846115, 0.008668746799230576, 0.04334373399615288, 0.008668746799230576, 0.008668746799230576, 0.008668746799230576, 0.2080499231815338, 0.008668746799230576, 0.01733749359846115, 0.008668746799230576, 0.03454594314098358, 0.01727297157049179, 0.03454594314098358, 0.011515313759446144, 0.023030627518892288, 0.10939548164606094, 0.028788285329937935, 0.011515313759446144, 0.005757656879723072, 0.12091079354286194, 0.023030627518892288, 0.4145512878894806, 0.04030359908938408, 0.005757656879723072, 0.01727297157049179, 0.09212251007556915, 0.005757656879723072, 0.8344628214836121, 0.8672755360603333, 0.025286506861448288, 0.025286506861448288, 0.050573013722896576, 0.05689464136958122, 0.22125692665576935, 0.031608134508132935, 0.006321626715362072, 0.05689464136958122, 0.3476894795894623, 0.031608134508132935, 0.01896487921476364, 0.006321626715362072, 0.006321626715362072, 0.01896487921476364, 0.10114602744579315, 0.06255058199167252, 0.06255058199167252, 0.7506069540977478, 0.018130196258425713, 0.23569254577159882, 0.018130196258425713, 0.018130196258425713, 0.16317176818847656, 0.018130196258425713, 0.07252078503370285, 0.05439058691263199, 0.018130196258425713, 0.018130196258425713, 0.018130196258425713, 0.018130196258425713, 0.30821332335472107, 0.09830810129642487, 0.08272267132997513, 0.10550137609243393, 0.06114283949136734, 0.08631930500268936, 0.032369740307331085, 0.0683361142873764, 0.025176463648676872, 0.07073387503623962, 0.09950697422027588, 0.027574222534894943, 0.051551807671785355, 0.032369740307331085, 0.027574222534894943, 0.04076189547777176, 0.0167843084782362, 0.027574222534894943, 0.01078991312533617, 0.0227787047624588, 0.01078991312533617, 0.8779642581939697, 0.7240248322486877, 0.03807263448834419, 0.07166613638401031, 0.004479133524000645, 0.0022395667620003223, 0.6472347378730774, 0.00671869982033968, 0.004479133524000645, 0.0022395667620003223, 0.0022395667620003223, 0.004479133524000645, 0.004479133524000645, 0.0022395667620003223, 0.17692576348781586, 0.004479133524000645, 0.0022395667620003223, 0.01343739964067936, 0.0022395667620003223, 0.00895826704800129, 0.8329682946205139, 0.20417580008506775, 0.035508833825588226, 0.008877208456397057, 0.17754416167736053, 0.15091253817081451, 0.017754416912794113, 0.09764929115772247, 0.02663162536919117, 0.008877208456397057, 0.017754416912794113, 0.017754416912794113, 0.21305300295352936, 0.008877208456397057, 0.08192132413387299, 0.04096066206693649, 0.16384264826774597, 0.04096066206693649, 0.12288198620080948, 0.4915279448032379, 0.41030141711235046, 0.05605210363864899, 0.004484168253839016, 0.015694590285420418, 0.08071503043174744, 0.02914709411561489, 0.031389180570840836, 0.013452504761517048, 0.011210421100258827, 0.026905009523034096, 0.04035751521587372, 0.05605210363864899, 0.017936673015356064, 0.015694590285420418, 0.011210421100258827, 0.006726252380758524, 0.05605210363864899, 0.05829418823122978, 0.002242084126919508, 0.05829418823122978, 0.7959148287773132, 0.9088351726531982, 0.1009911596775055, 0.07985347509384155, 0.023486316204071045, 0.16675284504890442, 0.02583494782447815, 0.03053221106529236, 0.03288084268569946, 0.02583494782447815, 0.13387200236320496, 0.044624000787734985, 0.11978021264076233, 0.07045894861221313, 0.009394526481628418, 0.0070458948612213135, 0.03288084268569946, 0.02583494782447815, 0.03053221106529236, 0.011743158102035522, 0.018789052963256836, 0.009394526481628418, 0.014445033855736256, 0.014445033855736256, 0.05778013542294502, 0.014445033855736256, 0.0722251683473587, 0.11556027084589005, 0.02889006771147251, 0.02889006771147251, 0.04333510249853134, 0.4477960467338562, 0.02889006771147251, 0.05778013542294502, 0.02889006771147251, 0.014445033855736256, 0.8559747934341431, 0.9007933735847473, 0.9260734915733337, 0.027237454429268837, 0.046834416687488556, 0.046834416687488556, 0.046834416687488556, 0.7961850762367249, 0.011661023832857609, 0.011661023832857609, 0.5713902115821838, 0.023322047665715218, 0.011661023832857609, 0.046644095331430435, 0.25654253363609314, 0.046644095331430435, 0.16289576888084412, 0.7330309152603149, 0.027149293571710587, 0.027149293571710587, 0.027149293571710587, 0.031148051843047142, 0.8721454739570618, 0.031148051843047142, 0.8605292439460754, 0.8559156656265259, 0.05213260278105736, 0.8341216444969177, 0.8508937954902649, 0.8334048986434937, 0.8266228437423706, 0.07514753192663193, 0.883568525314331, 0.04417842626571655, 0.017992252483963966, 0.026988379657268524, 0.03598450496792793, 0.09895738959312439, 0.09895738959312439, 0.1169496476650238, 0.1169496476650238, 0.026988379657268524, 0.07196900993585587, 0.04498063400387764, 0.332856684923172, 0.8676494359970093, 0.018527796491980553, 0.018527796491980553, 0.037055592983961105, 0.037055592983961105, 0.018527796491980553, 0.018527796491980553, 0.05558338761329651, 0.037055592983961105, 0.05558338761329651, 0.6670006513595581, 0.5881654024124146, 0.04010218381881714, 0.04010218381881714, 0.013367394916713238, 0.013367394916713238, 0.013367394916713238, 0.013367394916713238, 0.24061310291290283, 0.08530441671609879, 0.04265220835804939, 0.014217402786016464, 0.02843480557203293, 0.11373922228813171, 0.14928272366523743, 0.03554350882768631, 0.014217402786016464, 0.12795662879943848, 0.0781957134604454, 0.014217402786016464, 0.014217402786016464, 0.04265220835804939, 0.19193494319915771, 0.007108701393008232, 0.02843480557203293, 0.016175366938114166, 0.016175366938114166, 0.016175366938114166, 0.9381712675094604, 0.043639443814754486, 0.043639443814754486, 0.13091833889484406, 0.7418705821037292, 0.041063737124204636, 0.7802110314369202, 0.041063737124204636, 0.041063737124204636, 0.041063737124204636, 0.9112216830253601, 0.08287626504898071, 0.05755296349525452, 0.07366779446601868, 0.11280380934476852, 0.043740250170230865, 0.08978261798620224, 0.05525084212422371, 0.07596991211175919, 0.04604237154126167, 0.04604237154126167, 0.08287626504898071, 0.01841694861650467, 0.023021185770630836, 0.011510592885315418, 0.01841694861650467, 0.020719066262245178, 0.041438132524490356, 0.013812710531055927, 0.07136566936969757, 0.011510592885315418, 0.7454009652137756, 0.06428913027048111, 0.02142971195280552, 0.17143769562244415, 0.06428913027048111, 0.02142971195280552, 0.02142971195280552, 0.6000319123268127, 0.0739634782075882, 0.8135982751846313, 0.034526173025369644, 0.38718634843826294, 0.002466154983267188, 0.019729239866137505, 0.019729239866137505, 0.007398465182632208, 0.004932309966534376, 0.007398465182632208, 0.09864620119333267, 0.09864620119333267, 0.014796930365264416, 0.009864619933068752, 0.009864619933068752, 0.014796930365264416, 0.027127705514431, 0.22195395827293396, 0.012330775149166584, 0.002466154983267188, 0.002466154983267188, 0.004932309966534376, 0.7946464419364929, 0.12714342772960663, 0.0972856804728508, 0.02736159786581993, 0.1307276338338852, 0.07296425849199295, 0.06688390672206879, 0.0820847898721695, 0.08816514909267426, 0.030401775613427162, 0.05168301612138748, 0.039522308856248856, 0.06992408633232117, 0.09120532870292664, 0.0243214201182127, 0.02736159786581993, 0.015200887806713581, 0.018241064622998238, 0.018241064622998238, 0.01216071005910635, 0.02736159786581993, 0.009120532311499119, 0.04638082906603813, 0.11015446484088898, 0.0057976036332547665, 0.06377363950014114, 0.04638082906603813, 0.48120108246803284, 0.04638082906603813, 0.0057976036332547665, 0.0057976036332547665, 0.0057976036332547665, 0.08696405589580536, 0.017392810434103012, 0.017392810434103012, 0.0057976036332547665, 0.04638082906603813, 0.0057976036332547665, 0.013532869517803192, 0.013532869517803192, 0.013532869517803192, 0.06766434758901596, 0.8525707721710205, 0.013532869517803192, 0.003354931715875864, 0.8957667350769043, 0.010064794681966305, 0.006709863431751728, 0.006709863431751728, 0.013419726863503456, 0.003354931715875864, 0.010064794681966305, 0.003354931715875864, 0.003354931715875864, 0.003354931715875864, 0.006709863431751728, 0.010064794681966305, 0.003354931715875864, 0.006709863431751728, 0.003354931715875864, 0.010064794681966305, 0.06843139976263046, 0.03421569988131523, 0.8553924560546875, 0.02732219733297825, 0.0819665938615799, 0.0546443946659565, 0.3278663754463196, 0.02732219733297825, 0.437155157327652, 0.03798126429319382, 0.01899063214659691, 0.07596252858638763, 0.759625256061554, 0.01899063214659691, 0.01899063214659691, 0.01899063214659691, 0.01899063214659691, 0.010383706539869308, 0.010383706539869308, 0.06230223923921585, 0.010383706539869308, 0.031151119619607925, 0.031151119619607925, 0.5295690298080444, 0.08306965231895447, 0.1246044784784317, 0.010383706539869308, 0.020767413079738617, 0.031151119619607925, 0.010383706539869308, 0.010383706539869308, 0.010383706539869308, 0.8671489953994751, 0.21274124085903168, 0.3257141709327698, 0.0058687240816652775, 0.05575287714600563, 0.08069495856761932, 0.022007714956998825, 0.0836293175816536, 0.07335904985666275, 0.00880308635532856, 0.03521234542131424, 0.01467180997133255, 0.02054053358733654, 0.013204628601670265, 0.0058687240816652775, 0.007335904985666275, 0.01027026679366827, 0.0029343620408326387, 0.013204628601670265, 0.01027026679366827, 0.6662161946296692, 0.09125509858131409, 0.7300407886505127, 0.7912439703941345, 0.8698810935020447, 0.8557684421539307, 0.41252708435058594, 0.17154590785503387, 0.006126639898866415, 0.04799201339483261, 0.06330861151218414, 0.005105533171445131, 0.035738732665777206, 0.05003422498703003, 0.019401026889681816, 0.01225327979773283, 0.018379919230937958, 0.05207643657922745, 0.020422132685780525, 0.019401026889681816, 0.002042213222011924, 0.008168852888047695, 0.01735881343483925, 0.023485451936721802, 0.005105533171445131, 0.009189959615468979, 0.856854259967804, 0.06347068399190903, 0.913072943687439, 0.06474170088768005, 0.05664898827672005, 0.02427813783288002, 0.6797878742218018, 0.008092712610960007, 0.06474170088768005, 0.008092712610960007, 0.03237085044384003, 0.016185425221920013, 0.008092712610960007, 0.008092712610960007, 0.008092712610960007, 0.008092712610960007, 0.019218942150473595, 0.07687576860189438, 0.11531364917755127, 0.03843788430094719, 0.6534439921379089, 0.03843788430094719, 0.019218942150473595, 0.841548502445221, 0.06473449617624283, 0.8144876956939697, 0.7620260715484619, 0.26208746433258057, 0.22015346586704254, 0.4717574119567871, 0.010483497753739357, 0.010483497753739357, 0.011229810304939747, 0.022459620609879494, 0.05614905059337616, 0.06737886369228363, 0.04491924121975899, 0.011229810304939747, 0.011229810304939747, 0.6400991678237915, 0.011229810304939747, 0.011229810304939747, 0.011229810304939747, 0.0786086693406105, 0.02526012994349003, 0.05052025988698006, 0.02526012994349003, 0.7578039169311523, 0.02526012994349003, 0.10104051977396011, 0.8671751022338867, 0.06440892070531845, 0.06440892070531845, 0.8373159766197205, 0.8647286295890808, 0.8722141981124878, 0.8698428869247437, 0.16971416771411896, 0.03394283354282379, 0.06034281477332115, 0.03394283354282379, 0.06034281477332115, 0.09805707633495331, 0.022628555074334145, 0.08297137171030045, 0.03394283354282379, 0.05657138675451279, 0.06788566708564758, 0.03394283354282379, 0.003771425923332572, 0.03394283354282379, 0.003771425923332572, 0.11314277350902557, 0.003771425923332572, 0.06411424279212952, 0.022628555074334145, 0.03629986196756363, 0.03629986196756363, 0.03629986196756363, 0.018149930983781815, 0.018149930983781815, 0.8167468905448914, 0.0034337483812123537, 0.882473349571228, 0.013734993524849415, 0.0034337483812123537, 0.017168741673231125, 0.0034337483812123537, 0.006867496762424707, 0.0034337483812123537, 0.006867496762424707, 0.010301245376467705, 0.006867496762424707, 0.02060249075293541, 0.006867496762424707, 0.0034337483812123537, 0.010301245376467705, 0.7264332175254822, 0.8919939398765564, 0.02623511478304863, 0.02623511478304863, 0.9219452738761902, 0.5844259262084961, 0.8676545023918152, 0.057843636721372604, 0.9423086643218994, 0.006635976489633322, 0.013271952979266644, 0.006635976489633322, 0.013271952979266644, 0.006635976489633322, 0.5828425884246826, 0.023095540702342987, 0.042891718447208405, 0.05278980731964111, 0.006598725914955139, 0.06268789619207382, 0.1517706960439682, 0.3992229402065277, 0.07918471097946167, 0.042891718447208405, 0.013197451829910278, 0.009898088872432709, 0.049490444362163544, 0.009898088872432709, 0.009898088872432709, 0.0032993629574775696, 0.006598725914955139, 0.009898088872432709, 0.006598725914955139, 0.013197451829910278, 0.06116967648267746, 0.214093878865242, 0.042054153978824615, 0.042054153978824615, 0.03823104873299599, 0.06116967648267746, 0.015292419120669365, 0.042054153978824615, 0.019115524366497993, 0.22938628494739532, 0.0535234697163105, 0.03440794348716736, 0.015292419120669365, 0.0038231047801673412, 0.019115524366497993, 0.03823104873299599, 0.011469314806163311, 0.015292419120669365, 0.04970036447048187, 0.06907293945550919, 0.038373857736587524, 0.06139817088842392, 0.023024313151836395, 0.04604862630367279, 0.4451367259025574, 0.08442248404026031, 0.01534954272210598, 0.023024313151836395, 0.01534954272210598, 0.023024313151836395, 0.01534954272210598, 0.06907293945550919, 0.038373857736587524, 0.01534954272210598, 0.01534954272210598, 0.06851168721914291, 0.06851168721914291, 0.8221402168273926, 0.1580432653427124, 0.017560362815856934, 0.5619316101074219, 0.017560362815856934, 0.017560362815856934, 0.017560362815856934, 0.14048290252685547, 0.017560362815856934, 0.8171446323394775, 0.027565972879529, 0.027565972879529, 0.055131945759058, 0.7994132041931152, 0.027565972879529, 0.03914029523730278, 0.03914029523730278, 0.07828059047460556, 0.195701465010643, 0.6262447237968445, 0.03322150558233261, 0.03322150558233261, 0.008305376395583153, 0.5398494601249695, 0.008305376395583153, 0.17441290616989136, 0.02491612918674946, 0.02491612918674946, 0.041526880115270615, 0.02491612918674946, 0.06644301116466522, 0.05597328022122383, 0.05597328022122383, 0.027986640110611916, 0.0839599221944809, 0.7556392550468445, 0.01119786873459816, 0.01679680310189724, 0.00559893436729908, 0.13437442481517792, 0.02799466997385025, 0.13997335731983185, 0.02239573746919632, 0.03359360620379448, 0.30794137716293335, 0.2071605622768402, 0.01679680310189724, 0.01119786873459816, 0.01679680310189724, 0.03359360620379448, 0.042634833604097366, 0.021317416802048683, 0.021317416802048683, 0.7674269676208496, 0.021317416802048683, 0.021317416802048683, 0.021317416802048683, 0.021317416802048683, 0.021317416802048683, 0.08311234414577484, 0.033244937658309937, 0.6648987531661987, 0.033244937658309937, 0.09973481297492981, 0.016622468829154968, 0.016622468829154968, 0.017288552597165108, 0.008644276298582554, 0.8817161917686462, 0.025932829827070236, 0.008644276298582554, 0.008644276298582554, 0.025932829827070236, 0.06070670485496521, 0.06070670485496521, 0.09106005728244781, 0.7588338255882263, 0.24887794256210327, 0.022625267505645752, 0.6561327576637268, 0.06635158509016037, 0.0030159810557961464, 0.030159810557961464, 0.030159810557961464, 0.11460727453231812, 0.02412784844636917, 0.31366202235221863, 0.20508670806884766, 0.015079905278980732, 0.012063924223184586, 0.02412784844636917, 0.07841550558805466, 0.0030159810557961464, 0.03619177266955376, 0.01809588633477688, 0.02111186645925045, 0.43107232451438904, 0.4149574935436249, 0.004028713330626488, 0.0322297066450119, 0.004028713330626488, 0.004028713330626488, 0.004028713330626488, 0.004028713330626488, 0.004028713330626488, 0.008057426661252975, 0.004028713330626488, 0.004028713330626488, 0.06848812848329544, 0.004028713330626488, 0.004028713330626488, 0.004028713330626488, 0.008057426661252975, 0.11471738666296005, 0.1229114830493927, 0.002731366315856576, 0.02458229660987854, 0.0464332289993763, 0.10106055438518524, 0.021850930526852608, 0.032776396721601486, 0.08467235416173935, 0.17480744421482086, 0.02458229660987854, 0.030045030638575554, 0.030045030638575554, 0.008194099180400372, 0.013656831346452236, 0.06282142549753189, 0.027313662692904472, 0.005462732631713152, 0.016388198360800743, 0.054627325385808945, 0.9066749811172485, 0.09064558893442154, 0.015107599087059498, 0.007553799543529749, 0.8158103227615356, 0.015107599087059498, 0.015107599087059498, 0.007553799543529749, 0.015107599087059498, 0.7252671122550964, 0.07121571898460388, 0.03560785949230194, 0.01780392974615097, 0.1780392974615097, 0.07121571898460388, 0.01780392974615097, 0.5341178774833679, 0.01780392974615097, 0.03560785949230194, 0.01780392974615097, 0.8114719986915588, 0.054098132997751236, 0.8788490295410156, 0.7858840823173523, 0.04328644648194313, 0.014428815804421902, 0.8945866227149963, 0.014428815804421902, 0.18896250426769257, 0.21944032609462738, 0.01828669384121895, 0.10362459719181061, 0.0731467753648758, 0.0365733876824379, 0.01828669384121895, 0.04266895353794098, 0.04266895353794098, 0.0365733876824379, 0.01828669384121895, 0.01828669384121895, 0.15848468244075775, 0.01219112891703844, 0.01219112891703844, 0.833584725856781, 0.9233452081680298, 0.01884377934038639, 0.013681979849934578, 0.12313781678676605, 0.6430530548095703, 0.06840989738702774, 0.013681979849934578, 0.05472791939973831, 0.05472791939973831, 0.04487771540880203, 0.04487771540880203, 0.8526766300201416, 0.19169217348098755, 0.027384595945477486, 0.027384595945477486, 0.739384114742279, 0.7409401535987854, 0.8149427175521851, 0.10704658180475235, 0.6512000560760498, 0.04460274055600166, 0.008920548483729362, 0.017841096967458725, 0.026761645451188087, 0.017841096967458725, 0.026761645451188087, 0.017841096967458725, 0.026761645451188087, 0.008920548483729362, 0.017841096967458725, 0.026761645451188087, 0.10293117165565491, 0.8234493732452393, 0.007751069031655788, 0.34879809617996216, 0.18602564930915833, 0.015502138063311577, 0.007751069031655788, 0.015502138063311577, 0.02325320616364479, 0.007751069031655788, 0.007751069031655788, 0.04650641232728958, 0.02325320616364479, 0.2945406138896942, 0.007751069031655788, 0.7740391492843628, 0.03720001131296158, 0.03720001131296158, 0.03720001131296158, 0.7812002301216125, 0.03720001131296158, 0.8627318143844604, 0.10998734086751938, 0.6599240899085999, 0.8455793261528015, 0.7244111895561218, 0.05966775119304657, 0.029833875596523285, 0.029833875596523285, 0.8055146336555481, 0.25866979360580444, 0.10929708927869797, 0.003643236355856061, 0.07650796324014664, 0.07650796324014664, 0.007286472711712122, 0.01821618154644966, 0.21130770444869995, 0.007286472711712122, 0.03643236309289932, 0.003643236355856061, 0.03278912603855133, 0.029145890846848488, 0.10929708927869797, 0.003643236355856061, 0.003643236355856061, 0.003643236355856061, 0.010929709300398827, 0.003643236355856061, 0.03832158446311951, 0.8430748581886292, 0.03832158446311951, 0.03832158446311951, 0.8331874012947083, 0.8768855929374695, 0.7247542142868042, 0.03608287125825882, 0.23453867435455322, 0.01804143562912941, 0.05412431061267853, 0.5773259401321411, 0.01804143562912941, 0.01804143562912941, 0.03608287125825882, 0.0079438965767622, 0.47663381695747375, 0.0079438965767622, 0.0039719482883811, 0.0158877931535244, 0.0039719482883811, 0.0039719482883811, 0.0039719482883811, 0.0039719482883811, 0.2820083200931549, 0.0039719482883811, 0.05957922711968422, 0.019859742373228073, 0.0039719482883811, 0.0039719482883811, 0.09532675892114639, 0.472465842962265, 0.025864919647574425, 0.00344865582883358, 0.00172432791441679, 0.2569248676300049, 0.00172432791441679, 0.025864919647574425, 0.10690832883119583, 0.00689731165766716, 0.00689731165766716, 0.00517298374325037, 0.00862163957208395, 0.00517298374325037, 0.01551895122975111, 0.00172432791441679, 0.00344865582883358, 0.00172432791441679, 0.022416263818740845, 0.02414059080183506, 0.5834863781929016, 0.0054026516154408455, 0.0054026516154408455, 0.0027013258077204227, 0.09724772721529007, 0.0027013258077204227, 0.06483181565999985, 0.15397556126117706, 0.0054026516154408455, 0.0027013258077204227, 0.0054026516154408455, 0.010805303230881691, 0.0027013258077204227, 0.0054026516154408455, 0.0027013258077204227, 0.048623863607645035, 0.0027013258077204227, 0.7236671447753906, 0.8577510118484497, 0.5517175197601318, 0.04814289137721062, 0.0038514311891049147, 0.00577714666724205, 0.0808800533413887, 0.009628578089177608, 0.006740004755556583, 0.1848686933517456, 0.0038514311891049147, 0.002888573333621025, 0.007702862378209829, 0.0115542933344841, 0.0019257155945524573, 0.03370002284646034, 0.0019257155945524573, 0.0009628577972762287, 0.0038514311891049147, 0.015405724756419659, 0.0009628577972762287, 0.0231085866689682, 0.030262630432844162, 0.22394345700740814, 0.02421010285615921, 0.012105051428079605, 0.08473536372184753, 0.08473536372184753, 0.0060525257140398026, 0.018157577142119408, 0.02421010285615921, 0.02421010285615921, 0.0060525257140398026, 0.012105051428079605, 0.05447273328900337, 0.3328889310359955, 0.0060525257140398026, 0.018157577142119408, 0.02421010285615921, 0.4703693985939026, 0.09850667417049408, 0.004925333894789219, 0.020932668820023537, 0.16007335484027863, 0.019701335579156876, 0.04186533764004707, 0.056641340255737305, 0.004925333894789219, 0.003694000421091914, 0.00615666713565588, 0.014776001684367657, 0.004925333894789219, 0.02585800364613533, 0.003694000421091914, 0.004925333894789219, 0.0024626669473946095, 0.03447733819484711, 0.0012313334736973047, 0.019701335579156876, 0.009503711946308613, 0.04751855880022049, 0.06652598083019257, 0.009503711946308613, 0.009503711946308613, 0.8268229365348816, 0.009503711946308613, 0.009503711946308613, 0.009503711946308613, 0.07664797455072403, 0.019161993637681007, 0.009580996818840504, 0.009580996818840504, 0.028742989525198936, 0.009580996818840504, 0.27784889936447144, 0.009580996818840504, 0.009580996818840504, 0.5365357995033264, 0.04294264689087868, 0.01073566172271967, 0.01073566172271967, 0.04294264689087868, 0.182506263256073, 0.01073566172271967, 0.6656110286712646, 0.03853679075837135, 0.060557812452316284, 0.0770735815167427, 0.12111562490463257, 0.02202102169394493, 0.03853679075837135, 0.04404204338788986, 0.04954729974269867, 0.060557812452316284, 0.04404204338788986, 0.02202102169394493, 0.02752627804875374, 0.04404204338788986, 0.005505255423486233, 0.0715683251619339, 0.011010510846972466, 0.02752627804875374, 0.04954729974269867, 0.17616817355155945, 0.005505255423486233, 0.1151781976222992, 0.1727672964334488, 0.0575890988111496, 0.0287945494055748, 0.0575890988111496, 0.4607127904891968, 0.0863836482167244, 0.09767773002386093, 0.07325829565525055, 0.024419432505965233, 0.634905219078064, 0.12209716439247131, 0.911535918712616, 0.012649649754166603, 0.05059859901666641, 0.06324824690818787, 0.03794894739985466, 0.07589789479970932, 0.012649649754166603, 0.012649649754166603, 0.012649649754166603, 0.07589789479970932, 0.012649649754166603, 0.012649649754166603, 0.12649649381637573, 0.025299299508333206, 0.4553873836994171, 0.7740751504898071, 0.025948941707611084, 0.05189788341522217, 0.025948941707611084, 0.10379576683044434, 0.05189788341522217, 0.5968256592750549, 0.05189788341522217, 0.07499469071626663, 0.17498761415481567, 0.009999291971325874, 0.01999858394265175, 0.4649670720100403, 0.02499823085963726, 0.004999645985662937, 0.004999645985662937, 0.004999645985662937, 0.004999645985662937, 0.029997875913977623, 0.014998937956988811, 0.13999009132385254, 0.009999291971325874, 0.004999645985662937, 0.009999291971325874, 0.004999645985662937, 0.8670257925987244, 0.7035511136054993, 0.7740662693977356, 0.06791931390762329, 0.13583862781524658, 0.6791931390762329, 0.022608313709497452, 0.8817241787910461, 0.022608313709497452, 0.022608313709497452, 0.022608313709497452, 0.09052523970603943, 0.7823967337608337, 0.012932177633047104, 0.006466088816523552, 0.006466088816523552, 0.006466088816523552, 0.012932177633047104, 0.012932177633047104, 0.006466088816523552, 0.006466088816523552, 0.006466088816523552, 0.006466088816523552, 0.025864355266094208, 0.006466088816523552, 0.006466088816523552, 0.5944560170173645, 0.05752800032496452, 0.019176000729203224, 0.0767040029168129, 0.019176000729203224, 0.09588000178337097, 0.019176000729203224, 0.05752800032496452, 0.019176000729203224, 0.7243019938468933, 0.7984015941619873, 0.07424243539571762, 0.07424243539571762, 0.7424243092536926, 0.03244499862194061, 0.057679999619722366, 0.03244499862194061, 0.025234999135136604, 0.021630000323057175, 0.04686499759554863, 0.025234999135136604, 0.014419999904930592, 0.025234999135136604, 0.007209999952465296, 0.03965499997138977, 0.007209999952465296, 0.5443549752235413, 0.007209999952465296, 0.007209999952465296, 0.007209999952465296, 0.014419999904930592, 0.07930999994277954, 0.04766780510544777, 0.7626848816871643, 0.04766780510544777, 0.04766780510544777, 0.0936959832906723, 0.4140757918357849, 0.0483592189848423, 0.012089804746210575, 0.084628626704216, 0.078583724796772, 0.066493920981884, 0.012089804746210575, 0.0060449023731052876, 0.033246960490942, 0.02720206044614315, 0.009067352861166, 0.02720206044614315, 0.042314313352108, 0.0030224511865526438, 0.009067352861166, 0.021157156676054, 0.0060449023731052876, 0.0030224511865526438, 0.03907402977347374, 0.02930552326142788, 0.009768507443368435, 0.009768507443368435, 0.009768507443368435, 0.26374971866607666, 0.03907402977347374, 0.45911985635757446, 0.04884253814816475, 0.03907402977347374, 0.009768507443368435, 0.01953701488673687, 0.01953701488673687, 0.04594888165593147, 0.022974440827965736, 0.6432843208312988, 0.11487220227718353, 0.04594888165593147, 0.04594888165593147, 0.022974440827965736, 0.00928247906267643, 0.0030941597651690245, 0.006188319530338049, 0.7982932329177856, 0.08354231715202332, 0.015470799058675766, 0.05569487810134888, 0.0030941597651690245, 0.0030941597651690245, 0.0030941597651690245, 0.00928247906267643, 0.0030941597651690245, 0.0030941597651690245, 0.0030941597651690245, 0.8407358527183533, 0.06151725724339485, 0.010252876207232475, 0.030758628621697426, 0.02050575241446495, 0.010252876207232475, 0.010252876207232475, 0.9285908937454224, 0.008843722753226757, 0.008843722753226757, 0.012401512823998928, 0.012401512823998928, 0.03720453754067421, 0.7812952995300293, 0.024803025647997856, 0.024803025647997856, 0.012401512823998928, 0.012401512823998928, 0.04960605129599571, 0.012401512823998928, 0.12555880844593048, 0.1531204879283905, 0.006124819628894329, 0.006124819628894329, 0.4624238908290863, 0.018374459818005562, 0.012249639257788658, 0.01531204953789711, 0.012249639257788658, 0.01531204953789711, 0.01531204953789711, 0.018374459818005562, 0.006124819628894329, 0.08574747294187546, 0.0030624098144471645, 0.0030624098144471645, 0.012249639257788658, 0.021436868235468864, 0.009187229909002781, 0.11114547401666641, 0.055572737008333206, 0.11114547401666641, 0.6668728590011597, 0.09846837818622589, 0.7385128736495972, 0.049234189093112946, 0.06048956885933876, 0.9073435068130493, 0.8616812229156494, 0.9046834111213684, 0.028271356597542763, 0.5868340134620667, 0.3586207926273346, 0.8726410269737244, 0.0253022238612175, 0.0253022238612175, 0.8602756261825562, 0.0253022238612175, 0.050604447722435, 0.9323009848594666, 0.023307524621486664, 0.7951634526252747, 0.07951634377241135, 0.914984941482544, 0.9012069702148438, 0.9253163933753967, 0.8253486156463623, 0.011114380322396755, 0.05557190254330635, 0.5779477953910828, 0.04445752128958702, 0.03334314003586769, 0.011114380322396755, 0.011114380322396755, 0.23340198397636414, 0.791448175907135, 0.015742722898721695, 0.22039811313152313, 0.23614083230495453, 0.44079622626304626, 0.03148544579744339, 0.015742722898721695, 0.7894077897071838, 0.47272562980651855, 0.1202547699213028, 0.004146716091781855, 0.01658686436712742, 0.022806938737630844, 0.09330110996961594, 0.012440148741006851, 0.018660223111510277, 0.022806938737630844, 0.037320446223020554, 0.06842081993818283, 0.03939380496740341, 0.02902701310813427, 0.00829343218356371, 0.0020733580458909273, 0.006220074370503426, 0.0020733580458909273, 0.018660223111510277, 0.0020733580458909273, 0.0020733580458909273, 0.008257280103862286, 0.0016514561139047146, 0.006605824455618858, 0.7695785164833069, 0.13707084953784943, 0.011560192331671715, 0.034680578857660294, 0.003302912227809429, 0.0016514561139047146, 0.003302912227809429, 0.0016514561139047146, 0.0016514561139047146, 0.006605824455618858, 0.003302912227809429, 0.006605824455618858, 0.0016514561139047146, 0.09309254586696625, 0.09309254586696625, 0.74474036693573, 0.7776220440864563, 0.8661432266235352, 0.03464572876691818, 0.05728708952665329, 0.8593063354492188, 0.8760169744491577, 0.012514527887105942, 0.012514527887105942, 0.037543583661317825, 0.025029055774211884, 0.5730797052383423, 0.009243221022188663, 0.009243221022188663, 0.009243221022188663, 0.009243221022188663, 0.009243221022188663, 0.04621610417962074, 0.009243221022188663, 0.1663779765367508, 0.1571347564458847, 0.07848171889781952, 0.07848171889781952, 0.7063354253768921, 0.0073024313896894455, 0.0036512156948447227, 0.0073024313896894455, 0.7813601493835449, 0.13144376873970032, 0.010953647084534168, 0.021907294169068336, 0.010953647084534168, 0.0073024313896894455, 0.0036512156948447227, 0.0036512156948447227, 0.0036512156948447227, 0.0036512156948447227, 0.007339137140661478, 0.014678274281322956, 0.007339137140661478, 0.8476703763008118, 0.06605223566293716, 0.007339137140661478, 0.01834784261882305, 0.01100870594382286, 0.003669568570330739, 0.003669568570330739, 0.003669568570330739, 0.003669568570330739, 0.003669568570330739, 0.8692068457603455, 0.0338398776948452, 0.8798367977142334, 0.6011500954627991, 0.02796046994626522, 0.01398023497313261, 0.01398023497313261, 0.041940703988075256, 0.25164422392845154, 0.4608718454837799, 0.004307213705033064, 0.004307213705033064, 0.06030099093914032, 0.004307213705033064, 0.008614427410066128, 0.07752984762191772, 0.004307213705033064, 0.03445770964026451, 0.004307213705033064, 0.012921640649437904, 0.004307213705033064, 0.004307213705033064, 0.11629477143287659, 0.1938246190547943, 0.8570124506950378, 0.06734247505664825, 0.20202742516994476, 0.04040548577904701, 0.013468494638800621, 0.013468494638800621, 0.4040548503398895, 0.026936989277601242, 0.013468494638800621, 0.013468494638800621, 0.026936989277601242, 0.013468494638800621, 0.013468494638800621, 0.0942794680595398, 0.013468494638800621, 0.013468494638800621, 0.8036776185035706, 0.08036775887012482, 0.049107108265161514, 0.049107108265161514, 0.7857137322425842, 0.8556929230690002, 0.05245334282517433, 0.10490668565034866, 0.7343468070030212, 0.05245334282517433, 0.06873724609613419, 0.06873724609613419, 0.03436862304806709, 0.7561097145080566, 0.1439645141363144, 0.09821878373622894, 0.07130952924489975, 0.08610961586236954, 0.04574573412537575, 0.03094564378261566, 0.07130952924489975, 0.0524730458855629, 0.07938230037689209, 0.03767295554280281, 0.0524730458855629, 0.025563793256878853, 0.03498203307390213, 0.055163972079753876, 0.020181940868496895, 0.009418238885700703, 0.013454627245664597, 0.04440027102828026, 0.022872867062687874, 0.005381850991398096, 0.1424085944890976, 0.015823176130652428, 0.5432624220848083, 0.010548784397542477, 0.010548784397542477, 0.005274392198771238, 0.05274392291903496, 0.005274392198771238, 0.010548784397542477, 0.005274392198771238, 0.005274392198771238, 0.005274392198771238, 0.08966466784477234, 0.010548784397542477, 0.005274392198771238, 0.058018315583467484, 0.021097568795084953, 0.044071946293115616, 0.08263490349054337, 0.033053960651159286, 0.34706658124923706, 0.033053960651159286, 0.08814389258623123, 0.016526980325579643, 0.016526980325579643, 0.022035973146557808, 0.0771259069442749, 0.022035973146557808, 0.044071946293115616, 0.011017986573278904, 0.005508993286639452, 0.005508993286639452, 0.12670685350894928, 0.022035973146557808, 0.005508993286639452, 0.33595362305641174, 0.17277614772319794, 0.0023996687959879637, 0.026396356523036957, 0.014398012310266495, 0.016797680407762527, 0.1991725116968155, 0.05999171733856201, 0.03119569458067417, 0.011998344212770462, 0.014398012310266495, 0.035995032638311386, 0.035995032638311386, 0.004799337591975927, 0.0023996687959879637, 0.011998344212770462, 0.004799337591975927, 0.014398012310266495, 0.004799337591975927, 0.125100240111351, 0.11372748762369156, 0.022745497524738312, 0.06823649257421494, 0.4662826955318451, 0.022745497524738312, 0.011372748762369156, 0.03411824628710747, 0.045490995049476624, 0.045490995049476624, 0.011372748762369156, 0.011372748762369156, 0.011372748762369156, 0.8165485858917236, 0.9271882772445679, 0.009090080857276917, 0.009090080857276917, 0.009090080857276917, 0.009090080857276917, 0.009090080857276917, 0.009090080857276917, 0.9259408116340637, 0.01624457538127899, 0.01624457538127899, 0.601067304611206, 0.2671410143375397, 0.037078797817230225, 0.018539398908615112, 0.8898911476135254, 0.6652317643165588, 0.05305900797247887, 0.8489441275596619, 0.05806447193026543, 0.06967736780643463, 0.02322578988969326, 0.12774184346199036, 0.06967736780643463, 0.01161289494484663, 0.01161289494484663, 0.02322578988969326, 0.13935473561286926, 0.02322578988969326, 0.06967736780643463, 0.01161289494484663, 0.02322578988969326, 0.2670965790748596, 0.02322578988969326, 0.06967736780643463, 0.7419571876525879, 0.8470668196678162, 0.04114558547735214, 0.8640573024749756, 0.04114558547735214, 0.6812422275543213, 0.0239814892411232, 0.5036112666130066, 0.2398148775100708, 0.007993829436600208, 0.03197531774640083, 0.07993829250335693, 0.05595680698752403, 0.007993829436600208, 0.0239814892411232, 0.007993829436600208, 0.6961776614189148, 0.046411845833063126, 0.015470614656805992, 0.17017675936222076, 0.030941229313611984, 0.015470614656805992, 0.0286342054605484, 0.06299525499343872, 0.09019774943590164, 0.09449288249015808, 0.05870012193918228, 0.06585866957902908, 0.05583669990301132, 0.05154157057404518, 0.0429513081908226, 0.06585866957902908, 0.09735629707574844, 0.06156354397535324, 0.04867814853787422, 0.03149762749671936, 0.04867814853787422, 0.03865617886185646, 0.01861223392188549, 0.01145368255674839, 0.01574881374835968, 0.01002197153866291, 0.8666443228721619, 0.8131178617477417, 0.005507159046828747, 0.005507159046828747, 0.011014318093657494, 0.897666871547699, 0.05507158860564232, 0.005507159046828747, 0.005507159046828747, 0.005507159046828747, 0.022119145840406418, 0.9068849682807922, 0.022119145840406418, 0.18242639303207397, 0.5472791790962219, 0.9001181125640869, 0.16230380535125732, 0.12323067337274551, 0.009016877971589565, 0.05410126969218254, 0.012022504583001137, 0.03606751188635826, 0.07213502377271652, 0.0841575339436531, 0.04809001833200455, 0.030056260526180267, 0.09918566048145294, 0.07514065504074097, 0.006011252291500568, 0.015028130263090134, 0.0450843907892704, 0.0841575339436531, 0.009016877971589565, 0.021039383485913277, 0.009016877971589565, 0.003005626145750284, 0.06738638877868652, 0.41274166107177734, 0.008423298597335815, 0.008423298597335815, 0.042116496711969376, 0.1095028892159462, 0.008423298597335815, 0.01684659719467163, 0.004211649298667908, 0.1600426882505417, 0.01684659719467163, 0.1137145385146141, 0.004211649298667908, 0.01684659719467163, 0.004211649298667908, 0.034773193299770355, 0.06954638659954071, 0.7302370071411133, 0.10431957244873047, 0.034773193299770355, 0.543818473815918, 0.8918266892433167, 0.02074015699326992, 0.02074015699326992, 0.04148031398653984, 0.05374724790453911, 0.05374724790453911, 0.6987141966819763, 0.10749449580907822, 0.8787280917167664, 0.7436811327934265, 0.013750414364039898, 0.28875869512557983, 0.5362661480903625, 0.11000331491231918, 0.013750414364039898, 0.004257338121533394, 0.004257338121533394, 0.13197746872901917, 0.059602729976177216, 0.004257338121533394, 0.008514676243066788, 0.004257338121533394, 0.008514676243066788, 0.004257338121533394, 0.7663208246231079, 0.1606670469045639, 0.7497795224189758, 0.12600629031658173, 0.756037712097168, 0.06300314515829086, 0.947189450263977, 0.8606486320495605, 0.06620374321937561, 0.07938291132450104, 0.11718429625034332, 0.05292194336652756, 0.060482218861579895, 0.05481201037764549, 0.051031872630119324, 0.051031872630119324, 0.04347159340977669, 0.056702081114053726, 0.10962402075529099, 0.051031872630119324, 0.03213118016719818, 0.034021247178316116, 0.02268083207309246, 0.05292194336652756, 0.01134041603654623, 0.060482218861579895, 0.015120554715394974, 0.030241109430789948, 0.015120554715394974, 0.9021695256233215, 0.7932049632072449, 0.0296980831772089, 0.8909425139427185, 0.04578299820423126, 0.04578299820423126, 0.04578299820423126, 0.6867449879646301, 0.09156599640846252, 0.8977421522140503, 0.17938166856765747, 0.029896944761276245, 0.7175266742706299, 0.09203895181417465, 0.013148421421647072, 0.039445266127586365, 0.026296842843294144, 0.07889053225517273, 0.013148421421647072, 0.026296842843294144, 0.013148421421647072, 0.013148421421647072, 0.039445266127586365, 0.013148421421647072, 0.5259368419647217, 0.013148421421647072, 0.013148421421647072, 0.06574210524559021, 0.026296842843294144, 0.8366086483001709, 0.06435450911521912, 0.06854843348264694, 0.08315711468458176, 0.0022474895231425762, 0.06854843348264694, 0.07641464471817017, 0.17867541313171387, 0.03708357736468315, 0.028093619272112846, 0.07641464471817017, 0.09327081590890884, 0.04045481234788895, 0.07641464471817017, 0.008989958092570305, 0.039331067353487015, 0.04157855734229088, 0.03483608737587929, 0.011237448081374168, 0.021351151168346405, 0.006742468569427729, 0.006742468569427729, 0.014049173332750797, 0.9272454380989075, 0.014049173332750797, 0.014049173332750797, 0.014049173332750797, 0.8936706781387329, 0.0869205966591835, 0.7822853922843933, 0.012935841456055641, 0.8408296704292297, 0.03233960270881653, 0.051743365824222565, 0.006467920728027821, 0.006467920728027821, 0.012935841456055641, 0.006467920728027821, 0.019403763115406036, 0.006467920728027821, 0.05369707942008972, 0.017899025231599808, 0.035798050463199615, 0.017899025231599808, 0.035798050463199615, 0.08949512988328934, 0.017899025231599808, 0.017899025231599808, 0.698062002658844, 0.03669906407594681, 0.04403887689113617, 0.08073794096708298, 0.3816702663898468, 0.014679625630378723, 0.014679625630378723, 0.03669906407594681, 0.022019438445568085, 0.05871850252151489, 0.029359251260757446, 0.029359251260757446, 0.022019438445568085, 0.08073794096708298, 0.03669906407594681, 0.014679625630378723, 0.007339812815189362, 0.04403887689113617, 0.05137868970632553, 0.04359518736600876, 0.04359518736600876, 0.04359518736600876, 0.7847133278846741, 0.8332772254943848, 0.7399523258209229, 0.9004753232002258, 0.09560394287109375, 0.1241173967719078, 0.11237656325101852, 0.08721762895584106, 0.04360881447792053, 0.030190719291567802, 0.11740835011005402, 0.06876774877309799, 0.03857703134417534, 0.046963341534137726, 0.016772622242569923, 0.03186798095703125, 0.026836194097995758, 0.02012714557349682, 0.03186798095703125, 0.053672388195991516, 0.023481670767068863, 0.0067090485244989395, 0.01844988390803337, 0.0067090485244989395, 0.021106764674186707, 0.6120961904525757, 0.08442705869674683, 0.06332029402256012, 0.08442705869674683, 0.04221352934837341, 0.06332029402256012, 0.021106764674186707, 0.01605094037950039, 0.01605094037950039, 0.19261127710342407, 0.5136300921440125, 0.03210188075900078, 0.19261127710342407, 0.14649920165538788, 0.7324960231781006, 0.1830018162727356, 0.10727693140506744, 0.02681923285126686, 0.031552039086818695, 0.10727693140506744, 0.061526473611593246, 0.06941448152065277, 0.05521606653928757, 0.05679366737604141, 0.04259525239467621, 0.05679366737604141, 0.02366402931511402, 0.015776019543409348, 0.018931223079562187, 0.03628484532237053, 0.02366402931511402, 0.009465611539781094, 0.02366402931511402, 0.014198416844010353, 0.034707240760326385, 0.7739334106445312, 0.00930752418935299, 0.00930752418935299, 0.03723009675741196, 0.01861504837870598, 0.7632169723510742, 0.01861504837870598, 0.055845145136117935, 0.00930752418935299, 0.027922572568058968, 0.027922572568058968, 0.00930752418935299, 0.01861504837870598, 0.8715754747390747, 0.02584010921418667, 0.05168021842837334, 0.10336043685674667, 0.23256097733974457, 0.07752032577991486, 0.46512195467948914, 0.02584010921418667, 0.13766291737556458, 0.6883146166801453, 0.012716030701994896, 0.9409862756729126, 0.006358015350997448, 0.006358015350997448, 0.006358015350997448, 0.006358015350997448, 0.006358015350997448, 0.7854256629943848, 0.8155025243759155, 0.05835876241326332, 0.02501089870929718, 0.008336965925991535, 0.0208424162119627, 0.004168482962995768, 0.2209296077489853, 0.06252724677324295, 0.01250544935464859, 0.01250544935464859, 0.2626144289970398, 0.07920117676258087, 0.008336965925991535, 0.008336965925991535, 0.01250544935464859, 0.15840235352516174, 0.008336965925991535, 0.02501089870929718, 0.004168482962995768, 0.008336965925991535, 0.07527370005846024, 0.03763685002923012, 0.7903738617897034, 0.03763685002923012, 0.08659257739782333, 0.8081974387168884, 0.028864193707704544, 0.028864193707704544, 0.9056485295295715, 0.07905272394418716, 0.1976318210363388, 0.03952636197209358, 0.5928954482078552, 0.03952636197209358, 0.4230661988258362, 0.19550786912441254, 0.008012617938220501, 0.016025235876441002, 0.11217664182186127, 0.004807570483535528, 0.020832804962992668, 0.08172869682312012, 0.0032050469890236855, 0.004807570483535528, 0.008012617938220501, 0.02724289894104004, 0.008012617938220501, 0.028845423832535744, 0.0016025234945118427, 0.0032050469890236855, 0.0032050469890236855, 0.04326813295483589, 0.0016025234945118427, 0.006410093978047371, 0.4462604224681854, 0.12709948420524597, 0.005648866295814514, 0.025419898331165314, 0.08190856128931046, 0.13557279109954834, 0.016946598887443542, 0.005648866295814514, 0.014122165739536285, 0.002824433147907257, 0.06496196240186691, 0.016946598887443542, 0.008473299443721771, 0.002824433147907257, 0.008473299443721771, 0.005648866295814514, 0.022595465183258057, 0.002824433147907257, 0.002824433147907257, 0.15746408700942993, 0.7085883617401123, 0.059049032628536224, 0.01968301087617874, 0.01968301087617874, 0.09296883642673492, 0.06197922304272652, 0.17664077877998352, 0.012395844794809818, 0.012395844794809818, 0.06507818400859833, 0.09296883642673492, 0.009296883828938007, 0.14875014126300812, 0.027890650555491447, 0.018593767657876015, 0.04028649628162384, 0.04958337917923927, 0.03098961152136326, 0.006197922397404909, 0.021692728623747826, 0.10226571559906006, 0.009296883828938007, 0.009296883828938007, 0.009296883828938007, 0.8453071713447571, 0.8637115955352783, 0.06169368699193001, 0.8614426255226135, 0.0391564816236496, 0.0391564816236496, 0.8768691420555115, 0.06583034247159958, 0.06583034247159958, 0.7241337299346924, 0.0233401320874691, 0.7188760638237, 0.04201223701238632, 0.004668026231229305, 0.0233401320874691, 0.00933605246245861, 0.014004078693687916, 0.0233401320874691, 0.00933605246245861, 0.004668026231229305, 0.00933605246245861, 0.00933605246245861, 0.004668026231229305, 0.08869250118732452, 0.00933605246245861, 0.00933605246245861, 0.8716863393783569, 0.050954509526491165, 0.8662266135215759, 0.8178419470787048, 0.12632016837596893, 0.06477957218885422, 0.06477957218885422, 0.09716936200857162, 0.04210672527551651, 0.03886774554848671, 0.03238978609442711, 0.03238978609442711, 0.022672850638628006, 0.08097446709871292, 0.07125753164291382, 0.10688629746437073, 0.061540596187114716, 0.009716936387121677, 0.009716936387121677, 0.003238978795707226, 0.006477957591414452, 0.09393038600683212, 0.012955915182828903, 0.019433872774243355, 0.1671213060617447, 0.12170790135860443, 0.09082679450511932, 0.065395288169384, 0.038147252053022385, 0.021798430010676384, 0.08901026099920273, 0.058129146695137024, 0.03996378928422928, 0.032697644084692, 0.05267953872680664, 0.03633071854710579, 0.038147252053022385, 0.021798430010676384, 0.029064573347568512, 0.007266143336892128, 0.010899215005338192, 0.021798430010676384, 0.04359686002135277, 0.014532286673784256, 0.9019675254821777, 0.11025337874889374, 0.05512668937444687, 0.05512668937444687, 0.05512668937444687, 0.05512668937444687, 0.606393575668335, 0.05512668937444687, 0.8376263976097107, 0.7231166362762451, 0.20889870822429657, 0.005095090717077255, 0.005095090717077255, 0.12737727165222168, 0.005095090717077255, 0.591030478477478, 0.005095090717077255, 0.01019018143415451, 0.005095090717077255, 0.005095090717077255, 0.01019018143415451, 0.015285272151231766, 0.8984654545783997, 0.11704383790493011, 0.02508082240819931, 0.016720548272132874, 0.016720548272132874, 0.016720548272132874, 0.016720548272132874, 0.016720548272132874, 0.008360274136066437, 0.17556574940681458, 0.041801370680332184, 0.016720548272132874, 0.30933013558387756, 0.02508082240819931, 0.016720548272132874, 0.15048493444919586, 0.02508082240819931, 0.274069219827652, 0.12410681694746017, 0.0025855586864054203, 0.04912561550736427, 0.11376458406448364, 0.04912561550736427, 0.05171117186546326, 0.020684469491243362, 0.02585558593273163, 0.05171117186546326, 0.01809891127049923, 0.08273787796497345, 0.010342234745621681, 0.05171117186546326, 0.0025855586864054203, 0.020684469491243362, 0.023270027711987495, 0.005171117372810841, 0.020684469491243362, 0.0025855586864054203, 0.03150685504078865, 0.1890411376953125, 0.03150685504078865, 0.0630137100815773, 0.6301370859146118, 0.9473839998245239, 0.010410812683403492, 0.010410812683403492, 0.010410812683403492, 0.8895379900932312, 0.04235894978046417, 0.9300658106803894, 0.18361805379390717, 0.16428984701633453, 0.009664108045399189, 0.4252207577228546, 0.009664108045399189, 0.009664108045399189, 0.038656432181596756, 0.009664108045399189, 0.02899232506752014, 0.009664108045399189, 0.009664108045399189, 0.05798465013504028, 0.009664108045399189, 0.019328216090798378, 0.009664108045399189, 0.009664108045399189, 0.009664108045399189, 0.07286075502634048, 0.8014683127403259, 0.04868939891457558, 0.02434469945728779, 0.02434469945728779, 0.04868939891457558, 0.8033751249313354, 0.8151277303695679, 0.8545651435852051, 0.8137056231498718, 0.09690354764461517, 0.14737413823604584, 0.002018823754042387, 0.038357652723789215, 0.030282357707619667, 0.1029600128531456, 0.09892236441373825, 0.008075295016169548, 0.024225886911153793, 0.042395301163196564, 0.2139953225851059, 0.042395301163196564, 0.008075295016169548, 0.02624470926821232, 0.05047059431672096, 0.004037647508084774, 0.016150590032339096, 0.006056471727788448, 0.03633882850408554, 0.008075295016169548, 0.9300861954689026, 0.03205409646034241, 0.769298255443573, 0.03205409646034241, 0.03205409646034241, 0.03205409646034241, 0.03205409646034241, 0.1428043246269226, 0.05040152743458748, 0.00840025395154953, 0.6132185459136963, 0.02520076371729374, 0.04200127348303795, 0.02520076371729374, 0.00840025395154953, 0.01680050790309906, 0.00840025395154953, 0.03360101580619812, 0.00840025395154953, 0.014478523284196854, 0.04343556985259056, 0.014478523284196854, 0.8831899166107178, 0.014478523284196854, 0.14636282622814178, 0.058545131236314774, 0.10245398432016373, 0.043908849358558655, 0.043908849358558655, 0.5708150267601013, 0.9253008961677551, 0.034270402044057846, 0.04493173584342003, 0.07863053679466248, 0.014977245591580868, 0.13853952288627625, 0.0673976019024849, 0.09360778331756592, 0.014977245591580868, 0.018721556290984154, 0.06365329027175903, 0.05616467073559761, 0.08986347168684006, 0.018721556290984154, 0.03744311258196831, 0.003744311397895217, 0.11607365310192108, 0.011232933960855007, 0.029954491183161736, 0.018721556290984154, 0.07488622516393661, 0.007488622795790434, 0.07215050607919693, 0.0318586640059948, 0.15554523468017578, 0.1705375462770462, 0.07496156543493271, 0.03373270109295845, 0.043102897703647614, 0.053410112857818604, 0.03935481980443001, 0.044976938515901566, 0.029984625056385994, 0.02342548780143261, 0.021551448851823807, 0.022488469257950783, 0.009370195679366589, 0.07870963960886002, 0.06278030574321747, 0.005622117314487696, 0.016866350546479225, 0.011244234628975391, 0.802263081073761, 0.11270207166671753, 0.08955789357423782, 0.012075222097337246, 0.0976080447435379, 0.12477729469537735, 0.052325960248708725, 0.0372319333255291, 0.09660177677869797, 0.054338496178388596, 0.06540744751691818, 0.08352028578519821, 0.04326954483985901, 0.012075222097337246, 0.03320686146616936, 0.023144174367189407, 0.007043879479169846, 0.019119100645184517, 0.012075222097337246, 0.00905641634017229, 0.016100294888019562, 0.06342732906341553, 0.07678045332431793, 0.12017809599637985, 0.06676560640335083, 0.2069733887910843, 0.02002968266606331, 0.060089047998189926, 0.016691401600837708, 0.030044523999094963, 0.026706242933869362, 0.06676560640335083, 0.026706242933869362, 0.04673592746257782, 0.05007420480251312, 0.033382803201675415, 0.05007420480251312, 0.013353121466934681, 0.010014841333031654, 0.010014841333031654, 0.0033382803667336702, 0.03288879618048668, 0.09866638481616974, 0.03288879618048668, 0.23022155463695526, 0.5591095089912415, 0.8668921589851379, 0.016306230798363686, 0.9294551610946655, 0.016306230798363686, 0.016306230798363686, 0.015544502064585686, 0.9326701164245605, 0.015544502064585686, 0.8182849287986755, 0.006494325120002031, 0.012988650240004063, 0.012988650240004063, 0.006494325120002031, 0.03896595165133476, 0.006494325120002031, 0.012988650240004063, 0.006494325120002031, 0.012988650240004063, 0.03896595165133476, 0.006494325120002031, 0.006494325120002031, 0.006494325120002031, 0.8433129787445068, 0.01441560685634613, 0.007207803428173065, 0.01441560685634613, 0.050454623997211456, 0.007207803428173065, 0.007207803428173065, 0.01441560685634613, 0.007207803428173065, 0.021623410284519196, 0.007207803428173065, 0.0638158842921257, 0.16751670837402344, 0.05583890154957771, 0.04387342184782028, 0.07578136771917343, 0.047861915081739426, 0.04387342184782028, 0.07976985722780228, 0.0638158842921257, 0.05185040831565857, 0.05185040831565857, 0.027919450774788857, 0.011965478770434856, 0.007976985536515713, 0.07179287075996399, 0.007976985536515713, 0.01994246430695057, 0.09572383016347885, 0.007976985536515713, 0.003988492768257856, 0.15787063539028168, 0.7104178667068481, 0.08552347868680954, 0.08552347868680954, 0.7697113156318665, 0.022501511499285698, 0.9000604748725891, 0.022501511499285698, 0.9011341333389282, 0.8549748659133911, 0.8409149050712585, 0.08409149199724197, 0.10549056529998779, 0.8439245223999023, 0.04115854203701019, 0.054878056049346924, 0.0017149392515420914, 0.02572408877313137, 0.005144817754626274, 0.0068597570061683655, 0.6328126192092896, 0.09775153547525406, 0.017149392515420914, 0.04115854203701019, 0.0017149392515420914, 0.0068597570061683655, 0.015434453263878822, 0.0034298785030841827, 0.0068597570061683655, 0.017149392515420914, 0.005144817754626274, 0.013719514012336731, 0.0017149392515420914, 0.005144817754626274, 0.15356579422950745, 0.011812753975391388, 0.011812753975391388, 0.011812753975391388, 0.05906376987695694, 0.7205779552459717, 0.011812753975391388, 0.011812753975391388, 0.8969956636428833, 0.9115129709243774, 0.0689009428024292, 0.7579103708267212, 0.0689009428024292, 0.15106730163097382, 0.0581028088927269, 0.002905140398070216, 0.02905140444636345, 0.5200201272964478, 0.005810280796140432, 0.011620561592280865, 0.02324112318456173, 0.005810280796140432, 0.04067196696996689, 0.02905140444636345, 0.020335983484983444, 0.043577104806900024, 0.011620561592280865, 0.008715420961380005, 0.002905140398070216, 0.002905140398070216, 0.026146264746785164, 0.005810280796140432, 0.02142004482448101, 0.8568018078804016, 0.02142004482448101, 0.02142004482448101, 0.02142004482448101, 0.8810725808143616, 0.04405362904071808, 0.05323590338230133, 0.08745898306369781, 0.011407693848013878, 0.07224872708320618, 0.026617951691150665, 0.0418282113969326, 0.03422308340668678, 0.23195643723011017, 0.1216820701956749, 0.04563077539205551, 0.03422308340668678, 0.09126155078411102, 0.022815387696027756, 0.0038025646936148405, 0.06084103509783745, 0.0038025646936148405, 0.05703847110271454, 0.07468955218791962, 0.07468955218791962, 0.002987582003697753, 0.059751641005277634, 0.002987582003697753, 0.09261504560709, 0.050788894295692444, 0.002987582003697753, 0.07170196622610092, 0.3375967741012573, 0.11950328201055527, 0.050788894295692444, 0.002987582003697753, 0.002987582003697753, 0.005975164007395506, 0.002987582003697753, 0.029875820502638817, 0.002987582003697753, 0.011950328014791012, 0.23996788263320923, 0.14577488601207733, 0.010092107579112053, 0.05606726184487343, 0.032519012689590454, 0.024669595062732697, 0.11101318150758743, 0.1334400773048401, 0.026912285014986992, 0.05830995365977287, 0.03027632087469101, 0.019062869250774384, 0.026912285014986992, 0.023548249155282974, 0.01794152334332466, 0.003364035626873374, 0.00897076167166233, 0.020184215158224106, 0.003364035626873374, 0.003364035626873374, 0.15545397996902466, 0.07676739990711212, 0.007676740176975727, 0.047979626804590225, 0.06525228917598724, 0.088282510638237, 0.06525228917598724, 0.040302883833646774, 0.09787843376398087, 0.023030219599604607, 0.11323191970586777, 0.03838369995355606, 0.02494940534234047, 0.053737182170152664, 0.028787774965167046, 0.034545332193374634, 0.026868591085076332, 0.0038383700884878635, 0.0019191850442439318, 0.005757554899901152, 0.016816865652799606, 0.05045059695839882, 0.03363373130559921, 0.016816865652799606, 0.03363373130559921, 0.8072095513343811, 0.016816865652799606, 0.777565062046051, 0.8342344164848328, 0.07130060344934464, 0.03565030172467232, 0.81995689868927, 0.08762877434492111, 0.11955554038286209, 0.059777770191431046, 0.0665706992149353, 0.07200504094362259, 0.07472221553325653, 0.055022720247507095, 0.03396464139223099, 0.0570605993270874, 0.055022720247507095, 0.061136357486248016, 0.03192676231265068, 0.040757570415735245, 0.02717171423137188, 0.029888885095715523, 0.031247470527887344, 0.019699493423104286, 0.03464393690228462, 0.03396464139223099, 0.008151514455676079, 0.8665885329246521, 0.04850242659449577, 0.7032851576805115, 0.04850242659449577, 0.024251213297247887, 0.024251213297247887, 0.024251213297247887, 0.04850242659449577, 0.024251213297247887, 0.024251213297247887, 0.03990442305803299, 0.03990442305803299, 0.03990442305803299, 0.7182796001434326, 0.07980884611606598, 0.03990442305803299, 0.012921894900500774, 0.8786888718605042, 0.03876568377017975, 0.006460947450250387, 0.006460947450250387, 0.006460947450250387, 0.02584378980100155, 0.04283379390835762, 0.04283379390835762, 0.8566758632659912, 0.7770739793777466, 0.036675021052360535, 0.036675021052360535, 0.11002505570650101, 0.055012527853250504, 0.07335004210472107, 0.018337510526180267, 0.055012527853250504, 0.018337510526180267, 0.605137825012207, 0.013046231120824814, 0.013046231120824814, 0.9132362008094788, 0.026092462241649628, 0.013046231120824814, 0.12176772207021713, 0.69001704454422, 0.08117847889661789, 0.08504574745893478, 0.7654117345809937, 0.08504574745893478, 0.035251226276159286, 0.08812806755304337, 0.14100490510463715, 0.07050245255231857, 0.017625613138079643, 0.5992708206176758, 0.06139497831463814, 0.0038371861446648836, 0.0038371861446648836, 0.03069748915731907, 0.0038371861446648836, 0.7252281904220581, 0.03069748915731907, 0.007674372289329767, 0.03837186098098755, 0.0038371861446648836, 0.007674372289329767, 0.02302311733365059, 0.0038371861446648836, 0.007674372289329767, 0.007674372289329767, 0.0038371861446648836, 0.03837186098098755, 0.21725043654441833, 0.1536649465560913, 0.023844560608267784, 0.029143352061510086, 0.05828670412302017, 0.08743005245923996, 0.08213125914335251, 0.03179274871945381, 0.04239032790064812, 0.02119516395032406, 0.03974093496799469, 0.018545769155025482, 0.09537824243307114, 0.015896374359726906, 0.015896374359726906, 0.015896374359726906, 0.018545769155025482, 0.015896374359726906, 0.01324697770178318, 0.0026493954937905073, 0.04060709476470947, 0.020303547382354736, 0.04060709476470947, 0.047374945133924484, 0.00676784897223115, 0.020303547382354736, 0.41960665583610535, 0.06091064214706421, 0.17596407234668732, 0.020303547382354736, 0.0135356979444623, 0.0135356979444623, 0.020303547382354736, 0.00676784897223115, 0.020303547382354736, 0.047374945133924484, 0.0270713958889246, 0.0135356979444623, 0.05717756599187851, 0.009529594331979752, 0.18106228113174438, 0.019059188663959503, 0.009529594331979752, 0.6098940372467041, 0.019059188663959503, 0.028588782995939255, 0.009529594331979752, 0.04764797165989876, 0.1313081532716751, 0.01313081569969654, 0.01313081569969654, 0.02626163139939308, 0.01313081569969654, 0.6040174961090088, 0.06565407663583755, 0.02626163139939308, 0.05252326279878616, 0.01313081569969654, 0.01313081569969654, 0.022628383710980415, 0.056570958346128464, 0.011314191855490208, 0.011314191855490208, 0.011314191855490208, 0.758050799369812, 0.0678851455450058, 0.011314191855490208, 0.022628383710980415, 0.8807074427604675, 0.846501886844635, 0.09364945441484451, 0.037459783256053925, 0.009364945814013481, 0.1498391330242157, 0.43078747391700745, 0.018729891628026962, 0.009364945814013481, 0.21539373695850372, 0.009364945814013481, 0.09762468934059143, 0.08354420214891434, 0.04036405310034752, 0.0938698872923851, 0.0882376953959465, 0.0854215994477272, 0.06570892035961151, 0.05350583791732788, 0.04975104331970215, 0.04130275174975395, 0.07227981835603714, 0.06383152306079865, 0.04036405310034752, 0.02159007452428341, 0.022528773173689842, 0.02816096693277359, 0.011264386586844921, 0.02159007452428341, 0.0056321932934224606, 0.011264386586844921, 0.8267526030540466, 0.019869741052389145, 0.019869741052389145, 0.019869741052389145, 0.03973948210477829, 0.019869741052389145, 0.8146594166755676, 0.019869741052389145, 0.010214477777481079, 0.010214477777481079, 0.020428955554962158, 0.010214477777481079, 0.9090885519981384, 0.010214477777481079, 0.010214477777481079, 0.08440320938825607, 0.032462771981954575, 0.019477663561701775, 0.0779106542468071, 0.0259702168405056, 0.03895532712340355, 0.09738831967115402, 0.0064925542101264, 0.058432988822460175, 0.0129851084202528, 0.0129851084202528, 0.0259702168405056, 0.17529897391796112, 0.0259702168405056, 0.06492554396390915, 0.0064925542101264, 0.019477663561701775, 0.019477663561701775, 0.1558213084936142, 0.0259702168405056, 0.1633063107728958, 0.09018408507108688, 0.004874815233051777, 0.07068482041358948, 0.08287186175584793, 0.08287186175584793, 0.03656111657619476, 0.05849778652191162, 0.02437407709658146, 0.021936669945716858, 0.03656111657619476, 0.021936669945716858, 0.01218703854829073, 0.04631074517965317, 0.06581000983715057, 0.02437407709658146, 0.03656111657619476, 0.02924889326095581, 0.07799704372882843, 0.009749630466103554, 0.026715558022260666, 0.026715558022260666, 0.026715558022260666, 0.10686223208904266, 0.1602933406829834, 0.026715558022260666, 0.05343111604452133, 0.05343111604452133, 0.4541644752025604, 0.026715558022260666, 0.026715558022260666, 0.026715558022260666, 0.05455198511481285, 0.7637277841567993, 0.05455198511481285, 0.7472392320632935, 0.007783741690218449, 0.007783741690218449, 0.10118864476680756, 0.007783741690218449, 0.015567483380436897, 0.007783741690218449, 0.02335122600197792, 0.054486192762851715, 0.015567483380436897, 0.09296462684869766, 0.7437170147895813, 0.8300497531890869, 0.777327299118042, 0.044221848249435425, 0.022110924124717712, 0.08844369649887085, 0.6412168145179749, 0.022110924124717712, 0.022110924124717712, 0.022110924124717712, 0.08844369649887085, 0.8838891983032227, 0.8660382628440857, 0.007447514683008194, 0.11171272397041321, 0.014895029366016388, 0.05958011746406555, 0.029790058732032776, 0.029790058732032776, 0.07447514683008194, 0.09681769460439682, 0.029790058732032776, 0.05213260278105736, 0.022342544049024582, 0.3500331938266754, 0.007447514683008194, 0.014895029366016388, 0.022342544049024582, 0.007447514683008194, 0.007447514683008194, 0.044685088098049164, 0.8660199642181396, 0.042033851146698, 0.84067702293396, 0.042033851146698, 0.5836901664733887, 0.03450385481119156, 0.09385047852993011, 0.004140462260693312, 0.09799094498157501, 0.008280924521386623, 0.16561849415302277, 0.05658631771802902, 0.012421387247741222, 0.10489170998334885, 0.10765202343463898, 0.1435360312461853, 0.10351155698299408, 0.0013801541645079851, 0.017942003905773163, 0.004140462260693312, 0.015181695111095905, 0.004140462260693312, 0.013801541179418564, 0.0027603083290159702, 0.0055206166580319405, 0.055799104273319244, 0.0906735435128212, 0.0069748880341649055, 0.4742923974990845, 0.07672376930713654, 0.0069748880341649055, 0.027899552136659622, 0.03487443923950195, 0.03487443923950195, 0.09764843434095383, 0.0069748880341649055, 0.013949776068329811, 0.0069748880341649055, 0.02092466503381729, 0.0069748880341649055, 0.0069748880341649055, 0.013949776068329811, 0.7000958323478699, 0.01891728676855564, 0.00945864338427782, 0.5580599904060364, 0.01891728676855564, 0.00945864338427782, 0.05675186216831207, 0.26484203338623047, 0.03783457353711128, 0.00945864338427782, 0.13044337928295135, 0.7826602458953857, 0.10055961459875107, 0.5907877087593079, 0.17597931623458862, 0.012569951824843884, 0.012569951824843884, 0.025139903649687767, 0.037709854543209076, 0.012569951824843884, 0.012569951824843884, 0.012569951824843884, 0.04402676969766617, 0.19001026451587677, 0.02548918128013611, 0.03707517310976982, 0.1065911203622818, 0.041709572076797485, 0.03707517310976982, 0.048661164939403534, 0.02780638076364994, 0.13671469688415527, 0.05097836256027222, 0.05097836256027222, 0.01390319038182497, 0.011585991829633713, 0.0671987533569336, 0.011585991829633713, 0.01853758655488491, 0.02548918128013611, 0.01390319038182497, 0.04402676969766617, 0.8806992173194885, 0.05504370108246803, 0.06345625221729279, 0.04230416938662529, 0.15335261821746826, 0.026440106332302094, 0.015864063054323196, 0.31199324131011963, 0.04230416938662529, 0.015864063054323196, 0.021152084693312645, 0.14806458353996277, 0.015864063054323196, 0.005288021173328161, 0.005288021173328161, 0.015864063054323196, 0.08989635854959488, 0.005288021173328161, 0.010576042346656322, 0.005288021173328161, 0.07420352846384048, 0.07420352846384048, 0.8162388205528259, 0.7030462622642517, 0.03790806606411934, 0.012636021710932255, 0.012636021710932255, 0.03790806606411934, 0.27799248695373535, 0.20217634737491608, 0.012636021710932255, 0.02527204342186451, 0.252720445394516, 0.08845215290784836, 0.012636021710932255, 0.012636021710932255, 0.9056895971298218, 0.6732596158981323, 0.19600872695446014, 0.20203976333141327, 0.021108632907271385, 0.024124151095747948, 0.2231483906507492, 0.009046556428074837, 0.05427933856844902, 0.030155189335346222, 0.033170707523822784, 0.04221726581454277, 0.006031037773936987, 0.024124151095747948, 0.024124151095747948, 0.012062075547873974, 0.0030155188869684935, 0.006031037773936987, 0.006031037773936987, 0.05427933856844902, 0.012062075547873974, 0.015077594667673111, 0.8199816942214966, 0.6716259121894836, 0.04015633091330528, 0.013385443016886711, 0.7138903141021729, 0.017847256734967232, 0.008923628367483616, 0.008923628367483616, 0.004461814183741808, 0.049079958349466324, 0.004461814183741808, 0.004461814183741808, 0.008923628367483616, 0.017847256734967232, 0.004461814183741808, 0.004461814183741808, 0.049079958349466324, 0.004461814183741808, 0.04015633091330528, 0.9209863543510437, 0.014262473210692406, 0.8985357880592346, 0.014262473210692406, 0.014262473210692406, 0.014262473210692406, 0.014262473210692406, 0.03691375255584717, 0.03691375255584717, 0.7751888036727905, 0.05537062883377075, 0.03691375255584717, 0.018456876277923584, 0.02952134609222412, 0.03936179354786873, 0.019680896773934364, 0.019680896773934364, 0.009840448386967182, 0.06888314336538315, 0.009840448386967182, 0.5117033123970032, 0.10824493318796158, 0.03936179354786873, 0.02952134609222412, 0.009840448386967182, 0.019680896773934364, 0.02952134609222412, 0.009840448386967182, 0.049202244728803635, 0.16222772002220154, 0.054075904190540314, 0.04326072335243225, 0.0865214467048645, 0.021630361676216125, 0.03244554251432419, 0.18385808169841766, 0.010815180838108063, 0.021630361676216125, 0.010815180838108063, 0.24874916672706604, 0.010815180838108063, 0.021630361676216125, 0.054075904190540314, 0.04326072335243225, 0.38275283575057983, 0.029442526400089264, 0.5299654603004456, 0.012353846803307533, 0.012353846803307533, 0.5126846432685852, 0.04941538721323013, 0.006176923401653767, 0.012353846803307533, 0.03706153854727745, 0.006176923401653767, 0.012353846803307533, 0.012353846803307533, 0.006176923401653767, 0.018530769273638725, 0.1482461541891098, 0.04323846101760864, 0.006176923401653767, 0.08647692203521729, 0.012353846803307533, 0.7739824056625366, 0.01694398745894432, 0.05083196237683296, 0.05083196237683296, 0.4744316339492798, 0.03388797491788864, 0.05083196237683296, 0.11860790848731995, 0.03388797491788864, 0.01694398745894432, 0.11860790848731995, 0.01694398745894432, 0.681280791759491, 0.7519006729125977, 0.08789875358343124, 0.1259882152080536, 0.014649792574346066, 0.10840846598148346, 0.0498092956840992, 0.04394937679171562, 0.2197468876838684, 0.08203884214162827, 0.04687933623790741, 0.055669210851192474, 0.03222954273223877, 0.038089461624622345, 0.002929958514869213, 0.002929958514869213, 0.03515950217843056, 0.014649792574346066, 0.005859917029738426, 0.014649792574346066, 0.014649792574346066, 0.005859917029738426, 0.032267287373542786, 0.4194747507572174, 0.016133643686771393, 0.5001429915428162, 0.7429874539375305, 0.0424889512360096, 0.1699558049440384, 0.6798232197761536, 0.0424889512360096, 0.010063635185360909, 0.010063635185360909, 0.8050907850265503, 0.13082724809646606, 0.010063635185360909, 0.010063635185360909, 0.6610578894615173, 0.09443683922290802, 0.023609209805727005, 0.07082763314247131, 0.015739472582936287, 0.007869736291468143, 0.007869736291468143, 0.007869736291468143, 0.007869736291468143, 0.023609209805727005, 0.031478945165872574, 0.031478945165872574, 0.007869736291468143, 0.8737391233444214, 0.02427053265273571, 0.04854106530547142, 0.7252251505851746, 0.8463736176490784, 0.9006578922271729, 0.019945811480283737, 0.1595664918422699, 0.039891622960567474, 0.039891622960567474, 0.05983743816614151, 0.019945811480283737, 0.019945811480283737, 0.019945811480283737, 0.019945811480283737, 0.019945811480283737, 0.019945811480283737, 0.45875367522239685, 0.07978324592113495, 0.026614004746079445, 0.9048761129379272, 0.8593501448631287, 0.2450248897075653, 0.6533997058868408, 0.15600872039794922, 0.7020392417907715, 0.02428441122174263, 0.02428441122174263, 0.02428441122174263, 0.2428441047668457, 0.02428441122174263, 0.07285322993993759, 0.04856882244348526, 0.4856882095336914, 0.1010083556175232, 0.0252520889043808, 0.0252520889043808, 0.0757562667131424, 0.1767646223306656, 0.530293881893158, 0.11699958145618439, 0.058499790728092194, 0.14624947309494019, 0.029249895364046097, 0.029249895364046097, 0.029249895364046097, 0.029249895364046097, 0.46799832582473755, 0.029249895364046097, 0.03851599246263504, 0.11554797738790512, 0.15406396985054016, 0.6547718644142151, 0.07309196889400482, 0.02088341861963272, 0.02088341861963272, 0.02088341861963272, 0.02088341861963272, 0.0522085465490818, 0.02088341861963272, 0.25060102343559265, 0.5116437673568726, 0.010556056164205074, 0.010556056164205074, 0.8128163814544678, 0.0633363425731659, 0.010556056164205074, 0.010556056164205074, 0.010556056164205074, 0.010556056164205074, 0.0422242246568203, 0.010556056164205074, 0.8631821274757385, 0.9031363725662231, 0.04370720311999321, 0.13112160563468933, 0.0072845336981117725, 0.02913813479244709, 0.0072845336981117725, 0.021853601559996605, 0.5827627182006836, 0.07284533977508545, 0.014569067396223545, 0.0072845336981117725, 0.05827626958489418, 0.014569067396223545, 0.8438348770141602, 0.7383711338043213, 0.8477196097373962, 0.04986586049199104, 0.06762481480836868, 0.8114978075027466, 0.5861225724220276, 0.0397021658718586, 0.0397021658718586, 0.8337454795837402, 0.0397021658718586, 0.15212038159370422, 0.29827526211738586, 0.17001689970493317, 0.008948257192969322, 0.065620556473732, 0.011931009590625763, 0.0059655047953128815, 0.011931009590625763, 0.011931009590625763, 0.023862019181251526, 0.020879266783595085, 0.0059655047953128815, 0.014913762919604778, 0.017896514385938644, 0.011931009590625763, 0.026844773441553116, 0.09246532618999481, 0.017896514385938644, 0.014913762919604778, 0.014913762919604778, 0.16000789403915405, 0.09465255588293076, 0.09390134364366531, 0.08864287286996841, 0.055589597672224045, 0.0353069044649601, 0.049579910933971405, 0.07587228715419769, 0.03981417044997215, 0.06986260414123535, 0.0353069044649601, 0.034555695950984955, 0.02403874509036541, 0.026292376220226288, 0.018780268728733063, 0.015775425359606743, 0.020282691344618797, 0.023287534713745117, 0.019531479105353355, 0.01802905835211277, 0.1562497615814209, 0.16656813025474548, 0.03537730127573013, 0.03537730127573013, 0.05748811736702919, 0.0515918992459774, 0.07222866266965866, 0.12529461085796356, 0.033903248608112335, 0.07222866266965866, 0.011792434379458427, 0.039799466729164124, 0.023584868758916855, 0.03685135766863823, 0.019162705168128014, 0.004422162659466267, 0.017688650637865067, 0.008844325318932533, 0.005896217189729214, 0.025058923289179802, 0.04358620569109917, 0.021793102845549583, 0.8935171961784363, 0.021793102845549583, 0.018315300345420837, 0.036630600690841675, 0.05494590103626251, 0.018315300345420837, 0.5677742958068848, 0.018315300345420837, 0.07326120138168335, 0.13736474514007568, 0.018315300345420837, 0.027472950518131256, 0.009157650172710419, 0.009157650172710419, 0.009157650172710419, 0.01414592657238245, 0.7638800740242004, 0.0282918531447649, 0.01414592657238245, 0.01414592657238245, 0.01414592657238245, 0.042437780648469925, 0.07072963565587997, 0.01414592657238245, 0.08383844792842865, 0.027946149930357933, 0.013973074965178967, 0.013973074965178967, 0.8383845090866089, 0.9120742082595825, 0.8494051694869995, 0.09632033109664917, 0.09632033109664917, 0.577921986579895, 0.09632033109664917, 0.8138965964317322, 0.0542597733438015, 0.0542597733438015, 0.9389370083808899, 0.667161226272583, 0.8449175357818604, 0.8743610978126526, 0.01833106204867363, 0.09165531396865845, 0.01833106204867363, 0.7515735626220703, 0.07332424819469452, 0.03026103973388672, 0.8473091125488281, 0.06052207946777344, 0.8740456104278564, 0.8772591352462769, 0.02049933560192585, 0.02049933560192585, 0.0409986712038517, 0.8609720468521118, 0.08334260433912277, 0.05556173622608185, 0.006945217028260231, 0.05556173622608185, 0.08334260433912277, 0.034726087003946304, 0.09723304212093353, 0.006945217028260231, 0.06945217400789261, 0.048616521060466766, 0.05556173622608185, 0.013890434056520462, 0.3264251947402954, 0.027780868113040924, 0.006945217028260231, 0.013890434056520462, 0.006945217028260231, 0.006945217028260231, 0.8736820220947266, 0.8943498730659485, 0.0417637825012207, 0.0417637825012207, 0.013921260833740234, 0.013921260833740234, 0.013921260833740234, 0.05568504333496094, 0.02784252166748047, 0.05568504333496094, 0.654299259185791, 0.013921260833740234, 0.013921260833740234, 0.02784252166748047, 0.04538937658071518, 0.006484196521341801, 0.006484196521341801, 0.025936786085367203, 0.006484196521341801, 0.012968393042683601, 0.012968393042683601, 0.006484196521341801, 0.8623981475830078, 0.87752366065979, 0.8777302503585815, 0.8729293346405029, 0.8023324012756348, 0.8480619192123413, 0.09243975579738617, 0.09243975579738617, 0.034664906561374664, 0.034664906561374664, 0.034664906561374664, 0.09243975579738617, 0.08088478446006775, 0.023109938949346542, 0.06932981312274933, 0.023109938949346542, 0.34664908051490784, 0.034664906561374664, 0.023109938949346542, 0.03669539466500282, 0.11008618026971817, 0.01834769733250141, 0.03669539466500282, 0.09173848479986191, 0.03669539466500282, 0.01834769733250141, 0.01834769733250141, 0.20182466506958008, 0.07339078933000565, 0.01834769733250141, 0.3486062288284302, 0.09645006060600281, 0.06137730926275253, 0.09645006060600281, 0.026304561644792557, 0.052609123289585114, 0.24550923705101013, 0.017536373808979988, 0.026304561644792557, 0.043840937316417694, 0.06137730926275253, 0.017536373808979988, 0.017536373808979988, 0.017536373808979988, 0.043840937316417694, 0.008768186904489994, 0.1402909904718399, 0.13375934958457947, 0.13375934958457947, 0.5350373983383179, 0.8440051674842834, 0.20505763590335846, 0.14009378850460052, 0.028762618079781532, 0.058021146804094315, 0.047111187130212784, 0.049342770129442215, 0.07165859639644623, 0.06992291659116745, 0.06050068140029907, 0.06050068140029907, 0.03917666897177696, 0.054053887724876404, 0.02479536086320877, 0.015373123809695244, 0.015125170350074768, 0.01214972697198391, 0.010166098363697529, 0.015869030728936195, 0.011157912202179432, 0.010414051823318005, 0.9046152830123901, 0.029181137681007385, 0.029181137681007385, 0.8697391748428345, 0.8772341012954712, 0.1311112940311432, 0.7866677641868591, 0.8447758555412292, 0.725426971912384, 0.8437804579734802, 0.01534146349877119, 0.092048779129982, 0.9195613265037537, 0.9123269319534302, 0.8586995601654053, 0.9171453714370728, 0.7511885166168213, 0.16308890283107758, 0.2407502830028534, 0.0931936576962471, 0.43490374088287354, 0.007766137830913067, 0.007766137830913067, 0.031064551323652267, 0.09057951718568802, 0.07938429713249207, 0.0722600668668747, 0.06717132776975632, 0.08345528692007065, 0.11602320522069931, 0.05495835840702057, 0.03256791830062866, 0.04579863324761391, 0.08549078553915024, 0.04274539276957512, 0.02137269638478756, 0.048851873725652695, 0.025443684309720993, 0.036638908088207245, 0.008141979575157166, 0.01323071587830782, 0.03053242154419422, 0.03765665367245674, 0.008141979575157166, 0.8247243762016296, 0.05890888348221779, 0.05890888348221779, 0.8135526776313782, 0.020338816568255424, 0.020338816568255424, 0.04067763313651085, 0.0813552662730217, 0.03393318131566048, 0.1357327252626419, 0.00424164766445756, 0.04241647943854332, 0.025449886918067932, 0.00424164766445756, 0.14421603083610535, 0.012724943459033966, 0.18663249909877777, 0.17814920842647552, 0.1145244911313057, 0.01696659065783024, 0.00424164766445756, 0.00424164766445756, 0.012724943459033966, 0.012724943459033966, 0.05938306823372841, 0.00848329532891512, 0.00424164766445756, 0.00424164766445756, 0.7151984572410583, 0.011919974349439144, 0.02383994869887829, 0.07151984423398972, 0.09535979479551315, 0.011919974349439144, 0.03575992211699486, 0.011919974349439144, 0.13414829969406128, 0.7154576182365417, 0.02235805056989193, 0.02235805056989193, 0.06707414984703064, 0.07065612077713013, 0.08074985444545746, 0.010093731805682182, 0.010093731805682182, 0.6359050869941711, 0.060562390834093094, 0.010093731805682182, 0.010093731805682182, 0.010093731805682182, 0.08074985444545746, 0.7247801423072815, 0.8453271389007568, 0.07044392824172974, 0.7768527865409851, 0.046044159680604935, 0.03683532774448395, 0.018417663872241974, 0.009208831936120987, 0.06446181982755661, 0.06446181982755661, 0.02762649580836296, 0.009208831936120987, 0.09208831936120987, 0.46965041756629944, 0.05525299161672592, 0.02762649580836296, 0.009208831936120987, 0.009208831936120987, 0.009208831936120987, 0.009208831936120987, 0.018417663872241974, 0.018417663872241974, 0.046552084386348724, 0.13965624570846558, 0.7448333501815796, 0.21208547055721283, 0.18262915313243866, 0.009818771854043007, 0.04516635090112686, 0.04320259392261505, 0.06676764786243439, 0.03731133043766022, 0.1021152213215828, 0.05694887414574623, 0.0510576106607914, 0.01571003533899784, 0.07069515436887741, 0.005891263019293547, 0.011782526038587093, 0.00392750883474946, 0.005891263019293547, 0.00785501766949892, 0.01571003533899784, 0.00196375441737473, 0.05302136763930321, 0.05206913873553276, 0.08926138281822205, 0.08926138281822205, 0.07190500199794769, 0.07190500199794769, 0.10413827747106552, 0.037192244082689285, 0.02727431058883667, 0.02727431058883667, 0.061987072229385376, 0.042151208966970444, 0.1066177636384964, 0.037192244082689285, 0.034712761640548706, 0.019835863262414932, 0.034712761640548706, 0.037192244082689285, 0.02479482814669609, 0.02727431058883667, 0.004958965815603733, 0.1397070586681366, 0.5433052182197571, 0.2638911008834839, 0.07913453131914139, 0.07913453131914139, 0.7122107744216919, 0.6533775329589844, 0.015830762684345245, 0.015830762684345245, 0.6015689969062805, 0.03166152536869049, 0.015830762684345245, 0.015830762684345245, 0.015830762684345245, 0.2691229581832886, 0.28334277868270874, 0.1169351190328598, 0.01799001917243004, 0.013492513447999954, 0.011243761517107487, 0.03148253262042999, 0.006746256723999977, 0.022487523034214973, 0.04722379893064499, 0.20913396775722504, 0.013492513447999954, 0.02923377975821495, 0.013492513447999954, 0.015741266310214996, 0.02698502689599991, 0.002248752396553755, 0.00449750479310751, 0.002248752396553755, 0.11243761330842972, 0.02023877017199993, 0.038960713893175125, 0.8571357727050781, 0.05176715552806854, 0.017255719751119614, 0.05176715552806854, 0.017255719751119614, 0.017255719751119614, 0.03451143950223923, 0.03451143950223923, 0.03451143950223923, 0.6902287602424622, 0.017255719751119614, 0.1332809031009674, 0.6664044857025146, 0.0666404515504837, 0.09728322178125381, 0.009728321805596352, 0.029184967279434204, 0.029184967279434204, 0.04864161089062691, 0.009728321805596352, 0.21402308344841003, 0.10701154172420502, 0.05836993455886841, 0.009728321805596352, 0.009728321805596352, 0.15565314888954163, 0.20429477095603943, 0.009728321805596352, 0.817074179649353, 0.18823279440402985, 0.017112072557210922, 0.7529311776161194, 0.9124107360839844, 0.8772023320198059, 0.014148425310850143, 0.014148425310850143, 0.056593701243400574, 0.06081446260213852, 0.06081446260213852, 0.8514025211334229, 0.9059040546417236, 0.02264760248363018, 0.042006559669971466, 0.042006559669971466, 0.02291266992688179, 0.0038187780883163214, 0.0038187780883163214, 0.33987125754356384, 0.007637556176632643, 0.0038187780883163214, 0.12220089882612228, 0.29022714495658875, 0.07255678623914719, 0.007637556176632643, 0.011456334963440895, 0.0038187780883163214, 0.0038187780883163214, 0.0038187780883163214, 0.0038187780883163214, 0.0038187780883163214, 0.007637556176632643, 0.033537622541189194, 0.029065940529108047, 0.006707524880766869, 0.004471682943403721, 0.02235841564834118, 0.31078198552131653, 0.03130178153514862, 0.01117920782417059, 0.06707524508237839, 0.33537623286247253, 0.06931108981370926, 0.017886731773614883, 0.0022358414717018604, 0.006707524880766869, 0.0022358414717018604, 0.0022358414717018604, 0.004471682943403721, 0.026830099523067474, 0.004471682943403721, 0.01117920782417059, 0.1872662752866745, 0.02055361494421959, 0.02055361494421959, 0.031972289085388184, 0.175847589969635, 0.07307951897382736, 0.03425602614879608, 0.013702410273253918, 0.05252590402960777, 0.027404820546507835, 0.07307951897382736, 0.05937710776925087, 0.006851205136626959, 0.025121085345745087, 0.002283734967932105, 0.013702410273253918, 0.025121085345745087, 0.12103795260190964, 0.03425602614879608, 0.00456746993586421, 0.7392684817314148, 0.6702550053596497, 0.8393255472183228, 0.11317157000303268, 0.09850118309259415, 0.05658578500151634, 0.07125617563724518, 0.1194588765501976, 0.020957697182893753, 0.12993772327899933, 0.09011810272932053, 0.046106934547424316, 0.020957697182893753, 0.037723857909440994, 0.025149237364530563, 0.023053467273712158, 0.016766158863902092, 0.033532317727804184, 0.03143654763698578, 0.016766158863902092, 0.03143654763698578, 0.008383079431951046, 0.006287309341132641, 0.21825003623962402, 0.04197116196155548, 0.008394232019782066, 0.008394232019782066, 0.23503850400447845, 0.016788464039564133, 0.13430771231651306, 0.008394232019782066, 0.008394232019782066, 0.04197116196155548, 0.2098558098077774, 0.008394232019782066, 0.016788464039564133, 0.0251826960593462, 0.008394232019782066, 0.041909296065568924, 0.0083818593993783, 0.041909296065568924, 0.5783482789993286, 0.0083818593993783, 0.0083818593993783, 0.0167637187987566, 0.07543673366308212, 0.0083818593993783, 0.10896416753530502, 0.058673013001680374, 0.0083818593993783, 0.0083818593993783, 0.025145577266812325, 0.8411608934402466, 0.8057782053947449, 0.8564116954803467, 0.08394159376621246, 0.08394159376621246, 0.6715327501296997, 0.9171977639198303, 0.011050575412809849, 0.03315172716975212, 0.9090213775634766, 0.00710670743137598, 0.00710670743137598, 0.44061583280563354, 0.00710670743137598, 0.277161568403244, 0.02842682972550392, 0.00710670743137598, 0.05685365945100784, 0.01421341486275196, 0.00710670743137598, 0.1350274384021759, 0.8658139109611511, 0.05772092565894127, 0.07448253035545349, 0.819307804107666, 0.8878365159034729, 0.8354029059410095, 0.11859159171581268, 0.03953053057193756, 0.07906106114387512, 0.07906106114387512, 0.03953053057193756, 0.632488489151001, 0.8599077463150024, 0.05211562290787697, 0.026057811453938484, 0.026057811453938484, 0.03397120535373688, 0.03397120535373688, 0.7133952975273132, 0.1358848214149475, 0.03397120535373688, 0.03397120535373688, 0.3576682209968567, 0.065694160759449, 0.003649675752967596, 0.003649675752967596, 0.0328470803797245, 0.32117146253585815, 0.018248379230499268, 0.018248379230499268, 0.036496758460998535, 0.003649675752967596, 0.007299351505935192, 0.036496758460998535, 0.007299351505935192, 0.0109490267932415, 0.003649675752967596, 0.003649675752967596, 0.003649675752967596, 0.043796107172966, 0.003649675752967596, 0.025547729805111885, 0.7804429531097412, 0.031339045614004135, 0.06267809122800827, 0.031339045614004135, 0.031339045614004135, 0.7834761738777161, 0.05951356142759323, 0.2529326379299164, 0.05951356142759323, 0.014878390356898308, 0.04463517293334007, 0.5207436680793762, 0.014878390356898308, 0.014878390356898308, 0.953009843826294, 0.008906633593142033, 0.008906633593142033, 0.008906633593142033, 0.019541988149285316, 0.019541988149285316, 0.07816795259714127, 0.0586259625852108, 0.7621375322341919, 0.019541988149285316, 0.019541988149285316, 0.8160523176193237, 0.012339374050498009, 0.012339374050498009, 0.03701812028884888, 0.012339374050498009, 0.888434886932373, 0.012339374050498009, 0.012339374050498009, 0.012339374050498009, 0.1489148586988449, 0.1687701791524887, 0.009927657432854176, 0.5360934734344482, 0.009927657432854176, 0.009927657432854176, 0.029782971367239952, 0.029782971367239952, 0.01985531486570835, 0.11947634071111679, 0.0398254469037056, 0.162251815199852, 0.050150562077760696, 0.0427754782140255, 0.0324503630399704, 0.09882611036300659, 0.1681518852710724, 0.026550298556685448, 0.051625579595565796, 0.011800132691860199, 0.025075281038880348, 0.0339253805577755, 0.0354003980755806, 0.020650232210755348, 0.020650232210755348, 0.007375082932412624, 0.0162251815199852, 0.0029500331729650497, 0.0354003980755806, 0.08517402410507202, 0.060122840106487274, 0.010020473040640354, 0.04008189216256142, 0.025051183998584747, 0.04008189216256142, 0.3907984495162964, 0.09018425643444061, 0.025051183998584747, 0.02004094608128071, 0.02004094608128071, 0.030061420053243637, 0.045092128217220306, 0.07014331221580505, 0.015030710026621819, 0.010020473040640354, 0.010020473040640354, 0.010020473040640354, 0.02801775373518467, 0.02801775373518467, 0.7844971418380737, 0.08405326306819916, 0.02801775373518467, 0.08542291074991226, 0.8542291522026062, 0.5178578495979309, 0.3960089385509491, 0.04352317005395889, 0.2067350596189499, 0.03264237940311432, 0.021761585026979446, 0.021761585026979446, 0.4025893211364746, 0.1196887195110321, 0.010880792513489723, 0.04352317005395889, 0.021761585026979446, 0.021761585026979446, 0.021761585026979446, 0.010880792513489723, 0.010880792513489723, 0.010880792513489723, 0.04403792694211006, 0.36698269844055176, 0.02935861609876156, 0.5284550786018372, 0.00543881393969059, 0.00543881393969059, 0.00543881393969059, 0.8049444556236267, 0.00543881393969059, 0.01087762787938118, 0.03263288363814354, 0.00543881393969059, 0.00543881393969059, 0.09789864718914032, 0.00543881393969059, 0.00543881393969059, 0.00543881393969059, 0.8563154339790344, 0.010796359740197659, 0.6693743467330933, 0.010796359740197659, 0.021592719480395317, 0.021592719480395317, 0.0323890782892704, 0.010796359740197659, 0.021592719480395317, 0.08637087792158127, 0.010796359740197659, 0.010796359740197659, 0.0323890782892704, 0.021592719480395317, 0.15735715627670288, 0.7867857813835144, 0.8134354948997498, 0.017370671033859253, 0.05211201310157776, 0.12159469723701477, 0.034741342067718506, 0.05211201310157776, 0.46900811791419983, 0.017370671033859253, 0.15633603930473328, 0.017370671033859253, 0.034741342067718506, 0.92449551820755, 0.0142230074852705, 0.0142230074852705, 0.8414182662963867, 0.05311887338757515, 0.2124754935503006, 0.6905453205108643, 0.011273661628365517, 0.022547323256731033, 0.022547323256731033, 0.0676419734954834, 0.07327879965305328, 0.09018929302692413, 0.03945781663060188, 0.022547323256731033, 0.05636831000447273, 0.07327879965305328, 0.05073147639632225, 0.05636831000447273, 0.08455246686935425, 0.04509464651346207, 0.011273661628365517, 0.022547323256731033, 0.21983639895915985, 0.01691049337387085, 0.005636830814182758, 0.07466735690832138, 0.03733367845416069, 0.46933770179748535, 0.01600014790892601, 0.02666691318154335, 0.08000074326992035, 0.0533338263630867, 0.00533338263630867, 0.02133353054523468, 0.01066676527261734, 0.05866721272468567, 0.03733367845416069, 0.01600014790892601, 0.00533338263630867, 0.00533338263630867, 0.01600014790892601, 0.01600014790892601, 0.03200029581785202, 0.3274904489517212, 0.11545170098543167, 0.011318794451653957, 0.04376600310206413, 0.13507094979286194, 0.011318794451653957, 0.1237521544098854, 0.05961231514811516, 0.018110070377588272, 0.016600897535681725, 0.017355484887957573, 0.01886465772986412, 0.00980962160974741, 0.023392174392938614, 0.006791276391595602, 0.006036690436303616, 0.006036690436303616, 0.03093803860247135, 0.000754586304537952, 0.018110070377588272, 0.923525333404541, 0.2754828929901123, 0.09499409794807434, 0.021373672410845757, 0.04512219503521919, 0.17098937928676605, 0.0332479327917099, 0.004749704618006945, 0.0878695398569107, 0.007124557159841061, 0.04749704897403717, 0.03087308071553707, 0.023748524487018585, 0.026123376563191414, 0.014249114319682121, 0.01899881847202778, 0.007124557159841061, 0.040372490882873535, 0.023748524487018585, 0.014249114319682121, 0.014249114319682121, 0.17844882607460022, 0.07137952744960785, 0.09814685583114624, 0.035689763724803925, 0.017844881862401962, 0.08922441303730011, 0.07137952744960785, 0.017844881862401962, 0.05353464558720589, 0.08922441303730011, 0.06245708838105202, 0.008922440931200981, 0.008922440931200981, 0.017844881862401962, 0.008922440931200981, 0.16060394048690796, 0.00946140568703413, 0.8799107074737549, 0.00946140568703413, 0.00946140568703413, 0.01892281137406826, 0.00946140568703413, 0.00946140568703413, 0.00946140568703413, 0.028384216129779816, 0.7407168745994568, 0.07271841913461685, 0.021815525367856026, 0.021815525367856026, 0.04363105073571205, 0.0145436841994524, 0.0072718420997262, 0.0072718420997262, 0.021815525367856026, 0.0145436841994524, 0.6980968117713928, 0.0072718420997262, 0.0072718420997262, 0.04363105073571205, 0.03662289306521416, 0.012207631021738052, 0.04883052408695221, 0.1831144541501999, 0.012207631021738052, 0.012207631021738052, 0.024415262043476105, 0.5371357202529907, 0.012207631021738052, 0.012207631021738052, 0.06103815510869026, 0.04883052408695221, 0.012207631021738052, 0.012061182409524918, 0.004020394291728735, 0.3055499494075775, 0.03216315433382988, 0.004020394291728735, 0.16885656118392944, 0.012061182409524918, 0.004020394291728735, 0.01608157716691494, 0.020101971924304962, 0.01608157716691494, 0.04824472963809967, 0.2171012908220291, 0.01608157716691494, 0.004020394291728735, 0.004020394291728735, 0.10855064541101456, 0.028317797929048538, 0.029808208346366882, 0.004471231251955032, 0.1520218700170517, 0.12221365422010422, 0.06706847250461578, 0.01788492500782013, 0.031298618763685226, 0.07601093500852585, 0.07153970003128052, 0.15053145587444305, 0.07153970003128052, 0.013413693755865097, 0.019375335425138474, 0.023846566677093506, 0.0059616416692733765, 0.04024108126759529, 0.010432872921228409, 0.03278902918100357, 0.026827387511730194, 0.9300060868263245, 0.7826591730117798, 0.0533631257712841, 0.035575415939092636, 0.035575415939092636, 0.017787707969546318, 0.017787707969546318, 0.035575415939092636, 0.03244223818182945, 0.04866335541009903, 0.08516087383031845, 0.03649751842021942, 0.03244223818182945, 0.10949254781007767, 0.06893975287675858, 0.008110559545457363, 0.210874542593956, 0.06893975287675858, 0.09732671082019806, 0.04866335541009903, 0.020276397466659546, 0.06893975287675858, 0.012165838852524757, 0.024331677705049515, 0.016221119090914726, 0.0040552797727286816, 0.0040552797727286816, 0.5829705595970154, 0.03747667744755745, 0.0166563019156456, 0.0083281509578228, 0.1249222606420517, 0.0249844528734684, 0.0124922264367342, 0.0041640754789114, 0.041640754789114, 0.0041640754789114, 0.0249844528734684, 0.05413297936320305, 0.0083281509578228, 0.0083281509578228, 0.0041640754789114, 0.02914852648973465, 0.0041640754789114, 0.0041640754789114, 0.7789382934570312, 0.035444475710392, 0.035444475710392, 0.035444475710392, 0.6380006074905396, 0.035444475710392, 0.035444475710392, 0.106333427131176, 0.021857189014554024, 0.036428648978471756, 0.010928594507277012, 0.061928704380989075, 0.02550005540251732, 0.20400044322013855, 0.003642864990979433, 0.40435799956321716, 0.007285729981958866, 0.17850038409233093, 0.018214324489235878, 0.003642864990979433, 0.007285729981958866, 0.003642864990979433, 0.003642864990979433, 0.003642864990979433, 0.6658456325531006, 0.022764677181839943, 0.045529354363679886, 0.022764677181839943, 0.8878223896026611, 0.49588483572006226, 0.4057239592075348, 0.9329298734664917, 0.012286066077649593, 0.04914426431059837, 0.012286066077649593, 0.4668704867362976, 0.04914426431059837, 0.024572132155299187, 0.024572132155299187, 0.012286066077649593, 0.17200492322444916, 0.012286066077649593, 0.036858197301626205, 0.024572132155299187, 0.06143032759428024, 0.012286066077649593, 0.012286066077649593, 0.1702384352684021, 0.2447177618741989, 0.053199511021375656, 0.010639902204275131, 0.03723965957760811, 0.042559608817100525, 0.026599755510687828, 0.026599755510687828, 0.04787956178188324, 0.010639902204275131, 0.053199511021375656, 0.005319951102137566, 0.15427859127521515, 0.026599755510687828, 0.010639902204275131, 0.015959853306412697, 0.021279804408550262, 0.042559608817100525, 0.748012125492096, 0.093501515686512, 0.046750757843256, 0.8914181590080261, 0.7259610891342163, 0.04118408262729645, 0.0823681652545929, 0.04118408262729645, 0.5971692204475403, 0.14414429664611816, 0.04118408262729645, 0.04118408262729645, 0.08437331020832062, 0.8015464544296265, 0.02224111557006836, 0.02224111557006836, 0.6005101203918457, 0.24465227127075195, 0.02224111557006836, 0.02224111557006836, 0.02224111557006836, 0.05574849992990494, 0.836227536201477, 0.11086878180503845, 0.7760815024375916, 0.03569670394062996, 0.07139340788125992, 0.03569670394062996, 0.07139340788125992, 0.1784835159778595, 0.5711472630500793, 0.8468930125236511, 0.04704961180686951, 0.8880719542503357, 0.6684867143630981, 0.07821623235940933, 0.07821623235940933, 0.7039461135864258, 0.8143723607063293, 0.06786436587572098, 0.03708536550402641, 0.8529634475708008, 0.03708536550402641, 0.06881865859031677, 0.12387358397245407, 0.013763731345534325, 0.6468953490257263, 0.1101098507642746, 0.7923761606216431, 0.49349814653396606, 0.10049962252378464, 0.002999988617375493, 0.022499915212392807, 0.16949935257434845, 0.0014999943086877465, 0.034499868750572205, 0.029999885708093643, 0.005999977234750986, 0.002999988617375493, 0.007499971427023411, 0.005999977234750986, 0.002999988617375493, 0.05249980092048645, 0.004499983042478561, 0.0014999943086877465, 0.002999988617375493, 0.022499915212392807, 0.034499868750572205, 0.7399622201919556, 0.016156380996108055, 0.003231276059523225, 0.003231276059523225, 0.08401317894458771, 0.00646255211904645, 0.045237865298986435, 0.009693828411400318, 0.00646255211904645, 0.003231276059523225, 0.00646255211904645, 0.00646255211904645, 0.003231276059523225, 0.009693828411400318, 0.003231276059523225, 0.003231276059523225, 0.003231276059523225, 0.0258502084761858, 0.022618932649493217, 0.7811405658721924, 0.04055348411202431, 0.020276742056012154, 0.8516231179237366, 0.020276742056012154, 0.7228007912635803, 0.07537664473056793, 0.6460855007171631, 0.010768091306090355, 0.010768091306090355, 0.010768091306090355, 0.02153618261218071, 0.010768091306090355, 0.08614473044872284, 0.010768091306090355, 0.08614473044872284, 0.031037477776408195, 0.031037477776408195, 0.15518739819526672, 0.031037477776408195, 0.6207495927810669, 0.06207495555281639, 0.9062029123306274, 0.28628256916999817, 0.019085504114627838, 0.057256512343883514, 0.019085504114627838, 0.019085504114627838, 0.47713759541511536, 0.057256512343883514, 0.038171008229255676, 0.21288909018039703, 0.07096303254365921, 0.14192606508731842, 0.42577818036079407, 0.7645113468170166, 0.029404282569885254, 0.029404282569885254, 0.11761713027954102, 0.8072869181632996, 0.887292206287384, 0.8806037902832031, 0.24396783113479614, 0.11008304357528687, 0.0029752172995358706, 0.10710782557725906, 0.05355391278862953, 0.029752174392342567, 0.008925652131438255, 0.22909173369407654, 0.008925652131438255, 0.05652913078665733, 0.011900869198143482, 0.05057869479060173, 0.03570260852575302, 0.01785130426287651, 0.005950434599071741, 0.0029752172995358706, 0.008925652131438255, 0.008925652131438255, 0.0029752172995358706, 0.017504451796412468, 0.011669633910059929, 0.017504451796412468, 0.285906046628952, 0.11086152493953705, 0.040843717753887177, 0.0058348169550299644, 0.4259416460990906, 0.011669633910059929, 0.011669633910059929, 0.0058348169550299644, 0.0058348169550299644, 0.011669633910059929, 0.029174085706472397, 0.0058348169550299644, 0.0058348169550299644, 0.8036980032920837, 0.08036980032920837, 0.6795738935470581, 0.02535812370479107, 0.0036225891672074795, 0.30429747700691223, 0.02535812370479107, 0.5144076347351074, 0.014490356668829918, 0.03260330110788345, 0.010867767967283726, 0.0036225891672074795, 0.018112946301698685, 0.007245178334414959, 0.02535812370479107, 0.007245178334414959, 0.0036225891672074795, 0.9008526802062988, 0.22309423983097076, 0.03280797600746155, 0.06999034434556961, 0.05249276012182236, 0.0503055639564991, 0.03936957195401192, 0.10279832035303116, 0.034995172172784805, 0.059054356068372726, 0.024059182032942772, 0.03936957195401192, 0.021871984004974365, 0.0656159520149231, 0.04593116417527199, 0.017497586086392403, 0.006561595015227795, 0.021871984004974365, 0.05467996001243591, 0.017497586086392403, 0.021871984004974365, 0.18560108542442322, 0.09280054271221161, 0.046400271356105804, 0.046400271356105804, 0.09280054271221161, 0.09280054271221161, 0.37120217084884644, 0.8850662112236023, 0.013745450414717197, 0.027490900829434395, 0.06872725486755371, 0.39861807227134705, 0.013745450414717197, 0.013745450414717197, 0.4261089861392975, 0.11966292560100555, 0.12376096844673157, 0.07622364163398743, 0.07704325020313263, 0.0680275559425354, 0.049176543951034546, 0.03934123367071152, 0.03770201653242111, 0.04016084596514702, 0.08196090906858444, 0.05983146280050278, 0.04016084596514702, 0.01967061683535576, 0.03032553568482399, 0.045078497380018234, 0.02376866340637207, 0.0163921806961298, 0.013933354057371616, 0.02376866340637207, 0.013113745488226414, 0.8707835078239441, 0.7529922723770142, 0.08417141437530518, 0.08417141437530518, 0.7575427293777466, 0.09086685627698898, 0.8178017139434814, 0.10941147804260254, 0.7658803462982178, 0.16622710227966309, 0.10122208297252655, 0.013001001439988613, 0.07057686895132065, 0.040860291570425034, 0.08172058314085007, 0.06314772367477417, 0.09100701659917831, 0.05293264985084534, 0.08822108060121536, 0.058504506945610046, 0.03250250592827797, 0.02321607433259487, 0.03435979038476944, 0.022287432104349136, 0.007429143879562616, 0.022287432104349136, 0.009286429733037949, 0.011143716052174568, 0.010215072892606258, 0.07946804165840149, 0.07946804165840149, 0.7946804165840149, 0.0236896350979805, 0.0236896350979805, 0.094758540391922, 0.047379270195961, 0.094758540391922, 0.0236896350979805, 0.0236896350979805, 0.094758540391922, 0.0710689052939415, 0.0710689052939415, 0.0236896350979805, 0.4027237892150879, 0.017476726323366165, 0.017476726323366165, 0.9437431693077087, 0.01993817277252674, 0.03987634554505348, 0.00996908638626337, 0.00996908638626337, 0.2691653370857239, 0.03987634554505348, 0.029907258227467537, 0.00996908638626337, 0.01993817277252674, 0.01993817277252674, 0.4984543025493622, 0.00996908638626337, 0.07669376581907272, 0.010956251993775368, 0.10956252366304398, 0.6135501265525818, 0.010956251993775368, 0.010956251993775368, 0.021912503987550735, 0.05478126183152199, 0.010956251993775368, 0.010956251993775368, 0.04382500797510147, 0.6994373202323914, 0.899307906627655, 0.03533677011728287, 0.706735372543335, 0.12367869168519974, 0.053005151450634, 0.03533677011728287, 0.7122657895088196, 0.027394838631153107, 0.19176386296749115, 0.05416944995522499, 0.013542362488806248, 0.6906604766845703, 0.027084724977612495, 0.05416944995522499, 0.04062708467245102, 0.027084724977612495, 0.04062708467245102, 0.027084724977612495, 0.836605429649353, 0.06971711665391922, 0.8638099431991577, 0.037556953728199005, 0.06831452995538712, 0.8197743892669678, 0.850375235080719, 0.7511427402496338, 0.7303916811943054, 0.02809198759496212, 0.11236795037984848, 0.02809198759496212, 0.05618397518992424, 0.10603064298629761, 0.1567409485578537, 0.011525069363415241, 0.05762534961104393, 0.11294568330049515, 0.07376044988632202, 0.0345752090215683, 0.032270196825265884, 0.039185237139463425, 0.039185237139463425, 0.1221657395362854, 0.053015321493148804, 0.025355152785778046, 0.039185237139463425, 0.009220056235790253, 0.02074512466788292, 0.004610028117895126, 0.02766016684472561, 0.009220056235790253, 0.025355152785778046, 0.13906380534172058, 0.10059934854507446, 0.05029967427253723, 0.04734086990356445, 0.07249070703983307, 0.06953190267086029, 0.041423261165618896, 0.041423261165618896, 0.07249070703983307, 0.07397010922431946, 0.05769668519496918, 0.03994385898113251, 0.031067445874214172, 0.05029967427253723, 0.020711630582809448, 0.01627342402935028, 0.01923222839832306, 0.023670434951782227, 0.014794021844863892, 0.01627342402935028, 0.3506307899951935, 0.09070666134357452, 0.010671372525393963, 0.04268549010157585, 0.11967181414365768, 0.022867225110530853, 0.036587562412023544, 0.06250374764204025, 0.016769299283623695, 0.04497221112251282, 0.018293781206011772, 0.02896515280008316, 0.03353859856724739, 0.026678429916501045, 0.008384649641811848, 0.008384649641811848, 0.013720335438847542, 0.046496693044900894, 0.008384649641811848, 0.009146890603005886, 0.8319874405860901, 0.7811272740364075, 0.06549932807683945, 0.011558705009520054, 0.05008772015571594, 0.007705803494900465, 0.0038529017474502325, 0.6357287764549255, 0.12714575231075287, 0.007705803494900465, 0.046234820038080215, 0.0038529017474502325, 0.0038529017474502325, 0.007705803494900465, 0.01541160698980093, 0.007705803494900465, 0.0038529017474502325, 0.0038529017474502325, 0.834414005279541, 0.9253495931625366, 0.7510221600532532, 0.7413212060928345, 0.8733168840408325, 0.8381186723709106, 0.3367672264575958, 0.1571580320596695, 0.022451147437095642, 0.022451147437095642, 0.4265718162059784, 0.056026656180620193, 0.0823921412229538, 0.1614885926246643, 0.019774112850427628, 0.019774112850427628, 0.08568782359361649, 0.01647842861711979, 0.009887056425213814, 0.026365485042333603, 0.0823921412229538, 0.04943528398871422, 0.03295685723423958, 0.1087576225399971, 0.006591371260583401, 0.10216625034809113, 0.039548225700855255, 0.006591371260583401, 0.019774112850427628, 0.07250508666038513, 0.9272832870483398, 0.16695798933506012, 0.04173949733376503, 0.7095714807510376, 0.927551805973053, 0.026501480489969254, 0.6489550471305847, 0.024959810078144073, 0.024959810078144073, 0.024959810078144073, 0.024959810078144073, 0.1747186779975891, 0.024959810078144073, 0.024959810078144073, 0.8329781293869019, 0.8790972828865051, 0.019321411848068237, 0.019321411848068237, 0.5538804531097412, 0.05152376368641853, 0.06440470367670059, 0.012880940921604633, 0.025761881843209267, 0.012880940921604633, 0.032202351838350296, 0.038642823696136475, 0.012880940921604633, 0.019321411848068237, 0.025761881843209267, 0.012880940921604633, 0.04508329555392265, 0.012880940921604633, 0.006440470460802317, 0.032202351838350296, 0.018175415694713593, 0.009087707847356796, 0.05452624708414078, 0.018175415694713593, 0.02726312354207039, 0.04543853923678398, 0.08178936690092087, 0.38168373703956604, 0.05452624708414078, 0.036350831389427185, 0.02726312354207039, 0.009087707847356796, 0.009087707847356796, 0.14540332555770874, 0.009087707847356796, 0.02726312354207039, 0.036350831389427185, 0.007134914863854647, 0.6350074410438538, 0.05707931891083717, 0.014269829727709293, 0.014269829727709293, 0.24972203373908997, 0.18633794784545898, 0.13936847448349, 0.011549873277544975, 0.014629838988184929, 0.21405765414237976, 0.14783836901187897, 0.024639729410409927, 0.01924978755414486, 0.020789772272109985, 0.03387962654232979, 0.021559763699769974, 0.01924978755414486, 0.008469906635582447, 0.0331096351146698, 0.0038499576039612293, 0.0038499576039612293, 0.004619949031621218, 0.06929923593997955, 0.01924978755414486, 0.0038499576039612293, 0.7412770986557007, 0.10882723331451416, 0.7617906332015991, 0.06377366930246353, 0.06377366930246353, 0.8290576934814453, 0.5853014588356018, 0.033474959433078766, 0.15398479998111725, 0.013389983214437962, 0.08703488856554031, 0.04686494171619415, 0.006694991607218981, 0.04016995057463646, 0.006694991607218981, 0.23432470858097076, 0.02008497528731823, 0.026779966428875923, 0.006694991607218981, 0.033474959433078766, 0.006694991607218981, 0.006694991607218981, 0.27449464797973633, 0.006694991607218981, 0.006694991607218981, 0.008176594972610474, 0.008176594972610474, 0.016353189945220947, 0.11447233706712723, 0.8013063669204712, 0.008176594972610474, 0.008176594972610474, 0.008176594972610474, 0.8620681166648865, 0.05878022685647011, 0.7053627371788025, 0.17634068429470062, 0.9069709777832031, 0.056685686111450195, 0.013307474553585052, 0.013307474553585052, 0.7052961587905884, 0.10645979642868042, 0.013307474553585052, 0.013307474553585052, 0.10645979642868042, 0.7415192127227783, 0.8875166177749634, 0.5429564118385315, 0.03752714395523071, 0.8255972266197205, 0.07557312399148941, 0.09274882823228836, 0.05839741230010986, 0.09961911290884018, 0.06526769697666168, 0.041221700608730316, 0.06526769697666168, 0.030916277319192886, 0.044656842947006226, 0.08244340121746063, 0.15114624798297882, 0.013740567490458488, 0.020610850304365158, 0.006870283745229244, 0.044656842947006226, 0.024045992642641068, 0.044656842947006226, 0.006870283745229244, 0.027481134980916977, 0.003435141872614622, 0.15421603620052338, 0.07139631360769272, 0.019990967586636543, 0.014279262162744999, 0.13993677496910095, 0.21133308112621307, 0.07139631360769272, 0.01713511534035206, 0.0371260829269886, 0.045693639665842056, 0.014279262162744999, 0.014279262162744999, 0.005711704958230257, 0.028558524325489998, 0.005711704958230257, 0.01713511534035206, 0.09709898382425308, 0.03427023068070412, 0.0028558524791151285, 0.0028558524791151285, 0.07433779537677765, 0.07433779537677765, 0.1486755907535553, 0.5947023630142212, 0.007363032083958387, 0.017180409282445908, 0.8213871717453003, 0.013907949440181255, 0.007363032083958387, 0.0049086883664131165, 0.017998524010181427, 0.012271719984710217, 0.009817376732826233, 0.010635490529239178, 0.0057268026284873486, 0.0049086883664131165, 0.02699778415262699, 0.006544917356222868, 0.007363032083958387, 0.004090573638677597, 0.001636229339055717, 0.008999262005090714, 0.009817376732826233, 0.001636229339055717, 0.8546114563941956, 0.5512831807136536, 0.003937737084925175, 0.003937737084925175, 0.0157509483397007, 0.00787547416985035, 0.0196886844933033, 0.0433151051402092, 0.0393773689866066, 0.011813211254775524, 0.0551283173263073, 0.02362642250955105, 0.0315018966794014, 0.003937737084925175, 0.00787547416985035, 0.003937737084925175, 0.1653849482536316, 0.003937737084925175, 0.003937737084925175, 0.8940163254737854, 0.013343526981770992, 0.0400305800139904, 0.13700999319553375, 0.053467318415641785, 0.09356780350208282, 0.07017585635185242, 0.08688438683748245, 0.06683414429426193, 0.013366829603910446, 0.03007536567747593, 0.04010048881173134, 0.053467318415641785, 0.1470351219177246, 0.06683414429426193, 0.0033417074009776115, 0.016708536073565483, 0.03675878047943115, 0.006683414801955223, 0.026733659207820892, 0.006683414801955223, 0.0033417074009776115, 0.043442193418741226, 0.02995171584188938, 0.2995171546936035, 0.599034309387207, 0.9160863757133484, 0.03271736949682236, 0.8083900213241577, 0.13473168015480042, 0.1439577043056488, 0.02132706716656685, 0.010663533583283424, 0.03732236847281456, 0.13329418003559113, 0.03732236847281456, 0.026658834889531136, 0.005331766791641712, 0.0426541343331337, 0.3412330746650696, 0.010663533583283424, 0.03732236847281456, 0.02132706716656685, 0.010663533583283424, 0.005331766791641712, 0.03199060261249542, 0.03732236847281456, 0.02132706716656685, 0.010663533583283424, 0.02132706716656685, 0.023276910185813904, 0.007758969906717539, 0.8534867167472839, 0.015517939813435078, 0.007758969906717539, 0.007758969906717539, 0.007758969906717539, 0.023276910185813904, 0.023276910185813904, 0.023276910185813904, 0.007758969906717539, 0.03931611403822899, 0.026210743933916092, 0.006552685983479023, 0.006552685983479023, 0.006552685983479023, 0.013105371966958046, 0.5700836777687073, 0.3014235496520996, 0.019658057019114494, 0.006552685983479023, 0.038892365992069244, 0.05833854898810387, 0.038892365992069244, 0.019446182996034622, 0.15556946396827698, 0.05833854898810387, 0.019446182996034622, 0.46670839190483093, 0.09723091870546341, 0.03572089597582817, 0.017860447987914085, 0.7322784066200256, 0.10716269165277481, 0.07144179195165634, 0.8167850971221924, 0.22946281731128693, 0.048504337668418884, 0.0018655514577403665, 0.022386616095900536, 0.027983270585536957, 0.0652942955493927, 0.061563197523355484, 0.029848823323845863, 0.08581536263227463, 0.01865551434457302, 0.0652942955493927, 0.06715985387563705, 0.005596654023975134, 0.04663878679275513, 0.09887422621250153, 0.03171437233686447, 0.00932775717228651, 0.04477323219180107, 0.016789963468909264, 0.020521065220236778, 0.022395307198166847, 0.022395307198166847, 0.044790614396333694, 0.044790614396333694, 0.022395307198166847, 0.022395307198166847, 0.022395307198166847, 0.11197654157876968, 0.06718592345714569, 0.044790614396333694, 0.06718592345714569, 0.022395307198166847, 0.44790616631507874, 0.027795985341072083, 0.027795985341072083, 0.055591970682144165, 0.08338795602321625, 0.027795985341072083, 0.6948996782302856, 0.055591970682144165, 0.02407994493842125, 0.0481598898768425, 0.02407994493842125, 0.008026648312807083, 0.016053296625614166, 0.3451458811759949, 0.05618653818964958, 0.008026648312807083, 0.008026648312807083, 0.016053296625614166, 0.008026648312807083, 0.040133241564035416, 0.39330577850341797, 0.008026648312807083, 0.09523895382881165, 0.04413512349128723, 0.04645802453160286, 0.09059315174818039, 0.1324053704738617, 0.03716642037034035, 0.05342673137784004, 0.13472826778888702, 0.039489321410655975, 0.04878092557191849, 0.060395434498786926, 0.03716642037034035, 0.011614506132900715, 0.025551913306117058, 0.025551913306117058, 0.016260309144854546, 0.06271833181381226, 0.018583210185170174, 0.018583210185170174, 0.004645802546292543, 0.11636757850646973, 0.09276855736970901, 0.11392629891633987, 0.09032727777957916, 0.05289435386657715, 0.07567961513996124, 0.0642869845032692, 0.03580540791153908, 0.07323833554983139, 0.05614938959479332, 0.03092285245656967, 0.03092285245656967, 0.03173661231994629, 0.021971501410007477, 0.026854056864976883, 0.02766781486570835, 0.018716463819146156, 0.01220638956874609, 0.019530223682522774, 0.006510074250400066, 0.029100842773914337, 0.058201685547828674, 0.029100842773914337, 0.8730252981185913, 0.01873777061700821, 0.7307730913162231, 0.01873777061700821, 0.1873777061700821, 0.01873777061700821, 0.01873777061700821, 0.7453346252441406, 0.933660089969635, 0.14284297823905945, 0.09476412087678909, 0.06898270547389984, 0.06758911162614822, 0.06410513818264008, 0.049472443759441376, 0.05295642092823982, 0.02856859564781189, 0.10521604120731354, 0.017419874668121338, 0.07525385916233063, 0.022994235157966614, 0.047382060438394547, 0.05295642092823982, 0.01602628454566002, 0.02647821046411991, 0.023691030219197273, 0.011148720048367977, 0.014632695354521275, 0.017419874668121338, 0.9364844560623169, 0.01337835006415844, 0.9280836582183838, 0.09965357929468155, 0.7972286343574524, 0.7847319841384888, 0.13647513091564178, 0.65180504322052, 0.013465505093336105, 0.013465505093336105, 0.013465505093336105, 0.7675337791442871, 0.040396515280008316, 0.02693101018667221, 0.08079303056001663, 0.013465505093336105, 0.013465505093336105, 0.06088687479496002, 0.011416289024055004, 0.03805429860949516, 0.3006289601325989, 0.08371945470571518, 0.007610859349370003, 0.05327601730823517, 0.05327601730823517, 0.05327601730823517, 0.045665156096220016, 0.03805429860949516, 0.03044343739748001, 0.0038054296746850014, 0.03044343739748001, 0.0038054296746850014, 0.0038054296746850014, 0.15221719443798065, 0.0038054296746850014, 0.022832578048110008, 0.849852442741394, 0.07991884648799896, 0.04230998083949089, 0.014103326015174389, 0.014103326015174389, 0.1974465698003769, 0.3760887086391449, 0.009402217343449593, 0.023505544289946556, 0.014103326015174389, 0.028206652030348778, 0.014103326015174389, 0.004701108671724796, 0.04230998083949089, 0.004701108671724796, 0.004701108671724796, 0.07521773874759674, 0.056413304060697556, 0.27326053380966187, 0.02484186738729477, 0.22357679903507233, 0.4223117530345917, 0.7241859436035156, 0.7422593235969543, 0.8934709429740906, 0.8180800080299377, 0.018327558413147926, 0.009163779206573963, 0.9255416989326477, 0.009163779206573963, 0.009163779206573963, 0.009163779206573963, 0.9088060855865479, 0.03495408222079277, 0.915859043598175], \"Term\": [\"000\", \"000\", \"000\", \"000\", \"000\", \"000\", \"000\", \"000\", \"000\", \"000\", \"000\", \"000\", \"000\", \"000\", \"000\", \"000\", \"000\", \"000\", \"000\", \"10th\", \"11\", \"11\", \"11\", \"11\", \"11\", \"11\", \"11\", \"11\", \"11\", \"11\", \"11\", \"11\", \"11\", \"11\", \"11\", \"11\", \"11\", \"11\", \"11in\", \"12\", \"12\", \"12\", \"12\", \"12\", \"12\", \"12\", \"12\", \"12\", \"12\", \"12\", \"12\", \"12\", \"12\", \"12\", \"12\", \"12\", \"12\", \"12\", \"12\", \"12in\", \"13in\", \"1855\", \"18k\", \"1957\", \"1974\", \"1974\", \"1979\", \"2006\", \"2006\", \"2006\", \"2006\", \"2006\", \"2006\", \"2006\", \"2006\", \"2006\", \"2006\", \"2006\", \"2006\", \"2006\", \"2006\", \"2012\", \"2012\", \"2012\", \"2012\", \"2012\", \"2012\", \"2012\", \"2012\", \"2012\", \"2012\", \"2012\", \"2012\", \"2012\", \"2012\", \"2012\", \"2012\", \"2012\", \"2012\", \"2012\", \"2014\", \"2014\", \"2014\", \"2014\", \"2014\", \"2014\", \"2014\", \"2014\", \"2014\", \"2014\", \"2014\", \"2014\", \"2014\", \"2014\", \"2014\", \"2014\", \"2014\", \"2014\", \"2014\", \"2014\", \"2015\", \"2015\", \"2015\", \"2015\", \"2015\", \"2015\", \"2015\", \"2015\", \"2015\", \"2015\", \"2015\", \"2015\", \"2015\", \"2015\", \"2015\", \"2015\", \"2015\", \"2015\", \"2015\", \"2015\", \"31\", \"31\", \"31\", \"31\", \"31\", \"31\", \"31\", \"31\", \"31\", \"31\", \"31\", \"31\", \"31\", \"31\", \"31\", \"31\", \"31\", \"31\", \"349\", \"349\", \"349\", \"34th\", \"34th\", \"5\", \"5\", \"5\", \"5\", \"5\", \"5\", \"5\", \"5\", \"5\", \"5\", \"5\", \"5\", \"5\", \"5\", \"5\", \"5\", \"5\", \"5\", \"5\", \"5\", \"5c\", \"5cs\", \"6\", \"6\", \"6\", \"6\", \"6\", \"6\", \"6\", \"6\", \"6\", \"6\", \"6\", \"6\", \"6\", \"6\", \"6\", \"6\", \"6\", \"6\", \"6\", \"6\", \"67m\", \"69th\", \"72\", \"72\", \"72\", \"72\", \"72\", \"8\", \"8\", \"8\", \"8\", \"8\", \"8\", \"8\", \"8\", \"8\", \"8\", \"8\", \"8\", \"8\", \"8\", \"8\", \"8\", \"8\", \"8\", \"8\", \"820\", \"aamir\", \"aaron\", \"aaron\", \"aaron\", \"abdel\", \"abdel\", \"abdel\", \"abdel\", \"abdel\", \"abdel\", \"abdel\", \"abdel\", \"abdi\", \"abdi\", \"abdi\", \"abdulla\", \"abdulla\", \"abdulla\", \"abdulla\", \"abdullah\", \"abdullah\", \"abdullah\", \"abdullah\", \"abdullah\", \"abdullah\", \"abdullah\", \"abrahamian\", \"abrams\", \"abrams\", \"abrams\", \"abrams\", \"abrams\", \"absence\", \"absence\", \"absence\", \"absence\", \"absence\", \"absence\", \"absence\", \"absence\", \"absence\", \"absenteeism\", \"abu\", \"abu\", \"abu\", \"abu\", \"abu\", \"abu\", \"abu\", \"abu\", \"abu\", \"abu\", \"abu\", \"abu\", \"abu\", \"abubakar\", \"abubakar\", \"according\", \"according\", \"according\", \"according\", \"according\", \"according\", \"according\", \"according\", \"according\", \"according\", \"according\", \"according\", \"according\", \"according\", \"according\", \"according\", \"according\", \"according\", \"according\", \"according\", \"account\", \"account\", \"account\", \"account\", \"account\", \"account\", \"account\", \"account\", \"account\", \"account\", \"account\", \"account\", \"account\", \"account\", \"account\", \"account\", \"account\", \"account\", \"account\", \"account\", \"accounting\", \"accounting\", \"accounting\", \"actor\", \"actor\", \"actor\", \"actor\", \"actor\", \"actor\", \"actor\", \"actor\", \"actor\", \"actor\", \"actor\", \"actor\", \"actor\", \"actor\", \"actor\", \"adelaide\", \"adriatico\", \"adygeysk\", \"aerial\", \"agaric\", \"agaric\", \"ahmadu\", \"ahmadu\", \"ahrendts\", \"air\", \"air\", \"air\", \"air\", \"air\", \"air\", \"air\", \"air\", \"air\", \"air\", \"air\", \"air\", \"air\", \"air\", \"air\", \"air\", \"air\", \"air\", \"air\", \"air\", \"aircraft\", \"aircraft\", \"aircraft\", \"aircraft\", \"aircraft\", \"aircraft\", \"aircraft\", \"aircraft\", \"aircraft\", \"aircraft\", \"aircraft\", \"aircraft\", \"aircraft\", \"airdropped\", \"airdropped\", \"airport\", \"airport\", \"airport\", \"airport\", \"airport\", \"airport\", \"airport\", \"airport\", \"airport\", \"airport\", \"airport\", \"airport\", \"airport\", \"airport\", \"airport\", \"airport\", \"al\", \"al\", \"al\", \"al\", \"al\", \"al\", \"al\", \"al\", \"al\", \"al\", \"al\", \"al\", \"al\", \"al\", \"al\", \"al\", \"al\", \"al\", \"al\", \"al\", \"alignment\", \"alignment\", \"alley\", \"almighty\", \"alon\", \"also\", \"also\", \"also\", \"also\", \"also\", \"also\", \"also\", \"also\", \"also\", \"also\", \"also\", \"also\", \"also\", \"also\", \"also\", \"also\", \"also\", \"also\", \"also\", \"also\", \"amanita\", \"amanita\", \"amazon\", \"amazon\", \"amazon\", \"amazon\", \"amazon\", \"amazon\", \"amazon\", \"american\", \"american\", \"american\", \"american\", \"american\", \"american\", \"american\", \"american\", \"american\", \"american\", \"american\", \"american\", \"american\", \"american\", \"american\", \"american\", \"american\", \"american\", \"american\", \"american\", \"anarchy\", \"anchor\", \"anchor\", \"anchor\", \"anchor\", \"anchor\", \"anchor\", \"anderson\", \"animal\", \"animal\", \"animal\", \"animal\", \"animal\", \"animal\", \"animal\", \"animal\", \"animal\", \"animal\", \"animal\", \"animal\", \"animal\", \"animal\", \"animal\", \"animal\", \"anji\", \"ankle\", \"ankle\", \"ankle\", \"ankle\", \"ankle\", \"ankle\", \"ankle\", \"anna\", \"anna\", \"anna\", \"anna\", \"anna\", \"anna\", \"ansar\", \"ansar\", \"app\", \"app\", \"app\", \"app\", \"app\", \"app\", \"app\", \"app\", \"app\", \"app\", \"app\", \"app\", \"app\", \"appalled\", \"appalled\", \"appalled\", \"apple\", \"apple\", \"apple\", \"apple\", \"apple\", \"apple\", \"apple\", \"apple\", \"apple\", \"apple\", \"apple\", \"apple\", \"apple\", \"apple\", \"apple\", \"apple\", \"apple\", \"apple\", \"apple\", \"apple\", \"appleinsider\", \"apprehended\", \"apprehended\", \"apprehended\", \"apprehended\", \"apprehended\", \"apps\", \"apps\", \"apps\", \"apps\", \"apps\", \"apps\", \"apps\", \"apps\", \"apx\", \"aqap\", \"archdiocese\", \"archipelago\", \"arm\", \"arm\", \"arm\", \"arm\", \"arm\", \"arm\", \"arm\", \"arm\", \"arm\", \"arm\", \"arm\", \"arm\", \"arm\", \"arm\", \"arm\", \"arm\", \"armstrong\", \"armstrong\", \"arnold\", \"arrest\", \"arrest\", \"arrest\", \"arrest\", \"arrest\", \"arrest\", \"arrest\", \"arrest\", \"arrest\", \"arrest\", \"arrest\", \"arrest\", \"arrest\", \"arrest\", \"arrest\", \"artery\", \"artist\", \"artist\", \"artist\", \"artist\", \"artist\", \"artist\", \"artist\", \"artist\", \"artist\", \"ascertaining\", \"ashton\", \"asp\", \"asteroid\", \"asteroid\", \"asteroid\", \"asteroid\", \"asteroid\", \"attack\", \"attack\", \"attack\", \"attack\", \"attack\", \"attack\", \"attack\", \"attack\", \"attack\", \"attack\", \"attack\", \"attack\", \"attack\", \"attack\", \"attack\", \"attack\", \"attack\", \"attack\", \"attack\", \"attack\", \"attorney\", \"attorney\", \"attorney\", \"attorney\", \"attorney\", \"attorney\", \"attorney\", \"attorney\", \"attorney\", \"attorney\", \"attorney\", \"attract\", \"attract\", \"attract\", \"attract\", \"attract\", \"attract\", \"audio\", \"audio\", \"audio\", \"audio\", \"audio\", \"audio\", \"audio\", \"audio\", \"audition\", \"autonation\", \"autonation\", \"autonation\", \"autonation\", \"autopsy\", \"autopsy\", \"autopsy\", \"autopsy\", \"autopsy\", \"avenger\", \"aviv\", \"aviv\", \"awakens\", \"awakens\", \"axl\", \"axl\", \"baby\", \"baby\", \"baby\", \"baby\", \"baby\", \"baby\", \"baby\", \"baby\", \"baby\", \"baby\", \"baby\", \"baby\", \"baghdadi\", \"baghdadi\", \"baghdadi\", \"baghdadi\", \"baghdadi\", \"baghdadi\", \"baghdadi\", \"baghdadi\", \"baghdadi\", \"baghdadi\", \"baghdadi\", \"bakr\", \"bakr\", \"bakr\", \"bakr\", \"bakr\", \"bakr\", \"bakr\", \"bakr\", \"balad\", \"bale\", \"bale\", \"bale\", \"bale\", \"bale\", \"bale\", \"bale\", \"bale\", \"bale\", \"bale\", \"bali\", \"bali\", \"bali\", \"ball\", \"ball\", \"ball\", \"ball\", \"ball\", \"ball\", \"ball\", \"ball\", \"balloon\", \"baltimore\", \"bank\", \"bank\", \"bank\", \"bank\", \"bank\", \"bank\", \"bank\", \"bank\", \"bank\", \"bank\", \"bank\", \"bank\", \"bank\", \"bank\", \"banksy\", \"banksy\", \"banksy\", \"banksy\", \"banksy\", \"banksy\", \"banksy\", \"banksy\", \"bartolomeo\", \"bary\", \"bary\", \"bary\", \"bary\", \"bary\", \"bary\", \"bary\", \"batman\", \"batman\", \"batman\", \"batman\", \"batman\", \"batman\", \"batman\", \"batmobile\", \"batmobile\", \"batmobile\", \"batmobile\", \"batmobile\", \"batmobile\", \"battery\", \"battery\", \"battery\", \"battery\", \"battery\", \"battery\", \"battery\", \"battery\", \"battery\", \"battery\", \"battery\", \"behaviour\", \"behaviour\", \"behaviour\", \"behaviour\", \"beheading\", \"beheading\", \"beheading\", \"beheading\", \"beheading\", \"beheading\", \"beheading\", \"beheading\", \"beheading\", \"beheading\", \"beheading\", \"beheads\", \"benghazi\", \"benghazi\", \"benghazi\", \"benghazi\", \"bethell\", \"bethell\", \"bethell\", \"beyonc\\u00e9\", \"bhakkar\", \"bibeau\", \"bibeau\", \"bibeau\", \"bibeau\", \"bibeau\", \"bibeau\", \"big\", \"big\", \"big\", \"big\", \"big\", \"big\", \"big\", \"big\", \"big\", \"big\", \"big\", \"big\", \"big\", \"big\", \"big\", \"big\", \"big\", \"big\", \"big\", \"big\", \"billed\", \"billing\", \"billing\", \"billing\", \"binesh\", \"biography\", \"biography\", \"biography\", \"biography\", \"biography\", \"biopic\", \"biopic\", \"biopic\", \"bird\", \"bird\", \"bird\", \"bird\", \"bird\", \"bird\", \"bird\", \"bird\", \"bird\", \"birth\", \"birth\", \"birth\", \"birth\", \"birth\", \"birth\", \"birth\", \"birth\", \"birth\", \"birth\", \"birth\", \"birth\", \"birth\", \"blade\", \"blade\", \"blasio\", \"blasio\", \"blocker\", \"blocker\", \"blumenthal\", \"blumenthal\", \"blumenthal\", \"blumenthal\", \"blumenthal\", \"blumenthal\", \"blurred\", \"blurred\", \"blurred\", \"blurred\", \"blurring\", \"boko\", \"boko\", \"boko\", \"boko\", \"boko\", \"boko\", \"boko\", \"boko\", \"boko\", \"boko\", \"boko\", \"boko\", \"boko\", \"boko\", \"boko\", \"boko\", \"bonham\", \"bonobo\", \"book\", \"book\", \"book\", \"book\", \"book\", \"book\", \"book\", \"book\", \"book\", \"book\", \"book\", \"book\", \"book\", \"border\", \"border\", \"border\", \"border\", \"border\", \"border\", \"border\", \"border\", \"border\", \"border\", \"border\", \"border\", \"border\", \"border\", \"border\", \"border\", \"border\", \"border\", \"border\", \"born\", \"born\", \"born\", \"born\", \"born\", \"born\", \"born\", \"born\", \"born\", \"born\", \"born\", \"born\", \"born\", \"born\", \"born\", \"born\", \"born\", \"bounce\", \"boyle\", \"boyle\", \"brad\", \"brad\", \"branson\", \"bratton\", \"brian\", \"brian\", \"brian\", \"brian\", \"brian\", \"brian\", \"brian\", \"brian\", \"brian\", \"brick\", \"brick\", \"brick\", \"brick\", \"brick\", \"brick\", \"brick\", \"brien\", \"britani\", \"britani\", \"britani\", \"british\", \"british\", \"british\", \"british\", \"british\", \"british\", \"british\", \"british\", \"british\", \"british\", \"british\", \"british\", \"british\", \"british\", \"british\", \"british\", \"british\", \"british\", \"broadwell\", \"broadwell\", \"brokaw\", \"brokaw\", \"brook\", \"brooklyn\", \"brooklyn\", \"brown\", \"brown\", \"brown\", \"brown\", \"brown\", \"brown\", \"brown\", \"brown\", \"brown\", \"brown\", \"brown\", \"brown\", \"brown\", \"browser\", \"browser\", \"brunswick\", \"brunswick\", \"brunswick\", \"buckingham\", \"buckingham\", \"buckingham\", \"buddle\", \"bug\", \"bug\", \"bunbury\", \"bunbury\", \"bunbury\", \"bureaucrat\", \"burger\", \"burger\", \"burger\", \"burrowed\", \"burrowed\", \"burrowed\", \"butcher\", \"butcher\", \"cache\", \"cache\", \"caitlin\", \"caitlin\", \"call\", \"call\", \"call\", \"call\", \"call\", \"call\", \"call\", \"call\", \"call\", \"call\", \"call\", \"call\", \"call\", \"call\", \"call\", \"call\", \"call\", \"call\", \"call\", \"call\", \"calorie\", \"canada\", \"canada\", \"canada\", \"canada\", \"canada\", \"canada\", \"canada\", \"canada\", \"canada\", \"canadian\", \"canadian\", \"canadian\", \"canadian\", \"canadian\", \"canadian\", \"canadian\", \"canadian\", \"canadian\", \"canadian\", \"canadian\", \"canadian\", \"canadian\", \"canadian\", \"canadian\", \"canadian\", \"canseco\", \"canseco\", \"canterbury\", \"canterbury\", \"capsule\", \"capsule\", \"capsule\", \"capsule\", \"capture\", \"capture\", \"capture\", \"capture\", \"capture\", \"capture\", \"capture\", \"capture\", \"capture\", \"capture\", \"capture\", \"capture\", \"capture\", \"captured\", \"captured\", \"captured\", \"captured\", \"captured\", \"captured\", \"captured\", \"captured\", \"captured\", \"captured\", \"captured\", \"captured\", \"captured\", \"captured\", \"captured\", \"captured\", \"captured\", \"car\", \"car\", \"car\", \"car\", \"car\", \"car\", \"car\", \"car\", \"car\", \"car\", \"car\", \"car\", \"car\", \"car\", \"car\", \"car\", \"car\", \"car\", \"carlisle\", \"carlisle\", \"cartoon\", \"cartoon\", \"cartoonist\", \"casady\", \"casaleargs\", \"case\", \"case\", \"case\", \"case\", \"case\", \"case\", \"case\", \"case\", \"case\", \"case\", \"case\", \"case\", \"case\", \"case\", \"case\", \"case\", \"case\", \"case\", \"case\", \"case\", \"casey\", \"casey\", \"cassy\", \"castro\", \"castro\", \"castro\", \"castro\", \"castro\", \"castro\", \"cat\", \"cat\", \"cat\", \"cat\", \"cat\", \"catapulted\", \"catfish\", \"catfish\", \"catfish\", \"catfish\", \"catholic\", \"catholic\", \"catholic\", \"catholic\", \"catholic\", \"catholic\", \"catholic\", \"catholic\", \"catron\", \"cbi\", \"cctv\", \"cctv\", \"cctv\", \"cctv\", \"cctv\", \"cctv\", \"ceasefire\", \"ceasefire\", \"ceasefire\", \"ceasefire\", \"ceasefire\", \"ceasefire\", \"ceasefire\", \"chad\", \"chad\", \"chad\", \"chad\", \"chad\", \"chad\", \"chad\", \"chad\", \"chandler\", \"chandler\", \"chandler\", \"chandler\", \"chandler\", \"chandler\", \"chandler\", \"chastain\", \"chat\", \"chat\", \"chat\", \"chat\", \"chat\", \"chat\", \"chat\", \"chauhan\", \"chauhan\", \"chemical\", \"chemical\", \"chemical\", \"chemical\", \"chemical\", \"chemical\", \"chemical\", \"chemical\", \"chemical\", \"chemical\", \"chemical\", \"chemical\", \"chemotherapy\", \"chernobyl\", \"cherry\", \"cherry\", \"chibok\", \"chibok\", \"chibok\", \"chibok\", \"chibok\", \"chicken\", \"chicken\", \"chicken\", \"chicken\", \"chicken\", \"chicken\", \"chicken\", \"chien\", \"chien\", \"child\", \"child\", \"child\", \"child\", \"child\", \"child\", \"child\", \"child\", \"child\", \"child\", \"child\", \"child\", \"child\", \"child\", \"child\", \"child\", \"child\", \"child\", \"chinese\", \"chinese\", \"chinese\", \"chinese\", \"chinese\", \"chinese\", \"chinese\", \"chinese\", \"chinese\", \"chinese\", \"chinese\", \"chinese\", \"chinook\", \"chinook\", \"chinook\", \"chlorine\", \"chlorine\", \"chlorine\", \"chlorine\", \"chlorine\", \"chlorine\", \"chol\", \"chopper\", \"choson\", \"chosun\", \"chosun\", \"chosun\", \"christian\", \"christian\", \"christian\", \"christian\", \"christian\", \"christian\", \"christian\", \"christian\", \"christian\", \"christian\", \"christian\", \"christian\", \"christian\", \"christy\", \"christy\", \"christy\", \"cicurel\", \"cirillo\", \"cirillo\", \"cirillo\", \"cirillo\", \"city\", \"city\", \"city\", \"city\", \"city\", \"city\", \"city\", \"city\", \"city\", \"city\", \"city\", \"city\", \"city\", \"city\", \"city\", \"city\", \"city\", \"city\", \"city\", \"city\", \"claim\", \"claim\", \"claim\", \"claim\", \"claim\", \"claim\", \"claim\", \"claim\", \"claim\", \"claim\", \"claim\", \"claim\", \"claim\", \"claim\", \"claim\", \"claim\", \"claim\", \"claim\", \"claim\", \"claim\", \"classmate\", \"classmate\", \"classmate\", \"classmate\", \"classmate\", \"cleaver\", \"clinically\", \"cluster\", \"cluster\", \"cnn\", \"cnn\", \"cnn\", \"cnn\", \"cnn\", \"cnn\", \"cnn\", \"cnn\", \"cnn\", \"cnn\", \"cnn\", \"cnn\", \"cnn\", \"cnn\", \"coalition\", \"coalition\", \"coalition\", \"coalition\", \"coalition\", \"coalition\", \"coalition\", \"collector\", \"collector\", \"collector\", \"comcast\", \"comcast\", \"comcast\", \"comcast\", \"comcast\", \"comcast\", \"comcast\", \"comcast\", \"comcast\", \"comcast\", \"comcast\", \"coming\", \"coming\", \"coming\", \"coming\", \"coming\", \"coming\", \"coming\", \"coming\", \"coming\", \"coming\", \"coming\", \"coming\", \"coming\", \"coming\", \"coming\", \"coming\", \"coming\", \"coming\", \"coming\", \"coming\", \"commercial\", \"commercial\", \"commercial\", \"commercial\", \"commercial\", \"commercial\", \"commercial\", \"commercial\", \"commercial\", \"commercial\", \"common\", \"common\", \"common\", \"common\", \"common\", \"common\", \"common\", \"common\", \"common\", \"common\", \"common\", \"common\", \"common\", \"common\", \"common\", \"common\", \"company\", \"company\", \"company\", \"company\", \"company\", \"company\", \"company\", \"company\", \"company\", \"company\", \"company\", \"company\", \"company\", \"company\", \"company\", \"company\", \"company\", \"company\", \"company\", \"company\", \"complication\", \"conal\", \"conal\", \"conal\", \"conal\", \"conal\", \"concert\", \"concert\", \"concert\", \"condom\", \"condom\", \"condom\", \"cond\\u00e9\", \"congolese\", \"congressman\", \"congressman\", \"constantine\", \"consumer\", \"consumer\", \"consumer\", \"consumer\", \"consumer\", \"consumer\", \"consumer\", \"consumerist\", \"consumerist\", \"consumerist\", \"contracted\", \"contracted\", \"controller\", \"convent\", \"convent\", \"convent\", \"convent\", \"conveying\", \"cook\", \"cook\", \"cook\", \"cook\", \"cook\", \"cook\", \"cook\", \"cooke\", \"core\", \"core\", \"core\", \"core\", \"core\", \"core\", \"core\", \"cornerstone\", \"corporal\", \"corrective\", \"cost\", \"cost\", \"cost\", \"cost\", \"cost\", \"cost\", \"cost\", \"cost\", \"cost\", \"cost\", \"cost\", \"cost\", \"cost\", \"cost\", \"cotton\", \"could\", \"could\", \"could\", \"could\", \"could\", \"could\", \"could\", \"could\", \"could\", \"could\", \"could\", \"could\", \"could\", \"could\", \"could\", \"could\", \"could\", \"could\", \"could\", \"could\", \"counselling\", \"countdown\", \"countdown\", \"country\", \"country\", \"country\", \"country\", \"country\", \"country\", \"country\", \"country\", \"country\", \"country\", \"country\", \"country\", \"country\", \"country\", \"country\", \"country\", \"country\", \"country\", \"country\", \"country\", \"cpwd\", \"crater\", \"crater\", \"crater\", \"crater\", \"crater\", \"crater\", \"crawl\", \"credido\", \"criminality\", \"criminality\", \"crusade\", \"cuba\", \"cuba\", \"cuba\", \"cuba\", \"cuban\", \"cuban\", \"cuban\", \"cuban\", \"cuban\", \"culkin\", \"culkin\", \"culkin\", \"culkin\", \"culkin\", \"culkin\", \"culkin\", \"cumbria\", \"curnew\", \"currency\", \"currency\", \"customer\", \"customer\", \"customer\", \"customer\", \"customer\", \"customer\", \"customer\", \"customer\", \"customer\", \"customer\", \"customer\", \"customer\", \"customer\", \"customer\", \"customer\", \"daiane\", \"daiane\", \"dam\", \"dam\", \"dam\", \"dam\", \"dam\", \"dam\", \"dam\", \"damboa\", \"damboa\", \"dan\", \"dan\", \"dan\", \"dan\", \"dan\", \"dan\", \"danny\", \"danny\", \"danny\", \"danny\", \"darkness\", \"darkness\", \"darkness\", \"darkness\", \"darkness\", \"darkness\", \"daughter\", \"daughter\", \"daughter\", \"daughter\", \"daughter\", \"daughter\", \"daughter\", \"daughter\", \"daughter\", \"daughter\", \"day\", \"day\", \"day\", \"day\", \"day\", \"day\", \"day\", \"day\", \"day\", \"day\", \"day\", \"day\", \"day\", \"day\", \"day\", \"day\", \"day\", \"day\", \"day\", \"day\", \"dc\", \"dc\", \"dc\", \"dc\", \"dc\", \"dc\", \"dead\", \"dead\", \"dead\", \"dead\", \"dead\", \"dead\", \"dead\", \"dead\", \"dead\", \"dead\", \"dead\", \"dead\", \"dead\", \"dead\", \"dead\", \"dead\", \"dead\", \"dealership\", \"dean\", \"death\", \"death\", \"death\", \"death\", \"death\", \"death\", \"death\", \"death\", \"death\", \"death\", \"death\", \"death\", \"death\", \"death\", \"death\", \"death\", \"death\", \"death\", \"death\", \"decided\", \"decided\", \"decided\", \"decided\", \"decided\", \"decided\", \"decided\", \"decided\", \"decided\", \"decided\", \"decided\", \"decided\", \"decided\", \"decided\", \"decided\", \"decided\", \"decided\", \"decided\", \"decided\", \"decided\", \"decker\", \"dedicating\", \"deen\", \"deen\", \"deepdotweb\", \"defector\", \"defector\", \"dejesus\", \"dejesus\", \"deleted\", \"deleted\", \"deleted\", \"deleted\", \"deleted\", \"deleted\", \"deleted\", \"deleted\", \"deleted\", \"deleted\", \"deliberation\", \"delight\", \"delight\", \"delight\", \"delight\", \"deplorable\", \"dera\", \"dera\", \"detroit\", \"detroit\", \"detroit\", \"detroit\", \"detroit\", \"detroit\", \"device\", \"device\", \"device\", \"device\", \"device\", \"device\", \"device\", \"device\", \"device\", \"device\", \"device\", \"device\", \"device\", \"device\", \"device\", \"device\", \"device\", \"device\", \"dhawan\", \"dhs\", \"dhs\", \"dhs\", \"dhs\", \"di\", \"dicaprio\", \"dicaprio\", \"dicaprio\", \"dictator\", \"dictator\", \"dictator\", \"dictator\", \"dictator\", \"dictator\", \"died\", \"died\", \"died\", \"died\", \"died\", \"died\", \"died\", \"died\", \"died\", \"died\", \"died\", \"died\", \"died\", \"died\", \"died\", \"died\", \"died\", \"differentiate\", \"dinner\", \"dinner\", \"dinner\", \"dinner\", \"dinner\", \"dino\", \"dino\", \"discussion\", \"discussion\", \"discussion\", \"discussion\", \"discussion\", \"discussion\", \"discussion\", \"discussion\", \"discussion\", \"discussion\", \"discussion\", \"discussion\", \"discussion\", \"discussion\", \"disease\", \"disease\", \"disease\", \"disease\", \"disease\", \"disease\", \"disease\", \"disease\", \"disease\", \"disease\", \"disease\", \"disintegrating\", \"display\", \"display\", \"display\", \"display\", \"display\", \"display\", \"display\", \"display\", \"display\", \"display\", \"display\", \"display\", \"display\", \"display\", \"ditka\", \"ditka\", \"ditka\", \"document\", \"document\", \"document\", \"document\", \"document\", \"document\", \"document\", \"document\", \"document\", \"document\", \"document\", \"document\", \"document\", \"document\", \"dog\", \"dog\", \"dog\", \"dog\", \"dog\", \"dog\", \"dog\", \"dog\", \"dog\", \"dog\", \"dog\", \"dog\", \"dog\", \"dog\", \"doll\", \"doll\", \"doll\", \"domestic\", \"domestic\", \"domestic\", \"domestic\", \"domestic\", \"domestic\", \"domestic\", \"domestic\", \"domestic\", \"domestic\", \"downloads\", \"downloads\", \"dragged\", \"dragged\", \"dragged\", \"dragged\", \"drive\", \"drive\", \"drive\", \"drive\", \"drive\", \"drive\", \"drive\", \"drive\", \"drive\", \"drive\", \"drive\", \"drive\", \"drive\", \"drive\", \"drive\", \"drive\", \"drive\", \"drive\", \"drone\", \"drone\", \"drone\", \"drone\", \"drone\", \"drone\", \"drone\", \"drone\", \"drone\", \"drummer\", \"dulaimi\", \"dulaimi\", \"dulaimi\", \"dulaimi\", \"dulaimi\", \"duluiyah\", \"duncan\", \"duncan\", \"duncan\", \"duncan\", \"duncan\", \"duncan\", \"duo\", \"duo\", \"duo\", \"durex\", \"durex\", \"durex\", \"dylan\", \"dylan\", \"dylan\", \"dylan\", \"dzhokhar\", \"earth\", \"earth\", \"earth\", \"earth\", \"earth\", \"earth\", \"earth\", \"earth\", \"earth\", \"earth\", \"earth\", \"earth\", \"eastwood\", \"ebola\", \"ebola\", \"ebola\", \"ebola\", \"ebola\", \"ebola\", \"ebola\", \"ebola\", \"ebola\", \"ebola\", \"ebola\", \"ebola\", \"ebola\", \"ebola\", \"ebola\", \"edition\", \"edition\", \"edition\", \"edition\", \"edition\", \"edition\", \"edition\", \"edition\", \"edition\", \"edition\", \"edition\", \"edition\", \"edition\", \"edition\", \"edition\", \"edition\", \"eduard\", \"egalitarian\", \"eggnog\", \"eggnog\", \"egyptian\", \"egyptian\", \"egyptian\", \"egyptian\", \"egyptian\", \"elastomer\", \"electric\", \"electric\", \"elin\", \"elon\", \"elon\", \"employer\", \"employer\", \"employer\", \"employer\", \"emwazi\", \"emwazi\", \"emwazi\", \"emwazi\", \"emwazi\", \"emwazi\", \"emwazi\", \"emwazi\", \"emwazi\", \"emwazi\", \"englewood\", \"english\", \"english\", \"english\", \"english\", \"english\", \"english\", \"english\", \"english\", \"english\", \"english\", \"english\", \"english\", \"english\", \"english\", \"english\", \"english\", \"enhancer\", \"entrepreneur\", \"envelope\", \"envelope\", \"envelope\", \"envelope\", \"eran\", \"espn\", \"espn\", \"espn\", \"espn\", \"espn\", \"espn\", \"espn\", \"espn\", \"espnw\", \"esquire\", \"esquire\", \"esquire\", \"estrogen\", \"eustachio\", \"even\", \"even\", \"even\", \"even\", \"even\", \"even\", \"even\", \"even\", \"even\", \"even\", \"even\", \"even\", \"even\", \"even\", \"even\", \"even\", \"even\", \"even\", \"even\", \"even\", \"expects\", \"exporter\", \"facebook\", \"facebook\", \"facebook\", \"facebook\", \"facebook\", \"facebook\", \"facebook\", \"facebook\", \"facebook\", \"facebook\", \"facebook\", \"facebook\", \"facebook\", \"facebook\", \"facebook\", \"facebook\", \"facebook\", \"facebook\", \"facebook\", \"facebook\", \"fake\", \"fake\", \"fake\", \"fake\", \"fake\", \"fake\", \"fake\", \"fake\", \"fake\", \"fake\", \"fake\", \"fake\", \"fake\", \"fake\", \"fake\", \"fake\", \"fake\", \"fake\", \"family\", \"family\", \"family\", \"family\", \"family\", \"family\", \"family\", \"family\", \"family\", \"family\", \"family\", \"family\", \"family\", \"family\", \"family\", \"family\", \"family\", \"family\", \"family\", \"family\", \"fansided\", \"farther\", \"father\", \"father\", \"father\", \"father\", \"father\", \"father\", \"father\", \"father\", \"father\", \"father\", \"father\", \"father\", \"father\", \"father\", \"father\", \"father\", \"father\", \"father\", \"faulty\", \"feature\", \"feature\", \"feature\", \"feature\", \"feature\", \"feature\", \"feature\", \"feature\", \"feature\", \"feature\", \"feature\", \"feature\", \"feature\", \"feature\", \"feature\", \"feature\", \"feature\", \"feature\", \"feature\", \"feig\", \"feig\", \"feig\", \"fence\", \"fence\", \"fence\", \"fence\", \"ferguson\", \"ferguson\", \"ferguson\", \"ferguson\", \"ferguson\", \"ferguson\", \"ferrell\", \"ferrell\", \"fidel\", \"fidel\", \"fidel\", \"fighter\", \"fighter\", \"fighter\", \"fighter\", \"fighter\", \"fighter\", \"fighter\", \"fighter\", \"fighter\", \"fighter\", \"fighter\", \"fighter\", \"fighter\", \"fighter\", \"fighter\", \"fighter\", \"fighter\", \"fighter\", \"fighter\", \"fighter\", \"figure\", \"figure\", \"figure\", \"figure\", \"figure\", \"figure\", \"figure\", \"figure\", \"figure\", \"figure\", \"figure\", \"figure\", \"figure\", \"figure\", \"figure\", \"figure\", \"figure\", \"figure\", \"figure\", \"figure\", \"film\", \"film\", \"film\", \"film\", \"film\", \"film\", \"film\", \"film\", \"film\", \"film\", \"film\", \"film\", \"film\", \"film\", \"film\", \"film\", \"film\", \"fincher\", \"finest\", \"fired\", \"fired\", \"fired\", \"fired\", \"fired\", \"fired\", \"fired\", \"fired\", \"fired\", \"fired\", \"fired\", \"fired\", \"fired\", \"fired\", \"fired\", \"firework\", \"firework\", \"firework\", \"firm\", \"firm\", \"firm\", \"firm\", \"firm\", \"firm\", \"firm\", \"firm\", \"firm\", \"firm\", \"firm\", \"firm\", \"firm\", \"first\", \"first\", \"first\", \"first\", \"first\", \"first\", \"first\", \"first\", \"first\", \"first\", \"first\", \"first\", \"first\", \"first\", \"first\", \"first\", \"first\", \"first\", \"first\", \"first\", \"fitch\", \"fklbh4yx6n\", \"foley\", \"foley\", \"foley\", \"foley\", \"foley\", \"foley\", \"foley\", \"foley\", \"foley\", \"foley\", \"foley\", \"foley\", \"foley\", \"foley\", \"foley\", \"foley\", \"foley\", \"foley\", \"foleys\", \"footage\", \"footage\", \"footage\", \"footage\", \"footage\", \"footage\", \"footage\", \"footage\", \"footage\", \"footage\", \"footage\", \"footage\", \"footage\", \"football\", \"football\", \"football\", \"football\", \"football\", \"football\", \"force\", \"force\", \"force\", \"force\", \"force\", \"force\", \"force\", \"force\", \"force\", \"force\", \"force\", \"force\", \"force\", \"force\", \"force\", \"force\", \"force\", \"force\", \"force\", \"force\", \"forgot\", \"foskett\", \"found\", \"found\", \"found\", \"found\", \"found\", \"found\", \"found\", \"found\", \"found\", \"found\", \"found\", \"found\", \"found\", \"found\", \"found\", \"found\", \"found\", \"found\", \"found\", \"found\", \"founder\", \"founder\", \"founder\", \"founder\", \"founder\", \"founder\", \"founder\", \"founder\", \"founder\", \"founder\", \"founder\", \"founder\", \"founder\", \"founder\", \"foxnewsfacts\", \"foxnewspress\", \"fr\", \"fr\", \"fractured\", \"fractured\", \"fractured\", \"fractured\", \"francis\", \"francis\", \"francis\", \"francis\", \"francis\", \"francis\", \"francis\", \"francis\", \"freelance\", \"freelance\", \"freelance\", \"freelance\", \"freelance\", \"freshman\", \"freshman\", \"freshman\", \"frisk\", \"fryd_\", \"fungi\", \"fungi\", \"fungus\", \"fx\", \"galveston\", \"galveston\", \"galvin\", \"galvin\", \"gang\", \"gang\", \"gang\", \"gang\", \"gang\", \"gang\", \"gang\", \"gang\", \"gang\", \"gang\", \"gang\", \"ganganagar\", \"garden\", \"garden\", \"garden\", \"garden\", \"garden\", \"garden\", \"garden\", \"garden\", \"garden\", \"garden\", \"gas\", \"gas\", \"gas\", \"gas\", \"gas\", \"gas\", \"gas\", \"gas\", \"gave\", \"gave\", \"gave\", \"gave\", \"gave\", \"gave\", \"gave\", \"gave\", \"gave\", \"gave\", \"gave\", \"gave\", \"gave\", \"gave\", \"gave\", \"gave\", \"gaza\", \"gaza\", \"gaza\", \"gaza\", \"gee\", \"gee\", \"gee\", \"gee\", \"genitalia\", \"genitalia\", \"genitalia\", \"genitalia\", \"genitalia\", \"gertz\", \"get\", \"get\", \"get\", \"get\", \"get\", \"get\", \"get\", \"get\", \"get\", \"get\", \"get\", \"get\", \"get\", \"get\", \"get\", \"get\", \"get\", \"get\", \"get\", \"get\", \"giggly\", \"gill\", \"gill\", \"gill\", \"gill\", \"gill\", \"gill\", \"gill\", \"ginsberg\", \"ginsberg\", \"girl\", \"girl\", \"girl\", \"girl\", \"girl\", \"girl\", \"girl\", \"girl\", \"girl\", \"girl\", \"girl\", \"girl\", \"girl\", \"girl\", \"girl\", \"girl\", \"girl\", \"girl\", \"girl\", \"girl\", \"globalpost\", \"globalpost\", \"go\", \"go\", \"go\", \"go\", \"go\", \"go\", \"go\", \"go\", \"go\", \"go\", \"go\", \"go\", \"go\", \"go\", \"go\", \"go\", \"go\", \"go\", \"go\", \"go\", \"god\", \"god\", \"god\", \"god\", \"god\", \"god\", \"god\", \"god\", \"god\", \"god\", \"god\", \"god\", \"god\", \"god\", \"god\", \"god\", \"godane\", \"godane\", \"godane\", \"godane\", \"godane\", \"godane\", \"gold\", \"gold\", \"gold\", \"gold\", \"gold\", \"gold\", \"gold\", \"gold\", \"gold\", \"gold\", \"gold\", \"gold\", \"gold\", \"gold\", \"gold\", \"gold\", \"gold\", \"goldfish\", \"goldfish\", \"goldfish\", \"golf\", \"golf\", \"golf\", \"golf\", \"golf\", \"golf\", \"gonzalez\", \"gonzalez\", \"gonzalez\", \"gonzalez\", \"gonzalez\", \"gonzalez\", \"gonzalez\", \"gonzalez\", \"google\", \"google\", \"google\", \"google\", \"google\", \"google\", \"google\", \"google\", \"google\", \"google\", \"google\", \"google\", \"google\", \"google\", \"google\", \"gorani\", \"government\", \"government\", \"government\", \"government\", \"government\", \"government\", \"government\", \"government\", \"government\", \"government\", \"government\", \"government\", \"government\", \"government\", \"government\", \"government\", \"government\", \"government\", \"government\", \"grandma\", \"grass\", \"grass\", \"gregg\", \"greta\", \"groggy\", \"group\", \"group\", \"group\", \"group\", \"group\", \"group\", \"group\", \"group\", \"group\", \"group\", \"group\", \"group\", \"group\", \"group\", \"group\", \"group\", \"group\", \"group\", \"group\", \"group\", \"gruber\", \"gruber\", \"guinness\", \"gunman\", \"gunman\", \"gunman\", \"gunman\", \"gunman\", \"gunman\", \"gunman\", \"gunman\", \"gunman\", \"gunman\", \"gunman\", \"gunman\", \"gunman\", \"gunshot\", \"gunshot\", \"gunshot\", \"gunshot\", \"gunshot\", \"gunshot\", \"gunshot\", \"gurmeet\", \"gurmeet\", \"guymon\", \"haaretz\", \"haines\", \"haines\", \"haines\", \"haines\", \"haines\", \"hair\", \"hair\", \"hair\", \"hair\", \"hair\", \"hair\", \"hair\", \"hair\", \"hair\", \"hair\", \"hair\", \"hair\", \"hairgate\", \"hairgate\", \"hairgate\", \"hairgate\", \"hairgate\", \"hairgate\", \"hala\", \"hallucinogenic\", \"hallucinogenic\", \"hallucinogenic\", \"hallway\", \"hamele\", \"hamid\", \"hand\", \"hand\", \"hand\", \"hand\", \"hand\", \"hand\", \"hand\", \"hand\", \"hand\", \"hand\", \"hand\", \"hand\", \"hand\", \"hand\", \"hand\", \"hand\", \"hand\", \"hand\", \"hand\", \"hank\", \"hank\", \"hank\", \"hank\", \"hank\", \"hank\", \"haram\", \"haram\", \"haram\", \"haram\", \"haram\", \"haram\", \"haram\", \"haram\", \"haram\", \"haram\", \"haram\", \"haram\", \"haram\", \"haram\", \"haram\", \"harig\", \"harper\", \"harper\", \"harper\", \"hatchfield\", \"hatim\", \"hayden\", \"hayden\", \"hbo\", \"hbo\", \"hbo\", \"hbo\", \"hbo\", \"hbo\", \"headshot\", \"health\", \"health\", \"health\", \"health\", \"health\", \"health\", \"health\", \"health\", \"health\", \"health\", \"health\", \"health\", \"health\", \"health\", \"health\", \"health\", \"health\", \"health\", \"health\", \"heard\", \"heard\", \"heard\", \"heard\", \"heard\", \"heard\", \"heard\", \"heard\", \"heard\", \"heard\", \"heard\", \"heard\", \"heard\", \"heard\", \"heard\", \"heard\", \"heard\", \"heard\", \"heard\", \"heart\", \"heart\", \"heart\", \"heart\", \"heart\", \"heart\", \"heart\", \"heart\", \"heart\", \"heart\", \"heart\", \"heart\", \"heart\", \"heart\", \"heart\", \"heart\", \"hebdo\", \"hebdo\", \"hebdo\", \"helicopter\", \"helicopter\", \"helicopter\", \"helicopter\", \"helicopter\", \"helicopter\", \"helicopter\", \"helicopter\", \"helmand\", \"helmet\", \"helmet\", \"helmet\", \"helmet\", \"helmet\", \"henry\", \"henry\", \"henry\", \"henry\", \"henry\", \"hill\", \"hill\", \"hill\", \"hill\", \"hill\", \"hill\", \"hill\", \"hill\", \"hill\", \"hill\", \"hill\", \"hip\", \"hip\", \"hip\", \"hip\", \"hip\", \"hoax\", \"hoax\", \"hoax\", \"hoax\", \"hoax\", \"hoax\", \"hoax\", \"hoax\", \"hoax\", \"hoax\", \"hoax\", \"hoax\", \"hoax\", \"hoax\", \"holy\", \"holy\", \"holy\", \"holy\", \"holy\", \"holy\", \"holy\", \"holy\", \"holy\", \"homeland\", \"homeland\", \"homeland\", \"homeland\", \"homeland\", \"homeland\", \"homeland\", \"homeless\", \"homeless\", \"homeless\", \"homeless\", \"homeless\", \"homeless\", \"homeless\", \"hop\", \"hop\", \"hop\", \"hop\", \"horner\", \"horner\", \"horner\", \"hospital\", \"hospital\", \"hospital\", \"hospital\", \"hospital\", \"hospital\", \"hospital\", \"hospital\", \"hospital\", \"hospital\", \"hospital\", \"hospital\", \"hospital\", \"hospital\", \"hospital\", \"hospital\", \"hostage\", \"hostage\", \"hostage\", \"hostage\", \"hostage\", \"hostage\", \"hostage\", \"hostage\", \"hostage\", \"hostage\", \"hostage\", \"hostage\", \"hostage\", \"hostage\", \"hostage\", \"hostage\", \"hostage\", \"house\", \"house\", \"house\", \"house\", \"house\", \"house\", \"house\", \"house\", \"house\", \"house\", \"house\", \"house\", \"house\", \"house\", \"house\", \"house\", \"house\", \"house\", \"house\", \"house\", \"humberto\", \"hunter\", \"hunter\", \"hunter\", \"hunter\", \"hunter\", \"hunter\", \"hunter\", \"hunter\", \"hurdle\", \"husband\", \"husband\", \"husband\", \"husband\", \"husband\", \"husband\", \"husband\", \"husband\", \"husband\", \"husband\", \"hwang\", \"hwang\", \"ibrahim\", \"iceland\", \"icloud\", \"icloud\", \"icloud\", \"icloud\", \"identified\", \"identified\", \"identified\", \"identified\", \"identified\", \"identified\", \"identified\", \"identified\", \"identified\", \"identified\", \"identified\", \"identified\", \"identified\", \"identified\", \"identified\", \"idf\", \"igen\", \"igen\", \"il\", \"il\", \"il\", \"il\", \"il\", \"il\", \"il\", \"ilbo\", \"ilbo\", \"ilbo\", \"ilic\", \"ilic\", \"ilic\", \"ilic\", \"imediaethics\", \"immigrated\", \"impact\", \"impact\", \"impact\", \"impact\", \"impact\", \"impact\", \"impact\", \"impact\", \"impact\", \"impact\", \"impact\", \"impact\", \"impact\", \"imported\", \"imported\", \"inch\", \"inch\", \"inch\", \"inch\", \"inch\", \"inch\", \"inch\", \"inch\", \"inch\", \"inch\", \"inch\", \"inch\", \"inch\", \"incheon\", \"independence\", \"independence\", \"independence\", \"independence\", \"independence\", \"indiegogo\", \"infamy\", \"infamy\", \"infertility\", \"informational\", \"intel\", \"intel\", \"intel\", \"intel\", \"intelligence\", \"intelligence\", \"intelligence\", \"intelligence\", \"intelligence\", \"intelligence\", \"intelligence\", \"intelligence\", \"intelligence\", \"intelligence\", \"intelligence\", \"intelligence\", \"intelligence\", \"intelligence\", \"intelligence\", \"intelligence\", \"intelligence\", \"intelligence\", \"intelligence\", \"intersex\", \"intersex\", \"intersex\", \"intersex\", \"intimacy\", \"intolerable\", \"intrusion\", \"io\", \"io\", \"io\", \"io\", \"io\", \"io\", \"io\", \"io\", \"iphone\", \"iphone\", \"iphone\", \"iphone\", \"iphone\", \"iphone\", \"iphone\", \"iphone\", \"iphone\", \"iphone\", \"iphone\", \"iphone\", \"iphone\", \"iphone\", \"iphone\", \"iphone\", \"iraq\", \"iraq\", \"iraq\", \"iraq\", \"iraq\", \"iraq\", \"iraq\", \"iraq\", \"iraq\", \"iraq\", \"iraq\", \"iraq\", \"iraq\", \"iraq\", \"iraq\", \"iraq\", \"iraq\", \"iraq\", \"iraq\", \"iraqi\", \"iraqi\", \"iraqi\", \"iraqi\", \"iraqi\", \"iraqi\", \"iraqi\", \"iraqi\", \"iraqi\", \"iraqi\", \"iraqi\", \"iraqi\", \"iraqi\", \"iraqi\", \"iraqi\", \"iraqi\", \"iraqi\", \"irvine\", \"isaacson\", \"isi\", \"isi\", \"isi\", \"isi\", \"isi\", \"isi\", \"isi\", \"isi\", \"isi\", \"isi\", \"isi\", \"isi\", \"isi\", \"isi\", \"isi\", \"isi\", \"isi\", \"isi\", \"isi\", \"isi\", \"islam\", \"islam\", \"islam\", \"islam\", \"islam\", \"islam\", \"islam\", \"islam\", \"islam\", \"islam\", \"islam\", \"islam\", \"islam\", \"islam\", \"islam\", \"islam\", \"islam\", \"islamic\", \"islamic\", \"islamic\", \"islamic\", \"islamic\", \"islamic\", \"islamic\", \"islamic\", \"islamic\", \"islamic\", \"islamic\", \"islamic\", \"islamic\", \"islamic\", \"islamic\", \"islamic\", \"islamic\", \"islamic\", \"islamic\", \"islamic\", \"island\", \"island\", \"island\", \"island\", \"island\", \"island\", \"island\", \"island\", \"island\", \"israel\", \"israel\", \"israel\", \"israel\", \"israel\", \"israel\", \"israel\", \"israel\", \"israel\", \"israel\", \"israeli\", \"israeli\", \"israeli\", \"israeli\", \"israeli\", \"israeli\", \"israeli\", \"issue\", \"issue\", \"issue\", \"issue\", \"issue\", \"issue\", \"issue\", \"issue\", \"issue\", \"issue\", \"issue\", \"issue\", \"issue\", \"issue\", \"issue\", \"issue\", \"issue\", \"issue\", \"issue\", \"issue\", \"italian\", \"italian\", \"italian\", \"italian\", \"italian\", \"italian\", \"italian\", \"italy\", \"italy\", \"italy\", \"italy\", \"italy\", \"iwork\", \"j\", \"j\", \"j\", \"j\", \"j\", \"j\", \"j\", \"j\", \"j\", \"j\", \"j\", \"j\", \"j\", \"j\", \"jabbouri\", \"jackson\", \"jackson\", \"jackson\", \"jackson\", \"jackson\", \"jackson\", \"jackson\", \"james\", \"james\", \"james\", \"james\", \"james\", \"james\", \"james\", \"james\", \"james\", \"james\", \"james\", \"james\", \"james\", \"james\", \"james\", \"james\", \"james\", \"jax\", \"jemele\", \"jenny\", \"jerusalem\", \"jerusalem\", \"jerusalem\", \"jess\", \"jess\", \"jess\", \"jess\", \"jess\", \"jihadi\", \"jihadi\", \"jihadi\", \"jihadi\", \"jihadi\", \"jihadi\", \"jihadi\", \"jihadi\", \"jihadi\", \"jihadi\", \"jihadi\", \"jihadi\", \"jihadi\", \"jihadi\", \"jihadi\", \"jim\", \"jim\", \"jim\", \"jim\", \"jim\", \"jim\", \"jim\", \"jim\", \"jim\", \"jimmydubyyc\", \"jinni\", \"jinny\", \"jinny\", \"jinny\", \"job\", \"job\", \"job\", \"job\", \"job\", \"job\", \"job\", \"job\", \"job\", \"job\", \"job\", \"job\", \"job\", \"job\", \"job\", \"job\", \"job\", \"job\", \"joel\", \"joel\", \"joel\", \"joel\", \"john\", \"john\", \"john\", \"john\", \"john\", \"john\", \"john\", \"john\", \"john\", \"john\", \"john\", \"john\", \"john\", \"john\", \"john\", \"john\", \"john\", \"john\", \"john\", \"johnson\", \"johnson\", \"johnson\", \"johnson\", \"johnson\", \"johnson\", \"johnson\", \"johnson\", \"johnson\", \"johnson\", \"johnson\", \"johnson\", \"johnson\", \"jones\", \"jones\", \"jones\", \"jones\", \"jones\", \"jones\", \"jones\", \"jong\", \"jong\", \"jong\", \"jong\", \"jong\", \"jong\", \"jong\", \"jong\", \"jong\", \"jong\", \"jong\", \"jong\", \"jong\", \"jong\", \"jordan\", \"jordan\", \"jordan\", \"jordan\", \"jordan\", \"jordan\", \"jordan\", \"jordanian\", \"jordanian\", \"jordanian\", \"josh\", \"josh\", \"josh\", \"josh\", \"josh\", \"josh\", \"josh\", \"josh\", \"josh\", \"josh\", \"journalist\", \"journalist\", \"journalist\", \"journalist\", \"journalist\", \"journalist\", \"journalist\", \"journalist\", \"journalist\", \"journalist\", \"journalist\", \"journalist\", \"journalist\", \"journalist\", \"journalist\", \"journalist\", \"journalist\", \"journalist\", \"journalist\", \"judd\", \"judd\", \"judd\", \"judd\", \"jumpsuit\", \"jumpsuit\", \"jumpsuit\", \"k5\", \"k5\", \"k5s\", \"kadalim\", \"kadalim\", \"kai\", \"kai\", \"kane\", \"kansa\", \"kansa\", \"kansa\", \"kansa\", \"kansa\", \"karat\", \"karat\", \"kardashian\", \"kardashian\", \"kasasbeh\", \"kasper\", \"kayla\", \"kctv\", \"kevin\", \"kevin\", \"kevin\", \"kevin\", \"kevin\", \"kevin\", \"kevin\", \"kevin\", \"kevlar\", \"kfc\", \"kfc\", \"kfc\", \"kfc\", \"kfc\", \"kfc\", \"khou\", \"killed\", \"killed\", \"killed\", \"killed\", \"killed\", \"killed\", \"killed\", \"killed\", \"killed\", \"killed\", \"killed\", \"killed\", \"killed\", \"killed\", \"killed\", \"killed\", \"killed\", \"killed\", \"killed\", \"killed\", \"kim\", \"kim\", \"kim\", \"kim\", \"kim\", \"kim\", \"kim\", \"kim\", \"kim\", \"kim\", \"kim\", \"kim\", \"kim\", \"kim\", \"kim\", \"kim\", \"kindle\", \"kindle\", \"kindle\", \"klein\", \"kneeling\", \"kneeling\", \"knightscope\", \"knightscope\", \"kobane\", \"kobane\", \"kobane\", \"kobane\", \"kobane\", \"kobani\", \"kobani\", \"kobani\", \"kobani\", \"kobani\", \"kobani\", \"kobani\", \"kobani\", \"kobani\", \"kobani\", \"kolber\", \"kolber\", \"kolber\", \"korea\", \"korea\", \"korea\", \"korea\", \"korea\", \"korea\", \"korea\", \"korea\", \"korea\", \"korea\", \"korea\", \"korea\", \"korea\", \"korean\", \"korean\", \"korean\", \"korean\", \"korean\", \"korean\", \"korean\", \"korean\", \"korean\", \"korean\", \"korean\", \"korean\", \"korean\", \"kryaglyachenko\", \"kumar\", \"kumar\", \"kurd\", \"kurd\", \"kurd\", \"kurd\", \"kurd\", \"kurd\", \"kurdish\", \"kurdish\", \"kurdish\", \"kurdish\", \"kurdish\", \"kurdish\", \"kurdish\", \"kurdish\", \"kurdish\", \"kurdish\", \"kurdish\", \"kurdish\", \"kurdish\", \"kurdish\", \"kurdish\", \"kutcher\", \"la\", \"la\", \"la\", \"la\", \"la\", \"la\", \"la\", \"la\", \"la\", \"la\", \"la\", \"la\", \"la\", \"la\", \"la\", \"laa\", \"laa\", \"lake\", \"lake\", \"lake\", \"lamppost\", \"lana\", \"lana\", \"lana\", \"lana\", \"laptop\", \"laptop\", \"laptop\", \"laptop\", \"last\", \"last\", \"last\", \"last\", \"last\", \"last\", \"last\", \"last\", \"last\", \"last\", \"last\", \"last\", \"last\", \"last\", \"last\", \"last\", \"last\", \"last\", \"last\", \"last\", \"launch\", \"launch\", \"launch\", \"launch\", \"launch\", \"launch\", \"launch\", \"launch\", \"launch\", \"launch\", \"launch\", \"launch\", \"launch\", \"launch\", \"launch\", \"launch\", \"launch\", \"law\", \"law\", \"law\", \"law\", \"law\", \"law\", \"law\", \"law\", \"law\", \"law\", \"law\", \"law\", \"law\", \"law\", \"law\", \"law\", \"law\", \"law\", \"leader\", \"leader\", \"leader\", \"leader\", \"leader\", \"leader\", \"leader\", \"leader\", \"leader\", \"leader\", \"leader\", \"leader\", \"leader\", \"leader\", \"leader\", \"leader\", \"leader\", \"leader\", \"leader\", \"leadership\", \"leadership\", \"leadership\", \"leadership\", \"leadership\", \"leadership\", \"leadership\", \"leadership\", \"leadership\", \"leadership\", \"leadership\", \"leadership\", \"leadership\", \"leased\", \"lebanese\", \"lebanese\", \"lebanese\", \"lebanese\", \"lebanese\", \"lebanese\", \"lebanese\", \"lebanon\", \"lebanon\", \"lebanon\", \"lefevre\", \"lefevre\", \"lego\", \"lego\", \"lego\", \"lenovo\", \"leonardo\", \"leonardo\", \"letter\", \"letter\", \"letter\", \"letter\", \"letter\", \"letter\", \"letter\", \"letter\", \"letter\", \"letter\", \"letter\", \"letter\", \"letter\", \"letter\", \"letter\", \"letter\", \"letterman\", \"leukemia\", \"lianne\", \"lianne\", \"lianne\", \"liaoning\", \"libya\", \"libya\", \"libya\", \"libya\", \"libya\", \"libya\", \"libya\", \"libya\", \"libya\", \"libya\", \"libyan\", \"libyan\", \"libyan\", \"libyan\", \"libyan\", \"libyan\", \"like\", \"like\", \"like\", \"like\", \"like\", \"like\", \"like\", \"like\", \"like\", \"like\", \"like\", \"like\", \"like\", \"like\", \"like\", \"like\", \"like\", \"like\", \"like\", \"like\", \"limp\", \"limped\", \"lin\", \"lin\", \"lin\", \"lin\", \"lin\", \"lin\", \"lin\", \"lin\", \"liquor\", \"liquor\", \"liquor\", \"liveleak\", \"liveleak\", \"liverpool\", \"local\", \"local\", \"local\", \"local\", \"local\", \"local\", \"local\", \"local\", \"local\", \"local\", \"local\", \"local\", \"local\", \"local\", \"local\", \"local\", \"local\", \"local\", \"local\", \"local\", \"london\", \"london\", \"london\", \"london\", \"london\", \"london\", \"london\", \"london\", \"london\", \"london\", \"london\", \"london\", \"london\", \"london\", \"london\", \"lopa\", \"lopa\", \"lopa\", \"lopa\", \"lopa\", \"lortie\", \"luke\", \"luke\", \"luke\", \"luke\", \"lynch\", \"lynch\", \"lynch\", \"lynch\", \"lyndon\", \"lyricist\", \"macaulay\", \"macaulay\", \"macaulay\", \"macaulay\", \"macaulay\", \"macbook\", \"macbook\", \"macbook\", \"macbook\", \"macbook\", \"macbook\", \"macbook\", \"macbook\", \"macbook\", \"macbook\", \"macedonian\", \"macedonian\", \"macerata\", \"macerata\", \"macerata\", \"macklemorejoinedisis\", \"madden\", \"madden\", \"made\", \"made\", \"made\", \"made\", \"made\", \"made\", \"made\", \"made\", \"made\", \"made\", \"made\", \"made\", \"made\", \"made\", \"made\", \"made\", \"made\", \"made\", \"made\", \"made\", \"madhya\", \"madrid\", \"magnet\", \"magnet\", \"magnetic\", \"magnetic\", \"magnetic\", \"magnetic\", \"magnetic\", \"magneto\", \"majed\", \"majed\", \"majed\", \"male\", \"male\", \"male\", \"male\", \"male\", \"male\", \"male\", \"male\", \"male\", \"male\", \"male\", \"male\", \"male\", \"male\", \"male\", \"male\", \"mallie\", \"mallie\", \"man\", \"man\", \"man\", \"man\", \"man\", \"man\", \"man\", \"man\", \"man\", \"man\", \"man\", \"man\", \"man\", \"man\", \"man\", \"man\", \"man\", \"man\", \"man\", \"man\", \"managua\", \"managua\", \"managua\", \"managua\", \"managua\", \"manipulation\", \"marche\", \"marche\", \"marijuana\", \"marijuana\", \"marijuana\", \"marijuana\", \"marijuana\", \"marijuana\", \"marijuana\", \"marijuana\", \"marijuana\", \"marijuana\", \"marine\", \"marine\", \"marine\", \"marine\", \"marine\", \"marine\", \"marine\", \"marine\", \"marine\", \"mark\", \"mark\", \"mark\", \"mark\", \"mark\", \"mark\", \"mark\", \"mark\", \"mark\", \"mark\", \"mark\", \"mark\", \"mark\", \"mark\", \"mark\", \"mark\", \"mark\", \"mark\", \"master\", \"master\", \"master\", \"master\", \"matson\", \"matte\", \"mattress\", \"may\", \"may\", \"may\", \"may\", \"may\", \"may\", \"may\", \"may\", \"may\", \"may\", \"may\", \"may\", \"may\", \"may\", \"may\", \"may\", \"may\", \"may\", \"may\", \"may\", \"mayor\", \"mayor\", \"mayor\", \"mayor\", \"mayor\", \"mayor\", \"mayor\", \"mayor\", \"mcdonald\", \"mcdonald\", \"mcdonald\", \"mcdonald\", \"mcdonald\", \"mcdonald\", \"mcmanus\", \"mcmanus\", \"medium\", \"medium\", \"medium\", \"medium\", \"medium\", \"medium\", \"medium\", \"medium\", \"medium\", \"medium\", \"medium\", \"medium\", \"medium\", \"medium\", \"medium\", \"medium\", \"medium\", \"medium\", \"medium\", \"medium\", \"melvin\", \"memorial\", \"memorial\", \"memorial\", \"memorial\", \"memorial\", \"memorial\", \"memorial\", \"memorial\", \"memorial\", \"memorial\", \"memorial\", \"memorial\", \"meng\", \"menu\", \"menu\", \"menu\", \"menu\", \"menu\", \"menu\", \"menu\", \"merry\", \"merry\", \"meteorite\", \"meteorite\", \"meteorite\", \"meteorite\", \"meteorite\", \"meteorite\", \"meteorite\", \"metpoliceuk\", \"mi6\", \"michael\", \"michael\", \"michael\", \"michael\", \"michael\", \"michael\", \"michael\", \"michael\", \"michael\", \"michael\", \"michael\", \"michael\", \"michael\", \"michael\", \"michael\", \"michael\", \"michael\", \"michael\", \"michael\", \"micheal\", \"micheal\", \"micheal\", \"micheal\", \"michelle\", \"michelle\", \"michelle\", \"michelle\", \"microchip\", \"microsoft\", \"microsoft\", \"microsoft\", \"microsoft\", \"microsoft\", \"militant\", \"militant\", \"militant\", \"militant\", \"militant\", \"militant\", \"militant\", \"militant\", \"militant\", \"militant\", \"militant\", \"militant\", \"militant\", \"militant\", \"militant\", \"militant\", \"militant\", \"militant\", \"militant\", \"militant\", \"military\", \"military\", \"military\", \"military\", \"military\", \"military\", \"military\", \"military\", \"military\", \"military\", \"military\", \"military\", \"military\", \"military\", \"military\", \"military\", \"military\", \"military\", \"military\", \"millan\", \"millan\", \"millan\", \"millan\", \"millan\", \"million\", \"million\", \"million\", \"million\", \"million\", \"million\", \"million\", \"million\", \"million\", \"million\", \"million\", \"million\", \"million\", \"million\", \"million\", \"million\", \"million\", \"million\", \"million\", \"million\", \"miscarriage\", \"misdemeanor\", \"misdemeanor\", \"mite\", \"mite\", \"mite\", \"moaz\", \"mob\", \"mob\", \"mob\", \"model\", \"model\", \"model\", \"model\", \"model\", \"model\", \"model\", \"model\", \"model\", \"model\", \"model\", \"model\", \"model\", \"model\", \"model\", \"model\", \"moffett\", \"mogadishu\", \"mogadishu\", \"molested\", \"monday\", \"monday\", \"monday\", \"monday\", \"monday\", \"monday\", \"monday\", \"monday\", \"monday\", \"monday\", \"monday\", \"monday\", \"monday\", \"monday\", \"monday\", \"monday\", \"monday\", \"monday\", \"monday\", \"monday\", \"month\", \"month\", \"month\", \"month\", \"month\", \"month\", \"month\", \"month\", \"month\", \"month\", \"month\", \"month\", \"month\", \"month\", \"month\", \"month\", \"month\", \"month\", \"month\", \"month\", \"morn\", \"mortar\", \"mortar\", \"mortar\", \"mortar\", \"mortar\", \"mortar\", \"mortar\", \"mortgage\", \"moshe\", \"mosul\", \"mosul\", \"mosul\", \"mosul\", \"mosul\", \"mosul\", \"mosul\", \"mosul\", \"mosul\", \"mosul\", \"mosul\", \"mosul\", \"motherly\", \"movie\", \"movie\", \"movie\", \"movie\", \"movie\", \"movie\", \"movie\", \"movie\", \"movie\", \"movie\", \"movie\", \"movie\", \"movie\", \"movie\", \"movie\", \"movie\", \"mr\", \"mr\", \"mr\", \"mr\", \"mr\", \"mr\", \"mr\", \"mr\", \"mr\", \"mr\", \"mr\", \"mr\", \"mr\", \"mr\", \"mr\", \"mr\", \"mr\", \"mr\", \"mr\", \"mr\", \"msnbc\", \"msnbc\", \"msnbc\", \"msnbc\", \"msnbc\", \"mueller\", \"mueller\", \"mueller\", \"mueller\", \"munajjid\", \"munajjid\", \"munster\", \"murder\", \"murder\", \"murder\", \"murder\", \"murder\", \"murder\", \"murder\", \"murder\", \"murder\", \"murder\", \"murder\", \"murder\", \"murder\", \"murder\", \"murder\", \"murder\", \"murder\", \"muscaria\", \"muscaria\", \"mushroom\", \"mushroom\", \"mushroom\", \"mushroom\", \"mushroom\", \"mutasa\", \"m\\u00e4laren\", \"nachshon\", \"name\", \"name\", \"name\", \"name\", \"name\", \"name\", \"name\", \"name\", \"name\", \"name\", \"name\", \"name\", \"name\", \"name\", \"name\", \"name\", \"name\", \"name\", \"name\", \"name\", \"nand\", \"nathan\", \"nathan\", \"nathan\", \"nathan\", \"nathan\", \"nathan\", \"nbc\", \"nbc\", \"nbc\", \"nbc\", \"nbc\", \"nbc\", \"nbc\", \"nbc\", \"nbc\", \"nbc\", \"nbc\", \"nbc\", \"neal\", \"neal\", \"neal\", \"neal\", \"neal\", \"nelson\", \"nelson\", \"nelson\", \"nelson\", \"nelson\", \"nelson\", \"netflix\", \"netflix\", \"never\", \"never\", \"never\", \"never\", \"never\", \"never\", \"never\", \"never\", \"never\", \"never\", \"never\", \"never\", \"never\", \"never\", \"never\", \"never\", \"never\", \"never\", \"never\", \"never\", \"new\", \"new\", \"new\", \"new\", \"new\", \"new\", \"new\", \"new\", \"new\", \"new\", \"new\", \"new\", \"new\", \"new\", \"new\", \"new\", \"new\", \"new\", \"new\", \"new\", \"newfoundland\", \"news\", \"news\", \"news\", \"news\", \"news\", \"news\", \"news\", \"news\", \"news\", \"news\", \"news\", \"news\", \"news\", \"news\", \"news\", \"news\", \"news\", \"news\", \"news\", \"news\", \"next\", \"next\", \"next\", \"next\", \"next\", \"next\", \"next\", \"next\", \"next\", \"next\", \"next\", \"next\", \"next\", \"next\", \"next\", \"next\", \"next\", \"next\", \"next\", \"next\", \"nfl\", \"nfl\", \"nfl\", \"nfl\", \"nfl\", \"nic\", \"nicaragua\", \"nicaragua\", \"nicaragua\", \"nicaragua\", \"nicaraguan\", \"nicaraguan\", \"nicaraguan\", \"nigeria\", \"nigeria\", \"nigeria\", \"nigeria\", \"nigeria\", \"nigeria\", \"nigeria\", \"nigeria\", \"nigeria\", \"nigeria\", \"nigeria\", \"nigeria\", \"nigeria\", \"nigeria\", \"nigerian\", \"nigerian\", \"nigerian\", \"nigerian\", \"nigerian\", \"nigerian\", \"nigerian\", \"nigerian\", \"nigerian\", \"nigerian\", \"nigerian\", \"night\", \"night\", \"night\", \"night\", \"night\", \"night\", \"night\", \"night\", \"night\", \"night\", \"night\", \"night\", \"night\", \"night\", \"night\", \"night\", \"night\", \"night\", \"night\", \"night\", \"nike\", \"nike\", \"nikolaev\", \"nikolaev\", \"nikolaev\", \"nikolai\", \"nikolai\", \"nikolai\", \"nitz\", \"nnhe\", \"nordegren\", \"nordegren\", \"norfolk\", \"norfolk\", \"north\", \"north\", \"north\", \"north\", \"north\", \"north\", \"north\", \"north\", \"north\", \"north\", \"north\", \"north\", \"north\", \"north\", \"north\", \"north\", \"north\", \"north\", \"north\", \"north\", \"nun\", \"nun\", \"nun\", \"nun\", \"nun\", \"nun\", \"nun\", \"nun\", \"nusra\", \"nypd\", \"o\", \"o\", \"o\", \"obama\", \"obama\", \"obama\", \"obama\", \"obama\", \"obama\", \"obama\", \"obama\", \"obama\", \"obama\", \"obama\", \"obama\", \"obama\", \"obama\", \"obama\", \"obama\", \"obama\", \"obama\", \"obama\", \"oberholtzer\", \"oberholtzer\", \"oberholtzer\", \"oberholtzer\", \"oberholtzer\", \"odinga\", \"odinga\", \"office\", \"office\", \"office\", \"office\", \"office\", \"office\", \"office\", \"office\", \"office\", \"office\", \"office\", \"office\", \"office\", \"office\", \"office\", \"office\", \"office\", \"officer\", \"officer\", \"officer\", \"officer\", \"officer\", \"officer\", \"officer\", \"officer\", \"officer\", \"officer\", \"officer\", \"officer\", \"officer\", \"officer\", \"officer\", \"officer\", \"officer\", \"officer\", \"officer\", \"official\", \"official\", \"official\", \"official\", \"official\", \"official\", \"official\", \"official\", \"official\", \"official\", \"official\", \"official\", \"official\", \"official\", \"official\", \"official\", \"official\", \"official\", \"official\", \"official\", \"old\", \"old\", \"old\", \"old\", \"old\", \"old\", \"old\", \"old\", \"old\", \"old\", \"old\", \"old\", \"old\", \"old\", \"old\", \"old\", \"old\", \"old\", \"old\", \"old\", \"olsen\", \"olsen\", \"olsen\", \"olsen\", \"olsen\", \"olsen\", \"olsen\", \"olympian\", \"olympic\", \"omidyar\", \"omidyar\", \"omidyar\", \"one\", \"one\", \"one\", \"one\", \"one\", \"one\", \"one\", \"one\", \"one\", \"one\", \"one\", \"one\", \"one\", \"one\", \"one\", \"one\", \"one\", \"one\", \"one\", \"one\", \"opie\", \"orange\", \"orange\", \"orange\", \"orange\", \"orange\", \"orange\", \"orange\", \"orange\", \"orange\", \"oscar\", \"oscar\", \"oscar\", \"oscar\", \"oscar\", \"oscar\", \"ottawa\", \"ottawa\", \"ottawa\", \"ottawa\", \"ottawa\", \"ottawa\", \"ottawa\", \"outbreak\", \"outbreak\", \"outbreak\", \"ovary\", \"palace\", \"palace\", \"palace\", \"palace\", \"palace\", \"palace\", \"palace\", \"palace\", \"palace\", \"paler\", \"paler\", \"paler\", \"paler\", \"paler\", \"palestinian\", \"palestinian\", \"palestinian\", \"pamphlet\", \"pamphlet\", \"pamphlet\", \"panel\", \"panel\", \"panel\", \"panel\", \"panel\", \"panel\", \"parliament\", \"parliament\", \"parliament\", \"parliament\", \"parliament\", \"parliament\", \"parliament\", \"parliament\", \"parliament\", \"parliament\", \"parliament\", \"parliament\", \"parliament\", \"parliament\", \"parliament\", \"parliament\", \"parliament\", \"part\", \"part\", \"part\", \"part\", \"part\", \"part\", \"part\", \"part\", \"part\", \"part\", \"part\", \"part\", \"part\", \"part\", \"part\", \"part\", \"part\", \"part\", \"part\", \"part\", \"party\", \"party\", \"party\", \"party\", \"party\", \"party\", \"party\", \"party\", \"party\", \"party\", \"party\", \"party\", \"party\", \"party\", \"party\", \"party\", \"party\", \"party\", \"patient\", \"patient\", \"patient\", \"patient\", \"patient\", \"patient\", \"patient\", \"patient\", \"patient\", \"patient\", \"patrol\", \"patrol\", \"patrol\", \"patrol\", \"patrol\", \"patrol\", \"patrol\", \"patrol\", \"patrol\", \"patrol\", \"patrol\", \"pause\", \"pause\", \"pause\", \"pause\", \"pause\", \"pause\", \"pause\", \"pause\", \"pause\", \"pebble\", \"pedestrian\", \"penis\", \"penis\", \"penis\", \"penis\", \"penis\", \"penis\", \"penis\", \"penis\", \"penis\", \"people\", \"people\", \"people\", \"people\", \"people\", \"people\", \"people\", \"people\", \"people\", \"people\", \"people\", \"people\", \"people\", \"people\", \"people\", \"people\", \"people\", \"people\", \"people\", \"people\", \"petition\", \"pga\", \"pga\", \"pga\", \"pga\", \"pga\", \"pga\", \"pga\", \"phelps\", \"phelps\", \"phelps\", \"phelps\", \"phelps\", \"phelps\", \"phelps\", \"phone\", \"phone\", \"phone\", \"phone\", \"phone\", \"phone\", \"phone\", \"phone\", \"phone\", \"phone\", \"phone\", \"phone\", \"phone\", \"phone\", \"phone\", \"phone\", \"phone\", \"phone\", \"phone\", \"phone\", \"photo\", \"photo\", \"photo\", \"photo\", \"photo\", \"photo\", \"photo\", \"photo\", \"photo\", \"photo\", \"photo\", \"photo\", \"photo\", \"photo\", \"photo\", \"photo\", \"photo\", \"photo\", \"photo\", \"photo\", \"physical\", \"physical\", \"physical\", \"physical\", \"physical\", \"physical\", \"physical\", \"physical\", \"physical\", \"physical\", \"physical\", \"physical\", \"pierre\", \"pierre\", \"pierre\", \"pilot\", \"pilot\", \"pilot\", \"pilot\", \"pilot\", \"pilot\", \"pilot\", \"pilot\", \"pilot\", \"pilot\", \"pinning\", \"pinning\", \"pitt\", \"placard\", \"plant\", \"plant\", \"plant\", \"plant\", \"plant\", \"plant\", \"plant\", \"plant\", \"plated\", \"platter\", \"play\", \"play\", \"play\", \"play\", \"play\", \"play\", \"play\", \"play\", \"play\", \"play\", \"play\", \"play\", \"play\", \"play\", \"play\", \"play\", \"play\", \"play\", \"plumber\", \"plumbing\", \"plumbing\", \"plumbing\", \"poisoning\", \"police\", \"police\", \"police\", \"police\", \"police\", \"police\", \"police\", \"police\", \"police\", \"police\", \"police\", \"police\", \"police\", \"police\", \"police\", \"police\", \"police\", \"police\", \"police\", \"police\", \"policy\", \"policy\", \"policy\", \"policy\", \"policy\", \"policy\", \"policy\", \"policy\", \"policy\", \"policy\", \"policy\", \"policy\", \"policy\", \"policy\", \"policy\", \"policy\", \"policy\", \"pooping\", \"pope\", \"pope\", \"pope\", \"pope\", \"pope\", \"pope\", \"pope\", \"pope\", \"pope\", \"portico\", \"portico\", \"possession\", \"possession\", \"possession\", \"possession\", \"possession\", \"possession\", \"possession\", \"possession\", \"possession\", \"possession\", \"post\", \"post\", \"post\", \"post\", \"post\", \"post\", \"post\", \"post\", \"post\", \"post\", \"post\", \"post\", \"post\", \"post\", \"post\", \"post\", \"post\", \"post\", \"post\", \"post\", \"pounder\", \"pounder\", \"power\", \"power\", \"power\", \"power\", \"power\", \"power\", \"power\", \"power\", \"power\", \"power\", \"power\", \"power\", \"power\", \"power\", \"power\", \"power\", \"power\", \"power\", \"predator\", \"predator\", \"predator\", \"pregame\", \"pregnant\", \"pregnant\", \"pregnant\", \"pregnant\", \"pregnant\", \"pregnant\", \"pregnant\", \"pregnant\", \"pregnant\", \"pregnant\", \"pregnant\", \"pregnant\", \"prescott\", \"preservative\", \"president\", \"president\", \"president\", \"president\", \"president\", \"president\", \"president\", \"president\", \"president\", \"president\", \"president\", \"president\", \"president\", \"president\", \"president\", \"president\", \"president\", \"president\", \"president\", \"president\", \"pressler\", \"prey\", \"price\", \"price\", \"price\", \"price\", \"price\", \"price\", \"price\", \"price\", \"price\", \"price\", \"price\", \"price\", \"price\", \"price\", \"price\", \"price\", \"price\", \"priced\", \"pricing\", \"pricing\", \"pricing\", \"pricing\", \"pricing\", \"pricing\", \"priest\", \"priest\", \"priest\", \"priest\", \"priest\", \"priest\", \"private\", \"private\", \"private\", \"private\", \"private\", \"private\", \"private\", \"private\", \"private\", \"private\", \"private\", \"private\", \"private\", \"private\", \"private\", \"private\", \"pro\", \"pro\", \"pro\", \"pro\", \"pro\", \"pro\", \"pro\", \"pro\", \"pro\", \"pro\", \"pro\", \"pro\", \"pro\", \"pro\", \"pro\", \"processor\", \"processor\", \"processor\", \"product\", \"product\", \"product\", \"product\", \"product\", \"product\", \"product\", \"product\", \"product\", \"product\", \"product\", \"product\", \"product\", \"product\", \"product\", \"product\", \"product\", \"promoter\", \"property\", \"property\", \"property\", \"property\", \"property\", \"property\", \"property\", \"property\", \"property\", \"property\", \"property\", \"propose\", \"prosecutorial\", \"public\", \"public\", \"public\", \"public\", \"public\", \"public\", \"public\", \"public\", \"public\", \"public\", \"public\", \"public\", \"public\", \"public\", \"public\", \"public\", \"public\", \"public\", \"public\", \"public\", \"pumpkin\", \"pumpkin\", \"pumpkin\", \"pumpkin\", \"punk\", \"putin\", \"putin\", \"putin\", \"putin\", \"pyongyang\", \"pyongyang\", \"pyongyang\", \"pyongyang\", \"pyongyang\", \"pyongyang\", \"qaeda\", \"qaeda\", \"qaeda\", \"qaeda\", \"qaeda\", \"qaeda\", \"qaeda\", \"qaeda\", \"qaeda\", \"qaeda\", \"qaeda\", \"qaeda\", \"qaeda\", \"qatar\", \"qatar\", \"qatar\", \"qingdao\", \"quay\", \"quebec\", \"queen\", \"queen\", \"queen\", \"queen\", \"queen\", \"queen\", \"queen\", \"queen\", \"queen\", \"queen\", \"queen\", \"queen\", \"queen\", \"qureshi\", \"qureshi\", \"radicalisation\", \"railing\", \"railing\", \"ramos\", \"ramos\", \"ranking\", \"ranking\", \"ranking\", \"ranking\", \"ranking\", \"ranking\", \"ranking\", \"ranking\", \"rap\", \"rap\", \"rap\", \"rap\", \"rap\", \"rap\", \"rape\", \"rape\", \"rape\", \"rape\", \"rape\", \"rape\", \"rape\", \"rape\", \"rape\", \"raped\", \"raped\", \"raped\", \"raped\", \"rapper\", \"rapper\", \"rapper\", \"rapper\", \"rapper\", \"rapper\", \"rapper\", \"rapper\", \"rapper\", \"rat\", \"rat\", \"rat\", \"rat\", \"rat\", \"rat\", \"rat\", \"rat\", \"rat\", \"rat\", \"raven\", \"rc\", \"recording\", \"recording\", \"recording\", \"recording\", \"recording\", \"recording\", \"recording\", \"recording\", \"recording\", \"recording\", \"recording\", \"recording\", \"redacted\", \"redesign\", \"redwood\", \"redwood\", \"referendum\", \"referendum\", \"regroup\", \"rehab\", \"rehab\", \"rehab\", \"rehab\", \"release\", \"release\", \"release\", \"release\", \"release\", \"release\", \"release\", \"release\", \"release\", \"release\", \"release\", \"release\", \"release\", \"release\", \"release\", \"release\", \"release\", \"release\", \"release\", \"release\", \"report\", \"report\", \"report\", \"report\", \"report\", \"report\", \"report\", \"report\", \"report\", \"report\", \"report\", \"report\", \"report\", \"report\", \"report\", \"report\", \"report\", \"report\", \"report\", \"report\", \"reported\", \"reported\", \"reported\", \"reported\", \"reported\", \"reported\", \"reported\", \"reported\", \"reported\", \"reported\", \"reported\", \"reported\", \"reported\", \"reported\", \"reported\", \"reported\", \"reported\", \"reported\", \"reported\", \"reported\", \"reset\", \"reset\", \"reset\", \"reset\", \"restaurant\", \"restaurant\", \"restaurant\", \"restaurant\", \"restaurant\", \"restaurant\", \"restaurant\", \"restaurant\", \"restaurant\", \"restaurant\", \"restaurant\", \"restaurant\", \"restaurant\", \"retail\", \"retail\", \"retail\", \"retail\", \"retail\", \"retail\", \"retail\", \"retail\", \"retail\", \"retina\", \"retina\", \"retina\", \"retina\", \"retina\", \"reunion\", \"rhythm\", \"ringing\", \"ringing\", \"ringing\", \"ringing\", \"ripped\", \"ripped\", \"ripped\", \"riquelme\", \"rmb\", \"rnc\", \"robinson\", \"robot\", \"robot\", \"robot\", \"robot\", \"robot\", \"roche\", \"roche\", \"roche\", \"rocking\", \"rodney\", \"rogen\", \"rogen\", \"rogen\", \"rogen\", \"role\", \"role\", \"role\", \"role\", \"role\", \"role\", \"role\", \"role\", \"role\", \"role\", \"role\", \"role\", \"role\", \"role\", \"role\", \"role\", \"role\", \"role\", \"rolex\", \"rosario\", \"rose\", \"rose\", \"rose\", \"rose\", \"rose\", \"rose\", \"rose\", \"rose\", \"rose\", \"rose\", \"rose\", \"rose\", \"rosenberg\", \"rosenberg\", \"rosenberg\", \"rosenberg\", \"rosenberg\", \"rosenberg\", \"rosenberg\", \"rosenberg\", \"rosenberg\", \"rourke\", \"roy\", \"royster\", \"rudaini\", \"rudin\", \"rumour\", \"rumour\", \"rumour\", \"rumour\", \"rumour\", \"rumour\", \"rumour\", \"rumour\", \"rumour\", \"rumour\", \"rumour\", \"rumour\", \"rumour\", \"russian\", \"russian\", \"russian\", \"russian\", \"russian\", \"russian\", \"russian\", \"russian\", \"russian\", \"russian\", \"russian\", \"russian\", \"safe\", \"safe\", \"safe\", \"safe\", \"safe\", \"safe\", \"safe\", \"safe\", \"safe\", \"safe\", \"safe\", \"safe\", \"safe\", \"safe\", \"safe\", \"safe\", \"safeguarding\", \"safeguarding\", \"safeguarding\", \"safir\", \"said\", \"said\", \"said\", \"said\", \"said\", \"said\", \"said\", \"said\", \"said\", \"said\", \"said\", \"said\", \"said\", \"said\", \"said\", \"said\", \"said\", \"said\", \"said\", \"said\", \"saja\", \"saja\", \"saja\", \"salaam\", \"salman\", \"salter\", \"salter\", \"salvadorean\", \"samoach\", \"samsung\", \"samsung\", \"samsung\", \"sana\", \"sanaa\", \"santamaria\", \"sapphire\", \"sarda\", \"saudi\", \"saudi\", \"saudi\", \"saudi\", \"saudi\", \"saudi\", \"saudi\", \"say\", \"say\", \"say\", \"say\", \"say\", \"say\", \"say\", \"say\", \"say\", \"say\", \"say\", \"say\", \"say\", \"say\", \"say\", \"say\", \"say\", \"say\", \"say\", \"say\", \"scanner\", \"scanner\", \"scanner\", \"scar\", \"scar\", \"scar\", \"scar\", \"scar\", \"school\", \"school\", \"school\", \"school\", \"school\", \"school\", \"school\", \"school\", \"school\", \"school\", \"school\", \"school\", \"school\", \"school\", \"school\", \"school\", \"school\", \"school\", \"school\", \"school\", \"schoolgirl\", \"schoolgirl\", \"schoolgirl\", \"schoolgirl\", \"schoolgirl\", \"schoolgirl\", \"schoolgirl\", \"schoolgirl\", \"scorpion\", \"scorpion\", \"scorpion\", \"scorpion\", \"scorpion\", \"scotland\", \"scotland\", \"scotland\", \"scotland\", \"scotland\", \"scotland\", \"scotland\", \"scotland\", \"scotland\", \"scotland\", \"scottishspca\", \"searing\", \"searing\", \"secluded\", \"secret\", \"secret\", \"secret\", \"secret\", \"secret\", \"secret\", \"secret\", \"secret\", \"secret\", \"secret\", \"secret\", \"secret\", \"secret\", \"secret\", \"secret\", \"secret\", \"secret\", \"secret\", \"secretive\", \"secretive\", \"secretive\", \"security\", \"security\", \"security\", \"security\", \"security\", \"security\", \"security\", \"security\", \"security\", \"security\", \"security\", \"security\", \"security\", \"security\", \"security\", \"security\", \"security\", \"security\", \"security\", \"security\", \"see\", \"see\", \"see\", \"see\", \"see\", \"see\", \"see\", \"see\", \"see\", \"see\", \"see\", \"see\", \"see\", \"see\", \"see\", \"see\", \"see\", \"see\", \"see\", \"see\", \"seidel\", \"seidel\", \"seidel\", \"sends\", \"sends\", \"sends\", \"sennott\", \"sergeant\", \"sergeant\", \"sergeant\", \"sergeant\", \"sergeant\", \"sergeant\", \"sergeant\", \"sergeant\", \"service\", \"service\", \"service\", \"service\", \"service\", \"service\", \"service\", \"service\", \"service\", \"service\", \"service\", \"service\", \"service\", \"service\", \"service\", \"service\", \"service\", \"service\", \"service\", \"service\", \"seth\", \"seth\", \"setting\", \"setting\", \"setting\", \"setting\", \"setting\", \"setting\", \"setting\", \"setting\", \"setting\", \"setting\", \"severino\", \"severino\", \"severino\", \"sex\", \"sex\", \"sex\", \"sex\", \"sex\", \"sex\", \"sex\", \"sex\", \"sex\", \"sex\", \"sex\", \"sex\", \"sex\", \"sex\", \"sexist\", \"shabab\", \"shabab\", \"shabab\", \"shabwa\", \"shekau\", \"shekau\", \"shekau\", \"shekau\", \"shen\", \"shen\", \"shen\", \"shooter\", \"shooter\", \"shooting\", \"shooting\", \"shooting\", \"shooting\", \"shooting\", \"shooting\", \"shooting\", \"shooting\", \"shooting\", \"shooting\", \"shooting\", \"shooting\", \"shooting\", \"shooting\", \"shooting\", \"shooting\", \"shooting\", \"shooting\", \"shooting\", \"shot\", \"shot\", \"shot\", \"shot\", \"shot\", \"shot\", \"shot\", \"shot\", \"shot\", \"shot\", \"shot\", \"shot\", \"shot\", \"shot\", \"shot\", \"shot\", \"shot\", \"shot\", \"shot\", \"shot\", \"show\", \"show\", \"show\", \"show\", \"show\", \"show\", \"show\", \"show\", \"show\", \"show\", \"show\", \"show\", \"show\", \"show\", \"show\", \"show\", \"show\", \"show\", \"show\", \"show\", \"shrine\", \"sideline\", \"sidelined\", \"since\", \"since\", \"since\", \"since\", \"since\", \"since\", \"since\", \"since\", \"since\", \"since\", \"since\", \"since\", \"since\", \"since\", \"since\", \"since\", \"since\", \"since\", \"since\", \"since\", \"sister\", \"sister\", \"sister\", \"sister\", \"sister\", \"sister\", \"sister\", \"sister\", \"sister\", \"sister\", \"sister\", \"sister\", \"sister\", \"sister\", \"sister\", \"skin\", \"skin\", \"skin\", \"skin\", \"skin\", \"skin\", \"skin\", \"skin\", \"skin\", \"skin\", \"skin\", \"skin\", \"skin\", \"skin\", \"slimmer\", \"slumdog\", \"smack\", \"smacked\", \"smacked\", \"smacked\", \"smartwatch\", \"smartwatch\", \"smartwatch\", \"smartwatches\", \"smith\", \"smith\", \"smith\", \"smith\", \"smith\", \"smith\", \"smith\", \"smith\", \"smith\", \"smith\", \"smith\", \"snake\", \"snake\", \"sneeze\", \"sneeze\", \"sneezed\", \"sneezing\", \"sniper\", \"sniper\", \"sniper\", \"sniper\", \"sniper\", \"sniper\", \"snowman\", \"snowman\", \"snowman\", \"snowman\", \"snyder\", \"snyder\", \"snyder\", \"snyder\", \"snyder\", \"snyder\", \"soldier\", \"soldier\", \"soldier\", \"soldier\", \"soldier\", \"soldier\", \"soldier\", \"soldier\", \"soldier\", \"soldier\", \"soldier\", \"soldier\", \"soldier\", \"soldier\", \"soldier\", \"soldier\", \"soldier\", \"soldier\", \"soldier\", \"soldier\", \"soltoff\", \"somali\", \"somali\", \"somali\", \"somali\", \"somali\", \"somalia\", \"somalia\", \"somalia\", \"somalia\", \"somalia\", \"somalia\", \"somalia\", \"somalia\", \"somers\", \"somers\", \"somers\", \"somers\", \"sony\", \"sony\", \"sony\", \"sony\", \"sony\", \"sony\", \"sony\", \"soothing\", \"sorkin\", \"sorkin\", \"sorkin\", \"sorkin\", \"sorkin\", \"sorkin\", \"sorkin\", \"sorkin\", \"sotloff\", \"sotloff\", \"sotloff\", \"sotloff\", \"sotloff\", \"sotloff\", \"sotloff\", \"sotloff\", \"sotloff\", \"source\", \"source\", \"source\", \"source\", \"source\", \"source\", \"source\", \"source\", \"source\", \"source\", \"source\", \"source\", \"source\", \"source\", \"source\", \"source\", \"source\", \"source\", \"source\", \"source\", \"south\", \"south\", \"south\", \"south\", \"south\", \"south\", \"south\", \"south\", \"south\", \"south\", \"south\", \"south\", \"south\", \"south\", \"south\", \"south\", \"south\", \"south\", \"southwest\", \"southwest\", \"southwest\", \"southwest\", \"southwest\", \"spaceship\", \"spaceship\", \"spca\", \"spca\", \"speculation\", \"speculation\", \"speculation\", \"speculation\", \"speculation\", \"speculation\", \"speculation\", \"speculation\", \"speculation\", \"speculation\", \"speculation\", \"speculation\", \"speculation\", \"speculation\", \"speculation\", \"spice\", \"spice\", \"spice\", \"spice\", \"spider\", \"spider\", \"spider\", \"spider\", \"spider\", \"spider\", \"spider\", \"spider\", \"spider\", \"spider\", \"spider\", \"spider\", \"spider\", \"spoon\", \"sport\", \"sport\", \"sport\", \"sport\", \"sport\", \"sport\", \"sport\", \"sport\", \"sport\", \"sport\", \"sport\", \"sport\", \"sport\", \"sportex\", \"sportex\", \"springing\", \"square\", \"square\", \"square\", \"square\", \"square\", \"square\", \"square\", \"square\", \"square\", \"square\", \"stainless\", \"stainless\", \"stainless\", \"stambaugh\", \"stan\", \"stan\", \"stan\", \"star\", \"star\", \"star\", \"star\", \"star\", \"star\", \"star\", \"star\", \"star\", \"star\", \"star\", \"star\", \"star\", \"star\", \"star\", \"star\", \"star\", \"star\", \"star\", \"start\", \"start\", \"start\", \"start\", \"start\", \"start\", \"start\", \"start\", \"start\", \"start\", \"start\", \"start\", \"start\", \"start\", \"start\", \"start\", \"start\", \"start\", \"state\", \"state\", \"state\", \"state\", \"state\", \"state\", \"state\", \"state\", \"state\", \"state\", \"state\", \"state\", \"state\", \"state\", \"state\", \"state\", \"state\", \"state\", \"state\", \"state\", \"statehouse\", \"statement\", \"statement\", \"statement\", \"statement\", \"statement\", \"statement\", \"statement\", \"statement\", \"statement\", \"statement\", \"statement\", \"statement\", \"statement\", \"statement\", \"statement\", \"statement\", \"statement\", \"statement\", \"statement\", \"statement\", \"station\", \"station\", \"station\", \"station\", \"station\", \"station\", \"station\", \"station\", \"station\", \"station\", \"station\", \"station\", \"station\", \"station\", \"station\", \"station\", \"steel\", \"steel\", \"steel\", \"steel\", \"steel\", \"steel\", \"steel\", \"steel\", \"steel\", \"steinberg\", \"steve\", \"steve\", \"steve\", \"steve\", \"steve\", \"steve\", \"steve\", \"steve\", \"steve\", \"steve\", \"steve\", \"steve\", \"steve\", \"stolen\", \"stolen\", \"stolen\", \"stolen\", \"stolen\", \"stolen\", \"stolen\", \"stolen\", \"stolen\", \"stolen\", \"stolen\", \"stolen\", \"stolen\", \"store\", \"store\", \"store\", \"store\", \"store\", \"store\", \"store\", \"store\", \"store\", \"store\", \"store\", \"store\", \"store\", \"store\", \"store\", \"store\", \"store\", \"story\", \"story\", \"story\", \"story\", \"story\", \"story\", \"story\", \"story\", \"story\", \"story\", \"story\", \"story\", \"story\", \"story\", \"story\", \"story\", \"story\", \"story\", \"story\", \"story\", \"strap\", \"streaming\", \"streaming\", \"streaming\", \"streaming\", \"streaming\", \"streaming\", \"streaming\", \"street\", \"street\", \"street\", \"street\", \"street\", \"street\", \"street\", \"street\", \"street\", \"street\", \"street\", \"street\", \"street\", \"street\", \"street\", \"street\", \"street\", \"street\", \"street\", \"strike\", \"strike\", \"strike\", \"strike\", \"strike\", \"strike\", \"strike\", \"strike\", \"strike\", \"strike\", \"strike\", \"strike\", \"strike\", \"strike\", \"strike\", \"strike\", \"strike\", \"strike\", \"stripe\", \"stuck\", \"stuck\", \"stuck\", \"stuck\", \"stuck\", \"stuck\", \"stuck\", \"student\", \"student\", \"student\", \"student\", \"student\", \"student\", \"student\", \"student\", \"student\", \"student\", \"student\", \"student\", \"student\", \"student\", \"student\", \"student\", \"subscribing\", \"sugarhill\", \"sugarhill\", \"sugarhill\", \"sugarhill\", \"suitcase\", \"suitcase\", \"summons\", \"sun\", \"sun\", \"sun\", \"sun\", \"sun\", \"sun\", \"sun\", \"sun\", \"sun\", \"sun\", \"sun\", \"sun\", \"sun\", \"sun\", \"sun\", \"sunday\", \"sunday\", \"sunday\", \"sunday\", \"sunday\", \"sunday\", \"sunday\", \"sunday\", \"sunday\", \"sunday\", \"sunday\", \"sunday\", \"sunday\", \"sunday\", \"sunday\", \"sunday\", \"sunday\", \"sunday\", \"sung\", \"sung\", \"sung\", \"sunnyvale\", \"superintendent\", \"superman\", \"superman\", \"superman\", \"superman\", \"superman\", \"superman\", \"superman\", \"superpower\", \"superpower\", \"supreme\", \"supreme\", \"supreme\", \"supreme\", \"supreme\", \"supreme\", \"supreme\", \"suresh\", \"suresh\", \"surpass\", \"surpass\", \"suspension\", \"suspension\", \"suspension\", \"suspension\", \"suspension\", \"suspension\", \"susteren\", \"susteren\", \"sutter\", \"suva\", \"suzy\", \"suzy\", \"suzy\", \"sweden\", \"sweden\", \"swimmer\", \"swimmer\", \"swimmer\", \"symptom\", \"symptom\", \"symptom\", \"symptom\", \"symptom\", \"syncing\", \"syria\", \"syria\", \"syria\", \"syria\", \"syria\", \"syria\", \"syria\", \"syria\", \"syria\", \"syria\", \"syria\", \"syria\", \"syria\", \"syria\", \"syria\", \"syria\", \"syria\", \"syria\", \"syria\", \"syrian\", \"syrian\", \"syrian\", \"syrian\", \"syrian\", \"syrian\", \"syrian\", \"syrian\", \"syrian\", \"syrian\", \"syrian\", \"syrian\", \"syrian\", \"syrian\", \"syrian\", \"syrian\", \"syrian\", \"syrian\", \"syrian\", \"taftanaz\", \"taibbi\", \"taibbi\", \"taibbi\", \"taibbi\", \"tailor\", \"taliban\", \"taliban\", \"taliban\", \"taliban\", \"taliban\", \"taliban\", \"taliban\", \"taliban\", \"taliban\", \"taliban\", \"tan\", \"tan\", \"tan\", \"tan\", \"tan\", \"tan\", \"tapeworm\", \"taylor\", \"taylor\", \"taylor\", \"taylor\", \"taylor\", \"taylor\", \"taylor\", \"taylor\", \"tel\", \"tel\", \"tel\", \"tel\", \"teletubbies\", \"teletubbies\", \"teletubbies\", \"teletubbies\", \"teller\", \"tendon\", \"tenkaev\", \"terrorist\", \"terrorist\", \"terrorist\", \"terrorist\", \"terrorist\", \"terrorist\", \"terrorist\", \"terrorist\", \"terrorist\", \"terrorist\", \"terrorist\", \"terrorist\", \"terrorist\", \"terrorist\", \"terrorist\", \"terrorist\", \"terrorist\", \"terrorist\", \"terrorist\", \"texas\", \"texas\", \"texas\", \"texas\", \"texas\", \"texas\", \"texas\", \"texas\", \"texas\", \"texas\", \"texas\", \"texas\", \"texas\", \"texas\", \"texas\", \"texas\", \"thanksgiving\", \"thanksgiving\", \"theologian\", \"thomas\", \"thomas\", \"thomas\", \"thomas\", \"thomas\", \"thomas\", \"thomas\", \"thomas\", \"thomas\", \"thomas\", \"thomas\", \"thomas\", \"thomas\", \"thomas\", \"thompson\", \"three\", \"three\", \"three\", \"three\", \"three\", \"three\", \"three\", \"three\", \"three\", \"three\", \"three\", \"three\", \"three\", \"three\", \"three\", \"three\", \"three\", \"three\", \"three\", \"three\", \"tied\", \"tied\", \"tied\", \"tied\", \"tied\", \"tied\", \"tied\", \"tier\", \"tiger\", \"tiger\", \"tiger\", \"tiger\", \"tiger\", \"tiger\", \"tiger\", \"time\", \"time\", \"time\", \"time\", \"time\", \"time\", \"time\", \"time\", \"time\", \"time\", \"time\", \"time\", \"time\", \"time\", \"time\", \"time\", \"time\", \"time\", \"time\", \"time\", \"tinder\", \"tissue\", \"titchmarsh\", \"titchmarsh\", \"titchmarsh\", \"tmz\", \"tmz\", \"toadstool\", \"toadstool\", \"told\", \"told\", \"told\", \"told\", \"told\", \"told\", \"told\", \"told\", \"told\", \"told\", \"told\", \"told\", \"told\", \"told\", \"told\", \"told\", \"told\", \"told\", \"told\", \"told\", \"tomato\", \"tomato\", \"tomato\", \"tonight\", \"tonight\", \"tonight\", \"tonight\", \"tonight\", \"tonight\", \"tonight\", \"tonight\", \"tonight\", \"tonight\", \"tonight\", \"tonight\", \"tor\", \"tor\", \"tor\", \"tour\", \"tour\", \"tour\", \"tour\", \"tour\", \"tour\", \"tour\", \"tour\", \"tour\", \"tour\", \"tour\", \"tour\", \"toy\", \"toy\", \"toy\", \"toy\", \"toy\", \"toy\", \"toy\", \"toy\", \"toy\", \"toy\", \"toy\", \"treaty\", \"tripleplay\", \"tripoli\", \"tripoli\", \"tripoli\", \"tripoli\", \"tripoli\", \"tropical\", \"tropical\", \"tropical\", \"truck\", \"truck\", \"truck\", \"truck\", \"truck\", \"truck\", \"truck\", \"truck\", \"truck\", \"tsarnaev\", \"tsarnaev\", \"tukur\", \"tukur\", \"tulemaganbetov\", \"tulemaganbetov\", \"tumour\", \"tweed\", \"twin\", \"twin\", \"twin\", \"twin\", \"twin\", \"twitter\", \"twitter\", \"twitter\", \"twitter\", \"twitter\", \"twitter\", \"twitter\", \"twitter\", \"twitter\", \"twitter\", \"twitter\", \"twitter\", \"twitter\", \"twitter\", \"twitter\", \"twitter\", \"twitter\", \"twitter\", \"twitter\", \"twitter\", \"two\", \"two\", \"two\", \"two\", \"two\", \"two\", \"two\", \"two\", \"two\", \"two\", \"two\", \"two\", \"two\", \"two\", \"two\", \"two\", \"two\", \"two\", \"two\", \"two\", \"u\", \"u\", \"u\", \"u\", \"u\", \"u\", \"u\", \"u\", \"u\", \"u\", \"u\", \"u\", \"u\", \"u\", \"u\", \"u\", \"u\", \"u\", \"u\", \"u\", \"ulbricht\", \"ultron\", \"un\", \"un\", \"un\", \"un\", \"un\", \"un\", \"un\", \"un\", \"un\", \"un\", \"un\", \"un\", \"un\", \"un\", \"un\", \"un\", \"unblock\", \"une\", \"unione\", \"unsourced\", \"untitled\", \"usama\", \"usb\", \"usb\", \"usb\", \"usb\", \"usb\", \"user\", \"user\", \"user\", \"user\", \"user\", \"user\", \"user\", \"user\", \"user\", \"user\", \"user\", \"user\", \"user\", \"user\", \"user\", \"user\", \"user\", \"user\", \"user\", \"valentine\", \"vandalism\", \"vandalism\", \"vandalism\", \"variant\", \"variant\", \"vega\", \"vega\", \"vega\", \"vega\", \"vega\", \"vega\", \"vega\", \"vega\", \"velleius\", \"venezuelan\", \"version\", \"version\", \"version\", \"version\", \"version\", \"version\", \"version\", \"version\", \"version\", \"version\", \"version\", \"version\", \"version\", \"version\", \"version\", \"version\", \"version\", \"version\", \"vice\", \"vice\", \"vice\", \"vice\", \"vice\", \"vice\", \"vice\", \"vice\", \"vice\", \"vice\", \"vice\", \"vice\", \"vice\", \"vice\", \"vice\", \"vice\", \"vice\", \"vickers\", \"vickers\", \"vickers\", \"vickers\", \"vickers\", \"vickers\", \"video\", \"video\", \"video\", \"video\", \"video\", \"video\", \"video\", \"video\", \"video\", \"video\", \"video\", \"video\", \"video\", \"video\", \"video\", \"video\", \"video\", \"video\", \"video\", \"video\", \"videoshop\", \"viejo\", \"viejo\", \"villa\", \"villa\", \"villa\", \"violates\", \"violence\", \"violence\", \"violence\", \"violence\", \"violence\", \"violence\", \"violence\", \"violence\", \"violence\", \"violence\", \"violence\", \"violence\", \"violence\", \"violence\", \"violence\", \"violence\", \"violence\", \"violence\", \"virus\", \"virus\", \"virus\", \"virus\", \"virus\", \"virus\", \"virus\", \"virus\", \"vladi\", \"vladimir\", \"vladimir\", \"vladimir\", \"vocativ\", \"vocativ\", \"vogue\", \"vogue\", \"vogue\", \"vogue\", \"vogue\", \"vogue\", \"vogue\", \"votaw\", \"voting\", \"walla\", \"walter\", \"walter\", \"want\", \"want\", \"want\", \"want\", \"want\", \"want\", \"want\", \"want\", \"want\", \"want\", \"want\", \"want\", \"want\", \"want\", \"want\", \"want\", \"want\", \"want\", \"want\", \"want\", \"war\", \"war\", \"war\", \"war\", \"war\", \"war\", \"war\", \"war\", \"war\", \"war\", \"war\", \"war\", \"war\", \"war\", \"war\", \"war\", \"war\", \"war\", \"war\", \"war\", \"warehouse\", \"warehouse\", \"warehouse\", \"warehouse\", \"watch\", \"watch\", \"watch\", \"watch\", \"watch\", \"watch\", \"watch\", \"watch\", \"watch\", \"watch\", \"watch\", \"watch\", \"watch\", \"watch\", \"watch\", \"watch\", \"watch\", \"watch\", \"watch\", \"watch\", \"watford\", \"weapon\", \"weapon\", \"weapon\", \"weapon\", \"weapon\", \"weapon\", \"weapon\", \"weapon\", \"weapon\", \"weapon\", \"weapon\", \"weapon\", \"weapon\", \"weapon\", \"weapon\", \"weapon\", \"weapon\", \"weapon\", \"wearable\", \"wearable\", \"wearable\", \"website\", \"website\", \"website\", \"website\", \"website\", \"website\", \"website\", \"website\", \"website\", \"website\", \"website\", \"website\", \"website\", \"website\", \"website\", \"website\", \"website\", \"website\", \"website\", \"website\", \"wels\", \"wels\", \"wels\", \"westminster\", \"westminster\", \"whisky\", \"whisky\", \"white\", \"white\", \"white\", \"white\", \"white\", \"white\", \"white\", \"white\", \"white\", \"white\", \"white\", \"white\", \"white\", \"white\", \"white\", \"white\", \"white\", \"white\", \"white\", \"white\", \"williams\", \"williams\", \"williams\", \"williams\", \"williams\", \"williams\", \"williams\", \"williams\", \"williams\", \"williams\", \"williams\", \"wilson\", \"wilson\", \"wilson\", \"wilson\", \"wilson\", \"wilson\", \"wilson\", \"wilson\", \"wilson\", \"wilson\", \"wing\", \"wing\", \"wing\", \"wing\", \"wing\", \"wing\", \"wing\", \"wing\", \"wing\", \"wintour\", \"wintour\", \"wintour\", \"wintour\", \"wintour\", \"withdraw\", \"woman\", \"woman\", \"woman\", \"woman\", \"woman\", \"woman\", \"woman\", \"woman\", \"woman\", \"woman\", \"woman\", \"woman\", \"woman\", \"woman\", \"woman\", \"woman\", \"woman\", \"woman\", \"woman\", \"woman\", \"wonder\", \"wonder\", \"wonder\", \"wonder\", \"wonder\", \"wonder\", \"wonder\", \"wonder\", \"wonder\", \"wonder\", \"wonder\", \"wonder\", \"wonder\", \"wonderful\", \"wonderful\", \"wonderful\", \"wonderful\", \"wonderful\", \"wonderful\", \"wonderful\", \"wood\", \"wood\", \"wood\", \"wood\", \"wood\", \"wood\", \"wood\", \"wood\", \"wood\", \"wood\", \"wood\", \"wood\", \"wood\", \"wood\", \"world\", \"world\", \"world\", \"world\", \"world\", \"world\", \"world\", \"world\", \"world\", \"world\", \"world\", \"world\", \"world\", \"world\", \"world\", \"world\", \"world\", \"world\", \"world\", \"world\", \"would\", \"would\", \"would\", \"would\", \"would\", \"would\", \"would\", \"would\", \"would\", \"would\", \"would\", \"would\", \"would\", \"would\", \"would\", \"would\", \"would\", \"would\", \"would\", \"would\", \"wozniak\", \"wozniak\", \"wozniak\", \"wozniak\", \"wright\", \"wright\", \"wright\", \"wright\", \"wright\", \"wright\", \"wwj\", \"xiangyan\", \"year\", \"year\", \"year\", \"year\", \"year\", \"year\", \"year\", \"year\", \"year\", \"year\", \"year\", \"year\", \"year\", \"year\", \"year\", \"year\", \"year\", \"year\", \"year\", \"year\", \"yemen\", \"yemen\", \"yemeni\", \"yen\", \"yen\", \"yeti\", \"yeti\", \"ynet\", \"yo\", \"yo\", \"yo\", \"yo\", \"yo\", \"yo\", \"yo\", \"yo\", \"yo\", \"york\", \"york\", \"york\", \"york\", \"york\", \"york\", \"york\", \"york\", \"york\", \"york\", \"york\", \"york\", \"york\", \"york\", \"york\", \"york\", \"york\", \"york\", \"york\", \"yosemite\", \"youtube\", \"youtube\", \"youtube\", \"youtube\", \"youtube\", \"youtube\", \"youtube\", \"youtube\", \"youtube\", \"youtube\", \"youtube\", \"youtube\", \"youtube\", \"youtube\", \"youtube\", \"youtube\", \"youtube\", \"ypg\", \"ypg\", \"ypg\", \"ypg\", \"yql\", \"yuan\", \"zad\", \"zaiser\", \"zehaf\", \"zehaf\", \"zehaf\", \"zehaf\", \"zehaf\", \"zehaf\", \"zeppelin\", \"zeppelin\", \"\\u00e0\"]}, \"R\": 30, \"lambda.step\": 0.01, \"plot.opts\": {\"xlab\": \"PC1\", \"ylab\": \"PC2\"}, \"topic.order\": [18, 14, 13, 11, 12, 9, 20, 4, 17, 3, 10, 1, 2, 7, 15, 16, 5, 8, 6, 19]};\n",
       "\n",
       "function LDAvis_load_lib(url, callback){\n",
       "  var s = document.createElement('script');\n",
       "  s.src = url;\n",
       "  s.async = true;\n",
       "  s.onreadystatechange = s.onload = callback;\n",
       "  s.onerror = function(){console.warn(\"failed to load library \" + url);};\n",
       "  document.getElementsByTagName(\"head\")[0].appendChild(s);\n",
       "}\n",
       "\n",
       "if(typeof(LDAvis) !== \"undefined\"){\n",
       "   // already loaded: just create the visualization\n",
       "   !function(LDAvis){\n",
       "       new LDAvis(\"#\" + \"ldavis_el201311270760333634011632\", ldavis_el201311270760333634011632_data);\n",
       "   }(LDAvis);\n",
       "}else if(typeof define === \"function\" && define.amd){\n",
       "   // require.js is available: use it to load d3/LDAvis\n",
       "   require.config({paths: {d3: \"https://cdnjs.cloudflare.com/ajax/libs/d3/3.5.5/d3.min\"}});\n",
       "   require([\"d3\"], function(d3){\n",
       "      window.d3 = d3;\n",
       "      LDAvis_load_lib(\"https://cdn.rawgit.com/bmabey/pyLDAvis/files/ldavis.v1.0.0.js\", function(){\n",
       "        new LDAvis(\"#\" + \"ldavis_el201311270760333634011632\", ldavis_el201311270760333634011632_data);\n",
       "      });\n",
       "    });\n",
       "}else{\n",
       "    // require.js not available: dynamically load d3 & LDAvis\n",
       "    LDAvis_load_lib(\"https://cdnjs.cloudflare.com/ajax/libs/d3/3.5.5/d3.min.js\", function(){\n",
       "         LDAvis_load_lib(\"https://cdn.rawgit.com/bmabey/pyLDAvis/files/ldavis.v1.0.0.js\", function(){\n",
       "                 new LDAvis(\"#\" + \"ldavis_el201311270760333634011632\", ldavis_el201311270760333634011632_data);\n",
       "            })\n",
       "         });\n",
       "}\n",
       "</script>"
      ],
      "text/plain": [
       "PreparedData(topic_coordinates=            Freq  cluster  topics         x         y\n",
       "topic                                                \n",
       "17     12.804306        1       1  0.111491 -0.085515\n",
       "13      9.752285        1       2  0.079374 -0.043186\n",
       "12      7.096027        1       3 -0.223387 -0.095773\n",
       "10      6.532525        1       4 -0.019262  0.029162\n",
       "11      6.423989        1       5  0.080422 -0.035518\n",
       "8       6.197753        1       6  0.033236  0.111488\n",
       "19      5.986520        1       7  0.038135 -0.031822\n",
       "3       5.566109        1       8  0.065530 -0.070919\n",
       "16      5.490118        1       9 -0.012115  0.051340\n",
       "2       5.464538        1      10  0.005687  0.061139\n",
       "9       5.012520        1      11  0.001150  0.079985\n",
       "0       3.854950        1      12  0.024443  0.016851\n",
       "1       3.323574        1      13 -0.084989 -0.068505\n",
       "6       3.010804        1      14  0.017842 -0.004923\n",
       "14      2.558052        1      15 -0.026306  0.059355\n",
       "15      2.441607        1      16 -0.091768 -0.044419\n",
       "4       2.402087        1      17 -0.020619  0.058582\n",
       "7       2.311477        1      18  0.053815 -0.051946\n",
       "5       2.274334        1      19 -0.102630  0.068692\n",
       "18      1.496426        1      20  0.069951 -0.004067, topic_info=     Category         Freq        Term        Total  loglift  logprob\n",
       "term                                                                 \n",
       "1671  Default  1791.000000       apple  1791.000000  30.0000  30.0000\n",
       "1718  Default  1222.000000       watch  1222.000000  29.0000  29.0000\n",
       "2629  Default   605.000000         kim   605.000000  28.0000  28.0000\n",
       "365   Default  1038.000000         isi  1038.000000  27.0000  27.0000\n",
       "6     Default   507.000000         air   507.000000  26.0000  26.0000\n",
       "2189  Default   446.000000       foley   446.000000  25.0000  25.0000\n",
       "8142  Default   234.000000     macbook   234.000000  24.0000  24.0000\n",
       "807   Default   583.000000       north   583.000000  23.0000  23.0000\n",
       "3602  Default   232.000000     comcast   232.000000  22.0000  22.0000\n",
       "963   Default  1298.000000       video  1298.000000  21.0000  21.0000\n",
       "144   Default   338.000000       ebola   338.000000  20.0000  20.0000\n",
       "2628  Default   323.000000        jong   323.000000  19.0000  19.0000\n",
       "1976  Default   154.000000   rosenberg   154.000000  18.0000  18.0000\n",
       "461   Default   449.000000      border   449.000000  17.0000  17.0000\n",
       "2666  Default   298.000000        gold   298.000000  16.0000  16.0000\n",
       "2631  Default   272.000000      korean   272.000000  15.0000  15.0000\n",
       "2285  Default   292.000000       brown   292.000000  14.0000  14.0000\n",
       "1752  Default   405.000000        girl   405.000000  13.0000  13.0000\n",
       "2630  Default   273.000000       korea   273.000000  12.0000  12.0000\n",
       "419   Default   666.000000       syria   666.000000  11.0000  11.0000\n",
       "2565  Default   277.000000         job   277.000000  10.0000  10.0000\n",
       "165   Default  1067.000000         new  1067.000000   9.0000   9.0000\n",
       "297   Default   846.000000          al   846.000000   8.0000   8.0000\n",
       "1382  Default   232.000000     kurdish   232.000000   7.0000   7.0000\n",
       "364   Default   579.000000        iraq   579.000000   6.0000   6.0000\n",
       "110   Default  1325.000000       state  1325.000000   5.0000   5.0000\n",
       "366   Default   812.000000     islamic   812.000000   4.0000   4.0000\n",
       "490   Default   291.000000       haram   291.000000   3.0000   3.0000\n",
       "1313  Default   260.000000  parliament   260.000000   2.0000   2.0000\n",
       "460   Default   287.000000        boko   287.000000   1.0000   1.0000\n",
       "...       ...          ...         ...          ...      ...      ...\n",
       "6739  Topic20    16.651697    sergeant    63.168152   2.8688  -5.7902\n",
       "1569  Topic20     8.275397        tied    21.551598   3.2449  -6.4894\n",
       "1381  Topic20    17.592659        kurd    71.529556   2.7995  -5.7352\n",
       "454   Topic20    28.223755         arm   155.382782   2.4964  -5.2625\n",
       "314   Topic20    18.602619      canada    79.919777   2.7444  -5.6794\n",
       "1340  Topic20    34.232052    captured   248.702148   2.2190  -5.0695\n",
       "315   Topic20    27.832994    canadian   178.359314   2.3445  -5.2765\n",
       "1010  Topic20    17.455702     capture    81.872353   2.6566  -5.7430\n",
       "1495  Topic20    12.375912        2006    46.313183   2.8824  -6.0869\n",
       "1564  Topic20    17.553179     station   112.076950   2.3481  -5.7374\n",
       "1380  Topic20    16.900620      kobani   108.187393   2.3456  -5.7753\n",
       "220   Topic20    26.627319    facebook   300.806854   1.7776  -5.3207\n",
       "1518  Topic20    18.354681         dog   136.218231   2.1977  -5.6928\n",
       "535   Topic20    27.381935    security   509.228668   1.2791  -5.2928\n",
       "44    Topic20    25.753256       force   446.013580   1.3503  -5.3541\n",
       "2502  Topic20    15.994363        safe   114.048660   2.2377  -5.8304\n",
       "1439  Topic20    14.481627          31    89.132248   2.3849  -5.9298\n",
       "5552  Topic20    14.590245      common    92.051918   2.3601  -5.9223\n",
       "96    Topic20    41.648365        said  4033.012451  -0.3709  -4.8734\n",
       "344   Topic20    21.643707     fighter   405.859894   1.2708  -5.5280\n",
       "172   Topic20    23.500980      source   677.958496   0.8400  -5.4456\n",
       "419   Topic20    22.891535       syria   666.669189   0.8306  -5.4719\n",
       "67    Topic20    22.380333      medium   633.873474   0.8584  -5.4945\n",
       "286   Topic20    24.962734        year  1435.142334   0.1505  -5.3853\n",
       "365   Topic20    23.569666         isi  1038.574951   0.4164  -5.4427\n",
       "90    Topic20    24.051373      report  1331.184326   0.1885  -5.4225\n",
       "110   Topic20    23.632612       state  1325.229492   0.1754  -5.4401\n",
       "53    Topic20    19.778330       house   366.117126   1.2837  -5.6181\n",
       "845   Topic20    18.587748        post   431.555634   1.0572  -5.6802\n",
       "925   Topic20    18.445501       story   670.956116   0.6082  -5.6879\n",
       "\n",
       "[1474 rows x 6 columns], token_table=       Topic      Freq      Term\n",
       "term                            \n",
       "184        1  0.055812       000\n",
       "184        2  0.079067       000\n",
       "184        3  0.351148       000\n",
       "184        4  0.039533       000\n",
       "184        5  0.039533       000\n",
       "184        6  0.095345       000\n",
       "184        7  0.018604       000\n",
       "184        8  0.032557       000\n",
       "184        9  0.104647       000\n",
       "184       10  0.011627       000\n",
       "184       11  0.020929       000\n",
       "184       12  0.046510       000\n",
       "184       13  0.006976       000\n",
       "184       14  0.004651       000\n",
       "184       15  0.009302       000\n",
       "184       16  0.030231       000\n",
       "184       17  0.011627       000\n",
       "184       18  0.011627       000\n",
       "184       19  0.027906       000\n",
       "9707       7  0.812572      10th\n",
       "987        1  0.065612        11\n",
       "987        2  0.118922        11\n",
       "987        3  0.041007        11\n",
       "987        4  0.344463        11\n",
       "987        5  0.008201        11\n",
       "987        6  0.024604        11\n",
       "987        7  0.016403        11\n",
       "987        8  0.008201        11\n",
       "987        9  0.045108        11\n",
       "987       10  0.082015        11\n",
       "...      ...       ...       ...\n",
       "984        5  0.197447   youtube\n",
       "984        6  0.376089   youtube\n",
       "984        7  0.009402   youtube\n",
       "984        8  0.023506   youtube\n",
       "984        9  0.014103   youtube\n",
       "984       11  0.028207   youtube\n",
       "984       12  0.014103   youtube\n",
       "984       13  0.004701   youtube\n",
       "984       14  0.042310   youtube\n",
       "984       16  0.004701   youtube\n",
       "984       17  0.004701   youtube\n",
       "984       18  0.075218   youtube\n",
       "984       19  0.056413   youtube\n",
       "1986       1  0.273261       ypg\n",
       "1986       9  0.024842       ypg\n",
       "1986      15  0.223577       ypg\n",
       "1986      20  0.422312       ypg\n",
       "18975     20  0.724186       yql\n",
       "10321     19  0.742259      yuan\n",
       "2783      18  0.893471       zad\n",
       "11607      9  0.818080    zaiser\n",
       "6747       1  0.018328     zehaf\n",
       "6747       4  0.009164     zehaf\n",
       "6747       6  0.925542     zehaf\n",
       "6747       9  0.009164     zehaf\n",
       "6747      11  0.009164     zehaf\n",
       "6747      12  0.009164     zehaf\n",
       "4384       7  0.908806  zeppelin\n",
       "4384       9  0.034954  zeppelin\n",
       "14104      3  0.915859         à\n",
       "\n",
       "[7522 rows x 3 columns], R=30, lambda_step=0.01, plot_opts={'xlab': 'PC1', 'ylab': 'PC2'}, topic_order=[18, 14, 13, 11, 12, 9, 20, 4, 17, 3, 10, 1, 2, 7, 15, 16, 5, 8, 6, 19])"
      ]
     },
     "execution_count": 52,
     "metadata": {},
     "output_type": "execute_result"
    }
   ],
   "source": [
    "pyLDAvis.gensim.prepare(ldamodel, corpus, dictionary)"
   ]
  },
  {
   "cell_type": "code",
   "execution_count": 53,
   "metadata": {},
   "outputs": [],
   "source": [
    "dictionary = corpora.Dictionary(list(df_all['Headline']))\n",
    "\n",
    "corpus = [dictionary.doc2bow(text) for text in df_all['Headline']]\n",
    "\n",
    "ldamodel = models.ldamodel.LdaModel(corpus,                     # pass in our corpus\n",
    "                                    id2word = dictionary,       # matches each word to its \"number\" or \"spot\" in the dictionary\n",
    "                                    num_topics = 20,             # number of topics T to find\n",
    "                                    passes = 5,                 # number of passes through corpus; similar to number of epochs\n",
    "                                    minimum_probability = 0.01) # only include topics above this probability threshold"
   ]
  },
  {
   "cell_type": "code",
   "execution_count": 54,
   "metadata": {},
   "outputs": [
    {
     "data": {
      "text/html": [
       "\n",
       "<link rel=\"stylesheet\" type=\"text/css\" href=\"https://cdn.rawgit.com/bmabey/pyLDAvis/files/ldavis.v1.0.0.css\">\n",
       "\n",
       "\n",
       "<div id=\"ldavis_el20131127076035761514428535\"></div>\n",
       "<script type=\"text/javascript\">\n",
       "\n",
       "var ldavis_el20131127076035761514428535_data = {\"mdsDat\": {\"Freq\": [8.492369651794434, 7.642462253570557, 7.177767276763916, 5.634566783905029, 5.340481758117676, 5.281557559967041, 5.239815711975098, 5.217288970947266, 5.037132740020752, 5.035282135009766, 4.72707986831665, 4.5863261222839355, 4.516434192657471, 4.096324443817139, 4.05826997756958, 4.03093147277832, 4.022765159606934, 3.684993028640747, 3.231407642364502, 2.94673752784729], \"cluster\": [1, 1, 1, 1, 1, 1, 1, 1, 1, 1, 1, 1, 1, 1, 1, 1, 1, 1, 1, 1], \"topics\": [1, 2, 3, 4, 5, 6, 7, 8, 9, 10, 11, 12, 13, 14, 15, 16, 17, 18, 19, 20], \"x\": [0.08171894424697462, -0.25723029243150347, -0.19742404170988742, 0.08524068332960036, 0.12592176338186842, 0.015137583441079695, 0.12860536967012284, -0.14772388356168314, -0.2120147194740124, 0.08328155462376631, -0.1126780704704132, -0.019645517245393228, 0.14305703252495905, 0.1425566293320164, -0.14381219681680568, 0.08475038133743887, 0.12010914795097556, 0.06530048028275008, -0.13247474476117577, 0.14732389634932125], \"y\": [-0.22691954241874, 0.08639698516850042, -0.04966609497074893, -0.12062376462082751, 0.07820295247770333, 0.09700750050548965, -0.011262692902629937, -0.04273397961296683, -0.02940429682675837, 0.0656969402612641, -0.08377470686082569, 0.05188045052009801, 0.21576711115819552, 0.16584393658318636, 0.14332006252493523, 0.05576129376861059, -0.17875095110479522, 0.013137861675785253, -0.07431344097563249, -0.15556562434984308]}, \"tinfo\": {\"Category\": [\"Default\", \"Default\", \"Default\", \"Default\", \"Default\", \"Default\", \"Default\", \"Default\", \"Default\", \"Default\", \"Default\", \"Default\", \"Default\", \"Default\", \"Default\", \"Default\", \"Default\", \"Default\", \"Default\", \"Default\", \"Default\", \"Default\", \"Default\", \"Default\", \"Default\", \"Default\", \"Default\", \"Default\", \"Default\", \"Default\", \"Topic1\", \"Topic1\", \"Topic1\", \"Topic1\", \"Topic1\", \"Topic1\", \"Topic1\", \"Topic1\", \"Topic1\", \"Topic1\", \"Topic1\", \"Topic1\", \"Topic1\", \"Topic1\", \"Topic1\", \"Topic1\", \"Topic1\", \"Topic1\", \"Topic1\", \"Topic1\", \"Topic1\", \"Topic1\", \"Topic1\", \"Topic1\", \"Topic1\", \"Topic1\", \"Topic1\", \"Topic1\", \"Topic1\", \"Topic1\", \"Topic1\", \"Topic1\", \"Topic1\", \"Topic1\", \"Topic1\", \"Topic1\", \"Topic1\", \"Topic1\", \"Topic1\", \"Topic1\", \"Topic1\", \"Topic1\", \"Topic1\", \"Topic1\", \"Topic1\", \"Topic1\", \"Topic1\", \"Topic1\", \"Topic1\", \"Topic1\", \"Topic1\", \"Topic1\", \"Topic2\", \"Topic2\", \"Topic2\", \"Topic2\", \"Topic2\", \"Topic2\", \"Topic2\", \"Topic2\", \"Topic2\", \"Topic2\", \"Topic2\", \"Topic2\", \"Topic2\", \"Topic2\", \"Topic2\", \"Topic2\", \"Topic2\", \"Topic2\", \"Topic2\", \"Topic2\", \"Topic2\", \"Topic2\", \"Topic2\", \"Topic2\", \"Topic2\", \"Topic2\", \"Topic2\", \"Topic2\", \"Topic2\", \"Topic2\", \"Topic2\", \"Topic2\", \"Topic2\", \"Topic2\", \"Topic2\", \"Topic2\", \"Topic2\", \"Topic2\", \"Topic2\", \"Topic2\", \"Topic2\", \"Topic2\", \"Topic2\", \"Topic2\", \"Topic2\", \"Topic2\", \"Topic2\", \"Topic2\", \"Topic2\", \"Topic2\", \"Topic2\", \"Topic2\", \"Topic2\", \"Topic2\", \"Topic2\", \"Topic2\", \"Topic3\", \"Topic3\", \"Topic3\", \"Topic3\", \"Topic3\", \"Topic3\", \"Topic3\", \"Topic3\", \"Topic3\", \"Topic3\", \"Topic3\", \"Topic3\", \"Topic3\", \"Topic3\", \"Topic3\", \"Topic3\", \"Topic3\", \"Topic3\", \"Topic3\", \"Topic3\", \"Topic3\", \"Topic3\", \"Topic3\", \"Topic3\", \"Topic3\", \"Topic3\", \"Topic3\", \"Topic3\", \"Topic3\", \"Topic3\", \"Topic3\", \"Topic3\", \"Topic3\", \"Topic3\", \"Topic3\", \"Topic3\", \"Topic3\", \"Topic3\", \"Topic3\", \"Topic3\", \"Topic3\", \"Topic3\", \"Topic3\", \"Topic3\", \"Topic3\", \"Topic3\", \"Topic3\", \"Topic3\", \"Topic3\", \"Topic3\", \"Topic3\", \"Topic3\", \"Topic3\", \"Topic3\", \"Topic4\", \"Topic4\", \"Topic4\", \"Topic4\", \"Topic4\", \"Topic4\", \"Topic4\", \"Topic4\", \"Topic4\", \"Topic4\", \"Topic4\", \"Topic4\", \"Topic4\", \"Topic4\", \"Topic4\", \"Topic4\", \"Topic4\", \"Topic4\", \"Topic4\", \"Topic4\", \"Topic4\", \"Topic4\", \"Topic4\", \"Topic4\", \"Topic4\", \"Topic4\", \"Topic4\", \"Topic4\", \"Topic4\", \"Topic4\", \"Topic4\", \"Topic4\", \"Topic4\", \"Topic4\", \"Topic4\", \"Topic4\", \"Topic4\", \"Topic4\", \"Topic4\", \"Topic4\", \"Topic4\", \"Topic4\", \"Topic4\", \"Topic4\", \"Topic4\", \"Topic4\", \"Topic4\", \"Topic4\", \"Topic5\", \"Topic5\", \"Topic5\", \"Topic5\", \"Topic5\", \"Topic5\", \"Topic5\", \"Topic5\", \"Topic5\", \"Topic5\", \"Topic5\", \"Topic5\", \"Topic5\", \"Topic5\", \"Topic5\", \"Topic5\", \"Topic5\", \"Topic5\", \"Topic5\", \"Topic5\", \"Topic5\", \"Topic5\", \"Topic5\", \"Topic5\", \"Topic5\", \"Topic5\", \"Topic5\", \"Topic5\", \"Topic5\", \"Topic5\", \"Topic5\", \"Topic5\", \"Topic5\", \"Topic5\", \"Topic5\", \"Topic5\", \"Topic5\", \"Topic5\", \"Topic5\", \"Topic5\", \"Topic5\", \"Topic5\", \"Topic5\", \"Topic5\", \"Topic5\", \"Topic5\", \"Topic5\", \"Topic5\", \"Topic5\", \"Topic5\", \"Topic5\", \"Topic6\", \"Topic6\", \"Topic6\", \"Topic6\", \"Topic6\", \"Topic6\", \"Topic6\", \"Topic6\", \"Topic6\", \"Topic6\", \"Topic6\", \"Topic6\", \"Topic6\", \"Topic6\", \"Topic6\", \"Topic6\", \"Topic6\", \"Topic6\", \"Topic6\", \"Topic6\", \"Topic6\", \"Topic6\", \"Topic6\", \"Topic6\", \"Topic6\", \"Topic6\", \"Topic6\", \"Topic6\", \"Topic6\", \"Topic6\", \"Topic6\", \"Topic6\", \"Topic6\", \"Topic6\", \"Topic6\", \"Topic6\", \"Topic6\", \"Topic6\", \"Topic6\", \"Topic6\", \"Topic6\", \"Topic6\", \"Topic6\", \"Topic6\", \"Topic6\", \"Topic6\", \"Topic6\", \"Topic6\", \"Topic6\", \"Topic6\", \"Topic7\", \"Topic7\", \"Topic7\", \"Topic7\", \"Topic7\", \"Topic7\", \"Topic7\", \"Topic7\", \"Topic7\", \"Topic7\", \"Topic7\", \"Topic7\", \"Topic7\", \"Topic7\", \"Topic7\", \"Topic7\", \"Topic7\", \"Topic7\", \"Topic7\", \"Topic7\", \"Topic7\", \"Topic7\", \"Topic7\", \"Topic7\", \"Topic7\", \"Topic7\", \"Topic7\", \"Topic7\", \"Topic7\", \"Topic7\", \"Topic7\", \"Topic7\", \"Topic7\", \"Topic7\", \"Topic7\", \"Topic7\", \"Topic7\", \"Topic7\", \"Topic7\", \"Topic7\", \"Topic7\", \"Topic7\", \"Topic7\", \"Topic7\", \"Topic8\", \"Topic8\", \"Topic8\", \"Topic8\", \"Topic8\", \"Topic8\", \"Topic8\", \"Topic8\", \"Topic8\", \"Topic8\", \"Topic8\", \"Topic8\", \"Topic8\", \"Topic8\", \"Topic8\", \"Topic8\", \"Topic8\", \"Topic8\", \"Topic8\", \"Topic8\", \"Topic8\", \"Topic8\", \"Topic8\", \"Topic8\", \"Topic8\", \"Topic8\", \"Topic8\", \"Topic8\", \"Topic8\", \"Topic8\", \"Topic8\", \"Topic8\", \"Topic8\", \"Topic8\", \"Topic8\", \"Topic8\", \"Topic8\", \"Topic8\", \"Topic8\", \"Topic8\", \"Topic8\", \"Topic8\", \"Topic8\", \"Topic8\", \"Topic8\", \"Topic8\", \"Topic8\", \"Topic8\", \"Topic8\", \"Topic8\", \"Topic8\", \"Topic8\", \"Topic8\", \"Topic8\", \"Topic8\", \"Topic9\", \"Topic9\", \"Topic9\", \"Topic9\", \"Topic9\", \"Topic9\", \"Topic9\", \"Topic9\", \"Topic9\", \"Topic9\", \"Topic9\", \"Topic9\", \"Topic9\", \"Topic9\", \"Topic9\", \"Topic9\", \"Topic9\", \"Topic9\", \"Topic9\", \"Topic9\", \"Topic9\", \"Topic9\", \"Topic9\", \"Topic9\", \"Topic9\", \"Topic9\", \"Topic9\", \"Topic9\", \"Topic9\", \"Topic9\", \"Topic9\", \"Topic9\", \"Topic9\", \"Topic9\", \"Topic9\", \"Topic9\", \"Topic9\", \"Topic9\", \"Topic9\", \"Topic9\", \"Topic9\", \"Topic9\", \"Topic9\", \"Topic9\", \"Topic9\", \"Topic9\", \"Topic9\", \"Topic9\", \"Topic9\", \"Topic9\", \"Topic9\", \"Topic9\", \"Topic9\", \"Topic9\", \"Topic9\", \"Topic9\", \"Topic10\", \"Topic10\", \"Topic10\", \"Topic10\", \"Topic10\", \"Topic10\", \"Topic10\", \"Topic10\", \"Topic10\", \"Topic10\", \"Topic10\", \"Topic10\", \"Topic10\", \"Topic10\", \"Topic10\", \"Topic10\", \"Topic10\", \"Topic10\", \"Topic10\", \"Topic10\", \"Topic10\", \"Topic10\", \"Topic10\", \"Topic10\", \"Topic10\", \"Topic10\", \"Topic10\", \"Topic10\", \"Topic10\", \"Topic10\", \"Topic10\", \"Topic10\", \"Topic10\", \"Topic10\", \"Topic10\", \"Topic10\", \"Topic10\", \"Topic10\", \"Topic10\", \"Topic10\", \"Topic10\", \"Topic10\", \"Topic10\", \"Topic10\", \"Topic10\", \"Topic10\", \"Topic10\", \"Topic10\", \"Topic10\", \"Topic10\", \"Topic10\", \"Topic11\", \"Topic11\", \"Topic11\", \"Topic11\", \"Topic11\", \"Topic11\", \"Topic11\", \"Topic11\", \"Topic11\", \"Topic11\", \"Topic11\", \"Topic11\", \"Topic11\", \"Topic11\", \"Topic11\", \"Topic11\", \"Topic11\", \"Topic11\", \"Topic11\", \"Topic11\", \"Topic11\", \"Topic11\", \"Topic11\", \"Topic11\", \"Topic11\", \"Topic11\", \"Topic11\", \"Topic11\", \"Topic11\", \"Topic11\", \"Topic11\", \"Topic11\", \"Topic11\", \"Topic11\", \"Topic11\", \"Topic11\", \"Topic11\", \"Topic11\", \"Topic11\", \"Topic11\", \"Topic11\", \"Topic11\", \"Topic11\", \"Topic11\", \"Topic11\", \"Topic11\", \"Topic11\", \"Topic11\", \"Topic11\", \"Topic12\", \"Topic12\", \"Topic12\", \"Topic12\", \"Topic12\", \"Topic12\", \"Topic12\", \"Topic12\", \"Topic12\", \"Topic12\", \"Topic12\", \"Topic12\", \"Topic12\", \"Topic12\", \"Topic12\", \"Topic12\", \"Topic12\", \"Topic12\", \"Topic12\", \"Topic12\", \"Topic12\", \"Topic12\", \"Topic12\", \"Topic12\", \"Topic12\", \"Topic12\", \"Topic12\", \"Topic12\", \"Topic12\", \"Topic12\", \"Topic12\", \"Topic12\", \"Topic12\", \"Topic12\", \"Topic12\", \"Topic12\", \"Topic12\", \"Topic12\", \"Topic12\", \"Topic12\", \"Topic12\", \"Topic12\", \"Topic12\", \"Topic12\", \"Topic12\", \"Topic12\", \"Topic12\", \"Topic12\", \"Topic13\", \"Topic13\", \"Topic13\", \"Topic13\", \"Topic13\", \"Topic13\", \"Topic13\", \"Topic13\", \"Topic13\", \"Topic13\", \"Topic13\", \"Topic13\", \"Topic13\", \"Topic13\", \"Topic13\", \"Topic13\", \"Topic13\", \"Topic13\", \"Topic13\", \"Topic13\", \"Topic13\", \"Topic13\", \"Topic13\", \"Topic13\", \"Topic13\", \"Topic13\", \"Topic13\", \"Topic13\", \"Topic13\", \"Topic13\", \"Topic13\", \"Topic13\", \"Topic13\", \"Topic13\", \"Topic13\", \"Topic13\", \"Topic13\", \"Topic13\", \"Topic13\", \"Topic13\", \"Topic13\", \"Topic13\", \"Topic13\", \"Topic13\", \"Topic14\", \"Topic14\", \"Topic14\", \"Topic14\", \"Topic14\", \"Topic14\", \"Topic14\", \"Topic14\", \"Topic14\", \"Topic14\", \"Topic14\", \"Topic14\", \"Topic14\", \"Topic14\", \"Topic14\", \"Topic14\", \"Topic14\", \"Topic14\", \"Topic14\", \"Topic14\", \"Topic14\", \"Topic14\", \"Topic14\", \"Topic14\", \"Topic14\", \"Topic14\", \"Topic14\", \"Topic14\", \"Topic14\", \"Topic14\", \"Topic14\", \"Topic14\", \"Topic14\", \"Topic14\", \"Topic14\", \"Topic14\", \"Topic14\", \"Topic14\", \"Topic14\", \"Topic14\", \"Topic14\", \"Topic14\", \"Topic15\", \"Topic15\", \"Topic15\", \"Topic15\", \"Topic15\", \"Topic15\", \"Topic15\", \"Topic15\", \"Topic15\", \"Topic15\", \"Topic15\", \"Topic15\", \"Topic15\", \"Topic15\", \"Topic15\", \"Topic15\", \"Topic15\", \"Topic15\", \"Topic15\", \"Topic15\", \"Topic15\", \"Topic15\", \"Topic15\", \"Topic15\", \"Topic15\", \"Topic15\", \"Topic15\", \"Topic15\", \"Topic15\", \"Topic15\", \"Topic15\", \"Topic15\", \"Topic15\", \"Topic15\", \"Topic15\", \"Topic15\", \"Topic15\", \"Topic15\", \"Topic15\", \"Topic15\", \"Topic15\", \"Topic15\", \"Topic15\", \"Topic15\", \"Topic15\", \"Topic15\", \"Topic15\", \"Topic15\", \"Topic16\", \"Topic16\", \"Topic16\", \"Topic16\", \"Topic16\", \"Topic16\", \"Topic16\", \"Topic16\", \"Topic16\", \"Topic16\", \"Topic16\", \"Topic16\", \"Topic16\", \"Topic16\", \"Topic16\", \"Topic16\", \"Topic16\", \"Topic16\", \"Topic16\", \"Topic16\", \"Topic16\", \"Topic16\", \"Topic16\", \"Topic16\", \"Topic16\", \"Topic16\", \"Topic16\", \"Topic16\", \"Topic16\", \"Topic16\", \"Topic16\", \"Topic16\", \"Topic16\", \"Topic16\", \"Topic16\", \"Topic16\", \"Topic16\", \"Topic16\", \"Topic16\", \"Topic16\", \"Topic16\", \"Topic16\", \"Topic16\", \"Topic17\", \"Topic17\", \"Topic17\", \"Topic17\", \"Topic17\", \"Topic17\", \"Topic17\", \"Topic17\", \"Topic17\", \"Topic17\", \"Topic17\", \"Topic17\", \"Topic17\", \"Topic17\", \"Topic17\", \"Topic17\", \"Topic17\", \"Topic17\", \"Topic17\", \"Topic17\", \"Topic17\", \"Topic17\", \"Topic17\", \"Topic17\", \"Topic17\", \"Topic17\", \"Topic17\", \"Topic17\", \"Topic17\", \"Topic17\", \"Topic17\", \"Topic17\", \"Topic17\", \"Topic17\", \"Topic17\", \"Topic17\", \"Topic17\", \"Topic17\", \"Topic17\", \"Topic17\", \"Topic17\", \"Topic17\", \"Topic17\", \"Topic17\", \"Topic17\", \"Topic17\", \"Topic17\", \"Topic17\", \"Topic17\", \"Topic17\", \"Topic17\", \"Topic17\", \"Topic17\", \"Topic17\", \"Topic17\", \"Topic17\", \"Topic17\", \"Topic17\", \"Topic18\", \"Topic18\", \"Topic18\", \"Topic18\", \"Topic18\", \"Topic18\", \"Topic18\", \"Topic18\", \"Topic18\", \"Topic18\", \"Topic18\", \"Topic18\", \"Topic18\", \"Topic18\", \"Topic18\", \"Topic18\", \"Topic18\", \"Topic18\", \"Topic18\", \"Topic18\", \"Topic18\", \"Topic18\", \"Topic18\", \"Topic18\", \"Topic18\", \"Topic18\", \"Topic18\", \"Topic18\", \"Topic18\", \"Topic18\", \"Topic18\", \"Topic18\", \"Topic18\", \"Topic18\", \"Topic18\", \"Topic18\", \"Topic18\", \"Topic18\", \"Topic18\", \"Topic18\", \"Topic18\", \"Topic18\", \"Topic18\", \"Topic18\", \"Topic19\", \"Topic19\", \"Topic19\", \"Topic19\", \"Topic19\", \"Topic19\", \"Topic19\", \"Topic19\", \"Topic19\", \"Topic19\", \"Topic19\", \"Topic19\", \"Topic19\", \"Topic19\", \"Topic19\", \"Topic19\", \"Topic19\", \"Topic19\", \"Topic19\", \"Topic19\", \"Topic19\", \"Topic19\", \"Topic19\", \"Topic19\", \"Topic19\", \"Topic19\", \"Topic19\", \"Topic19\", \"Topic19\", \"Topic19\", \"Topic19\", \"Topic19\", \"Topic19\", \"Topic19\", \"Topic19\", \"Topic19\", \"Topic19\", \"Topic19\", \"Topic19\", \"Topic19\", \"Topic19\", \"Topic19\", \"Topic19\", \"Topic19\", \"Topic19\", \"Topic19\", \"Topic19\", \"Topic19\", \"Topic19\", \"Topic20\", \"Topic20\", \"Topic20\", \"Topic20\", \"Topic20\", \"Topic20\", \"Topic20\", \"Topic20\", \"Topic20\", \"Topic20\", \"Topic20\", \"Topic20\", \"Topic20\", \"Topic20\", \"Topic20\", \"Topic20\", \"Topic20\", \"Topic20\", \"Topic20\", \"Topic20\", \"Topic20\", \"Topic20\", \"Topic20\", \"Topic20\", \"Topic20\", \"Topic20\", \"Topic20\", \"Topic20\", \"Topic20\", \"Topic20\", \"Topic20\", \"Topic20\", \"Topic20\", \"Topic20\", \"Topic20\", \"Topic20\", \"Topic20\", \"Topic20\", \"Topic20\", \"Topic20\", \"Topic20\", \"Topic20\", \"Topic20\", \"Topic20\", \"Topic20\", \"Topic20\", \"Topic20\", \"Topic20\", \"Topic20\", \"Topic20\", \"Topic20\"], \"Freq\": [7149.0, 2538.0, 2266.0, 2923.0, 2075.0, 2679.0, 2765.0, 1758.0, 2188.0, 3819.0, 1649.0, 2095.0, 2095.0, 1759.0, 2755.0, 2067.0, 1975.0, 2060.0, 2561.0, 1173.0, 1173.0, 2040.0, 2618.0, 1247.0, 1596.0, 1068.0, 3762.0, 2093.0, 1543.0, 2927.0, 2094.410400390625, 2094.410400390625, 1071.8360595703125, 1037.24658203125, 585.231689453125, 529.662109375, 451.1816711425781, 431.9332275390625, 294.78741455078125, 293.62701416015625, 203.382080078125, 202.7806854248047, 200.96109008789062, 200.96109008789062, 191.21253967285156, 171.21253967285156, 169.52964782714844, 169.52964782714844, 147.10592651367188, 145.73936462402344, 143.36949157714844, 133.4361572265625, 129.28170776367188, 122.49532318115234, 120.2134017944336, 104.29334259033203, 104.29334259033203, 96.93749237060547, 96.80470275878906, 93.92111206054688, 1850.031982421875, 800.0110473632812, 1755.6094970703125, 1072.9871826171875, 1358.386474609375, 463.54595947265625, 279.5321960449219, 1770.6158447265625, 1123.59619140625, 462.255859375, 306.6669921875, 853.5791015625, 666.0635986328125, 526.9780883789062, 662.417236328125, 974.8152465820312, 248.84005737304688, 225.91488647460938, 237.7789306640625, 417.78582763671875, 308.5537414550781, 263.322998046875, 2537.687255859375, 1141.673828125, 896.6832275390625, 344.5389099121094, 339.14251708984375, 284.1387939453125, 226.6977996826172, 202.97335815429688, 124.80451965332031, 123.73834228515625, 123.73834228515625, 123.73834228515625, 98.9213638305664, 95.16607666015625, 95.16607666015625, 92.63304901123047, 92.53427124023438, 88.41422271728516, 85.4035415649414, 85.4035415649414, 76.52464294433594, 74.72554779052734, 73.61832427978516, 67.3096694946289, 64.54084014892578, 62.84952926635742, 60.04814910888672, 60.04814910888672, 60.04814910888672, 60.04814910888672, 242.356201171875, 629.4445190429688, 2211.7451171875, 1696.1439208984375, 2180.292236328125, 711.8292846679688, 254.98609924316406, 1707.4197998046875, 1462.9632568359375, 472.1861572265625, 1573.605712890625, 615.55517578125, 381.9148254394531, 775.5447387695312, 719.6332397460938, 1023.87646484375, 224.6890869140625, 1431.0648193359375, 268.3824768066406, 342.9478454589844, 345.3473205566406, 426.9597473144531, 460.0836181640625, 332.102783203125, 273.6954040527344, 257.6062316894531, 880.964599609375, 848.2167358398438, 730.9830932617188, 610.112060546875, 574.1953125, 478.6603698730469, 478.6603698730469, 350.9523010253906, 350.9523010253906, 301.79193115234375, 252.43310546875, 185.46124267578125, 154.86630249023438, 129.4047393798828, 127.35746002197266, 124.86709594726562, 118.57199096679688, 117.50718688964844, 108.74658203125, 98.97525024414062, 94.01439666748047, 92.6503677368164, 90.96001434326172, 89.6510238647461, 81.64907836914062, 77.48033142089844, 76.39026641845703, 71.08845520019531, 70.16754913330078, 63.633358001708984, 434.6960144042969, 468.5659484863281, 1644.1337890625, 220.3441619873047, 568.1314697265625, 650.229248046875, 228.2227020263672, 716.4161376953125, 809.5849609375, 256.7059631347656, 172.0752716064453, 2757.8466796875, 759.9929809570312, 508.13458251953125, 1333.7232666015625, 774.9515991210938, 291.3580017089844, 386.8322448730469, 545.8251342773438, 621.1942138671875, 534.361572265625, 520.4031982421875, 288.19171142578125, 312.4263916015625, 2265.43701171875, 2074.50146484375, 1758.1865234375, 1076.2105712890625, 689.2196655273438, 627.5673828125, 454.8043518066406, 402.9225158691406, 386.37457275390625, 316.3894348144531, 208.5749969482422, 205.8396759033203, 205.7244110107422, 191.52919006347656, 143.83253479003906, 139.27267456054688, 123.98204040527344, 121.96732330322266, 118.56489562988281, 113.93360900878906, 108.3063735961914, 101.75676727294922, 87.90563201904297, 79.98411560058594, 79.72676849365234, 78.61705780029297, 74.18675231933594, 71.62552642822266, 68.32830047607422, 64.76421356201172, 344.2516784667969, 860.21435546875, 281.2446594238281, 281.2446594238281, 476.4961242675781, 661.2489624023438, 268.6346130371094, 473.57598876953125, 420.7972412109375, 181.1942596435547, 446.65606689453125, 192.0768585205078, 157.3297576904297, 144.97544860839844, 191.26327514648438, 192.10777282714844, 169.8828125, 213.97210693359375, 551.4512939453125, 420.0033264160156, 301.1842346191406, 288.5011291503906, 264.9024658203125, 234.07296752929688, 222.802001953125, 193.69456481933594, 165.43690490722656, 161.0934295654297, 152.69178771972656, 140.4412841796875, 133.5672149658203, 127.30357360839844, 120.4332504272461, 118.86843872070312, 111.79562377929688, 96.32036590576172, 94.18144989013672, 93.79386138916016, 91.93257141113281, 89.15628814697266, 89.15628814697266, 88.26370239257812, 83.60151672363281, 82.81087493896484, 78.80165100097656, 78.63800811767578, 76.58975982666016, 72.96623992919922, 1953.8133544921875, 1897.448974609375, 576.6298217773438, 530.8822631835938, 168.26019287109375, 180.32235717773438, 279.3616027832031, 359.6573791503906, 450.7096862792969, 316.5421142578125, 169.60498046875, 168.24859619140625, 420.78765869140625, 181.66346740722656, 168.75238037109375, 407.82891845703125, 400.82904052734375, 314.5310974121094, 490.50555419921875, 215.5406036376953, 244.9921112060547, 968.5245971679688, 968.5245971679688, 552.158935546875, 534.3194580078125, 458.8695068359375, 365.6575927734375, 358.0272521972656, 346.2550048828125, 330.2929382324219, 330.2929382324219, 235.91445922851562, 175.0172119140625, 155.35430908203125, 135.41600036621094, 131.18893432617188, 128.5135498046875, 332.20672607421875, 116.77949523925781, 106.13429260253906, 101.49440002441406, 98.84107208251953, 96.70248413085938, 95.7282485961914, 93.51961517333984, 88.02674865722656, 83.14290618896484, 82.97447967529297, 76.58917236328125, 76.26822662353516, 74.08686065673828, 659.120361328125, 692.1488037109375, 323.06768798828125, 263.7704772949219, 346.59942626953125, 180.7863311767578, 386.0663757324219, 198.5417022705078, 430.01556396484375, 261.09722900390625, 146.06646728515625, 249.68443298339844, 259.88641357421875, 237.3394012451172, 261.3410339355469, 545.5232543945312, 245.572265625, 234.2372589111328, 300.5523986816406, 360.6307067871094, 888.762451171875, 658.0549926757812, 505.28143310546875, 384.2357177734375, 348.6483154296875, 348.5006408691406, 348.5006408691406, 313.7999267578125, 280.191162109375, 271.86767578125, 264.1355285644531, 232.46795654296875, 209.02000427246094, 206.5599822998047, 203.39501953125, 203.25250244140625, 198.23240661621094, 165.03622436523438, 159.25772094726562, 154.59988403320312, 138.33499145507812, 123.04861450195312, 122.09658813476562, 112.22015380859375, 112.16563415527344, 107.58460235595703, 101.74736022949219, 99.85569763183594, 95.79228973388672, 95.15386199951172, 493.7787780761719, 552.0062255859375, 437.6135559082031, 400.4496154785156, 202.11019897460938, 141.95306396484375, 358.2669372558594, 360.24298095703125, 145.3961639404297, 203.25250244140625, 166.0801544189453, 171.45887756347656, 161.55384826660156, 161.27011108398438, 751.5540161132812, 601.8419189453125, 442.66326904296875, 378.0678405761719, 305.90887451171875, 269.6597900390625, 213.16021728515625, 199.4508514404297, 179.80262756347656, 177.95848083496094, 162.42625427246094, 161.86758422851562, 158.9723358154297, 151.53138732910156, 149.8305206298828, 148.38963317871094, 145.43972778320312, 139.17648315429688, 137.73118591308594, 131.78121948242188, 110.76395416259766, 99.4063949584961, 97.85965728759766, 97.17407989501953, 82.89769744873047, 82.40078735351562, 80.3229751586914, 77.66781616210938, 74.51815795898438, 72.34225463867188, 980.385009765625, 830.2064819335938, 446.5954895019531, 131.44790649414062, 225.9908905029297, 408.07769775390625, 630.8992919921875, 162.14324951171875, 141.03067016601562, 204.3450469970703, 201.50320434570312, 177.95848083496094, 478.10540771484375, 683.5729370117188, 204.2549285888672, 828.7809448242188, 207.66302490234375, 229.01791381835938, 336.462890625, 187.42019653320312, 323.6330871582031, 307.55426025390625, 188.76214599609375, 233.2476043701172, 191.5040283203125, 379.4956970214844, 310.9142150878906, 280.1824645996094, 205.70901489257812, 205.70901489257812, 170.28916931152344, 157.67520141601562, 150.63870239257812, 130.8512725830078, 122.52116394042969, 122.52116394042969, 113.85086822509766, 108.96024322509766, 108.6840591430664, 103.74359893798828, 98.08735656738281, 98.08735656738281, 97.2795639038086, 97.22660064697266, 91.02069854736328, 81.1732177734375, 79.84258270263672, 77.30742645263672, 75.27962493896484, 74.51463317871094, 74.51463317871094, 74.39849853515625, 73.52745819091797, 71.7346420288086, 68.50924682617188, 454.6406555175781, 295.8578186035156, 721.4378051757812, 1200.953125, 571.7177734375, 251.3733367919922, 414.30645751953125, 147.21006774902344, 1542.8388671875, 216.51466369628906, 770.2669067382812, 252.80931091308594, 242.95204162597656, 242.95204162597656, 242.95204162597656, 264.69085693359375, 395.0820007324219, 227.61924743652344, 203.72943115234375, 646.9572143554688, 382.99365234375, 313.3312072753906, 345.9950256347656, 283.53741455078125, 186.0806427001953, 223.8865509033203, 631.7401123046875, 309.7390441894531, 265.6299743652344, 249.29782104492188, 246.1890106201172, 244.61297607421875, 218.4483184814453, 196.7970733642578, 189.55528259277344, 170.97171020507812, 161.9792022705078, 161.57254028320312, 153.8138427734375, 130.99842834472656, 125.68003845214844, 125.07328033447266, 120.74071502685547, 109.45663452148438, 109.45663452148438, 109.0470199584961, 107.43919372558594, 106.43643188476562, 105.87283325195312, 101.48231506347656, 100.17916870117188, 99.78239440917969, 95.81114959716797, 92.03314971923828, 90.73699188232422, 90.13622283935547, 382.06671142578125, 348.24859619140625, 225.1762237548828, 187.9766082763672, 392.1769714355469, 408.2901611328125, 421.8348083496094, 176.0690460205078, 320.1264343261719, 149.8122100830078, 291.86871337890625, 282.8487243652344, 216.78231811523438, 394.6741027832031, 248.46766662597656, 270.5155944824219, 185.83447265625, 180.78482055664062, 181.6466522216797, 182.073974609375, 166.1393280029297, 498.81866455078125, 498.81866455078125, 498.81866455078125, 498.81866455078125, 418.8780212402344, 411.2023620605469, 356.4047546386719, 257.0819396972656, 255.24305725097656, 246.42665100097656, 239.03334045410156, 184.3671112060547, 170.5245819091797, 158.42576599121094, 156.69801330566406, 155.06475830078125, 150.7884979248047, 143.16944885253906, 121.15315246582031, 115.91216278076172, 110.56565856933594, 105.94483947753906, 105.18659973144531, 101.07640075683594, 93.14179229736328, 93.11932373046875, 88.54908752441406, 87.9664306640625, 86.63965606689453, 86.39506530761719, 612.6619873046875, 607.6688232421875, 283.7143859863281, 339.94610595703125, 549.86328125, 304.837158203125, 345.9822692871094, 454.17901611328125, 229.52816772460938, 277.9133605957031, 271.38916015625, 195.12168884277344, 423.34527587890625, 574.31103515625, 312.9270935058594, 186.71612548828125, 356.2192077636719, 240.8204803466797, 207.60745239257812, 383.3567199707031, 370.4377746582031, 336.3730163574219, 809.0385131835938, 274.0860290527344, 218.76576232910156, 363.52734375, 207.91110229492188, 204.6135711669922, 191.55018615722656, 190.36148071289062, 173.90245056152344, 170.9549560546875, 168.56214904785156, 164.7466278076172, 163.83250427246094, 163.83250427246094, 162.1907196044922, 158.5576934814453, 143.98060607910156, 129.4778594970703, 128.26638793945312, 124.38720703125, 108.35468292236328, 107.4286880493164, 104.73208618164062, 103.98040008544922, 101.85869598388672, 96.0356674194336, 93.31361389160156, 768.366943359375, 170.9549560546875, 284.1285400390625, 274.18292236328125, 366.5008544921875, 188.43898010253906, 513.2142333984375, 424.45208740234375, 170.69500732421875, 193.87672424316406, 193.87672424316406, 193.87672424316406, 266.1629638671875, 193.9747314453125, 250.05343627929688, 187.03302001953125, 236.49954223632812, 197.69410705566406, 502.53289794921875, 448.788330078125, 394.6355895996094, 379.65972900390625, 341.98309326171875, 281.8482666015625, 276.7813720703125, 265.91046142578125, 251.1024627685547, 238.71380615234375, 226.25926208496094, 214.80172729492188, 206.04681396484375, 206.04681396484375, 193.17417907714844, 185.77810668945312, 177.32046508789062, 176.99595642089844, 164.77552795410156, 150.34971618652344, 143.80624389648438, 137.9414825439453, 128.1611328125, 123.01519012451172, 112.87208557128906, 108.94778442382812, 101.24107360839844, 98.37964630126953, 95.10862731933594, 92.21612548828125, 782.21484375, 313.2208251953125, 506.0921936035156, 237.4156036376953, 244.3030548095703, 673.1240844726562, 281.2181701660156, 164.5990447998047, 506.74847412109375, 247.1360321044922, 260.1654357910156, 233.45201110839844, 174.6935577392578, 177.2586669921875, 1757.8902587890625, 1648.629150390625, 1172.6978759765625, 1172.6978759765625, 636.4700927734375, 463.2896728515625, 463.2896728515625, 326.1888732910156, 278.7958679199219, 219.4641571044922, 219.14315795898438, 217.9031219482422, 195.38760375976562, 193.25282287597656, 186.38589477539062, 143.45387268066406, 106.9478530883789, 104.97811126708984, 100.83099365234375, 96.8376235961914, 91.2956314086914, 91.2956314086914, 88.49249267578125, 86.22425079345703, 81.37059783935547, 72.26589965820312, 70.2591781616211, 66.65862274169922, 60.84561538696289, 60.84561538696289, 1058.2603759765625, 344.22515869140625, 248.08865356445312, 180.22706604003906, 115.94094848632812, 203.54934692382812, 316.7892150878906, 108.46968841552734, 221.90989685058594, 114.56608581542969, 124.10581970214844, 110.09003448486328, 689.8179931640625, 389.6219787597656, 351.63623046875, 344.9350280761719, 344.9350280761719, 296.89324951171875, 222.8294219970703, 210.95211791992188, 203.65330505371094, 200.23695373535156, 192.26004028320312, 156.6566162109375, 149.48741149902344, 143.11422729492188, 132.01219177246094, 132.01219177246094, 118.34445190429688, 118.34445190429688, 114.83980560302734, 108.52478790283203, 105.27838134765625, 105.14807891845703, 102.6062240600586, 102.1823501586914, 101.4676284790039, 101.4676284790039, 101.4676284790039, 101.14120483398438, 96.8106918334961, 92.61347198486328, 196.1643524169922, 540.6321411132812, 280.7359313964844, 603.0416870117188, 276.8246765136719, 742.5736694335938, 200.23695373535156, 257.106201171875, 467.0935363769531, 305.29571533203125, 222.62754821777344, 241.618896484375, 331.3950500488281, 157.66928100585938, 193.6107635498047, 283.507568359375, 164.41836547851562, 149.59033203125, 1067.294921875, 764.2572631835938, 606.6084594726562, 548.3110961914062, 548.3110961914062, 548.3110961914062, 425.8560485839844, 415.9215393066406, 368.89398193359375, 331.7001647949219, 219.85577392578125, 216.80929565429688, 183.25169372558594, 162.93133544921875, 162.2354736328125, 141.13345336914062, 139.8470916748047, 136.8578338623047, 113.9766845703125, 101.2350845336914, 96.90666961669922, 96.76348876953125, 93.83782958984375, 81.75450897216797, 81.75450897216797, 80.24056243896484, 79.08580017089844, 79.08580017089844, 71.15431213378906, 68.87504577636719, 268.298583984375, 116.71730041503906, 250.42056274414062, 188.31475830078125, 195.60336303710938, 241.38653564453125, 150.5108642578125, 267.1245422363281, 167.3182373046875, 201.6294708251953, 157.12782287597656, 218.5363311767578, 183.18972778320312, 362.504638671875, 295.6661682128906, 268.95379638671875, 265.08258056640625, 236.74713134765625, 179.58056640625, 164.8160858154297, 164.6680450439453, 131.84896850585938, 131.84896850585938, 130.2273712158203, 127.18742370605469, 125.82820129394531, 102.13877868652344, 86.89816284179688, 78.339599609375, 78.05188751220703, 75.395263671875, 75.18721008300781, 68.9374771118164, 66.34078979492188, 66.34078979492188, 66.34078979492188, 63.6566047668457, 62.47443389892578, 61.41346740722656, 60.578758239746094, 60.578758239746094, 59.15813446044922, 57.53804016113281, 65.1302490234375, 65.1302490234375, 458.13275146484375, 291.3489990234375, 216.32260131835938, 258.27099609375, 193.66587829589844, 481.67205810546875, 563.0419311523438, 204.94073486328125, 306.529052734375, 111.30517578125, 256.4615783691406, 186.6600799560547, 204.23629760742188, 278.3243103027344, 117.87841033935547, 140.2857208251953, 419.1018981933594, 274.7672424316406, 219.2819061279297, 263.3380126953125, 252.8666229248047, 187.25254821777344, 294.772705078125, 172.1005401611328, 150.06991577148438, 157.23797607421875, 392.3189392089844, 358.31573486328125, 306.01348876953125, 281.0790710449219, 230.02133178710938, 224.47279357910156, 212.4977569580078, 209.5420684814453, 209.5420684814453, 184.9356231689453, 181.13873291015625, 173.13258361816406, 167.48641967773438, 166.0357666015625, 156.32940673828125, 153.6611785888672, 153.60792541503906, 133.73785400390625, 126.15668487548828, 125.83196258544922, 124.1552963256836, 123.11181640625, 113.40594482421875, 107.45113372802734, 100.71369171142578, 100.53813934326172, 96.40830993652344, 86.42224884033203, 80.09461975097656, 79.80473327636719, 390.17279052734375, 216.3359832763672, 254.82920837402344, 476.431884765625, 251.41168212890625, 139.51739501953125, 261.2657775878906, 166.17324829101562, 277.85052490234375, 189.30796813964844, 181.0680694580078, 221.02157592773438, 191.5538787841797, 177.39556884765625, 517.5341796875, 236.7382354736328, 196.21142578125, 182.83956909179688, 169.38705444335938, 169.38705444335938, 167.798828125, 150.2731475830078, 134.27627563476562, 131.0999755859375, 131.0999755859375, 126.52379608154297, 119.58316040039062, 119.58316040039062, 115.66121673583984, 113.0818862915039, 106.27046203613281, 104.8025894165039, 104.05730438232422, 103.14967346191406, 101.91764831542969, 101.51618957519531, 85.74366760253906, 79.72599792480469, 76.37315368652344, 70.98804473876953, 70.75445556640625, 67.29866790771484, 65.67382049560547, 65.67382049560547, 498.74798583984375, 171.67330932617188, 163.352294921875, 140.146240234375, 114.41536712646484, 179.97105407714844, 179.97105407714844, 190.53599548339844, 132.1695556640625, 182.37640380859375, 150.15614318847656, 151.86778259277344, 416.06170654296875, 133.72119140625, 202.7451629638672, 146.51895141601562, 129.47776794433594, 139.33163452148438, 130.2969512939453, 317.6617126464844, 266.5985412597656, 260.9541320800781, 228.71286010742188, 172.95870971679688, 159.45790100097656, 153.86663818359375, 153.86663818359375, 135.07630920410156, 133.56472778320312, 132.09959411621094, 128.1804962158203, 125.65593719482422, 118.1835708618164, 116.58456420898438, 110.58575439453125, 109.36913299560547, 101.32776641845703, 93.6120376586914, 92.69593811035156, 79.6196517944336, 77.61384582519531, 75.55805206298828, 70.44536590576172, 62.91109848022461, 62.91109848022461, 62.91109848022461, 62.28040313720703, 60.722469329833984, 60.722469329833984, 60.722469329833984, 139.50613403320312, 319.7254943847656, 237.6341094970703, 115.13501739501953, 126.4599838256836, 130.10142517089844, 191.4437255859375, 180.1714630126953, 134.84710693359375, 456.1485595703125, 287.126953125, 264.6081848144531, 154.0426483154297, 251.2865753173828, 219.1439666748047, 216.9413299560547, 199.5850372314453, 129.71261596679688, 141.46617126464844, 129.82374572753906], \"Term\": [\"isi\", \"journalist\", \"kim\", \"foley\", \"jong\", \"james\", \"apple\", \"steve\", \"watch\", \"u\", \"job\", \"haram\", \"boko\", \"un\", \"islamic\", \"brown\", \"audio\", \"american\", \"michael\", \"christian\", \"bale\", \"ebola\", \"state\", \"play\", \"killed\", \"meteorite\", \"report\", \"leader\", \"girl\", \"video\", \"haram\", \"boko\", \"ceasefire\", \"nigeria\", \"cnn\", \"truce\", \"schoolgirl\", \"nigerian\", \"married\", \"building\", \"surfaced\", \"sneezing\", \"robert\", \"plant\", \"tear\", \"hope\", \"led\", \"zeppelin\", \"rajasthan\", \"university\", \"breached\", \"previously\", \"ferguson\", \"800\", \"personally\", \"talking\", \"struck\", \"shopper\", \"deeper\", \"suffering\", \"brown\", \"recording\", \"audio\", \"alleged\", \"shooting\", \"allegedly\", \"released\", \"michael\", \"girl\", \"deal\", \"capture\", \"kidnapped\", \"release\", \"denies\", \"shot\", \"say\", \"reported\", \"cease\", \"king\", \"claim\", \"new\", \"may\", \"journalist\", \"wright\", \"beheads\", \"testicle\", \"40\", \"apparently\", \"executed\", \"hold\", \"ripping\", \"remembered\", \"tireless\", \"brave\", \"newly\", \"assertion\", \"via\", \"28\", \"2012\", \"advisory\", \"clint\", \"eastwood\", \"tweet\", \"united\", \"disappear\", \"ayr\", \"cold\", \"email\", \"ansar\", \"jabhat\", \"fitted\", \"deen\", \"showing\", \"photojournalist\", \"james\", \"american\", \"foley\", \"beheaded\", \"behead\", \"islamic\", \"state\", \"isil\", \"video\", \"beheading\", \"breaking\", \"militant\", \"missing\", \"u\", \"message\", \"isi\", \"near\", \"iraq\", \"syria\", \"reportedly\", \"claim\", \"kidnapped\", \"found\", \"news\", \"wife\", \"baghdadi\", \"iraqi\", \"lebanon\", \"contracted\", \"abu\", \"bakr\", \"gill\", \"rosenberg\", \"detained\", \"among\", \"holding\", \"youngest\", \"met\", \"fighting\", \"cub\", \"investigates\", \"dna\", \"ypg\", \"according\", \"secure\", \"idf\", \"agreed\", \"massive\", \"scare\", \"land\", \"attempted\", \"analyst\", \"outlet\", \"broke\", \"israeli\", \"dy\", \"ebola\", \"mosul\", \"canadian\", \"captured\", \"child\", \"al\", \"woman\", \"virus\", \"come\", \"isi\", \"fighter\", \"medium\", \"report\", \"leader\", \"confirms\", \"iraq\", \"militant\", \"say\", \"islamic\", \"state\", \"son\", \"claim\", \"kim\", \"jong\", \"un\", \"north\", \"ankle\", \"korea\", \"korean\", \"castro\", \"fidel\", \"yo\", \"twitter\", \"dictator\", \"fractured\", \"center\", \"broken\", \"sweep\", \"become\", \"cuba\", \"fabricated\", \"cheese\", \"question\", \"ill\", \"ban\", \"mourn\", \"medical\", \"sign\", \"blamed\", \"undergoes\", \"china\", \"investigating\", \"surgery\", \"death\", \"culkin\", \"macaulay\", \"sister\", \"dead\", \"internet\", \"rumor\", \"hoax\", \"rose\", \"leader\", \"take\", \"victim\", \"charge\", \"world\", \"may\", \"viral\", \"report\", \"gold\", \"9\", \"edition\", \"stainless\", \"libyan\", \"microsoft\", \"jetliner\", \"feature\", \"next\", \"power\", \"robot\", \"campus\", \"style\", \"sony\", \"town\", \"woz\", \"platinum\", \"anniversary\", \"due\", \"way\", \"pricing\", \"wine\", \"snake\", \"summer\", \"tripoli\", \"price\", \"variant\", \"com\", \"true\", \"solved\", \"watch\", \"apple\", \"could\", \"11\", \"problem\", \"issue\", \"security\", \"fear\", \"attack\", \"launch\", \"turn\", \"raise\", \"000\", \"islamist\", \"plane\", \"missing\", \"reportedly\", \"rumor\", \"report\", \"5\", \"new\", \"john\", \"jihadi\", \"mohammed\", \"emwazi\", \"named\", \"nun\", \"birth\", \"gunman\", \"bibeau\", \"zehaf\", \"pain\", \"londoner\", \"paid\", \"jess\", \"opening\", \"shooter\", \"teletubbies\", \"bin\", \"slain\", \"bed\", \"fat\", \"bad\", \"duty\", \"bunbury\", \"working\", \"dylan\", \"chest\", \"dump\", \"stopped\", \"seize\", \"baby\", \"penis\", \"stomach\", \"west\", \"cut\", \"young\", \"ottawa\", \"19\", \"identified\", \"chop\", \"behind\", \"killer\", \"give\", \"1\", \"girlfriend\", \"man\", \"london\", \"canadian\", \"michael\", \"isi\", \"rat\", \"vogue\", \"6\", \"iphone\", \"truck\", \"anna\", \"wintour\", \"plumber\", \"infestation\", \"memorial\", \"hairgate\", \"hair\", \"airstrikes\", \"2014\", \"trade\", \"darkness\", \"boston\", \"spotted\", \"december\", \"teenager\", \"turkey\", \"lynch\", \"pause\", \"total\", \"detail\", \"injured\", \"device\", \"droppings\", \"railway\", \"attorney\", \"office\", \"texas\", \"war\", \"soldier\", \"hit\", \"user\", \"shot\", \"new\", \"rape\", \"day\", \"reveals\", \"hoax\", \"syria\", \"man\", \"mexico\", \"mass\", \"mexican\", \"grave\", \"congressman\", \"graf\", \"across\", \"gop\", \"mortgage\", \"hunter\", \"dhs\", \"rep\", \"cross\", \"running\", \"southern\", \"ten\", \"crossing\", \"shoot\", \"eating\", \"43\", \"threat\", \"26\", \"homeland\", \"lawmaker\", \"place\", \"patrol\", \"categorically\", \"elaborate\", \"cat\", \"check\", \"border\", \"student\", \"terrorist\", \"murdered\", \"week\", \"least\", \"caught\", \"site\", \"tried\", \"dumped\", \"christmas\", \"duncan\", \"fighter\", \"u\", \"coming\", \"isi\", \"body\", \"10\", \"missing\", \"kfc\", \"say\", \"claim\", \"suspected\", \"woman\", \"parent\", \"small\", \"somalia\", \"yemen\", \"luke\", \"somers\", \"kansa\", \"college\", \"thing\", \"somali\", \"kayla\", \"mueller\", \"eyewitness\", \"purport\", \"shabab\", \"ordered\", \"constipated\", \"goldfish\", \"499\", \"suggests\", \"castrated\", \"explosion\", \"treated\", \"kenya\", \"urgent\", \"guru\", \"closer\", \"follower\", \"bid\", \"sick\", \"sadly\", \"airstrike\", \"rescue\", \"show\", \"killed\", \"hostage\", \"attempt\", \"city\", \"execution\", \"u\", \"pentagon\", \"leader\", \"4\", \"spice\", \"pumpkin\", \"condom\", \"strike\", \"al\", \"photo\", \"group\", \"isi\", \"video\", \"american\", \"claim\", \"say\", \"terror\", \"militant\", \"dog\", \"scotland\", \"suitcase\", \"72\", \"station\", \"abandoned\", \"really\", \"belonging\", \"lego\", \"indian\", \"michelle\", \"revealed\", \"start\", \"identity\", \"scottish\", \"us\", \"market\", \"cesar\", \"millan\", \"using\", \"italy\", \"whisperer\", \"gender\", \"forced\", \"ever\", \"1970s\", \"sacked\", \"contains\", \"deadly\", \"fox\", \"restaurant\", \"arrested\", \"teen\", \"stock\", \"homeless\", \"banksy\", \"million\", \"letter\", \"open\", \"food\", \"100\", \"made\", \"parent\", \"man\", \"year\", \"hoax\", \"saudi\", \"obama\", \"news\", \"found\", \"viral\", \"hank\", \"gang\", \"bank\", \"sugarhill\", \"57\", \"priest\", \"500\", \"rapist\", \"catholic\", \"angry\", \"48\", \"meat\", \"14\", \"twin\", \"aged\", \"meant\", \"priced\", \"magneto\", \"13\", \"chemical\", \"graffiti\", \"powerful\", \"president\", \"feb\", \"redwood\", \"butcher\", \"cheating\", \"pound\", \"debut\", \"extra\", \"god\", \"big\", \"airdrop\", \"female\", \"weapon\", \"minute\", \"steel\", \"boy\", \"like\", \"died\", \"mob\", \"back\", \"dead\", \"claim\", \"rapper\", \"kurd\", \"isi\", \"woman\", \"u\", \"v\", \"batman\", \"superman\", \"batmobile\", \"snowman\", \"training\", \"detroit\", \"pilot\", \"cleric\", \"flying\", \"paul\", \"capsule\", \"dawn\", \"russian\", \"fatwa\", \"snyder\", \"zack\", \"valley\", \"durex\", \"silicon\", \"planning\", \"fly\", \"rudd\", \"oldest\", \"skipped\", \"husband\", \"ad\", \"employee\", \"unearthed\", \"homophobe\", \"stolen\", \"justice\", \"government\", \"saudi\", \"year\", \"work\", \"islamic\", \"state\", \"post\", \"spice\", \"condom\", \"pumpkin\", \"man\", \"time\", \"video\", \"set\", \"say\", \"fighter\", \"skin\", \"macbook\", \"12\", \"burrowed\", \"inch\", \"scar\", \"7\", \"tropical\", \"burrow\", \"bali\", \"mushroom\", \"chlorine\", \"buckingham\", \"palace\", \"magic\", \"hbo\", \"slap\", \"appendix\", \"gas\", \"tourist\", \"red\", \"late\", \"car\", \"retina\", \"graphic\", \"past\", \"launching\", \"officer\", \"march\", \"thinner\", \"spider\", \"born\", \"air\", \"phelps\", \"find\", \"man\", \"service\", \"month\", \"apple\", \"girlfriend\", \"day\", \"launch\", \"tv\", \"found\", \"steve\", \"job\", \"bale\", \"christian\", \"biopic\", \"seth\", \"rogen\", \"wozniak\", \"founder\", \"co\", \"upcoming\", \"island\", \"selling\", \"battery\", \"exclusive\", \"face\", \"six\", \"smartwatch\", \"mum\", \"untrue\", \"danny\", \"boyle\", \"rise\", \"aborted\", \"feminist\", \"private\", \"poop\", \"bailed\", \"swedish\", \"villa\", \"play\", \"talk\", \"movie\", \"return\", \"sale\", \"life\", \"apple\", \"love\", \"report\", \"suspected\", \"baby\", \"set\", \"abdel\", \"haines\", \"david\", \"majed\", \"bary\", \"uk\", \"killing\", \"murder\", \"paradise\", \"aid\", \"unconfirmed\", \"help\", \"record\", \"put\", \"brokaw\", \"tom\", \"gravity\", \"decrease\", \"main\", \"causing\", \"intelligence\", \"developer\", \"western\", \"investigation\", \"jan\", \"planetary\", \"alignment\", \"kobane\", \"earth\", \"senior\", \"hunt\", \"british\", \"want\", \"rapper\", \"suspect\", \"foley\", \"worker\", \"london\", \"james\", \"beheading\", \"identified\", \"hostage\", \"report\", \"2015\", \"beheaded\", \"isi\", \"fired\", \"video\", \"meteorite\", \"nicaragua\", \"house\", \"white\", \"jumper\", \"fence\", \"capital\", \"crater\", \"managua\", \"leaf\", \"nicaraguan\", \"predator\", \"meet\", \"bugatti\", \"impact\", \"farther\", \"veyron\", \"website\", \"foot\", \"eat\", \"fisherman\", \"hebdo\", \"need\", \"paint\", \"vandal\", \"flown\", \"ran\", \"floor\", \"16\", \"size\", \"secret\", \"actually\", \"drone\", \"people\", \"nasa\", \"strike\", \"going\", \"made\", \"doubt\", \"service\", \"banksy\", \"report\", \"say\", \"seven\", \"fall\", \"putin\", \"sergeant\", \"sun\", \"ticket\", \"possession\", \"vladimir\", \"kevin\", \"vickers\", \"hero\", \"soon\", \"aircraft\", \"weatherman\", \"law\", \"pooped\", \"urinating\", \"hearing\", \"motorcade\", \"tribunal\", \"abdi\", \"ahmed\", \"godane\", \"sharia\", \"52\", \"dropped\", \"matt\", \"taibbi\", \"oh\", \"metal\", \"credit\", \"saving\", \"trip\", \"arm\", \"york\", \"live\", \"bird\", \"pregnant\", \"school\", \"hand\", \"arrest\", \"age\", \"five\", \"look\", \"actor\", \"marijuana\", \"seized\", \"gun\", \"girl\", \"get\", \"parliament\", \"day\", \"found\", \"first\", \"new\", \"source\", \"head\", \"dead\", \"got\", \"comcast\", \"marine\", \"vice\", \"io\", \"sniper\", \"pay\", \"8\", \"icloud\", \"force\", \"date\", \"libya\", \"document\", \"tip\", \"bug\", \"ceo\", \"hill\", \"helmet\", \"shane\", \"apps\", \"survives\", \"pizza\", \"awakens\", \"castrate\", \"headshot\", \"teacher\", \"abrams\", \"delete\", \"saved\", \"mp\", \"300\", \"still\", \"dinner\", \"000\", \"star\", \"delivery\", \"fired\", \"sex\", \"get\", \"customer\", \"taliban\", \"war\", \"release\", \"u\", \"tiger\", \"cost\", \"pga\", \"much\", \"espn\", \"domestic\", \"idea\", \"panel\", \"probing\", \"johnson\", \"jeh\", \"entering\", \"mike\", \"seidel\", \"bosnia\", \"seen\", \"tonight\", \"suspension\", \"peeing\", \"meteorologist\", \"agent\", \"suspended\", \"heard\", \"horrific\", \"incredible\", \"herzegovina\", \"area\", \"shocker\", \"politician\", \"flame\", \"wood\", \"drug\", \"family\", \"tour\", \"camera\", \"williams\", \"brian\", \"real\", \"airdropped\", \"test\", \"jordan\", \"failed\", \"isi\", \"violence\", \"claim\", \"iraq\", \"pregnant\", \"say\", \"death\", \"pope\", \"heaven\", \"tape\", \"company\", \"colorado\", \"francis\", \"jose\", \"canseco\", \"appears\", \"quarantined\", \"fan\", \"kc\", \"creature\", \"freak\", \"per\", \"pot\", \"toy\", \"giant\", \"ebay\", \"bullet\", \"insurgent\", \"room\", \"confirm\", \"refuse\", \"eleven\", \"final\", \"volley\", \"authenticated\", \"business\", \"license\", \"occupational\", \"pet\", \"app\", \"kill\", \"accidentally\", \"good\", \"vega\", \"moment\", \"one\", \"tell\", \"report\", \"shot\", \"hoax\", \"marijuana\", \"michael\", \"audio\", \"brown\", \"killed\", \"kfc\", \"caught\", \"boy\"], \"Total\": [7149.0, 2538.0, 2266.0, 2923.0, 2075.0, 2679.0, 2765.0, 1758.0, 2188.0, 3819.0, 1649.0, 2095.0, 2095.0, 1759.0, 2755.0, 2067.0, 1975.0, 2060.0, 2561.0, 1173.0, 1173.0, 2040.0, 2618.0, 1247.0, 1596.0, 1068.0, 3762.0, 2093.0, 1543.0, 2927.0, 2095.3388671875, 2095.3388671875, 1072.765380859375, 1038.1759033203125, 586.1607055664062, 530.5911254882812, 452.1107177734375, 432.8622741699219, 295.7164611816406, 294.5560607910156, 204.31106567382812, 203.7096710205078, 201.89007568359375, 201.89007568359375, 192.1415252685547, 172.1415252685547, 170.45863342285156, 170.45863342285156, 148.034912109375, 146.66835021972656, 144.29847717285156, 134.36514282226562, 130.210693359375, 123.42436218261719, 121.14244079589844, 105.22238159179688, 105.22238159179688, 97.86653137207031, 97.7337417602539, 94.85015106201172, 2067.84521484375, 865.6310424804688, 1975.625244140625, 1185.5411376953125, 1671.656982421875, 538.9996948242188, 308.5668640136719, 2561.69287109375, 1543.6124267578125, 557.8731079101562, 352.15557861328125, 1361.8641357421875, 1009.643310546875, 780.0197143554688, 1473.138916015625, 3376.99462890625, 327.40399169921875, 271.69012451171875, 321.8669128417969, 3080.70556640625, 1720.7359619140625, 1057.5914306640625, 2538.607177734375, 1142.5946044921875, 897.6036987304688, 345.45941162109375, 340.0630187988281, 285.0592956542969, 227.61822509765625, 203.89378356933594, 125.72500610351562, 124.65882873535156, 124.65882873535156, 124.65882873535156, 99.84185028076172, 96.08656311035156, 96.08656311035156, 93.55353546142578, 93.45475769042969, 89.33470916748047, 86.32402801513672, 86.32402801513672, 77.44512939453125, 75.64603424072266, 74.53881072998047, 68.23015594482422, 65.4613265991211, 63.7700080871582, 60.9686279296875, 60.9686279296875, 60.9686279296875, 60.9686279296875, 246.58029174804688, 686.3526611328125, 2679.70654296875, 2060.388671875, 2923.73388671875, 906.3084716796875, 306.47052001953125, 2755.82080078125, 2618.787841796875, 685.3949584960938, 2927.090576171875, 1102.95458984375, 604.8208618164062, 1801.1424560546875, 1678.8848876953125, 3819.917724609375, 371.1307373046875, 7149.5537109375, 535.0512084960938, 877.1150512695312, 1022.5971069335938, 1713.841796875, 3080.70556640625, 1361.8641357421875, 886.6787109375, 805.2066040039062, 881.911376953125, 849.1635131835938, 731.9298706054688, 611.058837890625, 575.14208984375, 479.6071472167969, 479.6071472167969, 351.8990783691406, 351.8990783691406, 302.73870849609375, 253.3804473876953, 186.407958984375, 155.81301879882812, 130.35145568847656, 128.30421447753906, 125.8138656616211, 119.51876068115234, 118.4539566040039, 109.69335174560547, 99.9220199584961, 94.96116638183594, 93.59713745117188, 91.90678405761719, 90.59779357910156, 82.5958480834961, 78.4271011352539, 77.3370361328125, 72.03522491455078, 71.11431884765625, 64.58012390136719, 482.0768737792969, 535.9403686523438, 2040.2969970703125, 248.00274658203125, 803.271728515625, 947.5441284179688, 278.7547302246094, 1112.3956298828125, 1328.5350341796875, 330.8804931640625, 202.4171905517578, 7149.5537109375, 1597.572265625, 940.1329345703125, 3762.3837890625, 2093.524658203125, 528.1011352539062, 877.1150512695312, 1801.1424560546875, 3376.99462890625, 2755.82080078125, 2618.787841796875, 550.0995483398438, 3080.70556640625, 2266.386962890625, 2075.451416015625, 1759.137451171875, 1077.1614990234375, 690.1702880859375, 628.5180053710938, 455.75494384765625, 403.87310791015625, 387.3251647949219, 317.34002685546875, 209.52557373046875, 206.79025268554688, 206.67498779296875, 192.47976684570312, 144.78311157226562, 140.22325134277344, 124.93266296386719, 122.9179458618164, 119.51551818847656, 114.88423156738281, 109.25699615478516, 102.70738983154297, 88.85625457763672, 80.93473815917969, 80.6773910522461, 79.56768035888672, 75.13737487792969, 72.5761489868164, 69.27892303466797, 65.71483612060547, 361.36993408203125, 991.4086303710938, 321.881103515625, 321.881103515625, 602.0736083984375, 1421.7298583984375, 432.2882995605469, 1153.8699951171875, 1294.8714599609375, 291.59918212890625, 2093.524658203125, 417.59844970703125, 260.0675354003906, 205.15158081054688, 560.9533081054688, 1057.5914306640625, 503.9684143066406, 3762.3837890625, 552.4083862304688, 420.9604797363281, 302.1413879394531, 289.4582824707031, 265.859619140625, 235.0300750732422, 223.7591094970703, 194.65167236328125, 166.39401245117188, 162.050537109375, 153.64889526367188, 141.3983917236328, 134.52432250976562, 128.2606964111328, 121.3904037475586, 119.82559204101562, 112.75277709960938, 97.27751922607422, 95.13860321044922, 94.75101470947266, 92.88972473144531, 90.11344146728516, 90.11344146728516, 89.22085571289062, 84.55867004394531, 83.76802825927734, 79.75880432128906, 79.59516143798828, 77.54691314697266, 73.92339324951172, 2188.447998046875, 2765.156005859375, 748.59765625, 706.3416137695312, 196.73751831054688, 217.84100341796875, 380.8623962402344, 606.6830444335938, 867.0288696289062, 550.9136352539062, 225.3984375, 223.42393493652344, 935.1256713867188, 276.37677001953125, 245.3253631591797, 1678.8848876953125, 1713.841796875, 1153.8699951171875, 3762.3837890625, 570.9673461914062, 1720.7359619140625, 969.478759765625, 969.478759765625, 553.1130981445312, 535.2736206054688, 459.8236999511719, 366.6117858886719, 358.9814453125, 347.2091979980469, 331.24713134765625, 331.24713134765625, 236.86862182617188, 175.97137451171875, 156.3084716796875, 136.3701629638672, 132.14309692382812, 129.46771240234375, 334.7916564941406, 117.73368835449219, 107.08848571777344, 102.44859313964844, 99.7952651977539, 97.65667724609375, 96.68244171142578, 94.47380828857422, 88.98094177246094, 84.09709930419922, 83.92867279052734, 77.54336547851562, 77.22241973876953, 75.04105377197266, 784.1332397460938, 857.93115234375, 390.69183349609375, 315.3934631347656, 463.8724365234375, 212.67137145996094, 540.5771484375, 240.22714233398438, 653.5452270507812, 358.4824523925781, 168.75149536132812, 362.7477111816406, 397.7529296875, 365.22601318359375, 546.8363037109375, 2456.4169921875, 563.1071166992188, 803.271728515625, 2561.69287109375, 7149.5537109375, 889.715087890625, 659.0076293945312, 506.2341003417969, 385.1883850097656, 349.6009826660156, 349.45330810546875, 349.45330810546875, 314.7525939941406, 281.1438293457031, 272.8203430175781, 265.08819580078125, 233.42059326171875, 209.97264099121094, 207.5126190185547, 204.34765625, 204.20513916015625, 199.18504333496094, 165.98886108398438, 160.21035766601562, 155.55252075195312, 139.28762817382812, 124.00128936767578, 123.04926300048828, 113.1728286743164, 113.1183090209961, 108.53727722167969, 102.70003509521484, 100.8083724975586, 96.74496459960938, 96.10653686523438, 554.4661254882812, 716.9281005859375, 659.5430908203125, 718.7413330078125, 276.59735107421875, 185.2656707763672, 1473.138916015625, 1720.7359619140625, 217.99636840820312, 727.617431640625, 391.3513488769531, 1294.8714599609375, 1022.5971069335938, 2456.4169921875, 752.5023193359375, 602.7902221679688, 443.6116638183594, 379.0162353515625, 306.8572692871094, 270.6081848144531, 214.10853576660156, 200.399169921875, 180.75094604492188, 178.90679931640625, 163.37457275390625, 162.81590270996094, 159.920654296875, 152.47970581054688, 150.77883911132812, 149.33795166015625, 146.38804626464844, 140.1248016357422, 138.67950439453125, 132.7295379638672, 111.71231842041016, 100.3547592163086, 98.80802154541016, 98.12244415283203, 83.84606170654297, 83.34915161132812, 81.2713394165039, 78.61618041992188, 75.46652221679688, 73.29061889648438, 1030.671142578125, 978.5527954101562, 524.1185302734375, 139.24256896972656, 268.79644775390625, 541.075927734375, 978.829833984375, 183.40518188476562, 162.47560119628906, 273.43731689453125, 274.5393371582031, 237.83291625976562, 1597.572265625, 3819.917724609375, 319.82147216796875, 7149.5537109375, 333.04156494140625, 460.0325927734375, 1678.8848876953125, 318.023681640625, 3376.99462890625, 3080.70556640625, 328.9506530761719, 1328.5350341796875, 544.200927734375, 380.44403076171875, 311.862548828125, 281.13079833984375, 206.65728759765625, 206.65728759765625, 171.23744201660156, 158.62347412109375, 151.58697509765625, 131.79954528808594, 123.46946716308594, 123.46946716308594, 114.7991714477539, 109.9085464477539, 109.63236236572266, 104.69190216064453, 99.03565979003906, 99.03565979003906, 98.22786712646484, 98.1749038696289, 91.96900177001953, 82.12152099609375, 80.79088592529297, 78.25572967529297, 76.2279281616211, 75.46293640136719, 75.46293640136719, 75.3468017578125, 74.47576141357422, 72.68294525146484, 69.45755004882812, 490.7830810546875, 330.06719970703125, 900.6682739257812, 1596.910888671875, 814.2328491210938, 310.7770080566406, 591.1026611328125, 180.48106384277344, 3819.917724609375, 299.6778259277344, 2093.524658203125, 419.67352294921875, 437.7332763671875, 437.7332763671875, 437.7332763671875, 506.98095703125, 1112.3956298828125, 458.9569091796875, 386.5749816894531, 7149.5537109375, 2927.090576171875, 2060.388671875, 3080.70556640625, 3376.99462890625, 461.22552490234375, 1801.1424560546875, 632.6926879882812, 310.6916809082031, 266.5826110839844, 250.2504119873047, 247.1416015625, 245.56556701660156, 219.40090942382812, 197.74966430664062, 190.50787353515625, 171.92430114746094, 162.93179321289062, 162.52513122558594, 154.7664337158203, 131.95101928710938, 126.6326675415039, 126.02590942382812, 121.69334411621094, 110.40926361083984, 110.40926361083984, 109.99964904785156, 108.3918228149414, 107.3890609741211, 106.8254623413086, 102.43494415283203, 101.13179779052734, 100.73502349853516, 96.76377868652344, 92.98577880859375, 91.68962097167969, 91.08885192871094, 473.3380126953125, 446.6026916503906, 267.9040222167969, 216.4563751220703, 578.185791015625, 614.3502197265625, 660.9712524414062, 217.1326904296875, 528.572509765625, 176.64743041992188, 557.732666015625, 681.4725341796875, 544.200927734375, 2456.4169921875, 863.482177734375, 1294.8714599609375, 460.9262390136719, 521.8453979492188, 805.2066040039062, 886.6787109375, 503.9684143066406, 499.7723693847656, 499.7723693847656, 499.7723693847656, 499.7723693847656, 419.83172607421875, 412.15606689453125, 357.35845947265625, 258.03564453125, 256.19671630859375, 247.38031005859375, 239.98699951171875, 185.32077026367188, 171.47824096679688, 159.37965393066406, 157.65167236328125, 156.01841735839844, 151.74215698242188, 144.12310791015625, 122.10684204101562, 116.86585235595703, 111.51934814453125, 106.89852905273438, 106.14028930664062, 102.03009033203125, 94.0954818725586, 94.07301330566406, 89.50499725341797, 88.92012023925781, 87.59334564208984, 87.3487548828125, 690.1207275390625, 707.4946899414062, 315.9790344238281, 414.7132568359375, 729.3247680664062, 380.7687683105469, 455.856689453125, 636.4157104492188, 281.2507019042969, 378.7649230957031, 397.9228210449219, 307.4217529296875, 1421.7298583984375, 3080.70556640625, 916.8704223632812, 325.65765380859375, 7149.5537109375, 1328.5350341796875, 3819.917724609375, 384.3108825683594, 371.3919372558594, 337.3271789550781, 811.3464965820312, 275.0401916503906, 219.7199249267578, 365.1833190917969, 208.86526489257812, 205.56773376464844, 192.5043487548828, 191.31564331054688, 174.8566131591797, 171.90911865234375, 169.5163116455078, 165.70079040527344, 164.7942352294922, 164.7942352294922, 163.14488220214844, 159.51185607910156, 144.9347686767578, 130.43202209472656, 129.22055053710938, 125.34139251708984, 109.30886840820312, 108.38287353515625, 105.68627166748047, 104.93458557128906, 102.81288146972656, 96.98985290527344, 94.2677993774414, 928.53125, 190.6591339111328, 427.6775817871094, 460.9262390136719, 863.482177734375, 323.4139709472656, 2755.82080078125, 2618.787841796875, 295.90521240234375, 437.7332763671875, 437.7332763671875, 437.7332763671875, 2456.4169921875, 507.5556640625, 2927.090576171875, 454.45751953125, 3376.99462890625, 1597.572265625, 503.4847412109375, 449.74017333984375, 395.5874328613281, 380.611572265625, 342.9349365234375, 282.80010986328125, 277.73321533203125, 266.8623046875, 252.05430603027344, 239.6656494140625, 227.2111053466797, 215.75357055664062, 206.9986572265625, 206.9986572265625, 194.1260223388672, 186.72994995117188, 178.27249145507812, 177.9477996826172, 165.7273712158203, 151.3015594482422, 144.75808715820312, 138.89332580566406, 129.11297607421875, 123.96704864501953, 113.82394409179688, 109.89964294433594, 102.19293212890625, 99.33150482177734, 96.06048583984375, 93.16798400878906, 856.1634521484375, 349.2003479003906, 673.5983276367188, 298.2789611816406, 345.7734375, 2456.4169921875, 563.0156860351562, 216.6902313232422, 2765.156005859375, 546.8363037109375, 727.617431640625, 550.9136352539062, 347.9615173339844, 886.6787109375, 1758.84130859375, 1649.5802001953125, 1173.64892578125, 1173.64892578125, 637.4208984375, 464.24053955078125, 464.24053955078125, 327.1397399902344, 279.7467346191406, 220.41500854492188, 220.09400939941406, 218.85397338867188, 196.3384552001953, 194.20367431640625, 187.3367462158203, 144.40472412109375, 107.89872741699219, 105.92898559570312, 101.78186798095703, 97.78849792480469, 92.24650573730469, 92.24650573730469, 89.44336700439453, 87.17512512207031, 82.32147216796875, 73.2167739868164, 71.21005249023438, 67.6094970703125, 61.796485900878906, 61.796485900878906, 1247.053466796875, 398.221923828125, 306.0092468261719, 229.57876586914062, 138.87205505371094, 462.0802001953125, 2765.156005859375, 169.9670867919922, 3762.3837890625, 328.9506530761719, 784.1332397460938, 454.45751953125, 690.7638549804688, 390.56787109375, 352.5821228027344, 345.88092041015625, 345.88092041015625, 297.8391418457031, 223.77528381347656, 211.89797973632812, 204.5991668701172, 201.1828155517578, 193.20590209960938, 157.60247802734375, 150.4332733154297, 144.06008911132812, 132.9580535888672, 132.9580535888672, 119.29034423828125, 119.29034423828125, 115.78569793701172, 109.4706802368164, 106.22427368164062, 106.0939712524414, 103.55211639404297, 103.12824249267578, 102.41352081298828, 102.41352081298828, 102.41352081298828, 102.08709716796875, 97.75658416748047, 93.55936431884766, 220.17153930664062, 715.5870971679688, 352.01300048828125, 916.8704223632812, 357.5008239746094, 2923.73388671875, 348.9486389160156, 563.1071166992188, 2679.70654296875, 1102.95458984375, 653.5452270507812, 814.2328491210938, 3762.3837890625, 321.3281555175781, 906.3084716796875, 7149.5537109375, 511.39599609375, 2927.090576171875, 1068.2481689453125, 765.2103881835938, 607.5615844726562, 549.2642211914062, 549.2642211914062, 549.2642211914062, 426.8092346191406, 416.8747253417969, 369.84716796875, 332.6533508300781, 220.80894470214844, 217.76246643066406, 184.20486450195312, 163.88450622558594, 163.1886444091797, 142.0866241455078, 140.80026245117188, 137.81100463867188, 114.92987060546875, 102.18827056884766, 97.85985565185547, 97.7166748046875, 94.791015625, 82.70769500732422, 82.70769500732422, 81.1937484741211, 80.03898620605469, 80.03898620605469, 72.10749816894531, 69.82823181152344, 284.7322082519531, 144.74790954589844, 426.18963623046875, 289.3887634277344, 338.89752197265625, 506.98095703125, 236.2357940673828, 681.4725341796875, 294.3489074707031, 563.0156860351562, 614.3502197265625, 3762.3837890625, 3376.99462890625, 363.45758056640625, 296.619140625, 269.90673828125, 266.0355224609375, 237.7000732421875, 180.53350830078125, 165.76902770996094, 165.62098693847656, 132.80191040039062, 132.80191040039062, 131.18031311035156, 128.14036560058594, 126.78115844726562, 103.09173583984375, 87.85111999511719, 79.29255676269531, 79.00484466552734, 76.34822082519531, 76.14016723632812, 69.89043426513672, 67.29374694824219, 67.29374694824219, 67.29374694824219, 64.60956573486328, 63.42738723754883, 62.36642074584961, 61.53171157836914, 61.53171157836914, 60.111087799072266, 58.49099349975586, 66.2491226196289, 66.2491226196289, 493.0055847167969, 319.8221435546875, 240.445556640625, 291.55859375, 216.87599182128906, 612.0494384765625, 755.5673217773438, 248.42178344726562, 425.2705993652344, 125.51359558105469, 347.0297546386719, 244.64385986328125, 284.31817626953125, 433.262451171875, 140.56394958496094, 198.3291778564453, 1543.6124267578125, 765.4505615234375, 486.4996032714844, 727.617431640625, 886.6787109375, 394.7139892578125, 1720.7359619140625, 352.7623596191406, 358.7819519042969, 1421.7298583984375, 393.272216796875, 359.2690124511719, 306.9667663574219, 282.0323486328125, 230.974609375, 225.4260711669922, 213.45103454589844, 210.49534606933594, 210.49534606933594, 185.88890075683594, 182.09201049804688, 174.0858612060547, 168.439697265625, 166.98904418945312, 157.28268432617188, 154.6144561767578, 154.5612030029297, 134.69113159179688, 127.1099624633789, 126.78524017333984, 125.10857391357422, 124.06509399414062, 114.35922241210938, 108.40441131591797, 101.6669692993164, 101.49141693115234, 97.36158752441406, 87.37552642822266, 81.04789733886719, 80.75801086425781, 442.7070617675781, 236.1815643310547, 303.3704528808594, 935.1256713867188, 416.3660888671875, 170.02635192871094, 511.39599609375, 248.75833129882812, 765.4505615234375, 353.57855224609375, 360.397705078125, 659.5430908203125, 1009.643310546875, 3819.917724609375, 518.4788208007812, 237.68287658691406, 197.15606689453125, 183.78421020507812, 170.33169555664062, 170.33169555664062, 168.74346923828125, 151.21778869628906, 135.22091674804688, 132.04461669921875, 132.04461669921875, 127.46844482421875, 120.54928588867188, 120.54928588867188, 116.60586547851562, 114.02653503417969, 107.2151107788086, 105.74723815917969, 105.001953125, 104.09432220458984, 102.86229705810547, 102.4608383178711, 86.68831634521484, 80.67064666748047, 77.31780242919922, 71.93269348144531, 71.69910430908203, 68.24331665039062, 66.61846923828125, 66.61846923828125, 544.1359252929688, 213.4095458984375, 204.29922485351562, 180.83213806152344, 145.10601806640625, 285.7318115234375, 285.7318115234375, 324.10693359375, 182.78402709960938, 320.3548583984375, 236.42684936523438, 274.44012451171875, 7149.5537109375, 245.0519561767578, 3080.70556640625, 877.1150512695312, 612.0494384765625, 3376.99462890625, 991.4086303710938, 318.60223388671875, 267.5390625, 261.8946533203125, 229.65338134765625, 173.89923095703125, 160.39842224121094, 154.80715942382812, 154.80715942382812, 136.01683044433594, 134.5052490234375, 133.0401153564453, 129.1210174560547, 126.5964584350586, 119.12409210205078, 117.52508544921875, 111.52627563476562, 110.30965423583984, 102.2682876586914, 94.55255889892578, 93.63645935058594, 80.56017303466797, 78.55436706542969, 76.49857330322266, 71.3858871459961, 63.851619720458984, 63.851619720458984, 63.851619720458984, 63.220924377441406, 61.66299057006836, 61.66299057006836, 61.66299057006836, 156.8533477783203, 408.8834228515625, 323.5980224609375, 144.871826171875, 169.96954345703125, 196.94142150878906, 374.78961181640625, 372.61090087890625, 223.1873016357422, 3762.3837890625, 1473.138916015625, 1294.8714599609375, 433.262451171875, 2561.69287109375, 1975.625244140625, 2067.84521484375, 1596.910888671875, 318.023681640625, 978.829833984375, 636.4157104492188], \"loglift\": [30.0, 29.0, 28.0, 27.0, 26.0, 25.0, 24.0, 23.0, 22.0, 21.0, 20.0, 19.0, 18.0, 17.0, 16.0, 15.0, 14.0, 13.0, 12.0, 11.0, 10.0, 9.0, 8.0, 7.0, 6.0, 5.0, 4.0, 3.0, 2.0, 1.0, 2.46560001373291, 2.46560001373291, 2.465100049972534, 2.465100049972534, 2.464400053024292, 2.464200019836426, 2.463900089263916, 2.463900089263916, 2.462899923324585, 2.4628000259399414, 2.461400032043457, 2.461400032043457, 2.461400032043457, 2.461400032043457, 2.461199998855591, 2.460599899291992, 2.4605000019073486, 2.4605000019073486, 2.459700107574463, 2.4595999717712402, 2.4595000743865967, 2.4591000080108643, 2.4588000774383545, 2.458400011062622, 2.4583001136779785, 2.4570999145507812, 2.4570999145507812, 2.4565000534057617, 2.4565000534057617, 2.456199884414673, 2.3547000885009766, 2.387200117111206, 2.347899913787842, 2.3661999702453613, 2.258500099182129, 2.315200090408325, 2.3671998977661133, 2.0966999530792236, 2.148400068283081, 2.2780001163482666, 2.327699899673462, 1.9988000392913818, 2.049999952316284, 2.0738000869750977, 1.666700005531311, 1.2235000133514404, 2.1916000843048096, 2.2815001010894775, 2.1631999015808105, 0.46810001134872437, 0.7473999857902527, 1.075600028038025, 2.5710999965667725, 2.5706000328063965, 2.5703999996185303, 2.5687999725341797, 2.568700075149536, 2.56820011138916, 2.5673999786376953, 2.5669000148773193, 2.5641000270843506, 2.563999891281128, 2.563999891281128, 2.563999891281128, 2.5622000694274902, 2.561800003051758, 2.561800003051758, 2.5615999698638916, 2.5615999698638916, 2.5611000061035156, 2.560699939727783, 2.560699939727783, 2.559499979019165, 2.5592000484466553, 2.559000015258789, 2.5578999519348145, 2.557300090789795, 2.5569000244140625, 2.5562000274658203, 2.5562000274658203, 2.5562000274658203, 2.5562000274658203, 2.5541999340057373, 2.4848999977111816, 2.379499912261963, 2.3768999576568604, 2.2780001163482666, 2.329900026321411, 2.387500047683716, 2.0927000045776367, 1.9891999959945679, 2.1988000869750977, 1.9507999420166016, 1.9881999492645264, 2.1117000579833984, 1.7288000583648682, 1.7243000268936157, 1.2547999620437622, 2.0696001052856445, 0.9628000259399414, 1.881500005722046, 1.6324000358581543, 1.4859000444412231, 1.1815999746322632, 0.6699000000953674, 1.1603000164031982, 1.3960000276565552, 1.4318000078201294, 2.6331000328063965, 2.6331000328063965, 2.6328999996185303, 2.6326000690460205, 2.632499933242798, 2.632200002670288, 2.632200002670288, 2.631500005722046, 2.631500005722046, 2.63100004196167, 2.6303999423980713, 2.6291000843048096, 2.6280999183654785, 2.6268999576568604, 2.626800060272217, 2.6266000270843506, 2.626199960708618, 2.626199960708618, 2.625499963760376, 2.6247000694274902, 2.6242001056671143, 2.624000072479248, 2.623800039291382, 2.623699903488159, 2.6226999759674072, 2.621999979019165, 2.6219000816345215, 2.621000051498413, 2.620800018310547, 2.6194000244140625, 2.5306999683380127, 2.499799966812134, 2.418299913406372, 2.515899896621704, 2.2878000736236572, 2.2576000690460205, 2.4342000484466553, 2.194200038909912, 2.1389000415802, 2.3803999423980713, 2.4718000888824463, 1.6815999746322632, 1.8912999629974365, 2.018899917602539, 1.597100019454956, 1.6404000520706177, 2.039400100708008, 1.815500020980835, 1.4402999877929688, 0.941100001335144, 0.9937999844551086, 1.0183000564575195, 1.9876999855041504, 0.3456000089645386, 2.8757998943328857, 2.8757998943328857, 2.875699996948242, 2.8754000663757324, 2.8749001026153564, 2.8747000694274902, 2.8742001056671143, 2.8738999366760254, 2.873800039291382, 2.873199939727783, 2.8717000484466553, 2.8715999126434326, 2.8715999126434326, 2.871299982070923, 2.8696999549865723, 2.8694000244140625, 2.8685998916625977, 2.868499994277954, 2.868299961090088, 2.8678998947143555, 2.867500066757202, 2.867000102996826, 2.865499973297119, 2.8643999099731445, 2.8643999099731445, 2.8642001152038574, 2.8635001182556152, 2.863100051879883, 2.8624000549316406, 2.8617000579833984, 2.827699899673462, 2.734299898147583, 2.741300106048584, 2.741300106048584, 2.6422998905181885, 2.11080002784729, 2.4005000591278076, 1.985700011253357, 1.7522000074386597, 2.400399923324585, 1.3314000368118286, 2.099600076675415, 2.373699903488159, 2.529099941253662, 1.8003000020980835, 1.1706000566482544, 1.7888000011444092, 0.00930000003427267, 2.928100109100342, 2.9275999069213867, 2.9267001152038574, 2.926500082015991, 2.9261999130249023, 2.925800085067749, 2.925600051879883, 2.9249000549316406, 2.924099922180176, 2.9238998889923096, 2.9235999584198, 2.923099994659424, 2.9226999282836914, 2.9223999977111816, 2.9219000339508057, 2.921799898147583, 2.921299934387207, 2.9200000762939453, 2.9196999073028564, 2.9196999073028564, 2.9195001125335693, 2.9191999435424805, 2.9191999435424805, 2.919100046157837, 2.9184999465942383, 2.9184000492095947, 2.917799949645996, 2.917799949645996, 2.9173998832702637, 2.916800022125244, 2.8164000511169434, 2.553299903869629, 2.6689000129699707, 2.6442999839782715, 2.7734999656677246, 2.740799903869629, 2.6198999881744385, 2.4070000648498535, 2.275599956512451, 2.375699996948242, 2.6454999446868896, 2.646199941635132, 2.1312999725341797, 2.510200023651123, 2.5557000637054443, 1.514799952507019, 1.4768999814987183, 1.6301000118255615, 0.8924999833106995, 1.9557000398635864, 0.9805999994277954, 2.940000057220459, 2.940000057220459, 2.939199924468994, 2.939199924468994, 2.9388999938964844, 2.9382998943328857, 2.9382998943328857, 2.938199996948242, 2.9381000995635986, 2.9381000995635986, 2.9368999004364014, 2.935499906539917, 2.934799909591675, 2.9339001178741455, 2.9337000846862793, 2.9335999488830566, 2.933199882507324, 2.932800054550171, 2.931999921798706, 2.9316000938415527, 2.931299924850464, 2.9310998916625977, 2.930999994277954, 2.930799961090088, 2.9302000999450684, 2.929500102996826, 2.929500102996826, 2.9286000728607178, 2.928499937057495, 2.9282000064849854, 2.7672998905181885, 2.7262001037597656, 2.7509000301361084, 2.762200117111206, 2.6494998931884766, 2.7785000801086426, 2.604300022125244, 2.7504000663757324, 2.52239990234375, 2.624000072479248, 2.796600103378296, 2.5673999786376953, 2.515399932861328, 2.5099000930786133, 2.2026000022888184, 1.4362000226974487, 2.1110999584198, 1.7086000442504883, 0.7980999946594238, -0.04600000008940697, 2.9477999210357666, 2.9474000930786133, 2.947000026702881, 2.9463999271392822, 2.946199893951416, 2.946199893951416, 2.946199893951416, 2.9458999633789062, 2.945499897003174, 2.9453999996185303, 2.9453001022338867, 2.9447999000549316, 2.9442999362945557, 2.9442999362945557, 2.944200038909912, 2.944200038909912, 2.9440999031066895, 2.9430999755859375, 2.9428999423980713, 2.942699909210205, 2.941999912261963, 2.941200017929077, 2.9410998821258545, 2.9403998851776123, 2.9403998851776123, 2.9400999546051025, 2.9395999908447266, 2.9393999576568604, 2.938999891281128, 2.9388999938964844, 2.8329999446868896, 2.6875, 2.5387001037597656, 2.364000082015991, 2.6350998878479004, 2.6826000213623047, 1.534999966621399, 1.385200023651123, 2.5439000129699707, 1.6735999584197998, 2.0917000770568848, 0.9271000027656555, 1.103600025177002, 0.22550000250339508, 2.951900005340576, 2.9516000747680664, 2.9511001110076904, 2.950700044631958, 2.9500999450683594, 2.949700117111206, 2.9488000869750977, 2.9484000205993652, 2.9479000568389893, 2.9479000568389893, 2.9474000930786133, 2.9474000930786133, 2.947200059890747, 2.947000026702881, 2.946899890899658, 2.9467999935150146, 2.946700096130371, 2.9463999271392822, 2.9463000297546387, 2.946000099182129, 2.944700002670288, 2.943700075149536, 2.94350004196167, 2.94350004196167, 2.941800117492676, 2.941699981689453, 2.941499948501587, 2.9410998821258545, 2.940500020980835, 2.940200090408325, 2.9031999111175537, 2.788800001144409, 2.793100118637085, 2.8956000804901123, 2.7797000408172607, 2.671099901199341, 2.5139999389648438, 2.8299999237060547, 2.8115999698638916, 2.661900043487549, 2.643899917602539, 2.6631999015808105, 1.7467999458312988, 1.2324999570846558, 2.5048000812530518, 0.79830002784729, 2.480799913406372, 2.25570011138916, 1.3458000421524048, 2.4244000911712646, 0.6080999970436096, 0.6488999724388123, 2.3977999687194824, 1.2135000228881836, 1.9088000059127808, 2.98580002784729, 2.985300064086914, 2.984999895095825, 2.9837000370025635, 2.9837000370025635, 2.982800006866455, 2.982300043106079, 2.982100009918213, 2.981100082397461, 2.980600118637085, 2.980600118637085, 2.9800000190734863, 2.9797000885009766, 2.979599952697754, 2.9791998863220215, 2.9786999225616455, 2.9786999225616455, 2.978600025177002, 2.978600025177002, 2.9779999256134033, 2.9767000675201416, 2.9765000343322754, 2.976099967956543, 2.975800037384033, 2.9756999015808105, 2.9756999015808105, 2.9756999015808105, 2.9755001068115234, 2.9751999378204346, 2.974600076675415, 2.911799907684326, 2.8789000511169434, 2.766400098800659, 2.703399896621704, 2.634700059890747, 2.77620005607605, 2.6328999996185303, 2.784600019454956, 2.081700086593628, 2.663300037384033, 1.9884999990463257, 2.4814999103546143, 2.399600028991699, 2.399600028991699, 2.399600028991699, 2.338399887084961, 1.9531999826431274, 2.287100076675415, 2.3478000164031982, 0.5857999920845032, 0.9545999765396118, 1.1049000024795532, 0.801800012588501, 0.5109000205993652, 2.0806000232696533, 0.9032999873161316, 2.9872000217437744, 2.985599994659424, 2.985100030899048, 2.9848999977111816, 2.984800100326538, 2.984800100326538, 2.984299898147583, 2.9839000701904297, 2.9837000370025635, 2.983099937438965, 2.982800006866455, 2.982800006866455, 2.9825000762939453, 2.9814999103546143, 2.981100082397461, 2.981100082397461, 2.980799913406372, 2.9800000190734863, 2.9800000190734863, 2.9800000190734863, 2.9798998832702637, 2.97979998588562, 2.9797000885009766, 2.9793999195098877, 2.9791998863220215, 2.9791998863220215, 2.978800058364868, 2.9783999919891357, 2.978300094604492, 2.9781999588012695, 2.7744998931884766, 2.7399001121520996, 2.815000057220459, 2.847599983215332, 2.6005001068115234, 2.5801000595092773, 2.539599895477295, 2.779099941253662, 2.4872000217437744, 2.823899984359741, 2.341099977493286, 2.1094000339508057, 2.0683000087738037, 1.1603000164031982, 1.7430000305175781, 1.4228999614715576, 2.0803000926971436, 1.9285999536514282, 1.4996999502182007, 1.4055999517440796, 1.878999948501587, 3.049999952316284, 3.049999952316284, 3.049999952316284, 3.049999952316284, 3.0495998859405518, 3.049499988555908, 3.0492000579833984, 3.0481998920440674, 3.048099994659424, 3.0480000972747803, 3.0478999614715576, 3.0467000007629395, 3.046299934387207, 3.0459001064300537, 3.045799970626831, 3.0457000732421875, 3.045599937438965, 3.0452001094818115, 3.0439999103546143, 3.0436999797821045, 3.043299913406372, 3.0429000854492188, 3.042799949645996, 3.0425000190734863, 3.0416998863220215, 3.0416998863220215, 3.041100025177002, 3.041100025177002, 3.0408999919891357, 3.0408999919891357, 2.932800054550171, 2.8998000621795654, 2.944200038909912, 2.853100061416626, 2.769399881362915, 2.829400062561035, 2.776099920272827, 2.7144999504089355, 2.848599910736084, 2.742300033569336, 2.6691999435424805, 2.5973000526428223, 1.840399980545044, 1.3720999956130981, 1.9768999814987183, 2.4955999851226807, 0.05260000005364418, 1.344099998474121, 0.13950000703334808, 3.0796000957489014, 3.0794999599456787, 3.0792999267578125, 3.079200029373169, 3.0785999298095703, 3.077699899673462, 3.077500104904175, 3.077500104904175, 3.077399969100952, 3.0771000385284424, 3.0771000385284424, 3.0766000747680664, 3.0764999389648438, 3.0764000415802, 3.0762999057769775, 3.076200008392334, 3.076200008392334, 3.076200008392334, 3.0761001110076904, 3.075500011444092, 3.074700117111206, 3.074700117111206, 3.074399948120117, 3.0732998847961426, 3.073199987411499, 3.072999954223633, 3.072999954223633, 3.0727999210357666, 3.072200059890747, 3.071899890899658, 2.8928000926971436, 2.9730000495910645, 2.673099994659424, 2.5625998973846436, 2.225100040435791, 2.5418999195098877, 1.4012999534606934, 1.2624000310897827, 2.531899929046631, 2.267699956893921, 2.267699956893921, 2.267699956893921, 0.8597000241279602, 2.1201999187469482, 0.621999979019165, 2.1942999362945557, 0.42329999804496765, 0.9926000237464905, 3.095599889755249, 3.0952999591827393, 3.0950000286102295, 3.094899892807007, 3.0947000980377197, 3.094099998474121, 3.0940001010894775, 3.093899965286255, 3.0936999320983887, 3.0934998989105225, 3.0931999683380127, 3.0929999351501465, 3.0927999019622803, 3.0927999019622803, 3.0924999713897705, 3.0922999382019043, 3.092099905014038, 3.092099905014038, 3.0917000770568848, 3.091099977493286, 3.09089994430542, 3.09060001373291, 3.0899999141693115, 3.0896999835968018, 3.0889999866485596, 3.08870005607605, 3.088099956512451, 3.0878000259399414, 3.0875000953674316, 3.0871999263763428, 3.0071001052856445, 2.9886999130249023, 2.811500072479248, 2.8691999912261963, 2.7500998973846436, 1.802899956703186, 2.4033000469207764, 2.822499990463257, 1.4005999565124512, 2.3032000064849854, 2.069000005722046, 2.238800048828125, 2.408400058746338, 1.4875999689102173, 3.194499969482422, 3.194499969482422, 3.1942999362945557, 3.1942999362945557, 3.1935999393463135, 3.193000078201294, 3.193000078201294, 3.192199945449829, 3.191699981689453, 3.1907999515533447, 3.1907999515533447, 3.190700054168701, 3.190200090408325, 3.190200090408325, 3.190000057220459, 3.188499927520752, 3.186199903488159, 3.1861000061035156, 3.185699939727783, 3.18530011177063, 3.1847000122070312, 3.1847000122070312, 3.1844000816345215, 3.1840999126434326, 3.183500051498413, 3.181999921798706, 3.1816000938415527, 3.1809000968933105, 3.1796000003814697, 3.1796000003814697, 3.030900001525879, 3.0494000911712646, 2.985300064086914, 2.9530999660491943, 3.0146000385284424, 2.3752999305725098, 1.028499960899353, 2.7458999156951904, 0.3644999861717224, 2.1403000354766846, 1.3516000509262085, 1.7773000001907349, 3.203000068664551, 3.2019999027252197, 3.20169997215271, 3.20169997215271, 3.20169997215271, 3.201200008392334, 3.200200080871582, 3.199899911880493, 3.1998000144958496, 3.199700117111206, 3.19950008392334, 3.1984000205993652, 3.1981000900268555, 3.1977999210357666, 3.1972999572753906, 3.1972999572753906, 3.196500062942505, 3.196500062942505, 3.196199893951416, 3.19569993019104, 3.195499897003174, 3.195499897003174, 3.195199966430664, 3.195199966430664, 3.1951000690460205, 3.1951000690460205, 3.1951000690460205, 3.1951000690460205, 3.194700002670288, 3.1942999362945557, 3.0889999866485596, 2.9240000247955322, 2.9781999588012695, 2.785399913787842, 2.948699951171875, 1.833899974822998, 2.6489999294281006, 2.4203999042510986, 1.4574999809265137, 1.9198999404907227, 2.127500057220459, 1.9895000457763672, 0.7749000191688538, 2.4923999309539795, 1.6608999967575073, -0.02319999970495701, 2.069700002670288, 0.2304999977350235, 3.2102999687194824, 3.20989990234375, 3.2095999717712402, 3.209399938583374, 3.209399938583374, 3.209399938583374, 3.208899974822998, 3.208899974822998, 3.2086000442504883, 3.2083001136779785, 3.2067999839782715, 3.2067999839782715, 3.2060000896453857, 3.2053000926971436, 3.2053000926971436, 3.204400062561035, 3.204400062561035, 3.204200029373169, 3.2028000354766846, 3.2018001079559326, 3.2014000415802, 3.2014000415802, 3.2011001110076904, 3.1995999813079834, 3.1995999813079834, 3.199399948120117, 3.199199914932251, 3.199199914932251, 3.1979000568389893, 3.1974000930786133, 3.151700019836426, 2.9958999156951904, 2.6793999671936035, 2.7815001010894775, 2.661600112915039, 2.469099998474121, 2.7604000568389893, 2.274600028991699, 2.6463000774383545, 2.184299945831299, 1.8476999998092651, 0.3652999997138977, 0.296999990940094, 3.210599899291992, 3.2100000381469727, 3.209700107574463, 3.2095999717712402, 3.209199905395508, 3.207900047302246, 3.20740008354187, 3.20740008354187, 3.2060000896453857, 3.2060000896453857, 3.205899953842163, 3.205699920654297, 3.205699920654297, 3.203900098800659, 3.2023000717163086, 3.2011001110076904, 3.2011001110076904, 3.2005999088287354, 3.2005999088287354, 3.19950008392334, 3.198899984359741, 3.198899984359741, 3.198899984359741, 3.1982998847961426, 3.1981000900268555, 3.1977999210357666, 3.1975998878479004, 3.1975998878479004, 3.197200059890747, 3.1967999935150146, 3.196199893951416, 3.196199893951416, 3.1398000717163086, 3.119999885559082, 3.1075000762939453, 3.0920000076293945, 3.0999999046325684, 2.9737000465393066, 2.919100046157837, 3.0208001136779785, 2.8857998847961426, 3.093100070953369, 2.910799980163574, 2.942699909210205, 2.8824000358581543, 2.7706000804901123, 3.0371999740600586, 2.867000102996826, 1.9093999862670898, 2.188699960708618, 2.416300058364868, 2.196899890899658, 1.9586000442504883, 2.4674999713897705, 1.4488999843597412, 2.495500087738037, 2.341599941253662, 1.011299967765808, 3.2985000610351562, 3.2981998920440674, 3.297800064086914, 3.297499895095825, 3.296799898147583, 3.2967000007629395, 3.2964000701904297, 3.2964000701904297, 3.2964000701904297, 3.295799970626831, 3.2957000732421875, 3.2953999042510986, 3.2952001094818115, 3.2952001094818115, 3.294800043106079, 3.2946999073028564, 3.2946999073028564, 3.293800115585327, 3.2934000492095947, 3.2934000492095947, 3.293299913406372, 3.2932000160217285, 3.2925000190734863, 3.292099952697754, 3.2915000915527344, 3.2915000915527344, 3.291100025177002, 3.289900064468384, 3.289099931716919, 3.2890000343322754, 3.1745998859405518, 3.213099956512451, 3.126499891281128, 2.626499891281128, 2.7964000701904297, 3.103100061416626, 2.629300117492676, 2.8975000381469727, 2.2874999046325684, 2.6761999130249023, 2.612600088119507, 2.2076001167297363, 1.638700008392334, 0.2312999963760376, 3.4303998947143555, 3.428299903869629, 3.4274001121520996, 3.4270999431610107, 3.4267001152038574, 3.4267001152038574, 3.4265999794006348, 3.4260001182556152, 3.4251999855041504, 3.425100088119507, 3.425100088119507, 3.424799919128418, 3.4242000579833984, 3.4242000579833984, 3.424099922180176, 3.4238998889923096, 3.4233999252319336, 3.42330002784729, 3.4231998920440674, 3.423099994659424, 3.4230000972747803, 3.4230000972747803, 3.421299934387207, 3.4205000400543213, 3.4200000762939453, 3.4189999103546143, 3.4189999103546143, 3.418299913406372, 3.4179999828338623, 3.4179999828338623, 3.3452000617980957, 3.214600086212158, 3.2086000442504883, 3.1774001121520996, 3.1946001052856445, 2.9700000286102295, 2.9700000286102295, 2.9010000228881836, 3.1080000400543213, 2.8689000606536865, 2.978300094604492, 2.8405001163482666, 0.5882999897003174, 2.8264999389648438, 0.7113000154495239, 1.642799973487854, 1.8789000511169434, 0.2443999946117401, 1.402899980545044, 3.5215001106262207, 3.5209999084472656, 3.520900011062622, 3.520400047302246, 3.5190000534057617, 3.5185999870300293, 3.518399953842163, 3.518399953842163, 3.5174999237060547, 3.5174999237060547, 3.517400026321411, 3.517199993133545, 3.5169999599456787, 3.5164999961853027, 3.516400098800659, 3.5160000324249268, 3.515899896621704, 3.515199899673462, 3.5144999027252197, 3.514400005340576, 3.512700080871582, 3.512399911880493, 3.5120999813079834, 3.511199951171875, 3.5095999240875244, 3.5095999240875244, 3.5095999240875244, 3.509500026702881, 3.5090999603271484, 3.5090999603271484, 3.5090999603271484, 3.4072999954223633, 3.2785000801086426, 3.2156999111175537, 3.2946999073028564, 3.228800058364868, 3.1098999977111816, 2.8526999950408936, 2.797800064086914, 3.0206000804901123, 1.4144999980926514, 1.88919997215271, 1.9365999698638916, 2.4904000759124756, 1.2026000022888184, 1.325600028038025, 1.2697999477386475, 1.4449000358581543, 2.627700090408325, 1.5901999473571777, 1.9348000288009644], \"logprob\": [30.0, 29.0, 28.0, 27.0, 26.0, 25.0, 24.0, 23.0, 22.0, 21.0, 20.0, 19.0, 18.0, 17.0, 16.0, 15.0, 14.0, 13.0, 12.0, 11.0, 10.0, 9.0, 8.0, 7.0, 6.0, 5.0, 4.0, 3.0, 2.0, 1.0, -2.8547000885009766, -2.8547000885009766, -3.524600028991699, -3.5573999881744385, -4.129700183868408, -4.229499816894531, -4.389800071716309, -4.4334001541137695, -4.815400123596191, -4.819399833679199, -5.186600208282471, -5.189599990844727, -5.198599815368652, -5.198599815368652, -5.248300075531006, -5.358799934387207, -5.36870002746582, -5.36870002746582, -5.5106000900268555, -5.519899845123291, -5.536300182342529, -5.608099937438965, -5.639699935913086, -5.693600177764893, -5.712399959564209, -5.854499816894531, -5.854499816894531, -5.927599906921387, -5.928999900817871, -5.959199905395508, -2.9786999225616455, -3.8171000480651855, -3.031100034713745, -3.5234999656677246, -3.2876999378204346, -4.362800121307373, -4.868599891662598, -3.022599935531616, -3.477400064468384, -4.365600109100342, -4.775899887084961, -3.7523000240325928, -4.00029993057251, -4.234499931335449, -4.005799770355225, -3.619499921798706, -4.984899997711182, -5.081500053405762, -5.030399799346924, -4.466700077056885, -4.769800186157227, -4.928299903869629, -2.5571999549865723, -3.3559999465942383, -3.597599983215332, -4.553999900817871, -4.569799900054932, -4.746799945831299, -4.972599983215332, -5.083199977874756, -5.569499969482422, -5.578100204467773, -5.578100204467773, -5.578100204467773, -5.8018999099731445, -5.84060001373291, -5.84060001373291, -5.867599964141846, -5.86870002746582, -5.9141998291015625, -5.94890022277832, -5.94890022277832, -6.058599948883057, -6.082399845123291, -6.097400188446045, -6.186999797821045, -6.229000091552734, -6.255499839782715, -6.30109977722168, -6.30109977722168, -6.30109977722168, -6.30109977722168, -4.905799865722656, -3.9514000415802, -2.694700002670288, -2.960099935531616, -2.7090001106262207, -3.828399896621704, -4.855000019073486, -2.9535000324249268, -3.1080000400543213, -4.238900184631348, -3.035099983215332, -3.9737000465393066, -4.451099872589111, -3.7427000999450684, -3.817500114440918, -3.464900016784668, -4.981500148773193, -3.1301000118255615, -4.803800106048584, -4.558700084686279, -4.551700115203857, -4.339600086212158, -4.264800071716309, -4.590799808502197, -4.784200191497803, -4.844799995422363, -3.552500009536743, -3.590399980545044, -3.7390999794006348, -3.9198999404907227, -3.980600118637085, -4.162499904632568, -4.162499904632568, -4.472899913787842, -4.472899913787842, -4.623799800872803, -4.8024001121521, -5.1107001304626465, -5.290999889373779, -5.470600128173828, -5.486499786376953, -5.50629997253418, -5.558000087738037, -5.566999912261963, -5.644499778747559, -5.738699913024902, -5.79010009765625, -5.804699897766113, -5.8231000900268555, -5.837600231170654, -5.931099891662598, -5.983500003814697, -5.997700214385986, -6.0696001052856445, -6.082600116729736, -6.1803998947143555, -4.258900165557861, -4.183800220489502, -2.9286000728607178, -4.938300132751465, -3.9911999702453613, -3.8561999797821045, -4.903200149536133, -3.7592999935150146, -3.63700008392334, -4.785600185394287, -5.1855998039245605, -2.41129994392395, -3.700200080871582, -4.102799892425537, -3.1377999782562256, -3.6807000637054443, -4.658999919891357, -4.375500202178955, -4.031199932098389, -3.901900053024292, -4.052499771118164, -4.07889986038208, -4.669899940490723, -4.589200019836426, -2.3659000396728516, -2.4539999961853027, -2.6194000244140625, -3.110300064086914, -3.5559000968933105, -3.649600028991699, -3.97160005569458, -4.092700004577637, -4.1346001625061035, -4.334499835968018, -4.751200199127197, -4.764400005340576, -4.764900207519531, -4.836400032043457, -5.122799873352051, -5.15500020980835, -5.271299839019775, -5.287700176239014, -5.315999984741211, -5.355800151824951, -5.406499862670898, -5.468900203704834, -5.615200042724609, -5.70959997177124, -5.712900161743164, -5.726900100708008, -5.784900188446045, -5.820000171661377, -5.867099761962891, -5.9207000732421875, -4.250100135803223, -3.3343000411987305, -4.452199935913086, -4.452199935913086, -3.924999952316284, -3.5973000526428223, -4.4980998039245605, -3.9310998916625977, -4.049300193786621, -4.891900062561035, -3.9897000789642334, -4.833600044250488, -5.033100128173828, -5.1149001121521, -4.837800025939941, -4.833399772644043, -4.956299781799316, -4.725599765777588, -3.7253000736236572, -3.9976000785827637, -4.330100059509277, -4.373199939727783, -4.458499908447266, -4.582200050354004, -4.6315999031066895, -4.771599769592285, -4.929299831390381, -4.955900192260742, -5.009399890899658, -5.093100070953369, -5.143199920654297, -5.191299915313721, -5.246799945831299, -5.259799957275391, -5.321199893951416, -5.470200061798096, -5.492599964141846, -5.496799945831299, -5.5167999267578125, -5.547500133514404, -5.547500133514404, -5.557499885559082, -5.611800193786621, -5.621300220489502, -5.670899868011475, -5.672999858856201, -5.699399948120117, -5.747900009155273, -2.4602999687194824, -2.4895999431610107, -3.6807000637054443, -3.7632999420166016, -4.912300109863281, -4.843100070953369, -4.405300140380859, -4.152699947357178, -3.927000045776367, -4.280399799346924, -4.904399871826172, -4.912399768829346, -3.995699882507324, -4.835700035095215, -4.90939998626709, -4.0269999504089355, -4.044300079345703, -4.286799907684326, -3.842400074005127, -4.664700031280518, -4.536600112915039, -3.1510000228881836, -3.1510000228881836, -3.712899923324585, -3.745800018310547, -3.8980000019073486, -4.125100135803223, -4.146100044250488, -4.179599761962891, -4.226799964904785, -4.226799964904785, -4.563300132751465, -4.8618998527526855, -4.980999946594238, -5.1184000968933105, -5.150100231170654, -5.1707000732421875, -4.2210001945495605, -5.266499996185303, -5.362100124359131, -5.406799793243408, -5.433199882507324, -5.455100059509277, -5.465199947357178, -5.48859977722168, -5.549099922180176, -5.606200218200684, -5.6082000732421875, -5.688300132751465, -5.692500114440918, -5.721499919891357, -3.535900115966797, -3.486999988555908, -4.248899936676025, -4.451700210571289, -4.178599834442139, -4.829400062561035, -4.070700168609619, -4.735799789428711, -3.962899923324585, -4.461900234222412, -5.042699813842773, -4.5065999031066895, -4.4664998054504395, -4.557300090789795, -4.460899829864502, -3.7249999046325684, -4.523200035095215, -4.570400238037109, -4.321100234985352, -4.138899803161621, -3.2290000915527344, -3.5295000076293945, -3.7936999797821045, -4.067599773406982, -4.16480016708374, -4.165200233459473, -4.165200233459473, -4.270100116729736, -4.383399963378906, -4.41349983215332, -4.442399978637695, -4.570099830627441, -4.676400184631348, -4.688199996948242, -4.703700065612793, -4.704400062561035, -4.729400157928467, -4.912700176239014, -4.948299884796143, -4.978000164031982, -5.089099884033203, -5.206200122833252, -5.214000225067139, -5.298399925231934, -5.298799991607666, -5.3404998779296875, -5.396299839019775, -5.41510009765625, -5.456600189208984, -5.4633002281188965, -3.816699981689453, -3.7053000926971436, -3.9375, -4.026199817657471, -4.710000038146973, -5.063300132751465, -4.137499809265137, -4.131999969482422, -5.039400100708008, -4.704400062561035, -4.906400203704834, -4.874499797821045, -4.934000015258789, -4.935699939727783, -3.392400026321411, -3.614500045776367, -3.9217000007629395, -4.079400062561035, -4.291200160980225, -4.417399883270264, -4.652500152587891, -4.718900203704834, -4.822700023651123, -4.833000183105469, -4.924300193786621, -4.927700042724609, -4.945799827575684, -4.99370002746582, -5.005000114440918, -5.014699935913086, -5.034800052642822, -5.078800201416016, -5.089200019836426, -5.133399963378906, -5.30709981918335, -5.415299892425537, -5.431000232696533, -5.438000202178955, -5.59689998626709, -5.60290002822876, -5.628499984741211, -5.662099838256836, -5.703499794006348, -5.733099937438965, -3.1266000270843506, -3.292799949645996, -3.912899971008301, -5.135900020599365, -4.593999862670898, -4.0030999183654785, -3.5673999786376953, -4.926000118255615, -5.065499782562256, -4.694699764251709, -4.708700180053711, -4.833000183105469, -3.8447000980377197, -3.4872000217437744, -4.695099830627441, -3.294600009918213, -4.678599834442139, -4.580699920654297, -4.196000099182129, -4.781199932098389, -4.234899997711182, -4.285900115966797, -4.77400016784668, -4.562399864196777, -4.7596001625061035, -4.040500164031982, -4.2399001121521, -4.343900203704834, -4.652900218963623, -4.652900218963623, -4.841899871826172, -4.918799877166748, -4.9644999504089355, -5.105299949645996, -5.17110013961792, -5.17110013961792, -5.244500160217285, -5.288400173187256, -5.290900230407715, -5.337399959564209, -5.393499851226807, -5.393499851226807, -5.401800155639648, -5.402299880981445, -5.468299865722656, -5.582799911499023, -5.599299907684326, -5.6315999031066895, -5.658199787139893, -5.668399810791016, -5.668399810791016, -5.669899940490723, -5.681700229644775, -5.706399917602539, -5.752399921417236, -3.8598999977111816, -4.2895002365112305, -3.398099899291992, -2.8884999752044678, -3.63070011138916, -4.452400207519531, -3.9528000354766846, -4.987500190734863, -2.638000011444092, -4.6016998291015625, -3.3326001167297363, -4.446700096130371, -4.486499786376953, -4.486499786376953, -4.486499786376953, -4.4008002281188965, -4.00029993057251, -4.551700115203857, -4.662600040435791, -3.5071001052856445, -4.031400203704834, -4.232100009918213, -4.132900238037109, -4.331999778747559, -4.753200054168701, -4.56820011138916, -3.5304999351501465, -4.243299961090088, -4.396900177001953, -4.460400104522705, -4.472899913787842, -4.479300022125244, -4.59250020980835, -4.696800231933594, -4.734300136566162, -4.837500095367432, -4.891499996185303, -4.894100189208984, -4.943299770355225, -5.103799819946289, -5.145299911499023, -5.150100231170654, -5.185400009155273, -5.2835001945495605, -5.2835001945495605, -5.287199974060059, -5.30210018157959, -5.311500072479248, -5.316800117492676, -5.359099864959717, -5.372000217437744, -5.375999927520752, -5.416600227355957, -5.456900119781494, -5.4710001945495605, -5.477700233459473, -4.033400058746338, -4.126100063323975, -4.562099933624268, -4.742700099945068, -4.007299900054932, -3.9670000076293945, -3.9344000816345215, -4.80810022354126, -4.210299968719482, -4.969600200653076, -4.302700042724609, -4.334099769592285, -4.600100040435791, -4.000899791717529, -4.463699817657471, -4.378699779510498, -4.7540998458862305, -4.781700134277344, -4.776899814605713, -4.774600028991699, -4.866199970245361, -3.7035999298095703, -3.7035999298095703, -3.7035999298095703, -3.7035999298095703, -3.8782999515533447, -3.8968000411987305, -4.03980016708374, -4.366399765014648, -4.373600006103516, -4.40880012512207, -4.439199924468994, -4.69890022277832, -4.7769999504089355, -4.850599765777588, -4.861499786376953, -4.872000217437744, -4.900000095367432, -4.9517998695373535, -5.118800163269043, -5.163000106811523, -5.21019983291626, -5.252900123596191, -5.2600998878479, -5.300000190734863, -5.381700038909912, -5.381999969482422, -5.432300090789795, -5.438899993896484, -5.454100131988525, -5.456900119781494, -3.497999906539917, -3.506200075149536, -4.267899990081787, -4.087100028991699, -3.6061999797821045, -4.196100234985352, -4.069499969482422, -3.7973999977111816, -4.479800224304199, -4.28849983215332, -4.312300205230713, -4.642199993133545, -3.8677000999450684, -3.562700033187866, -4.169899940490723, -4.686299800872803, -4.040299892425537, -4.43179988861084, -4.5802001953125, -3.9365999698638916, -3.970900058746338, -4.067399978637695, -3.1898000240325928, -4.272200107574463, -4.497600078582764, -3.989799976348877, -4.548500061035156, -4.564499855041504, -4.630499839782715, -4.63670015335083, -4.727099895477295, -4.744200229644775, -4.758299827575684, -4.781199932098389, -4.786799907684326, -4.786799907684326, -4.796800136566162, -4.819499969482422, -4.915900230407715, -5.02209997177124, -5.031499862670898, -5.06220006942749, -5.200200080871582, -5.208799839019775, -5.2342000007629395, -5.241399765014648, -5.26200008392334, -5.320899963378906, -5.349599838256836, -3.241300106048584, -4.744200229644775, -4.236199855804443, -4.2718000411987305, -3.981600046157837, -4.6468000411987305, -3.64490008354187, -3.8348000049591064, -4.745699882507324, -4.6184000968933105, -4.6184000968933105, -4.6184000968933105, -4.301499843597412, -4.6178998947143555, -4.363900184631348, -4.654300212860107, -4.4197001457214355, -4.598899841308594, -3.650599956512451, -3.763700008392334, -3.8922998905181885, -3.930999994277954, -4.0355000495910645, -4.228899955749512, -4.247000217437744, -4.287099838256836, -4.344399929046631, -4.394999980926514, -4.448599815368652, -4.500500202178955, -4.542200088500977, -4.542200088500977, -4.6066999435424805, -4.645699977874756, -4.692299842834473, -4.6940999031066895, -4.765699863433838, -4.8572998046875, -4.901800155639648, -4.943399906158447, -5.017000198364258, -5.058000087738037, -5.144000053405762, -5.1793999671936035, -5.252799987792969, -5.281400203704834, -5.315199851989746, -5.346099853515625, -3.2081000804901123, -4.1234002113342285, -3.6435000896453857, -4.400400161743164, -4.371799945831299, -3.358299970626831, -4.231100082397461, -4.76669979095459, -3.642199993133545, -4.360300064086914, -4.308899879455566, -4.417300224304199, -4.707200050354004, -4.692599773406982, -2.300800085067749, -2.3649001121520996, -2.7056000232696533, -2.7056000232696533, -3.316699981689453, -3.6342999935150146, -3.6342999935150146, -3.985100030899048, -4.142099857330322, -4.381400108337402, -4.382900238037109, -4.388599872589111, -4.497600078582764, -4.508600234985352, -4.5447998046875, -4.806600093841553, -5.100299835205078, -5.118899822235107, -5.159200191497803, -5.1996002197265625, -5.258500099182129, -5.258500099182129, -5.289700031280518, -5.315700054168701, -5.373600006103516, -5.492300033569336, -5.520400047302246, -5.572999954223633, -5.664299964904785, -5.664299964904785, -2.808199882507324, -3.931299924850464, -4.258800029754639, -4.578400135040283, -5.019499778747559, -4.456699848175049, -4.014400005340576, -5.08620023727417, -4.3703999519348145, -5.031499862670898, -4.951499938964844, -5.071300029754639, -3.226900100708008, -3.798099994659424, -3.900700092315674, -3.9198999404907227, -3.9198999404907227, -4.069900035858154, -4.356900215148926, -4.4116997718811035, -4.446899890899658, -4.463799953460693, -4.50439977645874, -4.709199905395508, -4.756100177764893, -4.799600124359131, -4.88040018081665, -4.88040018081665, -4.989699840545654, -4.989699840545654, -5.019800186157227, -5.076300144195557, -5.1066999435424805, -5.107900142669678, -5.132400035858154, -5.136499881744385, -5.143599987030029, -5.143599987030029, -5.143599987030029, -5.1468000411987305, -5.190499782562256, -5.234899997711182, -4.484300136566162, -3.470599889755249, -4.125899791717529, -3.361299991607666, -4.139900207519531, -3.1531999111175537, -4.463799953460693, -4.213799953460693, -3.61680006980896, -4.041999816894531, -4.357800006866455, -4.275899887084961, -3.9600000381469727, -4.7027997970581055, -4.497399806976318, -4.116099834442139, -4.660900115966797, -4.75540018081665, -2.7836999893188477, -3.1175999641418457, -3.348599910736084, -3.449700117111206, -3.449700117111206, -3.449700117111206, -3.702399969100952, -3.7260000705718994, -3.8459999561309814, -3.9523000717163086, -4.36359977722168, -4.377500057220459, -4.5457000732421875, -4.6631999015808105, -4.667500019073486, -4.80679988861084, -4.815999984741211, -4.837600231170654, -5.020500183105469, -5.139100074768066, -5.182799816131592, -5.184299945831299, -5.215000152587891, -5.352799892425537, -5.352799892425537, -5.371500015258789, -5.386000156402588, -5.386000156402588, -5.491700172424316, -5.524199962615967, -4.164400100708008, -4.996799945831299, -4.233399868011475, -4.518400192260742, -4.480400085449219, -4.270100116729736, -4.742499828338623, -4.168799877166748, -4.636600017547607, -4.450099945068359, -4.69950008392334, -4.36959981918335, -4.546000003814697, -3.8615000247955322, -4.065299987792969, -4.159999847412109, -4.174499988555908, -4.287499904632568, -4.563899993896484, -4.649700164794922, -4.650599956512451, -4.872799873352051, -4.872799873352051, -4.885200023651123, -4.90880012512207, -4.919600009918213, -5.128200054168701, -5.28980016708374, -5.393499851226807, -5.39709997177124, -5.43179988861084, -5.434500217437744, -5.521299839019775, -5.559700012207031, -5.559700012207031, -5.559700012207031, -5.60099983215332, -5.619699954986572, -5.636899948120117, -5.650599956512451, -5.650599956512451, -5.674300193786621, -5.702099800109863, -5.578100204467773, -5.578100204467773, -3.6273000240325928, -4.079999923706055, -4.377699851989746, -4.200500011444092, -4.488399982452393, -3.577199935913086, -3.4212000370025635, -4.43179988861084, -4.029200077056885, -5.042200088500977, -4.207499980926514, -4.525199890136719, -4.435200214385986, -4.125699996948242, -4.984899997711182, -4.810800075531006, -3.716399908065796, -4.138599872589111, -4.364099979400635, -4.181099891662598, -4.22160005569458, -4.521999835968018, -4.068299770355225, -4.606400012969971, -4.7434000968933105, -4.696700096130371, -3.694700002670288, -3.785399913787842, -3.94320011138916, -4.028200149536133, -4.228600025177002, -4.252999782562256, -4.3078999519348145, -4.321899890899658, -4.321899890899658, -4.446800231933594, -4.46750020980835, -4.512700080871582, -4.545899868011475, -4.554599761962891, -4.614799976348877, -4.6321001052856445, -4.632400035858154, -4.770899772644043, -4.8292999267578125, -4.831900119781494, -4.845300197601318, -4.853700160980225, -4.935800075531006, -4.989799976348877, -5.054500102996826, -5.056300163269043, -5.098199844360352, -5.207600116729736, -5.283599853515625, -5.287199974060059, -3.700200080871582, -4.289999961853027, -4.126200199127197, -3.500499963760376, -4.139699935913086, -4.728600025177002, -4.10129976272583, -4.553800106048584, -4.039700031280518, -4.423399925231934, -4.467899799346924, -4.268499851226807, -4.411600112915039, -4.488399982452393, -3.286400079727173, -4.06850004196167, -4.25629997253418, -4.3267998695373535, -4.403299808502197, -4.403299808502197, -4.412700176239014, -4.5229997634887695, -4.6356000900268555, -4.6595001220703125, -4.6595001220703125, -4.695000171661377, -4.751399993896484, -4.751399993896484, -4.784800052642822, -4.807300090789795, -4.869500160217285, -4.883399963378906, -4.890500068664551, -4.8993000984191895, -4.911300182342529, -4.915200233459473, -5.084099769592285, -5.156899929046631, -5.19980001449585, -5.272900104522705, -5.276199817657471, -5.326300144195557, -5.350800037384033, -5.350800037384033, -3.3234000205993652, -4.389900207519531, -4.439499855041504, -4.592800140380859, -4.795599937438965, -4.342700004577637, -4.342700004577637, -4.285600185394287, -4.651400089263916, -4.329400062561035, -4.523799896240234, -4.512400150299072, -3.5046000480651855, -4.639699935913086, -4.223499774932861, -4.548299789428711, -4.671899795532227, -4.598599910736084, -4.665599822998047, -3.6821999549865723, -3.8575000762939453, -3.8789000511169434, -4.010799884796143, -4.290200233459473, -4.371500015258789, -4.407100200653076, -4.407100200653076, -4.537399768829346, -4.548600196838379, -4.559700012207031, -4.589799880981445, -4.6097002029418945, -4.671000003814697, -4.684599876403809, -4.737400054931641, -4.748499870300293, -4.824900150299072, -4.904099941253662, -4.913899898529053, -5.065999984741211, -5.0914998054504395, -5.118299961090088, -5.188399791717529, -5.301499843597412, -5.301499843597412, -5.301499843597412, -5.311600208282471, -5.336900234222412, -5.336900234222412, -5.336900234222412, -4.505099773406982, -3.675800085067749, -3.9725000858306885, -4.6971001625061035, -4.603300094604492, -4.574900150299072, -4.188600063323975, -4.249300003051758, -4.539100170135498, -3.3203999996185303, -3.7832999229431152, -3.865000009536743, -4.406000137329102, -3.916599988937378, -4.053500175476074, -4.063600063323975, -4.146999835968018, -4.577899932861328, -4.491199970245361, -4.577099800109863]}, \"token.table\": {\"Topic\": [5, 7, 18, 6, 10, 19, 3, 5, 8, 15, 7, 10, 12, 18, 1, 5, 19, 13, 11, 11, 16, 6, 10, 10, 2, 7, 6, 10, 15, 8, 2, 9, 18, 8, 9, 15, 2, 8, 11, 9, 3, 5, 13, 15, 20, 11, 17, 11, 7, 13, 10, 18, 1, 5, 10, 15, 17, 14, 18, 3, 16, 20, 3, 8, 5, 17, 15, 16, 12, 2, 13, 17, 11, 19, 3, 17, 15, 13, 17, 19, 17, 11, 16, 17, 19, 9, 17, 7, 3, 9, 15, 1, 11, 18, 1, 7, 2, 9, 11, 3, 3, 11, 4, 7, 5, 2, 6, 20, 2, 20, 13, 5, 13, 14, 16, 18, 19, 16, 17, 7, 16, 17, 20, 8, 10, 2, 1, 5, 9, 11, 18, 9, 11, 15, 3, 7, 1, 20, 20, 18, 2, 6, 14, 11, 17, 19, 6, 3, 14, 3, 14, 13, 4, 11, 10, 11, 16, 20, 15, 12, 5, 12, 14, 4, 6, 2, 19, 2, 15, 2, 6, 9, 15, 2, 6, 20, 10, 6, 9, 11, 16, 6, 14, 7, 17, 6, 4, 8, 10, 13, 1, 3, 8, 13, 15, 19, 7, 11, 14, 20, 14, 2, 1, 2, 4, 7, 13, 15, 19, 9, 13, 15, 15, 3, 4, 1, 20, 13, 18, 16, 1, 20, 6, 13, 13, 20, 11, 2, 19, 5, 3, 6, 20, 16, 12, 1, 3, 1, 3, 12, 19, 13, 18, 9, 4, 8, 8, 11, 6, 8, 17, 20, 15, 1, 2, 1, 4, 18, 10, 4, 14, 18, 11, 8, 4, 11, 6, 3, 4, 15, 4, 13, 6, 7, 14, 2, 8, 9, 18, 7, 9, 11, 1, 2, 3, 6, 8, 9, 10, 11, 12, 16, 17, 18, 19, 12, 2, 9, 1, 14, 2, 9, 20, 5, 18, 3, 18, 8, 9, 13, 20, 9, 12, 20, 3, 10, 14, 15, 8, 9, 10, 3, 19, 1, 5, 9, 16, 20, 17, 8, 8, 3, 4, 4, 17, 2, 6, 18, 5, 6, 14, 14, 7, 18, 15, 12, 7, 13, 17, 4, 6, 10, 11, 17, 20, 10, 1, 10, 19, 4, 19, 11, 7, 15, 2, 1, 18, 16, 18, 1, 3, 4, 7, 8, 19, 7, 3, 12, 20, 15, 7, 8, 4, 11, 16, 17, 20, 10, 18, 2, 3, 18, 10, 19, 1, 6, 16, 9, 16, 17, 7, 16, 19, 5, 6, 6, 8, 4, 7, 8, 12, 6, 3, 4, 9, 6, 15, 2, 16, 8, 20, 3, 4, 7, 9, 19, 5, 8, 20, 2, 12, 6, 19, 19, 10, 14, 2, 9, 13, 9, 11, 9, 4, 14, 13, 19, 17, 9, 19, 20, 16, 6, 12, 2, 5, 11, 19, 5, 11, 11, 12, 14, 16, 1, 4, 3, 8, 11, 12, 3, 20, 8, 13, 7, 15, 18, 20, 5, 7, 12, 17, 18, 16, 2, 3, 17, 19, 16, 16, 12, 12, 2, 15, 9, 10, 18, 16, 18, 10, 2, 10, 13, 17, 14, 10, 4, 20, 20, 11, 13, 10, 6, 8, 17, 18, 20, 20, 3, 1, 17, 6, 7, 13, 6, 10, 9, 11, 17, 4, 16, 5, 9, 13, 20, 8, 18, 1, 12, 8, 11, 13, 8, 15, 3, 9, 11, 12, 4, 17, 6, 9, 15, 7, 7, 11, 17, 11, 1, 13, 1, 3, 17, 18, 19, 17, 20, 16, 18, 15, 17, 19, 18, 4, 7, 8, 4, 7, 9, 10, 16, 18, 20, 2, 3, 8, 10, 12, 18, 12, 1, 19, 9, 15, 16, 15, 20, 8, 12, 18, 19, 6, 15, 10, 3, 4, 16, 13, 19, 10, 7, 7, 20, 15, 4, 5, 9, 10, 16, 3, 4, 15, 18, 7, 2, 3, 19, 3, 2, 3, 6, 8, 9, 11, 15, 17, 19, 2, 3, 8, 16, 2, 3, 12, 5, 7, 14, 3, 12, 5, 14, 10, 2, 2, 15, 15, 19, 6, 5, 6, 14, 6, 19, 4, 2, 19, 20, 2, 16, 12, 13, 9, 9, 20, 9, 17, 8, 20, 1, 2, 3, 13, 20, 3, 9, 11, 17, 20, 6, 15, 15, 4, 1, 2, 15, 4, 4, 3, 11, 17, 3, 13, 5, 13, 13, 17, 8, 1, 3, 4, 9, 18, 16, 1, 8, 3, 1, 10, 10, 15, 18, 5, 20, 3, 8, 13, 14, 18, 11, 20, 11, 17, 6, 10, 15, 6, 10, 17, 8, 14, 9, 7, 4, 17, 13, 10, 13, 16, 20, 13, 11, 15, 15, 6, 7, 9, 10, 11, 12, 13, 18, 19, 16, 13, 17, 20, 18, 10, 1, 8, 3, 17, 1, 3, 4, 7, 10, 13, 14, 17, 18, 19, 11, 11, 4, 3, 6, 7, 13, 17, 18, 16, 7, 2, 10, 15, 3, 17, 16, 19, 8, 8, 1, 6, 13, 18, 20, 10, 5, 19, 2, 3, 6, 9, 13, 18, 19, 10, 1, 10, 20, 11, 15, 1, 2, 4, 5, 8, 20, 7, 11, 18, 6, 1, 5, 20, 13, 14, 8, 3, 19, 17, 4, 3, 14, 18, 18, 19, 9, 14, 15, 5, 8, 13, 6, 7, 16, 1, 2, 8, 9, 16, 1, 2, 5, 7, 9, 10, 14, 17, 18, 2, 2, 5, 6, 10, 11, 12, 13, 19, 5, 16, 16, 1, 1, 4, 6, 8, 9, 10, 15, 19, 20, 7, 11, 13, 17, 12, 7, 12, 19, 20, 5, 7, 10, 20, 6, 9, 6, 7, 3, 6, 6, 16, 13, 19, 15, 8, 10, 17, 6, 7, 17, 13, 8, 12, 7, 18, 19, 6, 7, 13, 9, 17, 13, 16, 20, 1, 9, 20, 19, 13, 18, 2, 3, 6, 9, 10, 16, 18, 2, 13, 12, 18, 8, 5, 12, 18, 15, 12, 1, 5, 1, 14, 7, 19, 14, 17, 20, 17, 1, 12, 20, 11, 5, 11, 16, 17, 19, 11, 1, 5, 11, 5, 11, 14, 19, 5, 16, 9, 12, 9, 15, 17, 20, 4, 7, 5, 16, 1, 16, 7, 18, 11, 11, 15, 7, 10, 14, 16, 19, 10, 15, 1, 20, 13, 11, 20, 1, 2, 12, 18, 1, 19, 2, 8, 1, 3, 4, 5, 8, 10, 13, 14, 15, 16, 18, 20, 1, 9, 1, 2, 3, 4, 5, 6, 12, 14, 15, 16, 19, 5, 9, 10, 20, 13, 8, 14, 10, 5, 6, 7, 13, 2, 14, 1, 5, 14, 20, 4, 17, 3, 12, 1, 4, 5, 12, 16, 17, 8, 12, 10, 9, 14, 20, 10, 12, 18, 17, 1, 3, 4, 7, 8, 9, 11, 12, 15, 16, 17, 18, 19, 20, 13, 3, 1, 10, 17, 1, 10, 10, 5, 16, 3, 5, 8, 19, 19, 6, 5, 17, 14, 15, 17, 7, 13, 14, 16, 4, 10, 12, 14, 14, 17, 6, 18, 9, 18, 17, 19, 8, 6, 1, 6, 17, 20, 1, 1, 7, 17, 18, 20, 1, 5, 6, 7, 9, 2, 19, 9, 4, 12, 4, 6, 19, 8, 18, 14, 16, 13, 12, 6, 13, 9, 14, 5, 1, 18, 12, 12, 6, 7, 11, 13, 5, 9, 9, 9, 3, 8, 10, 14, 18, 5, 17, 3, 4, 15, 17, 8, 9, 12, 6, 13, 7, 5, 5, 14, 18, 20, 10, 2, 3, 4, 10, 12, 20, 10, 9, 11, 14, 3, 18, 10, 15, 5, 12, 6, 13, 6, 9, 16, 1, 8, 10, 17, 5, 1, 11, 9, 10, 5, 17, 12, 1, 4, 18, 18, 6, 15, 8, 14, 16, 19, 19, 14, 4, 2, 3, 7, 9, 12, 16, 17, 4, 5, 10, 17, 8, 18, 19, 7, 14, 1, 20, 18, 1, 10, 18, 7, 6, 17, 5, 12, 13, 20, 8, 5, 7, 8, 9, 12, 19, 5, 8, 17, 3, 19, 2, 7, 8, 9, 13, 8, 17, 19, 1, 5, 12, 17, 20, 18, 2, 15, 19, 7, 4, 19, 13, 5, 20, 7, 12, 9, 17, 4, 8, 13, 17, 5, 13, 1, 7, 5, 7, 2, 5, 10, 13, 17, 2, 11, 4, 2, 5, 8, 9, 11, 16, 18, 19, 15, 4, 15, 4, 12, 2, 1, 14, 14, 9, 17, 10, 5, 7, 10, 12, 12, 16, 5, 6, 20, 16, 2, 18, 17, 4, 5, 10, 2, 8, 9, 10, 12, 13, 15, 17, 18, 14, 15, 19, 20, 4, 6, 9, 10, 3, 7, 9, 17, 7, 20, 14, 15, 7, 18, 5, 12, 17, 18, 5, 11, 17, 19, 17, 16, 8, 9, 6, 17, 15, 10, 16, 3, 15, 19, 5, 7, 3, 8, 11, 19, 17, 19, 7, 12, 6, 15, 16, 6, 4, 10, 12, 13, 15, 17, 5, 14, 2, 3, 6, 10, 12, 16, 17, 20, 9, 4, 10, 17, 6, 8, 3, 3, 12, 6, 1], \"Freq\": [0.4502068758010864, 0.039566874504089355, 0.5090224742889404, 0.6489132642745972, 0.19440017640590668, 0.15332971513271332, 0.14781561493873596, 0.2065071016550064, 0.4977908134460449, 0.14564184844493866, 0.0788908451795578, 0.5235483050346375, 0.18646927177906036, 0.20977792143821716, 0.17979969084262848, 0.7517609000205994, 0.06795578449964523, 0.9985150098800659, 0.9909354448318481, 0.9972110986709595, 0.9846410155296326, 0.828382670879364, 0.17067180573940277, 0.992703378200531, 0.9951339364051819, 0.9975296854972839, 0.11203499883413315, 0.3952345848083496, 0.4917091727256775, 0.9865003228187561, 0.9940832257270813, 0.11745916306972504, 0.8809437155723572, 0.1548822969198227, 0.602849543094635, 0.24066326022148132, 0.9968740344047546, 0.9945035576820374, 0.995887279510498, 0.9874998331069946, 0.08932209759950638, 0.3783053457736969, 0.2802261710166931, 0.14011308550834656, 0.11209047585725784, 0.9961985945701599, 0.9774957299232483, 0.9980189204216003, 0.9975621700286865, 0.9973599910736084, 0.995003342628479, 0.9976467490196228, 0.9884596467018127, 0.997718334197998, 0.9976968765258789, 0.998894214630127, 0.9807746410369873, 0.9865199327468872, 0.9860151410102844, 0.9987340569496155, 0.20017695426940918, 0.7938051223754883, 0.9907726049423218, 0.9948225617408752, 0.2778577208518982, 0.7175059914588928, 0.1865311861038208, 0.8083018064498901, 0.991093635559082, 0.9850594401359558, 0.10357443988323212, 0.8843663334846497, 0.9958663582801819, 0.99161696434021, 0.9901336431503296, 0.9807746410369873, 0.994120717048645, 0.7511895298957825, 0.19596248865127563, 0.05047518387436867, 0.9938385486602783, 0.8987938165664673, 0.09810777753591537, 0.27354687452316284, 0.722163736820221, 0.9270898103713989, 0.07131460309028625, 0.9953677654266357, 0.6436558961868286, 0.3550894856452942, 0.9861978888511658, 0.9050719141960144, 0.059888262301683426, 0.03373986855149269, 0.860853910446167, 0.13914664089679718, 0.8231456875801086, 0.1519130915403366, 0.02426726557314396, 0.9945518970489502, 0.9856289029121399, 0.9944202899932861, 0.9983043670654297, 0.9987028241157532, 0.9868672490119934, 0.9841126799583435, 0.21522027254104614, 0.7826191782951355, 0.9962839484214783, 0.9925242066383362, 0.9946737289428711, 0.6860372424125671, 0.18335312604904175, 0.11464090645313263, 0.015550659969449043, 0.9938065409660339, 0.9902494549751282, 0.08754865825176239, 0.9098806977272034, 0.0870034247636795, 0.1410866379737854, 0.721893310546875, 0.04938032478094101, 0.2171952873468399, 0.7792161107063293, 0.9886918067932129, 0.14878396689891815, 0.5201672315597534, 0.1280234158039093, 0.1683911681175232, 0.03344755992293358, 0.8076530694961548, 0.09331449866294861, 0.09331449866294861, 0.9827115535736084, 0.9884863495826721, 0.8888325095176697, 0.1108509823679924, 0.9806879758834839, 0.9881144762039185, 0.981970489025116, 0.8404183983802795, 0.15813639760017395, 0.6343077421188354, 0.15288443863391876, 0.21143591403961182, 0.9932756423950195, 0.9986298084259033, 0.9909850358963013, 0.9987340569496155, 0.9994471073150635, 0.9972226023674011, 0.990363597869873, 0.9984545707702637, 0.6641163229942322, 0.04883208125829697, 0.25555455684661865, 0.030926985666155815, 0.9974530935287476, 0.9962521195411682, 0.0012325190473347902, 0.9971079230308533, 0.993802011013031, 0.9925346970558167, 0.985860288143158, 0.8320538997650146, 0.16641078889369965, 0.7856044769287109, 0.2140551507472992, 0.5584998726844788, 0.027199668809771538, 0.13781166076660156, 0.2765299677848816, 0.9993274211883545, 0.8651775121688843, 0.13036921620368958, 0.9962090253829956, 0.9962350130081177, 0.9936118721961975, 0.8593704104423523, 0.1399303823709488, 0.9937682151794434, 0.9977708458900452, 0.10144045948982239, 0.8945204019546509, 0.9972660541534424, 0.984862744808197, 0.6245466470718384, 0.0960841029882431, 0.27624180912971497, 0.9993610382080078, 0.04754183813929558, 0.9508367776870728, 0.8963335752487183, 0.10022899508476257, 0.9948041439056396, 0.9940505623817444, 0.7133702039718628, 0.08170759677886963, 0.20426899194717407, 0.9864872097969055, 0.9947149157524109, 0.9910014271736145, 0.6315919756889343, 0.06613528728485107, 0.11739013344049454, 0.18352541327476501, 0.3674774467945099, 0.629961371421814, 0.17887410521507263, 0.06428287923336029, 0.756022572517395, 0.9927943348884583, 0.9910169839859009, 0.9945911169052124, 0.8946511149406433, 0.10494015365839005, 0.9951755404472351, 0.9918447136878967, 0.9946028590202332, 0.9981122016906738, 0.9932028651237488, 0.9949847459793091, 0.9958171248435974, 0.998393177986145, 0.9892481565475464, 0.9885938167572021, 0.20674538612365723, 0.7856324911117554, 0.9901102781295776, 0.7071081399917603, 0.2913086414337158, 0.9947860240936279, 0.9981039762496948, 0.9951010346412659, 0.8717737793922424, 0.12778443098068237, 0.17096829414367676, 0.6859838962554932, 0.07176446914672852, 0.06965374946594238, 0.9913798570632935, 0.9870446920394897, 0.9894638061523438, 0.9978381395339966, 0.9938181638717651, 0.9843568801879883, 0.9953289031982422, 0.06640582531690598, 0.6446473002433777, 0.14404955506324768, 0.14404955506324768, 0.9957004189491272, 0.8318300247192383, 0.16562986373901367, 0.9992865324020386, 0.9975074529647827, 0.9960258603096008, 0.9872360229492188, 0.7067944407463074, 0.11698666960000992, 0.17548000812530518, 0.9943578839302063, 0.9823904037475586, 0.9923032522201538, 0.9925910830497742, 0.9889349937438965, 0.817923367023468, 0.046635981649160385, 0.1291457861661911, 0.9815394878387451, 0.9965072870254517, 0.7280691266059875, 0.26779553294181824, 0.9994471073150635, 0.09470409899950027, 0.7357779741287231, 0.05099451541900635, 0.11655888706445694, 0.10488871484994888, 0.7003859281539917, 0.19285990297794342, 0.13568320870399475, 0.1493164449930191, 0.1012755036354065, 0.018177654594182968, 0.09997709840536118, 0.1123119369149208, 0.023371269926428795, 0.186320960521698, 0.027915682643651962, 0.03018788993358612, 0.03018788993358612, 0.019151456654071808, 0.0658939927816391, 0.9972382187843323, 0.9846621155738831, 0.9938653707504272, 0.998019814491272, 0.9935802817344666, 0.9929527044296265, 0.9960694909095764, 0.994828999042511, 0.992522656917572, 0.9964677691459656, 0.8497301936149597, 0.14326846599578857, 0.6378558874130249, 0.09692907333374023, 0.26264652609825134, 0.997154951095581, 0.5551325678825378, 0.4431922733783722, 0.9934825897216797, 0.5510308146476746, 0.1098274514079094, 0.07763664424419403, 0.2613135874271393, 0.9972062706947327, 0.989542543888092, 0.9893985986709595, 0.9980142712593079, 0.9971269369125366, 0.12556812167167664, 0.7707745432853699, 0.10285899043083191, 0.9979016780853271, 0.9952884912490845, 0.9811450839042664, 0.9942430853843689, 0.9905180335044861, 0.9935311675071716, 0.9925320148468018, 0.8729931712150574, 0.12426948547363281, 0.26868146657943726, 0.1951475888490677, 0.5345346927642822, 0.10132095962762833, 0.7480505108833313, 0.15090355277061462, 0.9864872097969055, 0.9940983653068542, 0.9940029978752136, 0.9983489513397217, 0.9947116374969482, 0.27899277210235596, 0.35733065009117126, 0.36145368218421936, 0.4649265706539154, 0.07033684849739075, 0.030244845896959305, 0.2975248694419861, 0.11042885482311249, 0.02461789734661579, 0.9924787282943726, 0.8281453251838684, 0.05736071616411209, 0.11292890459299088, 0.8674526214599609, 0.1311265528202057, 0.9932261109352112, 0.992445170879364, 0.9891831874847412, 0.9841126799583435, 0.9924924373626709, 0.9842572808265686, 0.17644323408603668, 0.8234017491340637, 0.6756239533424377, 0.032050471752882004, 0.12820188701152802, 0.05512681230902672, 0.07051103562116623, 0.03717854619026184, 0.9901137948036194, 0.9975599050521851, 0.9967596530914307, 0.0027383507695049047, 0.9896886348724365, 0.9931836724281311, 0.9915863871574402, 0.9961785078048706, 0.7339645028114319, 0.10824655741453171, 0.07920479774475098, 0.07656463980674744, 0.15822239220142365, 0.8405565023422241, 0.9927713871002197, 0.9961676597595215, 0.9914527535438538, 0.9989051818847656, 0.9921817779541016, 0.19025041162967682, 0.23781301081180573, 0.5673539042472839, 0.41061532497406006, 0.5865933299064636, 0.9780904650688171, 0.9919810891151428, 0.19211886823177338, 0.805962085723877, 0.9880321621894836, 0.9929927587509155, 0.24868588149547577, 0.7460576295852661, 0.11352507770061493, 0.13454823195934296, 0.7484245896339417, 0.9967911243438721, 0.9929414391517639, 0.8750973343849182, 0.04104934260249138, 0.08396456390619278, 0.986954391002655, 0.9922605156898499, 0.9846621155738831, 0.988371729850769, 0.995100200176239, 0.9941560626029968, 0.8057650327682495, 0.024506235495209694, 0.06077546626329422, 0.059305090457201004, 0.049502596259117126, 0.9962223172187805, 0.9921621680259705, 0.9866625070571899, 0.9879252314567566, 0.992093563079834, 0.9976206421852112, 0.9963250160217285, 0.9921817779541016, 0.9888086915016174, 0.9928644895553589, 0.997283935546875, 0.8144899010658264, 0.17730392515659332, 0.9863431453704834, 0.9845589399337769, 0.993038535118103, 0.9956865906715393, 0.9902722835540771, 0.44454142451286316, 0.5538548827171326, 0.9979126453399658, 0.19579124450683594, 0.7978493571281433, 0.9921819567680359, 0.9923523664474487, 0.9920310378074646, 0.9957707524299622, 0.16153410077095032, 0.5933905839920044, 0.056042443960905075, 0.18790701031684875, 0.9966521263122559, 0.9899040460586548, 0.819843590259552, 0.1784365475177765, 0.9839473962783813, 0.9976983666419983, 0.9907020330429077, 0.9965786933898926, 0.4757218360900879, 0.2992039918899536, 0.10077791661024094, 0.12393805384635925, 0.9898349642753601, 0.9866625070571899, 0.2920987904071808, 0.7056643962860107, 0.04301949962973595, 0.3206908106803894, 0.5103676915168762, 0.1231922060251236, 0.11147312074899673, 0.14440836012363434, 0.11400660127401352, 0.4737607538700104, 0.1520088016986847, 0.9912133812904358, 0.9841126799583435, 0.2593437433242798, 0.7376888990402222, 0.990716278553009, 0.9870190024375916, 0.9852975606918335, 0.9905545115470886, 0.9973800778388977, 0.745621919631958, 0.2541270852088928, 0.9821252822875977, 0.8491490483283997, 0.14718583226203918, 0.9919092059135437, 0.9952180981636047, 0.9859916567802429, 0.3090183734893799, 0.20526036620140076, 0.19962134957313538, 0.2853344678878784, 0.9973306655883789, 0.9880462884902954, 0.996734082698822, 0.9912815690040588, 0.990563690662384, 0.9984545707702637, 0.9956110119819641, 0.9922727942466736, 0.05617606267333031, 0.1384805291891098, 0.35926553606987, 0.36318477988243103, 0.0836108848452568, 0.9875984191894531, 0.9974450469017029, 0.7281620502471924, 0.27144119143486023, 0.47729092836380005, 0.06766193360090256, 0.45168909430503845, 0.6536720991134644, 0.344434916973114, 0.1115746796131134, 0.8882504105567932, 0.9807746410369873, 0.3598099946975708, 0.6391918659210205, 0.9974504709243774, 0.989542543888092, 0.25298649072647095, 0.7413092851638794, 0.9930180907249451, 0.9967650771141052, 0.33436402678489685, 0.6640516519546509, 0.9977525472640991, 0.9953429698944092, 0.9927612543106079, 0.9973187446594238, 0.9891831874847412, 0.16814331710338593, 0.5277113318443298, 0.06984414905309677, 0.23281382024288177, 0.2874009907245636, 0.7058971524238586, 0.9965173602104187, 0.9938653707504272, 0.9985460638999939, 0.993914008140564, 0.9958949685096741, 0.17309270799160004, 0.8252094388008118, 0.9984545707702637, 0.9993610382080078, 0.9960908889770508, 0.3261033594608307, 0.2508487403392792, 0.41808122396469116, 0.9934396743774414, 0.9920598864555359, 0.9823411703109741, 0.9979851245880127, 0.9926657676696777, 0.9948687553405762, 0.9961772561073303, 0.9910023808479309, 0.9870337843894958, 0.9963690638542175, 0.1048455461859703, 0.7303034663200378, 0.1590760052204132, 0.32512879371643066, 0.13205944001674652, 0.04247525706887245, 0.20928718149662018, 0.05637625232338905, 0.030118819326162338, 0.2046535164117813, 0.9956164360046387, 0.9924468994140625, 0.9918223023414612, 0.677982747554779, 0.2767276465892792, 0.044968243688344955, 0.9865511059761047, 0.9933686852455139, 0.9916865825653076, 0.7025017738342285, 0.29721227288246155, 0.9990756511688232, 0.8902149796485901, 0.10446400195360184, 0.9949314594268799, 0.9935064911842346, 0.9976467490196228, 0.9955940842628479, 0.6579498648643494, 0.3412158787250519, 0.9927926063537598, 0.9936201572418213, 0.9931125640869141, 0.9927161335945129, 0.9972737431526184, 0.982956051826477, 0.9946237802505493, 0.9959315061569214, 0.9950498342514038, 0.9930465221405029, 0.9884746074676514, 0.6222699284553528, 0.06477158516645432, 0.09715738147497177, 0.09715738147497177, 0.11797682195901871, 0.995659589767456, 0.9891221523284912, 0.9890598058700562, 0.9957804679870605, 0.996914803981781, 0.39105474948883057, 0.4412192106246948, 0.16759489476680756, 0.9987295866012573, 0.20015235245227814, 0.38575834035873413, 0.05049266293644905, 0.1159512922167778, 0.09049516171216965, 0.049793317914009094, 0.039722759276628494, 0.009511083364486694, 0.05818545073270798, 0.6886540055274963, 0.15903238952159882, 0.09483583271503448, 0.055442485958337784, 0.6194161772727966, 0.19377167522907257, 0.1861514300107956, 0.6585213541984558, 0.34011542797088623, 0.996097981929779, 0.9023457169532776, 0.0954204648733139, 0.8262907266616821, 0.16984865069389343, 0.9871593117713928, 0.9841126799583435, 0.8254635334014893, 0.174272820353508, 0.9861978888511658, 0.9920889139175415, 0.9899526238441467, 0.9966074824333191, 0.9995061755180359, 0.9996482729911804, 0.9995061755180359, 0.9920889139175415, 0.9997825026512146, 0.35951924324035645, 0.6344457268714905, 0.9947860240936279, 0.9997608065605164, 0.9976983666419983, 0.8968885540962219, 0.09965428709983826, 0.9927735328674316, 0.9961977005004883, 0.9913181066513062, 0.9839535355567932, 0.9939616322517395, 0.5880064964294434, 0.40877458453178406, 0.6270816326141357, 0.24378348886966705, 0.1285003423690796, 0.262671560049057, 0.7354803681373596, 0.0676305741071701, 0.752077043056488, 0.016907643526792526, 0.03757254034280777, 0.12524180114269257, 0.6891842484474182, 0.3087545335292816, 0.9965354204177856, 0.9993880391120911, 0.7394360303878784, 0.25787055492401123, 0.9893512725830078, 0.9991758465766907, 0.9983435273170471, 0.27943456172943115, 0.5742226243019104, 0.14432333409786224, 0.9818034768104553, 0.9935682415962219, 0.5754078030586243, 0.42293381690979004, 0.9883266687393188, 0.9903118014335632, 0.9885607957839966, 0.03821306675672531, 0.3701891005039215, 0.2135155200958252, 0.367800772190094, 0.010030929930508137, 0.9980359673500061, 0.24395836889743805, 0.7540531158447266, 0.9982672333717346, 0.9973093867301941, 0.9973341226577759, 0.8105642795562744, 0.1842191517353058, 0.9937624931335449, 0.9967666268348694, 0.9892481565475464, 0.13850408792495728, 0.049774907529354095, 0.19477137923240662, 0.4414817988872528, 0.1731301248073578, 0.8177757263183594, 0.18133288621902466, 0.10975495725870132, 0.8848993182182312, 0.4368618130683899, 0.10655166208744049, 0.45639628171920776, 0.9944799542427063, 0.23299174010753632, 0.7643764019012451, 0.3588930070400238, 0.6354171633720398, 0.9968194365501404, 0.9919251799583435, 0.8729931712150574, 0.12426948547363281, 0.9983541965484619, 0.4152771830558777, 0.06750088930130005, 0.39179861545562744, 0.12326248735189438, 0.9941995143890381, 0.9922072887420654, 0.9932141900062561, 0.9974530935287476, 0.22227495908737183, 0.06554261595010757, 0.04885163903236389, 0.16080331802368164, 0.0533297061920166, 0.10828780382871628, 0.27397629618644714, 0.05495809391140938, 0.011805812828242779, 0.9977093935012817, 0.9889602065086365, 0.6416434049606323, 0.35544276237487793, 0.9968506097793579, 0.99430251121521, 0.9975771903991699, 0.9986890554428101, 0.9934016466140747, 0.991358757019043, 0.2486782670021057, 0.07564357668161392, 0.18154458701610565, 0.05484159290790558, 0.11346536874771118, 0.06997030973434448, 0.026475252583622932, 0.11251982301473618, 0.0728069469332695, 0.0434950590133667, 0.9934724569320679, 0.9928730726242065, 0.9916037321090698, 0.5403491258621216, 0.16699765622615814, 0.05318396911025047, 0.024464625865221024, 0.09360378235578537, 0.11913208663463593, 0.9934591054916382, 0.9969931244850159, 0.6062553524971008, 0.328725129365921, 0.06197277083992958, 0.9896321892738342, 0.9916056394577026, 0.998831570148468, 0.9894872307777405, 0.9986211657524109, 0.9993324875831604, 0.6913397312164307, 0.1175004243850708, 0.06636236608028412, 0.026935312896966934, 0.09798207879066467, 0.9942811131477356, 0.9956172704696655, 0.9954434633255005, 0.4308376610279083, 0.30314093828201294, 0.06940039247274399, 0.12436550855636597, 0.029980970546603203, 0.026094548404216766, 0.016100892797112465, 0.9872360229492188, 0.2723265290260315, 0.6384543776512146, 0.0877496525645256, 0.8010110855102539, 0.19696994125843048, 0.04765067622065544, 0.4288560748100281, 0.037524908781051636, 0.24301844835281372, 0.2001328468322754, 0.04288560897111893, 0.2010440081357956, 0.6810365915298462, 0.1130872592329979, 0.9979875683784485, 0.4322425127029419, 0.05336327105760574, 0.5096192359924316, 0.7614556550979614, 0.23535901308059692, 0.9958454370498657, 0.8870869278907776, 0.1088697612285614, 0.9850254058837891, 0.9884507060050964, 0.11764350533485413, 0.810433030128479, 0.06862537562847137, 0.9906138181686401, 0.9957329630851746, 0.9961977005004883, 0.9923182129859924, 0.9957622289657593, 0.050271984189748764, 0.9408042430877686, 0.9946696758270264, 0.9982086420059204, 0.41900572180747986, 0.5783458948135376, 0.1308286041021347, 0.5008866190910339, 0.1569943130016327, 0.20932576060295105, 0.991655170917511, 0.17957432568073273, 0.06741301715373993, 0.14238093793392181, 0.20921280980110168, 0.04649173468351364, 0.06857530772686005, 0.03428765386343002, 0.1714382767677307, 0.08077938854694366, 0.9915681481361389, 0.320414662361145, 0.018628759309649467, 0.10928872227668762, 0.2260289490222931, 0.048434775322675705, 0.1117725521326065, 0.09314379841089249, 0.07327312231063843, 0.9916222095489502, 0.9984182119369507, 0.9963364601135254, 0.9988673329353333, 0.9980079531669617, 0.9989216923713684, 0.9983312487602234, 0.18779508769512177, 0.15330210328102112, 0.3468460142612457, 0.22420433163642883, 0.08814871311187744, 0.9892481565475464, 0.8909471035003662, 0.10821220278739929, 0.9865953326225281, 0.9815160632133484, 0.988025963306427, 0.19591481983661652, 0.24959012866020203, 0.0670941174030304, 0.48307764530181885, 0.0794592946767807, 0.07756740599870682, 0.6054041385650635, 0.23459412157535553, 0.9913495779037476, 0.9933910369873047, 0.7140516638755798, 0.28488069772720337, 0.9843305945396423, 0.991628885269165, 0.9963328838348389, 0.991443395614624, 0.9951755404472351, 0.991946816444397, 0.9970715045928955, 0.3528108596801758, 0.39874976873397827, 0.2480701357126236, 0.34737953543663025, 0.19938351213932037, 0.45015454292297363, 0.9918139576911926, 0.9838132262229919, 0.9931231737136841, 0.9914728403091431, 0.9932020306587219, 0.9904577732086182, 0.8065915107727051, 0.07576365768909454, 0.1165594682097435, 0.7241109609603882, 0.2736271917819977, 0.3455559313297272, 0.6496451497077942, 0.9955321550369263, 0.9905694127082825, 0.10200610756874084, 0.892553448677063, 0.9941362738609314, 0.7945582270622253, 0.2011539787054062, 0.17212945222854614, 0.0021788538433611393, 0.1198369562625885, 0.496778666973114, 0.06754446774721146, 0.08497529476881027, 0.05229249224066734, 0.9164385199546814, 0.08159071207046509, 0.995857298374176, 0.9914150238037109, 0.9899093508720398, 0.6888810992240906, 0.2894115746021271, 0.016304876655340195, 0.9861978888511658, 0.9890209436416626, 0.9955912828445435, 0.9933236241340637, 0.1507553607225418, 0.8483998775482178, 0.9976089596748352, 0.990716278553009, 0.9830072522163391, 0.9836989045143127, 0.998109757900238, 0.9953608512878418, 0.4190531075000763, 0.577887773513794, 0.9952811598777771, 0.9896522760391235, 0.9935172200202942, 0.9915945529937744, 0.9964986443519592, 0.7875180840492249, 0.21076728403568268, 0.9892567992210388, 0.989840030670166, 0.9908314943313599, 0.9951090812683105, 0.990421712398529, 0.9971950650215149, 0.9833812117576599, 0.9909709692001343, 0.8539296388626099, 0.1423216015100479, 0.5551325678825378, 0.4431922733783722, 0.9917336106300354, 0.9926413297653198, 0.9966405630111694, 0.9962436556816101, 0.9884950518608093, 0.9922997355461121, 0.751933753490448, 0.24169299006462097, 0.9930089712142944, 0.9870190024375916, 0.6651486754417419, 0.33028072118759155, 0.9959864020347595, 0.34137865900993347, 0.6576719880104065, 0.9991962909698486, 0.231405109167099, 0.07713503390550613, 0.10181824862957001, 0.5893116593360901, 0.9936148524284363, 0.9904723763465881, 0.9241812825202942, 0.07508973032236099, 0.9947630763053894, 0.9883577823638916, 0.9805859923362732, 0.6596388816833496, 0.12578698992729187, 0.023770771920681, 0.190166175365448, 0.907420814037323, 0.0907420814037323, 0.9947149157524109, 0.9949887990951538, 0.02657889388501644, 0.3545624315738678, 0.05687883496284485, 0.1305023729801178, 0.01647891476750374, 0.02099732682108879, 0.04279201850295067, 0.059005144983530045, 0.08797614276409149, 0.05820777639746666, 0.02498416043817997, 0.12119975686073303, 0.7605283260345459, 0.23823778331279755, 0.13303445279598236, 0.24914784729480743, 0.10969506949186325, 0.04376133158802986, 0.23397725820541382, 0.03967694193124771, 0.04142739251255989, 0.01692104898393154, 0.04201087728142738, 0.06710071116685867, 0.023339377716183662, 0.09997963905334473, 0.8967871069908142, 0.8070342540740967, 0.19013896584510803, 0.9921991229057312, 0.2090785652399063, 0.784044623374939, 0.9967689514160156, 0.06388121843338013, 0.2683010995388031, 0.4241712689399719, 0.24274861812591553, 0.9942333698272705, 0.9838627576828003, 0.9955912828445435, 0.9957767724990845, 0.9973278045654297, 0.9929428696632385, 0.6207150220870972, 0.37380078434944153, 0.9974450469017029, 0.9892981052398682, 0.03899919241666794, 0.4107915163040161, 0.27299436926841736, 0.14733028411865234, 0.09099812060594559, 0.03986584395170212, 0.9968539476394653, 0.9969542026519775, 0.9921067953109741, 0.9934124946594238, 0.8353012204170227, 0.15841920673847198, 0.40353527665138245, 0.5944551825523376, 0.987070620059967, 0.9811450839042664, 0.28871825337409973, 0.18389132618904114, 0.032277218997478485, 0.024281945079565048, 0.09594329446554184, 0.0840984433889389, 0.05300571024417877, 0.06988462060689926, 0.014806064777076244, 0.054190196096897125, 0.007699153386056423, 0.030204370617866516, 0.041160859167575836, 0.019840126857161522, 0.9971707463264465, 0.9927859902381897, 0.09793964773416519, 0.15617403388023376, 0.7451354265213013, 0.9975432753562927, 0.9977737665176392, 0.9950039386749268, 0.05619315057992935, 0.9412353038787842, 0.9898782968521118, 0.7325480580329895, 0.26518765091896057, 0.9909973740577698, 0.9954434633255005, 0.9861268997192383, 0.15651239454746246, 0.8394755721092224, 0.993182897567749, 0.9940212965011597, 0.9961075782775879, 0.0692698284983635, 0.499098002910614, 0.07104597985744476, 0.35878220200538635, 0.05060978978872299, 0.29265663027763367, 0.4114795923233032, 0.24204683303833008, 0.9973278045654297, 0.9987410306930542, 0.32963719964027405, 0.667314350605011, 0.9942319989204407, 0.9912676811218262, 0.9905654191970825, 0.9817811250686646, 0.9919728636741638, 0.9963874220848083, 0.8123676180839539, 0.06939222663640976, 0.0801599845290184, 0.03708894923329353, 0.9911457896232605, 0.4493805766105652, 0.2430184930562973, 0.06380932778120041, 0.04751758277416229, 0.19482208788394928, 0.07549949735403061, 0.031088028103113174, 0.052183475345373154, 0.03997031971812248, 0.8005167245864868, 0.9814247488975525, 0.012166422791779041, 0.9906038045883179, 0.9928654432296753, 0.9935504198074341, 0.7906010150909424, 0.10629929602146149, 0.10131651908159256, 0.88329017162323, 0.10904817283153534, 0.9916706681251526, 0.9881390333175659, 0.9990372061729431, 0.9872408509254456, 0.9898356199264526, 0.9928621053695679, 0.9962043762207031, 0.9912301301956177, 0.9876440167427063, 0.9965162873268127, 0.9936738610267639, 0.9962180256843567, 0.9951804280281067, 0.1947849541902542, 0.5565284490585327, 0.08904454857110977, 0.1572192907333374, 0.9875087738037109, 0.9939336180686951, 0.9972342252731323, 0.9968194365501404, 0.5235416293144226, 0.19996380805969238, 0.08725693076848984, 0.05089987814426422, 0.1363389641046524, 0.9901708364486694, 0.9911006689071655, 0.062364932149648666, 0.24945972859859467, 0.19843387603759766, 0.4875803589820862, 0.9948345422744751, 0.5551325678825378, 0.4431922733783722, 0.08526409417390823, 0.9133769869804382, 0.9940426349639893, 0.9984167814254761, 0.06965024769306183, 0.21135246753692627, 0.6028348803520203, 0.11288142949342728, 0.9950478076934814, 0.5586554408073425, 0.19856515526771545, 0.015274242497980595, 0.04773200675845146, 0.16190697252750397, 0.017183521762490273, 0.9953807592391968, 0.23911023139953613, 0.7590104937553406, 0.9995216727256775, 0.08044658601284027, 0.9145506620407104, 0.8685352802276611, 0.12935632467269897, 0.17123818397521973, 0.8271127343177795, 0.8267385363578796, 0.1714906543493271, 0.984170138835907, 0.5227020978927612, 0.47536301612854004, 0.988382875919342, 0.8481913208961487, 0.08073146641254425, 0.07051229476928711, 0.9961023926734924, 0.9910368919372559, 0.9984545707702637, 0.9880325198173523, 0.9978145360946655, 0.9863165020942688, 0.9970548152923584, 0.996065616607666, 0.9935829639434814, 0.9519330859184265, 0.044275958091020584, 0.9911391139030457, 0.223775714635849, 0.7748233675956726, 0.5745542645454407, 0.3495965003967285, 0.07599923759698868, 0.9955022931098938, 0.9929337501525879, 0.9871111512184143, 0.9912763833999634, 0.33737626671791077, 0.18873512744903564, 0.1584201604127884, 0.14864113926887512, 0.10267973691225052, 0.06356364488601685, 0.991358757019043, 0.4597718119621277, 0.22509662806987762, 0.05507683381438255, 0.2586216628551483, 0.352388471364975, 0.5022229552268982, 0.14151033759117126, 0.13309161365032196, 0.8638399243354797, 0.988382875919342, 0.9965839385986328, 0.9951580166816711, 0.9940589070320129, 0.8398529887199402, 0.15677256882190704, 0.9964480400085449, 0.9916614890098572, 0.00597386434674263, 0.17474111914634705, 0.08064974844455719, 0.13441625237464905, 0.6048731207847595, 0.9910407662391663, 0.22982248663902283, 0.09973429143428802, 0.14092889428138733, 0.40327343344688416, 0.02601764164865017, 0.0975661501288414, 0.055330995470285416, 0.8528605103492737, 0.08967436850070953, 0.4276507496833801, 0.568120002746582, 0.9986701607704163, 0.7699517011642456, 0.22875376045703888, 0.9961277842521667, 0.987463653087616, 0.9936236143112183, 0.9970448017120361, 0.9990764856338501, 0.24430817365646362, 0.14579682052135468, 0.38222408294677734, 0.14382658898830414, 0.08274954557418823, 0.994077205657959, 0.9947149157524109, 0.9927943348884583, 0.9886665940284729, 0.9896368384361267, 0.2211996167898178, 0.7741986513137817, 0.9913975596427917, 0.9885460138320923, 0.9881274700164795, 0.9934051036834717, 0.9967234134674072, 0.9902107119560242, 0.987259566783905, 0.129250168800354, 0.8678225874900818, 0.06896473467350006, 0.9289955496788025, 0.9933931231498718, 0.9967687129974365, 0.9988859295845032, 0.998280942440033, 0.9929473400115967, 0.9907556176185608, 0.24401234090328217, 0.7542199492454529, 0.27014482021331787, 0.502929151058197, 0.22416271269321442, 0.9942523241043091, 0.99134361743927, 0.9974915981292725, 0.2680686116218567, 0.014921787194907665, 0.17906144261360168, 0.40393540263175964, 0.054451435804367065, 0.0005235715070739388, 0.04633607715368271, 0.03272321820259094, 0.9971825480461121, 0.9993534088134766, 0.9937584400177002, 0.9920614361763, 0.9897942543029785, 0.9914597868919373, 0.9954431056976318, 0.9919366836547852, 0.9950293302536011, 0.9838913679122925, 0.9872812032699585, 0.9918595552444458, 0.22670146822929382, 0.7664668560028076, 0.9909122586250305, 0.9965890049934387, 0.9929824471473694, 0.991443395614624, 0.9904862642288208, 0.33512502908706665, 0.6600947380065918, 0.9943163394927979, 0.9886918067932129, 0.9963396191596985, 0.9939616322517395, 0.6036893725395203, 0.1576513648033142, 0.2345544546842575, 0.5377353429794312, 0.04748742654919624, 0.13084664940834045, 0.051928695291280746, 0.08540903776884079, 0.042704518884420395, 0.05124542489647865, 0.001024908502586186, 0.05124542489647865, 0.9871111512184143, 0.25300756096839905, 0.5468227863311768, 0.19995759427547455, 0.33732274174690247, 0.12500783801078796, 0.20636214315891266, 0.3293857276439667, 0.7767154574394226, 0.10275613516569138, 0.11786732822656631, 0.996250569820404, 0.9984709620475769, 0.9866625070571899, 0.19885629415512085, 0.7982659935951233, 0.6640961170196533, 0.33508044481277466, 0.8928701877593994, 0.010509731248021126, 0.055747270584106445, 0.04021114483475685, 0.9920738339424133, 0.7541221976280212, 0.16727802157402039, 0.07815448194742203, 0.9894100427627563, 0.9941151142120361, 0.8407849073410034, 0.15625207126140594, 0.837049663066864, 0.16170278191566467, 0.9946682453155518, 0.9870651364326477, 0.9976983666419983, 0.9989665746688843, 0.3674774467945099, 0.629961371421814, 0.9876440167427063, 0.9987028241157532, 0.6096941232681274, 0.1753811538219452, 0.18140281736850739, 0.033119186758995056, 0.0808621495962143, 0.917050302028656, 0.4143296480178833, 0.5812983512878418, 0.23785735666751862, 0.5731502771377563, 0.18627382814884186, 0.9889758229255676, 0.34049180150032043, 0.10874345153570175, 0.15509311854839325, 0.12300489097833633, 0.20144279301166534, 0.06774182617664337, 0.9931100606918335, 0.9965160489082336, 0.9994795918464661, 0.04979836568236351, 0.08222520351409912, 0.2872091829776764, 0.42502325773239136, 0.048640262335538864, 0.08569951355457306, 0.020845826715230942, 0.9959776997566223, 0.9957773089408875, 0.09565574675798416, 0.8983322381973267, 0.8510783314704895, 0.1457647979259491, 0.9947820901870728, 0.9936791658401489, 0.9951804280281067, 0.9962350130081177, 0.9973093867301941], \"Term\": [\"000\", \"000\", \"000\", \"1\", \"1\", \"1\", \"10\", \"10\", \"10\", \"10\", \"100\", \"100\", \"100\", \"100\", \"11\", \"11\", \"11\", \"12\", \"13\", \"14\", \"16\", \"19\", \"19\", \"1970s\", \"2012\", \"2014\", \"2015\", \"2015\", \"2015\", \"26\", \"28\", \"300\", \"300\", \"4\", \"4\", \"4\", \"40\", \"43\", \"48\", \"499\", \"5\", \"5\", \"5\", \"5\", \"5\", \"500\", \"52\", \"57\", \"6\", \"7\", \"72\", \"8\", \"800\", \"9\", \"abandoned\", \"abdel\", \"abdi\", \"aborted\", \"abrams\", \"abu\", \"accidentally\", \"accidentally\", \"according\", \"across\", \"actor\", \"actor\", \"actually\", \"actually\", \"ad\", \"advisory\", \"age\", \"age\", \"aged\", \"agent\", \"agreed\", \"ahmed\", \"aid\", \"air\", \"air\", \"air\", \"aircraft\", \"airdrop\", \"airdrop\", \"airdropped\", \"airdropped\", \"airstrike\", \"airstrike\", \"airstrikes\", \"al\", \"al\", \"alignment\", \"alleged\", \"alleged\", \"alleged\", \"allegedly\", \"allegedly\", \"american\", \"american\", \"american\", \"among\", \"analyst\", \"angry\", \"ankle\", \"anna\", \"anniversary\", \"ansar\", \"app\", \"app\", \"apparently\", \"appears\", \"appendix\", \"apple\", \"apple\", \"apple\", \"apple\", \"apps\", \"area\", \"arm\", \"arm\", \"arrest\", \"arrest\", \"arrest\", \"arrest\", \"arrested\", \"arrested\", \"assertion\", \"attack\", \"attack\", \"attack\", \"attack\", \"attack\", \"attempt\", \"attempt\", \"attempt\", \"attempted\", \"attorney\", \"audio\", \"audio\", \"authenticated\", \"awakens\", \"ayr\", \"baby\", \"baby\", \"back\", \"back\", \"back\", \"bad\", \"baghdadi\", \"bailed\", \"bakr\", \"bale\", \"bali\", \"ban\", \"bank\", \"banksy\", \"banksy\", \"banksy\", \"banksy\", \"bary\", \"batman\", \"batmobile\", \"batmobile\", \"battery\", \"become\", \"bed\", \"behead\", \"behead\", \"beheaded\", \"beheaded\", \"beheading\", \"beheading\", \"beheading\", \"beheading\", \"beheads\", \"behind\", \"behind\", \"belonging\", \"bibeau\", \"bid\", \"big\", \"big\", \"bin\", \"biopic\", \"bird\", \"bird\", \"birth\", \"blamed\", \"body\", \"body\", \"body\", \"boko\", \"border\", \"border\", \"born\", \"born\", \"bosnia\", \"boston\", \"boy\", \"boy\", \"boy\", \"boyle\", \"brave\", \"breached\", \"breaking\", \"breaking\", \"breaking\", \"breaking\", \"brian\", \"brian\", \"british\", \"british\", \"british\", \"brokaw\", \"broke\", \"broken\", \"brown\", \"brown\", \"buckingham\", \"bug\", \"bugatti\", \"building\", \"bullet\", \"bunbury\", \"burrow\", \"burrowed\", \"business\", \"butcher\", \"camera\", \"camera\", \"campus\", \"canadian\", \"canadian\", \"canseco\", \"capital\", \"capsule\", \"capture\", \"capture\", \"captured\", \"captured\", \"captured\", \"captured\", \"car\", \"castrate\", \"castrated\", \"castro\", \"cat\", \"categorically\", \"catholic\", \"caught\", \"caught\", \"caught\", \"caught\", \"causing\", \"cease\", \"cease\", \"ceasefire\", \"center\", \"ceo\", \"cesar\", \"charge\", \"charge\", \"charge\", \"cheating\", \"check\", \"cheese\", \"chemical\", \"chest\", \"child\", \"child\", \"child\", \"china\", \"chlorine\", \"chop\", \"chop\", \"christian\", \"christmas\", \"christmas\", \"christmas\", \"christmas\", \"city\", \"city\", \"city\", \"claim\", \"claim\", \"claim\", \"claim\", \"claim\", \"claim\", \"claim\", \"claim\", \"claim\", \"claim\", \"claim\", \"claim\", \"claim\", \"cleric\", \"clint\", \"closer\", \"cnn\", \"co\", \"cold\", \"college\", \"colorado\", \"com\", \"comcast\", \"come\", \"come\", \"coming\", \"coming\", \"coming\", \"company\", \"condom\", \"condom\", \"confirm\", \"confirms\", \"confirms\", \"confirms\", \"confirms\", \"congressman\", \"constipated\", \"contains\", \"contracted\", \"cost\", \"could\", \"could\", \"could\", \"crater\", \"creature\", \"credit\", \"cross\", \"crossing\", \"cub\", \"cuba\", \"culkin\", \"culkin\", \"customer\", \"customer\", \"customer\", \"cut\", \"cut\", \"cut\", \"danny\", \"darkness\", \"date\", \"david\", \"dawn\", \"day\", \"day\", \"day\", \"dead\", \"dead\", \"dead\", \"dead\", \"dead\", \"dead\", \"deadly\", \"deal\", \"deal\", \"deal\", \"death\", \"death\", \"debut\", \"december\", \"decrease\", \"deen\", \"deeper\", \"delete\", \"delivery\", \"delivery\", \"denies\", \"denies\", \"denies\", \"denies\", \"denies\", \"denies\", \"detail\", \"detained\", \"detroit\", \"detroit\", \"developer\", \"device\", \"dhs\", \"dictator\", \"died\", \"died\", \"died\", \"died\", \"dinner\", \"dinner\", \"disappear\", \"dna\", \"document\", \"dog\", \"domestic\", \"doubt\", \"doubt\", \"doubt\", \"drone\", \"drone\", \"dropped\", \"droppings\", \"drug\", \"drug\", \"due\", \"dump\", \"dumped\", \"dumped\", \"duncan\", \"duncan\", \"duncan\", \"durex\", \"duty\", \"dy\", \"dy\", \"dy\", \"dylan\", \"earth\", \"eastwood\", \"eat\", \"eating\", \"ebay\", \"ebola\", \"ebola\", \"ebola\", \"ebola\", \"ebola\", \"edition\", \"elaborate\", \"eleven\", \"email\", \"employee\", \"emwazi\", \"entering\", \"espn\", \"ever\", \"exclusive\", \"executed\", \"execution\", \"execution\", \"explosion\", \"extra\", \"eyewitness\", \"fabricated\", \"face\", \"failed\", \"failed\", \"fall\", \"family\", \"family\", \"fan\", \"farther\", \"fat\", \"fatwa\", \"fear\", \"fear\", \"fear\", \"fear\", \"feature\", \"feb\", \"female\", \"female\", \"feminist\", \"fence\", \"ferguson\", \"fidel\", \"fighter\", \"fighter\", \"fighter\", \"fighter\", \"fighting\", \"final\", \"find\", \"find\", \"fired\", \"fired\", \"fired\", \"fired\", \"first\", \"first\", \"first\", \"first\", \"first\", \"fisherman\", \"fitted\", \"five\", \"five\", \"flame\", \"floor\", \"flown\", \"fly\", \"flying\", \"foley\", \"foley\", \"follower\", \"food\", \"food\", \"foot\", \"force\", \"forced\", \"found\", \"found\", \"found\", \"found\", \"founder\", \"fox\", \"fractured\", \"francis\", \"freak\", \"gang\", \"gas\", \"gender\", \"get\", \"get\", \"get\", \"get\", \"get\", \"giant\", \"gill\", \"girl\", \"girl\", \"girlfriend\", \"girlfriend\", \"girlfriend\", \"give\", \"give\", \"god\", \"god\", \"godane\", \"going\", \"going\", \"gold\", \"goldfish\", \"good\", \"good\", \"gop\", \"got\", \"government\", \"government\", \"graf\", \"graffiti\", \"graphic\", \"grave\", \"gravity\", \"group\", \"group\", \"group\", \"group\", \"gun\", \"gun\", \"gunman\", \"guru\", \"haines\", \"hair\", \"hairgate\", \"hand\", \"hand\", \"hank\", \"haram\", \"hbo\", \"head\", \"head\", \"head\", \"headshot\", \"heard\", \"hearing\", \"heaven\", \"hebdo\", \"helmet\", \"help\", \"hero\", \"herzegovina\", \"hill\", \"hit\", \"hit\", \"hit\", \"hoax\", \"hoax\", \"hoax\", \"hoax\", \"hoax\", \"hoax\", \"hoax\", \"hold\", \"holding\", \"homeland\", \"homeless\", \"homeless\", \"homeless\", \"homophobe\", \"hope\", \"horrific\", \"hostage\", \"hostage\", \"house\", \"hunt\", \"hunt\", \"hunter\", \"husband\", \"icloud\", \"idea\", \"identified\", \"identified\", \"identity\", \"idf\", \"ill\", \"impact\", \"inch\", \"incredible\", \"indian\", \"infestation\", \"injured\", \"insurgent\", \"intelligence\", \"internet\", \"internet\", \"internet\", \"internet\", \"internet\", \"investigates\", \"investigating\", \"investigation\", \"io\", \"iphone\", \"iraq\", \"iraq\", \"iraq\", \"iraqi\", \"isi\", \"isi\", \"isi\", \"isi\", \"isi\", \"isi\", \"isi\", \"isi\", \"isi\", \"isil\", \"isil\", \"isil\", \"isil\", \"islamic\", \"islamic\", \"islamic\", \"islamist\", \"islamist\", \"island\", \"israeli\", \"israeli\", \"issue\", \"issue\", \"italy\", \"jabhat\", \"james\", \"james\", \"jan\", \"jeh\", \"jess\", \"jetliner\", \"jihadi\", \"job\", \"john\", \"johnson\", \"jong\", \"jordan\", \"jordan\", \"jose\", \"journalist\", \"jumper\", \"justice\", \"justice\", \"kansa\", \"kayla\", \"kc\", \"kenya\", \"kevin\", \"kfc\", \"kfc\", \"kidnapped\", \"kidnapped\", \"kidnapped\", \"kill\", \"kill\", \"killed\", \"killed\", \"killed\", \"killed\", \"killed\", \"killer\", \"killer\", \"killing\", \"kim\", \"king\", \"king\", \"kobane\", \"korea\", \"korean\", \"kurd\", \"kurd\", \"kurd\", \"land\", \"late\", \"launch\", \"launch\", \"launching\", \"law\", \"lawmaker\", \"leader\", \"leader\", \"leader\", \"leader\", \"leader\", \"leaf\", \"least\", \"least\", \"lebanon\", \"led\", \"lego\", \"letter\", \"letter\", \"libya\", \"libyan\", \"license\", \"life\", \"life\", \"life\", \"life\", \"life\", \"like\", \"like\", \"live\", \"live\", \"london\", \"london\", \"london\", \"londoner\", \"look\", \"look\", \"love\", \"love\", \"luke\", \"lynch\", \"macaulay\", \"macaulay\", \"macbook\", \"made\", \"made\", \"made\", \"made\", \"magic\", \"magneto\", \"main\", \"majed\", \"man\", \"man\", \"man\", \"man\", \"man\", \"man\", \"man\", \"man\", \"man\", \"managua\", \"march\", \"marijuana\", \"marijuana\", \"marine\", \"market\", \"married\", \"mass\", \"massive\", \"matt\", \"may\", \"may\", \"may\", \"may\", \"may\", \"may\", \"may\", \"may\", \"may\", \"may\", \"meant\", \"meat\", \"medical\", \"medium\", \"medium\", \"medium\", \"medium\", \"medium\", \"medium\", \"meet\", \"memorial\", \"message\", \"message\", \"message\", \"met\", \"metal\", \"meteorite\", \"meteorologist\", \"mexican\", \"mexico\", \"michael\", \"michael\", \"michael\", \"michael\", \"michael\", \"michelle\", \"microsoft\", \"mike\", \"militant\", \"militant\", \"militant\", \"militant\", \"militant\", \"militant\", \"militant\", \"millan\", \"million\", \"million\", \"million\", \"minute\", \"minute\", \"missing\", \"missing\", \"missing\", \"missing\", \"missing\", \"missing\", \"mob\", \"mob\", \"mob\", \"mohammed\", \"moment\", \"moment\", \"moment\", \"month\", \"month\", \"mortgage\", \"mosul\", \"mosul\", \"motorcade\", \"mourn\", \"movie\", \"movie\", \"movie\", \"mp\", \"much\", \"mueller\", \"mum\", \"murder\", \"murdered\", \"murdered\", \"mushroom\", \"named\", \"nasa\", \"nasa\", \"near\", \"near\", \"near\", \"near\", \"need\", \"new\", \"new\", \"new\", \"new\", \"new\", \"new\", \"new\", \"new\", \"new\", \"newly\", \"news\", \"news\", \"news\", \"news\", \"news\", \"news\", \"news\", \"news\", \"next\", \"nicaragua\", \"nicaraguan\", \"nigeria\", \"nigerian\", \"north\", \"nun\", \"obama\", \"obama\", \"obama\", \"obama\", \"obama\", \"occupational\", \"office\", \"office\", \"officer\", \"oh\", \"oldest\", \"one\", \"one\", \"one\", \"one\", \"open\", \"open\", \"open\", \"open\", \"opening\", \"ordered\", \"ottawa\", \"ottawa\", \"outlet\", \"paid\", \"pain\", \"paint\", \"palace\", \"panel\", \"paradise\", \"parent\", \"parent\", \"parent\", \"parliament\", \"parliament\", \"parliament\", \"past\", \"patrol\", \"paul\", \"pause\", \"pay\", \"peeing\", \"penis\", \"penis\", \"penis\", \"pentagon\", \"pentagon\", \"people\", \"people\", \"per\", \"personally\", \"pet\", \"pet\", \"pga\", \"phelps\", \"phelps\", \"photo\", \"photo\", \"photo\", \"photo\", \"photo\", \"photo\", \"photo\", \"photojournalist\", \"photojournalist\", \"pilot\", \"pizza\", \"place\", \"plane\", \"plane\", \"plane\", \"planetary\", \"planning\", \"plant\", \"platinum\", \"play\", \"play\", \"plumber\", \"politician\", \"poop\", \"pooped\", \"pope\", \"possession\", \"post\", \"post\", \"pot\", \"pound\", \"power\", \"powerful\", \"predator\", \"pregnant\", \"pregnant\", \"president\", \"previously\", \"price\", \"priced\", \"pricing\", \"priest\", \"private\", \"probing\", \"problem\", \"problem\", \"pumpkin\", \"pumpkin\", \"purport\", \"put\", \"putin\", \"quarantined\", \"question\", \"railway\", \"raise\", \"raise\", \"rajasthan\", \"ran\", \"rape\", \"rape\", \"rapist\", \"rapper\", \"rapper\", \"rat\", \"real\", \"real\", \"real\", \"real\", \"really\", \"record\", \"recording\", \"recording\", \"red\", \"redwood\", \"refuse\", \"release\", \"release\", \"release\", \"release\", \"released\", \"released\", \"remembered\", \"rep\", \"report\", \"report\", \"report\", \"report\", \"report\", \"report\", \"report\", \"report\", \"report\", \"report\", \"report\", \"report\", \"reported\", \"reported\", \"reportedly\", \"reportedly\", \"reportedly\", \"reportedly\", \"reportedly\", \"reportedly\", \"reportedly\", \"reportedly\", \"reportedly\", \"reportedly\", \"reportedly\", \"rescue\", \"rescue\", \"restaurant\", \"restaurant\", \"retina\", \"return\", \"return\", \"revealed\", \"reveals\", \"reveals\", \"reveals\", \"reveals\", \"ripping\", \"rise\", \"robert\", \"robot\", \"rogen\", \"room\", \"rose\", \"rose\", \"rosenberg\", \"rudd\", \"rumor\", \"rumor\", \"rumor\", \"rumor\", \"rumor\", \"rumor\", \"running\", \"russian\", \"sacked\", \"sadly\", \"sale\", \"sale\", \"saudi\", \"saudi\", \"saved\", \"saving\", \"say\", \"say\", \"say\", \"say\", \"say\", \"say\", \"say\", \"say\", \"say\", \"say\", \"say\", \"say\", \"say\", \"say\", \"scar\", \"scare\", \"school\", \"school\", \"school\", \"schoolgirl\", \"scotland\", \"scottish\", \"secret\", \"secret\", \"secure\", \"security\", \"security\", \"seen\", \"seidel\", \"seize\", \"seized\", \"seized\", \"selling\", \"senior\", \"sergeant\", \"service\", \"service\", \"service\", \"service\", \"set\", \"set\", \"set\", \"set\", \"seth\", \"seven\", \"sex\", \"sex\", \"shabab\", \"shane\", \"sharia\", \"shocker\", \"shoot\", \"shooter\", \"shooting\", \"shooting\", \"shooting\", \"shooting\", \"shopper\", \"shot\", \"shot\", \"shot\", \"shot\", \"shot\", \"show\", \"show\", \"show\", \"show\", \"show\", \"showing\", \"showing\", \"sick\", \"sign\", \"silicon\", \"sister\", \"sister\", \"sister\", \"site\", \"site\", \"six\", \"size\", \"skin\", \"skipped\", \"slain\", \"slap\", \"small\", \"smartwatch\", \"snake\", \"sneezing\", \"sniper\", \"snowman\", \"snyder\", \"soldier\", \"soldier\", \"soldier\", \"soldier\", \"solved\", \"somali\", \"somalia\", \"somers\", \"son\", \"son\", \"son\", \"son\", \"son\", \"sony\", \"soon\", \"source\", \"source\", \"source\", \"source\", \"southern\", \"spice\", \"spice\", \"spider\", \"spider\", \"spotted\", \"stainless\", \"star\", \"star\", \"star\", \"star\", \"start\", \"state\", \"state\", \"state\", \"state\", \"state\", \"state\", \"station\", \"steel\", \"steel\", \"steve\", \"still\", \"still\", \"stock\", \"stock\", \"stolen\", \"stolen\", \"stomach\", \"stomach\", \"stopped\", \"strike\", \"strike\", \"struck\", \"student\", \"student\", \"student\", \"style\", \"suffering\", \"sugarhill\", \"suggests\", \"suitcase\", \"summer\", \"sun\", \"superman\", \"surfaced\", \"surgery\", \"surgery\", \"survives\", \"suspect\", \"suspect\", \"suspected\", \"suspected\", \"suspected\", \"suspended\", \"suspension\", \"swedish\", \"sweep\", \"syria\", \"syria\", \"syria\", \"syria\", \"syria\", \"syria\", \"taibbi\", \"take\", \"take\", \"take\", \"take\", \"taliban\", \"taliban\", \"taliban\", \"talk\", \"talk\", \"talking\", \"tape\", \"teacher\", \"tear\", \"teen\", \"teen\", \"teenager\", \"teletubbies\", \"teletubbies\", \"tell\", \"tell\", \"tell\", \"tell\", \"ten\", \"terror\", \"terror\", \"terror\", \"terror\", \"terror\", \"terror\", \"terrorist\", \"terrorist\", \"terrorist\", \"test\", \"test\", \"testicle\", \"texas\", \"texas\", \"thing\", \"thinner\", \"threat\", \"ticket\", \"tiger\", \"time\", \"time\", \"time\", \"time\", \"time\", \"tip\", \"tireless\", \"tom\", \"tonight\", \"total\", \"tour\", \"tour\", \"tourist\", \"town\", \"toy\", \"trade\", \"training\", \"treated\", \"tribunal\", \"tried\", \"tried\", \"trip\", \"trip\", \"tripoli\", \"tropical\", \"truce\", \"truck\", \"true\", \"turkey\", \"turn\", \"turn\", \"tv\", \"tv\", \"tv\", \"tweet\", \"twin\", \"twitter\", \"u\", \"u\", \"u\", \"u\", \"u\", \"u\", \"u\", \"u\", \"uk\", \"un\", \"unconfirmed\", \"undergoes\", \"unearthed\", \"united\", \"university\", \"untrue\", \"upcoming\", \"urgent\", \"urinating\", \"us\", \"user\", \"user\", \"using\", \"v\", \"valley\", \"vandal\", \"variant\", \"vega\", \"vega\", \"veyron\", \"via\", \"vice\", \"vickers\", \"victim\", \"victim\", \"victim\", \"video\", \"video\", \"video\", \"video\", \"video\", \"video\", \"video\", \"video\", \"video\", \"villa\", \"violence\", \"violence\", \"violence\", \"viral\", \"viral\", \"viral\", \"viral\", \"virus\", \"virus\", \"virus\", \"vladimir\", \"vogue\", \"volley\", \"want\", \"want\", \"war\", \"war\", \"watch\", \"watch\", \"watch\", \"watch\", \"way\", \"weapon\", \"weapon\", \"weapon\", \"weatherman\", \"website\", \"week\", \"week\", \"west\", \"west\", \"western\", \"whisperer\", \"white\", \"wife\", \"williams\", \"williams\", \"wine\", \"wintour\", \"woman\", \"woman\", \"woman\", \"woman\", \"wood\", \"wood\", \"work\", \"work\", \"worker\", \"worker\", \"worker\", \"working\", \"world\", \"world\", \"world\", \"world\", \"world\", \"world\", \"woz\", \"wozniak\", \"wright\", \"year\", \"year\", \"year\", \"year\", \"year\", \"year\", \"year\", \"yemen\", \"yo\", \"york\", \"york\", \"young\", \"young\", \"youngest\", \"ypg\", \"zack\", \"zehaf\", \"zeppelin\"]}, \"R\": 30, \"lambda.step\": 0.01, \"plot.opts\": {\"xlab\": \"PC1\", \"ylab\": \"PC2\"}, \"topic.order\": [6, 4, 8, 14, 15, 10, 18, 13, 17, 2, 9, 19, 20, 1, 16, 12, 3, 5, 11, 7]};\n",
       "\n",
       "function LDAvis_load_lib(url, callback){\n",
       "  var s = document.createElement('script');\n",
       "  s.src = url;\n",
       "  s.async = true;\n",
       "  s.onreadystatechange = s.onload = callback;\n",
       "  s.onerror = function(){console.warn(\"failed to load library \" + url);};\n",
       "  document.getElementsByTagName(\"head\")[0].appendChild(s);\n",
       "}\n",
       "\n",
       "if(typeof(LDAvis) !== \"undefined\"){\n",
       "   // already loaded: just create the visualization\n",
       "   !function(LDAvis){\n",
       "       new LDAvis(\"#\" + \"ldavis_el20131127076035761514428535\", ldavis_el20131127076035761514428535_data);\n",
       "   }(LDAvis);\n",
       "}else if(typeof define === \"function\" && define.amd){\n",
       "   // require.js is available: use it to load d3/LDAvis\n",
       "   require.config({paths: {d3: \"https://cdnjs.cloudflare.com/ajax/libs/d3/3.5.5/d3.min\"}});\n",
       "   require([\"d3\"], function(d3){\n",
       "      window.d3 = d3;\n",
       "      LDAvis_load_lib(\"https://cdn.rawgit.com/bmabey/pyLDAvis/files/ldavis.v1.0.0.js\", function(){\n",
       "        new LDAvis(\"#\" + \"ldavis_el20131127076035761514428535\", ldavis_el20131127076035761514428535_data);\n",
       "      });\n",
       "    });\n",
       "}else{\n",
       "    // require.js not available: dynamically load d3 & LDAvis\n",
       "    LDAvis_load_lib(\"https://cdnjs.cloudflare.com/ajax/libs/d3/3.5.5/d3.min.js\", function(){\n",
       "         LDAvis_load_lib(\"https://cdn.rawgit.com/bmabey/pyLDAvis/files/ldavis.v1.0.0.js\", function(){\n",
       "                 new LDAvis(\"#\" + \"ldavis_el20131127076035761514428535\", ldavis_el20131127076035761514428535_data);\n",
       "            })\n",
       "         });\n",
       "}\n",
       "</script>"
      ],
      "text/plain": [
       "PreparedData(topic_coordinates=           Freq  cluster  topics         x         y\n",
       "topic                                               \n",
       "5      8.492370        1       1  0.081719 -0.226920\n",
       "3      7.642462        1       2 -0.257230  0.086397\n",
       "7      7.177767        1       3 -0.197424 -0.049666\n",
       "13     5.634567        1       4  0.085241 -0.120624\n",
       "14     5.340482        1       5  0.125922  0.078203\n",
       "9      5.281558        1       6  0.015138  0.097008\n",
       "17     5.239816        1       7  0.128605 -0.011263\n",
       "12     5.217289        1       8 -0.147724 -0.042734\n",
       "16     5.037133        1       9 -0.212015 -0.029404\n",
       "1      5.035282        1      10  0.083282  0.065697\n",
       "8      4.727080        1      11 -0.112678 -0.083775\n",
       "18     4.586326        1      12 -0.019646  0.051880\n",
       "19     4.516434        1      13  0.143057  0.215767\n",
       "0      4.096324        1      14  0.142557  0.165844\n",
       "15     4.058270        1      15 -0.143812  0.143320\n",
       "11     4.030931        1      16  0.084750  0.055761\n",
       "2      4.022765        1      17  0.120109 -0.178751\n",
       "4      3.684993        1      18  0.065300  0.013138\n",
       "10     3.231408        1      19 -0.132475 -0.074313\n",
       "6      2.946738        1      20  0.147324 -0.155566, topic_info=     Category         Freq           Term        Total  loglift  logprob\n",
       "term                                                                    \n",
       "69    Default  7149.000000            isi  7149.000000  30.0000  30.0000\n",
       "432   Default  2538.000000     journalist  2538.000000  29.0000  29.0000\n",
       "436   Default  2266.000000            kim  2266.000000  28.0000  28.0000\n",
       "430   Default  2923.000000          foley  2923.000000  27.0000  27.0000\n",
       "435   Default  2075.000000           jong  2075.000000  26.0000  26.0000\n",
       "431   Default  2679.000000          james  2679.000000  25.0000  25.0000\n",
       "14    Default  2765.000000          apple  2765.000000  24.0000  24.0000\n",
       "18    Default  1758.000000          steve  1758.000000  23.0000  23.0000\n",
       "80    Default  2188.000000          watch  2188.000000  22.0000  22.0000\n",
       "73    Default  3819.000000              u  3819.000000  21.0000  21.0000\n",
       "37    Default  1649.000000            job  1649.000000  20.0000  20.0000\n",
       "468   Default  2095.000000          haram  2095.000000  19.0000  19.0000\n",
       "465   Default  2095.000000           boko  2095.000000  18.0000  18.0000\n",
       "437   Default  1759.000000             un  1759.000000  17.0000  17.0000\n",
       "217   Default  2755.000000        islamic  2755.000000  16.0000  16.0000\n",
       "505   Default  2067.000000          brown  2067.000000  15.0000  15.0000\n",
       "504   Default  1975.000000          audio  1975.000000  14.0000  14.0000\n",
       "428   Default  2060.000000       american  2060.000000  13.0000  13.0000\n",
       "56    Default  2561.000000        michael  2561.000000  12.0000  12.0000\n",
       "98    Default  1173.000000      christian  1173.000000  11.0000  11.0000\n",
       "97    Default  1173.000000           bale  1173.000000  10.0000  10.0000\n",
       "264   Default  2040.000000          ebola  2040.000000   9.0000   9.0000\n",
       "221   Default  2618.000000          state  2618.000000   8.0000   8.0000\n",
       "15    Default  1247.000000           play  1247.000000   7.0000   7.0000\n",
       "71    Default  1596.000000         killed  1596.000000   6.0000   6.0000\n",
       "348   Default  1068.000000      meteorite  1068.000000   5.0000   5.0000\n",
       "292   Default  3762.000000         report  3762.000000   4.0000   4.0000\n",
       "94    Default  2093.000000         leader  2093.000000   3.0000   3.0000\n",
       "467   Default  1543.000000           girl  1543.000000   2.0000   2.0000\n",
       "452   Default  2927.000000          video  2927.000000   1.0000   1.0000\n",
       "...       ...          ...            ...          ...      ...      ...\n",
       "1727  Topic20    77.613846           room    78.554367   3.5124  -5.0915\n",
       "2009  Topic20    75.558052        confirm    76.498573   3.5121  -5.1183\n",
       "210   Topic20    70.445366         refuse    71.385887   3.5112  -5.1884\n",
       "1945  Topic20    62.911098         eleven    63.851620   3.5096  -5.3015\n",
       "1946  Topic20    62.911098          final    63.851620   3.5096  -5.3015\n",
       "1951  Topic20    62.911098         volley    63.851620   3.5096  -5.3015\n",
       "1985  Topic20    62.280403  authenticated    63.220924   3.5095  -5.3116\n",
       "1112  Topic20    60.722469       business    61.662991   3.5091  -5.3369\n",
       "1114  Topic20    60.722469        license    61.662991   3.5091  -5.3369\n",
       "1115  Topic20    60.722469   occupational    61.662991   3.5091  -5.3369\n",
       "1725  Topic20   139.506134            pet   156.853348   3.4073  -4.5051\n",
       "1984  Topic20   319.725494            app   408.883423   3.2785  -3.6758\n",
       "93    Topic20   237.634109           kill   323.598022   3.2157  -3.9725\n",
       "1242  Topic20   115.135017   accidentally   144.871826   3.2947  -4.6971\n",
       "356   Topic20   126.459984           good   169.969543   3.2288  -4.6033\n",
       "1494  Topic20   130.101425           vega   196.941422   3.1099  -4.5749\n",
       "1110  Topic20   191.443726         moment   374.789612   2.8527  -4.1886\n",
       "358   Topic20   180.171463            one   372.610901   2.7978  -4.2493\n",
       "1728  Topic20   134.847107           tell   223.187302   3.0206  -4.5391\n",
       "292   Topic20   456.148560         report  3762.383789   1.4145  -3.3204\n",
       "568   Topic20   287.126953           shot  1473.138916   1.8892  -3.7833\n",
       "692   Topic20   264.608185           hoax  1294.871460   1.9366  -3.8650\n",
       "1063  Topic20   154.042648      marijuana   433.262451   2.4904  -4.4060\n",
       "56    Topic20   251.286575        michael  2561.692871   1.2026  -3.9166\n",
       "504   Topic20   219.143967          audio  1975.625244   1.3256  -4.0535\n",
       "505   Topic20   216.941330          brown  2067.845215   1.2698  -4.0636\n",
       "71    Topic20   199.585037         killed  1596.910889   1.4449  -4.1470\n",
       "511   Topic20   129.712616            kfc   318.023682   2.6277  -4.5779\n",
       "488   Topic20   141.466171         caught   978.829834   1.5902  -4.4912\n",
       "415   Topic20   129.823746            boy   636.415710   1.9348  -4.5771\n",
       "\n",
       "[1023 rows x 6 columns], token_table=      Topic      Freq      Term\n",
       "term                           \n",
       "74        5  0.450207       000\n",
       "74        7  0.039567       000\n",
       "74       18  0.509022       000\n",
       "733       6  0.648913         1\n",
       "733      10  0.194400         1\n",
       "733      19  0.153330         1\n",
       "75        3  0.147816        10\n",
       "75        5  0.206507        10\n",
       "75        8  0.497791        10\n",
       "75       15  0.145642        10\n",
       "239       7  0.078891       100\n",
       "239      10  0.523548       100\n",
       "239      12  0.186469       100\n",
       "239      18  0.209778       100\n",
       "618       1  0.179800        11\n",
       "618       5  0.751761        11\n",
       "618      19  0.067956        11\n",
       "453      13  0.998515        12\n",
       "2163     11  0.990935        13\n",
       "1891     11  0.997211        14\n",
       "943      16  0.984641        16\n",
       "1436      6  0.828383        19\n",
       "1436     10  0.170672        19\n",
       "1540     10  0.992703     1970s\n",
       "666       2  0.995134      2012\n",
       "837       7  0.997530      2014\n",
       "723       6  0.112035      2015\n",
       "723      10  0.395235      2015\n",
       "723      15  0.491709      2015\n",
       "140       8  0.986500        26\n",
       "...     ...       ...       ...\n",
       "644      15  0.573150    worker\n",
       "644      16  0.186274    worker\n",
       "1799      6  0.988976   working\n",
       "279       4  0.340492     world\n",
       "279      10  0.108743     world\n",
       "279      12  0.155093     world\n",
       "279      13  0.123005     world\n",
       "279      15  0.201443     world\n",
       "279      17  0.067742     world\n",
       "43        5  0.993110       woz\n",
       "19       14  0.996516   wozniak\n",
       "433       2  0.999480    wright\n",
       "280       3  0.049798      year\n",
       "280       6  0.082225      year\n",
       "280      10  0.287209      year\n",
       "280      12  0.425023      year\n",
       "280      16  0.048640      year\n",
       "280      17  0.085700      year\n",
       "280      20  0.020846      year\n",
       "674       9  0.995978     yemen\n",
       "1129      4  0.995777        yo\n",
       "1288     10  0.095656      york\n",
       "1288     17  0.898332      york\n",
       "182       6  0.851078     young\n",
       "182       8  0.145765     young\n",
       "1713      3  0.994782  youngest\n",
       "2172      3  0.993679       ypg\n",
       "295      12  0.995180      zack\n",
       "613       6  0.996235     zehaf\n",
       "171       1  0.997309  zeppelin\n",
       "\n",
       "[1466 rows x 3 columns], R=30, lambda_step=0.01, plot_opts={'xlab': 'PC1', 'ylab': 'PC2'}, topic_order=[6, 4, 8, 14, 15, 10, 18, 13, 17, 2, 9, 19, 20, 1, 16, 12, 3, 5, 11, 7])"
      ]
     },
     "execution_count": 54,
     "metadata": {},
     "output_type": "execute_result"
    }
   ],
   "source": [
    "pyLDAvis.gensim.prepare(ldamodel, corpus, dictionary)"
   ]
  },
  {
   "cell_type": "markdown",
   "metadata": {},
   "source": [
    "### preprocessing for Latent Semantic Analysis"
   ]
  },
  {
   "cell_type": "code",
   "execution_count": 55,
   "metadata": {},
   "outputs": [],
   "source": [
    "import re"
   ]
  },
  {
   "cell_type": "code",
   "execution_count": 56,
   "metadata": {},
   "outputs": [
    {
     "name": "stderr",
     "output_type": "stream",
     "text": [
      "<input>:6: DeprecationWarning: invalid escape sequence \\d\n",
      "<input>:6: DeprecationWarning: invalid escape sequence \\d\n",
      "<input>:6: DeprecationWarning: invalid escape sequence \\d\n",
      "<ipython-input-56-6de38bea8180>:6: DeprecationWarning: invalid escape sequence \\d\n",
      "  text = re.sub('[\\d]','',text)\n"
     ]
    }
   ],
   "source": [
    "def cleaner(text):\n",
    "    text = re.sub('&#39;','',text).lower()\n",
    "    text = re.sub('<br />','',text)\n",
    "    text = re.sub('<.*>.*</.*>','', text)\n",
    "    text = re.sub('\\\\ufeff', '', text)\n",
    "    text = re.sub('[\\d]','',text)\n",
    "    text = re.sub('[^a-z ]','',text)\n",
    "    \n",
    "    return text"
   ]
  },
  {
   "cell_type": "code",
   "execution_count": 57,
   "metadata": {},
   "outputs": [],
   "source": [
    "df_all['articleBody'] = df_all['articleBody'].map(str)\n",
    "df_all['articleBody'] = df_all['articleBody'].apply(cleaner)"
   ]
  },
  {
   "cell_type": "code",
   "execution_count": 58,
   "metadata": {
    "scrolled": true
   },
   "outputs": [
    {
     "data": {
      "text/plain": [
       "'danny boyle is directing the untitled filmseth rogen is being eyed to play apple cofounder steve wozniak in sonys steve jobs biopicdanny boyle is directing the untitled film based on walter isaacsons book and adapted by aaron sorkin which is one of the most anticipated biopics in recent yearsnegotiations have not yet begun and its not even clear if rogen has an official offer but the producers  scott rudin guymon casady and mark gordon  have set their sights on the talent and are in talksof course this may all be for naught as christian bale the actor who is to play jobs is still in the midst of closing his deal sources say that dealmaking process is in a sensitive stageinsiders say boyle will is flying to los angeles to meet with actress to play one of the female leads an assistant to jobs insiders say that jessica chastain is one of the actresses on the meeting listwozniak known as woz cofounded apple with jobs and ronald wayne he first met jobs when they worked at atari and later was responsible for creating the early apple computers'"
      ]
     },
     "execution_count": 58,
     "metadata": {},
     "output_type": "execute_result"
    }
   ],
   "source": [
    "df_all['articleBody'].iloc[1]"
   ]
  },
  {
   "cell_type": "code",
   "execution_count": 59,
   "metadata": {},
   "outputs": [],
   "source": [
    "df_all['Headline'] = df_all['Headline'].map(str)\n",
    "df_all['Headline'] = df_all['Headline'].apply(cleaner)"
   ]
  },
  {
   "cell_type": "markdown",
   "metadata": {},
   "source": [
    "### tfidf vectorizer"
   ]
  },
  {
   "cell_type": "code",
   "execution_count": null,
   "metadata": {},
   "outputs": [],
   "source": [
    "tfidf_vector = TfidfVectorizer(min_df = 5, stop_words='english')\n",
    "\n",
    "articleBody_matrix_sparse = tfidf_vector.fit_transform(df_all['articleBody'])\n",
    "articleBody_matrix_sparse"
   ]
  },
  {
   "cell_type": "code",
   "execution_count": 62,
   "metadata": {},
   "outputs": [],
   "source": [
    "articleBody_df_tfdf = pd.DataFrame(articleBody_matrix_sparse.toarray(),\n",
    "                                 index = df_all.index,\n",
    "                                 columns = tfidf_vector.get_feature_names())"
   ]
  },
  {
   "cell_type": "code",
   "execution_count": 63,
   "metadata": {
    "scrolled": false
   },
   "outputs": [
    {
     "data": {
      "text/html": [
       "<div>\n",
       "<style scoped>\n",
       "    .dataframe tbody tr th:only-of-type {\n",
       "        vertical-align: middle;\n",
       "    }\n",
       "\n",
       "    .dataframe tbody tr th {\n",
       "        vertical-align: top;\n",
       "    }\n",
       "\n",
       "    .dataframe thead th {\n",
       "        text-align: right;\n",
       "    }\n",
       "</style>\n",
       "<table border=\"1\" class=\"dataframe\">\n",
       "  <thead>\n",
       "    <tr style=\"text-align: right;\">\n",
       "      <th></th>\n",
       "      <th>aafia</th>\n",
       "      <th>aamaq</th>\n",
       "      <th>aamir</th>\n",
       "      <th>aan</th>\n",
       "      <th>aapl</th>\n",
       "      <th>aaron</th>\n",
       "      <th>aback</th>\n",
       "      <th>abadam</th>\n",
       "      <th>abadi</th>\n",
       "      <th>abagnale</th>\n",
       "      <th>...</th>\n",
       "      <th>zobl</th>\n",
       "      <th>zone</th>\n",
       "      <th>zoneclick</th>\n",
       "      <th>zones</th>\n",
       "      <th>zonethis</th>\n",
       "      <th>zoning</th>\n",
       "      <th>zoology</th>\n",
       "      <th>zubeyr</th>\n",
       "      <th>zuckerberg</th>\n",
       "      <th>zulu</th>\n",
       "    </tr>\n",
       "  </thead>\n",
       "  <tbody>\n",
       "    <tr>\n",
       "      <th>0</th>\n",
       "      <td>0.0</td>\n",
       "      <td>0.0</td>\n",
       "      <td>0.0</td>\n",
       "      <td>0.0</td>\n",
       "      <td>0.0</td>\n",
       "      <td>0.073827</td>\n",
       "      <td>0.0</td>\n",
       "      <td>0.0</td>\n",
       "      <td>0.0</td>\n",
       "      <td>0.0</td>\n",
       "      <td>...</td>\n",
       "      <td>0.0</td>\n",
       "      <td>0.0</td>\n",
       "      <td>0.0</td>\n",
       "      <td>0.0</td>\n",
       "      <td>0.0</td>\n",
       "      <td>0.0</td>\n",
       "      <td>0.0</td>\n",
       "      <td>0.0</td>\n",
       "      <td>0.0</td>\n",
       "      <td>0.0</td>\n",
       "    </tr>\n",
       "    <tr>\n",
       "      <th>1</th>\n",
       "      <td>0.0</td>\n",
       "      <td>0.0</td>\n",
       "      <td>0.0</td>\n",
       "      <td>0.0</td>\n",
       "      <td>0.0</td>\n",
       "      <td>0.073827</td>\n",
       "      <td>0.0</td>\n",
       "      <td>0.0</td>\n",
       "      <td>0.0</td>\n",
       "      <td>0.0</td>\n",
       "      <td>...</td>\n",
       "      <td>0.0</td>\n",
       "      <td>0.0</td>\n",
       "      <td>0.0</td>\n",
       "      <td>0.0</td>\n",
       "      <td>0.0</td>\n",
       "      <td>0.0</td>\n",
       "      <td>0.0</td>\n",
       "      <td>0.0</td>\n",
       "      <td>0.0</td>\n",
       "      <td>0.0</td>\n",
       "    </tr>\n",
       "    <tr>\n",
       "      <th>2</th>\n",
       "      <td>0.0</td>\n",
       "      <td>0.0</td>\n",
       "      <td>0.0</td>\n",
       "      <td>0.0</td>\n",
       "      <td>0.0</td>\n",
       "      <td>0.073827</td>\n",
       "      <td>0.0</td>\n",
       "      <td>0.0</td>\n",
       "      <td>0.0</td>\n",
       "      <td>0.0</td>\n",
       "      <td>...</td>\n",
       "      <td>0.0</td>\n",
       "      <td>0.0</td>\n",
       "      <td>0.0</td>\n",
       "      <td>0.0</td>\n",
       "      <td>0.0</td>\n",
       "      <td>0.0</td>\n",
       "      <td>0.0</td>\n",
       "      <td>0.0</td>\n",
       "      <td>0.0</td>\n",
       "      <td>0.0</td>\n",
       "    </tr>\n",
       "    <tr>\n",
       "      <th>3</th>\n",
       "      <td>0.0</td>\n",
       "      <td>0.0</td>\n",
       "      <td>0.0</td>\n",
       "      <td>0.0</td>\n",
       "      <td>0.0</td>\n",
       "      <td>0.073827</td>\n",
       "      <td>0.0</td>\n",
       "      <td>0.0</td>\n",
       "      <td>0.0</td>\n",
       "      <td>0.0</td>\n",
       "      <td>...</td>\n",
       "      <td>0.0</td>\n",
       "      <td>0.0</td>\n",
       "      <td>0.0</td>\n",
       "      <td>0.0</td>\n",
       "      <td>0.0</td>\n",
       "      <td>0.0</td>\n",
       "      <td>0.0</td>\n",
       "      <td>0.0</td>\n",
       "      <td>0.0</td>\n",
       "      <td>0.0</td>\n",
       "    </tr>\n",
       "    <tr>\n",
       "      <th>4</th>\n",
       "      <td>0.0</td>\n",
       "      <td>0.0</td>\n",
       "      <td>0.0</td>\n",
       "      <td>0.0</td>\n",
       "      <td>0.0</td>\n",
       "      <td>0.073827</td>\n",
       "      <td>0.0</td>\n",
       "      <td>0.0</td>\n",
       "      <td>0.0</td>\n",
       "      <td>0.0</td>\n",
       "      <td>...</td>\n",
       "      <td>0.0</td>\n",
       "      <td>0.0</td>\n",
       "      <td>0.0</td>\n",
       "      <td>0.0</td>\n",
       "      <td>0.0</td>\n",
       "      <td>0.0</td>\n",
       "      <td>0.0</td>\n",
       "      <td>0.0</td>\n",
       "      <td>0.0</td>\n",
       "      <td>0.0</td>\n",
       "    </tr>\n",
       "  </tbody>\n",
       "</table>\n",
       "<p>5 rows × 34009 columns</p>\n",
       "</div>"
      ],
      "text/plain": [
       "   aafia  aamaq  aamir  aan  aapl     aaron  aback  abadam  abadi  abagnale  \\\n",
       "0    0.0    0.0    0.0  0.0   0.0  0.073827    0.0     0.0    0.0       0.0   \n",
       "1    0.0    0.0    0.0  0.0   0.0  0.073827    0.0     0.0    0.0       0.0   \n",
       "2    0.0    0.0    0.0  0.0   0.0  0.073827    0.0     0.0    0.0       0.0   \n",
       "3    0.0    0.0    0.0  0.0   0.0  0.073827    0.0     0.0    0.0       0.0   \n",
       "4    0.0    0.0    0.0  0.0   0.0  0.073827    0.0     0.0    0.0       0.0   \n",
       "\n",
       "   ...   zobl  zone  zoneclick  zones  zonethis  zoning  zoology  zubeyr  \\\n",
       "0  ...    0.0   0.0        0.0    0.0       0.0     0.0      0.0     0.0   \n",
       "1  ...    0.0   0.0        0.0    0.0       0.0     0.0      0.0     0.0   \n",
       "2  ...    0.0   0.0        0.0    0.0       0.0     0.0      0.0     0.0   \n",
       "3  ...    0.0   0.0        0.0    0.0       0.0     0.0      0.0     0.0   \n",
       "4  ...    0.0   0.0        0.0    0.0       0.0     0.0      0.0     0.0   \n",
       "\n",
       "   zuckerberg  zulu  \n",
       "0         0.0   0.0  \n",
       "1         0.0   0.0  \n",
       "2         0.0   0.0  \n",
       "3         0.0   0.0  \n",
       "4         0.0   0.0  \n",
       "\n",
       "[5 rows x 34009 columns]"
      ]
     },
     "execution_count": 63,
     "metadata": {},
     "output_type": "execute_result"
    }
   ],
   "source": [
    "articleBody_df_tfdf.head()"
   ]
  },
  {
   "cell_type": "code",
   "execution_count": 64,
   "metadata": {},
   "outputs": [
    {
     "data": {
      "text/plain": [
       "<49972x2736 sparse matrix of type '<class 'numpy.float64'>'\n",
       "\twith 388147 stored elements in Compressed Sparse Row format>"
      ]
     },
     "execution_count": 64,
     "metadata": {},
     "output_type": "execute_result"
    }
   ],
   "source": [
    "headline_matrix_sparse = tfidf_vector.fit_transform(df_all['Headline'])\n",
    "headline_matrix_sparse"
   ]
  },
  {
   "cell_type": "code",
   "execution_count": 65,
   "metadata": {},
   "outputs": [],
   "source": [
    "headline_df_tfdf = pd.DataFrame(headline_matrix_sparse.toarray(),\n",
    "                                 index = df_all.index,\n",
    "                                 columns = tfidf_vector.get_feature_names())"
   ]
  },
  {
   "cell_type": "code",
   "execution_count": 66,
   "metadata": {},
   "outputs": [
    {
     "data": {
      "text/html": [
       "<div>\n",
       "<style scoped>\n",
       "    .dataframe tbody tr th:only-of-type {\n",
       "        vertical-align: middle;\n",
       "    }\n",
       "\n",
       "    .dataframe tbody tr th {\n",
       "        vertical-align: top;\n",
       "    }\n",
       "\n",
       "    .dataframe thead th {\n",
       "        text-align: right;\n",
       "    }\n",
       "</style>\n",
       "<table border=\"1\" class=\"dataframe\">\n",
       "  <thead>\n",
       "    <tr style=\"text-align: right;\">\n",
       "      <th></th>\n",
       "      <th>aaron</th>\n",
       "      <th>abandoned</th>\n",
       "      <th>abdel</th>\n",
       "      <th>abdi</th>\n",
       "      <th>abducted</th>\n",
       "      <th>abducting</th>\n",
       "      <th>abdul</th>\n",
       "      <th>abdullah</th>\n",
       "      <th>abort</th>\n",
       "      <th>aborted</th>\n",
       "      <th>...</th>\n",
       "      <th>younger</th>\n",
       "      <th>youngest</th>\n",
       "      <th>youtube</th>\n",
       "      <th>ypg</th>\n",
       "      <th>yum</th>\n",
       "      <th>zack</th>\n",
       "      <th>zehaf</th>\n",
       "      <th>zeppelin</th>\n",
       "      <th>zero</th>\n",
       "      <th>zhejiang</th>\n",
       "    </tr>\n",
       "  </thead>\n",
       "  <tbody>\n",
       "    <tr>\n",
       "      <th>0</th>\n",
       "      <td>0.0</td>\n",
       "      <td>0.0</td>\n",
       "      <td>0.0</td>\n",
       "      <td>0.0</td>\n",
       "      <td>0.0</td>\n",
       "      <td>0.0</td>\n",
       "      <td>0.0</td>\n",
       "      <td>0.0</td>\n",
       "      <td>0.0</td>\n",
       "      <td>0.0</td>\n",
       "      <td>...</td>\n",
       "      <td>0.0</td>\n",
       "      <td>0.0</td>\n",
       "      <td>0.0</td>\n",
       "      <td>0.0</td>\n",
       "      <td>0.0</td>\n",
       "      <td>0.0</td>\n",
       "      <td>0.0</td>\n",
       "      <td>0.0</td>\n",
       "      <td>0.0</td>\n",
       "      <td>0.0</td>\n",
       "    </tr>\n",
       "    <tr>\n",
       "      <th>1</th>\n",
       "      <td>0.0</td>\n",
       "      <td>0.0</td>\n",
       "      <td>0.0</td>\n",
       "      <td>0.0</td>\n",
       "      <td>0.0</td>\n",
       "      <td>0.0</td>\n",
       "      <td>0.0</td>\n",
       "      <td>0.0</td>\n",
       "      <td>0.0</td>\n",
       "      <td>0.0</td>\n",
       "      <td>...</td>\n",
       "      <td>0.0</td>\n",
       "      <td>0.0</td>\n",
       "      <td>0.0</td>\n",
       "      <td>0.0</td>\n",
       "      <td>0.0</td>\n",
       "      <td>0.0</td>\n",
       "      <td>0.0</td>\n",
       "      <td>0.0</td>\n",
       "      <td>0.0</td>\n",
       "      <td>0.0</td>\n",
       "    </tr>\n",
       "    <tr>\n",
       "      <th>2</th>\n",
       "      <td>0.0</td>\n",
       "      <td>0.0</td>\n",
       "      <td>0.0</td>\n",
       "      <td>0.0</td>\n",
       "      <td>0.0</td>\n",
       "      <td>0.0</td>\n",
       "      <td>0.0</td>\n",
       "      <td>0.0</td>\n",
       "      <td>0.0</td>\n",
       "      <td>0.0</td>\n",
       "      <td>...</td>\n",
       "      <td>0.0</td>\n",
       "      <td>0.0</td>\n",
       "      <td>0.0</td>\n",
       "      <td>0.0</td>\n",
       "      <td>0.0</td>\n",
       "      <td>0.0</td>\n",
       "      <td>0.0</td>\n",
       "      <td>0.0</td>\n",
       "      <td>0.0</td>\n",
       "      <td>0.0</td>\n",
       "    </tr>\n",
       "    <tr>\n",
       "      <th>3</th>\n",
       "      <td>0.0</td>\n",
       "      <td>0.0</td>\n",
       "      <td>0.0</td>\n",
       "      <td>0.0</td>\n",
       "      <td>0.0</td>\n",
       "      <td>0.0</td>\n",
       "      <td>0.0</td>\n",
       "      <td>0.0</td>\n",
       "      <td>0.0</td>\n",
       "      <td>0.0</td>\n",
       "      <td>...</td>\n",
       "      <td>0.0</td>\n",
       "      <td>0.0</td>\n",
       "      <td>0.0</td>\n",
       "      <td>0.0</td>\n",
       "      <td>0.0</td>\n",
       "      <td>0.0</td>\n",
       "      <td>0.0</td>\n",
       "      <td>0.0</td>\n",
       "      <td>0.0</td>\n",
       "      <td>0.0</td>\n",
       "    </tr>\n",
       "    <tr>\n",
       "      <th>4</th>\n",
       "      <td>0.0</td>\n",
       "      <td>0.0</td>\n",
       "      <td>0.0</td>\n",
       "      <td>0.0</td>\n",
       "      <td>0.0</td>\n",
       "      <td>0.0</td>\n",
       "      <td>0.0</td>\n",
       "      <td>0.0</td>\n",
       "      <td>0.0</td>\n",
       "      <td>0.0</td>\n",
       "      <td>...</td>\n",
       "      <td>0.0</td>\n",
       "      <td>0.0</td>\n",
       "      <td>0.0</td>\n",
       "      <td>0.0</td>\n",
       "      <td>0.0</td>\n",
       "      <td>0.0</td>\n",
       "      <td>0.0</td>\n",
       "      <td>0.0</td>\n",
       "      <td>0.0</td>\n",
       "      <td>0.0</td>\n",
       "    </tr>\n",
       "  </tbody>\n",
       "</table>\n",
       "<p>5 rows × 2736 columns</p>\n",
       "</div>"
      ],
      "text/plain": [
       "   aaron  abandoned  abdel  abdi  abducted  abducting  abdul  abdullah  abort  \\\n",
       "0    0.0        0.0    0.0   0.0       0.0        0.0    0.0       0.0    0.0   \n",
       "1    0.0        0.0    0.0   0.0       0.0        0.0    0.0       0.0    0.0   \n",
       "2    0.0        0.0    0.0   0.0       0.0        0.0    0.0       0.0    0.0   \n",
       "3    0.0        0.0    0.0   0.0       0.0        0.0    0.0       0.0    0.0   \n",
       "4    0.0        0.0    0.0   0.0       0.0        0.0    0.0       0.0    0.0   \n",
       "\n",
       "   aborted    ...     younger  youngest  youtube  ypg  yum  zack  zehaf  \\\n",
       "0      0.0    ...         0.0       0.0      0.0  0.0  0.0   0.0    0.0   \n",
       "1      0.0    ...         0.0       0.0      0.0  0.0  0.0   0.0    0.0   \n",
       "2      0.0    ...         0.0       0.0      0.0  0.0  0.0   0.0    0.0   \n",
       "3      0.0    ...         0.0       0.0      0.0  0.0  0.0   0.0    0.0   \n",
       "4      0.0    ...         0.0       0.0      0.0  0.0  0.0   0.0    0.0   \n",
       "\n",
       "   zeppelin  zero  zhejiang  \n",
       "0       0.0   0.0       0.0  \n",
       "1       0.0   0.0       0.0  \n",
       "2       0.0   0.0       0.0  \n",
       "3       0.0   0.0       0.0  \n",
       "4       0.0   0.0       0.0  \n",
       "\n",
       "[5 rows x 2736 columns]"
      ]
     },
     "execution_count": 66,
     "metadata": {},
     "output_type": "execute_result"
    }
   ],
   "source": [
    "headline_df_tfdf.head()"
   ]
  },
  {
   "cell_type": "markdown",
   "metadata": {},
   "source": [
    "## Truncated SVD"
   ]
  },
  {
   "cell_type": "code",
   "execution_count": 67,
   "metadata": {},
   "outputs": [],
   "source": [
    "from sklearn.decomposition import TruncatedSVD"
   ]
  },
  {
   "cell_type": "code",
   "execution_count": 68,
   "metadata": {},
   "outputs": [],
   "source": [
    "n_components = 100\n",
    "SVD = TruncatedSVD(n_components)\n",
    "component_names = [\"component_\"+str(i) for i in range(n_components)]"
   ]
  },
  {
   "cell_type": "code",
   "execution_count": 69,
   "metadata": {},
   "outputs": [],
   "source": [
    "#lsa = TruncatedSVD(n_components=100, n_iter=100)\n",
    "#lsa.fit(articleBody_df_tfdf)"
   ]
  },
  {
   "cell_type": "code",
   "execution_count": 70,
   "metadata": {},
   "outputs": [],
   "source": [
    "#lsa.components_[0]"
   ]
  },
  {
   "cell_type": "code",
   "execution_count": 71,
   "metadata": {},
   "outputs": [],
   "source": [
    "#terms = vectorizer.get_feature_names()\n",
    "#for i, comp in enumerate(lsa.components_):\n",
    "    #termsInComp = zip (terms, comp)\n",
    "    #sortedTerms = sorted(termsInComp, key=lambda X: x[1], reverse = True)[:10]\n",
    "    #print \"Word %d:\" % i\n",
    "    #for term in sortedTerms:\n",
    "        #print term[0]\n",
    "        #print \" \""
   ]
  },
  {
   "cell_type": "code",
   "execution_count": 72,
   "metadata": {
    "scrolled": true
   },
   "outputs": [
    {
     "data": {
      "text/plain": [
       "array([[ 0.0799979 ,  0.18888767, -0.01010505, ...,  0.00212747,\n",
       "        -0.00870781,  0.00280373],\n",
       "       [ 0.0799979 ,  0.18888767, -0.01010505, ...,  0.00212747,\n",
       "        -0.00870781,  0.00280373],\n",
       "       [ 0.0799979 ,  0.18888767, -0.01010505, ...,  0.00212747,\n",
       "        -0.00870781,  0.00280373],\n",
       "       ...,\n",
       "       [ 0.10207265, -0.00686561, -0.00822395, ..., -0.01550385,\n",
       "        -0.0019225 ,  0.01680216],\n",
       "       [ 0.15893976,  0.45728715, -0.05688312, ...,  0.01927547,\n",
       "        -0.004254  ,  0.00634994],\n",
       "       [ 0.16686514,  0.6082468 , -0.09006886, ...,  0.029364  ,\n",
       "         0.03484511,  0.02267684]])"
      ]
     },
     "execution_count": 72,
     "metadata": {},
     "output_type": "execute_result"
    }
   ],
   "source": [
    "articleBody_svd_matrix = SVD.fit_transform(articleBody_df_tfdf)\n",
    "articleBody_svd_matrix"
   ]
  },
  {
   "cell_type": "code",
   "execution_count": 73,
   "metadata": {},
   "outputs": [
    {
     "data": {
      "text/plain": [
       "array([[ 0.01147469,  0.00935677,  0.00474748, ..., -0.00369881,\n",
       "         0.05448288, -0.02057644],\n",
       "       [ 0.00723104,  0.05075069, -0.00227481, ..., -0.00764918,\n",
       "         0.00826136,  0.00722945],\n",
       "       [ 0.01427156,  0.00729176,  0.00614659, ..., -0.01600964,\n",
       "         0.04163895, -0.01642405],\n",
       "       ...,\n",
       "       [ 0.01233551,  0.00230563,  0.00525988, ..., -0.04318453,\n",
       "         0.02646216, -0.0228314 ],\n",
       "       [ 0.01735224,  0.015007  ,  0.00583676, ...,  0.01337244,\n",
       "        -0.03477614, -0.03171191],\n",
       "       [ 0.00979518,  0.01030199,  0.00912633, ..., -0.02772729,\n",
       "        -0.00410629,  0.01735378]])"
      ]
     },
     "execution_count": 73,
     "metadata": {},
     "output_type": "execute_result"
    }
   ],
   "source": [
    "headline_svd_matrix = SVD.fit_transform(headline_df_tfdf)\n",
    "headline_svd_matrix"
   ]
  },
  {
   "cell_type": "code",
   "execution_count": 74,
   "metadata": {},
   "outputs": [
    {
     "data": {
      "text/plain": [
       "(49972, 100)"
      ]
     },
     "execution_count": 74,
     "metadata": {},
     "output_type": "execute_result"
    }
   ],
   "source": [
    "articleBody_svd_matrix.shape"
   ]
  },
  {
   "cell_type": "code",
   "execution_count": 75,
   "metadata": {},
   "outputs": [],
   "source": [
    "#search_term = \"islam\"\n",
    "\n",
    "#use headline to compare to the boody \n",
    "#make a list forbody and article and loop thru each row "
   ]
  },
  {
   "cell_type": "code",
   "execution_count": 76,
   "metadata": {},
   "outputs": [],
   "source": [
    "#search_term_vec = tfidf_vector.transform([search_term])"
   ]
  },
  {
   "cell_type": "code",
   "execution_count": 77,
   "metadata": {},
   "outputs": [],
   "source": [
    "#search_term_svd = SVD.transform(search_term_vec)"
   ]
  },
  {
   "cell_type": "code",
   "execution_count": 410,
   "metadata": {},
   "outputs": [],
   "source": [
    "#search_term_svd"
   ]
  },
  {
   "cell_type": "markdown",
   "metadata": {},
   "source": [
    "## Cosine Similarity"
   ]
  },
  {
   "cell_type": "code",
   "execution_count": 79,
   "metadata": {},
   "outputs": [],
   "source": [
    "cosine_similarities = articleBody_svd_matrix.dot(search_term_svd.T).ravel()\n",
    "#do for 1 row with another row --> feature "
   ]
  },
  {
   "cell_type": "code",
   "execution_count": 80,
   "metadata": {},
   "outputs": [
    {
     "data": {
      "text/plain": [
       "(49972,)"
      ]
     },
     "execution_count": 80,
     "metadata": {},
     "output_type": "execute_result"
    }
   ],
   "source": [
    "cosine_similarities.shape"
   ]
  },
  {
   "cell_type": "code",
   "execution_count": 81,
   "metadata": {},
   "outputs": [
    {
     "data": {
      "text/plain": [
       "array([ 0.00064089,  0.00064089,  0.00064089, ...,  0.00142274,\n",
       "       -0.00079384, -0.00144319])"
      ]
     },
     "execution_count": 81,
     "metadata": {},
     "output_type": "execute_result"
    }
   ],
   "source": [
    "cosine_similarities"
   ]
  },
  {
   "cell_type": "code",
   "execution_count": 82,
   "metadata": {},
   "outputs": [
    {
     "data": {
      "text/plain": [
       "array([10387, 10358, 10350, 10351, 10352])"
      ]
     },
     "execution_count": 82,
     "metadata": {},
     "output_type": "execute_result"
    }
   ],
   "source": [
    "cosine_similarities.argsort()[:-6:-1]"
   ]
  },
  {
   "cell_type": "code",
   "execution_count": 83,
   "metadata": {},
   "outputs": [],
   "source": [
    "cosine_similarities_headline = headline_svd_matrix.dot(search_term_svd.T).ravel()"
   ]
  },
  {
   "cell_type": "code",
   "execution_count": 85,
   "metadata": {},
   "outputs": [],
   "source": [
    "from gensim import corpora, models\n",
    "import pyLDAvis.gensim\n",
    "pyLDAvis.enable_notebook()"
   ]
  },
  {
   "cell_type": "code",
   "execution_count": 86,
   "metadata": {},
   "outputs": [],
   "source": [
    "#from nltk.corpus import stopwords\n",
    "#def split_into_words(documents):\n",
    "    #docs = []\n",
    "    #for doc in documents:\n",
    "        #text_processed = doc.split(' ')\n",
    "        #text_processed = list(filter(lambda a: a != '', text_processed))\n",
    "        #text_processed = [word.lower() for word in text_processed if word.lower() not in stopwords.words('english')]\n",
    "        #docs.append(text_processed)\n",
    "    #return docs"
   ]
  },
  {
   "cell_type": "code",
   "execution_count": 87,
   "metadata": {
    "scrolled": true
   },
   "outputs": [],
   "source": [
    "#texts = split_into_words(df_all['articleBody'])"
   ]
  },
  {
   "cell_type": "markdown",
   "metadata": {},
   "source": [
    "## Cosine Similarity"
   ]
  },
  {
   "cell_type": "code",
   "execution_count": 141,
   "metadata": {},
   "outputs": [],
   "source": [
    "import scipy.spatial as sp"
   ]
  },
  {
   "cell_type": "code",
   "execution_count": 142,
   "metadata": {},
   "outputs": [],
   "source": [
    "#distances = 1 - sp.distance.cdist(articleBody_svd_matrix, headline_svd_matrix, 'cosine')"
   ]
  },
  {
   "cell_type": "code",
   "execution_count": 143,
   "metadata": {},
   "outputs": [],
   "source": [
    "distances = []\n",
    "for i, body in enumerate(articleBody_svd_matrix): \n",
    "    distances.append(sp.distance.cdist([body], [headline_svd_matrix[i]], 'cosine')[0][0])"
   ]
  },
  {
   "cell_type": "code",
   "execution_count": 255,
   "metadata": {},
   "outputs": [],
   "source": [
    "df_all['distances'] = pd.Series(distances)"
   ]
  },
  {
   "cell_type": "code",
   "execution_count": 258,
   "metadata": {},
   "outputs": [
    {
     "data": {
      "text/plain": [
       "(49972, 6)"
      ]
     },
     "execution_count": 258,
     "metadata": {},
     "output_type": "execute_result"
    }
   ],
   "source": [
    "df_all.shape"
   ]
  },
  {
   "cell_type": "code",
   "execution_count": 203,
   "metadata": {
    "scrolled": true
   },
   "outputs": [
    {
     "data": {
      "text/html": [
       "<div>\n",
       "<style scoped>\n",
       "    .dataframe tbody tr th:only-of-type {\n",
       "        vertical-align: middle;\n",
       "    }\n",
       "\n",
       "    .dataframe tbody tr th {\n",
       "        vertical-align: top;\n",
       "    }\n",
       "\n",
       "    .dataframe thead th {\n",
       "        text-align: right;\n",
       "    }\n",
       "</style>\n",
       "<table border=\"1\" class=\"dataframe\">\n",
       "  <thead>\n",
       "    <tr style=\"text-align: right;\">\n",
       "      <th></th>\n",
       "      <th>distances</th>\n",
       "      <th>Unnamed 0</th>\n",
       "    </tr>\n",
       "  </thead>\n",
       "  <tbody>\n",
       "    <tr>\n",
       "      <th>0</th>\n",
       "      <td>0.791488</td>\n",
       "      <td>3.0</td>\n",
       "    </tr>\n",
       "    <tr>\n",
       "      <th>1</th>\n",
       "      <td>0.963682</td>\n",
       "      <td>0.0</td>\n",
       "    </tr>\n",
       "    <tr>\n",
       "      <th>2</th>\n",
       "      <td>0.785113</td>\n",
       "      <td>3.0</td>\n",
       "    </tr>\n",
       "    <tr>\n",
       "      <th>3</th>\n",
       "      <td>0.723416</td>\n",
       "      <td>3.0</td>\n",
       "    </tr>\n",
       "    <tr>\n",
       "      <th>4</th>\n",
       "      <td>0.996359</td>\n",
       "      <td>1.0</td>\n",
       "    </tr>\n",
       "  </tbody>\n",
       "</table>\n",
       "</div>"
      ],
      "text/plain": [
       "   distances  Unnamed 0\n",
       "0   0.791488        3.0\n",
       "1   0.963682        0.0\n",
       "2   0.785113        3.0\n",
       "3   0.723416        3.0\n",
       "4   0.996359        1.0"
      ]
     },
     "execution_count": 203,
     "metadata": {},
     "output_type": "execute_result"
    }
   ],
   "source": [
    "df_fix = pd.DataFrame([df_all['distances'], y_train_label]).T\n",
    "df_fix.head()"
   ]
  },
  {
   "cell_type": "code",
   "execution_count": 257,
   "metadata": {
    "scrolled": true
   },
   "outputs": [
    {
     "data": {
      "text/html": [
       "<div>\n",
       "<style scoped>\n",
       "    .dataframe tbody tr th:only-of-type {\n",
       "        vertical-align: middle;\n",
       "    }\n",
       "\n",
       "    .dataframe tbody tr th {\n",
       "        vertical-align: top;\n",
       "    }\n",
       "\n",
       "    .dataframe thead th {\n",
       "        text-align: right;\n",
       "    }\n",
       "</style>\n",
       "<table border=\"1\" class=\"dataframe\">\n",
       "  <thead>\n",
       "    <tr style=\"text-align: right;\">\n",
       "      <th></th>\n",
       "      <th>distances</th>\n",
       "      <th>Unnamed 0</th>\n",
       "    </tr>\n",
       "  </thead>\n",
       "  <tbody>\n",
       "  </tbody>\n",
       "</table>\n",
       "</div>"
      ],
      "text/plain": [
       "Empty DataFrame\n",
       "Columns: [distances, Unnamed 0]\n",
       "Index: []"
      ]
     },
     "execution_count": 257,
     "metadata": {},
     "output_type": "execute_result"
    }
   ],
   "source": [
    "df_fix[df_fix['distances'].isnull()==True]"
   ]
  },
  {
   "cell_type": "code",
   "execution_count": 220,
   "metadata": {},
   "outputs": [],
   "source": [
    "df_fix = df_fix.dropna(axis=0)"
   ]
  },
  {
   "cell_type": "code",
   "execution_count": 284,
   "metadata": {},
   "outputs": [
    {
     "data": {
      "text/plain": [
       "(49970, 2)"
      ]
     },
     "execution_count": 284,
     "metadata": {},
     "output_type": "execute_result"
    }
   ],
   "source": [
    "df_fix.shape"
   ]
  },
  {
   "cell_type": "code",
   "execution_count": 259,
   "metadata": {
    "scrolled": true
   },
   "outputs": [
    {
     "data": {
      "text/html": [
       "<div>\n",
       "<style scoped>\n",
       "    .dataframe tbody tr th:only-of-type {\n",
       "        vertical-align: middle;\n",
       "    }\n",
       "\n",
       "    .dataframe tbody tr th {\n",
       "        vertical-align: top;\n",
       "    }\n",
       "\n",
       "    .dataframe thead th {\n",
       "        text-align: right;\n",
       "    }\n",
       "</style>\n",
       "<table border=\"1\" class=\"dataframe\">\n",
       "  <thead>\n",
       "    <tr style=\"text-align: right;\">\n",
       "      <th></th>\n",
       "      <th>Headline</th>\n",
       "      <th>Body ID</th>\n",
       "      <th>Stance</th>\n",
       "      <th>articleBody</th>\n",
       "      <th>txt_process</th>\n",
       "      <th>distances</th>\n",
       "    </tr>\n",
       "  </thead>\n",
       "  <tbody>\n",
       "    <tr>\n",
       "      <th>29526</th>\n",
       "      <td>Federal Judge: Enough With the Stupid Names</td>\n",
       "      <td>748</td>\n",
       "      <td>unrelated</td>\n",
       "      <td>Yes, we wished it were true too, but no, Fox N...</td>\n",
       "      <td>[yes, wished, true, fox, news, angrily, respon...</td>\n",
       "      <td>NaN</td>\n",
       "    </tr>\n",
       "    <tr>\n",
       "      <th>36317</th>\n",
       "      <td>Federal Judge: Enough With the Stupid Names</td>\n",
       "      <td>2114</td>\n",
       "      <td>agree</td>\n",
       "      <td>(DETROIT) In a decision that’s expected to sen...</td>\n",
       "      <td>[detroit, decision, expected, send, shockwaves...</td>\n",
       "      <td>NaN</td>\n",
       "    </tr>\n",
       "  </tbody>\n",
       "</table>\n",
       "</div>"
      ],
      "text/plain": [
       "                                          Headline  Body ID     Stance  \\\n",
       "29526  Federal Judge: Enough With the Stupid Names      748  unrelated   \n",
       "36317  Federal Judge: Enough With the Stupid Names     2114      agree   \n",
       "\n",
       "                                             articleBody  \\\n",
       "29526  Yes, we wished it were true too, but no, Fox N...   \n",
       "36317  (DETROIT) In a decision that’s expected to sen...   \n",
       "\n",
       "                                             txt_process  distances  \n",
       "29526  [yes, wished, true, fox, news, angrily, respon...        NaN  \n",
       "36317  [detroit, decision, expected, send, shockwaves...        NaN  "
      ]
     },
     "execution_count": 259,
     "metadata": {},
     "output_type": "execute_result"
    }
   ],
   "source": [
    "df_all[df_all['distances'].isnull()==True]"
   ]
  },
  {
   "cell_type": "code",
   "execution_count": 260,
   "metadata": {
    "scrolled": true
   },
   "outputs": [
    {
     "data": {
      "text/plain": [
       "(49972, 6)"
      ]
     },
     "execution_count": 260,
     "metadata": {},
     "output_type": "execute_result"
    }
   ],
   "source": [
    "#2 null values \n",
    "df_all.shape"
   ]
  },
  {
   "cell_type": "code",
   "execution_count": 261,
   "metadata": {},
   "outputs": [],
   "source": [
    "df_all = df_all.dropna(axis=0)\n",
    "\n",
    "#why does this change my df to not a df "
   ]
  },
  {
   "cell_type": "code",
   "execution_count": 262,
   "metadata": {},
   "outputs": [
    {
     "data": {
      "text/plain": [
       "(49970, 6)"
      ]
     },
     "execution_count": 262,
     "metadata": {},
     "output_type": "execute_result"
    }
   ],
   "source": [
    "df_all.shape"
   ]
  },
  {
   "cell_type": "code",
   "execution_count": 263,
   "metadata": {},
   "outputs": [],
   "source": [
    "#df_all = stances.merge(bodies, on = 'Body ID')"
   ]
  },
  {
   "cell_type": "code",
   "execution_count": 264,
   "metadata": {
    "scrolled": true
   },
   "outputs": [
    {
     "data": {
      "text/html": [
       "<div>\n",
       "<style scoped>\n",
       "    .dataframe tbody tr th:only-of-type {\n",
       "        vertical-align: middle;\n",
       "    }\n",
       "\n",
       "    .dataframe tbody tr th {\n",
       "        vertical-align: top;\n",
       "    }\n",
       "\n",
       "    .dataframe thead th {\n",
       "        text-align: right;\n",
       "    }\n",
       "</style>\n",
       "<table border=\"1\" class=\"dataframe\">\n",
       "  <thead>\n",
       "    <tr style=\"text-align: right;\">\n",
       "      <th></th>\n",
       "      <th>Headline</th>\n",
       "      <th>Body ID</th>\n",
       "      <th>Stance</th>\n",
       "      <th>articleBody</th>\n",
       "      <th>txt_process</th>\n",
       "      <th>distances</th>\n",
       "    </tr>\n",
       "  </thead>\n",
       "  <tbody>\n",
       "    <tr>\n",
       "      <th>0</th>\n",
       "      <td>Police find mass graves with at least '15 bodi...</td>\n",
       "      <td>712</td>\n",
       "      <td>unrelated</td>\n",
       "      <td>Danny Boyle is directing the untitled film\\n\\n...</td>\n",
       "      <td>[danny, boyle, directing, untitled, film, seth...</td>\n",
       "      <td>0.791488</td>\n",
       "    </tr>\n",
       "    <tr>\n",
       "      <th>1</th>\n",
       "      <td>Seth Rogen to Play Apple’s Steve Wozniak</td>\n",
       "      <td>712</td>\n",
       "      <td>discuss</td>\n",
       "      <td>Danny Boyle is directing the untitled film\\n\\n...</td>\n",
       "      <td>[danny, boyle, directing, untitled, film, seth...</td>\n",
       "      <td>0.963682</td>\n",
       "    </tr>\n",
       "    <tr>\n",
       "      <th>2</th>\n",
       "      <td>Mexico police find mass grave near site 43 stu...</td>\n",
       "      <td>712</td>\n",
       "      <td>unrelated</td>\n",
       "      <td>Danny Boyle is directing the untitled film\\n\\n...</td>\n",
       "      <td>[danny, boyle, directing, untitled, film, seth...</td>\n",
       "      <td>0.785113</td>\n",
       "    </tr>\n",
       "    <tr>\n",
       "      <th>3</th>\n",
       "      <td>Mexico Says Missing Students Not Found In Firs...</td>\n",
       "      <td>712</td>\n",
       "      <td>unrelated</td>\n",
       "      <td>Danny Boyle is directing the untitled film\\n\\n...</td>\n",
       "      <td>[danny, boyle, directing, untitled, film, seth...</td>\n",
       "      <td>0.723416</td>\n",
       "    </tr>\n",
       "    <tr>\n",
       "      <th>4</th>\n",
       "      <td>New iOS 8 bug can delete all of your iCloud do...</td>\n",
       "      <td>712</td>\n",
       "      <td>unrelated</td>\n",
       "      <td>Danny Boyle is directing the untitled film\\n\\n...</td>\n",
       "      <td>[danny, boyle, directing, untitled, film, seth...</td>\n",
       "      <td>0.996359</td>\n",
       "    </tr>\n",
       "  </tbody>\n",
       "</table>\n",
       "</div>"
      ],
      "text/plain": [
       "                                            Headline  Body ID     Stance  \\\n",
       "0  Police find mass graves with at least '15 bodi...      712  unrelated   \n",
       "1           Seth Rogen to Play Apple’s Steve Wozniak      712    discuss   \n",
       "2  Mexico police find mass grave near site 43 stu...      712  unrelated   \n",
       "3  Mexico Says Missing Students Not Found In Firs...      712  unrelated   \n",
       "4  New iOS 8 bug can delete all of your iCloud do...      712  unrelated   \n",
       "\n",
       "                                         articleBody  \\\n",
       "0  Danny Boyle is directing the untitled film\\n\\n...   \n",
       "1  Danny Boyle is directing the untitled film\\n\\n...   \n",
       "2  Danny Boyle is directing the untitled film\\n\\n...   \n",
       "3  Danny Boyle is directing the untitled film\\n\\n...   \n",
       "4  Danny Boyle is directing the untitled film\\n\\n...   \n",
       "\n",
       "                                         txt_process  distances  \n",
       "0  [danny, boyle, directing, untitled, film, seth...   0.791488  \n",
       "1  [danny, boyle, directing, untitled, film, seth...   0.963682  \n",
       "2  [danny, boyle, directing, untitled, film, seth...   0.785113  \n",
       "3  [danny, boyle, directing, untitled, film, seth...   0.723416  \n",
       "4  [danny, boyle, directing, untitled, film, seth...   0.996359  "
      ]
     },
     "execution_count": 264,
     "metadata": {},
     "output_type": "execute_result"
    }
   ],
   "source": [
    "df_all.head()"
   ]
  },
  {
   "cell_type": "code",
   "execution_count": 265,
   "metadata": {},
   "outputs": [],
   "source": [
    "from sklearn import preprocessing"
   ]
  },
  {
   "cell_type": "code",
   "execution_count": 280,
   "metadata": {},
   "outputs": [
    {
     "name": "stdout",
     "output_type": "stream",
     "text": [
      "Classes: ['agree', 'disagree', 'discuss', 'unrelated']\n"
     ]
    }
   ],
   "source": [
    "le = preprocessing.LabelEncoder()\n",
    "le.fit(df_all['Stance'])\n",
    "print(\"Classes:\", list(le.classes_))\n",
    "stance_label = le.transform(df_all['Stance']) \n"
   ]
  },
  {
   "cell_type": "code",
   "execution_count": 282,
   "metadata": {
    "scrolled": true
   },
   "outputs": [
    {
     "data": {
      "text/plain": [
       "array([3, 2, 3, ..., 0, 2, 2])"
      ]
     },
     "execution_count": 282,
     "metadata": {},
     "output_type": "execute_result"
    }
   ],
   "source": [
    "stance_label"
   ]
  },
  {
   "cell_type": "code",
   "execution_count": 322,
   "metadata": {},
   "outputs": [
    {
     "data": {
      "text/plain": [
       "(49970, 6)"
      ]
     },
     "execution_count": 322,
     "metadata": {},
     "output_type": "execute_result"
    }
   ],
   "source": [
    "df_all.shape"
   ]
  },
  {
   "cell_type": "code",
   "execution_count": 401,
   "metadata": {},
   "outputs": [],
   "source": [
    "stance_dummy = pd.get_dummies(df_all['Stance'], drop_first=False)"
   ]
  },
  {
   "cell_type": "markdown",
   "metadata": {},
   "source": [
    "## Model with cosine similarity and stance"
   ]
  },
  {
   "cell_type": "code",
   "execution_count": 270,
   "metadata": {},
   "outputs": [],
   "source": [
    "from sklearn.model_selection import train_test_split"
   ]
  },
  {
   "cell_type": "code",
   "execution_count": null,
   "metadata": {},
   "outputs": [],
   "source": [
    "X = df_fix['distances'].reshape(df_fix['distances'].shape[0], 1)\n",
    "y = df_fix['Unnamed 0']\n",
    "\n",
    "X_train, X_test, y_train, y_test = train_test_split(X, y)"
   ]
  },
  {
   "cell_type": "code",
   "execution_count": 286,
   "metadata": {},
   "outputs": [
    {
     "data": {
      "text/plain": [
       "((37477, 1), (12493, 1), (37477,), (12493,))"
      ]
     },
     "execution_count": 286,
     "metadata": {},
     "output_type": "execute_result"
    }
   ],
   "source": [
    "X_train.shape, X_test.shape, y_train.shape, y_test.shape"
   ]
  },
  {
   "cell_type": "code",
   "execution_count": 378,
   "metadata": {},
   "outputs": [
    {
     "data": {
      "text/plain": [
       "0.7303145929503428"
      ]
     },
     "execution_count": 378,
     "metadata": {},
     "output_type": "execute_result"
    }
   ],
   "source": [
    "lr = LogisticRegression()\n",
    "lr.fit(X_train, y_train)\n",
    "lr.score(X_train, y_train)"
   ]
  },
  {
   "cell_type": "code",
   "execution_count": 377,
   "metadata": {},
   "outputs": [
    {
     "data": {
      "text/plain": [
       "array([0, 1], dtype=uint8)"
      ]
     },
     "execution_count": 377,
     "metadata": {},
     "output_type": "execute_result"
    }
   ],
   "source": [
    "np.unique(y_train)"
   ]
  },
  {
   "cell_type": "markdown",
   "metadata": {},
   "source": [
    "### ROC AUC SCORE"
   ]
  },
  {
   "cell_type": "code",
   "execution_count": 402,
   "metadata": {},
   "outputs": [],
   "source": [
    "from sklearn.metrics import roc_auc_score"
   ]
  },
  {
   "cell_type": "code",
   "execution_count": 395,
   "metadata": {},
   "outputs": [
    {
     "data": {
      "image/png": "[encoded data removed]",
      "text/plain": [
       "<Figure size 504x504 with 1 Axes>"
      ]
     },
     "metadata": {},
     "output_type": "display_data"
    }
   ],
   "source": [
    "y_probas = lr.predict_proba(X_train)\n",
    "y_true = y_train\n",
    "\n",
    "import scikitplot as skplt\n",
    "import matplotlib.pyplot as plt\n",
    "\n",
    "skplt.metrics.plot_roc(y_true, y_probas, figsize=(7,7))\n",
    "plt.show()"
   ]
  },
  {
   "cell_type": "code",
   "execution_count": 385,
   "metadata": {},
   "outputs": [
    {
     "data": {
      "text/plain": [
       "(array([1, 0], dtype=uint64), (37477,))"
      ]
     },
     "execution_count": 385,
     "metadata": {},
     "output_type": "execute_result"
    }
   ],
   "source": [
    "y_true.unique(), y_true.shape"
   ]
  },
  {
   "cell_type": "code",
   "execution_count": 391,
   "metadata": {},
   "outputs": [
    {
     "data": {
      "text/plain": [
       "(array([0.12454794, 0.12724985, 0.13225069, ..., 0.86774931, 0.87275015,\n",
       "        0.87545206]), (37477, 2))"
      ]
     },
     "execution_count": 391,
     "metadata": {},
     "output_type": "execute_result"
    }
   ],
   "source": [
    "np.unique(y_probas), y_probas.shape"
   ]
  },
  {
   "cell_type": "code",
   "execution_count": 382,
   "metadata": {
    "scrolled": true
   },
   "outputs": [
    {
     "data": {
      "text/plain": [
       "array([1, 1, 1, ..., 1, 1, 1], dtype=uint8)"
      ]
     },
     "execution_count": 382,
     "metadata": {},
     "output_type": "execute_result"
    }
   ],
   "source": [
    "y_probas"
   ]
  },
  {
   "cell_type": "code",
   "execution_count": 398,
   "metadata": {},
   "outputs": [],
   "source": [
    "from imblearn.over_sampling import RandomOverSampler"
   ]
  },
  {
   "cell_type": "code",
   "execution_count": 399,
   "metadata": {},
   "outputs": [
    {
     "name": "stdout",
     "output_type": "stream",
     "text": [
      "[(0, 36544), (1, 36544)]\n"
     ]
    }
   ],
   "source": [
    "ros = RandomOverSampler(random_state=0)\n",
    "X_resampled, y_resampled = ros.fit_sample(X, y)\n",
    "from collections import Counter\n",
    "print(sorted(Counter(y_resampled).items()))"
   ]
  },
  {
   "cell_type": "code",
   "execution_count": 400,
   "metadata": {
    "scrolled": true
   },
   "outputs": [
    {
     "data": {
      "text/plain": [
       "0.5212073117338003"
      ]
     },
     "execution_count": 400,
     "metadata": {},
     "output_type": "execute_result"
    }
   ],
   "source": [
    "lr = LogisticRegression()\n",
    "lr.fit(X_resampled, y_resampled)\n",
    "lr.score(X_resampled, y_resampled)"
   ]
  },
  {
   "cell_type": "markdown",
   "metadata": {},
   "source": [
    "# Model with cvec body, cvec head, and cosine similarity"
   ]
  },
  {
   "cell_type": "code",
   "execution_count": 404,
   "metadata": {
    "scrolled": true
   },
   "outputs": [
    {
     "data": {
      "text/plain": [
       "<49970x22888 sparse matrix of type '<class 'numpy.int64'>'\n",
       "\twith 6940371 stored elements in Compressed Sparse Row format>"
      ]
     },
     "execution_count": 404,
     "metadata": {},
     "output_type": "execute_result"
    }
   ],
   "source": [
    "cvec_vector = CountVectorizer(stop_words='english')\n",
    "\n",
    "cvec_articleBody_matrix_sparse = cvec_vector.fit_transform(df_all['articleBody'])\n",
    "cvec_articleBody_matrix_sparse"
   ]
  },
  {
   "cell_type": "code",
   "execution_count": 417,
   "metadata": {},
   "outputs": [],
   "source": [
    "cvec_body_array = cvec_articleBody_matrix_sparse.toarray()"
   ]
  },
  {
   "cell_type": "code",
   "execution_count": 419,
   "metadata": {},
   "outputs": [],
   "source": [
    "df_cvec = pd.DataFrame(cvec_body_array)"
   ]
  },
  {
   "cell_type": "code",
   "execution_count": 420,
   "metadata": {},
   "outputs": [
    {
     "data": {
      "text/html": [
       "<div>\n",
       "<style scoped>\n",
       "    .dataframe tbody tr th:only-of-type {\n",
       "        vertical-align: middle;\n",
       "    }\n",
       "\n",
       "    .dataframe tbody tr th {\n",
       "        vertical-align: top;\n",
       "    }\n",
       "\n",
       "    .dataframe thead th {\n",
       "        text-align: right;\n",
       "    }\n",
       "</style>\n",
       "<table border=\"1\" class=\"dataframe\">\n",
       "  <thead>\n",
       "    <tr style=\"text-align: right;\">\n",
       "      <th></th>\n",
       "      <th>0</th>\n",
       "      <th>1</th>\n",
       "      <th>2</th>\n",
       "      <th>3</th>\n",
       "      <th>4</th>\n",
       "      <th>5</th>\n",
       "      <th>6</th>\n",
       "      <th>7</th>\n",
       "      <th>8</th>\n",
       "      <th>9</th>\n",
       "      <th>...</th>\n",
       "      <th>22878</th>\n",
       "      <th>22879</th>\n",
       "      <th>22880</th>\n",
       "      <th>22881</th>\n",
       "      <th>22882</th>\n",
       "      <th>22883</th>\n",
       "      <th>22884</th>\n",
       "      <th>22885</th>\n",
       "      <th>22886</th>\n",
       "      <th>22887</th>\n",
       "    </tr>\n",
       "  </thead>\n",
       "  <tbody>\n",
       "    <tr>\n",
       "      <th>0</th>\n",
       "      <td>0</td>\n",
       "      <td>0</td>\n",
       "      <td>0</td>\n",
       "      <td>0</td>\n",
       "      <td>0</td>\n",
       "      <td>0</td>\n",
       "      <td>0</td>\n",
       "      <td>0</td>\n",
       "      <td>0</td>\n",
       "      <td>0</td>\n",
       "      <td>...</td>\n",
       "      <td>0</td>\n",
       "      <td>0</td>\n",
       "      <td>0</td>\n",
       "      <td>0</td>\n",
       "      <td>0</td>\n",
       "      <td>0</td>\n",
       "      <td>0</td>\n",
       "      <td>0</td>\n",
       "      <td>0</td>\n",
       "      <td>0</td>\n",
       "    </tr>\n",
       "    <tr>\n",
       "      <th>1</th>\n",
       "      <td>0</td>\n",
       "      <td>0</td>\n",
       "      <td>0</td>\n",
       "      <td>0</td>\n",
       "      <td>0</td>\n",
       "      <td>0</td>\n",
       "      <td>0</td>\n",
       "      <td>0</td>\n",
       "      <td>0</td>\n",
       "      <td>0</td>\n",
       "      <td>...</td>\n",
       "      <td>0</td>\n",
       "      <td>0</td>\n",
       "      <td>0</td>\n",
       "      <td>0</td>\n",
       "      <td>0</td>\n",
       "      <td>0</td>\n",
       "      <td>0</td>\n",
       "      <td>0</td>\n",
       "      <td>0</td>\n",
       "      <td>0</td>\n",
       "    </tr>\n",
       "    <tr>\n",
       "      <th>2</th>\n",
       "      <td>0</td>\n",
       "      <td>0</td>\n",
       "      <td>0</td>\n",
       "      <td>0</td>\n",
       "      <td>0</td>\n",
       "      <td>0</td>\n",
       "      <td>0</td>\n",
       "      <td>0</td>\n",
       "      <td>0</td>\n",
       "      <td>0</td>\n",
       "      <td>...</td>\n",
       "      <td>0</td>\n",
       "      <td>0</td>\n",
       "      <td>0</td>\n",
       "      <td>0</td>\n",
       "      <td>0</td>\n",
       "      <td>0</td>\n",
       "      <td>0</td>\n",
       "      <td>0</td>\n",
       "      <td>0</td>\n",
       "      <td>0</td>\n",
       "    </tr>\n",
       "    <tr>\n",
       "      <th>3</th>\n",
       "      <td>0</td>\n",
       "      <td>0</td>\n",
       "      <td>0</td>\n",
       "      <td>0</td>\n",
       "      <td>0</td>\n",
       "      <td>0</td>\n",
       "      <td>0</td>\n",
       "      <td>0</td>\n",
       "      <td>0</td>\n",
       "      <td>0</td>\n",
       "      <td>...</td>\n",
       "      <td>0</td>\n",
       "      <td>0</td>\n",
       "      <td>0</td>\n",
       "      <td>0</td>\n",
       "      <td>0</td>\n",
       "      <td>0</td>\n",
       "      <td>0</td>\n",
       "      <td>0</td>\n",
       "      <td>0</td>\n",
       "      <td>0</td>\n",
       "    </tr>\n",
       "    <tr>\n",
       "      <th>4</th>\n",
       "      <td>0</td>\n",
       "      <td>0</td>\n",
       "      <td>0</td>\n",
       "      <td>0</td>\n",
       "      <td>0</td>\n",
       "      <td>0</td>\n",
       "      <td>0</td>\n",
       "      <td>0</td>\n",
       "      <td>0</td>\n",
       "      <td>0</td>\n",
       "      <td>...</td>\n",
       "      <td>0</td>\n",
       "      <td>0</td>\n",
       "      <td>0</td>\n",
       "      <td>0</td>\n",
       "      <td>0</td>\n",
       "      <td>0</td>\n",
       "      <td>0</td>\n",
       "      <td>0</td>\n",
       "      <td>0</td>\n",
       "      <td>0</td>\n",
       "    </tr>\n",
       "  </tbody>\n",
       "</table>\n",
       "<p>5 rows × 22888 columns</p>\n",
       "</div>"
      ],
      "text/plain": [
       "   0      1      2      3      4      5      6      7      8      9      \\\n",
       "0      0      0      0      0      0      0      0      0      0      0   \n",
       "1      0      0      0      0      0      0      0      0      0      0   \n",
       "2      0      0      0      0      0      0      0      0      0      0   \n",
       "3      0      0      0      0      0      0      0      0      0      0   \n",
       "4      0      0      0      0      0      0      0      0      0      0   \n",
       "\n",
       "   ...    22878  22879  22880  22881  22882  22883  22884  22885  22886  22887  \n",
       "0  ...        0      0      0      0      0      0      0      0      0      0  \n",
       "1  ...        0      0      0      0      0      0      0      0      0      0  \n",
       "2  ...        0      0      0      0      0      0      0      0      0      0  \n",
       "3  ...        0      0      0      0      0      0      0      0      0      0  \n",
       "4  ...        0      0      0      0      0      0      0      0      0      0  \n",
       "\n",
       "[5 rows x 22888 columns]"
      ]
     },
     "execution_count": 420,
     "metadata": {},
     "output_type": "execute_result"
    }
   ],
   "source": [
    "df_cvec.head()"
   ]
  },
  {
   "cell_type": "code",
   "execution_count": 425,
   "metadata": {
    "scrolled": true
   },
   "outputs": [
    {
     "data": {
      "text/plain": [
       "<49970x3164 sparse matrix of type '<class 'numpy.int64'>'\n",
       "\twith 403074 stored elements in Compressed Sparse Row format>"
      ]
     },
     "execution_count": 425,
     "metadata": {},
     "output_type": "execute_result"
    }
   ],
   "source": [
    "cvec_vector = CountVectorizer(stop_words='english')\n",
    "\n",
    "cvec_headline_matrix_sparse = cvec_vector.fit_transform(df_all['Headline'])\n",
    "\n",
    "cvec_headline_matrix_sparse"
   ]
  },
  {
   "cell_type": "code",
   "execution_count": 427,
   "metadata": {},
   "outputs": [
    {
     "data": {
      "text/plain": [
       "<bound method CountVectorizer.get_feature_names of CountVectorizer(analyzer='word', binary=False, decode_error='strict',\n",
       "        dtype=<class 'numpy.int64'>, encoding='utf-8', input='content',\n",
       "        lowercase=True, max_df=1.0, max_features=None, min_df=1,\n",
       "        ngram_range=(1, 1), preprocessor=None, stop_words='english',\n",
       "        strip_accents=None, token_pattern='(?u)\\\\b\\\\w\\\\w+\\\\b',\n",
       "        tokenizer=None, vocabulary=None)>"
      ]
     },
     "execution_count": 427,
     "metadata": {},
     "output_type": "execute_result"
    }
   ],
   "source": [
    "cvec_vector.get_feature_names"
   ]
  },
  {
   "cell_type": "code",
   "execution_count": 429,
   "metadata": {},
   "outputs": [],
   "source": [
    "cvec_headline_df = pd.DataFrame(cvec_headline_matrix_sparse.todense(),\n",
    "                       columns = cvec_vector.get_feature_names())\n"
   ]
  },
  {
   "cell_type": "code",
   "execution_count": 430,
   "metadata": {},
   "outputs": [
    {
     "data": {
      "text/plain": [
       "(49970, 3164)"
      ]
     },
     "execution_count": 430,
     "metadata": {},
     "output_type": "execute_result"
    }
   ],
   "source": [
    "cvec_headline_df.shape"
   ]
  },
  {
   "cell_type": "code",
   "execution_count": 432,
   "metadata": {},
   "outputs": [
    {
     "data": {
      "text/plain": [
       "(49970, 2)"
      ]
     },
     "execution_count": 432,
     "metadata": {},
     "output_type": "execute_result"
    }
   ],
   "source": [
    "df_fix.shape"
   ]
  },
  {
   "cell_type": "code",
   "execution_count": 434,
   "metadata": {},
   "outputs": [],
   "source": [
    "df_headline_fix = pd.concat([df_fix, cvec_headline_df], axis=1)"
   ]
  },
  {
   "cell_type": "code",
   "execution_count": 444,
   "metadata": {},
   "outputs": [],
   "source": [
    "df_headline_fix.fillna(value=0, inplace=True)"
   ]
  },
  {
   "cell_type": "code",
   "execution_count": 445,
   "metadata": {},
   "outputs": [],
   "source": [
    "features = [col for col in df_headline_fix.columns if col != 'Unnamed 0']"
   ]
  },
  {
   "cell_type": "code",
   "execution_count": 446,
   "metadata": {},
   "outputs": [],
   "source": [
    "X = df_headline_fix[features]\n",
    "y = df_headline_fix['Unnamed 0']\n",
    "\n",
    "X_train, X_test, y_train, y_test = train_test_split(X, y)"
   ]
  },
  {
   "cell_type": "code",
   "execution_count": 447,
   "metadata": {},
   "outputs": [
    {
     "data": {
      "text/plain": [
       "0.7314762933909656"
      ]
     },
     "execution_count": 447,
     "metadata": {},
     "output_type": "execute_result"
    }
   ],
   "source": [
    "lr = LogisticRegression()\n",
    "lr.fit(X_train, y_train)\n",
    "lr.score(X_train, y_train)"
   ]
  },
  {
   "cell_type": "code",
   "execution_count": 448,
   "metadata": {},
   "outputs": [
    {
     "data": {
      "text/plain": [
       "0.7305691187064757"
      ]
     },
     "execution_count": 448,
     "metadata": {},
     "output_type": "execute_result"
    }
   ],
   "source": [
    "lr.score(X_test, y_test)"
   ]
  },
  {
   "cell_type": "code",
   "execution_count": 450,
   "metadata": {},
   "outputs": [
    {
     "data": {
      "text/plain": [
       "0.9595240001067264"
      ]
     },
     "execution_count": 450,
     "metadata": {},
     "output_type": "execute_result"
    }
   ],
   "source": [
    "from sklearn.ensemble import RandomForestClassifier\n",
    "rf = RandomForestClassifier()\n",
    "rf.fit(X_train, y_train)\n",
    "rf.score(X_train, y_train)"
   ]
  },
  {
   "cell_type": "code",
   "execution_count": 451,
   "metadata": {},
   "outputs": [
    {
     "data": {
      "text/plain": [
       "0.5772032338109341"
      ]
     },
     "execution_count": 451,
     "metadata": {},
     "output_type": "execute_result"
    }
   ],
   "source": [
    "rf.score(X_test, y_test)"
   ]
  },
  {
   "cell_type": "code",
   "execution_count": null,
   "metadata": {},
   "outputs": [],
   "source": []
  }
 ],
 "metadata": {
  "kernelspec": {
   "display_name": "Python [conda env:dsi]",
   "language": "python",
   "name": "conda-env-dsi-py"
  },
  "language_info": {
   "codemirror_mode": {
    "name": "ipython",
    "version": 3
   },
   "file_extension": ".py",
   "mimetype": "text/x-python",
   "name": "python",
   "nbconvert_exporter": "python",
   "pygments_lexer": "ipython3",
   "version": "3.6.5"
  }
 },
 "nbformat": 4,
 "nbformat_minor": 2
}
