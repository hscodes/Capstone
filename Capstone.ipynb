{
 "cells": [
  {
   "cell_type": "markdown",
   "metadata": {},
   "source": [
    "# Fake News through Stance Detection"
   ]
  },
  {
   "cell_type": "markdown",
   "metadata": {},
   "source": [
    "## Problem"
   ]
  },
  {
   "cell_type": "markdown",
   "metadata": {},
   "source": [
    "Detecting whether an article is Fake News using Stance Detection. Stance detection takes a headline and body text of an article and classifies the stance of the body text relative to headline. "
   ]
  },
  {
   "cell_type": "code",
   "execution_count": 100,
   "metadata": {},
   "outputs": [],
   "source": [
    "import pandas as pd \n",
    "\n",
    "import os\n",
    "import re\n",
    "import nltk\n",
    "from sklearn import feature_extraction\n",
    "from tqdm import tqdm\n",
    "\n",
    "\n",
    "import numpy as np\n",
    "import matplotlib.pyplot as plt\n",
    "%matplotlib inline\n",
    "\n",
    "from sklearn.feature_extraction.text import CountVectorizer, HashingVectorizer, TfidfVectorizer\n",
    "from sklearn.linear_model import LogisticRegression\n",
    "\n",
    "# NLTK\n",
    "from nltk.tokenize import RegexpTokenizer\n",
    "from nltk.stem import PorterStemmer\n",
    "from nltk.corpus import stopwords\n",
    "import re\n",
    "\n",
    "# Visualization\n",
    "import matplotlib.pyplot as plt\n",
    "import matplotlib.patches as mpatches\n",
    "import matplotlib\n",
    "%matplotlib inline\n",
    "import seaborn as sns\n",
    "from nltk.stem import WordNetLemmatizer\n",
    "\n",
    "from gensim.models.word2vec import Word2Vec\n",
    "from collections import Counter, defaultdict\n",
    "from sklearn.feature_extraction.text import CountVectorizer\n",
    "from sklearn.feature_extraction.text import TfidfVectorizer\n",
    "from sklearn.ensemble import ExtraTreesClassifier\n",
    "from sklearn.naive_bayes import BernoulliNB, MultinomialNB\n",
    "from sklearn.pipeline import Pipeline\n",
    "from sklearn.svm import SVC\n",
    "from sklearn.metrics import accuracy_score\n",
    "from sklearn.cross_validation import cross_val_score\n",
    "from sklearn.cross_validation import StratifiedShuffleSplit"
   ]
  },
  {
   "cell_type": "code",
   "execution_count": 101,
   "metadata": {},
   "outputs": [],
   "source": [
    "bodies = pd.read_csv('./train_bodies.csv')\n",
    "stances = pd.read_csv('./train_stances.csv')\n"
   ]
  },
  {
   "cell_type": "markdown",
   "metadata": {},
   "source": [
    "## EDA"
   ]
  },
  {
   "cell_type": "code",
   "execution_count": 102,
   "metadata": {
    "scrolled": false
   },
   "outputs": [
    {
     "data": {
      "text/html": [
       "<div>\n",
       "<style scoped>\n",
       "    .dataframe tbody tr th:only-of-type {\n",
       "        vertical-align: middle;\n",
       "    }\n",
       "\n",
       "    .dataframe tbody tr th {\n",
       "        vertical-align: top;\n",
       "    }\n",
       "\n",
       "    .dataframe thead th {\n",
       "        text-align: right;\n",
       "    }\n",
       "</style>\n",
       "<table border=\"1\" class=\"dataframe\">\n",
       "  <thead>\n",
       "    <tr style=\"text-align: right;\">\n",
       "      <th></th>\n",
       "      <th>Body ID</th>\n",
       "      <th>articleBody</th>\n",
       "    </tr>\n",
       "  </thead>\n",
       "  <tbody>\n",
       "    <tr>\n",
       "      <th>0</th>\n",
       "      <td>0</td>\n",
       "      <td>A small meteorite crashed into a wooded area i...</td>\n",
       "    </tr>\n",
       "    <tr>\n",
       "      <th>1</th>\n",
       "      <td>4</td>\n",
       "      <td>Last week we hinted at what was to come as Ebo...</td>\n",
       "    </tr>\n",
       "    <tr>\n",
       "      <th>2</th>\n",
       "      <td>5</td>\n",
       "      <td>(NEWSER) – Wonder how long a Quarter Pounder w...</td>\n",
       "    </tr>\n",
       "    <tr>\n",
       "      <th>3</th>\n",
       "      <td>6</td>\n",
       "      <td>Posting photos of a gun-toting child online, I...</td>\n",
       "    </tr>\n",
       "    <tr>\n",
       "      <th>4</th>\n",
       "      <td>7</td>\n",
       "      <td>At least 25 suspected Boko Haram insurgents we...</td>\n",
       "    </tr>\n",
       "  </tbody>\n",
       "</table>\n",
       "</div>"
      ],
      "text/plain": [
       "   Body ID                                        articleBody\n",
       "0        0  A small meteorite crashed into a wooded area i...\n",
       "1        4  Last week we hinted at what was to come as Ebo...\n",
       "2        5  (NEWSER) – Wonder how long a Quarter Pounder w...\n",
       "3        6  Posting photos of a gun-toting child online, I...\n",
       "4        7  At least 25 suspected Boko Haram insurgents we..."
      ]
     },
     "execution_count": 102,
     "metadata": {},
     "output_type": "execute_result"
    }
   ],
   "source": [
    "bodies.head()"
   ]
  },
  {
   "cell_type": "code",
   "execution_count": 103,
   "metadata": {
    "scrolled": true
   },
   "outputs": [
    {
     "data": {
      "text/html": [
       "<div>\n",
       "<style scoped>\n",
       "    .dataframe tbody tr th:only-of-type {\n",
       "        vertical-align: middle;\n",
       "    }\n",
       "\n",
       "    .dataframe tbody tr th {\n",
       "        vertical-align: top;\n",
       "    }\n",
       "\n",
       "    .dataframe thead th {\n",
       "        text-align: right;\n",
       "    }\n",
       "</style>\n",
       "<table border=\"1\" class=\"dataframe\">\n",
       "  <thead>\n",
       "    <tr style=\"text-align: right;\">\n",
       "      <th></th>\n",
       "      <th>Headline</th>\n",
       "      <th>Body ID</th>\n",
       "      <th>Stance</th>\n",
       "    </tr>\n",
       "  </thead>\n",
       "  <tbody>\n",
       "    <tr>\n",
       "      <th>0</th>\n",
       "      <td>Police find mass graves with at least '15 bodi...</td>\n",
       "      <td>712</td>\n",
       "      <td>unrelated</td>\n",
       "    </tr>\n",
       "    <tr>\n",
       "      <th>1</th>\n",
       "      <td>Hundreds of Palestinians flee floods in Gaza a...</td>\n",
       "      <td>158</td>\n",
       "      <td>agree</td>\n",
       "    </tr>\n",
       "    <tr>\n",
       "      <th>2</th>\n",
       "      <td>Christian Bale passes on role of Steve Jobs, a...</td>\n",
       "      <td>137</td>\n",
       "      <td>unrelated</td>\n",
       "    </tr>\n",
       "    <tr>\n",
       "      <th>3</th>\n",
       "      <td>HBO and Apple in Talks for $15/Month Apple TV ...</td>\n",
       "      <td>1034</td>\n",
       "      <td>unrelated</td>\n",
       "    </tr>\n",
       "    <tr>\n",
       "      <th>4</th>\n",
       "      <td>Spider burrowed through tourist's stomach and ...</td>\n",
       "      <td>1923</td>\n",
       "      <td>disagree</td>\n",
       "    </tr>\n",
       "  </tbody>\n",
       "</table>\n",
       "</div>"
      ],
      "text/plain": [
       "                                            Headline  Body ID     Stance\n",
       "0  Police find mass graves with at least '15 bodi...      712  unrelated\n",
       "1  Hundreds of Palestinians flee floods in Gaza a...      158      agree\n",
       "2  Christian Bale passes on role of Steve Jobs, a...      137  unrelated\n",
       "3  HBO and Apple in Talks for $15/Month Apple TV ...     1034  unrelated\n",
       "4  Spider burrowed through tourist's stomach and ...     1923   disagree"
      ]
     },
     "execution_count": 103,
     "metadata": {},
     "output_type": "execute_result"
    }
   ],
   "source": [
    "stances.head()"
   ]
  },
  {
   "cell_type": "code",
   "execution_count": 104,
   "metadata": {},
   "outputs": [
    {
     "data": {
      "text/html": [
       "<div>\n",
       "<style scoped>\n",
       "    .dataframe tbody tr th:only-of-type {\n",
       "        vertical-align: middle;\n",
       "    }\n",
       "\n",
       "    .dataframe tbody tr th {\n",
       "        vertical-align: top;\n",
       "    }\n",
       "\n",
       "    .dataframe thead th {\n",
       "        text-align: right;\n",
       "    }\n",
       "</style>\n",
       "<table border=\"1\" class=\"dataframe\">\n",
       "  <thead>\n",
       "    <tr style=\"text-align: right;\">\n",
       "      <th></th>\n",
       "      <th>Headline</th>\n",
       "      <th>Body ID</th>\n",
       "      <th>Stance</th>\n",
       "    </tr>\n",
       "  </thead>\n",
       "  <tbody>\n",
       "    <tr>\n",
       "      <th>0</th>\n",
       "      <td>Police find mass graves with at least '15 bodi...</td>\n",
       "      <td>712</td>\n",
       "      <td>unrelated</td>\n",
       "    </tr>\n",
       "    <tr>\n",
       "      <th>1787</th>\n",
       "      <td>Seth Rogen to Play Apple’s Steve Wozniak</td>\n",
       "      <td>712</td>\n",
       "      <td>discuss</td>\n",
       "    </tr>\n",
       "    <tr>\n",
       "      <th>3974</th>\n",
       "      <td>Mexico police find mass grave near site 43 stu...</td>\n",
       "      <td>712</td>\n",
       "      <td>unrelated</td>\n",
       "    </tr>\n",
       "    <tr>\n",
       "      <th>4936</th>\n",
       "      <td>Mexico Says Missing Students Not Found In Firs...</td>\n",
       "      <td>712</td>\n",
       "      <td>unrelated</td>\n",
       "    </tr>\n",
       "    <tr>\n",
       "      <th>5210</th>\n",
       "      <td>New iOS 8 bug can delete all of your iCloud do...</td>\n",
       "      <td>712</td>\n",
       "      <td>unrelated</td>\n",
       "    </tr>\n",
       "    <tr>\n",
       "      <th>5863</th>\n",
       "      <td>Return of the Mac: Seth Rogen in talks to star...</td>\n",
       "      <td>712</td>\n",
       "      <td>discuss</td>\n",
       "    </tr>\n",
       "    <tr>\n",
       "      <th>6199</th>\n",
       "      <td>Seth Rogen Is Woz</td>\n",
       "      <td>712</td>\n",
       "      <td>discuss</td>\n",
       "    </tr>\n",
       "    <tr>\n",
       "      <th>6756</th>\n",
       "      <td>Mexico finds 4 more graves at site of suspecte...</td>\n",
       "      <td>712</td>\n",
       "      <td>unrelated</td>\n",
       "    </tr>\n",
       "    <tr>\n",
       "      <th>7526</th>\n",
       "      <td>Are missing students in mass graves found near...</td>\n",
       "      <td>712</td>\n",
       "      <td>unrelated</td>\n",
       "    </tr>\n",
       "    <tr>\n",
       "      <th>9003</th>\n",
       "      <td>Mexico prosecutor: Students not in 1st mass gr...</td>\n",
       "      <td>712</td>\n",
       "      <td>unrelated</td>\n",
       "    </tr>\n",
       "    <tr>\n",
       "      <th>10036</th>\n",
       "      <td>Lady on FB: I'm 41, Intersex, and Fucked Micha...</td>\n",
       "      <td>712</td>\n",
       "      <td>unrelated</td>\n",
       "    </tr>\n",
       "    <tr>\n",
       "      <th>10780</th>\n",
       "      <td>Catholic Priest Claims God Is Female After Cli...</td>\n",
       "      <td>712</td>\n",
       "      <td>unrelated</td>\n",
       "    </tr>\n",
       "    <tr>\n",
       "      <th>11687</th>\n",
       "      <td>Isis claims US hostage Kayla Mueller killed in...</td>\n",
       "      <td>712</td>\n",
       "      <td>unrelated</td>\n",
       "    </tr>\n",
       "    <tr>\n",
       "      <th>11864</th>\n",
       "      <td>Gold Apple Watch Edition price? Speculators sa...</td>\n",
       "      <td>712</td>\n",
       "      <td>unrelated</td>\n",
       "    </tr>\n",
       "    <tr>\n",
       "      <th>15746</th>\n",
       "      <td>Mexican students not among bodies found in mas...</td>\n",
       "      <td>712</td>\n",
       "      <td>unrelated</td>\n",
       "    </tr>\n",
       "    <tr>\n",
       "      <th>21620</th>\n",
       "      <td>Steve Jobs Biopic Eyes Seth Rogen to Play Appl...</td>\n",
       "      <td>712</td>\n",
       "      <td>discuss</td>\n",
       "    </tr>\n",
       "    <tr>\n",
       "      <th>21712</th>\n",
       "      <td>Missing Mexico students not among 28 bodies fo...</td>\n",
       "      <td>712</td>\n",
       "      <td>unrelated</td>\n",
       "    </tr>\n",
       "    <tr>\n",
       "      <th>21928</th>\n",
       "      <td>Taylor Lianne Chandler: Everything you need to...</td>\n",
       "      <td>712</td>\n",
       "      <td>unrelated</td>\n",
       "    </tr>\n",
       "    <tr>\n",
       "      <th>22100</th>\n",
       "      <td>Mexican cartel leader kills self; bodies in gr...</td>\n",
       "      <td>712</td>\n",
       "      <td>unrelated</td>\n",
       "    </tr>\n",
       "    <tr>\n",
       "      <th>25006</th>\n",
       "      <td>Bodies In Mexico Mass Grave Apparently Not Tho...</td>\n",
       "      <td>712</td>\n",
       "      <td>unrelated</td>\n",
       "    </tr>\n",
       "    <tr>\n",
       "      <th>25492</th>\n",
       "      <td>Seth Rogen Eyed to Play Apple's Steve Wozniak ...</td>\n",
       "      <td>712</td>\n",
       "      <td>discuss</td>\n",
       "    </tr>\n",
       "    <tr>\n",
       "      <th>25616</th>\n",
       "      <td>Mexican investigators fear mass grave might ho...</td>\n",
       "      <td>712</td>\n",
       "      <td>unrelated</td>\n",
       "    </tr>\n",
       "    <tr>\n",
       "      <th>26260</th>\n",
       "      <td>6 hidden mass graves may hold missing Mexican ...</td>\n",
       "      <td>712</td>\n",
       "      <td>unrelated</td>\n",
       "    </tr>\n",
       "    <tr>\n",
       "      <th>26398</th>\n",
       "      <td>Mass grave found after 40 students disappear i...</td>\n",
       "      <td>712</td>\n",
       "      <td>unrelated</td>\n",
       "    </tr>\n",
       "    <tr>\n",
       "      <th>27200</th>\n",
       "      <td>Mexico Student Massacre Update: More Graves Di...</td>\n",
       "      <td>712</td>\n",
       "      <td>unrelated</td>\n",
       "    </tr>\n",
       "    <tr>\n",
       "      <th>29988</th>\n",
       "      <td>Seth Rogen To Play Steve Wozniak In Steve Jobs...</td>\n",
       "      <td>712</td>\n",
       "      <td>discuss</td>\n",
       "    </tr>\n",
       "    <tr>\n",
       "      <th>33683</th>\n",
       "      <td>Taylor Lianne Chandler: Michael Phelps' Cougar...</td>\n",
       "      <td>712</td>\n",
       "      <td>unrelated</td>\n",
       "    </tr>\n",
       "    <tr>\n",
       "      <th>37095</th>\n",
       "      <td>Newly Discovered Mass Grave Linked to Missing ...</td>\n",
       "      <td>712</td>\n",
       "      <td>unrelated</td>\n",
       "    </tr>\n",
       "    <tr>\n",
       "      <th>38326</th>\n",
       "      <td>Michael Phelps' self-proclaimed 'girlfriend', ...</td>\n",
       "      <td>712</td>\n",
       "      <td>unrelated</td>\n",
       "    </tr>\n",
       "    <tr>\n",
       "      <th>41035</th>\n",
       "      <td>Missing Mexican students 'not found in mass gr...</td>\n",
       "      <td>712</td>\n",
       "      <td>unrelated</td>\n",
       "    </tr>\n",
       "    <tr>\n",
       "      <th>42776</th>\n",
       "      <td>Mexico checks if 43 missing students in mass g...</td>\n",
       "      <td>712</td>\n",
       "      <td>unrelated</td>\n",
       "    </tr>\n",
       "    <tr>\n",
       "      <th>43897</th>\n",
       "      <td>Rumor: Seth Rogen to Appear as Woz in Sony's S...</td>\n",
       "      <td>712</td>\n",
       "      <td>discuss</td>\n",
       "    </tr>\n",
       "    <tr>\n",
       "      <th>44978</th>\n",
       "      <td>This Powerful Cartoon About The Charlie Hebdo ...</td>\n",
       "      <td>712</td>\n",
       "      <td>unrelated</td>\n",
       "    </tr>\n",
       "    <tr>\n",
       "      <th>45222</th>\n",
       "      <td>Mexico Says Students Not Among Dead in Mass Grave</td>\n",
       "      <td>712</td>\n",
       "      <td>unrelated</td>\n",
       "    </tr>\n",
       "    <tr>\n",
       "      <th>45579</th>\n",
       "      <td>Mexico hit by student massacre: At least 17 an...</td>\n",
       "      <td>712</td>\n",
       "      <td>unrelated</td>\n",
       "    </tr>\n",
       "    <tr>\n",
       "      <th>46530</th>\n",
       "      <td>Seth Rogen to Star as Steve Wozniak in Sony's ...</td>\n",
       "      <td>712</td>\n",
       "      <td>discuss</td>\n",
       "    </tr>\n",
       "    <tr>\n",
       "      <th>47712</th>\n",
       "      <td>Michael Phelps’ alleged girlfriend says she wa...</td>\n",
       "      <td>712</td>\n",
       "      <td>unrelated</td>\n",
       "    </tr>\n",
       "    <tr>\n",
       "      <th>47850</th>\n",
       "      <td>Mass Graves Found In Mexico, Near Place Where ...</td>\n",
       "      <td>712</td>\n",
       "      <td>unrelated</td>\n",
       "    </tr>\n",
       "    <tr>\n",
       "      <th>48228</th>\n",
       "      <td>A Mass Grave Points to a Student Massacre in M...</td>\n",
       "      <td>712</td>\n",
       "      <td>unrelated</td>\n",
       "    </tr>\n",
       "  </tbody>\n",
       "</table>\n",
       "</div>"
      ],
      "text/plain": [
       "                                                Headline  Body ID     Stance\n",
       "0      Police find mass graves with at least '15 bodi...      712  unrelated\n",
       "1787            Seth Rogen to Play Apple’s Steve Wozniak      712    discuss\n",
       "3974   Mexico police find mass grave near site 43 stu...      712  unrelated\n",
       "4936   Mexico Says Missing Students Not Found In Firs...      712  unrelated\n",
       "5210   New iOS 8 bug can delete all of your iCloud do...      712  unrelated\n",
       "5863   Return of the Mac: Seth Rogen in talks to star...      712    discuss\n",
       "6199                                   Seth Rogen Is Woz      712    discuss\n",
       "6756   Mexico finds 4 more graves at site of suspecte...      712  unrelated\n",
       "7526   Are missing students in mass graves found near...      712  unrelated\n",
       "9003   Mexico prosecutor: Students not in 1st mass gr...      712  unrelated\n",
       "10036  Lady on FB: I'm 41, Intersex, and Fucked Micha...      712  unrelated\n",
       "10780  Catholic Priest Claims God Is Female After Cli...      712  unrelated\n",
       "11687  Isis claims US hostage Kayla Mueller killed in...      712  unrelated\n",
       "11864  Gold Apple Watch Edition price? Speculators sa...      712  unrelated\n",
       "15746  Mexican students not among bodies found in mas...      712  unrelated\n",
       "21620  Steve Jobs Biopic Eyes Seth Rogen to Play Appl...      712    discuss\n",
       "21712  Missing Mexico students not among 28 bodies fo...      712  unrelated\n",
       "21928  Taylor Lianne Chandler: Everything you need to...      712  unrelated\n",
       "22100  Mexican cartel leader kills self; bodies in gr...      712  unrelated\n",
       "25006  Bodies In Mexico Mass Grave Apparently Not Tho...      712  unrelated\n",
       "25492  Seth Rogen Eyed to Play Apple's Steve Wozniak ...      712    discuss\n",
       "25616  Mexican investigators fear mass grave might ho...      712  unrelated\n",
       "26260  6 hidden mass graves may hold missing Mexican ...      712  unrelated\n",
       "26398  Mass grave found after 40 students disappear i...      712  unrelated\n",
       "27200  Mexico Student Massacre Update: More Graves Di...      712  unrelated\n",
       "29988  Seth Rogen To Play Steve Wozniak In Steve Jobs...      712    discuss\n",
       "33683  Taylor Lianne Chandler: Michael Phelps' Cougar...      712  unrelated\n",
       "37095  Newly Discovered Mass Grave Linked to Missing ...      712  unrelated\n",
       "38326  Michael Phelps' self-proclaimed 'girlfriend', ...      712  unrelated\n",
       "41035  Missing Mexican students 'not found in mass gr...      712  unrelated\n",
       "42776  Mexico checks if 43 missing students in mass g...      712  unrelated\n",
       "43897  Rumor: Seth Rogen to Appear as Woz in Sony's S...      712    discuss\n",
       "44978  This Powerful Cartoon About The Charlie Hebdo ...      712  unrelated\n",
       "45222  Mexico Says Students Not Among Dead in Mass Grave      712  unrelated\n",
       "45579  Mexico hit by student massacre: At least 17 an...      712  unrelated\n",
       "46530  Seth Rogen to Star as Steve Wozniak in Sony's ...      712    discuss\n",
       "47712  Michael Phelps’ alleged girlfriend says she wa...      712  unrelated\n",
       "47850  Mass Graves Found In Mexico, Near Place Where ...      712  unrelated\n",
       "48228  A Mass Grave Points to a Student Massacre in M...      712  unrelated"
      ]
     },
     "execution_count": 104,
     "metadata": {},
     "output_type": "execute_result"
    }
   ],
   "source": [
    "stances[stances['Body ID'] == 712]"
   ]
  },
  {
   "cell_type": "code",
   "execution_count": 105,
   "metadata": {
    "scrolled": true
   },
   "outputs": [
    {
     "data": {
      "text/plain": [
       "1921    187\n",
       "1948    175\n",
       "40      172\n",
       "524     171\n",
       "1549    166\n",
       "304     154\n",
       "1385    151\n",
       "125     145\n",
       "2367    143\n",
       "220     141\n",
       "1438    141\n",
       "195     140\n",
       "2296    136\n",
       "35      131\n",
       "1786    131\n",
       "1883    131\n",
       "2520    127\n",
       "1034    127\n",
       "2252    126\n",
       "1574    125\n",
       "2307    125\n",
       "527     125\n",
       "2175    124\n",
       "1627    123\n",
       "2404    123\n",
       "1289    122\n",
       "2115    121\n",
       "2096    120\n",
       "1040    118\n",
       "1893    117\n",
       "       ... \n",
       "907       1\n",
       "370       1\n",
       "210       1\n",
       "146       1\n",
       "114       1\n",
       "1542      1\n",
       "63        1\n",
       "76        1\n",
       "390       1\n",
       "515       1\n",
       "193       1\n",
       "464       1\n",
       "355       1\n",
       "323       1\n",
       "624       1\n",
       "282       1\n",
       "18        1\n",
       "797       1\n",
       "701       1\n",
       "362       1\n",
       "2311      1\n",
       "6         1\n",
       "915       1\n",
       "70        1\n",
       "151       1\n",
       "376       1\n",
       "140       1\n",
       "307       1\n",
       "1066      1\n",
       "59        1\n",
       "Name: Body ID, Length: 1683, dtype: int64"
      ]
     },
     "execution_count": 105,
     "metadata": {},
     "output_type": "execute_result"
    }
   ],
   "source": [
    "stances['Body ID'].value_counts()"
   ]
  },
  {
   "cell_type": "code",
   "execution_count": 106,
   "metadata": {},
   "outputs": [
    {
     "data": {
      "text/plain": [
       "array(['unrelated', 'agree', 'disagree', 'discuss'], dtype=object)"
      ]
     },
     "execution_count": 106,
     "metadata": {},
     "output_type": "execute_result"
    }
   ],
   "source": [
    "stances['Stance'].unique()"
   ]
  },
  {
   "cell_type": "code",
   "execution_count": 107,
   "metadata": {
    "scrolled": true
   },
   "outputs": [
    {
     "name": "stdout",
     "output_type": "stream",
     "text": [
      "Bodies shape: (1683, 2)\n",
      "Stances shape: (49972, 3)\n"
     ]
    }
   ],
   "source": [
    "print('Bodies shape:', bodies.shape)\n",
    "print('Stances shape:', stances.shape)\n"
   ]
  },
  {
   "cell_type": "code",
   "execution_count": 108,
   "metadata": {},
   "outputs": [
    {
     "data": {
      "text/plain": [
       "unrelated    0.731310\n",
       "discuss      0.178280\n",
       "agree        0.073601\n",
       "disagree     0.016809\n",
       "Name: Stance, dtype: float64"
      ]
     },
     "execution_count": 108,
     "metadata": {},
     "output_type": "execute_result"
    }
   ],
   "source": [
    "stances['Stance'].value_counts()/stances.shape[0]"
   ]
  },
  {
   "cell_type": "code",
   "execution_count": 109,
   "metadata": {},
   "outputs": [],
   "source": [
    "#why are stances rows much larger"
   ]
  },
  {
   "cell_type": "code",
   "execution_count": 110,
   "metadata": {
    "scrolled": false
   },
   "outputs": [
    {
     "data": {
      "text/plain": [
       "Body ID        0\n",
       "articleBody    0\n",
       "dtype: int64"
      ]
     },
     "execution_count": 110,
     "metadata": {},
     "output_type": "execute_result"
    }
   ],
   "source": [
    "bodies.isnull().sum()"
   ]
  },
  {
   "cell_type": "code",
   "execution_count": 111,
   "metadata": {
    "scrolled": true
   },
   "outputs": [
    {
     "data": {
      "text/plain": [
       "Headline    0\n",
       "Body ID     0\n",
       "Stance      0\n",
       "dtype: int64"
      ]
     },
     "execution_count": 111,
     "metadata": {},
     "output_type": "execute_result"
    }
   ],
   "source": [
    "stances.isnull().sum()"
   ]
  },
  {
   "cell_type": "code",
   "execution_count": 112,
   "metadata": {},
   "outputs": [
    {
     "name": "stdout",
     "output_type": "stream",
     "text": [
      "<class 'pandas.core.frame.DataFrame'>\n",
      "RangeIndex: 1683 entries, 0 to 1682\n",
      "Data columns (total 2 columns):\n",
      "Body ID        1683 non-null int64\n",
      "articleBody    1683 non-null object\n",
      "dtypes: int64(1), object(1)\n",
      "memory usage: 26.4+ KB\n"
     ]
    }
   ],
   "source": [
    "bodies.info()"
   ]
  },
  {
   "cell_type": "code",
   "execution_count": 113,
   "metadata": {
    "scrolled": true
   },
   "outputs": [
    {
     "name": "stdout",
     "output_type": "stream",
     "text": [
      "<class 'pandas.core.frame.DataFrame'>\n",
      "RangeIndex: 49972 entries, 0 to 49971\n",
      "Data columns (total 3 columns):\n",
      "Headline    49972 non-null object\n",
      "Body ID     49972 non-null int64\n",
      "Stance      49972 non-null object\n",
      "dtypes: int64(1), object(2)\n",
      "memory usage: 1.1+ MB\n"
     ]
    }
   ],
   "source": [
    "stances.info()"
   ]
  },
  {
   "cell_type": "code",
   "execution_count": 114,
   "metadata": {},
   "outputs": [
    {
     "name": "stdout",
     "output_type": "stream",
     "text": [
      "Total stances: 49972\n",
      "Total article bodies: 1683\n"
     ]
    }
   ],
   "source": [
    "print(\"Total stances: \" + str(len(stances.Stance)))\n",
    "print(\"Total article bodies: \" + str(len(bodies.articleBody)))"
   ]
  },
  {
   "cell_type": "code",
   "execution_count": 115,
   "metadata": {
    "scrolled": false
   },
   "outputs": [
    {
     "data": {
      "text/html": [
       "<div>\n",
       "<style scoped>\n",
       "    .dataframe tbody tr th:only-of-type {\n",
       "        vertical-align: middle;\n",
       "    }\n",
       "\n",
       "    .dataframe tbody tr th {\n",
       "        vertical-align: top;\n",
       "    }\n",
       "\n",
       "    .dataframe thead th {\n",
       "        text-align: right;\n",
       "    }\n",
       "</style>\n",
       "<table border=\"1\" class=\"dataframe\">\n",
       "  <thead>\n",
       "    <tr style=\"text-align: right;\">\n",
       "      <th></th>\n",
       "      <th>Headline</th>\n",
       "      <th>Body ID</th>\n",
       "      <th>Stance</th>\n",
       "      <th>articleBody</th>\n",
       "    </tr>\n",
       "  </thead>\n",
       "  <tbody>\n",
       "    <tr>\n",
       "      <th>0</th>\n",
       "      <td>Police find mass graves with at least '15 bodi...</td>\n",
       "      <td>712</td>\n",
       "      <td>unrelated</td>\n",
       "      <td>Danny Boyle is directing the untitled film\\n\\n...</td>\n",
       "    </tr>\n",
       "    <tr>\n",
       "      <th>1</th>\n",
       "      <td>Seth Rogen to Play Apple’s Steve Wozniak</td>\n",
       "      <td>712</td>\n",
       "      <td>discuss</td>\n",
       "      <td>Danny Boyle is directing the untitled film\\n\\n...</td>\n",
       "    </tr>\n",
       "    <tr>\n",
       "      <th>2</th>\n",
       "      <td>Mexico police find mass grave near site 43 stu...</td>\n",
       "      <td>712</td>\n",
       "      <td>unrelated</td>\n",
       "      <td>Danny Boyle is directing the untitled film\\n\\n...</td>\n",
       "    </tr>\n",
       "    <tr>\n",
       "      <th>3</th>\n",
       "      <td>Mexico Says Missing Students Not Found In Firs...</td>\n",
       "      <td>712</td>\n",
       "      <td>unrelated</td>\n",
       "      <td>Danny Boyle is directing the untitled film\\n\\n...</td>\n",
       "    </tr>\n",
       "    <tr>\n",
       "      <th>4</th>\n",
       "      <td>New iOS 8 bug can delete all of your iCloud do...</td>\n",
       "      <td>712</td>\n",
       "      <td>unrelated</td>\n",
       "      <td>Danny Boyle is directing the untitled film\\n\\n...</td>\n",
       "    </tr>\n",
       "  </tbody>\n",
       "</table>\n",
       "</div>"
      ],
      "text/plain": [
       "                                            Headline  Body ID     Stance  \\\n",
       "0  Police find mass graves with at least '15 bodi...      712  unrelated   \n",
       "1           Seth Rogen to Play Apple’s Steve Wozniak      712    discuss   \n",
       "2  Mexico police find mass grave near site 43 stu...      712  unrelated   \n",
       "3  Mexico Says Missing Students Not Found In Firs...      712  unrelated   \n",
       "4  New iOS 8 bug can delete all of your iCloud do...      712  unrelated   \n",
       "\n",
       "                                         articleBody  \n",
       "0  Danny Boyle is directing the untitled film\\n\\n...  \n",
       "1  Danny Boyle is directing the untitled film\\n\\n...  \n",
       "2  Danny Boyle is directing the untitled film\\n\\n...  \n",
       "3  Danny Boyle is directing the untitled film\\n\\n...  \n",
       "4  Danny Boyle is directing the untitled film\\n\\n...  "
      ]
     },
     "execution_count": 115,
     "metadata": {},
     "output_type": "execute_result"
    }
   ],
   "source": [
    "#merge on bodyID \n",
    "\n",
    "df_all = stances.merge(bodies, on = 'Body ID')\n",
    "#df_all = df_all.drop('Stance', axis =1)\n",
    "df_all.head()"
   ]
  },
  {
   "cell_type": "code",
   "execution_count": 116,
   "metadata": {},
   "outputs": [
    {
     "data": {
      "text/plain": [
       "Headline       0\n",
       "Body ID        0\n",
       "Stance         0\n",
       "articleBody    0\n",
       "dtype: int64"
      ]
     },
     "execution_count": 116,
     "metadata": {},
     "output_type": "execute_result"
    }
   ],
   "source": [
    "df_all.isnull().sum()"
   ]
  },
  {
   "cell_type": "code",
   "execution_count": 117,
   "metadata": {
    "scrolled": true
   },
   "outputs": [
    {
     "data": {
      "text/plain": [
       "(49972, 4)"
      ]
     },
     "execution_count": 117,
     "metadata": {},
     "output_type": "execute_result"
    }
   ],
   "source": [
    "df_all.shape"
   ]
  },
  {
   "cell_type": "markdown",
   "metadata": {},
   "source": [
    "## Baseline"
   ]
  },
  {
   "cell_type": "code",
   "execution_count": 118,
   "metadata": {},
   "outputs": [
    {
     "data": {
      "text/plain": [
       "unrelated    0.731310\n",
       "discuss      0.178280\n",
       "agree        0.073601\n",
       "disagree     0.016809\n",
       "Name: Stance, dtype: float64"
      ]
     },
     "execution_count": 118,
     "metadata": {},
     "output_type": "execute_result"
    }
   ],
   "source": [
    "stances['Stance'].value_counts(normalize=True)"
   ]
  },
  {
   "cell_type": "markdown",
   "metadata": {},
   "source": [
    "# NLP"
   ]
  },
  {
   "cell_type": "markdown",
   "metadata": {},
   "source": [
    "## Count Vectorizer"
   ]
  },
  {
   "cell_type": "code",
   "execution_count": 119,
   "metadata": {},
   "outputs": [
    {
     "data": {
      "text/plain": [
       "0.7320899703834147"
      ]
     },
     "execution_count": 119,
     "metadata": {},
     "output_type": "execute_result"
    }
   ],
   "source": [
    "#body\n",
    "X_train = df_all[['articleBody']]\n",
    "y_train = stances['Stance']\n",
    "X_test = df_all[['articleBody']]\n",
    "y_test = stances['Stance']\n",
    "\n",
    "cvec_body = CountVectorizer(stop_words = 'english')\n",
    "\n",
    "train_body_cvec = cvec_body.fit_transform(X_train['articleBody'])\n",
    "test_body_cvec = cvec_body.transform(X_test['articleBody'])\n",
    "\n",
    "lr = LogisticRegression()\n",
    "lr.fit(train_body_cvec, y_train)\n",
    "lr.score(test_body_cvec, y_test)"
   ]
  },
  {
   "cell_type": "code",
   "execution_count": 120,
   "metadata": {},
   "outputs": [
    {
     "data": {
      "text/plain": [
       "0.7313495557512207"
      ]
     },
     "execution_count": 120,
     "metadata": {},
     "output_type": "execute_result"
    }
   ],
   "source": [
    "#headline\n",
    "X_train = df_all[['Headline']]\n",
    "y_train = stances['Stance']\n",
    "X_test = df_all[['Headline']]\n",
    "y_test = stances['Stance']\n",
    "\n",
    "cvec_headline= CountVectorizer(stop_words = 'english')\n",
    "\n",
    "train_headline_cvec = cvec_headline.fit_transform(X_train['Headline'])\n",
    "test_headline_cvec = cvec_headline.transform(X_test['Headline'])\n",
    "\n",
    "lr = LogisticRegression()\n",
    "lr.fit(train_headline_cvec, y_train)\n",
    "lr.score(test_headline_cvec, y_test)"
   ]
  },
  {
   "cell_type": "code",
   "execution_count": 121,
   "metadata": {},
   "outputs": [],
   "source": [
    "#combine headline and body cvec and that will be x_train\n",
    "#fit model on X_train \n",
    "#if model doesnt do well do truncated svd then cosine similarity between bodies and headline which will become a feature \n"
   ]
  },
  {
   "cell_type": "code",
   "execution_count": 122,
   "metadata": {},
   "outputs": [],
   "source": [
    "#do i still need these \n",
    "#df  = pd.DataFrame(X_test_count.todense(),\n",
    "                   #columns=cvec.get_feature_names(), index = [bodies.articleBody]) \n",
    "#df.head()\n"
   ]
  },
  {
   "cell_type": "code",
   "execution_count": 123,
   "metadata": {
    "scrolled": true
   },
   "outputs": [],
   "source": [
    "#df.sort_index(axis = 0, ascending=False).head()"
   ]
  },
  {
   "cell_type": "code",
   "execution_count": 124,
   "metadata": {
    "scrolled": true
   },
   "outputs": [],
   "source": [
    "#df.sum().sort_values(ascending=False).head(10)"
   ]
  },
  {
   "cell_type": "code",
   "execution_count": 125,
   "metadata": {},
   "outputs": [],
   "source": [
    "#df = df.reindex_axis(df.sum().sort_values(ascending=False).index, axis =1)\n",
    "#df"
   ]
  },
  {
   "cell_type": "markdown",
   "metadata": {},
   "source": [
    "# Hashing Vectorizer"
   ]
  },
  {
   "cell_type": "code",
   "execution_count": 126,
   "metadata": {},
   "outputs": [],
   "source": [
    "#body\n",
    "X_train = df_all[['articleBody']]\n",
    "y_train = stances['Stance']\n",
    "X_test = df_all[['articleBody']]\n",
    "y_test = stances['Stance']"
   ]
  },
  {
   "cell_type": "code",
   "execution_count": 127,
   "metadata": {},
   "outputs": [
    {
     "data": {
      "text/plain": [
       "0.7313095333386697"
      ]
     },
     "execution_count": 127,
     "metadata": {},
     "output_type": "execute_result"
    }
   ],
   "source": [
    "hvec_body = HashingVectorizer(stop_words = 'english')\n",
    "\n",
    "train_body_hvec = hvec_body.fit_transform(X_train['articleBody'])\n",
    "test_body_hvec = hvec_body.transform(X_test['articleBody'])\n",
    "\n",
    "lr = LogisticRegression()\n",
    "lr.fit(train_body_hvec, y_train)\n",
    "lr.score(test_body_hvec, y_test)"
   ]
  },
  {
   "cell_type": "code",
   "execution_count": 128,
   "metadata": {},
   "outputs": [],
   "source": [
    "#headline\n",
    "X_train = df_all[['Headline']]\n",
    "y_train = stances['Stance']\n",
    "X_test = df_all[['Headline']]\n",
    "y_test = stances['Stance']"
   ]
  },
  {
   "cell_type": "code",
   "execution_count": 129,
   "metadata": {},
   "outputs": [
    {
     "data": {
      "text/plain": [
       "0.7313095333386697"
      ]
     },
     "execution_count": 129,
     "metadata": {},
     "output_type": "execute_result"
    }
   ],
   "source": [
    "hvec_headline = HashingVectorizer(stop_words = 'english')\n",
    "\n",
    "train_headline_hvec = hvec_headline.fit_transform(X_train['Headline'])\n",
    "test_headline_hvec = hvec_headline.transform(X_test['Headline'])\n",
    "\n",
    "lr = LogisticRegression()\n",
    "lr.fit(train_headline_hvec, y_train)\n",
    "lr.score(test_headline_hvec, y_test)"
   ]
  },
  {
   "cell_type": "code",
   "execution_count": 130,
   "metadata": {
    "scrolled": true
   },
   "outputs": [],
   "source": [
    "#df_hv = pd.DataFrame(hvec.transform(X_test).todense(), index=[bodies.articleBody])  \n",
    "#df_hv.head()"
   ]
  },
  {
   "cell_type": "code",
   "execution_count": 131,
   "metadata": {},
   "outputs": [],
   "source": [
    "#df_hv.sum().sort_values(ascending=False).head(10)"
   ]
  },
  {
   "cell_type": "code",
   "execution_count": 132,
   "metadata": {},
   "outputs": [],
   "source": [
    "#df_hv = df_hv.reindex_axis(df_hv.sum().sort_values(ascending=False).index, axis =1)\n",
    "#df_hv"
   ]
  },
  {
   "cell_type": "code",
   "execution_count": 133,
   "metadata": {
    "scrolled": true
   },
   "outputs": [],
   "source": [
    "#what can i do with this "
   ]
  },
  {
   "cell_type": "markdown",
   "metadata": {},
   "source": [
    "# TF IDF "
   ]
  },
  {
   "cell_type": "code",
   "execution_count": 134,
   "metadata": {},
   "outputs": [],
   "source": [
    "#body\n",
    "X_train = df_all[['articleBody']]\n",
    "y_train = stances['Stance']\n",
    "X_test = df_all[['articleBody']]\n",
    "y_test = stances['Stance']"
   ]
  },
  {
   "cell_type": "code",
   "execution_count": 135,
   "metadata": {},
   "outputs": [
    {
     "data": {
      "text/plain": [
       "0.7313095333386697"
      ]
     },
     "execution_count": 135,
     "metadata": {},
     "output_type": "execute_result"
    }
   ],
   "source": [
    "tvec_body = TfidfVectorizer(stop_words = 'english')\n",
    "\n",
    "train_body_tvec = tvec_body.fit_transform(X_train['articleBody'])\n",
    "test_body_tvec = tvec_body.transform(X_test['articleBody'])\n",
    "\n",
    "lr = LogisticRegression()\n",
    "lr.fit(train_body_tvec, y_train)\n",
    "lr.score(test_body_tvec, y_test)"
   ]
  },
  {
   "cell_type": "code",
   "execution_count": 136,
   "metadata": {},
   "outputs": [],
   "source": [
    "#headline\n",
    "X_train = df_all[['Headline']]\n",
    "y_train = stances['Stance']\n",
    "X_test = df_all[['Headline']]\n",
    "y_test = stances['Stance']"
   ]
  },
  {
   "cell_type": "code",
   "execution_count": 137,
   "metadata": {},
   "outputs": [
    {
     "data": {
      "text/plain": [
       "0.7313095333386697"
      ]
     },
     "execution_count": 137,
     "metadata": {},
     "output_type": "execute_result"
    }
   ],
   "source": [
    "tvec_headline = TfidfVectorizer(stop_words = 'english')\n",
    "\n",
    "train_headline_tvec = tvec_headline.fit_transform(X_train['Headline'])\n",
    "test_headline_tvec = tvec_headline.transform(X_test['Headline'])\n",
    "\n",
    "lr = LogisticRegression()\n",
    "lr.fit(train_headline_tvec, y_train)\n",
    "lr.score(test_headline_tvec, y_test)"
   ]
  },
  {
   "cell_type": "code",
   "execution_count": 138,
   "metadata": {},
   "outputs": [],
   "source": [
    "#df_tfidf  = pd.DataFrame(tvec.transform(X_test).todense(),\n",
    "                   #columns=tvec.get_feature_names(),\n",
    "                   #index=[bodies.articleBody])\n",
    "#df_tfidf.head()\n",
    "#df.transpose().sort_values('bodies.articleBody', ascending=False).head(10).transpose()"
   ]
  },
  {
   "cell_type": "code",
   "execution_count": 139,
   "metadata": {},
   "outputs": [],
   "source": [
    "#df_tfidf.sort_index(axis = 0, ascending=False).head()"
   ]
  },
  {
   "cell_type": "code",
   "execution_count": 140,
   "metadata": {
    "scrolled": true
   },
   "outputs": [],
   "source": [
    "#df_tfidf.sum().sort_values(ascending=False).head(10)"
   ]
  },
  {
   "cell_type": "code",
   "execution_count": 141,
   "metadata": {},
   "outputs": [],
   "source": [
    "#df_tfidf = df_tfidf.reindex_axis(df_tfidf.sum().sort_values(ascending=False).index, axis =1)\n",
    "#df_tfidf"
   ]
  },
  {
   "cell_type": "markdown",
   "metadata": {},
   "source": [
    "## LDA"
   ]
  },
  {
   "cell_type": "code",
   "execution_count": 142,
   "metadata": {},
   "outputs": [],
   "source": [
    "def text_process(text):\n",
    "    '''\n",
    "    Takes in a string of text, then performs the following:\n",
    "        1. Tokenizes and removes punctuation\n",
    "        2. Removes stopwords\n",
    "        3. Stems\n",
    "        4. Returns a list of the cleaned text\n",
    "    '''\n",
    "    if pd.isnull(text):\n",
    "        return []\n",
    "    # tokenizing and removing punctuation\n",
    "    tokenizer = RegexpTokenizer(r'\\w+')\n",
    "    text_processed=tokenizer.tokenize(text)\n",
    "    \n",
    "    # removing any stopwords\n",
    "    text_processed = [word.lower() for word in text_processed if word.lower() not in stopwords.words('english')]\n",
    "    \n",
    "    # stemming\n",
    "    #porter_stemmer = PorterStemmer()\n",
    "    wordnet_lemmatizer = WordNetLemmatizer()\n",
    "    \n",
    "    text_processed = [wordnet_lemmatizer.lemmatize(word) for word in text_processed]\n",
    "    \n",
    "    try:\n",
    "        text_processed.remove('b')\n",
    "    except: \n",
    "        pass\n",
    "\n",
    "    return text_processed ## <-- we're keeping our words distinct"
   ]
  },
  {
   "cell_type": "code",
   "execution_count": 143,
   "metadata": {},
   "outputs": [],
   "source": [
    "df_all['articleBody'] = df_all['articleBody'].apply(text_process)"
   ]
  },
  {
   "cell_type": "code",
   "execution_count": 144,
   "metadata": {
    "scrolled": true
   },
   "outputs": [
    {
     "data": {
      "text/plain": [
       "0    [danny, boyle, directing, untitled, film, seth...\n",
       "1    [danny, boyle, directing, untitled, film, seth...\n",
       "2    [danny, boyle, directing, untitled, film, seth...\n",
       "3    [danny, boyle, directing, untitled, film, seth...\n",
       "4    [danny, boyle, directing, untitled, film, seth...\n",
       "Name: articleBody, dtype: object"
      ]
     },
     "execution_count": 144,
     "metadata": {},
     "output_type": "execute_result"
    }
   ],
   "source": [
    "df_all['articleBody'].head()"
   ]
  },
  {
   "cell_type": "code",
   "execution_count": 145,
   "metadata": {},
   "outputs": [],
   "source": [
    "df_all['Headline'] = df_all['Headline'].apply(text_process)"
   ]
  },
  {
   "cell_type": "code",
   "execution_count": 146,
   "metadata": {
    "scrolled": true
   },
   "outputs": [
    {
     "data": {
      "text/plain": [
       "0    [police, find, mass, graf, least, 15, body, ne...\n",
       "1           [seth, rogen, play, apple, steve, wozniak]\n",
       "2    [mexico, police, find, mass, grave, near, site...\n",
       "3    [mexico, say, missing, student, found, first, ...\n",
       "4          [new, io, 8, bug, delete, icloud, document]\n",
       "Name: Headline, dtype: object"
      ]
     },
     "execution_count": 146,
     "metadata": {},
     "output_type": "execute_result"
    }
   ],
   "source": [
    "df_all['Headline'].head()"
   ]
  },
  {
   "cell_type": "code",
   "execution_count": 147,
   "metadata": {},
   "outputs": [],
   "source": []
  },
  {
   "cell_type": "markdown",
   "metadata": {},
   "source": [
    "## Fit LDA Model"
   ]
  },
  {
   "cell_type": "code",
   "execution_count": 149,
   "metadata": {},
   "outputs": [],
   "source": [
    "from gensim import corpora, models\n",
    "import pyLDAvis.gensim\n",
    "\n",
    "pyLDAvis.enable_notebook()\n",
    "\n",
    "np.random.seed(42)"
   ]
  },
  {
   "cell_type": "markdown",
   "metadata": {},
   "source": [
    "## LDA Article Body"
   ]
  },
  {
   "cell_type": "code",
   "execution_count": 49,
   "metadata": {},
   "outputs": [],
   "source": [
    "dictionary = corpora.Dictionary(df_all['articleBody'])\n",
    "\n",
    "corpus = [dictionary.doc2bow(text) for text in df_all['articleBody']]\n",
    "\n",
    "ldamodel = models.ldamodel.LdaModel(corpus,                     # pass in our corpus\n",
    "                                    id2word = dictionary,       # matches each word to its \"number\" or \"spot\" in the dictionary\n",
    "                                    num_topics = 20,             # number of topics T to find\n",
    "                                    passes = 5,                 # number of passes through corpus; similar to number of epochs\n",
    "                                    minimum_probability = 0.01) # only include topics above this probability threshold"
   ]
  },
  {
   "cell_type": "code",
   "execution_count": 50,
   "metadata": {},
   "outputs": [
    {
     "data": {
      "text/html": [
       "\n",
       "<link rel=\"stylesheet\" type=\"text/css\" href=\"https://cdn.rawgit.com/bmabey/pyLDAvis/files/ldavis.v1.0.0.css\">\n",
       "\n",
       "\n",
       "<div id=\"ldavis_el1203961859096086684504038\"></div>\n",
       "<script type=\"text/javascript\">\n",
       "\n",
       "var ldavis_el1203961859096086684504038_data = {\"mdsDat\": {\"Freq\": [8.472820281982422, 7.594943046569824, 7.31140661239624, 6.791108131408691, 6.466342449188232, 5.406430244445801, 5.100570201873779, 4.986404895782471, 4.938589096069336, 4.88222074508667, 4.623836517333984, 4.126439571380615, 4.1234259605407715, 4.007946968078613, 3.8794965744018555, 3.818963050842285, 3.8084044456481934, 3.5919840335845947, 3.3998236656188965, 2.668844223022461], \"cluster\": [1, 1, 1, 1, 1, 1, 1, 1, 1, 1, 1, 1, 1, 1, 1, 1, 1, 1, 1, 1], \"topics\": [1, 2, 3, 4, 5, 6, 7, 8, 9, 10, 11, 12, 13, 14, 15, 16, 17, 18, 19, 20], \"x\": [0.2268779542891644, -0.11229208727238486, -0.08354329996966663, -0.1085026357045523, 0.17405790114507605, -0.1870854110718196, 0.11205275259768105, 0.2185287243696957, -0.1175588510172061, 0.05965318005376552, 0.11173349210043457, -0.14379744904735367, 0.02420897032704995, -0.1059138245132218, -0.10331620061850118, -0.013767730798659459, -0.12977564515707504, -0.10250199327842198, 0.10992753510521946, 0.17101461846077498], \"y\": [-0.019105832388762362, -0.0004220017225811447, -0.021565018399083705, 0.08076605248558004, -0.042057508323743664, -0.06006172238943025, 0.049263227070398014, -0.08403781643724904, 0.01781975654044417, -0.10094162115261451, -0.08045533039846597, -0.016095802363948534, 0.29469396072081105, 0.023173878691789357, -0.14188034618776896, 0.04242818924834219, -0.044185518882781105, -0.032554174948671626, 0.2616052002540268, -0.12638757141629053]}, \"tinfo\": {\"Category\": [\"Default\", \"Default\", \"Default\", \"Default\", \"Default\", \"Default\", \"Default\", \"Default\", \"Default\", \"Default\", \"Default\", \"Default\", \"Default\", \"Default\", \"Default\", \"Default\", \"Default\", \"Default\", \"Default\", \"Default\", \"Default\", \"Default\", \"Default\", \"Default\", \"Default\", \"Default\", \"Default\", \"Default\", \"Default\", \"Default\", \"Topic1\", \"Topic1\", \"Topic1\", \"Topic1\", \"Topic1\", \"Topic1\", \"Topic1\", \"Topic1\", \"Topic1\", \"Topic1\", \"Topic1\", \"Topic1\", \"Topic1\", \"Topic1\", \"Topic1\", \"Topic1\", \"Topic1\", \"Topic1\", \"Topic1\", \"Topic1\", \"Topic1\", \"Topic1\", \"Topic1\", \"Topic1\", \"Topic1\", \"Topic1\", \"Topic1\", \"Topic1\", \"Topic1\", \"Topic1\", \"Topic1\", \"Topic1\", \"Topic1\", \"Topic1\", \"Topic1\", \"Topic1\", \"Topic1\", \"Topic1\", \"Topic1\", \"Topic1\", \"Topic1\", \"Topic1\", \"Topic1\", \"Topic1\", \"Topic1\", \"Topic1\", \"Topic1\", \"Topic1\", \"Topic1\", \"Topic1\", \"Topic1\", \"Topic1\", \"Topic1\", \"Topic1\", \"Topic1\", \"Topic1\", \"Topic1\", \"Topic1\", \"Topic1\", \"Topic1\", \"Topic1\", \"Topic1\", \"Topic1\", \"Topic1\", \"Topic1\", \"Topic1\", \"Topic1\", \"Topic1\", \"Topic1\", \"Topic2\", \"Topic2\", \"Topic2\", \"Topic2\", \"Topic2\", \"Topic2\", \"Topic2\", \"Topic2\", \"Topic2\", \"Topic2\", \"Topic2\", \"Topic2\", \"Topic2\", \"Topic2\", \"Topic2\", \"Topic2\", \"Topic2\", \"Topic2\", \"Topic2\", \"Topic2\", \"Topic2\", \"Topic2\", \"Topic2\", \"Topic2\", \"Topic2\", \"Topic2\", \"Topic2\", \"Topic2\", \"Topic2\", \"Topic2\", \"Topic2\", \"Topic2\", \"Topic2\", \"Topic2\", \"Topic2\", \"Topic2\", \"Topic2\", \"Topic2\", \"Topic2\", \"Topic2\", \"Topic2\", \"Topic2\", \"Topic2\", \"Topic2\", \"Topic2\", \"Topic2\", \"Topic2\", \"Topic2\", \"Topic2\", \"Topic2\", \"Topic2\", \"Topic2\", \"Topic2\", \"Topic2\", \"Topic2\", \"Topic2\", \"Topic2\", \"Topic2\", \"Topic2\", \"Topic2\", \"Topic2\", \"Topic2\", \"Topic2\", \"Topic2\", \"Topic2\", \"Topic2\", \"Topic2\", \"Topic2\", \"Topic2\", \"Topic2\", \"Topic2\", \"Topic2\", \"Topic3\", \"Topic3\", \"Topic3\", \"Topic3\", \"Topic3\", \"Topic3\", \"Topic3\", \"Topic3\", \"Topic3\", \"Topic3\", \"Topic3\", \"Topic3\", \"Topic3\", \"Topic3\", \"Topic3\", \"Topic3\", \"Topic3\", \"Topic3\", \"Topic3\", \"Topic3\", \"Topic3\", \"Topic3\", \"Topic3\", \"Topic3\", \"Topic3\", \"Topic3\", \"Topic3\", \"Topic3\", \"Topic3\", \"Topic3\", \"Topic3\", \"Topic3\", \"Topic3\", \"Topic3\", \"Topic3\", \"Topic3\", \"Topic3\", \"Topic3\", \"Topic3\", \"Topic3\", \"Topic3\", \"Topic3\", \"Topic3\", \"Topic3\", \"Topic3\", \"Topic3\", \"Topic3\", \"Topic3\", \"Topic3\", \"Topic3\", \"Topic3\", \"Topic3\", \"Topic3\", \"Topic3\", \"Topic3\", \"Topic3\", \"Topic3\", \"Topic3\", \"Topic3\", \"Topic3\", \"Topic3\", \"Topic3\", \"Topic3\", \"Topic3\", \"Topic3\", \"Topic3\", \"Topic3\", \"Topic3\", \"Topic3\", \"Topic3\", \"Topic3\", \"Topic3\", \"Topic3\", \"Topic3\", \"Topic3\", \"Topic3\", \"Topic3\", \"Topic3\", \"Topic4\", \"Topic4\", \"Topic4\", \"Topic4\", \"Topic4\", \"Topic4\", \"Topic4\", \"Topic4\", \"Topic4\", \"Topic4\", \"Topic4\", \"Topic4\", \"Topic4\", \"Topic4\", \"Topic4\", \"Topic4\", \"Topic4\", \"Topic4\", \"Topic4\", \"Topic4\", \"Topic4\", \"Topic4\", \"Topic4\", \"Topic4\", \"Topic4\", \"Topic4\", \"Topic4\", \"Topic4\", \"Topic4\", \"Topic4\", \"Topic4\", \"Topic4\", \"Topic4\", \"Topic4\", \"Topic4\", \"Topic4\", \"Topic4\", \"Topic4\", \"Topic4\", \"Topic4\", \"Topic4\", \"Topic4\", \"Topic4\", \"Topic4\", \"Topic4\", \"Topic4\", \"Topic4\", \"Topic4\", \"Topic4\", \"Topic4\", \"Topic4\", \"Topic4\", \"Topic4\", \"Topic4\", \"Topic4\", \"Topic4\", \"Topic4\", \"Topic4\", \"Topic4\", \"Topic4\", \"Topic4\", \"Topic4\", \"Topic4\", \"Topic4\", \"Topic4\", \"Topic4\", \"Topic4\", \"Topic4\", \"Topic4\", \"Topic4\", \"Topic4\", \"Topic4\", \"Topic4\", \"Topic4\", \"Topic4\", \"Topic4\", \"Topic4\", \"Topic4\", \"Topic4\", \"Topic4\", \"Topic4\", \"Topic4\", \"Topic4\", \"Topic4\", \"Topic4\", \"Topic5\", \"Topic5\", \"Topic5\", \"Topic5\", \"Topic5\", \"Topic5\", \"Topic5\", \"Topic5\", \"Topic5\", \"Topic5\", \"Topic5\", \"Topic5\", \"Topic5\", \"Topic5\", \"Topic5\", \"Topic5\", \"Topic5\", \"Topic5\", \"Topic5\", \"Topic5\", \"Topic5\", \"Topic5\", \"Topic5\", \"Topic5\", \"Topic5\", \"Topic5\", \"Topic5\", \"Topic5\", \"Topic5\", \"Topic5\", \"Topic5\", \"Topic5\", \"Topic5\", \"Topic5\", \"Topic5\", \"Topic5\", \"Topic5\", \"Topic5\", \"Topic5\", \"Topic5\", \"Topic5\", \"Topic5\", \"Topic5\", \"Topic5\", \"Topic5\", \"Topic5\", \"Topic5\", \"Topic5\", \"Topic5\", \"Topic5\", \"Topic5\", \"Topic5\", \"Topic5\", \"Topic5\", \"Topic5\", \"Topic5\", \"Topic5\", \"Topic5\", \"Topic5\", \"Topic5\", \"Topic5\", \"Topic5\", \"Topic5\", \"Topic5\", \"Topic5\", \"Topic5\", \"Topic5\", \"Topic5\", \"Topic5\", \"Topic5\", \"Topic6\", \"Topic6\", \"Topic6\", \"Topic6\", \"Topic6\", \"Topic6\", \"Topic6\", \"Topic6\", \"Topic6\", \"Topic6\", \"Topic6\", \"Topic6\", \"Topic6\", \"Topic6\", \"Topic6\", \"Topic6\", \"Topic6\", \"Topic6\", \"Topic6\", \"Topic6\", \"Topic6\", \"Topic6\", \"Topic6\", \"Topic6\", \"Topic6\", \"Topic6\", \"Topic6\", \"Topic6\", \"Topic6\", \"Topic6\", \"Topic6\", \"Topic6\", \"Topic6\", \"Topic6\", \"Topic6\", \"Topic6\", \"Topic6\", \"Topic6\", \"Topic6\", \"Topic6\", \"Topic6\", \"Topic6\", \"Topic6\", \"Topic6\", \"Topic6\", \"Topic6\", \"Topic6\", \"Topic6\", \"Topic6\", \"Topic6\", \"Topic6\", \"Topic6\", \"Topic6\", \"Topic6\", \"Topic6\", \"Topic6\", \"Topic6\", \"Topic6\", \"Topic6\", \"Topic6\", \"Topic6\", \"Topic6\", \"Topic6\", \"Topic7\", \"Topic7\", \"Topic7\", \"Topic7\", \"Topic7\", \"Topic7\", \"Topic7\", \"Topic7\", \"Topic7\", \"Topic7\", \"Topic7\", \"Topic7\", \"Topic7\", \"Topic7\", \"Topic7\", \"Topic7\", \"Topic7\", \"Topic7\", \"Topic7\", \"Topic7\", \"Topic7\", \"Topic7\", \"Topic7\", \"Topic7\", \"Topic7\", \"Topic7\", \"Topic7\", \"Topic7\", \"Topic7\", \"Topic7\", \"Topic7\", \"Topic7\", \"Topic7\", \"Topic7\", \"Topic7\", \"Topic7\", \"Topic7\", \"Topic7\", \"Topic7\", \"Topic7\", \"Topic7\", \"Topic7\", \"Topic7\", \"Topic7\", \"Topic7\", \"Topic7\", \"Topic7\", \"Topic7\", \"Topic7\", \"Topic7\", \"Topic7\", \"Topic7\", \"Topic7\", \"Topic7\", \"Topic7\", \"Topic7\", \"Topic7\", \"Topic7\", \"Topic7\", \"Topic7\", \"Topic7\", \"Topic7\", \"Topic7\", \"Topic7\", \"Topic7\", \"Topic7\", \"Topic7\", \"Topic8\", \"Topic8\", \"Topic8\", \"Topic8\", \"Topic8\", \"Topic8\", \"Topic8\", \"Topic8\", \"Topic8\", \"Topic8\", \"Topic8\", \"Topic8\", \"Topic8\", \"Topic8\", \"Topic8\", \"Topic8\", \"Topic8\", \"Topic8\", \"Topic8\", \"Topic8\", \"Topic8\", \"Topic8\", \"Topic8\", \"Topic8\", \"Topic8\", \"Topic8\", \"Topic8\", \"Topic8\", \"Topic8\", \"Topic8\", \"Topic8\", \"Topic8\", \"Topic8\", \"Topic8\", \"Topic8\", \"Topic8\", \"Topic8\", \"Topic8\", \"Topic8\", \"Topic8\", \"Topic8\", \"Topic8\", \"Topic8\", \"Topic8\", \"Topic8\", \"Topic8\", \"Topic8\", \"Topic8\", \"Topic8\", \"Topic8\", \"Topic8\", \"Topic8\", \"Topic8\", \"Topic8\", \"Topic8\", \"Topic8\", \"Topic8\", \"Topic8\", \"Topic8\", \"Topic8\", \"Topic8\", \"Topic8\", \"Topic8\", \"Topic8\", \"Topic9\", \"Topic9\", \"Topic9\", \"Topic9\", \"Topic9\", \"Topic9\", \"Topic9\", \"Topic9\", \"Topic9\", \"Topic9\", \"Topic9\", \"Topic9\", \"Topic9\", \"Topic9\", \"Topic9\", \"Topic9\", \"Topic9\", \"Topic9\", \"Topic9\", \"Topic9\", \"Topic9\", \"Topic9\", \"Topic9\", \"Topic9\", \"Topic9\", \"Topic9\", \"Topic9\", \"Topic9\", \"Topic9\", \"Topic9\", \"Topic9\", \"Topic9\", \"Topic9\", \"Topic9\", \"Topic9\", \"Topic9\", \"Topic9\", \"Topic9\", \"Topic9\", \"Topic9\", \"Topic9\", \"Topic9\", \"Topic9\", \"Topic9\", \"Topic9\", \"Topic9\", \"Topic9\", \"Topic9\", \"Topic9\", \"Topic9\", \"Topic9\", \"Topic9\", \"Topic9\", \"Topic9\", \"Topic9\", \"Topic9\", \"Topic9\", \"Topic9\", \"Topic9\", \"Topic9\", \"Topic9\", \"Topic9\", \"Topic9\", \"Topic9\", \"Topic9\", \"Topic9\", \"Topic9\", \"Topic9\", \"Topic9\", \"Topic9\", \"Topic9\", \"Topic9\", \"Topic9\", \"Topic9\", \"Topic10\", \"Topic10\", \"Topic10\", \"Topic10\", \"Topic10\", \"Topic10\", \"Topic10\", \"Topic10\", \"Topic10\", \"Topic10\", \"Topic10\", \"Topic10\", \"Topic10\", \"Topic10\", \"Topic10\", \"Topic10\", \"Topic10\", \"Topic10\", \"Topic10\", \"Topic10\", \"Topic10\", \"Topic10\", \"Topic10\", \"Topic10\", \"Topic10\", \"Topic10\", \"Topic10\", \"Topic10\", \"Topic10\", \"Topic10\", \"Topic10\", \"Topic10\", \"Topic10\", \"Topic10\", \"Topic10\", \"Topic10\", \"Topic10\", \"Topic10\", \"Topic10\", \"Topic10\", \"Topic10\", \"Topic10\", \"Topic10\", \"Topic10\", \"Topic10\", \"Topic10\", \"Topic10\", \"Topic10\", \"Topic10\", \"Topic10\", \"Topic10\", \"Topic10\", \"Topic10\", \"Topic10\", \"Topic10\", \"Topic10\", \"Topic10\", \"Topic10\", \"Topic10\", \"Topic10\", \"Topic11\", \"Topic11\", \"Topic11\", \"Topic11\", \"Topic11\", \"Topic11\", \"Topic11\", \"Topic11\", \"Topic11\", \"Topic11\", \"Topic11\", \"Topic11\", \"Topic11\", \"Topic11\", \"Topic11\", \"Topic11\", \"Topic11\", \"Topic11\", \"Topic11\", \"Topic11\", \"Topic11\", \"Topic11\", \"Topic11\", \"Topic11\", \"Topic11\", \"Topic11\", \"Topic11\", \"Topic11\", \"Topic11\", \"Topic11\", \"Topic11\", \"Topic11\", \"Topic11\", \"Topic11\", \"Topic11\", \"Topic11\", \"Topic11\", \"Topic11\", \"Topic11\", \"Topic11\", \"Topic11\", \"Topic11\", \"Topic11\", \"Topic11\", \"Topic11\", \"Topic11\", \"Topic11\", \"Topic11\", \"Topic11\", \"Topic11\", \"Topic11\", \"Topic11\", \"Topic11\", \"Topic11\", \"Topic11\", \"Topic11\", \"Topic11\", \"Topic11\", \"Topic11\", \"Topic11\", \"Topic12\", \"Topic12\", \"Topic12\", \"Topic12\", \"Topic12\", \"Topic12\", \"Topic12\", \"Topic12\", \"Topic12\", \"Topic12\", \"Topic12\", \"Topic12\", \"Topic12\", \"Topic12\", \"Topic12\", \"Topic12\", \"Topic12\", \"Topic12\", \"Topic12\", \"Topic12\", \"Topic12\", \"Topic12\", \"Topic12\", \"Topic12\", \"Topic12\", \"Topic12\", \"Topic12\", \"Topic12\", \"Topic12\", \"Topic12\", \"Topic12\", \"Topic12\", \"Topic12\", \"Topic12\", \"Topic12\", \"Topic12\", \"Topic12\", \"Topic12\", \"Topic12\", \"Topic12\", \"Topic12\", \"Topic12\", \"Topic12\", \"Topic12\", \"Topic12\", \"Topic12\", \"Topic12\", \"Topic12\", \"Topic12\", \"Topic12\", \"Topic12\", \"Topic12\", \"Topic12\", \"Topic12\", \"Topic12\", \"Topic12\", \"Topic12\", \"Topic12\", \"Topic12\", \"Topic12\", \"Topic12\", \"Topic12\", \"Topic12\", \"Topic12\", \"Topic13\", \"Topic13\", \"Topic13\", \"Topic13\", \"Topic13\", \"Topic13\", \"Topic13\", \"Topic13\", \"Topic13\", \"Topic13\", \"Topic13\", \"Topic13\", \"Topic13\", \"Topic13\", \"Topic13\", \"Topic13\", \"Topic13\", \"Topic13\", \"Topic13\", \"Topic13\", \"Topic13\", \"Topic13\", \"Topic13\", \"Topic13\", \"Topic13\", \"Topic13\", \"Topic13\", \"Topic13\", \"Topic13\", \"Topic13\", \"Topic13\", \"Topic13\", \"Topic13\", \"Topic13\", \"Topic13\", \"Topic13\", \"Topic13\", \"Topic13\", \"Topic13\", \"Topic13\", \"Topic13\", \"Topic13\", \"Topic13\", \"Topic13\", \"Topic13\", \"Topic13\", \"Topic13\", \"Topic13\", \"Topic13\", \"Topic13\", \"Topic13\", \"Topic13\", \"Topic13\", \"Topic13\", \"Topic13\", \"Topic13\", \"Topic13\", \"Topic13\", \"Topic13\", \"Topic13\", \"Topic13\", \"Topic13\", \"Topic13\", \"Topic13\", \"Topic14\", \"Topic14\", \"Topic14\", \"Topic14\", \"Topic14\", \"Topic14\", \"Topic14\", \"Topic14\", \"Topic14\", \"Topic14\", \"Topic14\", \"Topic14\", \"Topic14\", \"Topic14\", \"Topic14\", \"Topic14\", \"Topic14\", \"Topic14\", \"Topic14\", \"Topic14\", \"Topic14\", \"Topic14\", \"Topic14\", \"Topic14\", \"Topic14\", \"Topic14\", \"Topic14\", \"Topic14\", \"Topic14\", \"Topic14\", \"Topic14\", \"Topic14\", \"Topic14\", \"Topic14\", \"Topic14\", \"Topic14\", \"Topic14\", \"Topic14\", \"Topic14\", \"Topic14\", \"Topic14\", \"Topic14\", \"Topic14\", \"Topic14\", \"Topic14\", \"Topic14\", \"Topic14\", \"Topic14\", \"Topic14\", \"Topic14\", \"Topic14\", \"Topic14\", \"Topic14\", \"Topic14\", \"Topic14\", \"Topic14\", \"Topic14\", \"Topic14\", \"Topic14\", \"Topic14\", \"Topic14\", \"Topic15\", \"Topic15\", \"Topic15\", \"Topic15\", \"Topic15\", \"Topic15\", \"Topic15\", \"Topic15\", \"Topic15\", \"Topic15\", \"Topic15\", \"Topic15\", \"Topic15\", \"Topic15\", \"Topic15\", \"Topic15\", \"Topic15\", \"Topic15\", \"Topic15\", \"Topic15\", \"Topic15\", \"Topic15\", \"Topic15\", \"Topic15\", \"Topic15\", \"Topic15\", \"Topic15\", \"Topic15\", \"Topic15\", \"Topic15\", \"Topic15\", \"Topic15\", \"Topic15\", \"Topic15\", \"Topic15\", \"Topic15\", \"Topic15\", \"Topic15\", \"Topic15\", \"Topic15\", \"Topic15\", \"Topic15\", \"Topic15\", \"Topic15\", \"Topic15\", \"Topic15\", \"Topic15\", \"Topic15\", \"Topic15\", \"Topic15\", \"Topic15\", \"Topic15\", \"Topic15\", \"Topic15\", \"Topic15\", \"Topic15\", \"Topic15\", \"Topic15\", \"Topic16\", \"Topic16\", \"Topic16\", \"Topic16\", \"Topic16\", \"Topic16\", \"Topic16\", \"Topic16\", \"Topic16\", \"Topic16\", \"Topic16\", \"Topic16\", \"Topic16\", \"Topic16\", \"Topic16\", \"Topic16\", \"Topic16\", \"Topic16\", \"Topic16\", \"Topic16\", \"Topic16\", \"Topic16\", \"Topic16\", \"Topic16\", \"Topic16\", \"Topic16\", \"Topic16\", \"Topic16\", \"Topic16\", \"Topic16\", \"Topic16\", \"Topic16\", \"Topic16\", \"Topic16\", \"Topic16\", \"Topic16\", \"Topic16\", \"Topic16\", \"Topic16\", \"Topic16\", \"Topic16\", \"Topic16\", \"Topic16\", \"Topic16\", \"Topic16\", \"Topic16\", \"Topic16\", \"Topic16\", \"Topic16\", \"Topic16\", \"Topic16\", \"Topic16\", \"Topic16\", \"Topic16\", \"Topic16\", \"Topic16\", \"Topic16\", \"Topic17\", \"Topic17\", \"Topic17\", \"Topic17\", \"Topic17\", \"Topic17\", \"Topic17\", \"Topic17\", \"Topic17\", \"Topic17\", \"Topic17\", \"Topic17\", \"Topic17\", \"Topic17\", \"Topic17\", \"Topic17\", \"Topic17\", \"Topic17\", \"Topic17\", \"Topic17\", \"Topic17\", \"Topic17\", \"Topic17\", \"Topic17\", \"Topic17\", \"Topic17\", \"Topic17\", \"Topic17\", \"Topic17\", \"Topic17\", \"Topic17\", \"Topic17\", \"Topic17\", \"Topic17\", \"Topic17\", \"Topic17\", \"Topic17\", \"Topic17\", \"Topic17\", \"Topic17\", \"Topic17\", \"Topic17\", \"Topic17\", \"Topic17\", \"Topic17\", \"Topic17\", \"Topic17\", \"Topic17\", \"Topic17\", \"Topic17\", \"Topic17\", \"Topic17\", \"Topic17\", \"Topic17\", \"Topic17\", \"Topic17\", \"Topic17\", \"Topic17\", \"Topic17\", \"Topic18\", \"Topic18\", \"Topic18\", \"Topic18\", \"Topic18\", \"Topic18\", \"Topic18\", \"Topic18\", \"Topic18\", \"Topic18\", \"Topic18\", \"Topic18\", \"Topic18\", \"Topic18\", \"Topic18\", \"Topic18\", \"Topic18\", \"Topic18\", \"Topic18\", \"Topic18\", \"Topic18\", \"Topic18\", \"Topic18\", \"Topic18\", \"Topic18\", \"Topic18\", \"Topic18\", \"Topic18\", \"Topic18\", \"Topic18\", \"Topic18\", \"Topic18\", \"Topic18\", \"Topic18\", \"Topic18\", \"Topic18\", \"Topic18\", \"Topic18\", \"Topic18\", \"Topic18\", \"Topic18\", \"Topic18\", \"Topic18\", \"Topic18\", \"Topic18\", \"Topic18\", \"Topic18\", \"Topic18\", \"Topic18\", \"Topic18\", \"Topic18\", \"Topic18\", \"Topic18\", \"Topic18\", \"Topic18\", \"Topic18\", \"Topic18\", \"Topic18\", \"Topic18\", \"Topic18\", \"Topic18\", \"Topic18\", \"Topic18\", \"Topic18\", \"Topic18\", \"Topic18\", \"Topic19\", \"Topic19\", \"Topic19\", \"Topic19\", \"Topic19\", \"Topic19\", \"Topic19\", \"Topic19\", \"Topic19\", \"Topic19\", \"Topic19\", \"Topic19\", \"Topic19\", \"Topic19\", \"Topic19\", \"Topic19\", \"Topic19\", \"Topic19\", \"Topic19\", \"Topic19\", \"Topic19\", \"Topic19\", \"Topic19\", \"Topic19\", \"Topic19\", \"Topic19\", \"Topic19\", \"Topic19\", \"Topic19\", \"Topic19\", \"Topic19\", \"Topic19\", \"Topic19\", \"Topic19\", \"Topic19\", \"Topic19\", \"Topic19\", \"Topic19\", \"Topic19\", \"Topic19\", \"Topic19\", \"Topic19\", \"Topic19\", \"Topic19\", \"Topic19\", \"Topic19\", \"Topic19\", \"Topic19\", \"Topic19\", \"Topic19\", \"Topic19\", \"Topic19\", \"Topic19\", \"Topic19\", \"Topic19\", \"Topic20\", \"Topic20\", \"Topic20\", \"Topic20\", \"Topic20\", \"Topic20\", \"Topic20\", \"Topic20\", \"Topic20\", \"Topic20\", \"Topic20\", \"Topic20\", \"Topic20\", \"Topic20\", \"Topic20\", \"Topic20\", \"Topic20\", \"Topic20\", \"Topic20\", \"Topic20\", \"Topic20\", \"Topic20\", \"Topic20\", \"Topic20\", \"Topic20\", \"Topic20\", \"Topic20\", \"Topic20\", \"Topic20\", \"Topic20\", \"Topic20\", \"Topic20\", \"Topic20\", \"Topic20\", \"Topic20\", \"Topic20\", \"Topic20\", \"Topic20\", \"Topic20\", \"Topic20\", \"Topic20\", \"Topic20\", \"Topic20\", \"Topic20\", \"Topic20\", \"Topic20\", \"Topic20\", \"Topic20\", \"Topic20\", \"Topic20\", \"Topic20\", \"Topic20\", \"Topic20\", \"Topic20\", \"Topic20\", \"Topic20\", \"Topic20\", \"Topic20\", \"Topic20\"], \"Freq\": [44045.0, 30442.0, 22236.0, 28784.0, 46117.0, 34001.0, 20626.0, 24473.0, 16882.0, 17942.0, 13910.0, 130182.0, 26540.0, 41793.0, 17448.0, 10801.0, 47036.0, 12495.0, 22614.0, 20635.0, 29728.0, 19261.0, 16631.0, 33140.0, 13616.0, 10156.0, 10093.0, 10183.0, 11492.0, 10498.0, 5753.19482421875, 3812.464111328125, 3797.179931640625, 3067.36767578125, 2763.4072265625, 2666.32666015625, 2438.085693359375, 2369.734375, 2198.119873046875, 1759.793212890625, 1740.48681640625, 1555.6153564453125, 1491.2100830078125, 1451.7066650390625, 1366.129638671875, 1316.1492919921875, 1199.5264892578125, 1180.690673828125, 1160.93115234375, 1155.337158203125, 1094.4266357421875, 1047.4569091796875, 1041.6541748046875, 1026.8907470703125, 1001.5901489257812, 905.7823486328125, 1129.4505615234375, 851.2576904296875, 843.783447265625, 826.8299560546875, 3462.288818359375, 3154.506591796875, 1352.442626953125, 16697.466796875, 2018.89794921875, 3065.218017578125, 1635.1888427734375, 5444.796875, 8681.642578125, 3175.92626953125, 3064.37060546875, 3066.0498046875, 7941.8193359375, 1921.1578369140625, 17839.24609375, 4807.1552734375, 6857.01708984375, 19519.650390625, 2700.251953125, 5382.90234375, 6719.09228515625, 11861.4365234375, 10731.2958984375, 10106.1201171875, 5456.71435546875, 13332.220703125, 22820.65625, 8114.35498046875, 6617.96142578125, 6282.81103515625, 4776.32470703125, 5960.2333984375, 5521.4453125, 5613.81005859375, 4443.828125, 4238.77294921875, 3680.446044921875, 4174.47802734375, 3820.771484375, 2813.70458984375, 2650.48486328125, 2533.43212890625, 2342.7001953125, 2150.995849609375, 1996.212158203125, 1950.2308349609375, 1818.3699951171875, 3071.9443359375, 1716.00830078125, 1600.832275390625, 1690.2342529296875, 1485.1029052734375, 1417.7353515625, 1623.5802001953125, 1224.428466796875, 1218.4183349609375, 1125.0970458984375, 1083.2716064453125, 1036.8289794921875, 943.3552856445312, 924.5667114257812, 909.6167602539062, 893.7515258789062, 904.59228515625, 843.9310302734375, 837.2454833984375, 827.4559936523438, 803.1436157226562, 783.0256958007812, 1792.2816162109375, 1678.39306640625, 1490.975341796875, 1585.69580078125, 1783.984130859375, 1243.831298828125, 2337.204833984375, 2481.90673828125, 2339.551513671875, 1459.0521240234375, 5101.890625, 1778.6634521484375, 15506.6337890625, 1711.449462890625, 2705.171875, 2053.86962890625, 4308.46923828125, 5118.7724609375, 4946.14404296875, 8655.7216796875, 2166.799560546875, 2528.75146484375, 5786.7099609375, 2444.306396484375, 5786.8203125, 4091.46337890625, 2304.027587890625, 4260.87109375, 2259.5888671875, 7017.58740234375, 3901.316650390625, 2422.490966796875, 3017.2998046875, 3101.325927734375, 3025.35791015625, 2565.564208984375, 3403.642822265625, 2971.222900390625, 2770.833984375, 2513.115478515625, 2797.04345703125, 2717.263916015625, 2151.5322265625, 2060.43701171875, 1890.6800537109375, 1652.5184326171875, 1646.26025390625, 1589.648681640625, 1478.321533203125, 1313.26318359375, 1295.3114013671875, 1203.1285400390625, 1172.2044677734375, 1161.5272216796875, 1110.14599609375, 1136.21435546875, 1078.032958984375, 1074.773681640625, 1056.987060546875, 911.22216796875, 973.544189453125, 903.9805908203125, 885.8764038085938, 820.7537231445312, 792.9153442382812, 741.526123046875, 722.2741088867188, 716.2546997070312, 618.3983154296875, 609.8095092773438, 606.9767456054688, 570.1243286132812, 2566.39306640625, 988.609130859375, 1081.76123046875, 793.8555297851562, 2640.284912109375, 2258.052490234375, 2806.24462890625, 1046.8948974609375, 1267.354736328125, 1620.670166015625, 3674.599365234375, 3598.931640625, 11262.216796875, 4627.58544921875, 1608.7984619140625, 6372.3017578125, 4302.91455078125, 3764.43994140625, 5016.919921875, 1835.2952880859375, 1665.106689453125, 2830.38232421875, 1730.955078125, 2191.406005859375, 10676.0703125, 4101.560546875, 2565.163330078125, 4076.96240234375, 4110.66357421875, 6264.0146484375, 5197.74072265625, 9593.9931640625, 5990.734375, 3563.918701171875, 6014.85205078125, 3916.41357421875, 4179.75, 6867.14208984375, 3299.256591796875, 3836.933349609375, 2917.974853515625, 3050.335693359375, 3080.93798828125, 3093.6865234375, 3691.668701171875, 3072.382080078125, 3055.384033203125, 3022.37353515625, 3332.8505859375, 2406.4599609375, 2289.43505859375, 2017.9014892578125, 1162.7554931640625, 1648.1192626953125, 889.7686157226562, 855.4500732421875, 825.235595703125, 795.9671630859375, 1532.3204345703125, 716.6610717773438, 667.91259765625, 649.630615234375, 1264.3404541015625, 615.2615966796875, 611.428955078125, 593.5184936523438, 575.6166381835938, 556.2034301757812, 544.784912109375, 768.3314819335938, 477.7639465332031, 492.3682556152344, 419.70245361328125, 412.4050598144531, 382.2635192871094, 376.81396484375, 376.2265625, 359.773193359375, 7394.12890625, 970.2764892578125, 614.931884765625, 396.7669677734375, 970.3075561523438, 908.9885864257812, 926.2329711914062, 701.706298828125, 941.9791870117188, 3183.226318359375, 5806.6064453125, 1896.3172607421875, 2166.544677734375, 1204.5179443359375, 1535.5548095703125, 1409.985107421875, 4347.138671875, 1120.0528564453125, 2676.86767578125, 1279.8614501953125, 4334.0341796875, 3542.825439453125, 1380.203125, 2622.39111328125, 2214.280517578125, 2169.1259765625, 2786.62939453125, 2297.073974609375, 1886.8316650390625, 11214.283203125, 7992.86376953125, 7977.548828125, 3226.879638671875, 2216.40576171875, 2705.59716796875, 5041.50732421875, 4302.435546875, 3921.570556640625, 5738.1162109375, 3783.82763671875, 3869.577392578125, 4401.38525390625, 2813.594970703125, 3907.75244140625, 2621.47021484375, 2521.73193359375, 3702.64892578125, 2876.13330078125, 3181.508056640625, 3243.69140625, 3022.695556640625, 3154.04443359375, 2972.3291015625, 2736.565673828125, 2743.3232421875, 16881.982421875, 5372.5771484375, 4203.01953125, 3030.341064453125, 2271.230712890625, 1729.100341796875, 1701.2855224609375, 1325.1767578125, 1258.964599609375, 1184.3345947265625, 986.0558471679688, 902.4820556640625, 893.8744506835938, 866.0284423828125, 810.7097778320312, 803.23486328125, 797.849365234375, 787.636474609375, 735.8869018554688, 727.9806518554688, 725.6528930664062, 690.9994506835938, 643.80322265625, 616.1220703125, 555.0084228515625, 538.4149169921875, 534.045166015625, 518.1263427734375, 516.6875, 506.87359619140625, 4043.2412109375, 3199.7841796875, 2878.2392578125, 1642.8665771484375, 2070.30859375, 11049.01953125, 2333.57470703125, 7526.86572265625, 4317.2900390625, 4070.0146484375, 11195.166015625, 1580.653076171875, 2774.768798828125, 1558.4053955078125, 1502.576904296875, 2507.458984375, 13274.740234375, 2684.48583984375, 1673.319091796875, 2465.9111328125, 21265.134765625, 8500.7021484375, 11067.46875, 3947.8623046875, 3837.23583984375, 10368.865234375, 14271.599609375, 5664.30078125, 7162.375, 11053.71484375, 4997.6142578125, 5093.32666015625, 6527.10302734375, 4817.93798828125, 3737.849853515625, 5557.2890625, 6653.384765625, 4717.408203125, 4284.6259765625, 3578.635986328125, 7999.80615234375, 2958.242431640625, 2381.166015625, 2273.843994140625, 1930.9068603515625, 1919.522705078125, 1842.3748779296875, 1766.3641357421875, 1704.74755859375, 1550.0152587890625, 1517.621337890625, 1476.64892578125, 1475.4591064453125, 1389.6070556640625, 1327.1016845703125, 1269.4742431640625, 1249.5941162109375, 1195.0181884765625, 1107.5152587890625, 1245.411376953125, 1096.0882568359375, 1066.025390625, 1055.742919921875, 1050.5679931640625, 1030.3944091796875, 1053.7413330078125, 978.4086303710938, 955.197509765625, 936.2303466796875, 901.4764404296875, 7749.29638671875, 42624.29296875, 4406.6669921875, 28210.40234375, 1724.853271484375, 4638.5810546875, 4182.02978515625, 2335.555908203125, 4139.26025390625, 3068.933349609375, 3522.018798828125, 2057.748291015625, 1619.4735107421875, 2708.842529296875, 6112.3193359375, 2773.1591796875, 2715.98095703125, 4965.0966796875, 3243.16259765625, 3650.462646484375, 2404.4140625, 2643.781005859375, 4658.005859375, 4447.76416015625, 2479.84375, 2229.867431640625, 2500.9755859375, 2733.35986328125, 3262.027587890625, 2947.8349609375, 2746.83203125, 2654.862060546875, 2454.770263671875, 7339.8447265625, 3194.829345703125, 2848.272705078125, 2584.50390625, 2557.464599609375, 1995.28662109375, 1902.339599609375, 1696.669921875, 1604.5303955078125, 1525.8096923828125, 1245.948974609375, 1173.9306640625, 1093.8345947265625, 1040.579345703125, 1006.241455078125, 984.1494140625, 828.0184936523438, 818.93408203125, 812.4525756835938, 806.296630859375, 755.0498046875, 742.2391967773438, 738.2012939453125, 708.6932373046875, 688.7711791992188, 651.4364624023438, 648.2567138671875, 602.444091796875, 778.4557495117188, 581.5559692382812, 5399.16357421875, 648.2257080078125, 831.4617309570312, 2566.136962890625, 1326.915283203125, 6706.1552734375, 2586.148193359375, 1576.7362060546875, 1327.338134765625, 6784.73876953125, 2711.592529296875, 1808.7374267578125, 7413.3017578125, 1527.3126220703125, 5931.06201171875, 3823.379150390625, 1961.3837890625, 6487.1884765625, 1815.7158203125, 3949.24267578125, 1893.5531005859375, 3595.869140625, 2597.986328125, 9062.818359375, 2282.36474609375, 3156.203857421875, 2222.02783203125, 2925.939697265625, 2741.4619140625, 2343.812255859375, 2537.331298828125, 2318.393310546875, 2670.99462890625, 2144.51806640625, 2375.059814453125, 2286.2314453125, 2245.06640625, 9235.32421875, 5053.60205078125, 4397.30322265625, 3239.936767578125, 2828.41162109375, 2824.318115234375, 2792.223876953125, 2270.312744140625, 2014.986083984375, 1730.9111328125, 1534.48876953125, 1233.9713134765625, 4900.81982421875, 1072.2708740234375, 966.726806640625, 891.8193969726562, 874.0718383789062, 747.2322387695312, 737.3786010742188, 729.1432495117188, 683.5015869140625, 614.2063598632812, 591.9673461914062, 620.7858276367188, 582.6220092773438, 574.8552856445312, 560.9305419921875, 553.145263671875, 548.3812866210938, 544.6751708984375, 696.8549194335938, 1109.7642822265625, 1451.2957763671875, 1491.7532958984375, 15688.40625, 1180.5474853515625, 1472.103515625, 2492.64501953125, 3450.465576171875, 3387.6728515625, 5813.1533203125, 3889.9921875, 2240.536376953125, 2199.88623046875, 2247.564697265625, 3821.730224609375, 3138.090576171875, 3747.24658203125, 3648.115478515625, 4716.7294921875, 7660.45458984375, 4967.1064453125, 5220.21533203125, 12082.54296875, 5484.625, 5492.3984375, 5013.60302734375, 4663.326171875, 3065.416748046875, 4265.16015625, 3642.259521484375, 4179.7431640625, 3361.419189453125, 3031.5029296875, 5318.52197265625, 4340.54150390625, 3205.848388671875, 2714.3525390625, 2169.358154296875, 2096.373779296875, 1529.1424560546875, 1476.9429931640625, 1299.90673828125, 1230.7286376953125, 1180.8072509765625, 1052.805908203125, 1024.4117431640625, 997.77783203125, 829.50732421875, 721.7066040039062, 701.9251708984375, 763.6152954101562, 652.56787109375, 630.0866088867188, 618.0850219726562, 609.3729248046875, 597.699462890625, 693.5780029296875, 553.7333374023438, 536.6456298828125, 537.2493286132812, 533.2236328125, 553.2980346679688, 509.8748779296875, 2656.6826171875, 960.4192504882812, 1029.4482421875, 1394.1875, 723.5237426757812, 8732.927734375, 1184.2083740234375, 1349.3553466796875, 1294.8424072265625, 936.423828125, 1677.447021484375, 2498.1865234375, 1141.1585693359375, 3621.705810546875, 1437.5279541015625, 2196.31396484375, 4236.595703125, 9995.765625, 2528.833251953125, 3805.249755859375, 1595.2191162109375, 2135.9501953125, 3260.512451171875, 2717.32958984375, 5410.24755859375, 6655.78759765625, 3670.971435546875, 2859.6943359375, 4611.32666015625, 2345.888671875, 2464.51708984375, 2979.9169921875, 2449.373291015625, 3630.001953125, 3331.840576171875, 7270.83056640625, 3050.110107421875, 3237.35205078125, 3176.35107421875, 3984.8974609375, 3510.85546875, 3190.756103515625, 2779.13525390625, 2544.6591796875, 22235.9609375, 12494.701171875, 10182.162109375, 8855.3310546875, 3379.529052734375, 3047.044189453125, 2870.135986328125, 2857.653564453125, 2408.70361328125, 1857.20166015625, 1519.3577880859375, 1295.22265625, 1266.9580078125, 1251.0350341796875, 1248.4345703125, 1235.4727783203125, 1229.70556640625, 1224.67041015625, 1215.0126953125, 961.11865234375, 934.64599609375, 899.1549682617188, 798.1203002929688, 776.2354736328125, 773.67041015625, 744.5341796875, 731.0064086914062, 721.8765258789062, 718.1567993164062, 681.7579956054688, 10223.2099609375, 1093.0811767578125, 16889.83203125, 2071.31787109375, 913.7941284179688, 2228.679443359375, 883.34423828125, 1351.9090576171875, 3418.740234375, 2219.552490234375, 2541.388427734375, 2122.50830078125, 3947.79150390625, 2349.647705078125, 2308.48291015625, 3878.064208984375, 5050.24951171875, 3412.55322265625, 5573.6162109375, 1847.5474853515625, 7822.3408203125, 2141.02099609375, 3144.07177734375, 3462.896728515625, 3058.136962890625, 2596.3427734375, 2579.728515625, 2457.976806640625, 2343.26171875, 2306.947265625, 10155.76953125, 10092.416015625, 5922.59521484375, 5321.32177734375, 3429.067626953125, 3217.563720703125, 3069.984130859375, 2475.11669921875, 2131.6162109375, 1833.8641357421875, 1748.5650634765625, 1701.119873046875, 1701.10595703125, 1516.3599853515625, 1502.978271484375, 1366.5101318359375, 1343.325439453125, 1266.2069091796875, 1217.2752685546875, 1203.780517578125, 1198.28125, 1136.2020263671875, 1068.9849853515625, 934.274658203125, 881.9187622070312, 838.1765747070312, 830.5684204101562, 809.2808227539062, 800.0213012695312, 781.5881958007812, 3309.05712890625, 825.3251953125, 2277.05615234375, 2936.798828125, 1728.998779296875, 10957.7763671875, 1795.7884521484375, 3628.58544921875, 3662.42626953125, 2940.929931640625, 2228.3359375, 1664.067138671875, 8548.6416015625, 4382.85595703125, 4363.71337890625, 3024.5458984375, 2875.050537109375, 6595.11962890625, 2310.213134765625, 9714.4150390625, 3602.832275390625, 2375.320068359375, 2588.641845703125, 3438.446533203125, 2785.72900390625, 3062.37841796875, 2958.335693359375, 2891.04052734375, 2589.58203125, 2701.577392578125, 6395.95068359375, 2633.387939453125, 7403.55908203125, 2309.2138671875, 1721.560546875, 1553.1309814453125, 1514.974365234375, 1323.4547119140625, 1176.153076171875, 1158.8414306640625, 1163.3616943359375, 935.9374389648438, 924.8834228515625, 895.8961791992188, 841.8668212890625, 816.8870849609375, 3624.30810546875, 796.9246215820312, 796.1298217773438, 760.6683959960938, 723.9644165039062, 668.9639892578125, 655.2605590820312, 645.9100341796875, 645.3617553710938, 644.5997924804688, 628.5657348632812, 612.9224243164062, 592.3607177734375, 581.7380981445312, 1776.5538330078125, 1343.2816162109375, 742.6461181640625, 989.665283203125, 5828.5888671875, 4653.0703125, 871.3572998046875, 918.4573974609375, 1415.463134765625, 1484.6416015625, 5539.91552734375, 2280.660400390625, 1375.53271484375, 2866.902099609375, 3585.5712890625, 3071.2001953125, 2500.63525390625, 2688.6220703125, 1446.9130859375, 2528.07763671875, 3111.73583984375, 4190.8681640625, 5588.0634765625, 1788.23681640625, 2222.269287109375, 2832.105224609375, 2559.861572265625, 1866.8570556640625, 2651.7138671875, 2118.525146484375, 1867.2742919921875, 2205.29443359375, 1822.2781982421875, 1884.1187744140625, 13909.3408203125, 7531.36767578125, 5778.392578125, 4980.0888671875, 4056.92431640625, 3824.289306640625, 2434.20263671875, 2111.90234375, 1677.8731689453125, 1648.680419921875, 1647.53515625, 1589.5389404296875, 1382.783203125, 1260.9234619140625, 1186.108642578125, 1119.103271484375, 1013.1012573242188, 1075.3507080078125, 933.0489501953125, 921.4580078125, 859.8037719726562, 1320.738037109375, 744.105712890625, 729.0949096679688, 697.4930419921875, 659.6907958984375, 633.6812133789062, 625.4157104492188, 595.42578125, 585.1640014648438, 1702.62939453125, 7014.34716796875, 938.18359375, 863.1157836914062, 985.9017944335938, 804.3251342773438, 859.4483642578125, 5298.66064453125, 9911.685546875, 5246.783203125, 12395.99609375, 6488.96435546875, 2736.305908203125, 1843.6953125, 11139.0966796875, 2831.9619140625, 1938.570556640625, 1674.58837890625, 2711.7900390625, 4303.01123046875, 3983.17626953125, 2142.856689453125, 12458.3798828125, 5256.14404296875, 3638.76513671875, 3166.5966796875, 2950.84228515625, 4268.00244140625, 2494.033203125, 2330.351806640625, 2120.156005859375, 2290.894287109375, 2233.37353515625, 2157.706787109375, 5094.73193359375, 2640.719482421875, 2195.846435546875, 1955.20166015625, 1528.28857421875, 1477.5140380859375, 1418.070556640625, 1336.278076171875, 1206.5006103515625, 1084.3155517578125, 1017.353515625, 1017.0177612304688, 1015.4716796875, 1008.6668090820312, 1014.577880859375, 998.110107421875, 990.83447265625, 971.4265747070312, 950.4664306640625, 924.6045532226562, 885.5210571289062, 870.2218017578125, 865.4996337890625, 855.0825805664062, 838.0736083984375, 801.0379028320312, 761.3121948242188, 714.9547729492188, 689.4342041015625, 670.2300415039062, 1526.6082763671875, 3468.66845703125, 1250.8209228515625, 1171.5645751953125, 1646.20263671875, 1317.8922119140625, 2132.2880859375, 2305.1357421875, 2162.138671875, 1918.06689453125, 2375.399169921875, 2295.572998046875, 1914.1473388671875, 1492.119873046875, 1995.2879638671875, 1484.7406005859375, 2687.601318359375, 1994.73193359375, 1267.334716796875, 1702.195068359375, 4432.498046875, 1741.9290771484375, 4634.14794921875, 1879.5576171875, 2198.106689453125, 2074.181884765625, 2224.8056640625, 2238.007080078125, 2224.220703125, 1656.039306640625, 1626.8890380859375, 2912.4150390625, 2656.536865234375, 2493.520263671875, 2387.306640625, 1870.6826171875, 1833.0894775390625, 1820.170166015625, 1732.43994140625, 1601.89697265625, 1498.645751953125, 2173.9091796875, 1279.0615234375, 1278.739990234375, 1236.505859375, 1144.6275634765625, 1117.3563232421875, 1098.2757568359375, 1074.6453857421875, 1019.80859375, 1005.1275024414062, 1002.0570068359375, 1052.3765869140625, 951.8062133789062, 902.1107788085938, 860.6820068359375, 755.6370849609375, 747.5314331054688, 735.4129028320312, 731.4588012695312, 714.0245971679688, 5706.1923828125, 1203.884033203125, 4827.3623046875, 6594.9521484375, 5813.30908203125, 5116.88134765625, 2867.917236328125, 3274.57373046875, 2245.100341796875, 4349.56201171875, 3461.487548828125, 3932.493896484375, 2693.250244140625, 1589.08349609375, 4540.37841796875, 1433.81005859375, 2689.16015625, 3450.8876953125, 1743.5477294921875, 1995.0013427734375, 2681.9970703125, 3209.185546875, 2189.4208984375, 2231.9873046875, 2363.1083984375, 1970.3115234375, 2191.449462890625, 1958.8218994140625, 4944.484375, 3714.222412109375, 3520.2802734375, 3192.197509765625, 2698.68505859375, 2361.272705078125, 2017.319580078125, 1953.836669921875, 1896.55908203125, 1648.9947509765625, 1579.7437744140625, 1502.6038818359375, 1493.6978759765625, 1375.435546875, 1307.70654296875, 1294.2752685546875, 1234.2301025390625, 1721.0023193359375, 1148.091796875, 1027.0599365234375, 1005.5276489257812, 919.667724609375, 914.2603759765625, 894.140625, 852.4522705078125, 767.9613037109375, 752.9422607421875, 746.0079345703125, 742.13232421875, 733.0127563476562, 1661.3154296875, 1898.2030029296875, 1356.30810546875, 1968.7681884765625, 3507.290771484375, 1704.7257080078125, 2426.684814453125, 1045.6778564453125, 2981.4404296875, 1263.5155029296875, 1552.27197265625, 2546.669189453125, 12330.2275390625, 2432.109619140625, 2667.499267578125, 3469.109130859375, 2117.36767578125, 2251.966552734375, 3017.865966796875, 2269.0234375, 1885.2728271484375, 2164.073486328125, 2524.534423828125, 1971.6695556640625, 2167.35302734375, 1964.5863037109375, 1942.408935546875, 6342.54248046875, 3594.676025390625, 3048.089599609375, 2532.85107421875, 2240.98681640625, 1988.3387451171875, 1839.042724609375, 1742.876953125, 1722.2550048828125, 1702.273193359375, 1516.6700439453125, 1400.30517578125, 1373.7674560546875, 1359.458740234375, 1331.0345458984375, 1231.6309814453125, 1140.3204345703125, 1091.9859619140625, 1059.8541259765625, 971.4346923828125, 919.5419311523438, 898.9915161132812, 834.1021118164062, 782.5955810546875, 772.2047729492188, 745.45849609375, 1349.860595703125, 717.0684204101562, 729.4681396484375, 711.8882446289062, 2782.541748046875, 5773.423828125, 9369.564453125, 3333.681640625, 7034.0810546875, 1088.7708740234375, 4712.30859375, 5112.9482421875, 3994.730712890625, 1973.451904296875, 3289.4326171875, 2511.151123046875, 2228.9375, 1801.1522216796875, 2677.33935546875, 3398.774169921875, 7153.43896484375, 2100.501220703125, 1978.779052734375, 2916.74951171875, 2545.705322265625, 2193.8916015625, 2268.8232421875, 2798.436767578125, 3148.8623046875, 2064.555908203125, 2242.4033203125, 2113.318115234375, 2105.37841796875, 5855.47509765625, 3011.959716796875, 2703.69384765625, 2601.4501953125, 2321.556396484375, 1977.667724609375, 1663.2628173828125, 1642.7789306640625, 1520.8675537109375, 1288.052978515625, 1267.9591064453125, 1198.487548828125, 1118.8197021484375, 1094.7288818359375, 1065.5572509765625, 772.6613159179688, 692.9810180664062, 651.8384399414062, 641.9945678710938, 612.0969848632812, 603.580810546875, 595.2942504882812, 593.3213500976562, 591.5604858398438, 587.830078125, 577.22119140625, 563.6944580078125, 553.3961181640625, 549.0919799804688, 545.726806640625, 548.8728637695312, 598.467529296875, 860.4578247070312, 869.1304931640625, 4234.96337890625, 1239.6492919921875, 1097.2664794921875, 3274.374267578125, 895.497802734375, 2353.941650390625, 2922.94384765625, 1104.5025634765625, 1256.7193603515625, 5759.552734375, 6008.7373046875, 4232.19140625, 1681.31494140625, 3167.447509765625, 2914.521484375, 1625.637451171875, 2599.1181640625, 2405.024658203125, 4742.4326171875, 1651.83544921875, 2605.490478515625, 1467.0438232421875, 2633.328125, 2924.674560546875, 2278.39599609375, 1793.7633056640625, 1711.81689453125, 2468.17333984375, 1948.1490478515625, 1832.0518798828125, 1714.9903564453125, 1680.0516357421875, 5883.80126953125, 5544.56005859375, 4801.38232421875, 4092.84912109375, 4056.161865234375, 3701.8828125, 2409.69921875, 2245.771728515625, 1825.66943359375, 1819.19140625, 1645.354736328125, 1589.438720703125, 1496.34228515625, 1348.29736328125, 1298.1343994140625, 1202.006103515625, 1171.321533203125, 1146.8887939453125, 1092.06884765625, 1036.4932861328125, 996.6693115234375, 940.5089721679688, 905.048828125, 864.084716796875, 862.978759765625, 789.768798828125, 767.2009887695312, 713.9235229492188, 688.8209838867188, 627.7007446289062, 3550.473876953125, 6956.3662109375, 2408.29736328125, 2806.083740234375, 3832.953125, 3196.8076171875, 2349.7060546875, 6046.859375, 4544.4326171875, 3014.23583984375, 2217.37060546875, 2215.759033203125, 3674.26904296875, 5323.533203125, 3780.90771484375, 4825.63330078125, 3701.021240234375, 2926.088623046875, 4355.94921875, 3186.37548828125, 3167.87548828125, 4093.059814453125, 5303.14599609375, 2501.08056640625, 2992.79541015625, 10800.2958984375, 4023.426513671875, 2624.0859375, 2139.261962890625, 1823.7847900390625, 1705.62109375, 1685.7105712890625, 1457.8375244140625, 1168.722900390625, 981.4544067382812, 954.4899291992188, 812.7521362304688, 812.1173095703125, 791.45458984375, 776.8274536132812, 620.3557739257812, 616.4050903320312, 589.6724243164062, 574.4669189453125, 574.0044555664062, 563.7598876953125, 560.84765625, 551.8372192382812, 536.9722900390625, 527.7182006835938, 511.94500732421875, 507.9125671386719, 507.5291442871094, 501.893310546875, 478.5292053222656, 594.3425903320312, 4736.53662109375, 1919.2506103515625, 697.7092895507812, 3522.0263671875, 5902.3525390625, 4152.384765625, 851.3834228515625, 1866.88330078125, 3524.30712890625, 822.764892578125, 3225.882080078125, 3583.482666015625, 2737.9130859375, 4557.30615234375, 3309.990478515625, 4636.89599609375, 3771.898681640625, 1381.1180419921875, 2571.432373046875, 2120.4892578125, 1532.9599609375, 2352.529052734375, 2092.689208984375, 1680.196533203125, 2546.23681640625, 1775.78466796875, 1573.6788330078125, 1559.47314453125], \"Term\": [\"apple\", \"watch\", \"kim\", \"al\", \"video\", \"isi\", \"north\", \"police\", \"foley\", \"shot\", \"brown\", \"said\", \"islamic\", \"state\", \"border\", \"ebola\", \"u\", \"jong\", \"syria\", \"american\", \"man\", \"iraq\", \"girl\", \"group\", \"officer\", \"haram\", \"boko\", \"korea\", \"job\", \"un\", \"hunter\", \"godane\", \"jordanian\", \"mueller\", \"drone\", \"abdullah\", \"homeland\", \"dhs\", \"coalition\", \"raqqa\", \"somali\", \"republican\", \"missile\", \"susteren\", \"observatory\", \"congressman\", \"beirut\", \"chlorine\", \"arizona\", \"kirby\", \"abdi\", \"sunni\", \"kayla\", \"trained\", \"mogadishu\", \"greta\", \"rank\", \"ansar\", \"plotting\", \"explosive\", \"pilot\", \"jordan\", \"insurgent\", \"border\", \"airstrike\", \"pentagon\", \"apprehended\", \"weapon\", \"terrorist\", \"patrol\", \"plane\", \"southern\", \"fighter\", \"civilian\", \"isi\", \"strike\", \"military\", \"u\", \"region\", \"intelligence\", \"force\", \"group\", \"al\", \"islamic\", \"syrian\", \"state\", \"said\", \"militant\", \"killed\", \"attack\", \"air\", \"syria\", \"american\", \"official\", \"city\", \"security\", \"used\", \"could\", \"iraq\", \"wood\", \"rogen\", \"sony\", \"bank\", \"island\", \"culkin\", \"retail\", \"wozniak\", \"percent\", \"needed\", \"macaulay\", \"completely\", \"tiger\", \"hank\", \"seeking\", \"seth\", \"hole\", \"abandoned\", \"pregnancy\", \"dark\", \"factory\", \"guilty\", \"knocked\", \"2005\", \"chamber\", \"trading\", \"warner\", \"jessica\", \"vladi\", \"noting\", \"mid\", \"various\", \"alone\", \"stated\", \"join\", \"book\", \"eye\", \"band\", \"injury\", \"career\", \"work\", \"2010\", \"year\", \"batman\", \"wanted\", \"great\", \"home\", \"still\", \"found\", \"time\", \"research\", \"become\", \"first\", \"scene\", \"also\", \"even\", \"age\", \"day\", \"common\", \"said\", \"last\", \"although\", \"well\", \"made\", \"since\", \"thursday\", \"new\", \"month\", \"back\", \"put\", \"report\", \"one\", \"nelson\", \"spice\", \"pumpkin\", \"hurt\", \"condom\", \"panel\", \"durex\", \"f\", \"follower\", \"pressure\", \"credit\", \"entering\", \"actively\", \"ben\", \"sharing\", \"abrams\", \"text\", \"rahim\", \"theory\", \"esquire\", \"conspiracy\", \"purpose\", \"dera\", \"pour\", \"singh\", \"flavored\", \"ram\", \"reveals\", \"zero\", \"plot\", \"speculation\", \"400\", \"au\", \"arrival\", \"pic\", \"domestic\", \"r\", \"numerous\", \"et\", \"oct\", \"king\", \"false\", \"twitter\", \"internet\", \"officially\", \"com\", \"texas\", \"secret\", \"rumor\", \"espn\", \"headline\", \"update\", \"future\", \"content\", \"news\", \"6\", \"january\", \"social\", \"article\", \"claim\", \"post\", \"report\", \"medium\", \"fact\", \"story\", \"today\", \"2014\", \"people\", \"image\", \"death\", \"true\", \"2015\", \"night\", \"information\", \"one\", \"user\", \"called\", \"photo\", \"tape\", \"nasa\", \"pm\", \"gift\", \"suggestion\", \"streaming\", \"explanation\", \"noise\", \"encounter\", \"messaging\", \"affair\", \"bright\", \"mortgage\", \"bogus\", \"thus\", \"calm\", \"rehab\", \"texting\", \"scenario\", \"advancing\", \"imagine\", \"effectively\", \"capacity\", \"huffington\", \"nowhere\", \"confirming\", \"confirms\", \"w\", \"brush\", \"aiming\", \"cnn\", \"updated\", \"darkness\", \"negative\", \"drawn\", \"tom\", \"purported\", \"certificate\", \"convinced\", \"impact\", \"event\", \"type\", \"paid\", \"complete\", \"light\", \"mention\", \"car\", \"evening\", \"paul\", \"joe\", \"hour\", \"working\", \"planning\", \"previously\", \"sound\", \"space\", \"looking\", \"november\", \"teen\", \"video\", \"say\", \"time\", \"12\", \"evidence\", \"account\", \"day\", \"made\", \"back\", \"also\", \"may\", \"claim\", \"news\", \"six\", \"could\", \"message\", \"appears\", \"u\", \"show\", \"like\", \"would\", \"last\", \"one\", \"first\", \"saying\", \"know\", \"foley\", \"somers\", \"sotloff\", \"steven\", \"wright\", \"executioner\", \"photojournalist\", \"freelance\", \"yemeni\", \"globalpost\", \"kneeling\", \"captor\", \"aqap\", \"aggression\", \"diane\", \"deepest\", \"sana\", \"zone\", \"gruesome\", \"appalled\", \"jumpsuit\", \"mourn\", \"beside\", \"bloodshed\", \"ansi\", \"announcing\", \"irbil\", \"hampshire\", \"hammond\", \"criminality\", \"haines\", \"yemen\", \"execution\", \"cameron\", \"luke\", \"journalist\", \"barack\", \"james\", \"beheading\", \"murder\", \"obama\", \"france\", \"captive\", \"cage\", \"innocent\", \"kill\", \"american\", \"killer\", \"accent\", \"masked\", \"video\", \"family\", \"syria\", \"2012\", \"david\", \"islamic\", \"u\", \"british\", \"iraq\", \"state\", \"president\", \"released\", \"militant\", \"statement\", \"hostage\", \"isi\", \"said\", \"group\", \"man\", \"life\", \"iphone\", \"apps\", \"steel\", \"cable\", \"pricing\", \"battery\", \"macbook\", \"smartwatch\", \"range\", \"stainless\", \"samsung\", \"variant\", \"wearable\", \"consumer\", \"chip\", \"developer\", \"munster\", \"karat\", \"priced\", \"seam\", \"aluminum\", \"9to5mac\", \"sapphire\", \"strap\", \"350\", \"mm\", \"arcuri\", \"349\", \"999\", \"igen\", \"gold\", \"apple\", \"edition\", \"watch\", \"option\", \"device\", \"price\", \"sport\", \"model\", \"cost\", \"launch\", \"per\", \"expensive\", \"feature\", \"000\", \"version\", \"app\", \"company\", \"2015\", \"user\", \"product\", \"5\", \"new\", \"would\", \"store\", \"4\", \"end\", \"case\", \"also\", \"could\", \"report\", \"according\", \"much\", \"emwazi\", \"mexico\", \"bary\", \"abdel\", \"terrorism\", \"teacher\", \"mi5\", \"qureshi\", \"bin\", \"kuwait\", \"sarajevo\", \"bosnia\", \"majed\", \"westminster\", \"graf\", \"iguala\", \"tanzania\", \"flown\", \"guerrero\", \"underage\", \"babici\", \"educational\", \"grave\", \"goto\", \"egyptian\", \"reproductive\", \"metropolitan\", \"nenad\", \"bus\", \"kenji\", \"jihadi\", \"vandalism\", \"german\", \"l\", \"alan\", \"london\", \"mass\", \"accused\", \"mexican\", \"john\", \"identity\", \"britain\", \"mr\", \"prison\", \"british\", \"hostage\", \"mohammed\", \"police\", \"sex\", \"believed\", \"crime\", \"known\", \"school\", \"said\", \"west\", \"name\", \"five\", \"security\", \"found\", \"child\", \"girl\", \"later\", \"official\", \"washington\", \"year\", \"one\", \"group\", \"baghdadi\", \"rosenberg\", \"lebanese\", \"bakr\", \"israeli\", \"dulaimi\", \"israel\", \"lebanon\", \"rescue\", \"dna\", \"nusra\", \"detainee\", \"abu\", \"proclaimed\", \"saja\", \"recovered\", \"gaza\", \"ypg\", \"unverified\", \"crossed\", \"caliph\", \"warren\", \"hamid\", \"guantanamo\", \"mtv\", \"zeid\", \"graham\", \"useful\", \"affiliate\", \"abou\", \"qatar\", \"supporter\", \"gill\", \"recruit\", \"al\", \"active\", \"command\", \"capture\", \"wife\", \"student\", \"leader\", \"captured\", \"prisoner\", \"fight\", \"ministry\", \"son\", \"kurdish\", \"iraqi\", \"child\", \"woman\", \"state\", \"iraq\", \"syria\", \"said\", \"islamic\", \"isi\", \"group\", \"official\", \"syrian\", \"report\", \"reported\", \"year\", \"told\", \"source\", \"spider\", \"hair\", \"skin\", \"mcdonald\", \"burger\", \"girlfriend\", \"dylan\", \"bali\", \"lego\", \"fever\", \"trail\", \"tropical\", \"fast\", \"burrowed\", \"insect\", \"nice\", \"ok\", \"handle\", \"cc\", \"mouth\", \"abdomen\", \"rob\", \"bite\", \"behaviour\", \"violated\", \"jacket\", \"soil\", \"spends\", \"portion\", \"mite\", \"j\", \"noticed\", \"cool\", \"stomach\", \"dating\", \"thomas\", \"suit\", \"australian\", \"science\", \"dr\", \"contacted\", \"feel\", \"unusual\", \"university\", \"whatever\", \"kind\", \"something\", \"man\", \"started\", \"never\", \"chinese\", \"sure\", \"thing\", \"lot\", \"like\", \"told\", \"way\", \"thought\", \"day\", \"really\", \"food\", \"think\", \"doctor\", \"old\", \"get\", \"said\", \"going\", \"friend\", \"back\", \"year\", \"would\", \"one\", \"say\", \"people\", \"kim\", \"jong\", \"korea\", \"korean\", \"pyongyang\", \"il\", \"yo\", \"ankle\", \"india\", \"supreme\", \"dictator\", \"ill\", \"overweight\", \"gout\", \"estate\", \"bureau\", \"seoul\", \"assembly\", \"madden\", \"fractured\", \"kumar\", \"hwang\", \"independence\", \"whisky\", \"nkis\", \"suresh\", \"sung\", \"nikolaev\", \"bishop\", \"recovering\", \"un\", \"elite\", \"north\", \"weight\", \"maintained\", \"absence\", \"raped\", \"pain\", \"party\", \"nun\", \"scotland\", \"restaurant\", \"south\", \"sister\", \"condition\", \"public\", \"leader\", \"health\", \"official\", \"leadership\", \"said\", \"medical\", \"source\", \"state\", \"people\", \"since\", \"government\", \"reported\", \"would\", \"report\", \"haram\", \"boko\", \"nigerian\", \"nigeria\", \"castro\", \"ceasefire\", \"shekau\", \"commercial\", \"chibok\", \"olsen\", \"chad\", \"jetliner\", \"fidel\", \"agreement\", \"cease\", \"plant\", \"airliner\", \"ahmadu\", \"abubakar\", \"truce\", \"benghazi\", \"2001\", \"hassan\", \"suspended\", \"havana\", \"dan\", \"presidential\", \"goodluck\", \"bringbackourgirls\", \"airbus\", \"libyan\", \"suspension\", \"tripoli\", \"schoolgirl\", \"cuba\", \"girl\", \"jonathan\", \"aircraft\", \"libya\", \"islamist\", \"tour\", \"agreed\", \"government\", \"11\", \"release\", \"kidnapped\", \"announced\", \"group\", \"200\", \"said\", \"attack\", \"deal\", \"friday\", \"leader\", \"president\", \"month\", \"official\", \"report\", \"since\", \"would\", \"lin\", \"paler\", \"comcast\", \"conal\", \"buy\", \"rourke\", \"liquor\", \"kadalim\", \"fatwa\", \"cook\", \"snowman\", \"michelle\", \"purchase\", \"taibbi\", \"ebay\", \"donation\", \"homeless\", \"55\", \"employer\", \"prankster\", \"fruit\", \"respect\", \"vocativ\", \"experiment\", \"secretly\", \"beggar\", \"controller\", \"anywhere\", \"auction\", \"mom\", \"josh\", \"prank\", \"bos\", \"leaked\", \"customer\", \"money\", \"fee\", \"pulling\", \"complaint\", \"partner\", \"million\", \"employee\", \"dollar\", \"saudi\", \"store\", \"youtube\", \"islam\", \"100\", \"park\", \"phone\", \"street\", \"company\", \"video\", \"sell\", \"6\", \"service\", \"get\", \"issue\", \"people\", \"000\", \"building\", \"would\", \"call\", \"say\", \"brown\", \"wilson\", \"pause\", \"ferguson\", \"attorney\", \"blumenthal\", \"gunshot\", \"tor\", \"louis\", \"darren\", \"autopsy\", \"chat\", \"lopa\", \"missouri\", \"lemon\", \"sniper\", \"volley\", \"theft\", \"demonstrator\", \"client\", \"browser\", \"mayor\", \"dorian\", \"deepdotweb\", \"exit\", \"tribunal\", \"transpired\", \"relevance\", \"exchanged\", \"florissant\", \"glide\", \"audio\", \"commissioner\", \"brooklyn\", \"blasio\", \"constantine\", \"bratton\", \"recording\", \"officer\", \"fired\", \"shot\", \"shooting\", \"marijuana\", \"unarmed\", \"police\", \"johnson\", \"st\", \"gunfire\", \"fbi\", \"michael\", \"heard\", \"court\", \"said\", \"man\", \"friend\", \"case\", \"monday\", \"time\", \"six\", \"9\", \"arrest\", \"least\", \"told\", \"tuesday\", \"smith\", \"fish\", \"catfish\", \"afghanistan\", \"dinner\", \"marine\", \"palace\", \"twin\", \"mushroom\", \"ferrari\", \"vega\", \"helicopter\", \"land\", \"po\", \"remark\", \"bay\", \"wels\", \"meter\", \"specie\", \"shore\", \"lucky\", \"45\", \"river\", \"diagnosed\", \"joy\", \"helmet\", \"mgm\", \"shane\", \"130\", \"yeti\", \"mall\", \"patient\", \"billion\", \"grenade\", \"taliban\", \"garden\", \"christmas\", \"bill\", \"300\", \"19\", \"14\", \"weekend\", \"church\", \"riquelme\", \"la\", \"creature\", \"close\", \"footage\", \"meal\", \"water\", \"one\", \"result\", \"said\", \"big\", \"000\", \"show\", \"new\", \"year\", \"video\", \"caught\", \"medium\", \"owner\", \"catholic\", \"priest\", \"neal\", \"male\", \"v\", \"pet\", \"ilic\", \"superman\", \"holy\", \"heaven\", \"\\u00e0\", \"une\", \"scar\", \"sad\", \"medic\", \"author\", \"wonderful\", \"vatican\", \"gender\", \"est\", \"roman\", \"oliver\", \"goldfish\", \"cesar\", \"razor\", \"cruel\", \"perfectly\", \"macedonian\", \"micheal\", \"animal\", \"cleric\", \"boy\", \"de\", \"god\", \"dog\", \"pope\", \"penis\", \"francis\", \"le\", \"mother\", \"father\", \"heart\", \"rushed\", \"hospital\", \"belonging\", \"died\", \"old\", \"female\", \"doctor\", \"woman\", \"would\", \"son\", \"life\", \"story\", \"operation\", \"year\", \"man\", \"meteorite\", \"asteroid\", \"kai\", \"crater\", \"managua\", \"nicaraguan\", \"nikolai\", \"sky\", \"nicaragua\", \"sgt\", \"spca\", \"magnet\", \"attract\", \"oberholtzer\", \"suitcase\", \"rc\", \"fireball\", \"object\", \"classmate\", \"developing\", \"kryaglyachenko\", \"chicken\", \"kfc\", \"tan\", \"superpower\", \"planet\", \"spoon\", \"cooke\", \"extensive\", \"magneto\", \"wide\", \"millan\", \"wave\", \"truck\", \"earth\", \"scientist\", \"glass\", \"welfare\", \"station\", \"blast\", \"scottish\", \"airport\", \"said\", \"foot\", \"near\", \"people\", \"capital\", \"local\", \"would\", \"left\", \"sunday\", \"found\", \"one\", \"want\", \"could\", \"reported\", \"told\", \"bale\", \"sorkin\", \"rat\", \"vogue\", \"anna\", \"wintour\", \"aaron\", \"biopic\", \"boyle\", \"delight\", \"danny\", \"biography\", \"walter\", \"capsule\", \"isaacson\", \"directed\", \"hip\", \"hop\", \"sugarhill\", \"oscar\", \"infestation\", \"tower\", \"dicaprio\", \"ashton\", \"rodent\", \"kutcher\", \"board\", \"gee\", \"folk\", \"leonardo\", \"amazon\", \"steve\", \"job\", \"google\", \"office\", \"winning\", \"actor\", \"film\", \"movie\", \"founder\", \"play\", \"rapper\", \"project\", \"variety\", \"christian\", \"role\", \"new\", \"song\", \"magazine\", \"york\", \"co\", \"box\", \"big\", \"one\", \"said\", \"talk\", \"according\", \"part\", \"source\", \"hbo\", \"chandler\", \"detroit\", \"phelps\", \"batmobile\", \"snow\", \"cctv\", \"williams\", \"seidel\", \"jess\", \"disney\", \"teletubbies\", \"snyder\", \"putin\", \"macklemorejoinedisis\", \"macklemore\", \"netflix\", \"holt\", \"carlisle\", \"bird\", \"anchor\", \"cctvnews\", \"swimmer\", \"sneeze\", \"lianne\", \"ikwiz\", \"satire\", \"sneezed\", \"sneezing\", \"cn\", \"foxnewspress\", \"genitalia\", \"brian\", \"pa\", \"hoax\", \"satirical\", \"subscription\", \"fake\", \"edward\", \"english\", \"star\", \"episode\", \"supported\", \"name\", \"story\", \"site\", \"tweet\", \"article\", \"website\", \"nbc\", \"facebook\", \"tv\", \"news\", \"game\", \"woman\", \"viral\", \"police\", \"one\", \"service\", \"student\", \"picture\", \"said\", \"first\", \"like\", \"war\", \"film\", \"canadian\", \"vickers\", \"ottawa\", \"memorial\", \"bibeau\", \"zehaf\", \"gonzalez\", \"sergeant\", \"harper\", \"campus\", \"fence\", \"robot\", \"cirillo\", \"rcmp\", \"stephen\", \"caucus\", \"rifle\", \"alarm\", \"nathan\", \"entrance\", \"intruder\", \"sensor\", \"quebec\", \"shooter\", \"blue\", \"montreal\", \"lockdown\", \"library\", \"ceremonial\", \"pierson\", \"guard\", \"parliament\", \"mp\", \"kevin\", \"gunman\", \"hill\", \"canada\", \"house\", \"soldier\", \"arm\", \"room\", \"door\", \"building\", \"shot\", \"war\", \"security\", \"shooting\", \"incident\", \"service\", \"inside\", \"wednesday\", \"police\", \"said\", \"national\", \"man\", \"ebola\", \"virus\", \"symptom\", \"mashable\", \"icloud\", \"scorpion\", \"setting\", \"kansa\", \"reset\", \"deleted\", \"infection\", \"contracted\", \"cdc\", \"feig\", \"outbreak\", \"epidemic\", \"quarantined\", \"tunisia\", \"vomiting\", \"incinerated\", \"infected\", \"christy\", \"louise\", \"medicine\", \"bug\", \"purdon\", \"hamele\", \"sabah\", \"diarrhea\", \"malaria\", \"frisco\", \"banksy\", \"artist\", \"biological\", \"disease\", \"mosul\", \"health\", \"deadly\", \"africa\", \"hospital\", \"dallas\", \"case\", \"city\", \"iraqi\", \"isi\", \"iraq\", \"report\", \"official\", \"document\", \"reported\", \"country\", \"organization\", \"militant\", \"medium\", \"area\", \"said\", \"source\", \"world\", \"told\"], \"Total\": [44045.0, 30442.0, 22236.0, 28784.0, 46117.0, 34001.0, 20626.0, 24473.0, 16882.0, 17942.0, 13910.0, 130182.0, 26540.0, 41793.0, 17448.0, 10801.0, 47036.0, 12495.0, 22614.0, 20635.0, 29728.0, 19261.0, 16631.0, 33140.0, 13616.0, 10156.0, 10093.0, 10183.0, 11492.0, 10498.0, 5754.14404296875, 3813.41259765625, 3798.12841796875, 3068.316162109375, 2764.355712890625, 2667.275146484375, 2439.0341796875, 2370.682861328125, 2199.068359375, 1760.7420654296875, 1741.43603515625, 1556.564208984375, 1492.158935546875, 1452.655517578125, 1367.0784912109375, 1317.09814453125, 1200.475341796875, 1181.6395263671875, 1161.880126953125, 1156.2860107421875, 1095.37548828125, 1048.40576171875, 1042.60302734375, 1027.839599609375, 1002.5390625, 906.7312622070312, 1130.683349609375, 852.2066040039062, 844.7323608398438, 827.7788696289062, 3471.6396484375, 3161.001953125, 1359.91552734375, 17448.2421875, 2054.529296875, 3380.00830078125, 1723.8448486328125, 6895.71728515625, 11890.580078125, 3755.822021484375, 3660.182861328125, 3675.54638671875, 11753.701171875, 2127.67041015625, 34001.8515625, 6889.9375, 11623.9951171875, 47036.3671875, 3495.149169921875, 9659.65625, 13906.033203125, 33140.18359375, 28784.443359375, 26540.763671875, 10220.5234375, 41793.3359375, 130182.15625, 21493.02734375, 16109.9287109375, 15911.203125, 9760.0322265625, 22614.65625, 20635.48828125, 30180.8203125, 16386.361328125, 16541.90625, 9908.533203125, 26659.0234375, 19261.03515625, 2814.65625, 2651.435791015625, 2534.383056640625, 2343.651123046875, 2151.94677734375, 1997.1644287109375, 1951.1822509765625, 1819.3214111328125, 3073.60009765625, 1716.99658203125, 1601.78369140625, 1691.269775390625, 1486.0543212890625, 1418.686767578125, 1624.69970703125, 1225.3798828125, 1219.3697509765625, 1126.049072265625, 1084.2230224609375, 1037.78662109375, 944.313720703125, 925.5181274414062, 910.5751953125, 894.7030639648438, 905.5733032226562, 844.8824462890625, 838.1968994140625, 828.4074096679688, 804.0950317382812, 783.9771118164062, 1815.8489990234375, 1709.25927734375, 1533.239990234375, 1645.0228271484375, 1890.328857421875, 1296.281494140625, 2725.94873046875, 2927.63720703125, 2749.4892578125, 1607.203125, 8499.2939453125, 2129.15869140625, 43887.33203125, 2020.469482421875, 3876.196044921875, 2719.357421875, 8710.765625, 12525.0146484375, 12955.21875, 35828.06640625, 3090.31494140625, 4324.4580078125, 24645.4296875, 4346.25244140625, 37042.60546875, 16184.5283203125, 3847.468994140625, 20992.263671875, 3740.169189453125, 130182.15625, 22929.818359375, 4708.10205078125, 11366.21484375, 15897.15625, 15650.376953125, 6923.6689453125, 28814.056640625, 16636.486328125, 14271.93359375, 7279.26708984375, 41320.76171875, 42070.62109375, 2152.482177734375, 2061.386962890625, 1891.63037109375, 1653.46875, 1647.2105712890625, 1590.5989990234375, 1479.2718505859375, 1314.2147216796875, 1296.26171875, 1204.0794677734375, 1173.15478515625, 1162.4775390625, 1111.0963134765625, 1137.203857421875, 1078.9832763671875, 1075.7239990234375, 1057.9373779296875, 912.1724243164062, 974.5676879882812, 904.9308471679688, 886.82666015625, 821.7129516601562, 793.8656005859375, 742.4763793945312, 723.224365234375, 717.2049560546875, 619.3485717773438, 610.759765625, 607.9270629882812, 571.0745849609375, 2572.584716796875, 991.1063232421875, 1086.54248046875, 795.32861328125, 2705.1865234375, 2321.787353515625, 2940.1298828125, 1059.6700439453125, 1298.5587158203125, 1690.538818359375, 4069.94482421875, 3986.01708984375, 14052.03515625, 5586.63232421875, 1713.3778076171875, 8193.380859375, 5455.46533203125, 4752.546875, 6945.837890625, 2060.649169921875, 1892.218994140625, 3847.604736328125, 2055.88330078125, 2916.03466796875, 30888.208984375, 7722.91259765625, 3812.345947265625, 8461.3505859375, 8849.453125, 18269.462890625, 13646.2255859375, 41320.76171875, 19338.208984375, 7419.97265625, 20749.576171875, 9038.91015625, 10536.6669921875, 33503.20703125, 7405.23291015625, 11934.5712890625, 5535.685546875, 6817.49658203125, 7067.42138671875, 8865.01953125, 42070.62109375, 9344.470703125, 9082.09375, 12599.9619140625, 3333.80126953125, 2407.41064453125, 2290.44384765625, 2018.8526611328125, 1163.757568359375, 1649.6492919921875, 890.7197265625, 856.404541015625, 826.1866455078125, 796.9183959960938, 1534.283447265625, 717.6121215820312, 668.8636474609375, 650.5816650390625, 1266.274658203125, 616.212646484375, 612.3800048828125, 594.4695434570312, 576.5677490234375, 557.1608276367188, 545.7360229492188, 769.75830078125, 478.7775573730469, 493.44879150390625, 420.65386962890625, 413.3561706542969, 383.2146301269531, 377.76507568359375, 377.1777648925781, 360.7243957519531, 7426.9560546875, 979.0361938476562, 617.7017822265625, 397.8731994628906, 984.24951171875, 923.3665771484375, 941.809326171875, 710.0755615234375, 966.3712768554688, 3592.91748046875, 7450.47216796875, 2154.047607421875, 2529.818359375, 1344.31201171875, 1787.27880859375, 1619.295654296875, 6238.67724609375, 1246.7574462890625, 3599.0908203125, 1498.7596435546875, 7417.92578125, 5760.6904296875, 1685.9066162109375, 4165.6513671875, 3291.512939453125, 3199.0205078125, 4657.8076171875, 3630.32275390625, 2709.39990234375, 46117.359375, 30223.62890625, 35828.06640625, 7466.767578125, 3910.12451171875, 6086.58251953125, 20992.263671875, 15897.15625, 14271.93359375, 37042.60546875, 16188.4599609375, 18269.462890625, 30888.208984375, 8183.98828125, 26659.0234375, 6643.54541015625, 5808.857421875, 47036.3671875, 12082.7353515625, 21560.814453125, 36286.46875, 22929.818359375, 42070.62109375, 24645.4296875, 9518.001953125, 11553.9404296875, 16882.921875, 5373.517578125, 4203.9599609375, 3031.281005859375, 2272.17041015625, 1730.04052734375, 1702.2257080078125, 1326.116943359375, 1259.90625, 1185.2747802734375, 986.9959106445312, 903.4224853515625, 894.8286743164062, 866.968505859375, 811.6498413085938, 804.1749267578125, 798.7894897460938, 788.5765380859375, 736.8269653320312, 728.9207153320312, 726.5929565429688, 691.9395141601562, 644.7432861328125, 617.0621337890625, 555.9485473632812, 539.35498046875, 534.9852294921875, 519.06640625, 517.6275634765625, 507.813720703125, 4057.740478515625, 3219.395751953125, 2897.5869140625, 1649.15234375, 2100.128173828125, 11692.7353515625, 2396.18896484375, 8006.3486328125, 4572.361328125, 4308.0986328125, 12800.0693359375, 1639.576171875, 2979.82177734375, 1618.3763427734375, 1562.131591796875, 2863.009521484375, 20635.48828125, 3227.107177734375, 1872.336181640625, 3079.33837890625, 46117.359375, 15660.52734375, 22614.65625, 6171.86328125, 5928.60888671875, 26540.763671875, 47036.3671875, 11881.1787109375, 19261.03515625, 41793.3359375, 10823.6005859375, 11767.1279296875, 21493.02734375, 13990.169921875, 7773.14013671875, 34001.8515625, 130182.15625, 33140.18359375, 29728.28515625, 14424.8515625, 8000.76220703125, 2959.1982421875, 2382.121826171875, 2274.7998046875, 1931.8629150390625, 1920.478759765625, 1843.3309326171875, 1767.3201904296875, 1705.70361328125, 1550.9713134765625, 1518.577392578125, 1477.60498046875, 1476.4151611328125, 1390.5631103515625, 1328.0577392578125, 1270.4302978515625, 1250.5501708984375, 1195.9742431640625, 1108.4713134765625, 1246.4923095703125, 1097.0443115234375, 1066.9814453125, 1056.698974609375, 1051.5240478515625, 1031.3504638671875, 1054.7342529296875, 979.3645629882812, 956.1534423828125, 937.186279296875, 902.432373046875, 7763.126953125, 44045.56640625, 4462.68701171875, 30442.73828125, 1754.1763916015625, 5059.888671875, 4781.72998046875, 2533.940185546875, 4848.06884765625, 3674.90869140625, 4891.306640625, 2480.17236328125, 1822.6170654296875, 3875.302734375, 13021.115234375, 4221.521484375, 4296.69482421875, 12341.1455078125, 6817.49658203125, 9344.470703125, 4070.03564453125, 5371.8818359375, 28814.056640625, 36286.46875, 6370.51953125, 4432.99267578125, 7721.62841796875, 12429.4912109375, 37042.60546875, 26659.0234375, 41320.76171875, 26879.271484375, 8500.5546875, 7340.80126953125, 3195.785400390625, 2849.228759765625, 2585.4599609375, 2558.4208984375, 1996.242919921875, 1903.2958984375, 1697.626220703125, 1605.4866943359375, 1526.7659912109375, 1246.9052734375, 1174.886962890625, 1094.7908935546875, 1041.53564453125, 1007.1976928710938, 985.1056518554688, 828.9747314453125, 819.8903198242188, 813.4088134765625, 807.2528686523438, 756.0060424804688, 743.1954345703125, 739.1575317382812, 709.6494750976562, 689.7275390625, 652.3927612304688, 649.2129516601562, 603.4003295898438, 779.718994140625, 582.51220703125, 5477.81298828125, 649.4712524414062, 836.6486206054688, 2645.135498046875, 1355.3818359375, 7535.7744140625, 2828.601318359375, 1736.1812744140625, 1447.9892578125, 11003.396484375, 3807.032958984375, 2314.925048828125, 15218.625, 1896.781982421875, 11881.1787109375, 7773.14013671875, 2942.282470703125, 24473.400390625, 2775.864013671875, 11263.734375, 3083.70361328125, 12046.5615234375, 6524.7548828125, 130182.15625, 5598.052734375, 15984.359375, 5731.30078125, 16541.90625, 12955.21875, 10200.267578125, 16631.14453125, 10593.142578125, 30180.8203125, 7511.193359375, 43887.33203125, 42070.62109375, 33140.18359375, 9236.2744140625, 5054.5517578125, 4398.2529296875, 3240.8857421875, 2829.360595703125, 2825.26708984375, 2793.1728515625, 2271.26171875, 2015.9447021484375, 1731.9130859375, 1535.4381103515625, 1234.920654296875, 4905.02197265625, 1073.22021484375, 967.6760864257812, 892.7686767578125, 875.0211791992188, 748.1815185546875, 738.3284301757812, 730.1320190429688, 684.4508666992188, 615.1556396484375, 592.9166259765625, 621.7905883789062, 583.5718383789062, 575.8045654296875, 561.8800048828125, 554.0947875976562, 549.3306274414062, 545.6244506835938, 698.6559448242188, 1127.84521484375, 1694.14990234375, 1765.66015625, 28784.443359375, 1379.856201171875, 1832.770751953125, 3616.92041015625, 5590.24560546875, 7124.76123046875, 15923.7177734375, 9005.0849609375, 3917.176025390625, 3886.863037109375, 4029.445556640625, 9654.318359375, 7210.49951171875, 10679.4375, 10200.267578125, 16504.96484375, 41793.3359375, 19261.03515625, 22614.65625, 130182.15625, 26540.763671875, 34001.8515625, 33140.18359375, 30180.8203125, 10220.5234375, 41320.76171875, 22300.98828125, 43887.33203125, 34086.0625, 20733.416015625, 5319.47119140625, 4341.49072265625, 3206.79736328125, 2715.301513671875, 2170.30712890625, 2097.339111328125, 1530.091552734375, 1477.89208984375, 1300.8563232421875, 1231.6781005859375, 1181.75634765625, 1053.7550048828125, 1025.364013671875, 998.7269897460938, 830.4564819335938, 722.65576171875, 702.8743286132812, 764.715087890625, 653.5170288085938, 631.0357666015625, 619.0341796875, 610.3220825195312, 598.6486206054688, 694.7239379882812, 554.6824951171875, 537.5948486328125, 538.2008056640625, 534.1729125976562, 554.3251953125, 510.8240661621094, 2716.099609375, 968.7061157226562, 1040.154052734375, 1440.80517578125, 732.8924560546875, 9900.328125, 1224.8968505859375, 1412.41064453125, 1361.4884033203125, 967.6792602539062, 1884.4619140625, 3043.14599609375, 1276.365234375, 5698.19189453125, 1754.991455078125, 3159.303955078125, 8285.3974609375, 29728.28515625, 4316.12841796875, 8200.294921875, 2195.9814453125, 3789.65869140625, 8197.4794921875, 5966.7734375, 21560.814453125, 34086.0625, 11608.7802734375, 7150.82666015625, 20992.263671875, 4954.15283203125, 5641.74169921875, 8801.466796875, 5700.7373046875, 16071.85546875, 13477.1142578125, 130182.15625, 10920.1806640625, 13215.6865234375, 14271.93359375, 43887.33203125, 36286.46875, 42070.62109375, 30223.62890625, 33503.20703125, 22236.908203125, 12495.6494140625, 10183.1103515625, 8856.279296875, 3380.476318359375, 3047.991455078125, 2871.083251953125, 2858.600830078125, 2409.65087890625, 1858.149169921875, 1520.3052978515625, 1296.170166015625, 1267.905517578125, 1251.9825439453125, 1249.382080078125, 1236.4202880859375, 1230.653076171875, 1225.617919921875, 1215.960205078125, 962.0660400390625, 935.5933837890625, 900.1023559570312, 799.06787109375, 777.182861328125, 774.6177978515625, 745.4815673828125, 731.9537963867188, 722.8239135742188, 719.1041870117188, 682.7053833007812, 10498.111328125, 1099.664306640625, 20626.349609375, 2239.3876953125, 932.6869506835938, 2592.43505859375, 900.933349609375, 1472.986328125, 4627.962890625, 2743.391845703125, 3475.064697265625, 2802.785400390625, 7042.5302734375, 3696.216064453125, 3665.783935546875, 9708.5068359375, 15923.7177734375, 9488.96875, 30180.8203125, 2900.84130859375, 130182.15625, 4917.18994140625, 20733.416015625, 41793.3359375, 33503.20703125, 15650.376953125, 23999.775390625, 22300.98828125, 36286.46875, 41320.76171875, 10156.7080078125, 10093.3544921875, 5923.53173828125, 5322.3447265625, 3430.004150390625, 3218.500244140625, 3070.920654296875, 2476.05322265625, 2132.552734375, 1834.818115234375, 1749.5018310546875, 1702.056640625, 1702.042724609375, 1517.2967529296875, 1503.9150390625, 1367.4468994140625, 1344.26220703125, 1267.1436767578125, 1218.2120361328125, 1204.71728515625, 1199.218017578125, 1137.1387939453125, 1069.9217529296875, 935.2113647460938, 882.85546875, 839.1135864257812, 831.505126953125, 810.217529296875, 800.9580078125, 782.5249633789062, 3355.99365234375, 827.3097534179688, 2401.7021484375, 3226.94677734375, 1912.9788818359375, 16631.14453125, 2072.982421875, 5023.52685546875, 5094.880859375, 4388.95751953125, 3033.6982421875, 1963.2353515625, 23999.775390625, 9263.7744140625, 11477.4775390625, 6262.380859375, 5855.1953125, 33140.18359375, 3824.4921875, 130182.15625, 15911.203125, 4724.30908203125, 6257.20556640625, 15923.7177734375, 10823.6005859375, 16636.486328125, 30180.8203125, 41320.76171875, 15650.376953125, 36286.46875, 6396.90771484375, 2634.3447265625, 7406.36474609375, 2310.170654296875, 1722.536376953125, 1554.088134765625, 1515.9317626953125, 1324.41162109375, 1177.1116943359375, 1159.79833984375, 1164.33447265625, 936.894287109375, 925.8402709960938, 896.8533935546875, 842.8236694335938, 817.8439331054688, 3628.624755859375, 797.8814697265625, 797.086669921875, 761.6256713867188, 724.9212646484375, 669.9208374023438, 656.2174072265625, 646.8671875, 646.318603515625, 645.556640625, 629.5225830078125, 613.8792724609375, 593.3175659179688, 582.6949462890625, 1780.5855712890625, 1347.009033203125, 743.987060546875, 1009.15966796875, 6463.01171875, 5273.62744140625, 887.7062377929688, 955.8013305664062, 1612.5748291015625, 1723.3250732421875, 9143.6650390625, 3029.956787109375, 1616.283935546875, 4339.56103515625, 6370.51953125, 5705.84765625, 4462.2373046875, 5036.36474609375, 1937.6962890625, 4861.6953125, 7005.3505859375, 12341.1455078125, 46117.359375, 3237.08447265625, 7722.91259765625, 16175.259765625, 13477.1142578125, 5422.07275390625, 33503.20703125, 13021.115234375, 9029.9208984375, 36286.46875, 7490.89111328125, 30223.62890625, 13910.560546875, 7532.3115234375, 5779.33837890625, 4981.03271484375, 4057.868408203125, 3825.2333984375, 2435.147216796875, 2112.846435546875, 1678.8172607421875, 1649.62451171875, 1648.479248046875, 1590.4830322265625, 1383.7274169921875, 1261.86767578125, 1187.0650634765625, 1120.04736328125, 1014.0452270507812, 1076.3568115234375, 933.992919921875, 922.4019775390625, 860.7477416992188, 1322.2733154296875, 745.0496826171875, 730.0489501953125, 698.4452514648438, 660.6663818359375, 634.6251831054688, 626.3596801757812, 596.3699340820312, 586.1079711914062, 1711.729736328125, 7162.7216796875, 940.5869140625, 864.7522583007812, 989.1629638671875, 805.708740234375, 861.694091796875, 5871.033203125, 13616.2861328125, 6693.748046875, 17942.5, 10190.8837890625, 3550.670654296875, 2205.380859375, 24473.400390625, 4107.11474609375, 2592.151123046875, 2104.720703125, 4372.6689453125, 9115.177734375, 8743.8427734375, 3448.912109375, 130182.15625, 29728.28515625, 13215.6865234375, 12429.4912109375, 10066.37890625, 35828.06640625, 8183.98828125, 6818.41015625, 4304.0234375, 10590.82421875, 34086.0625, 10275.9365234375, 5095.6806640625, 2641.66845703125, 2196.79541015625, 1956.1507568359375, 1529.2376708984375, 1478.463134765625, 1419.019775390625, 1337.2271728515625, 1207.44970703125, 1085.2646484375, 1018.3025512695312, 1017.966796875, 1016.4207153320312, 1009.6158447265625, 1015.5343017578125, 999.0591430664062, 991.7835083007812, 972.3756103515625, 951.4154663085938, 925.5535888671875, 886.4700927734375, 871.1708374023438, 866.4486694335938, 856.0343017578125, 839.0226440429688, 801.9869384765625, 762.26123046875, 715.90380859375, 690.3832397460938, 671.1796264648438, 1533.305419921875, 3607.588134765625, 1281.260986328125, 1197.0517578125, 1741.079833984375, 1394.841064453125, 2413.814208984375, 2820.47021484375, 2703.0712890625, 2513.162353515625, 3369.9140625, 3567.323974609375, 2838.154541015625, 1916.0853271484375, 3128.39599609375, 1941.7947998046875, 5608.1220703125, 3760.13818359375, 1622.29443359375, 3148.701416015625, 42070.62109375, 3812.67626953125, 130182.15625, 5932.91455078125, 13021.115234375, 12082.7353515625, 28814.056640625, 43887.33203125, 46117.359375, 6258.9794921875, 19338.208984375, 2913.36328125, 2657.485107421875, 2494.46923828125, 2388.2626953125, 1871.6309814453125, 1834.037841796875, 1821.1185302734375, 1733.3883056640625, 1602.8453369140625, 1499.612060546875, 2175.42578125, 1280.0098876953125, 1279.6883544921875, 1237.4542236328125, 1145.575927734375, 1118.305419921875, 1099.224853515625, 1075.59375, 1020.7569580078125, 1006.0762939453125, 1003.00537109375, 1053.388427734375, 952.754638671875, 903.0591430664062, 861.6354370117188, 756.5894775390625, 748.4797973632812, 736.3612670898438, 732.4071655273438, 714.9743041992188, 5799.02978515625, 1205.93359375, 5050.73974609375, 7103.3818359375, 6283.86083984375, 5793.3037109375, 3210.33349609375, 3779.43212890625, 2486.56396484375, 6105.34423828125, 5082.24609375, 6664.08642578125, 3958.994873046875, 1982.9193115234375, 11174.89453125, 1766.55029296875, 6640.6865234375, 16071.85546875, 3502.968017578125, 5700.7373046875, 16504.96484375, 36286.46875, 9654.318359375, 14424.8515625, 20749.576171875, 7185.833984375, 43887.33203125, 29728.28515625, 4945.4326171875, 3715.17138671875, 3521.2470703125, 3193.146484375, 2699.634033203125, 2362.2216796875, 2018.2684326171875, 1954.7855224609375, 1897.5079345703125, 1649.943603515625, 1580.6927490234375, 1503.552734375, 1494.646728515625, 1376.3843994140625, 1308.6553955078125, 1295.22412109375, 1235.178955078125, 1722.3931884765625, 1149.0406494140625, 1028.0087890625, 1006.4765014648438, 920.6165771484375, 915.209228515625, 895.0894775390625, 853.401123046875, 768.91015625, 753.89111328125, 746.956787109375, 743.0818481445312, 733.9616088867188, 1665.391845703125, 1907.9991455078125, 1399.302978515625, 2082.58935546875, 3902.530029296875, 1827.6649169921875, 2767.38671875, 1081.234375, 4304.54833984375, 1393.6048583984375, 2149.005126953125, 5681.92578125, 130182.15625, 5545.35546875, 11378.609375, 33503.20703125, 6805.33203125, 9273.1611328125, 36286.46875, 11834.0224609375, 5699.44189453125, 12955.21875, 42070.62109375, 7985.103515625, 26659.0234375, 22300.98828125, 34086.0625, 6343.4921875, 3595.6259765625, 3049.03955078125, 2533.801025390625, 2241.936767578125, 1989.288818359375, 1839.9927978515625, 1743.8270263671875, 1723.205078125, 1703.2232666015625, 1517.6201171875, 1401.2552490234375, 1374.717529296875, 1360.4088134765625, 1331.984619140625, 1232.5810546875, 1141.2705078125, 1092.93603515625, 1060.80419921875, 972.3847045898438, 920.491943359375, 899.9415283203125, 835.0521240234375, 783.5455932617188, 773.15478515625, 746.4085083007812, 1351.593017578125, 718.0184326171875, 730.4388427734375, 712.8382568359375, 2795.61767578125, 6106.27734375, 11492.7197265625, 3921.230712890625, 9322.5595703125, 1137.4676513671875, 6101.65673828125, 6793.9033203125, 5256.10400390625, 2336.06689453125, 4660.08056640625, 3435.929443359375, 2957.20166015625, 2204.880126953125, 3970.767333984375, 5793.61083984375, 28814.056640625, 3025.608154296875, 2853.9892578125, 7399.9091796875, 5446.66748046875, 4032.24609375, 5932.91455078125, 42070.62109375, 130182.15625, 5865.8916015625, 26879.271484375, 12561.7529296875, 20733.416015625, 5856.54541015625, 3012.91259765625, 2704.64697265625, 2602.403076171875, 2322.50927734375, 1978.620849609375, 1664.2159423828125, 1643.7320556640625, 1521.8206787109375, 1289.006103515625, 1268.9124755859375, 1199.440673828125, 1119.7728271484375, 1095.6820068359375, 1066.5103759765625, 773.6144409179688, 693.9349975585938, 652.7915649414062, 642.9476928710938, 613.0501098632812, 604.533935546875, 596.2473754882812, 594.2744750976562, 592.5136108398438, 588.783203125, 578.17431640625, 564.6475830078125, 554.3492431640625, 550.0451049804688, 546.679931640625, 549.8610229492188, 600.7687377929688, 879.8905029296875, 891.3689575195312, 4890.69873046875, 1372.15869140625, 1241.2984619140625, 5286.97509765625, 1014.05859375, 3639.017822265625, 4906.80419921875, 1345.8006591796875, 1651.8812255859375, 15984.359375, 20749.576171875, 12220.583984375, 2931.708740234375, 8849.453125, 8524.8955078125, 2881.92138671875, 7531.03955078125, 6510.90771484375, 30888.208984375, 3545.047607421875, 16504.96484375, 2750.27392578125, 24473.400390625, 42070.62109375, 16175.259765625, 7124.76123046875, 5668.16943359375, 130182.15625, 24645.4296875, 21560.814453125, 10218.283203125, 6793.9033203125, 5884.75341796875, 5545.51220703125, 4802.33447265625, 4093.801513671875, 4057.1142578125, 3702.835205078125, 2410.65185546875, 2246.72412109375, 1826.6219482421875, 1820.15673828125, 1646.3072509765625, 1590.3912353515625, 1497.2947998046875, 1349.2498779296875, 1299.0869140625, 1202.9586181640625, 1172.279541015625, 1147.84130859375, 1093.0213623046875, 1037.446044921875, 997.6218872070312, 941.4614868164062, 906.0013427734375, 865.0372314453125, 863.9312744140625, 790.7213134765625, 768.1535034179688, 714.8760375976562, 689.7734985351562, 628.6532592773438, 3566.742919921875, 7371.67919921875, 2504.14892578125, 3066.655517578125, 4420.6875, 3723.208740234375, 2850.1962890625, 13120.078125, 8825.77734375, 4977.37939453125, 3377.50146484375, 3386.665283203125, 9029.9208984375, 17942.5, 10218.283203125, 16541.90625, 10190.8837890625, 6511.9287109375, 16175.259765625, 7956.7265625, 9041.609375, 24473.400390625, 130182.15625, 7932.0224609375, 29728.28515625, 10801.24609375, 4024.376953125, 2625.036376953125, 2140.21240234375, 1824.7352294921875, 1706.571533203125, 1686.70068359375, 1458.7879638671875, 1169.67333984375, 982.4049072265625, 955.4403686523438, 813.7025756835938, 813.0677490234375, 792.405029296875, 777.7778930664062, 621.3062133789062, 617.3555297851562, 590.6228637695312, 575.4173583984375, 574.9548950195312, 564.7103271484375, 561.798095703125, 552.7876586914062, 537.9227294921875, 528.6686401367188, 512.8954467773438, 508.86297607421875, 508.47955322265625, 502.8437194824219, 479.4796142578125, 595.9172973632812, 4924.3359375, 1969.0045166015625, 701.58740234375, 3687.6103515625, 7561.75439453125, 9488.96875, 1066.4908447265625, 3700.45703125, 11174.89453125, 1054.1004638671875, 12429.4912109375, 16386.361328125, 10679.4375, 34001.8515625, 19261.03515625, 41320.76171875, 30180.8203125, 3467.0673828125, 22300.98828125, 13757.2861328125, 5593.69140625, 21493.02734375, 19338.208984375, 9741.248046875, 130182.15625, 20733.416015625, 13412.4599609375, 34086.0625], \"loglift\": [30.0, 29.0, 28.0, 27.0, 26.0, 25.0, 24.0, 23.0, 22.0, 21.0, 20.0, 19.0, 18.0, 17.0, 16.0, 15.0, 14.0, 13.0, 12.0, 11.0, 10.0, 9.0, 8.0, 7.0, 6.0, 5.0, 4.0, 3.0, 2.0, 1.0, 2.468100070953369, 2.468100070953369, 2.468100070953369, 2.4679999351501465, 2.4679999351501465, 2.4679999351501465, 2.467900037765503, 2.467900037765503, 2.467900037765503, 2.4677999019622803, 2.4677999019622803, 2.4677000045776367, 2.4677000045776367, 2.4677000045776367, 2.467600107192993, 2.467600107192993, 2.4674999713897705, 2.4674999713897705, 2.4674999713897705, 2.4674999713897705, 2.467400074005127, 2.467400074005127, 2.467400074005127, 2.467400074005127, 2.467400074005127, 2.4672999382019043, 2.4672000408172607, 2.4672000408172607, 2.4672000408172607, 2.4672000408172607, 2.46560001373291, 2.466200113296509, 2.4628000259399414, 2.424299955368042, 2.4507999420166016, 2.370500087738037, 2.4154999256134033, 2.232100009918213, 2.1538000106811523, 2.300600051879883, 2.290600061416626, 2.2869999408721924, 2.0762999057769775, 2.3661999702453613, 1.8233000040054321, 2.1084001064300537, 1.940500020980835, 1.5887999534606934, 2.2102999687194824, 1.8835999965667725, 1.7409000396728516, 1.4408999681472778, 1.481600046157837, 1.5027999877929688, 1.8408000469207764, 1.3257999420166016, 0.7269999980926514, 1.4941999912261963, 1.5786999464035034, 1.5391000509262085, 1.7537000179290771, 1.1347999572753906, 1.149899959564209, 0.786300003528595, 1.1634000539779663, 1.1066999435424805, 1.4779000282287598, 0.6141999959945679, 0.8507000207901001, 2.5773000717163086, 2.5773000717163086, 2.5773000717163086, 2.5773000717163086, 2.577199935913086, 2.577199935913086, 2.577199935913086, 2.577199935913086, 2.5771000385284424, 2.5771000385284424, 2.5771000385284424, 2.5771000385284424, 2.5769999027252197, 2.5769999027252197, 2.5769999027252197, 2.576900005340576, 2.576900005340576, 2.5768001079559326, 2.5768001079559326, 2.5768001079559326, 2.57669997215271, 2.57669997215271, 2.5766000747680664, 2.5766000747680664, 2.5766000747680664, 2.5766000747680664, 2.5766000747680664, 2.5764999389648438, 2.5764999389648438, 2.5764999389648438, 2.5645999908447266, 2.559499979019165, 2.5497000217437744, 2.5409998893737793, 2.5197999477386475, 2.536400079727173, 2.423799991607666, 2.4124999046325684, 2.4161999225616455, 2.4809999465942383, 2.0673000812530518, 2.3977999687194824, 1.5372999906539917, 2.4117000102996826, 2.2179999351501465, 2.296999931335449, 1.8737000226974487, 1.6828999519348145, 1.614799976348877, 1.1571999788284302, 2.2227001190185547, 2.041100025177002, 1.1287000179290771, 2.0020999908447266, 0.7211999893188477, 1.2024999856948853, 2.0648999214172363, 0.9829999804496765, 2.073699951171875, -0.34279999136924744, 0.8065999746322632, 1.9132000207901, 1.2513999938964844, 0.9434000253677368, 0.9341999888420105, 1.5849000215530396, 0.4417000114917755, 0.8550999760627747, 0.9384999871253967, 1.51419997215271, -0.11509999632835388, -0.16200000047683716, 2.615299940109253, 2.615299940109253, 2.6152000427246094, 2.6152000427246094, 2.6152000427246094, 2.6150999069213867, 2.6150999069213867, 2.615000009536743, 2.615000009536743, 2.6149001121520996, 2.6149001121520996, 2.6149001121520996, 2.6149001121520996, 2.6149001121520996, 2.6149001121520996, 2.6149001121520996, 2.614799976348877, 2.6147000789642334, 2.6147000789642334, 2.6147000789642334, 2.6147000789642334, 2.6145999431610107, 2.614500045776367, 2.614500045776367, 2.6143999099731445, 2.6143999099731445, 2.6142001152038574, 2.6142001152038574, 2.6142001152038574, 2.6140999794006348, 2.613300085067749, 2.6131999492645264, 2.611299991607666, 2.6138999462127686, 2.5915000438690186, 2.587899923324585, 2.5690999031066895, 2.603600025177002, 2.591399908065796, 2.573499917984009, 2.5134999752044678, 2.5136001110076904, 2.394399881362915, 2.4274001121520996, 2.552799940109253, 2.3643999099731445, 2.3784000873565674, 2.382699966430664, 2.2904000282287598, 2.4999001026153564, 2.4879000186920166, 2.3087000846862793, 2.443700075149536, 2.3301000595092773, 1.5534000396728516, 1.9829000234603882, 2.2195000648498535, 1.885599970817566, 1.8489999771118164, 1.545300006866455, 1.6505000591278076, 1.155500054359436, 1.4438999891281128, 1.8824000358581543, 1.3774000406265259, 1.7793999910354614, 1.691100001335144, 1.0307999849319458, 1.8071999549865723, 1.4809999465942383, 1.9753999710083008, 1.8114999532699585, 1.7855000495910645, 1.562999963760376, 0.18250000476837158, 1.5033999681472778, 1.5262999534606934, 1.188099980354309, 2.689300060272217, 2.689199924468994, 2.6891000270843506, 2.6891000270843506, 2.688699960708618, 2.6886000633239746, 2.688499927520752, 2.6884000301361084, 2.6884000301361084, 2.6884000301361084, 2.6882998943328857, 2.688199996948242, 2.6881000995635986, 2.6881000995635986, 2.687999963760376, 2.687999963760376, 2.687999963760376, 2.687999963760376, 2.6879000663757324, 2.6877999305725098, 2.6877999305725098, 2.687700033187866, 2.6874001026153564, 2.6874001026153564, 2.687299966812134, 2.687299966812134, 2.6870999336242676, 2.687000036239624, 2.687000036239624, 2.6868999004364014, 2.6851000785827637, 2.6805999279022217, 2.6851000785827637, 2.686800003051758, 2.675299882888794, 2.6738998889923096, 2.6728999614715576, 2.6777000427246094, 2.6640000343322754, 2.56850004196167, 2.4402999877929688, 2.5620999336242676, 2.5344998836517334, 2.5797998905181885, 2.5378000736236572, 2.551100015640259, 2.3282999992370605, 2.58240008354187, 2.3935000896453857, 2.5316998958587646, 2.1521999835968018, 2.203399896621704, 2.489500045776367, 2.226799964904785, 2.293100118637085, 2.3010001182556152, 2.175800085067749, 2.2318999767303467, 2.327699899673462, 1.2755999565124512, 1.3595000505447388, 1.1875, 1.850600004196167, 2.1219000816345215, 1.8788000345230103, 1.263100028038025, 1.382599949836731, 1.3977999687194824, 0.8245999813079834, 1.2359999418258667, 1.1375000476837158, 0.741100013256073, 1.6217999458312988, 0.7694000005722046, 1.759600043296814, 1.8551000356674194, 0.1476999968290329, 1.2541999816894531, 0.7760000228881836, 0.27480000257492065, 0.6632999777793884, 0.09889999777078629, 0.5742999911308289, 1.4430999755859375, 1.2517000436782837, 2.7385001182556152, 2.7383999824523926, 2.738300085067749, 2.7381999492645264, 2.738100051879883, 2.73799991607666, 2.73799991607666, 2.7379000186920166, 2.737799882888794, 2.737799882888794, 2.737600088119507, 2.737499952316284, 2.737499952316284, 2.737499952316284, 2.7374000549316406, 2.7374000549316406, 2.7374000549316406, 2.7374000549316406, 2.737299919128418, 2.737299919128418, 2.737299919128418, 2.7372000217437744, 2.7370998859405518, 2.736999988555908, 2.7369000911712646, 2.736799955368042, 2.736799955368042, 2.7367000579833984, 2.7367000579833984, 2.7367000579833984, 2.734999895095825, 2.7323999404907227, 2.7318999767303467, 2.7346999645233154, 2.724299907684326, 2.6819000244140625, 2.712100028991699, 2.676800012588501, 2.6812000274658203, 2.6816999912261963, 2.604599952697754, 2.7019999027252197, 2.66729998588562, 2.7007999420166016, 2.699700117111206, 2.6059999465942383, 2.2973999977111816, 2.554500102996826, 2.626199960708618, 2.516400098800659, 1.964400053024292, 2.1275999546051025, 2.0239999294281006, 2.2916998863220215, 2.303499937057495, 1.798699975013733, 1.5458999872207642, 1.9977999925613403, 1.7493000030517578, 1.4085999727249146, 1.9658000469207764, 1.9012000560760498, 1.5468000173568726, 1.6726000308990479, 2.0064001083374023, 0.927299976348877, -0.23520000278949738, 0.7890999913215637, 0.8015000224113464, 1.344599962234497, 2.9175000190734863, 2.91729998588562, 2.9172000885009766, 2.9172000885009766, 2.917099952697754, 2.917099952697754, 2.917099952697754, 2.9170000553131104, 2.9170000553131104, 2.9170000553131104, 2.9170000553131104, 2.9168999195098877, 2.9168999195098877, 2.9168999195098877, 2.9168999195098877, 2.916800022125244, 2.916800022125244, 2.916800022125244, 2.9166998863220215, 2.9166998863220215, 2.9166998863220215, 2.9166998863220215, 2.9166998863220215, 2.9166998863220215, 2.9166998863220215, 2.916599988937378, 2.916599988937378, 2.916599988937378, 2.916599988937378, 2.9165000915527344, 2.915800094604492, 2.8847999572753906, 2.904900074005127, 2.841399908065796, 2.900700092315674, 2.8306000232696533, 2.783600091934204, 2.8361001014709473, 2.759500026702881, 2.7374000549316406, 2.589200019836426, 2.7309000492095947, 2.7994000911712646, 2.559499979019165, 2.16129994392395, 2.4974000453948975, 2.458899974822998, 2.0071001052856445, 2.1745998859405518, 1.9776999950408936, 2.391200065612793, 2.2086000442504883, 1.0952999591827393, 0.8184999823570251, 1.9740999937057495, 2.2304000854492188, 1.7901999950408936, 1.402999997138977, 0.4878999888896942, 0.715499997138977, 0.20669999718666077, 0.6025999784469604, 1.6755000352859497, 2.9756999015808105, 2.9755001068115234, 2.9755001068115234, 2.975399971008301, 2.975399971008301, 2.9753000736236572, 2.9753000736236572, 2.9753000736236572, 2.9751999378204346, 2.9751999378204346, 2.975100040435791, 2.9749999046325684, 2.974900007247925, 2.974900007247925, 2.974900007247925, 2.9748001098632812, 2.9746999740600586, 2.9746999740600586, 2.974600076675415, 2.974600076675415, 2.974600076675415, 2.9744999408721924, 2.9744999408721924, 2.9744999408721924, 2.974400043487549, 2.974400043487549, 2.974299907684326, 2.9742000102996826, 2.9742000102996826, 2.9742000102996826, 2.961400032043457, 2.973900079727173, 2.969599962234497, 2.945499897003174, 2.9546000957489014, 2.8592000007629395, 2.886199951171875, 2.879499912261963, 2.8887999057769775, 2.492300033569336, 2.6364998817443848, 2.729099988937378, 2.2565999031066895, 2.759200096130371, 2.281100034713745, 2.2662999629974365, 2.5703001022338867, 1.6481000185012817, 2.551300048828125, 1.9278000593185425, 2.488100051879883, 1.766800045967102, 2.055000066757202, 0.3111000061035156, 2.0785999298095703, 1.353600025177002, 2.0283000469207764, 1.243499994277954, 1.4227999448776245, 1.5052000284194946, 1.0957000255584717, 1.4565000534057617, 0.5511000156402588, 1.7223000526428223, 0.05920000001788139, 0.06340000033378601, 0.28380000591278076, 2.9983999729156494, 2.998300075531006, 2.998199939727783, 2.998199939727783, 2.9981000423431396, 2.9981000423431396, 2.9981000423431396, 2.997999906539917, 2.997999906539917, 2.9979000091552734, 2.99780011177063, 2.9976999759674072, 2.9976000785827637, 2.9976000785827637, 2.997499942779541, 2.9974000453948975, 2.9974000453948975, 2.9972000122070312, 2.9972000122070312, 2.9971001148223877, 2.9971001148223877, 2.9969000816345215, 2.9969000816345215, 2.996799945831299, 2.996799945831299, 2.996799945831299, 2.996799945831299, 2.9967000484466553, 2.9967000484466553, 2.9967000484466553, 2.9958999156951904, 2.982300043106079, 2.8436999320983887, 2.829900026321411, 2.3914999961853027, 2.8424999713897705, 2.7792999744415283, 2.626199960708618, 2.515899896621704, 2.255000114440918, 1.9908000230789185, 2.15910005569458, 2.4398000240325928, 2.42930006980896, 2.4147000312805176, 2.0717999935150146, 2.1665000915527344, 1.951200008392334, 1.9702999591827393, 1.74590003490448, 1.301800012588501, 1.6432000398635864, 1.5324000120162964, 0.6212999820709229, 1.4217000007629395, 1.1754000186920166, 1.1098999977111816, 1.13100004196167, 1.7941999435424805, 0.7275999784469604, 1.186400055885315, 0.6470999717712402, 0.6819000244140625, 1.0757999420166016, 3.0078999996185303, 3.0078999996185303, 3.0078001022338867, 3.007699966430664, 3.007699966430664, 3.0076000690460205, 3.007499933242798, 3.0074000358581543, 3.0074000358581543, 3.0072999000549316, 3.0072999000549316, 3.007200002670288, 3.007200002670288, 3.0071001052856445, 3.0069000720977783, 3.0067999362945557, 3.006700038909912, 3.006700038909912, 3.0065999031066895, 3.0065999031066895, 3.0065999031066895, 3.006500005722046, 3.006500005722046, 3.0064001083374023, 3.0064001083374023, 3.0062999725341797, 3.0062999725341797, 3.0062999725341797, 3.006200075149536, 3.006200075149536, 2.9860000610351562, 2.999500036239624, 2.9976999759674072, 2.9751999378204346, 2.9951999187469482, 2.8826000690460205, 2.974299907684326, 2.962399959564209, 2.957900047302246, 2.9753000736236572, 2.891700029373169, 2.810800075531006, 2.8961000442504883, 2.5548999309539795, 2.8085999488830566, 2.6445000171661377, 2.337399959564209, 1.9182000160217285, 2.4735000133514404, 2.240299940109253, 2.688499927520752, 2.4347000122070312, 2.0861001014709473, 2.2214999198913574, 1.625499963760376, 1.3746999502182007, 1.8567999601364136, 2.091599941253662, 1.4924999475479126, 2.260499954223633, 2.1798999309539795, 1.9250999689102173, 2.163300037384033, 1.520300030708313, 1.6105999946594238, 0.12300000339746475, 1.732699990272522, 1.6014000177383423, 1.5054999589920044, 0.609000027179718, 0.6725000143051147, 0.42899999022483826, 0.6215999722480774, 0.430400013923645, 3.0195000171661377, 3.0195000171661377, 3.0195000171661377, 3.0195000171661377, 3.0192999839782715, 3.0192999839782715, 3.019200086593628, 3.019200086593628, 3.019200086593628, 3.0190999507904053, 3.018899917602539, 3.0188000202178955, 3.0188000202178955, 3.0188000202178955, 3.0188000202178955, 3.0188000202178955, 3.0188000202178955, 3.0188000202178955, 3.0188000202178955, 3.0185999870300293, 3.0185999870300293, 3.0185000896453857, 3.018399953842163, 3.018399953842163, 3.0183000564575195, 3.0183000564575195, 3.0183000564575195, 3.0183000564575195, 3.0183000564575195, 3.018199920654297, 2.993000030517578, 3.0136001110076904, 2.819700002670288, 2.9416000843048096, 2.9990999698638916, 2.8684000968933105, 2.9999001026153564, 2.933799982070923, 2.7167000770568848, 2.8076999187469482, 2.706700086593628, 2.7416000366210938, 2.4407999515533447, 2.566499948501587, 2.5571000576019287, 2.101900100708008, 1.8711999654769897, 1.996899962425232, 1.330399990081787, 2.5683999061584473, 0.20759999752044678, 2.1881000995635986, 1.1332999467849731, 0.5289000272750854, 0.6256999969482422, 1.2231999635696411, 0.7892000079154968, 0.814300000667572, 0.27970001101493835, 0.13410000503063202, 3.073899984359741, 3.073899984359741, 3.0738000869750977, 3.0738000869750977, 3.073699951171875, 3.073699951171875, 3.0736000537872314, 3.0736000537872314, 3.073499917984009, 3.0734000205993652, 3.0734000205993652, 3.0734000205993652, 3.0734000205993652, 3.0732998847961426, 3.0732998847961426, 3.0732998847961426, 3.073199987411499, 3.073199987411499, 3.073199987411499, 3.073199987411499, 3.073199987411499, 3.0731000900268555, 3.0731000900268555, 3.0729000568389893, 3.0729000568389893, 3.0727999210357666, 3.0727999210357666, 3.0727999210357666, 3.0727999210357666, 3.072700023651123, 3.0599000453948975, 3.071500062942505, 3.020699977874756, 2.9797000885009766, 2.9728000164031982, 2.6566998958587646, 2.9303998947143555, 2.748699903488159, 2.743799924850464, 2.6735999584198, 2.765399932861328, 2.908600091934204, 2.0416998863220215, 2.325500011444092, 2.1068999767303467, 2.346100091934204, 2.3626999855041504, 1.4594999551773071, 2.5699000358581543, 0.47859999537467957, 1.5886000394821167, 2.386399984359741, 2.1912999153137207, 1.541200041770935, 1.7166999578475952, 1.381500005722046, 0.7513999938964844, 0.4142000079154968, 1.274899959564209, 0.4763000011444092, 3.1875998973846436, 3.1874001026153564, 3.1874001026153564, 3.187299966812134, 3.1872000694274902, 3.1870999336242676, 3.1870999336242676, 3.187000036239624, 3.1868999004364014, 3.1868999004364014, 3.1868999004364014, 3.1867001056671143, 3.1867001056671143, 3.1867001056671143, 3.1865999698638916, 3.1865999698638916, 3.1865999698638916, 3.1865999698638916, 3.1865999698638916, 3.186500072479248, 3.1863999366760254, 3.186300039291382, 3.186300039291382, 3.186300039291382, 3.186300039291382, 3.186300039291382, 3.186199903488159, 3.186199903488159, 3.1861000061035156, 3.1861000061035156, 3.185499906539917, 3.184999942779541, 3.186000108718872, 3.1682000160217285, 3.084399938583374, 3.0625998973846436, 3.1691999435424805, 3.147900104522705, 3.0573999881744385, 3.0387001037597656, 2.6867001056671143, 2.903700113296509, 3.0264999866485596, 2.773200035095215, 2.61299991607666, 2.5683000087738037, 2.608599901199341, 2.5601000785827637, 2.895699977874756, 2.533799886703491, 2.376300096511841, 2.1077001094818115, 1.0772000551223755, 2.5943000316619873, 1.9421000480651855, 1.4452999830245972, 1.5267000198364258, 2.121500015258789, 0.6513000130653381, 1.371899962425232, 1.6117000579833984, 0.3871999979019165, 1.7741999626159668, 0.41260001063346863, 3.1884000301361084, 3.1884000301361084, 3.1882998943328857, 3.1882998943328857, 3.1882998943328857, 3.188199996948242, 3.1881000995635986, 3.187999963760376, 3.1879000663757324, 3.1879000663757324, 3.1879000663757324, 3.1879000663757324, 3.1877999305725098, 3.187700033187866, 3.187700033187866, 3.1875998973846436, 3.1875998973846436, 3.1875998973846436, 3.1875, 3.1875, 3.1874001026153564, 3.187299966812134, 3.1872000694274902, 3.1872000694274902, 3.1870999336242676, 3.187000036239624, 3.187000036239624, 3.187000036239624, 3.1868999004364014, 3.1868999004364014, 3.183199882507324, 3.16759991645813, 3.1858999729156494, 3.1865999698638916, 3.1851999759674072, 3.186800003051758, 3.1858999729156494, 3.085900068283081, 2.8708999156951904, 2.9449000358581543, 2.818700075149536, 2.7370998859405518, 2.927999973297119, 3.009399890899658, 2.401400089263916, 2.816699981689453, 2.897900104522705, 2.95989990234375, 2.710700035095215, 2.4379000663757324, 2.4021999835968018, 2.712599992752075, 0.8418999910354614, 1.4558000564575195, 1.8986999988555908, 1.8210999965667725, 1.961400032043457, 1.0608999729156494, 2.000200033187866, 2.1149001121520996, 2.4804000854492188, 1.6574000120162964, 0.46309998631477356, 1.6276999711990356, 3.2167000770568848, 3.2165000438690186, 3.2165000438690186, 3.216399908065796, 3.2163000106811523, 3.216200113296509, 3.216200113296509, 3.216200113296509, 3.216099977493286, 3.2160000801086426, 3.2160000801086426, 3.2160000801086426, 3.2160000801086426, 3.2160000801086426, 3.21589994430542, 3.21589994430542, 3.21589994430542, 3.21589994430542, 3.21589994430542, 3.21589994430542, 3.2158000469207764, 3.2158000469207764, 3.2158000469207764, 3.2158000469207764, 3.2158000469207764, 3.2156999111175537, 3.21560001373291, 3.21560001373291, 3.2155001163482666, 3.2155001163482666, 3.2125000953674316, 3.1775999069213867, 3.1928000450134277, 3.1953999996185303, 3.160900115966797, 3.160099983215332, 3.092900037765503, 3.0151000022888184, 2.9935998916625977, 2.946700096130371, 2.8671998977661133, 2.776099920272827, 2.822999954223633, 2.9667999744415283, 2.767199993133545, 2.948499917984009, 2.481300115585327, 2.582900047302246, 2.9700000286102295, 2.601799964904785, 0.9664999842643738, 2.4335999488830566, -0.11860000342130661, 2.0673999786376953, 1.4378999471664429, 1.454699993133545, 0.6557000279426575, 0.24089999496936798, 0.1851000040769577, 1.8873000144958496, 0.7415000200271606, 3.2490999698638916, 3.2490999698638916, 3.2490999698638916, 3.2490999698638916, 3.249000072479248, 3.2488999366760254, 3.2488999366760254, 3.2488999366760254, 3.2488999366760254, 3.248800039291382, 3.248800039291382, 3.248699903488159, 3.248699903488159, 3.248699903488159, 3.2486000061035156, 3.2486000061035156, 3.2486000061035156, 3.2486000061035156, 3.248500108718872, 3.248500108718872, 3.248500108718872, 3.248500108718872, 3.248500108718872, 3.2483999729156494, 3.2483999729156494, 3.248199939727783, 3.248199939727783, 3.248199939727783, 3.248199939727783, 3.2481000423431396, 3.233299970626831, 3.24780011177063, 3.204200029373169, 3.1751999855041504, 3.171600103378296, 3.1252999305725098, 3.136699914932251, 3.106100082397461, 3.1473000049591064, 2.910399913787842, 2.8654000759124756, 2.7219998836517334, 2.8642001152038574, 3.02810001373291, 2.34879994392395, 3.040800094604492, 2.3454999923706055, 1.7109999656677246, 2.551800012588501, 2.19950008392334, 1.4323999881744385, 0.8240000009536743, 1.7656999826431274, 1.3833999633789062, 1.0769000053405762, 1.9555000066757202, 0.2524000108242035, 0.529699981212616, 3.265000104904175, 3.264899969100952, 3.264899969100952, 3.264899969100952, 3.2648000717163086, 3.2648000717163086, 3.264699935913086, 3.264699935913086, 3.264699935913086, 3.2646000385284424, 3.2646000385284424, 3.2646000385284424, 3.2646000385284424, 3.2644999027252197, 3.2644999027252197, 3.2644999027252197, 3.264400005340576, 3.264400005340576, 3.264400005340576, 3.2643001079559326, 3.26419997215271, 3.26419997215271, 3.26419997215271, 3.2641000747680664, 3.2641000747680664, 3.2639999389648438, 3.2639000415802, 3.2639000415802, 3.2639000415802, 3.2639000415802, 3.262700080871582, 3.259999990463257, 3.2339999675750732, 3.2090001106262207, 3.158400058746338, 3.1956000328063965, 3.1338000297546387, 3.231800079345703, 2.897900104522705, 3.1672000885009766, 2.9398999214172363, 2.4626998901367188, 0.90829998254776, 2.440999984741211, 1.8145999908447266, 0.9973999857902527, 2.0977001190185547, 1.8499000072479248, 0.7782999873161316, 1.6136000156402588, 2.158900022506714, 1.4757000207901, 0.45190000534057617, 1.8665000200271606, 0.7555999755859375, 0.8357999920845032, 0.4002000093460083, 3.2678000926971436, 3.267699956893921, 3.2676000595092773, 3.2676000595092773, 3.2674999237060547, 3.2674999237060547, 3.267400026321411, 3.267400026321411, 3.267400026321411, 3.267400026321411, 3.2672998905181885, 3.2672998905181885, 3.2672998905181885, 3.2672998905181885, 3.267199993133545, 3.267199993133545, 3.2671000957489014, 3.2671000957489014, 3.2671000957489014, 3.2669999599456787, 3.266900062561035, 3.266900062561035, 3.2667999267578125, 3.266700029373169, 3.266700029373169, 3.266700029373169, 3.266700029373169, 3.2665998935699463, 3.2665998935699463, 3.2665998935699463, 3.2632999420166016, 3.211899995803833, 3.063699960708618, 3.105600118637085, 2.986299991607666, 3.2242000102996826, 3.0095999240875244, 2.9837000370025635, 2.993499994277954, 3.099299907684326, 2.919600009918213, 2.954400062561035, 2.9851999282836914, 3.065700054168701, 2.873800039291382, 2.734600067138672, 1.8746999502182007, 2.9030001163482666, 2.901700019836426, 2.3369998931884766, 2.5074000358581543, 2.6593000888824463, 2.3066999912261963, 0.557699978351593, -0.453900009393692, 2.2237000465393066, 0.7842000126838684, 1.4855999946594238, 0.9807000160217285, 3.3262999057769775, 3.3261001110076904, 3.3261001110076904, 3.3261001110076904, 3.3261001110076904, 3.3259999752044678, 3.325900077819824, 3.325900077819824, 3.3257999420166016, 3.325700044631958, 3.325700044631958, 3.325700044631958, 3.3255999088287354, 3.3255999088287354, 3.3255999088287354, 3.325200080871582, 3.3250999450683594, 3.325000047683716, 3.325000047683716, 3.324899911880493, 3.324899911880493, 3.324899911880493, 3.324899911880493, 3.324899911880493, 3.3248000144958496, 3.3248000144958496, 3.3248000144958496, 3.324700117111206, 3.324700117111206, 3.324700117111206, 3.324700117111206, 3.3225998878479004, 3.3041000366210938, 3.3011999130249023, 3.182499885559082, 3.224900007247925, 3.2030999660491943, 2.8473000526428223, 3.2021000385284424, 2.8907999992370605, 2.8083999156951904, 3.1289000511169434, 3.053100109100342, 2.3057000637054443, 2.0871999263763428, 2.2660999298095703, 2.7704999446868896, 2.2990000247955322, 2.253200054168701, 2.7539000511169434, 2.2625999450683594, 2.3304998874664307, 1.4526000022888184, 2.5627999305725098, 1.4803999662399292, 2.697999954223633, 1.097100019454956, 0.6603000164031982, 1.3665000200271606, 1.9471999406814575, 2.129199981689453, -0.6389999985694885, 0.7888000011444092, 0.8610000014305115, 1.541700005531311, 1.9292999505996704, 3.3812999725341797, 3.3812999725341797, 3.381200075149536, 3.381200075149536, 3.381200075149536, 3.381200075149536, 3.3810999393463135, 3.38100004196167, 3.3808999061584473, 3.3808999061584473, 3.3808999061584473, 3.3808000087738037, 3.3808000087738037, 3.38070011138916, 3.38070011138916, 3.38070011138916, 3.3805999755859375, 3.3805999755859375, 3.3805999755859375, 3.380500078201294, 3.380500078201294, 3.3803999423980713, 3.3803999423980713, 3.3803000450134277, 3.3803000450134277, 3.380199909210205, 3.380199909210205, 3.3801000118255615, 3.3801000118255615, 3.3798999786376953, 3.3768999576568604, 3.323499917984009, 3.342400074005127, 3.29259991645813, 3.238800048828125, 3.2290000915527344, 3.1882998943328857, 2.606800079345703, 2.7177000045776367, 2.8798999786376953, 2.960599899291992, 2.957200050354004, 2.482300043106079, 2.1663999557495117, 2.387200117111206, 2.1494998931884766, 2.3685998916625977, 2.5815000534057617, 2.069499969482422, 2.4663000106811523, 2.33270001411438, 1.5931999683380127, 0.18080000579357147, 2.227299928665161, 1.0856000185012817, 3.6233999729156494, 3.623300075531006, 3.623199939727783, 3.6231000423431396, 3.622999906539917, 3.622999906539917, 3.6229000091552734, 3.6229000091552734, 3.6226999759674072, 3.6226000785827637, 3.622499942779541, 3.6224000453948975, 3.6224000453948975, 3.622299909591675, 3.622299909591675, 3.621999979019165, 3.621999979019165, 3.6219000816345215, 3.6219000816345215, 3.6219000816345215, 3.621799945831299, 3.621799945831299, 3.621799945831299, 3.621799945831299, 3.6217000484466553, 3.6217000484466553, 3.6217000484466553, 3.6217000484466553, 3.6215999126434326, 3.621500015258789, 3.6208999156951904, 3.5845999717712402, 3.597899913787842, 3.618000030517578, 3.5776000022888184, 3.3757998943328857, 2.797100067138672, 3.3982999324798584, 2.939300060272217, 2.4695000648498535, 3.3757998943328857, 2.2746999263763428, 2.1033999919891357, 2.262399911880493, 1.613800048828125, 1.8624000549316406, 1.4362000226974487, 1.5439000129699707, 2.7030999660491943, 1.4634000062942505, 1.753600001335144, 2.3290998935699463, 1.4112999439239502, 1.399899959564209, 1.8660999536514282, -0.3107999861240387, 1.1660000085830688, 1.4808000326156616, 0.5389999747276306], \"logprob\": [30.0, 29.0, 28.0, 27.0, 26.0, 25.0, 24.0, 23.0, 22.0, 21.0, 20.0, 19.0, 18.0, 17.0, 16.0, 15.0, 14.0, 13.0, 12.0, 11.0, 10.0, 9.0, 8.0, 7.0, 6.0, 5.0, 4.0, 3.0, 2.0, 1.0, -5.071300029754639, -5.482800006866455, -5.486800193786621, -5.700200080871582, -5.804599761962891, -5.8403000831604, -5.929800033569336, -5.9583001136779785, -6.033400058746338, -6.255799770355225, -6.266900062561035, -6.379199981689453, -6.42140007019043, -6.448299884796143, -6.509099960327148, -6.546299934387207, -6.639100074768066, -6.654900074005127, -6.671800136566162, -6.676599979400635, -6.730800151824951, -6.774700164794922, -6.780200004577637, -6.79449987411499, -6.819399833679199, -6.920000076293945, -6.6992998123168945, -6.982100009918213, -6.990900039672852, -7.011199951171875, -5.579100131988525, -5.6722002029418945, -6.519100189208984, -4.005799770355225, -6.118500232696533, -5.700900077819824, -6.3292999267578125, -5.126399993896484, -4.659800052642822, -5.66540002822876, -5.701200008392334, -5.7006001472473145, -4.748899936676025, -6.168099880218506, -3.9395999908447266, -5.250899791717529, -4.8958001136779785, -3.849600076675415, -5.827700138092041, -5.137800216674805, -4.916100025177002, -4.347700119018555, -4.44789981842041, -4.507900238037109, -5.124199867248535, -4.230899810791016, -3.6933999061584473, -4.727399826049805, -4.93120002746582, -4.9832000732421875, -5.257400035858154, -5.035900115966797, -5.112400054931641, -5.095799922943115, -5.329500198364258, -5.376800060272217, -5.51800012588501, -5.392000198364258, -5.480599880218506, -5.677199840545654, -5.7368998527526855, -5.782100200653076, -5.860400199890137, -5.945700168609619, -6.020400047302246, -6.043700218200684, -6.113699913024902, -5.589300155639648, -6.1717000007629395, -6.241099834442139, -6.186800003051758, -6.316199779510498, -6.362599849700928, -6.2270002365112305, -6.509200096130371, -6.514100074768066, -6.593800067901611, -6.631700038909912, -6.67549991607666, -6.769999980926514, -6.79010009765625, -6.806399822235107, -6.823999881744385, -6.8119001388549805, -6.88129997253418, -6.8892998695373535, -6.901100158691406, -6.9309000968933105, -6.956200122833252, -6.128200054168701, -6.19379997253418, -6.31220006942749, -6.2505998611450195, -6.132800102233887, -6.493500232696533, -5.86269998550415, -5.802599906921387, -5.861700057983398, -6.333899974822998, -5.081999778747559, -6.135799884796143, -3.970400094985962, -6.174300193786621, -5.7164998054504395, -5.9918999671936035, -5.251100063323975, -5.078700065612793, -5.11299991607666, -4.553400039672852, -5.938399791717529, -5.783899784088135, -4.956099987030029, -5.81790018081665, -4.956099987030029, -5.302800178527832, -5.876999855041504, -5.262199878692627, -5.896500110626221, -4.763199806213379, -5.350299835205078, -5.826900005340576, -5.6072998046875, -5.579800128936768, -5.604599952697754, -5.769499778747559, -5.486800193786621, -5.622700214385986, -5.692500114440918, -5.79010009765625, -5.68310022354126, -5.711999893188477, -5.907400131225586, -5.950699806213379, -6.0366997718811035, -6.171299934387207, -6.175099849700928, -6.210100173950195, -6.282700061798096, -6.401100158691406, -6.414899826049805, -6.488699913024902, -6.514699935913086, -6.523900032043457, -6.5690999031066895, -6.545899868011475, -6.598499774932861, -6.601500034332275, -6.618199825286865, -6.766600131988525, -6.700399875640869, -6.774600028991699, -6.7947998046875, -6.871099948883057, -6.905600070953369, -6.972700119018555, -6.999000072479248, -7.007299900054932, -7.154200077056885, -7.1682000160217285, -7.172900199890137, -7.235499858856201, -5.731100082397461, -6.685100078582764, -6.59499979019165, -6.9045000076293945, -5.702700138092041, -5.859099864959717, -5.6417999267578125, -6.627799987792969, -6.436699867248535, -6.190800189971924, -5.372200012207031, -5.39300012588501, -4.252200126647949, -5.141600131988525, -6.1981000900268555, -4.821599960327148, -5.214300155639648, -5.3480000495910645, -5.060800075531006, -6.066400051116943, -6.163700103759766, -5.633200168609619, -6.124899864196777, -5.889100074768066, -4.305600166320801, -5.262199878692627, -5.731599807739258, -5.2683000564575195, -5.260000228881836, -4.838799953460693, -5.025400161743164, -4.412499904632568, -4.883399963378906, -5.402699947357178, -4.87939977645874, -5.3084001541137695, -5.2434000968933105, -4.7469000816345215, -5.479899883270264, -5.32889986038208, -5.602700233459473, -5.5584001541137695, -5.548399925231934, -5.5441999435424805, -5.367499828338623, -5.551199913024902, -5.556700229644775, -5.567599773406982, -5.395999908447266, -5.72160005569458, -5.771500110626221, -5.89769983291626, -6.448999881744385, -6.100200176239014, -6.716599941253662, -6.755899906158447, -6.791900157928467, -6.828000068664551, -6.172999858856201, -6.9328999519348145, -7.003399848937988, -7.031099796295166, -6.365200042724609, -7.0854997634887695, -7.091700077056885, -7.121500015258789, -7.152100086212158, -7.186399936676025, -7.207200050354004, -6.86329984664917, -7.338399887084961, -7.308300018310547, -7.4679999351501465, -7.485499858856201, -7.561399936676025, -7.575799942016602, -7.577400207519531, -7.622099876403809, -4.599100112915039, -6.630000114440918, -7.085999965667725, -7.524199962615967, -6.629899978637695, -6.695199966430664, -6.676400184631348, -6.953999996185303, -6.659599781036377, -5.44189977645874, -4.840799808502197, -5.95989990234375, -5.826700210571289, -6.413700103759766, -6.170899868011475, -6.256199836730957, -5.130300045013428, -6.486400127410889, -5.615099906921387, -6.353000164031982, -5.133299827575684, -5.33489990234375, -6.277599811553955, -5.635700225830078, -5.804900169372559, -5.825500011444092, -5.574999809265137, -5.768199920654297, -5.964900016784668, -4.182600021362305, -4.521200180053711, -4.523200035095215, -5.428299903869629, -5.803899765014648, -5.604499816894531, -4.982100009918213, -5.140600204467773, -5.23330020904541, -4.852700233459473, -5.269100189208984, -5.246600151062012, -5.1178998947143555, -5.565299987792969, -5.236800193786621, -5.636099815368652, -5.674799919128418, -5.2906999588012695, -5.543300151824951, -5.442399978637695, -5.423099994659424, -5.493599891662598, -5.451099872589111, -5.51039981842041, -5.593100070953369, -5.59060001373291, -3.7244999408721924, -4.869500160217285, -5.114999771118164, -5.4421000480651855, -5.730500221252441, -6.003200054168701, -6.019400119781494, -6.269199848175049, -6.320499897003174, -6.3815999031066895, -6.564799785614014, -6.65339994430542, -6.663000106811523, -6.6946001052856445, -6.7606000900268555, -6.769899845123291, -6.776599884033203, -6.7895002365112305, -6.857500076293945, -6.868299961090088, -6.871500015258789, -6.920400142669678, -6.991099834442139, -7.035099983215332, -7.139599800109863, -7.169899940490723, -7.178100109100342, -7.2083001136779785, -7.211100101470947, -7.230299949645996, -5.15369987487793, -5.387700080871582, -5.493599891662598, -6.054299831390381, -5.8231000900268555, -4.148399829864502, -5.703400135040283, -4.532299995422363, -5.088200092315674, -5.14709997177124, -4.135300159454346, -6.092899799346924, -5.530200004577637, -6.107100009918213, -6.143599987030029, -5.631499767303467, -3.964900016784668, -5.563300132751465, -6.035999774932861, -5.648200035095215, -3.4937000274658203, -4.410600185394287, -4.1468000411987305, -5.177599906921387, -5.205999851226807, -4.211999893188477, -3.8924999237060547, -4.8165998458862305, -4.581900119781494, -4.1479997634887695, -4.941800117492676, -4.922900199890137, -4.674799919128418, -4.978400230407715, -5.2322998046875, -4.835700035095215, -4.655700206756592, -4.999499797821045, -5.095799922943115, -5.2758002281188965, -4.292300224304199, -5.287199974060059, -5.504199981689453, -5.550300121307373, -5.713799953460693, -5.719699859619141, -5.760700225830078, -5.802800178527832, -5.8383002281188965, -5.933499813079834, -5.954599857330322, -5.98199987411499, -5.982800006866455, -6.042699813842773, -6.088799953460693, -6.133200168609619, -6.148900032043457, -6.193600177764893, -6.269599914550781, -6.152299880981445, -6.28000020980835, -6.307799816131592, -6.317500114440918, -6.322400093078613, -6.341800212860107, -6.319399833679199, -6.393599987030029, -6.417600154876709, -6.437699794769287, -6.475500106811523, -4.32420015335083, -2.61929988861084, -4.888599872589111, -3.032099962234497, -5.826600074768066, -4.837399959564209, -4.940999984741211, -5.523499965667725, -4.951200008392334, -5.250400066375732, -5.11269998550415, -5.650199890136719, -5.889699935913086, -5.375199794769287, -4.561500072479248, -5.351799964904785, -5.372600078582764, -4.7692999839782715, -5.195199966430664, -5.076900005340576, -5.494500160217285, -5.399600028991699, -4.833199977874756, -4.87939977645874, -5.463600158691406, -5.569799900054932, -5.455100059509277, -5.366199970245361, -5.1894001960754395, -5.2906999588012695, -5.361299991607666, -5.395400047302246, -5.473700046539307, -4.320199966430664, -5.1519999504089355, -5.2667999267578125, -5.363999843597412, -5.374499797821045, -5.622700214385986, -5.670400142669678, -5.784900188446045, -5.840700149536133, -5.890999794006348, -6.093599796295166, -6.153200149536133, -6.223800182342529, -6.27370023727417, -6.307300090789795, -6.329500198364258, -6.502200126647949, -6.513299942016602, -6.521200180053711, -6.528800010681152, -6.5945000648498535, -6.611599922180176, -6.617099761962891, -6.657899856567383, -6.686399936676025, -6.742099761962891, -6.747000217437744, -6.820300102233887, -6.564000129699707, -6.855599880218506, -4.627299785614014, -6.747000217437744, -6.4980998039245605, -5.371099948883057, -6.030700206756592, -4.4105000495910645, -5.363399982452393, -5.8582000732421875, -6.030399799346924, -4.398900032043457, -5.315999984741211, -5.720900058746338, -4.310299873352051, -5.889999866485596, -4.533299922943115, -4.972400188446045, -5.639900207519531, -4.443699836730957, -5.7170000076293945, -4.940000057220459, -5.675099849700928, -5.033699989318848, -5.358799934387207, -4.109300136566162, -5.48829984664917, -5.1641998291015625, -5.515100002288818, -5.2399001121521, -5.304999828338623, -5.461699962615967, -5.382400035858154, -5.472700119018555, -5.331099987030029, -5.550600051879883, -5.448500156402588, -5.486599922180176, -5.504799842834473, -4.06790018081665, -4.67080020904541, -4.809899806976318, -5.115300178527832, -5.251200199127197, -5.252600193023682, -5.264100074768066, -5.4710001945495605, -5.5903000831604, -5.742199897766113, -5.86269998550415, -6.080699920654297, -4.701499938964844, -6.221099853515625, -6.324699878692627, -6.405399799346924, -6.42549991607666, -6.582300186157227, -6.5954999923706055, -6.606800079345703, -6.67140007019043, -6.778299808502197, -6.815199851989746, -6.7677001953125, -6.831099987030029, -6.8445000648498535, -6.86899995803833, -6.882999897003174, -6.89169979095459, -6.898499965667725, -6.652100086212158, -6.186699867248535, -5.918399810791016, -5.890900135040283, -3.5380001068115234, -6.124899864196777, -5.904200077056885, -5.377500057220459, -5.0524001121521, -5.070700168609619, -4.530799865722656, -4.932499885559082, -5.4842000007629395, -5.502500057220459, -5.480999946594238, -4.950200080871582, -5.147299766540527, -4.969900131225586, -4.996699810028076, -4.739799976348877, -4.254799842834473, -4.6880998611450195, -4.638400077819824, -3.799099922180176, -4.588900089263916, -4.587500095367432, -4.678699970245361, -4.751200199127197, -5.1707000732421875, -4.840400218963623, -4.998300075531006, -4.860599994659424, -5.078499794006348, -5.18179988861084, -4.610099792480469, -4.813300132751465, -5.116300106048584, -5.282700061798096, -5.506800174713135, -5.540999889373779, -5.856500148773193, -5.891300201416016, -6.019000053405762, -6.073599815368652, -6.115099906921387, -6.229800224304199, -6.2571001052856445, -6.2835001945495605, -6.468200206756592, -6.607399940490723, -6.635200023651123, -6.550899982452393, -6.708099842071533, -6.743199825286865, -6.762400150299072, -6.776599884033203, -6.795899868011475, -6.64709997177124, -6.872300148010254, -6.90369987487793, -6.902500152587891, -6.910099983215332, -6.8730998039245605, -6.954800128936768, -5.304200172424316, -6.321599960327148, -6.252200126647949, -5.94890022277832, -6.604899883270264, -4.114200115203857, -6.112199783325195, -5.981599807739258, -6.022900104522705, -6.34689998626709, -5.763999938964844, -5.365699768066406, -6.149199962615967, -4.99429988861084, -5.918300151824951, -5.494500160217285, -4.837500095367432, -3.979099988937378, -5.353499889373779, -4.944900035858154, -5.814199924468994, -5.522299766540527, -5.099400043487549, -5.281599998474121, -4.5929999351501465, -4.385799884796143, -4.980800151824951, -5.230500221252441, -4.752699851989746, -5.428599834442139, -5.379300117492676, -5.1894001960754395, -5.38539981842041, -4.992000102996826, -5.077700138092041, -4.297399997711182, -5.166100025177002, -5.106500148773193, -5.125500202178955, -4.89870023727417, -5.025400161743164, -5.120999813079834, -5.259099960327148, -5.347300052642822, -3.168100118637085, -3.744499921798706, -3.9491000175476074, -4.088799953460693, -5.052000045776367, -5.155600070953369, -5.215400218963623, -5.219799995422363, -5.390699863433838, -5.650700092315674, -5.851500034332275, -6.011099815368652, -6.033199787139893, -6.04580020904541, -6.047900199890137, -6.058300018310547, -6.063000202178955, -6.0671000480651855, -6.074999809265137, -6.3094000816345215, -6.337399959564209, -6.376100063323975, -6.495299816131592, -6.523099899291992, -6.526400089263916, -6.564799785614014, -6.583099842071533, -6.595699787139893, -6.600800037384033, -6.652900218963623, -3.9451000690460205, -6.180799961090088, -3.4430999755859375, -5.541600227355957, -6.359899997711182, -5.468400001525879, -6.393799781799316, -5.968299865722656, -5.040500164031982, -5.472499847412109, -5.337100028991699, -5.517199993133545, -4.896599769592285, -5.415500164031982, -5.433199882507324, -4.914400100708008, -4.650300025939941, -5.042300224304199, -4.551700115203857, -5.655900001525879, -4.212800025939941, -5.508500099182129, -5.124300003051758, -5.027699947357178, -5.1519999504089355, -5.315700054168701, -5.3221001625061035, -5.3703999519348145, -5.4182000160217285, -5.433800220489502, -3.89739990234375, -3.903599977493286, -4.436600208282471, -4.543700218200684, -4.983099937438965, -5.046800136566162, -5.093699932098389, -5.309100151062012, -5.458499908447266, -5.609000205993652, -5.656599998474121, -5.684100151062012, -5.684100151062012, -5.799099922180176, -5.808000087738037, -5.90310001373291, -5.920300006866455, -5.979400157928467, -6.018799781799316, -6.029900074005127, -6.0345001220703125, -6.087699890136719, -6.14870023727417, -6.283400058746338, -6.341100215911865, -6.391900062561035, -6.401000022888184, -6.427000045776367, -6.438499927520752, -6.4618000984191895, -5.018700122833252, -6.407400131225586, -5.392499923706055, -5.1381001472473145, -5.667900085449219, -3.8213000297546387, -5.630000114440918, -4.926599979400635, -4.917300224304199, -5.13670015335083, -5.414100170135498, -5.706099987030029, -4.0696001052856445, -4.73769998550415, -4.742099761962891, -5.10860013961792, -5.159299850463867, -4.329100131988525, -5.3780999183654785, -3.941800117492676, -4.933700084686279, -5.350299835205078, -5.2642998695373535, -4.980400085449219, -5.190899848937988, -5.096199989318848, -5.130799770355225, -5.153800010681152, -5.263899803161621, -5.22160005569458, -4.2459001541137695, -5.133299827575684, -4.099599838256836, -5.264699935913086, -5.5584001541137695, -5.661300182342529, -5.686200141906738, -5.821300029754639, -5.939300060272217, -5.95419979095459, -5.950300216674805, -6.167799949645996, -6.179699897766113, -6.21150016784668, -6.27370023727417, -6.303800106048584, -4.813899993896484, -6.32859992980957, -6.329599857330322, -6.375100135803223, -6.424600124359131, -6.503600120544434, -6.5243000984191895, -6.538700103759766, -6.5395002365112305, -6.5406999588012695, -6.565899848937988, -6.591100215911865, -6.625199794769287, -6.6433000564575195, -5.526899814605713, -5.80649995803833, -6.399099826812744, -6.111999988555908, -4.338799953460693, -4.5640997886657715, -6.239299774169922, -6.186600208282471, -5.7540998458862305, -5.706399917602539, -4.389599800109863, -5.277100086212158, -5.782700061798096, -5.048399925231934, -4.824699878692627, -4.979499816894531, -5.184999942779541, -5.112599849700928, -5.7322001457214355, -5.174099922180176, -4.966400146484375, -4.668700218200684, -4.38100004196167, -5.520400047302246, -5.303100109100342, -5.0605998039245605, -5.161600112915039, -5.47730016708374, -5.126399993896484, -5.350900173187256, -5.477099895477295, -5.310699939727783, -5.501500129699707, -5.468100070953369, -3.4683001041412354, -4.0817999839782715, -4.346700191497803, -4.4953999519348145, -4.700399875640869, -4.759500026702881, -5.21120023727417, -5.353300094604492, -5.5833001136779785, -5.600900173187256, -5.601600170135498, -5.637400150299072, -5.776800155639648, -5.86899995803833, -5.930200099945068, -5.98829984664917, -6.087800025939941, -6.028200149536133, -6.170199871063232, -6.182700157165527, -6.2519001960754395, -5.822700023651123, -6.396399974822998, -6.416800022125244, -6.461100101470947, -6.5167999267578125, -6.55709981918335, -6.570199966430664, -6.61929988861084, -6.63670015335083, -5.568699836730957, -4.152900218963623, -6.164700031280518, -6.2480998039245605, -6.115099906921387, -6.318600177764893, -6.252299785614014, -4.4334001541137695, -3.8071000576019287, -4.44320011138916, -3.5834999084472656, -4.230800151824951, -5.094200134277344, -5.489099979400635, -3.6903998851776123, -5.059899806976318, -5.438899993896484, -5.585299968719482, -5.1031999588012695, -4.641499996185303, -4.718800067901611, -5.338699817657471, -3.5785000324249268, -4.441500186920166, -4.809199810028076, -4.948200225830078, -5.018799781799316, -4.649700164794922, -5.186999797821045, -5.254799842834473, -5.349400043487549, -5.271900177001953, -5.297299861907959, -5.3317999839782715, -4.444200038909912, -5.101399898529053, -5.285900115966797, -5.4019999504089355, -5.6483001708984375, -5.68209981918335, -5.723199844360352, -5.782599925994873, -5.884699821472168, -5.991499900817871, -6.055200099945068, -6.055600166320801, -6.05709981918335, -6.063799858093262, -6.058000087738037, -6.0742998123168945, -6.081699848175049, -6.101399898529053, -6.123300075531006, -6.1508002281188965, -6.193999767303467, -6.21150016784668, -6.216899871826172, -6.229000091552734, -6.249100208282471, -6.294300079345703, -6.345200061798096, -6.4079999923706055, -6.444300174713135, -6.472599983215332, -5.649400234222412, -4.828700065612793, -5.848700046539307, -5.914100170135498, -5.573999881744385, -5.79640007019043, -5.315299987792969, -5.237299919128418, -5.301400184631348, -5.42110013961792, -5.207300186157227, -5.241499900817871, -5.4232001304626465, -5.672299861907959, -5.381700038909912, -5.677199840545654, -5.083799839019775, -5.381899833679199, -5.8354997634887695, -5.540500164031982, -4.583499908447266, -5.517499923706055, -4.539000034332275, -5.441400051116943, -5.284900188446045, -5.342899799346924, -5.272799968719482, -5.266900062561035, -5.2729997634887695, -5.567999839782715, -5.5858001708984375, -4.970900058746338, -5.062900066375732, -5.126200199127197, -5.1697001457214355, -5.413599967956543, -5.433899879455566, -5.440899848937988, -5.490300178527832, -5.568699836730957, -5.635300159454346, -5.263400077819824, -5.793799877166748, -5.794000148773193, -5.827600002288818, -5.904799938201904, -5.928899765014648, -5.946100234985352, -5.967899799346924, -6.020299911499023, -6.034800052642822, -6.037799835205078, -5.988800048828125, -6.089300155639648, -6.142899990081787, -6.189899921417236, -6.320099830627441, -6.330900192260742, -6.3471999168396, -6.35260009765625, -6.376699924468994, -4.298299789428711, -5.854300022125244, -4.46560001373291, -4.153600215911865, -4.279699802398682, -4.407299995422363, -4.986299991607666, -4.853700160980225, -5.231100082397461, -4.569799900054932, -4.7982001304626465, -4.670599937438965, -5.049099922180176, -5.576700210571289, -4.526899814605713, -5.679500102996826, -5.0507001876831055, -4.801199913024902, -5.484000205993652, -5.3491997718811035, -5.053299903869629, -4.873899936676025, -5.256199836730957, -5.236999988555908, -5.179900169372559, -5.361700057983398, -5.255300045013428, -5.367499828338623, -4.425899982452393, -4.711999893188477, -4.765600204467773, -4.863399982452393, -5.031400203704834, -5.164999961853027, -5.322400093078613, -5.354400157928467, -5.384099960327148, -5.52400016784668, -5.56689977645874, -5.617000102996826, -5.622900009155273, -5.705399990081787, -5.755899906158447, -5.766200065612793, -5.813700199127197, -5.481200218200684, -5.886099815368652, -5.997499942779541, -6.018599987030029, -6.107900142669678, -6.113800048828125, -6.136000156402588, -6.183800220489502, -6.2881999015808105, -6.3078999519348145, -6.317200183868408, -6.322400093078613, -6.334700107574463, -5.516499996185303, -5.383200168609619, -5.719399929046631, -5.346700191497803, -4.7692999839782715, -5.490699768066406, -5.137599945068359, -5.979499816894531, -4.931700229644775, -5.790299892425537, -5.584400177001953, -5.089399814605713, -3.5120999813079834, -5.13539981842041, -5.043000221252441, -4.780300140380859, -5.27400016784668, -5.212299823760986, -4.919600009918213, -5.204800128936768, -5.390100002288818, -5.252200126647949, -5.098100185394287, -5.345300197601318, -5.2505998611450195, -5.348899841308594, -5.360199928283691, -4.174099922180176, -4.7418999671936035, -4.906899929046631, -5.0920000076293945, -5.2144999504089355, -5.334099769592285, -5.412099838256836, -5.465799808502197, -5.477799892425537, -5.4893999099731445, -5.604899883270264, -5.684700012207031, -5.703800201416016, -5.714300155639648, -5.735400199890137, -5.813000202178955, -5.890100002288818, -5.9334001541137695, -5.9633002281188965, -6.0503997802734375, -6.105299949645996, -6.127900123596191, -6.2027997970581055, -6.266499996185303, -6.279900074005127, -6.315100193023682, -5.721399784088135, -6.354000091552734, -6.3368000984191895, -6.361199855804443, -4.998000144958496, -4.268099784851074, -3.783900022506714, -4.817299842834473, -4.0706000328063965, -5.936299800872803, -4.471199989318848, -4.389599800109863, -4.63640022277832, -5.341599941253662, -4.830699920654297, -5.100599765777588, -5.219900131225586, -5.433000087738037, -5.036600112915039, -4.797999858856201, -4.053800106048584, -5.279200077056885, -5.338900089263916, -4.950900077819824, -5.086999893188477, -5.2357001304626465, -5.202099800109863, -4.992300033569336, -4.874300003051758, -5.296500205993652, -5.213799953460693, -5.273099899291992, -5.276899814605713, -4.195499897003174, -4.860300064086914, -4.968299865722656, -5.006800174713135, -5.12060022354126, -5.281000137329102, -5.454100131988525, -5.4664998054504395, -5.543600082397461, -5.709700107574463, -5.725500106811523, -5.781799793243408, -5.850599765777588, -5.872399806976318, -5.899400234222412, -6.220799922943115, -6.329599857330322, -6.3907999992370605, -6.406099796295166, -6.453700065612793, -6.467800140380859, -6.481599807739258, -6.484899997711182, -6.4878997802734375, -6.494200229644775, -6.512400150299072, -6.536099910736084, -6.554599761962891, -6.562399864196777, -6.56850004196167, -6.56279993057251, -6.47629976272583, -6.1132001876831055, -6.103099822998047, -4.519499778747559, -5.7480998039245605, -5.870100021362305, -4.776800155639648, -6.073299884796143, -5.106800079345703, -4.8902997970581055, -5.863500118255615, -5.734399795532227, -4.211999893188477, -4.1697001457214355, -4.520199775695801, -5.443299770355225, -4.809999942779541, -4.893199920654297, -5.4770002365112305, -5.007699966430664, -5.085299968719482, -4.406300067901611, -5.460999965667725, -5.005300045013428, -5.579599857330322, -4.99459981918335, -4.889699935913086, -5.139400005340576, -5.378600120544434, -5.425300121307373, -5.0594000816345215, -5.296000003814697, -5.357399940490723, -5.423500061035156, -5.4440999031066895, -4.135700225830078, -4.195099830627441, -4.339000225067139, -4.498700141906738, -4.507699966430664, -4.599100112915039, -5.02839994430542, -5.098800182342529, -5.306000232696533, -5.309500217437744, -5.409900188446045, -5.444499969482422, -5.504899978637695, -5.609099864959717, -5.646999835968018, -5.723899841308594, -5.749800205230713, -5.7708001136779785, -5.819799900054932, -5.872099876403809, -5.911200046539307, -5.969200134277344, -6.007699966430664, -6.053999900817871, -6.055300235748291, -6.143899917602539, -6.172900199890137, -6.244900226593018, -6.280700206756592, -6.373600006103516, -4.6407999992370605, -3.9681999683380127, -5.0289998054504395, -4.876100063323975, -4.564300060272217, -4.745699882507324, -5.053599834442139, -4.108399868011475, -4.394000053405762, -4.804599761962891, -5.111599922180176, -5.112299919128418, -4.606500148773193, -4.235799789428711, -4.577899932861328, -4.334000110626221, -4.599299907684326, -4.834199905395508, -4.436399936676025, -4.749000072479248, -4.754799842834473, -4.498600006103516, -4.23960018157959, -4.991199970245361, -4.811699867248535, -3.2862000465393066, -4.27370023727417, -4.701099872589111, -4.905399799346924, -5.064899921417236, -5.131899833679199, -5.143599987030029, -5.288899898529053, -5.509900093078613, -5.684500217437744, -5.712399959564209, -5.8730998039245605, -5.873899936676025, -5.899700164794922, -5.918399810791016, -6.1433000564575195, -6.149700164794922, -6.193999767303467, -6.220099925994873, -6.220900058746338, -6.238900184631348, -6.244100093841553, -6.260300159454346, -6.287600040435791, -6.304999828338623, -6.335400104522705, -6.343299865722656, -6.343999862670898, -6.355199813842773, -6.402900218963623, -6.186100006103516, -4.110499858856201, -5.013899803161621, -6.0258002281188965, -4.406799793243408, -3.890500068664551, -4.242099761962891, -5.826700210571289, -5.041500091552734, -4.406099796295166, -5.860899925231934, -4.49459981918335, -4.389500141143799, -4.658599853515625, -4.149099826812744, -4.468900203704834, -4.131800174713135, -4.338200092315674, -5.342899799346924, -4.721399784088135, -4.9141998291015625, -5.23859977722168, -4.810299873352051, -4.9274001121521, -5.146900177001953, -4.731200218200684, -5.091599941253662, -5.212399959564209, -5.221499919891357]}, \"token.table\": {\"Topic\": [1, 2, 3, 6, 7, 9, 11, 12, 13, 14, 16, 18, 20, 2, 3, 6, 7, 10, 11, 12, 13, 1, 2, 3, 4, 6, 7, 8, 9, 11, 13, 16, 4, 6, 13, 14, 16, 20, 14, 11, 14, 17, 14, 18, 1, 4, 6, 9, 11, 14, 11, 2, 2, 8, 10, 1, 2, 4, 5, 7, 10, 17, 2, 3, 4, 5, 6, 7, 9, 11, 12, 16, 17, 19, 20, 3, 6, 7, 9, 11, 12, 15, 17, 11, 14, 16, 19, 6, 6, 3, 4, 6, 8, 11, 17, 18, 3, 14, 14, 1, 2, 3, 4, 6, 11, 12, 14, 16, 17, 19, 20, 12, 2, 3, 4, 9, 12, 1, 2, 4, 6, 9, 10, 11, 13, 14, 15, 19, 6, 6, 17, 2, 7, 1, 9, 1, 8, 3, 2, 10, 1, 8, 11, 5, 7, 1, 2, 3, 4, 5, 6, 7, 8, 9, 10, 11, 12, 13, 14, 15, 16, 17, 18, 19, 20, 1, 3, 4, 13, 16, 20, 3, 7, 10, 13, 5, 8, 12, 3, 2, 17, 4, 4, 15, 8, 14, 1, 7, 11, 20, 2, 3, 4, 7, 9, 10, 17, 18, 5, 9, 11, 16, 11, 11, 4, 1, 3, 4, 5, 6, 9, 11, 13, 16, 18, 11, 8, 11, 16, 11, 1, 11, 16, 20, 1, 8, 1, 5, 7, 8, 20, 5, 7, 19, 1, 2, 12, 1, 2, 3, 4, 5, 6, 7, 8, 9, 10, 11, 12, 13, 14, 15, 16, 17, 18, 19, 20, 1, 2, 4, 6, 8, 11, 12, 13, 14, 15, 16, 19, 20, 6, 2, 17, 1, 3, 4, 5, 8, 9, 10, 13, 16, 18, 14, 15, 10, 17, 1, 2, 3, 5, 6, 7, 11, 12, 17, 18, 5, 1, 5, 12, 4, 6, 13, 5, 1, 2, 3, 4, 5, 6, 8, 12, 13, 14, 16, 18, 19, 20, 6, 17, 1, 3, 6, 5, 6, 1, 2, 4, 5, 7, 8, 9, 11, 12, 14, 16, 19, 20, 1, 1, 2, 3, 7, 13, 14, 19, 4, 7, 8, 10, 13, 3, 8, 1, 3, 4, 5, 7, 8, 9, 15, 18, 6, 20, 17, 10, 16, 1, 5, 7, 8, 10, 11, 15, 19, 20, 13, 16, 2, 3, 6, 12, 4, 13, 9, 15, 15, 13, 7, 1, 2, 3, 4, 5, 6, 8, 9, 11, 12, 13, 14, 15, 16, 17, 18, 20, 8, 8, 17, 9, 2, 11, 2, 18, 20, 5, 8, 7, 2, 17, 18, 6, 14, 1, 2, 3, 4, 5, 6, 7, 9, 10, 11, 12, 15, 16, 19, 12, 9, 5, 7, 1, 1, 2, 3, 5, 7, 8, 9, 10, 14, 16, 19, 20, 1, 5, 7, 15, 3, 11, 5, 19, 2, 4, 6, 9, 12, 14, 15, 16, 17, 18, 10, 13, 14, 15, 3, 14, 7, 17, 15, 20, 17, 18, 10, 9, 10, 13, 1, 16, 5, 19, 13, 9, 17, 4, 11, 2, 14, 15, 1, 8, 12, 7, 2, 3, 14, 17, 2, 4, 12, 15, 17, 10, 13, 9, 18, 4, 11, 1, 5, 7, 5, 7, 8, 15, 16, 10, 13, 13, 13, 4, 20, 1, 2, 12, 13, 17, 19, 10, 9, 9, 7, 12, 6, 5, 9, 8, 3, 4, 5, 6, 9, 12, 13, 14, 16, 18, 19, 1, 2, 3, 4, 5, 7, 8, 9, 10, 11, 12, 13, 14, 15, 16, 17, 18, 19, 4, 5, 7, 19, 2, 19, 19, 4, 1, 2, 5, 7, 8, 10, 14, 16, 17, 1, 5, 8, 5, 4, 8, 13, 1, 4, 5, 8, 13, 1, 4, 12, 19, 2, 5, 8, 11, 18, 2, 3, 4, 6, 7, 9, 10, 13, 15, 16, 20, 11, 14, 15, 19, 1, 3, 4, 7, 9, 10, 13, 14, 18, 9, 18, 18, 20, 11, 11, 19, 4, 5, 15, 11, 2, 18, 13, 11, 16, 1, 2, 7, 8, 9, 10, 12, 14, 15, 18, 6, 9, 11, 15, 6, 1, 5, 8, 11, 15, 17, 4, 14, 20, 4, 8, 11, 13, 14, 19, 1, 2, 3, 7, 8, 10, 12, 13, 14, 16, 17, 19, 20, 1, 5, 11, 1, 2, 3, 4, 5, 6, 8, 9, 11, 13, 15, 18, 20, 16, 8, 15, 13, 1, 3, 7, 8, 11, 12, 14, 18, 4, 11, 1, 2, 3, 4, 5, 8, 9, 12, 13, 15, 16, 17, 1, 2, 3, 4, 6, 9, 12, 13, 16, 17, 18, 19, 20, 12, 13, 8, 10, 11, 7, 13, 2, 3, 4, 14, 1, 3, 4, 6, 9, 11, 12, 13, 14, 17, 7, 12, 14, 3, 4, 20, 2, 12, 7, 8, 10, 15, 3, 4, 4, 1, 3, 13, 6, 9, 19, 2, 3, 20, 12, 4, 15, 12, 16, 9, 19, 6, 15, 1, 2, 3, 4, 5, 6, 8, 9, 10, 11, 12, 13, 14, 15, 16, 17, 18, 19, 20, 1, 2, 3, 5, 7, 8, 10, 11, 12, 16, 19, 20, 7, 10, 13, 19, 16, 9, 14, 17, 3, 7, 10, 13, 15, 5, 8, 15, 8, 11, 2, 6, 9, 12, 13, 3, 20, 11, 17, 2, 4, 5, 13, 4, 9, 4, 5, 7, 9, 11, 14, 17, 18, 1, 2, 3, 4, 5, 6, 7, 8, 9, 10, 11, 12, 13, 14, 15, 16, 19, 7, 10, 13, 14, 15, 7, 11, 19, 20, 6, 8, 10, 11, 12, 14, 17, 18, 1, 2, 3, 4, 5, 7, 8, 10, 13, 15, 13, 5, 20, 17, 13, 3, 8, 18, 6, 16, 1, 6, 12, 1, 14, 5, 20, 17, 10, 1, 2, 3, 5, 7, 8, 10, 11, 13, 15, 17, 14, 17, 7, 20, 18, 8, 9, 10, 15, 20, 2, 4, 9, 10, 20, 2, 10, 14, 15, 16, 1, 12, 3, 8, 12, 2, 3, 14, 17, 19, 13, 9, 16, 3, 4, 1, 8, 3, 9, 4, 16, 12, 20, 6, 12, 7, 13, 18, 4, 10, 7, 10, 14, 12, 16, 17, 19, 12, 7, 4, 3, 4, 5, 6, 7, 10, 11, 12, 13, 14, 17, 5, 9, 18, 3, 19, 20, 3, 17, 18, 3, 11, 3, 15, 10, 2, 3, 4, 10, 1, 2, 3, 4, 6, 8, 9, 10, 11, 12, 13, 14, 15, 16, 17, 18, 20, 4, 10, 16, 19, 1, 4, 11, 16, 19, 1, 3, 4, 8, 13, 16, 13, 5, 7, 5, 13, 6, 15, 12, 4, 1, 16, 1, 2, 7, 14, 3, 2, 3, 4, 5, 8, 9, 14, 18, 20, 1, 2, 3, 4, 6, 8, 11, 12, 13, 14, 15, 16, 18, 20, 2, 3, 4, 8, 12, 18, 20, 3, 11, 2, 3, 4, 5, 7, 8, 9, 10, 12, 13, 14, 15, 16, 18, 19, 9, 2, 3, 5, 7, 8, 10, 14, 15, 18, 12, 4, 7, 13, 2, 3, 4, 5, 6, 12, 15, 7, 9, 20, 4, 8, 15, 19, 13, 14, 9, 11, 1, 2, 5, 7, 8, 9, 12, 14, 15, 16, 1, 5, 7, 8, 17, 20, 17, 18, 16, 4, 13, 19, 1, 2, 3, 4, 5, 6, 7, 8, 9, 10, 11, 12, 13, 16, 17, 18, 19, 20, 14, 2, 3, 4, 5, 7, 8, 9, 11, 12, 13, 14, 15, 16, 19, 20, 3, 13, 7, 5, 17, 3, 1, 3, 4, 9, 10, 12, 14, 16, 18, 20, 4, 16, 17, 19, 1, 5, 14, 1, 4, 5, 7, 8, 13, 16, 18, 19, 2, 3, 4, 6, 7, 8, 9, 11, 13, 15, 16, 18, 20, 5, 6, 10, 12, 14, 17, 18, 10, 1, 5, 16, 14, 15, 5, 1, 2, 3, 10, 11, 12, 15, 17, 18, 2, 3, 4, 5, 7, 8, 9, 12, 13, 18, 20, 12, 3, 10, 16, 2, 4, 6, 11, 17, 18, 2, 14, 8, 17, 15, 4, 18, 5, 7, 1, 2, 3, 4, 5, 6, 7, 9, 11, 12, 13, 14, 16, 17, 18, 4, 2, 8, 3, 7, 9, 10, 11, 12, 15, 18, 9, 15, 16, 17, 4, 13, 5, 3, 8, 12, 14, 15, 16, 1, 1, 2, 3, 4, 6, 7, 9, 11, 12, 13, 14, 15, 17, 18, 6, 12, 15, 19, 11, 4, 6, 17, 18, 7, 10, 1, 2, 5, 7, 8, 10, 11, 13, 16, 19, 20, 7, 8, 7, 1, 2, 8, 9, 10, 18, 11, 14, 1, 1, 2, 4, 5, 7, 8, 9, 11, 13, 14, 15, 16, 17, 20, 5, 8, 16, 19, 7, 2, 13, 19, 1, 19, 13, 5, 7, 9, 20, 8, 5, 5, 9, 2, 11, 19, 11, 11, 18, 3, 4, 17, 2, 3, 6, 7, 10, 16, 20, 1, 2, 3, 4, 5, 7, 9, 10, 11, 13, 16, 19, 3, 4, 6, 10, 14, 15, 14, 15, 14, 14, 2, 19, 17, 3, 4, 15, 18, 2, 18, 15, 1, 2, 5, 7, 8, 9, 11, 12, 14, 16, 18, 1, 9, 12, 17, 9, 10, 13, 15, 16, 20, 5, 7, 8, 1, 2, 3, 4, 5, 6, 7, 8, 9, 10, 12, 14, 15, 16, 1, 2, 3, 4, 5, 9, 11, 12, 16, 17, 19, 4, 1, 3, 10, 20, 2, 4, 7, 8, 18, 6, 7, 18, 10, 15, 10, 1, 3, 4, 5, 6, 8, 9, 12, 15, 18, 19, 20, 4, 1, 4, 13, 3, 4, 7, 9, 10, 13, 15, 16, 18, 19, 20, 10, 10, 20, 20, 17, 1, 2, 3, 4, 5, 6, 7, 8, 10, 11, 12, 13, 16, 18, 19, 20, 2, 3, 13, 19, 1, 5, 9, 1, 3, 4, 8, 9, 12, 13, 17, 19, 1, 14, 1, 5, 7, 8, 19, 20, 2, 3, 4, 9, 19, 6, 1, 5, 8, 20, 1, 5, 8, 20, 5, 17, 1, 5, 7, 8, 20, 5, 7, 8, 11, 12, 16, 19, 1, 5, 7, 8, 19, 20, 1, 5, 8, 11, 2, 8, 8, 2, 3, 6, 10, 11, 12, 13, 14, 15, 17, 18, 20, 5, 9, 9, 2, 5, 7, 14, 3, 6, 8, 10, 12, 14, 15, 16, 20, 18, 2, 11, 7, 8, 2, 3, 5, 7, 9, 12, 16, 17, 1, 4, 7, 1, 3, 5, 6, 7, 8, 11, 12, 15, 4, 13, 2, 14, 11, 13, 10, 1, 12, 1, 9, 12, 1, 3, 5, 12, 16, 14, 5, 12, 16, 20, 6, 1, 7, 2, 19, 16, 5, 8, 11, 1, 4, 5, 7, 8, 12, 20, 1, 2, 5, 7, 8, 11, 13, 16, 19, 20, 1, 3, 5, 10, 1, 3, 9, 11, 14, 16, 3, 14, 17, 1, 5, 2, 1, 2, 3, 4, 5, 6, 7, 9, 11, 12, 15, 16, 17, 1, 2, 3, 5, 7, 8, 9, 10, 12, 14, 15, 16, 17, 18, 19, 20, 10, 10, 16, 10, 1, 5, 8, 20, 17, 7, 3, 7, 17, 2, 3, 14, 17, 14, 1, 2, 3, 4, 5, 6, 7, 8, 9, 10, 11, 12, 13, 14, 15, 16, 17, 18, 20, 1, 2, 3, 4, 5, 7, 8, 9, 11, 13, 14, 15, 16, 17, 18, 19, 20, 1, 5, 6, 11, 17, 19, 5, 6, 9, 10, 12, 15, 17, 1, 2, 3, 5, 8, 9, 10, 11, 14, 18, 8, 10, 11, 6, 12, 1, 2, 3, 4, 7, 11, 13, 14, 16, 18, 19, 8, 8, 1, 2, 3, 4, 5, 6, 7, 8, 9, 10, 11, 12, 13, 14, 16, 17, 18, 19, 9, 13, 17, 18, 19, 5, 11, 1, 5, 11, 2, 3, 4, 5, 6, 7, 8, 9, 12, 13, 14, 15, 16, 17, 4, 9, 16, 1, 2, 3, 4, 5, 6, 7, 9, 10, 12, 13, 14, 15, 16, 17, 18, 20, 12, 12, 1, 2, 7, 8, 9, 10, 14, 15, 16, 18, 20, 19, 3, 5, 7, 11, 20, 1, 4, 8, 9, 12, 16, 19, 20, 13, 2, 6, 9, 10, 12, 14, 16, 17, 18, 19, 13, 20, 14, 5, 18, 2, 6, 15, 18, 18, 10, 1, 2, 3, 4, 5, 6, 7, 8, 9, 10, 11, 12, 13, 14, 15, 16, 17, 18, 3, 5, 10, 14, 17, 16, 16, 10, 11, 7, 20, 15, 13, 14, 2, 3, 4, 5, 7, 8, 9, 10, 12, 13, 14, 15, 18, 19, 16, 10, 13, 14, 20, 1, 5, 7, 7, 11, 1, 2, 3, 4, 5, 6, 7, 8, 9, 10, 11, 12, 13, 14, 16, 17, 18, 19, 20, 7, 13, 9, 14, 16, 15, 1, 9, 10, 13, 19, 20, 1, 2, 3, 4, 5, 6, 8, 9, 10, 11, 12, 14, 15, 16, 18, 19, 20, 19, 2, 4, 14, 3, 4, 5, 6, 8, 9, 10, 11, 12, 16, 19, 4, 16, 14, 7, 7, 15, 7, 14, 7, 2, 4, 10, 13, 18, 19, 15, 12, 2, 4, 1, 5, 7, 8, 11, 20, 1, 5, 8, 10, 11, 15, 16, 1, 2, 6, 8, 11, 12, 13, 14, 16, 2, 8, 11, 20, 1, 13, 9, 6, 6, 12, 17, 1, 7, 8, 12, 17, 12, 1, 3, 4, 5, 6, 7, 8, 9, 11, 13, 20, 2, 7, 8, 9, 11, 12, 14, 1, 2, 3, 4, 5, 6, 7, 8, 9, 10, 11, 12, 13, 14, 17, 18, 19, 19, 4, 5, 8, 20, 5, 8, 9, 10, 15, 18, 5, 9, 17, 18, 15, 19, 5, 7, 8, 9, 12, 13, 14, 16, 19, 8, 1, 2, 3, 4, 5, 6, 9, 10, 12, 13, 14, 15, 17, 1, 6, 3, 5, 13, 14, 2, 4, 5, 7, 8, 9, 10, 11, 12, 15, 17, 18, 4, 19, 1, 3, 5, 7, 8, 10, 11, 13, 14, 16, 18, 19, 20, 4, 8, 18, 15, 1, 2, 4, 5, 7, 8, 13, 15, 16, 19, 2, 4, 3, 7, 18, 2, 3, 4, 5, 6, 8, 9, 11, 12, 15, 16, 17, 18, 1, 2, 3, 4, 5, 6, 8, 9, 10, 11, 12, 13, 14, 15, 16, 17, 18, 20, 1, 2, 3, 4, 5, 7, 8, 9, 10, 11, 14, 15, 16, 17, 18, 19, 20, 16, 16, 9, 11, 11, 1, 3, 4, 11, 13, 14, 16, 10, 16, 10, 4, 1, 3, 8, 10, 11, 18, 20, 2, 9, 2, 3, 4, 8, 4, 2, 3, 17, 8, 10, 8, 1, 3, 5, 18, 16, 16, 1, 1, 3, 14, 15, 2, 3, 5, 7, 10, 11, 13, 16, 17, 19, 1, 7, 13, 19, 1, 2, 3, 4, 5, 7, 8, 10, 11, 13, 16, 17, 18, 19, 20, 3, 8, 9, 1, 2, 3, 4, 5, 7, 8, 9, 10, 11, 12, 13, 14, 15, 16, 17, 18, 19, 15, 11, 1, 2, 3, 4, 5, 6, 7, 8, 9, 10, 11, 12, 13, 14, 15, 16, 17, 18, 19, 20, 1, 5, 8, 9, 10, 11, 15, 20, 6, 11, 1, 3, 4, 5, 7, 8, 11, 20, 17, 19, 20, 10, 15, 3, 18, 3, 4, 13, 3, 9, 10, 14, 12, 3, 7, 12, 10, 11, 19, 1, 2, 4, 5, 7, 8, 9, 10, 11, 12, 14, 15, 16, 17, 18, 19, 1, 12, 1, 2, 6, 10, 11, 16, 19, 20, 5, 10, 14, 1, 4, 19, 4, 7, 11, 15, 17, 19, 13, 10, 15, 1, 8, 1, 2, 3, 4, 5, 6, 7, 8, 9, 10, 11, 12, 13, 14, 15, 16, 17, 18, 19, 20, 2, 3, 6, 14, 2, 13, 15, 15, 18, 1, 4, 6, 8, 9, 12, 16, 18, 19, 1, 3, 4, 5, 7, 8, 9, 10, 12, 13, 14, 15, 16, 17, 18, 19, 20, 5, 3, 16, 1, 2, 3, 4, 5, 7, 8, 9, 10, 12, 15, 16, 17, 18, 19, 1, 8, 1, 2, 11, 16, 1, 2, 4, 14, 11, 2, 7, 11, 17, 18, 3, 1, 4, 14, 2, 7, 13, 18, 19, 14, 15, 9, 3, 4, 5, 6, 7, 8, 9, 13, 15, 17, 18, 19, 20, 3, 4, 12, 12, 2, 1, 5, 7, 8, 10, 11, 12, 14, 18, 19, 20, 11, 3, 3, 4, 1, 2, 5, 6, 11, 6, 6, 15, 5, 7, 1, 5, 7, 8, 11, 8, 2, 3, 4, 6, 9, 12, 17, 2, 3, 6, 13, 17, 1, 2, 3, 4, 5, 7, 8, 10, 11, 12, 14, 15, 16, 18, 20, 4, 12, 3, 12, 20, 1, 4, 12, 3, 2, 3, 4, 6, 7, 10, 13, 14, 15, 16, 17, 18, 19, 18, 10, 8, 16, 20, 19, 7, 3, 6, 3, 3, 6, 1, 10, 15, 7, 17, 1, 17, 15, 16, 19, 1, 2, 4, 6, 8, 9, 11, 12, 14, 15, 16, 18, 4, 13, 8, 10, 8, 20, 1, 2, 3, 8, 14, 4, 3, 4, 5, 6, 7, 8, 11, 12, 16, 17, 18, 19, 1, 2, 3, 4, 5, 8, 9, 11, 13, 14, 16, 17, 18, 19, 13, 14, 1, 2, 3, 4, 5, 6, 7, 8, 9, 10, 11, 12, 13, 14, 15, 16, 17, 18, 19, 20, 1, 2, 3, 4, 5, 6, 7, 8, 9, 10, 11, 12, 13, 14, 15, 16, 17, 18, 19, 20, 7, 1, 8, 2, 3, 6, 13, 14, 20, 12, 9, 10, 16, 2, 3, 10, 14, 2, 3, 19, 4, 14, 14, 9, 19, 17, 2, 2, 7, 10, 17, 18, 15, 4, 10, 18, 19, 8, 12, 3, 6, 8, 10, 18, 20, 3, 10, 15, 20, 15, 1, 2, 3, 4, 5, 6, 7, 8, 9, 10, 11, 12, 13, 14, 15, 16, 17, 18, 19, 20, 8, 6, 5, 6, 7, 18, 4, 18, 20, 1, 5, 12, 1, 2, 3, 4, 5, 6, 7, 8, 9, 10, 11, 12, 13, 14, 15, 16, 17, 18, 19, 20, 1, 2, 3, 4, 5, 6, 7, 8, 9, 10, 11, 12, 14, 15, 16, 18, 19, 15, 4, 1, 2, 4, 12, 13, 2, 7, 10, 11, 12, 16, 7, 11, 9, 15, 16, 9, 16, 20, 9, 10, 16, 10, 16, 6, 2, 3, 12, 1, 5, 7, 8, 10, 11, 12, 19, 2, 18, 6, 12, 16, 19, 10, 19, 1, 2, 3, 4, 6, 7, 8, 9, 11, 12, 13, 16, 17, 18, 19, 2, 20, 3, 7, 9, 10, 12, 15, 18, 16, 14, 3, 11, 19, 13, 19, 14, 4, 13, 14, 19, 1, 2, 3, 4, 5, 8, 9, 10, 11, 12, 14, 17, 18, 19, 1, 2, 3, 4, 5, 6, 7, 8, 9, 10, 11, 12, 14, 15, 17, 18, 20, 3, 2, 5, 8, 10, 15, 1, 3, 4, 5, 6, 7, 8, 10, 12, 13, 16, 17, 18, 20, 1, 2, 4, 6, 7, 8, 9, 11, 12, 13, 9, 16, 6, 14, 18, 18, 18, 13, 18, 12, 18, 1, 2, 3, 4, 5, 7, 8, 11, 12, 15, 17, 18, 20, 9, 1, 8, 11, 19, 1, 5, 1, 2, 3, 4, 9, 10, 12, 14, 16, 17, 3, 5, 7, 8, 9, 11, 12, 14, 15, 16, 19, 3, 7, 17, 2, 17, 5, 2, 3, 4, 9, 13, 17, 18, 1, 2, 3, 4, 6, 7, 8, 10, 11, 13, 17, 18, 19, 20, 1, 7, 8, 9, 10, 11, 14, 19, 1, 2, 3, 7, 8, 19, 3, 4, 17, 16, 14, 3, 11, 9, 3, 9, 16, 6, 17, 13, 14, 15, 6, 2, 10, 12, 15, 16, 17, 18, 1, 3, 4, 7, 9, 10, 12, 15, 16, 1, 2, 3, 5, 6, 7, 8, 10, 11, 12, 16, 17, 20, 2, 3, 1, 2, 3, 4, 5, 8, 11, 12, 13, 14, 15, 16, 18, 20, 2, 8, 10, 11, 13, 15, 16, 17, 18, 19, 20, 6, 19, 8, 17, 5, 1, 2, 3, 4, 5, 6, 7, 8, 9, 10, 11, 12, 14, 15, 16, 18, 19, 9, 10, 6, 12, 13, 2, 3, 4, 5, 8, 9, 11, 12, 15, 16, 17, 18, 20, 6, 2, 4, 2, 3, 4, 6, 7, 9, 12, 13, 16, 18, 19, 20, 1, 5, 8, 13, 16, 20, 2, 8, 18, 6, 17, 18, 17, 4, 9, 18, 16, 1, 2, 7, 8, 9, 10, 16, 10, 1, 15, 16, 10, 18, 1, 8, 12, 10, 1, 3, 6, 7, 9, 12, 10, 11, 2, 11, 1, 18, 20, 1, 5, 7, 8, 20, 1, 5, 8, 12, 1, 14, 2, 3, 4, 6, 7, 9, 10, 11, 12, 15, 17, 18, 16, 7, 4, 7, 4, 7, 13, 17, 18, 18, 7, 1, 5, 7, 8, 11, 19, 20, 3, 20, 3, 4, 13, 3, 2, 3, 4, 6, 9, 12, 14, 15, 16, 18, 1, 2, 3, 4, 5, 6, 8, 9, 10, 11, 12, 14, 15, 16, 17, 18, 9, 12, 13, 2, 3, 4, 5, 6, 7, 8, 9, 10, 12, 14, 15, 16, 18, 20, 1, 2, 3, 4, 5, 7, 8, 9, 10, 11, 14, 19, 4, 17, 2, 1, 2, 3, 4, 5, 6, 7, 8, 9, 10, 11, 12, 13, 14, 15, 16, 17, 18, 19, 20, 1, 2, 3, 4, 5, 6, 7, 8, 9, 11, 15, 17, 19, 1, 2, 3, 4, 6, 7, 8, 9, 10, 11, 12, 13, 14, 15, 16, 17, 18, 19, 20, 4, 18, 13, 2, 10, 11, 17, 2, 9, 1, 13, 13, 5, 11, 9, 11, 1, 9, 16, 2, 3, 4, 5, 8, 9, 11, 14, 18, 19, 20, 1, 2, 3, 4, 5, 6, 7, 8, 10, 12, 13, 14, 16, 19, 20, 20, 1, 2, 3, 4, 10, 12, 14, 16, 17, 18, 19, 12, 14, 18, 19, 20, 14, 1, 3, 4, 5, 11, 14, 15, 16, 18, 19, 20, 4, 14, 1, 2, 3, 4, 5, 7, 8, 9, 10, 11, 12, 13, 14, 15, 16, 17, 18, 19, 20, 10, 20, 4, 13, 7, 15, 5, 9, 14, 16, 18, 2, 9, 10, 8, 3, 5, 6, 9, 4, 9, 18, 1, 2, 3, 4, 5, 6, 7, 9, 11, 12, 14, 15, 16, 18, 19, 20, 8, 3, 4, 6, 13, 18, 20, 15, 7, 6, 6, 17, 1, 2, 6, 15, 15, 14, 4, 5, 6, 9, 11, 12, 13, 15, 17, 18, 19, 1, 4, 5, 7, 9, 11, 12, 13, 14, 17, 18, 19, 9, 9, 12, 18, 20, 20, 2, 12, 17, 13, 20, 4, 17, 1, 2, 3, 4, 5, 6, 9, 10, 12, 16, 17, 18, 2, 7, 9, 11, 12, 13, 16, 1, 3, 5, 8, 10, 11, 18, 19, 2, 8, 1, 3, 4, 5, 7, 10, 19, 20, 4, 5, 6, 7, 9, 10, 11, 12, 16, 18, 2, 3, 5, 6, 8, 14, 20, 1, 16, 1, 2, 3, 4, 5, 6, 7, 9, 10, 11, 12, 14, 15, 16, 17, 18, 1, 13, 14, 19, 20, 6, 2, 3, 4, 5, 6, 8, 15, 18, 20, 1, 3, 4, 8, 9, 12, 13, 14, 18, 19, 20, 14, 18, 2, 10, 15, 16, 18, 1, 2, 3, 4, 5, 6, 7, 8, 9, 10, 11, 12, 13, 14, 15, 17, 18, 20, 14, 1, 2, 3, 7, 9, 11, 16, 17, 18, 20, 7, 9, 16, 18, 10, 10, 16, 2, 8, 10, 15, 16, 18, 13, 17, 18, 17, 2, 3, 4, 7, 8, 9, 10, 11, 12, 13, 14, 15, 16, 18, 15, 2, 1, 2, 3, 4, 5, 6, 7, 9, 12, 16, 17, 19, 20, 1, 2, 4, 6, 7, 8, 10, 17, 19, 1, 2, 3, 4, 5, 6, 7, 9, 10, 11, 12, 14, 15, 16, 17, 18, 20, 1, 2, 3, 4, 5, 6, 7, 8, 9, 10, 11, 12, 13, 14, 15, 16, 17, 18, 19, 20, 2, 5, 1, 2, 3, 4, 5, 6, 7, 8, 9, 10, 11, 12, 13, 14, 15, 16, 17, 18, 19, 5, 8, 5, 14, 10, 1, 2, 3, 4, 5, 7, 10, 11, 13, 14, 17, 20, 1, 4, 5, 12, 14, 18, 8, 19, 8, 3, 5, 15], \"Freq\": [0.01758681982755661, 0.0003839916898868978, 0.00023039501684252173, 0.46939143538475037, 0.01182694360613823, 0.007295841816812754, 0.07065446674823761, 0.16273567080497742, 0.00030719334608875215, 0.16880273818969727, 0.04031912609934807, 0.02503625862300396, 0.02542025037109852, 0.08498193323612213, 0.1711551994085312, 0.15010826289653778, 0.026407936587929726, 0.01131768710911274, 0.022039705887436867, 0.5339168310165405, 0.0001985559065360576, 0.06001873314380646, 0.0002158947172574699, 0.13817262649536133, 0.012521893717348576, 0.09520956873893738, 0.013817261904478073, 0.003130473429337144, 0.044042523950338364, 0.47313329577445984, 0.11086194217205048, 0.04879220575094223, 0.4321816563606262, 0.11263240873813629, 0.061606310307979584, 0.1832118034362793, 0.12803398072719574, 0.08209710568189621, 0.9979963898658752, 0.1638024002313614, 0.7047657370567322, 0.13086387515068054, 0.7631818652153015, 0.23635560274124146, 0.03843647614121437, 0.041312675923109055, 0.226958230137825, 0.0005229452508501709, 0.6040017604827881, 0.08863922208547592, 0.9989985227584839, 0.9992141723632812, 0.835541307926178, 0.012681065127253532, 0.15123344957828522, 0.024141818284988403, 0.022359536960721016, 0.023655740544199944, 0.6396771669387817, 0.21225357055664062, 0.0669165849685669, 0.011017742566764355, 0.003986080177128315, 0.3967098891735077, 0.19047768414020538, 0.0004745333571918309, 9.490667434874922e-05, 0.06586523354053497, 0.0024675733875483274, 0.011863334104418755, 9.490667434874922e-05, 0.15896867215633392, 0.011768427677452564, 0.058082882314920425, 0.09917747229337692, 0.4473783075809479, 0.47568780183792114, 0.007920796051621437, 0.004253760911524296, 0.018921902403235435, 0.02170884795486927, 0.02185552939772606, 0.0020535397343337536, 0.045873742550611496, 0.7998309135437012, 0.10136617720127106, 0.05253283679485321, 0.9987936615943909, 0.9986906051635742, 0.25039517879486084, 0.1477557122707367, 0.5030461549758911, 0.04624415561556816, 0.0042860438115894794, 0.032483700662851334, 0.015565105713903904, 0.9978747963905334, 0.0020179469138383865, 0.9986560344696045, 0.009866188280284405, 0.00018615450244396925, 0.09828957915306091, 0.06943563371896744, 0.49219250679016113, 0.06124483048915863, 0.017684677615761757, 0.11448501795530319, 0.02978472039103508, 0.0027923176530748606, 0.0787433534860611, 0.025503167882561684, 0.9988952279090881, 0.045060720294713974, 0.531146764755249, 0.12443491816520691, 0.01165363471955061, 0.28771528601646423, 0.00014666175411548465, 0.007333087734878063, 0.14856836199760437, 0.19858001172542572, 0.01583946868777275, 0.05353154242038727, 0.15238156914710999, 0.34172189235687256, 0.052798230201005936, 0.004253190942108631, 0.024639174342155457, 0.9987342357635498, 0.9990801811218262, 0.9994604587554932, 0.9990683794021606, 0.9998220801353455, 0.9987442493438721, 0.9983293414115906, 0.9995219111442566, 0.9988555312156677, 0.9993269443511963, 0.14002279937267303, 0.859809398651123, 0.0006116180447861552, 0.999180018901825, 0.9990050792694092, 0.8935360908508301, 0.10575024038553238, 0.09512906521558762, 0.07031440734863281, 0.029651101678609848, 0.0734022855758667, 0.04583457484841347, 0.0987749993801117, 0.08207067847251892, 0.04397440701723099, 0.032627373933792114, 0.057330422103405, 0.04181661084294319, 0.026302795857191086, 0.07730863988399506, 0.02399618551135063, 0.020833898335695267, 0.016778727993369102, 0.08341000229120255, 0.010826186276972294, 0.046876270323991776, 0.022768475115299225, 0.07590466737747192, 0.2996755540370941, 0.444584459066391, 0.08066923916339874, 0.0026287329383194447, 0.09644164144992828, 0.0005759767373092473, 0.9083153009414673, 0.012095510959625244, 0.07890880852937698, 0.0753701701760292, 0.8558862805366516, 0.06812304258346558, 0.9990133047103882, 0.22747920453548431, 0.7722492814064026, 0.9979165196418762, 0.9985117316246033, 0.0006517700385302305, 0.9975777268409729, 0.9994117021560669, 0.1688980609178543, 0.09350196272134781, 0.23294420540332794, 0.5045322775840759, 0.5988352298736572, 0.07771342992782593, 0.014035200700163841, 0.039506491273641586, 0.03430826961994171, 0.011436089873313904, 0.15490703284740448, 0.0691363587975502, 0.9988828897476196, 0.1436404436826706, 0.8475804924964905, 0.008149812929332256, 0.9991453289985657, 0.999097466468811, 0.9979918599128723, 0.48934265971183777, 0.00983603298664093, 0.05184409022331238, 0.15532734990119934, 0.18524529039859772, 0.025614669546484947, 0.032786775380373, 0.004815557971596718, 0.03709004074335098, 0.007991776801645756, 0.999329149723053, 0.18453170359134674, 0.7224008440971375, 0.09296257793903351, 0.9990610480308533, 0.5005345344543457, 0.01302375365048647, 0.4482634961605072, 0.03801527991890907, 0.9827068448066711, 0.017035532742738724, 0.37280553579330444, 0.05134718120098114, 0.007365089375525713, 0.5450166463851929, 0.02345016598701477, 0.020658385008573532, 0.9790598750114441, 0.999267041683197, 0.006522136274725199, 0.9724504947662354, 0.0202186219394207, 0.07572361826896667, 0.1562255173921585, 0.04945656284689903, 0.15490271151065826, 0.053667932748794556, 0.08806075900793076, 0.04764783754944801, 0.0407908670604229, 0.04586610570549965, 0.02480926923453808, 0.058986131101846695, 0.03145027160644531, 0.0022676591761410236, 0.019545061513781548, 0.007693843450397253, 0.017034439370036125, 0.05172422155737877, 0.032476115971803665, 0.012202165089547634, 0.029452571645379066, 0.02357637882232666, 0.5144323706626892, 0.09111952036619186, 0.05692315101623535, 0.07115393877029419, 0.03589556738734245, 0.008071192540228367, 0.001274398877285421, 0.044816359877586365, 0.053312353789806366, 0.04970155656337738, 0.022939179092645645, 0.02654997631907463, 0.9990480542182922, 0.004292432218790054, 0.9954866170883179, 0.2675487995147705, 0.025490067899227142, 0.04075503349304199, 0.6433092355728149, 0.0014538061805069447, 0.005233702249825001, 0.005185241810977459, 0.004652179777622223, 0.006348286755383015, 0.9991167783737183, 0.015864722430706024, 0.9839577078819275, 0.999789834022522, 0.9995821714401245, 0.005977597553282976, 0.05448152869939804, 0.04782078042626381, 0.09034711122512817, 0.19589440524578094, 0.0315958708524704, 0.4910169243812561, 0.008881001733243465, 0.0724143236875534, 0.0015370964538305998, 0.9974877834320068, 0.9985841512680054, 0.9982938170433044, 0.9985677003860474, 0.3095402419567108, 0.6321137547492981, 0.05818425863981247, 0.9987368583679199, 0.027716293931007385, 0.0006886035553179681, 0.13703210651874542, 0.43416455388069153, 0.24720868468284607, 0.007230337709188461, 0.01721508987247944, 0.008435393683612347, 0.03219221904873848, 0.0005164527101442218, 0.07712359726428986, 0.005680979695171118, 0.0039594704285264015, 0.0008607544586993754, 0.9677250981330872, 0.032239340245723724, 0.9484612345695496, 0.051048677414655685, 0.9995951056480408, 0.9990739226341248, 0.9986066818237305, 0.3456436097621918, 0.12452203035354614, 0.030386250466108322, 0.0006159375188872218, 0.01262671872973442, 0.0801745280623436, 0.0027717186603695154, 0.0001026562531478703, 0.0005132812657393515, 0.06744515895843506, 0.10368281602859497, 0.059130001813173294, 0.17246250808238983, 0.9992424845695496, 0.13199716806411743, 0.011049991473555565, 0.07493903487920761, 0.06830903887748718, 0.10427173972129822, 0.0036163609474897385, 0.6055395603179932, 0.07574307918548584, 0.13289891183376312, 0.23094670474529266, 0.06761115789413452, 0.4925623834133148, 0.9983294606208801, 0.001257341937161982, 0.003164037363603711, 0.4645484685897827, 0.007910093292593956, 0.011300133541226387, 0.05616166070103645, 0.008362098596990108, 0.0014690173557028174, 0.08915805071592331, 0.3578752279281616, 0.024885671213269234, 0.9746041893959045, 0.9993036985397339, 0.999495804309845, 0.9996846914291382, 0.394879013299942, 0.053672872483730316, 0.008547436445951462, 0.015649350360035896, 0.06655687838792801, 0.22644421458244324, 0.0580722913146019, 0.13977572321891785, 0.03645230457186699, 0.9997860193252563, 0.9995673298835754, 0.0009203506051562726, 0.9958193302154541, 0.002761051757261157, 0.9977793097496033, 0.02052292414009571, 0.9792367219924927, 0.955104649066925, 0.04389658197760582, 0.9988856911659241, 0.9997093081474304, 0.9986692667007446, 0.060958802700042725, 0.19415728747844696, 0.014994464814662933, 0.27480509877204895, 0.03720588982105255, 0.05381190776824951, 0.0011911490000784397, 0.2225346714258194, 0.032651498913764954, 0.0007006758823990822, 0.010440071113407612, 0.048556841909885406, 0.00014013517647981644, 0.005815609823912382, 0.0024523655883967876, 0.039448052644729614, 7.006758823990822e-05, 0.999862015247345, 0.9997267127037048, 0.9999223947525024, 0.9993963837623596, 0.8477826118469238, 0.15199971199035645, 0.9997221827507019, 0.03797466307878494, 0.9619570970535278, 0.9740467071533203, 0.025874421000480652, 0.99956876039505, 0.8468328714370728, 0.15243981778621674, 0.9997807145118713, 0.9997507333755493, 0.9989398717880249, 0.009018471464514732, 0.5848131775856018, 0.08255369961261749, 0.03792382776737213, 0.00023124285507947206, 0.00023124285507947206, 0.10267182439565659, 0.0011562142753973603, 0.015493270941078663, 0.05179839953780174, 0.08671607077121735, 0.006937285419553518, 0.011099657043814659, 0.009480956941843033, 0.9991377592086792, 0.9989579319953918, 0.9441511034965515, 0.05555116385221481, 0.9996040463447571, 0.034713175147771835, 0.0541561059653759, 0.10298538208007812, 0.08025757223367691, 0.3505941927433014, 0.15199221670627594, 0.02343805320560932, 0.1206527054309845, 0.0011541465064510703, 0.01873268559575081, 0.03497951850295067, 0.0262790285050869, 0.048116378486156464, 0.006792900152504444, 0.13302762806415558, 0.8117516040802002, 0.9989413619041443, 0.9989843368530273, 0.9988471865653992, 0.999725341796875, 0.03944098576903343, 0.0037081269547343254, 0.004213780630379915, 0.06118409335613251, 0.002528268378227949, 0.31687629222869873, 0.03033922053873539, 0.09523144364356995, 0.3824427127838135, 0.06388091295957565, 0.0007091016159392893, 0.17550265789031982, 0.8172396421432495, 0.006381914485245943, 0.023414433002471924, 0.9763818979263306, 0.9996968507766724, 0.9991042017936707, 0.0042760176584124565, 0.9948867559432983, 0.9995257258415222, 0.9982870817184448, 0.9984645247459412, 0.998916506767273, 0.0020219115540385246, 0.9968023896217346, 0.09256569296121597, 0.9070003032684326, 0.9982787370681763, 0.9989220499992371, 0.9996775388717651, 0.0007398676825687289, 0.9988213777542114, 0.9991059303283691, 0.9998658299446106, 0.9596680998802185, 0.007714373990893364, 0.03240036964416504, 0.9569445252418518, 0.04298427328467369, 0.9986732602119446, 0.9992450475692749, 0.005456016398966312, 0.2385767102241516, 0.21154463291168213, 0.5441136360168457, 0.018215153366327286, 0.025342822074890137, 0.0005939723923802376, 0.9557015895843506, 0.9993006587028503, 0.0011605046456679702, 0.9968734979629517, 0.021593596786260605, 0.9773943424224854, 0.9991469979286194, 0.9988039135932922, 0.20087043941020966, 0.01727917790412903, 0.7814508080482483, 0.4767203629016876, 0.49919289350509644, 0.004460836760699749, 0.000505000411067158, 0.01902168244123459, 0.0011564005399122834, 0.9979736804962158, 0.9998878240585327, 0.9991312623023987, 0.9968774318695068, 0.998735249042511, 0.10631322115659714, 0.015282525680959225, 0.2067570686340332, 0.07840600609779358, 0.1862696260213852, 0.4068695604801178, 0.9988512992858887, 0.9993976950645447, 0.9992721080780029, 0.9977953433990479, 0.9996886253356934, 0.99964839220047, 0.9626932740211487, 0.03645629063248634, 0.9993412494659424, 0.20144465565681458, 0.01708742044866085, 0.15031589567661285, 0.0037378729321062565, 0.11707552522420883, 0.2432287335395813, 0.04111660271883011, 0.04458748549222946, 0.09998810291290283, 0.041383594274520874, 0.03978164866566658, 0.017727190628647804, 0.1991831511259079, 0.3363761901855469, 0.03501395136117935, 0.012772385030984879, 0.02081017941236496, 0.02058996632695198, 0.02917829342186451, 0.05175018310546875, 0.006826619617640972, 0.04415281489491463, 0.01453409343957901, 0.06859651952981949, 0.09744448959827423, 0.008478221483528614, 0.0004404270730447024, 0.03578469902276993, 0.0001101067682611756, 0.9980320930480957, 0.9962694048881531, 0.0030318605713546276, 0.9993644952774048, 0.17542651295661926, 0.8245046138763428, 0.9998719692230225, 0.9983759522438049, 0.15311522781848907, 0.030564269050955772, 0.07699844986200333, 0.267731249332428, 0.03027038276195526, 0.06538990139961243, 0.0648021250963211, 0.31107959151268005, 0.9989644289016724, 0.0013423621421679854, 0.9312637448310852, 0.06711810827255249, 0.9984254240989685, 0.17114005982875824, 0.6892604231834412, 0.13934506475925446, 0.33214566111564636, 0.09328062832355499, 0.03797854110598564, 0.43197816610336304, 0.10449651628732681, 0.13063666224479675, 0.6967822909355164, 0.005610163789242506, 0.16686229407787323, 0.9077881574630737, 0.05164250731468201, 0.03919852897524834, 0.001244397833943367, 0.9985260367393494, 0.02003300003707409, 0.008528104051947594, 0.0030572449322789907, 0.21988028287887573, 0.10467041283845901, 0.05824856460094452, 0.007079935632646084, 0.2547972500324249, 0.006919028237462044, 0.05728311836719513, 0.2595440149307251, 0.9997072219848633, 0.9996379017829895, 0.999817430973053, 0.9992031455039978, 0.32960644364356995, 0.16152793169021606, 0.11056115478277206, 0.00015977045404724777, 0.027001207694411278, 0.0370667465031147, 0.04058169573545456, 0.2645798623561859, 0.02923799306154251, 0.9992088675498962, 0.9992693662643433, 0.9979079365730286, 0.9986867904663086, 0.9993915557861328, 0.9998445510864258, 0.9988785982131958, 0.9886271953582764, 0.009858105331659317, 0.9992625117301941, 0.9997131824493408, 0.9993669390678406, 0.9996970891952515, 0.9996963143348694, 0.9997408390045166, 0.9993302822113037, 0.0005882198456674814, 0.03627355769276619, 0.22979789972305298, 0.3576376736164093, 0.054410338401794434, 0.07019423693418503, 0.10029148310422897, 0.012450654059648514, 0.12656530737876892, 0.011568323709070683, 0.12249647825956345, 0.7263267040252686, 0.08105715364217758, 0.06967271864414215, 0.9992035627365112, 0.9994587898254395, 0.018636196851730347, 0.006044171750545502, 0.20701289176940918, 0.0939365029335022, 0.6741769909858704, 0.11641326546669006, 0.8832494020462036, 0.9985793828964233, 0.12790001928806305, 0.0003523416235111654, 0.06095510348677635, 0.1363562047481537, 0.6743818521499634, 0.9991352558135986, 0.27120113372802734, 0.06773926317691803, 0.000793342711403966, 0.10264633595943451, 0.009214980527758598, 0.045098479837179184, 0.008787795901298523, 0.05602220073342323, 0.00018307908612769097, 0.10783357918262482, 0.11106798052787781, 0.0006712899776175618, 0.218657448887825, 0.9028654098510742, 0.026789862662553787, 0.07002964615821838, 0.03535955026745796, 0.08139265328645706, 0.3428672254085541, 0.21182888746261597, 0.011166173964738846, 0.07148540765047073, 0.04991936683654785, 0.08500523865222931, 0.10410814732313156, 0.00010947229020530358, 5.473614510265179e-05, 0.004652572330087423, 0.00202523753978312, 0.9990943074226379, 0.0008292330312542617, 0.9983965754508972, 0.9984800815582275, 0.0032096304930746555, 0.2293102741241455, 0.050640836358070374, 0.13640929758548737, 0.08701664954423904, 0.014086712151765823, 0.47930482029914856, 0.9987562298774719, 0.9955626726150513, 0.004308629315346479, 0.04369644448161125, 0.02790697291493416, 0.2996327579021454, 0.04443083703517914, 0.015789471566677094, 0.0005507955211214721, 0.0001835985021898523, 0.036352504044771194, 0.028090571984648705, 0.032680533826351166, 0.0031211746390908957, 0.4674417972564697, 0.9995141625404358, 0.13120347261428833, 0.7777009606361389, 0.01781926117837429, 0.0019527957774698734, 0.0025630444288253784, 0.032709330320358276, 0.0006102487095631659, 0.014890068210661411, 0.006224536802619696, 0.00024409947218373418, 0.012082924135029316, 0.0018307460704818368, 0.9996806979179382, 0.000270037999143824, 0.8031555414199829, 0.19642391800880432, 0.9995746612548828, 0.0021263319067656994, 0.9972496628761292, 0.6042507290840149, 0.15427109599113464, 0.02406308241188526, 0.21710248291492462, 0.007292678114026785, 0.12737877666950226, 0.004294577054679394, 0.4023127257823944, 0.0290086530148983, 0.00024308926367666572, 0.3395957052707672, 8.102975698420778e-05, 0.05299346148967743, 0.036868538707494736, 0.10294096171855927, 0.8774786591529846, 0.019223913550376892, 0.06099774315953255, 0.8963692784309387, 0.042400870472192764, 0.9992492198944092, 0.9994932413101196, 0.1653125286102295, 0.2026851624250412, 0.6296061277389526, 0.0019095506286248565, 0.9992650747299194, 0.9967191219329834, 0.996830403804779, 0.9991662502288818, 0.9990678429603577, 0.9978792071342468, 0.999595046043396, 0.8899092078208923, 0.10931502282619476, 0.24828237295150757, 0.7513628005981445, 0.9991365671157837, 0.9991698861122131, 0.9747806191444397, 0.023800376802682877, 0.9993116855621338, 0.9987190961837769, 0.9892765283584595, 0.009613960981369019, 0.8351227641105652, 0.16462993621826172, 0.15656988322734833, 0.0822235643863678, 0.01793013885617256, 0.14659202098846436, 0.005589101929217577, 0.11058169603347778, 0.0446753054857254, 0.06249291077256203, 0.0337221659719944, 0.012903698720037937, 0.03799838945269585, 0.0497017465531826, 0.03229675814509392, 0.034472379833459854, 0.08128579705953598, 0.023331686854362488, 0.01582953706383705, 0.002700773999094963, 0.049026552587747574, 0.24692369997501373, 0.012284399941563606, 0.03598093241453171, 0.12713263928890228, 0.11477554589509964, 0.03452716022729874, 0.16013333201408386, 0.03263724967837334, 0.01352010853588581, 0.04245023429393768, 0.02522299811244011, 0.15410016477108002, 0.3067634105682373, 0.0037693046033382416, 0.6213553547859192, 0.06784748286008835, 0.999640941619873, 0.1915753334760666, 0.7647563815116882, 0.043258946388959885, 0.9990156292915344, 0.6141965389251709, 0.17478981614112854, 0.1670069694519043, 0.04410281032323837, 0.9983975887298584, 0.9984495639801025, 0.9993589520454407, 0.09566231817007065, 0.9038259983062744, 0.9994169473648071, 0.09639468789100647, 0.0010830863611772656, 0.9019014835357666, 0.00046417987323366106, 0.21819552779197693, 0.7807604670524597, 0.9986729025840759, 0.9995914101600647, 0.9992420077323914, 0.9956260919570923, 0.003237808356061578, 0.9996214509010315, 0.01091565378010273, 0.9878666400909424, 0.05296352133154869, 0.6472007036209106, 0.027493802830576897, 0.0005060209077782929, 0.004048167262226343, 0.03491544350981712, 0.16867363452911377, 0.0639273077249527, 0.01314770057797432, 0.20297953486442566, 0.014195705763995647, 0.2401837259531021, 0.07312217354774475, 0.03534635528922081, 0.037918731570243835, 0.036918360739946365, 0.21965235471725464, 0.0001905463868752122, 0.02734340727329254, 0.016244079917669296, 0.0001905463868752122, 0.010527688078582287, 0.020293191075325012, 0.0028105592355132103, 0.048875149339437485, 0.02153903618454933, 0.004364118445664644, 0.0060534547083079815, 0.03941784426569939, 0.9284310340881348, 0.07782533019781113, 0.04313211143016815, 0.07970063388347626, 0.7979440093040466, 0.012488598935306072, 0.019685417413711548, 0.01756870746612549, 0.502718985080719, 0.061596307903528214, 0.022013800218701363, 0.3634393811225891, 0.0002116711693815887, 0.14721935987472534, 0.11320054531097412, 0.3215029537677765, 0.011646836064755917, 0.1531684696674347, 0.0005027411389164627, 0.10591080039739609, 0.0016758037963882089, 0.06460223346948624, 0.08052237331867218, 0.9985631704330444, 0.9985389709472656, 0.998569905757904, 0.9992817640304565, 0.9989368915557861, 0.9989096522331238, 0.9992544651031494, 0.9997608065605164, 0.9988741874694824, 0.999018669128418, 0.03241178020834923, 0.9168186187744141, 0.05059399828314781, 0.9997119307518005, 0.9987917542457581, 0.9991993308067322, 0.9983221292495728, 0.9987400770187378, 0.9991413950920105, 0.015058684162795544, 0.04351959750056267, 0.3742083013057709, 0.02138333208858967, 0.012649294920265675, 0.010691666044294834, 0.06821583956480026, 0.0031623237300664186, 0.024395067244768143, 0.4049279987812042, 0.021533917635679245, 0.9991906881332397, 0.9995285868644714, 0.044744424521923065, 0.9550900459289551, 0.9992808699607849, 0.9994727969169617, 0.429593563079834, 0.07192052155733109, 0.3499547243118286, 0.14822643995285034, 0.007499133236706257, 0.35476669669151306, 0.004037994891405106, 0.23478055000305176, 0.3983193337917328, 0.010702011175453663, 0.0871696025133133, 0.0006904523470439017, 0.8832611441612244, 0.018124373629689217, 0.14848875999450684, 0.8513355851173401, 0.9725266098976135, 0.02713426761329174, 0.9989681243896484, 0.011811028234660625, 0.27519696950912476, 0.04399608075618744, 0.014468509703874588, 0.6543309688568115, 0.9985911250114441, 0.9672626256942749, 0.03100200742483139, 0.013208032585680485, 0.985522449016571, 0.9995095729827881, 0.99955153465271, 0.999140202999115, 0.9992865920066833, 0.1009601429104805, 0.8986477851867676, 0.9990227222442627, 0.9998846054077148, 0.9875216484069824, 0.012324413284659386, 0.9983915090560913, 0.11636408418416977, 0.8825920224189758, 0.9977157711982727, 0.0012991090770810843, 0.9989451766014099, 0.9939396977424622, 0.00545621057972312, 0.7528160214424133, 0.03234369680285454, 0.21386443078517914, 0.0009901131270453334, 0.9986367225646973, 0.9998908638954163, 0.9985637068748474, 0.0429961122572422, 0.16214196383953094, 0.2362195998430252, 0.3238953948020935, 0.0002590127114672214, 0.007381862495094538, 0.05439267307519913, 0.0005180254229344428, 0.04493870586156845, 0.12445561587810516, 0.00271963351406157, 0.34707167744636536, 0.005770788062363863, 0.6468778252601624, 0.999589204788208, 0.9986061453819275, 0.9978976249694824, 0.17164503037929535, 0.006687468849122524, 0.8210725784301758, 0.8904960751533508, 0.1087036058306694, 0.9989713430404663, 0.9989976286888123, 0.9988937973976135, 0.0046205073595047, 0.9756971001625061, 0.013861522078514099, 0.0046205073595047, 0.0009885984472930431, 0.2527722716331482, 0.1610797643661499, 0.13760055601596832, 0.07074657827615738, 0.009577048011124134, 0.018721584230661392, 0.004201543517410755, 0.025641772896051407, 0.017176898196339607, 0.013902165926992893, 0.006364102475345135, 0.10318496823310852, 0.07816106826066971, 0.08044720441102982, 0.002471496118232608, 0.01686796173453331, 0.8983303308486938, 0.0649685338139534, 0.012833289802074432, 0.023260338231921196, 0.014764164574444294, 0.7794137001037598, 0.01838809624314308, 0.18267299234867096, 0.0048319087363779545, 0.06981875002384186, 0.06649404764175415, 0.5667338967323303, 0.1143186092376709, 0.10281002521514893, 0.07928135991096497, 0.9977028965950012, 0.993240237236023, 0.00621206546202302, 0.9993985295295715, 0.9979307651519775, 0.8882831335067749, 0.11082964390516281, 0.9986594319343567, 0.9991919994354248, 0.9990590810775757, 0.9985440969467163, 0.0007336895214393735, 0.8573161959648132, 0.08254007250070572, 0.05906200408935547, 0.999075710773468, 0.011419406160712242, 0.01288002822548151, 0.25972509384155273, 0.013543946668505669, 0.1808515340089798, 0.12893305718898773, 0.0014606217155233026, 0.3451050817966461, 0.04594319313764572, 0.0064690266735851765, 0.0017520280089229345, 0.48032522201538086, 0.16940763592720032, 0.02978447638452053, 0.0001347713841823861, 0.0001347713841823861, 0.006064712535589933, 0.00377359869889915, 0.0025606562849134207, 0.18531066179275513, 0.03531010448932648, 0.04582227021455765, 0.03328853100538254, 0.9986088275909424, 0.25742506980895996, 0.001702296664007008, 0.08095366507768631, 0.010592067614197731, 0.6192576885223389, 0.029695618897676468, 0.9029062986373901, 0.09683851897716522, 0.08103175461292267, 0.012962526641786098, 0.01423962228000164, 0.5428297519683838, 0.03690807893872261, 0.001277096220292151, 0.0018517895368859172, 0.053063347935676575, 0.029053939506411552, 0.09073768556118011, 0.04093093425035477, 0.006066206842660904, 0.03320449963212013, 0.032374389469623566, 0.023498570546507835, 0.9986697435379028, 0.0001500580838182941, 0.0004501742369029671, 0.049819283187389374, 0.06422485411167145, 0.03901509940624237, 0.24099327623844147, 0.010504065081477165, 0.5900283455848694, 0.0049519166350364685, 0.9990555644035339, 0.15917052328586578, 0.22046032547950745, 0.6202161908149719, 0.07276850938796997, 0.08670290559530258, 0.09057357162237167, 0.050576694309711456, 0.6990421414375305, 0.9811804294586182, 0.016897480934858322, 0.17876237630844116, 0.8208610415458679, 0.9982268810272217, 0.006851332727819681, 0.4952942728996277, 0.4978635311126709, 0.9992059469223022, 0.9997926950454712, 0.9988347291946411, 0.9994494318962097, 0.9993873834609985, 0.16671541333198547, 0.0002572768717072904, 0.15076425671577454, 0.04656711593270302, 0.5660091638565063, 0.0288150105625391, 0.0010291074868291616, 0.010805629193782806, 0.003087322460487485, 0.02598496526479721, 0.6757020354270935, 0.05606744438409805, 0.018121952190995216, 0.12200412154197693, 0.017186075448989868, 0.11077361553907394, 0.7525864839553833, 0.2472805231809616, 0.9990454912185669, 0.0100093400105834, 0.783865749835968, 0.20601312816143036, 0.00409812293946743, 0.2348102629184723, 0.09324243664741516, 0.12059030681848526, 0.03907418251037598, 0.05680566281080246, 0.004950207658112049, 0.05907789245247841, 0.06788276880979538, 0.05664336308836937, 0.016960548236966133, 0.07185916602611542, 0.038343824446201324, 0.017690906301140785, 0.013471057638525963, 0.07904102653265, 0.017690906301140785, 0.007749915588647127, 0.9997469782829285, 0.009247464127838612, 0.10817788541316986, 0.0029661678709089756, 0.025474147871136665, 0.3876955807209015, 0.11498261988162994, 0.01989077217876911, 0.10050074756145477, 0.0001744804612826556, 0.05443790555000305, 0.020065253600478172, 0.02425278350710869, 0.00977090559899807, 0.0010468827094882727, 0.12161288410425186, 0.9983199238777161, 0.9981096386909485, 0.9989141225814819, 0.9999454021453857, 0.9980301856994629, 0.9990266561508179, 0.023928780108690262, 0.005849257577210665, 0.00815351027995348, 0.4369218051433563, 0.0012407515896484256, 0.2828913629055023, 0.006735508795827627, 0.22652578353881836, 0.0003545004583429545, 0.007267259526997805, 0.025787346065044403, 0.4385652244091034, 0.21044638752937317, 0.32495662569999695, 0.04600894823670387, 0.42338868975639343, 0.530565619468689, 0.48317158222198486, 0.0005752898869104683, 0.15748560428619385, 0.000431467400630936, 0.17035771906375885, 0.05220755562186241, 0.027613913640379906, 0.056306496262550354, 0.051776088774204254, 0.3817766606807709, 0.04777997359633446, 0.0008490787004120648, 0.0027016140520572662, 0.2115749716758728, 0.002855991944670677, 0.11439405381679535, 0.020841022953391075, 0.0367419496178627, 0.005480417050421238, 0.16703693568706512, 0.0003859448479488492, 0.007564519066363573, 0.08261749893426895, 0.047515761107206345, 0.011557888239622116, 0.0021403497084975243, 0.011129817925393581, 0.8445819616317749, 0.9984341263771057, 0.9988919496536255, 0.01646766997873783, 0.9642735719680786, 0.018907325342297554, 0.09692089259624481, 0.9028522968292236, 0.999157726764679, 0.283672958612442, 0.1406378597021103, 0.013424523174762726, 0.008949682116508484, 0.41376298666000366, 0.00015981575415935367, 0.06504500657320023, 0.01741991750895977, 0.05657477676868439, 0.005145400296896696, 7.566765270894393e-05, 0.05856676399707794, 0.1980222463607788, 0.13461275398731232, 0.024894658476114273, 0.24493619799613953, 0.04048219323158264, 0.2753545939922333, 0.017857566475868225, 0.9967826008796692, 0.9987291693687439, 0.8419738411903381, 0.015565086156129837, 0.14203140139579773, 0.4239717423915863, 0.0008462509722448885, 0.03356795385479927, 0.06628966331481934, 0.00902667734771967, 0.4660021960735321, 0.05448649451136589, 0.9449105262756348, 0.9988329410552979, 0.99858158826828, 0.9989302158355713, 0.0016645339783281088, 0.9953913688659668, 0.004780979827046394, 0.9932485222816467, 0.005787589121609926, 0.05038170516490936, 0.0909690260887146, 0.0574306920170784, 0.0008903983398340642, 0.03925172612071037, 0.03850972652435303, 0.24723394215106964, 0.013207575306296349, 0.18995164334774017, 0.03821292892098427, 0.010387980379164219, 0.09905681759119034, 0.05550149455666542, 0.06336668133735657, 0.9995776414871216, 0.14284449815750122, 0.8564767241477966, 0.012987680733203888, 0.15254512429237366, 0.01503203809261322, 0.12115822732448578, 0.6588842868804932, 0.00048102522850967944, 0.02723805233836174, 0.0116648618131876, 0.999361515045166, 0.09503550827503204, 0.8770006895065308, 0.027462732046842575, 0.004673635121434927, 0.9949000477790833, 0.9989244937896729, 0.01957395300269127, 0.013208440504968166, 0.02832653373479843, 0.009866545908153057, 0.925068199634552, 0.0038193080108612776, 0.999629557132721, 0.16657233238220215, 0.04413846507668495, 0.10274555534124374, 0.14322108030319214, 0.03012770600616932, 0.0617205910384655, 0.27929940819740295, 0.014010757207870483, 0.1032034233212471, 0.00036629431997425854, 0.0010073092998936772, 0.00045786789269186556, 0.010622534900903702, 0.0425817146897316, 0.9981802701950073, 0.0016745829489082098, 0.9988271594047546, 0.999729573726654, 0.9984973073005676, 0.0005100439302623272, 0.12700094282627106, 0.8502432703971863, 0.02193189039826393, 0.9990847706794739, 0.9992151856422424, 0.14595970511436462, 0.0015833481447771192, 0.12933453917503357, 0.015208475291728973, 0.07995907962322235, 0.10750100761651993, 0.35621166229248047, 0.00800007488578558, 0.0631672590970993, 0.030208615586161613, 0.06291725486516953, 0.998810887336731, 0.9984338283538818, 0.9984340071678162, 0.032728321850299835, 0.7553254961967468, 0.0077224127016961575, 0.05037954822182655, 0.03640566021203995, 0.11730712652206421, 0.020884644240140915, 0.979072093963623, 0.9991934895515442, 0.3579038679599762, 0.0003017484850715846, 9.05245469766669e-05, 0.14233475923538208, 0.06774253398180008, 0.1512966901063919, 6.0349695559125394e-05, 0.19900311529636383, 0.0026553866919130087, 0.041611116379499435, 0.013970954343676567, 0.0063065430149436, 0.01092329528182745, 0.00576339615508914, 0.9988776445388794, 0.9987285137176514, 0.004205517470836639, 0.9953058362007141, 0.9982680082321167, 0.9994401931762695, 0.7958300709724426, 0.20382751524448395, 0.13278476893901825, 0.8670597076416016, 0.9995288848876953, 0.996367335319519, 0.0034501960035413504, 0.9998869895935059, 0.9983041286468506, 0.9984540343284607, 0.9987876415252686, 0.9979455471038818, 0.9990649223327637, 0.9995158910751343, 0.9999302625656128, 0.999659538269043, 0.9991384744644165, 0.9990310072898865, 0.9997361302375793, 0.8799192905426025, 0.02061072178184986, 0.09882576763629913, 0.07893376052379608, 0.006533903069794178, 0.004953119903802872, 0.0871538296341896, 0.35968080163002014, 0.025081755593419075, 0.43756070733070374, 0.0006861971342004836, 0.05329464375972748, 0.08280112594366074, 0.115852952003479, 0.0005718309548683465, 0.024588732048869133, 0.07902704179286957, 0.03533915430307388, 0.04311605542898178, 0.45552054047584534, 0.09835492819547653, 0.01075042225420475, 0.13690343499183655, 0.10053056478500366, 0.00707250228151679, 0.05885332077741623, 0.01616571843624115, 0.6802231669425964, 0.00045968013000674546, 0.9993445873260498, 0.9990502595901489, 0.9987694025039673, 0.1410074084997177, 0.8586679697036743, 0.99888676404953, 0.009201139211654663, 0.10203041136264801, 0.022900613024830818, 0.8659294247627258, 0.998876690864563, 0.9987874031066895, 0.9995918273925781, 0.025715306401252747, 0.4945604205131531, 0.004706819541752338, 0.1333981454372406, 0.00482161995023489, 0.04649418964982033, 0.04018016532063484, 0.007117629051208496, 0.004362417850643396, 0.17265990376472473, 0.06578066945075989, 0.9995759725570679, 0.0008267594967037439, 0.9987254738807678, 0.9991435408592224, 0.06962034106254578, 0.1983911395072937, 0.009396062232553959, 0.40626782178878784, 0.0008948630420491099, 0.3153497278690338, 0.4808867275714874, 0.491821825504303, 0.02714475616812706, 0.0606638602912426, 0.051362067461013794, 0.003639831440523267, 0.5842603445053101, 0.0028309801127761602, 0.0018873200751841068, 0.0001348085788777098, 0.0016177028883248568, 0.0014828942948952317, 0.01590741239488125, 0.008358131162822247, 0.0001348085788777098, 0.2001907378435135, 0.06753909587860107, 0.11219445616006851, 0.010289573110640049, 0.14778874814510345, 0.020884022116661072, 0.07431358098983765, 0.07324651628732681, 0.0005335333989933133, 0.0003048762446269393, 0.05541125684976578, 0.04405461624264717, 0.46089664101600647, 0.997063934803009, 0.9998011589050293, 0.9997165203094482, 0.9987753033638, 0.9995970726013184, 0.012345572002232075, 0.10217931121587753, 0.7123658061027527, 0.06093984469771385, 0.11216083914041519, 0.9984127879142761, 0.9988776445388794, 0.9979689121246338, 0.9996747374534607, 0.9991990923881531, 0.9990972280502319, 0.11356833577156067, 0.4454957842826843, 0.1783873736858368, 0.013503964059054852, 0.005536625161767006, 0.0009452775120735168, 0.00310591165907681, 0.06022768095135689, 0.07292141020298004, 0.06819502264261246, 0.00310591165907681, 0.03470518812537193, 0.9986513257026672, 0.09017740935087204, 0.8859095573425293, 0.023657653480768204, 0.011517325416207314, 0.0010749503271654248, 0.018888413906097412, 0.06756830960512161, 0.014588612131774426, 0.19164828956127167, 0.038698211312294006, 0.11978018283843994, 0.08676385134458542, 0.4493292570114136, 0.9983391761779785, 0.998663604259491, 0.9997298717498779, 0.9987421631813049, 0.9984924793243408, 0.9994655847549438, 0.15668323636054993, 0.042752303183078766, 0.34901219606399536, 0.016920436173677444, 0.08460218459367752, 0.07050181925296783, 0.028200726956129074, 0.09227278083562851, 0.00011280291073489934, 0.03248723968863487, 0.0014664378250017762, 0.021770961582660675, 0.07185545563697815, 0.02774951606988907, 0.0020304524805396795, 0.0014664378250017762, 0.8510671257972717, 0.03273335099220276, 0.11165709793567657, 0.004364446736872196, 0.037768904119729996, 0.9621468782424927, 0.9994503259658813, 0.07075773924589157, 0.0016338377026841044, 0.09162059426307678, 0.073774054646492, 0.23502127826213837, 0.004273114260286093, 0.08005804568529129, 0.042228419333696365, 0.40041592717170715, 0.994179368019104, 0.005147378426045179, 0.5572662353515625, 0.11294397711753845, 0.1128404513001442, 0.2088066041469574, 0.0035197939723730087, 0.004555027466267347, 0.012887907214462757, 0.828406035900116, 0.1301320642232895, 0.028460795059800148, 0.999376654624939, 0.9999047517776489, 0.198379784822464, 0.37183877825737, 0.2578781545162201, 0.17184953391551971, 0.31181418895721436, 0.08090313524007797, 0.35086116194725037, 0.256380558013916, 0.9981583952903748, 0.9992607831954956, 0.5246478915214539, 0.1634322702884674, 0.01632264070212841, 0.16152061522006989, 0.13402211666107178, 0.014342580921947956, 0.09210626035928726, 0.07148880511522293, 0.15978531539440155, 0.5604811906814575, 0.00022410282690543681, 0.10129448026418686, 0.38077276945114136, 0.39068204164505005, 0.00011303367500659078, 0.20666323602199554, 0.001318726222962141, 0.02042141743004322, 0.15493428707122803, 0.021417386829853058, 0.15333937108516693, 0.6700907945632935, 0.9995600581169128, 0.9995800852775574, 0.9995191097259521, 0.005164076574146748, 0.25027328729629517, 0.05551382526755333, 0.02268505096435547, 0.08428511023521423, 0.3443332612514496, 0.06104676425457001, 0.02268505096435547, 0.0011065879371017218, 0.04721441492438316, 0.0284024216234684, 0.07690785825252533, 0.021722326055169106, 0.9782410264015198, 0.9988934993743896, 0.04608842357993126, 0.9401289224624634, 0.00012490087829064578, 0.013614196330308914, 0.6728140711784363, 0.0036722796503454447, 0.018361397087574005, 0.0013115283800289035, 0.07213406264781952, 0.12564441561698914, 0.09888923913240433, 0.0028853625990450382, 0.003934585023671389, 0.9992194771766663, 0.998301088809967, 0.9993792176246643, 0.9856123328208923, 0.01423925906419754, 0.029235899448394775, 8.701160550117493e-05, 0.00017402321100234985, 0.03854614123702049, 0.002175290137529373, 0.10371783375740051, 0.010789439082145691, 0.8152987360954285, 0.14411917328834534, 0.8540395498275757, 0.0013344368198886514, 0.04562227800488472, 0.05480125918984413, 0.12132617086172104, 0.016540346667170525, 0.6166278123855591, 0.00036352413007989526, 0.042804963886737823, 0.00045440514804795384, 0.10133235156536102, 0.31019341945648193, 0.6895351409912109, 0.9437511563301086, 0.05554588884115219, 0.8663845658302307, 0.13314150273799896, 0.9999480247497559, 0.9981012344360352, 0.001898132381029427, 0.9997029304504395, 0.001684839022345841, 0.9979863166809082, 0.029163407161831856, 0.0005986623000353575, 0.9449456930160522, 0.012315339408814907, 0.012914001010358334, 0.998781144618988, 0.9991838932037354, 0.9989341497421265, 0.9996458292007446, 0.9994598627090454, 0.9991853833198547, 0.9994215965270996, 0.9991207122802734, 0.0847829133272171, 0.9150032997131348, 0.9986787438392639, 0.3647175133228302, 0.1521785408258438, 0.4830431342124939, 0.0024449797347187996, 0.062172338366508484, 0.875652015209198, 0.019559837877750397, 0.03213401883840561, 0.0017464139964431524, 0.006287090480327606, 0.41080257296562195, 0.0001241470454260707, 0.05276249349117279, 0.07225357741117477, 0.16226018965244293, 0.058349110186100006, 0.12005019187927246, 0.02321549691259861, 0.08752366155385971, 0.012538851238787174, 0.002169125247746706, 0.16578315198421478, 0.8317046165466309, 0.9999591708183289, 0.07564957439899445, 0.07438347488641739, 0.6950898170471191, 0.05729110166430473, 0.011711440049111843, 0.08546186238527298, 0.9029606580734253, 0.04201531037688255, 0.0547918975353241, 0.998887836933136, 0.9989909529685974, 0.9993683099746704, 0.1979411244392395, 0.009866763837635517, 0.09191669523715973, 0.23740817606449127, 0.0013848089147359133, 0.025013111531734467, 0.04232322424650192, 0.2143857330083847, 0.020252831280231476, 0.10463962703943253, 8.655055717099458e-05, 0.029946492984890938, 0.02475346066057682, 0.087742879986763, 0.06914836168289185, 0.09720616042613983, 0.0980362743139267, 0.2985084056854248, 0.027559731155633926, 0.015606112778186798, 0.04017743840813637, 0.002988404594361782, 0.09670809656381607, 0.0117875961586833, 8.30112403491512e-05, 0.08259618282318115, 0.020337752997875214, 0.023160135373473167, 0.028306832537055016, 0.9998909831047058, 0.9998555779457092, 0.9995265603065491, 0.9993657469749451, 0.47347620129585266, 0.025934403762221336, 0.43519869446754456, 0.06518272310495377, 0.9981129765510559, 0.9994983077049255, 0.0018902623560279608, 0.9700826406478882, 0.027597829699516296, 0.0015982631593942642, 0.3458641469478607, 0.637706995010376, 0.014704020693898201, 0.9986022114753723, 0.15944303572177887, 0.17012782394886017, 0.05298777297139168, 0.13183706998825073, 0.0785440132021904, 0.020192047581076622, 0.09254325181245804, 0.020889829844236374, 0.07701762020587921, 0.04361133649945259, 0.021936502307653427, 0.04378578066825867, 0.003968631383031607, 0.05420888960361481, 0.008853101171553135, 0.002485846169292927, 0.016528695821762085, 0.00013083399971947074, 0.0009594493894837797, 0.017369726672768593, 0.09779911488294601, 0.005664041731506586, 0.10535117238759995, 0.09845992177724838, 0.21882081031799316, 0.04776674881577492, 0.2212752252817154, 0.05220358446240425, 0.018030531704425812, 0.025204984471201897, 0.03483385592699051, 0.00018880137940868735, 0.0034928256645798683, 0.011139282025396824, 0.03162423148751259, 0.010761679150164127, 0.052133310586214066, 0.021466657519340515, 0.7200530171394348, 0.002862220862880349, 0.19544880092144012, 0.007973329164087772, 0.015068765729665756, 0.20555761456489563, 0.018344584852457047, 0.006387846078723669, 0.0003275818598922342, 0.7124905586242676, 0.04193047806620598, 0.06512298434972763, 0.0067823356948792934, 0.005714745726436377, 0.01249708142131567, 0.3650529384613037, 0.00012559880269691348, 0.3171370029449463, 0.2159043550491333, 0.00213517970405519, 0.009545509703457355, 0.29887881875038147, 0.6370565891265869, 0.06411933153867722, 0.018827546387910843, 0.9810142517089844, 0.30328139662742615, 0.08309079706668854, 0.07327097654342651, 0.24341826140880585, 0.054764386266469955, 0.0005665281205438077, 0.21631933748722076, 0.00018884272139985114, 0.00925329327583313, 0.0005665281205438077, 0.01548510231077671, 0.9997151494026184, 0.9994444847106934, 0.11517639458179474, 0.0367584228515625, 0.021801548078656197, 0.002788570011034608, 0.01808345317840576, 0.010393761098384857, 0.16875073313713074, 0.02053401619195938, 0.15066727995872498, 0.10351509600877762, 0.014534364454448223, 0.03768794611096382, 0.022477563470602036, 0.009295233525335789, 0.19173531234264374, 0.04918023571372032, 0.008027701638638973, 0.018590467050671577, 0.9993417263031006, 0.999102771282196, 0.9988240599632263, 0.9986698031425476, 0.9987745881080627, 0.2810664474964142, 0.7187606692314148, 0.0005959486588835716, 0.01311087142676115, 0.9859970808029175, 0.11050373315811157, 6.932480027899146e-05, 0.17580769956111908, 0.2481134682893753, 0.048042088747024536, 0.09740135073661804, 0.015043482184410095, 0.054697271436452866, 0.04443719983100891, 0.010676019825041294, 0.026828698813915253, 0.15473295748233795, 6.932480027899146e-05, 0.013518336229026318, 0.8594070672988892, 0.0022380391601473093, 0.13819891214370728, 4.6380435378523543e-05, 0.06256721168756485, 0.04447883740067482, 0.147582545876503, 0.03956251218914986, 0.07374489307403564, 0.034043241292238235, 0.2509181797504425, 0.03218802437186241, 0.0352955125272274, 0.04512816667556763, 0.0006957065779715776, 0.06544280052185059, 0.05240989476442337, 0.02968348003923893, 0.08496896177530289, 0.0012058913707733154, 0.9998580813407898, 0.9993853569030762, 0.09942672401666641, 0.0010783809702843428, 0.13199383020401, 0.07354557514190674, 0.20295128226280212, 0.10503429919481277, 0.047233082354068756, 0.009166237898170948, 0.2428513765335083, 0.025126274675130844, 0.06135987490415573, 0.9984983205795288, 0.00159240432549268, 0.07311789691448212, 0.8898886442184448, 0.031184585765004158, 0.004113711416721344, 0.05624964088201523, 0.5983501672744751, 0.057967185974121094, 0.0264072734862566, 0.18442152440547943, 0.040577031672000885, 0.01717546209692955, 0.018893009051680565, 0.999474287033081, 0.14949452877044678, 0.055809058248996735, 0.4553549885749817, 0.07876954227685928, 0.0003351895429659635, 0.0011731634149327874, 0.1416175812482834, 0.012569607235491276, 0.10390875488519669, 0.001005568541586399, 0.9995132088661194, 0.9985750913619995, 0.9994696974754333, 0.9856541156768799, 0.013808680698275566, 0.9995107650756836, 0.9992779493331909, 0.9980787038803101, 0.9992057681083679, 0.9995214343070984, 0.9992103576660156, 0.006919476669281721, 0.19506633281707764, 0.1633625477552414, 0.2706144452095032, 0.0005661390023306012, 0.017172882333397865, 0.024532688781619072, 0.03113764524459839, 0.04044748470187187, 0.0006290433229878545, 0.050071846693754196, 0.005095250904560089, 0.011826014146208763, 0.036673225462436676, 0.04711534455418587, 0.015726083889603615, 0.03535223379731178, 0.047555673867464066, 0.016468176618218422, 0.03328673914074898, 0.09810829162597656, 0.15837480127811432, 0.6934153437614441, 0.9996323585510254, 0.9986898303031921, 0.9799643754959106, 0.019299080595374107, 0.9992775917053223, 0.9989997148513794, 0.9996628761291504, 0.003913114778697491, 0.9958876967430115, 3.363799987710081e-05, 0.00030274197342805564, 0.04568039998412132, 0.14413882791996002, 0.07026977837085724, 0.016146238893270493, 0.33624541759490967, 0.03158608078956604, 0.00723216962069273, 0.17680132389068604, 0.00016818998847156763, 0.06589683890342712, 0.004810233600437641, 0.10067852586507797, 0.999765157699585, 0.22897082567214966, 0.7705586552619934, 0.9996867179870605, 0.9994335174560547, 0.040268391370773315, 0.8008213639259338, 0.15880034863948822, 0.9142327904701233, 0.08555465191602707, 0.08784034848213196, 0.09080542623996735, 0.021496795117855072, 0.2337467521429062, 6.177239993121475e-05, 0.085801862180233, 0.02291755937039852, 0.06584937870502472, 0.062266577035188675, 0.1167498305439949, 0.047070566564798355, 0.03527203947305679, 0.002594440709799528, 0.002841530367732048, 0.008215729147195816, 0.041572824120521545, 0.04540271311998367, 0.00432406784966588, 0.025264911353588104, 0.0007562732789665461, 0.9990370273590088, 0.9995206594467163, 0.7809926271438599, 0.21820946037769318, 0.9988327026367188, 0.08460116386413574, 0.4187350869178772, 0.435411274433136, 0.05958687886595726, 0.0016269454499706626, 0.998284637928009, 0.025855548679828644, 0.0060501983389258385, 0.3098011910915375, 0.010704196989536285, 0.055486008524894714, 5.1711096602957696e-05, 0.14292946457862854, 0.00020684438641183078, 0.04317876696586609, 0.0327848345041275, 0.042454808950424194, 0.08413395285606384, 0.047160521149635315, 0.0336122140288353, 0.04690196365118027, 0.010549063794314861, 0.1082313284277916, 0.9998041987419128, 0.12412804365158081, 0.8707489371299744, 0.00494041945785284, 0.0039135729894042015, 0.39451825618743896, 0.3409324288368225, 0.018815254792571068, 0.07435788959264755, 0.003612529020756483, 0.07435788959264755, 0.010687064379453659, 0.04771548509597778, 0.018815254792571068, 0.012192284688353539, 0.9988475441932678, 0.9997103214263916, 0.9985852837562561, 0.9981316328048706, 0.9164432883262634, 0.08287354558706284, 0.9997542500495911, 0.9983454346656799, 0.9993191361427307, 0.01437163446098566, 0.10191792249679565, 0.05869331583380699, 0.47206979990005493, 0.16840045154094696, 0.18452739715576172, 0.9986372590065002, 0.9990454912185669, 0.9868661761283875, 0.012666251510381699, 0.37751778960227966, 0.303679883480072, 0.029311832040548325, 0.07872320711612701, 0.10124213248491287, 0.10947736352682114, 0.5899004340171814, 0.13317279517650604, 0.023055756464600563, 0.07045770436525345, 0.18341369926929474, 0.004716983065009117, 0.9947593808174133, 0.061572685837745667, 0.06682222336530685, 0.0981007069349289, 0.009077322669327259, 0.07032191008329391, 0.6058839559555054, 0.004921440035104752, 0.04418359696865082, 0.039043426513671875, 0.0848752036690712, 0.5578931570053101, 0.1288018375635147, 0.22831925749778748, 0.9992232918739319, 0.9993124008178711, 0.998386800289154, 0.9993038773536682, 0.8537420034408569, 0.0012376061640679836, 0.14479991793632507, 0.9994623064994812, 0.6664893627166748, 0.03806568682193756, 0.2871920168399811, 0.008156932890415192, 0.9988073706626892, 0.21527105569839478, 0.22659587860107422, 0.0386434905230999, 0.009636037051677704, 0.0624852292239666, 0.00019868116942234337, 0.0702337920665741, 0.061094462871551514, 0.020464161410927773, 0.2931540608406067, 0.0021854930091649294, 0.027874551713466644, 0.030718892812728882, 0.023513227701187134, 0.0155490692704916, 0.0020858508069068193, 0.8823148608207703, 0.01782454364001751, 0.09869872778654099, 0.17858338356018066, 0.07621801644563675, 0.0030655511654913425, 0.04381934925913811, 0.08727804571390152, 0.026027129963040352, 0.09401023387908936, 0.03720737621188164, 0.0633547231554985, 0.18405328691005707, 0.006551864091306925, 0.013043619692325592, 0.02939322590827942, 0.0008415238698944449, 0.05716351419687271, 0.0006010884535498917, 0.9990877509117126, 0.9987087845802307, 0.11346573382616043, 0.10579555481672287, 0.7805067300796509, 0.16114921867847443, 0.09700435400009155, 0.05312611535191536, 0.00019676340161822736, 0.6809980869293213, 0.00708348210901022, 0.9986422061920166, 0.9983586072921753, 0.7600686550140381, 0.23972128331661224, 0.037937041372060776, 0.9616041779518127, 0.1262926161289215, 0.4871005117893219, 0.12418992817401886, 0.10651422291994095, 0.02010694146156311, 0.05085873231291771, 0.08325324952602386, 0.001248470158316195, 0.000394253758713603, 0.9990200996398926, 0.0002352787705603987, 0.11916869133710861, 0.24280768632888794, 0.10516960918903351, 0.001176393823698163, 0.28880468010902405, 0.08117116987705231, 0.01235213503241539, 0.01246977411210537, 0.0018822301644831896, 0.07905366271734238, 0.0003529181412886828, 0.05540814995765686, 0.9995710253715515, 0.9995600581169128, 0.04572783038020134, 0.9447323083877563, 0.00928483810275793, 0.9996275305747986, 0.0005630503874272108, 0.11123373359441757, 0.032156433910131454, 0.19744300842285156, 0.02396092191338539, 0.043730247765779495, 0.09765796363353729, 0.015702849254012108, 0.02483677864074707, 0.07982803136110306, 0.012449669651687145, 0.3603522479534149, 0.9994140267372131, 0.9990655779838562, 0.04715064913034439, 0.08686309307813644, 0.15431120991706848, 0.16603584587574005, 0.037569232285022736, 0.011472484096884727, 0.020171400159597397, 0.00012607124517671764, 0.004538564942777157, 0.04046887159347534, 0.04235994070768356, 0.3153041899204254, 0.07349953800439835, 0.025330323725938797, 0.41014304757118225, 0.5642068982124329, 0.9994713068008423, 0.2620706856250763, 0.0035153680946677923, 0.07663502544164658, 0.01124917808920145, 0.0006151894340291619, 0.1535336971282959, 0.06881333142518997, 0.035593099892139435, 0.23438715934753418, 0.1535336971282959, 0.9994195699691772, 0.9978053569793701, 0.9997760057449341, 0.9976792931556702, 0.9986526370048523, 0.09048455208539963, 0.06182704493403435, 0.14243389666080475, 0.027559984475374222, 0.006463182158768177, 0.014511672779917717, 0.464007705450058, 0.03938882797956467, 0.04365696758031845, 0.01060937438160181, 0.0014633620157837868, 0.00024389366444665939, 0.09719162434339523, 0.04830975458025932, 0.11813678592443466, 0.02054552733898163, 0.08003038167953491, 0.06774470955133438, 0.1616572141647339, 0.003262296551838517, 0.00010411584662506357, 0.02870126999914646, 0.009543952532112598, 0.028770679607987404, 0.06371890008449554, 0.07721925526857376, 0.03810640051960945, 0.005518140271306038, 0.24824689328670502, 0.0001388211385346949, 0.00020823169325012714, 0.047947097569704056, 0.000809370307251811, 0.34563350677490234, 0.14248155057430267, 0.04963058978319168, 0.020363757386803627, 0.06209489330649376, 0.03512667119503021, 0.01029519084841013, 0.037781406193971634, 0.00851457566022873, 0.02952582947909832, 0.003820227924734354, 0.001424491754733026, 0.1535213589668274, 0.030108576640486717, 0.020881755277514458, 0.9997323155403137, 0.9994828104972839, 0.9990925788879395, 0.9997473359107971, 0.9999102354049683, 0.07782188057899475, 0.4359440207481384, 0.2520013749599457, 0.00792368222028017, 0.04938151687383652, 0.012027017772197723, 0.1649823784828186, 0.9988601207733154, 0.9993715286254883, 0.9992024302482605, 0.9983599781990051, 0.0003878534189425409, 4.848167736781761e-05, 0.03645822033286095, 0.8188555240631104, 0.10326597094535828, 0.020022932440042496, 0.020944084972143173, 0.007226133719086647, 0.9910126328468323, 0.9987536668777466, 0.0807090774178505, 0.6327261328697205, 0.28647589683532715, 0.9984455704689026, 0.0009436899563297629, 0.9880434274673462, 0.01038058940321207, 0.1906399130821228, 0.8092172741889954, 0.9990633726119995, 0.0946088656783104, 7.812457624822855e-05, 0.8746046423912048, 0.030546709895133972, 0.9989941716194153, 0.9991911053657532, 0.9992110729217529, 0.03490011394023895, 0.9588658809661865, 0.004732219036668539, 0.0011830547591671348, 0.004827000666409731, 0.001179933431558311, 0.019200734794139862, 0.04548107087612152, 0.03100007027387619, 0.002681666985154152, 0.0217751357704401, 0.06200014054775238, 0.7545138001441956, 0.05717314034700394, 0.04817759990692139, 0.08196067810058594, 0.7279518246650696, 0.14188891649246216, 0.1860121786594391, 0.0028494917787611485, 0.014280593022704124, 0.04426652193069458, 0.03581744804978371, 0.08849991112947464, 0.15450209379196167, 0.1846868246793747, 0.09800926595926285, 0.003512164345011115, 0.017196351662278175, 0.011364833451807499, 0.00019880174659192562, 0.03382943198084831, 0.12498003244400024, 0.9390806555747986, 0.06069881469011307, 0.9987560510635376, 0.003359910799190402, 0.015057377517223358, 0.005475410260260105, 0.025759315118193626, 0.05257638171315193, 0.06638934463262558, 0.08175782859325409, 0.22586067020893097, 0.08586438745260239, 0.0092708645388484, 0.00031110283453017473, 0.04566989839076996, 0.02302161045372486, 0.21472318470478058, 0.02600819803774357, 0.04927869141101837, 0.06265611201524734, 0.006844262592494488, 0.9992079138755798, 0.9995540976524353, 0.06239508464932442, 0.06458188593387604, 0.08775720000267029, 0.07496917992830276, 0.036914121359586716, 0.04461545869708061, 0.05433720722794533, 0.04421137645840645, 0.07584865391254425, 0.040218088775873184, 0.024791646748781204, 0.027881689369678497, 0.003993285354226828, 0.1053466722369194, 0.002709729364141822, 0.06001812964677811, 0.06650722026824951, 0.06952594965696335, 0.053006112575531006, 0.000356543343514204, 0.3154818117618561, 0.1992809772491455, 0.11522670835256577, 0.0011133014922961593, 0.08335845172405243, 0.007932273671030998, 0.2741504907608032, 0.0032007419504225254, 0.9833674430847168, 0.01596190594136715, 0.3144613802433014, 0.11119669675827026, 0.001966501120477915, 0.1921807825565338, 0.0008938641403801739, 0.0816991776227951, 0.023598013445734978, 0.2740587294101715, 0.9985759854316711, 0.9997221231460571, 0.998999834060669, 0.9992858171463013, 0.9995320439338684, 0.023559268563985825, 0.9749049544334412, 0.052177660167217255, 0.8565832376480103, 0.09131090342998505, 0.01222007256001234, 0.06924708187580109, 0.9178632497787476, 0.9992813467979431, 0.9994895458221436, 0.9996234178543091, 0.2528775930404663, 0.7467630505561829, 0.02726651541888714, 0.028894366696476936, 0.9436113238334656, 0.14798890054225922, 0.1259378343820572, 0.030170949175953865, 0.0005572470836341381, 0.03932572156190872, 0.08716936409473419, 0.08931874483823776, 0.0651979073882103, 0.07801458984613419, 0.05851094052195549, 0.06440184265375137, 0.022051062434911728, 0.009393593296408653, 0.1682090014219284, 0.00023882016830611974, 0.013373930007219315, 0.138105109333992, 0.8617062568664551, 0.026793645694851875, 0.18993237614631653, 0.031115202233195305, 0.7387699484825134, 0.003025089157745242, 0.0010803889017552137, 0.008210956119000912, 0.0006482333992607892, 0.03742112219333649, 0.000831580488011241, 0.9615842700004578, 0.8456204533576965, 0.0034612929448485374, 0.15069936215877533, 0.7437989711761475, 0.009446830488741398, 0.005834806710481644, 0.03750947117805481, 0.18254610896110535, 0.020560748875141144, 0.9997684359550476, 0.1333533674478531, 0.8665322661399841, 0.9068025350570679, 0.09289918094873428, 0.10151267051696777, 0.002775853732600808, 0.20496545732021332, 0.015670141205191612, 0.0697246715426445, 0.02122184820473194, 0.041399020701646805, 0.0032534198835492134, 0.07596287876367569, 0.09127484261989594, 0.03489218279719353, 0.07915659993886948, 0.0011939156102016568, 0.04390624538064003, 0.005790490657091141, 0.10354232788085938, 0.01653573103249073, 0.04387639835476875, 0.04286156967282295, 0.0004775662091560662, 0.04112617298960686, 0.1266041100025177, 0.8297810554504395, 0.0020159888081252575, 0.9994794130325317, 0.0003253513714298606, 0.9981513619422913, 0.9993857741355896, 0.9994608759880066, 0.02077464573085308, 0.1304071843624115, 0.1530330330133438, 0.003496722551062703, 0.0016455164877697825, 0.5199832320213318, 0.13760632276535034, 0.03105912357568741, 0.0020568957552313805, 0.024761980399489403, 0.2398419976234436, 0.08611137419939041, 0.035714395344257355, 0.028968341648578644, 0.15071474015712738, 0.064682736992836, 0.006349225528538227, 0.07055576890707016, 0.00015873063239268959, 0.049444593489170074, 0.006190495099872351, 0.07000020891427994, 0.03349216654896736, 0.12380989640951157, 0.008253993466496468, 0.0008730185218155384, 0.9992799162864685, 0.9759031534194946, 0.023658256977796555, 0.1977710872888565, 0.004057747311890125, 0.10991203039884567, 0.0028227807488292456, 0.025405026972293854, 0.0232879426330328, 0.07727362215518951, 0.027874961495399475, 0.031050588935613632, 0.08891759812831879, 0.011996818706393242, 0.06333614140748978, 0.03422621637582779, 0.3020375370979309, 0.9989608526229858, 0.9972233176231384, 0.002304386580362916, 0.8371166586875916, 0.044806502759456635, 0.11775367707014084, 0.9988163113594055, 0.06761940568685532, 0.043893296271562576, 0.8185506463050842, 0.06939886510372162, 0.9996731877326965, 0.2051466703414917, 0.04592195153236389, 0.0015021199360489845, 0.7057818174362183, 0.04141559451818466, 0.9981182813644409, 0.9991330504417419, 0.9993696212768555, 0.9993900060653687, 0.004903282504528761, 0.2650632858276367, 0.4551472067832947, 0.10758619755506516, 0.16724279522895813, 0.10653098672628403, 0.8933651447296143, 0.9976093769073486, 0.3809112012386322, 0.11930038779973984, 0.11197235435247421, 0.00784099567681551, 0.16011753678321838, 0.028212929144501686, 0.011211891658604145, 0.003370895516127348, 7.328033825615421e-05, 0.005862426944077015, 0.12069271504878998, 0.03121742233633995, 0.019199447706341743, 0.9993584156036377, 0.0022271566558629274, 0.9970237612724304, 0.9991785287857056, 0.9988719820976257, 0.15623266994953156, 0.4617687165737152, 0.001016297610476613, 0.005358660593628883, 0.019124874845147133, 0.2574004828929901, 0.023097673431038857, 0.0057282233610749245, 0.0002771721046883613, 0.06143981218338013, 0.008499943651258945, 0.9993925094604492, 0.9991034865379333, 0.3701702058315277, 0.6294333934783936, 0.0642027035355568, 0.042453255504369736, 0.017357734963297844, 0.8745788931846619, 0.0012547760270535946, 0.9995747804641724, 0.9995533227920532, 0.9998118877410889, 0.19454002380371094, 0.8050476908683777, 0.00025528593687340617, 0.3586767613887787, 0.0028081454802304506, 0.5720958113670349, 0.06611905992031097, 0.9988630414009094, 0.011547810398042202, 0.05184229835867882, 0.00687954667955637, 0.5906582474708557, 0.004668263718485832, 0.0017198866698890924, 0.33242952823638916, 0.21337740123271942, 0.00033815752249211073, 0.006424992810934782, 0.025699971243739128, 0.753753125667572, 0.011639276519417763, 0.1737651377916336, 0.22073425352573395, 0.01957046613097191, 0.006180147174745798, 0.008034191094338894, 0.007931188680231571, 0.39944350719451904, 0.022145526483654976, 0.03296078369021416, 0.012669301591813564, 0.03337279334664345, 0.00010300245048711076, 0.024823591113090515, 0.026574632152915, 0.03766473010182381, 0.9604506492614746, 0.9996667504310608, 0.9990924000740051, 0.998254120349884, 0.01486500445753336, 0.9832139015197754, 0.001061786082573235, 0.9991323351860046, 0.34522706270217896, 0.15537278354167938, 0.13751384615898132, 0.00013737646804656833, 0.0038465410470962524, 0.013325517065823078, 0.0913553535938263, 0.05069191753864288, 0.01909532956779003, 0.01566091738641262, 0.047944385558366776, 0.11017592996358871, 0.009753729216754436, 0.9993775486946106, 0.999859094619751, 0.9976298213005066, 0.0014313196297734976, 0.9978042840957642, 0.9988947510719299, 0.9996311068534851, 0.9543796181678772, 0.045236095786094666, 0.9987146854400635, 0.9978225827217102, 0.9995874762535095, 0.9985111951828003, 0.9800946712493896, 0.018869319930672646, 0.2689228653907776, 0.7308066487312317, 0.9995785355567932, 0.9996590614318848, 0.9992208480834961, 0.9990549087524414, 0.9990736246109009, 0.019579533487558365, 0.13281786441802979, 0.12938639521598816, 0.0006055525736883283, 0.03108503296971321, 0.47354212403297424, 0.0018166577210649848, 0.04501274228096008, 0.04400348663330078, 0.000201850853045471, 0.06640893220901489, 0.05550898611545563, 0.09725715965032578, 0.9025668501853943, 0.9991390109062195, 0.9989667534828186, 0.8450097441673279, 0.15461638569831848, 0.7724992036819458, 0.01344720833003521, 0.0020027756690979004, 0.0992804542183876, 0.11244155466556549, 0.997746467590332, 0.001829670276492834, 0.021520407870411873, 0.17904630303382874, 0.13138775527477264, 0.00026138147222809494, 0.18967582285404205, 0.3802229166030884, 0.005401883739978075, 0.0007841444457881153, 8.712715498404577e-05, 0.0778045505285263, 0.011936420574784279, 0.01699650101363659, 0.014447025954723358, 0.019715940579771996, 0.10529332607984543, 0.43281587958335876, 0.08141323924064636, 0.0019545976538211107, 0.14226071536540985, 0.09764489531517029, 0.006033757701516151, 0.00016996500198729336, 0.022860294207930565, 0.009178110398352146, 0.04920487105846405, 0.997829258441925, 0.9994738698005676, 0.05525067448616028, 0.0676899403333664, 0.2321835160255432, 0.039520084857940674, 0.01771506480872631, 0.06647989898920059, 0.039858896285295486, 0.10321687906980515, 0.0035091317258775234, 0.05583149567246437, 0.06996482610702515, 0.0002178081776946783, 0.029041090980172157, 0.00019360728038009256, 0.002226483542472124, 0.006727852858603001, 0.03351825848221779, 0.040584925562143326, 0.024055704474449158, 0.11221961677074432, 0.018295153975486755, 0.022286007180809975, 0.03780101612210274, 0.05192594975233078, 0.01825031265616417, 0.020537206903100014, 0.09797772020101547, 0.1633111536502838, 0.011299947276711464, 0.1102193295955658, 0.04663470387458801, 0.0009416622924618423, 0.014932073652744293, 0.035514120012521744, 0.00748845748603344, 0.08811268955469131, 0.04197123274207115, 0.04067084193229675, 0.0564100556075573, 0.11528637260198593, 0.9978651404380798, 0.9996375441551208, 0.9995313882827759, 0.7012230157852173, 0.14432185888290405, 0.08995846658945084, 0.007442607078701258, 0.05662853270769119, 0.9994243383407593, 0.9986254572868347, 0.23904791474342346, 0.7574607729911804, 0.003567879321053624, 0.32103434205055237, 0.14268192648887634, 0.07894717156887054, 0.45689690113067627, 0.9993940591812134, 0.9987560510635376, 0.998908519744873, 0.22076261043548584, 0.7786709666252136, 0.9983280301094055, 0.997833788394928, 0.9991252422332764, 0.9985064268112183, 0.9994584918022156, 0.2576976716518402, 0.08440332114696503, 0.05160857364535332, 0.5866807699203491, 0.0195042435079813, 0.9986819624900818, 0.25284963846206665, 0.013619535602629185, 0.07697997987270355, 0.6564024090766907, 0.9998908638954163, 0.9992998242378235, 0.7223030924797058, 0.15865616500377655, 0.00014397110498975962, 0.023755233734846115, 0.09444504976272583, 0.0007198555395007133, 0.0035301486495882273, 0.19466248154640198, 0.8013437390327454, 0.999056875705719, 0.9994972348213196, 0.17530052363872528, 0.05390907824039459, 0.003802364459261298, 0.007727633696049452, 0.0511053130030632, 0.01236728671938181, 0.06961783766746521, 0.09281609952449799, 0.055852510035037994, 0.06008503958582878, 0.07461851835250854, 0.008027213625609875, 0.09569668024778366, 0.03559627756476402, 0.005323310382664204, 0.09471344202756882, 0.024189183488488197, 0.01895805075764656, 0.04073522984981537, 0.01955721154808998, 0.9993013143539429, 0.9996197819709778, 0.9990116357803345, 0.9993385076522827, 0.999273955821991, 0.9988531470298767, 0.0007287786575034261, 0.9036855697631836, 0.09547000378370285, 0.09194478392601013, 0.24726003408432007, 0.6606659293174744, 0.06180594861507416, 0.05528786778450012, 0.0028454558923840523, 0.2644619643688202, 0.08906938135623932, 0.03166396915912628, 0.028487645089626312, 0.017866816371679306, 0.09194792807102203, 0.04076280817389488, 0.0362299308180809, 0.062335334718227386, 0.06971366703510284, 0.018230769783258438, 0.0345425084233284, 0.01111712958663702, 0.03229261562228203, 0.03034050017595291, 0.0208115316927433, 0.00019852016703225672, 0.001996217295527458, 0.1330111026763916, 0.26245003938674927, 0.2875603437423706, 0.11262868344783783, 0.008615253493189812, 0.03456607833504677, 0.02206345461308956, 0.004727883264422417, 0.015129225328564644, 0.08447150886058807, 0.00010506406397325918, 0.0008405125117860734, 0.015864674001932144, 0.002626601606607437, 0.006303844042122364, 0.007039292715489864, 0.9996329545974731, 0.9990152716636658, 0.037043407559394836, 0.5623235106468201, 0.12125388532876968, 0.0641932338476181, 0.2148977816104889, 0.2154870182275772, 0.3981758654117584, 0.06115172430872917, 0.19770857691764832, 0.04613200202584267, 0.08122910559177399, 0.08955834060907364, 0.9101482629776001, 0.9511649012565613, 0.027176139876246452, 0.020565727725625038, 0.06675184518098831, 0.9328843355178833, 0.9996650815010071, 0.04575454443693161, 0.731209397315979, 0.2227296680212021, 0.2773376405239105, 0.7221946716308594, 0.9988027811050415, 0.20767812430858612, 0.791996419429779, 0.9979598522186279, 0.2562582492828369, 0.07302664965391159, 0.17688408493995667, 0.15633022785186768, 0.0015113131375983357, 0.03143531456589699, 0.012755482457578182, 0.2917438745498657, 0.9995693564414978, 0.9994606971740723, 0.43588605523109436, 0.5523489117622375, 0.011430038139224052, 0.9995098114013672, 0.9994693398475647, 0.9996777176856995, 6.182280776556581e-05, 0.020957931876182556, 0.0532294400036335, 0.07115805149078369, 0.04061758518218994, 0.1120847538113594, 0.0385156087577343, 0.0018546843202784657, 6.182280776556581e-05, 0.17508219182491302, 0.06200827658176422, 0.008655193261802197, 0.0056258756667375565, 0.14083236455917358, 0.2693001627922058, 0.9988738894462585, 0.9995845556259155, 0.09330428391695023, 0.6542107462882996, 0.022335387766361237, 0.09474527835845947, 0.003962730057537556, 0.0453912727534771, 0.08609931915998459, 0.9994280934333801, 0.9987375140190125, 0.999088704586029, 0.9997001886367798, 0.9988009333610535, 0.6367455720901489, 0.3631677031517029, 0.999401867389679, 0.0002229343808721751, 0.6908736228942871, 0.012205656617879868, 0.29672566056251526, 0.10908126085996628, 0.08176956325769424, 0.06480320543050766, 0.23802557587623596, 0.178601935505867, 0.006372729316353798, 0.0033932714723050594, 0.00016552543092984706, 8.276271546492353e-05, 0.046595409512519836, 0.17164987325668335, 0.00041381357004866004, 0.07721761614084244, 0.021849356591701508, 0.051116980612277985, 0.19328607618808746, 0.003961565904319286, 0.01054287701845169, 0.17590630054473877, 0.030414603650569916, 0.0003194811288267374, 0.06881623715162277, 0.007987027987837791, 0.16587460041046143, 0.1654912233352661, 0.008114820346236229, 0.016804706305265427, 0.010351188480854034, 0.013545999303460121, 0.03469565138220787, 0.04274657368659973, 0.9983070492744446, 0.08116408437490463, 0.02434922568500042, 0.24646827578544617, 0.6357853412628174, 0.01217461284250021, 0.00400962820276618, 0.20637311041355133, 0.09803131967782974, 0.064808689057827, 0.01677497662603855, 0.06300844252109528, 0.03526836261153221, 0.01276534702628851, 0.0525343157351017, 0.0007364623597823083, 0.08583877980709076, 0.00032731660758145154, 0.34630095958709717, 0.013092664070427418, 0.047043077647686005, 0.054496657103300095, 0.34384214878082275, 0.02590424008667469, 0.05303037911653519, 0.09347520768642426, 0.00207722675986588, 0.07025913894176483, 0.005131972022354603, 0.30474138259887695, 0.9997513294219971, 0.9995981454849243, 0.99925297498703, 0.9998664259910583, 0.9991331696510315, 0.9975661039352417, 0.9980999827384949, 0.9990649223327637, 0.9996862411499023, 0.998853862285614, 0.9993098378181458, 0.060746803879737854, 0.0010636600200086832, 0.4818379580974579, 0.027418790385127068, 0.051882971078157425, 0.0033091644290834665, 0.0836745873093605, 0.04751014709472656, 0.12716646492481232, 0.008154726587235928, 0.058619484305381775, 0.048337437212467194, 0.0003545533400028944, 0.9977688789367676, 0.27340367436408997, 0.2087068259716034, 0.002719307318329811, 0.5148555040359497, 0.9991753697395325, 0.999903678894043, 0.03101842664182186, 0.16124755144119263, 0.004707076586782932, 0.1091076210141182, 0.5113816261291504, 0.0002413885376881808, 0.011224566958844662, 0.043691325932741165, 0.12709106504917145, 0.0002413885376881808, 0.0003107417724095285, 0.022787729278206825, 0.016987217590212822, 0.39588502049446106, 0.00010358059080317616, 0.022787729278206825, 0.13796934485435486, 0.10958826541900635, 0.22673791646957397, 0.040707170963287354, 0.026102308183908463, 0.07271265238523483, 0.23268049955368042, 0.6944058537483215, 0.9994542598724365, 0.9998258948326111, 0.9997716546058655, 0.00030381165561266243, 0.029469730332493782, 0.672639012336731, 0.0012152466224506497, 0.2916591763496399, 0.0009114349959418178, 0.003645739983767271, 0.04856893792748451, 0.032411444932222366, 0.0936652198433876, 0.10794169455766678, 0.09824720025062561, 0.017652662470936775, 0.1462373584508896, 0.15163926780223846, 0.0376204289495945, 0.0022186406422406435, 0.10152692347764969, 0.06617336720228195, 0.010466196574270725, 0.08565882593393326, 0.20660188794136047, 0.03024481050670147, 0.03336868807673454, 0.04671616479754448, 0.5605939626693726, 0.047994114458560944, 0.04927206411957741, 0.025133011862635612, 0.8341616988182068, 0.004897231236100197, 0.015507898293435574, 0.06311986595392227, 0.04380301013588905, 0.0380895733833313, 0.00531412661075592, 0.6780200600624084, 0.31634682416915894, 0.9995617270469666, 0.9985122680664062, 0.9974404573440552, 0.0019435705617070198, 0.9978042244911194, 0.9993271827697754, 0.9999114274978638, 0.9988179802894592, 0.9218844175338745, 0.07774453610181808, 0.7480273842811584, 0.15469777584075928, 0.09683077782392502, 0.999373733997345, 0.03953693434596062, 0.030365996062755585, 0.0008151945658028126, 0.0811118558049202, 0.00020379864145070314, 0.2520989179611206, 0.5957034230232239, 0.025717493146657944, 0.1353064477443695, 0.009730943478643894, 0.18836325407028198, 0.5859417915344238, 0.0002316891186637804, 0.053520187735557556, 0.0004633782373275608, 0.0009267564746551216, 0.31899821758270264, 0.02103206142783165, 0.016103046014904976, 0.2644919157028198, 0.0013399265008047223, 0.05242462456226349, 0.18328280746936798, 0.08286009728908539, 0.026511402800679207, 0.0009331631008535624, 0.005359706003218889, 0.0008374541066586971, 0.025817513465881348, 0.9641203880310059, 0.035257868468761444, 0.1612560898065567, 0.08941993117332458, 0.11307939887046814, 0.06039955094456673, 0.34438467025756836, 0.05403794348239899, 0.02087179757654667, 0.008077099919319153, 0.05739744380116463, 0.017297860234975815, 0.030735867097973824, 0.013152091763913631, 0.0009292238974012434, 0.02902037650346756, 0.08270321786403656, 0.020443491637706757, 0.029271364212036133, 0.07410766184329987, 0.004878560546785593, 0.0034846861381083727, 0.6925233006477356, 0.004181623458862305, 0.06574441492557526, 0.022301990538835526, 0.0002323124062968418, 0.9995290637016296, 0.9991633296012878, 0.05437028035521507, 0.9454205632209778, 0.9995774030685425, 0.06594802439212799, 0.4087021052837372, 0.04447100684046745, 0.15441100299358368, 0.0007185620488598943, 0.08167655020952225, 0.00918162614107132, 0.00534929521381855, 0.004630733281373978, 0.03616762161254883, 0.02674647606909275, 0.0056686559692025185, 0.005269454792141914, 0.009021945297718048, 0.08806376904249191, 0.04471052810549736, 0.009341306053102016, 0.9675145745277405, 0.03192659094929695, 0.38929322361946106, 0.5629054307937622, 0.047719813883304596, 0.01118095126003027, 0.28988543152809143, 0.10202617943286896, 0.009205006994307041, 4.819375681108795e-05, 0.09768874198198318, 4.819375681108795e-05, 0.04607323184609413, 0.11388184130191803, 0.033832017332315445, 0.0057350569404661655, 0.289596289396286, 0.0008192938403226435, 0.999501645565033, 0.0006061894237063825, 0.9990001916885376, 0.11534041166305542, 0.00042824409320019186, 0.026836629956960678, 0.03996944800019264, 0.18071900308132172, 0.00028549606213346124, 0.44423186779022217, 0.06851905584335327, 0.00028549606213346124, 0.02755036950111389, 0.05995417386293411, 0.03597250208258629, 0.697684109210968, 0.2689429223537445, 0.00014513920177705586, 0.022496575489640236, 0.010450022295117378, 0.00014513920177705586, 0.27257055044174194, 0.4755246937274933, 0.2517979145050049, 0.09667295962572098, 0.018528984859585762, 0.8837519884109497, 0.9992418885231018, 0.999349057674408, 0.9666119813919067, 0.03265581279993057, 0.9994992017745972, 0.20791509747505188, 0.012281903997063637, 0.15826110541820526, 0.18686039745807648, 0.09000881016254425, 0.013685550540685654, 0.33073413372039795, 0.9986969232559204, 0.9986591339111328, 0.9994726181030273, 0.9983581900596619, 0.2385159432888031, 0.7609505653381348, 0.010639757849276066, 0.9841775894165039, 0.004433232359588146, 0.9993815422058105, 0.02929023653268814, 0.11082792282104492, 0.04142853245139122, 0.15120095014572144, 0.5636391639709473, 0.10343939810991287, 0.9993540048599243, 0.998704731464386, 0.0012087371433153749, 0.9972081184387207, 0.9995487332344055, 0.9978554248809814, 0.9996051788330078, 0.2635459005832672, 0.4893729090690613, 0.012292913161218166, 0.23082375526428223, 0.00389128178358078, 0.5339257121086121, 0.16613630950450897, 0.2998867928981781, 0.9990484714508057, 0.053989481180906296, 0.9453902840614319, 0.005796220153570175, 0.07518038898706436, 0.08745473623275757, 0.007160036824643612, 0.03955068066716194, 0.00017047706933226436, 0.0039209723472595215, 0.3719809651374817, 0.006819082889705896, 0.0006819082773290575, 0.35203513503074646, 0.049608826637268066, 0.9987828135490417, 0.9988241791725159, 0.9997596740722656, 0.9993773698806763, 0.6964641809463501, 0.015501587651669979, 0.20373515784740448, 0.03321768715977669, 0.05093378946185112, 0.9987989068031311, 0.9994446039199829, 0.7301577925682068, 0.09873361885547638, 0.0211932472884655, 0.0306965671479702, 0.03010786697268486, 0.041713692247867584, 0.04743250459432602, 0.7887502908706665, 0.21116438508033752, 0.9991139769554138, 0.9992101192474365, 0.9987394213676453, 0.9994174838066101, 0.022689901292324066, 0.11698717623949051, 0.07673089951276779, 0.0025617629289627075, 0.39780521392822266, 0.1835930198431015, 0.011588928289711475, 0.00975909736007452, 0.11735314875841141, 0.06087236851453781, 0.01908772811293602, 0.07816878706216812, 0.0352214016020298, 0.22359909117221832, 0.015338352881371975, 0.04533335193991661, 0.01442941278219223, 0.338579922914505, 0.002613200806081295, 0.04567420482635498, 0.12066170573234558, 0.01738346554338932, 0.01976943202316761, 0.00624895840883255, 0.006930662784725428, 0.010907272808253765, 0.8820919990539551, 0.10161279141902924, 0.016161080449819565, 0.0011187518248334527, 0.00041953191976062953, 0.020696908235549927, 0.13439005613327026, 0.012306269258260727, 0.03160473704338074, 0.01664143241941929, 0.3999537527561188, 0.0012585957301780581, 0.012446113862097263, 0.12418144941329956, 0.03496099263429642, 0.10040797293186188, 0.10712048411369324, 0.002377347555011511, 0.0791487842798233, 0.3706127405166626, 0.0014443208929151297, 0.159164160490036, 0.00014443209511227906, 0.004332962911576033, 0.2241586148738861, 0.025708911940455437, 0.03307494893670082, 0.09604734182357788, 0.0040440987795591354, 0.0021664814557880163, 0.9982036352157593, 0.0007897180621512234, 0.9992905259132385, 0.005247282795608044, 0.24159830808639526, 0.06296739727258682, 0.22267459332942963, 0.05294731631875038, 0.0497654527425766, 0.02712956815958023, 0.041782885789871216, 0.021798552945256233, 0.05434286966919899, 8.373324089916423e-05, 0.00011164431634824723, 0.11912448704242706, 0.03561453893780708, 0.0010047988034784794, 0.00641954829916358, 0.04373666271567345, 0.007201058324426413, 2.7911079087061808e-05, 0.00647537037730217, 0.05155488848686218, 0.12490443885326385, 0.43323805928230286, 0.20168361067771912, 0.06029488146305084, 0.011505811475217342, 0.061290573328733444, 0.006416702643036842, 0.027326302602887154, 0.00022126561088953167, 0.000553164049051702, 0.0018807577434927225, 0.019139476120471954, 0.10802069306373596, 0.007334376219660044, 0.030745703727006912, 0.0562693327665329, 0.0006747625884599984, 0.05732548236846924, 0.09860335290431976, 0.19527043402194977, 0.05031381919980049, 0.06771095842123032, 0.0349116288125515, 0.06551064550876617, 0.031567156314849854, 0.008654563687741756, 0.05697343125939369, 0.04189395532011986, 0.0004400625766720623, 0.04195263236761093, 0.045737169682979584, 0.9844411015510559, 0.014078915119171143, 0.9995993971824646, 0.1262485533952713, 0.13910414278507233, 0.7344171404838562, 0.9989537596702576, 0.9989555478096008, 0.9993599653244019, 0.9991831183433533, 0.9990148544311523, 0.9989913702011108, 0.05163004994392395, 0.9480776190757751, 0.999283492565155, 0.9994046092033386, 0.021607715636491776, 0.03265165910124779, 0.9454576373100281, 0.0021677531767636538, 0.5271252989768982, 0.04498087987303734, 0.01318716537207365, 0.09935535490512848, 0.07587136328220367, 0.0007225843728519976, 0.0007225843728519976, 0.22689150273799896, 0.009212951175868511, 0.0001806460932129994, 0.25914913415908813, 0.05040903016924858, 0.01060730591416359, 0.05060366168618202, 0.24357877671718597, 0.024815255776047707, 0.008952955715358257, 0.07532159984111786, 0.009342214092612267, 0.0003892589302267879, 0.21000519394874573, 0.009828788228332996, 0.014402580447494984, 0.027637382969260216, 0.00506036588922143, 0.998945415019989, 0.005068417638540268, 0.07049708068370819, 0.0001535884221084416, 0.005836359690874815, 0.13531139492988586, 0.22254961729049683, 0.13392910361289978, 0.04669087752699852, 0.003378945169970393, 0.3693801462650299, 0.007218655664473772, 0.21011637151241302, 0.20158891379833221, 0.5733857154846191, 0.006139764096587896, 0.008527450263500214, 0.9990823268890381, 0.026686524972319603, 0.801449716091156, 0.057642895728349686, 0.06824634224176407, 7.116406777640805e-05, 7.116406777640805e-05, 0.0019925939850509167, 0.0013521172804757953, 0.00021349221060518175, 0.03031589277088642, 0.0119555639103055, 0.880203366279602, 0.11931026726961136, 0.41499802470207214, 0.0001700811553746462, 0.05659450590610504, 0.07872632145881653, 0.30342480540275574, 0.01014108955860138, 0.0401604138314724, 0.0035504442639648914, 0.0009992268169298768, 0.0019984536338597536, 0.01824120432138443, 4.252028884366155e-05, 0.019644374027848244, 0.0009354464127682149, 0.019856976345181465, 0.014286817982792854, 0.008737919852137566, 0.007356010377407074, 0.0001488210109528154, 0.9737942218780518, 0.026099933311343193, 0.16369055211544037, 0.8361367583274841, 0.9984480142593384, 0.9994620680809021, 0.29009202122688293, 0.6356402039527893, 0.016671955585479736, 0.04282059893012047, 0.014741518534719944, 0.10028477758169174, 0.8939447402954102, 0.004700848832726479, 0.9982007741928101, 0.7355225086212158, 0.12969107925891876, 0.06445568799972534, 0.06991362571716309, 0.9907703399658203, 0.0051070633344352245, 0.00204282533377409, 0.3713970482349396, 0.007771079428493977, 0.04158032312989235, 0.03310278058052063, 0.0001009231127682142, 0.08356433361768723, 0.016652313992381096, 0.09426218271255493, 0.08083941042423248, 0.008982157334685326, 0.09759265184402466, 0.054700326174497604, 0.0002018462255364284, 0.06953602284193039, 0.034313857555389404, 0.0053489250130951405, 0.9980241656303406, 0.3287505507469177, 0.2130671739578247, 0.3906053304672241, 0.030820365995168686, 0.01787153072655201, 0.01862063817679882, 0.9994341135025024, 0.9977346658706665, 0.9995905756950378, 0.18277637660503387, 0.8168244361877441, 0.010530877858400345, 0.9817118048667908, 0.006435536313802004, 0.0005850487505085766, 0.9992584586143494, 0.9987208843231201, 0.14355014264583588, 0.0016581699019297957, 0.6568721532821655, 0.00047376283328048885, 0.034584686160087585, 0.01042278204113245, 0.004026984330266714, 0.0291364137083292, 0.007580205332487822, 0.11157114803791046, 0.9999076128005981, 0.03564818203449249, 0.24316222965717316, 0.46110618114471436, 0.010690117254853249, 0.00468370271846652, 0.028600944206118584, 0.12116912007331848, 0.01684832014143467, 0.0482247918844223, 0.0033826741855591536, 0.026367511600255966, 0.00013010285329073668, 0.9987695813179016, 0.12144245207309723, 0.31051450967788696, 0.5334014296531677, 0.034178413450717926, 0.9996578693389893, 0.9986381530761719, 0.998144805431366, 0.9996838569641113, 0.9989692568778992, 0.997536838054657, 0.9979747533798218, 0.9994780421257019, 0.026048503816127777, 0.05597923696041107, 0.09192116558551788, 0.07200908660888672, 0.007388758473098278, 0.015904614701867104, 0.1812124252319336, 0.012147619388997555, 0.12410609424114227, 0.24695985019207, 0.04495871439576149, 0.1213509663939476, 0.6978490948677063, 0.09674433618783951, 0.09545440971851349, 0.0629483088850975, 0.04127758368849754, 0.005159697961062193, 0.00025798488059081137, 0.14170677959918976, 0.009688516147434711, 0.22792477905750275, 0.0532379075884819, 0.01487529743462801, 0.014581705443561077, 0.16783641278743744, 0.3700230121612549, 0.998572051525116, 0.9981213808059692, 0.2348494976758957, 0.27319228649139404, 0.030221562832593918, 0.1276761144399643, 0.285573810338974, 0.00998509768396616, 0.013579732738435268, 0.025029310956597328, 0.02949800342321396, 6.56971096759662e-05, 0.9266577959060669, 0.012745239771902561, 9.854567178990692e-05, 0.011825480498373508, 0.01139844860881567, 0.0072266822680830956, 3.28485548379831e-05, 0.0003941826871596277, 0.2156444489955902, 0.020325839519500732, 0.033347081393003464, 0.1473623365163803, 0.020643431693315506, 0.5405402779579163, 0.021913796663284302, 0.030014943331480026, 0.9690538644790649, 0.10009665042161942, 0.04651651531457901, 0.2046726644039154, 0.0031011009123176336, 0.028771325945854187, 0.07666610926389694, 0.05762879177927971, 0.31622615456581116, 0.044104546308517456, 0.0005168501520529389, 0.06296958029270172, 0.0013782670721411705, 0.029718885198235512, 0.0025842508766800165, 0.020243298262357712, 0.004737793002277613, 0.7896205186843872, 0.18997298181056976, 0.0001450175477657467, 0.0018852280918508768, 0.018417228013277054, 0.9990414977073669, 0.00035191047936677933, 0.2906780540943146, 0.06287466734647751, 0.04586566612124443, 0.057478711009025574, 0.12809541821479797, 0.022756876423954964, 0.34193968772888184, 0.049853984266519547, 0.25327348709106445, 0.02355775237083435, 0.11358597129583359, 0.06857186555862427, 0.001769596477970481, 0.0007741984445601702, 0.0006635986501350999, 0.023778952658176422, 0.02488495036959648, 0.3503800928592682, 0.13869212567806244, 0.64361971616745, 0.35628947615623474, 0.07457395642995834, 0.9248063564300537, 0.0009248688584193587, 0.9674128293991089, 0.031445540487766266, 0.022786829620599747, 0.2654357850551605, 0.06554512679576874, 0.08560457825660706, 0.024370471015572548, 0.06827250868082047, 0.0529639832675457, 0.01662822626531124, 0.14982999861240387, 0.004838902037590742, 0.016892166808247566, 0.03835929557681084, 0.0010557604255154729, 0.0271858312189579, 0.01002972386777401, 0.023226730525493622, 0.0773344486951828, 0.04962074011564255, 0.999210000038147, 0.05341142788529396, 0.0539473295211792, 0.0003572670975700021, 0.407641738653183, 0.07609789073467255, 0.019828323274850845, 0.0016077018808573484, 0.1591624915599823, 0.0003572670975700021, 0.2274004966020584, 0.9994857311248779, 0.8193771839141846, 0.034758005291223526, 0.14529985189437866, 0.9984779953956604, 0.0018013778608292341, 0.9973628520965576, 0.05974692851305008, 0.6171464323997498, 0.22235159575939178, 0.0874737948179245, 0.01305846031755209, 0.9995546340942383, 0.9998258948326111, 0.9573898911476135, 0.04219900071620941, 0.9993520975112915, 0.005089377518743277, 0.09185115247964859, 0.025871003046631813, 0.004786438774317503, 0.2857927978038788, 0.00078764179488644, 0.10372636467218399, 0.055074337869882584, 0.021023977547883987, 0.02193279378116131, 0.0018782226834446192, 0.16249656677246094, 0.06186017394065857, 0.15783129632472992, 0.9994480013847351, 0.9997668266296387, 0.009177233092486858, 0.6002851724624634, 0.020354632288217545, 0.018236808478832245, 0.01847212202847004, 0.018119152635335922, 0.031532030552625656, 0.00011765683302655816, 0.0032943913247436285, 0.08800730854272842, 0.1291871964931488, 0.014707104302942753, 0.04847461357712746, 0.08124025911092758, 0.02100442722439766, 0.6150304675102234, 0.030204713344573975, 0.18192264437675476, 0.022740330547094345, 0.007985154166817665, 0.006075660698115826, 0.033676519989967346, 0.033550892025232315, 0.09580643475055695, 0.010736285708844662, 0.012227436527609825, 0.2233743816614151, 0.0058154878206551075, 0.015209738165140152, 0.027660846710205078, 0.03123960830271244, 0.01767013594508171, 0.01200376357883215, 0.06352302432060242, 0.12652413547039032, 0.003205974120646715, 0.1330852061510086, 0.0709042176604271, 0.11735356599092484, 0.03673545643687248, 0.021605849266052246, 0.08262033015489578, 0.08939971774816513, 0.03477880358695984, 0.12258012592792511, 0.007743933703750372, 0.03731418401002884, 0.09675782918930054, 0.06456952542066574, 0.07446301728487015, 0.06076645478606224, 0.011739913374185562, 0.003499927232041955, 0.08843516558408737, 0.08317150175571442, 0.03144422918558121, 0.043101467192173004, 0.002204678487032652, 0.007054971531033516, 0.9992736577987671, 0.9994848966598511, 0.027114886790513992, 0.3533365726470947, 0.003941912204027176, 0.015357506461441517, 0.05457155779004097, 0.0200969148427248, 0.054115843027830124, 0.09524388611316681, 0.0908006876707077, 0.04390788823366165, 0.03798362612724304, 0.028892165049910545, 0.012828303501009941, 0.05099421367049217, 0.04992328956723213, 0.0008886391296982765, 0.019299419596791267, 0.03677598759531975, 0.0038963407278060913, 0.9939753413200378, 0.005901728756725788, 0.9992806911468506, 0.9982424378395081, 0.9996227025985718, 0.0016216415679082274, 0.22135406732559204, 0.003243283135816455, 0.05135198310017586, 0.03040577843785286, 0.006351429503411055, 0.004459514282643795, 0.012027174234390259, 0.10297423601150513, 0.17121832072734833, 0.3941940367221832, 0.0006756839575245976, 0.01822691410779953, 0.1822691559791565, 0.1863000988960266, 0.5382197499275208, 0.07273240387439728, 0.002103105653077364, 0.9984208345413208, 0.9997744560241699, 0.9986026883125305, 0.9984750151634216, 0.9992688894271851, 0.9992110133171082], \"Term\": [\"000\", \"000\", \"000\", \"000\", \"000\", \"000\", \"000\", \"000\", \"000\", \"000\", \"000\", \"000\", \"000\", \"100\", \"100\", \"100\", \"100\", \"100\", \"100\", \"100\", \"100\", \"11\", \"11\", \"11\", \"11\", \"11\", \"11\", \"11\", \"11\", \"11\", \"11\", \"11\", \"12\", \"12\", \"12\", \"12\", \"12\", \"12\", \"130\", \"14\", \"14\", \"14\", \"19\", \"19\", \"200\", \"200\", \"200\", \"200\", \"200\", \"200\", \"2001\", \"2005\", \"2010\", \"2010\", \"2010\", \"2012\", \"2012\", \"2012\", \"2012\", \"2012\", \"2012\", \"2012\", \"2014\", \"2014\", \"2014\", \"2014\", \"2014\", \"2014\", \"2014\", \"2014\", \"2014\", \"2014\", \"2014\", \"2014\", \"2014\", \"2015\", \"2015\", \"2015\", \"2015\", \"2015\", \"2015\", \"2015\", \"2015\", \"300\", \"300\", \"300\", \"300\", \"349\", \"350\", \"4\", \"4\", \"4\", \"4\", \"4\", \"4\", \"4\", \"400\", \"400\", \"45\", \"5\", \"5\", \"5\", \"5\", \"5\", \"5\", \"5\", \"5\", \"5\", \"5\", \"5\", \"5\", \"55\", \"6\", \"6\", \"6\", \"6\", \"6\", \"9\", \"9\", \"9\", \"9\", \"9\", \"9\", \"9\", \"9\", \"9\", \"9\", \"9\", \"999\", \"9to5mac\", \"aaron\", \"abandoned\", \"abdel\", \"abdi\", \"abdomen\", \"abdullah\", \"abou\", \"abrams\", \"absence\", \"absence\", \"abu\", \"abu\", \"abubakar\", \"accent\", \"accent\", \"according\", \"according\", \"according\", \"according\", \"according\", \"according\", \"according\", \"according\", \"according\", \"according\", \"according\", \"according\", \"according\", \"according\", \"according\", \"according\", \"according\", \"according\", \"according\", \"according\", \"account\", \"account\", \"account\", \"account\", \"account\", \"account\", \"accused\", \"accused\", \"accused\", \"accused\", \"active\", \"active\", \"active\", \"actively\", \"actor\", \"actor\", \"advancing\", \"affair\", \"affair\", \"affiliate\", \"afghanistan\", \"africa\", \"africa\", \"africa\", \"africa\", \"age\", \"age\", \"age\", \"age\", \"age\", \"age\", \"age\", \"age\", \"aggression\", \"agreed\", \"agreed\", \"agreed\", \"agreement\", \"ahmadu\", \"aiming\", \"air\", \"air\", \"air\", \"air\", \"air\", \"air\", \"air\", \"air\", \"air\", \"air\", \"airbus\", \"aircraft\", \"aircraft\", \"aircraft\", \"airliner\", \"airport\", \"airport\", \"airport\", \"airport\", \"airstrike\", \"airstrike\", \"al\", \"al\", \"al\", \"al\", \"al\", \"alan\", \"alan\", \"alarm\", \"alone\", \"alone\", \"alone\", \"also\", \"also\", \"also\", \"also\", \"also\", \"also\", \"also\", \"also\", \"also\", \"also\", \"also\", \"also\", \"also\", \"also\", \"also\", \"also\", \"also\", \"also\", \"also\", \"also\", \"although\", \"although\", \"although\", \"although\", \"although\", \"although\", \"although\", \"although\", \"although\", \"although\", \"although\", \"although\", \"although\", \"aluminum\", \"amazon\", \"amazon\", \"american\", \"american\", \"american\", \"american\", \"american\", \"american\", \"american\", \"american\", \"american\", \"anchor\", \"animal\", \"animal\", \"ankle\", \"anna\", \"announced\", \"announced\", \"announced\", \"announced\", \"announced\", \"announced\", \"announced\", \"announced\", \"announced\", \"announced\", \"announcing\", \"ansar\", \"ansi\", \"anywhere\", \"app\", \"app\", \"app\", \"appalled\", \"appears\", \"appears\", \"appears\", \"appears\", \"appears\", \"appears\", \"appears\", \"appears\", \"appears\", \"appears\", \"appears\", \"appears\", \"appears\", \"appears\", \"apple\", \"apple\", \"apprehended\", \"apprehended\", \"apps\", \"aqap\", \"arcuri\", \"area\", \"area\", \"area\", \"area\", \"area\", \"area\", \"area\", \"area\", \"area\", \"area\", \"area\", \"area\", \"area\", \"arizona\", \"arm\", \"arm\", \"arm\", \"arm\", \"arm\", \"arm\", \"arm\", \"arrest\", \"arrest\", \"arrest\", \"arrest\", \"arrest\", \"arrival\", \"arrival\", \"article\", \"article\", \"article\", \"article\", \"article\", \"article\", \"article\", \"article\", \"article\", \"artist\", \"artist\", \"ashton\", \"assembly\", \"asteroid\", \"attack\", \"attack\", \"attack\", \"attack\", \"attack\", \"attack\", \"attack\", \"attack\", \"attack\", \"attorney\", \"attract\", \"au\", \"au\", \"au\", \"auction\", \"audio\", \"audio\", \"australian\", \"australian\", \"author\", \"autopsy\", \"babici\", \"back\", \"back\", \"back\", \"back\", \"back\", \"back\", \"back\", \"back\", \"back\", \"back\", \"back\", \"back\", \"back\", \"back\", \"back\", \"back\", \"back\", \"baghdadi\", \"bakr\", \"bale\", \"bali\", \"band\", \"band\", \"bank\", \"banksy\", \"banksy\", \"barack\", \"barack\", \"bary\", \"batman\", \"batman\", \"batmobile\", \"battery\", \"bay\", \"become\", \"become\", \"become\", \"become\", \"become\", \"become\", \"become\", \"become\", \"become\", \"become\", \"become\", \"become\", \"become\", \"become\", \"beggar\", \"behaviour\", \"beheading\", \"beheading\", \"beirut\", \"believed\", \"believed\", \"believed\", \"believed\", \"believed\", \"believed\", \"believed\", \"believed\", \"believed\", \"believed\", \"believed\", \"believed\", \"belonging\", \"belonging\", \"belonging\", \"belonging\", \"ben\", \"benghazi\", \"beside\", \"bibeau\", \"big\", \"big\", \"big\", \"big\", \"big\", \"big\", \"big\", \"big\", \"big\", \"big\", \"bill\", \"bill\", \"bill\", \"bill\", \"billion\", \"billion\", \"bin\", \"biography\", \"biological\", \"biological\", \"biopic\", \"bird\", \"bishop\", \"bite\", \"blasio\", \"blasio\", \"blast\", \"blast\", \"bloodshed\", \"blue\", \"blumenthal\", \"board\", \"board\", \"bogus\", \"boko\", \"book\", \"book\", \"book\", \"border\", \"border\", \"bos\", \"bosnia\", \"box\", \"box\", \"box\", \"box\", \"boy\", \"boy\", \"boy\", \"boy\", \"boyle\", \"bratton\", \"bratton\", \"brian\", \"brian\", \"bright\", \"bringbackourgirls\", \"britain\", \"britain\", \"britain\", \"british\", \"british\", \"british\", \"british\", \"british\", \"brooklyn\", \"brooklyn\", \"brown\", \"browser\", \"brush\", \"bug\", \"building\", \"building\", \"building\", \"building\", \"building\", \"building\", \"bureau\", \"burger\", \"burrowed\", \"bus\", \"buy\", \"cable\", \"cage\", \"cage\", \"caliph\", \"call\", \"call\", \"call\", \"call\", \"call\", \"call\", \"call\", \"call\", \"call\", \"call\", \"call\", \"called\", \"called\", \"called\", \"called\", \"called\", \"called\", \"called\", \"called\", \"called\", \"called\", \"called\", \"called\", \"called\", \"called\", \"called\", \"called\", \"called\", \"called\", \"calm\", \"cameron\", \"cameron\", \"campus\", \"canada\", \"canada\", \"canadian\", \"capacity\", \"capital\", \"capital\", \"capital\", \"capital\", \"capital\", \"capital\", \"capital\", \"capital\", \"capsule\", \"captive\", \"captive\", \"captive\", \"captor\", \"capture\", \"capture\", \"capture\", \"captured\", \"captured\", \"captured\", \"captured\", \"captured\", \"car\", \"car\", \"car\", \"car\", \"career\", \"career\", \"career\", \"career\", \"carlisle\", \"case\", \"case\", \"case\", \"case\", \"case\", \"case\", \"case\", \"case\", \"case\", \"case\", \"case\", \"castro\", \"catfish\", \"catholic\", \"caucus\", \"caught\", \"caught\", \"caught\", \"caught\", \"caught\", \"caught\", \"caught\", \"caught\", \"caught\", \"cc\", \"cctv\", \"cctvnews\", \"cdc\", \"cease\", \"ceasefire\", \"ceremonial\", \"certificate\", \"certificate\", \"cesar\", \"chad\", \"chamber\", \"chandler\", \"chat\", \"chibok\", \"chicken\", \"child\", \"child\", \"child\", \"child\", \"child\", \"child\", \"child\", \"child\", \"child\", \"child\", \"chinese\", \"chinese\", \"chinese\", \"chinese\", \"chip\", \"chlorine\", \"christian\", \"christian\", \"christian\", \"christian\", \"christian\", \"christmas\", \"christmas\", \"christy\", \"church\", \"church\", \"church\", \"church\", \"church\", \"cirillo\", \"city\", \"city\", \"city\", \"city\", \"city\", \"city\", \"city\", \"city\", \"city\", \"city\", \"city\", \"city\", \"city\", \"civilian\", \"civilian\", \"civilian\", \"claim\", \"claim\", \"claim\", \"claim\", \"claim\", \"claim\", \"claim\", \"claim\", \"claim\", \"claim\", \"claim\", \"claim\", \"claim\", \"classmate\", \"cleric\", \"cleric\", \"client\", \"close\", \"close\", \"close\", \"close\", \"close\", \"close\", \"close\", \"cn\", \"cnn\", \"cnn\", \"co\", \"co\", \"co\", \"co\", \"co\", \"co\", \"co\", \"co\", \"co\", \"co\", \"co\", \"co\", \"coalition\", \"com\", \"com\", \"com\", \"com\", \"com\", \"com\", \"com\", \"com\", \"com\", \"com\", \"com\", \"com\", \"comcast\", \"comcast\", \"command\", \"command\", \"commercial\", \"commissioner\", \"commissioner\", \"common\", \"common\", \"common\", \"common\", \"company\", \"company\", \"company\", \"company\", \"company\", \"company\", \"company\", \"company\", \"company\", \"company\", \"complaint\", \"complaint\", \"complaint\", \"complete\", \"complete\", \"complete\", \"completely\", \"conal\", \"condition\", \"condition\", \"condition\", \"condition\", \"condom\", \"confirming\", \"confirms\", \"congressman\", \"conspiracy\", \"constantine\", \"consumer\", \"contacted\", \"contacted\", \"content\", \"content\", \"contracted\", \"controller\", \"convinced\", \"convinced\", \"cook\", \"cooke\", \"cool\", \"cool\", \"cost\", \"cost\", \"could\", \"could\", \"could\", \"could\", \"could\", \"could\", \"could\", \"could\", \"could\", \"could\", \"could\", \"could\", \"could\", \"could\", \"could\", \"could\", \"could\", \"could\", \"could\", \"country\", \"country\", \"country\", \"country\", \"country\", \"country\", \"country\", \"country\", \"country\", \"country\", \"country\", \"country\", \"court\", \"court\", \"court\", \"court\", \"crater\", \"creature\", \"creature\", \"creature\", \"credit\", \"crime\", \"crime\", \"crime\", \"crime\", \"criminality\", \"crossed\", \"cruel\", \"cuba\", \"cuba\", \"culkin\", \"customer\", \"customer\", \"customer\", \"customer\", \"dallas\", \"dallas\", \"dan\", \"danny\", \"dark\", \"darkness\", \"darkness\", \"darren\", \"dating\", \"dating\", \"david\", \"david\", \"david\", \"david\", \"david\", \"david\", \"david\", \"david\", \"day\", \"day\", \"day\", \"day\", \"day\", \"day\", \"day\", \"day\", \"day\", \"day\", \"day\", \"day\", \"day\", \"day\", \"day\", \"day\", \"day\", \"de\", \"de\", \"de\", \"de\", \"de\", \"deadly\", \"deadly\", \"deadly\", \"deadly\", \"deal\", \"deal\", \"deal\", \"deal\", \"deal\", \"deal\", \"deal\", \"deal\", \"death\", \"death\", \"death\", \"death\", \"death\", \"death\", \"death\", \"death\", \"death\", \"death\", \"deepdotweb\", \"deepest\", \"deleted\", \"delight\", \"demonstrator\", \"dera\", \"detainee\", \"detroit\", \"developer\", \"developing\", \"device\", \"device\", \"device\", \"dhs\", \"diagnosed\", \"diane\", \"diarrhea\", \"dicaprio\", \"dictator\", \"died\", \"died\", \"died\", \"died\", \"died\", \"died\", \"died\", \"died\", \"died\", \"died\", \"died\", \"dinner\", \"directed\", \"disease\", \"disease\", \"disney\", \"dna\", \"doctor\", \"doctor\", \"doctor\", \"doctor\", \"document\", \"document\", \"document\", \"document\", \"document\", \"dog\", \"dog\", \"dog\", \"dog\", \"dog\", \"dollar\", \"dollar\", \"domestic\", \"domestic\", \"donation\", \"door\", \"door\", \"door\", \"door\", \"door\", \"dorian\", \"dr\", \"dr\", \"drawn\", \"drawn\", \"drone\", \"dulaimi\", \"durex\", \"dylan\", \"earth\", \"earth\", \"ebay\", \"ebola\", \"edition\", \"edition\", \"educational\", \"edward\", \"edward\", \"effectively\", \"effectively\", \"egyptian\", \"elite\", \"elite\", \"employee\", \"employee\", \"employee\", \"employee\", \"employer\", \"emwazi\", \"encounter\", \"end\", \"end\", \"end\", \"end\", \"end\", \"end\", \"end\", \"end\", \"end\", \"end\", \"end\", \"english\", \"english\", \"english\", \"entering\", \"entrance\", \"epidemic\", \"episode\", \"episode\", \"episode\", \"espn\", \"espn\", \"esquire\", \"est\", \"estate\", \"et\", \"et\", \"et\", \"et\", \"even\", \"even\", \"even\", \"even\", \"even\", \"even\", \"even\", \"even\", \"even\", \"even\", \"even\", \"even\", \"even\", \"even\", \"even\", \"even\", \"even\", \"evening\", \"evening\", \"evening\", \"evening\", \"event\", \"event\", \"event\", \"event\", \"event\", \"evidence\", \"evidence\", \"evidence\", \"evidence\", \"evidence\", \"evidence\", \"exchanged\", \"execution\", \"execution\", \"executioner\", \"exit\", \"expensive\", \"expensive\", \"experiment\", \"explanation\", \"explosive\", \"extensive\", \"eye\", \"eye\", \"eye\", \"eye\", \"f\", \"facebook\", \"facebook\", \"facebook\", \"facebook\", \"facebook\", \"facebook\", \"facebook\", \"facebook\", \"facebook\", \"fact\", \"fact\", \"fact\", \"fact\", \"fact\", \"fact\", \"fact\", \"fact\", \"fact\", \"fact\", \"fact\", \"fact\", \"fact\", \"fact\", \"factory\", \"fake\", \"fake\", \"fake\", \"fake\", \"fake\", \"fake\", \"false\", \"false\", \"family\", \"family\", \"family\", \"family\", \"family\", \"family\", \"family\", \"family\", \"family\", \"family\", \"family\", \"family\", \"family\", \"family\", \"family\", \"fast\", \"father\", \"father\", \"father\", \"father\", \"father\", \"father\", \"father\", \"father\", \"father\", \"fatwa\", \"fbi\", \"fbi\", \"fbi\", \"feature\", \"feature\", \"feature\", \"feature\", \"feature\", \"fee\", \"fee\", \"feel\", \"feel\", \"feig\", \"female\", \"female\", \"female\", \"fence\", \"ferguson\", \"ferrari\", \"fever\", \"fidel\", \"fight\", \"fight\", \"fight\", \"fight\", \"fight\", \"fight\", \"fight\", \"fight\", \"fight\", \"fight\", \"fighter\", \"fighter\", \"fighter\", \"fighter\", \"fighter\", \"fighter\", \"film\", \"film\", \"fireball\", \"fired\", \"fired\", \"fired\", \"first\", \"first\", \"first\", \"first\", \"first\", \"first\", \"first\", \"first\", \"first\", \"first\", \"first\", \"first\", \"first\", \"first\", \"first\", \"first\", \"first\", \"first\", \"fish\", \"five\", \"five\", \"five\", \"five\", \"five\", \"five\", \"five\", \"five\", \"five\", \"five\", \"five\", \"five\", \"five\", \"five\", \"five\", \"flavored\", \"florissant\", \"flown\", \"foley\", \"folk\", \"follower\", \"food\", \"food\", \"food\", \"food\", \"food\", \"food\", \"food\", \"food\", \"food\", \"food\", \"foot\", \"foot\", \"foot\", \"foot\", \"footage\", \"footage\", \"footage\", \"force\", \"force\", \"force\", \"force\", \"force\", \"force\", \"force\", \"force\", \"force\", \"found\", \"found\", \"found\", \"found\", \"found\", \"found\", \"found\", \"found\", \"found\", \"found\", \"found\", \"found\", \"found\", \"founder\", \"founder\", \"founder\", \"founder\", \"founder\", \"founder\", \"foxnewspress\", \"fractured\", \"france\", \"france\", \"france\", \"francis\", \"francis\", \"freelance\", \"friday\", \"friday\", \"friday\", \"friday\", \"friday\", \"friday\", \"friday\", \"friday\", \"friday\", \"friend\", \"friend\", \"friend\", \"friend\", \"friend\", \"friend\", \"friend\", \"friend\", \"friend\", \"friend\", \"frisco\", \"fruit\", \"future\", \"future\", \"future\", \"game\", \"game\", \"game\", \"game\", \"game\", \"game\", \"garden\", \"garden\", \"gaza\", \"gee\", \"gender\", \"genitalia\", \"genitalia\", \"german\", \"german\", \"get\", \"get\", \"get\", \"get\", \"get\", \"get\", \"get\", \"get\", \"get\", \"get\", \"get\", \"get\", \"get\", \"get\", \"get\", \"gift\", \"gill\", \"gill\", \"girl\", \"girl\", \"girl\", \"girl\", \"girl\", \"girl\", \"girl\", \"girl\", \"girlfriend\", \"glass\", \"glass\", \"glass\", \"glide\", \"glide\", \"globalpost\", \"god\", \"god\", \"god\", \"god\", \"god\", \"god\", \"godane\", \"going\", \"going\", \"going\", \"going\", \"going\", \"going\", \"going\", \"going\", \"going\", \"going\", \"going\", \"going\", \"going\", \"going\", \"gold\", \"gold\", \"goldfish\", \"gonzalez\", \"goodluck\", \"google\", \"google\", \"google\", \"google\", \"goto\", \"gout\", \"government\", \"government\", \"government\", \"government\", \"government\", \"government\", \"government\", \"government\", \"government\", \"government\", \"government\", \"graf\", \"graham\", \"grave\", \"great\", \"great\", \"great\", \"great\", \"great\", \"great\", \"grenade\", \"grenade\", \"greta\", \"group\", \"group\", \"group\", \"group\", \"group\", \"group\", \"group\", \"group\", \"group\", \"group\", \"group\", \"group\", \"group\", \"group\", \"gruesome\", \"guantanamo\", \"guard\", \"guard\", \"guerrero\", \"guilty\", \"gunfire\", \"gunfire\", \"gunman\", \"gunman\", \"gunshot\", \"haines\", \"haines\", \"hair\", \"hamele\", \"hamid\", \"hammond\", \"hampshire\", \"handle\", \"hank\", \"haram\", \"harper\", \"hassan\", \"havana\", \"hbo\", \"headline\", \"headline\", \"headline\", \"health\", \"health\", \"health\", \"health\", \"health\", \"health\", \"health\", \"heard\", \"heard\", \"heard\", \"heard\", \"heard\", \"heard\", \"heard\", \"heard\", \"heard\", \"heard\", \"heard\", \"heard\", \"heart\", \"heart\", \"heart\", \"heart\", \"heart\", \"heart\", \"heaven\", \"heaven\", \"helicopter\", \"helmet\", \"hill\", \"hill\", \"hip\", \"hoax\", \"hoax\", \"hoax\", \"hoax\", \"hole\", \"holt\", \"holy\", \"home\", \"home\", \"home\", \"home\", \"home\", \"home\", \"home\", \"home\", \"home\", \"home\", \"home\", \"homeland\", \"homeless\", \"homeless\", \"hop\", \"hospital\", \"hospital\", \"hospital\", \"hospital\", \"hospital\", \"hospital\", \"hostage\", \"hostage\", \"hostage\", \"hour\", \"hour\", \"hour\", \"hour\", \"hour\", \"hour\", \"hour\", \"hour\", \"hour\", \"hour\", \"hour\", \"hour\", \"hour\", \"hour\", \"house\", \"house\", \"house\", \"house\", \"house\", \"house\", \"house\", \"house\", \"house\", \"house\", \"house\", \"huffington\", \"hunter\", \"hurt\", \"hwang\", \"icloud\", \"identity\", \"identity\", \"identity\", \"identity\", \"identity\", \"igen\", \"iguala\", \"ikwiz\", \"il\", \"ilic\", \"ill\", \"image\", \"image\", \"image\", \"image\", \"image\", \"image\", \"image\", \"image\", \"image\", \"image\", \"image\", \"image\", \"imagine\", \"impact\", \"impact\", \"impact\", \"incident\", \"incident\", \"incident\", \"incident\", \"incident\", \"incident\", \"incident\", \"incident\", \"incident\", \"incident\", \"incinerated\", \"independence\", \"india\", \"infected\", \"infection\", \"infestation\", \"information\", \"information\", \"information\", \"information\", \"information\", \"information\", \"information\", \"information\", \"information\", \"information\", \"information\", \"information\", \"information\", \"information\", \"information\", \"information\", \"injury\", \"injury\", \"injury\", \"injury\", \"innocent\", \"innocent\", \"insect\", \"inside\", \"inside\", \"inside\", \"inside\", \"inside\", \"inside\", \"inside\", \"inside\", \"inside\", \"insurgent\", \"insurgent\", \"intelligence\", \"intelligence\", \"intelligence\", \"intelligence\", \"intelligence\", \"intelligence\", \"internet\", \"internet\", \"internet\", \"internet\", \"intruder\", \"iphone\", \"iraq\", \"iraq\", \"iraq\", \"iraq\", \"iraqi\", \"iraqi\", \"iraqi\", \"iraqi\", \"irbil\", \"isaacson\", \"isi\", \"isi\", \"isi\", \"isi\", \"isi\", \"islam\", \"islam\", \"islam\", \"islam\", \"islam\", \"islam\", \"islam\", \"islamic\", \"islamic\", \"islamic\", \"islamic\", \"islamic\", \"islamic\", \"islamist\", \"islamist\", \"islamist\", \"islamist\", \"island\", \"israel\", \"israeli\", \"issue\", \"issue\", \"issue\", \"issue\", \"issue\", \"issue\", \"issue\", \"issue\", \"issue\", \"issue\", \"issue\", \"issue\", \"j\", \"j\", \"jacket\", \"james\", \"james\", \"james\", \"james\", \"january\", \"january\", \"january\", \"january\", \"january\", \"january\", \"january\", \"january\", \"january\", \"jess\", \"jessica\", \"jetliner\", \"jihadi\", \"jihadi\", \"job\", \"job\", \"job\", \"job\", \"job\", \"job\", \"job\", \"job\", \"joe\", \"joe\", \"joe\", \"john\", \"john\", \"john\", \"john\", \"john\", \"john\", \"john\", \"john\", \"john\", \"johnson\", \"johnson\", \"join\", \"join\", \"jonathan\", \"jonathan\", \"jong\", \"jordan\", \"jordan\", \"jordanian\", \"josh\", \"josh\", \"journalist\", \"journalist\", \"journalist\", \"journalist\", \"journalist\", \"joy\", \"jumpsuit\", \"kadalim\", \"kai\", \"kansa\", \"karat\", \"kayla\", \"kenji\", \"kevin\", \"kevin\", \"kfc\", \"kidnapped\", \"kidnapped\", \"kidnapped\", \"kill\", \"kill\", \"kill\", \"kill\", \"kill\", \"kill\", \"kill\", \"killed\", \"killed\", \"killed\", \"killed\", \"killed\", \"killed\", \"killed\", \"killed\", \"killed\", \"killed\", \"killer\", \"killer\", \"killer\", \"kim\", \"kind\", \"kind\", \"kind\", \"kind\", \"kind\", \"kind\", \"king\", \"king\", \"king\", \"kirby\", \"kneeling\", \"knocked\", \"know\", \"know\", \"know\", \"know\", \"know\", \"know\", \"know\", \"know\", \"know\", \"know\", \"know\", \"know\", \"know\", \"known\", \"known\", \"known\", \"known\", \"known\", \"known\", \"known\", \"known\", \"known\", \"known\", \"known\", \"known\", \"known\", \"known\", \"known\", \"known\", \"korea\", \"korean\", \"kryaglyachenko\", \"kumar\", \"kurdish\", \"kurdish\", \"kurdish\", \"kurdish\", \"kutcher\", \"kuwait\", \"l\", \"l\", \"l\", \"la\", \"la\", \"la\", \"la\", \"land\", \"last\", \"last\", \"last\", \"last\", \"last\", \"last\", \"last\", \"last\", \"last\", \"last\", \"last\", \"last\", \"last\", \"last\", \"last\", \"last\", \"last\", \"last\", \"last\", \"later\", \"later\", \"later\", \"later\", \"later\", \"later\", \"later\", \"later\", \"later\", \"later\", \"later\", \"later\", \"later\", \"later\", \"later\", \"later\", \"later\", \"launch\", \"launch\", \"launch\", \"launch\", \"launch\", \"launch\", \"le\", \"le\", \"le\", \"le\", \"le\", \"le\", \"le\", \"leader\", \"leader\", \"leader\", \"leader\", \"leader\", \"leader\", \"leader\", \"leader\", \"leader\", \"leader\", \"leadership\", \"leadership\", \"leadership\", \"leaked\", \"leaked\", \"least\", \"least\", \"least\", \"least\", \"least\", \"least\", \"least\", \"least\", \"least\", \"least\", \"least\", \"lebanese\", \"lebanon\", \"left\", \"left\", \"left\", \"left\", \"left\", \"left\", \"left\", \"left\", \"left\", \"left\", \"left\", \"left\", \"left\", \"left\", \"left\", \"left\", \"left\", \"left\", \"lego\", \"lemon\", \"leonardo\", \"lianne\", \"library\", \"libya\", \"libya\", \"libyan\", \"libyan\", \"libyan\", \"life\", \"life\", \"life\", \"life\", \"life\", \"life\", \"life\", \"life\", \"life\", \"life\", \"life\", \"life\", \"life\", \"life\", \"light\", \"light\", \"light\", \"like\", \"like\", \"like\", \"like\", \"like\", \"like\", \"like\", \"like\", \"like\", \"like\", \"like\", \"like\", \"like\", \"like\", \"like\", \"like\", \"like\", \"lin\", \"liquor\", \"local\", \"local\", \"local\", \"local\", \"local\", \"local\", \"local\", \"local\", \"local\", \"local\", \"local\", \"lockdown\", \"london\", \"london\", \"london\", \"london\", \"london\", \"looking\", \"looking\", \"looking\", \"looking\", \"looking\", \"looking\", \"looking\", \"looking\", \"lopa\", \"lot\", \"lot\", \"lot\", \"lot\", \"lot\", \"lot\", \"lot\", \"lot\", \"lot\", \"lot\", \"louis\", \"louise\", \"lucky\", \"luke\", \"luke\", \"macaulay\", \"macbook\", \"macedonian\", \"macklemore\", \"macklemorejoinedisis\", \"madden\", \"made\", \"made\", \"made\", \"made\", \"made\", \"made\", \"made\", \"made\", \"made\", \"made\", \"made\", \"made\", \"made\", \"made\", \"made\", \"made\", \"made\", \"made\", \"magazine\", \"magazine\", \"magazine\", \"magazine\", \"magazine\", \"magnet\", \"magneto\", \"maintained\", \"maintained\", \"majed\", \"malaria\", \"male\", \"mall\", \"mall\", \"man\", \"man\", \"man\", \"man\", \"man\", \"man\", \"man\", \"man\", \"man\", \"man\", \"man\", \"man\", \"man\", \"man\", \"managua\", \"marijuana\", \"marijuana\", \"marine\", \"mashable\", \"masked\", \"masked\", \"masked\", \"mass\", \"mass\", \"may\", \"may\", \"may\", \"may\", \"may\", \"may\", \"may\", \"may\", \"may\", \"may\", \"may\", \"may\", \"may\", \"may\", \"may\", \"may\", \"may\", \"may\", \"may\", \"mayor\", \"mayor\", \"mcdonald\", \"meal\", \"meal\", \"medic\", \"medical\", \"medical\", \"medical\", \"medical\", \"medical\", \"medicine\", \"medium\", \"medium\", \"medium\", \"medium\", \"medium\", \"medium\", \"medium\", \"medium\", \"medium\", \"medium\", \"medium\", \"medium\", \"medium\", \"medium\", \"medium\", \"medium\", \"medium\", \"memorial\", \"mention\", \"mention\", \"mention\", \"message\", \"message\", \"message\", \"message\", \"message\", \"message\", \"message\", \"message\", \"message\", \"message\", \"message\", \"messaging\", \"meteorite\", \"meter\", \"metropolitan\", \"mexican\", \"mexican\", \"mexico\", \"mgm\", \"mi5\", \"michael\", \"michael\", \"michael\", \"michael\", \"michael\", \"michael\", \"micheal\", \"michelle\", \"mid\", \"mid\", \"militant\", \"militant\", \"militant\", \"militant\", \"militant\", \"militant\", \"military\", \"military\", \"military\", \"military\", \"military\", \"millan\", \"millan\", \"million\", \"million\", \"million\", \"million\", \"million\", \"million\", \"million\", \"million\", \"million\", \"ministry\", \"ministry\", \"ministry\", \"ministry\", \"missile\", \"missouri\", \"mite\", \"mm\", \"model\", \"model\", \"model\", \"mogadishu\", \"mohammed\", \"mohammed\", \"mohammed\", \"mohammed\", \"mom\", \"monday\", \"monday\", \"monday\", \"monday\", \"monday\", \"monday\", \"monday\", \"monday\", \"monday\", \"monday\", \"monday\", \"money\", \"money\", \"money\", \"money\", \"money\", \"money\", \"money\", \"month\", \"month\", \"month\", \"month\", \"month\", \"month\", \"month\", \"month\", \"month\", \"month\", \"month\", \"month\", \"month\", \"month\", \"month\", \"month\", \"month\", \"montreal\", \"mortgage\", \"mosul\", \"mosul\", \"mosul\", \"mother\", \"mother\", \"mother\", \"mother\", \"mother\", \"mother\", \"mourn\", \"mouth\", \"movie\", \"movie\", \"mp\", \"mp\", \"mr\", \"mr\", \"mr\", \"mr\", \"mr\", \"mr\", \"mr\", \"mr\", \"mr\", \"mtv\", \"much\", \"much\", \"much\", \"much\", \"much\", \"much\", \"much\", \"much\", \"much\", \"much\", \"much\", \"much\", \"much\", \"mueller\", \"munster\", \"murder\", \"murder\", \"murder\", \"mushroom\", \"name\", \"name\", \"name\", \"name\", \"name\", \"name\", \"name\", \"name\", \"name\", \"name\", \"name\", \"name\", \"nasa\", \"nathan\", \"national\", \"national\", \"national\", \"national\", \"national\", \"national\", \"national\", \"national\", \"national\", \"national\", \"national\", \"national\", \"national\", \"nbc\", \"nbc\", \"nbc\", \"neal\", \"near\", \"near\", \"near\", \"near\", \"near\", \"near\", \"near\", \"near\", \"near\", \"near\", \"needed\", \"negative\", \"nelson\", \"nenad\", \"netflix\", \"never\", \"never\", \"never\", \"never\", \"never\", \"never\", \"never\", \"never\", \"never\", \"never\", \"never\", \"never\", \"never\", \"new\", \"new\", \"new\", \"new\", \"new\", \"new\", \"new\", \"new\", \"new\", \"new\", \"new\", \"new\", \"new\", \"new\", \"new\", \"new\", \"new\", \"new\", \"news\", \"news\", \"news\", \"news\", \"news\", \"news\", \"news\", \"news\", \"news\", \"news\", \"news\", \"news\", \"news\", \"news\", \"news\", \"news\", \"news\", \"nicaragua\", \"nicaraguan\", \"nice\", \"nigeria\", \"nigerian\", \"night\", \"night\", \"night\", \"night\", \"night\", \"night\", \"night\", \"nikolaev\", \"nikolai\", \"nkis\", \"noise\", \"north\", \"north\", \"north\", \"north\", \"north\", \"north\", \"north\", \"noticed\", \"noticed\", \"noting\", \"november\", \"november\", \"november\", \"nowhere\", \"numerous\", \"numerous\", \"numerous\", \"nun\", \"nun\", \"nusra\", \"obama\", \"obama\", \"obama\", \"obama\", \"oberholtzer\", \"object\", \"observatory\", \"oct\", \"oct\", \"oct\", \"oct\", \"office\", \"office\", \"office\", \"office\", \"office\", \"office\", \"office\", \"office\", \"office\", \"office\", \"officer\", \"officer\", \"officer\", \"officer\", \"official\", \"official\", \"official\", \"official\", \"official\", \"official\", \"official\", \"official\", \"official\", \"official\", \"official\", \"official\", \"official\", \"official\", \"official\", \"officially\", \"officially\", \"ok\", \"old\", \"old\", \"old\", \"old\", \"old\", \"old\", \"old\", \"old\", \"old\", \"old\", \"old\", \"old\", \"old\", \"old\", \"old\", \"old\", \"old\", \"old\", \"oliver\", \"olsen\", \"one\", \"one\", \"one\", \"one\", \"one\", \"one\", \"one\", \"one\", \"one\", \"one\", \"one\", \"one\", \"one\", \"one\", \"one\", \"one\", \"one\", \"one\", \"one\", \"one\", \"operation\", \"operation\", \"operation\", \"operation\", \"operation\", \"operation\", \"operation\", \"operation\", \"option\", \"option\", \"organization\", \"organization\", \"organization\", \"organization\", \"organization\", \"organization\", \"organization\", \"organization\", \"oscar\", \"ottawa\", \"outbreak\", \"overweight\", \"owner\", \"pa\", \"pa\", \"paid\", \"paid\", \"paid\", \"pain\", \"pain\", \"pain\", \"palace\", \"paler\", \"panel\", \"park\", \"park\", \"parliament\", \"parliament\", \"parliament\", \"part\", \"part\", \"part\", \"part\", \"part\", \"part\", \"part\", \"part\", \"part\", \"part\", \"part\", \"part\", \"part\", \"part\", \"part\", \"part\", \"partner\", \"partner\", \"party\", \"party\", \"party\", \"party\", \"party\", \"party\", \"party\", \"party\", \"patient\", \"patient\", \"patient\", \"patrol\", \"patrol\", \"patrol\", \"paul\", \"paul\", \"paul\", \"paul\", \"paul\", \"paul\", \"pause\", \"penis\", \"penis\", \"pentagon\", \"pentagon\", \"people\", \"people\", \"people\", \"people\", \"people\", \"people\", \"people\", \"people\", \"people\", \"people\", \"people\", \"people\", \"people\", \"people\", \"people\", \"people\", \"people\", \"people\", \"people\", \"people\", \"per\", \"per\", \"per\", \"per\", \"percent\", \"percent\", \"perfectly\", \"pet\", \"phelps\", \"phone\", \"phone\", \"phone\", \"phone\", \"phone\", \"phone\", \"phone\", \"phone\", \"phone\", \"photo\", \"photo\", \"photo\", \"photo\", \"photo\", \"photo\", \"photo\", \"photo\", \"photo\", \"photo\", \"photo\", \"photo\", \"photo\", \"photo\", \"photo\", \"photo\", \"photo\", \"photojournalist\", \"pic\", \"pic\", \"picture\", \"picture\", \"picture\", \"picture\", \"picture\", \"picture\", \"picture\", \"picture\", \"picture\", \"picture\", \"picture\", \"picture\", \"picture\", \"picture\", \"pierson\", \"pilot\", \"pilot\", \"plane\", \"plane\", \"plane\", \"planet\", \"planning\", \"planning\", \"planning\", \"planning\", \"plant\", \"play\", \"play\", \"play\", \"play\", \"play\", \"plot\", \"plotting\", \"pm\", \"po\", \"police\", \"police\", \"police\", \"police\", \"police\", \"pope\", \"pope\", \"portion\", \"post\", \"post\", \"post\", \"post\", \"post\", \"post\", \"post\", \"post\", \"post\", \"post\", \"post\", \"post\", \"post\", \"pour\", \"prank\", \"prank\", \"prankster\", \"pregnancy\", \"president\", \"president\", \"president\", \"president\", \"president\", \"president\", \"president\", \"president\", \"president\", \"president\", \"president\", \"presidential\", \"pressure\", \"previously\", \"previously\", \"price\", \"price\", \"price\", \"price\", \"price\", \"priced\", \"pricing\", \"priest\", \"prison\", \"prison\", \"prisoner\", \"prisoner\", \"prisoner\", \"prisoner\", \"prisoner\", \"proclaimed\", \"product\", \"product\", \"product\", \"product\", \"product\", \"product\", \"product\", \"project\", \"project\", \"project\", \"project\", \"project\", \"public\", \"public\", \"public\", \"public\", \"public\", \"public\", \"public\", \"public\", \"public\", \"public\", \"public\", \"public\", \"public\", \"public\", \"public\", \"pulling\", \"pulling\", \"pumpkin\", \"purchase\", \"purdon\", \"purported\", \"purported\", \"purported\", \"purpose\", \"put\", \"put\", \"put\", \"put\", \"put\", \"put\", \"put\", \"put\", \"put\", \"put\", \"put\", \"put\", \"put\", \"putin\", \"pyongyang\", \"qatar\", \"qatar\", \"quarantined\", \"quebec\", \"qureshi\", \"r\", \"r\", \"rahim\", \"ram\", \"range\", \"rank\", \"raped\", \"raped\", \"rapper\", \"rapper\", \"raqqa\", \"rat\", \"razor\", \"rc\", \"rcmp\", \"really\", \"really\", \"really\", \"really\", \"really\", \"really\", \"really\", \"really\", \"really\", \"really\", \"really\", \"really\", \"recording\", \"recording\", \"recovered\", \"recovering\", \"recruit\", \"recruit\", \"region\", \"region\", \"region\", \"region\", \"region\", \"rehab\", \"release\", \"release\", \"release\", \"release\", \"release\", \"release\", \"release\", \"release\", \"release\", \"release\", \"release\", \"release\", \"released\", \"released\", \"released\", \"released\", \"released\", \"released\", \"released\", \"released\", \"released\", \"released\", \"released\", \"released\", \"released\", \"released\", \"relevance\", \"remark\", \"report\", \"report\", \"report\", \"report\", \"report\", \"report\", \"report\", \"report\", \"report\", \"report\", \"report\", \"report\", \"report\", \"report\", \"report\", \"report\", \"report\", \"report\", \"report\", \"report\", \"reported\", \"reported\", \"reported\", \"reported\", \"reported\", \"reported\", \"reported\", \"reported\", \"reported\", \"reported\", \"reported\", \"reported\", \"reported\", \"reported\", \"reported\", \"reported\", \"reported\", \"reported\", \"reported\", \"reported\", \"reproductive\", \"republican\", \"rescue\", \"research\", \"research\", \"research\", \"research\", \"research\", \"reset\", \"respect\", \"restaurant\", \"restaurant\", \"restaurant\", \"result\", \"result\", \"result\", \"result\", \"retail\", \"reveals\", \"rifle\", \"riquelme\", \"riquelme\", \"river\", \"rob\", \"robot\", \"rodent\", \"rogen\", \"role\", \"role\", \"role\", \"role\", \"role\", \"roman\", \"room\", \"room\", \"room\", \"room\", \"rosenberg\", \"rourke\", \"rumor\", \"rumor\", \"rumor\", \"rumor\", \"rumor\", \"rumor\", \"rushed\", \"rushed\", \"rushed\", \"sabah\", \"sad\", \"said\", \"said\", \"said\", \"said\", \"said\", \"said\", \"said\", \"said\", \"said\", \"said\", \"said\", \"said\", \"said\", \"said\", \"said\", \"said\", \"said\", \"said\", \"said\", \"said\", \"saja\", \"samsung\", \"sana\", \"sapphire\", \"sarajevo\", \"satire\", \"satirical\", \"satirical\", \"satirical\", \"saudi\", \"saudi\", \"saudi\", \"say\", \"say\", \"say\", \"say\", \"say\", \"say\", \"say\", \"say\", \"say\", \"say\", \"say\", \"say\", \"say\", \"say\", \"say\", \"say\", \"say\", \"say\", \"say\", \"say\", \"saying\", \"saying\", \"saying\", \"saying\", \"saying\", \"saying\", \"saying\", \"saying\", \"saying\", \"saying\", \"saying\", \"saying\", \"saying\", \"saying\", \"saying\", \"saying\", \"saying\", \"scar\", \"scenario\", \"scene\", \"scene\", \"scene\", \"scene\", \"scene\", \"school\", \"school\", \"school\", \"school\", \"school\", \"school\", \"schoolgirl\", \"schoolgirl\", \"science\", \"science\", \"science\", \"scientist\", \"scientist\", \"scorpion\", \"scotland\", \"scotland\", \"scotland\", \"scottish\", \"scottish\", \"seam\", \"secret\", \"secret\", \"secretly\", \"security\", \"security\", \"security\", \"security\", \"security\", \"security\", \"security\", \"security\", \"seeking\", \"seidel\", \"sell\", \"sell\", \"sell\", \"sensor\", \"seoul\", \"sergeant\", \"service\", \"service\", \"service\", \"service\", \"service\", \"service\", \"service\", \"service\", \"service\", \"service\", \"service\", \"service\", \"service\", \"service\", \"service\", \"seth\", \"setting\", \"sex\", \"sex\", \"sex\", \"sex\", \"sex\", \"sex\", \"sex\", \"sgt\", \"shane\", \"sharing\", \"shekau\", \"shooter\", \"shooting\", \"shooting\", \"shore\", \"shot\", \"shot\", \"shot\", \"shot\", \"show\", \"show\", \"show\", \"show\", \"show\", \"show\", \"show\", \"show\", \"show\", \"show\", \"show\", \"show\", \"show\", \"show\", \"since\", \"since\", \"since\", \"since\", \"since\", \"since\", \"since\", \"since\", \"since\", \"since\", \"since\", \"since\", \"since\", \"since\", \"since\", \"since\", \"since\", \"singh\", \"sister\", \"sister\", \"sister\", \"sister\", \"sister\", \"site\", \"site\", \"site\", \"site\", \"site\", \"site\", \"site\", \"site\", \"site\", \"site\", \"site\", \"site\", \"site\", \"site\", \"six\", \"six\", \"six\", \"six\", \"six\", \"six\", \"six\", \"six\", \"six\", \"six\", \"skin\", \"sky\", \"smartwatch\", \"smith\", \"sneeze\", \"sneezed\", \"sneezing\", \"sniper\", \"snow\", \"snowman\", \"snyder\", \"social\", \"social\", \"social\", \"social\", \"social\", \"social\", \"social\", \"social\", \"social\", \"social\", \"social\", \"social\", \"social\", \"soil\", \"soldier\", \"soldier\", \"soldier\", \"soldier\", \"somali\", \"somers\", \"something\", \"something\", \"something\", \"something\", \"something\", \"something\", \"something\", \"something\", \"something\", \"something\", \"son\", \"son\", \"son\", \"son\", \"son\", \"son\", \"son\", \"son\", \"son\", \"son\", \"son\", \"song\", \"song\", \"song\", \"sony\", \"sorkin\", \"sotloff\", \"sound\", \"sound\", \"sound\", \"sound\", \"sound\", \"sound\", \"sound\", \"source\", \"source\", \"source\", \"source\", \"source\", \"source\", \"source\", \"source\", \"source\", \"source\", \"source\", \"source\", \"source\", \"source\", \"south\", \"south\", \"south\", \"south\", \"south\", \"south\", \"south\", \"south\", \"southern\", \"southern\", \"southern\", \"southern\", \"southern\", \"southern\", \"space\", \"space\", \"space\", \"spca\", \"specie\", \"speculation\", \"speculation\", \"spends\", \"spice\", \"spider\", \"spoon\", \"sport\", \"sport\", \"st\", \"st\", \"st\", \"stainless\", \"star\", \"star\", \"star\", \"star\", \"star\", \"star\", \"star\", \"started\", \"started\", \"started\", \"started\", \"started\", \"started\", \"started\", \"started\", \"started\", \"state\", \"state\", \"state\", \"state\", \"state\", \"state\", \"state\", \"state\", \"state\", \"state\", \"state\", \"state\", \"state\", \"stated\", \"stated\", \"statement\", \"statement\", \"statement\", \"statement\", \"statement\", \"statement\", \"statement\", \"statement\", \"statement\", \"statement\", \"statement\", \"statement\", \"statement\", \"statement\", \"station\", \"station\", \"station\", \"station\", \"station\", \"station\", \"station\", \"station\", \"station\", \"station\", \"station\", \"steel\", \"stephen\", \"steve\", \"steve\", \"steven\", \"still\", \"still\", \"still\", \"still\", \"still\", \"still\", \"still\", \"still\", \"still\", \"still\", \"still\", \"still\", \"still\", \"still\", \"still\", \"still\", \"still\", \"stomach\", \"stomach\", \"store\", \"store\", \"store\", \"story\", \"story\", \"story\", \"story\", \"story\", \"story\", \"story\", \"story\", \"story\", \"story\", \"story\", \"story\", \"story\", \"strap\", \"streaming\", \"streaming\", \"street\", \"street\", \"street\", \"street\", \"street\", \"street\", \"street\", \"street\", \"street\", \"street\", \"street\", \"street\", \"strike\", \"strike\", \"strike\", \"strike\", \"strike\", \"strike\", \"student\", \"student\", \"student\", \"subscription\", \"subscription\", \"subscription\", \"sugarhill\", \"suggestion\", \"suit\", \"suit\", \"suitcase\", \"sunday\", \"sunday\", \"sunday\", \"sunday\", \"sunday\", \"sunday\", \"sunday\", \"sung\", \"sunni\", \"superman\", \"superpower\", \"supported\", \"supported\", \"supporter\", \"supporter\", \"supporter\", \"supreme\", \"sure\", \"sure\", \"sure\", \"sure\", \"sure\", \"sure\", \"suresh\", \"suspended\", \"suspension\", \"suspension\", \"susteren\", \"swimmer\", \"symptom\", \"syria\", \"syria\", \"syria\", \"syria\", \"syria\", \"syrian\", \"syrian\", \"syrian\", \"taibbi\", \"taliban\", \"taliban\", \"talk\", \"talk\", \"talk\", \"talk\", \"talk\", \"talk\", \"talk\", \"talk\", \"talk\", \"talk\", \"talk\", \"talk\", \"tan\", \"tanzania\", \"tape\", \"teacher\", \"teen\", \"teen\", \"teen\", \"teen\", \"teen\", \"teletubbies\", \"terrorism\", \"terrorist\", \"terrorist\", \"terrorist\", \"terrorist\", \"terrorist\", \"terrorist\", \"terrorist\", \"texas\", \"texas\", \"text\", \"texting\", \"theft\", \"theory\", \"thing\", \"thing\", \"thing\", \"thing\", \"thing\", \"thing\", \"thing\", \"thing\", \"thing\", \"thing\", \"think\", \"think\", \"think\", \"think\", \"think\", \"think\", \"think\", \"think\", \"think\", \"think\", \"think\", \"think\", \"think\", \"think\", \"think\", \"think\", \"thomas\", \"thomas\", \"thomas\", \"thought\", \"thought\", \"thought\", \"thought\", \"thought\", \"thought\", \"thought\", \"thought\", \"thought\", \"thought\", \"thought\", \"thought\", \"thought\", \"thought\", \"thought\", \"thursday\", \"thursday\", \"thursday\", \"thursday\", \"thursday\", \"thursday\", \"thursday\", \"thursday\", \"thursday\", \"thursday\", \"thursday\", \"thursday\", \"thus\", \"thus\", \"tiger\", \"time\", \"time\", \"time\", \"time\", \"time\", \"time\", \"time\", \"time\", \"time\", \"time\", \"time\", \"time\", \"time\", \"time\", \"time\", \"time\", \"time\", \"time\", \"time\", \"time\", \"today\", \"today\", \"today\", \"today\", \"today\", \"today\", \"today\", \"today\", \"today\", \"today\", \"today\", \"today\", \"today\", \"told\", \"told\", \"told\", \"told\", \"told\", \"told\", \"told\", \"told\", \"told\", \"told\", \"told\", \"told\", \"told\", \"told\", \"told\", \"told\", \"told\", \"told\", \"told\", \"tom\", \"tom\", \"tor\", \"tour\", \"tour\", \"tour\", \"tower\", \"trading\", \"trail\", \"trained\", \"transpired\", \"tribunal\", \"tripoli\", \"tripoli\", \"tropical\", \"truce\", \"truck\", \"truck\", \"truck\", \"true\", \"true\", \"true\", \"true\", \"true\", \"true\", \"true\", \"true\", \"true\", \"true\", \"true\", \"tuesday\", \"tuesday\", \"tuesday\", \"tuesday\", \"tuesday\", \"tuesday\", \"tuesday\", \"tuesday\", \"tuesday\", \"tuesday\", \"tuesday\", \"tuesday\", \"tuesday\", \"tuesday\", \"tuesday\", \"tunisia\", \"tv\", \"tv\", \"tv\", \"tv\", \"tv\", \"tv\", \"tv\", \"tv\", \"tv\", \"tv\", \"tv\", \"tweet\", \"tweet\", \"tweet\", \"tweet\", \"tweet\", \"twin\", \"twitter\", \"twitter\", \"twitter\", \"twitter\", \"twitter\", \"twitter\", \"twitter\", \"twitter\", \"twitter\", \"twitter\", \"twitter\", \"type\", \"type\", \"u\", \"u\", \"u\", \"u\", \"u\", \"u\", \"u\", \"u\", \"u\", \"u\", \"u\", \"u\", \"u\", \"u\", \"u\", \"u\", \"u\", \"u\", \"u\", \"un\", \"un\", \"unarmed\", \"unarmed\", \"underage\", \"une\", \"university\", \"university\", \"university\", \"university\", \"university\", \"unusual\", \"unusual\", \"unusual\", \"unverified\", \"update\", \"update\", \"update\", \"update\", \"updated\", \"updated\", \"updated\", \"used\", \"used\", \"used\", \"used\", \"used\", \"used\", \"used\", \"used\", \"used\", \"used\", \"used\", \"used\", \"used\", \"used\", \"used\", \"used\", \"useful\", \"user\", \"user\", \"user\", \"user\", \"user\", \"user\", \"v\", \"vandalism\", \"variant\", \"variety\", \"variety\", \"various\", \"various\", \"various\", \"various\", \"vatican\", \"vega\", \"version\", \"version\", \"version\", \"version\", \"version\", \"version\", \"version\", \"version\", \"version\", \"version\", \"vickers\", \"video\", \"video\", \"video\", \"video\", \"video\", \"video\", \"video\", \"video\", \"video\", \"video\", \"video\", \"video\", \"violated\", \"viral\", \"viral\", \"viral\", \"viral\", \"virus\", \"vladi\", \"vocativ\", \"vogue\", \"volley\", \"vomiting\", \"w\", \"walter\", \"want\", \"want\", \"want\", \"want\", \"want\", \"want\", \"want\", \"want\", \"want\", \"want\", \"want\", \"want\", \"wanted\", \"wanted\", \"wanted\", \"wanted\", \"wanted\", \"wanted\", \"wanted\", \"war\", \"war\", \"war\", \"war\", \"war\", \"war\", \"war\", \"war\", \"warner\", \"warren\", \"washington\", \"washington\", \"washington\", \"washington\", \"washington\", \"washington\", \"washington\", \"washington\", \"watch\", \"watch\", \"watch\", \"watch\", \"watch\", \"watch\", \"watch\", \"watch\", \"watch\", \"watch\", \"water\", \"water\", \"water\", \"water\", \"water\", \"water\", \"water\", \"wave\", \"wave\", \"way\", \"way\", \"way\", \"way\", \"way\", \"way\", \"way\", \"way\", \"way\", \"way\", \"way\", \"way\", \"way\", \"way\", \"way\", \"way\", \"weapon\", \"weapon\", \"weapon\", \"weapon\", \"weapon\", \"wearable\", \"website\", \"website\", \"website\", \"website\", \"website\", \"website\", \"website\", \"website\", \"website\", \"wednesday\", \"wednesday\", \"wednesday\", \"wednesday\", \"wednesday\", \"wednesday\", \"wednesday\", \"wednesday\", \"wednesday\", \"wednesday\", \"wednesday\", \"weekend\", \"weekend\", \"weight\", \"weight\", \"welfare\", \"welfare\", \"welfare\", \"well\", \"well\", \"well\", \"well\", \"well\", \"well\", \"well\", \"well\", \"well\", \"well\", \"well\", \"well\", \"well\", \"well\", \"well\", \"well\", \"well\", \"well\", \"wels\", \"west\", \"west\", \"west\", \"west\", \"west\", \"west\", \"west\", \"west\", \"west\", \"west\", \"westminster\", \"whatever\", \"whatever\", \"whatever\", \"whisky\", \"wide\", \"wide\", \"wife\", \"wife\", \"wife\", \"wife\", \"wife\", \"williams\", \"wilson\", \"winning\", \"winning\", \"wintour\", \"woman\", \"woman\", \"woman\", \"woman\", \"woman\", \"woman\", \"woman\", \"woman\", \"woman\", \"woman\", \"woman\", \"woman\", \"woman\", \"woman\", \"wonderful\", \"wood\", \"work\", \"work\", \"work\", \"work\", \"work\", \"work\", \"work\", \"work\", \"work\", \"work\", \"work\", \"work\", \"work\", \"working\", \"working\", \"working\", \"working\", \"working\", \"working\", \"working\", \"working\", \"working\", \"world\", \"world\", \"world\", \"world\", \"world\", \"world\", \"world\", \"world\", \"world\", \"world\", \"world\", \"world\", \"world\", \"world\", \"world\", \"world\", \"world\", \"would\", \"would\", \"would\", \"would\", \"would\", \"would\", \"would\", \"would\", \"would\", \"would\", \"would\", \"would\", \"would\", \"would\", \"would\", \"would\", \"would\", \"would\", \"would\", \"would\", \"wozniak\", \"wright\", \"year\", \"year\", \"year\", \"year\", \"year\", \"year\", \"year\", \"year\", \"year\", \"year\", \"year\", \"year\", \"year\", \"year\", \"year\", \"year\", \"year\", \"year\", \"year\", \"yemen\", \"yemen\", \"yemeni\", \"yeti\", \"yo\", \"york\", \"york\", \"york\", \"york\", \"york\", \"york\", \"york\", \"york\", \"york\", \"york\", \"york\", \"york\", \"youtube\", \"youtube\", \"youtube\", \"youtube\", \"youtube\", \"youtube\", \"ypg\", \"zehaf\", \"zeid\", \"zero\", \"zone\", \"\\u00e0\"]}, \"R\": 30, \"lambda.step\": 0.01, \"plot.opts\": {\"xlab\": \"PC1\", \"ylab\": \"PC2\"}, \"topic.order\": [18, 10, 3, 14, 9, 8, 15, 4, 13, 7, 1, 20, 2, 19, 6, 5, 17, 11, 12, 16]};\n",
       "\n",
       "function LDAvis_load_lib(url, callback){\n",
       "  var s = document.createElement('script');\n",
       "  s.src = url;\n",
       "  s.async = true;\n",
       "  s.onreadystatechange = s.onload = callback;\n",
       "  s.onerror = function(){console.warn(\"failed to load library \" + url);};\n",
       "  document.getElementsByTagName(\"head\")[0].appendChild(s);\n",
       "}\n",
       "\n",
       "if(typeof(LDAvis) !== \"undefined\"){\n",
       "   // already loaded: just create the visualization\n",
       "   !function(LDAvis){\n",
       "       new LDAvis(\"#\" + \"ldavis_el1203961859096086684504038\", ldavis_el1203961859096086684504038_data);\n",
       "   }(LDAvis);\n",
       "}else if(typeof define === \"function\" && define.amd){\n",
       "   // require.js is available: use it to load d3/LDAvis\n",
       "   require.config({paths: {d3: \"https://cdnjs.cloudflare.com/ajax/libs/d3/3.5.5/d3.min\"}});\n",
       "   require([\"d3\"], function(d3){\n",
       "      window.d3 = d3;\n",
       "      LDAvis_load_lib(\"https://cdn.rawgit.com/bmabey/pyLDAvis/files/ldavis.v1.0.0.js\", function(){\n",
       "        new LDAvis(\"#\" + \"ldavis_el1203961859096086684504038\", ldavis_el1203961859096086684504038_data);\n",
       "      });\n",
       "    });\n",
       "}else{\n",
       "    // require.js not available: dynamically load d3 & LDAvis\n",
       "    LDAvis_load_lib(\"https://cdnjs.cloudflare.com/ajax/libs/d3/3.5.5/d3.min.js\", function(){\n",
       "         LDAvis_load_lib(\"https://cdn.rawgit.com/bmabey/pyLDAvis/files/ldavis.v1.0.0.js\", function(){\n",
       "                 new LDAvis(\"#\" + \"ldavis_el1203961859096086684504038\", ldavis_el1203961859096086684504038_data);\n",
       "            })\n",
       "         });\n",
       "}\n",
       "</script>"
      ],
      "text/plain": [
       "PreparedData(topic_coordinates=           Freq  cluster  topics         x         y\n",
       "topic                                               \n",
       "17     8.472820        1       1  0.226878 -0.019106\n",
       "9      7.594943        1       2 -0.112292 -0.000422\n",
       "2      7.311407        1       3 -0.083543 -0.021565\n",
       "13     6.791108        1       4 -0.108503  0.080766\n",
       "8      6.466342        1       5  0.174058 -0.042058\n",
       "7      5.406430        1       6 -0.187085 -0.060062\n",
       "14     5.100570        1       7  0.112053  0.049263\n",
       "3      4.986405        1       8  0.218529 -0.084038\n",
       "12     4.938589        1       9 -0.117559  0.017820\n",
       "6      4.882221        1      10  0.059653 -0.100942\n",
       "0      4.623837        1      11  0.111733 -0.080455\n",
       "19     4.126440        1      12 -0.143797 -0.016096\n",
       "1      4.123426        1      13  0.024209  0.294694\n",
       "18     4.007947        1      14 -0.105914  0.023174\n",
       "5      3.879497        1      15 -0.103316 -0.141880\n",
       "4      3.818963        1      16 -0.013768  0.042428\n",
       "16     3.808404        1      17 -0.129776 -0.044186\n",
       "10     3.591984        1      18 -0.102502 -0.032554\n",
       "11     3.399824        1      19  0.109928  0.261605\n",
       "15     2.668844        1      20  0.171015 -0.126388, topic_info=     Category           Freq          Term          Total  loglift  logprob\n",
       "term                                                                       \n",
       "6     Default   44045.000000         apple   44045.000000  30.0000  30.0000\n",
       "1574  Default   30442.000000         watch   30442.000000  29.0000  29.0000\n",
       "2527  Default   22236.000000           kim   22236.000000  28.0000  28.0000\n",
       "97    Default   28784.000000            al   28784.000000  27.0000  27.0000\n",
       "1218  Default   46117.000000         video   46117.000000  26.0000  26.0000\n",
       "818   Default   34001.000000           isi   34001.000000  25.0000  25.0000\n",
       "861   Default   20626.000000         north   20626.000000  24.0000  24.0000\n",
       "353   Default   24473.000000        police   24473.000000  23.0000  23.0000\n",
       "1180  Default   16882.000000         foley   16882.000000  22.0000  22.0000\n",
       "363   Default   17942.000000          shot   17942.000000  21.0000  21.0000\n",
       "3992  Default   13910.000000         brown   13910.000000  20.0000  20.0000\n",
       "210   Default  130182.000000          said  130182.000000  19.0000  19.0000\n",
       "343   Default   26540.000000       islamic   26540.000000  18.0000  18.0000\n",
       "914   Default   41793.000000         state   41793.000000  17.0000  17.0000\n",
       "107   Default   17448.000000        border   17448.000000  16.0000  16.0000\n",
       "2895  Default   10801.000000         ebola   10801.000000  15.0000  15.0000\n",
       "944   Default   47036.000000             u   47036.000000  14.0000  14.0000\n",
       "2644  Default   12495.000000          jong   12495.000000  13.0000  13.0000\n",
       "1215  Default   22614.000000         syria   22614.000000  12.0000  12.0000\n",
       "563   Default   20635.000000      american   20635.000000  11.0000  11.0000\n",
       "296   Default   29728.000000           man   29728.000000  10.0000  10.0000\n",
       "816   Default   19261.000000          iraq   19261.000000   9.0000   9.0000\n",
       "279   Default   16631.000000          girl   16631.000000   8.0000   8.0000\n",
       "803   Default   33140.000000         group   33140.000000   7.0000   7.0000\n",
       "1621  Default   13616.000000       officer   13616.000000   6.0000   6.0000\n",
       "1785  Default   10156.000000         haram   10156.000000   5.0000   5.0000\n",
       "1737  Default   10093.000000          boko   10093.000000   4.0000   4.0000\n",
       "2649  Default   10183.000000         korea   10183.000000   3.0000   3.0000\n",
       "43    Default   11492.000000           job   11492.000000   2.0000   2.0000\n",
       "240   Default   10498.000000            un   10498.000000   1.0000   1.0000\n",
       "...       ...            ...           ...            ...      ...      ...\n",
       "8168  Topic20     478.529205       malaria     479.479614   3.6215  -6.4029\n",
       "3573  Topic20     594.342590        frisco     595.917297   3.6209  -6.1861\n",
       "1075  Topic20    4736.536621        banksy    4924.335938   3.5846  -4.1105\n",
       "2227  Topic20    1919.250610        artist    1969.004517   3.5979  -5.0139\n",
       "2904  Topic20     697.709290    biological     701.587402   3.6180  -6.0258\n",
       "3563  Topic20    3522.026367       disease    3687.610352   3.5776  -4.4068\n",
       "853   Topic20    5902.352539         mosul    7561.754395   3.3758  -3.8905\n",
       "1275  Topic20    4152.384766        health    9488.968750   2.7971  -4.2421\n",
       "1258  Topic20     851.383423        deadly    1066.490845   3.3983  -5.8267\n",
       "1724  Topic20    1866.883301        africa    3700.457031   2.9393  -5.0415\n",
       "282   Topic20    3524.307129      hospital   11174.894531   2.4695  -4.4061\n",
       "3559  Topic20     822.764893        dallas    1054.100464   3.3758  -5.8609\n",
       "400   Topic20    3225.882080          case   12429.491211   2.2747  -4.4946\n",
       "746   Topic20    3583.482666          city   16386.361328   2.1034  -4.3895\n",
       "817   Topic20    2737.913086         iraqi   10679.437500   2.2624  -4.6586\n",
       "818   Topic20    4557.306152           isi   34001.851562   1.6138  -4.1491\n",
       "816   Topic20    3309.990479          iraq   19261.035156   1.8624  -4.4689\n",
       "356   Topic20    4636.895996        report   41320.761719   1.4362  -4.1318\n",
       "58    Topic20    3771.898682      official   30180.820312   1.5439  -4.3382\n",
       "775   Topic20    1381.118042      document    3467.067383   2.7031  -5.3429\n",
       "889   Topic20    2571.432373      reported   22300.988281   1.4634  -4.7214\n",
       "758   Topic20    2120.489258       country   13757.286133   1.7536  -4.9142\n",
       "1814  Topic20    1532.959961  organization    5593.691406   2.3291  -5.2386\n",
       "847   Topic20    2352.529053      militant   21493.027344   1.4113  -4.8103\n",
       "346   Topic20    2092.689209        medium   19338.208984   1.3999  -4.9274\n",
       "101   Topic20    1680.196533          area    9741.248047   1.8661  -5.1469\n",
       "210   Topic20    2546.236816          said  130182.156250  -0.3108  -4.7312\n",
       "76    Topic20    1775.784668        source   20733.416016   1.1660  -5.0916\n",
       "694   Topic20    1573.678833         world   13412.459961   1.4808  -5.2124\n",
       "322   Topic20    1559.473145          told   34086.062500   0.5390  -5.2215\n",
       "\n",
       "[1335 rows x 6 columns], token_table=       Topic      Freq     Term\n",
       "term                           \n",
       "90         1  0.017587      000\n",
       "90         2  0.000384      000\n",
       "90         3  0.000230      000\n",
       "90         6  0.469391      000\n",
       "90         7  0.011827      000\n",
       "90         9  0.007296      000\n",
       "90        11  0.070654      000\n",
       "90        12  0.162736      000\n",
       "90        13  0.000307      000\n",
       "90        14  0.168803      000\n",
       "90        16  0.040319      000\n",
       "90        18  0.025036      000\n",
       "90        20  0.025420      000\n",
       "91         2  0.084982      100\n",
       "91         3  0.171155      100\n",
       "91         6  0.150108      100\n",
       "91         7  0.026408      100\n",
       "91        10  0.011318      100\n",
       "91        11  0.022040      100\n",
       "91        12  0.533917      100\n",
       "91        13  0.000199      100\n",
       "1993       1  0.060019       11\n",
       "1993       2  0.000216       11\n",
       "1993       3  0.138173       11\n",
       "1993       4  0.012522       11\n",
       "1993       6  0.095210       11\n",
       "1993       7  0.013817       11\n",
       "1993       8  0.003130       11\n",
       "1993       9  0.044043       11\n",
       "1993      11  0.473133       11\n",
       "...      ...       ...      ...\n",
       "88        19  0.003896     year\n",
       "9054       5  0.993975    yemen\n",
       "9054       8  0.005902    yemen\n",
       "9760       5  0.999281   yemeni\n",
       "10642     14  0.998242     yeti\n",
       "2678      10  0.999623       yo\n",
       "960        1  0.001622     york\n",
       "960        2  0.221354     york\n",
       "960        3  0.003243     york\n",
       "960        4  0.051352     york\n",
       "960        5  0.030406     york\n",
       "960        7  0.006351     york\n",
       "960       10  0.004460     york\n",
       "960       11  0.012027     york\n",
       "960       13  0.102974     york\n",
       "960       14  0.171218     york\n",
       "960       17  0.394194     york\n",
       "960       20  0.000676     york\n",
       "1337       1  0.018227  youtube\n",
       "1337       4  0.182269  youtube\n",
       "1337       5  0.186300  youtube\n",
       "1337      12  0.538220  youtube\n",
       "1337      14  0.072732  youtube\n",
       "1337      18  0.002103  youtube\n",
       "4599       8  0.998421      ypg\n",
       "5006      19  0.999774    zehaf\n",
       "17153      8  0.998603     zeid\n",
       "2064       3  0.998475     zero\n",
       "4835       5  0.999269     zone\n",
       "15670     15  0.999211        à\n",
       "\n",
       "[4040 rows x 3 columns], R=30, lambda_step=0.01, plot_opts={'xlab': 'PC1', 'ylab': 'PC2'}, topic_order=[18, 10, 3, 14, 9, 8, 15, 4, 13, 7, 1, 20, 2, 19, 6, 5, 17, 11, 12, 16])"
      ]
     },
     "execution_count": 50,
     "metadata": {},
     "output_type": "execute_result"
    }
   ],
   "source": [
    "pyLDAvis.gensim.prepare(ldamodel, corpus, dictionary)"
   ]
  },
  {
   "cell_type": "markdown",
   "metadata": {},
   "source": [
    "## LDA Headline"
   ]
  },
  {
   "cell_type": "code",
   "execution_count": 51,
   "metadata": {},
   "outputs": [],
   "source": [
    "dictionary = corpora.Dictionary(list(df_all['Headline']))\n",
    "\n",
    "corpus = [dictionary.doc2bow(text) for text in df_all['Headline']]\n",
    "\n",
    "ldamodel = models.ldamodel.LdaModel(corpus,                     # pass in our corpus\n",
    "                                    id2word = dictionary,       # matches each word to its \"number\" or \"spot\" in the dictionary\n",
    "                                    num_topics = 20,             # number of topics T to find\n",
    "                                    passes = 5,                 # number of passes through corpus; similar to number of epochs\n",
    "                                    minimum_probability = 0.01) # only include topics above this probability threshold"
   ]
  },
  {
   "cell_type": "code",
   "execution_count": 52,
   "metadata": {},
   "outputs": [
    {
     "data": {
      "text/html": [
       "\n",
       "<link rel=\"stylesheet\" type=\"text/css\" href=\"https://cdn.rawgit.com/bmabey/pyLDAvis/files/ldavis.v1.0.0.css\">\n",
       "\n",
       "\n",
       "<div id=\"ldavis_el1203966741157048229920547\"></div>\n",
       "<script type=\"text/javascript\">\n",
       "\n",
       "var ldavis_el1203966741157048229920547_data = {\"mdsDat\": {\"Freq\": [7.175739288330078, 6.986012935638428, 6.434521198272705, 6.159083366394043, 5.968647480010986, 5.822700500488281, 5.576652526855469, 5.277154445648193, 4.846415996551514, 4.759068965911865, 4.680370330810547, 4.676739692687988, 4.4246392250061035, 4.332467079162598, 4.28141975402832, 4.159107208251953, 3.9892666339874268, 3.813821792602539, 3.670226812362671, 2.9659414291381836], \"cluster\": [1, 1, 1, 1, 1, 1, 1, 1, 1, 1, 1, 1, 1, 1, 1, 1, 1, 1, 1, 1], \"topics\": [1, 2, 3, 4, 5, 6, 7, 8, 9, 10, 11, 12, 13, 14, 15, 16, 17, 18, 19, 20], \"x\": [0.1605645436706877, -0.05530077616540467, -0.047171173981781944, 0.03337483510333699, 0.17235885897544365, 0.031228510281752928, 0.031246142855455482, 0.1909325608505671, -0.2621795808964831, 0.15068359640028703, -0.26563630415752004, -0.08066174110768595, 0.22081027580966245, -0.11229698931302902, -0.0793506581379174, -0.0788808246643595, 0.03814453718353541, 0.042447031854176046, -0.1520542401158837, 0.06174139555516295], \"y\": [-0.23676559996180416, 0.09298702398176091, 0.08003288021048158, -0.11865426314337162, 0.1333937306180808, 0.18413000684785508, -0.03935737986067704, 0.0638090394649069, 0.06800163125888015, 0.09640062231898841, 0.023131864834290392, 0.04970328137008726, -0.04485532625367671, -0.026703008500738527, -0.04112768586306496, -0.18655492564035395, -0.16517746485865803, 0.22068603451715352, -0.09338975393974659, -0.05969070740039406]}, \"tinfo\": {\"Category\": [\"Default\", \"Default\", \"Default\", \"Default\", \"Default\", \"Default\", \"Default\", \"Default\", \"Default\", \"Default\", \"Default\", \"Default\", \"Default\", \"Default\", \"Default\", \"Default\", \"Default\", \"Default\", \"Default\", \"Default\", \"Default\", \"Default\", \"Default\", \"Default\", \"Default\", \"Default\", \"Default\", \"Default\", \"Default\", \"Default\", \"Topic1\", \"Topic1\", \"Topic1\", \"Topic1\", \"Topic1\", \"Topic1\", \"Topic1\", \"Topic1\", \"Topic1\", \"Topic1\", \"Topic1\", \"Topic1\", \"Topic1\", \"Topic1\", \"Topic1\", \"Topic1\", \"Topic1\", \"Topic1\", \"Topic1\", \"Topic1\", \"Topic1\", \"Topic1\", \"Topic1\", \"Topic1\", \"Topic1\", \"Topic1\", \"Topic1\", \"Topic1\", \"Topic1\", \"Topic1\", \"Topic1\", \"Topic1\", \"Topic1\", \"Topic1\", \"Topic1\", \"Topic1\", \"Topic1\", \"Topic1\", \"Topic1\", \"Topic1\", \"Topic1\", \"Topic1\", \"Topic1\", \"Topic1\", \"Topic1\", \"Topic1\", \"Topic1\", \"Topic1\", \"Topic1\", \"Topic1\", \"Topic1\", \"Topic1\", \"Topic1\", \"Topic1\", \"Topic2\", \"Topic2\", \"Topic2\", \"Topic2\", \"Topic2\", \"Topic2\", \"Topic2\", \"Topic2\", \"Topic2\", \"Topic2\", \"Topic2\", \"Topic2\", \"Topic2\", \"Topic2\", \"Topic2\", \"Topic2\", \"Topic2\", \"Topic2\", \"Topic2\", \"Topic2\", \"Topic2\", \"Topic2\", \"Topic2\", \"Topic2\", \"Topic2\", \"Topic2\", \"Topic2\", \"Topic2\", \"Topic2\", \"Topic2\", \"Topic2\", \"Topic2\", \"Topic2\", \"Topic2\", \"Topic2\", \"Topic2\", \"Topic2\", \"Topic2\", \"Topic2\", \"Topic2\", \"Topic2\", \"Topic2\", \"Topic2\", \"Topic2\", \"Topic2\", \"Topic2\", \"Topic2\", \"Topic2\", \"Topic2\", \"Topic2\", \"Topic2\", \"Topic2\", \"Topic2\", \"Topic3\", \"Topic3\", \"Topic3\", \"Topic3\", \"Topic3\", \"Topic3\", \"Topic3\", \"Topic3\", \"Topic3\", \"Topic3\", \"Topic3\", \"Topic3\", \"Topic3\", \"Topic3\", \"Topic3\", \"Topic3\", \"Topic3\", \"Topic3\", \"Topic3\", \"Topic3\", \"Topic3\", \"Topic3\", \"Topic3\", \"Topic3\", \"Topic3\", \"Topic3\", \"Topic3\", \"Topic3\", \"Topic3\", \"Topic3\", \"Topic3\", \"Topic3\", \"Topic3\", \"Topic3\", \"Topic3\", \"Topic3\", \"Topic3\", \"Topic3\", \"Topic3\", \"Topic3\", \"Topic3\", \"Topic3\", \"Topic3\", \"Topic3\", \"Topic3\", \"Topic3\", \"Topic3\", \"Topic3\", \"Topic4\", \"Topic4\", \"Topic4\", \"Topic4\", \"Topic4\", \"Topic4\", \"Topic4\", \"Topic4\", \"Topic4\", \"Topic4\", \"Topic4\", \"Topic4\", \"Topic4\", \"Topic4\", \"Topic4\", \"Topic4\", \"Topic4\", \"Topic4\", \"Topic4\", \"Topic4\", \"Topic4\", \"Topic4\", \"Topic4\", \"Topic4\", \"Topic4\", \"Topic4\", \"Topic4\", \"Topic4\", \"Topic4\", \"Topic4\", \"Topic4\", \"Topic4\", \"Topic4\", \"Topic4\", \"Topic4\", \"Topic4\", \"Topic4\", \"Topic4\", \"Topic4\", \"Topic4\", \"Topic4\", \"Topic4\", \"Topic4\", \"Topic4\", \"Topic4\", \"Topic4\", \"Topic4\", \"Topic4\", \"Topic5\", \"Topic5\", \"Topic5\", \"Topic5\", \"Topic5\", \"Topic5\", \"Topic5\", \"Topic5\", \"Topic5\", \"Topic5\", \"Topic5\", \"Topic5\", \"Topic5\", \"Topic5\", \"Topic5\", \"Topic5\", \"Topic5\", \"Topic5\", \"Topic5\", \"Topic5\", \"Topic5\", \"Topic5\", \"Topic5\", \"Topic5\", \"Topic5\", \"Topic5\", \"Topic5\", \"Topic5\", \"Topic5\", \"Topic5\", \"Topic5\", \"Topic5\", \"Topic5\", \"Topic5\", \"Topic5\", \"Topic5\", \"Topic5\", \"Topic5\", \"Topic5\", \"Topic5\", \"Topic5\", \"Topic5\", \"Topic5\", \"Topic5\", \"Topic5\", \"Topic5\", \"Topic5\", \"Topic5\", \"Topic5\", \"Topic5\", \"Topic5\", \"Topic5\", \"Topic5\", \"Topic5\", \"Topic5\", \"Topic5\", \"Topic5\", \"Topic6\", \"Topic6\", \"Topic6\", \"Topic6\", \"Topic6\", \"Topic6\", \"Topic6\", \"Topic6\", \"Topic6\", \"Topic6\", \"Topic6\", \"Topic6\", \"Topic6\", \"Topic6\", \"Topic6\", \"Topic6\", \"Topic6\", \"Topic6\", \"Topic6\", \"Topic6\", \"Topic6\", \"Topic6\", \"Topic6\", \"Topic6\", \"Topic6\", \"Topic6\", \"Topic6\", \"Topic6\", \"Topic6\", \"Topic6\", \"Topic6\", \"Topic6\", \"Topic6\", \"Topic6\", \"Topic6\", \"Topic6\", \"Topic6\", \"Topic6\", \"Topic6\", \"Topic6\", \"Topic6\", \"Topic6\", \"Topic6\", \"Topic6\", \"Topic6\", \"Topic6\", \"Topic6\", \"Topic7\", \"Topic7\", \"Topic7\", \"Topic7\", \"Topic7\", \"Topic7\", \"Topic7\", \"Topic7\", \"Topic7\", \"Topic7\", \"Topic7\", \"Topic7\", \"Topic7\", \"Topic7\", \"Topic7\", \"Topic7\", \"Topic7\", \"Topic7\", \"Topic7\", \"Topic7\", \"Topic7\", \"Topic7\", \"Topic7\", \"Topic7\", \"Topic7\", \"Topic7\", \"Topic7\", \"Topic7\", \"Topic7\", \"Topic7\", \"Topic7\", \"Topic7\", \"Topic7\", \"Topic7\", \"Topic7\", \"Topic7\", \"Topic7\", \"Topic7\", \"Topic7\", \"Topic7\", \"Topic7\", \"Topic7\", \"Topic7\", \"Topic7\", \"Topic7\", \"Topic7\", \"Topic7\", \"Topic7\", \"Topic7\", \"Topic7\", \"Topic7\", \"Topic7\", \"Topic8\", \"Topic8\", \"Topic8\", \"Topic8\", \"Topic8\", \"Topic8\", \"Topic8\", \"Topic8\", \"Topic8\", \"Topic8\", \"Topic8\", \"Topic8\", \"Topic8\", \"Topic8\", \"Topic8\", \"Topic8\", \"Topic8\", \"Topic8\", \"Topic8\", \"Topic8\", \"Topic8\", \"Topic8\", \"Topic8\", \"Topic8\", \"Topic8\", \"Topic8\", \"Topic8\", \"Topic8\", \"Topic8\", \"Topic8\", \"Topic8\", \"Topic8\", \"Topic8\", \"Topic8\", \"Topic8\", \"Topic8\", \"Topic8\", \"Topic8\", \"Topic8\", \"Topic8\", \"Topic8\", \"Topic8\", \"Topic8\", \"Topic8\", \"Topic8\", \"Topic8\", \"Topic8\", \"Topic8\", \"Topic8\", \"Topic8\", \"Topic8\", \"Topic9\", \"Topic9\", \"Topic9\", \"Topic9\", \"Topic9\", \"Topic9\", \"Topic9\", \"Topic9\", \"Topic9\", \"Topic9\", \"Topic9\", \"Topic9\", \"Topic9\", \"Topic9\", \"Topic9\", \"Topic9\", \"Topic9\", \"Topic9\", \"Topic9\", \"Topic9\", \"Topic9\", \"Topic9\", \"Topic9\", \"Topic9\", \"Topic9\", \"Topic9\", \"Topic9\", \"Topic9\", \"Topic9\", \"Topic9\", \"Topic9\", \"Topic9\", \"Topic9\", \"Topic9\", \"Topic9\", \"Topic9\", \"Topic9\", \"Topic9\", \"Topic9\", \"Topic9\", \"Topic9\", \"Topic9\", \"Topic9\", \"Topic9\", \"Topic9\", \"Topic9\", \"Topic9\", \"Topic9\", \"Topic9\", \"Topic9\", \"Topic9\", \"Topic10\", \"Topic10\", \"Topic10\", \"Topic10\", \"Topic10\", \"Topic10\", \"Topic10\", \"Topic10\", \"Topic10\", \"Topic10\", \"Topic10\", \"Topic10\", \"Topic10\", \"Topic10\", \"Topic10\", \"Topic10\", \"Topic10\", \"Topic10\", \"Topic10\", \"Topic10\", \"Topic10\", \"Topic10\", \"Topic10\", \"Topic10\", \"Topic10\", \"Topic10\", \"Topic10\", \"Topic10\", \"Topic10\", \"Topic10\", \"Topic10\", \"Topic10\", \"Topic10\", \"Topic10\", \"Topic10\", \"Topic10\", \"Topic10\", \"Topic10\", \"Topic10\", \"Topic10\", \"Topic10\", \"Topic10\", \"Topic10\", \"Topic10\", \"Topic10\", \"Topic10\", \"Topic10\", \"Topic10\", \"Topic10\", \"Topic11\", \"Topic11\", \"Topic11\", \"Topic11\", \"Topic11\", \"Topic11\", \"Topic11\", \"Topic11\", \"Topic11\", \"Topic11\", \"Topic11\", \"Topic11\", \"Topic11\", \"Topic11\", \"Topic11\", \"Topic11\", \"Topic11\", \"Topic11\", \"Topic11\", \"Topic11\", \"Topic11\", \"Topic11\", \"Topic11\", \"Topic11\", \"Topic11\", \"Topic11\", \"Topic11\", \"Topic11\", \"Topic11\", \"Topic11\", \"Topic11\", \"Topic11\", \"Topic11\", \"Topic11\", \"Topic11\", \"Topic11\", \"Topic11\", \"Topic11\", \"Topic11\", \"Topic11\", \"Topic11\", \"Topic11\", \"Topic11\", \"Topic11\", \"Topic11\", \"Topic11\", \"Topic11\", \"Topic11\", \"Topic11\", \"Topic11\", \"Topic11\", \"Topic11\", \"Topic11\", \"Topic12\", \"Topic12\", \"Topic12\", \"Topic12\", \"Topic12\", \"Topic12\", \"Topic12\", \"Topic12\", \"Topic12\", \"Topic12\", \"Topic12\", \"Topic12\", \"Topic12\", \"Topic12\", \"Topic12\", \"Topic12\", \"Topic12\", \"Topic12\", \"Topic12\", \"Topic12\", \"Topic12\", \"Topic12\", \"Topic12\", \"Topic12\", \"Topic12\", \"Topic12\", \"Topic12\", \"Topic12\", \"Topic12\", \"Topic12\", \"Topic12\", \"Topic12\", \"Topic12\", \"Topic12\", \"Topic12\", \"Topic12\", \"Topic12\", \"Topic12\", \"Topic12\", \"Topic12\", \"Topic12\", \"Topic12\", \"Topic12\", \"Topic12\", \"Topic12\", \"Topic12\", \"Topic12\", \"Topic13\", \"Topic13\", \"Topic13\", \"Topic13\", \"Topic13\", \"Topic13\", \"Topic13\", \"Topic13\", \"Topic13\", \"Topic13\", \"Topic13\", \"Topic13\", \"Topic13\", \"Topic13\", \"Topic13\", \"Topic13\", \"Topic13\", \"Topic13\", \"Topic13\", \"Topic13\", \"Topic13\", \"Topic13\", \"Topic13\", \"Topic13\", \"Topic13\", \"Topic13\", \"Topic13\", \"Topic13\", \"Topic13\", \"Topic13\", \"Topic13\", \"Topic13\", \"Topic13\", \"Topic13\", \"Topic13\", \"Topic13\", \"Topic13\", \"Topic13\", \"Topic13\", \"Topic13\", \"Topic13\", \"Topic13\", \"Topic13\", \"Topic13\", \"Topic13\", \"Topic13\", \"Topic13\", \"Topic13\", \"Topic13\", \"Topic13\", \"Topic13\", \"Topic13\", \"Topic13\", \"Topic13\", \"Topic13\", \"Topic13\", \"Topic13\", \"Topic14\", \"Topic14\", \"Topic14\", \"Topic14\", \"Topic14\", \"Topic14\", \"Topic14\", \"Topic14\", \"Topic14\", \"Topic14\", \"Topic14\", \"Topic14\", \"Topic14\", \"Topic14\", \"Topic14\", \"Topic14\", \"Topic14\", \"Topic14\", \"Topic14\", \"Topic14\", \"Topic14\", \"Topic14\", \"Topic14\", \"Topic14\", \"Topic14\", \"Topic14\", \"Topic14\", \"Topic14\", \"Topic14\", \"Topic14\", \"Topic14\", \"Topic14\", \"Topic14\", \"Topic14\", \"Topic14\", \"Topic14\", \"Topic14\", \"Topic14\", \"Topic14\", \"Topic14\", \"Topic14\", \"Topic14\", \"Topic14\", \"Topic14\", \"Topic14\", \"Topic14\", \"Topic15\", \"Topic15\", \"Topic15\", \"Topic15\", \"Topic15\", \"Topic15\", \"Topic15\", \"Topic15\", \"Topic15\", \"Topic15\", \"Topic15\", \"Topic15\", \"Topic15\", \"Topic15\", \"Topic15\", \"Topic15\", \"Topic15\", \"Topic15\", \"Topic15\", \"Topic15\", \"Topic15\", \"Topic15\", \"Topic15\", \"Topic15\", \"Topic15\", \"Topic15\", \"Topic15\", \"Topic15\", \"Topic15\", \"Topic15\", \"Topic15\", \"Topic15\", \"Topic15\", \"Topic15\", \"Topic15\", \"Topic15\", \"Topic15\", \"Topic15\", \"Topic15\", \"Topic15\", \"Topic15\", \"Topic15\", \"Topic15\", \"Topic15\", \"Topic15\", \"Topic15\", \"Topic15\", \"Topic15\", \"Topic15\", \"Topic15\", \"Topic15\", \"Topic16\", \"Topic16\", \"Topic16\", \"Topic16\", \"Topic16\", \"Topic16\", \"Topic16\", \"Topic16\", \"Topic16\", \"Topic16\", \"Topic16\", \"Topic16\", \"Topic16\", \"Topic16\", \"Topic16\", \"Topic16\", \"Topic16\", \"Topic16\", \"Topic16\", \"Topic16\", \"Topic16\", \"Topic16\", \"Topic16\", \"Topic16\", \"Topic16\", \"Topic16\", \"Topic16\", \"Topic16\", \"Topic16\", \"Topic16\", \"Topic16\", \"Topic16\", \"Topic16\", \"Topic16\", \"Topic16\", \"Topic16\", \"Topic16\", \"Topic16\", \"Topic16\", \"Topic16\", \"Topic16\", \"Topic16\", \"Topic16\", \"Topic16\", \"Topic16\", \"Topic16\", \"Topic16\", \"Topic16\", \"Topic16\", \"Topic16\", \"Topic16\", \"Topic16\", \"Topic16\", \"Topic16\", \"Topic17\", \"Topic17\", \"Topic17\", \"Topic17\", \"Topic17\", \"Topic17\", \"Topic17\", \"Topic17\", \"Topic17\", \"Topic17\", \"Topic17\", \"Topic17\", \"Topic17\", \"Topic17\", \"Topic17\", \"Topic17\", \"Topic17\", \"Topic17\", \"Topic17\", \"Topic17\", \"Topic17\", \"Topic17\", \"Topic17\", \"Topic17\", \"Topic17\", \"Topic17\", \"Topic17\", \"Topic17\", \"Topic17\", \"Topic17\", \"Topic17\", \"Topic17\", \"Topic17\", \"Topic17\", \"Topic17\", \"Topic17\", \"Topic17\", \"Topic17\", \"Topic17\", \"Topic17\", \"Topic17\", \"Topic17\", \"Topic17\", \"Topic17\", \"Topic17\", \"Topic17\", \"Topic17\", \"Topic17\", \"Topic17\", \"Topic17\", \"Topic17\", \"Topic17\", \"Topic17\", \"Topic17\", \"Topic18\", \"Topic18\", \"Topic18\", \"Topic18\", \"Topic18\", \"Topic18\", \"Topic18\", \"Topic18\", \"Topic18\", \"Topic18\", \"Topic18\", \"Topic18\", \"Topic18\", \"Topic18\", \"Topic18\", \"Topic18\", \"Topic18\", \"Topic18\", \"Topic18\", \"Topic18\", \"Topic18\", \"Topic18\", \"Topic18\", \"Topic18\", \"Topic18\", \"Topic18\", \"Topic18\", \"Topic18\", \"Topic18\", \"Topic18\", \"Topic18\", \"Topic18\", \"Topic18\", \"Topic18\", \"Topic18\", \"Topic18\", \"Topic18\", \"Topic18\", \"Topic18\", \"Topic18\", \"Topic18\", \"Topic18\", \"Topic18\", \"Topic18\", \"Topic18\", \"Topic18\", \"Topic18\", \"Topic18\", \"Topic18\", \"Topic18\", \"Topic18\", \"Topic19\", \"Topic19\", \"Topic19\", \"Topic19\", \"Topic19\", \"Topic19\", \"Topic19\", \"Topic19\", \"Topic19\", \"Topic19\", \"Topic19\", \"Topic19\", \"Topic19\", \"Topic19\", \"Topic19\", \"Topic19\", \"Topic19\", \"Topic19\", \"Topic19\", \"Topic19\", \"Topic19\", \"Topic19\", \"Topic19\", \"Topic19\", \"Topic19\", \"Topic19\", \"Topic19\", \"Topic19\", \"Topic19\", \"Topic19\", \"Topic19\", \"Topic19\", \"Topic19\", \"Topic19\", \"Topic19\", \"Topic19\", \"Topic19\", \"Topic19\", \"Topic19\", \"Topic19\", \"Topic19\", \"Topic19\", \"Topic19\", \"Topic19\", \"Topic19\", \"Topic19\", \"Topic19\", \"Topic19\", \"Topic19\", \"Topic20\", \"Topic20\", \"Topic20\", \"Topic20\", \"Topic20\", \"Topic20\", \"Topic20\", \"Topic20\", \"Topic20\", \"Topic20\", \"Topic20\", \"Topic20\", \"Topic20\", \"Topic20\", \"Topic20\", \"Topic20\", \"Topic20\", \"Topic20\", \"Topic20\", \"Topic20\", \"Topic20\", \"Topic20\", \"Topic20\", \"Topic20\", \"Topic20\", \"Topic20\", \"Topic20\", \"Topic20\", \"Topic20\", \"Topic20\", \"Topic20\", \"Topic20\", \"Topic20\", \"Topic20\", \"Topic20\", \"Topic20\", \"Topic20\", \"Topic20\", \"Topic20\", \"Topic20\", \"Topic20\", \"Topic20\", \"Topic20\", \"Topic20\", \"Topic20\", \"Topic20\", \"Topic20\", \"Topic20\", \"Topic20\", \"Topic20\", \"Topic20\"], \"Freq\": [2875.0, 6749.0, 2292.0, 2870.0, 2829.0, 2661.0, 2099.0, 3714.0, 1731.0, 2402.0, 1844.0, 1844.0, 1624.0, 1779.0, 2009.0, 2329.0, 1652.0, 2153.0, 1580.0, 2210.0, 2631.0, 1920.0, 1490.0, 1155.0, 1155.0, 1193.0, 1056.0, 1605.0, 1395.0, 1026.0, 792.9713745117188, 1008.8053588867188, 286.52001953125, 217.56784057617188, 200.76548767089844, 200.47760009765625, 189.16534423828125, 171.58436584472656, 146.2349853515625, 142.91322326660156, 138.36648559570312, 136.2649688720703, 134.23101806640625, 125.88581085205078, 125.88581085205078, 125.88581085205078, 114.79756927490234, 110.89839172363281, 110.0985336303711, 99.2598648071289, 95.46320343017578, 95.11837768554688, 93.42453002929688, 92.37467193603516, 86.84658813476562, 85.04025268554688, 82.85579681396484, 81.83161163330078, 80.08869934082031, 77.21263122558594, 2589.18359375, 2416.935302734375, 306.2274169921875, 1751.97509765625, 1538.7447509765625, 1848.53173828125, 701.5928955078125, 500.1890869140625, 1861.4208984375, 239.89161682128906, 235.07431030273438, 184.26425170898438, 317.0762023925781, 211.70260620117188, 949.8392333984375, 321.8274230957031, 429.44671630859375, 501.3822326660156, 404.4494934082031, 246.5094451904297, 517.0792846679688, 298.75238037109375, 354.1619873046875, 188.54188537597656, 1651.1007080078125, 1579.293701171875, 686.667724609375, 680.396728515625, 658.4141235351562, 565.4410400390625, 339.2346496582031, 286.87109375, 203.36129760742188, 200.3887176513672, 191.4350128173828, 185.453857421875, 155.8335723876953, 152.25865173339844, 148.58383178710938, 134.68919372558594, 126.85491180419922, 122.48489379882812, 113.46375274658203, 107.71548461914062, 107.71548461914062, 105.59003448486328, 101.14977264404297, 92.08847045898438, 91.10282135009766, 88.15576171875, 85.14734649658203, 84.75788879394531, 81.22472381591797, 73.8790283203125, 449.9371032714844, 1064.04052734375, 1064.04052734375, 1150.9078369140625, 307.55364990234375, 1564.3128662109375, 172.86390686035156, 325.0306091308594, 638.1716918945312, 305.3308410644531, 277.1401672363281, 336.00091552734375, 557.951416015625, 386.30023193359375, 332.8222961425781, 413.50335693359375, 214.6189422607422, 317.298095703125, 372.5081481933594, 337.8851623535156, 324.38916015625, 296.8066101074219, 226.3693084716797, 2291.783447265625, 2098.62744140625, 1778.6336669921875, 817.5681762695312, 697.2354736328125, 634.865966796875, 460.09381103515625, 444.9341125488281, 394.6261291503906, 320.06903076171875, 287.5259094238281, 222.32431030273438, 208.85903930664062, 208.2335968017578, 208.11700439453125, 198.383056640625, 173.55221557617188, 164.65650939941406, 145.34432983398438, 132.9766082763672, 121.9271469116211, 115.25865936279297, 108.17556762695312, 105.56157684326172, 104.63536834716797, 104.63536834716797, 102.94020080566406, 102.52909088134766, 101.3094482421875, 99.98590087890625, 1074.1884765625, 1008.834228515625, 560.831298828125, 346.7602844238281, 333.85357666015625, 380.5188293457031, 299.3264465332031, 274.08087158203125, 353.45037841796875, 402.3600158691406, 291.12542724609375, 458.4812927246094, 314.75335693359375, 402.3421325683594, 306.2497863769531, 243.3955841064453, 253.1682891845703, 219.359619140625, 1843.8619384765625, 1843.8619384765625, 943.6149291992188, 913.1637573242188, 467.1455383300781, 466.3001403808594, 459.7906188964844, 420.4530944824219, 397.2080993652344, 380.26226806640625, 278.08404541015625, 184.253662109375, 181.6205596923828, 168.60708618164062, 168.2286834716797, 150.7308807373047, 145.2216033935547, 138.81008911132812, 136.77261352539062, 134.0946044921875, 131.14178466796875, 126.2186279296875, 119.86428833007812, 119.86428833007812, 116.507568359375, 108.77120971679688, 107.80758666992188, 106.25613403320312, 91.90581512451172, 91.81704711914062, 91.81704711914062, 706.1594848632812, 476.27813720703125, 1010.8931274414062, 773.3672485351562, 593.3247680664062, 505.9541015625, 198.88937377929688, 577.1339721679688, 219.07205200195312, 698.0236206054688, 222.43203735351562, 204.7866668701172, 178.19351196289062, 203.93072509765625, 374.165283203125, 229.38949584960938, 217.48440551757812, 306.1789245605469, 283.8673095703125, 253.1417694091797, 235.52474975585938, 211.91554260253906, 209.80677795410156, 197.15481567382812, 194.8558349609375, 188.12783813476562, 183.14706420898438, 180.10848999023438, 170.6259002685547, 164.983642578125, 164.3626708984375, 147.96774291992188, 141.60862731933594, 135.64718627929688, 125.77364349365234, 120.97907257080078, 111.86507415771484, 111.86507415771484, 109.02552795410156, 105.14429473876953, 104.99957275390625, 101.25247955322266, 99.46287536621094, 91.147705078125, 84.29561614990234, 83.81745147705078, 82.78430938720703, 82.78430938720703, 765.3392944335938, 448.64874267578125, 298.650146484375, 1132.0592041015625, 458.6161193847656, 556.377197265625, 260.2894287109375, 864.32568359375, 306.5673828125, 317.90362548828125, 1592.832763671875, 398.6478271484375, 364.4627685546875, 774.8847045898438, 382.21392822265625, 272.2852478027344, 324.5173034667969, 243.8015594482422, 443.17718505859375, 256.4811706542969, 224.88124084472656, 325.8380126953125, 303.3191223144531, 256.7423400878906, 219.9964599609375, 212.38973999023438, 568.5481567382812, 486.1279296875, 486.1279296875, 486.1279296875, 429.5337219238281, 393.63427734375, 393.63427734375, 355.81280517578125, 355.81280517578125, 318.8733825683594, 300.841796875, 302.87957763671875, 294.28924560546875, 290.3218688964844, 284.08856201171875, 256.9191589355469, 217.21580505371094, 216.06613159179688, 216.06613159179688, 200.41822814941406, 200.24700927734375, 188.91465759277344, 158.22311401367188, 153.15899658203125, 150.92684936523438, 126.04505157470703, 109.71041870117188, 107.26303100585938, 87.78167724609375, 87.75048828125, 915.2490844726562, 322.1092529296875, 299.0884094238281, 268.18646240234375, 656.91943359375, 839.5744018554688, 398.13116455078125, 600.7550048828125, 284.8723449707031, 279.171875, 544.400146484375, 351.431396484375, 267.7654113769531, 349.38787841796875, 307.333984375, 323.49835205078125, 314.9254455566406, 598.6488647460938, 318.9383239746094, 318.9383239746094, 317.8992919921875, 309.22210693359375, 307.4088134765625, 239.51817321777344, 228.35594177246094, 218.1934051513672, 218.1934051513672, 207.95620727539062, 207.95620727539062, 194.9642791748047, 194.4105224609375, 187.90318298339844, 180.71029663085938, 174.4014434814453, 162.78379821777344, 151.31655883789062, 128.36842346191406, 115.73986053466797, 108.19972229003906, 107.77255249023438, 107.47880554199219, 106.67752075195312, 105.75057220458984, 105.75057220458984, 102.09505462646484, 100.62684631347656, 98.82669830322266, 396.1276550292969, 274.370361328125, 609.2509155273438, 392.1324768066406, 403.603759765625, 425.68572998046875, 212.80250549316406, 519.716552734375, 673.7548217773438, 469.3477478027344, 897.97216796875, 440.4787902832031, 343.06854248046875, 393.2862243652344, 596.9196166992188, 266.65594482421875, 339.4443359375, 363.47613525390625, 386.0295715332031, 267.529296875, 218.8625946044922, 233.06716918945312, 1055.5882568359375, 827.5565795898438, 449.6419372558594, 449.6419372558594, 438.30853271484375, 288.75103759765625, 283.4960021972656, 232.88848876953125, 193.2826690673828, 177.80776977539062, 154.15676879882812, 152.81349182128906, 152.81349182128906, 141.92494201660156, 135.56979370117188, 134.9605712890625, 126.734619140625, 116.42315673828125, 114.14420318603516, 106.04203796386719, 105.26478576660156, 95.87252044677734, 91.623779296875, 86.56512451171875, 80.57349395751953, 78.01448822021484, 78.01448822021484, 76.71623229980469, 75.30599975585938, 69.5839614868164, 717.4110107421875, 1660.2418212890625, 505.9130554199219, 376.15496826171875, 407.6925354003906, 180.80978393554688, 232.99801635742188, 216.8099365234375, 213.18162536621094, 710.3081665039062, 1014.3538208007812, 341.5658874511719, 1033.453369140625, 331.53607177734375, 407.8365173339844, 160.0806121826172, 206.63442993164062, 178.87266540527344, 189.30506896972656, 160.85269165039062, 161.8395233154297, 846.3751831054688, 626.6708374023438, 331.8798522949219, 331.8798522949219, 304.8821716308594, 266.8281555175781, 204.69244384765625, 193.69461059570312, 191.52342224121094, 147.91893005371094, 147.22666931152344, 127.5644760131836, 117.18013000488281, 111.10230255126953, 109.80033874511719, 109.34564971923828, 109.34564971923828, 104.89358520507812, 99.52901458740234, 97.15245056152344, 84.89815521240234, 84.54859924316406, 83.27597045898438, 78.05583190917969, 76.0182876586914, 71.61373138427734, 70.29408264160156, 68.5398941040039, 65.48381042480469, 64.98600769042969, 537.7723999023438, 314.507568359375, 278.3561706542969, 422.6524353027344, 535.1767578125, 1217.9954833984375, 533.1629638671875, 227.955078125, 164.0264434814453, 1071.1229248046875, 435.6199645996094, 200.94651794433594, 221.33148193359375, 343.9214782714844, 311.3294982910156, 265.4136962890625, 163.01678466796875, 171.65904235839844, 276.7439880371094, 167.4345703125, 163.01678466796875, 390.2874450683594, 370.35400390625, 368.8913879394531, 326.9884338378906, 298.58660888671875, 268.29571533203125, 253.68002319335938, 236.1293487548828, 214.3413848876953, 206.45375061035156, 191.9362030029297, 165.2914581298828, 164.8216094970703, 164.42239379882812, 161.76596069335938, 156.69017028808594, 124.01959991455078, 120.44791412353516, 117.39673614501953, 113.98764038085938, 113.9322509765625, 108.71429443359375, 105.03239440917969, 103.34988403320312, 96.65254211425781, 93.12049102783203, 90.0306167602539, 89.34693908691406, 87.59744262695312, 86.61554718017578, 704.0633544921875, 459.49346923828125, 290.14697265625, 412.269775390625, 326.20416259765625, 260.3685607910156, 285.1601867675781, 1018.0570678710938, 239.45494079589844, 191.6727752685547, 464.6156005859375, 211.0524139404297, 384.0523986816406, 379.5755920410156, 230.9688262939453, 296.4295349121094, 191.50454711914062, 195.97720336914062, 203.25653076171875, 432.7109680175781, 432.7109680175781, 304.6593017578125, 260.3944396972656, 204.97879028320312, 198.92056274414062, 177.90904235839844, 177.2298126220703, 171.7510528564453, 164.60365295410156, 164.60365295410156, 173.3182373046875, 128.0956573486328, 123.85042572021484, 120.47380065917969, 117.81891632080078, 117.81891632080078, 107.928955078125, 102.33304595947266, 100.6404037475586, 98.04922485351562, 90.73233032226562, 88.46014404296875, 81.9959487915039, 80.24586486816406, 76.70358276367188, 70.43482208251953, 67.4234390258789, 66.77316284179688, 64.036376953125, 503.5452880859375, 295.4426574707031, 150.4385223388672, 171.7510528564453, 1528.6138916015625, 407.4113464355469, 174.7572479248047, 303.79052734375, 207.51278686523438, 810.954345703125, 159.06431579589844, 356.2159423828125, 365.87310791015625, 721.7706909179688, 205.97439575195312, 197.02520751953125, 212.1443634033203, 268.5570068359375, 180.27554321289062, 171.7510528564453, 207.06968688964844, 168.3732147216797, 169.3049774169922, 1730.8009033203125, 1623.2431640625, 1154.6414794921875, 1154.6414794921875, 626.5968627929688, 450.08203125, 228.18185424804688, 215.7598419189453, 206.1644744873047, 191.53732299804688, 183.5159912109375, 179.50155639648438, 170.6384735107422, 165.91644287109375, 144.67591857910156, 144.6143341064453, 122.36624145507812, 110.92081451416016, 94.07424926757812, 91.14327239990234, 90.57933807373047, 89.889892578125, 89.889892578125, 88.63433074951172, 88.28520202636719, 84.98230743408203, 77.54332733154297, 73.72137451171875, 72.30696105957031, 69.5712661743164, 430.8501281738281, 1014.58056640625, 266.43646240234375, 172.70372009277344, 294.79449462890625, 139.01499938964844, 237.46937561035156, 155.7997283935547, 107.5513687133789, 198.87632751464844, 101.30420684814453, 121.08987426757812, 155.01890563964844, 131.08090209960938, 150.76559448242188, 140.88894653320312, 122.64036560058594, 338.9222106933594, 271.9188232421875, 240.4253387451172, 221.80999755859375, 213.73373413085938, 207.50643920898438, 205.4313201904297, 151.06336975097656, 125.07832336425781, 124.07154846191406, 118.73094177246094, 112.68936157226562, 94.74716186523438, 90.44085693359375, 87.20761108398438, 84.81168365478516, 84.61884307861328, 83.59935760498047, 83.59935760498047, 83.59935760498047, 82.00641632080078, 78.26399993896484, 77.5740966796875, 77.34748840332031, 75.2757797241211, 69.94750213623047, 69.5258560180664, 66.40924072265625, 65.56092834472656, 60.17399215698242, 363.0451965332031, 210.71206665039062, 401.4209289550781, 171.58023071289062, 213.99563598632812, 941.3863525390625, 507.2895812988281, 213.19036865234375, 1259.893798828125, 941.0796508789062, 114.1310806274414, 1147.114501953125, 113.33576965332031, 150.9290313720703, 285.2314758300781, 144.34619140625, 373.46923828125, 259.5444030761719, 200.9445037841797, 289.980712890625, 171.30877685546875, 312.51959228515625, 190.36456298828125, 276.9924011230469, 225.53399658203125, 184.2677459716797, 189.7294158935547, 651.4899291992188, 553.9141235351562, 500.680908203125, 500.680908203125, 500.680908203125, 460.678955078125, 460.678955078125, 460.678955078125, 460.678955078125, 398.0078125, 386.8506164550781, 341.5984802246094, 334.4701843261719, 303.28790283203125, 220.3920135498047, 188.69346618652344, 163.14405822753906, 137.74075317382812, 128.8736114501953, 127.53465270996094, 115.54632568359375, 112.9316177368164, 109.09608459472656, 99.7719497680664, 129.85206604003906, 82.6644058227539, 81.83187866210938, 81.78193664550781, 80.56623077392578, 79.98342895507812, 135.0167999267578, 323.39031982421875, 335.0874938964844, 196.92039489746094, 287.2945251464844, 255.95005798339844, 280.3448791503906, 342.4599304199219, 212.4182586669922, 341.2052001953125, 305.7637023925781, 245.20204162597656, 145.31040954589844, 214.1247100830078, 282.5998229980469, 228.4296112060547, 326.61322021484375, 250.91751098632812, 232.74664306640625, 232.5533905029297, 231.06463623046875, 225.2747039794922, 185.89706420898438, 179.05638122558594, 132.50343322753906, 130.8939208984375, 126.35706329345703, 103.39414978027344, 103.39414978027344, 101.7267074584961, 101.71696472167969, 100.54124450683594, 100.00885772705078, 97.1893081665039, 94.2557601928711, 92.68370819091797, 89.91175079345703, 88.11539459228516, 86.93572998046875, 84.93710327148438, 83.08865356445312, 82.51339721679688, 75.10469818115234, 74.54338836669922, 74.26961517333984, 73.0993881225586, 506.4663391113281, 200.09217834472656, 344.4867858886719, 122.9384536743164, 176.68789672851562, 377.3638000488281, 400.4284362792969, 269.867431640625, 132.55191040039062, 164.64559936523438, 160.77182006835938, 147.69989013671875, 190.7539825439453, 309.933349609375, 147.5650177001953, 262.9145202636719, 155.4728240966797, 128.4899444580078, 163.35580444335938, 166.4114532470703, 140.09523010253906, 695.18017578125, 347.61627197265625, 347.61627197265625, 187.49124145507812, 179.94992065429688, 161.97174072265625, 157.87435913085938, 133.17852783203125, 118.64476013183594, 113.21734619140625, 102.97664642333984, 102.4239273071289, 99.48245239257812, 92.24824523925781, 91.88758850097656, 91.23670959472656, 90.25236511230469, 87.70631408691406, 82.1730728149414, 76.5385971069336, 75.80426025390625, 73.40235137939453, 70.99992370605469, 69.1792984008789, 67.6252212524414, 64.35980987548828, 64.00345611572266, 61.5368766784668, 60.7390251159668, 60.731719970703125, 598.3079833984375, 194.31549072265625, 413.1933898925781, 586.21484375, 131.91014099121094, 168.23887634277344, 476.7493896484375, 255.57933044433594, 146.06655883789062, 799.0504760742188, 301.433837890625, 298.6053161621094, 141.8856658935547, 149.00767517089844, 552.4031372070312, 228.6248779296875, 137.59405517578125, 249.75746154785156, 173.23475646972656, 223.0003204345703, 225.91761779785156, 274.54119873046875, 145.40194702148438, 146.2053985595703, 630.893310546875, 396.31744384765625, 282.6764831542969, 250.52748107910156, 227.49783325195312, 207.47486877441406, 200.19569396972656, 196.07884216308594, 155.85008239746094, 138.1423797607422, 136.86105346679688, 136.1996307373047, 123.7684097290039, 123.53350830078125, 110.28260803222656, 109.9300537109375, 109.88102722167969, 105.02615356445312, 103.15562438964844, 92.95369720458984, 84.8818359375, 78.58147430419922, 75.34622955322266, 73.66532135009766, 69.37552642822266, 66.37843322753906, 65.22529602050781, 64.65970611572266, 62.158836364746094, 56.269691467285156, 901.0518188476562, 160.32681274414062, 273.15130615234375, 138.07369995117188, 489.9087219238281, 94.76725006103516, 418.6458435058594, 704.4646606445312, 136.67698669433594, 126.55887603759766, 230.55149841308594, 242.97462463378906, 218.95526123046875, 180.2813720703125, 234.65335083007812, 370.607421875, 237.13771057128906, 149.6065216064453, 155.27255249023438, 192.12159729003906, 212.11300659179688, 243.83990478515625, 158.1583251953125, 160.18435668945312, 321.41668701171875, 311.6407470703125, 302.4753723144531, 228.4951629638672, 208.04635620117188, 201.68038940429688, 198.10601806640625, 166.0745086669922, 162.1941680908203, 161.6334228515625, 157.17724609375, 155.33055114746094, 151.07565307617188, 150.44766235351562, 150.44766235351562, 134.47048950195312, 127.68383026123047, 125.2414321899414, 109.75328063964844, 97.0431900024414, 96.5065689086914, 92.78742980957031, 92.69319152832031, 82.010498046875, 82.010498046875, 82.010498046875, 77.71261596679688, 73.59893035888672, 72.2203598022461, 66.3231201171875, 299.34686279296875, 225.35487365722656, 266.5873718261719, 136.9689483642578, 207.6003875732422, 156.45387268066406, 129.6615447998047, 220.44227600097656, 145.97128295898438, 263.3128967285156, 373.2945556640625, 182.556640625, 192.1038055419922, 279.3829345703125, 179.91940307617188, 215.60714721679688, 176.57334899902344, 161.7637481689453, 190.3621826171875, 181.40426635742188, 158.56483459472656, 604.9957275390625, 268.3905334472656, 257.3336486816406, 256.77801513671875, 195.37344360351562, 175.07806396484375, 173.37722778320312, 171.3765411376953, 165.05538940429688, 161.031494140625, 153.91111755371094, 140.91627502441406, 136.43408203125, 136.43408203125, 130.09080505371094, 124.63265228271484, 118.85478210449219, 115.09505462646484, 115.09505462646484, 112.56200408935547, 100.20457458496094, 98.07353210449219, 90.35712432861328, 90.09857940673828, 88.495361328125, 87.91832733154297, 87.91832733154297, 83.16305541992188, 72.7302474975586, 71.68152618408203, 193.82896423339844, 244.65818786621094, 549.2398681640625, 301.60015869140625, 202.27069091796875, 206.68724060058594, 221.29635620117188, 217.42343139648438, 245.74684143066406, 156.04342651367188, 144.8472900390625, 181.5599365234375, 138.84262084960938, 148.99217224121094, 155.2443084716797, 172.34132385253906, 177.1759490966797, 151.9095916748047, 141.91258239746094, 701.5958862304688, 583.24365234375, 430.39276123046875, 228.51751708984375, 213.67893981933594, 193.9705810546875, 181.28968811035156, 146.2278594970703, 119.61017608642578, 115.92383575439453, 104.27598571777344, 103.57655334472656, 102.10897064208984, 101.77071380615234, 95.75634002685547, 89.17670440673828, 87.34278106689453, 81.00245666503906, 73.14439392089844, 71.14923858642578, 60.349090576171875, 54.13584518432617, 53.068870544433594, 53.068870544433594, 52.95062255859375, 47.33061218261719, 46.50128173828125, 46.50128173828125, 44.828033447265625, 41.45256042480469, 166.68807983398438, 183.569580078125, 307.2090148925781, 657.3780517578125, 217.60708618164062, 257.1194152832031, 241.18182373046875, 478.5100402832031, 92.45682525634766, 286.7922668457031, 125.26254272460938, 111.78886413574219, 152.96383666992188, 317.9726257324219, 285.5487060546875, 157.4228515625, 163.84437561035156, 141.13851928710938, 117.41712951660156, 106.75044250488281, 104.63139343261719], \"Term\": [\"state\", \"isi\", \"kim\", \"islamic\", \"apple\", \"foley\", \"jong\", \"u\", \"steve\", \"james\", \"haram\", \"boko\", \"job\", \"un\", \"leader\", \"watch\", \"brown\", \"journalist\", \"audio\", \"michael\", \"video\", \"american\", \"girl\", \"christian\", \"bale\", \"play\", \"al\", \"militant\", \"shooting\", \"student\", \"beheads\", \"wright\", \"n\", \"college\", \"fly\", \"executed\", \"age\", \"fabricated\", \"rajasthan\", \"translate\", \"developer\", \"evil\", \"499\", \"dam\", \"gaza\", \"israel\", \"game\", \"bogus\", \"sharing\", \"flood\", \"awesome\", \"52\", \"theory\", \"monitoring\", \"britain\", \"999\", \"resignation\", \"2012\", \"dupe\", \"hollywood\", \"state\", \"islamic\", \"training\", \"journalist\", \"american\", \"james\", \"beheaded\", \"photojournalist\", \"foley\", \"pilot\", \"jet\", \"apparently\", \"isil\", \"message\", \"isi\", \"iraq\", \"missing\", \"video\", \"reportedly\", \"breaking\", \"u\", \"kidnapped\", \"claim\", \"fighter\", \"brown\", \"audio\", \"recording\", \"mohammed\", \"emwazi\", \"named\", \"vice\", \"capture\", \"vega\", \"tip\", \"paid\", \"ceo\", \"identity\", \"shane\", \"pizza\", \"graffiti\", \"instead\", \"six\", \"redwood\", \"pounder\", \"quarter\", \"suggests\", \"ferguson\", \"park\", \"mourn\", \"explosion\", \"comment\", \"giggling\", \"account\", \"kidnap\", \"cnn\", \"john\", \"jihadi\", \"shooting\", \"dinner\", \"michael\", \"revealed\", \"west\", \"alleged\", \"killer\", \"app\", \"300\", \"shot\", \"identified\", \"london\", \"000\", \"google\", \"medium\", \"new\", \"man\", \"isi\", \"report\", \"reportedly\", \"kim\", \"jong\", \"un\", \"nicaragua\", \"ankle\", \"korea\", \"korean\", \"crater\", \"managua\", \"yo\", \"memorial\", \"heaven\", \"charge\", \"dictator\", \"fractured\", \"stop\", \"impact\", \"hill\", \"meteor\", \"francis\", \"foot\", \"cheese\", \"fat\", \"cause\", \"snake\", \"wine\", \"ill\", \"including\", \"railway\", \"mysterious\", \"meteorite\", \"north\", \"sister\", \"surgery\", \"leaf\", \"capital\", \"gunman\", \"small\", \"parliament\", \"soldier\", \"strike\", \"shot\", \"war\", \"say\", \"leader\", \"shooting\", \"report\", \"ottawa\", \"haram\", \"boko\", \"ceasefire\", \"nigeria\", \"truck\", \"truce\", \"taliban\", \"plumber\", \"schoolgirl\", \"nigerian\", \"released\", \"free\", \"helmet\", \"survives\", \"scottish\", \"hope\", \"powerful\", \"question\", \"headshot\", \"ever\", \"hebdo\", \"breached\", \"constipated\", \"goldfish\", \"line\", \"saved\", \"agreed\", \"massive\", \"prisoner\", \"struck\", \"talking\", \"denies\", \"deal\", \"girl\", \"kidnapped\", \"release\", \"texas\", \"cease\", \"attack\", \"reported\", \"say\", \"marine\", \"despite\", \"syrian\", \"fire\", \"claim\", \"official\", \"syria\", \"david\", \"snowman\", \"sex\", \"issue\", \"cleric\", \"island\", \"paul\", \"across\", \"selling\", \"getting\", \"capsule\", \"fatwa\", \"bugatti\", \"mortgage\", \"rep\", \"veyron\", \"ten\", \"tear\", \"bin\", \"kayla\", \"mueller\", \"castrate\", \"bed\", \"investigates\", \"threat\", \"unearthed\", \"crisis\", \"earth\", \"1795\", \"paint\", \"vandal\", \"penis\", \"contracted\", \"haines\", \"fighter\", \"iraqi\", \"border\", \"chop\", \"ebola\", \"least\", \"girlfriend\", \"isi\", \"caught\", \"hostage\", \"claim\", \"medium\", \"saudi\", \"texas\", \"cut\", \"report\", \"god\", \"priest\", \"man\", \"u\", \"militant\", \"female\", \"10\", \"skin\", \"pumpkin\", \"spice\", \"condom\", \"burrowed\", \"zehaf\", \"bibeau\", \"culkin\", \"macaulay\", \"scar\", \"tropical\", \"rapist\", \"yemen\", \"angry\", \"burrow\", \"facebook\", \"meat\", \"luke\", \"somers\", \"cleaver\", \"appendix\", \"durex\", \"thing\", \"shooter\", \"hero\", \"tb\", \"butcher\", \"untrue\", \"ministry\", \"nearly\", \"spider\", \"rescue\", \"attempt\", \"actor\", \"death\", \"dead\", \"ottawa\", \"hoax\", \"mob\", \"4\", \"man\", \"killed\", \"case\", \"michael\", \"rumor\", \"say\", \"report\", \"homeless\", \"rosenberg\", \"gill\", \"scotland\", \"2015\", \"spends\", \"io\", \"mushroom\", \"icloud\", \"8\", \"buckingham\", \"palace\", \"magic\", \"kobani\", \"safe\", \"food\", \"document\", \"bug\", \"surprise\", \"us\", \"fighting\", \"quarantined\", \"secretly\", \"gift\", \"eyewitness\", \"gravity\", \"decrease\", \"purport\", \"summer\", \"ypg\", \"israeli\", \"libyan\", \"11\", \"restaurant\", \"9\", \"100\", \"week\", \"captured\", \"woman\", \"canadian\", \"video\", \"show\", \"fear\", \"beheading\", \"man\", \"viral\", \"missing\", \"report\", \"isi\", \"new\", \"see\", \"say\", \"al\", \"wife\", \"bakr\", \"abu\", \"drone\", \"7\", \"detained\", \"predator\", \"come\", \"massacre\", \"cross\", \"domestic\", \"espn\", \"town\", \"panel\", \"shoot\", \"somali\", \"debunked\", \"entering\", \"droppings\", \"shabab\", \"tonight\", \"fault\", \"looking\", \"hearing\", \"conde\", \"nast\", \"circling\", \"patrolling\", \"threatens\", \"baghdadi\", \"leader\", \"lebanon\", \"airstrike\", \"terrorist\", \"violence\", \"somalia\", \"congressman\", \"hit\", \"killed\", \"u\", \"mexico\", \"isi\", \"border\", \"say\", \"problem\", \"syria\", \"son\", \"woman\", \"iraq\", \"reportedly\", \"rat\", \"vogue\", \"wintour\", \"anna\", \"stainless\", \"infestation\", \"feature\", \"trade\", \"cost\", \"much\", \"teenager\", \"planning\", \"lynch\", \"cuba\", \"spent\", \"tom\", \"brokaw\", \"nightly\", \"due\", \"pricing\", \"sneeze\", \"catching\", \"variant\", \"taking\", \"reserve\", \"sign\", \"ebay\", \"16\", \"samsung\", \"la\", \"gold\", \"detroit\", \"edition\", \"office\", \"batmobile\", \"watch\", \"stolen\", \"want\", \"rape\", \"apple\", \"000\", \"v\", \"world\", \"new\", \"reportedly\", \"rumor\", \"superman\", \"allegedly\", \"man\", \"10\", \"batman\", \"iphone\", \"500\", \"comcast\", \"airdrop\", \"phelps\", \"hairgate\", \"hand\", \"hair\", \"chlorine\", \"darkness\", \"user\", \"thought\", \"airdropped\", \"gas\", \"december\", \"priced\", \"pause\", \"chemical\", \"intersex\", \"total\", \"detail\", \"past\", \"feb\", \"device\", \"attorney\", \"someone\", \"debut\", \"41\", \"toy\", \"self\", \"weapon\", \"6\", \"kurd\", \"steel\", \"got\", \"customer\", \"reveals\", \"isi\", \"fired\", \"born\", \"u\", \"girlfriend\", \"claim\", \"say\", \"soldier\", \"michael\", \"iraqi\", \"day\", \"militant\", \"rogen\", \"seth\", \"wozniak\", \"founder\", \"co\", \"king\", \"center\", \"hbo\", \"dawn\", \"snyder\", \"zack\", \"streaming\", \"woz\", \"apps\", \"platinum\", \"jose\", \"canseco\", \"skipped\", \"employee\", \"shower\", \"smartwatch\", \"march\", \"working\", \"raised\", \"forget\", \"personally\", \"abdullah\", \"lied\", \"monster\", \"storage\", \"service\", \"work\", \"probably\", \"justice\", \"apple\", \"launch\", \"model\", \"set\", \"secret\", \"watch\", \"month\", \"could\", \"stolen\", \"report\", \"batman\", \"tv\", \"life\", \"batmobile\", \"v\", \"superman\", \"rumor\", \"star\", \"000\", \"steve\", \"job\", \"christian\", \"bale\", \"biopic\", \"tiger\", \"nelson\", \"upcoming\", \"testicle\", \"drug\", \"exclusive\", \"judd\", \"pga\", \"twin\", \"control\", \"sony\", \"naked\", \"husband\", \"price\", \"suspension\", \"pull\", \"boyle\", \"danny\", \"agent\", \"suspended\", \"castrated\", \"hospitalized\", \"quits\", \"anyway\", \"closer\", \"wood\", \"play\", \"movie\", \"meet\", \"died\", \"400\", \"talk\", \"pay\", \"sale\", \"god\", \"kid\", \"test\", \"woman\", \"son\", \"claim\", \"report\", \"cut\", \"putin\", \"bird\", \"behead\", \"paradise\", \"ex\", \"vladimir\", \"holding\", \"eye\", \"main\", \"creature\", \"shabaab\", \"pound\", \"motorcade\", \"scare\", \"steal\", \"horrific\", \"poop\", \"ahmed\", \"abdi\", \"godane\", \"warning\", \"search\", \"investigating\", \"banned\", \"accidental\", \"italian\", \"ended\", \"280\", \"huge\", \"animal\", \"chief\", \"tell\", \"go\", \"execution\", \"confirmed\", \"militant\", \"news\", \"pope\", \"u\", \"video\", \"graphic\", \"isi\", \"eating\", \"catfish\", \"show\", \"daughter\", \"ebola\", \"official\", \"open\", \"killed\", \"allegedly\", \"journalist\", \"strike\", \"american\", \"death\", \"fake\", \"dog\", \"big\", \"house\", \"white\", \"fence\", \"jumper\", \"sugarhill\", \"hank\", \"gang\", \"bank\", \"macbook\", \"57\", \"nun\", \"birth\", \"inch\", \"pain\", \"airstrikes\", \"ticket\", \"detainee\", \"farther\", \"red\", \"soon\", \"known\", \"retina\", \"far\", \"bowe\", \"intelligence\", \"deadly\", \"thinner\", \"western\", \"outbreak\", \"swapped\", \"12\", \"arrest\", \"york\", \"stomach\", \"give\", \"dy\", \"air\", \"suspect\", \"baby\", \"rapper\", \"made\", \"building\", \"may\", \"report\", \"apple\", \"teletubbies\", \"suitcase\", \"19\", \"station\", \"abandoned\", \"sun\", \"belonging\", \"lego\", \"jess\", \"website\", \"surfaced\", \"cesar\", \"millan\", \"injured\", \"ad\", \"whisperer\", \"gender\", \"weatherman\", \"1970s\", \"fisherman\", \"rumored\", \"freak\", \"contains\", \"voicemail\", \"important\", \"com\", \"wear\", \"pooped\", \"urinating\", \"supported\", \"banksy\", \"look\", \"parent\", \"catch\", \"still\", \"dog\", \"baby\", \"arrested\", \"absence\", \"christmas\", \"amazon\", \"tape\", \"old\", \"year\", \"letter\", \"caught\", \"first\", \"people\", \"found\", \"hoax\", \"news\", \"abdel\", \"bary\", \"majed\", \"michelle\", \"kansa\", \"went\", \"help\", \"awakens\", \"eat\", \"abrams\", \"investigation\", \"peeing\", \"chest\", \"blurred\", \"low\", \"j\", \"proposal\", \"place\", \"elaborate\", \"check\", \"sick\", \"television\", \"l\", \"fight\", \"jj\", \"refuse\", \"english\", \"marriage\", \"early\", \"meeting\", \"british\", \"plan\", \"obama\", \"rapper\", \"face\", \"killing\", \"beheading\", \"star\", \"aid\", \"foley\", \"city\", \"london\", \"date\", \"force\", \"james\", \"saudi\", \"spotted\", \"war\", \"born\", \"identified\", \"release\", \"report\", \"executioner\", \"tv\", \"mass\", \"grave\", \"graf\", \"really\", \"flying\", \"held\", \"russian\", \"indian\", \"opening\", \"43\", \"linked\", \"hold\", \"qaeda\", \"president\", \"seen\", \"university\", \"sacked\", \"later\", \"supply\", \"solved\", \"took\", \"totally\", \"statement\", \"ago\", \"jordanian\", \"newly\", \"pretty\", \"25\", \"28\", \"civil\", \"student\", \"love\", \"body\", \"told\", \"found\", \"per\", \"mexico\", \"missing\", \"tour\", \"inside\", \"police\", \"mexican\", \"find\", \"child\", \"group\", \"syria\", \"terror\", \"40\", \"among\", \"confirms\", \"year\", \"say\", \"airport\", \"militant\", \"rose\", \"like\", \"sergeant\", \"patient\", \"murder\", \"axl\", \"symptom\", \"magneto\", \"web\", \"idea\", \"cast\", \"youngest\", \"sneezing\", \"vickers\", \"kevin\", \"become\", \"father\", \"cub\", \"contact\", \"turned\", \"rise\", \"gave\", \"file\", \"tireless\", \"brave\", \"remembered\", \"land\", \"hour\", \"shopper\", \"superpower\", \"arm\", \"use\", \"doubt\", \"battle\", \"shock\", \"family\", \"electric\", \"make\", \"boston\", \"boy\", \"ebola\", \"hospital\", \"time\", \"man\", \"parliament\", \"dead\", \"god\", \"internet\", \"claim\", \"report\", \"isi\", \"million\", \"microsoft\", \"72\", \"high\", \"break\", \"robot\", \"valley\", \"possession\", \"sell\", \"campus\", \"silicon\", \"colorado\", \"plant\", \"robert\", \"car\", \"market\", \"try\", \"zeppelin\", \"led\", \"using\", \"mum\", \"need\", \"law\", \"pot\", \"nypd\", \"eggnog\", \"chugging\", \"800\", \"painted\", \"tribunal\", \"stock\", \"guard\", \"get\", \"marijuana\", \"teen\", \"store\", \"security\", \"take\", \"made\", \"head\", \"kfc\", \"school\", \"sniper\", \"marine\", \"photo\", \"new\", \"watch\", \"shot\", \"son\", \"pregnant\", \"trip\", \"seven\", \"married\", \"londoner\", \"rare\", \"start\", \"13\", \"forced\", \"bosnia\", \"extra\", \"alan\", \"net\", \"gunshot\", \"flown\", \"bosnian\", \"mask\", \"urgent\", \"deny\", \"herzegovina\", \"identifies\", \"agrees\", \"pack\", \"brat\", \"cawthorne\", \"briton\", \"timing\", \"verifies\", \"underage\", \"ignored\", \"style\", \"behind\", \"fall\", \"school\", \"young\", \"five\", \"female\", \"girl\", \"outraged\", \"day\", \"never\", \"14\", \"said\", \"islamic\", \"state\", \"parent\", \"claim\", \"dead\", \"killer\", \"god\", \"priest\"], \"Total\": [2875.0, 6749.0, 2292.0, 2870.0, 2829.0, 2661.0, 2099.0, 3714.0, 1731.0, 2402.0, 1844.0, 1844.0, 1624.0, 1779.0, 2009.0, 2329.0, 1652.0, 2153.0, 1580.0, 2210.0, 2631.0, 1920.0, 1490.0, 1155.0, 1155.0, 1193.0, 1056.0, 1605.0, 1395.0, 1026.0, 793.902099609375, 1010.4150390625, 287.4505920410156, 218.49844360351562, 201.6960906982422, 201.408203125, 190.095947265625, 172.5149688720703, 147.16558837890625, 143.8438262939453, 139.29708862304688, 137.19557189941406, 135.16162109375, 126.81642150878906, 126.81642150878906, 126.81642150878906, 115.72817993164062, 111.8290023803711, 111.02914428710938, 100.19047546386719, 96.39381408691406, 96.04898834228516, 94.35514068603516, 93.30528259277344, 87.7771987915039, 85.97086334228516, 83.78640747070312, 82.76222229003906, 81.0193099975586, 78.14324188232422, 2875.609375, 2870.520263671875, 330.3868408203125, 2153.193115234375, 1920.0804443359375, 2402.4296875, 853.6677856445312, 607.0961303710938, 2661.753173828125, 311.61798095703125, 317.5810852050781, 236.04147338867188, 619.0021362304688, 339.1402587890625, 6749.85205078125, 806.2402954101562, 1606.477294921875, 2631.412353515625, 1637.714111328125, 552.4520263671875, 3714.219970703125, 1212.0977783203125, 2966.220947265625, 1588.3785400390625, 1652.0457763671875, 1580.23876953125, 687.613037109375, 681.342041015625, 659.3594360351562, 566.3863525390625, 340.1798095703125, 287.8162536621094, 204.30650329589844, 201.33392333984375, 192.38021850585938, 186.39906311035156, 156.77877807617188, 153.203857421875, 149.52903747558594, 135.6343994140625, 127.80010986328125, 123.43009185791016, 114.40895080566406, 108.66068267822266, 108.66068267822266, 106.53523254394531, 102.094970703125, 93.0336685180664, 92.04801940917969, 89.10095977783203, 86.09254455566406, 85.70308685302734, 82.169921875, 74.82422637939453, 458.756103515625, 1192.396484375, 1192.396484375, 1395.20068359375, 353.4510498046875, 2210.976806640625, 192.45449829101562, 403.119873046875, 969.0252685546875, 423.63970947265625, 391.7771301269531, 512.6505126953125, 1308.9925537109375, 750.4120483398438, 632.3202514648438, 1027.247314453125, 303.62164306640625, 950.8851928710938, 1658.681396484375, 2625.597900390625, 6749.85205078125, 3599.400634765625, 1637.714111328125, 2292.73486328125, 2099.578857421875, 1779.5848388671875, 818.5194702148438, 698.186767578125, 635.8172607421875, 461.0450134277344, 445.88531494140625, 395.57733154296875, 321.0202331542969, 288.47711181640625, 223.27554321289062, 209.81027221679688, 209.18482971191406, 209.0682373046875, 199.33428955078125, 174.50344848632812, 165.6077423095703, 146.29556274414062, 133.92784118652344, 122.87837982177734, 116.20989227294922, 109.12680053710938, 106.51280975341797, 105.58660125732422, 105.58660125732422, 103.89143371582031, 103.4803237915039, 102.26068115234375, 100.9371337890625, 1147.5677490234375, 1097.6116943359375, 611.4970703125, 368.9075622558594, 364.82366943359375, 456.8219909667969, 373.7267761230469, 362.08544921875, 534.2696533203125, 769.7496948242188, 544.2711791992188, 1308.9925537109375, 742.3490600585938, 3260.857666015625, 2009.9476318359375, 1395.20068359375, 3599.400634765625, 618.389892578125, 1844.8004150390625, 1844.8004150390625, 944.5537719726562, 914.102294921875, 468.0839538574219, 467.2385559082031, 460.7290344238281, 421.3915100097656, 398.1465148925781, 381.20068359375, 279.0224609375, 185.19210815429688, 182.5590057373047, 169.5455322265625, 169.16712951660156, 151.66932678222656, 146.16004943847656, 139.74853515625, 137.7110595703125, 135.03305053710938, 132.08023071289062, 127.15707397460938, 120.802734375, 120.802734375, 117.44601440429688, 109.70965576171875, 108.74603271484375, 107.194580078125, 92.8442611694336, 92.7554931640625, 92.7554931640625, 761.644775390625, 517.0108642578125, 1490.288330078125, 1212.0977783203125, 916.0155639648438, 831.3645629882812, 239.48703002929688, 1064.5889892578125, 317.8460998535156, 3260.857666015625, 372.31585693359375, 316.8162841796875, 250.8083038330078, 407.5969543457031, 2966.220947265625, 936.4392700195312, 971.6738891601562, 307.1326904296875, 284.8210754394531, 254.14657592773438, 236.47854614257812, 212.8693389892578, 210.7605743408203, 198.10861206054688, 195.80963134765625, 189.08163452148438, 184.10086059570312, 181.06228637695312, 171.57969665527344, 165.93743896484375, 165.31646728515625, 148.92153930664062, 142.5624237060547, 136.60098266601562, 126.72743225097656, 121.932861328125, 112.81886291503906, 112.81886291503906, 109.97931671142578, 106.09808349609375, 105.95336151123047, 102.20626831054688, 100.41666412353516, 92.10149383544922, 85.24940490722656, 84.771240234375, 83.73809814453125, 83.73809814453125, 875.636962890625, 524.4300537109375, 338.9913635253906, 1588.3785400390625, 651.0285034179688, 960.8814086914062, 362.775634765625, 1960.649169921875, 481.3385009765625, 556.0473022460938, 6749.85205078125, 901.7048950195312, 790.4421997070312, 2966.220947265625, 950.8851928710938, 501.8114013671875, 831.3645629882812, 479.73773193359375, 3599.400634765625, 739.48388671875, 446.271484375, 2625.597900390625, 3714.219970703125, 1605.0439453125, 462.0786437988281, 431.9068908691406, 569.4951782226562, 487.0748596191406, 487.0748596191406, 487.0748596191406, 430.48065185546875, 394.5812072753906, 394.5812072753906, 356.7597351074219, 356.7597351074219, 319.8203125, 301.7887268066406, 303.8353271484375, 295.2361755371094, 291.28277587890625, 285.0354919433594, 257.8660888671875, 218.1627960205078, 217.01312255859375, 217.01312255859375, 201.36521911621094, 201.19400024414062, 189.8616485595703, 159.17010498046875, 154.10598754882812, 151.87384033203125, 126.99201965332031, 110.65738677978516, 108.20999908447266, 88.72864532470703, 88.69745635986328, 972.0379028320312, 350.74725341796875, 326.3807067871094, 326.3098449707031, 1094.3740234375, 1573.4093017578125, 618.389892578125, 1334.5660400390625, 437.2358703613281, 442.142822265625, 2625.597900390625, 1624.477294921875, 523.2652587890625, 2210.976806640625, 1193.232421875, 3260.857666015625, 3599.400634765625, 599.6015625, 319.890869140625, 319.890869140625, 318.8518371582031, 310.1746520996094, 308.3613586425781, 240.47079467773438, 229.30856323242188, 219.14602661132812, 219.14602661132812, 208.90882873535156, 208.90882873535156, 195.91690063476562, 195.36444091796875, 188.85580444335938, 181.6629180908203, 175.35406494140625, 163.73641967773438, 152.26918029785156, 129.321044921875, 116.69245910644531, 109.1523208618164, 108.72515106201172, 108.43359375, 107.63011932373047, 106.70317077636719, 106.70317077636719, 103.04765319824219, 101.5794448852539, 99.779296875, 452.5108642578125, 306.4917297363281, 748.1315307617188, 466.6712341308594, 483.746826171875, 571.6604614257812, 256.82818603515625, 855.108154296875, 1254.2071533203125, 789.2884521484375, 2631.412353515625, 922.2764892578125, 665.6096801757812, 870.9356079101562, 2625.597900390625, 524.200439453125, 1606.477294921875, 3599.400634765625, 6749.85205078125, 1658.681396484375, 344.40869140625, 3260.857666015625, 1056.5394287109375, 828.5076904296875, 450.5929260253906, 450.5929260253906, 439.259521484375, 289.7020263671875, 284.4469909667969, 233.83953857421875, 194.2337188720703, 178.75881958007812, 155.10781860351562, 153.76454162597656, 153.76454162597656, 142.87599182128906, 136.52084350585938, 135.91162109375, 127.68565368652344, 117.37419128417969, 115.0952377319336, 106.99307250976562, 106.2158203125, 96.82355499267578, 92.57481384277344, 87.51615905761719, 81.52452850341797, 78.96552276611328, 78.96552276611328, 77.66726684570312, 76.25703430175781, 70.53499603271484, 803.121826171875, 2009.9476318359375, 586.1170043945312, 473.06524658203125, 523.002685546875, 223.4951171875, 314.291015625, 293.0177001953125, 291.4278564453125, 1624.477294921875, 3714.219970703125, 761.1106567382812, 6749.85205078125, 960.8814086914062, 3260.857666015625, 233.93853759765625, 971.6738891601562, 539.0654296875, 1254.2071533203125, 806.2402954101562, 1637.714111328125, 847.3312377929688, 627.6268920898438, 332.8358154296875, 332.8358154296875, 305.838134765625, 267.78411865234375, 205.64845275878906, 194.65061950683594, 192.47943115234375, 148.87493896484375, 148.18267822265625, 128.52049255371094, 118.1361312866211, 112.05830383300781, 110.75634002685547, 110.30165100097656, 110.30165100097656, 105.8495864868164, 100.48501586914062, 98.10845184326172, 85.85415649414062, 85.50460052490234, 84.23197174072266, 79.01183319091797, 76.97428894042969, 72.56973266601562, 71.25008392333984, 69.49589538574219, 66.43981170654297, 65.94200897216797, 584.6058349609375, 360.5787048339844, 320.0289306640625, 555.8663330078125, 804.6458129882812, 2329.483642578125, 939.6416625976562, 314.3699645996094, 210.80580139160156, 2829.03759765625, 1027.247314453125, 382.1340637207031, 559.79541015625, 1658.681396484375, 1637.714111328125, 1193.232421875, 335.6798400878906, 404.15740966796875, 2625.597900390625, 431.9068908691406, 369.9031677246094, 391.24053955078125, 371.3070983886719, 369.844482421875, 327.9415283203125, 299.5397033691406, 269.2488098144531, 254.6331787109375, 237.08248901367188, 215.29452514648438, 207.40689086914062, 192.88934326171875, 166.24459838867188, 165.77474975585938, 165.3755340576172, 162.71910095214844, 157.643310546875, 124.97272491455078, 121.40184020996094, 118.34986114501953, 114.94076538085938, 114.8853759765625, 109.66741943359375, 105.98551940917969, 104.30300903320312, 97.60566711425781, 94.07361602783203, 90.9837417602539, 90.30006408691406, 88.55056762695312, 87.56867218017578, 750.498291015625, 522.537841796875, 325.1366882324219, 484.95306396484375, 409.0035095214844, 326.8887939453125, 394.3865051269531, 6749.85205078125, 481.24725341796875, 365.8081970214844, 3714.219970703125, 556.0473022460938, 2966.220947265625, 3260.857666015625, 769.7496948242188, 2210.976806640625, 651.0285034179688, 808.172119140625, 1605.0439453125, 433.6661071777344, 433.6661071777344, 305.61444091796875, 261.3495788574219, 205.9339599609375, 199.875732421875, 178.8642120361328, 178.1849822998047, 172.7062225341797, 165.55882263183594, 165.55882263183594, 174.3977813720703, 129.0508270263672, 124.80557250976562, 121.42894744873047, 118.77406311035156, 118.77406311035156, 108.88410186767578, 103.28819274902344, 101.59555053710938, 99.0043716430664, 91.6874771118164, 89.41529083251953, 82.95109558105469, 81.20101165771484, 77.65872955322266, 71.38996887207031, 68.37858581542969, 67.72830963134766, 64.99152374267578, 550.9482421875, 324.79388427734375, 164.1888885498047, 194.04824829101562, 2829.03759765625, 588.7367553710938, 212.34622192382812, 445.9427795410156, 291.6074523925781, 2329.483642578125, 216.08786010742188, 839.1943359375, 939.6416625976562, 3599.400634765625, 369.9031677246094, 358.6026306152344, 445.2673645019531, 804.6458129882812, 382.1340637207031, 335.6798400878906, 1193.232421875, 441.7486267089844, 1027.247314453125, 1731.7745361328125, 1624.1973876953125, 1155.5943603515625, 1155.5943603515625, 627.6190185546875, 451.0347900390625, 229.13462829589844, 216.72116088867188, 207.11724853515625, 192.49009704589844, 184.46876525878906, 180.45433044433594, 171.59124755859375, 166.8692169189453, 145.62869262695312, 145.57110595703125, 123.31900787353516, 111.87358093261719, 95.02701568603516, 92.09603881835938, 91.5321044921875, 90.84265899658203, 90.84265899658203, 89.58709716796875, 89.23796844482422, 85.93507385253906, 78.49609375, 74.67414093017578, 73.25972747802734, 70.52403259277344, 476.7657165527344, 1193.490478515625, 299.931884765625, 193.3056640625, 390.3208923339844, 166.46302795410156, 384.82073974609375, 231.99205017089844, 132.5560302734375, 739.48388671875, 125.20918273925781, 313.3616638183594, 1254.2071533203125, 539.0654296875, 2966.220947265625, 3599.400634765625, 479.73773193359375, 339.8646240234375, 272.8612365722656, 241.36776733398438, 222.75242614746094, 214.67616271972656, 208.44886779785156, 206.37374877929688, 152.00579833984375, 126.02073669433594, 125.01396179199219, 119.67335510253906, 113.63177490234375, 95.6895751953125, 91.38327026367188, 88.1500244140625, 85.75409698486328, 85.5612564086914, 84.5417709350586, 84.5417709350586, 84.5417709350586, 82.9488296508789, 79.20641326904297, 78.51651000976562, 78.28990173339844, 76.21819305419922, 70.8899154663086, 70.46826934814453, 67.35165405273438, 66.50334167480469, 61.116397857666016, 371.69293212890625, 241.95420837402344, 517.2828979492188, 202.4799346923828, 262.9180603027344, 1605.0439453125, 792.3028564453125, 298.9842529296875, 3714.219970703125, 2631.412353515625, 134.83544921875, 6749.85205078125, 150.5023193359375, 264.2546081542969, 922.2764892578125, 252.65304565429688, 1960.649169921875, 936.4392700195312, 568.7034301757812, 1624.477294921875, 404.15740966796875, 2153.193115234375, 544.2711791992188, 1920.0804443359375, 1094.3740234375, 556.2461547851562, 653.1818237304688, 652.4481811523438, 554.8723754882812, 501.63916015625, 501.63916015625, 501.63916015625, 461.63720703125, 461.63720703125, 461.63720703125, 461.63720703125, 398.9664611816406, 387.8088684082031, 342.5567321777344, 335.4284362792969, 304.24615478515625, 221.3502655029297, 189.65171813964844, 164.10231018066406, 138.69900512695312, 129.8318634033203, 128.49290466308594, 116.50456237792969, 113.88985443115234, 110.0543212890625, 100.73018646240234, 131.2015380859375, 83.62264251708984, 82.79011535644531, 82.74017333984375, 81.52446746826172, 80.94166564941406, 137.1834259033203, 354.7847900390625, 390.6871032714844, 224.91737365722656, 380.7493896484375, 382.44732666015625, 458.66748046875, 647.4552001953125, 314.7039794921875, 742.5490112304688, 892.88427734375, 662.9076538085938, 180.07534790039062, 973.43701171875, 3599.400634765625, 2829.03759765625, 327.5695495605469, 251.87380981445312, 233.70294189453125, 233.5096893310547, 232.02093505859375, 226.2310028076172, 186.85336303710938, 180.01268005371094, 133.45973205566406, 131.8502197265625, 127.31336212158203, 104.35044860839844, 104.35044860839844, 102.6830062866211, 102.67326354980469, 101.49754333496094, 100.96515655517578, 98.1456069946289, 95.2120590209961, 93.64000701904297, 90.86804962158203, 89.07169342041016, 87.89202880859375, 85.89340209960938, 84.04495239257812, 83.46969604492188, 76.06099700927734, 75.49968719482422, 75.22591400146484, 74.0556869506836, 609.154296875, 239.1646728515625, 535.1783447265625, 142.97364807128906, 228.10516357421875, 653.1818237304688, 742.5490112304688, 428.7942810058594, 161.68218994140625, 238.20477294921875, 230.0941162109375, 201.0717010498047, 335.90997314453125, 911.7916259765625, 231.30860900878906, 901.7048950195312, 403.4900207519531, 277.85498046875, 829.7161254882812, 1334.5660400390625, 792.3028564453125, 696.1267700195312, 348.56292724609375, 348.56292724609375, 188.43789672851562, 180.89657592773438, 162.91839599609375, 158.82101440429688, 134.12518310546875, 119.59141540527344, 114.16400146484375, 103.92330169677734, 103.3705825805664, 100.43424987792969, 93.19490051269531, 92.83424377441406, 92.18336486816406, 91.19902038574219, 88.65296936035156, 83.1197280883789, 77.4852523803711, 76.75091552734375, 74.34900665283203, 71.94657897949219, 70.1259536743164, 68.5718765258789, 65.30646514892578, 64.95011138916016, 62.483524322509766, 61.685672760009766, 61.678367614746094, 715.1867065429688, 213.44898986816406, 556.2363891601562, 892.88427734375, 157.78501892089844, 215.47775268554688, 870.9356079101562, 441.7486267089844, 202.22732543945312, 2661.753173828125, 632.1141967773438, 632.3202514648438, 204.9310302734375, 223.63140869140625, 2402.4296875, 501.8114013671875, 200.55360412597656, 742.3490600585938, 365.8081970214844, 750.4120483398438, 916.0155639648438, 3599.400634765625, 301.0845642089844, 358.6026306152344, 631.8403930664062, 397.2645568847656, 283.62359619140625, 251.47462463378906, 228.44497680664062, 208.42201232910156, 201.14283752441406, 197.02606201171875, 156.79722595214844, 139.0895233154297, 137.80819702148438, 137.1467742919922, 124.71554565429688, 124.48064422607422, 111.22974395751953, 110.87718963623047, 110.82816314697266, 105.9732894897461, 104.1027603149414, 93.90083312988281, 85.82897186279297, 79.52861022949219, 76.29336547851562, 74.61245727539062, 70.32266235351562, 67.32556915283203, 66.17243194580078, 65.60684967041016, 63.10596466064453, 57.216819763183594, 1026.9742431640625, 184.39425659179688, 359.8537902832031, 163.91192626953125, 829.7161254882812, 105.24005889892578, 761.1106567382812, 1606.477294921875, 177.82757568359375, 159.44778442382812, 391.6719055175781, 436.6905822753906, 372.4811706542969, 276.9940185546875, 432.1763610839844, 971.6738891601562, 521.4139404296875, 222.3802032470703, 254.0180206298828, 499.5175476074219, 911.7916259765625, 3260.857666015625, 516.8885498046875, 1605.0439453125, 322.36444091796875, 312.5885009765625, 303.4231262207031, 229.44293212890625, 208.99412536621094, 202.62815856933594, 199.0537872314453, 167.02227783203125, 163.14193725585938, 162.58119201660156, 158.12501525878906, 156.2783203125, 152.02342224121094, 151.39544677734375, 151.39544677734375, 135.4182586669922, 128.63160705566406, 126.189208984375, 110.70105743408203, 97.99273681640625, 97.4543685913086, 93.7352066040039, 93.6409683227539, 82.9582748413086, 82.9582748413086, 82.9582748413086, 78.66039276123047, 74.54670715332031, 73.16813659667969, 67.2708969116211, 362.4630432128906, 266.6127624511719, 325.7669372558594, 162.09352111816406, 282.47613525390625, 200.32843017578125, 160.62823486328125, 348.239990234375, 212.63101196289062, 662.19580078125, 1960.649169921875, 401.3577880859375, 513.3450317382812, 2625.597900390625, 534.2696533203125, 1573.4093017578125, 739.48388671875, 453.1876220703125, 2966.220947265625, 3599.400634765625, 6749.85205078125, 605.947998046875, 269.3428649902344, 258.2859802246094, 257.7303466796875, 196.32577514648438, 176.0303955078125, 174.32955932617188, 172.32887268066406, 166.00772094726562, 161.98382568359375, 154.8634490966797, 141.8686065673828, 137.38641357421875, 137.38641357421875, 131.0431365966797, 125.5849838256836, 119.80711364746094, 116.0473861694336, 116.0473861694336, 113.51433563232422, 101.15690612792969, 99.02586364746094, 91.30945587158203, 91.05091094970703, 89.44769287109375, 88.87065887451172, 88.87065887451172, 84.11538696289062, 73.68257904052734, 72.63385772705078, 217.772705078125, 286.0813903808594, 774.460693359375, 401.5077209472656, 287.6191711425781, 303.1826477050781, 447.776611328125, 486.89019775390625, 662.9076538085938, 336.14306640625, 282.6346740722656, 839.8369140625, 264.5926208496094, 372.31585693359375, 472.3518981933594, 1658.681396484375, 2329.483642578125, 1308.9925537109375, 539.0654296875, 702.5415649414062, 584.1893310546875, 431.33843994140625, 229.4632110595703, 214.6246337890625, 194.91627502441406, 182.23538208007812, 147.17355346679688, 120.55586242675781, 116.86952209472656, 105.22167205810547, 104.5222396850586, 103.05465698242188, 102.71640014648438, 96.7020263671875, 90.12239074707031, 88.28846740722656, 81.9481430053711, 74.09008026123047, 72.09492492675781, 61.29478073120117, 55.08153533935547, 54.01456069946289, 54.01456069946289, 53.89631271362305, 48.276302337646484, 47.44697189331055, 47.44697189331055, 45.77372360229492, 42.398250579833984, 175.0064239501953, 197.4105682373047, 346.320068359375, 839.8369140625, 257.2271423339844, 404.92529296875, 462.0786437988281, 1490.288330078125, 129.43775939941406, 808.172119140625, 214.62889099121094, 193.68856811523438, 452.0343322753906, 2870.520263671875, 2875.609375, 535.1783447265625, 2966.220947265625, 1573.4093017578125, 423.63970947265625, 739.48388671875, 446.271484375], \"loglift\": [30.0, 29.0, 28.0, 27.0, 26.0, 25.0, 24.0, 23.0, 22.0, 21.0, 20.0, 19.0, 18.0, 17.0, 16.0, 15.0, 14.0, 13.0, 12.0, 11.0, 10.0, 9.0, 8.0, 7.0, 6.0, 5.0, 4.0, 3.0, 2.0, 1.0, 2.6333000659942627, 2.6328999996185303, 2.631200075149536, 2.630199909210205, 2.6298000812530518, 2.6298000812530518, 2.6296000480651855, 2.6291000843048096, 2.6280999183654785, 2.628000020980835, 2.6277999877929688, 2.627700090408325, 2.6275999546051025, 2.6270999908447266, 2.6270999908447266, 2.6270999908447266, 2.6263999938964844, 2.6261000633239746, 2.625999927520752, 2.6250998973846436, 2.624799966812134, 2.6247000694274902, 2.6245999336242676, 2.6243999004364014, 2.623800039291382, 2.6236000061035156, 2.623300075531006, 2.623199939727783, 2.6229000091552734, 2.622499942779541, 2.5295000076293945, 2.4625000953674316, 2.558500051498413, 2.428299903869629, 2.413100004196167, 2.3724000453948975, 2.4382998943328857, 2.4407999515533447, 2.2767999172210693, 2.3729000091552734, 2.3336000442504883, 2.3868000507354736, 1.965499997138977, 2.1631999015808105, 0.6735000014305115, 1.7160999774932861, 1.3151999711990356, 0.9765999913215637, 1.2359000444412231, 1.8274999856948853, 0.6626999974250793, 1.2339999675750732, 0.5091999769210815, 0.5033000111579895, 2.6607000827789307, 2.6607000827789307, 2.659899950027466, 2.659899950027466, 2.6598000526428223, 2.659600019454956, 2.6584999561309814, 2.6579999923706055, 2.656599998474121, 2.656599998474121, 2.6563000679016113, 2.6561999320983887, 2.6552000045776367, 2.655100107192993, 2.654900074005127, 2.6542999744415283, 2.6538000106811523, 2.653599977493286, 2.6530001163482666, 2.6524999141693115, 2.6524999141693115, 2.6522998809814453, 2.6519999504089355, 2.6510000228881836, 2.650899887084961, 2.650599956512451, 2.6501998901367188, 2.6501998901367188, 2.6496999263763428, 2.6484999656677246, 2.6417999267578125, 2.5473999977111816, 2.5473999977111816, 2.4688000679016113, 2.522200107574463, 2.3152999877929688, 2.5539000034332275, 2.4458999633789062, 2.2435998916625977, 2.3338000774383545, 2.3150999546051025, 2.238800048828125, 1.808500051498413, 1.9973000288009644, 2.0195000171661377, 1.7512999773025513, 2.314300060272217, 1.5636999607086182, 1.1677000522613525, 0.6108999848365784, -0.374099999666214, 0.16580000519752502, 0.6823999881744385, 2.7430999279022217, 2.743000030517578, 2.743000030517578, 2.742300033569336, 2.7421000003814697, 2.742000102996826, 2.7414000034332275, 2.7414000034332275, 2.7411000728607178, 2.740499973297119, 2.7402000427246094, 2.7392001152038574, 2.7388999462127686, 2.7388999462127686, 2.7388999462127686, 2.7386999130249023, 2.73799991607666, 2.7376999855041504, 2.736999988555908, 2.7363998889923096, 2.7356998920440674, 2.735300064086914, 2.7346999645233154, 2.734499931335449, 2.7344000339508057, 2.7344000339508057, 2.734299898147583, 2.734299898147583, 2.734100103378296, 2.7339999675750732, 2.6774001121520996, 2.6591999530792236, 2.6570000648498535, 2.6816000938415527, 2.6547999382019043, 2.560699939727783, 2.5215001106262207, 2.4649999141693115, 2.3303000926971436, 2.0947999954223633, 2.117799997329712, 1.6943999528884888, 1.8854999542236328, 0.6510000228881836, 0.8619999885559082, 0.9973999857902527, 0.08900000154972076, 1.7071000337600708, 2.7867000102996826, 2.7867000102996826, 2.7862000465393066, 2.7862000465393066, 2.7852001190185547, 2.7852001190185547, 2.7852001190185547, 2.7850000858306885, 2.784899950027466, 2.7848000526428223, 2.783900022506714, 2.7822000980377197, 2.782099962234497, 2.7816998958587646, 2.7816998958587646, 2.7809998989105225, 2.7808001041412354, 2.7804999351501465, 2.780400037765503, 2.7802999019622803, 2.780100107192993, 2.7797999382019043, 2.779400110244751, 2.779400110244751, 2.7792000770568848, 2.778700113296509, 2.778599977493286, 2.77839994430542, 2.777100086212158, 2.777100086212158, 2.777100086212158, 2.7116000652313232, 2.705199956893921, 2.3991000652313232, 2.337899923324585, 2.3529999256134033, 2.290600061416626, 2.6015000343322754, 2.174999952316284, 2.41510009765625, 1.2457000017166138, 2.2720999717712402, 2.3508999347686768, 2.4453999996185303, 2.0947000980377197, 0.7168999910354614, 1.3805999755859375, 1.2903000116348267, 2.815500020980835, 2.8152999877929688, 2.81469988822937, 2.8145999908447266, 2.814199924468994, 2.8141000270843506, 2.813800096511841, 2.813800096511841, 2.8136000633239746, 2.813499927520752, 2.8134000301361084, 2.8131000995635986, 2.8129000663757324, 2.8129000663757324, 2.8122000694274902, 2.8118999004364014, 2.8115999698638916, 2.8111000061035156, 2.810800075531006, 2.8101999759674072, 2.8101999759674072, 2.8099000453948975, 2.8096001148223877, 2.8096001148223877, 2.809299945831299, 2.8090999126434326, 2.808199882507324, 2.8073999881744385, 2.807300090789795, 2.8071999549865723, 2.8071999549865723, 2.684000015258789, 2.662600040435791, 2.6919000148773193, 2.4800000190734863, 2.4683001041412354, 2.272200107574463, 2.4867000579833984, 1.9996000528335571, 2.367500066757202, 2.259500026702881, 1.3746000528335571, 2.0023999214172363, 2.0445001125335693, 1.4763000011444092, 1.9071999788284302, 2.2072999477386475, 1.8779000043869019, 2.1417999267578125, 0.7240999937057495, 1.7597999572753906, 2.1333000659942627, 0.7319999933242798, 0.31349998712539673, 0.98580002784729, 2.0764999389648438, 2.1089000701904297, 2.8417000770568848, 2.8415000438690186, 2.8415000438690186, 2.8415000438690186, 2.841200113296509, 2.8410000801086426, 2.8410000801086426, 2.8406999111175537, 2.8406999111175537, 2.840399980545044, 2.8403000831604004, 2.8403000831604004, 2.8401999473571777, 2.840100049972534, 2.840100049972534, 2.8396999835968018, 2.839099884033203, 2.8389999866485596, 2.8389999866485596, 2.83870005607605, 2.83870005607605, 2.838399887084961, 2.837399959564209, 2.8371999263763428, 2.8371999263763428, 2.835900068283081, 2.8348000049591064, 2.8345999717712402, 2.83270001411438, 2.83270001411438, 2.7832000255584717, 2.75819993019104, 2.7560999393463135, 2.647200107574463, 2.3329999446868896, 2.2153000831604004, 2.40310001373291, 2.0452001094818115, 2.4149999618530273, 2.3835999965667725, 1.2699999809265137, 1.3125, 2.1733999252319336, 0.9983999729156494, 1.486899971961975, 0.5328999757766724, 0.40720000863075256, 2.884999990463257, 2.8835999965667725, 2.8835999965667725, 2.8835999965667725, 2.883500099182129, 2.883500099182129, 2.8826000690460205, 2.8824000358581543, 2.882200002670288, 2.882200002670288, 2.881999969482422, 2.881999969482422, 2.881700038909912, 2.881700038909912, 2.881500005722046, 2.8812999725341797, 2.8810999393463135, 2.88070011138916, 2.8803000450134277, 2.879199981689453, 2.8784000873565674, 2.8777999877929688, 2.8777999877929688, 2.877700090408325, 2.877700090408325, 2.8775999546051025, 2.8775999546051025, 2.8773000240325928, 2.87719988822937, 2.877000093460083, 2.753499984741211, 2.775899887084961, 2.6812000274658203, 2.712599992752075, 2.7054998874664307, 2.5917000770568848, 2.698499917984009, 2.3886001110076904, 2.265199899673462, 2.36680006980896, 1.811400055885315, 2.147599935531616, 2.22379994392395, 2.091599941253662, 1.4053000211715698, 2.210700035095215, 1.3321000337600708, 0.5938000082969666, 0.025200000032782555, 1.062000036239624, 2.433199882507324, 0.24819999933242798, 2.9409000873565674, 2.9405999183654785, 2.93969988822937, 2.93969988822937, 2.9395999908447266, 2.938499927520752, 2.9384000301361084, 2.937700033187866, 2.9368999004364014, 2.9363999366760254, 2.9356000423431396, 2.9356000423431396, 2.9356000423431396, 2.9351000785827637, 2.934799909591675, 2.934799909591675, 2.934299945831299, 2.9335999488830566, 2.933500051498413, 2.9328999519348145, 2.932800054550171, 2.9319000244140625, 2.93149995803833, 2.9309000968933105, 2.930000066757202, 2.9296998977661133, 2.9296998977661133, 2.929500102996826, 2.9291999340057373, 2.9282000064849854, 2.828900098800659, 2.7506000995635986, 2.794600009918213, 2.712599992752075, 2.692699909210205, 2.72979998588562, 2.6424999237060547, 2.6405999660491943, 2.6291000843048096, 2.114500045776367, 1.6439000368118286, 2.140500068664551, 1.0651999711990356, 1.8776999711990356, 0.8629000186920166, 2.5624001026153564, 1.3937000036239624, 1.8386000394821167, 1.0508999824523926, 1.3299000263214111, 0.6273000240325928, 3.0257999897003174, 3.025399923324585, 3.0241000652313232, 3.0241000652313232, 3.0237998962402344, 3.023400068283081, 3.0223000049591064, 3.0220000743865967, 3.0220000743865967, 3.0204999446868896, 3.0204999446868896, 3.0195000171661377, 3.0188000202178955, 3.018399953842163, 3.0183000564575195, 3.018199920654297, 3.018199920654297, 3.017899990081787, 3.017400026321411, 3.0171000957489014, 3.015700101852417, 3.015700101852417, 3.015500068664551, 3.0148000717163086, 3.014400005340576, 3.013700008392334, 3.013400077819824, 3.0130999088287354, 3.012399911880493, 3.0123000144958496, 2.9433999061584473, 2.890199899673462, 2.887399911880493, 2.753000020980835, 2.6191000938415527, 2.378499984741211, 2.4602999687194824, 2.7054998874664307, 2.7760000228881836, 2.0557000637054443, 2.169100046157837, 2.384200096130371, 2.0989999771118164, 1.4536000490188599, 1.3667000532150269, 1.523800015449524, 2.3046000003814697, 2.170599937438965, 0.7770000100135803, 2.0792999267578125, 2.2074999809265137, 3.0427000522613525, 3.0425000190734863, 3.0425000190734863, 3.0422000885009766, 3.0418999195098877, 3.041599988937378, 3.0413999557495117, 3.041100025177002, 3.0406999588012695, 3.0404999256134033, 3.0401999950408936, 3.039400100708008, 3.039400100708008, 3.039299964904785, 3.0392000675201416, 3.039099931716919, 3.0374999046325684, 3.0371999740600586, 3.0369999408721924, 3.036799907684326, 3.036799907684326, 3.036400079727173, 3.036099910736084, 3.035900115966797, 3.0353000164031982, 3.034899950027466, 3.034600019454956, 3.0344998836517334, 3.0343000888824463, 3.0341999530792236, 2.9811999797821045, 2.9165000915527344, 2.931299924850464, 2.882699966430664, 2.8189001083374023, 2.8176000118255615, 2.7207999229431152, 1.153499960899353, 2.347100019454956, 2.3987998962402344, 0.9664000272750854, 2.0764000415802, 1.0009000301361084, 0.8944000005722046, 1.8413000106811523, 1.0356999635696411, 1.8214999437332153, 1.6282999515533447, 0.9786999821662903, 3.0596001148223877, 3.0596001148223877, 3.0587000846862793, 3.0580999851226807, 3.0571000576019287, 3.056999921798706, 3.0564000606536865, 3.0564000606536865, 3.0562000274658203, 3.055999994277954, 3.055999994277954, 3.0555999279022217, 3.0543999671936035, 3.0541000366210938, 3.0539000034332275, 3.0536999702453613, 3.0536999702453613, 3.052999973297119, 3.052500009536743, 3.052299976348877, 3.0520999431610107, 3.051300048828125, 3.051100015640259, 3.0501999855041504, 3.049999952316284, 3.0494000911712646, 3.04830002784729, 3.0476999282836914, 3.047600030899048, 3.046999931335449, 2.9718000888824463, 2.967099905014038, 2.974299907684326, 2.93969988822937, 2.446199893951416, 2.6935999393463135, 2.867000102996826, 2.6779000759124756, 2.72160005569458, 2.0065999031066895, 2.7553999423980713, 2.204900026321411, 2.1185998916625977, 1.4550000429153442, 2.476300001144409, 2.462899923324585, 2.3203999996185303, 1.9644999504089355, 2.310499906539917, 2.391700029373169, 1.3104000091552734, 2.0971999168395996, 1.2589000463485718, 3.062000036239624, 3.062000036239624, 3.0617001056671143, 3.0617001056671143, 3.0608999729156494, 3.060499906539917, 3.0583999156951904, 3.0580999851226807, 3.058000087738037, 3.0576000213623047, 3.0573999881744385, 3.057300090789795, 3.056999921798706, 3.05679988861084, 3.055999994277954, 3.055999994277954, 3.054800033569336, 3.053999900817871, 3.052500009536743, 3.0522000789642334, 3.0520999431610107, 3.052000045776367, 3.052000045776367, 3.0518999099731445, 3.051800012588501, 3.0513999462127686, 3.0504000186920166, 3.0497000217437744, 3.049499988555908, 3.0490000247955322, 2.9612998962402344, 2.9001998901367188, 2.9440999031066895, 2.949899911880493, 2.781899929046631, 2.8824000358581543, 2.5797998905181885, 2.664400100708008, 2.8534998893737793, 1.7493000030517578, 2.8506999015808105, 2.1117000579833984, 0.9718999862670898, 1.6484999656677246, 0.08330000191926956, -0.17800000309944153, 1.6986000537872314, 3.1152000427246094, 3.114500045776367, 3.1140999794006348, 3.1136999130249023, 3.113600015640259, 3.1133999824523926, 3.1133999824523926, 3.111799955368042, 3.1105000972747803, 3.1103999614715576, 3.110100030899048, 3.1096999645233154, 3.108099937438965, 3.107599973678589, 3.1071999073028564, 3.1068999767303467, 3.1068999767303467, 3.106800079345703, 3.106800079345703, 3.106800079345703, 3.106600046157837, 3.1059999465942383, 3.1059000492095947, 3.1059000492095947, 3.1054999828338623, 3.104599952697754, 3.1045000553131104, 3.1038999557495117, 3.1036999225616455, 3.102400064468384, 3.094399929046631, 2.9797000885009766, 2.8643999099731445, 2.952399969100952, 2.912100076675415, 2.584399938583374, 2.672100067138672, 2.7797999382019043, 2.036799907684326, 2.0896999835968018, 2.9512999057769775, 1.3457000255584717, 2.834399938583374, 2.5578999519348145, 1.9443999528884888, 2.558199882507324, 1.4598000049591064, 1.8348000049591064, 2.077699899673462, 1.3948999643325806, 2.2595999240875244, 1.1878999471664429, 2.067500114440918, 1.1818000078201294, 1.5384999513626099, 2.013200044631958, 1.881700038909912, 3.1375999450683594, 3.1373000144958496, 3.1370999813079834, 3.1370999813079834, 3.1370999813079834, 3.13700008392334, 3.13700008392334, 3.13700008392334, 3.13700008392334, 3.1366000175476074, 3.1366000175476074, 3.136199951171875, 3.136199951171875, 3.1359000205993652, 3.134700059890747, 3.134000062942505, 3.13319993019104, 3.1321001052856445, 3.1315999031066895, 3.131500005722046, 3.1308000087738037, 3.1305999755859375, 3.1303000450134277, 3.129499912261963, 3.128700017929077, 3.127500057220459, 3.1273999214172363, 3.1273999214172363, 3.12719988822937, 3.1270999908447266, 3.1231000423431396, 3.0464000701904297, 2.9855000972747803, 3.0060999393463135, 2.8573999404907227, 2.7374000549316406, 2.646699905395508, 2.5020999908447266, 2.746000051498413, 2.3613998889923096, 2.0673999786376953, 2.1445000171661377, 2.924499988555908, 1.6247999668121338, 0.5945000052452087, 0.6226000189781189, 3.1480000019073486, 3.1470999717712402, 3.1468000411987305, 3.1468000411987305, 3.1468000411987305, 3.1466000080108643, 3.1458001136779785, 3.1456000804901123, 3.143699884414673, 3.1435999870300293, 3.1433000564575195, 3.141700029373169, 3.141700029373169, 3.1414999961853027, 3.1414999961853027, 3.141400098800659, 3.141400098800659, 3.1410999298095703, 3.1407999992370605, 3.1405999660491943, 3.1403000354766846, 3.1401000022888184, 3.139899969100952, 3.139699935913086, 3.139400005340576, 3.139400005340576, 3.138200044631958, 3.1380999088287354, 3.1380999088287354, 3.1379001140594482, 2.9663000106811523, 2.9725000858306885, 2.7102999687194824, 2.9999001026153564, 2.8954999446868896, 2.6022000312805176, 2.5332999229431152, 2.6877999305725098, 2.952199935913086, 2.781599998474121, 2.7923998832702637, 2.842400074005127, 2.5850000381469727, 2.0717999935150146, 2.7014000415802, 1.9184000492095947, 2.197200059890747, 2.3796000480651855, 1.5256999731063843, 1.069000005722046, 1.4183000326156616, 3.178499937057495, 3.1772000789642334, 3.1772000789642334, 3.174799919128418, 3.1745998859405518, 3.1740000247955322, 3.1738998889923096, 3.172800064086914, 3.1719000339508057, 3.1714999675750732, 3.1707000732421875, 3.1707000732421875, 3.170300006866455, 3.1696999073028564, 3.169600009918213, 3.1695001125335693, 3.1693999767303467, 3.169100046157837, 3.1684000492095947, 3.16759991645813, 3.1675000190734863, 3.167099952697754, 3.166599988937378, 3.166300058364868, 3.1659998893737793, 3.165299892425537, 3.1651999950408936, 3.164599895477295, 3.164400100708008, 3.164400100708008, 3.0013999938964844, 3.0859999656677246, 2.8826000690460205, 2.7590999603271484, 3.0007998943328857, 2.9323999881744385, 2.5773000717163086, 2.632699966430664, 2.8545000553131104, 1.9766000509262085, 2.4393999576568604, 2.4296000003814697, 2.8122000694274902, 2.773900032043457, 1.7099000215530396, 2.393699884414673, 2.803100109100342, 2.0905001163482666, 2.4323999881744385, 1.9664000272750854, 1.7799999713897705, 0.6064000129699707, 2.4519999027252197, 2.2827000617980957, 3.220099925994873, 3.2191998958587646, 3.2181999683380127, 3.2177999019622803, 3.217400074005127, 3.2170000076293945, 3.2167999744415283, 3.2167000770568848, 3.2155001163482666, 3.2146999835968018, 3.2146999835968018, 3.214600086212158, 3.213900089263916, 3.213900089263916, 3.2130000591278076, 3.2130000591278076, 3.2130000591278076, 3.212599992752075, 3.212399959564209, 3.211400032043457, 3.2105000019073486, 3.2095999717712402, 3.2091000080108643, 3.2088000774383545, 3.2079999446868896, 3.20740008354187, 3.2070999145507812, 3.2070000171661377, 3.206399917602539, 3.204900026321411, 3.0908000469207764, 3.081700086593628, 2.9458999633789062, 3.049999952316284, 2.694700002670288, 3.1166999340057373, 2.623800039291382, 2.397200107574463, 2.958400011062622, 2.990600109100342, 2.6916000843048096, 2.6352999210357666, 2.690200090408325, 2.792099952697754, 2.61080002784729, 2.257699966430664, 2.4337000846862793, 2.825200080871582, 2.729300022125244, 2.2660000324249268, 1.7632999420166016, 0.6283000111579895, 2.0373001098632812, 0.9169999957084656, 3.2636001110076904, 3.2634999752044678, 3.263400077819824, 3.262399911880493, 3.26200008392334, 3.261899948120117, 3.2618000507354736, 3.2607998847961426, 3.260699987411499, 3.260699987411499, 3.260499954223633, 3.260499954223633, 3.2602999210357666, 3.2602999210357666, 3.2602999210357666, 3.259500026702881, 3.2590999603271484, 3.259000062942505, 3.2578999996185303, 3.2567999362945557, 3.2567999362945557, 3.2564001083374023, 3.2564001083374023, 3.255000114440918, 3.255000114440918, 3.255000114440918, 3.2544000148773193, 3.253700017929077, 3.253499984741211, 3.2523000240325928, 3.075200080871582, 3.098400115966797, 3.0660998821258545, 3.098099946975708, 2.9586000442504883, 3.0192999839782715, 3.0524001121520996, 2.809299945831299, 2.890399932861328, 2.3443000316619873, 1.6079000234603882, 2.4786999225616455, 2.283600091934204, 1.0261000394821167, 2.178100109100342, 1.2790000438690186, 1.8343000411987305, 2.2363998889923096, 0.5203999876976013, 0.27869999408721924, -0.4846000075340271, 3.303299903869629, 3.3013999462127686, 3.3011999130249023, 3.3011999130249023, 3.300100088119507, 3.299499988555908, 3.2994000911712646, 3.2994000911712646, 3.2992000579833984, 3.2990000247955322, 3.2987000942230225, 3.2981998920440674, 3.2980000972747803, 3.2980000972747803, 3.297600030899048, 3.297300100326538, 3.2969000339508057, 3.2967000007629395, 3.2967000007629395, 3.2964999675750732, 3.2955000400543213, 3.295300006866455, 3.2943999767303467, 3.2943999767303467, 3.2941999435424805, 3.294100046157837, 3.294100046157837, 3.2934999465942383, 3.2918999195098877, 3.2916998863220215, 3.1884000301361084, 3.1484999656677246, 2.9612998962402344, 3.0188000202178955, 2.952899932861328, 2.921799898147583, 2.600100040435791, 2.498699903488159, 2.3125998973846436, 2.5374999046325684, 2.636399984359741, 1.773300051689148, 2.660099983215332, 2.3891000747680664, 2.192199945449829, 1.0405999422073364, 0.7286999821662903, 1.1512000560760498, 1.9702999591827393, 3.5165998935699463, 3.516400098800659, 3.5157999992370605, 3.5137999057769775, 3.5136001110076904, 3.5130999088287354, 3.5127999782562256, 3.5114998817443848, 3.5100998878479004, 3.5099000930786133, 3.5088999271392822, 3.5088999271392822, 3.5088000297546387, 3.508699893951416, 3.5081000328063965, 3.5074000358581543, 3.507200002670288, 3.5064001083374023, 3.5051000118255615, 3.5048000812530518, 3.5023999214172363, 3.500699996948242, 3.5002999305725098, 3.5002999305725098, 3.5002999305725098, 3.498199939727783, 3.49780011177063, 3.49780011177063, 3.4971001148223877, 3.4953999519348145, 3.4693000316619873, 3.4453001022338867, 3.398099899291992, 3.2730000019073486, 3.3506999015808105, 3.063800096511841, 2.867799997329712, 2.3819000720977783, 3.18149995803833, 2.4820001125335693, 2.9795000553131104, 2.9683001041412354, 2.4344000816345215, 1.3177000284194946, 1.208400011062622, 2.294300079345703, 0.6218000054359436, 1.1066999435424805, 2.234800100326538, 1.5824999809265137, 2.067500114440918], \"logprob\": [30.0, 29.0, 28.0, 27.0, 26.0, 25.0, 24.0, 23.0, 22.0, 21.0, 20.0, 19.0, 18.0, 17.0, 16.0, 15.0, 14.0, 13.0, 12.0, 11.0, 10.0, 9.0, 8.0, 7.0, 6.0, 5.0, 4.0, 3.0, 2.0, 1.0, -3.657399892807007, -3.4166998863220215, -4.6753997802734375, -4.950699806213379, -5.031099796295166, -5.03249979019165, -5.09060001373291, -5.188199996948242, -5.3480000495910645, -5.370999813079834, -5.403299808502197, -5.418600082397461, -5.433700084686279, -5.497900009155273, -5.497900009155273, -5.497900009155273, -5.590099811553955, -5.624599933624268, -5.631899833679199, -5.735499858856201, -5.774499893188477, -5.77810001373291, -5.79610013961792, -5.807400226593018, -5.869100093841553, -5.890100002288818, -5.916100025177002, -5.928599834442139, -5.950099945068359, -5.986700057983398, -2.474100112915039, -2.5429999828338623, -4.60890007019043, -2.8647000789642334, -2.994499921798706, -2.8111000061035156, -3.779900074005127, -4.118199825286865, -2.8041000366210938, -4.853000164031982, -4.873300075531006, -5.1168999671936035, -4.574100017547607, -4.978099822998047, -3.476900100708008, -4.559199810028076, -4.270699977874756, -4.115900039672852, -4.330699920654297, -4.825799942016602, -4.085000038146973, -4.633600234985352, -4.463500022888184, -5.093900203704834, -2.897200107574463, -2.941699981689453, -3.774600028991699, -3.783799886703491, -3.8166000843048096, -3.9688000679016113, -4.479700088500977, -4.64739990234375, -4.991499900817871, -5.006199836730957, -5.0518999099731445, -5.083600044250488, -5.257599830627441, -5.280900001525879, -5.305300235748291, -5.403500080108643, -5.463399887084961, -5.4984002113342285, -5.574999809265137, -5.6269001960754395, -5.6269001960754395, -5.646900177001953, -5.689799785614014, -5.783699989318848, -5.794400215148926, -5.827300071716309, -5.862100124359131, -5.866600036621094, -5.909200191497803, -6.004000186920166, -4.197299957275391, -3.3366000652313232, -3.3366000652313232, -3.2581000328063965, -4.5777997970581055, -2.951200008392334, -5.153900146484375, -4.522500038146973, -3.8478000164031982, -4.585000038146973, -4.6819000244140625, -4.489299774169922, -3.9821999073028564, -4.349800109863281, -4.498799800872803, -4.281799793243408, -4.937600135803223, -4.546599864959717, -4.386199951171875, -4.483699798583984, -4.524499893188477, -4.613399982452393, -4.884300231933594, -2.4870998859405518, -2.575200080871582, -2.740600109100342, -3.517899990081787, -3.6770999431610107, -3.7708001136779785, -4.092800140380859, -4.126299858093262, -4.246300220489502, -4.455699920654297, -4.562900066375732, -4.820099830627441, -4.882500171661377, -4.885499954223633, -4.886099815368652, -4.934000015258789, -5.067699909210205, -5.120299816131592, -5.245100021362305, -5.334000110626221, -5.42080020904541, -5.4770002365112305, -5.54040002822876, -5.564899921417236, -5.573699951171875, -5.573699951171875, -5.590099811553955, -5.594099998474121, -5.605999946594238, -5.619200229644775, -3.2448999881744385, -3.3076999187469482, -3.8947999477386475, -4.3755998611450195, -4.41349983215332, -4.282700061798096, -4.52269983291626, -4.610799789428711, -4.356500148773193, -4.226900100708008, -4.55049991607666, -4.09630012512207, -4.472400188446045, -4.226900100708008, -4.499800205230713, -4.729499816894531, -4.690199851989746, -4.833499908447266, -2.660799980163574, -2.660799980163574, -3.330699920654297, -3.3635001182556152, -4.03380012512207, -4.035600185394287, -4.049699783325195, -4.139100074768066, -4.196000099182129, -4.23960018157959, -4.552499771118164, -4.964099884033203, -4.978499889373779, -5.0528998374938965, -5.055099964141846, -5.164999961853027, -5.202199935913086, -5.247300148010254, -5.2621002197265625, -5.281899929046631, -5.304200172424316, -5.342400074005127, -5.394100189208984, -5.394100189208984, -5.422500133514404, -5.491199970245361, -5.500100135803223, -5.514599800109863, -5.6596999168396, -5.660699844360352, -5.660699844360352, -3.6205999851226807, -4.014500141143799, -3.261899948120117, -3.5297000408172607, -3.7946999073028564, -3.9539999961853027, -4.887700080871582, -3.8224000930786133, -4.791100025177002, -3.632200002670288, -4.7758002281188965, -4.858500003814697, -4.997600078582764, -4.86269998550415, -4.255799770355225, -4.744999885559082, -4.798299789428711, -4.424900054931641, -4.500500202178955, -4.615099906921387, -4.68720006942749, -4.792900085449219, -4.8028998374938965, -4.865099906921387, -4.876800060272217, -4.911900043487549, -4.938799858093262, -4.95550012588501, -5.0096001625061035, -5.0432000160217285, -5.046999931335449, -5.152100086212158, -5.196000099182129, -5.238999843597412, -5.314599990844727, -5.353400230407715, -5.43179988861084, -5.43179988861084, -5.457499980926514, -5.49370002746582, -5.495100021362305, -5.531400203704834, -5.549300193786621, -5.636600017547607, -5.714700222015381, -5.720399856567383, -5.732800006866455, -5.732800006866455, -3.508699893951416, -4.042799949645996, -4.44980001449585, -3.117300033569336, -4.0208001136779785, -3.8276000022888184, -4.587299823760986, -3.3870999813079834, -4.423600196838379, -4.38730001449585, -2.7757999897003174, -4.160999774932861, -4.2505998611450195, -3.496299982070923, -4.203100204467773, -4.542200088500977, -4.366700172424316, -4.652699947357178, -4.055099964141846, -4.6020002365112305, -4.733500003814697, -4.362599849700928, -4.434299945831299, -4.60099983215332, -4.75540018081665, -4.790599822998047, -3.7811999320983887, -3.9377999305725098, -3.9377999305725098, -3.9377999305725098, -4.061600208282471, -4.148900032043457, -4.148900032043457, -4.249899864196777, -4.249899864196777, -4.359499931335449, -4.417699813842773, -4.410999774932861, -4.439700126647949, -4.4532999992370605, -4.474999904632568, -4.575500011444092, -4.7434000968933105, -4.748700141906738, -4.748700141906738, -4.82390022277832, -4.824699878692627, -4.882999897003174, -5.060299873352051, -5.092800140380859, -5.107500076293945, -5.287700176239014, -5.426400184631348, -5.448999881744385, -5.649400234222412, -5.649799823760986, -3.3050999641418457, -4.349400043487549, -4.423600196838379, -4.532599925994873, -3.636699914932251, -3.391400098800659, -4.137499809265137, -3.726099967956543, -4.472300052642822, -4.492499828338623, -3.8245999813079834, -4.26230001449585, -4.534200191497803, -4.268099784851074, -4.396399974822998, -4.345099925994873, -4.372000217437744, -3.6863999366760254, -4.316100120544434, -4.316100120544434, -4.319399833679199, -4.347099781036377, -4.35290002822876, -4.602499961853027, -4.650199890136719, -4.695700168609619, -4.695700168609619, -4.743800163269043, -4.743800163269043, -4.808300018310547, -4.811100006103516, -4.845200061798096, -4.884200096130371, -4.9197998046875, -4.988699913024902, -5.061699867248535, -5.226200103759766, -5.329800128936768, -5.39709997177124, -5.401100158691406, -5.403800010681152, -5.411300182342529, -5.420000076293945, -5.420000076293945, -5.4552001953125, -5.469699859619141, -5.48769998550415, -4.099400043487549, -4.466599941253662, -3.6689000129699707, -4.109499931335449, -4.080699920654297, -4.027400016784668, -4.720799922943115, -3.8278000354766846, -3.56820011138916, -3.929800033569336, -3.2809998989105225, -3.993299961090088, -4.243199825286865, -4.106599807739258, -3.689300060272217, -4.495200157165527, -4.253799915313721, -4.185400009155273, -4.125199794769287, -4.4918999671936035, -4.692699909210205, -4.629799842834473, -3.0641000270843506, -3.3073999881744385, -3.9175000190734863, -3.9175000190734863, -3.943000078201294, -4.360300064086914, -4.378699779510498, -4.575399875640869, -4.7617998123168945, -4.845200061798096, -4.9878997802734375, -4.996699810028076, -4.996699810028076, -5.0706000328063965, -5.116399765014648, -5.1209001541137695, -5.183800220489502, -5.268700122833252, -5.28849983215332, -5.362100124359131, -5.3694000244140625, -5.462900161743164, -5.508200168609619, -5.565000057220459, -5.63670015335083, -5.669000148773193, -5.669000148773193, -5.685800075531006, -5.704400062561035, -5.783400058746338, -3.4502999782562256, -2.6112000942230225, -3.799499988555908, -4.095900058746338, -4.015399932861328, -4.828499794006348, -4.574900150299072, -4.646900177001953, -4.66379976272583, -3.460200071334839, -3.1038999557495117, -4.192399978637695, -3.0852999687194824, -4.2221999168396, -4.014999866485596, -4.950200080871582, -4.695000171661377, -4.839200019836426, -4.782599925994873, -4.945400238037109, -4.939300060272217, -3.1998000144958496, -3.5002999305725098, -4.136000156402588, -4.136000156402588, -4.220799922943115, -4.3541998863220215, -4.61929988861084, -4.674499988555908, -4.685800075531006, -4.9440999031066895, -4.948800086975098, -5.092100143432617, -5.17710018157959, -5.230299949645996, -5.242099761962891, -5.246300220489502, -5.246300220489502, -5.287799835205078, -5.3403000831604, -5.364500045776367, -5.499300003051758, -5.503399848937988, -5.518599987030029, -5.5833001136779785, -5.609799861907959, -5.66949987411499, -5.6880998611450195, -5.713399887084961, -5.758999824523926, -5.766600131988525, -3.6533000469207764, -4.189799785614014, -4.3119001388549805, -3.894200086593628, -3.6582000255584717, -2.8357999324798584, -3.661900043487549, -4.511600017547607, -4.840700149536133, -2.9642999172210693, -3.864000082015991, -4.637700080871582, -4.541100025177002, -4.100399971008301, -4.199900150299072, -4.359499931335449, -4.84689998626709, -4.795300006866455, -4.317699909210205, -4.820199966430664, -4.84689998626709, -3.955699920654297, -4.0081000328063965, -4.0121002197265625, -4.132699966430664, -4.223499774932861, -4.33050012588501, -4.386499881744385, -4.458199977874756, -4.554999828338623, -4.59250020980835, -4.66540002822876, -4.814899921417236, -4.817699909210205, -4.820099830627441, -4.836400032043457, -4.868299961090088, -5.102099895477295, -5.131400108337402, -5.1570000648498535, -5.186500072479248, -5.186999797821045, -5.23390007019043, -5.2683000564575195, -5.2845001220703125, -5.351500034332275, -5.388700008392334, -5.422399997711182, -5.430099964141846, -5.44980001449585, -5.461100101470947, -3.3657000064849854, -3.7925000190734863, -4.252200126647949, -3.900899887084961, -4.1350998878479, -4.360499858856201, -4.269499778747559, -2.9969000816345215, -4.444200038909912, -4.666800022125244, -3.781399965286255, -4.570499897003174, -3.9718000888824463, -3.9835000038146973, -4.480299949645996, -4.230800151824951, -4.667699813842773, -4.644599914550781, -4.608099937438965, -3.8357999324798584, -3.8357999324798584, -4.186699867248535, -4.343699932098389, -4.583000183105469, -4.61299991607666, -4.724599838256836, -4.728499889373779, -4.759900093078613, -4.8024001121521, -4.8024001121521, -4.750800132751465, -5.053100109100342, -5.0868000984191895, -5.114500045776367, -5.1367998123168945, -5.1367998123168945, -5.224400043487549, -5.277699947357178, -5.294400215148926, -5.320400238037109, -5.3979997634887695, -5.423399925231934, -5.499199867248535, -5.5208001136779785, -5.565999984741211, -5.651199817657471, -5.694900035858154, -5.704599857330322, -5.746500015258789, -3.6842000484466553, -4.217400074005127, -4.892399787902832, -4.759900093078613, -2.5738000869750977, -3.8961000442504883, -4.742499828338623, -4.189599990844727, -4.570700168609619, -3.20770001411438, -4.836599826812744, -4.030399799346924, -4.003600120544434, -3.324199914932251, -4.578199863433838, -4.622600078582764, -4.548600196838379, -4.31279993057251, -4.711400032043457, -4.759900093078613, -4.572800159454346, -4.779699802398682, -4.774199962615967, -2.4488000869750977, -2.5129001140594482, -2.853600025177002, -2.853600025177002, -3.4647998809814453, -3.7957000732421875, -4.474999904632568, -4.531000137329102, -4.576499938964844, -4.650000095367432, -4.692800045013428, -4.714900016784668, -4.765600204467773, -4.793600082397461, -4.930600166320801, -4.931099891662598, -5.098100185394287, -5.196300029754639, -5.361000061035156, -5.3927001953125, -5.398900032043457, -5.406499862670898, -5.406499862670898, -5.420599937438965, -5.424600124359131, -5.462699890136719, -5.554299831390381, -5.604800224304199, -5.624199867248535, -5.662799835205078, -3.839400053024292, -2.9828999042510986, -4.320000171661377, -4.753600120544434, -4.218800067901611, -4.9704999923706055, -4.435100078582764, -4.856599807739258, -5.227200031280518, -4.612400054931641, -5.2870001792907715, -5.10860013961792, -4.861599922180176, -5.029300212860107, -4.889400005340576, -4.957200050354004, -5.095900058746338, -4.023900032043457, -4.244200229644775, -4.367300033569336, -4.44789981842041, -4.485000133514404, -4.514599800109863, -4.524600028991699, -4.831999778747559, -5.0208001136779785, -5.028900146484375, -5.07289981842041, -5.125100135803223, -5.298500061035156, -5.34499979019165, -5.381400108337402, -5.409299850463867, -5.411600112915039, -5.423699855804443, -5.423699855804443, -5.423699855804443, -5.44290018081665, -5.48960018157959, -5.498499870300293, -5.501399993896484, -5.528600215911865, -5.6020002365112305, -5.607999801635742, -5.653900146484375, -5.6666998863220215, -5.752500057220459, -3.955199956893921, -4.499199867248535, -3.8547000885009766, -4.704699993133545, -4.483799934387207, -3.0023999214172363, -3.6205999851226807, -4.487500190734863, -2.710900068283081, -3.002700090408325, -5.112400054931641, -2.8046998977661133, -5.1194000244140625, -4.832900047302246, -4.196400165557861, -4.877500057220459, -3.9268999099731445, -4.290800094604492, -4.5467000007629395, -4.179900169372559, -4.706200122833252, -4.105000019073486, -4.600800037384033, -4.2256999015808105, -4.43120002746582, -4.633299827575684, -4.604100227355957, -3.349400043487549, -3.511699914932251, -3.6126999855041504, -3.6126999855041504, -3.6126999855041504, -3.696000099182129, -3.696000099182129, -3.696000099182129, -3.696000099182129, -3.8422000408172607, -3.8705999851226807, -3.994999885559082, -4.01609992980957, -4.113999843597412, -4.433300018310547, -4.588500022888184, -4.734000205993652, -4.903299808502197, -4.969799995422363, -4.980299949645996, -5.078999996185303, -5.101900100708008, -5.13640022277832, -5.225800037384033, -4.962299823760986, -5.413899898529053, -5.423999786376953, -5.424600124359131, -5.439599990844727, -5.446800231933594, -4.923299789428711, -4.049799919128418, -4.0142998695373535, -4.545899868011475, -4.1682000160217285, -4.283699989318848, -4.192599773406982, -3.992500066757202, -4.470099925994873, -3.9962000846862793, -4.105899810791016, -4.326600074768066, -4.849800109863281, -4.462100028991699, -4.184599876403809, -4.39739990234375, -4.0279998779296875, -4.2916998863220215, -4.3668999671936035, -4.367700099945068, -4.374100208282471, -4.399499893188477, -4.591599941253662, -4.6290998458862305, -4.930200099945068, -4.942399978637695, -4.977700233459473, -5.178299903869629, -5.178299903869629, -5.194499969482422, -5.1946001052856445, -5.206200122833252, -5.211599826812744, -5.240200042724609, -5.2708001136779785, -5.287600040435791, -5.317999839782715, -5.338200092315674, -5.351600170135498, -5.374899864196777, -5.396900177001953, -5.403900146484375, -5.497900009155273, -5.50540018081665, -5.509099960327148, -5.525000095367432, -3.589400053024292, -4.51800012588501, -3.9748001098632812, -5.005099773406982, -4.642399787902832, -3.8835999965667725, -3.8243000507354736, -4.218900203704834, -4.929800033569336, -4.7129998207092285, -4.736800193786621, -4.821599960327148, -4.565800189971924, -4.08050012588501, -4.822500228881836, -4.244999885559082, -4.770299911499023, -4.960999965667725, -4.720900058746338, -4.702300071716309, -4.874499797821045, -3.2437000274658203, -3.9367001056671143, -3.9367001056671143, -4.554100036621094, -4.595099925994873, -4.700399875640869, -4.72599983215332, -4.896100044250488, -5.01170015335083, -5.058499813079834, -5.153299808502197, -5.158699989318848, -5.18779993057251, -5.263299942016602, -5.267300128936768, -5.274400234222412, -5.285200119018555, -5.313799858093262, -5.379000186920166, -5.449999809265137, -5.459700107574463, -5.4918999671936035, -5.525100231170654, -5.55109977722168, -5.573800086975098, -5.623300075531006, -5.628900051116943, -5.6682000160217285, -5.68120002746582, -5.681399822235107, -3.393699884414673, -4.5183000564575195, -3.7639000415802, -3.414099931716919, -4.905700206756592, -4.662399768829346, -3.620800018310547, -4.24429988861084, -4.803800106048584, -3.1043999195098877, -4.0792999267578125, -4.088699817657471, -4.832799911499023, -4.78380012512207, -3.473599910736084, -4.3557000160217285, -4.863500118255615, -4.267300128936768, -4.633200168609619, -4.38070011138916, -4.367700099945068, -4.172699928283691, -4.808300018310547, -4.802800178527832, -3.2990000247955322, -3.7639000415802, -4.101799964904785, -4.222599983215332, -4.318999767303467, -4.411099910736084, -4.446800231933594, -4.467599868774414, -4.697199821472168, -4.817800045013428, -4.827199935913086, -4.831999778747559, -4.927700042724609, -4.929599761962891, -5.043099880218506, -5.046299934387207, -5.0467000007629395, -5.091899871826172, -5.109899997711182, -5.214000225067139, -5.304900169372559, -5.381999969482422, -5.423999786376953, -5.446599960327148, -5.5065999031066895, -5.55079984664917, -5.568299770355225, -5.577000141143799, -5.616399765014648, -5.716000080108643, -2.9426000118255615, -4.668900012969971, -4.136099815368652, -4.818299770355225, -3.5518999099731445, -5.194699764251709, -3.7091000080108643, -3.188699960708618, -4.828499794006348, -4.905399799346924, -4.305699825286865, -4.253200054168701, -4.3572998046875, -4.551599979400635, -4.288000106811523, -3.8310000896453857, -4.277500152587891, -4.738100051879883, -4.701000213623047, -4.48799991607666, -4.388999938964844, -4.249599933624268, -4.682499885559082, -4.6697998046875, -3.9284000396728516, -3.9593000411987305, -3.9892001152038574, -4.269599914550781, -4.363399982452393, -4.394499778747559, -4.412399768829346, -4.588699817657471, -4.612400054931641, -4.615799903869629, -4.643799781799316, -4.655600070953369, -4.6834001541137695, -4.6875, -4.6875, -4.799799919128418, -4.851600170135498, -4.8709001541137695, -5.002900123596191, -5.125999927520752, -5.131499767303467, -5.17080020904541, -5.171899795532227, -5.294300079345703, -5.294300079345703, -5.294300079345703, -5.348100185394287, -5.402500152587891, -5.42140007019043, -5.5065999031066895, -3.9995999336242676, -4.2835001945495605, -4.115499973297119, -4.781400203704834, -4.365499973297119, -4.648399829864502, -4.83620023727417, -4.305500030517578, -4.717700004577637, -4.127799987792969, -3.7788000106811523, -4.494100093841553, -4.4430999755859375, -4.068600177764893, -4.508699893951416, -4.327700138092041, -4.527400016784668, -4.614999771118164, -4.452199935913086, -4.500400066375732, -4.635000228881836, -3.2576000690460205, -4.070300102233887, -4.112400054931641, -4.11460018157959, -4.387899875640869, -4.497499942779541, -4.507299900054932, -4.518899917602539, -4.55649995803833, -4.581200122833252, -4.626399993896484, -4.714600086212158, -4.7469000816345215, -4.7469000816345215, -4.79449987411499, -4.837399959564209, -4.884900093078613, -4.916999816894531, -4.916999816894531, -4.939300060272217, -5.055600166320801, -5.077099800109863, -5.158999919891357, -5.161900043487549, -5.179800033569336, -5.186399936676025, -5.186399936676025, -5.242000102996826, -5.375999927520752, -5.390500068664551, -4.3958001136779785, -4.162899971008301, -3.3541998863220215, -3.953700065612793, -4.3531999588012695, -4.331600189208984, -4.263299942016602, -4.280900001525879, -4.1585001945495605, -4.612599849700928, -4.687099933624268, -4.46120023727417, -4.729400157928467, -4.658899784088135, -4.617800235748291, -4.513299942016602, -4.485599994659424, -4.639500141143799, -4.707600116729736, -2.896399974822998, -3.0810999870300293, -3.384999990463257, -4.018099784851074, -4.08519983291626, -4.182000160217285, -4.249599933624268, -4.464600086212158, -4.665500164031982, -4.696800231933594, -4.802700042724609, -4.8094000816345215, -4.823699951171875, -4.827000141143799, -4.887899875640869, -4.959099769592285, -4.979899883270264, -5.055200099945068, -5.157299995422363, -5.184899806976318, -5.349599838256836, -5.458199977874756, -5.478099822998047, -5.478099822998047, -5.480400085449219, -5.592599868774414, -5.610199928283691, -5.610199928283691, -5.646900177001953, -5.725200176239014, -4.333600044250488, -4.237100124359131, -3.7221999168395996, -2.9614999294281006, -4.066999912261963, -3.9001998901367188, -3.964200019836426, -3.2790000438690186, -4.922999858856201, -3.7909998893737793, -4.61929988861084, -4.733099937438965, -4.41949987411499, -3.6877999305725098, -3.795300006866455, -4.3907999992370605, -4.350800037384033, -4.5, -4.684000015258789, -4.779200077056885, -4.799300193786621]}, \"token.table\": {\"Topic\": [2, 9, 10, 11, 5, 9, 18, 7, 10, 11, 2, 7, 8, 14, 19, 20, 10, 20, 9, 5, 15, 15, 1, 7, 17, 17, 13, 2, 4, 10, 16, 1, 6, 7, 3, 17, 2, 12, 10, 17, 1, 10, 1, 14, 2, 10, 17, 8, 19, 7, 19, 6, 7, 11, 1, 15, 16, 13, 11, 16, 2, 15, 8, 13, 2, 5, 6, 15, 15, 1, 12, 17, 4, 20, 13, 16, 17, 2, 9, 10, 13, 14, 15, 10, 10, 3, 4, 6, 12, 15, 16, 17, 5, 8, 14, 8, 20, 2, 4, 5, 6, 9, 11, 13, 15, 19, 1, 13, 17, 10, 13, 17, 6, 13, 3, 9, 12, 2, 7, 1, 17, 6, 9, 11, 14, 11, 10, 13, 18, 10, 14, 20, 8, 9, 15, 17, 19, 1, 4, 10, 15, 17, 20, 3, 6, 10, 2, 16, 1, 18, 14, 15, 8, 18, 8, 12, 14, 4, 15, 13, 16, 9, 11, 9, 11, 14, 18, 18, 5, 13, 1, 13, 7, 16, 1, 10, 20, 15, 6, 14, 5, 12, 13, 14, 16, 6, 17, 1, 4, 5, 8, 10, 10, 16, 20, 20, 15, 18, 14, 10, 13, 14, 15, 18, 12, 20, 18, 4, 19, 1, 3, 10, 13, 16, 1, 5, 16, 20, 9, 2, 7, 7, 5, 3, 14, 6, 6, 6, 19, 3, 6, 7, 11, 3, 8, 5, 2, 2, 7, 10, 13, 17, 19, 6, 12, 13, 17, 20, 18, 5, 12, 9, 15, 9, 4, 6, 13, 3, 5, 6, 8, 15, 3, 20, 1, 4, 4, 11, 2, 15, 3, 16, 3, 10, 16, 13, 14, 11, 17, 18, 10, 5, 9, 12, 7, 15, 19, 19, 8, 2, 4, 14, 16, 17, 1, 2, 4, 5, 6, 7, 8, 10, 11, 12, 13, 15, 18, 20, 6, 5, 12, 2, 20, 11, 1, 19, 15, 10, 8, 2, 8, 6, 10, 13, 7, 10, 12, 14, 17, 5, 8, 4, 18, 15, 5, 13, 12, 9, 1, 4, 9, 11, 12, 19, 3, 13, 5, 8, 18, 9, 6, 3, 10, 5, 8, 9, 12, 1, 12, 10, 10, 16, 13, 17, 19, 5, 11, 6, 10, 11, 18, 20, 3, 5, 6, 8, 17, 18, 20, 14, 2, 4, 2, 6, 13, 18, 8, 10, 10, 7, 4, 5, 14, 20, 4, 8, 11, 10, 8, 14, 9, 11, 1, 10, 3, 11, 12, 20, 2, 15, 7, 3, 13, 15, 8, 4, 18, 8, 8, 12, 9, 1, 6, 5, 6, 14, 16, 5, 16, 7, 13, 9, 5, 6, 10, 13, 14, 16, 18, 9, 11, 19, 16, 1, 18, 11, 2, 13, 16, 8, 8, 4, 1, 13, 12, 1, 13, 19, 2, 16, 2, 20, 13, 7, 1, 16, 19, 6, 5, 6, 10, 13, 19, 7, 20, 6, 18, 14, 14, 3, 18, 5, 8, 1, 7, 14, 17, 18, 9, 10, 5, 20, 14, 2, 16, 1, 5, 13, 17, 20, 7, 18, 6, 12, 14, 17, 4, 5, 11, 3, 9, 10, 11, 10, 15, 18, 19, 15, 13, 17, 20, 1, 20, 1, 17, 1, 16, 7, 3, 13, 16, 20, 11, 7, 15, 17, 11, 3, 3, 15, 4, 1, 14, 10, 18, 1, 15, 7, 12, 15, 16, 19, 5, 7, 2, 7, 4, 20, 5, 10, 19, 7, 14, 4, 9, 13, 5, 12, 18, 20, 13, 9, 11, 4, 1, 2, 5, 10, 18, 17, 2, 5, 13, 17, 7, 1, 7, 14, 17, 12, 15, 19, 3, 15, 17, 20, 5, 11, 10, 10, 10, 14, 4, 11, 17, 18, 19, 4, 8, 3, 4, 17, 4, 16, 6, 20, 19, 3, 3, 8, 20, 2, 5, 6, 7, 10, 15, 16, 18, 20, 17, 13, 1, 7, 4, 13, 10, 12, 13, 14, 18, 12, 5, 6, 17, 20, 18, 14, 13, 12, 7, 18, 2, 6, 16, 20, 2, 20, 3, 3, 15, 14, 3, 17, 9, 15, 1, 17, 2, 14, 6, 9, 12, 14, 18, 10, 5, 13, 16, 7, 10, 1, 6, 8, 10, 14, 5, 10, 1, 2, 5, 7, 8, 10, 13, 14, 17, 18, 1, 8, 13, 1, 5, 20, 5, 1, 7, 20, 5, 13, 16, 1, 13, 16, 15, 1, 7, 2, 17, 20, 16, 12, 2, 17, 20, 3, 17, 11, 1, 13, 16, 12, 14, 11, 16, 16, 5, 18, 7, 19, 9, 12, 2, 1, 4, 7, 3, 4, 6, 8, 13, 18, 2, 20, 9, 16, 3, 11, 14, 7, 3, 3, 7, 10, 16, 9, 18, 17, 1, 11, 14, 19, 3, 8, 20, 1, 3, 2, 5, 8, 8, 13, 19, 15, 1, 15, 7, 16, 11, 3, 5, 11, 19, 18, 4, 17, 2, 16, 20, 15, 17, 8, 16, 17, 16, 6, 9, 6, 14, 3, 14, 16, 17, 19, 7, 18, 13, 16, 5, 9, 10, 18, 2, 5, 6, 7, 9, 10, 11, 15, 16, 18, 3, 11, 14, 19, 4, 19, 19, 16, 20, 20, 17, 8, 4, 2, 3, 4, 7, 9, 11, 14, 15, 16, 17, 6, 2, 5, 10, 11, 15, 20, 12, 20, 16, 3, 1, 15, 3, 3, 18, 5, 17, 8, 17, 2, 6, 10, 16, 19, 5, 10, 13, 14, 17, 15, 19, 6, 1, 7, 11, 13, 16, 17, 5, 6, 9, 11, 14, 2, 1, 11, 2, 11, 5, 13, 2, 12, 19, 9, 5, 19, 18, 7, 3, 1, 12, 2, 8, 6, 19, 12, 20, 9, 15, 20, 2, 7, 9, 10, 11, 12, 13, 14, 16, 19, 17, 9, 13, 15, 16, 3, 4, 4, 9, 3, 4, 7, 14, 19, 5, 6, 13, 16, 2, 9, 4, 5, 6, 8, 12, 13, 14, 17, 15, 16, 18, 1, 7, 13, 15, 19, 17, 3, 6, 14, 12, 20, 20, 2, 14, 5, 19, 7, 8, 13, 2, 15, 19, 20, 2, 3, 18, 10, 18, 8, 5, 10, 2, 12, 16, 5, 9, 9, 12, 15, 10, 17, 11, 12, 10, 1, 8, 15, 17, 19, 1, 17, 1, 13, 2, 16, 10, 16, 9, 19, 11, 2, 12, 16, 4, 8, 9, 17, 13, 15, 3, 13, 19, 19, 13, 2, 4, 8, 20, 17, 17, 12, 10, 9, 5, 12, 18, 20, 4, 9, 11, 3, 8, 13, 16, 12, 6, 7, 13, 17, 7, 2, 4, 12, 3, 11, 1, 5, 9, 6, 14, 16, 20, 9, 17, 2, 14, 2, 16, 4, 7, 16, 4, 18, 5, 2, 3, 4, 5, 6, 7, 8, 10, 11, 12, 14, 15, 16, 18, 1, 2, 4, 1, 2, 3, 5, 7, 8, 9, 11, 14, 15, 16, 6, 12, 9, 1, 7, 19, 14, 2, 17, 9, 10, 15, 18, 19, 19, 11, 18, 7, 3, 6, 9, 10, 11, 12, 19, 15, 17, 17, 7, 6, 14, 16, 17, 19, 20, 9, 12, 19, 9, 5, 16, 4, 1, 2, 3, 4, 5, 6, 7, 8, 9, 10, 12, 16, 17, 18, 6, 13, 19, 20, 4, 7, 4, 13, 1, 9, 11, 7, 8, 13, 16, 19, 2, 5, 7, 8, 17, 10, 19, 5, 18, 11, 20, 3, 11, 15, 11, 20, 5, 13, 8, 2, 1, 7, 12, 18, 8, 6, 2, 3, 18, 2, 3, 11, 18, 19, 2, 4, 7, 13, 17, 11, 16, 9, 19, 3, 6, 2, 6, 11, 3, 5, 11, 3, 9, 18, 4, 19, 5, 11, 3, 4, 6, 10, 18, 17, 8, 8, 13, 10, 6, 2, 8, 12, 19, 12, 14, 7, 9, 6, 6, 18, 4, 16, 9, 6, 11, 16, 20, 1, 20, 17, 15, 13, 1, 10, 12, 7, 15, 9, 19, 9, 11, 18, 14, 18, 3, 11, 7, 15, 19, 11, 3, 8, 13, 4, 17, 19, 8, 20, 14, 2, 15, 7, 15, 9, 11, 18, 17, 15, 15, 2, 3, 7, 4, 6, 14, 12, 12, 4, 14, 18, 4, 5, 8, 16, 17, 18, 4, 17, 1, 11, 19, 9, 4, 11, 12, 15, 4, 3, 15, 6, 5, 19, 20, 9, 15, 16, 10, 13, 5, 4, 7, 11, 13, 17, 8, 11, 13, 18, 12, 13, 17, 12, 4, 5, 1, 6, 14, 10, 5, 8, 14, 12, 2, 5, 9, 18, 20, 2, 18, 8, 17, 9, 8, 17, 10, 17, 3, 17, 8, 10, 9, 1, 11, 1, 19, 20, 6, 4, 4, 19, 18, 11, 15, 16, 12, 1, 4, 5, 6, 8, 10, 13, 3, 20, 5, 17, 6, 12, 20, 15, 7, 11, 18, 10, 19, 9, 11, 19, 5, 9, 2, 20, 5, 2, 18, 1, 4, 7, 10, 13, 15, 20, 8, 20, 5, 6, 7, 13, 9, 15, 2, 9, 16, 3, 4, 9, 16, 13, 9, 10, 11, 12, 15, 17, 19, 10, 18, 15, 15, 18, 15, 6, 7, 16, 1, 2, 14, 15, 14, 8, 3, 9, 5, 7, 8, 9, 12, 18, 12, 15, 11, 17, 11, 2, 9, 11, 13, 15, 18, 19, 11, 11, 1, 13, 2, 10, 11, 15, 16, 17, 18, 6, 3, 2, 14, 13, 20, 18, 7, 11, 6, 19], \"Freq\": [0.4030188322067261, 0.4244352877140045, 0.007787803187966347, 0.164517343044281, 0.49084654450416565, 0.3866574168205261, 0.1180810034275055, 0.745197594165802, 0.07871805876493454, 0.17492900788784027, 0.1296563446521759, 0.8140279650688171, 0.05480319634079933, 0.9104110598564148, 0.08455830067396164, 0.9920260310173035, 0.4181971251964569, 0.5782478451728821, 0.9928643703460693, 0.9909021258354187, 0.9969921708106995, 0.9872698783874512, 0.9907901883125305, 0.9962129592895508, 0.9907501935958862, 0.9824745059013367, 0.9799314141273499, 0.655417263507843, 0.09753233194351196, 0.23212695121765137, 0.013654526323080063, 0.16284330189228058, 0.631017804145813, 0.20355413854122162, 0.32376983761787415, 0.6745204925537109, 0.16219818592071533, 0.8350202441215515, 0.985602855682373, 0.9921667575836182, 0.9914056658744812, 0.9964797496795654, 0.9890786409378052, 0.9979142546653748, 0.07272200286388397, 0.8784052729606628, 0.04784342646598816, 0.9975767135620117, 0.9950211048126221, 0.9947704672813416, 0.9867398142814636, 0.10749424248933792, 0.8351476192474365, 0.057881515473127365, 0.9887070655822754, 0.9955998063087463, 0.9983813762664795, 0.9935916662216187, 0.9805299043655396, 0.9898041486740112, 0.1731792539358139, 0.8226014375686646, 0.9986841082572937, 0.984017014503479, 0.9857621788978577, 0.9958652257919312, 0.8213052749633789, 0.17468060553073883, 0.9934426546096802, 0.9942347407341003, 0.9934466481208801, 0.9917914867401123, 0.9931396842002869, 0.9803648591041565, 0.9935916662216187, 0.7219598293304443, 0.2719711661338806, 0.060235828161239624, 0.021623117849230766, 0.08958148956298828, 0.17144043743610382, 0.528221845626831, 0.128194198012352, 0.997128963470459, 0.9953265190124512, 0.13929501175880432, 0.06190889701247215, 0.1373603641986847, 0.11414452642202377, 0.19733460247516632, 0.04449702054262161, 0.3056751787662506, 0.20293183624744415, 0.7948163747787476, 0.9965636134147644, 0.999489426612854, 0.9950035810470581, 0.6583935618400574, 0.08771701157093048, 0.053662169724702835, 0.19916921854019165, 0.42557674646377563, 0.14845700562000275, 0.423102468252182, 0.6997136473655701, 0.2955312430858612, 0.8015289306640625, 0.14426478743553162, 0.054164398461580276, 0.21258334815502167, 0.1732160598039627, 0.6101929545402527, 0.9955961108207703, 0.9817332625389099, 0.9983001947402954, 0.997488796710968, 0.9828046560287476, 0.7070346474647522, 0.2909817695617676, 0.779524028301239, 0.2160637229681015, 0.9940654039382935, 0.3785739839076996, 0.5404664874076843, 0.08059278130531311, 0.9935453534126282, 0.11035607755184174, 0.06345474720001221, 0.8249117136001587, 0.09470494091510773, 0.8574636578559875, 0.04607267677783966, 0.13293087482452393, 0.08162422478199005, 0.6296725869178772, 0.06996361911296844, 0.08395634591579437, 0.08360034227371216, 0.5419932007789612, 0.1747153103351593, 0.05072380229830742, 0.08172167837619781, 0.06669240444898605, 0.07966157048940659, 0.9161080718040466, 0.9937947392463684, 0.9992160797119141, 0.9916109442710876, 0.9855403900146484, 0.9968999624252319, 0.4592289328575134, 0.5386849641799927, 0.8927661776542664, 0.10583699494600296, 0.9986841082572937, 0.9994856715202332, 0.9986196756362915, 0.16744525730609894, 0.830659806728363, 0.9835240244865417, 0.9983850121498108, 0.4406558573246002, 0.5569025278091431, 0.6648887991905212, 0.33430859446525574, 0.14806267619132996, 0.8451910614967346, 0.9895268082618713, 0.989650309085846, 0.9943332672119141, 0.8223339319229126, 0.17688380181789398, 0.45123887062072754, 0.5476868748664856, 0.998863697052002, 0.06585260480642319, 0.9320676326751709, 0.99543297290802, 0.9985270500183105, 0.9977803826332092, 0.99234938621521, 0.9990137219429016, 0.996843695640564, 0.9957414865493774, 0.9871785044670105, 0.23898595571517944, 0.7586414217948914, 0.9925868511199951, 0.9995661377906799, 0.5786353945732117, 0.3455161154270172, 0.07493120431900024, 0.5248652100563049, 0.47292542457580566, 0.9925599098205566, 0.987545907497406, 0.31039687991142273, 0.6866354942321777, 0.9908420443534851, 0.16611401736736298, 0.19631655514240265, 0.15554311871528625, 0.08305700868368149, 0.3971635103225708, 0.9907239675521851, 0.9812169075012207, 0.9884487390518188, 0.990900456905365, 0.9932470917701721, 0.44709765911102295, 0.21359319984912872, 0.1321381777524948, 0.09050559252500534, 0.11765727400779724, 0.9911457896232605, 0.16219541430473328, 0.836145281791687, 0.9735625386238098, 0.9881991744041443, 0.9993669986724854, 0.9956496357917786, 0.9955024123191833, 0.9943506717681885, 0.1888098567724228, 0.805218517780304, 0.9963671565055847, 0.9988834261894226, 0.9940592646598816, 0.9939264059066772, 0.1811758428812027, 0.2229856550693512, 0.5942060947418213, 0.9934828877449036, 0.8340228796005249, 0.16417773067951202, 0.9941330552101135, 0.9971639513969421, 0.14851921796798706, 0.6081101894378662, 0.17892473936080933, 0.035083282738924026, 0.029236067086458206, 0.9920397400856018, 0.5121685266494751, 0.0535101443529129, 0.12230890244245529, 0.25035104155540466, 0.059243373572826385, 0.9928852915763855, 0.9910954236984253, 0.9891188144683838, 0.13289162516593933, 0.8602983951568604, 0.9940985441207886, 0.24975912272930145, 0.17785876989364624, 0.5714185833930969, 0.02883426658809185, 0.44249510765075684, 0.0798487439751625, 0.15747946500778198, 0.29166969656944275, 0.9951854348182678, 0.9833697080612183, 0.1670236587524414, 0.830942690372467, 0.9994137287139893, 0.9951683282852173, 0.9924942851066589, 0.9870585203170776, 0.9961380958557129, 0.9937374591827393, 0.989588737487793, 0.9884529113769531, 0.9857195019721985, 0.9766126275062561, 0.021523142233490944, 0.11552596092224121, 0.6498335003852844, 0.23105192184448242, 0.9939872026443481, 0.7166964411735535, 0.2811655104160309, 0.9994856715202332, 0.23509185016155243, 0.6926813125610352, 0.07136716693639755, 0.9902030825614929, 0.99140864610672, 0.14554332196712494, 0.19458509981632233, 0.18192915618419647, 0.4761797785758972, 0.9787331819534302, 0.11934377253055573, 0.06472882628440857, 0.12608635425567627, 0.26127520203590393, 0.022587662562727928, 0.011125266551971436, 0.011462396010756493, 0.12945765256881714, 0.024273309856653214, 0.05090652406215668, 0.026296084746718407, 0.0330386720597744, 0.06405457109212875, 0.05528920516371727, 0.9932202100753784, 0.9959160685539246, 0.9925694465637207, 0.9809134006500244, 0.017438460141420364, 0.9954647421836853, 0.9977187514305115, 0.9938774108886719, 0.9943728446960449, 0.9977166652679443, 0.9936482906341553, 0.9873096346855164, 0.9877728819847107, 0.9977932572364807, 0.18256638944149017, 0.8139417767524719, 0.19819124042987823, 0.12011589854955673, 0.18617965281009674, 0.11010624468326569, 0.384370893239975, 0.2559572458267212, 0.7405695915222168, 0.9933549761772156, 0.9936671257019043, 0.9898508787155151, 0.8561675548553467, 0.1430124044418335, 0.9956828951835632, 0.9975091814994812, 0.12750324606895447, 0.19661715626716614, 0.11082057654857635, 0.4242163896560669, 0.03336533531546593, 0.10605409741401672, 0.9980144500732422, 0.991889238357544, 0.9880404472351074, 0.9928577542304993, 0.9905759692192078, 0.9905557632446289, 0.9978704452514648, 0.20190352201461792, 0.7953775525093079, 0.508611261844635, 0.07295653223991394, 0.16050437092781067, 0.2563900947570801, 0.9935621619224548, 0.9907239675521851, 0.9932167530059814, 0.3025408089160919, 0.6929160356521606, 0.569951593875885, 0.22956383228302002, 0.19789984822273254, 0.9963120222091675, 0.9959108233451843, 0.3056279718875885, 0.24252259731292725, 0.04083288460969925, 0.0544438473880291, 0.3551223576068878, 0.03686262667179108, 0.10105444490909576, 0.5338725447654724, 0.06864075362682343, 0.03241368755698204, 0.13728150725364685, 0.08961431682109833, 0.9904564023017883, 0.07736781239509583, 0.9206770062446594, 0.06761856377124786, 0.6003431677818298, 0.2065107524394989, 0.12518571317195892, 0.9882922172546387, 0.9891877174377441, 0.9955807328224182, 0.993410050868988, 0.9269412755966187, 0.06564740091562271, 0.005251792259514332, 0.985287070274353, 0.6470627188682556, 0.13572534918785095, 0.21463543176651, 0.9922934174537659, 0.9949129819869995, 0.9949602484703064, 0.873595654964447, 0.12479938566684723, 0.9906883239746094, 0.9875074625015259, 0.994335949420929, 0.1511576771736145, 0.7557883858680725, 0.09223180264234543, 0.8714078068733215, 0.12731607258319855, 0.9922780990600586, 0.13013221323490143, 0.29088377952575684, 0.5771746635437012, 0.9950278401374817, 0.17804139852523804, 0.8196043372154236, 0.9971325993537903, 0.9907183647155762, 0.9974539279937744, 0.9951732754707336, 0.9874189496040344, 0.9954617023468018, 0.1918601244688034, 0.19404035806655884, 0.6104640364646912, 0.9888843894004822, 0.9853441119194031, 0.9950547218322754, 0.2391989678144455, 0.7508189678192139, 0.9824549555778503, 0.440670371055603, 0.09639664739370346, 0.03876267001032829, 0.19024311006069183, 0.041312847286462784, 0.002040140563622117, 0.19024311006069183, 0.8686714768409729, 0.12811341881752014, 0.9902030825614929, 0.986528754234314, 0.18676666915416718, 0.8093222379684448, 0.9875281453132629, 0.9979382753372192, 0.9933549165725708, 0.9853716492652893, 0.9904840588569641, 0.9950278401374817, 0.9923496246337891, 0.9912856221199036, 0.996850311756134, 0.997458815574646, 0.9930081963539124, 0.849466860294342, 0.1481628268957138, 0.5148055553436279, 0.4815922677516937, 0.9876436591148376, 0.9883895516395569, 0.9933831691741943, 0.9941455125808716, 0.9970149397850037, 0.8365813493728638, 0.15844343602657318, 0.9966413378715515, 0.17618098855018616, 0.2876424491405487, 0.14921452105045319, 0.330788791179657, 0.05213519185781479, 0.10972508788108826, 0.8864632248878479, 0.21464751660823822, 0.7787212133407593, 0.9927510619163513, 0.9935927391052246, 0.9896743893623352, 0.9950897693634033, 0.9966214299201965, 0.9937908053398132, 0.2298644483089447, 0.5153170228004456, 0.03155002370476723, 0.051080986857414246, 0.17127154767513275, 0.9968467950820923, 0.9907013773918152, 0.47610944509506226, 0.5215562582015991, 0.9987258315086365, 0.9892749786376953, 0.9839438199996948, 0.11898926645517349, 0.712676465511322, 0.06925301253795624, 0.045329246670007706, 0.05351369082927704, 0.9940659403800964, 0.9931550621986389, 0.25504645705223083, 0.1073879823088646, 0.0483245886862278, 0.5879491567611694, 0.5004944205284119, 0.1054963693022728, 0.39254462718963623, 0.17039057612419128, 0.24935206770896912, 0.49662619829177856, 0.0810394212603569, 0.37423479557037354, 0.3841482996940613, 0.11152692139148712, 0.12639717757701874, 0.9931652545928955, 0.2889421880245209, 0.07408773899078369, 0.6346849799156189, 0.9881178736686707, 0.9927403330802917, 0.9965488314628601, 0.9936747550964355, 0.6991632580757141, 0.3001781105995178, 0.9963508248329163, 0.9928516149520874, 0.3309016525745392, 0.666274905204773, 0.9953891634941101, 0.9852094054222107, 0.21212074160575867, 0.19645273685455322, 0.5905634164810181, 0.9948360919952393, 0.9948905110359192, 0.9930720925331116, 0.9879682064056396, 0.9935628771781921, 0.9937078356742859, 0.9986196756362915, 0.9916823506355286, 0.9921565651893616, 0.9935621619224548, 0.9904407262802124, 0.0761820450425148, 0.06972593814134598, 0.07359960675239563, 0.06972593814134598, 0.7088803648948669, 0.9940203428268433, 0.9867790341377258, 0.9917962551116943, 0.9972150921821594, 0.678392231464386, 0.3214143216609955, 0.5718938112258911, 0.37946411967277527, 0.046758610755205154, 0.3294571340084076, 0.6693732142448425, 0.13145612180233002, 0.09085937589406967, 0.7752044200897217, 0.34618738293647766, 0.26910659670829773, 0.239356130361557, 0.14469550549983978, 0.9935916662216187, 0.9202781915664673, 0.07868549227714539, 0.9933549761772156, 0.2898344099521637, 0.7081181406974792, 0.09046377241611481, 0.797059178352356, 0.11002350598573685, 0.9978013038635254, 0.9953227043151855, 0.14832894504070282, 0.8454750180244446, 0.9968168139457703, 0.993410050868988, 0.2660950720310211, 0.11569350957870483, 0.07172997295856476, 0.5437595248222351, 0.10486526042222977, 0.034955088049173355, 0.856399655342102, 0.8000497221946716, 0.1632208377122879, 0.034784771502017975, 0.9930254817008972, 0.882028341293335, 0.11504717916250229, 0.9954341053962708, 0.995361864566803, 0.9975133538246155, 0.9986196756362915, 0.9995661377906799, 0.9933497309684753, 0.2558434307575226, 0.27964282035827637, 0.46408811211586, 0.9948365688323975, 0.9935659766197205, 0.9942871332168579, 0.9918214082717896, 0.9931772351264954, 0.9969379305839539, 0.9948305487632751, 0.9942463040351868, 0.9848127365112305, 0.9971662163734436, 0.996330201625824, 0.15098075568675995, 0.7308841347694397, 0.11666695028543472, 0.03446813300251961, 0.04870497062802315, 0.4503336548805237, 0.07867725938558578, 0.05320081487298012, 0.12438499927520752, 0.029972290620207787, 0.1161426231265068, 0.06444042176008224, 0.9916383624076843, 0.9933434128761292, 0.9853699207305908, 0.9989967346191406, 0.9955869317054749, 0.9912062883377075, 0.1470010131597519, 0.0996617004275322, 0.0996617004275322, 0.1993234008550644, 0.4559522867202759, 0.9936800003051758, 0.4605017304420471, 0.326399564743042, 0.10120917111635208, 0.11006497591733932, 0.9926662445068359, 0.9984278082847595, 0.9924313426017761, 0.9921913743019104, 0.9947704672813416, 0.996425211429596, 0.5143840909004211, 0.18656416237354279, 0.29717007279396057, 0.9788761734962463, 0.9950326085090637, 0.9670210480690002, 0.9914195537567139, 0.9971149563789368, 0.9875667691230774, 0.9959041476249695, 0.9953582882881165, 0.9947922229766846, 0.9970718026161194, 0.9933484196662903, 0.20069265365600586, 0.7964990139007568, 0.9937393665313721, 0.9925541281700134, 0.32216235995292664, 0.15887460112571716, 0.09709002822637558, 0.06399115920066833, 0.3574678301811218, 0.9885942935943604, 0.991002082824707, 0.9934216141700745, 0.9911155700683594, 0.9980421662330627, 0.9968292117118835, 0.39938464760780334, 0.20217297971248627, 0.19969232380390167, 0.15628094971179962, 0.04217104986310005, 0.7050382494926453, 0.2949179708957672, 0.14074382185935974, 0.04800105094909668, 0.23600517213344574, 0.057186439633369446, 0.15304039418697357, 0.1508181244134903, 0.1699296534061432, 0.005926055833697319, 0.014815139584243298, 0.023556072264909744, 0.5121145248413086, 0.23263247311115265, 0.2536340057849884, 0.8420076370239258, 0.04668143391609192, 0.11078131198883057, 0.9963912963867188, 0.9935621619224548, 0.8751171231269836, 0.12154404073953629, 0.9979763627052307, 0.9874464869499207, 0.9871629476547241, 0.7696375250816345, 0.0004162452823948115, 0.22976739704608917, 0.9965552687644958, 0.739968478679657, 0.2582017779350281, 0.8923206329345703, 0.02515941672027111, 0.08218742907047272, 0.9916601777076721, 0.999262809753418, 0.8923206329345703, 0.02515941672027111, 0.08218742907047272, 0.999724268913269, 0.9811915159225464, 0.9934828877449036, 0.8136752843856812, 0.14536550641059875, 0.04086953401565552, 0.9974822998046875, 0.9987258315086365, 0.8863775134086609, 0.10822051018476486, 0.9950436949729919, 0.9927417635917664, 0.9907827973365784, 0.48472467064857483, 0.5130297541618347, 0.18369260430335999, 0.8066501021385193, 0.9889845252037048, 0.24667976796627045, 0.6377373337745667, 0.11467722058296204, 0.03385704383254051, 0.05540243536233902, 0.21606950461864471, 0.43706366419792175, 0.17851896584033966, 0.07817899435758591, 0.7199513912200928, 0.2761780619621277, 0.21347911655902863, 0.7796628475189209, 0.9996795058250427, 0.9956186413764954, 0.9921867251396179, 0.9930159449577332, 0.9987146258354187, 0.9977333545684814, 0.1045714020729065, 0.8919325470924377, 0.9868432879447937, 0.9857146143913269, 0.9916045069694519, 0.9908156991004944, 0.14777402579784393, 0.6913106441497803, 0.15966388583183289, 0.985659122467041, 0.1522427797317505, 0.8258921504020691, 0.021393591538071632, 0.08223150670528412, 0.9155107736587524, 0.2139866203069687, 0.6378048062324524, 0.14750534296035767, 0.863308846950531, 0.13478536903858185, 0.990974485874176, 0.9943743944168091, 0.35882797837257385, 0.6398378610610962, 0.8939882516860962, 0.10114465653896332, 0.9798389077186584, 0.24255089461803436, 0.19089654088020325, 0.47611844539642334, 0.08758782595396042, 0.9981173276901245, 0.9962024092674255, 0.994135320186615, 0.5266318917274475, 0.472861647605896, 0.9970896244049072, 0.8362439274787903, 0.15888634324073792, 0.9941021203994751, 0.12473273277282715, 0.8677060008049011, 0.9910136461257935, 0.9953315258026123, 0.9903828501701355, 0.9978704452514648, 0.9975776076316833, 0.13123999536037445, 0.3695839047431946, 0.033187124878168106, 0.09352735430002213, 0.37109240889549255, 0.9953199625015259, 0.9938793778419495, 0.9919002652168274, 0.9983850121498108, 0.12347806245088577, 0.18378131091594696, 0.0574316568672657, 0.6317482590675354, 0.1287325769662857, 0.12416219711303711, 0.20719090104103088, 0.227376788854599, 0.10549978166818619, 0.03961002454161644, 0.012187699787318707, 0.031230982393026352, 0.017519818618893623, 0.10626151412725449, 0.9985405206680298, 0.992501974105835, 0.24657060205936432, 0.7521648406982422, 0.5962679386138916, 0.400197833776474, 0.995341956615448, 0.9922615885734558, 0.9979813098907471, 0.9854061603546143, 0.9986699223518372, 0.9957550764083862, 0.9888559579849243, 0.12841098010540009, 0.13149283826351166, 0.07293743640184402, 0.1448475867509842, 0.03081863559782505, 0.09348319470882416, 0.21983960270881653, 0.07088286429643631, 0.04109151288866997, 0.06574641913175583, 0.994670033454895, 0.3333735764026642, 0.4017309248447418, 0.04837597534060478, 0.012619820423424244, 0.09359699487686157, 0.10937177389860153, 0.8949556946754456, 0.1034630835056305, 0.9890015125274658, 0.9983460903167725, 0.6251100897789001, 0.3744763433933258, 0.9911442399024963, 0.9358924627304077, 0.06274139136075974, 0.44196051359176636, 0.556458055973053, 0.44934332370758057, 0.5505113005638123, 0.7073796391487122, 0.1578487902879715, 0.1338774859905243, 0.9923694133758545, 0.9950143098831177, 0.16012023389339447, 0.12647628784179688, 0.5862767696380615, 0.026790544390678406, 0.09968574345111847, 0.9870585203170776, 0.9984354972839355, 0.9917879104614258, 0.26704391837120056, 0.21102072298526764, 0.028634080663323402, 0.0037348801270127296, 0.05042088031768799, 0.4382259249687195, 0.11206765472888947, 0.6518220901489258, 0.23328369855880737, 0.8241258263587952, 0.1742437332868576, 0.9980303049087524, 0.9860106110572815, 0.9892466068267822, 0.2591538429260254, 0.7358118295669556, 0.9920367002487183, 0.992793619632721, 0.9886144399642944, 0.8868680596351624, 0.11002498120069504, 0.9941229820251465, 0.9927417635917664, 0.9885632395744324, 0.9952433109283447, 0.9942934513092041, 0.9907156825065613, 0.998432457447052, 0.9893041253089905, 0.9975522756576538, 0.9877728819847107, 0.9921366572380066, 0.989640474319458, 0.9950482249259949, 0.9897660613059998, 0.17704978585243225, 0.23296025395393372, 0.5824006199836731, 0.22487741708755493, 0.161574125289917, 0.20739366114139557, 0.024115541949868202, 0.03677619993686676, 0.021101098507642746, 0.05064263567328453, 0.09706505388021469, 0.07234662771224976, 0.10369683057069778, 0.9803110361099243, 0.12242793291807175, 0.6399068236351013, 0.17670010030269623, 0.05932075157761574, 0.9993653297424316, 0.9987941384315491, 0.9968502521514893, 0.9919736385345459, 0.9192686080932617, 0.04008703678846359, 0.04008703678846359, 0.9983747601509094, 0.9838151931762695, 0.08988983929157257, 0.07730526477098465, 0.08809204399585724, 0.7424900531768799, 0.23746715486049652, 0.7609742879867554, 0.24454335868358612, 0.04378287121653557, 0.1324164867401123, 0.10999111831188202, 0.02776474691927433, 0.277647465467453, 0.11426261812448502, 0.048054371029138565, 0.5686047077178955, 0.22922807931900024, 0.2024351954460144, 0.09143605828285217, 0.3745361566543579, 0.35343554615974426, 0.10022798925638199, 0.07912735641002655, 0.9949155449867249, 0.35414549708366394, 0.6436069011688232, 0.9883661270141602, 0.27812594175338745, 0.7107663154602051, 0.9812169075012207, 0.9928255677223206, 0.9938998818397522, 0.9911856055259705, 0.9907362461090088, 0.9956496357917786, 0.9961848855018616, 0.9966221451759338, 0.026159504428505898, 0.642776370048523, 0.03550218418240547, 0.2933601438999176, 0.9888893365859985, 0.6607150435447693, 0.3369085192680359, 0.9939141273498535, 0.9937111735343933, 0.9835157990455627, 0.9944040179252625, 0.9922165274620056, 0.3232869505882263, 0.6724368333816528, 0.9867410659790039, 0.8736497163772583, 0.12448081374168396, 0.39229097962379456, 0.14395998418331146, 0.46067196130752563, 0.0950208529829979, 0.9026980996131897, 0.9915176630020142, 0.9965543150901794, 0.9981982111930847, 0.3154428005218506, 0.12914100289344788, 0.10373622179031372, 0.12067274749279022, 0.32814517617225647, 0.8235927820205688, 0.17460167407989502, 0.7701737880706787, 0.22784307599067688, 0.9964619874954224, 0.9926345348358154, 0.0843292847275734, 0.9088822603225708, 0.9959501028060913, 0.9899086356163025, 0.9882322549819946, 0.12316814064979553, 0.8504466414451599, 0.025974232703447342, 0.9966978430747986, 0.21701838076114655, 0.19148680567741394, 0.5897793173789978, 0.9934402704238892, 0.9933816194534302, 0.284295916557312, 0.7124121189117432, 0.9922887682914734, 0.988457977771759, 0.9944401383399963, 0.9939197897911072, 0.9920631647109985, 0.9964097738265991, 0.9992291331291199, 0.9961388111114502, 0.9822821617126465, 0.9891923666000366, 0.9959192276000977, 0.9887017607688904, 0.5041773915290833, 0.12324336916208267, 0.13668809831142426, 0.2352827936410904, 0.9909067153930664, 0.07917709648609161, 0.913581907749176, 0.16243582963943481, 0.6839403510093689, 0.1496119499206543, 0.9868527054786682, 0.9941866993904114, 0.9977932572364807, 0.9898332953453064, 0.9974559545516968, 0.9942625761032104, 0.9894430041313171, 0.9939197897911072, 0.9946436882019043, 0.9909722208976746, 0.9876719117164612, 0.9885342717170715, 0.9920797348022461, 0.21821030974388123, 0.7779672145843506, 0.9972507357597351, 0.34270957112312317, 0.6563000679016113, 0.9952991604804993, 0.9984288811683655, 0.9981126189231873, 0.9991084337234497, 0.9961639642715454, 0.987684965133667, 0.9799948334693909, 0.6473689079284668, 0.1048017144203186, 0.24672070145606995, 0.9963355660438538, 0.9884487390518188, 0.9938119053840637, 0.0825137346982956, 0.0702894777059555, 0.010557313449680805, 0.12307604402303696, 0.08751457184553146, 0.10085012018680573, 0.013891201466321945, 0.04195142909884453, 0.20058895647525787, 0.0391731895506382, 0.07862420380115509, 0.024170691147446632, 0.07640160620212555, 0.050286151468753815, 0.20135530829429626, 0.10697001218795776, 0.6890127062797546, 0.24668529629707336, 0.13799722492694855, 0.028087930753827095, 0.03724703937768936, 0.0885380432009697, 0.0989183634519577, 0.18989883363246918, 0.05617586150765419, 0.02442428655922413, 0.051291003823280334, 0.03968946635723114, 0.9180399775505066, 0.07982956618070602, 0.9873426556587219, 0.990614116191864, 0.8399918079376221, 0.15856987237930298, 0.9904199838638306, 0.8989138007164001, 0.09872463345527649, 0.06592517346143723, 0.7226413488388062, 0.20791786909103394, 0.9953376054763794, 0.9899086356163025, 0.994146466255188, 0.9984639883041382, 0.9957674145698547, 0.9972150921821594, 0.0653686597943306, 0.2572843134403229, 0.22208581864833832, 0.0921865701675415, 0.17347835004329681, 0.08129178732633591, 0.10727164149284363, 0.9904471635818481, 0.9943183064460754, 0.9925274848937988, 0.9954684972763062, 0.10176218301057816, 0.13715772330760956, 0.19909992814064026, 0.08185219019651413, 0.1415821611881256, 0.33846986293792725, 0.045263879001140594, 0.8147497773170471, 0.1357916295528412, 0.978329062461853, 0.5420362949371338, 0.4563467502593994, 0.9935315251350403, 0.04140014946460724, 0.016560060903429985, 0.12328045070171356, 0.21405410766601562, 0.051213521510362625, 0.09905369579792023, 0.07145359367132187, 0.12512046098709106, 0.011040040291845798, 0.11653375625610352, 0.03220011666417122, 0.007360026706010103, 0.07482694089412689, 0.015640057623386383, 0.9974350929260254, 0.9848629832267761, 0.2167087346315384, 0.782294750213623, 0.9971203804016113, 0.9973284006118774, 0.9931007027626038, 0.9847687482833862, 0.10973656177520752, 0.17489264905452728, 0.7132876515388489, 0.9933304190635681, 0.07146420329809189, 0.33052194118499756, 0.10049653798341751, 0.4935496747493744, 0.10743050277233124, 0.21195748448371887, 0.635872483253479, 0.043552909046411514, 0.9889441132545471, 0.9935060143470764, 0.9939296841621399, 0.9942795634269714, 0.9953097701072693, 0.9147864580154419, 0.08530747145414352, 0.15024349093437195, 0.6817018389701843, 0.1659405678510666, 0.9984639883041382, 0.9968969821929932, 0.9954885244369507, 0.9943733811378479, 0.9885532855987549, 0.9921421408653259, 0.990730881690979, 0.15930549800395966, 0.1026635393500328, 0.7363454103469849, 0.9932925701141357, 0.9928231835365295, 0.8249709010124207, 0.17416849732398987, 0.9840348958969116, 0.42628201842308044, 0.3498874008655548, 0.07028305530548096, 0.036669421941041946, 0.11611983180046082, 0.11059590429067612, 0.0531294047832489, 0.477080374956131, 0.30901795625686646, 0.04879231005907059, 0.9941380023956299, 0.9902161955833435, 0.9921491742134094, 0.9944244623184204, 0.9174205660820007, 0.0817665383219719, 0.9884137511253357, 0.9991304874420166, 0.9918803572654724, 0.7567274570465088, 0.24027477204799652, 0.9898552894592285, 0.9944443702697754, 0.9900510907173157, 0.9932680130004883, 0.47242435812950134, 0.5253359079360962, 0.9971172213554382, 0.9966246485710144, 0.5222476720809937, 0.04417020082473755, 0.05066582188010216, 0.3000975549221039, 0.08054566383361816, 0.9904065728187561, 0.9946301579475403, 0.7413511276245117, 0.25454115867614746, 0.988587498664856, 0.9953315258026123, 0.15953536331653595, 0.3320561647415161, 0.2430131733417511, 0.26341885328292847, 0.996076762676239, 0.9956691861152649, 0.9955852031707764, 0.9931711554527283, 0.9977932572364807, 0.9413213133811951, 0.05761092156171799, 0.3091442883014679, 0.6880953311920166, 0.9972595572471619, 0.038483425974845886, 0.38030678033828735, 0.5795150995254517, 0.9932209253311157, 0.9003309011459351, 0.09945718199014664, 0.9830474853515625, 0.9978172779083252, 0.9869537949562073, 0.14846797287464142, 0.8495667576789856, 0.9995527267456055, 0.22358109056949615, 0.7759578824043274, 0.10561470687389374, 0.8908370733261108, 0.5672374963760376, 0.3895101845264435, 0.042569421231746674, 0.7537766695022583, 0.2442551553249359, 0.9933062791824341, 0.9847437739372253, 0.13853035867214203, 0.17811045050621033, 0.682756781578064, 0.9919850826263428, 0.5346599221229553, 0.11391380429267883, 0.34909069538116455, 0.9918550252914429, 0.8773345351219177, 0.12171678245067596, 0.039998531341552734, 0.954250693321228, 0.9986196756362915, 0.9949759840965271, 0.9965307712554932, 0.9942956566810608, 0.9945586323738098, 0.48558172583580017, 0.5123929977416992, 0.981107771396637, 0.9894070029258728, 0.9857447147369385, 0.9896840453147888, 0.05692483112215996, 0.9406150579452515, 0.9916648864746094, 0.9967823624610901, 0.32093653082847595, 0.6736489534378052, 0.9861273169517517, 0.9880989789962769, 0.00728951022028923, 0.984083890914917, 0.9947060346603394, 0.2233259528875351, 0.11526501178741455, 0.21303443610668182, 0.06277826428413391, 0.3818153440952301, 0.003087455639615655, 0.7097053527832031, 0.2870718240737915, 0.3779086172580719, 0.17457735538482666, 0.4456857144832611, 0.9871938824653625, 0.9984176754951477, 0.24946680665016174, 0.6158711910247803, 0.12993063032627106, 0.9918550252914429, 0.2586142122745514, 0.736055850982666, 0.9921883344650269, 0.9942598938941956, 0.7023175954818726, 0.29205286502838135, 0.9920187592506409, 0.9982612729072571, 0.9818557500839233, 0.12399040162563324, 0.8720658421516418, 0.9956004619598389, 0.2454863339662552, 0.13808606564998627, 0.040275104343891144, 0.11890744417905807, 0.45453330874443054, 0.7801107168197632, 0.06883329898118973, 0.04971293732523918, 0.10133790969848633, 0.3861353099346161, 0.3861353099346161, 0.2233840525150299, 0.9946057200431824, 0.6086379289627075, 0.39092355966567993, 0.9856378436088562, 0.992648720741272, 0.9910542368888855, 0.9925134778022766, 0.9881976842880249, 0.992415189743042, 0.9932827949523926, 0.9977057576179504, 0.28051307797431946, 0.19090473651885986, 0.1519445925951004, 0.3740174472332001, 0.9905795454978943, 0.9933745861053467, 0.9884487390518188, 0.15252093970775604, 0.8419155478477478, 0.9881991744041443, 0.9914942979812622, 0.9903416037559509, 0.9918152093887329, 0.9933531880378723, 0.22493699193000793, 0.7704092264175415, 0.993868887424469, 0.9937824606895447, 0.9966574907302856, 0.9261870384216309, 0.06961536407470703, 0.994133710861206, 0.9912732243537903, 0.9979641437530518, 0.9973865151405334, 0.997349202632904, 0.9976842999458313, 0.9932632446289062, 0.9898692965507507, 0.549354612827301, 0.041829030960798264, 0.40713587403297424, 0.9947910308837891, 0.1391947716474533, 0.00861553754657507, 0.08157836645841599, 0.032846733927726746, 0.27300482988357544, 0.1251945197582245, 0.3392367660999298, 0.9996713399887085, 0.9830967783927917, 0.985892117023468, 0.9920886158943176, 0.9888180494308472, 0.9966723918914795, 0.9884299635887146, 0.9837035536766052, 0.9897847771644592, 0.15003032982349396, 0.8439205884933472, 0.9953893423080444, 0.9954689741134644, 0.5259934067726135, 0.4710388779640198, 0.9923732876777649, 0.9911856055259705, 0.9853740334510803, 0.9936051964759827, 0.9905795454978943, 0.9960548877716064, 0.9965317845344543, 0.9907827973365784, 0.19039204716682434, 0.04142262414097786, 0.3412615954875946, 0.022421419620513916, 0.35760262608528137, 0.028501804918050766, 0.0182411540299654, 0.8098610639572144, 0.18792356550693512, 0.08966036140918732, 0.4006101191043854, 0.509347140789032, 0.9978466033935547, 0.999001145362854, 0.9895986914634705, 0.17813406884670258, 0.7252601385116577, 0.09224800020456314, 0.42432868480682373, 0.16569024324417114, 0.07274205982685089, 0.3367688059806824, 0.9885612726211548, 0.5228626728057861, 0.015454068779945374, 0.34814581274986267, 0.009444152936339378, 0.013736950233578682, 0.013736950233578682, 0.07598250359296799, 0.9380434155464172, 0.0612926110625267, 0.9860507249832153, 0.9883275032043457, 0.993000328540802, 0.9935516119003296, 0.16742710769176483, 0.8293482065200806, 0.9943628311157227, 0.19101017713546753, 0.8062118291854858, 0.9935667514801025, 0.9950979948043823, 0.9987258315086365, 0.9993872046470642, 0.9944443702697754, 0.997488796710968, 0.09089407324790955, 0.5373913049697876, 0.15069280564785004, 0.031095340847969055, 0.12358404695987701, 0.06537994742393494, 0.9040079712867737, 0.09438598155975342, 0.9082683324813843, 0.0862085223197937, 0.9841716885566711, 0.14648208022117615, 0.39478710293769836, 0.06966830790042877, 0.1411229819059372, 0.10360927879810333, 0.08038651198148727, 0.06073647364974022, 0.9918572902679443, 0.9979894757270813, 0.9985995292663574, 0.000989692285656929, 0.07238496094942093, 0.0021934835240244865, 0.1359959840774536, 0.33998996019363403, 0.0910295695066452, 0.23250927031040192, 0.126125305891037, 0.9958129525184631, 0.9968218803405762, 0.12004408240318298, 0.8758772015571594, 0.15161697566509247, 0.8474999666213989, 0.991820216178894, 0.9921897649765015, 0.9966246485710144, 0.9985270500183105, 0.990974485874176], \"Term\": [\"000\", \"000\", \"000\", \"000\", \"10\", \"10\", \"10\", \"100\", \"100\", \"100\", \"11\", \"11\", \"11\", \"12\", \"12\", \"13\", \"14\", \"14\", \"16\", \"1795\", \"19\", \"1970s\", \"2012\", \"2015\", \"25\", \"28\", \"280\", \"300\", \"300\", \"300\", \"300\", \"4\", \"4\", \"4\", \"40\", \"40\", \"400\", \"400\", \"41\", \"43\", \"499\", \"500\", \"52\", \"57\", \"6\", \"6\", \"6\", \"7\", \"72\", \"8\", \"800\", \"9\", \"9\", \"9\", \"999\", \"abandoned\", \"abdel\", \"abdi\", \"abdullah\", \"abrams\", \"absence\", \"absence\", \"abu\", \"accidental\", \"account\", \"across\", \"actor\", \"actor\", \"ad\", \"age\", \"agent\", \"ago\", \"agreed\", \"agrees\", \"ahmed\", \"aid\", \"aid\", \"air\", \"air\", \"air\", \"air\", \"air\", \"air\", \"airdrop\", \"airdropped\", \"airport\", \"airport\", \"airport\", \"airport\", \"airport\", \"airport\", \"airport\", \"airstrike\", \"airstrike\", \"airstrikes\", \"al\", \"alan\", \"alleged\", \"alleged\", \"alleged\", \"alleged\", \"allegedly\", \"allegedly\", \"allegedly\", \"amazon\", \"amazon\", \"american\", \"american\", \"american\", \"among\", \"among\", \"among\", \"angry\", \"animal\", \"ankle\", \"anna\", \"anyway\", \"app\", \"app\", \"apparently\", \"apparently\", \"appendix\", \"apple\", \"apple\", \"apple\", \"apps\", \"arm\", \"arm\", \"arm\", \"arrest\", \"arrest\", \"arrest\", \"arrested\", \"arrested\", \"arrested\", \"arrested\", \"arrested\", \"attack\", \"attack\", \"attack\", \"attack\", \"attack\", \"attack\", \"attempt\", \"attempt\", \"attorney\", \"audio\", \"awakens\", \"awesome\", \"axl\", \"baby\", \"baby\", \"baghdadi\", \"baghdadi\", \"bakr\", \"bale\", \"bank\", \"banksy\", \"banksy\", \"banned\", \"bary\", \"batman\", \"batman\", \"batmobile\", \"batmobile\", \"battle\", \"battle\", \"become\", \"bed\", \"behead\", \"beheaded\", \"beheaded\", \"beheading\", \"beheading\", \"beheads\", \"behind\", \"behind\", \"belonging\", \"bibeau\", \"big\", \"bin\", \"biopic\", \"bird\", \"birth\", \"blurred\", \"body\", \"body\", \"bogus\", \"boko\", \"border\", \"border\", \"border\", \"born\", \"born\", \"bosnia\", \"bosnian\", \"boston\", \"boston\", \"bowe\", \"boy\", \"boy\", \"boy\", \"boy\", \"boy\", \"boyle\", \"brat\", \"brave\", \"breached\", \"break\", \"breaking\", \"breaking\", \"breaking\", \"breaking\", \"breaking\", \"britain\", \"british\", \"british\", \"briton\", \"brokaw\", \"brown\", \"buckingham\", \"bug\", \"bugatti\", \"building\", \"building\", \"burrow\", \"burrowed\", \"butcher\", \"campus\", \"canadian\", \"canadian\", \"canadian\", \"canseco\", \"capital\", \"capital\", \"capsule\", \"capture\", \"captured\", \"captured\", \"captured\", \"captured\", \"captured\", \"car\", \"case\", \"case\", \"case\", \"case\", \"case\", \"cast\", \"castrate\", \"castrated\", \"catch\", \"catch\", \"catching\", \"catfish\", \"catfish\", \"catfish\", \"caught\", \"caught\", \"caught\", \"caught\", \"caught\", \"cause\", \"cawthorne\", \"cease\", \"cease\", \"ceasefire\", \"center\", \"ceo\", \"cesar\", \"charge\", \"check\", \"cheese\", \"chemical\", \"chest\", \"chief\", \"chief\", \"child\", \"child\", \"child\", \"chlorine\", \"chop\", \"chop\", \"christian\", \"christmas\", \"christmas\", \"christmas\", \"chugging\", \"circling\", \"city\", \"city\", \"city\", \"city\", \"civil\", \"claim\", \"claim\", \"claim\", \"claim\", \"claim\", \"claim\", \"claim\", \"claim\", \"claim\", \"claim\", \"claim\", \"claim\", \"claim\", \"claim\", \"cleaver\", \"cleric\", \"closer\", \"cnn\", \"cnn\", \"co\", \"college\", \"colorado\", \"com\", \"comcast\", \"come\", \"comment\", \"conde\", \"condom\", \"confirmed\", \"confirmed\", \"confirms\", \"confirms\", \"confirms\", \"confirms\", \"confirms\", \"congressman\", \"congressman\", \"constipated\", \"contact\", \"contains\", \"contracted\", \"contracted\", \"control\", \"cost\", \"could\", \"could\", \"could\", \"could\", \"could\", \"could\", \"crater\", \"creature\", \"crisis\", \"cross\", \"cub\", \"cuba\", \"culkin\", \"customer\", \"customer\", \"cut\", \"cut\", \"cut\", \"cut\", \"dam\", \"danny\", \"darkness\", \"date\", \"date\", \"daughter\", \"daughter\", \"daughter\", \"david\", \"dawn\", \"day\", \"day\", \"day\", \"day\", \"day\", \"dead\", \"dead\", \"dead\", \"dead\", \"dead\", \"dead\", \"dead\", \"deadly\", \"deal\", \"deal\", \"death\", \"death\", \"death\", \"death\", \"debunked\", \"debut\", \"december\", \"decrease\", \"denies\", \"denies\", \"denies\", \"deny\", \"despite\", \"despite\", \"despite\", \"detail\", \"detained\", \"detainee\", \"detroit\", \"detroit\", \"developer\", \"device\", \"dictator\", \"died\", \"died\", \"died\", \"dinner\", \"dinner\", \"document\", \"dog\", \"dog\", \"dog\", \"domestic\", \"doubt\", \"doubt\", \"drone\", \"droppings\", \"drug\", \"due\", \"dupe\", \"durex\", \"dy\", \"dy\", \"dy\", \"early\", \"earth\", \"eat\", \"eating\", \"eating\", \"ebay\", \"ebola\", \"ebola\", \"ebola\", \"ebola\", \"ebola\", \"ebola\", \"ebola\", \"edition\", \"edition\", \"eggnog\", \"elaborate\", \"electric\", \"electric\", \"employee\", \"emwazi\", \"ended\", \"english\", \"entering\", \"espn\", \"ever\", \"evil\", \"ex\", \"exclusive\", \"executed\", \"execution\", \"execution\", \"executioner\", \"executioner\", \"explosion\", \"extra\", \"eye\", \"eyewitness\", \"fabricated\", \"face\", \"face\", \"facebook\", \"fake\", \"fake\", \"fake\", \"fake\", \"fake\", \"fall\", \"fall\", \"family\", \"family\", \"far\", \"farther\", \"fat\", \"father\", \"fatwa\", \"fault\", \"fear\", \"fear\", \"fear\", \"fear\", \"fear\", \"feature\", \"feb\", \"female\", \"female\", \"fence\", \"ferguson\", \"fight\", \"fighter\", \"fighter\", \"fighter\", \"fighter\", \"fighter\", \"fighting\", \"file\", \"find\", \"find\", \"find\", \"find\", \"fire\", \"fire\", \"fire\", \"fired\", \"fired\", \"fired\", \"fired\", \"first\", \"first\", \"first\", \"first\", \"fisherman\", \"five\", \"five\", \"five\", \"flood\", \"flown\", \"fly\", \"flying\", \"foley\", \"foley\", \"food\", \"foot\", \"force\", \"force\", \"forced\", \"forget\", \"found\", \"found\", \"found\", \"founder\", \"fractured\", \"francis\", \"freak\", \"free\", \"game\", \"gang\", \"gas\", \"gave\", \"gaza\", \"gender\", \"get\", \"get\", \"get\", \"get\", \"get\", \"getting\", \"gift\", \"giggling\", \"gill\", \"girl\", \"girl\", \"girlfriend\", \"girlfriend\", \"girlfriend\", \"give\", \"give\", \"go\", \"go\", \"go\", \"god\", \"god\", \"god\", \"god\", \"godane\", \"gold\", \"gold\", \"goldfish\", \"google\", \"google\", \"got\", \"got\", \"got\", \"graf\", \"graffiti\", \"graphic\", \"graphic\", \"grave\", \"gravity\", \"group\", \"group\", \"group\", \"group\", \"guard\", \"guard\", \"guard\", \"gunman\", \"gunman\", \"gunman\", \"gunshot\", \"haines\", \"haines\", \"hair\", \"hairgate\", \"hand\", \"hank\", \"haram\", \"hbo\", \"head\", \"head\", \"head\", \"headshot\", \"hearing\", \"heaven\", \"hebdo\", \"held\", \"helmet\", \"help\", \"hero\", \"herzegovina\", \"high\", \"hill\", \"hit\", \"hit\", \"hit\", \"hoax\", \"hoax\", \"hoax\", \"hoax\", \"hoax\", \"hoax\", \"hoax\", \"hoax\", \"hoax\", \"hold\", \"holding\", \"hollywood\", \"homeless\", \"hope\", \"horrific\", \"hospital\", \"hospital\", \"hospital\", \"hospital\", \"hospital\", \"hospitalized\", \"hostage\", \"hostage\", \"hostage\", \"hostage\", \"hour\", \"house\", \"huge\", \"husband\", \"icloud\", \"idea\", \"identified\", \"identified\", \"identified\", \"identifies\", \"identity\", \"ignored\", \"ill\", \"impact\", \"important\", \"inch\", \"including\", \"indian\", \"infestation\", \"injured\", \"inside\", \"inside\", \"instead\", \"intelligence\", \"internet\", \"internet\", \"internet\", \"internet\", \"internet\", \"intersex\", \"investigates\", \"investigating\", \"investigation\", \"io\", \"iphone\", \"iraq\", \"iraq\", \"iraq\", \"iraq\", \"iraq\", \"iraqi\", \"iraqi\", \"isi\", \"isi\", \"isi\", \"isi\", \"isi\", \"isi\", \"isi\", \"isi\", \"isi\", \"isi\", \"isil\", \"isil\", \"isil\", \"islamic\", \"islamic\", \"islamic\", \"island\", \"israel\", \"israeli\", \"israeli\", \"issue\", \"italian\", \"j\", \"james\", \"james\", \"james\", \"jess\", \"jet\", \"jet\", \"jihadi\", \"jihadi\", \"jihadi\", \"jj\", \"job\", \"john\", \"john\", \"john\", \"jong\", \"jordanian\", \"jose\", \"journalist\", \"journalist\", \"journalist\", \"judd\", \"jumper\", \"justice\", \"justice\", \"kansa\", \"kayla\", \"kevin\", \"kfc\", \"kfc\", \"kid\", \"kid\", \"kidnap\", \"kidnapped\", \"kidnapped\", \"kidnapped\", \"killed\", \"killed\", \"killed\", \"killed\", \"killed\", \"killed\", \"killer\", \"killer\", \"killing\", \"killing\", \"kim\", \"king\", \"known\", \"kobani\", \"korea\", \"korean\", \"kurd\", \"kurd\", \"l\", \"la\", \"land\", \"later\", \"launch\", \"launch\", \"launch\", \"law\", \"leader\", \"leader\", \"leader\", \"leaf\", \"leaf\", \"least\", \"least\", \"least\", \"lebanon\", \"lebanon\", \"led\", \"lego\", \"letter\", \"letter\", \"libyan\", \"libyan\", \"lied\", \"life\", \"life\", \"life\", \"life\", \"like\", \"line\", \"linked\", \"london\", \"london\", \"londoner\", \"look\", \"look\", \"looking\", \"love\", \"love\", \"low\", \"luke\", \"lynch\", \"macaulay\", \"macbook\", \"made\", \"made\", \"made\", \"made\", \"made\", \"magic\", \"magneto\", \"main\", \"majed\", \"make\", \"make\", \"make\", \"make\", \"man\", \"man\", \"man\", \"man\", \"man\", \"man\", \"man\", \"man\", \"man\", \"man\", \"managua\", \"march\", \"marijuana\", \"marijuana\", \"marine\", \"marine\", \"market\", \"marriage\", \"married\", \"mask\", \"mass\", \"massacre\", \"massive\", \"may\", \"may\", \"may\", \"may\", \"may\", \"may\", \"may\", \"may\", \"may\", \"may\", \"meat\", \"medium\", \"medium\", \"medium\", \"medium\", \"medium\", \"medium\", \"meet\", \"meet\", \"meeting\", \"memorial\", \"message\", \"message\", \"meteor\", \"meteorite\", \"meteorite\", \"mexican\", \"mexican\", \"mexico\", \"mexico\", \"michael\", \"michael\", \"michael\", \"michelle\", \"microsoft\", \"militant\", \"militant\", \"militant\", \"militant\", \"militant\", \"millan\", \"million\", \"ministry\", \"missing\", \"missing\", \"missing\", \"missing\", \"missing\", \"missing\", \"mob\", \"mob\", \"mob\", \"model\", \"model\", \"mohammed\", \"monitoring\", \"monster\", \"month\", \"month\", \"mortgage\", \"motorcade\", \"mourn\", \"movie\", \"movie\", \"much\", \"mueller\", \"mum\", \"murder\", \"mushroom\", \"mysterious\", \"n\", \"naked\", \"named\", \"nast\", \"nearly\", \"need\", \"nelson\", \"net\", \"never\", \"never\", \"never\", \"new\", \"new\", \"new\", \"new\", \"new\", \"new\", \"new\", \"new\", \"new\", \"new\", \"newly\", \"news\", \"news\", \"news\", \"news\", \"nicaragua\", \"nigeria\", \"nigerian\", \"nightly\", \"north\", \"north\", \"north\", \"nun\", \"nypd\", \"obama\", \"obama\", \"obama\", \"obama\", \"office\", \"office\", \"official\", \"official\", \"official\", \"official\", \"official\", \"official\", \"official\", \"official\", \"old\", \"old\", \"old\", \"open\", \"open\", \"open\", \"open\", \"open\", \"opening\", \"ottawa\", \"ottawa\", \"outbreak\", \"outraged\", \"outraged\", \"pack\", \"paid\", \"pain\", \"paint\", \"painted\", \"palace\", \"panel\", \"paradise\", \"parent\", \"parent\", \"parent\", \"parent\", \"park\", \"parliament\", \"parliament\", \"past\", \"patient\", \"patrolling\", \"paul\", \"pause\", \"pay\", \"pay\", \"peeing\", \"penis\", \"penis\", \"people\", \"people\", \"people\", \"per\", \"per\", \"personally\", \"pga\", \"phelps\", \"photo\", \"photo\", \"photo\", \"photo\", \"photo\", \"photojournalist\", \"photojournalist\", \"pilot\", \"pilot\", \"pizza\", \"place\", \"plan\", \"plan\", \"planning\", \"plant\", \"platinum\", \"play\", \"play\", \"play\", \"plumber\", \"police\", \"police\", \"police\", \"poop\", \"pooped\", \"pope\", \"pope\", \"possession\", \"pot\", \"pound\", \"pounder\", \"powerful\", \"predator\", \"pregnant\", \"president\", \"pretty\", \"price\", \"priced\", \"pricing\", \"priest\", \"priest\", \"priest\", \"priest\", \"prisoner\", \"probably\", \"probably\", \"problem\", \"problem\", \"problem\", \"proposal\", \"pull\", \"pumpkin\", \"purport\", \"putin\", \"qaeda\", \"quarantined\", \"quarter\", \"question\", \"quits\", \"railway\", \"raised\", \"rajasthan\", \"rape\", \"rape\", \"rapist\", \"rapper\", \"rapper\", \"rare\", \"rat\", \"really\", \"recording\", \"red\", \"redwood\", \"refuse\", \"release\", \"release\", \"release\", \"released\", \"remembered\", \"rep\", \"report\", \"report\", \"report\", \"report\", \"report\", \"report\", \"report\", \"report\", \"report\", \"report\", \"report\", \"report\", \"report\", \"report\", \"reported\", \"reported\", \"reported\", \"reportedly\", \"reportedly\", \"reportedly\", \"reportedly\", \"reportedly\", \"reportedly\", \"reportedly\", \"reportedly\", \"reportedly\", \"reportedly\", \"reportedly\", \"rescue\", \"rescue\", \"reserve\", \"resignation\", \"restaurant\", \"restaurant\", \"retina\", \"revealed\", \"revealed\", \"reveals\", \"reveals\", \"reveals\", \"rise\", \"robert\", \"robot\", \"rogen\", \"rose\", \"rosenberg\", \"rumor\", \"rumor\", \"rumor\", \"rumor\", \"rumor\", \"rumor\", \"rumor\", \"rumored\", \"russian\", \"sacked\", \"safe\", \"said\", \"said\", \"said\", \"said\", \"said\", \"said\", \"sale\", \"sale\", \"sale\", \"samsung\", \"saudi\", \"saudi\", \"saved\", \"say\", \"say\", \"say\", \"say\", \"say\", \"say\", \"say\", \"say\", \"say\", \"say\", \"say\", \"say\", \"say\", \"say\", \"scar\", \"scare\", \"school\", \"school\", \"schoolgirl\", \"scotland\", \"scottish\", \"search\", \"secret\", \"secret\", \"secret\", \"secretly\", \"security\", \"security\", \"security\", \"security\", \"see\", \"see\", \"see\", \"see\", \"seen\", \"self\", \"sell\", \"selling\", \"sergeant\", \"service\", \"service\", \"set\", \"set\", \"set\", \"seth\", \"seven\", \"sex\", \"shabaab\", \"shabab\", \"shane\", \"sharing\", \"shock\", \"shock\", \"shock\", \"shoot\", \"shooter\", \"shooting\", \"shooting\", \"shopper\", \"shot\", \"shot\", \"shot\", \"shot\", \"shot\", \"show\", \"show\", \"show\", \"show\", \"show\", \"shower\", \"sick\", \"sign\", \"silicon\", \"sister\", \"sister\", \"six\", \"skin\", \"skipped\", \"small\", \"small\", \"smartwatch\", \"snake\", \"sneeze\", \"sneezing\", \"sniper\", \"sniper\", \"snowman\", \"snyder\", \"soldier\", \"soldier\", \"soldier\", \"soldier\", \"soldier\", \"solved\", \"somali\", \"somalia\", \"somalia\", \"someone\", \"somers\", \"son\", \"son\", \"son\", \"son\", \"sony\", \"soon\", \"spends\", \"spent\", \"spice\", \"spider\", \"spider\", \"spotted\", \"spotted\", \"stainless\", \"star\", \"star\", \"star\", \"start\", \"state\", \"state\", \"statement\", \"station\", \"steal\", \"steel\", \"steel\", \"steve\", \"still\", \"still\", \"stock\", \"stock\", \"stolen\", \"stolen\", \"stolen\", \"stomach\", \"stomach\", \"stop\", \"storage\", \"store\", \"store\", \"store\", \"streaming\", \"strike\", \"strike\", \"strike\", \"struck\", \"student\", \"student\", \"style\", \"style\", \"sugarhill\", \"suggests\", \"suitcase\", \"summer\", \"sun\", \"superman\", \"superman\", \"superpower\", \"supply\", \"supported\", \"surfaced\", \"surgery\", \"surgery\", \"surprise\", \"survives\", \"suspect\", \"suspect\", \"suspended\", \"suspension\", \"swapped\", \"swapped\", \"symptom\", \"syria\", \"syria\", \"syria\", \"syria\", \"syria\", \"syria\", \"syrian\", \"syrian\", \"take\", \"take\", \"take\", \"taking\", \"taliban\", \"talk\", \"talk\", \"talk\", \"talking\", \"tape\", \"tape\", \"tb\", \"tear\", \"teen\", \"teen\", \"teenager\", \"teletubbies\", \"television\", \"tell\", \"tell\", \"ten\", \"terror\", \"terror\", \"terror\", \"terror\", \"terror\", \"terrorist\", \"terrorist\", \"terrorist\", \"terrorist\", \"test\", \"test\", \"test\", \"testicle\", \"texas\", \"texas\", \"theory\", \"thing\", \"thinner\", \"thought\", \"threat\", \"threatens\", \"ticket\", \"tiger\", \"time\", \"time\", \"time\", \"time\", \"timing\", \"tip\", \"tireless\", \"told\", \"told\", \"tom\", \"tonight\", \"took\", \"total\", \"totally\", \"tour\", \"tour\", \"town\", \"toy\", \"trade\", \"training\", \"training\", \"translate\", \"tribunal\", \"trip\", \"tropical\", \"truce\", \"truck\", \"try\", \"turned\", \"tv\", \"tv\", \"tv\", \"twin\", \"u\", \"u\", \"u\", \"u\", \"u\", \"u\", \"u\", \"un\", \"underage\", \"unearthed\", \"university\", \"untrue\", \"upcoming\", \"urgent\", \"urinating\", \"us\", \"use\", \"use\", \"user\", \"using\", \"v\", \"v\", \"valley\", \"vandal\", \"variant\", \"vega\", \"verifies\", \"veyron\", \"vice\", \"vickers\", \"video\", \"video\", \"video\", \"video\", \"video\", \"video\", \"video\", \"violence\", \"violence\", \"viral\", \"viral\", \"viral\", \"vladimir\", \"vogue\", \"voicemail\", \"want\", \"want\", \"want\", \"war\", \"war\", \"war\", \"war\", \"warning\", \"watch\", \"watch\", \"watch\", \"watch\", \"watch\", \"watch\", \"watch\", \"weapon\", \"weapon\", \"wear\", \"weatherman\", \"web\", \"website\", \"week\", \"week\", \"went\", \"west\", \"west\", \"western\", \"whisperer\", \"white\", \"wife\", \"wine\", \"wintour\", \"woman\", \"woman\", \"woman\", \"woman\", \"woman\", \"woman\", \"wood\", \"wood\", \"work\", \"work\", \"working\", \"world\", \"world\", \"world\", \"world\", \"world\", \"world\", \"world\", \"woz\", \"wozniak\", \"wright\", \"wright\", \"year\", \"year\", \"year\", \"year\", \"year\", \"year\", \"year\", \"yemen\", \"yo\", \"york\", \"york\", \"young\", \"young\", \"youngest\", \"ypg\", \"zack\", \"zehaf\", \"zeppelin\"]}, \"R\": 30, \"lambda.step\": 0.01, \"plot.opts\": {\"xlab\": \"PC1\", \"ylab\": \"PC2\"}, \"topic.order\": [8, 16, 10, 7, 6, 20, 14, 13, 17, 12, 11, 1, 15, 3, 5, 9, 4, 19, 2, 18]};\n",
       "\n",
       "function LDAvis_load_lib(url, callback){\n",
       "  var s = document.createElement('script');\n",
       "  s.src = url;\n",
       "  s.async = true;\n",
       "  s.onreadystatechange = s.onload = callback;\n",
       "  s.onerror = function(){console.warn(\"failed to load library \" + url);};\n",
       "  document.getElementsByTagName(\"head\")[0].appendChild(s);\n",
       "}\n",
       "\n",
       "if(typeof(LDAvis) !== \"undefined\"){\n",
       "   // already loaded: just create the visualization\n",
       "   !function(LDAvis){\n",
       "       new LDAvis(\"#\" + \"ldavis_el1203966741157048229920547\", ldavis_el1203966741157048229920547_data);\n",
       "   }(LDAvis);\n",
       "}else if(typeof define === \"function\" && define.amd){\n",
       "   // require.js is available: use it to load d3/LDAvis\n",
       "   require.config({paths: {d3: \"https://cdnjs.cloudflare.com/ajax/libs/d3/3.5.5/d3.min\"}});\n",
       "   require([\"d3\"], function(d3){\n",
       "      window.d3 = d3;\n",
       "      LDAvis_load_lib(\"https://cdn.rawgit.com/bmabey/pyLDAvis/files/ldavis.v1.0.0.js\", function(){\n",
       "        new LDAvis(\"#\" + \"ldavis_el1203966741157048229920547\", ldavis_el1203966741157048229920547_data);\n",
       "      });\n",
       "    });\n",
       "}else{\n",
       "    // require.js not available: dynamically load d3 & LDAvis\n",
       "    LDAvis_load_lib(\"https://cdnjs.cloudflare.com/ajax/libs/d3/3.5.5/d3.min.js\", function(){\n",
       "         LDAvis_load_lib(\"https://cdn.rawgit.com/bmabey/pyLDAvis/files/ldavis.v1.0.0.js\", function(){\n",
       "                 new LDAvis(\"#\" + \"ldavis_el1203966741157048229920547\", ldavis_el1203966741157048229920547_data);\n",
       "            })\n",
       "         });\n",
       "}\n",
       "</script>"
      ],
      "text/plain": [
       "PreparedData(topic_coordinates=           Freq  cluster  topics         x         y\n",
       "topic                                               \n",
       "7      7.175739        1       1  0.160565 -0.236766\n",
       "15     6.986013        1       2 -0.055301  0.092987\n",
       "9      6.434521        1       3 -0.047171  0.080033\n",
       "6      6.159083        1       4  0.033375 -0.118654\n",
       "5      5.968647        1       5  0.172359  0.133394\n",
       "19     5.822701        1       6  0.031229  0.184130\n",
       "13     5.576653        1       7  0.031246 -0.039357\n",
       "12     5.277154        1       8  0.190933  0.063809\n",
       "16     4.846416        1       9 -0.262180  0.068002\n",
       "11     4.759069        1      10  0.150684  0.096401\n",
       "10     4.680370        1      11 -0.265636  0.023132\n",
       "0      4.676740        1      12 -0.080662  0.049703\n",
       "14     4.424639        1      13  0.220810 -0.044855\n",
       "2      4.332467        1      14 -0.112297 -0.026703\n",
       "4      4.281420        1      15 -0.079351 -0.041128\n",
       "8      4.159107        1      16 -0.078881 -0.186555\n",
       "3      3.989267        1      17  0.038145 -0.165177\n",
       "18     3.813822        1      18  0.042447  0.220686\n",
       "1      3.670227        1      19 -0.152054 -0.093390\n",
       "17     2.965941        1      20  0.061741 -0.059691, topic_info=     Category         Freq        Term        Total  loglift  logprob\n",
       "term                                                                 \n",
       "221   Default  2875.000000       state  2875.000000  30.0000  30.0000\n",
       "69    Default  6749.000000         isi  6749.000000  29.0000  29.0000\n",
       "436   Default  2292.000000         kim  2292.000000  28.0000  28.0000\n",
       "217   Default  2870.000000     islamic  2870.000000  27.0000  27.0000\n",
       "14    Default  2829.000000       apple  2829.000000  26.0000  26.0000\n",
       "430   Default  2661.000000       foley  2661.000000  25.0000  25.0000\n",
       "435   Default  2099.000000        jong  2099.000000  24.0000  24.0000\n",
       "73    Default  3714.000000           u  3714.000000  23.0000  23.0000\n",
       "18    Default  1731.000000       steve  1731.000000  22.0000  22.0000\n",
       "431   Default  2402.000000       james  2402.000000  21.0000  21.0000\n",
       "468   Default  1844.000000       haram  1844.000000  20.0000  20.0000\n",
       "465   Default  1844.000000        boko  1844.000000  19.0000  19.0000\n",
       "37    Default  1624.000000         job  1624.000000  18.0000  18.0000\n",
       "437   Default  1779.000000          un  1779.000000  17.0000  17.0000\n",
       "94    Default  2009.000000      leader  2009.000000  16.0000  16.0000\n",
       "80    Default  2329.000000       watch  2329.000000  15.0000  15.0000\n",
       "505   Default  1652.000000       brown  1652.000000  14.0000  14.0000\n",
       "432   Default  2153.000000  journalist  2153.000000  13.0000  13.0000\n",
       "504   Default  1580.000000       audio  1580.000000  12.0000  12.0000\n",
       "56    Default  2210.000000     michael  2210.000000  11.0000  11.0000\n",
       "452   Default  2631.000000       video  2631.000000  10.0000  10.0000\n",
       "428   Default  1920.000000    american  1920.000000   9.0000   9.0000\n",
       "467   Default  1490.000000        girl  1490.000000   8.0000   8.0000\n",
       "98    Default  1155.000000   christian  1155.000000   7.0000   7.0000\n",
       "97    Default  1155.000000        bale  1155.000000   6.0000   6.0000\n",
       "15    Default  1193.000000        play  1193.000000   5.0000   5.0000\n",
       "486   Default  1056.000000          al  1056.000000   4.0000   4.0000\n",
       "180   Default  1605.000000    militant  1605.000000   3.0000   3.0000\n",
       "506   Default  1395.000000    shooting  1395.000000   2.0000   2.0000\n",
       "12    Default  1026.000000     student  1026.000000   1.0000   1.0000\n",
       "...       ...          ...         ...          ...      ...      ...\n",
       "1235  Topic20    54.135845      agrees    55.081535   3.5007  -5.4582\n",
       "1519  Topic20    53.068871        pack    54.014561   3.5003  -5.4781\n",
       "1515  Topic20    53.068871        brat    54.014561   3.5003  -5.4781\n",
       "1041  Topic20    52.950623   cawthorne    53.896313   3.5003  -5.4804\n",
       "1105  Topic20    47.330612      briton    48.276302   3.4982  -5.5926\n",
       "1987  Topic20    46.501282      timing    47.446972   3.4978  -5.6102\n",
       "1988  Topic20    46.501282    verifies    47.446972   3.4978  -5.6102\n",
       "2316  Topic20    44.828033    underage    45.773724   3.4971  -5.6469\n",
       "1266  Topic20    41.452560     ignored    42.398251   3.4954  -5.7252\n",
       "1704  Topic20   166.688080       style   175.006424   3.4693  -4.3336\n",
       "883   Topic20   183.569580      behind   197.410568   3.4453  -4.2371\n",
       "1501  Topic20   307.209015        fall   346.320068   3.3981  -3.7222\n",
       "199   Topic20   657.378052      school   839.836914   3.2730  -2.9615\n",
       "182   Topic20   217.607086       young   257.227142   3.3507  -4.0670\n",
       "746   Topic20   257.119415        five   404.925293   3.0638  -3.9002\n",
       "63    Topic20   241.181824      female   462.078644   2.8678  -3.9642\n",
       "467   Topic20   478.510040        girl  1490.288330   2.3819  -3.2790\n",
       "576   Topic20    92.456825    outraged   129.437759   3.1815  -4.9230\n",
       "560   Topic20   286.792267         day   808.172119   2.4820  -3.7910\n",
       "656   Topic20   125.262543       never   214.628891   2.9795  -4.6193\n",
       "1891  Topic20   111.788864          14   193.688568   2.9683  -4.7331\n",
       "501   Topic20   152.963837        said   452.034332   2.4344  -4.4195\n",
       "217   Topic20   317.972626     islamic  2870.520264   1.3177  -3.6878\n",
       "221   Topic20   285.548706       state  2875.609375   1.2084  -3.7953\n",
       "1169  Topic20   157.422852      parent   535.178345   2.2943  -4.3908\n",
       "59    Topic20   163.844376       claim  2966.220947   0.6218  -4.3508\n",
       "61    Topic20   141.138519        dead  1573.409302   1.1067  -4.5000\n",
       "795   Topic20   117.417130      killer   423.639709   2.2348  -4.6840\n",
       "64    Topic20   106.750443         god   739.483887   1.5825  -4.7792\n",
       "65    Topic20   104.631393      priest   446.271484   2.0675  -4.7993\n",
       "\n",
       "[1053 rows x 6 columns], token_table=      Topic      Freq      Term\n",
       "term                           \n",
       "74        2  0.403019       000\n",
       "74        9  0.424435       000\n",
       "74       10  0.007788       000\n",
       "74       11  0.164517       000\n",
       "75        5  0.490847        10\n",
       "75        9  0.386657        10\n",
       "75       18  0.118081        10\n",
       "239       7  0.745198       100\n",
       "239      10  0.078718       100\n",
       "239      11  0.174929       100\n",
       "618       2  0.129656        11\n",
       "618       7  0.814028        11\n",
       "618       8  0.054803        11\n",
       "453      14  0.910411        12\n",
       "453      19  0.084558        12\n",
       "2163     20  0.992026        13\n",
       "1891     10  0.418197        14\n",
       "1891     20  0.578248        14\n",
       "943       9  0.992864        16\n",
       "1791      5  0.990902      1795\n",
       "1436     15  0.996992        19\n",
       "1540     15  0.987270     1970s\n",
       "666       1  0.990790      2012\n",
       "723       7  0.996213      2015\n",
       "2552     17  0.990750        25\n",
       "84       17  0.982475        28\n",
       "2127     13  0.979931       280\n",
       "207       2  0.655417       300\n",
       "207       4  0.097532       300\n",
       "207      10  0.232127       300\n",
       "...     ...       ...       ...\n",
       "1799     11  0.984172   working\n",
       "279       2  0.146482     world\n",
       "279       9  0.394787     world\n",
       "279      11  0.069668     world\n",
       "279      13  0.141123     world\n",
       "279      15  0.103609     world\n",
       "279      18  0.080387     world\n",
       "279      19  0.060736     world\n",
       "43       11  0.991857       woz\n",
       "19       11  0.997989   wozniak\n",
       "433       1  0.998600    wright\n",
       "433      13  0.000990    wright\n",
       "280       2  0.072385      year\n",
       "280      10  0.002193      year\n",
       "280      11  0.135996      year\n",
       "280      15  0.339990      year\n",
       "280      16  0.091030      year\n",
       "280      17  0.232509      year\n",
       "280      18  0.126125      year\n",
       "674       6  0.995813     yemen\n",
       "1129      3  0.996822        yo\n",
       "1288      2  0.120044      york\n",
       "1288     14  0.875877      york\n",
       "182      13  0.151617     young\n",
       "182      20  0.847500     young\n",
       "1713     18  0.991820  youngest\n",
       "2172      7  0.992190       ypg\n",
       "295      11  0.996625      zack\n",
       "613       6  0.998527     zehaf\n",
       "171      19  0.990974  zeppelin\n",
       "\n",
       "[1533 rows x 3 columns], R=30, lambda_step=0.01, plot_opts={'xlab': 'PC1', 'ylab': 'PC2'}, topic_order=[8, 16, 10, 7, 6, 20, 14, 13, 17, 12, 11, 1, 15, 3, 5, 9, 4, 19, 2, 18])"
      ]
     },
     "execution_count": 52,
     "metadata": {},
     "output_type": "execute_result"
    }
   ],
   "source": [
    "pyLDAvis.gensim.prepare(ldamodel, corpus, dictionary)"
   ]
  },
  {
   "cell_type": "markdown",
   "metadata": {},
   "source": [
    "### preprocessing for Latent Semantic Analysis"
   ]
  },
  {
   "cell_type": "code",
   "execution_count": null,
   "metadata": {},
   "outputs": [],
   "source": [
    "#need this cleaner to make vectorizers below work....idk why"
   ]
  },
  {
   "cell_type": "code",
   "execution_count": 152,
   "metadata": {},
   "outputs": [],
   "source": [
    "import re"
   ]
  },
  {
   "cell_type": "code",
   "execution_count": 153,
   "metadata": {},
   "outputs": [
    {
     "name": "stderr",
     "output_type": "stream",
     "text": [
      "<input>:6: DeprecationWarning: invalid escape sequence \\d\n",
      "<input>:6: DeprecationWarning: invalid escape sequence \\d\n",
      "<input>:6: DeprecationWarning: invalid escape sequence \\d\n",
      "<ipython-input-153-6de38bea8180>:6: DeprecationWarning: invalid escape sequence \\d\n",
      "  text = re.sub('[\\d]','',text)\n"
     ]
    }
   ],
   "source": [
    "def cleaner(text):\n",
    "    text = re.sub('&#39;','',text).lower()\n",
    "    text = re.sub('<br />','',text)\n",
    "    text = re.sub('<.*>.*</.*>','', text)\n",
    "    text = re.sub('\\\\ufeff', '', text)\n",
    "    text = re.sub('[\\d]','',text)\n",
    "    text = re.sub('[^a-z ]','',text)\n",
    "    \n",
    "    return text"
   ]
  },
  {
   "cell_type": "code",
   "execution_count": 154,
   "metadata": {},
   "outputs": [],
   "source": [
    "df_all['articleBody'] = df_all['articleBody'].map(str)\n",
    "df_all['articleBody'] = df_all['articleBody'].apply(cleaner)"
   ]
  },
  {
   "cell_type": "code",
   "execution_count": 56,
   "metadata": {
    "scrolled": true
   },
   "outputs": [
    {
     "data": {
      "text/plain": [
       "'danny boyle directing untitled film seth rogen eyed play apple co founder steve wozniak sony steve job biopic danny boyle directing untitled film based walter isaacson book adapted aaron sorkin one anticipated biopics recent year negotiation yet begun even clear rogen official offer producer scott rudin guymon casady mark gordon set sight talent talk course may naught christian bale actor play job still midst closing deal source say dealmaking process sensitive stage insider say boyle flying los angeles meet actress play one female lead assistant job insider say jessica chastain one actress meeting list wozniak known woz co founded apple job ronald wayne first met job worked atari later responsible creating early apple computer'"
      ]
     },
     "execution_count": 56,
     "metadata": {},
     "output_type": "execute_result"
    }
   ],
   "source": [
    "df_all['articleBody'].iloc[1]"
   ]
  },
  {
   "cell_type": "code",
   "execution_count": 155,
   "metadata": {},
   "outputs": [],
   "source": [
    "df_all['Headline'] = df_all['Headline'].map(str)\n",
    "df_all['Headline'] = df_all['Headline'].apply(cleaner)"
   ]
  },
  {
   "cell_type": "code",
   "execution_count": 168,
   "metadata": {
    "scrolled": true
   },
   "outputs": [
    {
     "data": {
      "text/html": [
       "<div>\n",
       "<style scoped>\n",
       "    .dataframe tbody tr th:only-of-type {\n",
       "        vertical-align: middle;\n",
       "    }\n",
       "\n",
       "    .dataframe tbody tr th {\n",
       "        vertical-align: top;\n",
       "    }\n",
       "\n",
       "    .dataframe thead th {\n",
       "        text-align: right;\n",
       "    }\n",
       "</style>\n",
       "<table border=\"1\" class=\"dataframe\">\n",
       "  <thead>\n",
       "    <tr style=\"text-align: right;\">\n",
       "      <th></th>\n",
       "      <th>Headline</th>\n",
       "      <th>Body ID</th>\n",
       "      <th>Stance</th>\n",
       "      <th>articleBody</th>\n",
       "    </tr>\n",
       "  </thead>\n",
       "  <tbody>\n",
       "    <tr>\n",
       "      <th>0</th>\n",
       "      <td>Police find mass graves with at least '15 bodi...</td>\n",
       "      <td>712</td>\n",
       "      <td>unrelated</td>\n",
       "      <td>Danny Boyle is directing the untitled film\\n\\n...</td>\n",
       "    </tr>\n",
       "    <tr>\n",
       "      <th>1</th>\n",
       "      <td>Seth Rogen to Play Apple’s Steve Wozniak</td>\n",
       "      <td>712</td>\n",
       "      <td>discuss</td>\n",
       "      <td>Danny Boyle is directing the untitled film\\n\\n...</td>\n",
       "    </tr>\n",
       "    <tr>\n",
       "      <th>2</th>\n",
       "      <td>Mexico police find mass grave near site 43 stu...</td>\n",
       "      <td>712</td>\n",
       "      <td>unrelated</td>\n",
       "      <td>Danny Boyle is directing the untitled film\\n\\n...</td>\n",
       "    </tr>\n",
       "    <tr>\n",
       "      <th>3</th>\n",
       "      <td>Mexico Says Missing Students Not Found In Firs...</td>\n",
       "      <td>712</td>\n",
       "      <td>unrelated</td>\n",
       "      <td>Danny Boyle is directing the untitled film\\n\\n...</td>\n",
       "    </tr>\n",
       "    <tr>\n",
       "      <th>4</th>\n",
       "      <td>New iOS 8 bug can delete all of your iCloud do...</td>\n",
       "      <td>712</td>\n",
       "      <td>unrelated</td>\n",
       "      <td>Danny Boyle is directing the untitled film\\n\\n...</td>\n",
       "    </tr>\n",
       "  </tbody>\n",
       "</table>\n",
       "</div>"
      ],
      "text/plain": [
       "                                            Headline  Body ID     Stance  \\\n",
       "0  Police find mass graves with at least '15 bodi...      712  unrelated   \n",
       "1           Seth Rogen to Play Apple’s Steve Wozniak      712    discuss   \n",
       "2  Mexico police find mass grave near site 43 stu...      712  unrelated   \n",
       "3  Mexico Says Missing Students Not Found In Firs...      712  unrelated   \n",
       "4  New iOS 8 bug can delete all of your iCloud do...      712  unrelated   \n",
       "\n",
       "                                         articleBody  \n",
       "0  Danny Boyle is directing the untitled film\\n\\n...  \n",
       "1  Danny Boyle is directing the untitled film\\n\\n...  \n",
       "2  Danny Boyle is directing the untitled film\\n\\n...  \n",
       "3  Danny Boyle is directing the untitled film\\n\\n...  \n",
       "4  Danny Boyle is directing the untitled film\\n\\n...  "
      ]
     },
     "execution_count": 168,
     "metadata": {},
     "output_type": "execute_result"
    }
   ],
   "source": [
    "df_all.head()\n",
    "#why does this change my text processing back "
   ]
  },
  {
   "cell_type": "code",
   "execution_count": 247,
   "metadata": {},
   "outputs": [],
   "source": [
    "df_all.to_csv('./preprocessed.csv')"
   ]
  },
  {
   "cell_type": "markdown",
   "metadata": {},
   "source": [
    "### tfidf vectorizer"
   ]
  },
  {
   "cell_type": "code",
   "execution_count": 156,
   "metadata": {},
   "outputs": [
    {
     "data": {
      "text/plain": [
       "<49972x18408 sparse matrix of type '<class 'numpy.float64'>'\n",
       "\twith 6480420 stored elements in Compressed Sparse Row format>"
      ]
     },
     "execution_count": 156,
     "metadata": {},
     "output_type": "execute_result"
    }
   ],
   "source": [
    "tfidf_vector = TfidfVectorizer(min_df = 5, stop_words='english')\n",
    "\n",
    "articleBody_matrix_sparse = tfidf_vector.fit_transform(df_all['articleBody'])\n",
    "articleBody_matrix_sparse"
   ]
  },
  {
   "cell_type": "code",
   "execution_count": 157,
   "metadata": {},
   "outputs": [],
   "source": [
    "articleBody_df_tfdf = pd.DataFrame(articleBody_matrix_sparse.toarray(),\n",
    "                                 index = df_all.index,\n",
    "                                 columns = tfidf_vector.get_feature_names())"
   ]
  },
  {
   "cell_type": "code",
   "execution_count": 158,
   "metadata": {
    "scrolled": false
   },
   "outputs": [
    {
     "data": {
      "text/html": [
       "<div>\n",
       "<style scoped>\n",
       "    .dataframe tbody tr th:only-of-type {\n",
       "        vertical-align: middle;\n",
       "    }\n",
       "\n",
       "    .dataframe tbody tr th {\n",
       "        vertical-align: top;\n",
       "    }\n",
       "\n",
       "    .dataframe thead th {\n",
       "        text-align: right;\n",
       "    }\n",
       "</style>\n",
       "<table border=\"1\" class=\"dataframe\">\n",
       "  <thead>\n",
       "    <tr style=\"text-align: right;\">\n",
       "      <th></th>\n",
       "      <th>aafia</th>\n",
       "      <th>aamaq</th>\n",
       "      <th>aamir</th>\n",
       "      <th>aan</th>\n",
       "      <th>aapl</th>\n",
       "      <th>aaron</th>\n",
       "      <th>aback</th>\n",
       "      <th>abadam</th>\n",
       "      <th>abadi</th>\n",
       "      <th>abagnale</th>\n",
       "      <th>...</th>\n",
       "      <th>zobl</th>\n",
       "      <th>zone</th>\n",
       "      <th>zoning</th>\n",
       "      <th>zoology</th>\n",
       "      <th>zor</th>\n",
       "      <th>zubayr</th>\n",
       "      <th>zubeyr</th>\n",
       "      <th>zuckerberg</th>\n",
       "      <th>zulu</th>\n",
       "      <th>zxycaeuwb</th>\n",
       "    </tr>\n",
       "  </thead>\n",
       "  <tbody>\n",
       "    <tr>\n",
       "      <th>0</th>\n",
       "      <td>0.0</td>\n",
       "      <td>0.0</td>\n",
       "      <td>0.0</td>\n",
       "      <td>0.0</td>\n",
       "      <td>0.0</td>\n",
       "      <td>0.07737</td>\n",
       "      <td>0.0</td>\n",
       "      <td>0.0</td>\n",
       "      <td>0.0</td>\n",
       "      <td>0.0</td>\n",
       "      <td>...</td>\n",
       "      <td>0.0</td>\n",
       "      <td>0.0</td>\n",
       "      <td>0.0</td>\n",
       "      <td>0.0</td>\n",
       "      <td>0.0</td>\n",
       "      <td>0.0</td>\n",
       "      <td>0.0</td>\n",
       "      <td>0.0</td>\n",
       "      <td>0.0</td>\n",
       "      <td>0.0</td>\n",
       "    </tr>\n",
       "    <tr>\n",
       "      <th>1</th>\n",
       "      <td>0.0</td>\n",
       "      <td>0.0</td>\n",
       "      <td>0.0</td>\n",
       "      <td>0.0</td>\n",
       "      <td>0.0</td>\n",
       "      <td>0.07737</td>\n",
       "      <td>0.0</td>\n",
       "      <td>0.0</td>\n",
       "      <td>0.0</td>\n",
       "      <td>0.0</td>\n",
       "      <td>...</td>\n",
       "      <td>0.0</td>\n",
       "      <td>0.0</td>\n",
       "      <td>0.0</td>\n",
       "      <td>0.0</td>\n",
       "      <td>0.0</td>\n",
       "      <td>0.0</td>\n",
       "      <td>0.0</td>\n",
       "      <td>0.0</td>\n",
       "      <td>0.0</td>\n",
       "      <td>0.0</td>\n",
       "    </tr>\n",
       "    <tr>\n",
       "      <th>2</th>\n",
       "      <td>0.0</td>\n",
       "      <td>0.0</td>\n",
       "      <td>0.0</td>\n",
       "      <td>0.0</td>\n",
       "      <td>0.0</td>\n",
       "      <td>0.07737</td>\n",
       "      <td>0.0</td>\n",
       "      <td>0.0</td>\n",
       "      <td>0.0</td>\n",
       "      <td>0.0</td>\n",
       "      <td>...</td>\n",
       "      <td>0.0</td>\n",
       "      <td>0.0</td>\n",
       "      <td>0.0</td>\n",
       "      <td>0.0</td>\n",
       "      <td>0.0</td>\n",
       "      <td>0.0</td>\n",
       "      <td>0.0</td>\n",
       "      <td>0.0</td>\n",
       "      <td>0.0</td>\n",
       "      <td>0.0</td>\n",
       "    </tr>\n",
       "    <tr>\n",
       "      <th>3</th>\n",
       "      <td>0.0</td>\n",
       "      <td>0.0</td>\n",
       "      <td>0.0</td>\n",
       "      <td>0.0</td>\n",
       "      <td>0.0</td>\n",
       "      <td>0.07737</td>\n",
       "      <td>0.0</td>\n",
       "      <td>0.0</td>\n",
       "      <td>0.0</td>\n",
       "      <td>0.0</td>\n",
       "      <td>...</td>\n",
       "      <td>0.0</td>\n",
       "      <td>0.0</td>\n",
       "      <td>0.0</td>\n",
       "      <td>0.0</td>\n",
       "      <td>0.0</td>\n",
       "      <td>0.0</td>\n",
       "      <td>0.0</td>\n",
       "      <td>0.0</td>\n",
       "      <td>0.0</td>\n",
       "      <td>0.0</td>\n",
       "    </tr>\n",
       "    <tr>\n",
       "      <th>4</th>\n",
       "      <td>0.0</td>\n",
       "      <td>0.0</td>\n",
       "      <td>0.0</td>\n",
       "      <td>0.0</td>\n",
       "      <td>0.0</td>\n",
       "      <td>0.07737</td>\n",
       "      <td>0.0</td>\n",
       "      <td>0.0</td>\n",
       "      <td>0.0</td>\n",
       "      <td>0.0</td>\n",
       "      <td>...</td>\n",
       "      <td>0.0</td>\n",
       "      <td>0.0</td>\n",
       "      <td>0.0</td>\n",
       "      <td>0.0</td>\n",
       "      <td>0.0</td>\n",
       "      <td>0.0</td>\n",
       "      <td>0.0</td>\n",
       "      <td>0.0</td>\n",
       "      <td>0.0</td>\n",
       "      <td>0.0</td>\n",
       "    </tr>\n",
       "  </tbody>\n",
       "</table>\n",
       "<p>5 rows × 18408 columns</p>\n",
       "</div>"
      ],
      "text/plain": [
       "   aafia  aamaq  aamir  aan  aapl    aaron  aback  abadam  abadi  abagnale  \\\n",
       "0    0.0    0.0    0.0  0.0   0.0  0.07737    0.0     0.0    0.0       0.0   \n",
       "1    0.0    0.0    0.0  0.0   0.0  0.07737    0.0     0.0    0.0       0.0   \n",
       "2    0.0    0.0    0.0  0.0   0.0  0.07737    0.0     0.0    0.0       0.0   \n",
       "3    0.0    0.0    0.0  0.0   0.0  0.07737    0.0     0.0    0.0       0.0   \n",
       "4    0.0    0.0    0.0  0.0   0.0  0.07737    0.0     0.0    0.0       0.0   \n",
       "\n",
       "     ...      zobl  zone  zoning  zoology  zor  zubayr  zubeyr  zuckerberg  \\\n",
       "0    ...       0.0   0.0     0.0      0.0  0.0     0.0     0.0         0.0   \n",
       "1    ...       0.0   0.0     0.0      0.0  0.0     0.0     0.0         0.0   \n",
       "2    ...       0.0   0.0     0.0      0.0  0.0     0.0     0.0         0.0   \n",
       "3    ...       0.0   0.0     0.0      0.0  0.0     0.0     0.0         0.0   \n",
       "4    ...       0.0   0.0     0.0      0.0  0.0     0.0     0.0         0.0   \n",
       "\n",
       "   zulu  zxycaeuwb  \n",
       "0   0.0        0.0  \n",
       "1   0.0        0.0  \n",
       "2   0.0        0.0  \n",
       "3   0.0        0.0  \n",
       "4   0.0        0.0  \n",
       "\n",
       "[5 rows x 18408 columns]"
      ]
     },
     "execution_count": 158,
     "metadata": {},
     "output_type": "execute_result"
    }
   ],
   "source": [
    "articleBody_df_tfdf.head()"
   ]
  },
  {
   "cell_type": "code",
   "execution_count": 61,
   "metadata": {},
   "outputs": [
    {
     "data": {
      "text/plain": [
       "<49972x2736 sparse matrix of type '<class 'numpy.float64'>'\n",
       "\twith 388147 stored elements in Compressed Sparse Row format>"
      ]
     },
     "execution_count": 61,
     "metadata": {},
     "output_type": "execute_result"
    }
   ],
   "source": [
    "headline_matrix_sparse = tfidf_vector.fit_transform(df_all['Headline'])\n",
    "headline_matrix_sparse"
   ]
  },
  {
   "cell_type": "code",
   "execution_count": 62,
   "metadata": {},
   "outputs": [],
   "source": [
    "headline_df_tfdf = pd.DataFrame(headline_matrix_sparse.toarray(),\n",
    "                                 index = df_all.index,\n",
    "                                 columns = tfidf_vector.get_feature_names())"
   ]
  },
  {
   "cell_type": "code",
   "execution_count": 63,
   "metadata": {},
   "outputs": [
    {
     "data": {
      "text/html": [
       "<div>\n",
       "<style scoped>\n",
       "    .dataframe tbody tr th:only-of-type {\n",
       "        vertical-align: middle;\n",
       "    }\n",
       "\n",
       "    .dataframe tbody tr th {\n",
       "        vertical-align: top;\n",
       "    }\n",
       "\n",
       "    .dataframe thead th {\n",
       "        text-align: right;\n",
       "    }\n",
       "</style>\n",
       "<table border=\"1\" class=\"dataframe\">\n",
       "  <thead>\n",
       "    <tr style=\"text-align: right;\">\n",
       "      <th></th>\n",
       "      <th>aaron</th>\n",
       "      <th>abandoned</th>\n",
       "      <th>abdel</th>\n",
       "      <th>abdi</th>\n",
       "      <th>abducted</th>\n",
       "      <th>abducting</th>\n",
       "      <th>abdul</th>\n",
       "      <th>abdullah</th>\n",
       "      <th>abort</th>\n",
       "      <th>aborted</th>\n",
       "      <th>...</th>\n",
       "      <th>younger</th>\n",
       "      <th>youngest</th>\n",
       "      <th>youtube</th>\n",
       "      <th>ypg</th>\n",
       "      <th>yum</th>\n",
       "      <th>zack</th>\n",
       "      <th>zehaf</th>\n",
       "      <th>zeppelin</th>\n",
       "      <th>zero</th>\n",
       "      <th>zhejiang</th>\n",
       "    </tr>\n",
       "  </thead>\n",
       "  <tbody>\n",
       "    <tr>\n",
       "      <th>0</th>\n",
       "      <td>0.0</td>\n",
       "      <td>0.0</td>\n",
       "      <td>0.0</td>\n",
       "      <td>0.0</td>\n",
       "      <td>0.0</td>\n",
       "      <td>0.0</td>\n",
       "      <td>0.0</td>\n",
       "      <td>0.0</td>\n",
       "      <td>0.0</td>\n",
       "      <td>0.0</td>\n",
       "      <td>...</td>\n",
       "      <td>0.0</td>\n",
       "      <td>0.0</td>\n",
       "      <td>0.0</td>\n",
       "      <td>0.0</td>\n",
       "      <td>0.0</td>\n",
       "      <td>0.0</td>\n",
       "      <td>0.0</td>\n",
       "      <td>0.0</td>\n",
       "      <td>0.0</td>\n",
       "      <td>0.0</td>\n",
       "    </tr>\n",
       "    <tr>\n",
       "      <th>1</th>\n",
       "      <td>0.0</td>\n",
       "      <td>0.0</td>\n",
       "      <td>0.0</td>\n",
       "      <td>0.0</td>\n",
       "      <td>0.0</td>\n",
       "      <td>0.0</td>\n",
       "      <td>0.0</td>\n",
       "      <td>0.0</td>\n",
       "      <td>0.0</td>\n",
       "      <td>0.0</td>\n",
       "      <td>...</td>\n",
       "      <td>0.0</td>\n",
       "      <td>0.0</td>\n",
       "      <td>0.0</td>\n",
       "      <td>0.0</td>\n",
       "      <td>0.0</td>\n",
       "      <td>0.0</td>\n",
       "      <td>0.0</td>\n",
       "      <td>0.0</td>\n",
       "      <td>0.0</td>\n",
       "      <td>0.0</td>\n",
       "    </tr>\n",
       "    <tr>\n",
       "      <th>2</th>\n",
       "      <td>0.0</td>\n",
       "      <td>0.0</td>\n",
       "      <td>0.0</td>\n",
       "      <td>0.0</td>\n",
       "      <td>0.0</td>\n",
       "      <td>0.0</td>\n",
       "      <td>0.0</td>\n",
       "      <td>0.0</td>\n",
       "      <td>0.0</td>\n",
       "      <td>0.0</td>\n",
       "      <td>...</td>\n",
       "      <td>0.0</td>\n",
       "      <td>0.0</td>\n",
       "      <td>0.0</td>\n",
       "      <td>0.0</td>\n",
       "      <td>0.0</td>\n",
       "      <td>0.0</td>\n",
       "      <td>0.0</td>\n",
       "      <td>0.0</td>\n",
       "      <td>0.0</td>\n",
       "      <td>0.0</td>\n",
       "    </tr>\n",
       "    <tr>\n",
       "      <th>3</th>\n",
       "      <td>0.0</td>\n",
       "      <td>0.0</td>\n",
       "      <td>0.0</td>\n",
       "      <td>0.0</td>\n",
       "      <td>0.0</td>\n",
       "      <td>0.0</td>\n",
       "      <td>0.0</td>\n",
       "      <td>0.0</td>\n",
       "      <td>0.0</td>\n",
       "      <td>0.0</td>\n",
       "      <td>...</td>\n",
       "      <td>0.0</td>\n",
       "      <td>0.0</td>\n",
       "      <td>0.0</td>\n",
       "      <td>0.0</td>\n",
       "      <td>0.0</td>\n",
       "      <td>0.0</td>\n",
       "      <td>0.0</td>\n",
       "      <td>0.0</td>\n",
       "      <td>0.0</td>\n",
       "      <td>0.0</td>\n",
       "    </tr>\n",
       "    <tr>\n",
       "      <th>4</th>\n",
       "      <td>0.0</td>\n",
       "      <td>0.0</td>\n",
       "      <td>0.0</td>\n",
       "      <td>0.0</td>\n",
       "      <td>0.0</td>\n",
       "      <td>0.0</td>\n",
       "      <td>0.0</td>\n",
       "      <td>0.0</td>\n",
       "      <td>0.0</td>\n",
       "      <td>0.0</td>\n",
       "      <td>...</td>\n",
       "      <td>0.0</td>\n",
       "      <td>0.0</td>\n",
       "      <td>0.0</td>\n",
       "      <td>0.0</td>\n",
       "      <td>0.0</td>\n",
       "      <td>0.0</td>\n",
       "      <td>0.0</td>\n",
       "      <td>0.0</td>\n",
       "      <td>0.0</td>\n",
       "      <td>0.0</td>\n",
       "    </tr>\n",
       "  </tbody>\n",
       "</table>\n",
       "<p>5 rows × 2736 columns</p>\n",
       "</div>"
      ],
      "text/plain": [
       "   aaron  abandoned  abdel  abdi  abducted  abducting  abdul  abdullah  abort  \\\n",
       "0    0.0        0.0    0.0   0.0       0.0        0.0    0.0       0.0    0.0   \n",
       "1    0.0        0.0    0.0   0.0       0.0        0.0    0.0       0.0    0.0   \n",
       "2    0.0        0.0    0.0   0.0       0.0        0.0    0.0       0.0    0.0   \n",
       "3    0.0        0.0    0.0   0.0       0.0        0.0    0.0       0.0    0.0   \n",
       "4    0.0        0.0    0.0   0.0       0.0        0.0    0.0       0.0    0.0   \n",
       "\n",
       "   aborted    ...     younger  youngest  youtube  ypg  yum  zack  zehaf  \\\n",
       "0      0.0    ...         0.0       0.0      0.0  0.0  0.0   0.0    0.0   \n",
       "1      0.0    ...         0.0       0.0      0.0  0.0  0.0   0.0    0.0   \n",
       "2      0.0    ...         0.0       0.0      0.0  0.0  0.0   0.0    0.0   \n",
       "3      0.0    ...         0.0       0.0      0.0  0.0  0.0   0.0    0.0   \n",
       "4      0.0    ...         0.0       0.0      0.0  0.0  0.0   0.0    0.0   \n",
       "\n",
       "   zeppelin  zero  zhejiang  \n",
       "0       0.0   0.0       0.0  \n",
       "1       0.0   0.0       0.0  \n",
       "2       0.0   0.0       0.0  \n",
       "3       0.0   0.0       0.0  \n",
       "4       0.0   0.0       0.0  \n",
       "\n",
       "[5 rows x 2736 columns]"
      ]
     },
     "execution_count": 63,
     "metadata": {},
     "output_type": "execute_result"
    }
   ],
   "source": [
    "headline_df_tfdf.head()"
   ]
  },
  {
   "cell_type": "markdown",
   "metadata": {},
   "source": [
    "## Truncated SVD"
   ]
  },
  {
   "cell_type": "code",
   "execution_count": 64,
   "metadata": {},
   "outputs": [],
   "source": [
    "from sklearn.decomposition import TruncatedSVD"
   ]
  },
  {
   "cell_type": "code",
   "execution_count": 65,
   "metadata": {},
   "outputs": [],
   "source": [
    "n_components = 100\n",
    "SVD = TruncatedSVD(n_components)\n",
    "component_names = [\"component_\"+str(i) for i in range(n_components)]"
   ]
  },
  {
   "cell_type": "code",
   "execution_count": 66,
   "metadata": {},
   "outputs": [],
   "source": [
    "#lsa = TruncatedSVD(n_components=100, n_iter=100)\n",
    "#lsa.fit(articleBody_df_tfdf)"
   ]
  },
  {
   "cell_type": "code",
   "execution_count": 67,
   "metadata": {},
   "outputs": [],
   "source": [
    "#lsa.components_[0]"
   ]
  },
  {
   "cell_type": "code",
   "execution_count": 68,
   "metadata": {},
   "outputs": [],
   "source": [
    "#terms = vectorizer.get_feature_names()\n",
    "#for i, comp in enumerate(lsa.components_):\n",
    "    #termsInComp = zip (terms, comp)\n",
    "    #sortedTerms = sorted(termsInComp, key=lambda X: x[1], reverse = True)[:10]\n",
    "    #print \"Word %d:\" % i\n",
    "    #for term in sortedTerms:\n",
    "        #print term[0]\n",
    "        #print \" \""
   ]
  },
  {
   "cell_type": "code",
   "execution_count": 69,
   "metadata": {
    "scrolled": true
   },
   "outputs": [
    {
     "data": {
      "text/plain": [
       "array([[ 0.09533842,  0.20917657, -0.02623447, ..., -0.01842468,\n",
       "        -0.01329635,  0.00160345],\n",
       "       [ 0.09533842,  0.20917657, -0.02623447, ..., -0.01842468,\n",
       "        -0.01329635,  0.00160345],\n",
       "       [ 0.09533842,  0.20917657, -0.02623447, ..., -0.01842468,\n",
       "        -0.01329635,  0.00160345],\n",
       "       ...,\n",
       "       [ 0.10926743, -0.00405857, -0.01237433, ..., -0.0078137 ,\n",
       "         0.01992944, -0.00284108],\n",
       "       [ 0.17433645,  0.51243759, -0.07441561, ..., -0.03089425,\n",
       "        -0.01542923, -0.01088547],\n",
       "       [ 0.16292306,  0.66241464, -0.1288089 , ..., -0.0098862 ,\n",
       "        -0.01244625, -0.02435808]])"
      ]
     },
     "execution_count": 69,
     "metadata": {},
     "output_type": "execute_result"
    }
   ],
   "source": [
    "articleBody_svd_matrix = SVD.fit_transform(articleBody_df_tfdf)\n",
    "articleBody_svd_matrix"
   ]
  },
  {
   "cell_type": "code",
   "execution_count": 70,
   "metadata": {},
   "outputs": [
    {
     "data": {
      "text/plain": [
       "array([[ 0.01147472,  0.00935667,  0.00474699, ...,  0.05792497,\n",
       "        -0.06416471,  0.0664541 ],\n",
       "       [ 0.00723122,  0.05075079, -0.00227505, ...,  0.01528682,\n",
       "        -0.02149199,  0.00855633],\n",
       "       [ 0.01427154,  0.00729155,  0.00614716, ...,  0.05510026,\n",
       "        -0.05917941,  0.0499812 ],\n",
       "       ...,\n",
       "       [ 0.01233532,  0.00230594,  0.00526008, ..., -0.00503097,\n",
       "        -0.029953  ,  0.02016431],\n",
       "       [ 0.01735207,  0.01500696,  0.00583619, ..., -0.01005641,\n",
       "         0.00682132, -0.00083453],\n",
       "       [ 0.00979547,  0.01030194,  0.00912457, ..., -0.01906919,\n",
       "         0.03719339, -0.0674999 ]])"
      ]
     },
     "execution_count": 70,
     "metadata": {},
     "output_type": "execute_result"
    }
   ],
   "source": [
    "headline_svd_matrix = SVD.fit_transform(headline_df_tfdf)\n",
    "headline_svd_matrix"
   ]
  },
  {
   "cell_type": "code",
   "execution_count": 71,
   "metadata": {},
   "outputs": [
    {
     "data": {
      "text/plain": [
       "(49972, 100)"
      ]
     },
     "execution_count": 71,
     "metadata": {},
     "output_type": "execute_result"
    }
   ],
   "source": [
    "articleBody_svd_matrix.shape"
   ]
  },
  {
   "cell_type": "code",
   "execution_count": 72,
   "metadata": {},
   "outputs": [],
   "source": [
    "#search_term = \"islam\"\n",
    "\n",
    "#use headline to compare to the boody \n",
    "#make a list forbody and article and loop thru each row "
   ]
  },
  {
   "cell_type": "code",
   "execution_count": 73,
   "metadata": {},
   "outputs": [],
   "source": [
    "#search_term_vec = tfidf_vector.transform([search_term])"
   ]
  },
  {
   "cell_type": "code",
   "execution_count": 74,
   "metadata": {},
   "outputs": [],
   "source": [
    "#search_term_svd = SVD.transform(search_term_vec)"
   ]
  },
  {
   "cell_type": "code",
   "execution_count": 75,
   "metadata": {},
   "outputs": [],
   "source": [
    "#search_term_svd"
   ]
  },
  {
   "cell_type": "markdown",
   "metadata": {},
   "source": [
    "## Cosine Similarity"
   ]
  },
  {
   "cell_type": "code",
   "execution_count": 169,
   "metadata": {},
   "outputs": [],
   "source": [
    "#cosine_similarities = articleBody_svd_matrix.dot(search_term_svd.T).ravel()\n",
    "#do for 1 row with another row --> feature "
   ]
  },
  {
   "cell_type": "code",
   "execution_count": null,
   "metadata": {},
   "outputs": [],
   "source": [
    "#cosine_similarities.shape"
   ]
  },
  {
   "cell_type": "code",
   "execution_count": null,
   "metadata": {},
   "outputs": [],
   "source": [
    "#cosine_similarities"
   ]
  },
  {
   "cell_type": "code",
   "execution_count": null,
   "metadata": {},
   "outputs": [],
   "source": [
    "#cosine_similarities.argsort()[:-6:-1]"
   ]
  },
  {
   "cell_type": "code",
   "execution_count": null,
   "metadata": {},
   "outputs": [],
   "source": [
    "#cosine_similarities_headline = headline_svd_matrix.dot(search_term_svd.T).ravel()"
   ]
  },
  {
   "cell_type": "code",
   "execution_count": null,
   "metadata": {},
   "outputs": [],
   "source": [
    "from gensim import corpora, models\n",
    "import pyLDAvis.gensim\n",
    "pyLDAvis.enable_notebook()"
   ]
  },
  {
   "cell_type": "code",
   "execution_count": null,
   "metadata": {},
   "outputs": [],
   "source": [
    "#from nltk.corpus import stopwords\n",
    "#def split_into_words(documents):\n",
    "    #docs = []\n",
    "    #for doc in documents:\n",
    "        #text_processed = doc.split(' ')\n",
    "        #text_processed = list(filter(lambda a: a != '', text_processed))\n",
    "        #text_processed = [word.lower() for word in text_processed if word.lower() not in stopwords.words('english')]\n",
    "        #docs.append(text_processed)\n",
    "    #return docs"
   ]
  },
  {
   "cell_type": "code",
   "execution_count": null,
   "metadata": {
    "scrolled": true
   },
   "outputs": [],
   "source": [
    "#texts = split_into_words(df_all['articleBody'])"
   ]
  },
  {
   "cell_type": "markdown",
   "metadata": {},
   "source": [
    "## Cosine Similarity"
   ]
  },
  {
   "cell_type": "code",
   "execution_count": 177,
   "metadata": {},
   "outputs": [],
   "source": [
    "import scipy.spatial as sp"
   ]
  },
  {
   "cell_type": "code",
   "execution_count": 178,
   "metadata": {},
   "outputs": [],
   "source": [
    "#distances = 1 - sp.distance.cdist(articleBody_svd_matrix, headline_svd_matrix, 'cosine')"
   ]
  },
  {
   "cell_type": "code",
   "execution_count": 185,
   "metadata": {},
   "outputs": [],
   "source": [
    "distances = []\n",
    "for i, body in enumerate(articleBody_svd_matrix): \n",
    "    distances.append(sp.distance.cdist([body], [headline_svd_matrix[i]], 'cosine')[0][0])"
   ]
  },
  {
   "cell_type": "code",
   "execution_count": 186,
   "metadata": {},
   "outputs": [],
   "source": [
    "df_all['distances'] = pd.Series(distances)"
   ]
  },
  {
   "cell_type": "code",
   "execution_count": 187,
   "metadata": {},
   "outputs": [
    {
     "data": {
      "text/plain": [
       "(49972, 5)"
      ]
     },
     "execution_count": 187,
     "metadata": {},
     "output_type": "execute_result"
    }
   ],
   "source": [
    "df_all.shape"
   ]
  },
  {
   "cell_type": "markdown",
   "metadata": {},
   "source": [
    "### Eliminating Nulls"
   ]
  },
  {
   "cell_type": "code",
   "execution_count": 201,
   "metadata": {},
   "outputs": [],
   "source": [
    "df_fix = pd.DataFrame(df_all['distances'], df_all['Body ID'], df_all['Stance'])"
   ]
  },
  {
   "cell_type": "code",
   "execution_count": null,
   "metadata": {},
   "outputs": [],
   "source": [
    "df_fix.T.head()"
   ]
  },
  {
   "cell_type": "code",
   "execution_count": null,
   "metadata": {
    "scrolled": true
   },
   "outputs": [],
   "source": [
    "#2 null values \n",
    "df_all.shape"
   ]
  },
  {
   "cell_type": "code",
   "execution_count": 164,
   "metadata": {},
   "outputs": [],
   "source": [
    "df_all = df_all.dropna(axis=0)\n",
    "\n",
    "#why does this change my df to not a df "
   ]
  },
  {
   "cell_type": "code",
   "execution_count": 165,
   "metadata": {},
   "outputs": [
    {
     "data": {
      "text/plain": [
       "(49972, 4)"
      ]
     },
     "execution_count": 165,
     "metadata": {},
     "output_type": "execute_result"
    }
   ],
   "source": [
    "df_all.shape"
   ]
  },
  {
   "cell_type": "code",
   "execution_count": 166,
   "metadata": {},
   "outputs": [],
   "source": [
    "df_all = stances.merge(bodies, on = 'Body ID')"
   ]
  },
  {
   "cell_type": "code",
   "execution_count": 167,
   "metadata": {
    "scrolled": true
   },
   "outputs": [
    {
     "data": {
      "text/html": [
       "<div>\n",
       "<style scoped>\n",
       "    .dataframe tbody tr th:only-of-type {\n",
       "        vertical-align: middle;\n",
       "    }\n",
       "\n",
       "    .dataframe tbody tr th {\n",
       "        vertical-align: top;\n",
       "    }\n",
       "\n",
       "    .dataframe thead th {\n",
       "        text-align: right;\n",
       "    }\n",
       "</style>\n",
       "<table border=\"1\" class=\"dataframe\">\n",
       "  <thead>\n",
       "    <tr style=\"text-align: right;\">\n",
       "      <th></th>\n",
       "      <th>Headline</th>\n",
       "      <th>Body ID</th>\n",
       "      <th>Stance</th>\n",
       "      <th>articleBody</th>\n",
       "    </tr>\n",
       "  </thead>\n",
       "  <tbody>\n",
       "    <tr>\n",
       "      <th>0</th>\n",
       "      <td>Police find mass graves with at least '15 bodi...</td>\n",
       "      <td>712</td>\n",
       "      <td>unrelated</td>\n",
       "      <td>Danny Boyle is directing the untitled film\\n\\n...</td>\n",
       "    </tr>\n",
       "    <tr>\n",
       "      <th>1</th>\n",
       "      <td>Seth Rogen to Play Apple’s Steve Wozniak</td>\n",
       "      <td>712</td>\n",
       "      <td>discuss</td>\n",
       "      <td>Danny Boyle is directing the untitled film\\n\\n...</td>\n",
       "    </tr>\n",
       "    <tr>\n",
       "      <th>2</th>\n",
       "      <td>Mexico police find mass grave near site 43 stu...</td>\n",
       "      <td>712</td>\n",
       "      <td>unrelated</td>\n",
       "      <td>Danny Boyle is directing the untitled film\\n\\n...</td>\n",
       "    </tr>\n",
       "    <tr>\n",
       "      <th>3</th>\n",
       "      <td>Mexico Says Missing Students Not Found In Firs...</td>\n",
       "      <td>712</td>\n",
       "      <td>unrelated</td>\n",
       "      <td>Danny Boyle is directing the untitled film\\n\\n...</td>\n",
       "    </tr>\n",
       "    <tr>\n",
       "      <th>4</th>\n",
       "      <td>New iOS 8 bug can delete all of your iCloud do...</td>\n",
       "      <td>712</td>\n",
       "      <td>unrelated</td>\n",
       "      <td>Danny Boyle is directing the untitled film\\n\\n...</td>\n",
       "    </tr>\n",
       "  </tbody>\n",
       "</table>\n",
       "</div>"
      ],
      "text/plain": [
       "                                            Headline  Body ID     Stance  \\\n",
       "0  Police find mass graves with at least '15 bodi...      712  unrelated   \n",
       "1           Seth Rogen to Play Apple’s Steve Wozniak      712    discuss   \n",
       "2  Mexico police find mass grave near site 43 stu...      712  unrelated   \n",
       "3  Mexico Says Missing Students Not Found In Firs...      712  unrelated   \n",
       "4  New iOS 8 bug can delete all of your iCloud do...      712  unrelated   \n",
       "\n",
       "                                         articleBody  \n",
       "0  Danny Boyle is directing the untitled film\\n\\n...  \n",
       "1  Danny Boyle is directing the untitled film\\n\\n...  \n",
       "2  Danny Boyle is directing the untitled film\\n\\n...  \n",
       "3  Danny Boyle is directing the untitled film\\n\\n...  \n",
       "4  Danny Boyle is directing the untitled film\\n\\n...  "
      ]
     },
     "execution_count": 167,
     "metadata": {},
     "output_type": "execute_result"
    }
   ],
   "source": [
    "df_all.head()"
   ]
  },
  {
   "cell_type": "code",
   "execution_count": 87,
   "metadata": {
    "scrolled": true
   },
   "outputs": [
    {
     "data": {
      "text/html": [
       "<div>\n",
       "<style scoped>\n",
       "    .dataframe tbody tr th:only-of-type {\n",
       "        vertical-align: middle;\n",
       "    }\n",
       "\n",
       "    .dataframe tbody tr th {\n",
       "        vertical-align: top;\n",
       "    }\n",
       "\n",
       "    .dataframe thead th {\n",
       "        text-align: right;\n",
       "    }\n",
       "</style>\n",
       "<table border=\"1\" class=\"dataframe\">\n",
       "  <thead>\n",
       "    <tr style=\"text-align: right;\">\n",
       "      <th></th>\n",
       "      <th>distances</th>\n",
       "    </tr>\n",
       "  </thead>\n",
       "  <tbody>\n",
       "    <tr>\n",
       "      <th>0</th>\n",
       "      <td>0.852089</td>\n",
       "    </tr>\n",
       "    <tr>\n",
       "      <th>1</th>\n",
       "      <td>0.952722</td>\n",
       "    </tr>\n",
       "    <tr>\n",
       "      <th>2</th>\n",
       "      <td>0.834662</td>\n",
       "    </tr>\n",
       "    <tr>\n",
       "      <th>3</th>\n",
       "      <td>0.766238</td>\n",
       "    </tr>\n",
       "    <tr>\n",
       "      <th>4</th>\n",
       "      <td>0.965413</td>\n",
       "    </tr>\n",
       "  </tbody>\n",
       "</table>\n",
       "</div>"
      ],
      "text/plain": [
       "   distances\n",
       "0   0.852089\n",
       "1   0.952722\n",
       "2   0.834662\n",
       "3   0.766238\n",
       "4   0.965413"
      ]
     },
     "execution_count": 87,
     "metadata": {},
     "output_type": "execute_result"
    }
   ],
   "source": [
    "df_fix.head()"
   ]
  },
  {
   "cell_type": "code",
   "execution_count": 170,
   "metadata": {},
   "outputs": [
    {
     "data": {
      "text/html": [
       "<div>\n",
       "<style scoped>\n",
       "    .dataframe tbody tr th:only-of-type {\n",
       "        vertical-align: middle;\n",
       "    }\n",
       "\n",
       "    .dataframe tbody tr th {\n",
       "        vertical-align: top;\n",
       "    }\n",
       "\n",
       "    .dataframe thead th {\n",
       "        text-align: right;\n",
       "    }\n",
       "</style>\n",
       "<table border=\"1\" class=\"dataframe\">\n",
       "  <thead>\n",
       "    <tr style=\"text-align: right;\">\n",
       "      <th></th>\n",
       "      <th>distances</th>\n",
       "    </tr>\n",
       "  </thead>\n",
       "  <tbody>\n",
       "  </tbody>\n",
       "</table>\n",
       "</div>"
      ],
      "text/plain": [
       "Empty DataFrame\n",
       "Columns: [distances]\n",
       "Index: []"
      ]
     },
     "execution_count": 170,
     "metadata": {},
     "output_type": "execute_result"
    }
   ],
   "source": [
    "df_fix[df_fix['distances'].isnull()==True]"
   ]
  },
  {
   "cell_type": "code",
   "execution_count": 171,
   "metadata": {},
   "outputs": [],
   "source": [
    "df_fix = df_fix.dropna(axis=0)"
   ]
  },
  {
   "cell_type": "code",
   "execution_count": 172,
   "metadata": {},
   "outputs": [
    {
     "data": {
      "text/plain": [
       "(49970, 1)"
      ]
     },
     "execution_count": 172,
     "metadata": {},
     "output_type": "execute_result"
    }
   ],
   "source": [
    "df_fix.shape"
   ]
  },
  {
   "cell_type": "code",
   "execution_count": 173,
   "metadata": {},
   "outputs": [
    {
     "ename": "KeyError",
     "evalue": "'distances'",
     "output_type": "error",
     "traceback": [
      "\u001b[0;31m---------------------------------------------------------------------------\u001b[0m",
      "\u001b[0;31mKeyError\u001b[0m                                  Traceback (most recent call last)",
      "\u001b[0;32m/anaconda3/envs/dsi/lib/python3.6/site-packages/pandas/core/indexes/base.py\u001b[0m in \u001b[0;36mget_loc\u001b[0;34m(self, key, method, tolerance)\u001b[0m\n\u001b[1;32m   2524\u001b[0m             \u001b[0;32mtry\u001b[0m\u001b[0;34m:\u001b[0m\u001b[0;34m\u001b[0m\u001b[0m\n\u001b[0;32m-> 2525\u001b[0;31m                 \u001b[0;32mreturn\u001b[0m \u001b[0mself\u001b[0m\u001b[0;34m.\u001b[0m\u001b[0m_engine\u001b[0m\u001b[0;34m.\u001b[0m\u001b[0mget_loc\u001b[0m\u001b[0;34m(\u001b[0m\u001b[0mkey\u001b[0m\u001b[0;34m)\u001b[0m\u001b[0;34m\u001b[0m\u001b[0m\n\u001b[0m\u001b[1;32m   2526\u001b[0m             \u001b[0;32mexcept\u001b[0m \u001b[0mKeyError\u001b[0m\u001b[0;34m:\u001b[0m\u001b[0;34m\u001b[0m\u001b[0m\n",
      "\u001b[0;32mpandas/_libs/index.pyx\u001b[0m in \u001b[0;36mpandas._libs.index.IndexEngine.get_loc\u001b[0;34m()\u001b[0m\n",
      "\u001b[0;32mpandas/_libs/index.pyx\u001b[0m in \u001b[0;36mpandas._libs.index.IndexEngine.get_loc\u001b[0;34m()\u001b[0m\n",
      "\u001b[0;32mpandas/_libs/hashtable_class_helper.pxi\u001b[0m in \u001b[0;36mpandas._libs.hashtable.PyObjectHashTable.get_item\u001b[0;34m()\u001b[0m\n",
      "\u001b[0;32mpandas/_libs/hashtable_class_helper.pxi\u001b[0m in \u001b[0;36mpandas._libs.hashtable.PyObjectHashTable.get_item\u001b[0;34m()\u001b[0m\n",
      "\u001b[0;31mKeyError\u001b[0m: 'distances'",
      "\nDuring handling of the above exception, another exception occurred:\n",
      "\u001b[0;31mKeyError\u001b[0m                                  Traceback (most recent call last)",
      "\u001b[0;32m<ipython-input-173-8f1bb15eebbc>\u001b[0m in \u001b[0;36m<module>\u001b[0;34m()\u001b[0m\n\u001b[0;32m----> 1\u001b[0;31m \u001b[0mdf_all\u001b[0m\u001b[0;34m[\u001b[0m\u001b[0mdf_all\u001b[0m\u001b[0;34m[\u001b[0m\u001b[0;34m'distances'\u001b[0m\u001b[0;34m]\u001b[0m\u001b[0;34m.\u001b[0m\u001b[0misnull\u001b[0m\u001b[0;34m(\u001b[0m\u001b[0;34m)\u001b[0m\u001b[0;34m==\u001b[0m\u001b[0;32mTrue\u001b[0m\u001b[0;34m]\u001b[0m\u001b[0;34m\u001b[0m\u001b[0m\n\u001b[0m",
      "\u001b[0;32m/anaconda3/envs/dsi/lib/python3.6/site-packages/pandas/core/frame.py\u001b[0m in \u001b[0;36m__getitem__\u001b[0;34m(self, key)\u001b[0m\n\u001b[1;32m   2137\u001b[0m             \u001b[0;32mreturn\u001b[0m \u001b[0mself\u001b[0m\u001b[0;34m.\u001b[0m\u001b[0m_getitem_multilevel\u001b[0m\u001b[0;34m(\u001b[0m\u001b[0mkey\u001b[0m\u001b[0;34m)\u001b[0m\u001b[0;34m\u001b[0m\u001b[0m\n\u001b[1;32m   2138\u001b[0m         \u001b[0;32melse\u001b[0m\u001b[0;34m:\u001b[0m\u001b[0;34m\u001b[0m\u001b[0m\n\u001b[0;32m-> 2139\u001b[0;31m             \u001b[0;32mreturn\u001b[0m \u001b[0mself\u001b[0m\u001b[0;34m.\u001b[0m\u001b[0m_getitem_column\u001b[0m\u001b[0;34m(\u001b[0m\u001b[0mkey\u001b[0m\u001b[0;34m)\u001b[0m\u001b[0;34m\u001b[0m\u001b[0m\n\u001b[0m\u001b[1;32m   2140\u001b[0m \u001b[0;34m\u001b[0m\u001b[0m\n\u001b[1;32m   2141\u001b[0m     \u001b[0;32mdef\u001b[0m \u001b[0m_getitem_column\u001b[0m\u001b[0;34m(\u001b[0m\u001b[0mself\u001b[0m\u001b[0;34m,\u001b[0m \u001b[0mkey\u001b[0m\u001b[0;34m)\u001b[0m\u001b[0;34m:\u001b[0m\u001b[0;34m\u001b[0m\u001b[0m\n",
      "\u001b[0;32m/anaconda3/envs/dsi/lib/python3.6/site-packages/pandas/core/frame.py\u001b[0m in \u001b[0;36m_getitem_column\u001b[0;34m(self, key)\u001b[0m\n\u001b[1;32m   2144\u001b[0m         \u001b[0;31m# get column\u001b[0m\u001b[0;34m\u001b[0m\u001b[0;34m\u001b[0m\u001b[0m\n\u001b[1;32m   2145\u001b[0m         \u001b[0;32mif\u001b[0m \u001b[0mself\u001b[0m\u001b[0;34m.\u001b[0m\u001b[0mcolumns\u001b[0m\u001b[0;34m.\u001b[0m\u001b[0mis_unique\u001b[0m\u001b[0;34m:\u001b[0m\u001b[0;34m\u001b[0m\u001b[0m\n\u001b[0;32m-> 2146\u001b[0;31m             \u001b[0;32mreturn\u001b[0m \u001b[0mself\u001b[0m\u001b[0;34m.\u001b[0m\u001b[0m_get_item_cache\u001b[0m\u001b[0;34m(\u001b[0m\u001b[0mkey\u001b[0m\u001b[0;34m)\u001b[0m\u001b[0;34m\u001b[0m\u001b[0m\n\u001b[0m\u001b[1;32m   2147\u001b[0m \u001b[0;34m\u001b[0m\u001b[0m\n\u001b[1;32m   2148\u001b[0m         \u001b[0;31m# duplicate columns & possible reduce dimensionality\u001b[0m\u001b[0;34m\u001b[0m\u001b[0;34m\u001b[0m\u001b[0m\n",
      "\u001b[0;32m/anaconda3/envs/dsi/lib/python3.6/site-packages/pandas/core/generic.py\u001b[0m in \u001b[0;36m_get_item_cache\u001b[0;34m(self, item)\u001b[0m\n\u001b[1;32m   1840\u001b[0m         \u001b[0mres\u001b[0m \u001b[0;34m=\u001b[0m \u001b[0mcache\u001b[0m\u001b[0;34m.\u001b[0m\u001b[0mget\u001b[0m\u001b[0;34m(\u001b[0m\u001b[0mitem\u001b[0m\u001b[0;34m)\u001b[0m\u001b[0;34m\u001b[0m\u001b[0m\n\u001b[1;32m   1841\u001b[0m         \u001b[0;32mif\u001b[0m \u001b[0mres\u001b[0m \u001b[0;32mis\u001b[0m \u001b[0;32mNone\u001b[0m\u001b[0;34m:\u001b[0m\u001b[0;34m\u001b[0m\u001b[0m\n\u001b[0;32m-> 1842\u001b[0;31m             \u001b[0mvalues\u001b[0m \u001b[0;34m=\u001b[0m \u001b[0mself\u001b[0m\u001b[0;34m.\u001b[0m\u001b[0m_data\u001b[0m\u001b[0;34m.\u001b[0m\u001b[0mget\u001b[0m\u001b[0;34m(\u001b[0m\u001b[0mitem\u001b[0m\u001b[0;34m)\u001b[0m\u001b[0;34m\u001b[0m\u001b[0m\n\u001b[0m\u001b[1;32m   1843\u001b[0m             \u001b[0mres\u001b[0m \u001b[0;34m=\u001b[0m \u001b[0mself\u001b[0m\u001b[0;34m.\u001b[0m\u001b[0m_box_item_values\u001b[0m\u001b[0;34m(\u001b[0m\u001b[0mitem\u001b[0m\u001b[0;34m,\u001b[0m \u001b[0mvalues\u001b[0m\u001b[0;34m)\u001b[0m\u001b[0;34m\u001b[0m\u001b[0m\n\u001b[1;32m   1844\u001b[0m             \u001b[0mcache\u001b[0m\u001b[0;34m[\u001b[0m\u001b[0mitem\u001b[0m\u001b[0;34m]\u001b[0m \u001b[0;34m=\u001b[0m \u001b[0mres\u001b[0m\u001b[0;34m\u001b[0m\u001b[0m\n",
      "\u001b[0;32m/anaconda3/envs/dsi/lib/python3.6/site-packages/pandas/core/internals.py\u001b[0m in \u001b[0;36mget\u001b[0;34m(self, item, fastpath)\u001b[0m\n\u001b[1;32m   3841\u001b[0m \u001b[0;34m\u001b[0m\u001b[0m\n\u001b[1;32m   3842\u001b[0m             \u001b[0;32mif\u001b[0m \u001b[0;32mnot\u001b[0m \u001b[0misna\u001b[0m\u001b[0;34m(\u001b[0m\u001b[0mitem\u001b[0m\u001b[0;34m)\u001b[0m\u001b[0;34m:\u001b[0m\u001b[0;34m\u001b[0m\u001b[0m\n\u001b[0;32m-> 3843\u001b[0;31m                 \u001b[0mloc\u001b[0m \u001b[0;34m=\u001b[0m \u001b[0mself\u001b[0m\u001b[0;34m.\u001b[0m\u001b[0mitems\u001b[0m\u001b[0;34m.\u001b[0m\u001b[0mget_loc\u001b[0m\u001b[0;34m(\u001b[0m\u001b[0mitem\u001b[0m\u001b[0;34m)\u001b[0m\u001b[0;34m\u001b[0m\u001b[0m\n\u001b[0m\u001b[1;32m   3844\u001b[0m             \u001b[0;32melse\u001b[0m\u001b[0;34m:\u001b[0m\u001b[0;34m\u001b[0m\u001b[0m\n\u001b[1;32m   3845\u001b[0m                 \u001b[0mindexer\u001b[0m \u001b[0;34m=\u001b[0m \u001b[0mnp\u001b[0m\u001b[0;34m.\u001b[0m\u001b[0marange\u001b[0m\u001b[0;34m(\u001b[0m\u001b[0mlen\u001b[0m\u001b[0;34m(\u001b[0m\u001b[0mself\u001b[0m\u001b[0;34m.\u001b[0m\u001b[0mitems\u001b[0m\u001b[0;34m)\u001b[0m\u001b[0;34m)\u001b[0m\u001b[0;34m[\u001b[0m\u001b[0misna\u001b[0m\u001b[0;34m(\u001b[0m\u001b[0mself\u001b[0m\u001b[0;34m.\u001b[0m\u001b[0mitems\u001b[0m\u001b[0;34m)\u001b[0m\u001b[0;34m]\u001b[0m\u001b[0;34m\u001b[0m\u001b[0m\n",
      "\u001b[0;32m/anaconda3/envs/dsi/lib/python3.6/site-packages/pandas/core/indexes/base.py\u001b[0m in \u001b[0;36mget_loc\u001b[0;34m(self, key, method, tolerance)\u001b[0m\n\u001b[1;32m   2525\u001b[0m                 \u001b[0;32mreturn\u001b[0m \u001b[0mself\u001b[0m\u001b[0;34m.\u001b[0m\u001b[0m_engine\u001b[0m\u001b[0;34m.\u001b[0m\u001b[0mget_loc\u001b[0m\u001b[0;34m(\u001b[0m\u001b[0mkey\u001b[0m\u001b[0;34m)\u001b[0m\u001b[0;34m\u001b[0m\u001b[0m\n\u001b[1;32m   2526\u001b[0m             \u001b[0;32mexcept\u001b[0m \u001b[0mKeyError\u001b[0m\u001b[0;34m:\u001b[0m\u001b[0;34m\u001b[0m\u001b[0m\n\u001b[0;32m-> 2527\u001b[0;31m                 \u001b[0;32mreturn\u001b[0m \u001b[0mself\u001b[0m\u001b[0;34m.\u001b[0m\u001b[0m_engine\u001b[0m\u001b[0;34m.\u001b[0m\u001b[0mget_loc\u001b[0m\u001b[0;34m(\u001b[0m\u001b[0mself\u001b[0m\u001b[0;34m.\u001b[0m\u001b[0m_maybe_cast_indexer\u001b[0m\u001b[0;34m(\u001b[0m\u001b[0mkey\u001b[0m\u001b[0;34m)\u001b[0m\u001b[0;34m)\u001b[0m\u001b[0;34m\u001b[0m\u001b[0m\n\u001b[0m\u001b[1;32m   2528\u001b[0m \u001b[0;34m\u001b[0m\u001b[0m\n\u001b[1;32m   2529\u001b[0m         \u001b[0mindexer\u001b[0m \u001b[0;34m=\u001b[0m \u001b[0mself\u001b[0m\u001b[0;34m.\u001b[0m\u001b[0mget_indexer\u001b[0m\u001b[0;34m(\u001b[0m\u001b[0;34m[\u001b[0m\u001b[0mkey\u001b[0m\u001b[0;34m]\u001b[0m\u001b[0;34m,\u001b[0m \u001b[0mmethod\u001b[0m\u001b[0;34m=\u001b[0m\u001b[0mmethod\u001b[0m\u001b[0;34m,\u001b[0m \u001b[0mtolerance\u001b[0m\u001b[0;34m=\u001b[0m\u001b[0mtolerance\u001b[0m\u001b[0;34m)\u001b[0m\u001b[0;34m\u001b[0m\u001b[0m\n",
      "\u001b[0;32mpandas/_libs/index.pyx\u001b[0m in \u001b[0;36mpandas._libs.index.IndexEngine.get_loc\u001b[0;34m()\u001b[0m\n",
      "\u001b[0;32mpandas/_libs/index.pyx\u001b[0m in \u001b[0;36mpandas._libs.index.IndexEngine.get_loc\u001b[0;34m()\u001b[0m\n",
      "\u001b[0;32mpandas/_libs/hashtable_class_helper.pxi\u001b[0m in \u001b[0;36mpandas._libs.hashtable.PyObjectHashTable.get_item\u001b[0;34m()\u001b[0m\n",
      "\u001b[0;32mpandas/_libs/hashtable_class_helper.pxi\u001b[0m in \u001b[0;36mpandas._libs.hashtable.PyObjectHashTable.get_item\u001b[0;34m()\u001b[0m\n",
      "\u001b[0;31mKeyError\u001b[0m: 'distances'"
     ]
    }
   ],
   "source": [
    "df_all[df_all['distances'].isnull()==True]"
   ]
  },
  {
   "cell_type": "markdown",
   "metadata": {},
   "source": [
    "### Adding labels to stances"
   ]
  },
  {
   "cell_type": "code",
   "execution_count": 88,
   "metadata": {},
   "outputs": [],
   "source": [
    "from sklearn import preprocessing"
   ]
  },
  {
   "cell_type": "code",
   "execution_count": 89,
   "metadata": {},
   "outputs": [
    {
     "name": "stdout",
     "output_type": "stream",
     "text": [
      "Classes: ['agree', 'disagree', 'discuss', 'unrelated']\n"
     ]
    }
   ],
   "source": [
    "le = preprocessing.LabelEncoder()\n",
    "le.fit(df_all['Stance'])\n",
    "print(\"Classes:\", list(le.classes_))\n",
    "stance_label = le.transform(df_all['Stance']) \n"
   ]
  },
  {
   "cell_type": "code",
   "execution_count": 90,
   "metadata": {
    "scrolled": true
   },
   "outputs": [
    {
     "data": {
      "text/plain": [
       "array([3, 2, 3, ..., 0, 2, 2])"
      ]
     },
     "execution_count": 90,
     "metadata": {},
     "output_type": "execute_result"
    }
   ],
   "source": [
    "stance_label"
   ]
  },
  {
   "cell_type": "code",
   "execution_count": 205,
   "metadata": {},
   "outputs": [],
   "source": [
    "df_all['stance_dummy'] = pd.Series(stance_label)"
   ]
  },
  {
   "cell_type": "code",
   "execution_count": 206,
   "metadata": {},
   "outputs": [
    {
     "data": {
      "text/html": [
       "<div>\n",
       "<style scoped>\n",
       "    .dataframe tbody tr th:only-of-type {\n",
       "        vertical-align: middle;\n",
       "    }\n",
       "\n",
       "    .dataframe tbody tr th {\n",
       "        vertical-align: top;\n",
       "    }\n",
       "\n",
       "    .dataframe thead th {\n",
       "        text-align: right;\n",
       "    }\n",
       "</style>\n",
       "<table border=\"1\" class=\"dataframe\">\n",
       "  <thead>\n",
       "    <tr style=\"text-align: right;\">\n",
       "      <th></th>\n",
       "      <th>Headline</th>\n",
       "      <th>Body ID</th>\n",
       "      <th>Stance</th>\n",
       "      <th>articleBody</th>\n",
       "      <th>distances</th>\n",
       "      <th>stance_dummy</th>\n",
       "    </tr>\n",
       "  </thead>\n",
       "  <tbody>\n",
       "    <tr>\n",
       "      <th>0</th>\n",
       "      <td>Police find mass graves with at least '15 bodi...</td>\n",
       "      <td>712</td>\n",
       "      <td>unrelated</td>\n",
       "      <td>Danny Boyle is directing the untitled film\\n\\n...</td>\n",
       "      <td>0.852089</td>\n",
       "      <td>3</td>\n",
       "    </tr>\n",
       "    <tr>\n",
       "      <th>1</th>\n",
       "      <td>Seth Rogen to Play Apple’s Steve Wozniak</td>\n",
       "      <td>712</td>\n",
       "      <td>discuss</td>\n",
       "      <td>Danny Boyle is directing the untitled film\\n\\n...</td>\n",
       "      <td>0.952722</td>\n",
       "      <td>2</td>\n",
       "    </tr>\n",
       "    <tr>\n",
       "      <th>2</th>\n",
       "      <td>Mexico police find mass grave near site 43 stu...</td>\n",
       "      <td>712</td>\n",
       "      <td>unrelated</td>\n",
       "      <td>Danny Boyle is directing the untitled film\\n\\n...</td>\n",
       "      <td>0.834662</td>\n",
       "      <td>3</td>\n",
       "    </tr>\n",
       "    <tr>\n",
       "      <th>3</th>\n",
       "      <td>Mexico Says Missing Students Not Found In Firs...</td>\n",
       "      <td>712</td>\n",
       "      <td>unrelated</td>\n",
       "      <td>Danny Boyle is directing the untitled film\\n\\n...</td>\n",
       "      <td>0.766238</td>\n",
       "      <td>3</td>\n",
       "    </tr>\n",
       "    <tr>\n",
       "      <th>4</th>\n",
       "      <td>New iOS 8 bug can delete all of your iCloud do...</td>\n",
       "      <td>712</td>\n",
       "      <td>unrelated</td>\n",
       "      <td>Danny Boyle is directing the untitled film\\n\\n...</td>\n",
       "      <td>0.965413</td>\n",
       "      <td>3</td>\n",
       "    </tr>\n",
       "  </tbody>\n",
       "</table>\n",
       "</div>"
      ],
      "text/plain": [
       "                                            Headline  Body ID     Stance  \\\n",
       "0  Police find mass graves with at least '15 bodi...      712  unrelated   \n",
       "1           Seth Rogen to Play Apple’s Steve Wozniak      712    discuss   \n",
       "2  Mexico police find mass grave near site 43 stu...      712  unrelated   \n",
       "3  Mexico Says Missing Students Not Found In Firs...      712  unrelated   \n",
       "4  New iOS 8 bug can delete all of your iCloud do...      712  unrelated   \n",
       "\n",
       "                                         articleBody  distances  stance_dummy  \n",
       "0  Danny Boyle is directing the untitled film\\n\\n...   0.852089             3  \n",
       "1  Danny Boyle is directing the untitled film\\n\\n...   0.952722             2  \n",
       "2  Danny Boyle is directing the untitled film\\n\\n...   0.834662             3  \n",
       "3  Danny Boyle is directing the untitled film\\n\\n...   0.766238             3  \n",
       "4  Danny Boyle is directing the untitled film\\n\\n...   0.965413             3  "
      ]
     },
     "execution_count": 206,
     "metadata": {},
     "output_type": "execute_result"
    }
   ],
   "source": [
    "df_all.head()"
   ]
  },
  {
   "cell_type": "code",
   "execution_count": 94,
   "metadata": {},
   "outputs": [
    {
     "data": {
      "text/html": [
       "<div>\n",
       "<style scoped>\n",
       "    .dataframe tbody tr th:only-of-type {\n",
       "        vertical-align: middle;\n",
       "    }\n",
       "\n",
       "    .dataframe tbody tr th {\n",
       "        vertical-align: top;\n",
       "    }\n",
       "\n",
       "    .dataframe thead th {\n",
       "        text-align: right;\n",
       "    }\n",
       "</style>\n",
       "<table border=\"1\" class=\"dataframe\">\n",
       "  <thead>\n",
       "    <tr style=\"text-align: right;\">\n",
       "      <th></th>\n",
       "      <th>agree</th>\n",
       "      <th>disagree</th>\n",
       "      <th>discuss</th>\n",
       "      <th>unrelated</th>\n",
       "    </tr>\n",
       "  </thead>\n",
       "  <tbody>\n",
       "    <tr>\n",
       "      <th>0</th>\n",
       "      <td>0</td>\n",
       "      <td>0</td>\n",
       "      <td>0</td>\n",
       "      <td>1</td>\n",
       "    </tr>\n",
       "    <tr>\n",
       "      <th>1</th>\n",
       "      <td>0</td>\n",
       "      <td>0</td>\n",
       "      <td>1</td>\n",
       "      <td>0</td>\n",
       "    </tr>\n",
       "    <tr>\n",
       "      <th>2</th>\n",
       "      <td>0</td>\n",
       "      <td>0</td>\n",
       "      <td>0</td>\n",
       "      <td>1</td>\n",
       "    </tr>\n",
       "    <tr>\n",
       "      <th>3</th>\n",
       "      <td>0</td>\n",
       "      <td>0</td>\n",
       "      <td>0</td>\n",
       "      <td>1</td>\n",
       "    </tr>\n",
       "    <tr>\n",
       "      <th>4</th>\n",
       "      <td>0</td>\n",
       "      <td>0</td>\n",
       "      <td>0</td>\n",
       "      <td>1</td>\n",
       "    </tr>\n",
       "  </tbody>\n",
       "</table>\n",
       "</div>"
      ],
      "text/plain": [
       "   agree  disagree  discuss  unrelated\n",
       "0      0         0        0          1\n",
       "1      0         0        1          0\n",
       "2      0         0        0          1\n",
       "3      0         0        0          1\n",
       "4      0         0        0          1"
      ]
     },
     "execution_count": 94,
     "metadata": {},
     "output_type": "execute_result"
    }
   ],
   "source": [
    "stance_dummy = pd.get_dummies(df_all['Stance'], drop_first=False)\n",
    "stance_dummy.head()"
   ]
  },
  {
   "cell_type": "code",
   "execution_count": 213,
   "metadata": {},
   "outputs": [],
   "source": [
    "df_fix = pd.DataFrame([df_all['distances'], df_all['stance_dummy']]).T\n",
    "df_fix = df_fix.dropna(axis=0)"
   ]
  },
  {
   "cell_type": "code",
   "execution_count": 209,
   "metadata": {},
   "outputs": [],
   "source": [
    "from sklearn.model_selection import train_test_split"
   ]
  },
  {
   "cell_type": "code",
   "execution_count": 214,
   "metadata": {},
   "outputs": [
    {
     "name": "stderr",
     "output_type": "stream",
     "text": [
      "/anaconda3/envs/dsi/lib/python3.6/site-packages/ipykernel/__main__.py:1: FutureWarning: reshape is deprecated and will raise in a subsequent release. Please use .values.reshape(...) instead\n",
      "  if __name__ == '__main__':\n"
     ]
    }
   ],
   "source": [
    "X = df_fix['distances'].reshape(df_fix['distances'].shape[0], 1)\n",
    "y = df_fix['stance_dummy']\n",
    "\n",
    "X_train, X_test, y_train, y_test = train_test_split(X, y)"
   ]
  },
  {
   "cell_type": "code",
   "execution_count": 215,
   "metadata": {},
   "outputs": [
    {
     "data": {
      "text/plain": [
       "((37477, 1), (12493, 1), (37477,), (12493,))"
      ]
     },
     "execution_count": 215,
     "metadata": {},
     "output_type": "execute_result"
    }
   ],
   "source": [
    "X_train.shape, X_test.shape, y_train.shape, y_test.shape"
   ]
  },
  {
   "cell_type": "code",
   "execution_count": 216,
   "metadata": {
    "scrolled": true
   },
   "outputs": [
    {
     "data": {
      "text/plain": [
       "0.7311150839181365"
      ]
     },
     "execution_count": 216,
     "metadata": {},
     "output_type": "execute_result"
    }
   ],
   "source": [
    "lr = LogisticRegression()\n",
    "lr.fit(X_train, y_train)\n",
    "lr.score(X_train, y_train)"
   ]
  },
  {
   "cell_type": "code",
   "execution_count": 217,
   "metadata": {},
   "outputs": [
    {
     "data": {
      "text/plain": [
       "0.7304090290562715"
      ]
     },
     "execution_count": 217,
     "metadata": {},
     "output_type": "execute_result"
    }
   ],
   "source": [
    "lr.score(X_test, y_test)"
   ]
  },
  {
   "cell_type": "code",
   "execution_count": 218,
   "metadata": {},
   "outputs": [
    {
     "data": {
      "text/plain": [
       "0.9577340769004989"
      ]
     },
     "execution_count": 218,
     "metadata": {},
     "output_type": "execute_result"
    }
   ],
   "source": [
    "from sklearn.ensemble import RandomForestClassifier\n",
    "rf = RandomForestClassifier()\n",
    "rf.fit(X_train, y_train)\n",
    "rf.score(X_train, y_train)"
   ]
  },
  {
   "cell_type": "code",
   "execution_count": 219,
   "metadata": {},
   "outputs": [
    {
     "data": {
      "text/plain": [
       "0.6058592811974706"
      ]
     },
     "execution_count": 219,
     "metadata": {},
     "output_type": "execute_result"
    }
   ],
   "source": [
    "rf.score(X_test, y_test)"
   ]
  },
  {
   "cell_type": "code",
   "execution_count": 220,
   "metadata": {},
   "outputs": [
    {
     "data": {
      "text/plain": [
       "array([0., 1., 2., 3.])"
      ]
     },
     "execution_count": 220,
     "metadata": {},
     "output_type": "execute_result"
    }
   ],
   "source": [
    "np.unique(y_train)"
   ]
  },
  {
   "cell_type": "markdown",
   "metadata": {},
   "source": [
    "### ROC Curve"
   ]
  },
  {
   "cell_type": "code",
   "execution_count": 221,
   "metadata": {},
   "outputs": [],
   "source": [
    "from sklearn.metrics import roc_auc_score"
   ]
  },
  {
   "cell_type": "code",
   "execution_count": 222,
   "metadata": {},
   "outputs": [
    {
     "data": {
      "image/png": "[encoded data removed]",
      "text/plain": [
       "<Figure size 504x504 with 1 Axes>"
      ]
     },
     "metadata": {},
     "output_type": "display_data"
    }
   ],
   "source": [
    "y_probas = lr.predict_proba(X_train)\n",
    "y_true = y_train\n",
    "\n",
    "import scikitplot as skplt\n",
    "import matplotlib.pyplot as plt\n",
    "\n",
    "skplt.metrics.plot_roc(y_true, y_probas, figsize=(7,7))\n",
    "plt.show()"
   ]
  },
  {
   "cell_type": "code",
   "execution_count": 223,
   "metadata": {},
   "outputs": [
    {
     "data": {
      "text/plain": [
       "(array([0., 2., 3., 1.]), (37477,))"
      ]
     },
     "execution_count": 223,
     "metadata": {},
     "output_type": "execute_result"
    }
   ],
   "source": [
    "y_true.unique(), y_true.shape"
   ]
  },
  {
   "cell_type": "code",
   "execution_count": 224,
   "metadata": {},
   "outputs": [
    {
     "data": {
      "text/plain": [
       "(array([0.00824913, 0.00836858, 0.0084015 , ..., 0.85144266, 0.85193765,\n",
       "        0.85317672]), (37477, 4))"
      ]
     },
     "execution_count": 224,
     "metadata": {},
     "output_type": "execute_result"
    }
   ],
   "source": [
    "np.unique(y_probas), y_probas.shape"
   ]
  },
  {
   "cell_type": "code",
   "execution_count": 225,
   "metadata": {
    "scrolled": true
   },
   "outputs": [
    {
     "data": {
      "text/plain": [
       "array([[0.07295073, 0.01753116, 0.16325486, 0.74626326],\n",
       "       [0.0733424 , 0.01733988, 0.16720562, 0.7421121 ],\n",
       "       [0.07812462, 0.01509475, 0.22186265, 0.68491798],\n",
       "       ...,\n",
       "       [0.06771186, 0.02024899, 0.11705255, 0.7949866 ],\n",
       "       [0.07144225, 0.01828136, 0.14871705, 0.76155935],\n",
       "       [0.07412021, 0.0169639 , 0.17527474, 0.73364115]])"
      ]
     },
     "execution_count": 225,
     "metadata": {},
     "output_type": "execute_result"
    }
   ],
   "source": [
    "y_probas"
   ]
  },
  {
   "cell_type": "code",
   "execution_count": 226,
   "metadata": {},
   "outputs": [],
   "source": [
    "from imblearn.over_sampling import RandomOverSampler"
   ]
  },
  {
   "cell_type": "code",
   "execution_count": 227,
   "metadata": {},
   "outputs": [
    {
     "name": "stdout",
     "output_type": "stream",
     "text": [
      "[(0.0, 36544), (1.0, 36544), (2.0, 36544), (3.0, 36544)]\n"
     ]
    }
   ],
   "source": [
    "ros = RandomOverSampler(random_state=0)\n",
    "X_resampled, y_resampled = ros.fit_sample(X, y)\n",
    "from collections import Counter\n",
    "print(sorted(Counter(y_resampled).items()))"
   ]
  },
  {
   "cell_type": "code",
   "execution_count": 228,
   "metadata": {
    "scrolled": true
   },
   "outputs": [
    {
     "data": {
      "text/plain": [
       "0.27486728327495624"
      ]
     },
     "execution_count": 228,
     "metadata": {},
     "output_type": "execute_result"
    }
   ],
   "source": [
    "lr = LogisticRegression()\n",
    "lr.fit(X_resampled, y_resampled)\n",
    "lr.score(X_resampled, y_resampled)"
   ]
  },
  {
   "cell_type": "markdown",
   "metadata": {},
   "source": [
    "# Model with cvec body, cvec head, and cosine similarity"
   ]
  },
  {
   "cell_type": "code",
   "execution_count": 229,
   "metadata": {
    "scrolled": true
   },
   "outputs": [
    {
     "data": {
      "text/plain": [
       "<49972x22888 sparse matrix of type '<class 'numpy.int64'>'\n",
       "\twith 6940629 stored elements in Compressed Sparse Row format>"
      ]
     },
     "execution_count": 229,
     "metadata": {},
     "output_type": "execute_result"
    }
   ],
   "source": [
    "cvec_vector = CountVectorizer(stop_words='english')\n",
    "\n",
    "cvec_articleBody_matrix_sparse = cvec_vector.fit_transform(df_all['articleBody'])\n",
    "cvec_articleBody_matrix_sparse"
   ]
  },
  {
   "cell_type": "code",
   "execution_count": 230,
   "metadata": {},
   "outputs": [],
   "source": [
    "cvec_body_array = cvec_articleBody_matrix_sparse.toarray()"
   ]
  },
  {
   "cell_type": "code",
   "execution_count": 231,
   "metadata": {},
   "outputs": [],
   "source": [
    "df_cvec = pd.DataFrame(cvec_body_array)"
   ]
  },
  {
   "cell_type": "code",
   "execution_count": 232,
   "metadata": {},
   "outputs": [
    {
     "data": {
      "text/html": [
       "<div>\n",
       "<style scoped>\n",
       "    .dataframe tbody tr th:only-of-type {\n",
       "        vertical-align: middle;\n",
       "    }\n",
       "\n",
       "    .dataframe tbody tr th {\n",
       "        vertical-align: top;\n",
       "    }\n",
       "\n",
       "    .dataframe thead th {\n",
       "        text-align: right;\n",
       "    }\n",
       "</style>\n",
       "<table border=\"1\" class=\"dataframe\">\n",
       "  <thead>\n",
       "    <tr style=\"text-align: right;\">\n",
       "      <th></th>\n",
       "      <th>0</th>\n",
       "      <th>1</th>\n",
       "      <th>2</th>\n",
       "      <th>3</th>\n",
       "      <th>4</th>\n",
       "      <th>5</th>\n",
       "      <th>6</th>\n",
       "      <th>7</th>\n",
       "      <th>8</th>\n",
       "      <th>9</th>\n",
       "      <th>...</th>\n",
       "      <th>22878</th>\n",
       "      <th>22879</th>\n",
       "      <th>22880</th>\n",
       "      <th>22881</th>\n",
       "      <th>22882</th>\n",
       "      <th>22883</th>\n",
       "      <th>22884</th>\n",
       "      <th>22885</th>\n",
       "      <th>22886</th>\n",
       "      <th>22887</th>\n",
       "    </tr>\n",
       "  </thead>\n",
       "  <tbody>\n",
       "    <tr>\n",
       "      <th>0</th>\n",
       "      <td>0</td>\n",
       "      <td>0</td>\n",
       "      <td>0</td>\n",
       "      <td>0</td>\n",
       "      <td>0</td>\n",
       "      <td>0</td>\n",
       "      <td>0</td>\n",
       "      <td>0</td>\n",
       "      <td>0</td>\n",
       "      <td>0</td>\n",
       "      <td>...</td>\n",
       "      <td>0</td>\n",
       "      <td>0</td>\n",
       "      <td>0</td>\n",
       "      <td>0</td>\n",
       "      <td>0</td>\n",
       "      <td>0</td>\n",
       "      <td>0</td>\n",
       "      <td>0</td>\n",
       "      <td>0</td>\n",
       "      <td>0</td>\n",
       "    </tr>\n",
       "    <tr>\n",
       "      <th>1</th>\n",
       "      <td>0</td>\n",
       "      <td>0</td>\n",
       "      <td>0</td>\n",
       "      <td>0</td>\n",
       "      <td>0</td>\n",
       "      <td>0</td>\n",
       "      <td>0</td>\n",
       "      <td>0</td>\n",
       "      <td>0</td>\n",
       "      <td>0</td>\n",
       "      <td>...</td>\n",
       "      <td>0</td>\n",
       "      <td>0</td>\n",
       "      <td>0</td>\n",
       "      <td>0</td>\n",
       "      <td>0</td>\n",
       "      <td>0</td>\n",
       "      <td>0</td>\n",
       "      <td>0</td>\n",
       "      <td>0</td>\n",
       "      <td>0</td>\n",
       "    </tr>\n",
       "    <tr>\n",
       "      <th>2</th>\n",
       "      <td>0</td>\n",
       "      <td>0</td>\n",
       "      <td>0</td>\n",
       "      <td>0</td>\n",
       "      <td>0</td>\n",
       "      <td>0</td>\n",
       "      <td>0</td>\n",
       "      <td>0</td>\n",
       "      <td>0</td>\n",
       "      <td>0</td>\n",
       "      <td>...</td>\n",
       "      <td>0</td>\n",
       "      <td>0</td>\n",
       "      <td>0</td>\n",
       "      <td>0</td>\n",
       "      <td>0</td>\n",
       "      <td>0</td>\n",
       "      <td>0</td>\n",
       "      <td>0</td>\n",
       "      <td>0</td>\n",
       "      <td>0</td>\n",
       "    </tr>\n",
       "    <tr>\n",
       "      <th>3</th>\n",
       "      <td>0</td>\n",
       "      <td>0</td>\n",
       "      <td>0</td>\n",
       "      <td>0</td>\n",
       "      <td>0</td>\n",
       "      <td>0</td>\n",
       "      <td>0</td>\n",
       "      <td>0</td>\n",
       "      <td>0</td>\n",
       "      <td>0</td>\n",
       "      <td>...</td>\n",
       "      <td>0</td>\n",
       "      <td>0</td>\n",
       "      <td>0</td>\n",
       "      <td>0</td>\n",
       "      <td>0</td>\n",
       "      <td>0</td>\n",
       "      <td>0</td>\n",
       "      <td>0</td>\n",
       "      <td>0</td>\n",
       "      <td>0</td>\n",
       "    </tr>\n",
       "    <tr>\n",
       "      <th>4</th>\n",
       "      <td>0</td>\n",
       "      <td>0</td>\n",
       "      <td>0</td>\n",
       "      <td>0</td>\n",
       "      <td>0</td>\n",
       "      <td>0</td>\n",
       "      <td>0</td>\n",
       "      <td>0</td>\n",
       "      <td>0</td>\n",
       "      <td>0</td>\n",
       "      <td>...</td>\n",
       "      <td>0</td>\n",
       "      <td>0</td>\n",
       "      <td>0</td>\n",
       "      <td>0</td>\n",
       "      <td>0</td>\n",
       "      <td>0</td>\n",
       "      <td>0</td>\n",
       "      <td>0</td>\n",
       "      <td>0</td>\n",
       "      <td>0</td>\n",
       "    </tr>\n",
       "  </tbody>\n",
       "</table>\n",
       "<p>5 rows × 22888 columns</p>\n",
       "</div>"
      ],
      "text/plain": [
       "   0      1      2      3      4      5      6      7      8      9      \\\n",
       "0      0      0      0      0      0      0      0      0      0      0   \n",
       "1      0      0      0      0      0      0      0      0      0      0   \n",
       "2      0      0      0      0      0      0      0      0      0      0   \n",
       "3      0      0      0      0      0      0      0      0      0      0   \n",
       "4      0      0      0      0      0      0      0      0      0      0   \n",
       "\n",
       "   ...    22878  22879  22880  22881  22882  22883  22884  22885  22886  22887  \n",
       "0  ...        0      0      0      0      0      0      0      0      0      0  \n",
       "1  ...        0      0      0      0      0      0      0      0      0      0  \n",
       "2  ...        0      0      0      0      0      0      0      0      0      0  \n",
       "3  ...        0      0      0      0      0      0      0      0      0      0  \n",
       "4  ...        0      0      0      0      0      0      0      0      0      0  \n",
       "\n",
       "[5 rows x 22888 columns]"
      ]
     },
     "execution_count": 232,
     "metadata": {},
     "output_type": "execute_result"
    }
   ],
   "source": [
    "df_cvec.head()"
   ]
  },
  {
   "cell_type": "code",
   "execution_count": 233,
   "metadata": {
    "scrolled": true
   },
   "outputs": [
    {
     "data": {
      "text/plain": [
       "<49972x3167 sparse matrix of type '<class 'numpy.int64'>'\n",
       "\twith 403082 stored elements in Compressed Sparse Row format>"
      ]
     },
     "execution_count": 233,
     "metadata": {},
     "output_type": "execute_result"
    }
   ],
   "source": [
    "cvec_vector = CountVectorizer(stop_words='english')\n",
    "\n",
    "cvec_headline_matrix_sparse = cvec_vector.fit_transform(df_all['Headline'])\n",
    "\n",
    "cvec_headline_matrix_sparse"
   ]
  },
  {
   "cell_type": "code",
   "execution_count": 234,
   "metadata": {},
   "outputs": [
    {
     "data": {
      "text/plain": [
       "<bound method CountVectorizer.get_feature_names of CountVectorizer(analyzer='word', binary=False, decode_error='strict',\n",
       "        dtype=<class 'numpy.int64'>, encoding='utf-8', input='content',\n",
       "        lowercase=True, max_df=1.0, max_features=None, min_df=1,\n",
       "        ngram_range=(1, 1), preprocessor=None, stop_words='english',\n",
       "        strip_accents=None, token_pattern='(?u)\\\\b\\\\w\\\\w+\\\\b',\n",
       "        tokenizer=None, vocabulary=None)>"
      ]
     },
     "execution_count": 234,
     "metadata": {},
     "output_type": "execute_result"
    }
   ],
   "source": [
    "cvec_vector.get_feature_names"
   ]
  },
  {
   "cell_type": "code",
   "execution_count": 235,
   "metadata": {},
   "outputs": [],
   "source": [
    "cvec_headline_df = pd.DataFrame(cvec_headline_matrix_sparse.todense(),\n",
    "                       columns = cvec_vector.get_feature_names())\n"
   ]
  },
  {
   "cell_type": "code",
   "execution_count": 236,
   "metadata": {},
   "outputs": [
    {
     "data": {
      "text/plain": [
       "(49972, 3167)"
      ]
     },
     "execution_count": 236,
     "metadata": {},
     "output_type": "execute_result"
    }
   ],
   "source": [
    "cvec_headline_df.shape"
   ]
  },
  {
   "cell_type": "code",
   "execution_count": 237,
   "metadata": {},
   "outputs": [
    {
     "data": {
      "text/plain": [
       "(49970, 2)"
      ]
     },
     "execution_count": 237,
     "metadata": {},
     "output_type": "execute_result"
    }
   ],
   "source": [
    "df_fix.shape"
   ]
  },
  {
   "cell_type": "code",
   "execution_count": 238,
   "metadata": {},
   "outputs": [],
   "source": [
    "df_headline_fix = pd.concat([df_fix, cvec_headline_df], axis=1)"
   ]
  },
  {
   "cell_type": "code",
   "execution_count": 239,
   "metadata": {},
   "outputs": [],
   "source": [
    "df_headline_fix.fillna(value=0, inplace=True)"
   ]
  },
  {
   "cell_type": "code",
   "execution_count": 241,
   "metadata": {},
   "outputs": [],
   "source": [
    "features = [col for col in df_headline_fix.columns if col != 'stance_dummy']"
   ]
  },
  {
   "cell_type": "code",
   "execution_count": 242,
   "metadata": {},
   "outputs": [],
   "source": [
    "X = df_headline_fix[features]\n",
    "y = df_headline_fix['stance_dummy']\n",
    "\n",
    "X_train, X_test, y_train, y_test = train_test_split(X, y)"
   ]
  },
  {
   "cell_type": "code",
   "execution_count": 243,
   "metadata": {},
   "outputs": [
    {
     "data": {
      "text/plain": [
       "0.7292884015048428"
      ]
     },
     "execution_count": 243,
     "metadata": {},
     "output_type": "execute_result"
    }
   ],
   "source": [
    "lr = LogisticRegression()\n",
    "lr.fit(X_train, y_train)\n",
    "lr.score(X_train, y_train)"
   ]
  },
  {
   "cell_type": "code",
   "execution_count": 244,
   "metadata": {},
   "outputs": [
    {
     "data": {
      "text/plain": [
       "0.7258464740254542"
      ]
     },
     "execution_count": 244,
     "metadata": {},
     "output_type": "execute_result"
    }
   ],
   "source": [
    "lr.score(X_test, y_test)"
   ]
  },
  {
   "cell_type": "code",
   "execution_count": 245,
   "metadata": {},
   "outputs": [
    {
     "data": {
      "text/plain": [
       "0.977053816804077"
      ]
     },
     "execution_count": 245,
     "metadata": {},
     "output_type": "execute_result"
    }
   ],
   "source": [
    "from sklearn.ensemble import RandomForestClassifier\n",
    "rf = RandomForestClassifier()\n",
    "rf.fit(X_train, y_train)\n",
    "rf.score(X_train, y_train)"
   ]
  },
  {
   "cell_type": "code",
   "execution_count": 246,
   "metadata": {},
   "outputs": [
    {
     "data": {
      "text/plain": [
       "0.7650684383254622"
      ]
     },
     "execution_count": 246,
     "metadata": {},
     "output_type": "execute_result"
    }
   ],
   "source": [
    "rf.score(X_test, y_test)"
   ]
  },
  {
   "cell_type": "markdown",
   "metadata": {},
   "source": [
    "## GloVe\n"
   ]
  },
  {
   "cell_type": "code",
   "execution_count": 322,
   "metadata": {},
   "outputs": [],
   "source": [
    "df_glove = pd.DataFrame([df_all['Headline'], df_all['articleBody']]).T"
   ]
  },
  {
   "cell_type": "code",
   "execution_count": 323,
   "metadata": {},
   "outputs": [
    {
     "data": {
      "text/html": [
       "<div>\n",
       "<style scoped>\n",
       "    .dataframe tbody tr th:only-of-type {\n",
       "        vertical-align: middle;\n",
       "    }\n",
       "\n",
       "    .dataframe tbody tr th {\n",
       "        vertical-align: top;\n",
       "    }\n",
       "\n",
       "    .dataframe thead th {\n",
       "        text-align: right;\n",
       "    }\n",
       "</style>\n",
       "<table border=\"1\" class=\"dataframe\">\n",
       "  <thead>\n",
       "    <tr style=\"text-align: right;\">\n",
       "      <th></th>\n",
       "      <th>Headline</th>\n",
       "      <th>articleBody</th>\n",
       "    </tr>\n",
       "  </thead>\n",
       "  <tbody>\n",
       "    <tr>\n",
       "      <th>0</th>\n",
       "      <td>Police find mass graves with at least '15 bodi...</td>\n",
       "      <td>Danny Boyle is directing the untitled film\\n\\n...</td>\n",
       "    </tr>\n",
       "    <tr>\n",
       "      <th>1</th>\n",
       "      <td>Seth Rogen to Play Apple’s Steve Wozniak</td>\n",
       "      <td>Danny Boyle is directing the untitled film\\n\\n...</td>\n",
       "    </tr>\n",
       "    <tr>\n",
       "      <th>2</th>\n",
       "      <td>Mexico police find mass grave near site 43 stu...</td>\n",
       "      <td>Danny Boyle is directing the untitled film\\n\\n...</td>\n",
       "    </tr>\n",
       "    <tr>\n",
       "      <th>3</th>\n",
       "      <td>Mexico Says Missing Students Not Found In Firs...</td>\n",
       "      <td>Danny Boyle is directing the untitled film\\n\\n...</td>\n",
       "    </tr>\n",
       "    <tr>\n",
       "      <th>4</th>\n",
       "      <td>New iOS 8 bug can delete all of your iCloud do...</td>\n",
       "      <td>Danny Boyle is directing the untitled film\\n\\n...</td>\n",
       "    </tr>\n",
       "    <tr>\n",
       "      <th>5</th>\n",
       "      <td>Return of the Mac: Seth Rogen in talks to star...</td>\n",
       "      <td>Danny Boyle is directing the untitled film\\n\\n...</td>\n",
       "    </tr>\n",
       "    <tr>\n",
       "      <th>6</th>\n",
       "      <td>Seth Rogen Is Woz</td>\n",
       "      <td>Danny Boyle is directing the untitled film\\n\\n...</td>\n",
       "    </tr>\n",
       "    <tr>\n",
       "      <th>7</th>\n",
       "      <td>Mexico finds 4 more graves at site of suspecte...</td>\n",
       "      <td>Danny Boyle is directing the untitled film\\n\\n...</td>\n",
       "    </tr>\n",
       "    <tr>\n",
       "      <th>8</th>\n",
       "      <td>Are missing students in mass graves found near...</td>\n",
       "      <td>Danny Boyle is directing the untitled film\\n\\n...</td>\n",
       "    </tr>\n",
       "    <tr>\n",
       "      <th>9</th>\n",
       "      <td>Mexico prosecutor: Students not in 1st mass gr...</td>\n",
       "      <td>Danny Boyle is directing the untitled film\\n\\n...</td>\n",
       "    </tr>\n",
       "    <tr>\n",
       "      <th>10</th>\n",
       "      <td>Lady on FB: I'm 41, Intersex, and Fucked Micha...</td>\n",
       "      <td>Danny Boyle is directing the untitled film\\n\\n...</td>\n",
       "    </tr>\n",
       "    <tr>\n",
       "      <th>11</th>\n",
       "      <td>Catholic Priest Claims God Is Female After Cli...</td>\n",
       "      <td>Danny Boyle is directing the untitled film\\n\\n...</td>\n",
       "    </tr>\n",
       "    <tr>\n",
       "      <th>12</th>\n",
       "      <td>Isis claims US hostage Kayla Mueller killed in...</td>\n",
       "      <td>Danny Boyle is directing the untitled film\\n\\n...</td>\n",
       "    </tr>\n",
       "    <tr>\n",
       "      <th>13</th>\n",
       "      <td>Gold Apple Watch Edition price? Speculators sa...</td>\n",
       "      <td>Danny Boyle is directing the untitled film\\n\\n...</td>\n",
       "    </tr>\n",
       "    <tr>\n",
       "      <th>14</th>\n",
       "      <td>Mexican students not among bodies found in mas...</td>\n",
       "      <td>Danny Boyle is directing the untitled film\\n\\n...</td>\n",
       "    </tr>\n",
       "    <tr>\n",
       "      <th>15</th>\n",
       "      <td>Steve Jobs Biopic Eyes Seth Rogen to Play Appl...</td>\n",
       "      <td>Danny Boyle is directing the untitled film\\n\\n...</td>\n",
       "    </tr>\n",
       "    <tr>\n",
       "      <th>16</th>\n",
       "      <td>Missing Mexico students not among 28 bodies fo...</td>\n",
       "      <td>Danny Boyle is directing the untitled film\\n\\n...</td>\n",
       "    </tr>\n",
       "    <tr>\n",
       "      <th>17</th>\n",
       "      <td>Taylor Lianne Chandler: Everything you need to...</td>\n",
       "      <td>Danny Boyle is directing the untitled film\\n\\n...</td>\n",
       "    </tr>\n",
       "    <tr>\n",
       "      <th>18</th>\n",
       "      <td>Mexican cartel leader kills self; bodies in gr...</td>\n",
       "      <td>Danny Boyle is directing the untitled film\\n\\n...</td>\n",
       "    </tr>\n",
       "    <tr>\n",
       "      <th>19</th>\n",
       "      <td>Bodies In Mexico Mass Grave Apparently Not Tho...</td>\n",
       "      <td>Danny Boyle is directing the untitled film\\n\\n...</td>\n",
       "    </tr>\n",
       "    <tr>\n",
       "      <th>20</th>\n",
       "      <td>Seth Rogen Eyed to Play Apple's Steve Wozniak ...</td>\n",
       "      <td>Danny Boyle is directing the untitled film\\n\\n...</td>\n",
       "    </tr>\n",
       "    <tr>\n",
       "      <th>21</th>\n",
       "      <td>Mexican investigators fear mass grave might ho...</td>\n",
       "      <td>Danny Boyle is directing the untitled film\\n\\n...</td>\n",
       "    </tr>\n",
       "    <tr>\n",
       "      <th>22</th>\n",
       "      <td>6 hidden mass graves may hold missing Mexican ...</td>\n",
       "      <td>Danny Boyle is directing the untitled film\\n\\n...</td>\n",
       "    </tr>\n",
       "    <tr>\n",
       "      <th>23</th>\n",
       "      <td>Mass grave found after 40 students disappear i...</td>\n",
       "      <td>Danny Boyle is directing the untitled film\\n\\n...</td>\n",
       "    </tr>\n",
       "    <tr>\n",
       "      <th>24</th>\n",
       "      <td>Mexico Student Massacre Update: More Graves Di...</td>\n",
       "      <td>Danny Boyle is directing the untitled film\\n\\n...</td>\n",
       "    </tr>\n",
       "    <tr>\n",
       "      <th>25</th>\n",
       "      <td>Seth Rogen To Play Steve Wozniak In Steve Jobs...</td>\n",
       "      <td>Danny Boyle is directing the untitled film\\n\\n...</td>\n",
       "    </tr>\n",
       "    <tr>\n",
       "      <th>26</th>\n",
       "      <td>Taylor Lianne Chandler: Michael Phelps' Cougar...</td>\n",
       "      <td>Danny Boyle is directing the untitled film\\n\\n...</td>\n",
       "    </tr>\n",
       "    <tr>\n",
       "      <th>27</th>\n",
       "      <td>Newly Discovered Mass Grave Linked to Missing ...</td>\n",
       "      <td>Danny Boyle is directing the untitled film\\n\\n...</td>\n",
       "    </tr>\n",
       "    <tr>\n",
       "      <th>28</th>\n",
       "      <td>Michael Phelps' self-proclaimed 'girlfriend', ...</td>\n",
       "      <td>Danny Boyle is directing the untitled film\\n\\n...</td>\n",
       "    </tr>\n",
       "    <tr>\n",
       "      <th>29</th>\n",
       "      <td>Missing Mexican students 'not found in mass gr...</td>\n",
       "      <td>Danny Boyle is directing the untitled film\\n\\n...</td>\n",
       "    </tr>\n",
       "    <tr>\n",
       "      <th>...</th>\n",
       "      <td>...</td>\n",
       "      <td>...</td>\n",
       "    </tr>\n",
       "    <tr>\n",
       "      <th>49942</th>\n",
       "      <td>Gene Munster Predicts $499 Steel Apple Watch, ...</td>\n",
       "      <td>Piper Jaffray’s Gene Munster has issued a new ...</td>\n",
       "    </tr>\n",
       "    <tr>\n",
       "      <th>49943</th>\n",
       "      <td>This Is Why Rumors That ISIS Is Crossing The B...</td>\n",
       "      <td>Border Patrol agents detain immigrants who cro...</td>\n",
       "    </tr>\n",
       "    <tr>\n",
       "      <th>49944</th>\n",
       "      <td>You may be able to make appointments at the Ap...</td>\n",
       "      <td>Apple is reportedly planning to market and sel...</td>\n",
       "    </tr>\n",
       "    <tr>\n",
       "      <th>49945</th>\n",
       "      <td>Meteorite makes big crater in Nicaragua, gover...</td>\n",
       "      <td>(CNN) -- A meteorite crashed down in Managua, ...</td>\n",
       "    </tr>\n",
       "    <tr>\n",
       "      <th>49946</th>\n",
       "      <td>Small Meteorite Strikes in Nicaragua's Capital...</td>\n",
       "      <td>(CNN) -- A meteorite crashed down in Managua, ...</td>\n",
       "    </tr>\n",
       "    <tr>\n",
       "      <th>49947</th>\n",
       "      <td>Ann Arbor pizza delivery driver surprised with...</td>\n",
       "      <td>It's not every night that a pizza delivery dri...</td>\n",
       "    </tr>\n",
       "    <tr>\n",
       "      <th>49948</th>\n",
       "      <td>Is Apple about to launch a totally redesigned,...</td>\n",
       "      <td>Every year, Apple does some counterprogramming...</td>\n",
       "    </tr>\n",
       "    <tr>\n",
       "      <th>49949</th>\n",
       "      <td>Sources: Guns N' Roses Frontman Axl Rose Found...</td>\n",
       "      <td>Axl Rose is NOT dead. He’s the victim of a new...</td>\n",
       "    </tr>\n",
       "    <tr>\n",
       "      <th>49950</th>\n",
       "      <td>“Axl Rose dead 2014” : Guns N' Roses frontman ...</td>\n",
       "      <td>Axl Rose is NOT dead. He’s the victim of a new...</td>\n",
       "    </tr>\n",
       "    <tr>\n",
       "      <th>49951</th>\n",
       "      <td>Axl Rose NOT Dead: Fake MSNBC Death Hoax Goes ...</td>\n",
       "      <td>Axl Rose is NOT dead. He’s the victim of a new...</td>\n",
       "    </tr>\n",
       "    <tr>\n",
       "      <th>49952</th>\n",
       "      <td>US probing claims ISIS fighters seized airdrop...</td>\n",
       "      <td>Syrian activists claim militants from the Isla...</td>\n",
       "    </tr>\n",
       "    <tr>\n",
       "      <th>49953</th>\n",
       "      <td>ISIS fighters seize weapons airdrop meant for ...</td>\n",
       "      <td>Syrian activists claim militants from the Isla...</td>\n",
       "    </tr>\n",
       "    <tr>\n",
       "      <th>49954</th>\n",
       "      <td>Former U.S. soldier says IS used chemical weap...</td>\n",
       "      <td>A former American soldier from Wisconsin who h...</td>\n",
       "    </tr>\n",
       "    <tr>\n",
       "      <th>49955</th>\n",
       "      <td>Heartbroken girl spends week in KFC after gett...</td>\n",
       "      <td>A Chinese woman spent an entire week inside a ...</td>\n",
       "    </tr>\n",
       "    <tr>\n",
       "      <th>49956</th>\n",
       "      <td>Comfort eating? Chinese woman, 26, spends an e...</td>\n",
       "      <td>A Chinese woman spent an entire week inside a ...</td>\n",
       "    </tr>\n",
       "    <tr>\n",
       "      <th>49957</th>\n",
       "      <td>Chinese 'mistress' is stripped naked and beate...</td>\n",
       "      <td>She was violently stripped naked and beaten se...</td>\n",
       "    </tr>\n",
       "    <tr>\n",
       "      <th>49958</th>\n",
       "      <td>Rodney Constantine, Newfoundland Suspect, Keep...</td>\n",
       "      <td>A man wanted by police turned himself in to th...</td>\n",
       "    </tr>\n",
       "    <tr>\n",
       "      <th>49959</th>\n",
       "      <td>A Wanted Man Responded To A Police Facebook Po...</td>\n",
       "      <td>A man wanted by police turned himself in to th...</td>\n",
       "    </tr>\n",
       "    <tr>\n",
       "      <th>49960</th>\n",
       "      <td>Predator drones being flown over Isil's Syrian...</td>\n",
       "      <td>US drones are being flown over Isil's Syrian \"...</td>\n",
       "    </tr>\n",
       "    <tr>\n",
       "      <th>49961</th>\n",
       "      <td>BMO forecasts 19M Apple Watch sales in 2015, w...</td>\n",
       "      <td>Momentum for the Apple Watch will likely take ...</td>\n",
       "    </tr>\n",
       "    <tr>\n",
       "      <th>49962</th>\n",
       "      <td>Chinese parents try to SELL their son to pay f...</td>\n",
       "      <td>A Chinese couple who can't afford live-saving ...</td>\n",
       "    </tr>\n",
       "    <tr>\n",
       "      <th>49963</th>\n",
       "      <td>Prisoner Released in Bergdahl Exchange Tried t...</td>\n",
       "      <td>At least one of five Taliban militants release...</td>\n",
       "    </tr>\n",
       "    <tr>\n",
       "      <th>49964</th>\n",
       "      <td>Kim Jong-un necks litres of rare SNAKE wine be...</td>\n",
       "      <td>TYRANT Kim Jong-un is trying to boost his love...</td>\n",
       "    </tr>\n",
       "    <tr>\n",
       "      <th>49965</th>\n",
       "      <td>NASA: Planetary Alignment On Jan 4, 2015 Will ...</td>\n",
       "      <td>via Daily Buzz Live\\n\\nStrange natural occurre...</td>\n",
       "    </tr>\n",
       "    <tr>\n",
       "      <th>49966</th>\n",
       "      <td>“Willie Nelson dead 2015” : Guitarist killed b...</td>\n",
       "      <td>News of guitarist Willie Nelson’s death spread...</td>\n",
       "    </tr>\n",
       "    <tr>\n",
       "      <th>49967</th>\n",
       "      <td>Amazon Is Opening a Brick-and-Mortar Store in ...</td>\n",
       "      <td>Amazon, the cyber store that sells everything,...</td>\n",
       "    </tr>\n",
       "    <tr>\n",
       "      <th>49968</th>\n",
       "      <td>Elon University has not banned the term ‘fresh...</td>\n",
       "      <td>ELON, N.C. – A recent rumor claims that Elon U...</td>\n",
       "    </tr>\n",
       "    <tr>\n",
       "      <th>49969</th>\n",
       "      <td>Fake BBC News website set up to carry Charlie ...</td>\n",
       "      <td>A realistic-looking fake BBC News website has ...</td>\n",
       "    </tr>\n",
       "    <tr>\n",
       "      <th>49970</th>\n",
       "      <td>Apple was forced to nix key health features fr...</td>\n",
       "      <td>The health-focused smartwatch that Apple initi...</td>\n",
       "    </tr>\n",
       "    <tr>\n",
       "      <th>49971</th>\n",
       "      <td>If you want an Apple Watch, you’ll probably be...</td>\n",
       "      <td>We still don’t know the exact date the Apple W...</td>\n",
       "    </tr>\n",
       "  </tbody>\n",
       "</table>\n",
       "<p>49972 rows × 2 columns</p>\n",
       "</div>"
      ],
      "text/plain": [
       "                                                Headline  \\\n",
       "0      Police find mass graves with at least '15 bodi...   \n",
       "1               Seth Rogen to Play Apple’s Steve Wozniak   \n",
       "2      Mexico police find mass grave near site 43 stu...   \n",
       "3      Mexico Says Missing Students Not Found In Firs...   \n",
       "4      New iOS 8 bug can delete all of your iCloud do...   \n",
       "5      Return of the Mac: Seth Rogen in talks to star...   \n",
       "6                                      Seth Rogen Is Woz   \n",
       "7      Mexico finds 4 more graves at site of suspecte...   \n",
       "8      Are missing students in mass graves found near...   \n",
       "9      Mexico prosecutor: Students not in 1st mass gr...   \n",
       "10     Lady on FB: I'm 41, Intersex, and Fucked Micha...   \n",
       "11     Catholic Priest Claims God Is Female After Cli...   \n",
       "12     Isis claims US hostage Kayla Mueller killed in...   \n",
       "13     Gold Apple Watch Edition price? Speculators sa...   \n",
       "14     Mexican students not among bodies found in mas...   \n",
       "15     Steve Jobs Biopic Eyes Seth Rogen to Play Appl...   \n",
       "16     Missing Mexico students not among 28 bodies fo...   \n",
       "17     Taylor Lianne Chandler: Everything you need to...   \n",
       "18     Mexican cartel leader kills self; bodies in gr...   \n",
       "19     Bodies In Mexico Mass Grave Apparently Not Tho...   \n",
       "20     Seth Rogen Eyed to Play Apple's Steve Wozniak ...   \n",
       "21     Mexican investigators fear mass grave might ho...   \n",
       "22     6 hidden mass graves may hold missing Mexican ...   \n",
       "23     Mass grave found after 40 students disappear i...   \n",
       "24     Mexico Student Massacre Update: More Graves Di...   \n",
       "25     Seth Rogen To Play Steve Wozniak In Steve Jobs...   \n",
       "26     Taylor Lianne Chandler: Michael Phelps' Cougar...   \n",
       "27     Newly Discovered Mass Grave Linked to Missing ...   \n",
       "28     Michael Phelps' self-proclaimed 'girlfriend', ...   \n",
       "29     Missing Mexican students 'not found in mass gr...   \n",
       "...                                                  ...   \n",
       "49942  Gene Munster Predicts $499 Steel Apple Watch, ...   \n",
       "49943  This Is Why Rumors That ISIS Is Crossing The B...   \n",
       "49944  You may be able to make appointments at the Ap...   \n",
       "49945  Meteorite makes big crater in Nicaragua, gover...   \n",
       "49946  Small Meteorite Strikes in Nicaragua's Capital...   \n",
       "49947  Ann Arbor pizza delivery driver surprised with...   \n",
       "49948  Is Apple about to launch a totally redesigned,...   \n",
       "49949  Sources: Guns N' Roses Frontman Axl Rose Found...   \n",
       "49950  “Axl Rose dead 2014” : Guns N' Roses frontman ...   \n",
       "49951  Axl Rose NOT Dead: Fake MSNBC Death Hoax Goes ...   \n",
       "49952  US probing claims ISIS fighters seized airdrop...   \n",
       "49953  ISIS fighters seize weapons airdrop meant for ...   \n",
       "49954  Former U.S. soldier says IS used chemical weap...   \n",
       "49955  Heartbroken girl spends week in KFC after gett...   \n",
       "49956  Comfort eating? Chinese woman, 26, spends an e...   \n",
       "49957  Chinese 'mistress' is stripped naked and beate...   \n",
       "49958  Rodney Constantine, Newfoundland Suspect, Keep...   \n",
       "49959  A Wanted Man Responded To A Police Facebook Po...   \n",
       "49960  Predator drones being flown over Isil's Syrian...   \n",
       "49961  BMO forecasts 19M Apple Watch sales in 2015, w...   \n",
       "49962  Chinese parents try to SELL their son to pay f...   \n",
       "49963  Prisoner Released in Bergdahl Exchange Tried t...   \n",
       "49964  Kim Jong-un necks litres of rare SNAKE wine be...   \n",
       "49965  NASA: Planetary Alignment On Jan 4, 2015 Will ...   \n",
       "49966  “Willie Nelson dead 2015” : Guitarist killed b...   \n",
       "49967  Amazon Is Opening a Brick-and-Mortar Store in ...   \n",
       "49968  Elon University has not banned the term ‘fresh...   \n",
       "49969  Fake BBC News website set up to carry Charlie ...   \n",
       "49970  Apple was forced to nix key health features fr...   \n",
       "49971  If you want an Apple Watch, you’ll probably be...   \n",
       "\n",
       "                                             articleBody  \n",
       "0      Danny Boyle is directing the untitled film\\n\\n...  \n",
       "1      Danny Boyle is directing the untitled film\\n\\n...  \n",
       "2      Danny Boyle is directing the untitled film\\n\\n...  \n",
       "3      Danny Boyle is directing the untitled film\\n\\n...  \n",
       "4      Danny Boyle is directing the untitled film\\n\\n...  \n",
       "5      Danny Boyle is directing the untitled film\\n\\n...  \n",
       "6      Danny Boyle is directing the untitled film\\n\\n...  \n",
       "7      Danny Boyle is directing the untitled film\\n\\n...  \n",
       "8      Danny Boyle is directing the untitled film\\n\\n...  \n",
       "9      Danny Boyle is directing the untitled film\\n\\n...  \n",
       "10     Danny Boyle is directing the untitled film\\n\\n...  \n",
       "11     Danny Boyle is directing the untitled film\\n\\n...  \n",
       "12     Danny Boyle is directing the untitled film\\n\\n...  \n",
       "13     Danny Boyle is directing the untitled film\\n\\n...  \n",
       "14     Danny Boyle is directing the untitled film\\n\\n...  \n",
       "15     Danny Boyle is directing the untitled film\\n\\n...  \n",
       "16     Danny Boyle is directing the untitled film\\n\\n...  \n",
       "17     Danny Boyle is directing the untitled film\\n\\n...  \n",
       "18     Danny Boyle is directing the untitled film\\n\\n...  \n",
       "19     Danny Boyle is directing the untitled film\\n\\n...  \n",
       "20     Danny Boyle is directing the untitled film\\n\\n...  \n",
       "21     Danny Boyle is directing the untitled film\\n\\n...  \n",
       "22     Danny Boyle is directing the untitled film\\n\\n...  \n",
       "23     Danny Boyle is directing the untitled film\\n\\n...  \n",
       "24     Danny Boyle is directing the untitled film\\n\\n...  \n",
       "25     Danny Boyle is directing the untitled film\\n\\n...  \n",
       "26     Danny Boyle is directing the untitled film\\n\\n...  \n",
       "27     Danny Boyle is directing the untitled film\\n\\n...  \n",
       "28     Danny Boyle is directing the untitled film\\n\\n...  \n",
       "29     Danny Boyle is directing the untitled film\\n\\n...  \n",
       "...                                                  ...  \n",
       "49942  Piper Jaffray’s Gene Munster has issued a new ...  \n",
       "49943  Border Patrol agents detain immigrants who cro...  \n",
       "49944  Apple is reportedly planning to market and sel...  \n",
       "49945  (CNN) -- A meteorite crashed down in Managua, ...  \n",
       "49946  (CNN) -- A meteorite crashed down in Managua, ...  \n",
       "49947  It's not every night that a pizza delivery dri...  \n",
       "49948  Every year, Apple does some counterprogramming...  \n",
       "49949  Axl Rose is NOT dead. He’s the victim of a new...  \n",
       "49950  Axl Rose is NOT dead. He’s the victim of a new...  \n",
       "49951  Axl Rose is NOT dead. He’s the victim of a new...  \n",
       "49952  Syrian activists claim militants from the Isla...  \n",
       "49953  Syrian activists claim militants from the Isla...  \n",
       "49954  A former American soldier from Wisconsin who h...  \n",
       "49955  A Chinese woman spent an entire week inside a ...  \n",
       "49956  A Chinese woman spent an entire week inside a ...  \n",
       "49957  She was violently stripped naked and beaten se...  \n",
       "49958  A man wanted by police turned himself in to th...  \n",
       "49959  A man wanted by police turned himself in to th...  \n",
       "49960  US drones are being flown over Isil's Syrian \"...  \n",
       "49961  Momentum for the Apple Watch will likely take ...  \n",
       "49962  A Chinese couple who can't afford live-saving ...  \n",
       "49963  At least one of five Taliban militants release...  \n",
       "49964  TYRANT Kim Jong-un is trying to boost his love...  \n",
       "49965  via Daily Buzz Live\\n\\nStrange natural occurre...  \n",
       "49966  News of guitarist Willie Nelson’s death spread...  \n",
       "49967  Amazon, the cyber store that sells everything,...  \n",
       "49968  ELON, N.C. – A recent rumor claims that Elon U...  \n",
       "49969  A realistic-looking fake BBC News website has ...  \n",
       "49970  The health-focused smartwatch that Apple initi...  \n",
       "49971  We still don’t know the exact date the Apple W...  \n",
       "\n",
       "[49972 rows x 2 columns]"
      ]
     },
     "execution_count": 323,
     "metadata": {},
     "output_type": "execute_result"
    }
   ],
   "source": [
    "df_glove"
   ]
  },
  {
   "cell_type": "code",
   "execution_count": 332,
   "metadata": {
    "scrolled": true
   },
   "outputs": [
    {
     "name": "stdout",
     "output_type": "stream",
     "text": [
      "Found 3879 unique tokens/words\n",
      "The maximum word index is 3879\n"
     ]
    }
   ],
   "source": [
    "from keras.preprocessing.text import Tokenizer\n",
    "from keras.preprocessing.sequence import pad_sequences\n",
    "import numpy as np\n",
    "\n",
    "max_sequence_length = 200   # max number of words to consider in a review (i.e. the first 50...)\n",
    "max_num_words = 4000       # maximum number of words to include in the vocabulary (i.e. top 10000 only)\n",
    "\n",
    "# Instantiate the Tokenizer\n",
    "tokenizer = Tokenizer(num_words=max_num_words)\n",
    "\n",
    "# Fit the tokenizer, i.e. learn the vocab and id the most frequently occuring words\n",
    "tokenizer.fit_on_texts(df_all['Headline'].values)\n",
    "\n",
    "# Turn our texts to sequences of word indices\n",
    "sequences = tokenizer.texts_to_sequences(df_all['Headline'].values)\n",
    "\n",
    "# Save the look-up dictionary for words to indices (will need this later)\n",
    "word_index = tokenizer.word_index\n",
    "\n",
    "# Pad out our sequences by prepending zeros to all of our text sequences\n",
    "padded_sequences = pad_sequences(sequences, maxlen=max_sequence_length)\n",
    "\n",
    "print(f'Found {len(word_index)} unique tokens/words')\n",
    "print(f'The maximum word index is {padded_sequences.max()}')"
   ]
  },
  {
   "cell_type": "code",
   "execution_count": 333,
   "metadata": {},
   "outputs": [
    {
     "data": {
      "text/plain": [
       "(49972, 200)"
      ]
     },
     "execution_count": 333,
     "metadata": {},
     "output_type": "execute_result"
    }
   ],
   "source": [
    "padded_sequences_headline.shape"
   ]
  },
  {
   "cell_type": "code",
   "execution_count": 334,
   "metadata": {
    "scrolled": true
   },
   "outputs": [
    {
     "data": {
      "text/plain": [
       "array([   0,    0,    0,    0,    0,    0,    0,    0,    0,    0,    0,\n",
       "          0,    0,    0,    0,    0,    0,    0,    0,    0,    0,    0,\n",
       "          0,    0,    0,    0,    0,    0,    0,    0,    0,    0,    0,\n",
       "          0,    0,    0,    0,    0,    0,    0,    0,    0,    0,    0,\n",
       "          0,    0,    0,    0,    0,    0,    0,    0,    0,    0,    0,\n",
       "          0,    0,    0,    0,    0,    0,    0,    0,    0,    0,    0,\n",
       "          0,    0,    0,    0,    0,    0,    0,    0,    0,    0,    0,\n",
       "          0,    0,    0,    0,    0,    0,    0,    0,    0,    0,    0,\n",
       "          0,    0,    0,    0,    0,    0,    0,    0,    0,    0,    0,\n",
       "          0,    0,    0,    0,    0,    0,    0,    0,    0,    0,    0,\n",
       "          0,    0,    0,    0,    0,    0,    0,    0,    0,    0,    0,\n",
       "          0,    0,    0,    0,    0,    0,    0,    0,    0,    0,    0,\n",
       "          0,    0,    0,    0,    0,    0,    0,    0,    0,    0,    0,\n",
       "          0,    0,    0,    0,    0,    0,    0,    0,    0,    0,    0,\n",
       "          0,    0,    0,    0,    0,    0,    0,    0,    0,    0,    0,\n",
       "          0,    0,    0,    0,    0,    0,    0,    0,    0,    0,    0,\n",
       "          0,    0,    0,    0,    0,  248,  540,  133,  361,   14,   12,\n",
       "        173, 2481, 2482,  206,  118, 1223, 1341,  674,  143, 2483,   13,\n",
       "        248, 2484], dtype=int32)"
      ]
     },
     "execution_count": 334,
     "metadata": {},
     "output_type": "execute_result"
    }
   ],
   "source": [
    "padded_sequences_headline[0,:]"
   ]
  },
  {
   "cell_type": "code",
   "execution_count": 296,
   "metadata": {},
   "outputs": [
    {
     "name": "stdout",
     "output_type": "stream",
     "text": [
      "Found 27427 unique tokens/words\n",
      "The maximum word index is 3879\n"
     ]
    }
   ],
   "source": [
    "max_sequence_length = 200   # max number of words to consider in a review (i.e. the first 50...)\n",
    "max_num_words = 25000       # maximum number of words to include in the vocabulary (i.e. top 10000 only)\n",
    "\n",
    "# Instantiate the Tokenizer\n",
    "tokenizer = Tokenizer(num_words=max_num_words)\n",
    "\n",
    "# Fit the tokenizer, i.e. learn the vocab and id the most frequently occuring words\n",
    "tokenizer.fit_on_texts(df_all['articleBody'].values)\n",
    "\n",
    "# Turn our texts to sequences of word indices\n",
    "sequences = tokenizer.texts_to_sequences(df_all['articleBody'].values)\n",
    "\n",
    "# Save the look-up dictionary for words to indices (will need this later)\n",
    "word_index = tokenizer.word_index\n",
    "\n",
    "# Pad out our sequences by prepending zeros to all of our text sequences\n",
    "padded_sequences_articleBody = pad_sequences(sequences, maxlen=max_sequence_length)\n",
    "\n",
    "print(f'Found {len(word_index)} unique tokens/words')\n",
    "print(f'The maximum word index is {padded_sequences.max()}')"
   ]
  },
  {
   "cell_type": "code",
   "execution_count": 297,
   "metadata": {},
   "outputs": [
    {
     "data": {
      "text/plain": [
       "(49972, 200)"
      ]
     },
     "execution_count": 297,
     "metadata": {},
     "output_type": "execute_result"
    }
   ],
   "source": [
    "padded_sequences_articleBody.shape"
   ]
  },
  {
   "cell_type": "code",
   "execution_count": 298,
   "metadata": {
    "scrolled": true
   },
   "outputs": [
    {
     "data": {
      "text/plain": [
       "array([    0,     0,     0,  1961,  1800,     8,  4690,     1,  5513,\n",
       "         473,  2509,  1702,     8,    83,  8293,     2,   688,    45,\n",
       "         528,  1102,   524,  2033,     5,  8243,   524,   381,  1542,\n",
       "        1961,  1800,     8,  4690,     1,  5513,   473,   291,    10,\n",
       "        2300,  3475,   912,     6, 12238,    19,  1626,   935,    42,\n",
       "           8,    40,     4,     1,   169,  2848, 12239,     5,   312,\n",
       "         133,  1155,    17,    25,   317,  3047,     6,   186,    25,\n",
       "         115,   521,    64,  1702,    20,    24,   145,   988,    29,\n",
       "           1,  3300,    87,  3533,  6192,  6282,  6283,     6,   565,\n",
       "        2432,    87,    17,   314,    50,  4662,    10,     1,  6512,\n",
       "           6,    26,     5,   729,     4,   996,    30,   110,    57,\n",
       "          23,    11, 17192,    18,   868,   564,     1,   677,    32,\n",
       "           8,     2,   688,   381,     8,   142,     5,     1,  5021,\n",
       "           4,  6051,    16,   645,   246,   132,     7, 17193,  1624,\n",
       "           8,     5,     3, 13399,  1772,  5718,   132,  1800,    38,\n",
       "           8,  1287,     2,  2897,  3026,     2,  1382,    14,  6843,\n",
       "           2,   688,    40,     4,     1,   827,  3389,    24,  3951,\n",
       "           2,   381,  5718,   132,     7,  4008,  6430,     8,    40,\n",
       "           4,     1, 14397,    10,     1,   791,  1264,  2033,   198,\n",
       "          18,  5355,   528,  5253,    45,    14,   381,     6, 15064,\n",
       "        6921,    13,    81,   858,   381,    53,    33,   959,    22,\n",
       "       17194,     6,   223,     9,  1066,    11,  2807,     1,   376,\n",
       "          45,  4272], dtype=int32)"
      ]
     },
     "execution_count": 298,
     "metadata": {},
     "output_type": "execute_result"
    }
   ],
   "source": [
    "padded_sequences_articleBody[0,:]"
   ]
  },
  {
   "cell_type": "code",
   "execution_count": 309,
   "metadata": {},
   "outputs": [
    {
     "data": {
      "text/plain": [
       "(49972, 400)"
      ]
     },
     "execution_count": 309,
     "metadata": {},
     "output_type": "execute_result"
    }
   ],
   "source": [
    "padded_sequences = np.concatenate((padded_sequences_headline, padded_sequences_articleBody), axis=1)\n",
    "padded_sequences.shape"
   ]
  },
  {
   "cell_type": "code",
   "execution_count": 308,
   "metadata": {},
   "outputs": [
    {
     "data": {
      "text/plain": [
       "(49972,)"
      ]
     },
     "execution_count": 308,
     "metadata": {},
     "output_type": "execute_result"
    }
   ],
   "source": [
    "df_all['stance_dummy'].shape"
   ]
  },
  {
   "cell_type": "code",
   "execution_count": 335,
   "metadata": {},
   "outputs": [
    {
     "data": {
      "text/plain": [
       "((33481, 200), (33481,))"
      ]
     },
     "execution_count": 335,
     "metadata": {},
     "output_type": "execute_result"
    }
   ],
   "source": [
    "# Train, test split, baby...\n",
    "from sklearn.model_selection import train_test_split\n",
    "\n",
    "X_train, X_test, y_train, y_test = train_test_split(padded_sequences, df_all['stance_dummy'], test_size=0.33, random_state=42)\n",
    "\n",
    "X_train.shape, y_train.shape"
   ]
  },
  {
   "cell_type": "code",
   "execution_count": 336,
   "metadata": {},
   "outputs": [
    {
     "name": "stdout",
     "output_type": "stream",
     "text": [
      "Found 400000 word vectors\n"
     ]
    }
   ],
   "source": [
    "import numpy as np\n",
    "\n",
    "glove_dir = './glove.6B'\n",
    "\n",
    "embeddings_index = {}\n",
    "\n",
    "with open(os.path.join(glove_dir, 'glove.6B.100d.txt')) as f:\n",
    "    for line in f:\n",
    "        values = line.split()\n",
    "        word = values[0]\n",
    "        coefs = np.asarray(values[1:], dtype='float32')\n",
    "        embeddings_index[word] = coefs\n",
    "        \n",
    "print(f'Found {len(embeddings_index)} word vectors')"
   ]
  },
  {
   "cell_type": "code",
   "execution_count": 337,
   "metadata": {},
   "outputs": [],
   "source": [
    "embedding_dim = 100\n",
    "\n",
    "embedding_matrix = np.zeros((max_num_words, embedding_dim))\n",
    "for word, index in word_index.items():\n",
    "    if index < max_num_words:\n",
    "        # Using \"get\" with the dict is a safe way to avoid missing key errors\n",
    "        embedding_vector = embeddings_index.get(word) \n",
    "        if embedding_vector is not None:\n",
    "            embedding_matrix[index] = embedding_vector"
   ]
  },
  {
   "cell_type": "code",
   "execution_count": 338,
   "metadata": {},
   "outputs": [],
   "source": [
    "from keras.models import Sequential\n",
    "from keras.layers import Embedding, LSTM, Dense\n",
    "\n",
    "model = Sequential()\n",
    "model.add(Embedding(max_num_words, embedding_dim, input_length=max_sequence_length))\n",
    "model.add(LSTM(20))\n",
    "model.add(Dense(1, activation='sigmoid'))"
   ]
  },
  {
   "cell_type": "code",
   "execution_count": 339,
   "metadata": {},
   "outputs": [],
   "source": [
    "model.layers[0].set_weights([embedding_matrix])"
   ]
  },
  {
   "cell_type": "code",
   "execution_count": 340,
   "metadata": {},
   "outputs": [
    {
     "name": "stdout",
     "output_type": "stream",
     "text": [
      "_________________________________________________________________\n",
      "Layer (type)                 Output Shape              Param #   \n",
      "=================================================================\n",
      "embedding_4 (Embedding)      (None, 200, 100)          400000    \n",
      "_________________________________________________________________\n",
      "lstm_4 (LSTM)                (None, 20)                9680      \n",
      "_________________________________________________________________\n",
      "dense_4 (Dense)              (None, 1)                 21        \n",
      "=================================================================\n",
      "Total params: 409,701\n",
      "Trainable params: 409,701\n",
      "Non-trainable params: 0\n",
      "_________________________________________________________________\n"
     ]
    }
   ],
   "source": [
    "model.compile(optimizer='adam', loss='binary_crossentropy', metrics=['acc'])\n",
    "model.summary()"
   ]
  },
  {
   "cell_type": "code",
   "execution_count": 341,
   "metadata": {},
   "outputs": [
    {
     "name": "stdout",
     "output_type": "stream",
     "text": [
      "Train on 33481 samples, validate on 16491 samples\n",
      "Epoch 1/5\n",
      "33481/33481 [==============================] - 43s 1ms/step - loss: -5.4855 - acc: 0.0183 - val_loss: -10.4723 - val_acc: 0.0165\n",
      "Epoch 2/5\n",
      "33481/33481 [==============================] - 42s 1ms/step - loss: -12.6599 - acc: 0.0170 - val_loss: -14.2511 - val_acc: 0.0165\n",
      "Epoch 3/5\n",
      "33481/33481 [==============================] - 43s 1ms/step - loss: -15.9769 - acc: 0.0170 - val_loss: -17.3168 - val_acc: 0.0165\n",
      "Epoch 4/5\n",
      "33481/33481 [==============================] - 44s 1ms/step - loss: -19.0108 - acc: 0.0170 - val_loss: -20.2820 - val_acc: 0.0165\n",
      "Epoch 5/5\n",
      "33481/33481 [==============================] - 43s 1ms/step - loss: -21.9626 - acc: 0.0170 - val_loss: -23.0694 - val_acc: 0.0165\n"
     ]
    }
   ],
   "source": [
    "history = model.fit(X_train, y_train, epochs=5, batch_size=400, validation_data=(X_test, y_test))"
   ]
  },
  {
   "cell_type": "code",
   "execution_count": 342,
   "metadata": {
    "scrolled": true
   },
   "outputs": [
    {
     "data": {
      "text/plain": [
       "array([0.07180192, 0.01696485, 0.17693617, 0.73429706])"
      ]
     },
     "execution_count": 342,
     "metadata": {},
     "output_type": "execute_result"
    }
   ],
   "source": [
    "# What's baseline?# What's \n",
    "np.unique(y_train, return_counts=True)[1]/len(y_train)"
   ]
  },
  {
   "cell_type": "code",
   "execution_count": 343,
   "metadata": {},
   "outputs": [
    {
     "data": {
      "text/plain": [
       "(1, 200)"
      ]
     },
     "execution_count": 343,
     "metadata": {},
     "output_type": "execute_result"
    }
   ],
   "source": [
    "X_test[0:1,:].shape"
   ]
  },
  {
   "cell_type": "code",
   "execution_count": 344,
   "metadata": {},
   "outputs": [
    {
     "data": {
      "text/plain": [
       "array([[0.99999964]], dtype=float32)"
      ]
     },
     "execution_count": 344,
     "metadata": {},
     "output_type": "execute_result"
    }
   ],
   "source": [
    "model.predict(X_test[0:1,:])"
   ]
  },
  {
   "cell_type": "code",
   "execution_count": null,
   "metadata": {},
   "outputs": [],
   "source": [
    "#need to do fo bodies "
   ]
  },
  {
   "cell_type": "markdown",
   "metadata": {},
   "source": [
    "### body"
   ]
  },
  {
   "cell_type": "code",
   "execution_count": null,
   "metadata": {},
   "outputs": [],
   "source": [
    "model = Word2Vec(df_all['articleBody'], size=100, window=5, min_count=1, workers=4)\n",
    "body_w2v = {w: vec for w, vec in zip(model.wv.index2word, model.wv.syn0)}"
   ]
  },
  {
   "cell_type": "code",
   "execution_count": null,
   "metadata": {},
   "outputs": [],
   "source": [
    "df_body_w2v = pd.DataFrame(body_w2v)\n",
    "df_body_w2v.head()"
   ]
  },
  {
   "cell_type": "markdown",
   "metadata": {},
   "source": [
    "## Model with word2vec articleBody + headline "
   ]
  },
  {
   "cell_type": "code",
   "execution_count": 281,
   "metadata": {},
   "outputs": [],
   "source": [
    "#from tabulate import tabulate\n",
    "%matplotlib inline\n",
    "import matplotlib.pyplot as plt\n",
    "import seaborn as sns\n",
    "import pandas as pd\n",
    "import numpy as np\n",
    "from gensim.models.word2vec import Word2Vec\n",
    "from collections import Counter, defaultdict\n",
    "from sklearn.feature_extraction.text import CountVectorizer\n",
    "from sklearn.feature_extraction.text import TfidfVectorizer\n",
    "from sklearn.ensemble import ExtraTreesClassifier\n",
    "from sklearn.naive_bayes import BernoulliNB, MultinomialNB\n",
    "from sklearn.pipeline import Pipeline\n",
    "from sklearn.svm import SVC\n",
    "from sklearn.metrics import accuracy_score\n",
    "from sklearn.cross_validation import cross_val_score\n",
    "from sklearn.cross_validation import StratifiedShuffleSplit\n",
    "\n",
    "# TRAIN_SET_PATH = \"20ng-no-stop.txt\"\n",
    "# TRAIN_SET_PATH = \"r52-all-terms.txt\"\n",
    "TRAIN_SET_PATH = \"r8-no-stop.txt\"\n",
    "\n",
    "GLOVE_6B_50D_PATH = \"glove.6B.50d.txt\"\n",
    "GLOVE_840B_300D_PATH = \"glove.840B.300d.txt\"\n",
    "encoding=\"utf-8\""
   ]
  },
  {
   "cell_type": "code",
   "execution_count": 349,
   "metadata": {},
   "outputs": [
    {
     "ename": "AttributeError",
     "evalue": "'DataFrame' object has no attribute 'split'",
     "output_type": "error",
     "traceback": [
      "\u001b[0;31m---------------------------------------------------------------------------\u001b[0m",
      "\u001b[0;31mAttributeError\u001b[0m                            Traceback (most recent call last)",
      "\u001b[0;32m<ipython-input-349-dc1f69ed884b>\u001b[0m in \u001b[0;36m<module>\u001b[0;34m()\u001b[0m\n\u001b[1;32m      1\u001b[0m \u001b[0mls\u001b[0m \u001b[0;34m=\u001b[0m \u001b[0;34m[\u001b[0m\u001b[0;34m]\u001b[0m\u001b[0;34m\u001b[0m\u001b[0m\n\u001b[0;32m----> 2\u001b[0;31m \u001b[0msentences\u001b[0m \u001b[0;34m=\u001b[0m \u001b[0mdf_glove\u001b[0m\u001b[0;34m.\u001b[0m\u001b[0msplit\u001b[0m\u001b[0;34m(\u001b[0m\u001b[0;34m\".\"\u001b[0m\u001b[0;34m)\u001b[0m\u001b[0;34m\u001b[0m\u001b[0m\n\u001b[0m\u001b[1;32m      3\u001b[0m \u001b[0;32mfor\u001b[0m \u001b[0mi\u001b[0m \u001b[0;32min\u001b[0m \u001b[0msentences\u001b[0m\u001b[0;34m:\u001b[0m\u001b[0;34m\u001b[0m\u001b[0m\n\u001b[1;32m      4\u001b[0m     \u001b[0mls\u001b[0m\u001b[0;34m.\u001b[0m\u001b[0mappend\u001b[0m\u001b[0;34m(\u001b[0m\u001b[0mi\u001b[0m\u001b[0;34m.\u001b[0m\u001b[0msplit\u001b[0m\u001b[0;34m(\u001b[0m\u001b[0;34m)\u001b[0m\u001b[0;34m)\u001b[0m\u001b[0;34m\u001b[0m\u001b[0m\n\u001b[1;32m      5\u001b[0m \u001b[0mmodel\u001b[0m \u001b[0;34m=\u001b[0m \u001b[0mWord2Vec\u001b[0m\u001b[0;34m(\u001b[0m\u001b[0mdf_glove\u001b[0m\u001b[0;34m,\u001b[0m \u001b[0mmin_count\u001b[0m\u001b[0;34m=\u001b[0m\u001b[0;36m1\u001b[0m\u001b[0;34m,\u001b[0m \u001b[0msize\u001b[0m \u001b[0;34m=\u001b[0m \u001b[0;36m4\u001b[0m\u001b[0;34m)\u001b[0m\u001b[0;34m\u001b[0m\u001b[0m\n",
      "\u001b[0;32m/anaconda3/envs/dsi/lib/python3.6/site-packages/pandas/core/generic.py\u001b[0m in \u001b[0;36m__getattr__\u001b[0;34m(self, name)\u001b[0m\n\u001b[1;32m   3612\u001b[0m             \u001b[0;32mif\u001b[0m \u001b[0mname\u001b[0m \u001b[0;32min\u001b[0m \u001b[0mself\u001b[0m\u001b[0;34m.\u001b[0m\u001b[0m_info_axis\u001b[0m\u001b[0;34m:\u001b[0m\u001b[0;34m\u001b[0m\u001b[0m\n\u001b[1;32m   3613\u001b[0m                 \u001b[0;32mreturn\u001b[0m \u001b[0mself\u001b[0m\u001b[0;34m[\u001b[0m\u001b[0mname\u001b[0m\u001b[0;34m]\u001b[0m\u001b[0;34m\u001b[0m\u001b[0m\n\u001b[0;32m-> 3614\u001b[0;31m             \u001b[0;32mreturn\u001b[0m \u001b[0mobject\u001b[0m\u001b[0;34m.\u001b[0m\u001b[0m__getattribute__\u001b[0m\u001b[0;34m(\u001b[0m\u001b[0mself\u001b[0m\u001b[0;34m,\u001b[0m \u001b[0mname\u001b[0m\u001b[0;34m)\u001b[0m\u001b[0;34m\u001b[0m\u001b[0m\n\u001b[0m\u001b[1;32m   3615\u001b[0m \u001b[0;34m\u001b[0m\u001b[0m\n\u001b[1;32m   3616\u001b[0m     \u001b[0;32mdef\u001b[0m \u001b[0m__setattr__\u001b[0m\u001b[0;34m(\u001b[0m\u001b[0mself\u001b[0m\u001b[0;34m,\u001b[0m \u001b[0mname\u001b[0m\u001b[0;34m,\u001b[0m \u001b[0mvalue\u001b[0m\u001b[0;34m)\u001b[0m\u001b[0;34m:\u001b[0m\u001b[0;34m\u001b[0m\u001b[0m\n",
      "\u001b[0;31mAttributeError\u001b[0m: 'DataFrame' object has no attribute 'split'"
     ]
    }
   ],
   "source": [
    "ls = []\n",
    "sentences = df_glove.split(\".\")\n",
    "for i in sentences:\n",
    "    ls.append(i.split())\n",
    "model = Word2Vec(df_glove, min_count=1, size = 4)\n",
    "words = list(model.wv.vocab)\n",
    "print(words)\n",
    "vectors = []\n",
    "for word in words:\n",
    "    vectors.append(model[word].tolist())\n",
    "data = np.array(vectors)\n",
    "data"
   ]
  },
  {
   "cell_type": "code",
   "execution_count": null,
   "metadata": {},
   "outputs": [],
   "source": [
    "df_w2v_fix = pd.concat([df_body_w2v, df_w2v], axis=1)\n",
    "df_w2v_fix.head()"
   ]
  },
  {
   "cell_type": "code",
   "execution_count": null,
   "metadata": {},
   "outputs": [],
   "source": [
    "df_w2v_fix.shape"
   ]
  },
  {
   "cell_type": "code",
   "execution_count": null,
   "metadata": {},
   "outputs": [],
   "source": [
    "df_fix['Unnamed 0'].shape"
   ]
  },
  {
   "cell_type": "code",
   "execution_count": null,
   "metadata": {},
   "outputs": [],
   "source": [
    "X = df_w2v_fix\n",
    "y = df_fix['Unnamed 0'] #need to create binary for classes #predict the prob of each class and highest use as predictions\n",
    "\n",
    "X_train, X_test, y_train, y_test = train_test_split(X, y)"
   ]
  },
  {
   "cell_type": "code",
   "execution_count": null,
   "metadata": {},
   "outputs": [],
   "source": []
  },
  {
   "cell_type": "code",
   "execution_count": null,
   "metadata": {},
   "outputs": [],
   "source": []
  }
 ],
 "metadata": {
  "kernelspec": {
   "display_name": "Python [conda env:dsi]",
   "language": "python",
   "name": "conda-env-dsi-py"
  },
  "language_info": {
   "codemirror_mode": {
    "name": "ipython",
    "version": 3
   },
   "file_extension": ".py",
   "mimetype": "text/x-python",
   "name": "python",
   "nbconvert_exporter": "python",
   "pygments_lexer": "ipython3",
   "version": "3.6.5"
  }
 },
 "nbformat": 4,
 "nbformat_minor": 2
}
