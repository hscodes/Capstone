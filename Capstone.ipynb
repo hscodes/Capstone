{
 "cells": [
  {
   "cell_type": "markdown",
   "metadata": {},
   "source": [
    "# Fake News through Stance Detection"
   ]
  },
  {
   "cell_type": "markdown",
   "metadata": {},
   "source": [
    "## Problem"
   ]
  },
  {
   "cell_type": "markdown",
   "metadata": {},
   "source": [
    "Using classification models to learn how to predict whether an article is Fake News using Stance Detection. Stance detection takes a headline and body text of an article and classifies the stance of the body text relative to headline. "
   ]
  },
  {
   "cell_type": "markdown",
   "metadata": {},
   "source": [
    "### Imports"
   ]
  },
  {
   "cell_type": "code",
   "execution_count": 1,
   "metadata": {},
   "outputs": [
    {
     "name": "stderr",
     "output_type": "stream",
     "text": [
      "/anaconda3/envs/dsi/lib/python3.6/site-packages/sklearn/cross_validation.py:41: DeprecationWarning: This module was deprecated in version 0.18 in favor of the model_selection module into which all the refactored classes and functions are moved. Also note that the interface of the new CV iterators are different from that of this module. This module will be removed in 0.20.\n",
      "  \"This module will be removed in 0.20.\", DeprecationWarning)\n"
     ]
    }
   ],
   "source": [
    "#Loading libraries\n",
    "import pandas as pd \n",
    "\n",
    "import os\n",
    "import re\n",
    "import nltk\n",
    "from sklearn import feature_extraction\n",
    "from tqdm import tqdm\n",
    "\n",
    "\n",
    "import numpy as np\n",
    "import matplotlib.pyplot as plt\n",
    "%matplotlib inline\n",
    "\n",
    "from sklearn.feature_extraction.text import CountVectorizer, HashingVectorizer, TfidfVectorizer\n",
    "from sklearn.linear_model import LogisticRegression\n",
    "\n",
    "# NLTK\n",
    "from nltk.tokenize import RegexpTokenizer\n",
    "from nltk.stem import PorterStemmer\n",
    "from nltk.corpus import stopwords\n",
    "import re\n",
    "\n",
    "# Visualization\n",
    "import matplotlib.pyplot as plt\n",
    "import matplotlib.patches as mpatches\n",
    "import matplotlib\n",
    "%matplotlib inline\n",
    "import seaborn as sns\n",
    "from nltk.stem import WordNetLemmatizer\n",
    "\n",
    "from gensim.models.word2vec import Word2Vec\n",
    "from collections import Counter, defaultdict\n",
    "from sklearn.feature_extraction.text import CountVectorizer\n",
    "from sklearn.feature_extraction.text import TfidfVectorizer\n",
    "from sklearn.ensemble import BaggingClassifier, RandomForestClassifier, ExtraTreesClassifier\n",
    "from sklearn.naive_bayes import BernoulliNB, MultinomialNB\n",
    "from sklearn.pipeline import Pipeline\n",
    "from sklearn.svm import SVC\n",
    "from sklearn.metrics import accuracy_score\n",
    "from sklearn.model_selection import cross_val_score\n",
    "from sklearn.cross_validation import StratifiedShuffleSplit"
   ]
  },
  {
   "cell_type": "code",
   "execution_count": 2,
   "metadata": {},
   "outputs": [],
   "source": [
    "bodies = pd.read_csv('./train_bodies.csv')\n",
    "stances = pd.read_csv('./train_stances.csv')\n"
   ]
  },
  {
   "cell_type": "markdown",
   "metadata": {},
   "source": [
    "## EDA"
   ]
  },
  {
   "cell_type": "code",
   "execution_count": 3,
   "metadata": {
    "scrolled": false
   },
   "outputs": [
    {
     "data": {
      "text/html": [
       "<div>\n",
       "<style scoped>\n",
       "    .dataframe tbody tr th:only-of-type {\n",
       "        vertical-align: middle;\n",
       "    }\n",
       "\n",
       "    .dataframe tbody tr th {\n",
       "        vertical-align: top;\n",
       "    }\n",
       "\n",
       "    .dataframe thead th {\n",
       "        text-align: right;\n",
       "    }\n",
       "</style>\n",
       "<table border=\"1\" class=\"dataframe\">\n",
       "  <thead>\n",
       "    <tr style=\"text-align: right;\">\n",
       "      <th></th>\n",
       "      <th>Body ID</th>\n",
       "      <th>articleBody</th>\n",
       "    </tr>\n",
       "  </thead>\n",
       "  <tbody>\n",
       "    <tr>\n",
       "      <th>0</th>\n",
       "      <td>0</td>\n",
       "      <td>A small meteorite crashed into a wooded area i...</td>\n",
       "    </tr>\n",
       "    <tr>\n",
       "      <th>1</th>\n",
       "      <td>4</td>\n",
       "      <td>Last week we hinted at what was to come as Ebo...</td>\n",
       "    </tr>\n",
       "    <tr>\n",
       "      <th>2</th>\n",
       "      <td>5</td>\n",
       "      <td>(NEWSER) – Wonder how long a Quarter Pounder w...</td>\n",
       "    </tr>\n",
       "    <tr>\n",
       "      <th>3</th>\n",
       "      <td>6</td>\n",
       "      <td>Posting photos of a gun-toting child online, I...</td>\n",
       "    </tr>\n",
       "    <tr>\n",
       "      <th>4</th>\n",
       "      <td>7</td>\n",
       "      <td>At least 25 suspected Boko Haram insurgents we...</td>\n",
       "    </tr>\n",
       "  </tbody>\n",
       "</table>\n",
       "</div>"
      ],
      "text/plain": [
       "   Body ID                                        articleBody\n",
       "0        0  A small meteorite crashed into a wooded area i...\n",
       "1        4  Last week we hinted at what was to come as Ebo...\n",
       "2        5  (NEWSER) – Wonder how long a Quarter Pounder w...\n",
       "3        6  Posting photos of a gun-toting child online, I...\n",
       "4        7  At least 25 suspected Boko Haram insurgents we..."
      ]
     },
     "execution_count": 3,
     "metadata": {},
     "output_type": "execute_result"
    }
   ],
   "source": [
    "bodies.head()"
   ]
  },
  {
   "cell_type": "code",
   "execution_count": 4,
   "metadata": {
    "scrolled": true
   },
   "outputs": [
    {
     "data": {
      "text/html": [
       "<div>\n",
       "<style scoped>\n",
       "    .dataframe tbody tr th:only-of-type {\n",
       "        vertical-align: middle;\n",
       "    }\n",
       "\n",
       "    .dataframe tbody tr th {\n",
       "        vertical-align: top;\n",
       "    }\n",
       "\n",
       "    .dataframe thead th {\n",
       "        text-align: right;\n",
       "    }\n",
       "</style>\n",
       "<table border=\"1\" class=\"dataframe\">\n",
       "  <thead>\n",
       "    <tr style=\"text-align: right;\">\n",
       "      <th></th>\n",
       "      <th>Headline</th>\n",
       "      <th>Body ID</th>\n",
       "      <th>Stance</th>\n",
       "    </tr>\n",
       "  </thead>\n",
       "  <tbody>\n",
       "    <tr>\n",
       "      <th>0</th>\n",
       "      <td>Police find mass graves with at least '15 bodi...</td>\n",
       "      <td>712</td>\n",
       "      <td>unrelated</td>\n",
       "    </tr>\n",
       "    <tr>\n",
       "      <th>1</th>\n",
       "      <td>Hundreds of Palestinians flee floods in Gaza a...</td>\n",
       "      <td>158</td>\n",
       "      <td>agree</td>\n",
       "    </tr>\n",
       "    <tr>\n",
       "      <th>2</th>\n",
       "      <td>Christian Bale passes on role of Steve Jobs, a...</td>\n",
       "      <td>137</td>\n",
       "      <td>unrelated</td>\n",
       "    </tr>\n",
       "    <tr>\n",
       "      <th>3</th>\n",
       "      <td>HBO and Apple in Talks for $15/Month Apple TV ...</td>\n",
       "      <td>1034</td>\n",
       "      <td>unrelated</td>\n",
       "    </tr>\n",
       "    <tr>\n",
       "      <th>4</th>\n",
       "      <td>Spider burrowed through tourist's stomach and ...</td>\n",
       "      <td>1923</td>\n",
       "      <td>disagree</td>\n",
       "    </tr>\n",
       "  </tbody>\n",
       "</table>\n",
       "</div>"
      ],
      "text/plain": [
       "                                            Headline  Body ID     Stance\n",
       "0  Police find mass graves with at least '15 bodi...      712  unrelated\n",
       "1  Hundreds of Palestinians flee floods in Gaza a...      158      agree\n",
       "2  Christian Bale passes on role of Steve Jobs, a...      137  unrelated\n",
       "3  HBO and Apple in Talks for $15/Month Apple TV ...     1034  unrelated\n",
       "4  Spider burrowed through tourist's stomach and ...     1923   disagree"
      ]
     },
     "execution_count": 4,
     "metadata": {},
     "output_type": "execute_result"
    }
   ],
   "source": [
    "stances.head()"
   ]
  },
  {
   "cell_type": "code",
   "execution_count": 5,
   "metadata": {},
   "outputs": [
    {
     "data": {
      "text/plain": [
       "array(['unrelated', 'agree', 'disagree', 'discuss'], dtype=object)"
      ]
     },
     "execution_count": 5,
     "metadata": {},
     "output_type": "execute_result"
    }
   ],
   "source": [
    "stances['Stance'].unique()"
   ]
  },
  {
   "cell_type": "markdown",
   "metadata": {},
   "source": [
    "4 Classes within the stances: unrelated, agree, disagree, and discuss. "
   ]
  },
  {
   "cell_type": "code",
   "execution_count": 6,
   "metadata": {
    "scrolled": false
   },
   "outputs": [
    {
     "data": {
      "text/plain": [
       "Body ID        0\n",
       "articleBody    0\n",
       "dtype: int64"
      ]
     },
     "execution_count": 6,
     "metadata": {},
     "output_type": "execute_result"
    }
   ],
   "source": [
    "bodies.isnull().sum()"
   ]
  },
  {
   "cell_type": "code",
   "execution_count": 7,
   "metadata": {
    "scrolled": false
   },
   "outputs": [
    {
     "data": {
      "text/plain": [
       "Headline    0\n",
       "Body ID     0\n",
       "Stance      0\n",
       "dtype: int64"
      ]
     },
     "execution_count": 7,
     "metadata": {},
     "output_type": "execute_result"
    }
   ],
   "source": [
    "stances.isnull().sum()"
   ]
  },
  {
   "cell_type": "markdown",
   "metadata": {},
   "source": [
    "Checking for nulls within the datasets. "
   ]
  },
  {
   "cell_type": "code",
   "execution_count": 8,
   "metadata": {},
   "outputs": [
    {
     "name": "stdout",
     "output_type": "stream",
     "text": [
      "<class 'pandas.core.frame.DataFrame'>\n",
      "RangeIndex: 1683 entries, 0 to 1682\n",
      "Data columns (total 2 columns):\n",
      "Body ID        1683 non-null int64\n",
      "articleBody    1683 non-null object\n",
      "dtypes: int64(1), object(1)\n",
      "memory usage: 26.4+ KB\n"
     ]
    }
   ],
   "source": [
    "bodies.info()"
   ]
  },
  {
   "cell_type": "code",
   "execution_count": 9,
   "metadata": {
    "scrolled": true
   },
   "outputs": [
    {
     "name": "stdout",
     "output_type": "stream",
     "text": [
      "<class 'pandas.core.frame.DataFrame'>\n",
      "RangeIndex: 49972 entries, 0 to 49971\n",
      "Data columns (total 3 columns):\n",
      "Headline    49972 non-null object\n",
      "Body ID     49972 non-null int64\n",
      "Stance      49972 non-null object\n",
      "dtypes: int64(1), object(2)\n",
      "memory usage: 1.1+ MB\n"
     ]
    }
   ],
   "source": [
    "stances.info()"
   ]
  },
  {
   "cell_type": "markdown",
   "metadata": {},
   "source": [
    "Checking for types of data. "
   ]
  },
  {
   "cell_type": "code",
   "execution_count": 10,
   "metadata": {
    "scrolled": false
   },
   "outputs": [
    {
     "name": "stdout",
     "output_type": "stream",
     "text": [
      "Total stances: 49972\n",
      "Total article bodies: 1683\n"
     ]
    }
   ],
   "source": [
    "print(\"Total stances: \" + str(len(stances.Stance)))\n",
    "print(\"Total article bodies: \" + str(len(bodies.articleBody)))"
   ]
  },
  {
   "cell_type": "code",
   "execution_count": 11,
   "metadata": {},
   "outputs": [
    {
     "data": {
      "text/html": [
       "<div>\n",
       "<style scoped>\n",
       "    .dataframe tbody tr th:only-of-type {\n",
       "        vertical-align: middle;\n",
       "    }\n",
       "\n",
       "    .dataframe tbody tr th {\n",
       "        vertical-align: top;\n",
       "    }\n",
       "\n",
       "    .dataframe thead th {\n",
       "        text-align: right;\n",
       "    }\n",
       "</style>\n",
       "<table border=\"1\" class=\"dataframe\">\n",
       "  <thead>\n",
       "    <tr style=\"text-align: right;\">\n",
       "      <th></th>\n",
       "      <th>Headline</th>\n",
       "      <th>Body ID</th>\n",
       "      <th>Stance</th>\n",
       "    </tr>\n",
       "  </thead>\n",
       "  <tbody>\n",
       "    <tr>\n",
       "      <th>0</th>\n",
       "      <td>Police find mass graves with at least '15 bodi...</td>\n",
       "      <td>712</td>\n",
       "      <td>unrelated</td>\n",
       "    </tr>\n",
       "    <tr>\n",
       "      <th>1787</th>\n",
       "      <td>Seth Rogen to Play Apple’s Steve Wozniak</td>\n",
       "      <td>712</td>\n",
       "      <td>discuss</td>\n",
       "    </tr>\n",
       "    <tr>\n",
       "      <th>3974</th>\n",
       "      <td>Mexico police find mass grave near site 43 stu...</td>\n",
       "      <td>712</td>\n",
       "      <td>unrelated</td>\n",
       "    </tr>\n",
       "    <tr>\n",
       "      <th>4936</th>\n",
       "      <td>Mexico Says Missing Students Not Found In Firs...</td>\n",
       "      <td>712</td>\n",
       "      <td>unrelated</td>\n",
       "    </tr>\n",
       "    <tr>\n",
       "      <th>5210</th>\n",
       "      <td>New iOS 8 bug can delete all of your iCloud do...</td>\n",
       "      <td>712</td>\n",
       "      <td>unrelated</td>\n",
       "    </tr>\n",
       "    <tr>\n",
       "      <th>5863</th>\n",
       "      <td>Return of the Mac: Seth Rogen in talks to star...</td>\n",
       "      <td>712</td>\n",
       "      <td>discuss</td>\n",
       "    </tr>\n",
       "    <tr>\n",
       "      <th>6199</th>\n",
       "      <td>Seth Rogen Is Woz</td>\n",
       "      <td>712</td>\n",
       "      <td>discuss</td>\n",
       "    </tr>\n",
       "    <tr>\n",
       "      <th>6756</th>\n",
       "      <td>Mexico finds 4 more graves at site of suspecte...</td>\n",
       "      <td>712</td>\n",
       "      <td>unrelated</td>\n",
       "    </tr>\n",
       "    <tr>\n",
       "      <th>7526</th>\n",
       "      <td>Are missing students in mass graves found near...</td>\n",
       "      <td>712</td>\n",
       "      <td>unrelated</td>\n",
       "    </tr>\n",
       "    <tr>\n",
       "      <th>9003</th>\n",
       "      <td>Mexico prosecutor: Students not in 1st mass gr...</td>\n",
       "      <td>712</td>\n",
       "      <td>unrelated</td>\n",
       "    </tr>\n",
       "    <tr>\n",
       "      <th>10036</th>\n",
       "      <td>Lady on FB: I'm 41, Intersex, and Fucked Micha...</td>\n",
       "      <td>712</td>\n",
       "      <td>unrelated</td>\n",
       "    </tr>\n",
       "    <tr>\n",
       "      <th>10780</th>\n",
       "      <td>Catholic Priest Claims God Is Female After Cli...</td>\n",
       "      <td>712</td>\n",
       "      <td>unrelated</td>\n",
       "    </tr>\n",
       "    <tr>\n",
       "      <th>11687</th>\n",
       "      <td>Isis claims US hostage Kayla Mueller killed in...</td>\n",
       "      <td>712</td>\n",
       "      <td>unrelated</td>\n",
       "    </tr>\n",
       "    <tr>\n",
       "      <th>11864</th>\n",
       "      <td>Gold Apple Watch Edition price? Speculators sa...</td>\n",
       "      <td>712</td>\n",
       "      <td>unrelated</td>\n",
       "    </tr>\n",
       "    <tr>\n",
       "      <th>15746</th>\n",
       "      <td>Mexican students not among bodies found in mas...</td>\n",
       "      <td>712</td>\n",
       "      <td>unrelated</td>\n",
       "    </tr>\n",
       "    <tr>\n",
       "      <th>21620</th>\n",
       "      <td>Steve Jobs Biopic Eyes Seth Rogen to Play Appl...</td>\n",
       "      <td>712</td>\n",
       "      <td>discuss</td>\n",
       "    </tr>\n",
       "    <tr>\n",
       "      <th>21712</th>\n",
       "      <td>Missing Mexico students not among 28 bodies fo...</td>\n",
       "      <td>712</td>\n",
       "      <td>unrelated</td>\n",
       "    </tr>\n",
       "    <tr>\n",
       "      <th>21928</th>\n",
       "      <td>Taylor Lianne Chandler: Everything you need to...</td>\n",
       "      <td>712</td>\n",
       "      <td>unrelated</td>\n",
       "    </tr>\n",
       "    <tr>\n",
       "      <th>22100</th>\n",
       "      <td>Mexican cartel leader kills self; bodies in gr...</td>\n",
       "      <td>712</td>\n",
       "      <td>unrelated</td>\n",
       "    </tr>\n",
       "    <tr>\n",
       "      <th>25006</th>\n",
       "      <td>Bodies In Mexico Mass Grave Apparently Not Tho...</td>\n",
       "      <td>712</td>\n",
       "      <td>unrelated</td>\n",
       "    </tr>\n",
       "    <tr>\n",
       "      <th>25492</th>\n",
       "      <td>Seth Rogen Eyed to Play Apple's Steve Wozniak ...</td>\n",
       "      <td>712</td>\n",
       "      <td>discuss</td>\n",
       "    </tr>\n",
       "    <tr>\n",
       "      <th>25616</th>\n",
       "      <td>Mexican investigators fear mass grave might ho...</td>\n",
       "      <td>712</td>\n",
       "      <td>unrelated</td>\n",
       "    </tr>\n",
       "    <tr>\n",
       "      <th>26260</th>\n",
       "      <td>6 hidden mass graves may hold missing Mexican ...</td>\n",
       "      <td>712</td>\n",
       "      <td>unrelated</td>\n",
       "    </tr>\n",
       "    <tr>\n",
       "      <th>26398</th>\n",
       "      <td>Mass grave found after 40 students disappear i...</td>\n",
       "      <td>712</td>\n",
       "      <td>unrelated</td>\n",
       "    </tr>\n",
       "    <tr>\n",
       "      <th>27200</th>\n",
       "      <td>Mexico Student Massacre Update: More Graves Di...</td>\n",
       "      <td>712</td>\n",
       "      <td>unrelated</td>\n",
       "    </tr>\n",
       "    <tr>\n",
       "      <th>29988</th>\n",
       "      <td>Seth Rogen To Play Steve Wozniak In Steve Jobs...</td>\n",
       "      <td>712</td>\n",
       "      <td>discuss</td>\n",
       "    </tr>\n",
       "    <tr>\n",
       "      <th>33683</th>\n",
       "      <td>Taylor Lianne Chandler: Michael Phelps' Cougar...</td>\n",
       "      <td>712</td>\n",
       "      <td>unrelated</td>\n",
       "    </tr>\n",
       "    <tr>\n",
       "      <th>37095</th>\n",
       "      <td>Newly Discovered Mass Grave Linked to Missing ...</td>\n",
       "      <td>712</td>\n",
       "      <td>unrelated</td>\n",
       "    </tr>\n",
       "    <tr>\n",
       "      <th>38326</th>\n",
       "      <td>Michael Phelps' self-proclaimed 'girlfriend', ...</td>\n",
       "      <td>712</td>\n",
       "      <td>unrelated</td>\n",
       "    </tr>\n",
       "    <tr>\n",
       "      <th>41035</th>\n",
       "      <td>Missing Mexican students 'not found in mass gr...</td>\n",
       "      <td>712</td>\n",
       "      <td>unrelated</td>\n",
       "    </tr>\n",
       "    <tr>\n",
       "      <th>42776</th>\n",
       "      <td>Mexico checks if 43 missing students in mass g...</td>\n",
       "      <td>712</td>\n",
       "      <td>unrelated</td>\n",
       "    </tr>\n",
       "    <tr>\n",
       "      <th>43897</th>\n",
       "      <td>Rumor: Seth Rogen to Appear as Woz in Sony's S...</td>\n",
       "      <td>712</td>\n",
       "      <td>discuss</td>\n",
       "    </tr>\n",
       "    <tr>\n",
       "      <th>44978</th>\n",
       "      <td>This Powerful Cartoon About The Charlie Hebdo ...</td>\n",
       "      <td>712</td>\n",
       "      <td>unrelated</td>\n",
       "    </tr>\n",
       "    <tr>\n",
       "      <th>45222</th>\n",
       "      <td>Mexico Says Students Not Among Dead in Mass Grave</td>\n",
       "      <td>712</td>\n",
       "      <td>unrelated</td>\n",
       "    </tr>\n",
       "    <tr>\n",
       "      <th>45579</th>\n",
       "      <td>Mexico hit by student massacre: At least 17 an...</td>\n",
       "      <td>712</td>\n",
       "      <td>unrelated</td>\n",
       "    </tr>\n",
       "    <tr>\n",
       "      <th>46530</th>\n",
       "      <td>Seth Rogen to Star as Steve Wozniak in Sony's ...</td>\n",
       "      <td>712</td>\n",
       "      <td>discuss</td>\n",
       "    </tr>\n",
       "    <tr>\n",
       "      <th>47712</th>\n",
       "      <td>Michael Phelps’ alleged girlfriend says she wa...</td>\n",
       "      <td>712</td>\n",
       "      <td>unrelated</td>\n",
       "    </tr>\n",
       "    <tr>\n",
       "      <th>47850</th>\n",
       "      <td>Mass Graves Found In Mexico, Near Place Where ...</td>\n",
       "      <td>712</td>\n",
       "      <td>unrelated</td>\n",
       "    </tr>\n",
       "    <tr>\n",
       "      <th>48228</th>\n",
       "      <td>A Mass Grave Points to a Student Massacre in M...</td>\n",
       "      <td>712</td>\n",
       "      <td>unrelated</td>\n",
       "    </tr>\n",
       "  </tbody>\n",
       "</table>\n",
       "</div>"
      ],
      "text/plain": [
       "                                                Headline  Body ID     Stance\n",
       "0      Police find mass graves with at least '15 bodi...      712  unrelated\n",
       "1787            Seth Rogen to Play Apple’s Steve Wozniak      712    discuss\n",
       "3974   Mexico police find mass grave near site 43 stu...      712  unrelated\n",
       "4936   Mexico Says Missing Students Not Found In Firs...      712  unrelated\n",
       "5210   New iOS 8 bug can delete all of your iCloud do...      712  unrelated\n",
       "5863   Return of the Mac: Seth Rogen in talks to star...      712    discuss\n",
       "6199                                   Seth Rogen Is Woz      712    discuss\n",
       "6756   Mexico finds 4 more graves at site of suspecte...      712  unrelated\n",
       "7526   Are missing students in mass graves found near...      712  unrelated\n",
       "9003   Mexico prosecutor: Students not in 1st mass gr...      712  unrelated\n",
       "10036  Lady on FB: I'm 41, Intersex, and Fucked Micha...      712  unrelated\n",
       "10780  Catholic Priest Claims God Is Female After Cli...      712  unrelated\n",
       "11687  Isis claims US hostage Kayla Mueller killed in...      712  unrelated\n",
       "11864  Gold Apple Watch Edition price? Speculators sa...      712  unrelated\n",
       "15746  Mexican students not among bodies found in mas...      712  unrelated\n",
       "21620  Steve Jobs Biopic Eyes Seth Rogen to Play Appl...      712    discuss\n",
       "21712  Missing Mexico students not among 28 bodies fo...      712  unrelated\n",
       "21928  Taylor Lianne Chandler: Everything you need to...      712  unrelated\n",
       "22100  Mexican cartel leader kills self; bodies in gr...      712  unrelated\n",
       "25006  Bodies In Mexico Mass Grave Apparently Not Tho...      712  unrelated\n",
       "25492  Seth Rogen Eyed to Play Apple's Steve Wozniak ...      712    discuss\n",
       "25616  Mexican investigators fear mass grave might ho...      712  unrelated\n",
       "26260  6 hidden mass graves may hold missing Mexican ...      712  unrelated\n",
       "26398  Mass grave found after 40 students disappear i...      712  unrelated\n",
       "27200  Mexico Student Massacre Update: More Graves Di...      712  unrelated\n",
       "29988  Seth Rogen To Play Steve Wozniak In Steve Jobs...      712    discuss\n",
       "33683  Taylor Lianne Chandler: Michael Phelps' Cougar...      712  unrelated\n",
       "37095  Newly Discovered Mass Grave Linked to Missing ...      712  unrelated\n",
       "38326  Michael Phelps' self-proclaimed 'girlfriend', ...      712  unrelated\n",
       "41035  Missing Mexican students 'not found in mass gr...      712  unrelated\n",
       "42776  Mexico checks if 43 missing students in mass g...      712  unrelated\n",
       "43897  Rumor: Seth Rogen to Appear as Woz in Sony's S...      712    discuss\n",
       "44978  This Powerful Cartoon About The Charlie Hebdo ...      712  unrelated\n",
       "45222  Mexico Says Students Not Among Dead in Mass Grave      712  unrelated\n",
       "45579  Mexico hit by student massacre: At least 17 an...      712  unrelated\n",
       "46530  Seth Rogen to Star as Steve Wozniak in Sony's ...      712    discuss\n",
       "47712  Michael Phelps’ alleged girlfriend says she wa...      712  unrelated\n",
       "47850  Mass Graves Found In Mexico, Near Place Where ...      712  unrelated\n",
       "48228  A Mass Grave Points to a Student Massacre in M...      712  unrelated"
      ]
     },
     "execution_count": 11,
     "metadata": {},
     "output_type": "execute_result"
    }
   ],
   "source": [
    "stances[stances['Body ID'] == 712]"
   ]
  },
  {
   "cell_type": "markdown",
   "metadata": {},
   "source": [
    "There are many more stances than there are article bodies. This means that there are many articles that are being used with different headlines. "
   ]
  },
  {
   "cell_type": "code",
   "execution_count": 12,
   "metadata": {
    "scrolled": true
   },
   "outputs": [
    {
     "data": {
      "text/html": [
       "<div>\n",
       "<style scoped>\n",
       "    .dataframe tbody tr th:only-of-type {\n",
       "        vertical-align: middle;\n",
       "    }\n",
       "\n",
       "    .dataframe tbody tr th {\n",
       "        vertical-align: top;\n",
       "    }\n",
       "\n",
       "    .dataframe thead th {\n",
       "        text-align: right;\n",
       "    }\n",
       "</style>\n",
       "<table border=\"1\" class=\"dataframe\">\n",
       "  <thead>\n",
       "    <tr style=\"text-align: right;\">\n",
       "      <th></th>\n",
       "      <th>Headline</th>\n",
       "      <th>Body ID</th>\n",
       "      <th>Stance</th>\n",
       "      <th>articleBody</th>\n",
       "    </tr>\n",
       "  </thead>\n",
       "  <tbody>\n",
       "    <tr>\n",
       "      <th>0</th>\n",
       "      <td>Police find mass graves with at least '15 bodi...</td>\n",
       "      <td>712</td>\n",
       "      <td>unrelated</td>\n",
       "      <td>Danny Boyle is directing the untitled film\\n\\n...</td>\n",
       "    </tr>\n",
       "    <tr>\n",
       "      <th>1</th>\n",
       "      <td>Seth Rogen to Play Apple’s Steve Wozniak</td>\n",
       "      <td>712</td>\n",
       "      <td>discuss</td>\n",
       "      <td>Danny Boyle is directing the untitled film\\n\\n...</td>\n",
       "    </tr>\n",
       "    <tr>\n",
       "      <th>2</th>\n",
       "      <td>Mexico police find mass grave near site 43 stu...</td>\n",
       "      <td>712</td>\n",
       "      <td>unrelated</td>\n",
       "      <td>Danny Boyle is directing the untitled film\\n\\n...</td>\n",
       "    </tr>\n",
       "    <tr>\n",
       "      <th>3</th>\n",
       "      <td>Mexico Says Missing Students Not Found In Firs...</td>\n",
       "      <td>712</td>\n",
       "      <td>unrelated</td>\n",
       "      <td>Danny Boyle is directing the untitled film\\n\\n...</td>\n",
       "    </tr>\n",
       "    <tr>\n",
       "      <th>4</th>\n",
       "      <td>New iOS 8 bug can delete all of your iCloud do...</td>\n",
       "      <td>712</td>\n",
       "      <td>unrelated</td>\n",
       "      <td>Danny Boyle is directing the untitled film\\n\\n...</td>\n",
       "    </tr>\n",
       "  </tbody>\n",
       "</table>\n",
       "</div>"
      ],
      "text/plain": [
       "                                            Headline  Body ID     Stance  \\\n",
       "0  Police find mass graves with at least '15 bodi...      712  unrelated   \n",
       "1           Seth Rogen to Play Apple’s Steve Wozniak      712    discuss   \n",
       "2  Mexico police find mass grave near site 43 stu...      712  unrelated   \n",
       "3  Mexico Says Missing Students Not Found In Firs...      712  unrelated   \n",
       "4  New iOS 8 bug can delete all of your iCloud do...      712  unrelated   \n",
       "\n",
       "                                         articleBody  \n",
       "0  Danny Boyle is directing the untitled film\\n\\n...  \n",
       "1  Danny Boyle is directing the untitled film\\n\\n...  \n",
       "2  Danny Boyle is directing the untitled film\\n\\n...  \n",
       "3  Danny Boyle is directing the untitled film\\n\\n...  \n",
       "4  Danny Boyle is directing the untitled film\\n\\n...  "
      ]
     },
     "execution_count": 12,
     "metadata": {},
     "output_type": "execute_result"
    }
   ],
   "source": [
    "df_all = stances.merge(bodies, on = 'Body ID')\n",
    "df_all.head()"
   ]
  },
  {
   "cell_type": "markdown",
   "metadata": {},
   "source": [
    "Merging together the datasets on the Body ID. "
   ]
  },
  {
   "cell_type": "code",
   "execution_count": 13,
   "metadata": {
    "scrolled": true
   },
   "outputs": [
    {
     "data": {
      "text/plain": [
       "(49972, 4)"
      ]
     },
     "execution_count": 13,
     "metadata": {},
     "output_type": "execute_result"
    }
   ],
   "source": [
    "df_all.shape"
   ]
  },
  {
   "cell_type": "markdown",
   "metadata": {},
   "source": [
    "## Baseline"
   ]
  },
  {
   "cell_type": "code",
   "execution_count": 14,
   "metadata": {
    "scrolled": true
   },
   "outputs": [
    {
     "data": {
      "text/plain": [
       "unrelated    0.731310\n",
       "discuss      0.178280\n",
       "agree        0.073601\n",
       "disagree     0.016809\n",
       "Name: Stance, dtype: float64"
      ]
     },
     "execution_count": 14,
     "metadata": {},
     "output_type": "execute_result"
    }
   ],
   "source": [
    "stances['Stance'].value_counts(normalize=True)"
   ]
  },
  {
   "cell_type": "markdown",
   "metadata": {},
   "source": [
    "Our baseline class is 0.731710. This is going to be the score we aim to do better than. "
   ]
  },
  {
   "cell_type": "code",
   "execution_count": null,
   "metadata": {},
   "outputs": [],
   "source": [
    "class_balance = stances['Stance'].value_counts(normalize=True)\n",
    "sns.barplot(['Unrelated','Discuss', 'Agree', 'Disagree'], class_balance)\n",
    "plt.ylabel('Articles')\n",
    "plt.title('Stances');"
   ]
  },
  {
   "cell_type": "markdown",
   "metadata": {},
   "source": [
    "# Natural Language Processing"
   ]
  },
  {
   "cell_type": "markdown",
   "metadata": {},
   "source": [
    "## Count Vectorizer\n",
    "\n",
    "Count vectorizer converts by text into a matrix of token counts. I recieve a sparse matrix from this which makes it easier to create a model. "
   ]
  },
  {
   "cell_type": "code",
   "execution_count": 16,
   "metadata": {},
   "outputs": [
    {
     "data": {
      "text/plain": [
       "0.7320899703834147"
      ]
     },
     "execution_count": 16,
     "metadata": {},
     "output_type": "execute_result"
    }
   ],
   "source": [
    "#body\n",
    "X_train = df_all[['articleBody']]\n",
    "y_train = stances['Stance']\n",
    "X_test = df_all[['articleBody']]\n",
    "y_test = stances['Stance']\n",
    "\n",
    "cvec_body = CountVectorizer(stop_words = 'english')\n",
    "\n",
    "train_body_cvec = cvec_body.fit_transform(X_train['articleBody'])\n",
    "test_body_cvec = cvec_body.transform(X_test['articleBody'])\n",
    "\n",
    "lr = LogisticRegression()\n",
    "lr.fit(train_body_cvec, y_train)\n",
    "lr.score(test_body_cvec, y_test)"
   ]
  },
  {
   "cell_type": "code",
   "execution_count": 17,
   "metadata": {},
   "outputs": [
    {
     "data": {
      "text/plain": [
       "0.7313495557512207"
      ]
     },
     "execution_count": 17,
     "metadata": {},
     "output_type": "execute_result"
    }
   ],
   "source": [
    "#headline\n",
    "X_train = df_all[['Headline']]\n",
    "y_train = stances['Stance']\n",
    "X_test = df_all[['Headline']]\n",
    "y_test = stances['Stance']\n",
    "\n",
    "cvec_headline= CountVectorizer(stop_words = 'english')\n",
    "\n",
    "train_headline_cvec = cvec_headline.fit_transform(X_train['Headline'])\n",
    "test_headline_cvec = cvec_headline.transform(X_test['Headline'])\n",
    "\n",
    "lr = LogisticRegression()\n",
    "lr.fit(train_headline_cvec, y_train)\n",
    "lr.score(test_headline_cvec, y_test)"
   ]
  },
  {
   "cell_type": "code",
   "execution_count": null,
   "metadata": {},
   "outputs": [],
   "source": [
    "combo = df_all[['Headline', 'articleBody']].copy(deep=True)"
   ]
  },
  {
   "cell_type": "code",
   "execution_count": null,
   "metadata": {},
   "outputs": [],
   "source": [
    "#headline\n",
    "X_train = combo\n",
    "y_train = stances['Stance']\n",
    "X_test = combo\n",
    "y_test = stances['Stance']\n",
    "\n",
    "cvec_headline= CountVectorizer(stop_words = 'english')\n",
    "\n",
    "train_headline_cvec = cvec_headline.fit_transform(X_train[combo])\n",
    "test_headline_cvec = cvec_headline.transform(X_test[combo])\n",
    "\n",
    "lr = LogisticRegression()\n",
    "lr.fit(train_headline_cvec, y_train)\n",
    "lr.score(test_headline_cvec, y_test)"
   ]
  },
  {
   "cell_type": "code",
   "execution_count": 18,
   "metadata": {},
   "outputs": [
    {
     "data": {
      "text/plain": [
       "0.7319699031457616"
      ]
     },
     "execution_count": 18,
     "metadata": {},
     "output_type": "execute_result"
    }
   ],
   "source": [
    "X_train = df_all[['articleBody']]\n",
    "y_train = stances['Stance']\n",
    "X_test = df_all[['articleBody']]\n",
    "y_test = stances['Stance']\n",
    "\n",
    "cvec_body = CountVectorizer(stop_words = 'english')\n",
    "\n",
    "train_body_cvec = cvec_body.fit_transform(X_train['articleBody'])\n",
    "test_body_cvec = cvec_body.transform(X_test['articleBody'])\n",
    "\n",
    "rf = RandomForestClassifier()\n",
    "rf.fit(train_body_cvec, y_train)\n",
    "rf.score(test_body_cvec, y_test)"
   ]
  },
  {
   "cell_type": "code",
   "execution_count": 19,
   "metadata": {},
   "outputs": [
    {
     "data": {
      "text/plain": [
       "0.7312895221323942"
      ]
     },
     "execution_count": 19,
     "metadata": {},
     "output_type": "execute_result"
    }
   ],
   "source": [
    "#headline\n",
    "X_train = df_all[['Headline']]\n",
    "y_train = stances['Stance']\n",
    "X_test = df_all[['Headline']]\n",
    "y_test = stances['Stance']\n",
    "\n",
    "cvec_headline= CountVectorizer(stop_words = 'english')\n",
    "\n",
    "train_headline_cvec = cvec_headline.fit_transform(X_train['Headline'])\n",
    "test_headline_cvec = cvec_headline.transform(X_test['Headline'])\n",
    "\n",
    "rf = RandomForestClassifier()\n",
    "rf.fit(train_headline_cvec, y_train)\n",
    "rf.score(test_headline_cvec, y_test)"
   ]
  },
  {
   "cell_type": "markdown",
   "metadata": {},
   "source": [
    "After using CountVectorizer on the article Body and stances we find that our scores improves a little using Logistic Regression. \n",
    "Our baseline is 0.731710 while CountVectorizer brought us to 0.73201. When using CountVectorizer on the Headlines, our score is performing worse than baseline at 0.731349. "
   ]
  },
  {
   "cell_type": "markdown",
   "metadata": {},
   "source": [
    "# Hashing Vectorizer\n",
    "\n",
    "The hashing vectorizer coverts the text and returns a matrix of token occurences. "
   ]
  },
  {
   "cell_type": "code",
   "execution_count": 20,
   "metadata": {},
   "outputs": [
    {
     "data": {
      "text/plain": [
       "0.7313095333386697"
      ]
     },
     "execution_count": 20,
     "metadata": {},
     "output_type": "execute_result"
    }
   ],
   "source": [
    "#body\n",
    "X_train = df_all[['articleBody']]\n",
    "y_train = stances['Stance']\n",
    "X_test = df_all[['articleBody']]\n",
    "y_test = stances['Stance']\n",
    "\n",
    "hvec_body = HashingVectorizer(stop_words = 'english')\n",
    "\n",
    "train_body_hvec = hvec_body.fit_transform(X_train['articleBody'])\n",
    "test_body_hvec = hvec_body.transform(X_test['articleBody'])\n",
    "\n",
    "lr = LogisticRegression()\n",
    "lr.fit(train_body_hvec, y_train)\n",
    "lr.score(test_body_hvec, y_test)"
   ]
  },
  {
   "cell_type": "code",
   "execution_count": 21,
   "metadata": {},
   "outputs": [
    {
     "data": {
      "text/plain": [
       "0.7313095333386697"
      ]
     },
     "execution_count": 21,
     "metadata": {},
     "output_type": "execute_result"
    }
   ],
   "source": [
    "#headline\n",
    "X_train = df_all[['Headline']]\n",
    "y_train = stances['Stance']\n",
    "X_test = df_all[['Headline']]\n",
    "y_test = stances['Stance']\n",
    "\n",
    "hvec_headline = HashingVectorizer(stop_words = 'english')\n",
    "\n",
    "train_headline_hvec = hvec_headline.fit_transform(X_train['Headline'])\n",
    "test_headline_hvec = hvec_headline.transform(X_test['Headline'])\n",
    "\n",
    "lr = LogisticRegression()\n",
    "lr.fit(train_headline_hvec, y_train)\n",
    "lr.score(test_headline_hvec, y_test)"
   ]
  },
  {
   "cell_type": "code",
   "execution_count": null,
   "metadata": {},
   "outputs": [],
   "source": [
    "X_train = df_all[['articleBody']]\n",
    "y_train = stances['Stance']\n",
    "X_test = df_all[['articleBody']]\n",
    "y_test = stances['Stance']\n",
    "\n",
    "hvec_body = HashingVectorizer(stop_words = 'english')\n",
    "\n",
    "train_body_hvec = hvec_body.fit_transform(X_train['articleBody'])\n",
    "test_body_hvec = hvec_body.transform(X_test['articleBody'])\n",
    "\n",
    "rf = RandomForestClassifier()\n",
    "rf.fit(train_body_hvec, y_train)\n",
    "rf.score(test_body_hvec, y_test)"
   ]
  },
  {
   "cell_type": "code",
   "execution_count": null,
   "metadata": {},
   "outputs": [],
   "source": [
    "X_train = df_all[['Headline']]\n",
    "y_train = stances['Stance']\n",
    "X_test = df_all[['Headline']]\n",
    "y_test = stances['Stance']\n",
    "\n",
    "hvec_headline = HashingVectorizer(stop_words = 'english')\n",
    "\n",
    "train_headline_hvec = hvec_headline.fit_transform(X_train['Headline'])\n",
    "test_headline_hvec = hvec_headline.transform(X_test['Headline'])\n",
    "\n",
    "rf = RandomForestClassifier()\n",
    "rf.fit(train_headline_hvec, y_train)\n",
    "rf.score(test_headline_hvec, y_test)"
   ]
  },
  {
   "cell_type": "markdown",
   "metadata": {},
   "source": [
    "After using HashingVectorizer on the article Body and stances we find that our score does not improve using Logistic Regression. \n",
    "Our baseline is 0.731710 while HashingVectorizer brought us to 0.73131. When using HashingVectorizer on the Headlines, our score is performing worse than baseline at 0.73131. "
   ]
  },
  {
   "cell_type": "markdown",
   "metadata": {},
   "source": [
    "# TF IDF \n",
    "\n",
    "TF IDF returns my text as a matrix of TF IDF features. TF IDF is a statistic that is intended to reflect how important a word is to a document in a collection of texts. Since this one is more statistically related it is projected to give the best score."
   ]
  },
  {
   "cell_type": "code",
   "execution_count": 22,
   "metadata": {},
   "outputs": [
    {
     "data": {
      "text/plain": [
       "0.7313095333386697"
      ]
     },
     "execution_count": 22,
     "metadata": {},
     "output_type": "execute_result"
    }
   ],
   "source": [
    "#body\n",
    "X_train = df_all[['articleBody']]\n",
    "y_train = stances['Stance']\n",
    "X_test = df_all[['articleBody']]\n",
    "y_test = stances['Stance']\n",
    "\n",
    "tvec_body = TfidfVectorizer(stop_words = 'english')\n",
    "\n",
    "train_body_tvec = tvec_body.fit_transform(X_train['articleBody'])\n",
    "test_body_tvec = tvec_body.transform(X_test['articleBody'])\n",
    "\n",
    "lr = LogisticRegression()\n",
    "lr.fit(train_body_tvec, y_train)\n",
    "lr.score(test_body_tvec, y_test)"
   ]
  },
  {
   "cell_type": "code",
   "execution_count": 23,
   "metadata": {},
   "outputs": [
    {
     "data": {
      "text/plain": [
       "0.7313095333386697"
      ]
     },
     "execution_count": 23,
     "metadata": {},
     "output_type": "execute_result"
    }
   ],
   "source": [
    "#headline\n",
    "X_train = df_all[['Headline']]\n",
    "y_train = stances['Stance']\n",
    "X_test = df_all[['Headline']]\n",
    "y_test = stances['Stance']\n",
    "\n",
    "tvec_headline = TfidfVectorizer(stop_words = 'english')\n",
    "\n",
    "train_headline_tvec = tvec_headline.fit_transform(X_train['Headline'])\n",
    "test_headline_tvec = tvec_headline.transform(X_test['Headline'])\n",
    "\n",
    "lr = LogisticRegression()\n",
    "lr.fit(train_headline_tvec, y_train)\n",
    "lr.score(test_headline_tvec, y_test)"
   ]
  },
  {
   "cell_type": "code",
   "execution_count": 24,
   "metadata": {},
   "outputs": [
    {
     "data": {
      "text/plain": [
       "0.7319498919394861"
      ]
     },
     "execution_count": 24,
     "metadata": {},
     "output_type": "execute_result"
    }
   ],
   "source": [
    "#body\n",
    "X_train = df_all[['articleBody']]\n",
    "y_train = stances['Stance']\n",
    "X_test = df_all[['articleBody']]\n",
    "y_test = stances['Stance']\n",
    "\n",
    "tvec_body = TfidfVectorizer(stop_words = 'english')\n",
    "\n",
    "train_body_tvec = tvec_body.fit_transform(X_train['articleBody'])\n",
    "test_body_tvec = tvec_body.transform(X_test['articleBody'])\n",
    "\n",
    "rf = RandomForestClassifier()\n",
    "rf.fit(train_body_cvec, y_train)\n",
    "rf.score(test_body_cvec, y_test)"
   ]
  },
  {
   "cell_type": "code",
   "execution_count": 25,
   "metadata": {},
   "outputs": [
    {
     "data": {
      "text/plain": [
       "0.7313495557512207"
      ]
     },
     "execution_count": 25,
     "metadata": {},
     "output_type": "execute_result"
    }
   ],
   "source": [
    "#headline\n",
    "X_train = df_all[['Headline']]\n",
    "y_train = stances['Stance']\n",
    "X_test = df_all[['Headline']]\n",
    "y_test = stances['Stance']\n",
    "\n",
    "tvec_headline = TfidfVectorizer(stop_words = 'english')\n",
    "\n",
    "train_headline_tvec = tvec_headline.fit_transform(X_train['Headline'])\n",
    "test_headline_tvec = tvec_headline.transform(X_test['Headline'])\n",
    "\n",
    "rf = RandomForestClassifier()\n",
    "rf.fit(train_headline_cvec, y_train)\n",
    "rf.score(test_headline_cvec, y_test)"
   ]
  },
  {
   "cell_type": "markdown",
   "metadata": {},
   "source": [
    "After using TF IDF(term frequency-inverse document frequency) on the article Body and stances we find that our score does not improve using Logistic Regression. \n",
    "Our baseline is 0.73171 while TF IDF brought us to 0.731309. When using TF IDF on the Headlines, our score is performing at 0.731309.  \n",
    "    "
   ]
  },
  {
   "cell_type": "markdown",
   "metadata": {},
   "source": [
    "## Preprocessing for latent Dirichlet allocation\n",
    "\n",
    "Since none of the word processing vectorizers proved to be fruitful in helping improve above baseline, I will be now applying some processing on the text and fit new models. LDA is a statistical model that helps to show why some groups of data are similar. "
   ]
  },
  {
   "cell_type": "code",
   "execution_count": 26,
   "metadata": {},
   "outputs": [],
   "source": [
    "def text_process(text):\n",
    "    '''\n",
    "    Takes in a string of text, then performs the following:\n",
    "        1. Tokenizes and removes punctuation\n",
    "        2. Removes stopwords\n",
    "        3. Stems\n",
    "        4. Returns a list of the cleaned text\n",
    "    '''\n",
    "    if pd.isnull(text):\n",
    "        return []\n",
    "    # tokenizing and removing punctuation\n",
    "    tokenizer = RegexpTokenizer(r'\\w+')\n",
    "    text_processed=tokenizer.tokenize(text)\n",
    "    \n",
    "    # removing any stopwords\n",
    "    text_processed = [word.lower() for word in text_processed if word.lower() not in stopwords.words('english')]\n",
    "    \n",
    "    # stemming\n",
    "    #porter_stemmer = PorterStemmer()\n",
    "    wordnet_lemmatizer = WordNetLemmatizer()\n",
    "    \n",
    "    text_processed = [wordnet_lemmatizer.lemmatize(word) for word in text_processed]\n",
    "    \n",
    "    try:\n",
    "        text_processed.remove('b')\n",
    "    except: \n",
    "        pass\n",
    "\n",
    "    return text_processed ## <-- we're keeping our words distinct"
   ]
  },
  {
   "cell_type": "code",
   "execution_count": 27,
   "metadata": {},
   "outputs": [],
   "source": [
    "df_all['articleBody'] = df_all['articleBody'].apply(text_process)"
   ]
  },
  {
   "cell_type": "code",
   "execution_count": 28,
   "metadata": {
    "scrolled": true
   },
   "outputs": [
    {
     "data": {
      "text/plain": [
       "0    [danny, boyle, directing, untitled, film, seth...\n",
       "1    [danny, boyle, directing, untitled, film, seth...\n",
       "2    [danny, boyle, directing, untitled, film, seth...\n",
       "3    [danny, boyle, directing, untitled, film, seth...\n",
       "4    [danny, boyle, directing, untitled, film, seth...\n",
       "Name: articleBody, dtype: object"
      ]
     },
     "execution_count": 28,
     "metadata": {},
     "output_type": "execute_result"
    }
   ],
   "source": [
    "df_all['articleBody'].head()"
   ]
  },
  {
   "cell_type": "code",
   "execution_count": 29,
   "metadata": {},
   "outputs": [],
   "source": [
    "df_all['Headline'] = df_all['Headline'].apply(text_process)"
   ]
  },
  {
   "cell_type": "code",
   "execution_count": 30,
   "metadata": {
    "scrolled": false
   },
   "outputs": [
    {
     "data": {
      "text/plain": [
       "0    [police, find, mass, graf, least, 15, body, ne...\n",
       "1           [seth, rogen, play, apple, steve, wozniak]\n",
       "2    [mexico, police, find, mass, grave, near, site...\n",
       "3    [mexico, say, missing, student, found, first, ...\n",
       "4          [new, io, 8, bug, delete, icloud, document]\n",
       "Name: Headline, dtype: object"
      ]
     },
     "execution_count": 30,
     "metadata": {},
     "output_type": "execute_result"
    }
   ],
   "source": [
    "df_all['Headline'].head()"
   ]
  },
  {
   "cell_type": "markdown",
   "metadata": {},
   "source": [
    "## Fit LDA Model"
   ]
  },
  {
   "cell_type": "code",
   "execution_count": 31,
   "metadata": {},
   "outputs": [],
   "source": [
    "from gensim import corpora, models\n",
    "import pyLDAvis.gensim\n",
    "\n",
    "pyLDAvis.enable_notebook()\n",
    "\n",
    "np.random.seed(42)"
   ]
  },
  {
   "cell_type": "markdown",
   "metadata": {},
   "source": [
    "## latent Dirichlet allocation on Article Body\n",
    "\n",
    "Visualizing the similarities between topics in the article bodies. "
   ]
  },
  {
   "cell_type": "code",
   "execution_count": 32,
   "metadata": {},
   "outputs": [],
   "source": [
    "dictionary = corpora.Dictionary(df_all['articleBody'])\n",
    "\n",
    "corpus = [dictionary.doc2bow(text) for text in df_all['articleBody']]\n",
    "\n",
    "ldamodel = models.ldamodel.LdaModel(corpus,                     # pass in our corpus\n",
    "                                    id2word = dictionary,       # matches each word to its \"number\" or \"spot\" in the dictionary\n",
    "                                    num_topics = 20,             # number of topics T to find\n",
    "                                    passes = 5,                 # number of passes through corpus; similar to number of epochs\n",
    "                                    minimum_probability = 0.01) # only include topics above this probability threshold"
   ]
  },
  {
   "cell_type": "code",
   "execution_count": 33,
   "metadata": {
    "scrolled": true
   },
   "outputs": [
    {
     "data": {
      "text/html": [
       "\n",
       "<link rel=\"stylesheet\" type=\"text/css\" href=\"https://cdn.rawgit.com/bmabey/pyLDAvis/files/ldavis.v1.0.0.css\">\n",
       "\n",
       "\n",
       "<div id=\"ldavis_el3379060730897448929389269\"></div>\n",
       "<script type=\"text/javascript\">\n",
       "\n",
       "var ldavis_el3379060730897448929389269_data = {\"mdsDat\": {\"Freq\": [8.47281265258789, 7.594972133636475, 7.311624526977539, 6.791107177734375, 6.466278553009033, 5.406446933746338, 5.100555896759033, 4.986381530761719, 4.9386444091796875, 4.882309436798096, 4.623836040496826, 4.126402378082275, 4.123350620269775, 4.007890701293945, 3.879488945007324, 3.8189423084259033, 3.8083605766296387, 3.591947555541992, 3.3998138904571533, 2.6688342094421387], \"cluster\": [1, 1, 1, 1, 1, 1, 1, 1, 1, 1, 1, 1, 1, 1, 1, 1, 1, 1, 1, 1], \"topics\": [1, 2, 3, 4, 5, 6, 7, 8, 9, 10, 11, 12, 13, 14, 15, 16, 17, 18, 19, 20], \"x\": [-0.2268779973815987, 0.11229297742939255, 0.08354115855160248, 0.10850627740347076, -0.17405767056417562, 0.1870851464310547, -0.11205307832534224, -0.21852960032197277, 0.11755838494678511, -0.059651547298264794, -0.11173280882043736, 0.14379557020415823, -0.024209287874090758, 0.10591551926150282, 0.10331663233312022, 0.013767272869203396, 0.1297760756170623, 0.10249982029481601, -0.10992860555019175, -0.17101423920609612], \"y\": [-0.01911080531850274, -0.00042210809129345894, -0.02156821910134578, 0.080758376357624, -0.042056531377517636, -0.06007120920549781, 0.0492672337872092, -0.08403905614987552, 0.017824333137923302, -0.10093015883456963, -0.08045423115360191, -0.016094277970110125, 0.29469236815557215, 0.023174348043462828, -0.14187566016416686, 0.04242766697032954, -0.04418814438500374, -0.03254533112434338, 0.26160791355225566, -0.12639650712854764]}, \"tinfo\": {\"Category\": [\"Default\", \"Default\", \"Default\", \"Default\", \"Default\", \"Default\", \"Default\", \"Default\", \"Default\", \"Default\", \"Default\", \"Default\", \"Default\", \"Default\", \"Default\", \"Default\", \"Default\", \"Default\", \"Default\", \"Default\", \"Default\", \"Default\", \"Default\", \"Default\", \"Default\", \"Default\", \"Default\", \"Default\", \"Default\", \"Default\", \"Topic1\", \"Topic1\", \"Topic1\", \"Topic1\", \"Topic1\", \"Topic1\", \"Topic1\", \"Topic1\", \"Topic1\", \"Topic1\", \"Topic1\", \"Topic1\", \"Topic1\", \"Topic1\", \"Topic1\", \"Topic1\", \"Topic1\", \"Topic1\", \"Topic1\", \"Topic1\", \"Topic1\", \"Topic1\", \"Topic1\", \"Topic1\", \"Topic1\", \"Topic1\", \"Topic1\", \"Topic1\", \"Topic1\", \"Topic1\", \"Topic1\", \"Topic1\", \"Topic1\", \"Topic1\", \"Topic1\", \"Topic1\", \"Topic1\", \"Topic1\", \"Topic1\", \"Topic1\", \"Topic1\", \"Topic1\", \"Topic1\", \"Topic1\", \"Topic1\", \"Topic1\", \"Topic1\", \"Topic1\", \"Topic1\", \"Topic1\", \"Topic1\", \"Topic1\", \"Topic1\", \"Topic1\", \"Topic1\", \"Topic1\", \"Topic1\", \"Topic1\", \"Topic1\", \"Topic1\", \"Topic1\", \"Topic1\", \"Topic1\", \"Topic1\", \"Topic1\", \"Topic1\", \"Topic1\", \"Topic1\", \"Topic1\", \"Topic2\", \"Topic2\", \"Topic2\", \"Topic2\", \"Topic2\", \"Topic2\", \"Topic2\", \"Topic2\", \"Topic2\", \"Topic2\", \"Topic2\", \"Topic2\", \"Topic2\", \"Topic2\", \"Topic2\", \"Topic2\", \"Topic2\", \"Topic2\", \"Topic2\", \"Topic2\", \"Topic2\", \"Topic2\", \"Topic2\", \"Topic2\", \"Topic2\", \"Topic2\", \"Topic2\", \"Topic2\", \"Topic2\", \"Topic2\", \"Topic2\", \"Topic2\", \"Topic2\", \"Topic2\", \"Topic2\", \"Topic2\", \"Topic2\", \"Topic2\", \"Topic2\", \"Topic2\", \"Topic2\", \"Topic2\", \"Topic2\", \"Topic2\", \"Topic2\", \"Topic2\", \"Topic2\", \"Topic2\", \"Topic2\", \"Topic2\", \"Topic2\", \"Topic2\", \"Topic2\", \"Topic2\", \"Topic2\", \"Topic2\", \"Topic2\", \"Topic2\", \"Topic2\", \"Topic2\", \"Topic2\", \"Topic2\", \"Topic2\", \"Topic2\", \"Topic2\", \"Topic2\", \"Topic2\", \"Topic2\", \"Topic2\", \"Topic2\", \"Topic2\", \"Topic2\", \"Topic3\", \"Topic3\", \"Topic3\", \"Topic3\", \"Topic3\", \"Topic3\", \"Topic3\", \"Topic3\", \"Topic3\", \"Topic3\", \"Topic3\", \"Topic3\", \"Topic3\", \"Topic3\", \"Topic3\", \"Topic3\", \"Topic3\", \"Topic3\", \"Topic3\", \"Topic3\", \"Topic3\", \"Topic3\", \"Topic3\", \"Topic3\", \"Topic3\", \"Topic3\", \"Topic3\", \"Topic3\", \"Topic3\", \"Topic3\", \"Topic3\", \"Topic3\", \"Topic3\", \"Topic3\", \"Topic3\", \"Topic3\", \"Topic3\", \"Topic3\", \"Topic3\", \"Topic3\", \"Topic3\", \"Topic3\", \"Topic3\", \"Topic3\", \"Topic3\", \"Topic3\", \"Topic3\", \"Topic3\", \"Topic3\", \"Topic3\", \"Topic3\", \"Topic3\", \"Topic3\", \"Topic3\", \"Topic3\", \"Topic3\", \"Topic3\", \"Topic3\", \"Topic3\", \"Topic3\", \"Topic3\", \"Topic3\", \"Topic3\", \"Topic3\", \"Topic3\", \"Topic3\", \"Topic3\", \"Topic3\", \"Topic3\", \"Topic3\", \"Topic3\", \"Topic3\", \"Topic3\", \"Topic3\", \"Topic3\", \"Topic3\", \"Topic3\", \"Topic3\", \"Topic4\", \"Topic4\", \"Topic4\", \"Topic4\", \"Topic4\", \"Topic4\", \"Topic4\", \"Topic4\", \"Topic4\", \"Topic4\", \"Topic4\", \"Topic4\", \"Topic4\", \"Topic4\", \"Topic4\", \"Topic4\", \"Topic4\", \"Topic4\", \"Topic4\", \"Topic4\", \"Topic4\", \"Topic4\", \"Topic4\", \"Topic4\", \"Topic4\", \"Topic4\", \"Topic4\", \"Topic4\", \"Topic4\", \"Topic4\", \"Topic4\", \"Topic4\", \"Topic4\", \"Topic4\", \"Topic4\", \"Topic4\", \"Topic4\", \"Topic4\", \"Topic4\", \"Topic4\", \"Topic4\", \"Topic4\", \"Topic4\", \"Topic4\", \"Topic4\", \"Topic4\", \"Topic4\", \"Topic4\", \"Topic4\", \"Topic4\", \"Topic4\", \"Topic4\", \"Topic4\", \"Topic4\", \"Topic4\", \"Topic4\", \"Topic4\", \"Topic4\", \"Topic4\", \"Topic4\", \"Topic4\", \"Topic4\", \"Topic4\", \"Topic4\", \"Topic4\", \"Topic4\", \"Topic4\", \"Topic4\", \"Topic4\", \"Topic4\", \"Topic4\", \"Topic4\", \"Topic4\", \"Topic4\", \"Topic4\", \"Topic4\", \"Topic4\", \"Topic4\", \"Topic4\", \"Topic4\", \"Topic4\", \"Topic4\", \"Topic4\", \"Topic4\", \"Topic4\", \"Topic5\", \"Topic5\", \"Topic5\", \"Topic5\", \"Topic5\", \"Topic5\", \"Topic5\", \"Topic5\", \"Topic5\", \"Topic5\", \"Topic5\", \"Topic5\", \"Topic5\", \"Topic5\", \"Topic5\", \"Topic5\", \"Topic5\", \"Topic5\", \"Topic5\", \"Topic5\", \"Topic5\", \"Topic5\", \"Topic5\", \"Topic5\", \"Topic5\", \"Topic5\", \"Topic5\", \"Topic5\", \"Topic5\", \"Topic5\", \"Topic5\", \"Topic5\", \"Topic5\", \"Topic5\", \"Topic5\", \"Topic5\", \"Topic5\", \"Topic5\", \"Topic5\", \"Topic5\", \"Topic5\", \"Topic5\", \"Topic5\", \"Topic5\", \"Topic5\", \"Topic5\", \"Topic5\", \"Topic5\", \"Topic5\", \"Topic5\", \"Topic5\", \"Topic5\", \"Topic5\", \"Topic5\", \"Topic5\", \"Topic5\", \"Topic5\", \"Topic5\", \"Topic5\", \"Topic5\", \"Topic5\", \"Topic5\", \"Topic5\", \"Topic5\", \"Topic5\", \"Topic5\", \"Topic5\", \"Topic5\", \"Topic5\", \"Topic5\", \"Topic6\", \"Topic6\", \"Topic6\", \"Topic6\", \"Topic6\", \"Topic6\", \"Topic6\", \"Topic6\", \"Topic6\", \"Topic6\", \"Topic6\", \"Topic6\", \"Topic6\", \"Topic6\", \"Topic6\", \"Topic6\", \"Topic6\", \"Topic6\", \"Topic6\", \"Topic6\", \"Topic6\", \"Topic6\", \"Topic6\", \"Topic6\", \"Topic6\", \"Topic6\", \"Topic6\", \"Topic6\", \"Topic6\", \"Topic6\", \"Topic6\", \"Topic6\", \"Topic6\", \"Topic6\", \"Topic6\", \"Topic6\", \"Topic6\", \"Topic6\", \"Topic6\", \"Topic6\", \"Topic6\", \"Topic6\", \"Topic6\", \"Topic6\", \"Topic6\", \"Topic6\", \"Topic6\", \"Topic6\", \"Topic6\", \"Topic6\", \"Topic6\", \"Topic6\", \"Topic6\", \"Topic6\", \"Topic6\", \"Topic6\", \"Topic6\", \"Topic6\", \"Topic6\", \"Topic6\", \"Topic6\", \"Topic6\", \"Topic6\", \"Topic7\", \"Topic7\", \"Topic7\", \"Topic7\", \"Topic7\", \"Topic7\", \"Topic7\", \"Topic7\", \"Topic7\", \"Topic7\", \"Topic7\", \"Topic7\", \"Topic7\", \"Topic7\", \"Topic7\", \"Topic7\", \"Topic7\", \"Topic7\", \"Topic7\", \"Topic7\", \"Topic7\", \"Topic7\", \"Topic7\", \"Topic7\", \"Topic7\", \"Topic7\", \"Topic7\", \"Topic7\", \"Topic7\", \"Topic7\", \"Topic7\", \"Topic7\", \"Topic7\", \"Topic7\", \"Topic7\", \"Topic7\", \"Topic7\", \"Topic7\", \"Topic7\", \"Topic7\", \"Topic7\", \"Topic7\", \"Topic7\", \"Topic7\", \"Topic7\", \"Topic7\", \"Topic7\", \"Topic7\", \"Topic7\", \"Topic7\", \"Topic7\", \"Topic7\", \"Topic7\", \"Topic7\", \"Topic7\", \"Topic7\", \"Topic7\", \"Topic7\", \"Topic7\", \"Topic7\", \"Topic7\", \"Topic7\", \"Topic7\", \"Topic7\", \"Topic7\", \"Topic7\", \"Topic7\", \"Topic8\", \"Topic8\", \"Topic8\", \"Topic8\", \"Topic8\", \"Topic8\", \"Topic8\", \"Topic8\", \"Topic8\", \"Topic8\", \"Topic8\", \"Topic8\", \"Topic8\", \"Topic8\", \"Topic8\", \"Topic8\", \"Topic8\", \"Topic8\", \"Topic8\", \"Topic8\", \"Topic8\", \"Topic8\", \"Topic8\", \"Topic8\", \"Topic8\", \"Topic8\", \"Topic8\", \"Topic8\", \"Topic8\", \"Topic8\", \"Topic8\", \"Topic8\", \"Topic8\", \"Topic8\", \"Topic8\", \"Topic8\", \"Topic8\", \"Topic8\", \"Topic8\", \"Topic8\", \"Topic8\", \"Topic8\", \"Topic8\", \"Topic8\", \"Topic8\", \"Topic8\", \"Topic8\", \"Topic8\", \"Topic8\", \"Topic8\", \"Topic8\", \"Topic8\", \"Topic8\", \"Topic8\", \"Topic8\", \"Topic8\", \"Topic8\", \"Topic8\", \"Topic8\", \"Topic8\", \"Topic8\", \"Topic8\", \"Topic8\", \"Topic8\", \"Topic9\", \"Topic9\", \"Topic9\", \"Topic9\", \"Topic9\", \"Topic9\", \"Topic9\", \"Topic9\", \"Topic9\", \"Topic9\", \"Topic9\", \"Topic9\", \"Topic9\", \"Topic9\", \"Topic9\", \"Topic9\", \"Topic9\", \"Topic9\", \"Topic9\", \"Topic9\", \"Topic9\", \"Topic9\", \"Topic9\", \"Topic9\", \"Topic9\", \"Topic9\", \"Topic9\", \"Topic9\", \"Topic9\", \"Topic9\", \"Topic9\", \"Topic9\", \"Topic9\", \"Topic9\", \"Topic9\", \"Topic9\", \"Topic9\", \"Topic9\", \"Topic9\", \"Topic9\", \"Topic9\", \"Topic9\", \"Topic9\", \"Topic9\", \"Topic9\", \"Topic9\", \"Topic9\", \"Topic9\", \"Topic9\", \"Topic9\", \"Topic9\", \"Topic9\", \"Topic9\", \"Topic9\", \"Topic9\", \"Topic9\", \"Topic9\", \"Topic9\", \"Topic9\", \"Topic9\", \"Topic9\", \"Topic9\", \"Topic9\", \"Topic9\", \"Topic9\", \"Topic9\", \"Topic9\", \"Topic9\", \"Topic9\", \"Topic9\", \"Topic9\", \"Topic9\", \"Topic9\", \"Topic9\", \"Topic10\", \"Topic10\", \"Topic10\", \"Topic10\", \"Topic10\", \"Topic10\", \"Topic10\", \"Topic10\", \"Topic10\", \"Topic10\", \"Topic10\", \"Topic10\", \"Topic10\", \"Topic10\", \"Topic10\", \"Topic10\", \"Topic10\", \"Topic10\", \"Topic10\", \"Topic10\", \"Topic10\", \"Topic10\", \"Topic10\", \"Topic10\", \"Topic10\", \"Topic10\", \"Topic10\", \"Topic10\", \"Topic10\", \"Topic10\", \"Topic10\", \"Topic10\", \"Topic10\", \"Topic10\", \"Topic10\", \"Topic10\", \"Topic10\", \"Topic10\", \"Topic10\", \"Topic10\", \"Topic10\", \"Topic10\", \"Topic10\", \"Topic10\", \"Topic10\", \"Topic10\", \"Topic10\", \"Topic10\", \"Topic10\", \"Topic10\", \"Topic10\", \"Topic10\", \"Topic10\", \"Topic10\", \"Topic10\", \"Topic10\", \"Topic10\", \"Topic10\", \"Topic10\", \"Topic10\", \"Topic11\", \"Topic11\", \"Topic11\", \"Topic11\", \"Topic11\", \"Topic11\", \"Topic11\", \"Topic11\", \"Topic11\", \"Topic11\", \"Topic11\", \"Topic11\", \"Topic11\", \"Topic11\", \"Topic11\", \"Topic11\", \"Topic11\", \"Topic11\", \"Topic11\", \"Topic11\", \"Topic11\", \"Topic11\", \"Topic11\", \"Topic11\", \"Topic11\", \"Topic11\", \"Topic11\", \"Topic11\", \"Topic11\", \"Topic11\", \"Topic11\", \"Topic11\", \"Topic11\", \"Topic11\", \"Topic11\", \"Topic11\", \"Topic11\", \"Topic11\", \"Topic11\", \"Topic11\", \"Topic11\", \"Topic11\", \"Topic11\", \"Topic11\", \"Topic11\", \"Topic11\", \"Topic11\", \"Topic11\", \"Topic11\", \"Topic11\", \"Topic11\", \"Topic11\", \"Topic11\", \"Topic11\", \"Topic11\", \"Topic11\", \"Topic11\", \"Topic11\", \"Topic11\", \"Topic11\", \"Topic12\", \"Topic12\", \"Topic12\", \"Topic12\", \"Topic12\", \"Topic12\", \"Topic12\", \"Topic12\", \"Topic12\", \"Topic12\", \"Topic12\", \"Topic12\", \"Topic12\", \"Topic12\", \"Topic12\", \"Topic12\", \"Topic12\", \"Topic12\", \"Topic12\", \"Topic12\", \"Topic12\", \"Topic12\", \"Topic12\", \"Topic12\", \"Topic12\", \"Topic12\", \"Topic12\", \"Topic12\", \"Topic12\", \"Topic12\", \"Topic12\", \"Topic12\", \"Topic12\", \"Topic12\", \"Topic12\", \"Topic12\", \"Topic12\", \"Topic12\", \"Topic12\", \"Topic12\", \"Topic12\", \"Topic12\", \"Topic12\", \"Topic12\", \"Topic12\", \"Topic12\", \"Topic12\", \"Topic12\", \"Topic12\", \"Topic12\", \"Topic12\", \"Topic12\", \"Topic12\", \"Topic12\", \"Topic12\", \"Topic12\", \"Topic12\", \"Topic12\", \"Topic12\", \"Topic12\", \"Topic12\", \"Topic12\", \"Topic12\", \"Topic12\", \"Topic13\", \"Topic13\", \"Topic13\", \"Topic13\", \"Topic13\", \"Topic13\", \"Topic13\", \"Topic13\", \"Topic13\", \"Topic13\", \"Topic13\", \"Topic13\", \"Topic13\", \"Topic13\", \"Topic13\", \"Topic13\", \"Topic13\", \"Topic13\", \"Topic13\", \"Topic13\", \"Topic13\", \"Topic13\", \"Topic13\", \"Topic13\", \"Topic13\", \"Topic13\", \"Topic13\", \"Topic13\", \"Topic13\", \"Topic13\", \"Topic13\", \"Topic13\", \"Topic13\", \"Topic13\", \"Topic13\", \"Topic13\", \"Topic13\", \"Topic13\", \"Topic13\", \"Topic13\", \"Topic13\", \"Topic13\", \"Topic13\", \"Topic13\", \"Topic13\", \"Topic13\", \"Topic13\", \"Topic13\", \"Topic13\", \"Topic13\", \"Topic13\", \"Topic13\", \"Topic13\", \"Topic13\", \"Topic13\", \"Topic13\", \"Topic13\", \"Topic13\", \"Topic13\", \"Topic13\", \"Topic13\", \"Topic13\", \"Topic13\", \"Topic13\", \"Topic14\", \"Topic14\", \"Topic14\", \"Topic14\", \"Topic14\", \"Topic14\", \"Topic14\", \"Topic14\", \"Topic14\", \"Topic14\", \"Topic14\", \"Topic14\", \"Topic14\", \"Topic14\", \"Topic14\", \"Topic14\", \"Topic14\", \"Topic14\", \"Topic14\", \"Topic14\", \"Topic14\", \"Topic14\", \"Topic14\", \"Topic14\", \"Topic14\", \"Topic14\", \"Topic14\", \"Topic14\", \"Topic14\", \"Topic14\", \"Topic14\", \"Topic14\", \"Topic14\", \"Topic14\", \"Topic14\", \"Topic14\", \"Topic14\", \"Topic14\", \"Topic14\", \"Topic14\", \"Topic14\", \"Topic14\", \"Topic14\", \"Topic14\", \"Topic14\", \"Topic14\", \"Topic14\", \"Topic14\", \"Topic14\", \"Topic14\", \"Topic14\", \"Topic14\", \"Topic14\", \"Topic14\", \"Topic14\", \"Topic14\", \"Topic14\", \"Topic14\", \"Topic14\", \"Topic14\", \"Topic14\", \"Topic15\", \"Topic15\", \"Topic15\", \"Topic15\", \"Topic15\", \"Topic15\", \"Topic15\", \"Topic15\", \"Topic15\", \"Topic15\", \"Topic15\", \"Topic15\", \"Topic15\", \"Topic15\", \"Topic15\", \"Topic15\", \"Topic15\", \"Topic15\", \"Topic15\", \"Topic15\", \"Topic15\", \"Topic15\", \"Topic15\", \"Topic15\", \"Topic15\", \"Topic15\", \"Topic15\", \"Topic15\", \"Topic15\", \"Topic15\", \"Topic15\", \"Topic15\", \"Topic15\", \"Topic15\", \"Topic15\", \"Topic15\", \"Topic15\", \"Topic15\", \"Topic15\", \"Topic15\", \"Topic15\", \"Topic15\", \"Topic15\", \"Topic15\", \"Topic15\", \"Topic15\", \"Topic15\", \"Topic15\", \"Topic15\", \"Topic15\", \"Topic15\", \"Topic15\", \"Topic15\", \"Topic15\", \"Topic15\", \"Topic15\", \"Topic15\", \"Topic15\", \"Topic16\", \"Topic16\", \"Topic16\", \"Topic16\", \"Topic16\", \"Topic16\", \"Topic16\", \"Topic16\", \"Topic16\", \"Topic16\", \"Topic16\", \"Topic16\", \"Topic16\", \"Topic16\", \"Topic16\", \"Topic16\", \"Topic16\", \"Topic16\", \"Topic16\", \"Topic16\", \"Topic16\", \"Topic16\", \"Topic16\", \"Topic16\", \"Topic16\", \"Topic16\", \"Topic16\", \"Topic16\", \"Topic16\", \"Topic16\", \"Topic16\", \"Topic16\", \"Topic16\", \"Topic16\", \"Topic16\", \"Topic16\", \"Topic16\", \"Topic16\", \"Topic16\", \"Topic16\", \"Topic16\", \"Topic16\", \"Topic16\", \"Topic16\", \"Topic16\", \"Topic16\", \"Topic16\", \"Topic16\", \"Topic16\", \"Topic16\", \"Topic16\", \"Topic16\", \"Topic16\", \"Topic16\", \"Topic16\", \"Topic16\", \"Topic16\", \"Topic17\", \"Topic17\", \"Topic17\", \"Topic17\", \"Topic17\", \"Topic17\", \"Topic17\", \"Topic17\", \"Topic17\", \"Topic17\", \"Topic17\", \"Topic17\", \"Topic17\", \"Topic17\", \"Topic17\", \"Topic17\", \"Topic17\", \"Topic17\", \"Topic17\", \"Topic17\", \"Topic17\", \"Topic17\", \"Topic17\", \"Topic17\", \"Topic17\", \"Topic17\", \"Topic17\", \"Topic17\", \"Topic17\", \"Topic17\", \"Topic17\", \"Topic17\", \"Topic17\", \"Topic17\", \"Topic17\", \"Topic17\", \"Topic17\", \"Topic17\", \"Topic17\", \"Topic17\", \"Topic17\", \"Topic17\", \"Topic17\", \"Topic17\", \"Topic17\", \"Topic17\", \"Topic17\", \"Topic17\", \"Topic17\", \"Topic17\", \"Topic17\", \"Topic17\", \"Topic17\", \"Topic17\", \"Topic17\", \"Topic17\", \"Topic17\", \"Topic17\", \"Topic17\", \"Topic18\", \"Topic18\", \"Topic18\", \"Topic18\", \"Topic18\", \"Topic18\", \"Topic18\", \"Topic18\", \"Topic18\", \"Topic18\", \"Topic18\", \"Topic18\", \"Topic18\", \"Topic18\", \"Topic18\", \"Topic18\", \"Topic18\", \"Topic18\", \"Topic18\", \"Topic18\", \"Topic18\", \"Topic18\", \"Topic18\", \"Topic18\", \"Topic18\", \"Topic18\", \"Topic18\", \"Topic18\", \"Topic18\", \"Topic18\", \"Topic18\", \"Topic18\", \"Topic18\", \"Topic18\", \"Topic18\", \"Topic18\", \"Topic18\", \"Topic18\", \"Topic18\", \"Topic18\", \"Topic18\", \"Topic18\", \"Topic18\", \"Topic18\", \"Topic18\", \"Topic18\", \"Topic18\", \"Topic18\", \"Topic18\", \"Topic18\", \"Topic18\", \"Topic18\", \"Topic18\", \"Topic18\", \"Topic18\", \"Topic18\", \"Topic18\", \"Topic18\", \"Topic18\", \"Topic18\", \"Topic18\", \"Topic18\", \"Topic18\", \"Topic18\", \"Topic18\", \"Topic18\", \"Topic19\", \"Topic19\", \"Topic19\", \"Topic19\", \"Topic19\", \"Topic19\", \"Topic19\", \"Topic19\", \"Topic19\", \"Topic19\", \"Topic19\", \"Topic19\", \"Topic19\", \"Topic19\", \"Topic19\", \"Topic19\", \"Topic19\", \"Topic19\", \"Topic19\", \"Topic19\", \"Topic19\", \"Topic19\", \"Topic19\", \"Topic19\", \"Topic19\", \"Topic19\", \"Topic19\", \"Topic19\", \"Topic19\", \"Topic19\", \"Topic19\", \"Topic19\", \"Topic19\", \"Topic19\", \"Topic19\", \"Topic19\", \"Topic19\", \"Topic19\", \"Topic19\", \"Topic19\", \"Topic19\", \"Topic19\", \"Topic19\", \"Topic19\", \"Topic19\", \"Topic19\", \"Topic19\", \"Topic19\", \"Topic19\", \"Topic19\", \"Topic19\", \"Topic19\", \"Topic19\", \"Topic19\", \"Topic19\", \"Topic20\", \"Topic20\", \"Topic20\", \"Topic20\", \"Topic20\", \"Topic20\", \"Topic20\", \"Topic20\", \"Topic20\", \"Topic20\", \"Topic20\", \"Topic20\", \"Topic20\", \"Topic20\", \"Topic20\", \"Topic20\", \"Topic20\", \"Topic20\", \"Topic20\", \"Topic20\", \"Topic20\", \"Topic20\", \"Topic20\", \"Topic20\", \"Topic20\", \"Topic20\", \"Topic20\", \"Topic20\", \"Topic20\", \"Topic20\", \"Topic20\", \"Topic20\", \"Topic20\", \"Topic20\", \"Topic20\", \"Topic20\", \"Topic20\", \"Topic20\", \"Topic20\", \"Topic20\", \"Topic20\", \"Topic20\", \"Topic20\", \"Topic20\", \"Topic20\", \"Topic20\", \"Topic20\", \"Topic20\", \"Topic20\", \"Topic20\", \"Topic20\", \"Topic20\", \"Topic20\", \"Topic20\", \"Topic20\", \"Topic20\", \"Topic20\", \"Topic20\", \"Topic20\"], \"Freq\": [44045.0, 30442.0, 22237.0, 28784.0, 46117.0, 34001.0, 20626.0, 24473.0, 16882.0, 17942.0, 13910.0, 130181.0, 26540.0, 41793.0, 17448.0, 10801.0, 47036.0, 12495.0, 22614.0, 20635.0, 29728.0, 19260.0, 16631.0, 33140.0, 13616.0, 10156.0, 10093.0, 10183.0, 11492.0, 10498.0, 5753.1845703125, 3812.457275390625, 3797.172607421875, 3067.362060546875, 2763.402099609375, 2666.32177734375, 2438.081787109375, 2369.72900390625, 2198.117431640625, 1759.7901611328125, 1740.4833984375, 1555.6131591796875, 1491.207275390625, 1451.703369140625, 1366.126953125, 1316.14697265625, 1199.5240478515625, 1180.6885986328125, 1160.928955078125, 1155.3353271484375, 1094.4248046875, 1047.454833984375, 1041.652587890625, 1026.8892822265625, 1001.5883178710938, 905.7808837890625, 1129.4482421875, 851.256103515625, 843.781982421875, 826.8283081054688, 3462.281005859375, 3154.503173828125, 1352.440185546875, 16697.3984375, 2018.8916015625, 3065.21923828125, 1635.1883544921875, 5444.78564453125, 8681.640625, 3175.921630859375, 3064.3681640625, 3066.044677734375, 7941.7822265625, 1921.1546630859375, 17839.16796875, 4807.13916015625, 6858.6953125, 19519.62109375, 2700.261962890625, 5382.892578125, 6719.076171875, 11861.388671875, 10731.255859375, 10106.083984375, 5456.693359375, 13332.169921875, 22820.572265625, 8114.3388671875, 6617.92724609375, 6282.82177734375, 4776.3251953125, 5960.18701171875, 5521.4853515625, 5613.80908203125, 4443.82080078125, 4238.77197265625, 3680.425537109375, 4174.49169921875, 3820.75048828125, 2813.725830078125, 2650.5068359375, 2533.452880859375, 2342.7177734375, 2151.012451171875, 1996.2276611328125, 1950.2440185546875, 1818.384765625, 3071.9677734375, 1716.021240234375, 1600.8447265625, 1690.247314453125, 1485.114501953125, 1417.7464599609375, 1623.5928955078125, 1224.4383544921875, 1218.428466796875, 1125.105712890625, 1083.2806396484375, 1036.8369140625, 943.3624877929688, 924.5737915039062, 909.6237182617188, 893.7588500976562, 904.5996704101562, 843.9373779296875, 837.2518920898438, 827.4620971679688, 803.1492309570312, 783.0313720703125, 1792.295166015625, 1678.4063720703125, 1490.9891357421875, 1585.6834716796875, 1783.998779296875, 1243.8524169921875, 2337.23193359375, 2481.9052734375, 2339.559326171875, 1459.058837890625, 5101.91845703125, 1778.6571044921875, 15506.7578125, 1711.455810546875, 2705.131591796875, 2053.925537109375, 4308.53857421875, 5118.77978515625, 4946.2158203125, 8655.9189453125, 2166.757080078125, 2528.723876953125, 5786.736328125, 2444.39013671875, 5786.7763671875, 4091.533203125, 2304.03759765625, 4260.86767578125, 2259.638671875, 7017.546875, 3901.44189453125, 2422.5107421875, 3017.336669921875, 3101.326171875, 3025.34521484375, 2565.614501953125, 3403.608154296875, 2971.258056640625, 2770.815673828125, 2513.186279296875, 2797.06982421875, 2717.236572265625, 2151.542724609375, 2060.447021484375, 1890.689208984375, 1652.5264892578125, 1646.267578125, 1589.6561279296875, 1478.3275146484375, 1313.26953125, 1295.3172607421875, 1203.134033203125, 1172.2099609375, 1161.5325927734375, 1110.1514892578125, 1136.219970703125, 1078.038330078125, 1074.7789306640625, 1056.9921875, 911.2265014648438, 973.5488891601562, 903.9847412109375, 885.8812255859375, 820.7576293945312, 792.919189453125, 741.5296630859375, 722.2777099609375, 716.2583618164062, 618.4015502929688, 609.8126220703125, 606.9795532226562, 570.1272583007812, 2566.404052734375, 988.6138305664062, 1081.7681884765625, 793.8592529296875, 2640.30126953125, 2258.067626953125, 2806.2529296875, 1046.899658203125, 1267.35595703125, 1620.68017578125, 3674.486328125, 3598.937255859375, 11262.2841796875, 4627.48828125, 1608.8033447265625, 6372.255859375, 4302.921875, 3764.446044921875, 5017.1796875, 1835.254150390625, 1665.1065673828125, 2830.365966796875, 1730.92626953125, 2191.079345703125, 10675.921875, 4101.5048828125, 2565.1640625, 4077.354736328125, 4110.77783203125, 6263.99853515625, 5197.7353515625, 9593.7822265625, 5990.70751953125, 3563.835693359375, 6014.7421875, 3917.223876953125, 4180.01611328125, 6867.05322265625, 3299.310546875, 3837.0009765625, 2917.986083984375, 3050.9423828125, 3080.983154296875, 3093.69140625, 3692.056640625, 3072.612548828125, 3055.420166015625, 3022.4482421875, 3332.853515625, 2406.46630859375, 2289.439697265625, 2017.908203125, 1162.7581787109375, 1648.125244140625, 889.770263671875, 855.451416015625, 825.238525390625, 795.9691772460938, 1532.32421875, 716.6624145507812, 667.9141845703125, 649.6321411132812, 1264.3446044921875, 615.2636108398438, 611.4307250976562, 593.5200805664062, 575.6187133789062, 556.2044067382812, 544.7861938476562, 768.3331909179688, 477.76495361328125, 492.3695068359375, 419.7034912109375, 412.4062194824219, 382.26446533203125, 376.8149108886719, 376.2275085449219, 359.7740173339844, 7394.142578125, 970.2742919921875, 614.93359375, 396.7679443359375, 970.3090209960938, 908.9901123046875, 926.234619140625, 701.7076416015625, 941.980712890625, 3183.2275390625, 5806.6728515625, 1896.3236083984375, 2166.502197265625, 1204.5274658203125, 1535.560546875, 1409.9849853515625, 4347.0302734375, 1120.0615234375, 2677.02294921875, 1279.874267578125, 4334.296875, 3542.88623046875, 1380.54638671875, 2622.381103515625, 2214.211669921875, 2169.150390625, 2786.662353515625, 2297.111328125, 1886.7803955078125, 11213.8583984375, 7992.03369140625, 7977.4462890625, 3226.772216796875, 2216.39013671875, 2703.8818359375, 5041.5927734375, 4302.43408203125, 3921.5419921875, 5738.03564453125, 3783.873779296875, 3869.787353515625, 4401.60595703125, 2813.48046875, 3907.68994140625, 2621.4658203125, 2520.033935546875, 3702.81787109375, 2876.13671875, 3181.429443359375, 3244.007568359375, 3022.42431640625, 3154.134033203125, 2972.33349609375, 2736.646240234375, 2743.367919921875, 16881.970703125, 5372.5703125, 4203.013671875, 3030.334716796875, 2271.2275390625, 1729.0975341796875, 1701.283203125, 1325.1748046875, 1258.963134765625, 1184.333251953125, 986.0548095703125, 902.481201171875, 893.8732299804688, 866.0274047851562, 810.7088012695312, 803.2332763671875, 797.8485107421875, 787.635498046875, 735.8861083984375, 727.979736328125, 725.65185546875, 690.9990234375, 643.802490234375, 616.1212768554688, 555.0075073242188, 538.4143676757812, 534.0444946289062, 518.125732421875, 516.6867065429688, 506.8728332519531, 4043.237060546875, 3199.779052734375, 2878.23583984375, 1642.864501953125, 2070.3056640625, 11049.0009765625, 2333.570068359375, 7526.84912109375, 4317.29638671875, 4070.013916015625, 11195.1123046875, 1580.6529541015625, 2774.76220703125, 1558.3790283203125, 1502.568359375, 2507.474853515625, 13274.689453125, 2684.453369140625, 1673.3310546875, 2465.90625, 21265.22265625, 8500.6953125, 11067.48046875, 3947.85498046875, 3837.240966796875, 10368.8515625, 14271.5771484375, 5664.35009765625, 7162.361328125, 11053.708984375, 4997.5947265625, 5093.33837890625, 6527.10595703125, 4817.9287109375, 3737.85400390625, 5557.3291015625, 6653.4384765625, 4717.46142578125, 4284.6904296875, 3578.66455078125, 7999.8330078125, 2958.251220703125, 2381.172119140625, 2273.851318359375, 1930.913330078125, 1919.5289306640625, 1842.3812255859375, 1766.3695068359375, 1704.7530517578125, 1550.02001953125, 1517.6260986328125, 1476.6534423828125, 1475.4627685546875, 1389.6112060546875, 1327.1055908203125, 1269.477783203125, 1249.5982666015625, 1195.022705078125, 1107.5185546875, 1245.415283203125, 1096.0916748046875, 1066.0286865234375, 1055.7462158203125, 1050.571533203125, 1030.3974609375, 1053.7447509765625, 978.4118041992188, 955.2007446289062, 936.2335205078125, 901.479248046875, 7749.32177734375, 42624.41796875, 4406.68505859375, 28210.49609375, 1724.85986328125, 4638.59326171875, 4182.0419921875, 2335.56201171875, 4139.24951171875, 3068.939697265625, 3522.016357421875, 2057.762939453125, 1619.47705078125, 2708.829833984375, 6112.33544921875, 2773.154052734375, 2716.0126953125, 4965.09228515625, 3243.308349609375, 3650.378662109375, 2404.42578125, 2643.782958984375, 4658.009765625, 4447.74267578125, 2479.842529296875, 2229.884521484375, 2500.9716796875, 2733.37548828125, 3262.038330078125, 2947.83984375, 2746.835693359375, 2654.877685546875, 2454.831787109375, 7339.796875, 3194.807861328125, 2848.25537109375, 2584.48828125, 2557.447998046875, 1995.2740478515625, 1902.3282470703125, 1696.65869140625, 1604.519287109375, 1525.7998046875, 1245.94091796875, 1173.9228515625, 1093.8275146484375, 1040.57275390625, 1006.2349853515625, 984.1433715820312, 828.0132446289062, 818.9283447265625, 812.4472045898438, 806.2918701171875, 755.0450439453125, 742.2347412109375, 738.1967163085938, 708.6890258789062, 688.766845703125, 651.4325561523438, 648.2528076171875, 602.4404296875, 778.4507446289062, 581.55224609375, 5399.1318359375, 648.2217407226562, 831.4561767578125, 2566.1083984375, 1326.9056396484375, 6706.11181640625, 2586.133056640625, 1576.7237548828125, 1327.33056640625, 6784.697265625, 2711.57421875, 1808.725341796875, 7413.236328125, 1527.3021240234375, 5930.97607421875, 3823.339599609375, 1961.388916015625, 6487.19970703125, 1815.7113037109375, 3949.243896484375, 1893.517333984375, 3595.842041015625, 2597.994140625, 9062.7978515625, 2282.342529296875, 3156.204345703125, 2222.1181640625, 2925.925048828125, 2741.458984375, 2343.7958984375, 2537.26708984375, 2318.3857421875, 2670.989990234375, 2144.496826171875, 2375.075927734375, 2286.2373046875, 2245.025146484375, 9235.2734375, 5053.572265625, 4397.28076171875, 3239.92041015625, 2828.3955078125, 2824.302734375, 2792.208251953125, 2270.300537109375, 2014.9749755859375, 1730.9017333984375, 1534.480224609375, 1233.9644775390625, 4900.7900390625, 1072.2645263671875, 966.722412109375, 891.81396484375, 874.0669555664062, 747.2281494140625, 737.3750610351562, 729.1392211914062, 683.4967651367188, 614.2029418945312, 591.96435546875, 620.7822875976562, 582.6187744140625, 574.8519897460938, 560.9273681640625, 553.1417846679688, 548.3780517578125, 544.672607421875, 696.8508911132812, 1109.7578125, 1451.278076171875, 1491.7523193359375, 15688.3076171875, 1180.53076171875, 1472.0892333984375, 2492.6357421875, 3450.455810546875, 3387.60107421875, 5813.1474609375, 3889.984619140625, 2240.50439453125, 2199.91455078125, 2247.568359375, 3821.7216796875, 3138.094482421875, 3747.251708984375, 3648.081787109375, 4716.7265625, 7660.505859375, 4967.0966796875, 5220.20849609375, 12082.4912109375, 5484.61962890625, 5492.3955078125, 5013.595703125, 4663.31494140625, 3065.402099609375, 4265.1484375, 3642.236083984375, 4179.69287109375, 3361.403564453125, 3031.501220703125, 5318.47705078125, 4340.50439453125, 3205.81884765625, 2714.329833984375, 2169.339111328125, 2096.35498046875, 1529.1295166015625, 1476.930419921875, 1299.8953857421875, 1230.7181396484375, 1180.797119140625, 1052.7967529296875, 1024.4029541015625, 997.7692260742188, 829.500244140625, 721.6998901367188, 701.9193725585938, 763.608642578125, 652.562255859375, 630.0812377929688, 618.07958984375, 609.3677978515625, 597.6942749023438, 693.5595092773438, 553.7286376953125, 536.6410522460938, 537.244873046875, 533.218994140625, 553.2933349609375, 509.87054443359375, 2656.663818359375, 960.408447265625, 1029.4415283203125, 1394.2020263671875, 723.5157470703125, 8733.2470703125, 1184.2030029296875, 1349.343505859375, 1294.8316650390625, 936.4144287109375, 1677.435302734375, 2498.167724609375, 1141.1376953125, 3621.669921875, 1437.5208740234375, 2196.345703125, 4236.63525390625, 9995.6533203125, 2528.83544921875, 3805.317138671875, 1595.20751953125, 2135.947265625, 3260.578125, 2717.340087890625, 5410.3427734375, 6656.0478515625, 3671.151123046875, 2859.69482421875, 4611.26806640625, 2345.885986328125, 2464.7119140625, 2979.985107421875, 2449.36962890625, 3629.99755859375, 3331.808837890625, 7270.759765625, 3050.210205078125, 3237.387451171875, 3176.27734375, 3984.888671875, 3510.833740234375, 3190.83935546875, 2779.34326171875, 2544.79345703125, 22236.064453125, 12494.755859375, 10182.205078125, 8855.365234375, 3379.544189453125, 3047.0576171875, 2870.148193359375, 2857.66552734375, 2408.712646484375, 1857.2095947265625, 1519.3646240234375, 1295.2275390625, 1266.963623046875, 1251.04150390625, 1248.4393310546875, 1235.478271484375, 1229.7105712890625, 1224.67578125, 1215.017333984375, 961.12255859375, 934.6497802734375, 899.1586303710938, 798.1233520507812, 776.2385864257812, 773.6729736328125, 744.5371704101562, 731.0093994140625, 721.8793334960938, 718.1594848632812, 681.7608032226562, 10223.2294921875, 1093.085693359375, 16889.875, 2071.322265625, 913.7982788085938, 2228.681884765625, 883.3422241210938, 1351.90771484375, 3418.738037109375, 2219.56103515625, 2541.394287109375, 2122.537841796875, 3947.797119140625, 2349.649658203125, 2308.495361328125, 3878.13671875, 5050.2373046875, 3412.543212890625, 5573.64794921875, 1847.5469970703125, 7822.45361328125, 2141.062255859375, 3144.1552734375, 3462.940185546875, 3058.32275390625, 2596.359375, 2579.73046875, 2458.00146484375, 2343.394775390625, 2307.03466796875, 10155.775390625, 10092.423828125, 5922.5986328125, 5321.32421875, 3429.069580078125, 3217.564697265625, 3069.987060546875, 2475.118896484375, 2131.61767578125, 1833.8651123046875, 1748.56494140625, 1701.120849609375, 1701.1068115234375, 1516.360595703125, 1502.9798583984375, 1366.51123046875, 1343.3265380859375, 1266.2080078125, 1217.27587890625, 1203.7813720703125, 1198.2818603515625, 1136.20263671875, 1068.9853515625, 934.27490234375, 881.9201049804688, 838.1771240234375, 830.5687866210938, 809.2808837890625, 800.0214233398438, 781.588623046875, 3309.058837890625, 825.3242797851562, 2277.05615234375, 2936.801513671875, 1729.0, 10957.7685546875, 1795.7882080078125, 3628.5859375, 3662.43017578125, 2940.924560546875, 2228.34521484375, 1664.062255859375, 8548.6279296875, 4382.8720703125, 4363.71240234375, 3024.54150390625, 2875.046875, 6595.10888671875, 2310.21630859375, 9714.4111328125, 3602.82568359375, 2375.343017578125, 2588.64453125, 3438.4345703125, 2785.732421875, 3062.383056640625, 2958.33642578125, 2891.039306640625, 2589.5869140625, 2701.561767578125, 6395.951171875, 2633.388671875, 7403.55908203125, 2309.213623046875, 1721.5606689453125, 1553.1307373046875, 1514.9742431640625, 1323.4549560546875, 1176.1533203125, 1158.841552734375, 1163.36181640625, 935.9375610351562, 924.88330078125, 895.8966064453125, 841.8668212890625, 816.8868408203125, 3624.306396484375, 796.924560546875, 796.1300048828125, 760.6686401367188, 723.96435546875, 668.9639892578125, 655.2608032226562, 645.9098510742188, 645.3616943359375, 644.5997314453125, 628.5660400390625, 612.9226684570312, 592.3607177734375, 581.7377319335938, 1776.5535888671875, 1343.2802734375, 742.6458740234375, 989.663330078125, 5828.59033203125, 4653.07421875, 871.3574829101562, 918.4618530273438, 1415.4619140625, 1484.6419677734375, 5539.9365234375, 2280.66357421875, 1375.5343017578125, 2866.90966796875, 3585.578857421875, 3071.193359375, 2500.629150390625, 2688.5693359375, 1446.9132080078125, 2528.024169921875, 3111.7421875, 4190.896484375, 5588.080078125, 1788.2388916015625, 2222.268310546875, 2832.164306640625, 2559.8056640625, 1866.830322265625, 2651.68701171875, 2118.539794921875, 1867.2999267578125, 2205.2470703125, 1822.2755126953125, 1884.06982421875, 13909.11328125, 7531.2578125, 5778.30712890625, 4980.0185546875, 4056.862548828125, 3824.228759765625, 2434.169921875, 2111.870849609375, 1677.846923828125, 1648.6552734375, 1647.5103759765625, 1589.515869140625, 1382.7615966796875, 1260.9049072265625, 1186.0911865234375, 1119.086181640625, 1013.0858764648438, 1075.3343505859375, 933.0349731445312, 921.4442749023438, 859.7908935546875, 1320.7176513671875, 744.0945434570312, 729.0840454101562, 697.4826049804688, 659.6808471679688, 633.671630859375, 625.4064331054688, 595.4168090820312, 585.1548461914062, 1702.612060546875, 7014.25537109375, 938.1658935546875, 863.099853515625, 985.8787841796875, 804.3128051757812, 859.4307250976562, 5298.626953125, 9911.60546875, 5246.748046875, 12395.869140625, 6488.85595703125, 2734.223388671875, 1843.67626953125, 11139.0166015625, 2831.928955078125, 1938.5386962890625, 1674.5732421875, 2711.773681640625, 4302.9599609375, 3983.27392578125, 2142.7451171875, 12458.3271484375, 5256.42041015625, 3638.751708984375, 3166.533935546875, 2950.820556640625, 4267.97412109375, 2494.0830078125, 2330.362548828125, 2119.743896484375, 2290.89990234375, 2233.38232421875, 2157.670166015625, 5094.7607421875, 2640.73388671875, 2195.859130859375, 1955.21240234375, 1528.298828125, 1477.5220947265625, 1418.0784912109375, 1336.286376953125, 1206.50732421875, 1084.3218994140625, 1017.3590087890625, 1017.0235595703125, 1015.4772338867188, 1008.6725463867188, 1014.5836181640625, 998.1152954101562, 990.8399047851562, 971.43212890625, 950.4715576171875, 924.609375, 885.526123046875, 870.2266235351562, 865.50439453125, 855.0865478515625, 838.0782470703125, 801.0431518554688, 761.3165283203125, 714.9589233398438, 689.4378051757812, 670.2341918945312, 1526.6158447265625, 3468.686279296875, 1250.829833984375, 1171.5706787109375, 1646.206298828125, 1317.905029296875, 2132.306396484375, 2305.275146484375, 2162.150390625, 1918.0501708984375, 2375.4140625, 2295.5771484375, 1914.1669921875, 1492.139404296875, 1995.2972412109375, 1484.7530517578125, 2687.580078125, 1994.76513671875, 1267.34375, 1702.2039794921875, 4432.2294921875, 1741.892822265625, 4634.1123046875, 1879.5531005859375, 2198.091552734375, 2074.189453125, 2224.862060546875, 2237.960205078125, 2224.120361328125, 1656.0445556640625, 1626.9154052734375, 2912.414794921875, 2656.535888671875, 2493.518798828125, 2387.305908203125, 1870.6827392578125, 1833.0894775390625, 1820.1702880859375, 1732.4393310546875, 1601.8973388671875, 1498.645263671875, 2173.90869140625, 1279.0615234375, 1278.739501953125, 1236.5057373046875, 1144.627197265625, 1117.3560791015625, 1098.27587890625, 1074.6456298828125, 1019.8087158203125, 1005.1270751953125, 1002.0565795898438, 1052.3759765625, 951.805908203125, 902.11083984375, 860.681396484375, 755.6370849609375, 747.531494140625, 735.4125366210938, 731.4588012695312, 714.0247802734375, 5706.18798828125, 1203.88427734375, 4827.361328125, 6594.96533203125, 5813.3095703125, 5116.89697265625, 2867.798095703125, 3274.58056640625, 2245.007568359375, 4349.5908203125, 3461.4384765625, 3932.497802734375, 2693.266357421875, 1589.0909423828125, 4540.384765625, 1433.80322265625, 2689.162353515625, 3450.890380859375, 1743.5699462890625, 1995.0023193359375, 2682.03759765625, 3209.17919921875, 2189.39697265625, 2231.990234375, 2363.093505859375, 1970.308349609375, 2191.44091796875, 1958.8272705078125, 4944.48681640625, 3714.22021484375, 3520.279052734375, 3192.19775390625, 2698.684326171875, 2361.270751953125, 2017.3182373046875, 1953.8358154296875, 1896.5579833984375, 1648.9947509765625, 1579.7431640625, 1502.603515625, 1493.6976318359375, 1375.4354248046875, 1307.7061767578125, 1294.2752685546875, 1234.22998046875, 1721.0081787109375, 1148.0906982421875, 1027.060302734375, 1005.5267333984375, 919.6675415039062, 914.2601318359375, 894.140380859375, 852.4519653320312, 767.9607543945312, 752.9420776367188, 746.007568359375, 742.132568359375, 733.0123291015625, 1661.3133544921875, 1898.2042236328125, 1356.3074951171875, 1968.7655029296875, 3507.3466796875, 1704.7254638671875, 2426.681396484375, 1045.68017578125, 2981.423583984375, 1263.51611328125, 1552.272216796875, 2546.666259765625, 12330.1728515625, 2432.119140625, 2667.51171875, 3469.067138671875, 2117.36279296875, 2251.933837890625, 3017.797119140625, 2269.0322265625, 1885.2825927734375, 2164.005615234375, 2524.5205078125, 1971.6328125, 2167.341064453125, 1964.55078125, 1942.33447265625, 6342.49365234375, 3594.64697265625, 3048.0654296875, 2532.830810546875, 2240.970703125, 1988.3226318359375, 1839.0281982421875, 1742.86328125, 1722.2418212890625, 1702.2598876953125, 1516.6580810546875, 1400.2940673828125, 1373.7564697265625, 1359.44775390625, 1331.0242919921875, 1231.6214599609375, 1140.3115234375, 1091.9771728515625, 1059.845947265625, 971.4271850585938, 919.535400390625, 898.9842529296875, 834.0955810546875, 782.5894775390625, 772.198486328125, 745.45263671875, 1349.84912109375, 717.0625610351562, 729.4624633789062, 711.8827514648438, 2782.519775390625, 5773.37158203125, 9369.533203125, 3333.677001953125, 7034.08251953125, 1088.7601318359375, 4712.27490234375, 5112.93994140625, 3994.708740234375, 1973.43603515625, 3289.423095703125, 2511.134033203125, 2228.9296875, 1801.1390380859375, 2677.3193359375, 3398.748779296875, 7153.5205078125, 2100.495361328125, 1978.7706298828125, 2916.86767578125, 2545.640380859375, 2193.86767578125, 2268.831787109375, 2798.443603515625, 3148.875244140625, 2064.5302734375, 2242.41650390625, 2113.3115234375, 2105.178955078125, 5855.451171875, 3011.9453125, 2703.68017578125, 2601.438232421875, 2321.544921875, 1977.6575927734375, 1663.2542724609375, 1642.770263671875, 1520.8597412109375, 1288.04638671875, 1267.9520263671875, 1198.4813232421875, 1118.81396484375, 1094.7230224609375, 1065.5516357421875, 772.6576538085938, 692.9773559570312, 651.8349609375, 641.9913330078125, 612.0939331054688, 603.5776977539062, 595.2908935546875, 593.3186645507812, 591.5575561523438, 587.8270874023438, 577.2180786132812, 563.69189453125, 553.3931884765625, 549.0890502929688, 545.723876953125, 548.8701171875, 598.4642333984375, 860.4622802734375, 869.1011962890625, 4234.9169921875, 1239.6373291015625, 1097.2584228515625, 3274.255126953125, 895.4335327148438, 2353.914794921875, 2922.9248046875, 1104.49560546875, 1256.70556640625, 5759.4638671875, 6008.63720703125, 4232.04638671875, 1681.3079833984375, 3167.375732421875, 2914.514404296875, 1625.63720703125, 2599.05322265625, 2405.029541015625, 4742.34814453125, 1651.826416015625, 2605.565673828125, 1467.0284423828125, 2633.286865234375, 2924.570556640625, 2278.272705078125, 1793.73779296875, 1711.788330078125, 2468.270751953125, 1948.2864990234375, 1832.0152587890625, 1714.9788818359375, 1680.011962890625, 5883.80419921875, 5544.56201171875, 4801.3837890625, 4092.857421875, 4056.1630859375, 3701.884765625, 2409.699951171875, 2245.773681640625, 1825.6722412109375, 1819.1920166015625, 1645.3563232421875, 1589.439697265625, 1496.3406982421875, 1348.2982177734375, 1298.135498046875, 1202.0068359375, 1171.3221435546875, 1146.8896484375, 1092.0701904296875, 1036.4931640625, 996.669921875, 940.5096435546875, 905.0489501953125, 864.0852661132812, 862.9794921875, 789.7694091796875, 767.201904296875, 713.9241333007812, 688.8218994140625, 627.7015380859375, 3550.4736328125, 6956.37158203125, 2408.295654296875, 2806.088623046875, 3832.948486328125, 3196.801025390625, 2349.7041015625, 6046.8701171875, 4544.4384765625, 3014.23681640625, 2217.37353515625, 2215.77197265625, 3674.2412109375, 5323.50732421875, 3780.91357421875, 4825.64990234375, 3701.035888671875, 2925.983642578125, 4355.984375, 3186.369384765625, 3167.878173828125, 4092.98779296875, 5303.0888671875, 2501.075439453125, 2992.790771484375, 10800.212890625, 4023.39990234375, 2624.066162109375, 2139.246337890625, 1823.7725830078125, 1705.6097412109375, 1685.69873046875, 1457.8267822265625, 1168.71435546875, 981.4478149414062, 954.4830932617188, 812.7465209960938, 812.1118774414062, 791.4487915039062, 776.8218383789062, 620.3515014648438, 616.4009399414062, 589.6682739257812, 574.4627685546875, 574.0006103515625, 563.7559814453125, 560.8434448242188, 551.8336791992188, 536.968505859375, 527.7144775390625, 511.9416809082031, 507.9089660644531, 507.5255432128906, 501.889404296875, 478.52606201171875, 594.338134765625, 4736.6025390625, 1919.2054443359375, 697.7042236328125, 3522.004150390625, 5902.31103515625, 4152.35888671875, 851.3779907226562, 1866.870361328125, 3524.2861328125, 822.7543334960938, 3225.877685546875, 3583.44384765625, 2737.90087890625, 4557.2763671875, 3309.96630859375, 4636.986328125, 3771.865966796875, 1381.11328125, 2571.41162109375, 2120.49560546875, 1532.9464111328125, 2352.505859375, 2092.682373046875, 1680.1876220703125, 2546.23046875, 1775.7532958984375, 1573.6658935546875, 1559.4656982421875], \"Term\": [\"apple\", \"watch\", \"kim\", \"al\", \"video\", \"isi\", \"north\", \"police\", \"foley\", \"shot\", \"brown\", \"said\", \"islamic\", \"state\", \"border\", \"ebola\", \"u\", \"jong\", \"syria\", \"american\", \"man\", \"iraq\", \"girl\", \"group\", \"officer\", \"haram\", \"boko\", \"korea\", \"job\", \"un\", \"hunter\", \"godane\", \"jordanian\", \"mueller\", \"drone\", \"abdullah\", \"homeland\", \"dhs\", \"coalition\", \"raqqa\", \"somali\", \"republican\", \"missile\", \"susteren\", \"observatory\", \"congressman\", \"beirut\", \"chlorine\", \"arizona\", \"kirby\", \"abdi\", \"sunni\", \"kayla\", \"trained\", \"mogadishu\", \"greta\", \"rank\", \"ansar\", \"plotting\", \"explosive\", \"pilot\", \"jordan\", \"insurgent\", \"border\", \"airstrike\", \"pentagon\", \"apprehended\", \"weapon\", \"terrorist\", \"patrol\", \"plane\", \"southern\", \"fighter\", \"civilian\", \"isi\", \"strike\", \"military\", \"u\", \"region\", \"intelligence\", \"force\", \"group\", \"al\", \"islamic\", \"syrian\", \"state\", \"said\", \"militant\", \"killed\", \"attack\", \"air\", \"syria\", \"american\", \"official\", \"city\", \"security\", \"used\", \"could\", \"iraq\", \"wood\", \"rogen\", \"sony\", \"bank\", \"island\", \"culkin\", \"retail\", \"wozniak\", \"percent\", \"needed\", \"macaulay\", \"completely\", \"tiger\", \"hank\", \"seeking\", \"seth\", \"hole\", \"abandoned\", \"pregnancy\", \"dark\", \"factory\", \"guilty\", \"knocked\", \"2005\", \"chamber\", \"trading\", \"warner\", \"jessica\", \"vladi\", \"noting\", \"mid\", \"various\", \"alone\", \"stated\", \"join\", \"book\", \"eye\", \"band\", \"injury\", \"career\", \"work\", \"2010\", \"year\", \"batman\", \"wanted\", \"great\", \"home\", \"still\", \"found\", \"time\", \"research\", \"become\", \"first\", \"scene\", \"also\", \"even\", \"age\", \"day\", \"common\", \"said\", \"last\", \"although\", \"well\", \"made\", \"since\", \"thursday\", \"new\", \"month\", \"back\", \"put\", \"report\", \"one\", \"nelson\", \"spice\", \"pumpkin\", \"hurt\", \"condom\", \"panel\", \"durex\", \"f\", \"follower\", \"pressure\", \"credit\", \"entering\", \"actively\", \"ben\", \"sharing\", \"abrams\", \"text\", \"rahim\", \"theory\", \"esquire\", \"conspiracy\", \"purpose\", \"dera\", \"pour\", \"singh\", \"flavored\", \"ram\", \"reveals\", \"zero\", \"plot\", \"speculation\", \"400\", \"au\", \"arrival\", \"pic\", \"domestic\", \"r\", \"numerous\", \"et\", \"oct\", \"king\", \"false\", \"twitter\", \"internet\", \"officially\", \"com\", \"texas\", \"secret\", \"rumor\", \"espn\", \"headline\", \"update\", \"future\", \"content\", \"news\", \"6\", \"january\", \"social\", \"article\", \"claim\", \"post\", \"report\", \"medium\", \"fact\", \"story\", \"today\", \"2014\", \"people\", \"image\", \"death\", \"true\", \"2015\", \"night\", \"information\", \"one\", \"user\", \"called\", \"photo\", \"tape\", \"nasa\", \"pm\", \"gift\", \"suggestion\", \"streaming\", \"explanation\", \"noise\", \"encounter\", \"messaging\", \"affair\", \"bright\", \"mortgage\", \"bogus\", \"thus\", \"calm\", \"rehab\", \"texting\", \"scenario\", \"advancing\", \"imagine\", \"effectively\", \"capacity\", \"huffington\", \"nowhere\", \"confirming\", \"confirms\", \"w\", \"brush\", \"aiming\", \"cnn\", \"updated\", \"darkness\", \"negative\", \"drawn\", \"tom\", \"purported\", \"certificate\", \"convinced\", \"impact\", \"event\", \"type\", \"paid\", \"complete\", \"light\", \"mention\", \"car\", \"evening\", \"paul\", \"joe\", \"hour\", \"working\", \"planning\", \"previously\", \"sound\", \"space\", \"looking\", \"november\", \"teen\", \"video\", \"say\", \"time\", \"12\", \"evidence\", \"account\", \"day\", \"made\", \"back\", \"also\", \"may\", \"claim\", \"news\", \"six\", \"could\", \"message\", \"appears\", \"u\", \"show\", \"like\", \"would\", \"last\", \"one\", \"first\", \"saying\", \"know\", \"foley\", \"somers\", \"sotloff\", \"steven\", \"wright\", \"executioner\", \"photojournalist\", \"freelance\", \"yemeni\", \"globalpost\", \"kneeling\", \"captor\", \"aqap\", \"aggression\", \"diane\", \"deepest\", \"sana\", \"zone\", \"gruesome\", \"appalled\", \"jumpsuit\", \"mourn\", \"beside\", \"bloodshed\", \"ansi\", \"announcing\", \"irbil\", \"hampshire\", \"hammond\", \"criminality\", \"haines\", \"yemen\", \"execution\", \"cameron\", \"luke\", \"journalist\", \"barack\", \"james\", \"beheading\", \"murder\", \"obama\", \"france\", \"captive\", \"cage\", \"innocent\", \"kill\", \"american\", \"killer\", \"accent\", \"masked\", \"video\", \"family\", \"syria\", \"2012\", \"david\", \"islamic\", \"u\", \"british\", \"iraq\", \"state\", \"president\", \"released\", \"militant\", \"statement\", \"hostage\", \"isi\", \"said\", \"group\", \"man\", \"life\", \"iphone\", \"apps\", \"steel\", \"cable\", \"pricing\", \"battery\", \"macbook\", \"smartwatch\", \"range\", \"stainless\", \"samsung\", \"variant\", \"wearable\", \"consumer\", \"chip\", \"developer\", \"munster\", \"karat\", \"priced\", \"seam\", \"aluminum\", \"9to5mac\", \"sapphire\", \"strap\", \"350\", \"mm\", \"arcuri\", \"349\", \"999\", \"igen\", \"gold\", \"apple\", \"edition\", \"watch\", \"option\", \"device\", \"price\", \"sport\", \"model\", \"cost\", \"launch\", \"per\", \"expensive\", \"feature\", \"000\", \"version\", \"app\", \"company\", \"2015\", \"user\", \"product\", \"5\", \"new\", \"would\", \"store\", \"4\", \"end\", \"case\", \"also\", \"could\", \"report\", \"according\", \"much\", \"emwazi\", \"mexico\", \"bary\", \"abdel\", \"terrorism\", \"teacher\", \"mi5\", \"qureshi\", \"bin\", \"kuwait\", \"sarajevo\", \"bosnia\", \"majed\", \"westminster\", \"graf\", \"iguala\", \"tanzania\", \"flown\", \"guerrero\", \"underage\", \"babici\", \"educational\", \"grave\", \"goto\", \"egyptian\", \"reproductive\", \"metropolitan\", \"nenad\", \"bus\", \"kenji\", \"jihadi\", \"vandalism\", \"german\", \"l\", \"alan\", \"london\", \"mass\", \"accused\", \"mexican\", \"john\", \"identity\", \"britain\", \"mr\", \"prison\", \"british\", \"hostage\", \"mohammed\", \"police\", \"sex\", \"believed\", \"crime\", \"known\", \"school\", \"said\", \"west\", \"name\", \"five\", \"security\", \"found\", \"child\", \"girl\", \"later\", \"official\", \"washington\", \"year\", \"one\", \"group\", \"baghdadi\", \"rosenberg\", \"lebanese\", \"bakr\", \"israeli\", \"dulaimi\", \"israel\", \"lebanon\", \"rescue\", \"dna\", \"nusra\", \"detainee\", \"abu\", \"proclaimed\", \"saja\", \"recovered\", \"gaza\", \"ypg\", \"unverified\", \"crossed\", \"caliph\", \"warren\", \"hamid\", \"guantanamo\", \"mtv\", \"zeid\", \"graham\", \"useful\", \"affiliate\", \"abou\", \"qatar\", \"supporter\", \"gill\", \"recruit\", \"al\", \"active\", \"command\", \"capture\", \"wife\", \"student\", \"leader\", \"captured\", \"prisoner\", \"fight\", \"ministry\", \"son\", \"kurdish\", \"iraqi\", \"child\", \"woman\", \"state\", \"iraq\", \"syria\", \"said\", \"islamic\", \"isi\", \"group\", \"official\", \"syrian\", \"report\", \"reported\", \"year\", \"told\", \"source\", \"spider\", \"hair\", \"skin\", \"mcdonald\", \"burger\", \"girlfriend\", \"dylan\", \"bali\", \"lego\", \"fever\", \"trail\", \"tropical\", \"fast\", \"burrowed\", \"insect\", \"nice\", \"ok\", \"handle\", \"cc\", \"mouth\", \"abdomen\", \"rob\", \"bite\", \"behaviour\", \"violated\", \"jacket\", \"soil\", \"spends\", \"portion\", \"mite\", \"j\", \"noticed\", \"cool\", \"stomach\", \"dating\", \"thomas\", \"suit\", \"australian\", \"science\", \"dr\", \"contacted\", \"feel\", \"unusual\", \"university\", \"whatever\", \"kind\", \"something\", \"man\", \"started\", \"never\", \"chinese\", \"sure\", \"thing\", \"lot\", \"like\", \"told\", \"way\", \"thought\", \"day\", \"really\", \"food\", \"think\", \"doctor\", \"old\", \"get\", \"said\", \"going\", \"friend\", \"back\", \"year\", \"would\", \"one\", \"say\", \"people\", \"kim\", \"jong\", \"korea\", \"korean\", \"pyongyang\", \"il\", \"yo\", \"ankle\", \"india\", \"supreme\", \"dictator\", \"ill\", \"overweight\", \"gout\", \"estate\", \"bureau\", \"seoul\", \"assembly\", \"madden\", \"fractured\", \"kumar\", \"hwang\", \"independence\", \"whisky\", \"nkis\", \"suresh\", \"sung\", \"nikolaev\", \"bishop\", \"recovering\", \"un\", \"elite\", \"north\", \"weight\", \"maintained\", \"absence\", \"raped\", \"pain\", \"party\", \"nun\", \"scotland\", \"restaurant\", \"south\", \"sister\", \"condition\", \"public\", \"leader\", \"health\", \"official\", \"leadership\", \"said\", \"medical\", \"source\", \"state\", \"people\", \"since\", \"government\", \"reported\", \"would\", \"report\", \"haram\", \"boko\", \"nigerian\", \"nigeria\", \"castro\", \"ceasefire\", \"shekau\", \"commercial\", \"chibok\", \"olsen\", \"chad\", \"jetliner\", \"fidel\", \"agreement\", \"cease\", \"plant\", \"airliner\", \"ahmadu\", \"abubakar\", \"truce\", \"benghazi\", \"2001\", \"hassan\", \"suspended\", \"havana\", \"dan\", \"presidential\", \"goodluck\", \"bringbackourgirls\", \"airbus\", \"libyan\", \"suspension\", \"tripoli\", \"schoolgirl\", \"cuba\", \"girl\", \"jonathan\", \"aircraft\", \"libya\", \"islamist\", \"tour\", \"agreed\", \"government\", \"11\", \"release\", \"kidnapped\", \"announced\", \"group\", \"200\", \"said\", \"attack\", \"deal\", \"friday\", \"leader\", \"president\", \"month\", \"official\", \"report\", \"since\", \"would\", \"lin\", \"paler\", \"comcast\", \"conal\", \"buy\", \"rourke\", \"liquor\", \"kadalim\", \"fatwa\", \"cook\", \"snowman\", \"michelle\", \"purchase\", \"taibbi\", \"ebay\", \"donation\", \"homeless\", \"55\", \"employer\", \"prankster\", \"fruit\", \"respect\", \"vocativ\", \"experiment\", \"secretly\", \"beggar\", \"controller\", \"anywhere\", \"auction\", \"mom\", \"josh\", \"prank\", \"bos\", \"leaked\", \"customer\", \"money\", \"fee\", \"pulling\", \"complaint\", \"partner\", \"million\", \"employee\", \"dollar\", \"saudi\", \"store\", \"youtube\", \"islam\", \"100\", \"park\", \"phone\", \"street\", \"company\", \"video\", \"sell\", \"6\", \"service\", \"get\", \"issue\", \"people\", \"000\", \"building\", \"would\", \"call\", \"say\", \"brown\", \"wilson\", \"pause\", \"ferguson\", \"attorney\", \"blumenthal\", \"gunshot\", \"tor\", \"louis\", \"darren\", \"autopsy\", \"chat\", \"lopa\", \"missouri\", \"lemon\", \"sniper\", \"volley\", \"theft\", \"demonstrator\", \"client\", \"browser\", \"mayor\", \"dorian\", \"deepdotweb\", \"exit\", \"tribunal\", \"transpired\", \"relevance\", \"exchanged\", \"florissant\", \"glide\", \"audio\", \"commissioner\", \"brooklyn\", \"blasio\", \"constantine\", \"bratton\", \"recording\", \"officer\", \"fired\", \"shot\", \"shooting\", \"marijuana\", \"unarmed\", \"police\", \"johnson\", \"st\", \"gunfire\", \"fbi\", \"michael\", \"heard\", \"court\", \"said\", \"man\", \"friend\", \"case\", \"monday\", \"time\", \"six\", \"9\", \"arrest\", \"least\", \"told\", \"tuesday\", \"smith\", \"fish\", \"catfish\", \"afghanistan\", \"dinner\", \"marine\", \"palace\", \"twin\", \"mushroom\", \"ferrari\", \"vega\", \"helicopter\", \"land\", \"po\", \"remark\", \"bay\", \"wels\", \"meter\", \"specie\", \"shore\", \"lucky\", \"45\", \"river\", \"diagnosed\", \"joy\", \"helmet\", \"mgm\", \"shane\", \"130\", \"yeti\", \"mall\", \"patient\", \"billion\", \"grenade\", \"taliban\", \"garden\", \"christmas\", \"bill\", \"300\", \"19\", \"14\", \"weekend\", \"church\", \"riquelme\", \"la\", \"creature\", \"close\", \"footage\", \"meal\", \"water\", \"one\", \"result\", \"said\", \"big\", \"000\", \"show\", \"new\", \"year\", \"video\", \"caught\", \"medium\", \"owner\", \"catholic\", \"priest\", \"neal\", \"male\", \"v\", \"pet\", \"ilic\", \"superman\", \"holy\", \"heaven\", \"\\u00e0\", \"une\", \"scar\", \"sad\", \"medic\", \"author\", \"wonderful\", \"vatican\", \"gender\", \"est\", \"roman\", \"oliver\", \"goldfish\", \"cesar\", \"razor\", \"cruel\", \"perfectly\", \"macedonian\", \"micheal\", \"animal\", \"cleric\", \"boy\", \"de\", \"god\", \"dog\", \"pope\", \"penis\", \"francis\", \"le\", \"mother\", \"father\", \"heart\", \"rushed\", \"hospital\", \"belonging\", \"died\", \"old\", \"female\", \"doctor\", \"woman\", \"would\", \"son\", \"life\", \"story\", \"operation\", \"year\", \"man\", \"meteorite\", \"asteroid\", \"kai\", \"crater\", \"managua\", \"nicaraguan\", \"nikolai\", \"sky\", \"nicaragua\", \"sgt\", \"spca\", \"magnet\", \"attract\", \"oberholtzer\", \"suitcase\", \"rc\", \"fireball\", \"object\", \"classmate\", \"developing\", \"kryaglyachenko\", \"chicken\", \"kfc\", \"tan\", \"superpower\", \"planet\", \"spoon\", \"cooke\", \"extensive\", \"magneto\", \"wide\", \"millan\", \"wave\", \"truck\", \"earth\", \"scientist\", \"glass\", \"welfare\", \"station\", \"blast\", \"scottish\", \"airport\", \"said\", \"foot\", \"near\", \"people\", \"capital\", \"local\", \"would\", \"left\", \"sunday\", \"found\", \"one\", \"want\", \"could\", \"reported\", \"told\", \"bale\", \"sorkin\", \"rat\", \"vogue\", \"anna\", \"wintour\", \"aaron\", \"biopic\", \"boyle\", \"delight\", \"danny\", \"biography\", \"walter\", \"capsule\", \"isaacson\", \"directed\", \"hip\", \"hop\", \"sugarhill\", \"oscar\", \"infestation\", \"tower\", \"dicaprio\", \"ashton\", \"rodent\", \"kutcher\", \"board\", \"gee\", \"folk\", \"leonardo\", \"amazon\", \"steve\", \"job\", \"google\", \"office\", \"winning\", \"actor\", \"film\", \"movie\", \"founder\", \"play\", \"rapper\", \"project\", \"variety\", \"christian\", \"role\", \"new\", \"song\", \"magazine\", \"york\", \"co\", \"box\", \"big\", \"one\", \"said\", \"talk\", \"according\", \"part\", \"source\", \"hbo\", \"chandler\", \"detroit\", \"phelps\", \"batmobile\", \"snow\", \"cctv\", \"williams\", \"seidel\", \"jess\", \"disney\", \"teletubbies\", \"snyder\", \"putin\", \"macklemorejoinedisis\", \"macklemore\", \"netflix\", \"holt\", \"carlisle\", \"bird\", \"anchor\", \"cctvnews\", \"swimmer\", \"sneeze\", \"lianne\", \"ikwiz\", \"satire\", \"sneezed\", \"sneezing\", \"cn\", \"foxnewspress\", \"genitalia\", \"brian\", \"pa\", \"hoax\", \"satirical\", \"subscription\", \"fake\", \"edward\", \"english\", \"star\", \"episode\", \"supported\", \"name\", \"story\", \"site\", \"tweet\", \"article\", \"website\", \"nbc\", \"facebook\", \"tv\", \"news\", \"game\", \"woman\", \"viral\", \"police\", \"one\", \"service\", \"student\", \"picture\", \"said\", \"first\", \"like\", \"war\", \"film\", \"canadian\", \"vickers\", \"ottawa\", \"memorial\", \"bibeau\", \"zehaf\", \"gonzalez\", \"sergeant\", \"harper\", \"campus\", \"fence\", \"robot\", \"cirillo\", \"rcmp\", \"stephen\", \"caucus\", \"rifle\", \"alarm\", \"nathan\", \"entrance\", \"intruder\", \"sensor\", \"quebec\", \"shooter\", \"blue\", \"montreal\", \"lockdown\", \"library\", \"ceremonial\", \"pierson\", \"guard\", \"parliament\", \"mp\", \"kevin\", \"gunman\", \"hill\", \"canada\", \"house\", \"soldier\", \"arm\", \"room\", \"door\", \"building\", \"shot\", \"war\", \"security\", \"shooting\", \"incident\", \"service\", \"inside\", \"wednesday\", \"police\", \"said\", \"national\", \"man\", \"ebola\", \"virus\", \"symptom\", \"mashable\", \"icloud\", \"scorpion\", \"setting\", \"kansa\", \"reset\", \"deleted\", \"infection\", \"contracted\", \"cdc\", \"feig\", \"outbreak\", \"epidemic\", \"quarantined\", \"tunisia\", \"vomiting\", \"incinerated\", \"infected\", \"christy\", \"louise\", \"medicine\", \"bug\", \"purdon\", \"hamele\", \"sabah\", \"diarrhea\", \"malaria\", \"frisco\", \"banksy\", \"artist\", \"biological\", \"disease\", \"mosul\", \"health\", \"deadly\", \"africa\", \"hospital\", \"dallas\", \"case\", \"city\", \"iraqi\", \"isi\", \"iraq\", \"report\", \"official\", \"document\", \"reported\", \"country\", \"organization\", \"militant\", \"medium\", \"area\", \"said\", \"source\", \"world\", \"told\"], \"Total\": [44045.0, 30442.0, 22237.0, 28784.0, 46117.0, 34001.0, 20626.0, 24473.0, 16882.0, 17942.0, 13910.0, 130181.0, 26540.0, 41793.0, 17448.0, 10801.0, 47036.0, 12495.0, 22614.0, 20635.0, 29728.0, 19260.0, 16631.0, 33140.0, 13616.0, 10156.0, 10093.0, 10183.0, 11492.0, 10498.0, 5754.1337890625, 3813.40576171875, 3798.12109375, 3068.310546875, 2764.3505859375, 2667.270263671875, 2439.0302734375, 2370.677490234375, 2199.06591796875, 1760.739013671875, 1741.4326171875, 1556.56201171875, 1492.1561279296875, 1452.6522216796875, 1367.0758056640625, 1317.0958251953125, 1200.472900390625, 1181.637451171875, 1161.8779296875, 1156.2841796875, 1095.3736572265625, 1048.4036865234375, 1042.6014404296875, 1027.838134765625, 1002.5372314453125, 906.7297973632812, 1130.6812744140625, 852.2050170898438, 844.7308959960938, 827.7772216796875, 3471.63330078125, 3160.99658203125, 1359.9130859375, 17448.2109375, 2054.525390625, 3380.00146484375, 1723.8428955078125, 6895.6875, 11890.55078125, 3755.816162109375, 3660.1767578125, 3675.538818359375, 11753.6669921875, 2127.666015625, 34001.75390625, 6889.923828125, 11623.703125, 47036.328125, 3495.14501953125, 9659.630859375, 13905.9931640625, 33140.1328125, 28784.333984375, 26540.69921875, 10220.4921875, 41793.2734375, 130181.796875, 21492.974609375, 16109.8671875, 15911.189453125, 9760.0263671875, 22614.603515625, 20635.474609375, 30180.765625, 16386.27734375, 16541.8671875, 9908.5380859375, 26659.01171875, 19260.966796875, 2814.677490234375, 2651.457763671875, 2534.40380859375, 2343.668701171875, 2151.96337890625, 1997.179931640625, 1951.1954345703125, 1819.336181640625, 3073.62353515625, 1717.0093994140625, 1601.796142578125, 1691.282958984375, 1486.06591796875, 1418.6978759765625, 1624.71240234375, 1225.3897705078125, 1219.3798828125, 1126.0577392578125, 1084.2320556640625, 1037.7945556640625, 944.3209228515625, 925.5252075195312, 910.5819702148438, 894.7103881835938, 905.5806884765625, 844.8887939453125, 838.2033081054688, 828.4135131835938, 804.1006469726562, 783.9827880859375, 1815.863525390625, 1709.2723388671875, 1533.2518310546875, 1645.036376953125, 1890.342529296875, 1296.2906494140625, 2725.9658203125, 2927.66357421875, 2749.504638671875, 1607.214599609375, 8499.3212890625, 2129.176025390625, 43887.37890625, 2020.4793701171875, 3876.2109375, 2719.37109375, 8710.78515625, 12525.064453125, 12955.2138671875, 35828.09765625, 3090.337158203125, 4324.47900390625, 24645.443359375, 4346.25830078125, 37042.609375, 16184.5576171875, 3847.480712890625, 20992.265625, 3740.1923828125, 130181.796875, 22929.841796875, 4708.119140625, 11366.2216796875, 15897.201171875, 15650.396484375, 6923.677734375, 28814.01953125, 16636.498046875, 14271.9443359375, 7279.28125, 41320.7265625, 42070.59765625, 2152.49267578125, 2061.39697265625, 1891.6395263671875, 1653.476806640625, 1647.2178955078125, 1590.6064453125, 1479.27783203125, 1314.2210693359375, 1296.267578125, 1204.0849609375, 1173.1602783203125, 1162.48291015625, 1111.101806640625, 1137.2093505859375, 1078.9886474609375, 1075.729248046875, 1057.9425048828125, 912.1767578125, 974.5723876953125, 904.9349975585938, 886.8314819335938, 821.7168579101562, 793.8694458007812, 742.4799194335938, 723.2279663085938, 717.2086181640625, 619.351806640625, 610.7628784179688, 607.9298706054688, 571.0775146484375, 2572.59716796875, 991.111328125, 1086.54833984375, 795.3322143554688, 2705.199462890625, 2321.79736328125, 2940.142822265625, 1059.6751708984375, 1298.56494140625, 1690.546875, 4069.963623046875, 3986.0341796875, 14052.0869140625, 5586.6552734375, 1713.384765625, 8193.4208984375, 5455.47900390625, 4752.5732421875, 6945.880859375, 2060.671630859375, 1892.2254638671875, 3847.615966796875, 2055.892333984375, 2916.04345703125, 30888.2109375, 7722.93603515625, 3812.365966796875, 8461.35546875, 8849.4541015625, 18269.501953125, 13646.2236328125, 41320.7265625, 19338.2109375, 7419.9892578125, 20749.564453125, 9038.9404296875, 10536.6787109375, 33503.22265625, 7405.244140625, 11934.576171875, 5535.68896484375, 6817.52880859375, 7067.4384765625, 8865.02734375, 42070.59765625, 9344.5146484375, 9082.1181640625, 12599.955078125, 3333.80419921875, 2407.4169921875, 2290.448486328125, 2018.859375, 1163.76025390625, 1649.6533203125, 890.7213745117188, 856.4058837890625, 826.1895751953125, 796.92041015625, 1534.2874755859375, 717.6134643554688, 668.865234375, 650.5831909179688, 1266.27783203125, 616.2146606445312, 612.3817749023438, 594.4711303710938, 576.56982421875, 557.1618041992188, 545.7373046875, 769.7601928710938, 478.778564453125, 493.4499816894531, 420.6549072265625, 413.3573303222656, 383.215576171875, 377.7660217285156, 377.1787109375, 360.7252197265625, 7426.96728515625, 979.0384521484375, 617.703369140625, 397.8740539550781, 984.251953125, 923.3687133789062, 941.8115844726562, 710.0777587890625, 966.3737182617188, 3592.92431640625, 7450.47900390625, 2154.05517578125, 2529.82373046875, 1344.314453125, 1787.2821044921875, 1619.3004150390625, 6238.69140625, 1246.7601318359375, 3599.083740234375, 1498.7625732421875, 7417.94482421875, 5760.6923828125, 1685.914306640625, 4165.666015625, 3291.512451171875, 3199.017578125, 4657.8134765625, 3630.3232421875, 2709.39794921875, 46117.41796875, 30223.658203125, 35828.09765625, 7466.78759765625, 3910.126953125, 6086.6142578125, 20992.265625, 15897.201171875, 14271.9443359375, 37042.609375, 16188.462890625, 18269.501953125, 30888.2109375, 8183.96630859375, 26659.01171875, 6643.54833984375, 5808.59228515625, 47036.328125, 12082.7607421875, 21560.7734375, 36286.4296875, 22929.841796875, 42070.59765625, 24645.443359375, 9518.0283203125, 11553.93359375, 16882.91015625, 5373.5107421875, 4203.9541015625, 3031.274658203125, 2272.167236328125, 1730.0377197265625, 1702.223388671875, 1326.114990234375, 1259.90478515625, 1185.2734375, 986.994873046875, 903.421630859375, 894.8274536132812, 866.9674682617188, 811.6488647460938, 804.17333984375, 798.7886352539062, 788.5755615234375, 736.826171875, 728.9197998046875, 726.5919189453125, 691.9390869140625, 644.7425537109375, 617.0613403320312, 555.9476318359375, 539.3544311523438, 534.9845581054688, 519.0657958984375, 517.6267700195312, 507.81298828125, 4057.7353515625, 3219.390869140625, 2897.5830078125, 1649.1500244140625, 2100.125244140625, 11692.720703125, 2396.185546875, 8006.34375, 4572.35693359375, 4308.09375, 12800.044921875, 1639.574462890625, 2979.81689453125, 1618.3702392578125, 1562.128662109375, 2863.008056640625, 20635.474609375, 3227.10009765625, 1872.336669921875, 3079.33251953125, 46117.41796875, 15660.5029296875, 22614.603515625, 6171.85302734375, 5928.5966796875, 26540.69921875, 47036.328125, 11881.146484375, 19260.966796875, 41793.2734375, 10823.59375, 11767.115234375, 21492.974609375, 13990.1650390625, 7773.115234375, 34001.75390625, 130181.796875, 33140.1328125, 29728.169921875, 14424.869140625, 8000.7890625, 2959.20703125, 2382.1279296875, 2274.80712890625, 1931.869384765625, 1920.4849853515625, 1843.3372802734375, 1767.3255615234375, 1705.7091064453125, 1550.97607421875, 1518.5821533203125, 1477.6094970703125, 1476.4188232421875, 1390.5672607421875, 1328.0616455078125, 1270.433837890625, 1250.5543212890625, 1195.978759765625, 1108.474609375, 1246.49609375, 1097.0477294921875, 1066.9847412109375, 1056.7022705078125, 1051.527587890625, 1031.353515625, 1054.7376708984375, 979.3677368164062, 956.1566772460938, 937.189453125, 902.4351806640625, 7763.15185546875, 44045.671875, 4462.70166015625, 30442.82421875, 1754.1834716796875, 5059.90234375, 4781.74462890625, 2533.946044921875, 4848.07958984375, 3674.91943359375, 4891.31201171875, 2480.1796875, 1822.6224365234375, 3875.317138671875, 13021.13671875, 4221.5283203125, 4296.70263671875, 12341.162109375, 6817.52880859375, 9344.5146484375, 4070.033447265625, 5371.89697265625, 28814.01953125, 36286.4296875, 6370.5224609375, 4433.0029296875, 7721.63525390625, 12429.4169921875, 37042.609375, 26659.01171875, 41320.7265625, 26879.208984375, 8500.556640625, 7340.75341796875, 3195.763916015625, 2849.21142578125, 2585.4443359375, 2558.404296875, 1996.2303466796875, 1903.2845458984375, 1697.614990234375, 1605.4755859375, 1526.756103515625, 1246.897216796875, 1174.879150390625, 1094.7838134765625, 1041.529052734375, 1007.1912231445312, 985.099609375, 828.969482421875, 819.8845825195312, 813.4034423828125, 807.2481079101562, 756.0012817382812, 743.1909790039062, 739.1529541015625, 709.645263671875, 689.7232055664062, 652.3888549804688, 649.2090454101562, 603.3966674804688, 779.7139892578125, 582.5084838867188, 5477.7802734375, 649.46728515625, 836.6434936523438, 2645.118408203125, 1355.374267578125, 7535.73095703125, 2828.586181640625, 1736.1705322265625, 1447.980712890625, 11003.361328125, 3807.0146484375, 2314.913330078125, 15218.552734375, 1896.77197265625, 11881.146484375, 7773.115234375, 2942.268310546875, 24473.19140625, 2775.8525390625, 11263.7021484375, 3083.68798828125, 12046.5390625, 6524.75146484375, 130181.796875, 5598.02197265625, 15984.318359375, 5731.25341796875, 16541.8671875, 12955.2138671875, 10200.2373046875, 16631.15234375, 10593.1162109375, 30180.765625, 7511.18896484375, 43887.37890625, 42070.59765625, 33140.1328125, 9236.2236328125, 5054.52197265625, 4398.23046875, 3240.869384765625, 2829.344482421875, 2825.251708984375, 2793.1572265625, 2271.24951171875, 2015.93359375, 1731.9036865234375, 1535.4295654296875, 1234.913818359375, 4904.9921875, 1073.2138671875, 967.6716918945312, 892.7632446289062, 875.0162963867188, 748.1774291992188, 738.3248901367188, 730.1279907226562, 684.446044921875, 615.1522216796875, 592.9136352539062, 621.787109375, 583.568603515625, 575.8013305664062, 561.8768310546875, 554.09130859375, 549.327392578125, 545.6219482421875, 698.6522216796875, 1127.839111328125, 1694.1434326171875, 1765.64990234375, 28784.333984375, 1379.8492431640625, 1832.7645263671875, 3616.904052734375, 5590.23291015625, 7124.7470703125, 15923.701171875, 9005.0537109375, 3917.1650390625, 3886.845703125, 4029.4306640625, 9654.3095703125, 7210.47119140625, 10679.392578125, 10200.2373046875, 16504.923828125, 41793.2734375, 19260.966796875, 22614.603515625, 130181.796875, 26540.69921875, 34001.75390625, 33140.1328125, 30180.765625, 10220.4921875, 41320.7265625, 22300.935546875, 43887.37890625, 34085.95703125, 20733.388671875, 5319.42626953125, 4341.45361328125, 3206.767822265625, 2715.27880859375, 2170.2880859375, 2097.3203125, 1530.07861328125, 1477.8795166015625, 1300.844970703125, 1231.6676025390625, 1181.7462158203125, 1053.745849609375, 1025.355224609375, 998.7183837890625, 830.4494018554688, 722.6490478515625, 702.8685302734375, 764.7084350585938, 653.5114135742188, 631.0303955078125, 619.0287475585938, 610.3169555664062, 598.6434326171875, 694.7169189453125, 554.6777954101562, 537.5902709960938, 538.1963500976562, 534.1682739257812, 554.3203125, 510.8197326660156, 2716.076416015625, 968.6982421875, 1040.1455078125, 1440.79248046875, 732.8859252929688, 9900.31640625, 1224.8873291015625, 1412.398193359375, 1361.4788818359375, 967.6712646484375, 1884.447509765625, 3043.120361328125, 1276.35546875, 5698.1640625, 1754.978759765625, 3159.283935546875, 8285.3779296875, 29728.169921875, 4316.107421875, 8200.2744140625, 2195.96875, 3789.647216796875, 8197.4677734375, 5966.7587890625, 21560.7734375, 34085.95703125, 11608.7841796875, 7150.798828125, 20992.265625, 4954.13720703125, 5641.740234375, 8801.4609375, 5700.71044921875, 16071.7998046875, 13477.0869140625, 130181.796875, 10920.16796875, 13215.607421875, 14271.9443359375, 43887.37890625, 36286.4296875, 42070.59765625, 30223.658203125, 33503.22265625, 22237.01171875, 12495.7041015625, 10183.1533203125, 8856.3134765625, 3380.491455078125, 3048.0048828125, 2871.095458984375, 2858.61279296875, 2409.659912109375, 1858.1571044921875, 1520.3121337890625, 1296.175048828125, 1267.9111328125, 1251.989013671875, 1249.3868408203125, 1236.42578125, 1230.6580810546875, 1225.623291015625, 1215.96484375, 962.0699462890625, 935.59716796875, 900.1060180664062, 799.0709228515625, 777.1859741210938, 774.620361328125, 745.4845581054688, 731.956787109375, 722.8267211914062, 719.1068725585938, 682.7081909179688, 10498.14453125, 1099.6688232421875, 20626.404296875, 2239.397216796875, 932.6911010742188, 2592.44677734375, 900.9369506835938, 1472.9906005859375, 4627.982421875, 2743.39794921875, 3475.07373046875, 2802.789306640625, 7042.53955078125, 3696.222412109375, 3665.788818359375, 9708.546875, 15923.701171875, 9488.953125, 30180.765625, 2900.843994140625, 130181.796875, 4917.17431640625, 20733.388671875, 41793.2734375, 33503.22265625, 15650.396484375, 23999.748046875, 22300.935546875, 36286.4296875, 41320.7265625, 10156.7138671875, 10093.3623046875, 5923.53515625, 5322.34716796875, 3430.006103515625, 3218.501220703125, 3070.923583984375, 2476.055419921875, 2132.55419921875, 1834.819091796875, 1749.501708984375, 1702.0576171875, 1702.0435791015625, 1517.29736328125, 1503.9166259765625, 1367.447998046875, 1344.2633056640625, 1267.144775390625, 1218.212646484375, 1204.7181396484375, 1199.2186279296875, 1137.139404296875, 1069.922119140625, 935.2116088867188, 882.8568115234375, 839.1141357421875, 831.5054931640625, 810.2175903320312, 800.9581298828125, 782.525390625, 3355.994873046875, 827.3099975585938, 2401.70361328125, 3226.946533203125, 1912.97900390625, 16631.15234375, 2072.978515625, 5023.5234375, 5094.88134765625, 4388.95361328125, 3033.705322265625, 1963.23291015625, 23999.748046875, 9263.7744140625, 11477.462890625, 6262.373046875, 5855.19482421875, 33140.1328125, 3824.4990234375, 130181.796875, 15911.189453125, 4724.29736328125, 6257.20849609375, 15923.701171875, 10823.59375, 16636.498046875, 30180.765625, 41320.7265625, 15650.396484375, 36286.4296875, 6396.908203125, 2634.345458984375, 7406.36376953125, 2310.17041015625, 1722.536376953125, 1554.087890625, 1515.931640625, 1324.411865234375, 1177.1119384765625, 1159.7984619140625, 1164.3345947265625, 936.8944091796875, 925.8401489257812, 896.8538208007812, 842.8236694335938, 817.8436889648438, 3628.62548828125, 797.8814086914062, 797.0868530273438, 761.6259155273438, 724.9212036132812, 669.9208374023438, 656.2176513671875, 646.8670043945312, 646.3185424804688, 645.5565795898438, 629.5228881835938, 613.8795166015625, 593.3175659179688, 582.694580078125, 1780.586669921875, 1347.0091552734375, 743.9869384765625, 1009.1600952148438, 6463.01220703125, 5273.63037109375, 887.7064208984375, 955.8007202148438, 1612.5740966796875, 1723.32373046875, 9143.673828125, 3029.94970703125, 1616.2838134765625, 4339.55615234375, 6370.5224609375, 5705.85400390625, 4462.23486328125, 5036.384765625, 1937.6932373046875, 4861.70166015625, 7005.34765625, 12341.162109375, 46117.41796875, 3237.089111328125, 7722.93603515625, 16175.220703125, 13477.0869140625, 5422.0703125, 33503.22265625, 13021.13671875, 9029.896484375, 36286.4296875, 7490.888671875, 30223.658203125, 13910.3330078125, 7532.20166015625, 5779.2529296875, 4980.96240234375, 4057.806640625, 3825.1728515625, 2435.114501953125, 2112.81494140625, 1678.791015625, 1649.599365234375, 1648.4544677734375, 1590.4599609375, 1383.705810546875, 1261.84912109375, 1187.047607421875, 1120.0302734375, 1014.0298461914062, 1076.3404541015625, 933.9789428710938, 922.3882446289062, 860.73486328125, 1322.25341796875, 745.0385131835938, 730.0380859375, 698.4348754882812, 660.656494140625, 634.6156005859375, 626.3504028320312, 596.3609619140625, 586.0988159179688, 1711.70556640625, 7162.6171875, 940.5718994140625, 864.739013671875, 989.1475219726562, 805.696533203125, 861.6810302734375, 5870.96435546875, 13616.130859375, 6693.6767578125, 17942.318359375, 10190.7900390625, 3550.5068359375, 2205.35546875, 24473.19140625, 4107.0771484375, 2592.123046875, 2104.697509765625, 4372.62646484375, 9115.1142578125, 8743.8076171875, 3448.858154296875, 130181.796875, 29728.169921875, 13215.607421875, 12429.4169921875, 10066.341796875, 35828.09765625, 8183.96630859375, 6818.39013671875, 4303.9501953125, 10590.7998046875, 34085.95703125, 10275.892578125, 5095.70947265625, 2641.682861328125, 2196.80810546875, 1956.1614990234375, 1529.2479248046875, 1478.47119140625, 1419.0277099609375, 1337.2354736328125, 1207.4564208984375, 1085.27099609375, 1018.3080444335938, 1017.9725952148438, 1016.42626953125, 1009.62158203125, 1015.5400390625, 999.0643310546875, 991.7889404296875, 972.3811645507812, 951.4205932617188, 925.5584106445312, 886.4751586914062, 871.1756591796875, 866.4534301757812, 856.0382690429688, 839.0272827148438, 801.9921875, 762.2655639648438, 715.907958984375, 690.3868408203125, 671.1837768554688, 1533.3135986328125, 3607.6064453125, 1281.26806640625, 1197.05908203125, 1741.0889892578125, 1394.84912109375, 2413.826904296875, 2820.462158203125, 2703.083251953125, 2513.16748046875, 3369.92236328125, 3567.329833984375, 2838.162353515625, 1916.09521484375, 3128.411865234375, 1941.79931640625, 5608.134765625, 3760.144775390625, 1622.301513671875, 3148.718017578125, 42070.59765625, 3812.699462890625, 130181.796875, 5932.90625, 13021.13671875, 12082.7607421875, 28814.01953125, 43887.37890625, 46117.41796875, 6258.98046875, 19338.2109375, 2913.363037109375, 2657.484130859375, 2494.4677734375, 2388.261962890625, 1871.631103515625, 1834.037841796875, 1821.11865234375, 1733.3876953125, 1602.845703125, 1499.611572265625, 2175.42578125, 1280.0098876953125, 1279.6878662109375, 1237.4541015625, 1145.5755615234375, 1118.30517578125, 1099.2249755859375, 1075.593994140625, 1020.757080078125, 1006.0758666992188, 1003.0049438476562, 1053.387939453125, 952.7543334960938, 903.0592041015625, 861.6348266601562, 756.5894775390625, 748.4798583984375, 736.3609008789062, 732.4071655273438, 714.9744873046875, 5799.0302734375, 1205.93359375, 5050.7421875, 7103.37158203125, 6283.8623046875, 5793.3056640625, 3210.333251953125, 3779.432861328125, 2486.5634765625, 6105.33984375, 5082.240234375, 6664.09033203125, 3959.0, 1982.9210205078125, 11174.8701171875, 1766.5465087890625, 6640.69580078125, 16071.7998046875, 3502.959228515625, 5700.71044921875, 16504.923828125, 36286.4296875, 9654.3095703125, 14424.869140625, 20749.564453125, 7185.8232421875, 43887.37890625, 29728.169921875, 4945.43505859375, 3715.169189453125, 3521.245849609375, 3193.146728515625, 2699.63330078125, 2362.2197265625, 2018.26708984375, 1954.78466796875, 1897.5068359375, 1649.943603515625, 1580.692138671875, 1503.5523681640625, 1494.646484375, 1376.38427734375, 1308.655029296875, 1295.22412109375, 1235.1788330078125, 1722.3944091796875, 1149.03955078125, 1028.0091552734375, 1006.4755859375, 920.6163940429688, 915.208984375, 895.0892333984375, 853.4008178710938, 768.9096069335938, 753.8909301757812, 746.9564208984375, 743.0820922851562, 733.961181640625, 1665.390380859375, 1907.9990234375, 1399.30224609375, 2082.587646484375, 3902.533203125, 1827.663330078125, 2767.384521484375, 1081.2340087890625, 4304.54736328125, 1393.6041259765625, 2149.0068359375, 5681.91552734375, 130181.796875, 5545.3505859375, 11378.58984375, 33503.22265625, 6805.32080078125, 9273.1123046875, 36286.4296875, 11833.994140625, 5699.42529296875, 12955.2138671875, 42070.59765625, 7985.09716796875, 26659.01171875, 22300.935546875, 34085.95703125, 6343.443359375, 3595.596923828125, 3049.015380859375, 2533.78076171875, 2241.920654296875, 1989.272705078125, 1839.978271484375, 1743.8133544921875, 1723.19189453125, 1703.2099609375, 1517.608154296875, 1401.244140625, 1374.70654296875, 1360.3978271484375, 1331.974365234375, 1232.571533203125, 1141.2615966796875, 1092.92724609375, 1060.7960205078125, 972.377197265625, 920.4854125976562, 899.9342651367188, 835.0455932617188, 783.5394897460938, 773.1484985351562, 746.4026489257812, 1351.58251953125, 718.0125732421875, 730.4332275390625, 712.832763671875, 2795.59619140625, 6106.232421875, 11492.6533203125, 3921.208740234375, 9322.5009765625, 1137.4581298828125, 6101.63037109375, 6793.85546875, 5256.0673828125, 2336.052490234375, 4660.060546875, 3435.90478515625, 2957.186767578125, 2204.867431640625, 3970.745361328125, 5793.5908203125, 28814.01953125, 3025.589111328125, 2853.976806640625, 7399.89794921875, 5446.66259765625, 4032.238037109375, 5932.90625, 42070.59765625, 130181.796875, 5865.8759765625, 26879.208984375, 12561.7431640625, 20733.388671875, 5856.521484375, 3012.898193359375, 2704.63330078125, 2602.39111328125, 2322.497802734375, 1978.6107177734375, 1664.2073974609375, 1643.723388671875, 1521.8128662109375, 1288.99951171875, 1268.9053955078125, 1199.4344482421875, 1119.76708984375, 1095.6761474609375, 1066.5047607421875, 773.6107788085938, 693.9313354492188, 652.7880859375, 642.9444580078125, 613.0470581054688, 604.5308227539062, 596.2440185546875, 594.2717895507812, 592.5106811523438, 588.7802124023438, 578.1712036132812, 564.64501953125, 554.3463134765625, 550.0421752929688, 546.677001953125, 549.8582763671875, 600.7655029296875, 879.8848876953125, 891.3660888671875, 4890.67724609375, 1372.151611328125, 1241.293212890625, 5286.96728515625, 1014.0635986328125, 3639.00390625, 4906.78125, 1345.7960205078125, 1651.8770751953125, 15984.318359375, 20749.564453125, 12220.564453125, 2931.70068359375, 8849.4541015625, 8524.8818359375, 2881.906982421875, 7531.01318359375, 6510.908203125, 30888.2109375, 3545.05810546875, 16504.923828125, 2750.26220703125, 24473.19140625, 42070.59765625, 16175.220703125, 7124.7470703125, 5668.158203125, 130181.796875, 24645.443359375, 21560.7734375, 10218.2685546875, 6793.85546875, 5884.75634765625, 5545.51416015625, 4802.3359375, 4093.809814453125, 4057.115478515625, 3702.837158203125, 2410.652587890625, 2246.72607421875, 1826.624755859375, 1820.157470703125, 1646.308837890625, 1590.3922119140625, 1497.293212890625, 1349.250732421875, 1299.0880126953125, 1202.9593505859375, 1172.2801513671875, 1147.8421630859375, 1093.022705078125, 1037.4459228515625, 997.6224975585938, 941.462158203125, 906.00146484375, 865.0377807617188, 863.9320068359375, 790.721923828125, 768.1544189453125, 714.8766479492188, 689.7744140625, 628.654052734375, 3566.74169921875, 7371.6875, 2504.150146484375, 3066.66015625, 4420.685546875, 3723.212646484375, 2850.200927734375, 13120.076171875, 8825.765625, 4977.37158203125, 3377.504150390625, 3386.671142578125, 9029.896484375, 17942.318359375, 10218.2685546875, 16541.8671875, 10190.7900390625, 6511.908203125, 16175.220703125, 7956.705078125, 9041.5966796875, 24473.19140625, 130181.796875, 7932.00537109375, 29728.169921875, 10801.1630859375, 4024.350341796875, 2625.0166015625, 2140.19677734375, 1824.7230224609375, 1706.5601806640625, 1686.6888427734375, 1458.7772216796875, 1169.664794921875, 982.3983154296875, 955.4335327148438, 813.6969604492188, 813.0623168945312, 792.3992309570312, 777.7722778320312, 621.3019409179688, 617.3513793945312, 590.6187133789062, 575.4132080078125, 574.9510498046875, 564.7064208984375, 561.7938842773438, 552.7841186523438, 537.9189453125, 528.6649169921875, 512.89208984375, 508.859375, 508.4759521484375, 502.8398132324219, 479.4764709472656, 595.9129638671875, 4924.30859375, 1968.9881591796875, 701.5823364257812, 3687.58544921875, 7561.70703125, 9488.953125, 1066.47998046875, 3700.439453125, 11174.8701171875, 1054.0958251953125, 12429.4169921875, 16386.27734375, 10679.392578125, 34001.75390625, 19260.966796875, 41320.7265625, 30180.765625, 3467.0634765625, 22300.935546875, 13757.259765625, 5593.67431640625, 21492.974609375, 19338.2109375, 9741.23828125, 130181.796875, 20733.388671875, 13412.431640625, 34085.95703125], \"loglift\": [30.0, 29.0, 28.0, 27.0, 26.0, 25.0, 24.0, 23.0, 22.0, 21.0, 20.0, 19.0, 18.0, 17.0, 16.0, 15.0, 14.0, 13.0, 12.0, 11.0, 10.0, 9.0, 8.0, 7.0, 6.0, 5.0, 4.0, 3.0, 2.0, 1.0, 2.468100070953369, 2.468100070953369, 2.468100070953369, 2.4679999351501465, 2.4679999351501465, 2.4679999351501465, 2.467900037765503, 2.467900037765503, 2.467900037765503, 2.4677999019622803, 2.4677999019622803, 2.4677000045776367, 2.4677000045776367, 2.4677000045776367, 2.467600107192993, 2.467600107192993, 2.4674999713897705, 2.4674999713897705, 2.4674999713897705, 2.4674999713897705, 2.467400074005127, 2.467400074005127, 2.467400074005127, 2.467400074005127, 2.467400074005127, 2.4672999382019043, 2.4672000408172607, 2.4672000408172607, 2.4672000408172607, 2.4672000408172607, 2.46560001373291, 2.4663000106811523, 2.4628000259399414, 2.424299955368042, 2.4507999420166016, 2.3705999851226807, 2.4154999256134033, 2.232100009918213, 2.1538000106811523, 2.300600051879883, 2.290600061416626, 2.2869999408721924, 2.0762999057769775, 2.3661999702453613, 1.8233000040054321, 2.108299970626831, 1.9407999515533447, 1.5887999534606934, 2.2102999687194824, 1.8835999965667725, 1.7409000396728516, 1.4408999681472778, 1.481600046157837, 1.5027999877929688, 1.8408000469207764, 1.3257999420166016, 0.7269999980926514, 1.4941999912261963, 1.5786999464035034, 1.5391000509262085, 1.7537000179290771, 1.1347999572753906, 1.149899959564209, 0.786300003528595, 1.1634000539779663, 1.1066999435424805, 1.4779000282287598, 0.6141999959945679, 0.8507000207901001, 2.5773000717163086, 2.5773000717163086, 2.5773000717163086, 2.5773000717163086, 2.577199935913086, 2.577199935913086, 2.577199935913086, 2.577199935913086, 2.5771000385284424, 2.5771000385284424, 2.5771000385284424, 2.5771000385284424, 2.5769999027252197, 2.5769999027252197, 2.5769999027252197, 2.576900005340576, 2.576900005340576, 2.5768001079559326, 2.5768001079559326, 2.5768001079559326, 2.57669997215271, 2.57669997215271, 2.5766000747680664, 2.5766000747680664, 2.5766000747680664, 2.5766000747680664, 2.5764999389648438, 2.5764999389648438, 2.5764999389648438, 2.5764999389648438, 2.5645999908447266, 2.559499979019165, 2.5497000217437744, 2.5408999919891357, 2.5197999477386475, 2.536400079727173, 2.423799991607666, 2.4124999046325684, 2.4161999225616455, 2.4809999465942383, 2.0673000812530518, 2.3977999687194824, 1.5372999906539917, 2.4117000102996826, 2.2179999351501465, 2.296999931335449, 1.8737000226974487, 1.6828999519348145, 1.614799976348877, 1.1571999788284302, 2.222599983215332, 2.041100025177002, 1.1287000179290771, 2.00219988822937, 0.7211999893188477, 1.2024999856948853, 2.0648999214172363, 0.9829999804496765, 2.0738000869750977, -0.34279999136924744, 0.8065999746322632, 1.9132000207901, 1.2513999938964844, 0.9434000253677368, 0.9341999888420105, 1.5849000215530396, 0.4417000114917755, 0.8550999760627747, 0.9384999871253967, 1.51419997215271, -0.11509999632835388, -0.16200000047683716, 2.615299940109253, 2.6152000427246094, 2.6152000427246094, 2.6150999069213867, 2.6150999069213867, 2.6150999069213867, 2.6150999069213867, 2.615000009536743, 2.615000009536743, 2.6149001121520996, 2.6149001121520996, 2.6149001121520996, 2.614799976348877, 2.614799976348877, 2.614799976348877, 2.614799976348877, 2.614799976348877, 2.6147000789642334, 2.6147000789642334, 2.6147000789642334, 2.6145999431610107, 2.614500045776367, 2.614500045776367, 2.6143999099731445, 2.6143999099731445, 2.6143999099731445, 2.6142001152038574, 2.6140999794006348, 2.6140999794006348, 2.614000082015991, 2.613300085067749, 2.6131999492645264, 2.611299991607666, 2.6138999462127686, 2.591399908065796, 2.587899923324585, 2.5690999031066895, 2.603600025177002, 2.591399908065796, 2.573499917984009, 2.5134999752044678, 2.5134999752044678, 2.394399881362915, 2.427299976348877, 2.5527000427246094, 2.364300012588501, 2.3784000873565674, 2.3826000690460205, 2.2904000282287598, 2.4999001026153564, 2.487799882888794, 2.3087000846862793, 2.443700075149536, 2.329900026321411, 1.5533000230789185, 1.9829000234603882, 2.2195000648498535, 1.885599970817566, 1.8489999771118164, 1.545300006866455, 1.6505000591278076, 1.155500054359436, 1.4437999725341797, 1.8824000358581543, 1.3774000406265259, 1.7795000076293945, 1.6912000179290771, 1.0307999849319458, 1.8071999549865723, 1.4809999465942383, 1.9753999710083008, 1.8116999864578247, 1.7855000495910645, 1.562999963760376, 0.18250000476837158, 1.5033999681472778, 1.5262999534606934, 1.188099980354309, 2.689300060272217, 2.689199924468994, 2.6891000270843506, 2.6891000270843506, 2.688699960708618, 2.6886000633239746, 2.688499927520752, 2.6884000301361084, 2.6884000301361084, 2.6884000301361084, 2.6882998943328857, 2.688199996948242, 2.6881000995635986, 2.6881000995635986, 2.687999963760376, 2.687999963760376, 2.687999963760376, 2.687999963760376, 2.6879000663757324, 2.6877999305725098, 2.6877999305725098, 2.687700033187866, 2.6874001026153564, 2.6874001026153564, 2.687299966812134, 2.687299966812134, 2.6870999336242676, 2.687000036239624, 2.687000036239624, 2.6868999004364014, 2.6851000785827637, 2.6805999279022217, 2.6851000785827637, 2.686800003051758, 2.675299882888794, 2.6738998889923096, 2.6728999614715576, 2.6777000427246094, 2.6640000343322754, 2.56850004196167, 2.4402999877929688, 2.5620999336242676, 2.5344998836517334, 2.5797998905181885, 2.5378000736236572, 2.551100015640259, 2.3282999992370605, 2.58240008354187, 2.3935999870300293, 2.5316998958587646, 2.1521999835968018, 2.203399896621704, 2.4897000789642334, 2.226799964904785, 2.293100118637085, 2.3010001182556152, 2.1758999824523926, 2.2318999767303467, 2.327699899673462, 1.2755000591278076, 1.3594000339508057, 1.187399983406067, 1.850600004196167, 2.1219000816345215, 1.8782000541687012, 1.263100028038025, 1.382599949836731, 1.3976999521255493, 0.8245999813079834, 1.2359999418258667, 1.1375000476837158, 0.7411999702453613, 1.6217999458312988, 0.7694000005722046, 1.759600043296814, 1.8545000553131104, 0.1476999968290329, 1.2541999816894531, 0.7760000228881836, 0.27489998936653137, 0.6632000207901001, 0.09889999777078629, 0.5742999911308289, 1.4430999755859375, 1.2517000436782837, 2.7385001182556152, 2.7383999824523926, 2.738300085067749, 2.738300085067749, 2.7381999492645264, 2.73799991607666, 2.73799991607666, 2.7379000186920166, 2.737799882888794, 2.737799882888794, 2.737600088119507, 2.737499952316284, 2.737499952316284, 2.737499952316284, 2.7374000549316406, 2.7374000549316406, 2.7374000549316406, 2.7374000549316406, 2.737299919128418, 2.737299919128418, 2.737299919128418, 2.7372000217437744, 2.7370998859405518, 2.736999988555908, 2.7369000911712646, 2.736799955368042, 2.736799955368042, 2.736799955368042, 2.736799955368042, 2.7367000579833984, 2.734999895095825, 2.7325000762939453, 2.7318999767303467, 2.734800100326538, 2.724299907684326, 2.6819000244140625, 2.712100028991699, 2.676800012588501, 2.6812000274658203, 2.6816999912261963, 2.604599952697754, 2.7019999027252197, 2.66729998588562, 2.7007999420166016, 2.699700117111206, 2.6059999465942383, 2.2973999977111816, 2.554500102996826, 2.626199960708618, 2.516400098800659, 1.9644999504089355, 2.1275999546051025, 2.0239999294281006, 2.2916998863220215, 2.303499937057495, 1.798699975013733, 1.5458999872207642, 1.9977999925613403, 1.7493000030517578, 1.4085999727249146, 1.9658000469207764, 1.9012000560760498, 1.5468000173568726, 1.6726000308990479, 2.0064001083374023, 0.927299976348877, -0.23520000278949738, 0.7890999913215637, 0.8015000224113464, 1.344599962234497, 2.9175000190734863, 2.91729998588562, 2.9172000885009766, 2.9172000885009766, 2.917099952697754, 2.917099952697754, 2.917099952697754, 2.9170000553131104, 2.9170000553131104, 2.9170000553131104, 2.9168999195098877, 2.9168999195098877, 2.9168999195098877, 2.9168999195098877, 2.9168999195098877, 2.916800022125244, 2.916800022125244, 2.916800022125244, 2.9166998863220215, 2.9166998863220215, 2.9166998863220215, 2.9166998863220215, 2.9166998863220215, 2.9166998863220215, 2.9166998863220215, 2.916599988937378, 2.916599988937378, 2.916599988937378, 2.916599988937378, 2.9165000915527344, 2.915800094604492, 2.8847999572753906, 2.904900074005127, 2.841399908065796, 2.900700092315674, 2.8306000232696533, 2.783600091934204, 2.8361001014709473, 2.759500026702881, 2.7374000549316406, 2.589200019836426, 2.7309000492095947, 2.7994000911712646, 2.559499979019165, 2.16129994392395, 2.4974000453948975, 2.458899974822998, 2.0071001052856445, 2.1747000217437744, 1.9775999784469604, 2.391200065612793, 2.2086000442504883, 1.0952999591827393, 0.8184999823570251, 1.9740999937057495, 2.2304999828338623, 1.7901999950408936, 1.402999997138977, 0.4878999888896942, 0.715499997138977, 0.20669999718666077, 0.6025999784469604, 1.6755000352859497, 2.9756999015808105, 2.9755001068115234, 2.9755001068115234, 2.9755001068115234, 2.975399971008301, 2.9753000736236572, 2.9753000736236572, 2.9753000736236572, 2.9751999378204346, 2.9751999378204346, 2.975100040435791, 2.9749999046325684, 2.974900007247925, 2.974900007247925, 2.974900007247925, 2.9748001098632812, 2.9746999740600586, 2.9746999740600586, 2.974600076675415, 2.974600076675415, 2.974600076675415, 2.9744999408721924, 2.9744999408721924, 2.9744999408721924, 2.974400043487549, 2.974400043487549, 2.974299907684326, 2.9742000102996826, 2.9742000102996826, 2.9742000102996826, 2.961400032043457, 2.973900079727173, 2.969599962234497, 2.945499897003174, 2.9546000957489014, 2.8592000007629395, 2.886199951171875, 2.879499912261963, 2.8887999057769775, 2.492300033569336, 2.6364998817443848, 2.729099988937378, 2.2565999031066895, 2.759200096130371, 2.281100034713745, 2.2662999629974365, 2.5703001022338867, 1.6481000185012817, 2.551300048828125, 1.9278000593185425, 2.488100051879883, 1.766800045967102, 2.055000066757202, 0.3111000061035156, 2.0785999298095703, 1.353600025177002, 2.0283000469207764, 1.243499994277954, 1.4227999448776245, 1.5052000284194946, 1.0956000089645386, 1.4565000534057617, 0.5511000156402588, 1.7223000526428223, 0.05920000001788139, 0.06340000033378601, 0.28380000591278076, 2.9983999729156494, 2.998300075531006, 2.998199939727783, 2.998199939727783, 2.9981000423431396, 2.9981000423431396, 2.9981000423431396, 2.997999906539917, 2.997999906539917, 2.9979000091552734, 2.99780011177063, 2.9976999759674072, 2.9976000785827637, 2.9976000785827637, 2.997499942779541, 2.9974000453948975, 2.9974000453948975, 2.9972000122070312, 2.9972000122070312, 2.9971001148223877, 2.9971001148223877, 2.9969000816345215, 2.9969000816345215, 2.996799945831299, 2.996799945831299, 2.996799945831299, 2.996799945831299, 2.9967000484466553, 2.9967000484466553, 2.9967000484466553, 2.9958999156951904, 2.982300043106079, 2.8436999320983887, 2.829900026321411, 2.3914999961853027, 2.842400074005127, 2.7792999744415283, 2.626199960708618, 2.515899896621704, 2.255000114440918, 1.9908000230789185, 2.15910005569458, 2.4398000240325928, 2.42930006980896, 2.4147000312805176, 2.0717999935150146, 2.1665000915527344, 1.951200008392334, 1.9702999591827393, 1.74590003490448, 1.301800012588501, 1.6432000398635864, 1.5324000120162964, 0.6212999820709229, 1.4217000007629395, 1.1754000186920166, 1.1098999977111816, 1.13100004196167, 1.7941999435424805, 0.7275999784469604, 1.186400055885315, 0.6470999717712402, 0.6819000244140625, 1.0757999420166016, 3.0078999996185303, 3.0078999996185303, 3.0078001022338867, 3.007699966430664, 3.0076000690460205, 3.0076000690460205, 3.007499933242798, 3.0074000358581543, 3.0072999000549316, 3.0072999000549316, 3.0072999000549316, 3.007200002670288, 3.007200002670288, 3.0071001052856445, 3.0069000720977783, 3.0067999362945557, 3.006700038909912, 3.0065999031066895, 3.0065999031066895, 3.0065999031066895, 3.006500005722046, 3.006500005722046, 3.006500005722046, 3.0064001083374023, 3.0064001083374023, 3.0062999725341797, 3.0062999725341797, 3.0062999725341797, 3.006200075149536, 3.006200075149536, 2.9860000610351562, 2.999500036239624, 2.9976999759674072, 2.9751999378204346, 2.9951999187469482, 2.8826000690460205, 2.974299907684326, 2.962399959564209, 2.957900047302246, 2.9751999378204346, 2.891700029373169, 2.810800075531006, 2.8961000442504883, 2.5548999309539795, 2.808500051498413, 2.6445000171661377, 2.337399959564209, 1.9180999994277954, 2.4735000133514404, 2.240299940109253, 2.688499927520752, 2.4347000122070312, 2.086199998855591, 2.2214999198913574, 1.625499963760376, 1.3746999502182007, 1.8567999601364136, 2.091599941253662, 1.492400050163269, 2.260499954223633, 2.180000066757202, 1.9250999689102173, 2.163300037384033, 1.5202000141143799, 1.6105999946594238, 0.12300000339746475, 1.732699990272522, 1.6014000177383423, 1.5054999589920044, 0.609000027179718, 0.6725000143051147, 0.42899999022483826, 0.6216999888420105, 0.43050000071525574, 3.0195000171661377, 3.0195000171661377, 3.0195000171661377, 3.019399881362915, 3.0192999839782715, 3.019200086593628, 3.019200086593628, 3.019200086593628, 3.019200086593628, 3.0190000534057617, 3.018899917602539, 3.0188000202178955, 3.0188000202178955, 3.0188000202178955, 3.0188000202178955, 3.0188000202178955, 3.0188000202178955, 3.0188000202178955, 3.0188000202178955, 3.0185999870300293, 3.0185000896453857, 3.0185000896453857, 3.018399953842163, 3.0183000564575195, 3.0183000564575195, 3.0183000564575195, 3.0183000564575195, 3.018199920654297, 3.018199920654297, 3.018199920654297, 2.993000030517578, 3.0134999752044678, 2.819700002670288, 2.941499948501587, 2.9990999698638916, 2.8684000968933105, 2.999799966812134, 2.933799982070923, 2.7167000770568848, 2.8076999187469482, 2.7065999507904053, 2.741499900817871, 2.440700054168701, 2.566499948501587, 2.5571000576019287, 2.101900100708008, 1.8711999654769897, 1.996899962425232, 1.330399990081787, 2.5683999061584473, 0.20759999752044678, 2.1881000995635986, 1.1333999633789062, 0.5289000272750854, 0.6258000135421753, 1.2231999635696411, 0.7892000079154968, 0.814300000667572, 0.27970001101493835, 0.13420000672340393, 3.073899984359741, 3.073899984359741, 3.0738000869750977, 3.0738000869750977, 3.073699951171875, 3.073699951171875, 3.0736000537872314, 3.0736000537872314, 3.073499917984009, 3.0734000205993652, 3.0734000205993652, 3.0734000205993652, 3.0734000205993652, 3.0732998847961426, 3.0732998847961426, 3.0732998847961426, 3.073199987411499, 3.073199987411499, 3.073199987411499, 3.073199987411499, 3.073199987411499, 3.0731000900268555, 3.0731000900268555, 3.0729000568389893, 3.0729000568389893, 3.0727999210357666, 3.0727999210357666, 3.0727999210357666, 3.0727999210357666, 3.072700023651123, 3.0599000453948975, 3.071500062942505, 3.020699977874756, 2.9797000885009766, 2.9728000164031982, 2.6566998958587646, 2.9303998947143555, 2.748699903488159, 2.743799924850464, 2.6735999584198, 2.765399932861328, 2.908600091934204, 2.0416998863220215, 2.325500011444092, 2.1068999767303467, 2.346100091934204, 2.3626999855041504, 1.4594999551773071, 2.5699000358581543, 0.47859999537467957, 1.5886000394821167, 2.386399984359741, 2.1912999153137207, 1.541200041770935, 1.7166999578475952, 1.381500005722046, 0.7513999938964844, 0.4142000079154968, 1.274899959564209, 0.4763000011444092, 3.1875998973846436, 3.1874001026153564, 3.1874001026153564, 3.1874001026153564, 3.1872000694274902, 3.1870999336242676, 3.1870999336242676, 3.187000036239624, 3.1868999004364014, 3.1868999004364014, 3.1868999004364014, 3.1867001056671143, 3.1867001056671143, 3.1867001056671143, 3.1865999698638916, 3.1865999698638916, 3.1865999698638916, 3.1865999698638916, 3.1865999698638916, 3.186500072479248, 3.1863999366760254, 3.186300039291382, 3.186300039291382, 3.186300039291382, 3.186300039291382, 3.186300039291382, 3.186199903488159, 3.186199903488159, 3.186199903488159, 3.1861000061035156, 3.185499906539917, 3.184999942779541, 3.186000108718872, 3.168299913406372, 3.084399938583374, 3.0625998973846436, 3.1691999435424805, 3.147900104522705, 3.0573999881744385, 3.0387001037597656, 2.6867001056671143, 2.903700113296509, 3.0264999866485596, 2.773200035095215, 2.61299991607666, 2.5683000087738037, 2.6087000370025635, 2.5601000785827637, 2.895699977874756, 2.533799886703491, 2.376300096511841, 2.1077001094818115, 1.0772000551223755, 2.5943000316619873, 1.9421000480651855, 1.4452999830245972, 1.5267000198364258, 2.121500015258789, 0.6513000130653381, 1.371899962425232, 1.6117000579833984, 0.3871999979019165, 1.7741999626159668, 0.41260001063346863, 3.1884000301361084, 3.1884000301361084, 3.1882998943328857, 3.1882998943328857, 3.1882998943328857, 3.1882998943328857, 3.1881000995635986, 3.1881000995635986, 3.1879000663757324, 3.1879000663757324, 3.1879000663757324, 3.1879000663757324, 3.1877999305725098, 3.1877999305725098, 3.187700033187866, 3.187700033187866, 3.1875998973846436, 3.1875998973846436, 3.1875, 3.1875, 3.1874001026153564, 3.187299966812134, 3.1872000694274902, 3.1872000694274902, 3.1870999336242676, 3.187000036239624, 3.187000036239624, 3.187000036239624, 3.1868999004364014, 3.1868999004364014, 3.183199882507324, 3.16759991645813, 3.1858999729156494, 3.1865999698638916, 3.1851999759674072, 3.186800003051758, 3.1858999729156494, 3.085900068283081, 2.871000051498413, 2.9449000358581543, 2.818700075149536, 2.7370998859405518, 2.927299976348877, 3.009399890899658, 2.401400089263916, 2.816800117492676, 2.8980000019073486, 2.95989990234375, 2.710700035095215, 2.4379000663757324, 2.4022998809814453, 2.7125000953674316, 0.8420000076293945, 1.455899953842163, 1.8986999988555908, 1.8210999965667725, 1.961400032043457, 1.0608999729156494, 2.000200033187866, 2.1149001121520996, 2.480299949645996, 1.6575000286102295, 0.46309998631477356, 1.6276999711990356, 3.2167000770568848, 3.2165000438690186, 3.2165000438690186, 3.216399908065796, 3.2163000106811523, 3.2163000106811523, 3.216200113296509, 3.216200113296509, 3.216099977493286, 3.2160000801086426, 3.2160000801086426, 3.2160000801086426, 3.2160000801086426, 3.2160000801086426, 3.2160000801086426, 3.2160000801086426, 3.21589994430542, 3.21589994430542, 3.21589994430542, 3.21589994430542, 3.2158000469207764, 3.2158000469207764, 3.2158000469207764, 3.2158000469207764, 3.2158000469207764, 3.2156999111175537, 3.2156999111175537, 3.21560001373291, 3.2155001163482666, 3.2155001163482666, 3.2125000953674316, 3.1775999069213867, 3.1928999423980713, 3.1953999996185303, 3.160900115966797, 3.1602001190185547, 3.092900037765503, 3.015199899673462, 2.9935998916625977, 2.946700096130371, 2.8671998977661133, 2.776099920272827, 2.822999954223633, 2.9667999744415283, 2.767199993133545, 2.948499917984009, 2.481300115585327, 2.5829999446868896, 2.9700000286102295, 2.601799964904785, 0.9664999842643738, 2.433500051498413, -0.11860000342130661, 2.0673999786376953, 1.4378999471664429, 1.454699993133545, 0.6557000279426575, 0.24079999327659607, 0.1851000040769577, 1.8873000144958496, 0.7415000200271606, 3.2490999698638916, 3.2490999698638916, 3.2490999698638916, 3.2490999698638916, 3.249000072479248, 3.2488999366760254, 3.2488999366760254, 3.2488999366760254, 3.2488999366760254, 3.248800039291382, 3.248800039291382, 3.248699903488159, 3.248699903488159, 3.248699903488159, 3.2486000061035156, 3.2486000061035156, 3.2486000061035156, 3.2486000061035156, 3.248500108718872, 3.248500108718872, 3.248500108718872, 3.248500108718872, 3.248500108718872, 3.2483999729156494, 3.2483999729156494, 3.248199939727783, 3.248199939727783, 3.248199939727783, 3.248199939727783, 3.2481000423431396, 3.233299970626831, 3.24780011177063, 3.204200029373169, 3.1751999855041504, 3.171600103378296, 3.1252999305725098, 3.1366000175476074, 3.106100082397461, 3.1473000049591064, 2.910399913787842, 2.8654000759124756, 2.7219998836517334, 2.8642001152038574, 3.02810001373291, 2.34879994392395, 3.040800094604492, 2.3454999923706055, 1.7109999656677246, 2.551800012588501, 2.19950008392334, 1.4323999881744385, 0.8240000009536743, 1.7656999826431274, 1.3833999633789062, 1.0769000053405762, 1.9555000066757202, 0.2524000108242035, 0.529699981212616, 3.265000104904175, 3.264899969100952, 3.264899969100952, 3.264899969100952, 3.2648000717163086, 3.2648000717163086, 3.264699935913086, 3.264699935913086, 3.264699935913086, 3.2646000385284424, 3.2646000385284424, 3.2646000385284424, 3.2646000385284424, 3.2644999027252197, 3.2644999027252197, 3.2644999027252197, 3.264400005340576, 3.264400005340576, 3.264400005340576, 3.2643001079559326, 3.2643001079559326, 3.26419997215271, 3.26419997215271, 3.2641000747680664, 3.2641000747680664, 3.2639999389648438, 3.2639000415802, 3.2639000415802, 3.2639000415802, 3.2639000415802, 3.262700080871582, 3.259999990463257, 3.2339999675750732, 3.2090001106262207, 3.158400058746338, 3.1956000328063965, 3.1338000297546387, 3.231800079345703, 2.897900104522705, 3.1672000885009766, 2.9398999214172363, 2.4626998901367188, 0.90829998254776, 2.440999984741211, 1.8145999908447266, 0.9973999857902527, 2.0977001190185547, 1.8499000072479248, 0.7782999873161316, 1.6136000156402588, 2.158900022506714, 1.4757000207901, 0.45190000534057617, 1.8665000200271606, 0.7555999755859375, 0.8357999920845032, 0.4002000093460083, 3.2678000926971436, 3.267699956893921, 3.267699956893921, 3.2676000595092773, 3.2674999237060547, 3.2674999237060547, 3.2674999237060547, 3.267400026321411, 3.267400026321411, 3.267400026321411, 3.2672998905181885, 3.2672998905181885, 3.2672998905181885, 3.2672998905181885, 3.2672998905181885, 3.267199993133545, 3.2671000957489014, 3.2671000957489014, 3.2671000957489014, 3.2669999599456787, 3.266900062561035, 3.266900062561035, 3.2667999267578125, 3.2667999267578125, 3.266700029373169, 3.266700029373169, 3.266700029373169, 3.2665998935699463, 3.2665998935699463, 3.2665998935699463, 3.2632999420166016, 3.211899995803833, 3.063699960708618, 3.105600118637085, 2.986299991607666, 3.2242000102996826, 3.0095999240875244, 2.9837000370025635, 2.9935998916625977, 3.099299907684326, 2.9196999073028564, 2.954400062561035, 2.985300064086914, 3.065700054168701, 2.873800039291382, 2.734600067138672, 1.8746999502182007, 2.9030001163482666, 2.901700019836426, 2.3369998931884766, 2.5074000358581543, 2.6593000888824463, 2.3066999912261963, 0.557699978351593, -0.453900009393692, 2.2237000465393066, 0.7842000126838684, 1.4855999946594238, 0.9805999994277954, 3.3262999057769775, 3.326200008392334, 3.3261001110076904, 3.3261001110076904, 3.3261001110076904, 3.3259999752044678, 3.325900077819824, 3.325900077819824, 3.3257999420166016, 3.325700044631958, 3.325700044631958, 3.325700044631958, 3.3255999088287354, 3.3255999088287354, 3.3255999088287354, 3.325200080871582, 3.3250999450683594, 3.325000047683716, 3.325000047683716, 3.324899911880493, 3.324899911880493, 3.324899911880493, 3.324899911880493, 3.324899911880493, 3.324899911880493, 3.3248000144958496, 3.3248000144958496, 3.3248000144958496, 3.324700117111206, 3.324700117111206, 3.324700117111206, 3.3225998878479004, 3.3041999340057373, 3.3011999130249023, 3.182499885559082, 3.224900007247925, 3.2030999660491943, 2.8473000526428223, 3.2021000385284424, 2.8907999992370605, 2.8083999156951904, 3.1289000511169434, 3.053100109100342, 2.3057000637054443, 2.087100028991699, 2.2660000324249268, 2.7704999446868896, 2.2990000247955322, 2.253200054168701, 2.7539000511169434, 2.2625999450683594, 2.3306000232696533, 1.4526000022888184, 2.5627999305725098, 1.4804999828338623, 2.697999954223633, 1.097100019454956, 0.6603000164031982, 1.3664000034332275, 1.9471999406814575, 2.129199981689453, -0.6388999819755554, 0.7888000011444092, 0.8610000014305115, 1.541700005531311, 1.9292999505996704, 3.3812999725341797, 3.3812999725341797, 3.3812999725341797, 3.381200075149536, 3.381200075149536, 3.381200075149536, 3.3810999393463135, 3.38100004196167, 3.3808999061584473, 3.3808999061584473, 3.3808999061584473, 3.3808999061584473, 3.3808000087738037, 3.38070011138916, 3.38070011138916, 3.38070011138916, 3.3805999755859375, 3.3805999755859375, 3.3805999755859375, 3.380500078201294, 3.380500078201294, 3.3803999423980713, 3.3803999423980713, 3.3803000450134277, 3.3803000450134277, 3.380199909210205, 3.380199909210205, 3.3801000118255615, 3.3801000118255615, 3.3798999786376953, 3.3768999576568604, 3.323499917984009, 3.342400074005127, 3.2927000522613525, 3.238800048828125, 3.2290000915527344, 3.1882998943328857, 2.606800079345703, 2.7177000045776367, 2.8798999786376953, 2.960599899291992, 2.957200050354004, 2.482300043106079, 2.1663999557495117, 2.387200117111206, 2.1494998931884766, 2.3685998916625977, 2.581399917602539, 2.069499969482422, 2.4663000106811523, 2.33270001411438, 1.5930999517440796, 0.18080000579357147, 2.227299928665161, 1.0856000185012817, 3.6233999729156494, 3.623300075531006, 3.623199939727783, 3.6231000423431396, 3.622999906539917, 3.622999906539917, 3.6229000091552734, 3.6229000091552734, 3.6226999759674072, 3.6226000785827637, 3.622499942779541, 3.6224000453948975, 3.6224000453948975, 3.622299909591675, 3.622299909591675, 3.621999979019165, 3.621999979019165, 3.6219000816345215, 3.6219000816345215, 3.6219000816345215, 3.621799945831299, 3.621799945831299, 3.621799945831299, 3.621799945831299, 3.6217000484466553, 3.6217000484466553, 3.6217000484466553, 3.6217000484466553, 3.6215999126434326, 3.621500015258789, 3.6208999156951904, 3.584700107574463, 3.597899913787842, 3.618000030517578, 3.5776000022888184, 3.3757998943328857, 2.797100067138672, 3.3982999324798584, 2.939300060272217, 2.4695000648498535, 3.375699996948242, 2.2746999263763428, 2.1033999919891357, 2.262399911880493, 1.613800048828125, 1.8624000549316406, 1.4362000226974487, 1.5439000129699707, 2.7030999660491943, 1.4634000062942505, 1.753600001335144, 2.3290998935699463, 1.4112999439239502, 1.399899959564209, 1.8660999536514282, -0.3107999861240387, 1.1660000085830688, 1.4808000326156616, 0.5389999747276306], \"logprob\": [30.0, 29.0, 28.0, 27.0, 26.0, 25.0, 24.0, 23.0, 22.0, 21.0, 20.0, 19.0, 18.0, 17.0, 16.0, 15.0, 14.0, 13.0, 12.0, 11.0, 10.0, 9.0, 8.0, 7.0, 6.0, 5.0, 4.0, 3.0, 2.0, 1.0, -5.071300029754639, -5.482800006866455, -5.486800193786621, -5.700200080871582, -5.804599761962891, -5.8403000831604, -5.929800033569336, -5.9583001136779785, -6.033400058746338, -6.255799770355225, -6.266900062561035, -6.379199981689453, -6.42140007019043, -6.448299884796143, -6.509099960327148, -6.546299934387207, -6.639100074768066, -6.654900074005127, -6.671800136566162, -6.676599979400635, -6.730800151824951, -6.774700164794922, -6.780200004577637, -6.79449987411499, -6.819399833679199, -6.920000076293945, -6.6992998123168945, -6.982100009918213, -6.990900039672852, -7.011199951171875, -5.579100131988525, -5.6722002029418945, -6.519100189208984, -4.005799770355225, -6.118500232696533, -5.700900077819824, -6.3292999267578125, -5.126399993896484, -4.659800052642822, -5.66540002822876, -5.701200008392334, -5.7006001472473145, -4.748899936676025, -6.168099880218506, -3.9395999908447266, -5.250899791717529, -4.895500183105469, -3.849600076675415, -5.827700138092041, -5.137800216674805, -4.916100025177002, -4.347700119018555, -4.44789981842041, -4.507900238037109, -5.124199867248535, -4.230899810791016, -3.6933999061584473, -4.727399826049805, -4.931300163269043, -4.9832000732421875, -5.257400035858154, -5.035900115966797, -5.112400054931641, -5.095799922943115, -5.329500198364258, -5.376800060272217, -5.51800012588501, -5.392000198364258, -5.480599880218506, -5.677199840545654, -5.7368998527526855, -5.782100200653076, -5.860300064086914, -5.945700168609619, -6.020400047302246, -6.043700218200684, -6.113699913024902, -5.589300155639648, -6.1717000007629395, -6.241099834442139, -6.186800003051758, -6.316199779510498, -6.362599849700928, -6.2270002365112305, -6.509200096130371, -6.514100074768066, -6.593800067901611, -6.631700038909912, -6.67549991607666, -6.769999980926514, -6.79010009765625, -6.806399822235107, -6.823999881744385, -6.8119001388549805, -6.88129997253418, -6.8892998695373535, -6.901100158691406, -6.9309000968933105, -6.956200122833252, -6.128200054168701, -6.19379997253418, -6.31220006942749, -6.2505998611450195, -6.132800102233887, -6.4934000968933105, -5.86269998550415, -5.802599906921387, -5.861700057983398, -6.333899974822998, -5.081999778747559, -6.135799884796143, -3.970400094985962, -6.174300193786621, -5.7164998054504395, -5.9918999671936035, -5.251100063323975, -5.078700065612793, -5.11299991607666, -4.553400039672852, -5.938399791717529, -5.783899784088135, -4.956099987030029, -5.81790018081665, -4.956099987030029, -5.302700042724609, -5.876999855041504, -5.262199878692627, -5.896500110626221, -4.763199806213379, -5.350299835205078, -5.826900005340576, -5.6072998046875, -5.579800128936768, -5.604599952697754, -5.769499778747559, -5.486800193786621, -5.622700214385986, -5.692500114440918, -5.79010009765625, -5.68310022354126, -5.711999893188477, -5.90749979019165, -5.950699806213379, -6.0366997718811035, -6.171299934387207, -6.175099849700928, -6.210100173950195, -6.282700061798096, -6.401100158691406, -6.414899826049805, -6.488699913024902, -6.514699935913086, -6.523900032043457, -6.5690999031066895, -6.545899868011475, -6.598499774932861, -6.601500034332275, -6.618199825286865, -6.766600131988525, -6.700399875640869, -6.774600028991699, -6.7947998046875, -6.871200084686279, -6.905700206756592, -6.972700119018555, -6.999000072479248, -7.007400035858154, -7.154300212860107, -7.1682000160217285, -7.172900199890137, -7.235499858856201, -5.731100082397461, -6.685100078582764, -6.59499979019165, -6.9045000076293945, -5.702700138092041, -5.859099864959717, -5.6417999267578125, -6.627799987792969, -6.436699867248535, -6.190800189971924, -5.372200012207031, -5.39300012588501, -4.252200126647949, -5.141600131988525, -6.1981000900268555, -4.821700096130371, -5.214300155639648, -5.3480000495910645, -5.060800075531006, -6.066500186920166, -6.163700103759766, -5.633200168609619, -6.125, -5.889200210571289, -4.305600166320801, -5.26230001449585, -5.731599807739258, -5.268199920654297, -5.260000228881836, -4.838799953460693, -5.025400161743164, -4.412499904632568, -4.883399963378906, -5.4028000831604, -4.87939977645874, -5.308300018310547, -5.243299961090088, -4.7469000816345215, -5.479899883270264, -5.32889986038208, -5.602700233459473, -5.558199882507324, -5.548399925231934, -5.544300079345703, -5.367499828338623, -5.55109977722168, -5.556700229644775, -5.567599773406982, -5.395999908447266, -5.72160005569458, -5.771500110626221, -5.89769983291626, -6.448999881744385, -6.100100040435791, -6.716599941253662, -6.755899906158447, -6.791900157928467, -6.828000068664551, -6.172999858856201, -6.9328999519348145, -7.003399848937988, -7.031099796295166, -6.365200042724609, -7.0854997634887695, -7.091700077056885, -7.121500015258789, -7.152100086212158, -7.186399936676025, -7.207099914550781, -6.86329984664917, -7.338399887084961, -7.308300018310547, -7.4679999351501465, -7.485499858856201, -7.561399936676025, -7.575799942016602, -7.577300071716309, -7.622099876403809, -4.599100112915039, -6.630000114440918, -7.085999965667725, -7.524199962615967, -6.629899978637695, -6.695199966430664, -6.676400184631348, -6.953999996185303, -6.659599781036377, -5.44189977645874, -4.840799808502197, -5.95989990234375, -5.826700210571289, -6.413700103759766, -6.170899868011475, -6.256199836730957, -5.130300045013428, -6.486400127410889, -5.615099906921387, -6.353000164031982, -5.133200168609619, -5.334799766540527, -6.277299880981445, -5.635700225830078, -5.804900169372559, -5.825500011444092, -5.574900150299072, -5.768099784851074, -5.964900016784668, -4.182600021362305, -4.521299839019775, -4.523200035095215, -5.428299903869629, -5.803899765014648, -5.605100154876709, -4.982100009918213, -5.140600204467773, -5.23330020904541, -4.852700233459473, -5.269000053405762, -5.246600151062012, -5.117800235748291, -5.565400123596191, -5.236800193786621, -5.636099815368652, -5.67549991607666, -5.2906999588012695, -5.543300151824951, -5.442500114440918, -5.422999858856201, -5.49370002746582, -5.451099872589111, -5.51039981842041, -5.593100070953369, -5.59060001373291, -3.7244999408721924, -4.869500160217285, -5.114999771118164, -5.4421000480651855, -5.730500221252441, -6.003200054168701, -6.019400119781494, -6.269199848175049, -6.320499897003174, -6.3815999031066895, -6.564799785614014, -6.65339994430542, -6.663000106811523, -6.6946001052856445, -6.7606000900268555, -6.769899845123291, -6.776599884033203, -6.7895002365112305, -6.857500076293945, -6.868299961090088, -6.871500015258789, -6.920400142669678, -6.991099834442139, -7.035099983215332, -7.139500141143799, -7.169899940490723, -7.177999973297119, -7.2083001136779785, -7.211100101470947, -7.230299949645996, -5.15369987487793, -5.387700080871582, -5.493599891662598, -6.054299831390381, -5.8231000900268555, -4.148399829864502, -5.703400135040283, -4.532299995422363, -5.088099956512451, -5.14709997177124, -4.135300159454346, -6.092899799346924, -5.530200004577637, -6.107100009918213, -6.143599987030029, -5.631499767303467, -3.964900016784668, -5.563300132751465, -6.035999774932861, -5.648200035095215, -3.4937000274658203, -4.410600185394287, -4.1468000411987305, -5.177599906921387, -5.205999851226807, -4.211999893188477, -3.8924999237060547, -4.8165998458862305, -4.581900119781494, -4.1479997634887695, -4.941800117492676, -4.922800064086914, -4.674799919128418, -4.978400230407715, -5.2322998046875, -4.835700035095215, -4.655600070953369, -4.999499797821045, -5.095699787139893, -5.2758002281188965, -4.292300224304199, -5.287199974060059, -5.504199981689453, -5.550300121307373, -5.713799953460693, -5.719699859619141, -5.760700225830078, -5.802800178527832, -5.8383002281188965, -5.933499813079834, -5.954599857330322, -5.98199987411499, -5.982800006866455, -6.042699813842773, -6.088799953460693, -6.133200168609619, -6.148900032043457, -6.193600177764893, -6.269599914550781, -6.152299880981445, -6.28000020980835, -6.307799816131592, -6.317500114440918, -6.322400093078613, -6.341800212860107, -6.319399833679199, -6.393599987030029, -6.417600154876709, -6.437699794769287, -6.475500106811523, -4.32420015335083, -2.61929988861084, -4.888599872589111, -3.032099962234497, -5.826600074768066, -4.837399959564209, -4.940999984741211, -5.523499965667725, -4.951300144195557, -5.250400066375732, -5.11269998550415, -5.650100231170654, -5.889699935913086, -5.375199794769287, -4.561500072479248, -5.351799964904785, -5.372600078582764, -4.7692999839782715, -5.195199966430664, -5.076900005340576, -5.494500160217285, -5.399600028991699, -4.833199977874756, -4.87939977645874, -5.463600158691406, -5.569799900054932, -5.455100059509277, -5.366199970245361, -5.1894001960754395, -5.2906999588012695, -5.361299991607666, -5.395400047302246, -5.473700046539307, -4.320199966430664, -5.1519999504089355, -5.2667999267578125, -5.363999843597412, -5.374499797821045, -5.622700214385986, -5.670400142669678, -5.784900188446045, -5.840700149536133, -5.890999794006348, -6.093599796295166, -6.153200149536133, -6.223800182342529, -6.273799896240234, -6.307300090789795, -6.329500198364258, -6.502200126647949, -6.513299942016602, -6.521200180053711, -6.528800010681152, -6.5945000648498535, -6.611599922180176, -6.617099761962891, -6.657899856567383, -6.686399936676025, -6.742099761962891, -6.747000217437744, -6.820300102233887, -6.564000129699707, -6.855599880218506, -4.627299785614014, -6.747000217437744, -6.4980998039245605, -5.371099948883057, -6.030700206756592, -4.4105000495910645, -5.363399982452393, -5.8582000732421875, -6.030399799346924, -4.398900032043457, -5.315999984741211, -5.720900058746338, -4.310299873352051, -5.889999866485596, -4.533299922943115, -4.972400188446045, -5.639900207519531, -4.443699836730957, -5.7170000076293945, -4.940000057220459, -5.675099849700928, -5.033699989318848, -5.358799934387207, -4.109300136566162, -5.48829984664917, -5.1641998291015625, -5.515100002288818, -5.2399001121521, -5.304999828338623, -5.4618000984191895, -5.382400035858154, -5.472700119018555, -5.331099987030029, -5.550600051879883, -5.448500156402588, -5.486599922180176, -5.504799842834473, -4.06790018081665, -4.67080020904541, -4.809899806976318, -5.115300178527832, -5.251200199127197, -5.252600193023682, -5.264100074768066, -5.4710001945495605, -5.5903000831604, -5.742199897766113, -5.86269998550415, -6.080699920654297, -4.701499938964844, -6.221099853515625, -6.324699878692627, -6.405399799346924, -6.42549991607666, -6.582300186157227, -6.5954999923706055, -6.606800079345703, -6.67140007019043, -6.778299808502197, -6.815199851989746, -6.7677001953125, -6.831099987030029, -6.8445000648498535, -6.86899995803833, -6.882999897003174, -6.89169979095459, -6.898499965667725, -6.652100086212158, -6.186699867248535, -5.918399810791016, -5.890900135040283, -3.5380001068115234, -6.124899864196777, -5.904200077056885, -5.377500057220459, -5.0524001121521, -5.070799827575684, -4.530799865722656, -4.932499885559082, -5.4842000007629395, -5.502500057220459, -5.480999946594238, -4.950200080871582, -5.147299766540527, -4.969900131225586, -4.996699810028076, -4.739799976348877, -4.254799842834473, -4.688000202178955, -4.638299942016602, -3.799099922180176, -4.588900089263916, -4.587500095367432, -4.678699970245361, -4.751200199127197, -5.1707000732421875, -4.840400218963623, -4.998300075531006, -4.860599994659424, -5.078499794006348, -5.18179988861084, -4.610099792480469, -4.813300132751465, -5.116300106048584, -5.282700061798096, -5.506800174713135, -5.541100025177002, -5.856599807739258, -5.891300201416016, -6.019000053405762, -6.073699951171875, -6.115099906921387, -6.229800224304199, -6.257199764251709, -6.2835001945495605, -6.468200206756592, -6.607399940490723, -6.635200023651123, -6.551000118255615, -6.708099842071533, -6.743199825286865, -6.762400150299072, -6.776599884033203, -6.795899868011475, -6.647200107574463, -6.872300148010254, -6.90369987487793, -6.902599811553955, -6.910099983215332, -6.8730998039245605, -6.954899787902832, -5.304200172424316, -6.321700096130371, -6.252200126647949, -5.94890022277832, -6.604899883270264, -4.114099979400635, -6.112199783325195, -5.981599807739258, -6.022900104522705, -6.3470001220703125, -5.763999938964844, -5.365699768066406, -6.149199962615967, -4.99429988861084, -5.918300151824951, -5.494500160217285, -4.837500095367432, -3.979099988937378, -5.353499889373779, -4.944900035858154, -5.814300060272217, -5.52239990234375, -5.099400043487549, -5.281599998474121, -4.5929999351501465, -4.385700225830078, -4.980800151824951, -5.230500221252441, -4.752799987792969, -5.428599834442139, -5.379199981689453, -5.189300060272217, -5.38539981842041, -4.992000102996826, -5.077700138092041, -4.297399997711182, -5.166100025177002, -5.106500148773193, -5.1255998611450195, -4.898799896240234, -5.025400161743164, -5.120999813079834, -5.258999824523926, -5.3471999168396, -3.168100118637085, -3.744499921798706, -3.949199914932251, -4.088799953460693, -5.05210018157959, -5.155600070953369, -5.215400218963623, -5.219799995422363, -5.390699863433838, -5.650700092315674, -5.851500034332275, -6.011099815368652, -6.033199787139893, -6.04580020904541, -6.047900199890137, -6.058300018310547, -6.063000202178955, -6.0671000480651855, -6.074999809265137, -6.3094000816345215, -6.337399959564209, -6.376100063323975, -6.495299816131592, -6.523099899291992, -6.526400089263916, -6.564799785614014, -6.583099842071533, -6.595699787139893, -6.600900173187256, -6.652900218963623, -3.9451000690460205, -6.180799961090088, -3.4430999755859375, -5.541600227355957, -6.359899997711182, -5.468400001525879, -6.393799781799316, -5.968299865722656, -5.040500164031982, -5.472499847412109, -5.337100028991699, -5.517199993133545, -4.896599769592285, -5.415500164031982, -5.433199882507324, -4.914400100708008, -4.650400161743164, -5.042300224304199, -4.551700115203857, -5.655900001525879, -4.212800025939941, -5.508500099182129, -5.124199867248535, -5.027699947357178, -5.151899814605713, -5.315700054168701, -5.3221001625061035, -5.3703999519348145, -5.4182000160217285, -5.433800220489502, -3.89739990234375, -3.903599977493286, -4.436600208282471, -4.543700218200684, -4.983099937438965, -5.046800136566162, -5.093699932098389, -5.309100151062012, -5.458499908447266, -5.609000205993652, -5.656599998474121, -5.684100151062012, -5.684100151062012, -5.799099922180176, -5.8078999519348145, -5.90310001373291, -5.920199871063232, -5.979400157928467, -6.018799781799316, -6.029900074005127, -6.0345001220703125, -6.087699890136719, -6.14870023727417, -6.283400058746338, -6.341100215911865, -6.391900062561035, -6.401000022888184, -6.427000045776367, -6.438499927520752, -6.4618000984191895, -5.018700122833252, -6.407400131225586, -5.392499923706055, -5.1381001472473145, -5.667900085449219, -3.8213000297546387, -5.630000114440918, -4.926599979400635, -4.917300224304199, -5.13670015335083, -5.414100170135498, -5.706099987030029, -4.0696001052856445, -4.73769998550415, -4.742099761962891, -5.10860013961792, -5.159299850463867, -4.329100131988525, -5.3780999183654785, -3.941800117492676, -4.933700084686279, -5.350299835205078, -5.2642998695373535, -4.980400085449219, -5.190899848937988, -5.096199989318848, -5.130799770355225, -5.153800010681152, -5.263899803161621, -5.22160005569458, -4.2459001541137695, -5.133299827575684, -4.099599838256836, -5.264699935913086, -5.558300018310547, -5.661300182342529, -5.686200141906738, -5.821300029754639, -5.939300060272217, -5.95419979095459, -5.950300216674805, -6.167799949645996, -6.179699897766113, -6.21150016784668, -6.27370023727417, -6.303800106048584, -4.813899993896484, -6.32859992980957, -6.329599857330322, -6.375100135803223, -6.424600124359131, -6.503600120544434, -6.5243000984191895, -6.538700103759766, -6.5395002365112305, -6.5406999588012695, -6.565899848937988, -6.591100215911865, -6.625199794769287, -6.6433000564575195, -5.526899814605713, -5.80649995803833, -6.399099826812744, -6.111999988555908, -4.338799953460693, -4.5640997886657715, -6.239299774169922, -6.186600208282471, -5.7540998458862305, -5.706399917602539, -4.389599800109863, -5.277100086212158, -5.782700061798096, -5.048299789428711, -4.824699878692627, -4.979499816894531, -5.184999942779541, -5.112599849700928, -5.732100009918213, -5.174099922180176, -4.966400146484375, -4.668700218200684, -4.380899906158447, -5.520299911499023, -5.303100109100342, -5.060500144958496, -5.161600112915039, -5.47730016708374, -5.126399993896484, -5.350900173187256, -5.477099895477295, -5.310699939727783, -5.501500129699707, -5.468100070953369, -3.4683001041412354, -4.0817999839782715, -4.346700191497803, -4.4953999519348145, -4.700399875640869, -4.759500026702881, -5.21120023727417, -5.353300094604492, -5.5833001136779785, -5.600900173187256, -5.601600170135498, -5.637400150299072, -5.776800155639648, -5.86899995803833, -5.930200099945068, -5.98829984664917, -6.087800025939941, -6.028200149536133, -6.170199871063232, -6.182700157165527, -6.2519001960754395, -5.822700023651123, -6.396399974822998, -6.416800022125244, -6.461100101470947, -6.5167999267578125, -6.55709981918335, -6.570199966430664, -6.61929988861084, -6.63670015335083, -5.568699836730957, -4.152900218963623, -6.164700031280518, -6.2480998039245605, -6.115099906921387, -6.318600177764893, -6.252299785614014, -4.4334001541137695, -3.8071000576019287, -4.44320011138916, -3.5834999084472656, -4.230800151824951, -5.09499979019165, -5.489099979400635, -3.6903998851776123, -5.059899806976318, -5.438899993896484, -5.585299968719482, -5.1031999588012695, -4.641499996185303, -4.718699932098389, -5.338799953460693, -3.578399896621704, -4.441400051116943, -4.809199810028076, -4.948200225830078, -5.018799781799316, -4.649700164794922, -5.1869001388549805, -5.254799842834473, -5.3495001792907715, -5.271900177001953, -5.297299861907959, -5.3317999839782715, -4.444200038909912, -5.101399898529053, -5.285900115966797, -5.401899814605713, -5.6483001708984375, -5.68209981918335, -5.723100185394287, -5.78249979019165, -5.884699821472168, -5.991499900817871, -6.055200099945068, -6.055600166320801, -6.05709981918335, -6.063799858093262, -6.058000087738037, -6.0742998123168945, -6.081600189208984, -6.101399898529053, -6.123199939727783, -6.1508002281188965, -6.193999767303467, -6.211400032043457, -6.216899871826172, -6.229000091552734, -6.249100208282471, -6.294300079345703, -6.345099925994873, -6.4079999923706055, -6.444300174713135, -6.472599983215332, -5.649400234222412, -4.828700065612793, -5.848599910736084, -5.914100170135498, -5.573999881744385, -5.79640007019043, -5.315199851989746, -5.237199783325195, -5.301300048828125, -5.42110013961792, -5.207300186157227, -5.241499900817871, -5.4232001304626465, -5.6722002029418945, -5.3815999031066895, -5.677199840545654, -5.083799839019775, -5.381899833679199, -5.8354997634887695, -5.540500164031982, -4.583499908447266, -5.517499923706055, -4.539000034332275, -5.441400051116943, -5.284800052642822, -5.342899799346924, -5.27269983291626, -5.266900062561035, -5.273099899291992, -5.567999839782715, -5.5858001708984375, -4.970900058746338, -5.062900066375732, -5.126200199127197, -5.1697001457214355, -5.413599967956543, -5.433899879455566, -5.440899848937988, -5.490300178527832, -5.568699836730957, -5.635300159454346, -5.263400077819824, -5.793799877166748, -5.794000148773193, -5.827600002288818, -5.904799938201904, -5.928899765014648, -5.946100234985352, -5.967899799346924, -6.020299911499023, -6.034800052642822, -6.037799835205078, -5.988800048828125, -6.089300155639648, -6.142899990081787, -6.189899921417236, -6.320099830627441, -6.330900192260742, -6.3471999168396, -6.35260009765625, -6.376699924468994, -4.298299789428711, -5.854300022125244, -4.46560001373291, -4.153600215911865, -4.279699802398682, -4.407299995422363, -4.986299991607666, -4.853700160980225, -5.231200218200684, -4.569799900054932, -4.7982001304626465, -4.670599937438965, -5.049099922180176, -5.576700210571289, -4.526899814605713, -5.679500102996826, -5.050600051879883, -4.801199913024902, -5.48390007019043, -5.3491997718811035, -5.053299903869629, -4.873899936676025, -5.25629997253418, -5.236999988555908, -5.179900169372559, -5.361700057983398, -5.255300045013428, -5.367499828338623, -4.425899982452393, -4.711999893188477, -4.765600204467773, -4.863399982452393, -5.031400203704834, -5.164899826049805, -5.322400093078613, -5.354400157928467, -5.384099960327148, -5.52400016784668, -5.56689977645874, -5.6168999671936035, -5.622900009155273, -5.705399990081787, -5.755899906158447, -5.766200065612793, -5.813700199127197, -5.481200218200684, -5.886000156402588, -5.997399806976318, -6.018599987030029, -6.107900142669678, -6.113800048828125, -6.136000156402588, -6.183800220489502, -6.2881999015808105, -6.3078999519348145, -6.317200183868408, -6.322400093078613, -6.334700107574463, -5.516499996185303, -5.383200168609619, -5.719399929046631, -5.346700191497803, -4.7692999839782715, -5.490699768066406, -5.137599945068359, -5.979499816894531, -4.931700229644775, -5.790200233459473, -5.584400177001953, -5.089399814605713, -3.5120999813079834, -5.13539981842041, -5.043000221252441, -4.780300140380859, -5.27400016784668, -5.212399959564209, -4.919600009918213, -5.204800128936768, -5.390100002288818, -5.252200126647949, -5.098100185394287, -5.345300197601318, -5.2505998611450195, -5.348899841308594, -5.360300064086914, -4.174099922180176, -4.7418999671936035, -4.906899929046631, -5.0920000076293945, -5.2144999504089355, -5.334099769592285, -5.412099838256836, -5.465799808502197, -5.477700233459473, -5.4893999099731445, -5.604899883270264, -5.684700012207031, -5.703800201416016, -5.714300155639648, -5.735400199890137, -5.813000202178955, -5.890100002288818, -5.9334001541137695, -5.963200092315674, -6.0503997802734375, -6.105299949645996, -6.127900123596191, -6.2027997970581055, -6.266499996185303, -6.279900074005127, -6.315100193023682, -5.721399784088135, -6.354000091552734, -6.3368000984191895, -6.361199855804443, -4.998000144958496, -4.268099784851074, -3.783900022506714, -4.817299842834473, -4.0706000328063965, -5.936299800872803, -4.471199989318848, -4.389599800109863, -4.63640022277832, -5.341599941253662, -4.830699920654297, -5.100599765777588, -5.219900131225586, -5.433000087738037, -5.036600112915039, -4.797999858856201, -4.053800106048584, -5.279200077056885, -5.338900089263916, -4.950900077819824, -5.086999893188477, -5.2357001304626465, -5.202099800109863, -4.992300033569336, -4.874300003051758, -5.296500205993652, -5.213799953460693, -5.273099899291992, -5.2769999504089355, -4.195499897003174, -4.860300064086914, -4.968299865722656, -5.006800174713135, -5.12060022354126, -5.281000137329102, -5.454100131988525, -5.4664998054504395, -5.543600082397461, -5.709700107574463, -5.725500106811523, -5.781799793243408, -5.850599765777588, -5.872399806976318, -5.899400234222412, -6.220799922943115, -6.329599857330322, -6.3907999992370605, -6.406000137329102, -6.453700065612793, -6.467700004577637, -6.481599807739258, -6.484899997711182, -6.4878997802734375, -6.494200229644775, -6.512400150299072, -6.536099910736084, -6.554599761962891, -6.562399864196777, -6.56850004196167, -6.56279993057251, -6.47629976272583, -6.1132001876831055, -6.1031999588012695, -4.519499778747559, -5.748000144958496, -5.870100021362305, -4.776800155639648, -6.073299884796143, -5.106800079345703, -4.8902997970581055, -5.863500118255615, -5.734399795532227, -4.211999893188477, -4.1697001457214355, -4.520199775695801, -5.443299770355225, -4.809999942779541, -4.893199920654297, -5.4770002365112305, -5.007699966430664, -5.085299968719482, -4.406300067901611, -5.460999965667725, -5.005199909210205, -5.579599857330322, -4.99459981918335, -4.889699935913086, -5.139400005340576, -5.378600120544434, -5.425300121307373, -5.0594000816345215, -5.295899868011475, -5.357500076293945, -5.423500061035156, -5.4440999031066895, -4.135700225830078, -4.195099830627441, -4.339000225067139, -4.498700141906738, -4.507699966430664, -4.599100112915039, -5.02839994430542, -5.098800182342529, -5.3059000968933105, -5.309500217437744, -5.409900188446045, -5.444499969482422, -5.504899978637695, -5.609099864959717, -5.646999835968018, -5.723899841308594, -5.749800205230713, -5.7708001136779785, -5.819799900054932, -5.872099876403809, -5.911200046539307, -5.969200134277344, -6.007699966430664, -6.053999900817871, -6.055300235748291, -6.143899917602539, -6.172900199890137, -6.244900226593018, -6.280700206756592, -6.373600006103516, -4.6407999992370605, -3.9681999683380127, -5.0289998054504395, -4.876100063323975, -4.564300060272217, -4.745699882507324, -5.053599834442139, -4.108399868011475, -4.394000053405762, -4.804500102996826, -5.111599922180176, -5.112299919128418, -4.606500148773193, -4.235799789428711, -4.577899932861328, -4.333899974822998, -4.599299907684326, -4.8343000411987305, -4.436299800872803, -4.749000072479248, -4.754799842834473, -4.498600006103516, -4.23960018157959, -4.991199970245361, -4.811699867248535, -3.2862000465393066, -4.27370023727417, -4.701099872589111, -4.905399799346924, -5.064899921417236, -5.131899833679199, -5.143599987030029, -5.288899898529053, -5.509900093078613, -5.684500217437744, -5.712399959564209, -5.873199939727783, -5.873899936676025, -5.899700164794922, -5.918399810791016, -6.1433000564575195, -6.149700164794922, -6.193999767303467, -6.220099925994873, -6.220900058746338, -6.238900184631348, -6.244100093841553, -6.260300159454346, -6.287600040435791, -6.304999828338623, -6.335400104522705, -6.343299865722656, -6.343999862670898, -6.355199813842773, -6.402900218963623, -6.186100006103516, -4.110499858856201, -5.013899803161621, -6.0258002281188965, -4.406799793243408, -3.890500068664551, -4.242099761962891, -5.826700210571289, -5.041600227355957, -4.406099796295166, -5.860899925231934, -4.49459981918335, -4.389500141143799, -4.658599853515625, -4.149099826812744, -4.468900203704834, -4.131800174713135, -4.338200092315674, -5.342899799346924, -4.721399784088135, -4.9141998291015625, -5.23859977722168, -4.810299873352051, -4.9274001121521, -5.146900177001953, -4.731200218200684, -5.091599941253662, -5.212399959564209, -5.221499919891357]}, \"token.table\": {\"Topic\": [1, 2, 3, 6, 7, 9, 11, 12, 13, 14, 16, 18, 20, 2, 3, 6, 7, 10, 11, 12, 13, 1, 2, 3, 4, 6, 7, 8, 9, 11, 13, 16, 4, 6, 13, 14, 16, 20, 14, 11, 14, 17, 14, 18, 1, 4, 6, 9, 11, 14, 11, 2, 2, 8, 10, 1, 2, 4, 5, 7, 10, 17, 2, 3, 4, 5, 6, 7, 9, 11, 12, 16, 17, 19, 20, 3, 6, 7, 9, 11, 12, 15, 17, 11, 14, 16, 19, 6, 6, 3, 4, 6, 8, 11, 17, 18, 3, 14, 14, 1, 2, 3, 4, 6, 11, 12, 14, 16, 17, 19, 20, 12, 2, 3, 4, 9, 12, 1, 2, 4, 6, 9, 10, 11, 13, 14, 15, 19, 6, 6, 17, 2, 7, 1, 9, 1, 8, 3, 2, 10, 1, 8, 11, 5, 7, 1, 2, 3, 4, 5, 6, 7, 8, 9, 10, 11, 12, 13, 14, 15, 16, 17, 18, 19, 20, 1, 3, 4, 13, 16, 20, 3, 7, 10, 13, 5, 8, 12, 3, 2, 17, 4, 4, 15, 8, 14, 1, 7, 11, 20, 2, 3, 4, 7, 9, 10, 17, 18, 5, 9, 11, 16, 11, 11, 4, 1, 3, 4, 5, 6, 9, 11, 13, 16, 18, 11, 8, 11, 16, 11, 1, 11, 16, 20, 1, 8, 1, 5, 7, 8, 20, 5, 7, 19, 1, 2, 12, 1, 2, 3, 4, 5, 6, 7, 8, 9, 10, 11, 12, 13, 14, 15, 16, 17, 18, 19, 20, 1, 2, 4, 6, 8, 11, 12, 13, 14, 15, 16, 19, 20, 6, 2, 17, 1, 3, 4, 5, 8, 9, 10, 13, 16, 18, 14, 15, 10, 17, 1, 2, 3, 5, 6, 7, 11, 12, 17, 18, 5, 1, 5, 12, 4, 6, 13, 5, 1, 2, 3, 4, 5, 6, 8, 12, 13, 14, 16, 18, 19, 20, 6, 17, 1, 3, 6, 5, 6, 1, 2, 4, 5, 7, 8, 9, 11, 12, 14, 16, 19, 20, 1, 1, 2, 3, 7, 13, 14, 19, 4, 7, 8, 10, 13, 3, 8, 1, 3, 4, 5, 7, 8, 9, 15, 18, 6, 20, 17, 10, 16, 1, 5, 7, 8, 10, 11, 15, 19, 20, 13, 16, 2, 3, 6, 12, 4, 13, 9, 15, 15, 13, 7, 1, 2, 3, 4, 5, 6, 8, 9, 11, 12, 13, 14, 15, 16, 17, 18, 20, 8, 8, 17, 9, 2, 11, 2, 18, 20, 5, 8, 7, 2, 17, 18, 6, 14, 1, 2, 3, 4, 5, 6, 7, 9, 10, 11, 12, 15, 16, 19, 12, 9, 5, 7, 1, 1, 2, 3, 5, 7, 8, 9, 10, 14, 16, 19, 20, 1, 5, 7, 15, 3, 11, 5, 19, 2, 4, 6, 9, 12, 14, 15, 16, 17, 18, 10, 13, 14, 15, 3, 14, 7, 17, 15, 20, 17, 18, 10, 9, 10, 13, 1, 16, 5, 19, 13, 9, 17, 4, 11, 2, 14, 15, 1, 8, 12, 7, 2, 3, 14, 17, 2, 4, 12, 15, 17, 10, 13, 9, 18, 4, 11, 1, 5, 7, 5, 7, 8, 15, 16, 10, 13, 13, 13, 4, 20, 1, 2, 12, 13, 17, 19, 10, 9, 9, 7, 12, 6, 5, 9, 8, 3, 4, 5, 6, 9, 12, 13, 14, 16, 18, 19, 1, 2, 3, 4, 5, 7, 8, 9, 10, 11, 12, 13, 14, 15, 16, 17, 18, 19, 4, 5, 7, 19, 2, 19, 19, 4, 1, 2, 5, 7, 8, 10, 14, 16, 17, 1, 5, 8, 5, 4, 8, 13, 1, 4, 5, 8, 13, 1, 4, 12, 19, 2, 5, 8, 11, 18, 2, 3, 4, 6, 7, 9, 10, 13, 15, 16, 20, 11, 14, 15, 19, 1, 3, 4, 7, 9, 10, 13, 14, 18, 9, 18, 18, 20, 11, 11, 19, 4, 5, 15, 11, 2, 18, 13, 11, 16, 1, 2, 7, 8, 9, 10, 12, 14, 15, 18, 6, 9, 11, 15, 6, 1, 5, 8, 11, 15, 17, 4, 14, 20, 4, 8, 11, 13, 14, 19, 1, 2, 3, 7, 8, 10, 12, 13, 14, 16, 17, 19, 20, 1, 5, 11, 1, 2, 3, 4, 5, 6, 8, 9, 11, 13, 15, 18, 20, 16, 8, 15, 13, 1, 3, 7, 8, 11, 12, 14, 18, 4, 11, 1, 2, 3, 4, 5, 8, 9, 12, 13, 15, 16, 17, 1, 2, 3, 4, 6, 9, 12, 13, 16, 17, 18, 19, 20, 12, 13, 8, 10, 11, 7, 13, 2, 3, 4, 14, 1, 3, 4, 6, 9, 11, 12, 13, 14, 17, 7, 12, 14, 3, 4, 20, 2, 12, 7, 8, 10, 15, 3, 4, 4, 1, 3, 13, 6, 9, 19, 2, 3, 20, 12, 4, 15, 12, 16, 9, 19, 6, 15, 1, 2, 3, 4, 5, 6, 8, 9, 10, 11, 12, 13, 14, 15, 16, 17, 18, 19, 20, 1, 2, 3, 5, 7, 8, 10, 11, 12, 16, 19, 20, 7, 10, 13, 19, 16, 9, 14, 17, 3, 7, 10, 13, 15, 5, 8, 15, 8, 11, 2, 6, 9, 12, 13, 3, 20, 11, 17, 2, 4, 5, 13, 4, 9, 4, 5, 7, 9, 11, 14, 17, 18, 1, 2, 3, 4, 5, 6, 7, 8, 9, 10, 11, 12, 13, 14, 15, 16, 19, 7, 10, 13, 14, 15, 7, 11, 19, 20, 6, 8, 10, 11, 12, 14, 17, 18, 1, 2, 3, 4, 5, 7, 8, 10, 13, 15, 13, 5, 20, 17, 13, 3, 8, 18, 6, 16, 1, 6, 12, 1, 14, 5, 20, 17, 10, 1, 2, 3, 5, 7, 8, 10, 11, 13, 15, 17, 14, 17, 7, 20, 18, 8, 9, 10, 15, 20, 2, 4, 9, 10, 20, 2, 10, 14, 15, 16, 1, 12, 3, 8, 12, 2, 3, 14, 17, 19, 13, 9, 16, 3, 4, 1, 8, 3, 9, 4, 16, 12, 20, 6, 12, 7, 13, 18, 4, 10, 7, 10, 14, 12, 16, 17, 19, 12, 7, 4, 3, 4, 5, 6, 7, 10, 11, 12, 13, 14, 17, 5, 9, 18, 3, 19, 20, 3, 17, 18, 3, 11, 3, 15, 10, 2, 3, 4, 10, 1, 2, 3, 4, 6, 8, 9, 10, 11, 12, 13, 14, 15, 16, 17, 18, 20, 4, 10, 16, 19, 1, 4, 11, 16, 19, 1, 3, 4, 8, 13, 16, 13, 5, 7, 5, 13, 6, 15, 12, 4, 1, 16, 1, 2, 7, 14, 3, 2, 3, 4, 5, 8, 9, 14, 18, 20, 1, 2, 3, 4, 6, 8, 11, 12, 13, 14, 15, 16, 18, 20, 2, 3, 4, 8, 12, 18, 20, 3, 11, 2, 3, 4, 5, 7, 8, 9, 10, 12, 13, 14, 15, 16, 18, 19, 9, 2, 3, 5, 7, 8, 10, 14, 15, 18, 12, 4, 7, 13, 2, 3, 4, 5, 6, 12, 15, 7, 9, 20, 4, 8, 15, 19, 13, 14, 9, 11, 1, 2, 5, 7, 8, 9, 12, 14, 15, 16, 1, 5, 7, 8, 17, 20, 17, 18, 16, 4, 13, 19, 1, 2, 3, 4, 5, 6, 7, 8, 9, 10, 11, 12, 13, 16, 17, 18, 19, 20, 14, 2, 3, 4, 5, 7, 8, 9, 11, 12, 13, 14, 15, 16, 19, 20, 3, 13, 7, 5, 17, 3, 1, 3, 4, 9, 10, 12, 14, 16, 18, 20, 4, 16, 17, 19, 1, 5, 14, 1, 4, 5, 7, 8, 13, 16, 18, 19, 2, 3, 4, 6, 7, 8, 9, 11, 13, 15, 16, 18, 20, 5, 6, 10, 12, 14, 17, 18, 10, 1, 5, 16, 14, 15, 5, 1, 2, 3, 10, 11, 12, 15, 17, 18, 2, 3, 4, 5, 7, 8, 9, 12, 13, 18, 20, 12, 3, 10, 16, 2, 4, 6, 11, 17, 18, 2, 14, 8, 17, 15, 4, 18, 5, 7, 1, 2, 3, 4, 5, 6, 7, 9, 11, 12, 13, 14, 16, 17, 18, 4, 2, 8, 3, 7, 9, 10, 11, 12, 15, 18, 9, 15, 16, 17, 4, 13, 5, 3, 8, 12, 14, 15, 16, 1, 1, 2, 3, 4, 6, 7, 9, 11, 12, 13, 14, 15, 17, 18, 6, 12, 15, 19, 11, 4, 6, 17, 18, 7, 10, 1, 2, 5, 7, 8, 10, 11, 13, 16, 19, 20, 7, 8, 7, 1, 2, 8, 9, 10, 18, 11, 14, 1, 1, 2, 4, 5, 7, 8, 9, 11, 13, 14, 15, 16, 17, 20, 5, 8, 16, 19, 7, 2, 13, 19, 1, 19, 13, 5, 7, 9, 20, 8, 5, 5, 9, 2, 11, 19, 11, 11, 18, 3, 4, 17, 2, 3, 6, 7, 10, 16, 20, 1, 2, 3, 4, 5, 7, 9, 10, 11, 13, 16, 19, 3, 4, 6, 10, 14, 15, 14, 15, 14, 14, 2, 19, 17, 3, 4, 15, 18, 2, 18, 15, 1, 2, 5, 7, 8, 9, 11, 12, 14, 16, 18, 1, 9, 12, 17, 9, 10, 13, 15, 16, 20, 5, 7, 8, 1, 2, 3, 4, 5, 6, 7, 8, 9, 10, 12, 14, 15, 16, 1, 2, 3, 4, 5, 9, 11, 12, 16, 17, 19, 4, 1, 3, 10, 20, 2, 4, 7, 8, 18, 6, 7, 18, 10, 15, 10, 1, 3, 4, 5, 6, 8, 9, 12, 15, 18, 19, 20, 4, 1, 4, 13, 3, 4, 7, 9, 10, 13, 15, 16, 18, 19, 20, 10, 10, 20, 20, 17, 1, 2, 3, 4, 5, 6, 7, 8, 10, 11, 12, 13, 16, 18, 19, 20, 2, 3, 13, 19, 1, 5, 9, 1, 3, 4, 8, 9, 12, 13, 17, 19, 1, 14, 1, 5, 7, 8, 19, 20, 2, 3, 4, 9, 19, 6, 1, 5, 8, 20, 1, 5, 8, 20, 5, 17, 1, 5, 7, 8, 20, 5, 7, 8, 11, 12, 16, 19, 1, 5, 7, 8, 19, 20, 1, 5, 8, 11, 2, 8, 8, 2, 3, 6, 10, 11, 12, 13, 14, 15, 17, 18, 20, 5, 9, 9, 2, 5, 7, 14, 3, 6, 8, 10, 12, 14, 15, 16, 20, 18, 2, 11, 7, 8, 2, 3, 5, 7, 9, 12, 16, 17, 1, 4, 7, 1, 3, 5, 6, 7, 8, 11, 12, 15, 4, 13, 2, 14, 11, 13, 10, 1, 12, 1, 9, 12, 1, 3, 5, 12, 16, 14, 5, 12, 16, 20, 6, 1, 7, 2, 19, 16, 5, 8, 11, 1, 4, 5, 7, 8, 12, 20, 1, 2, 5, 7, 8, 11, 13, 16, 19, 20, 1, 3, 5, 10, 1, 3, 9, 11, 14, 16, 3, 14, 17, 1, 5, 2, 1, 2, 3, 4, 5, 6, 7, 9, 11, 12, 15, 16, 17, 1, 2, 3, 5, 7, 8, 9, 10, 12, 14, 15, 16, 17, 18, 19, 20, 10, 10, 16, 10, 1, 5, 8, 20, 17, 7, 3, 7, 17, 2, 3, 14, 17, 14, 1, 2, 3, 4, 5, 6, 7, 8, 9, 10, 11, 12, 13, 14, 15, 16, 17, 18, 20, 1, 2, 3, 4, 5, 7, 8, 9, 11, 13, 14, 15, 16, 17, 18, 19, 20, 1, 5, 6, 11, 17, 19, 5, 6, 9, 10, 12, 15, 17, 1, 2, 3, 5, 8, 9, 10, 11, 14, 18, 8, 10, 11, 6, 12, 1, 2, 3, 4, 7, 11, 13, 14, 16, 18, 19, 8, 8, 1, 2, 3, 4, 5, 6, 7, 8, 9, 10, 11, 12, 13, 14, 16, 17, 18, 19, 9, 13, 17, 18, 19, 5, 11, 1, 5, 11, 2, 3, 4, 5, 6, 7, 8, 9, 12, 13, 14, 15, 16, 17, 4, 9, 16, 1, 2, 3, 4, 5, 6, 7, 9, 10, 12, 13, 14, 15, 16, 17, 18, 20, 12, 12, 1, 2, 7, 8, 9, 10, 14, 15, 16, 18, 20, 19, 3, 5, 7, 11, 20, 1, 4, 8, 9, 12, 16, 19, 20, 13, 2, 6, 9, 10, 12, 14, 16, 17, 18, 19, 13, 20, 14, 5, 18, 2, 6, 15, 18, 18, 10, 1, 2, 3, 4, 5, 6, 7, 8, 9, 10, 11, 12, 13, 14, 15, 16, 17, 18, 3, 5, 10, 14, 17, 16, 16, 10, 11, 7, 20, 15, 13, 14, 2, 3, 4, 5, 7, 8, 9, 10, 12, 13, 14, 15, 18, 19, 16, 10, 13, 14, 20, 1, 5, 7, 7, 11, 1, 2, 3, 4, 5, 6, 7, 8, 9, 10, 11, 12, 13, 14, 16, 17, 18, 19, 20, 7, 13, 9, 14, 16, 15, 1, 9, 10, 13, 19, 20, 1, 2, 3, 4, 5, 6, 8, 9, 10, 11, 12, 14, 15, 16, 18, 19, 20, 19, 2, 4, 14, 3, 4, 5, 6, 8, 9, 10, 11, 12, 16, 19, 4, 16, 14, 7, 7, 15, 7, 14, 7, 2, 4, 10, 13, 18, 19, 15, 12, 2, 4, 1, 5, 7, 8, 11, 20, 1, 5, 8, 10, 11, 15, 16, 1, 2, 6, 8, 11, 12, 13, 14, 16, 2, 8, 11, 20, 1, 13, 9, 6, 6, 12, 17, 1, 7, 8, 12, 17, 12, 1, 3, 4, 5, 6, 7, 8, 9, 11, 13, 20, 2, 7, 8, 9, 11, 12, 14, 1, 2, 3, 4, 5, 6, 7, 8, 9, 10, 11, 12, 13, 14, 17, 18, 19, 19, 4, 5, 8, 20, 5, 8, 9, 10, 15, 18, 5, 9, 17, 18, 15, 19, 5, 7, 8, 9, 12, 13, 14, 16, 19, 8, 1, 2, 3, 4, 5, 6, 9, 10, 12, 13, 14, 15, 17, 1, 6, 3, 5, 13, 14, 2, 4, 5, 7, 8, 9, 10, 11, 12, 15, 17, 18, 4, 19, 1, 3, 5, 7, 8, 10, 11, 13, 14, 16, 18, 19, 20, 4, 8, 18, 15, 1, 2, 4, 5, 7, 8, 13, 15, 16, 19, 2, 4, 3, 7, 18, 2, 3, 4, 5, 6, 8, 9, 11, 12, 15, 16, 17, 18, 1, 2, 3, 4, 5, 6, 8, 9, 10, 11, 12, 13, 14, 15, 16, 17, 18, 20, 1, 2, 3, 4, 5, 7, 8, 9, 10, 11, 14, 15, 16, 17, 18, 19, 20, 16, 16, 9, 11, 11, 1, 3, 4, 11, 13, 14, 16, 10, 16, 10, 4, 1, 3, 8, 10, 11, 18, 20, 2, 9, 2, 3, 4, 8, 4, 2, 3, 17, 8, 10, 8, 1, 3, 5, 18, 16, 16, 1, 1, 3, 14, 15, 2, 3, 5, 7, 10, 11, 13, 16, 17, 19, 1, 7, 13, 19, 1, 2, 3, 4, 5, 7, 8, 10, 11, 13, 16, 17, 18, 19, 20, 3, 8, 9, 1, 2, 3, 4, 5, 7, 8, 9, 10, 11, 12, 13, 14, 15, 16, 17, 18, 19, 15, 11, 1, 2, 3, 4, 5, 6, 7, 8, 9, 10, 11, 12, 13, 14, 15, 16, 17, 18, 19, 20, 1, 5, 8, 9, 10, 11, 15, 20, 6, 11, 1, 3, 4, 5, 7, 8, 11, 20, 17, 19, 20, 10, 15, 3, 18, 3, 4, 13, 3, 9, 10, 14, 12, 3, 7, 12, 10, 11, 19, 1, 2, 4, 5, 7, 8, 9, 10, 11, 12, 14, 15, 16, 17, 18, 19, 1, 12, 1, 2, 6, 10, 11, 16, 19, 20, 5, 10, 14, 1, 4, 19, 4, 7, 11, 15, 17, 19, 13, 10, 15, 1, 8, 1, 2, 3, 4, 5, 6, 7, 8, 9, 10, 11, 12, 13, 14, 15, 16, 17, 18, 19, 20, 2, 3, 6, 14, 2, 13, 15, 15, 18, 1, 4, 6, 8, 9, 12, 16, 18, 19, 1, 3, 4, 5, 7, 8, 9, 10, 12, 13, 14, 15, 16, 17, 18, 19, 20, 5, 3, 16, 1, 2, 3, 4, 5, 7, 8, 9, 10, 12, 15, 16, 17, 18, 19, 1, 8, 1, 2, 11, 16, 1, 2, 4, 14, 11, 2, 7, 11, 17, 18, 3, 1, 4, 14, 2, 7, 13, 18, 19, 14, 15, 9, 3, 4, 5, 6, 7, 8, 9, 13, 15, 17, 18, 19, 20, 3, 4, 12, 12, 2, 1, 5, 7, 8, 10, 11, 12, 14, 18, 19, 20, 11, 3, 3, 4, 1, 2, 5, 6, 11, 6, 6, 15, 5, 7, 1, 5, 7, 8, 11, 8, 2, 3, 4, 6, 9, 12, 17, 2, 3, 6, 13, 17, 1, 2, 3, 4, 5, 7, 8, 10, 11, 12, 14, 15, 16, 18, 20, 4, 12, 3, 12, 20, 1, 4, 12, 3, 2, 3, 4, 6, 7, 10, 13, 14, 15, 16, 17, 18, 19, 18, 10, 8, 16, 20, 19, 7, 3, 6, 3, 3, 6, 1, 10, 15, 7, 17, 1, 17, 15, 16, 19, 1, 2, 4, 6, 8, 9, 11, 12, 14, 15, 16, 18, 4, 13, 8, 10, 8, 20, 1, 2, 3, 8, 14, 4, 3, 4, 5, 6, 7, 8, 11, 12, 16, 17, 18, 19, 1, 2, 3, 4, 5, 8, 9, 11, 13, 14, 16, 17, 18, 19, 13, 14, 1, 2, 3, 4, 5, 6, 7, 8, 9, 10, 11, 12, 13, 14, 15, 16, 17, 18, 19, 20, 1, 2, 3, 4, 5, 6, 7, 8, 9, 10, 11, 12, 13, 14, 15, 16, 17, 18, 19, 20, 7, 1, 8, 2, 3, 6, 13, 14, 20, 12, 9, 10, 16, 2, 3, 10, 14, 2, 3, 19, 4, 14, 14, 9, 19, 17, 2, 2, 7, 10, 17, 18, 15, 4, 10, 18, 19, 8, 12, 3, 6, 8, 10, 18, 20, 3, 10, 15, 20, 15, 1, 2, 3, 4, 5, 6, 7, 8, 9, 10, 11, 12, 13, 14, 15, 16, 17, 18, 19, 20, 8, 6, 5, 6, 7, 18, 4, 18, 20, 1, 5, 12, 1, 2, 3, 4, 5, 6, 7, 8, 9, 10, 11, 12, 13, 14, 15, 16, 17, 18, 19, 20, 1, 2, 3, 4, 5, 6, 7, 8, 9, 10, 11, 12, 14, 15, 16, 18, 19, 15, 4, 1, 2, 4, 12, 13, 2, 7, 10, 11, 12, 16, 7, 11, 9, 15, 16, 9, 16, 20, 9, 10, 16, 10, 16, 6, 2, 3, 12, 1, 5, 7, 8, 10, 11, 12, 19, 2, 18, 6, 12, 16, 19, 10, 19, 1, 2, 3, 4, 6, 7, 8, 9, 11, 12, 13, 16, 17, 18, 19, 2, 20, 3, 7, 9, 10, 12, 15, 18, 16, 14, 3, 11, 19, 13, 19, 14, 4, 13, 14, 19, 1, 2, 3, 4, 5, 8, 9, 10, 11, 12, 14, 17, 18, 19, 1, 2, 3, 4, 5, 6, 7, 8, 9, 10, 11, 12, 14, 15, 17, 18, 20, 3, 2, 5, 8, 10, 15, 1, 3, 4, 5, 6, 7, 8, 10, 12, 13, 16, 17, 18, 20, 1, 2, 4, 6, 7, 8, 9, 11, 12, 13, 9, 16, 6, 14, 18, 18, 18, 13, 18, 12, 18, 1, 2, 3, 4, 5, 7, 8, 11, 12, 15, 17, 18, 20, 9, 1, 8, 11, 19, 1, 5, 1, 2, 3, 4, 9, 10, 12, 14, 16, 17, 3, 5, 7, 8, 9, 11, 12, 14, 15, 16, 19, 3, 7, 17, 2, 17, 5, 2, 3, 4, 9, 13, 17, 18, 1, 2, 3, 4, 6, 7, 8, 10, 11, 13, 17, 18, 19, 20, 1, 7, 8, 9, 10, 11, 14, 19, 1, 2, 3, 7, 8, 19, 3, 4, 17, 16, 14, 3, 11, 9, 3, 9, 16, 6, 17, 13, 14, 15, 6, 2, 10, 12, 15, 16, 17, 18, 1, 3, 4, 7, 9, 10, 12, 15, 16, 1, 2, 3, 5, 6, 7, 8, 10, 11, 12, 16, 17, 20, 2, 3, 1, 2, 3, 4, 5, 8, 11, 12, 13, 14, 15, 16, 18, 20, 2, 8, 10, 11, 13, 15, 16, 17, 18, 19, 20, 6, 19, 8, 17, 5, 1, 2, 3, 4, 5, 6, 7, 8, 9, 10, 11, 12, 14, 15, 16, 18, 19, 9, 10, 6, 12, 13, 2, 3, 4, 5, 8, 9, 11, 12, 15, 16, 17, 18, 20, 6, 2, 4, 2, 3, 4, 6, 7, 9, 12, 13, 16, 18, 19, 20, 1, 5, 8, 13, 16, 20, 2, 8, 18, 6, 17, 18, 17, 4, 9, 18, 16, 1, 2, 7, 8, 9, 10, 16, 10, 1, 15, 16, 10, 18, 1, 8, 12, 10, 1, 3, 6, 7, 9, 12, 10, 11, 2, 11, 1, 18, 20, 1, 5, 7, 8, 20, 1, 5, 8, 12, 1, 14, 2, 3, 4, 6, 7, 9, 10, 11, 12, 15, 17, 18, 16, 7, 4, 7, 4, 7, 13, 17, 18, 18, 7, 1, 5, 7, 8, 11, 19, 20, 3, 20, 3, 4, 13, 3, 2, 3, 4, 6, 9, 12, 14, 15, 16, 18, 1, 2, 3, 4, 5, 6, 8, 9, 10, 11, 12, 14, 15, 16, 17, 18, 9, 12, 13, 2, 3, 4, 5, 6, 7, 8, 9, 10, 12, 14, 15, 16, 18, 20, 1, 2, 3, 4, 5, 7, 8, 9, 10, 11, 14, 19, 4, 17, 2, 1, 2, 3, 4, 5, 6, 7, 8, 9, 10, 11, 12, 13, 14, 15, 16, 17, 18, 19, 20, 1, 2, 3, 4, 5, 6, 7, 8, 9, 11, 15, 17, 19, 1, 2, 3, 4, 6, 7, 8, 9, 10, 11, 12, 13, 14, 15, 16, 17, 18, 19, 20, 4, 18, 13, 2, 10, 11, 17, 2, 9, 1, 13, 13, 5, 11, 9, 11, 1, 9, 16, 2, 3, 4, 5, 8, 9, 11, 14, 18, 19, 20, 1, 2, 3, 4, 5, 6, 7, 8, 10, 12, 13, 14, 16, 19, 20, 20, 1, 2, 3, 4, 10, 12, 14, 16, 17, 18, 19, 12, 14, 18, 19, 20, 14, 1, 3, 4, 5, 11, 14, 15, 16, 18, 19, 20, 4, 14, 1, 2, 3, 4, 5, 7, 8, 9, 10, 11, 12, 13, 14, 15, 16, 17, 18, 19, 20, 10, 20, 4, 13, 7, 15, 5, 9, 14, 16, 18, 2, 9, 10, 8, 3, 5, 6, 9, 4, 9, 18, 1, 2, 3, 4, 5, 6, 7, 9, 11, 12, 14, 15, 16, 18, 19, 20, 8, 3, 4, 6, 13, 18, 20, 15, 7, 6, 6, 17, 1, 2, 6, 15, 15, 14, 4, 5, 6, 9, 11, 12, 13, 15, 17, 18, 19, 1, 4, 5, 7, 9, 11, 12, 13, 14, 17, 18, 19, 9, 9, 12, 18, 20, 20, 2, 12, 17, 13, 20, 4, 17, 1, 2, 3, 4, 5, 6, 9, 10, 12, 16, 17, 18, 2, 7, 9, 11, 12, 13, 16, 1, 3, 5, 8, 10, 11, 18, 19, 2, 8, 1, 3, 4, 5, 7, 10, 19, 20, 4, 5, 6, 7, 9, 10, 11, 12, 16, 18, 2, 3, 5, 6, 8, 14, 20, 1, 16, 1, 2, 3, 4, 5, 6, 7, 9, 10, 11, 12, 14, 15, 16, 17, 18, 1, 13, 14, 19, 20, 6, 2, 3, 4, 5, 6, 8, 15, 18, 20, 1, 3, 4, 8, 9, 12, 13, 14, 18, 19, 20, 14, 18, 2, 10, 15, 16, 18, 1, 2, 3, 4, 5, 6, 7, 8, 9, 10, 11, 12, 13, 14, 15, 17, 18, 20, 14, 1, 2, 3, 7, 9, 11, 16, 17, 18, 20, 7, 9, 16, 18, 10, 10, 16, 2, 8, 10, 15, 16, 18, 13, 17, 18, 17, 2, 3, 4, 7, 8, 9, 10, 11, 12, 13, 14, 15, 16, 18, 15, 2, 1, 2, 3, 4, 5, 6, 7, 9, 12, 16, 17, 19, 20, 1, 2, 4, 6, 7, 8, 10, 17, 19, 1, 2, 3, 4, 5, 6, 7, 9, 10, 11, 12, 14, 15, 16, 17, 18, 20, 1, 2, 3, 4, 5, 6, 7, 8, 9, 10, 11, 12, 13, 14, 15, 16, 17, 18, 19, 20, 2, 5, 1, 2, 3, 4, 5, 6, 7, 8, 9, 10, 11, 12, 13, 14, 15, 16, 17, 18, 19, 5, 8, 5, 14, 10, 1, 2, 3, 4, 5, 7, 10, 11, 13, 14, 17, 20, 1, 4, 5, 12, 14, 18, 8, 19, 8, 3, 5, 15], \"Freq\": [0.017586790025234222, 0.00038399104960262775, 0.0002303946384927258, 0.4693906605243683, 0.011826924048364162, 0.007295830175280571, 0.07065435498952866, 0.16273540258407593, 0.0003071928513236344, 0.16880246996879578, 0.040319059044122696, 0.025036215782165527, 0.025420207530260086, 0.08498159050941467, 0.17115451395511627, 0.15010766685009003, 0.02640783227980137, 0.011317642405629158, 0.022039618343114853, 0.5339147448539734, 0.00019855512073263526, 0.06001873314380646, 0.0002158947172574699, 0.13817262649536133, 0.012521893717348576, 0.09520956873893738, 0.013817261904478073, 0.003130473429337144, 0.044042523950338364, 0.47313329577445984, 0.11086194217205048, 0.04879220575094223, 0.4321804940700531, 0.11263210326433182, 0.06160614639520645, 0.1832113116979599, 0.12803363800048828, 0.0820968821644783, 0.9979912042617798, 0.16380199790000916, 0.7047640085220337, 0.13086354732513428, 0.7631803154945374, 0.23635512590408325, 0.0384364053606987, 0.041312601417303085, 0.22695782780647278, 0.0005229443195275962, 0.6040006875991821, 0.08863905817270279, 0.9989979863166809, 0.999206006526947, 0.8355345129966736, 0.01268096175044775, 0.15123221278190613, 0.024141857400536537, 0.02235957235097885, 0.023655779659748077, 0.6396782398223877, 0.21225391328334808, 0.06691669672727585, 0.011017761193215847, 0.003986075986176729, 0.3967094421386719, 0.19038257002830505, 0.00047453283332288265, 9.490656520938501e-05, 0.065865159034729, 0.0024675708264112473, 0.01186332106590271, 9.490656520938501e-05, 0.1589684933423996, 0.01176841463893652, 0.05808281898498535, 0.09917736053466797, 0.4475228488445282, 0.47568556666374207, 0.007920758798718452, 0.004253740888088942, 0.018921812996268272, 0.021562065929174423, 0.02185542695224285, 0.00205352995544672, 0.04587354138493538, 0.7998273968696594, 0.10136573016643524, 0.05253260210156441, 0.9987902641296387, 0.9986876249313354, 0.2503946125507355, 0.14775536954402924, 0.5030450224876404, 0.046244047582149506, 0.004286033567041159, 0.032483622431755066, 0.015565069392323494, 0.9978697299957275, 0.0020179366692900658, 0.9986504912376404, 0.009866161271929741, 0.00018615397857502103, 0.09828930348157883, 0.06943543255329132, 0.4921911358833313, 0.0612446591258049, 0.017684627324342728, 0.11448469758033752, 0.029784636572003365, 0.0027923097368329763, 0.07874312996864319, 0.025503095239400864, 0.9988952875137329, 0.04506058245897293, 0.5311451554298401, 0.12443453818559647, 0.011653599329292774, 0.287714421749115, 0.0001466621906729415, 0.007333109155297279, 0.148568794131279, 0.19858059287071228, 0.01583951525390148, 0.05367835983633995, 0.1523820161819458, 0.34172290563583374, 0.05279838666319847, 0.0042532035149633884, 0.024639246985316277, 0.9987308382987976, 0.9990770816802979, 0.9994683265686035, 0.9990606904029846, 0.999441385269165, 0.9987459182739258, 0.9983381032943726, 0.9995237588882446, 0.9988601207733154, 0.9993221163749695, 0.1400221586227417, 0.8598055243492126, 0.0006116217700764537, 0.999186098575592, 0.9990045428276062, 0.8935359120368958, 0.10575021058320999, 0.09512928873300552, 0.07031457126140594, 0.02965117059648037, 0.07340245693922043, 0.04583468288183212, 0.0987752303481102, 0.08207086473703384, 0.043974507600069046, 0.032627448439598083, 0.05736776068806648, 0.04181670770049095, 0.02630285732448101, 0.07730882614850998, 0.02399624139070511, 0.020833946764469147, 0.016778767108917236, 0.08341019600629807, 0.010826211422681808, 0.04687637835741043, 0.022768527269363403, 0.07590426504611969, 0.3000025749206543, 0.4442535638809204, 0.08066882193088531, 0.002628719201311469, 0.09644113481044769, 0.000575980287976563, 0.9083209037780762, 0.012095586396753788, 0.07890930026769638, 0.07537055015563965, 0.8558906316757202, 0.06812338531017303, 0.9990083575248718, 0.2274801880121231, 0.77225261926651, 0.9979147911071777, 0.9985091090202332, 0.000651768350508064, 0.9975836277008057, 0.9994062185287476, 0.16889886558055878, 0.09350240975618362, 0.2329453080892563, 0.5045346617698669, 0.5988333821296692, 0.07771319150924683, 0.014035157859325409, 0.039506372064352036, 0.034308165311813354, 0.011436054483056068, 0.15490655601024628, 0.06913615018129349, 0.9988840818405151, 0.14364062249660492, 0.8475815653800964, 0.008149822242558002, 0.999144971370697, 0.9990965723991394, 0.9979895353317261, 0.48934292793273926, 0.009836038574576378, 0.051844123750925064, 0.1553274542093277, 0.18524539470672607, 0.02561468444764614, 0.03278679773211479, 0.004815560765564442, 0.03709006309509277, 0.007991781458258629, 0.99932861328125, 0.18453183770179749, 0.7224013209342957, 0.09296263754367828, 0.9990602135658264, 0.5005354285240173, 0.013023776933550835, 0.44826433062553406, 0.038015346974134445, 0.9827086925506592, 0.01703556440770626, 0.37280696630477905, 0.05134737491607666, 0.007365117315202951, 0.5450186729431152, 0.023450255393981934, 0.020658500492572784, 0.9790653586387634, 0.9992663264274597, 0.0065220859833061695, 0.9724429845809937, 0.020218465477228165, 0.07572361081838608, 0.15622550249099731, 0.049456559121608734, 0.15490269660949707, 0.05366792529821396, 0.08806075155735016, 0.047647830098867416, 0.0407908633351326, 0.04586609825491905, 0.02480926737189293, 0.0589861236512661, 0.031450267881155014, 0.0022676587104797363, 0.0195450596511364, 0.007693842519074678, 0.017034437507390976, 0.05172421783208847, 0.03247611224651337, 0.01220216415822506, 0.029452567920088768, 0.023576293140649796, 0.5146428942680359, 0.0911191925406456, 0.05692294239997864, 0.0711536779999733, 0.03589543700218201, 0.008071163669228554, 0.0012743942206725478, 0.04481619969010353, 0.053312160074710846, 0.049701377749443054, 0.02293909713625908, 0.02654987946152687, 0.9990449547767639, 0.004292465280741453, 0.9954942464828491, 0.26754897832870483, 0.025490084663033485, 0.04075505957007408, 0.6433096528053284, 0.0014538071118295193, 0.005233705509454012, 0.005185245536267757, 0.004652182571589947, 0.0063482909463346004, 0.999121904373169, 0.015864720568060875, 0.9839575886726379, 0.9997856616973877, 0.9995893239974976, 0.0059775980189442635, 0.05448153614997864, 0.04782078415155411, 0.09034711867570877, 0.19589442014694214, 0.031595874577760696, 0.4910169541835785, 0.00888100266456604, 0.072414331138134, 0.0015370965702459216, 0.997488796710968, 0.9985859990119934, 0.9982954859733582, 0.9985672831535339, 0.30953967571258545, 0.6321126222610474, 0.058184150606393814, 0.9987381100654602, 0.027545399963855743, 0.0006886349874548614, 0.13807131350040436, 0.4338400661945343, 0.24687564373016357, 0.007230667397379875, 0.017215875908732414, 0.008435779251158237, 0.032193686813116074, 0.0005164762842468917, 0.0771271213889122, 0.005681238602846861, 0.003959651105105877, 0.000860793748870492, 0.9677227735519409, 0.03223926201462746, 0.9484623074531555, 0.05104873701930046, 0.999592125415802, 0.9990752935409546, 0.9986034631729126, 0.34564393758773804, 0.12452215701341629, 0.03038628026843071, 0.000615938100963831, 0.012626731768250465, 0.08017461001873016, 0.0027717214543372393, 0.0001026563550112769, 0.0005132817896082997, 0.06744522601366043, 0.10368292033672333, 0.05913006141781807, 0.17246267199516296, 0.9992443919181824, 0.13199737668037415, 0.011050009168684483, 0.07493915408849716, 0.06830914318561554, 0.10427190363407135, 0.003616366535425186, 0.6055405139923096, 0.07574436813592911, 0.1329011619091034, 0.23095062375068665, 0.06784465163946152, 0.49257075786590576, 0.9983249306678772, 0.0012573362328112125, 0.003164036897942424, 0.4645484387874603, 0.007910092361271381, 0.011300131678581238, 0.056161656975746155, 0.008362097665667534, 0.0014690171228721738, 0.08915804326534271, 0.35787516832351685, 0.0248858779668808, 0.9746122360229492, 0.9993114471435547, 0.9994914531707764, 0.9996852874755859, 0.3948793411254883, 0.053672920912504196, 0.008547443896532059, 0.01564936339855194, 0.06655693799257278, 0.22644442319869995, 0.05807233974337578, 0.1397758424282074, 0.03645233437418938, 0.9998012185096741, 0.999567449092865, 0.0009203455992974341, 0.9958139657974243, 0.002761036856099963, 0.9977793097496033, 0.020523224025964737, 0.979250967502594, 0.9551131129264832, 0.04389696940779686, 0.9988855719566345, 0.9997243285179138, 0.9986755847930908, 0.06095875799655914, 0.19415715336799622, 0.014994452707469463, 0.27480489015579224, 0.03720586374402046, 0.05381187051534653, 0.001191148185171187, 0.22253450751304626, 0.032651472836732864, 0.000700675358530134, 0.01044006273150444, 0.04855680465698242, 0.00014013507461640984, 0.005815605632960796, 0.0024523637257516384, 0.03944802284240723, 7.006753730820492e-05, 0.9998674988746643, 0.999731719493866, 0.9997724890708923, 0.9994049072265625, 0.8477749824523926, 0.1519983410835266, 0.9997146725654602, 0.037974875420331955, 0.9619624614715576, 0.9740481376647949, 0.025874456390738487, 0.9995748400688171, 0.8468287587165833, 0.15243907272815704, 0.9997856616973877, 0.9997474551200867, 0.9989346861839294, 0.009018427692353725, 0.5848103165626526, 0.08255329728126526, 0.03792364522814751, 0.00023124173458199948, 0.00023124173458199948, 0.10267132520675659, 0.0011562086874619126, 0.015493195503950119, 0.05179814621806145, 0.08671564608812332, 0.006937251891940832, 0.011099603027105331, 0.009480911307036877, 0.999137818813324, 0.9989680647850037, 0.9441519975662231, 0.05555121973156929, 0.9996060729026794, 0.034713275730609894, 0.054156262427568436, 0.102985680103302, 0.08025780320167542, 0.3505952060222626, 0.15199264883995056, 0.023438120260834694, 0.12065304815769196, 0.0011541498824954033, 0.018732739612460136, 0.03497961908578873, 0.026279104873538017, 0.04811647906899452, 0.006792915053665638, 0.13302791118621826, 0.8117533326148987, 0.9989365339279175, 0.9989838004112244, 0.9988483190536499, 0.9997250437736511, 0.03944104164838791, 0.003708132077008486, 0.00421378668397665, 0.06118417903780937, 0.002528271870687604, 0.31687673926353455, 0.030339263379573822, 0.0952315703034401, 0.38244324922561646, 0.06388100236654282, 0.0007091036532074213, 0.175148606300354, 0.8172419667243958, 0.006381932646036148, 0.023414304479956627, 0.976376473903656, 0.9997037649154663, 0.9991121292114258, 0.004276048392057419, 0.9948939085006714, 0.9995335936546326, 0.9982920289039612, 0.9984607696533203, 0.9989252090454102, 0.002021942986175418, 0.996817946434021, 0.09256574511528015, 0.9070007801055908, 0.9982799887657166, 0.9989212155342102, 0.9996933937072754, 0.0007398734451271594, 0.9988291263580322, 0.9991036057472229, 0.9998650550842285, 0.9596613049507141, 0.007714319508522749, 0.03240014240145683, 0.9569462537765503, 0.04298435151576996, 0.9986734390258789, 0.9992517232894897, 0.0054560271091759205, 0.23857718706130981, 0.21154505014419556, 0.5441147089004517, 0.01821514405310154, 0.02534281089901924, 0.000593972101341933, 0.9557011127471924, 0.9993083477020264, 0.001160522224381566, 0.9968885779380798, 0.021593734622001648, 0.9774006009101868, 0.9991451501846313, 0.9988037943840027, 0.20087145268917084, 0.017279265448451042, 0.7814547419548035, 0.4767216742038727, 0.4991942346096039, 0.004460848867893219, 0.000505001749843359, 0.019021732732653618, 0.0011564182350412011, 0.9979889988899231, 0.9999041557312012, 0.9991462230682373, 0.9968749284744263, 0.9987422823905945, 0.10631351172924042, 0.015282567590475082, 0.20675763487815857, 0.07840621471405029, 0.18627013266086578, 0.40687066316604614, 0.9988468289375305, 0.9994065165519714, 0.9992806911468506, 0.9978017807006836, 0.9996886253356934, 0.9996451735496521, 0.96269690990448, 0.036456428468227386, 0.9978872537612915, 0.20144473016262054, 0.017087426036596298, 0.15031594038009644, 0.0037378743290901184, 0.11707556247711182, 0.24322882294654846, 0.0411166176199913, 0.044587500393390656, 0.09998814016580582, 0.04138360917568207, 0.039781663566827774, 0.017727142199873924, 0.19918261468410492, 0.33637526631355286, 0.03501385822892189, 0.012772350572049618, 0.020810123533010483, 0.020589910447597504, 0.029178215190768242, 0.05175004154443741, 0.006826601456850767, 0.044152695685625076, 0.014534054324030876, 0.06859633326530457, 0.09744422882795334, 0.008478198200464249, 0.0004404258797876537, 0.03578460216522217, 0.00011010646994691342, 0.9980288147926331, 0.9962707757949829, 0.0030318647623062134, 0.9993640780448914, 0.17542622983455658, 0.8245033025741577, 0.9998714923858643, 0.9983738660812378, 0.15311548113822937, 0.0305643193423748, 0.07699857652187347, 0.2677316963672638, 0.03027043119072914, 0.06539001315832138, 0.06480223685503006, 0.31108012795448303, 0.998972475528717, 0.0013423643540591002, 0.9312652945518494, 0.06711822003126144, 0.9984263777732849, 0.17114083468914032, 0.6892635226249695, 0.1393456906080246, 0.3321468234062195, 0.09328095614910126, 0.037978675216436386, 0.4319796562194824, 0.10449688136577606, 0.13063636422157288, 0.6967807412147522, 0.005610150750726461, 0.16686192154884338, 0.907781720161438, 0.05164213851094246, 0.03919824957847595, 0.0012443888699635863, 0.9985310435295105, 0.02003311924636364, 0.008528155274689198, 0.0030572633258998394, 0.2198815941810608, 0.10467103868722916, 0.058248911052942276, 0.007079978007823229, 0.2547987699508667, 0.006919069681316614, 0.05728345736861229, 0.25954556465148926, 0.9997066855430603, 0.9996321201324463, 0.9998178482055664, 0.9992024898529053, 0.32960638403892517, 0.16152790188789368, 0.11056113988161087, 0.0001597704249434173, 0.02700120210647583, 0.0370667390525341, 0.04058168828487396, 0.2645798325538635, 0.029237989336252213, 0.9992174506187439, 0.999274492263794, 0.9979135990142822, 0.9986934661865234, 0.9993904829025269, 0.9998442530632019, 0.9988772869110107, 0.988624095916748, 0.00985807552933693, 0.9992632269859314, 0.9997132420539856, 0.9993587732315063, 0.9997018575668335, 0.9997107982635498, 0.9997401237487793, 0.999330461025238, 0.0005882215918973088, 0.036273665726184845, 0.2297985702753067, 0.35763874650001526, 0.05441049858927727, 0.07019444555044174, 0.10029178112745285, 0.012450690381228924, 0.12656567990779877, 0.011568358168005943, 0.12249718606472015, 0.7263309359550476, 0.08105762302875519, 0.06967312097549438, 0.9992005825042725, 0.9994605183601379, 0.018636299297213554, 0.006044205278158188, 0.2070140242576599, 0.09393702447414398, 0.6741807460784912, 0.11641265451908112, 0.8832447528839111, 0.998586893081665, 0.1278996616601944, 0.0003523406630847603, 0.06095493584871292, 0.13635583221912384, 0.6743800044059753, 0.9991363286972046, 0.27120253443717957, 0.06773960590362549, 0.0007933467859402299, 0.10264686495065689, 0.009215028025209904, 0.04515973851084709, 0.008787840604782104, 0.05596145987510681, 0.00018308001745026559, 0.10783413052558899, 0.11106854677200317, 0.0006712934118695557, 0.21865856647491455, 0.9028672575950623, 0.026789918541908264, 0.07002978771924973, 0.03535947576165199, 0.08139247447252274, 0.3428664803504944, 0.21182844042778015, 0.011166149750351906, 0.0714852511882782, 0.049919258803129196, 0.08500505238771439, 0.10410793125629425, 0.00010947205737465993, 5.473602868732996e-05, 0.00465256255120039, 0.0020252331160008907, 0.9990952610969543, 0.0008292330312542617, 0.9983965754508972, 0.9984949231147766, 0.0032096232753247023, 0.22930975258350372, 0.05064072459936142, 0.1364089846611023, 0.08701645582914352, 0.014086680486798286, 0.4793037474155426, 0.9987615942955017, 0.9955611228942871, 0.004308622796088457, 0.043696481734514236, 0.0279069971293211, 0.2996330261230469, 0.044247280806303024, 0.015789484605193138, 0.0005507959867827594, 0.0001835986622609198, 0.03635253757238388, 0.028090596199035645, 0.03268056362867355, 0.0031211774330586195, 0.46744221448898315, 0.9995152950286865, 0.131202831864357, 0.7776971459388733, 0.017819175496697426, 0.0019527863478288054, 0.0025630320888012648, 0.03270917013287544, 0.0006102457409724593, 0.014889995567500591, 0.006224506068974733, 0.00024409829347860068, 0.012082865461707115, 0.0018307371065020561, 0.9996808171272278, 0.0002700380573514849, 0.8031582832336426, 0.19642457365989685, 0.9995737671852112, 0.002126365900039673, 0.9972655773162842, 0.604246973991394, 0.15427014231681824, 0.024062933400273323, 0.21710112690925598, 0.0072926683351397514, 0.12737859785556793, 0.004294571466743946, 0.40231218934059143, 0.029008613899350166, 0.0002430889435345307, 0.3395952582359314, 8.102964784484357e-05, 0.05299338698387146, 0.036868490278720856, 0.10294100642204285, 0.877479076385498, 0.019223922863602638, 0.06099763140082359, 0.8963676691055298, 0.0424007922410965, 0.9992414116859436, 0.9994933605194092, 0.16531230509281158, 0.2026848942041397, 0.6296052932739258, 0.0019095480674877763, 0.999260663986206, 0.996716320514679, 0.9968279600143433, 0.9991679787635803, 0.9990624189376831, 0.9978943467140198, 0.9995920658111572, 0.8899160027503967, 0.10931585729122162, 0.24828162789344788, 0.7513605356216431, 0.9991434812545776, 0.9991694092750549, 0.9747781753540039, 0.023800315335392952, 0.9993115663528442, 0.9987195730209351, 0.9892846941947937, 0.009614039212465286, 0.8351203203201294, 0.16462945938110352, 0.1565699428319931, 0.08222360163927078, 0.01793014630675316, 0.14659208059310913, 0.0055891042575240135, 0.11058174073696136, 0.044675324112176895, 0.062492940574884415, 0.033722180873155594, 0.012903704307973385, 0.03799840807914734, 0.04970176890492439, 0.03229676932096481, 0.03447239473462105, 0.08128583431243896, 0.023331698030233383, 0.01582954451441765, 0.002700775396078825, 0.049026574939489365, 0.24692417681217194, 0.012284423224627972, 0.03598100319504738, 0.12713287770748138, 0.11477576196193695, 0.03452722355723381, 0.16013363003730774, 0.03263731300830841, 0.0135201346129179, 0.04245031252503395, 0.02522304654121399, 0.1541004627943039, 0.3067682087421417, 0.003769363509491086, 0.6213650703430176, 0.06784854084253311, 0.9996408820152283, 0.19157490134239197, 0.764754593372345, 0.043258845806121826, 0.9990109801292419, 0.6141996383666992, 0.17479071021080017, 0.16668352484703064, 0.04410303384065628, 0.998399019241333, 0.9984551072120667, 0.9993588924407959, 0.09566231817007065, 0.9038259387016296, 0.9994091987609863, 0.09639468044042587, 0.0010830863611772656, 0.9019014239311218, 0.0004641798441298306, 0.21819648146629333, 0.7807639241218567, 0.9986722469329834, 0.999599277973175, 0.9992343783378601, 0.9956235289573669, 0.0032377999741584063, 0.9996366500854492, 0.01091575063765049, 0.9878754615783691, 0.052963629364967346, 0.6472020745277405, 0.027493858709931374, 0.0005060219555161893, 0.004048175644129515, 0.034915514290332794, 0.16867397725582123, 0.06392744183540344, 0.013147699646651745, 0.20297951996326447, 0.014195704832673073, 0.24018369615077972, 0.07312216609716415, 0.03534635156393051, 0.03791872784495354, 0.036918360739946365, 0.21965232491493225, 0.00019054637232329696, 0.027343403548002243, 0.016244078055024147, 0.00019054637232329696, 0.010527687147259712, 0.020293189212679863, 0.0028105590026825666, 0.04887514188885689, 0.02153906784951687, 0.0043641249649226665, 0.00605346355587244, 0.039417900145053864, 0.9284323453903198, 0.0778261199593544, 0.04313254728913307, 0.07970144599676132, 0.7979521751403809, 0.012488629668951035, 0.019685467705130577, 0.01756875030696392, 0.5027202367782593, 0.06159646064043045, 0.02201385609805584, 0.36344027519226074, 0.00021167169325053692, 0.14713551104068756, 0.11320050060749054, 0.32150283455848694, 0.011646831408143044, 0.15316841006278992, 0.0005027409642934799, 0.1059107556939125, 0.001675803097896278, 0.06460221111774445, 0.08052234351634979, 0.9985780119895935, 0.9985409379005432, 0.9985766410827637, 0.9992895722389221, 0.9989518523216248, 0.998904824256897, 0.9992600083351135, 0.9997658729553223, 0.998871386051178, 0.9990183115005493, 0.03241169452667236, 0.9168161153793335, 0.05059386044740677, 0.999714195728302, 0.9987871050834656, 0.9992005825042725, 0.9983298778533936, 0.9987478852272034, 0.9991369247436523, 0.015058662742376328, 0.043519534170627594, 0.3742077648639679, 0.02138330228626728, 0.012649277225136757, 0.01069165114313364, 0.0682157427072525, 0.0031623193062841892, 0.024395033717155457, 0.40492746233940125, 0.021533887833356857, 0.9991839528083801, 0.9995363354682922, 0.04474472627043724, 0.9550964832305908, 0.9992864727973938, 0.9994782209396362, 0.42959558963775635, 0.07192085683345795, 0.3499563932418823, 0.14822714030742645, 0.007499141618609428, 0.3547670841217041, 0.004037999548017979, 0.23478081822395325, 0.3983197808265686, 0.010702007450163364, 0.0871695727109909, 0.000690452114213258, 0.8832608461380005, 0.01812436804175377, 0.14848877489566803, 0.8513356447219849, 0.9725224375724792, 0.02713415026664734, 0.9989684224128723, 0.011811007745563984, 0.27519649267196655, 0.04399600625038147, 0.014468484558165073, 0.6543298363685608, 0.9986060857772827, 0.9672706127166748, 0.031002264469861984, 0.013207999989390373, 0.9855200052261353, 0.9995114207267761, 0.9995569586753845, 0.9991361498832703, 0.9992950558662415, 0.10096006095409393, 0.8986470699310303, 0.9990227222442627, 0.9998922944068909, 0.9875183701515198, 0.012324373237788677, 0.9983974695205688, 0.1163635104894638, 0.8825876712799072, 0.9977133274078369, 0.001299105933867395, 0.9989514350891113, 0.9939355850219727, 0.005456188227981329, 0.7528177499771118, 0.03234377130866051, 0.21386493742465973, 0.00099011545535177, 0.9986364841461182, 0.9998973608016968, 0.9985601902008057, 0.04299607500433922, 0.162141814827919, 0.2362193912267685, 0.323895126581192, 0.0002590125077404082, 0.007381855975836515, 0.05439262464642525, 0.0005180250154808164, 0.044938668608665466, 0.12445550411939621, 0.0027196311857551336, 0.3470729887485504, 0.0057708099484443665, 0.6468803286552429, 0.9995846152305603, 0.998606264591217, 0.9979044795036316, 0.1716456264257431, 0.00668749213218689, 0.8203323483467102, 0.8904863595962524, 0.10918769985437393, 0.9989667534828186, 0.9989980459213257, 0.9988899827003479, 0.004620485007762909, 0.9756924510002136, 0.013861455023288727, 0.004620485007762909, 0.0009885967010632157, 0.25283360481262207, 0.16107946634292603, 0.13766208291053772, 0.07074645161628723, 0.009577030315995216, 0.018721548840403557, 0.004201536066830158, 0.025641726329922676, 0.01717686653137207, 0.013902140781283379, 0.006364091299474239, 0.1031847819685936, 0.07816092669963837, 0.08044705539941788, 0.0024714916944503784, 0.016867930069565773, 0.8983283638954163, 0.06496839225292206, 0.012833262793719769, 0.023260287940502167, 0.01462993212044239, 0.7794129848480225, 0.01838807947933674, 0.18267281353473663, 0.004831904079765081, 0.06981870532035828, 0.06649400293827057, 0.5667335391044617, 0.11431854218244553, 0.10280995815992355, 0.07928131520748138, 0.9977179169654846, 0.9932416081428528, 0.006212073843926191, 0.9994001984596252, 0.9979456067085266, 0.8882805109024048, 0.11082931607961655, 0.9986596703529358, 0.9991901516914368, 0.9990610480308533, 0.9985437989234924, 0.0007336849230341613, 0.8573108315467834, 0.08253955096006393, 0.05906163528561592, 0.9990708827972412, 0.01141944620758295, 0.012880072928965092, 0.25972601771354675, 0.013543994165956974, 0.18085215985774994, 0.12893351912498474, 0.001460626837797463, 0.3451062738895416, 0.045943353325128555, 0.00646901223808527, 0.0017520240508019924, 0.4803241491317749, 0.16940724849700928, 0.02978440932929516, 0.0001347710785921663, 0.0001347710785921663, 0.0060646990314126015, 0.0037735903169959784, 0.002560650696977973, 0.1853102445602417, 0.03531002253293991, 0.04582216963171959, 0.03328845649957657, 0.9986011981964111, 0.257425457239151, 0.0017022991087287664, 0.08095378428697586, 0.0105920834466815, 0.6192585825920105, 0.02969566360116005, 0.9029024243354797, 0.09683810919523239, 0.08103188127279282, 0.012962546199560165, 0.014239644631743431, 0.5428305864334106, 0.036908138543367386, 0.001277098199352622, 0.001851792330853641, 0.05306342989206314, 0.029053984209895134, 0.09073782712221146, 0.04093099758028984, 0.006066216621547937, 0.03320455178618431, 0.032374437898397446, 0.02349860593676567, 0.9986782670021057, 0.00015005799650680274, 0.000450173974968493, 0.049819253385066986, 0.06422481685876846, 0.03901507705450058, 0.24099312722682953, 0.010504059493541718, 0.5900279879570007, 0.004951913841068745, 0.9990553855895996, 0.15917207300662994, 0.22046245634555817, 0.6202222108840942, 0.07276824116706848, 0.08670257776975632, 0.09057322889566422, 0.050576504319906235, 0.6990395784378052, 0.9811802506446838, 0.016897479072213173, 0.17876388132572174, 0.8208679556846619, 0.998234212398529, 0.0068513499572873116, 0.49529552459716797, 0.4978647828102112, 0.9992049932479858, 0.9998067617416382, 0.9988288879394531, 0.9994579553604126, 0.9993868470191956, 0.16671615839004517, 0.0002572780358605087, 0.15050764381885529, 0.04656732454895973, 0.5660116672515869, 0.028815139085054398, 0.0010291121434420347, 0.010805677622556686, 0.003087336430326104, 0.025727802887558937, 0.6757040023803711, 0.056067608296871185, 0.018122004345059395, 0.12200447916984558, 0.017186125740408897, 0.11077394336462021, 0.7525917887687683, 0.2472822666168213, 0.9990456104278564, 0.010009446181356907, 0.7838740944862366, 0.20601533353328705, 0.004098120611160994, 0.23481014370918274, 0.09324239194393158, 0.12059023976325989, 0.039074160158634186, 0.05680563300848007, 0.0049502053298056126, 0.05907785892486572, 0.0678827315568924, 0.05664332956075668, 0.016960538923740387, 0.07185912877321243, 0.038343802094459534, 0.01769089698791504, 0.013471050187945366, 0.07904098182916641, 0.01769089698791504, 0.007749911397695541, 0.9997414946556091, 0.00924754049628973, 0.10817877948284149, 0.0029661923181265593, 0.02547435835003853, 0.38769879937171936, 0.11498357355594635, 0.019890936091542244, 0.10032709687948227, 0.0001744819019222632, 0.05443835258483887, 0.020065419375896454, 0.024252984672784805, 0.009770986624062061, 0.0010468914406374097, 0.12161388248205185, 0.9983148574829102, 0.9981251955032349, 0.9989210963249207, 0.999946117401123, 0.9980378150939941, 0.9990221261978149, 0.02392878755927086, 0.005849258974194527, 0.008153512142598629, 0.4369219243526459, 0.001240751938894391, 0.2828914225101471, 0.006735510192811489, 0.22652584314346313, 0.0003545005456544459, 0.007267261389642954, 0.025787368416786194, 0.43856561183929443, 0.2104465663433075, 0.3249569237232208, 0.046008866280317307, 0.42338794469833374, 0.5305646657943726, 0.4831729829311371, 0.0005752915167249739, 0.15748605132102966, 0.00043146865209564567, 0.17035819590091705, 0.05220770463347435, 0.027613993734121323, 0.05630665645003319, 0.05177623778581619, 0.3817767798900604, 0.04777999222278595, 0.0008490789914503694, 0.002701614983379841, 0.21157504618167877, 0.002855992875993252, 0.11439409852027893, 0.020841030403971672, 0.036741964519023895, 0.005480418913066387, 0.1670369952917099, 0.0003859449934680015, 0.007564521860331297, 0.08261800557374954, 0.04751605540513992, 0.011557959020137787, 0.0021403629798442125, 0.011129886843264103, 0.8445872068405151, 0.9984390735626221, 0.9988878965377808, 0.016467686742544174, 0.9642745852470398, 0.018907345831394196, 0.0969209149479866, 0.902852475643158, 0.9991592168807983, 0.2836728096008301, 0.14063780009746552, 0.013424516655504704, 0.00894967745989561, 0.41376277804374695, 0.00015981568139977753, 0.06504497677087784, 0.017419908195734024, 0.0565747506916523, 0.005145431496202946, 7.566810381831601e-05, 0.058567114174366, 0.19802343845367432, 0.13461355865001678, 0.02489480748772621, 0.24493765830993652, 0.04048243910074234, 0.2753562331199646, 0.01785767264664173, 0.9967898726463318, 0.9987292289733887, 0.8419701457023621, 0.015565017238259315, 0.14203079044818878, 0.423970490694046, 0.0008462484693154693, 0.03356785699725151, 0.06628946214914322, 0.009026650339365005, 0.46600082516670227, 0.05448618158698082, 0.9449050426483154, 0.9988385438919067, 0.9985897541046143, 0.9989306330680847, 0.0016645429423078895, 0.9953966736793518, 0.004781008698046207, 0.9932546019554138, 0.005787600763142109, 0.05038180574774742, 0.09096921235322952, 0.05743080750107765, 0.0008904001442715526, 0.03925180435180664, 0.038509804755449295, 0.24723443388938904, 0.013207602314651012, 0.1899520307779312, 0.038213007152080536, 0.010388001799583435, 0.09898281842470169, 0.05550161004066467, 0.06329260766506195, 0.9995743036270142, 0.1428450495004654, 0.8564800024032593, 0.01298767514526844, 0.1525450497865677, 0.015032031573355198, 0.121158167719841, 0.6588839888572693, 0.0004810249956790358, 0.027238041162490845, 0.011664856225252151, 0.9993704557418823, 0.09503558278083801, 0.8770013451576233, 0.027462754398584366, 0.004673700779676437, 0.9949141144752502, 0.9989256262779236, 0.01957394927740097, 0.013208436779677868, 0.028326528146862984, 0.009866543114185333, 0.9250680208206177, 0.003819307079538703, 0.9996313452720642, 0.16657252609729767, 0.04413851350545883, 0.1027456745505333, 0.14322124421596527, 0.030127741396427155, 0.06172066181898117, 0.2792997360229492, 0.014010773040354252, 0.10320354253053665, 0.00036629472742788494, 0.0010073104640468955, 0.0004578684165608138, 0.010622547008097172, 0.04258176311850548, 0.9981770515441895, 0.0016745775938034058, 0.9988270998001099, 0.9997292757034302, 0.9984971880912781, 0.000510046782437712, 0.12700165808200836, 0.8502480387687683, 0.02193201333284378, 0.9990907311439514, 0.9992100596427917, 0.14595986902713776, 0.0015833500074222684, 0.1293346881866455, 0.015208492986857891, 0.07995916903018951, 0.10750112682580948, 0.3562120795249939, 0.008000084199011326, 0.06316732615232468, 0.03020865097641945, 0.0629173293709755, 0.9988172650337219, 0.9984394311904907, 0.998440146446228, 0.032728154212236404, 0.7553216814994812, 0.007722373586148024, 0.05037929490208626, 0.03640547767281532, 0.11693879961967468, 0.020884515717625618, 0.9790661334991455, 0.9991951584815979, 0.35790443420410156, 0.0003017489507328719, 9.052468521986157e-05, 0.1423349827528, 0.06774263828992844, 0.15129691362380981, 6.034978650859557e-05, 0.1990034282207489, 0.002655390650033951, 0.04161117970943451, 0.013970975764095783, 0.006306552793830633, 0.010923312045633793, 0.005763405002653599, 0.9988787174224854, 0.9987341165542603, 0.004205518867820501, 0.9953061938285828, 0.9982746243476868, 0.9994325041770935, 0.7958388328552246, 0.20382976531982422, 0.13278482854366302, 0.8670600652694702, 0.9995422959327698, 0.9963685870170593, 0.00345020042732358, 0.9998955130577087, 0.9983111619949341, 0.9984591007232666, 0.9987891316413879, 0.9979466795921326, 0.9990735650062561, 0.9995080828666687, 0.9999297261238098, 0.9996579885482788, 0.9991381168365479, 0.9990295171737671, 0.9997401833534241, 0.8799163103103638, 0.02061065100133419, 0.09882543236017227, 0.07893389463424683, 0.006533913780003786, 0.004953128285706043, 0.08715397864580154, 0.3596813976764679, 0.025081796571612358, 0.4375614523887634, 0.0006861999281682074, 0.05329485982656479, 0.082801453769207, 0.11585342139005661, 0.000571833283174783, 0.024588830769062042, 0.07902735471725464, 0.035339295864105225, 0.04311622679233551, 0.4555223882198334, 0.09835532307624817, 0.010750465095043182, 0.13690325617790222, 0.10053043812513351, 0.007072492968291044, 0.05885324627161026, 0.01616569794714451, 0.6802222728729248, 0.00045968013000674546, 0.9993445873260498, 0.9990445971488953, 0.998762845993042, 0.14127583801746368, 0.8586670160293579, 0.9988945722579956, 0.009201179258525372, 0.10203085839748383, 0.022900713607668877, 0.8659332394599915, 0.9988683462142944, 0.9987927675247192, 0.9995921850204468, 0.02571524865925312, 0.49467411637306213, 0.00470680883154273, 0.13339784741401672, 0.004821608774363995, 0.04649408534169197, 0.04018007591366768, 0.007117613218724728, 0.004362408071756363, 0.1726595163345337, 0.06578052043914795, 0.9995775818824768, 0.0008267593220807612, 0.9987252950668335, 0.9991515874862671, 0.06962049752473831, 0.19839157164096832, 0.0093960827216506, 0.4062687158584595, 0.0008948649629019201, 0.31535041332244873, 0.4808882772922516, 0.4918234050273895, 0.027144843712449074, 0.060663703829050064, 0.05122712627053261, 0.0036398221272975206, 0.5842588543891907, 0.002830972895026207, 0.00188731518574059, 0.00013480822963174433, 0.001617698697373271, 0.0014828905696049333, 0.015907371416687965, 0.00835810974240303, 0.00013480822963174433, 0.2001902163028717, 0.06753892451524734, 0.1121944710612297, 0.010289574041962624, 0.14778877794742584, 0.02088402584195137, 0.07431359589099884, 0.07324652373790741, 0.0005335335154086351, 0.00030487627373076975, 0.055411264300346375, 0.04405462369322777, 0.46089670062065125, 0.997061550617218, 0.9998029470443726, 0.9997116327285767, 0.9987712502479553, 0.9996037483215332, 0.01234563160687685, 0.10217980295419693, 0.7123692035675049, 0.06094013899564743, 0.11216137558221817, 0.998409628868103, 0.9988837838172913, 0.9979742765426636, 0.9996703267097473, 0.9991994500160217, 0.9990934729576111, 0.11356816440820694, 0.4454950988292694, 0.17852213978767395, 0.01350394356995821, 0.005536616779863834, 0.000945276056881994, 0.003105907002463937, 0.060227587819099426, 0.07292129844427109, 0.0681949183344841, 0.003105907002463937, 0.034705135971307755, 0.998649001121521, 0.09017723798751831, 0.8859078884124756, 0.023657608777284622, 0.011517361737787724, 0.0010749537032097578, 0.018888473510742188, 0.06756851822137833, 0.014588657766580582, 0.19164890050888062, 0.038698334246873856, 0.11978055536746979, 0.0869176834821701, 0.4493306577205658, 0.9983458518981934, 0.9986597895622253, 0.9997261166572571, 0.9987490773200989, 0.9984995722770691, 0.9994726777076721, 0.15668310225009918, 0.04275226593017578, 0.3490118980407715, 0.01692042127251625, 0.08460211008787155, 0.07050175964832306, 0.028200702741742134, 0.09227269887924194, 0.00011280280887149274, 0.032487209886312485, 0.0014664365444332361, 0.021770942956209183, 0.07185538858175278, 0.02774949185550213, 0.0020304506178945303, 0.0014664365444332361, 0.8510624170303345, 0.032733168452978134, 0.11165647953748703, 0.004364422522485256, 0.037768974900245667, 0.9621486663818359, 0.9994588494300842, 0.07075793296098709, 0.0016338421264663339, 0.09162084013223648, 0.07377425581216812, 0.2350219041109085, 0.004273125436156988, 0.0800582617521286, 0.04222853481769562, 0.4004170000553131, 0.9941811561584473, 0.0051473877392709255, 0.5572676658630371, 0.11294427514076233, 0.11284074932336807, 0.20880715548992157, 0.003519803285598755, 0.004555039573460817, 0.012887854129076004, 0.8282236456871033, 0.1301315277814865, 0.028460677713155746, 0.9993759989738464, 0.9999013543128967, 0.1983804851770401, 0.37184011936187744, 0.2578790485858917, 0.17185014486312866, 0.3118155002593994, 0.08090347796678543, 0.35086265206336975, 0.256381630897522, 0.998159646987915, 0.9992684721946716, 0.5246493816375732, 0.1634327471256256, 0.01632268726825714, 0.1615210771560669, 0.13402250409126282, 0.014342589303851128, 0.09210631251335144, 0.07148884236812592, 0.1597854048013687, 0.5604814887046814, 0.00022410295787267387, 0.10129453241825104, 0.3807736933231354, 0.39068299531936646, 0.00011303394421702251, 0.20666372776031494, 0.0013187293661758304, 0.0204214658588171, 0.15493442118167877, 0.02141740545630455, 0.15333950519561768, 0.6700913906097412, 0.999552309513092, 0.9995856881141663, 0.9995248317718506, 0.005164078902453184, 0.2504578232765198, 0.05551385134458542, 0.022685062140226364, 0.08428514748811722, 0.3443334102630615, 0.061046794056892395, 0.022685062140226364, 0.001106588402763009, 0.047214437276124954, 0.028402434661984444, 0.07690789550542831, 0.02172251045703888, 0.9782493710517883, 0.9989020228385925, 0.04608845338225365, 0.9401295185089111, 0.00012490095105022192, 0.013614204712212086, 0.6728105545043945, 0.0036722603254020214, 0.018361302092671394, 0.0013115215115249157, 0.07213368266820908, 0.1256437599658966, 0.09888872504234314, 0.002885347232222557, 0.003934564534574747, 0.9992246031761169, 0.9982936978340149, 0.9993786215782166, 0.9856182336807251, 0.014239344745874405, 0.029236068949103355, 8.70121075422503e-05, 0.0001740242150845006, 0.0385463647544384, 0.0021753027103841305, 0.10371843725442886, 0.01078950148075819, 0.8153034448623657, 0.14411889016628265, 0.854037880897522, 0.0013344341423362494, 0.04562242329120636, 0.05480143427848816, 0.12132655829191208, 0.016540400683879852, 0.6166297793388367, 0.00036352526512928307, 0.04280510172247887, 0.0004544066032394767, 0.10133267194032669, 0.31019628047943115, 0.6895414590835571, 0.9437443017959595, 0.055545490235090256, 0.8663862347602844, 0.13314175605773926, 0.9999436736106873, 0.9981029629707336, 0.0018981355242431164, 0.9997048377990723, 0.0016848379746079445, 0.9979856610298157, 0.02916344441473484, 0.0005986630567349494, 0.9449468851089478, 0.012315354309976101, 0.012914017774164677, 0.9987756013870239, 0.99918532371521, 0.9989339709281921, 0.9996461868286133, 0.9994671940803528, 0.9991816282272339, 0.9994231462478638, 0.9991270899772644, 0.08478278666734695, 0.9150019288063049, 0.998678982257843, 0.364717960357666, 0.15217873454093933, 0.48304373025894165, 0.002444980898872018, 0.06217237189412117, 0.8756524324417114, 0.019559847190976143, 0.0321340337395668, 0.001746414927765727, 0.006287093739956617, 0.4108041226863861, 0.000124147511087358, 0.05276269465684891, 0.07225385308265686, 0.16226080060005188, 0.058349333703517914, 0.12005064636468887, 0.023215586319565773, 0.08752399682998657, 0.01253889873623848, 0.0021691301371902227, 0.16578350961208344, 0.8317064642906189, 0.9999545216560364, 0.07565005123615265, 0.074383944272995, 0.6950942277908325, 0.057291463017463684, 0.011711514554917812, 0.08546240627765656, 0.9027107954025269, 0.04201511666178703, 0.0547916442155838, 0.9988893866539001, 0.9989920258522034, 0.9993608593940735, 0.19794124364852905, 0.009866769425570965, 0.09191674739122391, 0.2374083250761032, 0.001384809729643166, 0.02501312643289566, 0.04232324659824371, 0.21447241306304932, 0.02025284245610237, 0.1046396866440773, 8.655060810269788e-05, 0.02994651161134243, 0.024753473699092865, 0.08774304389953613, 0.069148488342762, 0.09720633924007416, 0.09803645312786102, 0.29850897192955017, 0.027559783309698105, 0.015606141649186611, 0.04017751291394234, 0.0029884101822972298, 0.0967082753777504, 0.011787617579102516, 8.301139314426109e-05, 0.08251332491636276, 0.020337792113423347, 0.0231601782143116, 0.028306884691119194, 0.9998867511749268, 0.9998517036437988, 0.9995274543762207, 0.9993617534637451, 0.4734780788421631, 0.025934504345059395, 0.43520039319992065, 0.06518297642469406, 0.9981207847595215, 0.9995047450065613, 0.0018902745796367526, 0.9700888991355896, 0.027598008513450623, 0.0015982550103217363, 0.34586238861083984, 0.6377037763595581, 0.014703946188092232, 0.9985967874526978, 0.15944288671016693, 0.17012764513492584, 0.0529877170920372, 0.1317933201789856, 0.07854393124580383, 0.02019202709197998, 0.09254316240549088, 0.020889807492494583, 0.07701753824949265, 0.04361129179596901, 0.021936479955911636, 0.043785735964775085, 0.003968627657741308, 0.05420883372426033, 0.008853091858327389, 0.0024858436081558466, 0.016528679057955742, 0.00013083386875223368, 0.0009594483999535441, 0.017369771376252174, 0.09779936075210571, 0.005664055701345205, 0.10535143315792084, 0.09846016764640808, 0.21882134675979614, 0.04776686802506447, 0.22127577662467957, 0.0522037148475647, 0.018030576407909393, 0.02520504780113697, 0.034833941608667374, 0.0001888018596218899, 0.0034928342793136835, 0.011139309033751488, 0.031624309718608856, 0.010761706158518791, 0.05213325098156929, 0.021466633304953575, 0.720052182674408, 0.0028622178360819817, 0.19544857740402222, 0.0079733207821846, 0.015068775974214077, 0.20555776357650757, 0.01834459789097309, 0.006387850735336542, 0.00032758209272287786, 0.7124910354614258, 0.041930507868528366, 0.065123051404953, 0.006782342679798603, 0.005714751780033112, 0.012497094459831715, 0.36505332589149475, 0.00012559893366415054, 0.31713733077049255, 0.2159045785665512, 0.0021351820323616266, 0.009545519948005676, 0.2988785207271576, 0.6370559930801392, 0.06411927193403244, 0.018827537074685097, 0.981013834476471, 0.30328211188316345, 0.08309098333120346, 0.07327114045619965, 0.2433243989944458, 0.0547645129263401, 0.0005665294593200088, 0.21631982922554016, 0.00018884314340539277, 0.009253314696252346, 0.0005665294593200088, 0.01548513863235712, 0.9997202157974243, 0.9994498491287231, 0.11517667025327682, 0.03675851225852966, 0.021801600232720375, 0.002788576763123274, 0.018083497881889343, 0.010393785312771797, 0.16875113546848297, 0.02053406462073326, 0.15066763758659363, 0.10351534932851791, 0.014534399844706059, 0.037688035517930984, 0.022477617487311363, 0.00929525587707758, 0.19173577427864075, 0.049180351197719574, 0.008027720265090466, 0.01859051175415516, 0.9993504285812378, 0.9991174936294556, 0.9988317489624023, 0.9986748695373535, 0.9987736940383911, 0.2810664176940918, 0.71876060962677, 0.0005959484842605889, 0.013110865838825703, 0.9859967231750488, 0.11050359904766083, 6.93247202434577e-05, 0.17580749094486237, 0.24811317026615143, 0.04804202914237976, 0.09740123152732849, 0.015043464489281178, 0.05469720438122749, 0.044437143951654434, 0.01067600678652525, 0.026828667148947716, 0.15473277866840363, 6.93247202434577e-05, 0.01351832039654255, 0.8594054579734802, 0.0022380349691957235, 0.13819865882396698, 4.638052632799372e-05, 0.0625673308968544, 0.044478923082351685, 0.14753645658493042, 0.039562586694955826, 0.07374503463506699, 0.03404330462217331, 0.2509186565876007, 0.03218808397650719, 0.035295579582452774, 0.04512825235724449, 0.0006957078585401177, 0.06544291973114014, 0.05240999534726143, 0.029683535918593407, 0.08496912568807602, 0.001205893699079752, 0.999858021736145, 0.999385416507721, 0.0994272455573082, 0.0010783865582197905, 0.13199451565742493, 0.07354596257209778, 0.20295235514640808, 0.10503485798835754, 0.04723333194851875, 0.009166286326944828, 0.24285265803337097, 0.02512640692293644, 0.0613601990044117, 0.9984971284866333, 0.0015924135223031044, 0.07311832159757614, 0.8898937702178955, 0.031184764578938484, 0.004113735165446997, 0.05624957010149956, 0.598349392414093, 0.057967111468315125, 0.026407239958643913, 0.18442130088806152, 0.04057697951793671, 0.01717544160783291, 0.018892984837293625, 0.9994899034500122, 0.14949490129947662, 0.05580919235944748, 0.45535609126091003, 0.0787697359919548, 0.00033519035787321627, 0.0011731662089005113, 0.14161792397499084, 0.012569637969136238, 0.10390900820493698, 0.0010055711027234793, 0.9995288252830505, 0.9985815286636353, 0.9994639754295349, 0.9856554865837097, 0.013808700256049633, 0.999502956867218, 0.9992745518684387, 0.9980787038803101, 0.9992104768753052, 0.9995267391204834, 0.99920654296875, 0.006919457111507654, 0.19506578147411346, 0.16336208581924438, 0.2706136703491211, 0.0005661373725160956, 0.017172833904623985, 0.02453261986374855, 0.031137555837631226, 0.04044737294316292, 0.0006290415185503662, 0.05007170885801315, 0.005095236469060183, 0.011825980618596077, 0.03673602640628815, 0.04711521044373512, 0.015726039186120033, 0.035352133214473724, 0.04755553975701332, 0.016468249261379242, 0.03328688442707062, 0.09810871630907059, 0.15837550163269043, 0.6934183835983276, 0.9996325969696045, 0.9986904263496399, 0.979960024356842, 0.019298994913697243, 0.999284029006958, 0.9990062713623047, 0.9996628165245056, 0.003913093823939562, 0.9958823919296265, 3.363812720635906e-05, 0.00030274316668510437, 0.04568057879805565, 0.1441393792629242, 0.07027005404233932, 0.016146302223205566, 0.3362467288970947, 0.03158620372414589, 0.007232197560369968, 0.17680200934410095, 0.0001681906433077529, 0.06589709222316742, 0.0048102522268891335, 0.10067892074584961, 0.9997653961181641, 0.22954469919204712, 0.7700309157371521, 0.999681293964386, 0.9994407892227173, 0.040268465876579285, 0.800822913646698, 0.1588006466627121, 0.9142376780509949, 0.08555510640144348, 0.08784033358097076, 0.09080541133880615, 0.021496791392564774, 0.2337467074394226, 6.177238537929952e-05, 0.08580184727907181, 0.022917555645108223, 0.06584936380386353, 0.06226656585931778, 0.11674981564283371, 0.04707055911421776, 0.035272032022476196, 0.002594440244138241, 0.0028415299020707607, 0.008215727284550667, 0.04157281666994095, 0.045402705669403076, 0.004324066918343306, 0.025264905765652657, 0.0007562846876680851, 0.9990520477294922, 0.9995290040969849, 0.7809892296791077, 0.21820850670337677, 0.9988328814506531, 0.08460143208503723, 0.41873642802238464, 0.4354126751422882, 0.05958706885576248, 0.0016269506886601448, 0.9982916712760925, 0.025855544954538345, 0.006050197873264551, 0.3098011612892151, 0.01070419605821371, 0.05548600107431412, 5.171109296497889e-05, 0.14292946457862854, 0.00020684437185991555, 0.04317876324057579, 0.032784830778837204, 0.042454805225133896, 0.08413394540548325, 0.047160517424345016, 0.033612210303545, 0.04690195992588997, 0.010549062862992287, 0.1082313135266304, 0.9998021721839905, 0.12412767857313156, 0.870746374130249, 0.004940405022352934, 0.003913571126759052, 0.39451807737350464, 0.34093227982521057, 0.01881524734199047, 0.07435785233974457, 0.0037630493752658367, 0.07435785233974457, 0.010687059722840786, 0.04771546646952629, 0.01881524734199047, 0.012192280031740665, 0.9988450407981873, 0.9997098445892334, 0.9985796213150024, 0.9981376528739929, 0.9164486527442932, 0.08287402987480164, 0.9997609853744507, 0.9983397126197815, 0.9993250966072083, 0.014371734112501144, 0.10191863775253296, 0.05869372561573982, 0.4720730781555176, 0.16840161383152008, 0.1845286786556244, 0.9986370205879211, 0.9990453720092773, 0.9868583083152771, 0.012666149996221066, 0.3775187134742737, 0.3036806285381317, 0.029311902821063995, 0.07872340083122253, 0.10124238580465317, 0.10947763174772263, 0.590087354183197, 0.1330040842294693, 0.023056335747241974, 0.07045947015285492, 0.18333227932453156, 0.0047169835306704044, 0.9947594404220581, 0.06157262623310089, 0.06682215631008148, 0.09810061007738113, 0.009077314287424088, 0.07032184302806854, 0.6058833599090576, 0.0049214353784918785, 0.044183552265167236, 0.03904338926076889, 0.08487551659345627, 0.5578951835632324, 0.1288023144006729, 0.22832009196281433, 0.9992251992225647, 0.9993270635604858, 0.9983952641487122, 0.9993005990982056, 0.8537400960922241, 0.0012376034865155816, 0.14479960501194, 0.9994641542434692, 0.6664925813674927, 0.038065869361162186, 0.2871933877468109, 0.008156972005963326, 0.998807966709137, 0.21527184545993805, 0.22659671306610107, 0.03864363208413124, 0.00963607244193554, 0.0624854601919651, 0.00019868191157002002, 0.07023405283689499, 0.06109468638896942, 0.020464235916733742, 0.29315516352653503, 0.0021855009254068136, 0.02787453681230545, 0.03071887604892254, 0.02351321466267109, 0.015549060888588428, 0.002085849642753601, 0.8823143839836121, 0.017824532464146614, 0.09869865328073502, 0.17858324944972992, 0.07621796429157257, 0.0030655490700155497, 0.04381931945681572, 0.08727798610925674, 0.02602711133658886, 0.09401016682386398, 0.03720735013484955, 0.06335467845201492, 0.18405315279960632, 0.006551859434694052, 0.013043610379099846, 0.029393205419182777, 0.0008415232296101749, 0.05716347321867943, 0.0006010880460962653, 0.9990870356559753, 0.9987064003944397, 0.11346644163131714, 0.105796217918396, 0.7805116176605225, 0.16114941239356995, 0.0970044657588005, 0.05312617868185043, 0.0001967636198969558, 0.6809989213943481, 0.007083490490913391, 0.9986428022384644, 0.9983671307563782, 0.7600739598274231, 0.23972295224666595, 0.03793702274560928, 0.9616037011146545, 0.12629321217536926, 0.48710283637046814, 0.12419052422046661, 0.10651472955942154, 0.02010703645646572, 0.05085897445678711, 0.0832536444067955, 0.0012484760954976082, 0.00039425562135875225, 0.9990256428718567, 0.00023527871235273778, 0.11916866898536682, 0.2429252713918686, 0.10516958683729172, 0.0011763935908675194, 0.2888046205043793, 0.08117115497589111, 0.012352132238447666, 0.012469771318137646, 0.0018822296988219023, 0.07893601059913635, 0.00035291805397719145, 0.055290497839450836, 0.9995728731155396, 0.9995567202568054, 0.04572788253426552, 0.9447333812713623, 0.009284849278628826, 0.9996219873428345, 0.0005630518426187336, 0.11123402416706085, 0.03215651586651802, 0.19744351506233215, 0.023960983380675316, 0.04373035952448845, 0.09765821695327759, 0.01570289023220539, 0.024836841970682144, 0.07982823997735977, 0.012449702247977257, 0.36029061675071716, 0.999411404132843, 0.9990643262863159, 0.04715074971318245, 0.08686327934265137, 0.15431153774261475, 0.1660362035036087, 0.0375693142414093, 0.011472508311271667, 0.02017144300043583, 0.00012607152166310698, 0.00453857472166419, 0.040468957275152206, 0.042360030114650726, 0.31530487537384033, 0.07349969446659088, 0.025330450385808945, 0.410145103931427, 0.5642097592353821, 0.9994716048240662, 0.2620711326599121, 0.0035153741482645273, 0.07663515210151672, 0.011249196715652943, 0.0006151904817670584, 0.1535339653491974, 0.06881345063447952, 0.03559316322207451, 0.23447544872760773, 0.1535339653491974, 0.9994121193885803, 0.9978032112121582, 0.9997711181640625, 0.9976853132247925, 0.9986578822135925, 0.09048477560281754, 0.061827197670936584, 0.1424342542886734, 0.027560053393244743, 0.006463198456913233, 0.014511709101498127, 0.4640088677406311, 0.03938892483711243, 0.043657075613737106, 0.010609401389956474, 0.0014633656246587634, 0.00024389427562709898, 0.09719187021255493, 0.0483098179101944, 0.1181369349360466, 0.020545553416013718, 0.08003048598766327, 0.06774479895830154, 0.1616574227809906, 0.003262300742790103, 0.00010411598486825824, 0.028701305389404297, 0.009543965570628643, 0.02877071686089039, 0.06368427723646164, 0.07721935212612152, 0.03810644894838333, 0.0055181472562253475, 0.24828191101551056, 0.00013882131315767765, 0.00020823196973651648, 0.04794709384441376, 0.000809370307251811, 0.34563347697257996, 0.1425139158964157, 0.04963058605790138, 0.020363755524158478, 0.06209488958120346, 0.03512667119503021, 0.010295189917087555, 0.037781406193971634, 0.00851457566022873, 0.02952582761645317, 0.0038202276919037104, 0.0014244916383177042, 0.1535213589668274, 0.030108574777841568, 0.02088175341486931, 0.9997329115867615, 0.9994836449623108, 0.9991018772125244, 0.9997468590736389, 0.9999096393585205, 0.07782168686389923, 0.43594294786453247, 0.2520007789134979, 0.007923662662506104, 0.04938139766454697, 0.012026987969875336, 0.16498197615146637, 0.998856246471405, 0.9993721842765808, 0.9991991519927979, 0.9983583688735962, 0.00038785237120464444, 4.8481546400580555e-05, 0.03645812347531319, 0.8188533186912537, 0.10326569527387619, 0.020022878423333168, 0.020944029092788696, 0.007226192392408848, 0.991020679473877, 0.998746395111084, 0.0807090699672699, 0.6327260136604309, 0.28647586703300476, 0.9984431266784668, 0.0009436854161322117, 0.9880385994911194, 0.010380539111793041, 0.19063949584960938, 0.8092154264450073, 0.9990689754486084, 0.09460904449224472, 7.812472904333845e-05, 0.8746063113212585, 0.0305467676371336, 0.9989942908287048, 0.9991904497146606, 0.9992130398750305, 0.03489995002746582, 0.9588612914085388, 0.004732196684926748, 0.001183049171231687, 0.004827030934393406, 0.001179940882138908, 0.019200855866074562, 0.0454813577234745, 0.03100026585161686, 0.002681683748960495, 0.021775271743535995, 0.06200053170323372, 0.7545185685157776, 0.05717349797487259, 0.04817815124988556, 0.08196160942316055, 0.7279601097106934, 0.1418905258178711, 0.18601250648498535, 0.002849496901035309, 0.014280618168413639, 0.044266603887081146, 0.03581751510500908, 0.08850007504224777, 0.15450237691402435, 0.18468716740608215, 0.09800944477319717, 0.0035121706314384937, 0.017196383327245712, 0.01136485394090414, 0.00019880211038980633, 0.03382949158549309, 0.12498026341199875, 0.939076840877533, 0.06069856882095337, 0.9987642765045166, 0.0033599224407225847, 0.015057429671287537, 0.0054754288867115974, 0.02575940452516079, 0.052576564252376556, 0.06638957560062408, 0.08175811171531677, 0.22586144506931305, 0.08586468547582626, 0.009270897135138512, 0.00031110391137190163, 0.045670054852962494, 0.023021690547466278, 0.21472392976284027, 0.02600828744471073, 0.0492788627743721, 0.06271854788064957, 0.0068442863412201405, 0.9992082715034485, 0.9995535612106323, 0.0623951219022274, 0.06458192318677902, 0.08775725215673447, 0.07496922463178635, 0.03691413998603821, 0.0446154810488224, 0.054337237030267715, 0.04421139881014824, 0.07584869861602783, 0.040218111127614975, 0.024791661649942398, 0.02788170427083969, 0.003993287682533264, 0.10534673184156418, 0.0027097309939563274, 0.06001816317439079, 0.0665072575211525, 0.06952599436044693, 0.053006138652563095, 0.0003565435472410172, 0.3154822885990143, 0.19928127527236938, 0.1152268797159195, 0.0011133032385259867, 0.08335857838392258, 0.007932284846901894, 0.27415090799331665, 0.0032007466070353985, 0.9833635091781616, 0.015961842611432076, 0.3144623637199402, 0.11119703203439713, 0.001966506941244006, 0.19218137860298157, 0.0008938668179325759, 0.0816994309425354, 0.02359808422625065, 0.27405956387519836, 0.9985836744308472, 0.9997218251228333, 0.9990070462226868, 0.9992814064025879, 0.999532163143158, 0.023559343069791794, 0.9749080538749695, 0.0521775484085083, 0.8565813899040222, 0.09131070971488953, 0.012220037169754505, 0.06924688071012497, 0.9178605675697327, 0.9992757439613342, 0.9994892477989197, 0.9996187090873718, 0.25287801027297974, 0.7467642426490784, 0.0272664837539196, 0.02889433316886425, 0.9436102509498596, 0.14798901975154877, 0.12593793869018555, 0.030170971527695656, 0.0005572474910877645, 0.03932575136423111, 0.08716943114995956, 0.08931881189346313, 0.06519795954227448, 0.07801464945077896, 0.05851098895072937, 0.06440188735723495, 0.02205107919871807, 0.00939360074698925, 0.16820913553237915, 0.0002388203574810177, 0.013373940251767635, 0.13810521364212036, 0.8617069125175476, 0.02679353393614292, 0.18993157148361206, 0.03111506998538971, 0.7387668490409851, 0.003025076352059841, 0.0010803843615576625, 0.008210921660065651, 0.0006482306635007262, 0.037420932203531265, 0.0008315762970596552, 0.9615793824195862, 0.8456217646598816, 0.0034612982999533415, 0.15069960057735443, 0.7438004016876221, 0.00944684911519289, 0.005834818352013826, 0.03750954568386078, 0.182546466588974, 0.020560787990689278, 0.9997832179069519, 0.1333533376455307, 0.8665321469306946, 0.9068043231964111, 0.0928993672132492, 0.10151262581348419, 0.0027758523356169462, 0.20496535301208496, 0.015670133754611015, 0.06972463428974152, 0.021221838891506195, 0.04139900207519531, 0.003253418253734708, 0.0759628415107727, 0.09127479791641235, 0.034892164170742035, 0.07915656268596649, 0.0011939150281250477, 0.04390622302889824, 0.005790487863123417, 0.1035422757267952, 0.016535723581910133, 0.04387637600302696, 0.04286154732108116, 0.000477566005429253, 0.041126053780317307, 0.12660373747348785, 0.8297786116600037, 0.002015982987359166, 0.9994717836380005, 0.00032534889760427177, 0.9981518387794495, 0.9993857145309448, 0.9994654655456543, 0.02077461965382099, 0.13040702044963837, 0.1530328392982483, 0.0034967181272804737, 0.0016455143922939897, 0.5199825167655945, 0.13760614395141602, 0.031059084460139275, 0.0020568929612636566, 0.024761993438005447, 0.23984213173389435, 0.08611141890287399, 0.03571441397070885, 0.028968356549739838, 0.15071482956409454, 0.06468276679515839, 0.006349228788167238, 0.07055580615997314, 0.00015873071970418096, 0.049444619566202164, 0.006190498359501362, 0.07000024616718292, 0.033492181450128555, 0.12380996346473694, 0.00825399812310934, 0.0008730189874768257, 0.9992812871932983, 0.9758984446525574, 0.0236581452190876, 0.19777147471904755, 0.004057755693793297, 0.10991224646568298, 0.002999210497364402, 0.025405077263712883, 0.02328798733651638, 0.07727377861738205, 0.027875015512108803, 0.031050650402903557, 0.08891776949167252, 0.011996841989457607, 0.06333626806735992, 0.03422628715634346, 0.30203813314437866, 0.9989596009254456, 0.9972251653671265, 0.0023043907713145018, 0.8371180295944214, 0.0448065809905529, 0.11775387823581696, 0.9988170266151428, 0.06761909276247025, 0.04389309510588646, 0.8191400766372681, 0.06939854472875595, 0.9996724128723145, 0.20514754951000214, 0.04592214897274971, 0.0015021264553070068, 0.705784797668457, 0.04141576960682869, 0.998113214969635, 0.9991347789764404, 0.9993675947189331, 0.999384343624115, 0.004903324414044619, 0.2650655508041382, 0.45515111088752747, 0.10758711397647858, 0.16724422574043274, 0.10653099417686462, 0.893365204334259, 0.9976181387901306, 0.3809112310409546, 0.11930040270090103, 0.1119723692536354, 0.007840997539460659, 0.16011755168437958, 0.028212932869791985, 0.011211893521249294, 0.0033708959817886353, 7.328034553211182e-05, 0.0058624278753995895, 0.12069272994995117, 0.031217427924275398, 0.019199451431632042, 0.9993536472320557, 0.0022271564230322838, 0.9970236420631409, 0.9991781711578369, 0.9988636374473572, 0.1562327742576599, 0.4617689847946167, 0.001016298308968544, 0.0053586638532578945, 0.019124886021018028, 0.25740063190460205, 0.02309768833220005, 0.005728226620703936, 0.00027717227931134403, 0.06143985316157341, 0.008499949239194393, 0.9993920922279358, 0.9990989565849304, 0.37016889452934265, 0.6294311881065369, 0.06420250982046127, 0.04245312511920929, 0.017357680946588516, 0.874576210975647, 0.0012547721853479743, 0.9995718598365784, 0.9995499849319458, 0.9998124837875366, 0.19454103708267212, 0.8050519824028015, 0.0002552866644691676, 0.35867777466773987, 0.002808153396472335, 0.5720974206924438, 0.0661192461848259, 0.9988689422607422, 0.011547816917300224, 0.05184232443571091, 0.006879550404846668, 0.5906585454940796, 0.004668266512453556, 0.001719887601211667, 0.3324297070503235, 0.21337847411632538, 0.0003381592396181077, 0.006425025407224894, 0.025700101628899574, 0.7537569403648376, 0.011639229021966457, 0.1737644225358963, 0.22073334455490112, 0.019570384174585342, 0.006180121563374996, 0.008034158498048782, 0.00793115608394146, 0.3994418680667877, 0.022145435214042664, 0.03296064957976341, 0.012669249437749386, 0.033372655510902405, 0.00010300202848156914, 0.024823488667607307, 0.026574522256851196, 0.037664756178855896, 0.9604512453079224, 0.999661922454834, 0.9990925788879395, 0.9982606768608093, 0.014864969067275524, 0.9832115173339844, 0.0010617835214361548, 0.9991276264190674, 0.34522637724876404, 0.1553724855184555, 0.13751357793807983, 0.00013737620611209422, 0.0038465335965156555, 0.013325490988790989, 0.09135517477989197, 0.050691816955804825, 0.019095292314887047, 0.015660887584090233, 0.047944292426109314, 0.1101757138967514, 0.009753710590302944, 0.9993829131126404, 0.9998546242713928, 0.9976351261138916, 0.0014313273131847382, 0.9978110194206238, 0.9988946318626404, 0.9996377229690552, 0.9543753862380981, 0.04523589834570885, 0.9987099170684814, 0.9978173971176147, 0.9995842576026917, 0.9985130429267883, 0.9800907969474792, 0.018869245424866676, 0.2689248025417328, 0.7308118939399719, 0.9995802640914917, 0.9996669888496399, 0.9992208480834961, 0.9990549087524414, 0.9990730285644531, 0.01957959495484829, 0.1328182816505432, 0.1293868124485016, 0.0006055544945411384, 0.03108512982726097, 0.47354361414909363, 0.0018166634254157543, 0.045012883841991425, 0.044003624469041824, 0.00020185149332974106, 0.0664091408252716, 0.055509161204099655, 0.0972582995891571, 0.9025774598121643, 0.9991450905799866, 0.9989627003669739, 0.8450146317481995, 0.1546172946691513, 0.7725001573562622, 0.013447224162518978, 0.0020027782302349806, 0.09928057342767715, 0.11244168877601624, 0.9977436065673828, 0.0018296726047992706, 0.02152043581008911, 0.17904654145240784, 0.13138791918754578, 0.0002613818214740604, 0.18967606127262115, 0.3802233934402466, 0.005401890724897385, 0.0007841454353183508, 8.71272713993676e-05, 0.07780465483665466, 0.011936435475945473, 0.01699651964008808, 0.014447040855884552, 0.019715962931513786, 0.10520845651626587, 0.43281635642051697, 0.08141332864761353, 0.0019545997492969036, 0.1422608643770218, 0.09772998839616776, 0.006033764220774174, 0.00016996519116219133, 0.022860318422317505, 0.009178120642900467, 0.04920492321252823, 0.9978440403938293, 0.999468207359314, 0.05525072291493416, 0.06768999993801117, 0.23218372464179993, 0.03954431787133217, 0.017715079709887505, 0.06647995114326477, 0.03985892981290817, 0.10321696847677231, 0.003509134752675891, 0.05583154410123825, 0.06996488571166992, 0.00021780836686957628, 0.02901691384613514, 0.00019360744045116007, 0.002226485637947917, 0.006727858446538448, 0.033518288284540176, 0.04058495908975601, 0.0240557249635458, 0.11221971362829208, 0.018295196816325188, 0.022286061197519302, 0.0378011055290699, 0.051970914006233215, 0.0182503554970026, 0.020537255331873894, 0.09797795116901398, 0.16331154108047485, 0.011299974285066128, 0.11021959036588669, 0.04663481563329697, 0.000941664504352957, 0.014932109043002129, 0.03551420569419861, 0.007488475181162357, 0.08811289817094803, 0.04197133332490921, 0.04067093878984451, 0.05641018971800804, 0.11528664082288742, 0.9978711009025574, 0.9996389150619507, 0.9995368719100952, 0.7012180089950562, 0.14432081580162048, 0.0899578183889389, 0.007442553527653217, 0.05662812665104866, 0.9994316101074219, 0.9986254572868347, 0.2390475869178772, 0.7574597001075745, 0.0035678744316101074, 0.3210323750972748, 0.1426810622215271, 0.07894668728113174, 0.4568941295146942, 0.9993873238563538, 0.9987509250640869, 0.9989079833030701, 0.2207614779472351, 0.7786669135093689, 0.9994766712188721, 0.9978421926498413, 0.9991245865821838, 0.9985145330429077, 0.9998273253440857, 0.25769856572151184, 0.0844036117196083, 0.05160875245928764, 0.5866827964782715, 0.019504310563206673, 0.9986823797225952, 0.25284942984580994, 0.01361952442675829, 0.07697992026805878, 0.6564018726348877, 0.9998967051506042, 0.9993000030517578, 0.7222986221313477, 0.15865518152713776, 0.0001439702173229307, 0.023755086585879326, 0.09444446116685867, 0.0007198511157184839, 0.0035301456227898598, 0.19466231763362885, 0.8013430833816528, 0.9990639686584473, 0.9994975924491882, 0.17530100047588348, 0.05390922725200653, 0.0038023749366402626, 0.007719973102211952, 0.05110545456409454, 0.012367320246994495, 0.06961803138256073, 0.09280867129564285, 0.05585266277194023, 0.06008520722389221, 0.07461872696876526, 0.008027235977351665, 0.09569694101810455, 0.03559637442231178, 0.00532332481816411, 0.09471370279788971, 0.02418925054371357, 0.01895810291171074, 0.04073534160852432, 0.01955726556479931, 0.9993058443069458, 0.9996166229248047, 0.9990127086639404, 0.9993354082107544, 0.9992804527282715, 0.9988576769828796, 0.0007287824410013855, 0.9036902189254761, 0.09547050297260284, 0.09194488823413849, 0.24726031720638275, 0.6606666445732117, 0.061805885285139084, 0.055287815630435944, 0.0028454530984163284, 0.26442861557006836, 0.08906929939985275, 0.031663935631513596, 0.028487617149949074, 0.017866797745227814, 0.09194783866405487, 0.0407627709209919, 0.036229897290468216, 0.06233527511358261, 0.06971359997987747, 0.018230751156806946, 0.034542474895715714, 0.011117118410766125, 0.03232567012310028, 0.030340470373630524, 0.02081151120364666, 0.00019851997785735875, 0.0019962117075920105, 0.13301074504852295, 0.26244932413101196, 0.2875595688819885, 0.11262837052345276, 0.008615229278802872, 0.03456598147749901, 0.022063393145799637, 0.004727869760245085, 0.015129183419048786, 0.08447127789258957, 0.00010506377293495461, 0.0008405101834796369, 0.015864631161093712, 0.002626594388857484, 0.006303826812654734, 0.007039273157715797, 0.9996330142021179, 0.9990116953849792, 0.037043359130620956, 0.5623227953910828, 0.12125372141599655, 0.06419314444065094, 0.21489748358726501, 0.21548713743686676, 0.39817607402801514, 0.06115175411105156, 0.19770868122577667, 0.04613202437758446, 0.08138240873813629, 0.08955834805965424, 0.9101483225822449, 0.9511715769767761, 0.027176329866051674, 0.02056587114930153, 0.06675189733505249, 0.9328851699829102, 0.9996717572212219, 0.04575442522764206, 0.7312074899673462, 0.22272908687591553, 0.2773374021053314, 0.7221940755844116, 0.998799741268158, 0.207676962018013, 0.7919920086860657, 0.9979599118232727, 0.25625884532928467, 0.07302682101726532, 0.1768845021724701, 0.15633060038089752, 0.0015113167464733124, 0.03143538534641266, 0.012755513191223145, 0.29174456000328064, 0.9995615482330322, 0.9994658827781677, 0.4358854293823242, 0.5523480772972107, 0.011430022306740284, 0.9995090961456299, 0.99946528673172, 0.9996768236160278, 6.182296056067571e-05, 0.020957982167601585, 0.05322956666350365, 0.07115822285413742, 0.0406176820397377, 0.1120850220322609, 0.038453880697488785, 0.0018546887440606952, 6.182296056067571e-05, 0.17508262395858765, 0.06200842931866646, 0.008655213750898838, 0.005625889170914888, 0.14083269238471985, 0.26930081844329834, 0.9988658428192139, 0.999591588973999, 0.09330467134714127, 0.6542134284973145, 0.022335480898618698, 0.09474566578865051, 0.0039627463556826115, 0.04539145901799202, 0.08609967678785324, 0.9994280934333801, 0.9987317323684692, 0.9990837574005127, 0.9996992349624634, 0.9988002777099609, 0.6367514133453369, 0.3631710708141327, 0.9993966817855835, 0.0002229366364190355, 0.6908805966377258, 0.012205780483782291, 0.29672864079475403, 0.10908102989196777, 0.08176939189434052, 0.06480307132005692, 0.23802506923675537, 0.17860156297683716, 0.006372715812176466, 0.003393264254555106, 0.00016552508168388158, 8.276254084194079e-05, 0.046595312654972076, 0.1716495156288147, 0.0004138127260375768, 0.0772174522280693, 0.021849311888217926, 0.05111691728234291, 0.19328583776950836, 0.003961560782045126, 0.010542863979935646, 0.17590609192848206, 0.030414564535021782, 0.000319480721373111, 0.06881614774465561, 0.00798701774328947, 0.1658743917942047, 0.1654910147190094, 0.008114810101687908, 0.016804685816168785, 0.01035117544233799, 0.013545982539653778, 0.03469560667872429, 0.04274652153253555, 0.9983021020889282, 0.08116395026445389, 0.024349184706807137, 0.24646785855293274, 0.6357842683792114, 0.012174592353403568, 0.004009634722024202, 0.2063734531402588, 0.09803147614002228, 0.06480879336595535, 0.01677500270307064, 0.06300854682922363, 0.03526841849088669, 0.012765367515385151, 0.052534397691488266, 0.0007364635239355266, 0.0858389139175415, 0.00032731713145039976, 0.34630152583122253, 0.01309268455952406, 0.04704320430755615, 0.054496802389621735, 0.34372085332870483, 0.02590431086719036, 0.05303052067756653, 0.09347546100616455, 0.0020772323478013277, 0.07025933265686035, 0.005131985992193222, 0.3047422170639038, 0.9997605681419373, 0.9995985627174377, 0.9992499351501465, 0.9998607635498047, 0.9991381168365479, 0.9975713491439819, 0.9981052875518799, 0.9990801215171814, 0.999691367149353, 0.9988537430763245, 0.9993149638175964, 0.06074676662683487, 0.0010636593215167522, 0.4818376898765564, 0.027418775483965874, 0.05188294127583504, 0.0033091625664383173, 0.08367453515529633, 0.047510117292404175, 0.12716639041900635, 0.008154721930623055, 0.05861945077776909, 0.048337407410144806, 0.0003545531362760812, 0.9977771043777466, 0.2734040319919586, 0.20870710909366608, 0.002719310810789466, 0.5148561596870422, 0.9991773366928101, 0.9999049305915833, 0.03101850114762783, 0.16124792397022247, 0.004707087762653828, 0.10910787433385849, 0.5113828182220459, 0.0002413891052128747, 0.011224593967199326, 0.04369143024086952, 0.12709136307239532, 0.0002413891052128747, 0.00031074206344783306, 0.022787751629948616, 0.016987232491374016, 0.3958853781223297, 0.00010358068539062515, 0.022787751629948616, 0.1379694789648056, 0.10958836227655411, 0.2267381250858307, 0.04070720821619034, 0.026102332398295403, 0.07271311432123184, 0.23268195986747742, 0.6940796971321106, 0.9994460940361023, 0.9998340010643005, 0.9997730255126953, 0.00030381171382032335, 0.02946973592042923, 0.6726391315460205, 0.0012152468552812934, 0.29165923595428467, 0.0009114351123571396, 0.0036457404494285583, 0.048569001257419586, 0.03241148963570595, 0.09366534650325775, 0.10794183611869812, 0.09824732691049576, 0.017652686685323715, 0.1462375521659851, 0.15163946151733398, 0.03762047737836838, 0.002170412102714181, 0.10152705758810043, 0.06617345660924911, 0.01046620961278677, 0.08565893769264221, 0.2066016048192978, 0.030244771391153336, 0.03336864337325096, 0.046716101467609406, 0.5605932474136353, 0.04799405112862587, 0.049271997064352036, 0.025132978335022926, 0.8341634273529053, 0.00489724101498723, 0.01550792995840311, 0.06312000006437302, 0.043803103268146515, 0.038089655339717865, 0.0053141312673687935, 0.6780206561088562, 0.3163471221923828, 0.99956214427948, 0.9985068440437317, 0.9974356293678284, 0.0019435611320659518, 0.9978129267692566, 0.9993222951889038, 0.9997318983078003, 0.9988182187080383, 0.9218822717666626, 0.07774435728788376, 0.7480354905128479, 0.154699444770813, 0.09683182090520859, 0.9993706941604614, 0.03953712061047554, 0.030366139486432076, 0.000815198349300772, 0.08111223578453064, 0.000203799587325193, 0.2521000802516937, 0.5957062244415283, 0.025717617943882942, 0.13530710339546204, 0.009730990044772625, 0.188364177942276, 0.585944652557373, 0.0002316902537131682, 0.05352044850587845, 0.0004633805074263364, 0.0009267610148526728, 0.31899869441986084, 0.021032093092799187, 0.016103070229291916, 0.26449233293533325, 0.0013399285962805152, 0.052424702793359756, 0.1833070069551468, 0.08286022394895554, 0.02651144377887249, 0.0009331644978374243, 0.005359714385122061, 0.0008374553290195763, 0.02581755258142948, 0.964112401008606, 0.035257577896118164, 0.16125613451004028, 0.08941996097564697, 0.11307943612337112, 0.06039957329630852, 0.3443847894668579, 0.05403796210885048, 0.020871805027127266, 0.008077102713286877, 0.05739746615290642, 0.017297865822911263, 0.03073587827384472, 0.013152096420526505, 0.000929224188439548, 0.029020385816693306, 0.08270324021577835, 0.020443497225642204, 0.02927136979997158, 0.07410767674446106, 0.004878561943769455, 0.0034846868366003036, 0.6925234794616699, 0.004181624390184879, 0.06574442982673645, 0.022301996126770973, 0.00023231246450450271, 0.9995265007019043, 0.999162495136261, 0.05437067896127701, 0.9454274773597717, 0.9995794892311096, 0.0659477636218071, 0.40870049595832825, 0.04439098760485649, 0.15441037714481354, 0.0007185591966845095, 0.08167622983455658, 0.00918158981949091, 0.005349273793399334, 0.004630714654922485, 0.03616748005151749, 0.026746369898319244, 0.005668633617460728, 0.0052694338373839855, 0.009021909907460213, 0.08806341886520386, 0.044710349291563034, 0.009341269731521606, 0.9675230979919434, 0.031926874071359634, 0.38929304480552673, 0.5629051923751831, 0.047719791531562805, 0.011180957779288292, 0.28988561034202576, 0.10202623903751373, 0.009205012582242489, 4.81937822769396e-05, 0.09768879413604736, 4.81937822769396e-05, 0.04607325792312622, 0.1138819083571434, 0.033783841878175735, 0.005735060200095177, 0.28959643840789795, 0.0008192943059839308, 0.9994982481002808, 0.0006061879685148597, 0.9989977478981018, 0.115340456366539, 0.0004282442678231746, 0.026836641132831573, 0.039969466626644135, 0.18071907758712769, 0.00028549617854878306, 0.4442320466041565, 0.06851908564567566, 0.00028549617854878306, 0.027550380676984787, 0.0599541962146759, 0.03597251698374748, 0.6976854801177979, 0.2689434587955475, 0.00014513949281536043, 0.022496620193123817, 0.01045004278421402, 0.00014513949281536043, 0.2727114260196686, 0.4755256474018097, 0.2517984211444855, 0.09667336940765381, 0.01852906309068203, 0.8837557435035706, 0.9992495775222778, 0.9993467330932617, 0.9666194915771484, 0.03265606611967087, 0.9994994401931763, 0.20791569352149963, 0.012281940318644047, 0.15826156735420227, 0.187036395072937, 0.09000907838344574, 0.013685590587556362, 0.33073508739471436, 0.9986928105354309, 0.9986611008644104, 0.9994723796844482, 0.9983585476875305, 0.23851653933525085, 0.7609525322914124, 0.010639815591275692, 0.9841829538345337, 0.004433256573975086, 0.9993773102760315, 0.029290325939655304, 0.11082825809717178, 0.04142865911126137, 0.15120141208171844, 0.563640832901001, 0.10343971103429794, 0.9993500113487244, 0.9987044334411621, 0.0012087367940694094, 0.9972078204154968, 0.999550998210907, 0.9978598952293396, 0.9996127486228943, 0.26354652643203735, 0.489374041557312, 0.01229294203221798, 0.2308242917060852, 0.0038912908639758825, 0.533927321434021, 0.16613681614398956, 0.2998877167701721, 0.9990479946136475, 0.05398919805884361, 0.9453853368759155, 0.005796235520392656, 0.07518059015274048, 0.08745496720075607, 0.0071600559167563915, 0.0395507849752903, 0.00017047752044163644, 0.0039209830574691296, 0.3719819486141205, 0.006819101050496101, 0.0006819100817665458, 0.35203608870506287, 0.04960895702242851, 0.9987831115722656, 0.9988304972648621, 0.999758780002594, 0.9993836879730225, 0.6964647173881531, 0.015501598827540874, 0.20373529195785522, 0.03321771323680878, 0.050933822989463806, 0.9988040924072266, 0.9994511008262634, 0.7301596403121948, 0.09873386472463608, 0.02119329944252968, 0.030696643516421318, 0.03010794147849083, 0.04171379655599594, 0.04743262380361557, 0.7887483239173889, 0.21116386353969574, 0.9991090893745422, 0.9992074966430664, 0.998754620552063, 0.9994126558303833, 0.022689932957291603, 0.11698734760284424, 0.07673101127147675, 0.002561766654253006, 0.397805780172348, 0.1835932731628418, 0.011588945053517818, 0.00975911132991314, 0.11735331267118454, 0.060872457921504974, 0.019087741151452065, 0.0781688392162323, 0.03522142395377159, 0.22359924018383026, 0.015338363125920296, 0.045333381742239, 0.014429423026740551, 0.3385801613330841, 0.0026132024358958006, 0.04567423462867737, 0.12066178768873215, 0.017383478581905365, 0.019769445061683655, 0.006248962599784136, 0.006930667441338301, 0.010907280258834362, 0.8820930123329163, 0.10161291062831879, 0.016161099076271057, 0.0011187561322003603, 0.0004195335495751351, 0.020696988329291344, 0.13439057767391205, 0.012306317687034607, 0.03160485997796059, 0.01664149761199951, 0.39995530247688293, 0.0012586006196215749, 0.012446162290871143, 0.12418193370103836, 0.03496113047003746, 0.10040836036205292, 0.10712090134620667, 0.002377356868237257, 0.07914868742227554, 0.3706122934818268, 0.0014443191466853023, 0.1591639667749405, 0.0001444319059373811, 0.004332957323640585, 0.22415833175182343, 0.0257088802754879, 0.03307490795850754, 0.09604722261428833, 0.004044093657284975, 0.0021664786618202925, 0.9982011318206787, 0.0007897160830907524, 0.999282717704773, 0.005247278138995171, 0.24159808456897736, 0.06296733766794205, 0.22264648973941803, 0.0529472716152668, 0.049765411764383316, 0.02712954580783844, 0.04178284853696823, 0.02179853431880474, 0.05434282496571541, 8.373316813958809e-05, 0.00011164422176079825, 0.1191243827342987, 0.0356145054101944, 0.0010047979885712266, 0.006419542711228132, 0.043736621737480164, 0.007201052270829678, 2.791105544019956e-05, 0.006475364789366722, 0.051554713398218155, 0.1247933879494667, 0.43334725499153137, 0.2016829252243042, 0.06029467657208443, 0.011505773290991783, 0.06129036843776703, 0.006416681222617626, 0.02721557952463627, 0.00022126486874185503, 0.0005531621864065528, 0.0018807514570653439, 0.01913941092789173, 0.10802102088928223, 0.0073343985714018345, 0.030745798721909523, 0.056269507855176926, 0.0006747646839357913, 0.057325661182403564, 0.09860365837812424, 0.19527103006839752, 0.05031397566199303, 0.06771116703748703, 0.034911736845970154, 0.06551084667444229, 0.031567253172397614, 0.00865459069609642, 0.05697361007332802, 0.041894085705280304, 0.0004400639154482633, 0.04195275902748108, 0.045737311244010925, 0.9844388365745544, 0.014078882522881031, 0.9996142983436584, 0.12624825537204742, 0.13910381495952606, 0.7344154119491577, 0.998961865901947, 0.9989480376243591, 0.9993685483932495, 0.9991845488548279, 0.9990299344062805, 0.9990062713623047, 0.051630016416311264, 0.9480770230293274, 0.9992921948432922, 0.9994038939476013, 0.021607734262943268, 0.03265168517827988, 0.9454584121704102, 0.002167751779779792, 0.5271250009536743, 0.04498085007071495, 0.013187156990170479, 0.0993552953004837, 0.0758713111281395, 0.0007225839653983712, 0.0007225839653983712, 0.22689135372638702, 0.009212945587933064, 0.0001806459913495928, 0.2591502368450165, 0.05040924623608589, 0.010607350617647171, 0.05060387775301933, 0.24357981979846954, 0.024815361946821213, 0.008952993899583817, 0.07532192766666412, 0.009342254139482975, 0.00038926058914512396, 0.21000608801841736, 0.009828830137848854, 0.014402641914784908, 0.027637502178549767, 0.005060387775301933, 0.9989524483680725, 0.005068417172878981, 0.07049708068370819, 0.00015358840755652636, 0.005836359225213528, 0.13531138002872467, 0.22254960238933563, 0.1339290887117386, 0.04669087380170822, 0.0033789449371397495, 0.3693801164627075, 0.007218655198812485, 0.21011695265769958, 0.20158948004245758, 0.5733873248100281, 0.006139780860394239, 0.008527473546564579, 0.9990761280059814, 0.026686428114771843, 0.801446795463562, 0.05764268338680267, 0.06824608892202377, 7.116380584193394e-05, 7.116380584193394e-05, 0.0019925865344703197, 0.0013521122746169567, 0.00021349142480175942, 0.030315781012177467, 0.011955519206821918, 0.8802002668380737, 0.11930985003709793, 0.4149983823299408, 0.00017008130089379847, 0.05659455433487892, 0.0787263810634613, 0.30342504382133484, 0.010141097940504551, 0.04016044735908508, 0.003550447290763259, 0.0009992276318371296, 0.001998455263674259, 0.018241219222545624, 4.252032522344962e-05, 0.019644390791654587, 0.0009354471694678068, 0.019856993108987808, 0.01428682915866375, 0.008737927302718163, 0.007356016431003809, 0.00014882114192005247, 0.9737911224365234, 0.026099849492311478, 0.1636924296617508, 0.836146354675293, 0.9984538555145264, 0.9994624853134155, 0.29009345173835754, 0.6356433629989624, 0.016672037541866302, 0.04282081127166748, 0.01474159024655819, 0.10028554499149323, 0.8939515948295593, 0.004700884688645601, 0.9982055425643921, 0.7355203628540039, 0.12969069182872772, 0.06445549428462982, 0.06991342455148697, 0.9907680153846741, 0.005107051692903042, 0.0020428206771612167, 0.37139686942100525, 0.007771075703203678, 0.04158030077815056, 0.033102765679359436, 0.0001009230618365109, 0.08356429636478424, 0.01665230467915535, 0.09426213800907135, 0.0808393731713295, 0.008982152678072453, 0.09759259968996048, 0.054700300097465515, 0.0002018461236730218, 0.069535993039608, 0.03431384265422821, 0.005348922219127417, 0.998030424118042, 0.3288560211658478, 0.21306617558002472, 0.3906034827232361, 0.030820220708847046, 0.017871446907520294, 0.018620550632476807, 0.9994341135025024, 0.9977408051490784, 0.9995875358581543, 0.18277743458747864, 0.8168291449546814, 0.010530796833336353, 0.9817042946815491, 0.006435486953705549, 0.0005850442685186863, 0.9992583394050598, 0.9987154603004456, 0.14354990422725677, 0.0016581672243773937, 0.6568711400032043, 0.000473762076580897, 0.03458463028073311, 0.010422765277326107, 0.004026977811008692, 0.02913636714220047, 0.007580193225294352, 0.11157096922397614, 0.9999072551727295, 0.03564813733100891, 0.24316191673278809, 0.461105614900589, 0.010690104216337204, 0.004683696664869785, 0.0286009069532156, 0.12116897106170654, 0.01684829778969288, 0.04822472855448723, 0.003382669761776924, 0.02636747807264328, 0.00013010269321966916, 0.9987780451774597, 0.12144296616315842, 0.3105158507823944, 0.5334036946296692, 0.034178558737039566, 0.9996644854545593, 0.9986311793327332, 0.9981444478034973, 0.9996918439865112, 0.9989843964576721, 0.99754399061203, 0.9979722499847412, 0.9994860291481018, 0.02604852430522442, 0.05597928166389465, 0.09192123264074326, 0.0720091462135315, 0.007388764061033726, 0.015904627740383148, 0.18121257424354553, 0.012147629633545876, 0.12410619109869003, 0.24696004390716553, 0.044958751648664474, 0.12135105580091476, 0.6978464126586914, 0.09674396365880966, 0.09545404464006424, 0.06269008666276932, 0.04127742350101471, 0.005159677937626839, 0.00025798389106057584, 0.14170698821544647, 0.00968853011727333, 0.227925106883049, 0.05323798209428787, 0.014875318855047226, 0.014581726863980293, 0.16783665120601654, 0.37002354860305786, 0.9985644221305847, 0.9981269240379333, 0.23484963178634644, 0.273192435503006, 0.03022157959640026, 0.12767618894577026, 0.2854408323764801, 0.009985103271901608, 0.01357974112033844, 0.025029325857758522, 0.029497919604182243, 6.569692777702585e-05, 0.9266551733016968, 0.012745203450322151, 9.854538802755997e-05, 0.011825446970760822, 0.011398416943848133, 0.007226661778986454, 3.2848463888512924e-05, 0.00039418155211023986, 0.21564331650733948, 0.020325733348727226, 0.033346906304359436, 0.14736156165599823, 0.0206433217972517, 0.5405374765396118, 0.02191368117928505, 0.03001496009528637, 0.9690544009208679, 0.10009661316871643, 0.046516500413417816, 0.20467258989810944, 0.003101099980995059, 0.02877131663262844, 0.07666607946157455, 0.05762877315282822, 0.316226065158844, 0.04410453140735626, 0.0005168499774299562, 0.06296955794095993, 0.0013782666064798832, 0.029718874022364616, 0.002584249945357442, 0.020243290811777115, 0.004737791605293751, 0.7896239757537842, 0.18997380137443542, 0.00014501817349810153, 0.0018852362409234047, 0.01841730810701847, 0.9990389943122864, 0.000351911032339558, 0.2906785011291504, 0.06287477165460587, 0.0458657369017601, 0.057478804141283035, 0.1280956119298935, 0.02275691367685795, 0.3419402241706848, 0.049854062497615814, 0.2532738447189331, 0.023557785898447037, 0.11358613520860672, 0.06857196241617203, 0.0017695989226922393, 0.0007741995505057275, 0.0006635995814576745, 0.02377898618578911, 0.024884985759854317, 0.3503805994987488, 0.13869231939315796, 0.643618643283844, 0.356288880109787, 0.07457363605499268, 0.9248024225234985, 0.0009248691494576633, 0.9674131274223328, 0.03144555166363716, 0.022786816582083702, 0.2654356062412262, 0.06554508954286575, 0.08560452610254288, 0.024370456114411354, 0.06827246397733688, 0.052963949739933014, 0.016628216952085495, 0.1498299092054367, 0.004838899243623018, 0.01689215749502182, 0.038359273225069046, 0.0010557598434388638, 0.027185814455151558, 0.010029718279838562, 0.023226715624332428, 0.07733440399169922, 0.04962071031332016, 0.9992045164108276, 0.05341172218322754, 0.053947627544403076, 0.0003572690475266427, 0.40764397382736206, 0.07609830796718597, 0.01982843317091465, 0.0016077107284218073, 0.15916335582733154, 0.0003572690475266427, 0.2274017482995987, 0.9994920492172241, 0.8193831443786621, 0.03475825488567352, 0.14530090987682343, 0.9984740018844604, 0.0018013794906437397, 0.9973637461662292, 0.059747062623500824, 0.6171478033065796, 0.22235210239887238, 0.08747399598360062, 0.013058490119874477, 0.9995598793029785, 0.9998404383659363, 0.9573978781700134, 0.042199354618787766, 0.999360203742981, 0.005089390557259321, 0.0918513759970665, 0.025871068239212036, 0.004786450415849686, 0.2857935130596161, 0.0007876437157392502, 0.10372662544250488, 0.05507447570562363, 0.021024029701948166, 0.021932849660515785, 0.0018782273400574923, 0.16249696910381317, 0.061860326677560806, 0.15789227187633514, 0.999447762966156, 0.999759316444397, 0.00917720329016447, 0.6002832055091858, 0.02035456709563732, 0.01823675073683262, 0.018472062423825264, 0.018119093030691147, 0.0315319299697876, 0.00011765645467676222, 0.0032943806145340204, 0.08800702542066574, 0.12918677926063538, 0.014707056805491447, 0.04847445711493492, 0.08124023675918579, 0.021004419773817062, 0.6150302290916443, 0.03020470216870308, 0.1819225698709488, 0.0227403212338686, 0.007985151372849941, 0.006075658369809389, 0.03367650881409645, 0.033550962805747986, 0.09580663591623306, 0.010736308060586452, 0.01222746167331934, 0.2233748584985733, 0.005815500393509865, 0.015209769830107689, 0.027660904452204704, 0.031239675357937813, 0.017670173197984695, 0.012003788724541664, 0.06352315843105316, 0.1265244036912918, 0.003205980872735381, 0.1330854892730713, 0.07090436667203903, 0.11735381186008453, 0.036735497415065765, 0.021605873480439186, 0.08262041956186295, 0.08939981460571289, 0.034778840839862823, 0.12258026003837585, 0.007743941619992256, 0.03731422498822212, 0.0967579334974289, 0.06456959247589111, 0.07446309924125671, 0.060766518115997314, 0.011739926412701607, 0.0034999309573322535, 0.08843526244163513, 0.08317159116268158, 0.03144426271319389, 0.043101511895656586, 0.002204681048169732, 0.007054978981614113, 0.9992655515670776, 0.9994862675666809, 0.027114856988191605, 0.3533362150192261, 0.003941907547414303, 0.015357490628957748, 0.054571498185396194, 0.02009689435362816, 0.05411578714847565, 0.09524378180503845, 0.09080059081315994, 0.04390783980488777, 0.03798358514904976, 0.02889213338494301, 0.012828289531171322, 0.050994157791137695, 0.049923237413167953, 0.000888638140168041, 0.019299397245049477, 0.03677595034241676, 0.0038963365368545055, 0.9939768314361572, 0.005901737604290247, 0.9992818832397461, 0.9982362985610962, 0.9996184706687927, 0.0016216440126299858, 0.2213544100522995, 0.0032432880252599716, 0.051352061331272125, 0.03040582500398159, 0.006351438816636801, 0.004459520801901817, 0.012027192860841751, 0.10297439247369766, 0.17121857404708862, 0.394194632768631, 0.0006756850052624941, 0.018226895481348038, 0.18226894736289978, 0.1862998902797699, 0.538219153881073, 0.07273232191801071, 0.0021031033247709274, 0.9984262585639954, 0.9997739195823669, 0.9986083507537842, 0.9984704256057739, 0.9992701411247253, 0.9992110133171082], \"Term\": [\"000\", \"000\", \"000\", \"000\", \"000\", \"000\", \"000\", \"000\", \"000\", \"000\", \"000\", \"000\", \"000\", \"100\", \"100\", \"100\", \"100\", \"100\", \"100\", \"100\", \"100\", \"11\", \"11\", \"11\", \"11\", \"11\", \"11\", \"11\", \"11\", \"11\", \"11\", \"11\", \"12\", \"12\", \"12\", \"12\", \"12\", \"12\", \"130\", \"14\", \"14\", \"14\", \"19\", \"19\", \"200\", \"200\", \"200\", \"200\", \"200\", \"200\", \"2001\", \"2005\", \"2010\", \"2010\", \"2010\", \"2012\", \"2012\", \"2012\", \"2012\", \"2012\", \"2012\", \"2012\", \"2014\", \"2014\", \"2014\", \"2014\", \"2014\", \"2014\", \"2014\", \"2014\", \"2014\", \"2014\", \"2014\", \"2014\", \"2014\", \"2015\", \"2015\", \"2015\", \"2015\", \"2015\", \"2015\", \"2015\", \"2015\", \"300\", \"300\", \"300\", \"300\", \"349\", \"350\", \"4\", \"4\", \"4\", \"4\", \"4\", \"4\", \"4\", \"400\", \"400\", \"45\", \"5\", \"5\", \"5\", \"5\", \"5\", \"5\", \"5\", \"5\", \"5\", \"5\", \"5\", \"5\", \"55\", \"6\", \"6\", \"6\", \"6\", \"6\", \"9\", \"9\", \"9\", \"9\", \"9\", \"9\", \"9\", \"9\", \"9\", \"9\", \"9\", \"999\", \"9to5mac\", \"aaron\", \"abandoned\", \"abdel\", \"abdi\", \"abdomen\", \"abdullah\", \"abou\", \"abrams\", \"absence\", \"absence\", \"abu\", \"abu\", \"abubakar\", \"accent\", \"accent\", \"according\", \"according\", \"according\", \"according\", \"according\", \"according\", \"according\", \"according\", \"according\", \"according\", \"according\", \"according\", \"according\", \"according\", \"according\", \"according\", \"according\", \"according\", \"according\", \"according\", \"account\", \"account\", \"account\", \"account\", \"account\", \"account\", \"accused\", \"accused\", \"accused\", \"accused\", \"active\", \"active\", \"active\", \"actively\", \"actor\", \"actor\", \"advancing\", \"affair\", \"affair\", \"affiliate\", \"afghanistan\", \"africa\", \"africa\", \"africa\", \"africa\", \"age\", \"age\", \"age\", \"age\", \"age\", \"age\", \"age\", \"age\", \"aggression\", \"agreed\", \"agreed\", \"agreed\", \"agreement\", \"ahmadu\", \"aiming\", \"air\", \"air\", \"air\", \"air\", \"air\", \"air\", \"air\", \"air\", \"air\", \"air\", \"airbus\", \"aircraft\", \"aircraft\", \"aircraft\", \"airliner\", \"airport\", \"airport\", \"airport\", \"airport\", \"airstrike\", \"airstrike\", \"al\", \"al\", \"al\", \"al\", \"al\", \"alan\", \"alan\", \"alarm\", \"alone\", \"alone\", \"alone\", \"also\", \"also\", \"also\", \"also\", \"also\", \"also\", \"also\", \"also\", \"also\", \"also\", \"also\", \"also\", \"also\", \"also\", \"also\", \"also\", \"also\", \"also\", \"also\", \"also\", \"although\", \"although\", \"although\", \"although\", \"although\", \"although\", \"although\", \"although\", \"although\", \"although\", \"although\", \"although\", \"although\", \"aluminum\", \"amazon\", \"amazon\", \"american\", \"american\", \"american\", \"american\", \"american\", \"american\", \"american\", \"american\", \"american\", \"anchor\", \"animal\", \"animal\", \"ankle\", \"anna\", \"announced\", \"announced\", \"announced\", \"announced\", \"announced\", \"announced\", \"announced\", \"announced\", \"announced\", \"announced\", \"announcing\", \"ansar\", \"ansi\", \"anywhere\", \"app\", \"app\", \"app\", \"appalled\", \"appears\", \"appears\", \"appears\", \"appears\", \"appears\", \"appears\", \"appears\", \"appears\", \"appears\", \"appears\", \"appears\", \"appears\", \"appears\", \"appears\", \"apple\", \"apple\", \"apprehended\", \"apprehended\", \"apps\", \"aqap\", \"arcuri\", \"area\", \"area\", \"area\", \"area\", \"area\", \"area\", \"area\", \"area\", \"area\", \"area\", \"area\", \"area\", \"area\", \"arizona\", \"arm\", \"arm\", \"arm\", \"arm\", \"arm\", \"arm\", \"arm\", \"arrest\", \"arrest\", \"arrest\", \"arrest\", \"arrest\", \"arrival\", \"arrival\", \"article\", \"article\", \"article\", \"article\", \"article\", \"article\", \"article\", \"article\", \"article\", \"artist\", \"artist\", \"ashton\", \"assembly\", \"asteroid\", \"attack\", \"attack\", \"attack\", \"attack\", \"attack\", \"attack\", \"attack\", \"attack\", \"attack\", \"attorney\", \"attract\", \"au\", \"au\", \"au\", \"auction\", \"audio\", \"audio\", \"australian\", \"australian\", \"author\", \"autopsy\", \"babici\", \"back\", \"back\", \"back\", \"back\", \"back\", \"back\", \"back\", \"back\", \"back\", \"back\", \"back\", \"back\", \"back\", \"back\", \"back\", \"back\", \"back\", \"baghdadi\", \"bakr\", \"bale\", \"bali\", \"band\", \"band\", \"bank\", \"banksy\", \"banksy\", \"barack\", \"barack\", \"bary\", \"batman\", \"batman\", \"batmobile\", \"battery\", \"bay\", \"become\", \"become\", \"become\", \"become\", \"become\", \"become\", \"become\", \"become\", \"become\", \"become\", \"become\", \"become\", \"become\", \"become\", \"beggar\", \"behaviour\", \"beheading\", \"beheading\", \"beirut\", \"believed\", \"believed\", \"believed\", \"believed\", \"believed\", \"believed\", \"believed\", \"believed\", \"believed\", \"believed\", \"believed\", \"believed\", \"belonging\", \"belonging\", \"belonging\", \"belonging\", \"ben\", \"benghazi\", \"beside\", \"bibeau\", \"big\", \"big\", \"big\", \"big\", \"big\", \"big\", \"big\", \"big\", \"big\", \"big\", \"bill\", \"bill\", \"bill\", \"bill\", \"billion\", \"billion\", \"bin\", \"biography\", \"biological\", \"biological\", \"biopic\", \"bird\", \"bishop\", \"bite\", \"blasio\", \"blasio\", \"blast\", \"blast\", \"bloodshed\", \"blue\", \"blumenthal\", \"board\", \"board\", \"bogus\", \"boko\", \"book\", \"book\", \"book\", \"border\", \"border\", \"bos\", \"bosnia\", \"box\", \"box\", \"box\", \"box\", \"boy\", \"boy\", \"boy\", \"boy\", \"boyle\", \"bratton\", \"bratton\", \"brian\", \"brian\", \"bright\", \"bringbackourgirls\", \"britain\", \"britain\", \"britain\", \"british\", \"british\", \"british\", \"british\", \"british\", \"brooklyn\", \"brooklyn\", \"brown\", \"browser\", \"brush\", \"bug\", \"building\", \"building\", \"building\", \"building\", \"building\", \"building\", \"bureau\", \"burger\", \"burrowed\", \"bus\", \"buy\", \"cable\", \"cage\", \"cage\", \"caliph\", \"call\", \"call\", \"call\", \"call\", \"call\", \"call\", \"call\", \"call\", \"call\", \"call\", \"call\", \"called\", \"called\", \"called\", \"called\", \"called\", \"called\", \"called\", \"called\", \"called\", \"called\", \"called\", \"called\", \"called\", \"called\", \"called\", \"called\", \"called\", \"called\", \"calm\", \"cameron\", \"cameron\", \"campus\", \"canada\", \"canada\", \"canadian\", \"capacity\", \"capital\", \"capital\", \"capital\", \"capital\", \"capital\", \"capital\", \"capital\", \"capital\", \"capsule\", \"captive\", \"captive\", \"captive\", \"captor\", \"capture\", \"capture\", \"capture\", \"captured\", \"captured\", \"captured\", \"captured\", \"captured\", \"car\", \"car\", \"car\", \"car\", \"career\", \"career\", \"career\", \"career\", \"carlisle\", \"case\", \"case\", \"case\", \"case\", \"case\", \"case\", \"case\", \"case\", \"case\", \"case\", \"case\", \"castro\", \"catfish\", \"catholic\", \"caucus\", \"caught\", \"caught\", \"caught\", \"caught\", \"caught\", \"caught\", \"caught\", \"caught\", \"caught\", \"cc\", \"cctv\", \"cctvnews\", \"cdc\", \"cease\", \"ceasefire\", \"ceremonial\", \"certificate\", \"certificate\", \"cesar\", \"chad\", \"chamber\", \"chandler\", \"chat\", \"chibok\", \"chicken\", \"child\", \"child\", \"child\", \"child\", \"child\", \"child\", \"child\", \"child\", \"child\", \"child\", \"chinese\", \"chinese\", \"chinese\", \"chinese\", \"chip\", \"chlorine\", \"christian\", \"christian\", \"christian\", \"christian\", \"christian\", \"christmas\", \"christmas\", \"christy\", \"church\", \"church\", \"church\", \"church\", \"church\", \"cirillo\", \"city\", \"city\", \"city\", \"city\", \"city\", \"city\", \"city\", \"city\", \"city\", \"city\", \"city\", \"city\", \"city\", \"civilian\", \"civilian\", \"civilian\", \"claim\", \"claim\", \"claim\", \"claim\", \"claim\", \"claim\", \"claim\", \"claim\", \"claim\", \"claim\", \"claim\", \"claim\", \"claim\", \"classmate\", \"cleric\", \"cleric\", \"client\", \"close\", \"close\", \"close\", \"close\", \"close\", \"close\", \"close\", \"cn\", \"cnn\", \"cnn\", \"co\", \"co\", \"co\", \"co\", \"co\", \"co\", \"co\", \"co\", \"co\", \"co\", \"co\", \"co\", \"coalition\", \"com\", \"com\", \"com\", \"com\", \"com\", \"com\", \"com\", \"com\", \"com\", \"com\", \"com\", \"com\", \"comcast\", \"comcast\", \"command\", \"command\", \"commercial\", \"commissioner\", \"commissioner\", \"common\", \"common\", \"common\", \"common\", \"company\", \"company\", \"company\", \"company\", \"company\", \"company\", \"company\", \"company\", \"company\", \"company\", \"complaint\", \"complaint\", \"complaint\", \"complete\", \"complete\", \"complete\", \"completely\", \"conal\", \"condition\", \"condition\", \"condition\", \"condition\", \"condom\", \"confirming\", \"confirms\", \"congressman\", \"conspiracy\", \"constantine\", \"consumer\", \"contacted\", \"contacted\", \"content\", \"content\", \"contracted\", \"controller\", \"convinced\", \"convinced\", \"cook\", \"cooke\", \"cool\", \"cool\", \"cost\", \"cost\", \"could\", \"could\", \"could\", \"could\", \"could\", \"could\", \"could\", \"could\", \"could\", \"could\", \"could\", \"could\", \"could\", \"could\", \"could\", \"could\", \"could\", \"could\", \"could\", \"country\", \"country\", \"country\", \"country\", \"country\", \"country\", \"country\", \"country\", \"country\", \"country\", \"country\", \"country\", \"court\", \"court\", \"court\", \"court\", \"crater\", \"creature\", \"creature\", \"creature\", \"credit\", \"crime\", \"crime\", \"crime\", \"crime\", \"criminality\", \"crossed\", \"cruel\", \"cuba\", \"cuba\", \"culkin\", \"customer\", \"customer\", \"customer\", \"customer\", \"dallas\", \"dallas\", \"dan\", \"danny\", \"dark\", \"darkness\", \"darkness\", \"darren\", \"dating\", \"dating\", \"david\", \"david\", \"david\", \"david\", \"david\", \"david\", \"david\", \"david\", \"day\", \"day\", \"day\", \"day\", \"day\", \"day\", \"day\", \"day\", \"day\", \"day\", \"day\", \"day\", \"day\", \"day\", \"day\", \"day\", \"day\", \"de\", \"de\", \"de\", \"de\", \"de\", \"deadly\", \"deadly\", \"deadly\", \"deadly\", \"deal\", \"deal\", \"deal\", \"deal\", \"deal\", \"deal\", \"deal\", \"deal\", \"death\", \"death\", \"death\", \"death\", \"death\", \"death\", \"death\", \"death\", \"death\", \"death\", \"deepdotweb\", \"deepest\", \"deleted\", \"delight\", \"demonstrator\", \"dera\", \"detainee\", \"detroit\", \"developer\", \"developing\", \"device\", \"device\", \"device\", \"dhs\", \"diagnosed\", \"diane\", \"diarrhea\", \"dicaprio\", \"dictator\", \"died\", \"died\", \"died\", \"died\", \"died\", \"died\", \"died\", \"died\", \"died\", \"died\", \"died\", \"dinner\", \"directed\", \"disease\", \"disease\", \"disney\", \"dna\", \"doctor\", \"doctor\", \"doctor\", \"doctor\", \"document\", \"document\", \"document\", \"document\", \"document\", \"dog\", \"dog\", \"dog\", \"dog\", \"dog\", \"dollar\", \"dollar\", \"domestic\", \"domestic\", \"donation\", \"door\", \"door\", \"door\", \"door\", \"door\", \"dorian\", \"dr\", \"dr\", \"drawn\", \"drawn\", \"drone\", \"dulaimi\", \"durex\", \"dylan\", \"earth\", \"earth\", \"ebay\", \"ebola\", \"edition\", \"edition\", \"educational\", \"edward\", \"edward\", \"effectively\", \"effectively\", \"egyptian\", \"elite\", \"elite\", \"employee\", \"employee\", \"employee\", \"employee\", \"employer\", \"emwazi\", \"encounter\", \"end\", \"end\", \"end\", \"end\", \"end\", \"end\", \"end\", \"end\", \"end\", \"end\", \"end\", \"english\", \"english\", \"english\", \"entering\", \"entrance\", \"epidemic\", \"episode\", \"episode\", \"episode\", \"espn\", \"espn\", \"esquire\", \"est\", \"estate\", \"et\", \"et\", \"et\", \"et\", \"even\", \"even\", \"even\", \"even\", \"even\", \"even\", \"even\", \"even\", \"even\", \"even\", \"even\", \"even\", \"even\", \"even\", \"even\", \"even\", \"even\", \"evening\", \"evening\", \"evening\", \"evening\", \"event\", \"event\", \"event\", \"event\", \"event\", \"evidence\", \"evidence\", \"evidence\", \"evidence\", \"evidence\", \"evidence\", \"exchanged\", \"execution\", \"execution\", \"executioner\", \"exit\", \"expensive\", \"expensive\", \"experiment\", \"explanation\", \"explosive\", \"extensive\", \"eye\", \"eye\", \"eye\", \"eye\", \"f\", \"facebook\", \"facebook\", \"facebook\", \"facebook\", \"facebook\", \"facebook\", \"facebook\", \"facebook\", \"facebook\", \"fact\", \"fact\", \"fact\", \"fact\", \"fact\", \"fact\", \"fact\", \"fact\", \"fact\", \"fact\", \"fact\", \"fact\", \"fact\", \"fact\", \"factory\", \"fake\", \"fake\", \"fake\", \"fake\", \"fake\", \"fake\", \"false\", \"false\", \"family\", \"family\", \"family\", \"family\", \"family\", \"family\", \"family\", \"family\", \"family\", \"family\", \"family\", \"family\", \"family\", \"family\", \"family\", \"fast\", \"father\", \"father\", \"father\", \"father\", \"father\", \"father\", \"father\", \"father\", \"father\", \"fatwa\", \"fbi\", \"fbi\", \"fbi\", \"feature\", \"feature\", \"feature\", \"feature\", \"feature\", \"fee\", \"fee\", \"feel\", \"feel\", \"feig\", \"female\", \"female\", \"female\", \"fence\", \"ferguson\", \"ferrari\", \"fever\", \"fidel\", \"fight\", \"fight\", \"fight\", \"fight\", \"fight\", \"fight\", \"fight\", \"fight\", \"fight\", \"fight\", \"fighter\", \"fighter\", \"fighter\", \"fighter\", \"fighter\", \"fighter\", \"film\", \"film\", \"fireball\", \"fired\", \"fired\", \"fired\", \"first\", \"first\", \"first\", \"first\", \"first\", \"first\", \"first\", \"first\", \"first\", \"first\", \"first\", \"first\", \"first\", \"first\", \"first\", \"first\", \"first\", \"first\", \"fish\", \"five\", \"five\", \"five\", \"five\", \"five\", \"five\", \"five\", \"five\", \"five\", \"five\", \"five\", \"five\", \"five\", \"five\", \"five\", \"flavored\", \"florissant\", \"flown\", \"foley\", \"folk\", \"follower\", \"food\", \"food\", \"food\", \"food\", \"food\", \"food\", \"food\", \"food\", \"food\", \"food\", \"foot\", \"foot\", \"foot\", \"foot\", \"footage\", \"footage\", \"footage\", \"force\", \"force\", \"force\", \"force\", \"force\", \"force\", \"force\", \"force\", \"force\", \"found\", \"found\", \"found\", \"found\", \"found\", \"found\", \"found\", \"found\", \"found\", \"found\", \"found\", \"found\", \"found\", \"founder\", \"founder\", \"founder\", \"founder\", \"founder\", \"founder\", \"foxnewspress\", \"fractured\", \"france\", \"france\", \"france\", \"francis\", \"francis\", \"freelance\", \"friday\", \"friday\", \"friday\", \"friday\", \"friday\", \"friday\", \"friday\", \"friday\", \"friday\", \"friend\", \"friend\", \"friend\", \"friend\", \"friend\", \"friend\", \"friend\", \"friend\", \"friend\", \"friend\", \"frisco\", \"fruit\", \"future\", \"future\", \"future\", \"game\", \"game\", \"game\", \"game\", \"game\", \"game\", \"garden\", \"garden\", \"gaza\", \"gee\", \"gender\", \"genitalia\", \"genitalia\", \"german\", \"german\", \"get\", \"get\", \"get\", \"get\", \"get\", \"get\", \"get\", \"get\", \"get\", \"get\", \"get\", \"get\", \"get\", \"get\", \"get\", \"gift\", \"gill\", \"gill\", \"girl\", \"girl\", \"girl\", \"girl\", \"girl\", \"girl\", \"girl\", \"girl\", \"girlfriend\", \"glass\", \"glass\", \"glass\", \"glide\", \"glide\", \"globalpost\", \"god\", \"god\", \"god\", \"god\", \"god\", \"god\", \"godane\", \"going\", \"going\", \"going\", \"going\", \"going\", \"going\", \"going\", \"going\", \"going\", \"going\", \"going\", \"going\", \"going\", \"going\", \"gold\", \"gold\", \"goldfish\", \"gonzalez\", \"goodluck\", \"google\", \"google\", \"google\", \"google\", \"goto\", \"gout\", \"government\", \"government\", \"government\", \"government\", \"government\", \"government\", \"government\", \"government\", \"government\", \"government\", \"government\", \"graf\", \"graham\", \"grave\", \"great\", \"great\", \"great\", \"great\", \"great\", \"great\", \"grenade\", \"grenade\", \"greta\", \"group\", \"group\", \"group\", \"group\", \"group\", \"group\", \"group\", \"group\", \"group\", \"group\", \"group\", \"group\", \"group\", \"group\", \"gruesome\", \"guantanamo\", \"guard\", \"guard\", \"guerrero\", \"guilty\", \"gunfire\", \"gunfire\", \"gunman\", \"gunman\", \"gunshot\", \"haines\", \"haines\", \"hair\", \"hamele\", \"hamid\", \"hammond\", \"hampshire\", \"handle\", \"hank\", \"haram\", \"harper\", \"hassan\", \"havana\", \"hbo\", \"headline\", \"headline\", \"headline\", \"health\", \"health\", \"health\", \"health\", \"health\", \"health\", \"health\", \"heard\", \"heard\", \"heard\", \"heard\", \"heard\", \"heard\", \"heard\", \"heard\", \"heard\", \"heard\", \"heard\", \"heard\", \"heart\", \"heart\", \"heart\", \"heart\", \"heart\", \"heart\", \"heaven\", \"heaven\", \"helicopter\", \"helmet\", \"hill\", \"hill\", \"hip\", \"hoax\", \"hoax\", \"hoax\", \"hoax\", \"hole\", \"holt\", \"holy\", \"home\", \"home\", \"home\", \"home\", \"home\", \"home\", \"home\", \"home\", \"home\", \"home\", \"home\", \"homeland\", \"homeless\", \"homeless\", \"hop\", \"hospital\", \"hospital\", \"hospital\", \"hospital\", \"hospital\", \"hospital\", \"hostage\", \"hostage\", \"hostage\", \"hour\", \"hour\", \"hour\", \"hour\", \"hour\", \"hour\", \"hour\", \"hour\", \"hour\", \"hour\", \"hour\", \"hour\", \"hour\", \"hour\", \"house\", \"house\", \"house\", \"house\", \"house\", \"house\", \"house\", \"house\", \"house\", \"house\", \"house\", \"huffington\", \"hunter\", \"hurt\", \"hwang\", \"icloud\", \"identity\", \"identity\", \"identity\", \"identity\", \"identity\", \"igen\", \"iguala\", \"ikwiz\", \"il\", \"ilic\", \"ill\", \"image\", \"image\", \"image\", \"image\", \"image\", \"image\", \"image\", \"image\", \"image\", \"image\", \"image\", \"image\", \"imagine\", \"impact\", \"impact\", \"impact\", \"incident\", \"incident\", \"incident\", \"incident\", \"incident\", \"incident\", \"incident\", \"incident\", \"incident\", \"incident\", \"incinerated\", \"independence\", \"india\", \"infected\", \"infection\", \"infestation\", \"information\", \"information\", \"information\", \"information\", \"information\", \"information\", \"information\", \"information\", \"information\", \"information\", \"information\", \"information\", \"information\", \"information\", \"information\", \"information\", \"injury\", \"injury\", \"injury\", \"injury\", \"innocent\", \"innocent\", \"insect\", \"inside\", \"inside\", \"inside\", \"inside\", \"inside\", \"inside\", \"inside\", \"inside\", \"inside\", \"insurgent\", \"insurgent\", \"intelligence\", \"intelligence\", \"intelligence\", \"intelligence\", \"intelligence\", \"intelligence\", \"internet\", \"internet\", \"internet\", \"internet\", \"intruder\", \"iphone\", \"iraq\", \"iraq\", \"iraq\", \"iraq\", \"iraqi\", \"iraqi\", \"iraqi\", \"iraqi\", \"irbil\", \"isaacson\", \"isi\", \"isi\", \"isi\", \"isi\", \"isi\", \"islam\", \"islam\", \"islam\", \"islam\", \"islam\", \"islam\", \"islam\", \"islamic\", \"islamic\", \"islamic\", \"islamic\", \"islamic\", \"islamic\", \"islamist\", \"islamist\", \"islamist\", \"islamist\", \"island\", \"israel\", \"israeli\", \"issue\", \"issue\", \"issue\", \"issue\", \"issue\", \"issue\", \"issue\", \"issue\", \"issue\", \"issue\", \"issue\", \"issue\", \"j\", \"j\", \"jacket\", \"james\", \"james\", \"james\", \"james\", \"january\", \"january\", \"january\", \"january\", \"january\", \"january\", \"january\", \"january\", \"january\", \"jess\", \"jessica\", \"jetliner\", \"jihadi\", \"jihadi\", \"job\", \"job\", \"job\", \"job\", \"job\", \"job\", \"job\", \"job\", \"joe\", \"joe\", \"joe\", \"john\", \"john\", \"john\", \"john\", \"john\", \"john\", \"john\", \"john\", \"john\", \"johnson\", \"johnson\", \"join\", \"join\", \"jonathan\", \"jonathan\", \"jong\", \"jordan\", \"jordan\", \"jordanian\", \"josh\", \"josh\", \"journalist\", \"journalist\", \"journalist\", \"journalist\", \"journalist\", \"joy\", \"jumpsuit\", \"kadalim\", \"kai\", \"kansa\", \"karat\", \"kayla\", \"kenji\", \"kevin\", \"kevin\", \"kfc\", \"kidnapped\", \"kidnapped\", \"kidnapped\", \"kill\", \"kill\", \"kill\", \"kill\", \"kill\", \"kill\", \"kill\", \"killed\", \"killed\", \"killed\", \"killed\", \"killed\", \"killed\", \"killed\", \"killed\", \"killed\", \"killed\", \"killer\", \"killer\", \"killer\", \"kim\", \"kind\", \"kind\", \"kind\", \"kind\", \"kind\", \"kind\", \"king\", \"king\", \"king\", \"kirby\", \"kneeling\", \"knocked\", \"know\", \"know\", \"know\", \"know\", \"know\", \"know\", \"know\", \"know\", \"know\", \"know\", \"know\", \"know\", \"know\", \"known\", \"known\", \"known\", \"known\", \"known\", \"known\", \"known\", \"known\", \"known\", \"known\", \"known\", \"known\", \"known\", \"known\", \"known\", \"known\", \"korea\", \"korean\", \"kryaglyachenko\", \"kumar\", \"kurdish\", \"kurdish\", \"kurdish\", \"kurdish\", \"kutcher\", \"kuwait\", \"l\", \"l\", \"l\", \"la\", \"la\", \"la\", \"la\", \"land\", \"last\", \"last\", \"last\", \"last\", \"last\", \"last\", \"last\", \"last\", \"last\", \"last\", \"last\", \"last\", \"last\", \"last\", \"last\", \"last\", \"last\", \"last\", \"last\", \"later\", \"later\", \"later\", \"later\", \"later\", \"later\", \"later\", \"later\", \"later\", \"later\", \"later\", \"later\", \"later\", \"later\", \"later\", \"later\", \"later\", \"launch\", \"launch\", \"launch\", \"launch\", \"launch\", \"launch\", \"le\", \"le\", \"le\", \"le\", \"le\", \"le\", \"le\", \"leader\", \"leader\", \"leader\", \"leader\", \"leader\", \"leader\", \"leader\", \"leader\", \"leader\", \"leader\", \"leadership\", \"leadership\", \"leadership\", \"leaked\", \"leaked\", \"least\", \"least\", \"least\", \"least\", \"least\", \"least\", \"least\", \"least\", \"least\", \"least\", \"least\", \"lebanese\", \"lebanon\", \"left\", \"left\", \"left\", \"left\", \"left\", \"left\", \"left\", \"left\", \"left\", \"left\", \"left\", \"left\", \"left\", \"left\", \"left\", \"left\", \"left\", \"left\", \"lego\", \"lemon\", \"leonardo\", \"lianne\", \"library\", \"libya\", \"libya\", \"libyan\", \"libyan\", \"libyan\", \"life\", \"life\", \"life\", \"life\", \"life\", \"life\", \"life\", \"life\", \"life\", \"life\", \"life\", \"life\", \"life\", \"life\", \"light\", \"light\", \"light\", \"like\", \"like\", \"like\", \"like\", \"like\", \"like\", \"like\", \"like\", \"like\", \"like\", \"like\", \"like\", \"like\", \"like\", \"like\", \"like\", \"like\", \"lin\", \"liquor\", \"local\", \"local\", \"local\", \"local\", \"local\", \"local\", \"local\", \"local\", \"local\", \"local\", \"local\", \"lockdown\", \"london\", \"london\", \"london\", \"london\", \"london\", \"looking\", \"looking\", \"looking\", \"looking\", \"looking\", \"looking\", \"looking\", \"looking\", \"lopa\", \"lot\", \"lot\", \"lot\", \"lot\", \"lot\", \"lot\", \"lot\", \"lot\", \"lot\", \"lot\", \"louis\", \"louise\", \"lucky\", \"luke\", \"luke\", \"macaulay\", \"macbook\", \"macedonian\", \"macklemore\", \"macklemorejoinedisis\", \"madden\", \"made\", \"made\", \"made\", \"made\", \"made\", \"made\", \"made\", \"made\", \"made\", \"made\", \"made\", \"made\", \"made\", \"made\", \"made\", \"made\", \"made\", \"made\", \"magazine\", \"magazine\", \"magazine\", \"magazine\", \"magazine\", \"magnet\", \"magneto\", \"maintained\", \"maintained\", \"majed\", \"malaria\", \"male\", \"mall\", \"mall\", \"man\", \"man\", \"man\", \"man\", \"man\", \"man\", \"man\", \"man\", \"man\", \"man\", \"man\", \"man\", \"man\", \"man\", \"managua\", \"marijuana\", \"marijuana\", \"marine\", \"mashable\", \"masked\", \"masked\", \"masked\", \"mass\", \"mass\", \"may\", \"may\", \"may\", \"may\", \"may\", \"may\", \"may\", \"may\", \"may\", \"may\", \"may\", \"may\", \"may\", \"may\", \"may\", \"may\", \"may\", \"may\", \"may\", \"mayor\", \"mayor\", \"mcdonald\", \"meal\", \"meal\", \"medic\", \"medical\", \"medical\", \"medical\", \"medical\", \"medical\", \"medicine\", \"medium\", \"medium\", \"medium\", \"medium\", \"medium\", \"medium\", \"medium\", \"medium\", \"medium\", \"medium\", \"medium\", \"medium\", \"medium\", \"medium\", \"medium\", \"medium\", \"medium\", \"memorial\", \"mention\", \"mention\", \"mention\", \"message\", \"message\", \"message\", \"message\", \"message\", \"message\", \"message\", \"message\", \"message\", \"message\", \"message\", \"messaging\", \"meteorite\", \"meter\", \"metropolitan\", \"mexican\", \"mexican\", \"mexico\", \"mgm\", \"mi5\", \"michael\", \"michael\", \"michael\", \"michael\", \"michael\", \"michael\", \"micheal\", \"michelle\", \"mid\", \"mid\", \"militant\", \"militant\", \"militant\", \"militant\", \"militant\", \"militant\", \"military\", \"military\", \"military\", \"military\", \"military\", \"millan\", \"millan\", \"million\", \"million\", \"million\", \"million\", \"million\", \"million\", \"million\", \"million\", \"million\", \"ministry\", \"ministry\", \"ministry\", \"ministry\", \"missile\", \"missouri\", \"mite\", \"mm\", \"model\", \"model\", \"model\", \"mogadishu\", \"mohammed\", \"mohammed\", \"mohammed\", \"mohammed\", \"mom\", \"monday\", \"monday\", \"monday\", \"monday\", \"monday\", \"monday\", \"monday\", \"monday\", \"monday\", \"monday\", \"monday\", \"money\", \"money\", \"money\", \"money\", \"money\", \"money\", \"money\", \"month\", \"month\", \"month\", \"month\", \"month\", \"month\", \"month\", \"month\", \"month\", \"month\", \"month\", \"month\", \"month\", \"month\", \"month\", \"month\", \"month\", \"montreal\", \"mortgage\", \"mosul\", \"mosul\", \"mosul\", \"mother\", \"mother\", \"mother\", \"mother\", \"mother\", \"mother\", \"mourn\", \"mouth\", \"movie\", \"movie\", \"mp\", \"mp\", \"mr\", \"mr\", \"mr\", \"mr\", \"mr\", \"mr\", \"mr\", \"mr\", \"mr\", \"mtv\", \"much\", \"much\", \"much\", \"much\", \"much\", \"much\", \"much\", \"much\", \"much\", \"much\", \"much\", \"much\", \"much\", \"mueller\", \"munster\", \"murder\", \"murder\", \"murder\", \"mushroom\", \"name\", \"name\", \"name\", \"name\", \"name\", \"name\", \"name\", \"name\", \"name\", \"name\", \"name\", \"name\", \"nasa\", \"nathan\", \"national\", \"national\", \"national\", \"national\", \"national\", \"national\", \"national\", \"national\", \"national\", \"national\", \"national\", \"national\", \"national\", \"nbc\", \"nbc\", \"nbc\", \"neal\", \"near\", \"near\", \"near\", \"near\", \"near\", \"near\", \"near\", \"near\", \"near\", \"near\", \"needed\", \"negative\", \"nelson\", \"nenad\", \"netflix\", \"never\", \"never\", \"never\", \"never\", \"never\", \"never\", \"never\", \"never\", \"never\", \"never\", \"never\", \"never\", \"never\", \"new\", \"new\", \"new\", \"new\", \"new\", \"new\", \"new\", \"new\", \"new\", \"new\", \"new\", \"new\", \"new\", \"new\", \"new\", \"new\", \"new\", \"new\", \"news\", \"news\", \"news\", \"news\", \"news\", \"news\", \"news\", \"news\", \"news\", \"news\", \"news\", \"news\", \"news\", \"news\", \"news\", \"news\", \"news\", \"nicaragua\", \"nicaraguan\", \"nice\", \"nigeria\", \"nigerian\", \"night\", \"night\", \"night\", \"night\", \"night\", \"night\", \"night\", \"nikolaev\", \"nikolai\", \"nkis\", \"noise\", \"north\", \"north\", \"north\", \"north\", \"north\", \"north\", \"north\", \"noticed\", \"noticed\", \"noting\", \"november\", \"november\", \"november\", \"nowhere\", \"numerous\", \"numerous\", \"numerous\", \"nun\", \"nun\", \"nusra\", \"obama\", \"obama\", \"obama\", \"obama\", \"oberholtzer\", \"object\", \"observatory\", \"oct\", \"oct\", \"oct\", \"oct\", \"office\", \"office\", \"office\", \"office\", \"office\", \"office\", \"office\", \"office\", \"office\", \"office\", \"officer\", \"officer\", \"officer\", \"officer\", \"official\", \"official\", \"official\", \"official\", \"official\", \"official\", \"official\", \"official\", \"official\", \"official\", \"official\", \"official\", \"official\", \"official\", \"official\", \"officially\", \"officially\", \"ok\", \"old\", \"old\", \"old\", \"old\", \"old\", \"old\", \"old\", \"old\", \"old\", \"old\", \"old\", \"old\", \"old\", \"old\", \"old\", \"old\", \"old\", \"old\", \"oliver\", \"olsen\", \"one\", \"one\", \"one\", \"one\", \"one\", \"one\", \"one\", \"one\", \"one\", \"one\", \"one\", \"one\", \"one\", \"one\", \"one\", \"one\", \"one\", \"one\", \"one\", \"one\", \"operation\", \"operation\", \"operation\", \"operation\", \"operation\", \"operation\", \"operation\", \"operation\", \"option\", \"option\", \"organization\", \"organization\", \"organization\", \"organization\", \"organization\", \"organization\", \"organization\", \"organization\", \"oscar\", \"ottawa\", \"outbreak\", \"overweight\", \"owner\", \"pa\", \"pa\", \"paid\", \"paid\", \"paid\", \"pain\", \"pain\", \"pain\", \"palace\", \"paler\", \"panel\", \"park\", \"park\", \"parliament\", \"parliament\", \"parliament\", \"part\", \"part\", \"part\", \"part\", \"part\", \"part\", \"part\", \"part\", \"part\", \"part\", \"part\", \"part\", \"part\", \"part\", \"part\", \"part\", \"partner\", \"partner\", \"party\", \"party\", \"party\", \"party\", \"party\", \"party\", \"party\", \"party\", \"patient\", \"patient\", \"patient\", \"patrol\", \"patrol\", \"patrol\", \"paul\", \"paul\", \"paul\", \"paul\", \"paul\", \"paul\", \"pause\", \"penis\", \"penis\", \"pentagon\", \"pentagon\", \"people\", \"people\", \"people\", \"people\", \"people\", \"people\", \"people\", \"people\", \"people\", \"people\", \"people\", \"people\", \"people\", \"people\", \"people\", \"people\", \"people\", \"people\", \"people\", \"people\", \"per\", \"per\", \"per\", \"per\", \"percent\", \"percent\", \"perfectly\", \"pet\", \"phelps\", \"phone\", \"phone\", \"phone\", \"phone\", \"phone\", \"phone\", \"phone\", \"phone\", \"phone\", \"photo\", \"photo\", \"photo\", \"photo\", \"photo\", \"photo\", \"photo\", \"photo\", \"photo\", \"photo\", \"photo\", \"photo\", \"photo\", \"photo\", \"photo\", \"photo\", \"photo\", \"photojournalist\", \"pic\", \"pic\", \"picture\", \"picture\", \"picture\", \"picture\", \"picture\", \"picture\", \"picture\", \"picture\", \"picture\", \"picture\", \"picture\", \"picture\", \"picture\", \"picture\", \"pierson\", \"pilot\", \"pilot\", \"plane\", \"plane\", \"plane\", \"planet\", \"planning\", \"planning\", \"planning\", \"planning\", \"plant\", \"play\", \"play\", \"play\", \"play\", \"play\", \"plot\", \"plotting\", \"pm\", \"po\", \"police\", \"police\", \"police\", \"police\", \"police\", \"pope\", \"pope\", \"portion\", \"post\", \"post\", \"post\", \"post\", \"post\", \"post\", \"post\", \"post\", \"post\", \"post\", \"post\", \"post\", \"post\", \"pour\", \"prank\", \"prank\", \"prankster\", \"pregnancy\", \"president\", \"president\", \"president\", \"president\", \"president\", \"president\", \"president\", \"president\", \"president\", \"president\", \"president\", \"presidential\", \"pressure\", \"previously\", \"previously\", \"price\", \"price\", \"price\", \"price\", \"price\", \"priced\", \"pricing\", \"priest\", \"prison\", \"prison\", \"prisoner\", \"prisoner\", \"prisoner\", \"prisoner\", \"prisoner\", \"proclaimed\", \"product\", \"product\", \"product\", \"product\", \"product\", \"product\", \"product\", \"project\", \"project\", \"project\", \"project\", \"project\", \"public\", \"public\", \"public\", \"public\", \"public\", \"public\", \"public\", \"public\", \"public\", \"public\", \"public\", \"public\", \"public\", \"public\", \"public\", \"pulling\", \"pulling\", \"pumpkin\", \"purchase\", \"purdon\", \"purported\", \"purported\", \"purported\", \"purpose\", \"put\", \"put\", \"put\", \"put\", \"put\", \"put\", \"put\", \"put\", \"put\", \"put\", \"put\", \"put\", \"put\", \"putin\", \"pyongyang\", \"qatar\", \"qatar\", \"quarantined\", \"quebec\", \"qureshi\", \"r\", \"r\", \"rahim\", \"ram\", \"range\", \"rank\", \"raped\", \"raped\", \"rapper\", \"rapper\", \"raqqa\", \"rat\", \"razor\", \"rc\", \"rcmp\", \"really\", \"really\", \"really\", \"really\", \"really\", \"really\", \"really\", \"really\", \"really\", \"really\", \"really\", \"really\", \"recording\", \"recording\", \"recovered\", \"recovering\", \"recruit\", \"recruit\", \"region\", \"region\", \"region\", \"region\", \"region\", \"rehab\", \"release\", \"release\", \"release\", \"release\", \"release\", \"release\", \"release\", \"release\", \"release\", \"release\", \"release\", \"release\", \"released\", \"released\", \"released\", \"released\", \"released\", \"released\", \"released\", \"released\", \"released\", \"released\", \"released\", \"released\", \"released\", \"released\", \"relevance\", \"remark\", \"report\", \"report\", \"report\", \"report\", \"report\", \"report\", \"report\", \"report\", \"report\", \"report\", \"report\", \"report\", \"report\", \"report\", \"report\", \"report\", \"report\", \"report\", \"report\", \"report\", \"reported\", \"reported\", \"reported\", \"reported\", \"reported\", \"reported\", \"reported\", \"reported\", \"reported\", \"reported\", \"reported\", \"reported\", \"reported\", \"reported\", \"reported\", \"reported\", \"reported\", \"reported\", \"reported\", \"reported\", \"reproductive\", \"republican\", \"rescue\", \"research\", \"research\", \"research\", \"research\", \"research\", \"reset\", \"respect\", \"restaurant\", \"restaurant\", \"restaurant\", \"result\", \"result\", \"result\", \"result\", \"retail\", \"reveals\", \"rifle\", \"riquelme\", \"riquelme\", \"river\", \"rob\", \"robot\", \"rodent\", \"rogen\", \"role\", \"role\", \"role\", \"role\", \"role\", \"roman\", \"room\", \"room\", \"room\", \"room\", \"rosenberg\", \"rourke\", \"rumor\", \"rumor\", \"rumor\", \"rumor\", \"rumor\", \"rumor\", \"rushed\", \"rushed\", \"rushed\", \"sabah\", \"sad\", \"said\", \"said\", \"said\", \"said\", \"said\", \"said\", \"said\", \"said\", \"said\", \"said\", \"said\", \"said\", \"said\", \"said\", \"said\", \"said\", \"said\", \"said\", \"said\", \"said\", \"saja\", \"samsung\", \"sana\", \"sapphire\", \"sarajevo\", \"satire\", \"satirical\", \"satirical\", \"satirical\", \"saudi\", \"saudi\", \"saudi\", \"say\", \"say\", \"say\", \"say\", \"say\", \"say\", \"say\", \"say\", \"say\", \"say\", \"say\", \"say\", \"say\", \"say\", \"say\", \"say\", \"say\", \"say\", \"say\", \"say\", \"saying\", \"saying\", \"saying\", \"saying\", \"saying\", \"saying\", \"saying\", \"saying\", \"saying\", \"saying\", \"saying\", \"saying\", \"saying\", \"saying\", \"saying\", \"saying\", \"saying\", \"scar\", \"scenario\", \"scene\", \"scene\", \"scene\", \"scene\", \"scene\", \"school\", \"school\", \"school\", \"school\", \"school\", \"school\", \"schoolgirl\", \"schoolgirl\", \"science\", \"science\", \"science\", \"scientist\", \"scientist\", \"scorpion\", \"scotland\", \"scotland\", \"scotland\", \"scottish\", \"scottish\", \"seam\", \"secret\", \"secret\", \"secretly\", \"security\", \"security\", \"security\", \"security\", \"security\", \"security\", \"security\", \"security\", \"seeking\", \"seidel\", \"sell\", \"sell\", \"sell\", \"sensor\", \"seoul\", \"sergeant\", \"service\", \"service\", \"service\", \"service\", \"service\", \"service\", \"service\", \"service\", \"service\", \"service\", \"service\", \"service\", \"service\", \"service\", \"service\", \"seth\", \"setting\", \"sex\", \"sex\", \"sex\", \"sex\", \"sex\", \"sex\", \"sex\", \"sgt\", \"shane\", \"sharing\", \"shekau\", \"shooter\", \"shooting\", \"shooting\", \"shore\", \"shot\", \"shot\", \"shot\", \"shot\", \"show\", \"show\", \"show\", \"show\", \"show\", \"show\", \"show\", \"show\", \"show\", \"show\", \"show\", \"show\", \"show\", \"show\", \"since\", \"since\", \"since\", \"since\", \"since\", \"since\", \"since\", \"since\", \"since\", \"since\", \"since\", \"since\", \"since\", \"since\", \"since\", \"since\", \"since\", \"singh\", \"sister\", \"sister\", \"sister\", \"sister\", \"sister\", \"site\", \"site\", \"site\", \"site\", \"site\", \"site\", \"site\", \"site\", \"site\", \"site\", \"site\", \"site\", \"site\", \"site\", \"six\", \"six\", \"six\", \"six\", \"six\", \"six\", \"six\", \"six\", \"six\", \"six\", \"skin\", \"sky\", \"smartwatch\", \"smith\", \"sneeze\", \"sneezed\", \"sneezing\", \"sniper\", \"snow\", \"snowman\", \"snyder\", \"social\", \"social\", \"social\", \"social\", \"social\", \"social\", \"social\", \"social\", \"social\", \"social\", \"social\", \"social\", \"social\", \"soil\", \"soldier\", \"soldier\", \"soldier\", \"soldier\", \"somali\", \"somers\", \"something\", \"something\", \"something\", \"something\", \"something\", \"something\", \"something\", \"something\", \"something\", \"something\", \"son\", \"son\", \"son\", \"son\", \"son\", \"son\", \"son\", \"son\", \"son\", \"son\", \"son\", \"song\", \"song\", \"song\", \"sony\", \"sorkin\", \"sotloff\", \"sound\", \"sound\", \"sound\", \"sound\", \"sound\", \"sound\", \"sound\", \"source\", \"source\", \"source\", \"source\", \"source\", \"source\", \"source\", \"source\", \"source\", \"source\", \"source\", \"source\", \"source\", \"source\", \"south\", \"south\", \"south\", \"south\", \"south\", \"south\", \"south\", \"south\", \"southern\", \"southern\", \"southern\", \"southern\", \"southern\", \"southern\", \"space\", \"space\", \"space\", \"spca\", \"specie\", \"speculation\", \"speculation\", \"spends\", \"spice\", \"spider\", \"spoon\", \"sport\", \"sport\", \"st\", \"st\", \"st\", \"stainless\", \"star\", \"star\", \"star\", \"star\", \"star\", \"star\", \"star\", \"started\", \"started\", \"started\", \"started\", \"started\", \"started\", \"started\", \"started\", \"started\", \"state\", \"state\", \"state\", \"state\", \"state\", \"state\", \"state\", \"state\", \"state\", \"state\", \"state\", \"state\", \"state\", \"stated\", \"stated\", \"statement\", \"statement\", \"statement\", \"statement\", \"statement\", \"statement\", \"statement\", \"statement\", \"statement\", \"statement\", \"statement\", \"statement\", \"statement\", \"statement\", \"station\", \"station\", \"station\", \"station\", \"station\", \"station\", \"station\", \"station\", \"station\", \"station\", \"station\", \"steel\", \"stephen\", \"steve\", \"steve\", \"steven\", \"still\", \"still\", \"still\", \"still\", \"still\", \"still\", \"still\", \"still\", \"still\", \"still\", \"still\", \"still\", \"still\", \"still\", \"still\", \"still\", \"still\", \"stomach\", \"stomach\", \"store\", \"store\", \"store\", \"story\", \"story\", \"story\", \"story\", \"story\", \"story\", \"story\", \"story\", \"story\", \"story\", \"story\", \"story\", \"story\", \"strap\", \"streaming\", \"streaming\", \"street\", \"street\", \"street\", \"street\", \"street\", \"street\", \"street\", \"street\", \"street\", \"street\", \"street\", \"street\", \"strike\", \"strike\", \"strike\", \"strike\", \"strike\", \"strike\", \"student\", \"student\", \"student\", \"subscription\", \"subscription\", \"subscription\", \"sugarhill\", \"suggestion\", \"suit\", \"suit\", \"suitcase\", \"sunday\", \"sunday\", \"sunday\", \"sunday\", \"sunday\", \"sunday\", \"sunday\", \"sung\", \"sunni\", \"superman\", \"superpower\", \"supported\", \"supported\", \"supporter\", \"supporter\", \"supporter\", \"supreme\", \"sure\", \"sure\", \"sure\", \"sure\", \"sure\", \"sure\", \"suresh\", \"suspended\", \"suspension\", \"suspension\", \"susteren\", \"swimmer\", \"symptom\", \"syria\", \"syria\", \"syria\", \"syria\", \"syria\", \"syrian\", \"syrian\", \"syrian\", \"taibbi\", \"taliban\", \"taliban\", \"talk\", \"talk\", \"talk\", \"talk\", \"talk\", \"talk\", \"talk\", \"talk\", \"talk\", \"talk\", \"talk\", \"talk\", \"tan\", \"tanzania\", \"tape\", \"teacher\", \"teen\", \"teen\", \"teen\", \"teen\", \"teen\", \"teletubbies\", \"terrorism\", \"terrorist\", \"terrorist\", \"terrorist\", \"terrorist\", \"terrorist\", \"terrorist\", \"terrorist\", \"texas\", \"texas\", \"text\", \"texting\", \"theft\", \"theory\", \"thing\", \"thing\", \"thing\", \"thing\", \"thing\", \"thing\", \"thing\", \"thing\", \"thing\", \"thing\", \"think\", \"think\", \"think\", \"think\", \"think\", \"think\", \"think\", \"think\", \"think\", \"think\", \"think\", \"think\", \"think\", \"think\", \"think\", \"think\", \"thomas\", \"thomas\", \"thomas\", \"thought\", \"thought\", \"thought\", \"thought\", \"thought\", \"thought\", \"thought\", \"thought\", \"thought\", \"thought\", \"thought\", \"thought\", \"thought\", \"thought\", \"thought\", \"thursday\", \"thursday\", \"thursday\", \"thursday\", \"thursday\", \"thursday\", \"thursday\", \"thursday\", \"thursday\", \"thursday\", \"thursday\", \"thursday\", \"thus\", \"thus\", \"tiger\", \"time\", \"time\", \"time\", \"time\", \"time\", \"time\", \"time\", \"time\", \"time\", \"time\", \"time\", \"time\", \"time\", \"time\", \"time\", \"time\", \"time\", \"time\", \"time\", \"time\", \"today\", \"today\", \"today\", \"today\", \"today\", \"today\", \"today\", \"today\", \"today\", \"today\", \"today\", \"today\", \"today\", \"told\", \"told\", \"told\", \"told\", \"told\", \"told\", \"told\", \"told\", \"told\", \"told\", \"told\", \"told\", \"told\", \"told\", \"told\", \"told\", \"told\", \"told\", \"told\", \"tom\", \"tom\", \"tor\", \"tour\", \"tour\", \"tour\", \"tower\", \"trading\", \"trail\", \"trained\", \"transpired\", \"tribunal\", \"tripoli\", \"tripoli\", \"tropical\", \"truce\", \"truck\", \"truck\", \"truck\", \"true\", \"true\", \"true\", \"true\", \"true\", \"true\", \"true\", \"true\", \"true\", \"true\", \"true\", \"tuesday\", \"tuesday\", \"tuesday\", \"tuesday\", \"tuesday\", \"tuesday\", \"tuesday\", \"tuesday\", \"tuesday\", \"tuesday\", \"tuesday\", \"tuesday\", \"tuesday\", \"tuesday\", \"tuesday\", \"tunisia\", \"tv\", \"tv\", \"tv\", \"tv\", \"tv\", \"tv\", \"tv\", \"tv\", \"tv\", \"tv\", \"tv\", \"tweet\", \"tweet\", \"tweet\", \"tweet\", \"tweet\", \"twin\", \"twitter\", \"twitter\", \"twitter\", \"twitter\", \"twitter\", \"twitter\", \"twitter\", \"twitter\", \"twitter\", \"twitter\", \"twitter\", \"type\", \"type\", \"u\", \"u\", \"u\", \"u\", \"u\", \"u\", \"u\", \"u\", \"u\", \"u\", \"u\", \"u\", \"u\", \"u\", \"u\", \"u\", \"u\", \"u\", \"u\", \"un\", \"un\", \"unarmed\", \"unarmed\", \"underage\", \"une\", \"university\", \"university\", \"university\", \"university\", \"university\", \"unusual\", \"unusual\", \"unusual\", \"unverified\", \"update\", \"update\", \"update\", \"update\", \"updated\", \"updated\", \"updated\", \"used\", \"used\", \"used\", \"used\", \"used\", \"used\", \"used\", \"used\", \"used\", \"used\", \"used\", \"used\", \"used\", \"used\", \"used\", \"used\", \"useful\", \"user\", \"user\", \"user\", \"user\", \"user\", \"user\", \"v\", \"vandalism\", \"variant\", \"variety\", \"variety\", \"various\", \"various\", \"various\", \"various\", \"vatican\", \"vega\", \"version\", \"version\", \"version\", \"version\", \"version\", \"version\", \"version\", \"version\", \"version\", \"version\", \"vickers\", \"video\", \"video\", \"video\", \"video\", \"video\", \"video\", \"video\", \"video\", \"video\", \"video\", \"video\", \"video\", \"violated\", \"viral\", \"viral\", \"viral\", \"viral\", \"virus\", \"vladi\", \"vocativ\", \"vogue\", \"volley\", \"vomiting\", \"w\", \"walter\", \"want\", \"want\", \"want\", \"want\", \"want\", \"want\", \"want\", \"want\", \"want\", \"want\", \"want\", \"want\", \"wanted\", \"wanted\", \"wanted\", \"wanted\", \"wanted\", \"wanted\", \"wanted\", \"war\", \"war\", \"war\", \"war\", \"war\", \"war\", \"war\", \"war\", \"warner\", \"warren\", \"washington\", \"washington\", \"washington\", \"washington\", \"washington\", \"washington\", \"washington\", \"washington\", \"watch\", \"watch\", \"watch\", \"watch\", \"watch\", \"watch\", \"watch\", \"watch\", \"watch\", \"watch\", \"water\", \"water\", \"water\", \"water\", \"water\", \"water\", \"water\", \"wave\", \"wave\", \"way\", \"way\", \"way\", \"way\", \"way\", \"way\", \"way\", \"way\", \"way\", \"way\", \"way\", \"way\", \"way\", \"way\", \"way\", \"way\", \"weapon\", \"weapon\", \"weapon\", \"weapon\", \"weapon\", \"wearable\", \"website\", \"website\", \"website\", \"website\", \"website\", \"website\", \"website\", \"website\", \"website\", \"wednesday\", \"wednesday\", \"wednesday\", \"wednesday\", \"wednesday\", \"wednesday\", \"wednesday\", \"wednesday\", \"wednesday\", \"wednesday\", \"wednesday\", \"weekend\", \"weekend\", \"weight\", \"weight\", \"welfare\", \"welfare\", \"welfare\", \"well\", \"well\", \"well\", \"well\", \"well\", \"well\", \"well\", \"well\", \"well\", \"well\", \"well\", \"well\", \"well\", \"well\", \"well\", \"well\", \"well\", \"well\", \"wels\", \"west\", \"west\", \"west\", \"west\", \"west\", \"west\", \"west\", \"west\", \"west\", \"west\", \"westminster\", \"whatever\", \"whatever\", \"whatever\", \"whisky\", \"wide\", \"wide\", \"wife\", \"wife\", \"wife\", \"wife\", \"wife\", \"williams\", \"wilson\", \"winning\", \"winning\", \"wintour\", \"woman\", \"woman\", \"woman\", \"woman\", \"woman\", \"woman\", \"woman\", \"woman\", \"woman\", \"woman\", \"woman\", \"woman\", \"woman\", \"woman\", \"wonderful\", \"wood\", \"work\", \"work\", \"work\", \"work\", \"work\", \"work\", \"work\", \"work\", \"work\", \"work\", \"work\", \"work\", \"work\", \"working\", \"working\", \"working\", \"working\", \"working\", \"working\", \"working\", \"working\", \"working\", \"world\", \"world\", \"world\", \"world\", \"world\", \"world\", \"world\", \"world\", \"world\", \"world\", \"world\", \"world\", \"world\", \"world\", \"world\", \"world\", \"world\", \"would\", \"would\", \"would\", \"would\", \"would\", \"would\", \"would\", \"would\", \"would\", \"would\", \"would\", \"would\", \"would\", \"would\", \"would\", \"would\", \"would\", \"would\", \"would\", \"would\", \"wozniak\", \"wright\", \"year\", \"year\", \"year\", \"year\", \"year\", \"year\", \"year\", \"year\", \"year\", \"year\", \"year\", \"year\", \"year\", \"year\", \"year\", \"year\", \"year\", \"year\", \"year\", \"yemen\", \"yemen\", \"yemeni\", \"yeti\", \"yo\", \"york\", \"york\", \"york\", \"york\", \"york\", \"york\", \"york\", \"york\", \"york\", \"york\", \"york\", \"york\", \"youtube\", \"youtube\", \"youtube\", \"youtube\", \"youtube\", \"youtube\", \"ypg\", \"zehaf\", \"zeid\", \"zero\", \"zone\", \"\\u00e0\"]}, \"R\": 30, \"lambda.step\": 0.01, \"plot.opts\": {\"xlab\": \"PC1\", \"ylab\": \"PC2\"}, \"topic.order\": [18, 10, 3, 14, 9, 8, 15, 4, 13, 7, 1, 20, 2, 19, 6, 5, 17, 11, 12, 16]};\n",
       "\n",
       "function LDAvis_load_lib(url, callback){\n",
       "  var s = document.createElement('script');\n",
       "  s.src = url;\n",
       "  s.async = true;\n",
       "  s.onreadystatechange = s.onload = callback;\n",
       "  s.onerror = function(){console.warn(\"failed to load library \" + url);};\n",
       "  document.getElementsByTagName(\"head\")[0].appendChild(s);\n",
       "}\n",
       "\n",
       "if(typeof(LDAvis) !== \"undefined\"){\n",
       "   // already loaded: just create the visualization\n",
       "   !function(LDAvis){\n",
       "       new LDAvis(\"#\" + \"ldavis_el3379060730897448929389269\", ldavis_el3379060730897448929389269_data);\n",
       "   }(LDAvis);\n",
       "}else if(typeof define === \"function\" && define.amd){\n",
       "   // require.js is available: use it to load d3/LDAvis\n",
       "   require.config({paths: {d3: \"https://cdnjs.cloudflare.com/ajax/libs/d3/3.5.5/d3.min\"}});\n",
       "   require([\"d3\"], function(d3){\n",
       "      window.d3 = d3;\n",
       "      LDAvis_load_lib(\"https://cdn.rawgit.com/bmabey/pyLDAvis/files/ldavis.v1.0.0.js\", function(){\n",
       "        new LDAvis(\"#\" + \"ldavis_el3379060730897448929389269\", ldavis_el3379060730897448929389269_data);\n",
       "      });\n",
       "    });\n",
       "}else{\n",
       "    // require.js not available: dynamically load d3 & LDAvis\n",
       "    LDAvis_load_lib(\"https://cdnjs.cloudflare.com/ajax/libs/d3/3.5.5/d3.min.js\", function(){\n",
       "         LDAvis_load_lib(\"https://cdn.rawgit.com/bmabey/pyLDAvis/files/ldavis.v1.0.0.js\", function(){\n",
       "                 new LDAvis(\"#\" + \"ldavis_el3379060730897448929389269\", ldavis_el3379060730897448929389269_data);\n",
       "            })\n",
       "         });\n",
       "}\n",
       "</script>"
      ],
      "text/plain": [
       "PreparedData(topic_coordinates=           Freq  cluster  topics         x         y\n",
       "topic                                               \n",
       "17     8.472813        1       1 -0.226878 -0.019111\n",
       "9      7.594972        1       2  0.112293 -0.000422\n",
       "2      7.311625        1       3  0.083541 -0.021568\n",
       "13     6.791107        1       4  0.108506  0.080758\n",
       "8      6.466279        1       5 -0.174058 -0.042057\n",
       "7      5.406447        1       6  0.187085 -0.060071\n",
       "14     5.100556        1       7 -0.112053  0.049267\n",
       "3      4.986382        1       8 -0.218530 -0.084039\n",
       "12     4.938644        1       9  0.117558  0.017824\n",
       "6      4.882309        1      10 -0.059652 -0.100930\n",
       "0      4.623836        1      11 -0.111733 -0.080454\n",
       "19     4.126402        1      12  0.143796 -0.016094\n",
       "1      4.123351        1      13 -0.024209  0.294692\n",
       "18     4.007891        1      14  0.105916  0.023174\n",
       "5      3.879489        1      15  0.103317 -0.141876\n",
       "4      3.818942        1      16  0.013767  0.042428\n",
       "16     3.808361        1      17  0.129776 -0.044188\n",
       "10     3.591948        1      18  0.102500 -0.032545\n",
       "11     3.399814        1      19 -0.109929  0.261608\n",
       "15     2.668834        1      20 -0.171014 -0.126397, topic_info=     Category           Freq          Term          Total  loglift  logprob\n",
       "term                                                                       \n",
       "6     Default   44045.000000         apple   44045.000000  30.0000  30.0000\n",
       "1574  Default   30442.000000         watch   30442.000000  29.0000  29.0000\n",
       "2527  Default   22237.000000           kim   22237.000000  28.0000  28.0000\n",
       "97    Default   28784.000000            al   28784.000000  27.0000  27.0000\n",
       "1218  Default   46117.000000         video   46117.000000  26.0000  26.0000\n",
       "818   Default   34001.000000           isi   34001.000000  25.0000  25.0000\n",
       "861   Default   20626.000000         north   20626.000000  24.0000  24.0000\n",
       "353   Default   24473.000000        police   24473.000000  23.0000  23.0000\n",
       "1180  Default   16882.000000         foley   16882.000000  22.0000  22.0000\n",
       "363   Default   17942.000000          shot   17942.000000  21.0000  21.0000\n",
       "3992  Default   13910.000000         brown   13910.000000  20.0000  20.0000\n",
       "210   Default  130181.000000          said  130181.000000  19.0000  19.0000\n",
       "343   Default   26540.000000       islamic   26540.000000  18.0000  18.0000\n",
       "914   Default   41793.000000         state   41793.000000  17.0000  17.0000\n",
       "107   Default   17448.000000        border   17448.000000  16.0000  16.0000\n",
       "2895  Default   10801.000000         ebola   10801.000000  15.0000  15.0000\n",
       "944   Default   47036.000000             u   47036.000000  14.0000  14.0000\n",
       "2644  Default   12495.000000          jong   12495.000000  13.0000  13.0000\n",
       "1215  Default   22614.000000         syria   22614.000000  12.0000  12.0000\n",
       "563   Default   20635.000000      american   20635.000000  11.0000  11.0000\n",
       "296   Default   29728.000000           man   29728.000000  10.0000  10.0000\n",
       "816   Default   19260.000000          iraq   19260.000000   9.0000   9.0000\n",
       "279   Default   16631.000000          girl   16631.000000   8.0000   8.0000\n",
       "803   Default   33140.000000         group   33140.000000   7.0000   7.0000\n",
       "1621  Default   13616.000000       officer   13616.000000   6.0000   6.0000\n",
       "1785  Default   10156.000000         haram   10156.000000   5.0000   5.0000\n",
       "1737  Default   10093.000000          boko   10093.000000   4.0000   4.0000\n",
       "2649  Default   10183.000000         korea   10183.000000   3.0000   3.0000\n",
       "43    Default   11492.000000           job   11492.000000   2.0000   2.0000\n",
       "240   Default   10498.000000            un   10498.000000   1.0000   1.0000\n",
       "...       ...            ...           ...            ...      ...      ...\n",
       "8168  Topic20     478.526062       malaria     479.476471   3.6215  -6.4029\n",
       "3573  Topic20     594.338135        frisco     595.912964   3.6209  -6.1861\n",
       "1075  Topic20    4736.602539        banksy    4924.308594   3.5847  -4.1105\n",
       "2227  Topic20    1919.205444        artist    1968.988159   3.5979  -5.0139\n",
       "2904  Topic20     697.704224    biological     701.582336   3.6180  -6.0258\n",
       "3563  Topic20    3522.004150       disease    3687.585449   3.5776  -4.4068\n",
       "853   Topic20    5902.311035         mosul    7561.707031   3.3758  -3.8905\n",
       "1275  Topic20    4152.358887        health    9488.953125   2.7971  -4.2421\n",
       "1258  Topic20     851.377991        deadly    1066.479980   3.3983  -5.8267\n",
       "1724  Topic20    1866.870361        africa    3700.439453   2.9393  -5.0416\n",
       "282   Topic20    3524.286133      hospital   11174.870117   2.4695  -4.4061\n",
       "3559  Topic20     822.754333        dallas    1054.095825   3.3757  -5.8609\n",
       "400   Topic20    3225.877686          case   12429.416992   2.2747  -4.4946\n",
       "746   Topic20    3583.443848          city   16386.277344   2.1034  -4.3895\n",
       "817   Topic20    2737.900879         iraqi   10679.392578   2.2624  -4.6586\n",
       "818   Topic20    4557.276367           isi   34001.753906   1.6138  -4.1491\n",
       "816   Topic20    3309.966309          iraq   19260.966797   1.8624  -4.4689\n",
       "356   Topic20    4636.986328        report   41320.726562   1.4362  -4.1318\n",
       "58    Topic20    3771.865967      official   30180.765625   1.5439  -4.3382\n",
       "775   Topic20    1381.113281      document    3467.063477   2.7031  -5.3429\n",
       "889   Topic20    2571.411621      reported   22300.935547   1.4634  -4.7214\n",
       "758   Topic20    2120.495605       country   13757.259766   1.7536  -4.9142\n",
       "1814  Topic20    1532.946411  organization    5593.674316   2.3291  -5.2386\n",
       "847   Topic20    2352.505859      militant   21492.974609   1.4113  -4.8103\n",
       "346   Topic20    2092.682373        medium   19338.210938   1.3999  -4.9274\n",
       "101   Topic20    1680.187622          area    9741.238281   1.8661  -5.1469\n",
       "210   Topic20    2546.230469          said  130181.796875  -0.3108  -4.7312\n",
       "76    Topic20    1775.753296        source   20733.388672   1.1660  -5.0916\n",
       "694   Topic20    1573.665894         world   13412.431641   1.4808  -5.2124\n",
       "322   Topic20    1559.465698          told   34085.957031   0.5390  -5.2215\n",
       "\n",
       "[1335 rows x 6 columns], token_table=       Topic      Freq     Term\n",
       "term                           \n",
       "90         1  0.017587      000\n",
       "90         2  0.000384      000\n",
       "90         3  0.000230      000\n",
       "90         6  0.469391      000\n",
       "90         7  0.011827      000\n",
       "90         9  0.007296      000\n",
       "90        11  0.070654      000\n",
       "90        12  0.162735      000\n",
       "90        13  0.000307      000\n",
       "90        14  0.168802      000\n",
       "90        16  0.040319      000\n",
       "90        18  0.025036      000\n",
       "90        20  0.025420      000\n",
       "91         2  0.084982      100\n",
       "91         3  0.171155      100\n",
       "91         6  0.150108      100\n",
       "91         7  0.026408      100\n",
       "91        10  0.011318      100\n",
       "91        11  0.022040      100\n",
       "91        12  0.533915      100\n",
       "91        13  0.000199      100\n",
       "1993       1  0.060019       11\n",
       "1993       2  0.000216       11\n",
       "1993       3  0.138173       11\n",
       "1993       4  0.012522       11\n",
       "1993       6  0.095210       11\n",
       "1993       7  0.013817       11\n",
       "1993       8  0.003130       11\n",
       "1993       9  0.044043       11\n",
       "1993      11  0.473133       11\n",
       "...      ...       ...      ...\n",
       "88        19  0.003896     year\n",
       "9054       5  0.993977    yemen\n",
       "9054       8  0.005902    yemen\n",
       "9760       5  0.999282   yemeni\n",
       "10642     14  0.998236     yeti\n",
       "2678      10  0.999618       yo\n",
       "960        1  0.001622     york\n",
       "960        2  0.221354     york\n",
       "960        3  0.003243     york\n",
       "960        4  0.051352     york\n",
       "960        5  0.030406     york\n",
       "960        7  0.006351     york\n",
       "960       10  0.004460     york\n",
       "960       11  0.012027     york\n",
       "960       13  0.102974     york\n",
       "960       14  0.171219     york\n",
       "960       17  0.394195     york\n",
       "960       20  0.000676     york\n",
       "1337       1  0.018227  youtube\n",
       "1337       4  0.182269  youtube\n",
       "1337       5  0.186300  youtube\n",
       "1337      12  0.538219  youtube\n",
       "1337      14  0.072732  youtube\n",
       "1337      18  0.002103  youtube\n",
       "4599       8  0.998426      ypg\n",
       "5006      19  0.999774    zehaf\n",
       "17153      8  0.998608     zeid\n",
       "2064       3  0.998470     zero\n",
       "4835       5  0.999270     zone\n",
       "15670     15  0.999211        à\n",
       "\n",
       "[4040 rows x 3 columns], R=30, lambda_step=0.01, plot_opts={'xlab': 'PC1', 'ylab': 'PC2'}, topic_order=[18, 10, 3, 14, 9, 8, 15, 4, 13, 7, 1, 20, 2, 19, 6, 5, 17, 11, 12, 16])"
      ]
     },
     "execution_count": 33,
     "metadata": {},
     "output_type": "execute_result"
    }
   ],
   "source": [
    "pyLDAvis.gensim.prepare(ldamodel, corpus, dictionary)"
   ]
  },
  {
   "cell_type": "markdown",
   "metadata": {},
   "source": [
    "## latent Dirichlet allocation on Headline\n",
    "\n",
    "Visualizing the similarities between topics in the Headlines. "
   ]
  },
  {
   "cell_type": "code",
   "execution_count": 34,
   "metadata": {},
   "outputs": [],
   "source": [
    "dictionary = corpora.Dictionary(list(df_all['Headline']))\n",
    "\n",
    "corpus = [dictionary.doc2bow(text) for text in df_all['Headline']]\n",
    "\n",
    "ldamodel = models.ldamodel.LdaModel(corpus,                     # pass in our corpus\n",
    "                                    id2word = dictionary,       # matches each word to its \"number\" or \"spot\" in the dictionary\n",
    "                                    num_topics = 20,             # number of topics T to find\n",
    "                                    passes = 5,                 # number of passes through corpus; similar to number of epochs\n",
    "                                    minimum_probability = 0.01) # only include topics above this probability threshold"
   ]
  },
  {
   "cell_type": "code",
   "execution_count": 35,
   "metadata": {
    "scrolled": true
   },
   "outputs": [
    {
     "data": {
      "text/html": [
       "\n",
       "<link rel=\"stylesheet\" type=\"text/css\" href=\"https://cdn.rawgit.com/bmabey/pyLDAvis/files/ldavis.v1.0.0.css\">\n",
       "\n",
       "\n",
       "<div id=\"ldavis_el3379066052364082386774557\"></div>\n",
       "<script type=\"text/javascript\">\n",
       "\n",
       "var ldavis_el3379066052364082386774557_data = {\"mdsDat\": {\"Freq\": [7.175739288330078, 6.986012935638428, 6.434521198272705, 6.159083366394043, 5.968647480010986, 5.822700500488281, 5.576652526855469, 5.277154445648193, 4.846415996551514, 4.759068965911865, 4.680370330810547, 4.676739692687988, 4.4246392250061035, 4.332467079162598, 4.28141975402832, 4.159107208251953, 3.9892666339874268, 3.813821792602539, 3.670226812362671, 2.9659414291381836], \"cluster\": [1, 1, 1, 1, 1, 1, 1, 1, 1, 1, 1, 1, 1, 1, 1, 1, 1, 1, 1, 1], \"topics\": [1, 2, 3, 4, 5, 6, 7, 8, 9, 10, 11, 12, 13, 14, 15, 16, 17, 18, 19, 20], \"x\": [0.1605645436706877, -0.05530077616540467, -0.047171173981781944, 0.03337483510333699, 0.17235885897544365, 0.031228510281752928, 0.031246142855455482, 0.1909325608505671, -0.2621795808964831, 0.15068359640028703, -0.26563630415752004, -0.08066174110768595, 0.22081027580966245, -0.11229698931302902, -0.0793506581379174, -0.0788808246643595, 0.03814453718353541, 0.042447031854176046, -0.1520542401158837, 0.06174139555516295], \"y\": [-0.23676559996180416, 0.09298702398176091, 0.08003288021048158, -0.11865426314337162, 0.1333937306180808, 0.18413000684785508, -0.03935737986067704, 0.0638090394649069, 0.06800163125888015, 0.09640062231898841, 0.023131864834290392, 0.04970328137008726, -0.04485532625367671, -0.026703008500738527, -0.04112768586306496, -0.18655492564035395, -0.16517746485865803, 0.22068603451715352, -0.09338975393974659, -0.05969070740039406]}, \"tinfo\": {\"Category\": [\"Default\", \"Default\", \"Default\", \"Default\", \"Default\", \"Default\", \"Default\", \"Default\", \"Default\", \"Default\", \"Default\", \"Default\", \"Default\", \"Default\", \"Default\", \"Default\", \"Default\", \"Default\", \"Default\", \"Default\", \"Default\", \"Default\", \"Default\", \"Default\", \"Default\", \"Default\", \"Default\", \"Default\", \"Default\", \"Default\", \"Topic1\", \"Topic1\", \"Topic1\", \"Topic1\", \"Topic1\", \"Topic1\", \"Topic1\", \"Topic1\", \"Topic1\", \"Topic1\", \"Topic1\", \"Topic1\", \"Topic1\", \"Topic1\", \"Topic1\", \"Topic1\", \"Topic1\", \"Topic1\", \"Topic1\", \"Topic1\", \"Topic1\", \"Topic1\", \"Topic1\", \"Topic1\", \"Topic1\", \"Topic1\", \"Topic1\", \"Topic1\", \"Topic1\", \"Topic1\", \"Topic1\", \"Topic1\", \"Topic1\", \"Topic1\", \"Topic1\", \"Topic1\", \"Topic1\", \"Topic1\", \"Topic1\", \"Topic1\", \"Topic1\", \"Topic1\", \"Topic1\", \"Topic1\", \"Topic1\", \"Topic1\", \"Topic1\", \"Topic1\", \"Topic1\", \"Topic1\", \"Topic1\", \"Topic1\", \"Topic1\", \"Topic1\", \"Topic2\", \"Topic2\", \"Topic2\", \"Topic2\", \"Topic2\", \"Topic2\", \"Topic2\", \"Topic2\", \"Topic2\", \"Topic2\", \"Topic2\", \"Topic2\", \"Topic2\", \"Topic2\", \"Topic2\", \"Topic2\", \"Topic2\", \"Topic2\", \"Topic2\", \"Topic2\", \"Topic2\", \"Topic2\", \"Topic2\", \"Topic2\", \"Topic2\", \"Topic2\", \"Topic2\", \"Topic2\", \"Topic2\", \"Topic2\", \"Topic2\", \"Topic2\", \"Topic2\", \"Topic2\", \"Topic2\", \"Topic2\", \"Topic2\", \"Topic2\", \"Topic2\", \"Topic2\", \"Topic2\", \"Topic2\", \"Topic2\", \"Topic2\", \"Topic2\", \"Topic2\", \"Topic2\", \"Topic2\", \"Topic2\", \"Topic2\", \"Topic2\", \"Topic2\", \"Topic2\", \"Topic3\", \"Topic3\", \"Topic3\", \"Topic3\", \"Topic3\", \"Topic3\", \"Topic3\", \"Topic3\", \"Topic3\", \"Topic3\", \"Topic3\", \"Topic3\", \"Topic3\", \"Topic3\", \"Topic3\", \"Topic3\", \"Topic3\", \"Topic3\", \"Topic3\", \"Topic3\", \"Topic3\", \"Topic3\", \"Topic3\", \"Topic3\", \"Topic3\", \"Topic3\", \"Topic3\", \"Topic3\", \"Topic3\", \"Topic3\", \"Topic3\", \"Topic3\", \"Topic3\", \"Topic3\", \"Topic3\", \"Topic3\", \"Topic3\", \"Topic3\", \"Topic3\", \"Topic3\", \"Topic3\", \"Topic3\", \"Topic3\", \"Topic3\", \"Topic3\", \"Topic3\", \"Topic3\", \"Topic3\", \"Topic4\", \"Topic4\", \"Topic4\", \"Topic4\", \"Topic4\", \"Topic4\", \"Topic4\", \"Topic4\", \"Topic4\", \"Topic4\", \"Topic4\", \"Topic4\", \"Topic4\", \"Topic4\", \"Topic4\", \"Topic4\", \"Topic4\", \"Topic4\", \"Topic4\", \"Topic4\", \"Topic4\", \"Topic4\", \"Topic4\", \"Topic4\", \"Topic4\", \"Topic4\", \"Topic4\", \"Topic4\", \"Topic4\", \"Topic4\", \"Topic4\", \"Topic4\", \"Topic4\", \"Topic4\", \"Topic4\", \"Topic4\", \"Topic4\", \"Topic4\", \"Topic4\", \"Topic4\", \"Topic4\", \"Topic4\", \"Topic4\", \"Topic4\", \"Topic4\", \"Topic4\", \"Topic4\", \"Topic4\", \"Topic5\", \"Topic5\", \"Topic5\", \"Topic5\", \"Topic5\", \"Topic5\", \"Topic5\", \"Topic5\", \"Topic5\", \"Topic5\", \"Topic5\", \"Topic5\", \"Topic5\", \"Topic5\", \"Topic5\", \"Topic5\", \"Topic5\", \"Topic5\", \"Topic5\", \"Topic5\", \"Topic5\", \"Topic5\", \"Topic5\", \"Topic5\", \"Topic5\", \"Topic5\", \"Topic5\", \"Topic5\", \"Topic5\", \"Topic5\", \"Topic5\", \"Topic5\", \"Topic5\", \"Topic5\", \"Topic5\", \"Topic5\", \"Topic5\", \"Topic5\", \"Topic5\", \"Topic5\", \"Topic5\", \"Topic5\", \"Topic5\", \"Topic5\", \"Topic5\", \"Topic5\", \"Topic5\", \"Topic5\", \"Topic5\", \"Topic5\", \"Topic5\", \"Topic5\", \"Topic5\", \"Topic5\", \"Topic5\", \"Topic5\", \"Topic5\", \"Topic6\", \"Topic6\", \"Topic6\", \"Topic6\", \"Topic6\", \"Topic6\", \"Topic6\", \"Topic6\", \"Topic6\", \"Topic6\", \"Topic6\", \"Topic6\", \"Topic6\", \"Topic6\", \"Topic6\", \"Topic6\", \"Topic6\", \"Topic6\", \"Topic6\", \"Topic6\", \"Topic6\", \"Topic6\", \"Topic6\", \"Topic6\", \"Topic6\", \"Topic6\", \"Topic6\", \"Topic6\", \"Topic6\", \"Topic6\", \"Topic6\", \"Topic6\", \"Topic6\", \"Topic6\", \"Topic6\", \"Topic6\", \"Topic6\", \"Topic6\", \"Topic6\", \"Topic6\", \"Topic6\", \"Topic6\", \"Topic6\", \"Topic6\", \"Topic6\", \"Topic6\", \"Topic6\", \"Topic7\", \"Topic7\", \"Topic7\", \"Topic7\", \"Topic7\", \"Topic7\", \"Topic7\", \"Topic7\", \"Topic7\", \"Topic7\", \"Topic7\", \"Topic7\", \"Topic7\", \"Topic7\", \"Topic7\", \"Topic7\", \"Topic7\", \"Topic7\", \"Topic7\", \"Topic7\", \"Topic7\", \"Topic7\", \"Topic7\", \"Topic7\", \"Topic7\", \"Topic7\", \"Topic7\", \"Topic7\", \"Topic7\", \"Topic7\", \"Topic7\", \"Topic7\", \"Topic7\", \"Topic7\", \"Topic7\", \"Topic7\", \"Topic7\", \"Topic7\", \"Topic7\", \"Topic7\", \"Topic7\", \"Topic7\", \"Topic7\", \"Topic7\", \"Topic7\", \"Topic7\", \"Topic7\", \"Topic7\", \"Topic7\", \"Topic7\", \"Topic7\", \"Topic7\", \"Topic8\", \"Topic8\", \"Topic8\", \"Topic8\", \"Topic8\", \"Topic8\", \"Topic8\", \"Topic8\", \"Topic8\", \"Topic8\", \"Topic8\", \"Topic8\", \"Topic8\", \"Topic8\", \"Topic8\", \"Topic8\", \"Topic8\", \"Topic8\", \"Topic8\", \"Topic8\", \"Topic8\", \"Topic8\", \"Topic8\", \"Topic8\", \"Topic8\", \"Topic8\", \"Topic8\", \"Topic8\", \"Topic8\", \"Topic8\", \"Topic8\", \"Topic8\", \"Topic8\", \"Topic8\", \"Topic8\", \"Topic8\", \"Topic8\", \"Topic8\", \"Topic8\", \"Topic8\", \"Topic8\", \"Topic8\", \"Topic8\", \"Topic8\", \"Topic8\", \"Topic8\", \"Topic8\", \"Topic8\", \"Topic8\", \"Topic8\", \"Topic8\", \"Topic9\", \"Topic9\", \"Topic9\", \"Topic9\", \"Topic9\", \"Topic9\", \"Topic9\", \"Topic9\", \"Topic9\", \"Topic9\", \"Topic9\", \"Topic9\", \"Topic9\", \"Topic9\", \"Topic9\", \"Topic9\", \"Topic9\", \"Topic9\", \"Topic9\", \"Topic9\", \"Topic9\", \"Topic9\", \"Topic9\", \"Topic9\", \"Topic9\", \"Topic9\", \"Topic9\", \"Topic9\", \"Topic9\", \"Topic9\", \"Topic9\", \"Topic9\", \"Topic9\", \"Topic9\", \"Topic9\", \"Topic9\", \"Topic9\", \"Topic9\", \"Topic9\", \"Topic9\", \"Topic9\", \"Topic9\", \"Topic9\", \"Topic9\", \"Topic9\", \"Topic9\", \"Topic9\", \"Topic9\", \"Topic9\", \"Topic9\", \"Topic9\", \"Topic10\", \"Topic10\", \"Topic10\", \"Topic10\", \"Topic10\", \"Topic10\", \"Topic10\", \"Topic10\", \"Topic10\", \"Topic10\", \"Topic10\", \"Topic10\", \"Topic10\", \"Topic10\", \"Topic10\", \"Topic10\", \"Topic10\", \"Topic10\", \"Topic10\", \"Topic10\", \"Topic10\", \"Topic10\", \"Topic10\", \"Topic10\", \"Topic10\", \"Topic10\", \"Topic10\", \"Topic10\", \"Topic10\", \"Topic10\", \"Topic10\", \"Topic10\", \"Topic10\", \"Topic10\", \"Topic10\", \"Topic10\", \"Topic10\", \"Topic10\", \"Topic10\", \"Topic10\", \"Topic10\", \"Topic10\", \"Topic10\", \"Topic10\", \"Topic10\", \"Topic10\", \"Topic10\", \"Topic10\", \"Topic10\", \"Topic11\", \"Topic11\", \"Topic11\", \"Topic11\", \"Topic11\", \"Topic11\", \"Topic11\", \"Topic11\", \"Topic11\", \"Topic11\", \"Topic11\", \"Topic11\", \"Topic11\", \"Topic11\", \"Topic11\", \"Topic11\", \"Topic11\", \"Topic11\", \"Topic11\", \"Topic11\", \"Topic11\", \"Topic11\", \"Topic11\", \"Topic11\", \"Topic11\", \"Topic11\", \"Topic11\", \"Topic11\", \"Topic11\", \"Topic11\", \"Topic11\", \"Topic11\", \"Topic11\", \"Topic11\", \"Topic11\", \"Topic11\", \"Topic11\", \"Topic11\", \"Topic11\", \"Topic11\", \"Topic11\", \"Topic11\", \"Topic11\", \"Topic11\", \"Topic11\", \"Topic11\", \"Topic11\", \"Topic11\", \"Topic11\", \"Topic11\", \"Topic11\", \"Topic11\", \"Topic11\", \"Topic12\", \"Topic12\", \"Topic12\", \"Topic12\", \"Topic12\", \"Topic12\", \"Topic12\", \"Topic12\", \"Topic12\", \"Topic12\", \"Topic12\", \"Topic12\", \"Topic12\", \"Topic12\", \"Topic12\", \"Topic12\", \"Topic12\", \"Topic12\", \"Topic12\", \"Topic12\", \"Topic12\", \"Topic12\", \"Topic12\", \"Topic12\", \"Topic12\", \"Topic12\", \"Topic12\", \"Topic12\", \"Topic12\", \"Topic12\", \"Topic12\", \"Topic12\", \"Topic12\", \"Topic12\", \"Topic12\", \"Topic12\", \"Topic12\", \"Topic12\", \"Topic12\", \"Topic12\", \"Topic12\", \"Topic12\", \"Topic12\", \"Topic12\", \"Topic12\", \"Topic12\", \"Topic12\", \"Topic13\", \"Topic13\", \"Topic13\", \"Topic13\", \"Topic13\", \"Topic13\", \"Topic13\", \"Topic13\", \"Topic13\", \"Topic13\", \"Topic13\", \"Topic13\", \"Topic13\", \"Topic13\", \"Topic13\", \"Topic13\", \"Topic13\", \"Topic13\", \"Topic13\", \"Topic13\", \"Topic13\", \"Topic13\", \"Topic13\", \"Topic13\", \"Topic13\", \"Topic13\", \"Topic13\", \"Topic13\", \"Topic13\", \"Topic13\", \"Topic13\", \"Topic13\", \"Topic13\", \"Topic13\", \"Topic13\", \"Topic13\", \"Topic13\", \"Topic13\", \"Topic13\", \"Topic13\", \"Topic13\", \"Topic13\", \"Topic13\", \"Topic13\", \"Topic13\", \"Topic13\", \"Topic13\", \"Topic13\", \"Topic13\", \"Topic13\", \"Topic13\", \"Topic13\", \"Topic13\", \"Topic13\", \"Topic13\", \"Topic13\", \"Topic13\", \"Topic14\", \"Topic14\", \"Topic14\", \"Topic14\", \"Topic14\", \"Topic14\", \"Topic14\", \"Topic14\", \"Topic14\", \"Topic14\", \"Topic14\", \"Topic14\", \"Topic14\", \"Topic14\", \"Topic14\", \"Topic14\", \"Topic14\", \"Topic14\", \"Topic14\", \"Topic14\", \"Topic14\", \"Topic14\", \"Topic14\", \"Topic14\", \"Topic14\", \"Topic14\", \"Topic14\", \"Topic14\", \"Topic14\", \"Topic14\", \"Topic14\", \"Topic14\", \"Topic14\", \"Topic14\", \"Topic14\", \"Topic14\", \"Topic14\", \"Topic14\", \"Topic14\", \"Topic14\", \"Topic14\", \"Topic14\", \"Topic14\", \"Topic14\", \"Topic14\", \"Topic14\", \"Topic15\", \"Topic15\", \"Topic15\", \"Topic15\", \"Topic15\", \"Topic15\", \"Topic15\", \"Topic15\", \"Topic15\", \"Topic15\", \"Topic15\", \"Topic15\", \"Topic15\", \"Topic15\", \"Topic15\", \"Topic15\", \"Topic15\", \"Topic15\", \"Topic15\", \"Topic15\", \"Topic15\", \"Topic15\", \"Topic15\", \"Topic15\", \"Topic15\", \"Topic15\", \"Topic15\", \"Topic15\", \"Topic15\", \"Topic15\", \"Topic15\", \"Topic15\", \"Topic15\", \"Topic15\", \"Topic15\", \"Topic15\", \"Topic15\", \"Topic15\", \"Topic15\", \"Topic15\", \"Topic15\", \"Topic15\", \"Topic15\", \"Topic15\", \"Topic15\", \"Topic15\", \"Topic15\", \"Topic15\", \"Topic15\", \"Topic15\", \"Topic15\", \"Topic16\", \"Topic16\", \"Topic16\", \"Topic16\", \"Topic16\", \"Topic16\", \"Topic16\", \"Topic16\", \"Topic16\", \"Topic16\", \"Topic16\", \"Topic16\", \"Topic16\", \"Topic16\", \"Topic16\", \"Topic16\", \"Topic16\", \"Topic16\", \"Topic16\", \"Topic16\", \"Topic16\", \"Topic16\", \"Topic16\", \"Topic16\", \"Topic16\", \"Topic16\", \"Topic16\", \"Topic16\", \"Topic16\", \"Topic16\", \"Topic16\", \"Topic16\", \"Topic16\", \"Topic16\", \"Topic16\", \"Topic16\", \"Topic16\", \"Topic16\", \"Topic16\", \"Topic16\", \"Topic16\", \"Topic16\", \"Topic16\", \"Topic16\", \"Topic16\", \"Topic16\", \"Topic16\", \"Topic16\", \"Topic16\", \"Topic16\", \"Topic16\", \"Topic16\", \"Topic16\", \"Topic16\", \"Topic17\", \"Topic17\", \"Topic17\", \"Topic17\", \"Topic17\", \"Topic17\", \"Topic17\", \"Topic17\", \"Topic17\", \"Topic17\", \"Topic17\", \"Topic17\", \"Topic17\", \"Topic17\", \"Topic17\", \"Topic17\", \"Topic17\", \"Topic17\", \"Topic17\", \"Topic17\", \"Topic17\", \"Topic17\", \"Topic17\", \"Topic17\", \"Topic17\", \"Topic17\", \"Topic17\", \"Topic17\", \"Topic17\", \"Topic17\", \"Topic17\", \"Topic17\", \"Topic17\", \"Topic17\", \"Topic17\", \"Topic17\", \"Topic17\", \"Topic17\", \"Topic17\", \"Topic17\", \"Topic17\", \"Topic17\", \"Topic17\", \"Topic17\", \"Topic17\", \"Topic17\", \"Topic17\", \"Topic17\", \"Topic17\", \"Topic17\", \"Topic17\", \"Topic17\", \"Topic17\", \"Topic17\", \"Topic18\", \"Topic18\", \"Topic18\", \"Topic18\", \"Topic18\", \"Topic18\", \"Topic18\", \"Topic18\", \"Topic18\", \"Topic18\", \"Topic18\", \"Topic18\", \"Topic18\", \"Topic18\", \"Topic18\", \"Topic18\", \"Topic18\", \"Topic18\", \"Topic18\", \"Topic18\", \"Topic18\", \"Topic18\", \"Topic18\", \"Topic18\", \"Topic18\", \"Topic18\", \"Topic18\", \"Topic18\", \"Topic18\", \"Topic18\", \"Topic18\", \"Topic18\", \"Topic18\", \"Topic18\", \"Topic18\", \"Topic18\", \"Topic18\", \"Topic18\", \"Topic18\", \"Topic18\", \"Topic18\", \"Topic18\", \"Topic18\", \"Topic18\", \"Topic18\", \"Topic18\", \"Topic18\", \"Topic18\", \"Topic18\", \"Topic18\", \"Topic18\", \"Topic19\", \"Topic19\", \"Topic19\", \"Topic19\", \"Topic19\", \"Topic19\", \"Topic19\", \"Topic19\", \"Topic19\", \"Topic19\", \"Topic19\", \"Topic19\", \"Topic19\", \"Topic19\", \"Topic19\", \"Topic19\", \"Topic19\", \"Topic19\", \"Topic19\", \"Topic19\", \"Topic19\", \"Topic19\", \"Topic19\", \"Topic19\", \"Topic19\", \"Topic19\", \"Topic19\", \"Topic19\", \"Topic19\", \"Topic19\", \"Topic19\", \"Topic19\", \"Topic19\", \"Topic19\", \"Topic19\", \"Topic19\", \"Topic19\", \"Topic19\", \"Topic19\", \"Topic19\", \"Topic19\", \"Topic19\", \"Topic19\", \"Topic19\", \"Topic19\", \"Topic19\", \"Topic19\", \"Topic19\", \"Topic19\", \"Topic20\", \"Topic20\", \"Topic20\", \"Topic20\", \"Topic20\", \"Topic20\", \"Topic20\", \"Topic20\", \"Topic20\", \"Topic20\", \"Topic20\", \"Topic20\", \"Topic20\", \"Topic20\", \"Topic20\", \"Topic20\", \"Topic20\", \"Topic20\", \"Topic20\", \"Topic20\", \"Topic20\", \"Topic20\", \"Topic20\", \"Topic20\", \"Topic20\", \"Topic20\", \"Topic20\", \"Topic20\", \"Topic20\", \"Topic20\", \"Topic20\", \"Topic20\", \"Topic20\", \"Topic20\", \"Topic20\", \"Topic20\", \"Topic20\", \"Topic20\", \"Topic20\", \"Topic20\", \"Topic20\", \"Topic20\", \"Topic20\", \"Topic20\", \"Topic20\", \"Topic20\", \"Topic20\", \"Topic20\", \"Topic20\", \"Topic20\", \"Topic20\"], \"Freq\": [2875.0, 6749.0, 2292.0, 2870.0, 2829.0, 2661.0, 2099.0, 3714.0, 1731.0, 2402.0, 1844.0, 1844.0, 1624.0, 1779.0, 2009.0, 2329.0, 1652.0, 2153.0, 1580.0, 2210.0, 2631.0, 1920.0, 1490.0, 1155.0, 1155.0, 1193.0, 1056.0, 1605.0, 1395.0, 1026.0, 792.9713745117188, 1008.8053588867188, 286.52001953125, 217.56784057617188, 200.76548767089844, 200.47760009765625, 189.16534423828125, 171.58436584472656, 146.2349853515625, 142.91322326660156, 138.36648559570312, 136.2649688720703, 134.23101806640625, 125.88581085205078, 125.88581085205078, 125.88581085205078, 114.79756927490234, 110.89839172363281, 110.0985336303711, 99.2598648071289, 95.46320343017578, 95.11837768554688, 93.42453002929688, 92.37467193603516, 86.84658813476562, 85.04025268554688, 82.85579681396484, 81.83161163330078, 80.08869934082031, 77.21263122558594, 2589.18359375, 2416.935302734375, 306.2274169921875, 1751.97509765625, 1538.7447509765625, 1848.53173828125, 701.5928955078125, 500.1890869140625, 1861.4208984375, 239.89161682128906, 235.07431030273438, 184.26425170898438, 317.0762023925781, 211.70260620117188, 949.8392333984375, 321.8274230957031, 429.44671630859375, 501.3822326660156, 404.4494934082031, 246.5094451904297, 517.0792846679688, 298.75238037109375, 354.1619873046875, 188.54188537597656, 1651.1007080078125, 1579.293701171875, 686.667724609375, 680.396728515625, 658.4141235351562, 565.4410400390625, 339.2346496582031, 286.87109375, 203.36129760742188, 200.3887176513672, 191.4350128173828, 185.453857421875, 155.8335723876953, 152.25865173339844, 148.58383178710938, 134.68919372558594, 126.85491180419922, 122.48489379882812, 113.46375274658203, 107.71548461914062, 107.71548461914062, 105.59003448486328, 101.14977264404297, 92.08847045898438, 91.10282135009766, 88.15576171875, 85.14734649658203, 84.75788879394531, 81.22472381591797, 73.8790283203125, 449.9371032714844, 1064.04052734375, 1064.04052734375, 1150.9078369140625, 307.55364990234375, 1564.3128662109375, 172.86390686035156, 325.0306091308594, 638.1716918945312, 305.3308410644531, 277.1401672363281, 336.00091552734375, 557.951416015625, 386.30023193359375, 332.8222961425781, 413.50335693359375, 214.6189422607422, 317.298095703125, 372.5081481933594, 337.8851623535156, 324.38916015625, 296.8066101074219, 226.3693084716797, 2291.783447265625, 2098.62744140625, 1778.6336669921875, 817.5681762695312, 697.2354736328125, 634.865966796875, 460.09381103515625, 444.9341125488281, 394.6261291503906, 320.06903076171875, 287.5259094238281, 222.32431030273438, 208.85903930664062, 208.2335968017578, 208.11700439453125, 198.383056640625, 173.55221557617188, 164.65650939941406, 145.34432983398438, 132.9766082763672, 121.9271469116211, 115.25865936279297, 108.17556762695312, 105.56157684326172, 104.63536834716797, 104.63536834716797, 102.94020080566406, 102.52909088134766, 101.3094482421875, 99.98590087890625, 1074.1884765625, 1008.834228515625, 560.831298828125, 346.7602844238281, 333.85357666015625, 380.5188293457031, 299.3264465332031, 274.08087158203125, 353.45037841796875, 402.3600158691406, 291.12542724609375, 458.4812927246094, 314.75335693359375, 402.3421325683594, 306.2497863769531, 243.3955841064453, 253.1682891845703, 219.359619140625, 1843.8619384765625, 1843.8619384765625, 943.6149291992188, 913.1637573242188, 467.1455383300781, 466.3001403808594, 459.7906188964844, 420.4530944824219, 397.2080993652344, 380.26226806640625, 278.08404541015625, 184.253662109375, 181.6205596923828, 168.60708618164062, 168.2286834716797, 150.7308807373047, 145.2216033935547, 138.81008911132812, 136.77261352539062, 134.0946044921875, 131.14178466796875, 126.2186279296875, 119.86428833007812, 119.86428833007812, 116.507568359375, 108.77120971679688, 107.80758666992188, 106.25613403320312, 91.90581512451172, 91.81704711914062, 91.81704711914062, 706.1594848632812, 476.27813720703125, 1010.8931274414062, 773.3672485351562, 593.3247680664062, 505.9541015625, 198.88937377929688, 577.1339721679688, 219.07205200195312, 698.0236206054688, 222.43203735351562, 204.7866668701172, 178.19351196289062, 203.93072509765625, 374.165283203125, 229.38949584960938, 217.48440551757812, 306.1789245605469, 283.8673095703125, 253.1417694091797, 235.52474975585938, 211.91554260253906, 209.80677795410156, 197.15481567382812, 194.8558349609375, 188.12783813476562, 183.14706420898438, 180.10848999023438, 170.6259002685547, 164.983642578125, 164.3626708984375, 147.96774291992188, 141.60862731933594, 135.64718627929688, 125.77364349365234, 120.97907257080078, 111.86507415771484, 111.86507415771484, 109.02552795410156, 105.14429473876953, 104.99957275390625, 101.25247955322266, 99.46287536621094, 91.147705078125, 84.29561614990234, 83.81745147705078, 82.78430938720703, 82.78430938720703, 765.3392944335938, 448.64874267578125, 298.650146484375, 1132.0592041015625, 458.6161193847656, 556.377197265625, 260.2894287109375, 864.32568359375, 306.5673828125, 317.90362548828125, 1592.832763671875, 398.6478271484375, 364.4627685546875, 774.8847045898438, 382.21392822265625, 272.2852478027344, 324.5173034667969, 243.8015594482422, 443.17718505859375, 256.4811706542969, 224.88124084472656, 325.8380126953125, 303.3191223144531, 256.7423400878906, 219.9964599609375, 212.38973999023438, 568.5481567382812, 486.1279296875, 486.1279296875, 486.1279296875, 429.5337219238281, 393.63427734375, 393.63427734375, 355.81280517578125, 355.81280517578125, 318.8733825683594, 300.841796875, 302.87957763671875, 294.28924560546875, 290.3218688964844, 284.08856201171875, 256.9191589355469, 217.21580505371094, 216.06613159179688, 216.06613159179688, 200.41822814941406, 200.24700927734375, 188.91465759277344, 158.22311401367188, 153.15899658203125, 150.92684936523438, 126.04505157470703, 109.71041870117188, 107.26303100585938, 87.78167724609375, 87.75048828125, 915.2490844726562, 322.1092529296875, 299.0884094238281, 268.18646240234375, 656.91943359375, 839.5744018554688, 398.13116455078125, 600.7550048828125, 284.8723449707031, 279.171875, 544.400146484375, 351.431396484375, 267.7654113769531, 349.38787841796875, 307.333984375, 323.49835205078125, 314.9254455566406, 598.6488647460938, 318.9383239746094, 318.9383239746094, 317.8992919921875, 309.22210693359375, 307.4088134765625, 239.51817321777344, 228.35594177246094, 218.1934051513672, 218.1934051513672, 207.95620727539062, 207.95620727539062, 194.9642791748047, 194.4105224609375, 187.90318298339844, 180.71029663085938, 174.4014434814453, 162.78379821777344, 151.31655883789062, 128.36842346191406, 115.73986053466797, 108.19972229003906, 107.77255249023438, 107.47880554199219, 106.67752075195312, 105.75057220458984, 105.75057220458984, 102.09505462646484, 100.62684631347656, 98.82669830322266, 396.1276550292969, 274.370361328125, 609.2509155273438, 392.1324768066406, 403.603759765625, 425.68572998046875, 212.80250549316406, 519.716552734375, 673.7548217773438, 469.3477478027344, 897.97216796875, 440.4787902832031, 343.06854248046875, 393.2862243652344, 596.9196166992188, 266.65594482421875, 339.4443359375, 363.47613525390625, 386.0295715332031, 267.529296875, 218.8625946044922, 233.06716918945312, 1055.5882568359375, 827.5565795898438, 449.6419372558594, 449.6419372558594, 438.30853271484375, 288.75103759765625, 283.4960021972656, 232.88848876953125, 193.2826690673828, 177.80776977539062, 154.15676879882812, 152.81349182128906, 152.81349182128906, 141.92494201660156, 135.56979370117188, 134.9605712890625, 126.734619140625, 116.42315673828125, 114.14420318603516, 106.04203796386719, 105.26478576660156, 95.87252044677734, 91.623779296875, 86.56512451171875, 80.57349395751953, 78.01448822021484, 78.01448822021484, 76.71623229980469, 75.30599975585938, 69.5839614868164, 717.4110107421875, 1660.2418212890625, 505.9130554199219, 376.15496826171875, 407.6925354003906, 180.80978393554688, 232.99801635742188, 216.8099365234375, 213.18162536621094, 710.3081665039062, 1014.3538208007812, 341.5658874511719, 1033.453369140625, 331.53607177734375, 407.8365173339844, 160.0806121826172, 206.63442993164062, 178.87266540527344, 189.30506896972656, 160.85269165039062, 161.8395233154297, 846.3751831054688, 626.6708374023438, 331.8798522949219, 331.8798522949219, 304.8821716308594, 266.8281555175781, 204.69244384765625, 193.69461059570312, 191.52342224121094, 147.91893005371094, 147.22666931152344, 127.5644760131836, 117.18013000488281, 111.10230255126953, 109.80033874511719, 109.34564971923828, 109.34564971923828, 104.89358520507812, 99.52901458740234, 97.15245056152344, 84.89815521240234, 84.54859924316406, 83.27597045898438, 78.05583190917969, 76.0182876586914, 71.61373138427734, 70.29408264160156, 68.5398941040039, 65.48381042480469, 64.98600769042969, 537.7723999023438, 314.507568359375, 278.3561706542969, 422.6524353027344, 535.1767578125, 1217.9954833984375, 533.1629638671875, 227.955078125, 164.0264434814453, 1071.1229248046875, 435.6199645996094, 200.94651794433594, 221.33148193359375, 343.9214782714844, 311.3294982910156, 265.4136962890625, 163.01678466796875, 171.65904235839844, 276.7439880371094, 167.4345703125, 163.01678466796875, 390.2874450683594, 370.35400390625, 368.8913879394531, 326.9884338378906, 298.58660888671875, 268.29571533203125, 253.68002319335938, 236.1293487548828, 214.3413848876953, 206.45375061035156, 191.9362030029297, 165.2914581298828, 164.8216094970703, 164.42239379882812, 161.76596069335938, 156.69017028808594, 124.01959991455078, 120.44791412353516, 117.39673614501953, 113.98764038085938, 113.9322509765625, 108.71429443359375, 105.03239440917969, 103.34988403320312, 96.65254211425781, 93.12049102783203, 90.0306167602539, 89.34693908691406, 87.59744262695312, 86.61554718017578, 704.0633544921875, 459.49346923828125, 290.14697265625, 412.269775390625, 326.20416259765625, 260.3685607910156, 285.1601867675781, 1018.0570678710938, 239.45494079589844, 191.6727752685547, 464.6156005859375, 211.0524139404297, 384.0523986816406, 379.5755920410156, 230.9688262939453, 296.4295349121094, 191.50454711914062, 195.97720336914062, 203.25653076171875, 432.7109680175781, 432.7109680175781, 304.6593017578125, 260.3944396972656, 204.97879028320312, 198.92056274414062, 177.90904235839844, 177.2298126220703, 171.7510528564453, 164.60365295410156, 164.60365295410156, 173.3182373046875, 128.0956573486328, 123.85042572021484, 120.47380065917969, 117.81891632080078, 117.81891632080078, 107.928955078125, 102.33304595947266, 100.6404037475586, 98.04922485351562, 90.73233032226562, 88.46014404296875, 81.9959487915039, 80.24586486816406, 76.70358276367188, 70.43482208251953, 67.4234390258789, 66.77316284179688, 64.036376953125, 503.5452880859375, 295.4426574707031, 150.4385223388672, 171.7510528564453, 1528.6138916015625, 407.4113464355469, 174.7572479248047, 303.79052734375, 207.51278686523438, 810.954345703125, 159.06431579589844, 356.2159423828125, 365.87310791015625, 721.7706909179688, 205.97439575195312, 197.02520751953125, 212.1443634033203, 268.5570068359375, 180.27554321289062, 171.7510528564453, 207.06968688964844, 168.3732147216797, 169.3049774169922, 1730.8009033203125, 1623.2431640625, 1154.6414794921875, 1154.6414794921875, 626.5968627929688, 450.08203125, 228.18185424804688, 215.7598419189453, 206.1644744873047, 191.53732299804688, 183.5159912109375, 179.50155639648438, 170.6384735107422, 165.91644287109375, 144.67591857910156, 144.6143341064453, 122.36624145507812, 110.92081451416016, 94.07424926757812, 91.14327239990234, 90.57933807373047, 89.889892578125, 89.889892578125, 88.63433074951172, 88.28520202636719, 84.98230743408203, 77.54332733154297, 73.72137451171875, 72.30696105957031, 69.5712661743164, 430.8501281738281, 1014.58056640625, 266.43646240234375, 172.70372009277344, 294.79449462890625, 139.01499938964844, 237.46937561035156, 155.7997283935547, 107.5513687133789, 198.87632751464844, 101.30420684814453, 121.08987426757812, 155.01890563964844, 131.08090209960938, 150.76559448242188, 140.88894653320312, 122.64036560058594, 338.9222106933594, 271.9188232421875, 240.4253387451172, 221.80999755859375, 213.73373413085938, 207.50643920898438, 205.4313201904297, 151.06336975097656, 125.07832336425781, 124.07154846191406, 118.73094177246094, 112.68936157226562, 94.74716186523438, 90.44085693359375, 87.20761108398438, 84.81168365478516, 84.61884307861328, 83.59935760498047, 83.59935760498047, 83.59935760498047, 82.00641632080078, 78.26399993896484, 77.5740966796875, 77.34748840332031, 75.2757797241211, 69.94750213623047, 69.5258560180664, 66.40924072265625, 65.56092834472656, 60.17399215698242, 363.0451965332031, 210.71206665039062, 401.4209289550781, 171.58023071289062, 213.99563598632812, 941.3863525390625, 507.2895812988281, 213.19036865234375, 1259.893798828125, 941.0796508789062, 114.1310806274414, 1147.114501953125, 113.33576965332031, 150.9290313720703, 285.2314758300781, 144.34619140625, 373.46923828125, 259.5444030761719, 200.9445037841797, 289.980712890625, 171.30877685546875, 312.51959228515625, 190.36456298828125, 276.9924011230469, 225.53399658203125, 184.2677459716797, 189.7294158935547, 651.4899291992188, 553.9141235351562, 500.680908203125, 500.680908203125, 500.680908203125, 460.678955078125, 460.678955078125, 460.678955078125, 460.678955078125, 398.0078125, 386.8506164550781, 341.5984802246094, 334.4701843261719, 303.28790283203125, 220.3920135498047, 188.69346618652344, 163.14405822753906, 137.74075317382812, 128.8736114501953, 127.53465270996094, 115.54632568359375, 112.9316177368164, 109.09608459472656, 99.7719497680664, 129.85206604003906, 82.6644058227539, 81.83187866210938, 81.78193664550781, 80.56623077392578, 79.98342895507812, 135.0167999267578, 323.39031982421875, 335.0874938964844, 196.92039489746094, 287.2945251464844, 255.95005798339844, 280.3448791503906, 342.4599304199219, 212.4182586669922, 341.2052001953125, 305.7637023925781, 245.20204162597656, 145.31040954589844, 214.1247100830078, 282.5998229980469, 228.4296112060547, 326.61322021484375, 250.91751098632812, 232.74664306640625, 232.5533905029297, 231.06463623046875, 225.2747039794922, 185.89706420898438, 179.05638122558594, 132.50343322753906, 130.8939208984375, 126.35706329345703, 103.39414978027344, 103.39414978027344, 101.7267074584961, 101.71696472167969, 100.54124450683594, 100.00885772705078, 97.1893081665039, 94.2557601928711, 92.68370819091797, 89.91175079345703, 88.11539459228516, 86.93572998046875, 84.93710327148438, 83.08865356445312, 82.51339721679688, 75.10469818115234, 74.54338836669922, 74.26961517333984, 73.0993881225586, 506.4663391113281, 200.09217834472656, 344.4867858886719, 122.9384536743164, 176.68789672851562, 377.3638000488281, 400.4284362792969, 269.867431640625, 132.55191040039062, 164.64559936523438, 160.77182006835938, 147.69989013671875, 190.7539825439453, 309.933349609375, 147.5650177001953, 262.9145202636719, 155.4728240966797, 128.4899444580078, 163.35580444335938, 166.4114532470703, 140.09523010253906, 695.18017578125, 347.61627197265625, 347.61627197265625, 187.49124145507812, 179.94992065429688, 161.97174072265625, 157.87435913085938, 133.17852783203125, 118.64476013183594, 113.21734619140625, 102.97664642333984, 102.4239273071289, 99.48245239257812, 92.24824523925781, 91.88758850097656, 91.23670959472656, 90.25236511230469, 87.70631408691406, 82.1730728149414, 76.5385971069336, 75.80426025390625, 73.40235137939453, 70.99992370605469, 69.1792984008789, 67.6252212524414, 64.35980987548828, 64.00345611572266, 61.5368766784668, 60.7390251159668, 60.731719970703125, 598.3079833984375, 194.31549072265625, 413.1933898925781, 586.21484375, 131.91014099121094, 168.23887634277344, 476.7493896484375, 255.57933044433594, 146.06655883789062, 799.0504760742188, 301.433837890625, 298.6053161621094, 141.8856658935547, 149.00767517089844, 552.4031372070312, 228.6248779296875, 137.59405517578125, 249.75746154785156, 173.23475646972656, 223.0003204345703, 225.91761779785156, 274.54119873046875, 145.40194702148438, 146.2053985595703, 630.893310546875, 396.31744384765625, 282.6764831542969, 250.52748107910156, 227.49783325195312, 207.47486877441406, 200.19569396972656, 196.07884216308594, 155.85008239746094, 138.1423797607422, 136.86105346679688, 136.1996307373047, 123.7684097290039, 123.53350830078125, 110.28260803222656, 109.9300537109375, 109.88102722167969, 105.02615356445312, 103.15562438964844, 92.95369720458984, 84.8818359375, 78.58147430419922, 75.34622955322266, 73.66532135009766, 69.37552642822266, 66.37843322753906, 65.22529602050781, 64.65970611572266, 62.158836364746094, 56.269691467285156, 901.0518188476562, 160.32681274414062, 273.15130615234375, 138.07369995117188, 489.9087219238281, 94.76725006103516, 418.6458435058594, 704.4646606445312, 136.67698669433594, 126.55887603759766, 230.55149841308594, 242.97462463378906, 218.95526123046875, 180.2813720703125, 234.65335083007812, 370.607421875, 237.13771057128906, 149.6065216064453, 155.27255249023438, 192.12159729003906, 212.11300659179688, 243.83990478515625, 158.1583251953125, 160.18435668945312, 321.41668701171875, 311.6407470703125, 302.4753723144531, 228.4951629638672, 208.04635620117188, 201.68038940429688, 198.10601806640625, 166.0745086669922, 162.1941680908203, 161.6334228515625, 157.17724609375, 155.33055114746094, 151.07565307617188, 150.44766235351562, 150.44766235351562, 134.47048950195312, 127.68383026123047, 125.2414321899414, 109.75328063964844, 97.0431900024414, 96.5065689086914, 92.78742980957031, 92.69319152832031, 82.010498046875, 82.010498046875, 82.010498046875, 77.71261596679688, 73.59893035888672, 72.2203598022461, 66.3231201171875, 299.34686279296875, 225.35487365722656, 266.5873718261719, 136.9689483642578, 207.6003875732422, 156.45387268066406, 129.6615447998047, 220.44227600097656, 145.97128295898438, 263.3128967285156, 373.2945556640625, 182.556640625, 192.1038055419922, 279.3829345703125, 179.91940307617188, 215.60714721679688, 176.57334899902344, 161.7637481689453, 190.3621826171875, 181.40426635742188, 158.56483459472656, 604.9957275390625, 268.3905334472656, 257.3336486816406, 256.77801513671875, 195.37344360351562, 175.07806396484375, 173.37722778320312, 171.3765411376953, 165.05538940429688, 161.031494140625, 153.91111755371094, 140.91627502441406, 136.43408203125, 136.43408203125, 130.09080505371094, 124.63265228271484, 118.85478210449219, 115.09505462646484, 115.09505462646484, 112.56200408935547, 100.20457458496094, 98.07353210449219, 90.35712432861328, 90.09857940673828, 88.495361328125, 87.91832733154297, 87.91832733154297, 83.16305541992188, 72.7302474975586, 71.68152618408203, 193.82896423339844, 244.65818786621094, 549.2398681640625, 301.60015869140625, 202.27069091796875, 206.68724060058594, 221.29635620117188, 217.42343139648438, 245.74684143066406, 156.04342651367188, 144.8472900390625, 181.5599365234375, 138.84262084960938, 148.99217224121094, 155.2443084716797, 172.34132385253906, 177.1759490966797, 151.9095916748047, 141.91258239746094, 701.5958862304688, 583.24365234375, 430.39276123046875, 228.51751708984375, 213.67893981933594, 193.9705810546875, 181.28968811035156, 146.2278594970703, 119.61017608642578, 115.92383575439453, 104.27598571777344, 103.57655334472656, 102.10897064208984, 101.77071380615234, 95.75634002685547, 89.17670440673828, 87.34278106689453, 81.00245666503906, 73.14439392089844, 71.14923858642578, 60.349090576171875, 54.13584518432617, 53.068870544433594, 53.068870544433594, 52.95062255859375, 47.33061218261719, 46.50128173828125, 46.50128173828125, 44.828033447265625, 41.45256042480469, 166.68807983398438, 183.569580078125, 307.2090148925781, 657.3780517578125, 217.60708618164062, 257.1194152832031, 241.18182373046875, 478.5100402832031, 92.45682525634766, 286.7922668457031, 125.26254272460938, 111.78886413574219, 152.96383666992188, 317.9726257324219, 285.5487060546875, 157.4228515625, 163.84437561035156, 141.13851928710938, 117.41712951660156, 106.75044250488281, 104.63139343261719], \"Term\": [\"state\", \"isi\", \"kim\", \"islamic\", \"apple\", \"foley\", \"jong\", \"u\", \"steve\", \"james\", \"haram\", \"boko\", \"job\", \"un\", \"leader\", \"watch\", \"brown\", \"journalist\", \"audio\", \"michael\", \"video\", \"american\", \"girl\", \"christian\", \"bale\", \"play\", \"al\", \"militant\", \"shooting\", \"student\", \"beheads\", \"wright\", \"n\", \"college\", \"fly\", \"executed\", \"age\", \"fabricated\", \"rajasthan\", \"translate\", \"developer\", \"evil\", \"499\", \"dam\", \"gaza\", \"israel\", \"game\", \"bogus\", \"sharing\", \"flood\", \"awesome\", \"52\", \"theory\", \"monitoring\", \"britain\", \"999\", \"resignation\", \"2012\", \"dupe\", \"hollywood\", \"state\", \"islamic\", \"training\", \"journalist\", \"american\", \"james\", \"beheaded\", \"photojournalist\", \"foley\", \"pilot\", \"jet\", \"apparently\", \"isil\", \"message\", \"isi\", \"iraq\", \"missing\", \"video\", \"reportedly\", \"breaking\", \"u\", \"kidnapped\", \"claim\", \"fighter\", \"brown\", \"audio\", \"recording\", \"mohammed\", \"emwazi\", \"named\", \"vice\", \"capture\", \"vega\", \"tip\", \"paid\", \"ceo\", \"identity\", \"shane\", \"pizza\", \"graffiti\", \"instead\", \"six\", \"redwood\", \"pounder\", \"quarter\", \"suggests\", \"ferguson\", \"park\", \"mourn\", \"explosion\", \"comment\", \"giggling\", \"account\", \"kidnap\", \"cnn\", \"john\", \"jihadi\", \"shooting\", \"dinner\", \"michael\", \"revealed\", \"west\", \"alleged\", \"killer\", \"app\", \"300\", \"shot\", \"identified\", \"london\", \"000\", \"google\", \"medium\", \"new\", \"man\", \"isi\", \"report\", \"reportedly\", \"kim\", \"jong\", \"un\", \"nicaragua\", \"ankle\", \"korea\", \"korean\", \"crater\", \"managua\", \"yo\", \"memorial\", \"heaven\", \"charge\", \"dictator\", \"fractured\", \"stop\", \"impact\", \"hill\", \"meteor\", \"francis\", \"foot\", \"cheese\", \"fat\", \"cause\", \"snake\", \"wine\", \"ill\", \"including\", \"railway\", \"mysterious\", \"meteorite\", \"north\", \"sister\", \"surgery\", \"leaf\", \"capital\", \"gunman\", \"small\", \"parliament\", \"soldier\", \"strike\", \"shot\", \"war\", \"say\", \"leader\", \"shooting\", \"report\", \"ottawa\", \"haram\", \"boko\", \"ceasefire\", \"nigeria\", \"truck\", \"truce\", \"taliban\", \"plumber\", \"schoolgirl\", \"nigerian\", \"released\", \"free\", \"helmet\", \"survives\", \"scottish\", \"hope\", \"powerful\", \"question\", \"headshot\", \"ever\", \"hebdo\", \"breached\", \"constipated\", \"goldfish\", \"line\", \"saved\", \"agreed\", \"massive\", \"prisoner\", \"struck\", \"talking\", \"denies\", \"deal\", \"girl\", \"kidnapped\", \"release\", \"texas\", \"cease\", \"attack\", \"reported\", \"say\", \"marine\", \"despite\", \"syrian\", \"fire\", \"claim\", \"official\", \"syria\", \"david\", \"snowman\", \"sex\", \"issue\", \"cleric\", \"island\", \"paul\", \"across\", \"selling\", \"getting\", \"capsule\", \"fatwa\", \"bugatti\", \"mortgage\", \"rep\", \"veyron\", \"ten\", \"tear\", \"bin\", \"kayla\", \"mueller\", \"castrate\", \"bed\", \"investigates\", \"threat\", \"unearthed\", \"crisis\", \"earth\", \"1795\", \"paint\", \"vandal\", \"penis\", \"contracted\", \"haines\", \"fighter\", \"iraqi\", \"border\", \"chop\", \"ebola\", \"least\", \"girlfriend\", \"isi\", \"caught\", \"hostage\", \"claim\", \"medium\", \"saudi\", \"texas\", \"cut\", \"report\", \"god\", \"priest\", \"man\", \"u\", \"militant\", \"female\", \"10\", \"skin\", \"pumpkin\", \"spice\", \"condom\", \"burrowed\", \"zehaf\", \"bibeau\", \"culkin\", \"macaulay\", \"scar\", \"tropical\", \"rapist\", \"yemen\", \"angry\", \"burrow\", \"facebook\", \"meat\", \"luke\", \"somers\", \"cleaver\", \"appendix\", \"durex\", \"thing\", \"shooter\", \"hero\", \"tb\", \"butcher\", \"untrue\", \"ministry\", \"nearly\", \"spider\", \"rescue\", \"attempt\", \"actor\", \"death\", \"dead\", \"ottawa\", \"hoax\", \"mob\", \"4\", \"man\", \"killed\", \"case\", \"michael\", \"rumor\", \"say\", \"report\", \"homeless\", \"rosenberg\", \"gill\", \"scotland\", \"2015\", \"spends\", \"io\", \"mushroom\", \"icloud\", \"8\", \"buckingham\", \"palace\", \"magic\", \"kobani\", \"safe\", \"food\", \"document\", \"bug\", \"surprise\", \"us\", \"fighting\", \"quarantined\", \"secretly\", \"gift\", \"eyewitness\", \"gravity\", \"decrease\", \"purport\", \"summer\", \"ypg\", \"israeli\", \"libyan\", \"11\", \"restaurant\", \"9\", \"100\", \"week\", \"captured\", \"woman\", \"canadian\", \"video\", \"show\", \"fear\", \"beheading\", \"man\", \"viral\", \"missing\", \"report\", \"isi\", \"new\", \"see\", \"say\", \"al\", \"wife\", \"bakr\", \"abu\", \"drone\", \"7\", \"detained\", \"predator\", \"come\", \"massacre\", \"cross\", \"domestic\", \"espn\", \"town\", \"panel\", \"shoot\", \"somali\", \"debunked\", \"entering\", \"droppings\", \"shabab\", \"tonight\", \"fault\", \"looking\", \"hearing\", \"conde\", \"nast\", \"circling\", \"patrolling\", \"threatens\", \"baghdadi\", \"leader\", \"lebanon\", \"airstrike\", \"terrorist\", \"violence\", \"somalia\", \"congressman\", \"hit\", \"killed\", \"u\", \"mexico\", \"isi\", \"border\", \"say\", \"problem\", \"syria\", \"son\", \"woman\", \"iraq\", \"reportedly\", \"rat\", \"vogue\", \"wintour\", \"anna\", \"stainless\", \"infestation\", \"feature\", \"trade\", \"cost\", \"much\", \"teenager\", \"planning\", \"lynch\", \"cuba\", \"spent\", \"tom\", \"brokaw\", \"nightly\", \"due\", \"pricing\", \"sneeze\", \"catching\", \"variant\", \"taking\", \"reserve\", \"sign\", \"ebay\", \"16\", \"samsung\", \"la\", \"gold\", \"detroit\", \"edition\", \"office\", \"batmobile\", \"watch\", \"stolen\", \"want\", \"rape\", \"apple\", \"000\", \"v\", \"world\", \"new\", \"reportedly\", \"rumor\", \"superman\", \"allegedly\", \"man\", \"10\", \"batman\", \"iphone\", \"500\", \"comcast\", \"airdrop\", \"phelps\", \"hairgate\", \"hand\", \"hair\", \"chlorine\", \"darkness\", \"user\", \"thought\", \"airdropped\", \"gas\", \"december\", \"priced\", \"pause\", \"chemical\", \"intersex\", \"total\", \"detail\", \"past\", \"feb\", \"device\", \"attorney\", \"someone\", \"debut\", \"41\", \"toy\", \"self\", \"weapon\", \"6\", \"kurd\", \"steel\", \"got\", \"customer\", \"reveals\", \"isi\", \"fired\", \"born\", \"u\", \"girlfriend\", \"claim\", \"say\", \"soldier\", \"michael\", \"iraqi\", \"day\", \"militant\", \"rogen\", \"seth\", \"wozniak\", \"founder\", \"co\", \"king\", \"center\", \"hbo\", \"dawn\", \"snyder\", \"zack\", \"streaming\", \"woz\", \"apps\", \"platinum\", \"jose\", \"canseco\", \"skipped\", \"employee\", \"shower\", \"smartwatch\", \"march\", \"working\", \"raised\", \"forget\", \"personally\", \"abdullah\", \"lied\", \"monster\", \"storage\", \"service\", \"work\", \"probably\", \"justice\", \"apple\", \"launch\", \"model\", \"set\", \"secret\", \"watch\", \"month\", \"could\", \"stolen\", \"report\", \"batman\", \"tv\", \"life\", \"batmobile\", \"v\", \"superman\", \"rumor\", \"star\", \"000\", \"steve\", \"job\", \"christian\", \"bale\", \"biopic\", \"tiger\", \"nelson\", \"upcoming\", \"testicle\", \"drug\", \"exclusive\", \"judd\", \"pga\", \"twin\", \"control\", \"sony\", \"naked\", \"husband\", \"price\", \"suspension\", \"pull\", \"boyle\", \"danny\", \"agent\", \"suspended\", \"castrated\", \"hospitalized\", \"quits\", \"anyway\", \"closer\", \"wood\", \"play\", \"movie\", \"meet\", \"died\", \"400\", \"talk\", \"pay\", \"sale\", \"god\", \"kid\", \"test\", \"woman\", \"son\", \"claim\", \"report\", \"cut\", \"putin\", \"bird\", \"behead\", \"paradise\", \"ex\", \"vladimir\", \"holding\", \"eye\", \"main\", \"creature\", \"shabaab\", \"pound\", \"motorcade\", \"scare\", \"steal\", \"horrific\", \"poop\", \"ahmed\", \"abdi\", \"godane\", \"warning\", \"search\", \"investigating\", \"banned\", \"accidental\", \"italian\", \"ended\", \"280\", \"huge\", \"animal\", \"chief\", \"tell\", \"go\", \"execution\", \"confirmed\", \"militant\", \"news\", \"pope\", \"u\", \"video\", \"graphic\", \"isi\", \"eating\", \"catfish\", \"show\", \"daughter\", \"ebola\", \"official\", \"open\", \"killed\", \"allegedly\", \"journalist\", \"strike\", \"american\", \"death\", \"fake\", \"dog\", \"big\", \"house\", \"white\", \"fence\", \"jumper\", \"sugarhill\", \"hank\", \"gang\", \"bank\", \"macbook\", \"57\", \"nun\", \"birth\", \"inch\", \"pain\", \"airstrikes\", \"ticket\", \"detainee\", \"farther\", \"red\", \"soon\", \"known\", \"retina\", \"far\", \"bowe\", \"intelligence\", \"deadly\", \"thinner\", \"western\", \"outbreak\", \"swapped\", \"12\", \"arrest\", \"york\", \"stomach\", \"give\", \"dy\", \"air\", \"suspect\", \"baby\", \"rapper\", \"made\", \"building\", \"may\", \"report\", \"apple\", \"teletubbies\", \"suitcase\", \"19\", \"station\", \"abandoned\", \"sun\", \"belonging\", \"lego\", \"jess\", \"website\", \"surfaced\", \"cesar\", \"millan\", \"injured\", \"ad\", \"whisperer\", \"gender\", \"weatherman\", \"1970s\", \"fisherman\", \"rumored\", \"freak\", \"contains\", \"voicemail\", \"important\", \"com\", \"wear\", \"pooped\", \"urinating\", \"supported\", \"banksy\", \"look\", \"parent\", \"catch\", \"still\", \"dog\", \"baby\", \"arrested\", \"absence\", \"christmas\", \"amazon\", \"tape\", \"old\", \"year\", \"letter\", \"caught\", \"first\", \"people\", \"found\", \"hoax\", \"news\", \"abdel\", \"bary\", \"majed\", \"michelle\", \"kansa\", \"went\", \"help\", \"awakens\", \"eat\", \"abrams\", \"investigation\", \"peeing\", \"chest\", \"blurred\", \"low\", \"j\", \"proposal\", \"place\", \"elaborate\", \"check\", \"sick\", \"television\", \"l\", \"fight\", \"jj\", \"refuse\", \"english\", \"marriage\", \"early\", \"meeting\", \"british\", \"plan\", \"obama\", \"rapper\", \"face\", \"killing\", \"beheading\", \"star\", \"aid\", \"foley\", \"city\", \"london\", \"date\", \"force\", \"james\", \"saudi\", \"spotted\", \"war\", \"born\", \"identified\", \"release\", \"report\", \"executioner\", \"tv\", \"mass\", \"grave\", \"graf\", \"really\", \"flying\", \"held\", \"russian\", \"indian\", \"opening\", \"43\", \"linked\", \"hold\", \"qaeda\", \"president\", \"seen\", \"university\", \"sacked\", \"later\", \"supply\", \"solved\", \"took\", \"totally\", \"statement\", \"ago\", \"jordanian\", \"newly\", \"pretty\", \"25\", \"28\", \"civil\", \"student\", \"love\", \"body\", \"told\", \"found\", \"per\", \"mexico\", \"missing\", \"tour\", \"inside\", \"police\", \"mexican\", \"find\", \"child\", \"group\", \"syria\", \"terror\", \"40\", \"among\", \"confirms\", \"year\", \"say\", \"airport\", \"militant\", \"rose\", \"like\", \"sergeant\", \"patient\", \"murder\", \"axl\", \"symptom\", \"magneto\", \"web\", \"idea\", \"cast\", \"youngest\", \"sneezing\", \"vickers\", \"kevin\", \"become\", \"father\", \"cub\", \"contact\", \"turned\", \"rise\", \"gave\", \"file\", \"tireless\", \"brave\", \"remembered\", \"land\", \"hour\", \"shopper\", \"superpower\", \"arm\", \"use\", \"doubt\", \"battle\", \"shock\", \"family\", \"electric\", \"make\", \"boston\", \"boy\", \"ebola\", \"hospital\", \"time\", \"man\", \"parliament\", \"dead\", \"god\", \"internet\", \"claim\", \"report\", \"isi\", \"million\", \"microsoft\", \"72\", \"high\", \"break\", \"robot\", \"valley\", \"possession\", \"sell\", \"campus\", \"silicon\", \"colorado\", \"plant\", \"robert\", \"car\", \"market\", \"try\", \"zeppelin\", \"led\", \"using\", \"mum\", \"need\", \"law\", \"pot\", \"nypd\", \"eggnog\", \"chugging\", \"800\", \"painted\", \"tribunal\", \"stock\", \"guard\", \"get\", \"marijuana\", \"teen\", \"store\", \"security\", \"take\", \"made\", \"head\", \"kfc\", \"school\", \"sniper\", \"marine\", \"photo\", \"new\", \"watch\", \"shot\", \"son\", \"pregnant\", \"trip\", \"seven\", \"married\", \"londoner\", \"rare\", \"start\", \"13\", \"forced\", \"bosnia\", \"extra\", \"alan\", \"net\", \"gunshot\", \"flown\", \"bosnian\", \"mask\", \"urgent\", \"deny\", \"herzegovina\", \"identifies\", \"agrees\", \"pack\", \"brat\", \"cawthorne\", \"briton\", \"timing\", \"verifies\", \"underage\", \"ignored\", \"style\", \"behind\", \"fall\", \"school\", \"young\", \"five\", \"female\", \"girl\", \"outraged\", \"day\", \"never\", \"14\", \"said\", \"islamic\", \"state\", \"parent\", \"claim\", \"dead\", \"killer\", \"god\", \"priest\"], \"Total\": [2875.0, 6749.0, 2292.0, 2870.0, 2829.0, 2661.0, 2099.0, 3714.0, 1731.0, 2402.0, 1844.0, 1844.0, 1624.0, 1779.0, 2009.0, 2329.0, 1652.0, 2153.0, 1580.0, 2210.0, 2631.0, 1920.0, 1490.0, 1155.0, 1155.0, 1193.0, 1056.0, 1605.0, 1395.0, 1026.0, 793.902099609375, 1010.4150390625, 287.4505920410156, 218.49844360351562, 201.6960906982422, 201.408203125, 190.095947265625, 172.5149688720703, 147.16558837890625, 143.8438262939453, 139.29708862304688, 137.19557189941406, 135.16162109375, 126.81642150878906, 126.81642150878906, 126.81642150878906, 115.72817993164062, 111.8290023803711, 111.02914428710938, 100.19047546386719, 96.39381408691406, 96.04898834228516, 94.35514068603516, 93.30528259277344, 87.7771987915039, 85.97086334228516, 83.78640747070312, 82.76222229003906, 81.0193099975586, 78.14324188232422, 2875.609375, 2870.520263671875, 330.3868408203125, 2153.193115234375, 1920.0804443359375, 2402.4296875, 853.6677856445312, 607.0961303710938, 2661.753173828125, 311.61798095703125, 317.5810852050781, 236.04147338867188, 619.0021362304688, 339.1402587890625, 6749.85205078125, 806.2402954101562, 1606.477294921875, 2631.412353515625, 1637.714111328125, 552.4520263671875, 3714.219970703125, 1212.0977783203125, 2966.220947265625, 1588.3785400390625, 1652.0457763671875, 1580.23876953125, 687.613037109375, 681.342041015625, 659.3594360351562, 566.3863525390625, 340.1798095703125, 287.8162536621094, 204.30650329589844, 201.33392333984375, 192.38021850585938, 186.39906311035156, 156.77877807617188, 153.203857421875, 149.52903747558594, 135.6343994140625, 127.80010986328125, 123.43009185791016, 114.40895080566406, 108.66068267822266, 108.66068267822266, 106.53523254394531, 102.094970703125, 93.0336685180664, 92.04801940917969, 89.10095977783203, 86.09254455566406, 85.70308685302734, 82.169921875, 74.82422637939453, 458.756103515625, 1192.396484375, 1192.396484375, 1395.20068359375, 353.4510498046875, 2210.976806640625, 192.45449829101562, 403.119873046875, 969.0252685546875, 423.63970947265625, 391.7771301269531, 512.6505126953125, 1308.9925537109375, 750.4120483398438, 632.3202514648438, 1027.247314453125, 303.62164306640625, 950.8851928710938, 1658.681396484375, 2625.597900390625, 6749.85205078125, 3599.400634765625, 1637.714111328125, 2292.73486328125, 2099.578857421875, 1779.5848388671875, 818.5194702148438, 698.186767578125, 635.8172607421875, 461.0450134277344, 445.88531494140625, 395.57733154296875, 321.0202331542969, 288.47711181640625, 223.27554321289062, 209.81027221679688, 209.18482971191406, 209.0682373046875, 199.33428955078125, 174.50344848632812, 165.6077423095703, 146.29556274414062, 133.92784118652344, 122.87837982177734, 116.20989227294922, 109.12680053710938, 106.51280975341797, 105.58660125732422, 105.58660125732422, 103.89143371582031, 103.4803237915039, 102.26068115234375, 100.9371337890625, 1147.5677490234375, 1097.6116943359375, 611.4970703125, 368.9075622558594, 364.82366943359375, 456.8219909667969, 373.7267761230469, 362.08544921875, 534.2696533203125, 769.7496948242188, 544.2711791992188, 1308.9925537109375, 742.3490600585938, 3260.857666015625, 2009.9476318359375, 1395.20068359375, 3599.400634765625, 618.389892578125, 1844.8004150390625, 1844.8004150390625, 944.5537719726562, 914.102294921875, 468.0839538574219, 467.2385559082031, 460.7290344238281, 421.3915100097656, 398.1465148925781, 381.20068359375, 279.0224609375, 185.19210815429688, 182.5590057373047, 169.5455322265625, 169.16712951660156, 151.66932678222656, 146.16004943847656, 139.74853515625, 137.7110595703125, 135.03305053710938, 132.08023071289062, 127.15707397460938, 120.802734375, 120.802734375, 117.44601440429688, 109.70965576171875, 108.74603271484375, 107.194580078125, 92.8442611694336, 92.7554931640625, 92.7554931640625, 761.644775390625, 517.0108642578125, 1490.288330078125, 1212.0977783203125, 916.0155639648438, 831.3645629882812, 239.48703002929688, 1064.5889892578125, 317.8460998535156, 3260.857666015625, 372.31585693359375, 316.8162841796875, 250.8083038330078, 407.5969543457031, 2966.220947265625, 936.4392700195312, 971.6738891601562, 307.1326904296875, 284.8210754394531, 254.14657592773438, 236.47854614257812, 212.8693389892578, 210.7605743408203, 198.10861206054688, 195.80963134765625, 189.08163452148438, 184.10086059570312, 181.06228637695312, 171.57969665527344, 165.93743896484375, 165.31646728515625, 148.92153930664062, 142.5624237060547, 136.60098266601562, 126.72743225097656, 121.932861328125, 112.81886291503906, 112.81886291503906, 109.97931671142578, 106.09808349609375, 105.95336151123047, 102.20626831054688, 100.41666412353516, 92.10149383544922, 85.24940490722656, 84.771240234375, 83.73809814453125, 83.73809814453125, 875.636962890625, 524.4300537109375, 338.9913635253906, 1588.3785400390625, 651.0285034179688, 960.8814086914062, 362.775634765625, 1960.649169921875, 481.3385009765625, 556.0473022460938, 6749.85205078125, 901.7048950195312, 790.4421997070312, 2966.220947265625, 950.8851928710938, 501.8114013671875, 831.3645629882812, 479.73773193359375, 3599.400634765625, 739.48388671875, 446.271484375, 2625.597900390625, 3714.219970703125, 1605.0439453125, 462.0786437988281, 431.9068908691406, 569.4951782226562, 487.0748596191406, 487.0748596191406, 487.0748596191406, 430.48065185546875, 394.5812072753906, 394.5812072753906, 356.7597351074219, 356.7597351074219, 319.8203125, 301.7887268066406, 303.8353271484375, 295.2361755371094, 291.28277587890625, 285.0354919433594, 257.8660888671875, 218.1627960205078, 217.01312255859375, 217.01312255859375, 201.36521911621094, 201.19400024414062, 189.8616485595703, 159.17010498046875, 154.10598754882812, 151.87384033203125, 126.99201965332031, 110.65738677978516, 108.20999908447266, 88.72864532470703, 88.69745635986328, 972.0379028320312, 350.74725341796875, 326.3807067871094, 326.3098449707031, 1094.3740234375, 1573.4093017578125, 618.389892578125, 1334.5660400390625, 437.2358703613281, 442.142822265625, 2625.597900390625, 1624.477294921875, 523.2652587890625, 2210.976806640625, 1193.232421875, 3260.857666015625, 3599.400634765625, 599.6015625, 319.890869140625, 319.890869140625, 318.8518371582031, 310.1746520996094, 308.3613586425781, 240.47079467773438, 229.30856323242188, 219.14602661132812, 219.14602661132812, 208.90882873535156, 208.90882873535156, 195.91690063476562, 195.36444091796875, 188.85580444335938, 181.6629180908203, 175.35406494140625, 163.73641967773438, 152.26918029785156, 129.321044921875, 116.69245910644531, 109.1523208618164, 108.72515106201172, 108.43359375, 107.63011932373047, 106.70317077636719, 106.70317077636719, 103.04765319824219, 101.5794448852539, 99.779296875, 452.5108642578125, 306.4917297363281, 748.1315307617188, 466.6712341308594, 483.746826171875, 571.6604614257812, 256.82818603515625, 855.108154296875, 1254.2071533203125, 789.2884521484375, 2631.412353515625, 922.2764892578125, 665.6096801757812, 870.9356079101562, 2625.597900390625, 524.200439453125, 1606.477294921875, 3599.400634765625, 6749.85205078125, 1658.681396484375, 344.40869140625, 3260.857666015625, 1056.5394287109375, 828.5076904296875, 450.5929260253906, 450.5929260253906, 439.259521484375, 289.7020263671875, 284.4469909667969, 233.83953857421875, 194.2337188720703, 178.75881958007812, 155.10781860351562, 153.76454162597656, 153.76454162597656, 142.87599182128906, 136.52084350585938, 135.91162109375, 127.68565368652344, 117.37419128417969, 115.0952377319336, 106.99307250976562, 106.2158203125, 96.82355499267578, 92.57481384277344, 87.51615905761719, 81.52452850341797, 78.96552276611328, 78.96552276611328, 77.66726684570312, 76.25703430175781, 70.53499603271484, 803.121826171875, 2009.9476318359375, 586.1170043945312, 473.06524658203125, 523.002685546875, 223.4951171875, 314.291015625, 293.0177001953125, 291.4278564453125, 1624.477294921875, 3714.219970703125, 761.1106567382812, 6749.85205078125, 960.8814086914062, 3260.857666015625, 233.93853759765625, 971.6738891601562, 539.0654296875, 1254.2071533203125, 806.2402954101562, 1637.714111328125, 847.3312377929688, 627.6268920898438, 332.8358154296875, 332.8358154296875, 305.838134765625, 267.78411865234375, 205.64845275878906, 194.65061950683594, 192.47943115234375, 148.87493896484375, 148.18267822265625, 128.52049255371094, 118.1361312866211, 112.05830383300781, 110.75634002685547, 110.30165100097656, 110.30165100097656, 105.8495864868164, 100.48501586914062, 98.10845184326172, 85.85415649414062, 85.50460052490234, 84.23197174072266, 79.01183319091797, 76.97428894042969, 72.56973266601562, 71.25008392333984, 69.49589538574219, 66.43981170654297, 65.94200897216797, 584.6058349609375, 360.5787048339844, 320.0289306640625, 555.8663330078125, 804.6458129882812, 2329.483642578125, 939.6416625976562, 314.3699645996094, 210.80580139160156, 2829.03759765625, 1027.247314453125, 382.1340637207031, 559.79541015625, 1658.681396484375, 1637.714111328125, 1193.232421875, 335.6798400878906, 404.15740966796875, 2625.597900390625, 431.9068908691406, 369.9031677246094, 391.24053955078125, 371.3070983886719, 369.844482421875, 327.9415283203125, 299.5397033691406, 269.2488098144531, 254.6331787109375, 237.08248901367188, 215.29452514648438, 207.40689086914062, 192.88934326171875, 166.24459838867188, 165.77474975585938, 165.3755340576172, 162.71910095214844, 157.643310546875, 124.97272491455078, 121.40184020996094, 118.34986114501953, 114.94076538085938, 114.8853759765625, 109.66741943359375, 105.98551940917969, 104.30300903320312, 97.60566711425781, 94.07361602783203, 90.9837417602539, 90.30006408691406, 88.55056762695312, 87.56867218017578, 750.498291015625, 522.537841796875, 325.1366882324219, 484.95306396484375, 409.0035095214844, 326.8887939453125, 394.3865051269531, 6749.85205078125, 481.24725341796875, 365.8081970214844, 3714.219970703125, 556.0473022460938, 2966.220947265625, 3260.857666015625, 769.7496948242188, 2210.976806640625, 651.0285034179688, 808.172119140625, 1605.0439453125, 433.6661071777344, 433.6661071777344, 305.61444091796875, 261.3495788574219, 205.9339599609375, 199.875732421875, 178.8642120361328, 178.1849822998047, 172.7062225341797, 165.55882263183594, 165.55882263183594, 174.3977813720703, 129.0508270263672, 124.80557250976562, 121.42894744873047, 118.77406311035156, 118.77406311035156, 108.88410186767578, 103.28819274902344, 101.59555053710938, 99.0043716430664, 91.6874771118164, 89.41529083251953, 82.95109558105469, 81.20101165771484, 77.65872955322266, 71.38996887207031, 68.37858581542969, 67.72830963134766, 64.99152374267578, 550.9482421875, 324.79388427734375, 164.1888885498047, 194.04824829101562, 2829.03759765625, 588.7367553710938, 212.34622192382812, 445.9427795410156, 291.6074523925781, 2329.483642578125, 216.08786010742188, 839.1943359375, 939.6416625976562, 3599.400634765625, 369.9031677246094, 358.6026306152344, 445.2673645019531, 804.6458129882812, 382.1340637207031, 335.6798400878906, 1193.232421875, 441.7486267089844, 1027.247314453125, 1731.7745361328125, 1624.1973876953125, 1155.5943603515625, 1155.5943603515625, 627.6190185546875, 451.0347900390625, 229.13462829589844, 216.72116088867188, 207.11724853515625, 192.49009704589844, 184.46876525878906, 180.45433044433594, 171.59124755859375, 166.8692169189453, 145.62869262695312, 145.57110595703125, 123.31900787353516, 111.87358093261719, 95.02701568603516, 92.09603881835938, 91.5321044921875, 90.84265899658203, 90.84265899658203, 89.58709716796875, 89.23796844482422, 85.93507385253906, 78.49609375, 74.67414093017578, 73.25972747802734, 70.52403259277344, 476.7657165527344, 1193.490478515625, 299.931884765625, 193.3056640625, 390.3208923339844, 166.46302795410156, 384.82073974609375, 231.99205017089844, 132.5560302734375, 739.48388671875, 125.20918273925781, 313.3616638183594, 1254.2071533203125, 539.0654296875, 2966.220947265625, 3599.400634765625, 479.73773193359375, 339.8646240234375, 272.8612365722656, 241.36776733398438, 222.75242614746094, 214.67616271972656, 208.44886779785156, 206.37374877929688, 152.00579833984375, 126.02073669433594, 125.01396179199219, 119.67335510253906, 113.63177490234375, 95.6895751953125, 91.38327026367188, 88.1500244140625, 85.75409698486328, 85.5612564086914, 84.5417709350586, 84.5417709350586, 84.5417709350586, 82.9488296508789, 79.20641326904297, 78.51651000976562, 78.28990173339844, 76.21819305419922, 70.8899154663086, 70.46826934814453, 67.35165405273438, 66.50334167480469, 61.116397857666016, 371.69293212890625, 241.95420837402344, 517.2828979492188, 202.4799346923828, 262.9180603027344, 1605.0439453125, 792.3028564453125, 298.9842529296875, 3714.219970703125, 2631.412353515625, 134.83544921875, 6749.85205078125, 150.5023193359375, 264.2546081542969, 922.2764892578125, 252.65304565429688, 1960.649169921875, 936.4392700195312, 568.7034301757812, 1624.477294921875, 404.15740966796875, 2153.193115234375, 544.2711791992188, 1920.0804443359375, 1094.3740234375, 556.2461547851562, 653.1818237304688, 652.4481811523438, 554.8723754882812, 501.63916015625, 501.63916015625, 501.63916015625, 461.63720703125, 461.63720703125, 461.63720703125, 461.63720703125, 398.9664611816406, 387.8088684082031, 342.5567321777344, 335.4284362792969, 304.24615478515625, 221.3502655029297, 189.65171813964844, 164.10231018066406, 138.69900512695312, 129.8318634033203, 128.49290466308594, 116.50456237792969, 113.88985443115234, 110.0543212890625, 100.73018646240234, 131.2015380859375, 83.62264251708984, 82.79011535644531, 82.74017333984375, 81.52446746826172, 80.94166564941406, 137.1834259033203, 354.7847900390625, 390.6871032714844, 224.91737365722656, 380.7493896484375, 382.44732666015625, 458.66748046875, 647.4552001953125, 314.7039794921875, 742.5490112304688, 892.88427734375, 662.9076538085938, 180.07534790039062, 973.43701171875, 3599.400634765625, 2829.03759765625, 327.5695495605469, 251.87380981445312, 233.70294189453125, 233.5096893310547, 232.02093505859375, 226.2310028076172, 186.85336303710938, 180.01268005371094, 133.45973205566406, 131.8502197265625, 127.31336212158203, 104.35044860839844, 104.35044860839844, 102.6830062866211, 102.67326354980469, 101.49754333496094, 100.96515655517578, 98.1456069946289, 95.2120590209961, 93.64000701904297, 90.86804962158203, 89.07169342041016, 87.89202880859375, 85.89340209960938, 84.04495239257812, 83.46969604492188, 76.06099700927734, 75.49968719482422, 75.22591400146484, 74.0556869506836, 609.154296875, 239.1646728515625, 535.1783447265625, 142.97364807128906, 228.10516357421875, 653.1818237304688, 742.5490112304688, 428.7942810058594, 161.68218994140625, 238.20477294921875, 230.0941162109375, 201.0717010498047, 335.90997314453125, 911.7916259765625, 231.30860900878906, 901.7048950195312, 403.4900207519531, 277.85498046875, 829.7161254882812, 1334.5660400390625, 792.3028564453125, 696.1267700195312, 348.56292724609375, 348.56292724609375, 188.43789672851562, 180.89657592773438, 162.91839599609375, 158.82101440429688, 134.12518310546875, 119.59141540527344, 114.16400146484375, 103.92330169677734, 103.3705825805664, 100.43424987792969, 93.19490051269531, 92.83424377441406, 92.18336486816406, 91.19902038574219, 88.65296936035156, 83.1197280883789, 77.4852523803711, 76.75091552734375, 74.34900665283203, 71.94657897949219, 70.1259536743164, 68.5718765258789, 65.30646514892578, 64.95011138916016, 62.483524322509766, 61.685672760009766, 61.678367614746094, 715.1867065429688, 213.44898986816406, 556.2363891601562, 892.88427734375, 157.78501892089844, 215.47775268554688, 870.9356079101562, 441.7486267089844, 202.22732543945312, 2661.753173828125, 632.1141967773438, 632.3202514648438, 204.9310302734375, 223.63140869140625, 2402.4296875, 501.8114013671875, 200.55360412597656, 742.3490600585938, 365.8081970214844, 750.4120483398438, 916.0155639648438, 3599.400634765625, 301.0845642089844, 358.6026306152344, 631.8403930664062, 397.2645568847656, 283.62359619140625, 251.47462463378906, 228.44497680664062, 208.42201232910156, 201.14283752441406, 197.02606201171875, 156.79722595214844, 139.0895233154297, 137.80819702148438, 137.1467742919922, 124.71554565429688, 124.48064422607422, 111.22974395751953, 110.87718963623047, 110.82816314697266, 105.9732894897461, 104.1027603149414, 93.90083312988281, 85.82897186279297, 79.52861022949219, 76.29336547851562, 74.61245727539062, 70.32266235351562, 67.32556915283203, 66.17243194580078, 65.60684967041016, 63.10596466064453, 57.216819763183594, 1026.9742431640625, 184.39425659179688, 359.8537902832031, 163.91192626953125, 829.7161254882812, 105.24005889892578, 761.1106567382812, 1606.477294921875, 177.82757568359375, 159.44778442382812, 391.6719055175781, 436.6905822753906, 372.4811706542969, 276.9940185546875, 432.1763610839844, 971.6738891601562, 521.4139404296875, 222.3802032470703, 254.0180206298828, 499.5175476074219, 911.7916259765625, 3260.857666015625, 516.8885498046875, 1605.0439453125, 322.36444091796875, 312.5885009765625, 303.4231262207031, 229.44293212890625, 208.99412536621094, 202.62815856933594, 199.0537872314453, 167.02227783203125, 163.14193725585938, 162.58119201660156, 158.12501525878906, 156.2783203125, 152.02342224121094, 151.39544677734375, 151.39544677734375, 135.4182586669922, 128.63160705566406, 126.189208984375, 110.70105743408203, 97.99273681640625, 97.4543685913086, 93.7352066040039, 93.6409683227539, 82.9582748413086, 82.9582748413086, 82.9582748413086, 78.66039276123047, 74.54670715332031, 73.16813659667969, 67.2708969116211, 362.4630432128906, 266.6127624511719, 325.7669372558594, 162.09352111816406, 282.47613525390625, 200.32843017578125, 160.62823486328125, 348.239990234375, 212.63101196289062, 662.19580078125, 1960.649169921875, 401.3577880859375, 513.3450317382812, 2625.597900390625, 534.2696533203125, 1573.4093017578125, 739.48388671875, 453.1876220703125, 2966.220947265625, 3599.400634765625, 6749.85205078125, 605.947998046875, 269.3428649902344, 258.2859802246094, 257.7303466796875, 196.32577514648438, 176.0303955078125, 174.32955932617188, 172.32887268066406, 166.00772094726562, 161.98382568359375, 154.8634490966797, 141.8686065673828, 137.38641357421875, 137.38641357421875, 131.0431365966797, 125.5849838256836, 119.80711364746094, 116.0473861694336, 116.0473861694336, 113.51433563232422, 101.15690612792969, 99.02586364746094, 91.30945587158203, 91.05091094970703, 89.44769287109375, 88.87065887451172, 88.87065887451172, 84.11538696289062, 73.68257904052734, 72.63385772705078, 217.772705078125, 286.0813903808594, 774.460693359375, 401.5077209472656, 287.6191711425781, 303.1826477050781, 447.776611328125, 486.89019775390625, 662.9076538085938, 336.14306640625, 282.6346740722656, 839.8369140625, 264.5926208496094, 372.31585693359375, 472.3518981933594, 1658.681396484375, 2329.483642578125, 1308.9925537109375, 539.0654296875, 702.5415649414062, 584.1893310546875, 431.33843994140625, 229.4632110595703, 214.6246337890625, 194.91627502441406, 182.23538208007812, 147.17355346679688, 120.55586242675781, 116.86952209472656, 105.22167205810547, 104.5222396850586, 103.05465698242188, 102.71640014648438, 96.7020263671875, 90.12239074707031, 88.28846740722656, 81.9481430053711, 74.09008026123047, 72.09492492675781, 61.29478073120117, 55.08153533935547, 54.01456069946289, 54.01456069946289, 53.89631271362305, 48.276302337646484, 47.44697189331055, 47.44697189331055, 45.77372360229492, 42.398250579833984, 175.0064239501953, 197.4105682373047, 346.320068359375, 839.8369140625, 257.2271423339844, 404.92529296875, 462.0786437988281, 1490.288330078125, 129.43775939941406, 808.172119140625, 214.62889099121094, 193.68856811523438, 452.0343322753906, 2870.520263671875, 2875.609375, 535.1783447265625, 2966.220947265625, 1573.4093017578125, 423.63970947265625, 739.48388671875, 446.271484375], \"loglift\": [30.0, 29.0, 28.0, 27.0, 26.0, 25.0, 24.0, 23.0, 22.0, 21.0, 20.0, 19.0, 18.0, 17.0, 16.0, 15.0, 14.0, 13.0, 12.0, 11.0, 10.0, 9.0, 8.0, 7.0, 6.0, 5.0, 4.0, 3.0, 2.0, 1.0, 2.6333000659942627, 2.6328999996185303, 2.631200075149536, 2.630199909210205, 2.6298000812530518, 2.6298000812530518, 2.6296000480651855, 2.6291000843048096, 2.6280999183654785, 2.628000020980835, 2.6277999877929688, 2.627700090408325, 2.6275999546051025, 2.6270999908447266, 2.6270999908447266, 2.6270999908447266, 2.6263999938964844, 2.6261000633239746, 2.625999927520752, 2.6250998973846436, 2.624799966812134, 2.6247000694274902, 2.6245999336242676, 2.6243999004364014, 2.623800039291382, 2.6236000061035156, 2.623300075531006, 2.623199939727783, 2.6229000091552734, 2.622499942779541, 2.5295000076293945, 2.4625000953674316, 2.558500051498413, 2.428299903869629, 2.413100004196167, 2.3724000453948975, 2.4382998943328857, 2.4407999515533447, 2.2767999172210693, 2.3729000091552734, 2.3336000442504883, 2.3868000507354736, 1.965499997138977, 2.1631999015808105, 0.6735000014305115, 1.7160999774932861, 1.3151999711990356, 0.9765999913215637, 1.2359000444412231, 1.8274999856948853, 0.6626999974250793, 1.2339999675750732, 0.5091999769210815, 0.5033000111579895, 2.6607000827789307, 2.6607000827789307, 2.659899950027466, 2.659899950027466, 2.6598000526428223, 2.659600019454956, 2.6584999561309814, 2.6579999923706055, 2.656599998474121, 2.656599998474121, 2.6563000679016113, 2.6561999320983887, 2.6552000045776367, 2.655100107192993, 2.654900074005127, 2.6542999744415283, 2.6538000106811523, 2.653599977493286, 2.6530001163482666, 2.6524999141693115, 2.6524999141693115, 2.6522998809814453, 2.6519999504089355, 2.6510000228881836, 2.650899887084961, 2.650599956512451, 2.6501998901367188, 2.6501998901367188, 2.6496999263763428, 2.6484999656677246, 2.6417999267578125, 2.5473999977111816, 2.5473999977111816, 2.4688000679016113, 2.522200107574463, 2.3152999877929688, 2.5539000034332275, 2.4458999633789062, 2.2435998916625977, 2.3338000774383545, 2.3150999546051025, 2.238800048828125, 1.808500051498413, 1.9973000288009644, 2.0195000171661377, 1.7512999773025513, 2.314300060272217, 1.5636999607086182, 1.1677000522613525, 0.6108999848365784, -0.374099999666214, 0.16580000519752502, 0.6823999881744385, 2.7430999279022217, 2.743000030517578, 2.743000030517578, 2.742300033569336, 2.7421000003814697, 2.742000102996826, 2.7414000034332275, 2.7414000034332275, 2.7411000728607178, 2.740499973297119, 2.7402000427246094, 2.7392001152038574, 2.7388999462127686, 2.7388999462127686, 2.7388999462127686, 2.7386999130249023, 2.73799991607666, 2.7376999855041504, 2.736999988555908, 2.7363998889923096, 2.7356998920440674, 2.735300064086914, 2.7346999645233154, 2.734499931335449, 2.7344000339508057, 2.7344000339508057, 2.734299898147583, 2.734299898147583, 2.734100103378296, 2.7339999675750732, 2.6774001121520996, 2.6591999530792236, 2.6570000648498535, 2.6816000938415527, 2.6547999382019043, 2.560699939727783, 2.5215001106262207, 2.4649999141693115, 2.3303000926971436, 2.0947999954223633, 2.117799997329712, 1.6943999528884888, 1.8854999542236328, 0.6510000228881836, 0.8619999885559082, 0.9973999857902527, 0.08900000154972076, 1.7071000337600708, 2.7867000102996826, 2.7867000102996826, 2.7862000465393066, 2.7862000465393066, 2.7852001190185547, 2.7852001190185547, 2.7852001190185547, 2.7850000858306885, 2.784899950027466, 2.7848000526428223, 2.783900022506714, 2.7822000980377197, 2.782099962234497, 2.7816998958587646, 2.7816998958587646, 2.7809998989105225, 2.7808001041412354, 2.7804999351501465, 2.780400037765503, 2.7802999019622803, 2.780100107192993, 2.7797999382019043, 2.779400110244751, 2.779400110244751, 2.7792000770568848, 2.778700113296509, 2.778599977493286, 2.77839994430542, 2.777100086212158, 2.777100086212158, 2.777100086212158, 2.7116000652313232, 2.705199956893921, 2.3991000652313232, 2.337899923324585, 2.3529999256134033, 2.290600061416626, 2.6015000343322754, 2.174999952316284, 2.41510009765625, 1.2457000017166138, 2.2720999717712402, 2.3508999347686768, 2.4453999996185303, 2.0947000980377197, 0.7168999910354614, 1.3805999755859375, 1.2903000116348267, 2.815500020980835, 2.8152999877929688, 2.81469988822937, 2.8145999908447266, 2.814199924468994, 2.8141000270843506, 2.813800096511841, 2.813800096511841, 2.8136000633239746, 2.813499927520752, 2.8134000301361084, 2.8131000995635986, 2.8129000663757324, 2.8129000663757324, 2.8122000694274902, 2.8118999004364014, 2.8115999698638916, 2.8111000061035156, 2.810800075531006, 2.8101999759674072, 2.8101999759674072, 2.8099000453948975, 2.8096001148223877, 2.8096001148223877, 2.809299945831299, 2.8090999126434326, 2.808199882507324, 2.8073999881744385, 2.807300090789795, 2.8071999549865723, 2.8071999549865723, 2.684000015258789, 2.662600040435791, 2.6919000148773193, 2.4800000190734863, 2.4683001041412354, 2.272200107574463, 2.4867000579833984, 1.9996000528335571, 2.367500066757202, 2.259500026702881, 1.3746000528335571, 2.0023999214172363, 2.0445001125335693, 1.4763000011444092, 1.9071999788284302, 2.2072999477386475, 1.8779000043869019, 2.1417999267578125, 0.7240999937057495, 1.7597999572753906, 2.1333000659942627, 0.7319999933242798, 0.31349998712539673, 0.98580002784729, 2.0764999389648438, 2.1089000701904297, 2.8417000770568848, 2.8415000438690186, 2.8415000438690186, 2.8415000438690186, 2.841200113296509, 2.8410000801086426, 2.8410000801086426, 2.8406999111175537, 2.8406999111175537, 2.840399980545044, 2.8403000831604004, 2.8403000831604004, 2.8401999473571777, 2.840100049972534, 2.840100049972534, 2.8396999835968018, 2.839099884033203, 2.8389999866485596, 2.8389999866485596, 2.83870005607605, 2.83870005607605, 2.838399887084961, 2.837399959564209, 2.8371999263763428, 2.8371999263763428, 2.835900068283081, 2.8348000049591064, 2.8345999717712402, 2.83270001411438, 2.83270001411438, 2.7832000255584717, 2.75819993019104, 2.7560999393463135, 2.647200107574463, 2.3329999446868896, 2.2153000831604004, 2.40310001373291, 2.0452001094818115, 2.4149999618530273, 2.3835999965667725, 1.2699999809265137, 1.3125, 2.1733999252319336, 0.9983999729156494, 1.486899971961975, 0.5328999757766724, 0.40720000863075256, 2.884999990463257, 2.8835999965667725, 2.8835999965667725, 2.8835999965667725, 2.883500099182129, 2.883500099182129, 2.8826000690460205, 2.8824000358581543, 2.882200002670288, 2.882200002670288, 2.881999969482422, 2.881999969482422, 2.881700038909912, 2.881700038909912, 2.881500005722046, 2.8812999725341797, 2.8810999393463135, 2.88070011138916, 2.8803000450134277, 2.879199981689453, 2.8784000873565674, 2.8777999877929688, 2.8777999877929688, 2.877700090408325, 2.877700090408325, 2.8775999546051025, 2.8775999546051025, 2.8773000240325928, 2.87719988822937, 2.877000093460083, 2.753499984741211, 2.775899887084961, 2.6812000274658203, 2.712599992752075, 2.7054998874664307, 2.5917000770568848, 2.698499917984009, 2.3886001110076904, 2.265199899673462, 2.36680006980896, 1.811400055885315, 2.147599935531616, 2.22379994392395, 2.091599941253662, 1.4053000211715698, 2.210700035095215, 1.3321000337600708, 0.5938000082969666, 0.025200000032782555, 1.062000036239624, 2.433199882507324, 0.24819999933242798, 2.9409000873565674, 2.9405999183654785, 2.93969988822937, 2.93969988822937, 2.9395999908447266, 2.938499927520752, 2.9384000301361084, 2.937700033187866, 2.9368999004364014, 2.9363999366760254, 2.9356000423431396, 2.9356000423431396, 2.9356000423431396, 2.9351000785827637, 2.934799909591675, 2.934799909591675, 2.934299945831299, 2.9335999488830566, 2.933500051498413, 2.9328999519348145, 2.932800054550171, 2.9319000244140625, 2.93149995803833, 2.9309000968933105, 2.930000066757202, 2.9296998977661133, 2.9296998977661133, 2.929500102996826, 2.9291999340057373, 2.9282000064849854, 2.828900098800659, 2.7506000995635986, 2.794600009918213, 2.712599992752075, 2.692699909210205, 2.72979998588562, 2.6424999237060547, 2.6405999660491943, 2.6291000843048096, 2.114500045776367, 1.6439000368118286, 2.140500068664551, 1.0651999711990356, 1.8776999711990356, 0.8629000186920166, 2.5624001026153564, 1.3937000036239624, 1.8386000394821167, 1.0508999824523926, 1.3299000263214111, 0.6273000240325928, 3.0257999897003174, 3.025399923324585, 3.0241000652313232, 3.0241000652313232, 3.0237998962402344, 3.023400068283081, 3.0223000049591064, 3.0220000743865967, 3.0220000743865967, 3.0204999446868896, 3.0204999446868896, 3.0195000171661377, 3.0188000202178955, 3.018399953842163, 3.0183000564575195, 3.018199920654297, 3.018199920654297, 3.017899990081787, 3.017400026321411, 3.0171000957489014, 3.015700101852417, 3.015700101852417, 3.015500068664551, 3.0148000717163086, 3.014400005340576, 3.013700008392334, 3.013400077819824, 3.0130999088287354, 3.012399911880493, 3.0123000144958496, 2.9433999061584473, 2.890199899673462, 2.887399911880493, 2.753000020980835, 2.6191000938415527, 2.378499984741211, 2.4602999687194824, 2.7054998874664307, 2.7760000228881836, 2.0557000637054443, 2.169100046157837, 2.384200096130371, 2.0989999771118164, 1.4536000490188599, 1.3667000532150269, 1.523800015449524, 2.3046000003814697, 2.170599937438965, 0.7770000100135803, 2.0792999267578125, 2.2074999809265137, 3.0427000522613525, 3.0425000190734863, 3.0425000190734863, 3.0422000885009766, 3.0418999195098877, 3.041599988937378, 3.0413999557495117, 3.041100025177002, 3.0406999588012695, 3.0404999256134033, 3.0401999950408936, 3.039400100708008, 3.039400100708008, 3.039299964904785, 3.0392000675201416, 3.039099931716919, 3.0374999046325684, 3.0371999740600586, 3.0369999408721924, 3.036799907684326, 3.036799907684326, 3.036400079727173, 3.036099910736084, 3.035900115966797, 3.0353000164031982, 3.034899950027466, 3.034600019454956, 3.0344998836517334, 3.0343000888824463, 3.0341999530792236, 2.9811999797821045, 2.9165000915527344, 2.931299924850464, 2.882699966430664, 2.8189001083374023, 2.8176000118255615, 2.7207999229431152, 1.153499960899353, 2.347100019454956, 2.3987998962402344, 0.9664000272750854, 2.0764000415802, 1.0009000301361084, 0.8944000005722046, 1.8413000106811523, 1.0356999635696411, 1.8214999437332153, 1.6282999515533447, 0.9786999821662903, 3.0596001148223877, 3.0596001148223877, 3.0587000846862793, 3.0580999851226807, 3.0571000576019287, 3.056999921798706, 3.0564000606536865, 3.0564000606536865, 3.0562000274658203, 3.055999994277954, 3.055999994277954, 3.0555999279022217, 3.0543999671936035, 3.0541000366210938, 3.0539000034332275, 3.0536999702453613, 3.0536999702453613, 3.052999973297119, 3.052500009536743, 3.052299976348877, 3.0520999431610107, 3.051300048828125, 3.051100015640259, 3.0501999855041504, 3.049999952316284, 3.0494000911712646, 3.04830002784729, 3.0476999282836914, 3.047600030899048, 3.046999931335449, 2.9718000888824463, 2.967099905014038, 2.974299907684326, 2.93969988822937, 2.446199893951416, 2.6935999393463135, 2.867000102996826, 2.6779000759124756, 2.72160005569458, 2.0065999031066895, 2.7553999423980713, 2.204900026321411, 2.1185998916625977, 1.4550000429153442, 2.476300001144409, 2.462899923324585, 2.3203999996185303, 1.9644999504089355, 2.310499906539917, 2.391700029373169, 1.3104000091552734, 2.0971999168395996, 1.2589000463485718, 3.062000036239624, 3.062000036239624, 3.0617001056671143, 3.0617001056671143, 3.0608999729156494, 3.060499906539917, 3.0583999156951904, 3.0580999851226807, 3.058000087738037, 3.0576000213623047, 3.0573999881744385, 3.057300090789795, 3.056999921798706, 3.05679988861084, 3.055999994277954, 3.055999994277954, 3.054800033569336, 3.053999900817871, 3.052500009536743, 3.0522000789642334, 3.0520999431610107, 3.052000045776367, 3.052000045776367, 3.0518999099731445, 3.051800012588501, 3.0513999462127686, 3.0504000186920166, 3.0497000217437744, 3.049499988555908, 3.0490000247955322, 2.9612998962402344, 2.9001998901367188, 2.9440999031066895, 2.949899911880493, 2.781899929046631, 2.8824000358581543, 2.5797998905181885, 2.664400100708008, 2.8534998893737793, 1.7493000030517578, 2.8506999015808105, 2.1117000579833984, 0.9718999862670898, 1.6484999656677246, 0.08330000191926956, -0.17800000309944153, 1.6986000537872314, 3.1152000427246094, 3.114500045776367, 3.1140999794006348, 3.1136999130249023, 3.113600015640259, 3.1133999824523926, 3.1133999824523926, 3.111799955368042, 3.1105000972747803, 3.1103999614715576, 3.110100030899048, 3.1096999645233154, 3.108099937438965, 3.107599973678589, 3.1071999073028564, 3.1068999767303467, 3.1068999767303467, 3.106800079345703, 3.106800079345703, 3.106800079345703, 3.106600046157837, 3.1059999465942383, 3.1059000492095947, 3.1059000492095947, 3.1054999828338623, 3.104599952697754, 3.1045000553131104, 3.1038999557495117, 3.1036999225616455, 3.102400064468384, 3.094399929046631, 2.9797000885009766, 2.8643999099731445, 2.952399969100952, 2.912100076675415, 2.584399938583374, 2.672100067138672, 2.7797999382019043, 2.036799907684326, 2.0896999835968018, 2.9512999057769775, 1.3457000255584717, 2.834399938583374, 2.5578999519348145, 1.9443999528884888, 2.558199882507324, 1.4598000049591064, 1.8348000049591064, 2.077699899673462, 1.3948999643325806, 2.2595999240875244, 1.1878999471664429, 2.067500114440918, 1.1818000078201294, 1.5384999513626099, 2.013200044631958, 1.881700038909912, 3.1375999450683594, 3.1373000144958496, 3.1370999813079834, 3.1370999813079834, 3.1370999813079834, 3.13700008392334, 3.13700008392334, 3.13700008392334, 3.13700008392334, 3.1366000175476074, 3.1366000175476074, 3.136199951171875, 3.136199951171875, 3.1359000205993652, 3.134700059890747, 3.134000062942505, 3.13319993019104, 3.1321001052856445, 3.1315999031066895, 3.131500005722046, 3.1308000087738037, 3.1305999755859375, 3.1303000450134277, 3.129499912261963, 3.128700017929077, 3.127500057220459, 3.1273999214172363, 3.1273999214172363, 3.12719988822937, 3.1270999908447266, 3.1231000423431396, 3.0464000701904297, 2.9855000972747803, 3.0060999393463135, 2.8573999404907227, 2.7374000549316406, 2.646699905395508, 2.5020999908447266, 2.746000051498413, 2.3613998889923096, 2.0673999786376953, 2.1445000171661377, 2.924499988555908, 1.6247999668121338, 0.5945000052452087, 0.6226000189781189, 3.1480000019073486, 3.1470999717712402, 3.1468000411987305, 3.1468000411987305, 3.1468000411987305, 3.1466000080108643, 3.1458001136779785, 3.1456000804901123, 3.143699884414673, 3.1435999870300293, 3.1433000564575195, 3.141700029373169, 3.141700029373169, 3.1414999961853027, 3.1414999961853027, 3.141400098800659, 3.141400098800659, 3.1410999298095703, 3.1407999992370605, 3.1405999660491943, 3.1403000354766846, 3.1401000022888184, 3.139899969100952, 3.139699935913086, 3.139400005340576, 3.139400005340576, 3.138200044631958, 3.1380999088287354, 3.1380999088287354, 3.1379001140594482, 2.9663000106811523, 2.9725000858306885, 2.7102999687194824, 2.9999001026153564, 2.8954999446868896, 2.6022000312805176, 2.5332999229431152, 2.6877999305725098, 2.952199935913086, 2.781599998474121, 2.7923998832702637, 2.842400074005127, 2.5850000381469727, 2.0717999935150146, 2.7014000415802, 1.9184000492095947, 2.197200059890747, 2.3796000480651855, 1.5256999731063843, 1.069000005722046, 1.4183000326156616, 3.178499937057495, 3.1772000789642334, 3.1772000789642334, 3.174799919128418, 3.1745998859405518, 3.1740000247955322, 3.1738998889923096, 3.172800064086914, 3.1719000339508057, 3.1714999675750732, 3.1707000732421875, 3.1707000732421875, 3.170300006866455, 3.1696999073028564, 3.169600009918213, 3.1695001125335693, 3.1693999767303467, 3.169100046157837, 3.1684000492095947, 3.16759991645813, 3.1675000190734863, 3.167099952697754, 3.166599988937378, 3.166300058364868, 3.1659998893737793, 3.165299892425537, 3.1651999950408936, 3.164599895477295, 3.164400100708008, 3.164400100708008, 3.0013999938964844, 3.0859999656677246, 2.8826000690460205, 2.7590999603271484, 3.0007998943328857, 2.9323999881744385, 2.5773000717163086, 2.632699966430664, 2.8545000553131104, 1.9766000509262085, 2.4393999576568604, 2.4296000003814697, 2.8122000694274902, 2.773900032043457, 1.7099000215530396, 2.393699884414673, 2.803100109100342, 2.0905001163482666, 2.4323999881744385, 1.9664000272750854, 1.7799999713897705, 0.6064000129699707, 2.4519999027252197, 2.2827000617980957, 3.220099925994873, 3.2191998958587646, 3.2181999683380127, 3.2177999019622803, 3.217400074005127, 3.2170000076293945, 3.2167999744415283, 3.2167000770568848, 3.2155001163482666, 3.2146999835968018, 3.2146999835968018, 3.214600086212158, 3.213900089263916, 3.213900089263916, 3.2130000591278076, 3.2130000591278076, 3.2130000591278076, 3.212599992752075, 3.212399959564209, 3.211400032043457, 3.2105000019073486, 3.2095999717712402, 3.2091000080108643, 3.2088000774383545, 3.2079999446868896, 3.20740008354187, 3.2070999145507812, 3.2070000171661377, 3.206399917602539, 3.204900026321411, 3.0908000469207764, 3.081700086593628, 2.9458999633789062, 3.049999952316284, 2.694700002670288, 3.1166999340057373, 2.623800039291382, 2.397200107574463, 2.958400011062622, 2.990600109100342, 2.6916000843048096, 2.6352999210357666, 2.690200090408325, 2.792099952697754, 2.61080002784729, 2.257699966430664, 2.4337000846862793, 2.825200080871582, 2.729300022125244, 2.2660000324249268, 1.7632999420166016, 0.6283000111579895, 2.0373001098632812, 0.9169999957084656, 3.2636001110076904, 3.2634999752044678, 3.263400077819824, 3.262399911880493, 3.26200008392334, 3.261899948120117, 3.2618000507354736, 3.2607998847961426, 3.260699987411499, 3.260699987411499, 3.260499954223633, 3.260499954223633, 3.2602999210357666, 3.2602999210357666, 3.2602999210357666, 3.259500026702881, 3.2590999603271484, 3.259000062942505, 3.2578999996185303, 3.2567999362945557, 3.2567999362945557, 3.2564001083374023, 3.2564001083374023, 3.255000114440918, 3.255000114440918, 3.255000114440918, 3.2544000148773193, 3.253700017929077, 3.253499984741211, 3.2523000240325928, 3.075200080871582, 3.098400115966797, 3.0660998821258545, 3.098099946975708, 2.9586000442504883, 3.0192999839782715, 3.0524001121520996, 2.809299945831299, 2.890399932861328, 2.3443000316619873, 1.6079000234603882, 2.4786999225616455, 2.283600091934204, 1.0261000394821167, 2.178100109100342, 1.2790000438690186, 1.8343000411987305, 2.2363998889923096, 0.5203999876976013, 0.27869999408721924, -0.4846000075340271, 3.303299903869629, 3.3013999462127686, 3.3011999130249023, 3.3011999130249023, 3.300100088119507, 3.299499988555908, 3.2994000911712646, 3.2994000911712646, 3.2992000579833984, 3.2990000247955322, 3.2987000942230225, 3.2981998920440674, 3.2980000972747803, 3.2980000972747803, 3.297600030899048, 3.297300100326538, 3.2969000339508057, 3.2967000007629395, 3.2967000007629395, 3.2964999675750732, 3.2955000400543213, 3.295300006866455, 3.2943999767303467, 3.2943999767303467, 3.2941999435424805, 3.294100046157837, 3.294100046157837, 3.2934999465942383, 3.2918999195098877, 3.2916998863220215, 3.1884000301361084, 3.1484999656677246, 2.9612998962402344, 3.0188000202178955, 2.952899932861328, 2.921799898147583, 2.600100040435791, 2.498699903488159, 2.3125998973846436, 2.5374999046325684, 2.636399984359741, 1.773300051689148, 2.660099983215332, 2.3891000747680664, 2.192199945449829, 1.0405999422073364, 0.7286999821662903, 1.1512000560760498, 1.9702999591827393, 3.5165998935699463, 3.516400098800659, 3.5157999992370605, 3.5137999057769775, 3.5136001110076904, 3.5130999088287354, 3.5127999782562256, 3.5114998817443848, 3.5100998878479004, 3.5099000930786133, 3.5088999271392822, 3.5088999271392822, 3.5088000297546387, 3.508699893951416, 3.5081000328063965, 3.5074000358581543, 3.507200002670288, 3.5064001083374023, 3.5051000118255615, 3.5048000812530518, 3.5023999214172363, 3.500699996948242, 3.5002999305725098, 3.5002999305725098, 3.5002999305725098, 3.498199939727783, 3.49780011177063, 3.49780011177063, 3.4971001148223877, 3.4953999519348145, 3.4693000316619873, 3.4453001022338867, 3.398099899291992, 3.2730000019073486, 3.3506999015808105, 3.063800096511841, 2.867799997329712, 2.3819000720977783, 3.18149995803833, 2.4820001125335693, 2.9795000553131104, 2.9683001041412354, 2.4344000816345215, 1.3177000284194946, 1.208400011062622, 2.294300079345703, 0.6218000054359436, 1.1066999435424805, 2.234800100326538, 1.5824999809265137, 2.067500114440918], \"logprob\": [30.0, 29.0, 28.0, 27.0, 26.0, 25.0, 24.0, 23.0, 22.0, 21.0, 20.0, 19.0, 18.0, 17.0, 16.0, 15.0, 14.0, 13.0, 12.0, 11.0, 10.0, 9.0, 8.0, 7.0, 6.0, 5.0, 4.0, 3.0, 2.0, 1.0, -3.657399892807007, -3.4166998863220215, -4.6753997802734375, -4.950699806213379, -5.031099796295166, -5.03249979019165, -5.09060001373291, -5.188199996948242, -5.3480000495910645, -5.370999813079834, -5.403299808502197, -5.418600082397461, -5.433700084686279, -5.497900009155273, -5.497900009155273, -5.497900009155273, -5.590099811553955, -5.624599933624268, -5.631899833679199, -5.735499858856201, -5.774499893188477, -5.77810001373291, -5.79610013961792, -5.807400226593018, -5.869100093841553, -5.890100002288818, -5.916100025177002, -5.928599834442139, -5.950099945068359, -5.986700057983398, -2.474100112915039, -2.5429999828338623, -4.60890007019043, -2.8647000789642334, -2.994499921798706, -2.8111000061035156, -3.779900074005127, -4.118199825286865, -2.8041000366210938, -4.853000164031982, -4.873300075531006, -5.1168999671936035, -4.574100017547607, -4.978099822998047, -3.476900100708008, -4.559199810028076, -4.270699977874756, -4.115900039672852, -4.330699920654297, -4.825799942016602, -4.085000038146973, -4.633600234985352, -4.463500022888184, -5.093900203704834, -2.897200107574463, -2.941699981689453, -3.774600028991699, -3.783799886703491, -3.8166000843048096, -3.9688000679016113, -4.479700088500977, -4.64739990234375, -4.991499900817871, -5.006199836730957, -5.0518999099731445, -5.083600044250488, -5.257599830627441, -5.280900001525879, -5.305300235748291, -5.403500080108643, -5.463399887084961, -5.4984002113342285, -5.574999809265137, -5.6269001960754395, -5.6269001960754395, -5.646900177001953, -5.689799785614014, -5.783699989318848, -5.794400215148926, -5.827300071716309, -5.862100124359131, -5.866600036621094, -5.909200191497803, -6.004000186920166, -4.197299957275391, -3.3366000652313232, -3.3366000652313232, -3.2581000328063965, -4.5777997970581055, -2.951200008392334, -5.153900146484375, -4.522500038146973, -3.8478000164031982, -4.585000038146973, -4.6819000244140625, -4.489299774169922, -3.9821999073028564, -4.349800109863281, -4.498799800872803, -4.281799793243408, -4.937600135803223, -4.546599864959717, -4.386199951171875, -4.483699798583984, -4.524499893188477, -4.613399982452393, -4.884300231933594, -2.4870998859405518, -2.575200080871582, -2.740600109100342, -3.517899990081787, -3.6770999431610107, -3.7708001136779785, -4.092800140380859, -4.126299858093262, -4.246300220489502, -4.455699920654297, -4.562900066375732, -4.820099830627441, -4.882500171661377, -4.885499954223633, -4.886099815368652, -4.934000015258789, -5.067699909210205, -5.120299816131592, -5.245100021362305, -5.334000110626221, -5.42080020904541, -5.4770002365112305, -5.54040002822876, -5.564899921417236, -5.573699951171875, -5.573699951171875, -5.590099811553955, -5.594099998474121, -5.605999946594238, -5.619200229644775, -3.2448999881744385, -3.3076999187469482, -3.8947999477386475, -4.3755998611450195, -4.41349983215332, -4.282700061798096, -4.52269983291626, -4.610799789428711, -4.356500148773193, -4.226900100708008, -4.55049991607666, -4.09630012512207, -4.472400188446045, -4.226900100708008, -4.499800205230713, -4.729499816894531, -4.690199851989746, -4.833499908447266, -2.660799980163574, -2.660799980163574, -3.330699920654297, -3.3635001182556152, -4.03380012512207, -4.035600185394287, -4.049699783325195, -4.139100074768066, -4.196000099182129, -4.23960018157959, -4.552499771118164, -4.964099884033203, -4.978499889373779, -5.0528998374938965, -5.055099964141846, -5.164999961853027, -5.202199935913086, -5.247300148010254, -5.2621002197265625, -5.281899929046631, -5.304200172424316, -5.342400074005127, -5.394100189208984, -5.394100189208984, -5.422500133514404, -5.491199970245361, -5.500100135803223, -5.514599800109863, -5.6596999168396, -5.660699844360352, -5.660699844360352, -3.6205999851226807, -4.014500141143799, -3.261899948120117, -3.5297000408172607, -3.7946999073028564, -3.9539999961853027, -4.887700080871582, -3.8224000930786133, -4.791100025177002, -3.632200002670288, -4.7758002281188965, -4.858500003814697, -4.997600078582764, -4.86269998550415, -4.255799770355225, -4.744999885559082, -4.798299789428711, -4.424900054931641, -4.500500202178955, -4.615099906921387, -4.68720006942749, -4.792900085449219, -4.8028998374938965, -4.865099906921387, -4.876800060272217, -4.911900043487549, -4.938799858093262, -4.95550012588501, -5.0096001625061035, -5.0432000160217285, -5.046999931335449, -5.152100086212158, -5.196000099182129, -5.238999843597412, -5.314599990844727, -5.353400230407715, -5.43179988861084, -5.43179988861084, -5.457499980926514, -5.49370002746582, -5.495100021362305, -5.531400203704834, -5.549300193786621, -5.636600017547607, -5.714700222015381, -5.720399856567383, -5.732800006866455, -5.732800006866455, -3.508699893951416, -4.042799949645996, -4.44980001449585, -3.117300033569336, -4.0208001136779785, -3.8276000022888184, -4.587299823760986, -3.3870999813079834, -4.423600196838379, -4.38730001449585, -2.7757999897003174, -4.160999774932861, -4.2505998611450195, -3.496299982070923, -4.203100204467773, -4.542200088500977, -4.366700172424316, -4.652699947357178, -4.055099964141846, -4.6020002365112305, -4.733500003814697, -4.362599849700928, -4.434299945831299, -4.60099983215332, -4.75540018081665, -4.790599822998047, -3.7811999320983887, -3.9377999305725098, -3.9377999305725098, -3.9377999305725098, -4.061600208282471, -4.148900032043457, -4.148900032043457, -4.249899864196777, -4.249899864196777, -4.359499931335449, -4.417699813842773, -4.410999774932861, -4.439700126647949, -4.4532999992370605, -4.474999904632568, -4.575500011444092, -4.7434000968933105, -4.748700141906738, -4.748700141906738, -4.82390022277832, -4.824699878692627, -4.882999897003174, -5.060299873352051, -5.092800140380859, -5.107500076293945, -5.287700176239014, -5.426400184631348, -5.448999881744385, -5.649400234222412, -5.649799823760986, -3.3050999641418457, -4.349400043487549, -4.423600196838379, -4.532599925994873, -3.636699914932251, -3.391400098800659, -4.137499809265137, -3.726099967956543, -4.472300052642822, -4.492499828338623, -3.8245999813079834, -4.26230001449585, -4.534200191497803, -4.268099784851074, -4.396399974822998, -4.345099925994873, -4.372000217437744, -3.6863999366760254, -4.316100120544434, -4.316100120544434, -4.319399833679199, -4.347099781036377, -4.35290002822876, -4.602499961853027, -4.650199890136719, -4.695700168609619, -4.695700168609619, -4.743800163269043, -4.743800163269043, -4.808300018310547, -4.811100006103516, -4.845200061798096, -4.884200096130371, -4.9197998046875, -4.988699913024902, -5.061699867248535, -5.226200103759766, -5.329800128936768, -5.39709997177124, -5.401100158691406, -5.403800010681152, -5.411300182342529, -5.420000076293945, -5.420000076293945, -5.4552001953125, -5.469699859619141, -5.48769998550415, -4.099400043487549, -4.466599941253662, -3.6689000129699707, -4.109499931335449, -4.080699920654297, -4.027400016784668, -4.720799922943115, -3.8278000354766846, -3.56820011138916, -3.929800033569336, -3.2809998989105225, -3.993299961090088, -4.243199825286865, -4.106599807739258, -3.689300060272217, -4.495200157165527, -4.253799915313721, -4.185400009155273, -4.125199794769287, -4.4918999671936035, -4.692699909210205, -4.629799842834473, -3.0641000270843506, -3.3073999881744385, -3.9175000190734863, -3.9175000190734863, -3.943000078201294, -4.360300064086914, -4.378699779510498, -4.575399875640869, -4.7617998123168945, -4.845200061798096, -4.9878997802734375, -4.996699810028076, -4.996699810028076, -5.0706000328063965, -5.116399765014648, -5.1209001541137695, -5.183800220489502, -5.268700122833252, -5.28849983215332, -5.362100124359131, -5.3694000244140625, -5.462900161743164, -5.508200168609619, -5.565000057220459, -5.63670015335083, -5.669000148773193, -5.669000148773193, -5.685800075531006, -5.704400062561035, -5.783400058746338, -3.4502999782562256, -2.6112000942230225, -3.799499988555908, -4.095900058746338, -4.015399932861328, -4.828499794006348, -4.574900150299072, -4.646900177001953, -4.66379976272583, -3.460200071334839, -3.1038999557495117, -4.192399978637695, -3.0852999687194824, -4.2221999168396, -4.014999866485596, -4.950200080871582, -4.695000171661377, -4.839200019836426, -4.782599925994873, -4.945400238037109, -4.939300060272217, -3.1998000144958496, -3.5002999305725098, -4.136000156402588, -4.136000156402588, -4.220799922943115, -4.3541998863220215, -4.61929988861084, -4.674499988555908, -4.685800075531006, -4.9440999031066895, -4.948800086975098, -5.092100143432617, -5.17710018157959, -5.230299949645996, -5.242099761962891, -5.246300220489502, -5.246300220489502, -5.287799835205078, -5.3403000831604, -5.364500045776367, -5.499300003051758, -5.503399848937988, -5.518599987030029, -5.5833001136779785, -5.609799861907959, -5.66949987411499, -5.6880998611450195, -5.713399887084961, -5.758999824523926, -5.766600131988525, -3.6533000469207764, -4.189799785614014, -4.3119001388549805, -3.894200086593628, -3.6582000255584717, -2.8357999324798584, -3.661900043487549, -4.511600017547607, -4.840700149536133, -2.9642999172210693, -3.864000082015991, -4.637700080871582, -4.541100025177002, -4.100399971008301, -4.199900150299072, -4.359499931335449, -4.84689998626709, -4.795300006866455, -4.317699909210205, -4.820199966430664, -4.84689998626709, -3.955699920654297, -4.0081000328063965, -4.0121002197265625, -4.132699966430664, -4.223499774932861, -4.33050012588501, -4.386499881744385, -4.458199977874756, -4.554999828338623, -4.59250020980835, -4.66540002822876, -4.814899921417236, -4.817699909210205, -4.820099830627441, -4.836400032043457, -4.868299961090088, -5.102099895477295, -5.131400108337402, -5.1570000648498535, -5.186500072479248, -5.186999797821045, -5.23390007019043, -5.2683000564575195, -5.2845001220703125, -5.351500034332275, -5.388700008392334, -5.422399997711182, -5.430099964141846, -5.44980001449585, -5.461100101470947, -3.3657000064849854, -3.7925000190734863, -4.252200126647949, -3.900899887084961, -4.1350998878479, -4.360499858856201, -4.269499778747559, -2.9969000816345215, -4.444200038909912, -4.666800022125244, -3.781399965286255, -4.570499897003174, -3.9718000888824463, -3.9835000038146973, -4.480299949645996, -4.230800151824951, -4.667699813842773, -4.644599914550781, -4.608099937438965, -3.8357999324798584, -3.8357999324798584, -4.186699867248535, -4.343699932098389, -4.583000183105469, -4.61299991607666, -4.724599838256836, -4.728499889373779, -4.759900093078613, -4.8024001121521, -4.8024001121521, -4.750800132751465, -5.053100109100342, -5.0868000984191895, -5.114500045776367, -5.1367998123168945, -5.1367998123168945, -5.224400043487549, -5.277699947357178, -5.294400215148926, -5.320400238037109, -5.3979997634887695, -5.423399925231934, -5.499199867248535, -5.5208001136779785, -5.565999984741211, -5.651199817657471, -5.694900035858154, -5.704599857330322, -5.746500015258789, -3.6842000484466553, -4.217400074005127, -4.892399787902832, -4.759900093078613, -2.5738000869750977, -3.8961000442504883, -4.742499828338623, -4.189599990844727, -4.570700168609619, -3.20770001411438, -4.836599826812744, -4.030399799346924, -4.003600120544434, -3.324199914932251, -4.578199863433838, -4.622600078582764, -4.548600196838379, -4.31279993057251, -4.711400032043457, -4.759900093078613, -4.572800159454346, -4.779699802398682, -4.774199962615967, -2.4488000869750977, -2.5129001140594482, -2.853600025177002, -2.853600025177002, -3.4647998809814453, -3.7957000732421875, -4.474999904632568, -4.531000137329102, -4.576499938964844, -4.650000095367432, -4.692800045013428, -4.714900016784668, -4.765600204467773, -4.793600082397461, -4.930600166320801, -4.931099891662598, -5.098100185394287, -5.196300029754639, -5.361000061035156, -5.3927001953125, -5.398900032043457, -5.406499862670898, -5.406499862670898, -5.420599937438965, -5.424600124359131, -5.462699890136719, -5.554299831390381, -5.604800224304199, -5.624199867248535, -5.662799835205078, -3.839400053024292, -2.9828999042510986, -4.320000171661377, -4.753600120544434, -4.218800067901611, -4.9704999923706055, -4.435100078582764, -4.856599807739258, -5.227200031280518, -4.612400054931641, -5.2870001792907715, -5.10860013961792, -4.861599922180176, -5.029300212860107, -4.889400005340576, -4.957200050354004, -5.095900058746338, -4.023900032043457, -4.244200229644775, -4.367300033569336, -4.44789981842041, -4.485000133514404, -4.514599800109863, -4.524600028991699, -4.831999778747559, -5.0208001136779785, -5.028900146484375, -5.07289981842041, -5.125100135803223, -5.298500061035156, -5.34499979019165, -5.381400108337402, -5.409299850463867, -5.411600112915039, -5.423699855804443, -5.423699855804443, -5.423699855804443, -5.44290018081665, -5.48960018157959, -5.498499870300293, -5.501399993896484, -5.528600215911865, -5.6020002365112305, -5.607999801635742, -5.653900146484375, -5.6666998863220215, -5.752500057220459, -3.955199956893921, -4.499199867248535, -3.8547000885009766, -4.704699993133545, -4.483799934387207, -3.0023999214172363, -3.6205999851226807, -4.487500190734863, -2.710900068283081, -3.002700090408325, -5.112400054931641, -2.8046998977661133, -5.1194000244140625, -4.832900047302246, -4.196400165557861, -4.877500057220459, -3.9268999099731445, -4.290800094604492, -4.5467000007629395, -4.179900169372559, -4.706200122833252, -4.105000019073486, -4.600800037384033, -4.2256999015808105, -4.43120002746582, -4.633299827575684, -4.604100227355957, -3.349400043487549, -3.511699914932251, -3.6126999855041504, -3.6126999855041504, -3.6126999855041504, -3.696000099182129, -3.696000099182129, -3.696000099182129, -3.696000099182129, -3.8422000408172607, -3.8705999851226807, -3.994999885559082, -4.01609992980957, -4.113999843597412, -4.433300018310547, -4.588500022888184, -4.734000205993652, -4.903299808502197, -4.969799995422363, -4.980299949645996, -5.078999996185303, -5.101900100708008, -5.13640022277832, -5.225800037384033, -4.962299823760986, -5.413899898529053, -5.423999786376953, -5.424600124359131, -5.439599990844727, -5.446800231933594, -4.923299789428711, -4.049799919128418, -4.0142998695373535, -4.545899868011475, -4.1682000160217285, -4.283699989318848, -4.192599773406982, -3.992500066757202, -4.470099925994873, -3.9962000846862793, -4.105899810791016, -4.326600074768066, -4.849800109863281, -4.462100028991699, -4.184599876403809, -4.39739990234375, -4.0279998779296875, -4.2916998863220215, -4.3668999671936035, -4.367700099945068, -4.374100208282471, -4.399499893188477, -4.591599941253662, -4.6290998458862305, -4.930200099945068, -4.942399978637695, -4.977700233459473, -5.178299903869629, -5.178299903869629, -5.194499969482422, -5.1946001052856445, -5.206200122833252, -5.211599826812744, -5.240200042724609, -5.2708001136779785, -5.287600040435791, -5.317999839782715, -5.338200092315674, -5.351600170135498, -5.374899864196777, -5.396900177001953, -5.403900146484375, -5.497900009155273, -5.50540018081665, -5.509099960327148, -5.525000095367432, -3.589400053024292, -4.51800012588501, -3.9748001098632812, -5.005099773406982, -4.642399787902832, -3.8835999965667725, -3.8243000507354736, -4.218900203704834, -4.929800033569336, -4.7129998207092285, -4.736800193786621, -4.821599960327148, -4.565800189971924, -4.08050012588501, -4.822500228881836, -4.244999885559082, -4.770299911499023, -4.960999965667725, -4.720900058746338, -4.702300071716309, -4.874499797821045, -3.2437000274658203, -3.9367001056671143, -3.9367001056671143, -4.554100036621094, -4.595099925994873, -4.700399875640869, -4.72599983215332, -4.896100044250488, -5.01170015335083, -5.058499813079834, -5.153299808502197, -5.158699989318848, -5.18779993057251, -5.263299942016602, -5.267300128936768, -5.274400234222412, -5.285200119018555, -5.313799858093262, -5.379000186920166, -5.449999809265137, -5.459700107574463, -5.4918999671936035, -5.525100231170654, -5.55109977722168, -5.573800086975098, -5.623300075531006, -5.628900051116943, -5.6682000160217285, -5.68120002746582, -5.681399822235107, -3.393699884414673, -4.5183000564575195, -3.7639000415802, -3.414099931716919, -4.905700206756592, -4.662399768829346, -3.620800018310547, -4.24429988861084, -4.803800106048584, -3.1043999195098877, -4.0792999267578125, -4.088699817657471, -4.832799911499023, -4.78380012512207, -3.473599910736084, -4.3557000160217285, -4.863500118255615, -4.267300128936768, -4.633200168609619, -4.38070011138916, -4.367700099945068, -4.172699928283691, -4.808300018310547, -4.802800178527832, -3.2990000247955322, -3.7639000415802, -4.101799964904785, -4.222599983215332, -4.318999767303467, -4.411099910736084, -4.446800231933594, -4.467599868774414, -4.697199821472168, -4.817800045013428, -4.827199935913086, -4.831999778747559, -4.927700042724609, -4.929599761962891, -5.043099880218506, -5.046299934387207, -5.0467000007629395, -5.091899871826172, -5.109899997711182, -5.214000225067139, -5.304900169372559, -5.381999969482422, -5.423999786376953, -5.446599960327148, -5.5065999031066895, -5.55079984664917, -5.568299770355225, -5.577000141143799, -5.616399765014648, -5.716000080108643, -2.9426000118255615, -4.668900012969971, -4.136099815368652, -4.818299770355225, -3.5518999099731445, -5.194699764251709, -3.7091000080108643, -3.188699960708618, -4.828499794006348, -4.905399799346924, -4.305699825286865, -4.253200054168701, -4.3572998046875, -4.551599979400635, -4.288000106811523, -3.8310000896453857, -4.277500152587891, -4.738100051879883, -4.701000213623047, -4.48799991607666, -4.388999938964844, -4.249599933624268, -4.682499885559082, -4.6697998046875, -3.9284000396728516, -3.9593000411987305, -3.9892001152038574, -4.269599914550781, -4.363399982452393, -4.394499778747559, -4.412399768829346, -4.588699817657471, -4.612400054931641, -4.615799903869629, -4.643799781799316, -4.655600070953369, -4.6834001541137695, -4.6875, -4.6875, -4.799799919128418, -4.851600170135498, -4.8709001541137695, -5.002900123596191, -5.125999927520752, -5.131499767303467, -5.17080020904541, -5.171899795532227, -5.294300079345703, -5.294300079345703, -5.294300079345703, -5.348100185394287, -5.402500152587891, -5.42140007019043, -5.5065999031066895, -3.9995999336242676, -4.2835001945495605, -4.115499973297119, -4.781400203704834, -4.365499973297119, -4.648399829864502, -4.83620023727417, -4.305500030517578, -4.717700004577637, -4.127799987792969, -3.7788000106811523, -4.494100093841553, -4.4430999755859375, -4.068600177764893, -4.508699893951416, -4.327700138092041, -4.527400016784668, -4.614999771118164, -4.452199935913086, -4.500400066375732, -4.635000228881836, -3.2576000690460205, -4.070300102233887, -4.112400054931641, -4.11460018157959, -4.387899875640869, -4.497499942779541, -4.507299900054932, -4.518899917602539, -4.55649995803833, -4.581200122833252, -4.626399993896484, -4.714600086212158, -4.7469000816345215, -4.7469000816345215, -4.79449987411499, -4.837399959564209, -4.884900093078613, -4.916999816894531, -4.916999816894531, -4.939300060272217, -5.055600166320801, -5.077099800109863, -5.158999919891357, -5.161900043487549, -5.179800033569336, -5.186399936676025, -5.186399936676025, -5.242000102996826, -5.375999927520752, -5.390500068664551, -4.3958001136779785, -4.162899971008301, -3.3541998863220215, -3.953700065612793, -4.3531999588012695, -4.331600189208984, -4.263299942016602, -4.280900001525879, -4.1585001945495605, -4.612599849700928, -4.687099933624268, -4.46120023727417, -4.729400157928467, -4.658899784088135, -4.617800235748291, -4.513299942016602, -4.485599994659424, -4.639500141143799, -4.707600116729736, -2.896399974822998, -3.0810999870300293, -3.384999990463257, -4.018099784851074, -4.08519983291626, -4.182000160217285, -4.249599933624268, -4.464600086212158, -4.665500164031982, -4.696800231933594, -4.802700042724609, -4.8094000816345215, -4.823699951171875, -4.827000141143799, -4.887899875640869, -4.959099769592285, -4.979899883270264, -5.055200099945068, -5.157299995422363, -5.184899806976318, -5.349599838256836, -5.458199977874756, -5.478099822998047, -5.478099822998047, -5.480400085449219, -5.592599868774414, -5.610199928283691, -5.610199928283691, -5.646900177001953, -5.725200176239014, -4.333600044250488, -4.237100124359131, -3.7221999168395996, -2.9614999294281006, -4.066999912261963, -3.9001998901367188, -3.964200019836426, -3.2790000438690186, -4.922999858856201, -3.7909998893737793, -4.61929988861084, -4.733099937438965, -4.41949987411499, -3.6877999305725098, -3.795300006866455, -4.3907999992370605, -4.350800037384033, -4.5, -4.684000015258789, -4.779200077056885, -4.799300193786621]}, \"token.table\": {\"Topic\": [2, 9, 10, 11, 5, 9, 18, 7, 10, 11, 2, 7, 8, 14, 19, 20, 10, 20, 9, 5, 15, 15, 1, 7, 17, 17, 13, 2, 4, 10, 16, 1, 6, 7, 3, 17, 2, 12, 10, 17, 1, 10, 1, 14, 2, 10, 17, 8, 19, 7, 19, 6, 7, 11, 1, 15, 16, 13, 11, 16, 2, 15, 8, 13, 2, 5, 6, 15, 15, 1, 12, 17, 4, 20, 13, 16, 17, 2, 9, 10, 13, 14, 15, 10, 10, 3, 4, 6, 12, 15, 16, 17, 5, 8, 14, 8, 20, 2, 4, 5, 6, 9, 11, 13, 15, 19, 1, 13, 17, 10, 13, 17, 6, 13, 3, 9, 12, 2, 7, 1, 17, 6, 9, 11, 14, 11, 10, 13, 18, 10, 14, 20, 8, 9, 15, 17, 19, 1, 4, 10, 15, 17, 20, 3, 6, 10, 2, 16, 1, 18, 14, 15, 8, 18, 8, 12, 14, 4, 15, 13, 16, 9, 11, 9, 11, 14, 18, 18, 5, 13, 1, 13, 7, 16, 1, 10, 20, 15, 6, 14, 5, 12, 13, 14, 16, 6, 17, 1, 4, 5, 8, 10, 10, 16, 20, 20, 15, 18, 14, 10, 13, 14, 15, 18, 12, 20, 18, 4, 19, 1, 3, 10, 13, 16, 1, 5, 16, 20, 9, 2, 7, 7, 5, 3, 14, 6, 6, 6, 19, 3, 6, 7, 11, 3, 8, 5, 2, 2, 7, 10, 13, 17, 19, 6, 12, 13, 17, 20, 18, 5, 12, 9, 15, 9, 4, 6, 13, 3, 5, 6, 8, 15, 3, 20, 1, 4, 4, 11, 2, 15, 3, 16, 3, 10, 16, 13, 14, 11, 17, 18, 10, 5, 9, 12, 7, 15, 19, 19, 8, 2, 4, 14, 16, 17, 1, 2, 4, 5, 6, 7, 8, 10, 11, 12, 13, 15, 18, 20, 6, 5, 12, 2, 20, 11, 1, 19, 15, 10, 8, 2, 8, 6, 10, 13, 7, 10, 12, 14, 17, 5, 8, 4, 18, 15, 5, 13, 12, 9, 1, 4, 9, 11, 12, 19, 3, 13, 5, 8, 18, 9, 6, 3, 10, 5, 8, 9, 12, 1, 12, 10, 10, 16, 13, 17, 19, 5, 11, 6, 10, 11, 18, 20, 3, 5, 6, 8, 17, 18, 20, 14, 2, 4, 2, 6, 13, 18, 8, 10, 10, 7, 4, 5, 14, 20, 4, 8, 11, 10, 8, 14, 9, 11, 1, 10, 3, 11, 12, 20, 2, 15, 7, 3, 13, 15, 8, 4, 18, 8, 8, 12, 9, 1, 6, 5, 6, 14, 16, 5, 16, 7, 13, 9, 5, 6, 10, 13, 14, 16, 18, 9, 11, 19, 16, 1, 18, 11, 2, 13, 16, 8, 8, 4, 1, 13, 12, 1, 13, 19, 2, 16, 2, 20, 13, 7, 1, 16, 19, 6, 5, 6, 10, 13, 19, 7, 20, 6, 18, 14, 14, 3, 18, 5, 8, 1, 7, 14, 17, 18, 9, 10, 5, 20, 14, 2, 16, 1, 5, 13, 17, 20, 7, 18, 6, 12, 14, 17, 4, 5, 11, 3, 9, 10, 11, 10, 15, 18, 19, 15, 13, 17, 20, 1, 20, 1, 17, 1, 16, 7, 3, 13, 16, 20, 11, 7, 15, 17, 11, 3, 3, 15, 4, 1, 14, 10, 18, 1, 15, 7, 12, 15, 16, 19, 5, 7, 2, 7, 4, 20, 5, 10, 19, 7, 14, 4, 9, 13, 5, 12, 18, 20, 13, 9, 11, 4, 1, 2, 5, 10, 18, 17, 2, 5, 13, 17, 7, 1, 7, 14, 17, 12, 15, 19, 3, 15, 17, 20, 5, 11, 10, 10, 10, 14, 4, 11, 17, 18, 19, 4, 8, 3, 4, 17, 4, 16, 6, 20, 19, 3, 3, 8, 20, 2, 5, 6, 7, 10, 15, 16, 18, 20, 17, 13, 1, 7, 4, 13, 10, 12, 13, 14, 18, 12, 5, 6, 17, 20, 18, 14, 13, 12, 7, 18, 2, 6, 16, 20, 2, 20, 3, 3, 15, 14, 3, 17, 9, 15, 1, 17, 2, 14, 6, 9, 12, 14, 18, 10, 5, 13, 16, 7, 10, 1, 6, 8, 10, 14, 5, 10, 1, 2, 5, 7, 8, 10, 13, 14, 17, 18, 1, 8, 13, 1, 5, 20, 5, 1, 7, 20, 5, 13, 16, 1, 13, 16, 15, 1, 7, 2, 17, 20, 16, 12, 2, 17, 20, 3, 17, 11, 1, 13, 16, 12, 14, 11, 16, 16, 5, 18, 7, 19, 9, 12, 2, 1, 4, 7, 3, 4, 6, 8, 13, 18, 2, 20, 9, 16, 3, 11, 14, 7, 3, 3, 7, 10, 16, 9, 18, 17, 1, 11, 14, 19, 3, 8, 20, 1, 3, 2, 5, 8, 8, 13, 19, 15, 1, 15, 7, 16, 11, 3, 5, 11, 19, 18, 4, 17, 2, 16, 20, 15, 17, 8, 16, 17, 16, 6, 9, 6, 14, 3, 14, 16, 17, 19, 7, 18, 13, 16, 5, 9, 10, 18, 2, 5, 6, 7, 9, 10, 11, 15, 16, 18, 3, 11, 14, 19, 4, 19, 19, 16, 20, 20, 17, 8, 4, 2, 3, 4, 7, 9, 11, 14, 15, 16, 17, 6, 2, 5, 10, 11, 15, 20, 12, 20, 16, 3, 1, 15, 3, 3, 18, 5, 17, 8, 17, 2, 6, 10, 16, 19, 5, 10, 13, 14, 17, 15, 19, 6, 1, 7, 11, 13, 16, 17, 5, 6, 9, 11, 14, 2, 1, 11, 2, 11, 5, 13, 2, 12, 19, 9, 5, 19, 18, 7, 3, 1, 12, 2, 8, 6, 19, 12, 20, 9, 15, 20, 2, 7, 9, 10, 11, 12, 13, 14, 16, 19, 17, 9, 13, 15, 16, 3, 4, 4, 9, 3, 4, 7, 14, 19, 5, 6, 13, 16, 2, 9, 4, 5, 6, 8, 12, 13, 14, 17, 15, 16, 18, 1, 7, 13, 15, 19, 17, 3, 6, 14, 12, 20, 20, 2, 14, 5, 19, 7, 8, 13, 2, 15, 19, 20, 2, 3, 18, 10, 18, 8, 5, 10, 2, 12, 16, 5, 9, 9, 12, 15, 10, 17, 11, 12, 10, 1, 8, 15, 17, 19, 1, 17, 1, 13, 2, 16, 10, 16, 9, 19, 11, 2, 12, 16, 4, 8, 9, 17, 13, 15, 3, 13, 19, 19, 13, 2, 4, 8, 20, 17, 17, 12, 10, 9, 5, 12, 18, 20, 4, 9, 11, 3, 8, 13, 16, 12, 6, 7, 13, 17, 7, 2, 4, 12, 3, 11, 1, 5, 9, 6, 14, 16, 20, 9, 17, 2, 14, 2, 16, 4, 7, 16, 4, 18, 5, 2, 3, 4, 5, 6, 7, 8, 10, 11, 12, 14, 15, 16, 18, 1, 2, 4, 1, 2, 3, 5, 7, 8, 9, 11, 14, 15, 16, 6, 12, 9, 1, 7, 19, 14, 2, 17, 9, 10, 15, 18, 19, 19, 11, 18, 7, 3, 6, 9, 10, 11, 12, 19, 15, 17, 17, 7, 6, 14, 16, 17, 19, 20, 9, 12, 19, 9, 5, 16, 4, 1, 2, 3, 4, 5, 6, 7, 8, 9, 10, 12, 16, 17, 18, 6, 13, 19, 20, 4, 7, 4, 13, 1, 9, 11, 7, 8, 13, 16, 19, 2, 5, 7, 8, 17, 10, 19, 5, 18, 11, 20, 3, 11, 15, 11, 20, 5, 13, 8, 2, 1, 7, 12, 18, 8, 6, 2, 3, 18, 2, 3, 11, 18, 19, 2, 4, 7, 13, 17, 11, 16, 9, 19, 3, 6, 2, 6, 11, 3, 5, 11, 3, 9, 18, 4, 19, 5, 11, 3, 4, 6, 10, 18, 17, 8, 8, 13, 10, 6, 2, 8, 12, 19, 12, 14, 7, 9, 6, 6, 18, 4, 16, 9, 6, 11, 16, 20, 1, 20, 17, 15, 13, 1, 10, 12, 7, 15, 9, 19, 9, 11, 18, 14, 18, 3, 11, 7, 15, 19, 11, 3, 8, 13, 4, 17, 19, 8, 20, 14, 2, 15, 7, 15, 9, 11, 18, 17, 15, 15, 2, 3, 7, 4, 6, 14, 12, 12, 4, 14, 18, 4, 5, 8, 16, 17, 18, 4, 17, 1, 11, 19, 9, 4, 11, 12, 15, 4, 3, 15, 6, 5, 19, 20, 9, 15, 16, 10, 13, 5, 4, 7, 11, 13, 17, 8, 11, 13, 18, 12, 13, 17, 12, 4, 5, 1, 6, 14, 10, 5, 8, 14, 12, 2, 5, 9, 18, 20, 2, 18, 8, 17, 9, 8, 17, 10, 17, 3, 17, 8, 10, 9, 1, 11, 1, 19, 20, 6, 4, 4, 19, 18, 11, 15, 16, 12, 1, 4, 5, 6, 8, 10, 13, 3, 20, 5, 17, 6, 12, 20, 15, 7, 11, 18, 10, 19, 9, 11, 19, 5, 9, 2, 20, 5, 2, 18, 1, 4, 7, 10, 13, 15, 20, 8, 20, 5, 6, 7, 13, 9, 15, 2, 9, 16, 3, 4, 9, 16, 13, 9, 10, 11, 12, 15, 17, 19, 10, 18, 15, 15, 18, 15, 6, 7, 16, 1, 2, 14, 15, 14, 8, 3, 9, 5, 7, 8, 9, 12, 18, 12, 15, 11, 17, 11, 2, 9, 11, 13, 15, 18, 19, 11, 11, 1, 13, 2, 10, 11, 15, 16, 17, 18, 6, 3, 2, 14, 13, 20, 18, 7, 11, 6, 19], \"Freq\": [0.4030188322067261, 0.4244352877140045, 0.007787803187966347, 0.164517343044281, 0.49084654450416565, 0.3866574168205261, 0.1180810034275055, 0.745197594165802, 0.07871805876493454, 0.17492900788784027, 0.1296563446521759, 0.8140279650688171, 0.05480319634079933, 0.9104110598564148, 0.08455830067396164, 0.9920260310173035, 0.4181971251964569, 0.5782478451728821, 0.9928643703460693, 0.9909021258354187, 0.9969921708106995, 0.9872698783874512, 0.9907901883125305, 0.9962129592895508, 0.9907501935958862, 0.9824745059013367, 0.9799314141273499, 0.655417263507843, 0.09753233194351196, 0.23212695121765137, 0.013654526323080063, 0.16284330189228058, 0.631017804145813, 0.20355413854122162, 0.32376983761787415, 0.6745204925537109, 0.16219818592071533, 0.8350202441215515, 0.985602855682373, 0.9921667575836182, 0.9914056658744812, 0.9964797496795654, 0.9890786409378052, 0.9979142546653748, 0.07272200286388397, 0.8784052729606628, 0.04784342646598816, 0.9975767135620117, 0.9950211048126221, 0.9947704672813416, 0.9867398142814636, 0.10749424248933792, 0.8351476192474365, 0.057881515473127365, 0.9887070655822754, 0.9955998063087463, 0.9983813762664795, 0.9935916662216187, 0.9805299043655396, 0.9898041486740112, 0.1731792539358139, 0.8226014375686646, 0.9986841082572937, 0.984017014503479, 0.9857621788978577, 0.9958652257919312, 0.8213052749633789, 0.17468060553073883, 0.9934426546096802, 0.9942347407341003, 0.9934466481208801, 0.9917914867401123, 0.9931396842002869, 0.9803648591041565, 0.9935916662216187, 0.7219598293304443, 0.2719711661338806, 0.060235828161239624, 0.021623117849230766, 0.08958148956298828, 0.17144043743610382, 0.528221845626831, 0.128194198012352, 0.997128963470459, 0.9953265190124512, 0.13929501175880432, 0.06190889701247215, 0.1373603641986847, 0.11414452642202377, 0.19733460247516632, 0.04449702054262161, 0.3056751787662506, 0.20293183624744415, 0.7948163747787476, 0.9965636134147644, 0.999489426612854, 0.9950035810470581, 0.6583935618400574, 0.08771701157093048, 0.053662169724702835, 0.19916921854019165, 0.42557674646377563, 0.14845700562000275, 0.423102468252182, 0.6997136473655701, 0.2955312430858612, 0.8015289306640625, 0.14426478743553162, 0.054164398461580276, 0.21258334815502167, 0.1732160598039627, 0.6101929545402527, 0.9955961108207703, 0.9817332625389099, 0.9983001947402954, 0.997488796710968, 0.9828046560287476, 0.7070346474647522, 0.2909817695617676, 0.779524028301239, 0.2160637229681015, 0.9940654039382935, 0.3785739839076996, 0.5404664874076843, 0.08059278130531311, 0.9935453534126282, 0.11035607755184174, 0.06345474720001221, 0.8249117136001587, 0.09470494091510773, 0.8574636578559875, 0.04607267677783966, 0.13293087482452393, 0.08162422478199005, 0.6296725869178772, 0.06996361911296844, 0.08395634591579437, 0.08360034227371216, 0.5419932007789612, 0.1747153103351593, 0.05072380229830742, 0.08172167837619781, 0.06669240444898605, 0.07966157048940659, 0.9161080718040466, 0.9937947392463684, 0.9992160797119141, 0.9916109442710876, 0.9855403900146484, 0.9968999624252319, 0.4592289328575134, 0.5386849641799927, 0.8927661776542664, 0.10583699494600296, 0.9986841082572937, 0.9994856715202332, 0.9986196756362915, 0.16744525730609894, 0.830659806728363, 0.9835240244865417, 0.9983850121498108, 0.4406558573246002, 0.5569025278091431, 0.6648887991905212, 0.33430859446525574, 0.14806267619132996, 0.8451910614967346, 0.9895268082618713, 0.989650309085846, 0.9943332672119141, 0.8223339319229126, 0.17688380181789398, 0.45123887062072754, 0.5476868748664856, 0.998863697052002, 0.06585260480642319, 0.9320676326751709, 0.99543297290802, 0.9985270500183105, 0.9977803826332092, 0.99234938621521, 0.9990137219429016, 0.996843695640564, 0.9957414865493774, 0.9871785044670105, 0.23898595571517944, 0.7586414217948914, 0.9925868511199951, 0.9995661377906799, 0.5786353945732117, 0.3455161154270172, 0.07493120431900024, 0.5248652100563049, 0.47292542457580566, 0.9925599098205566, 0.987545907497406, 0.31039687991142273, 0.6866354942321777, 0.9908420443534851, 0.16611401736736298, 0.19631655514240265, 0.15554311871528625, 0.08305700868368149, 0.3971635103225708, 0.9907239675521851, 0.9812169075012207, 0.9884487390518188, 0.990900456905365, 0.9932470917701721, 0.44709765911102295, 0.21359319984912872, 0.1321381777524948, 0.09050559252500534, 0.11765727400779724, 0.9911457896232605, 0.16219541430473328, 0.836145281791687, 0.9735625386238098, 0.9881991744041443, 0.9993669986724854, 0.9956496357917786, 0.9955024123191833, 0.9943506717681885, 0.1888098567724228, 0.805218517780304, 0.9963671565055847, 0.9988834261894226, 0.9940592646598816, 0.9939264059066772, 0.1811758428812027, 0.2229856550693512, 0.5942060947418213, 0.9934828877449036, 0.8340228796005249, 0.16417773067951202, 0.9941330552101135, 0.9971639513969421, 0.14851921796798706, 0.6081101894378662, 0.17892473936080933, 0.035083282738924026, 0.029236067086458206, 0.9920397400856018, 0.5121685266494751, 0.0535101443529129, 0.12230890244245529, 0.25035104155540466, 0.059243373572826385, 0.9928852915763855, 0.9910954236984253, 0.9891188144683838, 0.13289162516593933, 0.8602983951568604, 0.9940985441207886, 0.24975912272930145, 0.17785876989364624, 0.5714185833930969, 0.02883426658809185, 0.44249510765075684, 0.0798487439751625, 0.15747946500778198, 0.29166969656944275, 0.9951854348182678, 0.9833697080612183, 0.1670236587524414, 0.830942690372467, 0.9994137287139893, 0.9951683282852173, 0.9924942851066589, 0.9870585203170776, 0.9961380958557129, 0.9937374591827393, 0.989588737487793, 0.9884529113769531, 0.9857195019721985, 0.9766126275062561, 0.021523142233490944, 0.11552596092224121, 0.6498335003852844, 0.23105192184448242, 0.9939872026443481, 0.7166964411735535, 0.2811655104160309, 0.9994856715202332, 0.23509185016155243, 0.6926813125610352, 0.07136716693639755, 0.9902030825614929, 0.99140864610672, 0.14554332196712494, 0.19458509981632233, 0.18192915618419647, 0.4761797785758972, 0.9787331819534302, 0.11934377253055573, 0.06472882628440857, 0.12608635425567627, 0.26127520203590393, 0.022587662562727928, 0.011125266551971436, 0.011462396010756493, 0.12945765256881714, 0.024273309856653214, 0.05090652406215668, 0.026296084746718407, 0.0330386720597744, 0.06405457109212875, 0.05528920516371727, 0.9932202100753784, 0.9959160685539246, 0.9925694465637207, 0.9809134006500244, 0.017438460141420364, 0.9954647421836853, 0.9977187514305115, 0.9938774108886719, 0.9943728446960449, 0.9977166652679443, 0.9936482906341553, 0.9873096346855164, 0.9877728819847107, 0.9977932572364807, 0.18256638944149017, 0.8139417767524719, 0.19819124042987823, 0.12011589854955673, 0.18617965281009674, 0.11010624468326569, 0.384370893239975, 0.2559572458267212, 0.7405695915222168, 0.9933549761772156, 0.9936671257019043, 0.9898508787155151, 0.8561675548553467, 0.1430124044418335, 0.9956828951835632, 0.9975091814994812, 0.12750324606895447, 0.19661715626716614, 0.11082057654857635, 0.4242163896560669, 0.03336533531546593, 0.10605409741401672, 0.9980144500732422, 0.991889238357544, 0.9880404472351074, 0.9928577542304993, 0.9905759692192078, 0.9905557632446289, 0.9978704452514648, 0.20190352201461792, 0.7953775525093079, 0.508611261844635, 0.07295653223991394, 0.16050437092781067, 0.2563900947570801, 0.9935621619224548, 0.9907239675521851, 0.9932167530059814, 0.3025408089160919, 0.6929160356521606, 0.569951593875885, 0.22956383228302002, 0.19789984822273254, 0.9963120222091675, 0.9959108233451843, 0.3056279718875885, 0.24252259731292725, 0.04083288460969925, 0.0544438473880291, 0.3551223576068878, 0.03686262667179108, 0.10105444490909576, 0.5338725447654724, 0.06864075362682343, 0.03241368755698204, 0.13728150725364685, 0.08961431682109833, 0.9904564023017883, 0.07736781239509583, 0.9206770062446594, 0.06761856377124786, 0.6003431677818298, 0.2065107524394989, 0.12518571317195892, 0.9882922172546387, 0.9891877174377441, 0.9955807328224182, 0.993410050868988, 0.9269412755966187, 0.06564740091562271, 0.005251792259514332, 0.985287070274353, 0.6470627188682556, 0.13572534918785095, 0.21463543176651, 0.9922934174537659, 0.9949129819869995, 0.9949602484703064, 0.873595654964447, 0.12479938566684723, 0.9906883239746094, 0.9875074625015259, 0.994335949420929, 0.1511576771736145, 0.7557883858680725, 0.09223180264234543, 0.8714078068733215, 0.12731607258319855, 0.9922780990600586, 0.13013221323490143, 0.29088377952575684, 0.5771746635437012, 0.9950278401374817, 0.17804139852523804, 0.8196043372154236, 0.9971325993537903, 0.9907183647155762, 0.9974539279937744, 0.9951732754707336, 0.9874189496040344, 0.9954617023468018, 0.1918601244688034, 0.19404035806655884, 0.6104640364646912, 0.9888843894004822, 0.9853441119194031, 0.9950547218322754, 0.2391989678144455, 0.7508189678192139, 0.9824549555778503, 0.440670371055603, 0.09639664739370346, 0.03876267001032829, 0.19024311006069183, 0.041312847286462784, 0.002040140563622117, 0.19024311006069183, 0.8686714768409729, 0.12811341881752014, 0.9902030825614929, 0.986528754234314, 0.18676666915416718, 0.8093222379684448, 0.9875281453132629, 0.9979382753372192, 0.9933549165725708, 0.9853716492652893, 0.9904840588569641, 0.9950278401374817, 0.9923496246337891, 0.9912856221199036, 0.996850311756134, 0.997458815574646, 0.9930081963539124, 0.849466860294342, 0.1481628268957138, 0.5148055553436279, 0.4815922677516937, 0.9876436591148376, 0.9883895516395569, 0.9933831691741943, 0.9941455125808716, 0.9970149397850037, 0.8365813493728638, 0.15844343602657318, 0.9966413378715515, 0.17618098855018616, 0.2876424491405487, 0.14921452105045319, 0.330788791179657, 0.05213519185781479, 0.10972508788108826, 0.8864632248878479, 0.21464751660823822, 0.7787212133407593, 0.9927510619163513, 0.9935927391052246, 0.9896743893623352, 0.9950897693634033, 0.9966214299201965, 0.9937908053398132, 0.2298644483089447, 0.5153170228004456, 0.03155002370476723, 0.051080986857414246, 0.17127154767513275, 0.9968467950820923, 0.9907013773918152, 0.47610944509506226, 0.5215562582015991, 0.9987258315086365, 0.9892749786376953, 0.9839438199996948, 0.11898926645517349, 0.712676465511322, 0.06925301253795624, 0.045329246670007706, 0.05351369082927704, 0.9940659403800964, 0.9931550621986389, 0.25504645705223083, 0.1073879823088646, 0.0483245886862278, 0.5879491567611694, 0.5004944205284119, 0.1054963693022728, 0.39254462718963623, 0.17039057612419128, 0.24935206770896912, 0.49662619829177856, 0.0810394212603569, 0.37423479557037354, 0.3841482996940613, 0.11152692139148712, 0.12639717757701874, 0.9931652545928955, 0.2889421880245209, 0.07408773899078369, 0.6346849799156189, 0.9881178736686707, 0.9927403330802917, 0.9965488314628601, 0.9936747550964355, 0.6991632580757141, 0.3001781105995178, 0.9963508248329163, 0.9928516149520874, 0.3309016525745392, 0.666274905204773, 0.9953891634941101, 0.9852094054222107, 0.21212074160575867, 0.19645273685455322, 0.5905634164810181, 0.9948360919952393, 0.9948905110359192, 0.9930720925331116, 0.9879682064056396, 0.9935628771781921, 0.9937078356742859, 0.9986196756362915, 0.9916823506355286, 0.9921565651893616, 0.9935621619224548, 0.9904407262802124, 0.0761820450425148, 0.06972593814134598, 0.07359960675239563, 0.06972593814134598, 0.7088803648948669, 0.9940203428268433, 0.9867790341377258, 0.9917962551116943, 0.9972150921821594, 0.678392231464386, 0.3214143216609955, 0.5718938112258911, 0.37946411967277527, 0.046758610755205154, 0.3294571340084076, 0.6693732142448425, 0.13145612180233002, 0.09085937589406967, 0.7752044200897217, 0.34618738293647766, 0.26910659670829773, 0.239356130361557, 0.14469550549983978, 0.9935916662216187, 0.9202781915664673, 0.07868549227714539, 0.9933549761772156, 0.2898344099521637, 0.7081181406974792, 0.09046377241611481, 0.797059178352356, 0.11002350598573685, 0.9978013038635254, 0.9953227043151855, 0.14832894504070282, 0.8454750180244446, 0.9968168139457703, 0.993410050868988, 0.2660950720310211, 0.11569350957870483, 0.07172997295856476, 0.5437595248222351, 0.10486526042222977, 0.034955088049173355, 0.856399655342102, 0.8000497221946716, 0.1632208377122879, 0.034784771502017975, 0.9930254817008972, 0.882028341293335, 0.11504717916250229, 0.9954341053962708, 0.995361864566803, 0.9975133538246155, 0.9986196756362915, 0.9995661377906799, 0.9933497309684753, 0.2558434307575226, 0.27964282035827637, 0.46408811211586, 0.9948365688323975, 0.9935659766197205, 0.9942871332168579, 0.9918214082717896, 0.9931772351264954, 0.9969379305839539, 0.9948305487632751, 0.9942463040351868, 0.9848127365112305, 0.9971662163734436, 0.996330201625824, 0.15098075568675995, 0.7308841347694397, 0.11666695028543472, 0.03446813300251961, 0.04870497062802315, 0.4503336548805237, 0.07867725938558578, 0.05320081487298012, 0.12438499927520752, 0.029972290620207787, 0.1161426231265068, 0.06444042176008224, 0.9916383624076843, 0.9933434128761292, 0.9853699207305908, 0.9989967346191406, 0.9955869317054749, 0.9912062883377075, 0.1470010131597519, 0.0996617004275322, 0.0996617004275322, 0.1993234008550644, 0.4559522867202759, 0.9936800003051758, 0.4605017304420471, 0.326399564743042, 0.10120917111635208, 0.11006497591733932, 0.9926662445068359, 0.9984278082847595, 0.9924313426017761, 0.9921913743019104, 0.9947704672813416, 0.996425211429596, 0.5143840909004211, 0.18656416237354279, 0.29717007279396057, 0.9788761734962463, 0.9950326085090637, 0.9670210480690002, 0.9914195537567139, 0.9971149563789368, 0.9875667691230774, 0.9959041476249695, 0.9953582882881165, 0.9947922229766846, 0.9970718026161194, 0.9933484196662903, 0.20069265365600586, 0.7964990139007568, 0.9937393665313721, 0.9925541281700134, 0.32216235995292664, 0.15887460112571716, 0.09709002822637558, 0.06399115920066833, 0.3574678301811218, 0.9885942935943604, 0.991002082824707, 0.9934216141700745, 0.9911155700683594, 0.9980421662330627, 0.9968292117118835, 0.39938464760780334, 0.20217297971248627, 0.19969232380390167, 0.15628094971179962, 0.04217104986310005, 0.7050382494926453, 0.2949179708957672, 0.14074382185935974, 0.04800105094909668, 0.23600517213344574, 0.057186439633369446, 0.15304039418697357, 0.1508181244134903, 0.1699296534061432, 0.005926055833697319, 0.014815139584243298, 0.023556072264909744, 0.5121145248413086, 0.23263247311115265, 0.2536340057849884, 0.8420076370239258, 0.04668143391609192, 0.11078131198883057, 0.9963912963867188, 0.9935621619224548, 0.8751171231269836, 0.12154404073953629, 0.9979763627052307, 0.9874464869499207, 0.9871629476547241, 0.7696375250816345, 0.0004162452823948115, 0.22976739704608917, 0.9965552687644958, 0.739968478679657, 0.2582017779350281, 0.8923206329345703, 0.02515941672027111, 0.08218742907047272, 0.9916601777076721, 0.999262809753418, 0.8923206329345703, 0.02515941672027111, 0.08218742907047272, 0.999724268913269, 0.9811915159225464, 0.9934828877449036, 0.8136752843856812, 0.14536550641059875, 0.04086953401565552, 0.9974822998046875, 0.9987258315086365, 0.8863775134086609, 0.10822051018476486, 0.9950436949729919, 0.9927417635917664, 0.9907827973365784, 0.48472467064857483, 0.5130297541618347, 0.18369260430335999, 0.8066501021385193, 0.9889845252037048, 0.24667976796627045, 0.6377373337745667, 0.11467722058296204, 0.03385704383254051, 0.05540243536233902, 0.21606950461864471, 0.43706366419792175, 0.17851896584033966, 0.07817899435758591, 0.7199513912200928, 0.2761780619621277, 0.21347911655902863, 0.7796628475189209, 0.9996795058250427, 0.9956186413764954, 0.9921867251396179, 0.9930159449577332, 0.9987146258354187, 0.9977333545684814, 0.1045714020729065, 0.8919325470924377, 0.9868432879447937, 0.9857146143913269, 0.9916045069694519, 0.9908156991004944, 0.14777402579784393, 0.6913106441497803, 0.15966388583183289, 0.985659122467041, 0.1522427797317505, 0.8258921504020691, 0.021393591538071632, 0.08223150670528412, 0.9155107736587524, 0.2139866203069687, 0.6378048062324524, 0.14750534296035767, 0.863308846950531, 0.13478536903858185, 0.990974485874176, 0.9943743944168091, 0.35882797837257385, 0.6398378610610962, 0.8939882516860962, 0.10114465653896332, 0.9798389077186584, 0.24255089461803436, 0.19089654088020325, 0.47611844539642334, 0.08758782595396042, 0.9981173276901245, 0.9962024092674255, 0.994135320186615, 0.5266318917274475, 0.472861647605896, 0.9970896244049072, 0.8362439274787903, 0.15888634324073792, 0.9941021203994751, 0.12473273277282715, 0.8677060008049011, 0.9910136461257935, 0.9953315258026123, 0.9903828501701355, 0.9978704452514648, 0.9975776076316833, 0.13123999536037445, 0.3695839047431946, 0.033187124878168106, 0.09352735430002213, 0.37109240889549255, 0.9953199625015259, 0.9938793778419495, 0.9919002652168274, 0.9983850121498108, 0.12347806245088577, 0.18378131091594696, 0.0574316568672657, 0.6317482590675354, 0.1287325769662857, 0.12416219711303711, 0.20719090104103088, 0.227376788854599, 0.10549978166818619, 0.03961002454161644, 0.012187699787318707, 0.031230982393026352, 0.017519818618893623, 0.10626151412725449, 0.9985405206680298, 0.992501974105835, 0.24657060205936432, 0.7521648406982422, 0.5962679386138916, 0.400197833776474, 0.995341956615448, 0.9922615885734558, 0.9979813098907471, 0.9854061603546143, 0.9986699223518372, 0.9957550764083862, 0.9888559579849243, 0.12841098010540009, 0.13149283826351166, 0.07293743640184402, 0.1448475867509842, 0.03081863559782505, 0.09348319470882416, 0.21983960270881653, 0.07088286429643631, 0.04109151288866997, 0.06574641913175583, 0.994670033454895, 0.3333735764026642, 0.4017309248447418, 0.04837597534060478, 0.012619820423424244, 0.09359699487686157, 0.10937177389860153, 0.8949556946754456, 0.1034630835056305, 0.9890015125274658, 0.9983460903167725, 0.6251100897789001, 0.3744763433933258, 0.9911442399024963, 0.9358924627304077, 0.06274139136075974, 0.44196051359176636, 0.556458055973053, 0.44934332370758057, 0.5505113005638123, 0.7073796391487122, 0.1578487902879715, 0.1338774859905243, 0.9923694133758545, 0.9950143098831177, 0.16012023389339447, 0.12647628784179688, 0.5862767696380615, 0.026790544390678406, 0.09968574345111847, 0.9870585203170776, 0.9984354972839355, 0.9917879104614258, 0.26704391837120056, 0.21102072298526764, 0.028634080663323402, 0.0037348801270127296, 0.05042088031768799, 0.4382259249687195, 0.11206765472888947, 0.6518220901489258, 0.23328369855880737, 0.8241258263587952, 0.1742437332868576, 0.9980303049087524, 0.9860106110572815, 0.9892466068267822, 0.2591538429260254, 0.7358118295669556, 0.9920367002487183, 0.992793619632721, 0.9886144399642944, 0.8868680596351624, 0.11002498120069504, 0.9941229820251465, 0.9927417635917664, 0.9885632395744324, 0.9952433109283447, 0.9942934513092041, 0.9907156825065613, 0.998432457447052, 0.9893041253089905, 0.9975522756576538, 0.9877728819847107, 0.9921366572380066, 0.989640474319458, 0.9950482249259949, 0.9897660613059998, 0.17704978585243225, 0.23296025395393372, 0.5824006199836731, 0.22487741708755493, 0.161574125289917, 0.20739366114139557, 0.024115541949868202, 0.03677619993686676, 0.021101098507642746, 0.05064263567328453, 0.09706505388021469, 0.07234662771224976, 0.10369683057069778, 0.9803110361099243, 0.12242793291807175, 0.6399068236351013, 0.17670010030269623, 0.05932075157761574, 0.9993653297424316, 0.9987941384315491, 0.9968502521514893, 0.9919736385345459, 0.9192686080932617, 0.04008703678846359, 0.04008703678846359, 0.9983747601509094, 0.9838151931762695, 0.08988983929157257, 0.07730526477098465, 0.08809204399585724, 0.7424900531768799, 0.23746715486049652, 0.7609742879867554, 0.24454335868358612, 0.04378287121653557, 0.1324164867401123, 0.10999111831188202, 0.02776474691927433, 0.277647465467453, 0.11426261812448502, 0.048054371029138565, 0.5686047077178955, 0.22922807931900024, 0.2024351954460144, 0.09143605828285217, 0.3745361566543579, 0.35343554615974426, 0.10022798925638199, 0.07912735641002655, 0.9949155449867249, 0.35414549708366394, 0.6436069011688232, 0.9883661270141602, 0.27812594175338745, 0.7107663154602051, 0.9812169075012207, 0.9928255677223206, 0.9938998818397522, 0.9911856055259705, 0.9907362461090088, 0.9956496357917786, 0.9961848855018616, 0.9966221451759338, 0.026159504428505898, 0.642776370048523, 0.03550218418240547, 0.2933601438999176, 0.9888893365859985, 0.6607150435447693, 0.3369085192680359, 0.9939141273498535, 0.9937111735343933, 0.9835157990455627, 0.9944040179252625, 0.9922165274620056, 0.3232869505882263, 0.6724368333816528, 0.9867410659790039, 0.8736497163772583, 0.12448081374168396, 0.39229097962379456, 0.14395998418331146, 0.46067196130752563, 0.0950208529829979, 0.9026980996131897, 0.9915176630020142, 0.9965543150901794, 0.9981982111930847, 0.3154428005218506, 0.12914100289344788, 0.10373622179031372, 0.12067274749279022, 0.32814517617225647, 0.8235927820205688, 0.17460167407989502, 0.7701737880706787, 0.22784307599067688, 0.9964619874954224, 0.9926345348358154, 0.0843292847275734, 0.9088822603225708, 0.9959501028060913, 0.9899086356163025, 0.9882322549819946, 0.12316814064979553, 0.8504466414451599, 0.025974232703447342, 0.9966978430747986, 0.21701838076114655, 0.19148680567741394, 0.5897793173789978, 0.9934402704238892, 0.9933816194534302, 0.284295916557312, 0.7124121189117432, 0.9922887682914734, 0.988457977771759, 0.9944401383399963, 0.9939197897911072, 0.9920631647109985, 0.9964097738265991, 0.9992291331291199, 0.9961388111114502, 0.9822821617126465, 0.9891923666000366, 0.9959192276000977, 0.9887017607688904, 0.5041773915290833, 0.12324336916208267, 0.13668809831142426, 0.2352827936410904, 0.9909067153930664, 0.07917709648609161, 0.913581907749176, 0.16243582963943481, 0.6839403510093689, 0.1496119499206543, 0.9868527054786682, 0.9941866993904114, 0.9977932572364807, 0.9898332953453064, 0.9974559545516968, 0.9942625761032104, 0.9894430041313171, 0.9939197897911072, 0.9946436882019043, 0.9909722208976746, 0.9876719117164612, 0.9885342717170715, 0.9920797348022461, 0.21821030974388123, 0.7779672145843506, 0.9972507357597351, 0.34270957112312317, 0.6563000679016113, 0.9952991604804993, 0.9984288811683655, 0.9981126189231873, 0.9991084337234497, 0.9961639642715454, 0.987684965133667, 0.9799948334693909, 0.6473689079284668, 0.1048017144203186, 0.24672070145606995, 0.9963355660438538, 0.9884487390518188, 0.9938119053840637, 0.0825137346982956, 0.0702894777059555, 0.010557313449680805, 0.12307604402303696, 0.08751457184553146, 0.10085012018680573, 0.013891201466321945, 0.04195142909884453, 0.20058895647525787, 0.0391731895506382, 0.07862420380115509, 0.024170691147446632, 0.07640160620212555, 0.050286151468753815, 0.20135530829429626, 0.10697001218795776, 0.6890127062797546, 0.24668529629707336, 0.13799722492694855, 0.028087930753827095, 0.03724703937768936, 0.0885380432009697, 0.0989183634519577, 0.18989883363246918, 0.05617586150765419, 0.02442428655922413, 0.051291003823280334, 0.03968946635723114, 0.9180399775505066, 0.07982956618070602, 0.9873426556587219, 0.990614116191864, 0.8399918079376221, 0.15856987237930298, 0.9904199838638306, 0.8989138007164001, 0.09872463345527649, 0.06592517346143723, 0.7226413488388062, 0.20791786909103394, 0.9953376054763794, 0.9899086356163025, 0.994146466255188, 0.9984639883041382, 0.9957674145698547, 0.9972150921821594, 0.0653686597943306, 0.2572843134403229, 0.22208581864833832, 0.0921865701675415, 0.17347835004329681, 0.08129178732633591, 0.10727164149284363, 0.9904471635818481, 0.9943183064460754, 0.9925274848937988, 0.9954684972763062, 0.10176218301057816, 0.13715772330760956, 0.19909992814064026, 0.08185219019651413, 0.1415821611881256, 0.33846986293792725, 0.045263879001140594, 0.8147497773170471, 0.1357916295528412, 0.978329062461853, 0.5420362949371338, 0.4563467502593994, 0.9935315251350403, 0.04140014946460724, 0.016560060903429985, 0.12328045070171356, 0.21405410766601562, 0.051213521510362625, 0.09905369579792023, 0.07145359367132187, 0.12512046098709106, 0.011040040291845798, 0.11653375625610352, 0.03220011666417122, 0.007360026706010103, 0.07482694089412689, 0.015640057623386383, 0.9974350929260254, 0.9848629832267761, 0.2167087346315384, 0.782294750213623, 0.9971203804016113, 0.9973284006118774, 0.9931007027626038, 0.9847687482833862, 0.10973656177520752, 0.17489264905452728, 0.7132876515388489, 0.9933304190635681, 0.07146420329809189, 0.33052194118499756, 0.10049653798341751, 0.4935496747493744, 0.10743050277233124, 0.21195748448371887, 0.635872483253479, 0.043552909046411514, 0.9889441132545471, 0.9935060143470764, 0.9939296841621399, 0.9942795634269714, 0.9953097701072693, 0.9147864580154419, 0.08530747145414352, 0.15024349093437195, 0.6817018389701843, 0.1659405678510666, 0.9984639883041382, 0.9968969821929932, 0.9954885244369507, 0.9943733811378479, 0.9885532855987549, 0.9921421408653259, 0.990730881690979, 0.15930549800395966, 0.1026635393500328, 0.7363454103469849, 0.9932925701141357, 0.9928231835365295, 0.8249709010124207, 0.17416849732398987, 0.9840348958969116, 0.42628201842308044, 0.3498874008655548, 0.07028305530548096, 0.036669421941041946, 0.11611983180046082, 0.11059590429067612, 0.0531294047832489, 0.477080374956131, 0.30901795625686646, 0.04879231005907059, 0.9941380023956299, 0.9902161955833435, 0.9921491742134094, 0.9944244623184204, 0.9174205660820007, 0.0817665383219719, 0.9884137511253357, 0.9991304874420166, 0.9918803572654724, 0.7567274570465088, 0.24027477204799652, 0.9898552894592285, 0.9944443702697754, 0.9900510907173157, 0.9932680130004883, 0.47242435812950134, 0.5253359079360962, 0.9971172213554382, 0.9966246485710144, 0.5222476720809937, 0.04417020082473755, 0.05066582188010216, 0.3000975549221039, 0.08054566383361816, 0.9904065728187561, 0.9946301579475403, 0.7413511276245117, 0.25454115867614746, 0.988587498664856, 0.9953315258026123, 0.15953536331653595, 0.3320561647415161, 0.2430131733417511, 0.26341885328292847, 0.996076762676239, 0.9956691861152649, 0.9955852031707764, 0.9931711554527283, 0.9977932572364807, 0.9413213133811951, 0.05761092156171799, 0.3091442883014679, 0.6880953311920166, 0.9972595572471619, 0.038483425974845886, 0.38030678033828735, 0.5795150995254517, 0.9932209253311157, 0.9003309011459351, 0.09945718199014664, 0.9830474853515625, 0.9978172779083252, 0.9869537949562073, 0.14846797287464142, 0.8495667576789856, 0.9995527267456055, 0.22358109056949615, 0.7759578824043274, 0.10561470687389374, 0.8908370733261108, 0.5672374963760376, 0.3895101845264435, 0.042569421231746674, 0.7537766695022583, 0.2442551553249359, 0.9933062791824341, 0.9847437739372253, 0.13853035867214203, 0.17811045050621033, 0.682756781578064, 0.9919850826263428, 0.5346599221229553, 0.11391380429267883, 0.34909069538116455, 0.9918550252914429, 0.8773345351219177, 0.12171678245067596, 0.039998531341552734, 0.954250693321228, 0.9986196756362915, 0.9949759840965271, 0.9965307712554932, 0.9942956566810608, 0.9945586323738098, 0.48558172583580017, 0.5123929977416992, 0.981107771396637, 0.9894070029258728, 0.9857447147369385, 0.9896840453147888, 0.05692483112215996, 0.9406150579452515, 0.9916648864746094, 0.9967823624610901, 0.32093653082847595, 0.6736489534378052, 0.9861273169517517, 0.9880989789962769, 0.00728951022028923, 0.984083890914917, 0.9947060346603394, 0.2233259528875351, 0.11526501178741455, 0.21303443610668182, 0.06277826428413391, 0.3818153440952301, 0.003087455639615655, 0.7097053527832031, 0.2870718240737915, 0.3779086172580719, 0.17457735538482666, 0.4456857144832611, 0.9871938824653625, 0.9984176754951477, 0.24946680665016174, 0.6158711910247803, 0.12993063032627106, 0.9918550252914429, 0.2586142122745514, 0.736055850982666, 0.9921883344650269, 0.9942598938941956, 0.7023175954818726, 0.29205286502838135, 0.9920187592506409, 0.9982612729072571, 0.9818557500839233, 0.12399040162563324, 0.8720658421516418, 0.9956004619598389, 0.2454863339662552, 0.13808606564998627, 0.040275104343891144, 0.11890744417905807, 0.45453330874443054, 0.7801107168197632, 0.06883329898118973, 0.04971293732523918, 0.10133790969848633, 0.3861353099346161, 0.3861353099346161, 0.2233840525150299, 0.9946057200431824, 0.6086379289627075, 0.39092355966567993, 0.9856378436088562, 0.992648720741272, 0.9910542368888855, 0.9925134778022766, 0.9881976842880249, 0.992415189743042, 0.9932827949523926, 0.9977057576179504, 0.28051307797431946, 0.19090473651885986, 0.1519445925951004, 0.3740174472332001, 0.9905795454978943, 0.9933745861053467, 0.9884487390518188, 0.15252093970775604, 0.8419155478477478, 0.9881991744041443, 0.9914942979812622, 0.9903416037559509, 0.9918152093887329, 0.9933531880378723, 0.22493699193000793, 0.7704092264175415, 0.993868887424469, 0.9937824606895447, 0.9966574907302856, 0.9261870384216309, 0.06961536407470703, 0.994133710861206, 0.9912732243537903, 0.9979641437530518, 0.9973865151405334, 0.997349202632904, 0.9976842999458313, 0.9932632446289062, 0.9898692965507507, 0.549354612827301, 0.041829030960798264, 0.40713587403297424, 0.9947910308837891, 0.1391947716474533, 0.00861553754657507, 0.08157836645841599, 0.032846733927726746, 0.27300482988357544, 0.1251945197582245, 0.3392367660999298, 0.9996713399887085, 0.9830967783927917, 0.985892117023468, 0.9920886158943176, 0.9888180494308472, 0.9966723918914795, 0.9884299635887146, 0.9837035536766052, 0.9897847771644592, 0.15003032982349396, 0.8439205884933472, 0.9953893423080444, 0.9954689741134644, 0.5259934067726135, 0.4710388779640198, 0.9923732876777649, 0.9911856055259705, 0.9853740334510803, 0.9936051964759827, 0.9905795454978943, 0.9960548877716064, 0.9965317845344543, 0.9907827973365784, 0.19039204716682434, 0.04142262414097786, 0.3412615954875946, 0.022421419620513916, 0.35760262608528137, 0.028501804918050766, 0.0182411540299654, 0.8098610639572144, 0.18792356550693512, 0.08966036140918732, 0.4006101191043854, 0.509347140789032, 0.9978466033935547, 0.999001145362854, 0.9895986914634705, 0.17813406884670258, 0.7252601385116577, 0.09224800020456314, 0.42432868480682373, 0.16569024324417114, 0.07274205982685089, 0.3367688059806824, 0.9885612726211548, 0.5228626728057861, 0.015454068779945374, 0.34814581274986267, 0.009444152936339378, 0.013736950233578682, 0.013736950233578682, 0.07598250359296799, 0.9380434155464172, 0.0612926110625267, 0.9860507249832153, 0.9883275032043457, 0.993000328540802, 0.9935516119003296, 0.16742710769176483, 0.8293482065200806, 0.9943628311157227, 0.19101017713546753, 0.8062118291854858, 0.9935667514801025, 0.9950979948043823, 0.9987258315086365, 0.9993872046470642, 0.9944443702697754, 0.997488796710968, 0.09089407324790955, 0.5373913049697876, 0.15069280564785004, 0.031095340847969055, 0.12358404695987701, 0.06537994742393494, 0.9040079712867737, 0.09438598155975342, 0.9082683324813843, 0.0862085223197937, 0.9841716885566711, 0.14648208022117615, 0.39478710293769836, 0.06966830790042877, 0.1411229819059372, 0.10360927879810333, 0.08038651198148727, 0.06073647364974022, 0.9918572902679443, 0.9979894757270813, 0.9985995292663574, 0.000989692285656929, 0.07238496094942093, 0.0021934835240244865, 0.1359959840774536, 0.33998996019363403, 0.0910295695066452, 0.23250927031040192, 0.126125305891037, 0.9958129525184631, 0.9968218803405762, 0.12004408240318298, 0.8758772015571594, 0.15161697566509247, 0.8474999666213989, 0.991820216178894, 0.9921897649765015, 0.9966246485710144, 0.9985270500183105, 0.990974485874176], \"Term\": [\"000\", \"000\", \"000\", \"000\", \"10\", \"10\", \"10\", \"100\", \"100\", \"100\", \"11\", \"11\", \"11\", \"12\", \"12\", \"13\", \"14\", \"14\", \"16\", \"1795\", \"19\", \"1970s\", \"2012\", \"2015\", \"25\", \"28\", \"280\", \"300\", \"300\", \"300\", \"300\", \"4\", \"4\", \"4\", \"40\", \"40\", \"400\", \"400\", \"41\", \"43\", \"499\", \"500\", \"52\", \"57\", \"6\", \"6\", \"6\", \"7\", \"72\", \"8\", \"800\", \"9\", \"9\", \"9\", \"999\", \"abandoned\", \"abdel\", \"abdi\", \"abdullah\", \"abrams\", \"absence\", \"absence\", \"abu\", \"accidental\", \"account\", \"across\", \"actor\", \"actor\", \"ad\", \"age\", \"agent\", \"ago\", \"agreed\", \"agrees\", \"ahmed\", \"aid\", \"aid\", \"air\", \"air\", \"air\", \"air\", \"air\", \"air\", \"airdrop\", \"airdropped\", \"airport\", \"airport\", \"airport\", \"airport\", \"airport\", \"airport\", \"airport\", \"airstrike\", \"airstrike\", \"airstrikes\", \"al\", \"alan\", \"alleged\", \"alleged\", \"alleged\", \"alleged\", \"allegedly\", \"allegedly\", \"allegedly\", \"amazon\", \"amazon\", \"american\", \"american\", \"american\", \"among\", \"among\", \"among\", \"angry\", \"animal\", \"ankle\", \"anna\", \"anyway\", \"app\", \"app\", \"apparently\", \"apparently\", \"appendix\", \"apple\", \"apple\", \"apple\", \"apps\", \"arm\", \"arm\", \"arm\", \"arrest\", \"arrest\", \"arrest\", \"arrested\", \"arrested\", \"arrested\", \"arrested\", \"arrested\", \"attack\", \"attack\", \"attack\", \"attack\", \"attack\", \"attack\", \"attempt\", \"attempt\", \"attorney\", \"audio\", \"awakens\", \"awesome\", \"axl\", \"baby\", \"baby\", \"baghdadi\", \"baghdadi\", \"bakr\", \"bale\", \"bank\", \"banksy\", \"banksy\", \"banned\", \"bary\", \"batman\", \"batman\", \"batmobile\", \"batmobile\", \"battle\", \"battle\", \"become\", \"bed\", \"behead\", \"beheaded\", \"beheaded\", \"beheading\", \"beheading\", \"beheads\", \"behind\", \"behind\", \"belonging\", \"bibeau\", \"big\", \"bin\", \"biopic\", \"bird\", \"birth\", \"blurred\", \"body\", \"body\", \"bogus\", \"boko\", \"border\", \"border\", \"border\", \"born\", \"born\", \"bosnia\", \"bosnian\", \"boston\", \"boston\", \"bowe\", \"boy\", \"boy\", \"boy\", \"boy\", \"boy\", \"boyle\", \"brat\", \"brave\", \"breached\", \"break\", \"breaking\", \"breaking\", \"breaking\", \"breaking\", \"breaking\", \"britain\", \"british\", \"british\", \"briton\", \"brokaw\", \"brown\", \"buckingham\", \"bug\", \"bugatti\", \"building\", \"building\", \"burrow\", \"burrowed\", \"butcher\", \"campus\", \"canadian\", \"canadian\", \"canadian\", \"canseco\", \"capital\", \"capital\", \"capsule\", \"capture\", \"captured\", \"captured\", \"captured\", \"captured\", \"captured\", \"car\", \"case\", \"case\", \"case\", \"case\", \"case\", \"cast\", \"castrate\", \"castrated\", \"catch\", \"catch\", \"catching\", \"catfish\", \"catfish\", \"catfish\", \"caught\", \"caught\", \"caught\", \"caught\", \"caught\", \"cause\", \"cawthorne\", \"cease\", \"cease\", \"ceasefire\", \"center\", \"ceo\", \"cesar\", \"charge\", \"check\", \"cheese\", \"chemical\", \"chest\", \"chief\", \"chief\", \"child\", \"child\", \"child\", \"chlorine\", \"chop\", \"chop\", \"christian\", \"christmas\", \"christmas\", \"christmas\", \"chugging\", \"circling\", \"city\", \"city\", \"city\", \"city\", \"civil\", \"claim\", \"claim\", \"claim\", \"claim\", \"claim\", \"claim\", \"claim\", \"claim\", \"claim\", \"claim\", \"claim\", \"claim\", \"claim\", \"claim\", \"cleaver\", \"cleric\", \"closer\", \"cnn\", \"cnn\", \"co\", \"college\", \"colorado\", \"com\", \"comcast\", \"come\", \"comment\", \"conde\", \"condom\", \"confirmed\", \"confirmed\", \"confirms\", \"confirms\", \"confirms\", \"confirms\", \"confirms\", \"congressman\", \"congressman\", \"constipated\", \"contact\", \"contains\", \"contracted\", \"contracted\", \"control\", \"cost\", \"could\", \"could\", \"could\", \"could\", \"could\", \"could\", \"crater\", \"creature\", \"crisis\", \"cross\", \"cub\", \"cuba\", \"culkin\", \"customer\", \"customer\", \"cut\", \"cut\", \"cut\", \"cut\", \"dam\", \"danny\", \"darkness\", \"date\", \"date\", \"daughter\", \"daughter\", \"daughter\", \"david\", \"dawn\", \"day\", \"day\", \"day\", \"day\", \"day\", \"dead\", \"dead\", \"dead\", \"dead\", \"dead\", \"dead\", \"dead\", \"deadly\", \"deal\", \"deal\", \"death\", \"death\", \"death\", \"death\", \"debunked\", \"debut\", \"december\", \"decrease\", \"denies\", \"denies\", \"denies\", \"deny\", \"despite\", \"despite\", \"despite\", \"detail\", \"detained\", \"detainee\", \"detroit\", \"detroit\", \"developer\", \"device\", \"dictator\", \"died\", \"died\", \"died\", \"dinner\", \"dinner\", \"document\", \"dog\", \"dog\", \"dog\", \"domestic\", \"doubt\", \"doubt\", \"drone\", \"droppings\", \"drug\", \"due\", \"dupe\", \"durex\", \"dy\", \"dy\", \"dy\", \"early\", \"earth\", \"eat\", \"eating\", \"eating\", \"ebay\", \"ebola\", \"ebola\", \"ebola\", \"ebola\", \"ebola\", \"ebola\", \"ebola\", \"edition\", \"edition\", \"eggnog\", \"elaborate\", \"electric\", \"electric\", \"employee\", \"emwazi\", \"ended\", \"english\", \"entering\", \"espn\", \"ever\", \"evil\", \"ex\", \"exclusive\", \"executed\", \"execution\", \"execution\", \"executioner\", \"executioner\", \"explosion\", \"extra\", \"eye\", \"eyewitness\", \"fabricated\", \"face\", \"face\", \"facebook\", \"fake\", \"fake\", \"fake\", \"fake\", \"fake\", \"fall\", \"fall\", \"family\", \"family\", \"far\", \"farther\", \"fat\", \"father\", \"fatwa\", \"fault\", \"fear\", \"fear\", \"fear\", \"fear\", \"fear\", \"feature\", \"feb\", \"female\", \"female\", \"fence\", \"ferguson\", \"fight\", \"fighter\", \"fighter\", \"fighter\", \"fighter\", \"fighter\", \"fighting\", \"file\", \"find\", \"find\", \"find\", \"find\", \"fire\", \"fire\", \"fire\", \"fired\", \"fired\", \"fired\", \"fired\", \"first\", \"first\", \"first\", \"first\", \"fisherman\", \"five\", \"five\", \"five\", \"flood\", \"flown\", \"fly\", \"flying\", \"foley\", \"foley\", \"food\", \"foot\", \"force\", \"force\", \"forced\", \"forget\", \"found\", \"found\", \"found\", \"founder\", \"fractured\", \"francis\", \"freak\", \"free\", \"game\", \"gang\", \"gas\", \"gave\", \"gaza\", \"gender\", \"get\", \"get\", \"get\", \"get\", \"get\", \"getting\", \"gift\", \"giggling\", \"gill\", \"girl\", \"girl\", \"girlfriend\", \"girlfriend\", \"girlfriend\", \"give\", \"give\", \"go\", \"go\", \"go\", \"god\", \"god\", \"god\", \"god\", \"godane\", \"gold\", \"gold\", \"goldfish\", \"google\", \"google\", \"got\", \"got\", \"got\", \"graf\", \"graffiti\", \"graphic\", \"graphic\", \"grave\", \"gravity\", \"group\", \"group\", \"group\", \"group\", \"guard\", \"guard\", \"guard\", \"gunman\", \"gunman\", \"gunman\", \"gunshot\", \"haines\", \"haines\", \"hair\", \"hairgate\", \"hand\", \"hank\", \"haram\", \"hbo\", \"head\", \"head\", \"head\", \"headshot\", \"hearing\", \"heaven\", \"hebdo\", \"held\", \"helmet\", \"help\", \"hero\", \"herzegovina\", \"high\", \"hill\", \"hit\", \"hit\", \"hit\", \"hoax\", \"hoax\", \"hoax\", \"hoax\", \"hoax\", \"hoax\", \"hoax\", \"hoax\", \"hoax\", \"hold\", \"holding\", \"hollywood\", \"homeless\", \"hope\", \"horrific\", \"hospital\", \"hospital\", \"hospital\", \"hospital\", \"hospital\", \"hospitalized\", \"hostage\", \"hostage\", \"hostage\", \"hostage\", \"hour\", \"house\", \"huge\", \"husband\", \"icloud\", \"idea\", \"identified\", \"identified\", \"identified\", \"identifies\", \"identity\", \"ignored\", \"ill\", \"impact\", \"important\", \"inch\", \"including\", \"indian\", \"infestation\", \"injured\", \"inside\", \"inside\", \"instead\", \"intelligence\", \"internet\", \"internet\", \"internet\", \"internet\", \"internet\", \"intersex\", \"investigates\", \"investigating\", \"investigation\", \"io\", \"iphone\", \"iraq\", \"iraq\", \"iraq\", \"iraq\", \"iraq\", \"iraqi\", \"iraqi\", \"isi\", \"isi\", \"isi\", \"isi\", \"isi\", \"isi\", \"isi\", \"isi\", \"isi\", \"isi\", \"isil\", \"isil\", \"isil\", \"islamic\", \"islamic\", \"islamic\", \"island\", \"israel\", \"israeli\", \"israeli\", \"issue\", \"italian\", \"j\", \"james\", \"james\", \"james\", \"jess\", \"jet\", \"jet\", \"jihadi\", \"jihadi\", \"jihadi\", \"jj\", \"job\", \"john\", \"john\", \"john\", \"jong\", \"jordanian\", \"jose\", \"journalist\", \"journalist\", \"journalist\", \"judd\", \"jumper\", \"justice\", \"justice\", \"kansa\", \"kayla\", \"kevin\", \"kfc\", \"kfc\", \"kid\", \"kid\", \"kidnap\", \"kidnapped\", \"kidnapped\", \"kidnapped\", \"killed\", \"killed\", \"killed\", \"killed\", \"killed\", \"killed\", \"killer\", \"killer\", \"killing\", \"killing\", \"kim\", \"king\", \"known\", \"kobani\", \"korea\", \"korean\", \"kurd\", \"kurd\", \"l\", \"la\", \"land\", \"later\", \"launch\", \"launch\", \"launch\", \"law\", \"leader\", \"leader\", \"leader\", \"leaf\", \"leaf\", \"least\", \"least\", \"least\", \"lebanon\", \"lebanon\", \"led\", \"lego\", \"letter\", \"letter\", \"libyan\", \"libyan\", \"lied\", \"life\", \"life\", \"life\", \"life\", \"like\", \"line\", \"linked\", \"london\", \"london\", \"londoner\", \"look\", \"look\", \"looking\", \"love\", \"love\", \"low\", \"luke\", \"lynch\", \"macaulay\", \"macbook\", \"made\", \"made\", \"made\", \"made\", \"made\", \"magic\", \"magneto\", \"main\", \"majed\", \"make\", \"make\", \"make\", \"make\", \"man\", \"man\", \"man\", \"man\", \"man\", \"man\", \"man\", \"man\", \"man\", \"man\", \"managua\", \"march\", \"marijuana\", \"marijuana\", \"marine\", \"marine\", \"market\", \"marriage\", \"married\", \"mask\", \"mass\", \"massacre\", \"massive\", \"may\", \"may\", \"may\", \"may\", \"may\", \"may\", \"may\", \"may\", \"may\", \"may\", \"meat\", \"medium\", \"medium\", \"medium\", \"medium\", \"medium\", \"medium\", \"meet\", \"meet\", \"meeting\", \"memorial\", \"message\", \"message\", \"meteor\", \"meteorite\", \"meteorite\", \"mexican\", \"mexican\", \"mexico\", \"mexico\", \"michael\", \"michael\", \"michael\", \"michelle\", \"microsoft\", \"militant\", \"militant\", \"militant\", \"militant\", \"militant\", \"millan\", \"million\", \"ministry\", \"missing\", \"missing\", \"missing\", \"missing\", \"missing\", \"missing\", \"mob\", \"mob\", \"mob\", \"model\", \"model\", \"mohammed\", \"monitoring\", \"monster\", \"month\", \"month\", \"mortgage\", \"motorcade\", \"mourn\", \"movie\", \"movie\", \"much\", \"mueller\", \"mum\", \"murder\", \"mushroom\", \"mysterious\", \"n\", \"naked\", \"named\", \"nast\", \"nearly\", \"need\", \"nelson\", \"net\", \"never\", \"never\", \"never\", \"new\", \"new\", \"new\", \"new\", \"new\", \"new\", \"new\", \"new\", \"new\", \"new\", \"newly\", \"news\", \"news\", \"news\", \"news\", \"nicaragua\", \"nigeria\", \"nigerian\", \"nightly\", \"north\", \"north\", \"north\", \"nun\", \"nypd\", \"obama\", \"obama\", \"obama\", \"obama\", \"office\", \"office\", \"official\", \"official\", \"official\", \"official\", \"official\", \"official\", \"official\", \"official\", \"old\", \"old\", \"old\", \"open\", \"open\", \"open\", \"open\", \"open\", \"opening\", \"ottawa\", \"ottawa\", \"outbreak\", \"outraged\", \"outraged\", \"pack\", \"paid\", \"pain\", \"paint\", \"painted\", \"palace\", \"panel\", \"paradise\", \"parent\", \"parent\", \"parent\", \"parent\", \"park\", \"parliament\", \"parliament\", \"past\", \"patient\", \"patrolling\", \"paul\", \"pause\", \"pay\", \"pay\", \"peeing\", \"penis\", \"penis\", \"people\", \"people\", \"people\", \"per\", \"per\", \"personally\", \"pga\", \"phelps\", \"photo\", \"photo\", \"photo\", \"photo\", \"photo\", \"photojournalist\", \"photojournalist\", \"pilot\", \"pilot\", \"pizza\", \"place\", \"plan\", \"plan\", \"planning\", \"plant\", \"platinum\", \"play\", \"play\", \"play\", \"plumber\", \"police\", \"police\", \"police\", \"poop\", \"pooped\", \"pope\", \"pope\", \"possession\", \"pot\", \"pound\", \"pounder\", \"powerful\", \"predator\", \"pregnant\", \"president\", \"pretty\", \"price\", \"priced\", \"pricing\", \"priest\", \"priest\", \"priest\", \"priest\", \"prisoner\", \"probably\", \"probably\", \"problem\", \"problem\", \"problem\", \"proposal\", \"pull\", \"pumpkin\", \"purport\", \"putin\", \"qaeda\", \"quarantined\", \"quarter\", \"question\", \"quits\", \"railway\", \"raised\", \"rajasthan\", \"rape\", \"rape\", \"rapist\", \"rapper\", \"rapper\", \"rare\", \"rat\", \"really\", \"recording\", \"red\", \"redwood\", \"refuse\", \"release\", \"release\", \"release\", \"released\", \"remembered\", \"rep\", \"report\", \"report\", \"report\", \"report\", \"report\", \"report\", \"report\", \"report\", \"report\", \"report\", \"report\", \"report\", \"report\", \"report\", \"reported\", \"reported\", \"reported\", \"reportedly\", \"reportedly\", \"reportedly\", \"reportedly\", \"reportedly\", \"reportedly\", \"reportedly\", \"reportedly\", \"reportedly\", \"reportedly\", \"reportedly\", \"rescue\", \"rescue\", \"reserve\", \"resignation\", \"restaurant\", \"restaurant\", \"retina\", \"revealed\", \"revealed\", \"reveals\", \"reveals\", \"reveals\", \"rise\", \"robert\", \"robot\", \"rogen\", \"rose\", \"rosenberg\", \"rumor\", \"rumor\", \"rumor\", \"rumor\", \"rumor\", \"rumor\", \"rumor\", \"rumored\", \"russian\", \"sacked\", \"safe\", \"said\", \"said\", \"said\", \"said\", \"said\", \"said\", \"sale\", \"sale\", \"sale\", \"samsung\", \"saudi\", \"saudi\", \"saved\", \"say\", \"say\", \"say\", \"say\", \"say\", \"say\", \"say\", \"say\", \"say\", \"say\", \"say\", \"say\", \"say\", \"say\", \"scar\", \"scare\", \"school\", \"school\", \"schoolgirl\", \"scotland\", \"scottish\", \"search\", \"secret\", \"secret\", \"secret\", \"secretly\", \"security\", \"security\", \"security\", \"security\", \"see\", \"see\", \"see\", \"see\", \"seen\", \"self\", \"sell\", \"selling\", \"sergeant\", \"service\", \"service\", \"set\", \"set\", \"set\", \"seth\", \"seven\", \"sex\", \"shabaab\", \"shabab\", \"shane\", \"sharing\", \"shock\", \"shock\", \"shock\", \"shoot\", \"shooter\", \"shooting\", \"shooting\", \"shopper\", \"shot\", \"shot\", \"shot\", \"shot\", \"shot\", \"show\", \"show\", \"show\", \"show\", \"show\", \"shower\", \"sick\", \"sign\", \"silicon\", \"sister\", \"sister\", \"six\", \"skin\", \"skipped\", \"small\", \"small\", \"smartwatch\", \"snake\", \"sneeze\", \"sneezing\", \"sniper\", \"sniper\", \"snowman\", \"snyder\", \"soldier\", \"soldier\", \"soldier\", \"soldier\", \"soldier\", \"solved\", \"somali\", \"somalia\", \"somalia\", \"someone\", \"somers\", \"son\", \"son\", \"son\", \"son\", \"sony\", \"soon\", \"spends\", \"spent\", \"spice\", \"spider\", \"spider\", \"spotted\", \"spotted\", \"stainless\", \"star\", \"star\", \"star\", \"start\", \"state\", \"state\", \"statement\", \"station\", \"steal\", \"steel\", \"steel\", \"steve\", \"still\", \"still\", \"stock\", \"stock\", \"stolen\", \"stolen\", \"stolen\", \"stomach\", \"stomach\", \"stop\", \"storage\", \"store\", \"store\", \"store\", \"streaming\", \"strike\", \"strike\", \"strike\", \"struck\", \"student\", \"student\", \"style\", \"style\", \"sugarhill\", \"suggests\", \"suitcase\", \"summer\", \"sun\", \"superman\", \"superman\", \"superpower\", \"supply\", \"supported\", \"surfaced\", \"surgery\", \"surgery\", \"surprise\", \"survives\", \"suspect\", \"suspect\", \"suspended\", \"suspension\", \"swapped\", \"swapped\", \"symptom\", \"syria\", \"syria\", \"syria\", \"syria\", \"syria\", \"syria\", \"syrian\", \"syrian\", \"take\", \"take\", \"take\", \"taking\", \"taliban\", \"talk\", \"talk\", \"talk\", \"talking\", \"tape\", \"tape\", \"tb\", \"tear\", \"teen\", \"teen\", \"teenager\", \"teletubbies\", \"television\", \"tell\", \"tell\", \"ten\", \"terror\", \"terror\", \"terror\", \"terror\", \"terror\", \"terrorist\", \"terrorist\", \"terrorist\", \"terrorist\", \"test\", \"test\", \"test\", \"testicle\", \"texas\", \"texas\", \"theory\", \"thing\", \"thinner\", \"thought\", \"threat\", \"threatens\", \"ticket\", \"tiger\", \"time\", \"time\", \"time\", \"time\", \"timing\", \"tip\", \"tireless\", \"told\", \"told\", \"tom\", \"tonight\", \"took\", \"total\", \"totally\", \"tour\", \"tour\", \"town\", \"toy\", \"trade\", \"training\", \"training\", \"translate\", \"tribunal\", \"trip\", \"tropical\", \"truce\", \"truck\", \"try\", \"turned\", \"tv\", \"tv\", \"tv\", \"twin\", \"u\", \"u\", \"u\", \"u\", \"u\", \"u\", \"u\", \"un\", \"underage\", \"unearthed\", \"university\", \"untrue\", \"upcoming\", \"urgent\", \"urinating\", \"us\", \"use\", \"use\", \"user\", \"using\", \"v\", \"v\", \"valley\", \"vandal\", \"variant\", \"vega\", \"verifies\", \"veyron\", \"vice\", \"vickers\", \"video\", \"video\", \"video\", \"video\", \"video\", \"video\", \"video\", \"violence\", \"violence\", \"viral\", \"viral\", \"viral\", \"vladimir\", \"vogue\", \"voicemail\", \"want\", \"want\", \"want\", \"war\", \"war\", \"war\", \"war\", \"warning\", \"watch\", \"watch\", \"watch\", \"watch\", \"watch\", \"watch\", \"watch\", \"weapon\", \"weapon\", \"wear\", \"weatherman\", \"web\", \"website\", \"week\", \"week\", \"went\", \"west\", \"west\", \"western\", \"whisperer\", \"white\", \"wife\", \"wine\", \"wintour\", \"woman\", \"woman\", \"woman\", \"woman\", \"woman\", \"woman\", \"wood\", \"wood\", \"work\", \"work\", \"working\", \"world\", \"world\", \"world\", \"world\", \"world\", \"world\", \"world\", \"woz\", \"wozniak\", \"wright\", \"wright\", \"year\", \"year\", \"year\", \"year\", \"year\", \"year\", \"year\", \"yemen\", \"yo\", \"york\", \"york\", \"young\", \"young\", \"youngest\", \"ypg\", \"zack\", \"zehaf\", \"zeppelin\"]}, \"R\": 30, \"lambda.step\": 0.01, \"plot.opts\": {\"xlab\": \"PC1\", \"ylab\": \"PC2\"}, \"topic.order\": [8, 16, 10, 7, 6, 20, 14, 13, 17, 12, 11, 1, 15, 3, 5, 9, 4, 19, 2, 18]};\n",
       "\n",
       "function LDAvis_load_lib(url, callback){\n",
       "  var s = document.createElement('script');\n",
       "  s.src = url;\n",
       "  s.async = true;\n",
       "  s.onreadystatechange = s.onload = callback;\n",
       "  s.onerror = function(){console.warn(\"failed to load library \" + url);};\n",
       "  document.getElementsByTagName(\"head\")[0].appendChild(s);\n",
       "}\n",
       "\n",
       "if(typeof(LDAvis) !== \"undefined\"){\n",
       "   // already loaded: just create the visualization\n",
       "   !function(LDAvis){\n",
       "       new LDAvis(\"#\" + \"ldavis_el3379066052364082386774557\", ldavis_el3379066052364082386774557_data);\n",
       "   }(LDAvis);\n",
       "}else if(typeof define === \"function\" && define.amd){\n",
       "   // require.js is available: use it to load d3/LDAvis\n",
       "   require.config({paths: {d3: \"https://cdnjs.cloudflare.com/ajax/libs/d3/3.5.5/d3.min\"}});\n",
       "   require([\"d3\"], function(d3){\n",
       "      window.d3 = d3;\n",
       "      LDAvis_load_lib(\"https://cdn.rawgit.com/bmabey/pyLDAvis/files/ldavis.v1.0.0.js\", function(){\n",
       "        new LDAvis(\"#\" + \"ldavis_el3379066052364082386774557\", ldavis_el3379066052364082386774557_data);\n",
       "      });\n",
       "    });\n",
       "}else{\n",
       "    // require.js not available: dynamically load d3 & LDAvis\n",
       "    LDAvis_load_lib(\"https://cdnjs.cloudflare.com/ajax/libs/d3/3.5.5/d3.min.js\", function(){\n",
       "         LDAvis_load_lib(\"https://cdn.rawgit.com/bmabey/pyLDAvis/files/ldavis.v1.0.0.js\", function(){\n",
       "                 new LDAvis(\"#\" + \"ldavis_el3379066052364082386774557\", ldavis_el3379066052364082386774557_data);\n",
       "            })\n",
       "         });\n",
       "}\n",
       "</script>"
      ],
      "text/plain": [
       "PreparedData(topic_coordinates=           Freq  cluster  topics         x         y\n",
       "topic                                               \n",
       "7      7.175739        1       1  0.160565 -0.236766\n",
       "15     6.986013        1       2 -0.055301  0.092987\n",
       "9      6.434521        1       3 -0.047171  0.080033\n",
       "6      6.159083        1       4  0.033375 -0.118654\n",
       "5      5.968647        1       5  0.172359  0.133394\n",
       "19     5.822701        1       6  0.031229  0.184130\n",
       "13     5.576653        1       7  0.031246 -0.039357\n",
       "12     5.277154        1       8  0.190933  0.063809\n",
       "16     4.846416        1       9 -0.262180  0.068002\n",
       "11     4.759069        1      10  0.150684  0.096401\n",
       "10     4.680370        1      11 -0.265636  0.023132\n",
       "0      4.676740        1      12 -0.080662  0.049703\n",
       "14     4.424639        1      13  0.220810 -0.044855\n",
       "2      4.332467        1      14 -0.112297 -0.026703\n",
       "4      4.281420        1      15 -0.079351 -0.041128\n",
       "8      4.159107        1      16 -0.078881 -0.186555\n",
       "3      3.989267        1      17  0.038145 -0.165177\n",
       "18     3.813822        1      18  0.042447  0.220686\n",
       "1      3.670227        1      19 -0.152054 -0.093390\n",
       "17     2.965941        1      20  0.061741 -0.059691, topic_info=     Category         Freq        Term        Total  loglift  logprob\n",
       "term                                                                 \n",
       "221   Default  2875.000000       state  2875.000000  30.0000  30.0000\n",
       "69    Default  6749.000000         isi  6749.000000  29.0000  29.0000\n",
       "436   Default  2292.000000         kim  2292.000000  28.0000  28.0000\n",
       "217   Default  2870.000000     islamic  2870.000000  27.0000  27.0000\n",
       "14    Default  2829.000000       apple  2829.000000  26.0000  26.0000\n",
       "430   Default  2661.000000       foley  2661.000000  25.0000  25.0000\n",
       "435   Default  2099.000000        jong  2099.000000  24.0000  24.0000\n",
       "73    Default  3714.000000           u  3714.000000  23.0000  23.0000\n",
       "18    Default  1731.000000       steve  1731.000000  22.0000  22.0000\n",
       "431   Default  2402.000000       james  2402.000000  21.0000  21.0000\n",
       "468   Default  1844.000000       haram  1844.000000  20.0000  20.0000\n",
       "465   Default  1844.000000        boko  1844.000000  19.0000  19.0000\n",
       "37    Default  1624.000000         job  1624.000000  18.0000  18.0000\n",
       "437   Default  1779.000000          un  1779.000000  17.0000  17.0000\n",
       "94    Default  2009.000000      leader  2009.000000  16.0000  16.0000\n",
       "80    Default  2329.000000       watch  2329.000000  15.0000  15.0000\n",
       "505   Default  1652.000000       brown  1652.000000  14.0000  14.0000\n",
       "432   Default  2153.000000  journalist  2153.000000  13.0000  13.0000\n",
       "504   Default  1580.000000       audio  1580.000000  12.0000  12.0000\n",
       "56    Default  2210.000000     michael  2210.000000  11.0000  11.0000\n",
       "452   Default  2631.000000       video  2631.000000  10.0000  10.0000\n",
       "428   Default  1920.000000    american  1920.000000   9.0000   9.0000\n",
       "467   Default  1490.000000        girl  1490.000000   8.0000   8.0000\n",
       "98    Default  1155.000000   christian  1155.000000   7.0000   7.0000\n",
       "97    Default  1155.000000        bale  1155.000000   6.0000   6.0000\n",
       "15    Default  1193.000000        play  1193.000000   5.0000   5.0000\n",
       "486   Default  1056.000000          al  1056.000000   4.0000   4.0000\n",
       "180   Default  1605.000000    militant  1605.000000   3.0000   3.0000\n",
       "506   Default  1395.000000    shooting  1395.000000   2.0000   2.0000\n",
       "12    Default  1026.000000     student  1026.000000   1.0000   1.0000\n",
       "...       ...          ...         ...          ...      ...      ...\n",
       "1235  Topic20    54.135845      agrees    55.081535   3.5007  -5.4582\n",
       "1519  Topic20    53.068871        pack    54.014561   3.5003  -5.4781\n",
       "1515  Topic20    53.068871        brat    54.014561   3.5003  -5.4781\n",
       "1041  Topic20    52.950623   cawthorne    53.896313   3.5003  -5.4804\n",
       "1105  Topic20    47.330612      briton    48.276302   3.4982  -5.5926\n",
       "1987  Topic20    46.501282      timing    47.446972   3.4978  -5.6102\n",
       "1988  Topic20    46.501282    verifies    47.446972   3.4978  -5.6102\n",
       "2316  Topic20    44.828033    underage    45.773724   3.4971  -5.6469\n",
       "1266  Topic20    41.452560     ignored    42.398251   3.4954  -5.7252\n",
       "1704  Topic20   166.688080       style   175.006424   3.4693  -4.3336\n",
       "883   Topic20   183.569580      behind   197.410568   3.4453  -4.2371\n",
       "1501  Topic20   307.209015        fall   346.320068   3.3981  -3.7222\n",
       "199   Topic20   657.378052      school   839.836914   3.2730  -2.9615\n",
       "182   Topic20   217.607086       young   257.227142   3.3507  -4.0670\n",
       "746   Topic20   257.119415        five   404.925293   3.0638  -3.9002\n",
       "63    Topic20   241.181824      female   462.078644   2.8678  -3.9642\n",
       "467   Topic20   478.510040        girl  1490.288330   2.3819  -3.2790\n",
       "576   Topic20    92.456825    outraged   129.437759   3.1815  -4.9230\n",
       "560   Topic20   286.792267         day   808.172119   2.4820  -3.7910\n",
       "656   Topic20   125.262543       never   214.628891   2.9795  -4.6193\n",
       "1891  Topic20   111.788864          14   193.688568   2.9683  -4.7331\n",
       "501   Topic20   152.963837        said   452.034332   2.4344  -4.4195\n",
       "217   Topic20   317.972626     islamic  2870.520264   1.3177  -3.6878\n",
       "221   Topic20   285.548706       state  2875.609375   1.2084  -3.7953\n",
       "1169  Topic20   157.422852      parent   535.178345   2.2943  -4.3908\n",
       "59    Topic20   163.844376       claim  2966.220947   0.6218  -4.3508\n",
       "61    Topic20   141.138519        dead  1573.409302   1.1067  -4.5000\n",
       "795   Topic20   117.417130      killer   423.639709   2.2348  -4.6840\n",
       "64    Topic20   106.750443         god   739.483887   1.5825  -4.7792\n",
       "65    Topic20   104.631393      priest   446.271484   2.0675  -4.7993\n",
       "\n",
       "[1053 rows x 6 columns], token_table=      Topic      Freq      Term\n",
       "term                           \n",
       "74        2  0.403019       000\n",
       "74        9  0.424435       000\n",
       "74       10  0.007788       000\n",
       "74       11  0.164517       000\n",
       "75        5  0.490847        10\n",
       "75        9  0.386657        10\n",
       "75       18  0.118081        10\n",
       "239       7  0.745198       100\n",
       "239      10  0.078718       100\n",
       "239      11  0.174929       100\n",
       "618       2  0.129656        11\n",
       "618       7  0.814028        11\n",
       "618       8  0.054803        11\n",
       "453      14  0.910411        12\n",
       "453      19  0.084558        12\n",
       "2163     20  0.992026        13\n",
       "1891     10  0.418197        14\n",
       "1891     20  0.578248        14\n",
       "943       9  0.992864        16\n",
       "1791      5  0.990902      1795\n",
       "1436     15  0.996992        19\n",
       "1540     15  0.987270     1970s\n",
       "666       1  0.990790      2012\n",
       "723       7  0.996213      2015\n",
       "2552     17  0.990750        25\n",
       "84       17  0.982475        28\n",
       "2127     13  0.979931       280\n",
       "207       2  0.655417       300\n",
       "207       4  0.097532       300\n",
       "207      10  0.232127       300\n",
       "...     ...       ...       ...\n",
       "1799     11  0.984172   working\n",
       "279       2  0.146482     world\n",
       "279       9  0.394787     world\n",
       "279      11  0.069668     world\n",
       "279      13  0.141123     world\n",
       "279      15  0.103609     world\n",
       "279      18  0.080387     world\n",
       "279      19  0.060736     world\n",
       "43       11  0.991857       woz\n",
       "19       11  0.997989   wozniak\n",
       "433       1  0.998600    wright\n",
       "433      13  0.000990    wright\n",
       "280       2  0.072385      year\n",
       "280      10  0.002193      year\n",
       "280      11  0.135996      year\n",
       "280      15  0.339990      year\n",
       "280      16  0.091030      year\n",
       "280      17  0.232509      year\n",
       "280      18  0.126125      year\n",
       "674       6  0.995813     yemen\n",
       "1129      3  0.996822        yo\n",
       "1288      2  0.120044      york\n",
       "1288     14  0.875877      york\n",
       "182      13  0.151617     young\n",
       "182      20  0.847500     young\n",
       "1713     18  0.991820  youngest\n",
       "2172      7  0.992190       ypg\n",
       "295      11  0.996625      zack\n",
       "613       6  0.998527     zehaf\n",
       "171      19  0.990974  zeppelin\n",
       "\n",
       "[1533 rows x 3 columns], R=30, lambda_step=0.01, plot_opts={'xlab': 'PC1', 'ylab': 'PC2'}, topic_order=[8, 16, 10, 7, 6, 20, 14, 13, 17, 12, 11, 1, 15, 3, 5, 9, 4, 19, 2, 18])"
      ]
     },
     "execution_count": 35,
     "metadata": {},
     "output_type": "execute_result"
    }
   ],
   "source": [
    "pyLDAvis.gensim.prepare(ldamodel, corpus, dictionary)"
   ]
  },
  {
   "cell_type": "markdown",
   "metadata": {},
   "source": [
    "## preprocessing for Latent Semantic Analysis"
   ]
  },
  {
   "cell_type": "markdown",
   "metadata": {},
   "source": [
    " More processing before applying vectorizers. Latent semantic analysis is another technique used to analyze the relationships between the documents and the terms in them."
   ]
  },
  {
   "cell_type": "code",
   "execution_count": 36,
   "metadata": {},
   "outputs": [],
   "source": [
    "import re"
   ]
  },
  {
   "cell_type": "code",
   "execution_count": 37,
   "metadata": {},
   "outputs": [
    {
     "name": "stderr",
     "output_type": "stream",
     "text": [
      "<input>:6: DeprecationWarning: invalid escape sequence \\d\n",
      "<input>:6: DeprecationWarning: invalid escape sequence \\d\n",
      "<input>:6: DeprecationWarning: invalid escape sequence \\d\n",
      "<ipython-input-37-6de38bea8180>:6: DeprecationWarning: invalid escape sequence \\d\n",
      "  text = re.sub('[\\d]','',text)\n"
     ]
    }
   ],
   "source": [
    "def cleaner(text):\n",
    "    text = re.sub('&#39;','',text).lower()\n",
    "    text = re.sub('<br />','',text)\n",
    "    text = re.sub('<.*>.*</.*>','', text)\n",
    "    text = re.sub('\\\\ufeff', '', text)\n",
    "    text = re.sub('[\\d]','',text)\n",
    "    text = re.sub('[^a-z ]','',text)\n",
    "    \n",
    "    return text"
   ]
  },
  {
   "cell_type": "code",
   "execution_count": 38,
   "metadata": {},
   "outputs": [],
   "source": [
    "df_all['articleBody'] = df_all['articleBody'].map(str)\n",
    "df_all['articleBody'] = df_all['articleBody'].apply(cleaner)"
   ]
  },
  {
   "cell_type": "code",
   "execution_count": 39,
   "metadata": {
    "scrolled": true
   },
   "outputs": [
    {
     "data": {
      "text/plain": [
       "'danny boyle directing untitled film seth rogen eyed play apple co founder steve wozniak sony steve job biopic danny boyle directing untitled film based walter isaacson book adapted aaron sorkin one anticipated biopics recent year negotiation yet begun even clear rogen official offer producer scott rudin guymon casady mark gordon set sight talent talk course may naught christian bale actor play job still midst closing deal source say dealmaking process sensitive stage insider say boyle flying los angeles meet actress play one female lead assistant job insider say jessica chastain one actress meeting list wozniak known woz co founded apple job ronald wayne first met job worked atari later responsible creating early apple computer'"
      ]
     },
     "execution_count": 39,
     "metadata": {},
     "output_type": "execute_result"
    }
   ],
   "source": [
    "df_all['articleBody'].iloc[1]"
   ]
  },
  {
   "cell_type": "code",
   "execution_count": 40,
   "metadata": {},
   "outputs": [],
   "source": [
    "df_all['Headline'] = df_all['Headline'].map(str)\n",
    "df_all['Headline'] = df_all['Headline'].apply(cleaner)"
   ]
  },
  {
   "cell_type": "markdown",
   "metadata": {},
   "source": [
    "### Saving work to CSV "
   ]
  },
  {
   "cell_type": "code",
   "execution_count": 41,
   "metadata": {},
   "outputs": [],
   "source": [
    "df_all.to_csv('./preprocessed.csv')"
   ]
  },
  {
   "cell_type": "code",
   "execution_count": 42,
   "metadata": {},
   "outputs": [],
   "source": [
    "df_all = pd.read_csv('../preprocessed.csv')"
   ]
  },
  {
   "cell_type": "markdown",
   "metadata": {},
   "source": [
    "### tfidf vectorizer\n",
    "\n",
    "Using TF IDF vectorizer to turn into sparse matrices after preprocessing then convert the matrices into dataframes.  "
   ]
  },
  {
   "cell_type": "code",
   "execution_count": 43,
   "metadata": {},
   "outputs": [
    {
     "data": {
      "text/plain": [
       "<49972x18408 sparse matrix of type '<class 'numpy.float64'>'\n",
       "\twith 6480420 stored elements in Compressed Sparse Row format>"
      ]
     },
     "execution_count": 43,
     "metadata": {},
     "output_type": "execute_result"
    }
   ],
   "source": [
    "tfidf_vector = TfidfVectorizer(min_df = 5, stop_words='english')\n",
    "\n",
    "articleBody_matrix_sparse = tfidf_vector.fit_transform(df_all['articleBody'])\n",
    "articleBody_matrix_sparse"
   ]
  },
  {
   "cell_type": "code",
   "execution_count": 44,
   "metadata": {},
   "outputs": [],
   "source": [
    "articleBody_df_tfdf = pd.DataFrame(articleBody_matrix_sparse.toarray(),\n",
    "                                 index = df_all.index,\n",
    "                                 columns = tfidf_vector.get_feature_names())"
   ]
  },
  {
   "cell_type": "code",
   "execution_count": 45,
   "metadata": {
    "scrolled": false
   },
   "outputs": [
    {
     "data": {
      "text/html": [
       "<div>\n",
       "<style scoped>\n",
       "    .dataframe tbody tr th:only-of-type {\n",
       "        vertical-align: middle;\n",
       "    }\n",
       "\n",
       "    .dataframe tbody tr th {\n",
       "        vertical-align: top;\n",
       "    }\n",
       "\n",
       "    .dataframe thead th {\n",
       "        text-align: right;\n",
       "    }\n",
       "</style>\n",
       "<table border=\"1\" class=\"dataframe\">\n",
       "  <thead>\n",
       "    <tr style=\"text-align: right;\">\n",
       "      <th></th>\n",
       "      <th>aafia</th>\n",
       "      <th>aamaq</th>\n",
       "      <th>aamir</th>\n",
       "      <th>aan</th>\n",
       "      <th>aapl</th>\n",
       "      <th>aaron</th>\n",
       "      <th>aback</th>\n",
       "      <th>abadam</th>\n",
       "      <th>abadi</th>\n",
       "      <th>abagnale</th>\n",
       "      <th>...</th>\n",
       "      <th>zobl</th>\n",
       "      <th>zone</th>\n",
       "      <th>zoning</th>\n",
       "      <th>zoology</th>\n",
       "      <th>zor</th>\n",
       "      <th>zubayr</th>\n",
       "      <th>zubeyr</th>\n",
       "      <th>zuckerberg</th>\n",
       "      <th>zulu</th>\n",
       "      <th>zxycaeuwb</th>\n",
       "    </tr>\n",
       "  </thead>\n",
       "  <tbody>\n",
       "    <tr>\n",
       "      <th>0</th>\n",
       "      <td>0.0</td>\n",
       "      <td>0.0</td>\n",
       "      <td>0.0</td>\n",
       "      <td>0.0</td>\n",
       "      <td>0.0</td>\n",
       "      <td>0.07737</td>\n",
       "      <td>0.0</td>\n",
       "      <td>0.0</td>\n",
       "      <td>0.0</td>\n",
       "      <td>0.0</td>\n",
       "      <td>...</td>\n",
       "      <td>0.0</td>\n",
       "      <td>0.0</td>\n",
       "      <td>0.0</td>\n",
       "      <td>0.0</td>\n",
       "      <td>0.0</td>\n",
       "      <td>0.0</td>\n",
       "      <td>0.0</td>\n",
       "      <td>0.0</td>\n",
       "      <td>0.0</td>\n",
       "      <td>0.0</td>\n",
       "    </tr>\n",
       "    <tr>\n",
       "      <th>1</th>\n",
       "      <td>0.0</td>\n",
       "      <td>0.0</td>\n",
       "      <td>0.0</td>\n",
       "      <td>0.0</td>\n",
       "      <td>0.0</td>\n",
       "      <td>0.07737</td>\n",
       "      <td>0.0</td>\n",
       "      <td>0.0</td>\n",
       "      <td>0.0</td>\n",
       "      <td>0.0</td>\n",
       "      <td>...</td>\n",
       "      <td>0.0</td>\n",
       "      <td>0.0</td>\n",
       "      <td>0.0</td>\n",
       "      <td>0.0</td>\n",
       "      <td>0.0</td>\n",
       "      <td>0.0</td>\n",
       "      <td>0.0</td>\n",
       "      <td>0.0</td>\n",
       "      <td>0.0</td>\n",
       "      <td>0.0</td>\n",
       "    </tr>\n",
       "    <tr>\n",
       "      <th>2</th>\n",
       "      <td>0.0</td>\n",
       "      <td>0.0</td>\n",
       "      <td>0.0</td>\n",
       "      <td>0.0</td>\n",
       "      <td>0.0</td>\n",
       "      <td>0.07737</td>\n",
       "      <td>0.0</td>\n",
       "      <td>0.0</td>\n",
       "      <td>0.0</td>\n",
       "      <td>0.0</td>\n",
       "      <td>...</td>\n",
       "      <td>0.0</td>\n",
       "      <td>0.0</td>\n",
       "      <td>0.0</td>\n",
       "      <td>0.0</td>\n",
       "      <td>0.0</td>\n",
       "      <td>0.0</td>\n",
       "      <td>0.0</td>\n",
       "      <td>0.0</td>\n",
       "      <td>0.0</td>\n",
       "      <td>0.0</td>\n",
       "    </tr>\n",
       "    <tr>\n",
       "      <th>3</th>\n",
       "      <td>0.0</td>\n",
       "      <td>0.0</td>\n",
       "      <td>0.0</td>\n",
       "      <td>0.0</td>\n",
       "      <td>0.0</td>\n",
       "      <td>0.07737</td>\n",
       "      <td>0.0</td>\n",
       "      <td>0.0</td>\n",
       "      <td>0.0</td>\n",
       "      <td>0.0</td>\n",
       "      <td>...</td>\n",
       "      <td>0.0</td>\n",
       "      <td>0.0</td>\n",
       "      <td>0.0</td>\n",
       "      <td>0.0</td>\n",
       "      <td>0.0</td>\n",
       "      <td>0.0</td>\n",
       "      <td>0.0</td>\n",
       "      <td>0.0</td>\n",
       "      <td>0.0</td>\n",
       "      <td>0.0</td>\n",
       "    </tr>\n",
       "    <tr>\n",
       "      <th>4</th>\n",
       "      <td>0.0</td>\n",
       "      <td>0.0</td>\n",
       "      <td>0.0</td>\n",
       "      <td>0.0</td>\n",
       "      <td>0.0</td>\n",
       "      <td>0.07737</td>\n",
       "      <td>0.0</td>\n",
       "      <td>0.0</td>\n",
       "      <td>0.0</td>\n",
       "      <td>0.0</td>\n",
       "      <td>...</td>\n",
       "      <td>0.0</td>\n",
       "      <td>0.0</td>\n",
       "      <td>0.0</td>\n",
       "      <td>0.0</td>\n",
       "      <td>0.0</td>\n",
       "      <td>0.0</td>\n",
       "      <td>0.0</td>\n",
       "      <td>0.0</td>\n",
       "      <td>0.0</td>\n",
       "      <td>0.0</td>\n",
       "    </tr>\n",
       "  </tbody>\n",
       "</table>\n",
       "<p>5 rows × 18408 columns</p>\n",
       "</div>"
      ],
      "text/plain": [
       "   aafia  aamaq  aamir  aan  aapl    aaron  aback  abadam  abadi  abagnale  \\\n",
       "0    0.0    0.0    0.0  0.0   0.0  0.07737    0.0     0.0    0.0       0.0   \n",
       "1    0.0    0.0    0.0  0.0   0.0  0.07737    0.0     0.0    0.0       0.0   \n",
       "2    0.0    0.0    0.0  0.0   0.0  0.07737    0.0     0.0    0.0       0.0   \n",
       "3    0.0    0.0    0.0  0.0   0.0  0.07737    0.0     0.0    0.0       0.0   \n",
       "4    0.0    0.0    0.0  0.0   0.0  0.07737    0.0     0.0    0.0       0.0   \n",
       "\n",
       "     ...      zobl  zone  zoning  zoology  zor  zubayr  zubeyr  zuckerberg  \\\n",
       "0    ...       0.0   0.0     0.0      0.0  0.0     0.0     0.0         0.0   \n",
       "1    ...       0.0   0.0     0.0      0.0  0.0     0.0     0.0         0.0   \n",
       "2    ...       0.0   0.0     0.0      0.0  0.0     0.0     0.0         0.0   \n",
       "3    ...       0.0   0.0     0.0      0.0  0.0     0.0     0.0         0.0   \n",
       "4    ...       0.0   0.0     0.0      0.0  0.0     0.0     0.0         0.0   \n",
       "\n",
       "   zulu  zxycaeuwb  \n",
       "0   0.0        0.0  \n",
       "1   0.0        0.0  \n",
       "2   0.0        0.0  \n",
       "3   0.0        0.0  \n",
       "4   0.0        0.0  \n",
       "\n",
       "[5 rows x 18408 columns]"
      ]
     },
     "execution_count": 45,
     "metadata": {},
     "output_type": "execute_result"
    }
   ],
   "source": [
    "articleBody_df_tfdf.head()"
   ]
  },
  {
   "cell_type": "code",
   "execution_count": 46,
   "metadata": {},
   "outputs": [
    {
     "data": {
      "text/plain": [
       "<49972x2736 sparse matrix of type '<class 'numpy.float64'>'\n",
       "\twith 388147 stored elements in Compressed Sparse Row format>"
      ]
     },
     "execution_count": 46,
     "metadata": {},
     "output_type": "execute_result"
    }
   ],
   "source": [
    "headline_matrix_sparse = tfidf_vector.fit_transform(df_all['Headline'])\n",
    "headline_matrix_sparse"
   ]
  },
  {
   "cell_type": "code",
   "execution_count": 47,
   "metadata": {},
   "outputs": [],
   "source": [
    "headline_df_tfdf = pd.DataFrame(headline_matrix_sparse.toarray(),\n",
    "                                 index = df_all.index,\n",
    "                                 columns = tfidf_vector.get_feature_names())"
   ]
  },
  {
   "cell_type": "code",
   "execution_count": 48,
   "metadata": {},
   "outputs": [
    {
     "data": {
      "text/html": [
       "<div>\n",
       "<style scoped>\n",
       "    .dataframe tbody tr th:only-of-type {\n",
       "        vertical-align: middle;\n",
       "    }\n",
       "\n",
       "    .dataframe tbody tr th {\n",
       "        vertical-align: top;\n",
       "    }\n",
       "\n",
       "    .dataframe thead th {\n",
       "        text-align: right;\n",
       "    }\n",
       "</style>\n",
       "<table border=\"1\" class=\"dataframe\">\n",
       "  <thead>\n",
       "    <tr style=\"text-align: right;\">\n",
       "      <th></th>\n",
       "      <th>aaron</th>\n",
       "      <th>abandoned</th>\n",
       "      <th>abdel</th>\n",
       "      <th>abdi</th>\n",
       "      <th>abducted</th>\n",
       "      <th>abducting</th>\n",
       "      <th>abdul</th>\n",
       "      <th>abdullah</th>\n",
       "      <th>abort</th>\n",
       "      <th>aborted</th>\n",
       "      <th>...</th>\n",
       "      <th>younger</th>\n",
       "      <th>youngest</th>\n",
       "      <th>youtube</th>\n",
       "      <th>ypg</th>\n",
       "      <th>yum</th>\n",
       "      <th>zack</th>\n",
       "      <th>zehaf</th>\n",
       "      <th>zeppelin</th>\n",
       "      <th>zero</th>\n",
       "      <th>zhejiang</th>\n",
       "    </tr>\n",
       "  </thead>\n",
       "  <tbody>\n",
       "    <tr>\n",
       "      <th>0</th>\n",
       "      <td>0.0</td>\n",
       "      <td>0.0</td>\n",
       "      <td>0.0</td>\n",
       "      <td>0.0</td>\n",
       "      <td>0.0</td>\n",
       "      <td>0.0</td>\n",
       "      <td>0.0</td>\n",
       "      <td>0.0</td>\n",
       "      <td>0.0</td>\n",
       "      <td>0.0</td>\n",
       "      <td>...</td>\n",
       "      <td>0.0</td>\n",
       "      <td>0.0</td>\n",
       "      <td>0.0</td>\n",
       "      <td>0.0</td>\n",
       "      <td>0.0</td>\n",
       "      <td>0.0</td>\n",
       "      <td>0.0</td>\n",
       "      <td>0.0</td>\n",
       "      <td>0.0</td>\n",
       "      <td>0.0</td>\n",
       "    </tr>\n",
       "    <tr>\n",
       "      <th>1</th>\n",
       "      <td>0.0</td>\n",
       "      <td>0.0</td>\n",
       "      <td>0.0</td>\n",
       "      <td>0.0</td>\n",
       "      <td>0.0</td>\n",
       "      <td>0.0</td>\n",
       "      <td>0.0</td>\n",
       "      <td>0.0</td>\n",
       "      <td>0.0</td>\n",
       "      <td>0.0</td>\n",
       "      <td>...</td>\n",
       "      <td>0.0</td>\n",
       "      <td>0.0</td>\n",
       "      <td>0.0</td>\n",
       "      <td>0.0</td>\n",
       "      <td>0.0</td>\n",
       "      <td>0.0</td>\n",
       "      <td>0.0</td>\n",
       "      <td>0.0</td>\n",
       "      <td>0.0</td>\n",
       "      <td>0.0</td>\n",
       "    </tr>\n",
       "    <tr>\n",
       "      <th>2</th>\n",
       "      <td>0.0</td>\n",
       "      <td>0.0</td>\n",
       "      <td>0.0</td>\n",
       "      <td>0.0</td>\n",
       "      <td>0.0</td>\n",
       "      <td>0.0</td>\n",
       "      <td>0.0</td>\n",
       "      <td>0.0</td>\n",
       "      <td>0.0</td>\n",
       "      <td>0.0</td>\n",
       "      <td>...</td>\n",
       "      <td>0.0</td>\n",
       "      <td>0.0</td>\n",
       "      <td>0.0</td>\n",
       "      <td>0.0</td>\n",
       "      <td>0.0</td>\n",
       "      <td>0.0</td>\n",
       "      <td>0.0</td>\n",
       "      <td>0.0</td>\n",
       "      <td>0.0</td>\n",
       "      <td>0.0</td>\n",
       "    </tr>\n",
       "    <tr>\n",
       "      <th>3</th>\n",
       "      <td>0.0</td>\n",
       "      <td>0.0</td>\n",
       "      <td>0.0</td>\n",
       "      <td>0.0</td>\n",
       "      <td>0.0</td>\n",
       "      <td>0.0</td>\n",
       "      <td>0.0</td>\n",
       "      <td>0.0</td>\n",
       "      <td>0.0</td>\n",
       "      <td>0.0</td>\n",
       "      <td>...</td>\n",
       "      <td>0.0</td>\n",
       "      <td>0.0</td>\n",
       "      <td>0.0</td>\n",
       "      <td>0.0</td>\n",
       "      <td>0.0</td>\n",
       "      <td>0.0</td>\n",
       "      <td>0.0</td>\n",
       "      <td>0.0</td>\n",
       "      <td>0.0</td>\n",
       "      <td>0.0</td>\n",
       "    </tr>\n",
       "    <tr>\n",
       "      <th>4</th>\n",
       "      <td>0.0</td>\n",
       "      <td>0.0</td>\n",
       "      <td>0.0</td>\n",
       "      <td>0.0</td>\n",
       "      <td>0.0</td>\n",
       "      <td>0.0</td>\n",
       "      <td>0.0</td>\n",
       "      <td>0.0</td>\n",
       "      <td>0.0</td>\n",
       "      <td>0.0</td>\n",
       "      <td>...</td>\n",
       "      <td>0.0</td>\n",
       "      <td>0.0</td>\n",
       "      <td>0.0</td>\n",
       "      <td>0.0</td>\n",
       "      <td>0.0</td>\n",
       "      <td>0.0</td>\n",
       "      <td>0.0</td>\n",
       "      <td>0.0</td>\n",
       "      <td>0.0</td>\n",
       "      <td>0.0</td>\n",
       "    </tr>\n",
       "  </tbody>\n",
       "</table>\n",
       "<p>5 rows × 2736 columns</p>\n",
       "</div>"
      ],
      "text/plain": [
       "   aaron  abandoned  abdel  abdi  abducted  abducting  abdul  abdullah  abort  \\\n",
       "0    0.0        0.0    0.0   0.0       0.0        0.0    0.0       0.0    0.0   \n",
       "1    0.0        0.0    0.0   0.0       0.0        0.0    0.0       0.0    0.0   \n",
       "2    0.0        0.0    0.0   0.0       0.0        0.0    0.0       0.0    0.0   \n",
       "3    0.0        0.0    0.0   0.0       0.0        0.0    0.0       0.0    0.0   \n",
       "4    0.0        0.0    0.0   0.0       0.0        0.0    0.0       0.0    0.0   \n",
       "\n",
       "   aborted    ...     younger  youngest  youtube  ypg  yum  zack  zehaf  \\\n",
       "0      0.0    ...         0.0       0.0      0.0  0.0  0.0   0.0    0.0   \n",
       "1      0.0    ...         0.0       0.0      0.0  0.0  0.0   0.0    0.0   \n",
       "2      0.0    ...         0.0       0.0      0.0  0.0  0.0   0.0    0.0   \n",
       "3      0.0    ...         0.0       0.0      0.0  0.0  0.0   0.0    0.0   \n",
       "4      0.0    ...         0.0       0.0      0.0  0.0  0.0   0.0    0.0   \n",
       "\n",
       "   zeppelin  zero  zhejiang  \n",
       "0       0.0   0.0       0.0  \n",
       "1       0.0   0.0       0.0  \n",
       "2       0.0   0.0       0.0  \n",
       "3       0.0   0.0       0.0  \n",
       "4       0.0   0.0       0.0  \n",
       "\n",
       "[5 rows x 2736 columns]"
      ]
     },
     "execution_count": 48,
     "metadata": {},
     "output_type": "execute_result"
    }
   ],
   "source": [
    "headline_df_tfdf.head()"
   ]
  },
  {
   "cell_type": "markdown",
   "metadata": {},
   "source": [
    "## Truncated SVD\n",
    "\n",
    "We now need to  perform linear dimensionality reduction using singular value decomposition on the TF IDF matrices. We need the matrices in this form to calculate cosine similarity. "
   ]
  },
  {
   "cell_type": "code",
   "execution_count": 49,
   "metadata": {},
   "outputs": [],
   "source": [
    "from sklearn.decomposition import TruncatedSVD"
   ]
  },
  {
   "cell_type": "code",
   "execution_count": 50,
   "metadata": {},
   "outputs": [],
   "source": [
    "n_components = 100\n",
    "SVD = TruncatedSVD(n_components)\n",
    "component_names = [\"component_\"+str(i) for i in range(n_components)]"
   ]
  },
  {
   "cell_type": "code",
   "execution_count": 51,
   "metadata": {
    "scrolled": true
   },
   "outputs": [
    {
     "data": {
      "text/plain": [
       "array([[ 0.09533842,  0.20917657, -0.02623447, ..., -0.01842468,\n",
       "        -0.01329635,  0.00160345],\n",
       "       [ 0.09533842,  0.20917657, -0.02623447, ..., -0.01842468,\n",
       "        -0.01329635,  0.00160345],\n",
       "       [ 0.09533842,  0.20917657, -0.02623447, ..., -0.01842468,\n",
       "        -0.01329635,  0.00160345],\n",
       "       ...,\n",
       "       [ 0.10926743, -0.00405857, -0.01237433, ..., -0.0078137 ,\n",
       "         0.01992944, -0.00284108],\n",
       "       [ 0.17433645,  0.51243759, -0.07441561, ..., -0.03089425,\n",
       "        -0.01542923, -0.01088547],\n",
       "       [ 0.16292306,  0.66241464, -0.1288089 , ..., -0.0098862 ,\n",
       "        -0.01244625, -0.02435808]])"
      ]
     },
     "execution_count": 51,
     "metadata": {},
     "output_type": "execute_result"
    }
   ],
   "source": [
    "articleBody_svd_matrix = SVD.fit_transform(articleBody_df_tfdf)\n",
    "articleBody_svd_matrix"
   ]
  },
  {
   "cell_type": "code",
   "execution_count": 52,
   "metadata": {},
   "outputs": [
    {
     "data": {
      "text/plain": [
       "array([[ 0.01147472,  0.00935667,  0.00474699, ...,  0.05792497,\n",
       "        -0.06416471,  0.0664541 ],\n",
       "       [ 0.00723122,  0.05075079, -0.00227505, ...,  0.01528682,\n",
       "        -0.02149199,  0.00855633],\n",
       "       [ 0.01427154,  0.00729155,  0.00614716, ...,  0.05510026,\n",
       "        -0.05917941,  0.0499812 ],\n",
       "       ...,\n",
       "       [ 0.01233532,  0.00230594,  0.00526008, ..., -0.00503097,\n",
       "        -0.029953  ,  0.02016431],\n",
       "       [ 0.01735207,  0.01500696,  0.00583619, ..., -0.01005641,\n",
       "         0.00682132, -0.00083453],\n",
       "       [ 0.00979547,  0.01030194,  0.00912457, ..., -0.01906919,\n",
       "         0.03719339, -0.0674999 ]])"
      ]
     },
     "execution_count": 52,
     "metadata": {},
     "output_type": "execute_result"
    }
   ],
   "source": [
    "headline_svd_matrix = SVD.fit_transform(headline_df_tfdf)\n",
    "headline_svd_matrix"
   ]
  },
  {
   "cell_type": "code",
   "execution_count": 53,
   "metadata": {},
   "outputs": [
    {
     "data": {
      "text/plain": [
       "(49972, 100)"
      ]
     },
     "execution_count": 53,
     "metadata": {},
     "output_type": "execute_result"
    }
   ],
   "source": [
    "articleBody_svd_matrix.shape"
   ]
  },
  {
   "cell_type": "markdown",
   "metadata": {},
   "source": [
    "## Cosine Similarity\n",
    "\n",
    "Calculate distances between headline and articles to use as our X. "
   ]
  },
  {
   "cell_type": "code",
   "execution_count": 54,
   "metadata": {},
   "outputs": [],
   "source": [
    "import scipy.spatial as sp"
   ]
  },
  {
   "cell_type": "code",
   "execution_count": 55,
   "metadata": {},
   "outputs": [],
   "source": [
    "distances = []\n",
    "for i, body in enumerate(articleBody_svd_matrix): \n",
    "    distances.append(sp.distance.cdist([body], [headline_svd_matrix[i]], 'cosine')[0][0])"
   ]
  },
  {
   "cell_type": "code",
   "execution_count": 56,
   "metadata": {},
   "outputs": [],
   "source": [
    "df_all['distances'] = pd.Series(distances)"
   ]
  },
  {
   "cell_type": "code",
   "execution_count": 57,
   "metadata": {},
   "outputs": [
    {
     "data": {
      "text/plain": [
       "(49972, 6)"
      ]
     },
     "execution_count": 57,
     "metadata": {},
     "output_type": "execute_result"
    }
   ],
   "source": [
    "df_all.shape"
   ]
  },
  {
   "cell_type": "markdown",
   "metadata": {},
   "source": [
    "### Eliminating Nulls from all Data"
   ]
  },
  {
   "cell_type": "code",
   "execution_count": 58,
   "metadata": {},
   "outputs": [
    {
     "data": {
      "text/plain": [
       "(49972, 6)"
      ]
     },
     "execution_count": 58,
     "metadata": {},
     "output_type": "execute_result"
    }
   ],
   "source": [
    "df_all.shape"
   ]
  },
  {
   "cell_type": "code",
   "execution_count": 59,
   "metadata": {},
   "outputs": [],
   "source": [
    "df_all = df_all.dropna(axis=0)"
   ]
  },
  {
   "cell_type": "code",
   "execution_count": 60,
   "metadata": {},
   "outputs": [
    {
     "data": {
      "text/plain": [
       "(49970, 6)"
      ]
     },
     "execution_count": 60,
     "metadata": {},
     "output_type": "execute_result"
    }
   ],
   "source": [
    "df_all.shape"
   ]
  },
  {
   "cell_type": "code",
   "execution_count": 61,
   "metadata": {
    "scrolled": true
   },
   "outputs": [
    {
     "data": {
      "text/html": [
       "<div>\n",
       "<style scoped>\n",
       "    .dataframe tbody tr th:only-of-type {\n",
       "        vertical-align: middle;\n",
       "    }\n",
       "\n",
       "    .dataframe tbody tr th {\n",
       "        vertical-align: top;\n",
       "    }\n",
       "\n",
       "    .dataframe thead th {\n",
       "        text-align: right;\n",
       "    }\n",
       "</style>\n",
       "<table border=\"1\" class=\"dataframe\">\n",
       "  <thead>\n",
       "    <tr style=\"text-align: right;\">\n",
       "      <th></th>\n",
       "      <th>Unnamed: 0</th>\n",
       "      <th>Headline</th>\n",
       "      <th>Body ID</th>\n",
       "      <th>Stance</th>\n",
       "      <th>articleBody</th>\n",
       "      <th>distances</th>\n",
       "    </tr>\n",
       "  </thead>\n",
       "  <tbody>\n",
       "    <tr>\n",
       "      <th>0</th>\n",
       "      <td>0</td>\n",
       "      <td>police find mass graf least  body near mexico ...</td>\n",
       "      <td>712</td>\n",
       "      <td>unrelated</td>\n",
       "      <td>danny boyle directing untitled film seth rogen...</td>\n",
       "      <td>0.852089</td>\n",
       "    </tr>\n",
       "    <tr>\n",
       "      <th>1</th>\n",
       "      <td>1</td>\n",
       "      <td>seth rogen play apple steve wozniak</td>\n",
       "      <td>712</td>\n",
       "      <td>discuss</td>\n",
       "      <td>danny boyle directing untitled film seth rogen...</td>\n",
       "      <td>0.952722</td>\n",
       "    </tr>\n",
       "    <tr>\n",
       "      <th>2</th>\n",
       "      <td>2</td>\n",
       "      <td>mexico police find mass grave near site  stude...</td>\n",
       "      <td>712</td>\n",
       "      <td>unrelated</td>\n",
       "      <td>danny boyle directing untitled film seth rogen...</td>\n",
       "      <td>0.834662</td>\n",
       "    </tr>\n",
       "    <tr>\n",
       "      <th>3</th>\n",
       "      <td>3</td>\n",
       "      <td>mexico say missing student found first mass graf</td>\n",
       "      <td>712</td>\n",
       "      <td>unrelated</td>\n",
       "      <td>danny boyle directing untitled film seth rogen...</td>\n",
       "      <td>0.766238</td>\n",
       "    </tr>\n",
       "    <tr>\n",
       "      <th>4</th>\n",
       "      <td>4</td>\n",
       "      <td>new io  bug delete icloud document</td>\n",
       "      <td>712</td>\n",
       "      <td>unrelated</td>\n",
       "      <td>danny boyle directing untitled film seth rogen...</td>\n",
       "      <td>0.965413</td>\n",
       "    </tr>\n",
       "  </tbody>\n",
       "</table>\n",
       "</div>"
      ],
      "text/plain": [
       "   Unnamed: 0                                           Headline  Body ID  \\\n",
       "0           0  police find mass graf least  body near mexico ...      712   \n",
       "1           1                seth rogen play apple steve wozniak      712   \n",
       "2           2  mexico police find mass grave near site  stude...      712   \n",
       "3           3   mexico say missing student found first mass graf      712   \n",
       "4           4                 new io  bug delete icloud document      712   \n",
       "\n",
       "      Stance                                        articleBody  distances  \n",
       "0  unrelated  danny boyle directing untitled film seth rogen...   0.852089  \n",
       "1    discuss  danny boyle directing untitled film seth rogen...   0.952722  \n",
       "2  unrelated  danny boyle directing untitled film seth rogen...   0.834662  \n",
       "3  unrelated  danny boyle directing untitled film seth rogen...   0.766238  \n",
       "4  unrelated  danny boyle directing untitled film seth rogen...   0.965413  "
      ]
     },
     "execution_count": 61,
     "metadata": {},
     "output_type": "execute_result"
    }
   ],
   "source": [
    "df_all.head()"
   ]
  },
  {
   "cell_type": "markdown",
   "metadata": {},
   "source": [
    "### Adding labels to stances"
   ]
  },
  {
   "cell_type": "code",
   "execution_count": 62,
   "metadata": {},
   "outputs": [],
   "source": [
    "from sklearn import preprocessing"
   ]
  },
  {
   "cell_type": "code",
   "execution_count": 63,
   "metadata": {},
   "outputs": [
    {
     "name": "stdout",
     "output_type": "stream",
     "text": [
      "Classes: ['agree', 'disagree', 'discuss', 'unrelated']\n"
     ]
    }
   ],
   "source": [
    "le = preprocessing.LabelEncoder()\n",
    "le.fit(df_all['Stance'])\n",
    "print(\"Classes:\", list(le.classes_))\n",
    "stance_label = le.transform(df_all['Stance']) \n"
   ]
  },
  {
   "cell_type": "code",
   "execution_count": 64,
   "metadata": {
    "scrolled": true
   },
   "outputs": [
    {
     "data": {
      "text/plain": [
       "array([3, 2, 3, ..., 0, 2, 2])"
      ]
     },
     "execution_count": 64,
     "metadata": {},
     "output_type": "execute_result"
    }
   ],
   "source": [
    "stance_label"
   ]
  },
  {
   "cell_type": "markdown",
   "metadata": {},
   "source": [
    "Creating dummies for the four stances. "
   ]
  },
  {
   "cell_type": "code",
   "execution_count": 65,
   "metadata": {},
   "outputs": [],
   "source": [
    "df_all['stance_dummy'] = pd.Series(stance_label)"
   ]
  },
  {
   "cell_type": "code",
   "execution_count": 66,
   "metadata": {},
   "outputs": [
    {
     "data": {
      "text/html": [
       "<div>\n",
       "<style scoped>\n",
       "    .dataframe tbody tr th:only-of-type {\n",
       "        vertical-align: middle;\n",
       "    }\n",
       "\n",
       "    .dataframe tbody tr th {\n",
       "        vertical-align: top;\n",
       "    }\n",
       "\n",
       "    .dataframe thead th {\n",
       "        text-align: right;\n",
       "    }\n",
       "</style>\n",
       "<table border=\"1\" class=\"dataframe\">\n",
       "  <thead>\n",
       "    <tr style=\"text-align: right;\">\n",
       "      <th></th>\n",
       "      <th>Unnamed: 0</th>\n",
       "      <th>Headline</th>\n",
       "      <th>Body ID</th>\n",
       "      <th>Stance</th>\n",
       "      <th>articleBody</th>\n",
       "      <th>distances</th>\n",
       "      <th>stance_dummy</th>\n",
       "    </tr>\n",
       "  </thead>\n",
       "  <tbody>\n",
       "    <tr>\n",
       "      <th>0</th>\n",
       "      <td>0</td>\n",
       "      <td>police find mass graf least  body near mexico ...</td>\n",
       "      <td>712</td>\n",
       "      <td>unrelated</td>\n",
       "      <td>danny boyle directing untitled film seth rogen...</td>\n",
       "      <td>0.852089</td>\n",
       "      <td>3.0</td>\n",
       "    </tr>\n",
       "    <tr>\n",
       "      <th>1</th>\n",
       "      <td>1</td>\n",
       "      <td>seth rogen play apple steve wozniak</td>\n",
       "      <td>712</td>\n",
       "      <td>discuss</td>\n",
       "      <td>danny boyle directing untitled film seth rogen...</td>\n",
       "      <td>0.952722</td>\n",
       "      <td>2.0</td>\n",
       "    </tr>\n",
       "    <tr>\n",
       "      <th>2</th>\n",
       "      <td>2</td>\n",
       "      <td>mexico police find mass grave near site  stude...</td>\n",
       "      <td>712</td>\n",
       "      <td>unrelated</td>\n",
       "      <td>danny boyle directing untitled film seth rogen...</td>\n",
       "      <td>0.834662</td>\n",
       "      <td>3.0</td>\n",
       "    </tr>\n",
       "    <tr>\n",
       "      <th>3</th>\n",
       "      <td>3</td>\n",
       "      <td>mexico say missing student found first mass graf</td>\n",
       "      <td>712</td>\n",
       "      <td>unrelated</td>\n",
       "      <td>danny boyle directing untitled film seth rogen...</td>\n",
       "      <td>0.766238</td>\n",
       "      <td>3.0</td>\n",
       "    </tr>\n",
       "    <tr>\n",
       "      <th>4</th>\n",
       "      <td>4</td>\n",
       "      <td>new io  bug delete icloud document</td>\n",
       "      <td>712</td>\n",
       "      <td>unrelated</td>\n",
       "      <td>danny boyle directing untitled film seth rogen...</td>\n",
       "      <td>0.965413</td>\n",
       "      <td>3.0</td>\n",
       "    </tr>\n",
       "  </tbody>\n",
       "</table>\n",
       "</div>"
      ],
      "text/plain": [
       "   Unnamed: 0                                           Headline  Body ID  \\\n",
       "0           0  police find mass graf least  body near mexico ...      712   \n",
       "1           1                seth rogen play apple steve wozniak      712   \n",
       "2           2  mexico police find mass grave near site  stude...      712   \n",
       "3           3   mexico say missing student found first mass graf      712   \n",
       "4           4                 new io  bug delete icloud document      712   \n",
       "\n",
       "      Stance                                        articleBody  distances  \\\n",
       "0  unrelated  danny boyle directing untitled film seth rogen...   0.852089   \n",
       "1    discuss  danny boyle directing untitled film seth rogen...   0.952722   \n",
       "2  unrelated  danny boyle directing untitled film seth rogen...   0.834662   \n",
       "3  unrelated  danny boyle directing untitled film seth rogen...   0.766238   \n",
       "4  unrelated  danny boyle directing untitled film seth rogen...   0.965413   \n",
       "\n",
       "   stance_dummy  \n",
       "0           3.0  \n",
       "1           2.0  \n",
       "2           3.0  \n",
       "3           3.0  \n",
       "4           3.0  "
      ]
     },
     "execution_count": 66,
     "metadata": {},
     "output_type": "execute_result"
    }
   ],
   "source": [
    "df_all.head()"
   ]
  },
  {
   "cell_type": "code",
   "execution_count": 67,
   "metadata": {},
   "outputs": [
    {
     "data": {
      "text/html": [
       "<div>\n",
       "<style scoped>\n",
       "    .dataframe tbody tr th:only-of-type {\n",
       "        vertical-align: middle;\n",
       "    }\n",
       "\n",
       "    .dataframe tbody tr th {\n",
       "        vertical-align: top;\n",
       "    }\n",
       "\n",
       "    .dataframe thead th {\n",
       "        text-align: right;\n",
       "    }\n",
       "</style>\n",
       "<table border=\"1\" class=\"dataframe\">\n",
       "  <thead>\n",
       "    <tr style=\"text-align: right;\">\n",
       "      <th></th>\n",
       "      <th>agree</th>\n",
       "      <th>disagree</th>\n",
       "      <th>discuss</th>\n",
       "      <th>unrelated</th>\n",
       "    </tr>\n",
       "  </thead>\n",
       "  <tbody>\n",
       "    <tr>\n",
       "      <th>0</th>\n",
       "      <td>0</td>\n",
       "      <td>0</td>\n",
       "      <td>0</td>\n",
       "      <td>1</td>\n",
       "    </tr>\n",
       "    <tr>\n",
       "      <th>1</th>\n",
       "      <td>0</td>\n",
       "      <td>0</td>\n",
       "      <td>1</td>\n",
       "      <td>0</td>\n",
       "    </tr>\n",
       "    <tr>\n",
       "      <th>2</th>\n",
       "      <td>0</td>\n",
       "      <td>0</td>\n",
       "      <td>0</td>\n",
       "      <td>1</td>\n",
       "    </tr>\n",
       "    <tr>\n",
       "      <th>3</th>\n",
       "      <td>0</td>\n",
       "      <td>0</td>\n",
       "      <td>0</td>\n",
       "      <td>1</td>\n",
       "    </tr>\n",
       "    <tr>\n",
       "      <th>4</th>\n",
       "      <td>0</td>\n",
       "      <td>0</td>\n",
       "      <td>0</td>\n",
       "      <td>1</td>\n",
       "    </tr>\n",
       "  </tbody>\n",
       "</table>\n",
       "</div>"
      ],
      "text/plain": [
       "   agree  disagree  discuss  unrelated\n",
       "0      0         0        0          1\n",
       "1      0         0        1          0\n",
       "2      0         0        0          1\n",
       "3      0         0        0          1\n",
       "4      0         0        0          1"
      ]
     },
     "execution_count": 67,
     "metadata": {},
     "output_type": "execute_result"
    }
   ],
   "source": [
    "stance_dummy = pd.get_dummies(df_all['Stance'], drop_first=False)\n",
    "stance_dummy.head()"
   ]
  },
  {
   "cell_type": "markdown",
   "metadata": {},
   "source": [
    "Join both distances and stance dummy in one data frame for easy access and drop nulls if any. "
   ]
  },
  {
   "cell_type": "code",
   "execution_count": 68,
   "metadata": {
    "scrolled": true
   },
   "outputs": [
    {
     "data": {
      "text/html": [
       "<div>\n",
       "<style scoped>\n",
       "    .dataframe tbody tr th:only-of-type {\n",
       "        vertical-align: middle;\n",
       "    }\n",
       "\n",
       "    .dataframe tbody tr th {\n",
       "        vertical-align: top;\n",
       "    }\n",
       "\n",
       "    .dataframe thead th {\n",
       "        text-align: right;\n",
       "    }\n",
       "</style>\n",
       "<table border=\"1\" class=\"dataframe\">\n",
       "  <thead>\n",
       "    <tr style=\"text-align: right;\">\n",
       "      <th></th>\n",
       "      <th>distances</th>\n",
       "      <th>stance_dummy</th>\n",
       "    </tr>\n",
       "  </thead>\n",
       "  <tbody>\n",
       "    <tr>\n",
       "      <th>0</th>\n",
       "      <td>0.852089</td>\n",
       "      <td>3.0</td>\n",
       "    </tr>\n",
       "    <tr>\n",
       "      <th>1</th>\n",
       "      <td>0.952722</td>\n",
       "      <td>2.0</td>\n",
       "    </tr>\n",
       "    <tr>\n",
       "      <th>2</th>\n",
       "      <td>0.834662</td>\n",
       "      <td>3.0</td>\n",
       "    </tr>\n",
       "    <tr>\n",
       "      <th>3</th>\n",
       "      <td>0.766238</td>\n",
       "      <td>3.0</td>\n",
       "    </tr>\n",
       "    <tr>\n",
       "      <th>4</th>\n",
       "      <td>0.965413</td>\n",
       "      <td>3.0</td>\n",
       "    </tr>\n",
       "  </tbody>\n",
       "</table>\n",
       "</div>"
      ],
      "text/plain": [
       "   distances  stance_dummy\n",
       "0   0.852089           3.0\n",
       "1   0.952722           2.0\n",
       "2   0.834662           3.0\n",
       "3   0.766238           3.0\n",
       "4   0.965413           3.0"
      ]
     },
     "execution_count": 68,
     "metadata": {},
     "output_type": "execute_result"
    }
   ],
   "source": [
    "df_fix = pd.DataFrame([df_all['distances'], df_all['stance_dummy']]).T\n",
    "df_fix = df_fix.dropna(axis=0)\n",
    "df_fix.head()"
   ]
  },
  {
   "cell_type": "code",
   "execution_count": 69,
   "metadata": {},
   "outputs": [
    {
     "data": {
      "text/plain": [
       "(49968, 2)"
      ]
     },
     "execution_count": 69,
     "metadata": {},
     "output_type": "execute_result"
    }
   ],
   "source": [
    "df_fix.shape"
   ]
  },
  {
   "cell_type": "markdown",
   "metadata": {},
   "source": [
    "## Model with Distance"
   ]
  },
  {
   "cell_type": "code",
   "execution_count": 70,
   "metadata": {},
   "outputs": [],
   "source": [
    "from sklearn.model_selection import train_test_split"
   ]
  },
  {
   "cell_type": "code",
   "execution_count": 71,
   "metadata": {},
   "outputs": [
    {
     "name": "stderr",
     "output_type": "stream",
     "text": [
      "/anaconda3/envs/dsi/lib/python3.6/site-packages/ipykernel/__main__.py:1: FutureWarning: reshape is deprecated and will raise in a subsequent release. Please use .values.reshape(...) instead\n",
      "  if __name__ == '__main__':\n"
     ]
    }
   ],
   "source": [
    "X = df_fix['distances'].reshape(df_fix['distances'].shape[0], 1)\n",
    "y = df_fix['stance_dummy']\n",
    "\n",
    "X_train, X_test, y_train, y_test = train_test_split(X, y)"
   ]
  },
  {
   "cell_type": "code",
   "execution_count": 72,
   "metadata": {},
   "outputs": [
    {
     "data": {
      "text/plain": [
       "((37476, 1), (12492, 1), (37476,), (12492,))"
      ]
     },
     "execution_count": 72,
     "metadata": {},
     "output_type": "execute_result"
    }
   ],
   "source": [
    "X_train.shape, X_test.shape, y_train.shape, y_test.shape"
   ]
  },
  {
   "cell_type": "code",
   "execution_count": 73,
   "metadata": {
    "scrolled": true
   },
   "outputs": [
    {
     "data": {
      "text/plain": [
       "0.7323086775536344"
      ]
     },
     "execution_count": 73,
     "metadata": {},
     "output_type": "execute_result"
    }
   ],
   "source": [
    "lr = LogisticRegression()\n",
    "lr.fit(X_train, y_train)\n",
    "lr.score(X_train, y_train)"
   ]
  },
  {
   "cell_type": "code",
   "execution_count": 74,
   "metadata": {},
   "outputs": [
    {
     "data": {
      "text/plain": [
       "0.7280659622158181"
      ]
     },
     "execution_count": 74,
     "metadata": {},
     "output_type": "execute_result"
    }
   ],
   "source": [
    "lr.score(X_test, y_test)"
   ]
  },
  {
   "cell_type": "code",
   "execution_count": 75,
   "metadata": {},
   "outputs": [
    {
     "data": {
      "text/plain": [
       "0.9554114633365354"
      ]
     },
     "execution_count": 75,
     "metadata": {},
     "output_type": "execute_result"
    }
   ],
   "source": [
    "from sklearn.ensemble import RandomForestClassifier\n",
    "rf = RandomForestClassifier()\n",
    "rf.fit(X_train, y_train)\n",
    "rf.score(X_train, y_train)"
   ]
  },
  {
   "cell_type": "code",
   "execution_count": 76,
   "metadata": {},
   "outputs": [
    {
     "data": {
      "text/plain": [
       "0.6004642971501761"
      ]
     },
     "execution_count": 76,
     "metadata": {},
     "output_type": "execute_result"
    }
   ],
   "source": [
    "rf.score(X_test, y_test)"
   ]
  },
  {
   "cell_type": "markdown",
   "metadata": {},
   "source": [
    "After calculating cosine similarity between the headline and article body matrices the logistic regression model performed at 0.73156 compared to our baseline of 0.73171. Random forest scored very well but I found it was very overfit after scoring on the test. \n",
    "    "
   ]
  },
  {
   "cell_type": "markdown",
   "metadata": {},
   "source": [
    "## Reciever Operating Characteristic (ROC) Curve"
   ]
  },
  {
   "cell_type": "code",
   "execution_count": 77,
   "metadata": {},
   "outputs": [],
   "source": [
    "from sklearn.metrics import roc_auc_score"
   ]
  },
  {
   "cell_type": "code",
   "execution_count": 78,
   "metadata": {},
   "outputs": [
    {
     "data": {
      "image/png": "[encoded data removed]",
      "text/plain": [
       "<Figure size 504x504 with 1 Axes>"
      ]
     },
     "metadata": {},
     "output_type": "display_data"
    }
   ],
   "source": [
    "y_probas = lr.predict_proba(X_train)\n",
    "y_true = y_train\n",
    "\n",
    "import scikitplot as skplt\n",
    "import matplotlib.pyplot as plt\n",
    "\n",
    "skplt.metrics.plot_roc(y_true, y_probas, figsize=(7,7))\n",
    "plt.show()"
   ]
  },
  {
   "cell_type": "code",
   "execution_count": 79,
   "metadata": {},
   "outputs": [
    {
     "data": {
      "text/plain": [
       "(array([3., 2., 0., 1.]), (37476,))"
      ]
     },
     "execution_count": 79,
     "metadata": {},
     "output_type": "execute_result"
    }
   ],
   "source": [
    "y_true.unique(), y_true.shape"
   ]
  },
  {
   "cell_type": "code",
   "execution_count": 80,
   "metadata": {},
   "outputs": [
    {
     "data": {
      "text/plain": [
       "(array([0.01239605, 0.01248264, 0.01250638, ..., 0.83854244, 0.83973123,\n",
       "        0.84167663]), (37476, 4))"
      ]
     },
     "execution_count": 80,
     "metadata": {},
     "output_type": "execute_result"
    }
   ],
   "source": [
    "np.unique(y_probas), y_probas.shape"
   ]
  },
  {
   "cell_type": "code",
   "execution_count": 81,
   "metadata": {
    "scrolled": true
   },
   "outputs": [
    {
     "data": {
      "text/plain": [
       "array([[0.07404778, 0.01641419, 0.21848308, 0.69105494],\n",
       "       [0.07333306, 0.01752318, 0.16576292, 0.74338084],\n",
       "       [0.07360288, 0.01717247, 0.18144904, 0.72777562],\n",
       "       ...,\n",
       "       [0.07419468, 0.01603326, 0.23857131, 0.67120075],\n",
       "       [0.07364581, 0.01711153, 0.18427031, 0.72497235],\n",
       "       [0.07365049, 0.01710479, 0.18458415, 0.72466057]])"
      ]
     },
     "execution_count": 81,
     "metadata": {},
     "output_type": "execute_result"
    }
   ],
   "source": [
    "y_probas"
   ]
  },
  {
   "cell_type": "markdown",
   "metadata": {},
   "source": [
    "The curve plots the diagnostic ability for the classifier system. The ROC curve plots the sensitivity against the false positive rate at various thresholds. A macro average will give us a score for each class then take the average. A mirco average will aggregate the contributoins of each class to give the average metric. The micro average shows us there is still a possibility for us to reach this number!"
   ]
  },
  {
   "cell_type": "markdown",
   "metadata": {},
   "source": [
    "## Over Sampling \n",
    "\n",
    "Trying to adjust the class distribution. "
   ]
  },
  {
   "cell_type": "code",
   "execution_count": 82,
   "metadata": {},
   "outputs": [],
   "source": [
    "from imblearn.over_sampling import RandomOverSampler"
   ]
  },
  {
   "cell_type": "code",
   "execution_count": 83,
   "metadata": {},
   "outputs": [
    {
     "name": "stdout",
     "output_type": "stream",
     "text": [
      "[(0.0, 36542), (1.0, 36542), (2.0, 36542), (3.0, 36542)]\n"
     ]
    }
   ],
   "source": [
    "ros = RandomOverSampler(random_state=0)\n",
    "X_resampled, y_resampled = ros.fit_sample(X, y)\n",
    "from collections import Counter\n",
    "print(sorted(Counter(y_resampled).items()))"
   ]
  },
  {
   "cell_type": "code",
   "execution_count": 84,
   "metadata": {
    "scrolled": true
   },
   "outputs": [
    {
     "data": {
      "text/plain": [
       "0.2672814843194133"
      ]
     },
     "execution_count": 84,
     "metadata": {},
     "output_type": "execute_result"
    }
   ],
   "source": [
    "lr = LogisticRegression()\n",
    "lr.fit(X_resampled, y_resampled)\n",
    "lr.score(X_resampled, y_resampled)"
   ]
  },
  {
   "cell_type": "markdown",
   "metadata": {},
   "source": [
    "# Model with count vectorized body, count vectorized head, and distances"
   ]
  },
  {
   "cell_type": "markdown",
   "metadata": {},
   "source": [
    "I count vectorize both headline and body. "
   ]
  },
  {
   "cell_type": "code",
   "execution_count": 85,
   "metadata": {
    "scrolled": true
   },
   "outputs": [
    {
     "data": {
      "text/plain": [
       "<49970x19665 sparse matrix of type '<class 'numpy.int64'>'\n",
       "\twith 6483114 stored elements in Compressed Sparse Row format>"
      ]
     },
     "execution_count": 85,
     "metadata": {},
     "output_type": "execute_result"
    }
   ],
   "source": [
    "cvec_vector = CountVectorizer(stop_words='english')\n",
    "cvec_articleBody_matrix_sparse = cvec_vector.fit_transform(df_all['articleBody'])\n",
    "cvec_articleBody_matrix_sparse"
   ]
  },
  {
   "cell_type": "code",
   "execution_count": 86,
   "metadata": {},
   "outputs": [],
   "source": [
    "cvec_body_array = cvec_articleBody_matrix_sparse.toarray()"
   ]
  },
  {
   "cell_type": "code",
   "execution_count": 87,
   "metadata": {},
   "outputs": [],
   "source": [
    "df_cvec = pd.DataFrame(cvec_body_array)"
   ]
  },
  {
   "cell_type": "code",
   "execution_count": 88,
   "metadata": {},
   "outputs": [
    {
     "data": {
      "text/html": [
       "<div>\n",
       "<style scoped>\n",
       "    .dataframe tbody tr th:only-of-type {\n",
       "        vertical-align: middle;\n",
       "    }\n",
       "\n",
       "    .dataframe tbody tr th {\n",
       "        vertical-align: top;\n",
       "    }\n",
       "\n",
       "    .dataframe thead th {\n",
       "        text-align: right;\n",
       "    }\n",
       "</style>\n",
       "<table border=\"1\" class=\"dataframe\">\n",
       "  <thead>\n",
       "    <tr style=\"text-align: right;\">\n",
       "      <th></th>\n",
       "      <th>0</th>\n",
       "      <th>1</th>\n",
       "      <th>2</th>\n",
       "      <th>3</th>\n",
       "      <th>4</th>\n",
       "      <th>5</th>\n",
       "      <th>6</th>\n",
       "      <th>7</th>\n",
       "      <th>8</th>\n",
       "      <th>9</th>\n",
       "      <th>...</th>\n",
       "      <th>19655</th>\n",
       "      <th>19656</th>\n",
       "      <th>19657</th>\n",
       "      <th>19658</th>\n",
       "      <th>19659</th>\n",
       "      <th>19660</th>\n",
       "      <th>19661</th>\n",
       "      <th>19662</th>\n",
       "      <th>19663</th>\n",
       "      <th>19664</th>\n",
       "    </tr>\n",
       "  </thead>\n",
       "  <tbody>\n",
       "    <tr>\n",
       "      <th>0</th>\n",
       "      <td>0</td>\n",
       "      <td>0</td>\n",
       "      <td>0</td>\n",
       "      <td>0</td>\n",
       "      <td>0</td>\n",
       "      <td>1</td>\n",
       "      <td>0</td>\n",
       "      <td>0</td>\n",
       "      <td>0</td>\n",
       "      <td>0</td>\n",
       "      <td>...</td>\n",
       "      <td>0</td>\n",
       "      <td>0</td>\n",
       "      <td>0</td>\n",
       "      <td>0</td>\n",
       "      <td>0</td>\n",
       "      <td>0</td>\n",
       "      <td>0</td>\n",
       "      <td>0</td>\n",
       "      <td>0</td>\n",
       "      <td>0</td>\n",
       "    </tr>\n",
       "    <tr>\n",
       "      <th>1</th>\n",
       "      <td>0</td>\n",
       "      <td>0</td>\n",
       "      <td>0</td>\n",
       "      <td>0</td>\n",
       "      <td>0</td>\n",
       "      <td>1</td>\n",
       "      <td>0</td>\n",
       "      <td>0</td>\n",
       "      <td>0</td>\n",
       "      <td>0</td>\n",
       "      <td>...</td>\n",
       "      <td>0</td>\n",
       "      <td>0</td>\n",
       "      <td>0</td>\n",
       "      <td>0</td>\n",
       "      <td>0</td>\n",
       "      <td>0</td>\n",
       "      <td>0</td>\n",
       "      <td>0</td>\n",
       "      <td>0</td>\n",
       "      <td>0</td>\n",
       "    </tr>\n",
       "    <tr>\n",
       "      <th>2</th>\n",
       "      <td>0</td>\n",
       "      <td>0</td>\n",
       "      <td>0</td>\n",
       "      <td>0</td>\n",
       "      <td>0</td>\n",
       "      <td>1</td>\n",
       "      <td>0</td>\n",
       "      <td>0</td>\n",
       "      <td>0</td>\n",
       "      <td>0</td>\n",
       "      <td>...</td>\n",
       "      <td>0</td>\n",
       "      <td>0</td>\n",
       "      <td>0</td>\n",
       "      <td>0</td>\n",
       "      <td>0</td>\n",
       "      <td>0</td>\n",
       "      <td>0</td>\n",
       "      <td>0</td>\n",
       "      <td>0</td>\n",
       "      <td>0</td>\n",
       "    </tr>\n",
       "    <tr>\n",
       "      <th>3</th>\n",
       "      <td>0</td>\n",
       "      <td>0</td>\n",
       "      <td>0</td>\n",
       "      <td>0</td>\n",
       "      <td>0</td>\n",
       "      <td>1</td>\n",
       "      <td>0</td>\n",
       "      <td>0</td>\n",
       "      <td>0</td>\n",
       "      <td>0</td>\n",
       "      <td>...</td>\n",
       "      <td>0</td>\n",
       "      <td>0</td>\n",
       "      <td>0</td>\n",
       "      <td>0</td>\n",
       "      <td>0</td>\n",
       "      <td>0</td>\n",
       "      <td>0</td>\n",
       "      <td>0</td>\n",
       "      <td>0</td>\n",
       "      <td>0</td>\n",
       "    </tr>\n",
       "    <tr>\n",
       "      <th>4</th>\n",
       "      <td>0</td>\n",
       "      <td>0</td>\n",
       "      <td>0</td>\n",
       "      <td>0</td>\n",
       "      <td>0</td>\n",
       "      <td>1</td>\n",
       "      <td>0</td>\n",
       "      <td>0</td>\n",
       "      <td>0</td>\n",
       "      <td>0</td>\n",
       "      <td>...</td>\n",
       "      <td>0</td>\n",
       "      <td>0</td>\n",
       "      <td>0</td>\n",
       "      <td>0</td>\n",
       "      <td>0</td>\n",
       "      <td>0</td>\n",
       "      <td>0</td>\n",
       "      <td>0</td>\n",
       "      <td>0</td>\n",
       "      <td>0</td>\n",
       "    </tr>\n",
       "  </tbody>\n",
       "</table>\n",
       "<p>5 rows × 19665 columns</p>\n",
       "</div>"
      ],
      "text/plain": [
       "   0      1      2      3      4      5      6      7      8      9      \\\n",
       "0      0      0      0      0      0      1      0      0      0      0   \n",
       "1      0      0      0      0      0      1      0      0      0      0   \n",
       "2      0      0      0      0      0      1      0      0      0      0   \n",
       "3      0      0      0      0      0      1      0      0      0      0   \n",
       "4      0      0      0      0      0      1      0      0      0      0   \n",
       "\n",
       "   ...    19655  19656  19657  19658  19659  19660  19661  19662  19663  19664  \n",
       "0  ...        0      0      0      0      0      0      0      0      0      0  \n",
       "1  ...        0      0      0      0      0      0      0      0      0      0  \n",
       "2  ...        0      0      0      0      0      0      0      0      0      0  \n",
       "3  ...        0      0      0      0      0      0      0      0      0      0  \n",
       "4  ...        0      0      0      0      0      0      0      0      0      0  \n",
       "\n",
       "[5 rows x 19665 columns]"
      ]
     },
     "execution_count": 88,
     "metadata": {},
     "output_type": "execute_result"
    }
   ],
   "source": [
    "df_cvec.head()"
   ]
  },
  {
   "cell_type": "code",
   "execution_count": 89,
   "metadata": {
    "scrolled": true
   },
   "outputs": [
    {
     "data": {
      "text/plain": [
       "<49970x2800 sparse matrix of type '<class 'numpy.int64'>'\n",
       "\twith 388345 stored elements in Compressed Sparse Row format>"
      ]
     },
     "execution_count": 89,
     "metadata": {},
     "output_type": "execute_result"
    }
   ],
   "source": [
    "cvec_vector = CountVectorizer(stop_words='english')\n",
    "cvec_headline_matrix_sparse = cvec_vector.fit_transform(df_all['Headline'])\n",
    "cvec_headline_matrix_sparse"
   ]
  },
  {
   "cell_type": "code",
   "execution_count": 90,
   "metadata": {},
   "outputs": [
    {
     "data": {
      "text/plain": [
       "<bound method CountVectorizer.get_feature_names of CountVectorizer(analyzer='word', binary=False, decode_error='strict',\n",
       "        dtype=<class 'numpy.int64'>, encoding='utf-8', input='content',\n",
       "        lowercase=True, max_df=1.0, max_features=None, min_df=1,\n",
       "        ngram_range=(1, 1), preprocessor=None, stop_words='english',\n",
       "        strip_accents=None, token_pattern='(?u)\\\\b\\\\w\\\\w+\\\\b',\n",
       "        tokenizer=None, vocabulary=None)>"
      ]
     },
     "execution_count": 90,
     "metadata": {},
     "output_type": "execute_result"
    }
   ],
   "source": [
    "cvec_vector.get_feature_names"
   ]
  },
  {
   "cell_type": "code",
   "execution_count": 91,
   "metadata": {},
   "outputs": [],
   "source": [
    "cvec_headline_df = pd.DataFrame(cvec_headline_matrix_sparse.todense(),\n",
    "                       columns = cvec_vector.get_feature_names())"
   ]
  },
  {
   "cell_type": "code",
   "execution_count": 92,
   "metadata": {},
   "outputs": [
    {
     "data": {
      "text/plain": [
       "(49970, 2800)"
      ]
     },
     "execution_count": 92,
     "metadata": {},
     "output_type": "execute_result"
    }
   ],
   "source": [
    "cvec_headline_df.shape"
   ]
  },
  {
   "cell_type": "code",
   "execution_count": 93,
   "metadata": {},
   "outputs": [
    {
     "data": {
      "text/plain": [
       "<49970x19665 sparse matrix of type '<class 'numpy.int64'>'\n",
       "\twith 6483114 stored elements in Compressed Sparse Row format>"
      ]
     },
     "execution_count": 93,
     "metadata": {},
     "output_type": "execute_result"
    }
   ],
   "source": [
    "cvec_vector = CountVectorizer(stop_words='english')\n",
    "\n",
    "cvec_articlebody_matrix_sparse = cvec_vector.fit_transform(df_all['articleBody'])\n",
    "\n",
    "cvec_articlebody_matrix_sparse"
   ]
  },
  {
   "cell_type": "code",
   "execution_count": 94,
   "metadata": {},
   "outputs": [],
   "source": [
    "cvec_articlebody_df = pd.DataFrame(cvec_articlebody_matrix_sparse.todense(),\n",
    "                       columns = cvec_vector.get_feature_names())"
   ]
  },
  {
   "cell_type": "code",
   "execution_count": 95,
   "metadata": {},
   "outputs": [
    {
     "data": {
      "text/plain": [
       "(49968, 2)"
      ]
     },
     "execution_count": 95,
     "metadata": {},
     "output_type": "execute_result"
    }
   ],
   "source": [
    "df_fix.shape"
   ]
  },
  {
   "cell_type": "markdown",
   "metadata": {},
   "source": [
    "Combine both vectorized headline, body, and distances into a dataframe."
   ]
  },
  {
   "cell_type": "code",
   "execution_count": 96,
   "metadata": {},
   "outputs": [],
   "source": [
    "df_headline_fix = pd.concat([df_fix, cvec_headline_df, cvec_articlebody_df], axis=1)"
   ]
  },
  {
   "cell_type": "code",
   "execution_count": 97,
   "metadata": {},
   "outputs": [],
   "source": [
    "df_headline_fix.fillna(value=0, inplace=True)"
   ]
  },
  {
   "cell_type": "code",
   "execution_count": 98,
   "metadata": {},
   "outputs": [],
   "source": [
    "features = [col for col in df_headline_fix.columns if col != 'stance_dummy']"
   ]
  },
  {
   "cell_type": "markdown",
   "metadata": {},
   "source": [
    "Run both logistic regression and random forest classifier."
   ]
  },
  {
   "cell_type": "code",
   "execution_count": 99,
   "metadata": {},
   "outputs": [],
   "source": [
    "# Set x, y, and train, test split\n",
    "X = df_headline_fix[features]\n",
    "y = df_headline_fix['stance_dummy']\n",
    "\n",
    "X_train, X_test, y_train, y_test = train_test_split(X, y)"
   ]
  },
  {
   "cell_type": "code",
   "execution_count": null,
   "metadata": {},
   "outputs": [],
   "source": [
    "lr = LogisticRegression()\n",
    "lr.fit(X_train, y_train)\n",
    "lr.score(X_train, y_train)"
   ]
  },
  {
   "cell_type": "code",
   "execution_count": null,
   "metadata": {},
   "outputs": [],
   "source": [
    "lr.score(X_test, y_test)"
   ]
  },
  {
   "cell_type": "code",
   "execution_count": null,
   "metadata": {},
   "outputs": [],
   "source": [
    "from sklearn.ensemble import RandomForestClassifier\n",
    "rf = RandomForestClassifier()\n",
    "rf.fit(X_train, y_train)\n",
    "rf.score(X_train, y_train)"
   ]
  },
  {
   "cell_type": "code",
   "execution_count": null,
   "metadata": {},
   "outputs": [],
   "source": [
    "rf.score(X_test, y_test)"
   ]
  },
  {
   "cell_type": "markdown",
   "metadata": {},
   "source": [
    "I combine the count vectorized headline and article body with the cosine similarity distances as the X and use stance dummy as the Y. I was hoping this would yeild a better result but logistic regression gave us a score of 0.73084 compared to the baseline of 0.73171. Random forest classifier results in a score of 0.95722 later to find it has overfit the model. "
   ]
  },
  {
   "cell_type": "markdown",
   "metadata": {},
   "source": [
    "## GloVe\n",
    "\n",
    "Using word embeddings on both the headline and article bodies. This pretrained model is called the Global Vectors for Word Representation or GloVE. It is pretrained on 6 billion words and can use its 400,000 word vocabulary for vectors of 50, 100, 200, or 300."
   ]
  },
  {
   "cell_type": "markdown",
   "metadata": {},
   "source": [
    "I use a keras preprocessor to turn words in to integer sequence which creates an index of all the words, selects the top most used words to track, then turns corpus into list of word sequences represented by integer index."
   ]
  },
  {
   "cell_type": "code",
   "execution_count": null,
   "metadata": {
    "scrolled": true
   },
   "outputs": [],
   "source": [
    "from keras.preprocessing.text import Tokenizer\n",
    "from keras.preprocessing.sequence import pad_sequences\n",
    "import numpy as np\n",
    "\n",
    "max_sequence_length = 100   # max number of words to consider in a review (i.e. the first 50...)\n",
    "max_num_words = 4000       # maximum number of words to include in the vocabulary (i.e. top 10000 only)\n",
    "\n",
    "# Instantiate the Tokenizer\n",
    "tokenizer = Tokenizer(num_words=max_num_words)\n",
    "\n",
    "# Fit the tokenizer, i.e. learn the vocab and id the most frequently occuring words\n",
    "tokenizer.fit_on_texts(df_all['Headline'].values)\n",
    "\n",
    "# Turn our texts to sequences of word indices\n",
    "sequences = tokenizer.texts_to_sequences(df_all['Headline'].values)\n",
    "\n",
    "# Save the look-up dictionary for words to indices (will need this later)\n",
    "word_index = tokenizer.word_index\n",
    "\n",
    "# Pad out our sequences by prepending zeros to all of our text sequences\n",
    "padded_sequences_headline = pad_sequences(sequences, maxlen=max_sequence_length)\n",
    "\n",
    "print(f'Found {len(word_index)} unique tokens/words')\n",
    "print(f'The maximum word index is {padded_sequences_headline.max()}')"
   ]
  },
  {
   "cell_type": "code",
   "execution_count": null,
   "metadata": {
    "scrolled": true
   },
   "outputs": [],
   "source": [
    "padded_sequences_headline.shape"
   ]
  },
  {
   "cell_type": "markdown",
   "metadata": {},
   "source": [
    "49970 words and 100 encoded as word index. "
   ]
  },
  {
   "cell_type": "code",
   "execution_count": null,
   "metadata": {
    "scrolled": true
   },
   "outputs": [],
   "source": [
    "padded_sequences_headline[0,:]"
   ]
  },
  {
   "cell_type": "code",
   "execution_count": null,
   "metadata": {},
   "outputs": [],
   "source": [
    "max_sequence_length = 200   # max number of words to consider in a review (i.e. the first 50...)\n",
    "max_num_words = 25000     # maximum number of words to include in the vocabulary (i.e. top 10000 only)\n",
    "\n",
    "# Instantiate the Tokenizer\n",
    "tokenizer = Tokenizer(num_words=max_num_words)\n",
    "\n",
    "# Fit the tokenizer, i.e. learn the vocab and id the most frequently occuring words\n",
    "tokenizer.fit_on_texts(df_all['articleBody'].values)\n",
    "\n",
    "# Turn our texts to sequences of word indices\n",
    "sequences = tokenizer.texts_to_sequences(df_all['articleBody'].values)\n",
    "\n",
    "# Save the look-up dictionary for words to indices (will need this later)\n",
    "word_index = tokenizer.word_index\n",
    "\n",
    "# Pad out our sequences by prepending zeros to all of our text sequences\n",
    "padded_sequences_articleBody = pad_sequences(sequences, maxlen=max_sequence_length)\n",
    "\n",
    "print(f'Found {len(word_index)} unique tokens/words')\n",
    "print(f'The maximum word index is {padded_sequences_articleBody.max()}')"
   ]
  },
  {
   "cell_type": "code",
   "execution_count": null,
   "metadata": {},
   "outputs": [],
   "source": [
    "padded_sequences_articleBody.shape"
   ]
  },
  {
   "cell_type": "markdown",
   "metadata": {},
   "source": [
    "49970 words with 200 words encoded as an index. "
   ]
  },
  {
   "cell_type": "code",
   "execution_count": null,
   "metadata": {
    "scrolled": true
   },
   "outputs": [],
   "source": [
    "padded_sequences_articleBody[0,:]"
   ]
  },
  {
   "cell_type": "markdown",
   "metadata": {},
   "source": [
    "Combining the padded sequences of both headline and article body together before running model. "
   ]
  },
  {
   "cell_type": "code",
   "execution_count": null,
   "metadata": {},
   "outputs": [],
   "source": [
    "padded_sequences = np.concatenate((padded_sequences_headline, padded_sequences_articleBody), axis=1)\n",
    "padded_sequences.shape"
   ]
  },
  {
   "cell_type": "code",
   "execution_count": null,
   "metadata": {},
   "outputs": [],
   "source": [
    "df_all['stance_dummy'].shape"
   ]
  },
  {
   "cell_type": "code",
   "execution_count": null,
   "metadata": {},
   "outputs": [],
   "source": [
    "# Train, test split, baby...\n",
    "from sklearn.model_selection import train_test_split\n",
    "\n",
    "X_train, X_test, y_train, y_test = train_test_split(padded_sequences, stance_dummy, test_size=0.33, random_state=42)\n",
    "\n",
    "X_train.shape, y_train.shape"
   ]
  },
  {
   "cell_type": "code",
   "execution_count": null,
   "metadata": {},
   "outputs": [],
   "source": [
    "#reading in GloVe\n",
    "import numpy as np\n",
    "\n",
    "glove_dir = '../glove.6B (1)/'\n",
    "\n",
    "embeddings_index = {}\n",
    "\n",
    "with open(os.path.join(glove_dir, 'glove.6B.100d.txt')) as f:\n",
    "    for line in f:\n",
    "        values = line.split()\n",
    "        word = values[0]\n",
    "        coefs = np.asarray(values[1:], dtype='float32')\n",
    "        embeddings_index[word] = coefs\n",
    "        \n",
    "print(f'Found {len(embeddings_index)} word vectors')"
   ]
  },
  {
   "cell_type": "markdown",
   "metadata": {},
   "source": [
    "Create matrix for word vectors for words in tokenized vocabulary. "
   ]
  },
  {
   "cell_type": "code",
   "execution_count": null,
   "metadata": {},
   "outputs": [],
   "source": [
    "embedding_dim = 100\n",
    "\n",
    "embedding_matrix = np.zeros((max_num_words, embedding_dim))\n",
    "for word, index in word_index.items():\n",
    "    if index < max_num_words:\n",
    "        # Using \"get\" with the dict is a safe way to avoid missing key errors\n",
    "        embedding_vector = embeddings_index.get(word) \n",
    "        if embedding_vector is not None:\n",
    "            embedding_matrix[index] = embedding_vector"
   ]
  },
  {
   "cell_type": "code",
   "execution_count": null,
   "metadata": {},
   "outputs": [],
   "source": [
    "from keras.models import Sequential\n",
    "from keras.layers import Embedding, LSTM, Dense\n",
    "\n",
    "model = Sequential()\n",
    "model.add(Embedding(max_num_words, embedding_dim, input_length=300))\n",
    "model.add(LSTM(20))\n",
    "model.add(Dense(4, activation='softmax'))"
   ]
  },
  {
   "cell_type": "markdown",
   "metadata": {},
   "source": [
    "Use pretrained GloVe weights in matrix(embedding matrix)."
   ]
  },
  {
   "cell_type": "code",
   "execution_count": null,
   "metadata": {},
   "outputs": [],
   "source": [
    "model.layers[0].set_weights([embedding_matrix])"
   ]
  },
  {
   "cell_type": "markdown",
   "metadata": {},
   "source": [
    "Embedding layer is input for LSTM. "
   ]
  },
  {
   "cell_type": "code",
   "execution_count": null,
   "metadata": {
    "scrolled": true
   },
   "outputs": [],
   "source": [
    "model.compile(optimizer='adam', loss='binary_crossentropy', metrics=['acc'])\n",
    "model.summary()"
   ]
  },
  {
   "cell_type": "markdown",
   "metadata": {},
   "source": [
    "Train neural net"
   ]
  },
  {
   "cell_type": "code",
   "execution_count": null,
   "metadata": {},
   "outputs": [],
   "source": [
    "history = model.fit(X_train, y_train, epochs=10, batch_size=300, validation_data=(X_test, y_test))"
   ]
  },
  {
   "cell_type": "code",
   "execution_count": null,
   "metadata": {
    "scrolled": true
   },
   "outputs": [],
   "source": [
    "# What's baseline?\n",
    "np.unique(y_train, return_counts=True)[1]/len(y_train)"
   ]
  },
  {
   "cell_type": "markdown",
   "metadata": {},
   "source": [
    "For prediction, passing neural net a sequence of word indices with sequence length equal to max sequence length. "
   ]
  },
  {
   "cell_type": "code",
   "execution_count": null,
   "metadata": {},
   "outputs": [],
   "source": [
    "X_test[0:1,:].shape"
   ]
  },
  {
   "cell_type": "code",
   "execution_count": null,
   "metadata": {},
   "outputs": [],
   "source": [
    "model.predict(X_test[0:1,:])"
   ]
  },
  {
   "cell_type": "markdown",
   "metadata": {},
   "source": [
    "## XG BOOST"
   ]
  },
  {
   "cell_type": "code",
   "execution_count": null,
   "metadata": {},
   "outputs": [],
   "source": [
    "df_fix['stance_dummy'].shape"
   ]
  },
  {
   "cell_type": "code",
   "execution_count": null,
   "metadata": {},
   "outputs": [],
   "source": [
    "X = padded_sequences\n",
    "y = df_fix['stance_dummy'] #need to create binary for classes #predict the prob of each class and highest use as predictions\n",
    "\n",
    "X_train, X_test, y_train, y_test = train_test_split(X, y)"
   ]
  },
  {
   "cell_type": "code",
   "execution_count": null,
   "metadata": {},
   "outputs": [],
   "source": [
    "my_imputer = Imputer()\n",
    "train_X = my_imputer.fit_transform(X_train)\n",
    "test_X = my_imputer.transform(X_test)"
   ]
  },
  {
   "cell_type": "code",
   "execution_count": null,
   "metadata": {},
   "outputs": [],
   "source": [
    "from xgboost import XGBRegressor\n",
    "\n",
    "my_model = XGBRegressor()\n",
    "# Add silent=True to avoid printing out updates with each cycle\n",
    "my_model.fit(X_train, y_train, verbose=False)"
   ]
  },
  {
   "cell_type": "code",
   "execution_count": null,
   "metadata": {},
   "outputs": [],
   "source": [
    "predictions = my_model.predict(X_test)"
   ]
  },
  {
   "cell_type": "code",
   "execution_count": null,
   "metadata": {},
   "outputs": [],
   "source": [
    "my_model = XGBRegressor(n_estimators=1000)\n",
    "my_model.fit(X_train, y_train, early_stopping_rounds=5, \n",
    "             eval_set=[(X_test, y_test)], verbose=False)"
   ]
  },
  {
   "cell_type": "markdown",
   "metadata": {},
   "source": [
    "# Executive Summary \n",
    "\n",
    "My goal is to classify my data(headlines and articles) by stance detection. Stance detection classifies the stance of the body text relative to the claim made in the headline into four categories: agree, disagree, discuss, and unrelated. Stance detection is currently used to verify what other news organizations are saying about a topic and is the first step in automating detection of fake news. The version of stance detection I will be using is building on the work of William Ferreira and Andreas Vlachos. I recieved my data from the data provided by the FakeNewsChallenge.org. The data is taken from the Emergent Dataset created by Craig Silverman, an expert in \"Fake News\". Emergent is a \"real time rumor tracker\" focusing on how rumors are reported in the media. \n",
    "\n",
    "My model begins with the baseline class at 73%. Through implementation of count vectorizer, TF-IDF, and using Logistic Regression and Random Trees to classify my metrics never surpassed 73%. While it seemed that no form of vectorization was helping increase the score, the ROC model showed the micro average at 88% giving me hope that a higher score could be reached in some way. That is when I learned about word2vec and using LSTMs for a neural network. After some failures with word2vec, I implemented the GloVe model which is far superior to word2vec because it has been pretrained on many more words than just my dataset. Using word embeddings, I was able to train a neural network that scored 90% accuracy. \n",
    "\n",
    "My findings were that word embeddings and neural networks were necessary to create a model above baseline to predict stance. Dummying the stance label also helped tighten the results. If given more time, I would have run more classification models and tried to train my own neural network with more data. I would have also liked to have predicted more specifically for the desired classes. \n"
   ]
  },
  {
   "cell_type": "code",
   "execution_count": null,
   "metadata": {},
   "outputs": [],
   "source": []
  }
 ],
 "metadata": {
  "kernelspec": {
   "display_name": "Python [conda env:dsi]",
   "language": "python",
   "name": "conda-env-dsi-py"
  },
  "language_info": {
   "codemirror_mode": {
    "name": "ipython",
    "version": 3
   },
   "file_extension": ".py",
   "mimetype": "text/x-python",
   "name": "python",
   "nbconvert_exporter": "python",
   "pygments_lexer": "ipython3",
   "version": "3.6.5"
  }
 },
 "nbformat": 4,
 "nbformat_minor": 2
}
