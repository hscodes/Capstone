{
 "cells": [
  {
   "cell_type": "markdown",
   "metadata": {},
   "source": [
    "# Fake News through Stance Detection"
   ]
  },
  {
   "cell_type": "markdown",
   "metadata": {},
   "source": [
    "## Problem"
   ]
  },
  {
   "cell_type": "markdown",
   "metadata": {},
   "source": [
    "Detecting whether an article is Fake News using Stance Detection. Stance detection takes a headline and body text of an article and classifies the stance of the body text relative to headline. "
   ]
  },
  {
   "cell_type": "code",
   "execution_count": 20,
   "metadata": {},
   "outputs": [],
   "source": [
    "import pandas as pd \n",
    "\n",
    "import os\n",
    "import re\n",
    "import nltk\n",
    "from sklearn import feature_extraction\n",
    "from tqdm import tqdm\n",
    "\n",
    "\n",
    "import numpy as np\n",
    "import matplotlib.pyplot as plt\n",
    "%matplotlib inline\n",
    "\n",
    "from sklearn.feature_extraction.text import CountVectorizer, HashingVectorizer, TfidfVectorizer\n",
    "from sklearn.linear_model import LogisticRegression\n",
    "\n",
    "# NLTK\n",
    "from nltk.tokenize import RegexpTokenizer\n",
    "from nltk.stem import PorterStemmer\n",
    "from nltk.corpus import stopwords\n",
    "import re\n",
    "\n",
    "# Visualization\n",
    "import matplotlib.pyplot as plt\n",
    "import matplotlib.patches as mpatches\n",
    "import matplotlib\n",
    "%matplotlib inline\n",
    "import seaborn as sns\n",
    "from nltk.stem import WordNetLemmatizer\n",
    "\n",
    "from gensim.models.word2vec import Word2Vec\n",
    "from collections import Counter, defaultdict\n",
    "from sklearn.feature_extraction.text import CountVectorizer\n",
    "from sklearn.feature_extraction.text import TfidfVectorizer\n",
    "from sklearn.ensemble import ExtraTreesClassifier\n",
    "from sklearn.naive_bayes import BernoulliNB, MultinomialNB\n",
    "from sklearn.pipeline import Pipeline\n",
    "from sklearn.svm import SVC\n",
    "from sklearn.metrics import accuracy_score\n",
    "from sklearn.cross_validation import cross_val_score\n",
    "from sklearn.cross_validation import StratifiedShuffleSplit"
   ]
  },
  {
   "cell_type": "code",
   "execution_count": 3,
   "metadata": {},
   "outputs": [],
   "source": [
    "bodies = pd.read_csv('./train_bodies.csv')\n",
    "stances = pd.read_csv('./train_stances.csv')\n"
   ]
  },
  {
   "cell_type": "markdown",
   "metadata": {},
   "source": [
    "## EDA"
   ]
  },
  {
   "cell_type": "code",
   "execution_count": 5,
   "metadata": {
    "scrolled": false
   },
   "outputs": [
    {
     "data": {
      "text/html": [
       "<div>\n",
       "<style scoped>\n",
       "    .dataframe tbody tr th:only-of-type {\n",
       "        vertical-align: middle;\n",
       "    }\n",
       "\n",
       "    .dataframe tbody tr th {\n",
       "        vertical-align: top;\n",
       "    }\n",
       "\n",
       "    .dataframe thead th {\n",
       "        text-align: right;\n",
       "    }\n",
       "</style>\n",
       "<table border=\"1\" class=\"dataframe\">\n",
       "  <thead>\n",
       "    <tr style=\"text-align: right;\">\n",
       "      <th></th>\n",
       "      <th>Body ID</th>\n",
       "      <th>articleBody</th>\n",
       "    </tr>\n",
       "  </thead>\n",
       "  <tbody>\n",
       "    <tr>\n",
       "      <th>0</th>\n",
       "      <td>0</td>\n",
       "      <td>A small meteorite crashed into a wooded area i...</td>\n",
       "    </tr>\n",
       "    <tr>\n",
       "      <th>1</th>\n",
       "      <td>4</td>\n",
       "      <td>Last week we hinted at what was to come as Ebo...</td>\n",
       "    </tr>\n",
       "    <tr>\n",
       "      <th>2</th>\n",
       "      <td>5</td>\n",
       "      <td>(NEWSER) – Wonder how long a Quarter Pounder w...</td>\n",
       "    </tr>\n",
       "    <tr>\n",
       "      <th>3</th>\n",
       "      <td>6</td>\n",
       "      <td>Posting photos of a gun-toting child online, I...</td>\n",
       "    </tr>\n",
       "    <tr>\n",
       "      <th>4</th>\n",
       "      <td>7</td>\n",
       "      <td>At least 25 suspected Boko Haram insurgents we...</td>\n",
       "    </tr>\n",
       "  </tbody>\n",
       "</table>\n",
       "</div>"
      ],
      "text/plain": [
       "   Body ID                                        articleBody\n",
       "0        0  A small meteorite crashed into a wooded area i...\n",
       "1        4  Last week we hinted at what was to come as Ebo...\n",
       "2        5  (NEWSER) – Wonder how long a Quarter Pounder w...\n",
       "3        6  Posting photos of a gun-toting child online, I...\n",
       "4        7  At least 25 suspected Boko Haram insurgents we..."
      ]
     },
     "execution_count": 5,
     "metadata": {},
     "output_type": "execute_result"
    }
   ],
   "source": [
    "bodies.head()"
   ]
  },
  {
   "cell_type": "code",
   "execution_count": 6,
   "metadata": {
    "scrolled": true
   },
   "outputs": [
    {
     "data": {
      "text/html": [
       "<div>\n",
       "<style scoped>\n",
       "    .dataframe tbody tr th:only-of-type {\n",
       "        vertical-align: middle;\n",
       "    }\n",
       "\n",
       "    .dataframe tbody tr th {\n",
       "        vertical-align: top;\n",
       "    }\n",
       "\n",
       "    .dataframe thead th {\n",
       "        text-align: right;\n",
       "    }\n",
       "</style>\n",
       "<table border=\"1\" class=\"dataframe\">\n",
       "  <thead>\n",
       "    <tr style=\"text-align: right;\">\n",
       "      <th></th>\n",
       "      <th>Headline</th>\n",
       "      <th>Body ID</th>\n",
       "      <th>Stance</th>\n",
       "    </tr>\n",
       "  </thead>\n",
       "  <tbody>\n",
       "    <tr>\n",
       "      <th>0</th>\n",
       "      <td>Police find mass graves with at least '15 bodi...</td>\n",
       "      <td>712</td>\n",
       "      <td>unrelated</td>\n",
       "    </tr>\n",
       "    <tr>\n",
       "      <th>1</th>\n",
       "      <td>Hundreds of Palestinians flee floods in Gaza a...</td>\n",
       "      <td>158</td>\n",
       "      <td>agree</td>\n",
       "    </tr>\n",
       "    <tr>\n",
       "      <th>2</th>\n",
       "      <td>Christian Bale passes on role of Steve Jobs, a...</td>\n",
       "      <td>137</td>\n",
       "      <td>unrelated</td>\n",
       "    </tr>\n",
       "    <tr>\n",
       "      <th>3</th>\n",
       "      <td>HBO and Apple in Talks for $15/Month Apple TV ...</td>\n",
       "      <td>1034</td>\n",
       "      <td>unrelated</td>\n",
       "    </tr>\n",
       "    <tr>\n",
       "      <th>4</th>\n",
       "      <td>Spider burrowed through tourist's stomach and ...</td>\n",
       "      <td>1923</td>\n",
       "      <td>disagree</td>\n",
       "    </tr>\n",
       "  </tbody>\n",
       "</table>\n",
       "</div>"
      ],
      "text/plain": [
       "                                            Headline  Body ID     Stance\n",
       "0  Police find mass graves with at least '15 bodi...      712  unrelated\n",
       "1  Hundreds of Palestinians flee floods in Gaza a...      158      agree\n",
       "2  Christian Bale passes on role of Steve Jobs, a...      137  unrelated\n",
       "3  HBO and Apple in Talks for $15/Month Apple TV ...     1034  unrelated\n",
       "4  Spider burrowed through tourist's stomach and ...     1923   disagree"
      ]
     },
     "execution_count": 6,
     "metadata": {},
     "output_type": "execute_result"
    }
   ],
   "source": [
    "stances.head()"
   ]
  },
  {
   "cell_type": "code",
   "execution_count": 7,
   "metadata": {},
   "outputs": [
    {
     "data": {
      "text/html": [
       "<div>\n",
       "<style scoped>\n",
       "    .dataframe tbody tr th:only-of-type {\n",
       "        vertical-align: middle;\n",
       "    }\n",
       "\n",
       "    .dataframe tbody tr th {\n",
       "        vertical-align: top;\n",
       "    }\n",
       "\n",
       "    .dataframe thead th {\n",
       "        text-align: right;\n",
       "    }\n",
       "</style>\n",
       "<table border=\"1\" class=\"dataframe\">\n",
       "  <thead>\n",
       "    <tr style=\"text-align: right;\">\n",
       "      <th></th>\n",
       "      <th>Headline</th>\n",
       "      <th>Body ID</th>\n",
       "      <th>Stance</th>\n",
       "    </tr>\n",
       "  </thead>\n",
       "  <tbody>\n",
       "    <tr>\n",
       "      <th>0</th>\n",
       "      <td>Police find mass graves with at least '15 bodi...</td>\n",
       "      <td>712</td>\n",
       "      <td>unrelated</td>\n",
       "    </tr>\n",
       "    <tr>\n",
       "      <th>1787</th>\n",
       "      <td>Seth Rogen to Play Apple’s Steve Wozniak</td>\n",
       "      <td>712</td>\n",
       "      <td>discuss</td>\n",
       "    </tr>\n",
       "    <tr>\n",
       "      <th>3974</th>\n",
       "      <td>Mexico police find mass grave near site 43 stu...</td>\n",
       "      <td>712</td>\n",
       "      <td>unrelated</td>\n",
       "    </tr>\n",
       "    <tr>\n",
       "      <th>4936</th>\n",
       "      <td>Mexico Says Missing Students Not Found In Firs...</td>\n",
       "      <td>712</td>\n",
       "      <td>unrelated</td>\n",
       "    </tr>\n",
       "    <tr>\n",
       "      <th>5210</th>\n",
       "      <td>New iOS 8 bug can delete all of your iCloud do...</td>\n",
       "      <td>712</td>\n",
       "      <td>unrelated</td>\n",
       "    </tr>\n",
       "    <tr>\n",
       "      <th>5863</th>\n",
       "      <td>Return of the Mac: Seth Rogen in talks to star...</td>\n",
       "      <td>712</td>\n",
       "      <td>discuss</td>\n",
       "    </tr>\n",
       "    <tr>\n",
       "      <th>6199</th>\n",
       "      <td>Seth Rogen Is Woz</td>\n",
       "      <td>712</td>\n",
       "      <td>discuss</td>\n",
       "    </tr>\n",
       "    <tr>\n",
       "      <th>6756</th>\n",
       "      <td>Mexico finds 4 more graves at site of suspecte...</td>\n",
       "      <td>712</td>\n",
       "      <td>unrelated</td>\n",
       "    </tr>\n",
       "    <tr>\n",
       "      <th>7526</th>\n",
       "      <td>Are missing students in mass graves found near...</td>\n",
       "      <td>712</td>\n",
       "      <td>unrelated</td>\n",
       "    </tr>\n",
       "    <tr>\n",
       "      <th>9003</th>\n",
       "      <td>Mexico prosecutor: Students not in 1st mass gr...</td>\n",
       "      <td>712</td>\n",
       "      <td>unrelated</td>\n",
       "    </tr>\n",
       "    <tr>\n",
       "      <th>10036</th>\n",
       "      <td>Lady on FB: I'm 41, Intersex, and Fucked Micha...</td>\n",
       "      <td>712</td>\n",
       "      <td>unrelated</td>\n",
       "    </tr>\n",
       "    <tr>\n",
       "      <th>10780</th>\n",
       "      <td>Catholic Priest Claims God Is Female After Cli...</td>\n",
       "      <td>712</td>\n",
       "      <td>unrelated</td>\n",
       "    </tr>\n",
       "    <tr>\n",
       "      <th>11687</th>\n",
       "      <td>Isis claims US hostage Kayla Mueller killed in...</td>\n",
       "      <td>712</td>\n",
       "      <td>unrelated</td>\n",
       "    </tr>\n",
       "    <tr>\n",
       "      <th>11864</th>\n",
       "      <td>Gold Apple Watch Edition price? Speculators sa...</td>\n",
       "      <td>712</td>\n",
       "      <td>unrelated</td>\n",
       "    </tr>\n",
       "    <tr>\n",
       "      <th>15746</th>\n",
       "      <td>Mexican students not among bodies found in mas...</td>\n",
       "      <td>712</td>\n",
       "      <td>unrelated</td>\n",
       "    </tr>\n",
       "    <tr>\n",
       "      <th>21620</th>\n",
       "      <td>Steve Jobs Biopic Eyes Seth Rogen to Play Appl...</td>\n",
       "      <td>712</td>\n",
       "      <td>discuss</td>\n",
       "    </tr>\n",
       "    <tr>\n",
       "      <th>21712</th>\n",
       "      <td>Missing Mexico students not among 28 bodies fo...</td>\n",
       "      <td>712</td>\n",
       "      <td>unrelated</td>\n",
       "    </tr>\n",
       "    <tr>\n",
       "      <th>21928</th>\n",
       "      <td>Taylor Lianne Chandler: Everything you need to...</td>\n",
       "      <td>712</td>\n",
       "      <td>unrelated</td>\n",
       "    </tr>\n",
       "    <tr>\n",
       "      <th>22100</th>\n",
       "      <td>Mexican cartel leader kills self; bodies in gr...</td>\n",
       "      <td>712</td>\n",
       "      <td>unrelated</td>\n",
       "    </tr>\n",
       "    <tr>\n",
       "      <th>25006</th>\n",
       "      <td>Bodies In Mexico Mass Grave Apparently Not Tho...</td>\n",
       "      <td>712</td>\n",
       "      <td>unrelated</td>\n",
       "    </tr>\n",
       "    <tr>\n",
       "      <th>25492</th>\n",
       "      <td>Seth Rogen Eyed to Play Apple's Steve Wozniak ...</td>\n",
       "      <td>712</td>\n",
       "      <td>discuss</td>\n",
       "    </tr>\n",
       "    <tr>\n",
       "      <th>25616</th>\n",
       "      <td>Mexican investigators fear mass grave might ho...</td>\n",
       "      <td>712</td>\n",
       "      <td>unrelated</td>\n",
       "    </tr>\n",
       "    <tr>\n",
       "      <th>26260</th>\n",
       "      <td>6 hidden mass graves may hold missing Mexican ...</td>\n",
       "      <td>712</td>\n",
       "      <td>unrelated</td>\n",
       "    </tr>\n",
       "    <tr>\n",
       "      <th>26398</th>\n",
       "      <td>Mass grave found after 40 students disappear i...</td>\n",
       "      <td>712</td>\n",
       "      <td>unrelated</td>\n",
       "    </tr>\n",
       "    <tr>\n",
       "      <th>27200</th>\n",
       "      <td>Mexico Student Massacre Update: More Graves Di...</td>\n",
       "      <td>712</td>\n",
       "      <td>unrelated</td>\n",
       "    </tr>\n",
       "    <tr>\n",
       "      <th>29988</th>\n",
       "      <td>Seth Rogen To Play Steve Wozniak In Steve Jobs...</td>\n",
       "      <td>712</td>\n",
       "      <td>discuss</td>\n",
       "    </tr>\n",
       "    <tr>\n",
       "      <th>33683</th>\n",
       "      <td>Taylor Lianne Chandler: Michael Phelps' Cougar...</td>\n",
       "      <td>712</td>\n",
       "      <td>unrelated</td>\n",
       "    </tr>\n",
       "    <tr>\n",
       "      <th>37095</th>\n",
       "      <td>Newly Discovered Mass Grave Linked to Missing ...</td>\n",
       "      <td>712</td>\n",
       "      <td>unrelated</td>\n",
       "    </tr>\n",
       "    <tr>\n",
       "      <th>38326</th>\n",
       "      <td>Michael Phelps' self-proclaimed 'girlfriend', ...</td>\n",
       "      <td>712</td>\n",
       "      <td>unrelated</td>\n",
       "    </tr>\n",
       "    <tr>\n",
       "      <th>41035</th>\n",
       "      <td>Missing Mexican students 'not found in mass gr...</td>\n",
       "      <td>712</td>\n",
       "      <td>unrelated</td>\n",
       "    </tr>\n",
       "    <tr>\n",
       "      <th>42776</th>\n",
       "      <td>Mexico checks if 43 missing students in mass g...</td>\n",
       "      <td>712</td>\n",
       "      <td>unrelated</td>\n",
       "    </tr>\n",
       "    <tr>\n",
       "      <th>43897</th>\n",
       "      <td>Rumor: Seth Rogen to Appear as Woz in Sony's S...</td>\n",
       "      <td>712</td>\n",
       "      <td>discuss</td>\n",
       "    </tr>\n",
       "    <tr>\n",
       "      <th>44978</th>\n",
       "      <td>This Powerful Cartoon About The Charlie Hebdo ...</td>\n",
       "      <td>712</td>\n",
       "      <td>unrelated</td>\n",
       "    </tr>\n",
       "    <tr>\n",
       "      <th>45222</th>\n",
       "      <td>Mexico Says Students Not Among Dead in Mass Grave</td>\n",
       "      <td>712</td>\n",
       "      <td>unrelated</td>\n",
       "    </tr>\n",
       "    <tr>\n",
       "      <th>45579</th>\n",
       "      <td>Mexico hit by student massacre: At least 17 an...</td>\n",
       "      <td>712</td>\n",
       "      <td>unrelated</td>\n",
       "    </tr>\n",
       "    <tr>\n",
       "      <th>46530</th>\n",
       "      <td>Seth Rogen to Star as Steve Wozniak in Sony's ...</td>\n",
       "      <td>712</td>\n",
       "      <td>discuss</td>\n",
       "    </tr>\n",
       "    <tr>\n",
       "      <th>47712</th>\n",
       "      <td>Michael Phelps’ alleged girlfriend says she wa...</td>\n",
       "      <td>712</td>\n",
       "      <td>unrelated</td>\n",
       "    </tr>\n",
       "    <tr>\n",
       "      <th>47850</th>\n",
       "      <td>Mass Graves Found In Mexico, Near Place Where ...</td>\n",
       "      <td>712</td>\n",
       "      <td>unrelated</td>\n",
       "    </tr>\n",
       "    <tr>\n",
       "      <th>48228</th>\n",
       "      <td>A Mass Grave Points to a Student Massacre in M...</td>\n",
       "      <td>712</td>\n",
       "      <td>unrelated</td>\n",
       "    </tr>\n",
       "  </tbody>\n",
       "</table>\n",
       "</div>"
      ],
      "text/plain": [
       "                                                Headline  Body ID     Stance\n",
       "0      Police find mass graves with at least '15 bodi...      712  unrelated\n",
       "1787            Seth Rogen to Play Apple’s Steve Wozniak      712    discuss\n",
       "3974   Mexico police find mass grave near site 43 stu...      712  unrelated\n",
       "4936   Mexico Says Missing Students Not Found In Firs...      712  unrelated\n",
       "5210   New iOS 8 bug can delete all of your iCloud do...      712  unrelated\n",
       "5863   Return of the Mac: Seth Rogen in talks to star...      712    discuss\n",
       "6199                                   Seth Rogen Is Woz      712    discuss\n",
       "6756   Mexico finds 4 more graves at site of suspecte...      712  unrelated\n",
       "7526   Are missing students in mass graves found near...      712  unrelated\n",
       "9003   Mexico prosecutor: Students not in 1st mass gr...      712  unrelated\n",
       "10036  Lady on FB: I'm 41, Intersex, and Fucked Micha...      712  unrelated\n",
       "10780  Catholic Priest Claims God Is Female After Cli...      712  unrelated\n",
       "11687  Isis claims US hostage Kayla Mueller killed in...      712  unrelated\n",
       "11864  Gold Apple Watch Edition price? Speculators sa...      712  unrelated\n",
       "15746  Mexican students not among bodies found in mas...      712  unrelated\n",
       "21620  Steve Jobs Biopic Eyes Seth Rogen to Play Appl...      712    discuss\n",
       "21712  Missing Mexico students not among 28 bodies fo...      712  unrelated\n",
       "21928  Taylor Lianne Chandler: Everything you need to...      712  unrelated\n",
       "22100  Mexican cartel leader kills self; bodies in gr...      712  unrelated\n",
       "25006  Bodies In Mexico Mass Grave Apparently Not Tho...      712  unrelated\n",
       "25492  Seth Rogen Eyed to Play Apple's Steve Wozniak ...      712    discuss\n",
       "25616  Mexican investigators fear mass grave might ho...      712  unrelated\n",
       "26260  6 hidden mass graves may hold missing Mexican ...      712  unrelated\n",
       "26398  Mass grave found after 40 students disappear i...      712  unrelated\n",
       "27200  Mexico Student Massacre Update: More Graves Di...      712  unrelated\n",
       "29988  Seth Rogen To Play Steve Wozniak In Steve Jobs...      712    discuss\n",
       "33683  Taylor Lianne Chandler: Michael Phelps' Cougar...      712  unrelated\n",
       "37095  Newly Discovered Mass Grave Linked to Missing ...      712  unrelated\n",
       "38326  Michael Phelps' self-proclaimed 'girlfriend', ...      712  unrelated\n",
       "41035  Missing Mexican students 'not found in mass gr...      712  unrelated\n",
       "42776  Mexico checks if 43 missing students in mass g...      712  unrelated\n",
       "43897  Rumor: Seth Rogen to Appear as Woz in Sony's S...      712    discuss\n",
       "44978  This Powerful Cartoon About The Charlie Hebdo ...      712  unrelated\n",
       "45222  Mexico Says Students Not Among Dead in Mass Grave      712  unrelated\n",
       "45579  Mexico hit by student massacre: At least 17 an...      712  unrelated\n",
       "46530  Seth Rogen to Star as Steve Wozniak in Sony's ...      712    discuss\n",
       "47712  Michael Phelps’ alleged girlfriend says she wa...      712  unrelated\n",
       "47850  Mass Graves Found In Mexico, Near Place Where ...      712  unrelated\n",
       "48228  A Mass Grave Points to a Student Massacre in M...      712  unrelated"
      ]
     },
     "execution_count": 7,
     "metadata": {},
     "output_type": "execute_result"
    }
   ],
   "source": [
    "stances[stances['Body ID'] == 712]"
   ]
  },
  {
   "cell_type": "code",
   "execution_count": 8,
   "metadata": {
    "scrolled": true
   },
   "outputs": [
    {
     "data": {
      "text/plain": [
       "1921    187\n",
       "1948    175\n",
       "40      172\n",
       "524     171\n",
       "1549    166\n",
       "304     154\n",
       "1385    151\n",
       "125     145\n",
       "2367    143\n",
       "220     141\n",
       "1438    141\n",
       "195     140\n",
       "2296    136\n",
       "35      131\n",
       "1786    131\n",
       "1883    131\n",
       "2520    127\n",
       "1034    127\n",
       "2252    126\n",
       "1574    125\n",
       "2307    125\n",
       "527     125\n",
       "2175    124\n",
       "1627    123\n",
       "2404    123\n",
       "1289    122\n",
       "2115    121\n",
       "2096    120\n",
       "1040    118\n",
       "1893    117\n",
       "       ... \n",
       "907       1\n",
       "370       1\n",
       "210       1\n",
       "146       1\n",
       "114       1\n",
       "1542      1\n",
       "63        1\n",
       "76        1\n",
       "390       1\n",
       "515       1\n",
       "193       1\n",
       "464       1\n",
       "355       1\n",
       "323       1\n",
       "624       1\n",
       "282       1\n",
       "18        1\n",
       "797       1\n",
       "701       1\n",
       "362       1\n",
       "2311      1\n",
       "6         1\n",
       "915       1\n",
       "70        1\n",
       "151       1\n",
       "376       1\n",
       "140       1\n",
       "307       1\n",
       "1066      1\n",
       "59        1\n",
       "Name: Body ID, Length: 1683, dtype: int64"
      ]
     },
     "execution_count": 8,
     "metadata": {},
     "output_type": "execute_result"
    }
   ],
   "source": [
    "stances['Body ID'].value_counts()"
   ]
  },
  {
   "cell_type": "code",
   "execution_count": 9,
   "metadata": {},
   "outputs": [
    {
     "data": {
      "text/plain": [
       "array(['unrelated', 'agree', 'disagree', 'discuss'], dtype=object)"
      ]
     },
     "execution_count": 9,
     "metadata": {},
     "output_type": "execute_result"
    }
   ],
   "source": [
    "stances['Stance'].unique()"
   ]
  },
  {
   "cell_type": "code",
   "execution_count": 10,
   "metadata": {
    "scrolled": true
   },
   "outputs": [
    {
     "name": "stdout",
     "output_type": "stream",
     "text": [
      "Bodies shape: (1683, 2)\n",
      "Stances shape: (49972, 3)\n"
     ]
    }
   ],
   "source": [
    "print('Bodies shape:', bodies.shape)\n",
    "print('Stances shape:', stances.shape)\n"
   ]
  },
  {
   "cell_type": "code",
   "execution_count": 11,
   "metadata": {},
   "outputs": [
    {
     "data": {
      "text/plain": [
       "unrelated    0.731310\n",
       "discuss      0.178280\n",
       "agree        0.073601\n",
       "disagree     0.016809\n",
       "Name: Stance, dtype: float64"
      ]
     },
     "execution_count": 11,
     "metadata": {},
     "output_type": "execute_result"
    }
   ],
   "source": [
    "stances['Stance'].value_counts()/stances.shape[0]"
   ]
  },
  {
   "cell_type": "code",
   "execution_count": 12,
   "metadata": {},
   "outputs": [],
   "source": [
    "#why are stances rows much larger"
   ]
  },
  {
   "cell_type": "code",
   "execution_count": 13,
   "metadata": {
    "scrolled": false
   },
   "outputs": [
    {
     "data": {
      "text/plain": [
       "Body ID        0\n",
       "articleBody    0\n",
       "dtype: int64"
      ]
     },
     "execution_count": 13,
     "metadata": {},
     "output_type": "execute_result"
    }
   ],
   "source": [
    "bodies.isnull().sum()"
   ]
  },
  {
   "cell_type": "code",
   "execution_count": 14,
   "metadata": {
    "scrolled": true
   },
   "outputs": [
    {
     "data": {
      "text/plain": [
       "Headline    0\n",
       "Body ID     0\n",
       "Stance      0\n",
       "dtype: int64"
      ]
     },
     "execution_count": 14,
     "metadata": {},
     "output_type": "execute_result"
    }
   ],
   "source": [
    "stances.isnull().sum()"
   ]
  },
  {
   "cell_type": "code",
   "execution_count": 15,
   "metadata": {},
   "outputs": [
    {
     "name": "stdout",
     "output_type": "stream",
     "text": [
      "<class 'pandas.core.frame.DataFrame'>\n",
      "RangeIndex: 1683 entries, 0 to 1682\n",
      "Data columns (total 2 columns):\n",
      "Body ID        1683 non-null int64\n",
      "articleBody    1683 non-null object\n",
      "dtypes: int64(1), object(1)\n",
      "memory usage: 26.4+ KB\n"
     ]
    }
   ],
   "source": [
    "bodies.info()"
   ]
  },
  {
   "cell_type": "code",
   "execution_count": 16,
   "metadata": {
    "scrolled": true
   },
   "outputs": [
    {
     "name": "stdout",
     "output_type": "stream",
     "text": [
      "<class 'pandas.core.frame.DataFrame'>\n",
      "RangeIndex: 49972 entries, 0 to 49971\n",
      "Data columns (total 3 columns):\n",
      "Headline    49972 non-null object\n",
      "Body ID     49972 non-null int64\n",
      "Stance      49972 non-null object\n",
      "dtypes: int64(1), object(2)\n",
      "memory usage: 1.1+ MB\n"
     ]
    }
   ],
   "source": [
    "stances.info()"
   ]
  },
  {
   "cell_type": "code",
   "execution_count": 17,
   "metadata": {},
   "outputs": [
    {
     "name": "stdout",
     "output_type": "stream",
     "text": [
      "Total stances: 49972\n",
      "Total article bodies: 1683\n"
     ]
    }
   ],
   "source": [
    "print(\"Total stances: \" + str(len(stances.Stance)))\n",
    "print(\"Total article bodies: \" + str(len(bodies.articleBody)))"
   ]
  },
  {
   "cell_type": "code",
   "execution_count": 4,
   "metadata": {
    "scrolled": false
   },
   "outputs": [
    {
     "data": {
      "text/html": [
       "<div>\n",
       "<style scoped>\n",
       "    .dataframe tbody tr th:only-of-type {\n",
       "        vertical-align: middle;\n",
       "    }\n",
       "\n",
       "    .dataframe tbody tr th {\n",
       "        vertical-align: top;\n",
       "    }\n",
       "\n",
       "    .dataframe thead th {\n",
       "        text-align: right;\n",
       "    }\n",
       "</style>\n",
       "<table border=\"1\" class=\"dataframe\">\n",
       "  <thead>\n",
       "    <tr style=\"text-align: right;\">\n",
       "      <th></th>\n",
       "      <th>Headline</th>\n",
       "      <th>Body ID</th>\n",
       "      <th>Stance</th>\n",
       "      <th>articleBody</th>\n",
       "    </tr>\n",
       "  </thead>\n",
       "  <tbody>\n",
       "    <tr>\n",
       "      <th>0</th>\n",
       "      <td>Police find mass graves with at least '15 bodi...</td>\n",
       "      <td>712</td>\n",
       "      <td>unrelated</td>\n",
       "      <td>Danny Boyle is directing the untitled film\\n\\n...</td>\n",
       "    </tr>\n",
       "    <tr>\n",
       "      <th>1</th>\n",
       "      <td>Seth Rogen to Play Apple’s Steve Wozniak</td>\n",
       "      <td>712</td>\n",
       "      <td>discuss</td>\n",
       "      <td>Danny Boyle is directing the untitled film\\n\\n...</td>\n",
       "    </tr>\n",
       "    <tr>\n",
       "      <th>2</th>\n",
       "      <td>Mexico police find mass grave near site 43 stu...</td>\n",
       "      <td>712</td>\n",
       "      <td>unrelated</td>\n",
       "      <td>Danny Boyle is directing the untitled film\\n\\n...</td>\n",
       "    </tr>\n",
       "    <tr>\n",
       "      <th>3</th>\n",
       "      <td>Mexico Says Missing Students Not Found In Firs...</td>\n",
       "      <td>712</td>\n",
       "      <td>unrelated</td>\n",
       "      <td>Danny Boyle is directing the untitled film\\n\\n...</td>\n",
       "    </tr>\n",
       "    <tr>\n",
       "      <th>4</th>\n",
       "      <td>New iOS 8 bug can delete all of your iCloud do...</td>\n",
       "      <td>712</td>\n",
       "      <td>unrelated</td>\n",
       "      <td>Danny Boyle is directing the untitled film\\n\\n...</td>\n",
       "    </tr>\n",
       "  </tbody>\n",
       "</table>\n",
       "</div>"
      ],
      "text/plain": [
       "                                            Headline  Body ID     Stance  \\\n",
       "0  Police find mass graves with at least '15 bodi...      712  unrelated   \n",
       "1           Seth Rogen to Play Apple’s Steve Wozniak      712    discuss   \n",
       "2  Mexico police find mass grave near site 43 stu...      712  unrelated   \n",
       "3  Mexico Says Missing Students Not Found In Firs...      712  unrelated   \n",
       "4  New iOS 8 bug can delete all of your iCloud do...      712  unrelated   \n",
       "\n",
       "                                         articleBody  \n",
       "0  Danny Boyle is directing the untitled film\\n\\n...  \n",
       "1  Danny Boyle is directing the untitled film\\n\\n...  \n",
       "2  Danny Boyle is directing the untitled film\\n\\n...  \n",
       "3  Danny Boyle is directing the untitled film\\n\\n...  \n",
       "4  Danny Boyle is directing the untitled film\\n\\n...  "
      ]
     },
     "execution_count": 4,
     "metadata": {},
     "output_type": "execute_result"
    }
   ],
   "source": [
    "#merge on bodyID \n",
    "\n",
    "df_all = stances.merge(bodies, on = 'Body ID')\n",
    "#df_all = df_all.drop('Stance', axis =1)\n",
    "df_all.head()"
   ]
  },
  {
   "cell_type": "code",
   "execution_count": 19,
   "metadata": {},
   "outputs": [
    {
     "data": {
      "text/plain": [
       "Headline       0\n",
       "Body ID        0\n",
       "Stance         0\n",
       "articleBody    0\n",
       "dtype: int64"
      ]
     },
     "execution_count": 19,
     "metadata": {},
     "output_type": "execute_result"
    }
   ],
   "source": [
    "df_all.isnull().sum()"
   ]
  },
  {
   "cell_type": "code",
   "execution_count": 20,
   "metadata": {
    "scrolled": true
   },
   "outputs": [
    {
     "data": {
      "text/plain": [
       "(49972, 4)"
      ]
     },
     "execution_count": 20,
     "metadata": {},
     "output_type": "execute_result"
    }
   ],
   "source": [
    "df_all.shape"
   ]
  },
  {
   "cell_type": "markdown",
   "metadata": {},
   "source": [
    "## Baseline"
   ]
  },
  {
   "cell_type": "code",
   "execution_count": 21,
   "metadata": {},
   "outputs": [
    {
     "data": {
      "text/plain": [
       "unrelated    0.731310\n",
       "discuss      0.178280\n",
       "agree        0.073601\n",
       "disagree     0.016809\n",
       "Name: Stance, dtype: float64"
      ]
     },
     "execution_count": 21,
     "metadata": {},
     "output_type": "execute_result"
    }
   ],
   "source": [
    "stances['Stance'].value_counts(normalize=True)"
   ]
  },
  {
   "cell_type": "markdown",
   "metadata": {},
   "source": [
    "# NLP"
   ]
  },
  {
   "cell_type": "markdown",
   "metadata": {},
   "source": [
    "## Count Vectorizer"
   ]
  },
  {
   "cell_type": "code",
   "execution_count": 22,
   "metadata": {},
   "outputs": [
    {
     "data": {
      "text/plain": [
       "0.7320899703834147"
      ]
     },
     "execution_count": 22,
     "metadata": {},
     "output_type": "execute_result"
    }
   ],
   "source": [
    "#body\n",
    "X_train = df_all[['articleBody']]\n",
    "y_train = stances['Stance']\n",
    "X_test = df_all[['articleBody']]\n",
    "y_test = stances['Stance']\n",
    "\n",
    "cvec_body = CountVectorizer(stop_words = 'english')\n",
    "\n",
    "train_body_cvec = cvec_body.fit_transform(X_train['articleBody'])\n",
    "test_body_cvec = cvec_body.transform(X_test['articleBody'])\n",
    "\n",
    "lr = LogisticRegression()\n",
    "lr.fit(train_body_cvec, y_train)\n",
    "lr.score(test_body_cvec, y_test)"
   ]
  },
  {
   "cell_type": "code",
   "execution_count": 23,
   "metadata": {},
   "outputs": [
    {
     "data": {
      "text/plain": [
       "0.7313495557512207"
      ]
     },
     "execution_count": 23,
     "metadata": {},
     "output_type": "execute_result"
    }
   ],
   "source": [
    "#headline\n",
    "X_train = df_all[['Headline']]\n",
    "y_train = stances['Stance']\n",
    "X_test = df_all[['Headline']]\n",
    "y_test = stances['Stance']\n",
    "\n",
    "cvec_headline= CountVectorizer(stop_words = 'english')\n",
    "\n",
    "train_headline_cvec = cvec_headline.fit_transform(X_train['Headline'])\n",
    "test_headline_cvec = cvec_headline.transform(X_test['Headline'])\n",
    "\n",
    "lr = LogisticRegression()\n",
    "lr.fit(train_headline_cvec, y_train)\n",
    "lr.score(test_headline_cvec, y_test)"
   ]
  },
  {
   "cell_type": "code",
   "execution_count": 24,
   "metadata": {},
   "outputs": [],
   "source": [
    "#combine headline and body cvec and that will be x_train\n",
    "#fit model on X_train \n",
    "#if model doesnt do well do truncated svd then cosine similarity between bodies and headline which will become a feature \n"
   ]
  },
  {
   "cell_type": "code",
   "execution_count": 25,
   "metadata": {},
   "outputs": [],
   "source": [
    "#do i still need these \n",
    "#df  = pd.DataFrame(X_test_count.todense(),\n",
    "                   #columns=cvec.get_feature_names(), index = [bodies.articleBody]) \n",
    "#df.head()\n"
   ]
  },
  {
   "cell_type": "code",
   "execution_count": 26,
   "metadata": {
    "scrolled": true
   },
   "outputs": [],
   "source": [
    "#df.sort_index(axis = 0, ascending=False).head()"
   ]
  },
  {
   "cell_type": "code",
   "execution_count": 27,
   "metadata": {
    "scrolled": true
   },
   "outputs": [],
   "source": [
    "#df.sum().sort_values(ascending=False).head(10)"
   ]
  },
  {
   "cell_type": "code",
   "execution_count": 28,
   "metadata": {},
   "outputs": [],
   "source": [
    "#df = df.reindex_axis(df.sum().sort_values(ascending=False).index, axis =1)\n",
    "#df"
   ]
  },
  {
   "cell_type": "markdown",
   "metadata": {},
   "source": [
    "# Hashing Vectorizer"
   ]
  },
  {
   "cell_type": "code",
   "execution_count": 29,
   "metadata": {},
   "outputs": [],
   "source": [
    "#body\n",
    "X_train = df_all[['articleBody']]\n",
    "y_train = stances['Stance']\n",
    "X_test = df_all[['articleBody']]\n",
    "y_test = stances['Stance']"
   ]
  },
  {
   "cell_type": "code",
   "execution_count": 30,
   "metadata": {},
   "outputs": [
    {
     "data": {
      "text/plain": [
       "0.7313095333386697"
      ]
     },
     "execution_count": 30,
     "metadata": {},
     "output_type": "execute_result"
    }
   ],
   "source": [
    "hvec_body = HashingVectorizer(stop_words = 'english')\n",
    "\n",
    "train_body_hvec = hvec_body.fit_transform(X_train['articleBody'])\n",
    "test_body_hvec = hvec_body.transform(X_test['articleBody'])\n",
    "\n",
    "lr = LogisticRegression()\n",
    "lr.fit(train_body_hvec, y_train)\n",
    "lr.score(test_body_hvec, y_test)"
   ]
  },
  {
   "cell_type": "code",
   "execution_count": 31,
   "metadata": {},
   "outputs": [],
   "source": [
    "#headline\n",
    "X_train = df_all[['Headline']]\n",
    "y_train = stances['Stance']\n",
    "X_test = df_all[['Headline']]\n",
    "y_test = stances['Stance']"
   ]
  },
  {
   "cell_type": "code",
   "execution_count": 32,
   "metadata": {},
   "outputs": [
    {
     "data": {
      "text/plain": [
       "0.7313095333386697"
      ]
     },
     "execution_count": 32,
     "metadata": {},
     "output_type": "execute_result"
    }
   ],
   "source": [
    "hvec_headline = HashingVectorizer(stop_words = 'english')\n",
    "\n",
    "train_headline_hvec = hvec_headline.fit_transform(X_train['Headline'])\n",
    "test_headline_hvec = hvec_headline.transform(X_test['Headline'])\n",
    "\n",
    "lr = LogisticRegression()\n",
    "lr.fit(train_headline_hvec, y_train)\n",
    "lr.score(test_headline_hvec, y_test)"
   ]
  },
  {
   "cell_type": "code",
   "execution_count": 33,
   "metadata": {
    "scrolled": true
   },
   "outputs": [],
   "source": [
    "#df_hv = pd.DataFrame(hvec.transform(X_test).todense(), index=[bodies.articleBody])  \n",
    "#df_hv.head()"
   ]
  },
  {
   "cell_type": "code",
   "execution_count": 34,
   "metadata": {},
   "outputs": [],
   "source": [
    "#df_hv.sum().sort_values(ascending=False).head(10)"
   ]
  },
  {
   "cell_type": "code",
   "execution_count": 35,
   "metadata": {},
   "outputs": [],
   "source": [
    "#df_hv = df_hv.reindex_axis(df_hv.sum().sort_values(ascending=False).index, axis =1)\n",
    "#df_hv"
   ]
  },
  {
   "cell_type": "code",
   "execution_count": 36,
   "metadata": {
    "scrolled": true
   },
   "outputs": [],
   "source": [
    "#what can i do with this "
   ]
  },
  {
   "cell_type": "markdown",
   "metadata": {},
   "source": [
    "# TF IDF "
   ]
  },
  {
   "cell_type": "code",
   "execution_count": 37,
   "metadata": {},
   "outputs": [],
   "source": [
    "#body\n",
    "X_train = df_all[['articleBody']]\n",
    "y_train = stances['Stance']\n",
    "X_test = df_all[['articleBody']]\n",
    "y_test = stances['Stance']"
   ]
  },
  {
   "cell_type": "code",
   "execution_count": 38,
   "metadata": {},
   "outputs": [
    {
     "data": {
      "text/plain": [
       "0.7313095333386697"
      ]
     },
     "execution_count": 38,
     "metadata": {},
     "output_type": "execute_result"
    }
   ],
   "source": [
    "tvec_body = TfidfVectorizer(stop_words = 'english')\n",
    "\n",
    "train_body_tvec = tvec_body.fit_transform(X_train['articleBody'])\n",
    "test_body_tvec = tvec_body.transform(X_test['articleBody'])\n",
    "\n",
    "lr = LogisticRegression()\n",
    "lr.fit(train_body_tvec, y_train)\n",
    "lr.score(test_body_tvec, y_test)"
   ]
  },
  {
   "cell_type": "code",
   "execution_count": 39,
   "metadata": {},
   "outputs": [],
   "source": [
    "#headline\n",
    "X_train = df_all[['Headline']]\n",
    "y_train = stances['Stance']\n",
    "X_test = df_all[['Headline']]\n",
    "y_test = stances['Stance']"
   ]
  },
  {
   "cell_type": "code",
   "execution_count": 40,
   "metadata": {},
   "outputs": [
    {
     "data": {
      "text/plain": [
       "0.7313095333386697"
      ]
     },
     "execution_count": 40,
     "metadata": {},
     "output_type": "execute_result"
    }
   ],
   "source": [
    "tvec_headline = TfidfVectorizer(stop_words = 'english')\n",
    "\n",
    "train_headline_tvec = tvec_headline.fit_transform(X_train['Headline'])\n",
    "test_headline_tvec = tvec_headline.transform(X_test['Headline'])\n",
    "\n",
    "lr = LogisticRegression()\n",
    "lr.fit(train_headline_tvec, y_train)\n",
    "lr.score(test_headline_tvec, y_test)"
   ]
  },
  {
   "cell_type": "code",
   "execution_count": 41,
   "metadata": {},
   "outputs": [],
   "source": [
    "#df_tfidf  = pd.DataFrame(tvec.transform(X_test).todense(),\n",
    "                   #columns=tvec.get_feature_names(),\n",
    "                   #index=[bodies.articleBody])\n",
    "#df_tfidf.head()\n",
    "#df.transpose().sort_values('bodies.articleBody', ascending=False).head(10).transpose()"
   ]
  },
  {
   "cell_type": "code",
   "execution_count": 42,
   "metadata": {},
   "outputs": [],
   "source": [
    "#df_tfidf.sort_index(axis = 0, ascending=False).head()"
   ]
  },
  {
   "cell_type": "code",
   "execution_count": 43,
   "metadata": {
    "scrolled": true
   },
   "outputs": [],
   "source": [
    "#df_tfidf.sum().sort_values(ascending=False).head(10)"
   ]
  },
  {
   "cell_type": "code",
   "execution_count": 44,
   "metadata": {},
   "outputs": [],
   "source": [
    "#df_tfidf = df_tfidf.reindex_axis(df_tfidf.sum().sort_values(ascending=False).index, axis =1)\n",
    "#df_tfidf"
   ]
  },
  {
   "cell_type": "markdown",
   "metadata": {},
   "source": [
    "## LDA"
   ]
  },
  {
   "cell_type": "code",
   "execution_count": 5,
   "metadata": {},
   "outputs": [],
   "source": [
    "def text_process(text):\n",
    "    '''\n",
    "    Takes in a string of text, then performs the following:\n",
    "        1. Tokenizes and removes punctuation\n",
    "        2. Removes stopwords\n",
    "        3. Stems\n",
    "        4. Returns a list of the cleaned text\n",
    "    '''\n",
    "    if pd.isnull(text):\n",
    "        return []\n",
    "    # tokenizing and removing punctuation\n",
    "    tokenizer = RegexpTokenizer(r'\\w+')\n",
    "    text_processed=tokenizer.tokenize(text)\n",
    "    \n",
    "    # removing any stopwords\n",
    "    text_processed = [word.lower() for word in text_processed if word.lower() not in stopwords.words('english')]\n",
    "    \n",
    "    # stemming\n",
    "    #porter_stemmer = PorterStemmer()\n",
    "    wordnet_lemmatizer = WordNetLemmatizer()\n",
    "    \n",
    "    text_processed = [wordnet_lemmatizer.lemmatize(word) for word in text_processed]\n",
    "    \n",
    "    try:\n",
    "        text_processed.remove('b')\n",
    "    except: \n",
    "        pass\n",
    "\n",
    "    return text_processed ## <-- we're keeping our words distinct"
   ]
  },
  {
   "cell_type": "code",
   "execution_count": 46,
   "metadata": {},
   "outputs": [],
   "source": [
    "df_all['articleBody'] = df_all['articleBody'].apply(text_process)"
   ]
  },
  {
   "cell_type": "code",
   "execution_count": 47,
   "metadata": {
    "scrolled": true
   },
   "outputs": [
    {
     "data": {
      "text/plain": [
       "0    [danny, boyle, directing, untitled, film, seth...\n",
       "1    [danny, boyle, directing, untitled, film, seth...\n",
       "2    [danny, boyle, directing, untitled, film, seth...\n",
       "3    [danny, boyle, directing, untitled, film, seth...\n",
       "4    [danny, boyle, directing, untitled, film, seth...\n",
       "Name: articleBody, dtype: object"
      ]
     },
     "execution_count": 47,
     "metadata": {},
     "output_type": "execute_result"
    }
   ],
   "source": [
    "df_all['articleBody'].head()"
   ]
  },
  {
   "cell_type": "code",
   "execution_count": 48,
   "metadata": {},
   "outputs": [],
   "source": [
    "df_all['Headline'] = df_all['Headline'].apply(text_process)"
   ]
  },
  {
   "cell_type": "code",
   "execution_count": 49,
   "metadata": {
    "scrolled": true
   },
   "outputs": [
    {
     "data": {
      "text/plain": [
       "0    [police, find, mass, graf, least, 15, body, ne...\n",
       "1           [seth, rogen, play, apple, steve, wozniak]\n",
       "2    [mexico, police, find, mass, grave, near, site...\n",
       "3    [mexico, say, missing, student, found, first, ...\n",
       "4          [new, io, 8, bug, delete, icloud, document]\n",
       "Name: Headline, dtype: object"
      ]
     },
     "execution_count": 49,
     "metadata": {},
     "output_type": "execute_result"
    }
   ],
   "source": [
    "df_all['Headline'].head()"
   ]
  },
  {
   "cell_type": "code",
   "execution_count": null,
   "metadata": {},
   "outputs": [],
   "source": []
  },
  {
   "cell_type": "markdown",
   "metadata": {},
   "source": [
    "## Fit LDA Model"
   ]
  },
  {
   "cell_type": "code",
   "execution_count": 50,
   "metadata": {},
   "outputs": [],
   "source": [
    "from gensim import corpora, models\n",
    "import pyLDAvis.gensim\n",
    "\n",
    "pyLDAvis.enable_notebook()\n",
    "\n",
    "np.random.seed(42)"
   ]
  },
  {
   "cell_type": "markdown",
   "metadata": {},
   "source": [
    "## LDA Article Body"
   ]
  },
  {
   "cell_type": "code",
   "execution_count": 51,
   "metadata": {},
   "outputs": [],
   "source": [
    "dictionary = corpora.Dictionary(df_all['articleBody'])\n",
    "\n",
    "corpus = [dictionary.doc2bow(text) for text in df_all['articleBody']]\n",
    "\n",
    "ldamodel = models.ldamodel.LdaModel(corpus,                     # pass in our corpus\n",
    "                                    id2word = dictionary,       # matches each word to its \"number\" or \"spot\" in the dictionary\n",
    "                                    num_topics = 20,             # number of topics T to find\n",
    "                                    passes = 5,                 # number of passes through corpus; similar to number of epochs\n",
    "                                    minimum_probability = 0.01) # only include topics above this probability threshold"
   ]
  },
  {
   "cell_type": "code",
   "execution_count": 52,
   "metadata": {
    "scrolled": true
   },
   "outputs": [
    {
     "data": {
      "text/html": [
       "\n",
       "<link rel=\"stylesheet\" type=\"text/css\" href=\"https://cdn.rawgit.com/bmabey/pyLDAvis/files/ldavis.v1.0.0.css\">\n",
       "\n",
       "\n",
       "<div id=\"ldavis_el1562960344150721450959324\"></div>\n",
       "<script type=\"text/javascript\">\n",
       "\n",
       "var ldavis_el1562960344150721450959324_data = {\"mdsDat\": {\"Freq\": [8.472898483276367, 7.595188140869141, 7.31121301651001, 6.791380882263184, 6.466241836547852, 5.406466484069824, 5.100646018981934, 4.986450672149658, 4.9386420249938965, 4.882612228393555, 4.623846054077148, 4.12651252746582, 4.123122215270996, 4.0074028968811035, 3.879549741744995, 3.8189749717712402, 3.808368682861328, 3.591859817504883, 3.3997762203216553, 2.6688435077667236], \"cluster\": [1, 1, 1, 1, 1, 1, 1, 1, 1, 1, 1, 1, 1, 1, 1, 1, 1, 1, 1, 1], \"topics\": [1, 2, 3, 4, 5, 6, 7, 8, 9, 10, 11, 12, 13, 14, 15, 16, 17, 18, 19, 20], \"x\": [-0.22688059213780482, 0.11228680409888288, 0.0835443014767044, 0.10850820917025511, -0.17406244586441613, 0.1870838674643409, -0.1120490512763066, -0.21852877341567736, 0.11755930230996593, -0.05964233074209982, -0.11172648152011505, 0.14378795277398926, -0.024215169703462814, 0.1059114785876119, 0.1033210345113699, 0.013768359544914233, 0.12977876390212098, 0.10250025513362014, -0.10993352527971978, -0.1710119590341748], \"y\": [0.01911982009626073, 0.00043384203138666365, 0.02156965540012247, -0.08075272509605513, 0.042057285910818296, 0.06008226553480797, -0.04926962434095287, 0.0840443120441053, -0.017840101946644444, 0.10091018346189998, 0.08045833122819243, 0.01608501669661839, -0.2946917453930226, -0.023170995503038777, 0.14186475354030073, -0.04243452175078971, 0.04420146160204099, 0.03252868414264514, -0.26160734477210584, 0.12641144711340999]}, \"tinfo\": {\"Category\": [\"Default\", \"Default\", \"Default\", \"Default\", \"Default\", \"Default\", \"Default\", \"Default\", \"Default\", \"Default\", \"Default\", \"Default\", \"Default\", \"Default\", \"Default\", \"Default\", \"Default\", \"Default\", \"Default\", \"Default\", \"Default\", \"Default\", \"Default\", \"Default\", \"Default\", \"Default\", \"Default\", \"Default\", \"Default\", \"Default\", \"Topic1\", \"Topic1\", \"Topic1\", \"Topic1\", \"Topic1\", \"Topic1\", \"Topic1\", \"Topic1\", \"Topic1\", \"Topic1\", \"Topic1\", \"Topic1\", \"Topic1\", \"Topic1\", \"Topic1\", \"Topic1\", \"Topic1\", \"Topic1\", \"Topic1\", \"Topic1\", \"Topic1\", \"Topic1\", \"Topic1\", \"Topic1\", \"Topic1\", \"Topic1\", \"Topic1\", \"Topic1\", \"Topic1\", \"Topic1\", \"Topic1\", \"Topic1\", \"Topic1\", \"Topic1\", \"Topic1\", \"Topic1\", \"Topic1\", \"Topic1\", \"Topic1\", \"Topic1\", \"Topic1\", \"Topic1\", \"Topic1\", \"Topic1\", \"Topic1\", \"Topic1\", \"Topic1\", \"Topic1\", \"Topic1\", \"Topic1\", \"Topic1\", \"Topic1\", \"Topic1\", \"Topic1\", \"Topic1\", \"Topic1\", \"Topic1\", \"Topic1\", \"Topic1\", \"Topic1\", \"Topic1\", \"Topic1\", \"Topic1\", \"Topic1\", \"Topic1\", \"Topic1\", \"Topic1\", \"Topic1\", \"Topic1\", \"Topic2\", \"Topic2\", \"Topic2\", \"Topic2\", \"Topic2\", \"Topic2\", \"Topic2\", \"Topic2\", \"Topic2\", \"Topic2\", \"Topic2\", \"Topic2\", \"Topic2\", \"Topic2\", \"Topic2\", \"Topic2\", \"Topic2\", \"Topic2\", \"Topic2\", \"Topic2\", \"Topic2\", \"Topic2\", \"Topic2\", \"Topic2\", \"Topic2\", \"Topic2\", \"Topic2\", \"Topic2\", \"Topic2\", \"Topic2\", \"Topic2\", \"Topic2\", \"Topic2\", \"Topic2\", \"Topic2\", \"Topic2\", \"Topic2\", \"Topic2\", \"Topic2\", \"Topic2\", \"Topic2\", \"Topic2\", \"Topic2\", \"Topic2\", \"Topic2\", \"Topic2\", \"Topic2\", \"Topic2\", \"Topic2\", \"Topic2\", \"Topic2\", \"Topic2\", \"Topic2\", \"Topic2\", \"Topic2\", \"Topic2\", \"Topic2\", \"Topic2\", \"Topic2\", \"Topic2\", \"Topic2\", \"Topic2\", \"Topic2\", \"Topic2\", \"Topic2\", \"Topic2\", \"Topic2\", \"Topic2\", \"Topic2\", \"Topic2\", \"Topic2\", \"Topic2\", \"Topic3\", \"Topic3\", \"Topic3\", \"Topic3\", \"Topic3\", \"Topic3\", \"Topic3\", \"Topic3\", \"Topic3\", \"Topic3\", \"Topic3\", \"Topic3\", \"Topic3\", \"Topic3\", \"Topic3\", \"Topic3\", \"Topic3\", \"Topic3\", \"Topic3\", \"Topic3\", \"Topic3\", \"Topic3\", \"Topic3\", \"Topic3\", \"Topic3\", \"Topic3\", \"Topic3\", \"Topic3\", \"Topic3\", \"Topic3\", \"Topic3\", \"Topic3\", \"Topic3\", \"Topic3\", \"Topic3\", \"Topic3\", \"Topic3\", \"Topic3\", \"Topic3\", \"Topic3\", \"Topic3\", \"Topic3\", \"Topic3\", \"Topic3\", \"Topic3\", \"Topic3\", \"Topic3\", \"Topic3\", \"Topic3\", \"Topic3\", \"Topic3\", \"Topic3\", \"Topic3\", \"Topic3\", \"Topic3\", \"Topic3\", \"Topic3\", \"Topic3\", \"Topic3\", \"Topic3\", \"Topic3\", \"Topic3\", \"Topic3\", \"Topic3\", \"Topic3\", \"Topic3\", \"Topic3\", \"Topic3\", \"Topic3\", \"Topic3\", \"Topic3\", \"Topic3\", \"Topic3\", \"Topic3\", \"Topic3\", \"Topic3\", \"Topic3\", \"Topic3\", \"Topic4\", \"Topic4\", \"Topic4\", \"Topic4\", \"Topic4\", \"Topic4\", \"Topic4\", \"Topic4\", \"Topic4\", \"Topic4\", \"Topic4\", \"Topic4\", \"Topic4\", \"Topic4\", \"Topic4\", \"Topic4\", \"Topic4\", \"Topic4\", \"Topic4\", \"Topic4\", \"Topic4\", \"Topic4\", \"Topic4\", \"Topic4\", \"Topic4\", \"Topic4\", \"Topic4\", \"Topic4\", \"Topic4\", \"Topic4\", \"Topic4\", \"Topic4\", \"Topic4\", \"Topic4\", \"Topic4\", \"Topic4\", \"Topic4\", \"Topic4\", \"Topic4\", \"Topic4\", \"Topic4\", \"Topic4\", \"Topic4\", \"Topic4\", \"Topic4\", \"Topic4\", \"Topic4\", \"Topic4\", \"Topic4\", \"Topic4\", \"Topic4\", \"Topic4\", \"Topic4\", \"Topic4\", \"Topic4\", \"Topic4\", \"Topic4\", \"Topic4\", \"Topic4\", \"Topic4\", \"Topic4\", \"Topic4\", \"Topic4\", \"Topic4\", \"Topic4\", \"Topic4\", \"Topic4\", \"Topic4\", \"Topic4\", \"Topic4\", \"Topic4\", \"Topic4\", \"Topic4\", \"Topic4\", \"Topic4\", \"Topic4\", \"Topic4\", \"Topic4\", \"Topic4\", \"Topic4\", \"Topic4\", \"Topic4\", \"Topic4\", \"Topic4\", \"Topic4\", \"Topic5\", \"Topic5\", \"Topic5\", \"Topic5\", \"Topic5\", \"Topic5\", \"Topic5\", \"Topic5\", \"Topic5\", \"Topic5\", \"Topic5\", \"Topic5\", \"Topic5\", \"Topic5\", \"Topic5\", \"Topic5\", \"Topic5\", \"Topic5\", \"Topic5\", \"Topic5\", \"Topic5\", \"Topic5\", \"Topic5\", \"Topic5\", \"Topic5\", \"Topic5\", \"Topic5\", \"Topic5\", \"Topic5\", \"Topic5\", \"Topic5\", \"Topic5\", \"Topic5\", \"Topic5\", \"Topic5\", \"Topic5\", \"Topic5\", \"Topic5\", \"Topic5\", \"Topic5\", \"Topic5\", \"Topic5\", \"Topic5\", \"Topic5\", \"Topic5\", \"Topic5\", \"Topic5\", \"Topic5\", \"Topic5\", \"Topic5\", \"Topic5\", \"Topic5\", \"Topic5\", \"Topic5\", \"Topic5\", \"Topic5\", \"Topic5\", \"Topic5\", \"Topic5\", \"Topic5\", \"Topic5\", \"Topic5\", \"Topic5\", \"Topic5\", \"Topic5\", \"Topic5\", \"Topic5\", \"Topic5\", \"Topic5\", \"Topic5\", \"Topic6\", \"Topic6\", \"Topic6\", \"Topic6\", \"Topic6\", \"Topic6\", \"Topic6\", \"Topic6\", \"Topic6\", \"Topic6\", \"Topic6\", \"Topic6\", \"Topic6\", \"Topic6\", \"Topic6\", \"Topic6\", \"Topic6\", \"Topic6\", \"Topic6\", \"Topic6\", \"Topic6\", \"Topic6\", \"Topic6\", \"Topic6\", \"Topic6\", \"Topic6\", \"Topic6\", \"Topic6\", \"Topic6\", \"Topic6\", \"Topic6\", \"Topic6\", \"Topic6\", \"Topic6\", \"Topic6\", \"Topic6\", \"Topic6\", \"Topic6\", \"Topic6\", \"Topic6\", \"Topic6\", \"Topic6\", \"Topic6\", \"Topic6\", \"Topic6\", \"Topic6\", \"Topic6\", \"Topic6\", \"Topic6\", \"Topic6\", \"Topic6\", \"Topic6\", \"Topic6\", \"Topic6\", \"Topic6\", \"Topic6\", \"Topic6\", \"Topic6\", \"Topic6\", \"Topic6\", \"Topic6\", \"Topic6\", \"Topic6\", \"Topic7\", \"Topic7\", \"Topic7\", \"Topic7\", \"Topic7\", \"Topic7\", \"Topic7\", \"Topic7\", \"Topic7\", \"Topic7\", \"Topic7\", \"Topic7\", \"Topic7\", \"Topic7\", \"Topic7\", \"Topic7\", \"Topic7\", \"Topic7\", \"Topic7\", \"Topic7\", \"Topic7\", \"Topic7\", \"Topic7\", \"Topic7\", \"Topic7\", \"Topic7\", \"Topic7\", \"Topic7\", \"Topic7\", \"Topic7\", \"Topic7\", \"Topic7\", \"Topic7\", \"Topic7\", \"Topic7\", \"Topic7\", \"Topic7\", \"Topic7\", \"Topic7\", \"Topic7\", \"Topic7\", \"Topic7\", \"Topic7\", \"Topic7\", \"Topic7\", \"Topic7\", \"Topic7\", \"Topic7\", \"Topic7\", \"Topic7\", \"Topic7\", \"Topic7\", \"Topic7\", \"Topic7\", \"Topic7\", \"Topic7\", \"Topic7\", \"Topic7\", \"Topic7\", \"Topic7\", \"Topic7\", \"Topic7\", \"Topic7\", \"Topic7\", \"Topic7\", \"Topic7\", \"Topic7\", \"Topic8\", \"Topic8\", \"Topic8\", \"Topic8\", \"Topic8\", \"Topic8\", \"Topic8\", \"Topic8\", \"Topic8\", \"Topic8\", \"Topic8\", \"Topic8\", \"Topic8\", \"Topic8\", \"Topic8\", \"Topic8\", \"Topic8\", \"Topic8\", \"Topic8\", \"Topic8\", \"Topic8\", \"Topic8\", \"Topic8\", \"Topic8\", \"Topic8\", \"Topic8\", \"Topic8\", \"Topic8\", \"Topic8\", \"Topic8\", \"Topic8\", \"Topic8\", \"Topic8\", \"Topic8\", \"Topic8\", \"Topic8\", \"Topic8\", \"Topic8\", \"Topic8\", \"Topic8\", \"Topic8\", \"Topic8\", \"Topic8\", \"Topic8\", \"Topic8\", \"Topic8\", \"Topic8\", \"Topic8\", \"Topic8\", \"Topic8\", \"Topic8\", \"Topic8\", \"Topic8\", \"Topic8\", \"Topic8\", \"Topic8\", \"Topic8\", \"Topic8\", \"Topic8\", \"Topic8\", \"Topic8\", \"Topic8\", \"Topic8\", \"Topic8\", \"Topic9\", \"Topic9\", \"Topic9\", \"Topic9\", \"Topic9\", \"Topic9\", \"Topic9\", \"Topic9\", \"Topic9\", \"Topic9\", \"Topic9\", \"Topic9\", \"Topic9\", \"Topic9\", \"Topic9\", \"Topic9\", \"Topic9\", \"Topic9\", \"Topic9\", \"Topic9\", \"Topic9\", \"Topic9\", \"Topic9\", \"Topic9\", \"Topic9\", \"Topic9\", \"Topic9\", \"Topic9\", \"Topic9\", \"Topic9\", \"Topic9\", \"Topic9\", \"Topic9\", \"Topic9\", \"Topic9\", \"Topic9\", \"Topic9\", \"Topic9\", \"Topic9\", \"Topic9\", \"Topic9\", \"Topic9\", \"Topic9\", \"Topic9\", \"Topic9\", \"Topic9\", \"Topic9\", \"Topic9\", \"Topic9\", \"Topic9\", \"Topic9\", \"Topic9\", \"Topic9\", \"Topic9\", \"Topic9\", \"Topic9\", \"Topic9\", \"Topic9\", \"Topic9\", \"Topic9\", \"Topic9\", \"Topic9\", \"Topic9\", \"Topic9\", \"Topic9\", \"Topic9\", \"Topic9\", \"Topic9\", \"Topic9\", \"Topic9\", \"Topic9\", \"Topic9\", \"Topic9\", \"Topic9\", \"Topic10\", \"Topic10\", \"Topic10\", \"Topic10\", \"Topic10\", \"Topic10\", \"Topic10\", \"Topic10\", \"Topic10\", \"Topic10\", \"Topic10\", \"Topic10\", \"Topic10\", \"Topic10\", \"Topic10\", \"Topic10\", \"Topic10\", \"Topic10\", \"Topic10\", \"Topic10\", \"Topic10\", \"Topic10\", \"Topic10\", \"Topic10\", \"Topic10\", \"Topic10\", \"Topic10\", \"Topic10\", \"Topic10\", \"Topic10\", \"Topic10\", \"Topic10\", \"Topic10\", \"Topic10\", \"Topic10\", \"Topic10\", \"Topic10\", \"Topic10\", \"Topic10\", \"Topic10\", \"Topic10\", \"Topic10\", \"Topic10\", \"Topic10\", \"Topic10\", \"Topic10\", \"Topic10\", \"Topic10\", \"Topic10\", \"Topic10\", \"Topic10\", \"Topic10\", \"Topic10\", \"Topic10\", \"Topic10\", \"Topic10\", \"Topic10\", \"Topic10\", \"Topic10\", \"Topic10\", \"Topic11\", \"Topic11\", \"Topic11\", \"Topic11\", \"Topic11\", \"Topic11\", \"Topic11\", \"Topic11\", \"Topic11\", \"Topic11\", \"Topic11\", \"Topic11\", \"Topic11\", \"Topic11\", \"Topic11\", \"Topic11\", \"Topic11\", \"Topic11\", \"Topic11\", \"Topic11\", \"Topic11\", \"Topic11\", \"Topic11\", \"Topic11\", \"Topic11\", \"Topic11\", \"Topic11\", \"Topic11\", \"Topic11\", \"Topic11\", \"Topic11\", \"Topic11\", \"Topic11\", \"Topic11\", \"Topic11\", \"Topic11\", \"Topic11\", \"Topic11\", \"Topic11\", \"Topic11\", \"Topic11\", \"Topic11\", \"Topic11\", \"Topic11\", \"Topic11\", \"Topic11\", \"Topic11\", \"Topic11\", \"Topic11\", \"Topic11\", \"Topic11\", \"Topic11\", \"Topic11\", \"Topic11\", \"Topic11\", \"Topic11\", \"Topic11\", \"Topic11\", \"Topic11\", \"Topic11\", \"Topic12\", \"Topic12\", \"Topic12\", \"Topic12\", \"Topic12\", \"Topic12\", \"Topic12\", \"Topic12\", \"Topic12\", \"Topic12\", \"Topic12\", \"Topic12\", \"Topic12\", \"Topic12\", \"Topic12\", \"Topic12\", \"Topic12\", \"Topic12\", \"Topic12\", \"Topic12\", \"Topic12\", \"Topic12\", \"Topic12\", \"Topic12\", \"Topic12\", \"Topic12\", \"Topic12\", \"Topic12\", \"Topic12\", \"Topic12\", \"Topic12\", \"Topic12\", \"Topic12\", \"Topic12\", \"Topic12\", \"Topic12\", \"Topic12\", \"Topic12\", \"Topic12\", \"Topic12\", \"Topic12\", \"Topic12\", \"Topic12\", \"Topic12\", \"Topic12\", \"Topic12\", \"Topic12\", \"Topic12\", \"Topic12\", \"Topic12\", \"Topic12\", \"Topic12\", \"Topic12\", \"Topic12\", \"Topic12\", \"Topic12\", \"Topic12\", \"Topic12\", \"Topic12\", \"Topic12\", \"Topic12\", \"Topic12\", \"Topic12\", \"Topic12\", \"Topic13\", \"Topic13\", \"Topic13\", \"Topic13\", \"Topic13\", \"Topic13\", \"Topic13\", \"Topic13\", \"Topic13\", \"Topic13\", \"Topic13\", \"Topic13\", \"Topic13\", \"Topic13\", \"Topic13\", \"Topic13\", \"Topic13\", \"Topic13\", \"Topic13\", \"Topic13\", \"Topic13\", \"Topic13\", \"Topic13\", \"Topic13\", \"Topic13\", \"Topic13\", \"Topic13\", \"Topic13\", \"Topic13\", \"Topic13\", \"Topic13\", \"Topic13\", \"Topic13\", \"Topic13\", \"Topic13\", \"Topic13\", \"Topic13\", \"Topic13\", \"Topic13\", \"Topic13\", \"Topic13\", \"Topic13\", \"Topic13\", \"Topic13\", \"Topic13\", \"Topic13\", \"Topic13\", \"Topic13\", \"Topic13\", \"Topic13\", \"Topic13\", \"Topic13\", \"Topic13\", \"Topic13\", \"Topic13\", \"Topic13\", \"Topic13\", \"Topic13\", \"Topic13\", \"Topic13\", \"Topic13\", \"Topic13\", \"Topic13\", \"Topic13\", \"Topic14\", \"Topic14\", \"Topic14\", \"Topic14\", \"Topic14\", \"Topic14\", \"Topic14\", \"Topic14\", \"Topic14\", \"Topic14\", \"Topic14\", \"Topic14\", \"Topic14\", \"Topic14\", \"Topic14\", \"Topic14\", \"Topic14\", \"Topic14\", \"Topic14\", \"Topic14\", \"Topic14\", \"Topic14\", \"Topic14\", \"Topic14\", \"Topic14\", \"Topic14\", \"Topic14\", \"Topic14\", \"Topic14\", \"Topic14\", \"Topic14\", \"Topic14\", \"Topic14\", \"Topic14\", \"Topic14\", \"Topic14\", \"Topic14\", \"Topic14\", \"Topic14\", \"Topic14\", \"Topic14\", \"Topic14\", \"Topic14\", \"Topic14\", \"Topic14\", \"Topic14\", \"Topic14\", \"Topic14\", \"Topic14\", \"Topic14\", \"Topic14\", \"Topic14\", \"Topic14\", \"Topic14\", \"Topic14\", \"Topic14\", \"Topic14\", \"Topic14\", \"Topic14\", \"Topic14\", \"Topic14\", \"Topic15\", \"Topic15\", \"Topic15\", \"Topic15\", \"Topic15\", \"Topic15\", \"Topic15\", \"Topic15\", \"Topic15\", \"Topic15\", \"Topic15\", \"Topic15\", \"Topic15\", \"Topic15\", \"Topic15\", \"Topic15\", \"Topic15\", \"Topic15\", \"Topic15\", \"Topic15\", \"Topic15\", \"Topic15\", \"Topic15\", \"Topic15\", \"Topic15\", \"Topic15\", \"Topic15\", \"Topic15\", \"Topic15\", \"Topic15\", \"Topic15\", \"Topic15\", \"Topic15\", \"Topic15\", \"Topic15\", \"Topic15\", \"Topic15\", \"Topic15\", \"Topic15\", \"Topic15\", \"Topic15\", \"Topic15\", \"Topic15\", \"Topic15\", \"Topic15\", \"Topic15\", \"Topic15\", \"Topic15\", \"Topic15\", \"Topic15\", \"Topic15\", \"Topic15\", \"Topic15\", \"Topic15\", \"Topic15\", \"Topic15\", \"Topic15\", \"Topic15\", \"Topic16\", \"Topic16\", \"Topic16\", \"Topic16\", \"Topic16\", \"Topic16\", \"Topic16\", \"Topic16\", \"Topic16\", \"Topic16\", \"Topic16\", \"Topic16\", \"Topic16\", \"Topic16\", \"Topic16\", \"Topic16\", \"Topic16\", \"Topic16\", \"Topic16\", \"Topic16\", \"Topic16\", \"Topic16\", \"Topic16\", \"Topic16\", \"Topic16\", \"Topic16\", \"Topic16\", \"Topic16\", \"Topic16\", \"Topic16\", \"Topic16\", \"Topic16\", \"Topic16\", \"Topic16\", \"Topic16\", \"Topic16\", \"Topic16\", \"Topic16\", \"Topic16\", \"Topic16\", \"Topic16\", \"Topic16\", \"Topic16\", \"Topic16\", \"Topic16\", \"Topic16\", \"Topic16\", \"Topic16\", \"Topic16\", \"Topic16\", \"Topic16\", \"Topic16\", \"Topic16\", \"Topic16\", \"Topic16\", \"Topic16\", \"Topic16\", \"Topic17\", \"Topic17\", \"Topic17\", \"Topic17\", \"Topic17\", \"Topic17\", \"Topic17\", \"Topic17\", \"Topic17\", \"Topic17\", \"Topic17\", \"Topic17\", \"Topic17\", \"Topic17\", \"Topic17\", \"Topic17\", \"Topic17\", \"Topic17\", \"Topic17\", \"Topic17\", \"Topic17\", \"Topic17\", \"Topic17\", \"Topic17\", \"Topic17\", \"Topic17\", \"Topic17\", \"Topic17\", \"Topic17\", \"Topic17\", \"Topic17\", \"Topic17\", \"Topic17\", \"Topic17\", \"Topic17\", \"Topic17\", \"Topic17\", \"Topic17\", \"Topic17\", \"Topic17\", \"Topic17\", \"Topic17\", \"Topic17\", \"Topic17\", \"Topic17\", \"Topic17\", \"Topic17\", \"Topic17\", \"Topic17\", \"Topic17\", \"Topic17\", \"Topic17\", \"Topic17\", \"Topic17\", \"Topic17\", \"Topic17\", \"Topic17\", \"Topic17\", \"Topic17\", \"Topic18\", \"Topic18\", \"Topic18\", \"Topic18\", \"Topic18\", \"Topic18\", \"Topic18\", \"Topic18\", \"Topic18\", \"Topic18\", \"Topic18\", \"Topic18\", \"Topic18\", \"Topic18\", \"Topic18\", \"Topic18\", \"Topic18\", \"Topic18\", \"Topic18\", \"Topic18\", \"Topic18\", \"Topic18\", \"Topic18\", \"Topic18\", \"Topic18\", \"Topic18\", \"Topic18\", \"Topic18\", \"Topic18\", \"Topic18\", \"Topic18\", \"Topic18\", \"Topic18\", \"Topic18\", \"Topic18\", \"Topic18\", \"Topic18\", \"Topic18\", \"Topic18\", \"Topic18\", \"Topic18\", \"Topic18\", \"Topic18\", \"Topic18\", \"Topic18\", \"Topic18\", \"Topic18\", \"Topic18\", \"Topic18\", \"Topic18\", \"Topic18\", \"Topic18\", \"Topic18\", \"Topic18\", \"Topic18\", \"Topic18\", \"Topic18\", \"Topic18\", \"Topic18\", \"Topic18\", \"Topic18\", \"Topic18\", \"Topic18\", \"Topic18\", \"Topic18\", \"Topic18\", \"Topic19\", \"Topic19\", \"Topic19\", \"Topic19\", \"Topic19\", \"Topic19\", \"Topic19\", \"Topic19\", \"Topic19\", \"Topic19\", \"Topic19\", \"Topic19\", \"Topic19\", \"Topic19\", \"Topic19\", \"Topic19\", \"Topic19\", \"Topic19\", \"Topic19\", \"Topic19\", \"Topic19\", \"Topic19\", \"Topic19\", \"Topic19\", \"Topic19\", \"Topic19\", \"Topic19\", \"Topic19\", \"Topic19\", \"Topic19\", \"Topic19\", \"Topic19\", \"Topic19\", \"Topic19\", \"Topic19\", \"Topic19\", \"Topic19\", \"Topic19\", \"Topic19\", \"Topic19\", \"Topic19\", \"Topic19\", \"Topic19\", \"Topic19\", \"Topic19\", \"Topic19\", \"Topic19\", \"Topic19\", \"Topic19\", \"Topic19\", \"Topic19\", \"Topic19\", \"Topic19\", \"Topic19\", \"Topic19\", \"Topic20\", \"Topic20\", \"Topic20\", \"Topic20\", \"Topic20\", \"Topic20\", \"Topic20\", \"Topic20\", \"Topic20\", \"Topic20\", \"Topic20\", \"Topic20\", \"Topic20\", \"Topic20\", \"Topic20\", \"Topic20\", \"Topic20\", \"Topic20\", \"Topic20\", \"Topic20\", \"Topic20\", \"Topic20\", \"Topic20\", \"Topic20\", \"Topic20\", \"Topic20\", \"Topic20\", \"Topic20\", \"Topic20\", \"Topic20\", \"Topic20\", \"Topic20\", \"Topic20\", \"Topic20\", \"Topic20\", \"Topic20\", \"Topic20\", \"Topic20\", \"Topic20\", \"Topic20\", \"Topic20\", \"Topic20\", \"Topic20\", \"Topic20\", \"Topic20\", \"Topic20\", \"Topic20\", \"Topic20\", \"Topic20\", \"Topic20\", \"Topic20\", \"Topic20\", \"Topic20\", \"Topic20\", \"Topic20\", \"Topic20\", \"Topic20\", \"Topic20\", \"Topic20\"], \"Freq\": [44046.0, 30443.0, 22237.0, 28784.0, 46117.0, 34001.0, 20626.0, 24472.0, 16882.0, 17941.0, 13909.0, 130181.0, 26540.0, 41793.0, 17448.0, 10801.0, 47036.0, 12495.0, 22614.0, 20635.0, 29728.0, 19261.0, 16631.0, 33140.0, 13615.0, 10156.0, 10093.0, 10183.0, 11492.0, 10498.0, 5753.16650390625, 3812.44091796875, 3797.156494140625, 3067.350830078125, 2763.3935546875, 2666.31103515625, 2438.07177734375, 2369.719970703125, 2198.107177734375, 1759.7840576171875, 1740.4757080078125, 1555.6063232421875, 1491.20166015625, 1451.69677734375, 1366.121337890625, 1316.1407470703125, 1199.5196533203125, 1180.6834716796875, 1160.9244384765625, 1155.33056640625, 1094.42041015625, 1047.450439453125, 1041.6484375, 1026.88525390625, 1001.5838623046875, 905.7767944335938, 1129.443359375, 851.2522583007812, 843.7786254882812, 826.824951171875, 3462.270751953125, 3154.4716796875, 1352.4322509765625, 16697.3359375, 2018.8812255859375, 3065.20458984375, 1635.15673828125, 5444.7470703125, 8681.62109375, 3175.908203125, 3064.3525390625, 3066.049072265625, 7941.76025390625, 1921.2310791015625, 17839.09765625, 4807.09130859375, 6857.06201171875, 19519.865234375, 2700.28466796875, 5382.86279296875, 6719.0859375, 11861.62109375, 10731.150390625, 10105.9873046875, 5456.64892578125, 13332.4248046875, 22820.97265625, 8114.845703125, 6618.0791015625, 6282.8759765625, 4776.3056640625, 5960.14208984375, 5521.50927734375, 5613.89306640625, 4443.904296875, 4238.7783203125, 3680.40771484375, 4174.5078125, 3820.684326171875, 2813.7080078125, 2650.48876953125, 2533.43408203125, 2342.701904296875, 2151.000244140625, 1996.21435546875, 1950.233154296875, 1818.371826171875, 3071.947265625, 1716.009765625, 1600.833740234375, 1690.235595703125, 1485.1043701171875, 1417.737060546875, 1623.5823974609375, 1224.43017578125, 1218.4200439453125, 1125.0985107421875, 1083.2733154296875, 1036.829833984375, 943.3565063476562, 924.5676879882812, 909.617919921875, 893.7525634765625, 904.5936279296875, 843.931884765625, 837.246337890625, 827.45703125, 803.14404296875, 783.0262451171875, 1792.267578125, 1678.38720703125, 1490.969970703125, 1585.6060791015625, 1783.960693359375, 1243.814208984375, 2337.184326171875, 2481.83984375, 2339.484619140625, 1459.0423583984375, 5102.001953125, 1778.570556640625, 15507.7607421875, 1711.39208984375, 2705.234375, 2053.87939453125, 4309.4423828125, 5118.43603515625, 4945.9873046875, 8656.0244140625, 2166.78173828125, 2528.8095703125, 5786.69970703125, 2444.479248046875, 2286.385009765625, 5786.919921875, 4091.10791015625, 4260.72119140625, 2304.078125, 7017.66357421875, 3902.099365234375, 2422.7177734375, 3017.149658203125, 3101.40771484375, 3025.785888671875, 3403.739990234375, 2566.52978515625, 2971.10986328125, 2770.536376953125, 2513.08349609375, 2796.912353515625, 2716.8212890625, 2151.538818359375, 2060.44287109375, 1890.684326171875, 1652.5230712890625, 1646.2637939453125, 1589.653076171875, 1478.32470703125, 1313.2666015625, 1295.3154296875, 1203.1322021484375, 1172.2080078125, 1161.5303955078125, 1110.149169921875, 1136.216064453125, 1078.0361328125, 1074.776611328125, 1056.990234375, 911.2239379882812, 903.9828491210938, 973.546630859375, 885.8790283203125, 820.7559814453125, 792.9174194335938, 741.52783203125, 722.2760620117188, 716.2567138671875, 618.4003295898438, 609.8111572265625, 606.9783935546875, 570.1259155273438, 2566.3994140625, 988.6117553710938, 1081.77197265625, 793.857666015625, 2640.298095703125, 2258.05859375, 2806.2431640625, 1046.898193359375, 1267.3316650390625, 1620.61474609375, 3674.52001953125, 3598.943115234375, 11262.158203125, 4626.931640625, 1608.8011474609375, 6372.3544921875, 4302.962890625, 3764.497314453125, 5016.982421875, 1835.287353515625, 1665.0599365234375, 2830.40673828125, 1730.9591064453125, 2190.798828125, 10675.509765625, 4101.896484375, 2565.232421875, 4076.96337890625, 4110.5751953125, 6263.75927734375, 5197.28369140625, 9593.5927734375, 5990.779296875, 3563.7177734375, 6014.47119140625, 3916.369140625, 4179.515625, 6866.49853515625, 3299.1728515625, 3837.089599609375, 2917.90576171875, 3050.2666015625, 3081.0087890625, 3093.63134765625, 3691.63427734375, 3072.178955078125, 3055.253173828125, 3022.324462890625, 3332.873291015625, 2406.4794921875, 2289.454833984375, 2017.9190673828125, 1162.765625, 1648.1392822265625, 889.7756958007812, 855.4564819335938, 825.2432861328125, 795.9736938476562, 1532.3330078125, 716.6669921875, 667.9182739257812, 649.6358642578125, 1264.353759765625, 615.2675170898438, 611.4342651367188, 593.5230712890625, 575.62158203125, 556.2076416015625, 544.7893676757812, 768.3370971679688, 477.7679443359375, 492.3724060058594, 419.7060241699219, 412.4085998535156, 382.2666931152344, 376.8169860839844, 376.22967529296875, 359.776123046875, 7394.18359375, 970.2362060546875, 614.93701171875, 396.7705078125, 970.3141479492188, 908.9983520507812, 926.2347412109375, 701.6979370117188, 941.9871826171875, 3183.334228515625, 5806.91064453125, 1896.3682861328125, 2166.559326171875, 1204.554931640625, 1535.572021484375, 1410.0301513671875, 4346.349609375, 1120.076416015625, 2677.3701171875, 1279.908203125, 4334.29443359375, 3543.0869140625, 1380.927734375, 2622.42333984375, 2214.076171875, 2169.2626953125, 2786.747314453125, 2297.176025390625, 1886.94921875, 11212.6298828125, 7992.1748046875, 7977.123046875, 3226.469482421875, 2216.40185546875, 2705.789794921875, 5041.41845703125, 4302.46923828125, 3921.573974609375, 5738.79541015625, 3783.96484375, 3870.219970703125, 4401.93408203125, 2813.24169921875, 3907.407958984375, 2621.26318359375, 2521.470703125, 3703.040283203125, 2876.510498046875, 3181.038818359375, 3244.883544921875, 3022.78759765625, 3154.33935546875, 2972.602783203125, 2736.6875, 2743.483154296875, 16882.029296875, 5372.5888671875, 4203.02587890625, 3030.345458984375, 2271.235595703125, 1729.1029052734375, 1701.2899169921875, 1325.1790771484375, 1258.967529296875, 1184.3370361328125, 986.0579223632812, 902.4837646484375, 893.876220703125, 866.0299072265625, 810.7116088867188, 803.236083984375, 797.8515014648438, 787.637939453125, 735.888427734375, 727.9822387695312, 725.654296875, 691.0006103515625, 643.8045654296875, 616.1232299804688, 555.0094604492188, 538.416015625, 534.046142578125, 518.1273193359375, 516.6883544921875, 506.8745422363281, 4043.249267578125, 3199.79296875, 2878.24462890625, 1642.8707275390625, 2070.3115234375, 11049.0546875, 2333.586181640625, 7526.84912109375, 4317.296875, 4070.01806640625, 11195.1962890625, 1580.6365966796875, 2774.75146484375, 1558.3880615234375, 1502.5377197265625, 2507.45751953125, 13274.7080078125, 2684.521728515625, 1673.31005859375, 2465.909423828125, 21264.064453125, 8500.626953125, 11067.2861328125, 3947.819580078125, 3837.259521484375, 10368.7470703125, 14271.3017578125, 5664.328125, 7162.35986328125, 11053.517578125, 4997.69091796875, 5093.298828125, 6526.75390625, 4817.97802734375, 3737.65478515625, 5557.31396484375, 6653.05908203125, 4717.1591796875, 4284.7275390625, 3578.734130859375, 7999.9140625, 2958.283447265625, 2381.197021484375, 2273.873291015625, 1930.9342041015625, 1919.5491943359375, 1842.4007568359375, 1766.3885498046875, 1704.77099609375, 1550.036376953125, 1517.6417236328125, 1476.6689453125, 1475.4779052734375, 1389.6251220703125, 1327.11962890625, 1269.4913330078125, 1249.6109619140625, 1195.03466796875, 1107.5302734375, 1245.4293212890625, 1096.1029052734375, 1066.0399169921875, 1055.7569580078125, 1050.5821533203125, 1030.4083251953125, 1053.7554931640625, 978.42236328125, 955.2103271484375, 936.2430419921875, 901.4888916015625, 7749.37353515625, 42624.87890625, 4406.73193359375, 28210.65625, 1724.874755859375, 4638.63720703125, 4182.0908203125, 2335.586669921875, 4139.32421875, 3068.9755859375, 3522.077392578125, 2057.77587890625, 1619.4815673828125, 2708.892333984375, 6112.14599609375, 2773.1689453125, 2715.94775390625, 4965.0751953125, 3243.247802734375, 3650.425537109375, 2404.45166015625, 2643.791015625, 4658.05322265625, 4447.70849609375, 2479.889892578125, 2229.92626953125, 2500.8828125, 2733.40283203125, 3262.078369140625, 2947.88037109375, 2746.8916015625, 2654.956787109375, 2454.76806640625, 7339.88134765625, 3194.843505859375, 2848.28857421875, 2584.51708984375, 2557.47802734375, 1995.2969970703125, 1902.349609375, 1696.6787109375, 1604.537353515625, 1525.817138671875, 1245.955322265625, 1173.936279296875, 1093.8402099609375, 1040.5843505859375, 1006.2462768554688, 984.154296875, 828.0226440429688, 818.9371948242188, 812.4564208984375, 806.3004760742188, 755.0537109375, 742.2430419921875, 738.2053833007812, 708.6968994140625, 688.7745361328125, 651.4398803710938, 648.2603149414062, 602.4473266601562, 778.4597778320312, 581.5588989257812, 5399.19091796875, 648.22900390625, 831.470458984375, 2566.11181640625, 1326.9205322265625, 6706.1943359375, 2586.09912109375, 1576.73828125, 1327.3538818359375, 6784.7734375, 2711.60986328125, 1808.7490234375, 7413.57763671875, 1527.3482666015625, 5931.07373046875, 3823.553466796875, 1961.414306640625, 6487.43212890625, 1815.72705078125, 3949.2939453125, 1893.5029296875, 3595.88134765625, 2598.1181640625, 9062.8310546875, 2282.365234375, 3156.279052734375, 2222.322509765625, 2925.96923828125, 2741.541259765625, 2343.80224609375, 2537.320556640625, 2318.439208984375, 2671.021728515625, 2144.51904296875, 2375.04736328125, 2286.364013671875, 2245.10400390625, 9235.388671875, 5053.64306640625, 4397.33642578125, 3239.9638671875, 2828.435302734375, 2824.34521484375, 2792.246337890625, 2270.33056640625, 2015.003173828125, 1730.92578125, 1534.501953125, 1233.9810791015625, 4900.85791015625, 1072.279296875, 966.7355346679688, 891.82666015625, 874.0787963867188, 747.2382202148438, 737.3848266601562, 729.1490478515625, 683.5067138671875, 614.2111206054688, 591.9719848632812, 620.7908325195312, 582.62646484375, 574.8602294921875, 560.9349365234375, 553.149658203125, 548.3857421875, 544.6795043945312, 696.8605346679688, 1109.7725830078125, 1451.2911376953125, 1491.7816162109375, 15688.603515625, 1180.5380859375, 1472.0948486328125, 2492.704345703125, 3450.529541015625, 3387.716796875, 5813.029296875, 3890.052734375, 2240.561279296875, 2199.91943359375, 2247.610107421875, 3821.799072265625, 3138.150634765625, 3747.336181640625, 3648.164306640625, 4716.7744140625, 7660.65966796875, 4967.21630859375, 5220.40576171875, 12082.619140625, 5484.84814453125, 5492.46923828125, 5013.673828125, 4663.3818359375, 3065.499267578125, 4265.27783203125, 3642.28759765625, 4179.63525390625, 3361.437255859375, 3031.62109375, 5318.48681640625, 4340.5126953125, 3205.826416015625, 2714.3349609375, 2169.344970703125, 2096.359619140625, 1529.1329345703125, 1476.9332275390625, 1299.8980712890625, 1230.7208251953125, 1180.7994384765625, 1052.799072265625, 1024.4052734375, 997.7713012695312, 829.5023193359375, 721.7021484375, 701.9207763671875, 763.6104125976562, 652.563720703125, 630.0827026367188, 618.0807495117188, 609.3692626953125, 597.6956787109375, 693.5614624023438, 553.7297973632812, 536.6423950195312, 537.24609375, 533.2208251953125, 553.2947387695312, 509.87152099609375, 2656.665771484375, 960.4132690429688, 1029.4395751953125, 1394.2208251953125, 723.5114135742188, 8733.3271484375, 1184.206787109375, 1349.3292236328125, 1294.8297119140625, 936.4169311523438, 1677.4376220703125, 2498.1396484375, 1141.1434326171875, 3621.697998046875, 1437.511962890625, 2196.340576171875, 4236.60791015625, 9995.7275390625, 2528.878173828125, 3805.27490234375, 1595.2230224609375, 2135.96630859375, 3260.497802734375, 2717.38623046875, 5410.3447265625, 6656.017578125, 3671.080810546875, 2860.052734375, 4611.38232421875, 2345.8837890625, 2464.702880859375, 2980.0185546875, 2449.400634765625, 3630.034423828125, 3331.7939453125, 7270.802734375, 3050.164794921875, 3237.37646484375, 3176.294189453125, 3984.751220703125, 3510.710693359375, 3190.79736328125, 2779.376708984375, 2544.684814453125, 22236.595703125, 12495.0478515625, 10182.4423828125, 8855.5771484375, 3379.625, 3047.129638671875, 2870.21630859375, 2857.733642578125, 2408.770263671875, 1857.253662109375, 1519.4002685546875, 1295.259033203125, 1266.9937744140625, 1251.070556640625, 1248.469482421875, 1235.50732421875, 1229.740234375, 1224.704833984375, 1215.046142578125, 961.1441040039062, 934.6722412109375, 899.1800537109375, 798.1426391601562, 776.2572021484375, 773.6917724609375, 744.55517578125, 731.0270385742188, 721.8970336914062, 718.1769409179688, 681.7769775390625, 10223.4833984375, 1093.1168212890625, 16890.232421875, 2071.372314453125, 913.8195190429688, 2228.730224609375, 883.3594360351562, 1351.95703125, 3418.812744140625, 2219.607421875, 2541.470947265625, 2122.629638671875, 3947.860107421875, 2349.678955078125, 2308.644287109375, 3878.354736328125, 5050.38623046875, 3412.621337890625, 5573.67822265625, 1847.5804443359375, 7822.87841796875, 2141.16845703125, 3144.41748046875, 3462.95361328125, 3058.861083984375, 2596.398193359375, 2579.75927734375, 2458.02880859375, 2343.768798828125, 2307.2265625, 10155.765625, 10092.4091796875, 5922.58984375, 5321.31396484375, 3429.06591796875, 3217.559814453125, 3069.981201171875, 2475.114501953125, 2131.614501953125, 1833.862548828125, 1748.5626220703125, 1701.118408203125, 1701.10498046875, 1516.359130859375, 1502.977294921875, 1366.50927734375, 1343.3248291015625, 1266.2059326171875, 1217.275146484375, 1203.779541015625, 1198.2803955078125, 1136.2010498046875, 1068.9844970703125, 934.2738037109375, 881.9185791015625, 838.176025390625, 830.5679321289062, 809.2802734375, 800.0205078125, 781.5875244140625, 3309.05419921875, 825.3240966796875, 2277.066162109375, 2936.80224609375, 1728.9847412109375, 10957.76171875, 1795.7847900390625, 3628.578369140625, 3662.42041015625, 2940.886962890625, 2228.38232421875, 1664.054931640625, 8548.638671875, 4382.96337890625, 4363.8037109375, 3024.615234375, 2875.056884765625, 6595.0146484375, 2310.3447265625, 9714.2724609375, 3602.765625, 2375.3017578125, 2588.572998046875, 3438.535888671875, 2785.6904296875, 3062.364501953125, 2958.284912109375, 2890.921142578125, 2589.388671875, 2701.502685546875, 6395.99853515625, 2633.408447265625, 7403.619140625, 2309.23095703125, 1721.5736083984375, 1553.1435546875, 1514.985595703125, 1323.4649658203125, 1176.1622314453125, 1158.8504638671875, 1163.37109375, 935.9439697265625, 924.8902587890625, 895.9030151367188, 841.873291015625, 816.8932495117188, 3624.333740234375, 796.9306030273438, 796.1359252929688, 760.6744384765625, 723.9697875976562, 668.9692993164062, 655.2658081054688, 645.914794921875, 645.3666381835938, 644.604736328125, 628.5706787109375, 612.9271240234375, 592.3651123046875, 581.7426147460938, 1776.5665283203125, 1343.2889404296875, 742.6492919921875, 989.669677734375, 5828.51513671875, 4653.1298828125, 871.3641967773438, 918.469970703125, 1415.4718017578125, 1484.6551513671875, 5539.9580078125, 2280.780517578125, 1375.5494384765625, 2866.931884765625, 3585.5869140625, 3071.205322265625, 2500.6494140625, 2688.7783203125, 1446.92236328125, 2527.77392578125, 3111.7509765625, 4191.0390625, 5588.6416015625, 1788.243408203125, 2221.7001953125, 2832.291015625, 2560.012451171875, 1866.795166015625, 2651.680419921875, 2118.64111328125, 1867.2718505859375, 2205.240966796875, 1822.1842041015625, 1884.0189208984375, 13908.5205078125, 7530.92138671875, 5778.05615234375, 4979.7919921875, 4056.685302734375, 3824.065185546875, 2434.0654296875, 2111.778564453125, 1677.776123046875, 1648.5836181640625, 1647.440185546875, 1589.4432373046875, 1382.7017822265625, 1260.84912109375, 1186.0382080078125, 1119.036865234375, 1013.0414428710938, 1075.287353515625, 932.9948120117188, 921.4032592773438, 859.7533569335938, 1320.658447265625, 744.0620727539062, 729.05224609375, 697.4517211914062, 659.6520385742188, 633.6433715820312, 625.3788452148438, 595.3908081054688, 585.1287231445312, 1702.552001953125, 7013.9970703125, 938.1190185546875, 863.0552368164062, 985.8165283203125, 804.2774047851562, 859.3809814453125, 5298.50927734375, 9911.568359375, 5246.69873046875, 12395.8505859375, 6490.12060546875, 2729.123046875, 1843.615478515625, 11138.5166015625, 2831.8505859375, 1938.4527587890625, 1674.544677734375, 2711.716552734375, 4302.85986328125, 3983.37744140625, 2142.49755859375, 12457.9072265625, 5256.55419921875, 3638.699462890625, 3166.276611328125, 2950.606689453125, 4267.68701171875, 2494.201416015625, 2330.34765625, 2118.294921875, 2290.98046875, 2233.31787109375, 2157.442138671875, 5094.67822265625, 2640.68994140625, 2195.822265625, 1955.179931640625, 1528.2734375, 1477.49755859375, 1418.054931640625, 1336.2642822265625, 1206.4873046875, 1084.3038330078125, 1017.3411865234375, 1017.0066528320312, 1015.46044921875, 1008.6553955078125, 1014.5667114257812, 998.0989990234375, 990.8233642578125, 971.4157104492188, 950.4557495117188, 924.593994140625, 885.5115356445312, 870.2122192382812, 865.4901123046875, 855.072509765625, 838.064697265625, 801.02978515625, 761.3040161132812, 714.9468383789062, 689.4265747070312, 670.222900390625, 1526.577880859375, 3468.644287109375, 1250.8233642578125, 1171.5567626953125, 1646.1826171875, 1317.900146484375, 2132.302001953125, 2305.605712890625, 2162.068115234375, 1918.0152587890625, 2375.28857421875, 2295.537841796875, 1913.7734375, 1492.05224609375, 1995.3505859375, 1484.7457275390625, 2687.27734375, 1994.6175537109375, 1267.33154296875, 1702.3138427734375, 4432.53271484375, 1741.78173828125, 4633.74951171875, 1879.6593017578125, 2197.5263671875, 2073.651611328125, 2224.224365234375, 2237.312744140625, 2222.2275390625, 1656.10498046875, 1626.83349609375, 2912.45068359375, 2656.568603515625, 2493.5498046875, 2387.334716796875, 1870.7060546875, 1833.1116943359375, 1820.193115234375, 1732.4605712890625, 1601.9173583984375, 1498.66455078125, 2173.935791015625, 1279.076904296875, 1278.7550048828125, 1236.52099609375, 1144.6419677734375, 1117.3702392578125, 1098.2896728515625, 1074.6590576171875, 1019.8214721679688, 1005.1403198242188, 1002.06884765625, 1052.3895263671875, 951.8179321289062, 902.1216430664062, 860.6927490234375, 755.6466674804688, 747.5406494140625, 735.421875, 731.4679565429688, 714.0337524414062, 5706.25830078125, 1203.899169921875, 4827.41064453125, 6595.13037109375, 5813.35986328125, 5116.96728515625, 2867.9541015625, 3274.633544921875, 2245.127685546875, 4350.0478515625, 3461.470458984375, 3932.61376953125, 2693.278564453125, 1589.0867919921875, 4540.4296875, 1433.80322265625, 2688.974365234375, 3450.935302734375, 1743.5828857421875, 1995.0313720703125, 2682.060302734375, 3209.178466796875, 2189.56787109375, 2232.10693359375, 2363.08642578125, 1970.3309326171875, 2191.4384765625, 1958.9073486328125, 4944.54052734375, 3714.26171875, 3520.318115234375, 3192.232666015625, 2698.712890625, 2361.296142578125, 2017.3408203125, 1953.857666015625, 1896.5789794921875, 1649.0125732421875, 1579.7603759765625, 1502.6214599609375, 1493.7138671875, 1375.450439453125, 1307.7205810546875, 1294.289306640625, 1234.2440185546875, 1721.026123046875, 1148.10400390625, 1027.071533203125, 1005.5383911132812, 919.6780395507812, 914.2698364257812, 894.1504516601562, 852.4610595703125, 767.96923828125, 752.9500122070312, 746.015869140625, 742.1405029296875, 733.0206298828125, 1661.3275146484375, 1898.221435546875, 1356.3212890625, 1968.7882080078125, 3507.384765625, 1704.743896484375, 2426.707275390625, 1045.6910400390625, 2981.46142578125, 1263.500732421875, 1552.292236328125, 2546.686767578125, 12330.2958984375, 2432.108154296875, 2667.5478515625, 3468.985107421875, 2117.20556640625, 2251.9248046875, 3017.749267578125, 2269.052490234375, 1885.294189453125, 2164.096435546875, 2524.509765625, 1971.6312255859375, 2167.435302734375, 1964.533447265625, 1942.344482421875, 6342.50537109375, 3594.652587890625, 3048.072021484375, 2532.836669921875, 2240.974853515625, 1988.325927734375, 1839.0316162109375, 1742.8673095703125, 1722.2437744140625, 1702.2635498046875, 1516.660400390625, 1400.2965087890625, 1373.759033203125, 1359.449951171875, 1331.0272216796875, 1231.6236572265625, 1140.3135986328125, 1091.9793701171875, 1059.8477783203125, 971.4287109375, 919.5367431640625, 898.9859619140625, 834.0969848632812, 782.5907592773438, 772.1998901367188, 745.4542236328125, 1349.8511962890625, 717.0640258789062, 729.4636840820312, 711.8837890625, 2782.5322265625, 5773.39208984375, 9369.51953125, 3333.64013671875, 7033.99853515625, 1088.75244140625, 4712.40283203125, 5112.95849609375, 3994.714599609375, 1973.4344482421875, 3289.5166015625, 2511.138916015625, 2229.004638671875, 1801.14111328125, 2677.323486328125, 3398.51708984375, 7153.60888671875, 2100.482421875, 1978.74755859375, 2917.069580078125, 2545.69677734375, 2193.881591796875, 2268.870361328125, 2798.45068359375, 3148.883056640625, 2064.510009765625, 2242.408935546875, 2113.31787109375, 2105.29638671875, 5855.34375, 3011.892578125, 2703.63427734375, 2601.39306640625, 2321.504638671875, 1977.6226806640625, 1663.224609375, 1642.741943359375, 1520.8333740234375, 1288.0244140625, 1267.9307861328125, 1198.4603271484375, 1118.7945556640625, 1094.7041015625, 1065.5333251953125, 772.6443481445312, 692.96533203125, 651.8235473632812, 641.9799194335938, 612.0831298828125, 603.5673217773438, 595.2805786132812, 593.308349609375, 591.547119140625, 587.8169555664062, 577.2080688476562, 563.6820678710938, 553.3837280273438, 549.0796508789062, 545.7144165039062, 548.8605346679688, 598.4523315429688, 860.4436645507812, 869.0343017578125, 4234.8095703125, 1239.612060546875, 1097.24267578125, 3274.153076171875, 895.4693603515625, 2353.8828125, 2922.883544921875, 1104.4818115234375, 1256.6705322265625, 5759.2705078125, 6008.32958984375, 4231.9111328125, 1681.3111572265625, 3167.254638671875, 2914.447998046875, 1625.61376953125, 2598.960205078125, 2404.9921875, 4742.1328125, 1651.8248291015625, 2605.504638671875, 1466.899658203125, 2633.2197265625, 2924.530517578125, 2278.107177734375, 1793.7371826171875, 1711.720458984375, 2468.22900390625, 1948.254150390625, 1832.02978515625, 1714.94921875, 1679.9727783203125, 5883.80517578125, 5544.5673828125, 4801.39111328125, 4092.85888671875, 4056.1669921875, 3701.8896484375, 2409.70068359375, 2245.774169921875, 1825.6727294921875, 1819.1929931640625, 1645.3568115234375, 1589.440673828125, 1496.3448486328125, 1348.2991943359375, 1298.13623046875, 1202.008056640625, 1171.3233642578125, 1146.89111328125, 1092.071044921875, 1036.4942626953125, 996.6705932617188, 940.5106201171875, 905.05029296875, 864.0859375, 862.9801025390625, 789.769775390625, 767.20263671875, 713.9244384765625, 688.8218994140625, 627.7021484375, 3550.48046875, 6956.38232421875, 2408.302001953125, 2805.980712890625, 3832.94482421875, 3196.7978515625, 2349.679443359375, 6046.908203125, 4544.44775390625, 3014.22802734375, 2217.373046875, 2215.78466796875, 3674.2568359375, 5323.35986328125, 3780.93408203125, 4825.69677734375, 3699.722900390625, 2925.867919921875, 4356.09033203125, 3186.067138671875, 3167.96142578125, 4092.8544921875, 5302.9990234375, 2501.0986328125, 2992.775634765625, 10800.1962890625, 4023.388916015625, 2624.060546875, 2139.24169921875, 1823.7686767578125, 1705.6055908203125, 1685.6934814453125, 1457.822998046875, 1168.71142578125, 981.4453125, 954.48095703125, 812.7444458007812, 812.1102905273438, 791.4474487304688, 776.8202514648438, 620.3499755859375, 616.39892578125, 589.6670532226562, 574.4612426757812, 573.998779296875, 563.7548217773438, 560.8421630859375, 551.8322143554688, 536.9674072265625, 527.713134765625, 511.94024658203125, 507.9078369140625, 507.5243225097656, 501.888427734375, 478.5248107910156, 594.3367309570312, 4736.736328125, 1919.1602783203125, 697.7025146484375, 3521.99560546875, 5902.30615234375, 4152.3603515625, 851.3760986328125, 1866.8687744140625, 3524.28955078125, 822.7568969726562, 3225.888916015625, 3583.422607421875, 2737.905517578125, 4557.31103515625, 3309.977294921875, 4637.12353515625, 3771.8544921875, 1381.1002197265625, 2571.399169921875, 2120.497314453125, 1532.947021484375, 2352.460205078125, 2092.67138671875, 1680.1976318359375, 2546.215576171875, 1775.7943115234375, 1573.6640625, 1559.46044921875], \"Term\": [\"apple\", \"watch\", \"kim\", \"al\", \"video\", \"isi\", \"north\", \"police\", \"foley\", \"shot\", \"brown\", \"said\", \"islamic\", \"state\", \"border\", \"ebola\", \"u\", \"jong\", \"syria\", \"american\", \"man\", \"iraq\", \"girl\", \"group\", \"officer\", \"haram\", \"boko\", \"korea\", \"job\", \"un\", \"hunter\", \"godane\", \"jordanian\", \"mueller\", \"drone\", \"abdullah\", \"homeland\", \"dhs\", \"coalition\", \"raqqa\", \"somali\", \"republican\", \"missile\", \"susteren\", \"observatory\", \"congressman\", \"beirut\", \"chlorine\", \"arizona\", \"kirby\", \"abdi\", \"sunni\", \"kayla\", \"trained\", \"mogadishu\", \"greta\", \"rank\", \"ansar\", \"plotting\", \"explosive\", \"pilot\", \"jordan\", \"insurgent\", \"border\", \"airstrike\", \"pentagon\", \"apprehended\", \"weapon\", \"terrorist\", \"patrol\", \"plane\", \"southern\", \"fighter\", \"civilian\", \"isi\", \"strike\", \"military\", \"u\", \"region\", \"intelligence\", \"force\", \"group\", \"al\", \"islamic\", \"syrian\", \"state\", \"said\", \"militant\", \"killed\", \"attack\", \"air\", \"syria\", \"american\", \"official\", \"city\", \"security\", \"used\", \"could\", \"iraq\", \"wood\", \"rogen\", \"sony\", \"bank\", \"island\", \"culkin\", \"retail\", \"wozniak\", \"percent\", \"needed\", \"macaulay\", \"completely\", \"tiger\", \"hank\", \"seeking\", \"seth\", \"hole\", \"abandoned\", \"pregnancy\", \"dark\", \"factory\", \"guilty\", \"knocked\", \"2005\", \"chamber\", \"trading\", \"warner\", \"jessica\", \"vladi\", \"noting\", \"mid\", \"various\", \"alone\", \"stated\", \"join\", \"book\", \"eye\", \"band\", \"injury\", \"career\", \"work\", \"2010\", \"year\", \"batman\", \"wanted\", \"great\", \"home\", \"still\", \"found\", \"time\", \"research\", \"become\", \"first\", \"scene\", \"common\", \"also\", \"even\", \"day\", \"age\", \"said\", \"last\", \"although\", \"well\", \"made\", \"since\", \"new\", \"thursday\", \"month\", \"back\", \"put\", \"report\", \"one\", \"nelson\", \"spice\", \"pumpkin\", \"hurt\", \"condom\", \"panel\", \"durex\", \"f\", \"follower\", \"pressure\", \"credit\", \"entering\", \"actively\", \"ben\", \"sharing\", \"abrams\", \"text\", \"rahim\", \"esquire\", \"theory\", \"conspiracy\", \"purpose\", \"dera\", \"pour\", \"singh\", \"flavored\", \"ram\", \"reveals\", \"zero\", \"plot\", \"speculation\", \"400\", \"au\", \"arrival\", \"pic\", \"domestic\", \"r\", \"numerous\", \"et\", \"oct\", \"king\", \"false\", \"twitter\", \"internet\", \"officially\", \"com\", \"texas\", \"secret\", \"rumor\", \"espn\", \"headline\", \"update\", \"future\", \"content\", \"news\", \"6\", \"january\", \"social\", \"article\", \"claim\", \"post\", \"report\", \"medium\", \"fact\", \"story\", \"today\", \"2014\", \"people\", \"image\", \"death\", \"true\", \"2015\", \"night\", \"information\", \"one\", \"user\", \"called\", \"photo\", \"tape\", \"nasa\", \"pm\", \"gift\", \"suggestion\", \"streaming\", \"explanation\", \"noise\", \"encounter\", \"messaging\", \"affair\", \"bright\", \"mortgage\", \"bogus\", \"thus\", \"calm\", \"rehab\", \"texting\", \"scenario\", \"advancing\", \"imagine\", \"effectively\", \"capacity\", \"huffington\", \"nowhere\", \"confirming\", \"confirms\", \"w\", \"brush\", \"aiming\", \"cnn\", \"updated\", \"darkness\", \"negative\", \"drawn\", \"tom\", \"purported\", \"certificate\", \"convinced\", \"impact\", \"event\", \"type\", \"paid\", \"complete\", \"light\", \"mention\", \"car\", \"evening\", \"paul\", \"joe\", \"hour\", \"working\", \"planning\", \"previously\", \"sound\", \"space\", \"looking\", \"november\", \"teen\", \"video\", \"say\", \"time\", \"12\", \"evidence\", \"account\", \"day\", \"made\", \"back\", \"also\", \"may\", \"claim\", \"news\", \"six\", \"could\", \"message\", \"appears\", \"u\", \"show\", \"like\", \"would\", \"last\", \"one\", \"first\", \"saying\", \"know\", \"foley\", \"somers\", \"sotloff\", \"steven\", \"wright\", \"executioner\", \"photojournalist\", \"freelance\", \"yemeni\", \"globalpost\", \"kneeling\", \"captor\", \"aqap\", \"aggression\", \"diane\", \"deepest\", \"sana\", \"zone\", \"gruesome\", \"appalled\", \"jumpsuit\", \"mourn\", \"beside\", \"bloodshed\", \"ansi\", \"announcing\", \"irbil\", \"hampshire\", \"hammond\", \"criminality\", \"haines\", \"yemen\", \"execution\", \"cameron\", \"luke\", \"journalist\", \"barack\", \"james\", \"beheading\", \"murder\", \"obama\", \"france\", \"captive\", \"cage\", \"innocent\", \"kill\", \"american\", \"killer\", \"accent\", \"masked\", \"video\", \"family\", \"syria\", \"2012\", \"david\", \"islamic\", \"u\", \"british\", \"iraq\", \"state\", \"president\", \"released\", \"militant\", \"statement\", \"hostage\", \"isi\", \"said\", \"group\", \"man\", \"life\", \"iphone\", \"apps\", \"steel\", \"cable\", \"pricing\", \"battery\", \"macbook\", \"smartwatch\", \"range\", \"stainless\", \"samsung\", \"variant\", \"wearable\", \"consumer\", \"chip\", \"developer\", \"munster\", \"karat\", \"priced\", \"seam\", \"aluminum\", \"9to5mac\", \"sapphire\", \"strap\", \"350\", \"mm\", \"arcuri\", \"349\", \"999\", \"igen\", \"gold\", \"apple\", \"edition\", \"watch\", \"option\", \"device\", \"price\", \"sport\", \"model\", \"cost\", \"launch\", \"per\", \"expensive\", \"feature\", \"000\", \"version\", \"app\", \"company\", \"2015\", \"user\", \"product\", \"5\", \"new\", \"would\", \"store\", \"4\", \"end\", \"case\", \"also\", \"could\", \"report\", \"according\", \"much\", \"emwazi\", \"mexico\", \"bary\", \"abdel\", \"terrorism\", \"teacher\", \"mi5\", \"qureshi\", \"bin\", \"kuwait\", \"sarajevo\", \"bosnia\", \"majed\", \"westminster\", \"graf\", \"iguala\", \"tanzania\", \"flown\", \"guerrero\", \"underage\", \"babici\", \"educational\", \"grave\", \"goto\", \"egyptian\", \"reproductive\", \"metropolitan\", \"nenad\", \"bus\", \"kenji\", \"jihadi\", \"vandalism\", \"german\", \"l\", \"alan\", \"london\", \"mass\", \"accused\", \"mexican\", \"john\", \"identity\", \"britain\", \"mr\", \"prison\", \"british\", \"hostage\", \"mohammed\", \"police\", \"sex\", \"believed\", \"crime\", \"known\", \"school\", \"said\", \"west\", \"name\", \"five\", \"security\", \"found\", \"child\", \"girl\", \"later\", \"official\", \"washington\", \"year\", \"one\", \"group\", \"baghdadi\", \"rosenberg\", \"lebanese\", \"bakr\", \"israeli\", \"dulaimi\", \"israel\", \"lebanon\", \"rescue\", \"dna\", \"nusra\", \"detainee\", \"abu\", \"proclaimed\", \"saja\", \"recovered\", \"gaza\", \"ypg\", \"unverified\", \"crossed\", \"caliph\", \"warren\", \"hamid\", \"guantanamo\", \"mtv\", \"zeid\", \"graham\", \"useful\", \"affiliate\", \"abou\", \"qatar\", \"supporter\", \"gill\", \"recruit\", \"al\", \"active\", \"command\", \"capture\", \"wife\", \"student\", \"leader\", \"captured\", \"prisoner\", \"fight\", \"ministry\", \"son\", \"kurdish\", \"iraqi\", \"child\", \"woman\", \"state\", \"iraq\", \"syria\", \"said\", \"islamic\", \"isi\", \"group\", \"official\", \"syrian\", \"report\", \"reported\", \"year\", \"told\", \"source\", \"spider\", \"hair\", \"skin\", \"mcdonald\", \"burger\", \"girlfriend\", \"dylan\", \"bali\", \"lego\", \"fever\", \"trail\", \"tropical\", \"fast\", \"burrowed\", \"insect\", \"nice\", \"ok\", \"handle\", \"cc\", \"mouth\", \"abdomen\", \"rob\", \"bite\", \"behaviour\", \"violated\", \"jacket\", \"soil\", \"spends\", \"portion\", \"mite\", \"j\", \"noticed\", \"cool\", \"stomach\", \"dating\", \"thomas\", \"suit\", \"australian\", \"science\", \"dr\", \"contacted\", \"feel\", \"unusual\", \"university\", \"whatever\", \"kind\", \"something\", \"man\", \"started\", \"never\", \"chinese\", \"sure\", \"thing\", \"lot\", \"like\", \"told\", \"way\", \"thought\", \"day\", \"really\", \"food\", \"think\", \"doctor\", \"old\", \"get\", \"said\", \"going\", \"friend\", \"back\", \"year\", \"would\", \"one\", \"say\", \"people\", \"kim\", \"jong\", \"korea\", \"korean\", \"pyongyang\", \"il\", \"yo\", \"ankle\", \"india\", \"supreme\", \"dictator\", \"ill\", \"overweight\", \"gout\", \"estate\", \"bureau\", \"seoul\", \"assembly\", \"madden\", \"fractured\", \"kumar\", \"hwang\", \"independence\", \"whisky\", \"nkis\", \"suresh\", \"sung\", \"nikolaev\", \"bishop\", \"recovering\", \"un\", \"elite\", \"north\", \"weight\", \"maintained\", \"absence\", \"raped\", \"pain\", \"party\", \"nun\", \"scotland\", \"restaurant\", \"south\", \"sister\", \"condition\", \"public\", \"leader\", \"health\", \"official\", \"leadership\", \"said\", \"medical\", \"source\", \"state\", \"people\", \"since\", \"government\", \"reported\", \"would\", \"report\", \"haram\", \"boko\", \"nigerian\", \"nigeria\", \"castro\", \"ceasefire\", \"shekau\", \"commercial\", \"chibok\", \"olsen\", \"chad\", \"jetliner\", \"fidel\", \"agreement\", \"cease\", \"plant\", \"airliner\", \"ahmadu\", \"abubakar\", \"truce\", \"benghazi\", \"2001\", \"hassan\", \"suspended\", \"havana\", \"dan\", \"presidential\", \"goodluck\", \"bringbackourgirls\", \"airbus\", \"libyan\", \"suspension\", \"tripoli\", \"schoolgirl\", \"cuba\", \"girl\", \"jonathan\", \"aircraft\", \"libya\", \"islamist\", \"tour\", \"agreed\", \"government\", \"11\", \"release\", \"kidnapped\", \"announced\", \"group\", \"200\", \"said\", \"attack\", \"deal\", \"friday\", \"leader\", \"president\", \"month\", \"official\", \"report\", \"since\", \"would\", \"lin\", \"paler\", \"comcast\", \"conal\", \"buy\", \"rourke\", \"liquor\", \"kadalim\", \"fatwa\", \"cook\", \"snowman\", \"michelle\", \"purchase\", \"taibbi\", \"ebay\", \"donation\", \"homeless\", \"55\", \"employer\", \"prankster\", \"fruit\", \"respect\", \"vocativ\", \"experiment\", \"secretly\", \"beggar\", \"controller\", \"anywhere\", \"auction\", \"mom\", \"josh\", \"prank\", \"bos\", \"leaked\", \"customer\", \"money\", \"fee\", \"pulling\", \"complaint\", \"partner\", \"million\", \"employee\", \"dollar\", \"saudi\", \"store\", \"youtube\", \"islam\", \"100\", \"park\", \"phone\", \"street\", \"company\", \"video\", \"sell\", \"6\", \"service\", \"get\", \"issue\", \"people\", \"000\", \"building\", \"would\", \"call\", \"say\", \"brown\", \"wilson\", \"pause\", \"ferguson\", \"attorney\", \"blumenthal\", \"gunshot\", \"tor\", \"louis\", \"darren\", \"autopsy\", \"chat\", \"lopa\", \"missouri\", \"lemon\", \"sniper\", \"volley\", \"theft\", \"demonstrator\", \"client\", \"browser\", \"mayor\", \"dorian\", \"deepdotweb\", \"exit\", \"tribunal\", \"transpired\", \"relevance\", \"exchanged\", \"florissant\", \"glide\", \"audio\", \"commissioner\", \"brooklyn\", \"blasio\", \"constantine\", \"bratton\", \"recording\", \"officer\", \"fired\", \"shot\", \"shooting\", \"marijuana\", \"unarmed\", \"police\", \"johnson\", \"st\", \"gunfire\", \"fbi\", \"michael\", \"heard\", \"court\", \"said\", \"man\", \"friend\", \"case\", \"monday\", \"time\", \"six\", \"9\", \"arrest\", \"least\", \"told\", \"tuesday\", \"smith\", \"fish\", \"catfish\", \"afghanistan\", \"dinner\", \"marine\", \"palace\", \"twin\", \"mushroom\", \"ferrari\", \"vega\", \"helicopter\", \"land\", \"po\", \"remark\", \"bay\", \"wels\", \"meter\", \"specie\", \"shore\", \"lucky\", \"45\", \"river\", \"diagnosed\", \"joy\", \"helmet\", \"mgm\", \"shane\", \"130\", \"yeti\", \"mall\", \"patient\", \"billion\", \"grenade\", \"taliban\", \"garden\", \"christmas\", \"bill\", \"300\", \"19\", \"14\", \"weekend\", \"church\", \"riquelme\", \"la\", \"creature\", \"close\", \"footage\", \"meal\", \"water\", \"one\", \"result\", \"said\", \"big\", \"000\", \"show\", \"new\", \"year\", \"video\", \"caught\", \"medium\", \"owner\", \"catholic\", \"priest\", \"neal\", \"male\", \"v\", \"pet\", \"ilic\", \"superman\", \"holy\", \"heaven\", \"\\u00e0\", \"une\", \"scar\", \"sad\", \"medic\", \"author\", \"wonderful\", \"vatican\", \"gender\", \"est\", \"roman\", \"oliver\", \"goldfish\", \"cesar\", \"razor\", \"cruel\", \"perfectly\", \"macedonian\", \"micheal\", \"animal\", \"cleric\", \"boy\", \"de\", \"god\", \"dog\", \"pope\", \"penis\", \"francis\", \"le\", \"mother\", \"father\", \"heart\", \"rushed\", \"hospital\", \"belonging\", \"died\", \"old\", \"female\", \"doctor\", \"woman\", \"would\", \"son\", \"life\", \"story\", \"operation\", \"year\", \"man\", \"meteorite\", \"asteroid\", \"kai\", \"crater\", \"managua\", \"nicaraguan\", \"nikolai\", \"sky\", \"nicaragua\", \"sgt\", \"spca\", \"magnet\", \"attract\", \"oberholtzer\", \"suitcase\", \"rc\", \"fireball\", \"object\", \"classmate\", \"developing\", \"kryaglyachenko\", \"chicken\", \"kfc\", \"tan\", \"superpower\", \"planet\", \"spoon\", \"cooke\", \"extensive\", \"magneto\", \"wide\", \"millan\", \"wave\", \"truck\", \"earth\", \"scientist\", \"glass\", \"welfare\", \"station\", \"blast\", \"scottish\", \"airport\", \"said\", \"foot\", \"near\", \"people\", \"capital\", \"local\", \"would\", \"left\", \"sunday\", \"found\", \"one\", \"want\", \"could\", \"reported\", \"told\", \"bale\", \"sorkin\", \"rat\", \"vogue\", \"anna\", \"wintour\", \"aaron\", \"biopic\", \"boyle\", \"delight\", \"danny\", \"biography\", \"walter\", \"capsule\", \"isaacson\", \"directed\", \"hip\", \"hop\", \"sugarhill\", \"oscar\", \"infestation\", \"tower\", \"dicaprio\", \"ashton\", \"rodent\", \"kutcher\", \"board\", \"gee\", \"folk\", \"leonardo\", \"amazon\", \"steve\", \"job\", \"google\", \"office\", \"winning\", \"actor\", \"film\", \"movie\", \"founder\", \"play\", \"rapper\", \"project\", \"variety\", \"christian\", \"role\", \"new\", \"song\", \"magazine\", \"york\", \"co\", \"box\", \"big\", \"one\", \"said\", \"talk\", \"according\", \"part\", \"source\", \"hbo\", \"chandler\", \"detroit\", \"phelps\", \"batmobile\", \"snow\", \"cctv\", \"williams\", \"seidel\", \"jess\", \"disney\", \"teletubbies\", \"snyder\", \"putin\", \"macklemorejoinedisis\", \"macklemore\", \"netflix\", \"holt\", \"carlisle\", \"bird\", \"anchor\", \"cctvnews\", \"swimmer\", \"sneeze\", \"lianne\", \"ikwiz\", \"satire\", \"sneezed\", \"sneezing\", \"cn\", \"foxnewspress\", \"genitalia\", \"brian\", \"pa\", \"hoax\", \"satirical\", \"subscription\", \"fake\", \"edward\", \"english\", \"star\", \"episode\", \"supported\", \"name\", \"story\", \"site\", \"tweet\", \"article\", \"website\", \"nbc\", \"facebook\", \"tv\", \"news\", \"game\", \"woman\", \"viral\", \"police\", \"one\", \"service\", \"student\", \"picture\", \"said\", \"first\", \"like\", \"war\", \"film\", \"canadian\", \"vickers\", \"ottawa\", \"memorial\", \"bibeau\", \"zehaf\", \"gonzalez\", \"sergeant\", \"harper\", \"campus\", \"fence\", \"robot\", \"cirillo\", \"rcmp\", \"stephen\", \"caucus\", \"rifle\", \"alarm\", \"nathan\", \"entrance\", \"intruder\", \"sensor\", \"quebec\", \"shooter\", \"blue\", \"montreal\", \"lockdown\", \"library\", \"ceremonial\", \"pierson\", \"guard\", \"parliament\", \"mp\", \"kevin\", \"gunman\", \"hill\", \"canada\", \"house\", \"soldier\", \"arm\", \"room\", \"door\", \"building\", \"shot\", \"war\", \"security\", \"shooting\", \"incident\", \"service\", \"inside\", \"wednesday\", \"police\", \"said\", \"national\", \"man\", \"ebola\", \"virus\", \"symptom\", \"mashable\", \"icloud\", \"scorpion\", \"setting\", \"kansa\", \"reset\", \"deleted\", \"infection\", \"contracted\", \"cdc\", \"feig\", \"outbreak\", \"epidemic\", \"quarantined\", \"tunisia\", \"vomiting\", \"incinerated\", \"infected\", \"christy\", \"louise\", \"medicine\", \"bug\", \"purdon\", \"hamele\", \"sabah\", \"diarrhea\", \"malaria\", \"frisco\", \"banksy\", \"artist\", \"biological\", \"disease\", \"mosul\", \"health\", \"deadly\", \"africa\", \"hospital\", \"dallas\", \"case\", \"city\", \"iraqi\", \"isi\", \"iraq\", \"report\", \"official\", \"document\", \"reported\", \"country\", \"organization\", \"militant\", \"medium\", \"area\", \"said\", \"source\", \"world\", \"told\"], \"Total\": [44046.0, 30443.0, 22237.0, 28784.0, 46117.0, 34001.0, 20626.0, 24472.0, 16882.0, 17941.0, 13909.0, 130181.0, 26540.0, 41793.0, 17448.0, 10801.0, 47036.0, 12495.0, 22614.0, 20635.0, 29728.0, 19261.0, 16631.0, 33140.0, 13615.0, 10156.0, 10093.0, 10183.0, 11492.0, 10498.0, 5754.11572265625, 3813.389404296875, 3798.10498046875, 3068.29931640625, 2764.342041015625, 2667.259521484375, 2439.020263671875, 2370.66845703125, 2199.0556640625, 1760.73291015625, 1741.4249267578125, 1556.55517578125, 1492.1505126953125, 1452.6456298828125, 1367.0701904296875, 1317.089599609375, 1200.468505859375, 1181.63232421875, 1161.8734130859375, 1156.2794189453125, 1095.3692626953125, 1048.3992919921875, 1042.5972900390625, 1027.8341064453125, 1002.5327758789062, 906.7257080078125, 1130.676025390625, 852.201171875, 844.7275390625, 827.7738647460938, 3471.619873046875, 3160.980224609375, 1359.9073486328125, 17448.154296875, 2054.517578125, 3379.9921875, 1723.8348388671875, 6895.61181640625, 11890.51953125, 3755.8037109375, 3660.164306640625, 3675.532958984375, 11753.6630859375, 2127.638916015625, 34001.765625, 6889.908203125, 11623.974609375, 47036.265625, 3495.1318359375, 9659.6484375, 13905.9697265625, 33140.09765625, 28784.509765625, 26540.740234375, 10220.5126953125, 41793.40234375, 130181.6015625, 21492.87109375, 16109.8037109375, 15911.1943359375, 9760.046875, 22614.64453125, 20635.5, 30180.95703125, 16386.23046875, 16541.921875, 9908.521484375, 26659.078125, 19261.029296875, 2814.65966796875, 2651.439697265625, 2534.385009765625, 2343.65283203125, 2151.951171875, 1997.1666259765625, 1951.1845703125, 1819.3232421875, 3073.60302734375, 1716.998046875, 1601.78515625, 1691.2713623046875, 1486.0557861328125, 1418.6884765625, 1624.7017822265625, 1225.381591796875, 1219.3714599609375, 1126.050537109375, 1084.2247314453125, 1037.7874755859375, 944.31494140625, 925.5191040039062, 910.576171875, 894.7041015625, 905.5745849609375, 844.88330078125, 838.19775390625, 828.408447265625, 804.095458984375, 783.9776611328125, 1815.85107421875, 1709.2611083984375, 1533.2420654296875, 1645.0272216796875, 1890.3311767578125, 1296.284423828125, 2725.954833984375, 2927.662109375, 2749.478759765625, 1607.2061767578125, 8499.296875, 2129.17822265625, 43887.2734375, 2020.4700927734375, 3876.212158203125, 2719.355224609375, 8710.6728515625, 12525.068359375, 12955.216796875, 35827.9765625, 3090.315673828125, 4324.4609375, 24645.443359375, 4346.21337890625, 3738.900146484375, 37042.64453125, 16184.595703125, 20992.345703125, 3847.462158203125, 130181.6015625, 22929.787109375, 4708.11328125, 11366.205078125, 15897.203125, 15650.3662109375, 28813.884765625, 6923.6455078125, 16636.505859375, 14271.955078125, 7279.23388671875, 41320.71875, 42070.61328125, 2152.48876953125, 2061.392822265625, 1891.6346435546875, 1653.473388671875, 1647.214111328125, 1590.6033935546875, 1479.2750244140625, 1314.2181396484375, 1296.2657470703125, 1204.0831298828125, 1173.1583251953125, 1162.480712890625, 1111.0994873046875, 1137.205322265625, 1078.9864501953125, 1075.7269287109375, 1057.9405517578125, 912.1741943359375, 904.93310546875, 974.5701904296875, 886.8292846679688, 821.7152099609375, 793.86767578125, 742.4780883789062, 723.226318359375, 717.2069702148438, 619.3505859375, 610.7614135742188, 607.9287109375, 571.076171875, 2572.58984375, 991.1093139648438, 1086.5465087890625, 795.3307495117188, 2705.195068359375, 2321.7939453125, 2940.13818359375, 1059.6727294921875, 1298.56201171875, 1690.5435791015625, 4069.95263671875, 3986.027099609375, 14052.0703125, 5586.6396484375, 1713.3829345703125, 8193.4072265625, 5455.4677734375, 4752.560546875, 6945.85595703125, 2060.657470703125, 1892.2218017578125, 3847.616455078125, 2055.892333984375, 2916.02734375, 30888.173828125, 7723.03369140625, 3812.360107421875, 8461.380859375, 8849.404296875, 18269.505859375, 13646.20703125, 41320.71875, 19338.236328125, 7420.01611328125, 20749.505859375, 9038.939453125, 10536.6953125, 33503.31640625, 7405.23974609375, 11934.560546875, 5535.669921875, 6817.5498046875, 7067.451171875, 8865.0185546875, 42070.61328125, 9344.5341796875, 9082.111328125, 12599.96875, 3333.823974609375, 2407.43017578125, 2290.463623046875, 2018.8702392578125, 1163.7677001953125, 1649.6627197265625, 890.726806640625, 856.4109497070312, 826.1943359375, 796.9249267578125, 1534.2958984375, 717.6180419921875, 668.8693237304688, 650.5869140625, 1266.284912109375, 616.2185668945312, 612.3853149414062, 594.47412109375, 576.5726928710938, 557.1650390625, 545.740478515625, 769.7645263671875, 478.7814636230469, 493.4528503417969, 420.6574401855469, 413.3597106933594, 383.2178039550781, 377.7680969238281, 377.1808776855469, 360.7273254394531, 7427.00634765625, 979.0436401367188, 617.7067260742188, 397.87652587890625, 984.25732421875, 923.373779296875, 941.8171997070312, 710.0853271484375, 966.3795166015625, 3592.927734375, 7450.49658203125, 2154.05908203125, 2529.826416015625, 1344.32080078125, 1787.2933349609375, 1619.3076171875, 6238.74169921875, 1246.76904296875, 3599.084716796875, 1498.767333984375, 7418.03271484375, 5760.7421875, 1685.9451904296875, 4165.6767578125, 3291.506103515625, 3199.029052734375, 4657.83837890625, 3630.3486328125, 2709.387451171875, 46117.75, 30223.7421875, 35827.9765625, 7466.83154296875, 3910.138427734375, 6086.57861328125, 20992.345703125, 15897.203125, 14271.955078125, 37042.64453125, 16188.5419921875, 18269.505859375, 30888.173828125, 8183.93115234375, 26659.078125, 6643.6220703125, 5808.90966796875, 47036.265625, 12082.7041015625, 21560.83203125, 36286.5546875, 22929.787109375, 42070.61328125, 24645.443359375, 9518.0205078125, 11553.9541015625, 16882.96875, 5373.529296875, 4203.96630859375, 3031.285400390625, 2272.17529296875, 1730.0430908203125, 1702.2301025390625, 1326.1192626953125, 1259.9091796875, 1185.2772216796875, 986.9979858398438, 903.4241943359375, 894.8304443359375, 866.969970703125, 811.6516723632812, 804.1761474609375, 798.7916259765625, 788.5780029296875, 736.8284912109375, 728.9223022460938, 726.5943603515625, 691.940673828125, 644.74462890625, 617.0632934570312, 555.9495849609375, 539.3560791015625, 534.9862060546875, 519.0673828125, 517.62841796875, 507.8146667480469, 4057.74755859375, 3219.402099609375, 2897.591552734375, 1649.1553955078125, 2100.130615234375, 11692.759765625, 2396.19482421875, 8006.35546875, 4572.36962890625, 4308.10302734375, 12800.076171875, 1639.576904296875, 2979.82568359375, 1618.3759765625, 1562.127685546875, 2863.011474609375, 20635.5, 3227.119140625, 1872.3370361328125, 3079.343505859375, 46117.75, 15660.4453125, 22614.64453125, 6171.8759765625, 5928.60400390625, 26540.740234375, 47036.265625, 11881.2265625, 19261.029296875, 41793.40234375, 10823.6181640625, 11767.1318359375, 21492.87109375, 13990.1318359375, 7773.1103515625, 34001.765625, 130181.6015625, 33140.09765625, 29728.09765625, 14424.9443359375, 8000.8701171875, 2959.2392578125, 2382.15283203125, 2274.8291015625, 1931.8902587890625, 1920.5052490234375, 1843.3568115234375, 1767.3446044921875, 1705.72705078125, 1550.992431640625, 1518.5977783203125, 1477.625, 1476.4339599609375, 1390.5811767578125, 1328.07568359375, 1270.4473876953125, 1250.5670166015625, 1195.99072265625, 1108.486328125, 1246.50927734375, 1097.0589599609375, 1066.9959716796875, 1056.7130126953125, 1051.5382080078125, 1031.3643798828125, 1054.7484130859375, 979.3782958984375, 956.166259765625, 937.198974609375, 902.44482421875, 7763.22998046875, 44046.1328125, 4462.748046875, 30443.13671875, 1754.201171875, 5059.95166015625, 4781.78515625, 2533.971435546875, 4848.11865234375, 3674.9580078125, 4891.3466796875, 2480.20068359375, 1822.643798828125, 3875.341552734375, 13021.3408203125, 4221.55859375, 4296.74267578125, 12341.2236328125, 6817.5498046875, 9344.5341796875, 4070.06103515625, 5371.9228515625, 28813.884765625, 36286.5546875, 6370.56298828125, 4433.02783203125, 7721.634765625, 12429.3173828125, 37042.64453125, 26659.078125, 41320.71875, 26879.220703125, 8500.599609375, 7340.837890625, 3195.799560546875, 2849.24462890625, 2585.47314453125, 2558.434326171875, 1996.2532958984375, 1903.305908203125, 1697.635009765625, 1605.49365234375, 1526.7734375, 1246.91162109375, 1174.892578125, 1094.7965087890625, 1041.5406494140625, 1007.2025146484375, 985.1105346679688, 828.9788818359375, 819.8934326171875, 813.4126586914062, 807.2567138671875, 756.0099487304688, 743.1992797851562, 739.16162109375, 709.6531372070312, 689.7308959960938, 652.3961791992188, 649.216552734375, 603.403564453125, 779.7229614257812, 582.51513671875, 5477.83935546875, 649.4745483398438, 836.650634765625, 2645.15087890625, 1355.3887939453125, 7535.80029296875, 2828.64208984375, 1736.18310546875, 1447.9954833984375, 11003.44140625, 3807.0419921875, 2314.93115234375, 15218.55078125, 1896.779296875, 11881.2265625, 7773.1103515625, 2942.295166015625, 24472.728515625, 2775.87744140625, 11263.794921875, 3083.6962890625, 12046.56640625, 6524.7724609375, 130181.6015625, 5598.04638671875, 15984.326171875, 5731.2255859375, 16541.921875, 12955.216796875, 10200.3525390625, 16631.212890625, 10593.150390625, 30180.95703125, 7511.2041015625, 43887.2734375, 42070.61328125, 33140.09765625, 9236.3388671875, 5054.5927734375, 4398.2861328125, 3240.912841796875, 2829.38427734375, 2825.294189453125, 2793.1953125, 2271.279541015625, 2015.9617919921875, 1731.9276123046875, 1535.4512939453125, 1234.930419921875, 4905.06103515625, 1073.2286376953125, 967.684814453125, 892.7759399414062, 875.0281372070312, 748.1875610351562, 738.3346557617188, 730.1378173828125, 684.4559936523438, 615.160400390625, 592.9212646484375, 621.795654296875, 583.5762939453125, 575.8095703125, 561.8843994140625, 554.0991821289062, 549.3350830078125, 545.6288452148438, 698.66162109375, 1127.854248046875, 1694.160888671875, 1765.6700439453125, 28784.509765625, 1379.864013671875, 1832.794189453125, 3616.927978515625, 5590.31494140625, 7124.75, 15923.92578125, 9005.076171875, 3917.19384765625, 3886.87646484375, 4029.454345703125, 9654.3447265625, 7210.49609375, 10679.4228515625, 10200.3525390625, 16505.013671875, 41793.40234375, 19261.029296875, 22614.64453125, 130181.6015625, 26540.740234375, 34001.765625, 33140.09765625, 30180.95703125, 10220.5126953125, 41320.71875, 22301.017578125, 43887.2734375, 34085.97265625, 20733.48046875, 5319.43603515625, 4341.4619140625, 3206.775390625, 2715.283935546875, 2170.2939453125, 2097.324951171875, 1530.08203125, 1477.88232421875, 1300.84765625, 1231.6702880859375, 1181.74853515625, 1053.7481689453125, 1025.3575439453125, 998.720458984375, 830.4514770507812, 722.6513061523438, 702.8699340820312, 764.7101440429688, 653.5128784179688, 631.0318603515625, 619.0299072265625, 610.3184204101562, 598.6448364257812, 694.7186889648438, 554.678955078125, 537.5916137695312, 538.1975708007812, 534.1701049804688, 554.3217163085938, 510.8207092285156, 2716.0830078125, 968.7001953125, 1040.1474609375, 1440.7962646484375, 732.8873901367188, 9900.349609375, 1224.88916015625, 1412.40234375, 1361.4832763671875, 967.6737670898438, 1884.451904296875, 3043.12646484375, 1276.357666015625, 5698.171875, 1754.977783203125, 3159.2880859375, 8285.388671875, 29728.09765625, 4316.123046875, 8200.2802734375, 2195.978515625, 3789.6552734375, 8197.4921875, 5966.7763671875, 21560.83203125, 34085.97265625, 11608.8046875, 7150.5654296875, 20992.345703125, 4954.14404296875, 5641.765625, 8801.48046875, 5700.7490234375, 16071.869140625, 13477.0634765625, 130181.6015625, 10920.1669921875, 13215.4931640625, 14271.955078125, 43887.2734375, 36286.5546875, 42070.61328125, 30223.7421875, 33503.31640625, 22237.54296875, 12495.99609375, 10183.390625, 8856.525390625, 3380.572265625, 3048.076904296875, 2871.16357421875, 2858.680908203125, 2409.717529296875, 1858.201171875, 1520.3477783203125, 1296.20654296875, 1267.9412841796875, 1252.01806640625, 1249.4169921875, 1236.454833984375, 1230.687744140625, 1225.65234375, 1215.99365234375, 962.0914916992188, 935.61962890625, 900.12744140625, 799.0902099609375, 777.20458984375, 774.63916015625, 745.5025634765625, 731.9744262695312, 722.8444213867188, 719.1243286132812, 682.724365234375, 10498.396484375, 1099.695068359375, 20626.810546875, 2239.44580078125, 932.7130737304688, 2592.497314453125, 900.9580078125, 1473.02490234375, 4628.05810546875, 2743.458984375, 3475.1435546875, 2802.842529296875, 7042.626953125, 3696.283447265625, 3665.8798828125, 9708.63671875, 15923.92578125, 9489.0205078125, 30180.95703125, 2900.90380859375, 130181.6015625, 4917.2138671875, 20733.48046875, 41793.40234375, 33503.31640625, 15650.3662109375, 23999.8125, 22301.017578125, 36286.5546875, 41320.71875, 10156.7041015625, 10093.34765625, 5923.5263671875, 5322.3369140625, 3430.00244140625, 3218.496337890625, 3070.917724609375, 2476.051025390625, 2132.551025390625, 1834.8165283203125, 1749.4993896484375, 1702.05517578125, 1702.041748046875, 1517.2958984375, 1503.9140625, 1367.446044921875, 1344.2615966796875, 1267.1427001953125, 1218.2119140625, 1204.71630859375, 1199.2171630859375, 1137.1378173828125, 1069.9212646484375, 935.2105102539062, 882.8552856445312, 839.113037109375, 831.504638671875, 810.2169799804688, 800.9572143554688, 782.5242919921875, 3355.9912109375, 827.30908203125, 2401.701904296875, 3226.9482421875, 1912.9774169921875, 16631.212890625, 2072.964111328125, 5023.53662109375, 5094.88037109375, 4388.9462890625, 3033.718017578125, 1963.230224609375, 23999.8125, 9263.78515625, 11477.51171875, 6262.392578125, 5855.203125, 33140.09765625, 3824.537109375, 130181.6015625, 15911.1943359375, 4724.2978515625, 6257.17822265625, 15923.92578125, 10823.6181640625, 16636.505859375, 30180.95703125, 41320.71875, 15650.3662109375, 36286.5546875, 6396.95556640625, 2634.365234375, 7406.4228515625, 2310.187744140625, 1722.5491943359375, 1554.1007080078125, 1515.9429931640625, 1324.421875, 1177.120849609375, 1159.807373046875, 1164.3438720703125, 936.9008178710938, 925.8471069335938, 896.8602294921875, 842.8301391601562, 817.85009765625, 3628.653076171875, 797.887451171875, 797.0927734375, 761.6317138671875, 724.9266357421875, 669.9261474609375, 656.22265625, 646.8719482421875, 646.323486328125, 645.5615844726562, 629.5275268554688, 613.8839721679688, 593.3219604492188, 582.699462890625, 1780.599365234375, 1347.01904296875, 743.9930419921875, 1009.16748046875, 6463.06591796875, 5273.66796875, 887.71337890625, 955.8076782226562, 1612.5849609375, 1723.33447265625, 9143.7197265625, 3029.95068359375, 1616.2916259765625, 4339.580078125, 6370.56298828125, 5705.88525390625, 4462.26416015625, 5036.39453125, 1937.7098388671875, 4861.7451171875, 7005.36328125, 12341.2236328125, 46117.75, 3237.117919921875, 7723.03369140625, 16175.162109375, 13477.0634765625, 5422.0810546875, 33503.31640625, 13021.3408203125, 9029.8935546875, 36286.5546875, 7490.896484375, 30223.7421875, 13909.7392578125, 7531.865234375, 5779.001953125, 4980.73583984375, 4057.62939453125, 3825.00927734375, 2435.010009765625, 2112.72265625, 1678.72021484375, 1649.5277099609375, 1648.38427734375, 1590.3873291015625, 1383.64599609375, 1261.7933349609375, 1186.99462890625, 1119.98095703125, 1013.9854125976562, 1076.2935791015625, 933.9387817382812, 922.3472290039062, 860.6973266601562, 1322.1956787109375, 745.0060424804688, 730.00634765625, 698.404052734375, 660.627685546875, 634.5873413085938, 626.3228149414062, 596.3349609375, 586.0726928710938, 1711.6329345703125, 7162.3212890625, 940.52978515625, 864.701171875, 989.1035766601562, 805.6614379882812, 861.6425170898438, 5870.74951171875, 13615.78125, 6693.47265625, 17941.837890625, 10190.7421875, 3550.100830078125, 2205.279296875, 24472.728515625, 4106.9658203125, 2592.034912109375, 2104.631103515625, 4372.5302734375, 9114.9326171875, 8743.689453125, 3448.745361328125, 130181.6015625, 29728.09765625, 13215.4931640625, 12429.3173828125, 10066.2119140625, 35827.9765625, 8183.93115234375, 6818.32080078125, 4303.7109375, 10590.734375, 34085.97265625, 10275.7939453125, 5095.626953125, 2641.638916015625, 2196.771240234375, 1956.1290283203125, 1529.2225341796875, 1478.4466552734375, 1419.004150390625, 1337.21337890625, 1207.4364013671875, 1085.2529296875, 1018.2902221679688, 1017.9556884765625, 1016.4094848632812, 1009.6044311523438, 1015.5231323242188, 999.0480346679688, 991.7723999023438, 972.36474609375, 951.40478515625, 925.5430297851562, 886.4605712890625, 871.1612548828125, 866.4391479492188, 856.0242309570312, 839.0137329101562, 801.9788208007812, 762.2530517578125, 715.8958740234375, 690.3756103515625, 671.1724853515625, 1533.2890625, 3607.543212890625, 1281.248046875, 1197.03857421875, 1741.06103515625, 1394.8275146484375, 2413.79443359375, 2820.362060546875, 2703.0576171875, 2513.124755859375, 3369.8994140625, 3567.27001953125, 2838.13525390625, 1916.07080078125, 3128.37890625, 1941.7757568359375, 5608.09130859375, 3760.13818359375, 1622.2840576171875, 3148.697509765625, 42070.61328125, 3812.673583984375, 130181.6015625, 5932.884765625, 13021.3408203125, 12082.7041015625, 28813.884765625, 43887.2734375, 46117.75, 6258.921875, 19338.236328125, 2913.39892578125, 2657.516845703125, 2494.498779296875, 2388.290771484375, 1871.6544189453125, 1834.06005859375, 1821.1414794921875, 1733.408935546875, 1602.86572265625, 1499.630859375, 2175.452392578125, 1280.0252685546875, 1279.703369140625, 1237.4693603515625, 1145.59033203125, 1118.3193359375, 1099.23876953125, 1075.607421875, 1020.7698364257812, 1006.089111328125, 1003.0172119140625, 1053.4014892578125, 952.766357421875, 903.0700073242188, 861.6461791992188, 756.5990600585938, 748.489013671875, 736.3702392578125, 732.4163208007812, 714.9834594726562, 5799.1005859375, 1205.94873046875, 5050.80029296875, 7103.43798828125, 6283.927734375, 5793.380859375, 3210.364990234375, 3779.486083984375, 2486.5888671875, 6105.49951171875, 5082.294921875, 6664.18798828125, 3959.03857421875, 1982.9503173828125, 11174.9697265625, 1766.5638427734375, 6640.681640625, 16071.869140625, 3503.00439453125, 5700.7490234375, 16505.013671875, 36286.5546875, 9654.3447265625, 14424.9443359375, 20749.505859375, 7185.86767578125, 43887.2734375, 29728.09765625, 4945.48876953125, 3715.210693359375, 3521.284912109375, 3193.181640625, 2699.661865234375, 2362.2451171875, 2018.2896728515625, 1954.8065185546875, 1897.52783203125, 1649.96142578125, 1580.7093505859375, 1503.5703125, 1494.6627197265625, 1376.3992919921875, 1308.66943359375, 1295.2381591796875, 1235.19287109375, 1722.4132080078125, 1149.0528564453125, 1028.0203857421875, 1006.4872436523438, 920.6268920898438, 915.2186889648438, 895.0993041992188, 853.409912109375, 768.9180908203125, 753.8988647460938, 746.9647216796875, 743.0900268554688, 733.969482421875, 1665.408203125, 1908.0203857421875, 1399.31689453125, 2082.609375, 3902.573974609375, 1827.681884765625, 2767.415283203125, 1081.244873046875, 4304.57763671875, 1393.6175537109375, 2149.0380859375, 5681.93017578125, 130181.6015625, 5545.3759765625, 11378.6240234375, 33503.31640625, 6805.3798828125, 9273.1787109375, 36286.5546875, 11834.0634765625, 5699.46826171875, 12955.216796875, 42070.61328125, 7985.10888671875, 26659.078125, 22301.017578125, 34085.97265625, 6343.455078125, 3595.6025390625, 3049.02197265625, 2533.78662109375, 2241.9248046875, 1989.2760009765625, 1839.981689453125, 1743.8173828125, 1723.19384765625, 1703.213623046875, 1517.6104736328125, 1401.24658203125, 1374.7091064453125, 1360.4000244140625, 1331.977294921875, 1232.57373046875, 1141.263671875, 1092.929443359375, 1060.7978515625, 972.3787231445312, 920.4867553710938, 899.9359741210938, 835.0469970703125, 783.540771484375, 773.14990234375, 746.4042358398438, 1351.5843505859375, 718.0140380859375, 730.4344482421875, 712.8338012695312, 2795.601318359375, 6106.24609375, 11492.6826171875, 3921.214599609375, 9322.505859375, 1137.4591064453125, 6101.6328125, 6793.83447265625, 5256.0517578125, 2336.056640625, 4660.06103515625, 3435.919189453125, 2957.178955078125, 2204.87548828125, 3970.754638671875, 5793.5966796875, 28813.884765625, 3025.600830078125, 2853.97900390625, 7399.744140625, 5446.68212890625, 4032.227783203125, 5932.884765625, 42070.61328125, 130181.6015625, 5865.8759765625, 26879.220703125, 12561.763671875, 20733.48046875, 5856.4140625, 3012.845458984375, 2704.58740234375, 2602.345947265625, 2322.45751953125, 1978.5758056640625, 1664.177734375, 1643.695068359375, 1521.7864990234375, 1288.9775390625, 1268.8841552734375, 1199.4134521484375, 1119.7476806640625, 1095.6572265625, 1066.4864501953125, 773.5974731445312, 693.9193115234375, 652.7766723632812, 642.9330444335938, 613.0362548828125, 604.5204467773438, 596.2337036132812, 594.261474609375, 592.500244140625, 588.7700805664062, 578.1611938476562, 564.6351928710938, 554.3368530273438, 550.0327758789062, 546.6675415039062, 549.8487548828125, 600.7553100585938, 879.8707885742188, 891.3538818359375, 4890.60888671875, 1372.1302490234375, 1241.2757568359375, 5286.9150390625, 1014.033203125, 3638.967041015625, 4906.740234375, 1345.7762451171875, 1651.8665771484375, 15984.326171875, 20749.505859375, 12220.5322265625, 2931.668212890625, 8849.404296875, 8524.8515625, 2881.896484375, 7530.9951171875, 6510.8916015625, 30888.173828125, 3545.010498046875, 16505.013671875, 2750.227783203125, 24472.728515625, 42070.61328125, 16175.162109375, 7124.75, 5668.14208984375, 130181.6015625, 24645.443359375, 21560.83203125, 10218.244140625, 6793.83447265625, 5884.75732421875, 5545.51953125, 4802.34326171875, 4093.811279296875, 4057.119384765625, 3702.842041015625, 2410.6533203125, 2246.7265625, 1826.625244140625, 1820.1583251953125, 1646.309326171875, 1590.3931884765625, 1497.29736328125, 1349.251708984375, 1299.0887451171875, 1202.9605712890625, 1172.2813720703125, 1147.8436279296875, 1093.0235595703125, 1037.447021484375, 997.6231689453125, 941.463134765625, 906.0028076171875, 865.0384521484375, 863.9326171875, 790.7222900390625, 768.1551513671875, 714.876953125, 689.7744140625, 628.6546630859375, 3566.746826171875, 7371.69775390625, 2504.152099609375, 3066.662353515625, 4420.68798828125, 3723.213134765625, 2850.201171875, 13120.0830078125, 8825.783203125, 4977.35546875, 3377.507568359375, 3386.668212890625, 9029.8935546875, 17941.837890625, 10218.244140625, 16541.921875, 10190.7421875, 6511.87109375, 16175.162109375, 7956.71875, 9041.5859375, 24472.728515625, 130181.6015625, 7932.02734375, 29728.09765625, 10801.146484375, 4024.33935546875, 2625.010986328125, 2140.192138671875, 1824.7191162109375, 1706.5560302734375, 1686.68359375, 1458.7734375, 1169.661865234375, 982.3958129882812, 955.431396484375, 813.6948852539062, 813.0607299804688, 792.3978881835938, 777.7706909179688, 621.3004150390625, 617.349365234375, 590.6174926757812, 575.4116821289062, 574.94921875, 564.7052612304688, 561.7926025390625, 552.7826538085938, 537.9178466796875, 528.66357421875, 512.8906860351562, 508.8582458496094, 508.4747314453125, 502.8388366699219, 479.4752197265625, 595.911865234375, 4924.3017578125, 1968.9793701171875, 701.5809326171875, 3687.577880859375, 7561.7080078125, 9489.0205078125, 1066.4888916015625, 3700.4306640625, 11174.9697265625, 1054.093505859375, 12429.3173828125, 16386.23046875, 10679.4228515625, 34001.765625, 19261.029296875, 41320.71875, 30180.95703125, 3467.08544921875, 22301.017578125, 13757.3720703125, 5593.669921875, 21492.87109375, 19338.236328125, 9741.224609375, 130181.6015625, 20733.48046875, 13412.435546875, 34085.97265625], \"loglift\": [30.0, 29.0, 28.0, 27.0, 26.0, 25.0, 24.0, 23.0, 22.0, 21.0, 20.0, 19.0, 18.0, 17.0, 16.0, 15.0, 14.0, 13.0, 12.0, 11.0, 10.0, 9.0, 8.0, 7.0, 6.0, 5.0, 4.0, 3.0, 2.0, 1.0, 2.468100070953369, 2.4679999351501465, 2.4679999351501465, 2.4679999351501465, 2.4679999351501465, 2.467900037765503, 2.467900037765503, 2.467900037765503, 2.467900037765503, 2.4677999019622803, 2.4677999019622803, 2.4677000045776367, 2.4677000045776367, 2.467600107192993, 2.467600107192993, 2.467600107192993, 2.4674999713897705, 2.4674999713897705, 2.4674999713897705, 2.4674999713897705, 2.467400074005127, 2.467400074005127, 2.467400074005127, 2.467400074005127, 2.467400074005127, 2.4672999382019043, 2.4672000408172607, 2.4672000408172607, 2.4672000408172607, 2.4672000408172607, 2.46560001373291, 2.466200113296509, 2.4628000259399414, 2.424299955368042, 2.4507999420166016, 2.370500087738037, 2.4154999256134033, 2.232100009918213, 2.1538000106811523, 2.300600051879883, 2.290600061416626, 2.2869999408721924, 2.0762999057769775, 2.366300106048584, 1.8233000040054321, 2.108299970626831, 1.940500020980835, 1.5887999534606934, 2.2102999687194824, 1.8835999965667725, 1.7409000396728516, 1.4408999681472778, 1.481600046157837, 1.5026999711990356, 1.8407000303268433, 1.3257999420166016, 0.7269999980926514, 1.4943000078201294, 1.5786999464035034, 1.5391000509262085, 1.7537000179290771, 1.1347999572753906, 1.149899959564209, 0.786300003528595, 1.1634000539779663, 1.1066999435424805, 1.4779000282287598, 0.6141999959945679, 0.850600004196167, 2.5773000717163086, 2.5773000717163086, 2.5773000717163086, 2.577199935913086, 2.577199935913086, 2.577199935913086, 2.577199935913086, 2.5771000385284424, 2.5771000385284424, 2.5771000385284424, 2.5771000385284424, 2.5769999027252197, 2.5769999027252197, 2.5769999027252197, 2.5769999027252197, 2.576900005340576, 2.576900005340576, 2.5768001079559326, 2.5768001079559326, 2.57669997215271, 2.5766000747680664, 2.5766000747680664, 2.5766000747680664, 2.5766000747680664, 2.5766000747680664, 2.5764999389648438, 2.5764999389648438, 2.5764999389648438, 2.5764999389648438, 2.5764000415802, 2.5645999908447266, 2.5594000816345215, 2.5497000217437744, 2.5408999919891357, 2.519700050354004, 2.53629994392395, 2.423799991607666, 2.4124999046325684, 2.4161999225616455, 2.4809000492095947, 2.0673000812530518, 2.397700071334839, 1.5374000072479248, 2.411600112915039, 2.2179999351501465, 2.296999931335449, 1.873900055885315, 1.682800054550171, 1.6146999597549438, 1.1571999788284302, 2.222599983215332, 2.041100025177002, 1.128600001335144, 2.00219988822937, 2.0857999324798584, 0.7211999893188477, 1.2023999691009521, 0.9829000234603882, 2.0648999214172363, -0.34279999136924744, 0.8066999912261963, 1.9133000373840332, 1.2512999773025513, 0.9434000253677368, 0.9343000054359436, 0.4417000114917755, 1.5852999687194824, 0.8550000190734863, 0.9383999705314636, 1.5140999555587769, -0.1151999980211258, -0.16220000386238098, 2.615299940109253, 2.615299940109253, 2.615299940109253, 2.6152000427246094, 2.6152000427246094, 2.6152000427246094, 2.6150999069213867, 2.615000009536743, 2.615000009536743, 2.615000009536743, 2.615000009536743, 2.6149001121520996, 2.6149001121520996, 2.6149001121520996, 2.6149001121520996, 2.6149001121520996, 2.6149001121520996, 2.6147000789642334, 2.6147000789642334, 2.6147000789642334, 2.6147000789642334, 2.6145999431610107, 2.6145999431610107, 2.614500045776367, 2.6143999099731445, 2.6143999099731445, 2.6142001152038574, 2.6142001152038574, 2.6142001152038574, 2.6140999794006348, 2.6133999824523926, 2.6131999492645264, 2.6113998889923096, 2.6138999462127686, 2.5915000438690186, 2.587899923324585, 2.569200038909912, 2.603600025177002, 2.591399908065796, 2.573499917984009, 2.5136001110076904, 2.5136001110076904, 2.394399881362915, 2.427299976348877, 2.552799940109253, 2.3643999099731445, 2.3784000873565674, 2.382699966430664, 2.2904000282287598, 2.4999001026153564, 2.4879000186920166, 2.3087000846862793, 2.443700075149536, 2.3297998905181885, 1.5533000230789185, 1.9830000400543213, 2.219599962234497, 1.885599970817566, 1.8489999771118164, 1.545300006866455, 1.6504000425338745, 1.155500054359436, 1.4438999891281128, 1.8824000358581543, 1.3774000406265259, 1.7793999910354614, 1.691100001335144, 1.0307999849319458, 1.8071999549865723, 1.4809999465942383, 1.9753999710083008, 1.8114999532699585, 1.7855000495910645, 1.562999963760376, 0.18250000476837158, 1.5033999681472778, 1.5262999534606934, 1.188099980354309, 2.689199924468994, 2.6891000270843506, 2.6891000270843506, 2.688999891281128, 2.688699960708618, 2.6886000633239746, 2.6884000301361084, 2.6884000301361084, 2.6884000301361084, 2.6882998943328857, 2.688199996948242, 2.688199996948242, 2.6881000995635986, 2.6881000995635986, 2.687999963760376, 2.687999963760376, 2.687999963760376, 2.6879000663757324, 2.6879000663757324, 2.6877999305725098, 2.6877999305725098, 2.687700033187866, 2.6874001026153564, 2.687299966812134, 2.687299966812134, 2.6872000694274902, 2.687000036239624, 2.687000036239624, 2.687000036239624, 2.6868999004364014, 2.6851000785827637, 2.680500030517578, 2.684999942779541, 2.6867001056671143, 2.6751999855041504, 2.673799991607666, 2.672800064086914, 2.6775999069213867, 2.6640000343322754, 2.56850004196167, 2.4402999877929688, 2.5620999336242676, 2.5344998836517334, 2.579699993133545, 2.5376999378204346, 2.551100015640259, 2.3280999660491943, 2.58240008354187, 2.393699884414673, 2.5316998958587646, 2.1521999835968018, 2.203399896621704, 2.4899001121520996, 2.2267000675201416, 2.2929999828338623, 2.301100015640259, 2.175800085067749, 2.2318999767303467, 2.3278000354766846, 1.2754000425338745, 1.3594000339508057, 1.187399983406067, 1.8503999710083008, 2.121799945831299, 1.8788000345230103, 1.2630000114440918, 1.382599949836731, 1.3976999521255493, 0.8246999979019165, 1.2359999418258667, 1.1375999450683594, 0.7411999702453613, 1.6217000484466553, 0.7692999839782715, 1.7595000267028809, 1.8550000190734863, 0.1477999985218048, 1.2542999982833862, 0.7757999897003174, 0.2750999927520752, 0.6632999777793884, 0.09889999777078629, 0.574400007724762, 1.4430999755859375, 1.2517000436782837, 2.7385001182556152, 2.7383999824523926, 2.7383999824523926, 2.738300085067749, 2.7381999492645264, 2.73799991607666, 2.73799991607666, 2.7379000186920166, 2.737799882888794, 2.737799882888794, 2.737600088119507, 2.737499952316284, 2.737499952316284, 2.737499952316284, 2.7374000549316406, 2.7374000549316406, 2.7374000549316406, 2.7374000549316406, 2.737299919128418, 2.737299919128418, 2.737299919128418, 2.7372000217437744, 2.7370998859405518, 2.7370998859405518, 2.7369000911712646, 2.736799955368042, 2.736799955368042, 2.736799955368042, 2.736799955368042, 2.7367000579833984, 2.734999895095825, 2.7325000762939453, 2.7318999767303467, 2.734800100326538, 2.724299907684326, 2.681999921798706, 2.712100028991699, 2.676800012588501, 2.6812000274658203, 2.6816999912261963, 2.604599952697754, 2.7019999027252197, 2.66729998588562, 2.7007999420166016, 2.699700117111206, 2.6059999465942383, 2.2973999977111816, 2.554500102996826, 2.626199960708618, 2.516400098800659, 1.964400053024292, 2.1275999546051025, 2.0239999294281006, 2.2916998863220215, 2.303499937057495, 1.798699975013733, 1.5458999872207642, 1.9977999925613403, 1.7493000030517578, 1.4085999727249146, 1.9658000469207764, 1.9012000560760498, 1.5468000173568726, 1.6726000308990479, 2.0064001083374023, 0.927299976348877, -0.2353000044822693, 0.7889999747276306, 0.8015000224113464, 1.344599962234497, 2.9175000190734863, 2.91729998588562, 2.9172000885009766, 2.9172000885009766, 2.917099952697754, 2.917099952697754, 2.917099952697754, 2.9170000553131104, 2.9170000553131104, 2.9170000553131104, 2.9168999195098877, 2.9168999195098877, 2.9168999195098877, 2.9168999195098877, 2.9168999195098877, 2.916800022125244, 2.916800022125244, 2.916800022125244, 2.9166998863220215, 2.9166998863220215, 2.9166998863220215, 2.9166998863220215, 2.9166998863220215, 2.9166998863220215, 2.916599988937378, 2.916599988937378, 2.916599988937378, 2.916599988937378, 2.916599988937378, 2.9165000915527344, 2.915800094604492, 2.8847999572753906, 2.904900074005127, 2.841399908065796, 2.900700092315674, 2.8306000232696533, 2.783600091934204, 2.8359999656677246, 2.759500026702881, 2.7374000549316406, 2.589200019836426, 2.7309000492095947, 2.7994000911712646, 2.559499979019165, 2.16129994392395, 2.4974000453948975, 2.458899974822998, 2.0071001052856445, 2.1745998859405518, 1.9775999784469604, 2.391200065612793, 2.2086000442504883, 1.0952999591827393, 0.8184999823570251, 1.9740999937057495, 2.2304999828338623, 1.7901999950408936, 1.4031000137329102, 0.4878999888896942, 0.715499997138977, 0.20669999718666077, 0.6025999784469604, 1.6755000352859497, 2.9756999015808105, 2.9755001068115234, 2.9755001068115234, 2.975399971008301, 2.975399971008301, 2.9753000736236572, 2.9753000736236572, 2.9751999378204346, 2.9751999378204346, 2.9751999378204346, 2.9749999046325684, 2.9749999046325684, 2.974900007247925, 2.974900007247925, 2.974900007247925, 2.9748001098632812, 2.974600076675415, 2.974600076675415, 2.974600076675415, 2.974600076675415, 2.9744999408721924, 2.9744999408721924, 2.9744999408721924, 2.9744999408721924, 2.974400043487549, 2.974299907684326, 2.974299907684326, 2.9742000102996826, 2.9742000102996826, 2.9742000102996826, 2.9612998962402344, 2.973900079727173, 2.969599962234497, 2.945499897003174, 2.9546000957489014, 2.8592000007629395, 2.886199951171875, 2.879499912261963, 2.8887999057769775, 2.492300033569336, 2.6364998817443848, 2.729099988937378, 2.2565999031066895, 2.759200096130371, 2.2809998989105225, 2.2662999629974365, 2.5703001022338867, 1.6481000185012817, 2.551300048828125, 1.9277000427246094, 2.488100051879883, 1.766800045967102, 2.055000066757202, 0.3111000061035156, 2.0785999298095703, 1.353600025177002, 2.02839994430542, 1.243499994277954, 1.4227999448776245, 1.5052000284194946, 1.0956000089645386, 1.4565000534057617, 0.5511000156402588, 1.7223000526428223, 0.05920000001788139, 0.06340000033378601, 0.28380000591278076, 2.998300075531006, 2.998300075531006, 2.998199939727783, 2.998199939727783, 2.9981000423431396, 2.9981000423431396, 2.9981000423431396, 2.997999906539917, 2.997999906539917, 2.9979000091552734, 2.99780011177063, 2.9976999759674072, 2.9976000785827637, 2.9976000785827637, 2.997499942779541, 2.9974000453948975, 2.9974000453948975, 2.9972000122070312, 2.9972000122070312, 2.9971001148223877, 2.9971001148223877, 2.9969000816345215, 2.996799945831299, 2.996799945831299, 2.996799945831299, 2.996799945831299, 2.996799945831299, 2.9967000484466553, 2.9967000484466553, 2.9967000484466553, 2.9958999156951904, 2.982300043106079, 2.8436999320983887, 2.829900026321411, 2.3914999961853027, 2.842400074005127, 2.7792999744415283, 2.626199960708618, 2.515899896621704, 2.255000114440918, 1.9907000064849854, 2.15910005569458, 2.4398000240325928, 2.42930006980896, 2.4147000312805176, 2.0717999935150146, 2.1665000915527344, 1.951200008392334, 1.9701999425888062, 1.74590003490448, 1.301800012588501, 1.6432000398635864, 1.5324000120162964, 0.6212999820709229, 1.4218000173568726, 1.1754000186920166, 1.1098999977111816, 1.13100004196167, 1.7942999601364136, 0.7275999784469604, 1.186400055885315, 0.6470000147819519, 0.6819000244140625, 1.0757999420166016, 3.0078999996185303, 3.0078999996185303, 3.0078001022338867, 3.007699966430664, 3.0076000690460205, 3.0076000690460205, 3.007499933242798, 3.0074000358581543, 3.0072999000549316, 3.0072999000549316, 3.0072999000549316, 3.007200002670288, 3.007200002670288, 3.0071001052856445, 3.0069000720977783, 3.0067999362945557, 3.006700038909912, 3.0065999031066895, 3.0065999031066895, 3.0065999031066895, 3.006500005722046, 3.006500005722046, 3.006500005722046, 3.0064001083374023, 3.0064001083374023, 3.0062999725341797, 3.0062999725341797, 3.0062999725341797, 3.006200075149536, 3.006200075149536, 2.9860000610351562, 2.999500036239624, 2.9976999759674072, 2.9751999378204346, 2.9951999187469482, 2.882699966430664, 2.974299907684326, 2.962399959564209, 2.957900047302246, 2.9751999378204346, 2.891700029373169, 2.810699939727783, 2.8961000442504883, 2.5548999309539795, 2.808500051498413, 2.6445000171661377, 2.3373000621795654, 1.9180999994277954, 2.4735000133514404, 2.240299940109253, 2.688499927520752, 2.4347000122070312, 2.0861001014709473, 2.2214999198913574, 1.625499963760376, 1.3746999502182007, 1.8567999601364136, 2.0917000770568848, 1.492400050163269, 2.260499954223633, 2.180000066757202, 1.9250999689102173, 2.163300037384033, 1.520300030708313, 1.6105999946594238, 0.12300000339746475, 1.732699990272522, 1.6015000343322754, 1.5054999589920044, 0.6089000105857849, 0.6725000143051147, 0.42899999022483826, 0.6216999888420105, 0.430400013923645, 3.019399881362915, 3.019399881362915, 3.019399881362915, 3.019399881362915, 3.019200086593628, 3.019200086593628, 3.019200086593628, 3.019200086593628, 3.0190999507904053, 3.0190000534057617, 3.018899917602539, 3.0188000202178955, 3.018699884414673, 3.018699884414673, 3.018699884414673, 3.018699884414673, 3.018699884414673, 3.018699884414673, 3.018699884414673, 3.0185000896453857, 3.0185000896453857, 3.018399953842163, 3.0183000564575195, 3.0183000564575195, 3.0183000564575195, 3.018199920654297, 3.018199920654297, 3.018199920654297, 3.018199920654297, 3.0181000232696533, 2.993000030517578, 3.0134999752044678, 2.8196001052856445, 2.941499948501587, 2.999000072479248, 2.868299961090088, 2.999799966812134, 2.9337000846862793, 2.716599941253662, 2.8076000213623047, 2.7065999507904053, 2.741499900817871, 2.440700054168701, 2.5664000511169434, 2.5571000576019287, 2.101900100708008, 1.8710999488830566, 1.9967999458312988, 1.330299973487854, 2.5683000087738037, 0.20759999752044678, 2.1881000995635986, 1.1333999633789062, 0.5289000272750854, 0.6258999705314636, 1.223099946975708, 0.7890999913215637, 0.8141999840736389, 0.2797999978065491, 0.13420000672340393, 3.073899984359741, 3.073899984359741, 3.0738000869750977, 3.0738000869750977, 3.073699951171875, 3.073699951171875, 3.0736000537872314, 3.0736000537872314, 3.073499917984009, 3.0734000205993652, 3.0734000205993652, 3.0734000205993652, 3.0734000205993652, 3.0732998847961426, 3.0732998847961426, 3.0732998847961426, 3.073199987411499, 3.073199987411499, 3.073199987411499, 3.073199987411499, 3.073199987411499, 3.0731000900268555, 3.0731000900268555, 3.0729000568389893, 3.0729000568389893, 3.0727999210357666, 3.0727999210357666, 3.0727999210357666, 3.0727999210357666, 3.072700023651123, 3.0599000453948975, 3.071500062942505, 3.020699977874756, 2.9797000885009766, 2.9728000164031982, 2.6566998958587646, 2.9303998947143555, 2.7486000061035156, 2.743799924850464, 2.6735999584198, 2.765399932861328, 2.908600091934204, 2.0416998863220215, 2.3255999088287354, 2.1068999767303467, 2.3461999893188477, 2.3626999855041504, 1.4594999551773071, 2.5699000358581543, 0.47859999537467957, 1.5886000394821167, 2.3863000869750977, 2.1912999153137207, 1.541200041770935, 1.7166999578475952, 1.381500005722046, 0.7512999773025513, 0.4142000079154968, 1.274899959564209, 0.4763000011444092, 3.1875998973846436, 3.1874001026153564, 3.1874001026153564, 3.187299966812134, 3.1872000694274902, 3.1870999336242676, 3.1870999336242676, 3.187000036239624, 3.1868999004364014, 3.1868999004364014, 3.1868999004364014, 3.1867001056671143, 3.1867001056671143, 3.1867001056671143, 3.1865999698638916, 3.1865999698638916, 3.186500072479248, 3.186500072479248, 3.186500072479248, 3.186500072479248, 3.1863999366760254, 3.186300039291382, 3.186300039291382, 3.186300039291382, 3.186300039291382, 3.186300039291382, 3.186199903488159, 3.186199903488159, 3.1861000061035156, 3.1861000061035156, 3.185499906539917, 3.184999942779541, 3.1858999729156494, 3.1682000160217285, 3.084399938583374, 3.0625998973846436, 3.169100046157837, 3.147900104522705, 3.0573999881744385, 3.0387001037597656, 2.6867001056671143, 2.903700113296509, 3.0264999866485596, 2.773200035095215, 2.61299991607666, 2.5683000087738037, 2.608599901199341, 2.5601000785827637, 2.895699977874756, 2.5336999893188477, 2.376199960708618, 2.1077001094818115, 1.077299952507019, 2.5943000316619873, 1.9417999982833862, 1.4452999830245972, 1.5268000364303589, 2.121500015258789, 0.6513000130653381, 1.371899962425232, 1.6117000579833984, 0.3871000111103058, 1.7740999460220337, 0.4124999940395355, 3.188499927520752, 3.1884000301361084, 3.1884000301361084, 3.1884000301361084, 3.1882998943328857, 3.1882998943328857, 3.188199996948242, 3.1881000995635986, 3.187999963760376, 3.187999963760376, 3.187999963760376, 3.187999963760376, 3.1879000663757324, 3.1877999305725098, 3.1877999305725098, 3.187700033187866, 3.1875998973846436, 3.1875998973846436, 3.1875, 3.1875, 3.1875, 3.1874001026153564, 3.187299966812134, 3.187299966812134, 3.1872000694274902, 3.1870999336242676, 3.1870999336242676, 3.1870999336242676, 3.187000036239624, 3.1868999004364014, 3.183199882507324, 3.16759991645813, 3.186000108718872, 3.1867001056671143, 3.1851999759674072, 3.186800003051758, 3.1858999729156494, 3.0859999656677246, 2.871000051498413, 2.944999933242798, 2.8187999725341797, 2.7374000549316406, 2.925600051879883, 3.009399890899658, 2.401400089263916, 2.816800117492676, 2.8980000019073486, 2.9600000381469727, 2.7107999324798584, 2.4379000663757324, 2.402400016784668, 2.7125000953674316, 0.8420000076293945, 1.455899953842163, 1.898800015449524, 1.8210999965667725, 1.961400032043457, 1.0608999729156494, 2.0004000663757324, 2.115000009536743, 2.4797000885009766, 1.6576000452041626, 0.46320000290870667, 1.6276999711990356, 3.2167999744415283, 3.2167000770568848, 3.216599941253662, 3.2165000438690186, 3.216399908065796, 3.216399908065796, 3.216399908065796, 3.2163000106811523, 3.216200113296509, 3.216200113296509, 3.216099977493286, 3.216099977493286, 3.216099977493286, 3.216099977493286, 3.216099977493286, 3.216099977493286, 3.216099977493286, 3.216099977493286, 3.2160000801086426, 3.2160000801086426, 3.2160000801086426, 3.21589994430542, 3.21589994430542, 3.21589994430542, 3.21589994430542, 3.2158000469207764, 3.2158000469207764, 3.2156999111175537, 3.2156999111175537, 3.21560001373291, 3.212599992752075, 3.177799940109253, 3.193000078201294, 3.195499897003174, 3.1610000133514404, 3.1603000164031982, 3.0929999351501465, 3.015500068664551, 2.9937000274658203, 2.9467999935150146, 2.867300033569336, 2.77620005607605, 2.822999954223633, 2.966900110244751, 2.7672998905181885, 2.948699951171875, 2.481300115585327, 2.5829999446868896, 2.970099925994873, 2.6019999980926514, 0.9666000008583069, 2.4335999488830566, -0.1185000017285347, 2.0676000118255615, 1.4378000497817993, 1.4545999765396118, 0.6556000113487244, 0.24070000648498535, 0.1843000054359436, 1.8875000476837158, 0.741599977016449, 3.2490999698638916, 3.2490999698638916, 3.2490999698638916, 3.2490999698638916, 3.2488999366760254, 3.2488999366760254, 3.2488999366760254, 3.2488999366760254, 3.2488999366760254, 3.248800039291382, 3.248800039291382, 3.248699903488159, 3.248699903488159, 3.248699903488159, 3.2486000061035156, 3.2486000061035156, 3.2486000061035156, 3.2486000061035156, 3.248500108718872, 3.248500108718872, 3.248500108718872, 3.248500108718872, 3.248500108718872, 3.2483999729156494, 3.248300075531006, 3.248199939727783, 3.248199939727783, 3.248199939727783, 3.248199939727783, 3.2481000423431396, 3.233299970626831, 3.24780011177063, 3.204200029373169, 3.1751999855041504, 3.171600103378296, 3.1252999305725098, 3.136699914932251, 3.106100082397461, 3.1473000049591064, 2.910399913787842, 2.8654000759124756, 2.7219998836517334, 2.8642001152038574, 3.0280001163482666, 2.34879994392395, 3.0406999588012695, 2.345400094985962, 1.7109999656677246, 2.551800012588501, 2.19950008392334, 1.4323999881744385, 0.8240000009536743, 1.7656999826431274, 1.3833999633789062, 1.0769000053405762, 1.9555000066757202, 0.2524000108242035, 0.529699981212616, 3.265000104904175, 3.264899969100952, 3.264899969100952, 3.264899969100952, 3.2648000717163086, 3.2648000717163086, 3.264699935913086, 3.264699935913086, 3.264699935913086, 3.2646000385284424, 3.2646000385284424, 3.2646000385284424, 3.2646000385284424, 3.2644999027252197, 3.2644999027252197, 3.2644999027252197, 3.264400005340576, 3.264400005340576, 3.264400005340576, 3.2643001079559326, 3.26419997215271, 3.26419997215271, 3.26419997215271, 3.2641000747680664, 3.2641000747680664, 3.2639999389648438, 3.2639000415802, 3.2639000415802, 3.2639000415802, 3.2639000415802, 3.262700080871582, 3.259999990463257, 3.2339999675750732, 3.2090001106262207, 3.158400058746338, 3.1956000328063965, 3.1338000297546387, 3.231800079345703, 2.897900104522705, 3.1672000885009766, 2.9398999214172363, 2.4626998901367188, 0.90829998254776, 2.440999984741211, 1.8145999908447266, 0.9973999857902527, 2.097599983215332, 1.8497999906539917, 0.7782999873161316, 1.6136000156402588, 2.158900022506714, 1.4757000207901, 0.45190000534057617, 1.8665000200271606, 0.7555999755859375, 0.8357999920845032, 0.4002000093460083, 3.2678000926971436, 3.267699956893921, 3.267699956893921, 3.2676000595092773, 3.2674999237060547, 3.2674999237060547, 3.2674999237060547, 3.267400026321411, 3.267400026321411, 3.267400026321411, 3.2672998905181885, 3.2672998905181885, 3.2672998905181885, 3.2672998905181885, 3.2672998905181885, 3.267199993133545, 3.2671000957489014, 3.2671000957489014, 3.2671000957489014, 3.2669999599456787, 3.266900062561035, 3.266900062561035, 3.2667999267578125, 3.2667999267578125, 3.266700029373169, 3.266700029373169, 3.266700029373169, 3.2665998935699463, 3.2665998935699463, 3.2665998935699463, 3.2632999420166016, 3.211899995803833, 3.063699960708618, 3.105600118637085, 2.986299991607666, 3.2242000102996826, 3.0095999240875244, 2.9837000370025635, 2.9935998916625977, 3.099299907684326, 2.9196999073028564, 2.954400062561035, 2.985300064086914, 3.065700054168701, 2.873800039291382, 2.734600067138672, 1.8746999502182007, 2.9030001163482666, 2.901700019836426, 2.337100028991699, 2.5074000358581543, 2.6593000888824463, 2.3066999912261963, 0.557699978351593, -0.453900009393692, 2.2237000465393066, 0.7842000126838684, 1.4855999946594238, 0.9807000160217285, 3.3262999057769775, 3.326200008392334, 3.3261001110076904, 3.3261001110076904, 3.3261001110076904, 3.3259999752044678, 3.325900077819824, 3.325900077819824, 3.325900077819824, 3.3257999420166016, 3.325700044631958, 3.325700044631958, 3.3255999088287354, 3.3255999088287354, 3.3255999088287354, 3.3252999782562256, 3.3250999450683594, 3.325000047683716, 3.325000047683716, 3.324899911880493, 3.324899911880493, 3.324899911880493, 3.324899911880493, 3.324899911880493, 3.324899911880493, 3.3248000144958496, 3.3248000144958496, 3.3248000144958496, 3.3248000144958496, 3.3248000144958496, 3.324700117111206, 3.322700023651123, 3.3041999340057373, 3.301100015640259, 3.182499885559082, 3.224900007247925, 3.203200101852417, 2.8473000526428223, 3.202199935913086, 2.890899896621704, 2.808500051498413, 3.1289000511169434, 3.053100109100342, 2.3057000637054443, 2.087100028991699, 2.2660000324249268, 2.7704999446868896, 2.2990000247955322, 2.253200054168701, 2.7539000511169434, 2.2625999450683594, 2.3306000232696533, 1.4526000022888184, 2.5627999305725098, 1.4804999828338623, 2.697999954223633, 1.097100019454956, 0.6603000164031982, 1.3664000034332275, 1.9471999406814575, 2.1291000843048096, -0.6388999819755554, 0.7888000011444092, 0.8610000014305115, 1.541700005531311, 1.9292999505996704, 3.3812999725341797, 3.3812999725341797, 3.3812999725341797, 3.381200075149536, 3.381200075149536, 3.381200075149536, 3.3810999393463135, 3.38100004196167, 3.3808999061584473, 3.3808999061584473, 3.3808999061584473, 3.3808999061584473, 3.3808000087738037, 3.3808000087738037, 3.38070011138916, 3.38070011138916, 3.3805999755859375, 3.3805999755859375, 3.3805999755859375, 3.380500078201294, 3.380500078201294, 3.3803999423980713, 3.3803999423980713, 3.3803999423980713, 3.3803999423980713, 3.3803000450134277, 3.380199909210205, 3.3801000118255615, 3.3801000118255615, 3.3798999786376953, 3.3768999576568604, 3.323499917984009, 3.342400074005127, 3.29259991645813, 3.238800048828125, 3.2290000915527344, 3.1882998943328857, 2.6068999767303467, 2.7177000045776367, 2.8798999786376953, 2.960599899291992, 2.957200050354004, 2.482300043106079, 2.1663999557495117, 2.3873000144958496, 2.1494998931884766, 2.3682000637054443, 2.581399917602539, 2.0696001052856445, 2.466200113296509, 2.33270001411438, 1.5930999517440796, 0.18080000579357147, 2.227299928665161, 1.0856000185012817, 3.6233999729156494, 3.623300075531006, 3.623199939727783, 3.6231000423431396, 3.622999906539917, 3.622999906539917, 3.6229000091552734, 3.6229000091552734, 3.6226999759674072, 3.6226000785827637, 3.622499942779541, 3.6224000453948975, 3.6224000453948975, 3.622299909591675, 3.622299909591675, 3.621999979019165, 3.621999979019165, 3.6219000816345215, 3.6219000816345215, 3.6219000816345215, 3.621799945831299, 3.621799945831299, 3.621799945831299, 3.621799945831299, 3.6217000484466553, 3.6217000484466553, 3.6217000484466553, 3.6217000484466553, 3.6215999126434326, 3.621500015258789, 3.6208999156951904, 3.584700107574463, 3.597899913787842, 3.618000030517578, 3.5776000022888184, 3.3757998943328857, 2.797100067138672, 3.3982999324798584, 2.939300060272217, 2.4695000648498535, 3.375699996948242, 2.2746999263763428, 2.1033999919891357, 2.262399911880493, 1.613800048828125, 1.8624000549316406, 1.4363000392913818, 1.5439000129699707, 2.7030999660491943, 1.4632999897003174, 1.753600001335144, 2.3290998935699463, 1.4112999439239502, 1.399899959564209, 1.8660999536514282, -0.3107999861240387, 1.1660000085830688, 1.4807000160217285, 0.5389999747276306], \"logprob\": [30.0, 29.0, 28.0, 27.0, 26.0, 25.0, 24.0, 23.0, 22.0, 21.0, 20.0, 19.0, 18.0, 17.0, 16.0, 15.0, 14.0, 13.0, 12.0, 11.0, 10.0, 9.0, 8.0, 7.0, 6.0, 5.0, 4.0, 3.0, 2.0, 1.0, -5.071300029754639, -5.482800006866455, -5.486800193786621, -5.700200080871582, -5.804599761962891, -5.840400218963623, -5.929800033569336, -5.9583001136779785, -6.033400058746338, -6.255899906158447, -6.266900062561035, -6.379199981689453, -6.421500205993652, -6.448299884796143, -6.509099960327148, -6.546299934387207, -6.639100074768066, -6.65500020980835, -6.671800136566162, -6.676700115203857, -6.730800151824951, -6.774700164794922, -6.780200004577637, -6.79449987411499, -6.819499969482422, -6.920000076293945, -6.6992998123168945, -6.982100009918213, -6.990900039672852, -7.011199951171875, -5.579100131988525, -5.6722002029418945, -6.519100189208984, -4.005799770355225, -6.118500232696533, -5.700900077819824, -6.3292999267578125, -5.126399993896484, -4.659800052642822, -5.665500164031982, -5.701200008392334, -5.700699806213379, -4.748899936676025, -6.168099880218506, -3.93969988822937, -5.250999927520752, -4.8958001136779785, -3.849600076675415, -5.827700138092041, -5.137800216674805, -4.916100025177002, -4.347700119018555, -4.44789981842041, -4.507900238037109, -5.124199867248535, -4.230800151824951, -3.6933999061584473, -4.727399826049805, -4.93120002746582, -4.9832000732421875, -5.257400035858154, -5.035999774932861, -5.112400054931641, -5.095799922943115, -5.329500198364258, -5.376800060272217, -5.51800012588501, -5.392000198364258, -5.480599880218506, -5.677199840545654, -5.7368998527526855, -5.782100200653076, -5.860400199890137, -5.945799827575684, -6.020400047302246, -6.043700218200684, -6.113699913024902, -5.589399814605713, -6.1717000007629395, -6.241199970245361, -6.186800003051758, -6.316199779510498, -6.362599849700928, -6.227099895477295, -6.509200096130371, -6.514100074768066, -6.593800067901611, -6.631700038909912, -6.67549991607666, -6.769999980926514, -6.79010009765625, -6.806399822235107, -6.823999881744385, -6.811999797821045, -6.881400108337402, -6.8892998695373535, -6.901100158691406, -6.9309000968933105, -6.956299781799316, -6.128200054168701, -6.193900108337402, -6.312300205230713, -6.250699996948242, -6.132900238037109, -6.493500232696533, -5.86269998550415, -5.802700042724609, -5.861800193786621, -6.333899974822998, -5.082099914550781, -6.135900020599365, -3.9702999591827393, -6.1743998527526855, -5.7164998054504395, -5.992000102996826, -5.250899791717529, -5.078800201416016, -5.113100051879883, -4.553400039672852, -5.938399791717529, -5.783899784088135, -4.956099987030029, -5.81790018081665, -5.884699821472168, -4.956099987030029, -5.3028998374938965, -5.26230001449585, -5.876999855041504, -4.763299942016602, -5.350200176239014, -5.8267998695373535, -5.607399940490723, -5.579800128936768, -5.604499816894531, -5.486800193786621, -5.769100189208984, -5.622799873352051, -5.692599773406982, -5.790200233459473, -5.683199882507324, -5.712200164794922, -5.907400131225586, -5.950699806213379, -6.036600112915039, -6.171299934387207, -6.175099849700928, -6.210100173950195, -6.282700061798096, -6.401100158691406, -6.41480016708374, -6.488699913024902, -6.514699935913086, -6.523799896240234, -6.5690999031066895, -6.545899868011475, -6.598400115966797, -6.601500034332275, -6.618199825286865, -6.766499996185303, -6.774499893188477, -6.700399875640869, -6.7947998046875, -6.871099948883057, -6.905600070953369, -6.972599983215332, -6.998899936676025, -7.007299900054932, -7.154200077056885, -7.1682000160217285, -7.172800064086914, -7.235499858856201, -5.731100082397461, -6.684999942779541, -6.59499979019165, -6.904399871826172, -5.702700138092041, -5.859099864959717, -5.64169979095459, -6.627799987792969, -6.436699867248535, -6.190800189971924, -5.372200012207031, -5.392899990081787, -4.252099990844727, -5.14169979095459, -6.1981000900268555, -4.821599960327148, -5.214300155639648, -5.3480000495910645, -5.060800075531006, -6.066400051116943, -6.163700103759766, -5.633200168609619, -6.124899864196777, -5.8892998695373535, -4.305600166320801, -5.2621002197265625, -5.731500148773193, -5.268199920654297, -5.260000228881836, -4.838799953460693, -5.025400161743164, -4.412499904632568, -4.883399963378906, -5.4028000831604, -4.87939977645874, -5.3084001541137695, -5.2434000968933105, -4.7469000816345215, -5.479899883270264, -5.32889986038208, -5.602700233459473, -5.5584001541137695, -5.548299789428711, -5.5441999435424805, -5.367499828338623, -5.551199913024902, -5.556700229644775, -5.567599773406982, -5.395999908447266, -5.721700191497803, -5.771500110626221, -5.897799968719482, -6.448999881744385, -6.100200176239014, -6.716599941253662, -6.755899906158447, -6.791900157928467, -6.828000068664551, -6.172999858856201, -6.933000087738037, -7.003399848937988, -7.031199932098389, -6.365300178527832, -7.0854997634887695, -7.091800212860107, -7.121500015258789, -7.152100086212158, -7.186399936676025, -7.207200050354004, -6.863399982452393, -7.338500022888184, -7.308300018310547, -7.4679999351501465, -7.485599994659424, -7.561500072479248, -7.575799942016602, -7.577400207519531, -7.622099876403809, -4.599100112915039, -6.630000114440918, -7.086100101470947, -7.524199962615967, -6.630000114440918, -6.695199966430664, -6.676499843597412, -6.954100131988525, -6.659599781036377, -5.44189977645874, -4.840799808502197, -5.95989990234375, -5.826700210571289, -6.413700103759766, -6.170899868011475, -6.256199836730957, -5.130499839782715, -6.486400127410889, -5.614999771118164, -6.353000164031982, -5.133299827575684, -5.334799766540527, -6.277100086212158, -5.635700225830078, -5.804999828338623, -5.825399875640869, -5.574999809265137, -5.768099784851074, -5.964900016784668, -4.182799816131592, -4.521399974822998, -4.523200035095215, -5.428400039672852, -5.803899765014648, -5.604400157928467, -4.982100009918213, -5.140600204467773, -5.23330020904541, -4.85260009765625, -5.269100189208984, -5.246500015258789, -5.117800235748291, -5.565499782562256, -5.236999988555908, -5.636199951171875, -5.675000190734863, -5.2906999588012695, -5.5432000160217285, -5.442599773406982, -5.422699928283691, -5.493599891662598, -5.451000213623047, -5.51039981842041, -5.593100070953369, -5.59060001373291, -3.7244999408721924, -4.869500160217285, -5.114999771118164, -5.4421000480651855, -5.730400085449219, -6.003200054168701, -6.019400119781494, -6.269199848175049, -6.320499897003174, -6.3815999031066895, -6.564799785614014, -6.65339994430542, -6.663000106811523, -6.6946001052856445, -6.7606000900268555, -6.769899845123291, -6.776599884033203, -6.7895002365112305, -6.857399940490723, -6.868199825286865, -6.871500015258789, -6.920400142669678, -6.991099834442139, -7.035099983215332, -7.139500141143799, -7.169899940490723, -7.177999973297119, -7.2083001136779785, -7.211100101470947, -7.230299949645996, -5.15369987487793, -5.387700080871582, -5.493599891662598, -6.054299831390381, -5.8231000900268555, -4.148399829864502, -5.703400135040283, -4.532299995422363, -5.088099956512451, -5.14709997177124, -4.135300159454346, -6.092899799346924, -5.530200004577637, -6.107100009918213, -6.143599987030029, -5.631499767303467, -3.964900016784668, -5.563300132751465, -6.035999774932861, -5.648200035095215, -3.493799924850464, -4.410600185394287, -4.1468000411987305, -5.177599906921387, -5.205999851226807, -4.211999893188477, -3.8924999237060547, -4.8165998458862305, -4.581900119781494, -4.1479997634887695, -4.941800117492676, -4.922800064086914, -4.674900054931641, -4.978400230407715, -5.2322998046875, -4.835700035095215, -4.655700206756592, -4.999599933624268, -5.095699787139893, -5.2758002281188965, -4.292300224304199, -5.287199974060059, -5.504199981689453, -5.550300121307373, -5.713799953460693, -5.719699859619141, -5.760700225830078, -5.802800178527832, -5.8383002281188965, -5.933499813079834, -5.954599857330322, -5.98199987411499, -5.982800006866455, -6.042699813842773, -6.088799953460693, -6.133200168609619, -6.148900032043457, -6.193600177764893, -6.269599914550781, -6.152299880981445, -6.28000020980835, -6.307799816131592, -6.317500114440918, -6.322400093078613, -6.341800212860107, -6.319399833679199, -6.393599987030029, -6.417600154876709, -6.437600135803223, -6.475500106811523, -4.32420015335083, -2.61929988861084, -4.888599872589111, -3.032099962234497, -5.826600074768066, -4.837299823760986, -4.940999984741211, -5.523499965667725, -4.951200008392334, -5.250400066375732, -5.11269998550415, -5.650100231170654, -5.889699935913086, -5.375199794769287, -4.561500072479248, -5.351799964904785, -5.372600078582764, -4.7692999839782715, -5.195199966430664, -5.076900005340576, -5.4944000244140625, -5.399600028991699, -4.833199977874756, -4.87939977645874, -5.463600158691406, -5.569799900054932, -5.455100059509277, -5.366199970245361, -5.1894001960754395, -5.2906999588012695, -5.361299991607666, -5.395299911499023, -5.473700046539307, -4.320199966430664, -5.1519999504089355, -5.2667999267578125, -5.363999843597412, -5.374499797821045, -5.622700214385986, -5.670499801635742, -5.784900188446045, -5.840700149536133, -5.890999794006348, -6.093599796295166, -6.153200149536133, -6.223800182342529, -6.273799896240234, -6.307300090789795, -6.329500198364258, -6.502299785614014, -6.513299942016602, -6.521200180053711, -6.528800010681152, -6.5945000648498535, -6.611599922180176, -6.617099761962891, -6.657899856567383, -6.686399936676025, -6.742099761962891, -6.747000217437744, -6.820300102233887, -6.564000129699707, -6.855599880218506, -4.627299785614014, -6.747099876403809, -6.4980998039245605, -5.371099948883057, -6.030700206756592, -4.4105000495910645, -5.363399982452393, -5.8582000732421875, -6.030399799346924, -4.398900032043457, -5.315999984741211, -5.720900058746338, -4.310200214385986, -5.889999866485596, -4.533299922943115, -4.972400188446045, -5.639900207519531, -4.443699836730957, -5.717100143432617, -4.940000057220459, -5.675099849700928, -5.03380012512207, -5.358799934387207, -4.109399795532227, -5.48829984664917, -5.164100170135498, -5.514999866485596, -5.2399001121521, -5.304999828338623, -5.4618000984191895, -5.382400035858154, -5.472599983215332, -5.331099987030029, -5.550600051879883, -5.448500156402588, -5.486599922180176, -5.504799842834473, -4.06790018081665, -4.67080020904541, -4.809899806976318, -5.115300178527832, -5.251200199127197, -5.252600193023682, -5.264100074768066, -5.4710001945495605, -5.5903000831604, -5.742199897766113, -5.86269998550415, -6.080699920654297, -4.701499938964844, -6.221099853515625, -6.324699878692627, -6.405399799346924, -6.42549991607666, -6.582300186157227, -6.5954999923706055, -6.606800079345703, -6.67140007019043, -6.778299808502197, -6.815199851989746, -6.7677001953125, -6.831099987030029, -6.8445000648498535, -6.86899995803833, -6.882999897003174, -6.89169979095459, -6.898499965667725, -6.652100086212158, -6.186699867248535, -5.918399810791016, -5.890900135040283, -3.5380001068115234, -6.124899864196777, -5.904200077056885, -5.377500057220459, -5.0524001121521, -5.070700168609619, -4.530799865722656, -4.932499885559082, -5.4842000007629395, -5.502500057220459, -5.480999946594238, -4.950200080871582, -5.147299766540527, -4.969900131225586, -4.996699810028076, -4.739799976348877, -4.254799842834473, -4.688000202178955, -4.638299942016602, -3.799099922180176, -4.588900089263916, -4.587500095367432, -4.678699970245361, -4.751200199127197, -5.1707000732421875, -4.840400218963623, -4.998300075531006, -4.8607001304626465, -5.078499794006348, -5.18179988861084, -4.610099792480469, -4.813300132751465, -5.116300106048584, -5.282700061798096, -5.506800174713135, -5.541100025177002, -5.856599807739258, -5.891300201416016, -6.019000053405762, -6.073699951171875, -6.115099906921387, -6.229800224304199, -6.257199764251709, -6.2835001945495605, -6.468200206756592, -6.607399940490723, -6.635200023651123, -6.551000118255615, -6.708099842071533, -6.743199825286865, -6.762400150299072, -6.776599884033203, -6.795899868011475, -6.647200107574463, -6.872300148010254, -6.90369987487793, -6.902599811553955, -6.910099983215332, -6.8730998039245605, -6.954899787902832, -5.304200172424316, -6.321700096130371, -6.252200126647949, -5.94890022277832, -6.604899883270264, -4.114099979400635, -6.112199783325195, -5.9816999435424805, -6.022900104522705, -6.3470001220703125, -5.763999938964844, -5.365699768066406, -6.149199962615967, -4.99429988861084, -5.918399810791016, -5.494500160217285, -4.837500095367432, -3.979099988937378, -5.353499889373779, -4.944900035858154, -5.814300060272217, -5.522299766540527, -5.099400043487549, -5.281599998474121, -4.5929999351501465, -4.385700225830078, -4.980800151824951, -5.230400085449219, -4.752699851989746, -5.428599834442139, -5.379199981689453, -5.189300060272217, -5.38539981842041, -4.992000102996826, -5.0777997970581055, -4.297399997711182, -5.166100025177002, -5.106500148773193, -5.125500202178955, -4.898799896240234, -5.025400161743164, -5.120999813079834, -5.258999824523926, -5.347300052642822, -3.168100118637085, -3.744499921798706, -3.949199914932251, -4.088799953460693, -5.05210018157959, -5.155700206756592, -5.2154998779296875, -5.219799995422363, -5.390699863433838, -5.6508002281188965, -5.851500034332275, -6.011099815368652, -6.033199787139893, -6.045899868011475, -6.047900199890137, -6.0584001541137695, -6.0630998611450195, -6.067200183868408, -6.075099945068359, -6.309500217437744, -6.337399959564209, -6.376100063323975, -6.495299816131592, -6.523099899291992, -6.526400089263916, -6.564799785614014, -6.583199977874756, -6.595699787139893, -6.600900173187256, -6.652900218963623, -3.945199966430664, -6.180799961090088, -3.4430999755859375, -5.541600227355957, -6.360000133514404, -5.468400001525879, -6.393899917602539, -5.968299865722656, -5.040599822998047, -5.472499847412109, -5.337100028991699, -5.517199993133545, -4.896699905395508, -5.415599822998047, -5.433199882507324, -4.914400100708008, -4.650400161743164, -5.042399883270264, -4.551799774169922, -5.656000137329102, -4.212800025939941, -5.508500099182129, -5.124199867248535, -5.027699947357178, -5.151800155639648, -5.315700054168701, -5.322199821472168, -5.370500087738037, -5.418099880218506, -5.433800220489502, -3.89739990234375, -3.903599977493286, -4.436600208282471, -4.543700218200684, -4.983099937438965, -5.046800136566162, -5.093699932098389, -5.309100151062012, -5.458499908447266, -5.609000205993652, -5.656599998474121, -5.684100151062012, -5.684100151062012, -5.799099922180176, -5.808000087738037, -5.90310001373291, -5.920300006866455, -5.979400157928467, -6.018799781799316, -6.029900074005127, -6.0345001220703125, -6.087699890136719, -6.14870023727417, -6.283400058746338, -6.341100215911865, -6.391900062561035, -6.401000022888184, -6.427000045776367, -6.438499927520752, -6.4618000984191895, -5.018700122833252, -6.407400131225586, -5.392499923706055, -5.1381001472473145, -5.667900085449219, -3.8213999271392822, -5.630000114440918, -4.926599979400635, -4.917300224304199, -5.13670015335083, -5.414100170135498, -5.706099987030029, -4.0696001052856445, -4.73769998550415, -4.742099761962891, -5.10860013961792, -5.159299850463867, -4.329100131988525, -5.377999782562256, -3.941800117492676, -4.933700084686279, -5.350299835205078, -5.2642998695373535, -4.980400085449219, -5.190899848937988, -5.096199989318848, -5.130799770355225, -5.153800010681152, -5.263999938964844, -5.22160005569458, -4.2459001541137695, -5.133299827575684, -4.099599838256836, -5.264699935913086, -5.5584001541137695, -5.661300182342529, -5.686200141906738, -5.821400165557861, -5.939300060272217, -5.95419979095459, -5.950300216674805, -6.167799949645996, -6.179699897766113, -6.21150016784668, -6.27370023727417, -6.303899765014648, -4.813899993896484, -6.32859992980957, -6.329599857330322, -6.375199794769287, -6.424600124359131, -6.503600120544434, -6.5243000984191895, -6.538700103759766, -6.5395002365112305, -6.5406999588012695, -6.565899848937988, -6.591100215911865, -6.625199794769287, -6.6433000564575195, -5.526899814605713, -5.80649995803833, -6.399099826812744, -6.111999988555908, -4.338799953460693, -4.5640997886657715, -6.239299774169922, -6.186699867248535, -5.7540998458862305, -5.706399917602539, -4.389599800109863, -5.277100086212158, -5.782800197601318, -5.048399925231934, -4.824699878692627, -4.979499816894531, -5.185100078582764, -5.112500190734863, -5.7322001457214355, -5.174300193786621, -4.966400146484375, -4.668700218200684, -4.380899906158447, -5.520400047302246, -5.303299903869629, -5.060500144958496, -5.161600112915039, -5.477399826049805, -5.126399993896484, -5.350800037384033, -5.477099895477295, -5.310800075531006, -5.5015997886657715, -5.468200206756592, -3.4683001041412354, -4.0817999839782715, -4.346700191497803, -4.4953999519348145, -4.700399875640869, -4.759500026702881, -5.21120023727417, -5.353300094604492, -5.5833001136779785, -5.600900173187256, -5.601600170135498, -5.637400150299072, -5.776700019836426, -5.86899995803833, -5.930200099945068, -5.98829984664917, -6.087800025939941, -6.028200149536133, -6.170100212097168, -6.182600021362305, -6.2519001960754395, -5.822700023651123, -6.396399974822998, -6.416800022125244, -6.461100101470947, -6.5167999267578125, -6.55709981918335, -6.570199966430664, -6.61929988861084, -6.63670015335083, -5.568699836730957, -4.152900218963623, -6.164700031280518, -6.2480998039245605, -6.115099906921387, -6.318600177764893, -6.252299785614014, -4.4334001541137695, -3.8071000576019287, -4.44320011138916, -3.583400011062622, -4.230500221252441, -5.096799850463867, -5.489099979400635, -3.6903998851776123, -5.059899806976318, -5.438899993896484, -5.58519983291626, -5.1031999588012695, -4.641499996185303, -4.718699932098389, -5.338799953460693, -3.578399896621704, -4.441299915313721, -4.809199810028076, -4.948200225830078, -5.018799781799316, -4.649700164794922, -5.186800003051758, -5.254799842834473, -5.350200176239014, -5.2718000411987305, -5.297299861907959, -5.331900119781494, -4.4440999031066895, -5.10129976272583, -5.285799980163574, -5.401800155639648, -5.648200035095215, -5.682000160217285, -5.7230000495910645, -5.782400131225586, -5.8846001625061035, -5.991399765014648, -6.055099964141846, -6.055500030517578, -6.057000160217285, -6.063700199127197, -6.0578999519348145, -6.07420015335083, -6.081500053405762, -6.10129976272583, -6.1230998039245605, -6.150700092315674, -6.193900108337402, -6.211299896240234, -6.216800212860107, -6.228899955749512, -6.249000072479248, -6.2941999435424805, -6.34499979019165, -6.407899856567383, -6.444200038909912, -6.472499847412109, -5.6493000984191895, -4.82859992980957, -5.848499774932861, -5.914000034332275, -5.57390022277832, -5.796299934387207, -5.315100193023682, -5.236999988555908, -5.301300048828125, -5.421000003814697, -5.207200050354004, -5.241300106048584, -5.4232001304626465, -5.6722002029418945, -5.381499767303467, -5.67710018157959, -5.083799839019775, -5.381899833679199, -5.835400104522705, -5.540299892425537, -4.5833001136779785, -5.517399787902832, -4.539000034332275, -5.441199779510498, -5.284999847412109, -5.3429999351501465, -5.272900104522705, -5.267000198364258, -5.273799896240234, -5.567800045013428, -5.585700035095215, -4.970900058746338, -5.062900066375732, -5.126200199127197, -5.1697001457214355, -5.413599967956543, -5.433899879455566, -5.440999984741211, -5.4903998374938965, -5.568699836730957, -5.635300159454346, -5.263400077819824, -5.793799877166748, -5.794000148773193, -5.827600002288818, -5.904799938201904, -5.928899765014648, -5.946100234985352, -5.967899799346924, -6.020299911499023, -6.034800052642822, -6.037799835205078, -5.988800048828125, -6.089300155639648, -6.142899990081787, -6.189899921417236, -6.320099830627441, -6.330900192260742, -6.3471999168396, -6.35260009765625, -6.376699924468994, -4.298299789428711, -5.854300022125244, -4.46560001373291, -4.153600215911865, -4.279699802398682, -4.407299995422363, -4.986299991607666, -4.853700160980225, -5.231100082397461, -4.569699764251709, -4.7982001304626465, -4.670599937438965, -5.049099922180176, -5.576700210571289, -4.526899814605713, -5.679599761962891, -5.0507001876831055, -4.801199913024902, -5.484000205993652, -5.3491997718811035, -5.053299903869629, -4.873899936676025, -5.256199836730957, -5.2368998527526855, -5.179900169372559, -5.361700057983398, -5.255300045013428, -5.367499828338623, -4.425899982452393, -4.711999893188477, -4.765600204467773, -4.863399982452393, -5.031400203704834, -5.164899826049805, -5.322400093078613, -5.354400157928467, -5.384099960327148, -5.52400016784668, -5.56689977645874, -5.6168999671936035, -5.622900009155273, -5.705399990081787, -5.755899906158447, -5.766200065612793, -5.813700199127197, -5.481200218200684, -5.886000156402588, -5.997399806976318, -6.018599987030029, -6.107900142669678, -6.113800048828125, -6.136000156402588, -6.183800220489502, -6.2881999015808105, -6.3078999519348145, -6.317200183868408, -6.322400093078613, -6.334700107574463, -5.516499996185303, -5.383200168609619, -5.719399929046631, -5.346700191497803, -4.7692999839782715, -5.490699768066406, -5.137599945068359, -5.979499816894531, -4.931700229644775, -5.790299892425537, -5.584400177001953, -5.089399814605713, -3.5120999813079834, -5.13539981842041, -5.043000221252441, -4.780300140380859, -5.274099826812744, -5.212399959564209, -4.919600009918213, -5.204800128936768, -5.390100002288818, -5.252200126647949, -5.098100185394287, -5.345300197601318, -5.2505998611450195, -5.348899841308594, -5.360300064086914, -4.174099922180176, -4.7418999671936035, -4.906899929046631, -5.0920000076293945, -5.2144999504089355, -5.334099769592285, -5.412099838256836, -5.465799808502197, -5.477700233459473, -5.4893999099731445, -5.604899883270264, -5.684700012207031, -5.703800201416016, -5.714300155639648, -5.735400199890137, -5.813000202178955, -5.890100002288818, -5.9334001541137695, -5.963200092315674, -6.0503997802734375, -6.105299949645996, -6.127900123596191, -6.2027997970581055, -6.266499996185303, -6.279900074005127, -6.315100193023682, -5.721399784088135, -6.354000091552734, -6.3368000984191895, -6.361199855804443, -4.998000144958496, -4.268099784851074, -3.783900022506714, -4.817299842834473, -4.0706000328063965, -5.936299800872803, -4.471199989318848, -4.389599800109863, -4.63640022277832, -5.341599941253662, -4.830599784851074, -5.100599765777588, -5.219799995422363, -5.433000087738037, -5.036600112915039, -4.797999858856201, -4.053800106048584, -5.279200077056885, -5.338900089263916, -4.950799942016602, -5.086999893188477, -5.2357001304626465, -5.202099800109863, -4.992300033569336, -4.874300003051758, -5.296500205993652, -5.213799953460693, -5.273099899291992, -5.276899814605713, -4.195499897003174, -4.860300064086914, -4.968200206756592, -5.006800174713135, -5.12060022354126, -5.280900001525879, -5.454100131988525, -5.4664998054504395, -5.543600082397461, -5.709700107574463, -5.725500106811523, -5.781799793243408, -5.850599765777588, -5.872399806976318, -5.899400234222412, -6.220799922943115, -6.329599857330322, -6.3907999992370605, -6.406000137329102, -6.453700065612793, -6.467700004577637, -6.481599807739258, -6.484899997711182, -6.4878997802734375, -6.494200229644775, -6.512400150299072, -6.536099910736084, -6.554500102996826, -6.562399864196777, -6.56850004196167, -6.56279993057251, -6.47629976272583, -6.1132001876831055, -6.1031999588012695, -4.519499778747559, -5.748000144958496, -5.869999885559082, -4.776800155639648, -6.073299884796143, -5.106800079345703, -4.8902997970581055, -5.863500118255615, -5.734399795532227, -4.211999893188477, -4.1697001457214355, -4.520199775695801, -5.443299770355225, -4.809999942779541, -4.893199920654297, -5.4770002365112305, -5.007699966430664, -5.085299968719482, -4.406400203704834, -5.460999965667725, -5.005199909210205, -5.579699993133545, -4.99459981918335, -4.889699935913086, -5.139500141143799, -5.378499984741211, -5.425300121307373, -5.059299945831299, -5.295899868011475, -5.357399940490723, -5.423500061035156, -5.4440999031066895, -4.135700225830078, -4.195099830627441, -4.339000225067139, -4.498600006103516, -4.507599830627441, -4.598999977111816, -5.02839994430542, -5.098800182342529, -5.3059000968933105, -5.309500217437744, -5.409900188446045, -5.444499969482422, -5.504899978637695, -5.609000205993652, -5.646999835968018, -5.723899841308594, -5.74970006942749, -5.7708001136779785, -5.819799900054932, -5.872000217437744, -5.911200046539307, -5.969200134277344, -6.007599830627441, -6.053999900817871, -6.055200099945068, -6.143899917602539, -6.172900199890137, -6.244900226593018, -6.280700206756592, -6.373600006103516, -4.6407999992370605, -3.9681999683380127, -5.0289998054504395, -4.876100063323975, -4.564199924468994, -4.745699882507324, -5.053599834442139, -4.10830020904541, -4.394000053405762, -4.804500102996826, -5.111599922180176, -5.112299919128418, -4.606500148773193, -4.235799789428711, -4.577899932861328, -4.333899974822998, -4.599599838256836, -4.8343000411987305, -4.436299800872803, -4.749100208282471, -4.754799842834473, -4.498600006103516, -4.23960018157959, -4.991199970245361, -4.811699867248535, -3.28629994392395, -4.27370023727417, -4.701099872589111, -4.905399799346924, -5.064899921417236, -5.131899833679199, -5.143599987030029, -5.288899898529053, -5.509900093078613, -5.684500217437744, -5.712399959564209, -5.873199939727783, -5.873899936676025, -5.899700164794922, -5.918399810791016, -6.1433000564575195, -6.149700164794922, -6.193999767303467, -6.220099925994873, -6.220900058746338, -6.238999843597412, -6.244100093841553, -6.260300159454346, -6.287600040435791, -6.304999828338623, -6.335400104522705, -6.343299865722656, -6.343999862670898, -6.355199813842773, -6.402900218963623, -6.186100006103516, -4.110499858856201, -5.013899803161621, -6.0258002281188965, -4.406799793243408, -3.890500068664551, -4.242099761962891, -5.826700210571289, -5.041600227355957, -4.406099796295166, -5.860899925231934, -4.49459981918335, -4.389500141143799, -4.658599853515625, -4.149099826812744, -4.468900203704834, -4.131700038909912, -4.3383002281188965, -5.342899799346924, -4.721399784088135, -4.9141998291015625, -5.23859977722168, -4.810400009155273, -4.9274001121521, -5.146900177001953, -4.731200218200684, -5.091599941253662, -5.212399959564209, -5.221499919891357]}, \"token.table\": {\"Topic\": [1, 2, 3, 6, 7, 9, 11, 12, 13, 14, 16, 18, 20, 2, 3, 6, 7, 10, 11, 12, 13, 1, 2, 3, 4, 6, 7, 8, 9, 11, 13, 16, 4, 6, 13, 14, 16, 20, 14, 11, 14, 17, 14, 18, 1, 4, 6, 9, 11, 14, 11, 2, 2, 8, 10, 1, 2, 4, 5, 7, 10, 17, 2, 3, 4, 5, 6, 7, 9, 11, 12, 16, 17, 19, 20, 3, 6, 7, 9, 11, 12, 15, 17, 11, 14, 16, 19, 6, 6, 3, 4, 6, 8, 11, 17, 18, 3, 14, 14, 1, 2, 3, 4, 6, 11, 12, 14, 16, 17, 19, 20, 12, 2, 3, 4, 9, 12, 1, 2, 4, 6, 9, 10, 11, 13, 14, 15, 19, 6, 6, 17, 2, 7, 1, 9, 1, 8, 3, 2, 10, 1, 8, 11, 5, 7, 1, 2, 3, 4, 5, 6, 7, 8, 9, 10, 11, 12, 13, 14, 15, 16, 17, 18, 19, 20, 1, 3, 4, 13, 16, 20, 3, 7, 10, 13, 5, 8, 12, 3, 2, 17, 4, 4, 15, 8, 14, 1, 7, 11, 20, 2, 3, 4, 7, 9, 10, 17, 18, 5, 9, 11, 16, 11, 11, 4, 1, 3, 4, 5, 6, 9, 11, 13, 16, 18, 11, 8, 11, 16, 11, 1, 11, 16, 20, 1, 8, 1, 5, 7, 8, 20, 5, 7, 19, 1, 2, 12, 1, 2, 3, 4, 5, 6, 7, 8, 9, 10, 11, 12, 13, 14, 15, 16, 17, 18, 19, 20, 1, 2, 4, 6, 8, 11, 12, 13, 14, 15, 16, 19, 20, 6, 2, 17, 1, 3, 4, 5, 8, 9, 10, 13, 16, 18, 14, 15, 10, 17, 1, 2, 3, 5, 6, 7, 11, 12, 17, 18, 5, 1, 5, 12, 4, 6, 13, 5, 1, 2, 3, 4, 5, 6, 8, 12, 13, 14, 16, 18, 19, 20, 6, 17, 1, 3, 6, 5, 6, 1, 2, 4, 5, 7, 8, 9, 11, 12, 14, 16, 19, 20, 1, 1, 2, 3, 7, 13, 14, 19, 4, 7, 8, 10, 13, 3, 8, 1, 3, 4, 5, 7, 8, 9, 15, 18, 6, 20, 17, 10, 16, 1, 5, 7, 8, 10, 11, 15, 19, 20, 13, 16, 2, 3, 6, 12, 4, 13, 9, 15, 15, 13, 7, 1, 2, 3, 4, 5, 6, 8, 9, 11, 12, 13, 14, 15, 16, 17, 18, 20, 8, 8, 17, 9, 2, 11, 2, 18, 20, 5, 8, 7, 2, 17, 18, 6, 14, 1, 2, 3, 4, 5, 6, 7, 9, 10, 11, 12, 15, 16, 19, 12, 9, 5, 7, 1, 1, 2, 3, 5, 7, 8, 9, 10, 14, 16, 19, 20, 1, 5, 7, 15, 3, 11, 5, 19, 2, 4, 6, 9, 12, 14, 15, 16, 17, 18, 10, 13, 14, 15, 3, 14, 7, 17, 15, 20, 17, 18, 10, 9, 10, 13, 1, 16, 5, 19, 13, 9, 17, 4, 11, 2, 14, 15, 1, 8, 12, 7, 2, 3, 14, 17, 2, 4, 12, 15, 17, 10, 13, 9, 18, 4, 11, 1, 5, 7, 5, 7, 8, 15, 16, 10, 13, 13, 13, 4, 20, 1, 2, 12, 13, 17, 19, 10, 9, 9, 7, 12, 6, 5, 9, 8, 3, 4, 5, 6, 9, 12, 13, 14, 16, 18, 19, 1, 2, 3, 4, 5, 7, 8, 9, 10, 11, 12, 13, 14, 15, 16, 17, 18, 19, 4, 5, 7, 19, 2, 19, 19, 4, 1, 2, 5, 7, 8, 10, 14, 16, 17, 1, 5, 8, 5, 4, 8, 13, 1, 4, 5, 8, 13, 1, 4, 12, 19, 2, 5, 8, 11, 18, 2, 3, 4, 6, 7, 9, 10, 13, 15, 16, 20, 11, 14, 15, 19, 1, 3, 4, 7, 9, 10, 13, 14, 18, 9, 18, 18, 20, 11, 11, 19, 4, 5, 15, 11, 2, 18, 13, 11, 16, 1, 2, 7, 8, 9, 10, 12, 14, 15, 18, 6, 9, 11, 15, 6, 1, 5, 8, 11, 15, 17, 4, 14, 20, 4, 8, 11, 13, 14, 19, 1, 2, 3, 7, 8, 10, 12, 13, 14, 16, 17, 19, 20, 1, 5, 11, 1, 2, 3, 4, 5, 6, 8, 9, 11, 13, 15, 18, 20, 16, 8, 15, 13, 1, 3, 7, 8, 11, 12, 14, 18, 4, 11, 1, 2, 3, 4, 5, 8, 9, 12, 13, 15, 16, 17, 1, 2, 3, 4, 6, 9, 12, 13, 16, 17, 18, 19, 20, 12, 13, 8, 10, 11, 7, 13, 2, 3, 4, 14, 1, 3, 4, 6, 9, 11, 12, 13, 14, 17, 7, 12, 14, 3, 4, 20, 2, 12, 7, 8, 10, 15, 3, 4, 4, 1, 3, 13, 6, 9, 19, 2, 3, 20, 12, 4, 15, 12, 16, 9, 19, 6, 15, 1, 2, 3, 4, 5, 6, 8, 9, 10, 11, 12, 13, 14, 15, 16, 17, 18, 19, 20, 1, 2, 3, 5, 7, 8, 10, 11, 12, 16, 19, 20, 7, 10, 13, 19, 16, 9, 14, 17, 3, 7, 10, 13, 15, 5, 8, 15, 8, 11, 2, 6, 9, 12, 13, 3, 20, 11, 17, 2, 4, 5, 13, 4, 9, 4, 5, 7, 9, 11, 14, 17, 18, 1, 2, 3, 4, 5, 6, 7, 8, 9, 10, 11, 12, 13, 14, 15, 16, 19, 7, 10, 13, 14, 15, 7, 11, 19, 20, 6, 8, 10, 11, 12, 14, 17, 18, 1, 2, 3, 4, 5, 7, 8, 10, 13, 15, 13, 5, 20, 17, 13, 3, 8, 18, 6, 16, 1, 6, 12, 1, 14, 5, 20, 17, 10, 1, 2, 3, 5, 7, 8, 10, 11, 13, 15, 17, 14, 17, 7, 20, 18, 8, 9, 10, 15, 20, 2, 4, 9, 10, 20, 2, 10, 14, 15, 16, 1, 12, 3, 8, 12, 2, 3, 14, 17, 19, 13, 9, 16, 3, 4, 1, 8, 3, 9, 4, 16, 12, 20, 6, 12, 7, 13, 18, 4, 10, 7, 10, 14, 12, 16, 17, 19, 12, 7, 4, 3, 4, 5, 6, 7, 10, 11, 12, 13, 14, 17, 5, 9, 18, 3, 19, 20, 3, 17, 18, 3, 11, 3, 15, 10, 2, 3, 4, 10, 1, 2, 3, 4, 6, 8, 9, 10, 11, 12, 13, 14, 15, 16, 17, 18, 20, 4, 10, 16, 19, 1, 4, 11, 16, 19, 1, 3, 4, 8, 13, 16, 13, 5, 7, 5, 13, 6, 15, 12, 4, 1, 16, 1, 2, 7, 14, 3, 2, 3, 4, 5, 8, 9, 14, 18, 20, 1, 2, 3, 4, 6, 8, 11, 12, 13, 14, 15, 16, 18, 20, 2, 3, 4, 8, 12, 18, 20, 3, 11, 2, 3, 4, 5, 7, 8, 9, 10, 12, 13, 14, 15, 16, 18, 19, 9, 2, 3, 5, 7, 8, 10, 14, 15, 18, 12, 4, 7, 13, 2, 3, 4, 5, 6, 12, 15, 7, 9, 20, 4, 8, 15, 19, 13, 14, 9, 11, 1, 2, 5, 7, 8, 9, 12, 14, 15, 16, 1, 5, 7, 8, 17, 20, 17, 18, 16, 4, 13, 19, 1, 2, 3, 4, 5, 6, 7, 8, 9, 10, 11, 12, 13, 16, 17, 18, 19, 20, 14, 2, 3, 4, 5, 7, 8, 9, 11, 12, 13, 14, 15, 16, 19, 20, 3, 13, 7, 5, 17, 3, 1, 3, 4, 9, 10, 12, 14, 16, 18, 20, 4, 16, 17, 19, 1, 5, 14, 1, 4, 5, 7, 8, 13, 16, 18, 19, 2, 3, 4, 6, 7, 8, 9, 11, 13, 15, 16, 18, 20, 5, 6, 10, 12, 14, 17, 18, 10, 1, 5, 16, 14, 15, 5, 1, 2, 3, 10, 11, 12, 15, 17, 18, 2, 3, 4, 5, 7, 8, 9, 12, 13, 18, 20, 12, 3, 10, 16, 2, 4, 6, 11, 17, 18, 2, 14, 8, 17, 15, 4, 18, 5, 7, 1, 2, 3, 4, 5, 6, 7, 9, 11, 12, 13, 14, 16, 17, 18, 4, 2, 8, 3, 7, 9, 10, 11, 12, 15, 18, 9, 15, 16, 17, 4, 13, 5, 3, 8, 12, 14, 15, 16, 1, 1, 2, 3, 4, 6, 7, 9, 11, 12, 13, 14, 15, 17, 18, 6, 12, 15, 19, 11, 4, 6, 17, 18, 7, 10, 1, 2, 5, 7, 8, 10, 11, 13, 16, 19, 20, 7, 8, 7, 1, 2, 8, 9, 10, 18, 11, 14, 1, 1, 2, 4, 5, 7, 8, 9, 11, 13, 14, 15, 16, 17, 20, 5, 8, 16, 19, 7, 2, 13, 19, 1, 19, 13, 5, 7, 9, 20, 8, 5, 5, 9, 2, 11, 19, 11, 11, 18, 3, 4, 17, 2, 3, 6, 7, 10, 16, 20, 1, 2, 3, 4, 5, 7, 9, 10, 11, 13, 16, 19, 3, 4, 6, 10, 14, 15, 14, 15, 14, 14, 2, 19, 17, 3, 4, 15, 18, 2, 18, 15, 1, 2, 5, 7, 8, 9, 11, 12, 14, 16, 18, 1, 9, 12, 17, 9, 10, 13, 15, 16, 20, 5, 7, 8, 1, 2, 3, 4, 5, 6, 7, 8, 9, 10, 12, 14, 15, 16, 1, 2, 3, 4, 5, 9, 11, 12, 16, 17, 19, 4, 1, 3, 10, 20, 2, 4, 7, 8, 18, 6, 7, 18, 10, 15, 10, 1, 3, 4, 5, 6, 8, 9, 12, 15, 18, 19, 20, 4, 1, 4, 13, 3, 4, 7, 9, 10, 13, 15, 16, 18, 19, 20, 10, 10, 20, 20, 17, 1, 2, 3, 4, 5, 6, 7, 8, 10, 11, 12, 13, 16, 18, 19, 20, 2, 3, 13, 19, 1, 5, 9, 1, 3, 4, 8, 9, 12, 13, 17, 19, 1, 14, 1, 5, 7, 8, 19, 20, 2, 3, 4, 9, 19, 6, 1, 5, 8, 20, 1, 5, 8, 20, 5, 17, 1, 5, 7, 8, 20, 5, 7, 8, 11, 12, 16, 19, 1, 5, 7, 8, 19, 20, 1, 5, 8, 11, 2, 8, 8, 2, 3, 6, 10, 11, 12, 13, 14, 15, 17, 18, 20, 5, 9, 9, 2, 5, 7, 14, 3, 6, 8, 10, 12, 14, 15, 16, 20, 18, 2, 11, 7, 8, 2, 3, 5, 7, 9, 12, 16, 17, 1, 4, 7, 1, 3, 5, 6, 7, 8, 11, 12, 15, 4, 13, 2, 14, 11, 13, 10, 1, 12, 1, 9, 12, 1, 3, 5, 12, 16, 14, 5, 12, 16, 20, 6, 1, 7, 2, 19, 16, 5, 8, 11, 1, 4, 5, 7, 8, 12, 20, 1, 2, 5, 7, 8, 11, 13, 16, 19, 20, 1, 3, 5, 10, 1, 3, 9, 11, 14, 16, 3, 14, 17, 1, 5, 2, 1, 2, 3, 4, 5, 6, 7, 9, 11, 12, 15, 16, 17, 1, 2, 3, 5, 7, 8, 9, 10, 12, 14, 15, 16, 17, 18, 19, 20, 10, 10, 16, 10, 1, 5, 8, 20, 17, 7, 3, 7, 17, 2, 3, 14, 17, 14, 1, 2, 3, 4, 5, 6, 7, 8, 9, 10, 11, 12, 13, 14, 15, 16, 17, 18, 20, 1, 2, 3, 4, 5, 7, 8, 9, 11, 13, 14, 15, 16, 17, 18, 19, 20, 1, 5, 6, 11, 17, 19, 5, 6, 9, 10, 12, 15, 17, 1, 2, 3, 5, 8, 9, 10, 11, 14, 18, 8, 10, 11, 6, 12, 1, 2, 3, 4, 7, 11, 13, 14, 16, 18, 19, 8, 8, 1, 2, 3, 4, 5, 6, 7, 8, 9, 10, 11, 12, 13, 14, 16, 17, 18, 19, 9, 13, 17, 18, 19, 5, 11, 1, 5, 11, 2, 3, 4, 5, 6, 7, 8, 9, 12, 13, 14, 15, 16, 17, 4, 9, 16, 1, 2, 3, 4, 5, 6, 7, 9, 10, 12, 13, 14, 15, 16, 17, 18, 20, 12, 12, 1, 2, 7, 8, 9, 10, 14, 15, 16, 18, 20, 19, 3, 5, 7, 11, 20, 1, 4, 8, 9, 12, 16, 19, 20, 13, 2, 6, 9, 10, 12, 14, 16, 17, 18, 19, 13, 20, 14, 5, 18, 2, 6, 15, 18, 18, 10, 1, 2, 3, 4, 5, 6, 7, 8, 9, 10, 11, 12, 13, 14, 15, 16, 17, 18, 3, 5, 10, 14, 17, 16, 16, 10, 11, 7, 20, 15, 13, 14, 2, 3, 4, 5, 7, 8, 9, 10, 12, 13, 14, 15, 18, 19, 16, 10, 13, 14, 20, 1, 5, 7, 7, 11, 1, 2, 3, 4, 5, 6, 7, 8, 9, 10, 11, 12, 13, 14, 16, 17, 18, 19, 20, 7, 13, 9, 14, 16, 15, 1, 9, 10, 13, 19, 20, 1, 2, 3, 4, 5, 6, 8, 9, 10, 11, 12, 14, 15, 16, 18, 19, 20, 19, 2, 4, 14, 3, 4, 5, 6, 8, 9, 10, 11, 12, 16, 19, 4, 16, 14, 7, 7, 15, 7, 14, 7, 2, 4, 10, 13, 18, 19, 15, 12, 2, 4, 1, 5, 7, 8, 11, 20, 1, 5, 8, 10, 11, 15, 16, 1, 2, 6, 8, 11, 12, 13, 14, 16, 2, 8, 11, 20, 1, 13, 9, 6, 6, 12, 17, 1, 7, 8, 12, 17, 12, 1, 3, 4, 5, 6, 7, 8, 9, 11, 13, 20, 2, 7, 8, 9, 11, 12, 14, 1, 2, 3, 4, 5, 6, 7, 8, 9, 10, 11, 12, 13, 14, 17, 18, 19, 19, 4, 5, 8, 20, 5, 8, 9, 10, 15, 18, 5, 9, 17, 18, 15, 19, 5, 7, 8, 9, 12, 13, 14, 16, 19, 8, 1, 2, 3, 4, 5, 6, 9, 10, 12, 13, 14, 15, 17, 1, 6, 3, 5, 13, 14, 2, 4, 5, 7, 8, 9, 10, 11, 12, 15, 17, 18, 4, 19, 1, 3, 5, 7, 8, 10, 11, 13, 14, 16, 18, 19, 20, 4, 8, 18, 15, 1, 2, 4, 5, 7, 8, 13, 15, 16, 19, 2, 4, 3, 7, 18, 2, 3, 4, 5, 6, 8, 9, 11, 12, 15, 16, 17, 18, 1, 2, 3, 4, 5, 6, 8, 9, 10, 11, 12, 13, 14, 15, 16, 17, 18, 20, 1, 2, 3, 4, 5, 7, 8, 9, 10, 11, 14, 15, 16, 17, 18, 19, 20, 16, 16, 9, 11, 11, 1, 3, 4, 11, 13, 14, 16, 10, 16, 10, 4, 1, 3, 8, 10, 11, 18, 20, 2, 9, 2, 3, 4, 8, 4, 2, 3, 17, 8, 10, 8, 1, 3, 5, 18, 16, 16, 1, 1, 3, 14, 15, 2, 3, 5, 7, 10, 11, 13, 16, 17, 19, 1, 7, 13, 19, 1, 2, 3, 4, 5, 7, 8, 10, 11, 13, 16, 17, 18, 19, 20, 3, 8, 9, 1, 2, 3, 4, 5, 7, 8, 9, 10, 11, 12, 13, 14, 15, 16, 17, 18, 19, 15, 11, 1, 2, 3, 4, 5, 6, 7, 8, 9, 10, 11, 12, 13, 14, 15, 16, 17, 18, 19, 20, 1, 5, 8, 9, 10, 11, 15, 20, 6, 11, 1, 3, 4, 5, 7, 8, 11, 20, 17, 19, 20, 10, 15, 3, 18, 3, 4, 13, 3, 9, 10, 14, 12, 3, 7, 12, 10, 11, 19, 1, 2, 4, 5, 7, 8, 9, 10, 11, 12, 14, 15, 16, 17, 18, 19, 1, 12, 1, 2, 6, 10, 11, 16, 19, 20, 5, 10, 14, 1, 4, 19, 4, 7, 11, 15, 17, 19, 13, 10, 15, 1, 8, 1, 2, 3, 4, 5, 6, 7, 8, 9, 10, 11, 12, 13, 14, 15, 16, 17, 18, 19, 20, 2, 3, 6, 14, 2, 13, 15, 15, 18, 1, 4, 6, 8, 9, 12, 16, 18, 19, 1, 3, 4, 5, 7, 8, 9, 10, 12, 13, 14, 15, 16, 17, 18, 19, 20, 5, 3, 16, 1, 2, 3, 4, 5, 7, 8, 9, 10, 12, 15, 16, 17, 18, 19, 1, 8, 1, 2, 11, 16, 1, 2, 4, 14, 11, 2, 7, 11, 17, 18, 3, 1, 4, 14, 2, 7, 13, 18, 19, 14, 15, 9, 3, 4, 5, 6, 7, 8, 9, 13, 15, 17, 18, 19, 20, 3, 4, 12, 12, 2, 1, 5, 7, 8, 10, 11, 12, 14, 18, 19, 20, 11, 3, 3, 4, 1, 2, 5, 6, 11, 6, 6, 15, 5, 7, 1, 5, 7, 8, 11, 8, 2, 3, 4, 6, 9, 12, 17, 2, 3, 6, 13, 17, 1, 2, 3, 4, 5, 7, 8, 10, 11, 12, 14, 15, 16, 18, 20, 4, 12, 3, 12, 20, 1, 4, 12, 3, 2, 3, 4, 6, 7, 10, 13, 14, 15, 16, 17, 18, 19, 18, 10, 8, 16, 20, 19, 7, 3, 6, 3, 3, 6, 1, 10, 15, 7, 17, 1, 17, 15, 16, 19, 1, 2, 4, 6, 8, 9, 11, 12, 14, 15, 16, 18, 4, 13, 8, 10, 8, 20, 1, 2, 3, 8, 14, 4, 3, 4, 5, 6, 7, 8, 11, 12, 16, 17, 18, 19, 1, 2, 3, 4, 5, 8, 9, 11, 13, 14, 16, 17, 18, 19, 13, 14, 1, 2, 3, 4, 5, 6, 7, 8, 9, 10, 11, 12, 13, 14, 15, 16, 17, 18, 19, 20, 1, 2, 3, 4, 5, 6, 7, 8, 9, 10, 11, 12, 13, 14, 15, 16, 17, 18, 19, 20, 7, 1, 8, 2, 3, 6, 13, 14, 20, 12, 9, 10, 16, 2, 3, 10, 14, 2, 3, 19, 4, 14, 14, 9, 19, 17, 2, 2, 7, 10, 17, 18, 15, 4, 10, 18, 19, 8, 12, 3, 6, 8, 10, 18, 20, 3, 10, 15, 20, 15, 1, 2, 3, 4, 5, 6, 7, 8, 9, 10, 11, 12, 13, 14, 15, 16, 17, 18, 19, 20, 8, 6, 5, 6, 7, 18, 4, 18, 20, 1, 5, 12, 1, 2, 3, 4, 5, 6, 7, 8, 9, 10, 11, 12, 13, 14, 15, 16, 17, 18, 19, 20, 1, 2, 3, 4, 5, 6, 7, 8, 9, 10, 11, 12, 14, 15, 16, 18, 19, 15, 4, 1, 2, 4, 12, 13, 2, 7, 10, 11, 12, 16, 7, 11, 9, 15, 16, 9, 16, 20, 9, 10, 16, 10, 16, 6, 2, 3, 12, 1, 5, 7, 8, 10, 11, 12, 19, 2, 18, 6, 12, 16, 19, 10, 19, 1, 2, 3, 4, 6, 7, 8, 9, 11, 12, 13, 16, 17, 18, 19, 2, 20, 3, 7, 9, 10, 12, 15, 18, 16, 14, 3, 11, 19, 13, 19, 14, 4, 13, 14, 19, 1, 2, 3, 4, 5, 8, 9, 10, 11, 12, 14, 17, 18, 19, 1, 2, 3, 4, 5, 6, 7, 8, 9, 10, 11, 12, 14, 15, 17, 18, 20, 3, 2, 5, 8, 10, 15, 1, 3, 4, 5, 6, 7, 8, 10, 12, 13, 16, 17, 18, 20, 1, 2, 4, 6, 7, 8, 9, 11, 12, 13, 9, 16, 6, 14, 18, 18, 18, 13, 18, 12, 18, 1, 2, 3, 4, 5, 7, 8, 11, 12, 15, 17, 18, 20, 9, 1, 8, 11, 19, 1, 5, 1, 2, 3, 4, 9, 10, 12, 14, 16, 17, 3, 5, 7, 8, 9, 11, 12, 14, 15, 16, 19, 3, 7, 17, 2, 17, 5, 2, 3, 4, 9, 13, 17, 18, 1, 2, 3, 4, 6, 7, 8, 10, 11, 13, 17, 18, 19, 20, 1, 7, 8, 9, 10, 11, 14, 19, 1, 2, 3, 7, 8, 19, 3, 4, 17, 16, 14, 3, 11, 9, 3, 9, 16, 6, 17, 13, 14, 15, 6, 2, 10, 12, 15, 16, 17, 18, 1, 3, 4, 7, 9, 10, 12, 15, 16, 1, 2, 3, 5, 6, 7, 8, 10, 11, 12, 16, 17, 20, 2, 3, 1, 2, 3, 4, 5, 8, 11, 12, 13, 14, 15, 16, 18, 20, 2, 8, 10, 11, 13, 15, 16, 17, 18, 19, 20, 6, 19, 8, 17, 5, 1, 2, 3, 4, 5, 6, 7, 8, 9, 10, 11, 12, 14, 15, 16, 18, 19, 9, 10, 6, 12, 13, 2, 3, 4, 5, 8, 9, 11, 12, 15, 16, 17, 18, 20, 6, 2, 4, 2, 3, 4, 6, 7, 9, 12, 13, 16, 18, 19, 20, 1, 5, 8, 13, 16, 20, 2, 8, 18, 6, 17, 18, 17, 4, 9, 18, 16, 1, 2, 7, 8, 9, 10, 16, 10, 1, 15, 16, 10, 18, 1, 8, 12, 10, 1, 3, 6, 7, 9, 12, 10, 11, 2, 11, 1, 18, 20, 1, 5, 7, 8, 20, 1, 5, 8, 12, 1, 14, 2, 3, 4, 6, 7, 9, 10, 11, 12, 15, 17, 18, 16, 7, 4, 7, 4, 7, 13, 17, 18, 18, 7, 1, 5, 7, 8, 11, 19, 20, 3, 20, 3, 4, 13, 3, 2, 3, 4, 6, 9, 12, 14, 15, 16, 18, 1, 2, 3, 4, 5, 6, 8, 9, 10, 11, 12, 14, 15, 16, 17, 18, 9, 12, 13, 2, 3, 4, 5, 6, 7, 8, 9, 10, 12, 14, 15, 16, 18, 20, 1, 2, 3, 4, 5, 7, 8, 9, 10, 11, 14, 19, 4, 17, 2, 1, 2, 3, 4, 5, 6, 7, 8, 9, 10, 11, 12, 13, 14, 15, 16, 17, 18, 19, 20, 1, 2, 3, 4, 5, 6, 7, 8, 9, 11, 15, 17, 19, 1, 2, 3, 4, 6, 7, 8, 9, 10, 11, 12, 13, 14, 15, 16, 17, 18, 19, 20, 4, 18, 13, 2, 10, 11, 17, 2, 9, 1, 13, 13, 5, 11, 9, 11, 1, 9, 16, 2, 3, 4, 5, 8, 9, 11, 14, 18, 19, 20, 1, 2, 3, 4, 5, 6, 7, 8, 10, 12, 13, 14, 16, 19, 20, 20, 1, 2, 3, 4, 10, 12, 14, 16, 17, 18, 19, 12, 14, 18, 19, 20, 14, 1, 3, 4, 5, 11, 14, 15, 16, 18, 19, 20, 4, 14, 1, 2, 3, 4, 5, 7, 8, 9, 10, 11, 12, 13, 14, 15, 16, 17, 18, 19, 20, 10, 20, 4, 13, 7, 15, 5, 9, 14, 16, 18, 2, 9, 10, 8, 3, 5, 6, 9, 4, 9, 18, 1, 2, 3, 4, 5, 6, 7, 9, 11, 12, 14, 15, 16, 18, 19, 20, 8, 3, 4, 6, 13, 18, 20, 15, 7, 6, 6, 17, 1, 2, 6, 15, 15, 14, 4, 5, 6, 9, 11, 12, 13, 15, 17, 18, 19, 1, 4, 5, 7, 9, 11, 12, 13, 14, 17, 18, 19, 9, 9, 12, 18, 20, 20, 2, 12, 17, 13, 20, 4, 17, 1, 2, 3, 4, 5, 6, 9, 10, 12, 16, 17, 18, 2, 7, 9, 11, 12, 13, 16, 1, 3, 5, 8, 10, 11, 18, 19, 2, 8, 1, 3, 4, 5, 7, 10, 19, 20, 4, 5, 6, 7, 9, 10, 11, 12, 16, 18, 2, 3, 5, 6, 8, 14, 20, 1, 16, 1, 2, 3, 4, 5, 6, 7, 9, 10, 11, 12, 14, 15, 16, 17, 18, 1, 13, 14, 19, 20, 6, 2, 3, 4, 5, 6, 8, 15, 18, 20, 1, 3, 4, 8, 9, 12, 13, 14, 18, 19, 20, 14, 18, 2, 10, 15, 16, 18, 1, 2, 3, 4, 5, 6, 7, 8, 9, 10, 11, 12, 13, 14, 15, 17, 18, 20, 14, 1, 2, 3, 7, 9, 11, 16, 17, 18, 20, 7, 9, 16, 18, 10, 10, 16, 2, 8, 10, 15, 16, 18, 13, 17, 18, 17, 2, 3, 4, 7, 8, 9, 10, 11, 12, 13, 14, 15, 16, 18, 15, 2, 1, 2, 3, 4, 5, 6, 7, 9, 12, 16, 17, 19, 20, 1, 2, 4, 6, 7, 8, 10, 17, 19, 1, 2, 3, 4, 5, 6, 7, 9, 10, 11, 12, 14, 15, 16, 17, 18, 20, 1, 2, 3, 4, 5, 6, 7, 8, 9, 10, 11, 12, 13, 14, 15, 16, 17, 18, 19, 20, 2, 5, 1, 2, 3, 4, 5, 6, 7, 8, 9, 10, 11, 12, 13, 14, 15, 16, 17, 18, 19, 5, 8, 5, 14, 10, 1, 2, 3, 4, 5, 7, 10, 11, 13, 14, 17, 20, 1, 4, 5, 12, 14, 18, 8, 19, 8, 3, 5, 15], \"Freq\": [0.017586514353752136, 0.0003839850251097232, 0.00023039101506583393, 0.4693832993507385, 0.011826738715171814, 0.007295715622603893, 0.0707300454378128, 0.16273285448551178, 0.00030718802008777857, 0.16879981756210327, 0.040318429470062256, 0.02503582462668419, 0.02541980892419815, 0.08498142659664154, 0.17115418612957, 0.15010738372802734, 0.02640778012573719, 0.011317620053887367, 0.02203957550227642, 0.5339136719703674, 0.00019855474238283932, 0.06001866236329079, 0.000215894469874911, 0.1381724625825882, 0.012521879747509956, 0.09520946443080902, 0.013817246071994305, 0.003130469936877489, 0.044042471796274185, 0.4731327295303345, 0.11086180806159973, 0.04879214987158775, 0.43204402923583984, 0.11263144016265869, 0.061739709228277206, 0.18321023881435394, 0.1280328929424286, 0.0820963978767395, 0.9980074167251587, 0.16409985721111298, 0.7047688364982605, 0.1308644413948059, 0.7631933093070984, 0.2363591343164444, 0.03843602538108826, 0.041312187910079956, 0.2269555628299713, 0.000522939080838114, 0.6039946675300598, 0.08863817900419235, 0.9989994168281555, 0.9992130398750305, 0.835533618927002, 0.012680948711931705, 0.151232048869133, 0.024141767993569374, 0.022359490394592285, 0.023655692115426064, 0.6396758556365967, 0.212253138422966, 0.06691644340753555, 0.011017720215022564, 0.003986069466918707, 0.39670881628990173, 0.1904771775007248, 0.0003796256787609309, 9.490641969023272e-05, 0.06586505472660065, 0.002467566868290305, 0.011863302439451218, 9.490641969023272e-05, 0.1589682549238205, 0.011768396012485027, 0.05808272585272789, 0.09917720407247543, 0.44737479090690613, 0.47568410634994507, 0.007920734584331512, 0.004253727849572897, 0.018921753391623497, 0.02170867845416069, 0.02185535989701748, 0.0020535236690193415, 0.0458739772439003, 0.7998349666595459, 0.10136669129133224, 0.0525331012904644, 0.9987802505493164, 0.998677134513855, 0.25039318203926086, 0.14775454998016357, 0.5030421614646912, 0.04624378681182861, 0.004286009818315506, 0.03248343989253044, 0.015564982779324055, 0.9978717565536499, 0.0020179408602416515, 0.9986670017242432, 0.009866113774478436, 0.00018615307635627687, 0.09828882664442062, 0.06943509727716446, 0.4921887516975403, 0.06124436482787132, 0.017684543505311012, 0.11448414623737335, 0.029784493148326874, 0.0027922962326556444, 0.07874275743961334, 0.025502972304821014, 0.9988877773284912, 0.045060012489557266, 0.5311384201049805, 0.12443296611309052, 0.01165345124900341, 0.2877107858657837, 0.0001466636749682948, 0.007333183661103249, 0.14857029914855957, 0.19858261942863464, 0.015839677304029465, 0.053678907454013824, 0.15238356590270996, 0.3417263627052307, 0.05279892310500145, 0.004253246821463108, 0.024639498442411423, 0.9987207055091858, 0.9990665912628174, 0.9994664788246155, 0.9990670680999756, 0.9998170137405396, 0.9987499713897705, 0.9983362555503845, 0.9995278120040894, 0.998847484588623, 0.9993242621421814, 0.14001943171024323, 0.859788715839386, 0.0006116132135502994, 0.9991720914840698, 0.9990051984786987, 0.8935357332229614, 0.1057501882314682, 0.09512924402952194, 0.07031454145908356, 0.029613953083753586, 0.07340242713689804, 0.04583466053009033, 0.09877518564462662, 0.08207083493471146, 0.043974488973617554, 0.03262743353843689, 0.05736773461103439, 0.04181668907403946, 0.026302846148610115, 0.077308788895607, 0.024033434689044952, 0.0208339374512434, 0.01677875965833664, 0.08341015875339508, 0.010826206766068935, 0.04687635973095894, 0.022768517956137657, 0.0759047120809555, 0.29967576265335083, 0.44458475708961487, 0.08066929131746292, 0.0026287345681339502, 0.09644170105457306, 0.0005759760970249772, 0.9083143472671509, 0.012095498852431774, 0.07890872657299042, 0.07536974549293518, 0.8558814525604248, 0.06812265515327454, 0.999010443687439, 0.22748009860515594, 0.7722523212432861, 0.9979090094566345, 0.9985036253929138, 0.0006517647416330874, 0.9975696206092834, 0.9994228482246399, 0.16889925301074982, 0.09350263327360153, 0.23294585943222046, 0.5045358538627625, 0.5988363027572632, 0.07771356403827667, 0.014035225845873356, 0.03950656205415726, 0.03430832922458649, 0.01143610943108797, 0.15490730106830597, 0.06913648545742035, 0.9988812208175659, 0.14364081621170044, 0.8475826978683472, 0.008149833418428898, 0.9991459250450134, 0.9990981817245483, 0.9979837536811829, 0.4893419146537781, 0.009836018085479736, 0.05184401199221611, 0.15532712638378143, 0.18524500727653503, 0.025614630430936813, 0.03278672695159912, 0.004815550521016121, 0.037089984863996506, 0.007991764694452286, 0.9993299841880798, 0.1845313459634781, 0.7223994135856628, 0.09296239912509918, 0.9990614652633667, 0.5005341172218323, 0.013023743405938148, 0.44826316833496094, 0.038015250116586685, 0.98271244764328, 0.017035629600286484, 0.3728046715259552, 0.05134706199169159, 0.00736507261171937, 0.5450500845909119, 0.023450111970305443, 0.020658278837800026, 0.979054868221283, 0.9992650151252747, 0.00652212742716074, 0.9724491834640503, 0.02021859399974346, 0.07572353631258011, 0.15622535347938538, 0.0494295172393322, 0.15492954850196838, 0.05366787314414978, 0.08806066960096359, 0.04767478257417679, 0.040790822356939316, 0.045839060097932816, 0.02480924315750599, 0.05898606777191162, 0.031450238078832626, 0.0022676566150039434, 0.019545041024684906, 0.0076938350684940815, 0.017034420743584633, 0.05172416940331459, 0.03247608244419098, 0.012202152982354164, 0.02945253998041153, 0.023576322942972183, 0.5146435499191284, 0.09111930429935455, 0.05692301318049431, 0.07115376740694046, 0.03589548170566559, 0.008071173913776875, 0.0012743958504870534, 0.04481625556945801, 0.05331222712993622, 0.04970143735408783, 0.022939125075936317, 0.026549912989139557, 0.9990347027778625, 0.004292457364499569, 0.9954924583435059, 0.26759710907936096, 0.02549005299806595, 0.0407550111413002, 0.6433088779449463, 0.0014538053655996919, 0.00523369899019599, 0.005185239017009735, 0.004652176983654499, 0.0063482834957540035, 0.9991390705108643, 0.015864528715610504, 0.9839456677436829, 0.9997618198394775, 0.9995874762535095, 0.005977589171379805, 0.05448145791888237, 0.04782071337103844, 0.09034699201583862, 0.19589413702487946, 0.031595829874277115, 0.4910162687301636, 0.008880989626049995, 0.07241422683000565, 0.001537094358354807, 0.9974857568740845, 0.9985905289649963, 0.9982919692993164, 0.9985600113868713, 0.30953681468963623, 0.6321067214012146, 0.05818361043930054, 0.998734712600708, 0.02771604433655739, 0.0006885973853059113, 0.13703088462352753, 0.4339885115623474, 0.24720646440982819, 0.007230272516608238, 0.017214935272932053, 0.008435318246483803, 0.0321919284760952, 0.0005164480535313487, 0.07712290436029434, 0.005680928472429514, 0.003959435038268566, 0.0008607467170804739, 0.9677353501319885, 0.032238926738500595, 0.9484667181968689, 0.05104897543787956, 0.9995812177658081, 0.9990719556808472, 0.9985926747322083, 0.34564441442489624, 0.12452232837677002, 0.030386323109269142, 0.0006159389740787446, 0.012626749463379383, 0.08017472177743912, 0.0027717254124581814, 0.00010265650053042918, 0.0005132824881002307, 0.0674453154206276, 0.10368306189775467, 0.059130143374204636, 0.17246291041374207, 0.9992482662200928, 0.13199780881404877, 0.011050044558942318, 0.07493939250707626, 0.06830936670303345, 0.10427223891019821, 0.003616378176957369, 0.6055424213409424, 0.07574858516454697, 0.13290855288505554, 0.23096346855163574, 0.06784842163324356, 0.4921334385871887, 0.9983267784118652, 0.001257338561117649, 0.003164054825901985, 0.46455103158950806, 0.007910137064754963, 0.011300195939838886, 0.056161973625421524, 0.00836214516311884, 0.0014690253883600235, 0.0891585424542427, 0.3578771948814392, 0.024885989725589752, 0.9746165871620178, 0.9993098378181458, 0.9994677305221558, 0.9996741414070129, 0.39487922191619873, 0.053672902286052704, 0.008547441102564335, 0.015649359673261642, 0.066556915640831, 0.22644434869289398, 0.058072321116924286, 0.139775812625885, 0.03645232319831848, 0.9998449087142944, 0.9995566010475159, 0.0009203471709042788, 0.995815634727478, 0.0027610415127128363, 0.9977719187736511, 0.020524071529507637, 0.9792914390563965, 0.9551102519035339, 0.043896839022636414, 0.9988730549812317, 0.9991602301597595, 0.9986640810966492, 0.06095871329307556, 0.19415700435638428, 0.014994441531598568, 0.2748046815395355, 0.037205833941698074, 0.053811829537153244, 0.0011911472538486123, 0.22253432869911194, 0.032651446759700775, 0.0007006748346611857, 0.010510122403502464, 0.04855676740407944, 0.00014013497275300324, 0.005815601442009211, 0.002452361863106489, 0.03944799304008484, 7.006748637650162e-05, 0.9998550415039062, 0.9997183084487915, 0.9999282360076904, 0.9994029998779297, 0.847775399684906, 0.15199841558933258, 0.9997214674949646, 0.03797492757439613, 0.9619637727737427, 0.9740443229675293, 0.025874357670545578, 0.9995631575584412, 0.8468326330184937, 0.15243977308273315, 0.9998030066490173, 0.9997369050979614, 0.9989509582519531, 0.00901846494525671, 0.5848127603530884, 0.08232239633798599, 0.03792380169034004, 0.00023124269500840455, 0.00023124269500840455, 0.10267175734043121, 0.0011562134604901075, 0.015493260696530342, 0.05179836228489876, 0.08671601116657257, 0.006937280762940645, 0.011099649593234062, 0.00948095042258501, 0.9991300702095032, 0.9989655017852783, 0.944149374961853, 0.055551063269376755, 0.9996097087860107, 0.03471298888325691, 0.05415581539273262, 0.10298483073711395, 0.08025714010000229, 0.35059231519699097, 0.15199139714241028, 0.023437926545739174, 0.12065205723047256, 0.0011541403364390135, 0.01873258501291275, 0.03497932851314545, 0.026278886944055557, 0.048116009682416916, 0.006792847998440266, 0.1330266147851944, 0.8117453455924988, 0.998940110206604, 0.9989850521087646, 0.998845100402832, 0.9997240900993347, 0.03944118320941925, 0.0037081455811858177, 0.004213801585137844, 0.06118440255522728, 0.0025282809510827065, 0.31687790155410767, 0.030339373275637627, 0.09523192048072815, 0.3824446499347687, 0.06388123333454132, 0.0007091287989169359, 0.17515482008457184, 0.8176255226135254, 0.006382159423083067, 0.023414669558405876, 0.9763917326927185, 0.9996924996376038, 0.9991104006767273, 0.00427605677396059, 0.9948959350585938, 0.9995312690734863, 0.9983096122741699, 0.9984365105628967, 0.9989228248596191, 0.0020220328588038683, 0.9968622326850891, 0.09256485104560852, 0.9069920182228088, 0.9982768297195435, 0.9989205002784729, 0.9997361302375793, 0.0007398724555969238, 0.9988277554512024, 0.9990978837013245, 0.9998664855957031, 0.9596659541130066, 0.007714356295764446, 0.03240029513835907, 0.9569493532180786, 0.042984489351511, 0.9986652731895447, 0.9992402791976929, 0.00545604107901454, 0.23857779800891876, 0.21154558658599854, 0.5441160798072815, 0.018214935436844826, 0.025342518463730812, 0.0005939652910456061, 0.9556901454925537, 0.9993072152137756, 0.0011605741456151009, 0.9969331622123718, 0.021594079211354256, 0.9774162173271179, 0.9991387724876404, 0.9988049268722534, 0.20086990296840668, 0.017279131338000298, 0.7814487218856812, 0.4767184555530548, 0.49919089674949646, 0.004460819065570831, 0.000504998373799026, 0.01902160421013832, 0.0011564688757061958, 0.9980326294898987, 0.9999468326568604, 0.9991897940635681, 0.9968692064285278, 0.998744785785675, 0.1063135489821434, 0.015282572247087955, 0.20675769448280334, 0.07840623706579208, 0.18627019226551056, 0.4068708121776581, 0.9996321201324463, 0.9994037747383118, 0.9992786049842834, 0.9977902770042419, 0.9996811747550964, 0.9996355175971985, 0.962693452835083, 0.03645629808306694, 0.9993337988853455, 0.20144450664520264, 0.01722090318799019, 0.1503157913684845, 0.0037378703709691763, 0.11707544326782227, 0.24322856962680817, 0.04111657291650772, 0.044587451964616776, 0.09998803585767746, 0.041383564472198486, 0.03978161886334419, 0.01772715523838997, 0.19918276369571686, 0.33637553453445435, 0.03501388430595398, 0.012772360816597939, 0.020810138434171677, 0.020589925348758698, 0.029178237542510033, 0.05175008252263069, 0.0068266065791249275, 0.04415272921323776, 0.014534065499901772, 0.06859638541936874, 0.09744430333375931, 0.008478204719722271, 0.00044042622903361917, 0.035784631967544556, 0.00011010655725840479, 0.9980224967002869, 0.996267557144165, 0.00303185498341918, 0.9993636012077332, 0.17542621493339539, 0.8245031833648682, 0.9998713135719299, 0.9983677864074707, 0.15311415493488312, 0.03056405484676361, 0.07699790596961975, 0.26758241653442383, 0.0302701685577631, 0.06538943946361542, 0.0648016706109047, 0.31107741594314575, 0.9989708662033081, 0.001342360395938158, 0.9312625527381897, 0.06711801886558533, 0.9984235763549805, 0.1711397022008896, 0.6892589330673218, 0.13962124288082123, 0.3321459889411926, 0.09328071773052216, 0.037978578358888626, 0.43197858333587646, 0.10449662059545517, 0.13079561293125153, 0.6966148614883423, 0.0056101055815815926, 0.16686056554317474, 0.9077864289283752, 0.05164241045713425, 0.03919845446944237, 0.0012443953892216086, 0.9985487461090088, 0.020033281296491623, 0.008528224192559719, 0.003057287773117423, 0.21988335251808167, 0.10467188060283661, 0.058249376714229584, 0.00708003481850028, 0.2547203302383423, 0.006919125095009804, 0.0572839193046093, 0.2595476508140564, 0.9997077584266663, 0.999648928642273, 0.9998055100440979, 0.9992014765739441, 0.3296094834804535, 0.16152942180633545, 0.11056217551231384, 0.00015977192379068583, 0.027001455426216125, 0.03706708550453186, 0.040582068264484406, 0.2645823061466217, 0.02923826314508915, 0.9992151856422424, 0.9992923140525818, 0.9979308247566223, 0.9986953735351562, 0.9993922114372253, 0.9998458027839661, 0.9988772869110107, 0.9886136054992676, 0.009857970289885998, 0.999250054359436, 0.9997145533561707, 0.999365508556366, 0.9997193813323975, 0.9991276860237122, 0.9997416138648987, 0.9993190765380859, 0.0005882149562239647, 0.036273255944252014, 0.22979597747325897, 0.35763469338417053, 0.05440988391637802, 0.07019365578889847, 0.10029064863920212, 0.012450549751520157, 0.12656424939632416, 0.011568227782845497, 0.12249664217233658, 0.7263277173042297, 0.08105725795030594, 0.06967281550168991, 0.9991900324821472, 0.9994648694992065, 0.018636256456375122, 0.006044191308319569, 0.2070135474205017, 0.09393680095672607, 0.6741791367530823, 0.11641421914100647, 0.8832566738128662, 0.9985891580581665, 0.12825322151184082, 0.0003523440391290933, 0.06095551699399948, 0.13600479066371918, 0.6743864417076111, 0.9991335272789001, 0.27120330929756165, 0.0676787719130516, 0.0007933490560390055, 0.10264715552330017, 0.009215054102241993, 0.04515986889600754, 0.008787865750491619, 0.05590059235692024, 0.0001830805413192138, 0.10783444344997406, 0.11106886714696884, 0.0006712953327223659, 0.2186591923236847, 0.9028787612915039, 0.026790259405970573, 0.06956067681312561, 0.035359468311071396, 0.08139245957136154, 0.3428664207458496, 0.21182839572429657, 0.011166147887706757, 0.071485236287117, 0.0499192476272583, 0.08500503748655319, 0.10410790890455246, 0.00010947203554678708, 5.473601777339354e-05, 0.004652561619877815, 0.0020252326503396034, 0.9990836977958679, 0.0008292226702906191, 0.9983840584754944, 0.9985393285751343, 0.0032096481882035732, 0.2293115258216858, 0.05064111575484276, 0.13641004264354706, 0.08701712638139725, 0.014086789451539516, 0.4791291356086731, 0.9987788796424866, 0.9955558776855469, 0.004308599978685379, 0.0436963252723217, 0.02790689840912819, 0.2996319532394409, 0.04424712061882019, 0.015973027795553207, 0.0005507940077222884, 0.00018359800742473453, 0.036352407187223434, 0.028090495616197586, 0.032680444419384, 0.003121166257187724, 0.46744054555892944, 0.999519944190979, 0.1312030404806137, 0.7776984572410583, 0.017819205299019814, 0.0019527894910424948, 0.0025630362797528505, 0.03270922601222992, 0.0006102467305026948, 0.014890020713210106, 0.006224516779184341, 0.00024409868638031185, 0.012082885019481182, 0.0018307402497157454, 0.9996728897094727, 0.0002700359036680311, 0.8031452894210815, 0.19642139971256256, 0.9995754957199097, 0.0021264611277729273, 0.9973102807998657, 0.6114097237586975, 0.15378853678703308, 0.02407125011086464, 0.21048970520496368, 0.007292632013559341, 0.1273779720067978, 0.00429455004632473, 0.40231019258499146, 0.029008468613028526, 0.00024308772117365152, 0.3395935595035553, 8.102924039121717e-05, 0.052912093698978424, 0.03686830401420593, 0.10294031351804733, 0.8774731755256653, 0.019223792478442192, 0.06099734455347061, 0.8963634371757507, 0.04240059480071068, 0.9992482662200928, 0.9994858503341675, 0.16530819237232208, 0.20295263826847076, 0.6298624277114868, 0.0019095006864517927, 0.9992629289627075, 0.9967105984687805, 0.9968221783638, 0.9991727471351624, 0.9990648627281189, 0.997937798500061, 0.999582052230835, 0.8899139165878296, 0.10931560397148132, 0.2482829988002777, 0.7513647079467773, 0.9991459846496582, 0.9991620182991028, 0.9747723340988159, 0.02380017377436161, 0.9993038773536682, 0.9987084865570068, 0.9892827868461609, 0.009614021517336369, 0.8351115584373474, 0.16462773084640503, 0.15660706162452698, 0.08222340047359467, 0.017930101603269577, 0.14655420184135437, 0.005589090287685394, 0.11058146506547928, 0.04467521235346794, 0.06249278411269188, 0.03372209519147873, 0.012903671711683273, 0.03799831494688988, 0.049701642245054245, 0.032296691089868546, 0.03447230905294418, 0.08128563314676285, 0.023331640288233757, 0.015829505398869514, 0.002700768643990159, 0.049026452004909515, 0.24692216515541077, 0.012284322641789913, 0.0359807088971138, 0.12713183462619781, 0.11477483063936234, 0.034526944160461426, 0.16013233363628387, 0.03263704851269722, 0.01352002378553152, 0.042449966073036194, 0.025222839787602425, 0.15409919619560242, 0.306778222322464, 0.003769486676901579, 0.6210954189300537, 0.067850761115551, 0.9996299743652344, 0.1915772259235382, 0.7647638916969299, 0.04325937107205391, 0.9990126490592957, 0.6141979694366455, 0.17479023337364197, 0.16668307781219482, 0.04410291835665703, 0.9983957409858704, 0.9984416365623474, 0.9993466734886169, 0.09566239267587662, 0.9038266539573669, 0.9994158744812012, 0.096393883228302, 0.0010830772807821631, 0.9018939137458801, 0.00046417597332037985, 0.21819695830345154, 0.7807656526565552, 0.9986735582351685, 0.9995977282524109, 0.9992411732673645, 0.9956181049346924, 0.0032377825118601322, 0.9996801018714905, 0.010915729217231274, 0.9878734350204468, 0.05296356603503227, 0.6472012400627136, 0.027493825182318687, 0.0005060213152319193, 0.004048170521855354, 0.03491546958684921, 0.16867376863956451, 0.06392735987901688, 0.013147649355232716, 0.20297874510288239, 0.014195650815963745, 0.24013514816761017, 0.07312189042568207, 0.03534621745347977, 0.0379185825586319, 0.036918219178915024, 0.2196514904499054, 0.00019054564472753555, 0.027343299239873886, 0.016244016587734222, 0.00019054564472753555, 0.010527647100389004, 0.020293110981583595, 0.0028105482924729586, 0.048874955624341965, 0.02153886668384075, 0.0043640839867293835, 0.006053406745195389, 0.03955831006169319, 0.9284237027168274, 0.07782547175884247, 0.04313218966126442, 0.0797007828950882, 0.797945499420166, 0.01248862873762846, 0.019685465842485428, 0.01756874844431877, 0.5027202367782593, 0.061596453189849854, 0.02201385423541069, 0.36344024538993835, 0.00021167166414670646, 0.14713570475578308, 0.11320064961910248, 0.32150325179100037, 0.011646847240626812, 0.15316860377788544, 0.00050274160457775, 0.10591089725494385, 0.0016758053097873926, 0.06460229307413101, 0.08052244782447815, 0.9986214637756348, 0.9985374212265015, 0.998579204082489, 0.9992874264717102, 0.9989948272705078, 0.9989070296287537, 0.9992465972900391, 0.9997828006744385, 0.9988607168197632, 0.9990074038505554, 0.032411377876996994, 0.9168071746826172, 0.05059336870908737, 0.9997180104255676, 0.9988034963607788, 0.9991971254348755, 0.9983317852020264, 0.9987461566925049, 0.9991135001182556, 0.015058695338666439, 0.04336904361844063, 0.37420856952667236, 0.021383346989750862, 0.01264930423349142, 0.010691673494875431, 0.06821589171886444, 0.003162326058372855, 0.024395085871219635, 0.4049282968044281, 0.021533934399485588, 0.9992005228996277, 0.999534547328949, 0.0447448194026947, 0.9550984501838684, 0.9993032217025757, 0.9994643926620483, 0.42959266901016235, 0.07192037254571915, 0.3499540090560913, 0.14822614192962646, 0.007499094121158123, 0.354764848947525, 0.004037973936647177, 0.23477932810783386, 0.39831727743148804, 0.010701868683099747, 0.08716844767332077, 0.0006904431502334774, 0.8832493424415588, 0.018124131485819817, 0.14848805963993073, 0.8513315320014954, 0.9725238680839539, 0.027134191244840622, 0.998960554599762, 0.011811017990112305, 0.27519673109054565, 0.043996043503284454, 0.014468497596681118, 0.6543304324150085, 0.9986495971679688, 0.9672681093215942, 0.031002184376120567, 0.013207928277552128, 0.9855146408081055, 0.9995145201683044, 0.9995419383049011, 0.9991380572319031, 0.9992928504943848, 0.10095901042222977, 0.8986376523971558, 0.9990150332450867, 0.999893844127655, 0.9875081181526184, 0.01232424471527338, 0.9983863234519958, 0.11636699736118317, 0.8826140761375427, 0.997707724571228, 0.0012990985997021198, 0.9989402890205383, 0.993911862373352, 0.005456057842820883, 0.7528175115585327, 0.03234376013278961, 0.21386486291885376, 0.0009901151061058044, 0.9986290335655212, 0.9998858571052551, 0.9985544085502625, 0.04299607500433922, 0.16227133572101593, 0.2362194061279297, 0.3238951563835144, 0.0002590125077404082, 0.007381856441497803, 0.054392628371715546, 0.0005180250154808164, 0.044938668608665466, 0.1244555115699768, 0.0027196314185857773, 0.34707650542259216, 0.005770868621766567, 0.6468868851661682, 0.9995864629745483, 0.9986051917076111, 0.9979069232940674, 0.17164814472198486, 0.006687590386718512, 0.8203443884849548, 0.8904924988746643, 0.10870317369699478, 0.9989688396453857, 0.9989858269691467, 0.9988659024238586, 0.004620495717972517, 0.9756946563720703, 0.013861486688256264, 0.004620495717972517, 0.0009885943727567792, 0.2527712285518646, 0.16107909381389618, 0.13759997487068176, 0.0707462802529335, 0.009577007964253426, 0.018721505999565125, 0.0042015258222818375, 0.0256416667252779, 0.017176827415823936, 0.013902108184993267, 0.0063640763983130455, 0.1031845360994339, 0.07816074043512344, 0.08044686913490295, 0.002471485873684287, 0.01686789095401764, 0.8983219265937805, 0.06496793031692505, 0.012833170592784882, 0.023260122165083885, 0.01462989766150713, 0.7794111371040344, 0.018253816291689873, 0.182672381401062, 0.004831892903894186, 0.06981849670410156, 0.06649380922317505, 0.566731870174408, 0.11431820690631866, 0.10280966013669968, 0.07928108423948288, 0.9977613687515259, 0.9932386875152588, 0.006212055683135986, 0.9993970990180969, 0.9979896545410156, 0.8882700800895691, 0.11082801967859268, 0.9986520409584045, 0.9991840124130249, 0.999065101146698, 0.9985331296920776, 0.0007336878916248679, 0.8573142886161804, 0.0825398862361908, 0.05906187370419502, 0.9990730881690979, 0.011419473215937614, 0.012880103662610054, 0.2597266435623169, 0.013544026762247086, 0.18085259199142456, 0.12893381714820862, 0.0014606303302571177, 0.3451071083545685, 0.04594346508383751, 0.006468988489359617, 0.0017520177643746138, 0.4803224205970764, 0.1695414036512375, 0.029784301295876503, 0.00013477059837896377, 0.00013477059837896377, 0.006064676679670811, 0.0037735768128186464, 0.002560641383752227, 0.18530957400798798, 0.03530989587306976, 0.04582200199365616, 0.03328833729028702, 0.9986075162887573, 0.25742802023887634, 0.0017023159889504313, 0.08095458149909973, 0.010592188686132431, 0.6192647218704224, 0.02969595603644848, 0.9029040336608887, 0.09683828055858612, 0.08109603077173233, 0.012962594628334045, 0.01423969678580761, 0.542832612991333, 0.03690827265381813, 0.0012771028559654951, 0.0018517991993576288, 0.05306362360715866, 0.02905409038066864, 0.09073816239833832, 0.04093114659190178, 0.006066238507628441, 0.03320467472076416, 0.032374557107686996, 0.023498693481087685, 0.9986760020256042, 0.00015005578461568803, 0.0004501673683989793, 0.04966846853494644, 0.06422387808561325, 0.039014507085084915, 0.2409895956516266, 0.010503905825316906, 0.5901694297790527, 0.004951841197907925, 0.9990478157997131, 0.1591755747795105, 0.22046731412410736, 0.6202358603477478, 0.07276777923107147, 0.08670203387737274, 0.09083070605993271, 0.050576187670230865, 0.6990351676940918, 0.9811725616455078, 0.01689734496176243, 0.1787635236978531, 0.8208662867546082, 0.9982358813285828, 0.00685126194730401, 0.4952891170978546, 0.49785834550857544, 0.999204695224762, 0.9998522400856018, 0.9988455176353455, 0.9994558095932007, 0.9993879199028015, 0.1667148470878601, 0.0002572759985923767, 0.15050645172595978, 0.046566955745220184, 0.5660071969032288, 0.02881491184234619, 0.0010291039943695068, 0.010805591940879822, 0.0030873119831085205, 0.02572759985923767, 0.6757042407989502, 0.05606762692332268, 0.018122009932994843, 0.12200451642274857, 0.017186131328344345, 0.1107739731669426, 0.7525941133499146, 0.24728302657604218, 0.9990342855453491, 0.01000975165516138, 0.7838979959487915, 0.20602160692214966, 0.004098120611160994, 0.23481014370918274, 0.09324239194393158, 0.12063081562519073, 0.039074160158634186, 0.05680563300848007, 0.0049502053298056126, 0.05911843478679657, 0.0678827315568924, 0.05664332956075668, 0.016960538923740387, 0.07185912877321243, 0.038343802094459534, 0.01769089698791504, 0.013471050187945366, 0.07904098182916641, 0.01769089698791504, 0.007749911397695541, 0.9997581243515015, 0.009247586131095886, 0.10817930847406387, 0.002966206753626466, 0.025474481284618378, 0.3877006769180298, 0.11498413234949112, 0.019891032949090004, 0.10032758116722107, 0.00017448274593334645, 0.05443861708045006, 0.020065516233444214, 0.024253102019429207, 0.009771034121513367, 0.0010468964464962482, 0.1216144785284996, 0.9983171224594116, 0.9981697201728821, 0.9989103078842163, 0.9999426007270813, 0.9980361461639404, 0.9990235567092896, 0.023928679525852203, 0.0058492328971624374, 0.008153475821018219, 0.4369199573993683, 0.0012407463509589434, 0.2828901708126068, 0.006912729702889919, 0.22652482986450195, 0.00035449894494377077, 0.007267228327691555, 0.025787251070141792, 0.43856358528137207, 0.2104455977678299, 0.32495543360710144, 0.04600894823670387, 0.42338868975639343, 0.530565619468689, 0.48317378759384155, 0.0005752925062552094, 0.15748631954193115, 0.0004314693796914071, 0.17035849392414093, 0.05220779404044151, 0.027614040300250053, 0.05630675330758095, 0.05177632346749306, 0.38177672028541565, 0.047779981046915054, 0.0008490788168273866, 0.00270161428488791, 0.21165218949317932, 0.0028559924103319645, 0.11439406871795654, 0.020841024816036224, 0.0367419570684433, 0.005480417516082525, 0.16703695058822632, 0.0003859449061565101, 0.007564520463347435, 0.0826178565621376, 0.04751596972346306, 0.011557938531041145, 0.0021403590217232704, 0.011129867285490036, 0.844585657119751, 0.9984563589096069, 0.9988654851913452, 0.016467662528157234, 0.9642731547355652, 0.018907316029071808, 0.09691992402076721, 0.9028432369232178, 0.9991559982299805, 0.2836742103099823, 0.14063847064971924, 0.013424581848084927, 0.008949721232056618, 0.4137647747993469, 0.00015981645265128464, 0.0650452971458435, 0.01741999201476574, 0.056575022637844086, 0.00514547573402524, 7.566875865450129e-05, 0.05856762081384659, 0.1980251520872116, 0.1346147209405899, 0.024895021691918373, 0.24493977427482605, 0.0404827855527401, 0.2753586173057556, 0.017857827246189117, 0.9967917203903198, 0.9987217783927917, 0.8419701457023621, 0.015565017238259315, 0.14203079044818878, 0.42397618293762207, 0.0008462598198093474, 0.033568307757377625, 0.06629035621881485, 0.009026771411299706, 0.4660070836544037, 0.05448702350258827, 0.9449197053909302, 0.9988250136375427, 0.9985877275466919, 0.9989174604415894, 0.0016645712312310934, 0.995413601398468, 0.004780968185514212, 0.9932461380958557, 0.00578761100769043, 0.050381895154714584, 0.09096936881542206, 0.057505108416080475, 0.0008904016576707363, 0.03925187513232231, 0.03850987181067467, 0.24723486602306366, 0.013207624666392803, 0.18995235860347748, 0.03821307048201561, 0.010388019494712353, 0.09898298978805542, 0.055501703172922134, 0.06336691975593567, 0.9995689392089844, 0.1428435742855072, 0.8564711809158325, 0.012987627647817135, 0.15254449844360352, 0.015031976625323296, 0.12115772813558578, 0.6588816046714783, 0.0004810232494492084, 0.027237940579652786, 0.01166481338441372, 0.9993682503700256, 0.09503452479839325, 0.8769916296005249, 0.027462448924779892, 0.0046738991513848305, 0.9949563145637512, 0.9989224076271057, 0.019573744386434555, 0.0132082998752594, 0.028326231986284256, 0.009866440668702126, 0.9250583648681641, 0.003819267265498638, 0.999635636806488, 0.16657254099845886, 0.04404694586992264, 0.1026541069149971, 0.14322125911712646, 0.030127745121717453, 0.06172066926956177, 0.2792997658252716, 0.014010774902999401, 0.10320354998111725, 0.0003662947565317154, 0.0010073105804622173, 0.00045786844566464424, 0.010622547939419746, 0.042581766843795776, 0.9981669783592224, 0.0016745607135817409, 0.99881511926651, 0.9997289776802063, 0.9984979629516602, 0.0005100460257381201, 0.12700146436691284, 0.850246787071228, 0.021931979805231094, 0.9990796446800232, 0.9991868734359741, 0.14595946669578552, 0.0015833457000553608, 0.12933434545993805, 0.015208452008664608, 0.0799589604139328, 0.1075008362531662, 0.3562111258506775, 0.00800006277859211, 0.06316716223955154, 0.030208569020032883, 0.06291715800762177, 0.9988060593605042, 0.9984260201454163, 0.998428463935852, 0.032728347927331924, 0.7553260922431946, 0.0077224187552928925, 0.050379589200019836, 0.036405690014362335, 0.11730721592903137, 0.02088487334549427, 0.9790828824043274, 0.999199628829956, 0.35793498158454895, 0.0003017492708750069, 9.052477980731055e-05, 0.14233513176441193, 0.0677427127957344, 0.15129707753658295, 6.03498519922141e-05, 0.19900363683700562, 0.0026553934440016747, 0.04161122441291809, 0.013970990665256977, 0.006306559778749943, 0.010923323221504688, 0.005763411056250334, 0.998875617980957, 0.9987204074859619, 0.004205512814223766, 0.9953047633171082, 0.9982632994651794, 0.9994391202926636, 0.795863926410675, 0.20383620262145996, 0.13278475403785706, 0.867059588432312, 0.9995852112770081, 0.9963656067848206, 0.0034501899499446154, 0.9998936057090759, 0.9983133673667908, 0.9984462261199951, 0.9987859725952148, 0.997943639755249, 0.9990713596343994, 0.9995146989822388, 0.9999306797981262, 0.9996576905250549, 0.9991389513015747, 0.9990312457084656, 0.9997585415840149, 0.8799179792404175, 0.020610691979527473, 0.09882562607526779, 0.07893332839012146, 0.006533867213875055, 0.004953092895448208, 0.087153360247612, 0.35967886447906494, 0.02508161962032318, 0.4375583231449127, 0.0006862091831862926, 0.05329557880759239, 0.08280257135629654, 0.11585498601198196, 0.0005718409665860236, 0.024589162319898605, 0.0790284276008606, 0.03533977270126343, 0.04311681166291237, 0.45552852749824524, 0.0984710156917572, 0.010750610381364822, 0.13690192997455597, 0.10052945464849472, 0.007072424050420523, 0.0588526725769043, 0.016165541484951973, 0.6802156567573547, 0.0004596745129674673, 0.9993323683738708, 0.9990611672401428, 0.9987794756889343, 0.1412758231163025, 0.8586669564247131, 0.9988927245140076, 0.009201308712363243, 0.10203228145837784, 0.022901033982634544, 0.8659453392028809, 0.9988752603530884, 0.9988102316856384, 0.9995793104171753, 0.025715580210089684, 0.4946804940700531, 0.00470686936751008, 0.1333995759487152, 0.004821671172976494, 0.04649468511343002, 0.040065791457891464, 0.007117704953998327, 0.004362464416772127, 0.17266175150871277, 0.065781369805336, 0.9995816946029663, 0.0008267530356533825, 0.9987176656723022, 0.9991495609283447, 0.06961987912654877, 0.19838979840278625, 0.009395998902618885, 0.4062650799751282, 0.0008948569884523749, 0.3153476119041443, 0.48088857531547546, 0.4919523596763611, 0.027144860476255417, 0.06066298484802246, 0.05122651904821396, 0.0036397790536284447, 0.5842519402503967, 0.002830939367413521, 0.0018872928339987993, 0.0001348066289210692, 0.0016176796052604914, 0.0014828729908913374, 0.016041988506913185, 0.008358011022210121, 0.0001348066289210692, 0.20018784701824188, 0.06753811985254288, 0.11219441145658493, 0.01028956938534975, 0.14778870344161987, 0.020884014666080475, 0.07431355118751526, 0.07324648648500443, 0.0005335332243703306, 0.00030487612821161747, 0.05541123449802399, 0.04405459761619568, 0.46089646220207214, 0.9970557689666748, 0.9998061060905457, 0.9997137188911438, 0.9987474679946899, 0.9996058940887451, 0.012345543131232262, 0.10217906534671783, 0.7123640775680542, 0.06093969941139221, 0.1121605709195137, 0.9983989596366882, 0.998872697353363, 0.9979915618896484, 0.9996467232704163, 0.999187171459198, 0.9990691542625427, 0.11356823146343231, 0.4454953670501709, 0.1785222440958023, 0.013503951951861382, 0.0055366200394928455, 0.0009452766389586031, 0.003105908865109086, 0.06022762507200241, 0.07292133569717407, 0.06819495558738708, 0.003105908865109086, 0.03470515459775925, 0.998643159866333, 0.09017715603113174, 0.8859070539474487, 0.02365758642554283, 0.011517426930367947, 0.0010749598732218146, 0.018888579681515694, 0.06756890565156937, 0.014588740654289722, 0.19164998829364777, 0.038698554039001465, 0.1197812408208847, 0.0867646187543869, 0.44933322072029114, 0.9983490109443665, 0.9986357092857361, 0.9997022151947021, 0.9987511038780212, 0.9985018372535706, 0.9994711875915527, 0.15668326616287231, 0.042752306908369064, 0.34901225566864014, 0.01703324168920517, 0.08460219204425812, 0.07050182670354843, 0.028200730681419373, 0.0922727882862091, 0.00011280292528681457, 0.03248724341392517, 0.001466437941417098, 0.021770963445305824, 0.07185546308755875, 0.027749519795179367, 0.002030452713370323, 0.001466437941417098, 0.8507066965103149, 0.032733477652072906, 0.1116575300693512, 0.004364463500678539, 0.037769000977277756, 0.9621492624282837, 0.9994563460350037, 0.07075781375169754, 0.00163383933249861, 0.09162068367004395, 0.07377412915229797, 0.23502150177955627, 0.0042731184512376785, 0.08018380403518677, 0.04222846403717995, 0.4004163146018982, 0.9941853880882263, 0.005147409625351429, 0.5572666525840759, 0.11294406652450562, 0.11284054815769196, 0.20880676805973053, 0.0035197967663407326, 0.004555031191557646, 0.012887890450656414, 0.8282259702682495, 0.13031089305877686, 0.028460757806897163, 0.9993753433227539, 0.9998912215232849, 0.19837984442710876, 0.37183889746665955, 0.25787821412086487, 0.1718495935201645, 0.3118146061897278, 0.08090324699878693, 0.35086166858673096, 0.2563808858394623, 0.9981565475463867, 0.9992662668228149, 0.5246492028236389, 0.16343268752098083, 0.016322681680321693, 0.16152101755142212, 0.13402245938777924, 0.014342494308948517, 0.09210570901632309, 0.07148837298154831, 0.15978436172008514, 0.5604777932167053, 0.00022410147357732058, 0.10129386931657791, 0.3807730972766876, 0.3906823992729187, 0.00011303376959403977, 0.20666341483592987, 0.0013187273871153593, 0.020421434193849564, 0.15493468940258026, 0.021417440846562386, 0.15333977341651917, 0.6700925230979919, 0.9995579719543457, 0.9995720386505127, 0.9995107650756836, 0.005164068657904863, 0.2502728998661041, 0.055513739585876465, 0.022685017436742783, 0.08446941524744034, 0.3443327248096466, 0.061046671122312546, 0.022685017436742783, 0.0011065861908718944, 0.04721434414386749, 0.028402378782629967, 0.07690773904323578, 0.0217224583029747, 0.9782469868659973, 0.998899519443512, 0.046088386327028275, 0.9401281476020813, 0.00012490077642723918, 0.013614184223115444, 0.6728115677833557, 0.003672265913337469, 0.018361330032348633, 0.0013115234905853868, 0.07213379442691803, 0.12564395368099213, 0.09888887405395508, 0.00288535188883543, 0.003934570588171482, 0.9992415904998779, 0.9982998371124268, 0.9993800520896912, 0.9856075644493103, 0.014239191077649593, 0.029235994443297386, 8.701188926352188e-05, 0.00017402377852704376, 0.03854626417160034, 0.002175297122448683, 0.10371816903352737, 0.010789473541080952, 0.8153013586997986, 0.14411842823028564, 0.8540351390838623, 0.0013344299513846636, 0.0456220917403698, 0.054801035672426224, 0.12132567912340164, 0.016540279611945152, 0.6166252493858337, 0.00036352264578454196, 0.042804788798093796, 0.0004544032854028046, 0.1013319343328476, 0.3102046847343445, 0.6895601749420166, 0.9437499642372131, 0.05554582178592682, 0.8663922548294067, 0.13314267992973328, 0.9999203085899353, 0.9977917671203613, 0.0018981454195454717, 0.9997090697288513, 0.0016848259838297963, 0.9979785680770874, 0.02916334569454193, 0.0005986610776744783, 0.9449437260627747, 0.012315313331782818, 0.01291397400200367, 0.9987917542457581, 0.9991819858551025, 0.9989264011383057, 0.9996351003646851, 0.9994698166847229, 0.9991716146469116, 0.9994271397590637, 0.9991156458854675, 0.08478272706270218, 0.9150012731552124, 0.9986684322357178, 0.3647168278694153, 0.15217825770378113, 0.4830422103404999, 0.0024449778720736504, 0.0621722973883152, 0.8756514191627502, 0.019559822976589203, 0.03213399648666382, 0.0017464128322899342, 0.00628708628937602, 0.41080576181411743, 0.00012414800585247576, 0.05276290327310562, 0.07225413620471954, 0.16226144134998322, 0.05834956094622612, 0.12005112320184708, 0.023215677589178085, 0.08752434700727463, 0.012538948096334934, 0.0021691173315048218, 0.16578254103660583, 0.8320114016532898, 0.9999755620956421, 0.07564995437860489, 0.07438384741544724, 0.6950933337211609, 0.057291388511657715, 0.011711499653756618, 0.0854622945189476, 0.9029589295387268, 0.042015232145786285, 0.05479179322719574, 0.9988934993743896, 0.9989888668060303, 0.9993672370910645, 0.1979409009218216, 0.009866751730442047, 0.09191658347845078, 0.23740790784358978, 0.0013848072849214077, 0.02501308172941208, 0.042323172092437744, 0.21447202563285828, 0.020252807065844536, 0.10463950037956238, 8.655045530758798e-05, 0.029946457594633102, 0.024753430858254433, 0.08774284273386002, 0.06914833188056946, 0.09720612317323685, 0.09803623706102371, 0.29850828647613525, 0.02755971997976303, 0.015606106258928776, 0.040177423506975174, 0.002988403430208564, 0.09670805186033249, 0.011787591502070427, 8.301120396936312e-05, 0.08259615302085876, 0.020337745547294617, 0.02316012606024742, 0.02830682136118412, 0.9998634457588196, 0.9999406933784485, 0.9995158910751343, 0.9993377327919006, 0.47347643971443176, 0.025934414938092232, 0.43519890308380127, 0.06518275290727615, 0.9981186389923096, 0.999493420124054, 0.0018902512965723872, 0.9700769782066345, 0.027597669512033463, 0.0015982718905434012, 0.3455463647842407, 0.637710452079773, 0.014704100787639618, 0.9986132979393005, 0.15944325923919678, 0.17017166316509247, 0.05298784375190735, 0.13183724880218506, 0.07854412496089935, 0.02019207552075386, 0.09254337847232819, 0.020889857783913612, 0.07701772451400757, 0.043611396104097366, 0.021936532109975815, 0.04378584027290344, 0.003968636970967054, 0.05416535213589668, 0.008853113278746605, 0.002485849428921938, 0.016528718173503876, 0.0001308341888943687, 0.0009594506700523198, 0.01746411621570587, 0.09779904782772064, 0.005664037540555, 0.10535109788179398, 0.09845984727144241, 0.21882064640522003, 0.04776671528816223, 0.22127506136894226, 0.05220354348421097, 0.018030518665909767, 0.025204965844750404, 0.03483382984995842, 0.0001888012484414503, 0.003492823103442788, 0.011139273643493652, 0.0316242091357708, 0.010761670768260956, 0.05213288217782974, 0.021466480568051338, 0.720047116279602, 0.00286219734698534, 0.1954471915960312, 0.00797326397150755, 0.015068382024765015, 0.205388605594635, 0.01834411732852459, 0.006387683562934399, 0.0003275735361967236, 0.7124724388122559, 0.04192941263318062, 0.06512213498353958, 0.006782247219234705, 0.005714671220630407, 0.012496918439865112, 0.3650481700897217, 0.0001255971728824079, 0.3171328604221344, 0.21596433222293854, 0.0021351517643779516, 0.009545384906232357, 0.2988723814487457, 0.6370428204536438, 0.06411794573068619, 0.018827401101589203, 0.9810066223144531, 0.3032839596271515, 0.08309149742126465, 0.07336601614952087, 0.24332590401172638, 0.05476485192775726, 0.0005665329517796636, 0.2163211703300476, 0.00018884432211052626, 0.009253371506929398, 0.0005665329517796636, 0.015390811488032341, 0.9997075796127319, 0.999436616897583, 0.1151759922504425, 0.03675829619169235, 0.021801471710205078, 0.0027885602321475744, 0.018083391711115837, 0.010393724776804447, 0.16875015199184418, 0.02053394354879856, 0.1506667584180832, 0.10351473838090897, 0.014534314163029194, 0.037687815725803375, 0.022477487102150917, 0.009295200929045677, 0.19173464179039001, 0.04918006435036659, 0.008027673698961735, 0.018590401858091354, 0.9993484020233154, 0.9991620779037476, 0.9988303184509277, 0.9986920356750488, 0.9987732768058777, 0.2810664474964142, 0.7187607288360596, 0.0005959491245448589, 0.013110880739986897, 0.9859977960586548, 0.11057235300540924, 6.9324356445577e-05, 0.17573724687099457, 0.24811187386512756, 0.048041779547929764, 0.0974007248878479, 0.015043385326862335, 0.05469691753387451, 0.04443691298365593, 0.010675950907170773, 0.026828525587916374, 0.15473195910453796, 6.9324356445577e-05, 0.013518249616026878, 0.8594000339508057, 0.0022380209993571043, 0.13819779455661774, 4.638039899873547e-05, 0.06256715953350067, 0.044478803873062134, 0.14753605425357819, 0.03956248238682747, 0.07374483346939087, 0.03404321148991585, 0.2509179711341858, 0.03218799829483032, 0.035295482724905014, 0.04512812942266464, 0.0006957059958949685, 0.06544274091720581, 0.05240985006093979, 0.02968345582485199, 0.08496889472007751, 0.0012058904394507408, 0.9998506307601929, 0.999377965927124, 0.09942653030157089, 0.0010783788748085499, 0.13199357688426971, 0.073545441031456, 0.20295090973377228, 0.10503410547971725, 0.04723299294710159, 0.00916622020304203, 0.2428509145975113, 0.025126228109002113, 0.06135975942015648, 0.9984961748123169, 0.0015923988539725542, 0.07311765104532242, 0.8898856043815613, 0.031184477731585503, 0.0041136969812214375, 0.05624926835298538, 0.5983462333679199, 0.05796680226922035, 0.02640709839761257, 0.18442031741142273, 0.040576763451099396, 0.017175348475575447, 0.018892884254455566, 0.9995331168174744, 0.1494944542646408, 0.05580902844667435, 0.4553547501564026, 0.0787695050239563, 0.00033518936834298074, 0.0011731628328561783, 0.14161750674247742, 0.012569601647555828, 0.10390870273113251, 0.0010055680759251118, 0.9995709657669067, 0.9985841512680054, 0.9994804263114929, 0.9856529831886292, 0.013808664865791798, 0.9995098114013672, 0.9992639422416687, 0.998066246509552, 0.9992276430130005, 0.9995439052581787, 0.9991828203201294, 0.00691945618018508, 0.19506576657295227, 0.1633620709180832, 0.2706136405467987, 0.0005661373143084347, 0.017172832041978836, 0.0245326180011034, 0.031137552112340927, 0.04044736549258232, 0.0006290414603427052, 0.050071701407432556, 0.005095236003398895, 0.011825979687273502, 0.03667311742901802, 0.047115206718444824, 0.015726037323474884, 0.035352129489183426, 0.04755553603172302, 0.016468236222863197, 0.03328685835003853, 0.09810864180326462, 0.15837538242340088, 0.6934178471565247, 0.9996206760406494, 0.9986791014671326, 0.979936957359314, 0.01929853856563568, 0.9992724657058716, 0.9990088939666748, 0.9996503591537476, 0.003913156688213348, 0.9958983063697815, 3.363821087987162e-05, 0.0003027438942808658, 0.04564705118536949, 0.14413973689079285, 0.07027021795511246, 0.0161463413387537, 0.3362475633621216, 0.03158627822995186, 0.007232215255498886, 0.1768360733985901, 0.0001681910507613793, 0.06589725613594055, 0.004810263868421316, 0.10067916661500931, 0.9997548460960388, 0.23097935318946838, 0.7687105536460876, 0.9990215301513672, 0.999442994594574, 0.04026832431554794, 0.8008200526237488, 0.15880008041858673, 0.9142195582389832, 0.08555341511964798, 0.08783990889787674, 0.09080496430397034, 0.02143491432070732, 0.23374557495117188, 6.177208706503734e-05, 0.08580143004655838, 0.02291744388639927, 0.06584904342889786, 0.062266260385513306, 0.11674924194812775, 0.047070328146219254, 0.03527186065912247, 0.0025944276712834835, 0.0028415159322321415, 0.008215687237679958, 0.04157261177897453, 0.04540248215198517, 0.004324045963585377, 0.025264782831072807, 0.000756317691411823, 0.9990956783294678, 0.9995271563529968, 0.780997633934021, 0.2182108610868454, 0.9988202452659607, 0.08460075408220291, 0.41873306035995483, 0.43540915846824646, 0.05958658829331398, 0.0016269375337287784, 0.9982936978340149, 0.02585551142692566, 0.006050189957022667, 0.30980074405670166, 0.010704182088375092, 0.05548593029379845, 5.1711023843381554e-05, 0.14292927086353302, 0.00020684409537352622, 0.043178703635931015, 0.03278478980064392, 0.04245474934577942, 0.08413383364677429, 0.04716045409440994, 0.03361216560006142, 0.046901900321245193, 0.010549048893153667, 0.10823117196559906, 0.9998018145561218, 0.12350957840681076, 0.8707424998283386, 0.00494038313627243, 0.003913527820259333, 0.39451372623443604, 0.34092849493026733, 0.018815036863088608, 0.0743570327758789, 0.003763007465749979, 0.07450754940509796, 0.01068694144487381, 0.04771493747830391, 0.018815036863088608, 0.012192144058644772, 0.9988393783569336, 0.9999011754989624, 0.9985964894294739, 0.9981261491775513, 0.9164392948150635, 0.08287318795919418, 0.9997497797012329, 0.9983561038970947, 0.9993138909339905, 0.014372020959854126, 0.10192066431045532, 0.05869489535689354, 0.4720824658870697, 0.1684049814939499, 0.18453235924243927, 0.9986245036125183, 0.9990385174751282, 0.9868650436401367, 0.012666236609220505, 0.3775670528411865, 0.3036820888519287, 0.029312044382095337, 0.07872378081083298, 0.10124287009239197, 0.10943163186311722, 0.5899015069007874, 0.13317303359508514, 0.023055797442793846, 0.0704578310251236, 0.183414027094841, 0.004716930910944939, 0.9947482943534851, 0.06157231703400612, 0.06671245396137238, 0.09810011833906174, 0.009077268652617931, 0.07032149285078049, 0.6058803200721741, 0.004921410698443651, 0.04418333247303963, 0.03904319182038307, 0.08487501740455627, 0.5578919053077698, 0.12880155444145203, 0.22831875085830688, 0.9992289543151855, 0.9993712902069092, 0.9983933568000793, 0.999290406703949, 0.853733241558075, 0.0012375934747979045, 0.14479844272136688, 0.9994685649871826, 0.6664865016937256, 0.03806552290916443, 0.2871907651424408, 0.008156897500157356, 0.9987996220588684, 0.2152746319770813, 0.22650030255317688, 0.038644131273031235, 0.009636197239160538, 0.06248626485466957, 0.0001986844727071002, 0.07023496180772781, 0.061095476150512695, 0.020464500412344933, 0.29315894842147827, 0.0021855290979146957, 0.027874337509274483, 0.03071865811944008, 0.02351304702460766, 0.01554895006120205, 0.0020858347415924072, 0.8823081254959106, 0.017824405804276466, 0.09869860857725143, 0.17858317494392395, 0.07621792703866959, 0.0030655476730316877, 0.04381929710507393, 0.08727794140577316, 0.026027100160717964, 0.0940101221203804, 0.037207331508398056, 0.06335464864969254, 0.18405307829380035, 0.006551856640726328, 0.013043604791164398, 0.029393190518021584, 0.0008415228803642094, 0.05716344714164734, 0.0006010877550579607, 0.9990865588188171, 0.9987003207206726, 0.11346642673015594, 0.1057962030172348, 0.7805114984512329, 0.16114766895771027, 0.09700342267751694, 0.05312560498714447, 0.00019676150986924767, 0.6809915900230408, 0.007083414122462273, 0.9986405372619629, 0.9983648061752319, 0.7600762248039246, 0.23972366750240326, 0.037936992943286896, 0.9616029262542725, 0.12629322707653046, 0.4871685802936554, 0.12419053912162781, 0.10651474446058273, 0.02010704018175602, 0.050858981907367706, 0.0832536593079567, 0.0012484763283282518, 0.00039425567956641316, 0.9990124702453613, 0.00023527751909568906, 0.11916806548833847, 0.24280640482902527, 0.10516905039548874, 0.0011763876536861062, 0.2888031601905823, 0.08117074519395828, 0.012352069839835167, 0.012469708919525146, 0.0018822201527655125, 0.07905324548482895, 0.0003529162786435336, 0.05540785565972328, 0.9995765089988708, 0.9995465874671936, 0.04572778195142746, 0.9447313547134399, 0.009284828789532185, 0.998810350894928, 0.0005630515515804291, 0.11123396456241608, 0.03215650096535683, 0.197443425655365, 0.02396097220480442, 0.04373033717274666, 0.09765816479921341, 0.015702882781624794, 0.02483683079481125, 0.07982820272445679, 0.012449695728719234, 0.36029043793678284, 0.9994059205055237, 0.9990635514259338, 0.047150619328022, 0.08686304092407227, 0.15431112051010132, 0.1660357415676117, 0.037569209933280945, 0.01147247664630413, 0.020171387121081352, 0.0001260711724171415, 0.004538562148809433, 0.04046884551644325, 0.042359914630651474, 0.3153040111064911, 0.07349949330091476, 0.025330541655421257, 0.4101465940475464, 0.5642117857933044, 0.9994595646858215, 0.26207035779953003, 0.0035153634380549192, 0.07663492858409882, 0.011249163188040257, 0.0006151886191219091, 0.15353350341320038, 0.06881324201822281, 0.03559305518865585, 0.23447474837303162, 0.15353350341320038, 0.9994187355041504, 0.9977970123291016, 0.9997729063034058, 0.9976739287376404, 0.9986751675605774, 0.09048470854759216, 0.0618271566927433, 0.14243414998054504, 0.027560032904148102, 0.00646319380030036, 0.014511698856949806, 0.46400853991508484, 0.03938889876008034, 0.04365704581141472, 0.010609393008053303, 0.001463364576920867, 0.00024389410100411624, 0.09719180315732956, 0.048310041427612305, 0.11813748627901077, 0.020545650273561478, 0.08006556332111359, 0.06774511933326721, 0.1616581678390503, 0.003262316109612584, 0.00010411647235741839, 0.028736146166920662, 0.009544010274112225, 0.028770850971341133, 0.06364987045526505, 0.0771850124001503, 0.03810662776231766, 0.0055181728675961494, 0.24828307330608368, 0.00013882196799386293, 0.00020823294471483678, 0.04794715344905853, 0.0008093712385743856, 0.3456338942050934, 0.14251409471035004, 0.04963064566254616, 0.020363781601190567, 0.06209496408700943, 0.035126712173223495, 0.010295202024281025, 0.037781450897455215, 0.00851458590477705, 0.029525863006711006, 0.0038202323485165834, 0.0014244933845475316, 0.15352153778076172, 0.030108610168099403, 0.02088177762925625, 0.9997218251228333, 0.9994729161262512, 0.9990987181663513, 0.9997488260269165, 0.9999111294746399, 0.07782155275344849, 0.4359421730041504, 0.2520003318786621, 0.007923648692667484, 0.0493813119828701, 0.01202696654945612, 0.1649816781282425, 0.9988318085670471, 0.999360978603363, 0.9991748929023743, 0.9983524680137634, 0.0003878447460010648, 4.84805932501331e-05, 0.036457404494285583, 0.8188372254371643, 0.10326366126537323, 0.02002248540520668, 0.020943615585565567, 0.007226177956908941, 0.9910187125205994, 0.9987529516220093, 0.08070850372314453, 0.6327216029167175, 0.2864738702774048, 0.9984371066093445, 0.0009436875698156655, 0.9880409240722656, 0.010380563326179981, 0.19063524901866913, 0.8091974258422852, 0.9997060894966125, 0.09460881352424622, 7.812453259248286e-05, 0.8746041655540466, 0.03054669313132763, 0.9989833831787109, 0.9991795420646667, 0.99921715259552, 0.03490001708269119, 0.9588631987571716, 0.004732205532491207, 0.0011830513831228018, 0.004827028140425682, 0.0011799403000622988, 0.019200846552848816, 0.04548133537173271, 0.03110751509666443, 0.002681682351976633, 0.0217752605676651, 0.06200049817562103, 0.7545181512832642, 0.0571734681725502, 0.04817938804626465, 0.08196371048688889, 0.7279787659645081, 0.1418941766023636, 0.18601132929325104, 0.0028494789730757475, 0.014280527830123901, 0.04426632449030876, 0.03581728786230087, 0.088499516248703, 0.15450139343738556, 0.18468599021434784, 0.09800881892442703, 0.0035121485125273466, 0.017196273431181908, 0.011364782229065895, 0.0001988008589250967, 0.033829279243946075, 0.12497946619987488, 0.9390778541564941, 0.06069863215088844, 0.998762309551239, 0.003359908005222678, 0.015057365410029888, 0.005475405603647232, 0.025759294629096985, 0.05257633700966835, 0.0663892924785614, 0.08175776153802872, 0.22586047649383545, 0.08586431294679642, 0.009270857088267803, 0.0003111025725957006, 0.045669857412576675, 0.02302159182727337, 0.21472300589084625, 0.026008175686001778, 0.04927865043282509, 0.06265605986118317, 0.00684425700455904, 0.9991956353187561, 0.9995549917221069, 0.06239509582519531, 0.06458189338445663, 0.08775721490383148, 0.07496919482946396, 0.03691412881016731, 0.04461546614766121, 0.054337214678525925, 0.044211383908987045, 0.07584866881370544, 0.04021809622645378, 0.024791652336716652, 0.027881694957613945, 0.003993286285549402, 0.10537046194076538, 0.002709729829803109, 0.060018140822649, 0.06650722771883011, 0.06952596455812454, 0.0530061200261116, 0.00035654340172186494, 0.3154803514480591, 0.1992800384759903, 0.11522617191076279, 0.0011132963700219989, 0.08335806429386139, 0.007932236418128014, 0.27414920926094055, 0.003200726816430688, 0.9833535552024841, 0.015961680561304092, 0.3144626021385193, 0.11119712144136429, 0.0019665085710585117, 0.1921815276145935, 0.0008938675164245069, 0.08169949054718018, 0.02359810285270214, 0.27405980229377747, 0.998582124710083, 0.9997202754020691, 0.9990091323852539, 0.9992576241493225, 0.9995198249816895, 0.02355966717004776, 0.9749214053153992, 0.052177492529153824, 0.8565804958343506, 0.09131061285734177, 0.012219753116369247, 0.06924526393413544, 0.9178392291069031, 0.9992923736572266, 0.999481737613678, 0.9996206760406494, 0.25287583470344543, 0.7467578053474426, 0.027266446501016617, 0.028894294053316116, 0.9436089396476746, 0.14798876643180847, 0.12593773007392883, 0.030170923098921776, 0.0005572466179728508, 0.039325688034296036, 0.08716928958892822, 0.0893186703324318, 0.06519784778356552, 0.07801452279090881, 0.05851089209318161, 0.0644017830491066, 0.022051043808460236, 0.009393585845828056, 0.16820886731147766, 0.00023881996457930654, 0.013373917900025845, 0.1381043642759323, 0.8617015480995178, 0.026793094351887703, 0.18992847204208374, 0.03111456148326397, 0.7387547492980957, 0.003025026759132743, 0.0010803667828440666, 0.008210787549614906, 0.0006482200114987791, 0.037421587854623795, 0.0008315908489748836, 0.9615962505340576, 0.8456246256828308, 0.0034613097086548805, 0.15070010721683502, 0.7438002228736877, 0.009446846321225166, 0.0058348169550299644, 0.03750953823328018, 0.18226855993270874, 0.02056078240275383, 0.9998266100883484, 0.13335146009922028, 0.8665199279785156, 0.9068068265914917, 0.0928996205329895, 0.10151233524084091, 0.0027758446522057056, 0.20493493974208832, 0.015670090913772583, 0.069724440574646, 0.02122177928686142, 0.04139888659119606, 0.0032534091733396053, 0.0759626254439354, 0.09130439162254333, 0.034892067313194275, 0.07915633916854858, 0.0011939116520807147, 0.04390610009431839, 0.005790471564978361, 0.10354198515415192, 0.016535677015781403, 0.04387625306844711, 0.04286142811179161, 0.00047756466665305197, 0.04112570360302925, 0.1266026645898819, 0.8297715783119202, 0.0020159659907221794, 0.9994784593582153, 0.00032535105128772557, 0.9981392025947571, 0.999373197555542, 0.9994828104972839, 0.02077443338930607, 0.13040584325790405, 0.15303146839141846, 0.0034966866951435804, 0.0016454997239634395, 0.519977867603302, 0.13760490715503693, 0.03105880692601204, 0.002056874567642808, 0.02476196549832821, 0.23984186351299286, 0.08619069308042526, 0.035714372992515564, 0.0289683248847723, 0.1507146656513214, 0.06468269973993301, 0.006349222268909216, 0.07055573165416718, 0.00015873055963311344, 0.049444567412137985, 0.006190491374582052, 0.06992080807685852, 0.03349214792251587, 0.1238098293542862, 0.008253988809883595, 0.0008730180561542511, 0.9992773532867432, 0.9759000539779663, 0.023658182471990585, 0.1977720409631729, 0.004057766869664192, 0.10991255939006805, 0.002999219112098217, 0.025405149906873703, 0.023288054391741753, 0.07727399468421936, 0.02787509560585022, 0.03105073980987072, 0.08891802281141281, 0.011996876448392868, 0.06333644688129425, 0.03422638401389122, 0.3020389974117279, 0.9989586472511292, 0.9972289800643921, 0.0023043998517096043, 0.8371208906173706, 0.04480673000216484, 0.11775427311658859, 0.9988059997558594, 0.06761785596609116, 0.043299153447151184, 0.8191251158714294, 0.06939727067947388, 0.9996737837791443, 0.20514753460884094, 0.04592214524745941, 0.0015021262224763632, 0.7059993147850037, 0.04141576588153839, 0.9981155395507812, 0.9991387128829956, 0.999360978603363, 0.999401330947876, 0.004903417080640793, 0.2650705575942993, 0.4551597237586975, 0.10758914798498154, 0.16724738478660583, 0.10652994364500046, 0.8933563828468323, 0.99761563539505, 0.38083842396736145, 0.11930055171251297, 0.11197250336408615, 0.007841006852686405, 0.1601177453994751, 0.02821296826004982, 0.011211906559765339, 0.0033708999399095774, 7.32804328436032e-05, 0.005862434860318899, 0.12069287896156311, 0.031217465177178383, 0.019199473783373833, 0.9993560910224915, 0.0022271398920565844, 0.9970163702964783, 0.9991706013679504, 0.9988704323768616, 0.15623241662979126, 0.46176794171333313, 0.0010162959806621075, 0.0053586517460644245, 0.019124843180179596, 0.2574000656604767, 0.023097636178135872, 0.005728214047849178, 0.000277171639027074, 0.06143971532583237, 0.0084999306127429, 0.999393105506897, 0.9991004467010498, 0.37016794085502625, 0.6294295191764832, 0.0642019659280777, 0.04245276376605034, 0.017357533797621727, 0.87456876039505, 0.0012547614751383662, 0.9995612502098083, 0.9995391964912415, 0.9998000264167786, 0.19454029202461243, 0.8050488829612732, 0.00025528480182401836, 0.35867512226104736, 0.0028081326745450497, 0.5720931887626648, 0.0661187618970871, 0.9988551735877991, 0.011547738686203957, 0.05184197425842285, 0.0068795038387179375, 0.5906545519828796, 0.004668234847486019, 0.0017198759596794844, 0.332427442073822, 0.21337904036045074, 0.0003381601127330214, 0.006425042171031237, 0.025700168684124947, 0.7537589073181152, 0.011639120988547802, 0.17376281321048737, 0.2206282913684845, 0.019570203498005867, 0.006180064287036657, 0.008034083992242813, 0.007931082509458065, 0.39943817257881165, 0.022145230323076248, 0.03296034410595894, 0.012669132091104984, 0.03337234631180763, 0.00010300107533112168, 0.024823257699608803, 0.026574276387691498, 0.03766448050737381, 0.9604442715644836, 0.9996644854545593, 0.9990850687026978, 0.998263418674469, 0.014864880591630936, 0.9832056760787964, 0.0010617771185934544, 0.999129593372345, 0.3452286422252655, 0.1553734987974167, 0.13751447200775146, 0.00013737709377892315, 0.00384655874222517, 0.013325578533113003, 0.09135577082633972, 0.05055477097630501, 0.019095415249466896, 0.01566098816692829, 0.047944605350494385, 0.11017642915248871, 0.009753773920238018, 0.9994001388549805, 0.9998307228088379, 0.9976217150688171, 0.0014313079882413149, 0.9978142380714417, 0.998893141746521, 0.9996259212493896, 0.9543769359588623, 0.04523596912622452, 0.9987127780914307, 0.9978193640708923, 0.9995737671852112, 0.9985176920890808, 0.9800678491592407, 0.01886880397796631, 0.26892367005348206, 0.7308087944984436, 0.9995837211608887, 0.999664843082428, 0.9992082118988037, 0.9990440607070923, 0.9990723133087158, 0.0195795688778162, 0.1328181028366089, 0.12938663363456726, 0.0006055536214262247, 0.03108508698642254, 0.4735429584980011, 0.001816660980693996, 0.04501282051205635, 0.04400356486439705, 0.00020185121684335172, 0.06640905141830444, 0.05550908297300339, 0.09726185351610184, 0.9026104807853699, 0.9991308450698853, 0.998939037322998, 0.8450049757957458, 0.15461552143096924, 0.7725030779838562, 0.013447275385260582, 0.0020027856808155775, 0.099280945956707, 0.11244211345911026, 0.9977378249168396, 0.00182966492138803, 0.0215203445404768, 0.17904578149318695, 0.1313873678445816, 0.0002613806864246726, 0.18976238369941711, 0.38022178411483765, 0.0054018679074943066, 0.0007841420592740178, 8.712690032552928e-05, 0.07771719247102737, 0.011936385184526443, 0.01699649542570114, 0.014447021298110485, 0.019715934991836548, 0.10520830750465393, 0.4328157603740692, 0.08141320943832397, 0.0019545969553291798, 0.14226067066192627, 0.09772984683513641, 0.006033755838871002, 0.00016996495833154768, 0.022860286757349968, 0.009178107604384422, 0.04920485243201256, 0.9978879690170288, 0.9994848370552063, 0.055250734090805054, 0.06769001483917236, 0.2321837693452835, 0.039544325321912766, 0.017715083435177803, 0.06647996604442596, 0.03985893726348877, 0.1032169833779335, 0.003509135451167822, 0.055831555277109146, 0.06996490061283112, 0.00021780841052532196, 0.029016919434070587, 0.00019360746955499053, 0.0022264858707785606, 0.00672785984352231, 0.03351829573512077, 0.04058496654033661, 0.024055728688836098, 0.11221973598003387, 0.018295129761099815, 0.022285979241132736, 0.03780096396803856, 0.051970724016427994, 0.01825028844177723, 0.020537178963422775, 0.09797759354114532, 0.1633109301328659, 0.01129993237555027, 0.11021918803453445, 0.04663464426994324, 0.0009416610701009631, 0.014932054094970226, 0.03551407530903816, 0.007488447707146406, 0.08811257034540176, 0.04197118058800697, 0.040670789778232574, 0.05640998110175133, 0.1152862161397934, 0.9978598952293396, 0.9996433258056641, 0.9995229244232178, 0.701222836971283, 0.14432182908058167, 0.08995844423770905, 0.0074426052160561085, 0.056952111423015594, 0.9994341135025024, 0.9986175298690796, 0.23904304206371307, 0.7574453353881836, 0.003567806677892804, 0.3210345506668091, 0.1426820307970047, 0.07894722372293472, 0.45689722895622253, 0.9993928670883179, 0.9987533092498779, 0.9989069700241089, 0.22076427936553955, 0.7786768674850464, 0.9983389973640442, 0.9978398084640503, 0.9991239905357361, 0.9985126852989197, 0.9994570016860962, 0.25769829750061035, 0.08440352976322174, 0.051608700305223465, 0.5866822004318237, 0.01950429193675518, 0.9986695647239685, 0.25284916162490845, 0.01361951045691967, 0.07697984576225281, 0.6564012169837952, 0.999882698059082, 0.999291718006134, 0.722301185131073, 0.15865574777126312, 0.00014397074119187891, 0.02375517226755619, 0.09444480389356613, 0.0007198536768555641, 0.0035300934687256813, 0.19465944170951843, 0.8013312220573425, 0.9990663528442383, 0.9994847178459167, 0.17530126869678497, 0.0539093092083931, 0.0038023805245757103, 0.007719984743744135, 0.05110553279519081, 0.012367338873445988, 0.06961813569068909, 0.09281649440526962, 0.0558527447283268, 0.0600929781794548, 0.07461883872747421, 0.008027248084545135, 0.09569709002971649, 0.03559642657637596, 0.005323332734405994, 0.09471384435892105, 0.024189285933971405, 0.018958132714033127, 0.0407354012131691, 0.019557295367121696, 0.9992923140525818, 0.9996063709259033, 0.9990089535713196, 0.9993252754211426, 0.9992688894271851, 0.9988750219345093, 0.0007287937914952636, 0.9037042856216431, 0.09547198563814163, 0.0919443815946579, 0.24725894629955292, 0.6606630086898804, 0.061805713921785355, 0.05528765916824341, 0.002845445182174444, 0.26442787051200867, 0.08906905353069305, 0.03163076192140579, 0.028487537056207657, 0.017866749316453934, 0.09194757789373398, 0.040762655436992645, 0.03622979670763016, 0.06233510002493858, 0.06971340626478195, 0.018197614699602127, 0.03454238176345825, 0.011117087677121162, 0.03229249268770218, 0.03034038655459881, 0.020811453461647034, 0.00019851942488458008, 0.001996213337406516, 0.1330108493566513, 0.26234447956085205, 0.28755977749824524, 0.11262845993041992, 0.008615236729383469, 0.034566011279821396, 0.02206341177225113, 0.0047278739511966705, 0.01512919645756483, 0.08447134494781494, 0.00010506386024644598, 0.0008405108819715679, 0.015864644199609756, 0.0026265964843332767, 0.006303831934928894, 0.007039278745651245, 0.9996207356452942, 0.9990067481994629, 0.0370437391102314, 0.562328577041626, 0.12125497311353683, 0.06419380754232407, 0.2148997038602829, 0.21533317863941193, 0.39817479252815247, 0.06115155667066574, 0.19770804047584534, 0.04613187536597252, 0.0813821479678154, 0.08955830335617065, 0.9101478457450867, 0.9511684775352478, 0.02717624232172966, 0.020565805956721306, 0.06675121933221817, 0.9328756928443909, 0.9996742010116577, 0.04575350508093834, 0.7311928272247314, 0.22272461652755737, 0.2773333787918091, 0.7221835851669312, 0.9987891912460327, 0.20767752826213837, 0.7919940948486328, 0.9979522824287415, 0.2562580108642578, 0.07302658259868622, 0.17688392102718353, 0.15633007884025574, 0.0015113117406144738, 0.0314352847635746, 0.012755470350384712, 0.29174360632896423, 0.9995680451393127, 0.9994831681251526, 0.4358815550804138, 0.5523431897163391, 0.011429920792579651, 0.9995080828666687, 0.9994411468505859, 0.9996765851974487, 6.182318611536175e-05, 0.020958058536052704, 0.05322976037859917, 0.07115848362445831, 0.04061783105134964, 0.11208543181419373, 0.03845401853322983, 0.0018546954961493611, 6.182318611536175e-05, 0.1750832498073578, 0.062008652836084366, 0.008655245415866375, 0.00562590966001153, 0.14083321392536163, 0.26930177211761475, 0.9988725185394287, 0.9995946884155273, 0.09330382943153381, 0.6542075276374817, 0.02233527973294258, 0.09474481642246246, 0.003962710965424776, 0.04539105296134949, 0.08609890192747116, 0.9994173049926758, 0.9987486004829407, 0.9990857839584351, 0.9997011423110962, 0.9987995028495789, 0.6368525624275208, 0.3630746304988861, 0.9994133114814758, 0.00022294260270427912, 0.690899133682251, 0.012150371447205544, 0.29668086767196655, 0.10908154398202896, 0.08176977187395096, 0.06480337679386139, 0.23810894787311554, 0.178602397441864, 0.006372745614498854, 0.0033932800870388746, 0.0001655258674873039, 8.276293374365196e-05, 0.04659552872180939, 0.17165032029151917, 0.00041381464689038694, 0.07721781730651855, 0.021849414333701134, 0.05111701413989067, 0.19335010647773743, 0.00396156869828701, 0.010542884469032288, 0.17590641975402832, 0.03035072796046734, 0.0003194813325535506, 0.06881628185510635, 0.00798703357577324, 0.16587471961975098, 0.16542743146419525, 0.008114825934171677, 0.01680471934378147, 0.010351195931434631, 0.013546008616685867, 0.03469567373394966, 0.04274660348892212, 0.9983043670654297, 0.08116260915994644, 0.024348782375454903, 0.24646377563476562, 0.635773777961731, 0.012174391187727451, 0.00400964543223381, 0.20637398958206177, 0.09811356663703918, 0.06480896472930908, 0.016775047406554222, 0.06300871074199677, 0.03526851162314415, 0.012765401042997837, 0.05253453552722931, 0.0007364654447883368, 0.08583914488554001, 0.000327317975461483, 0.34630241990089417, 0.01309271901845932, 0.04704340547323227, 0.05449703708291054, 0.3437223434448242, 0.025904420763254166, 0.053030747920274734, 0.09347586333751678, 0.00207724142819643, 0.07025963068008423, 0.0051320078782737255, 0.30474352836608887, 0.9997581839561462, 0.9995874166488647, 0.9992392063140869, 0.9998769760131836, 0.9991557002067566, 0.9975883960723877, 0.9981223344802856, 0.9991241097450256, 0.9997089505195618, 0.9988458156585693, 0.9993322491645813, 0.06074658781290054, 0.001063656178303063, 0.4818362593650818, 0.02741869166493416, 0.0518827848136425, 0.00330915255472064, 0.08367428928613663, 0.04750997573137283, 0.1271660029888153, 0.008154697716236115, 0.05861927196383476, 0.048337262123823166, 0.0003545520594343543, 0.9977748394012451, 0.27340349555015564, 0.20882000029087067, 0.002719305455684662, 0.514855146408081, 0.9991817474365234, 0.9999014735221863, 0.031018460169434547, 0.1611270159482956, 0.004707081709057093, 0.10910773277282715, 0.5113821625709534, 0.00024138879962265491, 0.011224579066038132, 0.04369137063622475, 0.1270911991596222, 0.00024138879962265491, 0.00031074092839844525, 0.0227876678109169, 0.01698717102408409, 0.3958839476108551, 0.00010358030704082921, 0.0227876678109169, 0.137968972325325, 0.10958796739578247, 0.22684086859226227, 0.04081064090132713, 0.026102237403392792, 0.07271283119916916, 0.2326810508966446, 0.6940770149230957, 0.9994534850120544, 0.9998324513435364, 0.9997701644897461, 0.0003038122958969325, 0.029469791799783707, 0.6726403832435608, 0.00121524918358773, 0.29165980219841003, 0.000911436858586967, 0.003645747434347868, 0.048568788915872574, 0.03236311301589012, 0.09361670166254044, 0.1079895868897438, 0.09824689477682114, 0.017652608454227448, 0.14623691141605377, 0.15163879096508026, 0.037620313465595245, 0.002170402556657791, 0.10152661055326462, 0.06617316603660583, 0.010466163977980614, 0.08565855771303177, 0.20659904181957245, 0.03024439699947834, 0.03336822986602783, 0.046715524047613144, 0.5605862736701965, 0.047993455082178116, 0.04927138611674309, 0.025132667273283005, 0.8341647386550903, 0.0048972489312291145, 0.015507955104112625, 0.06312009692192078, 0.04380317032337189, 0.03808971494436264, 0.005314112640917301, 0.6780182123184204, 0.3163459897041321, 0.9995512366294861, 0.998523473739624, 0.9974384307861328, 0.0019435667200013995, 0.9978094696998596, 0.9993243217468262, 0.9997300505638123, 0.9988077282905579, 0.9218730330467224, 0.07774357497692108, 0.7476751208305359, 0.15470470488071442, 0.09683511406183243, 0.9993601441383362, 0.0395374521613121, 0.03036639280617237, 0.0008152051595970988, 0.08111291378736496, 0.0002038012898992747, 0.25210219621658325, 0.5957111716270447, 0.02571752481162548, 0.13530661165714264, 0.009730955585837364, 0.18836349248886108, 0.5859425067901611, 0.00023168940970208496, 0.05352025479078293, 0.0004633788194041699, 0.0009267576388083398, 0.31899771094322205, 0.021032027900218964, 0.016103019937872887, 0.2644914984703064, 0.0013399244053289294, 0.05242454260587692, 0.18330644071102142, 0.08285997062921524, 0.026511361822485924, 0.0009331616456620395, 0.005359697621315718, 0.0008374527678824961, 0.025793544948101044, 0.9641177654266357, 0.035865668207407, 0.16125652194023132, 0.08942016959190369, 0.11307970434427261, 0.06039971858263016, 0.3443855941295624, 0.05403808876872063, 0.020871855318546295, 0.008077122271060944, 0.05739760026335716, 0.017297906801104546, 0.03073595091700554, 0.013152128085494041, 0.0009292264003306627, 0.029020454734563828, 0.0827026516199112, 0.020443353801965714, 0.029271164909005165, 0.07410715520381927, 0.004878527484834194, 0.00348466238938272, 0.6925185918807983, 0.004181595053523779, 0.06574396789073944, 0.022301839664578438, 0.00023231083468999714, 0.9995160698890686, 0.9991618990898132, 0.05437055602669716, 0.9454253911972046, 0.9995759725570679, 0.06594774127006531, 0.40862053632736206, 0.044390976428985596, 0.1544901728630066, 0.0007185589638538659, 0.08167620003223419, 0.009181587025523186, 0.005349272396415472, 0.004630713257938623, 0.03616746887564659, 0.026746360585093498, 0.0056686317548155785, 0.005269432440400124, 0.009021907113492489, 0.08806338906288147, 0.04471033439040184, 0.009341266006231308, 0.967520534992218, 0.03192678838968277, 0.38929054141044617, 0.5629015564918518, 0.04771948605775833, 0.011180989444255829, 0.2898382246494293, 0.10207471996545792, 0.009205038659274578, 4.819392052013427e-05, 0.09768906980752945, 4.819392052013427e-05, 0.04607338458299637, 0.11388222873210907, 0.033783938735723495, 0.0057350764982402325, 0.2895490527153015, 0.0008192966342903674, 0.9994881749153137, 0.0006061845342628658, 0.9989920854568481, 0.1153402030467987, 0.0004282433073967695, 0.026836581528186798, 0.03996937721967697, 0.18071867525577545, 0.000285495538264513, 0.4442310631275177, 0.06851892918348312, 0.000285495538264513, 0.027550319209694862, 0.05995406582951546, 0.035972438752651215, 0.6976870894432068, 0.2689440846443176, 0.00014513981295749545, 0.022496670484542847, 0.01045006699860096, 0.00014513981295749545, 0.27257096767425537, 0.47552546858787537, 0.2517983019351959, 0.09667473286390305, 0.018529323861002922, 0.8837681412696838, 0.9992478489875793, 0.9993403553962708, 0.9666180610656738, 0.03265601769089699, 0.9994884729385376, 0.20791412889957428, 0.012281847186386585, 0.15826037526130676, 0.1870349943637848, 0.09000839293003082, 0.01368548721075058, 0.3307326138019562, 0.9986687898635864, 0.9986653327941895, 0.9994598627090454, 0.9983478784561157, 0.23851805925369263, 0.7609573602676392, 0.010639673098921776, 0.9841697216033936, 0.004433196969330311, 0.9993535876274109, 0.02929026260972023, 0.11082801967859268, 0.041428569704294205, 0.15120108425617218, 0.5636396408081055, 0.10343948751688004, 0.9993258714675903, 0.9987056255340576, 0.0012087380746379495, 0.9972089529037476, 0.9995555281639099, 0.9978772401809692, 0.9996148347854614, 0.26354604959487915, 0.4893731474876404, 0.012292919680476189, 0.23082387447357178, 0.003891283879056573, 0.533926248550415, 0.1661364734172821, 0.29988712072372437, 0.9990408420562744, 0.053990066051483154, 0.9454005360603333, 0.005796235520392656, 0.07501010596752167, 0.08745496720075607, 0.0071600559167563915, 0.0395507849752903, 0.00017047752044163644, 0.0039209830574691296, 0.3719819486141205, 0.006819101050496101, 0.0006819100817665458, 0.35203608870506287, 0.04960895702242851, 0.9987718462944031, 0.9988191723823547, 0.9997528195381165, 0.9993721842765808, 0.696467399597168, 0.01550165843218565, 0.2037360817193985, 0.033217839896678925, 0.050934020429849625, 0.9988215565681458, 0.9994393587112427, 0.7301615476608276, 0.09873411804437637, 0.021193355321884155, 0.030696723610162735, 0.030108019709587097, 0.0417139045894146, 0.04743274673819542, 0.7887499332427979, 0.21116429567337036, 0.9991109371185303, 0.9992024302482605, 0.998798131942749, 0.9994149208068848, 0.02268986590206623, 0.11698699742555618, 0.07685276865959167, 0.0025617589708417654, 0.3976826071739197, 0.18359273672103882, 0.011588909663259983, 0.009759082458913326, 0.11735296249389648, 0.06087227538228035, 0.019087698310613632, 0.07816866785287857, 0.035221345722675323, 0.22359874844551086, 0.015338328666985035, 0.04533328115940094, 0.01442939043045044, 0.3385794162750244, 0.002613196847960353, 0.04567413404583931, 0.12066151946783066, 0.01738343946635723, 0.019769402220845222, 0.006248948629945517, 0.0069306520745158195, 0.010907256044447422, 0.8820900917053223, 0.10161257535219193, 0.01616104505956173, 0.001118792686611414, 0.0004195472283754498, 0.020697664469480515, 0.13439497351646423, 0.012306719087064266, 0.03188559040427208, 0.016642039641737938, 0.39996835589408875, 0.0012586417142301798, 0.012446568347513676, 0.12362658977508545, 0.03496227040886879, 0.10069134086370468, 0.10726424306631088, 0.0023774344008415937, 0.07914905250072479, 0.37075844407081604, 0.0014443257823586464, 0.15902027487754822, 0.0001444325753254816, 0.004332977347075939, 0.22401493787765503, 0.02570899948477745, 0.033075060695409775, 0.09604766964912415, 0.004044112283736467, 0.0021664886735379696, 0.9981955885887146, 0.0007897117175161839, 0.9992895126342773, 0.005247295834124088, 0.24159890413284302, 0.06296755373477936, 0.22264723479747772, 0.052947450429201126, 0.04976557940244675, 0.027129637077450752, 0.04178299009799957, 0.02179860696196556, 0.05434300750494003, 8.373344462597743e-05, 0.00011164460011059418, 0.11912478506565094, 0.03561462461948395, 0.0010048013646155596, 0.006419564131647348, 0.0437367707490921, 0.007201076485216618, 2.7911150027648546e-05, 0.006475386675447226, 0.05155472084879875, 0.12490403652191162, 0.43323665857315063, 0.2016829550266266, 0.060405317693948746, 0.011505774222314358, 0.061290375888347626, 0.006416682153940201, 0.02732621505856514, 0.00022126489784568548, 0.0005531622446142137, 0.0018807515734806657, 0.019028780981898308, 0.10802097618579865, 0.007334395311772823, 0.03074578568339348, 0.056269481778144836, 0.0006747643928974867, 0.057325635105371475, 0.09860361367464066, 0.19527094066143036, 0.050313953310251236, 0.06771113723516464, 0.03491172194480896, 0.0655108168721199, 0.03156723827123642, 0.008654586970806122, 0.05697358399629593, 0.04189406707882881, 0.0004400637117214501, 0.04195274040102959, 0.045737288892269135, 0.9844334125518799, 0.014078805223107338, 0.999657928943634, 0.12624771893024445, 0.1391032338142395, 0.7344123721122742, 0.9989599585533142, 0.9989545345306396, 0.9993665814399719, 0.9991884827613831, 0.9990744590759277, 0.9990498423576355, 0.05163005366921425, 0.9480776786804199, 0.9992899894714355, 0.9994053840637207, 0.02160750888288021, 0.03265134617686272, 0.9454485177993774, 0.0021677592303603888, 0.5271267890930176, 0.044981006532907486, 0.013187202624976635, 0.09935563802719116, 0.07587157934904099, 0.0007225864101201296, 0.0007225864101201296, 0.2268921434879303, 0.0092129772529006, 0.0001806466025300324, 0.25915271043777466, 0.05040973052382469, 0.010607453063130379, 0.05060436204075813, 0.24358214437961578, 0.024815600365400314, 0.008953079581260681, 0.07532265037298203, 0.009342343546450138, 0.0003892643144354224, 0.2099107801914215, 0.00982892420142889, 0.014402779750525951, 0.027637766674160957, 0.005060436204075813, 0.9989544749259949, 0.005068430211395025, 0.07034366577863693, 0.00015358880045823753, 0.0058363741263747215, 0.13531172275543213, 0.222550168633461, 0.13392943143844604, 0.04669099301099777, 0.0033789535518735647, 0.36938104033470154, 0.00721867335960269, 0.21011927723884583, 0.20159170031547546, 0.5733936429023743, 0.006139848846942186, 0.008527567610144615, 0.9990925788879395, 0.02668645977973938, 0.8014477491378784, 0.057713914662599564, 0.06824617087841034, 7.11638931534253e-05, 7.11638931534253e-05, 0.0019925888627767563, 0.0013521139044314623, 0.0002134916721843183, 0.030315818265080452, 0.011955534107983112, 0.8801987171173096, 0.11930963397026062, 0.4149989187717438, 0.00017008153372444212, 0.05659462884068489, 0.07872648537158966, 0.30340418219566345, 0.010141110979020596, 0.04016049951314926, 0.003550451947376132, 0.0009992290288209915, 0.001998458057641983, 0.018241243436932564, 4.252038343111053e-05, 0.019644416868686676, 0.000935448391828686, 0.019857019186019897, 0.014286848716437817, 0.008737938478589058, 0.0073560262098908424, 0.00014882133109495044, 0.9737677574157715, 0.026099223643541336, 0.16369809210300446, 0.836175262928009, 0.9984432458877563, 0.9994503855705261, 0.2900930345058441, 0.6356424689292908, 0.016672013327479362, 0.042820751667022705, 0.014741569757461548, 0.1002853661775589, 0.8939500451087952, 0.004700876772403717, 0.9981923699378967, 0.7355203032493591, 0.12969067692756653, 0.06445548683404922, 0.06991341710090637, 0.9907627701759338, 0.005107024684548378, 0.0020428099669516087, 0.3713974952697754, 0.007771088741719723, 0.04158037155866623, 0.033102817833423615, 0.00010092322918353602, 0.08356443792581558, 0.016652332618832588, 0.09426229447126389, 0.08083950728178024, 0.008982167579233646, 0.09759276360273361, 0.05470038950443268, 0.00020184645836707205, 0.06953610479831696, 0.03431389853358269, 0.0053489310666918755, 0.9980162978172302, 0.32874831557273865, 0.21317274868488312, 0.3906026780605316, 0.030820155516266823, 0.01787140965461731, 0.018620511516928673, 0.999422013759613, 0.9977295994758606, 0.9995770454406738, 0.18277676403522491, 0.8168261647224426, 0.010530865751206875, 0.9817107319831848, 0.006435529328882694, 0.0005850481102243066, 0.999245822429657, 0.9987329244613647, 0.1435488760471344, 0.0016581553500145674, 0.6568663716316223, 0.00047375867143273354, 0.03458438441157341, 0.010422690771520138, 0.004026948940008879, 0.029136158525943756, 0.007580138742923737, 0.11157016456127167, 0.9999063014984131, 0.035669561475515366, 0.24313849210739136, 0.4610806107521057, 0.010690026916563511, 0.004683663137257099, 0.02864406816661358, 0.12118978053331375, 0.016869859769940376, 0.048181015998125076, 0.003382645547389984, 0.02636728808283806, 0.00013010174734517932, 0.9987759590148926, 0.12144448608160019, 0.3105197250843048, 0.533410370349884, 0.03417898714542389, 0.9996671676635742, 0.9986376762390137, 0.9981368184089661, 0.999689519405365, 0.999028205871582, 0.9975466728210449, 0.9979667663574219, 0.9994841814041138, 0.026048487052321434, 0.05597919970750809, 0.09179586917161942, 0.07200903445482254, 0.007388753350824118, 0.015904605388641357, 0.18121230602264404, 0.012147611007094383, 0.1241060122847557, 0.24695968627929688, 0.0449586845934391, 0.12135088443756104, 0.6978462338447571, 0.09674393385648727, 0.09545401483774185, 0.06294804811477661, 0.041277408599853516, 0.0051596760749816895, 0.00025798380374908447, 0.14170731604099274, 0.009688553400337696, 0.22792565822601318, 0.05323810875415802, 0.014875354245305061, 0.014581761322915554, 0.16783705353736877, 0.3700244426727295, 0.9985710382461548, 0.9981136918067932, 0.23484916985034943, 0.2731918692588806, 0.030221519991755486, 0.12767593562602997, 0.28557339310646057, 0.00998508371412754, 0.013579713180661201, 0.025029275566339493, 0.029497617855668068, 6.569625111296773e-05, 0.926678478717804, 0.012745073065161705, 9.85443766694516e-05, 0.011825325898826122, 0.011398299597203732, 0.007226587738841772, 3.2848125556483865e-05, 0.0003941775066778064, 0.2156447172164917, 0.02032586559653282, 0.03334712237119675, 0.14736251533031464, 0.020643455907702446, 0.5405409932136536, 0.02191382274031639, 0.03001464530825615, 0.9690442681312561, 0.1000964418053627, 0.04651641845703125, 0.20467223227024078, 0.0031010943930596113, 0.028771264478564262, 0.07666594535112381, 0.05762867256999016, 0.31622549891471863, 0.044104453176259995, 0.0005168491043150425, 0.06296944618225098, 0.0013782641617581248, 0.029718821868300438, 0.002584245288744569, 0.02024325542151928, 0.004737783223390579, 0.7896326184272766, 0.18983086943626404, 0.00014501975965686142, 0.0018852569628506899, 0.018417509272694588, 0.999028742313385, 0.00035191228380426764, 0.29067954421043396, 0.06287499517202377, 0.045865900814533234, 0.05747900530695915, 0.1280960738658905, 0.022756993770599365, 0.34182414412498474, 0.04985424131155014, 0.253274142742157, 0.023557813838124275, 0.11358626931905746, 0.0685720443725586, 0.0017696010181680322, 0.0007742004818283021, 0.0006636003963649273, 0.023779014125466347, 0.024885015562176704, 0.3503810167312622, 0.1386924833059311, 0.6436294317245483, 0.3562948703765869, 0.07457201927900314, 0.924782395362854, 0.0009248598944395781, 0.9674034118652344, 0.03144523501396179, 0.02278684824705124, 0.26543599367141724, 0.06554518640041351, 0.0856926292181015, 0.02437049150466919, 0.06827256828546524, 0.05296402797102928, 0.016628241166472435, 0.14983013272285461, 0.004838906228542328, 0.01689218170940876, 0.03835932910442352, 0.0010557613568380475, 0.02718585543334484, 0.010029733180999756, 0.023226749151945114, 0.07733451575040817, 0.04962078481912613, 0.9992212057113647, 0.053411491215229034, 0.05394739285111427, 0.0003572675050236285, 0.4076422154903412, 0.07609797269105911, 0.019828345626592636, 0.0016077037435024977, 0.15916267037391663, 0.0003572675050236285, 0.2274007648229599, 0.9994809031486511, 0.8193836212158203, 0.034758273512125015, 0.1453009843826294, 0.9984501004219055, 0.0018013601657003164, 0.9973530769348145, 0.059746187180280685, 0.6173176169395447, 0.22234883904457092, 0.08747270703315735, 0.013058298267424107, 0.9995771050453186, 0.9998851418495178, 0.9573970437049866, 0.04219932109117508, 0.9993585348129272, 0.005089362617582083, 0.0918508768081665, 0.025870926678180695, 0.0047864243388175964, 0.28579193353652954, 0.0007876394665800035, 0.10372605919837952, 0.05507417395710945, 0.021023914217948914, 0.021932728588581085, 0.0018782172119244933, 0.16249607503414154, 0.061859991401433945, 0.1578914225101471, 0.9994352459907532, 0.9997656345367432, 0.00917722936719656, 0.6002849340438843, 0.020354624837636948, 0.01835445873439312, 0.01847211644053459, 0.018119145184755325, 0.03153201937675476, 0.00011765678937081248, 0.0032943901605904102, 0.08800727874040604, 0.12918715178966522, 0.014707098715007305, 0.04847459867596626, 0.08123952895402908, 0.021004237234592438, 0.6150249242782593, 0.030204441398382187, 0.18192100524902344, 0.02274012565612793, 0.00798508245497942, 0.006075606215745211, 0.03367621451616287, 0.03355095162987709, 0.09580661356449127, 0.010736305266618729, 0.012227458879351616, 0.22337479889392853, 0.005815498530864716, 0.015209765173494816, 0.027660897001624107, 0.031239666044712067, 0.017670169472694397, 0.01200378593057394, 0.06352313607931137, 0.12652437388896942, 0.0032059799414128065, 0.1330854445695877, 0.07090435177087784, 0.11735378205776215, 0.03673537075519562, 0.021605798974633217, 0.08262013643980026, 0.08942706137895584, 0.03477872163057327, 0.12257983535528183, 0.00774391507729888, 0.037314094603061676, 0.09675759822130203, 0.06459692865610123, 0.07446284592151642, 0.0607663094997406, 0.011739885434508324, 0.0034999188501387835, 0.08843495696783066, 0.0831713005900383, 0.03144415467977524, 0.04310136288404465, 0.0022046733647584915, 0.007054954767227173, 0.9992726445198059, 0.9994827508926392, 0.027114922180771828, 0.3533598482608795, 0.003941917326301336, 0.015357526950538158, 0.05457162857055664, 0.02009694278240204, 0.05411591753363609, 0.09524401277303696, 0.09080080687999725, 0.04390794411301613, 0.03798367828130722, 0.02889220230281353, 0.012828320264816284, 0.05097149685025215, 0.049923356622457504, 0.0008886402938514948, 0.019299443811178207, 0.03677603602409363, 0.003873560344800353, 0.9939733743667603, 0.005901717115193605, 0.9992783665657043, 0.9982531070709229, 0.9995947480201721, 0.0016216776566579938, 0.2213589996099472, 0.0032433553133159876, 0.051353126764297485, 0.03040645644068718, 0.006351571064442396, 0.0044596134684979916, 0.012027442455291748, 0.10297653079032898, 0.17122213542461395, 0.3942028284072876, 0.0006756990333087742, 0.01822679489850998, 0.1822679489850998, 0.18629887700080872, 0.538216233253479, 0.07273191958665848, 0.0021030916832387447, 0.9984127283096313, 0.9997726082801819, 0.9985940456390381, 0.9984723329544067, 0.999267041683197, 0.9991990327835083], \"Term\": [\"000\", \"000\", \"000\", \"000\", \"000\", \"000\", \"000\", \"000\", \"000\", \"000\", \"000\", \"000\", \"000\", \"100\", \"100\", \"100\", \"100\", \"100\", \"100\", \"100\", \"100\", \"11\", \"11\", \"11\", \"11\", \"11\", \"11\", \"11\", \"11\", \"11\", \"11\", \"11\", \"12\", \"12\", \"12\", \"12\", \"12\", \"12\", \"130\", \"14\", \"14\", \"14\", \"19\", \"19\", \"200\", \"200\", \"200\", \"200\", \"200\", \"200\", \"2001\", \"2005\", \"2010\", \"2010\", \"2010\", \"2012\", \"2012\", \"2012\", \"2012\", \"2012\", \"2012\", \"2012\", \"2014\", \"2014\", \"2014\", \"2014\", \"2014\", \"2014\", \"2014\", \"2014\", \"2014\", \"2014\", \"2014\", \"2014\", \"2014\", \"2015\", \"2015\", \"2015\", \"2015\", \"2015\", \"2015\", \"2015\", \"2015\", \"300\", \"300\", \"300\", \"300\", \"349\", \"350\", \"4\", \"4\", \"4\", \"4\", \"4\", \"4\", \"4\", \"400\", \"400\", \"45\", \"5\", \"5\", \"5\", \"5\", \"5\", \"5\", \"5\", \"5\", \"5\", \"5\", \"5\", \"5\", \"55\", \"6\", \"6\", \"6\", \"6\", \"6\", \"9\", \"9\", \"9\", \"9\", \"9\", \"9\", \"9\", \"9\", \"9\", \"9\", \"9\", \"999\", \"9to5mac\", \"aaron\", \"abandoned\", \"abdel\", \"abdi\", \"abdomen\", \"abdullah\", \"abou\", \"abrams\", \"absence\", \"absence\", \"abu\", \"abu\", \"abubakar\", \"accent\", \"accent\", \"according\", \"according\", \"according\", \"according\", \"according\", \"according\", \"according\", \"according\", \"according\", \"according\", \"according\", \"according\", \"according\", \"according\", \"according\", \"according\", \"according\", \"according\", \"according\", \"according\", \"account\", \"account\", \"account\", \"account\", \"account\", \"account\", \"accused\", \"accused\", \"accused\", \"accused\", \"active\", \"active\", \"active\", \"actively\", \"actor\", \"actor\", \"advancing\", \"affair\", \"affair\", \"affiliate\", \"afghanistan\", \"africa\", \"africa\", \"africa\", \"africa\", \"age\", \"age\", \"age\", \"age\", \"age\", \"age\", \"age\", \"age\", \"aggression\", \"agreed\", \"agreed\", \"agreed\", \"agreement\", \"ahmadu\", \"aiming\", \"air\", \"air\", \"air\", \"air\", \"air\", \"air\", \"air\", \"air\", \"air\", \"air\", \"airbus\", \"aircraft\", \"aircraft\", \"aircraft\", \"airliner\", \"airport\", \"airport\", \"airport\", \"airport\", \"airstrike\", \"airstrike\", \"al\", \"al\", \"al\", \"al\", \"al\", \"alan\", \"alan\", \"alarm\", \"alone\", \"alone\", \"alone\", \"also\", \"also\", \"also\", \"also\", \"also\", \"also\", \"also\", \"also\", \"also\", \"also\", \"also\", \"also\", \"also\", \"also\", \"also\", \"also\", \"also\", \"also\", \"also\", \"also\", \"although\", \"although\", \"although\", \"although\", \"although\", \"although\", \"although\", \"although\", \"although\", \"although\", \"although\", \"although\", \"although\", \"aluminum\", \"amazon\", \"amazon\", \"american\", \"american\", \"american\", \"american\", \"american\", \"american\", \"american\", \"american\", \"american\", \"anchor\", \"animal\", \"animal\", \"ankle\", \"anna\", \"announced\", \"announced\", \"announced\", \"announced\", \"announced\", \"announced\", \"announced\", \"announced\", \"announced\", \"announced\", \"announcing\", \"ansar\", \"ansi\", \"anywhere\", \"app\", \"app\", \"app\", \"appalled\", \"appears\", \"appears\", \"appears\", \"appears\", \"appears\", \"appears\", \"appears\", \"appears\", \"appears\", \"appears\", \"appears\", \"appears\", \"appears\", \"appears\", \"apple\", \"apple\", \"apprehended\", \"apprehended\", \"apps\", \"aqap\", \"arcuri\", \"area\", \"area\", \"area\", \"area\", \"area\", \"area\", \"area\", \"area\", \"area\", \"area\", \"area\", \"area\", \"area\", \"arizona\", \"arm\", \"arm\", \"arm\", \"arm\", \"arm\", \"arm\", \"arm\", \"arrest\", \"arrest\", \"arrest\", \"arrest\", \"arrest\", \"arrival\", \"arrival\", \"article\", \"article\", \"article\", \"article\", \"article\", \"article\", \"article\", \"article\", \"article\", \"artist\", \"artist\", \"ashton\", \"assembly\", \"asteroid\", \"attack\", \"attack\", \"attack\", \"attack\", \"attack\", \"attack\", \"attack\", \"attack\", \"attack\", \"attorney\", \"attract\", \"au\", \"au\", \"au\", \"auction\", \"audio\", \"audio\", \"australian\", \"australian\", \"author\", \"autopsy\", \"babici\", \"back\", \"back\", \"back\", \"back\", \"back\", \"back\", \"back\", \"back\", \"back\", \"back\", \"back\", \"back\", \"back\", \"back\", \"back\", \"back\", \"back\", \"baghdadi\", \"bakr\", \"bale\", \"bali\", \"band\", \"band\", \"bank\", \"banksy\", \"banksy\", \"barack\", \"barack\", \"bary\", \"batman\", \"batman\", \"batmobile\", \"battery\", \"bay\", \"become\", \"become\", \"become\", \"become\", \"become\", \"become\", \"become\", \"become\", \"become\", \"become\", \"become\", \"become\", \"become\", \"become\", \"beggar\", \"behaviour\", \"beheading\", \"beheading\", \"beirut\", \"believed\", \"believed\", \"believed\", \"believed\", \"believed\", \"believed\", \"believed\", \"believed\", \"believed\", \"believed\", \"believed\", \"believed\", \"belonging\", \"belonging\", \"belonging\", \"belonging\", \"ben\", \"benghazi\", \"beside\", \"bibeau\", \"big\", \"big\", \"big\", \"big\", \"big\", \"big\", \"big\", \"big\", \"big\", \"big\", \"bill\", \"bill\", \"bill\", \"bill\", \"billion\", \"billion\", \"bin\", \"biography\", \"biological\", \"biological\", \"biopic\", \"bird\", \"bishop\", \"bite\", \"blasio\", \"blasio\", \"blast\", \"blast\", \"bloodshed\", \"blue\", \"blumenthal\", \"board\", \"board\", \"bogus\", \"boko\", \"book\", \"book\", \"book\", \"border\", \"border\", \"bos\", \"bosnia\", \"box\", \"box\", \"box\", \"box\", \"boy\", \"boy\", \"boy\", \"boy\", \"boyle\", \"bratton\", \"bratton\", \"brian\", \"brian\", \"bright\", \"bringbackourgirls\", \"britain\", \"britain\", \"britain\", \"british\", \"british\", \"british\", \"british\", \"british\", \"brooklyn\", \"brooklyn\", \"brown\", \"browser\", \"brush\", \"bug\", \"building\", \"building\", \"building\", \"building\", \"building\", \"building\", \"bureau\", \"burger\", \"burrowed\", \"bus\", \"buy\", \"cable\", \"cage\", \"cage\", \"caliph\", \"call\", \"call\", \"call\", \"call\", \"call\", \"call\", \"call\", \"call\", \"call\", \"call\", \"call\", \"called\", \"called\", \"called\", \"called\", \"called\", \"called\", \"called\", \"called\", \"called\", \"called\", \"called\", \"called\", \"called\", \"called\", \"called\", \"called\", \"called\", \"called\", \"calm\", \"cameron\", \"cameron\", \"campus\", \"canada\", \"canada\", \"canadian\", \"capacity\", \"capital\", \"capital\", \"capital\", \"capital\", \"capital\", \"capital\", \"capital\", \"capital\", \"capsule\", \"captive\", \"captive\", \"captive\", \"captor\", \"capture\", \"capture\", \"capture\", \"captured\", \"captured\", \"captured\", \"captured\", \"captured\", \"car\", \"car\", \"car\", \"car\", \"career\", \"career\", \"career\", \"career\", \"carlisle\", \"case\", \"case\", \"case\", \"case\", \"case\", \"case\", \"case\", \"case\", \"case\", \"case\", \"case\", \"castro\", \"catfish\", \"catholic\", \"caucus\", \"caught\", \"caught\", \"caught\", \"caught\", \"caught\", \"caught\", \"caught\", \"caught\", \"caught\", \"cc\", \"cctv\", \"cctvnews\", \"cdc\", \"cease\", \"ceasefire\", \"ceremonial\", \"certificate\", \"certificate\", \"cesar\", \"chad\", \"chamber\", \"chandler\", \"chat\", \"chibok\", \"chicken\", \"child\", \"child\", \"child\", \"child\", \"child\", \"child\", \"child\", \"child\", \"child\", \"child\", \"chinese\", \"chinese\", \"chinese\", \"chinese\", \"chip\", \"chlorine\", \"christian\", \"christian\", \"christian\", \"christian\", \"christian\", \"christmas\", \"christmas\", \"christy\", \"church\", \"church\", \"church\", \"church\", \"church\", \"cirillo\", \"city\", \"city\", \"city\", \"city\", \"city\", \"city\", \"city\", \"city\", \"city\", \"city\", \"city\", \"city\", \"city\", \"civilian\", \"civilian\", \"civilian\", \"claim\", \"claim\", \"claim\", \"claim\", \"claim\", \"claim\", \"claim\", \"claim\", \"claim\", \"claim\", \"claim\", \"claim\", \"claim\", \"classmate\", \"cleric\", \"cleric\", \"client\", \"close\", \"close\", \"close\", \"close\", \"close\", \"close\", \"close\", \"cn\", \"cnn\", \"cnn\", \"co\", \"co\", \"co\", \"co\", \"co\", \"co\", \"co\", \"co\", \"co\", \"co\", \"co\", \"co\", \"coalition\", \"com\", \"com\", \"com\", \"com\", \"com\", \"com\", \"com\", \"com\", \"com\", \"com\", \"com\", \"com\", \"comcast\", \"comcast\", \"command\", \"command\", \"commercial\", \"commissioner\", \"commissioner\", \"common\", \"common\", \"common\", \"common\", \"company\", \"company\", \"company\", \"company\", \"company\", \"company\", \"company\", \"company\", \"company\", \"company\", \"complaint\", \"complaint\", \"complaint\", \"complete\", \"complete\", \"complete\", \"completely\", \"conal\", \"condition\", \"condition\", \"condition\", \"condition\", \"condom\", \"confirming\", \"confirms\", \"congressman\", \"conspiracy\", \"constantine\", \"consumer\", \"contacted\", \"contacted\", \"content\", \"content\", \"contracted\", \"controller\", \"convinced\", \"convinced\", \"cook\", \"cooke\", \"cool\", \"cool\", \"cost\", \"cost\", \"could\", \"could\", \"could\", \"could\", \"could\", \"could\", \"could\", \"could\", \"could\", \"could\", \"could\", \"could\", \"could\", \"could\", \"could\", \"could\", \"could\", \"could\", \"could\", \"country\", \"country\", \"country\", \"country\", \"country\", \"country\", \"country\", \"country\", \"country\", \"country\", \"country\", \"country\", \"court\", \"court\", \"court\", \"court\", \"crater\", \"creature\", \"creature\", \"creature\", \"credit\", \"crime\", \"crime\", \"crime\", \"crime\", \"criminality\", \"crossed\", \"cruel\", \"cuba\", \"cuba\", \"culkin\", \"customer\", \"customer\", \"customer\", \"customer\", \"dallas\", \"dallas\", \"dan\", \"danny\", \"dark\", \"darkness\", \"darkness\", \"darren\", \"dating\", \"dating\", \"david\", \"david\", \"david\", \"david\", \"david\", \"david\", \"david\", \"david\", \"day\", \"day\", \"day\", \"day\", \"day\", \"day\", \"day\", \"day\", \"day\", \"day\", \"day\", \"day\", \"day\", \"day\", \"day\", \"day\", \"day\", \"de\", \"de\", \"de\", \"de\", \"de\", \"deadly\", \"deadly\", \"deadly\", \"deadly\", \"deal\", \"deal\", \"deal\", \"deal\", \"deal\", \"deal\", \"deal\", \"deal\", \"death\", \"death\", \"death\", \"death\", \"death\", \"death\", \"death\", \"death\", \"death\", \"death\", \"deepdotweb\", \"deepest\", \"deleted\", \"delight\", \"demonstrator\", \"dera\", \"detainee\", \"detroit\", \"developer\", \"developing\", \"device\", \"device\", \"device\", \"dhs\", \"diagnosed\", \"diane\", \"diarrhea\", \"dicaprio\", \"dictator\", \"died\", \"died\", \"died\", \"died\", \"died\", \"died\", \"died\", \"died\", \"died\", \"died\", \"died\", \"dinner\", \"directed\", \"disease\", \"disease\", \"disney\", \"dna\", \"doctor\", \"doctor\", \"doctor\", \"doctor\", \"document\", \"document\", \"document\", \"document\", \"document\", \"dog\", \"dog\", \"dog\", \"dog\", \"dog\", \"dollar\", \"dollar\", \"domestic\", \"domestic\", \"donation\", \"door\", \"door\", \"door\", \"door\", \"door\", \"dorian\", \"dr\", \"dr\", \"drawn\", \"drawn\", \"drone\", \"dulaimi\", \"durex\", \"dylan\", \"earth\", \"earth\", \"ebay\", \"ebola\", \"edition\", \"edition\", \"educational\", \"edward\", \"edward\", \"effectively\", \"effectively\", \"egyptian\", \"elite\", \"elite\", \"employee\", \"employee\", \"employee\", \"employee\", \"employer\", \"emwazi\", \"encounter\", \"end\", \"end\", \"end\", \"end\", \"end\", \"end\", \"end\", \"end\", \"end\", \"end\", \"end\", \"english\", \"english\", \"english\", \"entering\", \"entrance\", \"epidemic\", \"episode\", \"episode\", \"episode\", \"espn\", \"espn\", \"esquire\", \"est\", \"estate\", \"et\", \"et\", \"et\", \"et\", \"even\", \"even\", \"even\", \"even\", \"even\", \"even\", \"even\", \"even\", \"even\", \"even\", \"even\", \"even\", \"even\", \"even\", \"even\", \"even\", \"even\", \"evening\", \"evening\", \"evening\", \"evening\", \"event\", \"event\", \"event\", \"event\", \"event\", \"evidence\", \"evidence\", \"evidence\", \"evidence\", \"evidence\", \"evidence\", \"exchanged\", \"execution\", \"execution\", \"executioner\", \"exit\", \"expensive\", \"expensive\", \"experiment\", \"explanation\", \"explosive\", \"extensive\", \"eye\", \"eye\", \"eye\", \"eye\", \"f\", \"facebook\", \"facebook\", \"facebook\", \"facebook\", \"facebook\", \"facebook\", \"facebook\", \"facebook\", \"facebook\", \"fact\", \"fact\", \"fact\", \"fact\", \"fact\", \"fact\", \"fact\", \"fact\", \"fact\", \"fact\", \"fact\", \"fact\", \"fact\", \"fact\", \"factory\", \"fake\", \"fake\", \"fake\", \"fake\", \"fake\", \"fake\", \"false\", \"false\", \"family\", \"family\", \"family\", \"family\", \"family\", \"family\", \"family\", \"family\", \"family\", \"family\", \"family\", \"family\", \"family\", \"family\", \"family\", \"fast\", \"father\", \"father\", \"father\", \"father\", \"father\", \"father\", \"father\", \"father\", \"father\", \"fatwa\", \"fbi\", \"fbi\", \"fbi\", \"feature\", \"feature\", \"feature\", \"feature\", \"feature\", \"fee\", \"fee\", \"feel\", \"feel\", \"feig\", \"female\", \"female\", \"female\", \"fence\", \"ferguson\", \"ferrari\", \"fever\", \"fidel\", \"fight\", \"fight\", \"fight\", \"fight\", \"fight\", \"fight\", \"fight\", \"fight\", \"fight\", \"fight\", \"fighter\", \"fighter\", \"fighter\", \"fighter\", \"fighter\", \"fighter\", \"film\", \"film\", \"fireball\", \"fired\", \"fired\", \"fired\", \"first\", \"first\", \"first\", \"first\", \"first\", \"first\", \"first\", \"first\", \"first\", \"first\", \"first\", \"first\", \"first\", \"first\", \"first\", \"first\", \"first\", \"first\", \"fish\", \"five\", \"five\", \"five\", \"five\", \"five\", \"five\", \"five\", \"five\", \"five\", \"five\", \"five\", \"five\", \"five\", \"five\", \"five\", \"flavored\", \"florissant\", \"flown\", \"foley\", \"folk\", \"follower\", \"food\", \"food\", \"food\", \"food\", \"food\", \"food\", \"food\", \"food\", \"food\", \"food\", \"foot\", \"foot\", \"foot\", \"foot\", \"footage\", \"footage\", \"footage\", \"force\", \"force\", \"force\", \"force\", \"force\", \"force\", \"force\", \"force\", \"force\", \"found\", \"found\", \"found\", \"found\", \"found\", \"found\", \"found\", \"found\", \"found\", \"found\", \"found\", \"found\", \"found\", \"founder\", \"founder\", \"founder\", \"founder\", \"founder\", \"founder\", \"foxnewspress\", \"fractured\", \"france\", \"france\", \"france\", \"francis\", \"francis\", \"freelance\", \"friday\", \"friday\", \"friday\", \"friday\", \"friday\", \"friday\", \"friday\", \"friday\", \"friday\", \"friend\", \"friend\", \"friend\", \"friend\", \"friend\", \"friend\", \"friend\", \"friend\", \"friend\", \"friend\", \"frisco\", \"fruit\", \"future\", \"future\", \"future\", \"game\", \"game\", \"game\", \"game\", \"game\", \"game\", \"garden\", \"garden\", \"gaza\", \"gee\", \"gender\", \"genitalia\", \"genitalia\", \"german\", \"german\", \"get\", \"get\", \"get\", \"get\", \"get\", \"get\", \"get\", \"get\", \"get\", \"get\", \"get\", \"get\", \"get\", \"get\", \"get\", \"gift\", \"gill\", \"gill\", \"girl\", \"girl\", \"girl\", \"girl\", \"girl\", \"girl\", \"girl\", \"girl\", \"girlfriend\", \"glass\", \"glass\", \"glass\", \"glide\", \"glide\", \"globalpost\", \"god\", \"god\", \"god\", \"god\", \"god\", \"god\", \"godane\", \"going\", \"going\", \"going\", \"going\", \"going\", \"going\", \"going\", \"going\", \"going\", \"going\", \"going\", \"going\", \"going\", \"going\", \"gold\", \"gold\", \"goldfish\", \"gonzalez\", \"goodluck\", \"google\", \"google\", \"google\", \"google\", \"goto\", \"gout\", \"government\", \"government\", \"government\", \"government\", \"government\", \"government\", \"government\", \"government\", \"government\", \"government\", \"government\", \"graf\", \"graham\", \"grave\", \"great\", \"great\", \"great\", \"great\", \"great\", \"great\", \"grenade\", \"grenade\", \"greta\", \"group\", \"group\", \"group\", \"group\", \"group\", \"group\", \"group\", \"group\", \"group\", \"group\", \"group\", \"group\", \"group\", \"group\", \"gruesome\", \"guantanamo\", \"guard\", \"guard\", \"guerrero\", \"guilty\", \"gunfire\", \"gunfire\", \"gunman\", \"gunman\", \"gunshot\", \"haines\", \"haines\", \"hair\", \"hamele\", \"hamid\", \"hammond\", \"hampshire\", \"handle\", \"hank\", \"haram\", \"harper\", \"hassan\", \"havana\", \"hbo\", \"headline\", \"headline\", \"headline\", \"health\", \"health\", \"health\", \"health\", \"health\", \"health\", \"health\", \"heard\", \"heard\", \"heard\", \"heard\", \"heard\", \"heard\", \"heard\", \"heard\", \"heard\", \"heard\", \"heard\", \"heard\", \"heart\", \"heart\", \"heart\", \"heart\", \"heart\", \"heart\", \"heaven\", \"heaven\", \"helicopter\", \"helmet\", \"hill\", \"hill\", \"hip\", \"hoax\", \"hoax\", \"hoax\", \"hoax\", \"hole\", \"holt\", \"holy\", \"home\", \"home\", \"home\", \"home\", \"home\", \"home\", \"home\", \"home\", \"home\", \"home\", \"home\", \"homeland\", \"homeless\", \"homeless\", \"hop\", \"hospital\", \"hospital\", \"hospital\", \"hospital\", \"hospital\", \"hospital\", \"hostage\", \"hostage\", \"hostage\", \"hour\", \"hour\", \"hour\", \"hour\", \"hour\", \"hour\", \"hour\", \"hour\", \"hour\", \"hour\", \"hour\", \"hour\", \"hour\", \"hour\", \"house\", \"house\", \"house\", \"house\", \"house\", \"house\", \"house\", \"house\", \"house\", \"house\", \"house\", \"huffington\", \"hunter\", \"hurt\", \"hwang\", \"icloud\", \"identity\", \"identity\", \"identity\", \"identity\", \"identity\", \"igen\", \"iguala\", \"ikwiz\", \"il\", \"ilic\", \"ill\", \"image\", \"image\", \"image\", \"image\", \"image\", \"image\", \"image\", \"image\", \"image\", \"image\", \"image\", \"image\", \"imagine\", \"impact\", \"impact\", \"impact\", \"incident\", \"incident\", \"incident\", \"incident\", \"incident\", \"incident\", \"incident\", \"incident\", \"incident\", \"incident\", \"incinerated\", \"independence\", \"india\", \"infected\", \"infection\", \"infestation\", \"information\", \"information\", \"information\", \"information\", \"information\", \"information\", \"information\", \"information\", \"information\", \"information\", \"information\", \"information\", \"information\", \"information\", \"information\", \"information\", \"injury\", \"injury\", \"injury\", \"injury\", \"innocent\", \"innocent\", \"insect\", \"inside\", \"inside\", \"inside\", \"inside\", \"inside\", \"inside\", \"inside\", \"inside\", \"inside\", \"insurgent\", \"insurgent\", \"intelligence\", \"intelligence\", \"intelligence\", \"intelligence\", \"intelligence\", \"intelligence\", \"internet\", \"internet\", \"internet\", \"internet\", \"intruder\", \"iphone\", \"iraq\", \"iraq\", \"iraq\", \"iraq\", \"iraqi\", \"iraqi\", \"iraqi\", \"iraqi\", \"irbil\", \"isaacson\", \"isi\", \"isi\", \"isi\", \"isi\", \"isi\", \"islam\", \"islam\", \"islam\", \"islam\", \"islam\", \"islam\", \"islam\", \"islamic\", \"islamic\", \"islamic\", \"islamic\", \"islamic\", \"islamic\", \"islamist\", \"islamist\", \"islamist\", \"islamist\", \"island\", \"israel\", \"israeli\", \"issue\", \"issue\", \"issue\", \"issue\", \"issue\", \"issue\", \"issue\", \"issue\", \"issue\", \"issue\", \"issue\", \"issue\", \"j\", \"j\", \"jacket\", \"james\", \"james\", \"james\", \"james\", \"january\", \"january\", \"january\", \"january\", \"january\", \"january\", \"january\", \"january\", \"january\", \"jess\", \"jessica\", \"jetliner\", \"jihadi\", \"jihadi\", \"job\", \"job\", \"job\", \"job\", \"job\", \"job\", \"job\", \"job\", \"joe\", \"joe\", \"joe\", \"john\", \"john\", \"john\", \"john\", \"john\", \"john\", \"john\", \"john\", \"john\", \"johnson\", \"johnson\", \"join\", \"join\", \"jonathan\", \"jonathan\", \"jong\", \"jordan\", \"jordan\", \"jordanian\", \"josh\", \"josh\", \"journalist\", \"journalist\", \"journalist\", \"journalist\", \"journalist\", \"joy\", \"jumpsuit\", \"kadalim\", \"kai\", \"kansa\", \"karat\", \"kayla\", \"kenji\", \"kevin\", \"kevin\", \"kfc\", \"kidnapped\", \"kidnapped\", \"kidnapped\", \"kill\", \"kill\", \"kill\", \"kill\", \"kill\", \"kill\", \"kill\", \"killed\", \"killed\", \"killed\", \"killed\", \"killed\", \"killed\", \"killed\", \"killed\", \"killed\", \"killed\", \"killer\", \"killer\", \"killer\", \"kim\", \"kind\", \"kind\", \"kind\", \"kind\", \"kind\", \"kind\", \"king\", \"king\", \"king\", \"kirby\", \"kneeling\", \"knocked\", \"know\", \"know\", \"know\", \"know\", \"know\", \"know\", \"know\", \"know\", \"know\", \"know\", \"know\", \"know\", \"know\", \"known\", \"known\", \"known\", \"known\", \"known\", \"known\", \"known\", \"known\", \"known\", \"known\", \"known\", \"known\", \"known\", \"known\", \"known\", \"known\", \"korea\", \"korean\", \"kryaglyachenko\", \"kumar\", \"kurdish\", \"kurdish\", \"kurdish\", \"kurdish\", \"kutcher\", \"kuwait\", \"l\", \"l\", \"l\", \"la\", \"la\", \"la\", \"la\", \"land\", \"last\", \"last\", \"last\", \"last\", \"last\", \"last\", \"last\", \"last\", \"last\", \"last\", \"last\", \"last\", \"last\", \"last\", \"last\", \"last\", \"last\", \"last\", \"last\", \"later\", \"later\", \"later\", \"later\", \"later\", \"later\", \"later\", \"later\", \"later\", \"later\", \"later\", \"later\", \"later\", \"later\", \"later\", \"later\", \"later\", \"launch\", \"launch\", \"launch\", \"launch\", \"launch\", \"launch\", \"le\", \"le\", \"le\", \"le\", \"le\", \"le\", \"le\", \"leader\", \"leader\", \"leader\", \"leader\", \"leader\", \"leader\", \"leader\", \"leader\", \"leader\", \"leader\", \"leadership\", \"leadership\", \"leadership\", \"leaked\", \"leaked\", \"least\", \"least\", \"least\", \"least\", \"least\", \"least\", \"least\", \"least\", \"least\", \"least\", \"least\", \"lebanese\", \"lebanon\", \"left\", \"left\", \"left\", \"left\", \"left\", \"left\", \"left\", \"left\", \"left\", \"left\", \"left\", \"left\", \"left\", \"left\", \"left\", \"left\", \"left\", \"left\", \"lego\", \"lemon\", \"leonardo\", \"lianne\", \"library\", \"libya\", \"libya\", \"libyan\", \"libyan\", \"libyan\", \"life\", \"life\", \"life\", \"life\", \"life\", \"life\", \"life\", \"life\", \"life\", \"life\", \"life\", \"life\", \"life\", \"life\", \"light\", \"light\", \"light\", \"like\", \"like\", \"like\", \"like\", \"like\", \"like\", \"like\", \"like\", \"like\", \"like\", \"like\", \"like\", \"like\", \"like\", \"like\", \"like\", \"like\", \"lin\", \"liquor\", \"local\", \"local\", \"local\", \"local\", \"local\", \"local\", \"local\", \"local\", \"local\", \"local\", \"local\", \"lockdown\", \"london\", \"london\", \"london\", \"london\", \"london\", \"looking\", \"looking\", \"looking\", \"looking\", \"looking\", \"looking\", \"looking\", \"looking\", \"lopa\", \"lot\", \"lot\", \"lot\", \"lot\", \"lot\", \"lot\", \"lot\", \"lot\", \"lot\", \"lot\", \"louis\", \"louise\", \"lucky\", \"luke\", \"luke\", \"macaulay\", \"macbook\", \"macedonian\", \"macklemore\", \"macklemorejoinedisis\", \"madden\", \"made\", \"made\", \"made\", \"made\", \"made\", \"made\", \"made\", \"made\", \"made\", \"made\", \"made\", \"made\", \"made\", \"made\", \"made\", \"made\", \"made\", \"made\", \"magazine\", \"magazine\", \"magazine\", \"magazine\", \"magazine\", \"magnet\", \"magneto\", \"maintained\", \"maintained\", \"majed\", \"malaria\", \"male\", \"mall\", \"mall\", \"man\", \"man\", \"man\", \"man\", \"man\", \"man\", \"man\", \"man\", \"man\", \"man\", \"man\", \"man\", \"man\", \"man\", \"managua\", \"marijuana\", \"marijuana\", \"marine\", \"mashable\", \"masked\", \"masked\", \"masked\", \"mass\", \"mass\", \"may\", \"may\", \"may\", \"may\", \"may\", \"may\", \"may\", \"may\", \"may\", \"may\", \"may\", \"may\", \"may\", \"may\", \"may\", \"may\", \"may\", \"may\", \"may\", \"mayor\", \"mayor\", \"mcdonald\", \"meal\", \"meal\", \"medic\", \"medical\", \"medical\", \"medical\", \"medical\", \"medical\", \"medicine\", \"medium\", \"medium\", \"medium\", \"medium\", \"medium\", \"medium\", \"medium\", \"medium\", \"medium\", \"medium\", \"medium\", \"medium\", \"medium\", \"medium\", \"medium\", \"medium\", \"medium\", \"memorial\", \"mention\", \"mention\", \"mention\", \"message\", \"message\", \"message\", \"message\", \"message\", \"message\", \"message\", \"message\", \"message\", \"message\", \"message\", \"messaging\", \"meteorite\", \"meter\", \"metropolitan\", \"mexican\", \"mexican\", \"mexico\", \"mgm\", \"mi5\", \"michael\", \"michael\", \"michael\", \"michael\", \"michael\", \"michael\", \"micheal\", \"michelle\", \"mid\", \"mid\", \"militant\", \"militant\", \"militant\", \"militant\", \"militant\", \"militant\", \"military\", \"military\", \"military\", \"military\", \"military\", \"millan\", \"millan\", \"million\", \"million\", \"million\", \"million\", \"million\", \"million\", \"million\", \"million\", \"million\", \"ministry\", \"ministry\", \"ministry\", \"ministry\", \"missile\", \"missouri\", \"mite\", \"mm\", \"model\", \"model\", \"model\", \"mogadishu\", \"mohammed\", \"mohammed\", \"mohammed\", \"mohammed\", \"mom\", \"monday\", \"monday\", \"monday\", \"monday\", \"monday\", \"monday\", \"monday\", \"monday\", \"monday\", \"monday\", \"monday\", \"money\", \"money\", \"money\", \"money\", \"money\", \"money\", \"money\", \"month\", \"month\", \"month\", \"month\", \"month\", \"month\", \"month\", \"month\", \"month\", \"month\", \"month\", \"month\", \"month\", \"month\", \"month\", \"month\", \"month\", \"montreal\", \"mortgage\", \"mosul\", \"mosul\", \"mosul\", \"mother\", \"mother\", \"mother\", \"mother\", \"mother\", \"mother\", \"mourn\", \"mouth\", \"movie\", \"movie\", \"mp\", \"mp\", \"mr\", \"mr\", \"mr\", \"mr\", \"mr\", \"mr\", \"mr\", \"mr\", \"mr\", \"mtv\", \"much\", \"much\", \"much\", \"much\", \"much\", \"much\", \"much\", \"much\", \"much\", \"much\", \"much\", \"much\", \"much\", \"mueller\", \"munster\", \"murder\", \"murder\", \"murder\", \"mushroom\", \"name\", \"name\", \"name\", \"name\", \"name\", \"name\", \"name\", \"name\", \"name\", \"name\", \"name\", \"name\", \"nasa\", \"nathan\", \"national\", \"national\", \"national\", \"national\", \"national\", \"national\", \"national\", \"national\", \"national\", \"national\", \"national\", \"national\", \"national\", \"nbc\", \"nbc\", \"nbc\", \"neal\", \"near\", \"near\", \"near\", \"near\", \"near\", \"near\", \"near\", \"near\", \"near\", \"near\", \"needed\", \"negative\", \"nelson\", \"nenad\", \"netflix\", \"never\", \"never\", \"never\", \"never\", \"never\", \"never\", \"never\", \"never\", \"never\", \"never\", \"never\", \"never\", \"never\", \"new\", \"new\", \"new\", \"new\", \"new\", \"new\", \"new\", \"new\", \"new\", \"new\", \"new\", \"new\", \"new\", \"new\", \"new\", \"new\", \"new\", \"new\", \"news\", \"news\", \"news\", \"news\", \"news\", \"news\", \"news\", \"news\", \"news\", \"news\", \"news\", \"news\", \"news\", \"news\", \"news\", \"news\", \"news\", \"nicaragua\", \"nicaraguan\", \"nice\", \"nigeria\", \"nigerian\", \"night\", \"night\", \"night\", \"night\", \"night\", \"night\", \"night\", \"nikolaev\", \"nikolai\", \"nkis\", \"noise\", \"north\", \"north\", \"north\", \"north\", \"north\", \"north\", \"north\", \"noticed\", \"noticed\", \"noting\", \"november\", \"november\", \"november\", \"nowhere\", \"numerous\", \"numerous\", \"numerous\", \"nun\", \"nun\", \"nusra\", \"obama\", \"obama\", \"obama\", \"obama\", \"oberholtzer\", \"object\", \"observatory\", \"oct\", \"oct\", \"oct\", \"oct\", \"office\", \"office\", \"office\", \"office\", \"office\", \"office\", \"office\", \"office\", \"office\", \"office\", \"officer\", \"officer\", \"officer\", \"officer\", \"official\", \"official\", \"official\", \"official\", \"official\", \"official\", \"official\", \"official\", \"official\", \"official\", \"official\", \"official\", \"official\", \"official\", \"official\", \"officially\", \"officially\", \"ok\", \"old\", \"old\", \"old\", \"old\", \"old\", \"old\", \"old\", \"old\", \"old\", \"old\", \"old\", \"old\", \"old\", \"old\", \"old\", \"old\", \"old\", \"old\", \"oliver\", \"olsen\", \"one\", \"one\", \"one\", \"one\", \"one\", \"one\", \"one\", \"one\", \"one\", \"one\", \"one\", \"one\", \"one\", \"one\", \"one\", \"one\", \"one\", \"one\", \"one\", \"one\", \"operation\", \"operation\", \"operation\", \"operation\", \"operation\", \"operation\", \"operation\", \"operation\", \"option\", \"option\", \"organization\", \"organization\", \"organization\", \"organization\", \"organization\", \"organization\", \"organization\", \"organization\", \"oscar\", \"ottawa\", \"outbreak\", \"overweight\", \"owner\", \"pa\", \"pa\", \"paid\", \"paid\", \"paid\", \"pain\", \"pain\", \"pain\", \"palace\", \"paler\", \"panel\", \"park\", \"park\", \"parliament\", \"parliament\", \"parliament\", \"part\", \"part\", \"part\", \"part\", \"part\", \"part\", \"part\", \"part\", \"part\", \"part\", \"part\", \"part\", \"part\", \"part\", \"part\", \"part\", \"partner\", \"partner\", \"party\", \"party\", \"party\", \"party\", \"party\", \"party\", \"party\", \"party\", \"patient\", \"patient\", \"patient\", \"patrol\", \"patrol\", \"patrol\", \"paul\", \"paul\", \"paul\", \"paul\", \"paul\", \"paul\", \"pause\", \"penis\", \"penis\", \"pentagon\", \"pentagon\", \"people\", \"people\", \"people\", \"people\", \"people\", \"people\", \"people\", \"people\", \"people\", \"people\", \"people\", \"people\", \"people\", \"people\", \"people\", \"people\", \"people\", \"people\", \"people\", \"people\", \"per\", \"per\", \"per\", \"per\", \"percent\", \"percent\", \"perfectly\", \"pet\", \"phelps\", \"phone\", \"phone\", \"phone\", \"phone\", \"phone\", \"phone\", \"phone\", \"phone\", \"phone\", \"photo\", \"photo\", \"photo\", \"photo\", \"photo\", \"photo\", \"photo\", \"photo\", \"photo\", \"photo\", \"photo\", \"photo\", \"photo\", \"photo\", \"photo\", \"photo\", \"photo\", \"photojournalist\", \"pic\", \"pic\", \"picture\", \"picture\", \"picture\", \"picture\", \"picture\", \"picture\", \"picture\", \"picture\", \"picture\", \"picture\", \"picture\", \"picture\", \"picture\", \"picture\", \"pierson\", \"pilot\", \"pilot\", \"plane\", \"plane\", \"plane\", \"planet\", \"planning\", \"planning\", \"planning\", \"planning\", \"plant\", \"play\", \"play\", \"play\", \"play\", \"play\", \"plot\", \"plotting\", \"pm\", \"po\", \"police\", \"police\", \"police\", \"police\", \"police\", \"pope\", \"pope\", \"portion\", \"post\", \"post\", \"post\", \"post\", \"post\", \"post\", \"post\", \"post\", \"post\", \"post\", \"post\", \"post\", \"post\", \"pour\", \"prank\", \"prank\", \"prankster\", \"pregnancy\", \"president\", \"president\", \"president\", \"president\", \"president\", \"president\", \"president\", \"president\", \"president\", \"president\", \"president\", \"presidential\", \"pressure\", \"previously\", \"previously\", \"price\", \"price\", \"price\", \"price\", \"price\", \"priced\", \"pricing\", \"priest\", \"prison\", \"prison\", \"prisoner\", \"prisoner\", \"prisoner\", \"prisoner\", \"prisoner\", \"proclaimed\", \"product\", \"product\", \"product\", \"product\", \"product\", \"product\", \"product\", \"project\", \"project\", \"project\", \"project\", \"project\", \"public\", \"public\", \"public\", \"public\", \"public\", \"public\", \"public\", \"public\", \"public\", \"public\", \"public\", \"public\", \"public\", \"public\", \"public\", \"pulling\", \"pulling\", \"pumpkin\", \"purchase\", \"purdon\", \"purported\", \"purported\", \"purported\", \"purpose\", \"put\", \"put\", \"put\", \"put\", \"put\", \"put\", \"put\", \"put\", \"put\", \"put\", \"put\", \"put\", \"put\", \"putin\", \"pyongyang\", \"qatar\", \"qatar\", \"quarantined\", \"quebec\", \"qureshi\", \"r\", \"r\", \"rahim\", \"ram\", \"range\", \"rank\", \"raped\", \"raped\", \"rapper\", \"rapper\", \"raqqa\", \"rat\", \"razor\", \"rc\", \"rcmp\", \"really\", \"really\", \"really\", \"really\", \"really\", \"really\", \"really\", \"really\", \"really\", \"really\", \"really\", \"really\", \"recording\", \"recording\", \"recovered\", \"recovering\", \"recruit\", \"recruit\", \"region\", \"region\", \"region\", \"region\", \"region\", \"rehab\", \"release\", \"release\", \"release\", \"release\", \"release\", \"release\", \"release\", \"release\", \"release\", \"release\", \"release\", \"release\", \"released\", \"released\", \"released\", \"released\", \"released\", \"released\", \"released\", \"released\", \"released\", \"released\", \"released\", \"released\", \"released\", \"released\", \"relevance\", \"remark\", \"report\", \"report\", \"report\", \"report\", \"report\", \"report\", \"report\", \"report\", \"report\", \"report\", \"report\", \"report\", \"report\", \"report\", \"report\", \"report\", \"report\", \"report\", \"report\", \"report\", \"reported\", \"reported\", \"reported\", \"reported\", \"reported\", \"reported\", \"reported\", \"reported\", \"reported\", \"reported\", \"reported\", \"reported\", \"reported\", \"reported\", \"reported\", \"reported\", \"reported\", \"reported\", \"reported\", \"reported\", \"reproductive\", \"republican\", \"rescue\", \"research\", \"research\", \"research\", \"research\", \"research\", \"reset\", \"respect\", \"restaurant\", \"restaurant\", \"restaurant\", \"result\", \"result\", \"result\", \"result\", \"retail\", \"reveals\", \"rifle\", \"riquelme\", \"riquelme\", \"river\", \"rob\", \"robot\", \"rodent\", \"rogen\", \"role\", \"role\", \"role\", \"role\", \"role\", \"roman\", \"room\", \"room\", \"room\", \"room\", \"rosenberg\", \"rourke\", \"rumor\", \"rumor\", \"rumor\", \"rumor\", \"rumor\", \"rumor\", \"rushed\", \"rushed\", \"rushed\", \"sabah\", \"sad\", \"said\", \"said\", \"said\", \"said\", \"said\", \"said\", \"said\", \"said\", \"said\", \"said\", \"said\", \"said\", \"said\", \"said\", \"said\", \"said\", \"said\", \"said\", \"said\", \"said\", \"saja\", \"samsung\", \"sana\", \"sapphire\", \"sarajevo\", \"satire\", \"satirical\", \"satirical\", \"satirical\", \"saudi\", \"saudi\", \"saudi\", \"say\", \"say\", \"say\", \"say\", \"say\", \"say\", \"say\", \"say\", \"say\", \"say\", \"say\", \"say\", \"say\", \"say\", \"say\", \"say\", \"say\", \"say\", \"say\", \"say\", \"saying\", \"saying\", \"saying\", \"saying\", \"saying\", \"saying\", \"saying\", \"saying\", \"saying\", \"saying\", \"saying\", \"saying\", \"saying\", \"saying\", \"saying\", \"saying\", \"saying\", \"scar\", \"scenario\", \"scene\", \"scene\", \"scene\", \"scene\", \"scene\", \"school\", \"school\", \"school\", \"school\", \"school\", \"school\", \"schoolgirl\", \"schoolgirl\", \"science\", \"science\", \"science\", \"scientist\", \"scientist\", \"scorpion\", \"scotland\", \"scotland\", \"scotland\", \"scottish\", \"scottish\", \"seam\", \"secret\", \"secret\", \"secretly\", \"security\", \"security\", \"security\", \"security\", \"security\", \"security\", \"security\", \"security\", \"seeking\", \"seidel\", \"sell\", \"sell\", \"sell\", \"sensor\", \"seoul\", \"sergeant\", \"service\", \"service\", \"service\", \"service\", \"service\", \"service\", \"service\", \"service\", \"service\", \"service\", \"service\", \"service\", \"service\", \"service\", \"service\", \"seth\", \"setting\", \"sex\", \"sex\", \"sex\", \"sex\", \"sex\", \"sex\", \"sex\", \"sgt\", \"shane\", \"sharing\", \"shekau\", \"shooter\", \"shooting\", \"shooting\", \"shore\", \"shot\", \"shot\", \"shot\", \"shot\", \"show\", \"show\", \"show\", \"show\", \"show\", \"show\", \"show\", \"show\", \"show\", \"show\", \"show\", \"show\", \"show\", \"show\", \"since\", \"since\", \"since\", \"since\", \"since\", \"since\", \"since\", \"since\", \"since\", \"since\", \"since\", \"since\", \"since\", \"since\", \"since\", \"since\", \"since\", \"singh\", \"sister\", \"sister\", \"sister\", \"sister\", \"sister\", \"site\", \"site\", \"site\", \"site\", \"site\", \"site\", \"site\", \"site\", \"site\", \"site\", \"site\", \"site\", \"site\", \"site\", \"six\", \"six\", \"six\", \"six\", \"six\", \"six\", \"six\", \"six\", \"six\", \"six\", \"skin\", \"sky\", \"smartwatch\", \"smith\", \"sneeze\", \"sneezed\", \"sneezing\", \"sniper\", \"snow\", \"snowman\", \"snyder\", \"social\", \"social\", \"social\", \"social\", \"social\", \"social\", \"social\", \"social\", \"social\", \"social\", \"social\", \"social\", \"social\", \"soil\", \"soldier\", \"soldier\", \"soldier\", \"soldier\", \"somali\", \"somers\", \"something\", \"something\", \"something\", \"something\", \"something\", \"something\", \"something\", \"something\", \"something\", \"something\", \"son\", \"son\", \"son\", \"son\", \"son\", \"son\", \"son\", \"son\", \"son\", \"son\", \"son\", \"song\", \"song\", \"song\", \"sony\", \"sorkin\", \"sotloff\", \"sound\", \"sound\", \"sound\", \"sound\", \"sound\", \"sound\", \"sound\", \"source\", \"source\", \"source\", \"source\", \"source\", \"source\", \"source\", \"source\", \"source\", \"source\", \"source\", \"source\", \"source\", \"source\", \"south\", \"south\", \"south\", \"south\", \"south\", \"south\", \"south\", \"south\", \"southern\", \"southern\", \"southern\", \"southern\", \"southern\", \"southern\", \"space\", \"space\", \"space\", \"spca\", \"specie\", \"speculation\", \"speculation\", \"spends\", \"spice\", \"spider\", \"spoon\", \"sport\", \"sport\", \"st\", \"st\", \"st\", \"stainless\", \"star\", \"star\", \"star\", \"star\", \"star\", \"star\", \"star\", \"started\", \"started\", \"started\", \"started\", \"started\", \"started\", \"started\", \"started\", \"started\", \"state\", \"state\", \"state\", \"state\", \"state\", \"state\", \"state\", \"state\", \"state\", \"state\", \"state\", \"state\", \"state\", \"stated\", \"stated\", \"statement\", \"statement\", \"statement\", \"statement\", \"statement\", \"statement\", \"statement\", \"statement\", \"statement\", \"statement\", \"statement\", \"statement\", \"statement\", \"statement\", \"station\", \"station\", \"station\", \"station\", \"station\", \"station\", \"station\", \"station\", \"station\", \"station\", \"station\", \"steel\", \"stephen\", \"steve\", \"steve\", \"steven\", \"still\", \"still\", \"still\", \"still\", \"still\", \"still\", \"still\", \"still\", \"still\", \"still\", \"still\", \"still\", \"still\", \"still\", \"still\", \"still\", \"still\", \"stomach\", \"stomach\", \"store\", \"store\", \"store\", \"story\", \"story\", \"story\", \"story\", \"story\", \"story\", \"story\", \"story\", \"story\", \"story\", \"story\", \"story\", \"story\", \"strap\", \"streaming\", \"streaming\", \"street\", \"street\", \"street\", \"street\", \"street\", \"street\", \"street\", \"street\", \"street\", \"street\", \"street\", \"street\", \"strike\", \"strike\", \"strike\", \"strike\", \"strike\", \"strike\", \"student\", \"student\", \"student\", \"subscription\", \"subscription\", \"subscription\", \"sugarhill\", \"suggestion\", \"suit\", \"suit\", \"suitcase\", \"sunday\", \"sunday\", \"sunday\", \"sunday\", \"sunday\", \"sunday\", \"sunday\", \"sung\", \"sunni\", \"superman\", \"superpower\", \"supported\", \"supported\", \"supporter\", \"supporter\", \"supporter\", \"supreme\", \"sure\", \"sure\", \"sure\", \"sure\", \"sure\", \"sure\", \"suresh\", \"suspended\", \"suspension\", \"suspension\", \"susteren\", \"swimmer\", \"symptom\", \"syria\", \"syria\", \"syria\", \"syria\", \"syria\", \"syrian\", \"syrian\", \"syrian\", \"taibbi\", \"taliban\", \"taliban\", \"talk\", \"talk\", \"talk\", \"talk\", \"talk\", \"talk\", \"talk\", \"talk\", \"talk\", \"talk\", \"talk\", \"talk\", \"tan\", \"tanzania\", \"tape\", \"teacher\", \"teen\", \"teen\", \"teen\", \"teen\", \"teen\", \"teletubbies\", \"terrorism\", \"terrorist\", \"terrorist\", \"terrorist\", \"terrorist\", \"terrorist\", \"terrorist\", \"terrorist\", \"texas\", \"texas\", \"text\", \"texting\", \"theft\", \"theory\", \"thing\", \"thing\", \"thing\", \"thing\", \"thing\", \"thing\", \"thing\", \"thing\", \"thing\", \"thing\", \"think\", \"think\", \"think\", \"think\", \"think\", \"think\", \"think\", \"think\", \"think\", \"think\", \"think\", \"think\", \"think\", \"think\", \"think\", \"think\", \"thomas\", \"thomas\", \"thomas\", \"thought\", \"thought\", \"thought\", \"thought\", \"thought\", \"thought\", \"thought\", \"thought\", \"thought\", \"thought\", \"thought\", \"thought\", \"thought\", \"thought\", \"thought\", \"thursday\", \"thursday\", \"thursday\", \"thursday\", \"thursday\", \"thursday\", \"thursday\", \"thursday\", \"thursday\", \"thursday\", \"thursday\", \"thursday\", \"thus\", \"thus\", \"tiger\", \"time\", \"time\", \"time\", \"time\", \"time\", \"time\", \"time\", \"time\", \"time\", \"time\", \"time\", \"time\", \"time\", \"time\", \"time\", \"time\", \"time\", \"time\", \"time\", \"time\", \"today\", \"today\", \"today\", \"today\", \"today\", \"today\", \"today\", \"today\", \"today\", \"today\", \"today\", \"today\", \"today\", \"told\", \"told\", \"told\", \"told\", \"told\", \"told\", \"told\", \"told\", \"told\", \"told\", \"told\", \"told\", \"told\", \"told\", \"told\", \"told\", \"told\", \"told\", \"told\", \"tom\", \"tom\", \"tor\", \"tour\", \"tour\", \"tour\", \"tower\", \"trading\", \"trail\", \"trained\", \"transpired\", \"tribunal\", \"tripoli\", \"tripoli\", \"tropical\", \"truce\", \"truck\", \"truck\", \"truck\", \"true\", \"true\", \"true\", \"true\", \"true\", \"true\", \"true\", \"true\", \"true\", \"true\", \"true\", \"tuesday\", \"tuesday\", \"tuesday\", \"tuesday\", \"tuesday\", \"tuesday\", \"tuesday\", \"tuesday\", \"tuesday\", \"tuesday\", \"tuesday\", \"tuesday\", \"tuesday\", \"tuesday\", \"tuesday\", \"tunisia\", \"tv\", \"tv\", \"tv\", \"tv\", \"tv\", \"tv\", \"tv\", \"tv\", \"tv\", \"tv\", \"tv\", \"tweet\", \"tweet\", \"tweet\", \"tweet\", \"tweet\", \"twin\", \"twitter\", \"twitter\", \"twitter\", \"twitter\", \"twitter\", \"twitter\", \"twitter\", \"twitter\", \"twitter\", \"twitter\", \"twitter\", \"type\", \"type\", \"u\", \"u\", \"u\", \"u\", \"u\", \"u\", \"u\", \"u\", \"u\", \"u\", \"u\", \"u\", \"u\", \"u\", \"u\", \"u\", \"u\", \"u\", \"u\", \"un\", \"un\", \"unarmed\", \"unarmed\", \"underage\", \"une\", \"university\", \"university\", \"university\", \"university\", \"university\", \"unusual\", \"unusual\", \"unusual\", \"unverified\", \"update\", \"update\", \"update\", \"update\", \"updated\", \"updated\", \"updated\", \"used\", \"used\", \"used\", \"used\", \"used\", \"used\", \"used\", \"used\", \"used\", \"used\", \"used\", \"used\", \"used\", \"used\", \"used\", \"used\", \"useful\", \"user\", \"user\", \"user\", \"user\", \"user\", \"user\", \"v\", \"vandalism\", \"variant\", \"variety\", \"variety\", \"various\", \"various\", \"various\", \"various\", \"vatican\", \"vega\", \"version\", \"version\", \"version\", \"version\", \"version\", \"version\", \"version\", \"version\", \"version\", \"version\", \"vickers\", \"video\", \"video\", \"video\", \"video\", \"video\", \"video\", \"video\", \"video\", \"video\", \"video\", \"video\", \"video\", \"violated\", \"viral\", \"viral\", \"viral\", \"viral\", \"virus\", \"vladi\", \"vocativ\", \"vogue\", \"volley\", \"vomiting\", \"w\", \"walter\", \"want\", \"want\", \"want\", \"want\", \"want\", \"want\", \"want\", \"want\", \"want\", \"want\", \"want\", \"want\", \"wanted\", \"wanted\", \"wanted\", \"wanted\", \"wanted\", \"wanted\", \"wanted\", \"war\", \"war\", \"war\", \"war\", \"war\", \"war\", \"war\", \"war\", \"warner\", \"warren\", \"washington\", \"washington\", \"washington\", \"washington\", \"washington\", \"washington\", \"washington\", \"washington\", \"watch\", \"watch\", \"watch\", \"watch\", \"watch\", \"watch\", \"watch\", \"watch\", \"watch\", \"watch\", \"water\", \"water\", \"water\", \"water\", \"water\", \"water\", \"water\", \"wave\", \"wave\", \"way\", \"way\", \"way\", \"way\", \"way\", \"way\", \"way\", \"way\", \"way\", \"way\", \"way\", \"way\", \"way\", \"way\", \"way\", \"way\", \"weapon\", \"weapon\", \"weapon\", \"weapon\", \"weapon\", \"wearable\", \"website\", \"website\", \"website\", \"website\", \"website\", \"website\", \"website\", \"website\", \"website\", \"wednesday\", \"wednesday\", \"wednesday\", \"wednesday\", \"wednesday\", \"wednesday\", \"wednesday\", \"wednesday\", \"wednesday\", \"wednesday\", \"wednesday\", \"weekend\", \"weekend\", \"weight\", \"weight\", \"welfare\", \"welfare\", \"welfare\", \"well\", \"well\", \"well\", \"well\", \"well\", \"well\", \"well\", \"well\", \"well\", \"well\", \"well\", \"well\", \"well\", \"well\", \"well\", \"well\", \"well\", \"well\", \"wels\", \"west\", \"west\", \"west\", \"west\", \"west\", \"west\", \"west\", \"west\", \"west\", \"west\", \"westminster\", \"whatever\", \"whatever\", \"whatever\", \"whisky\", \"wide\", \"wide\", \"wife\", \"wife\", \"wife\", \"wife\", \"wife\", \"williams\", \"wilson\", \"winning\", \"winning\", \"wintour\", \"woman\", \"woman\", \"woman\", \"woman\", \"woman\", \"woman\", \"woman\", \"woman\", \"woman\", \"woman\", \"woman\", \"woman\", \"woman\", \"woman\", \"wonderful\", \"wood\", \"work\", \"work\", \"work\", \"work\", \"work\", \"work\", \"work\", \"work\", \"work\", \"work\", \"work\", \"work\", \"work\", \"working\", \"working\", \"working\", \"working\", \"working\", \"working\", \"working\", \"working\", \"working\", \"world\", \"world\", \"world\", \"world\", \"world\", \"world\", \"world\", \"world\", \"world\", \"world\", \"world\", \"world\", \"world\", \"world\", \"world\", \"world\", \"world\", \"would\", \"would\", \"would\", \"would\", \"would\", \"would\", \"would\", \"would\", \"would\", \"would\", \"would\", \"would\", \"would\", \"would\", \"would\", \"would\", \"would\", \"would\", \"would\", \"would\", \"wozniak\", \"wright\", \"year\", \"year\", \"year\", \"year\", \"year\", \"year\", \"year\", \"year\", \"year\", \"year\", \"year\", \"year\", \"year\", \"year\", \"year\", \"year\", \"year\", \"year\", \"year\", \"yemen\", \"yemen\", \"yemeni\", \"yeti\", \"yo\", \"york\", \"york\", \"york\", \"york\", \"york\", \"york\", \"york\", \"york\", \"york\", \"york\", \"york\", \"york\", \"youtube\", \"youtube\", \"youtube\", \"youtube\", \"youtube\", \"youtube\", \"ypg\", \"zehaf\", \"zeid\", \"zero\", \"zone\", \"\\u00e0\"]}, \"R\": 30, \"lambda.step\": 0.01, \"plot.opts\": {\"xlab\": \"PC1\", \"ylab\": \"PC2\"}, \"topic.order\": [18, 10, 3, 14, 9, 8, 15, 4, 13, 7, 1, 20, 2, 19, 6, 5, 17, 11, 12, 16]};\n",
       "\n",
       "function LDAvis_load_lib(url, callback){\n",
       "  var s = document.createElement('script');\n",
       "  s.src = url;\n",
       "  s.async = true;\n",
       "  s.onreadystatechange = s.onload = callback;\n",
       "  s.onerror = function(){console.warn(\"failed to load library \" + url);};\n",
       "  document.getElementsByTagName(\"head\")[0].appendChild(s);\n",
       "}\n",
       "\n",
       "if(typeof(LDAvis) !== \"undefined\"){\n",
       "   // already loaded: just create the visualization\n",
       "   !function(LDAvis){\n",
       "       new LDAvis(\"#\" + \"ldavis_el1562960344150721450959324\", ldavis_el1562960344150721450959324_data);\n",
       "   }(LDAvis);\n",
       "}else if(typeof define === \"function\" && define.amd){\n",
       "   // require.js is available: use it to load d3/LDAvis\n",
       "   require.config({paths: {d3: \"https://cdnjs.cloudflare.com/ajax/libs/d3/3.5.5/d3.min\"}});\n",
       "   require([\"d3\"], function(d3){\n",
       "      window.d3 = d3;\n",
       "      LDAvis_load_lib(\"https://cdn.rawgit.com/bmabey/pyLDAvis/files/ldavis.v1.0.0.js\", function(){\n",
       "        new LDAvis(\"#\" + \"ldavis_el1562960344150721450959324\", ldavis_el1562960344150721450959324_data);\n",
       "      });\n",
       "    });\n",
       "}else{\n",
       "    // require.js not available: dynamically load d3 & LDAvis\n",
       "    LDAvis_load_lib(\"https://cdnjs.cloudflare.com/ajax/libs/d3/3.5.5/d3.min.js\", function(){\n",
       "         LDAvis_load_lib(\"https://cdn.rawgit.com/bmabey/pyLDAvis/files/ldavis.v1.0.0.js\", function(){\n",
       "                 new LDAvis(\"#\" + \"ldavis_el1562960344150721450959324\", ldavis_el1562960344150721450959324_data);\n",
       "            })\n",
       "         });\n",
       "}\n",
       "</script>"
      ],
      "text/plain": [
       "PreparedData(topic_coordinates=           Freq  cluster  topics         x         y\n",
       "topic                                               \n",
       "17     8.472898        1       1 -0.226881  0.019120\n",
       "9      7.595188        1       2  0.112287  0.000434\n",
       "2      7.311213        1       3  0.083544  0.021570\n",
       "13     6.791381        1       4  0.108508 -0.080753\n",
       "8      6.466242        1       5 -0.174062  0.042057\n",
       "7      5.406466        1       6  0.187084  0.060082\n",
       "14     5.100646        1       7 -0.112049 -0.049270\n",
       "3      4.986451        1       8 -0.218529  0.084044\n",
       "12     4.938642        1       9  0.117559 -0.017840\n",
       "6      4.882612        1      10 -0.059642  0.100910\n",
       "0      4.623846        1      11 -0.111726  0.080458\n",
       "19     4.126513        1      12  0.143788  0.016085\n",
       "1      4.123122        1      13 -0.024215 -0.294692\n",
       "18     4.007403        1      14  0.105911 -0.023171\n",
       "5      3.879550        1      15  0.103321  0.141865\n",
       "4      3.818975        1      16  0.013768 -0.042435\n",
       "16     3.808369        1      17  0.129779  0.044201\n",
       "10     3.591860        1      18  0.102500  0.032529\n",
       "11     3.399776        1      19 -0.109934 -0.261607\n",
       "15     2.668844        1      20 -0.171012  0.126411, topic_info=     Category           Freq          Term          Total  loglift  logprob\n",
       "term                                                                       \n",
       "6     Default   44046.000000         apple   44046.000000  30.0000  30.0000\n",
       "1574  Default   30443.000000         watch   30443.000000  29.0000  29.0000\n",
       "2527  Default   22237.000000           kim   22237.000000  28.0000  28.0000\n",
       "97    Default   28784.000000            al   28784.000000  27.0000  27.0000\n",
       "1218  Default   46117.000000         video   46117.000000  26.0000  26.0000\n",
       "818   Default   34001.000000           isi   34001.000000  25.0000  25.0000\n",
       "861   Default   20626.000000         north   20626.000000  24.0000  24.0000\n",
       "353   Default   24472.000000        police   24472.000000  23.0000  23.0000\n",
       "1180  Default   16882.000000         foley   16882.000000  22.0000  22.0000\n",
       "363   Default   17941.000000          shot   17941.000000  21.0000  21.0000\n",
       "3992  Default   13909.000000         brown   13909.000000  20.0000  20.0000\n",
       "210   Default  130181.000000          said  130181.000000  19.0000  19.0000\n",
       "343   Default   26540.000000       islamic   26540.000000  18.0000  18.0000\n",
       "914   Default   41793.000000         state   41793.000000  17.0000  17.0000\n",
       "107   Default   17448.000000        border   17448.000000  16.0000  16.0000\n",
       "2895  Default   10801.000000         ebola   10801.000000  15.0000  15.0000\n",
       "944   Default   47036.000000             u   47036.000000  14.0000  14.0000\n",
       "2644  Default   12495.000000          jong   12495.000000  13.0000  13.0000\n",
       "1215  Default   22614.000000         syria   22614.000000  12.0000  12.0000\n",
       "563   Default   20635.000000      american   20635.000000  11.0000  11.0000\n",
       "296   Default   29728.000000           man   29728.000000  10.0000  10.0000\n",
       "816   Default   19261.000000          iraq   19261.000000   9.0000   9.0000\n",
       "279   Default   16631.000000          girl   16631.000000   8.0000   8.0000\n",
       "803   Default   33140.000000         group   33140.000000   7.0000   7.0000\n",
       "1621  Default   13615.000000       officer   13615.000000   6.0000   6.0000\n",
       "1785  Default   10156.000000         haram   10156.000000   5.0000   5.0000\n",
       "1737  Default   10093.000000          boko   10093.000000   4.0000   4.0000\n",
       "2649  Default   10183.000000         korea   10183.000000   3.0000   3.0000\n",
       "43    Default   11492.000000           job   11492.000000   2.0000   2.0000\n",
       "240   Default   10498.000000            un   10498.000000   1.0000   1.0000\n",
       "...       ...            ...           ...            ...      ...      ...\n",
       "8168  Topic20     478.524811       malaria     479.475220   3.6215  -6.4029\n",
       "3573  Topic20     594.336731        frisco     595.911865   3.6209  -6.1861\n",
       "1075  Topic20    4736.736328        banksy    4924.301758   3.5847  -4.1105\n",
       "2227  Topic20    1919.160278        artist    1968.979370   3.5979  -5.0139\n",
       "2904  Topic20     697.702515    biological     701.580933   3.6180  -6.0258\n",
       "3563  Topic20    3521.995605       disease    3687.577881   3.5776  -4.4068\n",
       "853   Topic20    5902.306152         mosul    7561.708008   3.3758  -3.8905\n",
       "1275  Topic20    4152.360352        health    9489.020508   2.7971  -4.2421\n",
       "1258  Topic20     851.376099        deadly    1066.488892   3.3983  -5.8267\n",
       "1724  Topic20    1866.868774        africa    3700.430664   2.9393  -5.0416\n",
       "282   Topic20    3524.289551      hospital   11174.969727   2.4695  -4.4061\n",
       "3559  Topic20     822.756897        dallas    1054.093506   3.3757  -5.8609\n",
       "400   Topic20    3225.888916          case   12429.317383   2.2747  -4.4946\n",
       "746   Topic20    3583.422607          city   16386.230469   2.1034  -4.3895\n",
       "817   Topic20    2737.905518         iraqi   10679.422852   2.2624  -4.6586\n",
       "818   Topic20    4557.311035           isi   34001.765625   1.6138  -4.1491\n",
       "816   Topic20    3309.977295          iraq   19261.029297   1.8624  -4.4689\n",
       "356   Topic20    4637.123535        report   41320.718750   1.4363  -4.1317\n",
       "58    Topic20    3771.854492      official   30180.957031   1.5439  -4.3383\n",
       "775   Topic20    1381.100220      document    3467.085449   2.7031  -5.3429\n",
       "889   Topic20    2571.399170      reported   22301.017578   1.4633  -4.7214\n",
       "758   Topic20    2120.497314       country   13757.372070   1.7536  -4.9142\n",
       "1814  Topic20    1532.947021  organization    5593.669922   2.3291  -5.2386\n",
       "847   Topic20    2352.460205      militant   21492.871094   1.4113  -4.8104\n",
       "346   Topic20    2092.671387        medium   19338.236328   1.3999  -4.9274\n",
       "101   Topic20    1680.197632          area    9741.224609   1.8661  -5.1469\n",
       "210   Topic20    2546.215576          said  130181.601562  -0.3108  -4.7312\n",
       "76    Topic20    1775.794312        source   20733.480469   1.1660  -5.0916\n",
       "694   Topic20    1573.664062         world   13412.435547   1.4807  -5.2124\n",
       "322   Topic20    1559.460449          told   34085.972656   0.5390  -5.2215\n",
       "\n",
       "[1335 rows x 6 columns], token_table=       Topic      Freq     Term\n",
       "term                           \n",
       "90         1  0.017587      000\n",
       "90         2  0.000384      000\n",
       "90         3  0.000230      000\n",
       "90         6  0.469383      000\n",
       "90         7  0.011827      000\n",
       "90         9  0.007296      000\n",
       "90        11  0.070730      000\n",
       "90        12  0.162733      000\n",
       "90        13  0.000307      000\n",
       "90        14  0.168800      000\n",
       "90        16  0.040318      000\n",
       "90        18  0.025036      000\n",
       "90        20  0.025420      000\n",
       "91         2  0.084981      100\n",
       "91         3  0.171154      100\n",
       "91         6  0.150107      100\n",
       "91         7  0.026408      100\n",
       "91        10  0.011318      100\n",
       "91        11  0.022040      100\n",
       "91        12  0.533914      100\n",
       "91        13  0.000199      100\n",
       "1993       1  0.060019       11\n",
       "1993       2  0.000216       11\n",
       "1993       3  0.138172       11\n",
       "1993       4  0.012522       11\n",
       "1993       6  0.095209       11\n",
       "1993       7  0.013817       11\n",
       "1993       8  0.003130       11\n",
       "1993       9  0.044042       11\n",
       "1993      11  0.473133       11\n",
       "...      ...       ...      ...\n",
       "88        19  0.003874     year\n",
       "9054       5  0.993973    yemen\n",
       "9054       8  0.005902    yemen\n",
       "9760       5  0.999278   yemeni\n",
       "10642     14  0.998253     yeti\n",
       "2678      10  0.999595       yo\n",
       "960        1  0.001622     york\n",
       "960        2  0.221359     york\n",
       "960        3  0.003243     york\n",
       "960        4  0.051353     york\n",
       "960        5  0.030406     york\n",
       "960        7  0.006352     york\n",
       "960       10  0.004460     york\n",
       "960       11  0.012027     york\n",
       "960       13  0.102977     york\n",
       "960       14  0.171222     york\n",
       "960       17  0.394203     york\n",
       "960       20  0.000676     york\n",
       "1337       1  0.018227  youtube\n",
       "1337       4  0.182268  youtube\n",
       "1337       5  0.186299  youtube\n",
       "1337      12  0.538216  youtube\n",
       "1337      14  0.072732  youtube\n",
       "1337      18  0.002103  youtube\n",
       "4599       8  0.998413      ypg\n",
       "5006      19  0.999773    zehaf\n",
       "17153      8  0.998594     zeid\n",
       "2064       3  0.998472     zero\n",
       "4835       5  0.999267     zone\n",
       "15670     15  0.999199        à\n",
       "\n",
       "[4040 rows x 3 columns], R=30, lambda_step=0.01, plot_opts={'xlab': 'PC1', 'ylab': 'PC2'}, topic_order=[18, 10, 3, 14, 9, 8, 15, 4, 13, 7, 1, 20, 2, 19, 6, 5, 17, 11, 12, 16])"
      ]
     },
     "execution_count": 52,
     "metadata": {},
     "output_type": "execute_result"
    }
   ],
   "source": [
    "pyLDAvis.gensim.prepare(ldamodel, corpus, dictionary)"
   ]
  },
  {
   "cell_type": "markdown",
   "metadata": {},
   "source": [
    "## LDA Headline"
   ]
  },
  {
   "cell_type": "code",
   "execution_count": 53,
   "metadata": {},
   "outputs": [],
   "source": [
    "dictionary = corpora.Dictionary(list(df_all['Headline']))\n",
    "\n",
    "corpus = [dictionary.doc2bow(text) for text in df_all['Headline']]\n",
    "\n",
    "ldamodel = models.ldamodel.LdaModel(corpus,                     # pass in our corpus\n",
    "                                    id2word = dictionary,       # matches each word to its \"number\" or \"spot\" in the dictionary\n",
    "                                    num_topics = 20,             # number of topics T to find\n",
    "                                    passes = 5,                 # number of passes through corpus; similar to number of epochs\n",
    "                                    minimum_probability = 0.01) # only include topics above this probability threshold"
   ]
  },
  {
   "cell_type": "code",
   "execution_count": 54,
   "metadata": {},
   "outputs": [
    {
     "data": {
      "text/html": [
       "\n",
       "<link rel=\"stylesheet\" type=\"text/css\" href=\"https://cdn.rawgit.com/bmabey/pyLDAvis/files/ldavis.v1.0.0.css\">\n",
       "\n",
       "\n",
       "<div id=\"ldavis_el1562965224204641806059685\"></div>\n",
       "<script type=\"text/javascript\">\n",
       "\n",
       "var ldavis_el1562965224204641806059685_data = {\"mdsDat\": {\"Freq\": [7.175739288330078, 6.986012935638428, 6.434521198272705, 6.159083366394043, 5.968647480010986, 5.822700500488281, 5.576652526855469, 5.277154445648193, 4.846415996551514, 4.759068965911865, 4.680370330810547, 4.676739692687988, 4.4246392250061035, 4.332467079162598, 4.28141975402832, 4.159107208251953, 3.9892666339874268, 3.813821792602539, 3.670226812362671, 2.9659414291381836], \"cluster\": [1, 1, 1, 1, 1, 1, 1, 1, 1, 1, 1, 1, 1, 1, 1, 1, 1, 1, 1, 1], \"topics\": [1, 2, 3, 4, 5, 6, 7, 8, 9, 10, 11, 12, 13, 14, 15, 16, 17, 18, 19, 20], \"x\": [0.1605645436706877, -0.05530077616540467, -0.047171173981781944, 0.03337483510333699, 0.17235885897544365, 0.031228510281752928, 0.031246142855455482, 0.1909325608505671, -0.2621795808964831, 0.15068359640028703, -0.26563630415752004, -0.08066174110768595, 0.22081027580966245, -0.11229698931302902, -0.0793506581379174, -0.0788808246643595, 0.03814453718353541, 0.042447031854176046, -0.1520542401158837, 0.06174139555516295], \"y\": [-0.23676559996180416, 0.09298702398176091, 0.08003288021048158, -0.11865426314337162, 0.1333937306180808, 0.18413000684785508, -0.03935737986067704, 0.0638090394649069, 0.06800163125888015, 0.09640062231898841, 0.023131864834290392, 0.04970328137008726, -0.04485532625367671, -0.026703008500738527, -0.04112768586306496, -0.18655492564035395, -0.16517746485865803, 0.22068603451715352, -0.09338975393974659, -0.05969070740039406]}, \"tinfo\": {\"Category\": [\"Default\", \"Default\", \"Default\", \"Default\", \"Default\", \"Default\", \"Default\", \"Default\", \"Default\", \"Default\", \"Default\", \"Default\", \"Default\", \"Default\", \"Default\", \"Default\", \"Default\", \"Default\", \"Default\", \"Default\", \"Default\", \"Default\", \"Default\", \"Default\", \"Default\", \"Default\", \"Default\", \"Default\", \"Default\", \"Default\", \"Topic1\", \"Topic1\", \"Topic1\", \"Topic1\", \"Topic1\", \"Topic1\", \"Topic1\", \"Topic1\", \"Topic1\", \"Topic1\", \"Topic1\", \"Topic1\", \"Topic1\", \"Topic1\", \"Topic1\", \"Topic1\", \"Topic1\", \"Topic1\", \"Topic1\", \"Topic1\", \"Topic1\", \"Topic1\", \"Topic1\", \"Topic1\", \"Topic1\", \"Topic1\", \"Topic1\", \"Topic1\", \"Topic1\", \"Topic1\", \"Topic1\", \"Topic1\", \"Topic1\", \"Topic1\", \"Topic1\", \"Topic1\", \"Topic1\", \"Topic1\", \"Topic1\", \"Topic1\", \"Topic1\", \"Topic1\", \"Topic1\", \"Topic1\", \"Topic1\", \"Topic1\", \"Topic1\", \"Topic1\", \"Topic1\", \"Topic1\", \"Topic1\", \"Topic1\", \"Topic1\", \"Topic1\", \"Topic2\", \"Topic2\", \"Topic2\", \"Topic2\", \"Topic2\", \"Topic2\", \"Topic2\", \"Topic2\", \"Topic2\", \"Topic2\", \"Topic2\", \"Topic2\", \"Topic2\", \"Topic2\", \"Topic2\", \"Topic2\", \"Topic2\", \"Topic2\", \"Topic2\", \"Topic2\", \"Topic2\", \"Topic2\", \"Topic2\", \"Topic2\", \"Topic2\", \"Topic2\", \"Topic2\", \"Topic2\", \"Topic2\", \"Topic2\", \"Topic2\", \"Topic2\", \"Topic2\", \"Topic2\", \"Topic2\", \"Topic2\", \"Topic2\", \"Topic2\", \"Topic2\", \"Topic2\", \"Topic2\", \"Topic2\", \"Topic2\", \"Topic2\", \"Topic2\", \"Topic2\", \"Topic2\", \"Topic2\", \"Topic2\", \"Topic2\", \"Topic2\", \"Topic2\", \"Topic2\", \"Topic3\", \"Topic3\", \"Topic3\", \"Topic3\", \"Topic3\", \"Topic3\", \"Topic3\", \"Topic3\", \"Topic3\", \"Topic3\", \"Topic3\", \"Topic3\", \"Topic3\", \"Topic3\", \"Topic3\", \"Topic3\", \"Topic3\", \"Topic3\", \"Topic3\", \"Topic3\", \"Topic3\", \"Topic3\", \"Topic3\", \"Topic3\", \"Topic3\", \"Topic3\", \"Topic3\", \"Topic3\", \"Topic3\", \"Topic3\", \"Topic3\", \"Topic3\", \"Topic3\", \"Topic3\", \"Topic3\", \"Topic3\", \"Topic3\", \"Topic3\", \"Topic3\", \"Topic3\", \"Topic3\", \"Topic3\", \"Topic3\", \"Topic3\", \"Topic3\", \"Topic3\", \"Topic3\", \"Topic3\", \"Topic4\", \"Topic4\", \"Topic4\", \"Topic4\", \"Topic4\", \"Topic4\", \"Topic4\", \"Topic4\", \"Topic4\", \"Topic4\", \"Topic4\", \"Topic4\", \"Topic4\", \"Topic4\", \"Topic4\", \"Topic4\", \"Topic4\", \"Topic4\", \"Topic4\", \"Topic4\", \"Topic4\", \"Topic4\", \"Topic4\", \"Topic4\", \"Topic4\", \"Topic4\", \"Topic4\", \"Topic4\", \"Topic4\", \"Topic4\", \"Topic4\", \"Topic4\", \"Topic4\", \"Topic4\", \"Topic4\", \"Topic4\", \"Topic4\", \"Topic4\", \"Topic4\", \"Topic4\", \"Topic4\", \"Topic4\", \"Topic4\", \"Topic4\", \"Topic4\", \"Topic4\", \"Topic4\", \"Topic4\", \"Topic5\", \"Topic5\", \"Topic5\", \"Topic5\", \"Topic5\", \"Topic5\", \"Topic5\", \"Topic5\", \"Topic5\", \"Topic5\", \"Topic5\", \"Topic5\", \"Topic5\", \"Topic5\", \"Topic5\", \"Topic5\", \"Topic5\", \"Topic5\", \"Topic5\", \"Topic5\", \"Topic5\", \"Topic5\", \"Topic5\", \"Topic5\", \"Topic5\", \"Topic5\", \"Topic5\", \"Topic5\", \"Topic5\", \"Topic5\", \"Topic5\", \"Topic5\", \"Topic5\", \"Topic5\", \"Topic5\", \"Topic5\", \"Topic5\", \"Topic5\", \"Topic5\", \"Topic5\", \"Topic5\", \"Topic5\", \"Topic5\", \"Topic5\", \"Topic5\", \"Topic5\", \"Topic5\", \"Topic5\", \"Topic5\", \"Topic5\", \"Topic5\", \"Topic5\", \"Topic5\", \"Topic5\", \"Topic5\", \"Topic5\", \"Topic5\", \"Topic6\", \"Topic6\", \"Topic6\", \"Topic6\", \"Topic6\", \"Topic6\", \"Topic6\", \"Topic6\", \"Topic6\", \"Topic6\", \"Topic6\", \"Topic6\", \"Topic6\", \"Topic6\", \"Topic6\", \"Topic6\", \"Topic6\", \"Topic6\", \"Topic6\", \"Topic6\", \"Topic6\", \"Topic6\", \"Topic6\", \"Topic6\", \"Topic6\", \"Topic6\", \"Topic6\", \"Topic6\", \"Topic6\", \"Topic6\", \"Topic6\", \"Topic6\", \"Topic6\", \"Topic6\", \"Topic6\", \"Topic6\", \"Topic6\", \"Topic6\", \"Topic6\", \"Topic6\", \"Topic6\", \"Topic6\", \"Topic6\", \"Topic6\", \"Topic6\", \"Topic6\", \"Topic6\", \"Topic7\", \"Topic7\", \"Topic7\", \"Topic7\", \"Topic7\", \"Topic7\", \"Topic7\", \"Topic7\", \"Topic7\", \"Topic7\", \"Topic7\", \"Topic7\", \"Topic7\", \"Topic7\", \"Topic7\", \"Topic7\", \"Topic7\", \"Topic7\", \"Topic7\", \"Topic7\", \"Topic7\", \"Topic7\", \"Topic7\", \"Topic7\", \"Topic7\", \"Topic7\", \"Topic7\", \"Topic7\", \"Topic7\", \"Topic7\", \"Topic7\", \"Topic7\", \"Topic7\", \"Topic7\", \"Topic7\", \"Topic7\", \"Topic7\", \"Topic7\", \"Topic7\", \"Topic7\", \"Topic7\", \"Topic7\", \"Topic7\", \"Topic7\", \"Topic7\", \"Topic7\", \"Topic7\", \"Topic7\", \"Topic7\", \"Topic7\", \"Topic7\", \"Topic7\", \"Topic8\", \"Topic8\", \"Topic8\", \"Topic8\", \"Topic8\", \"Topic8\", \"Topic8\", \"Topic8\", \"Topic8\", \"Topic8\", \"Topic8\", \"Topic8\", \"Topic8\", \"Topic8\", \"Topic8\", \"Topic8\", \"Topic8\", \"Topic8\", \"Topic8\", \"Topic8\", \"Topic8\", \"Topic8\", \"Topic8\", \"Topic8\", \"Topic8\", \"Topic8\", \"Topic8\", \"Topic8\", \"Topic8\", \"Topic8\", \"Topic8\", \"Topic8\", \"Topic8\", \"Topic8\", \"Topic8\", \"Topic8\", \"Topic8\", \"Topic8\", \"Topic8\", \"Topic8\", \"Topic8\", \"Topic8\", \"Topic8\", \"Topic8\", \"Topic8\", \"Topic8\", \"Topic8\", \"Topic8\", \"Topic8\", \"Topic8\", \"Topic8\", \"Topic9\", \"Topic9\", \"Topic9\", \"Topic9\", \"Topic9\", \"Topic9\", \"Topic9\", \"Topic9\", \"Topic9\", \"Topic9\", \"Topic9\", \"Topic9\", \"Topic9\", \"Topic9\", \"Topic9\", \"Topic9\", \"Topic9\", \"Topic9\", \"Topic9\", \"Topic9\", \"Topic9\", \"Topic9\", \"Topic9\", \"Topic9\", \"Topic9\", \"Topic9\", \"Topic9\", \"Topic9\", \"Topic9\", \"Topic9\", \"Topic9\", \"Topic9\", \"Topic9\", \"Topic9\", \"Topic9\", \"Topic9\", \"Topic9\", \"Topic9\", \"Topic9\", \"Topic9\", \"Topic9\", \"Topic9\", \"Topic9\", \"Topic9\", \"Topic9\", \"Topic9\", \"Topic9\", \"Topic9\", \"Topic9\", \"Topic9\", \"Topic9\", \"Topic10\", \"Topic10\", \"Topic10\", \"Topic10\", \"Topic10\", \"Topic10\", \"Topic10\", \"Topic10\", \"Topic10\", \"Topic10\", \"Topic10\", \"Topic10\", \"Topic10\", \"Topic10\", \"Topic10\", \"Topic10\", \"Topic10\", \"Topic10\", \"Topic10\", \"Topic10\", \"Topic10\", \"Topic10\", \"Topic10\", \"Topic10\", \"Topic10\", \"Topic10\", \"Topic10\", \"Topic10\", \"Topic10\", \"Topic10\", \"Topic10\", \"Topic10\", \"Topic10\", \"Topic10\", \"Topic10\", \"Topic10\", \"Topic10\", \"Topic10\", \"Topic10\", \"Topic10\", \"Topic10\", \"Topic10\", \"Topic10\", \"Topic10\", \"Topic10\", \"Topic10\", \"Topic10\", \"Topic10\", \"Topic10\", \"Topic11\", \"Topic11\", \"Topic11\", \"Topic11\", \"Topic11\", \"Topic11\", \"Topic11\", \"Topic11\", \"Topic11\", \"Topic11\", \"Topic11\", \"Topic11\", \"Topic11\", \"Topic11\", \"Topic11\", \"Topic11\", \"Topic11\", \"Topic11\", \"Topic11\", \"Topic11\", \"Topic11\", \"Topic11\", \"Topic11\", \"Topic11\", \"Topic11\", \"Topic11\", \"Topic11\", \"Topic11\", \"Topic11\", \"Topic11\", \"Topic11\", \"Topic11\", \"Topic11\", \"Topic11\", \"Topic11\", \"Topic11\", \"Topic11\", \"Topic11\", \"Topic11\", \"Topic11\", \"Topic11\", \"Topic11\", \"Topic11\", \"Topic11\", \"Topic11\", \"Topic11\", \"Topic11\", \"Topic11\", \"Topic11\", \"Topic11\", \"Topic11\", \"Topic11\", \"Topic11\", \"Topic12\", \"Topic12\", \"Topic12\", \"Topic12\", \"Topic12\", \"Topic12\", \"Topic12\", \"Topic12\", \"Topic12\", \"Topic12\", \"Topic12\", \"Topic12\", \"Topic12\", \"Topic12\", \"Topic12\", \"Topic12\", \"Topic12\", \"Topic12\", \"Topic12\", \"Topic12\", \"Topic12\", \"Topic12\", \"Topic12\", \"Topic12\", \"Topic12\", \"Topic12\", \"Topic12\", \"Topic12\", \"Topic12\", \"Topic12\", \"Topic12\", \"Topic12\", \"Topic12\", \"Topic12\", \"Topic12\", \"Topic12\", \"Topic12\", \"Topic12\", \"Topic12\", \"Topic12\", \"Topic12\", \"Topic12\", \"Topic12\", \"Topic12\", \"Topic12\", \"Topic12\", \"Topic12\", \"Topic13\", \"Topic13\", \"Topic13\", \"Topic13\", \"Topic13\", \"Topic13\", \"Topic13\", \"Topic13\", \"Topic13\", \"Topic13\", \"Topic13\", \"Topic13\", \"Topic13\", \"Topic13\", \"Topic13\", \"Topic13\", \"Topic13\", \"Topic13\", \"Topic13\", \"Topic13\", \"Topic13\", \"Topic13\", \"Topic13\", \"Topic13\", \"Topic13\", \"Topic13\", \"Topic13\", \"Topic13\", \"Topic13\", \"Topic13\", \"Topic13\", \"Topic13\", \"Topic13\", \"Topic13\", \"Topic13\", \"Topic13\", \"Topic13\", \"Topic13\", \"Topic13\", \"Topic13\", \"Topic13\", \"Topic13\", \"Topic13\", \"Topic13\", \"Topic13\", \"Topic13\", \"Topic13\", \"Topic13\", \"Topic13\", \"Topic13\", \"Topic13\", \"Topic13\", \"Topic13\", \"Topic13\", \"Topic13\", \"Topic13\", \"Topic13\", \"Topic14\", \"Topic14\", \"Topic14\", \"Topic14\", \"Topic14\", \"Topic14\", \"Topic14\", \"Topic14\", \"Topic14\", \"Topic14\", \"Topic14\", \"Topic14\", \"Topic14\", \"Topic14\", \"Topic14\", \"Topic14\", \"Topic14\", \"Topic14\", \"Topic14\", \"Topic14\", \"Topic14\", \"Topic14\", \"Topic14\", \"Topic14\", \"Topic14\", \"Topic14\", \"Topic14\", \"Topic14\", \"Topic14\", \"Topic14\", \"Topic14\", \"Topic14\", \"Topic14\", \"Topic14\", \"Topic14\", \"Topic14\", \"Topic14\", \"Topic14\", \"Topic14\", \"Topic14\", \"Topic14\", \"Topic14\", \"Topic14\", \"Topic14\", \"Topic14\", \"Topic14\", \"Topic15\", \"Topic15\", \"Topic15\", \"Topic15\", \"Topic15\", \"Topic15\", \"Topic15\", \"Topic15\", \"Topic15\", \"Topic15\", \"Topic15\", \"Topic15\", \"Topic15\", \"Topic15\", \"Topic15\", \"Topic15\", \"Topic15\", \"Topic15\", \"Topic15\", \"Topic15\", \"Topic15\", \"Topic15\", \"Topic15\", \"Topic15\", \"Topic15\", \"Topic15\", \"Topic15\", \"Topic15\", \"Topic15\", \"Topic15\", \"Topic15\", \"Topic15\", \"Topic15\", \"Topic15\", \"Topic15\", \"Topic15\", \"Topic15\", \"Topic15\", \"Topic15\", \"Topic15\", \"Topic15\", \"Topic15\", \"Topic15\", \"Topic15\", \"Topic15\", \"Topic15\", \"Topic15\", \"Topic15\", \"Topic15\", \"Topic15\", \"Topic15\", \"Topic16\", \"Topic16\", \"Topic16\", \"Topic16\", \"Topic16\", \"Topic16\", \"Topic16\", \"Topic16\", \"Topic16\", \"Topic16\", \"Topic16\", \"Topic16\", \"Topic16\", \"Topic16\", \"Topic16\", \"Topic16\", \"Topic16\", \"Topic16\", \"Topic16\", \"Topic16\", \"Topic16\", \"Topic16\", \"Topic16\", \"Topic16\", \"Topic16\", \"Topic16\", \"Topic16\", \"Topic16\", \"Topic16\", \"Topic16\", \"Topic16\", \"Topic16\", \"Topic16\", \"Topic16\", \"Topic16\", \"Topic16\", \"Topic16\", \"Topic16\", \"Topic16\", \"Topic16\", \"Topic16\", \"Topic16\", \"Topic16\", \"Topic16\", \"Topic16\", \"Topic16\", \"Topic16\", \"Topic16\", \"Topic16\", \"Topic16\", \"Topic16\", \"Topic16\", \"Topic16\", \"Topic16\", \"Topic17\", \"Topic17\", \"Topic17\", \"Topic17\", \"Topic17\", \"Topic17\", \"Topic17\", \"Topic17\", \"Topic17\", \"Topic17\", \"Topic17\", \"Topic17\", \"Topic17\", \"Topic17\", \"Topic17\", \"Topic17\", \"Topic17\", \"Topic17\", \"Topic17\", \"Topic17\", \"Topic17\", \"Topic17\", \"Topic17\", \"Topic17\", \"Topic17\", \"Topic17\", \"Topic17\", \"Topic17\", \"Topic17\", \"Topic17\", \"Topic17\", \"Topic17\", \"Topic17\", \"Topic17\", \"Topic17\", \"Topic17\", \"Topic17\", \"Topic17\", \"Topic17\", \"Topic17\", \"Topic17\", \"Topic17\", \"Topic17\", \"Topic17\", \"Topic17\", \"Topic17\", \"Topic17\", \"Topic17\", \"Topic17\", \"Topic17\", \"Topic17\", \"Topic17\", \"Topic17\", \"Topic17\", \"Topic18\", \"Topic18\", \"Topic18\", \"Topic18\", \"Topic18\", \"Topic18\", \"Topic18\", \"Topic18\", \"Topic18\", \"Topic18\", \"Topic18\", \"Topic18\", \"Topic18\", \"Topic18\", \"Topic18\", \"Topic18\", \"Topic18\", \"Topic18\", \"Topic18\", \"Topic18\", \"Topic18\", \"Topic18\", \"Topic18\", \"Topic18\", \"Topic18\", \"Topic18\", \"Topic18\", \"Topic18\", \"Topic18\", \"Topic18\", \"Topic18\", \"Topic18\", \"Topic18\", \"Topic18\", \"Topic18\", \"Topic18\", \"Topic18\", \"Topic18\", \"Topic18\", \"Topic18\", \"Topic18\", \"Topic18\", \"Topic18\", \"Topic18\", \"Topic18\", \"Topic18\", \"Topic18\", \"Topic18\", \"Topic18\", \"Topic18\", \"Topic18\", \"Topic19\", \"Topic19\", \"Topic19\", \"Topic19\", \"Topic19\", \"Topic19\", \"Topic19\", \"Topic19\", \"Topic19\", \"Topic19\", \"Topic19\", \"Topic19\", \"Topic19\", \"Topic19\", \"Topic19\", \"Topic19\", \"Topic19\", \"Topic19\", \"Topic19\", \"Topic19\", \"Topic19\", \"Topic19\", \"Topic19\", \"Topic19\", \"Topic19\", \"Topic19\", \"Topic19\", \"Topic19\", \"Topic19\", \"Topic19\", \"Topic19\", \"Topic19\", \"Topic19\", \"Topic19\", \"Topic19\", \"Topic19\", \"Topic19\", \"Topic19\", \"Topic19\", \"Topic19\", \"Topic19\", \"Topic19\", \"Topic19\", \"Topic19\", \"Topic19\", \"Topic19\", \"Topic19\", \"Topic19\", \"Topic19\", \"Topic20\", \"Topic20\", \"Topic20\", \"Topic20\", \"Topic20\", \"Topic20\", \"Topic20\", \"Topic20\", \"Topic20\", \"Topic20\", \"Topic20\", \"Topic20\", \"Topic20\", \"Topic20\", \"Topic20\", \"Topic20\", \"Topic20\", \"Topic20\", \"Topic20\", \"Topic20\", \"Topic20\", \"Topic20\", \"Topic20\", \"Topic20\", \"Topic20\", \"Topic20\", \"Topic20\", \"Topic20\", \"Topic20\", \"Topic20\", \"Topic20\", \"Topic20\", \"Topic20\", \"Topic20\", \"Topic20\", \"Topic20\", \"Topic20\", \"Topic20\", \"Topic20\", \"Topic20\", \"Topic20\", \"Topic20\", \"Topic20\", \"Topic20\", \"Topic20\", \"Topic20\", \"Topic20\", \"Topic20\", \"Topic20\", \"Topic20\", \"Topic20\"], \"Freq\": [2875.0, 6749.0, 2292.0, 2870.0, 2829.0, 2661.0, 2099.0, 3714.0, 1731.0, 2402.0, 1844.0, 1844.0, 1624.0, 1779.0, 2009.0, 2329.0, 1652.0, 2153.0, 1580.0, 2210.0, 2631.0, 1920.0, 1490.0, 1155.0, 1155.0, 1193.0, 1056.0, 1605.0, 1395.0, 1026.0, 792.9713745117188, 1008.8053588867188, 286.52001953125, 217.56784057617188, 200.76548767089844, 200.47760009765625, 189.16534423828125, 171.58436584472656, 146.2349853515625, 142.91322326660156, 138.36648559570312, 136.2649688720703, 134.23101806640625, 125.88581085205078, 125.88581085205078, 125.88581085205078, 114.79756927490234, 110.89839172363281, 110.0985336303711, 99.2598648071289, 95.46320343017578, 95.11837768554688, 93.42453002929688, 92.37467193603516, 86.84658813476562, 85.04025268554688, 82.85579681396484, 81.83161163330078, 80.08869934082031, 77.21263122558594, 2589.18359375, 2416.935302734375, 306.2274169921875, 1751.97509765625, 1538.7447509765625, 1848.53173828125, 701.5928955078125, 500.1890869140625, 1861.4208984375, 239.89161682128906, 235.07431030273438, 184.26425170898438, 317.0762023925781, 211.70260620117188, 949.8392333984375, 321.8274230957031, 429.44671630859375, 501.3822326660156, 404.4494934082031, 246.5094451904297, 517.0792846679688, 298.75238037109375, 354.1619873046875, 188.54188537597656, 1651.1007080078125, 1579.293701171875, 686.667724609375, 680.396728515625, 658.4141235351562, 565.4410400390625, 339.2346496582031, 286.87109375, 203.36129760742188, 200.3887176513672, 191.4350128173828, 185.453857421875, 155.8335723876953, 152.25865173339844, 148.58383178710938, 134.68919372558594, 126.85491180419922, 122.48489379882812, 113.46375274658203, 107.71548461914062, 107.71548461914062, 105.59003448486328, 101.14977264404297, 92.08847045898438, 91.10282135009766, 88.15576171875, 85.14734649658203, 84.75788879394531, 81.22472381591797, 73.8790283203125, 449.9371032714844, 1064.04052734375, 1064.04052734375, 1150.9078369140625, 307.55364990234375, 1564.3128662109375, 172.86390686035156, 325.0306091308594, 638.1716918945312, 305.3308410644531, 277.1401672363281, 336.00091552734375, 557.951416015625, 386.30023193359375, 332.8222961425781, 413.50335693359375, 214.6189422607422, 317.298095703125, 372.5081481933594, 337.8851623535156, 324.38916015625, 296.8066101074219, 226.3693084716797, 2291.783447265625, 2098.62744140625, 1778.6336669921875, 817.5681762695312, 697.2354736328125, 634.865966796875, 460.09381103515625, 444.9341125488281, 394.6261291503906, 320.06903076171875, 287.5259094238281, 222.32431030273438, 208.85903930664062, 208.2335968017578, 208.11700439453125, 198.383056640625, 173.55221557617188, 164.65650939941406, 145.34432983398438, 132.9766082763672, 121.9271469116211, 115.25865936279297, 108.17556762695312, 105.56157684326172, 104.63536834716797, 104.63536834716797, 102.94020080566406, 102.52909088134766, 101.3094482421875, 99.98590087890625, 1074.1884765625, 1008.834228515625, 560.831298828125, 346.7602844238281, 333.85357666015625, 380.5188293457031, 299.3264465332031, 274.08087158203125, 353.45037841796875, 402.3600158691406, 291.12542724609375, 458.4812927246094, 314.75335693359375, 402.3421325683594, 306.2497863769531, 243.3955841064453, 253.1682891845703, 219.359619140625, 1843.8619384765625, 1843.8619384765625, 943.6149291992188, 913.1637573242188, 467.1455383300781, 466.3001403808594, 459.7906188964844, 420.4530944824219, 397.2080993652344, 380.26226806640625, 278.08404541015625, 184.253662109375, 181.6205596923828, 168.60708618164062, 168.2286834716797, 150.7308807373047, 145.2216033935547, 138.81008911132812, 136.77261352539062, 134.0946044921875, 131.14178466796875, 126.2186279296875, 119.86428833007812, 119.86428833007812, 116.507568359375, 108.77120971679688, 107.80758666992188, 106.25613403320312, 91.90581512451172, 91.81704711914062, 91.81704711914062, 706.1594848632812, 476.27813720703125, 1010.8931274414062, 773.3672485351562, 593.3247680664062, 505.9541015625, 198.88937377929688, 577.1339721679688, 219.07205200195312, 698.0236206054688, 222.43203735351562, 204.7866668701172, 178.19351196289062, 203.93072509765625, 374.165283203125, 229.38949584960938, 217.48440551757812, 306.1789245605469, 283.8673095703125, 253.1417694091797, 235.52474975585938, 211.91554260253906, 209.80677795410156, 197.15481567382812, 194.8558349609375, 188.12783813476562, 183.14706420898438, 180.10848999023438, 170.6259002685547, 164.983642578125, 164.3626708984375, 147.96774291992188, 141.60862731933594, 135.64718627929688, 125.77364349365234, 120.97907257080078, 111.86507415771484, 111.86507415771484, 109.02552795410156, 105.14429473876953, 104.99957275390625, 101.25247955322266, 99.46287536621094, 91.147705078125, 84.29561614990234, 83.81745147705078, 82.78430938720703, 82.78430938720703, 765.3392944335938, 448.64874267578125, 298.650146484375, 1132.0592041015625, 458.6161193847656, 556.377197265625, 260.2894287109375, 864.32568359375, 306.5673828125, 317.90362548828125, 1592.832763671875, 398.6478271484375, 364.4627685546875, 774.8847045898438, 382.21392822265625, 272.2852478027344, 324.5173034667969, 243.8015594482422, 443.17718505859375, 256.4811706542969, 224.88124084472656, 325.8380126953125, 303.3191223144531, 256.7423400878906, 219.9964599609375, 212.38973999023438, 568.5481567382812, 486.1279296875, 486.1279296875, 486.1279296875, 429.5337219238281, 393.63427734375, 393.63427734375, 355.81280517578125, 355.81280517578125, 318.8733825683594, 300.841796875, 302.87957763671875, 294.28924560546875, 290.3218688964844, 284.08856201171875, 256.9191589355469, 217.21580505371094, 216.06613159179688, 216.06613159179688, 200.41822814941406, 200.24700927734375, 188.91465759277344, 158.22311401367188, 153.15899658203125, 150.92684936523438, 126.04505157470703, 109.71041870117188, 107.26303100585938, 87.78167724609375, 87.75048828125, 915.2490844726562, 322.1092529296875, 299.0884094238281, 268.18646240234375, 656.91943359375, 839.5744018554688, 398.13116455078125, 600.7550048828125, 284.8723449707031, 279.171875, 544.400146484375, 351.431396484375, 267.7654113769531, 349.38787841796875, 307.333984375, 323.49835205078125, 314.9254455566406, 598.6488647460938, 318.9383239746094, 318.9383239746094, 317.8992919921875, 309.22210693359375, 307.4088134765625, 239.51817321777344, 228.35594177246094, 218.1934051513672, 218.1934051513672, 207.95620727539062, 207.95620727539062, 194.9642791748047, 194.4105224609375, 187.90318298339844, 180.71029663085938, 174.4014434814453, 162.78379821777344, 151.31655883789062, 128.36842346191406, 115.73986053466797, 108.19972229003906, 107.77255249023438, 107.47880554199219, 106.67752075195312, 105.75057220458984, 105.75057220458984, 102.09505462646484, 100.62684631347656, 98.82669830322266, 396.1276550292969, 274.370361328125, 609.2509155273438, 392.1324768066406, 403.603759765625, 425.68572998046875, 212.80250549316406, 519.716552734375, 673.7548217773438, 469.3477478027344, 897.97216796875, 440.4787902832031, 343.06854248046875, 393.2862243652344, 596.9196166992188, 266.65594482421875, 339.4443359375, 363.47613525390625, 386.0295715332031, 267.529296875, 218.8625946044922, 233.06716918945312, 1055.5882568359375, 827.5565795898438, 449.6419372558594, 449.6419372558594, 438.30853271484375, 288.75103759765625, 283.4960021972656, 232.88848876953125, 193.2826690673828, 177.80776977539062, 154.15676879882812, 152.81349182128906, 152.81349182128906, 141.92494201660156, 135.56979370117188, 134.9605712890625, 126.734619140625, 116.42315673828125, 114.14420318603516, 106.04203796386719, 105.26478576660156, 95.87252044677734, 91.623779296875, 86.56512451171875, 80.57349395751953, 78.01448822021484, 78.01448822021484, 76.71623229980469, 75.30599975585938, 69.5839614868164, 717.4110107421875, 1660.2418212890625, 505.9130554199219, 376.15496826171875, 407.6925354003906, 180.80978393554688, 232.99801635742188, 216.8099365234375, 213.18162536621094, 710.3081665039062, 1014.3538208007812, 341.5658874511719, 1033.453369140625, 331.53607177734375, 407.8365173339844, 160.0806121826172, 206.63442993164062, 178.87266540527344, 189.30506896972656, 160.85269165039062, 161.8395233154297, 846.3751831054688, 626.6708374023438, 331.8798522949219, 331.8798522949219, 304.8821716308594, 266.8281555175781, 204.69244384765625, 193.69461059570312, 191.52342224121094, 147.91893005371094, 147.22666931152344, 127.5644760131836, 117.18013000488281, 111.10230255126953, 109.80033874511719, 109.34564971923828, 109.34564971923828, 104.89358520507812, 99.52901458740234, 97.15245056152344, 84.89815521240234, 84.54859924316406, 83.27597045898438, 78.05583190917969, 76.0182876586914, 71.61373138427734, 70.29408264160156, 68.5398941040039, 65.48381042480469, 64.98600769042969, 537.7723999023438, 314.507568359375, 278.3561706542969, 422.6524353027344, 535.1767578125, 1217.9954833984375, 533.1629638671875, 227.955078125, 164.0264434814453, 1071.1229248046875, 435.6199645996094, 200.94651794433594, 221.33148193359375, 343.9214782714844, 311.3294982910156, 265.4136962890625, 163.01678466796875, 171.65904235839844, 276.7439880371094, 167.4345703125, 163.01678466796875, 390.2874450683594, 370.35400390625, 368.8913879394531, 326.9884338378906, 298.58660888671875, 268.29571533203125, 253.68002319335938, 236.1293487548828, 214.3413848876953, 206.45375061035156, 191.9362030029297, 165.2914581298828, 164.8216094970703, 164.42239379882812, 161.76596069335938, 156.69017028808594, 124.01959991455078, 120.44791412353516, 117.39673614501953, 113.98764038085938, 113.9322509765625, 108.71429443359375, 105.03239440917969, 103.34988403320312, 96.65254211425781, 93.12049102783203, 90.0306167602539, 89.34693908691406, 87.59744262695312, 86.61554718017578, 704.0633544921875, 459.49346923828125, 290.14697265625, 412.269775390625, 326.20416259765625, 260.3685607910156, 285.1601867675781, 1018.0570678710938, 239.45494079589844, 191.6727752685547, 464.6156005859375, 211.0524139404297, 384.0523986816406, 379.5755920410156, 230.9688262939453, 296.4295349121094, 191.50454711914062, 195.97720336914062, 203.25653076171875, 432.7109680175781, 432.7109680175781, 304.6593017578125, 260.3944396972656, 204.97879028320312, 198.92056274414062, 177.90904235839844, 177.2298126220703, 171.7510528564453, 164.60365295410156, 164.60365295410156, 173.3182373046875, 128.0956573486328, 123.85042572021484, 120.47380065917969, 117.81891632080078, 117.81891632080078, 107.928955078125, 102.33304595947266, 100.6404037475586, 98.04922485351562, 90.73233032226562, 88.46014404296875, 81.9959487915039, 80.24586486816406, 76.70358276367188, 70.43482208251953, 67.4234390258789, 66.77316284179688, 64.036376953125, 503.5452880859375, 295.4426574707031, 150.4385223388672, 171.7510528564453, 1528.6138916015625, 407.4113464355469, 174.7572479248047, 303.79052734375, 207.51278686523438, 810.954345703125, 159.06431579589844, 356.2159423828125, 365.87310791015625, 721.7706909179688, 205.97439575195312, 197.02520751953125, 212.1443634033203, 268.5570068359375, 180.27554321289062, 171.7510528564453, 207.06968688964844, 168.3732147216797, 169.3049774169922, 1730.8009033203125, 1623.2431640625, 1154.6414794921875, 1154.6414794921875, 626.5968627929688, 450.08203125, 228.18185424804688, 215.7598419189453, 206.1644744873047, 191.53732299804688, 183.5159912109375, 179.50155639648438, 170.6384735107422, 165.91644287109375, 144.67591857910156, 144.6143341064453, 122.36624145507812, 110.92081451416016, 94.07424926757812, 91.14327239990234, 90.57933807373047, 89.889892578125, 89.889892578125, 88.63433074951172, 88.28520202636719, 84.98230743408203, 77.54332733154297, 73.72137451171875, 72.30696105957031, 69.5712661743164, 430.8501281738281, 1014.58056640625, 266.43646240234375, 172.70372009277344, 294.79449462890625, 139.01499938964844, 237.46937561035156, 155.7997283935547, 107.5513687133789, 198.87632751464844, 101.30420684814453, 121.08987426757812, 155.01890563964844, 131.08090209960938, 150.76559448242188, 140.88894653320312, 122.64036560058594, 338.9222106933594, 271.9188232421875, 240.4253387451172, 221.80999755859375, 213.73373413085938, 207.50643920898438, 205.4313201904297, 151.06336975097656, 125.07832336425781, 124.07154846191406, 118.73094177246094, 112.68936157226562, 94.74716186523438, 90.44085693359375, 87.20761108398438, 84.81168365478516, 84.61884307861328, 83.59935760498047, 83.59935760498047, 83.59935760498047, 82.00641632080078, 78.26399993896484, 77.5740966796875, 77.34748840332031, 75.2757797241211, 69.94750213623047, 69.5258560180664, 66.40924072265625, 65.56092834472656, 60.17399215698242, 363.0451965332031, 210.71206665039062, 401.4209289550781, 171.58023071289062, 213.99563598632812, 941.3863525390625, 507.2895812988281, 213.19036865234375, 1259.893798828125, 941.0796508789062, 114.1310806274414, 1147.114501953125, 113.33576965332031, 150.9290313720703, 285.2314758300781, 144.34619140625, 373.46923828125, 259.5444030761719, 200.9445037841797, 289.980712890625, 171.30877685546875, 312.51959228515625, 190.36456298828125, 276.9924011230469, 225.53399658203125, 184.2677459716797, 189.7294158935547, 651.4899291992188, 553.9141235351562, 500.680908203125, 500.680908203125, 500.680908203125, 460.678955078125, 460.678955078125, 460.678955078125, 460.678955078125, 398.0078125, 386.8506164550781, 341.5984802246094, 334.4701843261719, 303.28790283203125, 220.3920135498047, 188.69346618652344, 163.14405822753906, 137.74075317382812, 128.8736114501953, 127.53465270996094, 115.54632568359375, 112.9316177368164, 109.09608459472656, 99.7719497680664, 129.85206604003906, 82.6644058227539, 81.83187866210938, 81.78193664550781, 80.56623077392578, 79.98342895507812, 135.0167999267578, 323.39031982421875, 335.0874938964844, 196.92039489746094, 287.2945251464844, 255.95005798339844, 280.3448791503906, 342.4599304199219, 212.4182586669922, 341.2052001953125, 305.7637023925781, 245.20204162597656, 145.31040954589844, 214.1247100830078, 282.5998229980469, 228.4296112060547, 326.61322021484375, 250.91751098632812, 232.74664306640625, 232.5533905029297, 231.06463623046875, 225.2747039794922, 185.89706420898438, 179.05638122558594, 132.50343322753906, 130.8939208984375, 126.35706329345703, 103.39414978027344, 103.39414978027344, 101.7267074584961, 101.71696472167969, 100.54124450683594, 100.00885772705078, 97.1893081665039, 94.2557601928711, 92.68370819091797, 89.91175079345703, 88.11539459228516, 86.93572998046875, 84.93710327148438, 83.08865356445312, 82.51339721679688, 75.10469818115234, 74.54338836669922, 74.26961517333984, 73.0993881225586, 506.4663391113281, 200.09217834472656, 344.4867858886719, 122.9384536743164, 176.68789672851562, 377.3638000488281, 400.4284362792969, 269.867431640625, 132.55191040039062, 164.64559936523438, 160.77182006835938, 147.69989013671875, 190.7539825439453, 309.933349609375, 147.5650177001953, 262.9145202636719, 155.4728240966797, 128.4899444580078, 163.35580444335938, 166.4114532470703, 140.09523010253906, 695.18017578125, 347.61627197265625, 347.61627197265625, 187.49124145507812, 179.94992065429688, 161.97174072265625, 157.87435913085938, 133.17852783203125, 118.64476013183594, 113.21734619140625, 102.97664642333984, 102.4239273071289, 99.48245239257812, 92.24824523925781, 91.88758850097656, 91.23670959472656, 90.25236511230469, 87.70631408691406, 82.1730728149414, 76.5385971069336, 75.80426025390625, 73.40235137939453, 70.99992370605469, 69.1792984008789, 67.6252212524414, 64.35980987548828, 64.00345611572266, 61.5368766784668, 60.7390251159668, 60.731719970703125, 598.3079833984375, 194.31549072265625, 413.1933898925781, 586.21484375, 131.91014099121094, 168.23887634277344, 476.7493896484375, 255.57933044433594, 146.06655883789062, 799.0504760742188, 301.433837890625, 298.6053161621094, 141.8856658935547, 149.00767517089844, 552.4031372070312, 228.6248779296875, 137.59405517578125, 249.75746154785156, 173.23475646972656, 223.0003204345703, 225.91761779785156, 274.54119873046875, 145.40194702148438, 146.2053985595703, 630.893310546875, 396.31744384765625, 282.6764831542969, 250.52748107910156, 227.49783325195312, 207.47486877441406, 200.19569396972656, 196.07884216308594, 155.85008239746094, 138.1423797607422, 136.86105346679688, 136.1996307373047, 123.7684097290039, 123.53350830078125, 110.28260803222656, 109.9300537109375, 109.88102722167969, 105.02615356445312, 103.15562438964844, 92.95369720458984, 84.8818359375, 78.58147430419922, 75.34622955322266, 73.66532135009766, 69.37552642822266, 66.37843322753906, 65.22529602050781, 64.65970611572266, 62.158836364746094, 56.269691467285156, 901.0518188476562, 160.32681274414062, 273.15130615234375, 138.07369995117188, 489.9087219238281, 94.76725006103516, 418.6458435058594, 704.4646606445312, 136.67698669433594, 126.55887603759766, 230.55149841308594, 242.97462463378906, 218.95526123046875, 180.2813720703125, 234.65335083007812, 370.607421875, 237.13771057128906, 149.6065216064453, 155.27255249023438, 192.12159729003906, 212.11300659179688, 243.83990478515625, 158.1583251953125, 160.18435668945312, 321.41668701171875, 311.6407470703125, 302.4753723144531, 228.4951629638672, 208.04635620117188, 201.68038940429688, 198.10601806640625, 166.0745086669922, 162.1941680908203, 161.6334228515625, 157.17724609375, 155.33055114746094, 151.07565307617188, 150.44766235351562, 150.44766235351562, 134.47048950195312, 127.68383026123047, 125.2414321899414, 109.75328063964844, 97.0431900024414, 96.5065689086914, 92.78742980957031, 92.69319152832031, 82.010498046875, 82.010498046875, 82.010498046875, 77.71261596679688, 73.59893035888672, 72.2203598022461, 66.3231201171875, 299.34686279296875, 225.35487365722656, 266.5873718261719, 136.9689483642578, 207.6003875732422, 156.45387268066406, 129.6615447998047, 220.44227600097656, 145.97128295898438, 263.3128967285156, 373.2945556640625, 182.556640625, 192.1038055419922, 279.3829345703125, 179.91940307617188, 215.60714721679688, 176.57334899902344, 161.7637481689453, 190.3621826171875, 181.40426635742188, 158.56483459472656, 604.9957275390625, 268.3905334472656, 257.3336486816406, 256.77801513671875, 195.37344360351562, 175.07806396484375, 173.37722778320312, 171.3765411376953, 165.05538940429688, 161.031494140625, 153.91111755371094, 140.91627502441406, 136.43408203125, 136.43408203125, 130.09080505371094, 124.63265228271484, 118.85478210449219, 115.09505462646484, 115.09505462646484, 112.56200408935547, 100.20457458496094, 98.07353210449219, 90.35712432861328, 90.09857940673828, 88.495361328125, 87.91832733154297, 87.91832733154297, 83.16305541992188, 72.7302474975586, 71.68152618408203, 193.82896423339844, 244.65818786621094, 549.2398681640625, 301.60015869140625, 202.27069091796875, 206.68724060058594, 221.29635620117188, 217.42343139648438, 245.74684143066406, 156.04342651367188, 144.8472900390625, 181.5599365234375, 138.84262084960938, 148.99217224121094, 155.2443084716797, 172.34132385253906, 177.1759490966797, 151.9095916748047, 141.91258239746094, 701.5958862304688, 583.24365234375, 430.39276123046875, 228.51751708984375, 213.67893981933594, 193.9705810546875, 181.28968811035156, 146.2278594970703, 119.61017608642578, 115.92383575439453, 104.27598571777344, 103.57655334472656, 102.10897064208984, 101.77071380615234, 95.75634002685547, 89.17670440673828, 87.34278106689453, 81.00245666503906, 73.14439392089844, 71.14923858642578, 60.349090576171875, 54.13584518432617, 53.068870544433594, 53.068870544433594, 52.95062255859375, 47.33061218261719, 46.50128173828125, 46.50128173828125, 44.828033447265625, 41.45256042480469, 166.68807983398438, 183.569580078125, 307.2090148925781, 657.3780517578125, 217.60708618164062, 257.1194152832031, 241.18182373046875, 478.5100402832031, 92.45682525634766, 286.7922668457031, 125.26254272460938, 111.78886413574219, 152.96383666992188, 317.9726257324219, 285.5487060546875, 157.4228515625, 163.84437561035156, 141.13851928710938, 117.41712951660156, 106.75044250488281, 104.63139343261719], \"Term\": [\"state\", \"isi\", \"kim\", \"islamic\", \"apple\", \"foley\", \"jong\", \"u\", \"steve\", \"james\", \"haram\", \"boko\", \"job\", \"un\", \"leader\", \"watch\", \"brown\", \"journalist\", \"audio\", \"michael\", \"video\", \"american\", \"girl\", \"christian\", \"bale\", \"play\", \"al\", \"militant\", \"shooting\", \"student\", \"beheads\", \"wright\", \"n\", \"college\", \"fly\", \"executed\", \"age\", \"fabricated\", \"rajasthan\", \"translate\", \"developer\", \"evil\", \"499\", \"dam\", \"gaza\", \"israel\", \"game\", \"bogus\", \"sharing\", \"flood\", \"awesome\", \"52\", \"theory\", \"monitoring\", \"britain\", \"999\", \"resignation\", \"2012\", \"dupe\", \"hollywood\", \"state\", \"islamic\", \"training\", \"journalist\", \"american\", \"james\", \"beheaded\", \"photojournalist\", \"foley\", \"pilot\", \"jet\", \"apparently\", \"isil\", \"message\", \"isi\", \"iraq\", \"missing\", \"video\", \"reportedly\", \"breaking\", \"u\", \"kidnapped\", \"claim\", \"fighter\", \"brown\", \"audio\", \"recording\", \"mohammed\", \"emwazi\", \"named\", \"vice\", \"capture\", \"vega\", \"tip\", \"paid\", \"ceo\", \"identity\", \"shane\", \"pizza\", \"graffiti\", \"instead\", \"six\", \"redwood\", \"pounder\", \"quarter\", \"suggests\", \"ferguson\", \"park\", \"mourn\", \"explosion\", \"comment\", \"giggling\", \"account\", \"kidnap\", \"cnn\", \"john\", \"jihadi\", \"shooting\", \"dinner\", \"michael\", \"revealed\", \"west\", \"alleged\", \"killer\", \"app\", \"300\", \"shot\", \"identified\", \"london\", \"000\", \"google\", \"medium\", \"new\", \"man\", \"isi\", \"report\", \"reportedly\", \"kim\", \"jong\", \"un\", \"nicaragua\", \"ankle\", \"korea\", \"korean\", \"crater\", \"managua\", \"yo\", \"memorial\", \"heaven\", \"charge\", \"dictator\", \"fractured\", \"stop\", \"impact\", \"hill\", \"meteor\", \"francis\", \"foot\", \"cheese\", \"fat\", \"cause\", \"snake\", \"wine\", \"ill\", \"including\", \"railway\", \"mysterious\", \"meteorite\", \"north\", \"sister\", \"surgery\", \"leaf\", \"capital\", \"gunman\", \"small\", \"parliament\", \"soldier\", \"strike\", \"shot\", \"war\", \"say\", \"leader\", \"shooting\", \"report\", \"ottawa\", \"haram\", \"boko\", \"ceasefire\", \"nigeria\", \"truck\", \"truce\", \"taliban\", \"plumber\", \"schoolgirl\", \"nigerian\", \"released\", \"free\", \"helmet\", \"survives\", \"scottish\", \"hope\", \"powerful\", \"question\", \"headshot\", \"ever\", \"hebdo\", \"breached\", \"constipated\", \"goldfish\", \"line\", \"saved\", \"agreed\", \"massive\", \"prisoner\", \"struck\", \"talking\", \"denies\", \"deal\", \"girl\", \"kidnapped\", \"release\", \"texas\", \"cease\", \"attack\", \"reported\", \"say\", \"marine\", \"despite\", \"syrian\", \"fire\", \"claim\", \"official\", \"syria\", \"david\", \"snowman\", \"sex\", \"issue\", \"cleric\", \"island\", \"paul\", \"across\", \"selling\", \"getting\", \"capsule\", \"fatwa\", \"bugatti\", \"mortgage\", \"rep\", \"veyron\", \"ten\", \"tear\", \"bin\", \"kayla\", \"mueller\", \"castrate\", \"bed\", \"investigates\", \"threat\", \"unearthed\", \"crisis\", \"earth\", \"1795\", \"paint\", \"vandal\", \"penis\", \"contracted\", \"haines\", \"fighter\", \"iraqi\", \"border\", \"chop\", \"ebola\", \"least\", \"girlfriend\", \"isi\", \"caught\", \"hostage\", \"claim\", \"medium\", \"saudi\", \"texas\", \"cut\", \"report\", \"god\", \"priest\", \"man\", \"u\", \"militant\", \"female\", \"10\", \"skin\", \"pumpkin\", \"spice\", \"condom\", \"burrowed\", \"zehaf\", \"bibeau\", \"culkin\", \"macaulay\", \"scar\", \"tropical\", \"rapist\", \"yemen\", \"angry\", \"burrow\", \"facebook\", \"meat\", \"luke\", \"somers\", \"cleaver\", \"appendix\", \"durex\", \"thing\", \"shooter\", \"hero\", \"tb\", \"butcher\", \"untrue\", \"ministry\", \"nearly\", \"spider\", \"rescue\", \"attempt\", \"actor\", \"death\", \"dead\", \"ottawa\", \"hoax\", \"mob\", \"4\", \"man\", \"killed\", \"case\", \"michael\", \"rumor\", \"say\", \"report\", \"homeless\", \"rosenberg\", \"gill\", \"scotland\", \"2015\", \"spends\", \"io\", \"mushroom\", \"icloud\", \"8\", \"buckingham\", \"palace\", \"magic\", \"kobani\", \"safe\", \"food\", \"document\", \"bug\", \"surprise\", \"us\", \"fighting\", \"quarantined\", \"secretly\", \"gift\", \"eyewitness\", \"gravity\", \"decrease\", \"purport\", \"summer\", \"ypg\", \"israeli\", \"libyan\", \"11\", \"restaurant\", \"9\", \"100\", \"week\", \"captured\", \"woman\", \"canadian\", \"video\", \"show\", \"fear\", \"beheading\", \"man\", \"viral\", \"missing\", \"report\", \"isi\", \"new\", \"see\", \"say\", \"al\", \"wife\", \"bakr\", \"abu\", \"drone\", \"7\", \"detained\", \"predator\", \"come\", \"massacre\", \"cross\", \"domestic\", \"espn\", \"town\", \"panel\", \"shoot\", \"somali\", \"debunked\", \"entering\", \"droppings\", \"shabab\", \"tonight\", \"fault\", \"looking\", \"hearing\", \"conde\", \"nast\", \"circling\", \"patrolling\", \"threatens\", \"baghdadi\", \"leader\", \"lebanon\", \"airstrike\", \"terrorist\", \"violence\", \"somalia\", \"congressman\", \"hit\", \"killed\", \"u\", \"mexico\", \"isi\", \"border\", \"say\", \"problem\", \"syria\", \"son\", \"woman\", \"iraq\", \"reportedly\", \"rat\", \"vogue\", \"wintour\", \"anna\", \"stainless\", \"infestation\", \"feature\", \"trade\", \"cost\", \"much\", \"teenager\", \"planning\", \"lynch\", \"cuba\", \"spent\", \"tom\", \"brokaw\", \"nightly\", \"due\", \"pricing\", \"sneeze\", \"catching\", \"variant\", \"taking\", \"reserve\", \"sign\", \"ebay\", \"16\", \"samsung\", \"la\", \"gold\", \"detroit\", \"edition\", \"office\", \"batmobile\", \"watch\", \"stolen\", \"want\", \"rape\", \"apple\", \"000\", \"v\", \"world\", \"new\", \"reportedly\", \"rumor\", \"superman\", \"allegedly\", \"man\", \"10\", \"batman\", \"iphone\", \"500\", \"comcast\", \"airdrop\", \"phelps\", \"hairgate\", \"hand\", \"hair\", \"chlorine\", \"darkness\", \"user\", \"thought\", \"airdropped\", \"gas\", \"december\", \"priced\", \"pause\", \"chemical\", \"intersex\", \"total\", \"detail\", \"past\", \"feb\", \"device\", \"attorney\", \"someone\", \"debut\", \"41\", \"toy\", \"self\", \"weapon\", \"6\", \"kurd\", \"steel\", \"got\", \"customer\", \"reveals\", \"isi\", \"fired\", \"born\", \"u\", \"girlfriend\", \"claim\", \"say\", \"soldier\", \"michael\", \"iraqi\", \"day\", \"militant\", \"rogen\", \"seth\", \"wozniak\", \"founder\", \"co\", \"king\", \"center\", \"hbo\", \"dawn\", \"snyder\", \"zack\", \"streaming\", \"woz\", \"apps\", \"platinum\", \"jose\", \"canseco\", \"skipped\", \"employee\", \"shower\", \"smartwatch\", \"march\", \"working\", \"raised\", \"forget\", \"personally\", \"abdullah\", \"lied\", \"monster\", \"storage\", \"service\", \"work\", \"probably\", \"justice\", \"apple\", \"launch\", \"model\", \"set\", \"secret\", \"watch\", \"month\", \"could\", \"stolen\", \"report\", \"batman\", \"tv\", \"life\", \"batmobile\", \"v\", \"superman\", \"rumor\", \"star\", \"000\", \"steve\", \"job\", \"christian\", \"bale\", \"biopic\", \"tiger\", \"nelson\", \"upcoming\", \"testicle\", \"drug\", \"exclusive\", \"judd\", \"pga\", \"twin\", \"control\", \"sony\", \"naked\", \"husband\", \"price\", \"suspension\", \"pull\", \"boyle\", \"danny\", \"agent\", \"suspended\", \"castrated\", \"hospitalized\", \"quits\", \"anyway\", \"closer\", \"wood\", \"play\", \"movie\", \"meet\", \"died\", \"400\", \"talk\", \"pay\", \"sale\", \"god\", \"kid\", \"test\", \"woman\", \"son\", \"claim\", \"report\", \"cut\", \"putin\", \"bird\", \"behead\", \"paradise\", \"ex\", \"vladimir\", \"holding\", \"eye\", \"main\", \"creature\", \"shabaab\", \"pound\", \"motorcade\", \"scare\", \"steal\", \"horrific\", \"poop\", \"ahmed\", \"abdi\", \"godane\", \"warning\", \"search\", \"investigating\", \"banned\", \"accidental\", \"italian\", \"ended\", \"280\", \"huge\", \"animal\", \"chief\", \"tell\", \"go\", \"execution\", \"confirmed\", \"militant\", \"news\", \"pope\", \"u\", \"video\", \"graphic\", \"isi\", \"eating\", \"catfish\", \"show\", \"daughter\", \"ebola\", \"official\", \"open\", \"killed\", \"allegedly\", \"journalist\", \"strike\", \"american\", \"death\", \"fake\", \"dog\", \"big\", \"house\", \"white\", \"fence\", \"jumper\", \"sugarhill\", \"hank\", \"gang\", \"bank\", \"macbook\", \"57\", \"nun\", \"birth\", \"inch\", \"pain\", \"airstrikes\", \"ticket\", \"detainee\", \"farther\", \"red\", \"soon\", \"known\", \"retina\", \"far\", \"bowe\", \"intelligence\", \"deadly\", \"thinner\", \"western\", \"outbreak\", \"swapped\", \"12\", \"arrest\", \"york\", \"stomach\", \"give\", \"dy\", \"air\", \"suspect\", \"baby\", \"rapper\", \"made\", \"building\", \"may\", \"report\", \"apple\", \"teletubbies\", \"suitcase\", \"19\", \"station\", \"abandoned\", \"sun\", \"belonging\", \"lego\", \"jess\", \"website\", \"surfaced\", \"cesar\", \"millan\", \"injured\", \"ad\", \"whisperer\", \"gender\", \"weatherman\", \"1970s\", \"fisherman\", \"rumored\", \"freak\", \"contains\", \"voicemail\", \"important\", \"com\", \"wear\", \"pooped\", \"urinating\", \"supported\", \"banksy\", \"look\", \"parent\", \"catch\", \"still\", \"dog\", \"baby\", \"arrested\", \"absence\", \"christmas\", \"amazon\", \"tape\", \"old\", \"year\", \"letter\", \"caught\", \"first\", \"people\", \"found\", \"hoax\", \"news\", \"abdel\", \"bary\", \"majed\", \"michelle\", \"kansa\", \"went\", \"help\", \"awakens\", \"eat\", \"abrams\", \"investigation\", \"peeing\", \"chest\", \"blurred\", \"low\", \"j\", \"proposal\", \"place\", \"elaborate\", \"check\", \"sick\", \"television\", \"l\", \"fight\", \"jj\", \"refuse\", \"english\", \"marriage\", \"early\", \"meeting\", \"british\", \"plan\", \"obama\", \"rapper\", \"face\", \"killing\", \"beheading\", \"star\", \"aid\", \"foley\", \"city\", \"london\", \"date\", \"force\", \"james\", \"saudi\", \"spotted\", \"war\", \"born\", \"identified\", \"release\", \"report\", \"executioner\", \"tv\", \"mass\", \"grave\", \"graf\", \"really\", \"flying\", \"held\", \"russian\", \"indian\", \"opening\", \"43\", \"linked\", \"hold\", \"qaeda\", \"president\", \"seen\", \"university\", \"sacked\", \"later\", \"supply\", \"solved\", \"took\", \"totally\", \"statement\", \"ago\", \"jordanian\", \"newly\", \"pretty\", \"25\", \"28\", \"civil\", \"student\", \"love\", \"body\", \"told\", \"found\", \"per\", \"mexico\", \"missing\", \"tour\", \"inside\", \"police\", \"mexican\", \"find\", \"child\", \"group\", \"syria\", \"terror\", \"40\", \"among\", \"confirms\", \"year\", \"say\", \"airport\", \"militant\", \"rose\", \"like\", \"sergeant\", \"patient\", \"murder\", \"axl\", \"symptom\", \"magneto\", \"web\", \"idea\", \"cast\", \"youngest\", \"sneezing\", \"vickers\", \"kevin\", \"become\", \"father\", \"cub\", \"contact\", \"turned\", \"rise\", \"gave\", \"file\", \"tireless\", \"brave\", \"remembered\", \"land\", \"hour\", \"shopper\", \"superpower\", \"arm\", \"use\", \"doubt\", \"battle\", \"shock\", \"family\", \"electric\", \"make\", \"boston\", \"boy\", \"ebola\", \"hospital\", \"time\", \"man\", \"parliament\", \"dead\", \"god\", \"internet\", \"claim\", \"report\", \"isi\", \"million\", \"microsoft\", \"72\", \"high\", \"break\", \"robot\", \"valley\", \"possession\", \"sell\", \"campus\", \"silicon\", \"colorado\", \"plant\", \"robert\", \"car\", \"market\", \"try\", \"zeppelin\", \"led\", \"using\", \"mum\", \"need\", \"law\", \"pot\", \"nypd\", \"eggnog\", \"chugging\", \"800\", \"painted\", \"tribunal\", \"stock\", \"guard\", \"get\", \"marijuana\", \"teen\", \"store\", \"security\", \"take\", \"made\", \"head\", \"kfc\", \"school\", \"sniper\", \"marine\", \"photo\", \"new\", \"watch\", \"shot\", \"son\", \"pregnant\", \"trip\", \"seven\", \"married\", \"londoner\", \"rare\", \"start\", \"13\", \"forced\", \"bosnia\", \"extra\", \"alan\", \"net\", \"gunshot\", \"flown\", \"bosnian\", \"mask\", \"urgent\", \"deny\", \"herzegovina\", \"identifies\", \"agrees\", \"pack\", \"brat\", \"cawthorne\", \"briton\", \"timing\", \"verifies\", \"underage\", \"ignored\", \"style\", \"behind\", \"fall\", \"school\", \"young\", \"five\", \"female\", \"girl\", \"outraged\", \"day\", \"never\", \"14\", \"said\", \"islamic\", \"state\", \"parent\", \"claim\", \"dead\", \"killer\", \"god\", \"priest\"], \"Total\": [2875.0, 6749.0, 2292.0, 2870.0, 2829.0, 2661.0, 2099.0, 3714.0, 1731.0, 2402.0, 1844.0, 1844.0, 1624.0, 1779.0, 2009.0, 2329.0, 1652.0, 2153.0, 1580.0, 2210.0, 2631.0, 1920.0, 1490.0, 1155.0, 1155.0, 1193.0, 1056.0, 1605.0, 1395.0, 1026.0, 793.902099609375, 1010.4150390625, 287.4505920410156, 218.49844360351562, 201.6960906982422, 201.408203125, 190.095947265625, 172.5149688720703, 147.16558837890625, 143.8438262939453, 139.29708862304688, 137.19557189941406, 135.16162109375, 126.81642150878906, 126.81642150878906, 126.81642150878906, 115.72817993164062, 111.8290023803711, 111.02914428710938, 100.19047546386719, 96.39381408691406, 96.04898834228516, 94.35514068603516, 93.30528259277344, 87.7771987915039, 85.97086334228516, 83.78640747070312, 82.76222229003906, 81.0193099975586, 78.14324188232422, 2875.609375, 2870.520263671875, 330.3868408203125, 2153.193115234375, 1920.0804443359375, 2402.4296875, 853.6677856445312, 607.0961303710938, 2661.753173828125, 311.61798095703125, 317.5810852050781, 236.04147338867188, 619.0021362304688, 339.1402587890625, 6749.85205078125, 806.2402954101562, 1606.477294921875, 2631.412353515625, 1637.714111328125, 552.4520263671875, 3714.219970703125, 1212.0977783203125, 2966.220947265625, 1588.3785400390625, 1652.0457763671875, 1580.23876953125, 687.613037109375, 681.342041015625, 659.3594360351562, 566.3863525390625, 340.1798095703125, 287.8162536621094, 204.30650329589844, 201.33392333984375, 192.38021850585938, 186.39906311035156, 156.77877807617188, 153.203857421875, 149.52903747558594, 135.6343994140625, 127.80010986328125, 123.43009185791016, 114.40895080566406, 108.66068267822266, 108.66068267822266, 106.53523254394531, 102.094970703125, 93.0336685180664, 92.04801940917969, 89.10095977783203, 86.09254455566406, 85.70308685302734, 82.169921875, 74.82422637939453, 458.756103515625, 1192.396484375, 1192.396484375, 1395.20068359375, 353.4510498046875, 2210.976806640625, 192.45449829101562, 403.119873046875, 969.0252685546875, 423.63970947265625, 391.7771301269531, 512.6505126953125, 1308.9925537109375, 750.4120483398438, 632.3202514648438, 1027.247314453125, 303.62164306640625, 950.8851928710938, 1658.681396484375, 2625.597900390625, 6749.85205078125, 3599.400634765625, 1637.714111328125, 2292.73486328125, 2099.578857421875, 1779.5848388671875, 818.5194702148438, 698.186767578125, 635.8172607421875, 461.0450134277344, 445.88531494140625, 395.57733154296875, 321.0202331542969, 288.47711181640625, 223.27554321289062, 209.81027221679688, 209.18482971191406, 209.0682373046875, 199.33428955078125, 174.50344848632812, 165.6077423095703, 146.29556274414062, 133.92784118652344, 122.87837982177734, 116.20989227294922, 109.12680053710938, 106.51280975341797, 105.58660125732422, 105.58660125732422, 103.89143371582031, 103.4803237915039, 102.26068115234375, 100.9371337890625, 1147.5677490234375, 1097.6116943359375, 611.4970703125, 368.9075622558594, 364.82366943359375, 456.8219909667969, 373.7267761230469, 362.08544921875, 534.2696533203125, 769.7496948242188, 544.2711791992188, 1308.9925537109375, 742.3490600585938, 3260.857666015625, 2009.9476318359375, 1395.20068359375, 3599.400634765625, 618.389892578125, 1844.8004150390625, 1844.8004150390625, 944.5537719726562, 914.102294921875, 468.0839538574219, 467.2385559082031, 460.7290344238281, 421.3915100097656, 398.1465148925781, 381.20068359375, 279.0224609375, 185.19210815429688, 182.5590057373047, 169.5455322265625, 169.16712951660156, 151.66932678222656, 146.16004943847656, 139.74853515625, 137.7110595703125, 135.03305053710938, 132.08023071289062, 127.15707397460938, 120.802734375, 120.802734375, 117.44601440429688, 109.70965576171875, 108.74603271484375, 107.194580078125, 92.8442611694336, 92.7554931640625, 92.7554931640625, 761.644775390625, 517.0108642578125, 1490.288330078125, 1212.0977783203125, 916.0155639648438, 831.3645629882812, 239.48703002929688, 1064.5889892578125, 317.8460998535156, 3260.857666015625, 372.31585693359375, 316.8162841796875, 250.8083038330078, 407.5969543457031, 2966.220947265625, 936.4392700195312, 971.6738891601562, 307.1326904296875, 284.8210754394531, 254.14657592773438, 236.47854614257812, 212.8693389892578, 210.7605743408203, 198.10861206054688, 195.80963134765625, 189.08163452148438, 184.10086059570312, 181.06228637695312, 171.57969665527344, 165.93743896484375, 165.31646728515625, 148.92153930664062, 142.5624237060547, 136.60098266601562, 126.72743225097656, 121.932861328125, 112.81886291503906, 112.81886291503906, 109.97931671142578, 106.09808349609375, 105.95336151123047, 102.20626831054688, 100.41666412353516, 92.10149383544922, 85.24940490722656, 84.771240234375, 83.73809814453125, 83.73809814453125, 875.636962890625, 524.4300537109375, 338.9913635253906, 1588.3785400390625, 651.0285034179688, 960.8814086914062, 362.775634765625, 1960.649169921875, 481.3385009765625, 556.0473022460938, 6749.85205078125, 901.7048950195312, 790.4421997070312, 2966.220947265625, 950.8851928710938, 501.8114013671875, 831.3645629882812, 479.73773193359375, 3599.400634765625, 739.48388671875, 446.271484375, 2625.597900390625, 3714.219970703125, 1605.0439453125, 462.0786437988281, 431.9068908691406, 569.4951782226562, 487.0748596191406, 487.0748596191406, 487.0748596191406, 430.48065185546875, 394.5812072753906, 394.5812072753906, 356.7597351074219, 356.7597351074219, 319.8203125, 301.7887268066406, 303.8353271484375, 295.2361755371094, 291.28277587890625, 285.0354919433594, 257.8660888671875, 218.1627960205078, 217.01312255859375, 217.01312255859375, 201.36521911621094, 201.19400024414062, 189.8616485595703, 159.17010498046875, 154.10598754882812, 151.87384033203125, 126.99201965332031, 110.65738677978516, 108.20999908447266, 88.72864532470703, 88.69745635986328, 972.0379028320312, 350.74725341796875, 326.3807067871094, 326.3098449707031, 1094.3740234375, 1573.4093017578125, 618.389892578125, 1334.5660400390625, 437.2358703613281, 442.142822265625, 2625.597900390625, 1624.477294921875, 523.2652587890625, 2210.976806640625, 1193.232421875, 3260.857666015625, 3599.400634765625, 599.6015625, 319.890869140625, 319.890869140625, 318.8518371582031, 310.1746520996094, 308.3613586425781, 240.47079467773438, 229.30856323242188, 219.14602661132812, 219.14602661132812, 208.90882873535156, 208.90882873535156, 195.91690063476562, 195.36444091796875, 188.85580444335938, 181.6629180908203, 175.35406494140625, 163.73641967773438, 152.26918029785156, 129.321044921875, 116.69245910644531, 109.1523208618164, 108.72515106201172, 108.43359375, 107.63011932373047, 106.70317077636719, 106.70317077636719, 103.04765319824219, 101.5794448852539, 99.779296875, 452.5108642578125, 306.4917297363281, 748.1315307617188, 466.6712341308594, 483.746826171875, 571.6604614257812, 256.82818603515625, 855.108154296875, 1254.2071533203125, 789.2884521484375, 2631.412353515625, 922.2764892578125, 665.6096801757812, 870.9356079101562, 2625.597900390625, 524.200439453125, 1606.477294921875, 3599.400634765625, 6749.85205078125, 1658.681396484375, 344.40869140625, 3260.857666015625, 1056.5394287109375, 828.5076904296875, 450.5929260253906, 450.5929260253906, 439.259521484375, 289.7020263671875, 284.4469909667969, 233.83953857421875, 194.2337188720703, 178.75881958007812, 155.10781860351562, 153.76454162597656, 153.76454162597656, 142.87599182128906, 136.52084350585938, 135.91162109375, 127.68565368652344, 117.37419128417969, 115.0952377319336, 106.99307250976562, 106.2158203125, 96.82355499267578, 92.57481384277344, 87.51615905761719, 81.52452850341797, 78.96552276611328, 78.96552276611328, 77.66726684570312, 76.25703430175781, 70.53499603271484, 803.121826171875, 2009.9476318359375, 586.1170043945312, 473.06524658203125, 523.002685546875, 223.4951171875, 314.291015625, 293.0177001953125, 291.4278564453125, 1624.477294921875, 3714.219970703125, 761.1106567382812, 6749.85205078125, 960.8814086914062, 3260.857666015625, 233.93853759765625, 971.6738891601562, 539.0654296875, 1254.2071533203125, 806.2402954101562, 1637.714111328125, 847.3312377929688, 627.6268920898438, 332.8358154296875, 332.8358154296875, 305.838134765625, 267.78411865234375, 205.64845275878906, 194.65061950683594, 192.47943115234375, 148.87493896484375, 148.18267822265625, 128.52049255371094, 118.1361312866211, 112.05830383300781, 110.75634002685547, 110.30165100097656, 110.30165100097656, 105.8495864868164, 100.48501586914062, 98.10845184326172, 85.85415649414062, 85.50460052490234, 84.23197174072266, 79.01183319091797, 76.97428894042969, 72.56973266601562, 71.25008392333984, 69.49589538574219, 66.43981170654297, 65.94200897216797, 584.6058349609375, 360.5787048339844, 320.0289306640625, 555.8663330078125, 804.6458129882812, 2329.483642578125, 939.6416625976562, 314.3699645996094, 210.80580139160156, 2829.03759765625, 1027.247314453125, 382.1340637207031, 559.79541015625, 1658.681396484375, 1637.714111328125, 1193.232421875, 335.6798400878906, 404.15740966796875, 2625.597900390625, 431.9068908691406, 369.9031677246094, 391.24053955078125, 371.3070983886719, 369.844482421875, 327.9415283203125, 299.5397033691406, 269.2488098144531, 254.6331787109375, 237.08248901367188, 215.29452514648438, 207.40689086914062, 192.88934326171875, 166.24459838867188, 165.77474975585938, 165.3755340576172, 162.71910095214844, 157.643310546875, 124.97272491455078, 121.40184020996094, 118.34986114501953, 114.94076538085938, 114.8853759765625, 109.66741943359375, 105.98551940917969, 104.30300903320312, 97.60566711425781, 94.07361602783203, 90.9837417602539, 90.30006408691406, 88.55056762695312, 87.56867218017578, 750.498291015625, 522.537841796875, 325.1366882324219, 484.95306396484375, 409.0035095214844, 326.8887939453125, 394.3865051269531, 6749.85205078125, 481.24725341796875, 365.8081970214844, 3714.219970703125, 556.0473022460938, 2966.220947265625, 3260.857666015625, 769.7496948242188, 2210.976806640625, 651.0285034179688, 808.172119140625, 1605.0439453125, 433.6661071777344, 433.6661071777344, 305.61444091796875, 261.3495788574219, 205.9339599609375, 199.875732421875, 178.8642120361328, 178.1849822998047, 172.7062225341797, 165.55882263183594, 165.55882263183594, 174.3977813720703, 129.0508270263672, 124.80557250976562, 121.42894744873047, 118.77406311035156, 118.77406311035156, 108.88410186767578, 103.28819274902344, 101.59555053710938, 99.0043716430664, 91.6874771118164, 89.41529083251953, 82.95109558105469, 81.20101165771484, 77.65872955322266, 71.38996887207031, 68.37858581542969, 67.72830963134766, 64.99152374267578, 550.9482421875, 324.79388427734375, 164.1888885498047, 194.04824829101562, 2829.03759765625, 588.7367553710938, 212.34622192382812, 445.9427795410156, 291.6074523925781, 2329.483642578125, 216.08786010742188, 839.1943359375, 939.6416625976562, 3599.400634765625, 369.9031677246094, 358.6026306152344, 445.2673645019531, 804.6458129882812, 382.1340637207031, 335.6798400878906, 1193.232421875, 441.7486267089844, 1027.247314453125, 1731.7745361328125, 1624.1973876953125, 1155.5943603515625, 1155.5943603515625, 627.6190185546875, 451.0347900390625, 229.13462829589844, 216.72116088867188, 207.11724853515625, 192.49009704589844, 184.46876525878906, 180.45433044433594, 171.59124755859375, 166.8692169189453, 145.62869262695312, 145.57110595703125, 123.31900787353516, 111.87358093261719, 95.02701568603516, 92.09603881835938, 91.5321044921875, 90.84265899658203, 90.84265899658203, 89.58709716796875, 89.23796844482422, 85.93507385253906, 78.49609375, 74.67414093017578, 73.25972747802734, 70.52403259277344, 476.7657165527344, 1193.490478515625, 299.931884765625, 193.3056640625, 390.3208923339844, 166.46302795410156, 384.82073974609375, 231.99205017089844, 132.5560302734375, 739.48388671875, 125.20918273925781, 313.3616638183594, 1254.2071533203125, 539.0654296875, 2966.220947265625, 3599.400634765625, 479.73773193359375, 339.8646240234375, 272.8612365722656, 241.36776733398438, 222.75242614746094, 214.67616271972656, 208.44886779785156, 206.37374877929688, 152.00579833984375, 126.02073669433594, 125.01396179199219, 119.67335510253906, 113.63177490234375, 95.6895751953125, 91.38327026367188, 88.1500244140625, 85.75409698486328, 85.5612564086914, 84.5417709350586, 84.5417709350586, 84.5417709350586, 82.9488296508789, 79.20641326904297, 78.51651000976562, 78.28990173339844, 76.21819305419922, 70.8899154663086, 70.46826934814453, 67.35165405273438, 66.50334167480469, 61.116397857666016, 371.69293212890625, 241.95420837402344, 517.2828979492188, 202.4799346923828, 262.9180603027344, 1605.0439453125, 792.3028564453125, 298.9842529296875, 3714.219970703125, 2631.412353515625, 134.83544921875, 6749.85205078125, 150.5023193359375, 264.2546081542969, 922.2764892578125, 252.65304565429688, 1960.649169921875, 936.4392700195312, 568.7034301757812, 1624.477294921875, 404.15740966796875, 2153.193115234375, 544.2711791992188, 1920.0804443359375, 1094.3740234375, 556.2461547851562, 653.1818237304688, 652.4481811523438, 554.8723754882812, 501.63916015625, 501.63916015625, 501.63916015625, 461.63720703125, 461.63720703125, 461.63720703125, 461.63720703125, 398.9664611816406, 387.8088684082031, 342.5567321777344, 335.4284362792969, 304.24615478515625, 221.3502655029297, 189.65171813964844, 164.10231018066406, 138.69900512695312, 129.8318634033203, 128.49290466308594, 116.50456237792969, 113.88985443115234, 110.0543212890625, 100.73018646240234, 131.2015380859375, 83.62264251708984, 82.79011535644531, 82.74017333984375, 81.52446746826172, 80.94166564941406, 137.1834259033203, 354.7847900390625, 390.6871032714844, 224.91737365722656, 380.7493896484375, 382.44732666015625, 458.66748046875, 647.4552001953125, 314.7039794921875, 742.5490112304688, 892.88427734375, 662.9076538085938, 180.07534790039062, 973.43701171875, 3599.400634765625, 2829.03759765625, 327.5695495605469, 251.87380981445312, 233.70294189453125, 233.5096893310547, 232.02093505859375, 226.2310028076172, 186.85336303710938, 180.01268005371094, 133.45973205566406, 131.8502197265625, 127.31336212158203, 104.35044860839844, 104.35044860839844, 102.6830062866211, 102.67326354980469, 101.49754333496094, 100.96515655517578, 98.1456069946289, 95.2120590209961, 93.64000701904297, 90.86804962158203, 89.07169342041016, 87.89202880859375, 85.89340209960938, 84.04495239257812, 83.46969604492188, 76.06099700927734, 75.49968719482422, 75.22591400146484, 74.0556869506836, 609.154296875, 239.1646728515625, 535.1783447265625, 142.97364807128906, 228.10516357421875, 653.1818237304688, 742.5490112304688, 428.7942810058594, 161.68218994140625, 238.20477294921875, 230.0941162109375, 201.0717010498047, 335.90997314453125, 911.7916259765625, 231.30860900878906, 901.7048950195312, 403.4900207519531, 277.85498046875, 829.7161254882812, 1334.5660400390625, 792.3028564453125, 696.1267700195312, 348.56292724609375, 348.56292724609375, 188.43789672851562, 180.89657592773438, 162.91839599609375, 158.82101440429688, 134.12518310546875, 119.59141540527344, 114.16400146484375, 103.92330169677734, 103.3705825805664, 100.43424987792969, 93.19490051269531, 92.83424377441406, 92.18336486816406, 91.19902038574219, 88.65296936035156, 83.1197280883789, 77.4852523803711, 76.75091552734375, 74.34900665283203, 71.94657897949219, 70.1259536743164, 68.5718765258789, 65.30646514892578, 64.95011138916016, 62.483524322509766, 61.685672760009766, 61.678367614746094, 715.1867065429688, 213.44898986816406, 556.2363891601562, 892.88427734375, 157.78501892089844, 215.47775268554688, 870.9356079101562, 441.7486267089844, 202.22732543945312, 2661.753173828125, 632.1141967773438, 632.3202514648438, 204.9310302734375, 223.63140869140625, 2402.4296875, 501.8114013671875, 200.55360412597656, 742.3490600585938, 365.8081970214844, 750.4120483398438, 916.0155639648438, 3599.400634765625, 301.0845642089844, 358.6026306152344, 631.8403930664062, 397.2645568847656, 283.62359619140625, 251.47462463378906, 228.44497680664062, 208.42201232910156, 201.14283752441406, 197.02606201171875, 156.79722595214844, 139.0895233154297, 137.80819702148438, 137.1467742919922, 124.71554565429688, 124.48064422607422, 111.22974395751953, 110.87718963623047, 110.82816314697266, 105.9732894897461, 104.1027603149414, 93.90083312988281, 85.82897186279297, 79.52861022949219, 76.29336547851562, 74.61245727539062, 70.32266235351562, 67.32556915283203, 66.17243194580078, 65.60684967041016, 63.10596466064453, 57.216819763183594, 1026.9742431640625, 184.39425659179688, 359.8537902832031, 163.91192626953125, 829.7161254882812, 105.24005889892578, 761.1106567382812, 1606.477294921875, 177.82757568359375, 159.44778442382812, 391.6719055175781, 436.6905822753906, 372.4811706542969, 276.9940185546875, 432.1763610839844, 971.6738891601562, 521.4139404296875, 222.3802032470703, 254.0180206298828, 499.5175476074219, 911.7916259765625, 3260.857666015625, 516.8885498046875, 1605.0439453125, 322.36444091796875, 312.5885009765625, 303.4231262207031, 229.44293212890625, 208.99412536621094, 202.62815856933594, 199.0537872314453, 167.02227783203125, 163.14193725585938, 162.58119201660156, 158.12501525878906, 156.2783203125, 152.02342224121094, 151.39544677734375, 151.39544677734375, 135.4182586669922, 128.63160705566406, 126.189208984375, 110.70105743408203, 97.99273681640625, 97.4543685913086, 93.7352066040039, 93.6409683227539, 82.9582748413086, 82.9582748413086, 82.9582748413086, 78.66039276123047, 74.54670715332031, 73.16813659667969, 67.2708969116211, 362.4630432128906, 266.6127624511719, 325.7669372558594, 162.09352111816406, 282.47613525390625, 200.32843017578125, 160.62823486328125, 348.239990234375, 212.63101196289062, 662.19580078125, 1960.649169921875, 401.3577880859375, 513.3450317382812, 2625.597900390625, 534.2696533203125, 1573.4093017578125, 739.48388671875, 453.1876220703125, 2966.220947265625, 3599.400634765625, 6749.85205078125, 605.947998046875, 269.3428649902344, 258.2859802246094, 257.7303466796875, 196.32577514648438, 176.0303955078125, 174.32955932617188, 172.32887268066406, 166.00772094726562, 161.98382568359375, 154.8634490966797, 141.8686065673828, 137.38641357421875, 137.38641357421875, 131.0431365966797, 125.5849838256836, 119.80711364746094, 116.0473861694336, 116.0473861694336, 113.51433563232422, 101.15690612792969, 99.02586364746094, 91.30945587158203, 91.05091094970703, 89.44769287109375, 88.87065887451172, 88.87065887451172, 84.11538696289062, 73.68257904052734, 72.63385772705078, 217.772705078125, 286.0813903808594, 774.460693359375, 401.5077209472656, 287.6191711425781, 303.1826477050781, 447.776611328125, 486.89019775390625, 662.9076538085938, 336.14306640625, 282.6346740722656, 839.8369140625, 264.5926208496094, 372.31585693359375, 472.3518981933594, 1658.681396484375, 2329.483642578125, 1308.9925537109375, 539.0654296875, 702.5415649414062, 584.1893310546875, 431.33843994140625, 229.4632110595703, 214.6246337890625, 194.91627502441406, 182.23538208007812, 147.17355346679688, 120.55586242675781, 116.86952209472656, 105.22167205810547, 104.5222396850586, 103.05465698242188, 102.71640014648438, 96.7020263671875, 90.12239074707031, 88.28846740722656, 81.9481430053711, 74.09008026123047, 72.09492492675781, 61.29478073120117, 55.08153533935547, 54.01456069946289, 54.01456069946289, 53.89631271362305, 48.276302337646484, 47.44697189331055, 47.44697189331055, 45.77372360229492, 42.398250579833984, 175.0064239501953, 197.4105682373047, 346.320068359375, 839.8369140625, 257.2271423339844, 404.92529296875, 462.0786437988281, 1490.288330078125, 129.43775939941406, 808.172119140625, 214.62889099121094, 193.68856811523438, 452.0343322753906, 2870.520263671875, 2875.609375, 535.1783447265625, 2966.220947265625, 1573.4093017578125, 423.63970947265625, 739.48388671875, 446.271484375], \"loglift\": [30.0, 29.0, 28.0, 27.0, 26.0, 25.0, 24.0, 23.0, 22.0, 21.0, 20.0, 19.0, 18.0, 17.0, 16.0, 15.0, 14.0, 13.0, 12.0, 11.0, 10.0, 9.0, 8.0, 7.0, 6.0, 5.0, 4.0, 3.0, 2.0, 1.0, 2.6333000659942627, 2.6328999996185303, 2.631200075149536, 2.630199909210205, 2.6298000812530518, 2.6298000812530518, 2.6296000480651855, 2.6291000843048096, 2.6280999183654785, 2.628000020980835, 2.6277999877929688, 2.627700090408325, 2.6275999546051025, 2.6270999908447266, 2.6270999908447266, 2.6270999908447266, 2.6263999938964844, 2.6261000633239746, 2.625999927520752, 2.6250998973846436, 2.624799966812134, 2.6247000694274902, 2.6245999336242676, 2.6243999004364014, 2.623800039291382, 2.6236000061035156, 2.623300075531006, 2.623199939727783, 2.6229000091552734, 2.622499942779541, 2.5295000076293945, 2.4625000953674316, 2.558500051498413, 2.428299903869629, 2.413100004196167, 2.3724000453948975, 2.4382998943328857, 2.4407999515533447, 2.2767999172210693, 2.3729000091552734, 2.3336000442504883, 2.3868000507354736, 1.965499997138977, 2.1631999015808105, 0.6735000014305115, 1.7160999774932861, 1.3151999711990356, 0.9765999913215637, 1.2359000444412231, 1.8274999856948853, 0.6626999974250793, 1.2339999675750732, 0.5091999769210815, 0.5033000111579895, 2.6607000827789307, 2.6607000827789307, 2.659899950027466, 2.659899950027466, 2.6598000526428223, 2.659600019454956, 2.6584999561309814, 2.6579999923706055, 2.656599998474121, 2.656599998474121, 2.6563000679016113, 2.6561999320983887, 2.6552000045776367, 2.655100107192993, 2.654900074005127, 2.6542999744415283, 2.6538000106811523, 2.653599977493286, 2.6530001163482666, 2.6524999141693115, 2.6524999141693115, 2.6522998809814453, 2.6519999504089355, 2.6510000228881836, 2.650899887084961, 2.650599956512451, 2.6501998901367188, 2.6501998901367188, 2.6496999263763428, 2.6484999656677246, 2.6417999267578125, 2.5473999977111816, 2.5473999977111816, 2.4688000679016113, 2.522200107574463, 2.3152999877929688, 2.5539000034332275, 2.4458999633789062, 2.2435998916625977, 2.3338000774383545, 2.3150999546051025, 2.238800048828125, 1.808500051498413, 1.9973000288009644, 2.0195000171661377, 1.7512999773025513, 2.314300060272217, 1.5636999607086182, 1.1677000522613525, 0.6108999848365784, -0.374099999666214, 0.16580000519752502, 0.6823999881744385, 2.7430999279022217, 2.743000030517578, 2.743000030517578, 2.742300033569336, 2.7421000003814697, 2.742000102996826, 2.7414000034332275, 2.7414000034332275, 2.7411000728607178, 2.740499973297119, 2.7402000427246094, 2.7392001152038574, 2.7388999462127686, 2.7388999462127686, 2.7388999462127686, 2.7386999130249023, 2.73799991607666, 2.7376999855041504, 2.736999988555908, 2.7363998889923096, 2.7356998920440674, 2.735300064086914, 2.7346999645233154, 2.734499931335449, 2.7344000339508057, 2.7344000339508057, 2.734299898147583, 2.734299898147583, 2.734100103378296, 2.7339999675750732, 2.6774001121520996, 2.6591999530792236, 2.6570000648498535, 2.6816000938415527, 2.6547999382019043, 2.560699939727783, 2.5215001106262207, 2.4649999141693115, 2.3303000926971436, 2.0947999954223633, 2.117799997329712, 1.6943999528884888, 1.8854999542236328, 0.6510000228881836, 0.8619999885559082, 0.9973999857902527, 0.08900000154972076, 1.7071000337600708, 2.7867000102996826, 2.7867000102996826, 2.7862000465393066, 2.7862000465393066, 2.7852001190185547, 2.7852001190185547, 2.7852001190185547, 2.7850000858306885, 2.784899950027466, 2.7848000526428223, 2.783900022506714, 2.7822000980377197, 2.782099962234497, 2.7816998958587646, 2.7816998958587646, 2.7809998989105225, 2.7808001041412354, 2.7804999351501465, 2.780400037765503, 2.7802999019622803, 2.780100107192993, 2.7797999382019043, 2.779400110244751, 2.779400110244751, 2.7792000770568848, 2.778700113296509, 2.778599977493286, 2.77839994430542, 2.777100086212158, 2.777100086212158, 2.777100086212158, 2.7116000652313232, 2.705199956893921, 2.3991000652313232, 2.337899923324585, 2.3529999256134033, 2.290600061416626, 2.6015000343322754, 2.174999952316284, 2.41510009765625, 1.2457000017166138, 2.2720999717712402, 2.3508999347686768, 2.4453999996185303, 2.0947000980377197, 0.7168999910354614, 1.3805999755859375, 1.2903000116348267, 2.815500020980835, 2.8152999877929688, 2.81469988822937, 2.8145999908447266, 2.814199924468994, 2.8141000270843506, 2.813800096511841, 2.813800096511841, 2.8136000633239746, 2.813499927520752, 2.8134000301361084, 2.8131000995635986, 2.8129000663757324, 2.8129000663757324, 2.8122000694274902, 2.8118999004364014, 2.8115999698638916, 2.8111000061035156, 2.810800075531006, 2.8101999759674072, 2.8101999759674072, 2.8099000453948975, 2.8096001148223877, 2.8096001148223877, 2.809299945831299, 2.8090999126434326, 2.808199882507324, 2.8073999881744385, 2.807300090789795, 2.8071999549865723, 2.8071999549865723, 2.684000015258789, 2.662600040435791, 2.6919000148773193, 2.4800000190734863, 2.4683001041412354, 2.272200107574463, 2.4867000579833984, 1.9996000528335571, 2.367500066757202, 2.259500026702881, 1.3746000528335571, 2.0023999214172363, 2.0445001125335693, 1.4763000011444092, 1.9071999788284302, 2.2072999477386475, 1.8779000043869019, 2.1417999267578125, 0.7240999937057495, 1.7597999572753906, 2.1333000659942627, 0.7319999933242798, 0.31349998712539673, 0.98580002784729, 2.0764999389648438, 2.1089000701904297, 2.8417000770568848, 2.8415000438690186, 2.8415000438690186, 2.8415000438690186, 2.841200113296509, 2.8410000801086426, 2.8410000801086426, 2.8406999111175537, 2.8406999111175537, 2.840399980545044, 2.8403000831604004, 2.8403000831604004, 2.8401999473571777, 2.840100049972534, 2.840100049972534, 2.8396999835968018, 2.839099884033203, 2.8389999866485596, 2.8389999866485596, 2.83870005607605, 2.83870005607605, 2.838399887084961, 2.837399959564209, 2.8371999263763428, 2.8371999263763428, 2.835900068283081, 2.8348000049591064, 2.8345999717712402, 2.83270001411438, 2.83270001411438, 2.7832000255584717, 2.75819993019104, 2.7560999393463135, 2.647200107574463, 2.3329999446868896, 2.2153000831604004, 2.40310001373291, 2.0452001094818115, 2.4149999618530273, 2.3835999965667725, 1.2699999809265137, 1.3125, 2.1733999252319336, 0.9983999729156494, 1.486899971961975, 0.5328999757766724, 0.40720000863075256, 2.884999990463257, 2.8835999965667725, 2.8835999965667725, 2.8835999965667725, 2.883500099182129, 2.883500099182129, 2.8826000690460205, 2.8824000358581543, 2.882200002670288, 2.882200002670288, 2.881999969482422, 2.881999969482422, 2.881700038909912, 2.881700038909912, 2.881500005722046, 2.8812999725341797, 2.8810999393463135, 2.88070011138916, 2.8803000450134277, 2.879199981689453, 2.8784000873565674, 2.8777999877929688, 2.8777999877929688, 2.877700090408325, 2.877700090408325, 2.8775999546051025, 2.8775999546051025, 2.8773000240325928, 2.87719988822937, 2.877000093460083, 2.753499984741211, 2.775899887084961, 2.6812000274658203, 2.712599992752075, 2.7054998874664307, 2.5917000770568848, 2.698499917984009, 2.3886001110076904, 2.265199899673462, 2.36680006980896, 1.811400055885315, 2.147599935531616, 2.22379994392395, 2.091599941253662, 1.4053000211715698, 2.210700035095215, 1.3321000337600708, 0.5938000082969666, 0.025200000032782555, 1.062000036239624, 2.433199882507324, 0.24819999933242798, 2.9409000873565674, 2.9405999183654785, 2.93969988822937, 2.93969988822937, 2.9395999908447266, 2.938499927520752, 2.9384000301361084, 2.937700033187866, 2.9368999004364014, 2.9363999366760254, 2.9356000423431396, 2.9356000423431396, 2.9356000423431396, 2.9351000785827637, 2.934799909591675, 2.934799909591675, 2.934299945831299, 2.9335999488830566, 2.933500051498413, 2.9328999519348145, 2.932800054550171, 2.9319000244140625, 2.93149995803833, 2.9309000968933105, 2.930000066757202, 2.9296998977661133, 2.9296998977661133, 2.929500102996826, 2.9291999340057373, 2.9282000064849854, 2.828900098800659, 2.7506000995635986, 2.794600009918213, 2.712599992752075, 2.692699909210205, 2.72979998588562, 2.6424999237060547, 2.6405999660491943, 2.6291000843048096, 2.114500045776367, 1.6439000368118286, 2.140500068664551, 1.0651999711990356, 1.8776999711990356, 0.8629000186920166, 2.5624001026153564, 1.3937000036239624, 1.8386000394821167, 1.0508999824523926, 1.3299000263214111, 0.6273000240325928, 3.0257999897003174, 3.025399923324585, 3.0241000652313232, 3.0241000652313232, 3.0237998962402344, 3.023400068283081, 3.0223000049591064, 3.0220000743865967, 3.0220000743865967, 3.0204999446868896, 3.0204999446868896, 3.0195000171661377, 3.0188000202178955, 3.018399953842163, 3.0183000564575195, 3.018199920654297, 3.018199920654297, 3.017899990081787, 3.017400026321411, 3.0171000957489014, 3.015700101852417, 3.015700101852417, 3.015500068664551, 3.0148000717163086, 3.014400005340576, 3.013700008392334, 3.013400077819824, 3.0130999088287354, 3.012399911880493, 3.0123000144958496, 2.9433999061584473, 2.890199899673462, 2.887399911880493, 2.753000020980835, 2.6191000938415527, 2.378499984741211, 2.4602999687194824, 2.7054998874664307, 2.7760000228881836, 2.0557000637054443, 2.169100046157837, 2.384200096130371, 2.0989999771118164, 1.4536000490188599, 1.3667000532150269, 1.523800015449524, 2.3046000003814697, 2.170599937438965, 0.7770000100135803, 2.0792999267578125, 2.2074999809265137, 3.0427000522613525, 3.0425000190734863, 3.0425000190734863, 3.0422000885009766, 3.0418999195098877, 3.041599988937378, 3.0413999557495117, 3.041100025177002, 3.0406999588012695, 3.0404999256134033, 3.0401999950408936, 3.039400100708008, 3.039400100708008, 3.039299964904785, 3.0392000675201416, 3.039099931716919, 3.0374999046325684, 3.0371999740600586, 3.0369999408721924, 3.036799907684326, 3.036799907684326, 3.036400079727173, 3.036099910736084, 3.035900115966797, 3.0353000164031982, 3.034899950027466, 3.034600019454956, 3.0344998836517334, 3.0343000888824463, 3.0341999530792236, 2.9811999797821045, 2.9165000915527344, 2.931299924850464, 2.882699966430664, 2.8189001083374023, 2.8176000118255615, 2.7207999229431152, 1.153499960899353, 2.347100019454956, 2.3987998962402344, 0.9664000272750854, 2.0764000415802, 1.0009000301361084, 0.8944000005722046, 1.8413000106811523, 1.0356999635696411, 1.8214999437332153, 1.6282999515533447, 0.9786999821662903, 3.0596001148223877, 3.0596001148223877, 3.0587000846862793, 3.0580999851226807, 3.0571000576019287, 3.056999921798706, 3.0564000606536865, 3.0564000606536865, 3.0562000274658203, 3.055999994277954, 3.055999994277954, 3.0555999279022217, 3.0543999671936035, 3.0541000366210938, 3.0539000034332275, 3.0536999702453613, 3.0536999702453613, 3.052999973297119, 3.052500009536743, 3.052299976348877, 3.0520999431610107, 3.051300048828125, 3.051100015640259, 3.0501999855041504, 3.049999952316284, 3.0494000911712646, 3.04830002784729, 3.0476999282836914, 3.047600030899048, 3.046999931335449, 2.9718000888824463, 2.967099905014038, 2.974299907684326, 2.93969988822937, 2.446199893951416, 2.6935999393463135, 2.867000102996826, 2.6779000759124756, 2.72160005569458, 2.0065999031066895, 2.7553999423980713, 2.204900026321411, 2.1185998916625977, 1.4550000429153442, 2.476300001144409, 2.462899923324585, 2.3203999996185303, 1.9644999504089355, 2.310499906539917, 2.391700029373169, 1.3104000091552734, 2.0971999168395996, 1.2589000463485718, 3.062000036239624, 3.062000036239624, 3.0617001056671143, 3.0617001056671143, 3.0608999729156494, 3.060499906539917, 3.0583999156951904, 3.0580999851226807, 3.058000087738037, 3.0576000213623047, 3.0573999881744385, 3.057300090789795, 3.056999921798706, 3.05679988861084, 3.055999994277954, 3.055999994277954, 3.054800033569336, 3.053999900817871, 3.052500009536743, 3.0522000789642334, 3.0520999431610107, 3.052000045776367, 3.052000045776367, 3.0518999099731445, 3.051800012588501, 3.0513999462127686, 3.0504000186920166, 3.0497000217437744, 3.049499988555908, 3.0490000247955322, 2.9612998962402344, 2.9001998901367188, 2.9440999031066895, 2.949899911880493, 2.781899929046631, 2.8824000358581543, 2.5797998905181885, 2.664400100708008, 2.8534998893737793, 1.7493000030517578, 2.8506999015808105, 2.1117000579833984, 0.9718999862670898, 1.6484999656677246, 0.08330000191926956, -0.17800000309944153, 1.6986000537872314, 3.1152000427246094, 3.114500045776367, 3.1140999794006348, 3.1136999130249023, 3.113600015640259, 3.1133999824523926, 3.1133999824523926, 3.111799955368042, 3.1105000972747803, 3.1103999614715576, 3.110100030899048, 3.1096999645233154, 3.108099937438965, 3.107599973678589, 3.1071999073028564, 3.1068999767303467, 3.1068999767303467, 3.106800079345703, 3.106800079345703, 3.106800079345703, 3.106600046157837, 3.1059999465942383, 3.1059000492095947, 3.1059000492095947, 3.1054999828338623, 3.104599952697754, 3.1045000553131104, 3.1038999557495117, 3.1036999225616455, 3.102400064468384, 3.094399929046631, 2.9797000885009766, 2.8643999099731445, 2.952399969100952, 2.912100076675415, 2.584399938583374, 2.672100067138672, 2.7797999382019043, 2.036799907684326, 2.0896999835968018, 2.9512999057769775, 1.3457000255584717, 2.834399938583374, 2.5578999519348145, 1.9443999528884888, 2.558199882507324, 1.4598000049591064, 1.8348000049591064, 2.077699899673462, 1.3948999643325806, 2.2595999240875244, 1.1878999471664429, 2.067500114440918, 1.1818000078201294, 1.5384999513626099, 2.013200044631958, 1.881700038909912, 3.1375999450683594, 3.1373000144958496, 3.1370999813079834, 3.1370999813079834, 3.1370999813079834, 3.13700008392334, 3.13700008392334, 3.13700008392334, 3.13700008392334, 3.1366000175476074, 3.1366000175476074, 3.136199951171875, 3.136199951171875, 3.1359000205993652, 3.134700059890747, 3.134000062942505, 3.13319993019104, 3.1321001052856445, 3.1315999031066895, 3.131500005722046, 3.1308000087738037, 3.1305999755859375, 3.1303000450134277, 3.129499912261963, 3.128700017929077, 3.127500057220459, 3.1273999214172363, 3.1273999214172363, 3.12719988822937, 3.1270999908447266, 3.1231000423431396, 3.0464000701904297, 2.9855000972747803, 3.0060999393463135, 2.8573999404907227, 2.7374000549316406, 2.646699905395508, 2.5020999908447266, 2.746000051498413, 2.3613998889923096, 2.0673999786376953, 2.1445000171661377, 2.924499988555908, 1.6247999668121338, 0.5945000052452087, 0.6226000189781189, 3.1480000019073486, 3.1470999717712402, 3.1468000411987305, 3.1468000411987305, 3.1468000411987305, 3.1466000080108643, 3.1458001136779785, 3.1456000804901123, 3.143699884414673, 3.1435999870300293, 3.1433000564575195, 3.141700029373169, 3.141700029373169, 3.1414999961853027, 3.1414999961853027, 3.141400098800659, 3.141400098800659, 3.1410999298095703, 3.1407999992370605, 3.1405999660491943, 3.1403000354766846, 3.1401000022888184, 3.139899969100952, 3.139699935913086, 3.139400005340576, 3.139400005340576, 3.138200044631958, 3.1380999088287354, 3.1380999088287354, 3.1379001140594482, 2.9663000106811523, 2.9725000858306885, 2.7102999687194824, 2.9999001026153564, 2.8954999446868896, 2.6022000312805176, 2.5332999229431152, 2.6877999305725098, 2.952199935913086, 2.781599998474121, 2.7923998832702637, 2.842400074005127, 2.5850000381469727, 2.0717999935150146, 2.7014000415802, 1.9184000492095947, 2.197200059890747, 2.3796000480651855, 1.5256999731063843, 1.069000005722046, 1.4183000326156616, 3.178499937057495, 3.1772000789642334, 3.1772000789642334, 3.174799919128418, 3.1745998859405518, 3.1740000247955322, 3.1738998889923096, 3.172800064086914, 3.1719000339508057, 3.1714999675750732, 3.1707000732421875, 3.1707000732421875, 3.170300006866455, 3.1696999073028564, 3.169600009918213, 3.1695001125335693, 3.1693999767303467, 3.169100046157837, 3.1684000492095947, 3.16759991645813, 3.1675000190734863, 3.167099952697754, 3.166599988937378, 3.166300058364868, 3.1659998893737793, 3.165299892425537, 3.1651999950408936, 3.164599895477295, 3.164400100708008, 3.164400100708008, 3.0013999938964844, 3.0859999656677246, 2.8826000690460205, 2.7590999603271484, 3.0007998943328857, 2.9323999881744385, 2.5773000717163086, 2.632699966430664, 2.8545000553131104, 1.9766000509262085, 2.4393999576568604, 2.4296000003814697, 2.8122000694274902, 2.773900032043457, 1.7099000215530396, 2.393699884414673, 2.803100109100342, 2.0905001163482666, 2.4323999881744385, 1.9664000272750854, 1.7799999713897705, 0.6064000129699707, 2.4519999027252197, 2.2827000617980957, 3.220099925994873, 3.2191998958587646, 3.2181999683380127, 3.2177999019622803, 3.217400074005127, 3.2170000076293945, 3.2167999744415283, 3.2167000770568848, 3.2155001163482666, 3.2146999835968018, 3.2146999835968018, 3.214600086212158, 3.213900089263916, 3.213900089263916, 3.2130000591278076, 3.2130000591278076, 3.2130000591278076, 3.212599992752075, 3.212399959564209, 3.211400032043457, 3.2105000019073486, 3.2095999717712402, 3.2091000080108643, 3.2088000774383545, 3.2079999446868896, 3.20740008354187, 3.2070999145507812, 3.2070000171661377, 3.206399917602539, 3.204900026321411, 3.0908000469207764, 3.081700086593628, 2.9458999633789062, 3.049999952316284, 2.694700002670288, 3.1166999340057373, 2.623800039291382, 2.397200107574463, 2.958400011062622, 2.990600109100342, 2.6916000843048096, 2.6352999210357666, 2.690200090408325, 2.792099952697754, 2.61080002784729, 2.257699966430664, 2.4337000846862793, 2.825200080871582, 2.729300022125244, 2.2660000324249268, 1.7632999420166016, 0.6283000111579895, 2.0373001098632812, 0.9169999957084656, 3.2636001110076904, 3.2634999752044678, 3.263400077819824, 3.262399911880493, 3.26200008392334, 3.261899948120117, 3.2618000507354736, 3.2607998847961426, 3.260699987411499, 3.260699987411499, 3.260499954223633, 3.260499954223633, 3.2602999210357666, 3.2602999210357666, 3.2602999210357666, 3.259500026702881, 3.2590999603271484, 3.259000062942505, 3.2578999996185303, 3.2567999362945557, 3.2567999362945557, 3.2564001083374023, 3.2564001083374023, 3.255000114440918, 3.255000114440918, 3.255000114440918, 3.2544000148773193, 3.253700017929077, 3.253499984741211, 3.2523000240325928, 3.075200080871582, 3.098400115966797, 3.0660998821258545, 3.098099946975708, 2.9586000442504883, 3.0192999839782715, 3.0524001121520996, 2.809299945831299, 2.890399932861328, 2.3443000316619873, 1.6079000234603882, 2.4786999225616455, 2.283600091934204, 1.0261000394821167, 2.178100109100342, 1.2790000438690186, 1.8343000411987305, 2.2363998889923096, 0.5203999876976013, 0.27869999408721924, -0.4846000075340271, 3.303299903869629, 3.3013999462127686, 3.3011999130249023, 3.3011999130249023, 3.300100088119507, 3.299499988555908, 3.2994000911712646, 3.2994000911712646, 3.2992000579833984, 3.2990000247955322, 3.2987000942230225, 3.2981998920440674, 3.2980000972747803, 3.2980000972747803, 3.297600030899048, 3.297300100326538, 3.2969000339508057, 3.2967000007629395, 3.2967000007629395, 3.2964999675750732, 3.2955000400543213, 3.295300006866455, 3.2943999767303467, 3.2943999767303467, 3.2941999435424805, 3.294100046157837, 3.294100046157837, 3.2934999465942383, 3.2918999195098877, 3.2916998863220215, 3.1884000301361084, 3.1484999656677246, 2.9612998962402344, 3.0188000202178955, 2.952899932861328, 2.921799898147583, 2.600100040435791, 2.498699903488159, 2.3125998973846436, 2.5374999046325684, 2.636399984359741, 1.773300051689148, 2.660099983215332, 2.3891000747680664, 2.192199945449829, 1.0405999422073364, 0.7286999821662903, 1.1512000560760498, 1.9702999591827393, 3.5165998935699463, 3.516400098800659, 3.5157999992370605, 3.5137999057769775, 3.5136001110076904, 3.5130999088287354, 3.5127999782562256, 3.5114998817443848, 3.5100998878479004, 3.5099000930786133, 3.5088999271392822, 3.5088999271392822, 3.5088000297546387, 3.508699893951416, 3.5081000328063965, 3.5074000358581543, 3.507200002670288, 3.5064001083374023, 3.5051000118255615, 3.5048000812530518, 3.5023999214172363, 3.500699996948242, 3.5002999305725098, 3.5002999305725098, 3.5002999305725098, 3.498199939727783, 3.49780011177063, 3.49780011177063, 3.4971001148223877, 3.4953999519348145, 3.4693000316619873, 3.4453001022338867, 3.398099899291992, 3.2730000019073486, 3.3506999015808105, 3.063800096511841, 2.867799997329712, 2.3819000720977783, 3.18149995803833, 2.4820001125335693, 2.9795000553131104, 2.9683001041412354, 2.4344000816345215, 1.3177000284194946, 1.208400011062622, 2.294300079345703, 0.6218000054359436, 1.1066999435424805, 2.234800100326538, 1.5824999809265137, 2.067500114440918], \"logprob\": [30.0, 29.0, 28.0, 27.0, 26.0, 25.0, 24.0, 23.0, 22.0, 21.0, 20.0, 19.0, 18.0, 17.0, 16.0, 15.0, 14.0, 13.0, 12.0, 11.0, 10.0, 9.0, 8.0, 7.0, 6.0, 5.0, 4.0, 3.0, 2.0, 1.0, -3.657399892807007, -3.4166998863220215, -4.6753997802734375, -4.950699806213379, -5.031099796295166, -5.03249979019165, -5.09060001373291, -5.188199996948242, -5.3480000495910645, -5.370999813079834, -5.403299808502197, -5.418600082397461, -5.433700084686279, -5.497900009155273, -5.497900009155273, -5.497900009155273, -5.590099811553955, -5.624599933624268, -5.631899833679199, -5.735499858856201, -5.774499893188477, -5.77810001373291, -5.79610013961792, -5.807400226593018, -5.869100093841553, -5.890100002288818, -5.916100025177002, -5.928599834442139, -5.950099945068359, -5.986700057983398, -2.474100112915039, -2.5429999828338623, -4.60890007019043, -2.8647000789642334, -2.994499921798706, -2.8111000061035156, -3.779900074005127, -4.118199825286865, -2.8041000366210938, -4.853000164031982, -4.873300075531006, -5.1168999671936035, -4.574100017547607, -4.978099822998047, -3.476900100708008, -4.559199810028076, -4.270699977874756, -4.115900039672852, -4.330699920654297, -4.825799942016602, -4.085000038146973, -4.633600234985352, -4.463500022888184, -5.093900203704834, -2.897200107574463, -2.941699981689453, -3.774600028991699, -3.783799886703491, -3.8166000843048096, -3.9688000679016113, -4.479700088500977, -4.64739990234375, -4.991499900817871, -5.006199836730957, -5.0518999099731445, -5.083600044250488, -5.257599830627441, -5.280900001525879, -5.305300235748291, -5.403500080108643, -5.463399887084961, -5.4984002113342285, -5.574999809265137, -5.6269001960754395, -5.6269001960754395, -5.646900177001953, -5.689799785614014, -5.783699989318848, -5.794400215148926, -5.827300071716309, -5.862100124359131, -5.866600036621094, -5.909200191497803, -6.004000186920166, -4.197299957275391, -3.3366000652313232, -3.3366000652313232, -3.2581000328063965, -4.5777997970581055, -2.951200008392334, -5.153900146484375, -4.522500038146973, -3.8478000164031982, -4.585000038146973, -4.6819000244140625, -4.489299774169922, -3.9821999073028564, -4.349800109863281, -4.498799800872803, -4.281799793243408, -4.937600135803223, -4.546599864959717, -4.386199951171875, -4.483699798583984, -4.524499893188477, -4.613399982452393, -4.884300231933594, -2.4870998859405518, -2.575200080871582, -2.740600109100342, -3.517899990081787, -3.6770999431610107, -3.7708001136779785, -4.092800140380859, -4.126299858093262, -4.246300220489502, -4.455699920654297, -4.562900066375732, -4.820099830627441, -4.882500171661377, -4.885499954223633, -4.886099815368652, -4.934000015258789, -5.067699909210205, -5.120299816131592, -5.245100021362305, -5.334000110626221, -5.42080020904541, -5.4770002365112305, -5.54040002822876, -5.564899921417236, -5.573699951171875, -5.573699951171875, -5.590099811553955, -5.594099998474121, -5.605999946594238, -5.619200229644775, -3.2448999881744385, -3.3076999187469482, -3.8947999477386475, -4.3755998611450195, -4.41349983215332, -4.282700061798096, -4.52269983291626, -4.610799789428711, -4.356500148773193, -4.226900100708008, -4.55049991607666, -4.09630012512207, -4.472400188446045, -4.226900100708008, -4.499800205230713, -4.729499816894531, -4.690199851989746, -4.833499908447266, -2.660799980163574, -2.660799980163574, -3.330699920654297, -3.3635001182556152, -4.03380012512207, -4.035600185394287, -4.049699783325195, -4.139100074768066, -4.196000099182129, -4.23960018157959, -4.552499771118164, -4.964099884033203, -4.978499889373779, -5.0528998374938965, -5.055099964141846, -5.164999961853027, -5.202199935913086, -5.247300148010254, -5.2621002197265625, -5.281899929046631, -5.304200172424316, -5.342400074005127, -5.394100189208984, -5.394100189208984, -5.422500133514404, -5.491199970245361, -5.500100135803223, -5.514599800109863, -5.6596999168396, -5.660699844360352, -5.660699844360352, -3.6205999851226807, -4.014500141143799, -3.261899948120117, -3.5297000408172607, -3.7946999073028564, -3.9539999961853027, -4.887700080871582, -3.8224000930786133, -4.791100025177002, -3.632200002670288, -4.7758002281188965, -4.858500003814697, -4.997600078582764, -4.86269998550415, -4.255799770355225, -4.744999885559082, -4.798299789428711, -4.424900054931641, -4.500500202178955, -4.615099906921387, -4.68720006942749, -4.792900085449219, -4.8028998374938965, -4.865099906921387, -4.876800060272217, -4.911900043487549, -4.938799858093262, -4.95550012588501, -5.0096001625061035, -5.0432000160217285, -5.046999931335449, -5.152100086212158, -5.196000099182129, -5.238999843597412, -5.314599990844727, -5.353400230407715, -5.43179988861084, -5.43179988861084, -5.457499980926514, -5.49370002746582, -5.495100021362305, -5.531400203704834, -5.549300193786621, -5.636600017547607, -5.714700222015381, -5.720399856567383, -5.732800006866455, -5.732800006866455, -3.508699893951416, -4.042799949645996, -4.44980001449585, -3.117300033569336, -4.0208001136779785, -3.8276000022888184, -4.587299823760986, -3.3870999813079834, -4.423600196838379, -4.38730001449585, -2.7757999897003174, -4.160999774932861, -4.2505998611450195, -3.496299982070923, -4.203100204467773, -4.542200088500977, -4.366700172424316, -4.652699947357178, -4.055099964141846, -4.6020002365112305, -4.733500003814697, -4.362599849700928, -4.434299945831299, -4.60099983215332, -4.75540018081665, -4.790599822998047, -3.7811999320983887, -3.9377999305725098, -3.9377999305725098, -3.9377999305725098, -4.061600208282471, -4.148900032043457, -4.148900032043457, -4.249899864196777, -4.249899864196777, -4.359499931335449, -4.417699813842773, -4.410999774932861, -4.439700126647949, -4.4532999992370605, -4.474999904632568, -4.575500011444092, -4.7434000968933105, -4.748700141906738, -4.748700141906738, -4.82390022277832, -4.824699878692627, -4.882999897003174, -5.060299873352051, -5.092800140380859, -5.107500076293945, -5.287700176239014, -5.426400184631348, -5.448999881744385, -5.649400234222412, -5.649799823760986, -3.3050999641418457, -4.349400043487549, -4.423600196838379, -4.532599925994873, -3.636699914932251, -3.391400098800659, -4.137499809265137, -3.726099967956543, -4.472300052642822, -4.492499828338623, -3.8245999813079834, -4.26230001449585, -4.534200191497803, -4.268099784851074, -4.396399974822998, -4.345099925994873, -4.372000217437744, -3.6863999366760254, -4.316100120544434, -4.316100120544434, -4.319399833679199, -4.347099781036377, -4.35290002822876, -4.602499961853027, -4.650199890136719, -4.695700168609619, -4.695700168609619, -4.743800163269043, -4.743800163269043, -4.808300018310547, -4.811100006103516, -4.845200061798096, -4.884200096130371, -4.9197998046875, -4.988699913024902, -5.061699867248535, -5.226200103759766, -5.329800128936768, -5.39709997177124, -5.401100158691406, -5.403800010681152, -5.411300182342529, -5.420000076293945, -5.420000076293945, -5.4552001953125, -5.469699859619141, -5.48769998550415, -4.099400043487549, -4.466599941253662, -3.6689000129699707, -4.109499931335449, -4.080699920654297, -4.027400016784668, -4.720799922943115, -3.8278000354766846, -3.56820011138916, -3.929800033569336, -3.2809998989105225, -3.993299961090088, -4.243199825286865, -4.106599807739258, -3.689300060272217, -4.495200157165527, -4.253799915313721, -4.185400009155273, -4.125199794769287, -4.4918999671936035, -4.692699909210205, -4.629799842834473, -3.0641000270843506, -3.3073999881744385, -3.9175000190734863, -3.9175000190734863, -3.943000078201294, -4.360300064086914, -4.378699779510498, -4.575399875640869, -4.7617998123168945, -4.845200061798096, -4.9878997802734375, -4.996699810028076, -4.996699810028076, -5.0706000328063965, -5.116399765014648, -5.1209001541137695, -5.183800220489502, -5.268700122833252, -5.28849983215332, -5.362100124359131, -5.3694000244140625, -5.462900161743164, -5.508200168609619, -5.565000057220459, -5.63670015335083, -5.669000148773193, -5.669000148773193, -5.685800075531006, -5.704400062561035, -5.783400058746338, -3.4502999782562256, -2.6112000942230225, -3.799499988555908, -4.095900058746338, -4.015399932861328, -4.828499794006348, -4.574900150299072, -4.646900177001953, -4.66379976272583, -3.460200071334839, -3.1038999557495117, -4.192399978637695, -3.0852999687194824, -4.2221999168396, -4.014999866485596, -4.950200080871582, -4.695000171661377, -4.839200019836426, -4.782599925994873, -4.945400238037109, -4.939300060272217, -3.1998000144958496, -3.5002999305725098, -4.136000156402588, -4.136000156402588, -4.220799922943115, -4.3541998863220215, -4.61929988861084, -4.674499988555908, -4.685800075531006, -4.9440999031066895, -4.948800086975098, -5.092100143432617, -5.17710018157959, -5.230299949645996, -5.242099761962891, -5.246300220489502, -5.246300220489502, -5.287799835205078, -5.3403000831604, -5.364500045776367, -5.499300003051758, -5.503399848937988, -5.518599987030029, -5.5833001136779785, -5.609799861907959, -5.66949987411499, -5.6880998611450195, -5.713399887084961, -5.758999824523926, -5.766600131988525, -3.6533000469207764, -4.189799785614014, -4.3119001388549805, -3.894200086593628, -3.6582000255584717, -2.8357999324798584, -3.661900043487549, -4.511600017547607, -4.840700149536133, -2.9642999172210693, -3.864000082015991, -4.637700080871582, -4.541100025177002, -4.100399971008301, -4.199900150299072, -4.359499931335449, -4.84689998626709, -4.795300006866455, -4.317699909210205, -4.820199966430664, -4.84689998626709, -3.955699920654297, -4.0081000328063965, -4.0121002197265625, -4.132699966430664, -4.223499774932861, -4.33050012588501, -4.386499881744385, -4.458199977874756, -4.554999828338623, -4.59250020980835, -4.66540002822876, -4.814899921417236, -4.817699909210205, -4.820099830627441, -4.836400032043457, -4.868299961090088, -5.102099895477295, -5.131400108337402, -5.1570000648498535, -5.186500072479248, -5.186999797821045, -5.23390007019043, -5.2683000564575195, -5.2845001220703125, -5.351500034332275, -5.388700008392334, -5.422399997711182, -5.430099964141846, -5.44980001449585, -5.461100101470947, -3.3657000064849854, -3.7925000190734863, -4.252200126647949, -3.900899887084961, -4.1350998878479, -4.360499858856201, -4.269499778747559, -2.9969000816345215, -4.444200038909912, -4.666800022125244, -3.781399965286255, -4.570499897003174, -3.9718000888824463, -3.9835000038146973, -4.480299949645996, -4.230800151824951, -4.667699813842773, -4.644599914550781, -4.608099937438965, -3.8357999324798584, -3.8357999324798584, -4.186699867248535, -4.343699932098389, -4.583000183105469, -4.61299991607666, -4.724599838256836, -4.728499889373779, -4.759900093078613, -4.8024001121521, -4.8024001121521, -4.750800132751465, -5.053100109100342, -5.0868000984191895, -5.114500045776367, -5.1367998123168945, -5.1367998123168945, -5.224400043487549, -5.277699947357178, -5.294400215148926, -5.320400238037109, -5.3979997634887695, -5.423399925231934, -5.499199867248535, -5.5208001136779785, -5.565999984741211, -5.651199817657471, -5.694900035858154, -5.704599857330322, -5.746500015258789, -3.6842000484466553, -4.217400074005127, -4.892399787902832, -4.759900093078613, -2.5738000869750977, -3.8961000442504883, -4.742499828338623, -4.189599990844727, -4.570700168609619, -3.20770001411438, -4.836599826812744, -4.030399799346924, -4.003600120544434, -3.324199914932251, -4.578199863433838, -4.622600078582764, -4.548600196838379, -4.31279993057251, -4.711400032043457, -4.759900093078613, -4.572800159454346, -4.779699802398682, -4.774199962615967, -2.4488000869750977, -2.5129001140594482, -2.853600025177002, -2.853600025177002, -3.4647998809814453, -3.7957000732421875, -4.474999904632568, -4.531000137329102, -4.576499938964844, -4.650000095367432, -4.692800045013428, -4.714900016784668, -4.765600204467773, -4.793600082397461, -4.930600166320801, -4.931099891662598, -5.098100185394287, -5.196300029754639, -5.361000061035156, -5.3927001953125, -5.398900032043457, -5.406499862670898, -5.406499862670898, -5.420599937438965, -5.424600124359131, -5.462699890136719, -5.554299831390381, -5.604800224304199, -5.624199867248535, -5.662799835205078, -3.839400053024292, -2.9828999042510986, -4.320000171661377, -4.753600120544434, -4.218800067901611, -4.9704999923706055, -4.435100078582764, -4.856599807739258, -5.227200031280518, -4.612400054931641, -5.2870001792907715, -5.10860013961792, -4.861599922180176, -5.029300212860107, -4.889400005340576, -4.957200050354004, -5.095900058746338, -4.023900032043457, -4.244200229644775, -4.367300033569336, -4.44789981842041, -4.485000133514404, -4.514599800109863, -4.524600028991699, -4.831999778747559, -5.0208001136779785, -5.028900146484375, -5.07289981842041, -5.125100135803223, -5.298500061035156, -5.34499979019165, -5.381400108337402, -5.409299850463867, -5.411600112915039, -5.423699855804443, -5.423699855804443, -5.423699855804443, -5.44290018081665, -5.48960018157959, -5.498499870300293, -5.501399993896484, -5.528600215911865, -5.6020002365112305, -5.607999801635742, -5.653900146484375, -5.6666998863220215, -5.752500057220459, -3.955199956893921, -4.499199867248535, -3.8547000885009766, -4.704699993133545, -4.483799934387207, -3.0023999214172363, -3.6205999851226807, -4.487500190734863, -2.710900068283081, -3.002700090408325, -5.112400054931641, -2.8046998977661133, -5.1194000244140625, -4.832900047302246, -4.196400165557861, -4.877500057220459, -3.9268999099731445, -4.290800094604492, -4.5467000007629395, -4.179900169372559, -4.706200122833252, -4.105000019073486, -4.600800037384033, -4.2256999015808105, -4.43120002746582, -4.633299827575684, -4.604100227355957, -3.349400043487549, -3.511699914932251, -3.6126999855041504, -3.6126999855041504, -3.6126999855041504, -3.696000099182129, -3.696000099182129, -3.696000099182129, -3.696000099182129, -3.8422000408172607, -3.8705999851226807, -3.994999885559082, -4.01609992980957, -4.113999843597412, -4.433300018310547, -4.588500022888184, -4.734000205993652, -4.903299808502197, -4.969799995422363, -4.980299949645996, -5.078999996185303, -5.101900100708008, -5.13640022277832, -5.225800037384033, -4.962299823760986, -5.413899898529053, -5.423999786376953, -5.424600124359131, -5.439599990844727, -5.446800231933594, -4.923299789428711, -4.049799919128418, -4.0142998695373535, -4.545899868011475, -4.1682000160217285, -4.283699989318848, -4.192599773406982, -3.992500066757202, -4.470099925994873, -3.9962000846862793, -4.105899810791016, -4.326600074768066, -4.849800109863281, -4.462100028991699, -4.184599876403809, -4.39739990234375, -4.0279998779296875, -4.2916998863220215, -4.3668999671936035, -4.367700099945068, -4.374100208282471, -4.399499893188477, -4.591599941253662, -4.6290998458862305, -4.930200099945068, -4.942399978637695, -4.977700233459473, -5.178299903869629, -5.178299903869629, -5.194499969482422, -5.1946001052856445, -5.206200122833252, -5.211599826812744, -5.240200042724609, -5.2708001136779785, -5.287600040435791, -5.317999839782715, -5.338200092315674, -5.351600170135498, -5.374899864196777, -5.396900177001953, -5.403900146484375, -5.497900009155273, -5.50540018081665, -5.509099960327148, -5.525000095367432, -3.589400053024292, -4.51800012588501, -3.9748001098632812, -5.005099773406982, -4.642399787902832, -3.8835999965667725, -3.8243000507354736, -4.218900203704834, -4.929800033569336, -4.7129998207092285, -4.736800193786621, -4.821599960327148, -4.565800189971924, -4.08050012588501, -4.822500228881836, -4.244999885559082, -4.770299911499023, -4.960999965667725, -4.720900058746338, -4.702300071716309, -4.874499797821045, -3.2437000274658203, -3.9367001056671143, -3.9367001056671143, -4.554100036621094, -4.595099925994873, -4.700399875640869, -4.72599983215332, -4.896100044250488, -5.01170015335083, -5.058499813079834, -5.153299808502197, -5.158699989318848, -5.18779993057251, -5.263299942016602, -5.267300128936768, -5.274400234222412, -5.285200119018555, -5.313799858093262, -5.379000186920166, -5.449999809265137, -5.459700107574463, -5.4918999671936035, -5.525100231170654, -5.55109977722168, -5.573800086975098, -5.623300075531006, -5.628900051116943, -5.6682000160217285, -5.68120002746582, -5.681399822235107, -3.393699884414673, -4.5183000564575195, -3.7639000415802, -3.414099931716919, -4.905700206756592, -4.662399768829346, -3.620800018310547, -4.24429988861084, -4.803800106048584, -3.1043999195098877, -4.0792999267578125, -4.088699817657471, -4.832799911499023, -4.78380012512207, -3.473599910736084, -4.3557000160217285, -4.863500118255615, -4.267300128936768, -4.633200168609619, -4.38070011138916, -4.367700099945068, -4.172699928283691, -4.808300018310547, -4.802800178527832, -3.2990000247955322, -3.7639000415802, -4.101799964904785, -4.222599983215332, -4.318999767303467, -4.411099910736084, -4.446800231933594, -4.467599868774414, -4.697199821472168, -4.817800045013428, -4.827199935913086, -4.831999778747559, -4.927700042724609, -4.929599761962891, -5.043099880218506, -5.046299934387207, -5.0467000007629395, -5.091899871826172, -5.109899997711182, -5.214000225067139, -5.304900169372559, -5.381999969482422, -5.423999786376953, -5.446599960327148, -5.5065999031066895, -5.55079984664917, -5.568299770355225, -5.577000141143799, -5.616399765014648, -5.716000080108643, -2.9426000118255615, -4.668900012969971, -4.136099815368652, -4.818299770355225, -3.5518999099731445, -5.194699764251709, -3.7091000080108643, -3.188699960708618, -4.828499794006348, -4.905399799346924, -4.305699825286865, -4.253200054168701, -4.3572998046875, -4.551599979400635, -4.288000106811523, -3.8310000896453857, -4.277500152587891, -4.738100051879883, -4.701000213623047, -4.48799991607666, -4.388999938964844, -4.249599933624268, -4.682499885559082, -4.6697998046875, -3.9284000396728516, -3.9593000411987305, -3.9892001152038574, -4.269599914550781, -4.363399982452393, -4.394499778747559, -4.412399768829346, -4.588699817657471, -4.612400054931641, -4.615799903869629, -4.643799781799316, -4.655600070953369, -4.6834001541137695, -4.6875, -4.6875, -4.799799919128418, -4.851600170135498, -4.8709001541137695, -5.002900123596191, -5.125999927520752, -5.131499767303467, -5.17080020904541, -5.171899795532227, -5.294300079345703, -5.294300079345703, -5.294300079345703, -5.348100185394287, -5.402500152587891, -5.42140007019043, -5.5065999031066895, -3.9995999336242676, -4.2835001945495605, -4.115499973297119, -4.781400203704834, -4.365499973297119, -4.648399829864502, -4.83620023727417, -4.305500030517578, -4.717700004577637, -4.127799987792969, -3.7788000106811523, -4.494100093841553, -4.4430999755859375, -4.068600177764893, -4.508699893951416, -4.327700138092041, -4.527400016784668, -4.614999771118164, -4.452199935913086, -4.500400066375732, -4.635000228881836, -3.2576000690460205, -4.070300102233887, -4.112400054931641, -4.11460018157959, -4.387899875640869, -4.497499942779541, -4.507299900054932, -4.518899917602539, -4.55649995803833, -4.581200122833252, -4.626399993896484, -4.714600086212158, -4.7469000816345215, -4.7469000816345215, -4.79449987411499, -4.837399959564209, -4.884900093078613, -4.916999816894531, -4.916999816894531, -4.939300060272217, -5.055600166320801, -5.077099800109863, -5.158999919891357, -5.161900043487549, -5.179800033569336, -5.186399936676025, -5.186399936676025, -5.242000102996826, -5.375999927520752, -5.390500068664551, -4.3958001136779785, -4.162899971008301, -3.3541998863220215, -3.953700065612793, -4.3531999588012695, -4.331600189208984, -4.263299942016602, -4.280900001525879, -4.1585001945495605, -4.612599849700928, -4.687099933624268, -4.46120023727417, -4.729400157928467, -4.658899784088135, -4.617800235748291, -4.513299942016602, -4.485599994659424, -4.639500141143799, -4.707600116729736, -2.896399974822998, -3.0810999870300293, -3.384999990463257, -4.018099784851074, -4.08519983291626, -4.182000160217285, -4.249599933624268, -4.464600086212158, -4.665500164031982, -4.696800231933594, -4.802700042724609, -4.8094000816345215, -4.823699951171875, -4.827000141143799, -4.887899875640869, -4.959099769592285, -4.979899883270264, -5.055200099945068, -5.157299995422363, -5.184899806976318, -5.349599838256836, -5.458199977874756, -5.478099822998047, -5.478099822998047, -5.480400085449219, -5.592599868774414, -5.610199928283691, -5.610199928283691, -5.646900177001953, -5.725200176239014, -4.333600044250488, -4.237100124359131, -3.7221999168395996, -2.9614999294281006, -4.066999912261963, -3.9001998901367188, -3.964200019836426, -3.2790000438690186, -4.922999858856201, -3.7909998893737793, -4.61929988861084, -4.733099937438965, -4.41949987411499, -3.6877999305725098, -3.795300006866455, -4.3907999992370605, -4.350800037384033, -4.5, -4.684000015258789, -4.779200077056885, -4.799300193786621]}, \"token.table\": {\"Topic\": [2, 9, 10, 11, 5, 9, 18, 7, 10, 11, 2, 7, 8, 14, 19, 20, 10, 20, 9, 5, 15, 15, 1, 7, 17, 17, 13, 2, 4, 10, 16, 1, 6, 7, 3, 17, 2, 12, 10, 17, 1, 10, 1, 14, 2, 10, 17, 8, 19, 7, 19, 6, 7, 11, 1, 15, 16, 13, 11, 16, 2, 15, 8, 13, 2, 5, 6, 15, 15, 1, 12, 17, 4, 20, 13, 16, 17, 2, 9, 10, 13, 14, 15, 10, 10, 3, 4, 6, 12, 15, 16, 17, 5, 8, 14, 8, 20, 2, 4, 5, 6, 9, 11, 13, 15, 19, 1, 13, 17, 10, 13, 17, 6, 13, 3, 9, 12, 2, 7, 1, 17, 6, 9, 11, 14, 11, 10, 13, 18, 10, 14, 20, 8, 9, 15, 17, 19, 1, 4, 10, 15, 17, 20, 3, 6, 10, 2, 16, 1, 18, 14, 15, 8, 18, 8, 12, 14, 4, 15, 13, 16, 9, 11, 9, 11, 14, 18, 18, 5, 13, 1, 13, 7, 16, 1, 10, 20, 15, 6, 14, 5, 12, 13, 14, 16, 6, 17, 1, 4, 5, 8, 10, 10, 16, 20, 20, 15, 18, 14, 10, 13, 14, 15, 18, 12, 20, 18, 4, 19, 1, 3, 10, 13, 16, 1, 5, 16, 20, 9, 2, 7, 7, 5, 3, 14, 6, 6, 6, 19, 3, 6, 7, 11, 3, 8, 5, 2, 2, 7, 10, 13, 17, 19, 6, 12, 13, 17, 20, 18, 5, 12, 9, 15, 9, 4, 6, 13, 3, 5, 6, 8, 15, 3, 20, 1, 4, 4, 11, 2, 15, 3, 16, 3, 10, 16, 13, 14, 11, 17, 18, 10, 5, 9, 12, 7, 15, 19, 19, 8, 2, 4, 14, 16, 17, 1, 2, 4, 5, 6, 7, 8, 10, 11, 12, 13, 15, 18, 20, 6, 5, 12, 2, 20, 11, 1, 19, 15, 10, 8, 2, 8, 6, 10, 13, 7, 10, 12, 14, 17, 5, 8, 4, 18, 15, 5, 13, 12, 9, 1, 4, 9, 11, 12, 19, 3, 13, 5, 8, 18, 9, 6, 3, 10, 5, 8, 9, 12, 1, 12, 10, 10, 16, 13, 17, 19, 5, 11, 6, 10, 11, 18, 20, 3, 5, 6, 8, 17, 18, 20, 14, 2, 4, 2, 6, 13, 18, 8, 10, 10, 7, 4, 5, 14, 20, 4, 8, 11, 10, 8, 14, 9, 11, 1, 10, 3, 11, 12, 20, 2, 15, 7, 3, 13, 15, 8, 4, 18, 8, 8, 12, 9, 1, 6, 5, 6, 14, 16, 5, 16, 7, 13, 9, 5, 6, 10, 13, 14, 16, 18, 9, 11, 19, 16, 1, 18, 11, 2, 13, 16, 8, 8, 4, 1, 13, 12, 1, 13, 19, 2, 16, 2, 20, 13, 7, 1, 16, 19, 6, 5, 6, 10, 13, 19, 7, 20, 6, 18, 14, 14, 3, 18, 5, 8, 1, 7, 14, 17, 18, 9, 10, 5, 20, 14, 2, 16, 1, 5, 13, 17, 20, 7, 18, 6, 12, 14, 17, 4, 5, 11, 3, 9, 10, 11, 10, 15, 18, 19, 15, 13, 17, 20, 1, 20, 1, 17, 1, 16, 7, 3, 13, 16, 20, 11, 7, 15, 17, 11, 3, 3, 15, 4, 1, 14, 10, 18, 1, 15, 7, 12, 15, 16, 19, 5, 7, 2, 7, 4, 20, 5, 10, 19, 7, 14, 4, 9, 13, 5, 12, 18, 20, 13, 9, 11, 4, 1, 2, 5, 10, 18, 17, 2, 5, 13, 17, 7, 1, 7, 14, 17, 12, 15, 19, 3, 15, 17, 20, 5, 11, 10, 10, 10, 14, 4, 11, 17, 18, 19, 4, 8, 3, 4, 17, 4, 16, 6, 20, 19, 3, 3, 8, 20, 2, 5, 6, 7, 10, 15, 16, 18, 20, 17, 13, 1, 7, 4, 13, 10, 12, 13, 14, 18, 12, 5, 6, 17, 20, 18, 14, 13, 12, 7, 18, 2, 6, 16, 20, 2, 20, 3, 3, 15, 14, 3, 17, 9, 15, 1, 17, 2, 14, 6, 9, 12, 14, 18, 10, 5, 13, 16, 7, 10, 1, 6, 8, 10, 14, 5, 10, 1, 2, 5, 7, 8, 10, 13, 14, 17, 18, 1, 8, 13, 1, 5, 20, 5, 1, 7, 20, 5, 13, 16, 1, 13, 16, 15, 1, 7, 2, 17, 20, 16, 12, 2, 17, 20, 3, 17, 11, 1, 13, 16, 12, 14, 11, 16, 16, 5, 18, 7, 19, 9, 12, 2, 1, 4, 7, 3, 4, 6, 8, 13, 18, 2, 20, 9, 16, 3, 11, 14, 7, 3, 3, 7, 10, 16, 9, 18, 17, 1, 11, 14, 19, 3, 8, 20, 1, 3, 2, 5, 8, 8, 13, 19, 15, 1, 15, 7, 16, 11, 3, 5, 11, 19, 18, 4, 17, 2, 16, 20, 15, 17, 8, 16, 17, 16, 6, 9, 6, 14, 3, 14, 16, 17, 19, 7, 18, 13, 16, 5, 9, 10, 18, 2, 5, 6, 7, 9, 10, 11, 15, 16, 18, 3, 11, 14, 19, 4, 19, 19, 16, 20, 20, 17, 8, 4, 2, 3, 4, 7, 9, 11, 14, 15, 16, 17, 6, 2, 5, 10, 11, 15, 20, 12, 20, 16, 3, 1, 15, 3, 3, 18, 5, 17, 8, 17, 2, 6, 10, 16, 19, 5, 10, 13, 14, 17, 15, 19, 6, 1, 7, 11, 13, 16, 17, 5, 6, 9, 11, 14, 2, 1, 11, 2, 11, 5, 13, 2, 12, 19, 9, 5, 19, 18, 7, 3, 1, 12, 2, 8, 6, 19, 12, 20, 9, 15, 20, 2, 7, 9, 10, 11, 12, 13, 14, 16, 19, 17, 9, 13, 15, 16, 3, 4, 4, 9, 3, 4, 7, 14, 19, 5, 6, 13, 16, 2, 9, 4, 5, 6, 8, 12, 13, 14, 17, 15, 16, 18, 1, 7, 13, 15, 19, 17, 3, 6, 14, 12, 20, 20, 2, 14, 5, 19, 7, 8, 13, 2, 15, 19, 20, 2, 3, 18, 10, 18, 8, 5, 10, 2, 12, 16, 5, 9, 9, 12, 15, 10, 17, 11, 12, 10, 1, 8, 15, 17, 19, 1, 17, 1, 13, 2, 16, 10, 16, 9, 19, 11, 2, 12, 16, 4, 8, 9, 17, 13, 15, 3, 13, 19, 19, 13, 2, 4, 8, 20, 17, 17, 12, 10, 9, 5, 12, 18, 20, 4, 9, 11, 3, 8, 13, 16, 12, 6, 7, 13, 17, 7, 2, 4, 12, 3, 11, 1, 5, 9, 6, 14, 16, 20, 9, 17, 2, 14, 2, 16, 4, 7, 16, 4, 18, 5, 2, 3, 4, 5, 6, 7, 8, 10, 11, 12, 14, 15, 16, 18, 1, 2, 4, 1, 2, 3, 5, 7, 8, 9, 11, 14, 15, 16, 6, 12, 9, 1, 7, 19, 14, 2, 17, 9, 10, 15, 18, 19, 19, 11, 18, 7, 3, 6, 9, 10, 11, 12, 19, 15, 17, 17, 7, 6, 14, 16, 17, 19, 20, 9, 12, 19, 9, 5, 16, 4, 1, 2, 3, 4, 5, 6, 7, 8, 9, 10, 12, 16, 17, 18, 6, 13, 19, 20, 4, 7, 4, 13, 1, 9, 11, 7, 8, 13, 16, 19, 2, 5, 7, 8, 17, 10, 19, 5, 18, 11, 20, 3, 11, 15, 11, 20, 5, 13, 8, 2, 1, 7, 12, 18, 8, 6, 2, 3, 18, 2, 3, 11, 18, 19, 2, 4, 7, 13, 17, 11, 16, 9, 19, 3, 6, 2, 6, 11, 3, 5, 11, 3, 9, 18, 4, 19, 5, 11, 3, 4, 6, 10, 18, 17, 8, 8, 13, 10, 6, 2, 8, 12, 19, 12, 14, 7, 9, 6, 6, 18, 4, 16, 9, 6, 11, 16, 20, 1, 20, 17, 15, 13, 1, 10, 12, 7, 15, 9, 19, 9, 11, 18, 14, 18, 3, 11, 7, 15, 19, 11, 3, 8, 13, 4, 17, 19, 8, 20, 14, 2, 15, 7, 15, 9, 11, 18, 17, 15, 15, 2, 3, 7, 4, 6, 14, 12, 12, 4, 14, 18, 4, 5, 8, 16, 17, 18, 4, 17, 1, 11, 19, 9, 4, 11, 12, 15, 4, 3, 15, 6, 5, 19, 20, 9, 15, 16, 10, 13, 5, 4, 7, 11, 13, 17, 8, 11, 13, 18, 12, 13, 17, 12, 4, 5, 1, 6, 14, 10, 5, 8, 14, 12, 2, 5, 9, 18, 20, 2, 18, 8, 17, 9, 8, 17, 10, 17, 3, 17, 8, 10, 9, 1, 11, 1, 19, 20, 6, 4, 4, 19, 18, 11, 15, 16, 12, 1, 4, 5, 6, 8, 10, 13, 3, 20, 5, 17, 6, 12, 20, 15, 7, 11, 18, 10, 19, 9, 11, 19, 5, 9, 2, 20, 5, 2, 18, 1, 4, 7, 10, 13, 15, 20, 8, 20, 5, 6, 7, 13, 9, 15, 2, 9, 16, 3, 4, 9, 16, 13, 9, 10, 11, 12, 15, 17, 19, 10, 18, 15, 15, 18, 15, 6, 7, 16, 1, 2, 14, 15, 14, 8, 3, 9, 5, 7, 8, 9, 12, 18, 12, 15, 11, 17, 11, 2, 9, 11, 13, 15, 18, 19, 11, 11, 1, 13, 2, 10, 11, 15, 16, 17, 18, 6, 3, 2, 14, 13, 20, 18, 7, 11, 6, 19], \"Freq\": [0.4030188322067261, 0.4244352877140045, 0.007787803187966347, 0.164517343044281, 0.49084654450416565, 0.3866574168205261, 0.1180810034275055, 0.745197594165802, 0.07871805876493454, 0.17492900788784027, 0.1296563446521759, 0.8140279650688171, 0.05480319634079933, 0.9104110598564148, 0.08455830067396164, 0.9920260310173035, 0.4181971251964569, 0.5782478451728821, 0.9928643703460693, 0.9909021258354187, 0.9969921708106995, 0.9872698783874512, 0.9907901883125305, 0.9962129592895508, 0.9907501935958862, 0.9824745059013367, 0.9799314141273499, 0.655417263507843, 0.09753233194351196, 0.23212695121765137, 0.013654526323080063, 0.16284330189228058, 0.631017804145813, 0.20355413854122162, 0.32376983761787415, 0.6745204925537109, 0.16219818592071533, 0.8350202441215515, 0.985602855682373, 0.9921667575836182, 0.9914056658744812, 0.9964797496795654, 0.9890786409378052, 0.9979142546653748, 0.07272200286388397, 0.8784052729606628, 0.04784342646598816, 0.9975767135620117, 0.9950211048126221, 0.9947704672813416, 0.9867398142814636, 0.10749424248933792, 0.8351476192474365, 0.057881515473127365, 0.9887070655822754, 0.9955998063087463, 0.9983813762664795, 0.9935916662216187, 0.9805299043655396, 0.9898041486740112, 0.1731792539358139, 0.8226014375686646, 0.9986841082572937, 0.984017014503479, 0.9857621788978577, 0.9958652257919312, 0.8213052749633789, 0.17468060553073883, 0.9934426546096802, 0.9942347407341003, 0.9934466481208801, 0.9917914867401123, 0.9931396842002869, 0.9803648591041565, 0.9935916662216187, 0.7219598293304443, 0.2719711661338806, 0.060235828161239624, 0.021623117849230766, 0.08958148956298828, 0.17144043743610382, 0.528221845626831, 0.128194198012352, 0.997128963470459, 0.9953265190124512, 0.13929501175880432, 0.06190889701247215, 0.1373603641986847, 0.11414452642202377, 0.19733460247516632, 0.04449702054262161, 0.3056751787662506, 0.20293183624744415, 0.7948163747787476, 0.9965636134147644, 0.999489426612854, 0.9950035810470581, 0.6583935618400574, 0.08771701157093048, 0.053662169724702835, 0.19916921854019165, 0.42557674646377563, 0.14845700562000275, 0.423102468252182, 0.6997136473655701, 0.2955312430858612, 0.8015289306640625, 0.14426478743553162, 0.054164398461580276, 0.21258334815502167, 0.1732160598039627, 0.6101929545402527, 0.9955961108207703, 0.9817332625389099, 0.9983001947402954, 0.997488796710968, 0.9828046560287476, 0.7070346474647522, 0.2909817695617676, 0.779524028301239, 0.2160637229681015, 0.9940654039382935, 0.3785739839076996, 0.5404664874076843, 0.08059278130531311, 0.9935453534126282, 0.11035607755184174, 0.06345474720001221, 0.8249117136001587, 0.09470494091510773, 0.8574636578559875, 0.04607267677783966, 0.13293087482452393, 0.08162422478199005, 0.6296725869178772, 0.06996361911296844, 0.08395634591579437, 0.08360034227371216, 0.5419932007789612, 0.1747153103351593, 0.05072380229830742, 0.08172167837619781, 0.06669240444898605, 0.07966157048940659, 0.9161080718040466, 0.9937947392463684, 0.9992160797119141, 0.9916109442710876, 0.9855403900146484, 0.9968999624252319, 0.4592289328575134, 0.5386849641799927, 0.8927661776542664, 0.10583699494600296, 0.9986841082572937, 0.9994856715202332, 0.9986196756362915, 0.16744525730609894, 0.830659806728363, 0.9835240244865417, 0.9983850121498108, 0.4406558573246002, 0.5569025278091431, 0.6648887991905212, 0.33430859446525574, 0.14806267619132996, 0.8451910614967346, 0.9895268082618713, 0.989650309085846, 0.9943332672119141, 0.8223339319229126, 0.17688380181789398, 0.45123887062072754, 0.5476868748664856, 0.998863697052002, 0.06585260480642319, 0.9320676326751709, 0.99543297290802, 0.9985270500183105, 0.9977803826332092, 0.99234938621521, 0.9990137219429016, 0.996843695640564, 0.9957414865493774, 0.9871785044670105, 0.23898595571517944, 0.7586414217948914, 0.9925868511199951, 0.9995661377906799, 0.5786353945732117, 0.3455161154270172, 0.07493120431900024, 0.5248652100563049, 0.47292542457580566, 0.9925599098205566, 0.987545907497406, 0.31039687991142273, 0.6866354942321777, 0.9908420443534851, 0.16611401736736298, 0.19631655514240265, 0.15554311871528625, 0.08305700868368149, 0.3971635103225708, 0.9907239675521851, 0.9812169075012207, 0.9884487390518188, 0.990900456905365, 0.9932470917701721, 0.44709765911102295, 0.21359319984912872, 0.1321381777524948, 0.09050559252500534, 0.11765727400779724, 0.9911457896232605, 0.16219541430473328, 0.836145281791687, 0.9735625386238098, 0.9881991744041443, 0.9993669986724854, 0.9956496357917786, 0.9955024123191833, 0.9943506717681885, 0.1888098567724228, 0.805218517780304, 0.9963671565055847, 0.9988834261894226, 0.9940592646598816, 0.9939264059066772, 0.1811758428812027, 0.2229856550693512, 0.5942060947418213, 0.9934828877449036, 0.8340228796005249, 0.16417773067951202, 0.9941330552101135, 0.9971639513969421, 0.14851921796798706, 0.6081101894378662, 0.17892473936080933, 0.035083282738924026, 0.029236067086458206, 0.9920397400856018, 0.5121685266494751, 0.0535101443529129, 0.12230890244245529, 0.25035104155540466, 0.059243373572826385, 0.9928852915763855, 0.9910954236984253, 0.9891188144683838, 0.13289162516593933, 0.8602983951568604, 0.9940985441207886, 0.24975912272930145, 0.17785876989364624, 0.5714185833930969, 0.02883426658809185, 0.44249510765075684, 0.0798487439751625, 0.15747946500778198, 0.29166969656944275, 0.9951854348182678, 0.9833697080612183, 0.1670236587524414, 0.830942690372467, 0.9994137287139893, 0.9951683282852173, 0.9924942851066589, 0.9870585203170776, 0.9961380958557129, 0.9937374591827393, 0.989588737487793, 0.9884529113769531, 0.9857195019721985, 0.9766126275062561, 0.021523142233490944, 0.11552596092224121, 0.6498335003852844, 0.23105192184448242, 0.9939872026443481, 0.7166964411735535, 0.2811655104160309, 0.9994856715202332, 0.23509185016155243, 0.6926813125610352, 0.07136716693639755, 0.9902030825614929, 0.99140864610672, 0.14554332196712494, 0.19458509981632233, 0.18192915618419647, 0.4761797785758972, 0.9787331819534302, 0.11934377253055573, 0.06472882628440857, 0.12608635425567627, 0.26127520203590393, 0.022587662562727928, 0.011125266551971436, 0.011462396010756493, 0.12945765256881714, 0.024273309856653214, 0.05090652406215668, 0.026296084746718407, 0.0330386720597744, 0.06405457109212875, 0.05528920516371727, 0.9932202100753784, 0.9959160685539246, 0.9925694465637207, 0.9809134006500244, 0.017438460141420364, 0.9954647421836853, 0.9977187514305115, 0.9938774108886719, 0.9943728446960449, 0.9977166652679443, 0.9936482906341553, 0.9873096346855164, 0.9877728819847107, 0.9977932572364807, 0.18256638944149017, 0.8139417767524719, 0.19819124042987823, 0.12011589854955673, 0.18617965281009674, 0.11010624468326569, 0.384370893239975, 0.2559572458267212, 0.7405695915222168, 0.9933549761772156, 0.9936671257019043, 0.9898508787155151, 0.8561675548553467, 0.1430124044418335, 0.9956828951835632, 0.9975091814994812, 0.12750324606895447, 0.19661715626716614, 0.11082057654857635, 0.4242163896560669, 0.03336533531546593, 0.10605409741401672, 0.9980144500732422, 0.991889238357544, 0.9880404472351074, 0.9928577542304993, 0.9905759692192078, 0.9905557632446289, 0.9978704452514648, 0.20190352201461792, 0.7953775525093079, 0.508611261844635, 0.07295653223991394, 0.16050437092781067, 0.2563900947570801, 0.9935621619224548, 0.9907239675521851, 0.9932167530059814, 0.3025408089160919, 0.6929160356521606, 0.569951593875885, 0.22956383228302002, 0.19789984822273254, 0.9963120222091675, 0.9959108233451843, 0.3056279718875885, 0.24252259731292725, 0.04083288460969925, 0.0544438473880291, 0.3551223576068878, 0.03686262667179108, 0.10105444490909576, 0.5338725447654724, 0.06864075362682343, 0.03241368755698204, 0.13728150725364685, 0.08961431682109833, 0.9904564023017883, 0.07736781239509583, 0.9206770062446594, 0.06761856377124786, 0.6003431677818298, 0.2065107524394989, 0.12518571317195892, 0.9882922172546387, 0.9891877174377441, 0.9955807328224182, 0.993410050868988, 0.9269412755966187, 0.06564740091562271, 0.005251792259514332, 0.985287070274353, 0.6470627188682556, 0.13572534918785095, 0.21463543176651, 0.9922934174537659, 0.9949129819869995, 0.9949602484703064, 0.873595654964447, 0.12479938566684723, 0.9906883239746094, 0.9875074625015259, 0.994335949420929, 0.1511576771736145, 0.7557883858680725, 0.09223180264234543, 0.8714078068733215, 0.12731607258319855, 0.9922780990600586, 0.13013221323490143, 0.29088377952575684, 0.5771746635437012, 0.9950278401374817, 0.17804139852523804, 0.8196043372154236, 0.9971325993537903, 0.9907183647155762, 0.9974539279937744, 0.9951732754707336, 0.9874189496040344, 0.9954617023468018, 0.1918601244688034, 0.19404035806655884, 0.6104640364646912, 0.9888843894004822, 0.9853441119194031, 0.9950547218322754, 0.2391989678144455, 0.7508189678192139, 0.9824549555778503, 0.440670371055603, 0.09639664739370346, 0.03876267001032829, 0.19024311006069183, 0.041312847286462784, 0.002040140563622117, 0.19024311006069183, 0.8686714768409729, 0.12811341881752014, 0.9902030825614929, 0.986528754234314, 0.18676666915416718, 0.8093222379684448, 0.9875281453132629, 0.9979382753372192, 0.9933549165725708, 0.9853716492652893, 0.9904840588569641, 0.9950278401374817, 0.9923496246337891, 0.9912856221199036, 0.996850311756134, 0.997458815574646, 0.9930081963539124, 0.849466860294342, 0.1481628268957138, 0.5148055553436279, 0.4815922677516937, 0.9876436591148376, 0.9883895516395569, 0.9933831691741943, 0.9941455125808716, 0.9970149397850037, 0.8365813493728638, 0.15844343602657318, 0.9966413378715515, 0.17618098855018616, 0.2876424491405487, 0.14921452105045319, 0.330788791179657, 0.05213519185781479, 0.10972508788108826, 0.8864632248878479, 0.21464751660823822, 0.7787212133407593, 0.9927510619163513, 0.9935927391052246, 0.9896743893623352, 0.9950897693634033, 0.9966214299201965, 0.9937908053398132, 0.2298644483089447, 0.5153170228004456, 0.03155002370476723, 0.051080986857414246, 0.17127154767513275, 0.9968467950820923, 0.9907013773918152, 0.47610944509506226, 0.5215562582015991, 0.9987258315086365, 0.9892749786376953, 0.9839438199996948, 0.11898926645517349, 0.712676465511322, 0.06925301253795624, 0.045329246670007706, 0.05351369082927704, 0.9940659403800964, 0.9931550621986389, 0.25504645705223083, 0.1073879823088646, 0.0483245886862278, 0.5879491567611694, 0.5004944205284119, 0.1054963693022728, 0.39254462718963623, 0.17039057612419128, 0.24935206770896912, 0.49662619829177856, 0.0810394212603569, 0.37423479557037354, 0.3841482996940613, 0.11152692139148712, 0.12639717757701874, 0.9931652545928955, 0.2889421880245209, 0.07408773899078369, 0.6346849799156189, 0.9881178736686707, 0.9927403330802917, 0.9965488314628601, 0.9936747550964355, 0.6991632580757141, 0.3001781105995178, 0.9963508248329163, 0.9928516149520874, 0.3309016525745392, 0.666274905204773, 0.9953891634941101, 0.9852094054222107, 0.21212074160575867, 0.19645273685455322, 0.5905634164810181, 0.9948360919952393, 0.9948905110359192, 0.9930720925331116, 0.9879682064056396, 0.9935628771781921, 0.9937078356742859, 0.9986196756362915, 0.9916823506355286, 0.9921565651893616, 0.9935621619224548, 0.9904407262802124, 0.0761820450425148, 0.06972593814134598, 0.07359960675239563, 0.06972593814134598, 0.7088803648948669, 0.9940203428268433, 0.9867790341377258, 0.9917962551116943, 0.9972150921821594, 0.678392231464386, 0.3214143216609955, 0.5718938112258911, 0.37946411967277527, 0.046758610755205154, 0.3294571340084076, 0.6693732142448425, 0.13145612180233002, 0.09085937589406967, 0.7752044200897217, 0.34618738293647766, 0.26910659670829773, 0.239356130361557, 0.14469550549983978, 0.9935916662216187, 0.9202781915664673, 0.07868549227714539, 0.9933549761772156, 0.2898344099521637, 0.7081181406974792, 0.09046377241611481, 0.797059178352356, 0.11002350598573685, 0.9978013038635254, 0.9953227043151855, 0.14832894504070282, 0.8454750180244446, 0.9968168139457703, 0.993410050868988, 0.2660950720310211, 0.11569350957870483, 0.07172997295856476, 0.5437595248222351, 0.10486526042222977, 0.034955088049173355, 0.856399655342102, 0.8000497221946716, 0.1632208377122879, 0.034784771502017975, 0.9930254817008972, 0.882028341293335, 0.11504717916250229, 0.9954341053962708, 0.995361864566803, 0.9975133538246155, 0.9986196756362915, 0.9995661377906799, 0.9933497309684753, 0.2558434307575226, 0.27964282035827637, 0.46408811211586, 0.9948365688323975, 0.9935659766197205, 0.9942871332168579, 0.9918214082717896, 0.9931772351264954, 0.9969379305839539, 0.9948305487632751, 0.9942463040351868, 0.9848127365112305, 0.9971662163734436, 0.996330201625824, 0.15098075568675995, 0.7308841347694397, 0.11666695028543472, 0.03446813300251961, 0.04870497062802315, 0.4503336548805237, 0.07867725938558578, 0.05320081487298012, 0.12438499927520752, 0.029972290620207787, 0.1161426231265068, 0.06444042176008224, 0.9916383624076843, 0.9933434128761292, 0.9853699207305908, 0.9989967346191406, 0.9955869317054749, 0.9912062883377075, 0.1470010131597519, 0.0996617004275322, 0.0996617004275322, 0.1993234008550644, 0.4559522867202759, 0.9936800003051758, 0.4605017304420471, 0.326399564743042, 0.10120917111635208, 0.11006497591733932, 0.9926662445068359, 0.9984278082847595, 0.9924313426017761, 0.9921913743019104, 0.9947704672813416, 0.996425211429596, 0.5143840909004211, 0.18656416237354279, 0.29717007279396057, 0.9788761734962463, 0.9950326085090637, 0.9670210480690002, 0.9914195537567139, 0.9971149563789368, 0.9875667691230774, 0.9959041476249695, 0.9953582882881165, 0.9947922229766846, 0.9970718026161194, 0.9933484196662903, 0.20069265365600586, 0.7964990139007568, 0.9937393665313721, 0.9925541281700134, 0.32216235995292664, 0.15887460112571716, 0.09709002822637558, 0.06399115920066833, 0.3574678301811218, 0.9885942935943604, 0.991002082824707, 0.9934216141700745, 0.9911155700683594, 0.9980421662330627, 0.9968292117118835, 0.39938464760780334, 0.20217297971248627, 0.19969232380390167, 0.15628094971179962, 0.04217104986310005, 0.7050382494926453, 0.2949179708957672, 0.14074382185935974, 0.04800105094909668, 0.23600517213344574, 0.057186439633369446, 0.15304039418697357, 0.1508181244134903, 0.1699296534061432, 0.005926055833697319, 0.014815139584243298, 0.023556072264909744, 0.5121145248413086, 0.23263247311115265, 0.2536340057849884, 0.8420076370239258, 0.04668143391609192, 0.11078131198883057, 0.9963912963867188, 0.9935621619224548, 0.8751171231269836, 0.12154404073953629, 0.9979763627052307, 0.9874464869499207, 0.9871629476547241, 0.7696375250816345, 0.0004162452823948115, 0.22976739704608917, 0.9965552687644958, 0.739968478679657, 0.2582017779350281, 0.8923206329345703, 0.02515941672027111, 0.08218742907047272, 0.9916601777076721, 0.999262809753418, 0.8923206329345703, 0.02515941672027111, 0.08218742907047272, 0.999724268913269, 0.9811915159225464, 0.9934828877449036, 0.8136752843856812, 0.14536550641059875, 0.04086953401565552, 0.9974822998046875, 0.9987258315086365, 0.8863775134086609, 0.10822051018476486, 0.9950436949729919, 0.9927417635917664, 0.9907827973365784, 0.48472467064857483, 0.5130297541618347, 0.18369260430335999, 0.8066501021385193, 0.9889845252037048, 0.24667976796627045, 0.6377373337745667, 0.11467722058296204, 0.03385704383254051, 0.05540243536233902, 0.21606950461864471, 0.43706366419792175, 0.17851896584033966, 0.07817899435758591, 0.7199513912200928, 0.2761780619621277, 0.21347911655902863, 0.7796628475189209, 0.9996795058250427, 0.9956186413764954, 0.9921867251396179, 0.9930159449577332, 0.9987146258354187, 0.9977333545684814, 0.1045714020729065, 0.8919325470924377, 0.9868432879447937, 0.9857146143913269, 0.9916045069694519, 0.9908156991004944, 0.14777402579784393, 0.6913106441497803, 0.15966388583183289, 0.985659122467041, 0.1522427797317505, 0.8258921504020691, 0.021393591538071632, 0.08223150670528412, 0.9155107736587524, 0.2139866203069687, 0.6378048062324524, 0.14750534296035767, 0.863308846950531, 0.13478536903858185, 0.990974485874176, 0.9943743944168091, 0.35882797837257385, 0.6398378610610962, 0.8939882516860962, 0.10114465653896332, 0.9798389077186584, 0.24255089461803436, 0.19089654088020325, 0.47611844539642334, 0.08758782595396042, 0.9981173276901245, 0.9962024092674255, 0.994135320186615, 0.5266318917274475, 0.472861647605896, 0.9970896244049072, 0.8362439274787903, 0.15888634324073792, 0.9941021203994751, 0.12473273277282715, 0.8677060008049011, 0.9910136461257935, 0.9953315258026123, 0.9903828501701355, 0.9978704452514648, 0.9975776076316833, 0.13123999536037445, 0.3695839047431946, 0.033187124878168106, 0.09352735430002213, 0.37109240889549255, 0.9953199625015259, 0.9938793778419495, 0.9919002652168274, 0.9983850121498108, 0.12347806245088577, 0.18378131091594696, 0.0574316568672657, 0.6317482590675354, 0.1287325769662857, 0.12416219711303711, 0.20719090104103088, 0.227376788854599, 0.10549978166818619, 0.03961002454161644, 0.012187699787318707, 0.031230982393026352, 0.017519818618893623, 0.10626151412725449, 0.9985405206680298, 0.992501974105835, 0.24657060205936432, 0.7521648406982422, 0.5962679386138916, 0.400197833776474, 0.995341956615448, 0.9922615885734558, 0.9979813098907471, 0.9854061603546143, 0.9986699223518372, 0.9957550764083862, 0.9888559579849243, 0.12841098010540009, 0.13149283826351166, 0.07293743640184402, 0.1448475867509842, 0.03081863559782505, 0.09348319470882416, 0.21983960270881653, 0.07088286429643631, 0.04109151288866997, 0.06574641913175583, 0.994670033454895, 0.3333735764026642, 0.4017309248447418, 0.04837597534060478, 0.012619820423424244, 0.09359699487686157, 0.10937177389860153, 0.8949556946754456, 0.1034630835056305, 0.9890015125274658, 0.9983460903167725, 0.6251100897789001, 0.3744763433933258, 0.9911442399024963, 0.9358924627304077, 0.06274139136075974, 0.44196051359176636, 0.556458055973053, 0.44934332370758057, 0.5505113005638123, 0.7073796391487122, 0.1578487902879715, 0.1338774859905243, 0.9923694133758545, 0.9950143098831177, 0.16012023389339447, 0.12647628784179688, 0.5862767696380615, 0.026790544390678406, 0.09968574345111847, 0.9870585203170776, 0.9984354972839355, 0.9917879104614258, 0.26704391837120056, 0.21102072298526764, 0.028634080663323402, 0.0037348801270127296, 0.05042088031768799, 0.4382259249687195, 0.11206765472888947, 0.6518220901489258, 0.23328369855880737, 0.8241258263587952, 0.1742437332868576, 0.9980303049087524, 0.9860106110572815, 0.9892466068267822, 0.2591538429260254, 0.7358118295669556, 0.9920367002487183, 0.992793619632721, 0.9886144399642944, 0.8868680596351624, 0.11002498120069504, 0.9941229820251465, 0.9927417635917664, 0.9885632395744324, 0.9952433109283447, 0.9942934513092041, 0.9907156825065613, 0.998432457447052, 0.9893041253089905, 0.9975522756576538, 0.9877728819847107, 0.9921366572380066, 0.989640474319458, 0.9950482249259949, 0.9897660613059998, 0.17704978585243225, 0.23296025395393372, 0.5824006199836731, 0.22487741708755493, 0.161574125289917, 0.20739366114139557, 0.024115541949868202, 0.03677619993686676, 0.021101098507642746, 0.05064263567328453, 0.09706505388021469, 0.07234662771224976, 0.10369683057069778, 0.9803110361099243, 0.12242793291807175, 0.6399068236351013, 0.17670010030269623, 0.05932075157761574, 0.9993653297424316, 0.9987941384315491, 0.9968502521514893, 0.9919736385345459, 0.9192686080932617, 0.04008703678846359, 0.04008703678846359, 0.9983747601509094, 0.9838151931762695, 0.08988983929157257, 0.07730526477098465, 0.08809204399585724, 0.7424900531768799, 0.23746715486049652, 0.7609742879867554, 0.24454335868358612, 0.04378287121653557, 0.1324164867401123, 0.10999111831188202, 0.02776474691927433, 0.277647465467453, 0.11426261812448502, 0.048054371029138565, 0.5686047077178955, 0.22922807931900024, 0.2024351954460144, 0.09143605828285217, 0.3745361566543579, 0.35343554615974426, 0.10022798925638199, 0.07912735641002655, 0.9949155449867249, 0.35414549708366394, 0.6436069011688232, 0.9883661270141602, 0.27812594175338745, 0.7107663154602051, 0.9812169075012207, 0.9928255677223206, 0.9938998818397522, 0.9911856055259705, 0.9907362461090088, 0.9956496357917786, 0.9961848855018616, 0.9966221451759338, 0.026159504428505898, 0.642776370048523, 0.03550218418240547, 0.2933601438999176, 0.9888893365859985, 0.6607150435447693, 0.3369085192680359, 0.9939141273498535, 0.9937111735343933, 0.9835157990455627, 0.9944040179252625, 0.9922165274620056, 0.3232869505882263, 0.6724368333816528, 0.9867410659790039, 0.8736497163772583, 0.12448081374168396, 0.39229097962379456, 0.14395998418331146, 0.46067196130752563, 0.0950208529829979, 0.9026980996131897, 0.9915176630020142, 0.9965543150901794, 0.9981982111930847, 0.3154428005218506, 0.12914100289344788, 0.10373622179031372, 0.12067274749279022, 0.32814517617225647, 0.8235927820205688, 0.17460167407989502, 0.7701737880706787, 0.22784307599067688, 0.9964619874954224, 0.9926345348358154, 0.0843292847275734, 0.9088822603225708, 0.9959501028060913, 0.9899086356163025, 0.9882322549819946, 0.12316814064979553, 0.8504466414451599, 0.025974232703447342, 0.9966978430747986, 0.21701838076114655, 0.19148680567741394, 0.5897793173789978, 0.9934402704238892, 0.9933816194534302, 0.284295916557312, 0.7124121189117432, 0.9922887682914734, 0.988457977771759, 0.9944401383399963, 0.9939197897911072, 0.9920631647109985, 0.9964097738265991, 0.9992291331291199, 0.9961388111114502, 0.9822821617126465, 0.9891923666000366, 0.9959192276000977, 0.9887017607688904, 0.5041773915290833, 0.12324336916208267, 0.13668809831142426, 0.2352827936410904, 0.9909067153930664, 0.07917709648609161, 0.913581907749176, 0.16243582963943481, 0.6839403510093689, 0.1496119499206543, 0.9868527054786682, 0.9941866993904114, 0.9977932572364807, 0.9898332953453064, 0.9974559545516968, 0.9942625761032104, 0.9894430041313171, 0.9939197897911072, 0.9946436882019043, 0.9909722208976746, 0.9876719117164612, 0.9885342717170715, 0.9920797348022461, 0.21821030974388123, 0.7779672145843506, 0.9972507357597351, 0.34270957112312317, 0.6563000679016113, 0.9952991604804993, 0.9984288811683655, 0.9981126189231873, 0.9991084337234497, 0.9961639642715454, 0.987684965133667, 0.9799948334693909, 0.6473689079284668, 0.1048017144203186, 0.24672070145606995, 0.9963355660438538, 0.9884487390518188, 0.9938119053840637, 0.0825137346982956, 0.0702894777059555, 0.010557313449680805, 0.12307604402303696, 0.08751457184553146, 0.10085012018680573, 0.013891201466321945, 0.04195142909884453, 0.20058895647525787, 0.0391731895506382, 0.07862420380115509, 0.024170691147446632, 0.07640160620212555, 0.050286151468753815, 0.20135530829429626, 0.10697001218795776, 0.6890127062797546, 0.24668529629707336, 0.13799722492694855, 0.028087930753827095, 0.03724703937768936, 0.0885380432009697, 0.0989183634519577, 0.18989883363246918, 0.05617586150765419, 0.02442428655922413, 0.051291003823280334, 0.03968946635723114, 0.9180399775505066, 0.07982956618070602, 0.9873426556587219, 0.990614116191864, 0.8399918079376221, 0.15856987237930298, 0.9904199838638306, 0.8989138007164001, 0.09872463345527649, 0.06592517346143723, 0.7226413488388062, 0.20791786909103394, 0.9953376054763794, 0.9899086356163025, 0.994146466255188, 0.9984639883041382, 0.9957674145698547, 0.9972150921821594, 0.0653686597943306, 0.2572843134403229, 0.22208581864833832, 0.0921865701675415, 0.17347835004329681, 0.08129178732633591, 0.10727164149284363, 0.9904471635818481, 0.9943183064460754, 0.9925274848937988, 0.9954684972763062, 0.10176218301057816, 0.13715772330760956, 0.19909992814064026, 0.08185219019651413, 0.1415821611881256, 0.33846986293792725, 0.045263879001140594, 0.8147497773170471, 0.1357916295528412, 0.978329062461853, 0.5420362949371338, 0.4563467502593994, 0.9935315251350403, 0.04140014946460724, 0.016560060903429985, 0.12328045070171356, 0.21405410766601562, 0.051213521510362625, 0.09905369579792023, 0.07145359367132187, 0.12512046098709106, 0.011040040291845798, 0.11653375625610352, 0.03220011666417122, 0.007360026706010103, 0.07482694089412689, 0.015640057623386383, 0.9974350929260254, 0.9848629832267761, 0.2167087346315384, 0.782294750213623, 0.9971203804016113, 0.9973284006118774, 0.9931007027626038, 0.9847687482833862, 0.10973656177520752, 0.17489264905452728, 0.7132876515388489, 0.9933304190635681, 0.07146420329809189, 0.33052194118499756, 0.10049653798341751, 0.4935496747493744, 0.10743050277233124, 0.21195748448371887, 0.635872483253479, 0.043552909046411514, 0.9889441132545471, 0.9935060143470764, 0.9939296841621399, 0.9942795634269714, 0.9953097701072693, 0.9147864580154419, 0.08530747145414352, 0.15024349093437195, 0.6817018389701843, 0.1659405678510666, 0.9984639883041382, 0.9968969821929932, 0.9954885244369507, 0.9943733811378479, 0.9885532855987549, 0.9921421408653259, 0.990730881690979, 0.15930549800395966, 0.1026635393500328, 0.7363454103469849, 0.9932925701141357, 0.9928231835365295, 0.8249709010124207, 0.17416849732398987, 0.9840348958969116, 0.42628201842308044, 0.3498874008655548, 0.07028305530548096, 0.036669421941041946, 0.11611983180046082, 0.11059590429067612, 0.0531294047832489, 0.477080374956131, 0.30901795625686646, 0.04879231005907059, 0.9941380023956299, 0.9902161955833435, 0.9921491742134094, 0.9944244623184204, 0.9174205660820007, 0.0817665383219719, 0.9884137511253357, 0.9991304874420166, 0.9918803572654724, 0.7567274570465088, 0.24027477204799652, 0.9898552894592285, 0.9944443702697754, 0.9900510907173157, 0.9932680130004883, 0.47242435812950134, 0.5253359079360962, 0.9971172213554382, 0.9966246485710144, 0.5222476720809937, 0.04417020082473755, 0.05066582188010216, 0.3000975549221039, 0.08054566383361816, 0.9904065728187561, 0.9946301579475403, 0.7413511276245117, 0.25454115867614746, 0.988587498664856, 0.9953315258026123, 0.15953536331653595, 0.3320561647415161, 0.2430131733417511, 0.26341885328292847, 0.996076762676239, 0.9956691861152649, 0.9955852031707764, 0.9931711554527283, 0.9977932572364807, 0.9413213133811951, 0.05761092156171799, 0.3091442883014679, 0.6880953311920166, 0.9972595572471619, 0.038483425974845886, 0.38030678033828735, 0.5795150995254517, 0.9932209253311157, 0.9003309011459351, 0.09945718199014664, 0.9830474853515625, 0.9978172779083252, 0.9869537949562073, 0.14846797287464142, 0.8495667576789856, 0.9995527267456055, 0.22358109056949615, 0.7759578824043274, 0.10561470687389374, 0.8908370733261108, 0.5672374963760376, 0.3895101845264435, 0.042569421231746674, 0.7537766695022583, 0.2442551553249359, 0.9933062791824341, 0.9847437739372253, 0.13853035867214203, 0.17811045050621033, 0.682756781578064, 0.9919850826263428, 0.5346599221229553, 0.11391380429267883, 0.34909069538116455, 0.9918550252914429, 0.8773345351219177, 0.12171678245067596, 0.039998531341552734, 0.954250693321228, 0.9986196756362915, 0.9949759840965271, 0.9965307712554932, 0.9942956566810608, 0.9945586323738098, 0.48558172583580017, 0.5123929977416992, 0.981107771396637, 0.9894070029258728, 0.9857447147369385, 0.9896840453147888, 0.05692483112215996, 0.9406150579452515, 0.9916648864746094, 0.9967823624610901, 0.32093653082847595, 0.6736489534378052, 0.9861273169517517, 0.9880989789962769, 0.00728951022028923, 0.984083890914917, 0.9947060346603394, 0.2233259528875351, 0.11526501178741455, 0.21303443610668182, 0.06277826428413391, 0.3818153440952301, 0.003087455639615655, 0.7097053527832031, 0.2870718240737915, 0.3779086172580719, 0.17457735538482666, 0.4456857144832611, 0.9871938824653625, 0.9984176754951477, 0.24946680665016174, 0.6158711910247803, 0.12993063032627106, 0.9918550252914429, 0.2586142122745514, 0.736055850982666, 0.9921883344650269, 0.9942598938941956, 0.7023175954818726, 0.29205286502838135, 0.9920187592506409, 0.9982612729072571, 0.9818557500839233, 0.12399040162563324, 0.8720658421516418, 0.9956004619598389, 0.2454863339662552, 0.13808606564998627, 0.040275104343891144, 0.11890744417905807, 0.45453330874443054, 0.7801107168197632, 0.06883329898118973, 0.04971293732523918, 0.10133790969848633, 0.3861353099346161, 0.3861353099346161, 0.2233840525150299, 0.9946057200431824, 0.6086379289627075, 0.39092355966567993, 0.9856378436088562, 0.992648720741272, 0.9910542368888855, 0.9925134778022766, 0.9881976842880249, 0.992415189743042, 0.9932827949523926, 0.9977057576179504, 0.28051307797431946, 0.19090473651885986, 0.1519445925951004, 0.3740174472332001, 0.9905795454978943, 0.9933745861053467, 0.9884487390518188, 0.15252093970775604, 0.8419155478477478, 0.9881991744041443, 0.9914942979812622, 0.9903416037559509, 0.9918152093887329, 0.9933531880378723, 0.22493699193000793, 0.7704092264175415, 0.993868887424469, 0.9937824606895447, 0.9966574907302856, 0.9261870384216309, 0.06961536407470703, 0.994133710861206, 0.9912732243537903, 0.9979641437530518, 0.9973865151405334, 0.997349202632904, 0.9976842999458313, 0.9932632446289062, 0.9898692965507507, 0.549354612827301, 0.041829030960798264, 0.40713587403297424, 0.9947910308837891, 0.1391947716474533, 0.00861553754657507, 0.08157836645841599, 0.032846733927726746, 0.27300482988357544, 0.1251945197582245, 0.3392367660999298, 0.9996713399887085, 0.9830967783927917, 0.985892117023468, 0.9920886158943176, 0.9888180494308472, 0.9966723918914795, 0.9884299635887146, 0.9837035536766052, 0.9897847771644592, 0.15003032982349396, 0.8439205884933472, 0.9953893423080444, 0.9954689741134644, 0.5259934067726135, 0.4710388779640198, 0.9923732876777649, 0.9911856055259705, 0.9853740334510803, 0.9936051964759827, 0.9905795454978943, 0.9960548877716064, 0.9965317845344543, 0.9907827973365784, 0.19039204716682434, 0.04142262414097786, 0.3412615954875946, 0.022421419620513916, 0.35760262608528137, 0.028501804918050766, 0.0182411540299654, 0.8098610639572144, 0.18792356550693512, 0.08966036140918732, 0.4006101191043854, 0.509347140789032, 0.9978466033935547, 0.999001145362854, 0.9895986914634705, 0.17813406884670258, 0.7252601385116577, 0.09224800020456314, 0.42432868480682373, 0.16569024324417114, 0.07274205982685089, 0.3367688059806824, 0.9885612726211548, 0.5228626728057861, 0.015454068779945374, 0.34814581274986267, 0.009444152936339378, 0.013736950233578682, 0.013736950233578682, 0.07598250359296799, 0.9380434155464172, 0.0612926110625267, 0.9860507249832153, 0.9883275032043457, 0.993000328540802, 0.9935516119003296, 0.16742710769176483, 0.8293482065200806, 0.9943628311157227, 0.19101017713546753, 0.8062118291854858, 0.9935667514801025, 0.9950979948043823, 0.9987258315086365, 0.9993872046470642, 0.9944443702697754, 0.997488796710968, 0.09089407324790955, 0.5373913049697876, 0.15069280564785004, 0.031095340847969055, 0.12358404695987701, 0.06537994742393494, 0.9040079712867737, 0.09438598155975342, 0.9082683324813843, 0.0862085223197937, 0.9841716885566711, 0.14648208022117615, 0.39478710293769836, 0.06966830790042877, 0.1411229819059372, 0.10360927879810333, 0.08038651198148727, 0.06073647364974022, 0.9918572902679443, 0.9979894757270813, 0.9985995292663574, 0.000989692285656929, 0.07238496094942093, 0.0021934835240244865, 0.1359959840774536, 0.33998996019363403, 0.0910295695066452, 0.23250927031040192, 0.126125305891037, 0.9958129525184631, 0.9968218803405762, 0.12004408240318298, 0.8758772015571594, 0.15161697566509247, 0.8474999666213989, 0.991820216178894, 0.9921897649765015, 0.9966246485710144, 0.9985270500183105, 0.990974485874176], \"Term\": [\"000\", \"000\", \"000\", \"000\", \"10\", \"10\", \"10\", \"100\", \"100\", \"100\", \"11\", \"11\", \"11\", \"12\", \"12\", \"13\", \"14\", \"14\", \"16\", \"1795\", \"19\", \"1970s\", \"2012\", \"2015\", \"25\", \"28\", \"280\", \"300\", \"300\", \"300\", \"300\", \"4\", \"4\", \"4\", \"40\", \"40\", \"400\", \"400\", \"41\", \"43\", \"499\", \"500\", \"52\", \"57\", \"6\", \"6\", \"6\", \"7\", \"72\", \"8\", \"800\", \"9\", \"9\", \"9\", \"999\", \"abandoned\", \"abdel\", \"abdi\", \"abdullah\", \"abrams\", \"absence\", \"absence\", \"abu\", \"accidental\", \"account\", \"across\", \"actor\", \"actor\", \"ad\", \"age\", \"agent\", \"ago\", \"agreed\", \"agrees\", \"ahmed\", \"aid\", \"aid\", \"air\", \"air\", \"air\", \"air\", \"air\", \"air\", \"airdrop\", \"airdropped\", \"airport\", \"airport\", \"airport\", \"airport\", \"airport\", \"airport\", \"airport\", \"airstrike\", \"airstrike\", \"airstrikes\", \"al\", \"alan\", \"alleged\", \"alleged\", \"alleged\", \"alleged\", \"allegedly\", \"allegedly\", \"allegedly\", \"amazon\", \"amazon\", \"american\", \"american\", \"american\", \"among\", \"among\", \"among\", \"angry\", \"animal\", \"ankle\", \"anna\", \"anyway\", \"app\", \"app\", \"apparently\", \"apparently\", \"appendix\", \"apple\", \"apple\", \"apple\", \"apps\", \"arm\", \"arm\", \"arm\", \"arrest\", \"arrest\", \"arrest\", \"arrested\", \"arrested\", \"arrested\", \"arrested\", \"arrested\", \"attack\", \"attack\", \"attack\", \"attack\", \"attack\", \"attack\", \"attempt\", \"attempt\", \"attorney\", \"audio\", \"awakens\", \"awesome\", \"axl\", \"baby\", \"baby\", \"baghdadi\", \"baghdadi\", \"bakr\", \"bale\", \"bank\", \"banksy\", \"banksy\", \"banned\", \"bary\", \"batman\", \"batman\", \"batmobile\", \"batmobile\", \"battle\", \"battle\", \"become\", \"bed\", \"behead\", \"beheaded\", \"beheaded\", \"beheading\", \"beheading\", \"beheads\", \"behind\", \"behind\", \"belonging\", \"bibeau\", \"big\", \"bin\", \"biopic\", \"bird\", \"birth\", \"blurred\", \"body\", \"body\", \"bogus\", \"boko\", \"border\", \"border\", \"border\", \"born\", \"born\", \"bosnia\", \"bosnian\", \"boston\", \"boston\", \"bowe\", \"boy\", \"boy\", \"boy\", \"boy\", \"boy\", \"boyle\", \"brat\", \"brave\", \"breached\", \"break\", \"breaking\", \"breaking\", \"breaking\", \"breaking\", \"breaking\", \"britain\", \"british\", \"british\", \"briton\", \"brokaw\", \"brown\", \"buckingham\", \"bug\", \"bugatti\", \"building\", \"building\", \"burrow\", \"burrowed\", \"butcher\", \"campus\", \"canadian\", \"canadian\", \"canadian\", \"canseco\", \"capital\", \"capital\", \"capsule\", \"capture\", \"captured\", \"captured\", \"captured\", \"captured\", \"captured\", \"car\", \"case\", \"case\", \"case\", \"case\", \"case\", \"cast\", \"castrate\", \"castrated\", \"catch\", \"catch\", \"catching\", \"catfish\", \"catfish\", \"catfish\", \"caught\", \"caught\", \"caught\", \"caught\", \"caught\", \"cause\", \"cawthorne\", \"cease\", \"cease\", \"ceasefire\", \"center\", \"ceo\", \"cesar\", \"charge\", \"check\", \"cheese\", \"chemical\", \"chest\", \"chief\", \"chief\", \"child\", \"child\", \"child\", \"chlorine\", \"chop\", \"chop\", \"christian\", \"christmas\", \"christmas\", \"christmas\", \"chugging\", \"circling\", \"city\", \"city\", \"city\", \"city\", \"civil\", \"claim\", \"claim\", \"claim\", \"claim\", \"claim\", \"claim\", \"claim\", \"claim\", \"claim\", \"claim\", \"claim\", \"claim\", \"claim\", \"claim\", \"cleaver\", \"cleric\", \"closer\", \"cnn\", \"cnn\", \"co\", \"college\", \"colorado\", \"com\", \"comcast\", \"come\", \"comment\", \"conde\", \"condom\", \"confirmed\", \"confirmed\", \"confirms\", \"confirms\", \"confirms\", \"confirms\", \"confirms\", \"congressman\", \"congressman\", \"constipated\", \"contact\", \"contains\", \"contracted\", \"contracted\", \"control\", \"cost\", \"could\", \"could\", \"could\", \"could\", \"could\", \"could\", \"crater\", \"creature\", \"crisis\", \"cross\", \"cub\", \"cuba\", \"culkin\", \"customer\", \"customer\", \"cut\", \"cut\", \"cut\", \"cut\", \"dam\", \"danny\", \"darkness\", \"date\", \"date\", \"daughter\", \"daughter\", \"daughter\", \"david\", \"dawn\", \"day\", \"day\", \"day\", \"day\", \"day\", \"dead\", \"dead\", \"dead\", \"dead\", \"dead\", \"dead\", \"dead\", \"deadly\", \"deal\", \"deal\", \"death\", \"death\", \"death\", \"death\", \"debunked\", \"debut\", \"december\", \"decrease\", \"denies\", \"denies\", \"denies\", \"deny\", \"despite\", \"despite\", \"despite\", \"detail\", \"detained\", \"detainee\", \"detroit\", \"detroit\", \"developer\", \"device\", \"dictator\", \"died\", \"died\", \"died\", \"dinner\", \"dinner\", \"document\", \"dog\", \"dog\", \"dog\", \"domestic\", \"doubt\", \"doubt\", \"drone\", \"droppings\", \"drug\", \"due\", \"dupe\", \"durex\", \"dy\", \"dy\", \"dy\", \"early\", \"earth\", \"eat\", \"eating\", \"eating\", \"ebay\", \"ebola\", \"ebola\", \"ebola\", \"ebola\", \"ebola\", \"ebola\", \"ebola\", \"edition\", \"edition\", \"eggnog\", \"elaborate\", \"electric\", \"electric\", \"employee\", \"emwazi\", \"ended\", \"english\", \"entering\", \"espn\", \"ever\", \"evil\", \"ex\", \"exclusive\", \"executed\", \"execution\", \"execution\", \"executioner\", \"executioner\", \"explosion\", \"extra\", \"eye\", \"eyewitness\", \"fabricated\", \"face\", \"face\", \"facebook\", \"fake\", \"fake\", \"fake\", \"fake\", \"fake\", \"fall\", \"fall\", \"family\", \"family\", \"far\", \"farther\", \"fat\", \"father\", \"fatwa\", \"fault\", \"fear\", \"fear\", \"fear\", \"fear\", \"fear\", \"feature\", \"feb\", \"female\", \"female\", \"fence\", \"ferguson\", \"fight\", \"fighter\", \"fighter\", \"fighter\", \"fighter\", \"fighter\", \"fighting\", \"file\", \"find\", \"find\", \"find\", \"find\", \"fire\", \"fire\", \"fire\", \"fired\", \"fired\", \"fired\", \"fired\", \"first\", \"first\", \"first\", \"first\", \"fisherman\", \"five\", \"five\", \"five\", \"flood\", \"flown\", \"fly\", \"flying\", \"foley\", \"foley\", \"food\", \"foot\", \"force\", \"force\", \"forced\", \"forget\", \"found\", \"found\", \"found\", \"founder\", \"fractured\", \"francis\", \"freak\", \"free\", \"game\", \"gang\", \"gas\", \"gave\", \"gaza\", \"gender\", \"get\", \"get\", \"get\", \"get\", \"get\", \"getting\", \"gift\", \"giggling\", \"gill\", \"girl\", \"girl\", \"girlfriend\", \"girlfriend\", \"girlfriend\", \"give\", \"give\", \"go\", \"go\", \"go\", \"god\", \"god\", \"god\", \"god\", \"godane\", \"gold\", \"gold\", \"goldfish\", \"google\", \"google\", \"got\", \"got\", \"got\", \"graf\", \"graffiti\", \"graphic\", \"graphic\", \"grave\", \"gravity\", \"group\", \"group\", \"group\", \"group\", \"guard\", \"guard\", \"guard\", \"gunman\", \"gunman\", \"gunman\", \"gunshot\", \"haines\", \"haines\", \"hair\", \"hairgate\", \"hand\", \"hank\", \"haram\", \"hbo\", \"head\", \"head\", \"head\", \"headshot\", \"hearing\", \"heaven\", \"hebdo\", \"held\", \"helmet\", \"help\", \"hero\", \"herzegovina\", \"high\", \"hill\", \"hit\", \"hit\", \"hit\", \"hoax\", \"hoax\", \"hoax\", \"hoax\", \"hoax\", \"hoax\", \"hoax\", \"hoax\", \"hoax\", \"hold\", \"holding\", \"hollywood\", \"homeless\", \"hope\", \"horrific\", \"hospital\", \"hospital\", \"hospital\", \"hospital\", \"hospital\", \"hospitalized\", \"hostage\", \"hostage\", \"hostage\", \"hostage\", \"hour\", \"house\", \"huge\", \"husband\", \"icloud\", \"idea\", \"identified\", \"identified\", \"identified\", \"identifies\", \"identity\", \"ignored\", \"ill\", \"impact\", \"important\", \"inch\", \"including\", \"indian\", \"infestation\", \"injured\", \"inside\", \"inside\", \"instead\", \"intelligence\", \"internet\", \"internet\", \"internet\", \"internet\", \"internet\", \"intersex\", \"investigates\", \"investigating\", \"investigation\", \"io\", \"iphone\", \"iraq\", \"iraq\", \"iraq\", \"iraq\", \"iraq\", \"iraqi\", \"iraqi\", \"isi\", \"isi\", \"isi\", \"isi\", \"isi\", \"isi\", \"isi\", \"isi\", \"isi\", \"isi\", \"isil\", \"isil\", \"isil\", \"islamic\", \"islamic\", \"islamic\", \"island\", \"israel\", \"israeli\", \"israeli\", \"issue\", \"italian\", \"j\", \"james\", \"james\", \"james\", \"jess\", \"jet\", \"jet\", \"jihadi\", \"jihadi\", \"jihadi\", \"jj\", \"job\", \"john\", \"john\", \"john\", \"jong\", \"jordanian\", \"jose\", \"journalist\", \"journalist\", \"journalist\", \"judd\", \"jumper\", \"justice\", \"justice\", \"kansa\", \"kayla\", \"kevin\", \"kfc\", \"kfc\", \"kid\", \"kid\", \"kidnap\", \"kidnapped\", \"kidnapped\", \"kidnapped\", \"killed\", \"killed\", \"killed\", \"killed\", \"killed\", \"killed\", \"killer\", \"killer\", \"killing\", \"killing\", \"kim\", \"king\", \"known\", \"kobani\", \"korea\", \"korean\", \"kurd\", \"kurd\", \"l\", \"la\", \"land\", \"later\", \"launch\", \"launch\", \"launch\", \"law\", \"leader\", \"leader\", \"leader\", \"leaf\", \"leaf\", \"least\", \"least\", \"least\", \"lebanon\", \"lebanon\", \"led\", \"lego\", \"letter\", \"letter\", \"libyan\", \"libyan\", \"lied\", \"life\", \"life\", \"life\", \"life\", \"like\", \"line\", \"linked\", \"london\", \"london\", \"londoner\", \"look\", \"look\", \"looking\", \"love\", \"love\", \"low\", \"luke\", \"lynch\", \"macaulay\", \"macbook\", \"made\", \"made\", \"made\", \"made\", \"made\", \"magic\", \"magneto\", \"main\", \"majed\", \"make\", \"make\", \"make\", \"make\", \"man\", \"man\", \"man\", \"man\", \"man\", \"man\", \"man\", \"man\", \"man\", \"man\", \"managua\", \"march\", \"marijuana\", \"marijuana\", \"marine\", \"marine\", \"market\", \"marriage\", \"married\", \"mask\", \"mass\", \"massacre\", \"massive\", \"may\", \"may\", \"may\", \"may\", \"may\", \"may\", \"may\", \"may\", \"may\", \"may\", \"meat\", \"medium\", \"medium\", \"medium\", \"medium\", \"medium\", \"medium\", \"meet\", \"meet\", \"meeting\", \"memorial\", \"message\", \"message\", \"meteor\", \"meteorite\", \"meteorite\", \"mexican\", \"mexican\", \"mexico\", \"mexico\", \"michael\", \"michael\", \"michael\", \"michelle\", \"microsoft\", \"militant\", \"militant\", \"militant\", \"militant\", \"militant\", \"millan\", \"million\", \"ministry\", \"missing\", \"missing\", \"missing\", \"missing\", \"missing\", \"missing\", \"mob\", \"mob\", \"mob\", \"model\", \"model\", \"mohammed\", \"monitoring\", \"monster\", \"month\", \"month\", \"mortgage\", \"motorcade\", \"mourn\", \"movie\", \"movie\", \"much\", \"mueller\", \"mum\", \"murder\", \"mushroom\", \"mysterious\", \"n\", \"naked\", \"named\", \"nast\", \"nearly\", \"need\", \"nelson\", \"net\", \"never\", \"never\", \"never\", \"new\", \"new\", \"new\", \"new\", \"new\", \"new\", \"new\", \"new\", \"new\", \"new\", \"newly\", \"news\", \"news\", \"news\", \"news\", \"nicaragua\", \"nigeria\", \"nigerian\", \"nightly\", \"north\", \"north\", \"north\", \"nun\", \"nypd\", \"obama\", \"obama\", \"obama\", \"obama\", \"office\", \"office\", \"official\", \"official\", \"official\", \"official\", \"official\", \"official\", \"official\", \"official\", \"old\", \"old\", \"old\", \"open\", \"open\", \"open\", \"open\", \"open\", \"opening\", \"ottawa\", \"ottawa\", \"outbreak\", \"outraged\", \"outraged\", \"pack\", \"paid\", \"pain\", \"paint\", \"painted\", \"palace\", \"panel\", \"paradise\", \"parent\", \"parent\", \"parent\", \"parent\", \"park\", \"parliament\", \"parliament\", \"past\", \"patient\", \"patrolling\", \"paul\", \"pause\", \"pay\", \"pay\", \"peeing\", \"penis\", \"penis\", \"people\", \"people\", \"people\", \"per\", \"per\", \"personally\", \"pga\", \"phelps\", \"photo\", \"photo\", \"photo\", \"photo\", \"photo\", \"photojournalist\", \"photojournalist\", \"pilot\", \"pilot\", \"pizza\", \"place\", \"plan\", \"plan\", \"planning\", \"plant\", \"platinum\", \"play\", \"play\", \"play\", \"plumber\", \"police\", \"police\", \"police\", \"poop\", \"pooped\", \"pope\", \"pope\", \"possession\", \"pot\", \"pound\", \"pounder\", \"powerful\", \"predator\", \"pregnant\", \"president\", \"pretty\", \"price\", \"priced\", \"pricing\", \"priest\", \"priest\", \"priest\", \"priest\", \"prisoner\", \"probably\", \"probably\", \"problem\", \"problem\", \"problem\", \"proposal\", \"pull\", \"pumpkin\", \"purport\", \"putin\", \"qaeda\", \"quarantined\", \"quarter\", \"question\", \"quits\", \"railway\", \"raised\", \"rajasthan\", \"rape\", \"rape\", \"rapist\", \"rapper\", \"rapper\", \"rare\", \"rat\", \"really\", \"recording\", \"red\", \"redwood\", \"refuse\", \"release\", \"release\", \"release\", \"released\", \"remembered\", \"rep\", \"report\", \"report\", \"report\", \"report\", \"report\", \"report\", \"report\", \"report\", \"report\", \"report\", \"report\", \"report\", \"report\", \"report\", \"reported\", \"reported\", \"reported\", \"reportedly\", \"reportedly\", \"reportedly\", \"reportedly\", \"reportedly\", \"reportedly\", \"reportedly\", \"reportedly\", \"reportedly\", \"reportedly\", \"reportedly\", \"rescue\", \"rescue\", \"reserve\", \"resignation\", \"restaurant\", \"restaurant\", \"retina\", \"revealed\", \"revealed\", \"reveals\", \"reveals\", \"reveals\", \"rise\", \"robert\", \"robot\", \"rogen\", \"rose\", \"rosenberg\", \"rumor\", \"rumor\", \"rumor\", \"rumor\", \"rumor\", \"rumor\", \"rumor\", \"rumored\", \"russian\", \"sacked\", \"safe\", \"said\", \"said\", \"said\", \"said\", \"said\", \"said\", \"sale\", \"sale\", \"sale\", \"samsung\", \"saudi\", \"saudi\", \"saved\", \"say\", \"say\", \"say\", \"say\", \"say\", \"say\", \"say\", \"say\", \"say\", \"say\", \"say\", \"say\", \"say\", \"say\", \"scar\", \"scare\", \"school\", \"school\", \"schoolgirl\", \"scotland\", \"scottish\", \"search\", \"secret\", \"secret\", \"secret\", \"secretly\", \"security\", \"security\", \"security\", \"security\", \"see\", \"see\", \"see\", \"see\", \"seen\", \"self\", \"sell\", \"selling\", \"sergeant\", \"service\", \"service\", \"set\", \"set\", \"set\", \"seth\", \"seven\", \"sex\", \"shabaab\", \"shabab\", \"shane\", \"sharing\", \"shock\", \"shock\", \"shock\", \"shoot\", \"shooter\", \"shooting\", \"shooting\", \"shopper\", \"shot\", \"shot\", \"shot\", \"shot\", \"shot\", \"show\", \"show\", \"show\", \"show\", \"show\", \"shower\", \"sick\", \"sign\", \"silicon\", \"sister\", \"sister\", \"six\", \"skin\", \"skipped\", \"small\", \"small\", \"smartwatch\", \"snake\", \"sneeze\", \"sneezing\", \"sniper\", \"sniper\", \"snowman\", \"snyder\", \"soldier\", \"soldier\", \"soldier\", \"soldier\", \"soldier\", \"solved\", \"somali\", \"somalia\", \"somalia\", \"someone\", \"somers\", \"son\", \"son\", \"son\", \"son\", \"sony\", \"soon\", \"spends\", \"spent\", \"spice\", \"spider\", \"spider\", \"spotted\", \"spotted\", \"stainless\", \"star\", \"star\", \"star\", \"start\", \"state\", \"state\", \"statement\", \"station\", \"steal\", \"steel\", \"steel\", \"steve\", \"still\", \"still\", \"stock\", \"stock\", \"stolen\", \"stolen\", \"stolen\", \"stomach\", \"stomach\", \"stop\", \"storage\", \"store\", \"store\", \"store\", \"streaming\", \"strike\", \"strike\", \"strike\", \"struck\", \"student\", \"student\", \"style\", \"style\", \"sugarhill\", \"suggests\", \"suitcase\", \"summer\", \"sun\", \"superman\", \"superman\", \"superpower\", \"supply\", \"supported\", \"surfaced\", \"surgery\", \"surgery\", \"surprise\", \"survives\", \"suspect\", \"suspect\", \"suspended\", \"suspension\", \"swapped\", \"swapped\", \"symptom\", \"syria\", \"syria\", \"syria\", \"syria\", \"syria\", \"syria\", \"syrian\", \"syrian\", \"take\", \"take\", \"take\", \"taking\", \"taliban\", \"talk\", \"talk\", \"talk\", \"talking\", \"tape\", \"tape\", \"tb\", \"tear\", \"teen\", \"teen\", \"teenager\", \"teletubbies\", \"television\", \"tell\", \"tell\", \"ten\", \"terror\", \"terror\", \"terror\", \"terror\", \"terror\", \"terrorist\", \"terrorist\", \"terrorist\", \"terrorist\", \"test\", \"test\", \"test\", \"testicle\", \"texas\", \"texas\", \"theory\", \"thing\", \"thinner\", \"thought\", \"threat\", \"threatens\", \"ticket\", \"tiger\", \"time\", \"time\", \"time\", \"time\", \"timing\", \"tip\", \"tireless\", \"told\", \"told\", \"tom\", \"tonight\", \"took\", \"total\", \"totally\", \"tour\", \"tour\", \"town\", \"toy\", \"trade\", \"training\", \"training\", \"translate\", \"tribunal\", \"trip\", \"tropical\", \"truce\", \"truck\", \"try\", \"turned\", \"tv\", \"tv\", \"tv\", \"twin\", \"u\", \"u\", \"u\", \"u\", \"u\", \"u\", \"u\", \"un\", \"underage\", \"unearthed\", \"university\", \"untrue\", \"upcoming\", \"urgent\", \"urinating\", \"us\", \"use\", \"use\", \"user\", \"using\", \"v\", \"v\", \"valley\", \"vandal\", \"variant\", \"vega\", \"verifies\", \"veyron\", \"vice\", \"vickers\", \"video\", \"video\", \"video\", \"video\", \"video\", \"video\", \"video\", \"violence\", \"violence\", \"viral\", \"viral\", \"viral\", \"vladimir\", \"vogue\", \"voicemail\", \"want\", \"want\", \"want\", \"war\", \"war\", \"war\", \"war\", \"warning\", \"watch\", \"watch\", \"watch\", \"watch\", \"watch\", \"watch\", \"watch\", \"weapon\", \"weapon\", \"wear\", \"weatherman\", \"web\", \"website\", \"week\", \"week\", \"went\", \"west\", \"west\", \"western\", \"whisperer\", \"white\", \"wife\", \"wine\", \"wintour\", \"woman\", \"woman\", \"woman\", \"woman\", \"woman\", \"woman\", \"wood\", \"wood\", \"work\", \"work\", \"working\", \"world\", \"world\", \"world\", \"world\", \"world\", \"world\", \"world\", \"woz\", \"wozniak\", \"wright\", \"wright\", \"year\", \"year\", \"year\", \"year\", \"year\", \"year\", \"year\", \"yemen\", \"yo\", \"york\", \"york\", \"young\", \"young\", \"youngest\", \"ypg\", \"zack\", \"zehaf\", \"zeppelin\"]}, \"R\": 30, \"lambda.step\": 0.01, \"plot.opts\": {\"xlab\": \"PC1\", \"ylab\": \"PC2\"}, \"topic.order\": [8, 16, 10, 7, 6, 20, 14, 13, 17, 12, 11, 1, 15, 3, 5, 9, 4, 19, 2, 18]};\n",
       "\n",
       "function LDAvis_load_lib(url, callback){\n",
       "  var s = document.createElement('script');\n",
       "  s.src = url;\n",
       "  s.async = true;\n",
       "  s.onreadystatechange = s.onload = callback;\n",
       "  s.onerror = function(){console.warn(\"failed to load library \" + url);};\n",
       "  document.getElementsByTagName(\"head\")[0].appendChild(s);\n",
       "}\n",
       "\n",
       "if(typeof(LDAvis) !== \"undefined\"){\n",
       "   // already loaded: just create the visualization\n",
       "   !function(LDAvis){\n",
       "       new LDAvis(\"#\" + \"ldavis_el1562965224204641806059685\", ldavis_el1562965224204641806059685_data);\n",
       "   }(LDAvis);\n",
       "}else if(typeof define === \"function\" && define.amd){\n",
       "   // require.js is available: use it to load d3/LDAvis\n",
       "   require.config({paths: {d3: \"https://cdnjs.cloudflare.com/ajax/libs/d3/3.5.5/d3.min\"}});\n",
       "   require([\"d3\"], function(d3){\n",
       "      window.d3 = d3;\n",
       "      LDAvis_load_lib(\"https://cdn.rawgit.com/bmabey/pyLDAvis/files/ldavis.v1.0.0.js\", function(){\n",
       "        new LDAvis(\"#\" + \"ldavis_el1562965224204641806059685\", ldavis_el1562965224204641806059685_data);\n",
       "      });\n",
       "    });\n",
       "}else{\n",
       "    // require.js not available: dynamically load d3 & LDAvis\n",
       "    LDAvis_load_lib(\"https://cdnjs.cloudflare.com/ajax/libs/d3/3.5.5/d3.min.js\", function(){\n",
       "         LDAvis_load_lib(\"https://cdn.rawgit.com/bmabey/pyLDAvis/files/ldavis.v1.0.0.js\", function(){\n",
       "                 new LDAvis(\"#\" + \"ldavis_el1562965224204641806059685\", ldavis_el1562965224204641806059685_data);\n",
       "            })\n",
       "         });\n",
       "}\n",
       "</script>"
      ],
      "text/plain": [
       "PreparedData(topic_coordinates=           Freq  cluster  topics         x         y\n",
       "topic                                               \n",
       "7      7.175739        1       1  0.160565 -0.236766\n",
       "15     6.986013        1       2 -0.055301  0.092987\n",
       "9      6.434521        1       3 -0.047171  0.080033\n",
       "6      6.159083        1       4  0.033375 -0.118654\n",
       "5      5.968647        1       5  0.172359  0.133394\n",
       "19     5.822701        1       6  0.031229  0.184130\n",
       "13     5.576653        1       7  0.031246 -0.039357\n",
       "12     5.277154        1       8  0.190933  0.063809\n",
       "16     4.846416        1       9 -0.262180  0.068002\n",
       "11     4.759069        1      10  0.150684  0.096401\n",
       "10     4.680370        1      11 -0.265636  0.023132\n",
       "0      4.676740        1      12 -0.080662  0.049703\n",
       "14     4.424639        1      13  0.220810 -0.044855\n",
       "2      4.332467        1      14 -0.112297 -0.026703\n",
       "4      4.281420        1      15 -0.079351 -0.041128\n",
       "8      4.159107        1      16 -0.078881 -0.186555\n",
       "3      3.989267        1      17  0.038145 -0.165177\n",
       "18     3.813822        1      18  0.042447  0.220686\n",
       "1      3.670227        1      19 -0.152054 -0.093390\n",
       "17     2.965941        1      20  0.061741 -0.059691, topic_info=     Category         Freq        Term        Total  loglift  logprob\n",
       "term                                                                 \n",
       "221   Default  2875.000000       state  2875.000000  30.0000  30.0000\n",
       "69    Default  6749.000000         isi  6749.000000  29.0000  29.0000\n",
       "436   Default  2292.000000         kim  2292.000000  28.0000  28.0000\n",
       "217   Default  2870.000000     islamic  2870.000000  27.0000  27.0000\n",
       "14    Default  2829.000000       apple  2829.000000  26.0000  26.0000\n",
       "430   Default  2661.000000       foley  2661.000000  25.0000  25.0000\n",
       "435   Default  2099.000000        jong  2099.000000  24.0000  24.0000\n",
       "73    Default  3714.000000           u  3714.000000  23.0000  23.0000\n",
       "18    Default  1731.000000       steve  1731.000000  22.0000  22.0000\n",
       "431   Default  2402.000000       james  2402.000000  21.0000  21.0000\n",
       "468   Default  1844.000000       haram  1844.000000  20.0000  20.0000\n",
       "465   Default  1844.000000        boko  1844.000000  19.0000  19.0000\n",
       "37    Default  1624.000000         job  1624.000000  18.0000  18.0000\n",
       "437   Default  1779.000000          un  1779.000000  17.0000  17.0000\n",
       "94    Default  2009.000000      leader  2009.000000  16.0000  16.0000\n",
       "80    Default  2329.000000       watch  2329.000000  15.0000  15.0000\n",
       "505   Default  1652.000000       brown  1652.000000  14.0000  14.0000\n",
       "432   Default  2153.000000  journalist  2153.000000  13.0000  13.0000\n",
       "504   Default  1580.000000       audio  1580.000000  12.0000  12.0000\n",
       "56    Default  2210.000000     michael  2210.000000  11.0000  11.0000\n",
       "452   Default  2631.000000       video  2631.000000  10.0000  10.0000\n",
       "428   Default  1920.000000    american  1920.000000   9.0000   9.0000\n",
       "467   Default  1490.000000        girl  1490.000000   8.0000   8.0000\n",
       "98    Default  1155.000000   christian  1155.000000   7.0000   7.0000\n",
       "97    Default  1155.000000        bale  1155.000000   6.0000   6.0000\n",
       "15    Default  1193.000000        play  1193.000000   5.0000   5.0000\n",
       "486   Default  1056.000000          al  1056.000000   4.0000   4.0000\n",
       "180   Default  1605.000000    militant  1605.000000   3.0000   3.0000\n",
       "506   Default  1395.000000    shooting  1395.000000   2.0000   2.0000\n",
       "12    Default  1026.000000     student  1026.000000   1.0000   1.0000\n",
       "...       ...          ...         ...          ...      ...      ...\n",
       "1235  Topic20    54.135845      agrees    55.081535   3.5007  -5.4582\n",
       "1519  Topic20    53.068871        pack    54.014561   3.5003  -5.4781\n",
       "1515  Topic20    53.068871        brat    54.014561   3.5003  -5.4781\n",
       "1041  Topic20    52.950623   cawthorne    53.896313   3.5003  -5.4804\n",
       "1105  Topic20    47.330612      briton    48.276302   3.4982  -5.5926\n",
       "1987  Topic20    46.501282      timing    47.446972   3.4978  -5.6102\n",
       "1988  Topic20    46.501282    verifies    47.446972   3.4978  -5.6102\n",
       "2316  Topic20    44.828033    underage    45.773724   3.4971  -5.6469\n",
       "1266  Topic20    41.452560     ignored    42.398251   3.4954  -5.7252\n",
       "1704  Topic20   166.688080       style   175.006424   3.4693  -4.3336\n",
       "883   Topic20   183.569580      behind   197.410568   3.4453  -4.2371\n",
       "1501  Topic20   307.209015        fall   346.320068   3.3981  -3.7222\n",
       "199   Topic20   657.378052      school   839.836914   3.2730  -2.9615\n",
       "182   Topic20   217.607086       young   257.227142   3.3507  -4.0670\n",
       "746   Topic20   257.119415        five   404.925293   3.0638  -3.9002\n",
       "63    Topic20   241.181824      female   462.078644   2.8678  -3.9642\n",
       "467   Topic20   478.510040        girl  1490.288330   2.3819  -3.2790\n",
       "576   Topic20    92.456825    outraged   129.437759   3.1815  -4.9230\n",
       "560   Topic20   286.792267         day   808.172119   2.4820  -3.7910\n",
       "656   Topic20   125.262543       never   214.628891   2.9795  -4.6193\n",
       "1891  Topic20   111.788864          14   193.688568   2.9683  -4.7331\n",
       "501   Topic20   152.963837        said   452.034332   2.4344  -4.4195\n",
       "217   Topic20   317.972626     islamic  2870.520264   1.3177  -3.6878\n",
       "221   Topic20   285.548706       state  2875.609375   1.2084  -3.7953\n",
       "1169  Topic20   157.422852      parent   535.178345   2.2943  -4.3908\n",
       "59    Topic20   163.844376       claim  2966.220947   0.6218  -4.3508\n",
       "61    Topic20   141.138519        dead  1573.409302   1.1067  -4.5000\n",
       "795   Topic20   117.417130      killer   423.639709   2.2348  -4.6840\n",
       "64    Topic20   106.750443         god   739.483887   1.5825  -4.7792\n",
       "65    Topic20   104.631393      priest   446.271484   2.0675  -4.7993\n",
       "\n",
       "[1053 rows x 6 columns], token_table=      Topic      Freq      Term\n",
       "term                           \n",
       "74        2  0.403019       000\n",
       "74        9  0.424435       000\n",
       "74       10  0.007788       000\n",
       "74       11  0.164517       000\n",
       "75        5  0.490847        10\n",
       "75        9  0.386657        10\n",
       "75       18  0.118081        10\n",
       "239       7  0.745198       100\n",
       "239      10  0.078718       100\n",
       "239      11  0.174929       100\n",
       "618       2  0.129656        11\n",
       "618       7  0.814028        11\n",
       "618       8  0.054803        11\n",
       "453      14  0.910411        12\n",
       "453      19  0.084558        12\n",
       "2163     20  0.992026        13\n",
       "1891     10  0.418197        14\n",
       "1891     20  0.578248        14\n",
       "943       9  0.992864        16\n",
       "1791      5  0.990902      1795\n",
       "1436     15  0.996992        19\n",
       "1540     15  0.987270     1970s\n",
       "666       1  0.990790      2012\n",
       "723       7  0.996213      2015\n",
       "2552     17  0.990750        25\n",
       "84       17  0.982475        28\n",
       "2127     13  0.979931       280\n",
       "207       2  0.655417       300\n",
       "207       4  0.097532       300\n",
       "207      10  0.232127       300\n",
       "...     ...       ...       ...\n",
       "1799     11  0.984172   working\n",
       "279       2  0.146482     world\n",
       "279       9  0.394787     world\n",
       "279      11  0.069668     world\n",
       "279      13  0.141123     world\n",
       "279      15  0.103609     world\n",
       "279      18  0.080387     world\n",
       "279      19  0.060736     world\n",
       "43       11  0.991857       woz\n",
       "19       11  0.997989   wozniak\n",
       "433       1  0.998600    wright\n",
       "433      13  0.000990    wright\n",
       "280       2  0.072385      year\n",
       "280      10  0.002193      year\n",
       "280      11  0.135996      year\n",
       "280      15  0.339990      year\n",
       "280      16  0.091030      year\n",
       "280      17  0.232509      year\n",
       "280      18  0.126125      year\n",
       "674       6  0.995813     yemen\n",
       "1129      3  0.996822        yo\n",
       "1288      2  0.120044      york\n",
       "1288     14  0.875877      york\n",
       "182      13  0.151617     young\n",
       "182      20  0.847500     young\n",
       "1713     18  0.991820  youngest\n",
       "2172      7  0.992190       ypg\n",
       "295      11  0.996625      zack\n",
       "613       6  0.998527     zehaf\n",
       "171      19  0.990974  zeppelin\n",
       "\n",
       "[1533 rows x 3 columns], R=30, lambda_step=0.01, plot_opts={'xlab': 'PC1', 'ylab': 'PC2'}, topic_order=[8, 16, 10, 7, 6, 20, 14, 13, 17, 12, 11, 1, 15, 3, 5, 9, 4, 19, 2, 18])"
      ]
     },
     "execution_count": 54,
     "metadata": {},
     "output_type": "execute_result"
    }
   ],
   "source": [
    "pyLDAvis.gensim.prepare(ldamodel, corpus, dictionary)"
   ]
  },
  {
   "cell_type": "markdown",
   "metadata": {},
   "source": [
    "### preprocessing for Latent Semantic Analysis"
   ]
  },
  {
   "cell_type": "code",
   "execution_count": 55,
   "metadata": {},
   "outputs": [],
   "source": [
    "#need this cleaner to make vectorizers below work....idk why"
   ]
  },
  {
   "cell_type": "code",
   "execution_count": 56,
   "metadata": {},
   "outputs": [],
   "source": [
    "import re"
   ]
  },
  {
   "cell_type": "code",
   "execution_count": 57,
   "metadata": {},
   "outputs": [
    {
     "name": "stderr",
     "output_type": "stream",
     "text": [
      "<input>:6: DeprecationWarning: invalid escape sequence \\d\n",
      "<input>:6: DeprecationWarning: invalid escape sequence \\d\n",
      "<input>:6: DeprecationWarning: invalid escape sequence \\d\n",
      "<ipython-input-57-6de38bea8180>:6: DeprecationWarning: invalid escape sequence \\d\n",
      "  text = re.sub('[\\d]','',text)\n"
     ]
    }
   ],
   "source": [
    "def cleaner(text):\n",
    "    text = re.sub('&#39;','',text).lower()\n",
    "    text = re.sub('<br />','',text)\n",
    "    text = re.sub('<.*>.*</.*>','', text)\n",
    "    text = re.sub('\\\\ufeff', '', text)\n",
    "    text = re.sub('[\\d]','',text)\n",
    "    text = re.sub('[^a-z ]','',text)\n",
    "    \n",
    "    return text"
   ]
  },
  {
   "cell_type": "code",
   "execution_count": 58,
   "metadata": {},
   "outputs": [],
   "source": [
    "df_all['articleBody'] = df_all['articleBody'].map(str)\n",
    "df_all['articleBody'] = df_all['articleBody'].apply(cleaner)"
   ]
  },
  {
   "cell_type": "code",
   "execution_count": 59,
   "metadata": {
    "scrolled": true
   },
   "outputs": [
    {
     "data": {
      "text/plain": [
       "'danny boyle directing untitled film seth rogen eyed play apple co founder steve wozniak sony steve job biopic danny boyle directing untitled film based walter isaacson book adapted aaron sorkin one anticipated biopics recent year negotiation yet begun even clear rogen official offer producer scott rudin guymon casady mark gordon set sight talent talk course may naught christian bale actor play job still midst closing deal source say dealmaking process sensitive stage insider say boyle flying los angeles meet actress play one female lead assistant job insider say jessica chastain one actress meeting list wozniak known woz co founded apple job ronald wayne first met job worked atari later responsible creating early apple computer'"
      ]
     },
     "execution_count": 59,
     "metadata": {},
     "output_type": "execute_result"
    }
   ],
   "source": [
    "df_all['articleBody'].iloc[1]"
   ]
  },
  {
   "cell_type": "code",
   "execution_count": 60,
   "metadata": {},
   "outputs": [],
   "source": [
    "df_all['Headline'] = df_all['Headline'].map(str)\n",
    "df_all['Headline'] = df_all['Headline'].apply(cleaner)"
   ]
  },
  {
   "cell_type": "code",
   "execution_count": 61,
   "metadata": {
    "scrolled": true
   },
   "outputs": [
    {
     "data": {
      "text/html": [
       "<div>\n",
       "<style scoped>\n",
       "    .dataframe tbody tr th:only-of-type {\n",
       "        vertical-align: middle;\n",
       "    }\n",
       "\n",
       "    .dataframe tbody tr th {\n",
       "        vertical-align: top;\n",
       "    }\n",
       "\n",
       "    .dataframe thead th {\n",
       "        text-align: right;\n",
       "    }\n",
       "</style>\n",
       "<table border=\"1\" class=\"dataframe\">\n",
       "  <thead>\n",
       "    <tr style=\"text-align: right;\">\n",
       "      <th></th>\n",
       "      <th>Headline</th>\n",
       "      <th>Body ID</th>\n",
       "      <th>Stance</th>\n",
       "      <th>articleBody</th>\n",
       "    </tr>\n",
       "  </thead>\n",
       "  <tbody>\n",
       "    <tr>\n",
       "      <th>0</th>\n",
       "      <td>police find mass graf least  body near mexico ...</td>\n",
       "      <td>712</td>\n",
       "      <td>unrelated</td>\n",
       "      <td>danny boyle directing untitled film seth rogen...</td>\n",
       "    </tr>\n",
       "    <tr>\n",
       "      <th>1</th>\n",
       "      <td>seth rogen play apple steve wozniak</td>\n",
       "      <td>712</td>\n",
       "      <td>discuss</td>\n",
       "      <td>danny boyle directing untitled film seth rogen...</td>\n",
       "    </tr>\n",
       "    <tr>\n",
       "      <th>2</th>\n",
       "      <td>mexico police find mass grave near site  stude...</td>\n",
       "      <td>712</td>\n",
       "      <td>unrelated</td>\n",
       "      <td>danny boyle directing untitled film seth rogen...</td>\n",
       "    </tr>\n",
       "    <tr>\n",
       "      <th>3</th>\n",
       "      <td>mexico say missing student found first mass graf</td>\n",
       "      <td>712</td>\n",
       "      <td>unrelated</td>\n",
       "      <td>danny boyle directing untitled film seth rogen...</td>\n",
       "    </tr>\n",
       "    <tr>\n",
       "      <th>4</th>\n",
       "      <td>new io  bug delete icloud document</td>\n",
       "      <td>712</td>\n",
       "      <td>unrelated</td>\n",
       "      <td>danny boyle directing untitled film seth rogen...</td>\n",
       "    </tr>\n",
       "  </tbody>\n",
       "</table>\n",
       "</div>"
      ],
      "text/plain": [
       "                                            Headline  Body ID     Stance  \\\n",
       "0  police find mass graf least  body near mexico ...      712  unrelated   \n",
       "1                seth rogen play apple steve wozniak      712    discuss   \n",
       "2  mexico police find mass grave near site  stude...      712  unrelated   \n",
       "3   mexico say missing student found first mass graf      712  unrelated   \n",
       "4                 new io  bug delete icloud document      712  unrelated   \n",
       "\n",
       "                                         articleBody  \n",
       "0  danny boyle directing untitled film seth rogen...  \n",
       "1  danny boyle directing untitled film seth rogen...  \n",
       "2  danny boyle directing untitled film seth rogen...  \n",
       "3  danny boyle directing untitled film seth rogen...  \n",
       "4  danny boyle directing untitled film seth rogen...  "
      ]
     },
     "execution_count": 61,
     "metadata": {},
     "output_type": "execute_result"
    }
   ],
   "source": [
    "df_all.head()\n",
    "#why does this change my text processing back "
   ]
  },
  {
   "cell_type": "code",
   "execution_count": 62,
   "metadata": {},
   "outputs": [],
   "source": [
    "df_all.to_csv('./preprocessed.csv')"
   ]
  },
  {
   "cell_type": "code",
   "execution_count": 21,
   "metadata": {},
   "outputs": [],
   "source": [
    "df_all = pd.read_csv('./preprocessed.csv')"
   ]
  },
  {
   "cell_type": "code",
   "execution_count": 22,
   "metadata": {},
   "outputs": [
    {
     "data": {
      "text/html": [
       "<div>\n",
       "<style scoped>\n",
       "    .dataframe tbody tr th:only-of-type {\n",
       "        vertical-align: middle;\n",
       "    }\n",
       "\n",
       "    .dataframe tbody tr th {\n",
       "        vertical-align: top;\n",
       "    }\n",
       "\n",
       "    .dataframe thead th {\n",
       "        text-align: right;\n",
       "    }\n",
       "</style>\n",
       "<table border=\"1\" class=\"dataframe\">\n",
       "  <thead>\n",
       "    <tr style=\"text-align: right;\">\n",
       "      <th></th>\n",
       "      <th>Unnamed: 0</th>\n",
       "      <th>Headline</th>\n",
       "      <th>Body ID</th>\n",
       "      <th>Stance</th>\n",
       "      <th>articleBody</th>\n",
       "    </tr>\n",
       "  </thead>\n",
       "  <tbody>\n",
       "    <tr>\n",
       "      <th>0</th>\n",
       "      <td>0</td>\n",
       "      <td>police find mass graf least  body near mexico ...</td>\n",
       "      <td>712</td>\n",
       "      <td>unrelated</td>\n",
       "      <td>danny boyle directing untitled film seth rogen...</td>\n",
       "    </tr>\n",
       "    <tr>\n",
       "      <th>1</th>\n",
       "      <td>1</td>\n",
       "      <td>seth rogen play apple steve wozniak</td>\n",
       "      <td>712</td>\n",
       "      <td>discuss</td>\n",
       "      <td>danny boyle directing untitled film seth rogen...</td>\n",
       "    </tr>\n",
       "    <tr>\n",
       "      <th>2</th>\n",
       "      <td>2</td>\n",
       "      <td>mexico police find mass grave near site  stude...</td>\n",
       "      <td>712</td>\n",
       "      <td>unrelated</td>\n",
       "      <td>danny boyle directing untitled film seth rogen...</td>\n",
       "    </tr>\n",
       "    <tr>\n",
       "      <th>3</th>\n",
       "      <td>3</td>\n",
       "      <td>mexico say missing student found first mass graf</td>\n",
       "      <td>712</td>\n",
       "      <td>unrelated</td>\n",
       "      <td>danny boyle directing untitled film seth rogen...</td>\n",
       "    </tr>\n",
       "    <tr>\n",
       "      <th>4</th>\n",
       "      <td>4</td>\n",
       "      <td>new io  bug delete icloud document</td>\n",
       "      <td>712</td>\n",
       "      <td>unrelated</td>\n",
       "      <td>danny boyle directing untitled film seth rogen...</td>\n",
       "    </tr>\n",
       "  </tbody>\n",
       "</table>\n",
       "</div>"
      ],
      "text/plain": [
       "   Unnamed: 0                                           Headline  Body ID  \\\n",
       "0           0  police find mass graf least  body near mexico ...      712   \n",
       "1           1                seth rogen play apple steve wozniak      712   \n",
       "2           2  mexico police find mass grave near site  stude...      712   \n",
       "3           3   mexico say missing student found first mass graf      712   \n",
       "4           4                 new io  bug delete icloud document      712   \n",
       "\n",
       "      Stance                                        articleBody  \n",
       "0  unrelated  danny boyle directing untitled film seth rogen...  \n",
       "1    discuss  danny boyle directing untitled film seth rogen...  \n",
       "2  unrelated  danny boyle directing untitled film seth rogen...  \n",
       "3  unrelated  danny boyle directing untitled film seth rogen...  \n",
       "4  unrelated  danny boyle directing untitled film seth rogen...  "
      ]
     },
     "execution_count": 22,
     "metadata": {},
     "output_type": "execute_result"
    }
   ],
   "source": [
    "df_all.head()"
   ]
  },
  {
   "cell_type": "markdown",
   "metadata": {},
   "source": [
    "### tfidf vectorizer"
   ]
  },
  {
   "cell_type": "code",
   "execution_count": 23,
   "metadata": {},
   "outputs": [
    {
     "data": {
      "text/plain": [
       "<49972x18408 sparse matrix of type '<class 'numpy.float64'>'\n",
       "\twith 6480420 stored elements in Compressed Sparse Row format>"
      ]
     },
     "execution_count": 23,
     "metadata": {},
     "output_type": "execute_result"
    }
   ],
   "source": [
    "tfidf_vector = TfidfVectorizer(min_df = 5, stop_words='english')\n",
    "\n",
    "articleBody_matrix_sparse = tfidf_vector.fit_transform(df_all['articleBody'])\n",
    "articleBody_matrix_sparse"
   ]
  },
  {
   "cell_type": "code",
   "execution_count": 24,
   "metadata": {},
   "outputs": [],
   "source": [
    "articleBody_df_tfdf = pd.DataFrame(articleBody_matrix_sparse.toarray(),\n",
    "                                 index = df_all.index,\n",
    "                                 columns = tfidf_vector.get_feature_names())"
   ]
  },
  {
   "cell_type": "code",
   "execution_count": 65,
   "metadata": {
    "scrolled": false
   },
   "outputs": [
    {
     "data": {
      "text/html": [
       "<div>\n",
       "<style scoped>\n",
       "    .dataframe tbody tr th:only-of-type {\n",
       "        vertical-align: middle;\n",
       "    }\n",
       "\n",
       "    .dataframe tbody tr th {\n",
       "        vertical-align: top;\n",
       "    }\n",
       "\n",
       "    .dataframe thead th {\n",
       "        text-align: right;\n",
       "    }\n",
       "</style>\n",
       "<table border=\"1\" class=\"dataframe\">\n",
       "  <thead>\n",
       "    <tr style=\"text-align: right;\">\n",
       "      <th></th>\n",
       "      <th>aafia</th>\n",
       "      <th>aamaq</th>\n",
       "      <th>aamir</th>\n",
       "      <th>aan</th>\n",
       "      <th>aapl</th>\n",
       "      <th>aaron</th>\n",
       "      <th>aback</th>\n",
       "      <th>abadam</th>\n",
       "      <th>abadi</th>\n",
       "      <th>abagnale</th>\n",
       "      <th>...</th>\n",
       "      <th>zobl</th>\n",
       "      <th>zone</th>\n",
       "      <th>zoning</th>\n",
       "      <th>zoology</th>\n",
       "      <th>zor</th>\n",
       "      <th>zubayr</th>\n",
       "      <th>zubeyr</th>\n",
       "      <th>zuckerberg</th>\n",
       "      <th>zulu</th>\n",
       "      <th>zxycaeuwb</th>\n",
       "    </tr>\n",
       "  </thead>\n",
       "  <tbody>\n",
       "    <tr>\n",
       "      <th>0</th>\n",
       "      <td>0.0</td>\n",
       "      <td>0.0</td>\n",
       "      <td>0.0</td>\n",
       "      <td>0.0</td>\n",
       "      <td>0.0</td>\n",
       "      <td>0.07737</td>\n",
       "      <td>0.0</td>\n",
       "      <td>0.0</td>\n",
       "      <td>0.0</td>\n",
       "      <td>0.0</td>\n",
       "      <td>...</td>\n",
       "      <td>0.0</td>\n",
       "      <td>0.0</td>\n",
       "      <td>0.0</td>\n",
       "      <td>0.0</td>\n",
       "      <td>0.0</td>\n",
       "      <td>0.0</td>\n",
       "      <td>0.0</td>\n",
       "      <td>0.0</td>\n",
       "      <td>0.0</td>\n",
       "      <td>0.0</td>\n",
       "    </tr>\n",
       "    <tr>\n",
       "      <th>1</th>\n",
       "      <td>0.0</td>\n",
       "      <td>0.0</td>\n",
       "      <td>0.0</td>\n",
       "      <td>0.0</td>\n",
       "      <td>0.0</td>\n",
       "      <td>0.07737</td>\n",
       "      <td>0.0</td>\n",
       "      <td>0.0</td>\n",
       "      <td>0.0</td>\n",
       "      <td>0.0</td>\n",
       "      <td>...</td>\n",
       "      <td>0.0</td>\n",
       "      <td>0.0</td>\n",
       "      <td>0.0</td>\n",
       "      <td>0.0</td>\n",
       "      <td>0.0</td>\n",
       "      <td>0.0</td>\n",
       "      <td>0.0</td>\n",
       "      <td>0.0</td>\n",
       "      <td>0.0</td>\n",
       "      <td>0.0</td>\n",
       "    </tr>\n",
       "    <tr>\n",
       "      <th>2</th>\n",
       "      <td>0.0</td>\n",
       "      <td>0.0</td>\n",
       "      <td>0.0</td>\n",
       "      <td>0.0</td>\n",
       "      <td>0.0</td>\n",
       "      <td>0.07737</td>\n",
       "      <td>0.0</td>\n",
       "      <td>0.0</td>\n",
       "      <td>0.0</td>\n",
       "      <td>0.0</td>\n",
       "      <td>...</td>\n",
       "      <td>0.0</td>\n",
       "      <td>0.0</td>\n",
       "      <td>0.0</td>\n",
       "      <td>0.0</td>\n",
       "      <td>0.0</td>\n",
       "      <td>0.0</td>\n",
       "      <td>0.0</td>\n",
       "      <td>0.0</td>\n",
       "      <td>0.0</td>\n",
       "      <td>0.0</td>\n",
       "    </tr>\n",
       "    <tr>\n",
       "      <th>3</th>\n",
       "      <td>0.0</td>\n",
       "      <td>0.0</td>\n",
       "      <td>0.0</td>\n",
       "      <td>0.0</td>\n",
       "      <td>0.0</td>\n",
       "      <td>0.07737</td>\n",
       "      <td>0.0</td>\n",
       "      <td>0.0</td>\n",
       "      <td>0.0</td>\n",
       "      <td>0.0</td>\n",
       "      <td>...</td>\n",
       "      <td>0.0</td>\n",
       "      <td>0.0</td>\n",
       "      <td>0.0</td>\n",
       "      <td>0.0</td>\n",
       "      <td>0.0</td>\n",
       "      <td>0.0</td>\n",
       "      <td>0.0</td>\n",
       "      <td>0.0</td>\n",
       "      <td>0.0</td>\n",
       "      <td>0.0</td>\n",
       "    </tr>\n",
       "    <tr>\n",
       "      <th>4</th>\n",
       "      <td>0.0</td>\n",
       "      <td>0.0</td>\n",
       "      <td>0.0</td>\n",
       "      <td>0.0</td>\n",
       "      <td>0.0</td>\n",
       "      <td>0.07737</td>\n",
       "      <td>0.0</td>\n",
       "      <td>0.0</td>\n",
       "      <td>0.0</td>\n",
       "      <td>0.0</td>\n",
       "      <td>...</td>\n",
       "      <td>0.0</td>\n",
       "      <td>0.0</td>\n",
       "      <td>0.0</td>\n",
       "      <td>0.0</td>\n",
       "      <td>0.0</td>\n",
       "      <td>0.0</td>\n",
       "      <td>0.0</td>\n",
       "      <td>0.0</td>\n",
       "      <td>0.0</td>\n",
       "      <td>0.0</td>\n",
       "    </tr>\n",
       "  </tbody>\n",
       "</table>\n",
       "<p>5 rows × 18408 columns</p>\n",
       "</div>"
      ],
      "text/plain": [
       "   aafia  aamaq  aamir  aan  aapl    aaron  aback  abadam  abadi  abagnale  \\\n",
       "0    0.0    0.0    0.0  0.0   0.0  0.07737    0.0     0.0    0.0       0.0   \n",
       "1    0.0    0.0    0.0  0.0   0.0  0.07737    0.0     0.0    0.0       0.0   \n",
       "2    0.0    0.0    0.0  0.0   0.0  0.07737    0.0     0.0    0.0       0.0   \n",
       "3    0.0    0.0    0.0  0.0   0.0  0.07737    0.0     0.0    0.0       0.0   \n",
       "4    0.0    0.0    0.0  0.0   0.0  0.07737    0.0     0.0    0.0       0.0   \n",
       "\n",
       "     ...      zobl  zone  zoning  zoology  zor  zubayr  zubeyr  zuckerberg  \\\n",
       "0    ...       0.0   0.0     0.0      0.0  0.0     0.0     0.0         0.0   \n",
       "1    ...       0.0   0.0     0.0      0.0  0.0     0.0     0.0         0.0   \n",
       "2    ...       0.0   0.0     0.0      0.0  0.0     0.0     0.0         0.0   \n",
       "3    ...       0.0   0.0     0.0      0.0  0.0     0.0     0.0         0.0   \n",
       "4    ...       0.0   0.0     0.0      0.0  0.0     0.0     0.0         0.0   \n",
       "\n",
       "   zulu  zxycaeuwb  \n",
       "0   0.0        0.0  \n",
       "1   0.0        0.0  \n",
       "2   0.0        0.0  \n",
       "3   0.0        0.0  \n",
       "4   0.0        0.0  \n",
       "\n",
       "[5 rows x 18408 columns]"
      ]
     },
     "execution_count": 65,
     "metadata": {},
     "output_type": "execute_result"
    }
   ],
   "source": [
    "articleBody_df_tfdf.head()"
   ]
  },
  {
   "cell_type": "code",
   "execution_count": 25,
   "metadata": {},
   "outputs": [
    {
     "data": {
      "text/plain": [
       "<49972x2736 sparse matrix of type '<class 'numpy.float64'>'\n",
       "\twith 388147 stored elements in Compressed Sparse Row format>"
      ]
     },
     "execution_count": 25,
     "metadata": {},
     "output_type": "execute_result"
    }
   ],
   "source": [
    "headline_matrix_sparse = tfidf_vector.fit_transform(df_all['Headline'])\n",
    "headline_matrix_sparse"
   ]
  },
  {
   "cell_type": "code",
   "execution_count": 26,
   "metadata": {},
   "outputs": [],
   "source": [
    "headline_df_tfdf = pd.DataFrame(headline_matrix_sparse.toarray(),\n",
    "                                 index = df_all.index,\n",
    "                                 columns = tfidf_vector.get_feature_names())"
   ]
  },
  {
   "cell_type": "code",
   "execution_count": 68,
   "metadata": {},
   "outputs": [
    {
     "data": {
      "text/html": [
       "<div>\n",
       "<style scoped>\n",
       "    .dataframe tbody tr th:only-of-type {\n",
       "        vertical-align: middle;\n",
       "    }\n",
       "\n",
       "    .dataframe tbody tr th {\n",
       "        vertical-align: top;\n",
       "    }\n",
       "\n",
       "    .dataframe thead th {\n",
       "        text-align: right;\n",
       "    }\n",
       "</style>\n",
       "<table border=\"1\" class=\"dataframe\">\n",
       "  <thead>\n",
       "    <tr style=\"text-align: right;\">\n",
       "      <th></th>\n",
       "      <th>aaron</th>\n",
       "      <th>abandoned</th>\n",
       "      <th>abdel</th>\n",
       "      <th>abdi</th>\n",
       "      <th>abducted</th>\n",
       "      <th>abducting</th>\n",
       "      <th>abdul</th>\n",
       "      <th>abdullah</th>\n",
       "      <th>abort</th>\n",
       "      <th>aborted</th>\n",
       "      <th>...</th>\n",
       "      <th>younger</th>\n",
       "      <th>youngest</th>\n",
       "      <th>youtube</th>\n",
       "      <th>ypg</th>\n",
       "      <th>yum</th>\n",
       "      <th>zack</th>\n",
       "      <th>zehaf</th>\n",
       "      <th>zeppelin</th>\n",
       "      <th>zero</th>\n",
       "      <th>zhejiang</th>\n",
       "    </tr>\n",
       "  </thead>\n",
       "  <tbody>\n",
       "    <tr>\n",
       "      <th>0</th>\n",
       "      <td>0.0</td>\n",
       "      <td>0.0</td>\n",
       "      <td>0.0</td>\n",
       "      <td>0.0</td>\n",
       "      <td>0.0</td>\n",
       "      <td>0.0</td>\n",
       "      <td>0.0</td>\n",
       "      <td>0.0</td>\n",
       "      <td>0.0</td>\n",
       "      <td>0.0</td>\n",
       "      <td>...</td>\n",
       "      <td>0.0</td>\n",
       "      <td>0.0</td>\n",
       "      <td>0.0</td>\n",
       "      <td>0.0</td>\n",
       "      <td>0.0</td>\n",
       "      <td>0.0</td>\n",
       "      <td>0.0</td>\n",
       "      <td>0.0</td>\n",
       "      <td>0.0</td>\n",
       "      <td>0.0</td>\n",
       "    </tr>\n",
       "    <tr>\n",
       "      <th>1</th>\n",
       "      <td>0.0</td>\n",
       "      <td>0.0</td>\n",
       "      <td>0.0</td>\n",
       "      <td>0.0</td>\n",
       "      <td>0.0</td>\n",
       "      <td>0.0</td>\n",
       "      <td>0.0</td>\n",
       "      <td>0.0</td>\n",
       "      <td>0.0</td>\n",
       "      <td>0.0</td>\n",
       "      <td>...</td>\n",
       "      <td>0.0</td>\n",
       "      <td>0.0</td>\n",
       "      <td>0.0</td>\n",
       "      <td>0.0</td>\n",
       "      <td>0.0</td>\n",
       "      <td>0.0</td>\n",
       "      <td>0.0</td>\n",
       "      <td>0.0</td>\n",
       "      <td>0.0</td>\n",
       "      <td>0.0</td>\n",
       "    </tr>\n",
       "    <tr>\n",
       "      <th>2</th>\n",
       "      <td>0.0</td>\n",
       "      <td>0.0</td>\n",
       "      <td>0.0</td>\n",
       "      <td>0.0</td>\n",
       "      <td>0.0</td>\n",
       "      <td>0.0</td>\n",
       "      <td>0.0</td>\n",
       "      <td>0.0</td>\n",
       "      <td>0.0</td>\n",
       "      <td>0.0</td>\n",
       "      <td>...</td>\n",
       "      <td>0.0</td>\n",
       "      <td>0.0</td>\n",
       "      <td>0.0</td>\n",
       "      <td>0.0</td>\n",
       "      <td>0.0</td>\n",
       "      <td>0.0</td>\n",
       "      <td>0.0</td>\n",
       "      <td>0.0</td>\n",
       "      <td>0.0</td>\n",
       "      <td>0.0</td>\n",
       "    </tr>\n",
       "    <tr>\n",
       "      <th>3</th>\n",
       "      <td>0.0</td>\n",
       "      <td>0.0</td>\n",
       "      <td>0.0</td>\n",
       "      <td>0.0</td>\n",
       "      <td>0.0</td>\n",
       "      <td>0.0</td>\n",
       "      <td>0.0</td>\n",
       "      <td>0.0</td>\n",
       "      <td>0.0</td>\n",
       "      <td>0.0</td>\n",
       "      <td>...</td>\n",
       "      <td>0.0</td>\n",
       "      <td>0.0</td>\n",
       "      <td>0.0</td>\n",
       "      <td>0.0</td>\n",
       "      <td>0.0</td>\n",
       "      <td>0.0</td>\n",
       "      <td>0.0</td>\n",
       "      <td>0.0</td>\n",
       "      <td>0.0</td>\n",
       "      <td>0.0</td>\n",
       "    </tr>\n",
       "    <tr>\n",
       "      <th>4</th>\n",
       "      <td>0.0</td>\n",
       "      <td>0.0</td>\n",
       "      <td>0.0</td>\n",
       "      <td>0.0</td>\n",
       "      <td>0.0</td>\n",
       "      <td>0.0</td>\n",
       "      <td>0.0</td>\n",
       "      <td>0.0</td>\n",
       "      <td>0.0</td>\n",
       "      <td>0.0</td>\n",
       "      <td>...</td>\n",
       "      <td>0.0</td>\n",
       "      <td>0.0</td>\n",
       "      <td>0.0</td>\n",
       "      <td>0.0</td>\n",
       "      <td>0.0</td>\n",
       "      <td>0.0</td>\n",
       "      <td>0.0</td>\n",
       "      <td>0.0</td>\n",
       "      <td>0.0</td>\n",
       "      <td>0.0</td>\n",
       "    </tr>\n",
       "  </tbody>\n",
       "</table>\n",
       "<p>5 rows × 2736 columns</p>\n",
       "</div>"
      ],
      "text/plain": [
       "   aaron  abandoned  abdel  abdi  abducted  abducting  abdul  abdullah  abort  \\\n",
       "0    0.0        0.0    0.0   0.0       0.0        0.0    0.0       0.0    0.0   \n",
       "1    0.0        0.0    0.0   0.0       0.0        0.0    0.0       0.0    0.0   \n",
       "2    0.0        0.0    0.0   0.0       0.0        0.0    0.0       0.0    0.0   \n",
       "3    0.0        0.0    0.0   0.0       0.0        0.0    0.0       0.0    0.0   \n",
       "4    0.0        0.0    0.0   0.0       0.0        0.0    0.0       0.0    0.0   \n",
       "\n",
       "   aborted    ...     younger  youngest  youtube  ypg  yum  zack  zehaf  \\\n",
       "0      0.0    ...         0.0       0.0      0.0  0.0  0.0   0.0    0.0   \n",
       "1      0.0    ...         0.0       0.0      0.0  0.0  0.0   0.0    0.0   \n",
       "2      0.0    ...         0.0       0.0      0.0  0.0  0.0   0.0    0.0   \n",
       "3      0.0    ...         0.0       0.0      0.0  0.0  0.0   0.0    0.0   \n",
       "4      0.0    ...         0.0       0.0      0.0  0.0  0.0   0.0    0.0   \n",
       "\n",
       "   zeppelin  zero  zhejiang  \n",
       "0       0.0   0.0       0.0  \n",
       "1       0.0   0.0       0.0  \n",
       "2       0.0   0.0       0.0  \n",
       "3       0.0   0.0       0.0  \n",
       "4       0.0   0.0       0.0  \n",
       "\n",
       "[5 rows x 2736 columns]"
      ]
     },
     "execution_count": 68,
     "metadata": {},
     "output_type": "execute_result"
    }
   ],
   "source": [
    "headline_df_tfdf.head()"
   ]
  },
  {
   "cell_type": "markdown",
   "metadata": {},
   "source": [
    "## Truncated SVD"
   ]
  },
  {
   "cell_type": "code",
   "execution_count": 27,
   "metadata": {},
   "outputs": [],
   "source": [
    "from sklearn.decomposition import TruncatedSVD"
   ]
  },
  {
   "cell_type": "code",
   "execution_count": 28,
   "metadata": {},
   "outputs": [],
   "source": [
    "n_components = 100\n",
    "SVD = TruncatedSVD(n_components)\n",
    "component_names = [\"component_\"+str(i) for i in range(n_components)]"
   ]
  },
  {
   "cell_type": "code",
   "execution_count": 71,
   "metadata": {},
   "outputs": [],
   "source": [
    "#lsa = TruncatedSVD(n_components=100, n_iter=100)\n",
    "#lsa.fit(articleBody_df_tfdf)"
   ]
  },
  {
   "cell_type": "code",
   "execution_count": 72,
   "metadata": {},
   "outputs": [],
   "source": [
    "#lsa.components_[0]"
   ]
  },
  {
   "cell_type": "code",
   "execution_count": 73,
   "metadata": {},
   "outputs": [],
   "source": [
    "#terms = vectorizer.get_feature_names()\n",
    "#for i, comp in enumerate(lsa.components_):\n",
    "    #termsInComp = zip (terms, comp)\n",
    "    #sortedTerms = sorted(termsInComp, key=lambda X: x[1], reverse = True)[:10]\n",
    "    #print \"Word %d:\" % i\n",
    "    #for term in sortedTerms:\n",
    "        #print term[0]\n",
    "        #print \" \""
   ]
  },
  {
   "cell_type": "code",
   "execution_count": 29,
   "metadata": {
    "scrolled": true
   },
   "outputs": [
    {
     "data": {
      "text/plain": [
       "array([[ 0.09533844,  0.20917701, -0.02623359, ...,  0.00920228,\n",
       "        -0.01856594, -0.00950194],\n",
       "       [ 0.09533844,  0.20917701, -0.02623359, ...,  0.00920228,\n",
       "        -0.01856594, -0.00950194],\n",
       "       [ 0.09533844,  0.20917701, -0.02623359, ...,  0.00920228,\n",
       "        -0.01856594, -0.00950194],\n",
       "       ...,\n",
       "       [ 0.10926746, -0.00405863, -0.01237419, ..., -0.00385819,\n",
       "         0.001803  , -0.0149248 ],\n",
       "       [ 0.17433644,  0.51243698, -0.07441508, ..., -0.00582191,\n",
       "         0.00681073,  0.05076078],\n",
       "       [ 0.16292307,  0.66241454, -0.12880881, ..., -0.02244739,\n",
       "         0.00879433,  0.06297349]])"
      ]
     },
     "execution_count": 29,
     "metadata": {},
     "output_type": "execute_result"
    }
   ],
   "source": [
    "articleBody_svd_matrix = SVD.fit_transform(articleBody_df_tfdf)\n",
    "articleBody_svd_matrix"
   ]
  },
  {
   "cell_type": "code",
   "execution_count": 30,
   "metadata": {},
   "outputs": [
    {
     "data": {
      "text/plain": [
       "array([[ 0.01147479,  0.00935641,  0.00474512, ...,  0.02327761,\n",
       "        -0.04932604,  0.03435446],\n",
       "       [ 0.00723131,  0.05075058, -0.00227545, ...,  0.04016022,\n",
       "         0.01293309,  0.06570908],\n",
       "       [ 0.01427152,  0.0072916 ,  0.00614599, ...,  0.01756991,\n",
       "        -0.02915877,  0.00694797],\n",
       "       ...,\n",
       "       [ 0.01233547,  0.00230589,  0.00526141, ...,  0.00475152,\n",
       "        -0.05665834, -0.02388791],\n",
       "       [ 0.01735225,  0.01500701,  0.00583595, ...,  0.01591702,\n",
       "        -0.02312003,  0.00565127],\n",
       "       [ 0.00979544,  0.01030163,  0.00912464, ...,  0.03620044,\n",
       "        -0.00023186, -0.01525898]])"
      ]
     },
     "execution_count": 30,
     "metadata": {},
     "output_type": "execute_result"
    }
   ],
   "source": [
    "headline_svd_matrix = SVD.fit_transform(headline_df_tfdf)\n",
    "headline_svd_matrix"
   ]
  },
  {
   "cell_type": "code",
   "execution_count": 76,
   "metadata": {},
   "outputs": [
    {
     "data": {
      "text/plain": [
       "(49972, 100)"
      ]
     },
     "execution_count": 76,
     "metadata": {},
     "output_type": "execute_result"
    }
   ],
   "source": [
    "articleBody_svd_matrix.shape"
   ]
  },
  {
   "cell_type": "code",
   "execution_count": 77,
   "metadata": {},
   "outputs": [],
   "source": [
    "#search_term = \"islam\"\n",
    "\n",
    "#use headline to compare to the boody \n",
    "#make a list forbody and article and loop thru each row "
   ]
  },
  {
   "cell_type": "code",
   "execution_count": 78,
   "metadata": {},
   "outputs": [],
   "source": [
    "#search_term_vec = tfidf_vector.transform([search_term])"
   ]
  },
  {
   "cell_type": "code",
   "execution_count": 79,
   "metadata": {},
   "outputs": [],
   "source": [
    "#search_term_svd = SVD.transform(search_term_vec)"
   ]
  },
  {
   "cell_type": "code",
   "execution_count": 80,
   "metadata": {},
   "outputs": [],
   "source": [
    "#search_term_svd"
   ]
  },
  {
   "cell_type": "markdown",
   "metadata": {},
   "source": [
    "## Cosine Similarity"
   ]
  },
  {
   "cell_type": "code",
   "execution_count": 81,
   "metadata": {},
   "outputs": [],
   "source": [
    "#cosine_similarities = articleBody_svd_matrix.dot(search_term_svd.T).ravel()\n",
    "#do for 1 row with another row --> feature "
   ]
  },
  {
   "cell_type": "code",
   "execution_count": 82,
   "metadata": {},
   "outputs": [],
   "source": [
    "#cosine_similarities.shape"
   ]
  },
  {
   "cell_type": "code",
   "execution_count": 83,
   "metadata": {},
   "outputs": [],
   "source": [
    "#cosine_similarities"
   ]
  },
  {
   "cell_type": "code",
   "execution_count": 84,
   "metadata": {},
   "outputs": [],
   "source": [
    "#cosine_similarities.argsort()[:-6:-1]"
   ]
  },
  {
   "cell_type": "code",
   "execution_count": 85,
   "metadata": {},
   "outputs": [],
   "source": [
    "#cosine_similarities_headline = headline_svd_matrix.dot(search_term_svd.T).ravel()"
   ]
  },
  {
   "cell_type": "code",
   "execution_count": 86,
   "metadata": {},
   "outputs": [],
   "source": [
    "from gensim import corpora, models\n",
    "import pyLDAvis.gensim\n",
    "pyLDAvis.enable_notebook()"
   ]
  },
  {
   "cell_type": "code",
   "execution_count": 87,
   "metadata": {},
   "outputs": [],
   "source": [
    "#from nltk.corpus import stopwords\n",
    "#def split_into_words(documents):\n",
    "    #docs = []\n",
    "    #for doc in documents:\n",
    "        #text_processed = doc.split(' ')\n",
    "        #text_processed = list(filter(lambda a: a != '', text_processed))\n",
    "        #text_processed = [word.lower() for word in text_processed if word.lower() not in stopwords.words('english')]\n",
    "        #docs.append(text_processed)\n",
    "    #return docs"
   ]
  },
  {
   "cell_type": "code",
   "execution_count": 88,
   "metadata": {
    "scrolled": true
   },
   "outputs": [],
   "source": [
    "#texts = split_into_words(df_all['articleBody'])"
   ]
  },
  {
   "cell_type": "markdown",
   "metadata": {},
   "source": [
    "## Cosine Similarity"
   ]
  },
  {
   "cell_type": "code",
   "execution_count": 31,
   "metadata": {},
   "outputs": [],
   "source": [
    "import scipy.spatial as sp"
   ]
  },
  {
   "cell_type": "code",
   "execution_count": 32,
   "metadata": {},
   "outputs": [],
   "source": [
    "#distances = 1 - sp.distance.cdist(articleBody_svd_matrix, headline_svd_matrix, 'cosine')"
   ]
  },
  {
   "cell_type": "code",
   "execution_count": 33,
   "metadata": {},
   "outputs": [],
   "source": [
    "distances = []\n",
    "for i, body in enumerate(articleBody_svd_matrix): \n",
    "    distances.append(sp.distance.cdist([body], [headline_svd_matrix[i]], 'cosine')[0][0])"
   ]
  },
  {
   "cell_type": "code",
   "execution_count": 45,
   "metadata": {},
   "outputs": [],
   "source": [
    "df_all['distances'] = pd.Series(distances)"
   ]
  },
  {
   "cell_type": "code",
   "execution_count": 117,
   "metadata": {},
   "outputs": [
    {
     "data": {
      "text/plain": [
       "(49972, 6)"
      ]
     },
     "execution_count": 117,
     "metadata": {},
     "output_type": "execute_result"
    }
   ],
   "source": [
    "df_all.shape"
   ]
  },
  {
   "cell_type": "markdown",
   "metadata": {},
   "source": [
    "### Eliminating Nulls"
   ]
  },
  {
   "cell_type": "code",
   "execution_count": null,
   "metadata": {},
   "outputs": [],
   "source": [
    "#df_fix = pd.DataFrame(df_all['distances'], df_all['Body ID'], df_all['Stance'])"
   ]
  },
  {
   "cell_type": "code",
   "execution_count": 95,
   "metadata": {},
   "outputs": [
    {
     "data": {
      "text/html": [
       "<div>\n",
       "<style scoped>\n",
       "    .dataframe tbody tr th:only-of-type {\n",
       "        vertical-align: middle;\n",
       "    }\n",
       "\n",
       "    .dataframe tbody tr th {\n",
       "        vertical-align: top;\n",
       "    }\n",
       "\n",
       "    .dataframe thead th {\n",
       "        text-align: right;\n",
       "    }\n",
       "</style>\n",
       "<table border=\"1\" class=\"dataframe\">\n",
       "  <thead>\n",
       "    <tr style=\"text-align: right;\">\n",
       "      <th>Body ID</th>\n",
       "      <th>712</th>\n",
       "      <th>712</th>\n",
       "      <th>712</th>\n",
       "      <th>712</th>\n",
       "      <th>712</th>\n",
       "      <th>712</th>\n",
       "      <th>712</th>\n",
       "      <th>712</th>\n",
       "      <th>712</th>\n",
       "      <th>712</th>\n",
       "      <th>...</th>\n",
       "      <th>797</th>\n",
       "      <th>74</th>\n",
       "      <th>135</th>\n",
       "      <th>175</th>\n",
       "      <th>553</th>\n",
       "      <th>464</th>\n",
       "      <th>362</th>\n",
       "      <th>915</th>\n",
       "      <th>407</th>\n",
       "      <th>1066</th>\n",
       "    </tr>\n",
       "    <tr>\n",
       "      <th>Stance</th>\n",
       "      <th></th>\n",
       "      <th></th>\n",
       "      <th></th>\n",
       "      <th></th>\n",
       "      <th></th>\n",
       "      <th></th>\n",
       "      <th></th>\n",
       "      <th></th>\n",
       "      <th></th>\n",
       "      <th></th>\n",
       "      <th></th>\n",
       "      <th></th>\n",
       "      <th></th>\n",
       "      <th></th>\n",
       "      <th></th>\n",
       "      <th></th>\n",
       "      <th></th>\n",
       "      <th></th>\n",
       "      <th></th>\n",
       "      <th></th>\n",
       "      <th></th>\n",
       "    </tr>\n",
       "  </thead>\n",
       "  <tbody>\n",
       "    <tr>\n",
       "      <th>unrelated</th>\n",
       "      <td>NaN</td>\n",
       "      <td>NaN</td>\n",
       "      <td>NaN</td>\n",
       "      <td>NaN</td>\n",
       "      <td>NaN</td>\n",
       "      <td>NaN</td>\n",
       "      <td>NaN</td>\n",
       "      <td>NaN</td>\n",
       "      <td>NaN</td>\n",
       "      <td>NaN</td>\n",
       "      <td>...</td>\n",
       "      <td>NaN</td>\n",
       "      <td>NaN</td>\n",
       "      <td>NaN</td>\n",
       "      <td>NaN</td>\n",
       "      <td>NaN</td>\n",
       "      <td>NaN</td>\n",
       "      <td>NaN</td>\n",
       "      <td>NaN</td>\n",
       "      <td>NaN</td>\n",
       "      <td>NaN</td>\n",
       "    </tr>\n",
       "    <tr>\n",
       "      <th>discuss</th>\n",
       "      <td>NaN</td>\n",
       "      <td>NaN</td>\n",
       "      <td>NaN</td>\n",
       "      <td>NaN</td>\n",
       "      <td>NaN</td>\n",
       "      <td>NaN</td>\n",
       "      <td>NaN</td>\n",
       "      <td>NaN</td>\n",
       "      <td>NaN</td>\n",
       "      <td>NaN</td>\n",
       "      <td>...</td>\n",
       "      <td>NaN</td>\n",
       "      <td>NaN</td>\n",
       "      <td>NaN</td>\n",
       "      <td>NaN</td>\n",
       "      <td>NaN</td>\n",
       "      <td>NaN</td>\n",
       "      <td>NaN</td>\n",
       "      <td>NaN</td>\n",
       "      <td>NaN</td>\n",
       "      <td>NaN</td>\n",
       "    </tr>\n",
       "    <tr>\n",
       "      <th>unrelated</th>\n",
       "      <td>NaN</td>\n",
       "      <td>NaN</td>\n",
       "      <td>NaN</td>\n",
       "      <td>NaN</td>\n",
       "      <td>NaN</td>\n",
       "      <td>NaN</td>\n",
       "      <td>NaN</td>\n",
       "      <td>NaN</td>\n",
       "      <td>NaN</td>\n",
       "      <td>NaN</td>\n",
       "      <td>...</td>\n",
       "      <td>NaN</td>\n",
       "      <td>NaN</td>\n",
       "      <td>NaN</td>\n",
       "      <td>NaN</td>\n",
       "      <td>NaN</td>\n",
       "      <td>NaN</td>\n",
       "      <td>NaN</td>\n",
       "      <td>NaN</td>\n",
       "      <td>NaN</td>\n",
       "      <td>NaN</td>\n",
       "    </tr>\n",
       "    <tr>\n",
       "      <th>unrelated</th>\n",
       "      <td>NaN</td>\n",
       "      <td>NaN</td>\n",
       "      <td>NaN</td>\n",
       "      <td>NaN</td>\n",
       "      <td>NaN</td>\n",
       "      <td>NaN</td>\n",
       "      <td>NaN</td>\n",
       "      <td>NaN</td>\n",
       "      <td>NaN</td>\n",
       "      <td>NaN</td>\n",
       "      <td>...</td>\n",
       "      <td>NaN</td>\n",
       "      <td>NaN</td>\n",
       "      <td>NaN</td>\n",
       "      <td>NaN</td>\n",
       "      <td>NaN</td>\n",
       "      <td>NaN</td>\n",
       "      <td>NaN</td>\n",
       "      <td>NaN</td>\n",
       "      <td>NaN</td>\n",
       "      <td>NaN</td>\n",
       "    </tr>\n",
       "    <tr>\n",
       "      <th>unrelated</th>\n",
       "      <td>NaN</td>\n",
       "      <td>NaN</td>\n",
       "      <td>NaN</td>\n",
       "      <td>NaN</td>\n",
       "      <td>NaN</td>\n",
       "      <td>NaN</td>\n",
       "      <td>NaN</td>\n",
       "      <td>NaN</td>\n",
       "      <td>NaN</td>\n",
       "      <td>NaN</td>\n",
       "      <td>...</td>\n",
       "      <td>NaN</td>\n",
       "      <td>NaN</td>\n",
       "      <td>NaN</td>\n",
       "      <td>NaN</td>\n",
       "      <td>NaN</td>\n",
       "      <td>NaN</td>\n",
       "      <td>NaN</td>\n",
       "      <td>NaN</td>\n",
       "      <td>NaN</td>\n",
       "      <td>NaN</td>\n",
       "    </tr>\n",
       "  </tbody>\n",
       "</table>\n",
       "<p>5 rows × 49972 columns</p>\n",
       "</div>"
      ],
      "text/plain": [
       "Body ID   712  712  712  712  712  712  712  712  712  712  ...  797  74    \\\n",
       "Stance                                                      ...              \n",
       "unrelated  NaN  NaN  NaN  NaN  NaN  NaN  NaN  NaN  NaN  NaN ...   NaN  NaN   \n",
       "discuss    NaN  NaN  NaN  NaN  NaN  NaN  NaN  NaN  NaN  NaN ...   NaN  NaN   \n",
       "unrelated  NaN  NaN  NaN  NaN  NaN  NaN  NaN  NaN  NaN  NaN ...   NaN  NaN   \n",
       "unrelated  NaN  NaN  NaN  NaN  NaN  NaN  NaN  NaN  NaN  NaN ...   NaN  NaN   \n",
       "unrelated  NaN  NaN  NaN  NaN  NaN  NaN  NaN  NaN  NaN  NaN ...   NaN  NaN   \n",
       "\n",
       "Body ID   135  175  553  464  362  915  407  1066  \n",
       "Stance                                             \n",
       "unrelated  NaN  NaN  NaN  NaN  NaN  NaN  NaN  NaN  \n",
       "discuss    NaN  NaN  NaN  NaN  NaN  NaN  NaN  NaN  \n",
       "unrelated  NaN  NaN  NaN  NaN  NaN  NaN  NaN  NaN  \n",
       "unrelated  NaN  NaN  NaN  NaN  NaN  NaN  NaN  NaN  \n",
       "unrelated  NaN  NaN  NaN  NaN  NaN  NaN  NaN  NaN  \n",
       "\n",
       "[5 rows x 49972 columns]"
      ]
     },
     "execution_count": 95,
     "metadata": {},
     "output_type": "execute_result"
    }
   ],
   "source": [
    "df_fix.T.head()"
   ]
  },
  {
   "cell_type": "code",
   "execution_count": 96,
   "metadata": {
    "scrolled": true
   },
   "outputs": [
    {
     "data": {
      "text/plain": [
       "(49972, 5)"
      ]
     },
     "execution_count": 96,
     "metadata": {},
     "output_type": "execute_result"
    }
   ],
   "source": [
    "#2 null values \n",
    "df_all.shape"
   ]
  },
  {
   "cell_type": "code",
   "execution_count": 35,
   "metadata": {},
   "outputs": [],
   "source": [
    "df_all = df_all.dropna(axis=0)\n",
    "\n",
    "#why does this change my df to not a df "
   ]
  },
  {
   "cell_type": "code",
   "execution_count": 98,
   "metadata": {},
   "outputs": [
    {
     "data": {
      "text/plain": [
       "(49970, 5)"
      ]
     },
     "execution_count": 98,
     "metadata": {},
     "output_type": "execute_result"
    }
   ],
   "source": [
    "df_all.shape"
   ]
  },
  {
   "cell_type": "code",
   "execution_count": 36,
   "metadata": {},
   "outputs": [],
   "source": [
    "df_all = stances.merge(bodies, on = 'Body ID')"
   ]
  },
  {
   "cell_type": "code",
   "execution_count": 46,
   "metadata": {
    "scrolled": true
   },
   "outputs": [
    {
     "data": {
      "text/html": [
       "<div>\n",
       "<style scoped>\n",
       "    .dataframe tbody tr th:only-of-type {\n",
       "        vertical-align: middle;\n",
       "    }\n",
       "\n",
       "    .dataframe tbody tr th {\n",
       "        vertical-align: top;\n",
       "    }\n",
       "\n",
       "    .dataframe thead th {\n",
       "        text-align: right;\n",
       "    }\n",
       "</style>\n",
       "<table border=\"1\" class=\"dataframe\">\n",
       "  <thead>\n",
       "    <tr style=\"text-align: right;\">\n",
       "      <th></th>\n",
       "      <th>Headline</th>\n",
       "      <th>Body ID</th>\n",
       "      <th>Stance</th>\n",
       "      <th>articleBody</th>\n",
       "      <th>stance_dummy</th>\n",
       "      <th>distances</th>\n",
       "    </tr>\n",
       "  </thead>\n",
       "  <tbody>\n",
       "    <tr>\n",
       "      <th>0</th>\n",
       "      <td>Police find mass graves with at least '15 bodi...</td>\n",
       "      <td>712</td>\n",
       "      <td>unrelated</td>\n",
       "      <td>Danny Boyle is directing the untitled film\\n\\n...</td>\n",
       "      <td>3</td>\n",
       "      <td>0.848807</td>\n",
       "    </tr>\n",
       "    <tr>\n",
       "      <th>1</th>\n",
       "      <td>Seth Rogen to Play Apple’s Steve Wozniak</td>\n",
       "      <td>712</td>\n",
       "      <td>discuss</td>\n",
       "      <td>Danny Boyle is directing the untitled film\\n\\n...</td>\n",
       "      <td>2</td>\n",
       "      <td>0.954702</td>\n",
       "    </tr>\n",
       "    <tr>\n",
       "      <th>2</th>\n",
       "      <td>Mexico police find mass grave near site 43 stu...</td>\n",
       "      <td>712</td>\n",
       "      <td>unrelated</td>\n",
       "      <td>Danny Boyle is directing the untitled film\\n\\n...</td>\n",
       "      <td>3</td>\n",
       "      <td>0.841187</td>\n",
       "    </tr>\n",
       "    <tr>\n",
       "      <th>3</th>\n",
       "      <td>Mexico Says Missing Students Not Found In Firs...</td>\n",
       "      <td>712</td>\n",
       "      <td>unrelated</td>\n",
       "      <td>Danny Boyle is directing the untitled film\\n\\n...</td>\n",
       "      <td>3</td>\n",
       "      <td>0.768969</td>\n",
       "    </tr>\n",
       "    <tr>\n",
       "      <th>4</th>\n",
       "      <td>New iOS 8 bug can delete all of your iCloud do...</td>\n",
       "      <td>712</td>\n",
       "      <td>unrelated</td>\n",
       "      <td>Danny Boyle is directing the untitled film\\n\\n...</td>\n",
       "      <td>3</td>\n",
       "      <td>1.033323</td>\n",
       "    </tr>\n",
       "  </tbody>\n",
       "</table>\n",
       "</div>"
      ],
      "text/plain": [
       "                                            Headline  Body ID     Stance  \\\n",
       "0  Police find mass graves with at least '15 bodi...      712  unrelated   \n",
       "1           Seth Rogen to Play Apple’s Steve Wozniak      712    discuss   \n",
       "2  Mexico police find mass grave near site 43 stu...      712  unrelated   \n",
       "3  Mexico Says Missing Students Not Found In Firs...      712  unrelated   \n",
       "4  New iOS 8 bug can delete all of your iCloud do...      712  unrelated   \n",
       "\n",
       "                                         articleBody  stance_dummy  distances  \n",
       "0  Danny Boyle is directing the untitled film\\n\\n...             3   0.848807  \n",
       "1  Danny Boyle is directing the untitled film\\n\\n...             2   0.954702  \n",
       "2  Danny Boyle is directing the untitled film\\n\\n...             3   0.841187  \n",
       "3  Danny Boyle is directing the untitled film\\n\\n...             3   0.768969  \n",
       "4  Danny Boyle is directing the untitled film\\n\\n...             3   1.033323  "
      ]
     },
     "execution_count": 46,
     "metadata": {},
     "output_type": "execute_result"
    }
   ],
   "source": [
    "df_all.head()"
   ]
  },
  {
   "cell_type": "code",
   "execution_count": 101,
   "metadata": {
    "scrolled": true
   },
   "outputs": [
    {
     "data": {
      "text/html": [
       "<div>\n",
       "<style scoped>\n",
       "    .dataframe tbody tr th:only-of-type {\n",
       "        vertical-align: middle;\n",
       "    }\n",
       "\n",
       "    .dataframe tbody tr th {\n",
       "        vertical-align: top;\n",
       "    }\n",
       "\n",
       "    .dataframe thead th {\n",
       "        text-align: right;\n",
       "    }\n",
       "</style>\n",
       "<table border=\"1\" class=\"dataframe\">\n",
       "  <thead>\n",
       "    <tr style=\"text-align: right;\">\n",
       "      <th>Stance</th>\n",
       "      <th>unrelated</th>\n",
       "      <th>discuss</th>\n",
       "      <th>unrelated</th>\n",
       "      <th>unrelated</th>\n",
       "      <th>unrelated</th>\n",
       "      <th>discuss</th>\n",
       "      <th>discuss</th>\n",
       "      <th>unrelated</th>\n",
       "      <th>unrelated</th>\n",
       "      <th>unrelated</th>\n",
       "      <th>...</th>\n",
       "      <th>agree</th>\n",
       "      <th>discuss</th>\n",
       "      <th>agree</th>\n",
       "      <th>discuss</th>\n",
       "      <th>agree</th>\n",
       "      <th>agree</th>\n",
       "      <th>agree</th>\n",
       "      <th>agree</th>\n",
       "      <th>discuss</th>\n",
       "      <th>discuss</th>\n",
       "    </tr>\n",
       "    <tr>\n",
       "      <th>Body ID</th>\n",
       "      <th></th>\n",
       "      <th></th>\n",
       "      <th></th>\n",
       "      <th></th>\n",
       "      <th></th>\n",
       "      <th></th>\n",
       "      <th></th>\n",
       "      <th></th>\n",
       "      <th></th>\n",
       "      <th></th>\n",
       "      <th></th>\n",
       "      <th></th>\n",
       "      <th></th>\n",
       "      <th></th>\n",
       "      <th></th>\n",
       "      <th></th>\n",
       "      <th></th>\n",
       "      <th></th>\n",
       "      <th></th>\n",
       "      <th></th>\n",
       "      <th></th>\n",
       "    </tr>\n",
       "  </thead>\n",
       "  <tbody>\n",
       "    <tr>\n",
       "      <th>712</th>\n",
       "      <td>NaN</td>\n",
       "      <td>NaN</td>\n",
       "      <td>NaN</td>\n",
       "      <td>NaN</td>\n",
       "      <td>NaN</td>\n",
       "      <td>NaN</td>\n",
       "      <td>NaN</td>\n",
       "      <td>NaN</td>\n",
       "      <td>NaN</td>\n",
       "      <td>NaN</td>\n",
       "      <td>...</td>\n",
       "      <td>NaN</td>\n",
       "      <td>NaN</td>\n",
       "      <td>NaN</td>\n",
       "      <td>NaN</td>\n",
       "      <td>NaN</td>\n",
       "      <td>NaN</td>\n",
       "      <td>NaN</td>\n",
       "      <td>NaN</td>\n",
       "      <td>NaN</td>\n",
       "      <td>NaN</td>\n",
       "    </tr>\n",
       "    <tr>\n",
       "      <th>712</th>\n",
       "      <td>NaN</td>\n",
       "      <td>NaN</td>\n",
       "      <td>NaN</td>\n",
       "      <td>NaN</td>\n",
       "      <td>NaN</td>\n",
       "      <td>NaN</td>\n",
       "      <td>NaN</td>\n",
       "      <td>NaN</td>\n",
       "      <td>NaN</td>\n",
       "      <td>NaN</td>\n",
       "      <td>...</td>\n",
       "      <td>NaN</td>\n",
       "      <td>NaN</td>\n",
       "      <td>NaN</td>\n",
       "      <td>NaN</td>\n",
       "      <td>NaN</td>\n",
       "      <td>NaN</td>\n",
       "      <td>NaN</td>\n",
       "      <td>NaN</td>\n",
       "      <td>NaN</td>\n",
       "      <td>NaN</td>\n",
       "    </tr>\n",
       "    <tr>\n",
       "      <th>712</th>\n",
       "      <td>NaN</td>\n",
       "      <td>NaN</td>\n",
       "      <td>NaN</td>\n",
       "      <td>NaN</td>\n",
       "      <td>NaN</td>\n",
       "      <td>NaN</td>\n",
       "      <td>NaN</td>\n",
       "      <td>NaN</td>\n",
       "      <td>NaN</td>\n",
       "      <td>NaN</td>\n",
       "      <td>...</td>\n",
       "      <td>NaN</td>\n",
       "      <td>NaN</td>\n",
       "      <td>NaN</td>\n",
       "      <td>NaN</td>\n",
       "      <td>NaN</td>\n",
       "      <td>NaN</td>\n",
       "      <td>NaN</td>\n",
       "      <td>NaN</td>\n",
       "      <td>NaN</td>\n",
       "      <td>NaN</td>\n",
       "    </tr>\n",
       "    <tr>\n",
       "      <th>712</th>\n",
       "      <td>NaN</td>\n",
       "      <td>NaN</td>\n",
       "      <td>NaN</td>\n",
       "      <td>NaN</td>\n",
       "      <td>NaN</td>\n",
       "      <td>NaN</td>\n",
       "      <td>NaN</td>\n",
       "      <td>NaN</td>\n",
       "      <td>NaN</td>\n",
       "      <td>NaN</td>\n",
       "      <td>...</td>\n",
       "      <td>NaN</td>\n",
       "      <td>NaN</td>\n",
       "      <td>NaN</td>\n",
       "      <td>NaN</td>\n",
       "      <td>NaN</td>\n",
       "      <td>NaN</td>\n",
       "      <td>NaN</td>\n",
       "      <td>NaN</td>\n",
       "      <td>NaN</td>\n",
       "      <td>NaN</td>\n",
       "    </tr>\n",
       "    <tr>\n",
       "      <th>712</th>\n",
       "      <td>NaN</td>\n",
       "      <td>NaN</td>\n",
       "      <td>NaN</td>\n",
       "      <td>NaN</td>\n",
       "      <td>NaN</td>\n",
       "      <td>NaN</td>\n",
       "      <td>NaN</td>\n",
       "      <td>NaN</td>\n",
       "      <td>NaN</td>\n",
       "      <td>NaN</td>\n",
       "      <td>...</td>\n",
       "      <td>NaN</td>\n",
       "      <td>NaN</td>\n",
       "      <td>NaN</td>\n",
       "      <td>NaN</td>\n",
       "      <td>NaN</td>\n",
       "      <td>NaN</td>\n",
       "      <td>NaN</td>\n",
       "      <td>NaN</td>\n",
       "      <td>NaN</td>\n",
       "      <td>NaN</td>\n",
       "    </tr>\n",
       "  </tbody>\n",
       "</table>\n",
       "<p>5 rows × 49972 columns</p>\n",
       "</div>"
      ],
      "text/plain": [
       "Stance  unrelated discuss unrelated unrelated unrelated discuss discuss  \\\n",
       "Body ID                                                                   \n",
       "712           NaN     NaN       NaN       NaN       NaN     NaN     NaN   \n",
       "712           NaN     NaN       NaN       NaN       NaN     NaN     NaN   \n",
       "712           NaN     NaN       NaN       NaN       NaN     NaN     NaN   \n",
       "712           NaN     NaN       NaN       NaN       NaN     NaN     NaN   \n",
       "712           NaN     NaN       NaN       NaN       NaN     NaN     NaN   \n",
       "\n",
       "Stance  unrelated unrelated unrelated   ...   agree discuss agree discuss  \\\n",
       "Body ID                                 ...                                 \n",
       "712           NaN       NaN       NaN   ...     NaN     NaN   NaN     NaN   \n",
       "712           NaN       NaN       NaN   ...     NaN     NaN   NaN     NaN   \n",
       "712           NaN       NaN       NaN   ...     NaN     NaN   NaN     NaN   \n",
       "712           NaN       NaN       NaN   ...     NaN     NaN   NaN     NaN   \n",
       "712           NaN       NaN       NaN   ...     NaN     NaN   NaN     NaN   \n",
       "\n",
       "Stance  agree agree agree agree discuss discuss  \n",
       "Body ID                                          \n",
       "712       NaN   NaN   NaN   NaN     NaN     NaN  \n",
       "712       NaN   NaN   NaN   NaN     NaN     NaN  \n",
       "712       NaN   NaN   NaN   NaN     NaN     NaN  \n",
       "712       NaN   NaN   NaN   NaN     NaN     NaN  \n",
       "712       NaN   NaN   NaN   NaN     NaN     NaN  \n",
       "\n",
       "[5 rows x 49972 columns]"
      ]
     },
     "execution_count": 101,
     "metadata": {},
     "output_type": "execute_result"
    }
   ],
   "source": [
    "df_fix.head()"
   ]
  },
  {
   "cell_type": "code",
   "execution_count": 102,
   "metadata": {},
   "outputs": [
    {
     "name": "stderr",
     "output_type": "stream",
     "text": [
      "/anaconda3/envs/dsi/lib/python3.6/site-packages/_pytest/mark/structures.py:284: DeprecationWarning: The `convert` argument is deprecated in favor of `converter`.  It will be removed after 2019/01.\n",
      "  _marks = attr.ib(convert=list)\n"
     ]
    },
    {
     "ename": "KeyError",
     "evalue": "'distances'",
     "output_type": "error",
     "traceback": [
      "\u001b[0;31m---------------------------------------------------------------------------\u001b[0m",
      "\u001b[0;31mKeyError\u001b[0m                                  Traceback (most recent call last)",
      "\u001b[0;32m/anaconda3/envs/dsi/lib/python3.6/site-packages/pandas/core/indexes/base.py\u001b[0m in \u001b[0;36mget_loc\u001b[0;34m(self, key, method, tolerance)\u001b[0m\n\u001b[1;32m   2524\u001b[0m             \u001b[0;32mtry\u001b[0m\u001b[0;34m:\u001b[0m\u001b[0;34m\u001b[0m\u001b[0m\n\u001b[0;32m-> 2525\u001b[0;31m                 \u001b[0;32mreturn\u001b[0m \u001b[0mself\u001b[0m\u001b[0;34m.\u001b[0m\u001b[0m_engine\u001b[0m\u001b[0;34m.\u001b[0m\u001b[0mget_loc\u001b[0m\u001b[0;34m(\u001b[0m\u001b[0mkey\u001b[0m\u001b[0;34m)\u001b[0m\u001b[0;34m\u001b[0m\u001b[0m\n\u001b[0m\u001b[1;32m   2526\u001b[0m             \u001b[0;32mexcept\u001b[0m \u001b[0mKeyError\u001b[0m\u001b[0;34m:\u001b[0m\u001b[0;34m\u001b[0m\u001b[0m\n",
      "\u001b[0;32mpandas/_libs/index.pyx\u001b[0m in \u001b[0;36mpandas._libs.index.IndexEngine.get_loc\u001b[0;34m()\u001b[0m\n",
      "\u001b[0;32mpandas/_libs/index.pyx\u001b[0m in \u001b[0;36mpandas._libs.index.IndexEngine.get_loc\u001b[0;34m()\u001b[0m\n",
      "\u001b[0;32mpandas/_libs/hashtable_class_helper.pxi\u001b[0m in \u001b[0;36mpandas._libs.hashtable.PyObjectHashTable.get_item\u001b[0;34m()\u001b[0m\n",
      "\u001b[0;32mpandas/_libs/hashtable_class_helper.pxi\u001b[0m in \u001b[0;36mpandas._libs.hashtable.PyObjectHashTable.get_item\u001b[0;34m()\u001b[0m\n",
      "\u001b[0;31mKeyError\u001b[0m: 'distances'",
      "\nDuring handling of the above exception, another exception occurred:\n",
      "\u001b[0;31mKeyError\u001b[0m                                  Traceback (most recent call last)",
      "\u001b[0;32m<ipython-input-102-4704997e949e>\u001b[0m in \u001b[0;36m<module>\u001b[0;34m()\u001b[0m\n\u001b[0;32m----> 1\u001b[0;31m \u001b[0mdf_fix\u001b[0m\u001b[0;34m[\u001b[0m\u001b[0mdf_fix\u001b[0m\u001b[0;34m[\u001b[0m\u001b[0;34m'distances'\u001b[0m\u001b[0;34m]\u001b[0m\u001b[0;34m.\u001b[0m\u001b[0misnull\u001b[0m\u001b[0;34m(\u001b[0m\u001b[0;34m)\u001b[0m\u001b[0;34m==\u001b[0m\u001b[0;32mTrue\u001b[0m\u001b[0;34m]\u001b[0m\u001b[0;34m\u001b[0m\u001b[0m\n\u001b[0m",
      "\u001b[0;32m/anaconda3/envs/dsi/lib/python3.6/site-packages/pandas/core/frame.py\u001b[0m in \u001b[0;36m__getitem__\u001b[0;34m(self, key)\u001b[0m\n\u001b[1;32m   2137\u001b[0m             \u001b[0;32mreturn\u001b[0m \u001b[0mself\u001b[0m\u001b[0;34m.\u001b[0m\u001b[0m_getitem_multilevel\u001b[0m\u001b[0;34m(\u001b[0m\u001b[0mkey\u001b[0m\u001b[0;34m)\u001b[0m\u001b[0;34m\u001b[0m\u001b[0m\n\u001b[1;32m   2138\u001b[0m         \u001b[0;32melse\u001b[0m\u001b[0;34m:\u001b[0m\u001b[0;34m\u001b[0m\u001b[0m\n\u001b[0;32m-> 2139\u001b[0;31m             \u001b[0;32mreturn\u001b[0m \u001b[0mself\u001b[0m\u001b[0;34m.\u001b[0m\u001b[0m_getitem_column\u001b[0m\u001b[0;34m(\u001b[0m\u001b[0mkey\u001b[0m\u001b[0;34m)\u001b[0m\u001b[0;34m\u001b[0m\u001b[0m\n\u001b[0m\u001b[1;32m   2140\u001b[0m \u001b[0;34m\u001b[0m\u001b[0m\n\u001b[1;32m   2141\u001b[0m     \u001b[0;32mdef\u001b[0m \u001b[0m_getitem_column\u001b[0m\u001b[0;34m(\u001b[0m\u001b[0mself\u001b[0m\u001b[0;34m,\u001b[0m \u001b[0mkey\u001b[0m\u001b[0;34m)\u001b[0m\u001b[0;34m:\u001b[0m\u001b[0;34m\u001b[0m\u001b[0m\n",
      "\u001b[0;32m/anaconda3/envs/dsi/lib/python3.6/site-packages/pandas/core/frame.py\u001b[0m in \u001b[0;36m_getitem_column\u001b[0;34m(self, key)\u001b[0m\n\u001b[1;32m   2149\u001b[0m         \u001b[0mresult\u001b[0m \u001b[0;34m=\u001b[0m \u001b[0mself\u001b[0m\u001b[0;34m.\u001b[0m\u001b[0m_constructor\u001b[0m\u001b[0;34m(\u001b[0m\u001b[0mself\u001b[0m\u001b[0;34m.\u001b[0m\u001b[0m_data\u001b[0m\u001b[0;34m.\u001b[0m\u001b[0mget\u001b[0m\u001b[0;34m(\u001b[0m\u001b[0mkey\u001b[0m\u001b[0;34m)\u001b[0m\u001b[0;34m)\u001b[0m\u001b[0;34m\u001b[0m\u001b[0m\n\u001b[1;32m   2150\u001b[0m         \u001b[0;32mif\u001b[0m \u001b[0mresult\u001b[0m\u001b[0;34m.\u001b[0m\u001b[0mcolumns\u001b[0m\u001b[0;34m.\u001b[0m\u001b[0mis_unique\u001b[0m\u001b[0;34m:\u001b[0m\u001b[0;34m\u001b[0m\u001b[0m\n\u001b[0;32m-> 2151\u001b[0;31m             \u001b[0mresult\u001b[0m \u001b[0;34m=\u001b[0m \u001b[0mresult\u001b[0m\u001b[0;34m[\u001b[0m\u001b[0mkey\u001b[0m\u001b[0;34m]\u001b[0m\u001b[0;34m\u001b[0m\u001b[0m\n\u001b[0m\u001b[1;32m   2152\u001b[0m \u001b[0;34m\u001b[0m\u001b[0m\n\u001b[1;32m   2153\u001b[0m         \u001b[0;32mreturn\u001b[0m \u001b[0mresult\u001b[0m\u001b[0;34m\u001b[0m\u001b[0m\n",
      "\u001b[0;32m/anaconda3/envs/dsi/lib/python3.6/site-packages/pandas/core/frame.py\u001b[0m in \u001b[0;36m__getitem__\u001b[0;34m(self, key)\u001b[0m\n\u001b[1;32m   2137\u001b[0m             \u001b[0;32mreturn\u001b[0m \u001b[0mself\u001b[0m\u001b[0;34m.\u001b[0m\u001b[0m_getitem_multilevel\u001b[0m\u001b[0;34m(\u001b[0m\u001b[0mkey\u001b[0m\u001b[0;34m)\u001b[0m\u001b[0;34m\u001b[0m\u001b[0m\n\u001b[1;32m   2138\u001b[0m         \u001b[0;32melse\u001b[0m\u001b[0;34m:\u001b[0m\u001b[0;34m\u001b[0m\u001b[0m\n\u001b[0;32m-> 2139\u001b[0;31m             \u001b[0;32mreturn\u001b[0m \u001b[0mself\u001b[0m\u001b[0;34m.\u001b[0m\u001b[0m_getitem_column\u001b[0m\u001b[0;34m(\u001b[0m\u001b[0mkey\u001b[0m\u001b[0;34m)\u001b[0m\u001b[0;34m\u001b[0m\u001b[0m\n\u001b[0m\u001b[1;32m   2140\u001b[0m \u001b[0;34m\u001b[0m\u001b[0m\n\u001b[1;32m   2141\u001b[0m     \u001b[0;32mdef\u001b[0m \u001b[0m_getitem_column\u001b[0m\u001b[0;34m(\u001b[0m\u001b[0mself\u001b[0m\u001b[0;34m,\u001b[0m \u001b[0mkey\u001b[0m\u001b[0;34m)\u001b[0m\u001b[0;34m:\u001b[0m\u001b[0;34m\u001b[0m\u001b[0m\n",
      "\u001b[0;32m/anaconda3/envs/dsi/lib/python3.6/site-packages/pandas/core/frame.py\u001b[0m in \u001b[0;36m_getitem_column\u001b[0;34m(self, key)\u001b[0m\n\u001b[1;32m   2144\u001b[0m         \u001b[0;31m# get column\u001b[0m\u001b[0;34m\u001b[0m\u001b[0;34m\u001b[0m\u001b[0m\n\u001b[1;32m   2145\u001b[0m         \u001b[0;32mif\u001b[0m \u001b[0mself\u001b[0m\u001b[0;34m.\u001b[0m\u001b[0mcolumns\u001b[0m\u001b[0;34m.\u001b[0m\u001b[0mis_unique\u001b[0m\u001b[0;34m:\u001b[0m\u001b[0;34m\u001b[0m\u001b[0m\n\u001b[0;32m-> 2146\u001b[0;31m             \u001b[0;32mreturn\u001b[0m \u001b[0mself\u001b[0m\u001b[0;34m.\u001b[0m\u001b[0m_get_item_cache\u001b[0m\u001b[0;34m(\u001b[0m\u001b[0mkey\u001b[0m\u001b[0;34m)\u001b[0m\u001b[0;34m\u001b[0m\u001b[0m\n\u001b[0m\u001b[1;32m   2147\u001b[0m \u001b[0;34m\u001b[0m\u001b[0m\n\u001b[1;32m   2148\u001b[0m         \u001b[0;31m# duplicate columns & possible reduce dimensionality\u001b[0m\u001b[0;34m\u001b[0m\u001b[0;34m\u001b[0m\u001b[0m\n",
      "\u001b[0;32m/anaconda3/envs/dsi/lib/python3.6/site-packages/pandas/core/generic.py\u001b[0m in \u001b[0;36m_get_item_cache\u001b[0;34m(self, item)\u001b[0m\n\u001b[1;32m   1840\u001b[0m         \u001b[0mres\u001b[0m \u001b[0;34m=\u001b[0m \u001b[0mcache\u001b[0m\u001b[0;34m.\u001b[0m\u001b[0mget\u001b[0m\u001b[0;34m(\u001b[0m\u001b[0mitem\u001b[0m\u001b[0;34m)\u001b[0m\u001b[0;34m\u001b[0m\u001b[0m\n\u001b[1;32m   1841\u001b[0m         \u001b[0;32mif\u001b[0m \u001b[0mres\u001b[0m \u001b[0;32mis\u001b[0m \u001b[0;32mNone\u001b[0m\u001b[0;34m:\u001b[0m\u001b[0;34m\u001b[0m\u001b[0m\n\u001b[0;32m-> 1842\u001b[0;31m             \u001b[0mvalues\u001b[0m \u001b[0;34m=\u001b[0m \u001b[0mself\u001b[0m\u001b[0;34m.\u001b[0m\u001b[0m_data\u001b[0m\u001b[0;34m.\u001b[0m\u001b[0mget\u001b[0m\u001b[0;34m(\u001b[0m\u001b[0mitem\u001b[0m\u001b[0;34m)\u001b[0m\u001b[0;34m\u001b[0m\u001b[0m\n\u001b[0m\u001b[1;32m   1843\u001b[0m             \u001b[0mres\u001b[0m \u001b[0;34m=\u001b[0m \u001b[0mself\u001b[0m\u001b[0;34m.\u001b[0m\u001b[0m_box_item_values\u001b[0m\u001b[0;34m(\u001b[0m\u001b[0mitem\u001b[0m\u001b[0;34m,\u001b[0m \u001b[0mvalues\u001b[0m\u001b[0;34m)\u001b[0m\u001b[0;34m\u001b[0m\u001b[0m\n\u001b[1;32m   1844\u001b[0m             \u001b[0mcache\u001b[0m\u001b[0;34m[\u001b[0m\u001b[0mitem\u001b[0m\u001b[0;34m]\u001b[0m \u001b[0;34m=\u001b[0m \u001b[0mres\u001b[0m\u001b[0;34m\u001b[0m\u001b[0m\n",
      "\u001b[0;32m/anaconda3/envs/dsi/lib/python3.6/site-packages/pandas/core/internals.py\u001b[0m in \u001b[0;36mget\u001b[0;34m(self, item, fastpath)\u001b[0m\n\u001b[1;32m   3841\u001b[0m \u001b[0;34m\u001b[0m\u001b[0m\n\u001b[1;32m   3842\u001b[0m             \u001b[0;32mif\u001b[0m \u001b[0;32mnot\u001b[0m \u001b[0misna\u001b[0m\u001b[0;34m(\u001b[0m\u001b[0mitem\u001b[0m\u001b[0;34m)\u001b[0m\u001b[0;34m:\u001b[0m\u001b[0;34m\u001b[0m\u001b[0m\n\u001b[0;32m-> 3843\u001b[0;31m                 \u001b[0mloc\u001b[0m \u001b[0;34m=\u001b[0m \u001b[0mself\u001b[0m\u001b[0;34m.\u001b[0m\u001b[0mitems\u001b[0m\u001b[0;34m.\u001b[0m\u001b[0mget_loc\u001b[0m\u001b[0;34m(\u001b[0m\u001b[0mitem\u001b[0m\u001b[0;34m)\u001b[0m\u001b[0;34m\u001b[0m\u001b[0m\n\u001b[0m\u001b[1;32m   3844\u001b[0m             \u001b[0;32melse\u001b[0m\u001b[0;34m:\u001b[0m\u001b[0;34m\u001b[0m\u001b[0m\n\u001b[1;32m   3845\u001b[0m                 \u001b[0mindexer\u001b[0m \u001b[0;34m=\u001b[0m \u001b[0mnp\u001b[0m\u001b[0;34m.\u001b[0m\u001b[0marange\u001b[0m\u001b[0;34m(\u001b[0m\u001b[0mlen\u001b[0m\u001b[0;34m(\u001b[0m\u001b[0mself\u001b[0m\u001b[0;34m.\u001b[0m\u001b[0mitems\u001b[0m\u001b[0;34m)\u001b[0m\u001b[0;34m)\u001b[0m\u001b[0;34m[\u001b[0m\u001b[0misna\u001b[0m\u001b[0;34m(\u001b[0m\u001b[0mself\u001b[0m\u001b[0;34m.\u001b[0m\u001b[0mitems\u001b[0m\u001b[0;34m)\u001b[0m\u001b[0;34m]\u001b[0m\u001b[0;34m\u001b[0m\u001b[0m\n",
      "\u001b[0;32m/anaconda3/envs/dsi/lib/python3.6/site-packages/pandas/core/indexes/base.py\u001b[0m in \u001b[0;36mget_loc\u001b[0;34m(self, key, method, tolerance)\u001b[0m\n\u001b[1;32m   2525\u001b[0m                 \u001b[0;32mreturn\u001b[0m \u001b[0mself\u001b[0m\u001b[0;34m.\u001b[0m\u001b[0m_engine\u001b[0m\u001b[0;34m.\u001b[0m\u001b[0mget_loc\u001b[0m\u001b[0;34m(\u001b[0m\u001b[0mkey\u001b[0m\u001b[0;34m)\u001b[0m\u001b[0;34m\u001b[0m\u001b[0m\n\u001b[1;32m   2526\u001b[0m             \u001b[0;32mexcept\u001b[0m \u001b[0mKeyError\u001b[0m\u001b[0;34m:\u001b[0m\u001b[0;34m\u001b[0m\u001b[0m\n\u001b[0;32m-> 2527\u001b[0;31m                 \u001b[0;32mreturn\u001b[0m \u001b[0mself\u001b[0m\u001b[0;34m.\u001b[0m\u001b[0m_engine\u001b[0m\u001b[0;34m.\u001b[0m\u001b[0mget_loc\u001b[0m\u001b[0;34m(\u001b[0m\u001b[0mself\u001b[0m\u001b[0;34m.\u001b[0m\u001b[0m_maybe_cast_indexer\u001b[0m\u001b[0;34m(\u001b[0m\u001b[0mkey\u001b[0m\u001b[0;34m)\u001b[0m\u001b[0;34m)\u001b[0m\u001b[0;34m\u001b[0m\u001b[0m\n\u001b[0m\u001b[1;32m   2528\u001b[0m \u001b[0;34m\u001b[0m\u001b[0m\n\u001b[1;32m   2529\u001b[0m         \u001b[0mindexer\u001b[0m \u001b[0;34m=\u001b[0m \u001b[0mself\u001b[0m\u001b[0;34m.\u001b[0m\u001b[0mget_indexer\u001b[0m\u001b[0;34m(\u001b[0m\u001b[0;34m[\u001b[0m\u001b[0mkey\u001b[0m\u001b[0;34m]\u001b[0m\u001b[0;34m,\u001b[0m \u001b[0mmethod\u001b[0m\u001b[0;34m=\u001b[0m\u001b[0mmethod\u001b[0m\u001b[0;34m,\u001b[0m \u001b[0mtolerance\u001b[0m\u001b[0;34m=\u001b[0m\u001b[0mtolerance\u001b[0m\u001b[0;34m)\u001b[0m\u001b[0;34m\u001b[0m\u001b[0m\n",
      "\u001b[0;32mpandas/_libs/index.pyx\u001b[0m in \u001b[0;36mpandas._libs.index.IndexEngine.get_loc\u001b[0;34m()\u001b[0m\n",
      "\u001b[0;32mpandas/_libs/index.pyx\u001b[0m in \u001b[0;36mpandas._libs.index.IndexEngine.get_loc\u001b[0;34m()\u001b[0m\n",
      "\u001b[0;32mpandas/_libs/hashtable_class_helper.pxi\u001b[0m in \u001b[0;36mpandas._libs.hashtable.PyObjectHashTable.get_item\u001b[0;34m()\u001b[0m\n",
      "\u001b[0;32mpandas/_libs/hashtable_class_helper.pxi\u001b[0m in \u001b[0;36mpandas._libs.hashtable.PyObjectHashTable.get_item\u001b[0;34m()\u001b[0m\n",
      "\u001b[0;31mKeyError\u001b[0m: 'distances'"
     ]
    }
   ],
   "source": []
  },
  {
   "cell_type": "code",
   "execution_count": 103,
   "metadata": {},
   "outputs": [],
   "source": [
    "df_fix = df_fix.dropna(axis=0)"
   ]
  },
  {
   "cell_type": "code",
   "execution_count": 104,
   "metadata": {},
   "outputs": [
    {
     "data": {
      "text/plain": [
       "(0, 49972)"
      ]
     },
     "execution_count": 104,
     "metadata": {},
     "output_type": "execute_result"
    }
   ],
   "source": [
    "df_fix.shape"
   ]
  },
  {
   "cell_type": "code",
   "execution_count": 105,
   "metadata": {},
   "outputs": [
    {
     "ename": "KeyError",
     "evalue": "'distances'",
     "output_type": "error",
     "traceback": [
      "\u001b[0;31m---------------------------------------------------------------------------\u001b[0m",
      "\u001b[0;31mKeyError\u001b[0m                                  Traceback (most recent call last)",
      "\u001b[0;32m/anaconda3/envs/dsi/lib/python3.6/site-packages/pandas/core/indexes/base.py\u001b[0m in \u001b[0;36mget_loc\u001b[0;34m(self, key, method, tolerance)\u001b[0m\n\u001b[1;32m   2524\u001b[0m             \u001b[0;32mtry\u001b[0m\u001b[0;34m:\u001b[0m\u001b[0;34m\u001b[0m\u001b[0m\n\u001b[0;32m-> 2525\u001b[0;31m                 \u001b[0;32mreturn\u001b[0m \u001b[0mself\u001b[0m\u001b[0;34m.\u001b[0m\u001b[0m_engine\u001b[0m\u001b[0;34m.\u001b[0m\u001b[0mget_loc\u001b[0m\u001b[0;34m(\u001b[0m\u001b[0mkey\u001b[0m\u001b[0;34m)\u001b[0m\u001b[0;34m\u001b[0m\u001b[0m\n\u001b[0m\u001b[1;32m   2526\u001b[0m             \u001b[0;32mexcept\u001b[0m \u001b[0mKeyError\u001b[0m\u001b[0;34m:\u001b[0m\u001b[0;34m\u001b[0m\u001b[0m\n",
      "\u001b[0;32mpandas/_libs/index.pyx\u001b[0m in \u001b[0;36mpandas._libs.index.IndexEngine.get_loc\u001b[0;34m()\u001b[0m\n",
      "\u001b[0;32mpandas/_libs/index.pyx\u001b[0m in \u001b[0;36mpandas._libs.index.IndexEngine.get_loc\u001b[0;34m()\u001b[0m\n",
      "\u001b[0;32mpandas/_libs/hashtable_class_helper.pxi\u001b[0m in \u001b[0;36mpandas._libs.hashtable.PyObjectHashTable.get_item\u001b[0;34m()\u001b[0m\n",
      "\u001b[0;32mpandas/_libs/hashtable_class_helper.pxi\u001b[0m in \u001b[0;36mpandas._libs.hashtable.PyObjectHashTable.get_item\u001b[0;34m()\u001b[0m\n",
      "\u001b[0;31mKeyError\u001b[0m: 'distances'",
      "\nDuring handling of the above exception, another exception occurred:\n",
      "\u001b[0;31mKeyError\u001b[0m                                  Traceback (most recent call last)",
      "\u001b[0;32m<ipython-input-105-8f1bb15eebbc>\u001b[0m in \u001b[0;36m<module>\u001b[0;34m()\u001b[0m\n\u001b[0;32m----> 1\u001b[0;31m \u001b[0mdf_all\u001b[0m\u001b[0;34m[\u001b[0m\u001b[0mdf_all\u001b[0m\u001b[0;34m[\u001b[0m\u001b[0;34m'distances'\u001b[0m\u001b[0;34m]\u001b[0m\u001b[0;34m.\u001b[0m\u001b[0misnull\u001b[0m\u001b[0;34m(\u001b[0m\u001b[0;34m)\u001b[0m\u001b[0;34m==\u001b[0m\u001b[0;32mTrue\u001b[0m\u001b[0;34m]\u001b[0m\u001b[0;34m\u001b[0m\u001b[0m\n\u001b[0m",
      "\u001b[0;32m/anaconda3/envs/dsi/lib/python3.6/site-packages/pandas/core/frame.py\u001b[0m in \u001b[0;36m__getitem__\u001b[0;34m(self, key)\u001b[0m\n\u001b[1;32m   2137\u001b[0m             \u001b[0;32mreturn\u001b[0m \u001b[0mself\u001b[0m\u001b[0;34m.\u001b[0m\u001b[0m_getitem_multilevel\u001b[0m\u001b[0;34m(\u001b[0m\u001b[0mkey\u001b[0m\u001b[0;34m)\u001b[0m\u001b[0;34m\u001b[0m\u001b[0m\n\u001b[1;32m   2138\u001b[0m         \u001b[0;32melse\u001b[0m\u001b[0;34m:\u001b[0m\u001b[0;34m\u001b[0m\u001b[0m\n\u001b[0;32m-> 2139\u001b[0;31m             \u001b[0;32mreturn\u001b[0m \u001b[0mself\u001b[0m\u001b[0;34m.\u001b[0m\u001b[0m_getitem_column\u001b[0m\u001b[0;34m(\u001b[0m\u001b[0mkey\u001b[0m\u001b[0;34m)\u001b[0m\u001b[0;34m\u001b[0m\u001b[0m\n\u001b[0m\u001b[1;32m   2140\u001b[0m \u001b[0;34m\u001b[0m\u001b[0m\n\u001b[1;32m   2141\u001b[0m     \u001b[0;32mdef\u001b[0m \u001b[0m_getitem_column\u001b[0m\u001b[0;34m(\u001b[0m\u001b[0mself\u001b[0m\u001b[0;34m,\u001b[0m \u001b[0mkey\u001b[0m\u001b[0;34m)\u001b[0m\u001b[0;34m:\u001b[0m\u001b[0;34m\u001b[0m\u001b[0m\n",
      "\u001b[0;32m/anaconda3/envs/dsi/lib/python3.6/site-packages/pandas/core/frame.py\u001b[0m in \u001b[0;36m_getitem_column\u001b[0;34m(self, key)\u001b[0m\n\u001b[1;32m   2144\u001b[0m         \u001b[0;31m# get column\u001b[0m\u001b[0;34m\u001b[0m\u001b[0;34m\u001b[0m\u001b[0m\n\u001b[1;32m   2145\u001b[0m         \u001b[0;32mif\u001b[0m \u001b[0mself\u001b[0m\u001b[0;34m.\u001b[0m\u001b[0mcolumns\u001b[0m\u001b[0;34m.\u001b[0m\u001b[0mis_unique\u001b[0m\u001b[0;34m:\u001b[0m\u001b[0;34m\u001b[0m\u001b[0m\n\u001b[0;32m-> 2146\u001b[0;31m             \u001b[0;32mreturn\u001b[0m \u001b[0mself\u001b[0m\u001b[0;34m.\u001b[0m\u001b[0m_get_item_cache\u001b[0m\u001b[0;34m(\u001b[0m\u001b[0mkey\u001b[0m\u001b[0;34m)\u001b[0m\u001b[0;34m\u001b[0m\u001b[0m\n\u001b[0m\u001b[1;32m   2147\u001b[0m \u001b[0;34m\u001b[0m\u001b[0m\n\u001b[1;32m   2148\u001b[0m         \u001b[0;31m# duplicate columns & possible reduce dimensionality\u001b[0m\u001b[0;34m\u001b[0m\u001b[0;34m\u001b[0m\u001b[0m\n",
      "\u001b[0;32m/anaconda3/envs/dsi/lib/python3.6/site-packages/pandas/core/generic.py\u001b[0m in \u001b[0;36m_get_item_cache\u001b[0;34m(self, item)\u001b[0m\n\u001b[1;32m   1840\u001b[0m         \u001b[0mres\u001b[0m \u001b[0;34m=\u001b[0m \u001b[0mcache\u001b[0m\u001b[0;34m.\u001b[0m\u001b[0mget\u001b[0m\u001b[0;34m(\u001b[0m\u001b[0mitem\u001b[0m\u001b[0;34m)\u001b[0m\u001b[0;34m\u001b[0m\u001b[0m\n\u001b[1;32m   1841\u001b[0m         \u001b[0;32mif\u001b[0m \u001b[0mres\u001b[0m \u001b[0;32mis\u001b[0m \u001b[0;32mNone\u001b[0m\u001b[0;34m:\u001b[0m\u001b[0;34m\u001b[0m\u001b[0m\n\u001b[0;32m-> 1842\u001b[0;31m             \u001b[0mvalues\u001b[0m \u001b[0;34m=\u001b[0m \u001b[0mself\u001b[0m\u001b[0;34m.\u001b[0m\u001b[0m_data\u001b[0m\u001b[0;34m.\u001b[0m\u001b[0mget\u001b[0m\u001b[0;34m(\u001b[0m\u001b[0mitem\u001b[0m\u001b[0;34m)\u001b[0m\u001b[0;34m\u001b[0m\u001b[0m\n\u001b[0m\u001b[1;32m   1843\u001b[0m             \u001b[0mres\u001b[0m \u001b[0;34m=\u001b[0m \u001b[0mself\u001b[0m\u001b[0;34m.\u001b[0m\u001b[0m_box_item_values\u001b[0m\u001b[0;34m(\u001b[0m\u001b[0mitem\u001b[0m\u001b[0;34m,\u001b[0m \u001b[0mvalues\u001b[0m\u001b[0;34m)\u001b[0m\u001b[0;34m\u001b[0m\u001b[0m\n\u001b[1;32m   1844\u001b[0m             \u001b[0mcache\u001b[0m\u001b[0;34m[\u001b[0m\u001b[0mitem\u001b[0m\u001b[0;34m]\u001b[0m \u001b[0;34m=\u001b[0m \u001b[0mres\u001b[0m\u001b[0;34m\u001b[0m\u001b[0m\n",
      "\u001b[0;32m/anaconda3/envs/dsi/lib/python3.6/site-packages/pandas/core/internals.py\u001b[0m in \u001b[0;36mget\u001b[0;34m(self, item, fastpath)\u001b[0m\n\u001b[1;32m   3841\u001b[0m \u001b[0;34m\u001b[0m\u001b[0m\n\u001b[1;32m   3842\u001b[0m             \u001b[0;32mif\u001b[0m \u001b[0;32mnot\u001b[0m \u001b[0misna\u001b[0m\u001b[0;34m(\u001b[0m\u001b[0mitem\u001b[0m\u001b[0;34m)\u001b[0m\u001b[0;34m:\u001b[0m\u001b[0;34m\u001b[0m\u001b[0m\n\u001b[0;32m-> 3843\u001b[0;31m                 \u001b[0mloc\u001b[0m \u001b[0;34m=\u001b[0m \u001b[0mself\u001b[0m\u001b[0;34m.\u001b[0m\u001b[0mitems\u001b[0m\u001b[0;34m.\u001b[0m\u001b[0mget_loc\u001b[0m\u001b[0;34m(\u001b[0m\u001b[0mitem\u001b[0m\u001b[0;34m)\u001b[0m\u001b[0;34m\u001b[0m\u001b[0m\n\u001b[0m\u001b[1;32m   3844\u001b[0m             \u001b[0;32melse\u001b[0m\u001b[0;34m:\u001b[0m\u001b[0;34m\u001b[0m\u001b[0m\n\u001b[1;32m   3845\u001b[0m                 \u001b[0mindexer\u001b[0m \u001b[0;34m=\u001b[0m \u001b[0mnp\u001b[0m\u001b[0;34m.\u001b[0m\u001b[0marange\u001b[0m\u001b[0;34m(\u001b[0m\u001b[0mlen\u001b[0m\u001b[0;34m(\u001b[0m\u001b[0mself\u001b[0m\u001b[0;34m.\u001b[0m\u001b[0mitems\u001b[0m\u001b[0;34m)\u001b[0m\u001b[0;34m)\u001b[0m\u001b[0;34m[\u001b[0m\u001b[0misna\u001b[0m\u001b[0;34m(\u001b[0m\u001b[0mself\u001b[0m\u001b[0;34m.\u001b[0m\u001b[0mitems\u001b[0m\u001b[0;34m)\u001b[0m\u001b[0;34m]\u001b[0m\u001b[0;34m\u001b[0m\u001b[0m\n",
      "\u001b[0;32m/anaconda3/envs/dsi/lib/python3.6/site-packages/pandas/core/indexes/base.py\u001b[0m in \u001b[0;36mget_loc\u001b[0;34m(self, key, method, tolerance)\u001b[0m\n\u001b[1;32m   2525\u001b[0m                 \u001b[0;32mreturn\u001b[0m \u001b[0mself\u001b[0m\u001b[0;34m.\u001b[0m\u001b[0m_engine\u001b[0m\u001b[0;34m.\u001b[0m\u001b[0mget_loc\u001b[0m\u001b[0;34m(\u001b[0m\u001b[0mkey\u001b[0m\u001b[0;34m)\u001b[0m\u001b[0;34m\u001b[0m\u001b[0m\n\u001b[1;32m   2526\u001b[0m             \u001b[0;32mexcept\u001b[0m \u001b[0mKeyError\u001b[0m\u001b[0;34m:\u001b[0m\u001b[0;34m\u001b[0m\u001b[0m\n\u001b[0;32m-> 2527\u001b[0;31m                 \u001b[0;32mreturn\u001b[0m \u001b[0mself\u001b[0m\u001b[0;34m.\u001b[0m\u001b[0m_engine\u001b[0m\u001b[0;34m.\u001b[0m\u001b[0mget_loc\u001b[0m\u001b[0;34m(\u001b[0m\u001b[0mself\u001b[0m\u001b[0;34m.\u001b[0m\u001b[0m_maybe_cast_indexer\u001b[0m\u001b[0;34m(\u001b[0m\u001b[0mkey\u001b[0m\u001b[0;34m)\u001b[0m\u001b[0;34m)\u001b[0m\u001b[0;34m\u001b[0m\u001b[0m\n\u001b[0m\u001b[1;32m   2528\u001b[0m \u001b[0;34m\u001b[0m\u001b[0m\n\u001b[1;32m   2529\u001b[0m         \u001b[0mindexer\u001b[0m \u001b[0;34m=\u001b[0m \u001b[0mself\u001b[0m\u001b[0;34m.\u001b[0m\u001b[0mget_indexer\u001b[0m\u001b[0;34m(\u001b[0m\u001b[0;34m[\u001b[0m\u001b[0mkey\u001b[0m\u001b[0;34m]\u001b[0m\u001b[0;34m,\u001b[0m \u001b[0mmethod\u001b[0m\u001b[0;34m=\u001b[0m\u001b[0mmethod\u001b[0m\u001b[0;34m,\u001b[0m \u001b[0mtolerance\u001b[0m\u001b[0;34m=\u001b[0m\u001b[0mtolerance\u001b[0m\u001b[0;34m)\u001b[0m\u001b[0;34m\u001b[0m\u001b[0m\n",
      "\u001b[0;32mpandas/_libs/index.pyx\u001b[0m in \u001b[0;36mpandas._libs.index.IndexEngine.get_loc\u001b[0;34m()\u001b[0m\n",
      "\u001b[0;32mpandas/_libs/index.pyx\u001b[0m in \u001b[0;36mpandas._libs.index.IndexEngine.get_loc\u001b[0;34m()\u001b[0m\n",
      "\u001b[0;32mpandas/_libs/hashtable_class_helper.pxi\u001b[0m in \u001b[0;36mpandas._libs.hashtable.PyObjectHashTable.get_item\u001b[0;34m()\u001b[0m\n",
      "\u001b[0;32mpandas/_libs/hashtable_class_helper.pxi\u001b[0m in \u001b[0;36mpandas._libs.hashtable.PyObjectHashTable.get_item\u001b[0;34m()\u001b[0m\n",
      "\u001b[0;31mKeyError\u001b[0m: 'distances'"
     ]
    }
   ],
   "source": [
    "df_all[df_all['distances'].isnull()==True]"
   ]
  },
  {
   "cell_type": "markdown",
   "metadata": {},
   "source": [
    "### Adding labels to stances"
   ]
  },
  {
   "cell_type": "code",
   "execution_count": 37,
   "metadata": {},
   "outputs": [],
   "source": [
    "from sklearn import preprocessing"
   ]
  },
  {
   "cell_type": "code",
   "execution_count": 38,
   "metadata": {},
   "outputs": [
    {
     "name": "stdout",
     "output_type": "stream",
     "text": [
      "Classes: ['agree', 'disagree', 'discuss', 'unrelated']\n"
     ]
    }
   ],
   "source": [
    "le = preprocessing.LabelEncoder()\n",
    "le.fit(df_all['Stance'])\n",
    "print(\"Classes:\", list(le.classes_))\n",
    "stance_label = le.transform(df_all['Stance']) \n"
   ]
  },
  {
   "cell_type": "code",
   "execution_count": 39,
   "metadata": {
    "scrolled": true
   },
   "outputs": [
    {
     "data": {
      "text/plain": [
       "array([3, 2, 3, ..., 0, 2, 2])"
      ]
     },
     "execution_count": 39,
     "metadata": {},
     "output_type": "execute_result"
    }
   ],
   "source": [
    "stance_label"
   ]
  },
  {
   "cell_type": "code",
   "execution_count": 40,
   "metadata": {},
   "outputs": [],
   "source": [
    "df_all['stance_dummy'] = pd.Series(stance_label)"
   ]
  },
  {
   "cell_type": "code",
   "execution_count": 41,
   "metadata": {},
   "outputs": [
    {
     "data": {
      "text/html": [
       "<div>\n",
       "<style scoped>\n",
       "    .dataframe tbody tr th:only-of-type {\n",
       "        vertical-align: middle;\n",
       "    }\n",
       "\n",
       "    .dataframe tbody tr th {\n",
       "        vertical-align: top;\n",
       "    }\n",
       "\n",
       "    .dataframe thead th {\n",
       "        text-align: right;\n",
       "    }\n",
       "</style>\n",
       "<table border=\"1\" class=\"dataframe\">\n",
       "  <thead>\n",
       "    <tr style=\"text-align: right;\">\n",
       "      <th></th>\n",
       "      <th>Headline</th>\n",
       "      <th>Body ID</th>\n",
       "      <th>Stance</th>\n",
       "      <th>articleBody</th>\n",
       "      <th>stance_dummy</th>\n",
       "    </tr>\n",
       "  </thead>\n",
       "  <tbody>\n",
       "    <tr>\n",
       "      <th>0</th>\n",
       "      <td>Police find mass graves with at least '15 bodi...</td>\n",
       "      <td>712</td>\n",
       "      <td>unrelated</td>\n",
       "      <td>Danny Boyle is directing the untitled film\\n\\n...</td>\n",
       "      <td>3</td>\n",
       "    </tr>\n",
       "    <tr>\n",
       "      <th>1</th>\n",
       "      <td>Seth Rogen to Play Apple’s Steve Wozniak</td>\n",
       "      <td>712</td>\n",
       "      <td>discuss</td>\n",
       "      <td>Danny Boyle is directing the untitled film\\n\\n...</td>\n",
       "      <td>2</td>\n",
       "    </tr>\n",
       "    <tr>\n",
       "      <th>2</th>\n",
       "      <td>Mexico police find mass grave near site 43 stu...</td>\n",
       "      <td>712</td>\n",
       "      <td>unrelated</td>\n",
       "      <td>Danny Boyle is directing the untitled film\\n\\n...</td>\n",
       "      <td>3</td>\n",
       "    </tr>\n",
       "    <tr>\n",
       "      <th>3</th>\n",
       "      <td>Mexico Says Missing Students Not Found In Firs...</td>\n",
       "      <td>712</td>\n",
       "      <td>unrelated</td>\n",
       "      <td>Danny Boyle is directing the untitled film\\n\\n...</td>\n",
       "      <td>3</td>\n",
       "    </tr>\n",
       "    <tr>\n",
       "      <th>4</th>\n",
       "      <td>New iOS 8 bug can delete all of your iCloud do...</td>\n",
       "      <td>712</td>\n",
       "      <td>unrelated</td>\n",
       "      <td>Danny Boyle is directing the untitled film\\n\\n...</td>\n",
       "      <td>3</td>\n",
       "    </tr>\n",
       "  </tbody>\n",
       "</table>\n",
       "</div>"
      ],
      "text/plain": [
       "                                            Headline  Body ID     Stance  \\\n",
       "0  Police find mass graves with at least '15 bodi...      712  unrelated   \n",
       "1           Seth Rogen to Play Apple’s Steve Wozniak      712    discuss   \n",
       "2  Mexico police find mass grave near site 43 stu...      712  unrelated   \n",
       "3  Mexico Says Missing Students Not Found In Firs...      712  unrelated   \n",
       "4  New iOS 8 bug can delete all of your iCloud do...      712  unrelated   \n",
       "\n",
       "                                         articleBody  stance_dummy  \n",
       "0  Danny Boyle is directing the untitled film\\n\\n...             3  \n",
       "1  Danny Boyle is directing the untitled film\\n\\n...             2  \n",
       "2  Danny Boyle is directing the untitled film\\n\\n...             3  \n",
       "3  Danny Boyle is directing the untitled film\\n\\n...             3  \n",
       "4  Danny Boyle is directing the untitled film\\n\\n...             3  "
      ]
     },
     "execution_count": 41,
     "metadata": {},
     "output_type": "execute_result"
    }
   ],
   "source": [
    "df_all.head()"
   ]
  },
  {
   "cell_type": "code",
   "execution_count": 42,
   "metadata": {},
   "outputs": [
    {
     "data": {
      "text/html": [
       "<div>\n",
       "<style scoped>\n",
       "    .dataframe tbody tr th:only-of-type {\n",
       "        vertical-align: middle;\n",
       "    }\n",
       "\n",
       "    .dataframe tbody tr th {\n",
       "        vertical-align: top;\n",
       "    }\n",
       "\n",
       "    .dataframe thead th {\n",
       "        text-align: right;\n",
       "    }\n",
       "</style>\n",
       "<table border=\"1\" class=\"dataframe\">\n",
       "  <thead>\n",
       "    <tr style=\"text-align: right;\">\n",
       "      <th></th>\n",
       "      <th>agree</th>\n",
       "      <th>disagree</th>\n",
       "      <th>discuss</th>\n",
       "      <th>unrelated</th>\n",
       "    </tr>\n",
       "  </thead>\n",
       "  <tbody>\n",
       "    <tr>\n",
       "      <th>0</th>\n",
       "      <td>0</td>\n",
       "      <td>0</td>\n",
       "      <td>0</td>\n",
       "      <td>1</td>\n",
       "    </tr>\n",
       "    <tr>\n",
       "      <th>1</th>\n",
       "      <td>0</td>\n",
       "      <td>0</td>\n",
       "      <td>1</td>\n",
       "      <td>0</td>\n",
       "    </tr>\n",
       "    <tr>\n",
       "      <th>2</th>\n",
       "      <td>0</td>\n",
       "      <td>0</td>\n",
       "      <td>0</td>\n",
       "      <td>1</td>\n",
       "    </tr>\n",
       "    <tr>\n",
       "      <th>3</th>\n",
       "      <td>0</td>\n",
       "      <td>0</td>\n",
       "      <td>0</td>\n",
       "      <td>1</td>\n",
       "    </tr>\n",
       "    <tr>\n",
       "      <th>4</th>\n",
       "      <td>0</td>\n",
       "      <td>0</td>\n",
       "      <td>0</td>\n",
       "      <td>1</td>\n",
       "    </tr>\n",
       "  </tbody>\n",
       "</table>\n",
       "</div>"
      ],
      "text/plain": [
       "   agree  disagree  discuss  unrelated\n",
       "0      0         0        0          1\n",
       "1      0         0        1          0\n",
       "2      0         0        0          1\n",
       "3      0         0        0          1\n",
       "4      0         0        0          1"
      ]
     },
     "execution_count": 42,
     "metadata": {},
     "output_type": "execute_result"
    }
   ],
   "source": [
    "stance_dummy = pd.get_dummies(df_all['Stance'], drop_first=False)\n",
    "stance_dummy.head()"
   ]
  },
  {
   "cell_type": "code",
   "execution_count": 48,
   "metadata": {},
   "outputs": [
    {
     "data": {
      "text/html": [
       "<div>\n",
       "<style scoped>\n",
       "    .dataframe tbody tr th:only-of-type {\n",
       "        vertical-align: middle;\n",
       "    }\n",
       "\n",
       "    .dataframe tbody tr th {\n",
       "        vertical-align: top;\n",
       "    }\n",
       "\n",
       "    .dataframe thead th {\n",
       "        text-align: right;\n",
       "    }\n",
       "</style>\n",
       "<table border=\"1\" class=\"dataframe\">\n",
       "  <thead>\n",
       "    <tr style=\"text-align: right;\">\n",
       "      <th></th>\n",
       "      <th>distances</th>\n",
       "      <th>stance_dummy</th>\n",
       "    </tr>\n",
       "  </thead>\n",
       "  <tbody>\n",
       "    <tr>\n",
       "      <th>0</th>\n",
       "      <td>0.848807</td>\n",
       "      <td>3.0</td>\n",
       "    </tr>\n",
       "    <tr>\n",
       "      <th>1</th>\n",
       "      <td>0.954702</td>\n",
       "      <td>2.0</td>\n",
       "    </tr>\n",
       "    <tr>\n",
       "      <th>2</th>\n",
       "      <td>0.841187</td>\n",
       "      <td>3.0</td>\n",
       "    </tr>\n",
       "    <tr>\n",
       "      <th>3</th>\n",
       "      <td>0.768969</td>\n",
       "      <td>3.0</td>\n",
       "    </tr>\n",
       "    <tr>\n",
       "      <th>4</th>\n",
       "      <td>1.033323</td>\n",
       "      <td>3.0</td>\n",
       "    </tr>\n",
       "  </tbody>\n",
       "</table>\n",
       "</div>"
      ],
      "text/plain": [
       "   distances  stance_dummy\n",
       "0   0.848807           3.0\n",
       "1   0.954702           2.0\n",
       "2   0.841187           3.0\n",
       "3   0.768969           3.0\n",
       "4   1.033323           3.0"
      ]
     },
     "execution_count": 48,
     "metadata": {},
     "output_type": "execute_result"
    }
   ],
   "source": [
    "df_fix = pd.DataFrame([df_all['distances'], df_all['stance_dummy']]).T\n",
    "df_fix = df_fix.dropna(axis=0)\n",
    "df_fix.head()"
   ]
  },
  {
   "cell_type": "code",
   "execution_count": 49,
   "metadata": {},
   "outputs": [],
   "source": [
    "from sklearn.model_selection import train_test_split"
   ]
  },
  {
   "cell_type": "code",
   "execution_count": 50,
   "metadata": {},
   "outputs": [
    {
     "name": "stderr",
     "output_type": "stream",
     "text": [
      "/anaconda3/envs/dsi/lib/python3.6/site-packages/ipykernel/__main__.py:1: FutureWarning: reshape is deprecated and will raise in a subsequent release. Please use .values.reshape(...) instead\n",
      "  if __name__ == '__main__':\n"
     ]
    }
   ],
   "source": [
    "X = df_fix['distances'].reshape(df_fix['distances'].shape[0], 1)\n",
    "y = df_fix['stance_dummy']\n",
    "\n",
    "X_train, X_test, y_train, y_test = train_test_split(X, y)"
   ]
  },
  {
   "cell_type": "code",
   "execution_count": 51,
   "metadata": {},
   "outputs": [
    {
     "data": {
      "text/plain": [
       "((37477, 1), (12493, 1), (37477,), (12493,))"
      ]
     },
     "execution_count": 51,
     "metadata": {},
     "output_type": "execute_result"
    }
   ],
   "source": [
    "X_train.shape, X_test.shape, y_train.shape, y_test.shape"
   ]
  },
  {
   "cell_type": "code",
   "execution_count": null,
   "metadata": {
    "scrolled": true
   },
   "outputs": [],
   "source": [
    "lr = LogisticRegression()\n",
    "lr.fit(X_train, y_train)\n",
    "lr.score(X_train, y_train)"
   ]
  },
  {
   "cell_type": "code",
   "execution_count": null,
   "metadata": {},
   "outputs": [],
   "source": [
    "lr.score(X_test, y_test)"
   ]
  },
  {
   "cell_type": "code",
   "execution_count": null,
   "metadata": {},
   "outputs": [],
   "source": [
    "from sklearn.ensemble import RandomForestClassifier\n",
    "rf = RandomForestClassifier()\n",
    "rf.fit(X_train, y_train)\n",
    "rf.score(X_train, y_train)"
   ]
  },
  {
   "cell_type": "code",
   "execution_count": null,
   "metadata": {},
   "outputs": [],
   "source": [
    "rf.score(X_test, y_test)"
   ]
  },
  {
   "cell_type": "code",
   "execution_count": null,
   "metadata": {},
   "outputs": [],
   "source": [
    "np.unique(y_train)"
   ]
  },
  {
   "cell_type": "markdown",
   "metadata": {},
   "source": [
    "### ROC Curve"
   ]
  },
  {
   "cell_type": "code",
   "execution_count": null,
   "metadata": {},
   "outputs": [],
   "source": [
    "from sklearn.metrics import roc_auc_score"
   ]
  },
  {
   "cell_type": "code",
   "execution_count": null,
   "metadata": {},
   "outputs": [],
   "source": [
    "y_probas = lr.predict_proba(X_train)\n",
    "y_true = y_train\n",
    "\n",
    "import scikitplot as skplt\n",
    "import matplotlib.pyplot as plt\n",
    "\n",
    "skplt.metrics.plot_roc(y_true, y_probas, figsize=(7,7))\n",
    "plt.show()"
   ]
  },
  {
   "cell_type": "code",
   "execution_count": null,
   "metadata": {},
   "outputs": [],
   "source": [
    "y_true.unique(), y_true.shape"
   ]
  },
  {
   "cell_type": "code",
   "execution_count": null,
   "metadata": {},
   "outputs": [],
   "source": [
    "np.unique(y_probas), y_probas.shape"
   ]
  },
  {
   "cell_type": "code",
   "execution_count": null,
   "metadata": {
    "scrolled": true
   },
   "outputs": [],
   "source": [
    "y_probas"
   ]
  },
  {
   "cell_type": "code",
   "execution_count": null,
   "metadata": {},
   "outputs": [],
   "source": [
    "from imblearn.over_sampling import RandomOverSampler"
   ]
  },
  {
   "cell_type": "code",
   "execution_count": null,
   "metadata": {},
   "outputs": [],
   "source": [
    "ros = RandomOverSampler(random_state=0)\n",
    "X_resampled, y_resampled = ros.fit_sample(X, y)\n",
    "from collections import Counter\n",
    "print(sorted(Counter(y_resampled).items()))"
   ]
  },
  {
   "cell_type": "code",
   "execution_count": null,
   "metadata": {
    "scrolled": true
   },
   "outputs": [],
   "source": [
    "lr = LogisticRegression()\n",
    "lr.fit(X_resampled, y_resampled)\n",
    "lr.score(X_resampled, y_resampled)"
   ]
  },
  {
   "cell_type": "markdown",
   "metadata": {},
   "source": [
    "# Model with cvec body, cvec head, and cosine similarity"
   ]
  },
  {
   "cell_type": "code",
   "execution_count": null,
   "metadata": {
    "scrolled": true
   },
   "outputs": [],
   "source": [
    "cvec_vector = CountVectorizer(stop_words='english')\n",
    "\n",
    "cvec_articleBody_matrix_sparse = cvec_vector.fit_transform(df_all['articleBody'])\n",
    "cvec_articleBody_matrix_sparse"
   ]
  },
  {
   "cell_type": "code",
   "execution_count": null,
   "metadata": {},
   "outputs": [],
   "source": [
    "cvec_body_array = cvec_articleBody_matrix_sparse.toarray()"
   ]
  },
  {
   "cell_type": "code",
   "execution_count": null,
   "metadata": {},
   "outputs": [],
   "source": [
    "df_cvec = pd.DataFrame(cvec_body_array)"
   ]
  },
  {
   "cell_type": "code",
   "execution_count": null,
   "metadata": {},
   "outputs": [],
   "source": [
    "df_cvec.head()"
   ]
  },
  {
   "cell_type": "code",
   "execution_count": null,
   "metadata": {
    "scrolled": true
   },
   "outputs": [],
   "source": [
    "cvec_vector = CountVectorizer(stop_words='english')\n",
    "\n",
    "cvec_headline_matrix_sparse = cvec_vector.fit_transform(df_all['Headline'])\n",
    "\n",
    "cvec_headline_matrix_sparse"
   ]
  },
  {
   "cell_type": "code",
   "execution_count": null,
   "metadata": {},
   "outputs": [],
   "source": [
    "cvec_vector.get_feature_names"
   ]
  },
  {
   "cell_type": "code",
   "execution_count": null,
   "metadata": {},
   "outputs": [],
   "source": [
    "cvec_headline_df = pd.DataFrame(cvec_headline_matrix_sparse.todense(),\n",
    "                       columns = cvec_vector.get_feature_names())\n"
   ]
  },
  {
   "cell_type": "code",
   "execution_count": null,
   "metadata": {},
   "outputs": [],
   "source": [
    "cvec_headline_df.shape"
   ]
  },
  {
   "cell_type": "code",
   "execution_count": null,
   "metadata": {},
   "outputs": [],
   "source": [
    "df_fix.shape"
   ]
  },
  {
   "cell_type": "code",
   "execution_count": null,
   "metadata": {},
   "outputs": [],
   "source": [
    "df_headline_fix = pd.concat([df_fix, cvec_headline_df], axis=1)"
   ]
  },
  {
   "cell_type": "code",
   "execution_count": null,
   "metadata": {},
   "outputs": [],
   "source": [
    "df_headline_fix.fillna(value=0, inplace=True)"
   ]
  },
  {
   "cell_type": "code",
   "execution_count": null,
   "metadata": {},
   "outputs": [],
   "source": [
    "features = [col for col in df_headline_fix.columns if col != 'stance_dummy']"
   ]
  },
  {
   "cell_type": "code",
   "execution_count": null,
   "metadata": {},
   "outputs": [],
   "source": [
    "X = df_headline_fix[features]\n",
    "y = df_headline_fix['stance_dummy']\n",
    "\n",
    "X_train, X_test, y_train, y_test = train_test_split(X, y)"
   ]
  },
  {
   "cell_type": "code",
   "execution_count": null,
   "metadata": {},
   "outputs": [],
   "source": [
    "lr = LogisticRegression()\n",
    "lr.fit(X_train, y_train)\n",
    "lr.score(X_train, y_train)"
   ]
  },
  {
   "cell_type": "code",
   "execution_count": null,
   "metadata": {},
   "outputs": [],
   "source": [
    "lr.score(X_test, y_test)"
   ]
  },
  {
   "cell_type": "code",
   "execution_count": null,
   "metadata": {},
   "outputs": [],
   "source": [
    "from sklearn.ensemble import RandomForestClassifier\n",
    "rf = RandomForestClassifier()\n",
    "rf.fit(X_train, y_train)\n",
    "rf.score(X_train, y_train)"
   ]
  },
  {
   "cell_type": "code",
   "execution_count": null,
   "metadata": {},
   "outputs": [],
   "source": [
    "rf.score(X_test, y_test)"
   ]
  },
  {
   "cell_type": "markdown",
   "metadata": {},
   "source": [
    "## GloVe\n"
   ]
  },
  {
   "cell_type": "code",
   "execution_count": 69,
   "metadata": {
    "scrolled": true
   },
   "outputs": [
    {
     "name": "stdout",
     "output_type": "stream",
     "text": [
      "Found 3879 unique tokens/words\n",
      "The maximum word index is 24999\n"
     ]
    }
   ],
   "source": [
    "from keras.preprocessing.text import Tokenizer\n",
    "from keras.preprocessing.sequence import pad_sequences\n",
    "import numpy as np\n",
    "\n",
    "max_sequence_length = 50   # max number of words to consider in a review (i.e. the first 50...)\n",
    "max_num_words = 4000       # maximum number of words to include in the vocabulary (i.e. top 10000 only)\n",
    "\n",
    "# Instantiate the Tokenizer\n",
    "tokenizer = Tokenizer(num_words=max_num_words)\n",
    "\n",
    "# Fit the tokenizer, i.e. learn the vocab and id the most frequently occuring words\n",
    "tokenizer.fit_on_texts(df_all['Headline'].values)\n",
    "\n",
    "# Turn our texts to sequences of word indices\n",
    "sequences = tokenizer.texts_to_sequences(df_all['Headline'].values)\n",
    "\n",
    "# Save the look-up dictionary for words to indices (will need this later)\n",
    "word_index = tokenizer.word_index\n",
    "\n",
    "# Pad out our sequences by prepending zeros to all of our text sequences\n",
    "padded_sequences_headline = pad_sequences(sequences, maxlen=max_sequence_length)\n",
    "\n",
    "print(f'Found {len(word_index)} unique tokens/words')\n",
    "print(f'The maximum word index is {padded_sequences.max()}')"
   ]
  },
  {
   "cell_type": "code",
   "execution_count": 70,
   "metadata": {},
   "outputs": [
    {
     "data": {
      "text/plain": [
       "(49972, 50)"
      ]
     },
     "execution_count": 70,
     "metadata": {},
     "output_type": "execute_result"
    }
   ],
   "source": [
    "padded_sequences_headline.shape"
   ]
  },
  {
   "cell_type": "code",
   "execution_count": 71,
   "metadata": {
    "scrolled": true
   },
   "outputs": [
    {
     "data": {
      "text/plain": [
       "array([   0,    0,    0,    0,    0,    0,    0,    0,    0,    0,    0,\n",
       "          0,    0,    0,    0,    0,    0,    0,    0,    0,    0,    0,\n",
       "          0,    0,    0,    0,    0,    0,    0,    0,    0,  248,  540,\n",
       "        133,  361,   14,   12,  173, 2481, 2482,  206,  118, 1223, 1341,\n",
       "        674,  143, 2483,   13,  248, 2484], dtype=int32)"
      ]
     },
     "execution_count": 71,
     "metadata": {},
     "output_type": "execute_result"
    }
   ],
   "source": [
    "padded_sequences_headline[0,:]"
   ]
  },
  {
   "cell_type": "code",
   "execution_count": 79,
   "metadata": {},
   "outputs": [
    {
     "name": "stdout",
     "output_type": "stream",
     "text": [
      "Found 27427 unique tokens/words\n",
      "The maximum word index is 24999\n"
     ]
    }
   ],
   "source": [
    "max_sequence_length = 200   # max number of words to consider in a review (i.e. the first 50...)\n",
    "max_num_words = 4000       # maximum number of words to include in the vocabulary (i.e. top 10000 only)\n",
    "\n",
    "# Instantiate the Tokenizer\n",
    "tokenizer = Tokenizer(num_words=max_num_words)\n",
    "\n",
    "# Fit the tokenizer, i.e. learn the vocab and id the most frequently occuring words\n",
    "tokenizer.fit_on_texts(df_all['articleBody'].values)\n",
    "\n",
    "# Turn our texts to sequences of word indices\n",
    "sequences = tokenizer.texts_to_sequences(df_all['articleBody'].values)\n",
    "\n",
    "# Save the look-up dictionary for words to indices (will need this later)\n",
    "word_index = tokenizer.word_index\n",
    "\n",
    "# Pad out our sequences by prepending zeros to all of our text sequences\n",
    "padded_sequences_articleBody = pad_sequences(sequences, maxlen=max_sequence_length)\n",
    "\n",
    "print(f'Found {len(word_index)} unique tokens/words')\n",
    "print(f'The maximum word index is {padded_sequences.max()}')"
   ]
  },
  {
   "cell_type": "code",
   "execution_count": 80,
   "metadata": {},
   "outputs": [
    {
     "data": {
      "text/plain": [
       "(49972, 200)"
      ]
     },
     "execution_count": 80,
     "metadata": {},
     "output_type": "execute_result"
    }
   ],
   "source": [
    "padded_sequences_articleBody.shape"
   ]
  },
  {
   "cell_type": "code",
   "execution_count": 81,
   "metadata": {
    "scrolled": true
   },
   "outputs": [
    {
     "data": {
      "text/plain": [
       "array([   0,    0,    0,    0,    0,    0,    0,    0,    0,    0,    0,\n",
       "          0,    0,    0,    0,    0,    0,    0,    0,    0,    0,    0,\n",
       "          0,    0,    0,    0,    0,    0,    0,    0,    0,    0,    0,\n",
       "       1961, 1800,    8,    1,  473, 2509, 1702,    8,   83,    2,  688,\n",
       "         45,  528, 1102,  524, 2033,    5,  524,  381, 1542, 1961, 1800,\n",
       "          8,    1,  473,  291,   10, 2300, 3475,  912,    6,   19, 1626,\n",
       "        935,   42,    8,   40,    4,    1,  169, 2848,    5,  312,  133,\n",
       "       1155,   17,   25,  317, 3047,    6,  186,   25,  115,  521,   64,\n",
       "       1702,   20,   24,  145,  988,   29,    1, 3300,   87, 3533,    6,\n",
       "        565, 2432,   87,   17,  314,   50,   10,    1,    6,   26,    5,\n",
       "        729,    4,  996,   30,  110,   57,   23,   11,   18,  868,  564,\n",
       "          1,  677,   32,    8,    2,  688,  381,    8,  142,    5,    1,\n",
       "          4,   16,  645,  246,  132,    7, 1624,    8,    5,    3, 1772,\n",
       "        132, 1800,   38,    8, 1287,    2, 2897, 3026,    2, 1382,   14,\n",
       "          2,  688,   40,    4,    1,  827, 3389,   24, 3951,    2,  381,\n",
       "        132,    7,    8,   40,    4,    1,   10,    1,  791, 1264, 2033,\n",
       "        198,   18,  528,   45,   14,  381,    6,   13,   81,  858,  381,\n",
       "         53,   33,  959,   22,    6,  223,    9, 1066,   11, 2807,    1,\n",
       "        376,   45], dtype=int32)"
      ]
     },
     "execution_count": 81,
     "metadata": {},
     "output_type": "execute_result"
    }
   ],
   "source": [
    "padded_sequences_articleBody[0,:]"
   ]
  },
  {
   "cell_type": "code",
   "execution_count": 82,
   "metadata": {},
   "outputs": [
    {
     "data": {
      "text/plain": [
       "(49972, 250)"
      ]
     },
     "execution_count": 82,
     "metadata": {},
     "output_type": "execute_result"
    }
   ],
   "source": [
    "padded_sequences = np.concatenate((padded_sequences_headline, padded_sequences_articleBody), axis=1)\n",
    "padded_sequences.shape"
   ]
  },
  {
   "cell_type": "code",
   "execution_count": 83,
   "metadata": {},
   "outputs": [
    {
     "data": {
      "text/plain": [
       "(49972,)"
      ]
     },
     "execution_count": 83,
     "metadata": {},
     "output_type": "execute_result"
    }
   ],
   "source": [
    "df_all['stance_dummy'].shape"
   ]
  },
  {
   "cell_type": "code",
   "execution_count": 84,
   "metadata": {},
   "outputs": [
    {
     "data": {
      "text/plain": [
       "((33481, 250), (33481,))"
      ]
     },
     "execution_count": 84,
     "metadata": {},
     "output_type": "execute_result"
    }
   ],
   "source": [
    "# Train, test split, baby...\n",
    "from sklearn.model_selection import train_test_split\n",
    "\n",
    "X_train, X_test, y_train, y_test = train_test_split(padded_sequences, df_all['stance_dummy'], test_size=0.33, random_state=42)\n",
    "\n",
    "X_train.shape, y_train.shape"
   ]
  },
  {
   "cell_type": "code",
   "execution_count": 85,
   "metadata": {},
   "outputs": [
    {
     "name": "stdout",
     "output_type": "stream",
     "text": [
      "Found 400000 word vectors\n"
     ]
    }
   ],
   "source": [
    "import numpy as np\n",
    "\n",
    "glove_dir = './glove.6B'\n",
    "\n",
    "embeddings_index = {}\n",
    "\n",
    "with open(os.path.join(glove_dir, 'glove.6B.100d.txt')) as f:\n",
    "    for line in f:\n",
    "        values = line.split()\n",
    "        word = values[0]\n",
    "        coefs = np.asarray(values[1:], dtype='float32')\n",
    "        embeddings_index[word] = coefs\n",
    "        \n",
    "print(f'Found {len(embeddings_index)} word vectors')"
   ]
  },
  {
   "cell_type": "code",
   "execution_count": 86,
   "metadata": {},
   "outputs": [],
   "source": [
    "embedding_dim = 100\n",
    "\n",
    "embedding_matrix = np.zeros((max_num_words, embedding_dim))\n",
    "for word, index in word_index.items():\n",
    "    if index < max_num_words:\n",
    "        # Using \"get\" with the dict is a safe way to avoid missing key errors\n",
    "        embedding_vector = embeddings_index.get(word) \n",
    "        if embedding_vector is not None:\n",
    "            embedding_matrix[index] = embedding_vector"
   ]
  },
  {
   "cell_type": "code",
   "execution_count": 87,
   "metadata": {},
   "outputs": [],
   "source": [
    "from keras.models import Sequential\n",
    "from keras.layers import Embedding, LSTM, Dense\n",
    "\n",
    "model = Sequential()\n",
    "model.add(Embedding(max_num_words, embedding_dim, input_length=max_sequence_length))\n",
    "model.add(LSTM(20))\n",
    "model.add(Dense(1, activation='sigmoid'))"
   ]
  },
  {
   "cell_type": "code",
   "execution_count": 88,
   "metadata": {},
   "outputs": [],
   "source": [
    "model.layers[0].set_weights([embedding_matrix])"
   ]
  },
  {
   "cell_type": "code",
   "execution_count": 89,
   "metadata": {},
   "outputs": [
    {
     "name": "stdout",
     "output_type": "stream",
     "text": [
      "_________________________________________________________________\n",
      "Layer (type)                 Output Shape              Param #   \n",
      "=================================================================\n",
      "embedding_3 (Embedding)      (None, 200, 100)          400000    \n",
      "_________________________________________________________________\n",
      "lstm_3 (LSTM)                (None, 20)                9680      \n",
      "_________________________________________________________________\n",
      "dense_3 (Dense)              (None, 1)                 21        \n",
      "=================================================================\n",
      "Total params: 409,701\n",
      "Trainable params: 409,701\n",
      "Non-trainable params: 0\n",
      "_________________________________________________________________\n"
     ]
    }
   ],
   "source": [
    "model.compile(optimizer='adam', loss='binary_crossentropy', metrics=['acc'])\n",
    "model.summary()"
   ]
  },
  {
   "cell_type": "code",
   "execution_count": 94,
   "metadata": {},
   "outputs": [
    {
     "ename": "ValueError",
     "evalue": "Error when checking input: expected embedding_3_input to have shape (200,) but got array with shape (250,)",
     "output_type": "error",
     "traceback": [
      "\u001b[0;31m---------------------------------------------------------------------------\u001b[0m",
      "\u001b[0;31mValueError\u001b[0m                                Traceback (most recent call last)",
      "\u001b[0;32m<ipython-input-94-91d19953b8e0>\u001b[0m in \u001b[0;36m<module>\u001b[0;34m()\u001b[0m\n\u001b[0;32m----> 1\u001b[0;31m \u001b[0mhistory\u001b[0m \u001b[0;34m=\u001b[0m \u001b[0mmodel\u001b[0m\u001b[0;34m.\u001b[0m\u001b[0mfit\u001b[0m\u001b[0;34m(\u001b[0m\u001b[0mX_train\u001b[0m\u001b[0;34m,\u001b[0m \u001b[0my_train\u001b[0m\u001b[0;34m,\u001b[0m \u001b[0mepochs\u001b[0m\u001b[0;34m=\u001b[0m\u001b[0;36m5\u001b[0m\u001b[0;34m,\u001b[0m \u001b[0mbatch_size\u001b[0m\u001b[0;34m=\u001b[0m\u001b[0;36m300\u001b[0m\u001b[0;34m,\u001b[0m \u001b[0mvalidation_data\u001b[0m\u001b[0;34m=\u001b[0m\u001b[0;34m(\u001b[0m\u001b[0mX_test\u001b[0m\u001b[0;34m,\u001b[0m \u001b[0my_test\u001b[0m\u001b[0;34m)\u001b[0m\u001b[0;34m)\u001b[0m\u001b[0;34m\u001b[0m\u001b[0m\n\u001b[0m",
      "\u001b[0;32m/anaconda3/envs/dsi/lib/python3.6/site-packages/keras/models.py\u001b[0m in \u001b[0;36mfit\u001b[0;34m(self, x, y, batch_size, epochs, verbose, callbacks, validation_split, validation_data, shuffle, class_weight, sample_weight, initial_epoch, steps_per_epoch, validation_steps, **kwargs)\u001b[0m\n\u001b[1;32m   1000\u001b[0m                               \u001b[0minitial_epoch\u001b[0m\u001b[0;34m=\u001b[0m\u001b[0minitial_epoch\u001b[0m\u001b[0;34m,\u001b[0m\u001b[0;34m\u001b[0m\u001b[0m\n\u001b[1;32m   1001\u001b[0m                               \u001b[0msteps_per_epoch\u001b[0m\u001b[0;34m=\u001b[0m\u001b[0msteps_per_epoch\u001b[0m\u001b[0;34m,\u001b[0m\u001b[0;34m\u001b[0m\u001b[0m\n\u001b[0;32m-> 1002\u001b[0;31m                               validation_steps=validation_steps)\n\u001b[0m\u001b[1;32m   1003\u001b[0m \u001b[0;34m\u001b[0m\u001b[0m\n\u001b[1;32m   1004\u001b[0m     def evaluate(self, x=None, y=None,\n",
      "\u001b[0;32m/anaconda3/envs/dsi/lib/python3.6/site-packages/keras/engine/training.py\u001b[0m in \u001b[0;36mfit\u001b[0;34m(self, x, y, batch_size, epochs, verbose, callbacks, validation_split, validation_data, shuffle, class_weight, sample_weight, initial_epoch, steps_per_epoch, validation_steps, **kwargs)\u001b[0m\n\u001b[1;32m   1628\u001b[0m             \u001b[0msample_weight\u001b[0m\u001b[0;34m=\u001b[0m\u001b[0msample_weight\u001b[0m\u001b[0;34m,\u001b[0m\u001b[0;34m\u001b[0m\u001b[0m\n\u001b[1;32m   1629\u001b[0m             \u001b[0mclass_weight\u001b[0m\u001b[0;34m=\u001b[0m\u001b[0mclass_weight\u001b[0m\u001b[0;34m,\u001b[0m\u001b[0;34m\u001b[0m\u001b[0m\n\u001b[0;32m-> 1630\u001b[0;31m             batch_size=batch_size)\n\u001b[0m\u001b[1;32m   1631\u001b[0m         \u001b[0;31m# Prepare validation data.\u001b[0m\u001b[0;34m\u001b[0m\u001b[0;34m\u001b[0m\u001b[0m\n\u001b[1;32m   1632\u001b[0m         \u001b[0mdo_validation\u001b[0m \u001b[0;34m=\u001b[0m \u001b[0;32mFalse\u001b[0m\u001b[0;34m\u001b[0m\u001b[0m\n",
      "\u001b[0;32m/anaconda3/envs/dsi/lib/python3.6/site-packages/keras/engine/training.py\u001b[0m in \u001b[0;36m_standardize_user_data\u001b[0;34m(self, x, y, sample_weight, class_weight, check_array_lengths, batch_size)\u001b[0m\n\u001b[1;32m   1474\u001b[0m                                     \u001b[0mself\u001b[0m\u001b[0;34m.\u001b[0m\u001b[0m_feed_input_shapes\u001b[0m\u001b[0;34m,\u001b[0m\u001b[0;34m\u001b[0m\u001b[0m\n\u001b[1;32m   1475\u001b[0m                                     \u001b[0mcheck_batch_axis\u001b[0m\u001b[0;34m=\u001b[0m\u001b[0;32mFalse\u001b[0m\u001b[0;34m,\u001b[0m\u001b[0;34m\u001b[0m\u001b[0m\n\u001b[0;32m-> 1476\u001b[0;31m                                     exception_prefix='input')\n\u001b[0m\u001b[1;32m   1477\u001b[0m         y = _standardize_input_data(y, self._feed_output_names,\n\u001b[1;32m   1478\u001b[0m                                     \u001b[0moutput_shapes\u001b[0m\u001b[0;34m,\u001b[0m\u001b[0;34m\u001b[0m\u001b[0m\n",
      "\u001b[0;32m/anaconda3/envs/dsi/lib/python3.6/site-packages/keras/engine/training.py\u001b[0m in \u001b[0;36m_standardize_input_data\u001b[0;34m(data, names, shapes, check_batch_axis, exception_prefix)\u001b[0m\n\u001b[1;32m    121\u001b[0m                             \u001b[0;34m': expected '\u001b[0m \u001b[0;34m+\u001b[0m \u001b[0mnames\u001b[0m\u001b[0;34m[\u001b[0m\u001b[0mi\u001b[0m\u001b[0;34m]\u001b[0m \u001b[0;34m+\u001b[0m \u001b[0;34m' to have shape '\u001b[0m \u001b[0;34m+\u001b[0m\u001b[0;34m\u001b[0m\u001b[0m\n\u001b[1;32m    122\u001b[0m                             \u001b[0mstr\u001b[0m\u001b[0;34m(\u001b[0m\u001b[0mshape\u001b[0m\u001b[0;34m)\u001b[0m \u001b[0;34m+\u001b[0m \u001b[0;34m' but got array with shape '\u001b[0m \u001b[0;34m+\u001b[0m\u001b[0;34m\u001b[0m\u001b[0m\n\u001b[0;32m--> 123\u001b[0;31m                             str(data_shape))\n\u001b[0m\u001b[1;32m    124\u001b[0m     \u001b[0;32mreturn\u001b[0m \u001b[0mdata\u001b[0m\u001b[0;34m\u001b[0m\u001b[0m\n\u001b[1;32m    125\u001b[0m \u001b[0;34m\u001b[0m\u001b[0m\n",
      "\u001b[0;31mValueError\u001b[0m: Error when checking input: expected embedding_3_input to have shape (200,) but got array with shape (250,)"
     ]
    }
   ],
   "source": [
    "history = model.fit(X_train, y_train, epochs=5, batch_size=300, validation_data=(X_test, y_test))"
   ]
  },
  {
   "cell_type": "code",
   "execution_count": null,
   "metadata": {
    "scrolled": true
   },
   "outputs": [],
   "source": [
    "# What's baseline?# What's \n",
    "np.unique(y_train, return_counts=True)[1]/len(y_train)"
   ]
  },
  {
   "cell_type": "code",
   "execution_count": null,
   "metadata": {},
   "outputs": [],
   "source": [
    "X_test[0:1,:].shape"
   ]
  },
  {
   "cell_type": "code",
   "execution_count": null,
   "metadata": {},
   "outputs": [],
   "source": [
    "model.predict(X_test[0:1,:])"
   ]
  },
  {
   "cell_type": "code",
   "execution_count": null,
   "metadata": {},
   "outputs": [],
   "source": []
  },
  {
   "cell_type": "markdown",
   "metadata": {},
   "source": [
    "### body"
   ]
  },
  {
   "cell_type": "code",
   "execution_count": null,
   "metadata": {},
   "outputs": [],
   "source": [
    "from gensim.models.word2vec import Word2Vec\n",
    "model = Word2Vec(df_all['articleBody'], size=100, window=5, min_count=1, workers=4)\n",
    "body_w2v = {w: vec for w, vec in zip(model.wv.index2word, model.wv.syn0)}"
   ]
  },
  {
   "cell_type": "code",
   "execution_count": null,
   "metadata": {},
   "outputs": [],
   "source": [
    "df_body_w2v = pd.DataFrame(body_w2v)\n",
    "df_body_w2v.head()"
   ]
  },
  {
   "cell_type": "markdown",
   "metadata": {},
   "source": [
    "## Model with word2vec articleBody + headline "
   ]
  },
  {
   "cell_type": "code",
   "execution_count": null,
   "metadata": {},
   "outputs": [],
   "source": [
    "#from tabulate import tabulate\n",
    "%matplotlib inline\n",
    "import matplotlib.pyplot as plt\n",
    "import seaborn as sns\n",
    "import pandas as pd\n",
    "import numpy as np\n",
    "from gensim.models.word2vec import Word2Vec\n",
    "from collections import Counter, defaultdict\n",
    "from sklearn.feature_extraction.text import CountVectorizer\n",
    "from sklearn.feature_extraction.text import TfidfVectorizer\n",
    "from sklearn.ensemble import ExtraTreesClassifier\n",
    "from sklearn.naive_bayes import BernoulliNB, MultinomialNB\n",
    "from sklearn.pipeline import Pipeline\n",
    "from sklearn.svm import SVC\n",
    "from sklearn.metrics import accuracy_score\n",
    "from sklearn.cross_validation import cross_val_score\n",
    "from sklearn.cross_validation import StratifiedShuffleSplit\n",
    "\n",
    "# TRAIN_SET_PATH = \"20ng-no-stop.txt\"\n",
    "# TRAIN_SET_PATH = \"r52-all-terms.txt\"\n",
    "TRAIN_SET_PATH = \"r8-no-stop.txt\"\n",
    "\n",
    "GLOVE_6B_50D_PATH = \"glove.6B.50d.txt\"\n",
    "GLOVE_840B_300D_PATH = \"glove.840B.300d.txt\"\n",
    "encoding=\"utf-8\""
   ]
  },
  {
   "cell_type": "code",
   "execution_count": null,
   "metadata": {},
   "outputs": [],
   "source": [
    "ls = []\n",
    "sentences = df_glove.split(\".\")\n",
    "for i in sentences:\n",
    "    ls.append(i.split())\n",
    "model = Word2Vec(df_glove, min_count=1, size = 4)\n",
    "words = list(model.wv.vocab)\n",
    "print(words)\n",
    "vectors = []\n",
    "for word in words:\n",
    "    vectors.append(model[word].tolist())\n",
    "data = np.array(vectors)\n",
    "data"
   ]
  },
  {
   "cell_type": "code",
   "execution_count": null,
   "metadata": {},
   "outputs": [],
   "source": [
    "df_w2v_fix = pd.concat([df_body_w2v, df_w2v], axis=1)\n",
    "df_w2v_fix.head()"
   ]
  },
  {
   "cell_type": "code",
   "execution_count": null,
   "metadata": {},
   "outputs": [],
   "source": [
    "df_w2v_fix.shape"
   ]
  },
  {
   "cell_type": "code",
   "execution_count": null,
   "metadata": {},
   "outputs": [],
   "source": [
    "df_fix['Unnamed 0'].shape"
   ]
  },
  {
   "cell_type": "code",
   "execution_count": null,
   "metadata": {},
   "outputs": [],
   "source": [
    "X = df_w2v_fix\n",
    "y = df_fix['Unnamed 0'] #need to create binary for classes #predict the prob of each class and highest use as predictions\n",
    "\n",
    "X_train, X_test, y_train, y_test = train_test_split(X, y)"
   ]
  },
  {
   "cell_type": "code",
   "execution_count": null,
   "metadata": {},
   "outputs": [],
   "source": []
  },
  {
   "cell_type": "code",
   "execution_count": null,
   "metadata": {},
   "outputs": [],
   "source": []
  }
 ],
 "metadata": {
  "kernelspec": {
   "display_name": "Python [conda env:dsi]",
   "language": "python",
   "name": "conda-env-dsi-py"
  },
  "language_info": {
   "codemirror_mode": {
    "name": "ipython",
    "version": 3
   },
   "file_extension": ".py",
   "mimetype": "text/x-python",
   "name": "python",
   "nbconvert_exporter": "python",
   "pygments_lexer": "ipython3",
   "version": "3.6.5"
  }
 },
 "nbformat": 4,
 "nbformat_minor": 2
}
